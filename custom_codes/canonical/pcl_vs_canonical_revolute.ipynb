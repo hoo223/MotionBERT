{
 "cells": [
  {
   "cell_type": "code",
   "execution_count": 2,
   "metadata": {},
   "outputs": [],
   "source": [
    "import sympy as sp"
   ]
  },
  {
   "cell_type": "code",
   "execution_count": 3,
   "metadata": {},
   "outputs": [
    {
     "data": {
      "text/latex": [
       "$\\displaystyle X^{r}_{C}$"
      ],
      "text/plain": [
       "X_C^r"
      ]
     },
     "metadata": {},
     "output_type": "display_data"
    },
    {
     "data": {
      "text/latex": [
       "$\\displaystyle Y^{r}_{C}$"
      ],
      "text/plain": [
       "Y_C^r"
      ]
     },
     "metadata": {},
     "output_type": "display_data"
    },
    {
     "data": {
      "text/latex": [
       "$\\displaystyle Z^{r}_{C}$"
      ],
      "text/plain": [
       "Z_C^r"
      ]
     },
     "metadata": {},
     "output_type": "display_data"
    },
    {
     "data": {
      "text/latex": [
       "$\\displaystyle \\Delta_{x}$"
      ],
      "text/plain": [
       "\\Delta_x"
      ]
     },
     "metadata": {},
     "output_type": "display_data"
    },
    {
     "data": {
      "text/latex": [
       "$\\displaystyle \\Delta_{z}$"
      ],
      "text/plain": [
       "\\Delta_z"
      ]
     },
     "metadata": {},
     "output_type": "display_data"
    }
   ],
   "source": [
    "X_C_r = sp.symbols('X_C^r')\n",
    "Y_C_r = sp.symbols('Y_C^r')\n",
    "Z_C_r = sp.symbols('Z_C^r')\n",
    "del_x, del_z = sp.symbols('\\Delta_x \\Delta_z')\n",
    "display(X_C_r, Y_C_r, Z_C_r, del_x, del_z)"
   ]
  },
  {
   "cell_type": "code",
   "execution_count": 4,
   "metadata": {},
   "outputs": [
    {
     "data": {
      "text/latex": [
       "$\\displaystyle \\left[\\begin{matrix}X^{r}_{C}\\\\Y^{r}_{C}\\\\Z^{r}_{C}\\end{matrix}\\right]$"
      ],
      "text/plain": [
       "Matrix([\n",
       "[X_C^r],\n",
       "[Y_C^r],\n",
       "[Z_C^r]])"
      ]
     },
     "metadata": {},
     "output_type": "display_data"
    }
   ],
   "source": [
    "P_C_r = sp.Matrix([X_C_r, Y_C_r, Z_C_r])\n",
    "display(P_C_r)"
   ]
  },
  {
   "cell_type": "code",
   "execution_count": 5,
   "metadata": {},
   "outputs": [
    {
     "data": {
      "text/latex": [
       "$\\displaystyle \\left[\\begin{matrix}f_{x} & 0 & c_{x}\\\\0 & f_{y} & c_{y}\\\\0 & 0 & 1\\end{matrix}\\right]$"
      ],
      "text/plain": [
       "Matrix([\n",
       "[f_x,   0, c_x],\n",
       "[  0, f_y, c_y],\n",
       "[  0,   0,   1]])"
      ]
     },
     "metadata": {},
     "output_type": "display_data"
    },
    {
     "data": {
      "text/latex": [
       "$\\displaystyle \\left[\\begin{matrix}\\frac{1}{f_{x}} & 0 & - \\frac{c_{x}}{f_{x}}\\\\0 & \\frac{1}{f_{y}} & - \\frac{c_{y}}{f_{y}}\\\\0 & 0 & 1\\end{matrix}\\right]$"
      ],
      "text/plain": [
       "Matrix([\n",
       "[1/f_x,     0, -c_x/f_x],\n",
       "[    0, 1/f_y, -c_y/f_y],\n",
       "[    0,     0,        1]])"
      ]
     },
     "metadata": {},
     "output_type": "display_data"
    }
   ],
   "source": [
    "fx, fy, cx, cy = sp.symbols('f_x f_y c_x c_y')\n",
    "K = sp.Matrix([[fx, 0, cx], [0, fy, cy], [0, 0, 1]])\n",
    "K_inv = K.inv()\n",
    "display(K, K_inv)"
   ]
  },
  {
   "cell_type": "code",
   "execution_count": 6,
   "metadata": {},
   "outputs": [
    {
     "data": {
      "text/latex": [
       "$\\displaystyle \\left[\\begin{matrix}r_{11} & r_{12} & r_{13}\\\\r_{21} & r_{22} & r_{23}\\\\r_{31} & r_{32} & r_{33}\\end{matrix}\\right]$"
      ],
      "text/plain": [
       "Matrix([\n",
       "[r_11, r_12, r_13],\n",
       "[r_21, r_22, r_23],\n",
       "[r_31, r_32, r_33]])"
      ]
     },
     "metadata": {},
     "output_type": "display_data"
    }
   ],
   "source": [
    "r11, r12, r13, r21, r22, r23, r31, r32, r33 = sp.symbols('r_11 r_12 r_13 r_21 r_22 r_23 r_31 r_32 r_33')\n",
    "R_real2virt = sp.Matrix([[r11, r12, r13], [r21, r22, r23], [r31, r32, r33]])\n",
    "display(R_real2virt)"
   ]
  },
  {
   "cell_type": "code",
   "execution_count": 7,
   "metadata": {},
   "outputs": [
    {
     "data": {
      "text/latex": [
       "$\\displaystyle \\left[\\begin{matrix}\\frac{X^{r}_{C} f_{x}}{Z^{r}_{C}} + c_{x}\\\\\\frac{Y^{r}_{C} f_{y}}{Z^{r}_{C}} + c_{y}\\\\1\\end{matrix}\\right]$"
      ],
      "text/plain": [
       "Matrix([\n",
       "[X_C^r*f_x/Z_C^r + c_x],\n",
       "[Y_C^r*f_y/Z_C^r + c_y],\n",
       "[                    1]])"
      ]
     },
     "metadata": {},
     "output_type": "display_data"
    }
   ],
   "source": [
    "p_r = K * P_C_r\n",
    "p_r /= p_r[2]\n",
    "p_r.simplify()\n",
    "display(p_r)"
   ]
  },
  {
   "cell_type": "code",
   "execution_count": 8,
   "metadata": {},
   "outputs": [
    {
     "data": {
      "text/latex": [
       "$\\displaystyle \\left[\\begin{matrix}\\frac{X^{r}_{C}}{Z^{r}_{C}}\\\\\\frac{Y^{r}_{C}}{Z^{r}_{C}}\\\\1\\end{matrix}\\right]$"
      ],
      "text/plain": [
       "Matrix([\n",
       "[X_C^r/Z_C^r],\n",
       "[Y_C^r/Z_C^r],\n",
       "[          1]])"
      ]
     },
     "metadata": {},
     "output_type": "display_data"
    }
   ],
   "source": [
    "norm_p_r = K_inv*p_r\n",
    "norm_p_r.simplify()\n",
    "#u, v = sp.symbols('u v')\n",
    "#norm_p = sp.Matrix([u, v, 1])\n",
    "display(norm_p_r)"
   ]
  },
  {
   "cell_type": "code",
   "execution_count": 9,
   "metadata": {},
   "outputs": [
    {
     "data": {
      "text/latex": [
       "$\\displaystyle \\left[\\begin{matrix}\\frac{X^{r}_{C} \\left(c_{x} r_{31} + f_{x} r_{11}\\right) + Y^{r}_{C} \\left(c_{x} r_{32} + f_{x} r_{12}\\right) + Z^{r}_{C} \\left(c_{x} r_{33} + f_{x} r_{13}\\right)}{X^{r}_{C} r_{31} + Y^{r}_{C} r_{32} + Z^{r}_{C} r_{33}}\\\\\\frac{X^{r}_{C} \\left(c_{y} r_{31} + f_{y} r_{21}\\right) + Y^{r}_{C} \\left(c_{y} r_{32} + f_{y} r_{22}\\right) + Z^{r}_{C} \\left(c_{y} r_{33} + f_{y} r_{23}\\right)}{X^{r}_{C} r_{31} + Y^{r}_{C} r_{32} + Z^{r}_{C} r_{33}}\\\\1\\end{matrix}\\right]$"
      ],
      "text/plain": [
       "Matrix([\n",
       "[(X_C^r*(c_x*r_31 + f_x*r_11) + Y_C^r*(c_x*r_32 + f_x*r_12) + Z_C^r*(c_x*r_33 + f_x*r_13))/(X_C^r*r_31 + Y_C^r*r_32 + Z_C^r*r_33)],\n",
       "[(X_C^r*(c_y*r_31 + f_y*r_21) + Y_C^r*(c_y*r_32 + f_y*r_22) + Z_C^r*(c_y*r_33 + f_y*r_23))/(X_C^r*r_31 + Y_C^r*r_32 + Z_C^r*r_33)],\n",
       "[                                                                                                                               1]])"
      ]
     },
     "metadata": {},
     "output_type": "display_data"
    }
   ],
   "source": [
    "p_r_canonical = K * R_real2virt * P_C_r\n",
    "p_r_canonical /= p_r_canonical[2]\n",
    "p_r_canonical.simplify()\n",
    "display(p_r_canonical)"
   ]
  },
  {
   "cell_type": "code",
   "execution_count": 11,
   "metadata": {},
   "outputs": [
    {
     "data": {
      "text/latex": [
       "$\\displaystyle \\left[\\begin{matrix}\\frac{X^{r}_{C} r_{11}}{Z^{r}_{C}} + \\frac{Y^{r}_{C} r_{12}}{Z^{r}_{C}} + r_{13}\\\\\\frac{X^{r}_{C} r_{21}}{Z^{r}_{C}} + \\frac{Y^{r}_{C} r_{22}}{Z^{r}_{C}} + r_{23}\\\\\\frac{X^{r}_{C} r_{31}}{Z^{r}_{C}} + \\frac{Y^{r}_{C} r_{32}}{Z^{r}_{C}} + r_{33}\\end{matrix}\\right]$"
      ],
      "text/plain": [
       "Matrix([\n",
       "[X_C^r*r_11/Z_C^r + Y_C^r*r_12/Z_C^r + r_13],\n",
       "[X_C^r*r_21/Z_C^r + Y_C^r*r_22/Z_C^r + r_23],\n",
       "[X_C^r*r_31/Z_C^r + Y_C^r*r_32/Z_C^r + r_33]])"
      ]
     },
     "execution_count": 11,
     "metadata": {},
     "output_type": "execute_result"
    }
   ],
   "source": [
    "R_real2virt * norm_p_r"
   ]
  },
  {
   "cell_type": "code",
   "execution_count": 10,
   "metadata": {},
   "outputs": [
    {
     "data": {
      "text/latex": [
       "$\\displaystyle \\left[\\begin{matrix}\\frac{X^{r}_{C} \\left(c_{x} r_{31} + f_{x} r_{11}\\right) + Y^{r}_{C} \\left(c_{x} r_{32} + f_{x} r_{12}\\right) + Z^{r}_{C} \\left(c_{x} r_{33} + f_{x} r_{13}\\right)}{Z^{r}_{C}}\\\\\\frac{X^{r}_{C} \\left(c_{y} r_{31} + f_{y} r_{21}\\right) + Y^{r}_{C} \\left(c_{y} r_{32} + f_{y} r_{22}\\right) + Z^{r}_{C} \\left(c_{y} r_{33} + f_{y} r_{23}\\right)}{Z^{r}_{C}}\\\\\\frac{X^{r}_{C} r_{31} + Y^{r}_{C} r_{32} + Z^{r}_{C} r_{33}}{Z^{r}_{C}}\\end{matrix}\\right]$"
      ],
      "text/plain": [
       "Matrix([\n",
       "[(X_C^r*(c_x*r_31 + f_x*r_11) + Y_C^r*(c_x*r_32 + f_x*r_12) + Z_C^r*(c_x*r_33 + f_x*r_13))/Z_C^r],\n",
       "[(X_C^r*(c_y*r_31 + f_y*r_21) + Y_C^r*(c_y*r_32 + f_y*r_22) + Z_C^r*(c_y*r_33 + f_y*r_23))/Z_C^r],\n",
       "[                                                   (X_C^r*r_31 + Y_C^r*r_32 + Z_C^r*r_33)/Z_C^r]])"
      ]
     },
     "metadata": {},
     "output_type": "display_data"
    }
   ],
   "source": [
    "p_r_pcl = K * R_real2virt * norm_p_r\n",
    "#p_r_pcl /= p_r_pcl[2]\n",
    "p_r_pcl.simplify()\n",
    "display(p_r_pcl)"
   ]
  },
  {
   "cell_type": "code",
   "execution_count": 10,
   "metadata": {},
   "outputs": [
    {
     "data": {
      "text/latex": [
       "$\\displaystyle \\left[\\begin{matrix}0\\\\0\\\\0\\end{matrix}\\right]$"
      ],
      "text/plain": [
       "Matrix([\n",
       "[0],\n",
       "[0],\n",
       "[0]])"
      ]
     },
     "execution_count": 10,
     "metadata": {},
     "output_type": "execute_result"
    }
   ],
   "source": [
    "p_r_canonical - p_r_pcl"
   ]
  },
  {
   "cell_type": "code",
   "execution_count": 11,
   "metadata": {},
   "outputs": [
    {
     "data": {
      "text/latex": [
       "$\\displaystyle \\left[\\begin{matrix}X^{r}_{C} + \\Delta_{x}\\\\Y^{r}_{C}\\\\Z^{r}_{C} + \\Delta_{z}\\end{matrix}\\right]$"
      ],
      "text/plain": [
       "Matrix([\n",
       "[X_C^r + \\Delta_x],\n",
       "[           Y_C^r],\n",
       "[Z_C^r + \\Delta_z]])"
      ]
     },
     "metadata": {},
     "output_type": "display_data"
    }
   ],
   "source": [
    "X_C_i = X_C_r + del_x\n",
    "Y_C_i = Y_C_r\n",
    "Z_C_i = Z_C_r + del_z\n",
    "P_C_i = sp.Matrix([X_C_i, Y_C_i, Z_C_i])\n",
    "display(P_C_i)"
   ]
  },
  {
   "cell_type": "code",
   "execution_count": 12,
   "metadata": {},
   "outputs": [
    {
     "data": {
      "text/latex": [
       "$\\displaystyle \\left[\\begin{matrix}\\frac{c_{x} \\left(Z^{r}_{C} + \\Delta_{z}\\right) + f_{x} \\left(X^{r}_{C} + \\Delta_{x}\\right)}{Z^{r}_{C} + \\Delta_{z}}\\\\\\frac{Y^{r}_{C} f_{y} + c_{y} \\left(Z^{r}_{C} + \\Delta_{z}\\right)}{Z^{r}_{C} + \\Delta_{z}}\\\\1\\end{matrix}\\right]$"
      ],
      "text/plain": [
       "Matrix([\n",
       "[(c_x*(Z_C^r + \\Delta_z) + f_x*(X_C^r + \\Delta_x))/(Z_C^r + \\Delta_z)],\n",
       "[             (Y_C^r*f_y + c_y*(Z_C^r + \\Delta_z))/(Z_C^r + \\Delta_z)],\n",
       "[                                                                   1]])"
      ]
     },
     "metadata": {},
     "output_type": "display_data"
    }
   ],
   "source": [
    "p_i = K * P_C_i\n",
    "p_i /= p_i[2]\n",
    "p_i.simplify()\n",
    "display(p_i)"
   ]
  },
  {
   "cell_type": "code",
   "execution_count": 13,
   "metadata": {},
   "outputs": [
    {
     "data": {
      "text/latex": [
       "$\\displaystyle \\left[\\begin{matrix}\\frac{Y^{r}_{C} \\left(c_{x} r_{32} + f_{x} r_{12}\\right) + \\left(X^{r}_{C} + \\Delta_{x}\\right) \\left(c_{x} r_{31} + f_{x} r_{11}\\right) + \\left(Z^{r}_{C} + \\Delta_{z}\\right) \\left(c_{x} r_{33} + f_{x} r_{13}\\right)}{Y^{r}_{C} r_{32} + r_{31} \\left(X^{r}_{C} + \\Delta_{x}\\right) + r_{33} \\left(Z^{r}_{C} + \\Delta_{z}\\right)}\\\\\\frac{Y^{r}_{C} \\left(c_{y} r_{32} + f_{y} r_{22}\\right) + \\left(X^{r}_{C} + \\Delta_{x}\\right) \\left(c_{y} r_{31} + f_{y} r_{21}\\right) + \\left(Z^{r}_{C} + \\Delta_{z}\\right) \\left(c_{y} r_{33} + f_{y} r_{23}\\right)}{Y^{r}_{C} r_{32} + r_{31} \\left(X^{r}_{C} + \\Delta_{x}\\right) + r_{33} \\left(Z^{r}_{C} + \\Delta_{z}\\right)}\\\\1\\end{matrix}\\right]$"
      ],
      "text/plain": [
       "Matrix([\n",
       "[(Y_C^r*(c_x*r_32 + f_x*r_12) + (X_C^r + \\Delta_x)*(c_x*r_31 + f_x*r_11) + (Z_C^r + \\Delta_z)*(c_x*r_33 + f_x*r_13))/(Y_C^r*r_32 + r_31*(X_C^r + \\Delta_x) + r_33*(Z_C^r + \\Delta_z))],\n",
       "[(Y_C^r*(c_y*r_32 + f_y*r_22) + (X_C^r + \\Delta_x)*(c_y*r_31 + f_y*r_21) + (Z_C^r + \\Delta_z)*(c_y*r_33 + f_y*r_23))/(Y_C^r*r_32 + r_31*(X_C^r + \\Delta_x) + r_33*(Z_C^r + \\Delta_z))],\n",
       "[                                                                                                                                                                                   1]])"
      ]
     },
     "metadata": {},
     "output_type": "display_data"
    }
   ],
   "source": [
    "p_i_canonical = K * R_real2virt * P_C_i\n",
    "p_i_canonical /= p_i_canonical[2]\n",
    "p_i_canonical.simplify()\n",
    "display(p_i_canonical)"
   ]
  },
  {
   "cell_type": "code",
   "execution_count": null,
   "metadata": {},
   "outputs": [
    {
     "data": {
      "text/latex": [
       "$\\displaystyle \\left[\\begin{matrix}\\frac{X^{r}_{C} + \\Delta_{x}}{Z^{r}_{C} + \\Delta_{z}}\\\\\\frac{Y^{r}_{C}}{Z^{r}_{C} + \\Delta_{z}}\\\\1\\end{matrix}\\right]$"
      ],
      "text/plain": [
       "Matrix([\n",
       "[(X_C^r + \\Delta_x)/(Z_C^r + \\Delta_z)],\n",
       "[             Y_C^r/(Z_C^r + \\Delta_z)],\n",
       "[                                    1]])"
      ]
     },
     "metadata": {},
     "output_type": "display_data"
    }
   ],
   "source": [
    "norm_p_i = K_inv*p_i\n",
    "norm_p_i.simplify()\n",
    "display(norm_p_i)"
   ]
  },
  {
   "cell_type": "code",
   "execution_count": 22,
   "metadata": {},
   "outputs": [
    {
     "data": {
      "text/latex": [
       "$\\displaystyle \\left[\\begin{matrix}\\frac{Y^{r}_{C} \\left(c_{x} r_{32} + f_{x} r_{12}\\right) + \\left(X^{r}_{C} + \\Delta_{x}\\right) \\left(c_{x} r_{31} + f_{x} r_{11}\\right) + \\left(Z^{r}_{C} + \\Delta_{z}\\right) \\left(c_{x} r_{33} + f_{x} r_{13}\\right)}{Z^{r}_{C} + \\Delta_{z}}\\\\\\frac{Y^{r}_{C} \\left(c_{y} r_{32} + f_{y} r_{22}\\right) + \\left(X^{r}_{C} + \\Delta_{x}\\right) \\left(c_{y} r_{31} + f_{y} r_{21}\\right) + \\left(Z^{r}_{C} + \\Delta_{z}\\right) \\left(c_{y} r_{33} + f_{y} r_{23}\\right)}{Z^{r}_{C} + \\Delta_{z}}\\\\\\frac{Y^{r}_{C} r_{32} + r_{31} \\left(X^{r}_{C} + \\Delta_{x}\\right) + r_{33} \\left(Z^{r}_{C} + \\Delta_{z}\\right)}{Z^{r}_{C} + \\Delta_{z}}\\end{matrix}\\right]$"
      ],
      "text/plain": [
       "Matrix([\n",
       "[(Y_C^r*(c_x*r_32 + f_x*r_12) + (X_C^r + \\Delta_x)*(c_x*r_31 + f_x*r_11) + (Z_C^r + \\Delta_z)*(c_x*r_33 + f_x*r_13))/(Z_C^r + \\Delta_z)],\n",
       "[(Y_C^r*(c_y*r_32 + f_y*r_22) + (X_C^r + \\Delta_x)*(c_y*r_31 + f_y*r_21) + (Z_C^r + \\Delta_z)*(c_y*r_33 + f_y*r_23))/(Z_C^r + \\Delta_z)],\n",
       "[                                                   (Y_C^r*r_32 + r_31*(X_C^r + \\Delta_x) + r_33*(Z_C^r + \\Delta_z))/(Z_C^r + \\Delta_z)]])"
      ]
     },
     "metadata": {},
     "output_type": "display_data"
    }
   ],
   "source": [
    "p_i_pcl = K * R_real2virt * norm_p_i\n",
    "#p_i_pcl /= p_i_pcl[2]\n",
    "p_i_pcl.simplify()\n",
    "display(p_i_pcl)"
   ]
  },
  {
   "cell_type": "code",
   "execution_count": 36,
   "metadata": {},
   "outputs": [
    {
     "data": {
      "text/latex": [
       "$\\displaystyle \\frac{Y^{r}_{C} \\left(c_{x} r_{32} + f_{x} r_{12}\\right) + \\left(X^{r}_{C} + \\Delta_{x}\\right) \\left(c_{x} r_{31} + f_{x} r_{11}\\right) + \\left(Z^{r}_{C} + \\Delta_{z}\\right) \\left(c_{x} r_{33} + f_{x} r_{13}\\right)}{Y^{r}_{C} r_{32} + r_{31} \\left(X^{r}_{C} + \\Delta_{x}\\right) + r_{33} \\left(Z^{r}_{C} + \\Delta_{z}\\right)} - \\frac{Y^{r}_{C} \\left(c_{x} r_{32} + f_{x} r_{12}\\right) + \\left(X^{r}_{C} + \\Delta_{x}\\right) \\left(c_{x} r_{31} + f_{x} r_{11}\\right) + \\left(Z^{r}_{C} + \\Delta_{z}\\right) \\left(c_{x} r_{33} + f_{x} r_{13}\\right)}{Z^{r}_{C} + \\Delta_{z}}$"
      ],
      "text/plain": [
       "(Y_C^r*(c_x*r_32 + f_x*r_12) + (X_C^r + \\Delta_x)*(c_x*r_31 + f_x*r_11) + (Z_C^r + \\Delta_z)*(c_x*r_33 + f_x*r_13))/(Y_C^r*r_32 + r_31*(X_C^r + \\Delta_x) + r_33*(Z_C^r + \\Delta_z)) - (Y_C^r*(c_x*r_32 + f_x*r_12) + (X_C^r + \\Delta_x)*(c_x*r_31 + f_x*r_11) + (Z_C^r + \\Delta_z)*(c_x*r_33 + f_x*r_13))/(Z_C^r + \\Delta_z)"
      ]
     },
     "metadata": {},
     "output_type": "display_data"
    },
    {
     "data": {
      "text/latex": [
       "$\\displaystyle \\frac{Y^{r}_{C} \\left(c_{y} r_{32} + f_{y} r_{22}\\right) + \\left(X^{r}_{C} + \\Delta_{x}\\right) \\left(c_{y} r_{31} + f_{y} r_{21}\\right) + \\left(Z^{r}_{C} + \\Delta_{z}\\right) \\left(c_{y} r_{33} + f_{y} r_{23}\\right)}{Y^{r}_{C} r_{32} + r_{31} \\left(X^{r}_{C} + \\Delta_{x}\\right) + r_{33} \\left(Z^{r}_{C} + \\Delta_{z}\\right)} - \\frac{Y^{r}_{C} \\left(c_{y} r_{32} + f_{y} r_{22}\\right) + \\left(X^{r}_{C} + \\Delta_{x}\\right) \\left(c_{y} r_{31} + f_{y} r_{21}\\right) + \\left(Z^{r}_{C} + \\Delta_{z}\\right) \\left(c_{y} r_{33} + f_{y} r_{23}\\right)}{Z^{r}_{C} + \\Delta_{z}}$"
      ],
      "text/plain": [
       "(Y_C^r*(c_y*r_32 + f_y*r_22) + (X_C^r + \\Delta_x)*(c_y*r_31 + f_y*r_21) + (Z_C^r + \\Delta_z)*(c_y*r_33 + f_y*r_23))/(Y_C^r*r_32 + r_31*(X_C^r + \\Delta_x) + r_33*(Z_C^r + \\Delta_z)) - (Y_C^r*(c_y*r_32 + f_y*r_22) + (X_C^r + \\Delta_x)*(c_y*r_31 + f_y*r_21) + (Z_C^r + \\Delta_z)*(c_y*r_33 + f_y*r_23))/(Z_C^r + \\Delta_z)"
      ]
     },
     "metadata": {},
     "output_type": "display_data"
    }
   ],
   "source": [
    "display((p_i_canonical - p_i_pcl)[0])\n",
    "display((p_i_canonical - p_i_pcl)[1])"
   ]
  }
 ],
 "metadata": {
  "kernelspec": {
   "display_name": "motionbert",
   "language": "python",
   "name": "python3"
  },
  "language_info": {
   "codemirror_mode": {
    "name": "ipython",
    "version": 3
   },
   "file_extension": ".py",
   "mimetype": "text/x-python",
   "name": "python",
   "nbconvert_exporter": "python",
   "pygments_lexer": "ipython3",
   "version": "3.9.18"
  }
 },
 "nbformat": 4,
 "nbformat_minor": 2
}
