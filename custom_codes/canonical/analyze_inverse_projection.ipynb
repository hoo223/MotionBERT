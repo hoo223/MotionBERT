{
 "cells": [
  {
   "cell_type": "code",
   "execution_count": 1,
   "metadata": {},
   "outputs": [],
   "source": [
    "%load_ext autoreload\n",
    "%autoreload 2\n",
    "%matplotlib widget\n",
    "# import os, sys, getpass\n",
    "# user = getpass.getuser()\n",
    "# sys.path.append(f'/home/{user}/codes/hpe_library/')\n",
    "# from hpe_library.lib_import import *\n",
    "# from hpe_library. my_utils import *\n",
    "# os.chdir('/home/hrai/codes/MotionBERT')\n",
    "from common_import import *"
   ]
  },
  {
   "cell_type": "code",
   "execution_count": 2,
   "metadata": {},
   "outputs": [
    {
     "name": "stdout",
     "output_type": "stream",
     "text": [
      "[overwrite: False] ==> Loading 3DHP source_list...\n",
      "[overwrite: False] ==> Loading 3DHP cam_param...\n",
      "[overwrite: False] ==> Loading 3DHP cam_param-adaptive_focal...\n",
      "[overwrite: False] ==> Loading 3DHP cam_3d...\n",
      "[overwrite: False] ==> Loading 3DHP img_2d...\n",
      "[overwrite: False] ==> Loading 3DHP world_3d...\n",
      "[overwrite: False] ==> Loading 3DHP img_3d...\n",
      "[overwrite: False] ==> Loading 3DHP scale_factor...\n",
      "[overwrite: False] ==> Loading 3DHP img_25d...\n",
      "[overwrite: False] ==> Loading 3DHP cam_3d_canonical_same_z...\n",
      "[overwrite: False] ==> Loading 3DHP img_2d_canonical_same_z...\n",
      "[overwrite: False] ==> Loading 3DHP cam_3d_canonical_same_dist...\n",
      "[overwrite: False] ==> Loading 3DHP img_2d_canonical_same_dist...\n",
      "[overwrite: False] ==> Loading 3DHP cam_3d_canonical_fixed_dist_5...\n",
      "[overwrite: False] ==> Loading 3DHP img_2d_canonical_fixed_dist_5...\n"
     ]
    }
   ],
   "source": [
    "data_type_list = ['source_list', 'cam_param', 'cam_param_adaptive_focal',\n",
    "                  'cam_3d', 'img_2d', 'world_3d', \n",
    "                  'img_3d', 'scale_factor', 'img_25d', \n",
    "                  'cam_3d_canonical_same_z', 'img_2d_canonical_same_z', \n",
    "                  'cam_3d_canonical_same_dist', 'img_2d_canonical_same_dist',\n",
    "                  'cam_3d_canonical_fixed_dist_5', 'img_2d_canonical_fixed_dist_5'\n",
    "                  ]\n",
    "overwrite_list = []\n",
    "dataset_name = '3dhp'\n",
    "data_aug = default_data_aug.copy()\n",
    "data = load_data_dict(dataset_name, data_type_list, overwrite_list, verbose=True, data_aug=data_aug)"
   ]
  },
  {
   "cell_type": "code",
   "execution_count": 4,
   "metadata": {},
   "outputs": [],
   "source": [
    "# dataset_name = '3dhp'\n",
    "# overwrite_list = []\n",
    "# source_list                    = load_data(dataset_name=dataset_name, data_type='source_list', overwrite_list=overwrite_list)\n",
    "# cam_params                     = load_data(dataset_name=dataset_name, data_type='cam_param', overwrite_list=overwrite_list)\n",
    "# world_3ds                      = load_data(dataset_name=dataset_name, data_type='world_3d', overwrite_list=overwrite_list)\n",
    "# cam_3ds                        = load_data(dataset_name=dataset_name, data_type='cam_3d', overwrite_list=overwrite_list)\n",
    "# img_2ds                        = load_data(dataset_name=dataset_name, data_type='img_2d', overwrite_list=overwrite_list)\n",
    "# img_3ds                        = load_data(dataset_name=dataset_name, data_type='img_3d', overwrite_list=overwrite_list)\n",
    "# scale_factors                  = load_data(dataset_name=dataset_name, data_type='scale_factor', overwrite_list=overwrite_list)\n",
    "# img_25ds                       = load_data(dataset_name=dataset_name, data_type='img_25d', overwrite_list=overwrite_list)\n",
    "# cam_3d_canonicals_same_z       = load_data(dataset_name=dataset_name, data_type='cam_3d_canonical', canonical_type='same_z', overwrite_list=overwrite_list)\n",
    "# cam_3d_canonicals_same_dist    = load_data(dataset_name=dataset_name, data_type='cam_3d_canonical', canonical_type='same_dist', overwrite_list=overwrite_list)\n",
    "# cam_3d_canonicals_fixed_dist_5 = load_data(dataset_name=dataset_name, data_type='cam_3d_canonical', canonical_type='fixed_dist_5', overwrite_list=overwrite_list)\n",
    "# img_2d_canonicals_same_z       = load_data(dataset_name=dataset_name, data_type='img_2d_canonical', canonical_type='same_z', overwrite_list=overwrite_list)\n",
    "# img_2d_canonicals_same_dist    = load_data(dataset_name=dataset_name, data_type='img_2d_canonical', canonical_type='same_dist', overwrite_list=overwrite_list)\n",
    "# img_2d_canonicals_fixed_dist_5 = load_data(dataset_name=dataset_name, data_type='img_2d_canonical', canonical_type='fixed_dist_5', overwrite_list=overwrite_list)"
   ]
  },
  {
   "cell_type": "code",
   "execution_count": 3,
   "metadata": {},
   "outputs": [
    {
     "name": "stdout",
     "output_type": "stream",
     "text": [
      "S1 cam0 Seq1\n"
     ]
    }
   ],
   "source": [
    "source = data['source_list'][0]\n",
    "subject, cam_id, action = split_source_name(source, dataset_name)\n",
    "print(subject, cam_id, action)\n",
    "# cam param\n",
    "cam_param = data['cam_param'][subject][action][cam_id]\n",
    "W, H, intrinsic = cam_param['W'], cam_param['H'], cam_param['intrinsic']\n",
    "fx, fy, cx, cy = intrinsic[0][0], intrinsic[1][1], intrinsic[0][2], intrinsic[1][2]\n",
    "# img 2d\n",
    "img_2d = data['img_2d'][subject][action][cam_id].copy()\n",
    "img_2d_norm = normalize_input(img_2d, W, H)\n",
    "# inverse projection\n",
    "img_2d_inverse_proj = img_2d.copy()\n",
    "img_2d_inverse_proj[:, :, 0] = (img_2d_inverse_proj[:, :, 0] - cx) / fx\n",
    "img_2d_inverse_proj[:, :, 1] = (img_2d_inverse_proj[:, :, 1] - cy) / fy"
   ]
  },
  {
   "cell_type": "code",
   "execution_count": 5,
   "metadata": {},
   "outputs": [
    {
     "data": {
      "text/plain": [
       "Text(0.5, 1.0, 'Inverse projected 2D pose')"
      ]
     },
     "execution_count": 5,
     "metadata": {},
     "output_type": "execute_result"
    }
   ],
   "source": [
    "# init figure\n",
    "fig = plt.figure(0)\n",
    "fig.clear()\n",
    "ax_img_2d = axes_2d(fig, loc=121, W=W, H=H, normalize=True)\n",
    "ax_img_2d_ip = axes_2d(fig, loc=122, normalize=True)\n",
    "ax_img_2d.set_title('2D pose')\n",
    "ax_img_2d_ip.set_title('Inverse projected 2D pose')"
   ]
  },
  {
   "cell_type": "code",
   "execution_count": 6,
   "metadata": {},
   "outputs": [
    {
     "data": {
      "application/vnd.jupyter.widget-view+json": {
       "model_id": "cb6900ab7c2d4901a5f8d7030dd61088",
       "version_major": 2,
       "version_minor": 0
      },
      "image/png": "[encoded data removed]",
      "text/html": [
       "\n",
       "            <div style=\"display: inline-block;\">\n",
       "                <div class=\"jupyter-widgets widget-label\" style=\"text-align: center;\">\n",
       "                    Figure 0\n",
       "                </div>\n",
       "                <img src='data:image/png;base64,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' width=640.0/>\n",
       "            </div>\n",
       "        "
      ],
      "text/plain": [
       "Canvas(toolbar=Toolbar(toolitems=[('Home', 'Reset original view', 'home', 'home'), ('Back', 'Back to previous …"
      ]
     },
     "metadata": {},
     "output_type": "display_data"
    }
   ],
   "source": [
    "# frame example\n",
    "frame_num = 300\n",
    "clear_axes([ax_img_2d, ax_img_2d_ip])\n",
    "draw_2d_pose(ax_img_2d, img_2d_norm[frame_num], W=W, H=H, normalize=True)\n",
    "draw_2d_pose(ax_img_2d_ip, img_2d_inverse_proj[frame_num], normalize=True)\n",
    "plt.show()"
   ]
  },
  {
   "cell_type": "code",
   "execution_count": 8,
   "metadata": {},
   "outputs": [
    {
     "name": "stdout",
     "output_type": "stream",
     "text": [
      "Already exists: /home/hrai/codes/MotionBERT/videos/input/inverse_projection/3dhp/inverse_projected_2d_pose_S1_cam0_Seq1.mp4\n"
     ]
    }
   ],
   "source": [
    "# video example\n",
    "save_folder = f'/home/{user}/codes/MotionBERT/videos/input/inverse_projection/{dataset_name}'\n",
    "if not os.path.exists(save_folder): os.makedirs(save_folder)\n",
    "save_path = os.path.join(save_folder, f'inverse_projected_2d_pose_{subject}_{cam_id}_{action}.mp4')\n",
    "\n",
    "ax_pose = [(ax_img_2d, img_2d_norm), (ax_img_2d_ip, img_2d_inverse_proj)]\n",
    "generate_pose_video(fig, save_path, ax_pose, fps=5, stride=6, normalize_2d=True)"
   ]
  },
  {
   "cell_type": "code",
   "execution_count": 37,
   "metadata": {},
   "outputs": [],
   "source": [
    "source_list = data['source_list'].copy()\n",
    "random.shuffle(source_list)"
   ]
  },
  {
   "cell_type": "code",
   "execution_count": 39,
   "metadata": {},
   "outputs": [
    {
     "name": "stderr",
     "output_type": "stream",
     "text": [
      "  0%|          | 0/953 [00:00<?, ?it/s]"
     ]
    },
    {
     "name": "stderr",
     "output_type": "stream",
     "text": [
      "IMAGEIO FFMPEG_WRITER WARNING: input image is not divisible by macro_block_size=16, resizing from (1388, 702) to (1392, 704) to ensure video compatibility with most codecs and players. To prevent resizing, make your input image divisible by the macro_block_size or set the macro_block_size to 1 (risking incompatibility).\n",
      "  0%|          | 1/953 [00:00<04:16,  3.71it/s][swscaler @ 0x69b7a80] Warning: data is not aligned! This can lead to a speed loss\n",
      "100%|██████████| 953/953 [00:44<00:00, 21.24it/s]\n",
      "  0%|          | 0/1014 [00:00<?, ?it/s]IMAGEIO FFMPEG_WRITER WARNING: input image is not divisible by macro_block_size=16, resizing from (1388, 702) to (1392, 704) to ensure video compatibility with most codecs and players. To prevent resizing, make your input image divisible by the macro_block_size or set the macro_block_size to 1 (risking incompatibility).\n",
      "  0%|          | 1/1014 [00:00<04:17,  3.93it/s][swscaler @ 0x72b9a80] Warning: data is not aligned! This can lead to a speed loss\n",
      "100%|██████████| 1014/1014 [00:47<00:00, 21.55it/s]\n",
      "  0%|          | 0/1897 [00:00<?, ?it/s]IMAGEIO FFMPEG_WRITER WARNING: input image is not divisible by macro_block_size=16, resizing from (1388, 702) to (1392, 704) to ensure video compatibility with most codecs and players. To prevent resizing, make your input image divisible by the macro_block_size or set the macro_block_size to 1 (risking incompatibility).\n",
      "  0%|          | 1/1897 [00:00<08:01,  3.94it/s][swscaler @ 0x65f9a80] Warning: data is not aligned! This can lead to a speed loss\n",
      "100%|██████████| 1897/1897 [01:27<00:00, 21.72it/s]\n",
      "  0%|          | 0/1704 [00:00<?, ?it/s]IMAGEIO FFMPEG_WRITER WARNING: input image is not divisible by macro_block_size=16, resizing from (1388, 702) to (1392, 704) to ensure video compatibility with most codecs and players. To prevent resizing, make your input image divisible by the macro_block_size or set the macro_block_size to 1 (risking incompatibility).\n",
      "  0%|          | 1/1704 [00:00<07:02,  4.03it/s][swscaler @ 0x7401a80] Warning: data is not aligned! This can lead to a speed loss\n",
      "100%|██████████| 1704/1704 [01:18<00:00, 21.66it/s]\n",
      "  0%|          | 0/76 [00:00<?, ?it/s]IMAGEIO FFMPEG_WRITER WARNING: input image is not divisible by macro_block_size=16, resizing from (1388, 702) to (1392, 704) to ensure video compatibility with most codecs and players. To prevent resizing, make your input image divisible by the macro_block_size or set the macro_block_size to 1 (risking incompatibility).\n",
      "  1%|▏         | 1/76 [00:00<00:19,  3.90it/s][swscaler @ 0x6800a80] Warning: data is not aligned! This can lead to a speed loss\n",
      "100%|██████████| 76/76 [00:03<00:00, 20.48it/s]\n",
      "  0%|          | 0/1905 [00:00<?, ?it/s]IMAGEIO FFMPEG_WRITER WARNING: input image is not divisible by macro_block_size=16, resizing from (1388, 702) to (1392, 704) to ensure video compatibility with most codecs and players. To prevent resizing, make your input image divisible by the macro_block_size or set the macro_block_size to 1 (risking incompatibility).\n",
      "  0%|          | 1/1905 [00:00<08:03,  3.94it/s][swscaler @ 0x74efa80] Warning: data is not aligned! This can lead to a speed loss\n",
      "100%|██████████| 1905/1905 [01:29<00:00, 21.22it/s]\n",
      "  0%|          | 0/1029 [00:00<?, ?it/s]IMAGEIO FFMPEG_WRITER WARNING: input image is not divisible by macro_block_size=16, resizing from (1388, 702) to (1392, 704) to ensure video compatibility with most codecs and players. To prevent resizing, make your input image divisible by the macro_block_size or set the macro_block_size to 1 (risking incompatibility).\n",
      "  0%|          | 1/1029 [00:00<04:26,  3.86it/s][swscaler @ 0x743ea80] Warning: data is not aligned! This can lead to a speed loss\n",
      "100%|██████████| 1029/1029 [00:48<00:00, 21.20it/s]\n",
      "  0%|          | 0/945 [00:00<?, ?it/s]IMAGEIO FFMPEG_WRITER WARNING: input image is not divisible by macro_block_size=16, resizing from (1388, 702) to (1392, 704) to ensure video compatibility with most codecs and players. To prevent resizing, make your input image divisible by the macro_block_size or set the macro_block_size to 1 (risking incompatibility).\n",
      "  0%|          | 1/945 [00:00<04:00,  3.92it/s][swscaler @ 0x708ba80] Warning: data is not aligned! This can lead to a speed loss\n",
      "100%|██████████| 945/945 [00:44<00:00, 21.18it/s]\n",
      "  0%|          | 0/1836 [00:00<?, ?it/s]IMAGEIO FFMPEG_WRITER WARNING: input image is not divisible by macro_block_size=16, resizing from (1388, 702) to (1392, 704) to ensure video compatibility with most codecs and players. To prevent resizing, make your input image divisible by the macro_block_size or set the macro_block_size to 1 (risking incompatibility).\n",
      "  0%|          | 1/1836 [00:00<07:52,  3.89it/s][swscaler @ 0x7350a80] Warning: data is not aligned! This can lead to a speed loss\n",
      "100%|██████████| 1836/1836 [01:26<00:00, 21.30it/s]\n",
      "  0%|          | 0/1026 [00:00<?, ?it/s]IMAGEIO FFMPEG_WRITER WARNING: input image is not divisible by macro_block_size=16, resizing from (1388, 702) to (1392, 704) to ensure video compatibility with most codecs and players. To prevent resizing, make your input image divisible by the macro_block_size or set the macro_block_size to 1 (risking incompatibility).\n",
      "  0%|          | 1/1026 [00:00<04:32,  3.76it/s][swscaler @ 0x5f29a80] Warning: data is not aligned! This can lead to a speed loss\n",
      "100%|██████████| 1026/1026 [00:47<00:00, 21.77it/s]\n"
     ]
    }
   ],
   "source": [
    "save_folder = f'/home/{user}/codes/MotionBERT/videos/input/inverse_projection/{dataset_name}'\n",
    "if not os.path.exists(save_folder): os.makedirs(save_folder)\n",
    "\n",
    "for source in source_list[:10]:\n",
    "    subject, cam_id, action = split_source_name(source, dataset_name)\n",
    "    save_path = os.path.join(save_folder, f'inverse_projected_2d_pose_{subject}_{cam_id}_{action}.mp4')\n",
    "    if os.path.exists(save_path): continue\n",
    "    # cam param\n",
    "    cam_param = data['cam_param'][subject][action][cam_id]\n",
    "    W, H, intrinsic = cam_param['W'], cam_param['H'], cam_param['intrinsic']\n",
    "    fx, fy, cx, cy = intrinsic[0][0], intrinsic[1][1], intrinsic[0][2], intrinsic[1][2]\n",
    "    # img 2d\n",
    "    img_2d = data['img_2d'][subject][action][cam_id].copy()\n",
    "    img_2d_norm = normalize_input(img_2d, W, H)\n",
    "    # inverse projection\n",
    "    img_2d_inverse_proj = img_2d.copy()\n",
    "    img_2d_inverse_proj[:, :, 0] = (img_2d_inverse_proj[:, :, 0] - cx) / fx\n",
    "    img_2d_inverse_proj[:, :, 1] = (img_2d_inverse_proj[:, :, 1] - cy) / fy\n",
    "    ax_pose = [(ax_img_2d, img_2d_norm), (ax_img_2d_ip, img_2d_inverse_proj)]\n",
    "    generate_pose_video(fig, save_path, ax_pose, fps=5, stride=6, normalize_2d=True)\n",
    "    "
   ]
  },
  {
   "cell_type": "markdown",
   "metadata": {},
   "source": [
    "### H36M"
   ]
  },
  {
   "cell_type": "code",
   "execution_count": 40,
   "metadata": {},
   "outputs": [
    {
     "name": "stdout",
     "output_type": "stream",
     "text": [
      "[overwrite: False] ==> Loading H36M source_list...\n",
      "[overwrite: False] ==> Loading H36M cam_param...\n",
      "[overwrite: False] ==> Loading H36M cam_param-adaptive_focal...\n",
      "[overwrite: False] ==> Loading H36M cam_3d...\n",
      "[overwrite: False] ==> Loading H36M img_2d...\n",
      "[overwrite: False] ==> Loading H36M world_3d...\n",
      "[overwrite: False] ==> Loading H36M img_3d...\n",
      "[overwrite: False] ==> Loading H36M scale_factor...\n",
      "[overwrite: False] ==> Loading H36M img_25d...\n",
      "[overwrite: False] ==> Loading H36M cam_3d_canonical_same_z...\n",
      "[overwrite: False] ==> Loading H36M img_2d_canonical_same_z...\n",
      "[overwrite: False] ==> Loading H36M cam_3d_canonical_same_dist...\n",
      "[overwrite: False] ==> Loading H36M img_2d_canonical_same_dist...\n",
      "[overwrite: False] ==> Loading H36M cam_3d_canonical_fixed_dist_5...\n",
      "[overwrite: False] ==> Loading H36M img_2d_canonical_fixed_dist_5...\n"
     ]
    }
   ],
   "source": [
    "data_type_list = ['source_list', 'cam_param', 'cam_param_adaptive_focal',\n",
    "                  'cam_3d', 'img_2d', 'world_3d', \n",
    "                  'img_3d', 'scale_factor', 'img_25d', \n",
    "                  'cam_3d_canonical_same_z', 'img_2d_canonical_same_z', \n",
    "                  'cam_3d_canonical_same_dist', 'img_2d_canonical_same_dist',\n",
    "                  'cam_3d_canonical_fixed_dist_5', 'img_2d_canonical_fixed_dist_5'\n",
    "                  ]\n",
    "overwrite_list = []\n",
    "dataset_name = 'h36m'\n",
    "data_aug = default_data_aug.copy()\n",
    "data = load_data_dict(dataset_name, data_type_list, overwrite_list, verbose=True, data_aug=data_aug)"
   ]
  },
  {
   "cell_type": "code",
   "execution_count": 41,
   "metadata": {},
   "outputs": [
    {
     "name": "stderr",
     "output_type": "stream",
     "text": [
      "  0%|          | 0/385 [00:00<?, ?it/s]IMAGEIO FFMPEG_WRITER WARNING: input image is not divisible by macro_block_size=16, resizing from (1388, 702) to (1392, 704) to ensure video compatibility with most codecs and players. To prevent resizing, make your input image divisible by the macro_block_size or set the macro_block_size to 1 (risking incompatibility).\n",
      "  0%|          | 1/385 [00:00<02:05,  3.07it/s][swscaler @ 0x6434a80] Warning: data is not aligned! This can lead to a speed loss\n",
      "100%|██████████| 385/385 [00:18<00:00, 21.09it/s]\n",
      "  0%|          | 0/701 [00:00<?, ?it/s]IMAGEIO FFMPEG_WRITER WARNING: input image is not divisible by macro_block_size=16, resizing from (1388, 702) to (1392, 704) to ensure video compatibility with most codecs and players. To prevent resizing, make your input image divisible by the macro_block_size or set the macro_block_size to 1 (risking incompatibility).\n",
      "  0%|          | 1/701 [00:00<03:17,  3.54it/s][swscaler @ 0x7181a80] Warning: data is not aligned! This can lead to a speed loss\n",
      "100%|██████████| 701/701 [00:32<00:00, 21.54it/s]\n",
      "  0%|          | 0/310 [00:00<?, ?it/s]IMAGEIO FFMPEG_WRITER WARNING: input image is not divisible by macro_block_size=16, resizing from (1388, 702) to (1392, 704) to ensure video compatibility with most codecs and players. To prevent resizing, make your input image divisible by the macro_block_size or set the macro_block_size to 1 (risking incompatibility).\n",
      "  0%|          | 1/310 [00:00<01:30,  3.42it/s][swscaler @ 0x5fb2a80] Warning: data is not aligned! This can lead to a speed loss\n",
      "100%|██████████| 310/310 [00:14<00:00, 21.34it/s]\n",
      "  0%|          | 0/1015 [00:00<?, ?it/s]IMAGEIO FFMPEG_WRITER WARNING: input image is not divisible by macro_block_size=16, resizing from (1388, 702) to (1392, 704) to ensure video compatibility with most codecs and players. To prevent resizing, make your input image divisible by the macro_block_size or set the macro_block_size to 1 (risking incompatibility).\n",
      "  0%|          | 1/1015 [00:00<04:45,  3.55it/s][swscaler @ 0x5bc7a80] Warning: data is not aligned! This can lead to a speed loss\n",
      "100%|██████████| 1015/1015 [00:47<00:00, 21.55it/s]\n",
      "  0%|          | 0/449 [00:00<?, ?it/s]IMAGEIO FFMPEG_WRITER WARNING: input image is not divisible by macro_block_size=16, resizing from (1388, 702) to (1392, 704) to ensure video compatibility with most codecs and players. To prevent resizing, make your input image divisible by the macro_block_size or set the macro_block_size to 1 (risking incompatibility).\n",
      "  0%|          | 1/449 [00:00<02:11,  3.40it/s][swscaler @ 0x6ff2a80] Warning: data is not aligned! This can lead to a speed loss\n",
      "100%|██████████| 449/449 [00:21<00:00, 21.01it/s]\n",
      "  0%|          | 0/270 [00:00<?, ?it/s]IMAGEIO FFMPEG_WRITER WARNING: input image is not divisible by macro_block_size=16, resizing from (1388, 702) to (1392, 704) to ensure video compatibility with most codecs and players. To prevent resizing, make your input image divisible by the macro_block_size or set the macro_block_size to 1 (risking incompatibility).\n",
      "  0%|          | 1/270 [00:00<01:18,  3.42it/s][swscaler @ 0x6a69a80] Warning: data is not aligned! This can lead to a speed loss\n",
      "100%|██████████| 270/270 [00:12<00:00, 21.30it/s]\n",
      "  0%|          | 0/269 [00:00<?, ?it/s]IMAGEIO FFMPEG_WRITER WARNING: input image is not divisible by macro_block_size=16, resizing from (1388, 702) to (1392, 704) to ensure video compatibility with most codecs and players. To prevent resizing, make your input image divisible by the macro_block_size or set the macro_block_size to 1 (risking incompatibility).\n",
      "  0%|          | 1/269 [00:00<01:18,  3.40it/s][swscaler @ 0x5f6da80] Warning: data is not aligned! This can lead to a speed loss\n",
      "100%|██████████| 269/269 [00:12<00:00, 21.39it/s]\n",
      "  0%|          | 0/759 [00:00<?, ?it/s]IMAGEIO FFMPEG_WRITER WARNING: input image is not divisible by macro_block_size=16, resizing from (1388, 702) to (1392, 704) to ensure video compatibility with most codecs and players. To prevent resizing, make your input image divisible by the macro_block_size or set the macro_block_size to 1 (risking incompatibility).\n",
      "  0%|          | 1/759 [00:00<03:34,  3.54it/s][swscaler @ 0x5593a80] Warning: data is not aligned! This can lead to a speed loss\n",
      "100%|██████████| 759/759 [00:35<00:00, 21.67it/s]\n",
      "  0%|          | 0/580 [00:00<?, ?it/s]IMAGEIO FFMPEG_WRITER WARNING: input image is not divisible by macro_block_size=16, resizing from (1388, 702) to (1392, 704) to ensure video compatibility with most codecs and players. To prevent resizing, make your input image divisible by the macro_block_size or set the macro_block_size to 1 (risking incompatibility).\n",
      "  0%|          | 1/580 [00:00<02:53,  3.34it/s][swscaler @ 0x6e57a80] Warning: data is not aligned! This can lead to a speed loss\n",
      "100%|██████████| 580/580 [00:27<00:00, 21.48it/s]\n",
      "  0%|          | 0/812 [00:00<?, ?it/s]IMAGEIO FFMPEG_WRITER WARNING: input image is not divisible by macro_block_size=16, resizing from (1388, 702) to (1392, 704) to ensure video compatibility with most codecs and players. To prevent resizing, make your input image divisible by the macro_block_size or set the macro_block_size to 1 (risking incompatibility).\n",
      "  0%|          | 1/812 [00:00<04:00,  3.38it/s][swscaler @ 0x5d5ba80] Warning: data is not aligned! This can lead to a speed loss\n",
      "100%|██████████| 812/812 [00:37<00:00, 21.40it/s]\n"
     ]
    }
   ],
   "source": [
    "source_list = data['source_list'].copy()\n",
    "random.shuffle(source_list)\n",
    "save_folder = f'/home/{user}/codes/MotionBERT/videos/input/{dataset_name}/inverse_projection'\n",
    "if not os.path.exists(save_folder): os.makedirs(save_folder)\n",
    "\n",
    "for source in source_list[:10]:\n",
    "    subject, cam_id, action = split_source_name(source, dataset_name)\n",
    "    save_path = os.path.join(save_folder, f'inverse_projected_2d_pose_{subject}_{cam_id}_{action}.mp4')\n",
    "    if os.path.exists(save_path): continue\n",
    "    # cam param\n",
    "    cam_param = data['cam_param'][subject][action][cam_id]\n",
    "    W, H, intrinsic = cam_param['W'], cam_param['H'], cam_param['intrinsic']\n",
    "    fx, fy, cx, cy = intrinsic[0][0], intrinsic[1][1], intrinsic[0][2], intrinsic[1][2]\n",
    "    # img 2d\n",
    "    img_2d = data['img_2d'][subject][action][cam_id].copy()\n",
    "    img_2d_norm = normalize_input(img_2d, W, H)\n",
    "    # inverse projection\n",
    "    img_2d_inverse_proj = img_2d.copy()\n",
    "    img_2d_inverse_proj[:, :, 0] = (img_2d_inverse_proj[:, :, 0] - cx) / fx\n",
    "    img_2d_inverse_proj[:, :, 1] = (img_2d_inverse_proj[:, :, 1] - cy) / fy\n",
    "    ax_pose = [(ax_img_2d, img_2d_norm), (ax_img_2d_ip, img_2d_inverse_proj)]\n",
    "    generate_pose_video(fig, save_path, ax_pose, fps=5, stride=6, normalize_2d=True)\n",
    "    "
   ]
  },
  {
   "cell_type": "markdown",
   "metadata": {},
   "source": [
    "### Fit3D"
   ]
  },
  {
   "cell_type": "code",
   "execution_count": null,
   "metadata": {},
   "outputs": [],
   "source": [
    "data_type_list = ['source_list', 'cam_param', 'cam_param_adaptive_focal',\n",
    "                  'cam_3d', 'img_2d', 'world_3d', \n",
    "                  'img_3d', 'scale_factor', 'img_25d', \n",
    "                  'cam_3d_canonical_same_z', 'img_2d_canonical_same_z', \n",
    "                  'cam_3d_canonical_same_dist', 'img_2d_canonical_same_dist',\n",
    "                  'cam_3d_canonical_fixed_dist_5', 'img_2d_canonical_fixed_dist_5'\n",
    "                  ]\n",
    "overwrite_list = []\n",
    "dataset_name = 'fit3d'\n",
    "data_aug = default_data_aug.copy()\n",
    "data = load_data_dict(dataset_name, data_type_list, overwrite_list, verbose=True, data_aug=data_aug)"
   ]
  },
  {
   "cell_type": "code",
   "execution_count": null,
   "metadata": {},
   "outputs": [],
   "source": [
    "source_list = data['source_list'].copy()\n",
    "random.shuffle(source_list)\n",
    "save_folder = f'/home/{user}/codes/MotionBERT/videos/input/{dataset_name}/inverse_projection'\n",
    "if not os.path.exists(save_folder): os.makedirs(save_folder)\n",
    "\n",
    "for source in source_list[:10]:\n",
    "    subject, cam_id, action = split_source_name(source, dataset_name)\n",
    "    save_path = os.path.join(save_folder, f'inverse_projected_2d_pose_{subject}_{cam_id}_{action}.mp4')\n",
    "    if os.path.exists(save_path): continue\n",
    "    # cam param\n",
    "    cam_param = data['cam_param'][subject][action][cam_id]\n",
    "    W, H, intrinsic = cam_param['W'], cam_param['H'], cam_param['intrinsic']\n",
    "    fx, fy, cx, cy = intrinsic[0][0], intrinsic[1][1], intrinsic[0][2], intrinsic[1][2]\n",
    "    # img 2d\n",
    "    img_2d = data['img_2d'][subject][action][cam_id].copy()\n",
    "    img_2d_norm = normalize_input(img_2d, W, H)\n",
    "    # inverse projection\n",
    "    img_2d_inverse_proj = img_2d.copy()\n",
    "    img_2d_inverse_proj[:, :, 0] = (img_2d_inverse_proj[:, :, 0] - cx) / fx\n",
    "    img_2d_inverse_proj[:, :, 1] = (img_2d_inverse_proj[:, :, 1] - cy) / fy\n",
    "    ax_pose = [(ax_img_2d, img_2d_norm), (ax_img_2d_ip, img_2d_inverse_proj)]\n",
    "    generate_pose_video(fig, save_path, ax_pose, fps=5, stride=6, normalize_2d=True)\n",
    "    "
   ]
  }
 ],
 "metadata": {
  "kernelspec": {
   "display_name": "motionbert",
   "language": "python",
   "name": "python3"
  },
  "language_info": {
   "codemirror_mode": {
    "name": "ipython",
    "version": 3
   },
   "file_extension": ".py",
   "mimetype": "text/x-python",
   "name": "python",
   "nbconvert_exporter": "python",
   "pygments_lexer": "ipython3",
   "version": "3.9.18"
  }
 },
 "nbformat": 4,
 "nbformat_minor": 2
}
