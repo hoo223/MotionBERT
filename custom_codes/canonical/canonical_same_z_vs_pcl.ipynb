{
 "cells": [
  {
   "cell_type": "code",
   "execution_count": 2,
   "metadata": {},
   "outputs": [],
   "source": [
    "%load_ext autoreload\n",
    "%autoreload 2\n",
    "%matplotlib widget\n",
    "from common_import import *\n",
    "import sympy as sp\n"
   ]
  },
  {
   "cell_type": "code",
   "execution_count": 3,
   "metadata": {},
   "outputs": [
    {
     "data": {
      "text/latex": [
       "$\\displaystyle \\left[\\begin{matrix}f_{x} s_{x} & f_{y} k_{x} & c_{x} s_{x} + c_{y} k_{x} + t_{x}\\\\f_{x} k_{y} & f_{y} s_{y} & c_{x} k_{y} + c_{y} s_{y} + t_{y}\\\\0 & 0 & 1\\end{matrix}\\right]$"
      ],
      "text/plain": [
       "Matrix([\n",
       "[f_x*s_x, f_y*k_x, c_x*s_x + c_y*k_x + t_x],\n",
       "[f_x*k_y, f_y*s_y, c_x*k_y + c_y*s_y + t_y],\n",
       "[      0,       0,                       1]])"
      ]
     },
     "execution_count": 3,
     "metadata": {},
     "output_type": "execute_result"
    }
   ],
   "source": [
    "# Define the intrinsic matrix\n",
    "fx, fy, cx, cy = sp.symbols('f_x f_y c_x c_y')\n",
    "K = sp.Matrix([[fx, 0, cx],\n",
    "               [0, fy, cy],\n",
    "               [0,  0,  1]])\n",
    "\n",
    "sx, sy, kx, ky, tx, ty = sp.symbols('s_x s_y k_x k_y t_x t_y')\n",
    "C = sp.Matrix([[sx, kx, tx],\n",
    "               [ky, sy, ty],\n",
    "               [0,  0,  1]])\n",
    "\n",
    "C*K"
   ]
  },
  {
   "cell_type": "code",
   "execution_count": null,
   "metadata": {},
   "outputs": [
    {
     "data": {
      "text/latex": [
       "$\\displaystyle \\left[\\begin{matrix}\\frac{p_{x}^{2} p_{y}^{2} + p_{y}^{4} + p_{y}^{2} + \\sqrt{p_{x}^{2} + 1} \\sqrt{p_{x}^{2} + p_{y}^{2} + 1} \\sqrt{p_{x}^{4} + p_{x}^{2} p_{y}^{2} + 2 p_{x}^{2} + p_{y}^{2} + 1}}{p_{x}^{2} p_{y}^{2} \\sqrt{p_{x}^{2} + 1} + p_{x}^{2} \\sqrt{p_{x}^{2} + p_{y}^{2} + 1} \\sqrt{p_{x}^{4} + p_{x}^{2} p_{y}^{2} + 2 p_{x}^{2} + p_{y}^{2} + 1} + p_{y}^{4} \\sqrt{p_{x}^{2} + 1} + p_{y}^{2} \\sqrt{p_{x}^{2} + 1} + \\sqrt{p_{x}^{2} + p_{y}^{2} + 1} \\sqrt{p_{x}^{4} + p_{x}^{2} p_{y}^{2} + 2 p_{x}^{2} + p_{y}^{2} + 1}} & 0 & \\frac{p_{x} \\left(- p_{x}^{2} p_{y}^{2} - p_{y}^{4} - p_{y}^{2} - \\sqrt{p_{x}^{2} + 1} \\sqrt{p_{x}^{2} + p_{y}^{2} + 1} \\sqrt{p_{x}^{4} + p_{x}^{2} p_{y}^{2} + 2 p_{x}^{2} + p_{y}^{2} + 1}\\right)}{p_{x}^{2} p_{y}^{2} \\sqrt{p_{x}^{2} + 1} + p_{x}^{2} \\sqrt{p_{x}^{2} + p_{y}^{2} + 1} \\sqrt{p_{x}^{4} + p_{x}^{2} p_{y}^{2} + 2 p_{x}^{2} + p_{y}^{2} + 1} + p_{y}^{4} \\sqrt{p_{x}^{2} + 1} + p_{y}^{2} \\sqrt{p_{x}^{2} + 1} + \\sqrt{p_{x}^{2} + p_{y}^{2} + 1} \\sqrt{p_{x}^{4} + p_{x}^{2} p_{y}^{2} + 2 p_{x}^{2} + p_{y}^{2} + 1}}\\\\\\frac{p_{x} p_{y} \\left(- p_{x}^{2} - p_{y}^{2} - 1\\right) \\sqrt{p_{x}^{4} + p_{x}^{2} p_{y}^{2} + 2 p_{x}^{2} + p_{y}^{2} + 1}}{p_{x}^{4} p_{y}^{2} + p_{x}^{2} p_{y}^{4} + 2 p_{x}^{2} p_{y}^{2} + p_{x}^{2} \\sqrt{p_{x}^{2} + 1} \\sqrt{p_{x}^{2} + p_{y}^{2} + 1} \\sqrt{p_{x}^{4} + p_{x}^{2} p_{y}^{2} + 2 p_{x}^{2} + p_{y}^{2} + 1} + p_{y}^{4} + p_{y}^{2} + \\sqrt{p_{x}^{2} + 1} \\sqrt{p_{x}^{2} + p_{y}^{2} + 1} \\sqrt{p_{x}^{4} + p_{x}^{2} p_{y}^{2} + 2 p_{x}^{2} + p_{y}^{2} + 1}} & \\frac{\\left(p_{x}^{2} + p_{y}^{2} + 1\\right) \\sqrt{p_{x}^{4} + p_{x}^{2} p_{y}^{2} + 2 p_{x}^{2} + p_{y}^{2} + 1}}{p_{x}^{2} p_{y}^{2} + p_{y}^{4} + p_{y}^{2} + \\sqrt{p_{x}^{2} + 1} \\sqrt{p_{x}^{2} + p_{y}^{2} + 1} \\sqrt{p_{x}^{4} + p_{x}^{2} p_{y}^{2} + 2 p_{x}^{2} + p_{y}^{2} + 1}} & \\frac{p_{y} \\left(- p_{x}^{2} - p_{y}^{2} - 1\\right) \\sqrt{p_{x}^{4} + p_{x}^{2} p_{y}^{2} + 2 p_{x}^{2} + p_{y}^{2} + 1}}{p_{x}^{4} p_{y}^{2} + p_{x}^{2} p_{y}^{4} + 2 p_{x}^{2} p_{y}^{2} + p_{x}^{2} \\sqrt{p_{x}^{2} + 1} \\sqrt{p_{x}^{2} + p_{y}^{2} + 1} \\sqrt{p_{x}^{4} + p_{x}^{2} p_{y}^{2} + 2 p_{x}^{2} + p_{y}^{2} + 1} + p_{y}^{4} + p_{y}^{2} + \\sqrt{p_{x}^{2} + 1} \\sqrt{p_{x}^{2} + p_{y}^{2} + 1} \\sqrt{p_{x}^{4} + p_{x}^{2} p_{y}^{2} + 2 p_{x}^{2} + p_{y}^{2} + 1}}\\\\\\frac{p_{x} \\sqrt{p_{x}^{2} + p_{y}^{2} + 1} \\sqrt{p_{x}^{4} + p_{x}^{2} p_{y}^{2} + 2 p_{x}^{2} + p_{y}^{2} + 1}}{p_{x}^{2} \\sqrt{p_{x}^{4} + p_{x}^{2} p_{y}^{2} + 2 p_{x}^{2} + p_{y}^{2} + 1} + p_{y}^{2} \\sqrt{p_{x}^{2} + 1} \\sqrt{p_{x}^{2} + p_{y}^{2} + 1} + \\sqrt{p_{x}^{4} + p_{x}^{2} p_{y}^{2} + 2 p_{x}^{2} + p_{y}^{2} + 1}} & \\frac{p_{y} \\sqrt{p_{x}^{2} + 1} \\sqrt{p_{x}^{2} + p_{y}^{2} + 1} \\sqrt{p_{x}^{4} + p_{x}^{2} p_{y}^{2} + 2 p_{x}^{2} + p_{y}^{2} + 1}}{p_{x}^{4} \\sqrt{p_{x}^{2} + p_{y}^{2} + 1} + 2 p_{x}^{2} \\sqrt{p_{x}^{2} + p_{y}^{2} + 1} + p_{y}^{2} \\sqrt{p_{x}^{2} + 1} \\sqrt{p_{x}^{4} + p_{x}^{2} p_{y}^{2} + 2 p_{x}^{2} + p_{y}^{2} + 1} + \\sqrt{p_{x}^{2} + p_{y}^{2} + 1}} & \\frac{\\sqrt{p_{x}^{2} + p_{y}^{2} + 1} \\sqrt{p_{x}^{4} + p_{x}^{2} p_{y}^{2} + 2 p_{x}^{2} + p_{y}^{2} + 1}}{p_{x}^{2} \\sqrt{p_{x}^{4} + p_{x}^{2} p_{y}^{2} + 2 p_{x}^{2} + p_{y}^{2} + 1} + p_{y}^{2} \\sqrt{p_{x}^{2} + 1} \\sqrt{p_{x}^{2} + p_{y}^{2} + 1} + \\sqrt{p_{x}^{4} + p_{x}^{2} p_{y}^{2} + 2 p_{x}^{2} + p_{y}^{2} + 1}}\\end{matrix}\\right]$"
      ],
      "text/plain": [
       "Matrix([\n",
       "[(p_x**2*p_y**2 + p_y**4 + p_y**2 + sqrt(p_x**2 + 1)*sqrt(p_x**2 + p_y**2 + 1)*sqrt(p_x**4 + p_x**2*p_y**2 + 2*p_x**2 + p_y**2 + 1))/(p_x**2*p_y**2*sqrt(p_x**2 + 1) + p_x**2*sqrt(p_x**2 + p_y**2 + 1)*sqrt(p_x**4 + p_x**2*p_y**2 + 2*p_x**2 + p_y**2 + 1) + p_y**4*sqrt(p_x**2 + 1) + p_y**2*sqrt(p_x**2 + 1) + sqrt(p_x**2 + p_y**2 + 1)*sqrt(p_x**4 + p_x**2*p_y**2 + 2*p_x**2 + p_y**2 + 1)),                                                                                                                                                                                                                                                                                      0, p_x*(-p_x**2*p_y**2 - p_y**4 - p_y**2 - sqrt(p_x**2 + 1)*sqrt(p_x**2 + p_y**2 + 1)*sqrt(p_x**4 + p_x**2*p_y**2 + 2*p_x**2 + p_y**2 + 1))/(p_x**2*p_y**2*sqrt(p_x**2 + 1) + p_x**2*sqrt(p_x**2 + p_y**2 + 1)*sqrt(p_x**4 + p_x**2*p_y**2 + 2*p_x**2 + p_y**2 + 1) + p_y**4*sqrt(p_x**2 + 1) + p_y**2*sqrt(p_x**2 + 1) + sqrt(p_x**2 + p_y**2 + 1)*sqrt(p_x**4 + p_x**2*p_y**2 + 2*p_x**2 + p_y**2 + 1))],\n",
       "[                               p_x*p_y*(-p_x**2 - p_y**2 - 1)*sqrt(p_x**4 + p_x**2*p_y**2 + 2*p_x**2 + p_y**2 + 1)/(p_x**4*p_y**2 + p_x**2*p_y**4 + 2*p_x**2*p_y**2 + p_x**2*sqrt(p_x**2 + 1)*sqrt(p_x**2 + p_y**2 + 1)*sqrt(p_x**4 + p_x**2*p_y**2 + 2*p_x**2 + p_y**2 + 1) + p_y**4 + p_y**2 + sqrt(p_x**2 + 1)*sqrt(p_x**2 + p_y**2 + 1)*sqrt(p_x**4 + p_x**2*p_y**2 + 2*p_x**2 + p_y**2 + 1)),                                                                         (p_x**2 + p_y**2 + 1)*sqrt(p_x**4 + p_x**2*p_y**2 + 2*p_x**2 + p_y**2 + 1)/(p_x**2*p_y**2 + p_y**4 + p_y**2 + sqrt(p_x**2 + 1)*sqrt(p_x**2 + p_y**2 + 1)*sqrt(p_x**4 + p_x**2*p_y**2 + 2*p_x**2 + p_y**2 + 1)),                                         p_y*(-p_x**2 - p_y**2 - 1)*sqrt(p_x**4 + p_x**2*p_y**2 + 2*p_x**2 + p_y**2 + 1)/(p_x**4*p_y**2 + p_x**2*p_y**4 + 2*p_x**2*p_y**2 + p_x**2*sqrt(p_x**2 + 1)*sqrt(p_x**2 + p_y**2 + 1)*sqrt(p_x**4 + p_x**2*p_y**2 + 2*p_x**2 + p_y**2 + 1) + p_y**4 + p_y**2 + sqrt(p_x**2 + 1)*sqrt(p_x**2 + p_y**2 + 1)*sqrt(p_x**4 + p_x**2*p_y**2 + 2*p_x**2 + p_y**2 + 1))],\n",
       "[                                                                                                                                      p_x*sqrt(p_x**2 + p_y**2 + 1)*sqrt(p_x**4 + p_x**2*p_y**2 + 2*p_x**2 + p_y**2 + 1)/(p_x**2*sqrt(p_x**4 + p_x**2*p_y**2 + 2*p_x**2 + p_y**2 + 1) + p_y**2*sqrt(p_x**2 + 1)*sqrt(p_x**2 + p_y**2 + 1) + sqrt(p_x**4 + p_x**2*p_y**2 + 2*p_x**2 + p_y**2 + 1)), p_y*sqrt(p_x**2 + 1)*sqrt(p_x**2 + p_y**2 + 1)*sqrt(p_x**4 + p_x**2*p_y**2 + 2*p_x**2 + p_y**2 + 1)/(p_x**4*sqrt(p_x**2 + p_y**2 + 1) + 2*p_x**2*sqrt(p_x**2 + p_y**2 + 1) + p_y**2*sqrt(p_x**2 + 1)*sqrt(p_x**4 + p_x**2*p_y**2 + 2*p_x**2 + p_y**2 + 1) + sqrt(p_x**2 + p_y**2 + 1)),                                                                                                                                                sqrt(p_x**2 + p_y**2 + 1)*sqrt(p_x**4 + p_x**2*p_y**2 + 2*p_x**2 + p_y**2 + 1)/(p_x**2*sqrt(p_x**4 + p_x**2*p_y**2 + 2*p_x**2 + p_y**2 + 1) + p_y**2*sqrt(p_x**2 + 1)*sqrt(p_x**2 + p_y**2 + 1) + sqrt(p_x**4 + p_x**2*p_y**2 + 2*p_x**2 + p_y**2 + 1))]])"
      ]
     },
     "execution_count": 3,
     "metadata": {},
     "output_type": "execute_result"
    }
   ],
   "source": [
    "\n",
    "# Define the symbols for the intrinsic matrix elements\n",
    "fx, fy, cx, cy = sp.symbols('fx fy cx cy')\n",
    "px, py = sp.symbols('p_x p_y')\n",
    "# p, P_C = sp.symbols('p P_C')\n",
    "X_C, Y_C, Z_C = sp.symbols('X_C Y_C Z_C')\n",
    "\n",
    "# Define the intrinsic matrix\n",
    "K = sp.Matrix([[fx, 0, cx],\n",
    "                   [0, fy, cy],\n",
    "                   [0,  0,  1]])\n",
    "# pelvis point in camera frame\n",
    "P_C = sp.Matrix([[X_C], [Y_C], [Z_C]])\n",
    "\n",
    "# pelvis point in image frame\n",
    "P_I = K*P_C\n",
    "P_I = P_I/P_I[2]\n",
    "\n",
    "# Compute the inverse of the intrinsic matrix\n",
    "K_inv = K.inv()\n",
    "\n",
    "# backprojected point p\n",
    "p = sp.simplify(K_inv*P_I)\n",
    "#px = p[0]\n",
    "#py = p[1]\n",
    "\n",
    "# # Rotation matrix from original to virtual camera\n",
    "# r11 = sp.simplify(sp.sqrt(1+px**2))\n",
    "# r12 = -X_C*Y_C / sp.sqrt((X_C**2+Z_C**2)*(X_C**2+Y_C**2+Z_C**2)) # sp.simplify(-px*py / sp.sqrt((1+px**2+py**2)*(1+px**2)))\n",
    "# r13 = X_C / sp.sqrt(X_C**2+Y_C**2+Z_C**2) # sp.simplify(px / sp.sqrt(1+px**2+py**2))\n",
    "# r21 = 0\n",
    "# r22 = sp.sqrt(X_C**2+Z_C**2) / sp.sqrt(X_C**2+Y_C**2+Z_C**2) # sp.simplify(sp.sqrt(1+px**2) / sp.sqrt(1+px**2+py**2))\n",
    "# r23 = Y_C / sp.sqrt(X_C**2+Y_C**2+Z_C**2) # sp.simplify(py / sp.sqrt(1+px**2+py**2))\n",
    "# r31 = - X_C / sp.sqrt(X_C**2 + Z_C**2) # -px / sp.sqrt(1+px**2)\n",
    "# r32 = Y_C * Z_C / sp.sqrt((X_C**2+Z_C**2)*(X_C**2+Y_C**2+Z_C**2)) # -py / sp.sqrt((1+px**2+py**2)*(1+px**2))\n",
    "# r33 = Z_C / sp.sqrt(X_C**2+Y_C**2+Z_C**2) # sp.simplify(1 / sp.sqrt(1+px**2+py**2))\n",
    "\n",
    "r11 = 1 / sp.sqrt(1 + px**2)\n",
    "r12 = -px * py / sp.sqrt((1 + px**2) * (1 + px**2 + py**2))\n",
    "r13 = px / sp.sqrt(1 + px**2 + py**2)\n",
    "r21 = 0\n",
    "r22 = sp.sqrt(1 + px**2) / sp.sqrt(1 + px**2 + py**2)\n",
    "r23 = py / sp.sqrt(1 + px**2 + py**2)\n",
    "r31 = -px / sp.sqrt(1 + px**2)\n",
    "r32 = -py / sp.sqrt((1 + px**2) * (1 + px**2 + py**2))\n",
    "r33 = 1 / sp.sqrt(1 + px**2 + py**2)\n",
    "\n",
    "R_v_to_r = sp.simplify(sp.Matrix([\n",
    "    [r11, r12, r13],\n",
    "    [r21, r22, r23],\n",
    "    [r31, r32, r33]\n",
    "]))\n",
    "R_v_to_r.simplify()\n",
    "R_v_to_r_inv = R_v_to_r.inv().simplify()\n",
    "R_v_to_r_inv"
   ]
  },
  {
   "cell_type": "code",
   "execution_count": 8,
   "metadata": {},
   "outputs": [
    {
     "data": {
      "text/latex": [
       "$\\displaystyle \\left[\\begin{matrix}\\frac{X_{C}}{Z_{C}}\\\\\\frac{Y_{C}}{Z_{C}}\\\\1\\end{matrix}\\right]$"
      ],
      "text/plain": [
       "Matrix([\n",
       "[X_C/Z_C],\n",
       "[Y_C/Z_C],\n",
       "[      1]])"
      ]
     },
     "execution_count": 8,
     "metadata": {},
     "output_type": "execute_result"
    }
   ],
   "source": [
    "p"
   ]
  },
  {
   "cell_type": "code",
   "execution_count": 4,
   "metadata": {},
   "outputs": [
    {
     "data": {
      "text/latex": [
       "$\\displaystyle \\left[\\begin{matrix}\\frac{1}{fx} & 0 & - \\frac{cx}{fx}\\\\0 & \\frac{1}{fy} & - \\frac{cy}{fy}\\\\0 & 0 & 1\\end{matrix}\\right]$"
      ],
      "text/plain": [
       "Matrix([\n",
       "[1/fx,    0, -cx/fx],\n",
       "[   0, 1/fy, -cy/fy],\n",
       "[   0,    0,      1]])"
      ]
     },
     "execution_count": 4,
     "metadata": {},
     "output_type": "execute_result"
    }
   ],
   "source": [
    "K_inv\n"
   ]
  }
 ],
 "metadata": {
  "kernelspec": {
   "display_name": "motionbert",
   "language": "python",
   "name": "python3"
  },
  "language_info": {
   "codemirror_mode": {
    "name": "ipython",
    "version": 3
   },
   "file_extension": ".py",
   "mimetype": "text/x-python",
   "name": "python",
   "nbconvert_exporter": "python",
   "pygments_lexer": "ipython3",
   "version": "3.9.18"
  }
 },
 "nbformat": 4,
 "nbformat_minor": 2
}
