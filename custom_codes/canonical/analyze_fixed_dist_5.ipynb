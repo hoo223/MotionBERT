{
 "cells": [
  {
   "cell_type": "code",
   "execution_count": 1,
   "metadata": {},
   "outputs": [],
   "source": [
    "%load_ext autoreload\n",
    "%autoreload 2\n",
    "%matplotlib widget\n",
    "import os, sys, getpass\n",
    "user = getpass.getuser()\n",
    "sys.path.append(f'/home/{user}/codes/hpe_library/')\n",
    "from lib_import import *\n",
    "from my_utils import *\n",
    "os.chdir('/home/hrai/codes/MotionBERT')"
   ]
  },
  {
   "cell_type": "code",
   "execution_count": 2,
   "metadata": {},
   "outputs": [],
   "source": [
    "data_type_list = ['source_list', 'cam_param', \n",
    "                  'world_3d', 'cam_3d', 'img_2d', \n",
    "                  #'img_3d', 'scale_factor', 'img_25d', \n",
    "                  #'cam_3d_canonical_same_z', 'img_2d_canonical_same_z', \n",
    "                  #'cam_3d_canonical_same_dist', 'img_2d_canonical_same_dist',\n",
    "                  'cam_3d_canonical_fixed_dist_5', 'img_2d_canonical_fixed_dist_5']\n",
    "overwrite_list = []\n",
    "h36m = load_data_dict('h36m', data_type_list, overwrite_list, verbose=False)\n",
    "fit3d = load_data_dict('fit3d', data_type_list, overwrite_list, verbose=False)\n",
    "_3dhp = load_data_dict('3dhp', data_type_list, overwrite_list, verbose=False)"
   ]
  },
  {
   "cell_type": "code",
   "execution_count": 3,
   "metadata": {},
   "outputs": [
    {
     "data": {
      "text/plain": [
       "dict_keys(['source_list', 'cam_param', 'world_3d', 'cam_3d', 'img_2d', 'cam_3d_canonical_fixed_dist_5', 'img_2d_canonical_fixed_dist_5'])"
      ]
     },
     "execution_count": 3,
     "metadata": {},
     "output_type": "execute_result"
    }
   ],
   "source": [
    "h36m.keys()"
   ]
  },
  {
   "cell_type": "code",
   "execution_count": 40,
   "metadata": {},
   "outputs": [
    {
     "name": "stdout",
     "output_type": "stream",
     "text": [
      "0.26305292292163057 0.6186447454669062 1147.344289910138 1146.2364022588524 514.043540276127 506.70027037310103\n",
      "0.29063875117540067 0.6513030411792289 1062.1287424441518 1056.9917459263422 465.8927253875467 453.59153766308646\n",
      "0.21050821172529957 0.40780679681098625 1506.3911601366224 1506.141669979055 1014.764274844631 1026.6909053252234\n"
     ]
    }
   ],
   "source": [
    "for dataset_name in ['h36m', 'fit3d', '3dhp']:\n",
    "    if dataset_name == 'h36m': data = h36m.copy()\n",
    "    elif dataset_name == 'fit3d': data = fit3d.copy()\n",
    "    elif dataset_name == '3dhp': data = _3dhp.copy()\n",
    "    img_2d_canonicals_fixed_dist_5 = []\n",
    "    cam_params = []\n",
    "    for source in data['source_list']:\n",
    "        if dataset_name == '3dhp':\n",
    "            if 'TS' not in source: continue\n",
    "        subject, cam_id, action = split_source_name(source, dataset_name)\n",
    "        img_2d_canonicals_fixed_dist_5 += list(data[f'img_2d_canonical_fixed_dist_5'][subject][action][cam_id]) \n",
    "        cam_param = data['cam_param'][subject][action][cam_id]\n",
    "        num_frames = cam_param['num_frames']\n",
    "        cam_params += [cam_param] * num_frames\n",
    "    img_2d_canonicals_fixed_dist_5 = np.array(img_2d_canonicals_fixed_dist_5)\n",
    "    cam_params = np.array(cam_params)\n",
    "\n",
    "    W_array = np.array([cam_param['W'] for cam_param in cam_params])\n",
    "    H_array = np.array([cam_param['H'] for cam_param in cam_params])\n",
    "    fx_array = np.array([cam_param['intrinsic'][0][0] for cam_param in cam_params])\n",
    "    fy_array = np.array([cam_param['intrinsic'][1][1] for cam_param in cam_params])\n",
    "    cx_array = np.array([cam_param['intrinsic'][0][2] for cam_param in cam_params])\n",
    "    cy_array = np.array([cam_param['intrinsic'][1][2] for cam_param in cam_params])\n",
    "    img_2d_canonicals_fixed_dist_5_norm = img_2d_canonicals_fixed_dist_5.copy()\n",
    "    img_2d_canonicals_fixed_dist_5_norm *= 2\n",
    "    img_2d_canonicals_fixed_dist_5_norm -= np.concatenate([W_array[:, None, None], H_array[:, None, None]], axis=2)\n",
    "    img_2d_canonicals_fixed_dist_5_norm /= W_array[:, None, None]\n",
    "\n",
    "    x_max = np.max(img_2d_canonicals_fixed_dist_5_norm[:, :, 0], axis=1)\n",
    "    x_min = np.min(img_2d_canonicals_fixed_dist_5_norm[:, :, 0], axis=1)\n",
    "    y_max = np.max(img_2d_canonicals_fixed_dist_5_norm[:, :, 1], axis=1)\n",
    "    y_min = np.min(img_2d_canonicals_fixed_dist_5_norm[:, :, 1], axis=1)\n",
    "\n",
    "    print((x_max - x_min).mean(), (y_max - y_min).mean(), fx_array.mean(), fy_array.mean(), cx_array.mean(), cy_array.mean())\n"
   ]
  }
 ],
 "metadata": {
  "language_info": {
   "name": "python"
  }
 },
 "nbformat": 4,
 "nbformat_minor": 2
}
