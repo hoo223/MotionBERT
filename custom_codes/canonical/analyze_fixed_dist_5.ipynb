{
 "cells": [
  {
   "cell_type": "code",
   "execution_count": 2,
   "metadata": {},
   "outputs": [],
   "source": [
    "%load_ext autoreload\n",
    "%autoreload 2\n",
    "%matplotlib widget\n",
    "from common_import import *"
   ]
  },
  {
   "cell_type": "code",
   "execution_count": 10,
   "metadata": {},
   "outputs": [],
   "source": [
    "from mpl_toolkits.mplot3d.axes3d import Axes3D"
   ]
  },
  {
   "cell_type": "code",
   "execution_count": 11,
   "metadata": {},
   "outputs": [
    {
     "data": {
      "text/plain": [
       "True"
      ]
     },
     "execution_count": 11,
     "metadata": {},
     "output_type": "execute_result"
    }
   ],
   "source": [
    "fig = plt.figure(0)\n",
    "\n",
    "type(fig.add_axes([0, 0, 1, 1], projection='3d')) == Axes3D\n"
   ]
  },
  {
   "cell_type": "code",
   "execution_count": 2,
   "metadata": {},
   "outputs": [],
   "source": [
    "data_type_list = ['source_list', 'cam_param', \n",
    "                  'world_3d', 'cam_3d', 'img_2d', \n",
    "                  #'img_3d', 'scale_factor', 'img_25d', \n",
    "                  #'cam_3d_canonical_same_z', 'img_2d_canonical_same_z', \n",
    "                  #'cam_3d_canonical_same_dist', 'img_2d_canonical_same_dist',\n",
    "                  'cam_3d_canonical_fixed_dist_5', 'img_2d_canonical_fixed_dist_5']\n",
    "overwrite_list = []\n",
    "h36m = load_data_dict('h36m', data_type_list, overwrite_list, verbose=False)\n",
    "fit3d = load_data_dict('fit3d', data_type_list, overwrite_list, verbose=False)\n",
    "_3dhp = load_data_dict('3dhp', data_type_list, overwrite_list, verbose=False)"
   ]
  },
  {
   "cell_type": "code",
   "execution_count": 5,
   "metadata": {},
   "outputs": [
    {
     "data": {
      "text/plain": [
       "True"
      ]
     },
     "execution_count": 5,
     "metadata": {},
     "output_type": "execute_result"
    }
   ],
   "source": [
    "list(h36m.keys()) == data_type_list"
   ]
  },
  {
   "cell_type": "code",
   "execution_count": 7,
   "metadata": {},
   "outputs": [
    {
     "name": "stdout",
     "output_type": "stream",
     "text": [
      "h36m: avg_diff_x: 0.26, avg_diff_y: 0.62, avg_fx: 1147.34, avg_fy: 1146.24\n",
      "fit3d: avg_diff_x: 0.29, avg_diff_y: 0.65, avg_fx: 1062.13, avg_fy: 1056.99\n",
      "3dhp: avg_diff_x: 0.21, avg_diff_y: 0.41, avg_fx: 1506.39, avg_fy: 1506.14\n"
     ]
    }
   ],
   "source": [
    "for dataset_name in ['h36m', 'fit3d', '3dhp']:\n",
    "    if dataset_name == 'h36m': data = h36m.copy()\n",
    "    elif dataset_name == 'fit3d': data = fit3d.copy()\n",
    "    elif dataset_name == '3dhp': data = _3dhp.copy()\n",
    "    img_2d_canonicals_fixed_dist_5 = []\n",
    "    cam_params = []\n",
    "    for source in data['source_list']:\n",
    "        if dataset_name == '3dhp':\n",
    "            if 'TS' not in source: continue\n",
    "        subject, cam_id, action = split_source_name(source, dataset_name)\n",
    "        img_2d_canonicals_fixed_dist_5 += list(data[f'img_2d_canonical_fixed_dist_5'][subject][action][cam_id]) \n",
    "        cam_param = data['cam_param'][subject][action][cam_id]\n",
    "        num_frames = cam_param['num_frames']\n",
    "        cam_params += [cam_param] * num_frames\n",
    "    img_2d_canonicals_fixed_dist_5 = np.array(img_2d_canonicals_fixed_dist_5)\n",
    "    cam_params = np.array(cam_params)\n",
    "\n",
    "    W_array = np.array([cam_param['W'] for cam_param in cam_params])\n",
    "    H_array = np.array([cam_param['H'] for cam_param in cam_params])\n",
    "    fx_array = np.array([cam_param['intrinsic'][0][0] for cam_param in cam_params])\n",
    "    fy_array = np.array([cam_param['intrinsic'][1][1] for cam_param in cam_params])\n",
    "    cx_array = np.array([cam_param['intrinsic'][0][2] for cam_param in cam_params])\n",
    "    cy_array = np.array([cam_param['intrinsic'][1][2] for cam_param in cam_params])\n",
    "    img_2d_canonicals_fixed_dist_5_norm = img_2d_canonicals_fixed_dist_5.copy()\n",
    "    img_2d_canonicals_fixed_dist_5_norm *= 2\n",
    "    img_2d_canonicals_fixed_dist_5_norm -= np.concatenate([W_array[:, None, None], H_array[:, None, None]], axis=2)\n",
    "    img_2d_canonicals_fixed_dist_5_norm /= W_array[:, None, None]\n",
    "\n",
    "    x_max = np.max(img_2d_canonicals_fixed_dist_5_norm[:, :, 0], axis=1) # max x value for each frame\n",
    "    x_min = np.min(img_2d_canonicals_fixed_dist_5_norm[:, :, 0], axis=1) # min x value for each frame\n",
    "    y_max = np.max(img_2d_canonicals_fixed_dist_5_norm[:, :, 1], axis=1) # max y value for each frame\n",
    "    y_min = np.min(img_2d_canonicals_fixed_dist_5_norm[:, :, 1], axis=1) # min y value for each frame\n",
    "\n",
    "    avg_diff_x = (x_max - x_min).mean()\n",
    "    avg_diff_y = (y_max - y_min).mean()\n",
    "    avg_fx = fx_array.mean()\n",
    "    avg_fy = fy_array.mean()\n",
    "    print(f\"{dataset_name}: avg_diff_x: {avg_diff_x:.2f}, avg_diff_y: {avg_diff_y:.2f}, avg_fx: {avg_fx:.2f}, avg_fy: {avg_fy:.2f}\")\n"
   ]
  }
 ],
 "metadata": {
  "kernelspec": {
   "display_name": "motionbert",
   "language": "python",
   "name": "python3"
  },
  "language_info": {
   "codemirror_mode": {
    "name": "ipython",
    "version": 3
   },
   "file_extension": ".py",
   "mimetype": "text/x-python",
   "name": "python",
   "nbconvert_exporter": "python",
   "pygments_lexer": "ipython3",
   "version": "3.9.18"
  }
 },
 "nbformat": 4,
 "nbformat_minor": 2
}
