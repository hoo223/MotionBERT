{
 "cells": [
  {
   "cell_type": "code",
   "execution_count": 1,
   "metadata": {},
   "outputs": [],
   "source": [
    "from common import *"
   ]
  },
  {
   "cell_type": "markdown",
   "metadata": {},
   "source": [
    "### Generate datareader and loader"
   ]
  },
  {
   "cell_type": "code",
   "execution_count": 3,
   "metadata": {},
   "outputs": [
    {
     "name": "stdout",
     "output_type": "stream",
     "text": [
      "[overwrite: False] ==> Loading H36M source_list...\n",
      "[overwrite: False] ==> Loading H36M cam_param...\n",
      "[overwrite: False] ==> Loading H36M cam_3d_same_z-steprot_0.5-sinu_pitch_m15_p273-sinu_roll_m15_p273...\n"
     ]
    },
    {
     "name": "stderr",
     "output_type": "stream",
     "text": [
      "  1%|▏         | 12/836 [00:00<00:06, 119.72it/s]"
     ]
    },
    {
     "name": "stderr",
     "output_type": "stream",
     "text": [
      "100%|██████████| 836/836 [00:10<00:00, 78.06it/s] \n"
     ]
    },
    {
     "name": "stdout",
     "output_type": "stream",
     "text": [
      "[overwrite: False] ==> Loading H36M cam_3d_canonical_same_z-steprot_0.5-sinu_pitch_m15_p273-sinu_roll_m15_p273...\n"
     ]
    },
    {
     "name": "stderr",
     "output_type": "stream",
     "text": [
      "100%|██████████| 836/836 [00:06<00:00, 128.32it/s]\n"
     ]
    },
    {
     "name": "stdout",
     "output_type": "stream",
     "text": [
      "[overwrite: False] ==> Loading H36M img_2d_canonical_same_z-steprot_0.5-sinu_pitch_m15_p273-sinu_roll_m15_p273...\n"
     ]
    },
    {
     "name": "stderr",
     "output_type": "stream",
     "text": [
      "100%|██████████| 836/836 [00:00<00:00, 1020.06it/s]\n"
     ]
    }
   ],
   "source": [
    "subset = 'H36M-GT-CAM_NO_FACTOR-INPUT_FROM_3D_CANONICAL_SAME_Z-STEP_ROT_0.5-SINU_PITCH_M15_P273-SINU_ROLL_M15_P273-TR_S1_TS_S5678'\n",
    "datareader = DataReaderTotal(subset=subset)"
   ]
  },
  {
   "cell_type": "code",
   "execution_count": null,
   "metadata": {},
   "outputs": [
    {
     "name": "stdout",
     "output_type": "stream",
     "text": [
      "configs/pose3d/MB_train_h36m_gt.yaml\n",
      "True\n",
      "Loading dataset...\n",
      "H36M-GT\n",
      "==> Loading H36M source_list... overwrite: False\n",
      "==> Loading H36M cam_param... overwrite: False\n",
      "==> Loading H36M cam_3d... overwrite: False\n",
      "==> Loading H36M img_3d... overwrite: False\n",
      "==> Loading H36M scale_factor... overwrite: False\n",
      "==> Loading H36M img_25d... overwrite: False\n",
      "==> Loading H36M img_2d... overwrite: False\n"
     ]
    }
   ],
   "source": [
    "checkpoint = 'MB_train_h36m_gt'\n",
    "args, opts = get_opt_args_from_model_name(checkpoint)\n",
    "train_loader, test_loader, _, _, datareader = load_dataset(args, use_new_datareader=True)"
   ]
  },
  {
   "cell_type": "markdown",
   "metadata": {},
   "source": [
    "### Verification with original dataloader"
   ]
  },
  {
   "cell_type": "code",
   "execution_count": null,
   "metadata": {},
   "outputs": [
    {
     "name": "stdout",
     "output_type": "stream",
     "text": [
      "Loading dataset...\n",
      "H36M-GT\n"
     ]
    }
   ],
   "source": [
    "train_loader_origin, test_loader_origin, _, _, datareader_origin = load_dataset(args)"
   ]
  },
  {
   "cell_type": "code",
   "execution_count": null,
   "metadata": {},
   "outputs": [],
   "source": [
    "train_data, test_data, train_labels, test_labels = datareader.get_sliced_data()\n",
    "train_data_origin, test_data_origin, train_labels_origin, test_labels_origin = datareader_origin.get_sliced_data()"
   ]
  },
  {
   "cell_type": "code",
   "execution_count": null,
   "metadata": {},
   "outputs": [],
   "source": [
    "# check data shape\n",
    "assert train_data.shape == train_data_origin.shape, f'{train_data.shape} {train_data_origin.shape}'\n",
    "assert test_data.shape == test_data_origin.shape, f'{test_data.shape} {test_data_origin.shape}'\n",
    "assert train_labels.shape == train_labels_origin.shape, f'{train_labels.shape} {train_labels_origin.shape}'\n",
    "assert test_labels.shape == test_labels_origin.shape, f'{test_labels.shape} {test_labels_origin.shape}'"
   ]
  },
  {
   "cell_type": "code",
   "execution_count": null,
   "metadata": {},
   "outputs": [
    {
     "data": {
      "text/plain": [
       "['cam_3d', '2.5d_factor', 'joint_2d', 'joint3d_image', 'joints_2.5d_image']"
      ]
     },
     "execution_count": 7,
     "metadata": {},
     "output_type": "execute_result"
    }
   ],
   "source": [
    "list(datareader.dt_dataset['train'].keys() - datareader.default_data_type_lsit)"
   ]
  },
  {
   "cell_type": "code",
   "execution_count": null,
   "metadata": {},
   "outputs": [
    {
     "name": "stderr",
     "output_type": "stream",
     "text": [
      "100%|██████████| 600/600 [00:11<00:00, 50.43it/s]\n"
     ]
    }
   ],
   "source": [
    "# check data values for each source\n",
    "for source in tqdm(list(set(datareader_origin.dt_dataset['train']['source']))):\n",
    "    loc1 = np.where(datareader_origin.dt_dataset['train']['source'] == source)[0]\n",
    "    loc2 = np.where(datareader.dt_dataset['train']['source'] == source)[0]\n",
    "    assert len(loc1) == len(loc2), f'{len(loc1)} {len(loc2)}'\n",
    "    for key in list(datareader.dt_dataset['train'].keys() - datareader.default_data_type_lsit):\n",
    "        data1 = datareader_origin.dt_dataset['train'][key][loc1].copy()\n",
    "        data2 = datareader.dt_dataset['train'][key][loc2].copy()\n",
    "        assert data1.shape == data2.shape, f'{source} {key} {data1.shape} {data2.shape}'\n",
    "        if key == '2.5d_factor': atol = 3e-02\n",
    "        elif key == 'joints_2.5d_image': atol = 20\n",
    "        else: atol = 1e-07\n",
    "        max_value = abs(data1 - data2).max()\n",
    "        max_idx = abs(data1 - data2).argmax()\n",
    "        if not np.allclose(data1, data2, atol=atol): print(f'{source} {key} {max_value}, {max_idx} {data1.flatten()[max_idx]} {data2.flatten()[max_idx]}') \n",
    "        if 'joint_2d' in key:\n",
    "            cam_params1 = datareader_origin.dt_dataset['train']['cam_param'][loc1]\n",
    "            cam_params2 = datareader.dt_dataset['train']['cam_param'][loc2]\n",
    "            #W1, H1 = np.array([cam_param['W'] for cam_param in cam_params1]), np.array([cam_param['H'] for cam_param in cam_params1])\n",
    "            W, H = np.array([cam_param['W'] for cam_param in cam_params2]), np.array([cam_param['H'] for cam_param in cam_params2])\n",
    "            normalized_data1 = datareader.normalize(data1, W, H, '2d')\n",
    "            normalized_data2 = datareader.normalize(data2, W, H, '2d')\n",
    "            assert np.allclose(normalized_data1, normalized_data2, atol=1e-07), f'{source} {key} {abs(normalized_data1 - normalized_data2).max()}, {normalized_data1[abs(normalized_data1 - normalized_data2).argmax()]}, {noramlized_data2[abs(normalized_data1 - normalized_data2).argmax()]}'"
   ]
  },
  {
   "cell_type": "code",
   "execution_count": null,
   "metadata": {},
   "outputs": [],
   "source": [
    "for item in glob('data/motion3d/MB3D_f243s81/*.yaml'):\n",
    "    subset = os.path.basename(item).split('.')[0]\n",
    "    if subset in blacklist: continue\n",
    "    if subset not in dt_file_mapping.keys():\n",
    "        print(subset)"
   ]
  },
  {
   "cell_type": "code",
   "execution_count": null,
   "metadata": {},
   "outputs": [
    {
     "name": "stdout",
     "output_type": "stream",
     "text": [
      "H36M-GT-CAM_NO_FACTOR-INPUT_FROM_3D_CANONICAL_FIXED_DIST_5-TR_S1_TS_S5678\n",
      "MB_train_h36m_gt_cam_no_factor_input_from_canonical_3d_fixed_dist_5_tr_s1_ts_s5678\n",
      "check data shape\n",
      "check data values for each source\n"
     ]
    },
    {
     "name": "stderr",
     "output_type": "stream",
     "text": [
      "100%|██████████| 120/120 [00:00<00:00, 255.27it/s]\n"
     ]
    },
    {
     "name": "stdout",
     "output_type": "stream",
     "text": [
      "H36M-GT-CAM_NO_FACTOR-INPUT_FROM_3D_CANONICAL_SAME_Z\n",
      "MB_train_h36m_gt_cam_no_factor_input_from_canonical_3d_same_z\n",
      "check data shape\n",
      "check data values for each source\n"
     ]
    },
    {
     "name": "stderr",
     "output_type": "stream",
     "text": [
      "100%|██████████| 600/600 [00:09<00:00, 62.09it/s]\n"
     ]
    },
    {
     "name": "stdout",
     "output_type": "stream",
     "text": [
      "H36M-GT-CAM_NO_FACTOR-INPUT_FROM_3D_CANONICAL_SAME_DIST-S15678_TR_54138969_TS_OTHERS\n",
      "MB_train_h36m_gt_cam_no_factor_input_from_canonical_3d_same_dist_s15678_tr_54138969_ts_others\n"
     ]
    },
    {
     "ename": "KeyError",
     "evalue": "'cam_3d'",
     "output_type": "error",
     "traceback": [
      "\u001b[0;31m---------------------------------------------------------------------------\u001b[0m",
      "\u001b[0;31mKeyError\u001b[0m                                  Traceback (most recent call last)",
      "Cell \u001b[0;32mIn[13], line 40\u001b[0m\n\u001b[1;32m     29\u001b[0m datareader_origin \u001b[38;5;241m=\u001b[39m DataReaderH36M(n_frames\u001b[38;5;241m=\u001b[39m\u001b[38;5;241m243\u001b[39m, \n\u001b[1;32m     30\u001b[0m                                    sample_stride\u001b[38;5;241m=\u001b[39m\u001b[38;5;241m1\u001b[39m, \n\u001b[1;32m     31\u001b[0m                                    data_stride_train\u001b[38;5;241m=\u001b[39m\u001b[38;5;241m81\u001b[39m, \n\u001b[0;32m   (...)\u001b[0m\n\u001b[1;32m     35\u001b[0m                                    input_mode\u001b[38;5;241m=\u001b[39mdatareader\u001b[38;5;241m.\u001b[39minput_mode, \n\u001b[1;32m     36\u001b[0m                                    gt_mode\u001b[38;5;241m=\u001b[39mdatareader\u001b[38;5;241m.\u001b[39mgt_mode)\n\u001b[1;32m     39\u001b[0m train_data, test_data, train_labels, test_labels \u001b[38;5;241m=\u001b[39m datareader\u001b[38;5;241m.\u001b[39mget_sliced_data()\n\u001b[0;32m---> 40\u001b[0m train_data_origin, test_data_origin, train_labels_origin, test_labels_origin \u001b[38;5;241m=\u001b[39m \u001b[43mdatareader_origin\u001b[49m\u001b[38;5;241;43m.\u001b[39;49m\u001b[43mget_sliced_data\u001b[49m\u001b[43m(\u001b[49m\u001b[43m)\u001b[49m\n\u001b[1;32m     42\u001b[0m \u001b[38;5;28mprint\u001b[39m(\u001b[38;5;124m'\u001b[39m\u001b[38;5;124mcheck data shape\u001b[39m\u001b[38;5;124m'\u001b[39m)\n\u001b[1;32m     43\u001b[0m \u001b[38;5;28;01mif\u001b[39;00m train_data\u001b[38;5;241m.\u001b[39mshape \u001b[38;5;241m!=\u001b[39m train_data_origin\u001b[38;5;241m.\u001b[39mshape: \u001b[38;5;28mprint\u001b[39m(\u001b[38;5;124mf\u001b[39m\u001b[38;5;124m'\u001b[39m\u001b[38;5;132;01m{\u001b[39;00mtrain_data\u001b[38;5;241m.\u001b[39mshape\u001b[38;5;132;01m}\u001b[39;00m\u001b[38;5;124m \u001b[39m\u001b[38;5;132;01m{\u001b[39;00mtrain_data_origin\u001b[38;5;241m.\u001b[39mshape\u001b[38;5;132;01m}\u001b[39;00m\u001b[38;5;124m'\u001b[39m)\n",
      "File \u001b[0;32m~/codes/MotionBERT/lib/data/datareader_h36m.py:133\u001b[0m, in \u001b[0;36mDataReaderH36M.get_sliced_data\u001b[0;34m(self)\u001b[0m\n\u001b[1;32m    131\u001b[0m \u001b[38;5;28;01mdef\u001b[39;00m \u001b[38;5;21mget_sliced_data\u001b[39m(\u001b[38;5;28mself\u001b[39m):\n\u001b[1;32m    132\u001b[0m     train_data, test_data \u001b[38;5;241m=\u001b[39m \u001b[38;5;28mself\u001b[39m\u001b[38;5;241m.\u001b[39mread_2d()     \u001b[38;5;66;03m# train_data (1559752, 17, 3) test_data (566920, 17, 3)\u001b[39;00m\n\u001b[0;32m--> 133\u001b[0m     train_labels, test_labels \u001b[38;5;241m=\u001b[39m \u001b[38;5;28;43mself\u001b[39;49m\u001b[38;5;241;43m.\u001b[39;49m\u001b[43mread_3d\u001b[49m\u001b[43m(\u001b[49m\u001b[43m)\u001b[49m \u001b[38;5;66;03m# train_labels (1559752, 17, 3) test_labels (566920, 17, 3)\u001b[39;00m\n\u001b[1;32m    134\u001b[0m     split_id_train, split_id_test \u001b[38;5;241m=\u001b[39m \u001b[38;5;28mself\u001b[39m\u001b[38;5;241m.\u001b[39mget_split_id()\n\u001b[1;32m    135\u001b[0m     train_data, test_data \u001b[38;5;241m=\u001b[39m train_data[split_id_train], test_data[split_id_test]                \u001b[38;5;66;03m# (N, 27, 17, 3)\u001b[39;00m\n",
      "File \u001b[0;32m~/codes/MotionBERT/lib/data/datareader_h36m.py:65\u001b[0m, in \u001b[0;36mDataReaderH36M.read_3d\u001b[0;34m(self)\u001b[0m\n\u001b[1;32m     64\u001b[0m \u001b[38;5;28;01mdef\u001b[39;00m \u001b[38;5;21mread_3d\u001b[39m(\u001b[38;5;28mself\u001b[39m):\n\u001b[0;32m---> 65\u001b[0m     train_labels \u001b[38;5;241m=\u001b[39m \u001b[38;5;28;43mself\u001b[39;49m\u001b[38;5;241;43m.\u001b[39;49m\u001b[43mdt_dataset\u001b[49m\u001b[43m[\u001b[49m\u001b[38;5;124;43m'\u001b[39;49m\u001b[38;5;124;43mtrain\u001b[39;49m\u001b[38;5;124;43m'\u001b[39;49m\u001b[43m]\u001b[49m\u001b[43m[\u001b[49m\u001b[38;5;28;43mself\u001b[39;49m\u001b[38;5;241;43m.\u001b[39;49m\u001b[43mgt_mode\u001b[49m\u001b[43m]\u001b[49m[::\u001b[38;5;28mself\u001b[39m\u001b[38;5;241m.\u001b[39msample_stride, :, :\u001b[38;5;241m3\u001b[39m]\u001b[38;5;241m.\u001b[39mastype(np\u001b[38;5;241m.\u001b[39mfloat32)  \u001b[38;5;66;03m# [N, 17, 3]\u001b[39;00m\n\u001b[1;32m     66\u001b[0m     test_labels \u001b[38;5;241m=\u001b[39m \u001b[38;5;28mself\u001b[39m\u001b[38;5;241m.\u001b[39mdt_dataset[\u001b[38;5;124m'\u001b[39m\u001b[38;5;124mtest\u001b[39m\u001b[38;5;124m'\u001b[39m][\u001b[38;5;28mself\u001b[39m\u001b[38;5;241m.\u001b[39mgt_mode][::\u001b[38;5;28mself\u001b[39m\u001b[38;5;241m.\u001b[39msample_stride, :, :\u001b[38;5;241m3\u001b[39m]\u001b[38;5;241m.\u001b[39mastype(np\u001b[38;5;241m.\u001b[39mfloat32)    \u001b[38;5;66;03m# [N, 17, 3]\u001b[39;00m\n\u001b[1;32m     67\u001b[0m     \u001b[38;5;28;01mif\u001b[39;00m \u001b[38;5;28mself\u001b[39m\u001b[38;5;241m.\u001b[39mgt_mode \u001b[38;5;241m==\u001b[39m \u001b[38;5;124m'\u001b[39m\u001b[38;5;124mjoint3d_image\u001b[39m\u001b[38;5;124m'\u001b[39m: \u001b[38;5;66;03m# normalize to [-1, 1]\u001b[39;00m\n\u001b[1;32m     68\u001b[0m         \u001b[38;5;66;03m# map to [-1, 1]\u001b[39;00m\n",
      "\u001b[0;31mKeyError\u001b[0m: 'cam_3d'"
     ]
    }
   ],
   "source": [
    "config_root = 'configs/pose3d/'\n",
    "checkpoint_root = 'checkpoint/pose3d/'\n",
    "blacklist = ['3DHP-GT-CAM_NO_FACTOR-POSEAUG_TEST_2929', \n",
    "             '3DHP-GT-CAM_NO_FACTOR-POSYNDA_TESTSET', \n",
    "             'H36M-CANONICALIZATION-GT-INPUT_FROM_3D_CANONICAL_SAME_Z-TR_S1_TS_S5678']\n",
    "\n",
    "for item in glob('data/motion3d/MB3D_f243s81/*.yaml'):\n",
    "    subset = os.path.basename(item).split('.')[0]\n",
    "    dataset_name = subset.split('-')[0]\n",
    "    if dataset_name != 'H36M': continue\n",
    "    if 'NO_FACTOR' not in subset: continue\n",
    "    if subset in blacklist: continue\n",
    "    print(subset)\n",
    "    datareader = DataReaderTotal(subset=subset, verbose=False)\n",
    "    checkpoint = f'MB_train_{datareader.dataset_name}_{datareader.input_source.lower()}'\n",
    "    if datareader.gt_mode == 'cam_3d': checkpoint += '_cam_no_factor'\n",
    "    if datareader.canonical_type is not None: checkpoint += f'_input_from_canonical_3d_{datareader.canonical_type.lower()}'\n",
    "    if 'S15678_TR_54138969_TS_OTHERS' in item: checkpoint += '_S15678_TR_54138969_TS_OTHERS'.lower()\n",
    "    elif 'TR_S1_TS_S5678' in item: checkpoint += '_TR_S1_TS_S5678'.lower()\n",
    "    elif 'TR_S03' in item: checkpoint += '_TR_S03'.lower()\n",
    "    elif 'TS_S4710' in item: checkpoint += '_TS_S4710'.lower()\n",
    "    print(checkpoint)\n",
    "    #args, opts = get_opt_args_from_model_name(checkpoint)\n",
    "    datareader_origin = DataReaderH36M(n_frames=243, \n",
    "                                       sample_stride=1, \n",
    "                                       data_stride_train=81, \n",
    "                                       data_stride_test=243, \n",
    "                                       dt_root = 'data/motion3d', \n",
    "                                       dt_file=dt_file_mapping[subset]+'.pkl', \n",
    "                                       input_mode=datareader.input_mode, \n",
    "                                       gt_mode=datareader.gt_mode)\n",
    "\n",
    "    \n",
    "    train_data, test_data, train_labels, test_labels = datareader.get_sliced_data()\n",
    "    train_data_origin, test_data_origin, train_labels_origin, test_labels_origin = datareader_origin.get_sliced_data()\n",
    "    \n",
    "    print('check data shape')\n",
    "    if train_data.shape != train_data_origin.shape: print(f'{train_data.shape} {train_data_origin.shape}')\n",
    "    if test_data.shape != test_data_origin.shape: print(f'{test_data.shape} {test_data_origin.shape}')\n",
    "    if train_labels.shape != train_labels_origin.shape: print(f'{train_labels.shape} {train_labels_origin.shape}')\n",
    "    if test_labels.shape != test_labels_origin.shape: print(f'{test_labels.shape} {test_labels_origin.shape}')\n",
    "    \n",
    "    print('check data values for each source')\n",
    "    for source in tqdm(list(set(datareader_origin.dt_dataset['train']['source']))):\n",
    "        loc1 = np.where(datareader_origin.dt_dataset['train']['source'] == source)[0]\n",
    "        loc2 = np.where(datareader.dt_dataset['train']['source'] == source)[0]\n",
    "        for key in list(datareader.dt_dataset['train'].keys() - datareader.default_data_type_lsit):\n",
    "            data1 = datareader_origin.dt_dataset['train'][key][loc1]\n",
    "            data2 = datareader.dt_dataset['train'][key][loc2]\n",
    "            #print(key, data1.shape, data2.shape)\n",
    "            assert np.allclose(data1, data2, atol=1e-07), f'{source} {key} {abs(data1 - data2).max()}'\n",
    "            if 'joint_2d' in key:\n",
    "                cam_params1 = datareader_origin.dt_dataset['train']['cam_param'][loc1]\n",
    "                cam_params2 = datareader.dt_dataset['train']['cam_param'][loc2]\n",
    "                #W1, H1 = np.array([cam_param['W'] for cam_param in cam_params1]), np.array([cam_param['H'] for cam_param in cam_params1])\n",
    "                W, H = np.array([cam_param['W'] for cam_param in cam_params2]), np.array([cam_param['H'] for cam_param in cam_params2])\n",
    "                normalized_data1 = datareader.normalize(data1, W, H, '2d')\n",
    "                normalized_data2 = datareader.normalize(data2, W, H, '2d')\n",
    "                assert np.allclose(normalized_data1, normalized_data2, atol=1e-07), f'{source} {key} {abs(normalized_data1 - normalized_data2).max()}'"
   ]
  },
  {
   "cell_type": "code",
   "execution_count": null,
   "metadata": {},
   "outputs": [
    {
     "data": {
      "text/plain": [
       "(['S1', 'S5', 'S6', 'S7', 'S8'],\n",
       " ['S1', 'S5', 'S6', 'S7', 'S8'],\n",
       " ['cam_3d',\n",
       "  'joint_2d_from_canonical_3d',\n",
       "  'cam_3d_from_canonical_3d',\n",
       "  'source',\n",
       "  'cam_param',\n",
       "  'camera_name',\n",
       "  'action',\n",
       "  'confidence'])"
      ]
     },
     "execution_count": 21,
     "metadata": {},
     "output_type": "execute_result"
    }
   ],
   "source": [
    "datareader.train_subject, datareader.test_subject, datareader.data_type_list"
   ]
  },
  {
   "cell_type": "code",
   "execution_count": null,
   "metadata": {},
   "outputs": [
    {
     "data": {
      "text/plain": [
       "array([], dtype=float64)"
      ]
     },
     "execution_count": 25,
     "metadata": {},
     "output_type": "execute_result"
    }
   ],
   "source": [
    "datareader.dt_dataset['train']['source']"
   ]
  },
  {
   "cell_type": "code",
   "execution_count": null,
   "metadata": {},
   "outputs": [
    {
     "data": {
      "text/plain": [
       "'H36M-GT-CAM_NO_FACTOR-INPUT_FROM_3D_CANONICAL_SAME_DIST-S15678_TR_54138969_TS_OTHERS'"
      ]
     },
     "execution_count": 26,
     "metadata": {},
     "output_type": "execute_result"
    }
   ],
   "source": [
    "subset"
   ]
  },
  {
   "cell_type": "code",
   "execution_count": null,
   "metadata": {},
   "outputs": [
    {
     "name": "stdout",
     "output_type": "stream",
     "text": [
      "{'cam_list': [], 'canonical_type': 'same_dist', 'data_type_list': ['cam_3d', 'joint_2d_from_canonical_3d', 'cam_3d_from_canonical_3d'], 'dataset_name': 'h36m', 'gt_mode': 'cam_3d', 'input_mode': 'joint_2d_from_canonical_3d', 'input_source': 'GT', 'test_cam': ['60457274', '55011271', '58860488'], 'test_subject': ['S1', 'S5', 'S6', 'S7', 'S8'], 'train_cam': ['54138969'], 'train_subject': ['S1', 'S5', 'S6', 'S7', 'S8']}\n"
     ]
    }
   ],
   "source": [
    "datareader = DataReaderTotal(subset='H36M-GT-CAM_NO_FACTOR-INPUT_FROM_3D_CANONICAL_SAME_DIST-S15678_TR_54138969_TS_OTHERS',\n",
    "                             verbose=False)"
   ]
  },
  {
   "cell_type": "code",
   "execution_count": null,
   "metadata": {},
   "outputs": [
    {
     "data": {
      "text/plain": [
       "{'cam_list': [],\n",
       " 'canonical_type': 'same_dist',\n",
       " 'data_type_list': ['cam_3d',\n",
       "  'joint_2d_from_canonical_3d',\n",
       "  'cam_3d_from_canonical_3d'],\n",
       " 'dataset_name': 'h36m',\n",
       " 'gt_mode': 'cam_3d',\n",
       " 'input_mode': 'joint_2d_from_canonical_3d',\n",
       " 'input_source': 'GT',\n",
       " 'test_cam': ['60457274', '55011271', '58860488'],\n",
       " 'test_subject': ['S1', 'S5', 'S6', 'S7', 'S8'],\n",
       " 'train_cam': ['54138969'],\n",
       " 'train_subject': ['S1', 'S5', 'S6', 'S7', 'S8']}"
      ]
     },
     "execution_count": 12,
     "metadata": {},
     "output_type": "execute_result"
    }
   ],
   "source": [
    "datareader.yaml_data"
   ]
  },
  {
   "cell_type": "code",
   "execution_count": null,
   "metadata": {},
   "outputs": [
    {
     "data": {
      "text/plain": [
       "dict_keys(['joint_2d_from_canonical_3d', 'confidence', 'joint3d_image_from_canonical_3d', 'joints_2.5d_image_from_canonical_3d', '2.5d_factor_from_canonical_3d', 'camera_name', 'action', 'source', 'frame', 'world_3d', 'cam_3d_from_canonical_3d', 'cam_param', 'world_3from_canonical_3d'])"
      ]
     },
     "execution_count": 14,
     "metadata": {},
     "output_type": "execute_result"
    }
   ],
   "source": [
    "datareader_origin.dt_dataset['train'].keys()"
   ]
  },
  {
   "cell_type": "markdown",
   "metadata": {},
   "source": [
    "### Multiple subset - DataReaderTotalGroup"
   ]
  },
  {
   "cell_type": "code",
   "execution_count": 2,
   "metadata": {},
   "outputs": [
    {
     "name": "stdout",
     "output_type": "stream",
     "text": [
      "H36M-GT-CAM_NO_FACTOR-STEP_ROT_1.5-TR_S1_TS_S5678\n",
      "[overwrite: False] ==> Loading H36M source_list...\n",
      "[overwrite: False] ==> Loading H36M cam_param...\n",
      "[overwrite: False] ==> Loading H36M cam_3d_steprot_1.5...\n",
      "[overwrite: False] ==> Loading H36M img_2d_steprot_1.5...\n",
      "H36M-GT-CAM_NO_FACTOR-TR_S1_TS_S5678\n",
      "[overwrite: False] ==> Loading H36M source_list...\n",
      "[overwrite: False] ==> Loading H36M cam_param...\n",
      "[overwrite: False] ==> Loading H36M cam_3d_steprot_0.5...\n",
      "[overwrite: False] ==> Loading H36M img_2d_steprot_0.5...\n",
      "H36M-GT-CAM_NO_FACTOR-TR_S1_TS_S5678\n",
      "[overwrite: False] ==> Loading H36M source_list...\n",
      "[overwrite: False] ==> Loading H36M cam_param...\n",
      "[overwrite: False] ==> Loading H36M cam_3d...\n",
      "[overwrite: False] ==> Loading H36M img_2d...\n",
      "configs/pose3d/MB_train_h36m_gt_cam_no_factor_steprot_1.5+original_tr_s1_ts_s5678.yaml\n",
      "True\n"
     ]
    }
   ],
   "source": [
    "from lib.data.datareader_total import DataReaderTotalGroup, DataReaderTotal\n",
    "subset_list = ['H36M-GT-CAM_NO_FACTOR-STEP_ROT_1.5-TR_S1_TS_S5678', 'H36M-GT-CAM_NO_FACTOR-TR_S1_TS_S5678']\n",
    "datareader = DataReaderTotalGroup(subset_list=subset_list)\n",
    "checkpoint = 'MB_train_h36m_gt_cam_no_factor_steprot_1.5+original_tr_s1_ts_s5678'\n",
    "args, opts = get_opt_args_from_model_name(checkpoint, mode='latest')"
   ]
  },
  {
   "cell_type": "code",
   "execution_count": 3,
   "metadata": {},
   "outputs": [],
   "source": [
    "train_data, test_data, train_labels, test_labels = datareader.get_sliced_data()"
   ]
  },
  {
   "cell_type": "code",
   "execution_count": 4,
   "metadata": {},
   "outputs": [
    {
     "data": {
      "text/plain": [
       "((9148, 243, 17, 3),\n",
       " (10312, 243, 17, 3),\n",
       " (9148, 243, 17, 3),\n",
       " (10312, 243, 17, 3))"
      ]
     },
     "execution_count": 4,
     "metadata": {},
     "output_type": "execute_result"
    }
   ],
   "source": [
    "train_data.shape, test_data.shape, train_labels.shape, test_labels.shape"
   ]
  },
  {
   "cell_type": "code",
   "execution_count": 5,
   "metadata": {},
   "outputs": [],
   "source": [
    "num_test_frames, action_clips, factor_clips, source_clips, frame_clips, gt_clips, actions = datareader.get_clip_info(args, len(test_labels))"
   ]
  },
  {
   "cell_type": "code",
   "execution_count": 6,
   "metadata": {},
   "outputs": [
    {
     "data": {
      "text/plain": [
       "((20624, 243),\n",
       " (20624, 243),\n",
       " (20624, 243),\n",
       " (20624, 243),\n",
       " (20624, 243, 17, 3),\n",
       " (5245504,))"
      ]
     },
     "execution_count": 6,
     "metadata": {},
     "output_type": "execute_result"
    }
   ],
   "source": [
    "action_clips.shape, factor_clips.shape, source_clips.shape, frame_clips.shape, gt_clips.shape, actions.shape"
   ]
  },
  {
   "cell_type": "code",
   "execution_count": 7,
   "metadata": {},
   "outputs": [
    {
     "data": {
      "text/plain": [
       "10312"
      ]
     },
     "execution_count": 7,
     "metadata": {},
     "output_type": "execute_result"
    }
   ],
   "source": [
    "len(frame_clips)"
   ]
  },
  {
   "cell_type": "code",
   "execution_count": 8,
   "metadata": {},
   "outputs": [
    {
     "data": {
      "text/plain": [
       "5156.0"
      ]
     },
     "execution_count": 8,
     "metadata": {},
     "output_type": "execute_result"
    }
   ],
   "source": [
    "10312/2"
   ]
  },
  {
   "cell_type": "code",
   "execution_count": 9,
   "metadata": {},
   "outputs": [
    {
     "data": {
      "text/plain": [
       "(array([1311376, 1311377, 1311378, 1311379, 1311380, 1311381, 1311382,\n",
       "        1311383, 1311384, 1311385, 1311386, 1311387, 1311388, 1311389,\n",
       "        1311390, 1311391, 1311392, 1311393, 1311394, 1311395, 1311396,\n",
       "        1311397, 1311398, 1311399, 1311400, 1311401, 1311402, 1311403,\n",
       "        1311404, 1311405, 1311406, 1311407, 1311408, 1311409, 1311410,\n",
       "        1311411, 1311412, 1311413, 1311414, 1311415, 1311416, 1311417,\n",
       "        1311418, 1311419, 1311420, 1311421, 1311422, 1311423, 1311424,\n",
       "        1311425, 1311426, 1311427, 1311428, 1311429, 1311430, 1311431,\n",
       "        1311432, 1311433, 1311434, 1311435, 1311436, 1311437, 1311438,\n",
       "        1311439, 1311440, 1311441, 1311442, 1311443, 1311444, 1311445,\n",
       "        1311446, 1311447, 1311448, 1311449, 1311450, 1311451, 1311452,\n",
       "        1311453, 1311454, 1311455, 1311456, 1311457, 1311458, 1311459,\n",
       "        1311460, 1311461, 1311462, 1311463, 1311464, 1311465, 1311466,\n",
       "        1311467, 1311468, 1311469, 1311470, 1311471, 1311472, 1311473,\n",
       "        1311474, 1311475, 1311476, 1311477, 1311478, 1311479, 1311480,\n",
       "        1311481, 1311482, 1311483, 1311484, 1311485, 1311486, 1311487,\n",
       "        1311488, 1311489, 1311490, 1311491, 1311492, 1311493, 1311494,\n",
       "        1311495, 1311496, 1311497, 1311498, 1311499, 1311500, 1311501,\n",
       "        1311502, 1311503, 1311504, 1311505, 1311506, 1311507, 1311508,\n",
       "        1311509, 1311510, 1311511, 1311512, 1311513, 1311514, 1311515,\n",
       "        1311516, 1311517, 1311518, 1311519, 1311520, 1311521, 1311522,\n",
       "        1311523, 1311524, 1311525, 1311526, 1311527, 1311528, 1311529,\n",
       "        1311530, 1311531, 1311532, 1311533, 1311534, 1311535, 1311536,\n",
       "        1311537, 1311538, 1311539, 1311540, 1311541, 1311542, 1311543,\n",
       "        1311544, 1311545, 1311546, 1311547, 1311548, 1311549, 1311550,\n",
       "        1311551, 1311552, 1311553, 1311554, 1311555, 1311556, 1311557,\n",
       "        1311558, 1311559, 1311560, 1311561, 1311562, 1311563, 1311564,\n",
       "        1311565, 1311566, 1311567, 1311568, 1311569, 1311570, 1311571,\n",
       "        1311572, 1311573, 1311574, 1311575, 1311576, 1311577, 1311578,\n",
       "        1311579, 1311580, 1311581, 1311582, 1311583, 1311584, 1311585,\n",
       "        1311586, 1311587, 1311588, 1311589, 1311590, 1311591, 1311592,\n",
       "        1311593, 1311594, 1311595, 1311596, 1311597, 1311598, 1311599,\n",
       "        1311600, 1311601, 1311602, 1311603, 1311604, 1311605, 1311606,\n",
       "        1311607, 1311608, 1311609, 1311610, 1311611, 1311612, 1311613,\n",
       "        1311614, 1311615, 1311616, 1311617, 1311618]),\n",
       " array([2622375, 2622376, 2622377, 2622378, 2622379, 2622380, 2622381,\n",
       "        2622382, 2622383, 2622384, 2622385, 2622386, 2622387, 2622388,\n",
       "        2622389, 2622390, 2622391, 2622392, 2622393, 2622394, 2622395,\n",
       "        2622396, 2622397, 2622398, 2622399, 2622400, 2622401, 2622402,\n",
       "        2622403, 2622404, 2622405, 2622406, 2622407, 2622408, 2622409,\n",
       "        2622410, 2622411, 2622412, 2622413, 2622414, 2622415, 2622416,\n",
       "        2622417, 2622418, 2622419, 2622420, 2622421, 2622422, 2622423,\n",
       "        2622424, 2622425, 2622426, 2622427, 2622428, 2622429, 2622430,\n",
       "        2622431, 2622432, 2622433, 2622434, 2622435, 2622436, 2622437,\n",
       "        2622438, 2622439, 2622440, 2622441, 2622442, 2622443, 2622444,\n",
       "        2622445, 2622446, 2622447, 2622448, 2622449, 2622450, 2622451,\n",
       "        2622452, 2622453, 2622454, 2622455, 2622456, 2622457, 2622458,\n",
       "        2622459, 2622460, 2622461, 2622462, 2622463, 2622464, 2622465,\n",
       "        2622466, 2622467, 2622468, 2622469, 2622470, 2622471, 2622472,\n",
       "        2622473, 2622474, 2622475, 2622476, 2622477, 2622478, 2622479,\n",
       "        2622480, 2622481, 2622482, 2622483, 2622484, 2622485, 2622486,\n",
       "        2622487, 2622488, 2622489, 2622490, 2622491, 2622492, 2622493,\n",
       "        2622494, 2622495, 2622496, 2622497, 2622498, 2622499, 2622500,\n",
       "        2622501, 2622502, 2622503, 2622504, 2622505, 2622506, 2622507,\n",
       "        2622508, 2622509, 2622510, 2622511, 2622512, 2622513, 2622514,\n",
       "        2622515, 2622516, 2622517, 2622518, 2622519, 2622520, 2622521,\n",
       "        2622522, 2622523, 2622524, 2622525, 2622526, 2622527, 2622528,\n",
       "        2622529, 2622530, 2622531, 2622532, 2622533, 2622534, 2622535,\n",
       "        2622536, 2622537, 2622538, 2622539, 2622540, 2622541, 2622542,\n",
       "        2622543, 2622544, 2622545, 2622546, 2622547, 2622548, 2622549,\n",
       "        2622550, 2622551, 2622552, 2622553, 2622554, 2622555, 2622556,\n",
       "        2622557, 2622558, 2622559, 2622560, 2622561, 2622562, 2622563,\n",
       "        2622564, 2622565, 2622566, 2622567, 2622568, 2622569, 2622570,\n",
       "        2622571, 2622572, 2622573, 2622574, 2622575, 2622576, 2622577,\n",
       "        2622578, 2622579, 2622580, 2622581, 2622582, 2622583, 2622584,\n",
       "        2622585, 2622586, 2622587, 2622588, 2622589, 2622590, 2622591,\n",
       "        2622592, 2622593, 2622594, 2622595, 2622596, 2622597, 2622598,\n",
       "        2622599, 2622600, 2622601, 2622602, 2622603, 2622604, 2622605,\n",
       "        2622606, 2622607, 2622608, 2622609, 2622610, 2622611, 2622612,\n",
       "        2622613, 2622614, 2622615, 2622616, 2622617]))"
      ]
     },
     "execution_count": 9,
     "metadata": {},
     "output_type": "execute_result"
    }
   ],
   "source": [
    "frame_clips[5156], frame_clips[-1]"
   ]
  }
 ],
 "metadata": {
  "kernelspec": {
   "display_name": "motionbert",
   "language": "python",
   "name": "python3"
  },
  "language_info": {
   "codemirror_mode": {
    "name": "ipython",
    "version": 3
   },
   "file_extension": ".py",
   "mimetype": "text/x-python",
   "name": "python",
   "nbconvert_exporter": "python",
   "pygments_lexer": "ipython3",
   "version": "3.9.17"
  }
 },
 "nbformat": 4,
 "nbformat_minor": 2
}
