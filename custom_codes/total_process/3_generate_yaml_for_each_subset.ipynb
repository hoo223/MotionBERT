{
 "cells": [
  {
   "cell_type": "code",
   "execution_count": 1,
   "metadata": {},
   "outputs": [],
   "source": [
    "from common_import import *"
   ]
  },
  {
   "cell_type": "code",
   "execution_count": 2,
   "metadata": {},
   "outputs": [
    {
     "name": "stdout",
     "output_type": "stream",
     "text": [
      "In yaml_files but not in subset_list:\n",
      "    3DHP-GT-CAM_NO_FACTOR-INPUT_FROM_3D_CANONICAL_SAME_Z-TEST_ALL_TRAIN_UNIV\n",
      "    3DHP-GT-CAM_NO_FACTOR-INPUT_FROM_CANONICAL_REVOLUTE-TEST_TS1_6\n",
      "    3DHP-GT-CAM_NO_FACTOR-TEST_ALL_TRAIN_UNIV\n",
      "    H36M-GT-CAM_NO_FACTOR-INPUT_FROM_3D_CANONICAL_SAME_Z-RAND_YAW_M90_P100-RAND_PITCH_M90_P100-RAND_ROLL_M30_P100-TR_S1_TS_S5678\n",
      "    H36M-GT-CAM_NO_FACTOR-INPUT_FROM_3D_CANONICAL_SAME_Z-STEP_ROT_1-SINU_PITCH_M15_P273-SINU_ROLL_M15_P273\n",
      "    H36M-GT-CAM_NO_FACTOR-INPUT_FROM_3D_CANONICAL_SAME_Z-STEP_ROT_1-SINU_PITCH_M15_P273-SINU_ROLL_M15_P273-TR_S1_TS_S5678\n",
      "    H36M-GT-CAM_NO_FACTOR-INPUT_FROM_3D_CANONICAL_SAME_Z-STEP_ROT_1-SINU_PITCH_M30_P273-SINU_ROLL_M30_P273-TR_S1_TS_S5678\n",
      "    H36M-GT-CAM_NO_FACTOR-RAND_YAW_M45_P100-RAND_PITCH_M45_P100-RAND_ROLL_M30_P100-TR_S1_TS_S5678\n",
      "    H36M-GT-CAM_NO_FACTOR-S1_TS_S5678\n",
      "    H36M-GT-CAM_NO_FACTOR-STEP_ROT_0.5-SINU_PITCH_M15_P273-SINU_ROLL_M15_P273\n",
      "    H36M-GT-CAM_NO_FACTOR-STEP_ROT_3-TR_S1_TS_S5678\n",
      "    H36M_CANONICALIZATION-GT-INPUT_FROM_3D_CANONICAL_SAME_Z-TR_S1_TS_S5678\n",
      "\n",
      "In subset_list but not in yaml_files:\n",
      "    KOOKMIN-RTM-FOLD1\n",
      "    KOOKMIN-RTM-FOLD2\n",
      "    KOOKMIN-RTM-FOLD3\n",
      "    KOOKMIN-RTM-FOLD4\n",
      "    KOOKMIN-RTM-FOLD5\n"
     ]
    }
   ],
   "source": [
    "print('In yaml_files but not in subset_list:')\n",
    "yamls = natsorted([item.split('.yaml')[0] for item in os.listdir('./data/motion3d/yaml_files')])\n",
    "for item in yamls:\n",
    "    if item not in subset_list:\n",
    "        print('   ', item)\n",
    "\n",
    "print()\n",
    "print('In subset_list but not in yaml_files:')\n",
    "to_generate = []\n",
    "for item in subset_list:\n",
    "    if item not in yamls:\n",
    "        print('   ', item)\n",
    "        to_generate.append(item)"
   ]
  },
  {
   "cell_type": "code",
   "execution_count": 3,
   "metadata": {},
   "outputs": [
    {
     "data": {
      "text/plain": [
       "['KOOKMIN-RTM-FOLD1',\n",
       " 'KOOKMIN-RTM-FOLD2',\n",
       " 'KOOKMIN-RTM-FOLD3',\n",
       " 'KOOKMIN-RTM-FOLD4',\n",
       " 'KOOKMIN-RTM-FOLD5']"
      ]
     },
     "execution_count": 3,
     "metadata": {},
     "output_type": "execute_result"
    }
   ],
   "source": [
    "to_generate"
   ]
  },
  {
   "cell_type": "code",
   "execution_count": 4,
   "metadata": {},
   "outputs": [
    {
     "name": "stdout",
     "output_type": "stream",
     "text": [
      "KOOKMIN-RTM-FOLD1\n",
      "/home/hrai/codes/MotionBERT/data/motion3d/yaml_files/KOOKMIN-RTM-FOLD1.yaml\n",
      "KOOKMIN-RTM-FOLD2\n",
      "/home/hrai/codes/MotionBERT/data/motion3d/yaml_files/KOOKMIN-RTM-FOLD2.yaml\n",
      "KOOKMIN-RTM-FOLD3\n",
      "/home/hrai/codes/MotionBERT/data/motion3d/yaml_files/KOOKMIN-RTM-FOLD3.yaml\n",
      "KOOKMIN-RTM-FOLD4\n",
      "/home/hrai/codes/MotionBERT/data/motion3d/yaml_files/KOOKMIN-RTM-FOLD4.yaml\n",
      "KOOKMIN-RTM-FOLD5\n",
      "/home/hrai/codes/MotionBERT/data/motion3d/yaml_files/KOOKMIN-RTM-FOLD5.yaml\n"
     ]
    }
   ],
   "source": [
    "blacklist = ['3DHP-GT-CAM_NO_FACTOR-POSEAUG_TEST_2929', '3DHP-GT-CAM_NO_FACTOR-POSYNDA_TESTSET']\n",
    "for subset in to_generate: # subset_list\n",
    "    if subset in blacklist: continue\n",
    "    gernerate_dataset_yaml(subset)"
   ]
  },
  {
   "cell_type": "code",
   "execution_count": null,
   "metadata": {},
   "outputs": [],
   "source": []
  }
 ],
 "metadata": {
  "kernelspec": {
   "display_name": "motionbert",
   "language": "python",
   "name": "python3"
  },
  "language_info": {
   "codemirror_mode": {
    "name": "ipython",
    "version": 3
   },
   "file_extension": ".py",
   "mimetype": "text/x-python",
   "name": "python",
   "nbconvert_exporter": "python",
   "pygments_lexer": "ipython3",
   "version": "3.9.18"
  }
 },
 "nbformat": 4,
 "nbformat_minor": 2
}
