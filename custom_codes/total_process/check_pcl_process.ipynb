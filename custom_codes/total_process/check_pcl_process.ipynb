{
 "cells": [
  {
   "cell_type": "code",
   "execution_count": 1,
   "metadata": {},
   "outputs": [],
   "source": [
    "from common_import import *"
   ]
  },
  {
   "cell_type": "code",
   "execution_count": 2,
   "metadata": {},
   "outputs": [
    {
     "name": "stdout",
     "output_type": "stream",
     "text": [
      "MB_train_h36m_gt_cam_no_factor_input_from_canonical_pcl_original\n"
     ]
    },
    {
     "name": "stdout",
     "output_type": "stream",
     "text": [
      "Loading checkpoint checkpoint/pose3d/MB_train_h36m_gt_cam_no_factor_input_from_canonical_pcl_original/best_epoch.bin\n",
      "Loading dataset...\n",
      "H36M-GT-CAM_NO_FACTOR-INPUT_FROM_CANONICAL_PCL_ORIGINAL\n",
      "[overwrite: False] ==> Loading H36M source_list...\n",
      "[overwrite: False] ==> Loading H36M cam_param...\n",
      "[overwrite: False] ==> Loading H36M cam_3d...\n",
      "[overwrite: False] ==> Loading H36M cam_3d_canonical_pcl_original...\n",
      "[overwrite: False] ==> Loading H36M img_2d_canonical_pcl_original...\n",
      "INFO: Testing\n",
      "No epoch information in the checkpoint\n"
     ]
    },
    {
     "name": "stderr",
     "output_type": "stream",
     "text": [
      "100%|██████████| 133/133 [00:46<00:00,  2.84it/s]\n"
     ]
    },
    {
     "name": "stdout",
     "output_type": "stream",
     "text": [
      "No eval_keypoint. Use part list\n",
      "Part: whole\n",
      "Protocol #1 Error (MPJPE): 23.633188628847385 mm\n",
      "Protocol #2 Error (P-MPJPE): 18.086285298231353 mm\n",
      "----------------------------------------\n"
     ]
    }
   ],
   "source": [
    "# load model\n",
    "checkpoint_name = 'MB_train_h36m_gt_cam_no_factor_input_from_canonical_pcl_original'\n",
    "args, opts = get_opt_args_from_model_name(checkpoint_name, verbose=False)\n",
    "model_pos, chk_filename, checkpoint = load_model(opts, args)\n",
    "# load dataset\n",
    "subset = 'H36M-GT-CAM_NO_FACTOR-INPUT_FROM_CANONICAL_PCL_ORIGINAL'\n",
    "if 'PCL' in subset: args.fix_orientation_pred = True # load dataset\n",
    "args.subset_list = [subset]\n",
    "train_loader, test_loader, _, _, datareader = load_dataset(args, use_new_datareader=True)\n",
    "e1, e2, results_all, inputs_all, gts_all, total_result_dict = evaluate(args, model_pos, test_loader, datareader, checkpoint, only_one_batch=False)"
   ]
  },
  {
   "cell_type": "code",
   "execution_count": 5,
   "metadata": {},
   "outputs": [],
   "source": [
    "batch_num = 0\n",
    "pred_3d = results_all[batch_num].copy()\n",
    "input_2d = inputs_all[batch_num].copy()\n",
    "gt_3d = gts_all[batch_num].copy()"
   ]
  },
  {
   "cell_type": "code",
   "execution_count": 6,
   "metadata": {},
   "outputs": [
    {
     "data": {
      "text/plain": [
       "'/home/hrai/codes/PerspectiveCropLayers/src'"
      ]
     },
     "execution_count": 6,
     "metadata": {},
     "output_type": "execute_result"
    }
   ],
   "source": [
    "pwd"
   ]
  },
  {
   "cell_type": "code",
   "execution_count": null,
   "metadata": {},
   "outputs": [],
   "source": [
    "## check original train data\n",
    "frame_num = 500\n",
    "configs = {\n",
    "    'ax_3d': {'type': '3d', 'loc': 221, 'mode': 'cam', 'zlim': [0, 6]},\n",
    "    'ax_3d_top': {'type': '3d', 'loc': 222, 'mode': 'cam_top', 'zlim': [0, 6]},\n",
    "    'ax_2d': {'type': '2d', 'loc': 223, 'W': W, 'H': H},\n",
    "    'ax_2d_virt': {'type': '2d', 'loc': 224, 'W': 1, 'H': 1},\n",
    "}\n",
    "fig, axs = generate_axes(2, configs, fig_title='')\n",
    "plot_pose_setting = [\n",
    "    ('ax_3d', cam_3d,                               {'color': '', 'label': 'original'}),\n",
    "    ('ax_3d', cam_3d_canonical_revolute,            {'color': 'k', 'label': 'canonical_revolute'}),\n",
    "    ('ax_3d_top', cam_3d,                           {'color': '', 'label': 'original'}),\n",
    "    ('ax_3d_top', cam_3d_canonical_revolute,        {'color': 'k', 'label': 'canonical_revolute'}),\n",
    "    ('ax_2d', img_2d,                               {'color': '', 'label': 'original'}),\n",
    "    ('ax_2d', img_2d_canonical_pcl,                 {'color': 'r', 'label': 'pcl_with_K'}),\n",
    "    ('ax_2d', img_2d_canonical_pcl_with_Rz,         {'color': 'b', 'label': 'pcl_with_K_Rz', 'linestyle': '--'}),\n",
    "    ('ax_2d_virt', img_2d_canonical_pcl_original,   {'color': '', 'label': 'pcl_original'}),\n",
    "]\n",
    "general_plot_func(axs, configs, plot_pose_setting, frame_num)\n",
    "plt.sca(axs['ax_3d'])\n",
    "# camera\n",
    "camera = Camera(origin=np.array([0, 0, 0]),\n",
    "                calib_mat=intrinsic,\n",
    "                cam_default_R=np.eye(3),\n",
    "                IMAGE_HEIGHT=H,\n",
    "                IMAGE_WIDTH=W,\n",
    "                cam_name='cam_frame')\n",
    "camera.cam_frame.draw3d(show_name=False)\n",
    "plt.show()"
   ]
  }
 ],
 "metadata": {
  "kernelspec": {
   "display_name": "motionbert",
   "language": "python",
   "name": "python3"
  },
  "language_info": {
   "codemirror_mode": {
    "name": "ipython",
    "version": 3
   },
   "file_extension": ".py",
   "mimetype": "text/x-python",
   "name": "python",
   "nbconvert_exporter": "python",
   "pygments_lexer": "ipython3",
   "version": "3.9.18"
  }
 },
 "nbformat": 4,
 "nbformat_minor": 2
}
