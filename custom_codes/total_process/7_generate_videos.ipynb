{
 "cells": [
  {
   "cell_type": "code",
   "execution_count": 1,
   "metadata": {},
   "outputs": [],
   "source": [
    "from common_import import *"
   ]
  },
  {
   "cell_type": "markdown",
   "metadata": {},
   "source": [
    "### Load dataset"
   ]
  },
  {
   "cell_type": "code",
   "execution_count": 2,
   "metadata": {},
   "outputs": [
    {
     "name": "stdout",
     "output_type": "stream",
     "text": [
      "[overwrite: False] ==> Loading H36M source_list...\n",
      "[overwrite: False] ==> Loading H36M cam_param...\n",
      "[overwrite: False] ==> Loading H36M cam_param-adaptive_focal...\n",
      "[overwrite: False] ==> Loading H36M world_3d...\n",
      "[overwrite: False] ==> Loading H36M cam_3d...\n",
      "[overwrite: False] ==> Loading H36M img_2d...\n",
      "[overwrite: False] ==> Loading H36M img_3d...\n",
      "[overwrite: False] ==> Loading H36M scale_factor...\n",
      "[overwrite: False] ==> Loading H36M img_25d...\n",
      "[overwrite: False] ==> Loading H36M cam_3d_canonical_same_z...\n",
      "[overwrite: False] ==> Loading H36M img_2d_canonical_same_z...\n",
      "[overwrite: False] ==> Loading H36M cam_3d_canonical_same_dist...\n",
      "[overwrite: False] ==> Loading H36M img_2d_canonical_same_dist...\n",
      "[overwrite: False] ==> Loading H36M cam_3d_canonical_fixed_dist_5...\n",
      "[overwrite: False] ==> Loading H36M img_2d_canonical_fixed_dist_5...\n",
      "[overwrite: False] ==> Loading H36M img_2d_canonical_fixed_dist_5-adaptive_focal...\n"
     ]
    }
   ],
   "source": [
    "data_type_list = ['source_list', 'cam_param', 'cam_param_adaptive_focal',\n",
    "                  'world_3d', 'cam_3d', 'img_2d', \n",
    "                  'img_3d', 'scale_factor', 'img_25d', \n",
    "                  'cam_3d_canonical_same_z', 'img_2d_canonical_same_z', \n",
    "                  'cam_3d_canonical_same_dist', 'img_2d_canonical_same_dist',\n",
    "                  'cam_3d_canonical_fixed_dist_5', 'img_2d_canonical_fixed_dist_5', 'img_2d_canonical_fixed_dist_5_adaptive_focal'\n",
    "                  ]\n",
    "overwrite_list = []\n",
    "dataset_name = 'h36m'\n",
    "data = load_data_dict(dataset_name, data_type_list, overwrite_list, verbose=True)"
   ]
  },
  {
   "cell_type": "code",
   "execution_count": 3,
   "metadata": {},
   "outputs": [
    {
     "name": "stdout",
     "output_type": "stream",
     "text": [
      "[overwrite: False] ==> Loading H36M cam_3d-steprot_0.5-sinu_pitch_m15_p273-sinu_roll_m15_p273...\n",
      "[overwrite: False] ==> Loading H36M img_2d-steprot_0.5-sinu_pitch_m15_p273-sinu_roll_m15_p273...\n"
     ]
    },
    {
     "name": "stderr",
     "output_type": "stream",
     "text": [
      "100%|██████████| 836/836 [00:00<00:00, 847.49it/s]\n"
     ]
    },
    {
     "name": "stdout",
     "output_type": "stream",
     "text": [
      "[overwrite: False] ==> Loading H36M cam_3d_canonical_same_z-steprot_0.5-sinu_pitch_m15_p273-sinu_roll_m15_p273...\n",
      "[overwrite: False] ==> Loading H36M img_2d_canonical_same_z-steprot_0.5-sinu_pitch_m15_p273-sinu_roll_m15_p273...\n"
     ]
    }
   ],
   "source": [
    "# with steprot\n",
    "overwrite_list = [] # ['cam_3d', 'img_2d', 'cam_3d_canonical_same_z', 'img_2d_canonical_same_z']\n",
    "data.update(load_data_dict(dataset_name, ['cam_3d', 'img_2d', 'cam_3d_canonical_same_z', 'img_2d_canonical_same_z'], overwrite_list, verbose=True, \n",
    "                           data_aug={'step_rot': 0.5, 'sinu_pitch_mag': 15, 'sinu_pitch_period': 273, 'sinu_roll_mag': 15, 'sinu_roll_period': 273}))"
   ]
  },
  {
   "cell_type": "code",
   "execution_count": 14,
   "metadata": {},
   "outputs": [
    {
     "data": {
      "text/plain": [
       "dict_keys(['source_list', 'cam_param', 'cam_param_adaptive_focal', 'world_3d', 'cam_3d', 'img_2d', 'img_3d', 'scale_factor', 'img_25d', 'cam_3d_canonical_same_z', 'img_2d_canonical_same_z', 'cam_3d_canonical_same_dist', 'img_2d_canonical_same_dist', 'cam_3d_canonical_fixed_dist_5', 'img_2d_canonical_fixed_dist_5', 'img_2d_canonical_fixed_dist_5_adaptive_focal', 'cam_3d-sinu_roll_m15_p273', 'img_2d-sinu_roll_m15_p273', 'cam_3d_canonical_same_z-sinu_roll_m15_p273', 'img_2d_canonical_same_z-sinu_roll_m15_p273', 'cam_3d-sinu_pitch_m15_p273-sinu_roll_m15_p273', 'img_2d-sinu_pitch_m15_p273-sinu_roll_m15_p273', 'cam_3d_canonical_same_z-sinu_pitch_m15_p273-sinu_roll_m15_p273', 'img_2d_canonical_same_z-sinu_pitch_m15_p273-sinu_roll_m15_p273'])"
      ]
     },
     "execution_count": 14,
     "metadata": {},
     "output_type": "execute_result"
    }
   ],
   "source": [
    "data.keys()"
   ]
  },
  {
   "cell_type": "markdown",
   "metadata": {},
   "source": [
    "### Generate video from source"
   ]
  },
  {
   "cell_type": "code",
   "execution_count": 4,
   "metadata": {},
   "outputs": [
    {
     "data": {
      "text/plain": [
       "(4,\n",
       " ['S1_54138969_Waiting 1',\n",
       "  'S1_60457274_Waiting 1',\n",
       "  'S1_55011271_Waiting 1',\n",
       "  'S1_58860488_Waiting 1'])"
      ]
     },
     "execution_count": 4,
     "metadata": {},
     "output_type": "execute_result"
    }
   ],
   "source": [
    "# select target\n",
    "source_list = data['source_list'].copy()\n",
    "shuffled = False\n",
    "num_sources = 4\n",
    "if shuffled: random.shuffle(source_list)\n",
    "if num_sources > 0: target_list = source_list[:num_sources]\n",
    "else: target_list = source_list \n",
    "len(target_list), target_list"
   ]
  },
  {
   "cell_type": "code",
   "execution_count": 5,
   "metadata": {},
   "outputs": [],
   "source": [
    "# select datatype\n",
    "data_type_3d = 'cam_3d_canonical_same_z-steprot_0.5-sinu_pitch_m15_p273-sinu_roll_m15_p273'\n",
    "data_type_2d = 'img_2d_canonical_same_z-steprot_0.5-sinu_pitch_m15_p273-sinu_roll_m15_p273'\n",
    "if data_type_3d != None and data_type_2d != None: data_type = f'{data_type_3d}+{data_type_2d}'\n",
    "elif data_type_3d != None and data_type_2d == None: data_type = data_type_3d\n",
    "elif data_type_3d == None and data_type_2d != None: data_type = data_type_2d\n",
    "\n",
    "save_folder = f'/home/{user}/codes/MotionBERT/videos/{dataset_name}/{data_type}'\n",
    "if not os.path.exists(save_folder): os.makedirs(save_folder)\n",
    "else: print(f'{save_folder} already exists')"
   ]
  },
  {
   "cell_type": "code",
   "execution_count": 6,
   "metadata": {},
   "outputs": [
    {
     "name": "stderr",
     "output_type": "stream",
     "text": [
      "100%|██████████| 240/240 [00:10<00:00, 23.52it/s]\n",
      "100%|██████████| 240/240 [00:09<00:00, 25.76it/s]\n",
      "100%|██████████| 240/240 [00:09<00:00, 25.69it/s]\n",
      "100%|██████████| 240/240 [00:09<00:00, 25.87it/s]\n"
     ]
    },
    {
     "data": {
      "image/png": "[encoded data removed]",
      "text/plain": [
       "<Figure size 640x480 with 2 Axes>"
      ]
     },
     "metadata": {},
     "output_type": "display_data"
    }
   ],
   "source": [
    "for source in target_list:\n",
    "    subject, cam_id, action = split_source_name(source, dataset_name)\n",
    "    save_path = os.path.join(save_folder, f'{subject}_{cam_id}_{action}.mp4')\n",
    "    if os.path.exists(save_path): \n",
    "        print(f'{save_path} already exists')\n",
    "        continue\n",
    "    cam_param = data['cam_param'][subject][action][cam_id].copy()\n",
    "    W, H, R, t, C, intrinsic, extrinsic = cam_param['W'], cam_param['H'], cam_param['R'], cam_param['t'], cam_param['C'], cam_param['intrinsic'], cam_param['extrinsic']\n",
    "    pose3d = data[data_type_3d][subject][action][cam_id].copy()\n",
    "    pose2d = data[data_type_2d][subject][action][cam_id].copy()\n",
    "    pose_2d_norm = normalize_input(pose2d, W, H)\n",
    "    \n",
    "    fig = plt.figure(0)\n",
    "    fig.clear()\n",
    "    ax_2d = axes_2d(fig, loc=122, W=W, H=H)\n",
    "    ax_3d = axes_3d(fig, loc=121, mode='cam')\n",
    "    \n",
    "    ax_pose = [(ax_3d, pose3d), (ax_2d, pose_2d_norm)]\n",
    "    generate_pose_video(fig, save_path, ax_pose, fps=5, stride=6, normalize_2d=True)\n"
   ]
  },
  {
   "cell_type": "markdown",
   "metadata": {},
   "source": [
    "### Generate video from datareader"
   ]
  },
  {
   "cell_type": "code",
   "execution_count": 2,
   "metadata": {},
   "outputs": [
    {
     "name": "stdout",
     "output_type": "stream",
     "text": [
      "configs/pose3d/MB_train_h36m_gt_cam_no_factor_input_from_canonical_3d_same_z_input_centering_rand_yaw_m180_p100_rand_pitch_m90_p100_rand_roll_m30_p100.yaml\n",
      "True\n",
      "Loading dataset...\n",
      "H36M-GT-CAM_NO_FACTOR-INPUT_FROM_3D_CANONICAL_SAME_Z-RAND_YAW_M180_P100-RAND_PITCH_M90_P100-RAND_ROLL_M30_P100\n",
      "[overwrite: False] ==> Loading H36M source_list...\n",
      "[overwrite: False] ==> Loading H36M cam_param...\n",
      "[overwrite: False] ==> Loading H36M cam_3d-rand_yaw_m180_p100-rand_pitch_m90_p100-rand_roll_m30_p100...\n",
      "[overwrite: False] ==> Loading H36M cam_3d_canonical_same_z-rand_yaw_m180_p100-rand_pitch_m90_p100-rand_roll_m30_p100...\n",
      "[overwrite: False] ==> Loading H36M img_2d_canonical_same_z-rand_yaw_m180_p100-rand_pitch_m90_p100-rand_roll_m30_p100...\n"
     ]
    }
   ],
   "source": [
    "checkpoint_name = 'MB_train_h36m_gt_cam_no_factor_input_from_canonical_3d_same_z_input_centering_rand_yaw_m45_p100_rand_pitch_m45_p100_rand_roll_m30_p100'\n",
    "args, opts = get_opt_args_from_model_name(checkpoint_name)\n",
    "#model_pos, chk_filename, checkpoint = load_model(opts, args)\n",
    "\n",
    "subset = 'H36M-GT-CAM_NO_FACTOR-INPUT_FROM_3D_CANONICAL_SAME_Z-RAND_YAW_M180_P100-RAND_PITCH_M90_P100-RAND_ROLL_M30_P100'\n",
    "args.subset_list = [subset]\n",
    "train_loader, test_loader, _, _, datareader = load_dataset(args, use_new_datareader=True)"
   ]
  },
  {
   "cell_type": "code",
   "execution_count": 3,
   "metadata": {},
   "outputs": [],
   "source": [
    "data_type_3d = 'cam_3d_from_canonical_3d'\n",
    "data_type_2d = 'joint_2d_from_canonical_3d'\n",
    "\n",
    "user = getpass.getuser()\n",
    "save_folder = f'/home/{user}/codes/MotionBERT/videos/input+gt/{checkpoint_name}/from_datareader/{data_type_3d}+{data_type_2d}'\n",
    "if not os.path.exists(save_folder): os.makedirs(save_folder)"
   ]
  },
  {
   "cell_type": "code",
   "execution_count": 4,
   "metadata": {},
   "outputs": [
    {
     "ename": "AttributeError",
     "evalue": "'DataReaderTotalGroup' object has no attribute 'dt_dataset'",
     "output_type": "error",
     "traceback": [
      "\u001b[0;31m---------------------------------------------------------------------------\u001b[0m",
      "\u001b[0;31mAttributeError\u001b[0m                            Traceback (most recent call last)",
      "Cell \u001b[0;32mIn[4], line 1\u001b[0m\n\u001b[0;32m----> 1\u001b[0m source \u001b[38;5;241m=\u001b[39m natsorted(\u001b[38;5;28mlist\u001b[39m(\u001b[38;5;28mset\u001b[39m(\u001b[43mdatareader\u001b[49m\u001b[38;5;241;43m.\u001b[39;49m\u001b[43mdt_dataset\u001b[49m[\u001b[38;5;124m'\u001b[39m\u001b[38;5;124mtrain\u001b[39m\u001b[38;5;124m'\u001b[39m][\u001b[38;5;124m'\u001b[39m\u001b[38;5;124msource\u001b[39m\u001b[38;5;124m'\u001b[39m])))[\u001b[38;5;241m1\u001b[39m]\n\u001b[1;32m      2\u001b[0m target_frames \u001b[38;5;241m=\u001b[39m np\u001b[38;5;241m.\u001b[39mwhere(datareader\u001b[38;5;241m.\u001b[39mdt_dataset[\u001b[38;5;124m'\u001b[39m\u001b[38;5;124mtrain\u001b[39m\u001b[38;5;124m'\u001b[39m][\u001b[38;5;124m'\u001b[39m\u001b[38;5;124msource\u001b[39m\u001b[38;5;124m'\u001b[39m] \u001b[38;5;241m==\u001b[39m source)[\u001b[38;5;241m0\u001b[39m]\n\u001b[1;32m      3\u001b[0m subject, cam_id, action \u001b[38;5;241m=\u001b[39m split_source_name(source, \u001b[38;5;124m'\u001b[39m\u001b[38;5;124mh36m\u001b[39m\u001b[38;5;124m'\u001b[39m)\n",
      "\u001b[0;31mAttributeError\u001b[0m: 'DataReaderTotalGroup' object has no attribute 'dt_dataset'"
     ]
    }
   ],
   "source": [
    "source = natsorted(list(set(datareader.dt_dataset['train']['source'])))[1]\n",
    "target_frames = np.where(datareader.dt_dataset['train']['source'] == source)[0]\n",
    "subject, cam_id, action = split_source_name(source, 'h36m')\n",
    "cam_param = datareader.dt_dataset['test']['cam_param'][target_frames][0]\n",
    "W, H, R, t, C, intrinsic, extrinsic = cam_param['W'], cam_param['H'], cam_param['R'], cam_param['t'], cam_param['C'], cam_param['intrinsic'], cam_param['extrinsic']\n",
    "\n",
    "fig = plt.figure(0)\n",
    "fig.clear()\n",
    "ax_2d = axes_2d(fig, loc=122)\n",
    "ax_3d = axes_3d(fig, loc=121, mode='cam')\n",
    "\n",
    "pose3d = datareader.dt_dataset['train'][data_type_3d][target_frames].copy()\n",
    "pose2d = datareader.dt_dataset['train'][data_type_2d][target_frames].copy()\n",
    "pose2d_norm = normalize_input(pose2d, W, H)\n",
    "\n",
    "ax_pose = [(ax_3d, pose3d), (ax_2d, pose2d_norm)]\n",
    "save_path = os.path.join(save_folder, f'{subject}_{cam_id}_{action}.mp4')\n",
    "generate_pose_video(fig, save_path, ax_pose, fps=5, stride=6, normalize_2d=True)"
   ]
  },
  {
   "cell_type": "markdown",
   "metadata": {},
   "source": [
    "### Generate video from datareadergroup"
   ]
  },
  {
   "cell_type": "code",
   "execution_count": 4,
   "metadata": {},
   "outputs": [
    {
     "name": "stdout",
     "output_type": "stream",
     "text": [
      "configs/pose3d/MB_train_h36m_gt_cam_no_factor.yaml\n",
      "True\n",
      "Loading dataset...\n",
      "3DHP-GT-CAM_NO_FACTOR-TEST_TS1_6\n",
      "[overwrite: False] ==> Loading 3DHP source_list...\n",
      "[overwrite: False] ==> Loading 3DHP cam_param...\n",
      "[overwrite: False] ==> Loading 3DHP cam_3d...\n"
     ]
    },
    {
     "name": "stdout",
     "output_type": "stream",
     "text": [
      "[overwrite: False] ==> Loading 3DHP img_2d...\n"
     ]
    }
   ],
   "source": [
    "checkpoint_name = 'MB_train_h36m_gt_cam_no_factor'\n",
    "subset = '3DHP-GT-CAM_NO_FACTOR-TEST_TS1_6'\n",
    "args, opts = get_opt_args_from_model_name(checkpoint_name)\n",
    "args.subset_list = [subset]\n",
    "train_loader, test_loader, _, _, datareader = load_dataset(args, use_new_datareader=True)\n",
    "subset = args.subset_list[0]\n",
    "\n",
    "data_type_3d = 'cam_3d' # 'cam_3d', 'cam_3d_from_canonical_3d'\n",
    "data_type_2d = 'joint_2d' # 'joint_2d', 'joint_2d_from_canonical_3d'\n",
    "\n",
    "user = getpass.getuser()\n",
    "save_folder = f'/home/{user}/codes/MotionBERT/videos/input+gt/{subset}/from_datareader/{data_type_3d}+{data_type_2d}'\n",
    "if not os.path.exists(save_folder): os.makedirs(save_folder)\n",
    "\n",
    "dt_dataset = datareader.datareader[subset].dt_dataset.copy()"
   ]
  },
  {
   "cell_type": "code",
   "execution_count": 5,
   "metadata": {},
   "outputs": [
    {
     "name": "stderr",
     "output_type": "stream",
     "text": [
      "  0%|          | 0/1004 [00:00<?, ?it/s]"
     ]
    },
    {
     "name": "stderr",
     "output_type": "stream",
     "text": [
      "100%|██████████| 1004/1004 [00:36<00:00, 27.64it/s]\n"
     ]
    },
    {
     "data": {
      "image/png": "[encoded data removed]",
      "text/plain": [
       "<Figure size 640x480 with 2 Axes>"
      ]
     },
     "metadata": {},
     "output_type": "display_data"
    }
   ],
   "source": [
    "for i in range(1):\n",
    "    source = natsorted(list(set(dt_dataset['test']['source'])))[i]\n",
    "    target_frames = np.where(dt_dataset['test']['source'] == source)[0]\n",
    "    subject, cam_id, action = split_source_name(source, 'h36m')\n",
    "    save_path = os.path.join(save_folder, f'{subject}_{cam_id}_{action}.mp4')\n",
    "    if os.path.exists(save_path): \n",
    "        print(f'{save_path} already exists')\n",
    "        continue\n",
    "    cam_param = dt_dataset['test']['cam_param'][target_frames][0]\n",
    "    W, H, R, t, C, intrinsic, extrinsic = cam_param['W'], cam_param['H'], cam_param['R'], cam_param['t'], cam_param['C'], cam_param['intrinsic'], cam_param['extrinsic']\n",
    "\n",
    "    fig = plt.figure(0)\n",
    "    fig.clear()\n",
    "    ax_2d = axes_2d(fig, loc=122)\n",
    "    ax_3d = axes_3d(fig, loc=121, mode='cam')\n",
    "\n",
    "    pose3d = dt_dataset['test'][data_type_3d][target_frames].copy()\n",
    "    pose2d = dt_dataset['test'][data_type_2d][target_frames].copy()\n",
    "    pose2d_norm = normalize_input(pose2d, W, H)\n",
    "\n",
    "    ax_pose = [(ax_3d, pose3d), (ax_2d, pose2d_norm)]\n",
    "    \n",
    "    generate_pose_video(fig, save_path, ax_pose, fps=5, stride=6, normalize_2d=True)"
   ]
  },
  {
   "cell_type": "markdown",
   "metadata": {},
   "source": [
    "### Generate video from sliced data"
   ]
  },
  {
   "cell_type": "code",
   "execution_count": 9,
   "metadata": {},
   "outputs": [
    {
     "name": "stdout",
     "output_type": "stream",
     "text": [
      "configs/pose3d/MB_train_h36m_gt_cam_no_factor_input_from_canonical_3d_same_z_input_centering_steprot_1+original_tr_s1_ts_s5678.yaml\n",
      "True\n",
      "Loading dataset...\n",
      "H36M-GT-CAM_NO_FACTOR-INPUT_FROM_3D_CANONICAL_SAME_Z-STEP_ROT_1-TR_S1_TS_S5678\n",
      "[overwrite: False] ==> Loading H36M source_list...\n",
      "[overwrite: False] ==> Loading H36M cam_param...\n",
      "[overwrite: False] ==> Loading H36M cam_3d_steprot_1.0...\n",
      "[overwrite: False] ==> Loading H36M img_2d_canonical_same_z_steprot_1.0...\n",
      "[overwrite: False] ==> Loading H36M cam_3d_canonical_same_z_steprot_1.0...\n",
      "H36M-GT-CAM_NO_FACTOR-INPUT_FROM_3D_CANONICAL_SAME_Z-TR_S1_TS_S5678\n",
      "[overwrite: False] ==> Loading H36M source_list...\n",
      "[overwrite: False] ==> Loading H36M cam_param...\n",
      "[overwrite: False] ==> Loading H36M cam_3d...\n",
      "[overwrite: False] ==> Loading H36M img_2d_canonical_same_z...\n",
      "[overwrite: False] ==> Loading H36M cam_3d_canonical_same_z...\n",
      "read H36M-GT-CAM_NO_FACTOR-INPUT_FROM_3D_CANONICAL_SAME_Z-STEP_ROT_1-TR_S1_TS_S5678 2d\n",
      "read H36M-GT-CAM_NO_FACTOR-INPUT_FROM_3D_CANONICAL_SAME_Z-TR_S1_TS_S5678 2d\n",
      "read H36M-GT-CAM_NO_FACTOR-INPUT_FROM_3D_CANONICAL_SAME_Z-STEP_ROT_1-TR_S1_TS_S5678 3d\n",
      "read H36M-GT-CAM_NO_FACTOR-INPUT_FROM_3D_CANONICAL_SAME_Z-TR_S1_TS_S5678 3d\n"
     ]
    }
   ],
   "source": [
    "checkpoint_name = 'MB_train_h36m_gt_cam_no_factor_input_from_canonical_3d_same_z_input_centering_steprot_1+original_tr_s1_ts_s5678'\n",
    "args, opts = get_opt_args_from_model_name(checkpoint_name)\n",
    "#model_pos, chk_filename, checkpoint = load_model(opts, args)\n",
    "\n",
    "#subset = 'H36M-GT-CAM_NO_FACTOR-INPUT_FROM_3D_CANONICAL_SAME_Z-TR_S1_TS_S5678'\n",
    "#args.subset_list = [subset]\n",
    "train_loader, test_loader, _, _, datareader = load_dataset(args, use_new_datareader=True)"
   ]
  },
  {
   "cell_type": "code",
   "execution_count": 6,
   "metadata": {},
   "outputs": [
    {
     "data": {
      "text/plain": [
       "'joint_2d_from_canonical_3d'"
      ]
     },
     "execution_count": 6,
     "metadata": {},
     "output_type": "execute_result"
    }
   ],
   "source": [
    "datareader.input_mode"
   ]
  },
  {
   "cell_type": "code",
   "execution_count": 15,
   "metadata": {},
   "outputs": [
    {
     "data": {
      "text/plain": [
       "((248376, 17, 2), (1311376, 17, 2), (248376, 17, 3), (1311376, 17, 3))"
      ]
     },
     "execution_count": 15,
     "metadata": {},
     "output_type": "execute_result"
    }
   ],
   "source": [
    "trainset = datareader.dt_dataset['train'][datareader.input_mode][::datareader.sample_stride, :, :2]#.astype(np.float32)  # [N, 17, 2]\n",
    "testset = datareader.dt_dataset['test'][datareader.input_mode][::datareader.sample_stride, :, :2]#.astype(np.float32)  # [N, 17, 2]\n",
    "train_labels = datareader.dt_dataset['train'][datareader.gt_mode][::datareader.sample_stride, :, :3]#.astype(np.float32)  # [N, 17, 2]\n",
    "test_labels = datareader.dt_dataset['test'][datareader.gt_mode][::datareader.sample_stride, :, :3]#.astype(np.float32)  # [N, 17, 2]\n",
    "train_cam_param = datareader.dt_dataset['train']['cam_param'][::datareader.sample_stride]\n",
    "test_cam_param = datareader.dt_dataset['test']['cam_param'][::datareader.sample_stride]\n",
    "train_W, train_H = np.array([cam_param['W'] for cam_param in train_cam_param]), np.array([cam_param['H'] for cam_param in train_cam_param]) # (N,), (N,)\n",
    "test_W, test_H = np.array([cam_param['W'] for cam_param in test_cam_param]), np.array([cam_param['H'] for cam_param in test_cam_param]) # (N,), (N,)\n",
    "trainset.shape, testset.shape, train_labels.shape, test_labels.shape"
   ]
  },
  {
   "cell_type": "code",
   "execution_count": 16,
   "metadata": {},
   "outputs": [
    {
     "name": "stdout",
     "output_type": "stream",
     "text": [
      "S6_55011271_Posing 2\n"
     ]
    }
   ],
   "source": [
    "source = list(set(datareader.dt_dataset['test']['source']))[0]\n",
    "print(source)\n",
    "target_frames = np.where(datareader.dt_dataset['test']['source'] == source)[0]\n",
    "subject, cam_id, action = split_source_name(source, 'h36m')"
   ]
  },
  {
   "cell_type": "code",
   "execution_count": 17,
   "metadata": {},
   "outputs": [
    {
     "data": {
      "text/plain": [
       "((1159, 17, 2), (1159, 17, 3))"
      ]
     },
     "execution_count": 17,
     "metadata": {},
     "output_type": "execute_result"
    }
   ],
   "source": [
    "testset[target_frames].shape, test_labels[target_frames].shape"
   ]
  },
  {
   "cell_type": "code",
   "execution_count": 18,
   "metadata": {},
   "outputs": [
    {
     "name": "stderr",
     "output_type": "stream",
     "text": [
      "  0%|          | 0/194 [00:00<?, ?it/s]"
     ]
    },
    {
     "name": "stderr",
     "output_type": "stream",
     "text": [
      "100%|██████████| 194/194 [00:07<00:00, 26.60it/s]\n"
     ]
    },
    {
     "data": {
      "image/png": "[encoded data removed]",
      "text/plain": [
       "<Figure size 640x480 with 2 Axes>"
      ]
     },
     "metadata": {},
     "output_type": "display_data"
    }
   ],
   "source": [
    "user = getpass.getuser()\n",
    "save_folder = f'/home/{user}/codes/MotionBERT/videos/'\n",
    "if not os.path.exists(save_folder): os.makedirs(save_folder)\n",
    "save_path = os.path.join(save_folder, f'test4.mp4')\n",
    "\n",
    "fig = plt.figure(0)\n",
    "fig.clear()\n",
    "ax_2d = axes_2d(fig, loc=122)\n",
    "ax_3d = axes_3d(fig, loc=121, mode='cam')\n",
    "\n",
    "#pose3d = train_labels[target_frames].copy()\n",
    "#pose2d = trainset[target_frames][...,:2].copy()\n",
    "pose3d = datareader.dt_dataset['test'][datareader.gt_mode][target_frames].copy()\n",
    "pose2d = datareader.dt_dataset['test'][datareader.input_mode][target_frames][...,:2].copy()\n",
    "\n",
    "pose2d_norm = normalize_input(pose2d, test_W[target_frames][0], test_H[target_frames][0])\n",
    "ax_pose = [(ax_3d, pose3d), (ax_2d, pose2d_norm)]\n",
    "generate_pose_video(fig, save_path, ax_pose, fps=5, stride=6, normalize_2d=True)"
   ]
  },
  {
   "cell_type": "code",
   "execution_count": 38,
   "metadata": {},
   "outputs": [
    {
     "data": {
      "text/plain": [
       "('joint_2d_from_canonical_3d', 'cam_3d')"
      ]
     },
     "execution_count": 38,
     "metadata": {},
     "output_type": "execute_result"
    }
   ],
   "source": [
    "args.input_mode, args.gt_mode"
   ]
  },
  {
   "cell_type": "code",
   "execution_count": 12,
   "metadata": {},
   "outputs": [
    {
     "name": "stdout",
     "output_type": "stream",
     "text": [
      "read H36M-GT-CAM_NO_FACTOR-INPUT_FROM_3D_CANONICAL_SAME_Z-STEP_ROT_1-TR_S1_TS_S5678 2d\n",
      "read H36M-GT-CAM_NO_FACTOR-INPUT_FROM_3D_CANONICAL_SAME_Z-TR_S1_TS_S5678 2d\n",
      "read H36M-GT-CAM_NO_FACTOR-INPUT_FROM_3D_CANONICAL_SAME_Z-STEP_ROT_1-TR_S1_TS_S5678 3d\n",
      "read H36M-GT-CAM_NO_FACTOR-INPUT_FROM_3D_CANONICAL_SAME_Z-TR_S1_TS_S5678 3d\n"
     ]
    }
   ],
   "source": [
    "train_data, test_data = datareader.read_2d()     # train_data (1559752, 17, 3) test_data (566920, 17, 3)\n",
    "train_labels, test_labels = datareader.read_3d() # train_labels (1559752, 17, 3) test_labels (566920, 17, 3)\n",
    "split_id_train, split_id_test = datareader.get_split_id()"
   ]
  },
  {
   "cell_type": "code",
   "execution_count": 14,
   "metadata": {},
   "outputs": [
    {
     "data": {
      "text/plain": [
       "((496752, 17, 3), (2622752, 17, 3), (496752, 17, 3), (2622752, 17, 3))"
      ]
     },
     "execution_count": 14,
     "metadata": {},
     "output_type": "execute_result"
    }
   ],
   "source": [
    "train_data.shape, test_data.shape, train_labels.shape, test_labels.shape"
   ]
  },
  {
   "cell_type": "code",
   "execution_count": 15,
   "metadata": {},
   "outputs": [
    {
     "ename": "AttributeError",
     "evalue": "'DataReaderTotalGroup' object has no attribute 'dt_dataset'",
     "output_type": "error",
     "traceback": [
      "\u001b[0;31m---------------------------------------------------------------------------\u001b[0m",
      "\u001b[0;31mAttributeError\u001b[0m                            Traceback (most recent call last)",
      "Cell \u001b[0;32mIn[15], line 1\u001b[0m\n\u001b[0;32m----> 1\u001b[0m source \u001b[38;5;241m=\u001b[39m \u001b[38;5;28mlist\u001b[39m(\u001b[38;5;28mset\u001b[39m(\u001b[43mdatareader\u001b[49m\u001b[38;5;241;43m.\u001b[39;49m\u001b[43mdt_dataset\u001b[49m[\u001b[38;5;124m'\u001b[39m\u001b[38;5;124mtrain\u001b[39m\u001b[38;5;124m'\u001b[39m][\u001b[38;5;124m'\u001b[39m\u001b[38;5;124msource\u001b[39m\u001b[38;5;124m'\u001b[39m]))[\u001b[38;5;241m3\u001b[39m]\n\u001b[1;32m      2\u001b[0m \u001b[38;5;28mprint\u001b[39m(source)\n\u001b[1;32m      3\u001b[0m target_frames \u001b[38;5;241m=\u001b[39m np\u001b[38;5;241m.\u001b[39mwhere(datareader\u001b[38;5;241m.\u001b[39mdt_dataset[\u001b[38;5;124m'\u001b[39m\u001b[38;5;124mtrain\u001b[39m\u001b[38;5;124m'\u001b[39m][\u001b[38;5;124m'\u001b[39m\u001b[38;5;124msource\u001b[39m\u001b[38;5;124m'\u001b[39m] \u001b[38;5;241m==\u001b[39m source)[\u001b[38;5;241m0\u001b[39m]\n",
      "\u001b[0;31mAttributeError\u001b[0m: 'DataReaderTotalGroup' object has no attribute 'dt_dataset'"
     ]
    }
   ],
   "source": [
    "source = list(set(datareader.dt_dataset['train']['source']))[3]\n",
    "print(source)\n",
    "target_frames = np.where(datareader.dt_dataset['train']['source'] == source)[0]\n",
    "subject, cam_id, action = split_source_name(source, 'h36m')"
   ]
  },
  {
   "cell_type": "code",
   "execution_count": 36,
   "metadata": {},
   "outputs": [
    {
     "data": {
      "text/plain": [
       "((1275, 17, 3), (1275, 17, 3))"
      ]
     },
     "execution_count": 36,
     "metadata": {},
     "output_type": "execute_result"
    }
   ],
   "source": [
    "train_data[target_frames].shape, train_labels[target_frames].shape"
   ]
  },
  {
   "cell_type": "code",
   "execution_count": 37,
   "metadata": {},
   "outputs": [
    {
     "name": "stderr",
     "output_type": "stream",
     "text": [
      "100%|██████████| 213/213 [00:07<00:00, 27.36it/s]\n"
     ]
    },
    {
     "data": {
      "image/png": "[encoded data removed]",
      "text/plain": [
       "<Figure size 640x480 with 2 Axes>"
      ]
     },
     "metadata": {},
     "output_type": "display_data"
    }
   ],
   "source": [
    "user = getpass.getuser()\n",
    "save_folder = f'/home/{user}/codes/MotionBERT/videos/'\n",
    "if not os.path.exists(save_folder): os.makedirs(save_folder)\n",
    "save_path = os.path.join(save_folder, f'test2.mp4')\n",
    "\n",
    "fig = plt.figure(0)\n",
    "fig.clear()\n",
    "ax_2d = axes_2d(fig, loc=122)\n",
    "ax_3d = axes_3d(fig, loc=121, mode='cam')\n",
    "\n",
    "pose3d = train_labels[target_frames].copy()\n",
    "pose2d = train_data[target_frames][...,:2].copy()\n",
    "ax_pose = [(ax_3d, pose3d), (ax_2d, pose2d)]\n",
    "generate_pose_video(fig, save_path, ax_pose, fps=5, stride=6, normalize_2d=True)"
   ]
  },
  {
   "cell_type": "code",
   "execution_count": 50,
   "metadata": {},
   "outputs": [
    {
     "name": "stderr",
     "output_type": "stream",
     "text": [
      "100%|██████████| 41/41 [00:01<00:00, 22.70it/s]\n"
     ]
    },
    {
     "data": {
      "image/png": "[encoded data removed]",
      "text/plain": [
       "<Figure size 640x480 with 2 Axes>"
      ]
     },
     "metadata": {},
     "output_type": "display_data"
    }
   ],
   "source": [
    "train_data, test_data, train_labels, test_labels = datareader.get_sliced_data()\n",
    "\n",
    "user = getpass.getuser()\n",
    "save_folder = f'/home/{user}/codes/MotionBERT/videos/input+gt/{checkpoint_name}/from_sliced_data/'\n",
    "if not os.path.exists(save_folder): os.makedirs(save_folder)\n",
    "\n",
    "for batch_num in range(len(train_labels)):\n",
    "    pose3d = train_labels[batch_num].copy()\n",
    "    pose2d = train_data[batch_num][...,:2].copy()\n",
    "    \n",
    "    fig = plt.figure(0)\n",
    "    fig.clear()\n",
    "    ax_2d = axes_2d(fig, loc=122)\n",
    "    ax_3d = axes_3d(fig, loc=121, mode='cam')\n",
    "    \n",
    "    ax_pose = [(ax_3d, pose3d), (ax_2d, pose2d)]\n",
    "    save_path = os.path.join(save_folder, f'train_batch{batch_num}.mp4')\n",
    "    generate_pose_video(fig, save_path, ax_pose, fps=5, stride=6, normalize_2d=True)\n",
    "    break"
   ]
  },
  {
   "cell_type": "markdown",
   "metadata": {},
   "source": [
    "### Generate video from dataloader"
   ]
  },
  {
   "cell_type": "code",
   "execution_count": 2,
   "metadata": {},
   "outputs": [
    {
     "name": "stdout",
     "output_type": "stream",
     "text": [
      "configs/pose3d/MB_train_h36m_gt_cam_no_factor_input_from_canonical_3d_same_z_input_centering_steprot_1+original_tr_s1_ts_s5678.yaml\n",
      "True\n",
      "MB_train_h36m_gt_cam_no_factor_input_from_canonical_3d_same_z_input_centering_steprot_1+original_tr_s1_ts_s5678\n",
      "Loading checkpoint checkpoint/pose3d/MB_train_h36m_gt_cam_no_factor_input_from_canonical_3d_same_z_input_centering_steprot_1+original_tr_s1_ts_s5678/best_epoch.bin\n",
      "Loading dataset...\n",
      "H36M-GT-CAM_NO_FACTOR-INPUT_FROM_3D_CANONICAL_SAME_Z-STEP_ROT_1-TR_S1_TS_S5678\n",
      "[overwrite: False] ==> Loading H36M source_list...\n",
      "[overwrite: False] ==> Loading H36M cam_param...\n",
      "[overwrite: False] ==> Loading H36M cam_3d_steprot_1.0...\n",
      "[overwrite: False] ==> Loading H36M img_2d_canonical_same_z_steprot_1.0...\n",
      "[overwrite: False] ==> Loading H36M cam_3d_canonical_same_z_steprot_1.0...\n",
      "H36M-GT-CAM_NO_FACTOR-INPUT_FROM_3D_CANONICAL_SAME_Z-TR_S1_TS_S5678\n",
      "[overwrite: False] ==> Loading H36M source_list...\n",
      "[overwrite: False] ==> Loading H36M cam_param...\n",
      "[overwrite: False] ==> Loading H36M cam_3d...\n",
      "[overwrite: False] ==> Loading H36M img_2d_canonical_same_z...\n",
      "[overwrite: False] ==> Loading H36M cam_3d_canonical_same_z...\n",
      "(496752,) (1808128,)\n",
      "5528 7076\n"
     ]
    }
   ],
   "source": [
    "checkpoint_name = 'MB_train_h36m_gt_cam_no_factor_input_from_canonical_3d_same_z_input_centering_steprot_1+original_tr_s1_ts_s5678'\n",
    "args, opts = get_opt_args_from_model_name(checkpoint_name)\n",
    "args.flip = False\n",
    "model_pos, chk_filename, checkpoint = load_model(opts, args)\n",
    "\n",
    "#subset = 'H36M-GT-CAM_NO_FACTOR-INPUT_FROM_3D_CANONICAL_SAME_Z-STEP_ROT_1-TR_S1_TS_S5678'\n",
    "#args.subset_list = [subset]\n",
    "#args.subset_list = ['H36M-GT-CAM_NO_FACTOR-INPUT_FROM_3D_CANONICAL_SAME_Z-TR_S1_TS_S5678', 'H36M-GT-CAM_NO_FACTOR-INPUT_FROM_3D_CANONICAL_SAME_Z-STEP_ROT_1-TR_S1_TS_S5678']\n",
    "train_loader, test_loader, _, _, datareader = load_dataset(args, use_new_datareader=True)"
   ]
  },
  {
   "cell_type": "code",
   "execution_count": 5,
   "metadata": {},
   "outputs": [
    {
     "data": {
      "text/plain": [
       "600"
      ]
     },
     "execution_count": 5,
     "metadata": {},
     "output_type": "execute_result"
    }
   ],
   "source": [
    "len(set(datareader.vid_list_test))"
   ]
  },
  {
   "cell_type": "code",
   "execution_count": 6,
   "metadata": {},
   "outputs": [],
   "source": [
    "split_id_train, split_id_test = datareader.datareader['H36M-GT-CAM_NO_FACTOR-INPUT_FROM_3D_CANONICAL_SAME_Z-STEP_ROT_1-TR_S1_TS_S5678'].get_split_id()\n",
    "split_id_train2, split_id_test2 = datareader.datareader['H36M-GT-CAM_NO_FACTOR-INPUT_FROM_3D_CANONICAL_SAME_Z-TR_S1_TS_S5678'].get_split_id()"
   ]
  },
  {
   "cell_type": "code",
   "execution_count": 7,
   "metadata": {},
   "outputs": [
    {
     "data": {
      "text/plain": [
       "(range(248113, 248356),\n",
       " range(1310999, 1311242),\n",
       " range(248113, 248356),\n",
       " range(1310999, 1311242))"
      ]
     },
     "execution_count": 7,
     "metadata": {},
     "output_type": "execute_result"
    }
   ],
   "source": [
    "split_id_train[-1], split_id_test[-1], split_id_train2[-1], split_id_test2[-1]"
   ]
  },
  {
   "cell_type": "code",
   "execution_count": null,
   "metadata": {},
   "outputs": [],
   "source": [
    "train_data, test_data, train_labels, test_labels = "
   ]
  },
  {
   "cell_type": "code",
   "execution_count": 4,
   "metadata": {},
   "outputs": [
    {
     "data": {
      "text/plain": [
       "(346, 443)"
      ]
     },
     "execution_count": 4,
     "metadata": {},
     "output_type": "execute_result"
    }
   ],
   "source": [
    "len(train_loader), len(test_loader)"
   ]
  },
  {
   "cell_type": "code",
   "execution_count": null,
   "metadata": {},
   "outputs": [],
   "source": [
    "train_data, test_data, train_labels, test_labels = datareader."
   ]
  },
  {
   "cell_type": "code",
   "execution_count": 9,
   "metadata": {},
   "outputs": [
    {
     "data": {
      "image/png": "[encoded data removed]",
      "text/plain": [
       "<Figure size 640x480 with 2 Axes>"
      ]
     },
     "metadata": {},
     "output_type": "display_data"
    }
   ],
   "source": [
    "train_type = 'test'\n",
    "if train_type == 'train': loader = train_loader\n",
    "elif train_type == 'test': loader = test_loader\n",
    "else: raise ValueError(f'Invalid train_type: {train_type}')\n",
    "\n",
    "user = getpass.getuser()\n",
    "save_folder = f'/home/{user}/codes/MotionBERT/videos/input+gt/{checkpoint_name}/from_dataloader'\n",
    "if not os.path.exists(save_folder): os.makedirs(save_folder)\n",
    "\n",
    "fig = plt.figure(0)\n",
    "fig.clear()\n",
    "ax_3d = axes_3d(fig, loc=121, mode='cam')\n",
    "ax_2d = axes_2d(fig, loc=122)\n",
    "\n",
    "target_batch = 550 # (len(test_loader) - 1)/2\n",
    "overwrite = True\n",
    "for batch_num, (batch_input, batch_gt) in enumerate(loader):\n",
    "    if batch_num != target_batch: continue\n",
    "    batch_input, batch_gt, batch_gt_torso, batch_gt_limb_pos = preprocess_eval(args, batch_input, batch_gt)\n",
    "    save_path = os.path.join(save_folder, f'{train_type}_batch{batch_num}.mp4')\n",
    "    print(save_path)\n",
    "    if os.path.exists(save_path) and not overwrite: \n",
    "        print(f'{save_path} already exists')\n",
    "        continue\n",
    "    #if batch_num == 2: break\n",
    "    pose2d = batch_input[0].float().cpu().detach().numpy()[..., :2].copy()\n",
    "    pose3d = batch_gt[0].float().cpu().detach().numpy().copy()\n",
    "    ax_pose = [(ax_3d, pose3d), (ax_2d, pose2d)]\n",
    "    generate_pose_video(fig, save_path, ax_pose, fps=5, stride=6, normalize_2d=True)\n",
    "    break"
   ]
  },
  {
   "cell_type": "code",
   "execution_count": null,
   "metadata": {},
   "outputs": [],
   "source": []
  }
 ],
 "metadata": {
  "kernelspec": {
   "display_name": "motionbert",
   "language": "python",
   "name": "python3"
  },
  "language_info": {
   "codemirror_mode": {
    "name": "ipython",
    "version": 3
   },
   "file_extension": ".py",
   "mimetype": "text/x-python",
   "name": "python",
   "nbconvert_exporter": "python",
   "pygments_lexer": "ipython3",
   "version": "3.9.18"
  }
 },
 "nbformat": 4,
 "nbformat_minor": 2
}
