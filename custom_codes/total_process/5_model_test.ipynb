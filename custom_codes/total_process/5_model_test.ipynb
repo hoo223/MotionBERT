{
 "cells": [
  {
   "cell_type": "code",
   "execution_count": 1,
   "metadata": {},
   "outputs": [],
   "source": [
    "%load_ext autoreload\n",
    "%autoreload 2\n",
    "%matplotlib widget\n",
    "from cycler import K\n",
    "from common_import import *\n",
    "\n",
    "\n",
    "def check_config_experiment(whitelist_checkpoint):\n",
    "    user = getpass.getuser()\n",
    "    motionbert_root = f'/home/{user}/codes/MotionBERT'\n",
    "    for checkpoint in whitelist_checkpoint:\n",
    "        experiment_path = f'{motionbert_root}/experiments/{checkpoint}.txt'\n",
    "        config_path = f'{motionbert_root}/configs/pose3d/{checkpoint}.yaml'\n",
    "        print(f'{checkpoint}')\n",
    "        if os.path.exists(config_path):\n",
    "            print(f'Config# path: {config_path}')\n",
    "        else:\n",
    "            print(f'[No config path] {config_path}')\n",
    "            with open(config_path, 'w') as f: pass\n",
    "        if os.path.exists(experiment_path): print(f'Experiment path: {experiment_path}')\n",
    "        else:\n",
    "            print(f'[No experiment path] {experiment_path}')\n",
    "            with open(experiment_path, 'w') as f: pass\n",
    "\n",
    "def update_result_dict_pkl(blacklist_checkpoint=[]):\n",
    "    user = getpass.getuser()\n",
    "    if os.path.exists('result_dict.pkl'):\n",
    "        print('Loading result_dict.pkl')\n",
    "        result_dict = readpkl('result_dict.pkl')\n",
    "    else:\n",
    "        result_dict = {}\n",
    "    result_root = f'/home/{user}/codes/MotionBERT/saved_results'\n",
    "    checkpoint_list = os.listdir(result_root)\n",
    "    for checkpoint in tqdm(checkpoint_list):\n",
    "        if checkpoint in blacklist_checkpoint: continue # skip\n",
    "        if checkpoint not in result_dict.keys(): result_dict[checkpoint] = {} # create new key if not exists\n",
    "        checkpoint_root = os.path.join(result_root, checkpoint)\n",
    "        subset_list = glob(checkpoint_root+'/*.pkl')\n",
    "        for item in subset_list:\n",
    "            subset = os.path.basename(item).split('.pkl')[0]\n",
    "            if subset in result_dict[checkpoint].keys():\n",
    "                #print(f'{subset} exists')\n",
    "                continue\n",
    "            print(item)\n",
    "            result = readpkl(item)\n",
    "            try:\n",
    "                result_dict[checkpoint][subset] = {'e1': result['e1'], 'e2': result['e2']}\n",
    "            except:\n",
    "                print(f'Error in reading {item}')\n",
    "\n",
    "        # remove key if not in subset_list\n",
    "        for key in list(result_dict[checkpoint].keys()):\n",
    "            if key not in [os.path.basename(item).split('.pkl')[0] for item in subset_list]:\n",
    "                del result_dict[checkpoint][key]\n",
    "\n",
    "    savepkl(result_dict, 'result_dict.pkl')"
   ]
  },
  {
   "cell_type": "markdown",
   "metadata": {},
   "source": [
    "\n",
    "### Evaluate single experiment"
   ]
  },
  {
   "cell_type": "code",
   "execution_count": 2,
   "metadata": {},
   "outputs": [
    {
     "name": "stdout",
     "output_type": "stream",
     "text": [
      "MB_train_h36m_gt_cam_no_factor_input_centering_seed2\n",
      "Experiment path: /home/hrai/codes/MotionBERT/experiments/MB_train_h36m_gt_cam_no_factor_input_centering_seed2.txt\n",
      "Config# path: /home/hrai/codes/MotionBERT/configs/pose3d/MB_train_h36m_gt_cam_no_factor_input_centering_seed2.yaml\n"
     ]
    }
   ],
   "source": [
    "checkpoint_name = 'MB_train_h36m_gt_cam_no_factor_input_centering_seed2'\n",
    "check_config_experiment([checkpoint_name])"
   ]
  },
  {
   "cell_type": "code",
   "execution_count": 13,
   "metadata": {},
   "outputs": [
    {
     "name": "stdout",
     "output_type": "stream",
     "text": [
      "MB_train_fit3d_gt_cam_no_factor_input_from_canonical_3d_revolute_input_centering_tr_s03\n",
      "Loading checkpoint checkpoint/pose3d/MB_train_fit3d_gt_cam_no_factor_input_from_canonical_3d_revolute_input_centering_tr_s03/best_epoch.bin\n",
      "/home/hrai/codes/MotionBERT/data/motion3d/yaml_files/FIT3D-GT-CAM_NO_FACTOR-INPUT_FROM_3D_CANONICAL_REVOLUTE-TR_S03.yaml\n",
      "Loading dataset...\n",
      "FIT3D-GT-CAM_NO_FACTOR-INPUT_FROM_3D_CANONICAL_REVOLUTE-TR_S03\n",
      "[overwrite: False] ==> Loading FIT3D source_list...\n",
      "[overwrite: False] ==> Loading FIT3D cam_param...\n",
      "[overwrite: False] ==> Loading FIT3D cam_3d...\n",
      "[overwrite: False] ==> Loading FIT3D cam_3d_canonical_revolute...\n",
      "[overwrite: False] ==> Loading FIT3D img_2d_canonical_revolute...\n",
      "INFO: Testing\n",
      "No epoch information in the checkpoint\n"
     ]
    },
    {
     "name": "stderr",
     "output_type": "stream",
     "text": [
      "100%|██████████| 149/149 [00:51<00:00,  2.87it/s]\n"
     ]
    },
    {
     "name": "stdout",
     "output_type": "stream",
     "text": [
      "No eval_keypoint. Use part list\n",
      "Part: whole\n",
      "Protocol #1 Error (MPJPE): 40.90921648677834 mm\n",
      "Protocol #2 Error (P-MPJPE): 25.34573916341777 mm\n",
      "----------------------------------------\n"
     ]
    }
   ],
   "source": [
    "# load model\n",
    "args, opts = get_opt_args_from_model_name(checkpoint_name, verbose=False)\n",
    "model_pos, chk_filename, checkpoint = load_model(opts, args)\n",
    "# load dataset\n",
    "subset = 'FIT3D-GT-CAM_NO_FACTOR-INPUT_FROM_3D_CANONICAL_REVOLUTE-TR_S03'\n",
    "subset_path = f'/home/{user}/codes/MotionBERT/data/motion3d/yaml_files/{subset}.yaml'\n",
    "print(subset_path)\n",
    "if 'PCL' in subset: args.fix_orientation_pred = True # load dataset\n",
    "args.subset_list = [subset]\n",
    "train_loader, test_loader, _, _, datareader = load_dataset(args, use_new_datareader=True)\n",
    "e1, e2, results_all, inputs_all, gts_all, total_result_dict = evaluate(args, model_pos, test_loader, datareader, checkpoint, only_one_batch=False)\n",
    "\n",
    "# save results\n",
    "save = True\n",
    "if save:\n",
    "    save_folder = f'/home/hrai/codes/MotionBERT/saved_results/{checkpoint_name}'\n",
    "    if not os.path.exists(save_folder): os.makedirs(save_folder)\n",
    "    save_path = os.path.join(save_folder, f'{subset}.pkl')\n",
    "    results_dict = {'results_all': results_all, 'total_result_dict': total_result_dict, 'e1': e1, 'e2': e2} # 'gts_all': gts_all, 'inputs_all': inputs_all, \n",
    "    savepkl(results_dict, save_path)"
   ]
  },
  {
   "cell_type": "code",
   "execution_count": 33,
   "metadata": {},
   "outputs": [
    {
     "name": "stdout",
     "output_type": "stream",
     "text": [
      "Loading result_dict.pkl\n"
     ]
    },
    {
     "name": "stderr",
     "output_type": "stream",
     "text": [
      "  0%|          | 0/88 [00:00<?, ?it/s]"
     ]
    },
    {
     "name": "stderr",
     "output_type": "stream",
     "text": [
      "100%|██████████| 88/88 [00:00<00:00, 199.06it/s]\n"
     ]
    }
   ],
   "source": [
    "update_result_dict_pkl()"
   ]
  },
  {
   "cell_type": "code",
   "execution_count": 32,
   "metadata": {},
   "outputs": [
    {
     "name": "stdout",
     "output_type": "stream",
     "text": [
      "subset not found\n"
     ]
    }
   ],
   "source": [
    "# update result_dict\n",
    "remove_subset_from_result_dict = True\n",
    "if remove_subset_from_result_dict:\n",
    "    result_dict = readpkl('result_dict.pkl')\n",
    "    try: del result_dict[checkpoint_name][subset]\n",
    "    except: print('subset not found')\n",
    "    savepkl(result_dict, 'result_dict.pkl')"
   ]
  },
  {
   "cell_type": "markdown",
   "metadata": {},
   "source": [
    "### Evaluate and save all experiments"
   ]
  },
  {
   "cell_type": "code",
   "execution_count": 7,
   "metadata": {},
   "outputs": [
    {
     "name": "stdout",
     "output_type": "stream",
     "text": [
      "[Need to be trained] MB_train_h36m_gt_cam_no_factor_input_from_canonical_3d_same_z_input_centering_steprot_1_tr_s1_ts_s5678\n",
      "[No subset fou  d] MB_train_h36m_gt_cam_no_factor_input_from_canonical_3d_revolute\n",
      "[Need to be trained] MB_train_fit3d_gt_cam_no_factor_input_from_canonical_3d_same_z_input_centering_ts_s4710\n",
      "[Need to be trained] MB_train_fit3d_gt_cam_no_factor_input_from_canonical_3d_revolute_input_centering_ts_s4710_seed3\n",
      "[Need to be trained] MB_train_h36m_gt_cam_no_factor_steprot_0.5_sinu_pitch_m15_p273_sinu_roll_m15_p273\n",
      "[Need to be trained] MB_train_h36m_gt_cam_no_factor_no_rootrel\n",
      "[Need to be trained] MB_train_h36m_gt_cam_no_factor_input_from_canonical_3d_same_z_input_centering_steprot_1_tr_s1_ts_s5678_no_rootrel\n",
      "[Need to be trained] MB_train_fit3d_gt_cam_no_factor_input_from_canonical_3d_revolute_input_centering_ts_s4710_seed1\n",
      "[Need to be trained] MB_train_h36m_gt_cam_no_factor_input_from_canonical_pcl_input_centering_seed1\n",
      "[Need to be trained] MB_train_h36m_gt_cam_no_factor_input_from_canonical_3d_same_z_input_centering_steprot_2_tr_s1_ts_s5678\n",
      "[Need to be trained] MB_train_h36m_gt_cam_no_factor_input_from_canonical_pcl_input_centering\n",
      "[Need to be trained] MB_train_h36m_gt_cam_no_factor_input_from_canonical_3d_same_z_input_centering_rand_yaw_m90_p100_rand_pitch_m90_p100_rand_roll_m30_p100_tr_s1_ts_s5678\n",
      "[Need to be trained] MB_train_h36m_gt_cam_no_factor_input_from_canonical_3d_same_z_input_centering_steprot_0.5_1_1.5+original_tr_s1_ts_s5678\n",
      "[Need to be trained] MB_train_h36m_gt_cam_no_factor_input_from_canonical_3d_fixed_dist_5_adaptive_focal_input_centering_tr_s1\n",
      "[Need to be trained] MB_train_h36m_gt_cam_no_factor_fix_orientation_gt_input_centering_tr_s1_ts_s5678\n",
      "[Need to be trained] MB_train_h36m_gt_cam_no_factor_input_from_canonical_3d_same_z_input_centering_rand_yaw_m45_p100_rand_pitch_m45_p100_rand_roll_m30_p100_tr_s1_ts_s5678\n",
      "[Need to be trained] MB_train_h36m_gt_cam_no_factor_input_from_canonical_3d_revolute_input_centering_tr_s1_ts_s5678_seed1\n",
      "[Need to be trained] MB_train_h36m_gt_cam_no_factor_input_from_canonical_3d_same_z_input_centering_steprot_0.5_tr_s1_ts_s5678\n",
      "[Need to be trained] MB_train_fit3d_gt_cam_no_factor_input_from_canonical_pcl_original_tr_s03\n",
      "[Need to be trained] MB_train_h36m_gt_cam_no_factor_with_canonical2_tr_s1\n",
      "[Need to be trained] MB_train_h36m_gt_cam_no_factor\n",
      "[Need to be trained] MB_train_fit3d_gt_cam_no_factor_ts_s4710_seed4\n",
      "[Need to be trained] MB_train_h36m_gt_cam_no_factor_input_from_canonical_3d_same_z_input_centering_steprot_3_tr_s1_ts_s5678\n",
      "[Need to be trained] MB_train_h36m_gt_cam_no_factor_steprot_1_tr_s1_ts_s5678\n",
      "[Need to be trained] MB_train_h36m_gt_cam_no_factor_input_from_canonical_3d_same_z_rand_yaw_m45_p100_rand_pitch_m45_p100_rand_roll_m30_p100\n",
      "[Need to be trained] MB_train_h36m_gt_cam_no_factor_input_from_canonical_3d_same_z_input_centering_steprot_3+original_tr_s1_ts_s5678\n",
      "[Need to be trained] MB_train_h36m_gt_cam_no_factor_steprot_1+original_tr_s1_ts_s5678\n",
      "[Need to be trained] MB_train_fit3d_gt_cam_no_factor_input_from_canonical_3d_same_z_tr_s03\n",
      "[Need to be trained] MB_train_h36m_gt_cam_no_factor_with_canonical2_norm_input_scale\n",
      "[Need to be trained] MB_train_h36m_gt_cam_no_factor_input_from_canonical_pcl_original_seed1\n",
      "[Need to be trained] MB_train_h36m_gt_cam_no_factor_input_from_canonical_3d_same_z_steprot_1_tr_s1_ts_s5678\n",
      "[Need to be trained] MB_train_fit3d_gt_cam_no_factor_input_from_canonical_3d_revolute_input_centering_ts_s4710_seed4\n",
      "[Need to be trained] MB_train_h36m_gt_cam_no_factor_input_from_canonical_3d_same_z_input_centering_steprot_1.5_tr_s1_ts_s5678\n",
      "[Need to be trained] MB_train_fit3d_gt_cam_no_factor_input_from_canonical_3d_revolute_input_centering_tr_s03_seed3\n",
      "[Need to be trained] MB_train_h36m_gt_cam_no_factor_fix_orientation_gt_tr_s1_ts_s5678\n",
      "[Need to be trained] MB_train_fit3d_gt_cam_no_factor_input_from_canonical_3d_revolute_input_centering_ts_s4710_seed2\n",
      "[Need to be trained] MB_train_fit3d_gt_cam_no_factor_ts_s4710_seed2\n",
      "[Need to be trained] MB_train_h36m_gt_cam_no_factor_tr_s1_ts_s5678_frame_81\n",
      "[Need to be trained] MB_train_fit3d_gt_cam_no_factor_input_from_canonical_3d_same_z_input_centering_tr_s03\n",
      "[Need to be trained] MB_train_h36m_gt_cam_no_factor_input_from_canonical_pcl_with_Rz_input_centering\n",
      "[Need to be trained] MB_train_h36m_gt_cam_no_factor_input_from_canonical_pcl_with_Rz_tr_s1_ts_s5678\n",
      "[Need to be trained] MB_train_fit3d_gt_cam_no_factor_input_from_canonical_pcl_original_ts_s4710_seed1\n",
      "[Need to be trained] MB_train_h36m_gt_cam_no_factor_input_from_canonical_3d_same_z_input_centering_steprot_0.5_sinu_pitch_m15_p273_sinu_roll_m15_p273_tr_s1_ts_s5678\n",
      "[Need to be trained] MB_train_h36m_gt_cam_no_factor_input_from_canonical_pcl_with_Rz_input_centering_tr_s1_ts_s5678\n",
      "[Need to be trained] MB_train_fit3d_gt_cam_no_factor_tr_s03_seed3\n",
      "[Need to be trained] MB_train_h36m_gt_cam_no_factor_sinu_roll_m15_p273_tr_s1_ts_s5678\n",
      "[Need to be trained] MB_train_h36m_gt_cam_no_factor_steprot_0.5+original_tr_s1_ts_s5678\n",
      "[Need to be trained] MB_train_h36m_gt_cam_no_factor_input_from_canonical_3d_same_z_input_centering_rand_yaw_m45_p100_rand_pitch_m45_p100_rand_roll_m30_p100\n",
      "[Need to be trained] MB_train_h36m_gt_cam_no_factor_input_from_canonical_3d_same_z_input_centering_sinu_pitch_m15_p273_sinu_roll_m15_p273_tr_s1_ts_s5678\n",
      "[Need to be trained] MB_train_h36m_gt_cam_no_factor_input_from_canonical_pcl\n",
      "[Need to be trained] MB_train_fit3d_gt_cam_no_factor_input_from_canonical_pcl_original_tr_s03_seed1\n",
      "[Need to be trained] MB_train_h36m_gt_cam_no_factor_input_from_canonical_3d_same_z_input_centering_tr_s1\n",
      "[Need to be trained] MB_train_h36m_gt_cam_no_factor_input_from_canonical_3d_revolute_no_Rz_input_centering_tr_s1_ts_s5678\n",
      "[Need to be trained] MB_train_h36m_gt_cam_no_factor_sinu_pitch_m15_p273_sinu_roll_m15_p273_tr_s1_ts_s5678\n",
      "[Need to be trained] MB_train_h36m_gt_cam_no_factor_s15678_tr_54138969_ts_others\n",
      "[Need to be trained] MB_train_h36m_gt_cam_no_factor_steprot_1.5_tr_s1_ts_s5678\n",
      "[Need to be trained] MB_train_h36m_gt_cam_no_factor_input_from_canonical_pcl_tr_s1_ts_s5678\n",
      "[Need to be trained] MB_train_h36m_gt_cam_no_factor_rand_yaw_m45_p100_rand_pitch_m45_p100_rand_roll_m30_p100_tr_s1_ts_s5678\n",
      "[Need to be trained] MB_train_h36m_gt_cam_no_factor_fix_orientation_gt\n",
      "[Need to be trained] MB_train_h36m_gt_cam_no_factor_input_from_canonical_3d_fixed_dist_5_adaptive_focal_input_centering_tr_s1_ts_s5678\n",
      "[Need to be trained] MB_train_fit3d_gt_cam_no_factor_input_from_canonical_3d_revolute_input_centering_tr_s03_seed1\n",
      "[Need to be trained] MB_train_h36m_gt_cam_no_factor_tr_s1_ts_s5678\n",
      "[Need to be trained] MB_train_h36m_gt_cam_no_factor_with_canonical2_steprot_1_tr_s1_ts_s5678\n",
      "[Need to be trained] MB_train_h36m_gt_cam_no_factor_input_from_canonical_3d_same_z_input_centering_steprot_0.5_sinu_pitch_m15_p273_sinu_roll_m15_p273\n",
      "[Need to be trained] MB_train_fit3d_gt_cam_no_factor_with_canonical2_tr_s03\n",
      "[Need to be trained] MB_train_fit3d_gt_cam_no_factor_ts_s4710_seed1\n",
      "[Need to be trained] MB_train_fit3d_gt_cam_no_factor_input_from_canonical_pcl_original_ts_s4710\n",
      "[Need to be trained] MB_train_fit3d_gt_cam_no_factor_tr_s03_seed1\n",
      "[Need to be trained] MB_train_h36m_gt_cam_no_factor_input_from_canonical_3d_same_z_steprot_2_tr_s1_ts_s5678\n",
      "[Result not found] MB_train_fit3d_gt_cam_no_factor_tr_s03_seed4 - 3DHP-GT-CAM_NO_FACTOR-TEST_ALL_TRAIN\n",
      "[Result not found] MB_train_fit3d_gt_cam_no_factor_tr_s03_seed4 - 3DHP-GT-CAM_NO_FACTOR-TEST_TS1_6\n",
      "[Result not found] MB_train_fit3d_gt_cam_no_factor_tr_s03_seed4 - 3DHP-GT-CAM_NO_FACTOR-TEST_TS1_6_UNIV\n",
      "[Result not found] MB_train_fit3d_gt_cam_no_factor_tr_s03_seed4 - H36M-GT-CAM_NO_FACTOR-TR_S1_TS_S5678\n",
      "[Result not found] MB_train_fit3d_gt_cam_no_factor_tr_s03_seed4 - H36M-GT-CAM_NO_FACTOR\n",
      "[Result not found] MB_train_fit3d_gt_cam_no_factor_tr_s03_seed4 - FIT3D-GT-CAM_NO_FACTOR-TR_S03\n",
      "[Need to be trained] MB_train_h36m_gt_cam_no_factor_sinu_pitch_m15_p273_tr_s1_ts_s5678\n",
      "[Need to be trained] MB_train_fit3d_gt_cam_no_factor_ts_s4710_seed3\n",
      "[Need to be trained] MB_train_h36m_gt_cam_no_factor_input_from_canonical_3d_fixed_dist_5_input_centering_tr_s1_ts_s5678\n",
      "[Need to be trained] MB_train_h36m_gt_cam_no_factor_input_from_canonical_3d_same_z_tr_s1\n",
      "[Need to be trained] MB_train_h36m_gt_cam_no_factor_input_from_canonical_3d_same_z_tr_s1_ts_s5678\n",
      "[Need to be trained] MB_train_h36m_gt_cam_no_factor_input_from_canonical_3d_same_z_input_centering_tr_s1_ts_s5678_frame_81\n",
      "[Need to be trained] MB_train_h36m_gt_cam_no_factor_with_canonical2\n",
      "[Need to be trained] MB_train_fit3d_gt_cam_no_factor_with_canonical2_ts_s4710\n",
      "[Need to be trained] MB_train_fit3d_gt_cam_no_factor_ts_s4710\n",
      "[Need to be trained] MB_train_h36m_gt_cam_no_factor_input_from_canonical_3d_same_z_input_centering_tr_s1_ts_s5678\n",
      "[Need to be trained] MB_train_h36m_gt_cam_no_factor_input_from_canonical_3d_same_z_steprot_0.5_sinu_pitch_m15_p273_sinu_roll_m15_p273_tr_s1_ts_s5678\n",
      "[Need to be trained] MB_train_h36m_gt_cam_no_factor_input_from_canonical_3d_same_z_input_centering_steprot_2+original_tr_s1_ts_s5678\n",
      "[Need to be trained] MB_train_h36m_gt_cam_no_factor_tr_s19_ts_s5678\n",
      "[Need to be trained] MB_train_h36m_gt_cam_no_factor_input_from_canonical_pcl_with_Rz\n",
      "[Need to be trained] MB_train_fit3d_gt_cam_no_factor_input_from_canonical_3d_revolute_input_centering_tr_s03\n",
      "[Need to be trained] MB_train_h36m_gt_cam_no_factor_fix_orientation_gt_input_centering\n",
      "[Need to be trained] MB_train_fit3d_gt_cam_no_factor_input_from_canonical_3d_revolute_input_centering_tr_s03_seed2\n",
      "[Need to be trained] MB_train_fit3d_gt_cam_no_factor_input_from_canonical_pcl_input_centering_ts_s4710\n",
      "[Need to be trained] MB_train_h36m_gt_cam_no_factor_input_from_canonical_3d_revolute_input_centering\n",
      "[Need to be trained] MB_train_h36m_gt_cam_no_factor_input_from_canonical_3d_same_z_steprot_1_sinu_pitch_m15_p273_sinu_roll_m15_p273\n",
      "[Need to be trained] MB_train_h36m_gt_cam_no_factor_input_from_canonical_3d_fixed_dist_5_adaptive_focal_input_centering\n",
      "[Need to be trained] MB_train_h36m_gt_cam_no_factor_input_from_canonical_3d_same_z_input_centering_steprot_1+original_tr_s1_ts_s5678\n",
      "[Need to be trained] MB_train_fit3d_gt_cam_no_factor_input_from_canonical_pcl_original_tr_s03_seed2\n",
      "[Need to be trained] MB_train_fit3d_gt_cam_no_factor_input_from_canonical_pcl_original_ts_s4710_seed2\n",
      "[Need to be trained] MB_train_h36m_gt_cam_no_factor_input_from_canonical_3d_same_z\n",
      "[Need to be trained] MB_train_fit3d_gt_cam_no_factor_input_from_canonical_pcl_original_ts_s4710_seed3\n",
      "[Need to be trained] MB_train_h36m_gt_cam_no_factor_input_from_canonical_3d_revolute_input_centering_tr_s1_ts_s5678\n",
      "[Need to be trained] MB_train_h36m_gt_cam_no_factor_input_from_canonical_3d_same_z_input_centering_steprot_1_sinu_pitch_m15_p273_sinu_roll_m15_p273_tr_s1_ts_s5678\n",
      "[Need to be trained] MB_train_fit3d_gt_cam_no_factor_input_from_canonical_3d_same_z_ts_s4710\n",
      "[Need to be trained] MB_train_h36m_gt_cam_no_factor_no_flip\n",
      "[Need to be trained] MB_train_h36m_gt_cam_no_factor_steprot_1.5+original_tr_s1_ts_s5678\n",
      "[Need to be trained] MB_train_h36m_gt_cam_no_factor_seed1\n",
      "[Need to be trained] MB_train_fit3d_gt_cam_no_factor_input_from_canonical_3d_revolute_input_centering_ts_s4710\n",
      "[Need to be trained] MB_train_h36m_gt_cam_no_factor_steprot_0.5_tr_s1_ts_s5678\n",
      "[Need to be trained] MB_train_h36m_gt_cam_no_factor_steprot_0.5_s1+original_tr_s19_ts_s5678\n",
      "[Need to be trained] MB_train_h36m_gt_cam_no_factor_input_from_canonical_pcl_original_tr_s1_ts_s5678\n",
      "[Need to be trained] MB_train_fit3d_gt_cam_no_factor_input_from_canonical_3d_revolute_input_centering_tr_s03_seed4\n",
      "[Need to be trained] MB_train_fit3d_gt_cam_no_factor_input_from_canonical_pcl_original_tr_s03_seed3\n",
      "[Need to be trained] MB_train_fit3d_gt_cam_no_factor_input_from_canonical_pcl_original_ts_s4710_seed4\n",
      "[Need to be trained] MB_train_h36m_gt_cam_no_factor_input_from_canonical_3d_revolute_input_centering_seed1\n",
      "[Need to be trained] MB_train_h36m_gt_cam_no_factor_steprot_0.5_sinu_pitch_m15_p273_sinu_roll_m15_p273_tr_s1_ts_s5678\n",
      "[Need to be trained] MB_train_h36m_gt_cam_no_factor_input_from_canonical_3d_fixed_dist_5_input_centering\n",
      "[Need to be trained] MB_train_h36m_gt_cam_no_factor_input_from_canonical_3d_same_z_input_centering_steprot_1_2_3+original_tr_s1_ts_s5678\n",
      "[Need to be trained] MB_train_h36m_gt_cam_no_factor_input_from_canonical_3d_fixed_dist_5_input_centering_tr_s1_ts_s5678_frame_27\n",
      "[Need to be trained] MB_train_h36m_gt_cam_no_factor_input_from_canonical_3d_fixed_dist_5_input_centering_tr_s1_ts_s5678_frame_81\n",
      "[Need to be trained] MB_train_h36m_gt_cam_no_factor_input_from_canonical_3d_same_z_input_centering_tr_s19_ts_s5678\n",
      "[Need to be trained] MB_train_h36m_gt_cam_no_factor_input_from_canonical_pcl_input_centering_tr_s1_ts_s5678_seed1\n",
      "[Need to be trained] MB_train_h36m_gt_cam_no_factor_tr_s1\n",
      "[Need to be trained] MB_train_h36m_gt_cam_no_factor_input_from_canonical_pcl_input_centering_tr_s1_ts_s5678\n",
      "[Need to be trained] MB_train_fit3d_gt_cam_no_factor_tr_s03\n",
      "[Need to be trained] MB_train_h36m_gt_cam_no_factor_input_from_canonical_3d_same_z_input_centering_steprot_1_sinu_pitch_m30_p273_sinu_roll_m30_p273_tr_s1_ts_s5678\n",
      "[Need to be trained] MB_train_h36m_gt_cam_no_factor_steprot_0.5_1_1.5+original_tr_s1_ts_s5678\n",
      "[Need to be trained] MB_train_h36m_gt_cam_no_factor_with_canonical2_tr_s1_ts_s5678\n",
      "[Need to be trained] MB_train_fit3d_gt_cam_no_factor_tr_s03_seed2\n",
      "[Need to be trained] MB_train_h36m_gt_cam_no_factor_input_from_canonical_3d_same_z_input_centering_steprot_0.5+original_tr_s1_ts_s5678\n",
      "[Need to be trained] MB_train_h36m_gt_cam_no_factor_input_from_canonical_3d_same_z_input_centering_steprot_1.5+original_tr_s1_ts_s5678\n",
      "[Need to be trained] MB_train_h36m_gt_cam_no_factor_input_from_canonical_3d_same_z_input_centering_steprot_1_sinu_pitch_m15_p273_sinu_roll_m15_p273\n",
      "\n",
      "Checkpoints to evaluate:\n"
     ]
    },
    {
     "data": {
      "text/plain": [
       "['MB_train_h36m_gt_cam_no_factor_input_from_canonical_3d_revolute',\n",
       " 'MB_train_fit3d_gt_cam_no_factor_tr_s03_seed4']"
      ]
     },
     "execution_count": 7,
     "metadata": {},
     "output_type": "execute_result"
    }
   ],
   "source": [
    "result_list = os.listdir('saved_results')\n",
    "checkpoint_list = os.listdir('checkpoint/pose3d')\n",
    "whitelist_checkpoint = []\n",
    "for item in os.listdir('configs/pose3d'):\n",
    "    checkpoint = item.split('.yaml')[0]\n",
    "    if 'cam_no_factor' not in checkpoint: continue\n",
    "    if checkpoint in blacklist_checkpoint: continue\n",
    "    if checkpoint not in checkpoint_list:\n",
    "        print(f'[Need to be trained] {checkpoint}')\n",
    "        continue\n",
    "    if checkpoint not in experiment_list:\n",
    "        whitelist_checkpoint.append(checkpoint)\n",
    "        # create empty file\n",
    "        with open(f'experiments/{checkpoint}.txt', 'w') as f:\n",
    "            pass\n",
    "    else:\n",
    "        subset_list = []\n",
    "        with open(f'experiments/{checkpoint}.txt', 'r') as f:\n",
    "            lines = f.readlines()\n",
    "            for line in lines:\n",
    "                subset = line.split('\\n')[0]\n",
    "                subset_list.append(subset)\n",
    "        if len(subset_list) == 0:\n",
    "            print(f'[No subset fou  d] {checkpoint}')\n",
    "            whitelist_checkpoint.append(checkpoint)\n",
    "        for subset in subset_list:\n",
    "            if not os.path.exists(f'saved_results/{checkpoint}/{subset}.pkl'):\n",
    "                print(f'[Result not found] {checkpoint} - {subset}')\n",
    "                if checkpoint not in whitelist_checkpoint:\n",
    "                    whitelist_checkpoint.append(checkpoint)\n",
    "\n",
    "print('\\nCheckpoints to evaluate:')\n",
    "whitelist_checkpoint"
   ]
  },
  {
   "cell_type": "code",
   "execution_count": 11,
   "metadata": {},
   "outputs": [
    {
     "name": "stdout",
     "output_type": "stream",
     "text": [
      "MB_train_h36m_gt_cam_no_factor_input_from_canonical_3d_revolute_input_centering_test_no_2d_canon\n",
      "Config# path: /home/hrai/codes/MotionBERT/configs/pose3d/MB_train_h36m_gt_cam_no_factor_input_from_canonical_3d_revolute_input_centering_test_no_2d_canon.yaml\n",
      "Experiment path: /home/hrai/codes/MotionBERT/experiments/MB_train_h36m_gt_cam_no_factor_input_from_canonical_3d_revolute_input_centering_test_no_2d_canon.txt\n",
      "MB_train_h36m_gt_cam_no_factor_input_from_canonical_3d_revolute_input_centering_test_no_2d_canon_seed1\n",
      "Config# path: /home/hrai/codes/MotionBERT/configs/pose3d/MB_train_h36m_gt_cam_no_factor_input_from_canonical_3d_revolute_input_centering_test_no_2d_canon_seed1.yaml\n",
      "Experiment path: /home/hrai/codes/MotionBERT/experiments/MB_train_h36m_gt_cam_no_factor_input_from_canonical_3d_revolute_input_centering_test_no_2d_canon_seed1.txt\n",
      "MB_train_h36m_gt_cam_no_factor_input_from_canonical_3d_revolute_input_centering_test_no_2d_canon_seed2\n",
      "Config# path: /home/hrai/codes/MotionBERT/configs/pose3d/MB_train_h36m_gt_cam_no_factor_input_from_canonical_3d_revolute_input_centering_test_no_2d_canon_seed2.yaml\n",
      "Experiment path: /home/hrai/codes/MotionBERT/experiments/MB_train_h36m_gt_cam_no_factor_input_from_canonical_3d_revolute_input_centering_test_no_2d_canon_seed2.txt\n",
      "MB_train_h36m_gt_cam_no_factor_input_from_canonical_3d_revolute_input_centering_test_no_2d_canon_seed3\n",
      "Config# path: /home/hrai/codes/MotionBERT/configs/pose3d/MB_train_h36m_gt_cam_no_factor_input_from_canonical_3d_revolute_input_centering_test_no_2d_canon_seed3.yaml\n",
      "Experiment path: /home/hrai/codes/MotionBERT/experiments/MB_train_h36m_gt_cam_no_factor_input_from_canonical_3d_revolute_input_centering_test_no_2d_canon_seed3.txt\n",
      "MB_train_h36m_gt_cam_no_factor_input_from_canonical_3d_revolute_input_centering_test_no_2d_canon_seed4\n",
      "Config# path: /home/hrai/codes/MotionBERT/configs/pose3d/MB_train_h36m_gt_cam_no_factor_input_from_canonical_3d_revolute_input_centering_test_no_2d_canon_seed4.yaml\n",
      "Experiment path: /home/hrai/codes/MotionBERT/experiments/MB_train_h36m_gt_cam_no_factor_input_from_canonical_3d_revolute_input_centering_test_no_2d_canon_seed4.txt\n",
      "MB_train_h36m_gt_cam_no_factor_input_from_canonical_3d_revolute_input_centering_test_no_2d_canon_with_fix_orientation_pred\n",
      "Config# path: /home/hrai/codes/MotionBERT/configs/pose3d/MB_train_h36m_gt_cam_no_factor_input_from_canonical_3d_revolute_input_centering_test_no_2d_canon_with_fix_orientation_pred.yaml\n",
      "Experiment path: /home/hrai/codes/MotionBERT/experiments/MB_train_h36m_gt_cam_no_factor_input_from_canonical_3d_revolute_input_centering_test_no_2d_canon_with_fix_orientation_pred.txt\n",
      "MB_train_h36m_gt_cam_no_factor_input_from_canonical_3d_revolute_input_centering_test_no_2d_canon_with_fix_orientation_pred_seed1\n",
      "Config# path: /home/hrai/codes/MotionBERT/configs/pose3d/MB_train_h36m_gt_cam_no_factor_input_from_canonical_3d_revolute_input_centering_test_no_2d_canon_with_fix_orientation_pred_seed1.yaml\n",
      "Experiment path: /home/hrai/codes/MotionBERT/experiments/MB_train_h36m_gt_cam_no_factor_input_from_canonical_3d_revolute_input_centering_test_no_2d_canon_with_fix_orientation_pred_seed1.txt\n",
      "MB_train_h36m_gt_cam_no_factor_input_from_canonical_3d_revolute_input_centering_test_no_2d_canon_with_fix_orientation_pred_seed2\n",
      "Config# path: /home/hrai/codes/MotionBERT/configs/pose3d/MB_train_h36m_gt_cam_no_factor_input_from_canonical_3d_revolute_input_centering_test_no_2d_canon_with_fix_orientation_pred_seed2.yaml\n",
      "Experiment path: /home/hrai/codes/MotionBERT/experiments/MB_train_h36m_gt_cam_no_factor_input_from_canonical_3d_revolute_input_centering_test_no_2d_canon_with_fix_orientation_pred_seed2.txt\n",
      "MB_train_h36m_gt_cam_no_factor_input_from_canonical_3d_revolute_input_centering_test_no_2d_canon_with_fix_orientation_pred_seed3\n",
      "Config# path: /home/hrai/codes/MotionBERT/configs/pose3d/MB_train_h36m_gt_cam_no_factor_input_from_canonical_3d_revolute_input_centering_test_no_2d_canon_with_fix_orientation_pred_seed3.yaml\n",
      "Experiment path: /home/hrai/codes/MotionBERT/experiments/MB_train_h36m_gt_cam_no_factor_input_from_canonical_3d_revolute_input_centering_test_no_2d_canon_with_fix_orientation_pred_seed3.txt\n",
      "MB_train_h36m_gt_cam_no_factor_input_from_canonical_3d_revolute_input_centering_test_no_2d_canon_with_fix_orientation_pred_seed4\n",
      "Config# path: /home/hrai/codes/MotionBERT/configs/pose3d/MB_train_h36m_gt_cam_no_factor_input_from_canonical_3d_revolute_input_centering_test_no_2d_canon_with_fix_orientation_pred_seed4.yaml\n",
      "Experiment path: /home/hrai/codes/MotionBERT/experiments/MB_train_h36m_gt_cam_no_factor_input_from_canonical_3d_revolute_input_centering_test_no_2d_canon_with_fix_orientation_pred_seed4.txt\n"
     ]
    }
   ],
   "source": [
    "whitelist_checkpoint = [\n",
    "## fit3d_ts_s4710\n",
    "    # 'MB_train_fit3d_gt_cam_no_factor_input_from_canonical_3d_revolute_input_centering_ts_s4710',\n",
    "    # 'MB_train_fit3d_gt_cam_no_factor_input_from_canonical_3d_revolute_input_centering_ts_s4710_seed1',\n",
    "    # 'MB_train_fit3d_gt_cam_no_factor_input_from_canonical_3d_revolute_input_centering_ts_s4710_seed2',\n",
    "    # 'MB_train_fit3d_gt_cam_no_factor_input_from_canonical_3d_revolute_input_centering_ts_s4710_seed3',\n",
    "    # 'MB_train_fit3d_gt_cam_no_factor_input_from_canonical_3d_revolute_input_centering_ts_s4710_seed4',\n",
    "    ##\n",
    "    # 'MB_train_fit3d_gt_cam_no_factor_input_from_canonical_pcl_original_ts_s4710',\n",
    "    # 'MB_train_fit3d_gt_cam_no_factor_input_from_canonical_pcl_original_ts_s4710_seed1',\n",
    "    # 'MB_train_fit3d_gt_cam_no_factor_input_from_canonical_pcl_original_ts_s4710_seed2',\n",
    "    # 'MB_train_fit3d_gt_cam_no_factor_input_from_canonical_pcl_original_ts_s4710_seed3',\n",
    "    # 'MB_train_fit3d_gt_cam_no_factor_input_from_canonical_pcl_original_ts_s4710_seed4',\n",
    "    ##\n",
    "    # 'MB_train_fit3d_gt_cam_no_factor_input_centering_ts_s4710',\n",
    "    # 'MB_train_fit3d_gt_cam_no_factor_input_centering_ts_s4710_seed1',\n",
    "    # 'MB_train_fit3d_gt_cam_no_factor_input_centering_ts_s4710_seed2',\n",
    "    # 'MB_train_fit3d_gt_cam_no_factor_input_centering_ts_s4710_seed3',\n",
    "    # 'MB_train_fit3d_gt_cam_no_factor_input_centering_ts_s4710_seed4',\n",
    "    ##\n",
    "    # 'MB_train_fit3d_gt_cam_no_factor_ts_s4710',\n",
    "    # 'MB_train_fit3d_gt_cam_no_factor_ts_s4710_seed1',\n",
    "    # 'MB_train_fit3d_gt_cam_no_factor_ts_s4710_seed2',\n",
    "    # 'MB_train_fit3d_gt_cam_no_factor_ts_s4710_seed3',\n",
    "    # 'MB_train_fit3d_gt_cam_no_factor_ts_s4710_seed4',\n",
    "## fit3d_tr_s03\n",
    "    # 'MB_train_fit3d_gt_cam_no_factor_input_from_canonical_3d_revolute_input_centering_tr_s03',\n",
    "    # 'MB_train_fit3d_gt_cam_no_factor_input_from_canonical_3d_revolute_input_centering_tr_s03_seed1',\n",
    "    # 'MB_train_fit3d_gt_cam_no_factor_input_from_canonical_3d_revolute_input_centering_tr_s03_seed2',\n",
    "    # 'MB_train_fit3d_gt_cam_no_factor_input_from_canonical_3d_revolute_input_centering_tr_s03_seed3',\n",
    "    # 'MB_train_fit3d_gt_cam_no_factor_input_from_canonical_3d_revolute_input_centering_tr_s03_seed4',\n",
    "    ##\n",
    "    # 'MB_train_fit3d_gt_cam_no_factor_input_from_canonical_pcl_original_tr_s03',\n",
    "    # 'MB_train_fit3d_gt_cam_no_factor_input_from_canonical_pcl_original_tr_s03_seed1',\n",
    "    # 'MB_train_fit3d_gt_cam_no_factor_input_from_canonical_pcl_original_tr_s03_seed2',\n",
    "    # 'MB_train_fit3d_gt_cam_no_factor_input_from_canonical_pcl_original_tr_s03_seed3',\n",
    "    # 'MB_train_fit3d_gt_cam_no_factor_input_from_canonical_pcl_original_tr_s03_seed4',\n",
    "    ##\n",
    "    # 'MB_train_fit3d_gt_cam_no_factor_input_centering_tr_s03',\n",
    "    # 'MB_train_fit3d_gt_cam_no_factor_input_centering_tr_s03_seed1',\n",
    "    # 'MB_train_fit3d_gt_cam_no_factor_input_centering_tr_s03_seed2',\n",
    "    # 'MB_train_fit3d_gt_cam_no_factor_input_centering_tr_s03_seed3',\n",
    "    # 'MB_train_fit3d_gt_cam_no_factor_input_centering_tr_s03_seed4',\n",
    "    ##\n",
    "    # 'MB_train_fit3d_gt_cam_no_factor_tr_s03',\n",
    "    # 'MB_train_fit3d_gt_cam_no_factor_tr_s03_seed1',\n",
    "    # 'MB_train_fit3d_gt_cam_no_factor_tr_s03_seed2',\n",
    "    # 'MB_train_fit3d_gt_cam_no_factor_tr_s03_seed3',\n",
    "    # 'MB_train_fit3d_gt_cam_no_factor_tr_s03_seed4',\n",
    "## 3dhp_tr_s1\n",
    "    # 'MB_train_3dhp_gt_cam_no_factor_input_from_canonical_3d_revolute_input_centering_tr_s1',\n",
    "    # 'MB_train_3dhp_gt_cam_no_factor_input_from_canonical_3d_revolute_input_centering_tr_s1_seed1',\n",
    "    # 'MB_train_3dhp_gt_cam_no_factor_input_from_canonical_3d_revolute_input_centering_tr_s1_seed2',\n",
    "    # 'MB_train_3dhp_gt_cam_no_factor_input_from_canonical_3d_revolute_input_centering_tr_s1_seed3',\n",
    "    # 'MB_train_3dhp_gt_cam_no_factor_input_from_canonical_3d_revolute_input_centering_tr_s1_seed4',\n",
    "    ##\n",
    "    # 'MB_train_3dhp_gt_cam_no_factor_input_from_canonical_pcl_original_tr_s1',\n",
    "    # 'MB_train_3dhp_gt_cam_no_factor_input_from_canonical_pcl_original_tr_s1_seed1',\n",
    "    # 'MB_train_3dhp_gt_cam_no_factor_input_from_canonical_pcl_original_tr_s1_seed2',\n",
    "    # 'MB_train_3dhp_gt_cam_no_factor_input_from_canonical_pcl_original_tr_s1_seed3',\n",
    "    # 'MB_train_3dhp_gt_cam_no_factor_input_from_canonical_pcl_original_tr_s1_seed4',\n",
    "    ## \n",
    "    # 'MB_train_3dhp_gt_cam_no_factor_input_centering_tr_s1',\n",
    "    # 'MB_train_3dhp_gt_cam_no_factor_input_centering_tr_s1_seed1',\n",
    "    # 'MB_train_3dhp_gt_cam_no_factor_input_centering_tr_s1_seed2',\n",
    "    # 'MB_train_3dhp_gt_cam_no_factor_input_centering_tr_s1_seed3',\n",
    "    # 'MB_train_3dhp_gt_cam_no_factor_input_centering_tr_s1_seed4',\n",
    "    ##\n",
    "    # 'MB_train_3dhp_gt_cam_no_factor_tr_s1',\n",
    "    # 'MB_train_3dhp_gt_cam_no_factor_tr_s1_seed1',\n",
    "    # 'MB_train_3dhp_gt_cam_no_factor_tr_s1_seed2',\n",
    "    # 'MB_train_3dhp_gt_cam_no_factor_tr_s1_seed3',\n",
    "    # 'MB_train_3dhp_gt_cam_no_factor_tr_s1_seed4',\n",
    "## 3dhp train\n",
    "    # 'MB_train_3dhp_gt_cam_no_factor_input_from_canonical_3d_revolute_input_centering',\n",
    "    # 'MB_train_3dhp_gt_cam_no_factor_input_from_canonical_3d_revolute_input_centering_seed1',\n",
    "    # 'MB_train_3dhp_gt_cam_no_factor_input_from_canonical_3d_revolute_input_centering_seed2',\n",
    "    # 'MB_train_3dhp_gt_cam_no_factor_input_from_canonical_3d_revolute_input_centering_seed3',\n",
    "    # 'MB_train_3dhp_gt_cam_no_factor_input_from_canonical_3d_revolute_input_centering_seed4',\n",
    "    ##\n",
    "    # 'MB_train_3dhp_gt_cam_no_factor_input_centering',\n",
    "    # 'MB_train_3dhp_gt_cam_no_factor_input_centering_seed1',\n",
    "    # 'MB_train_3dhp_gt_cam_no_factor_input_centering_seed2',\n",
    "    # 'MB_train_3dhp_gt_cam_no_factor_input_centering_seed3',\n",
    "    # 'MB_train_3dhp_gt_cam_no_factor_input_centering_seed4',\n",
    "    ##\n",
    "    # 'MB_train_3dhp_gt_cam_no_factor',\n",
    "    # 'MB_train_3dhp_gt_cam_no_factor_seed1',\n",
    "    # 'MB_train_3dhp_gt_cam_no_factor_seed2',\n",
    "    # 'MB_train_3dhp_gt_cam_no_factor_seed3',\n",
    "    # 'MB_train_3dhp_gt_cam_no_factor_seed4',\n",
    "## h36m train\n",
    "    # 'MB_train_h36m_gt_cam_no_factor_input_from_canonical_3d_revolute_no_Rz_input_centering_seed1',\n",
    "    # 'MB_train_h36m_gt_cam_no_factor_input_from_canonical_3d_revolute_no_Rz_input_centering_seed2',\n",
    "    # 'MB_train_h36m_gt_cam_no_factor_input_from_canonical_3d_revolute_no_Rz_input_centering_seed3',\n",
    "    # 'MB_train_h36m_gt_cam_no_factor_input_from_canonical_3d_revolute_no_Rz_input_centering_seed4',\n",
    "    ##\n",
    "    # 'MB_train_h36m_gt_cam_no_factor_input_from_canonical_3d_revolute_with_Kvirt',\n",
    "    # 'MB_train_h36m_gt_cam_no_factor_input_from_canonical_3d_revolute_with_Kvirt_seed1',\n",
    "    # 'MB_train_h36m_gt_cam_no_factor_input_from_canonical_3d_revolute_with_Kvirt_seed2',\n",
    "    # 'MB_train_h36m_gt_cam_no_factor_input_from_canonical_3d_revolute_with_Kvirt_seed3',\n",
    "    # 'MB_train_h36m_gt_cam_no_factor_input_from_canonical_3d_revolute_with_Kvirt_seed4',\n",
    "    ##\n",
    "    # 'MB_train_h36m_gt_cam_no_factor_input_from_canonical_pcl_with_Rz_input_centering',\n",
    "    # 'MB_train_h36m_gt_cam_no_factor_input_from_canonical_pcl_with_Rz_input_centering_seed1',\n",
    "    # 'MB_train_h36m_gt_cam_no_factor_input_from_canonical_pcl_with_Rz_input_centering_seed2',\n",
    "    # 'MB_train_h36m_gt_cam_no_factor_input_from_canonical_pcl_with_Rz_input_centering_seed3',\n",
    "    # 'MB_train_h36m_gt_cam_no_factor_input_from_canonical_pcl_with_Rz_input_centering_seed4',\n",
    "    ##\n",
    "    'MB_train_h36m_gt_cam_no_factor_input_from_canonical_3d_revolute_input_centering_test_no_2d_canon',\n",
    "    'MB_train_h36m_gt_cam_no_factor_input_from_canonical_3d_revolute_input_centering_test_no_2d_canon_seed1',\n",
    "    'MB_train_h36m_gt_cam_no_factor_input_from_canonical_3d_revolute_input_centering_test_no_2d_canon_seed2',\n",
    "    'MB_train_h36m_gt_cam_no_factor_input_from_canonical_3d_revolute_input_centering_test_no_2d_canon_seed3',\n",
    "    'MB_train_h36m_gt_cam_no_factor_input_from_canonical_3d_revolute_input_centering_test_no_2d_canon_seed4',\n",
    "    ##\n",
    "    'MB_train_h36m_gt_cam_no_factor_input_from_canonical_3d_revolute_input_centering_test_no_2d_canon_with_fix_orientation_pred',\n",
    "    'MB_train_h36m_gt_cam_no_factor_input_from_canonical_3d_revolute_input_centering_test_no_2d_canon_with_fix_orientation_pred_seed1',\n",
    "    'MB_train_h36m_gt_cam_no_factor_input_from_canonical_3d_revolute_input_centering_test_no_2d_canon_with_fix_orientation_pred_seed2',\n",
    "    'MB_train_h36m_gt_cam_no_factor_input_from_canonical_3d_revolute_input_centering_test_no_2d_canon_with_fix_orientation_pred_seed3',\n",
    "    'MB_train_h36m_gt_cam_no_factor_input_from_canonical_3d_revolute_input_centering_test_no_2d_canon_with_fix_orientation_pred_seed4',\n",
    "    ##\n",
    "    # 'MB_train_h36m_gt_cam_no_factor_input_from_canonical_3d_revolute_input_centering',\n",
    "    # 'MB_train_h36m_gt_cam_no_factor_input_from_canonical_3d_revolute_input_centering_seed1',\n",
    "    # 'MB_train_h36m_gt_cam_no_factor_input_from_canonical_3d_revolute_input_centering_seed2',\n",
    "    # 'MB_train_h36m_gt_cam_no_factor_input_from_canonical_3d_revolute_input_centering_seed3',\n",
    "    # 'MB_train_h36m_gt_cam_no_factor_input_from_canonical_3d_revolute_input_centering_seed4',\n",
    "    ##\n",
    "    # 'MB_train_h36m_gt_cam_no_factor_input_centering',\n",
    "    # 'MB_train_h36m_gt_cam_no_factor_input_centering_seed1',\n",
    "    # 'MB_train_h36m_gt_cam_no_factor_input_centering_seed2',\n",
    "    # 'MB_train_h36m_gt_cam_no_factor_input_centering_seed3',\n",
    "    # 'MB_train_h36m_gt_cam_no_factor_input_centering_seed4',\n",
    "    ##\n",
    "    # 'MB_train_h36m_gt_cam_no_factor',\n",
    "    # 'MB_train_h36m_gt_cam_no_factor_seed1',\n",
    "    # 'MB_train_h36m_gt_cam_no_factor_seed2',\n",
    "    # 'MB_train_h36m_gt_cam_no_factor_seed3',\n",
    "    # 'MB_train_h36m_gt_cam_no_factor_seed4',\n",
    "## h36m_tr_s1_ts_s5678\n",
    "    # 'MB_train_h36m_gt_cam_no_factor_input_from_canonical_3d_revolute_input_centering_tr_s1_ts_s5678',\n",
    "    # 'MB_train_h36m_gt_cam_no_factor_input_from_canonical_3d_revolute_input_centering_tr_s1_ts_s5678_seed1',\n",
    "    # 'MB_train_h36m_gt_cam_no_factor_input_from_canonical_3d_revolute_input_centering_tr_s1_ts_s5678_seed2',\n",
    "    # 'MB_train_h36m_gt_cam_no_factor_input_from_canonical_3d_revolute_input_centering_tr_s1_ts_s5678_seed3',\n",
    "    # 'MB_train_h36m_gt_cam_no_factor_input_from_canonical_3d_revolute_input_centering_tr_s1_ts_s5678_seed4',\n",
    "    ##\n",
    "    # 'MB_train_h36m_gt_cam_no_factor_input_centering_tr_s1_ts_s5678',\n",
    "    # 'MB_train_h36m_gt_cam_no_factor_input_centering_tr_s1_ts_s5678_seed1',\n",
    "    # 'MB_train_h36m_gt_cam_no_factor_input_centering_tr_s1_ts_s5678_seed2',\n",
    "    # 'MB_train_h36m_gt_cam_no_factor_input_centering_tr_s1_ts_s5678_seed3',\n",
    "    # 'MB_train_h36m_gt_cam_no_factor_input_centering_tr_s1_ts_s5678_seed4',\n",
    "    ##\n",
    "    # 'MB_train_h36m_gt_cam_no_factor_tr_s1_ts_s5678',\n",
    "    # 'MB_train_h36m_gt_cam_no_factor_tr_s1_ts_s5678_seed1',\n",
    "    # 'MB_train_h36m_gt_cam_no_factor_tr_s1_ts_s5678_seed2',\n",
    "    # 'MB_train_h36m_gt_cam_no_factor_tr_s1_ts_s5678_seed3',\n",
    "    # 'MB_train_h36m_gt_cam_no_factor_tr_s1_ts_s5678_seed4',\n",
    "## h36m_tr_s15_ts_s678\n",
    "    # 'MB_train_h36m_gt_cam_no_factor_input_from_canonical_3d_revolute_input_centering_tr_s15_ts_s678',\n",
    "    # 'MB_train_h36m_gt_cam_no_factor_input_from_canonical_3d_revolute_input_centering_tr_s15_ts_s678_seed1',\n",
    "    # 'MB_train_h36m_gt_cam_no_factor_input_from_canonical_3d_revolute_input_centering_tr_s15_ts_s678_seed2',\n",
    "    # 'MB_train_h36m_gt_cam_no_factor_input_from_canonical_3d_revolute_input_centering_tr_s15_ts_s678_seed3',\n",
    "    # 'MB_train_h36m_gt_cam_no_factor_input_from_canonical_3d_revolute_input_centering_tr_s15_ts_s678_seed4',\n",
    "    # #\n",
    "    # 'MB_train_h36m_gt_cam_no_factor_input_centering_tr_s15_ts_s678',\n",
    "    # 'MB_train_h36m_gt_cam_no_factor_input_centering_tr_s15_ts_s678_seed1',\n",
    "    # 'MB_train_h36m_gt_cam_no_factor_input_centering_tr_s15_ts_s678_seed2',\n",
    "    # 'MB_train_h36m_gt_cam_no_factor_input_centering_tr_s15_ts_s678_seed3',\n",
    "    # 'MB_train_h36m_gt_cam_no_factor_input_centering_tr_s15_ts_s678_seed4',\n",
    "    # #\n",
    "    # 'MB_train_h36m_gt_cam_no_factor_tr_s15_ts_s678',\n",
    "    # 'MB_train_h36m_gt_cam_no_factor_tr_s15_ts_s678_seed1',\n",
    "    # 'MB_train_h36m_gt_cam_no_factor_tr_s15_ts_s678_seed2',\n",
    "    # 'MB_train_h36m_gt_cam_no_factor_tr_s15_ts_s678_seed3',\n",
    "    # 'MB_train_h36m_gt_cam_no_factor_tr_s15_ts_s678_seed4',\n",
    "]\n",
    "\n",
    "# check experiment file\n",
    "check_config_experiment(whitelist_checkpoint)"
   ]
  },
  {
   "cell_type": "code",
   "execution_count": 12,
   "metadata": {},
   "outputs": [
    {
     "name": "stdout",
     "output_type": "stream",
     "text": [
      "MB_train_h36m_gt_cam_no_factor_input_from_canonical_3d_revolute_input_centering_test_no_2d_canon_seed1\n",
      "Loading checkpoint checkpoint/pose3d_h36m/MB_train_h36m_gt_cam_no_factor_input_from_canonical_3d_revolute_input_centering_test_no_2d_canon_seed1/best_epoch.bin\n",
      "Loading dataset...\n",
      "H36M-GT-CAM_NO_FACTOR\n",
      "[overwrite: False] ==> Loading H36M source_list...\n",
      "[overwrite: False] ==> Loading H36M cam_param...\n",
      "[overwrite: False] ==> Loading H36M cam_3d...\n",
      "[overwrite: False] ==> Loading H36M img_2d...\n",
      "INFO: Testing\n",
      "No epoch information in the checkpoint\n"
     ]
    },
    {
     "name": "stderr",
     "output_type": "stream",
     "text": [
      "100%|██████████| 133/133 [00:45<00:00,  2.90it/s]\n"
     ]
    },
    {
     "name": "stdout",
     "output_type": "stream",
     "text": [
      "in\n",
      "in3\n",
      "No eval_keypoint. Use part list\n",
      "Part: whole\n",
      "Protocol #1 Error (MPJPE): 48.609439330889586 mm\n",
      "Protocol #2 Error (P-MPJPE): 16.920884629639584 mm\n",
      "----------------------------------------\n",
      "Loading dataset...\n",
      "FIT3D-GT-CAM_NO_FACTOR-ALL_TEST\n",
      "[overwrite: False] ==> Loading FIT3D source_list...\n",
      "[overwrite: False] ==> Loading FIT3D cam_param...\n",
      "[overwrite: False] ==> Loading FIT3D cam_3d...\n",
      "[overwrite: False] ==> Loading FIT3D img_2d...\n",
      "INFO: Testing\n",
      "No epoch information in the checkpoint\n"
     ]
    },
    {
     "name": "stderr",
     "output_type": "stream",
     "text": [
      "100%|██████████| 411/411 [02:19<00:00,  2.94it/s]\n"
     ]
    },
    {
     "name": "stdout",
     "output_type": "stream",
     "text": [
      "in\n",
      "in3\n",
      "No eval_keypoint. Use part list\n",
      "Part: whole\n",
      "Protocol #1 Error (MPJPE): 93.42098244680129 mm\n",
      "Protocol #2 Error (P-MPJPE): 71.03992183469 mm\n",
      "----------------------------------------\n",
      "Loading dataset...\n",
      "3DHP-GT-CAM_NO_FACTOR-TEST_TS1_6\n",
      "[overwrite: False] ==> Loading 3DHP source_list...\n",
      "[overwrite: False] ==> Loading 3DHP cam_param...\n",
      "[overwrite: False] ==> Loading 3DHP cam_3d...\n",
      "[overwrite: False] ==> Loading 3DHP img_2d...\n",
      "INFO: Testing\n",
      "No epoch information in the checkpoint\n"
     ]
    },
    {
     "name": "stderr",
     "output_type": "stream",
     "text": [
      "100%|██████████| 6/6 [00:02<00:00,  2.16it/s]\n"
     ]
    },
    {
     "name": "stdout",
     "output_type": "stream",
     "text": [
      "in\n",
      "in3\n",
      "No eval_keypoint. Use part list\n",
      "Part: whole\n",
      "Protocol #1 Error (MPJPE): 106.42987835418641 mm\n",
      "Protocol #2 Error (P-MPJPE): 56.39507172791336 mm\n",
      "----------------------------------------\n",
      "Loading dataset...\n",
      "3DHP-GT-CAM_NO_FACTOR-TEST_TS1_6_UNIV\n",
      "[overwrite: False] ==> Loading 3DHP source_list...\n",
      "[overwrite: False] ==> Loading 3DHP cam_param...\n",
      "[overwrite: False] ==> Loading 3DHP cam_3d...\n",
      "[overwrite: False] ==> Loading 3DHP img_2d...\n",
      "INFO: Testing\n",
      "No epoch information in the checkpoint\n"
     ]
    },
    {
     "name": "stderr",
     "output_type": "stream",
     "text": [
      "100%|██████████| 6/6 [00:02<00:00,  2.19it/s]\n"
     ]
    },
    {
     "name": "stdout",
     "output_type": "stream",
     "text": [
      "in\n",
      "in3\n",
      "No eval_keypoint. Use part list\n",
      "Part: whole\n",
      "Protocol #1 Error (MPJPE): 89.45072747035074 mm\n",
      "Protocol #2 Error (P-MPJPE): 50.32999179805625 mm\n",
      "----------------------------------------\n",
      "Loading dataset...\n",
      "3DHP-GT-CAM_NO_FACTOR-TEST_ALL_TRAIN\n",
      "[overwrite: False] ==> Loading 3DHP source_list...\n",
      "[overwrite: False] ==> Loading 3DHP cam_param...\n",
      "[overwrite: False] ==> Loading 3DHP cam_3d...\n",
      "[overwrite: False] ==> Loading 3DHP img_2d...\n",
      "INFO: Testing\n",
      "No epoch information in the checkpoint\n"
     ]
    },
    {
     "name": "stderr",
     "output_type": "stream",
     "text": [
      "100%|██████████| 245/245 [01:23<00:00,  2.93it/s]\n"
     ]
    },
    {
     "name": "stdout",
     "output_type": "stream",
     "text": [
      "in\n",
      "in3\n",
      "No eval_keypoint. Use part list\n",
      "Part: whole\n",
      "Protocol #1 Error (MPJPE): 103.65460090098054 mm\n",
      "Protocol #2 Error (P-MPJPE): 56.76726453472017 mm\n",
      "----------------------------------------\n",
      "MB_train_h36m_gt_cam_no_factor_input_from_canonical_3d_revolute_input_centering_test_no_2d_canon_with_fix_orientation_pred_seed4\n",
      "Loading checkpoint checkpoint/pose3d_h36m/MB_train_h36m_gt_cam_no_factor_input_from_canonical_3d_revolute_input_centering_test_no_2d_canon_with_fix_orientation_pred_seed4/best_epoch.bin\n",
      "Loading dataset...\n",
      "H36M-GT-CAM_NO_FACTOR\n",
      "[overwrite: False] ==> Loading H36M source_list...\n",
      "[overwrite: False] ==> Loading H36M cam_param...\n",
      "[overwrite: False] ==> Loading H36M cam_3d...\n",
      "[overwrite: False] ==> Loading H36M img_2d...\n",
      "INFO: Testing\n",
      "No epoch information in the checkpoint\n"
     ]
    },
    {
     "name": "stderr",
     "output_type": "stream",
     "text": [
      "100%|██████████| 133/133 [00:45<00:00,  2.89it/s]\n"
     ]
    },
    {
     "name": "stdout",
     "output_type": "stream",
     "text": [
      "in\n",
      "in3\n",
      "No eval_keypoint. Use part list\n",
      "Part: whole\n",
      "Protocol #1 Error (MPJPE): 22.257597470669026 mm\n",
      "Protocol #2 Error (P-MPJPE): 16.920884621346485 mm\n",
      "----------------------------------------\n",
      "Loading dataset...\n",
      "FIT3D-GT-CAM_NO_FACTOR-ALL_TEST\n",
      "[overwrite: False] ==> Loading FIT3D source_list...\n",
      "[overwrite: False] ==> Loading FIT3D cam_param...\n",
      "[overwrite: False] ==> Loading FIT3D cam_3d...\n",
      "[overwrite: False] ==> Loading FIT3D img_2d...\n",
      "INFO: Testing\n",
      "No epoch information in the checkpoint\n"
     ]
    },
    {
     "name": "stderr",
     "output_type": "stream",
     "text": [
      "100%|██████████| 411/411 [02:20<00:00,  2.93it/s]\n"
     ]
    },
    {
     "name": "stdout",
     "output_type": "stream",
     "text": [
      "in\n",
      "in3\n",
      "No eval_keypoint. Use part list\n",
      "Part: whole\n",
      "Protocol #1 Error (MPJPE): 87.54418033843923 mm\n",
      "Protocol #2 Error (P-MPJPE): 71.03992181027027 mm\n",
      "----------------------------------------\n",
      "Loading dataset...\n",
      "3DHP-GT-CAM_NO_FACTOR-TEST_TS1_6\n",
      "[overwrite: False] ==> Loading 3DHP source_list...\n",
      "[overwrite: False] ==> Loading 3DHP cam_param...\n",
      "[overwrite: False] ==> Loading 3DHP cam_3d...\n",
      "[overwrite: False] ==> Loading 3DHP img_2d...\n",
      "INFO: Testing\n",
      "No epoch information in the checkpoint\n"
     ]
    },
    {
     "name": "stderr",
     "output_type": "stream",
     "text": [
      "100%|██████████| 6/6 [00:02<00:00,  2.07it/s]\n"
     ]
    },
    {
     "name": "stdout",
     "output_type": "stream",
     "text": [
      "in\n",
      "in3\n",
      "No eval_keypoint. Use part list\n",
      "Part: whole\n",
      "Protocol #1 Error (MPJPE): 82.287532627265 mm\n",
      "Protocol #2 Error (P-MPJPE): 56.39507174022797 mm\n",
      "----------------------------------------\n",
      "Loading dataset...\n",
      "3DHP-GT-CAM_NO_FACTOR-TEST_TS1_6_UNIV\n",
      "[overwrite: False] ==> Loading 3DHP source_list...\n",
      "[overwrite: False] ==> Loading 3DHP cam_param...\n",
      "[overwrite: False] ==> Loading 3DHP cam_3d...\n",
      "[overwrite: False] ==> Loading 3DHP img_2d...\n",
      "INFO: Testing\n",
      "No epoch information in the checkpoint\n"
     ]
    },
    {
     "name": "stderr",
     "output_type": "stream",
     "text": [
      "100%|██████████| 6/6 [00:02<00:00,  2.20it/s]\n"
     ]
    },
    {
     "name": "stdout",
     "output_type": "stream",
     "text": [
      "in\n",
      "in3\n",
      "No eval_keypoint. Use part list\n",
      "Part: whole\n",
      "Protocol #1 Error (MPJPE): 64.75390565054586 mm\n",
      "Protocol #2 Error (P-MPJPE): 50.329991815024435 mm\n",
      "----------------------------------------\n",
      "Loading dataset...\n",
      "3DHP-GT-CAM_NO_FACTOR-TEST_ALL_TRAIN\n",
      "[overwrite: False] ==> Loading 3DHP source_list...\n",
      "[overwrite: False] ==> Loading 3DHP cam_param...\n",
      "[overwrite: False] ==> Loading 3DHP cam_3d...\n",
      "[overwrite: False] ==> Loading 3DHP img_2d...\n",
      "INFO: Testing\n",
      "No epoch information in the checkpoint\n"
     ]
    },
    {
     "name": "stderr",
     "output_type": "stream",
     "text": [
      "100%|██████████| 245/245 [01:23<00:00,  2.92it/s]\n"
     ]
    },
    {
     "name": "stdout",
     "output_type": "stream",
     "text": [
      "in\n",
      "in3\n",
      "No eval_keypoint. Use part list\n",
      "Part: whole\n",
      "Protocol #1 Error (MPJPE): 71.22894793713598 mm\n",
      "Protocol #2 Error (P-MPJPE): 56.76726453556982 mm\n",
      "----------------------------------------\n",
      "MB_train_h36m_gt_cam_no_factor_input_from_canonical_3d_revolute_input_centering_test_no_2d_canon\n",
      "Loading checkpoint checkpoint/pose3d_h36m/MB_train_h36m_gt_cam_no_factor_input_from_canonical_3d_revolute_input_centering_test_no_2d_canon/best_epoch.bin\n",
      "/home/hrai/codes/MotionBERT/saved_results/MB_train_h36m_gt_cam_no_factor_input_from_canonical_3d_revolute_input_centering_test_no_2d_canon/H36M-GT-CAM_NO_FACTOR.pkl exists\n",
      "/home/hrai/codes/MotionBERT/saved_results/MB_train_h36m_gt_cam_no_factor_input_from_canonical_3d_revolute_input_centering_test_no_2d_canon/FIT3D-GT-CAM_NO_FACTOR-ALL_TEST.pkl exists\n",
      "/home/hrai/codes/MotionBERT/saved_results/MB_train_h36m_gt_cam_no_factor_input_from_canonical_3d_revolute_input_centering_test_no_2d_canon/3DHP-GT-CAM_NO_FACTOR-TEST_TS1_6.pkl exists\n",
      "/home/hrai/codes/MotionBERT/saved_results/MB_train_h36m_gt_cam_no_factor_input_from_canonical_3d_revolute_input_centering_test_no_2d_canon/3DHP-GT-CAM_NO_FACTOR-TEST_TS1_6_UNIV.pkl exists\n",
      "/home/hrai/codes/MotionBERT/saved_results/MB_train_h36m_gt_cam_no_factor_input_from_canonical_3d_revolute_input_centering_test_no_2d_canon/3DHP-GT-CAM_NO_FACTOR-TEST_ALL_TRAIN.pkl exists\n",
      "MB_train_h36m_gt_cam_no_factor_input_from_canonical_3d_revolute_input_centering_test_no_2d_canon_with_fix_orientation_pred_seed3\n",
      "Loading checkpoint checkpoint/pose3d_h36m/MB_train_h36m_gt_cam_no_factor_input_from_canonical_3d_revolute_input_centering_test_no_2d_canon_with_fix_orientation_pred_seed3/best_epoch.bin\n",
      "Loading dataset...\n",
      "H36M-GT-CAM_NO_FACTOR\n",
      "[overwrite: False] ==> Loading H36M source_list...\n",
      "[overwrite: False] ==> Loading H36M cam_param...\n",
      "[overwrite: False] ==> Loading H36M cam_3d...\n",
      "[overwrite: False] ==> Loading H36M img_2d...\n",
      "INFO: Testing\n",
      "No epoch information in the checkpoint\n"
     ]
    },
    {
     "name": "stderr",
     "output_type": "stream",
     "text": [
      "100%|██████████| 133/133 [00:46<00:00,  2.89it/s]\n"
     ]
    },
    {
     "name": "stdout",
     "output_type": "stream",
     "text": [
      "in\n",
      "in3\n",
      "No eval_keypoint. Use part list\n",
      "Part: whole\n",
      "Protocol #1 Error (MPJPE): 22.257597470669026 mm\n",
      "Protocol #2 Error (P-MPJPE): 16.920884621346485 mm\n",
      "----------------------------------------\n",
      "Loading dataset...\n",
      "FIT3D-GT-CAM_NO_FACTOR-ALL_TEST\n",
      "[overwrite: False] ==> Loading FIT3D source_list...\n",
      "[overwrite: False] ==> Loading FIT3D cam_param...\n",
      "[overwrite: False] ==> Loading FIT3D cam_3d...\n",
      "[overwrite: False] ==> Loading FIT3D img_2d...\n",
      "INFO: Testing\n",
      "No epoch information in the checkpoint\n"
     ]
    },
    {
     "name": "stderr",
     "output_type": "stream",
     "text": [
      "100%|██████████| 411/411 [02:20<00:00,  2.93it/s]\n"
     ]
    },
    {
     "name": "stdout",
     "output_type": "stream",
     "text": [
      "in\n",
      "in3\n",
      "No eval_keypoint. Use part list\n",
      "Part: whole\n",
      "Protocol #1 Error (MPJPE): 87.54418033843923 mm\n",
      "Protocol #2 Error (P-MPJPE): 71.03992181027027 mm\n",
      "----------------------------------------\n",
      "Loading dataset...\n",
      "3DHP-GT-CAM_NO_FACTOR-TEST_TS1_6\n",
      "[overwrite: False] ==> Loading 3DHP source_list...\n",
      "[overwrite: False] ==> Loading 3DHP cam_param...\n",
      "[overwrite: False] ==> Loading 3DHP cam_3d...\n",
      "[overwrite: False] ==> Loading 3DHP img_2d...\n",
      "INFO: Testing\n",
      "No epoch information in the checkpoint\n"
     ]
    },
    {
     "name": "stderr",
     "output_type": "stream",
     "text": [
      "100%|██████████| 6/6 [00:02<00:00,  2.05it/s]\n"
     ]
    },
    {
     "name": "stdout",
     "output_type": "stream",
     "text": [
      "in\n",
      "in3\n",
      "No eval_keypoint. Use part list\n",
      "Part: whole\n",
      "Protocol #1 Error (MPJPE): 82.287532627265 mm\n",
      "Protocol #2 Error (P-MPJPE): 56.39507174022797 mm\n",
      "----------------------------------------\n",
      "Loading dataset...\n",
      "3DHP-GT-CAM_NO_FACTOR-TEST_TS1_6_UNIV\n",
      "[overwrite: False] ==> Loading 3DHP source_list...\n",
      "[overwrite: False] ==> Loading 3DHP cam_param...\n",
      "[overwrite: False] ==> Loading 3DHP cam_3d...\n",
      "[overwrite: False] ==> Loading 3DHP img_2d...\n",
      "INFO: Testing\n",
      "No epoch information in the checkpoint\n"
     ]
    },
    {
     "name": "stderr",
     "output_type": "stream",
     "text": [
      "100%|██████████| 6/6 [00:02<00:00,  2.20it/s]\n"
     ]
    },
    {
     "name": "stdout",
     "output_type": "stream",
     "text": [
      "in\n",
      "in3\n",
      "No eval_keypoint. Use part list\n",
      "Part: whole\n",
      "Protocol #1 Error (MPJPE): 64.75390565054586 mm\n",
      "Protocol #2 Error (P-MPJPE): 50.329991815024435 mm\n",
      "----------------------------------------\n",
      "Loading dataset...\n",
      "3DHP-GT-CAM_NO_FACTOR-TEST_ALL_TRAIN\n",
      "[overwrite: False] ==> Loading 3DHP source_list...\n",
      "[overwrite: False] ==> Loading 3DHP cam_param...\n",
      "[overwrite: False] ==> Loading 3DHP cam_3d...\n",
      "[overwrite: False] ==> Loading 3DHP img_2d...\n",
      "INFO: Testing\n",
      "No epoch information in the checkpoint\n"
     ]
    },
    {
     "name": "stderr",
     "output_type": "stream",
     "text": [
      "100%|██████████| 245/245 [01:23<00:00,  2.92it/s]\n"
     ]
    },
    {
     "name": "stdout",
     "output_type": "stream",
     "text": [
      "in\n",
      "in3\n",
      "No eval_keypoint. Use part list\n",
      "Part: whole\n",
      "Protocol #1 Error (MPJPE): 71.22894793713598 mm\n",
      "Protocol #2 Error (P-MPJPE): 56.76726453556982 mm\n",
      "----------------------------------------\n",
      "MB_train_h36m_gt_cam_no_factor_input_from_canonical_3d_revolute_input_centering_test_no_2d_canon_with_fix_orientation_pred_seed1\n",
      "Loading checkpoint checkpoint/pose3d_h36m/MB_train_h36m_gt_cam_no_factor_input_from_canonical_3d_revolute_input_centering_test_no_2d_canon_with_fix_orientation_pred_seed1/best_epoch.bin\n",
      "Loading dataset...\n",
      "H36M-GT-CAM_NO_FACTOR\n",
      "[overwrite: False] ==> Loading H36M source_list...\n",
      "[overwrite: False] ==> Loading H36M cam_param...\n",
      "[overwrite: False] ==> Loading H36M cam_3d...\n",
      "[overwrite: False] ==> Loading H36M img_2d...\n",
      "INFO: Testing\n",
      "No epoch information in the checkpoint\n"
     ]
    },
    {
     "name": "stderr",
     "output_type": "stream",
     "text": [
      "100%|██████████| 133/133 [00:45<00:00,  2.89it/s]\n"
     ]
    },
    {
     "name": "stdout",
     "output_type": "stream",
     "text": [
      "in\n",
      "in3\n",
      "No eval_keypoint. Use part list\n",
      "Part: whole\n",
      "Protocol #1 Error (MPJPE): 22.257597470669026 mm\n",
      "Protocol #2 Error (P-MPJPE): 16.920884621346485 mm\n",
      "----------------------------------------\n",
      "Loading dataset...\n",
      "FIT3D-GT-CAM_NO_FACTOR-ALL_TEST\n",
      "[overwrite: False] ==> Loading FIT3D source_list...\n",
      "[overwrite: False] ==> Loading FIT3D cam_param...\n",
      "[overwrite: False] ==> Loading FIT3D cam_3d...\n",
      "[overwrite: False] ==> Loading FIT3D img_2d...\n",
      "INFO: Testing\n",
      "No epoch information in the checkpoint\n"
     ]
    },
    {
     "name": "stderr",
     "output_type": "stream",
     "text": [
      "100%|██████████| 411/411 [02:20<00:00,  2.92it/s]\n"
     ]
    },
    {
     "name": "stdout",
     "output_type": "stream",
     "text": [
      "in\n",
      "in3\n",
      "No eval_keypoint. Use part list\n",
      "Part: whole\n",
      "Protocol #1 Error (MPJPE): 87.54418033843923 mm\n",
      "Protocol #2 Error (P-MPJPE): 71.03992181027027 mm\n",
      "----------------------------------------\n",
      "Loading dataset...\n",
      "3DHP-GT-CAM_NO_FACTOR-TEST_TS1_6\n",
      "[overwrite: False] ==> Loading 3DHP source_list...\n",
      "[overwrite: False] ==> Loading 3DHP cam_param...\n",
      "[overwrite: False] ==> Loading 3DHP cam_3d...\n",
      "[overwrite: False] ==> Loading 3DHP img_2d...\n",
      "INFO: Testing\n",
      "No epoch information in the checkpoint\n"
     ]
    },
    {
     "name": "stderr",
     "output_type": "stream",
     "text": [
      "100%|██████████| 6/6 [00:02<00:00,  2.15it/s]\n"
     ]
    },
    {
     "name": "stdout",
     "output_type": "stream",
     "text": [
      "in\n",
      "in3\n",
      "No eval_keypoint. Use part list\n",
      "Part: whole\n",
      "Protocol #1 Error (MPJPE): 82.287532627265 mm\n",
      "Protocol #2 Error (P-MPJPE): 56.39507174022797 mm\n",
      "----------------------------------------\n",
      "Loading dataset...\n",
      "3DHP-GT-CAM_NO_FACTOR-TEST_TS1_6_UNIV\n",
      "[overwrite: False] ==> Loading 3DHP source_list...\n",
      "[overwrite: False] ==> Loading 3DHP cam_param...\n",
      "[overwrite: False] ==> Loading 3DHP cam_3d...\n",
      "[overwrite: False] ==> Loading 3DHP img_2d...\n",
      "INFO: Testing\n",
      "No epoch information in the checkpoint\n"
     ]
    },
    {
     "name": "stderr",
     "output_type": "stream",
     "text": [
      "100%|██████████| 6/6 [00:02<00:00,  2.16it/s]\n"
     ]
    },
    {
     "name": "stdout",
     "output_type": "stream",
     "text": [
      "in\n",
      "in3\n",
      "No eval_keypoint. Use part list\n",
      "Part: whole\n",
      "Protocol #1 Error (MPJPE): 64.75390565054586 mm\n",
      "Protocol #2 Error (P-MPJPE): 50.329991815024435 mm\n",
      "----------------------------------------\n",
      "Loading dataset...\n",
      "3DHP-GT-CAM_NO_FACTOR-TEST_ALL_TRAIN\n",
      "[overwrite: False] ==> Loading 3DHP source_list...\n",
      "[overwrite: False] ==> Loading 3DHP cam_param...\n",
      "[overwrite: False] ==> Loading 3DHP cam_3d...\n",
      "[overwrite: False] ==> Loading 3DHP img_2d...\n",
      "INFO: Testing\n",
      "No epoch information in the checkpoint\n"
     ]
    },
    {
     "name": "stderr",
     "output_type": "stream",
     "text": [
      "100%|██████████| 245/245 [01:24<00:00,  2.92it/s]\n"
     ]
    },
    {
     "name": "stdout",
     "output_type": "stream",
     "text": [
      "in\n",
      "in3\n",
      "No eval_keypoint. Use part list\n",
      "Part: whole\n",
      "Protocol #1 Error (MPJPE): 71.22894793713598 mm\n",
      "Protocol #2 Error (P-MPJPE): 56.76726453556982 mm\n",
      "----------------------------------------\n",
      "MB_train_h36m_gt_cam_no_factor_input_from_canonical_3d_revolute_input_centering_test_no_2d_canon_seed2\n",
      "Loading checkpoint checkpoint/pose3d_h36m/MB_train_h36m_gt_cam_no_factor_input_from_canonical_3d_revolute_input_centering_test_no_2d_canon_seed2/best_epoch.bin\n",
      "Loading dataset...\n",
      "H36M-GT-CAM_NO_FACTOR\n",
      "[overwrite: False] ==> Loading H36M source_list...\n",
      "[overwrite: False] ==> Loading H36M cam_param...\n",
      "[overwrite: False] ==> Loading H36M cam_3d...\n",
      "[overwrite: False] ==> Loading H36M img_2d...\n",
      "INFO: Testing\n",
      "No epoch information in the checkpoint\n"
     ]
    },
    {
     "name": "stderr",
     "output_type": "stream",
     "text": [
      "100%|██████████| 133/133 [00:45<00:00,  2.90it/s]\n"
     ]
    },
    {
     "name": "stdout",
     "output_type": "stream",
     "text": [
      "in\n",
      "in3\n",
      "No eval_keypoint. Use part list\n",
      "Part: whole\n",
      "Protocol #1 Error (MPJPE): 48.609439330889586 mm\n",
      "Protocol #2 Error (P-MPJPE): 16.920884629639584 mm\n",
      "----------------------------------------\n",
      "Loading dataset...\n",
      "FIT3D-GT-CAM_NO_FACTOR-ALL_TEST\n",
      "[overwrite: False] ==> Loading FIT3D source_list...\n",
      "[overwrite: False] ==> Loading FIT3D cam_param...\n",
      "[overwrite: False] ==> Loading FIT3D cam_3d...\n",
      "[overwrite: False] ==> Loading FIT3D img_2d...\n",
      "INFO: Testing\n",
      "No epoch information in the checkpoint\n"
     ]
    },
    {
     "name": "stderr",
     "output_type": "stream",
     "text": [
      "100%|██████████| 411/411 [02:19<00:00,  2.94it/s]\n"
     ]
    },
    {
     "name": "stdout",
     "output_type": "stream",
     "text": [
      "in\n",
      "in3\n",
      "No eval_keypoint. Use part list\n",
      "Part: whole\n",
      "Protocol #1 Error (MPJPE): 93.42098244680129 mm\n",
      "Protocol #2 Error (P-MPJPE): 71.03992183469 mm\n",
      "----------------------------------------\n",
      "Loading dataset...\n",
      "3DHP-GT-CAM_NO_FACTOR-TEST_TS1_6\n",
      "[overwrite: False] ==> Loading 3DHP source_list...\n",
      "[overwrite: False] ==> Loading 3DHP cam_param...\n",
      "[overwrite: False] ==> Loading 3DHP cam_3d...\n",
      "[overwrite: False] ==> Loading 3DHP img_2d...\n",
      "INFO: Testing\n",
      "No epoch information in the checkpoint\n"
     ]
    },
    {
     "name": "stderr",
     "output_type": "stream",
     "text": [
      "100%|██████████| 6/6 [00:02<00:00,  2.16it/s]\n"
     ]
    },
    {
     "name": "stdout",
     "output_type": "stream",
     "text": [
      "in\n",
      "in3\n",
      "No eval_keypoint. Use part list\n",
      "Part: whole\n",
      "Protocol #1 Error (MPJPE): 106.42987835418641 mm\n",
      "Protocol #2 Error (P-MPJPE): 56.39507172791336 mm\n",
      "----------------------------------------\n",
      "Loading dataset...\n",
      "3DHP-GT-CAM_NO_FACTOR-TEST_TS1_6_UNIV\n",
      "[overwrite: False] ==> Loading 3DHP source_list...\n",
      "[overwrite: False] ==> Loading 3DHP cam_param...\n",
      "[overwrite: False] ==> Loading 3DHP cam_3d...\n",
      "[overwrite: False] ==> Loading 3DHP img_2d...\n",
      "INFO: Testing\n",
      "No epoch information in the checkpoint\n"
     ]
    },
    {
     "name": "stderr",
     "output_type": "stream",
     "text": [
      "100%|██████████| 6/6 [00:02<00:00,  2.19it/s]\n"
     ]
    },
    {
     "name": "stdout",
     "output_type": "stream",
     "text": [
      "in\n",
      "in3\n",
      "No eval_keypoint. Use part list\n",
      "Part: whole\n",
      "Protocol #1 Error (MPJPE): 89.45072747035074 mm\n",
      "Protocol #2 Error (P-MPJPE): 50.32999179805625 mm\n",
      "----------------------------------------\n",
      "Loading dataset...\n",
      "3DHP-GT-CAM_NO_FACTOR-TEST_ALL_TRAIN\n",
      "[overwrite: False] ==> Loading 3DHP source_list...\n",
      "[overwrite: False] ==> Loading 3DHP cam_param...\n",
      "[overwrite: False] ==> Loading 3DHP cam_3d...\n",
      "[overwrite: False] ==> Loading 3DHP img_2d...\n",
      "INFO: Testing\n",
      "No epoch information in the checkpoint\n"
     ]
    },
    {
     "name": "stderr",
     "output_type": "stream",
     "text": [
      "100%|██████████| 245/245 [01:23<00:00,  2.93it/s]\n"
     ]
    },
    {
     "name": "stdout",
     "output_type": "stream",
     "text": [
      "in\n",
      "in3\n",
      "No eval_keypoint. Use part list\n",
      "Part: whole\n",
      "Protocol #1 Error (MPJPE): 103.65460090098054 mm\n",
      "Protocol #2 Error (P-MPJPE): 56.76726453472017 mm\n",
      "----------------------------------------\n",
      "MB_train_h36m_gt_cam_no_factor_input_from_canonical_3d_revolute_input_centering_test_no_2d_canon_seed4\n",
      "Loading checkpoint checkpoint/pose3d_h36m/MB_train_h36m_gt_cam_no_factor_input_from_canonical_3d_revolute_input_centering_test_no_2d_canon_seed4/best_epoch.bin\n",
      "Loading dataset...\n",
      "H36M-GT-CAM_NO_FACTOR\n",
      "[overwrite: False] ==> Loading H36M source_list...\n",
      "[overwrite: False] ==> Loading H36M cam_param...\n",
      "[overwrite: False] ==> Loading H36M cam_3d...\n",
      "[overwrite: False] ==> Loading H36M img_2d...\n",
      "INFO: Testing\n",
      "No epoch information in the checkpoint\n"
     ]
    },
    {
     "name": "stderr",
     "output_type": "stream",
     "text": [
      "100%|██████████| 133/133 [00:45<00:00,  2.90it/s]\n"
     ]
    },
    {
     "name": "stdout",
     "output_type": "stream",
     "text": [
      "in\n",
      "in3\n",
      "No eval_keypoint. Use part list\n",
      "Part: whole\n",
      "Protocol #1 Error (MPJPE): 48.609439330889586 mm\n",
      "Protocol #2 Error (P-MPJPE): 16.920884629639584 mm\n",
      "----------------------------------------\n",
      "Loading dataset...\n",
      "FIT3D-GT-CAM_NO_FACTOR-ALL_TEST\n",
      "[overwrite: False] ==> Loading FIT3D source_list...\n",
      "[overwrite: False] ==> Loading FIT3D cam_param...\n",
      "[overwrite: False] ==> Loading FIT3D cam_3d...\n",
      "[overwrite: False] ==> Loading FIT3D img_2d...\n",
      "INFO: Testing\n",
      "No epoch information in the checkpoint\n"
     ]
    },
    {
     "name": "stderr",
     "output_type": "stream",
     "text": [
      "100%|██████████| 411/411 [02:19<00:00,  2.94it/s]\n"
     ]
    },
    {
     "name": "stdout",
     "output_type": "stream",
     "text": [
      "in\n",
      "in3\n",
      "No eval_keypoint. Use part list\n",
      "Part: whole\n",
      "Protocol #1 Error (MPJPE): 93.42098244680129 mm\n",
      "Protocol #2 Error (P-MPJPE): 71.03992183469 mm\n",
      "----------------------------------------\n",
      "Loading dataset...\n",
      "3DHP-GT-CAM_NO_FACTOR-TEST_TS1_6\n",
      "[overwrite: False] ==> Loading 3DHP source_list...\n",
      "[overwrite: False] ==> Loading 3DHP cam_param...\n",
      "[overwrite: False] ==> Loading 3DHP cam_3d...\n",
      "[overwrite: False] ==> Loading 3DHP img_2d...\n",
      "INFO: Testing\n",
      "No epoch information in the checkpoint\n"
     ]
    },
    {
     "name": "stderr",
     "output_type": "stream",
     "text": [
      "100%|██████████| 6/6 [00:02<00:00,  2.17it/s]\n"
     ]
    },
    {
     "name": "stdout",
     "output_type": "stream",
     "text": [
      "in\n",
      "in3\n",
      "No eval_keypoint. Use part list\n",
      "Part: whole\n",
      "Protocol #1 Error (MPJPE): 106.42987835418641 mm\n",
      "Protocol #2 Error (P-MPJPE): 56.39507172791336 mm\n",
      "----------------------------------------\n",
      "Loading dataset...\n",
      "3DHP-GT-CAM_NO_FACTOR-TEST_TS1_6_UNIV\n",
      "[overwrite: False] ==> Loading 3DHP source_list...\n",
      "[overwrite: False] ==> Loading 3DHP cam_param...\n",
      "[overwrite: False] ==> Loading 3DHP cam_3d...\n",
      "[overwrite: False] ==> Loading 3DHP img_2d...\n",
      "INFO: Testing\n",
      "No epoch information in the checkpoint\n"
     ]
    },
    {
     "name": "stderr",
     "output_type": "stream",
     "text": [
      "100%|██████████| 6/6 [00:02<00:00,  2.16it/s]\n"
     ]
    },
    {
     "name": "stdout",
     "output_type": "stream",
     "text": [
      "in\n",
      "in3\n",
      "No eval_keypoint. Use part list\n",
      "Part: whole\n",
      "Protocol #1 Error (MPJPE): 89.45072747035074 mm\n",
      "Protocol #2 Error (P-MPJPE): 50.32999179805625 mm\n",
      "----------------------------------------\n",
      "Loading dataset...\n",
      "3DHP-GT-CAM_NO_FACTOR-TEST_ALL_TRAIN\n",
      "[overwrite: False] ==> Loading 3DHP source_list...\n",
      "[overwrite: False] ==> Loading 3DHP cam_param...\n",
      "[overwrite: False] ==> Loading 3DHP cam_3d...\n",
      "[overwrite: False] ==> Loading 3DHP img_2d...\n",
      "INFO: Testing\n",
      "No epoch information in the checkpoint\n"
     ]
    },
    {
     "name": "stderr",
     "output_type": "stream",
     "text": [
      "100%|██████████| 245/245 [01:23<00:00,  2.93it/s]\n"
     ]
    },
    {
     "name": "stdout",
     "output_type": "stream",
     "text": [
      "in\n",
      "in3\n",
      "No eval_keypoint. Use part list\n",
      "Part: whole\n",
      "Protocol #1 Error (MPJPE): 103.65460090098054 mm\n",
      "Protocol #2 Error (P-MPJPE): 56.76726453472017 mm\n",
      "----------------------------------------\n",
      "MB_train_h36m_gt_cam_no_factor_input_from_canonical_3d_revolute_input_centering_test_no_2d_canon_seed3\n",
      "Loading checkpoint checkpoint/pose3d_h36m/MB_train_h36m_gt_cam_no_factor_input_from_canonical_3d_revolute_input_centering_test_no_2d_canon_seed3/best_epoch.bin\n",
      "Loading dataset...\n",
      "H36M-GT-CAM_NO_FACTOR\n",
      "[overwrite: False] ==> Loading H36M source_list...\n",
      "[overwrite: False] ==> Loading H36M cam_param...\n",
      "[overwrite: False] ==> Loading H36M cam_3d...\n",
      "[overwrite: False] ==> Loading H36M img_2d...\n",
      "INFO: Testing\n",
      "No epoch information in the checkpoint\n"
     ]
    },
    {
     "name": "stderr",
     "output_type": "stream",
     "text": [
      "100%|██████████| 133/133 [00:46<00:00,  2.89it/s]\n"
     ]
    },
    {
     "name": "stdout",
     "output_type": "stream",
     "text": [
      "in\n",
      "in3\n",
      "No eval_keypoint. Use part list\n",
      "Part: whole\n",
      "Protocol #1 Error (MPJPE): 48.609439330889586 mm\n",
      "Protocol #2 Error (P-MPJPE): 16.920884629639584 mm\n",
      "----------------------------------------\n",
      "Loading dataset...\n",
      "FIT3D-GT-CAM_NO_FACTOR-ALL_TEST\n",
      "[overwrite: False] ==> Loading FIT3D source_list...\n",
      "[overwrite: False] ==> Loading FIT3D cam_param...\n",
      "[overwrite: False] ==> Loading FIT3D cam_3d...\n",
      "[overwrite: False] ==> Loading FIT3D img_2d...\n",
      "INFO: Testing\n",
      "No epoch information in the checkpoint\n"
     ]
    },
    {
     "name": "stderr",
     "output_type": "stream",
     "text": [
      "100%|██████████| 411/411 [02:19<00:00,  2.94it/s]\n"
     ]
    },
    {
     "name": "stdout",
     "output_type": "stream",
     "text": [
      "in\n",
      "in3\n",
      "No eval_keypoint. Use part list\n",
      "Part: whole\n",
      "Protocol #1 Error (MPJPE): 93.42098244680129 mm\n",
      "Protocol #2 Error (P-MPJPE): 71.03992183469 mm\n",
      "----------------------------------------\n",
      "Loading dataset...\n",
      "3DHP-GT-CAM_NO_FACTOR-TEST_TS1_6\n",
      "[overwrite: False] ==> Loading 3DHP source_list...\n",
      "[overwrite: False] ==> Loading 3DHP cam_param...\n",
      "[overwrite: False] ==> Loading 3DHP cam_3d...\n",
      "[overwrite: False] ==> Loading 3DHP img_2d...\n",
      "INFO: Testing\n",
      "No epoch information in the checkpoint\n"
     ]
    },
    {
     "name": "stderr",
     "output_type": "stream",
     "text": [
      "100%|██████████| 6/6 [00:02<00:00,  2.14it/s]\n"
     ]
    },
    {
     "name": "stdout",
     "output_type": "stream",
     "text": [
      "in\n",
      "in3\n",
      "No eval_keypoint. Use part list\n",
      "Part: whole\n",
      "Protocol #1 Error (MPJPE): 106.42987835418641 mm\n",
      "Protocol #2 Error (P-MPJPE): 56.39507172791336 mm\n",
      "----------------------------------------\n",
      "Loading dataset...\n",
      "3DHP-GT-CAM_NO_FACTOR-TEST_TS1_6_UNIV\n",
      "[overwrite: False] ==> Loading 3DHP source_list...\n",
      "[overwrite: False] ==> Loading 3DHP cam_param...\n",
      "[overwrite: False] ==> Loading 3DHP cam_3d...\n",
      "[overwrite: False] ==> Loading 3DHP img_2d...\n",
      "INFO: Testing\n",
      "No epoch information in the checkpoint\n"
     ]
    },
    {
     "name": "stderr",
     "output_type": "stream",
     "text": [
      "100%|██████████| 6/6 [00:02<00:00,  2.08it/s]\n"
     ]
    },
    {
     "name": "stdout",
     "output_type": "stream",
     "text": [
      "in\n",
      "in3\n",
      "No eval_keypoint. Use part list\n",
      "Part: whole\n",
      "Protocol #1 Error (MPJPE): 89.45072747035074 mm\n",
      "Protocol #2 Error (P-MPJPE): 50.32999179805625 mm\n",
      "----------------------------------------\n",
      "Loading dataset...\n",
      "3DHP-GT-CAM_NO_FACTOR-TEST_ALL_TRAIN\n",
      "[overwrite: False] ==> Loading 3DHP source_list...\n",
      "[overwrite: False] ==> Loading 3DHP cam_param...\n",
      "[overwrite: False] ==> Loading 3DHP cam_3d...\n",
      "[overwrite: False] ==> Loading 3DHP img_2d...\n",
      "INFO: Testing\n",
      "No epoch information in the checkpoint\n"
     ]
    },
    {
     "name": "stderr",
     "output_type": "stream",
     "text": [
      "100%|██████████| 245/245 [01:23<00:00,  2.94it/s]\n"
     ]
    },
    {
     "name": "stdout",
     "output_type": "stream",
     "text": [
      "in\n",
      "in3\n",
      "No eval_keypoint. Use part list\n",
      "Part: whole\n",
      "Protocol #1 Error (MPJPE): 103.65460090098054 mm\n",
      "Protocol #2 Error (P-MPJPE): 56.76726453472017 mm\n",
      "----------------------------------------\n",
      "MB_train_h36m_gt_cam_no_factor_input_from_canonical_3d_revolute_input_centering_test_no_2d_canon_with_fix_orientation_pred_seed2\n",
      "Loading checkpoint checkpoint/pose3d_h36m/MB_train_h36m_gt_cam_no_factor_input_from_canonical_3d_revolute_input_centering_test_no_2d_canon_with_fix_orientation_pred_seed2/best_epoch.bin\n",
      "Loading dataset...\n",
      "H36M-GT-CAM_NO_FACTOR\n",
      "[overwrite: False] ==> Loading H36M source_list...\n",
      "[overwrite: False] ==> Loading H36M cam_param...\n",
      "[overwrite: False] ==> Loading H36M cam_3d...\n",
      "[overwrite: False] ==> Loading H36M img_2d...\n",
      "INFO: Testing\n",
      "No epoch information in the checkpoint\n"
     ]
    },
    {
     "name": "stderr",
     "output_type": "stream",
     "text": [
      "100%|██████████| 133/133 [00:46<00:00,  2.89it/s]\n"
     ]
    },
    {
     "name": "stdout",
     "output_type": "stream",
     "text": [
      "in\n",
      "in3\n",
      "No eval_keypoint. Use part list\n",
      "Part: whole\n",
      "Protocol #1 Error (MPJPE): 22.257597470669026 mm\n",
      "Protocol #2 Error (P-MPJPE): 16.920884621346485 mm\n",
      "----------------------------------------\n",
      "Loading dataset...\n",
      "FIT3D-GT-CAM_NO_FACTOR-ALL_TEST\n",
      "[overwrite: False] ==> Loading FIT3D source_list...\n",
      "[overwrite: False] ==> Loading FIT3D cam_param...\n",
      "[overwrite: False] ==> Loading FIT3D cam_3d...\n",
      "[overwrite: False] ==> Loading FIT3D img_2d...\n",
      "INFO: Testing\n",
      "No epoch information in the checkpoint\n"
     ]
    },
    {
     "name": "stderr",
     "output_type": "stream",
     "text": [
      "100%|██████████| 411/411 [02:20<00:00,  2.93it/s]\n"
     ]
    },
    {
     "name": "stdout",
     "output_type": "stream",
     "text": [
      "in\n",
      "in3\n",
      "No eval_keypoint. Use part list\n",
      "Part: whole\n",
      "Protocol #1 Error (MPJPE): 87.54418033843923 mm\n",
      "Protocol #2 Error (P-MPJPE): 71.03992181027027 mm\n",
      "----------------------------------------\n",
      "Loading dataset...\n",
      "3DHP-GT-CAM_NO_FACTOR-TEST_TS1_6\n",
      "[overwrite: False] ==> Loading 3DHP source_list...\n",
      "[overwrite: False] ==> Loading 3DHP cam_param...\n",
      "[overwrite: False] ==> Loading 3DHP cam_3d...\n",
      "[overwrite: False] ==> Loading 3DHP img_2d...\n",
      "INFO: Testing\n",
      "No epoch information in the checkpoint\n"
     ]
    },
    {
     "name": "stderr",
     "output_type": "stream",
     "text": [
      "100%|██████████| 6/6 [00:02<00:00,  2.10it/s]\n"
     ]
    },
    {
     "name": "stdout",
     "output_type": "stream",
     "text": [
      "in\n",
      "in3\n",
      "No eval_keypoint. Use part list\n",
      "Part: whole\n",
      "Protocol #1 Error (MPJPE): 82.287532627265 mm\n",
      "Protocol #2 Error (P-MPJPE): 56.39507174022797 mm\n",
      "----------------------------------------\n",
      "Loading dataset...\n",
      "3DHP-GT-CAM_NO_FACTOR-TEST_TS1_6_UNIV\n",
      "[overwrite: False] ==> Loading 3DHP source_list...\n",
      "[overwrite: False] ==> Loading 3DHP cam_param...\n",
      "[overwrite: False] ==> Loading 3DHP cam_3d...\n",
      "[overwrite: False] ==> Loading 3DHP img_2d...\n",
      "INFO: Testing\n",
      "No epoch information in the checkpoint\n"
     ]
    },
    {
     "name": "stderr",
     "output_type": "stream",
     "text": [
      "100%|██████████| 6/6 [00:02<00:00,  2.14it/s]\n"
     ]
    },
    {
     "name": "stdout",
     "output_type": "stream",
     "text": [
      "in\n",
      "in3\n",
      "No eval_keypoint. Use part list\n",
      "Part: whole\n",
      "Protocol #1 Error (MPJPE): 64.75390565054586 mm\n",
      "Protocol #2 Error (P-MPJPE): 50.329991815024435 mm\n",
      "----------------------------------------\n",
      "Loading dataset...\n",
      "3DHP-GT-CAM_NO_FACTOR-TEST_ALL_TRAIN\n",
      "[overwrite: False] ==> Loading 3DHP source_list...\n",
      "[overwrite: False] ==> Loading 3DHP cam_param...\n",
      "[overwrite: False] ==> Loading 3DHP cam_3d...\n",
      "[overwrite: False] ==> Loading 3DHP img_2d...\n",
      "INFO: Testing\n",
      "No epoch information in the checkpoint\n"
     ]
    },
    {
     "name": "stderr",
     "output_type": "stream",
     "text": [
      "100%|██████████| 245/245 [01:23<00:00,  2.92it/s]\n"
     ]
    },
    {
     "name": "stdout",
     "output_type": "stream",
     "text": [
      "in\n",
      "in3\n",
      "No eval_keypoint. Use part list\n",
      "Part: whole\n",
      "Protocol #1 Error (MPJPE): 71.22894793713598 mm\n",
      "Protocol #2 Error (P-MPJPE): 56.76726453556982 mm\n",
      "----------------------------------------\n",
      "MB_train_h36m_gt_cam_no_factor_input_from_canonical_3d_revolute_input_centering_test_no_2d_canon_with_fix_orientation_pred\n",
      "Loading checkpoint checkpoint/pose3d_h36m/MB_train_h36m_gt_cam_no_factor_input_from_canonical_3d_revolute_input_centering_test_no_2d_canon_with_fix_orientation_pred/best_epoch.bin\n",
      "/home/hrai/codes/MotionBERT/saved_results/MB_train_h36m_gt_cam_no_factor_input_from_canonical_3d_revolute_input_centering_test_no_2d_canon_with_fix_orientation_pred/H36M-GT-CAM_NO_FACTOR.pkl exists\n",
      "/home/hrai/codes/MotionBERT/saved_results/MB_train_h36m_gt_cam_no_factor_input_from_canonical_3d_revolute_input_centering_test_no_2d_canon_with_fix_orientation_pred/FIT3D-GT-CAM_NO_FACTOR-ALL_TEST.pkl exists\n",
      "/home/hrai/codes/MotionBERT/saved_results/MB_train_h36m_gt_cam_no_factor_input_from_canonical_3d_revolute_input_centering_test_no_2d_canon_with_fix_orientation_pred/3DHP-GT-CAM_NO_FACTOR-TEST_TS1_6.pkl exists\n",
      "/home/hrai/codes/MotionBERT/saved_results/MB_train_h36m_gt_cam_no_factor_input_from_canonical_3d_revolute_input_centering_test_no_2d_canon_with_fix_orientation_pred/3DHP-GT-CAM_NO_FACTOR-TEST_TS1_6_UNIV.pkl exists\n",
      "/home/hrai/codes/MotionBERT/saved_results/MB_train_h36m_gt_cam_no_factor_input_from_canonical_3d_revolute_input_centering_test_no_2d_canon_with_fix_orientation_pred/3DHP-GT-CAM_NO_FACTOR-TEST_ALL_TRAIN.pkl exists\n"
     ]
    }
   ],
   "source": [
    "experiment_root = f'/home/{user}/codes/MotionBERT/experiments'\n",
    "for item in glob(experiment_root+'/*.txt'):\n",
    "    checkpoint_name = os.path.basename(item).split('.txt')[0]\n",
    "    # check if in whitelist\n",
    "    if checkpoint_name in blacklist_checkpoint: continue\n",
    "    if len(whitelist_checkpoint) > 0 and checkpoint_name not in whitelist_checkpoint: continue\n",
    "    # filtering\n",
    "    if 'cam_no_factor' not in checkpoint_name: continue\n",
    "    # get save folder\n",
    "    save_folder = f'/home/{user}/codes/MotionBERT/saved_results/{checkpoint_name}'\n",
    "    if not os.path.exists(save_folder): os.makedirs(save_folder)\n",
    "\n",
    "    # load model\n",
    "    args, opts = get_opt_args_from_model_name(checkpoint_name, verbose=False)\n",
    "    try:\n",
    "        model_pos, chk_filename, checkpoint = load_model(opts, args)\n",
    "    except:\n",
    "        print(f'Error loading model: {checkpoint_name}')\n",
    "        continue\n",
    "\n",
    "    # load subset list\n",
    "    subset_list = []\n",
    "    with open(item, 'r') as f:\n",
    "        lines = f.readlines()\n",
    "        for line in lines:\n",
    "            subset = line.strip()\n",
    "            subset_list.append(subset)\n",
    "\n",
    "    for subset in subset_list:\n",
    "        if 'PCL' in subset: args.fix_orientation_pred = True\n",
    "        # get save path\n",
    "        save_path = os.path.join(save_folder, f'{subset}.pkl')\n",
    "        # check if exists\n",
    "        if os.path.exists(save_path):\n",
    "            print(f'{save_path} exists')\n",
    "            continue\n",
    "        # evaluation\n",
    "        try:\n",
    "            # load dataset\n",
    "            args.subset_list = [subset]\n",
    "            train_loader, test_loader, _, _, datareader = load_dataset(args, use_new_datareader=True)\n",
    "            # evaluation\n",
    "            e1, e2, results_all, inputs_all, gts_all, total_result_dict = evaluate(args, model_pos, test_loader, datareader, checkpoint, only_one_batch=False)\n",
    "            # save results\n",
    "            results_dict = {'results_all': results_all, 'total_result_dict': total_result_dict, 'e1': e1, 'e2': e2} # 'gts_all': gts_all, 'inputs_all': inputs_all, \n",
    "            savepkl(results_dict, save_path)\n",
    "        except Exception as e:\n",
    "            print(f'Error: {e}')\n"
   ]
  },
  {
   "cell_type": "code",
   "execution_count": 18,
   "metadata": {},
   "outputs": [
    {
     "data": {
      "text/plain": [
       "'cam_3d_from_canonical_3d'"
      ]
     },
     "execution_count": 18,
     "metadata": {},
     "output_type": "execute_result"
    }
   ],
   "source": [
    "args.mpjpe_mode"
   ]
  },
  {
   "cell_type": "code",
   "execution_count": 10,
   "metadata": {},
   "outputs": [
    {
     "data": {
      "text/plain": [
       "['cam_3d',\n",
       " 'joint_2d',\n",
       " 'source',\n",
       " 'cam_param',\n",
       " 'camera_name',\n",
       " 'action',\n",
       " 'confidence']"
      ]
     },
     "execution_count": 10,
     "metadata": {},
     "output_type": "execute_result"
    }
   ],
   "source": [
    "datareader.datareader['3DHP-GT-CAM_NO_FACTOR-TEST_TS1_6'].data_type_list"
   ]
  },
  {
   "cell_type": "markdown",
   "metadata": {},
   "source": [
    "### Reset the result_dict for whitelist_checkpoint"
   ]
  },
  {
   "cell_type": "code",
   "execution_count": 4,
   "metadata": {},
   "outputs": [],
   "source": [
    "result_dict = readpkl('result_dict.pkl')\n",
    "for item in whitelist_checkpoint:\n",
    "    try: del result_dict[item]\n",
    "    except: print(f'[{item}] not found')\n",
    "savepkl(result_dict, 'result_dict.pkl')"
   ]
  },
  {
   "cell_type": "code",
   "execution_count": 8,
   "metadata": {},
   "outputs": [],
   "source": [
    "savepkl(result_dict, 'result_dict.pkl')"
   ]
  },
  {
   "cell_type": "markdown",
   "metadata": {},
   "source": [
    "### Cherrypick e1, e2 -> result_dict.pkl"
   ]
  },
  {
   "cell_type": "code",
   "execution_count": 13,
   "metadata": {},
   "outputs": [
    {
     "name": "stdout",
     "output_type": "stream",
     "text": [
      "Loading result_dict.pkl\n"
     ]
    },
    {
     "name": "stderr",
     "output_type": "stream",
     "text": [
      "  0%|          | 0/146 [00:00<?, ?it/s]"
     ]
    },
    {
     "name": "stdout",
     "output_type": "stream",
     "text": [
      "/home/hrai/codes/MotionBERT/saved_results/MB_train_h36m_gt_cam_no_factor_input_from_canonical_3d_revolute_input_centering_test_no_2d_canon_with_fix_orientation_pred_seed1/3DHP-GT-CAM_NO_FACTOR-TEST_ALL_TRAIN.pkl\n",
      "/home/hrai/codes/MotionBERT/saved_results/MB_train_h36m_gt_cam_no_factor_input_from_canonical_3d_revolute_input_centering_test_no_2d_canon_with_fix_orientation_pred_seed1/3DHP-GT-CAM_NO_FACTOR-TEST_TS1_6.pkl\n",
      "/home/hrai/codes/MotionBERT/saved_results/MB_train_h36m_gt_cam_no_factor_input_from_canonical_3d_revolute_input_centering_test_no_2d_canon_with_fix_orientation_pred_seed1/FIT3D-GT-CAM_NO_FACTOR-ALL_TEST.pkl\n",
      "/home/hrai/codes/MotionBERT/saved_results/MB_train_h36m_gt_cam_no_factor_input_from_canonical_3d_revolute_input_centering_test_no_2d_canon_with_fix_orientation_pred_seed1/H36M-GT-CAM_NO_FACTOR.pkl\n"
     ]
    },
    {
     "name": "stderr",
     "output_type": "stream",
     "text": [
      "  5%|▍         | 7/146 [00:01<00:35,  3.96it/s]"
     ]
    },
    {
     "name": "stdout",
     "output_type": "stream",
     "text": [
      "/home/hrai/codes/MotionBERT/saved_results/MB_train_h36m_gt_cam_no_factor_input_from_canonical_3d_revolute_input_centering_test_no_2d_canon_with_fix_orientation_pred_seed1/3DHP-GT-CAM_NO_FACTOR-TEST_TS1_6_UNIV.pkl\n",
      "/home/hrai/codes/MotionBERT/saved_results/MB_train_h36m_gt_cam_no_factor_input_from_canonical_3d_revolute_input_centering_test_no_2d_canon_seed1/3DHP-GT-CAM_NO_FACTOR-TEST_ALL_TRAIN.pkl\n",
      "/home/hrai/codes/MotionBERT/saved_results/MB_train_h36m_gt_cam_no_factor_input_from_canonical_3d_revolute_input_centering_test_no_2d_canon_seed1/3DHP-GT-CAM_NO_FACTOR-TEST_TS1_6.pkl\n",
      "/home/hrai/codes/MotionBERT/saved_results/MB_train_h36m_gt_cam_no_factor_input_from_canonical_3d_revolute_input_centering_test_no_2d_canon_seed1/FIT3D-GT-CAM_NO_FACTOR-ALL_TEST.pkl\n",
      "/home/hrai/codes/MotionBERT/saved_results/MB_train_h36m_gt_cam_no_factor_input_from_canonical_3d_revolute_input_centering_test_no_2d_canon_seed1/H36M-GT-CAM_NO_FACTOR.pkl\n"
     ]
    },
    {
     "name": "stderr",
     "output_type": "stream",
     "text": [
      " 23%|██▎       | 34/146 [00:03<00:10, 11.16it/s]"
     ]
    },
    {
     "name": "stdout",
     "output_type": "stream",
     "text": [
      "/home/hrai/codes/MotionBERT/saved_results/MB_train_h36m_gt_cam_no_factor_input_from_canonical_3d_revolute_input_centering_test_no_2d_canon_seed1/3DHP-GT-CAM_NO_FACTOR-TEST_TS1_6_UNIV.pkl\n",
      "/home/hrai/codes/MotionBERT/saved_results/MB_train_h36m_gt_cam_no_factor_input_from_canonical_3d_revolute_input_centering_test_no_2d_canon_seed4/3DHP-GT-CAM_NO_FACTOR-TEST_ALL_TRAIN.pkl\n",
      "/home/hrai/codes/MotionBERT/saved_results/MB_train_h36m_gt_cam_no_factor_input_from_canonical_3d_revolute_input_centering_test_no_2d_canon_seed4/3DHP-GT-CAM_NO_FACTOR-TEST_TS1_6.pkl\n",
      "/home/hrai/codes/MotionBERT/saved_results/MB_train_h36m_gt_cam_no_factor_input_from_canonical_3d_revolute_input_centering_test_no_2d_canon_seed4/FIT3D-GT-CAM_NO_FACTOR-ALL_TEST.pkl\n",
      "/home/hrai/codes/MotionBERT/saved_results/MB_train_h36m_gt_cam_no_factor_input_from_canonical_3d_revolute_input_centering_test_no_2d_canon_seed4/H36M-GT-CAM_NO_FACTOR.pkl\n"
     ]
    },
    {
     "name": "stderr",
     "output_type": "stream",
     "text": [
      " 25%|██▍       | 36/146 [00:04<00:15,  7.15it/s]"
     ]
    },
    {
     "name": "stdout",
     "output_type": "stream",
     "text": [
      "/home/hrai/codes/MotionBERT/saved_results/MB_train_h36m_gt_cam_no_factor_input_from_canonical_3d_revolute_input_centering_test_no_2d_canon_seed4/3DHP-GT-CAM_NO_FACTOR-TEST_TS1_6_UNIV.pkl\n",
      "/home/hrai/codes/MotionBERT/saved_results/MB_train_h36m_gt_cam_no_factor_input_from_canonical_3d_revolute_input_centering_test_no_2d_canon/3DHP-GT-CAM_NO_FACTOR-TEST_ALL_TRAIN.pkl\n",
      "/home/hrai/codes/MotionBERT/saved_results/MB_train_h36m_gt_cam_no_factor_input_from_canonical_3d_revolute_input_centering_test_no_2d_canon/3DHP-GT-CAM_NO_FACTOR-TEST_TS1_6.pkl\n",
      "/home/hrai/codes/MotionBERT/saved_results/MB_train_h36m_gt_cam_no_factor_input_from_canonical_3d_revolute_input_centering_test_no_2d_canon/FIT3D-GT-CAM_NO_FACTOR-ALL_TEST.pkl\n",
      "/home/hrai/codes/MotionBERT/saved_results/MB_train_h36m_gt_cam_no_factor_input_from_canonical_3d_revolute_input_centering_test_no_2d_canon/H36M-GT-CAM_NO_FACTOR.pkl\n"
     ]
    },
    {
     "name": "stderr",
     "output_type": "stream",
     "text": [
      " 41%|████      | 60/146 [00:06<00:08, 10.71it/s]"
     ]
    },
    {
     "name": "stdout",
     "output_type": "stream",
     "text": [
      "/home/hrai/codes/MotionBERT/saved_results/MB_train_h36m_gt_cam_no_factor_input_from_canonical_3d_revolute_input_centering_test_no_2d_canon/3DHP-GT-CAM_NO_FACTOR-TEST_TS1_6_UNIV.pkl\n",
      "/home/hrai/codes/MotionBERT/saved_results/MB_train_h36m_gt_cam_no_factor_input_from_canonical_3d_revolute_input_centering_test_no_2d_canon_with_fix_orientation_pred_seed2/3DHP-GT-CAM_NO_FACTOR-TEST_ALL_TRAIN.pkl\n",
      "/home/hrai/codes/MotionBERT/saved_results/MB_train_h36m_gt_cam_no_factor_input_from_canonical_3d_revolute_input_centering_test_no_2d_canon_with_fix_orientation_pred_seed2/3DHP-GT-CAM_NO_FACTOR-TEST_TS1_6.pkl\n",
      "/home/hrai/codes/MotionBERT/saved_results/MB_train_h36m_gt_cam_no_factor_input_from_canonical_3d_revolute_input_centering_test_no_2d_canon_with_fix_orientation_pred_seed2/FIT3D-GT-CAM_NO_FACTOR-ALL_TEST.pkl\n",
      "/home/hrai/codes/MotionBERT/saved_results/MB_train_h36m_gt_cam_no_factor_input_from_canonical_3d_revolute_input_centering_test_no_2d_canon_with_fix_orientation_pred_seed2/H36M-GT-CAM_NO_FACTOR.pkl\n"
     ]
    },
    {
     "name": "stderr",
     "output_type": "stream",
     "text": [
      " 57%|█████▋    | 83/146 [00:07<00:04, 12.67it/s]"
     ]
    },
    {
     "name": "stdout",
     "output_type": "stream",
     "text": [
      "/home/hrai/codes/MotionBERT/saved_results/MB_train_h36m_gt_cam_no_factor_input_from_canonical_3d_revolute_input_centering_test_no_2d_canon_with_fix_orientation_pred_seed2/3DHP-GT-CAM_NO_FACTOR-TEST_TS1_6_UNIV.pkl\n",
      "/home/hrai/codes/MotionBERT/saved_results/MB_train_h36m_gt_cam_no_factor_input_from_canonical_3d_revolute_input_centering_test_no_2d_canon_with_fix_orientation_pred/3DHP-GT-CAM_NO_FACTOR-TEST_ALL_TRAIN.pkl\n",
      "/home/hrai/codes/MotionBERT/saved_results/MB_train_h36m_gt_cam_no_factor_input_from_canonical_3d_revolute_input_centering_test_no_2d_canon_with_fix_orientation_pred/3DHP-GT-CAM_NO_FACTOR-TEST_TS1_6.pkl\n",
      "/home/hrai/codes/MotionBERT/saved_results/MB_train_h36m_gt_cam_no_factor_input_from_canonical_3d_revolute_input_centering_test_no_2d_canon_with_fix_orientation_pred/FIT3D-GT-CAM_NO_FACTOR-ALL_TEST.pkl\n",
      "/home/hrai/codes/MotionBERT/saved_results/MB_train_h36m_gt_cam_no_factor_input_from_canonical_3d_revolute_input_centering_test_no_2d_canon_with_fix_orientation_pred/H36M-GT-CAM_NO_FACTOR.pkl\n"
     ]
    },
    {
     "name": "stderr",
     "output_type": "stream",
     "text": [
      " 64%|██████▎   | 93/146 [00:09<00:04, 10.64it/s]"
     ]
    },
    {
     "name": "stdout",
     "output_type": "stream",
     "text": [
      "/home/hrai/codes/MotionBERT/saved_results/MB_train_h36m_gt_cam_no_factor_input_from_canonical_3d_revolute_input_centering_test_no_2d_canon_with_fix_orientation_pred/3DHP-GT-CAM_NO_FACTOR-TEST_TS1_6_UNIV.pkl\n",
      "/home/hrai/codes/MotionBERT/saved_results/MB_train_h36m_gt_cam_no_factor_input_from_canonical_3d_revolute_input_centering_test_no_2d_canon_seed2/3DHP-GT-CAM_NO_FACTOR-TEST_ALL_TRAIN.pkl\n",
      "/home/hrai/codes/MotionBERT/saved_results/MB_train_h36m_gt_cam_no_factor_input_from_canonical_3d_revolute_input_centering_test_no_2d_canon_seed2/3DHP-GT-CAM_NO_FACTOR-TEST_TS1_6.pkl\n",
      "/home/hrai/codes/MotionBERT/saved_results/MB_train_h36m_gt_cam_no_factor_input_from_canonical_3d_revolute_input_centering_test_no_2d_canon_seed2/FIT3D-GT-CAM_NO_FACTOR-ALL_TEST.pkl\n",
      "/home/hrai/codes/MotionBERT/saved_results/MB_train_h36m_gt_cam_no_factor_input_from_canonical_3d_revolute_input_centering_test_no_2d_canon_seed2/H36M-GT-CAM_NO_FACTOR.pkl\n"
     ]
    },
    {
     "name": "stderr",
     "output_type": "stream",
     "text": [
      " 73%|███████▎  | 106/146 [00:10<00:04,  9.75it/s]"
     ]
    },
    {
     "name": "stdout",
     "output_type": "stream",
     "text": [
      "/home/hrai/codes/MotionBERT/saved_results/MB_train_h36m_gt_cam_no_factor_input_from_canonical_3d_revolute_input_centering_test_no_2d_canon_seed2/3DHP-GT-CAM_NO_FACTOR-TEST_TS1_6_UNIV.pkl\n",
      "/home/hrai/codes/MotionBERT/saved_results/MB_train_h36m_gt_cam_no_factor_input_from_canonical_3d_revolute_input_centering_test_no_2d_canon_seed3/3DHP-GT-CAM_NO_FACTOR-TEST_ALL_TRAIN.pkl\n",
      "/home/hrai/codes/MotionBERT/saved_results/MB_train_h36m_gt_cam_no_factor_input_from_canonical_3d_revolute_input_centering_test_no_2d_canon_seed3/3DHP-GT-CAM_NO_FACTOR-TEST_TS1_6.pkl\n",
      "/home/hrai/codes/MotionBERT/saved_results/MB_train_h36m_gt_cam_no_factor_input_from_canonical_3d_revolute_input_centering_test_no_2d_canon_seed3/FIT3D-GT-CAM_NO_FACTOR-ALL_TEST.pkl\n",
      "/home/hrai/codes/MotionBERT/saved_results/MB_train_h36m_gt_cam_no_factor_input_from_canonical_3d_revolute_input_centering_test_no_2d_canon_seed3/H36M-GT-CAM_NO_FACTOR.pkl\n"
     ]
    },
    {
     "name": "stderr",
     "output_type": "stream",
     "text": [
      " 88%|████████▊ | 128/146 [00:12<00:01, 11.56it/s]"
     ]
    },
    {
     "name": "stdout",
     "output_type": "stream",
     "text": [
      "/home/hrai/codes/MotionBERT/saved_results/MB_train_h36m_gt_cam_no_factor_input_from_canonical_3d_revolute_input_centering_test_no_2d_canon_seed3/3DHP-GT-CAM_NO_FACTOR-TEST_TS1_6_UNIV.pkl\n",
      "/home/hrai/codes/MotionBERT/saved_results/MB_train_h36m_gt_cam_no_factor_input_from_canonical_3d_revolute_input_centering_test_no_2d_canon_with_fix_orientation_pred_seed3/3DHP-GT-CAM_NO_FACTOR-TEST_ALL_TRAIN.pkl\n",
      "/home/hrai/codes/MotionBERT/saved_results/MB_train_h36m_gt_cam_no_factor_input_from_canonical_3d_revolute_input_centering_test_no_2d_canon_with_fix_orientation_pred_seed3/3DHP-GT-CAM_NO_FACTOR-TEST_TS1_6.pkl\n",
      "/home/hrai/codes/MotionBERT/saved_results/MB_train_h36m_gt_cam_no_factor_input_from_canonical_3d_revolute_input_centering_test_no_2d_canon_with_fix_orientation_pred_seed3/FIT3D-GT-CAM_NO_FACTOR-ALL_TEST.pkl\n",
      "/home/hrai/codes/MotionBERT/saved_results/MB_train_h36m_gt_cam_no_factor_input_from_canonical_3d_revolute_input_centering_test_no_2d_canon_with_fix_orientation_pred_seed3/H36M-GT-CAM_NO_FACTOR.pkl\n"
     ]
    },
    {
     "name": "stderr",
     "output_type": "stream",
     "text": [
      " 92%|█████████▏| 135/146 [00:13<00:01,  8.98it/s]"
     ]
    },
    {
     "name": "stdout",
     "output_type": "stream",
     "text": [
      "/home/hrai/codes/MotionBERT/saved_results/MB_train_h36m_gt_cam_no_factor_input_from_canonical_3d_revolute_input_centering_test_no_2d_canon_with_fix_orientation_pred_seed3/3DHP-GT-CAM_NO_FACTOR-TEST_TS1_6_UNIV.pkl\n",
      "/home/hrai/codes/MotionBERT/saved_results/MB_train_h36m_gt_cam_no_factor_input_from_canonical_3d_revolute_input_centering_test_no_2d_canon_with_fix_orientation_pred_seed4/3DHP-GT-CAM_NO_FACTOR-TEST_ALL_TRAIN.pkl\n",
      "/home/hrai/codes/MotionBERT/saved_results/MB_train_h36m_gt_cam_no_factor_input_from_canonical_3d_revolute_input_centering_test_no_2d_canon_with_fix_orientation_pred_seed4/3DHP-GT-CAM_NO_FACTOR-TEST_TS1_6.pkl\n",
      "/home/hrai/codes/MotionBERT/saved_results/MB_train_h36m_gt_cam_no_factor_input_from_canonical_3d_revolute_input_centering_test_no_2d_canon_with_fix_orientation_pred_seed4/FIT3D-GT-CAM_NO_FACTOR-ALL_TEST.pkl\n",
      "/home/hrai/codes/MotionBERT/saved_results/MB_train_h36m_gt_cam_no_factor_input_from_canonical_3d_revolute_input_centering_test_no_2d_canon_with_fix_orientation_pred_seed4/H36M-GT-CAM_NO_FACTOR.pkl\n"
     ]
    },
    {
     "name": "stderr",
     "output_type": "stream",
     "text": [
      "100%|██████████| 146/146 [00:15<00:00,  9.41it/s]"
     ]
    },
    {
     "name": "stdout",
     "output_type": "stream",
     "text": [
      "/home/hrai/codes/MotionBERT/saved_results/MB_train_h36m_gt_cam_no_factor_input_from_canonical_3d_revolute_input_centering_test_no_2d_canon_with_fix_orientation_pred_seed4/3DHP-GT-CAM_NO_FACTOR-TEST_TS1_6_UNIV.pkl\n"
     ]
    },
    {
     "name": "stderr",
     "output_type": "stream",
     "text": [
      "\n"
     ]
    }
   ],
   "source": [
    "blacklist_checkpoint = ['MB_train_h36m_gt_cam_no_factor_input_from_canonical_3d_same_z_s15678_tr_54138969_ts_others']\n",
    "update_result_dict_pkl(blacklist_checkpoint)"
   ]
  },
  {
   "cell_type": "markdown",
   "metadata": {},
   "source": [
    "### Calculate PCK, AUC for 3DHP"
   ]
  },
  {
   "cell_type": "code",
   "execution_count": null,
   "metadata": {},
   "outputs": [],
   "source": [
    "def compute_PCK(gts, preds, scales=1000, eval_joints=None, threshold=150):\n",
    "    PCK_THRESHOLD = threshold\n",
    "    sample_num = len(gts)\n",
    "    total = 0\n",
    "    true_positive = 0\n",
    "    if eval_joints is None:\n",
    "        eval_joints = list(range(gts.shape[1]))\n",
    "\n",
    "    for n in range(sample_num):\n",
    "        gt = gts[n]\n",
    "        pred = preds[n]\n",
    "        # scale = scales[n]\n",
    "        scale = 1000\n",
    "        per_joint_error = np.take(np.sqrt(np.sum(np.power(pred - gt, 2), 1)) * scale, eval_joints, axis=0)\n",
    "        true_positive += (per_joint_error < PCK_THRESHOLD).sum()\n",
    "        total += per_joint_error.size\n",
    "\n",
    "    pck = float(true_positive / total) * 100\n",
    "    return pck\n",
    "\n",
    "\n",
    "def compute_AUC(gts, preds, scales=1000, eval_joints=None):\n",
    "    # This range of thresholds mimics 'mpii_compute_3d_pck.m', which is provided as part of the\n",
    "    # MPI-INF-3DHP test data release.\n",
    "    thresholds = np.linspace(0, 150, 31)\n",
    "    pck_list = []\n",
    "    for threshold in thresholds:\n",
    "        pck_list.append(compute_PCK(gts, preds, scales, eval_joints, threshold))\n",
    "\n",
    "    auc = np.mean(pck_list)\n",
    "\n",
    "    return auc"
   ]
  },
  {
   "cell_type": "code",
   "execution_count": 7,
   "metadata": {},
   "outputs": [
    {
     "name": "stdout",
     "output_type": "stream",
     "text": [
      "MB_train_h36m_gt_cam_no_factor_input_from_canonical_3d_revolute_input_centering\n",
      "Experiment path: /home/hrai/codes/MotionBERT/experiments/MB_train_h36m_gt_cam_no_factor_input_from_canonical_3d_revolute_input_centering.txt\n",
      "Config# path: /home/hrai/codes/MotionBERT/configs/pose3d/MB_train_h36m_gt_cam_no_factor_input_from_canonical_3d_revolute_input_centering.yaml\n"
     ]
    }
   ],
   "source": [
    "whitelist_checkpoint = [\n",
    "    'MB_train_h36m_gt_cam_no_factor_input_from_canonical_3d_revolute_input_centering',\n",
    "]\n",
    "\n",
    "# check experiment file\n",
    "check_config_experiment(whitelist_checkpoint)"
   ]
  },
  {
   "cell_type": "code",
   "execution_count": 27,
   "metadata": {},
   "outputs": [
    {
     "name": "stderr",
     "output_type": "stream",
     "text": [
      "  0%|          | 0/1 [00:00<?, ?it/s]"
     ]
    },
    {
     "name": "stdout",
     "output_type": "stream",
     "text": [
      "['/home/hrai/codes/MotionBERT/saved_results/MB_train_h36m_gt_cam_no_factor_input_from_canonical_3d_revolute_input_centering/3DHP-GT-CAM_NO_FACTOR-INPUT_FROM_CANONICAL_PCL_WITH_RZ-TEST_TS1_6_UNIV.pkl', '/home/hrai/codes/MotionBERT/saved_results/MB_train_h36m_gt_cam_no_factor_input_from_canonical_3d_revolute_input_centering/H36M-GT-CAM_NO_FACTOR-INPUT_FROM_CANONICAL_PCL_WITH_RZ.pkl', '/home/hrai/codes/MotionBERT/saved_results/MB_train_h36m_gt_cam_no_factor_input_from_canonical_3d_revolute_input_centering/3DHP-GT-CAM_NO_FACTOR-INPUT_FROM_3D_CANONICAL_REVOLUTE-TEST_TS1_6.pkl', '/home/hrai/codes/MotionBERT/saved_results/MB_train_h36m_gt_cam_no_factor_input_from_canonical_3d_revolute_input_centering/H36M-GT-CAM_NO_FACTOR-INPUT_FROM_3D_CANONICAL_REVOLUTE.pkl', '/home/hrai/codes/MotionBERT/saved_results/MB_train_h36m_gt_cam_no_factor_input_from_canonical_3d_revolute_input_centering/3DHP-GT-CAM_NO_FACTOR-INPUT_FROM_CANONICAL_PCL_WITH_RZ-TEST_TS1_6.pkl', '/home/hrai/codes/MotionBERT/saved_results/MB_train_h36m_gt_cam_no_factor_input_from_canonical_3d_revolute_input_centering/3DHP-GT-CAM_NO_FACTOR-INPUT_FROM_3D_CANONICAL_REVOLUTE-TEST_TS1_6_UNIV.pkl', '/home/hrai/codes/MotionBERT/saved_results/MB_train_h36m_gt_cam_no_factor_input_from_canonical_3d_revolute_input_centering/FIT3D-GT-CAM_NO_FACTOR-INPUT_FROM_3D_CANONICAL_REVOLUTE-ALL_TEST.pkl', '/home/hrai/codes/MotionBERT/saved_results/MB_train_h36m_gt_cam_no_factor_input_from_canonical_3d_revolute_input_centering/3DHP-GT-CAM_NO_FACTOR-INPUT_FROM_3D_CANONICAL_REVOLUTE-TEST_ALL_TRAIN.pkl', '/home/hrai/codes/MotionBERT/saved_results/MB_train_h36m_gt_cam_no_factor_input_from_canonical_3d_revolute_input_centering/3DHP-GT-CAM_NO_FACTOR-INPUT_FROM_CANONICAL_PCL_WITH_RZ-TEST_ALL_TRAIN.pkl', '/home/hrai/codes/MotionBERT/saved_results/MB_train_h36m_gt_cam_no_factor_input_from_canonical_3d_revolute_input_centering/FIT3D-GT-CAM_NO_FACTOR-INPUT_FROM_CANONICAL_PCL_WITH_RZ-ALL_TEST.pkl']\n",
      "/home/hrai/codes/MotionBERT/saved_results/MB_train_h36m_gt_cam_no_factor_input_from_canonical_3d_revolute_input_centering/3DHP-GT-CAM_NO_FACTOR-INPUT_FROM_CANONICAL_PCL_WITH_RZ-TEST_TS1_6_UNIV.pkl\n",
      "Loading dataset...\n",
      "3DHP-GT-CAM_NO_FACTOR-INPUT_FROM_CANONICAL_PCL_WITH_RZ-TEST_TS1_6_UNIV\n",
      "[overwrite: False] ==> Loading 3DHP source_list...\n",
      "[overwrite: False] ==> Loading 3DHP cam_param...\n",
      "[overwrite: False] ==> Loading 3DHP cam_3d...\n",
      "[overwrite: False] ==> Loading 3DHP cam_3d_canonical_pcl_with_Rz...\n",
      "[overwrite: False] ==> Loading 3DHP img_2d_canonical_pcl_with_Rz...\n",
      "dict_keys(['results_all', 'total_result_dict', 'e1', 'e2'])\n"
     ]
    },
    {
     "name": "stderr",
     "output_type": "stream",
     "text": [
      "100%|██████████| 6/6 [00:00<00:00, 11.81it/s]\n"
     ]
    },
    {
     "name": "stdout",
     "output_type": "stream",
     "text": [
      "PCK: 90.39000511041179\n",
      "AUC: 62.87428126700035\n",
      "/home/hrai/codes/MotionBERT/saved_results/MB_train_h36m_gt_cam_no_factor_input_from_canonical_3d_revolute_input_centering/3DHP-GT-CAM_NO_FACTOR-INPUT_FROM_3D_CANONICAL_REVOLUTE-TEST_TS1_6_UNIV.pkl\n",
      "Loading dataset...\n",
      "3DHP-GT-CAM_NO_FACTOR-INPUT_FROM_3D_CANONICAL_REVOLUTE-TEST_TS1_6_UNIV\n",
      "[overwrite: False] ==> Loading 3DHP source_list...\n",
      "[overwrite: False] ==> Loading 3DHP cam_param...\n",
      "[overwrite: False] ==> Loading 3DHP cam_3d...\n",
      "[overwrite: False] ==> Loading 3DHP cam_3d_canonical_revolute...\n",
      "[overwrite: False] ==> Loading 3DHP img_2d_canonical_revolute...\n",
      "dict_keys(['results_all', 'total_result_dict', 'e1', 'e2'])\n"
     ]
    },
    {
     "name": "stderr",
     "output_type": "stream",
     "text": [
      "100%|██████████| 6/6 [00:00<00:00, 13.68it/s]\n",
      "100%|██████████| 1/1 [00:32<00:00, 32.12s/it]"
     ]
    },
    {
     "name": "stdout",
     "output_type": "stream",
     "text": [
      "PCK: 90.39000511041179\n",
      "AUC: 62.874298619841746\n"
     ]
    },
    {
     "name": "stderr",
     "output_type": "stream",
     "text": [
      "\n"
     ]
    }
   ],
   "source": [
    "user = getpass.getuser()\n",
    "result_root = f'/home/{user}/codes/MotionBERT/saved_results'\n",
    "for checkpoint_name in tqdm(whitelist_checkpoint):\n",
    "    checkpoint_root = os.path.join(result_root, checkpoint_name)\n",
    "    subset_list = glob(checkpoint_root+'/*.pkl')\n",
    "    print(subset_list)\n",
    "    for item in subset_list:\n",
    "        if 'TS1_6_UNIV' not in item: continue\n",
    "        print(item)\n",
    "        args, opts = get_opt_args_from_model_name(checkpoint_name, verbose=False)\n",
    "        args.subset_list = [os.path.basename(item).split('.pkl')[0]]\n",
    "        _, test_loader, _, _, datareader = load_dataset(args, use_new_datareader=True)\n",
    "        subset = os.path.basename(item).split('.pkl')[0]\n",
    "        result = readpkl(item)\n",
    "        print(result.keys())\n",
    "\n",
    "        # get gts_all\n",
    "        gts_all = []\n",
    "        with torch.no_grad():\n",
    "            for batch_input, batch_gt in tqdm(test_loader): # batch_input: normalized joint_2d, batch_gt: normalized joint3d_image\n",
    "                # preprocessing\n",
    "                batch_gt_original = batch_gt.clone().detach().cuda()\n",
    "                batch_input, batch_gt, batch_gt_torso, batch_gt_limb_pos = preprocess_eval(args, batch_input, batch_gt)\n",
    "                gts_all.append(batch_gt.cpu().numpy())\n",
    "        gts_all = np.concatenate(gts_all)\n",
    "        if args.denormalize_output:\n",
    "            gts_all = datareader.denormalize(gts_all) # denormalize the ground truth 3D poses\n",
    "\n",
    "        results_all = result['results_all'].copy().reshape(-1, 17, 3)\n",
    "        gts_all = gts_all.reshape(-1, 17, 3)\n",
    "        \n",
    "        pck = compute_PCK(gts_all, results_all)\n",
    "        auc = compute_AUC(gts_all, results_all)\n",
    "        print(f'PCK: {pck}')\n",
    "        print(f'AUC: {auc}')\n",
    "        #break\n",
    "    #break"
   ]
  },
  {
   "cell_type": "code",
   "execution_count": 19,
   "metadata": {},
   "outputs": [
    {
     "data": {
      "text/plain": [
       "((21870, 17, 3), (21870, 17, 3))"
      ]
     },
     "execution_count": 19,
     "metadata": {},
     "output_type": "execute_result"
    }
   ],
   "source": [
    "results_all.shape, gts_all.shape"
   ]
  },
  {
   "cell_type": "code",
   "execution_count": 25,
   "metadata": {},
   "outputs": [],
   "source": [
    "pck = compute_PCK(gts_all, results_all)\n",
    "auc = compute_AUC(gts_all, results_all)"
   ]
  },
  {
   "cell_type": "code",
   "execution_count": 26,
   "metadata": {},
   "outputs": [
    {
     "data": {
      "text/plain": [
       "(90.39000511041179, 62.87428126700035)"
      ]
     },
     "execution_count": 26,
     "metadata": {},
     "output_type": "execute_result"
    }
   ],
   "source": [
    "pck, auc"
   ]
  },
  {
   "cell_type": "markdown",
   "metadata": {},
   "source": [
    "### Delete gts_all, inputs_all to reduce the file size"
   ]
  },
  {
   "cell_type": "code",
   "execution_count": null,
   "metadata": {},
   "outputs": [
    {
     "name": "stderr",
     "output_type": "stream",
     "text": [
      "  0%|          | 0/97 [00:00<?, ?it/s]"
     ]
    },
    {
     "name": "stderr",
     "output_type": "stream",
     "text": [
      " 31%|███       | 30/97 [10:41<22:45, 20.39s/it]"
     ]
    }
   ],
   "source": [
    "experiment_root = f'/home/{user}/codes/MotionBERT/experiments'\n",
    "for item in tqdm(glob(experiment_root+'/*.txt')):\n",
    "    checkpoint_name = os.path.basename(item).split('.txt')[0]\n",
    "    save_folder = f'/home/hrai/codes/MotionBERT/saved_results/{checkpoint_name}'\n",
    "    subset_list = []\n",
    "    with open(item, 'r') as f:\n",
    "        lines = f.readlines()\n",
    "        for line in lines:\n",
    "            subset = line.strip()\n",
    "            subset_list.append(subset)\n",
    "\n",
    "    for subset in subset_list:\n",
    "        save_path = os.path.join(save_folder, f'{subset}.pkl')\n",
    "        if not os.path.exists(save_path): continue\n",
    "        results_dict = readpkl(save_path)\n",
    "        #print(checkpoint_name, subset, results_dict.keys())\n",
    "        if 'gts_all' in results_dict.keys(): del results_dict['gts_all']\n",
    "        if 'inputs_all' in results_dict.keys(): del results_dict['inputs_all']\n",
    "        savepkl(results_dict, save_path)"
   ]
  }
 ],
 "metadata": {
  "kernelspec": {
   "display_name": "motionbert",
   "language": "python",
   "name": "python3"
  },
  "language_info": {
   "codemirror_mode": {
    "name": "ipython",
    "version": 3
   },
   "file_extension": ".py",
   "mimetype": "text/x-python",
   "name": "python",
   "nbconvert_exporter": "python",
   "pygments_lexer": "ipython3",
   "version": "3.9.18"
  }
 },
 "nbformat": 4,
 "nbformat_minor": 2
}
