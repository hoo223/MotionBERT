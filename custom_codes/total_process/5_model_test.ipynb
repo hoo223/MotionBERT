{
 "cells": [
  {
   "cell_type": "code",
   "execution_count": 1,
   "metadata": {},
   "outputs": [],
   "source": [
    "%load_ext autoreload\n",
    "%autoreload 2\n",
    "%matplotlib widget\n",
    "from common import *"
   ]
  },
  {
   "cell_type": "markdown",
   "metadata": {},
   "source": [
    "### Evaluate single experiment"
   ]
  },
  {
   "cell_type": "code",
   "execution_count": 2,
   "metadata": {},
   "outputs": [
    {
     "name": "stdout",
     "output_type": "stream",
     "text": [
      "configs/pose3d/MB_train_h36m_gt_cam_no_factor_input_from_canonical_3d_same_z_input_centering_steprot_1_tr_s1_ts_s5678.yaml\n",
      "True\n",
      "MB_train_h36m_gt_cam_no_factor_input_from_canonical_3d_same_z_input_centering_steprot_1_tr_s1_ts_s5678\n",
      "Loading checkpoint checkpoint/pose3d/MB_train_h36m_gt_cam_no_factor_input_from_canonical_3d_same_z_input_centering_steprot_1_tr_s1_ts_s5678/latest_epoch.bin\n",
      "Loading dataset...\n",
      "H36M-GT-CAM_NO_FACTOR-INPUT_FROM_3D_CANONICAL_SAME_Z-STEP_ROT_1-TR_S1_TS_S5678\n",
      "[overwrite: False] ==> Loading H36M source_list...\n",
      "[overwrite: False] ==> Loading H36M cam_param...\n",
      "[overwrite: False] ==> Loading H36M cam_3d_steprot_1.0...\n",
      "[overwrite: False] ==> Loading H36M img_2d_canonical_same_z_steprot_1.0...\n"
     ]
    },
    {
     "ename": "KeyboardInterrupt",
     "evalue": "",
     "output_type": "error",
     "traceback": [
      "\u001b[0;31m---------------------------------------------------------------------------\u001b[0m",
      "\u001b[0;31mKeyboardInterrupt\u001b[0m                         Traceback (most recent call last)",
      "Cell \u001b[0;32mIn[2], line 7\u001b[0m\n\u001b[1;32m      3\u001b[0m model_pos, chk_filename, checkpoint \u001b[38;5;241m=\u001b[39m load_model(opts, args)\n\u001b[1;32m      5\u001b[0m \u001b[38;5;66;03m# subset = 'H36M-GT-CAM_NO_FACTOR-INPUT_FROM_3D_CANONICAL_SAME_Z-TR_S1_TS_S5678'\u001b[39;00m\n\u001b[1;32m      6\u001b[0m \u001b[38;5;66;03m# args.subset_list = [subset]\u001b[39;00m\n\u001b[0;32m----> 7\u001b[0m train_loader, test_loader, _, _, datareader \u001b[38;5;241m=\u001b[39m \u001b[43mload_dataset\u001b[49m\u001b[43m(\u001b[49m\u001b[43margs\u001b[49m\u001b[43m,\u001b[49m\u001b[43m \u001b[49m\u001b[43muse_new_datareader\u001b[49m\u001b[38;5;241;43m=\u001b[39;49m\u001b[38;5;28;43;01mTrue\u001b[39;49;00m\u001b[43m)\u001b[49m\n\u001b[1;32m      9\u001b[0m \u001b[38;5;66;03m# if '3DHP' in subset:\u001b[39;00m\n\u001b[1;32m     10\u001b[0m \u001b[38;5;66;03m#     args.eval_part = 'whole_without_nose'\u001b[39;00m\n\u001b[1;32m     11\u001b[0m \u001b[38;5;66;03m#     args.part_list = ['whole_without_nose']\u001b[39;00m\n",
      "File \u001b[0;32m~/codes/MotionBERT/lib/model/load_dataset.py:46\u001b[0m, in \u001b[0;36mload_dataset\u001b[0;34m(args, use_new_datareader)\u001b[0m\n\u001b[1;32m     44\u001b[0m \u001b[38;5;28mprint\u001b[39m(subset)\n\u001b[1;32m     45\u001b[0m \u001b[38;5;28;01mif\u001b[39;00m use_new_datareader:\n\u001b[0;32m---> 46\u001b[0m     datareader \u001b[38;5;241m=\u001b[39m \u001b[43mDataReaderTotal\u001b[49m\u001b[43m(\u001b[49m\u001b[43mn_frames\u001b[49m\u001b[38;5;241;43m=\u001b[39;49m\u001b[43margs\u001b[49m\u001b[38;5;241;43m.\u001b[39;49m\u001b[43mclip_len\u001b[49m\u001b[43m,\u001b[49m\u001b[43m \u001b[49m\u001b[43msample_stride\u001b[49m\u001b[38;5;241;43m=\u001b[39;49m\u001b[43margs\u001b[49m\u001b[38;5;241;43m.\u001b[39;49m\u001b[43msample_stride\u001b[49m\u001b[43m,\u001b[49m\u001b[43m \u001b[49m\u001b[43mdata_stride_train\u001b[49m\u001b[38;5;241;43m=\u001b[39;49m\u001b[43margs\u001b[49m\u001b[38;5;241;43m.\u001b[39;49m\u001b[43mdata_stride\u001b[49m\u001b[43m,\u001b[49m\u001b[43m \u001b[49m\u001b[43mdata_stride_test\u001b[49m\u001b[38;5;241;43m=\u001b[39;49m\u001b[43margs\u001b[49m\u001b[38;5;241;43m.\u001b[39;49m\u001b[43mclip_len\u001b[49m\u001b[43m,\u001b[49m\u001b[43m \u001b[49m\u001b[43msubset\u001b[49m\u001b[38;5;241;43m=\u001b[39;49m\u001b[43msubset\u001b[49m\u001b[43m,\u001b[49m\u001b[43m \u001b[49m\u001b[43mstep_rot\u001b[49m\u001b[38;5;241;43m=\u001b[39;49m\u001b[43margs\u001b[49m\u001b[38;5;241;43m.\u001b[39;49m\u001b[43mstep_rot\u001b[49m\u001b[43m)\u001b[49m\n\u001b[1;32m     47\u001b[0m \u001b[38;5;28;01melse\u001b[39;00m:\n\u001b[1;32m     48\u001b[0m     \u001b[38;5;28;01mif\u001b[39;00m \u001b[38;5;124m'\u001b[39m\u001b[38;5;124mH36M\u001b[39m\u001b[38;5;124m'\u001b[39m \u001b[38;5;129;01min\u001b[39;00m subset: \n",
      "File \u001b[0;32m~/codes/MotionBERT/lib/data/datareader_total.py:60\u001b[0m, in \u001b[0;36mDataReaderTotal.__init__\u001b[0;34m(self, n_frames, sample_stride, data_stride_train, data_stride_test, read_confidence, yaml_root, subset, step_rot, overwrite_list, default_data_type_lsit, verbose)\u001b[0m\n\u001b[1;32m     57\u001b[0m \u001b[38;5;28;01massert\u001b[39;00m \u001b[38;5;28mself\u001b[39m\u001b[38;5;241m.\u001b[39minput_mode \u001b[38;5;129;01min\u001b[39;00m \u001b[38;5;28mself\u001b[39m\u001b[38;5;241m.\u001b[39mdata_type_list, \u001b[38;5;124mf\u001b[39m\u001b[38;5;124m'\u001b[39m\u001b[38;5;132;01m{\u001b[39;00m\u001b[38;5;28mself\u001b[39m\u001b[38;5;241m.\u001b[39minput_mode\u001b[38;5;132;01m}\u001b[39;00m\u001b[38;5;124m should be in data_type_list \u001b[39m\u001b[38;5;132;01m{\u001b[39;00m\u001b[38;5;28mself\u001b[39m\u001b[38;5;241m.\u001b[39mdata_type_list\u001b[38;5;132;01m}\u001b[39;00m\u001b[38;5;124m'\u001b[39m\n\u001b[1;32m     58\u001b[0m \u001b[38;5;28;01massert\u001b[39;00m \u001b[38;5;28mself\u001b[39m\u001b[38;5;241m.\u001b[39mgt_mode \u001b[38;5;129;01min\u001b[39;00m \u001b[38;5;28mself\u001b[39m\u001b[38;5;241m.\u001b[39mdata_type_list, \u001b[38;5;124mf\u001b[39m\u001b[38;5;124m'\u001b[39m\u001b[38;5;132;01m{\u001b[39;00m\u001b[38;5;28mself\u001b[39m\u001b[38;5;241m.\u001b[39mgt_mode\u001b[38;5;132;01m}\u001b[39;00m\u001b[38;5;124m should be in data_type_list \u001b[39m\u001b[38;5;132;01m{\u001b[39;00m\u001b[38;5;28mself\u001b[39m\u001b[38;5;241m.\u001b[39mdata_type_list\u001b[38;5;132;01m}\u001b[39;00m\u001b[38;5;124m'\u001b[39m\n\u001b[0;32m---> 60\u001b[0m \u001b[38;5;28mself\u001b[39m\u001b[38;5;241m.\u001b[39mdt_dataset \u001b[38;5;241m=\u001b[39m \u001b[38;5;28;43mself\u001b[39;49m\u001b[38;5;241;43m.\u001b[39;49m\u001b[43mgenerate_total_dataset\u001b[49m\u001b[43m(\u001b[49m\u001b[43mverbose\u001b[49m\u001b[43m)\u001b[49m\n",
      "File \u001b[0;32m~/codes/MotionBERT/lib/data/datareader_total.py:109\u001b[0m, in \u001b[0;36mDataReaderTotal.generate_total_dataset\u001b[0;34m(self, verbose)\u001b[0m\n\u001b[1;32m    107\u001b[0m         dt_dataset[train_type][data_type] \u001b[38;5;241m+\u001b[39m\u001b[38;5;241m=\u001b[39m \u001b[38;5;28mlist\u001b[39m(data[subject][action][cam_id])\n\u001b[1;32m    108\u001b[0m \u001b[38;5;28;01mfor\u001b[39;00m train_type \u001b[38;5;129;01min\u001b[39;00m [\u001b[38;5;124m'\u001b[39m\u001b[38;5;124mtrain\u001b[39m\u001b[38;5;124m'\u001b[39m, \u001b[38;5;124m'\u001b[39m\u001b[38;5;124mtest\u001b[39m\u001b[38;5;124m'\u001b[39m]:\n\u001b[0;32m--> 109\u001b[0m     dt_dataset[train_type][data_type] \u001b[38;5;241m=\u001b[39m \u001b[43mnp\u001b[49m\u001b[38;5;241;43m.\u001b[39;49m\u001b[43marray\u001b[49m\u001b[43m(\u001b[49m\u001b[43mdt_dataset\u001b[49m\u001b[43m[\u001b[49m\u001b[43mtrain_type\u001b[49m\u001b[43m]\u001b[49m\u001b[43m[\u001b[49m\u001b[43mdata_type\u001b[49m\u001b[43m]\u001b[49m\u001b[43m)\u001b[49m\n\u001b[1;32m    110\u001b[0m \u001b[38;5;28;01mif\u001b[39;00m \u001b[38;5;28mlen\u001b[39m(\u001b[38;5;28mself\u001b[39m\u001b[38;5;241m.\u001b[39mtrain_subject) \u001b[38;5;241m==\u001b[39m \u001b[38;5;241m0\u001b[39m:\n\u001b[1;32m    111\u001b[0m     dt_dataset[\u001b[38;5;124m'\u001b[39m\u001b[38;5;124mtrain\u001b[39m\u001b[38;5;124m'\u001b[39m][data_type] \u001b[38;5;241m=\u001b[39m dt_dataset[\u001b[38;5;124m'\u001b[39m\u001b[38;5;124mtest\u001b[39m\u001b[38;5;124m'\u001b[39m][data_type][:\u001b[38;5;28mself\u001b[39m\u001b[38;5;241m.\u001b[39mdata_stride_test]\u001b[38;5;241m.\u001b[39mcopy()\n",
      "\u001b[0;31mKeyboardInterrupt\u001b[0m: "
     ]
    }
   ],
   "source": [
    "checkpoint = 'MB_train_h36m_gt_cam_no_factor_input_from_canonical_3d_same_z_input_centering_steprot_1_tr_s1_ts_s5678'\n",
    "args, opts = get_opt_args_from_model_name(checkpoint, mode='latest')\n",
    "model_pos, chk_filename, checkpoint = load_model(opts, args)\n",
    "\n",
    "subset = 'H36M-GT-CAM_NO_FACTOR-INPUT_FROM_3D_CANONICAL_SAME_Z-TR_S1_TS_S5678'\n",
    "# args.subset_list = [subset]\n",
    "train_loader, test_loader, _, _, datareader = load_dataset(args, use_new_datareader=True)\n",
    "\n",
    "# if '3DHP' in subset:\n",
    "#     args.eval_part = 'whole_without_nose'\n",
    "#     args.part_list = ['whole_without_nose']"
   ]
  },
  {
   "cell_type": "code",
   "execution_count": 16,
   "metadata": {},
   "outputs": [
    {
     "name": "stdout",
     "output_type": "stream",
     "text": [
      "INFO: Testing\n",
      "No epoch information in the checkpoint\n"
     ]
    },
    {
     "name": "stderr",
     "output_type": "stream",
     "text": [
      "  0%|          | 0/323 [00:00<?, ?it/s]"
     ]
    },
    {
     "name": "stderr",
     "output_type": "stream",
     "text": [
      "100%|██████████| 323/323 [01:47<00:00,  3.01it/s]\n"
     ]
    },
    {
     "name": "stdout",
     "output_type": "stream",
     "text": [
      "No eval_keypoint. Use part list\n",
      "Part: whole\n",
      "+------------+-------------------+--------------------+--------------------+--------------------+--------------------+--------------------+--------------------+-------------------+--------------------+--------------------+--------------------+--------------------+--------------------+--------------------+--------------------+--------------------+--------------------+--------------------+--------------------+--------------------+--------------------+--------------------+--------------------+--------------------+--------------------+--------------------+--------------------+--------------------+--------------------+--------------------+-------------------+--------------------+--------------------+--------------------+--------------------+--------------------+--------------------+--------------------+--------------------+--------------------+--------------------+--------------------+--------------------+\n",
      "| test_name  |     Directions    |    Directions 1    |    Directions 2    |     Discussion     |    Discussion 1    |    Discussion 2    |    Discussion 3    |       Eating      |      Eating 1      |      Eating 2      |      Greeting      |     Greeting 1     |     Greeting 2     |      Phoning       |     Phoning 1      |     Phoning 2      |       Photo        |      Photo 1       |      Photo 2       |       Posing       |      Posing 1      |      Posing 2      |     Purchases      |    Purchases 1     |      Sitting       |     Sitting 1      |     Sitting 2      |    SittingDown     |   SittingDown 1    |      Smoking       |     Smoking 1     |      Waiting       |     Waiting 1      |     Waiting 2      |     Waiting 3      |      WalkDog       |     WalkDog 1      |    WalkTogether    |   WalkTogether 1   |   WalkTogether 2   |      Walking       |     Walking 1      |     Walking 2      |\n",
      "+------------+-------------------+--------------------+--------------------+--------------------+--------------------+--------------------+--------------------+-------------------+--------------------+--------------------+--------------------+--------------------+--------------------+--------------------+--------------------+--------------------+--------------------+--------------------+--------------------+--------------------+--------------------+--------------------+--------------------+--------------------+--------------------+--------------------+--------------------+--------------------+--------------------+--------------------+-------------------+--------------------+--------------------+--------------------+--------------------+--------------------+--------------------+--------------------+--------------------+--------------------+--------------------+--------------------+--------------------+\n",
      "| P1 (whole) | 244.6644675996061 | 245.11685852178528 | 239.25362270983726 | 237.22967060960795 | 245.40144821208742 | 252.17490670489963 | 224.09127816828757 | 273.6620515718599 | 274.62077250812274 |  283.434393626335  | 266.5854102191636  | 254.7766650436837  | 242.6981500196954  | 257.18605135095584 | 266.08342845091056 | 259.81212394365184 | 292.49162713964034 | 299.37715679963304 | 308.68711637857325 |  274.416945847786  | 261.7162983208443  | 341.8296108036624  | 294.39246774481626 | 304.6829462572534  | 305.87330587213836 | 318.71919245753253 | 367.14797254780933 |  400.799026614326  | 403.7614580665618  | 262.75656410900524 | 263.3074746770965 | 261.5736052968656  | 235.96013459632766 | 235.01639563789033 | 276.70563382567883 | 305.8267891167665  | 309.5523277233172  | 233.56592278794548 | 239.1273748752884  | 261.6183457283572  | 237.67280760569298 | 232.05398502560053 | 219.4889472352607  |\n",
      "| P2 (whole) | 10.90648315319831 |  9.96219798410283  | 10.237664435185799 | 11.044780023634054 | 12.149967681059659 | 11.155712073856735 | 9.726880879676338  | 9.435674705657163 |  9.14987820133867  | 10.103170032246402 | 13.119809016462938 | 12.637369925518497 | 13.936400295498665 | 10.144443968437484 | 10.839024935699003 | 10.226328678325562 | 14.326856673121252 | 15.760551986205803 | 12.809247614684582 | 14.782409381114373 | 15.174477425931101 | 19.710106006252285 | 12.319632268638388 | 13.492561835840588 | 11.493582766947283 | 9.823213969086547  | 9.934652161087527  | 24.210240339426953 | 31.810214277317787 | 10.095929492122323 |  9.87909143330343 | 11.111913824917947 | 11.372475911708642 | 10.73025281720057  | 10.662745262739941 | 16.256993390857122 | 16.048748897234912 | 10.15406749059805  | 10.712337635251485 | 13.118987718062211 | 12.934769412992765 | 12.940625947927371 | 12.111560953442225 |\n",
      "+------------+-------------------+--------------------+--------------------+--------------------+--------------------+--------------------+--------------------+-------------------+--------------------+--------------------+--------------------+--------------------+--------------------+--------------------+--------------------+--------------------+--------------------+--------------------+--------------------+--------------------+--------------------+--------------------+--------------------+--------------------+--------------------+--------------------+--------------------+--------------------+--------------------+--------------------+-------------------+--------------------+--------------------+--------------------+--------------------+--------------------+--------------------+--------------------+--------------------+--------------------+--------------------+--------------------+--------------------+\n",
      "Protocol #1 Error (MPJPE): 274.7654123802828 mm\n",
      "Protocol #2 Error (P-MPJPE): 12.75707053218399 mm\n",
      "----------------------------------------\n"
     ]
    }
   ],
   "source": [
    "e1, e2, results_all, inputs_all, gts_all, total_result_dict = evaluate(args, model_pos, test_loader, datareader, checkpoint, only_one_batch=False)"
   ]
  },
  {
   "cell_type": "markdown",
   "metadata": {},
   "source": [
    "### Evaluate and save all experiments"
   ]
  },
  {
   "cell_type": "code",
   "execution_count": 2,
   "metadata": {},
   "outputs": [
    {
     "name": "stdout",
     "output_type": "stream",
     "text": [
      "MB_train_h36m_gt_cam_no_factor_input_from_canonical_3d_same_z_input_centering_steprot_0.5_tr_s1_ts_s5678 - 3DHP-GT-CAM_NO_FACTOR-INPUT_FROM_3D_CANONICAL_SAME_Z-TEST_ALL_TRAIN not found\n",
      "MB_train_h36m_gt_cam_no_factor_input_from_canonical_3d_same_z_input_centering_steprot_0.5_tr_s1_ts_s5678 - 3DHP-GT-CAM_NO_FACTOR-INPUT_FROM_3D_CANONICAL_SAME_Z-TEST_TS1_6 not found\n",
      "MB_train_h36m_gt_cam_no_factor_input_from_canonical_3d_same_z_input_centering_steprot_0.5_tr_s1_ts_s5678 - H36M-GT-CAM_NO_FACTOR-INPUT_FROM_3D_CANONICAL_SAME_Z not found\n",
      "MB_train_h36m_gt_cam_no_factor_input_from_canonical_3d_same_z_input_centering_steprot_0.5_tr_s1_ts_s5678 - FIT3D-GT-CAM_NO_FACTOR-INPUT_FROM_3D_CANONICAL_SAME_Z-ALL_TEST not found\n",
      "MB_train_h36m_gt_cam_no_factor_input_from_canonical_3d_same_z_input_centering_steprot_0.5_tr_s1_ts_s5678 - H36M-GT-CAM_NO_FACTOR-INPUT_FROM_3D_CANONICAL_SAME_Z-TR_S1_TS_S5678 not found\n",
      "MB_train_h36m_gt_cam_no_factor_input_from_canonical_3d_same_z_input_centering_steprot_0.5_tr_s1_ts_s5678 - 3DHP-GT-CAM_NO_FACTOR-INPUT_FROM_3D_CANONICAL_SAME_Z-STEP_ROT_0.5-TEST_ALL_TRAIN not found\n",
      "MB_train_h36m_gt_cam_no_factor_input_from_canonical_3d_same_z_input_centering_steprot_0.5_tr_s1_ts_s5678 - 3DHP-GT-CAM_NO_FACTOR-INPUT_FROM_3D_CANONICAL_SAME_Z-STEP_ROT_0.5-TEST_TS1_6 not found\n",
      "MB_train_h36m_gt_cam_no_factor_input_from_canonical_3d_same_z_input_centering_steprot_0.5_tr_s1_ts_s5678 - H36M-GT-CAM_NO_FACTOR-INPUT_FROM_3D_CANONICAL_SAME_Z-STEP_ROT_0.5 not found\n",
      "MB_train_h36m_gt_cam_no_factor_input_from_canonical_3d_same_z_input_centering_steprot_0.5_tr_s1_ts_s5678 - FIT3D-GT-CAM_NO_FACTOR-INPUT_FROM_3D_CANONICAL_SAME_Z-STEP_ROT_0.5-ALL_TEST not found\n",
      "MB_train_h36m_gt_cam_no_factor_input_from_canonical_3d_same_z_input_centering_steprot_0.5_tr_s1_ts_s5678 - H36M-GT-CAM_NO_FACTOR-INPUT_FROM_3D_CANONICAL_SAME_Z-STEP_ROT_0.5-TR_S1_TS_S5678 not found\n",
      "\n",
      "Checkpoints to evaluate:\n"
     ]
    },
    {
     "data": {
      "text/plain": [
       "['MB_train_h36m_gt_cam_no_factor_input_from_canonical_3d_same_z_input_centering_steprot_0.1_tr_s1_ts_s5678',\n",
       " 'MB_train_h36m_gt_cam_no_factor_input_from_canonical_3d_same_z_input_centering_steprot_0.5_tr_s1_ts_s5678',\n",
       " 'MB_train_h36m_gt_cam_no_factor_steprot_1_tr_s1_ts_s5678',\n",
       " 'MB_train_h36m_gt_cam_no_factor_input_from_canonical_3d_same_z_steprot_1_tr_s1_ts_s5678',\n",
       " 'MB_train_h36m_gt_cam_no_factor_with_canonical2_steprot_1_tr_s1_ts_s5678']"
      ]
     },
     "execution_count": 2,
     "metadata": {},
     "output_type": "execute_result"
    }
   ],
   "source": [
    "result_list = os.listdir('saved_results')\n",
    "whitelist_checkpoint = []\n",
    "for item in os.listdir('configs/pose3d'):\n",
    "    checkpoint = item.split('.yaml')[0]\n",
    "    if 'cam_no_factor' not in checkpoint: continue\n",
    "    if checkpoint in blacklist_checkpoint: continue\n",
    "    if checkpoint not in experiment_list:\n",
    "        whitelist_checkpoint.append(checkpoint)\n",
    "    else:\n",
    "        subset_list = []\n",
    "        with open(f'experiments/{checkpoint}.txt', 'r') as f:\n",
    "            lines = f.readlines()\n",
    "            for line in lines:\n",
    "                subset = line.split('\\n')[0]\n",
    "                subset_list.append(subset)\n",
    "        for subset in subset_list:\n",
    "            if not os.path.exists(f'saved_results/{checkpoint}/{subset}.pkl'):\n",
    "                print(f'{checkpoint} - {subset} not found')\n",
    "                if checkpoint not in whitelist_checkpoint: \n",
    "                    whitelist_checkpoint.append(checkpoint)\n",
    "                    \n",
    "print('\\nCheckpoints to evaluate:')\n",
    "whitelist_checkpoint"
   ]
  },
  {
   "cell_type": "code",
   "execution_count": 3,
   "metadata": {},
   "outputs": [
    {
     "name": "stdout",
     "output_type": "stream",
     "text": [
      "MB_train_h36m_gt_cam_no_factor_input_from_canonical_3d_same_z_input_centering_steprot_0.5_tr_s1_ts_s5678\n",
      "Loading checkpoint checkpoint/pose3d/MB_train_h36m_gt_cam_no_factor_input_from_canonical_3d_same_z_input_centering_steprot_0.5_tr_s1_ts_s5678/best_epoch.bin\n",
      "Loading dataset...\n",
      "3DHP-GT-CAM_NO_FACTOR-INPUT_FROM_3D_CANONICAL_SAME_Z-TEST_ALL_TRAIN\n",
      "[overwrite: False] ==> Loading 3DHP source_list...\n",
      "[overwrite: False] ==> Loading 3DHP cam_param...\n",
      "[overwrite: False] ==> Loading 3DHP cam_3d...\n",
      "[overwrite: False] ==> Loading 3DHP img_2d_canonical_same_z...\n",
      "[overwrite: False] ==> Loading 3DHP cam_3d_canonical_same_z...\n",
      "INFO: Testing\n",
      "No epoch information in the checkpoint\n"
     ]
    },
    {
     "name": "stderr",
     "output_type": "stream",
     "text": [
      "100%|██████████| 245/245 [01:23<00:00,  2.93it/s]\n"
     ]
    },
    {
     "name": "stdout",
     "output_type": "stream",
     "text": [
      "No eval_keypoint. Use part list\n",
      "Part: whole\n",
      "+------------+-------------------+-------------------+\n",
      "| test_name  |        Seq1       |        Seq2       |\n",
      "+------------+-------------------+-------------------+\n",
      "| P1 (whole) | 79.19301891488041 | 87.03035729574748 |\n",
      "| P2 (whole) | 59.72370711801546 | 67.75072663785659 |\n",
      "+------------+-------------------+-------------------+\n",
      "Protocol #1 Error (MPJPE): 83.11168810531395 mm\n",
      "Protocol #2 Error (P-MPJPE): 63.73721687793602 mm\n",
      "----------------------------------------\n",
      "Loading dataset...\n",
      "3DHP-GT-CAM_NO_FACTOR-INPUT_FROM_3D_CANONICAL_SAME_Z-TEST_TS1_6\n",
      "[overwrite: False] ==> Loading 3DHP source_list...\n",
      "[overwrite: False] ==> Loading 3DHP cam_param...\n",
      "[overwrite: False] ==> Loading 3DHP cam_3d...\n",
      "[overwrite: False] ==> Loading 3DHP img_2d_canonical_same_z...\n",
      "[overwrite: False] ==> Loading 3DHP cam_3d_canonical_same_z...\n",
      "INFO: Testing\n",
      "No epoch information in the checkpoint\n"
     ]
    },
    {
     "name": "stderr",
     "output_type": "stream",
     "text": [
      "100%|██████████| 6/6 [00:02<00:00,  2.20it/s]\n"
     ]
    },
    {
     "name": "stdout",
     "output_type": "stream",
     "text": [
      "No eval_keypoint. Use part list\n",
      "Part: whole\n",
      "+------------+-------------------+\n",
      "| test_name  |        None       |\n",
      "+------------+-------------------+\n",
      "| P1 (whole) | 88.86259329931846 |\n",
      "| P2 (whole) | 61.28795571139848 |\n",
      "+------------+-------------------+\n",
      "Protocol #1 Error (MPJPE): 88.86259329931846 mm\n",
      "Protocol #2 Error (P-MPJPE): 61.28795571139848 mm\n",
      "----------------------------------------\n",
      "Loading dataset...\n",
      "H36M-GT-CAM_NO_FACTOR-INPUT_FROM_3D_CANONICAL_SAME_Z\n",
      "[overwrite: False] ==> Loading H36M source_list...\n",
      "[overwrite: False] ==> Loading H36M cam_param...\n",
      "[overwrite: False] ==> Loading H36M cam_3d...\n",
      "[overwrite: False] ==> Loading H36M img_2d_canonical_same_z...\n",
      "[overwrite: False] ==> Loading H36M cam_3d_canonical_same_z...\n",
      "INFO: Testing\n",
      "No epoch information in the checkpoint\n"
     ]
    },
    {
     "name": "stderr",
     "output_type": "stream",
     "text": [
      "100%|██████████| 133/133 [00:44<00:00,  2.98it/s]\n"
     ]
    },
    {
     "name": "stdout",
     "output_type": "stream",
     "text": [
      "No eval_keypoint. Use part list\n",
      "Part: whole\n",
      "+------------+--------------------+--------------------+--------------------+-------------------+--------------------+-------------------+--------------------+--------------------+--------------------+--------------------+-------------------+--------------------+--------------------+-------------------+--------------------+--------------------+--------------------+-------------------+-------------------+-------------------+-------------------+-------------------+--------------------+-------------------+--------------------+--------------------+--------------------+--------------------+--------------------+--------------------+--------------------+--------------------+--------------------+-------------------+\n",
      "| test_name  |     Directions     |    Directions 1    |    Discussion 1    |    Discussion 2   |       Eating       |      Eating 1     |      Greeting      |     Greeting 1     |     Greeting 2     |      Phoning       |     Phoning 1     |     Phoning 2      |     Phoning 3      |       Photo       |      Photo 1       |       Posing       |      Posing 1      |     Purchases     |    Purchases 1    |      Sitting      |     Sitting 1     |    SittingDown    |   SittingDown 1    |      Smoking      |     Smoking 1      |     Smoking 2      |      Waiting       |     Waiting 1      |      WalkDog       |     WalkDog 1      |    WalkTogether    |   WalkTogether 1   |      Walking       |     Walking 1     |\n",
      "+------------+--------------------+--------------------+--------------------+-------------------+--------------------+-------------------+--------------------+--------------------+--------------------+--------------------+-------------------+--------------------+--------------------+-------------------+--------------------+--------------------+--------------------+-------------------+-------------------+-------------------+-------------------+-------------------+--------------------+-------------------+--------------------+--------------------+--------------------+--------------------+--------------------+--------------------+--------------------+--------------------+--------------------+-------------------+\n",
      "| P1 (whole) | 46.38381872707665  | 48.45144199137214  | 44.99051161118747  | 45.43115103412957 | 52.215040534625366 | 55.06654205793719 | 38.628979607687626 | 47.38919197509278  | 39.657508550721964 | 56.76547152757645  |  58.3450613424756 | 45.162997420955136 | 43.224622723650846 | 53.98460897272998 | 53.088220200533385 | 47.63036171479129  | 52.53141362370978  | 58.00076581560235 | 58.81735930320477 |  66.909259341744  | 68.05477797154164 |  76.4554182678138 | 67.60691600310494  |  46.6596163305442 | 55.03990629542649  | 42.42300731379866  | 49.79372024519852  | 48.383494693309274 | 44.62259212001958  | 43.695257176839235 | 38.940936469546045 | 38.26259750601538  | 33.52434764300145  |  34.1858598983882 |\n",
      "| P2 (whole) | 25.351578320019375 | 26.425562358628458 | 28.523647584103266 | 29.30172914664298 | 35.145908006471466 | 37.73136029001332 | 23.183779685637496 | 28.634311855639886 | 23.52281673178894  | 39.775215939683875 | 43.55445326018347 | 30.472932394647117 | 29.913984322365682 | 33.71227955885183 | 33.39545258316597  | 26.918243817216208 | 28.923782510262356 | 39.60686372656649 | 39.74296399480239 | 51.80534229879563 | 51.53347761360727 | 67.64402641070791 | 57.740203394419225 | 31.11533581906701 | 37.142622191197354 | 31.420257639353913 | 30.600191444777455 | 29.20186754551896  | 29.709698705095743 | 27.458571050803396 | 19.43385683258048  | 19.308773547969636 | 17.681656662133065 | 18.25885492504287 |\n",
      "+------------+--------------------+--------------------+--------------------+-------------------+--------------------+-------------------+--------------------+--------------------+--------------------+--------------------+-------------------+--------------------+--------------------+-------------------+--------------------+--------------------+--------------------+-------------------+-------------------+-------------------+-------------------+-------------------+--------------------+-------------------+--------------------+--------------------+--------------------+--------------------+--------------------+--------------------+--------------------+--------------------+--------------------+-------------------+\n",
      "Protocol #1 Error (MPJPE): 50.009493412098585 mm\n",
      "Protocol #2 Error (P-MPJPE): 33.05563535787531 mm\n",
      "----------------------------------------\n",
      "Loading dataset...\n",
      "FIT3D-GT-CAM_NO_FACTOR-INPUT_FROM_3D_CANONICAL_SAME_Z-ALL_TEST\n",
      "[overwrite: False] ==> Loading FIT3D source_list...\n",
      "[overwrite: False] ==> Loading FIT3D cam_param...\n",
      "[overwrite: False] ==> Loading FIT3D cam_3d...\n",
      "[overwrite: False] ==> Loading FIT3D img_2d_canonical_same_z...\n",
      "[overwrite: False] ==> Loading FIT3D cam_3d_canonical_same_z...\n",
      "INFO: Testing\n",
      "No epoch information in the checkpoint\n"
     ]
    },
    {
     "name": "stderr",
     "output_type": "stream",
     "text": [
      "100%|██████████| 411/411 [02:16<00:00,  3.01it/s]\n"
     ]
    },
    {
     "name": "stdout",
     "output_type": "stream",
     "text": [
      "No eval_keypoint. Use part list\n",
      "Part: whole\n",
      "+------------+--------------------+--------------------+--------------------+-------------------+--------------------+--------------------+--------------------+--------------------+-------------------+-----------------------+------------------------+-----------------------+---------------------+----------------------------------+------------------------+--------------------+--------------------+--------------------+---------------------------------+--------------------+-----------------------------+----------------------+--------------------+--------------------+--------------------+--------------------+-------------------+--------------------+--------------------+-------------------+-------------------+--------------------+--------------------+-------------------+--------------------+--------------------+-------------------+--------------------+--------------------+--------------------+--------------------+-------------------+--------------------+-------------------+-------------------+-------------------+-------------------+\n",
      "| test_name  |  band_pull_apart   |  barbell_dead_row  |    barbell_row     |   barbell_shrug   |      burpees       |  clean_and_press   |      deadlift      |   diamond_pushup   |     drag_curl     | dumbbell_biceps_curls | dumbbell_curl_trifecta | dumbbell_hammer_curls | dumbbell_high_pulls | dumbbell_overhead_shoulder_press | dumbbell_reverse_lunge | dumbbell_scaptions |     man_maker      |     mule_kick      | neutral_overhead_shoulder_press |    one_arm_row     | overhead_extension_thruster | overhead_trap_raises |       pushup       | side_lateral_raise |       squat        | standing_ab_twists |      w_raise      |    walk_the_box    |      warmup_1      |     warmup_10     |     warmup_11     |     warmup_12      |     warmup_13      |     warmup_14     |     warmup_15      |     warmup_16      |     warmup_17     |     warmup_18      |     warmup_19      |      warmup_2      |      warmup_3      |      warmup_4     |      warmup_5      |      warmup_6     |      warmup_7     |      warmup_8     |      warmup_9     |\n",
      "+------------+--------------------+--------------------+--------------------+-------------------+--------------------+--------------------+--------------------+--------------------+-------------------+-----------------------+------------------------+-----------------------+---------------------+----------------------------------+------------------------+--------------------+--------------------+--------------------+---------------------------------+--------------------+-----------------------------+----------------------+--------------------+--------------------+--------------------+--------------------+-------------------+--------------------+--------------------+-------------------+-------------------+--------------------+--------------------+-------------------+--------------------+--------------------+-------------------+--------------------+--------------------+--------------------+--------------------+-------------------+--------------------+-------------------+-------------------+-------------------+-------------------+\n",
      "| P1 (whole) | 92.66810938366095  | 324.27900676385326 | 243.37768270279176 | 144.5371540322846 | 353.50467697769096 | 155.95375407688894 | 243.90244950130855 | 317.01905700944815 |  239.473339906153 |   85.95221176377615   |   86.88708974664569    |   86.65899761117947   |  113.27559525228922 |        96.89491512315402         |   144.6905068591177    | 87.98141833446167  | 336.9500259584668  | 300.9657140293029  |        94.28153649862325        | 190.41119176542074 |      142.56846201091028     |  93.17868491863388   | 308.1648475564455  | 138.3185057079671  | 193.45991771526957 | 137.8949383780947  | 147.6791974347844 | 271.0004428676646  | 334.6424285095148  | 94.72349521877935 | 81.47711169805912 | 206.3654048914066  | 222.48584722450684 | 131.7679456556614 | 113.04978477295671 | 171.58352066008376 | 89.48388574130475 | 176.43141196573612 | 203.77019250578948 | 149.91295539872198 | 131.03535316073408 | 128.7871732770943 | 269.57439761326555 | 90.81868529905849 | 93.44127210187241 |  87.6784177660905 | 94.27816903761676 |\n",
      "| P2 (whole) | 50.506084948402965 | 161.8087092796067  | 124.4788116287268  | 72.80471704450224 | 213.7603594925103  | 98.16734404915837  | 121.53022928528786 | 193.01836498860547 | 125.8654967035652 |    43.6565936825572   |   44.780770822900664   |   44.611276925159736  |  63.37366365797926  |        51.45030037202883         |   121.43433715258261   | 47.37847927289989  | 198.53623333282803 | 184.90337804537296 |        50.894262183028175       | 100.4262429834398  |      89.48347218706837      |  49.31147837186425   | 202.37387442029438 | 78.56821410691225  | 114.3159420501504  | 105.18418785207069 | 82.68631816753475 | 128.87098282824402 | 201.31010984913323 | 55.09737187479818 | 45.25576060883353 | 135.66385333606996 | 117.68949536447217 | 83.53309044757806 | 73.08169642172726  | 157.2669060138724  | 52.65700177475608 | 103.25868817705492 | 122.89236241682451 | 128.29264897162682 | 106.13810384773606 | 82.88815022991372 | 184.17163847545916 | 39.83642849773765 | 55.07540670172826 | 43.68696835834683 | 56.13965527314733 |\n",
      "+------------+--------------------+--------------------+--------------------+-------------------+--------------------+--------------------+--------------------+--------------------+-------------------+-----------------------+------------------------+-----------------------+---------------------+----------------------------------+------------------------+--------------------+--------------------+--------------------+---------------------------------+--------------------+-----------------------------+----------------------+--------------------+--------------------+--------------------+--------------------+-------------------+--------------------+--------------------+-------------------+-------------------+--------------------+--------------------+-------------------+--------------------+--------------------+-------------------+--------------------+--------------------+--------------------+--------------------+-------------------+--------------------+-------------------+-------------------+-------------------+-------------------+\n",
      "Protocol #1 Error (MPJPE): 171.132699625203 mm\n",
      "Protocol #2 Error (P-MPJPE): 102.30032898885315 mm\n",
      "----------------------------------------\n",
      "Loading dataset...\n",
      "H36M-GT-CAM_NO_FACTOR-INPUT_FROM_3D_CANONICAL_SAME_Z-TR_S1_TS_S5678\n",
      "[overwrite: False] ==> Loading H36M source_list...\n",
      "[overwrite: False] ==> Loading H36M cam_param...\n",
      "[overwrite: False] ==> Loading H36M cam_3d...\n",
      "[overwrite: False] ==> Loading H36M img_2d_canonical_same_z...\n",
      "[overwrite: False] ==> Loading H36M cam_3d_canonical_same_z...\n",
      "INFO: Testing\n",
      "No epoch information in the checkpoint\n"
     ]
    },
    {
     "name": "stderr",
     "output_type": "stream",
     "text": [
      "100%|██████████| 323/323 [01:47<00:00,  3.01it/s]\n"
     ]
    },
    {
     "name": "stdout",
     "output_type": "stream",
     "text": [
      "No eval_keypoint. Use part list\n",
      "Part: whole\n",
      "+------------+--------------------+--------------------+-------------------+--------------------+--------------------+-------------------+--------------------+-------------------+-------------------+-------------------+-------------------+--------------------+--------------------+-------------------+-------------------+--------------------+--------------------+-------------------+--------------------+-------------------+--------------------+-------------------+--------------------+-------------------+--------------------+-------------------+--------------------+-------------------+-------------------+--------------------+-------------------+--------------------+--------------------+--------------------+-------------------+--------------------+--------------------+--------------------+--------------------+--------------------+--------------------+--------------------+-------------------+\n",
      "| test_name  |     Directions     |    Directions 1    |    Directions 2   |     Discussion     |    Discussion 1    |    Discussion 2   |    Discussion 3    |       Eating      |      Eating 1     |      Eating 2     |      Greeting     |     Greeting 1     |     Greeting 2     |      Phoning      |     Phoning 1     |     Phoning 2      |       Photo        |      Photo 1      |      Photo 2       |       Posing      |      Posing 1      |      Posing 2     |     Purchases      |    Purchases 1    |      Sitting       |     Sitting 1     |     Sitting 2      |    SittingDown    |   SittingDown 1   |      Smoking       |     Smoking 1     |      Waiting       |     Waiting 1      |     Waiting 2      |     Waiting 3     |      WalkDog       |     WalkDog 1      |    WalkTogether    |   WalkTogether 1   |   WalkTogether 2   |      Walking       |     Walking 1      |     Walking 2     |\n",
      "+------------+--------------------+--------------------+-------------------+--------------------+--------------------+-------------------+--------------------+-------------------+-------------------+-------------------+-------------------+--------------------+--------------------+-------------------+-------------------+--------------------+--------------------+-------------------+--------------------+-------------------+--------------------+-------------------+--------------------+-------------------+--------------------+-------------------+--------------------+-------------------+-------------------+--------------------+-------------------+--------------------+--------------------+--------------------+-------------------+--------------------+--------------------+--------------------+--------------------+--------------------+--------------------+--------------------+-------------------+\n",
      "| P1 (whole) |  43.3506444362722  |  46.6492966883006  | 44.35713208953135 | 33.97040787416908  | 38.700522784638466 | 42.33149034517539 | 50.550986582689504 | 46.79621814551873 | 50.82042752049978 | 57.36224672709732 | 38.17149027193739 | 38.619399583994856 | 51.30596173030234  | 43.55716665822876 | 48.98306026742215 | 45.97749670173162  | 50.65108777914353  | 51.93120306864005 | 55.668709106345815 | 48.37023037023086 | 45.938554102908746 | 56.74566400651141 | 44.48374499422739  | 50.29878415959117 | 60.751423106410755 |   63.38613876049  | 99.60798404961535  | 100.6802647353906 | 103.7244349293031 | 47.96534619002719  | 48.30126485776096 | 67.10197869135536  | 40.224095453791556 | 40.83344382145659  | 69.84353422784972 | 43.310585068110726 | 47.333874171305744 | 28.687870829672466 | 30.623921341056537 | 33.06774996162153  | 33.91320919701371  | 30.14068648827577  | 20.22829010785471 |\n",
      "| P2 (whole) | 23.002614984253682 | 23.662374617160612 |  23.8511314621804 | 20.067446527224668 | 22.423066228235875 | 23.64634811014511 | 25.295405583902937 | 29.54178793730714 | 32.08641340952327 | 38.02466571123791 | 22.27997859279932 | 21.60936262451121  | 30.065055869378753 | 29.89862391689254 | 31.79831128924789 | 30.541291743766926 | 31.742461745037613 | 32.58316248522542 | 35.85326763300642  | 32.24610787439709 | 30.309062277812657 | 36.64879772363315 | 27.519912803833318 | 30.88566569380968 | 43.49428125885343  | 45.14709945654419 | 59.740732140318244 | 78.80471009060155 | 76.46968519338736 | 30.706240892504624 | 32.37915431575815 | 40.863185427061346 | 25.263006682014886 | 25.807702939135424 | 39.89681484868814 | 29.01370783618347  | 31.41827440340127  | 14.291944438915083 | 15.950100937661487 | 18.813567850867216 | 18.630770272142165 | 17.382578552381297 |  13.2658840962499 |\n",
      "+------------+--------------------+--------------------+-------------------+--------------------+--------------------+-------------------+--------------------+-------------------+-------------------+-------------------+-------------------+--------------------+--------------------+-------------------+-------------------+--------------------+--------------------+-------------------+--------------------+-------------------+--------------------+-------------------+--------------------+-------------------+--------------------+-------------------+--------------------+-------------------+-------------------+--------------------+-------------------+--------------------+--------------------+--------------------+-------------------+--------------------+--------------------+--------------------+--------------------+--------------------+--------------------+--------------------+-------------------+\n",
      "Protocol #1 Error (MPJPE): 49.65855865077838 mm\n",
      "Protocol #2 Error (P-MPJPE): 31.230738569237044 mm\n",
      "----------------------------------------\n",
      "Loading dataset...\n",
      "3DHP-GT-CAM_NO_FACTOR-INPUT_FROM_3D_CANONICAL_SAME_Z-STEP_ROT_0.5-TEST_ALL_TRAIN\n",
      "data/motion3d/yaml_files/3DHP-GT-CAM_NO_FACTOR-INPUT_FROM_3D_CANONICAL_SAME_Z-STEP_ROT_0.5-TEST_ALL_TRAIN.yaml does not exist... generating yaml file\n",
      "3DHP-GT-CAM_NO_FACTOR-INPUT_FROM_3D_CANONICAL_SAME_Z-STEP_ROT_0.5-TEST_ALL_TRAIN\n",
      "[] ['S1', 'S2', 'S3', 'S4', 'S5', 'S6', 'S7', 'S8']\n",
      "3dhp GT ['cam_3d', 'joint_2d_from_canonical_3d', 'cam_3d_from_canonical_3d'] same_z joint_2d_from_canonical_3d cam_3d_from_canonical_3d\n",
      "[overwrite: False] ==> Loading 3DHP source_list...\n",
      "[overwrite: False] ==> Loading 3DHP cam_param...\n",
      "[overwrite: False] ==> Loading 3DHP cam_3d_steprot_0.5...\n",
      "[overwrite: False] ==> Loading 3DHP img_2d_canonical_same_z_steprot_0.5...\n",
      "[overwrite: False] ==> Loading 3DHP cam_3d_canonical_same_z_steprot_0.5...\n",
      "INFO: Testing\n",
      "No epoch information in the checkpoint\n"
     ]
    },
    {
     "name": "stderr",
     "output_type": "stream",
     "text": [
      "100%|██████████| 245/245 [01:21<00:00,  3.00it/s]\n"
     ]
    },
    {
     "name": "stdout",
     "output_type": "stream",
     "text": [
      "No eval_keypoint. Use part list\n",
      "Part: whole\n",
      "+------------+--------------------+--------------------+\n",
      "| test_name  |        Seq1        |        Seq2        |\n",
      "+------------+--------------------+--------------------+\n",
      "| P1 (whole) | 69.09538364858109  | 73.58224042816316  |\n",
      "| P2 (whole) | 52.939479924759574 | 57.249444448732966 |\n",
      "+------------+--------------------+--------------------+\n",
      "Protocol #1 Error (MPJPE): 71.33881203837213 mm\n",
      "Protocol #2 Error (P-MPJPE): 55.09446218674627 mm\n",
      "----------------------------------------\n",
      "Loading dataset...\n",
      "3DHP-GT-CAM_NO_FACTOR-INPUT_FROM_3D_CANONICAL_SAME_Z-STEP_ROT_0.5-TEST_TS1_6\n",
      "data/motion3d/yaml_files/3DHP-GT-CAM_NO_FACTOR-INPUT_FROM_3D_CANONICAL_SAME_Z-STEP_ROT_0.5-TEST_TS1_6.yaml does not exist... generating yaml file\n",
      "3DHP-GT-CAM_NO_FACTOR-INPUT_FROM_3D_CANONICAL_SAME_Z-STEP_ROT_0.5-TEST_TS1_6\n",
      "[] ['TS1', 'TS2', 'TS3', 'TS4', 'TS5', 'TS6']\n",
      "3dhp GT ['cam_3d', 'joint_2d_from_canonical_3d', 'cam_3d_from_canonical_3d'] same_z joint_2d_from_canonical_3d cam_3d_from_canonical_3d\n",
      "[overwrite: False] ==> Loading 3DHP source_list...\n",
      "[overwrite: False] ==> Loading 3DHP cam_param...\n",
      "[overwrite: False] ==> Loading 3DHP cam_3d_steprot_0.5...\n",
      "[overwrite: False] ==> Loading 3DHP img_2d_canonical_same_z_steprot_0.5...\n",
      "[overwrite: False] ==> Loading 3DHP cam_3d_canonical_same_z_steprot_0.5...\n",
      "INFO: Testing\n",
      "No epoch information in the checkpoint\n"
     ]
    },
    {
     "name": "stderr",
     "output_type": "stream",
     "text": [
      "100%|██████████| 6/6 [00:02<00:00,  2.18it/s]\n"
     ]
    },
    {
     "name": "stdout",
     "output_type": "stream",
     "text": [
      "No eval_keypoint. Use part list\n",
      "Part: whole\n",
      "+------------+-------------------+\n",
      "| test_name  |        None       |\n",
      "+------------+-------------------+\n",
      "| P1 (whole) |  85.7903695940137 |\n",
      "| P2 (whole) | 56.70969042980382 |\n",
      "+------------+-------------------+\n",
      "Protocol #1 Error (MPJPE): 85.7903695940137 mm\n",
      "Protocol #2 Error (P-MPJPE): 56.70969042980382 mm\n",
      "----------------------------------------\n",
      "Loading dataset...\n",
      "H36M-GT-CAM_NO_FACTOR-INPUT_FROM_3D_CANONICAL_SAME_Z-STEP_ROT_0.5\n",
      "data/motion3d/yaml_files/H36M-GT-CAM_NO_FACTOR-INPUT_FROM_3D_CANONICAL_SAME_Z-STEP_ROT_0.5.yaml does not exist... generating yaml file\n",
      "H36M-GT-CAM_NO_FACTOR-INPUT_FROM_3D_CANONICAL_SAME_Z-STEP_ROT_0.5\n",
      "['S1', 'S5', 'S6', 'S7', 'S8'] ['S9', 'S11']\n",
      "h36m GT ['cam_3d', 'joint_2d_from_canonical_3d', 'cam_3d_from_canonical_3d'] same_z joint_2d_from_canonical_3d cam_3d_from_canonical_3d\n",
      "[overwrite: False] ==> Loading H36M source_list...\n",
      "[overwrite: False] ==> Loading H36M cam_param...\n",
      "[overwrite: False] ==> Loading H36M cam_3d_steprot_0.5...\n",
      "[overwrite: False] ==> Loading H36M img_2d_canonical_same_z_steprot_0.5...\n",
      "[overwrite: False] ==> Loading H36M cam_3d_canonical_same_z_steprot_0.5...\n",
      "INFO: Testing\n",
      "No epoch information in the checkpoint\n"
     ]
    },
    {
     "name": "stderr",
     "output_type": "stream",
     "text": [
      "100%|██████████| 133/133 [00:44<00:00,  2.96it/s]\n"
     ]
    },
    {
     "name": "stdout",
     "output_type": "stream",
     "text": [
      "No eval_keypoint. Use part list\n",
      "Part: whole\n",
      "+------------+--------------------+--------------------+--------------------+--------------------+--------------------+--------------------+--------------------+-------------------+--------------------+--------------------+-------------------+--------------------+--------------------+--------------------+--------------------+--------------------+--------------------+--------------------+--------------------+--------------------+--------------------+--------------------+-------------------+--------------------+--------------------+--------------------+--------------------+--------------------+--------------------+--------------------+-------------------+--------------------+--------------------+-------------------+\n",
      "| test_name  |     Directions     |    Directions 1    |    Discussion 1    |    Discussion 2    |       Eating       |      Eating 1      |      Greeting      |     Greeting 1    |     Greeting 2     |      Phoning       |     Phoning 1     |     Phoning 2      |     Phoning 3      |       Photo        |      Photo 1       |       Posing       |      Posing 1      |     Purchases      |    Purchases 1     |      Sitting       |     Sitting 1      |    SittingDown     |   SittingDown 1   |      Smoking       |     Smoking 1      |     Smoking 2      |      Waiting       |     Waiting 1      |      WalkDog       |     WalkDog 1      |    WalkTogether   |   WalkTogether 1   |      Walking       |     Walking 1     |\n",
      "+------------+--------------------+--------------------+--------------------+--------------------+--------------------+--------------------+--------------------+-------------------+--------------------+--------------------+-------------------+--------------------+--------------------+--------------------+--------------------+--------------------+--------------------+--------------------+--------------------+--------------------+--------------------+--------------------+-------------------+--------------------+--------------------+--------------------+--------------------+--------------------+--------------------+--------------------+-------------------+--------------------+--------------------+-------------------+\n",
      "| P1 (whole) | 33.10859001452515  | 29.375151236260567 | 30.171929307343127 | 31.261839177937496 | 27.784888246379236 | 27.34001095168369  | 30.437904200085082 | 38.24698214473623 | 27.551993022187208 | 30.870624822245347 | 30.94305728586649 | 23.066037094873774 | 22.61563952750582  | 32.47866707634513  | 33.016317630491486 | 30.004274556361782 | 30.112982278373977 | 32.878432760131126 | 33.30367181837816  | 25.474570998891046 | 26.28513080133284  | 33.253860074236115 | 34.83877846976881 | 28.148471236026662 | 30.785888932765143 | 21.757664375621562 | 29.230224540860537 | 27.327107293206705 | 33.619904175419876 | 34.28003337646873  | 32.83269912194169 | 31.986816141902818 | 29.617724707345992 | 30.25349812616103 |\n",
      "| P2 (whole) | 17.052142094755027 | 15.505236827096628 | 17.964083275113676 | 18.67075611262725  | 14.739579351707356 | 14.350506123279738 | 17.50697246924234  | 23.02144754533325 | 16.86378760997353  | 17.65068561576658  | 17.87917880769652 | 12.526916066927784 | 12.790221042128293 | 18.397785466211175 | 18.69002083302121  | 16.623104041643778 | 16.215713757695646 | 19.837306368049855 | 19.581366116862235 | 13.78442729772161  | 14.504778006414735 | 21.65815580522123  | 24.44377589388104 | 16.241313914841843 | 17.229443128018207 |  12.5070254067033  | 16.53999652894531  | 15.840914098390488 | 20.753872016201775 | 21.860781171833064 | 19.12375678891479 |  19.1253281313068  | 18.620677978516852 | 18.84043033884432 |\n",
      "+------------+--------------------+--------------------+--------------------+--------------------+--------------------+--------------------+--------------------+-------------------+--------------------+--------------------+-------------------+--------------------+--------------------+--------------------+--------------------+--------------------+--------------------+--------------------+--------------------+--------------------+--------------------+--------------------+-------------------+--------------------+--------------------+--------------------+--------------------+--------------------+--------------------+--------------------+-------------------+--------------------+--------------------+-------------------+\n",
      "Protocol #1 Error (MPJPE): 30.125334280107662 mm\n",
      "Protocol #2 Error (P-MPJPE): 17.55710253032021 mm\n",
      "----------------------------------------\n",
      "Loading dataset...\n",
      "FIT3D-GT-CAM_NO_FACTOR-INPUT_FROM_3D_CANONICAL_SAME_Z-STEP_ROT_0.5-ALL_TEST\n",
      "data/motion3d/yaml_files/FIT3D-GT-CAM_NO_FACTOR-INPUT_FROM_3D_CANONICAL_SAME_Z-STEP_ROT_0.5-ALL_TEST.yaml does not exist... generating yaml file\n",
      "FIT3D-GT-CAM_NO_FACTOR-INPUT_FROM_3D_CANONICAL_SAME_Z-STEP_ROT_0.5-ALL_TEST\n",
      "[] ['s03', 's04', 's05', 's07', 's08', 's09', 's10', 's11']\n",
      "fit3d GT ['cam_3d', 'joint_2d_from_canonical_3d', 'cam_3d_from_canonical_3d'] same_z joint_2d_from_canonical_3d cam_3d_from_canonical_3d\n",
      "[overwrite: False] ==> Loading FIT3D source_list...\n",
      "[overwrite: False] ==> Loading FIT3D cam_param...\n",
      "[overwrite: False] ==> Loading FIT3D cam_3d_steprot_0.5...\n",
      "[overwrite: False] ==> Loading FIT3D img_2d_canonical_same_z_steprot_0.5...\n",
      "[overwrite: False] ==> Loading FIT3D cam_3d_canonical_same_z_steprot_0.5...\n",
      "INFO: Testing\n",
      "No epoch information in the checkpoint\n"
     ]
    },
    {
     "name": "stderr",
     "output_type": "stream",
     "text": [
      "100%|██████████| 411/411 [02:16<00:00,  3.01it/s]\n"
     ]
    },
    {
     "name": "stdout",
     "output_type": "stream",
     "text": [
      "No eval_keypoint. Use part list\n",
      "Part: whole\n",
      "+------------+--------------------+--------------------+-------------------+-------------------+--------------------+--------------------+--------------------+--------------------+--------------------+-----------------------+------------------------+-----------------------+---------------------+----------------------------------+------------------------+--------------------+--------------------+--------------------+---------------------------------+--------------------+-----------------------------+----------------------+--------------------+--------------------+--------------------+--------------------+--------------------+--------------------+-------------------+--------------------+-------------------+--------------------+--------------------+-------------------+--------------------+--------------------+--------------------+--------------------+-------------------+--------------------+--------------------+--------------------+--------------------+--------------------+-------------------+--------------------+--------------------+\n",
      "| test_name  |  band_pull_apart   |  barbell_dead_row  |    barbell_row    |   barbell_shrug   |      burpees       |  clean_and_press   |      deadlift      |   diamond_pushup   |     drag_curl      | dumbbell_biceps_curls | dumbbell_curl_trifecta | dumbbell_hammer_curls | dumbbell_high_pulls | dumbbell_overhead_shoulder_press | dumbbell_reverse_lunge | dumbbell_scaptions |     man_maker      |     mule_kick      | neutral_overhead_shoulder_press |    one_arm_row     | overhead_extension_thruster | overhead_trap_raises |       pushup       | side_lateral_raise |       squat        | standing_ab_twists |      w_raise       |    walk_the_box    |      warmup_1     |     warmup_10      |     warmup_11     |     warmup_12      |     warmup_13      |     warmup_14     |     warmup_15      |     warmup_16      |     warmup_17      |     warmup_18      |     warmup_19     |      warmup_2      |      warmup_3      |      warmup_4      |      warmup_5      |      warmup_6      |      warmup_7     |      warmup_8      |      warmup_9      |\n",
      "+------------+--------------------+--------------------+-------------------+-------------------+--------------------+--------------------+--------------------+--------------------+--------------------+-----------------------+------------------------+-----------------------+---------------------+----------------------------------+------------------------+--------------------+--------------------+--------------------+---------------------------------+--------------------+-----------------------------+----------------------+--------------------+--------------------+--------------------+--------------------+--------------------+--------------------+-------------------+--------------------+-------------------+--------------------+--------------------+-------------------+--------------------+--------------------+--------------------+--------------------+-------------------+--------------------+--------------------+--------------------+--------------------+--------------------+-------------------+--------------------+--------------------+\n",
      "| P1 (whole) | 116.67077684041473 | 335.11694092538653 | 279.2906242272759 |  160.540567488782 | 274.9371181537609  | 179.69853735775362 | 250.17426577194428 | 182.93109196634182 | 273.81478358957315 |   114.9456816655494   |   114.68750224333988   |   114.31795828764739  |  144.33686634355246 |        119.47208724251857        |   156.82985456493768   | 111.74896984736398 | 230.6853461162468  | 278.7277880572445  |        118.28150377019698       | 211.96908072684298 |      152.20479612908633     |  112.99024078839516  | 181.16059831088995 | 167.3413283995362  | 207.44763617866573 | 131.20801298602328 | 172.85641913358103 | 262.3403875412244  | 263.2672950741999 | 114.01271365272065 | 107.7838343693699 | 189.63729599687375 | 211.59841686405653 | 123.5855960424548 | 127.09791029251555 | 150.6934479490707  | 116.69637599441191 | 207.33278074286386 | 237.5974077770435 | 147.04062095121733 | 151.89649780000707 | 138.30147383642958 | 270.58648572007013 | 113.04905592422767 | 116.2468006216336 | 108.21858591411035 | 114.02001048935074 |\n",
      "| P2 (whole) | 82.79635952843438  | 181.54462931629294 | 157.5197977474874 | 99.40996024776061 | 171.40653293447974 | 116.09626429121063 | 140.33877289468242 | 122.74107915621391 | 158.67630135773098 |   77.91278762103904   |   77.67467162904767    |   77.11207161636601   |  93.39190411716453  |        80.97332467185547         |   126.88786931724201   | 77.93183442040912  | 145.67749192852094 | 178.62916342136302 |         80.4794657391402        | 125.67012034920324 |       106.242829862205      |  78.92860632439576   | 128.41672113498998 | 109.65981143248798 | 130.98365214004468 | 104.16928546101701 | 114.83384056318343 | 142.75711458254025 | 169.2161752388064 | 83.25091518334854  | 75.67376987533981 | 136.66284305061063 | 124.46210893138517 | 90.50066074225533 | 96.25883382308417  | 133.22647852020927 |  85.0616518998064  | 135.18902885804286 | 150.7120695945283 | 124.4742627580686  | 120.34262003324892 | 99.01181578584458  | 188.65826394587268 | 77.43363027984263  | 83.28438055674972 |  77.8774840294304  | 81.90917188242474  |\n",
      "+------------+--------------------+--------------------+-------------------+-------------------+--------------------+--------------------+--------------------+--------------------+--------------------+-----------------------+------------------------+-----------------------+---------------------+----------------------------------+------------------------+--------------------+--------------------+--------------------+---------------------------------+--------------------+-----------------------------+----------------------+--------------------+--------------------+--------------------+--------------------+--------------------+--------------------+-------------------+--------------------+-------------------+--------------------+--------------------+-------------------+--------------------+--------------------+--------------------+--------------------+-------------------+--------------------+--------------------+--------------------+--------------------+--------------------+-------------------+--------------------+--------------------+\n",
      "Protocol #1 Error (MPJPE): 173.73168873758942 mm\n",
      "Protocol #2 Error (P-MPJPE): 115.36315805947675 mm\n",
      "----------------------------------------\n",
      "Loading dataset...\n",
      "H36M-GT-CAM_NO_FACTOR-INPUT_FROM_3D_CANONICAL_SAME_Z-STEP_ROT_0.5-TR_S1_TS_S5678\n",
      "[overwrite: False] ==> Loading H36M source_list...\n",
      "[overwrite: False] ==> Loading H36M cam_param...\n",
      "[overwrite: False] ==> Loading H36M cam_3d_steprot_0.5...\n",
      "[overwrite: False] ==> Loading H36M img_2d_canonical_same_z_steprot_0.5...\n",
      "[overwrite: False] ==> Loading H36M cam_3d_canonical_same_z_steprot_0.5...\n",
      "INFO: Testing\n",
      "No epoch information in the checkpoint\n"
     ]
    },
    {
     "name": "stderr",
     "output_type": "stream",
     "text": [
      "100%|██████████| 323/323 [01:47<00:00,  3.01it/s]\n"
     ]
    },
    {
     "name": "stdout",
     "output_type": "stream",
     "text": [
      "No eval_keypoint. Use part list\n",
      "Part: whole\n",
      "+------------+--------------------+--------------------+--------------------+--------------------+--------------------+--------------------+--------------------+--------------------+-------------------+--------------------+--------------------+--------------------+--------------------+--------------------+--------------------+--------------------+--------------------+--------------------+--------------------+--------------------+--------------------+--------------------+--------------------+--------------------+--------------------+-------------------+--------------------+--------------------+--------------------+--------------------+--------------------+--------------------+--------------------+--------------------+--------------------+-------------------+--------------------+--------------------+--------------------+--------------------+--------------------+--------------------+--------------------+\n",
      "| test_name  |     Directions     |    Directions 1    |    Directions 2    |     Discussion     |    Discussion 1    |    Discussion 2    |    Discussion 3    |       Eating       |      Eating 1     |      Eating 2      |      Greeting      |     Greeting 1     |     Greeting 2     |      Phoning       |     Phoning 1      |     Phoning 2      |       Photo        |      Photo 1       |      Photo 2       |       Posing       |      Posing 1      |      Posing 2      |     Purchases      |    Purchases 1     |      Sitting       |     Sitting 1     |     Sitting 2      |    SittingDown     |   SittingDown 1    |      Smoking       |     Smoking 1      |      Waiting       |     Waiting 1      |     Waiting 2      |     Waiting 3      |      WalkDog      |     WalkDog 1      |    WalkTogether    |   WalkTogether 1   |   WalkTogether 2   |      Walking       |     Walking 1      |     Walking 2      |\n",
      "+------------+--------------------+--------------------+--------------------+--------------------+--------------------+--------------------+--------------------+--------------------+-------------------+--------------------+--------------------+--------------------+--------------------+--------------------+--------------------+--------------------+--------------------+--------------------+--------------------+--------------------+--------------------+--------------------+--------------------+--------------------+--------------------+-------------------+--------------------+--------------------+--------------------+--------------------+--------------------+--------------------+--------------------+--------------------+--------------------+-------------------+--------------------+--------------------+--------------------+--------------------+--------------------+--------------------+--------------------+\n",
      "| P1 (whole) | 26.784719672043266 | 25.918190083113217 | 24.92348993773316  | 24.092238273368732 | 26.566274479167415 | 24.993675021937225 | 23.27389855363281  | 20.916414748468174 | 22.83571908769208 | 33.897589967134294 | 28.644501994514247 | 27.912685242627155 | 26.43877246993116  | 23.467969368538586 | 27.549312517814684 | 17.557691505304447 | 29.92972558152107  | 32.51199369703801  | 26.462647647230664 | 30.092007953090576 | 28.969712719313584 | 46.76381124382055  | 26.218340881746666 | 29.291362510470716 | 23.050088614906983 | 21.47126265127847 | 34.322182081296575 | 39.416027562064805 | 54.815789670330645 | 23.407608132141398 | 22.830944889144345 |  31.0354945837008  | 22.378200274862852 | 22.113275910882205 | 35.21118133001902  | 29.87088820031079 | 30.998187700831807 | 23.928780928397913 | 25.386651023466452 | 30.007124780527835 | 30.499610809914092 | 26.86418303724184  | 18.30602679211824  |\n",
      "| P2 (whole) | 14.347189039973024 | 12.871859245857378 | 12.290805718155767 | 14.585238271656577 | 15.93500238263766  | 13.611277516295933 | 11.856369217566845 | 11.927958283038807 | 11.65294309305078 | 12.479220871163852 | 16.647469898876697 | 16.14142852715112  | 16.143960977598866 | 13.039066118768273 | 14.415732359340169 | 11.800319061203394 | 18.263696891652497 | 19.613070207578573 | 15.097984741173354 | 20.241455618153584 | 19.746845309777054 | 26.945150808513752 | 14.911817880040479 | 17.286058473774087 | 14.33327964560857  | 11.80138885500247 | 12.021961622490592 | 29.65436834202264  | 38.263460347986396 | 13.009192815414846 | 12.590130924346287 | 14.512081214993527 | 14.036119791279598 | 13.791908747920276 | 13.079821602336024 | 19.53311015637823 | 19.96815485798553  | 12.949445298543823 | 14.120208501184553 | 18.82890763941819  | 17.367692969566548 | 16.374290924761937 | 13.163344132901086 |\n",
      "+------------+--------------------+--------------------+--------------------+--------------------+--------------------+--------------------+--------------------+--------------------+-------------------+--------------------+--------------------+--------------------+--------------------+--------------------+--------------------+--------------------+--------------------+--------------------+--------------------+--------------------+--------------------+--------------------+--------------------+--------------------+--------------------+-------------------+--------------------+--------------------+--------------------+--------------------+--------------------+--------------------+--------------------+--------------------+--------------------+-------------------+--------------------+--------------------+--------------------+--------------------+--------------------+--------------------+--------------------+\n",
      "Protocol #1 Error (MPJPE): 27.951773351876508 mm\n",
      "Protocol #2 Error (P-MPJPE): 16.075599741933477 mm\n",
      "----------------------------------------\n"
     ]
    }
   ],
   "source": [
    "experiment_root = f'/home/{user}/codes/MotionBERT/experiments'\n",
    "for item in glob(experiment_root+'/*.txt'):\n",
    "    checkpoint = os.path.basename(item).split('.txt')[0]\n",
    "    if checkpoint in blacklist_checkpoint: continue\n",
    "    if len(whitelist_checkpoint) > 0 and checkpoint not in whitelist_checkpoint: continue\n",
    "    if 'cam_no_factor' not in checkpoint: continue\n",
    "    save_folder = f'/home/hrai/codes/MotionBERT/saved_results/{checkpoint}'\n",
    "    if not os.path.exists(save_folder): os.makedirs(save_folder)\n",
    "    \n",
    "    # load model\n",
    "    args, opts = get_opt_args_from_model_name(checkpoint, verbose=False)\n",
    "    model_pos, chk_filename, checkpoint = load_model(opts, args)\n",
    "    \n",
    "    subset_list = []\n",
    "    with open(item, 'r') as f:\n",
    "        lines = f.readlines()\n",
    "        for line in lines:\n",
    "            subset = line.strip()\n",
    "            subset_list.append(subset)\n",
    "    \n",
    "    for subset in subset_list:\n",
    "        save_path = os.path.join(save_folder, f'{subset}.pkl')\n",
    "        if os.path.exists(save_path): \n",
    "            print(f'{save_path} exists')\n",
    "            continue\n",
    "        try:\n",
    "            # load dataset\n",
    "            args.subset_list = [subset]\n",
    "            train_loader, test_loader, _, _, datareader = load_dataset(args, use_new_datareader=True)\n",
    "            # evaluation\n",
    "            e1, e2, results_all, inputs_all, gts_all, total_result_dict = evaluate(args, model_pos, test_loader, datareader, checkpoint, only_one_batch=False)\n",
    "            # save results\n",
    "            results_dict = {'results_all': results_all, 'gts_all': gts_all, 'inputs_all': inputs_all, 'total_result_dict': total_result_dict, 'e1': e1, 'e2': e2}\n",
    "            savepkl(results_dict, save_path)\n",
    "        except Exception as e:\n",
    "            print(f'Error: {e}')\n"
   ]
  },
  {
   "cell_type": "markdown",
   "metadata": {},
   "source": [
    "### Cherrypick e1, e1 -> result_dict.pkl"
   ]
  },
  {
   "cell_type": "code",
   "execution_count": 5,
   "metadata": {},
   "outputs": [
    {
     "name": "stdout",
     "output_type": "stream",
     "text": [
      "Loading result_dict.pkl\n"
     ]
    },
    {
     "name": "stderr",
     "output_type": "stream",
     "text": [
      "100%|██████████| 34/34 [00:00<00:00, 25792.43it/s]\n"
     ]
    }
   ],
   "source": [
    "blacklist_checkpoint = ['MB_train_h36m_gt_cam_no_factor_input_from_canonical_3d_same_z_s15678_tr_54138969_ts_others']\n",
    "\n",
    "if os.path.exists('result_dict.pkl'):\n",
    "    print('Loading result_dict.pkl')\n",
    "    result_dict = readpkl('result_dict.pkl')\n",
    "else:\n",
    "    result_dict = {}\n",
    "result_root = '/home/hrai/codes/MotionBERT/saved_results'\n",
    "checkpoint_list = os.listdir(result_root)\n",
    "for checkpoint in tqdm(checkpoint_list):\n",
    "    if checkpoint in blacklist_checkpoint: continue # skip\n",
    "    if checkpoint not in result_dict.keys(): result_dict[checkpoint] = {} # create new key if not exists\n",
    "    checkpoint_root = os.path.join(result_root, checkpoint)\n",
    "    subset_list = glob(checkpoint_root+'/*.pkl')\n",
    "    for item in subset_list:\n",
    "        subset = os.path.basename(item).split('.')[0]\n",
    "        if subset in result_dict[checkpoint].keys(): \n",
    "            #print(f'{subset} exists')\n",
    "            continue\n",
    "        result = readpkl(item)\n",
    "        result_dict[checkpoint][subset] = {'e1': result['e1'], 'e2': result['e2']}\n",
    "savepkl(result_dict, 'result_dict.pkl')"
   ]
  },
  {
   "cell_type": "code",
   "execution_count": null,
   "metadata": {},
   "outputs": [],
   "source": []
  }
 ],
 "metadata": {
  "kernelspec": {
   "display_name": "motionbert",
   "language": "python",
   "name": "python3"
  },
  "language_info": {
   "codemirror_mode": {
    "name": "ipython",
    "version": 3
   },
   "file_extension": ".py",
   "mimetype": "text/x-python",
   "name": "python",
   "nbconvert_exporter": "python",
   "pygments_lexer": "ipython3",
   "version": "3.9.18"
  }
 },
 "nbformat": 4,
 "nbformat_minor": 2
}
