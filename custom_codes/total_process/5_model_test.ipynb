{
 "cells": [
  {
   "cell_type": "code",
   "execution_count": 2,
   "metadata": {},
   "outputs": [],
   "source": [
    "%load_ext autoreload\n",
    "%autoreload 2\n",
    "%matplotlib widget\n",
    "from cycler import K\n",
    "from common_import import *\n",
    "\n",
    "\n",
    "def check_config_experiment(whitelist_checkpoint):\n",
    "    user = getpass.getuser()\n",
    "    motionbert_root = f'/home/{user}/codes/MotionBERT'\n",
    "    for checkpoint in whitelist_checkpoint:\n",
    "        experiment_path = f'{motionbert_root}/experiments/{checkpoint}.txt'\n",
    "        config_path = f'{motionbert_root}/configs/pose3d/{checkpoint}.yaml'\n",
    "        print(f'{checkpoint}')\n",
    "        if os.path.exists(experiment_path): print(f'Experiment path: {experiment_path}')\n",
    "        else:\n",
    "            print(f'[No experiment path] {experiment_path}')\n",
    "            with open(experiment_path, 'w') as f: pass\n",
    "        if os.path.exists(config_path): \n",
    "            print(f'Config# path: {config_path}')\n",
    "        else: \n",
    "            print(f'[No config path] {config_path}')\n",
    "            with open(config_path, 'w') as f: pass\n",
    "\n",
    "def update_result_dict_pkl(blacklist_checkpoint=[]):\n",
    "    user = getpass.getuser()\n",
    "    if os.path.exists('result_dict.pkl'):\n",
    "        print('Loading result_dict.pkl')\n",
    "        result_dict = readpkl('result_dict.pkl')\n",
    "    else:\n",
    "        result_dict = {}\n",
    "    result_root = f'/home/{user}/codes/MotionBERT/saved_results'\n",
    "    checkpoint_list = os.listdir(result_root)\n",
    "    for checkpoint in tqdm(checkpoint_list):\n",
    "        if checkpoint in blacklist_checkpoint: continue # skip\n",
    "        if checkpoint not in result_dict.keys(): result_dict[checkpoint] = {} # create new key if not exists\n",
    "        checkpoint_root = os.path.join(result_root, checkpoint)\n",
    "        subset_list = glob(checkpoint_root+'/*.pkl')\n",
    "        for item in subset_list:\n",
    "            subset = os.path.basename(item).split('.pkl')[0]\n",
    "            if subset in result_dict[checkpoint].keys():\n",
    "                #print(f'{subset} exists')\n",
    "                continue\n",
    "            print(item)\n",
    "            result = readpkl(item)\n",
    "            result_dict[checkpoint][subset] = {'e1': result['e1'], 'e2': result['e2']}\n",
    "        # remove key if not in subset_list\n",
    "        for key in list(result_dict[checkpoint].keys()):\n",
    "            if key not in [os.path.basename(item).split('.pkl')[0] for item in subset_list]:\n",
    "                del result_dict[checkpoint][key]\n",
    "\n",
    "    savepkl(result_dict, 'result_dict.pkl')"
   ]
  },
  {
   "cell_type": "markdown",
   "metadata": {},
   "source": [
    "### Evaluate single experiment"
   ]
  },
  {
   "cell_type": "code",
   "execution_count": 2,
   "metadata": {},
   "outputs": [
    {
     "name": "stdout",
     "output_type": "stream",
     "text": [
      "MB_train_h36m_gt_cam_no_factor_input_centering_seed2\n",
      "Experiment path: /home/hrai/codes/MotionBERT/experiments/MB_train_h36m_gt_cam_no_factor_input_centering_seed2.txt\n",
      "Config# path: /home/hrai/codes/MotionBERT/configs/pose3d/MB_train_h36m_gt_cam_no_factor_input_centering_seed2.yaml\n"
     ]
    }
   ],
   "source": [
    "checkpoint_name = 'MB_train_h36m_gt_cam_no_factor_input_centering_seed2'\n",
    "check_config_experiment([checkpoint_name])"
   ]
  },
  {
   "cell_type": "code",
   "execution_count": 13,
   "metadata": {},
   "outputs": [
    {
     "name": "stdout",
     "output_type": "stream",
     "text": [
      "MB_train_fit3d_gt_cam_no_factor_input_from_canonical_3d_revolute_input_centering_tr_s03\n",
      "Loading checkpoint checkpoint/pose3d/MB_train_fit3d_gt_cam_no_factor_input_from_canonical_3d_revolute_input_centering_tr_s03/best_epoch.bin\n",
      "/home/hrai/codes/MotionBERT/data/motion3d/yaml_files/FIT3D-GT-CAM_NO_FACTOR-INPUT_FROM_3D_CANONICAL_REVOLUTE-TR_S03.yaml\n",
      "Loading dataset...\n",
      "FIT3D-GT-CAM_NO_FACTOR-INPUT_FROM_3D_CANONICAL_REVOLUTE-TR_S03\n",
      "[overwrite: False] ==> Loading FIT3D source_list...\n",
      "[overwrite: False] ==> Loading FIT3D cam_param...\n",
      "[overwrite: False] ==> Loading FIT3D cam_3d...\n",
      "[overwrite: False] ==> Loading FIT3D cam_3d_canonical_revolute...\n",
      "[overwrite: False] ==> Loading FIT3D img_2d_canonical_revolute...\n",
      "INFO: Testing\n",
      "No epoch information in the checkpoint\n"
     ]
    },
    {
     "name": "stderr",
     "output_type": "stream",
     "text": [
      "100%|██████████| 149/149 [00:51<00:00,  2.87it/s]\n"
     ]
    },
    {
     "name": "stdout",
     "output_type": "stream",
     "text": [
      "No eval_keypoint. Use part list\n",
      "Part: whole\n",
      "Protocol #1 Error (MPJPE): 40.90921648677834 mm\n",
      "Protocol #2 Error (P-MPJPE): 25.34573916341777 mm\n",
      "----------------------------------------\n"
     ]
    }
   ],
   "source": [
    "# load model\n",
    "args, opts = get_opt_args_from_model_name(checkpoint_name, verbose=False)\n",
    "model_pos, chk_filename, checkpoint = load_model(opts, args)\n",
    "# load dataset\n",
    "subset = 'FIT3D-GT-CAM_NO_FACTOR-INPUT_FROM_3D_CANONICAL_REVOLUTE-TR_S03'\n",
    "subset_path = f'/home/{user}/codes/MotionBERT/data/motion3d/yaml_files/{subset}.yaml'\n",
    "print(subset_path)\n",
    "if 'PCL' in subset: args.fix_orientation_pred = True # load dataset\n",
    "args.subset_list = [subset]\n",
    "train_loader, test_loader, _, _, datareader = load_dataset(args, use_new_datareader=True)\n",
    "e1, e2, results_all, inputs_all, gts_all, total_result_dict = evaluate(args, model_pos, test_loader, datareader, checkpoint, only_one_batch=False)\n",
    "\n",
    "# save results\n",
    "save = True\n",
    "if save:\n",
    "    save_folder = f'/home/hrai/codes/MotionBERT/saved_results/{checkpoint_name}'\n",
    "    if not os.path.exists(save_folder): os.makedirs(save_folder)\n",
    "    save_path = os.path.join(save_folder, f'{subset}.pkl')\n",
    "    results_dict = {'results_all': results_all, 'total_result_dict': total_result_dict, 'e1': e1, 'e2': e2} # 'gts_all': gts_all, 'inputs_all': inputs_all, \n",
    "    savepkl(results_dict, save_path)"
   ]
  },
  {
   "cell_type": "code",
   "execution_count": 33,
   "metadata": {},
   "outputs": [
    {
     "name": "stdout",
     "output_type": "stream",
     "text": [
      "Loading result_dict.pkl\n"
     ]
    },
    {
     "name": "stderr",
     "output_type": "stream",
     "text": [
      "  0%|          | 0/88 [00:00<?, ?it/s]"
     ]
    },
    {
     "name": "stderr",
     "output_type": "stream",
     "text": [
      "100%|██████████| 88/88 [00:00<00:00, 199.06it/s]\n"
     ]
    }
   ],
   "source": [
    "update_result_dict_pkl()"
   ]
  },
  {
   "cell_type": "code",
   "execution_count": 32,
   "metadata": {},
   "outputs": [
    {
     "name": "stdout",
     "output_type": "stream",
     "text": [
      "subset not found\n"
     ]
    }
   ],
   "source": [
    "# update result_dict\n",
    "remove_subset_from_result_dict = True\n",
    "if remove_subset_from_result_dict:\n",
    "    result_dict = readpkl('result_dict.pkl')\n",
    "    try: del result_dict[checkpoint_name][subset]\n",
    "    except: print('subset not found')\n",
    "    savepkl(result_dict, 'result_dict.pkl')"
   ]
  },
  {
   "cell_type": "markdown",
   "metadata": {},
   "source": [
    "### Evaluate and save all experiments"
   ]
  },
  {
   "cell_type": "code",
   "execution_count": 7,
   "metadata": {},
   "outputs": [
    {
     "name": "stdout",
     "output_type": "stream",
     "text": [
      "[Need to be trained] MB_train_h36m_gt_cam_no_factor_input_from_canonical_3d_same_z_input_centering_steprot_1_tr_s1_ts_s5678\n",
      "[No subset fou  d] MB_train_h36m_gt_cam_no_factor_input_from_canonical_3d_revolute\n",
      "[Need to be trained] MB_train_fit3d_gt_cam_no_factor_input_from_canonical_3d_same_z_input_centering_ts_s4710\n",
      "[Need to be trained] MB_train_fit3d_gt_cam_no_factor_input_from_canonical_3d_revolute_input_centering_ts_s4710_seed3\n",
      "[Need to be trained] MB_train_h36m_gt_cam_no_factor_steprot_0.5_sinu_pitch_m15_p273_sinu_roll_m15_p273\n",
      "[Need to be trained] MB_train_h36m_gt_cam_no_factor_no_rootrel\n",
      "[Need to be trained] MB_train_h36m_gt_cam_no_factor_input_from_canonical_3d_same_z_input_centering_steprot_1_tr_s1_ts_s5678_no_rootrel\n",
      "[Need to be trained] MB_train_fit3d_gt_cam_no_factor_input_from_canonical_3d_revolute_input_centering_ts_s4710_seed1\n",
      "[Need to be trained] MB_train_h36m_gt_cam_no_factor_input_from_canonical_pcl_input_centering_seed1\n",
      "[Need to be trained] MB_train_h36m_gt_cam_no_factor_input_from_canonical_3d_same_z_input_centering_steprot_2_tr_s1_ts_s5678\n",
      "[Need to be trained] MB_train_h36m_gt_cam_no_factor_input_from_canonical_pcl_input_centering\n",
      "[Need to be trained] MB_train_h36m_gt_cam_no_factor_input_from_canonical_3d_same_z_input_centering_rand_yaw_m90_p100_rand_pitch_m90_p100_rand_roll_m30_p100_tr_s1_ts_s5678\n",
      "[Need to be trained] MB_train_h36m_gt_cam_no_factor_input_from_canonical_3d_same_z_input_centering_steprot_0.5_1_1.5+original_tr_s1_ts_s5678\n",
      "[Need to be trained] MB_train_h36m_gt_cam_no_factor_input_from_canonical_3d_fixed_dist_5_adaptive_focal_input_centering_tr_s1\n",
      "[Need to be trained] MB_train_h36m_gt_cam_no_factor_fix_orientation_gt_input_centering_tr_s1_ts_s5678\n",
      "[Need to be trained] MB_train_h36m_gt_cam_no_factor_input_from_canonical_3d_same_z_input_centering_rand_yaw_m45_p100_rand_pitch_m45_p100_rand_roll_m30_p100_tr_s1_ts_s5678\n",
      "[Need to be trained] MB_train_h36m_gt_cam_no_factor_input_from_canonical_3d_revolute_input_centering_tr_s1_ts_s5678_seed1\n",
      "[Need to be trained] MB_train_h36m_gt_cam_no_factor_input_from_canonical_3d_same_z_input_centering_steprot_0.5_tr_s1_ts_s5678\n",
      "[Need to be trained] MB_train_fit3d_gt_cam_no_factor_input_from_canonical_pcl_original_tr_s03\n",
      "[Need to be trained] MB_train_h36m_gt_cam_no_factor_with_canonical2_tr_s1\n",
      "[Need to be trained] MB_train_h36m_gt_cam_no_factor\n",
      "[Need to be trained] MB_train_fit3d_gt_cam_no_factor_ts_s4710_seed4\n",
      "[Need to be trained] MB_train_h36m_gt_cam_no_factor_input_from_canonical_3d_same_z_input_centering_steprot_3_tr_s1_ts_s5678\n",
      "[Need to be trained] MB_train_h36m_gt_cam_no_factor_steprot_1_tr_s1_ts_s5678\n",
      "[Need to be trained] MB_train_h36m_gt_cam_no_factor_input_from_canonical_3d_same_z_rand_yaw_m45_p100_rand_pitch_m45_p100_rand_roll_m30_p100\n",
      "[Need to be trained] MB_train_h36m_gt_cam_no_factor_input_from_canonical_3d_same_z_input_centering_steprot_3+original_tr_s1_ts_s5678\n",
      "[Need to be trained] MB_train_h36m_gt_cam_no_factor_steprot_1+original_tr_s1_ts_s5678\n",
      "[Need to be trained] MB_train_fit3d_gt_cam_no_factor_input_from_canonical_3d_same_z_tr_s03\n",
      "[Need to be trained] MB_train_h36m_gt_cam_no_factor_with_canonical2_norm_input_scale\n",
      "[Need to be trained] MB_train_h36m_gt_cam_no_factor_input_from_canonical_pcl_original_seed1\n",
      "[Need to be trained] MB_train_h36m_gt_cam_no_factor_input_from_canonical_3d_same_z_steprot_1_tr_s1_ts_s5678\n",
      "[Need to be trained] MB_train_fit3d_gt_cam_no_factor_input_from_canonical_3d_revolute_input_centering_ts_s4710_seed4\n",
      "[Need to be trained] MB_train_h36m_gt_cam_no_factor_input_from_canonical_3d_same_z_input_centering_steprot_1.5_tr_s1_ts_s5678\n",
      "[Need to be trained] MB_train_fit3d_gt_cam_no_factor_input_from_canonical_3d_revolute_input_centering_tr_s03_seed3\n",
      "[Need to be trained] MB_train_h36m_gt_cam_no_factor_fix_orientation_gt_tr_s1_ts_s5678\n",
      "[Need to be trained] MB_train_fit3d_gt_cam_no_factor_input_from_canonical_3d_revolute_input_centering_ts_s4710_seed2\n",
      "[Need to be trained] MB_train_fit3d_gt_cam_no_factor_ts_s4710_seed2\n",
      "[Need to be trained] MB_train_h36m_gt_cam_no_factor_tr_s1_ts_s5678_frame_81\n",
      "[Need to be trained] MB_train_fit3d_gt_cam_no_factor_input_from_canonical_3d_same_z_input_centering_tr_s03\n",
      "[Need to be trained] MB_train_h36m_gt_cam_no_factor_input_from_canonical_pcl_with_Rz_input_centering\n",
      "[Need to be trained] MB_train_h36m_gt_cam_no_factor_input_from_canonical_pcl_with_Rz_tr_s1_ts_s5678\n",
      "[Need to be trained] MB_train_fit3d_gt_cam_no_factor_input_from_canonical_pcl_original_ts_s4710_seed1\n",
      "[Need to be trained] MB_train_h36m_gt_cam_no_factor_input_from_canonical_3d_same_z_input_centering_steprot_0.5_sinu_pitch_m15_p273_sinu_roll_m15_p273_tr_s1_ts_s5678\n",
      "[Need to be trained] MB_train_h36m_gt_cam_no_factor_input_from_canonical_pcl_with_Rz_input_centering_tr_s1_ts_s5678\n",
      "[Need to be trained] MB_train_fit3d_gt_cam_no_factor_tr_s03_seed3\n",
      "[Need to be trained] MB_train_h36m_gt_cam_no_factor_sinu_roll_m15_p273_tr_s1_ts_s5678\n",
      "[Need to be trained] MB_train_h36m_gt_cam_no_factor_steprot_0.5+original_tr_s1_ts_s5678\n",
      "[Need to be trained] MB_train_h36m_gt_cam_no_factor_input_from_canonical_3d_same_z_input_centering_rand_yaw_m45_p100_rand_pitch_m45_p100_rand_roll_m30_p100\n",
      "[Need to be trained] MB_train_h36m_gt_cam_no_factor_input_from_canonical_3d_same_z_input_centering_sinu_pitch_m15_p273_sinu_roll_m15_p273_tr_s1_ts_s5678\n",
      "[Need to be trained] MB_train_h36m_gt_cam_no_factor_input_from_canonical_pcl\n",
      "[Need to be trained] MB_train_fit3d_gt_cam_no_factor_input_from_canonical_pcl_original_tr_s03_seed1\n",
      "[Need to be trained] MB_train_h36m_gt_cam_no_factor_input_from_canonical_3d_same_z_input_centering_tr_s1\n",
      "[Need to be trained] MB_train_h36m_gt_cam_no_factor_input_from_canonical_3d_revolute_no_Rz_input_centering_tr_s1_ts_s5678\n",
      "[Need to be trained] MB_train_h36m_gt_cam_no_factor_sinu_pitch_m15_p273_sinu_roll_m15_p273_tr_s1_ts_s5678\n",
      "[Need to be trained] MB_train_h36m_gt_cam_no_factor_s15678_tr_54138969_ts_others\n",
      "[Need to be trained] MB_train_h36m_gt_cam_no_factor_steprot_1.5_tr_s1_ts_s5678\n",
      "[Need to be trained] MB_train_h36m_gt_cam_no_factor_input_from_canonical_pcl_tr_s1_ts_s5678\n",
      "[Need to be trained] MB_train_h36m_gt_cam_no_factor_rand_yaw_m45_p100_rand_pitch_m45_p100_rand_roll_m30_p100_tr_s1_ts_s5678\n",
      "[Need to be trained] MB_train_h36m_gt_cam_no_factor_fix_orientation_gt\n",
      "[Need to be trained] MB_train_h36m_gt_cam_no_factor_input_from_canonical_3d_fixed_dist_5_adaptive_focal_input_centering_tr_s1_ts_s5678\n",
      "[Need to be trained] MB_train_fit3d_gt_cam_no_factor_input_from_canonical_3d_revolute_input_centering_tr_s03_seed1\n",
      "[Need to be trained] MB_train_h36m_gt_cam_no_factor_tr_s1_ts_s5678\n",
      "[Need to be trained] MB_train_h36m_gt_cam_no_factor_with_canonical2_steprot_1_tr_s1_ts_s5678\n",
      "[Need to be trained] MB_train_h36m_gt_cam_no_factor_input_from_canonical_3d_same_z_input_centering_steprot_0.5_sinu_pitch_m15_p273_sinu_roll_m15_p273\n",
      "[Need to be trained] MB_train_fit3d_gt_cam_no_factor_with_canonical2_tr_s03\n",
      "[Need to be trained] MB_train_fit3d_gt_cam_no_factor_ts_s4710_seed1\n",
      "[Need to be trained] MB_train_fit3d_gt_cam_no_factor_input_from_canonical_pcl_original_ts_s4710\n",
      "[Need to be trained] MB_train_fit3d_gt_cam_no_factor_tr_s03_seed1\n",
      "[Need to be trained] MB_train_h36m_gt_cam_no_factor_input_from_canonical_3d_same_z_steprot_2_tr_s1_ts_s5678\n",
      "[Result not found] MB_train_fit3d_gt_cam_no_factor_tr_s03_seed4 - 3DHP-GT-CAM_NO_FACTOR-TEST_ALL_TRAIN\n",
      "[Result not found] MB_train_fit3d_gt_cam_no_factor_tr_s03_seed4 - 3DHP-GT-CAM_NO_FACTOR-TEST_TS1_6\n",
      "[Result not found] MB_train_fit3d_gt_cam_no_factor_tr_s03_seed4 - 3DHP-GT-CAM_NO_FACTOR-TEST_TS1_6_UNIV\n",
      "[Result not found] MB_train_fit3d_gt_cam_no_factor_tr_s03_seed4 - H36M-GT-CAM_NO_FACTOR-TR_S1_TS_S5678\n",
      "[Result not found] MB_train_fit3d_gt_cam_no_factor_tr_s03_seed4 - H36M-GT-CAM_NO_FACTOR\n",
      "[Result not found] MB_train_fit3d_gt_cam_no_factor_tr_s03_seed4 - FIT3D-GT-CAM_NO_FACTOR-TR_S03\n",
      "[Need to be trained] MB_train_h36m_gt_cam_no_factor_sinu_pitch_m15_p273_tr_s1_ts_s5678\n",
      "[Need to be trained] MB_train_fit3d_gt_cam_no_factor_ts_s4710_seed3\n",
      "[Need to be trained] MB_train_h36m_gt_cam_no_factor_input_from_canonical_3d_fixed_dist_5_input_centering_tr_s1_ts_s5678\n",
      "[Need to be trained] MB_train_h36m_gt_cam_no_factor_input_from_canonical_3d_same_z_tr_s1\n",
      "[Need to be trained] MB_train_h36m_gt_cam_no_factor_input_from_canonical_3d_same_z_tr_s1_ts_s5678\n",
      "[Need to be trained] MB_train_h36m_gt_cam_no_factor_input_from_canonical_3d_same_z_input_centering_tr_s1_ts_s5678_frame_81\n",
      "[Need to be trained] MB_train_h36m_gt_cam_no_factor_with_canonical2\n",
      "[Need to be trained] MB_train_fit3d_gt_cam_no_factor_with_canonical2_ts_s4710\n",
      "[Need to be trained] MB_train_fit3d_gt_cam_no_factor_ts_s4710\n",
      "[Need to be trained] MB_train_h36m_gt_cam_no_factor_input_from_canonical_3d_same_z_input_centering_tr_s1_ts_s5678\n",
      "[Need to be trained] MB_train_h36m_gt_cam_no_factor_input_from_canonical_3d_same_z_steprot_0.5_sinu_pitch_m15_p273_sinu_roll_m15_p273_tr_s1_ts_s5678\n",
      "[Need to be trained] MB_train_h36m_gt_cam_no_factor_input_from_canonical_3d_same_z_input_centering_steprot_2+original_tr_s1_ts_s5678\n",
      "[Need to be trained] MB_train_h36m_gt_cam_no_factor_tr_s19_ts_s5678\n",
      "[Need to be trained] MB_train_h36m_gt_cam_no_factor_input_from_canonical_pcl_with_Rz\n",
      "[Need to be trained] MB_train_fit3d_gt_cam_no_factor_input_from_canonical_3d_revolute_input_centering_tr_s03\n",
      "[Need to be trained] MB_train_h36m_gt_cam_no_factor_fix_orientation_gt_input_centering\n",
      "[Need to be trained] MB_train_fit3d_gt_cam_no_factor_input_from_canonical_3d_revolute_input_centering_tr_s03_seed2\n",
      "[Need to be trained] MB_train_fit3d_gt_cam_no_factor_input_from_canonical_pcl_input_centering_ts_s4710\n",
      "[Need to be trained] MB_train_h36m_gt_cam_no_factor_input_from_canonical_3d_revolute_input_centering\n",
      "[Need to be trained] MB_train_h36m_gt_cam_no_factor_input_from_canonical_3d_same_z_steprot_1_sinu_pitch_m15_p273_sinu_roll_m15_p273\n",
      "[Need to be trained] MB_train_h36m_gt_cam_no_factor_input_from_canonical_3d_fixed_dist_5_adaptive_focal_input_centering\n",
      "[Need to be trained] MB_train_h36m_gt_cam_no_factor_input_from_canonical_3d_same_z_input_centering_steprot_1+original_tr_s1_ts_s5678\n",
      "[Need to be trained] MB_train_fit3d_gt_cam_no_factor_input_from_canonical_pcl_original_tr_s03_seed2\n",
      "[Need to be trained] MB_train_fit3d_gt_cam_no_factor_input_from_canonical_pcl_original_ts_s4710_seed2\n",
      "[Need to be trained] MB_train_h36m_gt_cam_no_factor_input_from_canonical_3d_same_z\n",
      "[Need to be trained] MB_train_fit3d_gt_cam_no_factor_input_from_canonical_pcl_original_ts_s4710_seed3\n",
      "[Need to be trained] MB_train_h36m_gt_cam_no_factor_input_from_canonical_3d_revolute_input_centering_tr_s1_ts_s5678\n",
      "[Need to be trained] MB_train_h36m_gt_cam_no_factor_input_from_canonical_3d_same_z_input_centering_steprot_1_sinu_pitch_m15_p273_sinu_roll_m15_p273_tr_s1_ts_s5678\n",
      "[Need to be trained] MB_train_fit3d_gt_cam_no_factor_input_from_canonical_3d_same_z_ts_s4710\n",
      "[Need to be trained] MB_train_h36m_gt_cam_no_factor_no_flip\n",
      "[Need to be trained] MB_train_h36m_gt_cam_no_factor_steprot_1.5+original_tr_s1_ts_s5678\n",
      "[Need to be trained] MB_train_h36m_gt_cam_no_factor_seed1\n",
      "[Need to be trained] MB_train_fit3d_gt_cam_no_factor_input_from_canonical_3d_revolute_input_centering_ts_s4710\n",
      "[Need to be trained] MB_train_h36m_gt_cam_no_factor_steprot_0.5_tr_s1_ts_s5678\n",
      "[Need to be trained] MB_train_h36m_gt_cam_no_factor_steprot_0.5_s1+original_tr_s19_ts_s5678\n",
      "[Need to be trained] MB_train_h36m_gt_cam_no_factor_input_from_canonical_pcl_original_tr_s1_ts_s5678\n",
      "[Need to be trained] MB_train_fit3d_gt_cam_no_factor_input_from_canonical_3d_revolute_input_centering_tr_s03_seed4\n",
      "[Need to be trained] MB_train_fit3d_gt_cam_no_factor_input_from_canonical_pcl_original_tr_s03_seed3\n",
      "[Need to be trained] MB_train_fit3d_gt_cam_no_factor_input_from_canonical_pcl_original_ts_s4710_seed4\n",
      "[Need to be trained] MB_train_h36m_gt_cam_no_factor_input_from_canonical_3d_revolute_input_centering_seed1\n",
      "[Need to be trained] MB_train_h36m_gt_cam_no_factor_steprot_0.5_sinu_pitch_m15_p273_sinu_roll_m15_p273_tr_s1_ts_s5678\n",
      "[Need to be trained] MB_train_h36m_gt_cam_no_factor_input_from_canonical_3d_fixed_dist_5_input_centering\n",
      "[Need to be trained] MB_train_h36m_gt_cam_no_factor_input_from_canonical_3d_same_z_input_centering_steprot_1_2_3+original_tr_s1_ts_s5678\n",
      "[Need to be trained] MB_train_h36m_gt_cam_no_factor_input_from_canonical_3d_fixed_dist_5_input_centering_tr_s1_ts_s5678_frame_27\n",
      "[Need to be trained] MB_train_h36m_gt_cam_no_factor_input_from_canonical_3d_fixed_dist_5_input_centering_tr_s1_ts_s5678_frame_81\n",
      "[Need to be trained] MB_train_h36m_gt_cam_no_factor_input_from_canonical_3d_same_z_input_centering_tr_s19_ts_s5678\n",
      "[Need to be trained] MB_train_h36m_gt_cam_no_factor_input_from_canonical_pcl_input_centering_tr_s1_ts_s5678_seed1\n",
      "[Need to be trained] MB_train_h36m_gt_cam_no_factor_tr_s1\n",
      "[Need to be trained] MB_train_h36m_gt_cam_no_factor_input_from_canonical_pcl_input_centering_tr_s1_ts_s5678\n",
      "[Need to be trained] MB_train_fit3d_gt_cam_no_factor_tr_s03\n",
      "[Need to be trained] MB_train_h36m_gt_cam_no_factor_input_from_canonical_3d_same_z_input_centering_steprot_1_sinu_pitch_m30_p273_sinu_roll_m30_p273_tr_s1_ts_s5678\n",
      "[Need to be trained] MB_train_h36m_gt_cam_no_factor_steprot_0.5_1_1.5+original_tr_s1_ts_s5678\n",
      "[Need to be trained] MB_train_h36m_gt_cam_no_factor_with_canonical2_tr_s1_ts_s5678\n",
      "[Need to be trained] MB_train_fit3d_gt_cam_no_factor_tr_s03_seed2\n",
      "[Need to be trained] MB_train_h36m_gt_cam_no_factor_input_from_canonical_3d_same_z_input_centering_steprot_0.5+original_tr_s1_ts_s5678\n",
      "[Need to be trained] MB_train_h36m_gt_cam_no_factor_input_from_canonical_3d_same_z_input_centering_steprot_1.5+original_tr_s1_ts_s5678\n",
      "[Need to be trained] MB_train_h36m_gt_cam_no_factor_input_from_canonical_3d_same_z_input_centering_steprot_1_sinu_pitch_m15_p273_sinu_roll_m15_p273\n",
      "\n",
      "Checkpoints to evaluate:\n"
     ]
    },
    {
     "data": {
      "text/plain": [
       "['MB_train_h36m_gt_cam_no_factor_input_from_canonical_3d_revolute',\n",
       " 'MB_train_fit3d_gt_cam_no_factor_tr_s03_seed4']"
      ]
     },
     "execution_count": 7,
     "metadata": {},
     "output_type": "execute_result"
    }
   ],
   "source": [
    "result_list = os.listdir('saved_results')\n",
    "checkpoint_list = os.listdir('checkpoint/pose3d')\n",
    "whitelist_checkpoint = []\n",
    "for item in os.listdir('configs/pose3d'):\n",
    "    checkpoint = item.split('.yaml')[0]\n",
    "    if 'cam_no_factor' not in checkpoint: continue\n",
    "    if checkpoint in blacklist_checkpoint: continue\n",
    "    if checkpoint not in checkpoint_list:\n",
    "        print(f'[Need to be trained] {checkpoint}')\n",
    "        continue\n",
    "    if checkpoint not in experiment_list:\n",
    "        whitelist_checkpoint.append(checkpoint)\n",
    "        # create empty file\n",
    "        with open(f'experiments/{checkpoint}.txt', 'w') as f:\n",
    "            pass\n",
    "    else:\n",
    "        subset_list = []\n",
    "        with open(f'experiments/{checkpoint}.txt', 'r') as f:\n",
    "            lines = f.readlines()\n",
    "            for line in lines:\n",
    "                subset = line.split('\\n')[0]\n",
    "                subset_list.append(subset)\n",
    "        if len(subset_list) == 0:\n",
    "            print(f'[No subset fou  d] {checkpoint}')\n",
    "            whitelist_checkpoint.append(checkpoint)\n",
    "        for subset in subset_list:\n",
    "            if not os.path.exists(f'saved_results/{checkpoint}/{subset}.pkl'):\n",
    "                print(f'[Result not found] {checkpoint} - {subset}')\n",
    "                if checkpoint not in whitelist_checkpoint:\n",
    "                    whitelist_checkpoint.append(checkpoint)\n",
    "\n",
    "print('\\nCheckpoints to evaluate:')\n",
    "whitelist_checkpoint"
   ]
  },
  {
   "cell_type": "code",
   "execution_count": 6,
   "metadata": {},
   "outputs": [
    {
     "name": "stdout",
     "output_type": "stream",
     "text": [
      "MB_train_h36m_gt_cam_no_factor_input_centering_seed4\n",
      "Experiment path: /home/hrai/codes/MotionBERT/experiments/MB_train_h36m_gt_cam_no_factor_input_centering_seed4.txt\n",
      "Config# path: /home/hrai/codes/MotionBERT/configs/pose3d/MB_train_h36m_gt_cam_no_factor_input_centering_seed4.yaml\n"
     ]
    }
   ],
   "source": [
    "whitelist_checkpoint = [\n",
    "    # 'MB_train_fit3d_gt_cam_no_factor_input_from_canonical_3d_revolute_input_centering_ts_s4710',\n",
    "    # 'MB_train_fit3d_gt_cam_no_factor_input_from_canonical_3d_revolute_input_centering_ts_s4710_seed1',\n",
    "    # 'MB_train_fit3d_gt_cam_no_factor_input_from_canonical_3d_revolute_input_centering_ts_s4710_seed2',\n",
    "    # 'MB_train_fit3d_gt_cam_no_factor_input_from_canonical_3d_revolute_input_centering_ts_s4710_seed3',\n",
    "    # 'MB_train_fit3d_gt_cam_no_factor_input_from_canonical_3d_revolute_input_centering_ts_s4710_seed4',\n",
    "    # 'MB_train_fit3d_gt_cam_no_factor_input_from_canonical_pcl_original_ts_s4710',\n",
    "    # 'MB_train_fit3d_gt_cam_no_factor_input_from_canonical_pcl_original_ts_s4710_seed1',\n",
    "    # 'MB_train_fit3d_gt_cam_no_factor_input_from_canonical_pcl_original_ts_s4710_seed2',\n",
    "    # 'MB_train_fit3d_gt_cam_no_factor_input_from_canonical_pcl_original_ts_s4710_seed3',\n",
    "    # 'MB_train_fit3d_gt_cam_no_factor_input_from_canonical_pcl_original_ts_s4710_seed4',\n",
    "    # 'MB_train_fit3d_gt_cam_no_factor_ts_s4710',\n",
    "    # 'MB_train_fit3d_gt_cam_no_factor_ts_s4710_seed1',\n",
    "    # 'MB_train_fit3d_gt_cam_no_factor_ts_s4710_seed2',\n",
    "    # 'MB_train_fit3d_gt_cam_no_factor_ts_s4710_seed3',\n",
    "    # 'MB_train_fit3d_gt_cam_no_factor_ts_s4710_seed4',\n",
    "    ##\n",
    "    # 'MB_train_fit3d_gt_cam_no_factor_input_from_canonical_3d_revolute_input_centering_tr_s03',\n",
    "    # 'MB_train_fit3d_gt_cam_no_factor_input_from_canonical_3d_revolute_input_centering_tr_s03_seed1',\n",
    "    # 'MB_train_fit3d_gt_cam_no_factor_input_from_canonical_3d_revolute_input_centering_tr_s03_seed2',\n",
    "    # 'MB_train_fit3d_gt_cam_no_factor_input_from_canonical_3d_revolute_input_centering_tr_s03_seed3',\n",
    "    # 'MB_train_fit3d_gt_cam_no_factor_input_from_canonical_3d_revolute_input_centering_tr_s03_seed4',\n",
    "    # 'MB_train_fit3d_gt_cam_no_factor_input_from_canonical_pcl_original_tr_s03',\n",
    "    # 'MB_train_fit3d_gt_cam_no_factor_input_from_canonical_pcl_original_tr_s03_seed1',\n",
    "    # 'MB_train_fit3d_gt_cam_no_factor_input_from_canonical_pcl_original_tr_s03_seed2',\n",
    "    # 'MB_train_fit3d_gt_cam_no_factor_input_from_canonical_pcl_original_tr_s03_seed3',\n",
    "    # 'MB_train_fit3d_gt_cam_no_factor_input_from_canonical_pcl_original_tr_s03_seed4',\n",
    "    # 'MB_train_fit3d_gt_cam_no_factor_tr_s03',\n",
    "    # 'MB_train_fit3d_gt_cam_no_factor_tr_s03_seed1',\n",
    "    # 'MB_train_fit3d_gt_cam_no_factor_tr_s03_seed2',\n",
    "    # 'MB_train_fit3d_gt_cam_no_factor_tr_s03_seed3',\n",
    "    # 'MB_train_fit3d_gt_cam_no_factor_tr_s03_seed4',\n",
    "    ##\n",
    "    # 'MB_train_3dhp_gt_cam_no_factor_input_from_canonical_3d_revolute_input_centering_tr_s1',\n",
    "    # 'MB_train_3dhp_gt_cam_no_factor_input_from_canonical_3d_revolute_input_centering_tr_s1_seed1',\n",
    "    # 'MB_train_3dhp_gt_cam_no_factor_input_from_canonical_3d_revolute_input_centering_tr_s1_seed2',\n",
    "    # 'MB_train_3dhp_gt_cam_no_factor_input_from_canonical_3d_revolute_input_centering_tr_s1_seed3',\n",
    "    # 'MB_train_3dhp_gt_cam_no_factor_input_from_canonical_3d_revolute_input_centering_tr_s1_seed4',\n",
    "    # 'MB_train_3dhp_gt_cam_no_factor_input_from_canonical_pcl_original_tr_s1',\n",
    "    # 'MB_train_3dhp_gt_cam_no_factor_input_from_canonical_pcl_original_tr_s1_seed1',\n",
    "    # 'MB_train_3dhp_gt_cam_no_factor_input_from_canonical_pcl_original_tr_s1_seed2',\n",
    "    # 'MB_train_3dhp_gt_cam_no_factor_input_from_canonical_pcl_original_tr_s1_seed3',\n",
    "    # 'MB_train_3dhp_gt_cam_no_factor_input_from_canonical_pcl_original_tr_s1_seed4',\n",
    "    # 'MB_train_3dhp_gt_cam_no_factor_tr_s1',\n",
    "    # 'MB_train_3dhp_gt_cam_no_factor_tr_s1_seed1',\n",
    "    # 'MB_train_3dhp_gt_cam_no_factor_tr_s1_seed2',\n",
    "    # 'MB_train_3dhp_gt_cam_no_factor_tr_s1_seed3',\n",
    "    # 'MB_train_3dhp_gt_cam_no_factor_tr_s1_seed4',\n",
    "    ##\n",
    "    # 'MB_train_h36m_gt_cam_no_factor_input_from_canonical_3d_revolute_no_Rz_input_centering_seed1',\n",
    "    # 'MB_train_h36m_gt_cam_no_factor_input_from_canonical_3d_revolute_no_Rz_input_centering_seed2',\n",
    "    # 'MB_train_h36m_gt_cam_no_factor_input_from_canonical_3d_revolute_no_Rz_input_centering_seed3',\n",
    "    # 'MB_train_h36m_gt_cam_no_factor_input_from_canonical_3d_revolute_no_Rz_input_centering_seed4',\n",
    "    ##\n",
    "    # 'MB_train_h36m_gt_cam_no_factor_input_from_canonical_3d_revolute_with_Kvirt',\n",
    "    # 'MB_train_h36m_gt_cam_no_factor_input_from_canonical_3d_revolute_with_Kvirt_seed1',\n",
    "    # 'MB_train_h36m_gt_cam_no_factor_input_from_canonical_3d_revolute_with_Kvirt_seed2',\n",
    "    # 'MB_train_h36m_gt_cam_no_factor_input_from_canonical_3d_revolute_with_Kvirt_seed3',\n",
    "    # 'MB_train_h36m_gt_cam_no_factor_input_from_canonical_3d_revolute_with_Kvirt_seed4',\n",
    "    ##\n",
    "    # 'MB_train_h36m_gt_cam_no_factor_input_from_canonical_pcl_with_Rz_input_centering',\n",
    "    # 'MB_train_h36m_gt_cam_no_factor_input_from_canonical_pcl_with_Rz_input_centering_seed1',\n",
    "    # 'MB_train_h36m_gt_cam_no_factor_input_from_canonical_pcl_with_Rz_input_centering_seed2',\n",
    "    # 'MB_train_h36m_gt_cam_no_factor_input_from_canonical_pcl_with_Rz_input_centering_seed3',\n",
    "    # 'MB_train_h36m_gt_cam_no_factor_input_from_canonical_pcl_with_Rz_input_centering_seed4',\n",
    "    ##\n",
    "    # 'MB_train_h36m_gt_cam_no_factor_input_centering',\n",
    "    # 'MB_train_h36m_gt_cam_no_factor_input_centering_seed1',\n",
    "    # 'MB_train_h36m_gt_cam_no_factor_input_centering_seed2',\n",
    "    # 'MB_train_h36m_gt_cam_no_factor_input_centering_seed3',\n",
    "    'MB_train_h36m_gt_cam_no_factor_input_centering_seed4',\n",
    "    ##\n",
    "    # 'MB_train_h36m_gt_cam_no_factor_input_centering_tr_s1_ts_s5678',\n",
    "    # 'MB_train_h36m_gt_cam_no_factor_input_centering_tr_s1_ts_s5678_seed1',\n",
    "    # 'MB_train_h36m_gt_cam_no_factor_input_centering_tr_s1_ts_s5678_seed2',\n",
    "    # 'MB_train_h36m_gt_cam_no_factor_input_centering_tr_s1_ts_s5678_seed3',\n",
    "    # 'MB_train_h36m_gt_cam_no_factor_input_centering_tr_s1_ts_s5678_seed4',\n",
    "    ##\n",
    "    # 'MB_train_h36m_gt_cam_no_factor_seed2',\n",
    "    # 'MB_train_h36m_gt_cam_no_factor_input_from_canonical_3d_revolute_input_centering_tr_s15_ts_s678',\n",
    "    # 'MB_train_h36m_gt_cam_no_factor_input_from_canonical_3d_revolute_input_centering_tr_s15_ts_s678_seed1',\n",
    "    # 'MB_train_h36m_gt_cam_no_factor_input_from_canonical_3d_revolute_input_centering_tr_s15_ts_s678_seed2',\n",
    "    # 'MB_train_h36m_gt_cam_no_factor_input_from_canonical_3d_revolute_input_centering_tr_s15_ts_s678_seed4',\n",
    "    # 'MB_train_h36m_gt_cam_no_factor_tr_s15_ts_s678',\n",
    "    # 'MB_train_h36m_gt_cam_no_factor_tr_s15_ts_s678_input_centering',\n",
    "    # 'MB_train_3dhp_gt_cam_no_factor_input_centering_tr_s1',\n",
    "    # 'MB_train_3dhp_gt_cam_no_factor_input_centering_tr_s1_seed1',\n",
    "    # 'MB_train_3dhp_gt_cam_no_factor_input_centering_tr_s1_seed2',\n",
    "    # 'MB_train_3dhp_gt_cam_no_factor_input_centering_tr_s1_seed3',\n",
    "    # 'MB_train_3dhp_gt_cam_no_factor_input_centering_tr_s1_seed4',\n",
    "    # 'MB_train_3dhp_gt_cam_no_factor_input_from_canonical_3d_revolute_input_centering',\n",
    "]\n",
    "\n",
    "# check experiment file\n",
    "check_config_experiment(whitelist_checkpoint)"
   ]
  },
  {
   "cell_type": "code",
   "execution_count": 7,
   "metadata": {},
   "outputs": [
    {
     "name": "stdout",
     "output_type": "stream",
     "text": [
      "MB_train_h36m_gt_cam_no_factor_input_centering_seed4\n",
      "Loading checkpoint checkpoint/pose3d_h36m/MB_train_h36m_gt_cam_no_factor_input_centering_seed4/best_epoch.bin\n",
      "Loading dataset...\n",
      "3DHP-GT-CAM_NO_FACTOR-TEST_TS1_6\n",
      "[overwrite: False] ==> Loading 3DHP source_list...\n",
      "[overwrite: False] ==> Loading 3DHP cam_param...\n",
      "[overwrite: False] ==> Loading 3DHP cam_3d...\n",
      "[overwrite: False] ==> Loading 3DHP img_2d...\n",
      "INFO: Testing\n",
      "No epoch information in the checkpoint\n"
     ]
    },
    {
     "name": "stderr",
     "output_type": "stream",
     "text": [
      "100%|██████████| 6/6 [00:03<00:00,  1.89it/s]\n"
     ]
    },
    {
     "name": "stdout",
     "output_type": "stream",
     "text": [
      "No eval_keypoint. Use part list\n",
      "Part: whole\n",
      "Protocol #1 Error (MPJPE): 104.09972946744712 mm\n",
      "Protocol #2 Error (P-MPJPE): 55.024638244573744 mm\n",
      "----------------------------------------\n",
      "Loading dataset...\n",
      "FIT3D-GT-CAM_NO_FACTOR-ALL_TEST\n",
      "[overwrite: False] ==> Loading FIT3D source_list...\n",
      "[overwrite: False] ==> Loading FIT3D cam_param...\n",
      "[overwrite: False] ==> Loading FIT3D cam_3d...\n",
      "[overwrite: False] ==> Loading FIT3D img_2d...\n",
      "INFO: Testing\n",
      "No epoch information in the checkpoint\n"
     ]
    },
    {
     "name": "stderr",
     "output_type": "stream",
     "text": [
      "100%|██████████| 411/411 [02:37<00:00,  2.60it/s]\n"
     ]
    },
    {
     "name": "stdout",
     "output_type": "stream",
     "text": [
      "No eval_keypoint. Use part list\n",
      "Part: whole\n",
      "Protocol #1 Error (MPJPE): 102.51311245665923 mm\n",
      "Protocol #2 Error (P-MPJPE): 73.45695239371958 mm\n",
      "----------------------------------------\n",
      "Loading dataset...\n",
      "3DHP-GT-CAM_NO_FACTOR-TEST_ALL_TRAIN\n",
      "[overwrite: False] ==> Loading 3DHP source_list...\n",
      "[overwrite: False] ==> Loading 3DHP cam_param...\n",
      "[overwrite: False] ==> Loading 3DHP cam_3d...\n",
      "[overwrite: False] ==> Loading 3DHP img_2d...\n",
      "INFO: Testing\n",
      "No epoch information in the checkpoint\n"
     ]
    },
    {
     "name": "stderr",
     "output_type": "stream",
     "text": [
      "100%|██████████| 245/245 [01:34<00:00,  2.59it/s]\n"
     ]
    },
    {
     "name": "stdout",
     "output_type": "stream",
     "text": [
      "No eval_keypoint. Use part list\n",
      "Part: whole\n",
      "Protocol #1 Error (MPJPE): 111.27407096803114 mm\n",
      "Protocol #2 Error (P-MPJPE): 58.248690098655565 mm\n",
      "----------------------------------------\n",
      "Loading dataset...\n",
      "H36M-GT-CAM_NO_FACTOR\n",
      "[overwrite: False] ==> Loading H36M source_list...\n",
      "[overwrite: False] ==> Loading H36M cam_param...\n",
      "[overwrite: False] ==> Loading H36M cam_3d...\n",
      "[overwrite: False] ==> Loading H36M img_2d...\n",
      "INFO: Testing\n",
      "No epoch information in the checkpoint\n"
     ]
    },
    {
     "name": "stderr",
     "output_type": "stream",
     "text": [
      "100%|██████████| 133/133 [00:52<00:00,  2.53it/s]\n"
     ]
    },
    {
     "name": "stdout",
     "output_type": "stream",
     "text": [
      "No eval_keypoint. Use part list\n",
      "Part: whole\n",
      "Protocol #1 Error (MPJPE): 27.337578225242876 mm\n",
      "Protocol #2 Error (P-MPJPE): 17.468686863663542 mm\n",
      "----------------------------------------\n",
      "Loading dataset...\n",
      "3DHP-GT-CAM_NO_FACTOR-TEST_TS1_6_UNIV\n",
      "[overwrite: False] ==> Loading 3DHP source_list...\n",
      "[overwrite: False] ==> Loading 3DHP cam_param...\n",
      "[overwrite: False] ==> Loading 3DHP cam_3d...\n",
      "[overwrite: False] ==> Loading 3DHP img_2d...\n",
      "INFO: Testing\n",
      "No epoch information in the checkpoint\n"
     ]
    },
    {
     "name": "stderr",
     "output_type": "stream",
     "text": [
      "100%|██████████| 6/6 [00:03<00:00,  1.92it/s]\n"
     ]
    },
    {
     "name": "stdout",
     "output_type": "stream",
     "text": [
      "No eval_keypoint. Use part list\n",
      "Part: whole\n",
      "Protocol #1 Error (MPJPE): 86.89919756930422 mm\n",
      "Protocol #2 Error (P-MPJPE): 49.11044049152564 mm\n",
      "----------------------------------------\n",
      "Loading dataset...\n",
      "3DHP-GT-CAM_NO_FACTOR-TEST_ALL_TRAIN_UNIV\n",
      "[overwrite: False] ==> Loading 3DHP source_list...\n",
      "[overwrite: False] ==> Loading 3DHP cam_param...\n",
      "[overwrite: False] ==> Loading 3DHP cam_3d...\n",
      "[overwrite: False] ==> Loading 3DHP img_2d...\n",
      "INFO: Testing\n",
      "No epoch information in the checkpoint\n"
     ]
    },
    {
     "name": "stderr",
     "output_type": "stream",
     "text": [
      "100%|██████████| 245/245 [01:34<00:00,  2.60it/s]\n"
     ]
    },
    {
     "name": "stdout",
     "output_type": "stream",
     "text": [
      "No eval_keypoint. Use part list\n",
      "Part: whole\n",
      "Protocol #1 Error (MPJPE): 107.20739391008658 mm\n",
      "Protocol #2 Error (P-MPJPE): 55.91901451423393 mm\n",
      "----------------------------------------\n"
     ]
    }
   ],
   "source": [
    "experiment_root = f'/home/{user}/codes/MotionBERT/experiments'\n",
    "for item in glob(experiment_root+'/*.txt'):\n",
    "    checkpoint_name = os.path.basename(item).split('.txt')[0]\n",
    "    # check if in whitelist\n",
    "    if checkpoint_name in blacklist_checkpoint: continue\n",
    "    if len(whitelist_checkpoint) > 0 and checkpoint_name not in whitelist_checkpoint: continue\n",
    "    # filtering\n",
    "    if 'cam_no_factor' not in checkpoint_name: continue\n",
    "    # get save folder\n",
    "    save_folder = f'/home/{user}/codes/MotionBERT/saved_results/{checkpoint_name}'\n",
    "    if not os.path.exists(save_folder): os.makedirs(save_folder)\n",
    "\n",
    "    # load model\n",
    "    args, opts = get_opt_args_from_model_name(checkpoint_name, verbose=False)\n",
    "    try:\n",
    "        model_pos, chk_filename, checkpoint = load_model(opts, args)\n",
    "    except:\n",
    "        print(f'Error loading model: {checkpoint_name}')\n",
    "        continue\n",
    "\n",
    "    # load subset list\n",
    "    subset_list = []\n",
    "    with open(item, 'r') as f:\n",
    "        lines = f.readlines()\n",
    "        for line in lines:\n",
    "            subset = line.strip()\n",
    "            subset_list.append(subset)\n",
    "\n",
    "    for subset in subset_list:\n",
    "        if 'PCL' in subset: args.fix_orientation_pred = True\n",
    "        # get save path\n",
    "        save_path = os.path.join(save_folder, f'{subset}.pkl')\n",
    "        # check if exists\n",
    "        if os.path.exists(save_path):\n",
    "            print(f'{save_path} exists')\n",
    "            continue\n",
    "        # evaluation\n",
    "        try:\n",
    "            # load dataset\n",
    "            args.subset_list = [subset]\n",
    "            train_loader, test_loader, _, _, datareader = load_dataset(args, use_new_datareader=True)\n",
    "            # evaluation\n",
    "            e1, e2, results_all, inputs_all, gts_all, total_result_dict = evaluate(args, model_pos, test_loader, datareader, checkpoint, only_one_batch=False)\n",
    "            # save results\n",
    "            results_dict = {'results_all': results_all, 'total_result_dict': total_result_dict, 'e1': e1, 'e2': e2} # 'gts_all': gts_all, 'inputs_all': inputs_all, \n",
    "            savepkl(results_dict, save_path)\n",
    "        except Exception as e:\n",
    "            print(f'Error: {e}')\n"
   ]
  },
  {
   "cell_type": "markdown",
   "metadata": {},
   "source": [
    "### Reset the result_dict for whitelist_checkpoint"
   ]
  },
  {
   "cell_type": "code",
   "execution_count": 9,
   "metadata": {},
   "outputs": [],
   "source": [
    "result_dict = readpkl('result_dict.pkl')\n",
    "for item in whitelist_checkpoint:\n",
    "    try: del result_dict[item]\n",
    "    except: print(f'[{item}] not found')\n",
    "savepkl(result_dict, 'result_dict.pkl')"
   ]
  },
  {
   "cell_type": "code",
   "execution_count": 15,
   "metadata": {},
   "outputs": [],
   "source": [
    "savepkl(result_dict, 'result_dict.pkl')"
   ]
  },
  {
   "cell_type": "markdown",
   "metadata": {},
   "source": [
    "### Cherrypick e1, e2 -> result_dict.pkl"
   ]
  },
  {
   "cell_type": "code",
   "execution_count": 10,
   "metadata": {},
   "outputs": [
    {
     "name": "stdout",
     "output_type": "stream",
     "text": [
      "Loading result_dict.pkl\n"
     ]
    },
    {
     "name": "stderr",
     "output_type": "stream",
     "text": [
      "  0%|          | 0/113 [00:00<?, ?it/s]"
     ]
    },
    {
     "name": "stdout",
     "output_type": "stream",
     "text": [
      "/home/hrai/codes/MotionBERT/saved_results/MB_train_h36m_gt_cam_no_factor_input_centering_seed4/3DHP-GT-CAM_NO_FACTOR-TEST_ALL_TRAIN.pkl\n",
      "/home/hrai/codes/MotionBERT/saved_results/MB_train_h36m_gt_cam_no_factor_input_centering_seed4/3DHP-GT-CAM_NO_FACTOR-TEST_ALL_TRAIN_UNIV.pkl\n",
      "/home/hrai/codes/MotionBERT/saved_results/MB_train_h36m_gt_cam_no_factor_input_centering_seed4/3DHP-GT-CAM_NO_FACTOR-TEST_TS1_6.pkl\n",
      "/home/hrai/codes/MotionBERT/saved_results/MB_train_h36m_gt_cam_no_factor_input_centering_seed4/FIT3D-GT-CAM_NO_FACTOR-ALL_TEST.pkl\n",
      "/home/hrai/codes/MotionBERT/saved_results/MB_train_h36m_gt_cam_no_factor_input_centering_seed4/H36M-GT-CAM_NO_FACTOR.pkl\n"
     ]
    },
    {
     "name": "stderr",
     "output_type": "stream",
     "text": [
      "100%|██████████| 113/113 [00:02<00:00, 56.25it/s]"
     ]
    },
    {
     "name": "stdout",
     "output_type": "stream",
     "text": [
      "/home/hrai/codes/MotionBERT/saved_results/MB_train_h36m_gt_cam_no_factor_input_centering_seed4/3DHP-GT-CAM_NO_FACTOR-TEST_TS1_6_UNIV.pkl\n"
     ]
    },
    {
     "name": "stderr",
     "output_type": "stream",
     "text": [
      "\n"
     ]
    }
   ],
   "source": [
    "blacklist_checkpoint = ['MB_train_h36m_gt_cam_no_factor_input_from_canonical_3d_same_z_s15678_tr_54138969_ts_others']\n",
    "update_result_dict_pkl(blacklist_checkpoint)"
   ]
  },
  {
   "cell_type": "markdown",
   "metadata": {},
   "source": [
    "### Calculate PCK, AUC for 3DHP"
   ]
  },
  {
   "cell_type": "code",
   "execution_count": null,
   "metadata": {},
   "outputs": [],
   "source": [
    "def compute_PCK(gts, preds, scales=1000, eval_joints=None, threshold=150):\n",
    "    PCK_THRESHOLD = threshold\n",
    "    sample_num = len(gts)\n",
    "    total = 0\n",
    "    true_positive = 0\n",
    "    if eval_joints is None:\n",
    "        eval_joints = list(range(gts.shape[1]))\n",
    "\n",
    "    for n in range(sample_num):\n",
    "        gt = gts[n]\n",
    "        pred = preds[n]\n",
    "        # scale = scales[n]\n",
    "        scale = 1000\n",
    "        per_joint_error = np.take(np.sqrt(np.sum(np.power(pred - gt, 2), 1)) * scale, eval_joints, axis=0)\n",
    "        true_positive += (per_joint_error < PCK_THRESHOLD).sum()\n",
    "        total += per_joint_error.size\n",
    "\n",
    "    pck = float(true_positive / total) * 100\n",
    "    return pck\n",
    "\n",
    "\n",
    "def compute_AUC(gts, preds, scales=1000, eval_joints=None):\n",
    "    # This range of thresholds mimics 'mpii_compute_3d_pck.m', which is provided as part of the\n",
    "    # MPI-INF-3DHP test data release.\n",
    "    thresholds = np.linspace(0, 150, 31)\n",
    "    pck_list = []\n",
    "    for threshold in thresholds:\n",
    "        pck_list.append(compute_PCK(gts, preds, scales, eval_joints, threshold))\n",
    "\n",
    "    auc = np.mean(pck_list)\n",
    "\n",
    "    return auc"
   ]
  },
  {
   "cell_type": "code",
   "execution_count": 7,
   "metadata": {},
   "outputs": [
    {
     "name": "stdout",
     "output_type": "stream",
     "text": [
      "MB_train_h36m_gt_cam_no_factor_input_from_canonical_3d_revolute_input_centering\n",
      "Experiment path: /home/hrai/codes/MotionBERT/experiments/MB_train_h36m_gt_cam_no_factor_input_from_canonical_3d_revolute_input_centering.txt\n",
      "Config# path: /home/hrai/codes/MotionBERT/configs/pose3d/MB_train_h36m_gt_cam_no_factor_input_from_canonical_3d_revolute_input_centering.yaml\n"
     ]
    }
   ],
   "source": [
    "whitelist_checkpoint = [\n",
    "    'MB_train_h36m_gt_cam_no_factor_input_from_canonical_3d_revolute_input_centering',\n",
    "]\n",
    "\n",
    "# check experiment file\n",
    "check_config_experiment(whitelist_checkpoint)"
   ]
  },
  {
   "cell_type": "code",
   "execution_count": 27,
   "metadata": {},
   "outputs": [
    {
     "name": "stderr",
     "output_type": "stream",
     "text": [
      "  0%|          | 0/1 [00:00<?, ?it/s]"
     ]
    },
    {
     "name": "stdout",
     "output_type": "stream",
     "text": [
      "['/home/hrai/codes/MotionBERT/saved_results/MB_train_h36m_gt_cam_no_factor_input_from_canonical_3d_revolute_input_centering/3DHP-GT-CAM_NO_FACTOR-INPUT_FROM_CANONICAL_PCL_WITH_RZ-TEST_TS1_6_UNIV.pkl', '/home/hrai/codes/MotionBERT/saved_results/MB_train_h36m_gt_cam_no_factor_input_from_canonical_3d_revolute_input_centering/H36M-GT-CAM_NO_FACTOR-INPUT_FROM_CANONICAL_PCL_WITH_RZ.pkl', '/home/hrai/codes/MotionBERT/saved_results/MB_train_h36m_gt_cam_no_factor_input_from_canonical_3d_revolute_input_centering/3DHP-GT-CAM_NO_FACTOR-INPUT_FROM_3D_CANONICAL_REVOLUTE-TEST_TS1_6.pkl', '/home/hrai/codes/MotionBERT/saved_results/MB_train_h36m_gt_cam_no_factor_input_from_canonical_3d_revolute_input_centering/H36M-GT-CAM_NO_FACTOR-INPUT_FROM_3D_CANONICAL_REVOLUTE.pkl', '/home/hrai/codes/MotionBERT/saved_results/MB_train_h36m_gt_cam_no_factor_input_from_canonical_3d_revolute_input_centering/3DHP-GT-CAM_NO_FACTOR-INPUT_FROM_CANONICAL_PCL_WITH_RZ-TEST_TS1_6.pkl', '/home/hrai/codes/MotionBERT/saved_results/MB_train_h36m_gt_cam_no_factor_input_from_canonical_3d_revolute_input_centering/3DHP-GT-CAM_NO_FACTOR-INPUT_FROM_3D_CANONICAL_REVOLUTE-TEST_TS1_6_UNIV.pkl', '/home/hrai/codes/MotionBERT/saved_results/MB_train_h36m_gt_cam_no_factor_input_from_canonical_3d_revolute_input_centering/FIT3D-GT-CAM_NO_FACTOR-INPUT_FROM_3D_CANONICAL_REVOLUTE-ALL_TEST.pkl', '/home/hrai/codes/MotionBERT/saved_results/MB_train_h36m_gt_cam_no_factor_input_from_canonical_3d_revolute_input_centering/3DHP-GT-CAM_NO_FACTOR-INPUT_FROM_3D_CANONICAL_REVOLUTE-TEST_ALL_TRAIN.pkl', '/home/hrai/codes/MotionBERT/saved_results/MB_train_h36m_gt_cam_no_factor_input_from_canonical_3d_revolute_input_centering/3DHP-GT-CAM_NO_FACTOR-INPUT_FROM_CANONICAL_PCL_WITH_RZ-TEST_ALL_TRAIN.pkl', '/home/hrai/codes/MotionBERT/saved_results/MB_train_h36m_gt_cam_no_factor_input_from_canonical_3d_revolute_input_centering/FIT3D-GT-CAM_NO_FACTOR-INPUT_FROM_CANONICAL_PCL_WITH_RZ-ALL_TEST.pkl']\n",
      "/home/hrai/codes/MotionBERT/saved_results/MB_train_h36m_gt_cam_no_factor_input_from_canonical_3d_revolute_input_centering/3DHP-GT-CAM_NO_FACTOR-INPUT_FROM_CANONICAL_PCL_WITH_RZ-TEST_TS1_6_UNIV.pkl\n",
      "Loading dataset...\n",
      "3DHP-GT-CAM_NO_FACTOR-INPUT_FROM_CANONICAL_PCL_WITH_RZ-TEST_TS1_6_UNIV\n",
      "[overwrite: False] ==> Loading 3DHP source_list...\n",
      "[overwrite: False] ==> Loading 3DHP cam_param...\n",
      "[overwrite: False] ==> Loading 3DHP cam_3d...\n",
      "[overwrite: False] ==> Loading 3DHP cam_3d_canonical_pcl_with_Rz...\n",
      "[overwrite: False] ==> Loading 3DHP img_2d_canonical_pcl_with_Rz...\n",
      "dict_keys(['results_all', 'total_result_dict', 'e1', 'e2'])\n"
     ]
    },
    {
     "name": "stderr",
     "output_type": "stream",
     "text": [
      "100%|██████████| 6/6 [00:00<00:00, 11.81it/s]\n"
     ]
    },
    {
     "name": "stdout",
     "output_type": "stream",
     "text": [
      "PCK: 90.39000511041179\n",
      "AUC: 62.87428126700035\n",
      "/home/hrai/codes/MotionBERT/saved_results/MB_train_h36m_gt_cam_no_factor_input_from_canonical_3d_revolute_input_centering/3DHP-GT-CAM_NO_FACTOR-INPUT_FROM_3D_CANONICAL_REVOLUTE-TEST_TS1_6_UNIV.pkl\n",
      "Loading dataset...\n",
      "3DHP-GT-CAM_NO_FACTOR-INPUT_FROM_3D_CANONICAL_REVOLUTE-TEST_TS1_6_UNIV\n",
      "[overwrite: False] ==> Loading 3DHP source_list...\n",
      "[overwrite: False] ==> Loading 3DHP cam_param...\n",
      "[overwrite: False] ==> Loading 3DHP cam_3d...\n",
      "[overwrite: False] ==> Loading 3DHP cam_3d_canonical_revolute...\n",
      "[overwrite: False] ==> Loading 3DHP img_2d_canonical_revolute...\n",
      "dict_keys(['results_all', 'total_result_dict', 'e1', 'e2'])\n"
     ]
    },
    {
     "name": "stderr",
     "output_type": "stream",
     "text": [
      "100%|██████████| 6/6 [00:00<00:00, 13.68it/s]\n",
      "100%|██████████| 1/1 [00:32<00:00, 32.12s/it]"
     ]
    },
    {
     "name": "stdout",
     "output_type": "stream",
     "text": [
      "PCK: 90.39000511041179\n",
      "AUC: 62.874298619841746\n"
     ]
    },
    {
     "name": "stderr",
     "output_type": "stream",
     "text": [
      "\n"
     ]
    }
   ],
   "source": [
    "user = getpass.getuser()\n",
    "result_root = f'/home/{user}/codes/MotionBERT/saved_results'\n",
    "for checkpoint_name in tqdm(whitelist_checkpoint):\n",
    "    checkpoint_root = os.path.join(result_root, checkpoint_name)\n",
    "    subset_list = glob(checkpoint_root+'/*.pkl')\n",
    "    print(subset_list)\n",
    "    for item in subset_list:\n",
    "        if 'TS1_6_UNIV' not in item: continue\n",
    "        print(item)\n",
    "        args, opts = get_opt_args_from_model_name(checkpoint_name, verbose=False)\n",
    "        args.subset_list = [os.path.basename(item).split('.pkl')[0]]\n",
    "        _, test_loader, _, _, datareader = load_dataset(args, use_new_datareader=True)\n",
    "        subset = os.path.basename(item).split('.pkl')[0]\n",
    "        result = readpkl(item)\n",
    "        print(result.keys())\n",
    "\n",
    "        # get gts_all\n",
    "        gts_all = []\n",
    "        with torch.no_grad():\n",
    "            for batch_input, batch_gt in tqdm(test_loader): # batch_input: normalized joint_2d, batch_gt: normalized joint3d_image\n",
    "                # preprocessing\n",
    "                batch_gt_original = batch_gt.clone().detach().cuda()\n",
    "                batch_input, batch_gt, batch_gt_torso, batch_gt_limb_pos = preprocess_eval(args, batch_input, batch_gt)\n",
    "                gts_all.append(batch_gt.cpu().numpy())\n",
    "        gts_all = np.concatenate(gts_all)\n",
    "        if args.denormalize_output:\n",
    "            gts_all = datareader.denormalize(gts_all) # denormalize the ground truth 3D poses\n",
    "\n",
    "        results_all = result['results_all'].copy().reshape(-1, 17, 3)\n",
    "        gts_all = gts_all.reshape(-1, 17, 3)\n",
    "        \n",
    "        pck = compute_PCK(gts_all, results_all)\n",
    "        auc = compute_AUC(gts_all, results_all)\n",
    "        print(f'PCK: {pck}')\n",
    "        print(f'AUC: {auc}')\n",
    "        #break\n",
    "    #break"
   ]
  },
  {
   "cell_type": "code",
   "execution_count": 19,
   "metadata": {},
   "outputs": [
    {
     "data": {
      "text/plain": [
       "((21870, 17, 3), (21870, 17, 3))"
      ]
     },
     "execution_count": 19,
     "metadata": {},
     "output_type": "execute_result"
    }
   ],
   "source": [
    "results_all.shape, gts_all.shape"
   ]
  },
  {
   "cell_type": "code",
   "execution_count": 25,
   "metadata": {},
   "outputs": [],
   "source": [
    "pck = compute_PCK(gts_all, results_all)\n",
    "auc = compute_AUC(gts_all, results_all)"
   ]
  },
  {
   "cell_type": "code",
   "execution_count": 26,
   "metadata": {},
   "outputs": [
    {
     "data": {
      "text/plain": [
       "(90.39000511041179, 62.87428126700035)"
      ]
     },
     "execution_count": 26,
     "metadata": {},
     "output_type": "execute_result"
    }
   ],
   "source": [
    "pck, auc"
   ]
  },
  {
   "cell_type": "markdown",
   "metadata": {},
   "source": [
    "### Delete gts_all, inputs_all to reduce the file size"
   ]
  },
  {
   "cell_type": "code",
   "execution_count": null,
   "metadata": {},
   "outputs": [
    {
     "name": "stderr",
     "output_type": "stream",
     "text": [
      "  0%|          | 0/97 [00:00<?, ?it/s]"
     ]
    },
    {
     "name": "stderr",
     "output_type": "stream",
     "text": [
      " 31%|███       | 30/97 [10:41<22:45, 20.39s/it]"
     ]
    }
   ],
   "source": [
    "experiment_root = f'/home/{user}/codes/MotionBERT/experiments'\n",
    "for item in tqdm(glob(experiment_root+'/*.txt')):\n",
    "    checkpoint_name = os.path.basename(item).split('.txt')[0]\n",
    "    save_folder = f'/home/hrai/codes/MotionBERT/saved_results/{checkpoint_name}'\n",
    "    subset_list = []\n",
    "    with open(item, 'r') as f:\n",
    "        lines = f.readlines()\n",
    "        for line in lines:\n",
    "            subset = line.strip()\n",
    "            subset_list.append(subset)\n",
    "\n",
    "    for subset in subset_list:\n",
    "        save_path = os.path.join(save_folder, f'{subset}.pkl')\n",
    "        if not os.path.exists(save_path): continue\n",
    "        results_dict = readpkl(save_path)\n",
    "        #print(checkpoint_name, subset, results_dict.keys())\n",
    "        if 'gts_all' in results_dict.keys(): del results_dict['gts_all']\n",
    "        if 'inputs_all' in results_dict.keys(): del results_dict['inputs_all']\n",
    "        savepkl(results_dict, save_path)"
   ]
  }
 ],
 "metadata": {
  "kernelspec": {
   "display_name": "motionbert",
   "language": "python",
   "name": "python3"
  },
  "language_info": {
   "codemirror_mode": {
    "name": "ipython",
    "version": 3
   },
   "file_extension": ".py",
   "mimetype": "text/x-python",
   "name": "python",
   "nbconvert_exporter": "python",
   "pygments_lexer": "ipython3",
   "version": "3.9.18"
  }
 },
 "nbformat": 4,
 "nbformat_minor": 2
}
