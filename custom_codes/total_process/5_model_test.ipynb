{
 "cells": [
  {
   "cell_type": "code",
   "execution_count": 1,
   "metadata": {},
   "outputs": [],
   "source": [
    "%load_ext autoreload\n",
    "%autoreload 2\n",
    "%matplotlib widget\n",
    "from common import *"
   ]
  },
  {
   "cell_type": "markdown",
   "metadata": {},
   "source": [
    "### Evaluate single experiment"
   ]
  },
  {
   "cell_type": "code",
   "execution_count": 5,
   "metadata": {},
   "outputs": [
    {
     "name": "stdout",
     "output_type": "stream",
     "text": [
      "configs/pose3d/MB_train_h36m_gt_cam_no_factor_input_from_canonical_3d_same_z_input_centering_steprot_1+original_tr_s1_ts_s5678.yaml\n",
      "True\n",
      "MB_train_h36m_gt_cam_no_factor_input_from_canonical_3d_same_z_input_centering_steprot_1+original_tr_s1_ts_s5678\n",
      "Loading checkpoint checkpoint/pose3d/MB_train_h36m_gt_cam_no_factor_input_from_canonical_3d_same_z_input_centering_steprot_1+original_tr_s1_ts_s5678/latest_epoch.bin\n",
      "Loading dataset...\n",
      "H36M-GT-CAM_NO_FACTOR-INPUT_FROM_3D_CANONICAL_SAME_Z-TR_S1_TS_S5678\n",
      "[overwrite: False] ==> Loading H36M source_list...\n",
      "[overwrite: False] ==> Loading H36M cam_param...\n",
      "[overwrite: False] ==> Loading H36M cam_3d...\n",
      "[overwrite: False] ==> Loading H36M img_2d_canonical_same_z...\n",
      "[overwrite: False] ==> Loading H36M cam_3d_canonical_same_z...\n"
     ]
    }
   ],
   "source": [
    "checkpoint = 'MB_train_h36m_gt_cam_no_factor_input_from_canonical_3d_same_z_input_centering_steprot_1+original_tr_s1_ts_s5678'\n",
    "args, opts = get_opt_args_from_model_name(checkpoint, mode='latest')\n",
    "model_pos, chk_filename, checkpoint = load_model(opts, args)\n",
    "\n",
    "subset = 'H36M-GT-CAM_NO_FACTOR-INPUT_FROM_3D_CANONICAL_SAME_Z-TR_S1_TS_S5678'\n",
    "args.subset_list = [subset]\n",
    "train_loader, test_loader, _, _, datareader = load_dataset(args, use_new_datareader=True)\n",
    "\n",
    "# if '3DHP' in subset:\n",
    "#     args.eval_part = 'whole_without_nose'\n",
    "#     args.part_list = ['whole_without_nose']"
   ]
  },
  {
   "cell_type": "code",
   "execution_count": 6,
   "metadata": {},
   "outputs": [
    {
     "name": "stdout",
     "output_type": "stream",
     "text": [
      "INFO: Testing\n",
      "No epoch information in the checkpoint\n"
     ]
    },
    {
     "name": "stderr",
     "output_type": "stream",
     "text": [
      "  0%|          | 0/323 [00:00<?, ?it/s]"
     ]
    },
    {
     "name": "stderr",
     "output_type": "stream",
     "text": [
      "100%|██████████| 323/323 [01:47<00:00,  3.00it/s]\n"
     ]
    },
    {
     "name": "stdout",
     "output_type": "stream",
     "text": [
      "No eval_keypoint. Use part list\n",
      "Part: whole\n",
      "Protocol #1 Error (MPJPE): 33.17149596589532 mm\n",
      "Protocol #2 Error (P-MPJPE): 20.600891182041828 mm\n",
      "----------------------------------------\n"
     ]
    }
   ],
   "source": [
    "e1, e2, results_all, inputs_all, gts_all, total_result_dict = evaluate(args, model_pos, test_loader, datareader, checkpoint, only_one_batch=False)"
   ]
  },
  {
   "cell_type": "markdown",
   "metadata": {},
   "source": [
    "### Evaluate and save all experiments"
   ]
  },
  {
   "cell_type": "code",
   "execution_count": 2,
   "metadata": {},
   "outputs": [
    {
     "name": "stdout",
     "output_type": "stream",
     "text": [
      "MB_train_h36m_gt_cam_no_factor_sinu_roll_m15_p273_tr_s1_ts_s5678 need to be trained\n",
      "MB_train_h36m_gt_cam_no_factor_input_from_canonical_3d_same_z_input_centering_steprot_0.5_sinu_pitch_m15_p273_sinu_roll_m15_p273 - 3DHP-GT-CAM_NO_FACTOR-INPUT_FROM_3D_CANONICAL_SAME_Z-TEST_ALL_TRAIN not found\n",
      "MB_train_h36m_gt_cam_no_factor_input_from_canonical_3d_same_z_input_centering_steprot_0.5_sinu_pitch_m15_p273_sinu_roll_m15_p273 - 3DHP-GT-CAM_NO_FACTOR-INPUT_FROM_3D_CANONICAL_SAME_Z-TEST_TS1_6 not found\n",
      "MB_train_h36m_gt_cam_no_factor_input_from_canonical_3d_same_z_input_centering_steprot_0.5_sinu_pitch_m15_p273_sinu_roll_m15_p273 - FIT3D-GT-CAM_NO_FACTOR-INPUT_FROM_3D_CANONICAL_SAME_Z-ALL_TEST not found\n",
      "MB_train_h36m_gt_cam_no_factor_input_from_canonical_3d_same_z_input_centering_steprot_0.5_sinu_pitch_m15_p273_sinu_roll_m15_p273 - H36M-GT-CAM_NO_FACTOR-INPUT_FROM_3D_CANONICAL_SAME_Z not found\n",
      "MB_train_h36m_gt_cam_no_factor_input_from_canonical_3d_same_z_input_centering_steprot_1.5+original_tr_s1_ts_s5678 need to be trained\n",
      "\n",
      "Checkpoints to evaluate:\n"
     ]
    },
    {
     "data": {
      "text/plain": [
       "['MB_train_h36m_gt_cam_no_factor_input_from_canonical_3d_same_z_input_centering_steprot_0.5_sinu_pitch_m15_p273_sinu_roll_m15_p273']"
      ]
     },
     "execution_count": 2,
     "metadata": {},
     "output_type": "execute_result"
    }
   ],
   "source": [
    "result_list = os.listdir('saved_results')\n",
    "checkpoint_list = os.listdir('checkpoint/pose3d')\n",
    "whitelist_checkpoint = []\n",
    "for item in os.listdir('configs/pose3d'):\n",
    "    checkpoint = item.split('.yaml')[0]\n",
    "    if 'cam_no_factor' not in checkpoint: continue\n",
    "    if checkpoint in blacklist_checkpoint: continue\n",
    "    if checkpoint not in checkpoint_list: \n",
    "        print(f'{checkpoint} need to be trained')\n",
    "        continue\n",
    "    if checkpoint not in experiment_list:\n",
    "        whitelist_checkpoint.append(checkpoint)\n",
    "        # create empty file\n",
    "        with open(f'experiments/{checkpoint}.txt', 'w') as f:\n",
    "            pass\n",
    "    else:\n",
    "        subset_list = []\n",
    "        with open(f'experiments/{checkpoint}.txt', 'r') as f:\n",
    "            lines = f.readlines()\n",
    "            for line in lines:\n",
    "                subset = line.split('\\n')[0]\n",
    "                subset_list.append(subset)\n",
    "        for subset in subset_list:\n",
    "            if not os.path.exists(f'saved_results/{checkpoint}/{subset}.pkl'):\n",
    "                print(f'{checkpoint} - {subset} not found')\n",
    "                if checkpoint not in whitelist_checkpoint: \n",
    "                    whitelist_checkpoint.append(checkpoint)\n",
    "                    \n",
    "print('\\nCheckpoints to evaluate:')\n",
    "whitelist_checkpoint"
   ]
  },
  {
   "cell_type": "code",
   "execution_count": 3,
   "metadata": {},
   "outputs": [
    {
     "name": "stdout",
     "output_type": "stream",
     "text": [
      "MB_train_h36m_gt_cam_no_factor_input_from_canonical_3d_same_z_input_centering_steprot_0.5_sinu_pitch_m15_p273_sinu_roll_m15_p273\n",
      "Loading checkpoint checkpoint/pose3d/MB_train_h36m_gt_cam_no_factor_input_from_canonical_3d_same_z_input_centering_steprot_0.5_sinu_pitch_m15_p273_sinu_roll_m15_p273/best_epoch.bin\n",
      "Loading dataset...\n",
      "3DHP-GT-CAM_NO_FACTOR-INPUT_FROM_3D_CANONICAL_SAME_Z-TEST_ALL_TRAIN\n",
      "[overwrite: False] ==> Loading 3DHP source_list...\n",
      "[overwrite: False] ==> Loading 3DHP cam_param...\n",
      "[overwrite: False] ==> Loading 3DHP cam_3d...\n",
      "[overwrite: False] ==> Loading 3DHP cam_3d_canonical_same_z...\n",
      "[overwrite: False] ==> Loading 3DHP img_2d_canonical_same_z...\n",
      "INFO: Testing\n",
      "No epoch information in the checkpoint\n"
     ]
    },
    {
     "name": "stderr",
     "output_type": "stream",
     "text": [
      "100%|██████████| 245/245 [01:24<00:00,  2.89it/s]\n"
     ]
    },
    {
     "name": "stdout",
     "output_type": "stream",
     "text": [
      "No eval_keypoint. Use part list\n",
      "Part: whole\n",
      "Protocol #1 Error (MPJPE): 80.32230341402575 mm\n",
      "Protocol #2 Error (P-MPJPE): 62.63020884870281 mm\n",
      "----------------------------------------\n",
      "Loading dataset...\n",
      "3DHP-GT-CAM_NO_FACTOR-INPUT_FROM_3D_CANONICAL_SAME_Z-TEST_TS1_6\n",
      "[overwrite: False] ==> Loading 3DHP source_list...\n",
      "[overwrite: False] ==> Loading 3DHP cam_param...\n",
      "[overwrite: False] ==> Loading 3DHP cam_3d...\n",
      "[overwrite: False] ==> Loading 3DHP cam_3d_canonical_same_z...\n",
      "[overwrite: False] ==> Loading 3DHP img_2d_canonical_same_z...\n",
      "INFO: Testing\n",
      "No epoch information in the checkpoint\n"
     ]
    },
    {
     "name": "stderr",
     "output_type": "stream",
     "text": [
      "100%|██████████| 6/6 [00:02<00:00,  2.29it/s]\n"
     ]
    },
    {
     "name": "stdout",
     "output_type": "stream",
     "text": [
      "No eval_keypoint. Use part list\n",
      "Part: whole\n",
      "Protocol #1 Error (MPJPE): 92.06040708102199 mm\n",
      "Protocol #2 Error (P-MPJPE): 63.73220675262166 mm\n",
      "----------------------------------------\n",
      "Loading dataset...\n",
      "FIT3D-GT-CAM_NO_FACTOR-INPUT_FROM_3D_CANONICAL_SAME_Z-ALL_TEST\n",
      "[overwrite: False] ==> Loading FIT3D source_list...\n",
      "[overwrite: False] ==> Loading FIT3D cam_param...\n",
      "[overwrite: False] ==> Loading FIT3D cam_3d...\n",
      "[overwrite: False] ==> Loading FIT3D cam_3d_canonical_same_z...\n",
      "[overwrite: False] ==> Loading FIT3D img_2d_canonical_same_z...\n",
      "INFO: Testing\n",
      "No epoch information in the checkpoint\n"
     ]
    },
    {
     "name": "stderr",
     "output_type": "stream",
     "text": [
      "100%|██████████| 411/411 [02:17<00:00,  2.98it/s]\n"
     ]
    },
    {
     "name": "stdout",
     "output_type": "stream",
     "text": [
      "No eval_keypoint. Use part list\n",
      "Part: whole\n",
      "Protocol #1 Error (MPJPE): 139.09380526678524 mm\n",
      "Protocol #2 Error (P-MPJPE): 93.61104657754527 mm\n",
      "----------------------------------------\n",
      "Loading dataset...\n",
      "H36M-GT-CAM_NO_FACTOR-INPUT_FROM_3D_CANONICAL_SAME_Z\n",
      "[overwrite: False] ==> Loading H36M source_list...\n",
      "[overwrite: False] ==> Loading H36M cam_param...\n",
      "[overwrite: False] ==> Loading H36M cam_3d...\n",
      "[overwrite: False] ==> Loading H36M cam_3d_canonical_same_z...\n",
      "[overwrite: False] ==> Loading H36M img_2d_canonical_same_z...\n",
      "INFO: Testing\n",
      "No epoch information in the checkpoint\n"
     ]
    },
    {
     "name": "stderr",
     "output_type": "stream",
     "text": [
      "100%|██████████| 133/133 [00:45<00:00,  2.94it/s]\n"
     ]
    },
    {
     "name": "stdout",
     "output_type": "stream",
     "text": [
      "No eval_keypoint. Use part list\n",
      "Part: whole\n",
      "Protocol #1 Error (MPJPE): 26.816263636009158 mm\n",
      "Protocol #2 Error (P-MPJPE): 20.20234129913342 mm\n",
      "----------------------------------------\n"
     ]
    }
   ],
   "source": [
    "experiment_root = f'/home/{user}/codes/MotionBERT/experiments'\n",
    "for item in glob(experiment_root+'/*.txt'):\n",
    "    checkpoint = os.path.basename(item).split('.txt')[0]\n",
    "    if checkpoint in blacklist_checkpoint: continue\n",
    "    if len(whitelist_checkpoint) > 0 and checkpoint not in whitelist_checkpoint: continue\n",
    "    if 'cam_no_factor' not in checkpoint: continue\n",
    "    save_folder = f'/home/hrai/codes/MotionBERT/saved_results/{checkpoint}'\n",
    "    if not os.path.exists(save_folder): os.makedirs(save_folder)\n",
    "    \n",
    "    # load model\n",
    "    args, opts = get_opt_args_from_model_name(checkpoint, verbose=False)\n",
    "    model_pos, chk_filename, checkpoint = load_model(opts, args)\n",
    "    \n",
    "    subset_list = []\n",
    "    with open(item, 'r') as f:\n",
    "        lines = f.readlines()\n",
    "        for line in lines:\n",
    "            subset = line.strip()\n",
    "            subset_list.append(subset)\n",
    "    \n",
    "    for subset in subset_list:\n",
    "        save_path = os.path.join(save_folder, f'{subset}.pkl')\n",
    "        if os.path.exists(save_path): \n",
    "            print(f'{save_path} exists')\n",
    "            continue\n",
    "        try:\n",
    "            # load dataset\n",
    "            args.subset_list = [subset]\n",
    "            train_loader, test_loader, _, _, datareader = load_dataset(args, use_new_datareader=True)\n",
    "            # evaluation\n",
    "            e1, e2, results_all, inputs_all, gts_all, total_result_dict = evaluate(args, model_pos, test_loader, datareader, checkpoint, only_one_batch=False)\n",
    "            # save results\n",
    "            results_dict = {'results_all': results_all, 'gts_all': gts_all, 'inputs_all': inputs_all, 'total_result_dict': total_result_dict, 'e1': e1, 'e2': e2}\n",
    "            savepkl(results_dict, save_path)\n",
    "        except Exception as e:\n",
    "            print(f'Error: {e}')\n"
   ]
  },
  {
   "cell_type": "markdown",
   "metadata": {},
   "source": [
    "### Cherrypick e1, e1 -> result_dict.pkl"
   ]
  },
  {
   "cell_type": "code",
   "execution_count": 4,
   "metadata": {},
   "outputs": [
    {
     "name": "stdout",
     "output_type": "stream",
     "text": [
      "Loading result_dict.pkl\n"
     ]
    },
    {
     "name": "stderr",
     "output_type": "stream",
     "text": [
      "  0%|          | 0/58 [00:00<?, ?it/s]"
     ]
    },
    {
     "name": "stderr",
     "output_type": "stream",
     "text": [
      "100%|██████████| 58/58 [00:01<00:00, 30.71it/s]\n"
     ]
    }
   ],
   "source": [
    "blacklist_checkpoint = ['MB_train_h36m_gt_cam_no_factor_input_from_canonical_3d_same_z_s15678_tr_54138969_ts_others']\n",
    "\n",
    "if os.path.exists('result_dict.pkl'):\n",
    "    print('Loading result_dict.pkl')\n",
    "    result_dict = readpkl('result_dict.pkl')\n",
    "else:\n",
    "    result_dict = {}\n",
    "result_root = '/home/hrai/codes/MotionBERT/saved_results'\n",
    "checkpoint_list = os.listdir(result_root)\n",
    "for checkpoint in tqdm(checkpoint_list):\n",
    "    if checkpoint in blacklist_checkpoint: continue # skip\n",
    "    if checkpoint not in result_dict.keys(): result_dict[checkpoint] = {} # create new key if not exists\n",
    "    checkpoint_root = os.path.join(result_root, checkpoint)\n",
    "    subset_list = glob(checkpoint_root+'/*.pkl')\n",
    "    for item in subset_list:\n",
    "        subset = os.path.basename(item).split('.pkl')[0]\n",
    "        if subset in result_dict[checkpoint].keys(): \n",
    "            #print(f'{subset} exists')\n",
    "            continue\n",
    "        result = readpkl(item)\n",
    "        result_dict[checkpoint][subset] = {'e1': result['e1'], 'e2': result['e2']}\n",
    "savepkl(result_dict, 'result_dict.pkl')"
   ]
  },
  {
   "cell_type": "code",
   "execution_count": null,
   "metadata": {},
   "outputs": [],
   "source": []
  }
 ],
 "metadata": {
  "kernelspec": {
   "display_name": "motionbert",
   "language": "python",
   "name": "python3"
  },
  "language_info": {
   "codemirror_mode": {
    "name": "ipython",
    "version": 3
   },
   "file_extension": ".py",
   "mimetype": "text/x-python",
   "name": "python",
   "nbconvert_exporter": "python",
   "pygments_lexer": "ipython3",
   "version": "3.9.17"
  }
 },
 "nbformat": 4,
 "nbformat_minor": 2
}
