{
 "cells": [
  {
   "cell_type": "code",
   "execution_count": 1,
   "metadata": {},
   "outputs": [],
   "source": [
    "%load_ext autoreload\n",
    "%autoreload 2\n",
    "%matplotlib widget\n",
    "from common_import import *"
   ]
  },
  {
   "cell_type": "markdown",
   "metadata": {},
   "source": [
    "### Evaluate single experiment"
   ]
  },
  {
   "cell_type": "code",
   "execution_count": 5,
   "metadata": {},
   "outputs": [
    {
     "name": "stdout",
     "output_type": "stream",
     "text": [
      "configs/pose3d/MB_train_h36m_gt_cam_no_factor_input_from_canonical_3d_same_z_input_centering_steprot_1+original_tr_s1_ts_s5678.yaml\n",
      "True\n",
      "MB_train_h36m_gt_cam_no_factor_input_from_canonical_3d_same_z_input_centering_steprot_1+original_tr_s1_ts_s5678\n",
      "Loading checkpoint checkpoint/pose3d/MB_train_h36m_gt_cam_no_factor_input_from_canonical_3d_same_z_input_centering_steprot_1+original_tr_s1_ts_s5678/latest_epoch.bin\n",
      "Loading dataset...\n",
      "H36M-GT-CAM_NO_FACTOR-INPUT_FROM_3D_CANONICAL_SAME_Z-TR_S1_TS_S5678\n",
      "[overwrite: False] ==> Loading H36M source_list...\n",
      "[overwrite: False] ==> Loading H36M cam_param...\n",
      "[overwrite: False] ==> Loading H36M cam_3d...\n",
      "[overwrite: False] ==> Loading H36M img_2d_canonical_same_z...\n",
      "[overwrite: False] ==> Loading H36M cam_3d_canonical_same_z...\n"
     ]
    }
   ],
   "source": [
    "checkpoint = 'MB_train_h36m_gt_cam_no_factor_input_from_canonical_3d_same_z_input_centering_steprot_1+original_tr_s1_ts_s5678'\n",
    "args, opts = get_opt_args_from_model_name(checkpoint, mode='latest')\n",
    "model_pos, chk_filename, checkpoint = load_model(opts, args)\n",
    "\n",
    "subset = 'H36M-GT-CAM_NO_FACTOR-INPUT_FROM_3D_CANONICAL_SAME_Z-TR_S1_TS_S5678'\n",
    "args.subset_list = [subset]\n",
    "train_loader, test_loader, _, _, datareader = load_dataset(args, use_new_datareader=True)\n",
    "\n",
    "# if '3DHP' in subset:\n",
    "#     args.eval_part = 'whole_without_nose'\n",
    "#     args.part_list = ['whole_without_nose']"
   ]
  },
  {
   "cell_type": "code",
   "execution_count": 6,
   "metadata": {},
   "outputs": [
    {
     "name": "stdout",
     "output_type": "stream",
     "text": [
      "INFO: Testing\n",
      "No epoch information in the checkpoint\n"
     ]
    },
    {
     "name": "stderr",
     "output_type": "stream",
     "text": [
      "  0%|          | 0/323 [00:00<?, ?it/s]"
     ]
    },
    {
     "name": "stderr",
     "output_type": "stream",
     "text": [
      "100%|██████████| 323/323 [01:47<00:00,  3.00it/s]\n"
     ]
    },
    {
     "name": "stdout",
     "output_type": "stream",
     "text": [
      "No eval_keypoint. Use part list\n",
      "Part: whole\n",
      "Protocol #1 Error (MPJPE): 33.17149596589532 mm\n",
      "Protocol #2 Error (P-MPJPE): 20.600891182041828 mm\n",
      "----------------------------------------\n"
     ]
    }
   ],
   "source": [
    "e1, e2, results_all, inputs_all, gts_all, total_result_dict = evaluate(args, model_pos, test_loader, datareader, checkpoint, only_one_batch=False)"
   ]
  },
  {
   "cell_type": "markdown",
   "metadata": {},
   "source": [
    "### Evaluate and save all experiments"
   ]
  },
  {
   "cell_type": "code",
   "execution_count": 3,
   "metadata": {},
   "outputs": [
    {
     "name": "stdout",
     "output_type": "stream",
     "text": [
      "[Result not found] MB_train_h36m_gt_cam_no_factor - 3DHP-GT-CAM_NO_FACTOR-TEST_TS1_6_UNIV\n",
      "[Result not found] MB_train_h36m_gt_cam_no_factor - 3DHP-GT-CAM_NO_FACTOR-TEST_ALL_TRAIN_UNIV\n",
      "[Need to be trained] MB_train_h36m_gt_cam_no_factor_input_from_canonical_3d_same_z_input_centering_steprot_3+original_tr_s1_ts_s5678\n",
      "[Need to be trained] MB_train_h36m_gt_cam_no_factor_input_from_canonical_3d_same_z_steprot_1_tr_s1_ts_s5678\n",
      "[Need to be trained] MB_train_h36m_gt_cam_no_factor_sinu_roll_m15_p273_tr_s1_ts_s5678\n",
      "[Result not found] MB_train_h36m_gt_cam_no_factor_steprot_0.5_s1+original_tr_s19_ts_s5678 - 3DHP-GT-CAM_NO_FACTOR-TEST_ALL_TRAIN_UNIV\n",
      "\n",
      "Checkpoints to evaluate:\n"
     ]
    },
    {
     "data": {
      "text/plain": [
       "['MB_train_h36m_gt_cam_no_factor',\n",
       " 'MB_train_h36m_gt_cam_no_factor_steprot_0.5_s1+original_tr_s19_ts_s5678']"
      ]
     },
     "execution_count": 3,
     "metadata": {},
     "output_type": "execute_result"
    }
   ],
   "source": [
    "result_list = os.listdir('saved_results')\n",
    "checkpoint_list = os.listdir('checkpoint/pose3d')\n",
    "whitelist_checkpoint = []\n",
    "for item in os.listdir('configs/pose3d'):\n",
    "    checkpoint = item.split('.yaml')[0]\n",
    "    if 'cam_no_factor' not in checkpoint: continue\n",
    "    if checkpoint in blacklist_checkpoint: continue\n",
    "    if checkpoint not in checkpoint_list: \n",
    "        print(f'[Need to be trained] {checkpoint}')\n",
    "        continue\n",
    "    if checkpoint not in experiment_list:\n",
    "        whitelist_checkpoint.append(checkpoint)\n",
    "        # create empty file\n",
    "        with open(f'experiments/{checkpoint}.txt', 'w') as f:\n",
    "            pass\n",
    "    else:\n",
    "        subset_list = []\n",
    "        with open(f'experiments/{checkpoint}.txt', 'r') as f:\n",
    "            lines = f.readlines()\n",
    "            for line in lines:\n",
    "                subset = line.split('\\n')[0]\n",
    "                subset_list.append(subset)\n",
    "        if len(subset_list) == 0:\n",
    "            print(f'[No subset found] {checkpoint}')\n",
    "            whitelist_checkpoint.append(checkpoint)\n",
    "        for subset in subset_list:\n",
    "            if not os.path.exists(f'saved_results/{checkpoint}/{subset}.pkl'):\n",
    "                print(f'[Result not found] {checkpoint} - {subset}')\n",
    "                if checkpoint not in whitelist_checkpoint: \n",
    "                    whitelist_checkpoint.append(checkpoint)\n",
    "                    \n",
    "print('\\nCheckpoints to evaluate:')\n",
    "whitelist_checkpoint"
   ]
  },
  {
   "cell_type": "code",
   "execution_count": 4,
   "metadata": {},
   "outputs": [
    {
     "name": "stdout",
     "output_type": "stream",
     "text": [
      "MB_train_h36m_gt_cam_no_factor_steprot_0.5_s1+original_tr_s19_ts_s5678\n",
      "Loading checkpoint checkpoint/pose3d/MB_train_h36m_gt_cam_no_factor_steprot_0.5_s1+original_tr_s19_ts_s5678/best_epoch.bin\n",
      "/home/hrai/codes/MotionBERT/saved_results/MB_train_h36m_gt_cam_no_factor_steprot_0.5_s1+original_tr_s19_ts_s5678/3DHP-GT-CAM_NO_FACTOR-TEST_ALL_TRAIN.pkl exists\n",
      "/home/hrai/codes/MotionBERT/saved_results/MB_train_h36m_gt_cam_no_factor_steprot_0.5_s1+original_tr_s19_ts_s5678/3DHP-GT-CAM_NO_FACTOR-TEST_TS1_6.pkl exists\n",
      "/home/hrai/codes/MotionBERT/saved_results/MB_train_h36m_gt_cam_no_factor_steprot_0.5_s1+original_tr_s19_ts_s5678/FIT3D-GT-CAM_NO_FACTOR-ALL_TEST.pkl exists\n",
      "/home/hrai/codes/MotionBERT/saved_results/MB_train_h36m_gt_cam_no_factor_steprot_0.5_s1+original_tr_s19_ts_s5678/H36M-GT-CAM_NO_FACTOR-TR_S1_TS_S5678.pkl exists\n",
      "/home/hrai/codes/MotionBERT/saved_results/MB_train_h36m_gt_cam_no_factor_steprot_0.5_s1+original_tr_s19_ts_s5678/3DHP-GT-CAM_NO_FACTOR-TEST_TS1_6_UNIV.pkl exists\n",
      "Loading dataset...\n",
      "3DHP-GT-CAM_NO_FACTOR-TEST_ALL_TRAIN_UNIV\n",
      "[overwrite: False] ==> Loading 3DHP source_list...\n",
      "[overwrite: False] ==> Loading 3DHP cam_param...\n",
      "[overwrite: False] ==> Loading 3DHP cam_3d...\n",
      "[overwrite: False] ==> Loading 3DHP img_2d...\n",
      "INFO: Testing\n",
      "No epoch information in the checkpoint\n"
     ]
    },
    {
     "name": "stderr",
     "output_type": "stream",
     "text": [
      "100%|██████████| 245/245 [01:25<00:00,  2.87it/s]\n"
     ]
    },
    {
     "name": "stdout",
     "output_type": "stream",
     "text": [
      "No eval_keypoint. Use part list\n",
      "Part: whole\n",
      "Protocol #1 Error (MPJPE): 87.74867676645937 mm\n",
      "Protocol #2 Error (P-MPJPE): 64.68921699660818 mm\n",
      "----------------------------------------\n",
      "MB_train_h36m_gt_cam_no_factor\n",
      "Loading checkpoint checkpoint/pose3d/MB_train_h36m_gt_cam_no_factor/best_epoch.bin\n",
      "/home/hrai/codes/MotionBERT/saved_results/MB_train_h36m_gt_cam_no_factor/3DHP-GT-CAM_NO_FACTOR-TEST_TS1_6.pkl exists\n",
      "/home/hrai/codes/MotionBERT/saved_results/MB_train_h36m_gt_cam_no_factor/FIT3D-GT-CAM_NO_FACTOR-ALL_TEST.pkl exists\n",
      "/home/hrai/codes/MotionBERT/saved_results/MB_train_h36m_gt_cam_no_factor/3DHP-GT-CAM_NO_FACTOR-TEST_ALL_TRAIN.pkl exists\n",
      "/home/hrai/codes/MotionBERT/saved_results/MB_train_h36m_gt_cam_no_factor/H36M-GT-CAM_NO_FACTOR.pkl exists\n",
      "Loading dataset...\n",
      "3DHP-GT-CAM_NO_FACTOR-TEST_TS1_6_UNIV\n",
      "[overwrite: False] ==> Loading 3DHP source_list...\n",
      "[overwrite: False] ==> Loading 3DHP cam_param...\n",
      "[overwrite: False] ==> Loading 3DHP cam_3d...\n",
      "[overwrite: False] ==> Loading 3DHP img_2d...\n",
      "INFO: Testing\n",
      "No epoch information in the checkpoint\n"
     ]
    },
    {
     "name": "stderr",
     "output_type": "stream",
     "text": [
      "100%|██████████| 6/6 [00:02<00:00,  2.26it/s]\n"
     ]
    },
    {
     "name": "stdout",
     "output_type": "stream",
     "text": [
      "No eval_keypoint. Use part list\n",
      "Part: whole\n",
      "Protocol #1 Error (MPJPE): 74.03650028232735 mm\n",
      "Protocol #2 Error (P-MPJPE): 55.90138662865625 mm\n",
      "----------------------------------------\n",
      "Loading dataset...\n",
      "3DHP-GT-CAM_NO_FACTOR-TEST_ALL_TRAIN_UNIV\n",
      "[overwrite: False] ==> Loading 3DHP source_list...\n",
      "[overwrite: False] ==> Loading 3DHP cam_param...\n",
      "[overwrite: False] ==> Loading 3DHP cam_3d...\n",
      "[overwrite: False] ==> Loading 3DHP img_2d...\n",
      "INFO: Testing\n",
      "No epoch information in the checkpoint\n"
     ]
    },
    {
     "name": "stderr",
     "output_type": "stream",
     "text": [
      "100%|██████████| 245/245 [01:21<00:00,  2.99it/s]\n"
     ]
    },
    {
     "name": "stdout",
     "output_type": "stream",
     "text": [
      "No eval_keypoint. Use part list\n",
      "Part: whole\n",
      "Protocol #1 Error (MPJPE): 90.28031533782419 mm\n",
      "Protocol #2 Error (P-MPJPE): 67.41652989743889 mm\n",
      "----------------------------------------\n"
     ]
    }
   ],
   "source": [
    "experiment_root = f'/home/{user}/codes/MotionBERT/experiments'\n",
    "for item in glob(experiment_root+'/*.txt'):\n",
    "    checkpoint = os.path.basename(item).split('.txt')[0]\n",
    "    if checkpoint in blacklist_checkpoint: continue\n",
    "    if len(whitelist_checkpoint) > 0 and checkpoint not in whitelist_checkpoint: continue\n",
    "    if 'cam_no_factor' not in checkpoint: continue\n",
    "    save_folder = f'/home/hrai/codes/MotionBERT/saved_results/{checkpoint}'\n",
    "    if not os.path.exists(save_folder): os.makedirs(save_folder)\n",
    "    \n",
    "    # load model\n",
    "    args, opts = get_opt_args_from_model_name(checkpoint, verbose=False)\n",
    "    model_pos, chk_filename, checkpoint = load_model(opts, args)\n",
    "    \n",
    "    subset_list = []\n",
    "    with open(item, 'r') as f:\n",
    "        lines = f.readlines()\n",
    "        for line in lines:\n",
    "            subset = line.strip()\n",
    "            subset_list.append(subset)\n",
    "    \n",
    "    for subset in subset_list:\n",
    "        save_path = os.path.join(save_folder, f'{subset}.pkl')\n",
    "        if os.path.exists(save_path): \n",
    "            print(f'{save_path} exists')\n",
    "            continue\n",
    "        try:\n",
    "            # load dataset\n",
    "            args.subset_list = [subset]\n",
    "            train_loader, test_loader, _, _, datareader = load_dataset(args, use_new_datareader=True)\n",
    "            # evaluation\n",
    "            e1, e2, results_all, inputs_all, gts_all, total_result_dict = evaluate(args, model_pos, test_loader, datareader, checkpoint, only_one_batch=False)\n",
    "            # save results\n",
    "            results_dict = {'results_all': results_all, 'gts_all': gts_all, 'inputs_all': inputs_all, 'total_result_dict': total_result_dict, 'e1': e1, 'e2': e2}\n",
    "            savepkl(results_dict, save_path)\n",
    "        except Exception as e:\n",
    "            print(f'Error: {e}')\n"
   ]
  },
  {
   "cell_type": "markdown",
   "metadata": {},
   "source": [
    "### Cherrypick e1, e1 -> result_dict.pkl"
   ]
  },
  {
   "cell_type": "code",
   "execution_count": 5,
   "metadata": {},
   "outputs": [
    {
     "name": "stdout",
     "output_type": "stream",
     "text": [
      "Loading result_dict.pkl\n"
     ]
    },
    {
     "name": "stderr",
     "output_type": "stream",
     "text": [
      "  0%|          | 0/76 [00:00<?, ?it/s]"
     ]
    },
    {
     "name": "stderr",
     "output_type": "stream",
     "text": [
      "100%|██████████| 76/76 [00:01<00:00, 69.95it/s]\n"
     ]
    }
   ],
   "source": [
    "blacklist_checkpoint = ['MB_train_h36m_gt_cam_no_factor_input_from_canonical_3d_same_z_s15678_tr_54138969_ts_others']\n",
    "\n",
    "if os.path.exists('result_dict.pkl'):\n",
    "    print('Loading result_dict.pkl')\n",
    "    result_dict = readpkl('result_dict.pkl')\n",
    "else:\n",
    "    result_dict = {}\n",
    "result_root = '/home/hrai/codes/MotionBERT/saved_results'\n",
    "checkpoint_list = os.listdir(result_root)\n",
    "for checkpoint in tqdm(checkpoint_list):\n",
    "    if checkpoint in blacklist_checkpoint: continue # skip\n",
    "    if checkpoint not in result_dict.keys(): result_dict[checkpoint] = {} # create new key if not exists\n",
    "    checkpoint_root = os.path.join(result_root, checkpoint)\n",
    "    subset_list = glob(checkpoint_root+'/*.pkl')\n",
    "    for item in subset_list:\n",
    "        subset = os.path.basename(item).split('.pkl')[0]\n",
    "        if subset in result_dict[checkpoint].keys(): \n",
    "            #print(f'{subset} exists')\n",
    "            continue\n",
    "        result = readpkl(item)\n",
    "        result_dict[checkpoint][subset] = {'e1': result['e1'], 'e2': result['e2']}\n",
    "savepkl(result_dict, 'result_dict.pkl')"
   ]
  },
  {
   "cell_type": "code",
   "execution_count": 5,
   "metadata": {},
   "outputs": [
    {
     "name": "stdout",
     "output_type": "stream",
     "text": [
      "+-------------------------------------------------------------------------------------------------------------------------------------------------------+--------------------------------------------------------------------------+--------+-------+\n",
      "|                                                                       Checkpoint                                                                      |                                  Subset                                  |   E1   |   E2  |\n",
      "+-------------------------------------------------------------------------------------------------------------------------------------------------------+--------------------------------------------------------------------------+--------+-------+\n",
      "|             MB_train_h36m_gt_cam_no_factor_input_from_canonical_3d_same_z_input_centering_steprot_1_sinu_pitch_m15_p273_sinu_roll_m15_p273            | 3DHP-GT-CAM_NO_FACTOR-INPUT_FROM_3D_CANONICAL_SAME_Z-TEST_ALL_TRAIN_UNIV | 64.83  | 54.33 |\n",
      "|                 MB_train_h36m_gt_cam_no_factor_input_from_canonical_3d_same_z_rand_yaw_m45_p100_rand_pitch_m45_p100_rand_roll_m30_p100                | 3DHP-GT-CAM_NO_FACTOR-INPUT_FROM_3D_CANONICAL_SAME_Z-TEST_ALL_TRAIN_UNIV | 69.28  | 56.00 |\n",
      "|     MB_train_h36m_gt_cam_no_factor_input_from_canonical_3d_same_z_input_centering_steprot_1_sinu_pitch_m30_p273_sinu_roll_m30_p273_tr_s1_ts_s5678     | 3DHP-GT-CAM_NO_FACTOR-INPUT_FROM_3D_CANONICAL_SAME_Z-TEST_ALL_TRAIN_UNIV | 72.39  | 58.51 |\n",
      "|    MB_train_h36m_gt_cam_no_factor_input_from_canonical_3d_same_z_input_centering_steprot_0.5_sinu_pitch_m15_p273_sinu_roll_m15_p273_tr_s1_ts_s5678    | 3DHP-GT-CAM_NO_FACTOR-INPUT_FROM_3D_CANONICAL_SAME_Z-TEST_ALL_TRAIN_UNIV | 72.57  | 58.40 |\n",
      "|            MB_train_h36m_gt_cam_no_factor_input_from_canonical_3d_same_z_steprot_0.5_sinu_pitch_m15_p273_sinu_roll_m15_p273_tr_s1_ts_s5678            | 3DHP-GT-CAM_NO_FACTOR-INPUT_FROM_3D_CANONICAL_SAME_Z-TEST_ALL_TRAIN_UNIV | 72.79  | 57.61 |\n",
      "| MB_train_h36m_gt_cam_no_factor_input_from_canonical_3d_same_z_input_centering_rand_yaw_m45_p100_rand_pitch_m45_p100_rand_roll_m30_p100_tr_s1_ts_s5678 | 3DHP-GT-CAM_NO_FACTOR-INPUT_FROM_3D_CANONICAL_SAME_Z-TEST_ALL_TRAIN_UNIV | 72.84  | 59.06 |\n",
      "|                                             MB_train_h36m_gt_cam_no_factor_input_from_canonical_3d_same_z                                             | 3DHP-GT-CAM_NO_FACTOR-INPUT_FROM_3D_CANONICAL_SAME_Z-TEST_ALL_TRAIN_UNIV | 72.88  | 58.30 |\n",
      "|     MB_train_h36m_gt_cam_no_factor_input_from_canonical_3d_same_z_input_centering_steprot_1_sinu_pitch_m15_p273_sinu_roll_m15_p273_tr_s1_ts_s5678     | 3DHP-GT-CAM_NO_FACTOR-INPUT_FROM_3D_CANONICAL_SAME_Z-TEST_ALL_TRAIN_UNIV | 74.93  | 60.33 |\n",
      "| MB_train_h36m_gt_cam_no_factor_input_from_canonical_3d_same_z_input_centering_rand_yaw_m90_p100_rand_pitch_m90_p100_rand_roll_m30_p100_tr_s1_ts_s5678 | 3DHP-GT-CAM_NO_FACTOR-INPUT_FROM_3D_CANONICAL_SAME_Z-TEST_ALL_TRAIN_UNIV | 76.29  | 60.37 |\n",
      "|                         MB_train_h36m_gt_cam_no_factor_input_from_canonical_3d_same_z_input_centering_steprot_1_tr_s1_ts_s5678                        | 3DHP-GT-CAM_NO_FACTOR-INPUT_FROM_3D_CANONICAL_SAME_Z-TEST_ALL_TRAIN_UNIV | 77.34  | 61.13 |\n",
      "|                     MB_train_h36m_gt_cam_no_factor_input_from_canonical_3d_same_z_steprot_1_sinu_pitch_m15_p273_sinu_roll_m15_p273                    | 3DHP-GT-CAM_NO_FACTOR-INPUT_FROM_3D_CANONICAL_SAME_Z-TEST_ALL_TRAIN_UNIV | 77.51  | 61.36 |\n",
      "|                                     MB_train_h36m_gt_cam_no_factor_input_from_canonical_3d_same_z_input_centering                                     | 3DHP-GT-CAM_NO_FACTOR-INPUT_FROM_3D_CANONICAL_SAME_Z-TEST_ALL_TRAIN_UNIV | 78.23  | 62.00 |\n",
      "|                        MB_train_h36m_gt_cam_no_factor_input_from_canonical_3d_same_z_input_centering_steprot_0.5_tr_s1_ts_s5678                       | 3DHP-GT-CAM_NO_FACTOR-INPUT_FROM_3D_CANONICAL_SAME_Z-TEST_ALL_TRAIN_UNIV | 78.65  | 61.28 |\n",
      "|                   MB_train_h36m_gt_cam_no_factor_input_from_canonical_3d_same_z_input_centering_steprot_1.5+original_tr_s1_ts_s5678                   | 3DHP-GT-CAM_NO_FACTOR-INPUT_FROM_3D_CANONICAL_SAME_Z-TEST_ALL_TRAIN_UNIV | 78.84  | 62.56 |\n",
      "|          MB_train_h36m_gt_cam_no_factor_input_from_canonical_3d_same_z_input_centering_sinu_pitch_m15_p273_sinu_roll_m15_p273_tr_s1_ts_s5678          | 3DHP-GT-CAM_NO_FACTOR-INPUT_FROM_3D_CANONICAL_SAME_Z-TEST_ALL_TRAIN_UNIV | 79.29  | 61.27 |\n",
      "|                    MB_train_h36m_gt_cam_no_factor_input_from_canonical_3d_same_z_input_centering_steprot_1+original_tr_s1_ts_s5678                    | 3DHP-GT-CAM_NO_FACTOR-INPUT_FROM_3D_CANONICAL_SAME_Z-TEST_ALL_TRAIN_UNIV | 79.73  | 62.88 |\n",
      "|                   MB_train_h36m_gt_cam_no_factor_input_from_canonical_3d_same_z_input_centering_steprot_0.5+original_tr_s1_ts_s5678                   | 3DHP-GT-CAM_NO_FACTOR-INPUT_FROM_3D_CANONICAL_SAME_Z-TEST_ALL_TRAIN_UNIV | 80.01  | 63.98 |\n",
      "|                    MB_train_h36m_gt_cam_no_factor_input_from_canonical_3d_same_z_input_centering_steprot_2+original_tr_s1_ts_s5678                    | 3DHP-GT-CAM_NO_FACTOR-INPUT_FROM_3D_CANONICAL_SAME_Z-TEST_ALL_TRAIN_UNIV | 80.16  | 62.42 |\n",
      "|                             MB_train_h36m_gt_cam_no_factor_input_from_canonical_3d_same_z_input_centering_tr_s19_ts_s5678                             | 3DHP-GT-CAM_NO_FACTOR-INPUT_FROM_3D_CANONICAL_SAME_Z-TEST_ALL_TRAIN_UNIV | 81.52  | 60.78 |\n",
      "|                        MB_train_h36m_gt_cam_no_factor_input_from_canonical_3d_same_z_input_centering_steprot_1.5_tr_s1_ts_s5678                       | 3DHP-GT-CAM_NO_FACTOR-INPUT_FROM_3D_CANONICAL_SAME_Z-TEST_ALL_TRAIN_UNIV | 83.56  | 61.95 |\n",
      "|                         MB_train_h36m_gt_cam_no_factor_input_from_canonical_3d_same_z_input_centering_steprot_2_tr_s1_ts_s5678                        | 3DHP-GT-CAM_NO_FACTOR-INPUT_FROM_3D_CANONICAL_SAME_Z-TEST_ALL_TRAIN_UNIV | 84.06  | 61.77 |\n",
      "|                  MB_train_h36m_gt_cam_no_factor_input_from_canonical_3d_same_z_input_centering_steprot_1_2_3+original_tr_s1_ts_s5678                  | 3DHP-GT-CAM_NO_FACTOR-INPUT_FROM_3D_CANONICAL_SAME_Z-TEST_ALL_TRAIN_UNIV | 86.16  | 66.94 |\n",
      "|            MB_train_h36m_gt_cam_no_factor_input_from_canonical_3d_same_z_input_centering_steprot_0.5_sinu_pitch_m15_p273_sinu_roll_m15_p273           | 3DHP-GT-CAM_NO_FACTOR-INPUT_FROM_3D_CANONICAL_SAME_Z-TEST_ALL_TRAIN_UNIV | 86.46  | 66.23 |\n",
      "|                MB_train_h36m_gt_cam_no_factor_input_from_canonical_3d_same_z_input_centering_steprot_0.5_1_1.5+original_tr_s1_ts_s5678                | 3DHP-GT-CAM_NO_FACTOR-INPUT_FROM_3D_CANONICAL_SAME_Z-TEST_ALL_TRAIN_UNIV | 87.67  | 70.61 |\n",
      "|                              MB_train_h36m_gt_cam_no_factor_input_from_canonical_3d_same_z_input_centering_tr_s1_ts_s5678                             | 3DHP-GT-CAM_NO_FACTOR-INPUT_FROM_3D_CANONICAL_SAME_Z-TEST_ALL_TRAIN_UNIV | 89.96  | 67.04 |\n",
      "|                                 MB_train_h36m_gt_cam_no_factor_input_from_canonical_3d_same_z_steprot_2_tr_s1_ts_s5678                                | 3DHP-GT-CAM_NO_FACTOR-INPUT_FROM_3D_CANONICAL_SAME_Z-TEST_ALL_TRAIN_UNIV | 91.39  | 67.39 |\n",
      "|         MB_train_h36m_gt_cam_no_factor_input_from_canonical_3d_same_z_input_centering_rand_yaw_m45_p100_rand_pitch_m45_p100_rand_roll_m30_p100        | 3DHP-GT-CAM_NO_FACTOR-INPUT_FROM_3D_CANONICAL_SAME_Z-TEST_ALL_TRAIN_UNIV | 92.44  | 68.28 |\n",
      "|                                      MB_train_h36m_gt_cam_no_factor_input_from_canonical_3d_same_z_tr_s1_ts_s5678                                     | 3DHP-GT-CAM_NO_FACTOR-INPUT_FROM_3D_CANONICAL_SAME_Z-TEST_ALL_TRAIN_UNIV | 96.29  | 71.61 |\n",
      "|                         MB_train_h36m_gt_cam_no_factor_input_from_canonical_3d_same_z_input_centering_steprot_3_tr_s1_ts_s5678                        | 3DHP-GT-CAM_NO_FACTOR-INPUT_FROM_3D_CANONICAL_SAME_Z-TEST_ALL_TRAIN_UNIV | 97.94  | 69.43 |\n",
      "|             MB_train_h36m_gt_cam_no_factor_input_from_canonical_3d_same_z_input_centering_steprot_1_sinu_pitch_m15_p273_sinu_roll_m15_p273            |   3DHP-GT-CAM_NO_FACTOR-INPUT_FROM_3D_CANONICAL_SAME_Z-TEST_TS1_6_UNIV   | 57.44  | 49.95 |\n",
      "|                                             MB_train_h36m_gt_cam_no_factor_input_from_canonical_3d_same_z                                             |   3DHP-GT-CAM_NO_FACTOR-INPUT_FROM_3D_CANONICAL_SAME_Z-TEST_TS1_6_UNIV   | 58.91  | 47.84 |\n",
      "|                 MB_train_h36m_gt_cam_no_factor_input_from_canonical_3d_same_z_rand_yaw_m45_p100_rand_pitch_m45_p100_rand_roll_m30_p100                |   3DHP-GT-CAM_NO_FACTOR-INPUT_FROM_3D_CANONICAL_SAME_Z-TEST_TS1_6_UNIV   | 60.69  | 49.26 |\n",
      "|    MB_train_h36m_gt_cam_no_factor_input_from_canonical_3d_same_z_input_centering_steprot_0.5_sinu_pitch_m15_p273_sinu_roll_m15_p273_tr_s1_ts_s5678    |   3DHP-GT-CAM_NO_FACTOR-INPUT_FROM_3D_CANONICAL_SAME_Z-TEST_TS1_6_UNIV   | 62.74  | 51.53 |\n",
      "|            MB_train_h36m_gt_cam_no_factor_input_from_canonical_3d_same_z_steprot_0.5_sinu_pitch_m15_p273_sinu_roll_m15_p273_tr_s1_ts_s5678            |   3DHP-GT-CAM_NO_FACTOR-INPUT_FROM_3D_CANONICAL_SAME_Z-TEST_TS1_6_UNIV   | 63.52  | 52.36 |\n",
      "|     MB_train_h36m_gt_cam_no_factor_input_from_canonical_3d_same_z_input_centering_steprot_1_sinu_pitch_m15_p273_sinu_roll_m15_p273_tr_s1_ts_s5678     |   3DHP-GT-CAM_NO_FACTOR-INPUT_FROM_3D_CANONICAL_SAME_Z-TEST_TS1_6_UNIV   | 63.95  | 53.23 |\n",
      "|                        MB_train_h36m_gt_cam_no_factor_input_from_canonical_3d_same_z_input_centering_steprot_0.5_tr_s1_ts_s5678                       |   3DHP-GT-CAM_NO_FACTOR-INPUT_FROM_3D_CANONICAL_SAME_Z-TEST_TS1_6_UNIV   | 65.13  | 53.52 |\n",
      "|     MB_train_h36m_gt_cam_no_factor_input_from_canonical_3d_same_z_input_centering_steprot_1_sinu_pitch_m30_p273_sinu_roll_m30_p273_tr_s1_ts_s5678     |   3DHP-GT-CAM_NO_FACTOR-INPUT_FROM_3D_CANONICAL_SAME_Z-TEST_TS1_6_UNIV   | 65.36  | 54.01 |\n",
      "|                         MB_train_h36m_gt_cam_no_factor_input_from_canonical_3d_same_z_input_centering_steprot_1_tr_s1_ts_s5678                        |   3DHP-GT-CAM_NO_FACTOR-INPUT_FROM_3D_CANONICAL_SAME_Z-TEST_TS1_6_UNIV   | 65.45  | 54.65 |\n",
      "| MB_train_h36m_gt_cam_no_factor_input_from_canonical_3d_same_z_input_centering_rand_yaw_m45_p100_rand_pitch_m45_p100_rand_roll_m30_p100_tr_s1_ts_s5678 |   3DHP-GT-CAM_NO_FACTOR-INPUT_FROM_3D_CANONICAL_SAME_Z-TEST_TS1_6_UNIV   | 66.79  | 55.05 |\n",
      "|                                     MB_train_h36m_gt_cam_no_factor_input_from_canonical_3d_same_z_input_centering                                     |   3DHP-GT-CAM_NO_FACTOR-INPUT_FROM_3D_CANONICAL_SAME_Z-TEST_TS1_6_UNIV   | 67.32  | 52.26 |\n",
      "|                   MB_train_h36m_gt_cam_no_factor_input_from_canonical_3d_same_z_input_centering_steprot_1.5+original_tr_s1_ts_s5678                   |   3DHP-GT-CAM_NO_FACTOR-INPUT_FROM_3D_CANONICAL_SAME_Z-TEST_TS1_6_UNIV   | 70.90  | 55.02 |\n",
      "|          MB_train_h36m_gt_cam_no_factor_input_from_canonical_3d_same_z_input_centering_sinu_pitch_m15_p273_sinu_roll_m15_p273_tr_s1_ts_s5678          |   3DHP-GT-CAM_NO_FACTOR-INPUT_FROM_3D_CANONICAL_SAME_Z-TEST_TS1_6_UNIV   | 71.03  | 56.45 |\n",
      "| MB_train_h36m_gt_cam_no_factor_input_from_canonical_3d_same_z_input_centering_rand_yaw_m90_p100_rand_pitch_m90_p100_rand_roll_m30_p100_tr_s1_ts_s5678 |   3DHP-GT-CAM_NO_FACTOR-INPUT_FROM_3D_CANONICAL_SAME_Z-TEST_TS1_6_UNIV   | 72.10  | 56.73 |\n",
      "|                             MB_train_h36m_gt_cam_no_factor_input_from_canonical_3d_same_z_input_centering_tr_s19_ts_s5678                             |   3DHP-GT-CAM_NO_FACTOR-INPUT_FROM_3D_CANONICAL_SAME_Z-TEST_TS1_6_UNIV   | 72.53  | 53.72 |\n",
      "|                         MB_train_h36m_gt_cam_no_factor_input_from_canonical_3d_same_z_input_centering_steprot_2_tr_s1_ts_s5678                        |   3DHP-GT-CAM_NO_FACTOR-INPUT_FROM_3D_CANONICAL_SAME_Z-TEST_TS1_6_UNIV   | 72.94  | 57.11 |\n",
      "|                        MB_train_h36m_gt_cam_no_factor_input_from_canonical_3d_same_z_input_centering_steprot_1.5_tr_s1_ts_s5678                       |   3DHP-GT-CAM_NO_FACTOR-INPUT_FROM_3D_CANONICAL_SAME_Z-TEST_TS1_6_UNIV   | 73.47  | 57.93 |\n",
      "|                   MB_train_h36m_gt_cam_no_factor_input_from_canonical_3d_same_z_input_centering_steprot_0.5+original_tr_s1_ts_s5678                   |   3DHP-GT-CAM_NO_FACTOR-INPUT_FROM_3D_CANONICAL_SAME_Z-TEST_TS1_6_UNIV   | 73.57  | 57.53 |\n",
      "|                    MB_train_h36m_gt_cam_no_factor_input_from_canonical_3d_same_z_input_centering_steprot_2+original_tr_s1_ts_s5678                    |   3DHP-GT-CAM_NO_FACTOR-INPUT_FROM_3D_CANONICAL_SAME_Z-TEST_TS1_6_UNIV   | 74.24  | 55.98 |\n",
      "|                    MB_train_h36m_gt_cam_no_factor_input_from_canonical_3d_same_z_input_centering_steprot_1+original_tr_s1_ts_s5678                    |   3DHP-GT-CAM_NO_FACTOR-INPUT_FROM_3D_CANONICAL_SAME_Z-TEST_TS1_6_UNIV   | 74.96  | 56.68 |\n",
      "|                                      MB_train_h36m_gt_cam_no_factor_input_from_canonical_3d_same_z_tr_s1_ts_s5678                                     |   3DHP-GT-CAM_NO_FACTOR-INPUT_FROM_3D_CANONICAL_SAME_Z-TEST_TS1_6_UNIV   | 75.65  | 62.38 |\n",
      "|                     MB_train_h36m_gt_cam_no_factor_input_from_canonical_3d_same_z_steprot_1_sinu_pitch_m15_p273_sinu_roll_m15_p273                    |   3DHP-GT-CAM_NO_FACTOR-INPUT_FROM_3D_CANONICAL_SAME_Z-TEST_TS1_6_UNIV   | 75.75  | 57.09 |\n",
      "|                              MB_train_h36m_gt_cam_no_factor_input_from_canonical_3d_same_z_input_centering_tr_s1_ts_s5678                             |   3DHP-GT-CAM_NO_FACTOR-INPUT_FROM_3D_CANONICAL_SAME_Z-TEST_TS1_6_UNIV   | 76.81  | 61.09 |\n",
      "|                MB_train_h36m_gt_cam_no_factor_input_from_canonical_3d_same_z_input_centering_steprot_0.5_1_1.5+original_tr_s1_ts_s5678                |   3DHP-GT-CAM_NO_FACTOR-INPUT_FROM_3D_CANONICAL_SAME_Z-TEST_TS1_6_UNIV   | 78.99  | 61.57 |\n",
      "|                                 MB_train_h36m_gt_cam_no_factor_input_from_canonical_3d_same_z_steprot_2_tr_s1_ts_s5678                                |   3DHP-GT-CAM_NO_FACTOR-INPUT_FROM_3D_CANONICAL_SAME_Z-TEST_TS1_6_UNIV   | 79.78  | 61.14 |\n",
      "|                  MB_train_h36m_gt_cam_no_factor_input_from_canonical_3d_same_z_input_centering_steprot_1_2_3+original_tr_s1_ts_s5678                  |   3DHP-GT-CAM_NO_FACTOR-INPUT_FROM_3D_CANONICAL_SAME_Z-TEST_TS1_6_UNIV   | 82.25  | 61.17 |\n",
      "|            MB_train_h36m_gt_cam_no_factor_input_from_canonical_3d_same_z_input_centering_steprot_0.5_sinu_pitch_m15_p273_sinu_roll_m15_p273           |   3DHP-GT-CAM_NO_FACTOR-INPUT_FROM_3D_CANONICAL_SAME_Z-TEST_TS1_6_UNIV   | 82.98  | 60.95 |\n",
      "|         MB_train_h36m_gt_cam_no_factor_input_from_canonical_3d_same_z_input_centering_rand_yaw_m45_p100_rand_pitch_m45_p100_rand_roll_m30_p100        |   3DHP-GT-CAM_NO_FACTOR-INPUT_FROM_3D_CANONICAL_SAME_Z-TEST_TS1_6_UNIV   | 83.20  | 57.92 |\n",
      "|                         MB_train_h36m_gt_cam_no_factor_input_from_canonical_3d_same_z_input_centering_steprot_3_tr_s1_ts_s5678                        |   3DHP-GT-CAM_NO_FACTOR-INPUT_FROM_3D_CANONICAL_SAME_Z-TEST_TS1_6_UNIV   | 90.37  | 66.04 |\n",
      "|                                   MB_train_h36m_gt_cam_no_factor_steprot_0.5_sinu_pitch_m15_p273_sinu_roll_m15_p273                                   |                3DHP-GT-CAM_NO_FACTOR-TEST_ALL_TRAIN_UNIV                 | 86.84  | 62.08 |\n",
      "|                                           MB_train_h36m_gt_cam_no_factor_steprot_0.5+original_tr_s1_ts_s5678                                          |                3DHP-GT-CAM_NO_FACTOR-TEST_ALL_TRAIN_UNIV                 | 89.93  | 64.56 |\n",
      "|                                        MB_train_h36m_gt_cam_no_factor_steprot_0.5_1_1.5+original_tr_s1_ts_s5678                                       |                3DHP-GT-CAM_NO_FACTOR-TEST_ALL_TRAIN_UNIV                 | 90.22  | 68.48 |\n",
      "|                                           MB_train_h36m_gt_cam_no_factor_steprot_1.5+original_tr_s1_ts_s5678                                          |                3DHP-GT-CAM_NO_FACTOR-TEST_ALL_TRAIN_UNIV                 | 90.46  | 66.08 |\n",
      "|                                               MB_train_h36m_gt_cam_no_factor_steprot_0.5_tr_s1_ts_s5678                                               |                3DHP-GT-CAM_NO_FACTOR-TEST_ALL_TRAIN_UNIV                 | 91.43  | 63.94 |\n",
      "|                         MB_train_h36m_gt_cam_no_factor_rand_yaw_m45_p100_rand_pitch_m45_p100_rand_roll_m30_p100_tr_s1_ts_s5678                        |                3DHP-GT-CAM_NO_FACTOR-TEST_ALL_TRAIN_UNIV                 | 92.78  | 64.85 |\n",
      "|                                                     MB_train_h36m_gt_cam_no_factor_tr_s19_ts_s5678                                                    |                3DHP-GT-CAM_NO_FACTOR-TEST_ALL_TRAIN_UNIV                 | 93.42  | 62.83 |\n",
      "|                            MB_train_h36m_gt_cam_no_factor_steprot_0.5_sinu_pitch_m15_p273_sinu_roll_m15_p273_tr_s1_ts_s5678                           |                3DHP-GT-CAM_NO_FACTOR-TEST_ALL_TRAIN_UNIV                 | 94.75  | 65.10 |\n",
      "|                                           MB_train_h36m_gt_cam_no_factor_sinu_pitch_m15_p273_tr_s1_ts_s5678                                           |                3DHP-GT-CAM_NO_FACTOR-TEST_ALL_TRAIN_UNIV                 | 96.23  | 67.38 |\n",
      "|                                                MB_train_h36m_gt_cam_no_factor_steprot_1_tr_s1_ts_s5678                                                |                3DHP-GT-CAM_NO_FACTOR-TEST_ALL_TRAIN_UNIV                 | 96.29  | 65.99 |\n",
      "|                                  MB_train_h36m_gt_cam_no_factor_sinu_pitch_m15_p273_sinu_roll_m15_p273_tr_s1_ts_s5678                                 |                3DHP-GT-CAM_NO_FACTOR-TEST_ALL_TRAIN_UNIV                 | 99.69  | 68.39 |\n",
      "|                                               MB_train_h36m_gt_cam_no_factor_steprot_1.5_tr_s1_ts_s5678                                               |                3DHP-GT-CAM_NO_FACTOR-TEST_ALL_TRAIN_UNIV                 | 104.85 | 70.40 |\n",
      "|                                            MB_train_h36m_gt_cam_no_factor_steprot_1+original_tr_s1_ts_s5678                                           |                3DHP-GT-CAM_NO_FACTOR-TEST_ALL_TRAIN_UNIV                 | 108.92 | 58.65 |\n",
      "|                                                     MB_train_h36m_gt_cam_no_factor_tr_s1_ts_s5678                                                     |                3DHP-GT-CAM_NO_FACTOR-TEST_ALL_TRAIN_UNIV                 | 116.68 | 78.36 |\n",
      "|                                         MB_train_h36m_gt_cam_no_factor_steprot_0.5_s1+original_tr_s19_ts_s5678                                        |                  3DHP-GT-CAM_NO_FACTOR-TEST_TS1_6_UNIV                   | 76.41  | 56.91 |\n",
      "|                                   MB_train_h36m_gt_cam_no_factor_steprot_0.5_sinu_pitch_m15_p273_sinu_roll_m15_p273                                   |                  3DHP-GT-CAM_NO_FACTOR-TEST_TS1_6_UNIV                   | 76.71  | 56.42 |\n",
      "|                                               MB_train_h36m_gt_cam_no_factor_steprot_0.5_tr_s1_ts_s5678                                               |                  3DHP-GT-CAM_NO_FACTOR-TEST_TS1_6_UNIV                   | 77.08  | 58.27 |\n",
      "|                                           MB_train_h36m_gt_cam_no_factor_steprot_0.5+original_tr_s1_ts_s5678                                          |                  3DHP-GT-CAM_NO_FACTOR-TEST_TS1_6_UNIV                   | 77.60  | 59.36 |\n",
      "|                                           MB_train_h36m_gt_cam_no_factor_steprot_1.5+original_tr_s1_ts_s5678                                          |                  3DHP-GT-CAM_NO_FACTOR-TEST_TS1_6_UNIV                   | 79.60  | 59.71 |\n",
      "|                            MB_train_h36m_gt_cam_no_factor_steprot_0.5_sinu_pitch_m15_p273_sinu_roll_m15_p273_tr_s1_ts_s5678                           |                  3DHP-GT-CAM_NO_FACTOR-TEST_TS1_6_UNIV                   | 79.82  | 58.82 |\n",
      "|                                                     MB_train_h36m_gt_cam_no_factor_tr_s19_ts_s5678                                                    |                  3DHP-GT-CAM_NO_FACTOR-TEST_TS1_6_UNIV                   | 80.14  | 56.54 |\n",
      "|                                                MB_train_h36m_gt_cam_no_factor_steprot_1_tr_s1_ts_s5678                                                |                  3DHP-GT-CAM_NO_FACTOR-TEST_TS1_6_UNIV                   | 80.96  | 58.62 |\n",
      "|                                        MB_train_h36m_gt_cam_no_factor_steprot_0.5_1_1.5+original_tr_s1_ts_s5678                                       |                  3DHP-GT-CAM_NO_FACTOR-TEST_TS1_6_UNIV                   | 81.03  | 62.31 |\n",
      "|                                           MB_train_h36m_gt_cam_no_factor_sinu_pitch_m15_p273_tr_s1_ts_s5678                                           |                  3DHP-GT-CAM_NO_FACTOR-TEST_TS1_6_UNIV                   | 83.34  | 63.02 |\n",
      "|                         MB_train_h36m_gt_cam_no_factor_rand_yaw_m45_p100_rand_pitch_m45_p100_rand_roll_m30_p100_tr_s1_ts_s5678                        |                  3DHP-GT-CAM_NO_FACTOR-TEST_TS1_6_UNIV                   | 85.03  | 62.19 |\n",
      "|                                  MB_train_h36m_gt_cam_no_factor_sinu_pitch_m15_p273_sinu_roll_m15_p273_tr_s1_ts_s5678                                 |                  3DHP-GT-CAM_NO_FACTOR-TEST_TS1_6_UNIV                   | 85.20  | 61.63 |\n",
      "|                                               MB_train_h36m_gt_cam_no_factor_steprot_1.5_tr_s1_ts_s5678                                               |                  3DHP-GT-CAM_NO_FACTOR-TEST_TS1_6_UNIV                   | 93.03  | 64.24 |\n",
      "|                                                     MB_train_h36m_gt_cam_no_factor_tr_s1_ts_s5678                                                     |                  3DHP-GT-CAM_NO_FACTOR-TEST_TS1_6_UNIV                   | 93.92  | 66.61 |\n",
      "|                                            MB_train_h36m_gt_cam_no_factor_steprot_1+original_tr_s1_ts_s5678                                           |                  3DHP-GT-CAM_NO_FACTOR-TEST_TS1_6_UNIV                   | 94.93  | 56.00 |\n",
      "+-------------------------------------------------------------------------------------------------------------------------------------------------------+--------------------------------------------------------------------------+--------+-------+\n"
     ]
    }
   ],
   "source": [
    "import prettytable\n",
    "\n",
    "# PrettyTable 객체 생성 및 필드 설정\n",
    "pt = prettytable.PrettyTable()\n",
    "pt.field_names = ['Checkpoint', 'Subset', 'E1', 'E2']\n",
    "\n",
    "# 데이터를 리스트에 수집\n",
    "data = []\n",
    "for key in result_dict.keys():\n",
    "    for subset in result_dict[key].keys():\n",
    "        if 'UNIV' not in subset: \n",
    "            continue\n",
    "        e1 = float(result_dict[key][subset]['e1'])\n",
    "        e2 = float(result_dict[key][subset]['e2'])\n",
    "        data.append([key, subset, e1, e2])\n",
    "\n",
    "# 데이터를 Subset 1순위, E1 2순위로 정렬\n",
    "data_sorted = sorted(data, key=lambda x: (x[1], x[2]))\n",
    "\n",
    "# 정렬된 데이터를 테이블에 추가\n",
    "for row in data_sorted:\n",
    "    pt.add_row([row[0], row[1], f'{row[2]:.2f}', f'{row[3]:.2f}'])\n",
    "\n",
    "# 테이블 출력\n",
    "print(pt)\n"
   ]
  }
 ],
 "metadata": {
  "kernelspec": {
   "display_name": "motionbert",
   "language": "python",
   "name": "python3"
  },
  "language_info": {
   "codemirror_mode": {
    "name": "ipython",
    "version": 3
   },
   "file_extension": ".py",
   "mimetype": "text/x-python",
   "name": "python",
   "nbconvert_exporter": "python",
   "pygments_lexer": "ipython3",
   "version": "3.9.18"
  }
 },
 "nbformat": 4,
 "nbformat_minor": 2
}
