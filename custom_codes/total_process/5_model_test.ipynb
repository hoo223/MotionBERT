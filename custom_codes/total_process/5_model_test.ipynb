{
 "cells": [
  {
   "cell_type": "code",
   "execution_count": 2,
   "metadata": {},
   "outputs": [],
   "source": [
    "%load_ext autoreload\n",
    "%autoreload 2\n",
    "%matplotlib widget\n",
    "from common import *"
   ]
  },
  {
   "cell_type": "markdown",
   "metadata": {},
   "source": [
    "### Evaluate single experiment"
   ]
  },
  {
   "cell_type": "code",
   "execution_count": 3,
   "metadata": {},
   "outputs": [
    {
     "name": "stdout",
     "output_type": "stream",
     "text": [
      "configs/pose3d/MB_train_h36m_gt_cam_no_factor_input_from_canonical_3d_same_z_input_centering_tr_s1_ts_s5678.yaml\n",
      "True\n",
      "MB_train_h36m_gt_cam_no_factor_input_from_canonical_3d_same_z_input_centering_tr_s1_ts_s5678\n",
      "Loading checkpoint checkpoint/pose3d/MB_train_h36m_gt_cam_no_factor_input_from_canonical_3d_same_z_input_centering_tr_s1_ts_s5678/best_epoch.bin\n",
      "Loading dataset...\n",
      "H36M-GT-CAM_NO_FACTOR-INPUT_FROM_3D_CANONICAL_SAME_Z-TR_S1_TS_S5678\n",
      "[overwrite: False] ==> Loading H36M source_list...\n",
      "[overwrite: False] ==> Loading H36M cam_param...\n",
      "[overwrite: False] ==> Loading H36M cam_3d_same_z...\n",
      "[overwrite: False] ==> Loading H36M img_2d_canonical_same_z...\n",
      "[overwrite: False] ==> Loading H36M cam_3d_canonical_same_z...\n"
     ]
    }
   ],
   "source": [
    "checkpoint = 'MB_train_h36m_gt_cam_no_factor_input_from_canonical_3d_same_z_input_centering_tr_s1_ts_s5678'\n",
    "args, opts = get_opt_args_from_model_name(checkpoint)\n",
    "model_pos, chk_filename, checkpoint = load_model(opts, args)\n",
    "\n",
    "subset = 'H36M-GT-CAM_NO_FACTOR-INPUT_FROM_3D_CANONICAL_SAME_Z-TR_S1_TS_S5678'\n",
    "args.subset_list = [subset]\n",
    "train_loader, test_loader, _, _, datareader = load_dataset(args, use_new_datareader=True)\n",
    "\n",
    "# if '3DHP' in subset:\n",
    "#     args.eval_part = 'whole_without_nose'\n",
    "#     args.part_list = ['whole_without_nose']"
   ]
  },
  {
   "cell_type": "code",
   "execution_count": 6,
   "metadata": {},
   "outputs": [
    {
     "name": "stdout",
     "output_type": "stream",
     "text": [
      "INFO: Testing\n",
      "No epoch information in the checkpoint\n"
     ]
    },
    {
     "name": "stderr",
     "output_type": "stream",
     "text": [
      "  0%|          | 0/411 [00:00<?, ?it/s]"
     ]
    },
    {
     "name": "stderr",
     "output_type": "stream",
     "text": [
      "100%|██████████| 411/411 [04:14<00:00,  1.61it/s]\n"
     ]
    },
    {
     "name": "stdout",
     "output_type": "stream",
     "text": [
      "No eval_keypoint. Use part list\n",
      "Part: whole\n",
      "+------------+-------------------+-------------------+--------------------+--------------------+--------------------+-------------------+--------------------+--------------------+--------------------+-----------------------+------------------------+-----------------------+---------------------+----------------------------------+------------------------+--------------------+--------------------+--------------------+---------------------------------+-------------------+-----------------------------+----------------------+--------------------+--------------------+--------------------+--------------------+--------------------+--------------------+-------------------+-------------------+-------------------+--------------------+--------------------+--------------------+--------------------+--------------------+--------------------+--------------------+--------------------+--------------------+--------------------+-------------------+--------------------+-------------------+-------------------+-------------------+-------------------+\n",
      "| test_name  |  band_pull_apart  |  barbell_dead_row |    barbell_row     |   barbell_shrug    |      burpees       |  clean_and_press  |      deadlift      |   diamond_pushup   |     drag_curl      | dumbbell_biceps_curls | dumbbell_curl_trifecta | dumbbell_hammer_curls | dumbbell_high_pulls | dumbbell_overhead_shoulder_press | dumbbell_reverse_lunge | dumbbell_scaptions |     man_maker      |     mule_kick      | neutral_overhead_shoulder_press |    one_arm_row    | overhead_extension_thruster | overhead_trap_raises |       pushup       | side_lateral_raise |       squat        | standing_ab_twists |      w_raise       |    walk_the_box    |      warmup_1     |     warmup_10     |     warmup_11     |     warmup_12      |     warmup_13      |     warmup_14      |     warmup_15      |     warmup_16      |     warmup_17      |     warmup_18      |     warmup_19      |      warmup_2      |      warmup_3      |      warmup_4     |      warmup_5      |      warmup_6     |      warmup_7     |      warmup_8     |      warmup_9     |\n",
      "+------------+-------------------+-------------------+--------------------+--------------------+--------------------+-------------------+--------------------+--------------------+--------------------+-----------------------+------------------------+-----------------------+---------------------+----------------------------------+------------------------+--------------------+--------------------+--------------------+---------------------------------+-------------------+-----------------------------+----------------------+--------------------+--------------------+--------------------+--------------------+--------------------+--------------------+-------------------+-------------------+-------------------+--------------------+--------------------+--------------------+--------------------+--------------------+--------------------+--------------------+--------------------+--------------------+--------------------+-------------------+--------------------+-------------------+-------------------+-------------------+-------------------+\n",
      "| P1 (whole) |  82.2527120689562 | 324.2836184958012 | 235.00514708076307 | 125.59008762070182 | 307.72330575191796 | 129.8758289797974 | 188.21577590364925 | 215.8583013743875  | 253.80755170778116 |   86.84812812432713   |   82.69200514243438    |   83.79708141060273   |  104.72234887647565 |        82.32945907101512         |   127.48174240053947   |  78.0770423824096  |  286.561346899316  | 335.53525610544204 |         79.6894175594949        | 166.0409918836475 |      113.64576658923495     |  78.44375542073792   | 232.08299883333146 | 122.02050800847353 | 171.2114363957752  | 119.55346274048102 | 127.73436667011649 | 177.86754868046984 | 318.3328785336139 | 78.73939192061749 |  78.8984820214659 | 194.24392161107681 | 227.8481269593203  | 107.93119884218439 | 107.84389683332277 | 123.56825118328976 | 80.30230434739946  | 142.7390255628187  | 173.49659733374085 | 115.79947026510081 | 111.02280031496758 |  86.638275952036  | 308.69384350772714 | 78.31776171707192 |  77.6174433399633 | 78.99775002038164 | 82.86399719916905 |\n",
      "| P2 (whole) | 59.38640785062462 | 158.2864797914223 | 125.19183697644448 | 70.56914273848679  | 184.74932041893288 |  93.7614179552721 | 102.52905389015545 | 134.60479342208356 | 136.40138848724774 |   60.11372730574734   |   55.016705472180185   |   57.31320362417906   |   67.9811045042228  |        59.26255304297438         |   109.05330716417795   | 57.21503219910339  | 178.52056758969778 | 185.83406386678467 |         59.3109094549086        | 106.9974006070792 |      92.64193750080959      |   61.1292221456885   | 146.9009863494915  | 81.91521696695949  | 111.74476417999085 | 103.09952229053036 | 86.16279268621112  | 120.96886706183888 | 188.7208668103329 | 59.21337071642142 | 58.11564602594685 | 127.8324517701492  | 120.77529818738813 | 87.66189841746787  | 86.59825496510277  | 114.72808364859536 | 57.506641860614565 | 102.45415734726255 | 123.17627393272618 | 104.50943711188225 | 92.36475715704773  | 68.72757630953186 | 184.3241400344867  |  49.1767877531804 | 59.43300535276804 | 51.97736615603938 | 64.10656357303021 |\n",
      "+------------+-------------------+-------------------+--------------------+--------------------+--------------------+-------------------+--------------------+--------------------+--------------------+-----------------------+------------------------+-----------------------+---------------------+----------------------------------+------------------------+--------------------+--------------------+--------------------+---------------------------------+-------------------+-----------------------------+----------------------+--------------------+--------------------+--------------------+--------------------+--------------------+--------------------+-------------------+-------------------+-------------------+--------------------+--------------------+--------------------+--------------------+--------------------+--------------------+--------------------+--------------------+--------------------+--------------------+-------------------+--------------------+-------------------+-------------------+-------------------+-------------------+\n",
      "Protocol #1 Error (MPJPE): 150.9115406307095 mm\n",
      "Protocol #2 Error (P-MPJPE): 99.32051707815363 mm\n",
      "----------------------------------------\n"
     ]
    }
   ],
   "source": [
    "e1, e2, results_all, inputs_all, gts_all, total_result_dict = evaluate(args, model_pos, test_loader, datareader, checkpoint, only_one_batch=False)"
   ]
  },
  {
   "cell_type": "markdown",
   "metadata": {},
   "source": [
    "### Evaluate and save all experiments"
   ]
  },
  {
   "cell_type": "code",
   "execution_count": 3,
   "metadata": {},
   "outputs": [
    {
     "name": "stdout",
     "output_type": "stream",
     "text": [
      "MB_train_h36m_gt_cam_no_factor_input_from_canonical_3d_same_z_input_centering_steprot_1_tr_s1_ts_s5678 - FIT3D-GT-CAM_NO_FACTOR-INPUT_FROM_3D_CANONICAL_SAME_Z-ALL_TEST not found\n",
      "\n",
      "Checkpoints to evaluate:\n"
     ]
    },
    {
     "data": {
      "text/plain": [
       "['MB_train_h36m_gt_cam_no_factor_input_from_canonical_3d_same_z_input_centering_steprot_1_tr_s1_ts_s5678']"
      ]
     },
     "execution_count": 3,
     "metadata": {},
     "output_type": "execute_result"
    }
   ],
   "source": [
    "result_list = os.listdir('saved_results')\n",
    "whitelist_checkpoint = []\n",
    "for item in os.listdir('configs/pose3d'):\n",
    "    checkpoint = item.split('.')[0]\n",
    "    if 'cam_no_factor' not in checkpoint: continue\n",
    "    if checkpoint in blacklist_checkpoint: continue\n",
    "    if checkpoint not in experiment_list:\n",
    "        whitelist_checkpoint.append(checkpoint)\n",
    "    else:\n",
    "        subset_list = []\n",
    "        with open(f'experiments/{checkpoint}.txt', 'r') as f:\n",
    "            lines = f.readlines()\n",
    "            for line in lines:\n",
    "                subset = line.split('\\n')[0]\n",
    "                subset_list.append(subset)\n",
    "        for subset in subset_list:\n",
    "            if not os.path.exists(f'saved_results/{checkpoint}/{subset}.pkl'):\n",
    "                print(f'{checkpoint} - {subset} not found')\n",
    "                if checkpoint not in whitelist_checkpoint: \n",
    "                    whitelist_checkpoint.append(checkpoint)\n",
    "                    \n",
    "print('\\nCheckpoints to evaluate:')\n",
    "whitelist_checkpoint"
   ]
  },
  {
   "cell_type": "code",
   "execution_count": 4,
   "metadata": {},
   "outputs": [
    {
     "name": "stdout",
     "output_type": "stream",
     "text": [
      "MB_train_h36m_gt_cam_no_factor_input_from_canonical_3d_same_z_input_centering_steprot_1_tr_s1_ts_s5678\n"
     ]
    },
    {
     "name": "stdout",
     "output_type": "stream",
     "text": [
      "Loading checkpoint checkpoint/pose3d/MB_train_h36m_gt_cam_no_factor_input_from_canonical_3d_same_z_input_centering_steprot_1_tr_s1_ts_s5678/best_epoch.bin\n",
      "/home/hrai/codes/MotionBERT/saved_results/MB_train_h36m_gt_cam_no_factor_input_from_canonical_3d_same_z_input_centering_steprot_1_tr_s1_ts_s5678/3DHP-GT-CAM_NO_FACTOR-INPUT_FROM_3D_CANONICAL_SAME_Z-TEST_ALL_TRAIN.pkl exists\n",
      "/home/hrai/codes/MotionBERT/saved_results/MB_train_h36m_gt_cam_no_factor_input_from_canonical_3d_same_z_input_centering_steprot_1_tr_s1_ts_s5678/3DHP-GT-CAM_NO_FACTOR-INPUT_FROM_3D_CANONICAL_SAME_Z-TEST_TS1_6.pkl exists\n",
      "/home/hrai/codes/MotionBERT/saved_results/MB_train_h36m_gt_cam_no_factor_input_from_canonical_3d_same_z_input_centering_steprot_1_tr_s1_ts_s5678/H36M-GT-CAM_NO_FACTOR-INPUT_FROM_3D_CANONICAL_SAME_Z.pkl exists\n",
      "Loading dataset...\n",
      "FIT3D-GT-CAM_NO_FACTOR-INPUT_FROM_3D_CANONICAL_SAME_Z-ALL_TEST\n",
      "[overwrite: False] ==> Loading FIT3D source_list...\n",
      "[overwrite: False] ==> Loading FIT3D cam_param...\n",
      "[overwrite: False] ==> Loading FIT3D cam_3d_same_z_steprot_1...\n",
      "[overwrite: False] ==> Loading FIT3D img_2d_canonical_same_z_steprot_1...\n",
      "[overwrite: False] ==> Loading FIT3D cam_3d_canonical_same_z_steprot_1...\n",
      "INFO: Testing\n",
      "No epoch information in the checkpoint\n"
     ]
    },
    {
     "name": "stderr",
     "output_type": "stream",
     "text": [
      "100%|██████████| 411/411 [02:18<00:00,  2.97it/s]\n"
     ]
    },
    {
     "name": "stdout",
     "output_type": "stream",
     "text": [
      "No eval_keypoint. Use part list\n",
      "Part: whole\n",
      "+------------+--------------------+--------------------+--------------------+--------------------+--------------------+--------------------+--------------------+--------------------+--------------------+-----------------------+------------------------+-----------------------+---------------------+----------------------------------+------------------------+--------------------+--------------------+--------------------+---------------------------------+--------------------+-----------------------------+----------------------+--------------------+--------------------+--------------------+--------------------+--------------------+--------------------+--------------------+--------------------+--------------------+--------------------+--------------------+--------------------+--------------------+--------------------+--------------------+--------------------+-------------------+--------------------+--------------------+--------------------+--------------------+--------------------+--------------------+--------------------+--------------------+\n",
      "| test_name  |  band_pull_apart   |  barbell_dead_row  |    barbell_row     |   barbell_shrug    |      burpees       |  clean_and_press   |      deadlift      |   diamond_pushup   |     drag_curl      | dumbbell_biceps_curls | dumbbell_curl_trifecta | dumbbell_hammer_curls | dumbbell_high_pulls | dumbbell_overhead_shoulder_press | dumbbell_reverse_lunge | dumbbell_scaptions |     man_maker      |     mule_kick      | neutral_overhead_shoulder_press |    one_arm_row     | overhead_extension_thruster | overhead_trap_raises |       pushup       | side_lateral_raise |       squat        | standing_ab_twists |      w_raise       |    walk_the_box    |      warmup_1      |     warmup_10      |     warmup_11      |     warmup_12      |     warmup_13      |     warmup_14      |     warmup_15      |     warmup_16      |     warmup_17      |     warmup_18      |     warmup_19     |      warmup_2      |      warmup_3      |      warmup_4      |      warmup_5      |      warmup_6      |      warmup_7      |      warmup_8      |      warmup_9      |\n",
      "+------------+--------------------+--------------------+--------------------+--------------------+--------------------+--------------------+--------------------+--------------------+--------------------+-----------------------+------------------------+-----------------------+---------------------+----------------------------------+------------------------+--------------------+--------------------+--------------------+---------------------------------+--------------------+-----------------------------+----------------------+--------------------+--------------------+--------------------+--------------------+--------------------+--------------------+--------------------+--------------------+--------------------+--------------------+--------------------+--------------------+--------------------+--------------------+--------------------+--------------------+-------------------+--------------------+--------------------+--------------------+--------------------+--------------------+--------------------+--------------------+--------------------+\n",
      "| P1 (whole) | 222.10340634263764 | 323.57887066971756 | 289.71590566845583 | 206.17430624857087 | 370.0972537325771  | 232.62450291731716 | 271.3009777254625  | 391.2804694953367  | 281.8400082206406  |   178.58578184132992  |   176.9907443775781    |   181.50479249736495  |  220.03963962343923 |        190.83538082998484        |   213.24442171194377   | 203.2217260672594  | 371.9484229832718  | 331.75433883554115 |        188.7146898349407        | 274.8592614610173  |       214.261362110279      |  187.84143933040406  | 397.0362794734667  | 239.26238019661363 | 251.47776171150778 | 205.0123792452495  | 246.21994294939446 | 300.6298818708628  | 341.8603646658587  | 209.78216400175458 | 165.1350041460006  | 249.60488625446405 | 261.16777927799035 | 197.68457030549624 | 187.99044730846435 | 227.07099634334574 | 185.72230680397033 | 271.9840788772112  | 281.3372928850386 | 211.64840330715305 | 245.90736826673168 | 230.31613901253237 | 297.68476307668993 | 171.69010321987298 | 198.02029430129787 | 169.8241485070655  | 188.60164667151588 |\n",
      "| P2 (whole) | 196.20614673803146 | 215.26849861072733 | 199.52884685975116 | 154.29584089933817 | 267.52336578440463 | 174.48679592706694 | 183.53262123029293 | 303.79340021023927 | 192.93998786972884 |   149.51487275549422  |   147.03610156753626   |   152.32890192468767  |  174.6613990752122  |        157.99568060066014        |   173.12009144489213   | 173.9082802226126  | 279.16520052036026 | 246.34446739018014 |        155.75565604163026       | 200.67930557863377 |      164.86786513936133     |  153.37933228642527  | 308.88818015699337 | 193.14908085697354 | 187.85490782780255 | 172.4407022971724  | 196.8679722890839  | 198.34866888735527 | 256.87995638044464 | 182.9502996944878  | 140.20056059639438 | 193.18650694879153 | 168.50759617623854 | 162.9012854369293  | 159.2487113242175  | 195.83813005894726 | 150.0096924224391  | 185.54172450134647 | 187.8774545361442 | 186.74199277040688 | 204.69690529320013 | 182.86797323911958 | 232.37379393699837 | 143.17057681906903 | 168.8034601781701  | 140.31796520614145 | 152.3338957715242  |\n",
      "+------------+--------------------+--------------------+--------------------+--------------------+--------------------+--------------------+--------------------+--------------------+--------------------+-----------------------+------------------------+-----------------------+---------------------+----------------------------------+------------------------+--------------------+--------------------+--------------------+---------------------------------+--------------------+-----------------------------+----------------------+--------------------+--------------------+--------------------+--------------------+--------------------+--------------------+--------------------+--------------------+--------------------+--------------------+--------------------+--------------------+--------------------+--------------------+--------------------+--------------------+-------------------+--------------------+--------------------+--------------------+--------------------+--------------------+--------------------+--------------------+--------------------+\n",
      "Protocol #1 Error (MPJPE): 243.72742734477907 mm\n",
      "Protocol #2 Error (P-MPJPE): 188.68788621880122 mm\n",
      "----------------------------------------\n",
      "/home/hrai/codes/MotionBERT/saved_results/MB_train_h36m_gt_cam_no_factor_input_from_canonical_3d_same_z_input_centering_steprot_1_tr_s1_ts_s5678/H36M-GT-CAM_NO_FACTOR-INPUT_FROM_3D_CANONICAL_SAME_Z-TR_S1_TS_S5678.pkl exists\n"
     ]
    }
   ],
   "source": [
    "experiment_root = f'/home/{user}/codes/MotionBERT/experiments'\n",
    "for item in glob(experiment_root+'/*.txt'):\n",
    "    checkpoint = os.path.basename(item).split('.')[0]\n",
    "    if checkpoint in blacklist_checkpoint: continue\n",
    "    if len(whitelist_checkpoint) > 0 and checkpoint not in whitelist_checkpoint: continue\n",
    "    if 'cam_no_factor' not in checkpoint: continue\n",
    "    save_folder = f'/home/hrai/codes/MotionBERT/saved_results/{checkpoint}'\n",
    "    if not os.path.exists(save_folder): os.makedirs(save_folder)\n",
    "    \n",
    "    # load model\n",
    "    args, opts = get_opt_args_from_model_name(checkpoint, verbose=False)\n",
    "    model_pos, chk_filename, checkpoint = load_model(opts, args)\n",
    "    \n",
    "    subset_list = []\n",
    "    with open(item, 'r') as f:\n",
    "        lines = f.readlines()\n",
    "        for line in lines:\n",
    "            subset = line.strip()\n",
    "            subset_list.append(subset)\n",
    "    \n",
    "    for subset in subset_list:\n",
    "        save_path = os.path.join(save_folder, f'{subset}.pkl')\n",
    "        if os.path.exists(save_path): \n",
    "            print(f'{save_path} exists')\n",
    "            continue\n",
    "        try:\n",
    "            # load dataset\n",
    "            args.subset_list = [subset]\n",
    "            train_loader, test_loader, _, _, datareader = load_dataset(args, use_new_datareader=True)\n",
    "            # evaluation\n",
    "            e1, e2, results_all, inputs_all, gts_all, total_result_dict = evaluate(args, model_pos, test_loader, datareader, checkpoint, only_one_batch=False)\n",
    "            # save results\n",
    "            results_dict = {'results_all': results_all, 'gts_all': gts_all, 'inputs_all': inputs_all, 'total_result_dict': total_result_dict, 'e1': e1, 'e2': e2}\n",
    "            savepkl(results_dict, save_path)\n",
    "        except Exception as e:\n",
    "            print(f'Error: {e}')\n"
   ]
  },
  {
   "cell_type": "markdown",
   "metadata": {},
   "source": [
    "### Cherrypick e1, e1 -> result_dict.pkl"
   ]
  },
  {
   "cell_type": "code",
   "execution_count": 5,
   "metadata": {},
   "outputs": [
    {
     "name": "stdout",
     "output_type": "stream",
     "text": [
      "Loading result_dict.pkl\n"
     ]
    },
    {
     "name": "stderr",
     "output_type": "stream",
     "text": [
      "  0%|          | 0/32 [00:00<?, ?it/s]"
     ]
    },
    {
     "name": "stderr",
     "output_type": "stream",
     "text": [
      "100%|██████████| 32/32 [00:01<00:00, 29.87it/s]\n"
     ]
    }
   ],
   "source": [
    "blacklist_checkpoint = ['MB_train_h36m_gt_cam_no_factor_input_from_canonical_3d_same_z_s15678_tr_54138969_ts_others']\n",
    "\n",
    "if os.path.exists('result_dict.pkl'):\n",
    "    print('Loading result_dict.pkl')\n",
    "    result_dict = readpkl('result_dict.pkl')\n",
    "else:\n",
    "    result_dict = {}\n",
    "result_root = '/home/hrai/codes/MotionBERT/saved_results'\n",
    "checkpoint_list = os.listdir(result_root)\n",
    "for checkpoint in tqdm(checkpoint_list):\n",
    "    if checkpoint in blacklist_checkpoint: continue # skip\n",
    "    if checkpoint not in result_dict.keys(): result_dict[checkpoint] = {} # create new key if not exists\n",
    "    checkpoint_root = os.path.join(result_root, checkpoint)\n",
    "    subset_list = glob(checkpoint_root+'/*.pkl')\n",
    "    for item in subset_list:\n",
    "        subset = os.path.basename(item).split('.')[0]\n",
    "        if subset in result_dict[checkpoint].keys(): \n",
    "            #print(f'{subset} exists')\n",
    "            continue\n",
    "        result = readpkl(item)\n",
    "        result_dict[checkpoint][subset] = {'e1': result['e1'], 'e2': result['e2']}\n",
    "savepkl(result_dict, 'result_dict.pkl')"
   ]
  },
  {
   "cell_type": "code",
   "execution_count": null,
   "metadata": {},
   "outputs": [],
   "source": []
  }
 ],
 "metadata": {
  "kernelspec": {
   "display_name": "motionbert",
   "language": "python",
   "name": "python3"
  },
  "language_info": {
   "codemirror_mode": {
    "name": "ipython",
    "version": 3
   },
   "file_extension": ".py",
   "mimetype": "text/x-python",
   "name": "python",
   "nbconvert_exporter": "python",
   "pygments_lexer": "ipython3",
   "version": "3.9.18"
  }
 },
 "nbformat": 4,
 "nbformat_minor": 2
}
