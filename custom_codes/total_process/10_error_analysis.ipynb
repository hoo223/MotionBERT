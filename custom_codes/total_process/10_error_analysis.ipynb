{
 "cells": [
  {
   "cell_type": "code",
   "execution_count": 1,
   "metadata": {},
   "outputs": [],
   "source": [
    "%load_ext autoreload\n",
    "%autoreload 2\n",
    "%matplotlib widget\n",
    "from cycler import K\n",
    "from MotionBERT.common_import import *\n",
    "\n",
    "\n",
    "def check_config_experiment(whitelist_checkpoint):\n",
    "    user = getpass.getuser()\n",
    "    motionbert_root = f'/home/{user}/codes/MotionBERT'\n",
    "    for checkpoint in whitelist_checkpoint:\n",
    "        experiment_path = f'{motionbert_root}/experiments/{checkpoint}.txt'\n",
    "        config_path = f'{motionbert_root}/configs/pose3d/{checkpoint}.yaml'\n",
    "        print(f'{checkpoint}')\n",
    "        if os.path.exists(config_path):\n",
    "            print(f'Config# path: {config_path}')\n",
    "        else:\n",
    "            print(f'[No config path] {config_path}')\n",
    "            with open(config_path, 'w') as f: pass\n",
    "        if os.path.exists(experiment_path): print(f'Experiment path: {experiment_path}')\n",
    "        else:\n",
    "            print(f'[No experiment path] {experiment_path}')\n",
    "            with open(experiment_path, 'w') as f: pass\n",
    "\n",
    "# calculate the angle between two forward vectors\n",
    "def batch_angle_between_vectors(v1_batch, v2_batch, unit=\"degree\"):\n",
    "    \"\"\"\n",
    "    두 3차원 벡터의 배치(batch) 사이 각도를 계산합니다.\n",
    "\n",
    "    Args:\n",
    "        v1_batch (ndarray): 첫 번째 벡터의 배치 (shape: [batch_size, 3]).\n",
    "        v2_batch (ndarray): 두 번째 벡터의 배치 (shape: [batch_size, 3]).\n",
    "        unit (str): 반환할 각도의 단위 (\"radian\" 또는 \"degree\").\n",
    "\n",
    "    Returns:\n",
    "        ndarray: 각 벡터 쌍 사이의 각도 배열 (unit에 따라 라디안 또는 도, shape: [batch_size]).\n",
    "    \"\"\"\n",
    "    # 벡터 크기(노름)\n",
    "    norm_v1 = np.linalg.norm(v1_batch, axis=1)  # shape: [batch_size]\n",
    "    norm_v2 = np.linalg.norm(v2_batch, axis=1)  # shape: [batch_size]\n",
    "\n",
    "    # 내적 계산\n",
    "    dot_product = np.sum(v1_batch * v2_batch, axis=1)  # shape: [batch_size]\n",
    "\n",
    "    # 코사인 값 계산\n",
    "    cos_theta = dot_product / (norm_v1 * norm_v2)\n",
    "\n",
    "    # 부동소수점 오차로 인한 [-1, 1] 범위 클램핑\n",
    "    cos_theta = np.clip(cos_theta, -1.0, 1.0)\n",
    "\n",
    "    # 아크 코사인으로 각도 계산 (라디안)\n",
    "    angles = np.arccos(cos_theta)  # shape: [batch_size]\n",
    "\n",
    "    # 단위 변환 (degree인 경우)\n",
    "    if unit == \"degree\":\n",
    "        angles = np.degrees(angles)\n",
    "\n",
    "    return angles\n",
    "\n",
    "def angle_between_vectors(v1, v2, unit=\"degree\"):\n",
    "    \"\"\"\n",
    "    두 3차원 벡터 사이의 각도를 계산합니다.\n",
    "\n",
    "    Args:\n",
    "        v1 (array-like): 첫 번째 벡터 (크기 3).\n",
    "        v2 (array-like): 두 번째 벡터 (크기 3).\n",
    "\n",
    "    Returns:\n",
    "        float: 두 벡터 사이의 각도 (라디안 단위).\n",
    "    \"\"\"\n",
    "    # 벡터를 numpy 배열로 변환\n",
    "    v1 = np.array(v1)\n",
    "    v2 = np.array(v2)\n",
    "\n",
    "    # 벡터의 크기(노름)\n",
    "    norm_v1 = np.linalg.norm(v1)\n",
    "    norm_v2 = np.linalg.norm(v2)\n",
    "\n",
    "    # 내적 계산\n",
    "    dot_product = np.dot(v1, v2)\n",
    "\n",
    "    # 코사인 값 계산\n",
    "    cos_theta = dot_product / (norm_v1 * norm_v2)\n",
    "\n",
    "    # 부동소수점 오차로 인해 cos_theta 값이 [-1, 1] 범위를 약간 벗어날 수 있으므로 클램핑\n",
    "    cos_theta = np.clip(cos_theta, -1.0, 1.0)\n",
    "\n",
    "    # 아크 코사인으로 각도 계산 (라디안)\n",
    "    angle = np.arccos(cos_theta)\n",
    "\n",
    "    # 단위 변환 (degree인 경우)\n",
    "    if unit == \"degree\":\n",
    "        angle = np.degrees(angle)\n",
    "\n",
    "    return angle\n",
    "\n",
    "def get_inputs_all_from_dataloader(dataloader):\n",
    "    inputs_all = []\n",
    "    for batch_input, batch_gt in tqdm(dataloader):\n",
    "        batch_input, batch_gt, batch_gt_torso, batch_gt_limb_pos = preprocess_eval(args, batch_input, batch_gt)\n",
    "        inputs_all.append(batch_input.cpu().numpy())\n",
    "    inputs_all = np.concatenate(inputs_all)\n",
    "    return inputs_all\n",
    "\n",
    "def calculate_errors(results_all, gts_all):\n",
    "    errs = []\n",
    "    for idx in range(len(results_all)):\n",
    "        gt = gts_all[idx]\n",
    "        pred = results_all[idx]\n",
    "\n",
    "        pred = pred - pred[:,0:1,:] # (243, 17, 3)\n",
    "        gt = gt - gt[:,0:1,:] # (243, 17, 3)\n",
    "\n",
    "        errs.append(pred - gt)\n",
    "    errs = np.stack(errs) # (N, 243, 17, 3)\n",
    "    return errs\n",
    "\n",
    "def summary_errors(errs, verbose=True):\n",
    "    assert len(errs.shape) == 4, f\"errs shape: {errs.shape}\"\n",
    "    errs_per_joint = np.linalg.norm(errs, axis=-1) # (N, 243, 17)\n",
    "    errs_per_frame = errs_per_joint.mean(axis=-1) # (N, 243)\n",
    "    min_error_total = errs_per_frame.min()*1000\n",
    "    max_error_total = errs_per_frame.max()*1000\n",
    "    mean_error_total = errs_per_frame.mean()*1000\n",
    "    median_error_total = np.median(errs_per_frame)*1000\n",
    "\n",
    "\n",
    "    errs_xaxis_per_joint = errs[..., 0].copy() # (N, 243, 17)\n",
    "    errs_xaxis_per_joint = np.abs(errs_xaxis_per_joint)\n",
    "    errs_xaxis_per_frame = errs_xaxis_per_joint.mean(axis=-1) # (N, 243)\n",
    "    min_error_xaxis = errs_xaxis_per_frame.min()*1000\n",
    "    max_error_xaxis = errs_xaxis_per_frame.max()*1000\n",
    "    mean_error_xaxis = errs_xaxis_per_frame.mean()*1000\n",
    "    median_error_xaxis = np.median(errs_xaxis_per_frame)*1000\n",
    "\n",
    "    errs_y_axis_per_joint = errs[..., 1].copy() # (N, 243, 17)\n",
    "    errs_y_axis_per_joint = np.abs(errs_y_axis_per_joint)\n",
    "    errs_y_axis_per_frame = errs_y_axis_per_joint.mean(axis=-1) # (N, 243)\n",
    "    min_error_y_axis = errs_y_axis_per_frame.min()*1000\n",
    "    max_error_y_axis = errs_y_axis_per_frame.max()*1000\n",
    "    mean_error_y_axis = errs_y_axis_per_frame.mean()*1000\n",
    "    median_error_y_axis = np.median(errs_y_axis_per_frame)*1000\n",
    "\n",
    "    errs_z_axis_per_joint = errs[..., 2].copy() # (N, 243, 17)\n",
    "    errs_z_axis_per_joint = np.abs(errs_z_axis_per_joint)\n",
    "    errs_z_axis_per_frame = errs_z_axis_per_joint.mean(axis=-1) # (N, 243)\n",
    "    min_error_z_axis = errs_z_axis_per_frame.min()*1000\n",
    "    max_error_z_axis = errs_z_axis_per_frame.max()*1000\n",
    "    mean_error_z_axis = errs_z_axis_per_frame.mean()*1000\n",
    "    median_error_z_axis = np.median(errs_z_axis_per_frame)*1000\n",
    "\n",
    "    if verbose:\n",
    "        print(\"----- total error -----\")\n",
    "        print(f\"Minimum error:  {min_error_total:.2f} mm\")\n",
    "        print(f\"Maximum error:  {max_error_total:.2f} mm\")\n",
    "        print(f\"Mean error:     {mean_error_total:.2f} mm\")\n",
    "        print(f\"Median error:   {median_error_total:.2f} mm\")\n",
    "        print()\n",
    "        print(\"----- X-axis error -----\")\n",
    "        print(f\"Minimum error (x-axis): {min_error_xaxis:.2f} mm\")\n",
    "        print(f\"Maximum error (x-axis): {max_error_xaxis:.2f} mm\")\n",
    "        print(f\"Mean error (x-axis): {mean_error_xaxis:.2f} mm\")\n",
    "        print(f\"Median error (x-axis): {median_error_xaxis:.2f} mm\")\n",
    "        print()\n",
    "        print(\"----- Y-axis error -----\")\n",
    "        print(f\"Minimum error (y-axis): {min_error_y_axis:.2f} mm\")\n",
    "        print(f\"Maximum error (y-axis): {max_error_y_axis:.2f} mm\")\n",
    "        print(f\"Mean error (y-axis): {mean_error_y_axis:.2f} mm\")\n",
    "        print(f\"Median error (y-axis): {median_error_y_axis:.2f} mm\")\n",
    "        print()\n",
    "        print(\"----- Z-axis error -----\")\n",
    "        print(f\"Minimum error (z-axis): {min_error_z_axis:.2f} mm\")\n",
    "        print(f\"Maximum error (z-axis): {max_error_z_axis:.2f} mm\")\n",
    "        print(f\"Mean error (z-axis): {mean_error_z_axis:.2f} mm\")\n",
    "        print(f\"Median error (z-axis): {median_error_z_axis:.2f} mm\")\n",
    "\n",
    "    return {'min_error_total': min_error_total,\n",
    "            'max_error_total': max_error_total,\n",
    "            'mean_error_total': mean_error_total,\n",
    "            'median_error_total': median_error_total,\n",
    "            'min_error_xaxis': min_error_xaxis,\n",
    "            'max_error_xaxis': max_error_xaxis,\n",
    "            'mean_error_xaxis': mean_error_xaxis,\n",
    "            'median_error_xaxis': median_error_xaxis,\n",
    "            'min_error_y_axis': min_error_y_axis,\n",
    "            'max_error_y_axis': max_error_y_axis,\n",
    "            'mean_error_y_axis': mean_error_y_axis,\n",
    "            'median_error_y_axis': median_error_y_axis,\n",
    "            'min_error_z_axis': min_error_z_axis,\n",
    "            'max_error_z_axis': max_error_z_axis,\n",
    "            'mean_error_z_axis': mean_error_z_axis,\n",
    "            'median_error_z_axis': median_error_z_axis\n",
    "           }"
   ]
  },
  {
   "cell_type": "code",
   "execution_count": 2,
   "metadata": {},
   "outputs": [],
   "source": [
    "checkpoint_list = [\n",
    "    'MB_train_h36m_gt_cam_no_factor_input_from_canonical_3d_revolute_input_centering',\n",
    "    'MB_train_h36m_gt_cam_no_factor_input_from_canonical_3d_revolute_input_centering_seed1',\n",
    "    'MB_train_h36m_gt_cam_no_factor_input_from_canonical_3d_revolute_input_centering_seed2',\n",
    "    'MB_train_h36m_gt_cam_no_factor_input_from_canonical_3d_revolute_input_centering_seed3',\n",
    "    'MB_train_h36m_gt_cam_no_factor_input_from_canonical_3d_revolute_input_centering_seed4',\n",
    "    #\n",
    "    'MB_train_h36m_gt_cam_no_factor_input_centering',\n",
    "    'MB_train_h36m_gt_cam_no_factor_input_centering_seed1',\n",
    "    'MB_train_h36m_gt_cam_no_factor_input_centering_seed2',\n",
    "    'MB_train_h36m_gt_cam_no_factor_input_centering_seed3',\n",
    "    'MB_train_h36m_gt_cam_no_factor_input_centering_seed4',\n",
    "    #\n",
    "    'MB_train_h36m_gt_cam_no_factor',\n",
    "    'MB_train_h36m_gt_cam_no_factor_seed1',\n",
    "    'MB_train_h36m_gt_cam_no_factor_seed2',\n",
    "    'MB_train_h36m_gt_cam_no_factor_seed3',\n",
    "    'MB_train_h36m_gt_cam_no_factor_seed4',\n",
    "    #\n",
    "    'MB_train_h36m_gt_cam_no_factor_input_from_canonical_3d_revolute_input_centering_tr_s1_ts_s5678',\n",
    "    'MB_train_h36m_gt_cam_no_factor_input_from_canonical_3d_revolute_input_centering_tr_s1_ts_s5678_seed1',\n",
    "    'MB_train_h36m_gt_cam_no_factor_input_from_canonical_3d_revolute_input_centering_tr_s1_ts_s5678_seed2',\n",
    "    'MB_train_h36m_gt_cam_no_factor_input_from_canonical_3d_revolute_input_centering_tr_s1_ts_s5678_seed3',\n",
    "    'MB_train_h36m_gt_cam_no_factor_input_from_canonical_3d_revolute_input_centering_tr_s1_ts_s5678_seed4',\n",
    "    #\n",
    "    'MB_train_h36m_gt_cam_no_factor_input_centering_tr_s1_ts_s5678',\n",
    "    'MB_train_h36m_gt_cam_no_factor_input_centering_tr_s1_ts_s5678_seed1',\n",
    "    'MB_train_h36m_gt_cam_no_factor_input_centering_tr_s1_ts_s5678_seed2',\n",
    "    'MB_train_h36m_gt_cam_no_factor_input_centering_tr_s1_ts_s5678_seed3',\n",
    "    'MB_train_h36m_gt_cam_no_factor_input_centering_tr_s1_ts_s5678_seed4',\n",
    "    #\n",
    "    'MB_train_h36m_gt_cam_no_factor_tr_s1_ts_s5678',\n",
    "    'MB_train_h36m_gt_cam_no_factor_tr_s1_ts_s5678_seed1',\n",
    "    'MB_train_h36m_gt_cam_no_factor_tr_s1_ts_s5678_seed2',\n",
    "    'MB_train_h36m_gt_cam_no_factor_tr_s1_ts_s5678_seed3',\n",
    "    'MB_train_h36m_gt_cam_no_factor_tr_s1_ts_s5678_seed4',\n",
    "    #\n",
    "    'MB_train_fit3d_gt_cam_no_factor_input_from_canonical_3d_revolute_input_centering_tr_s03',\n",
    "    'MB_train_fit3d_gt_cam_no_factor_input_from_canonical_3d_revolute_input_centering_tr_s03_seed1',\n",
    "    'MB_train_fit3d_gt_cam_no_factor_input_from_canonical_3d_revolute_input_centering_tr_s03_seed2',\n",
    "    'MB_train_fit3d_gt_cam_no_factor_input_from_canonical_3d_revolute_input_centering_tr_s03_seed3',\n",
    "    'MB_train_fit3d_gt_cam_no_factor_input_from_canonical_3d_revolute_input_centering_tr_s03_seed4',\n",
    "    #\n",
    "    'MB_train_fit3d_gt_cam_no_factor_input_centering_tr_s03',\n",
    "    'MB_train_fit3d_gt_cam_no_factor_input_centering_tr_s03_seed1',\n",
    "    'MB_train_fit3d_gt_cam_no_factor_input_centering_tr_s03_seed2',\n",
    "    'MB_train_fit3d_gt_cam_no_factor_input_centering_tr_s03_seed3',\n",
    "    'MB_train_fit3d_gt_cam_no_factor_input_centering_tr_s03_seed4',\n",
    "    #\n",
    "    'MB_train_fit3d_gt_cam_no_factor_tr_s03',\n",
    "    'MB_train_fit3d_gt_cam_no_factor_tr_s03_seed1',\n",
    "    'MB_train_fit3d_gt_cam_no_factor_tr_s03_seed2',\n",
    "    'MB_train_fit3d_gt_cam_no_factor_tr_s03_seed3',\n",
    "    'MB_train_fit3d_gt_cam_no_factor_tr_s03_seed4',\n",
    "    #\n",
    "    'MB_train_fit3d_gt_cam_no_factor_input_from_canonical_3d_revolute_input_centering_ts_s4710',\n",
    "    'MB_train_fit3d_gt_cam_no_factor_input_from_canonical_3d_revolute_input_centering_ts_s4710_seed1',\n",
    "    'MB_train_fit3d_gt_cam_no_factor_input_from_canonical_3d_revolute_input_centering_ts_s4710_seed2',\n",
    "    'MB_train_fit3d_gt_cam_no_factor_input_from_canonical_3d_revolute_input_centering_ts_s4710_seed3',\n",
    "    'MB_train_fit3d_gt_cam_no_factor_input_from_canonical_3d_revolute_input_centering_ts_s4710_seed4',\n",
    "    #\n",
    "    'MB_train_fit3d_gt_cam_no_factor_input_centering_ts_s4710',\n",
    "    'MB_train_fit3d_gt_cam_no_factor_input_centering_ts_s4710_seed1',\n",
    "    'MB_train_fit3d_gt_cam_no_factor_input_centering_ts_s4710_seed2',\n",
    "    'MB_train_fit3d_gt_cam_no_factor_input_centering_ts_s4710_seed3',\n",
    "    'MB_train_fit3d_gt_cam_no_factor_input_centering_ts_s4710_seed4',\n",
    "    #\n",
    "    'MB_train_fit3d_gt_cam_no_factor_ts_s4710',\n",
    "    'MB_train_fit3d_gt_cam_no_factor_ts_s4710_seed1',\n",
    "    'MB_train_fit3d_gt_cam_no_factor_ts_s4710_seed2',\n",
    "    'MB_train_fit3d_gt_cam_no_factor_ts_s4710_seed3',\n",
    "    'MB_train_fit3d_gt_cam_no_factor_ts_s4710_seed4',\n",
    "    #\n",
    "    'MB_train_3dhp_gt_cam_no_factor_input_from_canonical_3d_revolute_input_centering_tr_s1',\n",
    "    'MB_train_3dhp_gt_cam_no_factor_input_from_canonical_3d_revolute_input_centering_tr_s1_seed1',\n",
    "    'MB_train_3dhp_gt_cam_no_factor_input_from_canonical_3d_revolute_input_centering_tr_s1_seed2',\n",
    "    'MB_train_3dhp_gt_cam_no_factor_input_from_canonical_3d_revolute_input_centering_tr_s1_seed3',\n",
    "    'MB_train_3dhp_gt_cam_no_factor_input_from_canonical_3d_revolute_input_centering_tr_s1_seed4',\n",
    "    #\n",
    "    'MB_train_3dhp_gt_cam_no_factor_input_centering_tr_s1',\n",
    "    'MB_train_3dhp_gt_cam_no_factor_input_centering_tr_s1_seed1',\n",
    "    'MB_train_3dhp_gt_cam_no_factor_input_centering_tr_s1_seed2',\n",
    "    'MB_train_3dhp_gt_cam_no_factor_input_centering_tr_s1_seed3',\n",
    "    'MB_train_3dhp_gt_cam_no_factor_input_centering_tr_s1_seed4',\n",
    "    #\n",
    "    'MB_train_3dhp_gt_cam_no_factor_tr_s1',\n",
    "    'MB_train_3dhp_gt_cam_no_factor_tr_s1_seed1',\n",
    "    'MB_train_3dhp_gt_cam_no_factor_tr_s1_seed2',\n",
    "    'MB_train_3dhp_gt_cam_no_factor_tr_s1_seed3',\n",
    "    'MB_train_3dhp_gt_cam_no_factor_tr_s1_seed4',\n",
    "]\n",
    "\n",
    "subset_list = []\n",
    "for checkpoint_name in checkpoint_list:\n",
    "    #print(f'checkpoint_name: {checkpoint_name}')\n",
    "    args, opts = get_opt_args_from_model_name(checkpoint_name, verbose=False)\n",
    "    motionbert_root = f'/home/{user}/codes/MotionBERT'\n",
    "    experiment_path = f'{motionbert_root}/experiments/{checkpoint_name}.txt'\n",
    "    if not os.path.exists(experiment_path): continue\n",
    "    with open(experiment_path, 'r') as f:\n",
    "        for line in f:\n",
    "            subset = line.split('\\n')[0]\n",
    "            if 'TRAIN_UNIV' in subset: continue\n",
    "            #print(f'subset: {subset}')\n",
    "            subset_list.append(subset)\n",
    "subset_list = list(set(subset_list))"
   ]
  },
  {
   "cell_type": "code",
   "execution_count": 55,
   "metadata": {},
   "outputs": [
    {
     "data": {
      "text/plain": [
       "['H36M-GT-CAM_NO_FACTOR-INPUT_FROM_3D_CANONICAL_REVOLUTE-TEST_ALL',\n",
       " 'H36M-GT-CAM_NO_FACTOR-INPUT_FROM_3D_CANONICAL_REVOLUTE',\n",
       " 'FIT3D-GT-CAM_NO_FACTOR-TS_S4710',\n",
       " 'H36M-GT-CAM_NO_FACTOR-TEST_ALL',\n",
       " '3DHP-GT-CAM_NO_FACTOR-INPUT_FROM_3D_CANONICAL_REVOLUTE-TEST_TS1_6_UNIV',\n",
       " 'H36M-GT-CAM_NO_FACTOR-INPUT_FROM_3D_CANONICAL_REVOLUTE-TR_S1_TS_S5678',\n",
       " '3DHP-GT-CAM_NO_FACTOR-TEST_ALL_TRAIN',\n",
       " '3DHP-GT-CAM_NO_FACTOR-TEST_TS1_6',\n",
       " 'FIT3D-GT-CAM_NO_FACTOR-TR_S03',\n",
       " '3DHP-GT-CAM_NO_FACTOR-TEST_TS1_6_UNIV',\n",
       " '3DHP-GT-CAM_NO_FACTOR-INPUT_FROM_3D_CANONICAL_REVOLUTE-TR_S1',\n",
       " 'FIT3D-GT-CAM_NO_FACTOR-ALL_TEST',\n",
       " '3DHP-GT-CAM_NO_FACTOR-TR_S1',\n",
       " 'H36M-GT-CAM_NO_FACTOR',\n",
       " 'FIT3D-GT-CAM_NO_FACTOR-INPUT_FROM_3D_CANONICAL_REVOLUTE-TR_S03',\n",
       " 'H36M-GT-CAM_NO_FACTOR-TR_S1_TS_S5678',\n",
       " '3DHP-GT-CAM_NO_FACTOR-INPUT_FROM_3D_CANONICAL_REVOLUTE-TEST_TS1_6',\n",
       " 'FIT3D-GT-CAM_NO_FACTOR-INPUT_FROM_3D_CANONICAL_REVOLUTE-TS_S4710',\n",
       " 'FIT3D-GT-CAM_NO_FACTOR-INPUT_FROM_3D_CANONICAL_REVOLUTE-ALL_TEST',\n",
       " '3DHP-GT-CAM_NO_FACTOR-INPUT_FROM_3D_CANONICAL_REVOLUTE-TEST_ALL_TRAIN']"
      ]
     },
     "execution_count": 55,
     "metadata": {},
     "output_type": "execute_result"
    }
   ],
   "source": [
    "subset_list"
   ]
  },
  {
   "cell_type": "code",
   "execution_count": 56,
   "metadata": {},
   "outputs": [
    {
     "name": "stdout",
     "output_type": "stream",
     "text": [
      "Already exists: ./saved_gts/H36M-GT-CAM_NO_FACTOR-INPUT_FROM_3D_CANONICAL_REVOLUTE-TEST_ALL.pkl\n",
      "Already exists: ./saved_gts/H36M-GT-CAM_NO_FACTOR-INPUT_FROM_3D_CANONICAL_REVOLUTE.pkl\n",
      "Already exists: ./saved_gts/FIT3D-GT-CAM_NO_FACTOR-TS_S4710.pkl\n",
      "Already exists: ./saved_gts/H36M-GT-CAM_NO_FACTOR-TEST_ALL.pkl\n",
      "Already exists: ./saved_gts/3DHP-GT-CAM_NO_FACTOR-INPUT_FROM_3D_CANONICAL_REVOLUTE-TEST_TS1_6_UNIV.pkl\n",
      "Already exists: ./saved_gts/H36M-GT-CAM_NO_FACTOR-INPUT_FROM_3D_CANONICAL_REVOLUTE-TR_S1_TS_S5678.pkl\n",
      "Already exists: ./saved_gts/3DHP-GT-CAM_NO_FACTOR-TEST_ALL_TRAIN.pkl\n",
      "Already exists: ./saved_gts/3DHP-GT-CAM_NO_FACTOR-TEST_TS1_6.pkl\n",
      "Already exists: ./saved_gts/FIT3D-GT-CAM_NO_FACTOR-TR_S03.pkl\n",
      "Already exists: ./saved_gts/3DHP-GT-CAM_NO_FACTOR-TEST_TS1_6_UNIV.pkl\n",
      "Already exists: ./saved_gts/3DHP-GT-CAM_NO_FACTOR-INPUT_FROM_3D_CANONICAL_REVOLUTE-TR_S1.pkl\n",
      "Already exists: ./saved_gts/FIT3D-GT-CAM_NO_FACTOR-ALL_TEST.pkl\n",
      "Already exists: ./saved_gts/3DHP-GT-CAM_NO_FACTOR-TR_S1.pkl\n",
      "Already exists: ./saved_gts/H36M-GT-CAM_NO_FACTOR.pkl\n",
      "Already exists: ./saved_gts/FIT3D-GT-CAM_NO_FACTOR-INPUT_FROM_3D_CANONICAL_REVOLUTE-TR_S03.pkl\n",
      "Already exists: ./saved_gts/H36M-GT-CAM_NO_FACTOR-TR_S1_TS_S5678.pkl\n",
      "Already exists: ./saved_gts/3DHP-GT-CAM_NO_FACTOR-INPUT_FROM_3D_CANONICAL_REVOLUTE-TEST_TS1_6.pkl\n",
      "Loading dataset...\n",
      "FIT3D-GT-CAM_NO_FACTOR-INPUT_FROM_3D_CANONICAL_REVOLUTE-TS_S4710\n",
      "[overwrite: False] ==> Loading FIT3D source_list...\n",
      "[overwrite: False] ==> Loading FIT3D cam_param...\n",
      "[overwrite: False] ==> Loading FIT3D cam_3d...\n",
      "[overwrite: False] ==> Loading FIT3D cam_3d_canonical_revolute...\n",
      "[overwrite: False] ==> Loading FIT3D img_2d_canonical_revolute...\n",
      "Already exists: ./saved_gts/FIT3D-GT-CAM_NO_FACTOR-INPUT_FROM_3D_CANONICAL_REVOLUTE-ALL_TEST.pkl\n",
      "Already exists: ./saved_gts/3DHP-GT-CAM_NO_FACTOR-INPUT_FROM_3D_CANONICAL_REVOLUTE-TEST_ALL_TRAIN.pkl\n"
     ]
    }
   ],
   "source": [
    "# save gts_all\n",
    "save_folder = './saved_gts'\n",
    "if not os.path.exists(save_folder): os.makedirs(save_folder)\n",
    "overwrite = False\n",
    "for subset in subset_list:\n",
    "    save_path = os.path.join(save_folder, f'{subset}.pkl')\n",
    "    if os.path.exists(save_path) and not overwrite:\n",
    "        print(f'Already exists: {save_path}')\n",
    "        continue\n",
    "    args, opts = get_opt_args_from_model_name(checkpoint_name, verbose=False)\n",
    "    args.subset_list = [subset]\n",
    "    train_loader, test_loader, _, _, datareader = load_dataset(args, use_new_datareader=True)\n",
    "    #num_test_frames, action_clips, factor_clips, source_clips, frame_clips, gts_all, actions = datareader.get_clip_info(args, len(results_all))\n",
    "    _, split_id_test = datareader.get_split_id()\n",
    "    total_gts = datareader.datareader[subset].dt_dataset['test'][args.mpjpe_mode]\n",
    "    gts_all = np.array([total_gts[split_id_test[i]] for i in range(len(split_id_test))])\n",
    "    savepkl(gts_all, save_path)\n",
    "    #break"
   ]
  },
  {
   "cell_type": "code",
   "execution_count": 57,
   "metadata": {},
   "outputs": [
    {
     "name": "stdout",
     "output_type": "stream",
     "text": [
      "Already exists: ./saved_inputs/H36M-GT-CAM_NO_FACTOR-INPUT_FROM_3D_CANONICAL_REVOLUTE-TEST_ALL.pkl\n",
      "Already exists: ./saved_inputs/H36M-GT-CAM_NO_FACTOR-INPUT_FROM_3D_CANONICAL_REVOLUTE.pkl\n",
      "Already exists: ./saved_inputs/FIT3D-GT-CAM_NO_FACTOR-TS_S4710.pkl\n",
      "Already exists: ./saved_inputs/H36M-GT-CAM_NO_FACTOR-TEST_ALL.pkl\n",
      "Already exists: ./saved_inputs/3DHP-GT-CAM_NO_FACTOR-INPUT_FROM_3D_CANONICAL_REVOLUTE-TEST_TS1_6_UNIV.pkl\n",
      "Already exists: ./saved_inputs/H36M-GT-CAM_NO_FACTOR-INPUT_FROM_3D_CANONICAL_REVOLUTE-TR_S1_TS_S5678.pkl\n",
      "Already exists: ./saved_inputs/3DHP-GT-CAM_NO_FACTOR-TEST_ALL_TRAIN.pkl\n",
      "Already exists: ./saved_inputs/3DHP-GT-CAM_NO_FACTOR-TEST_TS1_6.pkl\n",
      "Already exists: ./saved_inputs/FIT3D-GT-CAM_NO_FACTOR-TR_S03.pkl\n",
      "Already exists: ./saved_inputs/3DHP-GT-CAM_NO_FACTOR-TEST_TS1_6_UNIV.pkl\n",
      "Already exists: ./saved_inputs/3DHP-GT-CAM_NO_FACTOR-INPUT_FROM_3D_CANONICAL_REVOLUTE-TR_S1.pkl\n",
      "Already exists: ./saved_inputs/FIT3D-GT-CAM_NO_FACTOR-ALL_TEST.pkl\n",
      "Already exists: ./saved_inputs/3DHP-GT-CAM_NO_FACTOR-TR_S1.pkl\n",
      "Already exists: ./saved_inputs/H36M-GT-CAM_NO_FACTOR.pkl\n",
      "Already exists: ./saved_inputs/FIT3D-GT-CAM_NO_FACTOR-INPUT_FROM_3D_CANONICAL_REVOLUTE-TR_S03.pkl\n",
      "Already exists: ./saved_inputs/H36M-GT-CAM_NO_FACTOR-TR_S1_TS_S5678.pkl\n",
      "Already exists: ./saved_inputs/3DHP-GT-CAM_NO_FACTOR-INPUT_FROM_3D_CANONICAL_REVOLUTE-TEST_TS1_6.pkl\n",
      "Loading dataset...\n",
      "FIT3D-GT-CAM_NO_FACTOR-INPUT_FROM_3D_CANONICAL_REVOLUTE-TS_S4710\n",
      "[overwrite: False] ==> Loading FIT3D source_list...\n",
      "[overwrite: False] ==> Loading FIT3D cam_param...\n",
      "[overwrite: False] ==> Loading FIT3D cam_3d...\n",
      "[overwrite: False] ==> Loading FIT3D cam_3d_canonical_revolute...\n",
      "[overwrite: False] ==> Loading FIT3D img_2d_canonical_revolute...\n"
     ]
    },
    {
     "name": "stderr",
     "output_type": "stream",
     "text": [
      "100%|██████████| 157/157 [00:00<00:00, 185.49it/s]\n"
     ]
    },
    {
     "name": "stdout",
     "output_type": "stream",
     "text": [
      "Already exists: ./saved_inputs/FIT3D-GT-CAM_NO_FACTOR-INPUT_FROM_3D_CANONICAL_REVOLUTE-ALL_TEST.pkl\n",
      "Already exists: ./saved_inputs/3DHP-GT-CAM_NO_FACTOR-INPUT_FROM_3D_CANONICAL_REVOLUTE-TEST_ALL_TRAIN.pkl\n"
     ]
    }
   ],
   "source": [
    "# save inputs_all\n",
    "save_folder = './saved_inputs'\n",
    "if not os.path.exists(save_folder): os.makedirs(save_folder)\n",
    "overwrite = False\n",
    "for subset in subset_list:\n",
    "    save_path = os.path.join(save_folder, f'{subset}.pkl')\n",
    "    if os.path.exists(save_path) and not overwrite:\n",
    "        print(f'Already exists: {save_path}')\n",
    "        continue\n",
    "    args, opts = get_opt_args_from_model_name(checkpoint_name, verbose=False)\n",
    "    args.subset_list = [subset]\n",
    "    train_loader, test_loader, _, _, datareader = load_dataset(args, use_new_datareader=True)\n",
    "    inputs_all = get_inputs_all_from_dataloader(test_loader)\n",
    "    savepkl(inputs_all, save_path)"
   ]
  },
  {
   "cell_type": "code",
   "execution_count": 4,
   "metadata": {},
   "outputs": [
    {
     "name": "stdout",
     "output_type": "stream",
     "text": [
      "MB_train_3dhp_gt_cam_no_factor_input_from_canonical_3d_revolute_input_centering\n",
      "Config# path: /home/hrai/codes/MotionBERT/configs/pose3d/MB_train_3dhp_gt_cam_no_factor_input_from_canonical_3d_revolute_input_centering.yaml\n",
      "Experiment path: /home/hrai/codes/MotionBERT/experiments/MB_train_3dhp_gt_cam_no_factor_input_from_canonical_3d_revolute_input_centering.txt\n"
     ]
    }
   ],
   "source": [
    "checkpoint_name = 'MB_train_3dhp_gt_cam_no_factor_input_from_canonical_3d_revolute_input_centering'\n",
    "check_config_experiment([checkpoint_name])"
   ]
  },
  {
   "cell_type": "code",
   "execution_count": 9,
   "metadata": {},
   "outputs": [
    {
     "data": {
      "text/plain": [
       "((8244, 243, 17, 3), (8244, 243, 17, 3))"
      ]
     },
     "execution_count": 9,
     "metadata": {},
     "output_type": "execute_result"
    }
   ],
   "source": [
    "# load model\n",
    "args, opts = get_opt_args_from_model_name(checkpoint_name, verbose=False)\n",
    "subset = 'H36M-GT-CAM_NO_FACTOR-INPUT_FROM_3D_CANONICAL_REVOLUTE-TEST_ALL'\n",
    "# args.subset_list = [subset]\n",
    "# train_loader, test_loader, _, _, datareader = load_dataset(args, use_new_datareader=True)\n",
    "\n",
    "# load results_all\n",
    "save_folder = f'/home/hrai/codes/MotionBERT/saved_results/{checkpoint_name}'\n",
    "if not os.path.exists(save_folder): os.makedirs(save_folder)\n",
    "save_path = os.path.join(save_folder, f'{subset}.pkl')\n",
    "results_dict = readpkl(save_path)\n",
    "results_all = results_dict['results_all']\n",
    "\n",
    "# get inputs_all\n",
    "save_path = f'/home/hrai/codes/MotionBERT/saved_inputs/{subset}.pkl'\n",
    "inputs_all = readpkl(save_path)\n",
    "# inputs_all = get_inputs_all_from_dataloader(test_loader)\n",
    "\n",
    "\n",
    "# get gts_all\n",
    "save_path = f'/home/hrai/codes/MotionBERT/saved_gts/{subset}.pkl'\n",
    "gts_all = readpkl(save_path)\n",
    "# num_test_frames, action_clips, factor_clips, source_clips, frame_clips, gts_all, actions = datareader.get_clip_info(args, len(results_all))\n",
    "# action_names = datareader.get_action_list()\n",
    "\n",
    "results_all.shape, gts_all.shape"
   ]
  },
  {
   "cell_type": "code",
   "execution_count": 5,
   "metadata": {},
   "outputs": [
    {
     "name": "stdout",
     "output_type": "stream",
     "text": [
      "----- total error -----\n",
      "Minimum error: 18.09 mm\n",
      "Maximum error: 681.57 mm\n",
      "Mean error: 82.13 mm\n",
      "Median error: 73.79 mm\n",
      "\n",
      "----- X-axis error -----\n",
      "Minimum error (x-axis): 0.66 mm\n",
      "Maximum error (x-axis): 57.24 mm\n",
      "Mean error (x-axis): 6.84 mm\n",
      "Median error (x-axis): 5.49 mm\n",
      "\n",
      "----- Y-axis error -----\n",
      "Minimum error (y-axis): 2.13 mm\n",
      "Maximum error (y-axis): 74.05 mm\n",
      "Mean error (y-axis): 18.00 mm\n",
      "Median error (y-axis): 15.74 mm\n",
      "\n",
      "----- Z-axis error -----\n",
      "Minimum error (z-axis): 13.88 mm\n",
      "Maximum error (z-axis): 678.87 mm\n",
      "Mean error (z-axis): 76.13 mm\n",
      "Median error (z-axis): 68.18 mm\n"
     ]
    }
   ],
   "source": [
    "errs = calculate_errors(results_all, gts_all)\n",
    "summary_errors(errs)"
   ]
  },
  {
   "cell_type": "code",
   "execution_count": 9,
   "metadata": {},
   "outputs": [
    {
     "name": "stdout",
     "output_type": "stream",
     "text": [
      "MB_train_3dhp_gt_cam_no_factor\n",
      "Config# path: /home/hrai/codes/MotionBERT/configs/pose3d/MB_train_3dhp_gt_cam_no_factor.yaml\n",
      "Experiment path: /home/hrai/codes/MotionBERT/experiments/MB_train_3dhp_gt_cam_no_factor.txt\n"
     ]
    }
   ],
   "source": [
    "checkpoint_name = 'MB_train_3dhp_gt_cam_no_factor'\n",
    "check_config_experiment([checkpoint_name])"
   ]
  },
  {
   "cell_type": "code",
   "execution_count": 10,
   "metadata": {},
   "outputs": [
    {
     "name": "stdout",
     "output_type": "stream",
     "text": [
      "Loading dataset...\n",
      "H36M-GT-CAM_NO_FACTOR-TEST_ALL\n",
      "[overwrite: False] ==> Loading H36M source_list...\n",
      "[overwrite: False] ==> Loading H36M cam_param...\n",
      "[overwrite: False] ==> Loading H36M cam_3d...\n",
      "[overwrite: False] ==> Loading H36M img_2d...\n"
     ]
    },
    {
     "data": {
      "text/plain": [
       "((8244, 243, 17, 3), (8244, 243, 17, 3))"
      ]
     },
     "execution_count": 10,
     "metadata": {},
     "output_type": "execute_result"
    }
   ],
   "source": [
    "# load model\n",
    "args, opts = get_opt_args_from_model_name(checkpoint_name, verbose=False)\n",
    "subset = 'H36M-GT-CAM_NO_FACTOR-TEST_ALL'\n",
    "args.subset_list = [subset]\n",
    "train_loader, test_loader, _, _, datareader = load_dataset(args, use_new_datareader=True)\n",
    "\n",
    "# load results_all\n",
    "save_folder = f'/home/hrai/codes/MotionBERT/saved_results/{checkpoint_name}'\n",
    "if not os.path.exists(save_folder): os.makedirs(save_folder)\n",
    "save_path = os.path.join(save_folder, f'{subset}.pkl')\n",
    "results_dict = readpkl(save_path)\n",
    "results_all = results_dict['results_all']\n",
    "\n",
    "# get inputs_all\n",
    "# inputs_all = get_inputs_all_from_dataloader(test_loader)\n",
    "\n",
    "# get gts_all\n",
    "num_test_frames, action_clips, factor_clips, source_clips, frame_clips, gts_all, actions = datareader.get_clip_info(args, len(results_all))\n",
    "action_names = datareader.get_action_list()\n",
    "\n",
    "results_all.shape, gts_all.shape"
   ]
  },
  {
   "cell_type": "code",
   "execution_count": 11,
   "metadata": {},
   "outputs": [
    {
     "name": "stdout",
     "output_type": "stream",
     "text": [
      "----- total error -----\n",
      "Minimum error:  24.83 mm\n",
      "Maximum error:  680.85 mm\n",
      "Mean error:     93.80 mm\n",
      "Median error:   84.36 mm\n",
      "\n",
      "----- X-axis error -----\n",
      "Minimum error (x-axis): 0.68 mm\n",
      "Maximum error (x-axis): 103.93 mm\n",
      "Mean error (x-axis): 13.31 mm\n",
      "Median error (x-axis): 11.68 mm\n",
      "\n",
      "----- Y-axis error -----\n",
      "Minimum error (y-axis): 2.30 mm\n",
      "Maximum error (y-axis): 93.41 mm\n",
      "Mean error (y-axis): 21.11 mm\n",
      "Median error (y-axis): 19.72 mm\n",
      "\n",
      "----- Z-axis error -----\n",
      "Minimum error (z-axis): 13.83 mm\n",
      "Maximum error (z-axis): 676.18 mm\n",
      "Mean error (z-axis): 84.89 mm\n",
      "Median error (z-axis): 75.11 mm\n"
     ]
    },
    {
     "data": {
      "text/plain": [
       "{'min_error_total': 24.830812474623848,\n",
       " 'max_error_total': 680.8490729769635,\n",
       " 'mean_error_total': 93.79576752765487,\n",
       " 'median_error_total': 84.35712401092552,\n",
       " 'min_error_xaxis': 0.6760856750277963,\n",
       " 'max_error_xaxis': 103.92670073474987,\n",
       " 'mean_error_xaxis': 13.312697064518968,\n",
       " 'median_error_xaxis': 11.677689349189345,\n",
       " 'min_error_y_axis': 2.298663298581625,\n",
       " 'max_error_y_axis': 93.40686770856665,\n",
       " 'mean_error_y_axis': 21.113630396612468,\n",
       " 'median_error_y_axis': 19.721432919988487,\n",
       " 'min_error_z_axis': 13.827273546584268,\n",
       " 'max_error_z_axis': 676.1846242892817,\n",
       " 'mean_error_z_axis': 84.88838017105594,\n",
       " 'median_error_z_axis': 75.1140825347498}"
      ]
     },
     "execution_count": 11,
     "metadata": {},
     "output_type": "execute_result"
    }
   ],
   "source": [
    "errs = calculate_errors(results_all, gts_all)\n",
    "summary_errors(errs)"
   ]
  },
  {
   "cell_type": "code",
   "execution_count": null,
   "metadata": {},
   "outputs": [],
   "source": []
  },
  {
   "cell_type": "code",
   "execution_count": 67,
   "metadata": {},
   "outputs": [
    {
     "name": "stdout",
     "output_type": "stream",
     "text": [
      "checkpoint_name: MB_train_h36m_gt_cam_no_factor_input_from_canonical_3d_revolute_input_centering\n",
      "subset: H36M-GT-CAM_NO_FACTOR-INPUT_FROM_3D_CANONICAL_REVOLUTE\n",
      "subset: FIT3D-GT-CAM_NO_FACTOR-INPUT_FROM_3D_CANONICAL_REVOLUTE-ALL_TEST\n",
      "subset: 3DHP-GT-CAM_NO_FACTOR-INPUT_FROM_3D_CANONICAL_REVOLUTE-TEST_TS1_6\n",
      "subset: 3DHP-GT-CAM_NO_FACTOR-INPUT_FROM_3D_CANONICAL_REVOLUTE-TEST_TS1_6_UNIV\n",
      "subset: 3DHP-GT-CAM_NO_FACTOR-INPUT_FROM_3D_CANONICAL_REVOLUTE-TEST_ALL_TRAIN\n"
     ]
    }
   ],
   "source": [
    "save_path = '/home/hrai/codes/MotionBERT/errs_dict.pkl'\n",
    "if not os.path.exists(save_path): errs_dict = {}\n",
    "else: errs_dict = readpkl(save_path)\n",
    "\n",
    "for checkpoint_name in ['MB_train_h36m_gt_cam_no_factor_input_from_canonical_3d_revolute_input_centering']: # checkpoint_list:\n",
    "    print(f'checkpoint_name: {checkpoint_name}')\n",
    "    args, opts = get_opt_args_from_model_name(checkpoint_name, verbose=False)\n",
    "    motionbert_root = f'/home/{user}/codes/MotionBERT'\n",
    "    experiment_path = f'{motionbert_root}/experiments/{checkpoint_name}.txt'\n",
    "    if not os.path.exists(experiment_path): continue\n",
    "    if checkpoint_name not in errs_dict: errs_dict[checkpoint_name] = {}\n",
    "    with open(experiment_path, 'r') as f:\n",
    "        for line in f:\n",
    "            subset = line.split('\\n')[0]\n",
    "            print(f'subset: {subset}')\n",
    "            if subset in errs_dict[checkpoint_name]: continue\n",
    "            #args.subset_list = [subset]\n",
    "            #train_loader, test_loader, _, _, datareader = load_dataset(args, use_new_datareader=True, verbose=False)\n",
    "\n",
    "            # load results_all\n",
    "            save_folder = f'/home/hrai/codes/MotionBERT/saved_results/{checkpoint_name}'\n",
    "            save_path = os.path.join(save_folder, f'{subset}.pkl')\n",
    "            if not os.path.exists(save_path): \n",
    "                print(f'Not exists: {save_path}')\n",
    "                continue\n",
    "            results_dict = readpkl(save_path)\n",
    "            if 'results_all' not in results_dict: \n",
    "                print(f'No results_all: {save_path}')\n",
    "                continue\n",
    "            results_all = results_dict['results_all']\n",
    "\n",
    "            # get gts_all\n",
    "            save_path = f'/home/hrai/codes/MotionBERT/saved_gts/{subset}.pkl'\n",
    "            gts_all = readpkl(save_path)\n",
    "\n",
    "            errs = calculate_errors(results_all, gts_all)\n",
    "            errs_dict[checkpoint_name][subset] = summary_errors(errs, verbose=False)"
   ]
  },
  {
   "cell_type": "code",
   "execution_count": 68,
   "metadata": {},
   "outputs": [],
   "source": [
    "save_path = './errs_dict.pkl'\n",
    "savepkl(errs_dict, save_path)"
   ]
  },
  {
   "cell_type": "code",
   "execution_count": 4,
   "metadata": {},
   "outputs": [],
   "source": [
    "save_path = './errs_dict.pkl'\n",
    "errs_dict = readpkl(save_path)"
   ]
  },
  {
   "cell_type": "code",
   "execution_count": 70,
   "metadata": {},
   "outputs": [],
   "source": [
    "for key in errs_dict.keys():\n",
    "    if len(errs_dict[key]) == 0: \n",
    "        print(f'{key}: No data')\n",
    "        args, opts = get_opt_args_from_model_name(key, verbose=False)\n",
    "        motionbert_root = f'/home/{user}/codes/MotionBERT'\n",
    "        experiment_path = f'{motionbert_root}/experiments/{key}.txt'\n",
    "        print(os.path.exists(experiment_path))\n",
    "        with open(experiment_path, 'r') as f:\n",
    "            for line in f:\n",
    "                subset = line.split('\\n')[0]\n",
    "                print(f'subset: {subset}')\n",
    "                # load results_all\n",
    "                save_folder = f'/home/hrai/codes/MotionBERT/saved_results/{key}'\n",
    "                save_path = os.path.join(save_folder, f'{subset}.pkl')\n",
    "                if not os.path.exists(save_path):\n",
    "                    print(f'Not exists: {save_path}')\n",
    "                    continue\n",
    "                results_dict = readpkl(save_path)\n",
    "                if 'results_all' not in results_dict: continue\n",
    "                results_all = results_dict['results_all']\n",
    "\n",
    "                # get gts_all\n",
    "                save_path = f'/home/hrai/codes/MotionBERT/saved_gts/{subset}.pkl'\n",
    "                gts_all = readpkl(save_path)\n",
    "\n",
    "                errs = calculate_errors(results_all, gts_all)\n",
    "                errs_dict[key][subset] = summary_errors(errs, verbose=False)\n",
    "        print(len(errs_dict[key]))"
   ]
  },
  {
   "cell_type": "code",
   "execution_count": 8,
   "metadata": {},
   "outputs": [
    {
     "data": {
      "text/plain": [
       "dict_keys(['min_error_total', 'max_error_total', 'mean_error_total', 'median_error_total', 'min_error_xaxis', 'max_error_xaxis', 'mean_error_xaxis', 'median_error_xaxis', 'min_error_y_axis', 'max_error_y_axis', 'mean_error_y_axis', 'median_error_y_axis', 'min_error_z_axis', 'max_error_z_axis', 'mean_error_z_axis', 'median_error_z_axis'])"
      ]
     },
     "execution_count": 8,
     "metadata": {},
     "output_type": "execute_result"
    }
   ],
   "source": [
    "error_list = errs_dict['MB_train_3dhp_gt_cam_no_factor_input_centering_tr_s1']['H36M-GT-CAM_NO_FACTOR-TEST_ALL'].keys()\n",
    "error_list"
   ]
  },
  {
   "cell_type": "code",
   "execution_count": 9,
   "metadata": {},
   "outputs": [
    {
     "ename": "KeyError",
     "evalue": "'3DHP-GT-CAM_NO_FACTOR-INPUT_FROM_3D_CANONICAL_REVOLUTE-TEST_ALL_TRAIN'",
     "output_type": "error",
     "traceback": [
      "\u001b[0;31m---------------------------------------------------------------------------\u001b[0m",
      "\u001b[0;31mKeyError\u001b[0m                                  Traceback (most recent call last)",
      "Cell \u001b[0;32mIn[9], line 18\u001b[0m\n\u001b[1;32m     16\u001b[0m summary_dict[checkpoint][subset][error_key] \u001b[38;5;241m=\u001b[39m \u001b[38;5;241m0\u001b[39m\n\u001b[1;32m     17\u001b[0m \u001b[38;5;28;01mfor\u001b[39;00m seed \u001b[38;5;129;01min\u001b[39;00m seed_list:\n\u001b[0;32m---> 18\u001b[0m     summary_dict[checkpoint][subset][error_key] \u001b[38;5;241m+\u001b[39m\u001b[38;5;241m=\u001b[39m \u001b[43merrs_dict\u001b[49m\u001b[43m[\u001b[49m\u001b[38;5;124;43mf\u001b[39;49m\u001b[38;5;124;43m'\u001b[39;49m\u001b[38;5;132;43;01m{\u001b[39;49;00m\u001b[43mcheckpoint\u001b[49m\u001b[38;5;132;43;01m}\u001b[39;49;00m\u001b[38;5;132;43;01m{\u001b[39;49;00m\u001b[43mseed\u001b[49m\u001b[38;5;132;43;01m}\u001b[39;49;00m\u001b[38;5;124;43m'\u001b[39;49m\u001b[43m]\u001b[49m\u001b[43m[\u001b[49m\u001b[43msubset\u001b[49m\u001b[43m]\u001b[49m[error_key]\n\u001b[1;32m     19\u001b[0m summary_dict[checkpoint][subset][error_key] \u001b[38;5;241m/\u001b[39m\u001b[38;5;241m=\u001b[39m \u001b[38;5;28mlen\u001b[39m(seed_list)\n",
      "\u001b[0;31mKeyError\u001b[0m: '3DHP-GT-CAM_NO_FACTOR-INPUT_FROM_3D_CANONICAL_REVOLUTE-TEST_ALL_TRAIN'"
     ]
    }
   ],
   "source": [
    "checkpoint_list = [\n",
    "    'MB_train_h36m_gt_cam_no_factor_input_from_canonical_3d_revolute_input_centering',\n",
    "    'MB_train_h36m_gt_cam_no_factor_input_centering',\n",
    "    'MB_train_h36m_gt_cam_no_factor',\n",
    "]\n",
    "\n",
    "seed_list = ['', '_seed1', '_seed2', '_seed3', '_seed4']\n",
    "summary_dict = {}\n",
    "for checkpoint in checkpoint_list:\n",
    "    summary_dict[checkpoint] = {}\n",
    "    subset_list = list(errs_dict[checkpoint].keys())\n",
    "    error_list = list(errs_dict[checkpoint][subset_list[0]].keys())\n",
    "    for subset in subset_list:\n",
    "        summary_dict[checkpoint][subset] = {}\n",
    "        for error_key in error_list:\n",
    "            summary_dict[checkpoint][subset][error_key] = 0\n",
    "            for seed in seed_list:\n",
    "                summary_dict[checkpoint][subset][error_key] += errs_dict[f'{checkpoint}{seed}'][subset][error_key]\n",
    "            summary_dict[checkpoint][subset][error_key] /= len(seed_list)\n",
    "            \n"
   ]
  },
  {
   "cell_type": "code",
   "execution_count": null,
   "metadata": {},
   "outputs": [],
   "source": [
    "pt = prettytable.PrettyTable()\n"
   ]
  },
  {
   "cell_type": "markdown",
   "metadata": {},
   "source": [
    "### poses where the angle between pred body frame and gt body frame is larger than 90 degrees"
   ]
  },
  {
   "cell_type": "code",
   "execution_count": 6,
   "metadata": {},
   "outputs": [],
   "source": [
    "over_90_idxs = []\n",
    "over_90_inputs = []\n",
    "over_90_preds = []\n",
    "over_90_gts = []\n",
    "over_90_angles = []\n",
    "forward_vector_preds = []\n",
    "forward_vector_gts = []\n",
    "\n",
    "for idx in range(len(results_all)):\n",
    "    # check if the clip is in the block list\n",
    "    if 'H36M-SH' in args.subset_list:\n",
    "        source = source_clips[idx][0][:-6]\n",
    "    else:\n",
    "        source = source_clips[idx]\n",
    "    frame_list = frame_clips[idx] # range(idx*243, (idx+1)*243)\n",
    "    action = action_clips[idx][0]\n",
    "    factor = factor_clips[idx][:,None,None]\n",
    "    input = inputs_all[idx]\n",
    "    gt = gt_clips[idx]\n",
    "    pred = results_all[idx]\n",
    "\n",
    "    pred = pred - pred[:,0:1,:] # (243, 17, 3)\n",
    "    gt = gt - gt[:,0:1,:] # (243, 17, 3)\n",
    "\n",
    "    _, pred_lower_frame_R = get_batch_lower_torso_frame_from_pose(pred)\n",
    "    _, gt_lower_frame_R = get_batch_lower_torso_frame_from_pose(gt)\n",
    "    forward_vector_pred = pred_lower_frame_R[:, :, 0]\n",
    "    forward_vector_pred /= torch.norm(forward_vector_pred, dim=1, keepdim=True)\n",
    "    forward_vector_gt = gt_lower_frame_R[:, :, 0]\n",
    "    forward_vector_gt /= torch.norm(forward_vector_gt, dim=1, keepdim=True)\n",
    "    #forward_vector_pred_xz_projected = forward_vector_pred.clone()\n",
    "    #forward_vector_pred_xz_projected[:, 1] = 0\n",
    "    #forward_vector_pred_xz_projected /= torch.norm(forward_vector_pred_xz_projected, dim=1, keepdim=True)\n",
    "    #forward_vector_gt_xz_projected = forward_vector_gt.clone()\n",
    "    #forward_vector_gt_xz_projected[:, 1] = 0\n",
    "    #forward_vector_gt_xz_projected /= torch.norm(forward_vector_gt_xz_projected, dim=1, keepdim=True)\n",
    "    angles = batch_angle_between_vectors(forward_vector_pred.cpu().numpy(), forward_vector_gt.cpu().numpy())\n",
    "\n",
    "    angle_where_over_90 = np.where(angles > 90)[0]\n",
    "    if len(angle_where_over_90) > 0:\n",
    "        #print(angle_where_over_90)\n",
    "        for i in angle_where_over_90:\n",
    "            #print(angles[i])\n",
    "            over_90_idxs.append([idx, i])\n",
    "            over_90_inputs.append(input[i])\n",
    "            over_90_preds.append(pred[i])\n",
    "            over_90_gts.append(gt[i])\n",
    "            over_90_angles.append(angles[i])\n",
    "            forward_vector_preds.append(forward_vector_pred[i])\n",
    "            forward_vector_gts.append(forward_vector_gt[i])\n",
    "    #break\n",
    "over_90_inputs = np.stack(over_90_inputs)\n",
    "over_90_preds = np.stack(over_90_preds)\n",
    "over_90_gts = np.stack(over_90_gts)\n",
    "over_90_angles = np.stack(over_90_angles)\n",
    "forward_vector_preds = np.stack(forward_vector_preds)\n",
    "forward_vector_gts = np.stack(forward_vector_gts)"
   ]
  },
  {
   "cell_type": "code",
   "execution_count": 7,
   "metadata": {},
   "outputs": [
    {
     "data": {
      "text/plain": [
       "((7846, 17, 3), (7846, 17, 3), (7846, 17, 3), (7846,), (7846, 3), (7846, 3))"
      ]
     },
     "execution_count": 7,
     "metadata": {},
     "output_type": "execute_result"
    }
   ],
   "source": [
    "over_90_inputs.shape, over_90_preds.shape, over_90_gts.shape, over_90_angles.shape, forward_vector_preds.shape, forward_vector_gts.shape"
   ]
  },
  {
   "cell_type": "code",
   "execution_count": 8,
   "metadata": {},
   "outputs": [
    {
     "ename": "NameError",
     "evalue": "name 'frame_num' is not defined",
     "output_type": "error",
     "traceback": [
      "\u001b[0;31m---------------------------------------------------------------------------\u001b[0m",
      "\u001b[0;31mNameError\u001b[0m                                 Traceback (most recent call last)",
      "Cell \u001b[0;32mIn[8], line 1\u001b[0m\n\u001b[0;32m----> 1\u001b[0m gt_clips[over_90_idxs[\u001b[43mframe_num\u001b[49m][\u001b[38;5;241m0\u001b[39m]][over_90_idxs[frame_num][\u001b[38;5;241m1\u001b[39m]]\u001b[38;5;241m.\u001b[39mshape\n",
      "\u001b[0;31mNameError\u001b[0m: name 'frame_num' is not defined"
     ]
    }
   ],
   "source": [
    "gt_clips[over_90_idxs[frame_num][0]][over_90_idxs[frame_num][1]].shape"
   ]
  },
  {
   "cell_type": "code",
   "execution_count": 9,
   "metadata": {},
   "outputs": [
    {
     "name": "stdout",
     "output_type": "stream",
     "text": [
      "[898, 164] 101.45681\n",
      "\n"
     ]
    },
    {
     "data": {
      "application/vnd.jupyter.widget-view+json": {
       "model_id": "97f9200271cb498984f2946c731b2765",
       "version_major": 2,
       "version_minor": 0
      },
      "image/png": "[encoded data removed]",
      "text/html": [
       "\n",
       "            <div style=\"display: inline-block;\">\n",
       "                <div class=\"jupyter-widgets widget-label\" style=\"text-align: center;\">\n",
       "                    Figure\n",
       "                </div>\n",
       "                <img src='data:image/png;base64,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' width=640.0/>\n",
       "            </div>\n",
       "        "
      ],
      "text/plain": [
       "Canvas(toolbar=Toolbar(toolitems=[('Home', 'Reset original view', 'home', 'home'), ('Back', 'Back to previous …"
      ]
     },
     "metadata": {},
     "output_type": "display_data"
    }
   ],
   "source": [
    "%matplotlib widget\n",
    "frame_num = 1000\n",
    "gt = over_90_gts[frame_num]\n",
    "pred = over_90_preds[frame_num]\n",
    "input_2d = over_90_inputs[frame_num]\n",
    "configs = {\n",
    "    'ax_3d': {'type': '3d', 'loc': 131, 'mode': 'cam'},\n",
    "    'ax_3d_top': {'type': '3d', 'loc': 132, 'mode': 'cam_top', 'xlim': [-1, 1], 'ylim': [-1, 1], 'zlim': [-1, 1]},\n",
    "    'ax_2d': {'type': '2d', 'loc': 133, 'normalize': True},\n",
    "}\n",
    "fig, axs = generate_axes(0, configs, fig_title='')\n",
    "plot_pose_setting = [\n",
    "    #('ax_3d', gt_clips[over_90_idxs[frame_num][0]][over_90_idxs[frame_num][1]],      {'color': 'k', 'label': ''}),\n",
    "    ('ax_3d', pred,      {'color': 'b', 'label': ''}),\n",
    "    ('ax_3d', gt,        {'color': 'r', 'label': ''}),\n",
    "    ('ax_2d', input_2d,  {'color': '', 'label': ''}),\n",
    "]\n",
    "general_plot_func(axs, configs, plot_pose_setting, frame_num)\n",
    "#draw3d_arrow([0, 0, 0], forward_vector_preds[frame_num], head_length=0.2, color=\"tab:blue\", ax = axs['ax_3d'])\n",
    "#draw3d_arrow([0, 0, 0], forward_vector_gts[frame_num], head_length=0.2, color=\"tab:red\", ax = axs['ax_3d'])\n",
    "draw3d_arrow([0, 0, 0], forward_vector_preds[frame_num], head_length=0.2, color=\"tab:blue\", ax = axs['ax_3d_top'])\n",
    "draw3d_arrow([0, 0, 0], forward_vector_gts[frame_num], head_length=0.2, color=\"tab:red\", ax = axs['ax_3d_top'])\n",
    "print(over_90_idxs[frame_num], over_90_angles[frame_num])\n",
    "print()\n",
    "plt.show()"
   ]
  },
  {
   "cell_type": "code",
   "execution_count": 10,
   "metadata": {},
   "outputs": [
    {
     "name": "stdout",
     "output_type": "stream",
     "text": [
      "MPJPE whole body: 274.02 mm\n",
      "MPJPE upper body: 422.43, lower body: 62.00 mm\n",
      "MPJPE upper body (root-relative): 84.54 mm\n",
      "MPJPE whole body (torso modified by gt torso): 75.26 mm\n",
      "MPJPE whole body (torso modified by z-filpped pred torso): 101.08 mm\n"
     ]
    }
   ],
   "source": [
    "idxs = 898\n",
    "frame_num = 164\n",
    "pred = results_all[idxs][frame_num].copy()\n",
    "gt = gt_clips[idxs][frame_num].copy()\n",
    "# root-relative\n",
    "pred = pred - pred[0:1]\n",
    "gt = gt - gt[0:1]\n",
    "mpjpe_whole_body = mpjpe_for_each_joint(pred, gt).mean()*1000\n",
    "print(f'MPJPE whole body: {mpjpe_whole_body:.2f} mm')\n",
    "\n",
    "def get_part_pose(pose, part='whole'):\n",
    "    if part == 'whole': return pose\n",
    "    elif part == 'upper_body': part_keyjoints = get_h36m_keypoint_index(['torso', 'neck', 'nose', 'head', 'l_shoulder', 'l_elbow', 'l_wrist', 'r_shoulder', 'r_elbow', 'r_wrist'])\n",
    "    elif part == 'lower_body': part_keyjoints = get_h36m_keypoint_index(['pelvis', 'l_hip', 'l_knee', 'l_ankle', 'r_hip', 'r_knee', 'r_ankle'])\n",
    "    else: raise ValueError(f'Invalid part: {part}')\n",
    "    if len(pose.shape) == 2: return pose[part_keyjoints]\n",
    "    elif len(pose.shape) == 3: return pose[:, part_keyjoints]\n",
    "    else: raise ValueError(f'Invalid pose shape: {pose.shape}')\n",
    "\n",
    "pred_upper_body = get_part_pose(pred, 'upper_body') # pred[upper_body_joints]\n",
    "pred_lower_body = get_part_pose(pred, 'lower_body') # pred[lower_body_joints]\n",
    "gt_upper_body = get_part_pose(gt, 'upper_body') # gt[upper_body_joints]\n",
    "gt_lower_body = get_part_pose(gt, 'lower_body') # gt[lower_body_joints]\n",
    "\n",
    "mpjpe_upper_body = mpjpe_for_each_joint(pred_upper_body, gt_upper_body).mean()*1000\n",
    "mpjpe_lower_body = mpjpe_for_each_joint(pred_lower_body, gt_lower_body).mean()*1000\n",
    "print(f'MPJPE upper body: {mpjpe_upper_body:.2f}, lower body: {mpjpe_lower_body:.2f} mm')\n",
    "\n",
    "pred_upper_body_hat = pred_upper_body - pred_upper_body[0:1]\n",
    "gt_upper_body_hat = gt_upper_body - gt_upper_body[0:1]\n",
    "mpjpe_upper_body_hat = mpjpe_for_each_joint(pred_upper_body_hat, gt_upper_body_hat).mean()*1000\n",
    "print(f'MPJPE upper body (root-relative): {mpjpe_upper_body_hat:.2f} mm')\n",
    "\n",
    "# torso modified pred\n",
    "def change_torso_position(pred, gt, target_position='gt'):\n",
    "    pred_upper_body = get_part_pose(pred, 'upper_body')\n",
    "    pred_upper_body_hat = pred_upper_body - pred_upper_body[0:1]\n",
    "    torso_idx = get_h36m_keypoint_index(['torso'])\n",
    "    if len(pred.shape) == 2:\n",
    "        if target_position == 'gt':\n",
    "            target_torso = gt[torso_idx].copy()\n",
    "        elif target_position == 'flip':\n",
    "            target_torso = pred[torso_idx].copy()\n",
    "            target_torso[:, 2] *= -1\n",
    "        pred_upper_body_modified = pred_upper_body_hat.copy() + target_torso\n",
    "        pred_modified = pred.copy()\n",
    "        upper_body_joints = get_h36m_keypoint_index(['torso', 'neck', 'nose', 'head', 'l_shoulder', 'l_elbow', 'l_wrist', 'r_shoulder', 'r_elbow', 'r_wrist'])\n",
    "        pred_modified[upper_body_joints] = pred_upper_body_modified\n",
    "    elif len(pred.shape) == 3:\n",
    "        if target_position == 'gt':\n",
    "            target_torso = gt[:, torso_idx].copy()\n",
    "        elif target_position == 'flip':\n",
    "            target_torso = pred[:, torso_idx].copy()\n",
    "            target_torso[:, :, 2] *= -1\n",
    "        pred_upper_body_modified = pred_upper_body_hat.copy() + target_torso\n",
    "        pred_modified = pred.copy()\n",
    "        upper_body_joints = get_h36m_keypoint_index(['torso', 'neck', 'nose', 'head', 'l_shoulder', 'l_elbow', 'l_wrist', 'r_shoulder', 'r_elbow', 'r_wrist'])\n",
    "        pred_modified[:, upper_body_joints] = pred_upper_body_modified\n",
    "    return pred_modified\n",
    "\n",
    "pred_modified = change_torso_position(pred, gt, target_position='gt')\n",
    "mpjpe_whole_body_modified = mpjpe_for_each_joint(pred_modified, gt).mean()*1000\n",
    "print(f'MPJPE whole body (torso modified by gt torso): {mpjpe_whole_body_modified:.2f} mm')\n",
    "\n",
    "pred_modified_zflipped = change_torso_position(pred, gt, target_position='flip')\n",
    "mpjpe_whole_body_modified_zflipped = mpjpe_for_each_joint(pred_modified_zflipped, gt).mean()*1000\n",
    "print(f'MPJPE whole body (torso modified by z-filpped pred torso): {mpjpe_whole_body_modified_zflipped:.2f} mm')"
   ]
  },
  {
   "cell_type": "code",
   "execution_count": 11,
   "metadata": {},
   "outputs": [
    {
     "data": {
      "application/vnd.jupyter.widget-view+json": {
       "model_id": "647fafc34fcf4c96b9e05185badb14ff",
       "version_major": 2,
       "version_minor": 0
      },
      "image/png": "[encoded data removed]",
      "text/html": [
       "\n",
       "            <div style=\"display: inline-block;\">\n",
       "                <div class=\"jupyter-widgets widget-label\" style=\"text-align: center;\">\n",
       "                    Figure\n",
       "                </div>\n",
       "                <img src='data:image/png;base64,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' width=640.0/>\n",
       "            </div>\n",
       "        "
      ],
      "text/plain": [
       "Canvas(toolbar=Toolbar(toolitems=[('Home', 'Reset original view', 'home', 'home'), ('Back', 'Back to previous …"
      ]
     },
     "metadata": {},
     "output_type": "display_data"
    }
   ],
   "source": [
    "%matplotlib widget\n",
    "configs = {\n",
    "    'ax_3d': {'type': '3d', 'loc': 121, 'mode': 'cam'},\n",
    "    'ax_3d_top': {'type': '3d', 'loc': 122, 'mode': 'cam_top', 'xlim': [-1, 1], 'ylim': [-1, 1], 'zlim': [-1, 1]},\n",
    "}\n",
    "fig, axs = generate_axes(1, configs, fig_title='')\n",
    "plot_pose_setting = [\n",
    "    ('ax_3d', gt,                       {'color': 'r', 'label': ''}),\n",
    "    ('ax_3d', pred,                     {'color': 'y', 'label': ''}),\n",
    "    ('ax_3d', pred_modified,        {'color': 'b', 'label': ''}),\n",
    "    ('ax_3d', pred_modified_zflipped, {'color': 'k', 'label': ''}),\n",
    "    ('ax_3d_top', gt,               {'color': 'r', 'label': ''}),\n",
    "    ('ax_3d_top', pred,             {'color': 'y', 'label': ''}),\n",
    "    ('ax_3d_top', pred_modified,    {'color': 'b', 'label': ''}),\n",
    "    ('ax_3d_top', pred_modified_zflipped, {'color': 'k', 'label': ''}),\n",
    "]\n",
    "general_plot_func(axs, configs, plot_pose_setting, frame_num)\n",
    "plt.show()"
   ]
  },
  {
   "cell_type": "markdown",
   "metadata": {},
   "source": [
    "### poses that have large error than mean"
   ]
  },
  {
   "cell_type": "code",
   "execution_count": 36,
   "metadata": {},
   "outputs": [
    {
     "name": "stdout",
     "output_type": "stream",
     "text": [
      "18.090481192999476\n",
      "681.5675157567334\n"
     ]
    },
    {
     "data": {
      "application/vnd.jupyter.widget-view+json": {
       "model_id": "086998c60943494c959bd6fc3d2e4841",
       "version_major": 2,
       "version_minor": 0
      },
      "image/png": "[encoded data removed]",
      "text/html": [
       "\n",
       "            <div style=\"display: inline-block;\">\n",
       "                <div class=\"jupyter-widgets widget-label\" style=\"text-align: center;\">\n",
       "                    Figure 2\n",
       "                </div>\n",
       "                <img src='data:image/png;base64,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' width=640.0/>\n",
       "            </div>\n",
       "        "
      ],
      "text/plain": [
       "Canvas(toolbar=Toolbar(toolitems=[('Home', 'Reset original view', 'home', 'home'), ('Back', 'Back to previous …"
      ]
     },
     "metadata": {},
     "output_type": "display_data"
    }
   ],
   "source": [
    "%matplotlib widget\n",
    "min_frame_num = np.argmin(errs_per_frame) % 243\n",
    "min_idx = np.argmin(errs_per_frame) // 243\n",
    "min_gt = gt_clips[min_idx][min_frame_num].copy()\n",
    "min_gt -= min_gt[0]\n",
    "min_pred = results_all[min_idx][min_frame_num].copy()\n",
    "min_pred -= min_pred[0]\n",
    "\n",
    "max_frame_num = np.argmax(errs_per_frame) % 243\n",
    "max_idx = np.argmax(errs_per_frame) // 243\n",
    "max_gt = gt_clips[max_idx][max_frame_num].copy()\n",
    "max_gt -= max_gt[0]\n",
    "max_pred = results_all[max_idx][max_frame_num].copy()\n",
    "max_pred -= max_pred[0]\n",
    "\n",
    "print(mpjpe_for_each_joint(min_pred, min_gt).mean()*1000)\n",
    "print(mpjpe_for_each_joint(max_pred, max_gt).mean()*1000)\n",
    "configs = {\n",
    "    'min_ax_3d': {'type': '3d', 'loc': 231, 'mode': 'cam'},\n",
    "    'min_ax_3d_top': {'type': '3d', 'loc': 232, 'mode': 'cam_top', 'xlim': [-1, 1], 'ylim': [-1, 1], 'zlim': [-1, 1]},\n",
    "    'min_ax_2d': {'type': '2d', 'loc': 233, 'normalize': True},\n",
    "    'max_ax_3d': {'type': '3d', 'loc': 234, 'mode': 'cam'},\n",
    "    'max_ax_3d_top': {'type': '3d', 'loc': 235, 'mode': 'cam_top', 'xlim': [-1, 1], 'ylim': [-1, 1], 'zlim': [-1, 1]},\n",
    "    'max_ax_2d': {'type': '2d', 'loc': 236, 'normalize': True},\n",
    "}\n",
    "fig, axs = generate_axes(2, configs, fig_title='')\n",
    "plot_pose_setting = [\n",
    "    ('min_ax_3d', min_gt,                               {'color': 'k', 'label': ''}),\n",
    "    ('min_ax_3d', min_pred,                             {'color': '', 'label': ''}),\n",
    "    ('min_ax_3d_top', min_gt,                           {'color': 'k', 'label': ''}),\n",
    "    ('min_ax_3d_top', min_pred,                         {'color': '', 'label': ''}),\n",
    "    ('min_ax_2d', inputs_all[min_idx][min_frame_num],   {'color': '', 'label': ''}),\n",
    "    ('max_ax_3d', max_gt,                               {'color': 'k', 'label': ''}),\n",
    "    ('max_ax_3d', max_pred,                             {'color': '', 'label': ''}),\n",
    "    ('max_ax_3d_top', max_gt,                           {'color': 'k', 'label': ''}),\n",
    "    ('max_ax_3d_top', max_pred,                         {'color': '', 'label': ''}),\n",
    "    ('max_ax_2d', inputs_all[max_idx][max_frame_num],   {'color': '', 'label': ''}),\n",
    "]\n",
    "general_plot_func(axs, configs, plot_pose_setting, 0)\n",
    "plt.show()"
   ]
  },
  {
   "cell_type": "code",
   "execution_count": 66,
   "metadata": {},
   "outputs": [
    {
     "data": {
      "text/plain": [
       "(243, 17, 3)"
      ]
     },
     "execution_count": 66,
     "metadata": {},
     "output_type": "execute_result"
    }
   ],
   "source": [
    "max_pred.shape"
   ]
  },
  {
   "cell_type": "markdown",
   "metadata": {},
   "source": [
    "### z-axis reverse"
   ]
  },
  {
   "cell_type": "code",
   "execution_count": 27,
   "metadata": {},
   "outputs": [
    {
     "name": "stdout",
     "output_type": "stream",
     "text": [
      "Minimum error: 18.09 mm\n",
      "Maximum error: 402.12 mm\n",
      "Mean error: 81.12 mm\n",
      "Median error: 73.79 mm\n"
     ]
    }
   ],
   "source": [
    "err1_per_frames = []\n",
    "for idx in range(len(results_all)):\n",
    "    # check if the clip is in the block list\n",
    "    if 'H36M-SH' in args.subset_list:\n",
    "        source = source_clips[idx][0][:-6]\n",
    "    else:\n",
    "        source = source_clips[idx]\n",
    "    frame_list = frame_clips[idx] # range(idx*243, (idx+1)*243)\n",
    "    action = action_clips[idx][0]\n",
    "    factor = factor_clips[idx][:,None,None]\n",
    "    input = inputs_all[idx]\n",
    "    gt = gt_clips[idx]\n",
    "    pred = results_all[idx]\n",
    "\n",
    "    pred = pred - pred[:,0:1,:] # (243, 17, 3)\n",
    "    gt = gt - gt[:,0:1,:] # (243, 17, 3)\n",
    "\n",
    "    err1_per_joint = mpjpe_for_each_joint(pred, gt) # (243, 17)\n",
    "    err1_per_frame = np.mean(err1_per_joint, axis=1) # mpjpe(pred, gt) # (243, )\n",
    "\n",
    "    # z-axis flip\n",
    "    pred_zflip = pred.copy()\n",
    "    pred_zflip[:, :, 2] *= -1\n",
    "    err1_per_joint_zflip = mpjpe_for_each_joint(pred_zflip, gt)\n",
    "    err1_per_frame_zflip = np.mean(err1_per_joint_zflip, axis=1)\n",
    "\n",
    "    for i in range(len(err1_per_frame)):\n",
    "        if err1_per_frame[i] > err1_per_frame_zflip[i]:\n",
    "            err1_per_frame[i] = err1_per_frame_zflip[i]\n",
    "    err1_per_frames.append(err1_per_frame)\n",
    "\n",
    "err1_per_frames = np.stack(err1_per_frames)\n",
    "print(f\"Minimum error: {err1_per_frames.min()*1000:.2f} mm\")\n",
    "print(f\"Maximum error: {err1_per_frames.max()*1000:.2f} mm\")\n",
    "print(f\"Mean error: {err1_per_frames.mean()*1000:.2f} mm\")\n",
    "print(f\"Median error: {np.median(err1_per_frames)*1000:.2f} mm\")"
   ]
  },
  {
   "cell_type": "code",
   "execution_count": 26,
   "metadata": {},
   "outputs": [
    {
     "name": "stdout",
     "output_type": "stream",
     "text": [
      "Minimum error: 17.24 mm\n",
      "Maximum error: 315.51 mm\n",
      "Mean error: 67.25 mm\n",
      "Median error: 63.83 mm\n"
     ]
    }
   ],
   "source": [
    "err1_per_frames = []\n",
    "for idx in range(len(results_all)):\n",
    "    # check if the clip is in the block list\n",
    "    if 'H36M-SH' in args.subset_list:\n",
    "        source = source_clips[idx][0][:-6]\n",
    "    else:\n",
    "        source = source_clips[idx]\n",
    "    frame_list = frame_clips[idx] # range(idx*243, (idx+1)*243)\n",
    "    action = action_clips[idx][0]\n",
    "    factor = factor_clips[idx][:,None,None]\n",
    "    input = inputs_all[idx]\n",
    "    gt = gt_clips[idx]\n",
    "    pred = results_all[idx]\n",
    "\n",
    "    pred = pred - pred[:,0:1,:] # (243, 17, 3)\n",
    "    gt = gt - gt[:,0:1,:] # (243, 17, 3)\n",
    "\n",
    "    err1_per_joint = mpjpe_for_each_joint(pred, gt) # (243, 17)\n",
    "    err1_per_frame = np.mean(err1_per_joint, axis=1) # mpjpe(pred, gt) # (243, )\n",
    "\n",
    "    # z-axis flip\n",
    "    pred_zflip = pred.copy()\n",
    "    pred_zflip[:, :, 2] *= -1\n",
    "    err1_per_joint_zflip = mpjpe_for_each_joint(pred_zflip, gt)\n",
    "    for frame in range(243):\n",
    "        for joint in range(17):\n",
    "            if err1_per_joint[frame, joint] > err1_per_joint_zflip[frame, joint]:\n",
    "                err1_per_joint[frame, joint] = err1_per_joint_zflip[frame, joint]\n",
    "    err1_per_frame = np.mean(err1_per_joint, axis=1)\n",
    "    err1_per_frames.append(err1_per_frame)\n",
    "\n",
    "err1_per_frames = np.stack(err1_per_frames)\n",
    "print(f\"Minimum error: {err1_per_frames.min()*1000:.2f} mm\")\n",
    "print(f\"Maximum error: {err1_per_frames.max()*1000:.2f} mm\")\n",
    "print(f\"Mean error: {err1_per_frames.mean()*1000:.2f} mm\")\n",
    "print(f\"Median error: {np.median(err1_per_frames)*1000:.2f} mm\")"
   ]
  },
  {
   "cell_type": "code",
   "execution_count": 25,
   "metadata": {},
   "outputs": [
    {
     "name": "stdout",
     "output_type": "stream",
     "text": [
      "Minimum error: 18.09 mm\n",
      "Maximum error: 552.56 mm\n",
      "Mean error: 81.79 mm\n",
      "Median error: 73.79 mm\n"
     ]
    }
   ],
   "source": [
    "err1_per_frames = []\n",
    "for idx in range(len(results_all)):\n",
    "    # check if the clip is in the block list\n",
    "    if 'H36M-SH' in args.subset_list:\n",
    "        source = source_clips[idx][0][:-6]\n",
    "    else:\n",
    "        source = source_clips[idx]\n",
    "    frame_list = frame_clips[idx] # range(idx*243, (idx+1)*243)\n",
    "    action = action_clips[idx][0]\n",
    "    factor = factor_clips[idx][:,None,None]\n",
    "    input = inputs_all[idx]\n",
    "    gt = gt_clips[idx]\n",
    "    pred = results_all[idx]\n",
    "\n",
    "    pred = pred - pred[:,0:1,:] # (243, 17, 3)\n",
    "    gt = gt - gt[:,0:1,:] # (243, 17, 3)\n",
    "\n",
    "    err1_per_joint = mpjpe_for_each_joint(pred, gt) # (243, 17)\n",
    "    err1_per_frame = np.mean(err1_per_joint, axis=1) # mpjpe(pred, gt) # (243, )\n",
    "\n",
    "    pred_modified = change_torso_position(pred, gt, target_position='gt')\n",
    "    #print(preds_modified.shape)\n",
    "    err1_per_joint_modified = mpjpe_for_each_joint(pred_modified, gt)\n",
    "    err1_per_frame_modified = np.mean(err1_per_joint_modified, axis=1)\n",
    "\n",
    "    for frame in range(243):\n",
    "        if err1_per_frame[frame] > err1_per_frame_modified[frame]:\n",
    "            #print(f'frame: {frame}, {err1_per_frame[frame]*1000:.2f} -> {err1_per_frame_modified[frame]*1000:.2f}')\n",
    "            #err1_per_frame[frame] = err1_per_frame_modified[frame]\n",
    "            err1_per_frames.append(err1_per_frame_modified[frame])\n",
    "        else:\n",
    "            err1_per_frames.append(err1_per_frame[frame])\n",
    "\n",
    "err1_per_frames = np.stack(err1_per_frames)\n",
    "print(f\"Minimum error: {err1_per_frames.min()*1000:.2f} mm\")\n",
    "print(f\"Maximum error: {err1_per_frames.max()*1000:.2f} mm\")\n",
    "print(f\"Mean error: {err1_per_frames.mean()*1000:.2f} mm\")\n",
    "print(f\"Median error: {np.median(err1_per_frames)*1000:.2f} mm\")"
   ]
  },
  {
   "cell_type": "code",
   "execution_count": 18,
   "metadata": {},
   "outputs": [
    {
     "data": {
      "text/plain": [
       "(243, 17)"
      ]
     },
     "execution_count": 18,
     "metadata": {},
     "output_type": "execute_result"
    }
   ],
   "source": [
    "err1_per_joint_modified.shape"
   ]
  }
 ],
 "metadata": {
  "kernelspec": {
   "display_name": "motionbert",
   "language": "python",
   "name": "python3"
  },
  "language_info": {
   "codemirror_mode": {
    "name": "ipython",
    "version": 3
   },
   "file_extension": ".py",
   "mimetype": "text/x-python",
   "name": "python",
   "nbconvert_exporter": "python",
   "pygments_lexer": "ipython3",
   "version": "3.9.18"
  }
 },
 "nbformat": 4,
 "nbformat_minor": 2
}
