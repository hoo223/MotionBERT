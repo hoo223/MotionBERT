{
 "cells": [
  {
   "cell_type": "code",
   "execution_count": 12,
   "metadata": {},
   "outputs": [],
   "source": [
    "from MotionBERT.common_import import *"
   ]
  },
  {
   "cell_type": "code",
   "execution_count": 13,
   "metadata": {},
   "outputs": [],
   "source": [
    "result_dict = readpkl('result_dict.pkl')"
   ]
  },
  {
   "cell_type": "code",
   "execution_count": 10,
   "metadata": {},
   "outputs": [
    {
     "name": "stdout",
     "output_type": "stream",
     "text": [
      "MB_train_h36m_gt_cam_no_factor_input_from_canonical_3d_fixed_dist_5_adaptive_focal_input_centering_tr_s1\n",
      "MB_train_fit3d_gt_cam_no_factor_input_from_canonical_3d_same_z_ts_s4710\n",
      "MB_train_fit3d_gt_cam_no_factor_with_canonical2_tr_s03\n",
      "MB_train_h36m_gt_cam_no_factor_input_from_canonical_3d_same_z_input_centering_tr_s1_ts_s5678_frame_81\n",
      "MB_train_h36m_gt_cam_no_factor_tr_s19_ts_s5678\n",
      "MB_train_fit3d_gt_cam_no_factor_input_from_canonical_3d_same_z_input_centering_tr_s03\n",
      "MB_train_h36m_gt_cam_no_factor_input_from_canonical_3d_same_z_input_centering_tr_s1_ts_s5678\n",
      "MB_train_h36m_gt_cam_no_factor_input_from_canonical_3d_same_z_input_centering_tr_s19_ts_s5678\n",
      "MB_train_fit3d_gt_cam_no_factor_input_from_canonical_3d_same_z_input_centering_ts_s4710\n",
      "MB_train_h36m_gt_cam_no_factor_tr_s1\n",
      "MB_train_h36m_gt_cam_no_factor\n",
      "MB_train_h36m_gt_cam_no_factor_sinu_pitch_m15_p273_sinu_roll_m15_p273_tr_s1_ts_s5678\n",
      "MB_train_fit3d_gt_cam_no_factor_ts_s4710\n",
      "MB_train_h36m_gt_cam_no_factor_tr_s1_ts_s5678_frame_81\n",
      "MB_train_h36m_gt_cam_no_factor_with_canonical2_tr_s1_ts_s5678\n",
      "MB_train_h36m_gt_cam_no_factor_input_from_canonical_3d_fixed_dist_5_input_centering\n",
      "MB_train_h36m_gt_cam_no_factor_with_canonical2_tr_s1\n",
      "MB_train_h36m_gt_cam_no_factor_input_from_canonical_3d_same_z_input_centering_sinu_pitch_m15_p273_sinu_roll_m15_p273_tr_s1_ts_s5678_prev\n",
      "MB_train_h36m_gt_cam_no_factor_tr_s1_ts_s5678\n",
      "MB_train_h36m_gt_cam_no_factor_input_from_canonical_3d_same_z_input_centering_steprot_1_tr_s1_ts_s5678_no_rootrel\n",
      "MB_train_h36m_gt_cam_no_factor_input_from_canonical_3d_same_z_input_centering_steprot_2+original_tr_s1_ts_s5678\n",
      "MB_train_h36m_gt_cam_no_factor_steprot_1_tr_s1_ts_s5678\n",
      "MB_train_h36m_gt_cam_no_factor_input_from_canonical_3d_fixed_dist_5_adaptive_focal_input_centering_tr_s1_ts_s5678\n",
      "MB_train_h36m_gt_cam_no_factor_steprot_0.5_sinu_pitch_m15_p273_sinu_roll_m15_p273_tr_s1_ts_s5678\n",
      "MB_train_fit3d_gt_cam_no_factor_input_from_canonical_3d_same_z_tr_s03\n",
      "MB_train_h36m_gt_cam_no_factor_input_from_canonical_3d_same_z_input_centering_steprot_1_sinu_pitch_m15_p273_sinu_roll_m15_p273_prev\n",
      "MB_train_h36m_gt_cam_no_factor_input_from_canonical_3d_same_z_input_centering_tr_s1\n",
      "MB_train_h36m_gt_cam_no_factor_input_from_canonical_3d_fixed_dist_5_adaptive_focal_input_centering\n",
      "MB_train_h36m_gt_cam_no_factor_steprot_1.5_tr_s1_ts_s5678\n",
      "MB_train_h36m_gt_cam_no_factor_input_from_canonical_3d_fixed_dist_5_input_centering_tr_s1_ts_s5678\n",
      "MB_train_h36m_gt_cam_no_factor_steprot_0.5_tr_s1_ts_s5678\n",
      "MB_train_h36m_gt_cam_no_factor_steprot_1.5+original_tr_s1_ts_s5678\n",
      "MB_train_h36m_gt_cam_no_factor_input_from_canonical_3d_same_z_input_centering_steprot_2_tr_s1_ts_s5678\n",
      "MB_train_h36m_gt_cam_no_factor_steprot_0.5_sinu_pitch_m15_p273_sinu_roll_m15_p273\n",
      "MB_train_h36m_gt_cam_no_factor_s15678_tr_54138969_ts_others\n",
      "MB_train_fit3d_gt_cam_no_factor_tr_s03\n",
      "MB_train_h36m_gt_cam_no_factor_with_canonical2\n",
      "MB_train_h36m_gt_cam_no_factor_steprot_0.5+original_tr_s1_ts_s5678\n",
      "MB_train_h36m_gt_cam_no_factor_input_from_canonical_3d_same_z_tr_s1\n",
      "MB_train_h36m_gt_cam_no_factor_input_from_canonical_3d_fixed_dist_5_input_centering_tr_s1_ts_s5678_frame_27\n",
      "MB_train_h36m_gt_cam_no_factor_input_from_canonical_3d_same_z_input_centering_steprot_1_2_3+original_tr_s1_ts_s5678\n",
      "MB_train_h36m_gt_cam_no_factor_input_from_canonical_3d_same_z_steprot_2_tr_s1_ts_s5678\n",
      "MB_train_h36m_gt_cam_no_factor_input_from_canonical_3d_same_z\n",
      "MB_train_h36m_gt_cam_no_factor_input_from_canonical_3d_same_z_input_centering_steprot_1_tr_s1_ts_s5678\n",
      "MB_train_h36m_gt_cam_no_factor_with_canonical2_steprot_1_tr_s1_ts_s5678\n",
      "MB_train_h36m_gt_cam_no_factor_input_from_canonical_3d_same_z_input_centering_steprot_1+original_tr_s1_ts_s5678\n",
      "MB_train_h36m_gt_cam_no_factor_input_from_canonical_3d_same_z_tr_s1_ts_s5678\n",
      "MB_train_h36m_gt_cam_no_factor_input_from_canonical_3d_same_z_steprot_1_sinu_pitch_m15_p273_sinu_roll_m15_p273_tr_s1_ts_s5678_prev\n",
      "MB_train_h36m_gt_cam_no_factor_input_from_canonical_3d_same_z_input_centering\n",
      "MB_train_h36m_gt_cam_no_factor_input_from_canonical_3d_same_z_input_centering_steprot_1_sinu_pitch_m15_p273_sinu_roll_m15_p273_tr_s1_ts_s5678_prev\n",
      "MB_train_h36m_gt_cam_no_factor_with_canonical2_norm_input_scale\n",
      "MB_train_h36m_gt_cam_no_factor_input_from_canonical_3d_same_z_input_centering_steprot_3_tr_s1_ts_s5678\n",
      "MB_train_h36m_gt_cam_no_factor_input_from_canonical_3d_fixed_dist_5_input_centering_tr_s1_ts_s5678_frame_81\n",
      "MB_train_h36m_gt_cam_no_factor_sinu_pitch_m15_p273_tr_s1_ts_s5678\n",
      "MB_train_fit3d_gt_cam_no_factor_with_canonical2_ts_s4710\n",
      "MB_train_h36m_gt_cam_no_factor_steprot_0.5_1_1.5+original_tr_s1_ts_s5678\n",
      "MB_train_h36m_gt_cam_no_factor_steprot_1+original_tr_s1_ts_s5678\n",
      "MB_train_h36m_gt_cam_no_factor_steprot_0.5_s1+original_tr_s19_ts_s5678\n",
      "MB_train_h36m_gt_cam_no_factor_rand_yaw_m45_p100_rand_pitch_m45_p100_rand_roll_m30_p100_tr_s1_ts_s5678\n",
      "MB_train_h36m_gt_cam_no_factor_input_from_canonical_3d_same_z_input_centering_rand_yaw_m45_p100_rand_pitch_m45_p100_rand_roll_m30_p100_tr_s1_ts_s5678\n",
      "MB_train_h36m_gt_cam_no_factor_input_from_canonical_3d_same_z_input_centering_steprot_1_sinu_pitch_m15_p273_sinu_roll_m15_p273_tr_s1_ts_s5678\n",
      "MB_train_h36m_gt_cam_no_factor_input_from_canonical_3d_same_z_input_centering_rand_yaw_m45_p100_rand_pitch_m45_p100_rand_roll_m30_p100\n",
      "MB_train_h36m_gt_cam_no_factor_input_from_canonical_3d_same_z_input_centering_rand_yaw_m90_p100_rand_pitch_m90_p100_rand_roll_m30_p100_tr_s1_ts_s5678\n",
      "MB_train_h36m_gt_cam_no_factor_input_from_canonical_3d_same_z_input_centering_steprot_1_sinu_pitch_m15_p273_sinu_roll_m15_p273\n",
      "MB_train_h36m_gt_cam_no_factor_input_from_canonical_3d_same_z_input_centering_steprot_1_sinu_pitch_m30_p273_sinu_roll_m30_p273_tr_s1_ts_s5678\n",
      "MB_train_h36m_gt_cam_no_factor_input_from_canonical_3d_same_z_input_centering_sinu_pitch_m15_p273_sinu_roll_m15_p273_tr_s1_ts_s5678\n",
      "MB_train_h36m_gt_cam_no_factor_input_from_canonical_3d_same_z_input_centering_steprot_0.5_sinu_pitch_m15_p273_sinu_roll_m15_p273_tr_s1_ts_s5678\n",
      "MB_train_h36m_gt_cam_no_factor_input_from_canonical_3d_same_z_input_centering_steprot_0.5_tr_s1_ts_s5678\n",
      "MB_train_h36m_gt_cam_no_factor_input_from_canonical_3d_same_z_input_centering_steprot_0.5_sinu_pitch_m15_p273_sinu_roll_m15_p273\n",
      "MB_train_h36m_gt_cam_no_factor_input_from_canonical_3d_same_z_steprot_0.5_sinu_pitch_m15_p273_sinu_roll_m15_p273_tr_s1_ts_s5678\n",
      "MB_train_h36m_gt_cam_no_factor_input_from_canonical_3d_same_z_input_centering_steprot_0.5_1_1.5+original_tr_s1_ts_s5678\n",
      "MB_train_h36m_gt_cam_no_factor_input_from_canonical_3d_same_z_input_centering_steprot_1.5+original_tr_s1_ts_s5678\n",
      "MB_train_h36m_gt_cam_no_factor_input_from_canonical_3d_same_z_input_centering_steprot_0.5+original_tr_s1_ts_s5678\n",
      "MB_train_h36m_gt_cam_no_factor_input_from_canonical_3d_same_z_input_centering_steprot_1.5_tr_s1_ts_s5678\n",
      "MB_train_h36m_gt_cam_no_factor_input_from_canonical_3d_same_z_rand_yaw_m45_p100_rand_pitch_m45_p100_rand_roll_m30_p100\n",
      "MB_train_h36m_gt_cam_no_factor_input_from_canonical_3d_same_z_steprot_1_sinu_pitch_m15_p273_sinu_roll_m15_p273\n"
     ]
    }
   ],
   "source": [
    "print(*result_dict.keys(), sep='\\n')"
   ]
  },
  {
   "cell_type": "code",
   "execution_count": 53,
   "metadata": {},
   "outputs": [
    {
     "name": "stdout",
     "output_type": "stream",
     "text": [
      "MB_train_h36m_gt_cam_no_factor_input_from_canonical_3d_same_z\n",
      "MB_train_h36m_gt_cam_no_factor_input_from_canonical_3d_same_z_input_centering_rand_yaw_m45_p100_rand_pitch_m45_p100_rand_roll_m30_p100\n",
      "MB_train_h36m_gt_cam_no_factor_input_from_canonical_3d_same_z_input_centering_steprot_1_sinu_pitch_m15_p273_sinu_roll_m15_p273\n",
      "MB_train_h36m_gt_cam_no_factor_input_from_canonical_3d_same_z_input_centering_steprot_0.5_sinu_pitch_m15_p273_sinu_roll_m15_p273\n",
      "MB_train_h36m_gt_cam_no_factor_input_from_canonical_3d_same_z_rand_yaw_m45_p100_rand_pitch_m45_p100_rand_roll_m30_p100\n",
      "MB_train_h36m_gt_cam_no_factor_input_from_canonical_3d_same_z_steprot_1_sinu_pitch_m15_p273_sinu_roll_m15_p273\n"
     ]
    }
   ],
   "source": [
    "# tr_s15678 \n",
    "for item in h36m_list:\n",
    "    if 'tr_' in item: continue\n",
    "    if 'prev' in item: continue\n",
    "    if 'fixed' in item: continue\n",
    "    if 'with_canonical2' in item: continue\n",
    "    if 'canonical' not in item: continue\n",
    "    if item == 'MB_train_h36m_gt_cam_no_factor': continue\n",
    "    if item == 'MB_train_h36m_gt_cam_no_factor_input_from_canonical_3d_same_z_input_centering': continue\n",
    "    print(item)"
   ]
  },
  {
   "cell_type": "markdown",
   "metadata": {},
   "source": [
    "### H36M"
   ]
  },
  {
   "cell_type": "code",
   "execution_count": 43,
   "metadata": {},
   "outputs": [
    {
     "data": {
      "text/plain": [
       "['MB_train_h36m_gt_cam_no_factor',\n",
       " 'MB_train_h36m_gt_cam_no_factor_tr_s1_ts_s5678',\n",
       " 'MB_train_h36m_gt_cam_no_factor_steprot_1_tr_s1_ts_s5678',\n",
       " 'MB_train_h36m_gt_cam_no_factor_steprot_1.5_tr_s1_ts_s5678',\n",
       " 'MB_train_h36m_gt_cam_no_factor_steprot_0.5_tr_s1_ts_s5678',\n",
       " 'MB_train_h36m_gt_cam_no_factor_s15678_tr_54138969_ts_others',\n",
       " 'MB_train_h36m_gt_cam_no_factor_steprot_1+original_tr_s1_ts_s5678',\n",
       " 'MB_train_h36m_gt_cam_no_factor_sinu_pitch_m15_p273_tr_s1_ts_s5678',\n",
       " 'MB_train_h36m_gt_cam_no_factor_steprot_1.5+original_tr_s1_ts_s5678',\n",
       " 'MB_train_h36m_gt_cam_no_factor_steprot_0.5+original_tr_s1_ts_s5678',\n",
       " 'MB_train_h36m_gt_cam_no_factor_steprot_0.5_1_1.5+original_tr_s1_ts_s5678',\n",
       " 'MB_train_h36m_gt_cam_no_factor_steprot_0.5_sinu_pitch_m15_p273_sinu_roll_m15_p273',\n",
       " 'MB_train_h36m_gt_cam_no_factor_steprot_0.5_sinu_pitch_m15_p273_sinu_roll_m15_p273',\n",
       " 'MB_train_h36m_gt_cam_no_factor_sinu_pitch_m15_p273_sinu_roll_m15_p273_tr_s1_ts_s5678',\n",
       " 'MB_train_h36m_gt_cam_no_factor_steprot_0.5_sinu_pitch_m15_p273_sinu_roll_m15_p273_tr_s1_ts_s5678',\n",
       " 'MB_train_h36m_gt_cam_no_factor_rand_yaw_m45_p100_rand_pitch_m45_p100_rand_roll_m30_p100_tr_s1_ts_s5678']"
      ]
     },
     "execution_count": 43,
     "metadata": {},
     "output_type": "execute_result"
    }
   ],
   "source": [
    "blacklist = [\n",
    "    'tr_s19_ts_s5678',\n",
    "    'tr_s1',\n",
    "    'canonical',\n",
    "    'frame',\n",
    "    'others'\n",
    "    'prev'\n",
    "]\n",
    "\n",
    "h36m_list = [key for key in result_dict.keys() if 'h36m' in key]\n",
    "canonical_same_z_list = [key for key in result_dict.keys() if 'canonical_3d_same_z_input_centering' in key]\n",
    "baseline_list = []\n",
    "for key in h36m_list:\n",
    "    flag = False\n",
    "    for b in blacklist:\n",
    "        if b in key:\n",
    "            flag = True\n",
    "            if b == 'tr_s1' and 'tr_s1_' in key:\n",
    "                flag = False\n",
    "    if flag: continue\n",
    "    baseline_list.append(key)\n",
    "\n",
    "# for item in h36m_list:\n",
    "#     if 'tr_' in item: continue\n",
    "#     if 'prev' in item: continue\n",
    "#     if 'fixed' in item: continue\n",
    "#     if 'with_canonical2' in item: continue\n",
    "#     if 'canonical' in item: continue\n",
    "#     if item == 'MB_train_h36m_gt_cam_no_factor': continue\n",
    "#     baseline_list.append(item)\n",
    "\n",
    "baseline_list = natsorted(baseline_list, key=len)\n",
    "baseline_list"
   ]
  },
  {
   "cell_type": "code",
   "execution_count": 54,
   "metadata": {},
   "outputs": [
    {
     "data": {
      "text/plain": [
       "[{'baseline': 'MB_train_h36m_gt_cam_no_factor',\n",
       "  'canonical': 'MB_train_h36m_gt_cam_no_factor_input_from_canonical_3d_same_z'},\n",
       " {'baseline': 'MB_train_h36m_gt_cam_no_factor',\n",
       "  'canonical': 'MB_train_h36m_gt_cam_no_factor_input_from_canonical_3d_same_z_input_centering_rand_yaw_m45_p100_rand_pitch_m45_p100_rand_roll_m30_p100'},\n",
       " {'baseline': 'MB_train_h36m_gt_cam_no_factor',\n",
       "  'canonical': 'MB_train_h36m_gt_cam_no_factor_input_from_canonical_3d_same_z_input_centering_steprot_1_sinu_pitch_m15_p273_sinu_roll_m15_p273'},\n",
       " {'baseline': 'MB_train_h36m_gt_cam_no_factor',\n",
       "  'canonical': 'MB_train_h36m_gt_cam_no_factor_input_from_canonical_3d_same_z_input_centering_steprot_0.5_sinu_pitch_m15_p273_sinu_roll_m15_p273'},\n",
       " {'baseline': 'MB_train_h36m_gt_cam_no_factor',\n",
       "  'canonical': 'MB_train_h36m_gt_cam_no_factor_input_from_canonical_3d_same_z_rand_yaw_m45_p100_rand_pitch_m45_p100_rand_roll_m30_p100'},\n",
       " {'baseline': 'MB_train_h36m_gt_cam_no_factor',\n",
       "  'canonical': 'MB_train_h36m_gt_cam_no_factor_input_from_canonical_3d_same_z_steprot_1_sinu_pitch_m15_p273_sinu_roll_m15_p273'},\n",
       " {'baseline': 'MB_train_h36m_gt_cam_no_factor',\n",
       "  'canonical': 'MB_train_h36m_gt_cam_no_factor_input_from_canonical_3d_same_z_input_centering'},\n",
       " {'baseline': 'MB_train_h36m_gt_cam_no_factor_tr_s1_ts_s5678',\n",
       "  'canonical': 'MB_train_h36m_gt_cam_no_factor_input_from_canonical_3d_same_z_input_centering_tr_s1_ts_s5678'},\n",
       " {'baseline': 'MB_train_h36m_gt_cam_no_factor_steprot_1_tr_s1_ts_s5678',\n",
       "  'canonical': 'MB_train_h36m_gt_cam_no_factor_input_from_canonical_3d_same_z_input_centering_steprot_1_tr_s1_ts_s5678'},\n",
       " {'baseline': 'MB_train_h36m_gt_cam_no_factor_steprot_1.5_tr_s1_ts_s5678',\n",
       "  'canonical': 'MB_train_h36m_gt_cam_no_factor_input_from_canonical_3d_same_z_input_centering_steprot_1.5_tr_s1_ts_s5678'},\n",
       " {'baseline': 'MB_train_h36m_gt_cam_no_factor_steprot_0.5_tr_s1_ts_s5678',\n",
       "  'canonical': 'MB_train_h36m_gt_cam_no_factor_input_from_canonical_3d_same_z_input_centering_steprot_0.5_tr_s1_ts_s5678'},\n",
       " {'baseline': 'MB_train_h36m_gt_cam_no_factor_steprot_1+original_tr_s1_ts_s5678',\n",
       "  'canonical': 'MB_train_h36m_gt_cam_no_factor_input_from_canonical_3d_same_z_input_centering_steprot_1+original_tr_s1_ts_s5678'},\n",
       " {'baseline': 'MB_train_h36m_gt_cam_no_factor_steprot_1.5+original_tr_s1_ts_s5678',\n",
       "  'canonical': 'MB_train_h36m_gt_cam_no_factor_input_from_canonical_3d_same_z_input_centering_steprot_1.5+original_tr_s1_ts_s5678'},\n",
       " {'baseline': 'MB_train_h36m_gt_cam_no_factor_steprot_0.5+original_tr_s1_ts_s5678',\n",
       "  'canonical': 'MB_train_h36m_gt_cam_no_factor_input_from_canonical_3d_same_z_input_centering_steprot_0.5+original_tr_s1_ts_s5678'},\n",
       " {'baseline': 'MB_train_h36m_gt_cam_no_factor_steprot_0.5_1_1.5+original_tr_s1_ts_s5678',\n",
       "  'canonical': 'MB_train_h36m_gt_cam_no_factor_input_from_canonical_3d_same_z_input_centering_steprot_0.5_1_1.5+original_tr_s1_ts_s5678'},\n",
       " {'baseline': 'MB_train_h36m_gt_cam_no_factor_steprot_0.5_sinu_pitch_m15_p273_sinu_roll_m15_p273',\n",
       "  'canonical': 'MB_train_h36m_gt_cam_no_factor_input_from_canonical_3d_same_z_input_centering_steprot_0.5_sinu_pitch_m15_p273_sinu_roll_m15_p273'},\n",
       " {'baseline': 'MB_train_h36m_gt_cam_no_factor_steprot_0.5_sinu_pitch_m15_p273_sinu_roll_m15_p273',\n",
       "  'canonical': 'MB_train_h36m_gt_cam_no_factor_input_from_canonical_3d_same_z_input_centering_steprot_0.5_sinu_pitch_m15_p273_sinu_roll_m15_p273'},\n",
       " {'baseline': 'MB_train_h36m_gt_cam_no_factor_sinu_pitch_m15_p273_sinu_roll_m15_p273_tr_s1_ts_s5678',\n",
       "  'canonical': 'MB_train_h36m_gt_cam_no_factor_input_from_canonical_3d_same_z_input_centering_sinu_pitch_m15_p273_sinu_roll_m15_p273_tr_s1_ts_s5678'},\n",
       " {'baseline': 'MB_train_h36m_gt_cam_no_factor_steprot_0.5_sinu_pitch_m15_p273_sinu_roll_m15_p273_tr_s1_ts_s5678',\n",
       "  'canonical': 'MB_train_h36m_gt_cam_no_factor_input_from_canonical_3d_same_z_input_centering_steprot_0.5_sinu_pitch_m15_p273_sinu_roll_m15_p273_tr_s1_ts_s5678'},\n",
       " {'baseline': 'MB_train_h36m_gt_cam_no_factor_rand_yaw_m45_p100_rand_pitch_m45_p100_rand_roll_m30_p100_tr_s1_ts_s5678',\n",
       "  'canonical': 'MB_train_h36m_gt_cam_no_factor_input_from_canonical_3d_same_z_input_centering_rand_yaw_m45_p100_rand_pitch_m45_p100_rand_roll_m30_p100_tr_s1_ts_s5678'}]"
      ]
     },
     "execution_count": 54,
     "metadata": {},
     "output_type": "execute_result"
    }
   ],
   "source": [
    "pairs = []\n",
    "\n",
    "# tr_s15678 \n",
    "for item in h36m_list:\n",
    "    if 'tr_' in item: continue\n",
    "    if 'prev' in item: continue\n",
    "    if 'fixed' in item: continue\n",
    "    if 'with_canonical2' in item: continue\n",
    "    if 'canonical' not in item: continue\n",
    "    if item == 'MB_train_h36m_gt_cam_no_factor': continue\n",
    "    if item == 'MB_train_h36m_gt_cam_no_factor_input_from_canonical_3d_same_z_input_centering': continue\n",
    "    pairs.append({'baseline': 'MB_train_h36m_gt_cam_no_factor', 'canonical': item})\n",
    "\n",
    "for checkpoint in baseline_list:\n",
    "    part1 = checkpoint.split('MB_train_h36m_gt_cam_no_factor')[-1]\n",
    "    #print(f\"{checkpoint}\")\n",
    "    for key in canonical_same_z_list:\n",
    "        part2 = key.split('canonical_3d_same_z_input_centering')[-1]\n",
    "        if part1 == part2:\n",
    "            #print(f\"\\t{key}\")\n",
    "            pairs.append({'baseline': checkpoint, 'canonical': key})\n",
    "pairs"
   ]
  },
  {
   "cell_type": "code",
   "execution_count": 60,
   "metadata": {},
   "outputs": [
    {
     "name": "stdout",
     "output_type": "stream",
     "text": [
      "+---------------------------------------------------------------------------------------------------------------------------------------------------+\n",
      "|                        [MB_train_h36m_gt_cam_no_factor] vs [MB_train_h36m_gt_cam_no_factor_input_from_canonical_3d_same_z]                        |\n",
      "+-------------------------------------------+------------------+-------------------+---------+--------------------+---------------------+-----------+\n",
      "|                  Dataset                  | MPJPE (baseline) | MPJPE (canonical) | MPJPE % | P-MPJPE (baseline) | P-MPJPE (canonical) | P-MPJPE % |\n",
      "+-------------------------------------------+------------------+-------------------+---------+--------------------+---------------------+-----------+\n",
      "|           H36M-GT-CAM_NO_FACTOR           |      21.78       |       21.54       |  -1.09% |       16.63        |        16.54        |   -0.51%  |\n",
      "|      FIT3D-GT-CAM_NO_FACTOR-ALL_TEST      |      174.80      |       146.72      | -16.07% |       109.75       |        98.17        |  -10.55%  |\n",
      "|    3DHP-GT-CAM_NO_FACTOR-TEST_ALL_TRAIN   |      99.93       |       79.65       | -20.29% |       70.19        |        60.75        |  -13.44%  |\n",
      "|      3DHP-GT-CAM_NO_FACTOR-TEST_TS1_6     |      101.02      |       79.61       | -21.19% |       62.70        |        53.63        |  -14.47%  |\n",
      "| 3DHP-GT-CAM_NO_FACTOR-TEST_ALL_TRAIN_UNIV |      90.28       |       72.88       | -19.27% |       67.42        |        58.30        |  -13.52%  |\n",
      "|   3DHP-GT-CAM_NO_FACTOR-TEST_TS1_6_UNIV   |      74.04       |       58.91       | -20.43% |       55.90        |        47.84        |  -14.42%  |\n",
      "+-------------------------------------------+------------------+-------------------+---------+--------------------+---------------------+-----------+\n",
      "+------------------------------------------------------------------------------------------------------------------------------------------------------------------------------+\n",
      "| [MB_train_h36m_gt_cam_no_factor] vs [MB_train_h36m_gt_cam_no_factor_input_from_canonical_3d_same_z_input_centering_rand_yaw_m45_p100_rand_pitch_m45_p100_rand_roll_m30_p100] |\n",
      "+---------------------------------------------------+---------------------+----------------------+----------+-----------------------+-------------------------+----------------+\n",
      "|                      Dataset                      |   MPJPE (baseline)  |  MPJPE (canonical)   | MPJPE %  |   P-MPJPE (baseline)  |   P-MPJPE (canonical)   |   P-MPJPE %    |\n",
      "+---------------------------------------------------+---------------------+----------------------+----------+-----------------------+-------------------------+----------------+\n",
      "|               H36M-GT-CAM_NO_FACTOR               |        21.78        |        22.75         |  4.46%   |         16.63         |          16.99          |     2.15%      |\n",
      "|          FIT3D-GT-CAM_NO_FACTOR-ALL_TEST          |        174.80       |        99.07         | -43.32%  |         109.75        |          77.23          |    -29.62%     |\n",
      "|        3DHP-GT-CAM_NO_FACTOR-TEST_ALL_TRAIN       |        99.93        |        96.46         |  -3.47%  |         70.19         |          71.10          |     1.29%      |\n",
      "|          3DHP-GT-CAM_NO_FACTOR-TEST_TS1_6         |        101.02       |        97.11         |  -3.88%  |         62.70         |          64.95          |     3.58%      |\n",
      "|     3DHP-GT-CAM_NO_FACTOR-TEST_ALL_TRAIN_UNIV     |        90.28        |        92.44         |  2.39%   |         67.42         |          68.28          |     1.28%      |\n",
      "|       3DHP-GT-CAM_NO_FACTOR-TEST_TS1_6_UNIV       |        74.04        |        83.20         |  12.38%  |         55.90         |          57.92          |     3.60%      |\n",
      "+---------------------------------------------------+---------------------+----------------------+----------+-----------------------+-------------------------+----------------+\n",
      "+----------------------------------------------------------------------------------------------------------------------------------------------------------------------+\n",
      "| [MB_train_h36m_gt_cam_no_factor] vs [MB_train_h36m_gt_cam_no_factor_input_from_canonical_3d_same_z_input_centering_steprot_1_sinu_pitch_m15_p273_sinu_roll_m15_p273] |\n",
      "+-------------------------------------------------+--------------------+---------------------+----------+----------------------+-----------------------+---------------+\n",
      "|                     Dataset                     |  MPJPE (baseline)  |  MPJPE (canonical)  | MPJPE %  |  P-MPJPE (baseline)  |  P-MPJPE (canonical)  |   P-MPJPE %   |\n",
      "+-------------------------------------------------+--------------------+---------------------+----------+----------------------+-----------------------+---------------+\n",
      "|              H36M-GT-CAM_NO_FACTOR              |       21.78        |        30.56        |  40.31%  |        16.63         |         22.82         |     37.23%    |\n",
      "|         FIT3D-GT-CAM_NO_FACTOR-ALL_TEST         |       174.80       |        109.72       | -37.23%  |        109.75        |         75.71         |    -31.02%    |\n",
      "|       3DHP-GT-CAM_NO_FACTOR-TEST_ALL_TRAIN      |       99.93        |        70.70        | -29.25%  |        70.19         |         56.57         |    -19.40%    |\n",
      "|         3DHP-GT-CAM_NO_FACTOR-TEST_TS1_6        |       101.02       |        79.99        | -20.83%  |        62.70         |         56.00         |    -10.68%    |\n",
      "|    3DHP-GT-CAM_NO_FACTOR-TEST_ALL_TRAIN_UNIV    |       90.28        |        64.83        | -28.19%  |        67.42         |         54.33         |    -19.41%    |\n",
      "|      3DHP-GT-CAM_NO_FACTOR-TEST_TS1_6_UNIV      |       74.04        |        57.44        | -22.42%  |        55.90         |         49.95         |    -10.65%    |\n",
      "+-------------------------------------------------+--------------------+---------------------+----------+----------------------+-----------------------+---------------+\n",
      "+------------------------------------------------------------------------------------------------------------------------------------------------------------------------+\n",
      "| [MB_train_h36m_gt_cam_no_factor] vs [MB_train_h36m_gt_cam_no_factor_input_from_canonical_3d_same_z_input_centering_steprot_0.5_sinu_pitch_m15_p273_sinu_roll_m15_p273] |\n",
      "+-------------------------------------------------+--------------------+---------------------+----------+----------------------+------------------------+----------------+\n",
      "|                     Dataset                     |  MPJPE (baseline)  |  MPJPE (canonical)  | MPJPE %  |  P-MPJPE (baseline)  |  P-MPJPE (canonical)   |   P-MPJPE %    |\n",
      "+-------------------------------------------------+--------------------+---------------------+----------+----------------------+------------------------+----------------+\n",
      "|              H36M-GT-CAM_NO_FACTOR              |       21.78        |        25.50        |  17.09%  |        16.63         |         19.66          |     18.20%     |\n",
      "|         FIT3D-GT-CAM_NO_FACTOR-ALL_TEST         |       174.80       |        115.26       | -34.06%  |        109.75        |         84.28          |    -23.21%     |\n",
      "|       3DHP-GT-CAM_NO_FACTOR-TEST_ALL_TRAIN      |       99.93        |        92.09        |  -7.84%  |        70.19         |         68.98          |     -1.72%     |\n",
      "|         3DHP-GT-CAM_NO_FACTOR-TEST_TS1_6        |       101.02       |        99.83        |  -1.18%  |        62.70         |         68.40          |     9.09%      |\n",
      "|    3DHP-GT-CAM_NO_FACTOR-TEST_ALL_TRAIN_UNIV    |       90.28        |        86.46        |  -4.23%  |        67.42         |         66.23          |     -1.75%     |\n",
      "|      3DHP-GT-CAM_NO_FACTOR-TEST_TS1_6_UNIV      |       74.04        |        82.98        |  12.08%  |        55.90         |         60.95          |     9.03%      |\n",
      "+-------------------------------------------------+--------------------+---------------------+----------+----------------------+------------------------+----------------+\n",
      "+--------------------------------------------------------------------------------------------------------------------------------------------------------------+\n",
      "| [MB_train_h36m_gt_cam_no_factor] vs [MB_train_h36m_gt_cam_no_factor_input_from_canonical_3d_same_z_rand_yaw_m45_p100_rand_pitch_m45_p100_rand_roll_m30_p100] |\n",
      "+----------------------------------------------+-------------------+--------------------+---------+---------------------+----------------------+---------------+\n",
      "|                   Dataset                    |  MPJPE (baseline) | MPJPE (canonical)  | MPJPE % |  P-MPJPE (baseline) | P-MPJPE (canonical)  |   P-MPJPE %   |\n",
      "+----------------------------------------------+-------------------+--------------------+---------+---------------------+----------------------+---------------+\n",
      "|            H36M-GT-CAM_NO_FACTOR             |       21.78       |       22.89        |  5.11%  |        16.63        |        16.95         |     1.95%     |\n",
      "|       FIT3D-GT-CAM_NO_FACTOR-ALL_TEST        |       174.80      |       186.17       |  6.50%  |        109.75       |        114.03        |     3.90%     |\n",
      "|     3DHP-GT-CAM_NO_FACTOR-TEST_ALL_TRAIN     |       99.93       |       74.21        | -25.74% |        70.19        |        58.29         |    -16.96%    |\n",
      "|       3DHP-GT-CAM_NO_FACTOR-TEST_TS1_6       |       101.02      |       80.55        | -20.27% |        62.70        |        55.22         |    -11.93%    |\n",
      "|  3DHP-GT-CAM_NO_FACTOR-TEST_ALL_TRAIN_UNIV   |       90.28       |       69.28        | -23.26% |        67.42        |        56.00         |    -16.93%    |\n",
      "|    3DHP-GT-CAM_NO_FACTOR-TEST_TS1_6_UNIV     |       74.04       |       60.69        | -18.03% |        55.90        |        49.26         |    -11.88%    |\n",
      "+----------------------------------------------+-------------------+--------------------+---------+---------------------+----------------------+---------------+\n",
      "+------------------------------------------------------------------------------------------------------------------------------------------------------+\n",
      "| [MB_train_h36m_gt_cam_no_factor] vs [MB_train_h36m_gt_cam_no_factor_input_from_canonical_3d_same_z_steprot_1_sinu_pitch_m15_p273_sinu_roll_m15_p273] |\n",
      "+-------------------------------------------+------------------+-------------------+---------+--------------------+---------------------+--------------+\n",
      "|                  Dataset                  | MPJPE (baseline) | MPJPE (canonical) | MPJPE % | P-MPJPE (baseline) | P-MPJPE (canonical) |  P-MPJPE %   |\n",
      "+-------------------------------------------+------------------+-------------------+---------+--------------------+---------------------+--------------+\n",
      "|           H36M-GT-CAM_NO_FACTOR           |      21.78       |       27.95       |  28.32% |       16.63        |        20.57        |    23.73%    |\n",
      "|      FIT3D-GT-CAM_NO_FACTOR-ALL_TEST      |      174.80      |       140.65      | -19.54% |       109.75       |        90.54        |   -17.50%    |\n",
      "|    3DHP-GT-CAM_NO_FACTOR-TEST_ALL_TRAIN   |      99.93       |       81.87       | -18.08% |       70.19        |        63.90        |    -8.96%    |\n",
      "|      3DHP-GT-CAM_NO_FACTOR-TEST_TS1_6     |      101.02      |       91.82       |  -9.11% |       62.70        |        64.06        |    2.17%     |\n",
      "| 3DHP-GT-CAM_NO_FACTOR-TEST_ALL_TRAIN_UNIV |      90.28       |       77.51       | -14.14% |       67.42        |        61.36        |    -8.98%    |\n",
      "|   3DHP-GT-CAM_NO_FACTOR-TEST_TS1_6_UNIV   |      74.04       |       75.75       |  2.31%  |       55.90        |        57.09        |    2.13%     |\n",
      "+-------------------------------------------+------------------+-------------------+---------+--------------------+---------------------+--------------+\n",
      "+---------------------------------------------------------------------------------------------------------------------------------------------------+\n",
      "|                [MB_train_h36m_gt_cam_no_factor] vs [MB_train_h36m_gt_cam_no_factor_input_from_canonical_3d_same_z_input_centering]                |\n",
      "+-------------------------------------------+------------------+-------------------+---------+--------------------+---------------------+-----------+\n",
      "|                  Dataset                  | MPJPE (baseline) | MPJPE (canonical) | MPJPE % | P-MPJPE (baseline) | P-MPJPE (canonical) | P-MPJPE % |\n",
      "+-------------------------------------------+------------------+-------------------+---------+--------------------+---------------------+-----------+\n",
      "|           H36M-GT-CAM_NO_FACTOR           |      21.78       |       21.38       |  -1.84% |       16.63        |        16.19        |   -2.64%  |\n",
      "|      FIT3D-GT-CAM_NO_FACTOR-ALL_TEST      |      174.80      |       105.35      | -39.73% |       109.75       |        77.29        |  -29.58%  |\n",
      "|    3DHP-GT-CAM_NO_FACTOR-TEST_ALL_TRAIN   |      99.93       |       83.70       | -16.24% |       70.19        |        64.60        |   -7.96%  |\n",
      "|      3DHP-GT-CAM_NO_FACTOR-TEST_TS1_6     |      101.02      |       87.02       | -13.86% |       62.70        |        58.58        |   -6.58%  |\n",
      "| 3DHP-GT-CAM_NO_FACTOR-TEST_ALL_TRAIN_UNIV |      90.28       |       78.23       | -13.35% |       67.42        |        62.00        |   -8.03%  |\n",
      "|   3DHP-GT-CAM_NO_FACTOR-TEST_TS1_6_UNIV   |      74.04       |       67.32       |  -9.07% |       55.90        |        52.26        |   -6.51%  |\n",
      "+-------------------------------------------+------------------+-------------------+---------+--------------------+---------------------+-----------+\n",
      "+---------------------------------------------------------------------------------------------------------------------------------------------------------------------------------------------------------------------------+\n",
      "| [MB_train_h36m_gt_cam_no_factor_steprot_0.5_sinu_pitch_m15_p273_sinu_roll_m15_p273] vs [MB_train_h36m_gt_cam_no_factor_input_from_canonical_3d_same_z_input_centering_steprot_0.5_sinu_pitch_m15_p273_sinu_roll_m15_p273] |\n",
      "+------------------------------------------------------------------+---------------------------+----------------------------+------------+------------------------------+-------------------------------+-------------------+\n",
      "|                             Dataset                              |      MPJPE (baseline)     |     MPJPE (canonical)      |  MPJPE %   |      P-MPJPE (baseline)      |      P-MPJPE (canonical)      |     P-MPJPE %     |\n",
      "+------------------------------------------------------------------+---------------------------+----------------------------+------------+------------------------------+-------------------------------+-------------------+\n",
      "|                      H36M-GT-CAM_NO_FACTOR                       |           26.99           |           25.50            |   -5.53%   |            19.63             |             19.66             |       0.14%       |\n",
      "|                 FIT3D-GT-CAM_NO_FACTOR-ALL_TEST                  |           195.59          |           115.26           |  -41.07%   |            121.23            |             84.28             |      -30.48%      |\n",
      "|               3DHP-GT-CAM_NO_FACTOR-TEST_ALL_TRAIN               |           95.38           |           92.09            |   -3.44%   |            64.65             |             68.98             |       6.70%       |\n",
      "|                 3DHP-GT-CAM_NO_FACTOR-TEST_TS1_6                 |           100.47          |           99.83            |   -0.63%   |            63.27             |             68.40             |       8.11%       |\n",
      "|            3DHP-GT-CAM_NO_FACTOR-TEST_ALL_TRAIN_UNIV             |           86.84           |           86.46            |   -0.44%   |            62.08             |             66.23             |       6.70%       |\n",
      "|              3DHP-GT-CAM_NO_FACTOR-TEST_TS1_6_UNIV               |           76.71           |           82.98            |   8.17%    |            56.42             |             60.95             |       8.03%       |\n",
      "+------------------------------------------------------------------+---------------------------+----------------------------+------------+------------------------------+-------------------------------+-------------------+\n",
      "+---------------------------------------------------------------------------------------------------------------------------------------------------------------------------------------------------------------------------+\n",
      "| [MB_train_h36m_gt_cam_no_factor_steprot_0.5_sinu_pitch_m15_p273_sinu_roll_m15_p273] vs [MB_train_h36m_gt_cam_no_factor_input_from_canonical_3d_same_z_input_centering_steprot_0.5_sinu_pitch_m15_p273_sinu_roll_m15_p273] |\n",
      "+------------------------------------------------------------------+---------------------------+----------------------------+------------+------------------------------+-------------------------------+-------------------+\n",
      "|                             Dataset                              |      MPJPE (baseline)     |     MPJPE (canonical)      |  MPJPE %   |      P-MPJPE (baseline)      |      P-MPJPE (canonical)      |     P-MPJPE %     |\n",
      "+------------------------------------------------------------------+---------------------------+----------------------------+------------+------------------------------+-------------------------------+-------------------+\n",
      "|                      H36M-GT-CAM_NO_FACTOR                       |           26.99           |           25.50            |   -5.53%   |            19.63             |             19.66             |       0.14%       |\n",
      "|                 FIT3D-GT-CAM_NO_FACTOR-ALL_TEST                  |           195.59          |           115.26           |  -41.07%   |            121.23            |             84.28             |      -30.48%      |\n",
      "|               3DHP-GT-CAM_NO_FACTOR-TEST_ALL_TRAIN               |           95.38           |           92.09            |   -3.44%   |            64.65             |             68.98             |       6.70%       |\n",
      "|                 3DHP-GT-CAM_NO_FACTOR-TEST_TS1_6                 |           100.47          |           99.83            |   -0.63%   |            63.27             |             68.40             |       8.11%       |\n",
      "|            3DHP-GT-CAM_NO_FACTOR-TEST_ALL_TRAIN_UNIV             |           86.84           |           86.46            |   -0.44%   |            62.08             |             66.23             |       6.70%       |\n",
      "|              3DHP-GT-CAM_NO_FACTOR-TEST_TS1_6_UNIV               |           76.71           |           82.98            |   8.17%    |            56.42             |             60.95             |       8.03%       |\n",
      "+------------------------------------------------------------------+---------------------------+----------------------------+------------+------------------------------+-------------------------------+-------------------+\n"
     ]
    }
   ],
   "source": [
    "import prettytable\n",
    "\n",
    "\n",
    "key_matching = {\n",
    "    'H36M-GT-CAM_NO_FACTOR-TR_S1_TS_S5678': 'H36M-GT-CAM_NO_FACTOR-INPUT_FROM_3D_CANONICAL_SAME_Z-TR_S1_TS_S5678',\n",
    "    'H36M-GT-CAM_NO_FACTOR': 'H36M-GT-CAM_NO_FACTOR-INPUT_FROM_3D_CANONICAL_SAME_Z',\n",
    "    'FIT3D-GT-CAM_NO_FACTOR-ALL_TEST': 'FIT3D-GT-CAM_NO_FACTOR-INPUT_FROM_3D_CANONICAL_SAME_Z-ALL_TEST',\n",
    "    '3DHP-GT-CAM_NO_FACTOR-TEST_ALL_TRAIN': '3DHP-GT-CAM_NO_FACTOR-INPUT_FROM_3D_CANONICAL_SAME_Z-TEST_ALL_TRAIN',\n",
    "    '3DHP-GT-CAM_NO_FACTOR-TEST_TS1_6': '3DHP-GT-CAM_NO_FACTOR-INPUT_FROM_3D_CANONICAL_SAME_Z-TEST_TS1_6',\n",
    "    '3DHP-GT-CAM_NO_FACTOR-TEST_ALL_TRAIN_UNIV': '3DHP-GT-CAM_NO_FACTOR-INPUT_FROM_3D_CANONICAL_SAME_Z-TEST_ALL_TRAIN_UNIV',\n",
    "    '3DHP-GT-CAM_NO_FACTOR-TEST_TS1_6_UNIV': '3DHP-GT-CAM_NO_FACTOR-INPUT_FROM_3D_CANONICAL_SAME_Z-TEST_TS1_6_UNIV',\n",
    "}\n",
    "\n",
    "for pair in pairs:\n",
    "    baseline = pair['baseline']\n",
    "    canonical = pair['canonical']\n",
    "    result_baseline = result_dict[baseline].copy()\n",
    "    result_canonical = result_dict[canonical].copy()\n",
    "    if 'tr_' in baseline: continue\n",
    "    \n",
    "    table = prettytable.PrettyTable()\n",
    "    table.title = f\"[{baseline}] vs [{canonical}]\"\n",
    "    table.field_names = ['Dataset', 'MPJPE (baseline)', 'MPJPE (canonical)', 'MPJPE %', 'P-MPJPE (baseline)', 'P-MPJPE (canonical)', 'P-MPJPE %']\n",
    "\n",
    "    \n",
    "    for key in key_matching.keys():\n",
    "        if key not in result_baseline or key_matching[key] not in result_canonical: continue\n",
    "        table.add_row([key, f\"{result_baseline[key]['e1']:.2f}\", f\"{result_canonical[key_matching[key]]['e1']:.2f}\", f\"{(result_canonical[key_matching[key]]['e1'] - result_baseline[key]['e1'])/result_baseline[key]['e1']*100:.2f}%\", f\"{result_baseline[key]['e2']:.2f}\", f\"{result_canonical[key_matching[key]]['e2']:.2f}\", f\"{(result_canonical[key_matching[key]]['e2'] - result_baseline[key]['e2'])/result_baseline[key]['e2']*100:.2f}%\"])\n",
    "    print(table)\n",
    "    #break"
   ]
  },
  {
   "cell_type": "code",
   "execution_count": 38,
   "metadata": {},
   "outputs": [
    {
     "data": {
      "text/plain": [
       "(dict_keys(['3DHP-GT-CAM_NO_FACTOR-TEST_ALL_TRAIN', '3DHP-GT-CAM_NO_FACTOR-TEST_TS1_6', 'FIT3D-GT-CAM_NO_FACTOR-ALL_TEST', 'H36M-GT-CAM_NO_FACTOR', '3DHP-GT-CAM_NO_FACTOR-TEST_ALL_TRAIN_UNIV', '3DHP-GT-CAM_NO_FACTOR-TEST_TS1_6_UNIV']),\n",
       " dict_keys(['3DHP-GT-CAM_NO_FACTOR-TEST_ALL_TRAIN', '3DHP-GT-CAM_NO_FACTOR-TEST_TS1_6', 'FIT3D-GT-CAM_NO_FACTOR-ALL_TEST', 'H36M-GT-CAM_NO_FACTOR', '3DHP-GT-CAM_NO_FACTOR-TEST_TS1_6_UNIV', '3DHP-GT-CAM_NO_FACTOR-TEST_ALL_TRAIN_UNIV']))"
      ]
     },
     "execution_count": 38,
     "metadata": {},
     "output_type": "execute_result"
    }
   ],
   "source": [
    "result_baseline.keys(), result_canonical.keys()"
   ]
  },
  {
   "cell_type": "markdown",
   "metadata": {},
   "source": [
    "### Fit3D"
   ]
  },
  {
   "cell_type": "code",
   "execution_count": 17,
   "metadata": {},
   "outputs": [
    {
     "data": {
      "text/plain": [
       "(['MB_train_fit3d_gt_cam_no_factor_tr_s03',\n",
       "  'MB_train_fit3d_gt_cam_no_factor_ts_s4710'],\n",
       " ['MB_train_fit3d_gt_cam_no_factor_input_from_canonical_3d_same_z_input_centering_tr_s03',\n",
       "  'MB_train_fit3d_gt_cam_no_factor_input_from_canonical_3d_same_z_input_centering_ts_s4710'])"
      ]
     },
     "execution_count": 17,
     "metadata": {},
     "output_type": "execute_result"
    }
   ],
   "source": [
    "blacklist = [\n",
    "    'tr_s19_ts_s5678', \n",
    "    'tr_s1',\n",
    "    'canonical',\n",
    "    'frame',\n",
    "    'others'\n",
    "]\n",
    "\n",
    "fit3d_list = [key for key in result_dict.keys() if 'fit3d' in key]\n",
    "canonical_same_z_list = [key for key in fit3d_list if 'canonical_3d_same_z_input_centering' in key]\n",
    "baseline_list = []\n",
    "for key in fit3d_list:\n",
    "    flag = False\n",
    "    for b in blacklist:\n",
    "        if b in key:\n",
    "            flag = True\n",
    "            if b == 'tr_s1' and 'tr_s1_' in key:\n",
    "                flag = False\n",
    "    if flag: continue\n",
    "    #print(key)\n",
    "    baseline_list.append(key)         \n",
    "    \n",
    "baseline_list = natsorted(baseline_list, key=len)\n",
    "baseline_list, canonical_same_z_list"
   ]
  },
  {
   "cell_type": "code",
   "execution_count": 18,
   "metadata": {},
   "outputs": [
    {
     "data": {
      "text/plain": [
       "[{'baseline': 'MB_train_fit3d_gt_cam_no_factor_tr_s03',\n",
       "  'canonical': 'MB_train_fit3d_gt_cam_no_factor_input_from_canonical_3d_same_z_input_centering_tr_s03'},\n",
       " {'baseline': 'MB_train_fit3d_gt_cam_no_factor_ts_s4710',\n",
       "  'canonical': 'MB_train_fit3d_gt_cam_no_factor_input_from_canonical_3d_same_z_input_centering_ts_s4710'}]"
      ]
     },
     "execution_count": 18,
     "metadata": {},
     "output_type": "execute_result"
    }
   ],
   "source": [
    "pairs = []\n",
    "for checkpoint in baseline_list:\n",
    "    part1 = checkpoint.split('MB_train_fit3d_gt_cam_no_factor')[-1]\n",
    "    #print(f\"{checkpoint}\")\n",
    "    for key in canonical_same_z_list:\n",
    "        part2 = key.split('canonical_3d_same_z_input_centering')[-1]\n",
    "        if part1 == part2:\n",
    "            #print(f\"\\t{key}\")\n",
    "            pairs.append({'baseline': checkpoint, 'canonical': key})\n",
    "pairs"
   ]
  },
  {
   "cell_type": "code",
   "execution_count": 20,
   "metadata": {},
   "outputs": [
    {
     "name": "stdout",
     "output_type": "stream",
     "text": [
      "+----------------------------------------------------------------------------------------------------------------------------------------------+\n",
      "|                                                    MB_train_fit3d_gt_cam_no_factor_tr_s03                                                    |\n",
      "+--------------------------------------+------------------+-------------------+---------+--------------------+---------------------+-----------+\n",
      "|               Dataset                | MPJPE (baseline) | MPJPE (canonical) | MPJPE % | P-MPJPE (baseline) | P-MPJPE (canonical) | P-MPJPE % |\n",
      "+--------------------------------------+------------------+-------------------+---------+--------------------+---------------------+-----------+\n",
      "| H36M-GT-CAM_NO_FACTOR-TR_S1_TS_S5678 |      193.45      |       128.40      | -33.63% |       121.81       |        94.55        |  -22.38%  |\n",
      "|        H36M-GT-CAM_NO_FACTOR         |      189.40      |       129.80      | -31.47% |       125.34       |        101.50       |  -19.02%  |\n",
      "|    FIT3D-GT-CAM_NO_FACTOR-TR_S03     |      39.77       |       39.88       |  0.26%  |       25.91        |        25.67        |   -0.94%  |\n",
      "| 3DHP-GT-CAM_NO_FACTOR-TEST_ALL_TRAIN |      216.17      |       187.67      | -13.18% |       143.98       |        132.01       |   -8.31%  |\n",
      "|   3DHP-GT-CAM_NO_FACTOR-TEST_TS1_6   |      217.59      |       166.51      | -23.47% |       148.66       |        120.04       |  -19.26%  |\n",
      "+--------------------------------------+------------------+-------------------+---------+--------------------+---------------------+-----------+\n",
      "+----------------------------------------------------------------------------------------------------------------------------------------------+\n",
      "|                                                   MB_train_fit3d_gt_cam_no_factor_ts_s4710                                                   |\n",
      "+--------------------------------------+------------------+-------------------+---------+--------------------+---------------------+-----------+\n",
      "|               Dataset                | MPJPE (baseline) | MPJPE (canonical) | MPJPE % | P-MPJPE (baseline) | P-MPJPE (canonical) | P-MPJPE % |\n",
      "+--------------------------------------+------------------+-------------------+---------+--------------------+---------------------+-----------+\n",
      "| H36M-GT-CAM_NO_FACTOR-TR_S1_TS_S5678 |      158.42      |       101.71      | -35.80% |       115.50       |        79.09        |  -31.52%  |\n",
      "|        H36M-GT-CAM_NO_FACTOR         |      162.72      |       107.96      | -33.66% |       119.18       |        85.00        |  -28.68%  |\n",
      "| 3DHP-GT-CAM_NO_FACTOR-TEST_ALL_TRAIN |      189.62      |       157.14      | -17.13% |       135.04       |        111.76       |  -17.24%  |\n",
      "|   3DHP-GT-CAM_NO_FACTOR-TEST_TS1_6   |      199.17      |       151.40      | -23.98% |       143.61       |        106.12       |  -26.11%  |\n",
      "+--------------------------------------+------------------+-------------------+---------+--------------------+---------------------+-----------+\n"
     ]
    }
   ],
   "source": [
    "import prettytable\n",
    "\n",
    "\n",
    "key_matching = {\n",
    "    'H36M-GT-CAM_NO_FACTOR-TR_S1_TS_S5678': 'H36M-GT-CAM_NO_FACTOR-INPUT_FROM_3D_CANONICAL_SAME_Z-TR_S1_TS_S5678',\n",
    "    'H36M-GT-CAM_NO_FACTOR': 'H36M-GT-CAM_NO_FACTOR-INPUT_FROM_3D_CANONICAL_SAME_Z',\n",
    "    'FIT3D-GT-CAM_NO_FACTOR-ALL_TEST': 'FIT3D-GT-CAM_NO_FACTOR-INPUT_FROM_3D_CANONICAL_SAME_Z-ALL_TEST',\n",
    "    'FIT3D-GT-CAM_NO_FACTOR-TR_S03': 'FIT3D-GT-CAM_NO_FACTOR-INPUT_FROM_3D_CANONICAL_SAME_Z-TR_S03',\n",
    "    'FIT3D-GT-CAM_NO_FACTOR-TR_S4710': 'FIT3D-GT-CAM_NO_FACTOR-INPUT_FROM_3D_CANONICAL_SAME_Z-TR_S4710',\n",
    "    '3DHP-GT-CAM_NO_FACTOR-TEST_ALL_TRAIN': '3DHP-GT-CAM_NO_FACTOR-INPUT_FROM_3D_CANONICAL_SAME_Z-TEST_ALL_TRAIN',\n",
    "    '3DHP-GT-CAM_NO_FACTOR-TEST_TS1_6': '3DHP-GT-CAM_NO_FACTOR-INPUT_FROM_3D_CANONICAL_SAME_Z-TEST_TS1_6',\n",
    "}\n",
    "\n",
    "for pair in pairs:\n",
    "    baseline = pair['baseline']\n",
    "    canonical = pair['canonical']\n",
    "    result_baseline = result_dict[baseline].copy()    \n",
    "    result_canonical = result_dict[canonical].copy()\n",
    "    \n",
    "    table = prettytable.PrettyTable()\n",
    "    table.title = f\"{baseline}\"\n",
    "    table.field_names = ['Dataset', 'MPJPE (baseline)', 'MPJPE (canonical)', 'MPJPE %', 'P-MPJPE (baseline)', 'P-MPJPE (canonical)', 'P-MPJPE %']\n",
    "    \n",
    "    for key in key_matching.keys():\n",
    "        if key not in result_baseline or key_matching[key] not in result_canonical: continue\n",
    "        table.add_row([key, f\"{result_baseline[key]['e1']:.2f}\", f\"{result_canonical[key_matching[key]]['e1']:.2f}\", f\"{(result_canonical[key_matching[key]]['e1'] - result_baseline[key]['e1'])/result_baseline[key]['e1']*100:.2f}%\", f\"{result_baseline[key]['e2']:.2f}\", f\"{result_canonical[key_matching[key]]['e2']:.2f}\", f\"{(result_canonical[key_matching[key]]['e2'] - result_baseline[key]['e2'])/result_baseline[key]['e2']*100:.2f}%\"])\n",
    "    print(table)"
   ]
  },
  {
   "cell_type": "code",
   "execution_count": null,
   "metadata": {},
   "outputs": [],
   "source": []
  }
 ],
 "metadata": {
  "kernelspec": {
   "display_name": "motionbert",
   "language": "python",
   "name": "python3"
  },
  "language_info": {
   "codemirror_mode": {
    "name": "ipython",
    "version": 3
   },
   "file_extension": ".py",
   "mimetype": "text/x-python",
   "name": "python",
   "nbconvert_exporter": "python",
   "pygments_lexer": "ipython3",
   "version": "3.9.18"
  }
 },
 "nbformat": 4,
 "nbformat_minor": 2
}
