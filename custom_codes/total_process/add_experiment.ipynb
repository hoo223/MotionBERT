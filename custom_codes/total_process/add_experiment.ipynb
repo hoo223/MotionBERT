{
 "cells": [
  {
   "cell_type": "code",
   "execution_count": 2,
   "metadata": {},
   "outputs": [],
   "source": [
    "from common_import import *"
   ]
  },
  {
   "cell_type": "code",
   "execution_count": 4,
   "metadata": {},
   "outputs": [],
   "source": [
    "new_exp = 'MB_train_h36m_gt_cam_no_factor_input_from_canonical_3d_same_z_input_centering_steprot_2_tr_s1_ts_s5678'\n",
    "subsets = [\n",
    "    '3DHP-GT-CAM_NO_FACTOR-INPUT_FROM_3D_CANONICAL_SAME_Z-TEST_ALL_TRAIN',\n",
    "    '3DHP-GT-CAM_NO_FACTOR-INPUT_FROM_3D_CANONICAL_SAME_Z-TEST_TS1_6',\n",
    "    'H36M-GT-CAM_NO_FACTOR-INPUT_FROM_3D_CANONICAL_SAME_Z',\n",
    "    'FIT3D-GT-CAM_NO_FACTOR-INPUT_FROM_3D_CANONICAL_SAME_Z-ALL_TEST',\n",
    "    'H36M-GT-CAM_NO_FACTOR-INPUT_FROM_3D_CANONICAL_SAME_Z-TR_S1_TS_S5678'\n",
    "]"
   ]
  },
  {
   "cell_type": "code",
   "execution_count": 7,
   "metadata": {},
   "outputs": [
    {
     "name": "stdout",
     "output_type": "stream",
     "text": [
      "Creating new experiment: MB_train_h36m_gt_cam_no_factor_input_from_canonical_3d_same_z_input_centering_steprot_1_tr_s1_ts_s5678\n",
      "Done.\n"
     ]
    }
   ],
   "source": [
    "if new_exp not in os.listdir('experiments'):\n",
    "    print('Creating new experiment:', new_exp)\n",
    "    with open(f'experiments/{new_exp}.txt', 'w') as f:\n",
    "        for subset in subsets:\n",
    "            f.write(f'{subset}\\n')\n",
    "    print('Done.')\n",
    "else:\n",
    "    print('Experiment already exists:', new_exp)"
   ]
  },
  {
   "cell_type": "markdown",
   "metadata": {},
   "source": [
    "### Add 3DHP train univ"
   ]
  },
  {
   "cell_type": "code",
   "execution_count": 4,
   "metadata": {},
   "outputs": [
    {
     "name": "stdout",
     "output_type": "stream",
     "text": [
      "Modification completed.\n"
     ]
    }
   ],
   "source": [
    "import os\n",
    "\n",
    "# Set the folder path where txt files are located\n",
    "folder_path = '/home/hrai/codes/MotionBERT/experiments'\n",
    "\n",
    "# Loop through all files in the folder\n",
    "for file_name in os.listdir(folder_path):\n",
    "    if file_name.endswith('.txt'):\n",
    "        file_path = os.path.join(folder_path, file_name)\n",
    "        with open(file_path, 'r') as file:\n",
    "            lines = file.readlines()\n",
    "\n",
    "        # Prepare new lines to be appended based on the conditions\n",
    "        new_lines = []\n",
    "        for line in lines:\n",
    "            new_lines.append(line)\n",
    "            if '3DHP-GT-CAM_NO_FACTOR-INPUT_FROM_3D_CANONICAL_SAME_Z-TEST_TS1_6_UNIV' in line:\n",
    "                if '3DHP-GT-CAM_NO_FACTOR-INPUT_FROM_3D_CANONICAL_SAME_Z-TEST_ALL_TRAIN_UNIV' not in lines:\n",
    "                    new_lines.append('3DHP-GT-CAM_NO_FACTOR-INPUT_FROM_3D_CANONICAL_SAME_Z-TEST_ALL_TRAIN_UNIV\\n')\n",
    "            if '3DHP-GT-CAM_NO_FACTOR-TEST_TS1_6_UNIV' in line:\n",
    "                if '3DHP-GT-CAM_NO_FACTOR-TEST_ALL_TRAIN_UNIV' not in lines:\n",
    "                    new_lines.append('3DHP-GT-CAM_NO_FACTOR-TEST_ALL_TRAIN_UNIV\\n')\n",
    "\n",
    "        # Write the modified content back to the file\n",
    "        with open(file_path, 'w') as file:\n",
    "            file.writelines(new_lines)\n",
    "\n",
    "print(\"Modification completed.\")"
   ]
  }
 ],
 "metadata": {
  "kernelspec": {
   "display_name": "motionbert",
   "language": "python",
   "name": "python3"
  },
  "language_info": {
   "codemirror_mode": {
    "name": "ipython",
    "version": 3
   },
   "file_extension": ".py",
   "mimetype": "text/x-python",
   "name": "python",
   "nbconvert_exporter": "python",
   "pygments_lexer": "ipython3",
   "version": "3.9.18"
  }
 },
 "nbformat": 4,
 "nbformat_minor": 2
}
