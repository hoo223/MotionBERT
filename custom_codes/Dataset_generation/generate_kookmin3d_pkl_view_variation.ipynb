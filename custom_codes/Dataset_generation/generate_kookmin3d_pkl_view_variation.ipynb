{
 "cells": [
  {
   "cell_type": "markdown",
   "metadata": {},
   "source": [
    "데이터 전처리 과정 분석\n",
    "\n",
    "convert_h36m.py 코드를 통해 h36m_sh_conf_cam_source_final.pkl 파일로부터 clip들을 나누어 data/motion3d/MB3D_f243s81/H36M-SH 폴더에 저장함\n",
    "그 과정에서 전처리 과정을 거쳐 원본 파일과 새로 생성된 파일의 값이 달라짐 -> 이 부분을 이해해야 AI Hub 데이터를 동일한 형식으로 만들어 훈련시킬 수 있음"
   ]
  },
  {
   "cell_type": "code",
   "execution_count": 1,
   "metadata": {},
   "outputs": [
    {
     "data": {
      "text/plain": [
       "('/home/hrai/codes/AlphaPose',\n",
       " '/home/hrai/codes/MotionBERT',\n",
       " '/home/hrai/Datasets/HAAI/국민대데이터/data',\n",
       " '/home/hrai/codes/AlphaPose/examples/kookmin_result_5actions')"
      ]
     },
     "execution_count": 1,
     "metadata": {},
     "output_type": "execute_result"
    }
   ],
   "source": [
    "%load_ext autoreload\n",
    "%autoreload 2\n",
    "%matplotlib widget\n",
    "\n",
    "import os\n",
    "os.chdir('/home/hrai/codes/PoseAdaptor')\n",
    "from lib_import import *\n",
    "from my_utils import *\n",
    "\n",
    "# 주요 디렉토리 경로\n",
    "user = getpass.getuser()\n",
    "alphapose_root = '/home/{}/codes/AlphaPose'.format(user)\n",
    "motionbert_root = '/home/{}/codes/MotionBERT'.format(user)\n",
    "kookmin_root = '/home/{}/Datasets/HAAI/국민대데이터/data'.format(user)\n",
    "ap_kookmin_result_root = alphapose_root + \"/examples/kookmin_result_5actions\"\n",
    "\n",
    "assert os.path.isdir(alphapose_root), \"AlphaPose root directory is not exist\"\n",
    "assert os.path.isdir(motionbert_root), \"MotionBERT root directory is not exist\"\n",
    "assert os.path.isdir(kookmin_root), \"Kookmin root directory is not exist\"\n",
    "assert os.path.isdir(ap_kookmin_result_root), \"AlphaPose Kookmin result directory is not exist\"\n",
    "\n",
    "alphapose_root, motionbert_root, kookmin_root, ap_kookmin_result_root"
   ]
  },
  {
   "cell_type": "markdown",
   "metadata": {},
   "source": [
    "# Total"
   ]
  },
  {
   "cell_type": "code",
   "execution_count": 3,
   "metadata": {},
   "outputs": [],
   "source": [
    "root_folder = '/home/hrai/Datasets/HAAI/국민대데이터/'\n",
    "subject_list = ['S01'] #['S01', 'S02', 'S03', 'S04', 'S05', 'S06', 'S07', 'S08', 'S09', 'S10']\n",
    "action_list = ['squat'] #['squat', 'pushup', 'kneeup', 'benchpress', 'burpee', 'butterfly', 'onehundred']\n",
    "phase_list = ['001'] #['001', '002', '003']\n",
    "save_folder = '/home/hrai/codes/MotionBERT/data/motion3d/kookmin_pkl'\n",
    "interpolate_spine = True\n",
    "\n",
    "lbot = np.array([-0.53090762,  1.47796592,  0.00880748])\n",
    "\n",
    "# fit3d origin\n",
    "fit3d_example = readpkl('/home/hrai/codes/MotionBERT/data/motion3d/fit3d_pkl/s03_50591643_band_pull_apart.pkl')\n",
    "trans = fit3d_example['world_3d'][0][0]\n",
    "rot = Rotation.from_euler('z', -90, degrees=True).as_matrix()"
   ]
  },
  {
   "cell_type": "code",
   "execution_count": 10,
   "metadata": {},
   "outputs": [
    {
     "name": "stdout",
     "output_type": "stream",
     "text": [
      "S10 burpee 001\n",
      "/home/hrai/Datasets/HAAI/국민대데이터/data/gist data/S10/S10_burpee_001.csv\n",
      "Not enough available frames (0 frames)\n"
     ]
    }
   ],
   "source": [
    "if interpolate_spine:\n",
    "    necessary_joints = [ 0, 1, 3, 4, 5, 6, 7, 8, 13, 14, 15, 16, 17, 18, 19, 20] \n",
    "else:\n",
    "    necessary_joints = [ 0, 1, 2, 3, 4, 5, 6, 7, 8, 13, 14, 15, 16, 17, 18, 19, 20] \n",
    "\n",
    "for subject in subject_list:\n",
    "    for phase in phase_list:\n",
    "        for action in action_list:\n",
    "            # load vicon data\n",
    "            file_path = os.path.join(root_folder, 'data', 'gist data', '{}/{}_{}_{}.csv'.format(subject, subject, action, phase))\n",
    "            if not os.path.exists(file_path): \n",
    "                print(file_path, \"no csv file\")\n",
    "                continue\n",
    "            else:\n",
    "                #print(file_path, 'exists')\n",
    "                print(subject, action, phase)\n",
    "            pose3d_list, attribute_list = load_pose3d_kookmin(subject, action, phase, lbot, h36m=False)  \n",
    "            \n",
    "            # check available frames\n",
    "            available_frames, num_frames = check_available_frame(pose3d_list, necessary_joints, interpolate_spine)\n",
    "            if available_frames is None: continue\n",
    "            \n",
    "            # convert to h36m\n",
    "            pose3d_list_h36m = kookmin2h36m(pose3d_list)\n",
    "\n",
    "            # generate pkl \n",
    "            for camera_id in ['50591643', '58860488', '60457274', '65906101']:\n",
    "                _, camera_param = fit3d_load_gt_and_param(fit3d_root, camera_id)\n",
    "                generate_kookmin_pkl_for_each_video(pose3d_list_h36m.copy(), available_frames.copy(), subject, camera_id, action, phase, camera_param.copy(), save_folder, trans, rot, overwrite=True)\n",
    "        \n",
    "            print(\"----------------\")\n",
    "            #break\n",
    "        #break\n",
    "    #break"
   ]
  },
  {
   "cell_type": "code",
   "execution_count": 5,
   "metadata": {},
   "outputs": [
    {
     "name": "stdout",
     "output_type": "stream",
     "text": [
      "S08 65906101 burpee 001\n",
      "S04 65906101 burpee 001\n",
      "S04 58860488 burpee 002\n",
      "S02 58860488 burpee 003\n",
      "S01 65906101 burpee 002\n",
      "S03 65906101 burpee 001\n",
      "S05 60457274 burpee 001\n",
      "S05 65906101 burpee 002\n",
      "S10 60457274 burpee 002\n",
      "S02 60457274 burpee 003\n",
      "S09 50591643 burpee 001\n",
      "S06 60457274 burpee 002\n",
      "S08 50591643 burpee 002\n",
      "S04 50591643 burpee 002\n",
      "S02 65906101 burpee 002\n",
      "S01 60457274 burpee 001\n",
      "S03 65906101 burpee 002\n",
      "S10 65906101 burpee 002\n",
      "S03 60457274 burpee 002\n",
      "S06 50591643 burpee 001\n",
      "S07 60457274 burpee 002\n",
      "S01 58860488 burpee 002\n",
      "S03 58860488 burpee 001\n",
      "S06 65906101 burpee 001\n",
      "S02 50591643 burpee 002\n",
      "S08 65906101 burpee 002\n",
      "S07 65906101 burpee 002\n",
      "S02 65906101 burpee 003\n",
      "S08 60457274 burpee 002\n",
      "S07 50591643 burpee 002\n",
      "S09 50591643 burpee 002\n",
      "S02 60457274 burpee 002\n",
      "S03 50591643 burpee 001\n",
      "S05 65906101 burpee 001\n",
      "S04 60457274 burpee 001\n",
      "S08 58860488 burpee 001\n",
      "S07 65906101 burpee 001\n",
      "S08 50591643 burpee 001\n",
      "S09 60457274 burpee 001\n",
      "S06 58860488 burpee 001\n",
      "S07 60457274 burpee 001\n",
      "S05 60457274 burpee 002\n",
      "S02 50591643 burpee 001\n",
      "S05 58860488 burpee 002\n",
      "S06 58860488 burpee 002\n",
      "S07 58860488 burpee 001\n",
      "S01 58860488 burpee 001\n",
      "S02 60457274 burpee 001\n",
      "S04 65906101 burpee 002\n",
      "S03 50591643 burpee 002\n",
      "S03 60457274 burpee 001\n",
      "S09 60457274 burpee 002\n",
      "S05 58860488 burpee 001\n",
      "S02 50591643 burpee 003\n",
      "S07 58860488 burpee 002\n",
      "S08 60457274 burpee 001\n",
      "S02 58860488 burpee 001\n",
      "S09 58860488 burpee 001\n",
      "S01 65906101 burpee 001\n",
      "S06 60457274 burpee 001\n",
      "S04 50591643 burpee 001\n",
      "S10 50591643 burpee 002\n",
      "S01 60457274 burpee 002\n",
      "S01 50591643 burpee 002\n",
      "S06 50591643 burpee 002\n",
      "S09 65906101 burpee 002\n",
      "S02 65906101 burpee 001\n",
      "S08 58860488 burpee 002\n",
      "S04 60457274 burpee 002\n",
      "S05 50591643 burpee 002\n",
      "S05 50591643 burpee 001\n",
      "S04 58860488 burpee 001\n",
      "S06 65906101 burpee 002\n",
      "S07 50591643 burpee 001\n",
      "S09 58860488 burpee 002\n",
      "S10 58860488 burpee 002\n",
      "S02 58860488 burpee 002\n",
      "S01 50591643 burpee 001\n",
      "S03 58860488 burpee 002\n",
      "S09 65906101 burpee 001\n"
     ]
    },
    {
     "data": {
      "text/plain": [
       "((99024, 17, 3), (53804, 17, 3))"
      ]
     },
     "execution_count": 5,
     "metadata": {},
     "output_type": "execute_result"
    }
   ],
   "source": [
    "joint_2ds = {'train': [], 'test': []}\n",
    "confidences = {'train': [], 'test': []}\n",
    "joint3d_images = {'train': [], 'test': []}\n",
    "joints_25d_images = {'train': [], 'test': []}\n",
    "_25d_factors = {'train': [], 'test': []}\n",
    "camera_names = {'train': [], 'test': []}\n",
    "actions = {'train': [], 'test': []}\n",
    "sources = {'train': [], 'test': []}\n",
    "frames = {'train': [], 'test': []}\n",
    "world_3ds = {'train': [], 'test': []}\n",
    "cam_3ds = {'train': [], 'test': []}\n",
    "cam_params = {'train': [], 'test': []}\n",
    "\n",
    "action_list = ['burpee'] # ['squat', 'pushup', 'kneeup', 'benchpress', 'burpee', 'butterfly', 'onehundred']\n",
    "test_subject = ['S02', 'S05', 'S08'] # ['S01', 'S02', 'S03', 'S04', 'S05', 'S06', 'S07', 'S08', 'S09', 'S10']\n",
    "pkl_folder = '/home/hrai/codes/MotionBERT/data/motion3d/kookmin_pkl'\n",
    "\n",
    "for item in os.listdir(pkl_folder):\n",
    "    subject, cam_num, action, phase = item.split('.')[0].split('_') \n",
    "    if action not in action_list: continue \n",
    "    print(subject, cam_num, action, phase) \n",
    "    item_path = os.path.join(pkl_folder, item) \n",
    "    data = readpkl(item_path) \n",
    "    #print(data.keys())\n",
    "    if subject in test_subject: data_type = 'test' \n",
    "    else: data_type = 'train' \n",
    "    joint_2ds[data_type] += data['joint_2d'] \n",
    "    confidences[data_type] += data['confidence'] \n",
    "    joint3d_images[data_type] += data['joint3d_image'] \n",
    "    joints_25d_images[data_type] += data['joints_2.5d_image'] \n",
    "    _25d_factors[data_type] += data['2.5d_factor'] \n",
    "    camera_names[data_type] += data['camera_name']  \n",
    "    actions[data_type] += data['action'] \n",
    "    sources[data_type] += data['source'] \n",
    "    frames[data_type] += data['frame'] \n",
    "    world_3ds[data_type] += data['world_3d'] \n",
    "    cam_3ds[data_type] += data['cam_3d'] \n",
    "    cam_params[data_type] += data['cam_param'] \n",
    "    \n",
    "kookmin_total = {'train': {}, 'test': {}}\n",
    "\n",
    "for data_type in ['train', 'test']:\n",
    "    data_type_ = data_type\n",
    "    kookmin_total[data_type]['joint_2d']          = copy.deepcopy(np.array(joint_2ds[data_type_]))\n",
    "    kookmin_total[data_type]['confidence']        = copy.deepcopy(np.array(confidences[data_type_]))\n",
    "    kookmin_total[data_type]['joint3d_image']     = copy.deepcopy(np.array(joint3d_images[data_type_]))\n",
    "    kookmin_total[data_type]['joints_2.5d_image'] = copy.deepcopy(np.array(joints_25d_images[data_type_]))\n",
    "    kookmin_total[data_type]['2.5d_factor']       = copy.deepcopy(np.array(_25d_factors[data_type_]))\n",
    "    kookmin_total[data_type]['camera_name']       = copy.deepcopy(np.array(camera_names[data_type_]))\n",
    "    kookmin_total[data_type]['action']            = copy.deepcopy(np.array(actions[data_type_]))\n",
    "    kookmin_total[data_type]['source']            = copy.deepcopy(np.array(sources[data_type_]))\n",
    "    kookmin_total[data_type]['frame']             = copy.deepcopy(np.array(frames[data_type_]))\n",
    "    kookmin_total[data_type]['world_3d']          = copy.deepcopy(np.array(world_3ds[data_type_]))\n",
    "    kookmin_total[data_type]['cam_3d']            = copy.deepcopy(np.array(cam_3ds[data_type_]))\n",
    "    kookmin_total[data_type]['cam_param']         = copy.deepcopy(np.array(cam_params[data_type_]))\n",
    "    \n",
    "if len(kookmin_total['train']['joint_2d']) == 0:\n",
    "    kookmin_total['train'] = copy.deepcopy(kookmin_total['test'])\n",
    "\n",
    "kookmin_total['train']['joint3d_image'].shape, kookmin_total['test']['joint3d_image'].shape  "
   ]
  },
  {
   "cell_type": "code",
   "execution_count": 6,
   "metadata": {},
   "outputs": [],
   "source": [
    "save_path = os.path.join(motionbert_root, 'data/motion3d/kookmin_burpee_with_fit3d_setting_s0258_test.pkl')\n",
    "savepkl(kookmin_total, save_path)"
   ]
  },
  {
   "cell_type": "markdown",
   "metadata": {},
   "source": [
    "# Total with kookmin camera setting"
   ]
  },
  {
   "cell_type": "code",
   "execution_count": 11,
   "metadata": {},
   "outputs": [],
   "source": [
    "root_folder = '/home/hrai/Datasets/HAAI/국민대데이터/'\n",
    "subject_list = ['S01', 'S02', 'S03', 'S04', 'S05', 'S06', 'S07', 'S08', 'S09', 'S10']\n",
    "action_list = ['squat', 'pushup', 'kneeup', 'benchpress', 'burpee', 'butterfly', 'onehundred']\n",
    "phase_list = ['001'] # ['001', '002', '003']\n",
    "save_folder = '/home/hrai/codes/MotionBERT/data/motion3d/kookmin_pkl_with_kookmin_setting'\n",
    "if not os.path.exists(save_folder): os.makedirs(save_folder)\n",
    "interpolate_spine = True\n",
    "if interpolate_spine:\n",
    "    necessary_joints = [ 0, 1, 3, 4, 5, 6, 7, 8, 13, 14, 15, 16, 17, 18, 19, 20] \n",
    "else:\n",
    "    necessary_joints = [ 0, 1, 2, 3, 4, 5, 6, 7, 8, 13, 14, 15, 16, 17, 18, 19, 20] \n",
    "\n",
    "lbot = np.array([-0.53090762,  1.47796592,  0.00880748])\n",
    "cam_param = readpkl('/home/hrai/Datasets/HAAI/국민대데이터/camera_parameter_estimation/' + 'cam_param.pkl')"
   ]
  },
  {
   "cell_type": "code",
   "execution_count": 12,
   "metadata": {},
   "outputs": [
    {
     "name": "stdout",
     "output_type": "stream",
     "text": [
      "S01 squat 001\n",
      "/home/hrai/Datasets/HAAI/국민대데이터/data/gist data/S01/S01_squat_001.csv\n",
      "Available frames: 0 ~ 1854\n",
      "S01_1_squat.pkl exists\n"
     ]
    },
    {
     "name": "stderr",
     "output_type": "stream",
     "text": [
      "  0%|          | 0/1855 [00:00<?, ?it/s]"
     ]
    },
    {
     "name": "stdout",
     "output_type": "stream",
     "text": [
      "weights [1.9283899068832397, 1.9283899068832397, 1.9283899068832397, 1.9283899068832397, 1.9283899068832397, 1.9283899068832397, 1.9283899068832397, 1.9283899068832397, 1.9283899068832397]\n",
      "losses [1860.269287109375, 1860.269287109375, 1860.269287109375, 1860.269287109375, 1860.269287109375, 1860.269287109375, 1860.269287109375, 1860.269287109375, 1860.269287109375]\n",
      "----------------\n"
     ]
    },
    {
     "name": "stderr",
     "output_type": "stream",
     "text": [
      "\n"
     ]
    }
   ],
   "source": [
    "for subject in subject_list:\n",
    "    for phase in phase_list:\n",
    "        for action in action_list:\n",
    "            # load vicon data\n",
    "            file_path = os.path.join(root_folder, 'data', 'gist data', '{}/{}_{}_{}.csv'.format(subject, subject, action, phase))\n",
    "            if not os.path.exists(file_path): \n",
    "                print(file_path, \"no csv file\")\n",
    "                continue\n",
    "            else:\n",
    "                #print(file_path, 'exists')\n",
    "                print(subject, action, phase)\n",
    "            pose3d_list, attribute_list = load_pose3d_kookmin(subject, action, phase, lbot, h36m=False)  \n",
    "            \n",
    "            # check available frames\n",
    "            available_frames, num_frames = check_available_frame(pose3d_list, necessary_joints, interpolate_spine)\n",
    "            if available_frames is None: continue\n",
    "            \n",
    "            # convert to h36m\n",
    "            pose3d_list_h36m = kookmin2h36m(pose3d_list)\n",
    "\n",
    "            # generate pkl \n",
    "            for camera_id in [1, 2, 3, 4, 5, 6, 7, 8]:\n",
    "                H, W, R, t, C, calibration_matrix, image = get_cam_param_kookmin(cam_param, subject, camera_id)\n",
    "                camera_param = {\n",
    "                    'intrinsic': calibration_matrix,\n",
    "                    'extrinsic': np.concatenate([R, t.reshape(3, 1)], axis=1),\n",
    "                }\n",
    "                generate_kookmin_pkl_for_each_video(pose3d_list=pose3d_list_h36m.copy(), \n",
    "                                                    available_frames=available_frames.copy(), \n",
    "                                                    subject=subject, \n",
    "                                                    camera_id=camera_id, \n",
    "                                                    action=action, \n",
    "                                                    phase=phase, \n",
    "                                                    camera_param=camera_param.copy(), \n",
    "                                                    save_folder=save_folder, \n",
    "                                                    trans=None, \n",
    "                                                    rot=None, \n",
    "                                                    centered_root=True,\n",
    "                                                    overwrite=False)\n",
    "        \n",
    "            print(\"----------------\")\n",
    "        #break\n",
    "    #break"
   ]
  },
  {
   "cell_type": "code",
   "execution_count": null,
   "metadata": {},
   "outputs": [],
   "source": [
    "weights [1.9089199304580688, 1.9187029600143433, 1.9235703945159912, 1.9259920120239258, 1.927196979522705, 1.9277963638305664, 1.9280946254730225, 1.9282430410385132, 1.9283168315887451]\n",
    "losses [1898.7435302734375, 1869.79345703125, 1862.6273193359375, 1860.853271484375, 1860.4140625, 1860.3052978515625, 1860.2783203125, 1860.2716064453125, 1860.2698974609375]\n",
    "\n",
    "weights [1.89244544506073, 1.9105063676834106, 1.919492244720459, 1.9239630699157715, 1.9261873960494995, 1.927294135093689, 1.927844762802124, 1.9281187057495117, 1.9282550811767578]\n",
    "losses [1991.3990478515625, 1892.7294921875, 1868.3045654296875, 1862.258544921875, 1860.7620849609375, 1860.391357421875, 1860.29931640625, 1860.2774658203125, 1860.2711181640625]\n",
    "\n",
    "weights [1.8954041004180908, 1.9119783639907837, 1.920224666595459, 1.9243274927139282, 1.9263687133789062, 1.927384376525879, 1.9278897047042847, 1.9281411170959473, 1.928266167640686]\n",
    "losses [1970.7000732421875, 1887.6053466796875, 1867.0361328125, 1861.9447021484375, 1860.68408203125, 1860.3724365234375, 1860.2950439453125, 1860.2757568359375, 1860.2711181640625]\n",
    "\n",
    "weights [1.9283384084701538, 1.9283642768859863, 1.9283771514892578, 1.9283835887908936, 1.9283868074417114, 1.9283883571624756, 1.9283891916275024, 1.928389549255371, 1.9283897876739502]\n",
    "losses [1860.2698974609375, 1860.2694091796875, 1860.2696533203125, 1860.2694091796875, 1860.2696533203125, 1860.269775390625, 1860.269287109375, 1860.2696533203125, 1860.2698974609375]\n",
    "\n",
    "weights [1.9283899068832397, 1.9283899068832397, 1.9283899068832397, 1.9283899068832397, 1.9283899068832397, 1.9283899068832397, 1.9283899068832397, 1.9283899068832397, 1.9283899068832397]\n",
    "losses [1860.269287109375, 1860.269287109375, 1860.269287109375, 1860.269287109375, 1860.269287109375, 1860.269287109375, 1860.269287109375, 1860.269287109375, 1860.269287109375]"
   ]
  },
  {
   "cell_type": "code",
   "execution_count": 30,
   "metadata": {},
   "outputs": [
    {
     "data": {
      "text/plain": [
       "((239740, 8, 3), (103130, 8, 3))"
      ]
     },
     "execution_count": 30,
     "metadata": {},
     "output_type": "execute_result"
    }
   ],
   "source": [
    "joint_2ds = {'train': [], 'test': []}\n",
    "confidences = {'train': [], 'test': []}\n",
    "joint3d_images = {'train': [], 'test': []}\n",
    "joints_25d_images = {'train': [], 'test': []}\n",
    "_25d_factors = {'train': [], 'test': []}\n",
    "camera_names = {'train': [], 'test': []}\n",
    "actions = {'train': [], 'test': []}\n",
    "sources = {'train': [], 'test': []}\n",
    "frames = {'train': [], 'test': []}\n",
    "world_3ds = {'train': [], 'test': []}\n",
    "cam_3ds = {'train': [], 'test': []}\n",
    "cam_params = {'train': [], 'test': []}\n",
    "\n",
    "pkl_folder = '/home/hrai/codes/MotionBERT/data/motion3d/kookmin_pkl_with_kookmin_setting'\n",
    "action_list = ['squat', 'pushup', 'kneeup', 'benchpress', 'burpee', 'butterfly', 'onehundred']\n",
    "test_subject = ['S02', 'S05', 'S08'] # ['S01', 'S02', 'S03', 'S04', 'S05', 'S06', 'S07', 'S08', 'S09', 'S10']\n",
    "camera_list = [2, 3, 4, 5, 6] # [1, 2, 3, 4, 5, 6, 7, 8]\n",
    "pelvis, r_hip, l_hip, torso, neck, l_shoulder, r_shoulder = 0, 1, 4, 7, 8, 11, 14\n",
    "r_knee, r_ankle, l_knee, l_ankle = 2, 3, 5, 6\n",
    "l_elbow, l_wrist, r_elbow, r_wrist = 12, 13, 15, 16\n",
    "joint_list = [r_knee, r_ankle, l_knee, l_ankle, l_elbow, l_wrist, r_elbow, r_wrist] # [j for j in range(17)]\n",
    "only_test = False\n",
    "\n",
    "blacklist = [\n",
    "    'S03_burpee_1', 'S03_kneeup_1', 'S03_pushup_1', 'S03_squat_1', # no wide view\n",
    "    'S04_burpee_2', 'S04_kneeup_2', 'S04_pushup_2', 'S04_squat_2', # no wide view\n",
    "    'S04_burpee_4', 'S04_kneeup_4', 'S04_pushup_4', 'S04_squat_4', # no wide view\n",
    "]\n",
    "\n",
    "for item in os.listdir(pkl_folder):\n",
    "    subject, cam_num, action, phase = item.split('.')[0].split('_') \n",
    "    \n",
    "    # filtering\n",
    "    if action not in action_list: continue \n",
    "    if int(cam_num) not in camera_list: continue\n",
    "    if only_test:\n",
    "        if subject not in test_subject: continue\n",
    "    if subject in blacklist: continue\n",
    "    #print(subject, cam_num, action, phase) \n",
    "    \n",
    "    item_path = os.path.join(pkl_folder, item) \n",
    "    data = readpkl(item_path) \n",
    "    if subject in test_subject: data_type = 'test' \n",
    "    else: data_type = 'train' \n",
    "    \n",
    "    joint_2ds[data_type] += list(np.array(data['joint_2d'])[:, joint_list]) \n",
    "    confidences[data_type] += list(np.array(data['confidence'])[:, joint_list]) \n",
    "    joint3d_images[data_type] += list(np.array(data['joint3d_image'])[:, joint_list]) \n",
    "    joints_25d_images[data_type] += list(np.array(data['joints_2.5d_image'])[:, joint_list]) \n",
    "    _25d_factors[data_type] += data['2.5d_factor'] \n",
    "    camera_names[data_type] += data['camera_name']  \n",
    "    actions[data_type] += data['action'] \n",
    "    sources[data_type] += data['source'] \n",
    "    frames[data_type] += data['frame'] \n",
    "    world_3ds[data_type] += list(np.array(data['world_3d'])[:, joint_list]) \n",
    "    cam_3ds[data_type] += list(np.array(data['cam_3d'])[:, joint_list])\n",
    "    cam_params[data_type] += data['cam_param'] \n",
    "    \n",
    "kookmin_total = {'train': {}, 'test': {}}\n",
    "\n",
    "for data_type in ['train', 'test']:\n",
    "    kookmin_total[data_type]['joint_2d']          = copy.deepcopy(np.array(joint_2ds[data_type]))\n",
    "    kookmin_total[data_type]['confidence']        = copy.deepcopy(np.array(confidences[data_type]))\n",
    "    kookmin_total[data_type]['joint3d_image']     = copy.deepcopy(np.array(joint3d_images[data_type]))\n",
    "    kookmin_total[data_type]['joints_2.5d_image'] = copy.deepcopy(np.array(joints_25d_images[data_type]))\n",
    "    kookmin_total[data_type]['2.5d_factor']       = copy.deepcopy(np.array(_25d_factors[data_type]))\n",
    "    kookmin_total[data_type]['camera_name']       = copy.deepcopy(np.array(camera_names[data_type]))\n",
    "    kookmin_total[data_type]['action']            = copy.deepcopy(np.array(actions[data_type]))\n",
    "    kookmin_total[data_type]['source']            = copy.deepcopy(np.array(sources[data_type]))\n",
    "    kookmin_total[data_type]['frame']             = copy.deepcopy(np.array(frames[data_type]))\n",
    "    kookmin_total[data_type]['world_3d']          = copy.deepcopy(np.array(world_3ds[data_type]))\n",
    "    kookmin_total[data_type]['cam_3d']            = copy.deepcopy(np.array(cam_3ds[data_type]))\n",
    "    kookmin_total[data_type]['cam_param']         = copy.deepcopy(np.array(cam_params[data_type]))\n",
    "    \n",
    "if len(kookmin_total['train']['joint_2d']) == 0:\n",
    "    kookmin_total['train'] = copy.deepcopy(kookmin_total['test'])\n",
    "\n",
    "kookmin_total['train']['joint3d_image'].shape, kookmin_total['test']['joint3d_image'].shape  "
   ]
  },
  {
   "cell_type": "code",
   "execution_count": 31,
   "metadata": {},
   "outputs": [
    {
     "ename": "IndexError",
     "evalue": "index 8 is out of bounds for axis 0 with size 8",
     "output_type": "error",
     "traceback": [
      "\u001b[0;31m---------------------------------------------------------------------------\u001b[0m",
      "\u001b[0;31mIndexError\u001b[0m                                Traceback (most recent call last)",
      "Cell \u001b[0;32mIn[31], line 5\u001b[0m\n\u001b[1;32m      3\u001b[0m fig\u001b[39m.\u001b[39mclear()\n\u001b[1;32m      4\u001b[0m ax \u001b[39m=\u001b[39m axes_2d(fig, H\u001b[39m=\u001b[39m\u001b[39m1920\u001b[39m, W\u001b[39m=\u001b[39m\u001b[39m1080\u001b[39m)\n\u001b[0;32m----> 5\u001b[0m img \u001b[39m=\u001b[39m get_2d_pose_image(kookmin_total[\u001b[39m'\u001b[39;49m\u001b[39mtest\u001b[39;49m\u001b[39m'\u001b[39;49m][\u001b[39m'\u001b[39;49m\u001b[39mjoint_2d\u001b[39;49m\u001b[39m'\u001b[39;49m][\u001b[39m-\u001b[39;49m\u001b[39m1\u001b[39;49m], H\u001b[39m=\u001b[39;49m\u001b[39m1920\u001b[39;49m, W\u001b[39m=\u001b[39;49m\u001b[39m1080\u001b[39;49m)\n\u001b[1;32m      6\u001b[0m ax\u001b[39m.\u001b[39mimshow(img)\n\u001b[1;32m      7\u001b[0m plt\u001b[39m.\u001b[39mshow()\n",
      "File \u001b[0;32m~/codes/PoseAdaptor/my_utils/visualization.py:138\u001b[0m, in \u001b[0;36mget_2d_pose_image\u001b[0;34m(kps, img, H, W, box, thickness, dataset)\u001b[0m\n\u001b[1;32m    136\u001b[0m \u001b[39mfor\u001b[39;00m j,c \u001b[39min\u001b[39;00m \u001b[39menumerate\u001b[39m(connections):\n\u001b[1;32m    137\u001b[0m     start \u001b[39m=\u001b[39m \u001b[39mmap\u001b[39m(\u001b[39mint\u001b[39m, kps[c[\u001b[39m0\u001b[39m]])\n\u001b[0;32m--> 138\u001b[0m     end \u001b[39m=\u001b[39m \u001b[39mmap\u001b[39m(\u001b[39mint\u001b[39m, kps[c[\u001b[39m1\u001b[39;49m]])\n\u001b[1;32m    139\u001b[0m     start \u001b[39m=\u001b[39m \u001b[39mlist\u001b[39m(start)\n\u001b[1;32m    140\u001b[0m     end \u001b[39m=\u001b[39m \u001b[39mlist\u001b[39m(end)\n",
      "\u001b[0;31mIndexError\u001b[0m: index 8 is out of bounds for axis 0 with size 8"
     ]
    },
    {
     "data": {
      "image/png": "[encoded data removed]",
      "text/plain": [
       "<Figure size 640x480 with 1 Axes>"
      ]
     },
     "metadata": {},
     "output_type": "display_data"
    }
   ],
   "source": [
    "%matplotlib inline\n",
    "fig = plt.figure(0)\n",
    "fig.clear()\n",
    "ax = axes_2d(fig, H=1920, W=1080)\n",
    "img = get_2d_pose_image(kookmin_total['test']['joint_2d'][-1], H=1920, W=1080)\n",
    "ax.imshow(img)\n",
    "plt.show()"
   ]
  },
  {
   "cell_type": "code",
   "execution_count": 32,
   "metadata": {},
   "outputs": [],
   "source": [
    "save_path = os.path.join(motionbert_root, 'data/motion3d/kookmin_only_appendage_with_kookmin_setting_s0258_test.pkl')\n",
    "savepkl(kookmin_total, save_path)"
   ]
  },
  {
   "cell_type": "markdown",
   "metadata": {},
   "source": [
    "### Change gt pose2d to ap pose2d (to be continue)"
   ]
  },
  {
   "cell_type": "code",
   "execution_count": 24,
   "metadata": {},
   "outputs": [],
   "source": [
    "target_pkl = os.path.join(motionbert_root, 'data/motion3d/kookmin_total_with_kookmin_setting_s0258_test.pkl')\n",
    "src = readpkl(target_pkl)"
   ]
  },
  {
   "cell_type": "code",
   "execution_count": 29,
   "metadata": {},
   "outputs": [
    {
     "data": {
      "text/plain": [
       "(dict_keys(['train', 'test']),\n",
       " dict_keys(['joint_2d', 'confidence', 'joint3d_image', 'joints_2.5d_image', '2.5d_factor', 'camera_name', 'action', 'source', 'frame', 'world_3d', 'cam_3d', 'cam_param']),\n",
       " dict_keys(['joint_2d', 'confidence', 'joint3d_image', 'joints_2.5d_image', '2.5d_factor', 'camera_name', 'action', 'source', 'frame', 'world_3d', 'cam_3d', 'cam_param']))"
      ]
     },
     "execution_count": 29,
     "metadata": {},
     "output_type": "execute_result"
    }
   ],
   "source": [
    "src.keys(), src['train'].keys(), src['test'].keys()"
   ]
  },
  {
   "cell_type": "code",
   "execution_count": 28,
   "metadata": {},
   "outputs": [
    {
     "data": {
      "text/plain": [
       "array([   0,    1,    2, ..., 1915, 1916, 1917])"
      ]
     },
     "execution_count": 28,
     "metadata": {},
     "output_type": "execute_result"
    }
   ],
   "source": [
    "src['test']['frame']"
   ]
  },
  {
   "cell_type": "code",
   "execution_count": 34,
   "metadata": {},
   "outputs": [
    {
     "name": "stdout",
     "output_type": "stream",
     "text": [
      "S05 1 burpee 001\n",
      "899 1707\n"
     ]
    }
   ],
   "source": [
    "joint_2ds = {'train': [], 'test': []}\n",
    "confidences = {'train': [], 'test': []}\n",
    "joint3d_images = {'train': [], 'test': []}\n",
    "joints_25d_images = {'train': [], 'test': []}\n",
    "_25d_factors = {'train': [], 'test': []}\n",
    "camera_names = {'train': [], 'test': []}\n",
    "actions = {'train': [], 'test': []}\n",
    "sources = {'train': [], 'test': []}\n",
    "frames = {'train': [], 'test': []}\n",
    "world_3ds = {'train': [], 'test': []}\n",
    "cam_3ds = {'train': [], 'test': []}\n",
    "cam_params = {'train': [], 'test': []}\n",
    "\n",
    "action_list = ['squat', 'pushup', 'kneeup', 'benchpress', 'burpee', 'butterfly', 'onehundred']\n",
    "test_subject = ['S02', 'S05', 'S08'] # ['S01', 'S02', 'S03', 'S04', 'S05', 'S06', 'S07', 'S08', 'S09', 'S10']\n",
    "camera_list = [1, 2, 3, 4, 5, 6, 7, 8]\n",
    "pkl_folder = '/home/hrai/codes/MotionBERT/data/motion3d/kookmin_pkl_with_kookmin_setting'\n",
    "\n",
    "for item in os.listdir(pkl_folder):\n",
    "    subject, camera_id, action, phase = item.split('.')[0].split('_') \n",
    "    if action not in action_list: continue \n",
    "    if subject not in test_subject: continue\n",
    "    if int(camera_id) not in camera_list: continue\n",
    "    print(subject, camera_id, action, phase) \n",
    "    item_path = os.path.join(pkl_folder, item) \n",
    "    data = readpkl(item_path) \n",
    "    #print(data.keys())\n",
    "    if subject in test_subject: data_type = 'test' \n",
    "    else: data_type = 'train' \n",
    "    if data_type == 'train': \n",
    "        joint_2ds[data_type] += data['joint_2d'] \n",
    "    elif data_type == 'test':\n",
    "        # load \n",
    "        ap_result_path = os.path.join(ap_kookmin_result_root, 'res_{}_{}_{}'.format(subject, action, camera_id))\n",
    "        video_path = '/home/hrai/Datasets/HAAI/국민대데이터/data/videos/{}/{}_{}_{}.mp4'.format(subject, subject, action, camera_id) \n",
    "        joint_2d = get_ap_pose_2d(video_path, ap_result_path)\n",
    "        print(len(joint_2d), len(data['joint_2d']))\n",
    "    confidences[data_type] += data['confidence'] \n",
    "    joint3d_images[data_type] += data['joint3d_image'] \n",
    "    joints_25d_images[data_type] += data['joints_2.5d_image'] \n",
    "    _25d_factors[data_type] += data['2.5d_factor'] \n",
    "    camera_names[data_type] += data['camera_name']  \n",
    "    actions[data_type] += data['action'] \n",
    "    sources[data_type] += data['source'] \n",
    "    frames[data_type] += data['frame'] \n",
    "    world_3ds[data_type] += data['world_3d'] \n",
    "    cam_3ds[data_type] += data['cam_3d'] \n",
    "    cam_params[data_type] += data['cam_param'] \n",
    "    break\n",
    "    \n"
   ]
  },
  {
   "cell_type": "code",
   "execution_count": null,
   "metadata": {},
   "outputs": [],
   "source": [
    "kookmin_total = {'train': {}, 'test': {}}\n",
    "\n",
    "for data_type in ['train', 'test']:\n",
    "    data_type_ = data_type\n",
    "    kookmin_total[data_type]['joint_2d']          = copy.deepcopy(np.array(joint_2ds[data_type_]))\n",
    "    kookmin_total[data_type]['confidence']        = copy.deepcopy(np.array(confidences[data_type_]))\n",
    "    kookmin_total[data_type]['joint3d_image']     = copy.deepcopy(np.array(joint3d_images[data_type_]))\n",
    "    kookmin_total[data_type]['joints_2.5d_image'] = copy.deepcopy(np.array(joints_25d_images[data_type_]))\n",
    "    kookmin_total[data_type]['2.5d_factor']       = copy.deepcopy(np.array(_25d_factors[data_type_]))\n",
    "    kookmin_total[data_type]['camera_name']       = copy.deepcopy(np.array(camera_names[data_type_]))\n",
    "    kookmin_total[data_type]['action']            = copy.deepcopy(np.array(actions[data_type_]))\n",
    "    kookmin_total[data_type]['source']            = copy.deepcopy(np.array(sources[data_type_]))\n",
    "    kookmin_total[data_type]['frame']             = copy.deepcopy(np.array(frames[data_type_]))\n",
    "    kookmin_total[data_type]['world_3d']          = copy.deepcopy(np.array(world_3ds[data_type_]))\n",
    "    kookmin_total[data_type]['cam_3d']            = copy.deepcopy(np.array(cam_3ds[data_type_]))\n",
    "    kookmin_total[data_type]['cam_param']         = copy.deepcopy(np.array(cam_params[data_type_]))\n",
    "    \n",
    "if len(kookmin_total['train']['joint_2d']) == 0:\n",
    "    kookmin_total['train'] = copy.deepcopy(kookmin_total['test'])\n",
    "\n",
    "kookmin_total['train']['joint3d_image'].shape, kookmin_total['test']['joint3d_image'].shape  "
   ]
  }
 ],
 "metadata": {
  "kernelspec": {
   "display_name": "motionbert",
   "language": "python",
   "name": "python3"
  },
  "language_info": {
   "codemirror_mode": {
    "name": "ipython",
    "version": 3
   },
   "file_extension": ".py",
   "mimetype": "text/x-python",
   "name": "python",
   "nbconvert_exporter": "python",
   "pygments_lexer": "ipython3",
   "version": "3.9.17"
  },
  "vscode": {
   "interpreter": {
    "hash": "996031ba2a0f3c1298a339c0299835a7fe1ef636d9e79358bc474ca43ed2ac18"
   }
  }
 },
 "nbformat": 4,
 "nbformat_minor": 2
}
