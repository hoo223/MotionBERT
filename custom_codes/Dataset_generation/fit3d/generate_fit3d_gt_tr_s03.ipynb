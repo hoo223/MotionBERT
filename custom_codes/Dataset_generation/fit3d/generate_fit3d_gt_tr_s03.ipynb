{
 "cells": [
  {
   "cell_type": "code",
   "execution_count": 3,
   "metadata": {},
   "outputs": [
    {
     "name": "stdout",
     "output_type": "stream",
     "text": [
      "The autoreload extension is already loaded. To reload it, use:\n",
      "  %reload_ext autoreload\n"
     ]
    }
   ],
   "source": [
    "%load_ext autoreload\n",
    "%autoreload 2\n",
    "%matplotlib widget\n",
    "import os, sys, getpass\n",
    "user = getpass.getuser()\n",
    "sys.path.append(f'/home/{user}/codes/hpe_library/')\n",
    "from lib_import import *\n",
    "from my_utils import *\n",
    "os.chdir('/home/hrai/codes/MotionBERT')"
   ]
  },
  {
   "cell_type": "code",
   "execution_count": 4,
   "metadata": {},
   "outputs": [
    {
     "name": "stderr",
     "output_type": "stream",
     "text": [
      "  0%|          | 0/1504 [00:00<?, ?it/s]"
     ]
    },
    {
     "name": "stderr",
     "output_type": "stream",
     "text": [
      "  1%|          | 18/1504 [00:00<00:21, 69.41it/s]\n"
     ]
    },
    {
     "ename": "KeyboardInterrupt",
     "evalue": "",
     "output_type": "error",
     "traceback": [
      "\u001b[0;31m---------------------------------------------------------------------------\u001b[0m",
      "\u001b[0;31mKeyboardInterrupt\u001b[0m                         Traceback (most recent call last)",
      "Cell \u001b[0;32mIn[4], line 50\u001b[0m\n\u001b[1;32m     48\u001b[0m     frames[data_type] \u001b[38;5;241m+\u001b[39m\u001b[38;5;241m=\u001b[39m data[\u001b[38;5;124m'\u001b[39m\u001b[38;5;124mframe\u001b[39m\u001b[38;5;124m'\u001b[39m] \n\u001b[1;32m     49\u001b[0m     world_3ds[data_type] \u001b[38;5;241m+\u001b[39m\u001b[38;5;241m=\u001b[39m \u001b[38;5;28mlist\u001b[39m(np\u001b[38;5;241m.\u001b[39marray(data[\u001b[38;5;124m'\u001b[39m\u001b[38;5;124mworld_3d\u001b[39m\u001b[38;5;124m'\u001b[39m])) \n\u001b[0;32m---> 50\u001b[0m     cam_3ds[data_type] \u001b[38;5;241m+\u001b[39m\u001b[38;5;241m=\u001b[39m \u001b[38;5;28mlist\u001b[39m(\u001b[43mnp\u001b[49m\u001b[38;5;241;43m.\u001b[39;49m\u001b[43marray\u001b[49m\u001b[43m(\u001b[49m\u001b[43mdata\u001b[49m\u001b[43m[\u001b[49m\u001b[38;5;124;43m'\u001b[39;49m\u001b[38;5;124;43mcam_3d\u001b[39;49m\u001b[38;5;124;43m'\u001b[39;49m\u001b[43m]\u001b[49m\u001b[43m)\u001b[49m\u001b[38;5;241;43m/\u001b[39;49m\u001b[38;5;241;43m1000.0\u001b[39;49m) \u001b[38;5;66;03m# mm to m\u001b[39;00m\n\u001b[1;32m     52\u001b[0m data_total \u001b[38;5;241m=\u001b[39m {\u001b[38;5;124m'\u001b[39m\u001b[38;5;124mtrain\u001b[39m\u001b[38;5;124m'\u001b[39m: {}, \u001b[38;5;124m'\u001b[39m\u001b[38;5;124mtest\u001b[39m\u001b[38;5;124m'\u001b[39m: {}}\n\u001b[1;32m     54\u001b[0m \u001b[38;5;28;01mfor\u001b[39;00m data_type \u001b[38;5;129;01min\u001b[39;00m [\u001b[38;5;124m'\u001b[39m\u001b[38;5;124mtrain\u001b[39m\u001b[38;5;124m'\u001b[39m, \u001b[38;5;124m'\u001b[39m\u001b[38;5;124mtest\u001b[39m\u001b[38;5;124m'\u001b[39m]:\n",
      "\u001b[0;31mKeyboardInterrupt\u001b[0m: "
     ]
    }
   ],
   "source": [
    "joint_2ds = {'train': [], 'test': []}\n",
    "confidences = {'train': [], 'test': []}\n",
    "joint3d_images = {'train': [], 'test': []}\n",
    "joints_25d_images = {'train': [], 'test': []}\n",
    "_25d_factors = {'train': [], 'test': []}\n",
    "camera_names = {'train': [], 'test': []}\n",
    "actions = {'train': [], 'test': []}\n",
    "sources = {'train': [], 'test': []}\n",
    "frames = {'train': [], 'test': []}\n",
    "world_3ds = {'train': [], 'test': []}\n",
    "cam_3ds = {'train': [], 'test': []}\n",
    "cam_params = {'train': [], 'test': []}\n",
    "\n",
    "# target \n",
    "pkl_folder = '/home/hrai/codes/MotionBERT/data/motion3d/fit3d_gt_pkl'\n",
    "test_subject = [''s04', 's05', 's07', 's08', 's09', 's10', 's11']\n",
    "only_test = False\n",
    "\n",
    "blacklist = []\n",
    "\n",
    "for item in tqdm(os.listdir(pkl_folder)):\n",
    "    splited = item.split('.')[0].split('_') \n",
    "    subject = splited[0]\n",
    "    cam_num = splited[1]\n",
    "    action = '_'.join(splited[2:])\n",
    "    \n",
    "    # filtering\n",
    "    #if action not in action_list: continue \n",
    "    #if int(cam_num) not in camera_list: continue\n",
    "    if only_test:\n",
    "        if subject not in test_subject: continue\n",
    "    if subject in blacklist: continue\n",
    "    #print(subject, cam_num, action, phase) \n",
    "    \n",
    "    item_path = os.path.join(pkl_folder, item) \n",
    "    data = readpkl(item_path) \n",
    "    if subject in test_subject: data_type = 'test' \n",
    "    else: data_type = 'train' \n",
    "\n",
    "    joint_2ds[data_type] += list(np.array(data['joint_2d'])) \n",
    "    confidences[data_type] += list(np.array(data['confidence'])) \n",
    "    joint3d_images[data_type] += list(np.array(data['joint3d_image'])) \n",
    "    joints_25d_images[data_type] += list(np.array(data['joints_2.5d_image'])) \n",
    "    _25d_factors[data_type] += data['2.5d_factor'] \n",
    "    camera_names[data_type] += data['camera_name']  \n",
    "    actions[data_type] += data['action'] \n",
    "    sources[data_type] += data['source'] \n",
    "    frames[data_type] += data['frame'] \n",
    "    world_3ds[data_type] += list(np.array(data['world_3d'])) \n",
    "    cam_3ds[data_type] += list(np.array(data['cam_3d'])/1000.0) # mm to m\n",
    "    \n",
    "data_total = {'train': {}, 'test': {}}\n",
    "\n",
    "for data_type in ['train', 'test']:\n",
    "    data_total[data_type]['joint_2d']          = copy.deepcopy(np.array(joint_2ds[data_type]))\n",
    "    data_total[data_type]['confidence']        = copy.deepcopy(np.array(confidences[data_type]))\n",
    "    data_total[data_type]['joint3d_image']     = copy.deepcopy(np.array(joint3d_images[data_type]))\n",
    "    data_total[data_type]['joints_2.5d_image'] = copy.deepcopy(np.array(joints_25d_images[data_type]))\n",
    "    data_total[data_type]['2.5d_factor']       = copy.deepcopy(np.array(_25d_factors[data_type]))\n",
    "    data_total[data_type]['camera_name']       = copy.deepcopy(np.array(camera_names[data_type]))\n",
    "    data_total[data_type]['action']            = copy.deepcopy(np.array(actions[data_type]))\n",
    "    data_total[data_type]['source']            = copy.deepcopy(np.array(sources[data_type]))\n",
    "    data_total[data_type]['frame']             = copy.deepcopy(np.array(frames[data_type]))\n",
    "    data_total[data_type]['world_3d']          = copy.deepcopy(np.array(world_3ds[data_type]))\n",
    "    data_total[data_type]['cam_3d']            = copy.deepcopy(np.array(cam_3ds[data_type]))\n",
    "    data_total[data_type]['cam_param']         = copy.deepcopy(np.array(cam_params[data_type]))\n",
    "    \n",
    "if len(data_total['train']['joint_2d']) == 0:\n",
    "    for key in data_total['test'].keys():\n",
    "        data_total['train'][key] = copy.deepcopy(data_total['test'][key][0:243])\n",
    "\n",
    "data_total['train']['joint_2d'].shape, data_total['test']['joint_2d'].shape  "
   ]
  },
  {
   "cell_type": "code",
   "execution_count": null,
   "metadata": {},
   "outputs": [],
   "source": [
    "save_path = os.path.join('/home/hrai/codes/MotionBERT', f'data/motion3d/fit3d_gt_tr_s03.pkl')\n",
    "savepkl(data_total, save_path)"
   ]
  }
 ],
 "metadata": {
  "kernelspec": {
   "display_name": "motionbert",
   "language": "python",
   "name": "python3"
  },
  "language_info": {
   "codemirror_mode": {
    "name": "ipython",
    "version": 3
   },
   "file_extension": ".py",
   "mimetype": "text/x-python",
   "name": "python",
   "nbconvert_exporter": "python",
   "pygments_lexer": "ipython3",
   "version": "3.9.17"
  },
  "vscode": {
   "interpreter": {
    "hash": "a22adeb9c65037913f217d555eca4ee12416bb8cd04fc64921ca248554344da3"
   }
  }
 },
 "nbformat": 4,
 "nbformat_minor": 2
}
