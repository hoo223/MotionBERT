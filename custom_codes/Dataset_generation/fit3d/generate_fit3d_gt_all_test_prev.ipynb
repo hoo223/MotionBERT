{
 "cells": [
  {
   "cell_type": "code",
   "execution_count": 1,
   "metadata": {},
   "outputs": [],
   "source": [
    "%load_ext autoreload\n",
    "%autoreload 2\n",
    "%matplotlib widget\n",
    "import os, sys\n",
    "sys.path.append('/home/hrai/codes/hpe_library/')\n",
    "from lib_import import *\n",
    "from my_utils import *\n",
    "os.chdir('/home/hrai/codes/MotionBERT')"
   ]
  },
  {
   "cell_type": "code",
   "execution_count": 2,
   "metadata": {},
   "outputs": [],
   "source": [
    "h36m = readpkl('/home/hrai/codes/MotionBERT/data/motion3d/h36m_gt.pkl')"
   ]
  },
  {
   "cell_type": "code",
   "execution_count": 3,
   "metadata": {},
   "outputs": [
    {
     "data": {
      "text/plain": [
       "dict_keys(['train', 'test'])"
      ]
     },
     "execution_count": 3,
     "metadata": {},
     "output_type": "execute_result"
    }
   ],
   "source": [
    "h36m.keys()"
   ]
  },
  {
   "cell_type": "code",
   "execution_count": 4,
   "metadata": {},
   "outputs": [
    {
     "data": {
      "text/plain": [
       "dict_keys(['joint_2d', 'confidence', 'camera_name', 'action', 'source', 'frame', 'world_3d', 'cam_3d', 'cam_param'])"
      ]
     },
     "execution_count": 4,
     "metadata": {},
     "output_type": "execute_result"
    }
   ],
   "source": [
    "h36m['test'].keys()"
   ]
  },
  {
   "cell_type": "code",
   "execution_count": 5,
   "metadata": {},
   "outputs": [],
   "source": [
    "fit3d = readpkl('/home/hrai/codes/MotionBERT/data/motion3d/fit3d_gt_all_train_except_target_action.pkl')"
   ]
  },
  {
   "cell_type": "code",
   "execution_count": 6,
   "metadata": {},
   "outputs": [
    {
     "data": {
      "text/plain": [
       "dict_keys(['train', 'test'])"
      ]
     },
     "execution_count": 6,
     "metadata": {},
     "output_type": "execute_result"
    }
   ],
   "source": [
    "fit3d.keys()"
   ]
  },
  {
   "cell_type": "code",
   "execution_count": 7,
   "metadata": {},
   "outputs": [
    {
     "data": {
      "text/plain": [
       "dict"
      ]
     },
     "execution_count": 7,
     "metadata": {},
     "output_type": "execute_result"
    }
   ],
   "source": [
    "type(fit3d['train'])"
   ]
  },
  {
   "cell_type": "code",
   "execution_count": 12,
   "metadata": {},
   "outputs": [
    {
     "name": "stdout",
     "output_type": "stream",
     "text": [
      "joint_2d 1666432\n",
      "<class 'numpy.ndarray'>\n",
      "confidence 1666432\n",
      "<class 'numpy.ndarray'>\n",
      "joint3d_image 1666432\n",
      "<class 'numpy.ndarray'>\n",
      "joints_2.5d_image 1666432\n",
      "<class 'numpy.ndarray'>\n",
      "2.5d_factor 1666432\n",
      "<class 'numpy.ndarray'>\n",
      "camera_name 1666432\n",
      "<class 'numpy.ndarray'>\n",
      "action 1666432\n",
      "<class 'numpy.ndarray'>\n",
      "source 1666432\n",
      "<class 'numpy.ndarray'>\n",
      "frame 1666432\n",
      "<class 'numpy.ndarray'>\n",
      "world_3d 1666432\n",
      "<class 'numpy.ndarray'>\n",
      "cam_3d 1666432\n",
      "<class 'numpy.ndarray'>\n",
      "cam_param 1666432\n",
      "<class 'numpy.ndarray'>\n"
     ]
    }
   ],
   "source": [
    "for key in fit3d['train'].keys():\n",
    "    print(key, len(fit3d['train'][key]))\n",
    "    print(type(fit3d['train'][key]))\n",
    "    fit3d['test'][key] = np.array(list(fit3d['test'][key]) + list(fit3d['train'][key]))"
   ]
  },
  {
   "cell_type": "code",
   "execution_count": 23,
   "metadata": {},
   "outputs": [],
   "source": [
    "fit3d['train'] = {}\n",
    "for key in fit3d['test'].keys():\n",
    "    fit3d['train'][key] = np.array(fit3d['test'][key][:243]) # fake data"
   ]
  },
  {
   "cell_type": "code",
   "execution_count": 24,
   "metadata": {},
   "outputs": [
    {
     "data": {
      "text/plain": [
       "(243, 17, 2)"
      ]
     },
     "execution_count": 24,
     "metadata": {},
     "output_type": "execute_result"
    }
   ],
   "source": [
    "fit3d['train']['joint_2d'].shape"
   ]
  },
  {
   "cell_type": "code",
   "execution_count": 25,
   "metadata": {},
   "outputs": [],
   "source": [
    "savepkl(fit3d, '/home/hrai/codes/MotionBERT/data/motion3d/fit3d_gt_all_test.pkl')"
   ]
  }
 ],
 "metadata": {
  "kernelspec": {
   "display_name": "motionbert",
   "language": "python",
   "name": "python3"
  },
  "language_info": {
   "codemirror_mode": {
    "name": "ipython",
    "version": 3
   },
   "file_extension": ".py",
   "mimetype": "text/x-python",
   "name": "python",
   "nbconvert_exporter": "python",
   "pygments_lexer": "ipython3",
   "version": "3.9.18"
  }
 },
 "nbformat": 4,
 "nbformat_minor": 2
}
