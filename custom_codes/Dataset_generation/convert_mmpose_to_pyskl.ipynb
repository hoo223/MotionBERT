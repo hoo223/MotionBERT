{
 "cells": [
  {
   "cell_type": "code",
   "execution_count": 1,
   "metadata": {},
   "outputs": [
    {
     "data": {
      "text/plain": [
       "('/home/hrai/codes/AlphaPose',\n",
       " '/home/hrai/codes/MotionBERT',\n",
       " '/home/hrai/Datasets/HAAI/국민대데이터/data',\n",
       " '/home/hrai/codes/AlphaPose/examples/kookmin_result2')"
      ]
     },
     "execution_count": 1,
     "metadata": {},
     "output_type": "execute_result"
    }
   ],
   "source": [
    "%load_ext autoreload\n",
    "%autoreload 2\n",
    "%matplotlib widget\n",
    "\n",
    "import os\n",
    "os.chdir('/home/hrai/codes/PoseAdaptor')\n",
    "from lib_import import *\n",
    "from my_utils import *\n",
    "\n",
    "# 주요 디렉토리 경로\n",
    "user = getpass.getuser()\n",
    "alphapose_root = '/home/{}/codes/AlphaPose'.format(user)\n",
    "motionbert_root = '/home/{}/codes/MotionBERT'.format(user)\n",
    "kookmin_root = '/home/{}/Datasets/HAAI/국민대데이터/data'.format(user)\n",
    "ap_kookmin_result_root = alphapose_root + \"/examples/kookmin_result2\"\n",
    "\n",
    "assert os.path.isdir(alphapose_root), \"AlphaPose root directory is not exist\"\n",
    "assert os.path.isdir(motionbert_root), \"MotionBERT root directory is not exist\"\n",
    "assert os.path.isdir(kookmin_root), \"Kookmin root directory is not exist\"\n",
    "assert os.path.isdir(ap_kookmin_result_root), \"AlphaPose Kookmin result directory is not exist\"\n",
    "\n",
    "alphapose_root, motionbert_root, kookmin_root, ap_kookmin_result_root"
   ]
  },
  {
   "cell_type": "markdown",
   "metadata": {},
   "source": [
    "### Load pyskl result"
   ]
  },
  {
   "cell_type": "code",
   "execution_count": 23,
   "metadata": {},
   "outputs": [
    {
     "data": {
      "text/plain": [
       "dict_keys(['split', 'annotations'])"
      ]
     },
     "execution_count": 23,
     "metadata": {},
     "output_type": "execute_result"
    }
   ],
   "source": [
    "pyskl_data = readpkl('/home/hrai/codes/MotionBERT/data/action/kookmin_hrnet_modified.pkl')\n",
    "pyskl_data.keys()"
   ]
  },
  {
   "cell_type": "code",
   "execution_count": 27,
   "metadata": {},
   "outputs": [
    {
     "data": {
      "text/plain": [
       "(dict_keys(['train', 'test']),\n",
       " ['train_S09_burpee_2', 'train_S07_butterfly_1', 'train_S04_pushup_7'],\n",
       " ['test_S08_burpee_4', 'test_S08_kneeup_1', 'test_S08_squat_2'])"
      ]
     },
     "execution_count": 27,
     "metadata": {},
     "output_type": "execute_result"
    }
   ],
   "source": [
    "pyskl_data['split'].keys(), pyskl_data['split']['train'][:3], pyskl_data['split']['test'][:3]"
   ]
  },
  {
   "cell_type": "code",
   "execution_count": 70,
   "metadata": {},
   "outputs": [
    {
     "data": {
      "text/plain": [
       "389"
      ]
     },
     "execution_count": 70,
     "metadata": {},
     "output_type": "execute_result"
    }
   ],
   "source": [
    "len(pyskl_data['split']['train'])"
   ]
  },
  {
   "cell_type": "code",
   "execution_count": 51,
   "metadata": {},
   "outputs": [
    {
     "data": {
      "text/plain": [
       "(557,\n",
       " dict_keys(['frame_dir', 'img_shape', 'num_person_raw', 'keypoint', 'keypoint_score', 'total_frames', 'label']))"
      ]
     },
     "execution_count": 51,
     "metadata": {},
     "output_type": "execute_result"
    }
   ],
   "source": [
    "len(pyskl_data['annotations']), pyskl_data['annotations'][0].keys()"
   ]
  },
  {
   "cell_type": "code",
   "execution_count": 83,
   "metadata": {},
   "outputs": [
    {
     "name": "stdout",
     "output_type": "stream",
     "text": [
      "frame_dir test_S08_benchpress_3\n",
      "img_shape (1920, 1080)\n",
      "num_person_raw 6\n",
      "keypoint (1, 959, 17, 2)\n",
      "keypoint_score (1, 959, 17)\n",
      "total_frames 959\n",
      "label 5\n"
     ]
    }
   ],
   "source": [
    "i = -5\n",
    "for key in pyskl_data['annotations'][i].keys():\n",
    "    if type(pyskl_data['annotations'][i][key]) == np.ndarray:\n",
    "        print(key, pyskl_data['annotations'][i][key].shape)\n",
    "    else:\n",
    "        print(key, pyskl_data['annotations'][i][key])"
   ]
  },
  {
   "cell_type": "markdown",
   "metadata": {},
   "source": [
    "### Load mmpose result"
   ]
  },
  {
   "cell_type": "code",
   "execution_count": 30,
   "metadata": {},
   "outputs": [
    {
     "data": {
      "text/plain": [
       "['/home/hrai/codes/mmpose/work_dirs/rtmpose-l_8xb256-420e_kookmin2-256x192/kookmin2_epoch50/results_S18_burpee_1.json',\n",
       " '/home/hrai/codes/mmpose/work_dirs/rtmpose-l_8xb256-420e_kookmin2-256x192/kookmin2_epoch50/results_S12_pushup_1.json',\n",
       " '/home/hrai/codes/mmpose/work_dirs/rtmpose-l_8xb256-420e_kookmin2-256x192/kookmin2_epoch50/results_S18_cat_4.json',\n",
       " '/home/hrai/codes/mmpose/work_dirs/rtmpose-l_8xb256-420e_kookmin2-256x192/kookmin2_epoch50/results_S15_kneeup_5.json',\n",
       " '/home/hrai/codes/mmpose/work_dirs/rtmpose-l_8xb256-420e_kookmin2-256x192/kookmin2_epoch50/results_S18_cat_3.json']"
      ]
     },
     "execution_count": 30,
     "metadata": {},
     "output_type": "execute_result"
    }
   ],
   "source": [
    "root = '/home/hrai/codes/mmpose/work_dirs/rtmpose-l_8xb256-420e_kookmin2-256x192/kookmin2_epoch50'\n",
    "result_list = glob(root + '/*.json')\n",
    "result_list[:5]"
   ]
  },
  {
   "cell_type": "code",
   "execution_count": 33,
   "metadata": {},
   "outputs": [
    {
     "data": {
      "text/plain": [
       "dict_keys(['meta_info', 'instance_info'])"
      ]
     },
     "execution_count": 33,
     "metadata": {},
     "output_type": "execute_result"
    }
   ],
   "source": [
    "mmpose_data = readJSON(result_list[0])\n",
    "mmpose_data.keys()"
   ]
  },
  {
   "cell_type": "code",
   "execution_count": 35,
   "metadata": {},
   "outputs": [
    {
     "data": {
      "text/plain": [
       "dict_keys(['dataset_name', 'num_keypoints', 'keypoint_id2name', 'keypoint_name2id', 'upper_body_ids', 'lower_body_ids', 'flip_indices', 'flip_pairs', 'keypoint_colors', 'num_skeleton_links', 'skeleton_links', 'skeleton_link_colors', 'dataset_keypoint_weights', 'sigmas', 'CLASSES'])"
      ]
     },
     "execution_count": 35,
     "metadata": {},
     "output_type": "execute_result"
    }
   ],
   "source": [
    "mmpose_data['meta_info'].keys()"
   ]
  },
  {
   "cell_type": "code",
   "execution_count": 50,
   "metadata": {},
   "outputs": [
    {
     "name": "stdout",
     "output_type": "stream",
     "text": [
      "dataset_name fit3d\n",
      "num_keypoints 17\n",
      "keypoint_id2name {'0': 'pelvis', '1': 'right_hip', '2': 'right_knee', '3': 'right_ankle', '4': 'left_hip', '5': 'left_knee', '6': 'left_ankle', '7': 'torso', '8': 'neck', '9': 'nose', '10': 'head', '11': 'left_shoulder', '12': 'left_elbow', '13': 'left_wrist', '14': 'right_shoulder', '15': 'right_elbow', '16': 'right_wrist'}\n",
      "keypoint_name2id {'pelvis': 0, 'right_hip': 1, 'right_knee': 2, 'right_ankle': 3, 'left_hip': 4, 'left_knee': 5, 'left_ankle': 6, 'torso': 7, 'neck': 8, 'nose': 9, 'head': 10, 'left_shoulder': 11, 'left_elbow': 12, 'left_wrist': 13, 'right_shoulder': 14, 'right_elbow': 15, 'right_wrist': 16}\n",
      "upper_body_ids [7, 8, 9, 10, 11, 12, 13, 14, 15, 16]\n",
      "lower_body_ids [0, 1, 2, 3, 4, 5, 6]\n",
      "flip_indices [0, 4, 5, 6, 1, 2, 3, 7, 8, 9, 10, 14, 15, 16, 11, 12, 13]\n",
      "flip_pairs [[4, 1], [5, 2], [6, 3], [1, 4], [2, 5], [3, 6], [14, 11], [15, 12], [16, 13], [11, 14], [12, 15], [13, 16]]\n",
      "keypoint_colors {'__ndarray__': [[51, 153, 255], [255, 128, 0], [255, 128, 0], [255, 128, 0], [0, 255, 0], [0, 255, 0], [0, 255, 0], [51, 153, 255], [51, 153, 255], [51, 153, 255], [51, 153, 255], [0, 255, 0], [0, 255, 0], [0, 255, 0], [255, 128, 0], [255, 128, 0], [255, 128, 0]], 'dtype': 'uint8', 'shape': [17, 3], 'Corder': True}\n",
      "num_skeleton_links 16\n",
      "skeleton_links [[6, 5], [5, 4], [3, 2], [2, 1], [4, 0], [1, 0], [0, 7], [7, 8], [11, 8], [14, 8], [11, 12], [14, 15], [12, 13], [15, 16], [8, 9], [9, 10]]\n",
      "skeleton_link_colors {'__ndarray__': [[0, 255, 0], [0, 255, 0], [255, 128, 0], [255, 128, 0], [51, 153, 255], [51, 153, 255], [51, 153, 255], [51, 153, 255], [51, 153, 255], [51, 153, 255], [0, 255, 0], [255, 128, 0], [0, 255, 0], [0, 255, 0], [255, 128, 0], [51, 153, 255]], 'dtype': 'uint8', 'shape': [16, 3], 'Corder': True}\n",
      "dataset_keypoint_weights {'__ndarray__': [1.0, 1.0, 1.0, 1.0, 1.0, 1.0, 1.0, 1.0, 1.0, 1.0, 1.0, 1.0, 1.0, 1.0, 1.0, 1.0, 1.0], 'dtype': 'float32', 'shape': [17]}\n",
      "sigmas {'__ndarray__': [0.026000000536441803, 0.02500000037252903, 0.02500000037252903, 0.03500000014901161, 0.03500000014901161, 0.07900000363588333, 0.07900000363588333, 0.07199999690055847, 0.07199999690055847, 0.06199999898672104, 0.06199999898672104, 0.10700000077486038, 0.10700000077486038, 0.08699999749660492, 0.08699999749660492, 0.08900000154972076, 0.08900000154972076], 'dtype': 'float32', 'shape': [17]}\n",
      "CLASSES [{'id': 1, 'name': 'person'}]\n"
     ]
    }
   ],
   "source": [
    "for key in mmpose_data['meta_info'].keys():\n",
    "    print(key, mmpose_data['meta_info'][key])"
   ]
  },
  {
   "cell_type": "code",
   "execution_count": 84,
   "metadata": {},
   "outputs": [
    {
     "data": {
      "text/plain": [
       "(1424, dict_keys(['frame_id', 'instances']))"
      ]
     },
     "execution_count": 84,
     "metadata": {},
     "output_type": "execute_result"
    }
   ],
   "source": [
    "len(mmpose_data['instance_info']), mmpose_data['instance_info'][0].keys()"
   ]
  },
  {
   "cell_type": "code",
   "execution_count": 49,
   "metadata": {},
   "outputs": [
    {
     "data": {
      "text/plain": [
       "1"
      ]
     },
     "execution_count": 49,
     "metadata": {},
     "output_type": "execute_result"
    }
   ],
   "source": [
    "mmpose_data['instance_info'][0]['frame_id'] # "
   ]
  },
  {
   "cell_type": "code",
   "execution_count": 52,
   "metadata": {},
   "outputs": [
    {
     "data": {
      "text/plain": [
       "(5, dict_keys(['keypoints', 'keypoint_scores', 'bbox', 'bbox_score']))"
      ]
     },
     "execution_count": 52,
     "metadata": {},
     "output_type": "execute_result"
    }
   ],
   "source": [
    "len(mmpose_data['instance_info'][0]['instances']), mmpose_data['instance_info'][0]['instances'][0].keys()"
   ]
  },
  {
   "cell_type": "code",
   "execution_count": 91,
   "metadata": {},
   "outputs": [
    {
     "name": "stdout",
     "output_type": "stream",
     "text": [
      "(17, 2)\n",
      "(17,)\n",
      "(1, 4)\n",
      "1.0\n"
     ]
    }
   ],
   "source": [
    "for i in range(len(mmpose_data['instance_info'][0]['instances'])):\n",
    "    keypoints = np.array(mmpose_data['instance_info'][0]['instances'][i]['keypoints'])\n",
    "    keypoint_scores = np.array(mmpose_data['instance_info'][0]['instances'][i]['keypoint_scores'])\n",
    "    bbox = np.array(mmpose_data['instance_info'][0]['instances'][i]['bbox'])\n",
    "    bbox_score = np.array(mmpose_data['instance_info'][0]['instances'][i]['bbox_score'])\n",
    "    print(keypoints.shape) \n",
    "    print(keypoint_scores.shape)\n",
    "    print(bbox.shape)\n",
    "    print(bbox_score)\n",
    "    break"
   ]
  },
  {
   "cell_type": "code",
   "execution_count": null,
   "metadata": {},
   "outputs": [],
   "source": [
    "max_score = 0\n",
    "max_idx = -1\n",
    "for i in range(len(mmpose_result['instance_info'][frame_num]['instances'])):\n",
    "    #print(np.mean(mmpose_result['instance_info'][frame_num]['instances'][i]['keypoint_scores']))\n",
    "    if np.mean(mmpose_result['instance_info'][frame_num]['instances'][i]['keypoint_scores']) > max_score:\n",
    "        max_score = np.mean(mmpose_result['instance_info'][frame_num]['instances'][i]['keypoint_scores'])\n",
    "        max_idx = i\n",
    "keypoint = np.array(mmpose_result['instance_info'][frame_num]['instances'][max_idx]['keypoints'])"
   ]
  },
  {
   "cell_type": "markdown",
   "metadata": {},
   "source": [
    "### mmpose to pyskl"
   ]
  },
  {
   "cell_type": "code",
   "execution_count": 108,
   "metadata": {},
   "outputs": [],
   "source": [
    "def get_label_from_video_name(video_name):\n",
    "    if 'squat' in video_name: label = 0\n",
    "    elif 'burpee' in video_name: label = 1\n",
    "    elif 'pushup' in video_name: label = 2\n",
    "    elif 'kneeup' in video_name: label = 3\n",
    "    elif 'yoga' in video_name: label = 4\n",
    "    elif 'benchpress' in video_name: label = 5\n",
    "    elif 'cat' in video_name: label = 6\n",
    "    return label"
   ]
  },
  {
   "cell_type": "code",
   "execution_count": 111,
   "metadata": {},
   "outputs": [
    {
     "name": "stderr",
     "output_type": "stream",
     "text": [
      "100%|██████████| 350/350 [01:08<00:00,  5.12it/s]\n"
     ]
    }
   ],
   "source": [
    "root = '/home/hrai/codes/mmpose/work_dirs/rtmpose-l_8xb256-420e_kookmin2-256x192/kookmin2_epoch50'\n",
    "result_list = natsorted(glob(root + '/*.json'))\n",
    "\n",
    "pyskl_from_mmpose = {}\n",
    "pyskl_from_mmpose['split'] = {'train': [], 'test': []}\n",
    "pyskl_from_mmpose['annotations'] = []\n",
    "\n",
    "train_subjects = ['S11', 'S12']\n",
    "\n",
    "for item in tqdm(result_list): # for each video\n",
    "    #print(item)\n",
    "    # load mmpose result\n",
    "    mmpose_result = readJSON(item)\n",
    "    \n",
    "    # get video name\n",
    "    video_name = os.path.basename(item).split('.')[0].split('results_')[1]\n",
    "    #print(video_name)\n",
    "    \n",
    "    # get subject\n",
    "    subject, action, _ = video_name.split('_')\n",
    "    label = get_label_from_video_name(video_name)\n",
    "    \n",
    "    # split\n",
    "    if subject in train_subjects: split = 'train'\n",
    "    else: split = 'test'\n",
    "    total_frames = len(mmpose_result['instance_info'])\n",
    "    pyskl_from_mmpose['split'][split].append(video_name)\n",
    "    keypoint = []\n",
    "    keypoint_score = []\n",
    "    for frame_num in range(total_frames):\n",
    "        max_score = 0\n",
    "        max_idx = -1\n",
    "        for i in range(len(mmpose_result['instance_info'][frame_num]['instances'])):\n",
    "            if np.mean(mmpose_result['instance_info'][frame_num]['instances'][i]['keypoint_scores']) > max_score:\n",
    "                max_score = np.mean(mmpose_result['instance_info'][frame_num]['instances'][i]['keypoint_scores'])\n",
    "                max_idx = i\n",
    "        keypoint.append(np.array(mmpose_result['instance_info'][frame_num]['instances'][max_idx]['keypoints']))\n",
    "        keypoint_score.append(np.array(mmpose_result['instance_info'][frame_num]['instances'][max_idx]['keypoint_scores']))\n",
    "    \n",
    "    video_result = {}\n",
    "    video_result['frame_dir'] = video_name\n",
    "    video_result['img_shape'] = (1920, 1080)\n",
    "    video_result['num_person_raw'] = 1\n",
    "    video_result['keypoint'] = np.array([keypoint])\n",
    "    video_result['keypoint_score'] = np.array([keypoint_score])\n",
    "    video_result['total_frames'] = total_frames\n",
    "    video_result['label'] = label\n",
    "    \n",
    "    # print(video_result['frame_dir'])\n",
    "    # print(np.array(video_result['keypoint']).shape)\n",
    "    # print(np.array(video_result['keypoint_score']).shape)\n",
    "    \n",
    "    pyskl_from_mmpose['annotations'].append(video_result)\n",
    "    #break"
   ]
  },
  {
   "cell_type": "code",
   "execution_count": 112,
   "metadata": {},
   "outputs": [],
   "source": [
    "savepkl(pyskl_from_mmpose, '/home/hrai/codes/MotionBERT/data/action/kookmin2_mmpose_train_s11-12.pkl')"
   ]
  }
 ],
 "metadata": {
  "kernelspec": {
   "display_name": "motionbert",
   "language": "python",
   "name": "python3"
  },
  "language_info": {
   "codemirror_mode": {
    "name": "ipython",
    "version": 3
   },
   "file_extension": ".py",
   "mimetype": "text/x-python",
   "name": "python",
   "nbconvert_exporter": "python",
   "pygments_lexer": "ipython3",
   "version": "3.9.17"
  },
  "orig_nbformat": 4
 },
 "nbformat": 4,
 "nbformat_minor": 2
}
