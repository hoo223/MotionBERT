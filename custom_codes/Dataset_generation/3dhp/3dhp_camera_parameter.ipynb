{
 "cells": [
  {
   "cell_type": "code",
   "execution_count": 19,
   "metadata": {},
   "outputs": [
    {
     "name": "stdout",
     "output_type": "stream",
     "text": [
      "The autoreload extension is already loaded. To reload it, use:\n",
      "  %reload_ext autoreload\n"
     ]
    }
   ],
   "source": [
    "%load_ext autoreload\n",
    "%autoreload 2\n",
    "%matplotlib widget\n",
    "import os, sys, getpass\n",
    "user = getpass.getuser()\n",
    "sys.path.append(f'/home/{user}/codes/hpe_library/')\n",
    "from lib_import import *\n",
    "from my_utils import *\n",
    "os.chdir(f'/home/{user}/codes/MotionBERT')\n",
    "import scipy.io\n",
    "\n",
    "root_3dhp = f'/home/{user}/Datasets/HAAI/3DHP'\n",
    "source = 'original' # \n",
    "root_original = os.path.join(root_3dhp, source)\n",
    "train_folder = os.path.join(root_original, 'train')\n",
    "test_folder = os.path.join(root_original, 'test')"
   ]
  },
  {
   "cell_type": "code",
   "execution_count": 20,
   "metadata": {},
   "outputs": [],
   "source": [
    "def convert_intrinsic_from_mm_to_pixel(sensor_size, focal_length, pixel_aspect, center_offset, sensor_pixels_x, sensor_pixels_y):\n",
    "    # Calculate pixel sizes\n",
    "    pixel_size_x = sensor_size[0] / sensor_pixels_x\n",
    "    pixel_size_y = sensor_size[1] * pixel_aspect / sensor_pixels_y\n",
    "\n",
    "    # Calculate focal length in pixels\n",
    "    fx = focal_length / pixel_size_x\n",
    "    fy = focal_length / pixel_size_y\n",
    "\n",
    "    # Calculate center offset in pixels\n",
    "    center_offset_pixels_x = center_offset[0] / pixel_size_x\n",
    "    center_offset_pixels_y = center_offset[1] / pixel_size_y\n",
    "\n",
    "    cx, cy = sensor_pixels_x/2 + center_offset_pixels_x, sensor_pixels_y/2 + center_offset_pixels_y\n",
    "    intrinsic = np.array([[fx, 0, cx], [0, fy, cy], [0, 0, 1]])\n",
    "    return intrinsic"
   ]
  },
  {
   "cell_type": "code",
   "execution_count": 21,
   "metadata": {},
   "outputs": [
    {
     "name": "stdout",
     "output_type": "stream",
     "text": [
      "{'TS2': {'num_frame': 6080, 'W': 2048, 'H': 2048}, 'TS5': {'num_frame': 320, 'W': 1920, 'H': 1080}, 'TS4': {'num_frame': 6009, 'W': 2048, 'H': 2048}, 'TS1': {'num_frame': 6151, 'W': 2048, 'H': 2048}, 'TS3': {'num_frame': 5839, 'W': 2048, 'H': 2048}, 'TS6': {'num_frame': 492, 'W': 1920, 'H': 1080}}\n"
     ]
    }
   ],
   "source": [
    "# Test video info\n",
    "video_info = {'train': {}, 'test': {}}\n",
    "\n",
    "for subject in os.listdir(test_folder):\n",
    "    if 'TS' not in subject:\n",
    "        continue\n",
    "    video_info['test'][subject] = {}\n",
    "    num_frame = len(os.listdir(f'/home/hrai/Datasets/HAAI/3DHP/original/test/{subject}/imageSequence'))\n",
    "    img_list = natsorted(glob(f'/home/hrai/Datasets/HAAI/3DHP/original/test/{subject}/imageSequence/*.jpg'))\n",
    "    img = cv2.imread(img_list[0])\n",
    "    H, W, C = img.shape\n",
    "    video_info['test'][subject]['num_frame'] = num_frame\n",
    "    video_info['test'][subject]['W'] = W\n",
    "    video_info['test'][subject]['H'] = H\n",
    "print(video_info['test'])\n",
    "\n",
    "# Test camera parameters\n",
    "cam_params = {\n",
    "    'test_cam_1_4': {\n",
    "        'origin': np.array([3427.28, 1387.86, 309.42]),\n",
    "        'up': np.array([-0.208215, 0.976233, 0.06014]),\n",
    "        'right': np.array([0.000575281, 0.0616098, -0.9981]),\n",
    "        'sensor_size': np.array([10, 10]), # in mm\n",
    "        'focal_length': 7.32506, # in mm\n",
    "        'pixel_aspect': 1.00044, # y / x\n",
    "        'center_offset': np.array([-0.0322884, 0.0929296]) # in mm (positive values move right and down)\n",
    "    },\n",
    "    'test_cam_5_6': {\n",
    "        'origin': np.array([-2104.3074, 1038.6707, -4596.6367]),\n",
    "        'up': np.array([0.025272345, 0.995038509, 0.096227370]),\n",
    "        'right': np.array([-0.939647257, -0.009210289, 0.342020929]),\n",
    "        'sensor_size': np.array([10, 5.625]), # in mm\n",
    "        'focal_length': 8.770747185, # in mm\n",
    "        'pixel_aspect': 0.993236423, # \n",
    "        'center_offset': np.array([-0.104908645, 0.104899704]) # in mm (positive values move right and down)\n",
    "    }\n",
    "}\n",
    "\n",
    "for key in cam_params.keys():\n",
    "    up = cam_params[key]['up']\n",
    "    right = cam_params[key]['right']\n",
    "    forward = np.cross(up, right)\n",
    "    R = np.array([right, up, forward]).T #np.array([right, -up, forward])\n",
    "    t = cam_params[key]['origin']/1000\n",
    "    C = -R@t\n",
    "    #extrinsic = np.hstack((R, t.reshape(-1, 1)))\n",
    "    #print(extrinsic.shape)\n",
    "    cam_params[key]['R'] = R\n",
    "    cam_params[key]['t'] = t\n",
    "    cam_params[key]['C'] = C\n",
    "    #print(R, t, C)"
   ]
  },
  {
   "cell_type": "markdown",
   "metadata": {},
   "source": [
    "### Testset"
   ]
  },
  {
   "cell_type": "code",
   "execution_count": 22,
   "metadata": {},
   "outputs": [],
   "source": [
    "cam_dict = {}\n",
    "for subject in ['TS1', 'TS2', 'TS3', 'TS4', 'TS5', 'TS6']:\n",
    "    if subject in ['TS1', 'TS2', 'TS3', 'TS4']: key = 'test_cam_1_4' \n",
    "    elif subject in ['TS5', 'TS6']: key = 'test_cam_5_6'\n",
    "    \n",
    "    R = cam_params[key]['R']\n",
    "    t = cam_params[key]['t']\n",
    "    C = cam_params[key]['C']\n",
    "    W = video_info['test'][subject]['W']\n",
    "    H = video_info['test'][subject]['H']\n",
    "    num_frames = video_info['test'][subject]['num_frame']\n",
    "    \n",
    "    extrinsic = extrinsic = np.hstack((R, t.reshape(-1, 1)))\n",
    "    intrinsic = convert_intrinsic_from_mm_to_pixel(cam_params[key]['sensor_size'], \n",
    "                                                   cam_params[key]['focal_length'], \n",
    "                                                   cam_params[key]['pixel_aspect'], \n",
    "                                                   cam_params[key]['center_offset'], \n",
    "                                                   W, \n",
    "                                                   H)\n",
    "    \n",
    "    cam_param = {'R': R, 't': t, 'C': C, 'intrinsic': intrinsic, 'extrinsic': extrinsic, 'num_frames': num_frames, 'W': W, 'H': H} \n",
    "    \n",
    "    cam_dict[subject] = cam_param\n",
    "\n",
    "savepkl(cam_dict, f'/home/{user}/codes/MotionBERT/custom_codes/Dataset_generation/3dhp/3dhp_test_cam_params.pkl')"
   ]
  },
  {
   "cell_type": "markdown",
   "metadata": {},
   "source": [
    "### Trainset"
   ]
  },
  {
   "cell_type": "code",
   "execution_count": 29,
   "metadata": {},
   "outputs": [],
   "source": [
    "# train camera parameters\n",
    "f = open(os.path.join(train_folder, 'S1', 'Seq1', 'camera.calibration'), 'r')\n",
    "lines = f.readlines()\n",
    "name = -1\n",
    "cam_dict = {}\n",
    "\n",
    "\n",
    "for line in lines:\n",
    "    item = line.strip().split(' ')\n",
    "    item_type = item[0]\n",
    "    #print(item)\n",
    "    if item_type == 'name':\n",
    "        name = f'cam{item[-1]}'\n",
    "        cam_dict[name] = {}\n",
    "    elif item_type == 'intrinsic':\n",
    "        fx = float(item[3])\n",
    "        cx = float(item[5])\n",
    "        fy = float(item[8])\n",
    "        cy = float(item[9])\n",
    "        intrinsic = np.array([[fx, 0, cx], [0, fy, cy], [0, 0, 1]])\n",
    "        cam_dict[name]['intrinsic'] = intrinsic\n",
    "    elif item_type == 'extrinsic':\n",
    "        R = np.array([[float(item[3]), float(item[4]), float(item[5])], [float(item[7]), float(item[8]), float(item[9]),], [float(item[11]), float(item[12]), float(item[13])]])\n",
    "        t = np.array([float(item[6]), float(item[10]), float(item[14])])\n",
    "        C = -R.T@t\n",
    "        #print(R.shape, t.shape)\n",
    "        cam_dict[name]['R'] = R\n",
    "        cam_dict[name]['t'] = t\n",
    "        cam_dict[name]['C'] = C\n",
    "    elif item_type == 'size':\n",
    "        cam_dict[name]['W'] = float(item[-2])\n",
    "        cam_dict[name]['H'] = float(item[-1])\n",
    "        \n",
    "savepkl(cam_dict, f'/home/{user}/codes/MotionBERT/custom_codes/Dataset_generation/3dhp/3dhp_train_cam_params.pkl')"
   ]
  }
 ],
 "metadata": {
  "kernelspec": {
   "display_name": "motionbert",
   "language": "python",
   "name": "python3"
  },
  "language_info": {
   "codemirror_mode": {
    "name": "ipython",
    "version": 3
   },
   "file_extension": ".py",
   "mimetype": "text/x-python",
   "name": "python",
   "nbconvert_exporter": "python",
   "pygments_lexer": "ipython3",
   "version": "3.9.18"
  }
 },
 "nbformat": 4,
 "nbformat_minor": 2
}
