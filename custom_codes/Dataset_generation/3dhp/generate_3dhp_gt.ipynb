{
 "cells": [
  {
   "cell_type": "code",
   "execution_count": 11,
   "metadata": {},
   "outputs": [
    {
     "name": "stdout",
     "output_type": "stream",
     "text": [
      "The autoreload extension is already loaded. To reload it, use:\n",
      "  %reload_ext autoreload\n"
     ]
    }
   ],
   "source": [
    "%load_ext autoreload\n",
    "%autoreload 2\n",
    "%matplotlib widget\n",
    "import os, sys\n",
    "sys.path.append('/home/hrai/codes/hpe_library/')\n",
    "from lib_import import *\n",
    "from my_utils import *\n",
    "os.chdir('/home/hrai/codes/MotionBERT')"
   ]
  },
  {
   "cell_type": "code",
   "execution_count": 12,
   "metadata": {},
   "outputs": [
    {
     "name": "stdout",
     "output_type": "stream",
     "text": [
      "TS4.pkl\n",
      "[[-4.485      -0.0828665   1.45249   ]\n",
      " [-4.37874    -0.07643998  1.3652875 ]\n",
      " [-4.30678     0.373488    1.66474   ]\n",
      " [-4.41822     0.626292    1.38108   ]\n",
      " [-4.59126    -0.08929302  1.5396925 ]\n",
      " [-4.37523    -0.0187427   1.95478   ]\n",
      " [-4.18878     0.0373882   2.29957   ]\n",
      " [-4.55461939 -0.31571267  1.35964271]\n",
      " [-4.55897    -0.598212    1.3578    ]\n",
      " [-4.52808    -0.690315    1.37819   ]\n",
      " [-4.496      -0.88629     1.37872   ]\n",
      " [-4.68328    -0.543012    1.45183   ]\n",
      " [-4.8036     -0.271953    1.59232   ]\n",
      " [-4.83691    -0.0557766   1.7071    ]\n",
      " [-4.43782    -0.531715    1.25626   ]\n",
      " [-4.32077    -0.225296    1.2467    ]\n",
      " [-4.40479    -0.0371808   1.38297   ]]\n",
      "TS5.pkl\n",
      "[[-4.485      -0.0828665   1.45249   ]\n",
      " [-4.37874    -0.07643998  1.3652875 ]\n",
      " [-4.30678     0.373488    1.66474   ]\n",
      " [-4.41822     0.626292    1.38108   ]\n",
      " [-4.59126    -0.08929302  1.5396925 ]\n",
      " [-4.37523    -0.0187427   1.95478   ]\n",
      " [-4.18878     0.0373882   2.29957   ]\n",
      " [-4.55461939 -0.31571267  1.35964271]\n",
      " [-4.55897    -0.598212    1.3578    ]\n",
      " [-4.52808    -0.690315    1.37819   ]\n",
      " [-4.496      -0.88629     1.37872   ]\n",
      " [-4.68328    -0.543012    1.45183   ]\n",
      " [-4.8036     -0.271953    1.59232   ]\n",
      " [-4.83691    -0.0557766   1.7071    ]\n",
      " [-4.43782    -0.531715    1.25626   ]\n",
      " [-4.32077    -0.225296    1.2467    ]\n",
      " [-4.40479    -0.0371808   1.38297   ]]\n",
      "TS6.pkl\n",
      "[[-4.485      -0.0828665   1.45249   ]\n",
      " [-4.37874    -0.07643998  1.3652875 ]\n",
      " [-4.30678     0.373488    1.66474   ]\n",
      " [-4.41822     0.626292    1.38108   ]\n",
      " [-4.59126    -0.08929302  1.5396925 ]\n",
      " [-4.37523    -0.0187427   1.95478   ]\n",
      " [-4.18878     0.0373882   2.29957   ]\n",
      " [-4.55461939 -0.31571267  1.35964271]\n",
      " [-4.55897    -0.598212    1.3578    ]\n",
      " [-4.52808    -0.690315    1.37819   ]\n",
      " [-4.496      -0.88629     1.37872   ]\n",
      " [-4.68328    -0.543012    1.45183   ]\n",
      " [-4.8036     -0.271953    1.59232   ]\n",
      " [-4.83691    -0.0557766   1.7071    ]\n",
      " [-4.43782    -0.531715    1.25626   ]\n",
      " [-4.32077    -0.225296    1.2467    ]\n",
      " [-4.40479    -0.0371808   1.38297   ]]\n",
      "TS2.pkl\n",
      "[[-4.485      -0.0828665   1.45249   ]\n",
      " [-4.37874    -0.07643998  1.3652875 ]\n",
      " [-4.30678     0.373488    1.66474   ]\n",
      " [-4.41822     0.626292    1.38108   ]\n",
      " [-4.59126    -0.08929302  1.5396925 ]\n",
      " [-4.37523    -0.0187427   1.95478   ]\n",
      " [-4.18878     0.0373882   2.29957   ]\n",
      " [-4.55461939 -0.31571267  1.35964271]\n",
      " [-4.55897    -0.598212    1.3578    ]\n",
      " [-4.52808    -0.690315    1.37819   ]\n",
      " [-4.496      -0.88629     1.37872   ]\n",
      " [-4.68328    -0.543012    1.45183   ]\n",
      " [-4.8036     -0.271953    1.59232   ]\n",
      " [-4.83691    -0.0557766   1.7071    ]\n",
      " [-4.43782    -0.531715    1.25626   ]\n",
      " [-4.32077    -0.225296    1.2467    ]\n",
      " [-4.40479    -0.0371808   1.38297   ]]\n",
      "TS3.pkl\n",
      "[[-4.485      -0.0828665   1.45249   ]\n",
      " [-4.37874    -0.07643998  1.3652875 ]\n",
      " [-4.30678     0.373488    1.66474   ]\n",
      " [-4.41822     0.626292    1.38108   ]\n",
      " [-4.59126    -0.08929302  1.5396925 ]\n",
      " [-4.37523    -0.0187427   1.95478   ]\n",
      " [-4.18878     0.0373882   2.29957   ]\n",
      " [-4.55461939 -0.31571267  1.35964271]\n",
      " [-4.55897    -0.598212    1.3578    ]\n",
      " [-4.52808    -0.690315    1.37819   ]\n",
      " [-4.496      -0.88629     1.37872   ]\n",
      " [-4.68328    -0.543012    1.45183   ]\n",
      " [-4.8036     -0.271953    1.59232   ]\n",
      " [-4.83691    -0.0557766   1.7071    ]\n",
      " [-4.43782    -0.531715    1.25626   ]\n",
      " [-4.32077    -0.225296    1.2467    ]\n",
      " [-4.40479    -0.0371808   1.38297   ]]\n",
      "TS1.pkl\n",
      "[[-4.485      -0.0828665   1.45249   ]\n",
      " [-4.37874    -0.07643998  1.3652875 ]\n",
      " [-4.30678     0.373488    1.66474   ]\n",
      " [-4.41822     0.626292    1.38108   ]\n",
      " [-4.59126    -0.08929302  1.5396925 ]\n",
      " [-4.37523    -0.0187427   1.95478   ]\n",
      " [-4.18878     0.0373882   2.29957   ]\n",
      " [-4.55461939 -0.31571267  1.35964271]\n",
      " [-4.55897    -0.598212    1.3578    ]\n",
      " [-4.52808    -0.690315    1.37819   ]\n",
      " [-4.496      -0.88629     1.37872   ]\n",
      " [-4.68328    -0.543012    1.45183   ]\n",
      " [-4.8036     -0.271953    1.59232   ]\n",
      " [-4.83691    -0.0557766   1.7071    ]\n",
      " [-4.43782    -0.531715    1.25626   ]\n",
      " [-4.32077    -0.225296    1.2467    ]\n",
      " [-4.40479    -0.0371808   1.38297   ]]\n",
      "joint_2d (243, 17, 2)\n",
      "confidence (243, 17, 1)\n",
      "camera_name (243,)\n",
      "action (243,)\n",
      "source (243,)\n",
      "frame (243,)\n",
      "cam_3d (243, 17, 3)\n"
     ]
    },
    {
     "data": {
      "text/plain": [
       "((243, 17, 2), (24888, 17, 2))"
      ]
     },
     "execution_count": 12,
     "metadata": {},
     "output_type": "execute_result"
    }
   ],
   "source": [
    "joint_2ds = {'train': [], 'test': []}\n",
    "confidences = {'train': [], 'test': []}\n",
    "joint3d_images = {'train': [], 'test': []}\n",
    "joints_25d_images = {'train': [], 'test': []}\n",
    "_25d_factors = {'train': [], 'test': []}\n",
    "camera_names = {'train': [], 'test': []}\n",
    "actions = {'train': [], 'test': []}\n",
    "sources = {'train': [], 'test': []}\n",
    "frames = {'train': [], 'test': []}\n",
    "world_3ds = {'train': [], 'test': []}\n",
    "cam_3ds = {'train': [], 'test': []}\n",
    "cam_params = {'train': [], 'test': []}\n",
    "\n",
    "# target \n",
    "pkl_folder = '/home/hrai/codes/MotionBERT/data/motion3d/3dhp_gt_test_pkl'\n",
    "test_subject = ['TS1', 'TS2', 'TS3', 'TS4', 'TS5', 'TS6']\n",
    "only_test = True\n",
    "\n",
    "blacklist = []\n",
    "\n",
    "for item in os.listdir(pkl_folder):\n",
    "    print(item)\n",
    "    subject = item.split('.')[0]\n",
    "    \n",
    "    # filtering\n",
    "    #if action not in action_list: continue \n",
    "    #if int(cam_num) not in camera_list: continue\n",
    "    if only_test:\n",
    "        if subject not in test_subject: continue\n",
    "    if subject in blacklist: continue\n",
    "    #print(subject, cam_num, action, phase) \n",
    "    \n",
    "    item_path = os.path.join(pkl_folder, item) \n",
    "    data = readpkl(item_path) \n",
    "    if subject in test_subject: data_type = 'test' \n",
    "    else: data_type = 'train' \n",
    "    joint_2ds[data_type] += list(np.array(data['joint_2d'])) \n",
    "    confidences[data_type] += list(np.array(data['confidence'])) \n",
    "    camera_names[data_type] += list(data['camera_name'])\n",
    "    actions[data_type] += list(data['action'])\n",
    "    sources[data_type] += list(data['source'])\n",
    "    frames[data_type] += list(data['frame'])\n",
    "    cam_3ds[data_type] += list(np.array(data['cam_3d'])/1000.0) # mm to m\n",
    "    print(cam_3ds[data_type][0])\n",
    "    \n",
    "data_total = {'train': {}, 'test': {}}\n",
    "\n",
    "for data_type in ['train', 'test']:\n",
    "    data_total[data_type]['joint_2d']          = copy.deepcopy(np.array(joint_2ds[data_type]))\n",
    "    data_total[data_type]['confidence']        = copy.deepcopy(np.array(confidences[data_type]))\n",
    "    data_total[data_type]['camera_name']       = copy.deepcopy(np.array(camera_names[data_type]))\n",
    "    data_total[data_type]['action']            = copy.deepcopy(np.array(actions[data_type]))\n",
    "    data_total[data_type]['source']            = copy.deepcopy(np.array(sources[data_type]))\n",
    "    data_total[data_type]['frame']             = copy.deepcopy(np.array(frames[data_type]))\n",
    "    data_total[data_type]['cam_3d']            = copy.deepcopy(np.array(cam_3ds[data_type]))\n",
    "\n",
    "\n",
    "if (len(data_total['train']['joint_2d']) == 0) or only_test:\n",
    "    for key in data_total['train'].keys():\n",
    "        data_total['train'][key] = copy.deepcopy(data_total['test'][key][:243])\n",
    "        print(key, data_total['train'][key].shape)\n",
    "data_total['train']['joint_2d'].shape, data_total['test']['joint_2d'].shape  "
   ]
  },
  {
   "cell_type": "code",
   "execution_count": 3,
   "metadata": {},
   "outputs": [
    {
     "data": {
      "text/plain": [
       "((243, 17, 2), (243, 17, 1))"
      ]
     },
     "execution_count": 3,
     "metadata": {},
     "output_type": "execute_result"
    }
   ],
   "source": [
    "data_total['train']['joint_2d'].shape, data_total['train']['confidence'].shape  "
   ]
  },
  {
   "cell_type": "code",
   "execution_count": 4,
   "metadata": {},
   "outputs": [],
   "source": [
    "save_path = os.path.join('/home/hrai/codes/MotionBERT', f'data/motion3d/3dhp_gt_test.pkl')\n",
    "savepkl(data_total, save_path)"
   ]
  }
 ],
 "metadata": {
  "kernelspec": {
   "display_name": "motionbert",
   "language": "python",
   "name": "python3"
  },
  "language_info": {
   "codemirror_mode": {
    "name": "ipython",
    "version": 3
   },
   "file_extension": ".py",
   "mimetype": "text/x-python",
   "name": "python",
   "nbconvert_exporter": "python",
   "pygments_lexer": "ipython3",
   "version": "3.9.18"
  },
  "vscode": {
   "interpreter": {
    "hash": "a22adeb9c65037913f217d555eca4ee12416bb8cd04fc64921ca248554344da3"
   }
  }
 },
 "nbformat": 4,
 "nbformat_minor": 2
}
