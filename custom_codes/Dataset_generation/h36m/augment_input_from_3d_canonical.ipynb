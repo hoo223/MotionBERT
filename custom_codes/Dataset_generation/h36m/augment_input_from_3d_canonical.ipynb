{
 "cells": [
  {
   "cell_type": "code",
   "execution_count": 1,
   "metadata": {},
   "outputs": [],
   "source": [
    "%load_ext autoreload\n",
    "%autoreload 2\n",
    "%matplotlib widget\n",
    "import os, sys\n",
    "sys.path.append('/home/hrai/codes/hpe_library/')\n",
    "from lib_import import *\n",
    "from my_utils import *\n",
    "os.chdir('/home/hrai/codes/MotionBERT')"
   ]
  },
  {
   "cell_type": "code",
   "execution_count": 2,
   "metadata": {},
   "outputs": [],
   "source": [
    "def get_canonical_3d_fixed_dist(world_3d, C):\n",
    "    num_frames = len(data['world_3d'])\n",
    "    canonical_3d = world_3d.copy()\n",
    "    cam_origin = C.copy()\n",
    "    pelvis = world_3d[:, 0].copy()\n",
    "    vec_cam_origin_to_pelvis = pelvis - cam_origin\n",
    "    mag_cam_origin_to_pelvis = np.expand_dims(np.linalg.norm(vec_cam_origin_to_pelvis, axis=1), axis=1).repeat(3, axis=1) # (F, 3)\n",
    "    vec_cam_forward = np.multiply(np.expand_dims(R[2], 0).repeat(num_frames, axis=0),  mag_cam_origin_to_pelvis)\n",
    "    canonical_pelvis = cam_origin + vec_cam_forward\n",
    "    canonical_3d = canonical_3d - np.expand_dims(pelvis, 1) + np.expand_dims(canonical_pelvis, 1)\n",
    "    return canonical_3d"
   ]
  },
  {
   "cell_type": "code",
   "execution_count": 3,
   "metadata": {},
   "outputs": [
    {
     "name": "stdout",
     "output_type": "stream",
     "text": [
      "==> Loading 3D data wrt World CS...\n"
     ]
    }
   ],
   "source": [
    "h36m_3d_world, h36m_cam_param = load_h36m()"
   ]
  },
  {
   "cell_type": "code",
   "execution_count": 4,
   "metadata": {},
   "outputs": [],
   "source": [
    "save_folder = '/home/hrai/codes/MotionBERT/data/motion3d/h36m_gt_pkl'\n",
    "if not os.path.exists(save_folder): os.makedirs(save_folder)"
   ]
  },
  {
   "cell_type": "markdown",
   "metadata": {},
   "source": [
    "### canonical_3d, joint_2d_from_canonical_3d (same dist)"
   ]
  },
  {
   "cell_type": "code",
   "execution_count": 10,
   "metadata": {},
   "outputs": [
    {
     "name": "stderr",
     "output_type": "stream",
     "text": [
      "  1%|▏         | 12/836 [00:02<02:05,  6.57it/s]Exception ignored in: <bound method IPythonKernel._clean_thread_parent_frames of <ipykernel.ipkernel.IPythonKernel object at 0x775c983c70a0>>\n",
      "Traceback (most recent call last):\n",
      "  File \"/home/hrai/miniconda3/envs/motionbert/lib/python3.9/site-packages/ipykernel/ipkernel.py\", line 770, in _clean_thread_parent_frames\n",
      "    def _clean_thread_parent_frames(\n",
      "KeyboardInterrupt: \n",
      "  8%|▊         | 68/836 [00:13<02:14,  5.70it/s]"
     ]
    }
   ],
   "source": [
    "for item in tqdm(glob(save_folder + '/*.pkl')):\n",
    "    data = readpkl(item)\n",
    "    if ('canonical_3d' in data) and ('joint_2d_from_canonical_3d' in data): continue\n",
    "    cam_param = data['cam_param'][0].reshape(1)[0].copy()\n",
    "    int_mat = cam_param['intrinsic']\n",
    "    ext_mat = cam_param['extrinsic']\n",
    "    cam_proj = int_mat @ ext_mat\n",
    "    R = ext_mat[:3, :3]\n",
    "    t = ext_mat[:3, 3]\n",
    "    C = T_to_C(R, t)\n",
    "    world_3d = np.array(data['world_3d']).copy() # (F, J, 3)\n",
    "    \n",
    "    canonical_3d = get_canonical_3d_fixed_dist(world_3d, C)\n",
    "    pose_2d_from_3d_canonical = projection(canonical_3d, cam_proj)[..., :2]\n",
    "    \n",
    "    data['canonical_3d'] = canonical_3d.tolist()\n",
    "    data['joint_2d_from_canonical_3d'] = pose_2d_from_3d_canonical.tolist()\n",
    "    \n",
    "    savepkl(data, item)\n",
    "    #break"
   ]
  },
  {
   "cell_type": "markdown",
   "metadata": {},
   "source": [
    "### canonical_3d_fixed, joint_2d_from_canonical_3d_fixed (fixed dist)"
   ]
  },
  {
   "cell_type": "code",
   "execution_count": 17,
   "metadata": {},
   "outputs": [],
   "source": [
    "load_folder = '/home/hrai/codes/MotionBERT/data/motion3d/h36m_gt_pkl_canonical_3d_same_dist'\n",
    "save_folder = '/home/hrai/codes/MotionBERT/data/motion3d/h36m_gt_pkl_canonical_3d_fixed_dist'\n",
    "if not os.path.exists(save_folder): os.makedirs(save_folder)"
   ]
  },
  {
   "cell_type": "code",
   "execution_count": 21,
   "metadata": {},
   "outputs": [
    {
     "name": "stdout",
     "output_type": "stream",
     "text": [
      "/home/hrai/codes/MotionBERT/data/motion3d/h36m_gt_pkl_canonical_3d_same_dist/S1_54138969_Walking.pkl\n"
     ]
    }
   ],
   "source": [
    "for item in glob(load_folder + '/*.pkl'):\n",
    "    print(item)\n",
    "    data = readpkl(item)\n",
    "    cam_param = data['cam_param'][0].reshape(1)[0].copy()\n",
    "    int_mat = cam_param['intrinsic']\n",
    "    ext_mat = cam_param['extrinsic']\n",
    "    cam_proj = int_mat @ ext_mat\n",
    "    R = ext_mat[:3, :3]\n",
    "    t = ext_mat[:3, 3]\n",
    "    C = T_to_C(R, t)\n",
    "    \n",
    "    canonical_3d_same_dist = np.array(data['canonical_3d'].copy())\n",
    "    #pose_2d_from_3d_canonical = projection(canonical_3d, cam_proj)[..., :2]\n",
    "    \n",
    "    #data['canonical_3d_fixed'] = canonical_3d.tolist()\n",
    "    #data['joint_2d_from_canonical_3d_fixed'] = pose_2d_from_3d_canonical.tolist()\n",
    "    break"
   ]
  },
  {
   "cell_type": "code",
   "execution_count": 22,
   "metadata": {},
   "outputs": [
    {
     "data": {
      "text/plain": [
       "(3134, 17, 3)"
      ]
     },
     "execution_count": 22,
     "metadata": {},
     "output_type": "execute_result"
    }
   ],
   "source": [
    "canonical_3d_same_dist.shape"
   ]
  },
  {
   "cell_type": "code",
   "execution_count": 23,
   "metadata": {},
   "outputs": [
    {
     "data": {
      "text/plain": [
       "array([[-0.27945777,  0.18764733,  0.57665961],\n",
       "       [-0.41184818,  0.17699148,  0.58253889],\n",
       "       [-0.38027463,  0.24077074,  0.14539932],\n",
       "       [-0.35607179,  0.32021284, -0.30115039],\n",
       "       [-0.14706715,  0.19830319,  0.57078032],\n",
       "       [-0.1599361 ,  0.23709846,  0.12977605],\n",
       "       [-0.15630869,  0.31454275, -0.31776483],\n",
       "       [-0.29667907,  0.22135777,  0.80704068],\n",
       "       [-0.30477095,  0.23137896,  1.06379544],\n",
       "       [-0.31830626,  0.17265349,  1.16887532],\n",
       "       [-0.31585147,  0.27000086,  1.2300552 ],\n",
       "       [-0.17279775,  0.23192067,  0.99035071],\n",
       "       [-0.08189077,  0.21475497,  0.72725974],\n",
       "       [-0.01587575,  0.14900417,  0.49340384],\n",
       "       [-0.43060636,  0.23386096,  0.98031019],\n",
       "       [-0.49696221,  0.2381245 ,  0.70945953],\n",
       "       [-0.53859799,  0.17745735,  0.46872472]])"
      ]
     },
     "execution_count": 23,
     "metadata": {},
     "output_type": "execute_result"
    }
   ],
   "source": [
    "canonical_3d_same_dist[0]"
   ]
  },
  {
   "cell_type": "code",
   "execution_count": 25,
   "metadata": {},
   "outputs": [
    {
     "data": {
      "text/plain": [
       "dict_keys(['joint_2d', 'confidence', 'joint3d_image', 'joints_2.5d_image', '2.5d_factor', 'camera_name', 'action', 'source', 'frame', 'world_3d', 'cam_3d', 'cam_param', 'canonical_3d', 'joint_2d_from_canonical_3d'])"
      ]
     },
     "execution_count": 25,
     "metadata": {},
     "output_type": "execute_result"
    }
   ],
   "source": [
    "data.keys()"
   ]
  }
 ],
 "metadata": {
  "kernelspec": {
   "display_name": "motionbert",
   "language": "python",
   "name": "python3"
  },
  "language_info": {
   "codemirror_mode": {
    "name": "ipython",
    "version": 3
   },
   "file_extension": ".py",
   "mimetype": "text/x-python",
   "name": "python",
   "nbconvert_exporter": "python",
   "pygments_lexer": "ipython3",
   "version": "3.9.-1"
  }
 },
 "nbformat": 4,
 "nbformat_minor": 2
}
