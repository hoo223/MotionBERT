{
 "cells": [
  {
   "cell_type": "code",
   "execution_count": 69,
   "metadata": {},
   "outputs": [
    {
     "name": "stdout",
     "output_type": "stream",
     "text": [
      "The autoreload extension is already loaded. To reload it, use:\n",
      "  %reload_ext autoreload\n"
     ]
    }
   ],
   "source": [
    "%load_ext autoreload\n",
    "%autoreload 2\n",
    "%matplotlib widget\n",
    "import os, sys\n",
    "sys.path.append('/home/hrai/codes/hpe_library/')\n",
    "from lib_import import *\n",
    "from my_utils import *\n",
    "os.chdir('/home/hrai/codes/MotionBERT')"
   ]
  },
  {
   "cell_type": "code",
   "execution_count": 2,
   "metadata": {},
   "outputs": [
    {
     "name": "stdout",
     "output_type": "stream",
     "text": [
      "==> Loading 3D data wrt World CS...\n"
     ]
    }
   ],
   "source": [
    "h36m_3d_world, h36m_cam_param = load_h36m()"
   ]
  },
  {
   "cell_type": "code",
   "execution_count": 3,
   "metadata": {},
   "outputs": [
    {
     "data": {
      "text/plain": [
       "dict_keys(['S1', 'S5', 'S6', 'S7', 'S8', 'S9', 'S11'])"
      ]
     },
     "execution_count": 3,
     "metadata": {},
     "output_type": "execute_result"
    }
   ],
   "source": [
    "h36m_3d_world._data.keys()"
   ]
  },
  {
   "cell_type": "code",
   "execution_count": 4,
   "metadata": {},
   "outputs": [
    {
     "data": {
      "text/plain": [
       "dict_keys(['Waiting 1', 'Sitting', 'Waiting 2', 'Smoking', 'WalkTogether 1', 'Discussion 2', 'Greeting 1', 'Directions 2', 'Phoning', 'Phoning 1', 'Smoking 1', 'Greeting 2', 'WalkTogether', 'Sitting 1', 'SittingDown', 'SittingDown 1', 'Discussion 3', 'Directions 1', 'Purchases', 'Walking 1', 'WalkDog 1', 'Walking', 'Eating', 'Photo 2', 'Posing', 'Posing 1', 'WalkDog', 'Photo', 'Purchases 1', 'Eating 1'])"
      ]
     },
     "execution_count": 4,
     "metadata": {},
     "output_type": "execute_result"
    }
   ],
   "source": [
    "h36m_3d_world._data['S5'].keys()"
   ]
  },
  {
   "cell_type": "code",
   "execution_count": 10,
   "metadata": {},
   "outputs": [
    {
     "data": {
      "text/plain": [
       "dict_keys(['positions', 'cameras'])"
      ]
     },
     "execution_count": 10,
     "metadata": {},
     "output_type": "execute_result"
    }
   ],
   "source": [
    "h36m_3d_world._data['S5']['Waiting 1'].keys()"
   ]
  },
  {
   "cell_type": "code",
   "execution_count": 5,
   "metadata": {},
   "outputs": [
    {
     "data": {
      "text/plain": [
       "(4517, 17, 3)"
      ]
     },
     "execution_count": 5,
     "metadata": {},
     "output_type": "execute_result"
    }
   ],
   "source": [
    "h36m_3d_world._data['S5']['Waiting 1']['positions'].shape"
   ]
  },
  {
   "cell_type": "code",
   "execution_count": 6,
   "metadata": {},
   "outputs": [],
   "source": [
    "save_folder = '/home/hrai/codes/MotionBERT/data/motion3d/h36m_gt_canonical_pkl'\n",
    "if not os.path.exists(save_folder): os.makedirs(save_folder)"
   ]
  },
  {
   "cell_type": "code",
   "execution_count": 75,
   "metadata": {},
   "outputs": [
    {
     "name": "stdout",
     "output_type": "stream",
     "text": [
      "S9 Waiting 1 54138969\n"
     ]
    },
    {
     "name": "stderr",
     "output_type": "stream",
     "text": [
      "100%|██████████| 1612/1612 [00:09<00:00, 175.90it/s]\n"
     ]
    },
    {
     "name": "stdout",
     "output_type": "stream",
     "text": [
      "S9 Waiting 1 55011271\n"
     ]
    },
    {
     "name": "stderr",
     "output_type": "stream",
     "text": [
      "100%|██████████| 1612/1612 [00:08<00:00, 179.30it/s]\n"
     ]
    },
    {
     "name": "stdout",
     "output_type": "stream",
     "text": [
      "S9 Waiting 1 58860488\n"
     ]
    },
    {
     "name": "stderr",
     "output_type": "stream",
     "text": [
      "100%|██████████| 1612/1612 [00:08<00:00, 182.84it/s]\n"
     ]
    },
    {
     "name": "stdout",
     "output_type": "stream",
     "text": [
      "S9 Waiting 1 60457274\n"
     ]
    },
    {
     "name": "stderr",
     "output_type": "stream",
     "text": [
      "100%|██████████| 1612/1612 [00:08<00:00, 181.37it/s]\n"
     ]
    },
    {
     "name": "stdout",
     "output_type": "stream",
     "text": [
      "S9 Sitting 54138969\n"
     ]
    },
    {
     "name": "stderr",
     "output_type": "stream",
     "text": [
      "100%|██████████| 2962/2962 [00:17<00:00, 173.19it/s]\n"
     ]
    },
    {
     "name": "stdout",
     "output_type": "stream",
     "text": [
      "S9 Sitting 55011271\n"
     ]
    },
    {
     "name": "stderr",
     "output_type": "stream",
     "text": [
      "100%|██████████| 2962/2962 [00:16<00:00, 176.97it/s]\n"
     ]
    },
    {
     "name": "stdout",
     "output_type": "stream",
     "text": [
      "S9 Sitting 58860488\n"
     ]
    },
    {
     "name": "stderr",
     "output_type": "stream",
     "text": [
      "100%|██████████| 2962/2962 [00:16<00:00, 179.23it/s]\n"
     ]
    },
    {
     "name": "stdout",
     "output_type": "stream",
     "text": [
      "S9 Sitting 60457274\n"
     ]
    },
    {
     "name": "stderr",
     "output_type": "stream",
     "text": [
      "100%|██████████| 2962/2962 [00:16<00:00, 174.68it/s]\n"
     ]
    },
    {
     "name": "stdout",
     "output_type": "stream",
     "text": [
      "S9 Photo 1 54138969\n"
     ]
    },
    {
     "name": "stderr",
     "output_type": "stream",
     "text": [
      "100%|██████████| 1449/1449 [00:06<00:00, 228.61it/s]\n"
     ]
    },
    {
     "name": "stdout",
     "output_type": "stream",
     "text": [
      "S9 Photo 1 55011271\n"
     ]
    },
    {
     "name": "stderr",
     "output_type": "stream",
     "text": [
      "100%|██████████| 1449/1449 [00:06<00:00, 229.36it/s]\n"
     ]
    },
    {
     "name": "stdout",
     "output_type": "stream",
     "text": [
      "S9 Photo 1 58860488\n"
     ]
    },
    {
     "name": "stderr",
     "output_type": "stream",
     "text": [
      "100%|██████████| 1449/1449 [00:06<00:00, 230.31it/s]\n"
     ]
    },
    {
     "name": "stdout",
     "output_type": "stream",
     "text": [
      "S9 Photo 1 60457274\n"
     ]
    },
    {
     "name": "stderr",
     "output_type": "stream",
     "text": [
      "100%|██████████| 1449/1449 [00:06<00:00, 227.62it/s]\n"
     ]
    },
    {
     "name": "stdout",
     "output_type": "stream",
     "text": [
      "S9 Smoking 54138969\n"
     ]
    },
    {
     "name": "stderr",
     "output_type": "stream",
     "text": [
      "100%|██████████| 4334/4334 [00:25<00:00, 173.35it/s]\n"
     ]
    },
    {
     "name": "stdout",
     "output_type": "stream",
     "text": [
      "S9 Smoking 55011271\n"
     ]
    },
    {
     "name": "stderr",
     "output_type": "stream",
     "text": [
      "100%|██████████| 4334/4334 [00:24<00:00, 175.07it/s]\n"
     ]
    },
    {
     "name": "stdout",
     "output_type": "stream",
     "text": [
      "S9 Smoking 58860488\n"
     ]
    },
    {
     "name": "stderr",
     "output_type": "stream",
     "text": [
      "100%|██████████| 4334/4334 [00:24<00:00, 175.73it/s]\n"
     ]
    },
    {
     "name": "stdout",
     "output_type": "stream",
     "text": [
      "S9 Smoking 60457274\n"
     ]
    },
    {
     "name": "stderr",
     "output_type": "stream",
     "text": [
      "100%|██████████| 4334/4334 [00:24<00:00, 173.38it/s]\n"
     ]
    },
    {
     "name": "stdout",
     "output_type": "stream",
     "text": [
      "S9 WalkTogether 1 54138969\n"
     ]
    },
    {
     "name": "stderr",
     "output_type": "stream",
     "text": [
      "100%|██████████| 1685/1685 [00:08<00:00, 197.24it/s]\n"
     ]
    },
    {
     "name": "stdout",
     "output_type": "stream",
     "text": [
      "S9 WalkTogether 1 55011271\n"
     ]
    },
    {
     "name": "stderr",
     "output_type": "stream",
     "text": [
      "100%|██████████| 1685/1685 [00:08<00:00, 196.92it/s]\n"
     ]
    },
    {
     "name": "stdout",
     "output_type": "stream",
     "text": [
      "S9 WalkTogether 1 58860488\n"
     ]
    },
    {
     "name": "stderr",
     "output_type": "stream",
     "text": [
      "100%|██████████| 1685/1685 [00:08<00:00, 199.68it/s]\n"
     ]
    },
    {
     "name": "stdout",
     "output_type": "stream",
     "text": [
      "S9 WalkTogether 1 60457274\n"
     ]
    },
    {
     "name": "stderr",
     "output_type": "stream",
     "text": [
      "100%|██████████| 1685/1685 [00:08<00:00, 197.61it/s]\n"
     ]
    },
    {
     "name": "stdout",
     "output_type": "stream",
     "text": [
      "S9 Discussion 2 54138969\n"
     ]
    },
    {
     "name": "stderr",
     "output_type": "stream",
     "text": [
      "100%|██████████| 5306/5306 [00:28<00:00, 186.96it/s]\n"
     ]
    },
    {
     "name": "stdout",
     "output_type": "stream",
     "text": [
      "S9 Discussion 2 55011271\n"
     ]
    },
    {
     "name": "stderr",
     "output_type": "stream",
     "text": [
      "100%|██████████| 5306/5306 [00:28<00:00, 186.60it/s]\n"
     ]
    },
    {
     "name": "stdout",
     "output_type": "stream",
     "text": [
      "S9 Discussion 2 58860488\n"
     ]
    },
    {
     "name": "stderr",
     "output_type": "stream",
     "text": [
      "100%|██████████| 5306/5306 [00:28<00:00, 189.18it/s]\n"
     ]
    },
    {
     "name": "stdout",
     "output_type": "stream",
     "text": [
      "S9 Discussion 2 60457274\n"
     ]
    },
    {
     "name": "stderr",
     "output_type": "stream",
     "text": [
      "100%|██████████| 5306/5306 [00:28<00:00, 189.04it/s]\n"
     ]
    },
    {
     "name": "stdout",
     "output_type": "stream",
     "text": [
      "S9 Greeting 1 54138969\n"
     ]
    },
    {
     "name": "stderr",
     "output_type": "stream",
     "text": [
      "100%|██████████| 2711/2711 [00:13<00:00, 201.92it/s]\n"
     ]
    },
    {
     "name": "stdout",
     "output_type": "stream",
     "text": [
      "S9 Greeting 1 55011271\n"
     ]
    },
    {
     "name": "stderr",
     "output_type": "stream",
     "text": [
      "100%|██████████| 2711/2711 [00:13<00:00, 203.88it/s]\n"
     ]
    },
    {
     "name": "stdout",
     "output_type": "stream",
     "text": [
      "S9 Greeting 1 58860488\n"
     ]
    },
    {
     "name": "stderr",
     "output_type": "stream",
     "text": [
      "100%|██████████| 2711/2711 [00:13<00:00, 203.74it/s]\n"
     ]
    },
    {
     "name": "stdout",
     "output_type": "stream",
     "text": [
      "S9 Greeting 1 60457274\n"
     ]
    },
    {
     "name": "stderr",
     "output_type": "stream",
     "text": [
      "100%|██████████| 2711/2711 [00:13<00:00, 202.34it/s]\n"
     ]
    },
    {
     "name": "stdout",
     "output_type": "stream",
     "text": [
      "S9 Phoning 54138969\n"
     ]
    },
    {
     "name": "stderr",
     "output_type": "stream",
     "text": [
      "100%|██████████| 3319/3319 [00:18<00:00, 183.59it/s]\n"
     ]
    },
    {
     "name": "stdout",
     "output_type": "stream",
     "text": [
      "S9 Phoning 55011271\n"
     ]
    },
    {
     "name": "stderr",
     "output_type": "stream",
     "text": [
      "100%|██████████| 3319/3319 [00:18<00:00, 182.56it/s]\n"
     ]
    },
    {
     "name": "stdout",
     "output_type": "stream",
     "text": [
      "S9 Phoning 58860488\n"
     ]
    },
    {
     "name": "stderr",
     "output_type": "stream",
     "text": [
      "100%|██████████| 3319/3319 [00:18<00:00, 182.94it/s]\n"
     ]
    },
    {
     "name": "stdout",
     "output_type": "stream",
     "text": [
      "S9 Phoning 60457274\n"
     ]
    },
    {
     "name": "stderr",
     "output_type": "stream",
     "text": [
      "100%|██████████| 3319/3319 [00:18<00:00, 175.80it/s]\n"
     ]
    },
    {
     "name": "stdout",
     "output_type": "stream",
     "text": [
      "S9 Phoning 1 54138969\n"
     ]
    },
    {
     "name": "stderr",
     "output_type": "stream",
     "text": [
      "100%|██████████| 3821/3821 [00:21<00:00, 178.02it/s]\n"
     ]
    },
    {
     "name": "stdout",
     "output_type": "stream",
     "text": [
      "S9 Phoning 1 55011271\n"
     ]
    },
    {
     "name": "stderr",
     "output_type": "stream",
     "text": [
      "100%|██████████| 3821/3821 [00:21<00:00, 179.23it/s]\n"
     ]
    },
    {
     "name": "stdout",
     "output_type": "stream",
     "text": [
      "S9 Phoning 1 58860488\n"
     ]
    },
    {
     "name": "stderr",
     "output_type": "stream",
     "text": [
      "100%|██████████| 3821/3821 [00:21<00:00, 180.38it/s]\n"
     ]
    },
    {
     "name": "stdout",
     "output_type": "stream",
     "text": [
      "S9 Phoning 1 60457274\n"
     ]
    },
    {
     "name": "stderr",
     "output_type": "stream",
     "text": [
      "100%|██████████| 3821/3821 [00:21<00:00, 181.92it/s]\n"
     ]
    },
    {
     "name": "stdout",
     "output_type": "stream",
     "text": [
      "S9 Smoking 1 54138969\n"
     ]
    },
    {
     "name": "stderr",
     "output_type": "stream",
     "text": [
      "100%|██████████| 4377/4377 [00:24<00:00, 177.35it/s]\n"
     ]
    },
    {
     "name": "stdout",
     "output_type": "stream",
     "text": [
      "S9 Smoking 1 55011271\n"
     ]
    },
    {
     "name": "stderr",
     "output_type": "stream",
     "text": [
      "100%|██████████| 4377/4377 [00:24<00:00, 178.28it/s]\n"
     ]
    },
    {
     "name": "stdout",
     "output_type": "stream",
     "text": [
      "S9 Smoking 1 58860488\n"
     ]
    },
    {
     "name": "stderr",
     "output_type": "stream",
     "text": [
      "100%|██████████| 4377/4377 [00:24<00:00, 179.06it/s]\n"
     ]
    },
    {
     "name": "stdout",
     "output_type": "stream",
     "text": [
      "S9 Smoking 1 60457274\n"
     ]
    },
    {
     "name": "stderr",
     "output_type": "stream",
     "text": [
      "100%|██████████| 4377/4377 [00:24<00:00, 177.73it/s]\n"
     ]
    },
    {
     "name": "stdout",
     "output_type": "stream",
     "text": [
      "S9 Discussion 1 54138969\n"
     ]
    },
    {
     "name": "stderr",
     "output_type": "stream",
     "text": [
      "100%|██████████| 5873/5873 [00:31<00:00, 188.73it/s]\n"
     ]
    },
    {
     "name": "stdout",
     "output_type": "stream",
     "text": [
      "S9 Discussion 1 55011271\n"
     ]
    },
    {
     "name": "stderr",
     "output_type": "stream",
     "text": [
      "100%|██████████| 5873/5873 [00:31<00:00, 189.00it/s]\n"
     ]
    },
    {
     "name": "stdout",
     "output_type": "stream",
     "text": [
      "S9 Discussion 1 58860488\n"
     ]
    },
    {
     "name": "stderr",
     "output_type": "stream",
     "text": [
      "100%|██████████| 5873/5873 [00:31<00:00, 188.22it/s]\n"
     ]
    },
    {
     "name": "stdout",
     "output_type": "stream",
     "text": [
      "S9 Discussion 1 60457274\n"
     ]
    },
    {
     "name": "stderr",
     "output_type": "stream",
     "text": [
      "100%|██████████| 5873/5873 [00:31<00:00, 187.56it/s]\n"
     ]
    },
    {
     "name": "stdout",
     "output_type": "stream",
     "text": [
      "S9 WalkTogether 54138969\n"
     ]
    },
    {
     "name": "stderr",
     "output_type": "stream",
     "text": [
      "100%|██████████| 1703/1703 [00:08<00:00, 194.36it/s]\n"
     ]
    },
    {
     "name": "stdout",
     "output_type": "stream",
     "text": [
      "S9 WalkTogether 55011271\n"
     ]
    },
    {
     "name": "stderr",
     "output_type": "stream",
     "text": [
      "100%|██████████| 1703/1703 [00:08<00:00, 194.10it/s]\n"
     ]
    },
    {
     "name": "stdout",
     "output_type": "stream",
     "text": [
      "S9 WalkTogether 58860488\n"
     ]
    },
    {
     "name": "stderr",
     "output_type": "stream",
     "text": [
      "100%|██████████| 1703/1703 [00:08<00:00, 200.39it/s]\n"
     ]
    },
    {
     "name": "stdout",
     "output_type": "stream",
     "text": [
      "S9 WalkTogether 60457274\n"
     ]
    },
    {
     "name": "stderr",
     "output_type": "stream",
     "text": [
      "100%|██████████| 1703/1703 [00:08<00:00, 199.31it/s]\n"
     ]
    },
    {
     "name": "stdout",
     "output_type": "stream",
     "text": [
      "S9 Sitting 1 54138969\n"
     ]
    },
    {
     "name": "stderr",
     "output_type": "stream",
     "text": [
      "100%|██████████| 3071/3071 [00:16<00:00, 185.80it/s]\n"
     ]
    },
    {
     "name": "stdout",
     "output_type": "stream",
     "text": [
      "S9 Sitting 1 55011271\n"
     ]
    },
    {
     "name": "stderr",
     "output_type": "stream",
     "text": [
      "100%|██████████| 3071/3071 [00:16<00:00, 186.62it/s]\n"
     ]
    },
    {
     "name": "stdout",
     "output_type": "stream",
     "text": [
      "S9 Sitting 1 58860488\n"
     ]
    },
    {
     "name": "stderr",
     "output_type": "stream",
     "text": [
      "100%|██████████| 3071/3071 [00:16<00:00, 187.42it/s]\n"
     ]
    },
    {
     "name": "stdout",
     "output_type": "stream",
     "text": [
      "S9 Sitting 1 60457274\n"
     ]
    },
    {
     "name": "stderr",
     "output_type": "stream",
     "text": [
      "100%|██████████| 3071/3071 [00:16<00:00, 186.28it/s]\n"
     ]
    },
    {
     "name": "stdout",
     "output_type": "stream",
     "text": [
      "S9 SittingDown 54138969\n"
     ]
    },
    {
     "name": "stderr",
     "output_type": "stream",
     "text": [
      "100%|██████████| 2932/2932 [00:17<00:00, 167.42it/s]\n"
     ]
    },
    {
     "name": "stdout",
     "output_type": "stream",
     "text": [
      "S9 SittingDown 55011271\n"
     ]
    },
    {
     "name": "stderr",
     "output_type": "stream",
     "text": [
      "100%|██████████| 2932/2932 [00:17<00:00, 168.34it/s]\n"
     ]
    },
    {
     "name": "stdout",
     "output_type": "stream",
     "text": [
      "S9 SittingDown 58860488\n"
     ]
    },
    {
     "name": "stderr",
     "output_type": "stream",
     "text": [
      "100%|██████████| 2932/2932 [00:17<00:00, 165.73it/s]\n"
     ]
    },
    {
     "name": "stdout",
     "output_type": "stream",
     "text": [
      "S9 SittingDown 60457274\n"
     ]
    },
    {
     "name": "stderr",
     "output_type": "stream",
     "text": [
      "100%|██████████| 2932/2932 [00:17<00:00, 167.67it/s]\n"
     ]
    },
    {
     "name": "stdout",
     "output_type": "stream",
     "text": [
      "S9 Directions 54138969\n"
     ]
    },
    {
     "name": "stderr",
     "output_type": "stream",
     "text": [
      "100%|██████████| 2699/2699 [00:13<00:00, 196.57it/s]\n"
     ]
    },
    {
     "name": "stdout",
     "output_type": "stream",
     "text": [
      "S9 Directions 55011271\n"
     ]
    },
    {
     "name": "stderr",
     "output_type": "stream",
     "text": [
      "100%|██████████| 2699/2699 [00:13<00:00, 203.01it/s]\n"
     ]
    },
    {
     "name": "stdout",
     "output_type": "stream",
     "text": [
      "S9 Directions 58860488\n"
     ]
    },
    {
     "name": "stderr",
     "output_type": "stream",
     "text": [
      "100%|██████████| 2699/2699 [00:13<00:00, 199.51it/s]\n"
     ]
    },
    {
     "name": "stdout",
     "output_type": "stream",
     "text": [
      "S9 Directions 60457274\n"
     ]
    },
    {
     "name": "stderr",
     "output_type": "stream",
     "text": [
      "100%|██████████| 2699/2699 [00:13<00:00, 196.40it/s]\n"
     ]
    },
    {
     "name": "stdout",
     "output_type": "stream",
     "text": [
      "S9 SittingDown 1 54138969\n"
     ]
    },
    {
     "name": "stderr",
     "output_type": "stream",
     "text": [
      "100%|██████████| 1554/1554 [00:09<00:00, 164.42it/s]\n"
     ]
    },
    {
     "name": "stdout",
     "output_type": "stream",
     "text": [
      "S9 SittingDown 1 55011271\n"
     ]
    },
    {
     "name": "stderr",
     "output_type": "stream",
     "text": [
      "100%|██████████| 1554/1554 [00:09<00:00, 160.88it/s]\n"
     ]
    },
    {
     "name": "stdout",
     "output_type": "stream",
     "text": [
      "S9 SittingDown 1 58860488\n"
     ]
    },
    {
     "name": "stderr",
     "output_type": "stream",
     "text": [
      "100%|██████████| 1554/1554 [00:09<00:00, 166.79it/s]\n"
     ]
    },
    {
     "name": "stdout",
     "output_type": "stream",
     "text": [
      "S9 SittingDown 1 60457274\n"
     ]
    },
    {
     "name": "stderr",
     "output_type": "stream",
     "text": [
      "100%|██████████| 1554/1554 [00:09<00:00, 164.99it/s]\n"
     ]
    },
    {
     "name": "stdout",
     "output_type": "stream",
     "text": [
      "S9 Directions 1 54138969\n"
     ]
    },
    {
     "name": "stderr",
     "output_type": "stream",
     "text": [
      "100%|██████████| 2356/2356 [00:12<00:00, 193.65it/s]\n"
     ]
    },
    {
     "name": "stdout",
     "output_type": "stream",
     "text": [
      "S9 Directions 1 55011271\n"
     ]
    },
    {
     "name": "stderr",
     "output_type": "stream",
     "text": [
      "100%|██████████| 2356/2356 [00:12<00:00, 195.88it/s]\n"
     ]
    },
    {
     "name": "stdout",
     "output_type": "stream",
     "text": [
      "S9 Directions 1 58860488\n"
     ]
    },
    {
     "name": "stderr",
     "output_type": "stream",
     "text": [
      "100%|██████████| 2356/2356 [00:11<00:00, 200.00it/s]\n"
     ]
    },
    {
     "name": "stdout",
     "output_type": "stream",
     "text": [
      "S9 Directions 1 60457274\n"
     ]
    },
    {
     "name": "stderr",
     "output_type": "stream",
     "text": [
      "100%|██████████| 2356/2356 [00:12<00:00, 194.86it/s]\n"
     ]
    },
    {
     "name": "stdout",
     "output_type": "stream",
     "text": [
      "S9 Purchases 54138969\n"
     ]
    },
    {
     "name": "stderr",
     "output_type": "stream",
     "text": [
      "100%|██████████| 1529/1529 [00:07<00:00, 199.64it/s]\n"
     ]
    },
    {
     "name": "stdout",
     "output_type": "stream",
     "text": [
      "S9 Purchases 55011271\n"
     ]
    },
    {
     "name": "stderr",
     "output_type": "stream",
     "text": [
      "100%|██████████| 1529/1529 [00:07<00:00, 201.29it/s]\n"
     ]
    },
    {
     "name": "stdout",
     "output_type": "stream",
     "text": [
      "S9 Purchases 58860488\n"
     ]
    },
    {
     "name": "stderr",
     "output_type": "stream",
     "text": [
      "100%|██████████| 1529/1529 [00:07<00:00, 201.68it/s]\n"
     ]
    },
    {
     "name": "stdout",
     "output_type": "stream",
     "text": [
      "S9 Purchases 60457274\n"
     ]
    },
    {
     "name": "stderr",
     "output_type": "stream",
     "text": [
      "100%|██████████| 1529/1529 [00:07<00:00, 200.20it/s]\n"
     ]
    },
    {
     "name": "stdout",
     "output_type": "stream",
     "text": [
      "S9 Walking 1 54138969\n"
     ]
    },
    {
     "name": "stderr",
     "output_type": "stream",
     "text": [
      "100%|██████████| 2446/2446 [00:13<00:00, 175.41it/s]\n"
     ]
    },
    {
     "name": "stdout",
     "output_type": "stream",
     "text": [
      "S9 Walking 1 55011271\n"
     ]
    },
    {
     "name": "stderr",
     "output_type": "stream",
     "text": [
      "100%|██████████| 2446/2446 [00:13<00:00, 175.31it/s]\n"
     ]
    },
    {
     "name": "stdout",
     "output_type": "stream",
     "text": [
      "S9 Walking 1 58860488\n"
     ]
    },
    {
     "name": "stderr",
     "output_type": "stream",
     "text": [
      "100%|██████████| 2446/2446 [00:13<00:00, 175.68it/s]\n"
     ]
    },
    {
     "name": "stdout",
     "output_type": "stream",
     "text": [
      "S9 Walking 1 60457274\n"
     ]
    },
    {
     "name": "stderr",
     "output_type": "stream",
     "text": [
      "100%|██████████| 2446/2446 [00:13<00:00, 175.50it/s]\n"
     ]
    },
    {
     "name": "stdout",
     "output_type": "stream",
     "text": [
      "S9 WalkDog 1 54138969\n"
     ]
    },
    {
     "name": "stderr",
     "output_type": "stream",
     "text": [
      "100%|██████████| 2217/2217 [00:11<00:00, 185.49it/s]\n"
     ]
    },
    {
     "name": "stdout",
     "output_type": "stream",
     "text": [
      "S9 WalkDog 1 55011271\n"
     ]
    },
    {
     "name": "stderr",
     "output_type": "stream",
     "text": [
      "100%|██████████| 2217/2217 [00:11<00:00, 185.57it/s]\n"
     ]
    },
    {
     "name": "stdout",
     "output_type": "stream",
     "text": [
      "S9 WalkDog 1 58860488\n"
     ]
    },
    {
     "name": "stderr",
     "output_type": "stream",
     "text": [
      "100%|██████████| 2217/2217 [00:11<00:00, 184.93it/s]\n"
     ]
    },
    {
     "name": "stdout",
     "output_type": "stream",
     "text": [
      "S9 WalkDog 1 60457274\n"
     ]
    },
    {
     "name": "stderr",
     "output_type": "stream",
     "text": [
      "100%|██████████| 2217/2217 [00:12<00:00, 184.07it/s]\n"
     ]
    },
    {
     "name": "stdout",
     "output_type": "stream",
     "text": [
      "S9 Waiting 54138969\n"
     ]
    },
    {
     "name": "stderr",
     "output_type": "stream",
     "text": [
      "100%|██████████| 3312/3312 [00:17<00:00, 185.00it/s]\n"
     ]
    },
    {
     "name": "stdout",
     "output_type": "stream",
     "text": [
      "S9 Waiting 55011271\n"
     ]
    },
    {
     "name": "stderr",
     "output_type": "stream",
     "text": [
      "100%|██████████| 3312/3312 [00:18<00:00, 183.24it/s]\n"
     ]
    },
    {
     "name": "stdout",
     "output_type": "stream",
     "text": [
      "S9 Waiting 58860488\n"
     ]
    },
    {
     "name": "stderr",
     "output_type": "stream",
     "text": [
      "100%|██████████| 3312/3312 [00:18<00:00, 179.46it/s]\n"
     ]
    },
    {
     "name": "stdout",
     "output_type": "stream",
     "text": [
      "S9 Waiting 60457274\n"
     ]
    },
    {
     "name": "stderr",
     "output_type": "stream",
     "text": [
      "100%|██████████| 3312/3312 [00:18<00:00, 176.80it/s]\n"
     ]
    },
    {
     "name": "stdout",
     "output_type": "stream",
     "text": [
      "S9 Walking 54138969\n"
     ]
    },
    {
     "name": "stderr",
     "output_type": "stream",
     "text": [
      "100%|██████████| 1612/1612 [00:09<00:00, 173.32it/s]\n"
     ]
    },
    {
     "name": "stdout",
     "output_type": "stream",
     "text": [
      "S9 Walking 55011271\n"
     ]
    },
    {
     "name": "stderr",
     "output_type": "stream",
     "text": [
      "100%|██████████| 1612/1612 [00:09<00:00, 174.66it/s]\n"
     ]
    },
    {
     "name": "stdout",
     "output_type": "stream",
     "text": [
      "S9 Walking 58860488\n"
     ]
    },
    {
     "name": "stderr",
     "output_type": "stream",
     "text": [
      "100%|██████████| 1612/1612 [00:09<00:00, 173.81it/s]\n"
     ]
    },
    {
     "name": "stdout",
     "output_type": "stream",
     "text": [
      "S9 Walking 60457274\n"
     ]
    },
    {
     "name": "stderr",
     "output_type": "stream",
     "text": [
      "100%|██████████| 1612/1612 [00:09<00:00, 173.38it/s]\n"
     ]
    },
    {
     "name": "stdout",
     "output_type": "stream",
     "text": [
      "S9 Eating 54138969\n"
     ]
    },
    {
     "name": "stderr",
     "output_type": "stream",
     "text": [
      "100%|██████████| 2686/2686 [00:15<00:00, 178.39it/s]\n"
     ]
    },
    {
     "name": "stdout",
     "output_type": "stream",
     "text": [
      "S9 Eating 55011271\n"
     ]
    },
    {
     "name": "stderr",
     "output_type": "stream",
     "text": [
      "100%|██████████| 2686/2686 [00:14<00:00, 183.87it/s]\n"
     ]
    },
    {
     "name": "stdout",
     "output_type": "stream",
     "text": [
      "S9 Eating 58860488\n"
     ]
    },
    {
     "name": "stderr",
     "output_type": "stream",
     "text": [
      "100%|██████████| 2686/2686 [00:14<00:00, 183.51it/s]\n"
     ]
    },
    {
     "name": "stdout",
     "output_type": "stream",
     "text": [
      "S9 Eating 60457274\n"
     ]
    },
    {
     "name": "stderr",
     "output_type": "stream",
     "text": [
      "100%|██████████| 2686/2686 [00:14<00:00, 182.29it/s]\n"
     ]
    },
    {
     "name": "stdout",
     "output_type": "stream",
     "text": [
      "S9 Posing 54138969\n"
     ]
    },
    {
     "name": "stderr",
     "output_type": "stream",
     "text": [
      "100%|██████████| 1964/1964 [00:10<00:00, 189.96it/s]\n"
     ]
    },
    {
     "name": "stdout",
     "output_type": "stream",
     "text": [
      "S9 Posing 55011271\n"
     ]
    },
    {
     "name": "stderr",
     "output_type": "stream",
     "text": [
      "100%|██████████| 1964/1964 [00:10<00:00, 192.87it/s]\n"
     ]
    },
    {
     "name": "stdout",
     "output_type": "stream",
     "text": [
      "S9 Posing 58860488\n"
     ]
    },
    {
     "name": "stderr",
     "output_type": "stream",
     "text": [
      "100%|██████████| 1964/1964 [00:10<00:00, 187.25it/s]\n"
     ]
    },
    {
     "name": "stdout",
     "output_type": "stream",
     "text": [
      "S9 Posing 60457274\n"
     ]
    },
    {
     "name": "stderr",
     "output_type": "stream",
     "text": [
      "100%|██████████| 1964/1964 [00:10<00:00, 190.06it/s]\n"
     ]
    },
    {
     "name": "stdout",
     "output_type": "stream",
     "text": [
      "S9 Greeting 54138969\n"
     ]
    },
    {
     "name": "stderr",
     "output_type": "stream",
     "text": [
      "100%|██████████| 1447/1447 [00:07<00:00, 194.73it/s]\n"
     ]
    },
    {
     "name": "stdout",
     "output_type": "stream",
     "text": [
      "S9 Greeting 55011271\n"
     ]
    },
    {
     "name": "stderr",
     "output_type": "stream",
     "text": [
      "100%|██████████| 1447/1447 [00:07<00:00, 196.45it/s]\n"
     ]
    },
    {
     "name": "stdout",
     "output_type": "stream",
     "text": [
      "S9 Greeting 58860488\n"
     ]
    },
    {
     "name": "stderr",
     "output_type": "stream",
     "text": [
      "100%|██████████| 1447/1447 [00:07<00:00, 195.62it/s]\n"
     ]
    },
    {
     "name": "stdout",
     "output_type": "stream",
     "text": [
      "S9 Greeting 60457274\n"
     ]
    },
    {
     "name": "stderr",
     "output_type": "stream",
     "text": [
      "100%|██████████| 1447/1447 [00:07<00:00, 192.89it/s]\n"
     ]
    },
    {
     "name": "stdout",
     "output_type": "stream",
     "text": [
      "S9 Posing 1 54138969\n"
     ]
    },
    {
     "name": "stderr",
     "output_type": "stream",
     "text": [
      "100%|██████████| 1968/1968 [00:10<00:00, 194.57it/s]\n"
     ]
    },
    {
     "name": "stdout",
     "output_type": "stream",
     "text": [
      "S9 Posing 1 55011271\n"
     ]
    },
    {
     "name": "stderr",
     "output_type": "stream",
     "text": [
      "100%|██████████| 1968/1968 [00:09<00:00, 196.87it/s]\n"
     ]
    },
    {
     "name": "stdout",
     "output_type": "stream",
     "text": [
      "S9 Posing 1 58860488\n"
     ]
    },
    {
     "name": "stderr",
     "output_type": "stream",
     "text": [
      "100%|██████████| 1968/1968 [00:10<00:00, 194.31it/s]\n"
     ]
    },
    {
     "name": "stdout",
     "output_type": "stream",
     "text": [
      "S9 Posing 1 60457274\n"
     ]
    },
    {
     "name": "stderr",
     "output_type": "stream",
     "text": [
      "100%|██████████| 1968/1968 [00:10<00:00, 193.31it/s]\n"
     ]
    },
    {
     "name": "stdout",
     "output_type": "stream",
     "text": [
      "S9 WalkDog 54138969\n"
     ]
    },
    {
     "name": "stderr",
     "output_type": "stream",
     "text": [
      "100%|██████████| 2237/2237 [00:12<00:00, 185.36it/s]\n"
     ]
    },
    {
     "name": "stdout",
     "output_type": "stream",
     "text": [
      "S9 WalkDog 55011271\n"
     ]
    },
    {
     "name": "stderr",
     "output_type": "stream",
     "text": [
      "100%|██████████| 2237/2237 [00:11<00:00, 186.43it/s]\n"
     ]
    },
    {
     "name": "stdout",
     "output_type": "stream",
     "text": [
      "S9 WalkDog 58860488\n"
     ]
    },
    {
     "name": "stderr",
     "output_type": "stream",
     "text": [
      "100%|██████████| 2237/2237 [00:11<00:00, 187.14it/s]\n"
     ]
    },
    {
     "name": "stdout",
     "output_type": "stream",
     "text": [
      "S9 WalkDog 60457274\n"
     ]
    },
    {
     "name": "stderr",
     "output_type": "stream",
     "text": [
      "100%|██████████| 2237/2237 [00:12<00:00, 186.35it/s]\n"
     ]
    },
    {
     "name": "stdout",
     "output_type": "stream",
     "text": [
      "S9 Photo 54138969\n"
     ]
    },
    {
     "name": "stderr",
     "output_type": "stream",
     "text": [
      "100%|██████████| 2346/2346 [00:10<00:00, 217.87it/s]\n"
     ]
    },
    {
     "name": "stdout",
     "output_type": "stream",
     "text": [
      "S9 Photo 55011271\n"
     ]
    },
    {
     "name": "stderr",
     "output_type": "stream",
     "text": [
      "100%|██████████| 2346/2346 [00:10<00:00, 214.30it/s]\n"
     ]
    },
    {
     "name": "stdout",
     "output_type": "stream",
     "text": [
      "S9 Photo 58860488\n"
     ]
    },
    {
     "name": "stderr",
     "output_type": "stream",
     "text": [
      "100%|██████████| 2346/2346 [00:10<00:00, 224.05it/s]\n"
     ]
    },
    {
     "name": "stdout",
     "output_type": "stream",
     "text": [
      "S9 Photo 60457274\n"
     ]
    },
    {
     "name": "stderr",
     "output_type": "stream",
     "text": [
      "100%|██████████| 2346/2346 [00:10<00:00, 223.04it/s]\n"
     ]
    },
    {
     "name": "stdout",
     "output_type": "stream",
     "text": [
      "S9 Purchases 1 54138969\n"
     ]
    },
    {
     "name": "stderr",
     "output_type": "stream",
     "text": [
      "100%|██████████| 1226/1226 [00:06<00:00, 198.62it/s]\n"
     ]
    },
    {
     "name": "stdout",
     "output_type": "stream",
     "text": [
      "S9 Purchases 1 55011271\n"
     ]
    },
    {
     "name": "stderr",
     "output_type": "stream",
     "text": [
      "100%|██████████| 1226/1226 [00:06<00:00, 199.05it/s]\n"
     ]
    },
    {
     "name": "stdout",
     "output_type": "stream",
     "text": [
      "S9 Purchases 1 58860488\n"
     ]
    },
    {
     "name": "stderr",
     "output_type": "stream",
     "text": [
      "100%|██████████| 1226/1226 [00:06<00:00, 201.63it/s]\n"
     ]
    },
    {
     "name": "stdout",
     "output_type": "stream",
     "text": [
      "S9 Purchases 1 60457274\n"
     ]
    },
    {
     "name": "stderr",
     "output_type": "stream",
     "text": [
      "100%|██████████| 1226/1226 [00:06<00:00, 200.56it/s]\n"
     ]
    },
    {
     "name": "stdout",
     "output_type": "stream",
     "text": [
      "S9 Eating 1 54138969\n"
     ]
    },
    {
     "name": "stderr",
     "output_type": "stream",
     "text": [
      "100%|██████████| 2663/2663 [00:14<00:00, 184.84it/s]\n"
     ]
    },
    {
     "name": "stdout",
     "output_type": "stream",
     "text": [
      "S9 Eating 1 55011271\n"
     ]
    },
    {
     "name": "stderr",
     "output_type": "stream",
     "text": [
      "100%|██████████| 2663/2663 [00:14<00:00, 186.83it/s]\n"
     ]
    },
    {
     "name": "stdout",
     "output_type": "stream",
     "text": [
      "S9 Eating 1 58860488\n"
     ]
    },
    {
     "name": "stderr",
     "output_type": "stream",
     "text": [
      "100%|██████████| 2663/2663 [00:13<00:00, 190.39it/s]\n"
     ]
    },
    {
     "name": "stdout",
     "output_type": "stream",
     "text": [
      "S9 Eating 1 60457274\n"
     ]
    },
    {
     "name": "stderr",
     "output_type": "stream",
     "text": [
      "100%|██████████| 2663/2663 [00:14<00:00, 184.70it/s]\n"
     ]
    },
    {
     "name": "stdout",
     "output_type": "stream",
     "text": [
      "S11 Waiting 1 54138969\n"
     ]
    },
    {
     "name": "stderr",
     "output_type": "stream",
     "text": [
      "100%|██████████| 2280/2280 [00:12<00:00, 186.56it/s]\n"
     ]
    },
    {
     "name": "stdout",
     "output_type": "stream",
     "text": [
      "S11 Waiting 1 55011271\n"
     ]
    },
    {
     "name": "stderr",
     "output_type": "stream",
     "text": [
      "100%|██████████| 2280/2280 [00:12<00:00, 187.37it/s]\n"
     ]
    },
    {
     "name": "stdout",
     "output_type": "stream",
     "text": [
      "S11 Waiting 1 58860488\n"
     ]
    },
    {
     "name": "stderr",
     "output_type": "stream",
     "text": [
      "100%|██████████| 2280/2280 [00:12<00:00, 185.06it/s]\n"
     ]
    },
    {
     "name": "stdout",
     "output_type": "stream",
     "text": [
      "S11 Waiting 1 60457274\n"
     ]
    },
    {
     "name": "stderr",
     "output_type": "stream",
     "text": [
      "100%|██████████| 2280/2280 [00:12<00:00, 185.39it/s]\n"
     ]
    },
    {
     "name": "stdout",
     "output_type": "stream",
     "text": [
      "S11 Smoking 2 54138969\n"
     ]
    },
    {
     "name": "stderr",
     "output_type": "stream",
     "text": [
      "100%|██████████| 2767/2767 [00:17<00:00, 162.43it/s]\n"
     ]
    },
    {
     "name": "stdout",
     "output_type": "stream",
     "text": [
      "S11 Smoking 2 55011271\n"
     ]
    },
    {
     "name": "stderr",
     "output_type": "stream",
     "text": [
      "100%|██████████| 2767/2767 [00:16<00:00, 165.39it/s]\n"
     ]
    },
    {
     "name": "stdout",
     "output_type": "stream",
     "text": [
      "S11 Smoking 2 58860488\n"
     ]
    },
    {
     "name": "stderr",
     "output_type": "stream",
     "text": [
      "100%|██████████| 2767/2767 [00:17<00:00, 161.75it/s]\n"
     ]
    },
    {
     "name": "stdout",
     "output_type": "stream",
     "text": [
      "S11 Smoking 2 60457274\n"
     ]
    },
    {
     "name": "stderr",
     "output_type": "stream",
     "text": [
      "100%|██████████| 2767/2767 [00:17<00:00, 161.10it/s]\n"
     ]
    },
    {
     "name": "stdout",
     "output_type": "stream",
     "text": [
      "S11 Sitting 54138969\n"
     ]
    },
    {
     "name": "stderr",
     "output_type": "stream",
     "text": [
      "100%|██████████| 2179/2179 [00:13<00:00, 166.38it/s]\n"
     ]
    },
    {
     "name": "stdout",
     "output_type": "stream",
     "text": [
      "S11 Sitting 55011271\n"
     ]
    },
    {
     "name": "stderr",
     "output_type": "stream",
     "text": [
      "100%|██████████| 2179/2179 [00:12<00:00, 169.39it/s]\n"
     ]
    },
    {
     "name": "stdout",
     "output_type": "stream",
     "text": [
      "S11 Sitting 58860488\n"
     ]
    },
    {
     "name": "stderr",
     "output_type": "stream",
     "text": [
      "100%|██████████| 2179/2179 [00:12<00:00, 168.15it/s]\n"
     ]
    },
    {
     "name": "stdout",
     "output_type": "stream",
     "text": [
      "S11 Sitting 60457274\n"
     ]
    },
    {
     "name": "stderr",
     "output_type": "stream",
     "text": [
      "100%|██████████| 2179/2179 [00:13<00:00, 166.48it/s]\n"
     ]
    },
    {
     "name": "stdout",
     "output_type": "stream",
     "text": [
      "S11 Photo 1 54138969\n"
     ]
    },
    {
     "name": "stderr",
     "output_type": "stream",
     "text": [
      "100%|██████████| 1545/1545 [00:07<00:00, 203.68it/s]\n"
     ]
    },
    {
     "name": "stdout",
     "output_type": "stream",
     "text": [
      "S11 Photo 1 55011271\n"
     ]
    },
    {
     "name": "stderr",
     "output_type": "stream",
     "text": [
      "100%|██████████| 1545/1545 [00:07<00:00, 204.97it/s]\n"
     ]
    },
    {
     "name": "stdout",
     "output_type": "stream",
     "text": [
      "S11 Photo 1 58860488\n"
     ]
    },
    {
     "name": "stderr",
     "output_type": "stream",
     "text": [
      "100%|██████████| 1545/1545 [00:07<00:00, 203.41it/s]\n"
     ]
    },
    {
     "name": "stdout",
     "output_type": "stream",
     "text": [
      "S11 Photo 1 60457274\n"
     ]
    },
    {
     "name": "stderr",
     "output_type": "stream",
     "text": [
      "100%|██████████| 1545/1545 [00:07<00:00, 203.95it/s]\n"
     ]
    },
    {
     "name": "stdout",
     "output_type": "stream",
     "text": [
      "S11 Smoking 54138969\n"
     ]
    },
    {
     "name": "stderr",
     "output_type": "stream",
     "text": [
      "100%|██████████| 2410/2410 [00:14<00:00, 169.69it/s]\n"
     ]
    },
    {
     "name": "stdout",
     "output_type": "stream",
     "text": [
      "S11 Smoking 55011271\n"
     ]
    },
    {
     "name": "stderr",
     "output_type": "stream",
     "text": [
      "100%|██████████| 2410/2410 [00:14<00:00, 171.92it/s]\n"
     ]
    },
    {
     "name": "stdout",
     "output_type": "stream",
     "text": [
      "S11 Smoking 58860488\n"
     ]
    },
    {
     "name": "stderr",
     "output_type": "stream",
     "text": [
      "100%|██████████| 2410/2410 [00:14<00:00, 171.72it/s]\n"
     ]
    },
    {
     "name": "stdout",
     "output_type": "stream",
     "text": [
      "S11 Smoking 60457274\n"
     ]
    },
    {
     "name": "stderr",
     "output_type": "stream",
     "text": [
      "100%|██████████| 2410/2410 [00:14<00:00, 169.30it/s]\n"
     ]
    },
    {
     "name": "stdout",
     "output_type": "stream",
     "text": [
      "S11 WalkTogether 1 54138969\n"
     ]
    },
    {
     "name": "stderr",
     "output_type": "stream",
     "text": [
      "100%|██████████| 1793/1793 [00:09<00:00, 186.84it/s]\n"
     ]
    },
    {
     "name": "stdout",
     "output_type": "stream",
     "text": [
      "S11 WalkTogether 1 55011271\n"
     ]
    },
    {
     "name": "stderr",
     "output_type": "stream",
     "text": [
      "100%|██████████| 1793/1793 [00:09<00:00, 188.42it/s]\n"
     ]
    },
    {
     "name": "stdout",
     "output_type": "stream",
     "text": [
      "S11 WalkTogether 1 58860488\n"
     ]
    },
    {
     "name": "stderr",
     "output_type": "stream",
     "text": [
      "100%|██████████| 1793/1793 [00:09<00:00, 188.59it/s]\n"
     ]
    },
    {
     "name": "stdout",
     "output_type": "stream",
     "text": [
      "S11 WalkTogether 1 60457274\n"
     ]
    },
    {
     "name": "stderr",
     "output_type": "stream",
     "text": [
      "100%|██████████| 1793/1793 [00:09<00:00, 188.76it/s]\n"
     ]
    },
    {
     "name": "stdout",
     "output_type": "stream",
     "text": [
      "S11 Discussion 2 54138969\n"
     ]
    },
    {
     "name": "stderr",
     "output_type": "stream",
     "text": [
      "100%|██████████| 2198/2198 [00:12<00:00, 180.51it/s]\n"
     ]
    },
    {
     "name": "stdout",
     "output_type": "stream",
     "text": [
      "S11 Discussion 2 55011271\n"
     ]
    },
    {
     "name": "stderr",
     "output_type": "stream",
     "text": [
      "100%|██████████| 2198/2198 [00:11<00:00, 185.65it/s]\n"
     ]
    },
    {
     "name": "stdout",
     "output_type": "stream",
     "text": [
      "S11 Discussion 2 58860488\n"
     ]
    },
    {
     "name": "stderr",
     "output_type": "stream",
     "text": [
      "100%|██████████| 2198/2198 [00:11<00:00, 185.67it/s]\n"
     ]
    },
    {
     "name": "stdout",
     "output_type": "stream",
     "text": [
      "S11 Discussion 2 60457274\n"
     ]
    },
    {
     "name": "stderr",
     "output_type": "stream",
     "text": [
      "100%|██████████| 2198/2198 [00:11<00:00, 184.02it/s]\n"
     ]
    },
    {
     "name": "stdout",
     "output_type": "stream",
     "text": [
      "S11 Phoning 2 54138969\n"
     ]
    },
    {
     "name": "stderr",
     "output_type": "stream",
     "text": [
      "100%|██████████| 3492/3492 [00:20<00:00, 171.26it/s]\n"
     ]
    },
    {
     "name": "stdout",
     "output_type": "stream",
     "text": [
      "S11 Phoning 2 55011271\n"
     ]
    },
    {
     "name": "stderr",
     "output_type": "stream",
     "text": [
      "100%|██████████| 3492/3492 [00:20<00:00, 171.51it/s]\n"
     ]
    },
    {
     "name": "stdout",
     "output_type": "stream",
     "text": [
      "S11 Phoning 2 58860488\n"
     ]
    },
    {
     "name": "stderr",
     "output_type": "stream",
     "text": [
      "100%|██████████| 3492/3492 [00:20<00:00, 166.33it/s]\n"
     ]
    },
    {
     "name": "stdout",
     "output_type": "stream",
     "text": [
      "S11 Phoning 2 60457274\n"
     ]
    },
    {
     "name": "stderr",
     "output_type": "stream",
     "text": [
      "100%|██████████| 3492/3492 [00:20<00:00, 167.96it/s]\n"
     ]
    },
    {
     "name": "stdout",
     "output_type": "stream",
     "text": [
      "S11 Discussion 1 54138969\n"
     ]
    },
    {
     "name": "stderr",
     "output_type": "stream",
     "text": [
      "100%|██████████| 2684/2684 [00:15<00:00, 178.00it/s]\n"
     ]
    },
    {
     "name": "stdout",
     "output_type": "stream",
     "text": [
      "S11 Discussion 1 55011271\n"
     ]
    },
    {
     "name": "stderr",
     "output_type": "stream",
     "text": [
      "100%|██████████| 2684/2684 [00:14<00:00, 179.03it/s]\n"
     ]
    },
    {
     "name": "stdout",
     "output_type": "stream",
     "text": [
      "S11 Discussion 1 58860488\n"
     ]
    },
    {
     "name": "stderr",
     "output_type": "stream",
     "text": [
      "100%|██████████| 2684/2684 [00:14<00:00, 179.58it/s]\n"
     ]
    },
    {
     "name": "stdout",
     "output_type": "stream",
     "text": [
      "S11 Discussion 1 60457274\n"
     ]
    },
    {
     "name": "stderr",
     "output_type": "stream",
     "text": [
      "100%|██████████| 2684/2684 [00:15<00:00, 174.28it/s]\n"
     ]
    },
    {
     "name": "stdout",
     "output_type": "stream",
     "text": [
      "S11 Greeting 2 54138969\n"
     ]
    },
    {
     "name": "stderr",
     "output_type": "stream",
     "text": [
      "100%|██████████| 1695/1695 [00:07<00:00, 215.43it/s]\n"
     ]
    },
    {
     "name": "stdout",
     "output_type": "stream",
     "text": [
      "S11 Greeting 2 55011271\n"
     ]
    },
    {
     "name": "stderr",
     "output_type": "stream",
     "text": [
      "100%|██████████| 1695/1695 [00:07<00:00, 216.26it/s]\n"
     ]
    },
    {
     "name": "stdout",
     "output_type": "stream",
     "text": [
      "S11 Greeting 2 58860488\n"
     ]
    },
    {
     "name": "stderr",
     "output_type": "stream",
     "text": [
      "100%|██████████| 1695/1695 [00:07<00:00, 218.93it/s]\n"
     ]
    },
    {
     "name": "stdout",
     "output_type": "stream",
     "text": [
      "S11 Greeting 2 60457274\n"
     ]
    },
    {
     "name": "stderr",
     "output_type": "stream",
     "text": [
      "100%|██████████| 1695/1695 [00:07<00:00, 217.66it/s]\n"
     ]
    },
    {
     "name": "stdout",
     "output_type": "stream",
     "text": [
      "S11 WalkTogether 54138969\n"
     ]
    },
    {
     "name": "stderr",
     "output_type": "stream",
     "text": [
      "100%|██████████| 1360/1360 [00:07<00:00, 189.32it/s]\n"
     ]
    },
    {
     "name": "stdout",
     "output_type": "stream",
     "text": [
      "S11 WalkTogether 55011271\n"
     ]
    },
    {
     "name": "stderr",
     "output_type": "stream",
     "text": [
      "100%|██████████| 1360/1360 [00:07<00:00, 188.75it/s]\n"
     ]
    },
    {
     "name": "stdout",
     "output_type": "stream",
     "text": [
      "S11 WalkTogether 58860488\n"
     ]
    },
    {
     "name": "stderr",
     "output_type": "stream",
     "text": [
      "100%|██████████| 1360/1360 [00:07<00:00, 190.31it/s]\n"
     ]
    },
    {
     "name": "stdout",
     "output_type": "stream",
     "text": [
      "S11 WalkTogether 60457274\n"
     ]
    },
    {
     "name": "stderr",
     "output_type": "stream",
     "text": [
      "100%|██████████| 1360/1360 [00:07<00:00, 188.17it/s]\n"
     ]
    },
    {
     "name": "stdout",
     "output_type": "stream",
     "text": [
      "S11 Sitting 1 54138969\n"
     ]
    },
    {
     "name": "stderr",
     "output_type": "stream",
     "text": [
      "100%|██████████| 1857/1857 [00:11<00:00, 167.06it/s]\n"
     ]
    },
    {
     "name": "stdout",
     "output_type": "stream",
     "text": [
      "S11 Sitting 1 55011271\n"
     ]
    },
    {
     "name": "stderr",
     "output_type": "stream",
     "text": [
      "100%|██████████| 1857/1857 [00:11<00:00, 168.53it/s]\n"
     ]
    },
    {
     "name": "stdout",
     "output_type": "stream",
     "text": [
      "S11 Sitting 1 58860488\n"
     ]
    },
    {
     "name": "stderr",
     "output_type": "stream",
     "text": [
      "100%|██████████| 1857/1857 [00:11<00:00, 168.49it/s]\n"
     ]
    },
    {
     "name": "stdout",
     "output_type": "stream",
     "text": [
      "S11 Sitting 1 60457274\n"
     ]
    },
    {
     "name": "stderr",
     "output_type": "stream",
     "text": [
      "100%|██████████| 1857/1857 [00:11<00:00, 167.98it/s]\n"
     ]
    },
    {
     "name": "stdout",
     "output_type": "stream",
     "text": [
      "S11 SittingDown 54138969\n"
     ]
    },
    {
     "name": "stderr",
     "output_type": "stream",
     "text": [
      "100%|██████████| 1841/1841 [00:11<00:00, 158.33it/s]\n"
     ]
    },
    {
     "name": "stdout",
     "output_type": "stream",
     "text": [
      "S11 SittingDown 55011271\n"
     ]
    },
    {
     "name": "stderr",
     "output_type": "stream",
     "text": [
      "100%|██████████| 1841/1841 [00:11<00:00, 160.09it/s]\n"
     ]
    },
    {
     "name": "stdout",
     "output_type": "stream",
     "text": [
      "S11 SittingDown 58860488\n"
     ]
    },
    {
     "name": "stderr",
     "output_type": "stream",
     "text": [
      "100%|██████████| 1841/1841 [00:11<00:00, 155.07it/s]\n"
     ]
    },
    {
     "name": "stdout",
     "output_type": "stream",
     "text": [
      "S11 SittingDown 60457274\n"
     ]
    },
    {
     "name": "stderr",
     "output_type": "stream",
     "text": [
      "100%|██████████| 1841/1841 [00:11<00:00, 157.10it/s]\n"
     ]
    },
    {
     "name": "stdout",
     "output_type": "stream",
     "text": [
      "S11 SittingDown 1 54138969\n"
     ]
    },
    {
     "name": "stderr",
     "output_type": "stream",
     "text": [
      "100%|██████████| 2004/2004 [00:12<00:00, 154.48it/s]\n"
     ]
    },
    {
     "name": "stdout",
     "output_type": "stream",
     "text": [
      "S11 SittingDown 1 55011271\n"
     ]
    },
    {
     "name": "stderr",
     "output_type": "stream",
     "text": [
      "100%|██████████| 2004/2004 [00:12<00:00, 157.84it/s]\n"
     ]
    },
    {
     "name": "stdout",
     "output_type": "stream",
     "text": [
      "S11 SittingDown 1 58860488\n"
     ]
    },
    {
     "name": "stderr",
     "output_type": "stream",
     "text": [
      "100%|██████████| 2004/2004 [00:12<00:00, 156.95it/s]\n"
     ]
    },
    {
     "name": "stdout",
     "output_type": "stream",
     "text": [
      "S11 SittingDown 1 60457274\n"
     ]
    },
    {
     "name": "stderr",
     "output_type": "stream",
     "text": [
      "100%|██████████| 2004/2004 [00:12<00:00, 154.77it/s]\n"
     ]
    },
    {
     "name": "stdout",
     "output_type": "stream",
     "text": [
      "S11 Directions 1 54138969\n"
     ]
    },
    {
     "name": "stderr",
     "output_type": "stream",
     "text": [
      "100%|██████████| 1552/1552 [00:07<00:00, 200.29it/s]\n"
     ]
    },
    {
     "name": "stdout",
     "output_type": "stream",
     "text": [
      "S11 Directions 1 55011271\n"
     ]
    },
    {
     "name": "stderr",
     "output_type": "stream",
     "text": [
      "100%|██████████| 1552/1552 [00:07<00:00, 202.73it/s]\n"
     ]
    },
    {
     "name": "stdout",
     "output_type": "stream",
     "text": [
      "S11 Directions 1 58860488\n"
     ]
    },
    {
     "name": "stderr",
     "output_type": "stream",
     "text": [
      "100%|██████████| 1552/1552 [00:07<00:00, 204.49it/s]\n"
     ]
    },
    {
     "name": "stdout",
     "output_type": "stream",
     "text": [
      "S11 Directions 1 60457274\n"
     ]
    },
    {
     "name": "stderr",
     "output_type": "stream",
     "text": [
      "100%|██████████| 1552/1552 [00:07<00:00, 198.33it/s]\n"
     ]
    },
    {
     "name": "stdout",
     "output_type": "stream",
     "text": [
      "S11 Purchases 54138969\n"
     ]
    },
    {
     "name": "stderr",
     "output_type": "stream",
     "text": [
      "100%|██████████| 1040/1040 [00:04<00:00, 211.18it/s]\n"
     ]
    },
    {
     "name": "stdout",
     "output_type": "stream",
     "text": [
      "S11 Purchases 55011271\n"
     ]
    },
    {
     "name": "stderr",
     "output_type": "stream",
     "text": [
      "100%|██████████| 1040/1040 [00:04<00:00, 210.75it/s]\n"
     ]
    },
    {
     "name": "stdout",
     "output_type": "stream",
     "text": [
      "S11 Purchases 58860488\n"
     ]
    },
    {
     "name": "stderr",
     "output_type": "stream",
     "text": [
      "100%|██████████| 1040/1040 [00:04<00:00, 213.22it/s]\n"
     ]
    },
    {
     "name": "stdout",
     "output_type": "stream",
     "text": [
      "S11 Purchases 60457274\n"
     ]
    },
    {
     "name": "stderr",
     "output_type": "stream",
     "text": [
      "100%|██████████| 1040/1040 [00:05<00:00, 207.53it/s]\n"
     ]
    },
    {
     "name": "stdout",
     "output_type": "stream",
     "text": [
      "S11 Walking 1 54138969\n"
     ]
    },
    {
     "name": "stderr",
     "output_type": "stream",
     "text": [
      "100%|██████████| 1637/1637 [00:09<00:00, 174.28it/s]\n"
     ]
    },
    {
     "name": "stdout",
     "output_type": "stream",
     "text": [
      "S11 Walking 1 55011271\n"
     ]
    },
    {
     "name": "stderr",
     "output_type": "stream",
     "text": [
      "100%|██████████| 1637/1637 [00:09<00:00, 175.58it/s]\n"
     ]
    },
    {
     "name": "stdout",
     "output_type": "stream",
     "text": [
      "S11 Walking 1 58860488\n"
     ]
    },
    {
     "name": "stderr",
     "output_type": "stream",
     "text": [
      "100%|██████████| 1637/1637 [00:09<00:00, 175.79it/s]\n"
     ]
    },
    {
     "name": "stdout",
     "output_type": "stream",
     "text": [
      "S11 Walking 1 60457274\n"
     ]
    },
    {
     "name": "stderr",
     "output_type": "stream",
     "text": [
      "100%|██████████| 1637/1637 [00:09<00:00, 176.33it/s]\n"
     ]
    },
    {
     "name": "stdout",
     "output_type": "stream",
     "text": [
      "S11 WalkDog 1 54138969\n"
     ]
    },
    {
     "name": "stderr",
     "output_type": "stream",
     "text": [
      "100%|██████████| 1187/1187 [00:06<00:00, 197.71it/s]\n"
     ]
    },
    {
     "name": "stdout",
     "output_type": "stream",
     "text": [
      "S11 WalkDog 1 55011271\n"
     ]
    },
    {
     "name": "stderr",
     "output_type": "stream",
     "text": [
      "100%|██████████| 1187/1187 [00:05<00:00, 203.59it/s]\n"
     ]
    },
    {
     "name": "stdout",
     "output_type": "stream",
     "text": [
      "S11 WalkDog 1 58860488\n"
     ]
    },
    {
     "name": "stderr",
     "output_type": "stream",
     "text": [
      "100%|██████████| 1187/1187 [00:05<00:00, 206.89it/s]\n"
     ]
    },
    {
     "name": "stdout",
     "output_type": "stream",
     "text": [
      "S11 WalkDog 1 60457274\n"
     ]
    },
    {
     "name": "stderr",
     "output_type": "stream",
     "text": [
      "100%|██████████| 1187/1187 [00:05<00:00, 203.94it/s]\n"
     ]
    },
    {
     "name": "stdout",
     "output_type": "stream",
     "text": [
      "S11 Waiting 54138969\n"
     ]
    },
    {
     "name": "stderr",
     "output_type": "stream",
     "text": [
      "100%|██████████| 2262/2262 [00:12<00:00, 188.01it/s]\n"
     ]
    },
    {
     "name": "stdout",
     "output_type": "stream",
     "text": [
      "S11 Waiting 55011271\n"
     ]
    },
    {
     "name": "stderr",
     "output_type": "stream",
     "text": [
      "100%|██████████| 2262/2262 [00:11<00:00, 190.16it/s]\n"
     ]
    },
    {
     "name": "stdout",
     "output_type": "stream",
     "text": [
      "S11 Waiting 58860488\n"
     ]
    },
    {
     "name": "stderr",
     "output_type": "stream",
     "text": [
      "100%|██████████| 2262/2262 [00:12<00:00, 185.55it/s]\n"
     ]
    },
    {
     "name": "stdout",
     "output_type": "stream",
     "text": [
      "S11 Waiting 60457274\n"
     ]
    },
    {
     "name": "stderr",
     "output_type": "stream",
     "text": [
      "100%|██████████| 2262/2262 [00:11<00:00, 189.06it/s]\n"
     ]
    },
    {
     "name": "stdout",
     "output_type": "stream",
     "text": [
      "S11 Walking 54138969\n"
     ]
    },
    {
     "name": "stderr",
     "output_type": "stream",
     "text": [
      "100%|██████████| 1621/1621 [00:09<00:00, 175.07it/s]\n"
     ]
    },
    {
     "name": "stdout",
     "output_type": "stream",
     "text": [
      "S11 Walking 55011271\n"
     ]
    },
    {
     "name": "stderr",
     "output_type": "stream",
     "text": [
      "100%|██████████| 1621/1621 [00:09<00:00, 175.97it/s]\n"
     ]
    },
    {
     "name": "stdout",
     "output_type": "stream",
     "text": [
      "S11 Walking 58860488\n"
     ]
    },
    {
     "name": "stderr",
     "output_type": "stream",
     "text": [
      "100%|██████████| 1621/1621 [00:09<00:00, 176.62it/s]\n"
     ]
    },
    {
     "name": "stdout",
     "output_type": "stream",
     "text": [
      "S11 Walking 60457274\n"
     ]
    },
    {
     "name": "stderr",
     "output_type": "stream",
     "text": [
      "100%|██████████| 1621/1621 [00:09<00:00, 173.04it/s]\n"
     ]
    },
    {
     "name": "stdout",
     "output_type": "stream",
     "text": [
      "S11 Eating 54138969\n"
     ]
    },
    {
     "name": "stderr",
     "output_type": "stream",
     "text": [
      "100%|██████████| 2203/2203 [00:11<00:00, 196.01it/s]\n"
     ]
    },
    {
     "name": "stdout",
     "output_type": "stream",
     "text": [
      "S11 Eating 55011271\n"
     ]
    },
    {
     "name": "stderr",
     "output_type": "stream",
     "text": [
      "100%|██████████| 2203/2203 [00:11<00:00, 198.38it/s]\n"
     ]
    },
    {
     "name": "stdout",
     "output_type": "stream",
     "text": [
      "S11 Eating 58860488\n"
     ]
    },
    {
     "name": "stderr",
     "output_type": "stream",
     "text": [
      "100%|██████████| 2203/2203 [00:11<00:00, 198.35it/s]\n"
     ]
    },
    {
     "name": "stdout",
     "output_type": "stream",
     "text": [
      "S11 Eating 60457274\n"
     ]
    },
    {
     "name": "stderr",
     "output_type": "stream",
     "text": [
      "100%|██████████| 2203/2203 [00:10<00:00, 201.39it/s]\n"
     ]
    },
    {
     "name": "stdout",
     "output_type": "stream",
     "text": [
      "S11 Posing 54138969\n"
     ]
    },
    {
     "name": "stderr",
     "output_type": "stream",
     "text": [
      "100%|██████████| 1407/1407 [00:07<00:00, 184.65it/s]\n"
     ]
    },
    {
     "name": "stdout",
     "output_type": "stream",
     "text": [
      "S11 Posing 55011271\n"
     ]
    },
    {
     "name": "stderr",
     "output_type": "stream",
     "text": [
      "100%|██████████| 1407/1407 [00:07<00:00, 188.86it/s]\n"
     ]
    },
    {
     "name": "stdout",
     "output_type": "stream",
     "text": [
      "S11 Posing 58860488\n"
     ]
    },
    {
     "name": "stderr",
     "output_type": "stream",
     "text": [
      "100%|██████████| 1407/1407 [00:07<00:00, 191.93it/s]\n"
     ]
    },
    {
     "name": "stdout",
     "output_type": "stream",
     "text": [
      "S11 Posing 60457274\n"
     ]
    },
    {
     "name": "stderr",
     "output_type": "stream",
     "text": [
      "100%|██████████| 1407/1407 [00:07<00:00, 191.13it/s]\n"
     ]
    },
    {
     "name": "stdout",
     "output_type": "stream",
     "text": [
      "S11 Greeting 54138969\n"
     ]
    },
    {
     "name": "stderr",
     "output_type": "stream",
     "text": [
      "100%|██████████| 1808/1808 [00:08<00:00, 204.10it/s]\n"
     ]
    },
    {
     "name": "stdout",
     "output_type": "stream",
     "text": [
      "S11 Greeting 55011271\n"
     ]
    },
    {
     "name": "stderr",
     "output_type": "stream",
     "text": [
      "100%|██████████| 1808/1808 [00:08<00:00, 206.31it/s]\n"
     ]
    },
    {
     "name": "stdout",
     "output_type": "stream",
     "text": [
      "S11 Greeting 58860488\n"
     ]
    },
    {
     "name": "stderr",
     "output_type": "stream",
     "text": [
      "100%|██████████| 1808/1808 [00:08<00:00, 205.93it/s]\n"
     ]
    },
    {
     "name": "stdout",
     "output_type": "stream",
     "text": [
      "S11 Greeting 60457274\n"
     ]
    },
    {
     "name": "stderr",
     "output_type": "stream",
     "text": [
      "100%|██████████| 1808/1808 [00:08<00:00, 207.17it/s]\n"
     ]
    },
    {
     "name": "stdout",
     "output_type": "stream",
     "text": [
      "S11 Posing 1 54138969\n"
     ]
    },
    {
     "name": "stderr",
     "output_type": "stream",
     "text": [
      "100%|██████████| 1481/1481 [00:07<00:00, 189.98it/s]\n"
     ]
    },
    {
     "name": "stdout",
     "output_type": "stream",
     "text": [
      "S11 Posing 1 55011271\n"
     ]
    },
    {
     "name": "stderr",
     "output_type": "stream",
     "text": [
      "100%|██████████| 1481/1481 [00:07<00:00, 190.98it/s]\n"
     ]
    },
    {
     "name": "stdout",
     "output_type": "stream",
     "text": [
      "S11 Posing 1 58860488\n"
     ]
    },
    {
     "name": "stderr",
     "output_type": "stream",
     "text": [
      "100%|██████████| 1481/1481 [00:07<00:00, 191.68it/s]\n"
     ]
    },
    {
     "name": "stdout",
     "output_type": "stream",
     "text": [
      "S11 Posing 1 60457274\n"
     ]
    },
    {
     "name": "stderr",
     "output_type": "stream",
     "text": [
      "100%|██████████| 1481/1481 [00:07<00:00, 188.50it/s]\n"
     ]
    },
    {
     "name": "stdout",
     "output_type": "stream",
     "text": [
      "S11 Phoning 3 54138969\n"
     ]
    },
    {
     "name": "stderr",
     "output_type": "stream",
     "text": [
      "100%|██████████| 3390/3390 [00:19<00:00, 170.37it/s]\n"
     ]
    },
    {
     "name": "stdout",
     "output_type": "stream",
     "text": [
      "S11 Phoning 3 55011271\n"
     ]
    },
    {
     "name": "stderr",
     "output_type": "stream",
     "text": [
      "100%|██████████| 3390/3390 [00:19<00:00, 172.20it/s]\n"
     ]
    },
    {
     "name": "stdout",
     "output_type": "stream",
     "text": [
      "S11 Phoning 3 58860488\n"
     ]
    },
    {
     "name": "stderr",
     "output_type": "stream",
     "text": [
      "100%|██████████| 3390/3390 [00:19<00:00, 172.99it/s]\n"
     ]
    },
    {
     "name": "stdout",
     "output_type": "stream",
     "text": [
      "S11 Phoning 3 60457274\n"
     ]
    },
    {
     "name": "stderr",
     "output_type": "stream",
     "text": [
      "100%|██████████| 3390/3390 [00:19<00:00, 170.71it/s]\n"
     ]
    },
    {
     "name": "stdout",
     "output_type": "stream",
     "text": [
      "S11 WalkDog 54138969\n"
     ]
    },
    {
     "name": "stderr",
     "output_type": "stream",
     "text": [
      "100%|██████████| 1435/1435 [00:07<00:00, 199.52it/s]\n"
     ]
    },
    {
     "name": "stdout",
     "output_type": "stream",
     "text": [
      "S11 WalkDog 55011271\n"
     ]
    },
    {
     "name": "stderr",
     "output_type": "stream",
     "text": [
      "100%|██████████| 1435/1435 [00:07<00:00, 200.88it/s]\n"
     ]
    },
    {
     "name": "stdout",
     "output_type": "stream",
     "text": [
      "S11 WalkDog 58860488\n"
     ]
    },
    {
     "name": "stderr",
     "output_type": "stream",
     "text": [
      "100%|██████████| 1435/1435 [00:07<00:00, 201.92it/s]\n"
     ]
    },
    {
     "name": "stdout",
     "output_type": "stream",
     "text": [
      "S11 WalkDog 60457274\n"
     ]
    },
    {
     "name": "stderr",
     "output_type": "stream",
     "text": [
      "100%|██████████| 1435/1435 [00:07<00:00, 200.07it/s]\n"
     ]
    },
    {
     "name": "stdout",
     "output_type": "stream",
     "text": [
      "S11 Photo 54138969\n"
     ]
    },
    {
     "name": "stderr",
     "output_type": "stream",
     "text": [
      "100%|██████████| 1990/1990 [00:10<00:00, 196.23it/s]\n"
     ]
    },
    {
     "name": "stdout",
     "output_type": "stream",
     "text": [
      "S11 Photo 55011271\n"
     ]
    },
    {
     "name": "stderr",
     "output_type": "stream",
     "text": [
      "100%|██████████| 1990/1990 [00:09<00:00, 206.05it/s]\n"
     ]
    },
    {
     "name": "stdout",
     "output_type": "stream",
     "text": [
      "S11 Photo 58860488\n"
     ]
    },
    {
     "name": "stderr",
     "output_type": "stream",
     "text": [
      "100%|██████████| 1990/1990 [00:09<00:00, 206.42it/s]\n"
     ]
    },
    {
     "name": "stdout",
     "output_type": "stream",
     "text": [
      "S11 Photo 60457274\n"
     ]
    },
    {
     "name": "stderr",
     "output_type": "stream",
     "text": [
      "100%|██████████| 1990/1990 [00:09<00:00, 204.95it/s]\n"
     ]
    },
    {
     "name": "stdout",
     "output_type": "stream",
     "text": [
      "S11 Purchases 1 54138969\n"
     ]
    },
    {
     "name": "stderr",
     "output_type": "stream",
     "text": [
      "100%|██████████| 1026/1026 [00:04<00:00, 211.76it/s]\n"
     ]
    },
    {
     "name": "stdout",
     "output_type": "stream",
     "text": [
      "S11 Purchases 1 55011271\n"
     ]
    },
    {
     "name": "stderr",
     "output_type": "stream",
     "text": [
      "100%|██████████| 1026/1026 [00:04<00:00, 212.02it/s]\n"
     ]
    },
    {
     "name": "stdout",
     "output_type": "stream",
     "text": [
      "S11 Purchases 1 58860488\n"
     ]
    },
    {
     "name": "stderr",
     "output_type": "stream",
     "text": [
      "100%|██████████| 1026/1026 [00:04<00:00, 213.57it/s]\n"
     ]
    },
    {
     "name": "stdout",
     "output_type": "stream",
     "text": [
      "S11 Purchases 1 60457274\n"
     ]
    },
    {
     "name": "stderr",
     "output_type": "stream",
     "text": [
      "100%|██████████| 1026/1026 [00:04<00:00, 209.42it/s]\n"
     ]
    },
    {
     "name": "stdout",
     "output_type": "stream",
     "text": [
      "S11 Eating 1 54138969\n"
     ]
    },
    {
     "name": "stderr",
     "output_type": "stream",
     "text": [
      "100%|██████████| 2275/2275 [00:11<00:00, 199.95it/s]\n"
     ]
    },
    {
     "name": "stdout",
     "output_type": "stream",
     "text": [
      "S11 Eating 1 55011271\n"
     ]
    },
    {
     "name": "stderr",
     "output_type": "stream",
     "text": [
      "100%|██████████| 2275/2275 [00:11<00:00, 200.47it/s]\n"
     ]
    },
    {
     "name": "stdout",
     "output_type": "stream",
     "text": [
      "S11 Eating 1 58860488\n"
     ]
    },
    {
     "name": "stderr",
     "output_type": "stream",
     "text": [
      "100%|██████████| 2275/2275 [00:11<00:00, 201.87it/s]\n"
     ]
    },
    {
     "name": "stdout",
     "output_type": "stream",
     "text": [
      "S11 Eating 1 60457274\n"
     ]
    },
    {
     "name": "stderr",
     "output_type": "stream",
     "text": [
      "100%|██████████| 2275/2275 [00:11<00:00, 199.18it/s]\n"
     ]
    },
    {
     "name": "stdout",
     "output_type": "stream",
     "text": [
      "S1 Waiting 1 54138969\n"
     ]
    },
    {
     "name": "stderr",
     "output_type": "stream",
     "text": [
      "100%|██████████| 1440/1440 [00:08<00:00, 169.99it/s]\n"
     ]
    },
    {
     "name": "stdout",
     "output_type": "stream",
     "text": [
      "S1 Waiting 1 55011271\n"
     ]
    },
    {
     "name": "stderr",
     "output_type": "stream",
     "text": [
      "100%|██████████| 1440/1440 [00:08<00:00, 172.06it/s]\n"
     ]
    },
    {
     "name": "stdout",
     "output_type": "stream",
     "text": [
      "S1 Waiting 1 58860488\n"
     ]
    },
    {
     "name": "stderr",
     "output_type": "stream",
     "text": [
      "100%|██████████| 1440/1440 [00:08<00:00, 171.74it/s]\n"
     ]
    },
    {
     "name": "stdout",
     "output_type": "stream",
     "text": [
      "S1 Waiting 1 60457274\n"
     ]
    },
    {
     "name": "stderr",
     "output_type": "stream",
     "text": [
      "100%|██████████| 1440/1440 [00:08<00:00, 171.13it/s]\n"
     ]
    },
    {
     "name": "stdout",
     "output_type": "stream",
     "text": [
      "S1 Photo 1 54138969\n"
     ]
    },
    {
     "name": "stderr",
     "output_type": "stream",
     "text": [
      "100%|██████████| 1074/1074 [00:06<00:00, 176.04it/s]\n"
     ]
    },
    {
     "name": "stdout",
     "output_type": "stream",
     "text": [
      "S1 Photo 1 55011271\n"
     ]
    },
    {
     "name": "stderr",
     "output_type": "stream",
     "text": [
      "100%|██████████| 1074/1074 [00:06<00:00, 177.40it/s]\n"
     ]
    },
    {
     "name": "stdout",
     "output_type": "stream",
     "text": [
      "S1 Photo 1 58860488\n"
     ]
    },
    {
     "name": "stderr",
     "output_type": "stream",
     "text": [
      "100%|██████████| 1074/1074 [00:06<00:00, 176.58it/s]\n"
     ]
    },
    {
     "name": "stdout",
     "output_type": "stream",
     "text": [
      "S1 Photo 1 60457274\n"
     ]
    },
    {
     "name": "stderr",
     "output_type": "stream",
     "text": [
      "100%|██████████| 1074/1074 [00:06<00:00, 173.68it/s]\n"
     ]
    },
    {
     "name": "stdout",
     "output_type": "stream",
     "text": [
      "S1 Smoking 54138969\n"
     ]
    },
    {
     "name": "stderr",
     "output_type": "stream",
     "text": [
      "100%|██████████| 2478/2478 [00:16<00:00, 150.61it/s]\n"
     ]
    },
    {
     "name": "stdout",
     "output_type": "stream",
     "text": [
      "S1 Smoking 55011271\n"
     ]
    },
    {
     "name": "stderr",
     "output_type": "stream",
     "text": [
      "100%|██████████| 2478/2478 [00:16<00:00, 152.81it/s]\n"
     ]
    },
    {
     "name": "stdout",
     "output_type": "stream",
     "text": [
      "S1 Smoking 58860488\n"
     ]
    },
    {
     "name": "stderr",
     "output_type": "stream",
     "text": [
      "100%|██████████| 2478/2478 [00:16<00:00, 152.41it/s]\n"
     ]
    },
    {
     "name": "stdout",
     "output_type": "stream",
     "text": [
      "S1 Smoking 60457274\n"
     ]
    },
    {
     "name": "stderr",
     "output_type": "stream",
     "text": [
      "100%|██████████| 2478/2478 [00:16<00:00, 153.20it/s]\n"
     ]
    },
    {
     "name": "stdout",
     "output_type": "stream",
     "text": [
      "S1 Eating 2 54138969\n"
     ]
    },
    {
     "name": "stderr",
     "output_type": "stream",
     "text": [
      "100%|██████████| 2357/2357 [00:14<00:00, 158.09it/s]\n"
     ]
    },
    {
     "name": "stdout",
     "output_type": "stream",
     "text": [
      "S1 Eating 2 55011271\n"
     ]
    },
    {
     "name": "stderr",
     "output_type": "stream",
     "text": [
      "100%|██████████| 2357/2357 [00:14<00:00, 158.50it/s]\n"
     ]
    },
    {
     "name": "stdout",
     "output_type": "stream",
     "text": [
      "S1 Eating 2 58860488\n"
     ]
    },
    {
     "name": "stderr",
     "output_type": "stream",
     "text": [
      "100%|██████████| 2357/2357 [00:14<00:00, 157.26it/s]\n"
     ]
    },
    {
     "name": "stdout",
     "output_type": "stream",
     "text": [
      "S1 Eating 2 60457274\n"
     ]
    },
    {
     "name": "stderr",
     "output_type": "stream",
     "text": [
      "100%|██████████| 2357/2357 [00:14<00:00, 158.51it/s]\n"
     ]
    },
    {
     "name": "stdout",
     "output_type": "stream",
     "text": [
      "S1 WalkTogether 1 54138969\n"
     ]
    },
    {
     "name": "stderr",
     "output_type": "stream",
     "text": [
      "100%|██████████| 1275/1275 [00:07<00:00, 173.00it/s]\n"
     ]
    },
    {
     "name": "stdout",
     "output_type": "stream",
     "text": [
      "S1 WalkTogether 1 55011271\n"
     ]
    },
    {
     "name": "stderr",
     "output_type": "stream",
     "text": [
      "100%|██████████| 1275/1275 [00:07<00:00, 177.76it/s]\n"
     ]
    },
    {
     "name": "stdout",
     "output_type": "stream",
     "text": [
      "S1 WalkTogether 1 58860488\n"
     ]
    },
    {
     "name": "stderr",
     "output_type": "stream",
     "text": [
      "100%|██████████| 1275/1275 [00:07<00:00, 163.62it/s]\n"
     ]
    },
    {
     "name": "stdout",
     "output_type": "stream",
     "text": [
      "S1 WalkTogether 1 60457274\n"
     ]
    },
    {
     "name": "stderr",
     "output_type": "stream",
     "text": [
      "100%|██████████| 1275/1275 [00:07<00:00, 173.42it/s]\n"
     ]
    },
    {
     "name": "stdout",
     "output_type": "stream",
     "text": [
      "S1 Greeting 1 54138969\n"
     ]
    },
    {
     "name": "stderr",
     "output_type": "stream",
     "text": [
      "100%|██████████| 1265/1265 [00:06<00:00, 186.44it/s]\n"
     ]
    },
    {
     "name": "stdout",
     "output_type": "stream",
     "text": [
      "S1 Greeting 1 55011271\n"
     ]
    },
    {
     "name": "stderr",
     "output_type": "stream",
     "text": [
      "100%|██████████| 1265/1265 [00:06<00:00, 187.41it/s]\n"
     ]
    },
    {
     "name": "stdout",
     "output_type": "stream",
     "text": [
      "S1 Greeting 1 58860488\n"
     ]
    },
    {
     "name": "stderr",
     "output_type": "stream",
     "text": [
      "100%|██████████| 1265/1265 [00:06<00:00, 188.39it/s]\n"
     ]
    },
    {
     "name": "stdout",
     "output_type": "stream",
     "text": [
      "S1 Greeting 1 60457274\n"
     ]
    },
    {
     "name": "stderr",
     "output_type": "stream",
     "text": [
      "100%|██████████| 1265/1265 [00:06<00:00, 188.67it/s]\n"
     ]
    },
    {
     "name": "stdout",
     "output_type": "stream",
     "text": [
      "S1 Phoning 54138969\n"
     ]
    },
    {
     "name": "stderr",
     "output_type": "stream",
     "text": [
      "100%|██████████| 2266/2266 [00:14<00:00, 153.46it/s]\n"
     ]
    },
    {
     "name": "stdout",
     "output_type": "stream",
     "text": [
      "S1 Phoning 55011271\n"
     ]
    },
    {
     "name": "stderr",
     "output_type": "stream",
     "text": [
      "100%|██████████| 2266/2266 [00:14<00:00, 154.69it/s]\n"
     ]
    },
    {
     "name": "stdout",
     "output_type": "stream",
     "text": [
      "S1 Phoning 58860488\n"
     ]
    },
    {
     "name": "stderr",
     "output_type": "stream",
     "text": [
      "100%|██████████| 2266/2266 [00:14<00:00, 154.59it/s]\n"
     ]
    },
    {
     "name": "stdout",
     "output_type": "stream",
     "text": [
      "S1 Phoning 60457274\n"
     ]
    },
    {
     "name": "stderr",
     "output_type": "stream",
     "text": [
      "100%|██████████| 2266/2266 [00:14<00:00, 153.00it/s]\n"
     ]
    },
    {
     "name": "stdout",
     "output_type": "stream",
     "text": [
      "S1 Phoning 1 54138969\n"
     ]
    },
    {
     "name": "stderr",
     "output_type": "stream",
     "text": [
      "100%|██████████| 2636/2636 [00:16<00:00, 158.05it/s]\n"
     ]
    },
    {
     "name": "stdout",
     "output_type": "stream",
     "text": [
      "S1 Phoning 1 55011271\n"
     ]
    },
    {
     "name": "stderr",
     "output_type": "stream",
     "text": [
      "100%|██████████| 2636/2636 [00:16<00:00, 157.68it/s]\n"
     ]
    },
    {
     "name": "stdout",
     "output_type": "stream",
     "text": [
      "S1 Phoning 1 58860488\n"
     ]
    },
    {
     "name": "stderr",
     "output_type": "stream",
     "text": [
      "100%|██████████| 2636/2636 [00:16<00:00, 159.17it/s]\n"
     ]
    },
    {
     "name": "stdout",
     "output_type": "stream",
     "text": [
      "S1 Phoning 1 60457274\n"
     ]
    },
    {
     "name": "stderr",
     "output_type": "stream",
     "text": [
      "100%|██████████| 2636/2636 [00:16<00:00, 160.07it/s]\n"
     ]
    },
    {
     "name": "stdout",
     "output_type": "stream",
     "text": [
      "S1 Smoking 1 54138969\n"
     ]
    },
    {
     "name": "stderr",
     "output_type": "stream",
     "text": [
      "100%|██████████| 2611/2611 [00:17<00:00, 147.07it/s]\n"
     ]
    },
    {
     "name": "stdout",
     "output_type": "stream",
     "text": [
      "S1 Smoking 1 55011271\n"
     ]
    },
    {
     "name": "stderr",
     "output_type": "stream",
     "text": [
      "100%|██████████| 2611/2611 [00:17<00:00, 148.60it/s]\n"
     ]
    },
    {
     "name": "stdout",
     "output_type": "stream",
     "text": [
      "S1 Smoking 1 58860488\n"
     ]
    },
    {
     "name": "stderr",
     "output_type": "stream",
     "text": [
      "100%|██████████| 2611/2611 [00:17<00:00, 148.23it/s]\n"
     ]
    },
    {
     "name": "stdout",
     "output_type": "stream",
     "text": [
      "S1 Smoking 1 60457274\n"
     ]
    },
    {
     "name": "stderr",
     "output_type": "stream",
     "text": [
      "100%|██████████| 2611/2611 [00:17<00:00, 148.71it/s]\n"
     ]
    },
    {
     "name": "stdout",
     "output_type": "stream",
     "text": [
      "S1 Discussion 1 54138969\n"
     ]
    },
    {
     "name": "stderr",
     "output_type": "stream",
     "text": [
      "100%|██████████| 3805/3805 [00:22<00:00, 170.98it/s]\n"
     ]
    },
    {
     "name": "stdout",
     "output_type": "stream",
     "text": [
      "S1 Discussion 1 55011271\n"
     ]
    },
    {
     "name": "stderr",
     "output_type": "stream",
     "text": [
      "100%|██████████| 3805/3805 [00:21<00:00, 174.64it/s]\n"
     ]
    },
    {
     "name": "stdout",
     "output_type": "stream",
     "text": [
      "S1 Discussion 1 58860488\n"
     ]
    },
    {
     "name": "stderr",
     "output_type": "stream",
     "text": [
      "100%|██████████| 3805/3805 [00:21<00:00, 174.68it/s]\n"
     ]
    },
    {
     "name": "stdout",
     "output_type": "stream",
     "text": [
      "S1 Discussion 1 60457274\n"
     ]
    },
    {
     "name": "stderr",
     "output_type": "stream",
     "text": [
      "100%|██████████| 3805/3805 [00:21<00:00, 177.09it/s]\n"
     ]
    },
    {
     "name": "stdout",
     "output_type": "stream",
     "text": [
      "S1 WalkTogether 54138969\n"
     ]
    },
    {
     "name": "stderr",
     "output_type": "stream",
     "text": [
      "100%|██████████| 1231/1231 [00:07<00:00, 166.01it/s]\n"
     ]
    },
    {
     "name": "stdout",
     "output_type": "stream",
     "text": [
      "S1 WalkTogether 55011271\n"
     ]
    },
    {
     "name": "stderr",
     "output_type": "stream",
     "text": [
      "100%|██████████| 1231/1231 [00:07<00:00, 168.53it/s]\n"
     ]
    },
    {
     "name": "stdout",
     "output_type": "stream",
     "text": [
      "S1 WalkTogether 58860488\n"
     ]
    },
    {
     "name": "stderr",
     "output_type": "stream",
     "text": [
      "100%|██████████| 1231/1231 [00:07<00:00, 164.28it/s]\n"
     ]
    },
    {
     "name": "stdout",
     "output_type": "stream",
     "text": [
      "S1 WalkTogether 60457274\n"
     ]
    },
    {
     "name": "stderr",
     "output_type": "stream",
     "text": [
      "100%|██████████| 1231/1231 [00:07<00:00, 164.38it/s]\n"
     ]
    },
    {
     "name": "stdout",
     "output_type": "stream",
     "text": [
      "S1 Sitting 1 54138969\n"
     ]
    },
    {
     "name": "stderr",
     "output_type": "stream",
     "text": [
      "100%|██████████| 3304/3304 [00:22<00:00, 147.97it/s]\n"
     ]
    },
    {
     "name": "stdout",
     "output_type": "stream",
     "text": [
      "S1 Sitting 1 55011271\n"
     ]
    },
    {
     "name": "stderr",
     "output_type": "stream",
     "text": [
      "100%|██████████| 3304/3304 [00:21<00:00, 152.88it/s]\n"
     ]
    },
    {
     "name": "stdout",
     "output_type": "stream",
     "text": [
      "S1 Sitting 1 58860488\n"
     ]
    },
    {
     "name": "stderr",
     "output_type": "stream",
     "text": [
      "100%|██████████| 3304/3304 [00:21<00:00, 152.80it/s]\n"
     ]
    },
    {
     "name": "stdout",
     "output_type": "stream",
     "text": [
      "S1 Sitting 1 60457274\n"
     ]
    },
    {
     "name": "stderr",
     "output_type": "stream",
     "text": [
      "100%|██████████| 3304/3304 [00:21<00:00, 152.23it/s]\n"
     ]
    },
    {
     "name": "stdout",
     "output_type": "stream",
     "text": [
      "S1 SittingDown 54138969\n"
     ]
    },
    {
     "name": "stderr",
     "output_type": "stream",
     "text": [
      "100%|██████████| 2742/2742 [00:20<00:00, 137.00it/s]\n"
     ]
    },
    {
     "name": "stdout",
     "output_type": "stream",
     "text": [
      "S1 SittingDown 55011271\n"
     ]
    },
    {
     "name": "stderr",
     "output_type": "stream",
     "text": [
      "100%|██████████| 2742/2742 [00:19<00:00, 138.93it/s]\n"
     ]
    },
    {
     "name": "stdout",
     "output_type": "stream",
     "text": [
      "S1 SittingDown 58860488\n"
     ]
    },
    {
     "name": "stderr",
     "output_type": "stream",
     "text": [
      "100%|██████████| 2742/2742 [00:19<00:00, 137.60it/s]\n"
     ]
    },
    {
     "name": "stdout",
     "output_type": "stream",
     "text": [
      "S1 SittingDown 60457274\n"
     ]
    },
    {
     "name": "stderr",
     "output_type": "stream",
     "text": [
      "100%|██████████| 2742/2742 [00:19<00:00, 137.34it/s]\n"
     ]
    },
    {
     "name": "stdout",
     "output_type": "stream",
     "text": [
      "S1 Directions 54138969\n"
     ]
    },
    {
     "name": "stderr",
     "output_type": "stream",
     "text": [
      "100%|██████████| 1612/1612 [00:08<00:00, 188.85it/s]\n"
     ]
    },
    {
     "name": "stdout",
     "output_type": "stream",
     "text": [
      "S1 Directions 55011271\n"
     ]
    },
    {
     "name": "stderr",
     "output_type": "stream",
     "text": [
      "100%|██████████| 1612/1612 [00:08<00:00, 188.78it/s]\n"
     ]
    },
    {
     "name": "stdout",
     "output_type": "stream",
     "text": [
      "S1 Directions 58860488\n"
     ]
    },
    {
     "name": "stderr",
     "output_type": "stream",
     "text": [
      "100%|██████████| 1612/1612 [00:08<00:00, 190.19it/s]\n"
     ]
    },
    {
     "name": "stdout",
     "output_type": "stream",
     "text": [
      "S1 Directions 60457274\n"
     ]
    },
    {
     "name": "stderr",
     "output_type": "stream",
     "text": [
      "100%|██████████| 1612/1612 [00:08<00:00, 189.29it/s]\n"
     ]
    },
    {
     "name": "stdout",
     "output_type": "stream",
     "text": [
      "S1 Directions 1 54138969\n"
     ]
    },
    {
     "name": "stderr",
     "output_type": "stream",
     "text": [
      "100%|██████████| 1383/1383 [00:07<00:00, 194.64it/s]\n"
     ]
    },
    {
     "name": "stdout",
     "output_type": "stream",
     "text": [
      "S1 Directions 1 55011271\n"
     ]
    },
    {
     "name": "stderr",
     "output_type": "stream",
     "text": [
      "100%|██████████| 1383/1383 [00:07<00:00, 195.33it/s]\n"
     ]
    },
    {
     "name": "stdout",
     "output_type": "stream",
     "text": [
      "S1 Directions 1 58860488\n"
     ]
    },
    {
     "name": "stderr",
     "output_type": "stream",
     "text": [
      "100%|██████████| 1383/1383 [00:07<00:00, 192.01it/s]\n"
     ]
    },
    {
     "name": "stdout",
     "output_type": "stream",
     "text": [
      "S1 Directions 1 60457274\n"
     ]
    },
    {
     "name": "stderr",
     "output_type": "stream",
     "text": [
      "100%|██████████| 1383/1383 [00:07<00:00, 194.31it/s]\n"
     ]
    },
    {
     "name": "stdout",
     "output_type": "stream",
     "text": [
      "S1 Purchases 54138969\n"
     ]
    },
    {
     "name": "stderr",
     "output_type": "stream",
     "text": [
      "100%|██████████| 1158/1158 [00:06<00:00, 174.13it/s]\n"
     ]
    },
    {
     "name": "stdout",
     "output_type": "stream",
     "text": [
      "S1 Purchases 55011271\n"
     ]
    },
    {
     "name": "stderr",
     "output_type": "stream",
     "text": [
      "100%|██████████| 1158/1158 [00:06<00:00, 175.73it/s]\n"
     ]
    },
    {
     "name": "stdout",
     "output_type": "stream",
     "text": [
      "S1 Purchases 58860488\n"
     ]
    },
    {
     "name": "stderr",
     "output_type": "stream",
     "text": [
      "100%|██████████| 1158/1158 [00:06<00:00, 175.79it/s]\n"
     ]
    },
    {
     "name": "stdout",
     "output_type": "stream",
     "text": [
      "S1 Purchases 60457274\n"
     ]
    },
    {
     "name": "stderr",
     "output_type": "stream",
     "text": [
      "100%|██████████| 1158/1158 [00:06<00:00, 175.85it/s]\n"
     ]
    },
    {
     "name": "stdout",
     "output_type": "stream",
     "text": [
      "S1 SittingDown 2 54138969\n"
     ]
    },
    {
     "name": "stderr",
     "output_type": "stream",
     "text": [
      "100%|██████████| 3023/3023 [00:21<00:00, 140.48it/s]\n"
     ]
    },
    {
     "name": "stdout",
     "output_type": "stream",
     "text": [
      "S1 SittingDown 2 55011271\n"
     ]
    },
    {
     "name": "stderr",
     "output_type": "stream",
     "text": [
      "100%|██████████| 3023/3023 [00:21<00:00, 138.57it/s]\n"
     ]
    },
    {
     "name": "stdout",
     "output_type": "stream",
     "text": [
      "S1 SittingDown 2 58860488\n"
     ]
    },
    {
     "name": "stderr",
     "output_type": "stream",
     "text": [
      "100%|██████████| 3023/3023 [00:21<00:00, 141.27it/s]\n"
     ]
    },
    {
     "name": "stdout",
     "output_type": "stream",
     "text": [
      "S1 SittingDown 2 60457274\n"
     ]
    },
    {
     "name": "stderr",
     "output_type": "stream",
     "text": [
      "100%|██████████| 3023/3023 [00:21<00:00, 139.49it/s]\n"
     ]
    },
    {
     "name": "stdout",
     "output_type": "stream",
     "text": [
      "S1 Walking 1 54138969\n"
     ]
    },
    {
     "name": "stderr",
     "output_type": "stream",
     "text": [
      "100%|██████████| 3476/3476 [00:21<00:00, 163.04it/s]\n"
     ]
    },
    {
     "name": "stdout",
     "output_type": "stream",
     "text": [
      "S1 Walking 1 55011271\n"
     ]
    },
    {
     "name": "stderr",
     "output_type": "stream",
     "text": [
      "100%|██████████| 3476/3476 [00:21<00:00, 163.88it/s]\n"
     ]
    },
    {
     "name": "stdout",
     "output_type": "stream",
     "text": [
      "S1 Walking 1 58860488\n"
     ]
    },
    {
     "name": "stderr",
     "output_type": "stream",
     "text": [
      "100%|██████████| 3476/3476 [00:21<00:00, 163.69it/s]\n"
     ]
    },
    {
     "name": "stdout",
     "output_type": "stream",
     "text": [
      "S1 Walking 1 60457274\n"
     ]
    },
    {
     "name": "stderr",
     "output_type": "stream",
     "text": [
      "100%|██████████| 3476/3476 [00:21<00:00, 161.89it/s]\n"
     ]
    },
    {
     "name": "stdout",
     "output_type": "stream",
     "text": [
      "S1 WalkDog 1 54138969\n"
     ]
    },
    {
     "name": "stderr",
     "output_type": "stream",
     "text": [
      "100%|██████████| 1662/1662 [00:09<00:00, 178.47it/s]\n"
     ]
    },
    {
     "name": "stdout",
     "output_type": "stream",
     "text": [
      "S1 WalkDog 1 55011271\n"
     ]
    },
    {
     "name": "stderr",
     "output_type": "stream",
     "text": [
      "100%|██████████| 1662/1662 [00:09<00:00, 182.34it/s]\n"
     ]
    },
    {
     "name": "stdout",
     "output_type": "stream",
     "text": [
      "S1 WalkDog 1 58860488\n"
     ]
    },
    {
     "name": "stderr",
     "output_type": "stream",
     "text": [
      "100%|██████████| 1662/1662 [00:09<00:00, 183.46it/s]\n"
     ]
    },
    {
     "name": "stdout",
     "output_type": "stream",
     "text": [
      "S1 WalkDog 1 60457274\n"
     ]
    },
    {
     "name": "stderr",
     "output_type": "stream",
     "text": [
      "100%|██████████| 1662/1662 [00:09<00:00, 179.23it/s]\n"
     ]
    },
    {
     "name": "stdout",
     "output_type": "stream",
     "text": [
      "S1 Waiting 54138969\n"
     ]
    },
    {
     "name": "stderr",
     "output_type": "stream",
     "text": [
      "100%|██████████| 1792/1792 [00:10<00:00, 173.18it/s]\n"
     ]
    },
    {
     "name": "stdout",
     "output_type": "stream",
     "text": [
      "S1 Waiting 55011271\n"
     ]
    },
    {
     "name": "stderr",
     "output_type": "stream",
     "text": [
      "100%|██████████| 1792/1792 [00:10<00:00, 174.12it/s]\n"
     ]
    },
    {
     "name": "stdout",
     "output_type": "stream",
     "text": [
      "S1 Waiting 58860488\n"
     ]
    },
    {
     "name": "stderr",
     "output_type": "stream",
     "text": [
      "100%|██████████| 1792/1792 [00:10<00:00, 174.66it/s]\n"
     ]
    },
    {
     "name": "stdout",
     "output_type": "stream",
     "text": [
      "S1 Waiting 60457274\n"
     ]
    },
    {
     "name": "stderr",
     "output_type": "stream",
     "text": [
      "100%|██████████| 1792/1792 [00:10<00:00, 174.36it/s]\n"
     ]
    },
    {
     "name": "stdout",
     "output_type": "stream",
     "text": [
      "S1 Walking 54138969\n"
     ]
    },
    {
     "name": "stderr",
     "output_type": "stream",
     "text": [
      "100%|██████████| 3134/3134 [00:19<00:00, 161.69it/s]\n"
     ]
    },
    {
     "name": "stdout",
     "output_type": "stream",
     "text": [
      "S1 Walking 55011271\n"
     ]
    },
    {
     "name": "stderr",
     "output_type": "stream",
     "text": [
      "100%|██████████| 3134/3134 [00:19<00:00, 162.37it/s]\n"
     ]
    },
    {
     "name": "stdout",
     "output_type": "stream",
     "text": [
      "S1 Walking 58860488\n"
     ]
    },
    {
     "name": "stderr",
     "output_type": "stream",
     "text": [
      "100%|██████████| 3134/3134 [00:19<00:00, 164.38it/s]\n"
     ]
    },
    {
     "name": "stdout",
     "output_type": "stream",
     "text": [
      "S1 Walking 60457274\n"
     ]
    },
    {
     "name": "stderr",
     "output_type": "stream",
     "text": [
      "100%|██████████| 3134/3134 [00:19<00:00, 162.84it/s]\n"
     ]
    },
    {
     "name": "stdout",
     "output_type": "stream",
     "text": [
      "S1 Discussion 54138969\n"
     ]
    },
    {
     "name": "stderr",
     "output_type": "stream",
     "text": [
      "100%|██████████| 3852/3852 [00:22<00:00, 170.43it/s]\n"
     ]
    },
    {
     "name": "stdout",
     "output_type": "stream",
     "text": [
      "S1 Discussion 55011271\n"
     ]
    },
    {
     "name": "stderr",
     "output_type": "stream",
     "text": [
      "100%|██████████| 3852/3852 [00:22<00:00, 170.50it/s]\n"
     ]
    },
    {
     "name": "stdout",
     "output_type": "stream",
     "text": [
      "S1 Discussion 58860488\n"
     ]
    },
    {
     "name": "stderr",
     "output_type": "stream",
     "text": [
      "100%|██████████| 3852/3852 [00:22<00:00, 172.96it/s]\n"
     ]
    },
    {
     "name": "stdout",
     "output_type": "stream",
     "text": [
      "S1 Discussion 60457274\n"
     ]
    },
    {
     "name": "stderr",
     "output_type": "stream",
     "text": [
      "100%|██████████| 3852/3852 [00:22<00:00, 170.51it/s]\n"
     ]
    },
    {
     "name": "stdout",
     "output_type": "stream",
     "text": [
      "S1 Eating 54138969\n"
     ]
    },
    {
     "name": "stderr",
     "output_type": "stream",
     "text": [
      "100%|██████████| 2721/2721 [00:17<00:00, 157.51it/s]\n"
     ]
    },
    {
     "name": "stdout",
     "output_type": "stream",
     "text": [
      "S1 Eating 55011271\n"
     ]
    },
    {
     "name": "stderr",
     "output_type": "stream",
     "text": [
      "100%|██████████| 2721/2721 [00:17<00:00, 156.75it/s]\n"
     ]
    },
    {
     "name": "stdout",
     "output_type": "stream",
     "text": [
      "S1 Eating 58860488\n"
     ]
    },
    {
     "name": "stderr",
     "output_type": "stream",
     "text": [
      "100%|██████████| 2721/2721 [00:17<00:00, 156.17it/s]\n"
     ]
    },
    {
     "name": "stdout",
     "output_type": "stream",
     "text": [
      "S1 Eating 60457274\n"
     ]
    },
    {
     "name": "stderr",
     "output_type": "stream",
     "text": [
      "100%|██████████| 2721/2721 [00:17<00:00, 156.59it/s]\n"
     ]
    },
    {
     "name": "stdout",
     "output_type": "stream",
     "text": [
      "S1 Posing 54138969\n"
     ]
    },
    {
     "name": "stderr",
     "output_type": "stream",
     "text": [
      "100%|██████████| 992/992 [00:05<00:00, 179.86it/s]\n"
     ]
    },
    {
     "name": "stdout",
     "output_type": "stream",
     "text": [
      "S1 Posing 55011271\n"
     ]
    },
    {
     "name": "stderr",
     "output_type": "stream",
     "text": [
      "100%|██████████| 992/992 [00:05<00:00, 180.60it/s]\n"
     ]
    },
    {
     "name": "stdout",
     "output_type": "stream",
     "text": [
      "S1 Posing 58860488\n"
     ]
    },
    {
     "name": "stderr",
     "output_type": "stream",
     "text": [
      "100%|██████████| 992/992 [00:05<00:00, 181.26it/s]\n"
     ]
    },
    {
     "name": "stdout",
     "output_type": "stream",
     "text": [
      "S1 Posing 60457274\n"
     ]
    },
    {
     "name": "stderr",
     "output_type": "stream",
     "text": [
      "100%|██████████| 992/992 [00:05<00:00, 178.80it/s]\n"
     ]
    },
    {
     "name": "stdout",
     "output_type": "stream",
     "text": [
      "S1 Greeting 54138969\n"
     ]
    },
    {
     "name": "stderr",
     "output_type": "stream",
     "text": [
      "100%|██████████| 1149/1149 [00:06<00:00, 187.28it/s]\n"
     ]
    },
    {
     "name": "stdout",
     "output_type": "stream",
     "text": [
      "S1 Greeting 55011271\n"
     ]
    },
    {
     "name": "stderr",
     "output_type": "stream",
     "text": [
      "100%|██████████| 1149/1149 [00:06<00:00, 189.04it/s]\n"
     ]
    },
    {
     "name": "stdout",
     "output_type": "stream",
     "text": [
      "S1 Greeting 58860488\n"
     ]
    },
    {
     "name": "stderr",
     "output_type": "stream",
     "text": [
      "100%|██████████| 1149/1149 [00:06<00:00, 189.40it/s]\n"
     ]
    },
    {
     "name": "stdout",
     "output_type": "stream",
     "text": [
      "S1 Greeting 60457274\n"
     ]
    },
    {
     "name": "stderr",
     "output_type": "stream",
     "text": [
      "100%|██████████| 1149/1149 [00:06<00:00, 184.69it/s]\n"
     ]
    },
    {
     "name": "stdout",
     "output_type": "stream",
     "text": [
      "S1 Posing 1 54138969\n"
     ]
    },
    {
     "name": "stderr",
     "output_type": "stream",
     "text": [
      "100%|██████████| 1167/1167 [00:06<00:00, 176.80it/s]\n"
     ]
    },
    {
     "name": "stdout",
     "output_type": "stream",
     "text": [
      "S1 Posing 1 55011271\n"
     ]
    },
    {
     "name": "stderr",
     "output_type": "stream",
     "text": [
      "100%|██████████| 1167/1167 [00:06<00:00, 179.46it/s]\n"
     ]
    },
    {
     "name": "stdout",
     "output_type": "stream",
     "text": [
      "S1 Posing 1 58860488\n"
     ]
    },
    {
     "name": "stderr",
     "output_type": "stream",
     "text": [
      "100%|██████████| 1167/1167 [00:06<00:00, 178.82it/s]\n"
     ]
    },
    {
     "name": "stdout",
     "output_type": "stream",
     "text": [
      "S1 Posing 1 60457274\n"
     ]
    },
    {
     "name": "stderr",
     "output_type": "stream",
     "text": [
      "100%|██████████| 1167/1167 [00:06<00:00, 177.76it/s]\n"
     ]
    },
    {
     "name": "stdout",
     "output_type": "stream",
     "text": [
      "S1 WalkDog 54138969\n"
     ]
    },
    {
     "name": "stderr",
     "output_type": "stream",
     "text": [
      "100%|██████████| 1777/1777 [00:09<00:00, 183.67it/s]\n"
     ]
    },
    {
     "name": "stdout",
     "output_type": "stream",
     "text": [
      "S1 WalkDog 55011271\n"
     ]
    },
    {
     "name": "stderr",
     "output_type": "stream",
     "text": [
      "100%|██████████| 1777/1777 [00:09<00:00, 183.85it/s]\n"
     ]
    },
    {
     "name": "stdout",
     "output_type": "stream",
     "text": [
      "S1 WalkDog 58860488\n"
     ]
    },
    {
     "name": "stderr",
     "output_type": "stream",
     "text": [
      "100%|██████████| 1777/1777 [00:09<00:00, 185.90it/s]\n"
     ]
    },
    {
     "name": "stdout",
     "output_type": "stream",
     "text": [
      "S1 WalkDog 60457274\n"
     ]
    },
    {
     "name": "stderr",
     "output_type": "stream",
     "text": [
      "100%|██████████| 1777/1777 [00:09<00:00, 181.36it/s]\n"
     ]
    },
    {
     "name": "stdout",
     "output_type": "stream",
     "text": [
      "S1 Photo 54138969\n"
     ]
    },
    {
     "name": "stderr",
     "output_type": "stream",
     "text": [
      "100%|██████████| 1036/1036 [00:05<00:00, 189.57it/s]\n"
     ]
    },
    {
     "name": "stdout",
     "output_type": "stream",
     "text": [
      "S1 Photo 55011271\n"
     ]
    },
    {
     "name": "stderr",
     "output_type": "stream",
     "text": [
      "100%|██████████| 1036/1036 [00:05<00:00, 189.95it/s]\n"
     ]
    },
    {
     "name": "stdout",
     "output_type": "stream",
     "text": [
      "S1 Photo 58860488\n"
     ]
    },
    {
     "name": "stderr",
     "output_type": "stream",
     "text": [
      "100%|██████████| 1036/1036 [00:05<00:00, 190.49it/s]\n"
     ]
    },
    {
     "name": "stdout",
     "output_type": "stream",
     "text": [
      "S1 Photo 60457274\n"
     ]
    },
    {
     "name": "stderr",
     "output_type": "stream",
     "text": [
      "100%|██████████| 1036/1036 [00:05<00:00, 190.69it/s]\n"
     ]
    },
    {
     "name": "stdout",
     "output_type": "stream",
     "text": [
      "S1 Purchases 1 54138969\n"
     ]
    },
    {
     "name": "stderr",
     "output_type": "stream",
     "text": [
      "100%|██████████| 1064/1064 [00:05<00:00, 180.28it/s]\n"
     ]
    },
    {
     "name": "stdout",
     "output_type": "stream",
     "text": [
      "S1 Purchases 1 55011271\n"
     ]
    },
    {
     "name": "stderr",
     "output_type": "stream",
     "text": [
      "100%|██████████| 1064/1064 [00:05<00:00, 179.82it/s]\n"
     ]
    },
    {
     "name": "stdout",
     "output_type": "stream",
     "text": [
      "S1 Purchases 1 58860488\n"
     ]
    },
    {
     "name": "stderr",
     "output_type": "stream",
     "text": [
      "100%|██████████| 1064/1064 [00:05<00:00, 181.48it/s]\n"
     ]
    },
    {
     "name": "stdout",
     "output_type": "stream",
     "text": [
      "S1 Purchases 1 60457274\n"
     ]
    },
    {
     "name": "stderr",
     "output_type": "stream",
     "text": [
      "100%|██████████| 1064/1064 [00:05<00:00, 181.20it/s]\n"
     ]
    },
    {
     "name": "stdout",
     "output_type": "stream",
     "text": [
      "S1 Sitting 2 54138969\n"
     ]
    },
    {
     "name": "stderr",
     "output_type": "stream",
     "text": [
      "100%|██████████| 2612/2612 [00:16<00:00, 159.69it/s]\n"
     ]
    },
    {
     "name": "stdout",
     "output_type": "stream",
     "text": [
      "S1 Sitting 2 55011271\n"
     ]
    },
    {
     "name": "stderr",
     "output_type": "stream",
     "text": [
      "100%|██████████| 2612/2612 [00:16<00:00, 159.32it/s]\n"
     ]
    },
    {
     "name": "stdout",
     "output_type": "stream",
     "text": [
      "S1 Sitting 2 58860488\n"
     ]
    },
    {
     "name": "stderr",
     "output_type": "stream",
     "text": [
      "100%|██████████| 2612/2612 [00:16<00:00, 159.48it/s]\n"
     ]
    },
    {
     "name": "stdout",
     "output_type": "stream",
     "text": [
      "S1 Sitting 2 60457274\n"
     ]
    },
    {
     "name": "stderr",
     "output_type": "stream",
     "text": [
      "100%|██████████| 2612/2612 [00:16<00:00, 156.06it/s]\n"
     ]
    },
    {
     "name": "stdout",
     "output_type": "stream",
     "text": [
      "S5 Waiting 1 54138969\n"
     ]
    },
    {
     "name": "stderr",
     "output_type": "stream",
     "text": [
      "100%|██████████| 4517/4517 [00:28<00:00, 156.92it/s]\n"
     ]
    },
    {
     "name": "stdout",
     "output_type": "stream",
     "text": [
      "S5 Waiting 1 55011271\n"
     ]
    },
    {
     "name": "stderr",
     "output_type": "stream",
     "text": [
      "100%|██████████| 4517/4517 [00:28<00:00, 159.42it/s]\n"
     ]
    },
    {
     "name": "stdout",
     "output_type": "stream",
     "text": [
      "S5 Waiting 1 58860488\n"
     ]
    },
    {
     "name": "stderr",
     "output_type": "stream",
     "text": [
      "100%|██████████| 4517/4517 [00:28<00:00, 159.89it/s]\n"
     ]
    },
    {
     "name": "stdout",
     "output_type": "stream",
     "text": [
      "S5 Waiting 1 60457274\n"
     ]
    },
    {
     "name": "stderr",
     "output_type": "stream",
     "text": [
      "100%|██████████| 4517/4517 [00:28<00:00, 158.23it/s]\n"
     ]
    },
    {
     "name": "stdout",
     "output_type": "stream",
     "text": [
      "S5 Sitting 54138969\n"
     ]
    },
    {
     "name": "stderr",
     "output_type": "stream",
     "text": [
      "100%|██████████| 3878/3878 [00:26<00:00, 148.58it/s]\n"
     ]
    },
    {
     "name": "stdout",
     "output_type": "stream",
     "text": [
      "S5 Sitting 55011271\n"
     ]
    },
    {
     "name": "stderr",
     "output_type": "stream",
     "text": [
      "100%|██████████| 3878/3878 [00:25<00:00, 149.17it/s]\n"
     ]
    },
    {
     "name": "stdout",
     "output_type": "stream",
     "text": [
      "S5 Sitting 58860488\n"
     ]
    },
    {
     "name": "stderr",
     "output_type": "stream",
     "text": [
      "100%|██████████| 3878/3878 [00:25<00:00, 149.94it/s]\n"
     ]
    },
    {
     "name": "stdout",
     "output_type": "stream",
     "text": [
      "S5 Sitting 60457274\n"
     ]
    },
    {
     "name": "stderr",
     "output_type": "stream",
     "text": [
      "100%|██████████| 3878/3878 [00:26<00:00, 148.79it/s]\n"
     ]
    },
    {
     "name": "stdout",
     "output_type": "stream",
     "text": [
      "S5 Waiting 2 54138969\n"
     ]
    },
    {
     "name": "stderr",
     "output_type": "stream",
     "text": [
      "100%|██████████| 4856/4856 [00:30<00:00, 161.77it/s]\n"
     ]
    },
    {
     "name": "stdout",
     "output_type": "stream",
     "text": [
      "S5 Waiting 2 55011271\n"
     ]
    },
    {
     "name": "stderr",
     "output_type": "stream",
     "text": [
      "100%|██████████| 4856/4856 [00:29<00:00, 162.64it/s]\n"
     ]
    },
    {
     "name": "stdout",
     "output_type": "stream",
     "text": [
      "S5 Waiting 2 58860488\n"
     ]
    },
    {
     "name": "stderr",
     "output_type": "stream",
     "text": [
      "100%|██████████| 4856/4856 [00:29<00:00, 162.48it/s]\n"
     ]
    },
    {
     "name": "stdout",
     "output_type": "stream",
     "text": [
      "S5 Waiting 2 60457274\n"
     ]
    },
    {
     "name": "stderr",
     "output_type": "stream",
     "text": [
      "100%|██████████| 4856/4856 [00:29<00:00, 162.73it/s]\n"
     ]
    },
    {
     "name": "stdout",
     "output_type": "stream",
     "text": [
      "S5 Smoking 54138969\n"
     ]
    },
    {
     "name": "stderr",
     "output_type": "stream",
     "text": [
      "100%|██████████| 3421/3421 [00:22<00:00, 154.66it/s]\n"
     ]
    },
    {
     "name": "stdout",
     "output_type": "stream",
     "text": [
      "S5 Smoking 55011271\n"
     ]
    },
    {
     "name": "stderr",
     "output_type": "stream",
     "text": [
      "100%|██████████| 3421/3421 [00:21<00:00, 155.90it/s]\n"
     ]
    },
    {
     "name": "stdout",
     "output_type": "stream",
     "text": [
      "S5 Smoking 58860488\n"
     ]
    },
    {
     "name": "stderr",
     "output_type": "stream",
     "text": [
      "100%|██████████| 3421/3421 [00:22<00:00, 148.84it/s]\n"
     ]
    },
    {
     "name": "stdout",
     "output_type": "stream",
     "text": [
      "S5 Smoking 60457274\n"
     ]
    },
    {
     "name": "stderr",
     "output_type": "stream",
     "text": [
      "100%|██████████| 3421/3421 [00:22<00:00, 155.07it/s]\n"
     ]
    },
    {
     "name": "stdout",
     "output_type": "stream",
     "text": [
      "S5 WalkTogether 1 54138969\n"
     ]
    },
    {
     "name": "stderr",
     "output_type": "stream",
     "text": [
      "100%|██████████| 3016/3016 [00:18<00:00, 164.55it/s]\n"
     ]
    },
    {
     "name": "stdout",
     "output_type": "stream",
     "text": [
      "S5 WalkTogether 1 55011271\n"
     ]
    },
    {
     "name": "stderr",
     "output_type": "stream",
     "text": [
      "100%|██████████| 3016/3016 [00:18<00:00, 165.51it/s]\n"
     ]
    },
    {
     "name": "stdout",
     "output_type": "stream",
     "text": [
      "S5 WalkTogether 1 58860488\n"
     ]
    },
    {
     "name": "stderr",
     "output_type": "stream",
     "text": [
      "100%|██████████| 3016/3016 [00:17<00:00, 167.58it/s]\n"
     ]
    },
    {
     "name": "stdout",
     "output_type": "stream",
     "text": [
      "S5 WalkTogether 1 60457274\n"
     ]
    },
    {
     "name": "stderr",
     "output_type": "stream",
     "text": [
      "100%|██████████| 3016/3016 [00:18<00:00, 166.25it/s]\n"
     ]
    },
    {
     "name": "stdout",
     "output_type": "stream",
     "text": [
      "S5 Discussion 2 54138969\n"
     ]
    },
    {
     "name": "stderr",
     "output_type": "stream",
     "text": [
      "100%|██████████| 6090/6090 [00:37<00:00, 160.55it/s]\n"
     ]
    },
    {
     "name": "stdout",
     "output_type": "stream",
     "text": [
      "S5 Discussion 2 55011271\n"
     ]
    },
    {
     "name": "stderr",
     "output_type": "stream",
     "text": [
      "100%|██████████| 6090/6090 [00:37<00:00, 164.03it/s]\n"
     ]
    },
    {
     "name": "stdout",
     "output_type": "stream",
     "text": [
      "S5 Discussion 2 58860488\n"
     ]
    },
    {
     "name": "stderr",
     "output_type": "stream",
     "text": [
      "100%|██████████| 6090/6090 [00:37<00:00, 164.54it/s]\n"
     ]
    },
    {
     "name": "stdout",
     "output_type": "stream",
     "text": [
      "S5 Discussion 2 60457274\n"
     ]
    },
    {
     "name": "stderr",
     "output_type": "stream",
     "text": [
      "100%|██████████| 6090/6090 [00:38<00:00, 159.78it/s]\n"
     ]
    },
    {
     "name": "stdout",
     "output_type": "stream",
     "text": [
      "S5 Greeting 1 54138969\n"
     ]
    },
    {
     "name": "stderr",
     "output_type": "stream",
     "text": [
      "100%|██████████| 1474/1474 [00:09<00:00, 155.15it/s]\n"
     ]
    },
    {
     "name": "stdout",
     "output_type": "stream",
     "text": [
      "S5 Greeting 1 55011271\n"
     ]
    },
    {
     "name": "stderr",
     "output_type": "stream",
     "text": [
      "100%|██████████| 1474/1474 [00:09<00:00, 157.38it/s]\n"
     ]
    },
    {
     "name": "stdout",
     "output_type": "stream",
     "text": [
      "S5 Greeting 1 58860488\n"
     ]
    },
    {
     "name": "stderr",
     "output_type": "stream",
     "text": [
      "100%|██████████| 1474/1474 [00:09<00:00, 157.14it/s]\n"
     ]
    },
    {
     "name": "stdout",
     "output_type": "stream",
     "text": [
      "S5 Greeting 1 60457274\n"
     ]
    },
    {
     "name": "stderr",
     "output_type": "stream",
     "text": [
      "100%|██████████| 1474/1474 [00:09<00:00, 157.55it/s]\n"
     ]
    },
    {
     "name": "stdout",
     "output_type": "stream",
     "text": [
      "S5 Directions 2 54138969\n"
     ]
    },
    {
     "name": "stderr",
     "output_type": "stream",
     "text": [
      "100%|██████████| 2067/2067 [00:11<00:00, 172.73it/s]\n"
     ]
    },
    {
     "name": "stdout",
     "output_type": "stream",
     "text": [
      "S5 Directions 2 55011271\n"
     ]
    },
    {
     "name": "stderr",
     "output_type": "stream",
     "text": [
      "100%|██████████| 2067/2067 [00:11<00:00, 173.79it/s]\n"
     ]
    },
    {
     "name": "stdout",
     "output_type": "stream",
     "text": [
      "S5 Directions 2 58860488\n"
     ]
    },
    {
     "name": "stderr",
     "output_type": "stream",
     "text": [
      "100%|██████████| 2067/2067 [00:11<00:00, 172.38it/s]\n"
     ]
    },
    {
     "name": "stdout",
     "output_type": "stream",
     "text": [
      "S5 Directions 2 60457274\n"
     ]
    },
    {
     "name": "stderr",
     "output_type": "stream",
     "text": [
      "100%|██████████| 2067/2067 [00:12<00:00, 168.41it/s]\n"
     ]
    },
    {
     "name": "stdout",
     "output_type": "stream",
     "text": [
      "S5 Phoning 54138969\n"
     ]
    },
    {
     "name": "stderr",
     "output_type": "stream",
     "text": [
      "100%|██████████| 2085/2085 [00:13<00:00, 149.82it/s]\n"
     ]
    },
    {
     "name": "stdout",
     "output_type": "stream",
     "text": [
      "S5 Phoning 55011271\n"
     ]
    },
    {
     "name": "stderr",
     "output_type": "stream",
     "text": [
      "100%|██████████| 2085/2085 [00:13<00:00, 151.46it/s]\n"
     ]
    },
    {
     "name": "stdout",
     "output_type": "stream",
     "text": [
      "S5 Phoning 58860488\n"
     ]
    },
    {
     "name": "stderr",
     "output_type": "stream",
     "text": [
      "100%|██████████| 2085/2085 [00:13<00:00, 151.66it/s]\n"
     ]
    },
    {
     "name": "stdout",
     "output_type": "stream",
     "text": [
      "S5 Phoning 60457274\n"
     ]
    },
    {
     "name": "stderr",
     "output_type": "stream",
     "text": [
      "100%|██████████| 2085/2085 [00:13<00:00, 151.12it/s]\n"
     ]
    },
    {
     "name": "stdout",
     "output_type": "stream",
     "text": [
      "S5 Phoning 1 54138969\n"
     ]
    },
    {
     "name": "stderr",
     "output_type": "stream",
     "text": [
      "100%|██████████| 3277/3277 [00:20<00:00, 162.03it/s]\n"
     ]
    },
    {
     "name": "stdout",
     "output_type": "stream",
     "text": [
      "S5 Phoning 1 55011271\n"
     ]
    },
    {
     "name": "stderr",
     "output_type": "stream",
     "text": [
      "100%|██████████| 3277/3277 [00:20<00:00, 162.65it/s]\n"
     ]
    },
    {
     "name": "stdout",
     "output_type": "stream",
     "text": [
      "S5 Phoning 1 58860488\n"
     ]
    },
    {
     "name": "stderr",
     "output_type": "stream",
     "text": [
      "100%|██████████| 3277/3277 [00:19<00:00, 164.60it/s]\n"
     ]
    },
    {
     "name": "stdout",
     "output_type": "stream",
     "text": [
      "S5 Phoning 1 60457274\n"
     ]
    },
    {
     "name": "stderr",
     "output_type": "stream",
     "text": [
      "100%|██████████| 3277/3277 [00:20<00:00, 163.55it/s]\n"
     ]
    },
    {
     "name": "stdout",
     "output_type": "stream",
     "text": [
      "S5 Smoking 1 54138969\n"
     ]
    },
    {
     "name": "stderr",
     "output_type": "stream",
     "text": [
      "100%|██████████| 3201/3201 [00:20<00:00, 155.44it/s]\n"
     ]
    },
    {
     "name": "stdout",
     "output_type": "stream",
     "text": [
      "S5 Smoking 1 55011271\n"
     ]
    },
    {
     "name": "stderr",
     "output_type": "stream",
     "text": [
      "100%|██████████| 3201/3201 [00:20<00:00, 157.77it/s]\n"
     ]
    },
    {
     "name": "stdout",
     "output_type": "stream",
     "text": [
      "S5 Smoking 1 58860488\n"
     ]
    },
    {
     "name": "stderr",
     "output_type": "stream",
     "text": [
      "100%|██████████| 3201/3201 [00:20<00:00, 154.61it/s]\n"
     ]
    },
    {
     "name": "stdout",
     "output_type": "stream",
     "text": [
      "S5 Smoking 1 60457274\n"
     ]
    },
    {
     "name": "stderr",
     "output_type": "stream",
     "text": [
      "100%|██████████| 3201/3201 [00:20<00:00, 156.01it/s]\n"
     ]
    },
    {
     "name": "stdout",
     "output_type": "stream",
     "text": [
      "S5 Greeting 2 54138969\n"
     ]
    },
    {
     "name": "stderr",
     "output_type": "stream",
     "text": [
      "100%|██████████| 3199/3199 [00:19<00:00, 164.32it/s]\n"
     ]
    },
    {
     "name": "stdout",
     "output_type": "stream",
     "text": [
      "S5 Greeting 2 55011271\n"
     ]
    },
    {
     "name": "stderr",
     "output_type": "stream",
     "text": [
      "100%|██████████| 3199/3199 [00:18<00:00, 169.41it/s]\n"
     ]
    },
    {
     "name": "stdout",
     "output_type": "stream",
     "text": [
      "S5 Greeting 2 58860488\n"
     ]
    },
    {
     "name": "stderr",
     "output_type": "stream",
     "text": [
      "100%|██████████| 3199/3199 [00:18<00:00, 169.88it/s]\n"
     ]
    },
    {
     "name": "stdout",
     "output_type": "stream",
     "text": [
      "S5 Greeting 2 60457274\n"
     ]
    },
    {
     "name": "stderr",
     "output_type": "stream",
     "text": [
      "100%|██████████| 3199/3199 [00:19<00:00, 164.40it/s]\n"
     ]
    },
    {
     "name": "stdout",
     "output_type": "stream",
     "text": [
      "S5 WalkTogether 54138969\n"
     ]
    },
    {
     "name": "stderr",
     "output_type": "stream",
     "text": [
      "100%|██████████| 2984/2984 [00:19<00:00, 156.23it/s]\n"
     ]
    },
    {
     "name": "stdout",
     "output_type": "stream",
     "text": [
      "S5 WalkTogether 55011271\n"
     ]
    },
    {
     "name": "stderr",
     "output_type": "stream",
     "text": [
      "100%|██████████| 2984/2984 [00:18<00:00, 164.78it/s]\n"
     ]
    },
    {
     "name": "stdout",
     "output_type": "stream",
     "text": [
      "S5 WalkTogether 58860488\n"
     ]
    },
    {
     "name": "stderr",
     "output_type": "stream",
     "text": [
      "100%|██████████| 2984/2984 [00:18<00:00, 162.59it/s]\n"
     ]
    },
    {
     "name": "stdout",
     "output_type": "stream",
     "text": [
      "S5 WalkTogether 60457274\n"
     ]
    },
    {
     "name": "stderr",
     "output_type": "stream",
     "text": [
      "100%|██████████| 2984/2984 [00:18<00:00, 162.80it/s]\n"
     ]
    },
    {
     "name": "stdout",
     "output_type": "stream",
     "text": [
      "S5 Sitting 1 54138969\n"
     ]
    },
    {
     "name": "stderr",
     "output_type": "stream",
     "text": [
      "100%|██████████| 3937/3937 [00:27<00:00, 144.73it/s]\n"
     ]
    },
    {
     "name": "stdout",
     "output_type": "stream",
     "text": [
      "S5 Sitting 1 55011271\n"
     ]
    },
    {
     "name": "stderr",
     "output_type": "stream",
     "text": [
      "100%|██████████| 3937/3937 [00:27<00:00, 142.44it/s]\n"
     ]
    },
    {
     "name": "stdout",
     "output_type": "stream",
     "text": [
      "S5 Sitting 1 58860488\n"
     ]
    },
    {
     "name": "stderr",
     "output_type": "stream",
     "text": [
      "100%|██████████| 3937/3937 [00:26<00:00, 145.98it/s]\n"
     ]
    },
    {
     "name": "stdout",
     "output_type": "stream",
     "text": [
      "S5 Sitting 1 60457274\n"
     ]
    },
    {
     "name": "stderr",
     "output_type": "stream",
     "text": [
      "100%|██████████| 3937/3937 [00:27<00:00, 145.09it/s]\n"
     ]
    },
    {
     "name": "stdout",
     "output_type": "stream",
     "text": [
      "S5 SittingDown 54138969\n"
     ]
    },
    {
     "name": "stderr",
     "output_type": "stream",
     "text": [
      "100%|██████████| 5203/5203 [00:37<00:00, 138.88it/s]\n"
     ]
    },
    {
     "name": "stdout",
     "output_type": "stream",
     "text": [
      "S5 SittingDown 55011271\n"
     ]
    },
    {
     "name": "stderr",
     "output_type": "stream",
     "text": [
      "100%|██████████| 5203/5203 [00:37<00:00, 139.97it/s]\n"
     ]
    },
    {
     "name": "stdout",
     "output_type": "stream",
     "text": [
      "S5 SittingDown 58860488\n"
     ]
    },
    {
     "name": "stderr",
     "output_type": "stream",
     "text": [
      "100%|██████████| 5203/5203 [00:37<00:00, 138.14it/s]\n"
     ]
    },
    {
     "name": "stdout",
     "output_type": "stream",
     "text": [
      "S5 SittingDown 60457274\n"
     ]
    },
    {
     "name": "stderr",
     "output_type": "stream",
     "text": [
      "100%|██████████| 5203/5203 [00:37<00:00, 138.23it/s]\n"
     ]
    },
    {
     "name": "stdout",
     "output_type": "stream",
     "text": [
      "S5 SittingDown 1 54138969\n"
     ]
    },
    {
     "name": "stderr",
     "output_type": "stream",
     "text": [
      "100%|██████████| 3926/3926 [00:27<00:00, 142.58it/s]\n"
     ]
    },
    {
     "name": "stdout",
     "output_type": "stream",
     "text": [
      "S5 SittingDown 1 55011271\n"
     ]
    },
    {
     "name": "stderr",
     "output_type": "stream",
     "text": [
      "100%|██████████| 3926/3926 [00:26<00:00, 146.33it/s]\n"
     ]
    },
    {
     "name": "stdout",
     "output_type": "stream",
     "text": [
      "S5 SittingDown 1 58860488\n"
     ]
    },
    {
     "name": "stderr",
     "output_type": "stream",
     "text": [
      "100%|██████████| 3926/3926 [00:27<00:00, 143.84it/s]\n"
     ]
    },
    {
     "name": "stdout",
     "output_type": "stream",
     "text": [
      "S5 SittingDown 1 60457274\n"
     ]
    },
    {
     "name": "stderr",
     "output_type": "stream",
     "text": [
      "100%|██████████| 3926/3926 [00:27<00:00, 142.41it/s]\n"
     ]
    },
    {
     "name": "stdout",
     "output_type": "stream",
     "text": [
      "S5 Discussion 3 54138969\n"
     ]
    },
    {
     "name": "stderr",
     "output_type": "stream",
     "text": [
      "100%|██████████| 5935/5935 [00:36<00:00, 160.79it/s]\n"
     ]
    },
    {
     "name": "stdout",
     "output_type": "stream",
     "text": [
      "S5 Discussion 3 55011271\n"
     ]
    },
    {
     "name": "stderr",
     "output_type": "stream",
     "text": [
      "100%|██████████| 5935/5935 [00:36<00:00, 161.69it/s]\n"
     ]
    },
    {
     "name": "stdout",
     "output_type": "stream",
     "text": [
      "S5 Discussion 3 58860488\n"
     ]
    },
    {
     "name": "stderr",
     "output_type": "stream",
     "text": [
      "100%|██████████| 5935/5935 [00:36<00:00, 162.30it/s]\n"
     ]
    },
    {
     "name": "stdout",
     "output_type": "stream",
     "text": [
      "S5 Discussion 3 60457274\n"
     ]
    },
    {
     "name": "stderr",
     "output_type": "stream",
     "text": [
      "100%|██████████| 5935/5935 [00:36<00:00, 162.30it/s]\n"
     ]
    },
    {
     "name": "stdout",
     "output_type": "stream",
     "text": [
      "S5 Directions 1 54138969\n"
     ]
    },
    {
     "name": "stderr",
     "output_type": "stream",
     "text": [
      "100%|██████████| 4973/4973 [00:29<00:00, 170.49it/s]\n"
     ]
    },
    {
     "name": "stdout",
     "output_type": "stream",
     "text": [
      "S5 Directions 1 55011271\n"
     ]
    },
    {
     "name": "stderr",
     "output_type": "stream",
     "text": [
      "100%|██████████| 4973/4973 [00:28<00:00, 171.85it/s]\n"
     ]
    },
    {
     "name": "stdout",
     "output_type": "stream",
     "text": [
      "S5 Directions 1 58860488\n"
     ]
    },
    {
     "name": "stderr",
     "output_type": "stream",
     "text": [
      "100%|██████████| 4973/4973 [00:28<00:00, 172.29it/s]\n"
     ]
    },
    {
     "name": "stdout",
     "output_type": "stream",
     "text": [
      "S5 Directions 1 60457274\n"
     ]
    },
    {
     "name": "stderr",
     "output_type": "stream",
     "text": [
      "100%|██████████| 4973/4973 [00:29<00:00, 171.40it/s]\n"
     ]
    },
    {
     "name": "stdout",
     "output_type": "stream",
     "text": [
      "S5 Purchases 54138969\n"
     ]
    },
    {
     "name": "stderr",
     "output_type": "stream",
     "text": [
      "100%|██████████| 3124/3124 [00:18<00:00, 168.39it/s]\n"
     ]
    },
    {
     "name": "stdout",
     "output_type": "stream",
     "text": [
      "S5 Purchases 55011271\n"
     ]
    },
    {
     "name": "stderr",
     "output_type": "stream",
     "text": [
      "100%|██████████| 3124/3124 [00:18<00:00, 169.87it/s]\n"
     ]
    },
    {
     "name": "stdout",
     "output_type": "stream",
     "text": [
      "S5 Purchases 58860488\n"
     ]
    },
    {
     "name": "stderr",
     "output_type": "stream",
     "text": [
      "100%|██████████| 3124/3124 [00:18<00:00, 169.75it/s]\n"
     ]
    },
    {
     "name": "stdout",
     "output_type": "stream",
     "text": [
      "S5 Purchases 60457274\n"
     ]
    },
    {
     "name": "stderr",
     "output_type": "stream",
     "text": [
      "100%|██████████| 3124/3124 [00:18<00:00, 167.43it/s]\n"
     ]
    },
    {
     "name": "stdout",
     "output_type": "stream",
     "text": [
      "S5 Walking 1 54138969\n"
     ]
    },
    {
     "name": "stderr",
     "output_type": "stream",
     "text": [
      "100%|██████████| 3000/3000 [00:20<00:00, 146.72it/s]\n"
     ]
    },
    {
     "name": "stdout",
     "output_type": "stream",
     "text": [
      "S5 Walking 1 55011271\n"
     ]
    },
    {
     "name": "stderr",
     "output_type": "stream",
     "text": [
      "100%|██████████| 3000/3000 [00:19<00:00, 150.35it/s]\n"
     ]
    },
    {
     "name": "stdout",
     "output_type": "stream",
     "text": [
      "S5 Walking 1 58860488\n"
     ]
    },
    {
     "name": "stderr",
     "output_type": "stream",
     "text": [
      "100%|██████████| 3000/3000 [00:19<00:00, 152.73it/s]\n"
     ]
    },
    {
     "name": "stdout",
     "output_type": "stream",
     "text": [
      "S5 Walking 1 60457274\n"
     ]
    },
    {
     "name": "stderr",
     "output_type": "stream",
     "text": [
      "100%|██████████| 3000/3000 [00:19<00:00, 150.89it/s]\n"
     ]
    },
    {
     "name": "stdout",
     "output_type": "stream",
     "text": [
      "S5 WalkDog 1 54138969\n"
     ]
    },
    {
     "name": "stderr",
     "output_type": "stream",
     "text": [
      "100%|██████████| 1937/1937 [00:11<00:00, 167.75it/s]\n"
     ]
    },
    {
     "name": "stdout",
     "output_type": "stream",
     "text": [
      "S5 WalkDog 1 55011271\n"
     ]
    },
    {
     "name": "stderr",
     "output_type": "stream",
     "text": [
      "100%|██████████| 1937/1937 [00:11<00:00, 170.25it/s]\n"
     ]
    },
    {
     "name": "stdout",
     "output_type": "stream",
     "text": [
      "S5 WalkDog 1 58860488\n"
     ]
    },
    {
     "name": "stderr",
     "output_type": "stream",
     "text": [
      "100%|██████████| 1937/1937 [00:11<00:00, 171.81it/s]\n"
     ]
    },
    {
     "name": "stdout",
     "output_type": "stream",
     "text": [
      "S5 WalkDog 1 60457274\n"
     ]
    },
    {
     "name": "stderr",
     "output_type": "stream",
     "text": [
      "100%|██████████| 1937/1937 [00:11<00:00, 168.78it/s]\n"
     ]
    },
    {
     "name": "stdout",
     "output_type": "stream",
     "text": [
      "S5 Walking 54138969\n"
     ]
    },
    {
     "name": "stderr",
     "output_type": "stream",
     "text": [
      "100%|██████████| 2521/2521 [00:16<00:00, 149.65it/s]\n"
     ]
    },
    {
     "name": "stdout",
     "output_type": "stream",
     "text": [
      "S5 Walking 55011271\n"
     ]
    },
    {
     "name": "stderr",
     "output_type": "stream",
     "text": [
      "100%|██████████| 2521/2521 [00:16<00:00, 151.83it/s]\n"
     ]
    },
    {
     "name": "stdout",
     "output_type": "stream",
     "text": [
      "S5 Walking 58860488\n"
     ]
    },
    {
     "name": "stderr",
     "output_type": "stream",
     "text": [
      "100%|██████████| 2521/2521 [00:16<00:00, 150.45it/s]\n"
     ]
    },
    {
     "name": "stdout",
     "output_type": "stream",
     "text": [
      "S5 Walking 60457274\n"
     ]
    },
    {
     "name": "stderr",
     "output_type": "stream",
     "text": [
      "100%|██████████| 2521/2521 [00:16<00:00, 148.72it/s]\n"
     ]
    },
    {
     "name": "stdout",
     "output_type": "stream",
     "text": [
      "S5 Eating 54138969\n"
     ]
    },
    {
     "name": "stderr",
     "output_type": "stream",
     "text": [
      "100%|██████████| 2331/2331 [00:14<00:00, 162.66it/s]\n"
     ]
    },
    {
     "name": "stdout",
     "output_type": "stream",
     "text": [
      "S5 Eating 55011271\n"
     ]
    },
    {
     "name": "stderr",
     "output_type": "stream",
     "text": [
      "100%|██████████| 2331/2331 [00:14<00:00, 163.86it/s]\n"
     ]
    },
    {
     "name": "stdout",
     "output_type": "stream",
     "text": [
      "S5 Eating 58860488\n"
     ]
    },
    {
     "name": "stderr",
     "output_type": "stream",
     "text": [
      "100%|██████████| 2331/2331 [00:14<00:00, 164.10it/s]\n"
     ]
    },
    {
     "name": "stdout",
     "output_type": "stream",
     "text": [
      "S5 Eating 60457274\n"
     ]
    },
    {
     "name": "stderr",
     "output_type": "stream",
     "text": [
      "100%|██████████| 2331/2331 [00:14<00:00, 160.86it/s]\n"
     ]
    },
    {
     "name": "stdout",
     "output_type": "stream",
     "text": [
      "S5 Photo 2 54138969\n"
     ]
    },
    {
     "name": "stderr",
     "output_type": "stream",
     "text": [
      "100%|██████████| 2782/2782 [00:17<00:00, 162.65it/s]\n"
     ]
    },
    {
     "name": "stdout",
     "output_type": "stream",
     "text": [
      "S5 Photo 2 55011271\n"
     ]
    },
    {
     "name": "stderr",
     "output_type": "stream",
     "text": [
      "100%|██████████| 2782/2782 [00:16<00:00, 164.49it/s]\n"
     ]
    },
    {
     "name": "stdout",
     "output_type": "stream",
     "text": [
      "S5 Photo 2 58860488\n"
     ]
    },
    {
     "name": "stderr",
     "output_type": "stream",
     "text": [
      "100%|██████████| 2782/2782 [00:16<00:00, 165.77it/s]\n"
     ]
    },
    {
     "name": "stdout",
     "output_type": "stream",
     "text": [
      "S5 Photo 2 60457274\n"
     ]
    },
    {
     "name": "stderr",
     "output_type": "stream",
     "text": [
      "100%|██████████| 2782/2782 [00:16<00:00, 167.36it/s]\n"
     ]
    },
    {
     "name": "stdout",
     "output_type": "stream",
     "text": [
      "S5 Posing 54138969\n"
     ]
    },
    {
     "name": "stderr",
     "output_type": "stream",
     "text": [
      "100%|██████████| 1885/1885 [00:11<00:00, 168.93it/s]\n"
     ]
    },
    {
     "name": "stdout",
     "output_type": "stream",
     "text": [
      "S5 Posing 55011271\n"
     ]
    },
    {
     "name": "stderr",
     "output_type": "stream",
     "text": [
      "100%|██████████| 1885/1885 [00:11<00:00, 170.55it/s]\n"
     ]
    },
    {
     "name": "stdout",
     "output_type": "stream",
     "text": [
      "S5 Posing 58860488\n"
     ]
    },
    {
     "name": "stderr",
     "output_type": "stream",
     "text": [
      "100%|██████████| 1885/1885 [00:11<00:00, 170.29it/s]\n"
     ]
    },
    {
     "name": "stdout",
     "output_type": "stream",
     "text": [
      "S5 Posing 60457274\n"
     ]
    },
    {
     "name": "stderr",
     "output_type": "stream",
     "text": [
      "100%|██████████| 1885/1885 [00:11<00:00, 169.39it/s]\n"
     ]
    },
    {
     "name": "stdout",
     "output_type": "stream",
     "text": [
      "S5 Posing 1 54138969\n"
     ]
    },
    {
     "name": "stderr",
     "output_type": "stream",
     "text": [
      "100%|██████████| 2245/2245 [00:13<00:00, 170.89it/s]\n"
     ]
    },
    {
     "name": "stdout",
     "output_type": "stream",
     "text": [
      "S5 Posing 1 55011271\n"
     ]
    },
    {
     "name": "stderr",
     "output_type": "stream",
     "text": [
      "100%|██████████| 2245/2245 [00:13<00:00, 172.10it/s]\n"
     ]
    },
    {
     "name": "stdout",
     "output_type": "stream",
     "text": [
      "S5 Posing 1 58860488\n"
     ]
    },
    {
     "name": "stderr",
     "output_type": "stream",
     "text": [
      "100%|██████████| 2245/2245 [00:13<00:00, 172.37it/s]\n"
     ]
    },
    {
     "name": "stdout",
     "output_type": "stream",
     "text": [
      "S5 Posing 1 60457274\n"
     ]
    },
    {
     "name": "stderr",
     "output_type": "stream",
     "text": [
      "100%|██████████| 2245/2245 [00:13<00:00, 170.89it/s]\n"
     ]
    },
    {
     "name": "stdout",
     "output_type": "stream",
     "text": [
      "S5 WalkDog 54138969\n"
     ]
    },
    {
     "name": "stderr",
     "output_type": "stream",
     "text": [
      "100%|██████████| 2135/2135 [00:12<00:00, 166.69it/s]\n"
     ]
    },
    {
     "name": "stdout",
     "output_type": "stream",
     "text": [
      "S5 WalkDog 55011271\n"
     ]
    },
    {
     "name": "stderr",
     "output_type": "stream",
     "text": [
      "100%|██████████| 2135/2135 [00:12<00:00, 169.83it/s]\n"
     ]
    },
    {
     "name": "stdout",
     "output_type": "stream",
     "text": [
      "S5 WalkDog 58860488\n"
     ]
    },
    {
     "name": "stderr",
     "output_type": "stream",
     "text": [
      "100%|██████████| 2135/2135 [00:12<00:00, 171.38it/s]\n"
     ]
    },
    {
     "name": "stdout",
     "output_type": "stream",
     "text": [
      "S5 WalkDog 60457274\n"
     ]
    },
    {
     "name": "stderr",
     "output_type": "stream",
     "text": [
      "100%|██████████| 2135/2135 [00:12<00:00, 168.73it/s]\n"
     ]
    },
    {
     "name": "stdout",
     "output_type": "stream",
     "text": [
      "S5 Photo 54138969\n"
     ]
    },
    {
     "name": "stderr",
     "output_type": "stream",
     "text": [
      "100%|██████████| 3325/3325 [00:19<00:00, 171.03it/s]\n"
     ]
    },
    {
     "name": "stdout",
     "output_type": "stream",
     "text": [
      "S5 Photo 55011271\n"
     ]
    },
    {
     "name": "stderr",
     "output_type": "stream",
     "text": [
      "100%|██████████| 3325/3325 [00:19<00:00, 170.59it/s]\n"
     ]
    },
    {
     "name": "stdout",
     "output_type": "stream",
     "text": [
      "S5 Photo 58860488\n"
     ]
    },
    {
     "name": "stderr",
     "output_type": "stream",
     "text": [
      "100%|██████████| 3325/3325 [00:19<00:00, 171.10it/s]\n"
     ]
    },
    {
     "name": "stdout",
     "output_type": "stream",
     "text": [
      "S5 Photo 60457274\n"
     ]
    },
    {
     "name": "stderr",
     "output_type": "stream",
     "text": [
      "100%|██████████| 3325/3325 [00:19<00:00, 171.33it/s]\n"
     ]
    },
    {
     "name": "stdout",
     "output_type": "stream",
     "text": [
      "S5 Purchases 1 54138969\n"
     ]
    },
    {
     "name": "stderr",
     "output_type": "stream",
     "text": [
      "100%|██████████| 2479/2479 [00:14<00:00, 174.82it/s]\n"
     ]
    },
    {
     "name": "stdout",
     "output_type": "stream",
     "text": [
      "S5 Purchases 1 55011271\n"
     ]
    },
    {
     "name": "stderr",
     "output_type": "stream",
     "text": [
      "100%|██████████| 2479/2479 [00:13<00:00, 177.09it/s]\n"
     ]
    },
    {
     "name": "stdout",
     "output_type": "stream",
     "text": [
      "S5 Purchases 1 58860488\n"
     ]
    },
    {
     "name": "stderr",
     "output_type": "stream",
     "text": [
      "100%|██████████| 2479/2479 [00:14<00:00, 176.78it/s]\n"
     ]
    },
    {
     "name": "stdout",
     "output_type": "stream",
     "text": [
      "S5 Purchases 1 60457274\n"
     ]
    },
    {
     "name": "stderr",
     "output_type": "stream",
     "text": [
      "100%|██████████| 2479/2479 [00:14<00:00, 172.92it/s]\n"
     ]
    },
    {
     "name": "stdout",
     "output_type": "stream",
     "text": [
      "S5 Eating 1 54138969\n"
     ]
    },
    {
     "name": "stderr",
     "output_type": "stream",
     "text": [
      "100%|██████████| 3276/3276 [00:20<00:00, 163.18it/s]\n"
     ]
    },
    {
     "name": "stdout",
     "output_type": "stream",
     "text": [
      "S5 Eating 1 55011271\n"
     ]
    },
    {
     "name": "stderr",
     "output_type": "stream",
     "text": [
      "100%|██████████| 3276/3276 [00:19<00:00, 164.23it/s]\n"
     ]
    },
    {
     "name": "stdout",
     "output_type": "stream",
     "text": [
      "S5 Eating 1 58860488\n"
     ]
    },
    {
     "name": "stderr",
     "output_type": "stream",
     "text": [
      "100%|██████████| 3276/3276 [00:19<00:00, 164.84it/s]\n"
     ]
    },
    {
     "name": "stdout",
     "output_type": "stream",
     "text": [
      "S5 Eating 1 60457274\n"
     ]
    },
    {
     "name": "stderr",
     "output_type": "stream",
     "text": [
      "100%|██████████| 3276/3276 [00:19<00:00, 166.98it/s]\n"
     ]
    },
    {
     "name": "stdout",
     "output_type": "stream",
     "text": [
      "S6 Posing 2 54138969\n"
     ]
    },
    {
     "name": "stderr",
     "output_type": "stream",
     "text": [
      "100%|██████████| 1159/1159 [00:05<00:00, 195.11it/s]\n"
     ]
    },
    {
     "name": "stdout",
     "output_type": "stream",
     "text": [
      "S6 Posing 2 55011271\n"
     ]
    },
    {
     "name": "stderr",
     "output_type": "stream",
     "text": [
      "100%|██████████| 1159/1159 [00:05<00:00, 194.03it/s]\n"
     ]
    },
    {
     "name": "stdout",
     "output_type": "stream",
     "text": [
      "S6 Posing 2 58860488\n"
     ]
    },
    {
     "name": "stderr",
     "output_type": "stream",
     "text": [
      "100%|██████████| 1159/1159 [00:05<00:00, 200.22it/s]\n"
     ]
    },
    {
     "name": "stdout",
     "output_type": "stream",
     "text": [
      "S6 Posing 2 60457274\n"
     ]
    },
    {
     "name": "stderr",
     "output_type": "stream",
     "text": [
      "100%|██████████| 1159/1159 [00:05<00:00, 197.79it/s]\n"
     ]
    },
    {
     "name": "stdout",
     "output_type": "stream",
     "text": [
      "S6 Photo 1 54138969\n"
     ]
    },
    {
     "name": "stderr",
     "output_type": "stream",
     "text": [
      "100%|██████████| 1775/1775 [00:09<00:00, 194.14it/s]\n"
     ]
    },
    {
     "name": "stdout",
     "output_type": "stream",
     "text": [
      "S6 Photo 1 55011271\n"
     ]
    },
    {
     "name": "stderr",
     "output_type": "stream",
     "text": [
      "100%|██████████| 1775/1775 [00:09<00:00, 195.64it/s]\n"
     ]
    },
    {
     "name": "stdout",
     "output_type": "stream",
     "text": [
      "S6 Photo 1 58860488\n"
     ]
    },
    {
     "name": "stderr",
     "output_type": "stream",
     "text": [
      "100%|██████████| 1775/1775 [00:09<00:00, 195.45it/s]\n"
     ]
    },
    {
     "name": "stdout",
     "output_type": "stream",
     "text": [
      "S6 Photo 1 60457274\n"
     ]
    },
    {
     "name": "stderr",
     "output_type": "stream",
     "text": [
      "100%|██████████| 1775/1775 [00:09<00:00, 195.43it/s]\n"
     ]
    },
    {
     "name": "stdout",
     "output_type": "stream",
     "text": [
      "S6 Smoking 54138969\n"
     ]
    },
    {
     "name": "stderr",
     "output_type": "stream",
     "text": [
      "100%|██████████| 3173/3173 [00:16<00:00, 187.58it/s]\n"
     ]
    },
    {
     "name": "stdout",
     "output_type": "stream",
     "text": [
      "S6 Smoking 55011271\n"
     ]
    },
    {
     "name": "stderr",
     "output_type": "stream",
     "text": [
      "100%|██████████| 3173/3173 [00:17<00:00, 181.48it/s]\n"
     ]
    },
    {
     "name": "stdout",
     "output_type": "stream",
     "text": [
      "S6 Smoking 58860488\n"
     ]
    },
    {
     "name": "stderr",
     "output_type": "stream",
     "text": [
      "100%|██████████| 3173/3173 [00:17<00:00, 183.68it/s]\n"
     ]
    },
    {
     "name": "stdout",
     "output_type": "stream",
     "text": [
      "S6 Smoking 60457274\n"
     ]
    },
    {
     "name": "stderr",
     "output_type": "stream",
     "text": [
      "100%|██████████| 3173/3173 [00:16<00:00, 187.12it/s]\n"
     ]
    },
    {
     "name": "stdout",
     "output_type": "stream",
     "text": [
      "S6 Eating 2 54138969\n"
     ]
    },
    {
     "name": "stderr",
     "output_type": "stream",
     "text": [
      "100%|██████████| 2226/2226 [00:12<00:00, 183.87it/s]\n"
     ]
    },
    {
     "name": "stdout",
     "output_type": "stream",
     "text": [
      "S6 Eating 2 55011271\n"
     ]
    },
    {
     "name": "stderr",
     "output_type": "stream",
     "text": [
      "100%|██████████| 2226/2226 [00:12<00:00, 185.38it/s]\n"
     ]
    },
    {
     "name": "stdout",
     "output_type": "stream",
     "text": [
      "S6 Eating 2 58860488\n"
     ]
    },
    {
     "name": "stderr",
     "output_type": "stream",
     "text": [
      "100%|██████████| 2226/2226 [00:11<00:00, 186.30it/s]\n"
     ]
    },
    {
     "name": "stdout",
     "output_type": "stream",
     "text": [
      "S6 Eating 2 60457274\n"
     ]
    },
    {
     "name": "stderr",
     "output_type": "stream",
     "text": [
      "100%|██████████| 2226/2226 [00:12<00:00, 184.94it/s]\n"
     ]
    },
    {
     "name": "stdout",
     "output_type": "stream",
     "text": [
      "S6 WalkTogether 1 54138969\n"
     ]
    },
    {
     "name": "stderr",
     "output_type": "stream",
     "text": [
      "100%|██████████| 1629/1629 [00:08<00:00, 194.02it/s]\n"
     ]
    },
    {
     "name": "stdout",
     "output_type": "stream",
     "text": [
      "S6 WalkTogether 1 55011271\n"
     ]
    },
    {
     "name": "stderr",
     "output_type": "stream",
     "text": [
      "100%|██████████| 1629/1629 [00:08<00:00, 199.91it/s]\n"
     ]
    },
    {
     "name": "stdout",
     "output_type": "stream",
     "text": [
      "S6 WalkTogether 1 58860488\n"
     ]
    },
    {
     "name": "stderr",
     "output_type": "stream",
     "text": [
      "100%|██████████| 1629/1629 [00:08<00:00, 201.08it/s]\n"
     ]
    },
    {
     "name": "stdout",
     "output_type": "stream",
     "text": [
      "S6 WalkTogether 1 60457274\n"
     ]
    },
    {
     "name": "stderr",
     "output_type": "stream",
     "text": [
      "100%|██████████| 1629/1629 [00:08<00:00, 200.23it/s]\n"
     ]
    },
    {
     "name": "stdout",
     "output_type": "stream",
     "text": [
      "S6 Greeting 1 54138969\n"
     ]
    },
    {
     "name": "stderr",
     "output_type": "stream",
     "text": [
      "100%|██████████| 1980/1980 [00:09<00:00, 211.55it/s]\n"
     ]
    },
    {
     "name": "stdout",
     "output_type": "stream",
     "text": [
      "S6 Greeting 1 55011271\n"
     ]
    },
    {
     "name": "stderr",
     "output_type": "stream",
     "text": [
      "100%|██████████| 1980/1980 [00:09<00:00, 212.17it/s]\n"
     ]
    },
    {
     "name": "stdout",
     "output_type": "stream",
     "text": [
      "S6 Greeting 1 58860488\n"
     ]
    },
    {
     "name": "stderr",
     "output_type": "stream",
     "text": [
      "100%|██████████| 1980/1980 [00:09<00:00, 212.64it/s]\n"
     ]
    },
    {
     "name": "stdout",
     "output_type": "stream",
     "text": [
      "S6 Greeting 1 60457274\n"
     ]
    },
    {
     "name": "stderr",
     "output_type": "stream",
     "text": [
      "100%|██████████| 1980/1980 [00:09<00:00, 211.16it/s]\n"
     ]
    },
    {
     "name": "stdout",
     "output_type": "stream",
     "text": [
      "S6 Phoning 54138969\n"
     ]
    },
    {
     "name": "stderr",
     "output_type": "stream",
     "text": [
      "100%|██████████| 2086/2086 [00:11<00:00, 180.35it/s]\n"
     ]
    },
    {
     "name": "stdout",
     "output_type": "stream",
     "text": [
      "S6 Phoning 55011271\n"
     ]
    },
    {
     "name": "stderr",
     "output_type": "stream",
     "text": [
      "100%|██████████| 2086/2086 [00:11<00:00, 182.72it/s]\n"
     ]
    },
    {
     "name": "stdout",
     "output_type": "stream",
     "text": [
      "S6 Phoning 58860488\n"
     ]
    },
    {
     "name": "stderr",
     "output_type": "stream",
     "text": [
      "100%|██████████| 2086/2086 [00:11<00:00, 182.75it/s]\n"
     ]
    },
    {
     "name": "stdout",
     "output_type": "stream",
     "text": [
      "S6 Phoning 60457274\n"
     ]
    },
    {
     "name": "stderr",
     "output_type": "stream",
     "text": [
      "100%|██████████| 2086/2086 [00:11<00:00, 174.43it/s]\n"
     ]
    },
    {
     "name": "stdout",
     "output_type": "stream",
     "text": [
      "S6 Phoning 1 54138969\n"
     ]
    },
    {
     "name": "stderr",
     "output_type": "stream",
     "text": [
      "100%|██████████| 2379/2379 [00:13<00:00, 176.01it/s]\n"
     ]
    },
    {
     "name": "stdout",
     "output_type": "stream",
     "text": [
      "S6 Phoning 1 55011271\n"
     ]
    },
    {
     "name": "stderr",
     "output_type": "stream",
     "text": [
      "100%|██████████| 2379/2379 [00:13<00:00, 177.10it/s]\n"
     ]
    },
    {
     "name": "stdout",
     "output_type": "stream",
     "text": [
      "S6 Phoning 1 58860488\n"
     ]
    },
    {
     "name": "stderr",
     "output_type": "stream",
     "text": [
      "100%|██████████| 2379/2379 [00:13<00:00, 181.73it/s]\n"
     ]
    },
    {
     "name": "stdout",
     "output_type": "stream",
     "text": [
      "S6 Phoning 1 60457274\n"
     ]
    },
    {
     "name": "stderr",
     "output_type": "stream",
     "text": [
      "100%|██████████| 2379/2379 [00:13<00:00, 177.00it/s]\n"
     ]
    },
    {
     "name": "stdout",
     "output_type": "stream",
     "text": [
      "S6 Smoking 1 54138969\n"
     ]
    },
    {
     "name": "stderr",
     "output_type": "stream",
     "text": [
      "100%|██████████| 2899/2899 [00:15<00:00, 187.23it/s]\n"
     ]
    },
    {
     "name": "stdout",
     "output_type": "stream",
     "text": [
      "S6 Smoking 1 55011271\n"
     ]
    },
    {
     "name": "stderr",
     "output_type": "stream",
     "text": [
      "100%|██████████| 2899/2899 [00:15<00:00, 187.12it/s]\n"
     ]
    },
    {
     "name": "stdout",
     "output_type": "stream",
     "text": [
      "S6 Smoking 1 58860488\n"
     ]
    },
    {
     "name": "stderr",
     "output_type": "stream",
     "text": [
      "100%|██████████| 2899/2899 [00:15<00:00, 187.49it/s]\n"
     ]
    },
    {
     "name": "stdout",
     "output_type": "stream",
     "text": [
      "S6 Smoking 1 60457274\n"
     ]
    },
    {
     "name": "stderr",
     "output_type": "stream",
     "text": [
      "100%|██████████| 2899/2899 [00:15<00:00, 186.05it/s]\n"
     ]
    },
    {
     "name": "stdout",
     "output_type": "stream",
     "text": [
      "S6 Discussion 1 54138969\n"
     ]
    },
    {
     "name": "stderr",
     "output_type": "stream",
     "text": [
      "100%|██████████| 2720/2720 [00:14<00:00, 189.88it/s]\n"
     ]
    },
    {
     "name": "stdout",
     "output_type": "stream",
     "text": [
      "S6 Discussion 1 55011271\n"
     ]
    },
    {
     "name": "stderr",
     "output_type": "stream",
     "text": [
      "100%|██████████| 2720/2720 [00:14<00:00, 187.22it/s]\n"
     ]
    },
    {
     "name": "stdout",
     "output_type": "stream",
     "text": [
      "S6 Discussion 1 58860488\n"
     ]
    },
    {
     "name": "stderr",
     "output_type": "stream",
     "text": [
      "100%|██████████| 2720/2720 [00:14<00:00, 185.75it/s]\n"
     ]
    },
    {
     "name": "stdout",
     "output_type": "stream",
     "text": [
      "S6 Discussion 1 60457274\n"
     ]
    },
    {
     "name": "stderr",
     "output_type": "stream",
     "text": [
      "100%|██████████| 2720/2720 [00:14<00:00, 188.58it/s]\n"
     ]
    },
    {
     "name": "stdout",
     "output_type": "stream",
     "text": [
      "S6 WalkTogether 54138969\n"
     ]
    },
    {
     "name": "stderr",
     "output_type": "stream",
     "text": [
      "100%|██████████| 1590/1590 [00:08<00:00, 196.01it/s]\n"
     ]
    },
    {
     "name": "stdout",
     "output_type": "stream",
     "text": [
      "S6 WalkTogether 55011271\n"
     ]
    },
    {
     "name": "stderr",
     "output_type": "stream",
     "text": [
      "100%|██████████| 1590/1590 [00:08<00:00, 197.66it/s]\n"
     ]
    },
    {
     "name": "stdout",
     "output_type": "stream",
     "text": [
      "S6 WalkTogether 58860488\n"
     ]
    },
    {
     "name": "stderr",
     "output_type": "stream",
     "text": [
      "100%|██████████| 1590/1590 [00:08<00:00, 197.61it/s]\n"
     ]
    },
    {
     "name": "stdout",
     "output_type": "stream",
     "text": [
      "S6 WalkTogether 60457274\n"
     ]
    },
    {
     "name": "stderr",
     "output_type": "stream",
     "text": [
      "100%|██████████| 1590/1590 [00:08<00:00, 195.53it/s]\n"
     ]
    },
    {
     "name": "stdout",
     "output_type": "stream",
     "text": [
      "S6 Sitting 1 54138969\n"
     ]
    },
    {
     "name": "stderr",
     "output_type": "stream",
     "text": [
      "100%|██████████| 1817/1817 [00:09<00:00, 190.96it/s]\n"
     ]
    },
    {
     "name": "stdout",
     "output_type": "stream",
     "text": [
      "S6 Sitting 1 55011271\n"
     ]
    },
    {
     "name": "stderr",
     "output_type": "stream",
     "text": [
      "100%|██████████| 1817/1817 [00:09<00:00, 196.37it/s]\n"
     ]
    },
    {
     "name": "stdout",
     "output_type": "stream",
     "text": [
      "S6 Sitting 1 58860488\n"
     ]
    },
    {
     "name": "stderr",
     "output_type": "stream",
     "text": [
      "100%|██████████| 1817/1817 [00:09<00:00, 192.14it/s]\n"
     ]
    },
    {
     "name": "stdout",
     "output_type": "stream",
     "text": [
      "S6 Sitting 1 60457274\n"
     ]
    },
    {
     "name": "stderr",
     "output_type": "stream",
     "text": [
      "100%|██████████| 1817/1817 [00:09<00:00, 189.29it/s]\n"
     ]
    },
    {
     "name": "stdout",
     "output_type": "stream",
     "text": [
      "S6 SittingDown 54138969\n"
     ]
    },
    {
     "name": "stderr",
     "output_type": "stream",
     "text": [
      "100%|██████████| 1594/1594 [00:09<00:00, 172.56it/s]\n"
     ]
    },
    {
     "name": "stdout",
     "output_type": "stream",
     "text": [
      "S6 SittingDown 55011271\n"
     ]
    },
    {
     "name": "stderr",
     "output_type": "stream",
     "text": [
      "100%|██████████| 1594/1594 [00:09<00:00, 167.27it/s]\n"
     ]
    },
    {
     "name": "stdout",
     "output_type": "stream",
     "text": [
      "S6 SittingDown 58860488\n"
     ]
    },
    {
     "name": "stderr",
     "output_type": "stream",
     "text": [
      "100%|██████████| 1594/1594 [00:09<00:00, 175.23it/s]\n"
     ]
    },
    {
     "name": "stdout",
     "output_type": "stream",
     "text": [
      "S6 SittingDown 60457274\n"
     ]
    },
    {
     "name": "stderr",
     "output_type": "stream",
     "text": [
      "100%|██████████| 1594/1594 [00:09<00:00, 173.16it/s]\n"
     ]
    },
    {
     "name": "stdout",
     "output_type": "stream",
     "text": [
      "S6 Directions 54138969\n"
     ]
    },
    {
     "name": "stderr",
     "output_type": "stream",
     "text": [
      "100%|██████████| 2819/2819 [00:13<00:00, 201.63it/s]\n"
     ]
    },
    {
     "name": "stdout",
     "output_type": "stream",
     "text": [
      "S6 Directions 55011271\n"
     ]
    },
    {
     "name": "stderr",
     "output_type": "stream",
     "text": [
      "100%|██████████| 2819/2819 [00:13<00:00, 203.15it/s]\n"
     ]
    },
    {
     "name": "stdout",
     "output_type": "stream",
     "text": [
      "S6 Directions 58860488\n"
     ]
    },
    {
     "name": "stderr",
     "output_type": "stream",
     "text": [
      "100%|██████████| 2819/2819 [00:14<00:00, 199.43it/s]\n"
     ]
    },
    {
     "name": "stdout",
     "output_type": "stream",
     "text": [
      "S6 Directions 60457274\n"
     ]
    },
    {
     "name": "stderr",
     "output_type": "stream",
     "text": [
      "100%|██████████| 2819/2819 [00:14<00:00, 197.79it/s]\n"
     ]
    },
    {
     "name": "stdout",
     "output_type": "stream",
     "text": [
      "S6 SittingDown 1 54138969\n"
     ]
    },
    {
     "name": "stderr",
     "output_type": "stream",
     "text": [
      "100%|██████████| 1873/1873 [00:10<00:00, 177.21it/s]\n"
     ]
    },
    {
     "name": "stdout",
     "output_type": "stream",
     "text": [
      "S6 SittingDown 1 55011271\n"
     ]
    },
    {
     "name": "stderr",
     "output_type": "stream",
     "text": [
      "100%|██████████| 1873/1873 [00:10<00:00, 178.49it/s]\n"
     ]
    },
    {
     "name": "stdout",
     "output_type": "stream",
     "text": [
      "S6 SittingDown 1 58860488\n"
     ]
    },
    {
     "name": "stderr",
     "output_type": "stream",
     "text": [
      "100%|██████████| 1873/1873 [00:10<00:00, 177.98it/s]\n"
     ]
    },
    {
     "name": "stdout",
     "output_type": "stream",
     "text": [
      "S6 SittingDown 1 60457274\n"
     ]
    },
    {
     "name": "stderr",
     "output_type": "stream",
     "text": [
      "100%|██████████| 1873/1873 [00:10<00:00, 177.49it/s]\n"
     ]
    },
    {
     "name": "stdout",
     "output_type": "stream",
     "text": [
      "S6 Directions 1 54138969\n"
     ]
    },
    {
     "name": "stderr",
     "output_type": "stream",
     "text": [
      "100%|██████████| 2843/2843 [00:14<00:00, 201.87it/s]\n"
     ]
    },
    {
     "name": "stdout",
     "output_type": "stream",
     "text": [
      "S6 Directions 1 55011271\n"
     ]
    },
    {
     "name": "stderr",
     "output_type": "stream",
     "text": [
      "100%|██████████| 2843/2843 [00:14<00:00, 197.00it/s]\n"
     ]
    },
    {
     "name": "stdout",
     "output_type": "stream",
     "text": [
      "S6 Directions 1 58860488\n"
     ]
    },
    {
     "name": "stderr",
     "output_type": "stream",
     "text": [
      "100%|██████████| 2843/2843 [00:13<00:00, 208.15it/s]\n"
     ]
    },
    {
     "name": "stdout",
     "output_type": "stream",
     "text": [
      "S6 Directions 1 60457274\n"
     ]
    },
    {
     "name": "stderr",
     "output_type": "stream",
     "text": [
      "100%|██████████| 2843/2843 [00:13<00:00, 203.17it/s]\n"
     ]
    },
    {
     "name": "stdout",
     "output_type": "stream",
     "text": [
      "S6 Purchases 54138969\n"
     ]
    },
    {
     "name": "stderr",
     "output_type": "stream",
     "text": [
      "100%|██████████| 1382/1382 [00:07<00:00, 181.52it/s]\n"
     ]
    },
    {
     "name": "stdout",
     "output_type": "stream",
     "text": [
      "S6 Purchases 55011271\n"
     ]
    },
    {
     "name": "stderr",
     "output_type": "stream",
     "text": [
      "100%|██████████| 1382/1382 [00:07<00:00, 182.98it/s]\n"
     ]
    },
    {
     "name": "stdout",
     "output_type": "stream",
     "text": [
      "S6 Purchases 58860488\n"
     ]
    },
    {
     "name": "stderr",
     "output_type": "stream",
     "text": [
      "100%|██████████| 1382/1382 [00:07<00:00, 181.29it/s]\n"
     ]
    },
    {
     "name": "stdout",
     "output_type": "stream",
     "text": [
      "S6 Purchases 60457274\n"
     ]
    },
    {
     "name": "stderr",
     "output_type": "stream",
     "text": [
      "100%|██████████| 1382/1382 [00:07<00:00, 175.52it/s]\n"
     ]
    },
    {
     "name": "stdout",
     "output_type": "stream",
     "text": [
      "S6 Walking 1 54138969\n"
     ]
    },
    {
     "name": "stderr",
     "output_type": "stream",
     "text": [
      "100%|██████████| 2750/2750 [00:15<00:00, 179.26it/s]\n"
     ]
    },
    {
     "name": "stdout",
     "output_type": "stream",
     "text": [
      "S6 Walking 1 55011271\n"
     ]
    },
    {
     "name": "stderr",
     "output_type": "stream",
     "text": [
      "100%|██████████| 2750/2750 [00:15<00:00, 183.28it/s]\n"
     ]
    },
    {
     "name": "stdout",
     "output_type": "stream",
     "text": [
      "S6 Walking 1 58860488\n"
     ]
    },
    {
     "name": "stderr",
     "output_type": "stream",
     "text": [
      "100%|██████████| 2750/2750 [00:15<00:00, 182.08it/s]\n"
     ]
    },
    {
     "name": "stdout",
     "output_type": "stream",
     "text": [
      "S6 Walking 1 60457274\n"
     ]
    },
    {
     "name": "stderr",
     "output_type": "stream",
     "text": [
      "100%|██████████| 2750/2750 [00:15<00:00, 181.13it/s]\n"
     ]
    },
    {
     "name": "stdout",
     "output_type": "stream",
     "text": [
      "S6 WalkDog 1 54138969\n"
     ]
    },
    {
     "name": "stderr",
     "output_type": "stream",
     "text": [
      "100%|██████████| 1996/1996 [00:10<00:00, 195.00it/s]\n"
     ]
    },
    {
     "name": "stdout",
     "output_type": "stream",
     "text": [
      "S6 WalkDog 1 55011271\n"
     ]
    },
    {
     "name": "stderr",
     "output_type": "stream",
     "text": [
      "100%|██████████| 1996/1996 [00:10<00:00, 196.27it/s]\n"
     ]
    },
    {
     "name": "stdout",
     "output_type": "stream",
     "text": [
      "S6 WalkDog 1 58860488\n"
     ]
    },
    {
     "name": "stderr",
     "output_type": "stream",
     "text": [
      "100%|██████████| 1996/1996 [00:10<00:00, 195.55it/s]\n"
     ]
    },
    {
     "name": "stdout",
     "output_type": "stream",
     "text": [
      "S6 WalkDog 1 60457274\n"
     ]
    },
    {
     "name": "stderr",
     "output_type": "stream",
     "text": [
      "100%|██████████| 1996/1996 [00:10<00:00, 193.94it/s]\n"
     ]
    },
    {
     "name": "stdout",
     "output_type": "stream",
     "text": [
      "S6 Waiting 54138969\n"
     ]
    },
    {
     "name": "stderr",
     "output_type": "stream",
     "text": [
      "100%|██████████| 2054/2054 [00:10<00:00, 201.62it/s]\n"
     ]
    },
    {
     "name": "stdout",
     "output_type": "stream",
     "text": [
      "S6 Waiting 55011271\n"
     ]
    },
    {
     "name": "stderr",
     "output_type": "stream",
     "text": [
      "100%|██████████| 2054/2054 [00:10<00:00, 203.05it/s]\n"
     ]
    },
    {
     "name": "stdout",
     "output_type": "stream",
     "text": [
      "S6 Waiting 58860488\n"
     ]
    },
    {
     "name": "stderr",
     "output_type": "stream",
     "text": [
      "100%|██████████| 2054/2054 [00:10<00:00, 203.12it/s]\n"
     ]
    },
    {
     "name": "stdout",
     "output_type": "stream",
     "text": [
      "S6 Waiting 60457274\n"
     ]
    },
    {
     "name": "stderr",
     "output_type": "stream",
     "text": [
      "100%|██████████| 2054/2054 [00:10<00:00, 202.07it/s]\n"
     ]
    },
    {
     "name": "stdout",
     "output_type": "stream",
     "text": [
      "S6 Walking 54138969\n"
     ]
    },
    {
     "name": "stderr",
     "output_type": "stream",
     "text": [
      "100%|██████████| 3614/3614 [00:19<00:00, 181.29it/s]\n"
     ]
    },
    {
     "name": "stdout",
     "output_type": "stream",
     "text": [
      "S6 Walking 55011271\n"
     ]
    },
    {
     "name": "stderr",
     "output_type": "stream",
     "text": [
      "100%|██████████| 3614/3614 [00:19<00:00, 181.96it/s]\n"
     ]
    },
    {
     "name": "stdout",
     "output_type": "stream",
     "text": [
      "S6 Walking 58860488\n"
     ]
    },
    {
     "name": "stderr",
     "output_type": "stream",
     "text": [
      "100%|██████████| 3614/3614 [00:20<00:00, 179.65it/s]\n"
     ]
    },
    {
     "name": "stdout",
     "output_type": "stream",
     "text": [
      "S6 Walking 60457274\n"
     ]
    },
    {
     "name": "stderr",
     "output_type": "stream",
     "text": [
      "100%|██████████| 3614/3614 [00:20<00:00, 180.50it/s]\n"
     ]
    },
    {
     "name": "stdout",
     "output_type": "stream",
     "text": [
      "S6 Discussion 54138969\n"
     ]
    },
    {
     "name": "stderr",
     "output_type": "stream",
     "text": [
      "100%|██████████| 2415/2415 [00:12<00:00, 186.97it/s]\n"
     ]
    },
    {
     "name": "stdout",
     "output_type": "stream",
     "text": [
      "S6 Discussion 55011271\n"
     ]
    },
    {
     "name": "stderr",
     "output_type": "stream",
     "text": [
      "100%|██████████| 2415/2415 [00:12<00:00, 193.69it/s]\n"
     ]
    },
    {
     "name": "stdout",
     "output_type": "stream",
     "text": [
      "S6 Discussion 58860488\n"
     ]
    },
    {
     "name": "stderr",
     "output_type": "stream",
     "text": [
      "100%|██████████| 2415/2415 [00:12<00:00, 190.94it/s]\n"
     ]
    },
    {
     "name": "stdout",
     "output_type": "stream",
     "text": [
      "S6 Discussion 60457274\n"
     ]
    },
    {
     "name": "stderr",
     "output_type": "stream",
     "text": [
      "100%|██████████| 2415/2415 [00:13<00:00, 185.14it/s]\n"
     ]
    },
    {
     "name": "stdout",
     "output_type": "stream",
     "text": [
      "S6 Posing 54138969\n"
     ]
    },
    {
     "name": "stderr",
     "output_type": "stream",
     "text": [
      "100%|██████████| 1161/1161 [00:05<00:00, 195.38it/s]\n"
     ]
    },
    {
     "name": "stdout",
     "output_type": "stream",
     "text": [
      "S6 Posing 55011271\n"
     ]
    },
    {
     "name": "stderr",
     "output_type": "stream",
     "text": [
      "100%|██████████| 1161/1161 [00:05<00:00, 195.47it/s]\n"
     ]
    },
    {
     "name": "stdout",
     "output_type": "stream",
     "text": [
      "S6 Posing 58860488\n"
     ]
    },
    {
     "name": "stderr",
     "output_type": "stream",
     "text": [
      "100%|██████████| 1161/1161 [00:05<00:00, 195.03it/s]\n"
     ]
    },
    {
     "name": "stdout",
     "output_type": "stream",
     "text": [
      "S6 Posing 60457274\n"
     ]
    },
    {
     "name": "stderr",
     "output_type": "stream",
     "text": [
      "100%|██████████| 1161/1161 [00:05<00:00, 194.53it/s]\n"
     ]
    },
    {
     "name": "stdout",
     "output_type": "stream",
     "text": [
      "S6 Greeting 54138969\n"
     ]
    },
    {
     "name": "stderr",
     "output_type": "stream",
     "text": [
      "100%|██████████| 1621/1621 [00:07<00:00, 212.76it/s]\n"
     ]
    },
    {
     "name": "stdout",
     "output_type": "stream",
     "text": [
      "S6 Greeting 55011271\n"
     ]
    },
    {
     "name": "stderr",
     "output_type": "stream",
     "text": [
      "100%|██████████| 1621/1621 [00:07<00:00, 213.94it/s]\n"
     ]
    },
    {
     "name": "stdout",
     "output_type": "stream",
     "text": [
      "S6 Greeting 58860488\n"
     ]
    },
    {
     "name": "stderr",
     "output_type": "stream",
     "text": [
      "100%|██████████| 1621/1621 [00:07<00:00, 213.67it/s]\n"
     ]
    },
    {
     "name": "stdout",
     "output_type": "stream",
     "text": [
      "S6 Greeting 60457274\n"
     ]
    },
    {
     "name": "stderr",
     "output_type": "stream",
     "text": [
      "100%|██████████| 1621/1621 [00:07<00:00, 214.73it/s]\n"
     ]
    },
    {
     "name": "stdout",
     "output_type": "stream",
     "text": [
      "S6 Waiting 3 54138969\n"
     ]
    },
    {
     "name": "stderr",
     "output_type": "stream",
     "text": [
      "100%|██████████| 2305/2305 [00:11<00:00, 206.93it/s]\n"
     ]
    },
    {
     "name": "stdout",
     "output_type": "stream",
     "text": [
      "S6 Waiting 3 55011271\n"
     ]
    },
    {
     "name": "stderr",
     "output_type": "stream",
     "text": [
      "100%|██████████| 2305/2305 [00:11<00:00, 203.64it/s]\n"
     ]
    },
    {
     "name": "stdout",
     "output_type": "stream",
     "text": [
      "S6 Waiting 3 58860488\n"
     ]
    },
    {
     "name": "stderr",
     "output_type": "stream",
     "text": [
      "100%|██████████| 2305/2305 [00:11<00:00, 202.15it/s]\n"
     ]
    },
    {
     "name": "stdout",
     "output_type": "stream",
     "text": [
      "S6 Waiting 3 60457274\n"
     ]
    },
    {
     "name": "stderr",
     "output_type": "stream",
     "text": [
      "100%|██████████| 2305/2305 [00:11<00:00, 201.29it/s]\n"
     ]
    },
    {
     "name": "stdout",
     "output_type": "stream",
     "text": [
      "S6 WalkDog 54138969\n"
     ]
    },
    {
     "name": "stderr",
     "output_type": "stream",
     "text": [
      "100%|██████████| 1594/1594 [00:08<00:00, 197.70it/s]\n"
     ]
    },
    {
     "name": "stdout",
     "output_type": "stream",
     "text": [
      "S6 WalkDog 55011271\n"
     ]
    },
    {
     "name": "stderr",
     "output_type": "stream",
     "text": [
      "100%|██████████| 1594/1594 [00:08<00:00, 196.28it/s]\n"
     ]
    },
    {
     "name": "stdout",
     "output_type": "stream",
     "text": [
      "S6 WalkDog 58860488\n"
     ]
    },
    {
     "name": "stderr",
     "output_type": "stream",
     "text": [
      "100%|██████████| 1594/1594 [00:07<00:00, 199.41it/s]\n"
     ]
    },
    {
     "name": "stdout",
     "output_type": "stream",
     "text": [
      "S6 WalkDog 60457274\n"
     ]
    },
    {
     "name": "stderr",
     "output_type": "stream",
     "text": [
      "100%|██████████| 1594/1594 [00:08<00:00, 198.02it/s]\n"
     ]
    },
    {
     "name": "stdout",
     "output_type": "stream",
     "text": [
      "S6 Photo 54138969\n"
     ]
    },
    {
     "name": "stderr",
     "output_type": "stream",
     "text": [
      "100%|██████████| 1672/1672 [00:08<00:00, 196.10it/s]\n"
     ]
    },
    {
     "name": "stdout",
     "output_type": "stream",
     "text": [
      "S6 Photo 55011271\n"
     ]
    },
    {
     "name": "stderr",
     "output_type": "stream",
     "text": [
      "100%|██████████| 1672/1672 [00:08<00:00, 197.72it/s]\n"
     ]
    },
    {
     "name": "stdout",
     "output_type": "stream",
     "text": [
      "S6 Photo 58860488\n"
     ]
    },
    {
     "name": "stderr",
     "output_type": "stream",
     "text": [
      "100%|██████████| 1672/1672 [00:08<00:00, 198.34it/s]\n"
     ]
    },
    {
     "name": "stdout",
     "output_type": "stream",
     "text": [
      "S6 Photo 60457274\n"
     ]
    },
    {
     "name": "stderr",
     "output_type": "stream",
     "text": [
      "100%|██████████| 1672/1672 [00:08<00:00, 196.85it/s]\n"
     ]
    },
    {
     "name": "stdout",
     "output_type": "stream",
     "text": [
      "S6 Purchases 1 54138969\n"
     ]
    },
    {
     "name": "stderr",
     "output_type": "stream",
     "text": [
      "100%|██████████| 1332/1332 [00:06<00:00, 197.63it/s]\n"
     ]
    },
    {
     "name": "stdout",
     "output_type": "stream",
     "text": [
      "S6 Purchases 1 55011271\n"
     ]
    },
    {
     "name": "stderr",
     "output_type": "stream",
     "text": [
      "100%|██████████| 1332/1332 [00:06<00:00, 202.52it/s]\n"
     ]
    },
    {
     "name": "stdout",
     "output_type": "stream",
     "text": [
      "S6 Purchases 1 58860488\n"
     ]
    },
    {
     "name": "stderr",
     "output_type": "stream",
     "text": [
      "100%|██████████| 1332/1332 [00:06<00:00, 203.41it/s]\n"
     ]
    },
    {
     "name": "stdout",
     "output_type": "stream",
     "text": [
      "S6 Purchases 1 60457274\n"
     ]
    },
    {
     "name": "stderr",
     "output_type": "stream",
     "text": [
      "100%|██████████| 1332/1332 [00:06<00:00, 197.94it/s]\n"
     ]
    },
    {
     "name": "stdout",
     "output_type": "stream",
     "text": [
      "S6 Eating 1 54138969\n"
     ]
    },
    {
     "name": "stderr",
     "output_type": "stream",
     "text": [
      "100%|██████████| 2010/2010 [00:11<00:00, 182.63it/s]\n"
     ]
    },
    {
     "name": "stdout",
     "output_type": "stream",
     "text": [
      "S6 Eating 1 55011271\n"
     ]
    },
    {
     "name": "stderr",
     "output_type": "stream",
     "text": [
      "100%|██████████| 2010/2010 [00:11<00:00, 181.49it/s]\n"
     ]
    },
    {
     "name": "stdout",
     "output_type": "stream",
     "text": [
      "S6 Eating 1 58860488\n"
     ]
    },
    {
     "name": "stderr",
     "output_type": "stream",
     "text": [
      "100%|██████████| 2010/2010 [00:11<00:00, 180.89it/s]\n"
     ]
    },
    {
     "name": "stdout",
     "output_type": "stream",
     "text": [
      "S6 Eating 1 60457274\n"
     ]
    },
    {
     "name": "stderr",
     "output_type": "stream",
     "text": [
      "100%|██████████| 2010/2010 [00:11<00:00, 180.61it/s]\n"
     ]
    },
    {
     "name": "stdout",
     "output_type": "stream",
     "text": [
      "S6 Sitting 2 54138969\n"
     ]
    },
    {
     "name": "stderr",
     "output_type": "stream",
     "text": [
      "100%|██████████| 1998/1998 [00:10<00:00, 191.75it/s]\n"
     ]
    },
    {
     "name": "stdout",
     "output_type": "stream",
     "text": [
      "S6 Sitting 2 55011271\n"
     ]
    },
    {
     "name": "stderr",
     "output_type": "stream",
     "text": [
      "100%|██████████| 1998/1998 [00:10<00:00, 192.99it/s]\n"
     ]
    },
    {
     "name": "stdout",
     "output_type": "stream",
     "text": [
      "S6 Sitting 2 58860488\n"
     ]
    },
    {
     "name": "stderr",
     "output_type": "stream",
     "text": [
      "100%|██████████| 1998/1998 [00:10<00:00, 192.52it/s]\n"
     ]
    },
    {
     "name": "stdout",
     "output_type": "stream",
     "text": [
      "S6 Sitting 2 60457274\n"
     ]
    },
    {
     "name": "stderr",
     "output_type": "stream",
     "text": [
      "100%|██████████| 1998/1998 [00:10<00:00, 193.58it/s]\n"
     ]
    },
    {
     "name": "stdout",
     "output_type": "stream",
     "text": [
      "S7 Waiting 1 54138969\n"
     ]
    },
    {
     "name": "stderr",
     "output_type": "stream",
     "text": [
      "100%|██████████| 4201/4201 [00:26<00:00, 160.55it/s]\n"
     ]
    },
    {
     "name": "stdout",
     "output_type": "stream",
     "text": [
      "S7 Waiting 1 55011271\n"
     ]
    },
    {
     "name": "stderr",
     "output_type": "stream",
     "text": [
      "100%|██████████| 4201/4201 [00:26<00:00, 161.26it/s]\n"
     ]
    },
    {
     "name": "stdout",
     "output_type": "stream",
     "text": [
      "S7 Waiting 1 58860488\n"
     ]
    },
    {
     "name": "stderr",
     "output_type": "stream",
     "text": [
      "100%|██████████| 4201/4201 [00:26<00:00, 160.90it/s]\n"
     ]
    },
    {
     "name": "stdout",
     "output_type": "stream",
     "text": [
      "S7 Waiting 1 60457274\n"
     ]
    },
    {
     "name": "stderr",
     "output_type": "stream",
     "text": [
      "100%|██████████| 4201/4201 [00:26<00:00, 159.79it/s]\n"
     ]
    },
    {
     "name": "stdout",
     "output_type": "stream",
     "text": [
      "S7 Sitting 54138969\n"
     ]
    },
    {
     "name": "stderr",
     "output_type": "stream",
     "text": [
      "100%|██████████| 2826/2826 [00:21<00:00, 134.30it/s]\n"
     ]
    },
    {
     "name": "stdout",
     "output_type": "stream",
     "text": [
      "S7 Sitting 55011271\n"
     ]
    },
    {
     "name": "stderr",
     "output_type": "stream",
     "text": [
      "100%|██████████| 2826/2826 [00:20<00:00, 134.88it/s]\n"
     ]
    },
    {
     "name": "stdout",
     "output_type": "stream",
     "text": [
      "S7 Sitting 58860488\n"
     ]
    },
    {
     "name": "stderr",
     "output_type": "stream",
     "text": [
      "100%|██████████| 2826/2826 [00:20<00:00, 135.24it/s]\n"
     ]
    },
    {
     "name": "stdout",
     "output_type": "stream",
     "text": [
      "S7 Sitting 60457274\n"
     ]
    },
    {
     "name": "stderr",
     "output_type": "stream",
     "text": [
      "100%|██████████| 2826/2826 [00:21<00:00, 134.39it/s]\n"
     ]
    },
    {
     "name": "stdout",
     "output_type": "stream",
     "text": [
      "S7 Photo 1 54138969\n"
     ]
    },
    {
     "name": "stderr",
     "output_type": "stream",
     "text": [
      "100%|██████████| 1877/1877 [00:10<00:00, 173.15it/s]\n"
     ]
    },
    {
     "name": "stdout",
     "output_type": "stream",
     "text": [
      "S7 Photo 1 55011271\n"
     ]
    },
    {
     "name": "stderr",
     "output_type": "stream",
     "text": [
      "100%|██████████| 1877/1877 [00:10<00:00, 173.36it/s]\n"
     ]
    },
    {
     "name": "stdout",
     "output_type": "stream",
     "text": [
      "S7 Photo 1 58860488\n"
     ]
    },
    {
     "name": "stderr",
     "output_type": "stream",
     "text": [
      "100%|██████████| 1877/1877 [00:10<00:00, 172.14it/s]\n"
     ]
    },
    {
     "name": "stdout",
     "output_type": "stream",
     "text": [
      "S7 Photo 1 60457274\n"
     ]
    },
    {
     "name": "stderr",
     "output_type": "stream",
     "text": [
      "100%|██████████| 1877/1877 [00:10<00:00, 171.15it/s]\n"
     ]
    },
    {
     "name": "stdout",
     "output_type": "stream",
     "text": [
      "S7 Waiting 2 54138969\n"
     ]
    },
    {
     "name": "stderr",
     "output_type": "stream",
     "text": [
      "100%|██████████| 4332/4332 [00:27<00:00, 159.10it/s]\n"
     ]
    },
    {
     "name": "stdout",
     "output_type": "stream",
     "text": [
      "S7 Waiting 2 55011271\n"
     ]
    },
    {
     "name": "stderr",
     "output_type": "stream",
     "text": [
      "100%|██████████| 4332/4332 [00:26<00:00, 162.31it/s]\n"
     ]
    },
    {
     "name": "stdout",
     "output_type": "stream",
     "text": [
      "S7 Waiting 2 58860488\n"
     ]
    },
    {
     "name": "stderr",
     "output_type": "stream",
     "text": [
      "100%|██████████| 4332/4332 [00:26<00:00, 163.46it/s]\n"
     ]
    },
    {
     "name": "stdout",
     "output_type": "stream",
     "text": [
      "S7 Waiting 2 60457274\n"
     ]
    },
    {
     "name": "stderr",
     "output_type": "stream",
     "text": [
      "100%|██████████| 4332/4332 [00:26<00:00, 161.43it/s]\n"
     ]
    },
    {
     "name": "stdout",
     "output_type": "stream",
     "text": [
      "S7 Smoking 54138969\n"
     ]
    },
    {
     "name": "stderr",
     "output_type": "stream",
     "text": [
      "100%|██████████| 4870/4870 [00:33<00:00, 146.29it/s]\n"
     ]
    },
    {
     "name": "stdout",
     "output_type": "stream",
     "text": [
      "S7 Smoking 55011271\n"
     ]
    },
    {
     "name": "stderr",
     "output_type": "stream",
     "text": [
      "100%|██████████| 4870/4870 [00:33<00:00, 147.01it/s]\n"
     ]
    },
    {
     "name": "stdout",
     "output_type": "stream",
     "text": [
      "S7 Smoking 58860488\n"
     ]
    },
    {
     "name": "stderr",
     "output_type": "stream",
     "text": [
      "100%|██████████| 4870/4870 [00:33<00:00, 147.54it/s]\n"
     ]
    },
    {
     "name": "stdout",
     "output_type": "stream",
     "text": [
      "S7 Smoking 60457274\n"
     ]
    },
    {
     "name": "stderr",
     "output_type": "stream",
     "text": [
      "100%|██████████| 4870/4870 [00:33<00:00, 144.94it/s]\n"
     ]
    },
    {
     "name": "stdout",
     "output_type": "stream",
     "text": [
      "S7 WalkTogether 1 54138969\n"
     ]
    },
    {
     "name": "stderr",
     "output_type": "stream",
     "text": [
      "100%|██████████| 2379/2379 [00:14<00:00, 163.13it/s]\n"
     ]
    },
    {
     "name": "stdout",
     "output_type": "stream",
     "text": [
      "S7 WalkTogether 1 55011271\n"
     ]
    },
    {
     "name": "stderr",
     "output_type": "stream",
     "text": [
      "100%|██████████| 2379/2379 [00:14<00:00, 164.69it/s]\n"
     ]
    },
    {
     "name": "stdout",
     "output_type": "stream",
     "text": [
      "S7 WalkTogether 1 58860488\n"
     ]
    },
    {
     "name": "stderr",
     "output_type": "stream",
     "text": [
      "100%|██████████| 2379/2379 [00:14<00:00, 164.44it/s]\n"
     ]
    },
    {
     "name": "stdout",
     "output_type": "stream",
     "text": [
      "S7 WalkTogether 1 60457274\n"
     ]
    },
    {
     "name": "stderr",
     "output_type": "stream",
     "text": [
      "100%|██████████| 2379/2379 [00:14<00:00, 163.68it/s]\n"
     ]
    },
    {
     "name": "stdout",
     "output_type": "stream",
     "text": [
      "S7 Greeting 1 54138969\n"
     ]
    },
    {
     "name": "stderr",
     "output_type": "stream",
     "text": [
      "100%|██████████| 2215/2215 [00:12<00:00, 177.61it/s]\n"
     ]
    },
    {
     "name": "stdout",
     "output_type": "stream",
     "text": [
      "S7 Greeting 1 55011271\n"
     ]
    },
    {
     "name": "stderr",
     "output_type": "stream",
     "text": [
      "100%|██████████| 2215/2215 [00:12<00:00, 178.86it/s]\n"
     ]
    },
    {
     "name": "stdout",
     "output_type": "stream",
     "text": [
      "S7 Greeting 1 58860488\n"
     ]
    },
    {
     "name": "stderr",
     "output_type": "stream",
     "text": [
      "100%|██████████| 2215/2215 [00:12<00:00, 178.13it/s]\n"
     ]
    },
    {
     "name": "stdout",
     "output_type": "stream",
     "text": [
      "S7 Greeting 1 60457274\n"
     ]
    },
    {
     "name": "stderr",
     "output_type": "stream",
     "text": [
      "100%|██████████| 2215/2215 [00:12<00:00, 176.95it/s]\n"
     ]
    },
    {
     "name": "stdout",
     "output_type": "stream",
     "text": [
      "S7 Phoning 2 54138969\n"
     ]
    },
    {
     "name": "stderr",
     "output_type": "stream",
     "text": [
      "100%|██████████| 4354/4354 [00:28<00:00, 153.04it/s]\n"
     ]
    },
    {
     "name": "stdout",
     "output_type": "stream",
     "text": [
      "S7 Phoning 2 55011271\n"
     ]
    },
    {
     "name": "stderr",
     "output_type": "stream",
     "text": [
      "100%|██████████| 4354/4354 [00:28<00:00, 151.61it/s]\n"
     ]
    },
    {
     "name": "stdout",
     "output_type": "stream",
     "text": [
      "S7 Phoning 2 58860488\n"
     ]
    },
    {
     "name": "stderr",
     "output_type": "stream",
     "text": [
      "100%|██████████| 4354/4354 [00:28<00:00, 152.56it/s]\n"
     ]
    },
    {
     "name": "stdout",
     "output_type": "stream",
     "text": [
      "S7 Phoning 2 60457274\n"
     ]
    },
    {
     "name": "stderr",
     "output_type": "stream",
     "text": [
      "100%|██████████| 4354/4354 [00:28<00:00, 151.08it/s]\n"
     ]
    },
    {
     "name": "stdout",
     "output_type": "stream",
     "text": [
      "S7 Phoning 54138969\n"
     ]
    },
    {
     "name": "stderr",
     "output_type": "stream",
     "text": [
      "100%|██████████| 3586/3586 [00:24<00:00, 144.70it/s]\n"
     ]
    },
    {
     "name": "stdout",
     "output_type": "stream",
     "text": [
      "S7 Phoning 55011271\n"
     ]
    },
    {
     "name": "stderr",
     "output_type": "stream",
     "text": [
      "100%|██████████| 3586/3586 [00:25<00:00, 141.32it/s]\n"
     ]
    },
    {
     "name": "stdout",
     "output_type": "stream",
     "text": [
      "S7 Phoning 58860488\n"
     ]
    },
    {
     "name": "stderr",
     "output_type": "stream",
     "text": [
      "100%|██████████| 3586/3586 [00:24<00:00, 145.21it/s]\n"
     ]
    },
    {
     "name": "stdout",
     "output_type": "stream",
     "text": [
      "S7 Phoning 60457274\n"
     ]
    },
    {
     "name": "stderr",
     "output_type": "stream",
     "text": [
      "100%|██████████| 3586/3586 [00:24<00:00, 145.90it/s]\n"
     ]
    },
    {
     "name": "stdout",
     "output_type": "stream",
     "text": [
      "S7 Smoking 1 54138969\n"
     ]
    },
    {
     "name": "stderr",
     "output_type": "stream",
     "text": [
      "100%|██████████| 4395/4395 [00:29<00:00, 147.35it/s]\n"
     ]
    },
    {
     "name": "stdout",
     "output_type": "stream",
     "text": [
      "S7 Smoking 1 55011271\n"
     ]
    },
    {
     "name": "stderr",
     "output_type": "stream",
     "text": [
      "100%|██████████| 4395/4395 [00:29<00:00, 150.95it/s]\n"
     ]
    },
    {
     "name": "stdout",
     "output_type": "stream",
     "text": [
      "S7 Smoking 1 58860488\n"
     ]
    },
    {
     "name": "stderr",
     "output_type": "stream",
     "text": [
      "100%|██████████| 4395/4395 [00:29<00:00, 148.33it/s]\n"
     ]
    },
    {
     "name": "stdout",
     "output_type": "stream",
     "text": [
      "S7 Smoking 1 60457274\n"
     ]
    },
    {
     "name": "stderr",
     "output_type": "stream",
     "text": [
      "100%|██████████| 4395/4395 [00:29<00:00, 147.54it/s]\n"
     ]
    },
    {
     "name": "stdout",
     "output_type": "stream",
     "text": [
      "S7 Discussion 1 54138969\n"
     ]
    },
    {
     "name": "stderr",
     "output_type": "stream",
     "text": [
      "100%|██████████| 5415/5415 [00:31<00:00, 173.90it/s]\n"
     ]
    },
    {
     "name": "stdout",
     "output_type": "stream",
     "text": [
      "S7 Discussion 1 55011271\n"
     ]
    },
    {
     "name": "stderr",
     "output_type": "stream",
     "text": [
      "100%|██████████| 5415/5415 [00:31<00:00, 171.33it/s]\n"
     ]
    },
    {
     "name": "stdout",
     "output_type": "stream",
     "text": [
      "S7 Discussion 1 58860488\n"
     ]
    },
    {
     "name": "stderr",
     "output_type": "stream",
     "text": [
      "100%|██████████| 5415/5415 [00:31<00:00, 172.79it/s]\n"
     ]
    },
    {
     "name": "stdout",
     "output_type": "stream",
     "text": [
      "S7 Discussion 1 60457274\n"
     ]
    },
    {
     "name": "stderr",
     "output_type": "stream",
     "text": [
      "100%|██████████| 5415/5415 [00:31<00:00, 171.07it/s]\n"
     ]
    },
    {
     "name": "stdout",
     "output_type": "stream",
     "text": [
      "S7 WalkTogether 54138969\n"
     ]
    },
    {
     "name": "stderr",
     "output_type": "stream",
     "text": [
      "100%|██████████| 2871/2871 [00:17<00:00, 163.52it/s]\n"
     ]
    },
    {
     "name": "stdout",
     "output_type": "stream",
     "text": [
      "S7 WalkTogether 55011271\n"
     ]
    },
    {
     "name": "stderr",
     "output_type": "stream",
     "text": [
      "100%|██████████| 2871/2871 [00:17<00:00, 162.81it/s]\n"
     ]
    },
    {
     "name": "stdout",
     "output_type": "stream",
     "text": [
      "S7 WalkTogether 58860488\n"
     ]
    },
    {
     "name": "stderr",
     "output_type": "stream",
     "text": [
      "100%|██████████| 2871/2871 [00:17<00:00, 166.56it/s]\n"
     ]
    },
    {
     "name": "stdout",
     "output_type": "stream",
     "text": [
      "S7 WalkTogether 60457274\n"
     ]
    },
    {
     "name": "stderr",
     "output_type": "stream",
     "text": [
      "100%|██████████| 2871/2871 [00:17<00:00, 164.14it/s]\n"
     ]
    },
    {
     "name": "stdout",
     "output_type": "stream",
     "text": [
      "S7 Sitting 1 54138969\n"
     ]
    },
    {
     "name": "stderr",
     "output_type": "stream",
     "text": [
      "100%|██████████| 4533/4533 [00:32<00:00, 140.92it/s]\n"
     ]
    },
    {
     "name": "stdout",
     "output_type": "stream",
     "text": [
      "S7 Sitting 1 55011271\n"
     ]
    },
    {
     "name": "stderr",
     "output_type": "stream",
     "text": [
      "100%|██████████| 4533/4533 [00:32<00:00, 141.35it/s]\n"
     ]
    },
    {
     "name": "stdout",
     "output_type": "stream",
     "text": [
      "S7 Sitting 1 58860488\n"
     ]
    },
    {
     "name": "stderr",
     "output_type": "stream",
     "text": [
      "100%|██████████| 4533/4533 [00:31<00:00, 142.13it/s]\n"
     ]
    },
    {
     "name": "stdout",
     "output_type": "stream",
     "text": [
      "S7 Sitting 1 60457274\n"
     ]
    },
    {
     "name": "stderr",
     "output_type": "stream",
     "text": [
      "100%|██████████| 4533/4533 [00:31<00:00, 142.45it/s]\n"
     ]
    },
    {
     "name": "stdout",
     "output_type": "stream",
     "text": [
      "S7 Walking 2 54138969\n"
     ]
    },
    {
     "name": "stderr",
     "output_type": "stream",
     "text": [
      "100%|██████████| 3623/3623 [00:23<00:00, 157.26it/s]\n"
     ]
    },
    {
     "name": "stdout",
     "output_type": "stream",
     "text": [
      "S7 Walking 2 55011271\n"
     ]
    },
    {
     "name": "stderr",
     "output_type": "stream",
     "text": [
      "100%|██████████| 3623/3623 [00:22<00:00, 161.57it/s]\n"
     ]
    },
    {
     "name": "stdout",
     "output_type": "stream",
     "text": [
      "S7 Walking 2 58860488\n"
     ]
    },
    {
     "name": "stderr",
     "output_type": "stream",
     "text": [
      "100%|██████████| 3623/3623 [00:22<00:00, 159.03it/s]\n"
     ]
    },
    {
     "name": "stdout",
     "output_type": "stream",
     "text": [
      "S7 Walking 2 60457274\n"
     ]
    },
    {
     "name": "stderr",
     "output_type": "stream",
     "text": [
      "100%|██████████| 3623/3623 [00:22<00:00, 157.68it/s]\n"
     ]
    },
    {
     "name": "stdout",
     "output_type": "stream",
     "text": [
      "S7 SittingDown 54138969\n"
     ]
    },
    {
     "name": "stderr",
     "output_type": "stream",
     "text": [
      "100%|██████████| 4549/4549 [00:31<00:00, 145.14it/s]\n"
     ]
    },
    {
     "name": "stdout",
     "output_type": "stream",
     "text": [
      "S7 SittingDown 55011271\n"
     ]
    },
    {
     "name": "stderr",
     "output_type": "stream",
     "text": [
      "100%|██████████| 4549/4549 [00:30<00:00, 149.99it/s]\n"
     ]
    },
    {
     "name": "stdout",
     "output_type": "stream",
     "text": [
      "S7 SittingDown 58860488\n"
     ]
    },
    {
     "name": "stderr",
     "output_type": "stream",
     "text": [
      "100%|██████████| 4549/4549 [00:30<00:00, 150.03it/s]\n"
     ]
    },
    {
     "name": "stdout",
     "output_type": "stream",
     "text": [
      "S7 SittingDown 60457274\n"
     ]
    },
    {
     "name": "stderr",
     "output_type": "stream",
     "text": [
      "100%|██████████| 4549/4549 [00:30<00:00, 147.71it/s]\n"
     ]
    },
    {
     "name": "stdout",
     "output_type": "stream",
     "text": [
      "S7 Directions 54138969\n"
     ]
    },
    {
     "name": "stderr",
     "output_type": "stream",
     "text": [
      "100%|██████████| 2949/2949 [00:17<00:00, 173.43it/s]\n"
     ]
    },
    {
     "name": "stdout",
     "output_type": "stream",
     "text": [
      "S7 Directions 55011271\n"
     ]
    },
    {
     "name": "stderr",
     "output_type": "stream",
     "text": [
      "100%|██████████| 2949/2949 [00:17<00:00, 173.27it/s]\n"
     ]
    },
    {
     "name": "stdout",
     "output_type": "stream",
     "text": [
      "S7 Directions 58860488\n"
     ]
    },
    {
     "name": "stderr",
     "output_type": "stream",
     "text": [
      "100%|██████████| 2949/2949 [00:16<00:00, 174.56it/s]\n"
     ]
    },
    {
     "name": "stdout",
     "output_type": "stream",
     "text": [
      "S7 Directions 60457274\n"
     ]
    },
    {
     "name": "stderr",
     "output_type": "stream",
     "text": [
      "100%|██████████| 2949/2949 [00:17<00:00, 172.81it/s]\n"
     ]
    },
    {
     "name": "stdout",
     "output_type": "stream",
     "text": [
      "S7 SittingDown 1 54138969\n"
     ]
    },
    {
     "name": "stderr",
     "output_type": "stream",
     "text": [
      "100%|██████████| 6343/6343 [00:44<00:00, 143.15it/s]\n"
     ]
    },
    {
     "name": "stdout",
     "output_type": "stream",
     "text": [
      "S7 SittingDown 1 55011271\n"
     ]
    },
    {
     "name": "stderr",
     "output_type": "stream",
     "text": [
      "100%|██████████| 6343/6343 [00:43<00:00, 144.52it/s]\n"
     ]
    },
    {
     "name": "stdout",
     "output_type": "stream",
     "text": [
      "S7 SittingDown 1 58860488\n"
     ]
    },
    {
     "name": "stderr",
     "output_type": "stream",
     "text": [
      "100%|██████████| 6343/6343 [00:44<00:00, 143.42it/s]\n"
     ]
    },
    {
     "name": "stdout",
     "output_type": "stream",
     "text": [
      "S7 SittingDown 1 60457274\n"
     ]
    },
    {
     "name": "stderr",
     "output_type": "stream",
     "text": [
      "100%|██████████| 6343/6343 [00:42<00:00, 148.16it/s]\n"
     ]
    },
    {
     "name": "stdout",
     "output_type": "stream",
     "text": [
      "S7 Directions 1 54138969\n"
     ]
    },
    {
     "name": "stderr",
     "output_type": "stream",
     "text": [
      "100%|██████████| 2549/2549 [00:14<00:00, 179.82it/s]\n"
     ]
    },
    {
     "name": "stdout",
     "output_type": "stream",
     "text": [
      "S7 Directions 1 55011271\n"
     ]
    },
    {
     "name": "stderr",
     "output_type": "stream",
     "text": [
      "100%|██████████| 2549/2549 [00:14<00:00, 177.14it/s]\n"
     ]
    },
    {
     "name": "stdout",
     "output_type": "stream",
     "text": [
      "S7 Directions 1 58860488\n"
     ]
    },
    {
     "name": "stderr",
     "output_type": "stream",
     "text": [
      "100%|██████████| 2549/2549 [00:14<00:00, 175.94it/s]\n"
     ]
    },
    {
     "name": "stdout",
     "output_type": "stream",
     "text": [
      "S7 Directions 1 60457274\n"
     ]
    },
    {
     "name": "stderr",
     "output_type": "stream",
     "text": [
      "100%|██████████| 2549/2549 [00:14<00:00, 177.56it/s]\n"
     ]
    },
    {
     "name": "stdout",
     "output_type": "stream",
     "text": [
      "S7 Purchases 54138969\n"
     ]
    },
    {
     "name": "stderr",
     "output_type": "stream",
     "text": [
      "100%|██████████| 1527/1527 [00:08<00:00, 171.88it/s]\n"
     ]
    },
    {
     "name": "stdout",
     "output_type": "stream",
     "text": [
      "S7 Purchases 55011271\n"
     ]
    },
    {
     "name": "stderr",
     "output_type": "stream",
     "text": [
      "100%|██████████| 1527/1527 [00:08<00:00, 170.62it/s]\n"
     ]
    },
    {
     "name": "stdout",
     "output_type": "stream",
     "text": [
      "S7 Purchases 58860488\n"
     ]
    },
    {
     "name": "stderr",
     "output_type": "stream",
     "text": [
      "100%|██████████| 1527/1527 [00:08<00:00, 171.13it/s]\n"
     ]
    },
    {
     "name": "stdout",
     "output_type": "stream",
     "text": [
      "S7 Purchases 60457274\n"
     ]
    },
    {
     "name": "stderr",
     "output_type": "stream",
     "text": [
      "100%|██████████| 1527/1527 [00:08<00:00, 170.74it/s]\n"
     ]
    },
    {
     "name": "stdout",
     "output_type": "stream",
     "text": [
      "S7 Walking 1 54138969\n"
     ]
    },
    {
     "name": "stderr",
     "output_type": "stream",
     "text": [
      "100%|██████████| 3636/3636 [00:23<00:00, 153.75it/s]\n"
     ]
    },
    {
     "name": "stdout",
     "output_type": "stream",
     "text": [
      "S7 Walking 1 55011271\n"
     ]
    },
    {
     "name": "stderr",
     "output_type": "stream",
     "text": [
      "100%|██████████| 3636/3636 [00:23<00:00, 155.91it/s]\n"
     ]
    },
    {
     "name": "stdout",
     "output_type": "stream",
     "text": [
      "S7 Walking 1 58860488\n"
     ]
    },
    {
     "name": "stderr",
     "output_type": "stream",
     "text": [
      "100%|██████████| 3636/3636 [00:22<00:00, 160.41it/s]\n"
     ]
    },
    {
     "name": "stdout",
     "output_type": "stream",
     "text": [
      "S7 Walking 1 60457274\n"
     ]
    },
    {
     "name": "stderr",
     "output_type": "stream",
     "text": [
      "100%|██████████| 3636/3636 [00:23<00:00, 156.71it/s]\n"
     ]
    },
    {
     "name": "stdout",
     "output_type": "stream",
     "text": [
      "S7 WalkDog 1 54138969\n"
     ]
    },
    {
     "name": "stderr",
     "output_type": "stream",
     "text": [
      "100%|██████████| 2641/2641 [00:16<00:00, 160.45it/s]\n"
     ]
    },
    {
     "name": "stdout",
     "output_type": "stream",
     "text": [
      "S7 WalkDog 1 55011271\n"
     ]
    },
    {
     "name": "stderr",
     "output_type": "stream",
     "text": [
      "100%|██████████| 2641/2641 [00:15<00:00, 170.22it/s]\n"
     ]
    },
    {
     "name": "stdout",
     "output_type": "stream",
     "text": [
      "S7 WalkDog 1 58860488\n"
     ]
    },
    {
     "name": "stderr",
     "output_type": "stream",
     "text": [
      "100%|██████████| 2641/2641 [00:15<00:00, 165.82it/s]\n"
     ]
    },
    {
     "name": "stdout",
     "output_type": "stream",
     "text": [
      "S7 WalkDog 1 60457274\n"
     ]
    },
    {
     "name": "stderr",
     "output_type": "stream",
     "text": [
      "100%|██████████| 2641/2641 [00:15<00:00, 165.42it/s]\n"
     ]
    },
    {
     "name": "stdout",
     "output_type": "stream",
     "text": [
      "S7 Discussion 54138969\n"
     ]
    },
    {
     "name": "stderr",
     "output_type": "stream",
     "text": [
      "100%|██████████| 5470/5470 [00:34<00:00, 160.83it/s]\n"
     ]
    },
    {
     "name": "stdout",
     "output_type": "stream",
     "text": [
      "S7 Discussion 55011271\n"
     ]
    },
    {
     "name": "stderr",
     "output_type": "stream",
     "text": [
      "100%|██████████| 5470/5470 [00:34<00:00, 160.61it/s]\n"
     ]
    },
    {
     "name": "stdout",
     "output_type": "stream",
     "text": [
      "S7 Discussion 58860488\n"
     ]
    },
    {
     "name": "stderr",
     "output_type": "stream",
     "text": [
      "100%|██████████| 5470/5470 [00:34<00:00, 160.28it/s]\n"
     ]
    },
    {
     "name": "stdout",
     "output_type": "stream",
     "text": [
      "S7 Discussion 60457274\n"
     ]
    },
    {
     "name": "stderr",
     "output_type": "stream",
     "text": [
      "100%|██████████| 5470/5470 [00:33<00:00, 163.13it/s]\n"
     ]
    },
    {
     "name": "stdout",
     "output_type": "stream",
     "text": [
      "S7 Eating 54138969\n"
     ]
    },
    {
     "name": "stderr",
     "output_type": "stream",
     "text": [
      "100%|██████████| 3171/3171 [00:19<00:00, 164.27it/s]\n"
     ]
    },
    {
     "name": "stdout",
     "output_type": "stream",
     "text": [
      "S7 Eating 55011271\n"
     ]
    },
    {
     "name": "stderr",
     "output_type": "stream",
     "text": [
      "100%|██████████| 3171/3171 [00:19<00:00, 159.50it/s]\n"
     ]
    },
    {
     "name": "stdout",
     "output_type": "stream",
     "text": [
      "S7 Eating 58860488\n"
     ]
    },
    {
     "name": "stderr",
     "output_type": "stream",
     "text": [
      "100%|██████████| 3171/3171 [00:19<00:00, 159.85it/s]\n"
     ]
    },
    {
     "name": "stdout",
     "output_type": "stream",
     "text": [
      "S7 Eating 60457274\n"
     ]
    },
    {
     "name": "stderr",
     "output_type": "stream",
     "text": [
      "100%|██████████| 3171/3171 [00:19<00:00, 161.02it/s]\n"
     ]
    },
    {
     "name": "stdout",
     "output_type": "stream",
     "text": [
      "S7 Posing 54138969\n"
     ]
    },
    {
     "name": "stderr",
     "output_type": "stream",
     "text": [
      "100%|██████████| 2920/2920 [00:17<00:00, 167.21it/s]\n"
     ]
    },
    {
     "name": "stdout",
     "output_type": "stream",
     "text": [
      "S7 Posing 55011271\n"
     ]
    },
    {
     "name": "stderr",
     "output_type": "stream",
     "text": [
      "100%|██████████| 2920/2920 [00:17<00:00, 164.30it/s]\n"
     ]
    },
    {
     "name": "stdout",
     "output_type": "stream",
     "text": [
      "S7 Posing 58860488\n"
     ]
    },
    {
     "name": "stderr",
     "output_type": "stream",
     "text": [
      "100%|██████████| 2920/2920 [00:17<00:00, 168.86it/s]\n"
     ]
    },
    {
     "name": "stdout",
     "output_type": "stream",
     "text": [
      "S7 Posing 60457274\n"
     ]
    },
    {
     "name": "stderr",
     "output_type": "stream",
     "text": [
      "100%|██████████| 2920/2920 [00:17<00:00, 167.64it/s]\n"
     ]
    },
    {
     "name": "stdout",
     "output_type": "stream",
     "text": [
      "S7 Greeting 54138969\n"
     ]
    },
    {
     "name": "stderr",
     "output_type": "stream",
     "text": [
      "100%|██████████| 2161/2161 [00:12<00:00, 177.22it/s]\n"
     ]
    },
    {
     "name": "stdout",
     "output_type": "stream",
     "text": [
      "S7 Greeting 55011271\n"
     ]
    },
    {
     "name": "stderr",
     "output_type": "stream",
     "text": [
      "100%|██████████| 2161/2161 [00:12<00:00, 174.86it/s]\n"
     ]
    },
    {
     "name": "stdout",
     "output_type": "stream",
     "text": [
      "S7 Greeting 58860488\n"
     ]
    },
    {
     "name": "stderr",
     "output_type": "stream",
     "text": [
      "100%|██████████| 2161/2161 [00:12<00:00, 177.78it/s]\n"
     ]
    },
    {
     "name": "stdout",
     "output_type": "stream",
     "text": [
      "S7 Greeting 60457274\n"
     ]
    },
    {
     "name": "stderr",
     "output_type": "stream",
     "text": [
      "100%|██████████| 2161/2161 [00:12<00:00, 176.85it/s]\n"
     ]
    },
    {
     "name": "stdout",
     "output_type": "stream",
     "text": [
      "S7 Posing 1 54138969\n"
     ]
    },
    {
     "name": "stderr",
     "output_type": "stream",
     "text": [
      "100%|██████████| 2341/2341 [00:13<00:00, 170.80it/s]\n"
     ]
    },
    {
     "name": "stdout",
     "output_type": "stream",
     "text": [
      "S7 Posing 1 55011271\n"
     ]
    },
    {
     "name": "stderr",
     "output_type": "stream",
     "text": [
      "100%|██████████| 2341/2341 [00:13<00:00, 171.36it/s]\n"
     ]
    },
    {
     "name": "stdout",
     "output_type": "stream",
     "text": [
      "S7 Posing 1 58860488\n"
     ]
    },
    {
     "name": "stderr",
     "output_type": "stream",
     "text": [
      "100%|██████████| 2341/2341 [00:13<00:00, 171.53it/s]\n"
     ]
    },
    {
     "name": "stdout",
     "output_type": "stream",
     "text": [
      "S7 Posing 1 60457274\n"
     ]
    },
    {
     "name": "stderr",
     "output_type": "stream",
     "text": [
      "100%|██████████| 2341/2341 [00:13<00:00, 173.46it/s]\n"
     ]
    },
    {
     "name": "stdout",
     "output_type": "stream",
     "text": [
      "S7 WalkDog 54138969\n"
     ]
    },
    {
     "name": "stderr",
     "output_type": "stream",
     "text": [
      "100%|██████████| 2732/2732 [00:16<00:00, 165.45it/s]\n"
     ]
    },
    {
     "name": "stdout",
     "output_type": "stream",
     "text": [
      "S7 WalkDog 55011271\n"
     ]
    },
    {
     "name": "stderr",
     "output_type": "stream",
     "text": [
      "100%|██████████| 2732/2732 [00:16<00:00, 164.48it/s]\n"
     ]
    },
    {
     "name": "stdout",
     "output_type": "stream",
     "text": [
      "S7 WalkDog 58860488\n"
     ]
    },
    {
     "name": "stderr",
     "output_type": "stream",
     "text": [
      "100%|██████████| 2732/2732 [00:16<00:00, 164.59it/s]\n"
     ]
    },
    {
     "name": "stdout",
     "output_type": "stream",
     "text": [
      "S7 WalkDog 60457274\n"
     ]
    },
    {
     "name": "stderr",
     "output_type": "stream",
     "text": [
      "100%|██████████| 2732/2732 [00:16<00:00, 162.36it/s]\n"
     ]
    },
    {
     "name": "stdout",
     "output_type": "stream",
     "text": [
      "S7 Photo 54138969\n"
     ]
    },
    {
     "name": "stderr",
     "output_type": "stream",
     "text": [
      "100%|██████████| 2155/2155 [00:12<00:00, 170.25it/s]\n"
     ]
    },
    {
     "name": "stdout",
     "output_type": "stream",
     "text": [
      "S7 Photo 55011271\n"
     ]
    },
    {
     "name": "stderr",
     "output_type": "stream",
     "text": [
      "100%|██████████| 2155/2155 [00:12<00:00, 170.68it/s]\n"
     ]
    },
    {
     "name": "stdout",
     "output_type": "stream",
     "text": [
      "S7 Photo 58860488\n"
     ]
    },
    {
     "name": "stderr",
     "output_type": "stream",
     "text": [
      "100%|██████████| 2155/2155 [00:12<00:00, 170.06it/s]\n"
     ]
    },
    {
     "name": "stdout",
     "output_type": "stream",
     "text": [
      "S7 Photo 60457274\n"
     ]
    },
    {
     "name": "stderr",
     "output_type": "stream",
     "text": [
      "100%|██████████| 2155/2155 [00:12<00:00, 167.02it/s]\n"
     ]
    },
    {
     "name": "stdout",
     "output_type": "stream",
     "text": [
      "S7 Purchases 1 54138969\n"
     ]
    },
    {
     "name": "stderr",
     "output_type": "stream",
     "text": [
      "100%|██████████| 1237/1237 [00:07<00:00, 162.30it/s]\n"
     ]
    },
    {
     "name": "stdout",
     "output_type": "stream",
     "text": [
      "S7 Purchases 1 55011271\n"
     ]
    },
    {
     "name": "stderr",
     "output_type": "stream",
     "text": [
      "100%|██████████| 1237/1237 [00:07<00:00, 163.61it/s]\n"
     ]
    },
    {
     "name": "stdout",
     "output_type": "stream",
     "text": [
      "S7 Purchases 1 58860488\n"
     ]
    },
    {
     "name": "stderr",
     "output_type": "stream",
     "text": [
      "100%|██████████| 1237/1237 [00:07<00:00, 163.83it/s]\n"
     ]
    },
    {
     "name": "stdout",
     "output_type": "stream",
     "text": [
      "S7 Purchases 1 60457274\n"
     ]
    },
    {
     "name": "stderr",
     "output_type": "stream",
     "text": [
      "100%|██████████| 1237/1237 [00:07<00:00, 162.45it/s]\n"
     ]
    },
    {
     "name": "stdout",
     "output_type": "stream",
     "text": [
      "S7 Eating 1 54138969\n"
     ]
    },
    {
     "name": "stderr",
     "output_type": "stream",
     "text": [
      "100%|██████████| 3763/3763 [00:23<00:00, 158.68it/s]\n"
     ]
    },
    {
     "name": "stdout",
     "output_type": "stream",
     "text": [
      "S7 Eating 1 55011271\n"
     ]
    },
    {
     "name": "stderr",
     "output_type": "stream",
     "text": [
      "100%|██████████| 3763/3763 [00:23<00:00, 160.42it/s]\n"
     ]
    },
    {
     "name": "stdout",
     "output_type": "stream",
     "text": [
      "S7 Eating 1 58860488\n"
     ]
    },
    {
     "name": "stderr",
     "output_type": "stream",
     "text": [
      "100%|██████████| 3763/3763 [00:23<00:00, 161.32it/s]\n"
     ]
    },
    {
     "name": "stdout",
     "output_type": "stream",
     "text": [
      "S7 Eating 1 60457274\n"
     ]
    },
    {
     "name": "stderr",
     "output_type": "stream",
     "text": [
      "100%|██████████| 3763/3763 [00:23<00:00, 160.48it/s]\n"
     ]
    },
    {
     "name": "stdout",
     "output_type": "stream",
     "text": [
      "S8 WalkTogether 2 54138969\n"
     ]
    },
    {
     "name": "stderr",
     "output_type": "stream",
     "text": [
      "100%|██████████| 2499/2499 [00:13<00:00, 191.51it/s]\n"
     ]
    },
    {
     "name": "stdout",
     "output_type": "stream",
     "text": [
      "S8 WalkTogether 2 55011271\n"
     ]
    },
    {
     "name": "stderr",
     "output_type": "stream",
     "text": [
      "100%|██████████| 2499/2499 [00:13<00:00, 189.95it/s]\n"
     ]
    },
    {
     "name": "stdout",
     "output_type": "stream",
     "text": [
      "S8 WalkTogether 2 58860488\n"
     ]
    },
    {
     "name": "stderr",
     "output_type": "stream",
     "text": [
      "100%|██████████| 2499/2499 [00:12<00:00, 192.48it/s]\n"
     ]
    },
    {
     "name": "stdout",
     "output_type": "stream",
     "text": [
      "S8 WalkTogether 2 60457274\n"
     ]
    },
    {
     "name": "stderr",
     "output_type": "stream",
     "text": [
      "100%|██████████| 2499/2499 [00:13<00:00, 188.51it/s]\n"
     ]
    },
    {
     "name": "stdout",
     "output_type": "stream",
     "text": [
      "S8 Waiting 1 54138969\n"
     ]
    },
    {
     "name": "stderr",
     "output_type": "stream",
     "text": [
      "100%|██████████| 1612/1612 [00:08<00:00, 192.27it/s]\n"
     ]
    },
    {
     "name": "stdout",
     "output_type": "stream",
     "text": [
      "S8 Waiting 1 55011271\n"
     ]
    },
    {
     "name": "stderr",
     "output_type": "stream",
     "text": [
      "100%|██████████| 1612/1612 [00:08<00:00, 193.82it/s]\n"
     ]
    },
    {
     "name": "stdout",
     "output_type": "stream",
     "text": [
      "S8 Waiting 1 58860488\n"
     ]
    },
    {
     "name": "stderr",
     "output_type": "stream",
     "text": [
      "100%|██████████| 1612/1612 [00:08<00:00, 194.18it/s]\n"
     ]
    },
    {
     "name": "stdout",
     "output_type": "stream",
     "text": [
      "S8 Waiting 1 60457274\n"
     ]
    },
    {
     "name": "stderr",
     "output_type": "stream",
     "text": [
      "100%|██████████| 1612/1612 [00:08<00:00, 192.10it/s]\n"
     ]
    },
    {
     "name": "stdout",
     "output_type": "stream",
     "text": [
      "S8 Sitting 54138969\n"
     ]
    },
    {
     "name": "stderr",
     "output_type": "stream",
     "text": [
      "100%|██████████| 2140/2140 [00:12<00:00, 166.71it/s]\n"
     ]
    },
    {
     "name": "stdout",
     "output_type": "stream",
     "text": [
      "S8 Sitting 55011271\n"
     ]
    },
    {
     "name": "stderr",
     "output_type": "stream",
     "text": [
      "100%|██████████| 2140/2140 [00:12<00:00, 168.82it/s]\n"
     ]
    },
    {
     "name": "stdout",
     "output_type": "stream",
     "text": [
      "S8 Sitting 58860488\n"
     ]
    },
    {
     "name": "stderr",
     "output_type": "stream",
     "text": [
      "100%|██████████| 2140/2140 [00:12<00:00, 168.59it/s]\n"
     ]
    },
    {
     "name": "stdout",
     "output_type": "stream",
     "text": [
      "S8 Sitting 60457274\n"
     ]
    },
    {
     "name": "stderr",
     "output_type": "stream",
     "text": [
      "100%|██████████| 2140/2140 [00:12<00:00, 168.71it/s]\n"
     ]
    },
    {
     "name": "stdout",
     "output_type": "stream",
     "text": [
      "S8 Photo 1 54138969\n"
     ]
    },
    {
     "name": "stderr",
     "output_type": "stream",
     "text": [
      "100%|██████████| 1616/1616 [00:08<00:00, 201.01it/s]\n"
     ]
    },
    {
     "name": "stdout",
     "output_type": "stream",
     "text": [
      "S8 Photo 1 55011271\n"
     ]
    },
    {
     "name": "stderr",
     "output_type": "stream",
     "text": [
      "100%|██████████| 1616/1616 [00:08<00:00, 199.37it/s]\n"
     ]
    },
    {
     "name": "stdout",
     "output_type": "stream",
     "text": [
      "S8 Photo 1 58860488\n"
     ]
    },
    {
     "name": "stderr",
     "output_type": "stream",
     "text": [
      "100%|██████████| 1616/1616 [00:07<00:00, 207.02it/s]\n"
     ]
    },
    {
     "name": "stdout",
     "output_type": "stream",
     "text": [
      "S8 Photo 1 60457274\n"
     ]
    },
    {
     "name": "stderr",
     "output_type": "stream",
     "text": [
      "100%|██████████| 1616/1616 [00:07<00:00, 207.25it/s]\n"
     ]
    },
    {
     "name": "stdout",
     "output_type": "stream",
     "text": [
      "S8 Smoking 54138969\n"
     ]
    },
    {
     "name": "stderr",
     "output_type": "stream",
     "text": [
      "100%|██████████| 3333/3333 [00:19<00:00, 174.18it/s]\n"
     ]
    },
    {
     "name": "stdout",
     "output_type": "stream",
     "text": [
      "S8 Smoking 55011271\n"
     ]
    },
    {
     "name": "stderr",
     "output_type": "stream",
     "text": [
      "100%|██████████| 3333/3333 [00:19<00:00, 173.48it/s]\n"
     ]
    },
    {
     "name": "stdout",
     "output_type": "stream",
     "text": [
      "S8 Smoking 58860488\n"
     ]
    },
    {
     "name": "stderr",
     "output_type": "stream",
     "text": [
      "100%|██████████| 3333/3333 [00:19<00:00, 173.31it/s]\n"
     ]
    },
    {
     "name": "stdout",
     "output_type": "stream",
     "text": [
      "S8 Smoking 60457274\n"
     ]
    },
    {
     "name": "stderr",
     "output_type": "stream",
     "text": [
      "100%|██████████| 3333/3333 [00:19<00:00, 171.95it/s]\n"
     ]
    },
    {
     "name": "stdout",
     "output_type": "stream",
     "text": [
      "S8 WalkTogether 1 54138969\n"
     ]
    },
    {
     "name": "stderr",
     "output_type": "stream",
     "text": [
      "100%|██████████| 2359/2359 [00:12<00:00, 186.40it/s]\n"
     ]
    },
    {
     "name": "stdout",
     "output_type": "stream",
     "text": [
      "S8 WalkTogether 1 55011271\n"
     ]
    },
    {
     "name": "stderr",
     "output_type": "stream",
     "text": [
      "100%|██████████| 2359/2359 [00:12<00:00, 188.27it/s]\n"
     ]
    },
    {
     "name": "stdout",
     "output_type": "stream",
     "text": [
      "S8 WalkTogether 1 58860488\n"
     ]
    },
    {
     "name": "stderr",
     "output_type": "stream",
     "text": [
      "100%|██████████| 2359/2359 [00:12<00:00, 187.14it/s]\n"
     ]
    },
    {
     "name": "stdout",
     "output_type": "stream",
     "text": [
      "S8 WalkTogether 1 60457274\n"
     ]
    },
    {
     "name": "stderr",
     "output_type": "stream",
     "text": [
      "100%|██████████| 2359/2359 [00:12<00:00, 185.56it/s]\n"
     ]
    },
    {
     "name": "stdout",
     "output_type": "stream",
     "text": [
      "S8 Greeting 1 54138969\n"
     ]
    },
    {
     "name": "stderr",
     "output_type": "stream",
     "text": [
      "100%|██████████| 1598/1598 [00:07<00:00, 209.66it/s]\n"
     ]
    },
    {
     "name": "stdout",
     "output_type": "stream",
     "text": [
      "S8 Greeting 1 55011271\n"
     ]
    },
    {
     "name": "stderr",
     "output_type": "stream",
     "text": [
      "100%|██████████| 1598/1598 [00:07<00:00, 218.17it/s]\n"
     ]
    },
    {
     "name": "stdout",
     "output_type": "stream",
     "text": [
      "S8 Greeting 1 58860488\n"
     ]
    },
    {
     "name": "stderr",
     "output_type": "stream",
     "text": [
      "100%|██████████| 1598/1598 [00:07<00:00, 215.40it/s]\n"
     ]
    },
    {
     "name": "stdout",
     "output_type": "stream",
     "text": [
      "S8 Greeting 1 60457274\n"
     ]
    },
    {
     "name": "stderr",
     "output_type": "stream",
     "text": [
      "100%|██████████| 1598/1598 [00:07<00:00, 213.99it/s]\n"
     ]
    },
    {
     "name": "stdout",
     "output_type": "stream",
     "text": [
      "S8 Phoning 54138969\n"
     ]
    },
    {
     "name": "stderr",
     "output_type": "stream",
     "text": [
      "100%|██████████| 3319/3319 [00:19<00:00, 172.39it/s]\n"
     ]
    },
    {
     "name": "stdout",
     "output_type": "stream",
     "text": [
      "S8 Phoning 55011271\n"
     ]
    },
    {
     "name": "stderr",
     "output_type": "stream",
     "text": [
      "100%|██████████| 3319/3319 [00:19<00:00, 173.91it/s]\n"
     ]
    },
    {
     "name": "stdout",
     "output_type": "stream",
     "text": [
      "S8 Phoning 58860488\n"
     ]
    },
    {
     "name": "stderr",
     "output_type": "stream",
     "text": [
      "100%|██████████| 3319/3319 [00:19<00:00, 173.05it/s]\n"
     ]
    },
    {
     "name": "stdout",
     "output_type": "stream",
     "text": [
      "S8 Phoning 60457274\n"
     ]
    },
    {
     "name": "stderr",
     "output_type": "stream",
     "text": [
      "100%|██████████| 3319/3319 [00:19<00:00, 171.32it/s]\n"
     ]
    },
    {
     "name": "stdout",
     "output_type": "stream",
     "text": [
      "S8 Phoning 1 54138969\n"
     ]
    },
    {
     "name": "stderr",
     "output_type": "stream",
     "text": [
      "100%|██████████| 2970/2970 [00:17<00:00, 169.38it/s]\n"
     ]
    },
    {
     "name": "stdout",
     "output_type": "stream",
     "text": [
      "S8 Phoning 1 55011271\n"
     ]
    },
    {
     "name": "stderr",
     "output_type": "stream",
     "text": [
      "100%|██████████| 2970/2970 [00:17<00:00, 169.54it/s]\n"
     ]
    },
    {
     "name": "stdout",
     "output_type": "stream",
     "text": [
      "S8 Phoning 1 58860488\n"
     ]
    },
    {
     "name": "stderr",
     "output_type": "stream",
     "text": [
      "100%|██████████| 2970/2970 [00:17<00:00, 169.46it/s]\n"
     ]
    },
    {
     "name": "stdout",
     "output_type": "stream",
     "text": [
      "S8 Phoning 1 60457274\n"
     ]
    },
    {
     "name": "stderr",
     "output_type": "stream",
     "text": [
      "100%|██████████| 2970/2970 [00:17<00:00, 169.80it/s]\n"
     ]
    },
    {
     "name": "stdout",
     "output_type": "stream",
     "text": [
      "S8 Smoking 1 54138969\n"
     ]
    },
    {
     "name": "stderr",
     "output_type": "stream",
     "text": [
      "100%|██████████| 2932/2932 [00:17<00:00, 171.24it/s]\n"
     ]
    },
    {
     "name": "stdout",
     "output_type": "stream",
     "text": [
      "S8 Smoking 1 55011271\n"
     ]
    },
    {
     "name": "stderr",
     "output_type": "stream",
     "text": [
      "100%|██████████| 2932/2932 [00:17<00:00, 171.59it/s]\n"
     ]
    },
    {
     "name": "stdout",
     "output_type": "stream",
     "text": [
      "S8 Smoking 1 58860488\n"
     ]
    },
    {
     "name": "stderr",
     "output_type": "stream",
     "text": [
      "100%|██████████| 2932/2932 [00:17<00:00, 172.33it/s]\n"
     ]
    },
    {
     "name": "stdout",
     "output_type": "stream",
     "text": [
      "S8 Smoking 1 60457274\n"
     ]
    },
    {
     "name": "stderr",
     "output_type": "stream",
     "text": [
      "100%|██████████| 2932/2932 [00:17<00:00, 170.90it/s]\n"
     ]
    },
    {
     "name": "stdout",
     "output_type": "stream",
     "text": [
      "S8 Discussion 1 54138969\n"
     ]
    },
    {
     "name": "stderr",
     "output_type": "stream",
     "text": [
      "100%|██████████| 1931/1931 [00:10<00:00, 186.92it/s]\n"
     ]
    },
    {
     "name": "stdout",
     "output_type": "stream",
     "text": [
      "S8 Discussion 1 55011271\n"
     ]
    },
    {
     "name": "stderr",
     "output_type": "stream",
     "text": [
      "100%|██████████| 1931/1931 [00:10<00:00, 188.63it/s]\n"
     ]
    },
    {
     "name": "stdout",
     "output_type": "stream",
     "text": [
      "S8 Discussion 1 58860488\n"
     ]
    },
    {
     "name": "stderr",
     "output_type": "stream",
     "text": [
      "100%|██████████| 1931/1931 [00:10<00:00, 188.73it/s]\n"
     ]
    },
    {
     "name": "stdout",
     "output_type": "stream",
     "text": [
      "S8 Discussion 1 60457274\n"
     ]
    },
    {
     "name": "stderr",
     "output_type": "stream",
     "text": [
      "100%|██████████| 1931/1931 [00:10<00:00, 187.27it/s]\n"
     ]
    },
    {
     "name": "stdout",
     "output_type": "stream",
     "text": [
      "S8 Sitting 1 54138969\n"
     ]
    },
    {
     "name": "stderr",
     "output_type": "stream",
     "text": [
      "100%|██████████| 2073/2073 [00:12<00:00, 161.59it/s]\n"
     ]
    },
    {
     "name": "stdout",
     "output_type": "stream",
     "text": [
      "S8 Sitting 1 55011271\n"
     ]
    },
    {
     "name": "stderr",
     "output_type": "stream",
     "text": [
      "100%|██████████| 2073/2073 [00:12<00:00, 163.41it/s]\n"
     ]
    },
    {
     "name": "stdout",
     "output_type": "stream",
     "text": [
      "S8 Sitting 1 58860488\n"
     ]
    },
    {
     "name": "stderr",
     "output_type": "stream",
     "text": [
      "100%|██████████| 2073/2073 [00:12<00:00, 163.47it/s]\n"
     ]
    },
    {
     "name": "stdout",
     "output_type": "stream",
     "text": [
      "S8 Sitting 1 60457274\n"
     ]
    },
    {
     "name": "stderr",
     "output_type": "stream",
     "text": [
      "100%|██████████| 2073/2073 [00:12<00:00, 162.01it/s]\n"
     ]
    },
    {
     "name": "stdout",
     "output_type": "stream",
     "text": [
      "S8 SittingDown 54138969\n"
     ]
    },
    {
     "name": "stderr",
     "output_type": "stream",
     "text": [
      "100%|██████████| 1501/1501 [00:09<00:00, 162.85it/s]\n"
     ]
    },
    {
     "name": "stdout",
     "output_type": "stream",
     "text": [
      "S8 SittingDown 55011271\n"
     ]
    },
    {
     "name": "stderr",
     "output_type": "stream",
     "text": [
      "100%|██████████| 1501/1501 [00:09<00:00, 163.53it/s]\n"
     ]
    },
    {
     "name": "stdout",
     "output_type": "stream",
     "text": [
      "S8 SittingDown 58860488\n"
     ]
    },
    {
     "name": "stderr",
     "output_type": "stream",
     "text": [
      "100%|██████████| 1501/1501 [00:09<00:00, 163.50it/s]\n"
     ]
    },
    {
     "name": "stdout",
     "output_type": "stream",
     "text": [
      "S8 SittingDown 60457274\n"
     ]
    },
    {
     "name": "stderr",
     "output_type": "stream",
     "text": [
      "100%|██████████| 1501/1501 [00:09<00:00, 163.61it/s]\n"
     ]
    },
    {
     "name": "stdout",
     "output_type": "stream",
     "text": [
      "S8 Directions 54138969\n"
     ]
    },
    {
     "name": "stderr",
     "output_type": "stream",
     "text": [
      "100%|██████████| 2028/2028 [00:09<00:00, 204.61it/s]\n"
     ]
    },
    {
     "name": "stdout",
     "output_type": "stream",
     "text": [
      "S8 Directions 55011271\n"
     ]
    },
    {
     "name": "stderr",
     "output_type": "stream",
     "text": [
      "100%|██████████| 2028/2028 [00:09<00:00, 205.81it/s]\n"
     ]
    },
    {
     "name": "stdout",
     "output_type": "stream",
     "text": [
      "S8 Directions 58860488\n"
     ]
    },
    {
     "name": "stderr",
     "output_type": "stream",
     "text": [
      "100%|██████████| 2028/2028 [00:09<00:00, 206.80it/s]\n"
     ]
    },
    {
     "name": "stdout",
     "output_type": "stream",
     "text": [
      "S8 Directions 60457274\n"
     ]
    },
    {
     "name": "stderr",
     "output_type": "stream",
     "text": [
      "100%|██████████| 2028/2028 [00:09<00:00, 206.40it/s]\n"
     ]
    },
    {
     "name": "stdout",
     "output_type": "stream",
     "text": [
      "S8 SittingDown 1 54138969\n"
     ]
    },
    {
     "name": "stderr",
     "output_type": "stream",
     "text": [
      "100%|██████████| 1554/1554 [00:09<00:00, 156.69it/s]\n"
     ]
    },
    {
     "name": "stdout",
     "output_type": "stream",
     "text": [
      "S8 SittingDown 1 55011271\n"
     ]
    },
    {
     "name": "stderr",
     "output_type": "stream",
     "text": [
      "100%|██████████| 1554/1554 [00:10<00:00, 154.55it/s]\n"
     ]
    },
    {
     "name": "stdout",
     "output_type": "stream",
     "text": [
      "S8 SittingDown 1 58860488\n"
     ]
    },
    {
     "name": "stderr",
     "output_type": "stream",
     "text": [
      "100%|██████████| 1554/1554 [00:09<00:00, 157.63it/s]\n"
     ]
    },
    {
     "name": "stdout",
     "output_type": "stream",
     "text": [
      "S8 SittingDown 1 60457274\n"
     ]
    },
    {
     "name": "stderr",
     "output_type": "stream",
     "text": [
      "100%|██████████| 1554/1554 [00:09<00:00, 159.27it/s]\n"
     ]
    },
    {
     "name": "stdout",
     "output_type": "stream",
     "text": [
      "S8 Directions 1 54138969\n"
     ]
    },
    {
     "name": "stderr",
     "output_type": "stream",
     "text": [
      "100%|██████████| 2011/2011 [00:10<00:00, 199.48it/s]\n"
     ]
    },
    {
     "name": "stdout",
     "output_type": "stream",
     "text": [
      "S8 Directions 1 55011271\n"
     ]
    },
    {
     "name": "stderr",
     "output_type": "stream",
     "text": [
      "100%|██████████| 2011/2011 [00:10<00:00, 200.69it/s]\n"
     ]
    },
    {
     "name": "stdout",
     "output_type": "stream",
     "text": [
      "S8 Directions 1 58860488\n"
     ]
    },
    {
     "name": "stderr",
     "output_type": "stream",
     "text": [
      "100%|██████████| 2011/2011 [00:10<00:00, 200.59it/s]\n"
     ]
    },
    {
     "name": "stdout",
     "output_type": "stream",
     "text": [
      "S8 Directions 1 60457274\n"
     ]
    },
    {
     "name": "stderr",
     "output_type": "stream",
     "text": [
      "100%|██████████| 2011/2011 [00:10<00:00, 199.42it/s]\n"
     ]
    },
    {
     "name": "stdout",
     "output_type": "stream",
     "text": [
      "S8 Purchases 54138969\n"
     ]
    },
    {
     "name": "stderr",
     "output_type": "stream",
     "text": [
      "100%|██████████| 1193/1193 [00:05<00:00, 207.56it/s]\n"
     ]
    },
    {
     "name": "stdout",
     "output_type": "stream",
     "text": [
      "S8 Purchases 55011271\n"
     ]
    },
    {
     "name": "stderr",
     "output_type": "stream",
     "text": [
      "100%|██████████| 1193/1193 [00:05<00:00, 209.26it/s]\n"
     ]
    },
    {
     "name": "stdout",
     "output_type": "stream",
     "text": [
      "S8 Purchases 58860488\n"
     ]
    },
    {
     "name": "stderr",
     "output_type": "stream",
     "text": [
      "100%|██████████| 1193/1193 [00:05<00:00, 210.94it/s]\n"
     ]
    },
    {
     "name": "stdout",
     "output_type": "stream",
     "text": [
      "S8 Purchases 60457274\n"
     ]
    },
    {
     "name": "stderr",
     "output_type": "stream",
     "text": [
      "100%|██████████| 1193/1193 [00:05<00:00, 208.96it/s]\n"
     ]
    },
    {
     "name": "stdout",
     "output_type": "stream",
     "text": [
      "S8 Walking 1 54138969\n"
     ]
    },
    {
     "name": "stderr",
     "output_type": "stream",
     "text": [
      "100%|██████████| 3737/3737 [00:21<00:00, 172.44it/s]\n"
     ]
    },
    {
     "name": "stdout",
     "output_type": "stream",
     "text": [
      "S8 Walking 1 55011271\n"
     ]
    },
    {
     "name": "stderr",
     "output_type": "stream",
     "text": [
      "100%|██████████| 3737/3737 [00:21<00:00, 176.80it/s]\n"
     ]
    },
    {
     "name": "stdout",
     "output_type": "stream",
     "text": [
      "S8 Walking 1 58860488\n"
     ]
    },
    {
     "name": "stderr",
     "output_type": "stream",
     "text": [
      "100%|██████████| 3737/3737 [00:21<00:00, 175.52it/s]\n"
     ]
    },
    {
     "name": "stdout",
     "output_type": "stream",
     "text": [
      "S8 Walking 1 60457274\n"
     ]
    },
    {
     "name": "stderr",
     "output_type": "stream",
     "text": [
      "100%|██████████| 3737/3737 [00:21<00:00, 173.65it/s]\n"
     ]
    },
    {
     "name": "stdout",
     "output_type": "stream",
     "text": [
      "S8 WalkDog 1 54138969\n"
     ]
    },
    {
     "name": "stderr",
     "output_type": "stream",
     "text": [
      "100%|██████████| 1735/1735 [00:08<00:00, 193.85it/s]\n"
     ]
    },
    {
     "name": "stdout",
     "output_type": "stream",
     "text": [
      "S8 WalkDog 1 55011271\n"
     ]
    },
    {
     "name": "stderr",
     "output_type": "stream",
     "text": [
      "100%|██████████| 1735/1735 [00:08<00:00, 196.15it/s]\n"
     ]
    },
    {
     "name": "stdout",
     "output_type": "stream",
     "text": [
      "S8 WalkDog 1 58860488\n"
     ]
    },
    {
     "name": "stderr",
     "output_type": "stream",
     "text": [
      "100%|██████████| 1735/1735 [00:08<00:00, 195.40it/s]\n"
     ]
    },
    {
     "name": "stdout",
     "output_type": "stream",
     "text": [
      "S8 WalkDog 1 60457274\n"
     ]
    },
    {
     "name": "stderr",
     "output_type": "stream",
     "text": [
      "100%|██████████| 1735/1735 [00:08<00:00, 196.00it/s]\n"
     ]
    },
    {
     "name": "stdout",
     "output_type": "stream",
     "text": [
      "S8 Waiting 54138969\n"
     ]
    },
    {
     "name": "stderr",
     "output_type": "stream",
     "text": [
      "100%|██████████| 1715/1715 [00:09<00:00, 188.83it/s]\n"
     ]
    },
    {
     "name": "stdout",
     "output_type": "stream",
     "text": [
      "S8 Waiting 55011271\n"
     ]
    },
    {
     "name": "stderr",
     "output_type": "stream",
     "text": [
      "100%|██████████| 1715/1715 [00:09<00:00, 190.54it/s]\n"
     ]
    },
    {
     "name": "stdout",
     "output_type": "stream",
     "text": [
      "S8 Waiting 58860488\n"
     ]
    },
    {
     "name": "stderr",
     "output_type": "stream",
     "text": [
      "100%|██████████| 1715/1715 [00:09<00:00, 189.92it/s]\n"
     ]
    },
    {
     "name": "stdout",
     "output_type": "stream",
     "text": [
      "S8 Waiting 60457274\n"
     ]
    },
    {
     "name": "stderr",
     "output_type": "stream",
     "text": [
      "100%|██████████| 1715/1715 [00:09<00:00, 188.61it/s]\n"
     ]
    },
    {
     "name": "stdout",
     "output_type": "stream",
     "text": [
      "S8 Walking 54138969\n"
     ]
    },
    {
     "name": "stderr",
     "output_type": "stream",
     "text": [
      "100%|██████████| 3695/3695 [00:21<00:00, 170.14it/s]\n"
     ]
    },
    {
     "name": "stdout",
     "output_type": "stream",
     "text": [
      "S8 Walking 55011271\n"
     ]
    },
    {
     "name": "stderr",
     "output_type": "stream",
     "text": [
      "100%|██████████| 3695/3695 [00:21<00:00, 171.74it/s]\n"
     ]
    },
    {
     "name": "stdout",
     "output_type": "stream",
     "text": [
      "S8 Walking 58860488\n"
     ]
    },
    {
     "name": "stderr",
     "output_type": "stream",
     "text": [
      "100%|██████████| 3695/3695 [00:21<00:00, 174.35it/s]\n"
     ]
    },
    {
     "name": "stdout",
     "output_type": "stream",
     "text": [
      "S8 Walking 60457274\n"
     ]
    },
    {
     "name": "stderr",
     "output_type": "stream",
     "text": [
      "100%|██████████| 3695/3695 [00:21<00:00, 175.34it/s]\n"
     ]
    },
    {
     "name": "stdout",
     "output_type": "stream",
     "text": [
      "S8 Discussion 54138969\n"
     ]
    },
    {
     "name": "stderr",
     "output_type": "stream",
     "text": [
      "100%|██████████| 2064/2064 [00:10<00:00, 190.10it/s]\n"
     ]
    },
    {
     "name": "stdout",
     "output_type": "stream",
     "text": [
      "S8 Discussion 55011271\n"
     ]
    },
    {
     "name": "stderr",
     "output_type": "stream",
     "text": [
      "100%|██████████| 2064/2064 [00:10<00:00, 190.34it/s]\n"
     ]
    },
    {
     "name": "stdout",
     "output_type": "stream",
     "text": [
      "S8 Discussion 58860488\n"
     ]
    },
    {
     "name": "stderr",
     "output_type": "stream",
     "text": [
      "100%|██████████| 2064/2064 [00:10<00:00, 188.25it/s]\n"
     ]
    },
    {
     "name": "stdout",
     "output_type": "stream",
     "text": [
      "S8 Discussion 60457274\n"
     ]
    },
    {
     "name": "stderr",
     "output_type": "stream",
     "text": [
      "100%|██████████| 2064/2064 [00:11<00:00, 182.55it/s]\n"
     ]
    },
    {
     "name": "stdout",
     "output_type": "stream",
     "text": [
      "S8 Eating 54138969\n"
     ]
    },
    {
     "name": "stderr",
     "output_type": "stream",
     "text": [
      "100%|██████████| 2694/2694 [00:15<00:00, 179.45it/s]\n"
     ]
    },
    {
     "name": "stdout",
     "output_type": "stream",
     "text": [
      "S8 Eating 55011271\n"
     ]
    },
    {
     "name": "stderr",
     "output_type": "stream",
     "text": [
      "100%|██████████| 2694/2694 [00:14<00:00, 190.94it/s]\n"
     ]
    },
    {
     "name": "stdout",
     "output_type": "stream",
     "text": [
      "S8 Eating 58860488\n"
     ]
    },
    {
     "name": "stderr",
     "output_type": "stream",
     "text": [
      "100%|██████████| 2694/2694 [00:14<00:00, 180.33it/s]\n"
     ]
    },
    {
     "name": "stdout",
     "output_type": "stream",
     "text": [
      "S8 Eating 60457274\n"
     ]
    },
    {
     "name": "stderr",
     "output_type": "stream",
     "text": [
      "100%|██████████| 2694/2694 [00:14<00:00, 190.05it/s]\n"
     ]
    },
    {
     "name": "stdout",
     "output_type": "stream",
     "text": [
      "S8 Posing 54138969\n"
     ]
    },
    {
     "name": "stderr",
     "output_type": "stream",
     "text": [
      "100%|██████████| 1685/1685 [00:08<00:00, 201.70it/s]\n"
     ]
    },
    {
     "name": "stdout",
     "output_type": "stream",
     "text": [
      "S8 Posing 55011271\n"
     ]
    },
    {
     "name": "stderr",
     "output_type": "stream",
     "text": [
      "100%|██████████| 1685/1685 [00:08<00:00, 203.04it/s]\n"
     ]
    },
    {
     "name": "stdout",
     "output_type": "stream",
     "text": [
      "S8 Posing 58860488\n"
     ]
    },
    {
     "name": "stderr",
     "output_type": "stream",
     "text": [
      "100%|██████████| 1685/1685 [00:08<00:00, 201.04it/s]\n"
     ]
    },
    {
     "name": "stdout",
     "output_type": "stream",
     "text": [
      "S8 Posing 60457274\n"
     ]
    },
    {
     "name": "stderr",
     "output_type": "stream",
     "text": [
      "100%|██████████| 1685/1685 [00:08<00:00, 202.13it/s]\n"
     ]
    },
    {
     "name": "stdout",
     "output_type": "stream",
     "text": [
      "S8 Greeting 54138969\n"
     ]
    },
    {
     "name": "stderr",
     "output_type": "stream",
     "text": [
      "100%|██████████| 1447/1447 [00:06<00:00, 211.68it/s]\n"
     ]
    },
    {
     "name": "stdout",
     "output_type": "stream",
     "text": [
      "S8 Greeting 55011271\n"
     ]
    },
    {
     "name": "stderr",
     "output_type": "stream",
     "text": [
      "100%|██████████| 1447/1447 [00:06<00:00, 213.25it/s]\n"
     ]
    },
    {
     "name": "stdout",
     "output_type": "stream",
     "text": [
      "S8 Greeting 58860488\n"
     ]
    },
    {
     "name": "stderr",
     "output_type": "stream",
     "text": [
      "100%|██████████| 1447/1447 [00:06<00:00, 210.87it/s]\n"
     ]
    },
    {
     "name": "stdout",
     "output_type": "stream",
     "text": [
      "S8 Greeting 60457274\n"
     ]
    },
    {
     "name": "stderr",
     "output_type": "stream",
     "text": [
      "100%|██████████| 1447/1447 [00:06<00:00, 212.67it/s]\n"
     ]
    },
    {
     "name": "stdout",
     "output_type": "stream",
     "text": [
      "S8 Posing 1 54138969\n"
     ]
    },
    {
     "name": "stderr",
     "output_type": "stream",
     "text": [
      "100%|██████████| 1812/1812 [00:09<00:00, 197.23it/s]\n"
     ]
    },
    {
     "name": "stdout",
     "output_type": "stream",
     "text": [
      "S8 Posing 1 55011271\n"
     ]
    },
    {
     "name": "stderr",
     "output_type": "stream",
     "text": [
      "100%|██████████| 1812/1812 [00:08<00:00, 204.63it/s]\n"
     ]
    },
    {
     "name": "stdout",
     "output_type": "stream",
     "text": [
      "S8 Posing 1 58860488\n"
     ]
    },
    {
     "name": "stderr",
     "output_type": "stream",
     "text": [
      "100%|██████████| 1812/1812 [00:08<00:00, 202.66it/s]\n"
     ]
    },
    {
     "name": "stdout",
     "output_type": "stream",
     "text": [
      "S8 Posing 1 60457274\n"
     ]
    },
    {
     "name": "stderr",
     "output_type": "stream",
     "text": [
      "100%|██████████| 1812/1812 [00:09<00:00, 198.05it/s]\n"
     ]
    },
    {
     "name": "stdout",
     "output_type": "stream",
     "text": [
      "S8 WalkDog 54138969\n"
     ]
    },
    {
     "name": "stderr",
     "output_type": "stream",
     "text": [
      "100%|██████████| 1644/1644 [00:08<00:00, 194.03it/s]\n"
     ]
    },
    {
     "name": "stdout",
     "output_type": "stream",
     "text": [
      "S8 WalkDog 55011271\n"
     ]
    },
    {
     "name": "stderr",
     "output_type": "stream",
     "text": [
      "100%|██████████| 1644/1644 [00:08<00:00, 199.34it/s]\n"
     ]
    },
    {
     "name": "stdout",
     "output_type": "stream",
     "text": [
      "S8 WalkDog 58860488\n"
     ]
    },
    {
     "name": "stderr",
     "output_type": "stream",
     "text": [
      "100%|██████████| 1644/1644 [00:08<00:00, 199.02it/s]\n"
     ]
    },
    {
     "name": "stdout",
     "output_type": "stream",
     "text": [
      "S8 WalkDog 60457274\n"
     ]
    },
    {
     "name": "stderr",
     "output_type": "stream",
     "text": [
      "100%|██████████| 1644/1644 [00:08<00:00, 196.97it/s]\n"
     ]
    },
    {
     "name": "stdout",
     "output_type": "stream",
     "text": [
      "S8 Photo 54138969\n"
     ]
    },
    {
     "name": "stderr",
     "output_type": "stream",
     "text": [
      "100%|██████████| 1700/1700 [00:08<00:00, 195.80it/s]\n"
     ]
    },
    {
     "name": "stdout",
     "output_type": "stream",
     "text": [
      "S8 Photo 55011271\n"
     ]
    },
    {
     "name": "stderr",
     "output_type": "stream",
     "text": [
      "100%|██████████| 1700/1700 [00:08<00:00, 195.56it/s]\n"
     ]
    },
    {
     "name": "stdout",
     "output_type": "stream",
     "text": [
      "S8 Photo 58860488\n"
     ]
    },
    {
     "name": "stderr",
     "output_type": "stream",
     "text": [
      "100%|██████████| 1700/1700 [00:08<00:00, 191.28it/s]\n"
     ]
    },
    {
     "name": "stdout",
     "output_type": "stream",
     "text": [
      "S8 Photo 60457274\n"
     ]
    },
    {
     "name": "stderr",
     "output_type": "stream",
     "text": [
      "100%|██████████| 1700/1700 [00:08<00:00, 196.01it/s]\n"
     ]
    },
    {
     "name": "stdout",
     "output_type": "stream",
     "text": [
      "S8 Purchases 1 54138969\n"
     ]
    },
    {
     "name": "stderr",
     "output_type": "stream",
     "text": [
      "100%|██████████| 1274/1274 [00:05<00:00, 215.51it/s]\n"
     ]
    },
    {
     "name": "stdout",
     "output_type": "stream",
     "text": [
      "S8 Purchases 1 55011271\n"
     ]
    },
    {
     "name": "stderr",
     "output_type": "stream",
     "text": [
      "100%|██████████| 1274/1274 [00:05<00:00, 213.70it/s]\n"
     ]
    },
    {
     "name": "stdout",
     "output_type": "stream",
     "text": [
      "S8 Purchases 1 58860488\n"
     ]
    },
    {
     "name": "stderr",
     "output_type": "stream",
     "text": [
      "100%|██████████| 1274/1274 [00:05<00:00, 215.56it/s]\n"
     ]
    },
    {
     "name": "stdout",
     "output_type": "stream",
     "text": [
      "S8 Purchases 1 60457274\n"
     ]
    },
    {
     "name": "stderr",
     "output_type": "stream",
     "text": [
      "100%|██████████| 1274/1274 [00:05<00:00, 216.33it/s]\n"
     ]
    },
    {
     "name": "stdout",
     "output_type": "stream",
     "text": [
      "S8 Eating 1 54138969\n"
     ]
    },
    {
     "name": "stderr",
     "output_type": "stream",
     "text": [
      "100%|██████████| 2807/2807 [00:14<00:00, 191.15it/s]\n"
     ]
    },
    {
     "name": "stdout",
     "output_type": "stream",
     "text": [
      "S8 Eating 1 55011271\n"
     ]
    },
    {
     "name": "stderr",
     "output_type": "stream",
     "text": [
      "100%|██████████| 2807/2807 [00:15<00:00, 186.96it/s]\n"
     ]
    },
    {
     "name": "stdout",
     "output_type": "stream",
     "text": [
      "S8 Eating 1 58860488\n"
     ]
    },
    {
     "name": "stderr",
     "output_type": "stream",
     "text": [
      "100%|██████████| 2807/2807 [00:14<00:00, 191.71it/s]\n"
     ]
    },
    {
     "name": "stdout",
     "output_type": "stream",
     "text": [
      "S8 Eating 1 60457274\n"
     ]
    },
    {
     "name": "stderr",
     "output_type": "stream",
     "text": [
      "100%|██████████| 2807/2807 [00:14<00:00, 189.82it/s]\n"
     ]
    }
   ],
   "source": [
    "forward = [0, 1, 0]\n",
    "left = [1, 0, 0]\n",
    "up = np.cross(forward, left)\n",
    "cam_default_R = np.array([left, up, forward]) # default camera orientation\n",
    "\n",
    "for subject in ['S9', 'S11', 'S1', 'S5', 'S6', 'S7', 'S8']:\n",
    "    action_list = h36m_3d_world._data[subject].keys()\n",
    "    for action in action_list:\n",
    "        pose3d_list_h36m = h36m_3d_world._data[subject][action]['positions'] # \n",
    "        pose3d_list_h36m -= pose3d_list_h36m[:, 0:1, :] # root joint을 (0, 0, 0)으로 이동\n",
    "        cam_info = h36m_3d_world._data[subject][action]['cameras']\n",
    "        cam_param = get_cam_param(cam_info, subject, h36m_cam_param)\n",
    "        for camera_id in cam_param.keys():\n",
    "            print(subject, action, camera_id)\n",
    "            #print(cam_param[cam_id])\n",
    "            calibration_matrix = np.array(cam_param[camera_id]['int']['calibration_matrix'])\n",
    "            #R = cam_param[camera_id]['ext']['R']\n",
    "            #t = np.array(cam_param[camera_id]['ext']['t'])/1000\n",
    "            R = cam_default_R\n",
    "            C = np.array([0, -3.5, 0])\n",
    "            t = - R @ C\n",
    "\n",
    "            camera_param = {\n",
    "                'intrinsic': calibration_matrix,\n",
    "                'extrinsic': np.concatenate([R, t.reshape(3, 1)], axis=1),\n",
    "            }\n",
    "            #print(camera_param)\n",
    "            available_frames = list(range(len(pose3d_list_h36m)))\n",
    "            generate_kookmin_pkl_for_each_video(pose3d_list=pose3d_list_h36m.copy(), \n",
    "                                                available_frames=available_frames.copy(), \n",
    "                                                subject=subject, \n",
    "                                                camera_id=camera_id, \n",
    "                                                action=action, \n",
    "                                                phase='', \n",
    "                                                camera_param=camera_param.copy(), \n",
    "                                                save_folder=save_folder, \n",
    "                                                trans=None, \n",
    "                                                rot=None, \n",
    "                                                centered_root=False, # True: root joint을 (0, 0, 0)으로 이동, False: 원래 위치\n",
    "                                                overwrite=False)"
   ]
  },
  {
   "cell_type": "code",
   "execution_count": 70,
   "metadata": {},
   "outputs": [
    {
     "data": {
      "text/plain": [
       "'/home/hrai/codes/MotionBERT'"
      ]
     },
     "execution_count": 70,
     "metadata": {},
     "output_type": "execute_result"
    }
   ],
   "source": [
    "pwd"
   ]
  },
  {
   "cell_type": "code",
   "execution_count": 62,
   "metadata": {},
   "outputs": [],
   "source": [
    "data = readpkl(os.path.join(save_folder, 'S9_54138969_Waiting 1.pkl'))"
   ]
  },
  {
   "cell_type": "code",
   "execution_count": 67,
   "metadata": {},
   "outputs": [
    {
     "name": "stderr",
     "output_type": "stream",
     "text": [
      "IMAGEIO FFMPEG_WRITER WARNING: input image is not divisible by macro_block_size=16, resizing from (833, 833) to (848, 848) to ensure video compatibility with most codecs and players. To prevent resizing, make your input image divisible by the macro_block_size or set the macro_block_size to 1 (risking incompatibility).\n",
      "[swscaler @ 0x5a02840] Warning: data is not aligned! This can lead to a speed loss\n"
     ]
    }
   ],
   "source": [
    "fig = plt.figure(1, figsize=(10, 10))\n",
    "ax = axes_2d(fig, H=H, W=W)\n",
    "videowriter = imageio.get_writer('S9_54138969_Waiting 1_canonical_3d.mp4', fps=30)\n",
    "for joint2d in tqdm(data['joint_2d']):\n",
    "    clear_axes(ax)\n",
    "    draw_2d_pose(ax, joint2d, H=H, W=W)\n",
    "    canvas = FigureCanvas(fig)\n",
    "    canvas.draw()\n",
    "    image_from_plot = np.array(canvas.renderer._renderer)\n",
    "    image_from_plot = cv2.cvtColor(image_from_plot, cv2.COLOR_RGB2BGR)       \n",
    "    videowriter.append_data(image_from_plot)\n",
    "videowriter.close()"
   ]
  },
  {
   "cell_type": "code",
   "execution_count": 54,
   "metadata": {},
   "outputs": [],
   "source": [
    "calibration_matrix = np.array(cam_param[camera_id]['int']['calibration_matrix'])\n",
    "R = np.array(cam_param[camera_id]['ext']['R'])\n",
    "t = np.array(cam_param[camera_id]['ext']['t'])/1000\n",
    "H = cam_param[camera_id]['H']\n",
    "W = cam_param[camera_id]['W']\n",
    "camera_param = {\n",
    "    'intrinsic': calibration_matrix,\n",
    "    'extrinsic': np.concatenate([R, t.reshape(3, 1)], axis=1),\n",
    "}\n",
    "\n",
    "# virtual camera \n",
    "#C = - R.T @ t\n",
    "C = np.array([0, -3.5, 0])\n",
    "print()\n",
    "cam_origin = C\n",
    "H = 1000\n",
    "W = 1000\n",
    "\n",
    "forward = [0, 1, 0]\n",
    "left = [1, 0, 0]\n",
    "up = np.cross(forward, left)\n",
    "cam_default_R = np.array([left, up, forward]) # default camera orientation\n",
    "\n",
    "camera = Camera(origin=cam_origin, \n",
    "                calib_mat=calibration_matrix, \n",
    "                cam_default_R=cam_default_R, \n",
    "                IMAGE_HEIGHT=H, \n",
    "                IMAGE_WIDTH=W,\n",
    "                cam_name='test')"
   ]
  },
  {
   "cell_type": "code",
   "execution_count": 73,
   "metadata": {},
   "outputs": [
    {
     "data": {
      "text/plain": [
       "array([0. , 0. , 3.5])"
      ]
     },
     "execution_count": 73,
     "metadata": {},
     "output_type": "execute_result"
    }
   ],
   "source": [
    "-R @ C"
   ]
  },
  {
   "cell_type": "code",
   "execution_count": 71,
   "metadata": {},
   "outputs": [
    {
     "data": {
      "text/plain": [
       "{'R': array([[ 1.,  0.,  0.],\n",
       "        [ 0.,  0., -1.],\n",
       "        [ 0.,  1.,  0.]]),\n",
       " 't': array([[   0.],\n",
       "        [   0.],\n",
       "        [3500.]])}"
      ]
     },
     "execution_count": 71,
     "metadata": {},
     "output_type": "execute_result"
    }
   ],
   "source": [
    "camera.extrinsic"
   ]
  },
  {
   "cell_type": "code",
   "execution_count": 55,
   "metadata": {},
   "outputs": [
    {
     "data": {
      "application/vnd.jupyter.widget-view+json": {
       "model_id": "94aec70339f3466ba05f5485383ffe9e",
       "version_major": 2,
       "version_minor": 0
      },
      "image/png": "[encoded data removed]",
      "text/html": [
       "\n",
       "            <div style=\"display: inline-block;\">\n",
       "                <div class=\"jupyter-widgets widget-label\" style=\"text-align: center;\">\n",
       "                    Figure\n",
       "                </div>\n",
       "                <img src='data:image/png;base64,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' width=1000.0/>\n",
       "            </div>\n",
       "        "
      ],
      "text/plain": [
       "Canvas(toolbar=Toolbar(toolitems=[('Home', 'Reset original view', 'home', 'home'), ('Back', 'Back to previous …"
      ]
     },
     "metadata": {},
     "output_type": "display_data"
    }
   ],
   "source": [
    "frame_num = 100\n",
    "fig = plt.figure(0, figsize=(10, 10))\n",
    "ax = axes_3d(fig, loc=121, zlim=(0, 2), ylim=(-4, 4), xlim=(-4, 4), view=(45, 45))\n",
    "ax_2d = axes_2d(fig, loc=122, H=H, W=W)\n",
    "pose3d = pose3d_list_h36m[frame_num] - pose3d_list_h36m[frame_num][0]\n",
    "pose2d = projection(pose3d, camera.cam_proj)\n",
    "\n",
    "plt.sca(ax)\n",
    "draw_3d_pose(ax, pose3d)\n",
    "camera.cam_frame.draw3d()\n",
    "generate_world_frame().draw3d()\n",
    "plt.sca(ax_2d)\n",
    "draw_2d_pose(ax_2d, pose2d, H=H, W=W)\n",
    "\n"
   ]
  }
 ],
 "metadata": {
  "kernelspec": {
   "display_name": "motionbert",
   "language": "python",
   "name": "python3"
  },
  "language_info": {
   "codemirror_mode": {
    "name": "ipython",
    "version": 3
   },
   "file_extension": ".py",
   "mimetype": "text/x-python",
   "name": "python",
   "nbconvert_exporter": "python",
   "pygments_lexer": "ipython3",
   "version": "3.9.18"
  },
  "vscode": {
   "interpreter": {
    "hash": "a22adeb9c65037913f217d555eca4ee12416bb8cd04fc64921ca248554344da3"
   }
  }
 },
 "nbformat": 4,
 "nbformat_minor": 2
}
