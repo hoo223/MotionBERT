{
 "cells": [
  {
   "cell_type": "code",
   "execution_count": 1,
   "metadata": {},
   "outputs": [],
   "source": [
    "%load_ext autoreload\n",
    "%autoreload 2\n",
    "%matplotlib widget\n",
    "import os, sys\n",
    "sys.path.append('/home/hrai/codes/hpe_library/')\n",
    "from lib_import import *\n",
    "from my_utils import *\n",
    "os.chdir('/home/hrai/codes/MotionBERT')"
   ]
  },
  {
   "cell_type": "code",
   "execution_count": 2,
   "metadata": {},
   "outputs": [],
   "source": [
    "def get_canonical_3d(world_3d, C):\n",
    "    num_frames = len(data['world_3d'])\n",
    "    canonical_3d = world_3d.copy()\n",
    "    cam_origin = C.copy()\n",
    "    pelvis = world_3d[:, 0].copy()\n",
    "    vec_cam_origin_to_pelvis = pelvis - cam_origin\n",
    "    mag_cam_origin_to_pelvis = np.expand_dims(np.linalg.norm(vec_cam_origin_to_pelvis, axis=1), axis=1).repeat(3, axis=1) # (F, 3)\n",
    "    vec_cam_forward = np.multiply(np.expand_dims(R[2], 0).repeat(num_frames, axis=0),  mag_cam_origin_to_pelvis)\n",
    "    canonical_pelvis = cam_origin + vec_cam_forward\n",
    "    canonical_3d = canonical_3d - np.expand_dims(pelvis, 1) + np.expand_dims(canonical_pelvis, 1)\n",
    "    return canonical_3d"
   ]
  },
  {
   "cell_type": "code",
   "execution_count": 3,
   "metadata": {},
   "outputs": [
    {
     "name": "stdout",
     "output_type": "stream",
     "text": [
      "==> Loading 3D data wrt World CS...\n"
     ]
    }
   ],
   "source": [
    "h36m_3d_world, h36m_cam_param = load_h36m()"
   ]
  },
  {
   "cell_type": "markdown",
   "metadata": {},
   "source": [
    "### canonical_3d, joint_2d_from_canonical_3d"
   ]
  },
  {
   "cell_type": "code",
   "execution_count": null,
   "metadata": {},
   "outputs": [],
   "source": [
    "save_folder = '/home/hrai/codes/MotionBERT/data/motion3d/h36m_gt_pkl'\n",
    "if not os.path.exists(save_folder): os.makedirs(save_folder)"
   ]
  },
  {
   "cell_type": "code",
   "execution_count": 10,
   "metadata": {},
   "outputs": [
    {
     "name": "stderr",
     "output_type": "stream",
     "text": [
      "  1%|▏         | 12/836 [00:02<02:05,  6.57it/s]Exception ignored in: <bound method IPythonKernel._clean_thread_parent_frames of <ipykernel.ipkernel.IPythonKernel object at 0x775c983c70a0>>\n",
      "Traceback (most recent call last):\n",
      "  File \"/home/hrai/miniconda3/envs/motionbert/lib/python3.9/site-packages/ipykernel/ipkernel.py\", line 770, in _clean_thread_parent_frames\n",
      "    def _clean_thread_parent_frames(\n",
      "KeyboardInterrupt: \n",
      "  8%|▊         | 68/836 [00:13<02:14,  5.70it/s]"
     ]
    }
   ],
   "source": [
    "for item in tqdm(glob(save_folder + '/*.pkl')):\n",
    "    data = readpkl(item)\n",
    "    if ('canonical_3d' in data) and ('joint_2d_from_canonical_3d' in data): continue\n",
    "    cam_param = data['cam_param'][0].reshape(1)[0].copy()\n",
    "    int_mat = cam_param['intrinsic']\n",
    "    ext_mat = cam_param['extrinsic']\n",
    "    cam_proj = int_mat @ ext_mat\n",
    "    R = ext_mat[:3, :3]\n",
    "    t = ext_mat[:3, 3]\n",
    "    C = T_to_C(R, t)\n",
    "    world_3d = np.array(data['world_3d']).copy() # (F, J, 3)\n",
    "    \n",
    "    canonical_3d = get_canonical_3d(world_3d, C)\n",
    "    pose_2d_from_3d_canonical = projection(canonical_3d, cam_proj)[..., :2]\n",
    "    \n",
    "    data['canonical_3d'] = canonical_3d.tolist()\n",
    "    data['joint_2d_from_canonical_3d'] = pose_2d_from_3d_canonical.tolist()\n",
    "    \n",
    "    savepkl(data, item)\n",
    "    #break"
   ]
  },
  {
   "cell_type": "markdown",
   "metadata": {},
   "source": [
    "### 2.5d_factor for canonical_3d"
   ]
  },
  {
   "cell_type": "code",
   "execution_count": 4,
   "metadata": {},
   "outputs": [],
   "source": [
    "load_folder = '/home/hrai/codes/MotionBERT/data/motion3d/h36m_gt_pkl'\n",
    "save_folder = '/home/hrai/codes/MotionBERT/data/motion3d/h36m_gt_pkl_canonical_3d_same_dist'\n",
    "if not os.path.exists(save_folder): os.makedirs(save_folder)"
   ]
  },
  {
   "cell_type": "code",
   "execution_count": 5,
   "metadata": {},
   "outputs": [],
   "source": [
    "subject_list = ['S8', 'S9', 'S11']"
   ]
  },
  {
   "cell_type": "code",
   "execution_count": 7,
   "metadata": {},
   "outputs": [],
   "source": [
    "for item in glob(load_folder + '/*.pkl'):\n",
    "    subject = glob(load_folder + '/*.pkl')[0].split('/')[-1].split('_')[0]\n",
    "    if subject not in subject_list: continue\n",
    "    save_path = item.replace('h36m_gt_pkl', 'h36m_gt_pkl_canonical_3d_same_dist')\n",
    "    if os.path.exists(save_path): \n",
    "        print('already exists', save_path)\n",
    "        continue\n",
    "    data = readpkl(item)\n",
    "    \n",
    "    cam_param = data['cam_param'][0].reshape(1)[0].copy()\n",
    "    int_mat = cam_param['intrinsic']\n",
    "    ext_mat = cam_param['extrinsic']\n",
    "    cam_proj = int_mat @ ext_mat\n",
    "    R = ext_mat[:3, :3]\n",
    "    t = ext_mat[:3, 3]\n",
    "    C = T_to_C(R, t)\n",
    "    num_frames = len(data['world_3d'])\n",
    "    world_3d = np.array(data['world_3d']).copy() # (F, J, 3)\n",
    "    canonical_3d = get_canonical_3d(world_3d, C)\n",
    "\n",
    "    fx, fy, cx, cy = int_mat[0, 0], int_mat[1, 1], int_mat[0, 2], int_mat[1, 2]\n",
    "    for frame_num in tqdm(range(num_frames)):\n",
    "        # world to camera\n",
    "        pos = canonical_3d[frame_num].copy()\n",
    "        cam_3d = World2CameraCoordinate(pos, cam_param['extrinsic']) * 1000 # World coordinate -> Camera coordinate\n",
    "        cam_3d_hat = get_rootrel_pose(cam_3d)\n",
    "        \n",
    "        # camera to image\n",
    "        box = infer_box(cam_3d, {'fx': fx, 'fy': fy, 'cx': cx, 'cy': cy}, 0)\n",
    "        img_2d, img_3d = camera_to_image_frame(cam_3d, box, {'fx': fx, 'fy': fy, 'cx': cx, 'cy': cy}, 0) \n",
    "        img_3d_hat = get_rootrel_pose(img_3d) # (17, 3) # root-relative pose  \n",
    "        \n",
    "        # 2.5d factor\n",
    "        pred_lambda, losses = optimize_scaling_factor(img_3d_hat, cam_3d_hat, gpus='1') # x,y,z 사용\n",
    "        \n",
    "        # joint 2.5d image\n",
    "        img_25d = img_3d * pred_lambda\n",
    "    \n",
    "        # store\n",
    "        data['joint_2d'][frame_num] = np.array(img_2d).copy()\n",
    "        data['joint3d_image'][frame_num] = np.array(img_3d).copy()\n",
    "        data['joints_2.5d_image'][frame_num] = np.array(img_25d).copy()\n",
    "        data['2.5d_factor'][frame_num] = np.array(pred_lambda).copy()\n",
    "        #break\n",
    "    savepkl(data, save_path)\n",
    "    #break"
   ]
  }
 ],
 "metadata": {
  "kernelspec": {
   "display_name": "motionbert",
   "language": "python",
   "name": "python3"
  },
  "language_info": {
   "codemirror_mode": {
    "name": "ipython",
    "version": 3
   },
   "file_extension": ".py",
   "mimetype": "text/x-python",
   "name": "python",
   "nbconvert_exporter": "python",
   "pygments_lexer": "ipython3",
   "version": "3.9.18"
  }
 },
 "nbformat": 4,
 "nbformat_minor": 2
}
