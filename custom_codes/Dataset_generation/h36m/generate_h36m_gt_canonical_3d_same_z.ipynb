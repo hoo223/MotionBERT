{
 "cells": [
  {
   "cell_type": "code",
   "execution_count": 2,
   "metadata": {},
   "outputs": [],
   "source": [
    "%load_ext autoreload\n",
    "%autoreload 2\n",
    "%matplotlib widget\n",
    "import os, sys, getpass\n",
    "user = getpass.getuser()\n",
    "sys.path.append(f'/home/{user}/codes/hpe_library/')\n",
    "from lib_import import *\n",
    "from my_utils import *\n",
    "os.chdir('/home/hrai/codes/MotionBERT')"
   ]
  },
  {
   "cell_type": "markdown",
   "metadata": {},
   "source": [
    "### train S1, S5, S6, S7, S8  test S9, S11"
   ]
  },
  {
   "cell_type": "code",
   "execution_count": 11,
   "metadata": {},
   "outputs": [
    {
     "name": "stderr",
     "output_type": "stream",
     "text": [
      "100%|██████████| 836/836 [01:20<00:00, 10.37it/s]\n"
     ]
    },
    {
     "data": {
      "text/plain": [
       "((1559752, 17, 2), (543344, 17, 2))"
      ]
     },
     "execution_count": 11,
     "metadata": {},
     "output_type": "execute_result"
    }
   ],
   "source": [
    "joint_2ds = {'train': [], 'test': []}\n",
    "joint_2d_from_canonical_3ds = {'train': [], 'test': []}\n",
    "confidences = {'train': [], 'test': []}\n",
    "joint3d_images = {'train': [], 'test': []}\n",
    "joint3d_image_from_canonical_3ds = {'train': [], 'test': []}\n",
    "joints_25d_images = {'train': [], 'test': []}\n",
    "_25d_factors = {'train': [], 'test': []}\n",
    "camera_names = {'train': [], 'test': []}\n",
    "actions = {'train': [], 'test': []}\n",
    "sources = {'train': [], 'test': []}\n",
    "frames = {'train': [], 'test': []}\n",
    "world_3ds = {'train': [], 'test': []}\n",
    "world_3d_from_canonical_3ds = {'train': [], 'test': []}\n",
    "cam_3ds = {'train': [], 'test': []}\n",
    "cam_3d_from_canonical_3ds = {'train': [], 'test': []}\n",
    "cam_params = {'train': [], 'test': []}\n",
    "\n",
    "# target \n",
    "pkl_folder = '/home/hrai/codes/MotionBERT/data/motion3d/h36m_gt_pkl_canonical_3d_same_z'\n",
    "test_subject = ['S9', 'S11']\n",
    "only_test = False\n",
    "\n",
    "blacklist = []\n",
    "\n",
    "for item in tqdm(os.listdir(pkl_folder)):\n",
    "    subject, cam_num, action = item.split('.')[0].split('_') \n",
    "    \n",
    "    # filtering\n",
    "    #if action not in action_list: continue \n",
    "    #if int(cam_num) not in camera_list: continue\n",
    "    if only_test:\n",
    "        if subject not in test_subject: continue\n",
    "    if subject in blacklist: continue\n",
    "    #print(subject, cam_num, action, phase) \n",
    "    \n",
    "    item_path = os.path.join(pkl_folder, item) \n",
    "    data = readpkl(item_path) \n",
    "    if subject in test_subject: data_type = 'test' \n",
    "    else: data_type = 'train' \n",
    "\n",
    "    joint_2ds[data_type] += list(np.array(data['joint_2d'])) \n",
    "    joint_2d_from_canonical_3ds[data_type] += list(np.array(data['joint_2d_from_canonical_3d'])) \n",
    "    confidences[data_type] += list(np.array(data['confidence'])) \n",
    "    joint3d_image_from_canonical_3ds[data_type] += list(np.array(data['joint3d_image_from_canonical_3d'])) \n",
    "    #joints_25d_images[data_type] += list(np.array(data['joints_2.5d_image_from_canonical_3d'])) \n",
    "    #_25d_factors[data_type] += data['2.5d_factor_from_canonical_3d'] \n",
    "    camera_names[data_type] += data['camera_name']  \n",
    "    actions[data_type] += data['action'] \n",
    "    sources[data_type] += data['source'] \n",
    "    frames[data_type] += data['frame'] \n",
    "    world_3ds[data_type] += list(np.array(data['world_3d'])) \n",
    "    world_3d_from_canonical_3ds[data_type] += list(np.array(data['world_3d_from_canonical_3d']))\n",
    "    cam_3ds[data_type] += list(np.array(data['cam_3d'])/1000.0) # mm to m \n",
    "    cam_3d_from_canonical_3ds[data_type] += list(np.array(data['cam_3d_from_canonical_3d'])/1000.0) \n",
    "    cam_params[data_type] += data['cam_param']\n",
    "    #break\n",
    "    \n",
    "data_total = {'train': {}, 'test': {}}\n",
    "\n",
    "for data_type in ['train', 'test']:\n",
    "    data_total[data_type]['joint_2d']                            = np.array(joint_2ds[data_type])\n",
    "    data_total[data_type]['joint_2d_from_canonical_3d']          = np.array(joint_2d_from_canonical_3ds[data_type])\n",
    "    data_total[data_type]['confidence']                          = np.array(confidences[data_type])\n",
    "    data_total[data_type]['joint3d_image_from_canonical_3d']     = np.array(joint3d_image_from_canonical_3ds[data_type])\n",
    "    #data_total[data_type]['joints_2.5d_image_from_canonical_3d'] = copy.deepcopy(np.array(joints_25d_images[data_type]))\n",
    "    #data_total[data_type]['2.5d_factor_from_canonical_3d']       = copy.deepcopy(np.array(_25d_factors[data_type]))\n",
    "    data_total[data_type]['camera_name']                         = np.array(camera_names[data_type])\n",
    "    data_total[data_type]['action']                              = np.array(actions[data_type])\n",
    "    data_total[data_type]['source']                              = np.array(sources[data_type])\n",
    "    data_total[data_type]['frame']                               = np.array(frames[data_type])\n",
    "    data_total[data_type]['world_3d']                            = np.array(world_3ds[data_type])\n",
    "    data_total[data_type]['world_3d_from_canonical_3d']          = np.array(world_3d_from_canonical_3ds[data_type])\n",
    "    data_total[data_type]['cam_3d']                              = np.array(cam_3ds[data_type])\n",
    "    data_total[data_type]['cam_3d_from_canonical_3d']            = np.array(cam_3d_from_canonical_3ds[data_type])\n",
    "    data_total[data_type]['cam_param']                           = np.array(cam_params[data_type])\n",
    "    \n",
    "    \n",
    "if len(data_total['train']['joint_2d']) == 0:\n",
    "    data_total['train'] = copy.deepcopy(data_total['test'])\n",
    "\n",
    "data_total['train']['joint_2d_from_canonical_3d'].shape, data_total['test']['joint_2d_from_canonical_3d'].shape  "
   ]
  },
  {
   "cell_type": "code",
   "execution_count": 12,
   "metadata": {},
   "outputs": [],
   "source": [
    "save_path = os.path.join('/home/hrai/codes/MotionBERT', f'data/motion3d/h36m_gt_canonical_3d_same_z.pkl')\n",
    "savepkl(data_total, save_path)"
   ]
  },
  {
   "cell_type": "code",
   "execution_count": 7,
   "metadata": {},
   "outputs": [
    {
     "ename": "KeyError",
     "evalue": "'joints_2.5d_image_from_canonical_3d'",
     "output_type": "error",
     "traceback": [
      "\u001b[0;31m---------------------------------------------------------------------------\u001b[0m",
      "\u001b[0;31mKeyError\u001b[0m                                  Traceback (most recent call last)",
      "Cell \u001b[0;32mIn[7], line 6\u001b[0m\n\u001b[1;32m      4\u001b[0m joint_2d \u001b[38;5;241m=\u001b[39m data_total[\u001b[38;5;124m'\u001b[39m\u001b[38;5;124mtrain\u001b[39m\u001b[38;5;124m'\u001b[39m][\u001b[38;5;124m'\u001b[39m\u001b[38;5;124mjoint_2d_from_canonical_3d\u001b[39m\u001b[38;5;124m'\u001b[39m][frame_num]\n\u001b[1;32m      5\u001b[0m joint3d_image \u001b[38;5;241m=\u001b[39m data_total[\u001b[38;5;124m'\u001b[39m\u001b[38;5;124mtrain\u001b[39m\u001b[38;5;124m'\u001b[39m][\u001b[38;5;124m'\u001b[39m\u001b[38;5;124mjoint3d_image_from_canonical_3d\u001b[39m\u001b[38;5;124m'\u001b[39m][frame_num]\n\u001b[0;32m----> 6\u001b[0m joints_25d_image \u001b[38;5;241m=\u001b[39m \u001b[43mdata_total\u001b[49m\u001b[43m[\u001b[49m\u001b[38;5;124;43m'\u001b[39;49m\u001b[38;5;124;43mtrain\u001b[39;49m\u001b[38;5;124;43m'\u001b[39;49m\u001b[43m]\u001b[49m\u001b[43m[\u001b[49m\u001b[38;5;124;43m'\u001b[39;49m\u001b[38;5;124;43mjoints_2.5d_image_from_canonical_3d\u001b[39;49m\u001b[38;5;124;43m'\u001b[39;49m\u001b[43m]\u001b[49m[frame_num]\n\u001b[1;32m      7\u001b[0m _25d_factor \u001b[38;5;241m=\u001b[39m data_total[\u001b[38;5;124m'\u001b[39m\u001b[38;5;124mtrain\u001b[39m\u001b[38;5;124m'\u001b[39m][\u001b[38;5;124m'\u001b[39m\u001b[38;5;124m2.5d_factor_from_canonical_3d\u001b[39m\u001b[38;5;124m'\u001b[39m][frame_num]\n\u001b[1;32m      9\u001b[0m get_ipython()\u001b[38;5;241m.\u001b[39mrun_line_magic(\u001b[38;5;124m'\u001b[39m\u001b[38;5;124mmatplotlib\u001b[39m\u001b[38;5;124m'\u001b[39m, \u001b[38;5;124m'\u001b[39m\u001b[38;5;124mwidget\u001b[39m\u001b[38;5;124m'\u001b[39m)\n",
      "\u001b[0;31mKeyError\u001b[0m: 'joints_2.5d_image_from_canonical_3d'"
     ]
    }
   ],
   "source": [
    "frame_num = 1800\n",
    "cam_3d = data_total['train']['cam_3d'][frame_num]\n",
    "cam_3d_hat = get_rootrel_pose((cam_3d))\n",
    "joint_2d = data_total['train']['joint_2d_from_canonical_3d'][frame_num]\n",
    "joint3d_image = data_total['train']['joint3d_image_from_canonical_3d'][frame_num]\n",
    "joints_25d_image = data_total['train']['joints_2.5d_image_from_canonical_3d'][frame_num]\n",
    "_25d_factor = data_total['train']['2.5d_factor_from_canonical_3d'][frame_num]\n",
    "\n",
    "%matplotlib widget\n",
    "fig = plt.figure(0)\n",
    "fig.clear()\n",
    "ax = axes_3d(fig, loc=121, view=(-90,-90))\n",
    "ax2 = axes_2d(fig, loc=122)\n",
    "draw_3d_pose(ax, cam_3d_hat)\n",
    "#draw_3d_pose(ax, joint3d_image)\n",
    "#draw_3d_pose(ax, get_rootrel_pose(joints_25d_image/1000), color='r')\n",
    "draw_2d_pose(ax2, joint_2d)\n",
    "plt.show()"
   ]
  }
 ],
 "metadata": {
  "kernelspec": {
   "display_name": "motionbert",
   "language": "python",
   "name": "python3"
  },
  "language_info": {
   "codemirror_mode": {
    "name": "ipython",
    "version": 3
   },
   "file_extension": ".py",
   "mimetype": "text/x-python",
   "name": "python",
   "nbconvert_exporter": "python",
   "pygments_lexer": "ipython3",
   "version": "3.9.-1"
  },
  "vscode": {
   "interpreter": {
    "hash": "a22adeb9c65037913f217d555eca4ee12416bb8cd04fc64921ca248554344da3"
   }
  }
 },
 "nbformat": 4,
 "nbformat_minor": 2
}
