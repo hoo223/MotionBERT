{
 "cells": [
  {
   "cell_type": "code",
   "execution_count": 5,
   "metadata": {},
   "outputs": [
    {
     "name": "stdout",
     "output_type": "stream",
     "text": [
      "The autoreload extension is already loaded. To reload it, use:\n",
      "  %reload_ext autoreload\n"
     ]
    }
   ],
   "source": [
    "%load_ext autoreload\n",
    "%autoreload 2\n",
    "%matplotlib widget\n",
    "import os, sys\n",
    "sys.path.append('/home/hrai/codes/hpe_library/')\n",
    "from lib_import import *\n",
    "from my_utils import *\n",
    "os.chdir('/home/hrai/codes/MotionBERT')"
   ]
  },
  {
   "cell_type": "code",
   "execution_count": 7,
   "metadata": {},
   "outputs": [
    {
     "name": "stdout",
     "output_type": "stream",
     "text": [
      "==> Loading 3D data wrt World CS...\n"
     ]
    }
   ],
   "source": [
    "h36m_3d_world, h36m_cam_param = load_h36m()"
   ]
  },
  {
   "cell_type": "code",
   "execution_count": 4,
   "metadata": {},
   "outputs": [],
   "source": [
    "load_folder = '/home/hrai/codes/MotionBERT/data/motion3d/h36m_gt_pkl'\n",
    "save_folder = '/home/hrai/codes/MotionBERT/data/motion3d/h36m_gt_pkl_canonical_3d_same_z'\n",
    "if not os.path.exists(save_folder): os.makedirs(save_folder)"
   ]
  },
  {
   "cell_type": "code",
   "execution_count": 9,
   "metadata": {},
   "outputs": [
    {
     "name": "stderr",
     "output_type": "stream",
     "text": [
      "100%|██████████| 836/836 [19:02<00:00,  1.37s/it]\n"
     ]
    }
   ],
   "source": [
    "overwrite = True\n",
    "for item in tqdm(glob(load_folder + '/*.pkl')):\n",
    "    save_path = item.replace('h36m_gt_pkl', 'h36m_gt_pkl_canonical_3d_same_z')\n",
    "    if os.path.exists(save_path) and not overwrite: \n",
    "        print('already exists', save_path)\n",
    "        continue\n",
    "    data = readpkl(item)\n",
    "    new_data = {}\n",
    "    new_data['joint_2d_from_canonical_3d'] = []\n",
    "    new_data['joint3d_image_from_canonical_3d'] = []\n",
    "    new_data['world_3d_from_canonical_3d'] = []\n",
    "    new_data['cam_3d_from_canonical_3d'] = []\n",
    "    \n",
    "    cam_param = data['cam_param'][0].reshape(1)[0].copy()\n",
    "    int_mat = cam_param['intrinsic']\n",
    "    ext_mat = cam_param['extrinsic']\n",
    "    cam_proj = int_mat @ ext_mat\n",
    "    R = ext_mat[:3, :3]\n",
    "    t = ext_mat[:3, 3]\n",
    "    C = T_to_C(R, t)\n",
    "    num_frames = len(data['world_3d'])\n",
    "    world_3d = np.array(data['world_3d']).copy() # (F, J, 3)\n",
    "    cam_3d = np.array(data['cam_3d']).copy()/1000 # (F, J, 3)\n",
    "    world_3d_from_canonical_3d = get_canonical_3d_same_z(world_3d, cam_3d, C, R)\n",
    "\n",
    "    fx, fy, cx, cy = int_mat[0, 0], int_mat[1, 1], int_mat[0, 2], int_mat[1, 2]\n",
    "    for frame_num in range(num_frames):\n",
    "        # world to camera\n",
    "        pos = world_3d_from_canonical_3d[frame_num].copy()\n",
    "        cam_3d_from_canonical_3d = World2CameraCoordinate(pos, cam_param['extrinsic']) * 1000 # World coordinate -> Camera coordinate\n",
    "        cam_3d_from_canonical_3d_hat = get_rootrel_pose(cam_3d)\n",
    "        \n",
    "        # camera to image\n",
    "        box = infer_box(cam_3d_from_canonical_3d, {'fx': fx, 'fy': fy, 'cx': cx, 'cy': cy}, 0)\n",
    "        img_2d_from_canonical_3d, img_3d_from_canonical_3d = camera_to_image_frame(cam_3d_from_canonical_3d, box, {'fx': fx, 'fy': fy, 'cx': cx, 'cy': cy}, 0) \n",
    "        img_3d_from_canonical_3d_hat = get_rootrel_pose(img_2d_from_canonical_3d) # (17, 3) # root-relative pose  \n",
    "        \n",
    "        # 2.5d factor\n",
    "        #pred_lambda, losses = optimize_scaling_factor(img_3d_hat, cam_3d_hat) # x,y,z 사용\n",
    "        \n",
    "        # joint 2.5d image\n",
    "        #img_25d = img_3d * pred_lambda\n",
    "    \n",
    "        # store\n",
    "        new_data['joint_2d_from_canonical_3d'].append(np.array(img_2d_from_canonical_3d).copy())\n",
    "        new_data['joint3d_image_from_canonical_3d'].append(np.array(img_3d_from_canonical_3d).copy())\n",
    "        new_data['cam_3d_from_canonical_3d'].append(np.array(cam_3d_from_canonical_3d).copy())\n",
    "    \n",
    "    new_data['joint_2d'] = data['joint_2d'].copy()\n",
    "    new_data['confidence'] = data['confidence'].copy()\n",
    "    new_data['camera_name'] = data['camera_name'].copy()\n",
    "    new_data['action'] = data['action'].copy()\n",
    "    new_data['source'] = data['source'].copy()\n",
    "    new_data['frame'] = data['frame'].copy()\n",
    "    new_data['world_3d'] = data['world_3d'].copy()\n",
    "    new_data['world_3d_from_canonical_3d'] = list(world_3d_from_canonical_3d)\n",
    "    new_data['cam_3d'] = data['cam_3d'].copy()\n",
    "    new_data['cam_param'] = data['cam_param'].copy()\n",
    "    savepkl(new_data, save_path)\n",
    "    #break"
   ]
  },
  {
   "cell_type": "code",
   "execution_count": 13,
   "metadata": {},
   "outputs": [
    {
     "data": {
      "text/plain": [
       "{'cam_3d_from_canonical_3d',\n",
       " 'joint3d_image_from_canonical_3d',\n",
       " 'joint_2d_from_canonical_3d',\n",
       " 'world_3d_from_canonical_3d'}"
      ]
     },
     "execution_count": 13,
     "metadata": {},
     "output_type": "execute_result"
    }
   ],
   "source": [
    "new_data.keys() - data.keys()"
   ]
  },
  {
   "cell_type": "code",
   "execution_count": 14,
   "metadata": {},
   "outputs": [
    {
     "ename": "NameError",
     "evalue": "name 'img_3d_hat' is not defined",
     "output_type": "error",
     "traceback": [
      "\u001b[0;31m---------------------------------------------------------------------------\u001b[0m",
      "\u001b[0;31mNameError\u001b[0m                                 Traceback (most recent call last)",
      "Cell \u001b[0;32mIn[14], line 5\u001b[0m\n\u001b[1;32m      3\u001b[0m fig\u001b[38;5;241m.\u001b[39mclear()\n\u001b[1;32m      4\u001b[0m ax \u001b[38;5;241m=\u001b[39m axes_3d(fig, loc\u001b[38;5;241m=\u001b[39m\u001b[38;5;241m121\u001b[39m, view\u001b[38;5;241m=\u001b[39m(\u001b[38;5;241m-\u001b[39m\u001b[38;5;241m90\u001b[39m,\u001b[38;5;241m-\u001b[39m\u001b[38;5;241m90\u001b[39m))\n\u001b[0;32m----> 5\u001b[0m draw_3d_pose(ax, \u001b[43mimg_3d_hat\u001b[49m\u001b[38;5;241m/\u001b[39m\u001b[38;5;241m1000\u001b[39m)\n\u001b[1;32m      6\u001b[0m draw_3d_pose(ax, cam_3d_hat\u001b[38;5;241m/\u001b[39m\u001b[38;5;241m1000\u001b[39m, color\u001b[38;5;241m=\u001b[39m\u001b[38;5;124m'\u001b[39m\u001b[38;5;124mr\u001b[39m\u001b[38;5;124m'\u001b[39m)\n\u001b[1;32m      7\u001b[0m ax2 \u001b[38;5;241m=\u001b[39m axes_2d(fig, loc\u001b[38;5;241m=\u001b[39m\u001b[38;5;241m122\u001b[39m, W\u001b[38;5;241m=\u001b[39m\u001b[38;5;241m1000\u001b[39m, H\u001b[38;5;241m=\u001b[39m\u001b[38;5;241m1000\u001b[39m)\n",
      "\u001b[0;31mNameError\u001b[0m: name 'img_3d_hat' is not defined"
     ]
    },
    {
     "data": {
      "application/vnd.jupyter.widget-view+json": {
       "model_id": "e57411c541324aabb87390dae7190db9",
       "version_major": 2,
       "version_minor": 0
      },
      "image/png": "[encoded data removed]",
      "text/html": [
       "\n",
       "            <div style=\"display: inline-block;\">\n",
       "                <div class=\"jupyter-widgets widget-label\" style=\"text-align: center;\">\n",
       "                    Figure\n",
       "                </div>\n",
       "                <img src='data:image/png;base64,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' width=640.0/>\n",
       "            </div>\n",
       "        "
      ],
      "text/plain": [
       "Canvas(toolbar=Toolbar(toolitems=[('Home', 'Reset original view', 'home', 'home'), ('Back', 'Back to previous …"
      ]
     },
     "metadata": {},
     "output_type": "display_data"
    }
   ],
   "source": [
    "%matplotlib widget\n",
    "fig = plt.figure(0)\n",
    "fig.clear()\n",
    "ax = axes_3d(fig, loc=121, view=(-90,-90))\n",
    "draw_3d_pose(ax, img_3d_hat/1000)\n",
    "draw_3d_pose(ax, cam_3d_hat/1000, color='r')\n",
    "ax2 = axes_2d(fig, loc=122, W=1000, H=1000)\n",
    "draw_2d_pose(ax2, data['joint_2d_from_canonical_3d'][frame_num])\n",
    "plt.show()"
   ]
  }
 ],
 "metadata": {
  "kernelspec": {
   "display_name": "motionbert",
   "language": "python",
   "name": "python3"
  },
  "language_info": {
   "codemirror_mode": {
    "name": "ipython",
    "version": 3
   },
   "file_extension": ".py",
   "mimetype": "text/x-python",
   "name": "python",
   "nbconvert_exporter": "python",
   "pygments_lexer": "ipython3",
   "version": "3.9.-1"
  }
 },
 "nbformat": 4,
 "nbformat_minor": 2
}
