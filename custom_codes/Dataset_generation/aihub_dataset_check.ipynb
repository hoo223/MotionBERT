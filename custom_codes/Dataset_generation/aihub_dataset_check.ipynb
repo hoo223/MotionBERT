{
 "cells": [
  {
   "cell_type": "code",
   "execution_count": 1,
   "metadata": {},
   "outputs": [],
   "source": [
    "#%matplotlib inline\n",
    "import pickle\n",
    "import copy\n",
    "import numpy as np\n",
    "import random\n",
    "import os\n",
    "import torch\n",
    "os.chdir('..')\n",
    "from test_utils import *\n",
    "from ipywidgets import interact\n"
   ]
  },
  {
   "attachments": {},
   "cell_type": "markdown",
   "metadata": {},
   "source": [
    "# 데이터 직접 입력"
   ]
  },
  {
   "cell_type": "code",
   "execution_count": 2,
   "metadata": {},
   "outputs": [],
   "source": [
    "import argparse\n",
    "os.chdir('..')\n",
    "from lib.utils.learning import *\n",
    "from lib.utils.tools import *"
   ]
  },
  {
   "cell_type": "code",
   "execution_count": 3,
   "metadata": {},
   "outputs": [],
   "source": [
    "from test_utils import *\n",
    "\n",
    "h36m_connections = [\n",
    "    (0,1),\n",
    "    (0,4),\n",
    "    (0,7),\n",
    "    (1,2),\n",
    "    (2,3),\n",
    "    (4,5),\n",
    "    (5,6),\n",
    "    (7,8),\n",
    "    (8,9),\n",
    "    (9,10),\n",
    "    (8,14),\n",
    "    (14,15),\n",
    "    (15,16),\n",
    "    (8,11),\n",
    "    (11,12),\n",
    "    (12,13)\n",
    "]"
   ]
  },
  {
   "cell_type": "code",
   "execution_count": 4,
   "metadata": {},
   "outputs": [],
   "source": [
    "def draw_skeleton_2d(points, connections, elevation=0, azimuth=0):\n",
    "    fig = go.Figure()\n",
    "    \n",
    "    # Add points\n",
    "    for point in points.values():\n",
    "        fig.add_trace(go.Scatter(x=[point[0]], y=[point[1]],\n",
    "                                   mode='markers', marker=dict(size=2, color='blue')))\n",
    "\n",
    "    # Add connections\n",
    "    for connection in connections:\n",
    "        p1, p2 = points[connection[0]], points[connection[1]]\n",
    "        fig.add_trace(go.Scatter(x=[p1[0], p2[0]], y=[p1[1], p2[1]],\n",
    "                                   mode='lines', line=dict(color='black')))\n",
    "\n",
    "    img_width = 1920\n",
    "    img_height = 1080\n",
    "    scale_factor = 0.5\n",
    "\n",
    "    # https://wikidocs.net/185955 참고\n",
    "    fig.update_xaxes(range=[-1, 1])\n",
    "    fig.update_yaxes(range=[1, -1])\n",
    "    #fig.update_xaxes(autorange=\"reversed\") # 축 범위 반전, 위의 range 설정이 초기화되버림\n",
    "\n",
    "    fig.update_layout(width=700,height=700)\n",
    "    \n",
    "    fig.update_layout(template=\"plotly_white\")\n",
    "\n",
    "    fig.show()"
   ]
  },
  {
   "cell_type": "code",
   "execution_count": 33,
   "metadata": {},
   "outputs": [],
   "source": [
    "# 예제 CLIP 파일\n",
    "os.chdir('/home/hrai/codes/MotionBERT')\n",
    "with open('data/motion3d/MB3D_f243s81/AIHUB_30_243/train/00000000.pkl', 'rb') as f:\n",
    "\ttest = pickle.load(f)\n",
    "frame_num = 150\n",
    "batch_input = torch.tensor(test['data_input'][frame_num].reshape(1, 1, 17, 3))"
   ]
  },
  {
   "cell_type": "code",
   "execution_count": 34,
   "metadata": {},
   "outputs": [
    {
     "data": {
      "text/plain": [
       "(17, 3)"
      ]
     },
     "execution_count": 34,
     "metadata": {},
     "output_type": "execute_result"
    }
   ],
   "source": [
    "# 2d input\n",
    "aihub_2d = copy.deepcopy(test['data_input'][frame_num])\n",
    "aihub_2d.shape"
   ]
  },
  {
   "cell_type": "code",
   "execution_count": 35,
   "metadata": {},
   "outputs": [],
   "source": [
    "import matplotlib\n",
    "import matplotlib.pyplot as plt\n",
    "from mpl_toolkits.mplot3d import Axes3D\n",
    "import matplotlib.gridspec as gridspec\n",
    "from test_utils import *\n",
    "\n",
    "plt.switch_backend('TkAgg')\n",
    "matplotlib.rcParams['pdf.fonttype'] = 42\n",
    "\n",
    "matplotlib.rcParams['ps.fonttype'] = 42"
   ]
  },
  {
   "cell_type": "code",
   "execution_count": 39,
   "metadata": {},
   "outputs": [
    {
     "data": {
      "text/plain": [
       "array([[-0.05533767,  0.01085418,  0.9175866 ],\n",
       "       [-0.0282281 ,  0.02169806,  0.84879994],\n",
       "       [ 0.08021009,  0.07049525,  0.91875553],\n",
       "       [ 0.02056909,  0.17351145,  0.9085786 ],\n",
       "       [-0.08244717,  0.01085418,  0.8794954 ],\n",
       "       [-0.03365004,  0.03796381,  0.8484117 ],\n",
       "       [-0.07702529,  0.13555813,  0.9441897 ],\n",
       "       [-0.03636092, -0.08402914,  0.93751   ],\n",
       "       [-0.01738429, -0.17891252,  0.9574334 ],\n",
       "       [ 0.02599096, -0.19517824,  0.86836433],\n",
       "       [-0.00111854, -0.24397543,  0.9137768 ],\n",
       "       [-0.06075954, -0.15180299,  0.9573031 ],\n",
       "       [-0.03907192, -0.09216201,  0.83274007],\n",
       "       [ 0.03141284, -0.1084277 ,  0.8711533 ],\n",
       "       [ 0.01514709, -0.14095917,  0.9097614 ],\n",
       "       [ 0.09105384, -0.10300583,  0.89516866],\n",
       "       [ 0.06394434, -0.11384964,  0.8534446 ]], dtype=float32)"
      ]
     },
     "execution_count": 39,
     "metadata": {},
     "output_type": "execute_result"
    }
   ],
   "source": [
    "aihub_2d"
   ]
  },
  {
   "cell_type": "code",
   "execution_count": 37,
   "metadata": {},
   "outputs": [
    {
     "name": "stderr",
     "output_type": "stream",
     "text": [
      "Clipping input data to the valid range for imshow with RGB data ([0..1] for floats or [0..255] for integers).\n"
     ]
    }
   ],
   "source": [
    "result = get_2d_pose_image(aihub_2d*1000, np.zeros([1000, 1000, 3]), dataset='h36m')\n",
    "plot_cv2_image(result)"
   ]
  },
  {
   "cell_type": "code",
   "execution_count": 7,
   "metadata": {},
   "outputs": [
    {
     "name": "stdout",
     "output_type": "stream",
     "text": [
      "total min:  -0.2416828155517578 total max:  0.28986778259277335\n"
     ]
    },
    {
     "data": {
      "application/vnd.plotly.v1+json": {
       "config": {
        "plotlyServerURL": "https://plot.ly"
       },
       "data": [
        {
         "marker": {
          "color": "blue",
          "size": 2
         },
         "mode": "markers",
         "type": "scatter",
         "x": [
          0.13741302490234375
         ],
         "y": [
          0.010655975341796853
         ]
        },
        {
         "marker": {
          "color": "blue",
          "size": 2
         },
         "mode": "markers",
         "type": "scatter",
         "x": [
          0.11112785339355469
         ],
         "y": [
          0.010655975341796853
         ]
        },
        {
         "marker": {
          "color": "blue",
          "size": 2
         },
         "mode": "markers",
         "type": "scatter",
         "x": [
          0.0953566233317058
         ],
         "y": [
          0.1105400721232096
         ]
        },
        {
         "marker": {
          "color": "blue",
          "size": 2
         },
         "mode": "markers",
         "type": "scatter",
         "x": [
          0.0795853932698567
         ],
         "y": [
          0.19991010030110679
         ]
        },
        {
         "marker": {
          "color": "blue",
          "size": 2
         },
         "mode": "markers",
         "type": "scatter",
         "x": [
          0.15844128926595058
         ],
         "y": [
          0.015913009643554688
         ]
        },
        {
         "marker": {
          "color": "blue",
          "size": 2
         },
         "mode": "markers",
         "type": "scatter",
         "x": [
          0.1426701863606772
         ],
         "y": [
          0.1105400721232096
         ]
        },
        {
         "marker": {
          "color": "blue",
          "size": 2
         },
         "mode": "markers",
         "type": "scatter",
         "x": [
          0.12689895629882808
         ],
         "y": [
          0.1946530024210612
         ]
        },
        {
         "marker": {
          "color": "blue",
          "size": 2
         },
         "mode": "markers",
         "type": "scatter",
         "x": [
          0.14267012278238922
         ],
         "y": [
          -0.07871400515238441
         ]
        },
        {
         "marker": {
          "color": "blue",
          "size": 2
         },
         "mode": "markers",
         "type": "scatter",
         "x": [
          0.1479272206624349
         ],
         "y": [
          -0.16808398564656574
         ]
        },
        {
         "marker": {
          "color": "blue",
          "size": 2
         },
         "mode": "markers",
         "type": "scatter",
         "x": [
          0.18472658793131513
         ],
         "y": [
          -0.19436928431193035
         ]
        },
        {
         "marker": {
          "color": "blue",
          "size": 2
         },
         "mode": "markers",
         "type": "scatter",
         "x": [
          0.1636983235677083
         ],
         "y": [
          -0.2416828155517578
         ]
        },
        {
         "marker": {
          "color": "blue",
          "size": 2
         },
         "mode": "markers",
         "type": "scatter",
         "x": [
          0.18998362223307286
         ],
         "y": [
          -0.14179871877034506
         ]
        },
        {
         "marker": {
          "color": "blue",
          "size": 2
         },
         "mode": "markers",
         "type": "scatter",
         "x": [
          0.23729718526204424
         ],
         "y": [
          -0.11551342010498045
         ]
        },
        {
         "marker": {
          "color": "blue",
          "size": 2
         },
         "mode": "markers",
         "type": "scatter",
         "x": [
          0.28986778259277335
         ],
         "y": [
          -0.09974225362141925
         ]
        },
        {
         "marker": {
          "color": "blue",
          "size": 2
         },
         "mode": "markers",
         "type": "scatter",
         "x": [
          0.10587069193522125
         ],
         "y": [
          -0.1470557530721029
         ]
        },
        {
         "marker": {
          "color": "blue",
          "size": 2
         },
         "mode": "markers",
         "type": "scatter",
         "x": [
          0.058557192484537834
         ],
         "y": [
          -0.12602752049764
         ]
        },
        {
         "marker": {
          "color": "blue",
          "size": 2
         },
         "mode": "markers",
         "type": "scatter",
         "x": [
          0.02175782521565761
         ],
         "y": [
          -0.1102563540140788
         ]
        },
        {
         "line": {
          "color": "black"
         },
         "mode": "lines",
         "type": "scatter",
         "x": [
          0.13741302490234375,
          0.11112785339355469
         ],
         "y": [
          0.010655975341796853,
          0.010655975341796853
         ]
        },
        {
         "line": {
          "color": "black"
         },
         "mode": "lines",
         "type": "scatter",
         "x": [
          0.13741302490234375,
          0.15844128926595058
         ],
         "y": [
          0.010655975341796853,
          0.015913009643554688
         ]
        },
        {
         "line": {
          "color": "black"
         },
         "mode": "lines",
         "type": "scatter",
         "x": [
          0.13741302490234375,
          0.14267012278238922
         ],
         "y": [
          0.010655975341796853,
          -0.07871400515238441
         ]
        },
        {
         "line": {
          "color": "black"
         },
         "mode": "lines",
         "type": "scatter",
         "x": [
          0.11112785339355469,
          0.0953566233317058
         ],
         "y": [
          0.010655975341796853,
          0.1105400721232096
         ]
        },
        {
         "line": {
          "color": "black"
         },
         "mode": "lines",
         "type": "scatter",
         "x": [
          0.0953566233317058,
          0.0795853932698567
         ],
         "y": [
          0.1105400721232096,
          0.19991010030110679
         ]
        },
        {
         "line": {
          "color": "black"
         },
         "mode": "lines",
         "type": "scatter",
         "x": [
          0.15844128926595058,
          0.1426701863606772
         ],
         "y": [
          0.015913009643554688,
          0.1105400721232096
         ]
        },
        {
         "line": {
          "color": "black"
         },
         "mode": "lines",
         "type": "scatter",
         "x": [
          0.1426701863606772,
          0.12689895629882808
         ],
         "y": [
          0.1105400721232096,
          0.1946530024210612
         ]
        },
        {
         "line": {
          "color": "black"
         },
         "mode": "lines",
         "type": "scatter",
         "x": [
          0.14267012278238922,
          0.1479272206624349
         ],
         "y": [
          -0.07871400515238441,
          -0.16808398564656574
         ]
        },
        {
         "line": {
          "color": "black"
         },
         "mode": "lines",
         "type": "scatter",
         "x": [
          0.1479272206624349,
          0.18472658793131513
         ],
         "y": [
          -0.16808398564656574,
          -0.19436928431193035
         ]
        },
        {
         "line": {
          "color": "black"
         },
         "mode": "lines",
         "type": "scatter",
         "x": [
          0.18472658793131513,
          0.1636983235677083
         ],
         "y": [
          -0.19436928431193035,
          -0.2416828155517578
         ]
        },
        {
         "line": {
          "color": "black"
         },
         "mode": "lines",
         "type": "scatter",
         "x": [
          0.1479272206624349,
          0.10587069193522125
         ],
         "y": [
          -0.16808398564656574,
          -0.1470557530721029
         ]
        },
        {
         "line": {
          "color": "black"
         },
         "mode": "lines",
         "type": "scatter",
         "x": [
          0.10587069193522125,
          0.058557192484537834
         ],
         "y": [
          -0.1470557530721029,
          -0.12602752049764
         ]
        },
        {
         "line": {
          "color": "black"
         },
         "mode": "lines",
         "type": "scatter",
         "x": [
          0.058557192484537834,
          0.02175782521565761
         ],
         "y": [
          -0.12602752049764,
          -0.1102563540140788
         ]
        },
        {
         "line": {
          "color": "black"
         },
         "mode": "lines",
         "type": "scatter",
         "x": [
          0.1479272206624349,
          0.18998362223307286
         ],
         "y": [
          -0.16808398564656574,
          -0.14179871877034506
         ]
        },
        {
         "line": {
          "color": "black"
         },
         "mode": "lines",
         "type": "scatter",
         "x": [
          0.18998362223307286,
          0.23729718526204424
         ],
         "y": [
          -0.14179871877034506,
          -0.11551342010498045
         ]
        },
        {
         "line": {
          "color": "black"
         },
         "mode": "lines",
         "type": "scatter",
         "x": [
          0.23729718526204424,
          0.28986778259277335
         ],
         "y": [
          -0.11551342010498045,
          -0.09974225362141925
         ]
        }
       ],
       "layout": {
        "height": 700,
        "template": {
         "data": {
          "bar": [
           {
            "error_x": {
             "color": "#2a3f5f"
            },
            "error_y": {
             "color": "#2a3f5f"
            },
            "marker": {
             "line": {
              "color": "white",
              "width": 0.5
             },
             "pattern": {
              "fillmode": "overlay",
              "size": 10,
              "solidity": 0.2
             }
            },
            "type": "bar"
           }
          ],
          "barpolar": [
           {
            "marker": {
             "line": {
              "color": "white",
              "width": 0.5
             },
             "pattern": {
              "fillmode": "overlay",
              "size": 10,
              "solidity": 0.2
             }
            },
            "type": "barpolar"
           }
          ],
          "carpet": [
           {
            "aaxis": {
             "endlinecolor": "#2a3f5f",
             "gridcolor": "#C8D4E3",
             "linecolor": "#C8D4E3",
             "minorgridcolor": "#C8D4E3",
             "startlinecolor": "#2a3f5f"
            },
            "baxis": {
             "endlinecolor": "#2a3f5f",
             "gridcolor": "#C8D4E3",
             "linecolor": "#C8D4E3",
             "minorgridcolor": "#C8D4E3",
             "startlinecolor": "#2a3f5f"
            },
            "type": "carpet"
           }
          ],
          "choropleth": [
           {
            "colorbar": {
             "outlinewidth": 0,
             "ticks": ""
            },
            "type": "choropleth"
           }
          ],
          "contour": [
           {
            "colorbar": {
             "outlinewidth": 0,
             "ticks": ""
            },
            "colorscale": [
             [
              0,
              "#0d0887"
             ],
             [
              0.1111111111111111,
              "#46039f"
             ],
             [
              0.2222222222222222,
              "#7201a8"
             ],
             [
              0.3333333333333333,
              "#9c179e"
             ],
             [
              0.4444444444444444,
              "#bd3786"
             ],
             [
              0.5555555555555556,
              "#d8576b"
             ],
             [
              0.6666666666666666,
              "#ed7953"
             ],
             [
              0.7777777777777778,
              "#fb9f3a"
             ],
             [
              0.8888888888888888,
              "#fdca26"
             ],
             [
              1,
              "#f0f921"
             ]
            ],
            "type": "contour"
           }
          ],
          "contourcarpet": [
           {
            "colorbar": {
             "outlinewidth": 0,
             "ticks": ""
            },
            "type": "contourcarpet"
           }
          ],
          "heatmap": [
           {
            "colorbar": {
             "outlinewidth": 0,
             "ticks": ""
            },
            "colorscale": [
             [
              0,
              "#0d0887"
             ],
             [
              0.1111111111111111,
              "#46039f"
             ],
             [
              0.2222222222222222,
              "#7201a8"
             ],
             [
              0.3333333333333333,
              "#9c179e"
             ],
             [
              0.4444444444444444,
              "#bd3786"
             ],
             [
              0.5555555555555556,
              "#d8576b"
             ],
             [
              0.6666666666666666,
              "#ed7953"
             ],
             [
              0.7777777777777778,
              "#fb9f3a"
             ],
             [
              0.8888888888888888,
              "#fdca26"
             ],
             [
              1,
              "#f0f921"
             ]
            ],
            "type": "heatmap"
           }
          ],
          "heatmapgl": [
           {
            "colorbar": {
             "outlinewidth": 0,
             "ticks": ""
            },
            "colorscale": [
             [
              0,
              "#0d0887"
             ],
             [
              0.1111111111111111,
              "#46039f"
             ],
             [
              0.2222222222222222,
              "#7201a8"
             ],
             [
              0.3333333333333333,
              "#9c179e"
             ],
             [
              0.4444444444444444,
              "#bd3786"
             ],
             [
              0.5555555555555556,
              "#d8576b"
             ],
             [
              0.6666666666666666,
              "#ed7953"
             ],
             [
              0.7777777777777778,
              "#fb9f3a"
             ],
             [
              0.8888888888888888,
              "#fdca26"
             ],
             [
              1,
              "#f0f921"
             ]
            ],
            "type": "heatmapgl"
           }
          ],
          "histogram": [
           {
            "marker": {
             "pattern": {
              "fillmode": "overlay",
              "size": 10,
              "solidity": 0.2
             }
            },
            "type": "histogram"
           }
          ],
          "histogram2d": [
           {
            "colorbar": {
             "outlinewidth": 0,
             "ticks": ""
            },
            "colorscale": [
             [
              0,
              "#0d0887"
             ],
             [
              0.1111111111111111,
              "#46039f"
             ],
             [
              0.2222222222222222,
              "#7201a8"
             ],
             [
              0.3333333333333333,
              "#9c179e"
             ],
             [
              0.4444444444444444,
              "#bd3786"
             ],
             [
              0.5555555555555556,
              "#d8576b"
             ],
             [
              0.6666666666666666,
              "#ed7953"
             ],
             [
              0.7777777777777778,
              "#fb9f3a"
             ],
             [
              0.8888888888888888,
              "#fdca26"
             ],
             [
              1,
              "#f0f921"
             ]
            ],
            "type": "histogram2d"
           }
          ],
          "histogram2dcontour": [
           {
            "colorbar": {
             "outlinewidth": 0,
             "ticks": ""
            },
            "colorscale": [
             [
              0,
              "#0d0887"
             ],
             [
              0.1111111111111111,
              "#46039f"
             ],
             [
              0.2222222222222222,
              "#7201a8"
             ],
             [
              0.3333333333333333,
              "#9c179e"
             ],
             [
              0.4444444444444444,
              "#bd3786"
             ],
             [
              0.5555555555555556,
              "#d8576b"
             ],
             [
              0.6666666666666666,
              "#ed7953"
             ],
             [
              0.7777777777777778,
              "#fb9f3a"
             ],
             [
              0.8888888888888888,
              "#fdca26"
             ],
             [
              1,
              "#f0f921"
             ]
            ],
            "type": "histogram2dcontour"
           }
          ],
          "mesh3d": [
           {
            "colorbar": {
             "outlinewidth": 0,
             "ticks": ""
            },
            "type": "mesh3d"
           }
          ],
          "parcoords": [
           {
            "line": {
             "colorbar": {
              "outlinewidth": 0,
              "ticks": ""
             }
            },
            "type": "parcoords"
           }
          ],
          "pie": [
           {
            "automargin": true,
            "type": "pie"
           }
          ],
          "scatter": [
           {
            "fillpattern": {
             "fillmode": "overlay",
             "size": 10,
             "solidity": 0.2
            },
            "type": "scatter"
           }
          ],
          "scatter3d": [
           {
            "line": {
             "colorbar": {
              "outlinewidth": 0,
              "ticks": ""
             }
            },
            "marker": {
             "colorbar": {
              "outlinewidth": 0,
              "ticks": ""
             }
            },
            "type": "scatter3d"
           }
          ],
          "scattercarpet": [
           {
            "marker": {
             "colorbar": {
              "outlinewidth": 0,
              "ticks": ""
             }
            },
            "type": "scattercarpet"
           }
          ],
          "scattergeo": [
           {
            "marker": {
             "colorbar": {
              "outlinewidth": 0,
              "ticks": ""
             }
            },
            "type": "scattergeo"
           }
          ],
          "scattergl": [
           {
            "marker": {
             "colorbar": {
              "outlinewidth": 0,
              "ticks": ""
             }
            },
            "type": "scattergl"
           }
          ],
          "scattermapbox": [
           {
            "marker": {
             "colorbar": {
              "outlinewidth": 0,
              "ticks": ""
             }
            },
            "type": "scattermapbox"
           }
          ],
          "scatterpolar": [
           {
            "marker": {
             "colorbar": {
              "outlinewidth": 0,
              "ticks": ""
             }
            },
            "type": "scatterpolar"
           }
          ],
          "scatterpolargl": [
           {
            "marker": {
             "colorbar": {
              "outlinewidth": 0,
              "ticks": ""
             }
            },
            "type": "scatterpolargl"
           }
          ],
          "scatterternary": [
           {
            "marker": {
             "colorbar": {
              "outlinewidth": 0,
              "ticks": ""
             }
            },
            "type": "scatterternary"
           }
          ],
          "surface": [
           {
            "colorbar": {
             "outlinewidth": 0,
             "ticks": ""
            },
            "colorscale": [
             [
              0,
              "#0d0887"
             ],
             [
              0.1111111111111111,
              "#46039f"
             ],
             [
              0.2222222222222222,
              "#7201a8"
             ],
             [
              0.3333333333333333,
              "#9c179e"
             ],
             [
              0.4444444444444444,
              "#bd3786"
             ],
             [
              0.5555555555555556,
              "#d8576b"
             ],
             [
              0.6666666666666666,
              "#ed7953"
             ],
             [
              0.7777777777777778,
              "#fb9f3a"
             ],
             [
              0.8888888888888888,
              "#fdca26"
             ],
             [
              1,
              "#f0f921"
             ]
            ],
            "type": "surface"
           }
          ],
          "table": [
           {
            "cells": {
             "fill": {
              "color": "#EBF0F8"
             },
             "line": {
              "color": "white"
             }
            },
            "header": {
             "fill": {
              "color": "#C8D4E3"
             },
             "line": {
              "color": "white"
             }
            },
            "type": "table"
           }
          ]
         },
         "layout": {
          "annotationdefaults": {
           "arrowcolor": "#2a3f5f",
           "arrowhead": 0,
           "arrowwidth": 1
          },
          "autotypenumbers": "strict",
          "coloraxis": {
           "colorbar": {
            "outlinewidth": 0,
            "ticks": ""
           }
          },
          "colorscale": {
           "diverging": [
            [
             0,
             "#8e0152"
            ],
            [
             0.1,
             "#c51b7d"
            ],
            [
             0.2,
             "#de77ae"
            ],
            [
             0.3,
             "#f1b6da"
            ],
            [
             0.4,
             "#fde0ef"
            ],
            [
             0.5,
             "#f7f7f7"
            ],
            [
             0.6,
             "#e6f5d0"
            ],
            [
             0.7,
             "#b8e186"
            ],
            [
             0.8,
             "#7fbc41"
            ],
            [
             0.9,
             "#4d9221"
            ],
            [
             1,
             "#276419"
            ]
           ],
           "sequential": [
            [
             0,
             "#0d0887"
            ],
            [
             0.1111111111111111,
             "#46039f"
            ],
            [
             0.2222222222222222,
             "#7201a8"
            ],
            [
             0.3333333333333333,
             "#9c179e"
            ],
            [
             0.4444444444444444,
             "#bd3786"
            ],
            [
             0.5555555555555556,
             "#d8576b"
            ],
            [
             0.6666666666666666,
             "#ed7953"
            ],
            [
             0.7777777777777778,
             "#fb9f3a"
            ],
            [
             0.8888888888888888,
             "#fdca26"
            ],
            [
             1,
             "#f0f921"
            ]
           ],
           "sequentialminus": [
            [
             0,
             "#0d0887"
            ],
            [
             0.1111111111111111,
             "#46039f"
            ],
            [
             0.2222222222222222,
             "#7201a8"
            ],
            [
             0.3333333333333333,
             "#9c179e"
            ],
            [
             0.4444444444444444,
             "#bd3786"
            ],
            [
             0.5555555555555556,
             "#d8576b"
            ],
            [
             0.6666666666666666,
             "#ed7953"
            ],
            [
             0.7777777777777778,
             "#fb9f3a"
            ],
            [
             0.8888888888888888,
             "#fdca26"
            ],
            [
             1,
             "#f0f921"
            ]
           ]
          },
          "colorway": [
           "#636efa",
           "#EF553B",
           "#00cc96",
           "#ab63fa",
           "#FFA15A",
           "#19d3f3",
           "#FF6692",
           "#B6E880",
           "#FF97FF",
           "#FECB52"
          ],
          "font": {
           "color": "#2a3f5f"
          },
          "geo": {
           "bgcolor": "white",
           "lakecolor": "white",
           "landcolor": "white",
           "showlakes": true,
           "showland": true,
           "subunitcolor": "#C8D4E3"
          },
          "hoverlabel": {
           "align": "left"
          },
          "hovermode": "closest",
          "mapbox": {
           "style": "light"
          },
          "paper_bgcolor": "white",
          "plot_bgcolor": "white",
          "polar": {
           "angularaxis": {
            "gridcolor": "#EBF0F8",
            "linecolor": "#EBF0F8",
            "ticks": ""
           },
           "bgcolor": "white",
           "radialaxis": {
            "gridcolor": "#EBF0F8",
            "linecolor": "#EBF0F8",
            "ticks": ""
           }
          },
          "scene": {
           "xaxis": {
            "backgroundcolor": "white",
            "gridcolor": "#DFE8F3",
            "gridwidth": 2,
            "linecolor": "#EBF0F8",
            "showbackground": true,
            "ticks": "",
            "zerolinecolor": "#EBF0F8"
           },
           "yaxis": {
            "backgroundcolor": "white",
            "gridcolor": "#DFE8F3",
            "gridwidth": 2,
            "linecolor": "#EBF0F8",
            "showbackground": true,
            "ticks": "",
            "zerolinecolor": "#EBF0F8"
           },
           "zaxis": {
            "backgroundcolor": "white",
            "gridcolor": "#DFE8F3",
            "gridwidth": 2,
            "linecolor": "#EBF0F8",
            "showbackground": true,
            "ticks": "",
            "zerolinecolor": "#EBF0F8"
           }
          },
          "shapedefaults": {
           "line": {
            "color": "#2a3f5f"
           }
          },
          "ternary": {
           "aaxis": {
            "gridcolor": "#DFE8F3",
            "linecolor": "#A2B1C6",
            "ticks": ""
           },
           "baxis": {
            "gridcolor": "#DFE8F3",
            "linecolor": "#A2B1C6",
            "ticks": ""
           },
           "bgcolor": "white",
           "caxis": {
            "gridcolor": "#DFE8F3",
            "linecolor": "#A2B1C6",
            "ticks": ""
           }
          },
          "title": {
           "x": 0.05
          },
          "xaxis": {
           "automargin": true,
           "gridcolor": "#EBF0F8",
           "linecolor": "#EBF0F8",
           "ticks": "",
           "title": {
            "standoff": 15
           },
           "zerolinecolor": "#EBF0F8",
           "zerolinewidth": 2
          },
          "yaxis": {
           "automargin": true,
           "gridcolor": "#EBF0F8",
           "linecolor": "#EBF0F8",
           "ticks": "",
           "title": {
            "standoff": 15
           },
           "zerolinecolor": "#EBF0F8",
           "zerolinewidth": 2
          }
         }
        },
        "width": 700,
        "xaxis": {
         "range": [
          -1,
          1
         ]
        },
        "yaxis": {
         "range": [
          1,
          -1
         ]
        }
       }
      }
     },
     "metadata": {},
     "output_type": "display_data"
    },
    {
     "data": {
      "text/plain": [
       "<ipywidgets.widgets.interaction._InteractFactory at 0x7f811d6c9460>"
      ]
     },
     "execution_count": 7,
     "metadata": {},
     "output_type": "execute_result"
    }
   ],
   "source": [
    "# 2d input\n",
    "aihub_2d = copy.deepcopy(test['data_input'][frame_num])\n",
    "# 2d skeleton\n",
    "pos = copy.deepcopy(aihub_2d)\n",
    "points_aihub_2d = {}\n",
    "for i, p in enumerate(pos):\n",
    "    p = np.append(p, 0.0)\n",
    "    #print(i, h36m_keypoints[i], p)\n",
    "    points_aihub_2d[i] = p\n",
    "pos_vector = pos.reshape(-1) # (51,)\n",
    "total_min, total_max = pos_vector.min(), pos_vector.max()\n",
    "print(\"total min: \", total_min,\n",
    "      \"total max: \", total_max)\n",
    "\n",
    "interact(draw_skeleton_2d(points_aihub_2d, h36m_connections))"
   ]
  },
  {
   "cell_type": "code",
   "execution_count": 12,
   "metadata": {},
   "outputs": [
    {
     "name": "stdout",
     "output_type": "stream",
     "text": [
      "total min:  -0.87315625 total max:  0.34732916666666663\n"
     ]
    },
    {
     "data": {
      "application/vnd.plotly.v1+json": {
       "config": {
        "plotlyServerURL": "https://plot.ly"
       },
       "data": [
        {
         "marker": {
          "color": "red",
          "size": 5
         },
         "mode": "markers",
         "type": "scatter3d",
         "x": [
          0
         ],
         "y": [
          0
         ],
         "z": [
          0
         ]
        },
        {
         "marker": {
          "color": "blue",
          "size": 2
         },
         "mode": "markers",
         "type": "scatter3d",
         "x": [
          0.14176380208333333
         ],
         "y": [
          -0.0182184375
         ],
         "z": [
          0.4398877604166667
         ]
        },
        {
         "marker": {
          "color": "blue",
          "size": 2
         },
         "mode": "markers",
         "type": "scatter3d",
         "x": [
          0.1115640625
         ],
         "y": [
          -0.01966125
         ],
         "z": [
          0.43899375
         ]
        },
        {
         "marker": {
          "color": "blue",
          "size": 2
         },
         "mode": "markers",
         "type": "scatter3d",
         "x": [
          0.09620885416666666
         ],
         "y": [
          -0.001981369791666667
         ],
         "z": [
          0.23824375
         ]
        },
        {
         "marker": {
          "color": "blue",
          "size": 2
         },
         "mode": "markers",
         "type": "scatter3d",
         "x": [
          0.06743958333333334
         ],
         "y": [
          0.011956041666666667
         ],
         "z": [
          0.022161145833333333
         ]
        },
        {
         "marker": {
          "color": "blue",
          "size": 2
         },
         "mode": "markers",
         "type": "scatter3d",
         "x": [
          0.17196354166666666
         ],
         "y": [
          -0.016775625000000002
         ],
         "z": [
          0.44078177083333336
         ]
        },
        {
         "marker": {
          "color": "blue",
          "size": 2
         },
         "mode": "markers",
         "type": "scatter3d",
         "x": [
          0.17163645833333332
         ],
         "y": [
          -0.00133321875
         ],
         "z": [
          0.2367328125
         ]
        },
        {
         "marker": {
          "color": "blue",
          "size": 2
         },
         "mode": "markers",
         "type": "scatter3d",
         "x": [
          0.19744010416666666
         ],
         "y": [
          0.0147940625
         ],
         "z": [
          0.016818437500000002
         ]
        },
        {
         "marker": {
          "color": "blue",
          "size": 2
         },
         "mode": "markers",
         "type": "scatter3d",
         "x": [
          0.15046927083333334
         ],
         "y": [
          -0.013306875
         ],
         "z": [
          0.6233541666666667
         ]
        },
        {
         "marker": {
          "color": "blue",
          "size": 2
         },
         "mode": "markers",
         "type": "scatter3d",
         "x": [
          0.13690885416666668
         ],
         "y": [
          0.008964114583333332
         ],
         "z": [
          0.7689895833333333
         ]
        },
        {
         "marker": {
          "color": "blue",
          "size": 2
         },
         "mode": "markers",
         "type": "scatter3d",
         "x": [
          0.13690885416666668
         ],
         "y": [
          -0.017077552083333333
         ],
         "z": [
          0.8210729166666667
         ]
        },
        {
         "marker": {
          "color": "blue",
          "size": 2
         },
         "mode": "markers",
         "type": "scatter3d",
         "x": [
          0.13690885416666668
         ],
         "y": [
          0.008964114583333332
         ],
         "z": [
          0.87315625
         ]
        },
        {
         "marker": {
          "color": "blue",
          "size": 2
         },
         "mode": "markers",
         "type": "scatter3d",
         "x": [
          0.24193177083333334
         ],
         "y": [
          0.013125885416666667
         ],
         "z": [
          0.7376406249999999
         ]
        },
        {
         "marker": {
          "color": "blue",
          "size": 2
         },
         "mode": "markers",
         "type": "scatter3d",
         "x": [
          0.2972609375
         ],
         "y": [
          0.016560625
         ],
         "z": [
          0.6132500000000001
         ]
        },
        {
         "marker": {
          "color": "blue",
          "size": 2
         },
         "mode": "markers",
         "type": "scatter3d",
         "x": [
          0.34732916666666663
         ],
         "y": [
          0.00367028125
         ],
         "z": [
          0.4858609375
         ]
        },
        {
         "marker": {
          "color": "blue",
          "size": 2
         },
         "mode": "markers",
         "type": "scatter3d",
         "x": [
          0.04665442708333333
         ],
         "y": [
          0.005013208333333334
         ],
         "z": [
          0.7321458333333334
         ]
        },
        {
         "marker": {
          "color": "blue",
          "size": 2
         },
         "mode": "markers",
         "type": "scatter3d",
         "x": [
          -0.013206614583333333
         ],
         "y": [
          0.010686875
         ],
         "z": [
          0.6082395833333333
         ]
        },
        {
         "marker": {
          "color": "blue",
          "size": 2
         },
         "mode": "markers",
         "type": "scatter3d",
         "x": [
          -0.05614322916666667
         ],
         "y": [
          -0.004498515625
         ],
         "z": [
          0.4748677083333333
         ]
        },
        {
         "line": {
          "color": "black"
         },
         "mode": "lines",
         "type": "scatter3d",
         "x": [
          0.14176380208333333,
          0.1115640625
         ],
         "y": [
          -0.0182184375,
          -0.01966125
         ],
         "z": [
          0.4398877604166667,
          0.43899375
         ]
        },
        {
         "line": {
          "color": "black"
         },
         "mode": "lines",
         "type": "scatter3d",
         "x": [
          0.14176380208333333,
          0.17196354166666666
         ],
         "y": [
          -0.0182184375,
          -0.016775625000000002
         ],
         "z": [
          0.4398877604166667,
          0.44078177083333336
         ]
        },
        {
         "line": {
          "color": "black"
         },
         "mode": "lines",
         "type": "scatter3d",
         "x": [
          0.14176380208333333,
          0.15046927083333334
         ],
         "y": [
          -0.0182184375,
          -0.013306875
         ],
         "z": [
          0.4398877604166667,
          0.6233541666666667
         ]
        },
        {
         "line": {
          "color": "black"
         },
         "mode": "lines",
         "type": "scatter3d",
         "x": [
          0.1115640625,
          0.09620885416666666
         ],
         "y": [
          -0.01966125,
          -0.001981369791666667
         ],
         "z": [
          0.43899375,
          0.23824375
         ]
        },
        {
         "line": {
          "color": "black"
         },
         "mode": "lines",
         "type": "scatter3d",
         "x": [
          0.09620885416666666,
          0.06743958333333334
         ],
         "y": [
          -0.001981369791666667,
          0.011956041666666667
         ],
         "z": [
          0.23824375,
          0.022161145833333333
         ]
        },
        {
         "line": {
          "color": "black"
         },
         "mode": "lines",
         "type": "scatter3d",
         "x": [
          0.17196354166666666,
          0.17163645833333332
         ],
         "y": [
          -0.016775625000000002,
          -0.00133321875
         ],
         "z": [
          0.44078177083333336,
          0.2367328125
         ]
        },
        {
         "line": {
          "color": "black"
         },
         "mode": "lines",
         "type": "scatter3d",
         "x": [
          0.17163645833333332,
          0.19744010416666666
         ],
         "y": [
          -0.00133321875,
          0.0147940625
         ],
         "z": [
          0.2367328125,
          0.016818437500000002
         ]
        },
        {
         "line": {
          "color": "black"
         },
         "mode": "lines",
         "type": "scatter3d",
         "x": [
          0.15046927083333334,
          0.13690885416666668
         ],
         "y": [
          -0.013306875,
          0.008964114583333332
         ],
         "z": [
          0.6233541666666667,
          0.7689895833333333
         ]
        },
        {
         "line": {
          "color": "black"
         },
         "mode": "lines",
         "type": "scatter3d",
         "x": [
          0.13690885416666668,
          0.13690885416666668
         ],
         "y": [
          0.008964114583333332,
          -0.017077552083333333
         ],
         "z": [
          0.7689895833333333,
          0.8210729166666667
         ]
        },
        {
         "line": {
          "color": "black"
         },
         "mode": "lines",
         "type": "scatter3d",
         "x": [
          0.13690885416666668,
          0.13690885416666668
         ],
         "y": [
          -0.017077552083333333,
          0.008964114583333332
         ],
         "z": [
          0.8210729166666667,
          0.87315625
         ]
        },
        {
         "line": {
          "color": "black"
         },
         "mode": "lines",
         "type": "scatter3d",
         "x": [
          0.13690885416666668,
          0.04665442708333333
         ],
         "y": [
          0.008964114583333332,
          0.005013208333333334
         ],
         "z": [
          0.7689895833333333,
          0.7321458333333334
         ]
        },
        {
         "line": {
          "color": "black"
         },
         "mode": "lines",
         "type": "scatter3d",
         "x": [
          0.04665442708333333,
          -0.013206614583333333
         ],
         "y": [
          0.005013208333333334,
          0.010686875
         ],
         "z": [
          0.7321458333333334,
          0.6082395833333333
         ]
        },
        {
         "line": {
          "color": "black"
         },
         "mode": "lines",
         "type": "scatter3d",
         "x": [
          -0.013206614583333333,
          -0.05614322916666667
         ],
         "y": [
          0.010686875,
          -0.004498515625
         ],
         "z": [
          0.6082395833333333,
          0.4748677083333333
         ]
        },
        {
         "line": {
          "color": "black"
         },
         "mode": "lines",
         "type": "scatter3d",
         "x": [
          0.13690885416666668,
          0.24193177083333334
         ],
         "y": [
          0.008964114583333332,
          0.013125885416666667
         ],
         "z": [
          0.7689895833333333,
          0.7376406249999999
         ]
        },
        {
         "line": {
          "color": "black"
         },
         "mode": "lines",
         "type": "scatter3d",
         "x": [
          0.24193177083333334,
          0.2972609375
         ],
         "y": [
          0.013125885416666667,
          0.016560625
         ],
         "z": [
          0.7376406249999999,
          0.6132500000000001
         ]
        },
        {
         "line": {
          "color": "black"
         },
         "mode": "lines",
         "type": "scatter3d",
         "x": [
          0.2972609375,
          0.34732916666666663
         ],
         "y": [
          0.016560625,
          0.00367028125
         ],
         "z": [
          0.6132500000000001,
          0.4858609375
         ]
        }
       ],
       "layout": {
        "autosize": false,
        "height": 700,
        "scene": {
         "aspectratio": {
          "x": 1,
          "y": 1,
          "z": 1
         },
         "camera": {
          "eye": {
           "x": 1,
           "y": 1,
           "z": 1
          }
         },
         "xaxis": {
          "range": [
           -1,
           1
          ]
         },
         "yaxis": {
          "range": [
           -1,
           1
          ]
         },
         "zaxis": {
          "range": [
           -1,
           1
          ]
         }
        },
        "template": {
         "data": {
          "bar": [
           {
            "error_x": {
             "color": "#2a3f5f"
            },
            "error_y": {
             "color": "#2a3f5f"
            },
            "marker": {
             "line": {
              "color": "#E5ECF6",
              "width": 0.5
             },
             "pattern": {
              "fillmode": "overlay",
              "size": 10,
              "solidity": 0.2
             }
            },
            "type": "bar"
           }
          ],
          "barpolar": [
           {
            "marker": {
             "line": {
              "color": "#E5ECF6",
              "width": 0.5
             },
             "pattern": {
              "fillmode": "overlay",
              "size": 10,
              "solidity": 0.2
             }
            },
            "type": "barpolar"
           }
          ],
          "carpet": [
           {
            "aaxis": {
             "endlinecolor": "#2a3f5f",
             "gridcolor": "white",
             "linecolor": "white",
             "minorgridcolor": "white",
             "startlinecolor": "#2a3f5f"
            },
            "baxis": {
             "endlinecolor": "#2a3f5f",
             "gridcolor": "white",
             "linecolor": "white",
             "minorgridcolor": "white",
             "startlinecolor": "#2a3f5f"
            },
            "type": "carpet"
           }
          ],
          "choropleth": [
           {
            "colorbar": {
             "outlinewidth": 0,
             "ticks": ""
            },
            "type": "choropleth"
           }
          ],
          "contour": [
           {
            "colorbar": {
             "outlinewidth": 0,
             "ticks": ""
            },
            "colorscale": [
             [
              0,
              "#0d0887"
             ],
             [
              0.1111111111111111,
              "#46039f"
             ],
             [
              0.2222222222222222,
              "#7201a8"
             ],
             [
              0.3333333333333333,
              "#9c179e"
             ],
             [
              0.4444444444444444,
              "#bd3786"
             ],
             [
              0.5555555555555556,
              "#d8576b"
             ],
             [
              0.6666666666666666,
              "#ed7953"
             ],
             [
              0.7777777777777778,
              "#fb9f3a"
             ],
             [
              0.8888888888888888,
              "#fdca26"
             ],
             [
              1,
              "#f0f921"
             ]
            ],
            "type": "contour"
           }
          ],
          "contourcarpet": [
           {
            "colorbar": {
             "outlinewidth": 0,
             "ticks": ""
            },
            "type": "contourcarpet"
           }
          ],
          "heatmap": [
           {
            "colorbar": {
             "outlinewidth": 0,
             "ticks": ""
            },
            "colorscale": [
             [
              0,
              "#0d0887"
             ],
             [
              0.1111111111111111,
              "#46039f"
             ],
             [
              0.2222222222222222,
              "#7201a8"
             ],
             [
              0.3333333333333333,
              "#9c179e"
             ],
             [
              0.4444444444444444,
              "#bd3786"
             ],
             [
              0.5555555555555556,
              "#d8576b"
             ],
             [
              0.6666666666666666,
              "#ed7953"
             ],
             [
              0.7777777777777778,
              "#fb9f3a"
             ],
             [
              0.8888888888888888,
              "#fdca26"
             ],
             [
              1,
              "#f0f921"
             ]
            ],
            "type": "heatmap"
           }
          ],
          "heatmapgl": [
           {
            "colorbar": {
             "outlinewidth": 0,
             "ticks": ""
            },
            "colorscale": [
             [
              0,
              "#0d0887"
             ],
             [
              0.1111111111111111,
              "#46039f"
             ],
             [
              0.2222222222222222,
              "#7201a8"
             ],
             [
              0.3333333333333333,
              "#9c179e"
             ],
             [
              0.4444444444444444,
              "#bd3786"
             ],
             [
              0.5555555555555556,
              "#d8576b"
             ],
             [
              0.6666666666666666,
              "#ed7953"
             ],
             [
              0.7777777777777778,
              "#fb9f3a"
             ],
             [
              0.8888888888888888,
              "#fdca26"
             ],
             [
              1,
              "#f0f921"
             ]
            ],
            "type": "heatmapgl"
           }
          ],
          "histogram": [
           {
            "marker": {
             "pattern": {
              "fillmode": "overlay",
              "size": 10,
              "solidity": 0.2
             }
            },
            "type": "histogram"
           }
          ],
          "histogram2d": [
           {
            "colorbar": {
             "outlinewidth": 0,
             "ticks": ""
            },
            "colorscale": [
             [
              0,
              "#0d0887"
             ],
             [
              0.1111111111111111,
              "#46039f"
             ],
             [
              0.2222222222222222,
              "#7201a8"
             ],
             [
              0.3333333333333333,
              "#9c179e"
             ],
             [
              0.4444444444444444,
              "#bd3786"
             ],
             [
              0.5555555555555556,
              "#d8576b"
             ],
             [
              0.6666666666666666,
              "#ed7953"
             ],
             [
              0.7777777777777778,
              "#fb9f3a"
             ],
             [
              0.8888888888888888,
              "#fdca26"
             ],
             [
              1,
              "#f0f921"
             ]
            ],
            "type": "histogram2d"
           }
          ],
          "histogram2dcontour": [
           {
            "colorbar": {
             "outlinewidth": 0,
             "ticks": ""
            },
            "colorscale": [
             [
              0,
              "#0d0887"
             ],
             [
              0.1111111111111111,
              "#46039f"
             ],
             [
              0.2222222222222222,
              "#7201a8"
             ],
             [
              0.3333333333333333,
              "#9c179e"
             ],
             [
              0.4444444444444444,
              "#bd3786"
             ],
             [
              0.5555555555555556,
              "#d8576b"
             ],
             [
              0.6666666666666666,
              "#ed7953"
             ],
             [
              0.7777777777777778,
              "#fb9f3a"
             ],
             [
              0.8888888888888888,
              "#fdca26"
             ],
             [
              1,
              "#f0f921"
             ]
            ],
            "type": "histogram2dcontour"
           }
          ],
          "mesh3d": [
           {
            "colorbar": {
             "outlinewidth": 0,
             "ticks": ""
            },
            "type": "mesh3d"
           }
          ],
          "parcoords": [
           {
            "line": {
             "colorbar": {
              "outlinewidth": 0,
              "ticks": ""
             }
            },
            "type": "parcoords"
           }
          ],
          "pie": [
           {
            "automargin": true,
            "type": "pie"
           }
          ],
          "scatter": [
           {
            "fillpattern": {
             "fillmode": "overlay",
             "size": 10,
             "solidity": 0.2
            },
            "type": "scatter"
           }
          ],
          "scatter3d": [
           {
            "line": {
             "colorbar": {
              "outlinewidth": 0,
              "ticks": ""
             }
            },
            "marker": {
             "colorbar": {
              "outlinewidth": 0,
              "ticks": ""
             }
            },
            "type": "scatter3d"
           }
          ],
          "scattercarpet": [
           {
            "marker": {
             "colorbar": {
              "outlinewidth": 0,
              "ticks": ""
             }
            },
            "type": "scattercarpet"
           }
          ],
          "scattergeo": [
           {
            "marker": {
             "colorbar": {
              "outlinewidth": 0,
              "ticks": ""
             }
            },
            "type": "scattergeo"
           }
          ],
          "scattergl": [
           {
            "marker": {
             "colorbar": {
              "outlinewidth": 0,
              "ticks": ""
             }
            },
            "type": "scattergl"
           }
          ],
          "scattermapbox": [
           {
            "marker": {
             "colorbar": {
              "outlinewidth": 0,
              "ticks": ""
             }
            },
            "type": "scattermapbox"
           }
          ],
          "scatterpolar": [
           {
            "marker": {
             "colorbar": {
              "outlinewidth": 0,
              "ticks": ""
             }
            },
            "type": "scatterpolar"
           }
          ],
          "scatterpolargl": [
           {
            "marker": {
             "colorbar": {
              "outlinewidth": 0,
              "ticks": ""
             }
            },
            "type": "scatterpolargl"
           }
          ],
          "scatterternary": [
           {
            "marker": {
             "colorbar": {
              "outlinewidth": 0,
              "ticks": ""
             }
            },
            "type": "scatterternary"
           }
          ],
          "surface": [
           {
            "colorbar": {
             "outlinewidth": 0,
             "ticks": ""
            },
            "colorscale": [
             [
              0,
              "#0d0887"
             ],
             [
              0.1111111111111111,
              "#46039f"
             ],
             [
              0.2222222222222222,
              "#7201a8"
             ],
             [
              0.3333333333333333,
              "#9c179e"
             ],
             [
              0.4444444444444444,
              "#bd3786"
             ],
             [
              0.5555555555555556,
              "#d8576b"
             ],
             [
              0.6666666666666666,
              "#ed7953"
             ],
             [
              0.7777777777777778,
              "#fb9f3a"
             ],
             [
              0.8888888888888888,
              "#fdca26"
             ],
             [
              1,
              "#f0f921"
             ]
            ],
            "type": "surface"
           }
          ],
          "table": [
           {
            "cells": {
             "fill": {
              "color": "#EBF0F8"
             },
             "line": {
              "color": "white"
             }
            },
            "header": {
             "fill": {
              "color": "#C8D4E3"
             },
             "line": {
              "color": "white"
             }
            },
            "type": "table"
           }
          ]
         },
         "layout": {
          "annotationdefaults": {
           "arrowcolor": "#2a3f5f",
           "arrowhead": 0,
           "arrowwidth": 1
          },
          "autotypenumbers": "strict",
          "coloraxis": {
           "colorbar": {
            "outlinewidth": 0,
            "ticks": ""
           }
          },
          "colorscale": {
           "diverging": [
            [
             0,
             "#8e0152"
            ],
            [
             0.1,
             "#c51b7d"
            ],
            [
             0.2,
             "#de77ae"
            ],
            [
             0.3,
             "#f1b6da"
            ],
            [
             0.4,
             "#fde0ef"
            ],
            [
             0.5,
             "#f7f7f7"
            ],
            [
             0.6,
             "#e6f5d0"
            ],
            [
             0.7,
             "#b8e186"
            ],
            [
             0.8,
             "#7fbc41"
            ],
            [
             0.9,
             "#4d9221"
            ],
            [
             1,
             "#276419"
            ]
           ],
           "sequential": [
            [
             0,
             "#0d0887"
            ],
            [
             0.1111111111111111,
             "#46039f"
            ],
            [
             0.2222222222222222,
             "#7201a8"
            ],
            [
             0.3333333333333333,
             "#9c179e"
            ],
            [
             0.4444444444444444,
             "#bd3786"
            ],
            [
             0.5555555555555556,
             "#d8576b"
            ],
            [
             0.6666666666666666,
             "#ed7953"
            ],
            [
             0.7777777777777778,
             "#fb9f3a"
            ],
            [
             0.8888888888888888,
             "#fdca26"
            ],
            [
             1,
             "#f0f921"
            ]
           ],
           "sequentialminus": [
            [
             0,
             "#0d0887"
            ],
            [
             0.1111111111111111,
             "#46039f"
            ],
            [
             0.2222222222222222,
             "#7201a8"
            ],
            [
             0.3333333333333333,
             "#9c179e"
            ],
            [
             0.4444444444444444,
             "#bd3786"
            ],
            [
             0.5555555555555556,
             "#d8576b"
            ],
            [
             0.6666666666666666,
             "#ed7953"
            ],
            [
             0.7777777777777778,
             "#fb9f3a"
            ],
            [
             0.8888888888888888,
             "#fdca26"
            ],
            [
             1,
             "#f0f921"
            ]
           ]
          },
          "colorway": [
           "#636efa",
           "#EF553B",
           "#00cc96",
           "#ab63fa",
           "#FFA15A",
           "#19d3f3",
           "#FF6692",
           "#B6E880",
           "#FF97FF",
           "#FECB52"
          ],
          "font": {
           "color": "#2a3f5f"
          },
          "geo": {
           "bgcolor": "white",
           "lakecolor": "white",
           "landcolor": "#E5ECF6",
           "showlakes": true,
           "showland": true,
           "subunitcolor": "white"
          },
          "hoverlabel": {
           "align": "left"
          },
          "hovermode": "closest",
          "mapbox": {
           "style": "light"
          },
          "paper_bgcolor": "white",
          "plot_bgcolor": "#E5ECF6",
          "polar": {
           "angularaxis": {
            "gridcolor": "white",
            "linecolor": "white",
            "ticks": ""
           },
           "bgcolor": "#E5ECF6",
           "radialaxis": {
            "gridcolor": "white",
            "linecolor": "white",
            "ticks": ""
           }
          },
          "scene": {
           "xaxis": {
            "backgroundcolor": "#E5ECF6",
            "gridcolor": "white",
            "gridwidth": 2,
            "linecolor": "white",
            "showbackground": true,
            "ticks": "",
            "zerolinecolor": "white"
           },
           "yaxis": {
            "backgroundcolor": "#E5ECF6",
            "gridcolor": "white",
            "gridwidth": 2,
            "linecolor": "white",
            "showbackground": true,
            "ticks": "",
            "zerolinecolor": "white"
           },
           "zaxis": {
            "backgroundcolor": "#E5ECF6",
            "gridcolor": "white",
            "gridwidth": 2,
            "linecolor": "white",
            "showbackground": true,
            "ticks": "",
            "zerolinecolor": "white"
           }
          },
          "shapedefaults": {
           "line": {
            "color": "#2a3f5f"
           }
          },
          "ternary": {
           "aaxis": {
            "gridcolor": "white",
            "linecolor": "white",
            "ticks": ""
           },
           "baxis": {
            "gridcolor": "white",
            "linecolor": "white",
            "ticks": ""
           },
           "bgcolor": "#E5ECF6",
           "caxis": {
            "gridcolor": "white",
            "linecolor": "white",
            "ticks": ""
           }
          },
          "title": {
           "x": 0.05
          },
          "xaxis": {
           "automargin": true,
           "gridcolor": "white",
           "linecolor": "white",
           "ticks": "",
           "title": {
            "standoff": 15
           },
           "zerolinecolor": "white",
           "zerolinewidth": 2
          },
          "yaxis": {
           "automargin": true,
           "gridcolor": "white",
           "linecolor": "white",
           "ticks": "",
           "title": {
            "standoff": 15
           },
           "zerolinecolor": "white",
           "zerolinewidth": 2
          }
         }
        },
        "width": 700
       }
      }
     },
     "metadata": {},
     "output_type": "display_data"
    }
   ],
   "source": [
    "# gt\n",
    "aihub_3d = copy.deepcopy(test['data_label'][frame_num])\n",
    "pos = copy.deepcopy(aihub_3d)\n",
    "points_aihub_3d = {}\n",
    "for i, p in enumerate(pos):\n",
    "    #print(i, h36m_keypoints[i], p)\n",
    "    points_aihub_3d[i] = np.array([p[0], -p[2], -p[1]]) #np.array([p[0], p[1], p[2]])  #np.array([p[0], -p[2], p[1]])\n",
    "pos_vector = pos.reshape(-1) # (51,)\n",
    "total_min, total_max = pos_vector.min(), pos_vector.max()\n",
    "print(\"total min: \", total_min,\n",
    "      \"total max: \", total_max)\n",
    "fig = draw_skeleton(points_aihub_3d, h36m_connections)\n",
    "fig.show()"
   ]
  }
 ],
 "metadata": {
  "kernelspec": {
   "display_name": "motionbert",
   "language": "python",
   "name": "python3"
  },
  "language_info": {
   "codemirror_mode": {
    "name": "ipython",
    "version": 3
   },
   "file_extension": ".py",
   "mimetype": "text/x-python",
   "name": "python",
   "nbconvert_exporter": "python",
   "pygments_lexer": "ipython3",
   "version": "3.9.17"
  },
  "orig_nbformat": 4,
  "vscode": {
   "interpreter": {
    "hash": "996031ba2a0f3c1298a339c0299835a7fe1ef636d9e79358bc474ca43ed2ac18"
   }
  }
 },
 "nbformat": 4,
 "nbformat_minor": 2
}
