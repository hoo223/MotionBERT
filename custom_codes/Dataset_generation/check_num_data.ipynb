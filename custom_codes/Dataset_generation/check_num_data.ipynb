{
 "cells": [
  {
   "cell_type": "code",
   "execution_count": 1,
   "metadata": {},
   "outputs": [],
   "source": [
    "import os, pickle"
   ]
  },
  {
   "cell_type": "code",
   "execution_count": 2,
   "metadata": {},
   "outputs": [
    {
     "data": {
      "text/plain": [
       "['H36M-SH',\n",
       " 'AIHUB_30_243_small',\n",
       " 'AIHUB_SPORTS_243',\n",
       " 'AIHUB_243',\n",
       " 'AIHUB_30_cam4_243',\n",
       " 'AIHUB_30_243',\n",
       " 'AIHUB_SPORTS_cam4_243']"
      ]
     },
     "execution_count": 2,
     "metadata": {},
     "output_type": "execute_result"
    }
   ],
   "source": [
    "dataset_root = \"/home/hrai/codes/MotionBERT/data/motion3d/MB3D_f243s81\"\n",
    "os.listdir(dataset_root)"
   ]
  },
  {
   "cell_type": "code",
   "execution_count": 8,
   "metadata": {},
   "outputs": [
    {
     "name": "stdout",
     "output_type": "stream",
     "text": [
      "79947\n"
     ]
    }
   ],
   "source": [
    "dataset_name = 'AIHUB_SPORTS_cam4_243'\n",
    "data_num = 0\n",
    "root = '{}/{}/train/'.format(dataset_root, dataset_name)\n",
    "for pkl in os.listdir(root):\n",
    "    #print(pkl)\n",
    "    with open(root + pkl, 'rb') as f:\n",
    "\t    data = pickle.load(f)\n",
    "    #print(data['data_input'].shape[0])\n",
    "    data_num += data['data_input'].shape[0]\n",
    "print(data_num)"
   ]
  }
 ],
 "metadata": {
  "kernelspec": {
   "display_name": "motionbert",
   "language": "python",
   "name": "python3"
  },
  "language_info": {
   "codemirror_mode": {
    "name": "ipython",
    "version": 3
   },
   "file_extension": ".py",
   "mimetype": "text/x-python",
   "name": "python",
   "nbconvert_exporter": "python",
   "pygments_lexer": "ipython3",
   "version": "3.9.17"
  },
  "orig_nbformat": 4
 },
 "nbformat": 4,
 "nbformat_minor": 2
}
