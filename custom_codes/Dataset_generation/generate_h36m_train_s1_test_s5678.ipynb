{
 "cells": [
  {
   "cell_type": "code",
   "execution_count": 6,
   "metadata": {},
   "outputs": [
    {
     "name": "stdout",
     "output_type": "stream",
     "text": [
      "The autoreload extension is already loaded. To reload it, use:\n",
      "  %reload_ext autoreload\n"
     ]
    }
   ],
   "source": [
    "%load_ext autoreload\n",
    "%autoreload 2\n",
    "%matplotlib widget\n",
    "import os, sys\n",
    "sys.path.append('/home/hrai/codes/hpe_library/')\n",
    "from lib_import import *\n",
    "from my_utils import *\n",
    "os.chdir('/home/hrai/codes/MotionBERT')"
   ]
  },
  {
   "cell_type": "code",
   "execution_count": 7,
   "metadata": {},
   "outputs": [
    {
     "name": "stdout",
     "output_type": "stream",
     "text": [
      "==> Loading 3D data wrt World CS...\n"
     ]
    }
   ],
   "source": [
    "h36m_3d_world, h36m_cam_param = load_h36m()"
   ]
  },
  {
   "cell_type": "code",
   "execution_count": 8,
   "metadata": {},
   "outputs": [
    {
     "data": {
      "text/plain": [
       "dict_keys(['S1', 'S5', 'S6', 'S7', 'S8', 'S9', 'S11'])"
      ]
     },
     "execution_count": 8,
     "metadata": {},
     "output_type": "execute_result"
    }
   ],
   "source": [
    "h36m_3d_world._data.keys()"
   ]
  },
  {
   "cell_type": "code",
   "execution_count": 9,
   "metadata": {},
   "outputs": [
    {
     "data": {
      "text/plain": [
       "dict_keys(['Waiting 1', 'Sitting', 'Waiting 2', 'Smoking', 'WalkTogether 1', 'Discussion 2', 'Greeting 1', 'Directions 2', 'Phoning', 'Phoning 1', 'Smoking 1', 'Greeting 2', 'WalkTogether', 'Sitting 1', 'SittingDown', 'SittingDown 1', 'Discussion 3', 'Directions 1', 'Purchases', 'Walking 1', 'WalkDog 1', 'Walking', 'Eating', 'Photo 2', 'Posing', 'Posing 1', 'WalkDog', 'Photo', 'Purchases 1', 'Eating 1'])"
      ]
     },
     "execution_count": 9,
     "metadata": {},
     "output_type": "execute_result"
    }
   ],
   "source": [
    "h36m_3d_world._data['S5'].keys()"
   ]
  },
  {
   "cell_type": "code",
   "execution_count": 10,
   "metadata": {},
   "outputs": [
    {
     "data": {
      "text/plain": [
       "dict_keys(['positions', 'cameras'])"
      ]
     },
     "execution_count": 10,
     "metadata": {},
     "output_type": "execute_result"
    }
   ],
   "source": [
    "h36m_3d_world._data['S5']['Waiting 1'].keys()"
   ]
  },
  {
   "cell_type": "code",
   "execution_count": 11,
   "metadata": {},
   "outputs": [
    {
     "data": {
      "text/plain": [
       "(4517, 17, 3)"
      ]
     },
     "execution_count": 11,
     "metadata": {},
     "output_type": "execute_result"
    }
   ],
   "source": [
    "h36m_3d_world._data['S5']['Waiting 1']['positions'].shape"
   ]
  },
  {
   "cell_type": "code",
   "execution_count": 12,
   "metadata": {},
   "outputs": [],
   "source": [
    "save_folder = '/home/hrai/codes/MotionBERT/data/motion3d/h36m_train_pkl'\n",
    "if not os.path.exists(save_folder): os.makedirs(save_folder)"
   ]
  },
  {
   "cell_type": "code",
   "execution_count": 15,
   "metadata": {},
   "outputs": [
    {
     "name": "stdout",
     "output_type": "stream",
     "text": [
      "S9 Waiting 1 54138969\n"
     ]
    },
    {
     "name": "stderr",
     "output_type": "stream",
     "text": [
      "100%|██████████| 1612/1612 [00:19<00:00, 82.26it/s] \n"
     ]
    },
    {
     "name": "stdout",
     "output_type": "stream",
     "text": [
      "S9 Waiting 1 55011271\n"
     ]
    },
    {
     "name": "stderr",
     "output_type": "stream",
     "text": [
      "100%|██████████| 1612/1612 [00:21<00:00, 75.58it/s]\n"
     ]
    },
    {
     "name": "stdout",
     "output_type": "stream",
     "text": [
      "S9 Waiting 1 58860488\n"
     ]
    },
    {
     "name": "stderr",
     "output_type": "stream",
     "text": [
      "100%|██████████| 1612/1612 [00:19<00:00, 80.77it/s] \n"
     ]
    },
    {
     "name": "stdout",
     "output_type": "stream",
     "text": [
      "S9 Waiting 1 60457274\n"
     ]
    },
    {
     "name": "stderr",
     "output_type": "stream",
     "text": [
      "100%|██████████| 1612/1612 [00:12<00:00, 130.73it/s]\n"
     ]
    },
    {
     "name": "stdout",
     "output_type": "stream",
     "text": [
      "S9 Sitting 54138969\n"
     ]
    },
    {
     "name": "stderr",
     "output_type": "stream",
     "text": [
      "100%|██████████| 2962/2962 [00:39<00:00, 75.95it/s] \n"
     ]
    },
    {
     "name": "stdout",
     "output_type": "stream",
     "text": [
      "S9 Sitting 55011271\n"
     ]
    },
    {
     "name": "stderr",
     "output_type": "stream",
     "text": [
      "100%|██████████| 2962/2962 [00:45<00:00, 65.66it/s]\n"
     ]
    },
    {
     "name": "stdout",
     "output_type": "stream",
     "text": [
      "S9 Sitting 58860488\n"
     ]
    },
    {
     "name": "stderr",
     "output_type": "stream",
     "text": [
      "100%|██████████| 2962/2962 [00:37<00:00, 78.58it/s] \n"
     ]
    },
    {
     "name": "stdout",
     "output_type": "stream",
     "text": [
      "S9 Sitting 60457274\n"
     ]
    },
    {
     "name": "stderr",
     "output_type": "stream",
     "text": [
      "100%|██████████| 2962/2962 [00:26<00:00, 110.81it/s]\n"
     ]
    },
    {
     "name": "stdout",
     "output_type": "stream",
     "text": [
      "S9 Photo 1 54138969\n"
     ]
    },
    {
     "name": "stderr",
     "output_type": "stream",
     "text": [
      "100%|██████████| 1449/1449 [00:15<00:00, 92.94it/s] \n"
     ]
    },
    {
     "name": "stdout",
     "output_type": "stream",
     "text": [
      "S9 Photo 1 55011271\n"
     ]
    },
    {
     "name": "stderr",
     "output_type": "stream",
     "text": [
      "100%|██████████| 1449/1449 [00:15<00:00, 93.24it/s] \n"
     ]
    },
    {
     "name": "stdout",
     "output_type": "stream",
     "text": [
      "S9 Photo 1 58860488\n"
     ]
    },
    {
     "name": "stderr",
     "output_type": "stream",
     "text": [
      "100%|██████████| 1449/1449 [00:16<00:00, 89.93it/s] \n"
     ]
    },
    {
     "name": "stdout",
     "output_type": "stream",
     "text": [
      "S9 Photo 1 60457274\n"
     ]
    },
    {
     "name": "stderr",
     "output_type": "stream",
     "text": [
      "100%|██████████| 1449/1449 [00:09<00:00, 146.39it/s]\n"
     ]
    },
    {
     "name": "stdout",
     "output_type": "stream",
     "text": [
      "S9 Smoking 54138969\n"
     ]
    },
    {
     "name": "stderr",
     "output_type": "stream",
     "text": [
      "100%|██████████| 4334/4334 [01:00<00:00, 71.38it/s]\n"
     ]
    },
    {
     "name": "stdout",
     "output_type": "stream",
     "text": [
      "S9 Smoking 55011271\n"
     ]
    },
    {
     "name": "stderr",
     "output_type": "stream",
     "text": [
      "100%|██████████| 4334/4334 [01:01<00:00, 70.21it/s] \n"
     ]
    },
    {
     "name": "stdout",
     "output_type": "stream",
     "text": [
      "S9 Smoking 58860488\n"
     ]
    },
    {
     "name": "stderr",
     "output_type": "stream",
     "text": [
      "100%|██████████| 4334/4334 [00:58<00:00, 74.25it/s] \n"
     ]
    },
    {
     "name": "stdout",
     "output_type": "stream",
     "text": [
      "S9 Smoking 60457274\n"
     ]
    },
    {
     "name": "stderr",
     "output_type": "stream",
     "text": [
      "100%|██████████| 4334/4334 [00:34<00:00, 126.05it/s]\n"
     ]
    },
    {
     "name": "stdout",
     "output_type": "stream",
     "text": [
      "S9 WalkTogether 1 54138969\n"
     ]
    },
    {
     "name": "stderr",
     "output_type": "stream",
     "text": [
      "100%|██████████| 1685/1685 [00:16<00:00, 104.38it/s]\n"
     ]
    },
    {
     "name": "stdout",
     "output_type": "stream",
     "text": [
      "S9 WalkTogether 1 55011271\n"
     ]
    },
    {
     "name": "stderr",
     "output_type": "stream",
     "text": [
      "100%|██████████| 1685/1685 [00:22<00:00, 75.53it/s] \n"
     ]
    },
    {
     "name": "stdout",
     "output_type": "stream",
     "text": [
      "S9 WalkTogether 1 58860488\n"
     ]
    },
    {
     "name": "stderr",
     "output_type": "stream",
     "text": [
      "100%|██████████| 1685/1685 [00:18<00:00, 92.04it/s] \n"
     ]
    },
    {
     "name": "stdout",
     "output_type": "stream",
     "text": [
      "S9 WalkTogether 1 60457274\n"
     ]
    },
    {
     "name": "stderr",
     "output_type": "stream",
     "text": [
      "100%|██████████| 1685/1685 [00:14<00:00, 119.30it/s]\n"
     ]
    },
    {
     "name": "stdout",
     "output_type": "stream",
     "text": [
      "S9 Discussion 2 54138969\n"
     ]
    },
    {
     "name": "stderr",
     "output_type": "stream",
     "text": [
      "100%|██████████| 5306/5306 [00:52<00:00, 100.60it/s]\n"
     ]
    },
    {
     "name": "stdout",
     "output_type": "stream",
     "text": [
      "S9 Discussion 2 55011271\n"
     ]
    },
    {
     "name": "stderr",
     "output_type": "stream",
     "text": [
      "100%|██████████| 5306/5306 [01:13<00:00, 72.67it/s] \n"
     ]
    },
    {
     "name": "stdout",
     "output_type": "stream",
     "text": [
      "S9 Discussion 2 58860488\n"
     ]
    },
    {
     "name": "stderr",
     "output_type": "stream",
     "text": [
      "100%|██████████| 5306/5306 [01:01<00:00, 85.75it/s] \n"
     ]
    },
    {
     "name": "stdout",
     "output_type": "stream",
     "text": [
      "S9 Discussion 2 60457274\n"
     ]
    },
    {
     "name": "stderr",
     "output_type": "stream",
     "text": [
      "100%|██████████| 5306/5306 [00:48<00:00, 109.26it/s]\n"
     ]
    },
    {
     "name": "stdout",
     "output_type": "stream",
     "text": [
      "S9 Greeting 1 54138969\n"
     ]
    },
    {
     "name": "stderr",
     "output_type": "stream",
     "text": [
      "100%|██████████| 2711/2711 [00:25<00:00, 104.50it/s]\n"
     ]
    },
    {
     "name": "stdout",
     "output_type": "stream",
     "text": [
      "S9 Greeting 1 55011271\n"
     ]
    },
    {
     "name": "stderr",
     "output_type": "stream",
     "text": [
      "100%|██████████| 2711/2711 [00:32<00:00, 82.40it/s] \n"
     ]
    },
    {
     "name": "stdout",
     "output_type": "stream",
     "text": [
      "S9 Greeting 1 58860488\n"
     ]
    },
    {
     "name": "stderr",
     "output_type": "stream",
     "text": [
      "100%|██████████| 2711/2711 [00:29<00:00, 90.47it/s] \n"
     ]
    },
    {
     "name": "stdout",
     "output_type": "stream",
     "text": [
      "S9 Greeting 1 60457274\n"
     ]
    },
    {
     "name": "stderr",
     "output_type": "stream",
     "text": [
      "100%|██████████| 2711/2711 [00:22<00:00, 122.68it/s]\n"
     ]
    },
    {
     "name": "stdout",
     "output_type": "stream",
     "text": [
      "S9 Phoning 54138969\n"
     ]
    },
    {
     "name": "stderr",
     "output_type": "stream",
     "text": [
      "100%|██████████| 3319/3319 [00:44<00:00, 74.64it/s] \n"
     ]
    },
    {
     "name": "stdout",
     "output_type": "stream",
     "text": [
      "S9 Phoning 55011271\n"
     ]
    },
    {
     "name": "stderr",
     "output_type": "stream",
     "text": [
      "100%|██████████| 3319/3319 [00:45<00:00, 73.72it/s] \n"
     ]
    },
    {
     "name": "stdout",
     "output_type": "stream",
     "text": [
      "S9 Phoning 58860488\n"
     ]
    },
    {
     "name": "stderr",
     "output_type": "stream",
     "text": [
      "100%|██████████| 3319/3319 [00:42<00:00, 78.30it/s]\n"
     ]
    },
    {
     "name": "stdout",
     "output_type": "stream",
     "text": [
      "S9 Phoning 60457274\n"
     ]
    },
    {
     "name": "stderr",
     "output_type": "stream",
     "text": [
      "100%|██████████| 3319/3319 [00:28<00:00, 118.16it/s]\n"
     ]
    },
    {
     "name": "stdout",
     "output_type": "stream",
     "text": [
      "S9 Phoning 1 54138969\n"
     ]
    },
    {
     "name": "stderr",
     "output_type": "stream",
     "text": [
      "100%|██████████| 3821/3821 [00:48<00:00, 77.99it/s] \n"
     ]
    },
    {
     "name": "stdout",
     "output_type": "stream",
     "text": [
      "S9 Phoning 1 55011271\n"
     ]
    },
    {
     "name": "stderr",
     "output_type": "stream",
     "text": [
      "100%|██████████| 3821/3821 [00:48<00:00, 79.29it/s] \n"
     ]
    },
    {
     "name": "stdout",
     "output_type": "stream",
     "text": [
      "S9 Phoning 1 58860488\n"
     ]
    },
    {
     "name": "stderr",
     "output_type": "stream",
     "text": [
      "100%|██████████| 3821/3821 [00:51<00:00, 74.60it/s]\n"
     ]
    },
    {
     "name": "stdout",
     "output_type": "stream",
     "text": [
      "S9 Phoning 1 60457274\n"
     ]
    },
    {
     "name": "stderr",
     "output_type": "stream",
     "text": [
      "100%|██████████| 3821/3821 [00:30<00:00, 126.57it/s]\n"
     ]
    },
    {
     "name": "stdout",
     "output_type": "stream",
     "text": [
      "S9 Smoking 1 54138969\n"
     ]
    },
    {
     "name": "stderr",
     "output_type": "stream",
     "text": [
      "100%|██████████| 4377/4377 [00:58<00:00, 74.53it/s] \n"
     ]
    },
    {
     "name": "stdout",
     "output_type": "stream",
     "text": [
      "S9 Smoking 1 55011271\n"
     ]
    },
    {
     "name": "stderr",
     "output_type": "stream",
     "text": [
      "100%|██████████| 4377/4377 [01:00<00:00, 72.70it/s] \n"
     ]
    },
    {
     "name": "stdout",
     "output_type": "stream",
     "text": [
      "S9 Smoking 1 58860488\n"
     ]
    },
    {
     "name": "stderr",
     "output_type": "stream",
     "text": [
      "100%|██████████| 4377/4377 [00:57<00:00, 76.21it/s] \n"
     ]
    },
    {
     "name": "stdout",
     "output_type": "stream",
     "text": [
      "S9 Smoking 1 60457274\n"
     ]
    },
    {
     "name": "stderr",
     "output_type": "stream",
     "text": [
      "100%|██████████| 4377/4377 [00:35<00:00, 122.58it/s]\n"
     ]
    },
    {
     "name": "stdout",
     "output_type": "stream",
     "text": [
      "S9 Discussion 1 54138969\n"
     ]
    },
    {
     "name": "stderr",
     "output_type": "stream",
     "text": [
      "100%|██████████| 5873/5873 [00:57<00:00, 101.73it/s]\n"
     ]
    },
    {
     "name": "stdout",
     "output_type": "stream",
     "text": [
      "S9 Discussion 1 55011271\n"
     ]
    },
    {
     "name": "stderr",
     "output_type": "stream",
     "text": [
      "100%|██████████| 5873/5873 [01:18<00:00, 74.49it/s] \n"
     ]
    },
    {
     "name": "stdout",
     "output_type": "stream",
     "text": [
      "S9 Discussion 1 58860488\n"
     ]
    },
    {
     "name": "stderr",
     "output_type": "stream",
     "text": [
      "100%|██████████| 5873/5873 [01:05<00:00, 90.23it/s] \n"
     ]
    },
    {
     "name": "stdout",
     "output_type": "stream",
     "text": [
      "S9 Discussion 1 60457274\n"
     ]
    },
    {
     "name": "stderr",
     "output_type": "stream",
     "text": [
      "100%|██████████| 5873/5873 [00:53<00:00, 110.07it/s]\n"
     ]
    },
    {
     "name": "stdout",
     "output_type": "stream",
     "text": [
      "S9 WalkTogether 54138969\n"
     ]
    },
    {
     "name": "stderr",
     "output_type": "stream",
     "text": [
      "100%|██████████| 1703/1703 [00:16<00:00, 102.85it/s]\n"
     ]
    },
    {
     "name": "stdout",
     "output_type": "stream",
     "text": [
      "S9 WalkTogether 55011271\n"
     ]
    },
    {
     "name": "stderr",
     "output_type": "stream",
     "text": [
      "100%|██████████| 1703/1703 [00:23<00:00, 73.15it/s] \n"
     ]
    },
    {
     "name": "stdout",
     "output_type": "stream",
     "text": [
      "S9 WalkTogether 58860488\n"
     ]
    },
    {
     "name": "stderr",
     "output_type": "stream",
     "text": [
      "100%|██████████| 1703/1703 [00:17<00:00, 96.30it/s] \n"
     ]
    },
    {
     "name": "stdout",
     "output_type": "stream",
     "text": [
      "S9 WalkTogether 60457274\n"
     ]
    },
    {
     "name": "stderr",
     "output_type": "stream",
     "text": [
      "100%|██████████| 1703/1703 [00:14<00:00, 118.33it/s]\n"
     ]
    },
    {
     "name": "stdout",
     "output_type": "stream",
     "text": [
      "S9 Sitting 1 54138969\n"
     ]
    },
    {
     "name": "stderr",
     "output_type": "stream",
     "text": [
      "100%|██████████| 3071/3071 [00:37<00:00, 81.71it/s] \n"
     ]
    },
    {
     "name": "stdout",
     "output_type": "stream",
     "text": [
      "S9 Sitting 1 55011271\n"
     ]
    },
    {
     "name": "stderr",
     "output_type": "stream",
     "text": [
      "100%|██████████| 3071/3071 [00:45<00:00, 67.37it/s]\n"
     ]
    },
    {
     "name": "stdout",
     "output_type": "stream",
     "text": [
      "S9 Sitting 1 58860488\n"
     ]
    },
    {
     "name": "stderr",
     "output_type": "stream",
     "text": [
      "100%|██████████| 3071/3071 [00:38<00:00, 79.22it/s] \n"
     ]
    },
    {
     "name": "stdout",
     "output_type": "stream",
     "text": [
      "S9 Sitting 1 60457274\n"
     ]
    },
    {
     "name": "stderr",
     "output_type": "stream",
     "text": [
      "100%|██████████| 3071/3071 [00:26<00:00, 114.61it/s]\n"
     ]
    },
    {
     "name": "stdout",
     "output_type": "stream",
     "text": [
      "S9 SittingDown 54138969\n"
     ]
    },
    {
     "name": "stderr",
     "output_type": "stream",
     "text": [
      "100%|██████████| 2932/2932 [00:44<00:00, 66.61it/s]\n"
     ]
    },
    {
     "name": "stdout",
     "output_type": "stream",
     "text": [
      "S9 SittingDown 55011271\n"
     ]
    },
    {
     "name": "stderr",
     "output_type": "stream",
     "text": [
      "100%|██████████| 2932/2932 [00:39<00:00, 74.79it/s]\n"
     ]
    },
    {
     "name": "stdout",
     "output_type": "stream",
     "text": [
      "S9 SittingDown 58860488\n"
     ]
    },
    {
     "name": "stderr",
     "output_type": "stream",
     "text": [
      "100%|██████████| 2932/2932 [00:45<00:00, 64.25it/s]\n"
     ]
    },
    {
     "name": "stdout",
     "output_type": "stream",
     "text": [
      "S9 SittingDown 60457274\n"
     ]
    },
    {
     "name": "stderr",
     "output_type": "stream",
     "text": [
      "100%|██████████| 2932/2932 [00:26<00:00, 112.75it/s]\n"
     ]
    },
    {
     "name": "stdout",
     "output_type": "stream",
     "text": [
      "S9 Directions 54138969\n"
     ]
    },
    {
     "name": "stderr",
     "output_type": "stream",
     "text": [
      "100%|██████████| 2699/2699 [00:27<00:00, 98.09it/s] \n"
     ]
    },
    {
     "name": "stdout",
     "output_type": "stream",
     "text": [
      "S9 Directions 55011271\n"
     ]
    },
    {
     "name": "stderr",
     "output_type": "stream",
     "text": [
      "100%|██████████| 2699/2699 [00:32<00:00, 82.52it/s] \n"
     ]
    },
    {
     "name": "stdout",
     "output_type": "stream",
     "text": [
      "S9 Directions 58860488\n"
     ]
    },
    {
     "name": "stderr",
     "output_type": "stream",
     "text": [
      "100%|██████████| 2699/2699 [00:29<00:00, 92.05it/s] \n"
     ]
    },
    {
     "name": "stdout",
     "output_type": "stream",
     "text": [
      "S9 Directions 60457274\n"
     ]
    },
    {
     "name": "stderr",
     "output_type": "stream",
     "text": [
      "100%|██████████| 2699/2699 [00:19<00:00, 136.82it/s]\n"
     ]
    },
    {
     "name": "stdout",
     "output_type": "stream",
     "text": [
      "S9 SittingDown 1 54138969\n"
     ]
    },
    {
     "name": "stderr",
     "output_type": "stream",
     "text": [
      "100%|██████████| 1554/1554 [00:24<00:00, 62.96it/s]\n"
     ]
    },
    {
     "name": "stdout",
     "output_type": "stream",
     "text": [
      "S9 SittingDown 1 55011271\n"
     ]
    },
    {
     "name": "stderr",
     "output_type": "stream",
     "text": [
      "100%|██████████| 1554/1554 [00:20<00:00, 76.47it/s]\n"
     ]
    },
    {
     "name": "stdout",
     "output_type": "stream",
     "text": [
      "S9 SittingDown 1 58860488\n"
     ]
    },
    {
     "name": "stderr",
     "output_type": "stream",
     "text": [
      "100%|██████████| 1554/1554 [00:27<00:00, 56.73it/s]\n"
     ]
    },
    {
     "name": "stdout",
     "output_type": "stream",
     "text": [
      "S9 SittingDown 1 60457274\n"
     ]
    },
    {
     "name": "stderr",
     "output_type": "stream",
     "text": [
      "100%|██████████| 1554/1554 [00:13<00:00, 118.75it/s]\n"
     ]
    },
    {
     "name": "stdout",
     "output_type": "stream",
     "text": [
      "S9 Directions 1 54138969\n"
     ]
    },
    {
     "name": "stderr",
     "output_type": "stream",
     "text": [
      "100%|██████████| 2356/2356 [00:24<00:00, 96.95it/s] \n"
     ]
    },
    {
     "name": "stdout",
     "output_type": "stream",
     "text": [
      "S9 Directions 1 55011271\n"
     ]
    },
    {
     "name": "stderr",
     "output_type": "stream",
     "text": [
      "100%|██████████| 2356/2356 [00:26<00:00, 89.36it/s] \n"
     ]
    },
    {
     "name": "stdout",
     "output_type": "stream",
     "text": [
      "S9 Directions 1 58860488\n"
     ]
    },
    {
     "name": "stderr",
     "output_type": "stream",
     "text": [
      "100%|██████████| 2356/2356 [00:26<00:00, 89.87it/s] \n"
     ]
    },
    {
     "name": "stdout",
     "output_type": "stream",
     "text": [
      "S9 Directions 1 60457274\n"
     ]
    },
    {
     "name": "stderr",
     "output_type": "stream",
     "text": [
      "100%|██████████| 2356/2356 [00:16<00:00, 143.62it/s]\n"
     ]
    },
    {
     "name": "stdout",
     "output_type": "stream",
     "text": [
      "S9 Purchases 54138969\n"
     ]
    },
    {
     "name": "stderr",
     "output_type": "stream",
     "text": [
      "100%|██████████| 1529/1529 [00:14<00:00, 106.58it/s]\n"
     ]
    },
    {
     "name": "stdout",
     "output_type": "stream",
     "text": [
      "S9 Purchases 55011271\n"
     ]
    },
    {
     "name": "stderr",
     "output_type": "stream",
     "text": [
      "100%|██████████| 1529/1529 [00:19<00:00, 76.97it/s]\n"
     ]
    },
    {
     "name": "stdout",
     "output_type": "stream",
     "text": [
      "S9 Purchases 58860488\n"
     ]
    },
    {
     "name": "stderr",
     "output_type": "stream",
     "text": [
      "100%|██████████| 1529/1529 [00:14<00:00, 103.59it/s]\n"
     ]
    },
    {
     "name": "stdout",
     "output_type": "stream",
     "text": [
      "S9 Purchases 60457274\n"
     ]
    },
    {
     "name": "stderr",
     "output_type": "stream",
     "text": [
      "100%|██████████| 1529/1529 [00:13<00:00, 116.90it/s]\n"
     ]
    },
    {
     "name": "stdout",
     "output_type": "stream",
     "text": [
      "S9 Walking 1 54138969\n"
     ]
    },
    {
     "name": "stderr",
     "output_type": "stream",
     "text": [
      "100%|██████████| 2446/2446 [00:26<00:00, 91.61it/s] \n"
     ]
    },
    {
     "name": "stdout",
     "output_type": "stream",
     "text": [
      "S9 Walking 1 55011271\n"
     ]
    },
    {
     "name": "stderr",
     "output_type": "stream",
     "text": [
      "100%|██████████| 2446/2446 [00:32<00:00, 74.33it/s] \n"
     ]
    },
    {
     "name": "stdout",
     "output_type": "stream",
     "text": [
      "S9 Walking 1 58860488\n"
     ]
    },
    {
     "name": "stderr",
     "output_type": "stream",
     "text": [
      "100%|██████████| 2446/2446 [00:27<00:00, 87.84it/s] \n"
     ]
    },
    {
     "name": "stdout",
     "output_type": "stream",
     "text": [
      "S9 Walking 1 60457274\n"
     ]
    },
    {
     "name": "stderr",
     "output_type": "stream",
     "text": [
      "100%|██████████| 2446/2446 [00:20<00:00, 118.46it/s]\n"
     ]
    },
    {
     "name": "stdout",
     "output_type": "stream",
     "text": [
      "S9 WalkDog 1 54138969\n"
     ]
    },
    {
     "name": "stderr",
     "output_type": "stream",
     "text": [
      "100%|██████████| 2217/2217 [00:22<00:00, 98.97it/s] \n"
     ]
    },
    {
     "name": "stdout",
     "output_type": "stream",
     "text": [
      "S9 WalkDog 1 55011271\n"
     ]
    },
    {
     "name": "stderr",
     "output_type": "stream",
     "text": [
      "100%|██████████| 2217/2217 [00:32<00:00, 68.36it/s]\n"
     ]
    },
    {
     "name": "stdout",
     "output_type": "stream",
     "text": [
      "S9 WalkDog 1 58860488\n"
     ]
    },
    {
     "name": "stderr",
     "output_type": "stream",
     "text": [
      "100%|██████████| 2217/2217 [00:22<00:00, 96.65it/s] \n"
     ]
    },
    {
     "name": "stdout",
     "output_type": "stream",
     "text": [
      "S9 WalkDog 1 60457274\n"
     ]
    },
    {
     "name": "stderr",
     "output_type": "stream",
     "text": [
      "100%|██████████| 2217/2217 [00:20<00:00, 110.18it/s]\n"
     ]
    },
    {
     "name": "stdout",
     "output_type": "stream",
     "text": [
      "S9 Waiting 54138969\n"
     ]
    },
    {
     "name": "stderr",
     "output_type": "stream",
     "text": [
      "100%|██████████| 3312/3312 [00:36<00:00, 90.00it/s] \n"
     ]
    },
    {
     "name": "stdout",
     "output_type": "stream",
     "text": [
      "S9 Waiting 55011271\n"
     ]
    },
    {
     "name": "stderr",
     "output_type": "stream",
     "text": [
      "100%|██████████| 3312/3312 [00:47<00:00, 70.10it/s] \n"
     ]
    },
    {
     "name": "stdout",
     "output_type": "stream",
     "text": [
      "S9 Waiting 58860488\n"
     ]
    },
    {
     "name": "stderr",
     "output_type": "stream",
     "text": [
      "100%|██████████| 3312/3312 [00:38<00:00, 84.98it/s] \n"
     ]
    },
    {
     "name": "stdout",
     "output_type": "stream",
     "text": [
      "S9 Waiting 60457274\n"
     ]
    },
    {
     "name": "stderr",
     "output_type": "stream",
     "text": [
      "100%|██████████| 3312/3312 [00:29<00:00, 111.86it/s]\n"
     ]
    },
    {
     "name": "stdout",
     "output_type": "stream",
     "text": [
      "S9 Walking 54138969\n"
     ]
    },
    {
     "name": "stderr",
     "output_type": "stream",
     "text": [
      "100%|██████████| 1612/1612 [00:17<00:00, 92.75it/s] \n"
     ]
    },
    {
     "name": "stdout",
     "output_type": "stream",
     "text": [
      "S9 Walking 55011271\n"
     ]
    },
    {
     "name": "stderr",
     "output_type": "stream",
     "text": [
      "100%|██████████| 1612/1612 [00:21<00:00, 75.12it/s] \n"
     ]
    },
    {
     "name": "stdout",
     "output_type": "stream",
     "text": [
      "S9 Walking 58860488\n"
     ]
    },
    {
     "name": "stderr",
     "output_type": "stream",
     "text": [
      "100%|██████████| 1612/1612 [00:20<00:00, 80.53it/s] \n"
     ]
    },
    {
     "name": "stdout",
     "output_type": "stream",
     "text": [
      "S9 Walking 60457274\n"
     ]
    },
    {
     "name": "stderr",
     "output_type": "stream",
     "text": [
      "100%|██████████| 1612/1612 [00:14<00:00, 108.54it/s]\n"
     ]
    },
    {
     "name": "stdout",
     "output_type": "stream",
     "text": [
      "S9 Eating 54138969\n"
     ]
    },
    {
     "name": "stderr",
     "output_type": "stream",
     "text": [
      "100%|██████████| 2686/2686 [00:32<00:00, 82.22it/s] \n"
     ]
    },
    {
     "name": "stdout",
     "output_type": "stream",
     "text": [
      "S9 Eating 55011271\n"
     ]
    },
    {
     "name": "stderr",
     "output_type": "stream",
     "text": [
      "100%|██████████| 2686/2686 [00:36<00:00, 73.93it/s] \n"
     ]
    },
    {
     "name": "stdout",
     "output_type": "stream",
     "text": [
      "S9 Eating 58860488\n"
     ]
    },
    {
     "name": "stderr",
     "output_type": "stream",
     "text": [
      "100%|██████████| 2686/2686 [00:35<00:00, 76.22it/s] \n"
     ]
    },
    {
     "name": "stdout",
     "output_type": "stream",
     "text": [
      "S9 Eating 60457274\n"
     ]
    },
    {
     "name": "stderr",
     "output_type": "stream",
     "text": [
      "100%|██████████| 2686/2686 [00:22<00:00, 117.91it/s]\n"
     ]
    },
    {
     "name": "stdout",
     "output_type": "stream",
     "text": [
      "S9 Posing 54138969\n"
     ]
    },
    {
     "name": "stderr",
     "output_type": "stream",
     "text": [
      "100%|██████████| 1964/1964 [00:23<00:00, 85.24it/s] \n"
     ]
    },
    {
     "name": "stdout",
     "output_type": "stream",
     "text": [
      "S9 Posing 55011271\n"
     ]
    },
    {
     "name": "stderr",
     "output_type": "stream",
     "text": [
      "100%|██████████| 1964/1964 [00:24<00:00, 81.43it/s]\n"
     ]
    },
    {
     "name": "stdout",
     "output_type": "stream",
     "text": [
      "S9 Posing 58860488\n"
     ]
    },
    {
     "name": "stderr",
     "output_type": "stream",
     "text": [
      "100%|██████████| 1964/1964 [00:22<00:00, 87.70it/s] \n"
     ]
    },
    {
     "name": "stdout",
     "output_type": "stream",
     "text": [
      "S9 Posing 60457274\n"
     ]
    },
    {
     "name": "stderr",
     "output_type": "stream",
     "text": [
      "100%|██████████| 1964/1964 [00:15<00:00, 129.27it/s]\n"
     ]
    },
    {
     "name": "stdout",
     "output_type": "stream",
     "text": [
      "S9 Greeting 54138969\n"
     ]
    },
    {
     "name": "stderr",
     "output_type": "stream",
     "text": [
      "100%|██████████| 1447/1447 [00:15<00:00, 91.98it/s] \n"
     ]
    },
    {
     "name": "stdout",
     "output_type": "stream",
     "text": [
      "S9 Greeting 55011271\n"
     ]
    },
    {
     "name": "stderr",
     "output_type": "stream",
     "text": [
      "100%|██████████| 1447/1447 [00:16<00:00, 85.47it/s] \n"
     ]
    },
    {
     "name": "stdout",
     "output_type": "stream",
     "text": [
      "S9 Greeting 58860488\n"
     ]
    },
    {
     "name": "stderr",
     "output_type": "stream",
     "text": [
      "100%|██████████| 1447/1447 [00:17<00:00, 82.95it/s] \n"
     ]
    },
    {
     "name": "stdout",
     "output_type": "stream",
     "text": [
      "S9 Greeting 60457274\n"
     ]
    },
    {
     "name": "stderr",
     "output_type": "stream",
     "text": [
      "100%|██████████| 1447/1447 [00:10<00:00, 135.52it/s]\n"
     ]
    },
    {
     "name": "stdout",
     "output_type": "stream",
     "text": [
      "S9 Posing 1 54138969\n"
     ]
    },
    {
     "name": "stderr",
     "output_type": "stream",
     "text": [
      "100%|██████████| 1968/1968 [00:21<00:00, 90.27it/s] \n"
     ]
    },
    {
     "name": "stdout",
     "output_type": "stream",
     "text": [
      "S9 Posing 1 55011271\n"
     ]
    },
    {
     "name": "stderr",
     "output_type": "stream",
     "text": [
      "100%|██████████| 1968/1968 [00:23<00:00, 84.05it/s] \n"
     ]
    },
    {
     "name": "stdout",
     "output_type": "stream",
     "text": [
      "S9 Posing 1 58860488\n"
     ]
    },
    {
     "name": "stderr",
     "output_type": "stream",
     "text": [
      "100%|██████████| 1968/1968 [00:23<00:00, 82.84it/s] \n"
     ]
    },
    {
     "name": "stdout",
     "output_type": "stream",
     "text": [
      "S9 Posing 1 60457274\n"
     ]
    },
    {
     "name": "stderr",
     "output_type": "stream",
     "text": [
      "100%|██████████| 1968/1968 [00:14<00:00, 137.71it/s]\n"
     ]
    },
    {
     "name": "stdout",
     "output_type": "stream",
     "text": [
      "S9 WalkDog 54138969\n"
     ]
    },
    {
     "name": "stderr",
     "output_type": "stream",
     "text": [
      "100%|██████████| 2237/2237 [00:24<00:00, 93.01it/s] \n"
     ]
    },
    {
     "name": "stdout",
     "output_type": "stream",
     "text": [
      "S9 WalkDog 55011271\n"
     ]
    },
    {
     "name": "stderr",
     "output_type": "stream",
     "text": [
      "100%|██████████| 2237/2237 [00:31<00:00, 70.70it/s]\n"
     ]
    },
    {
     "name": "stdout",
     "output_type": "stream",
     "text": [
      "S9 WalkDog 58860488\n"
     ]
    },
    {
     "name": "stderr",
     "output_type": "stream",
     "text": [
      "100%|██████████| 2237/2237 [00:22<00:00, 101.01it/s]\n"
     ]
    },
    {
     "name": "stdout",
     "output_type": "stream",
     "text": [
      "S9 WalkDog 60457274\n"
     ]
    },
    {
     "name": "stderr",
     "output_type": "stream",
     "text": [
      "100%|██████████| 2237/2237 [00:20<00:00, 109.05it/s]\n"
     ]
    },
    {
     "name": "stdout",
     "output_type": "stream",
     "text": [
      "S9 Photo 54138969\n"
     ]
    },
    {
     "name": "stderr",
     "output_type": "stream",
     "text": [
      "100%|██████████| 2346/2346 [00:21<00:00, 107.17it/s]\n"
     ]
    },
    {
     "name": "stdout",
     "output_type": "stream",
     "text": [
      "S9 Photo 55011271\n"
     ]
    },
    {
     "name": "stderr",
     "output_type": "stream",
     "text": [
      "100%|██████████| 2346/2346 [00:23<00:00, 100.19it/s]\n"
     ]
    },
    {
     "name": "stdout",
     "output_type": "stream",
     "text": [
      "S9 Photo 58860488\n"
     ]
    },
    {
     "name": "stderr",
     "output_type": "stream",
     "text": [
      "100%|██████████| 2346/2346 [00:25<00:00, 92.26it/s] \n"
     ]
    },
    {
     "name": "stdout",
     "output_type": "stream",
     "text": [
      "S9 Photo 60457274\n"
     ]
    },
    {
     "name": "stderr",
     "output_type": "stream",
     "text": [
      "100%|██████████| 2346/2346 [00:16<00:00, 146.49it/s]\n"
     ]
    },
    {
     "name": "stdout",
     "output_type": "stream",
     "text": [
      "S9 Purchases 1 54138969\n"
     ]
    },
    {
     "name": "stderr",
     "output_type": "stream",
     "text": [
      "100%|██████████| 1226/1226 [00:13<00:00, 94.21it/s]\n"
     ]
    },
    {
     "name": "stdout",
     "output_type": "stream",
     "text": [
      "S9 Purchases 1 55011271\n"
     ]
    },
    {
     "name": "stderr",
     "output_type": "stream",
     "text": [
      "100%|██████████| 1226/1226 [00:14<00:00, 86.23it/s] \n"
     ]
    },
    {
     "name": "stdout",
     "output_type": "stream",
     "text": [
      "S9 Purchases 1 58860488\n"
     ]
    },
    {
     "name": "stderr",
     "output_type": "stream",
     "text": [
      "100%|██████████| 1226/1226 [00:13<00:00, 91.43it/s]\n"
     ]
    },
    {
     "name": "stdout",
     "output_type": "stream",
     "text": [
      "S9 Purchases 1 60457274\n"
     ]
    },
    {
     "name": "stderr",
     "output_type": "stream",
     "text": [
      "100%|██████████| 1226/1226 [00:08<00:00, 138.29it/s]\n"
     ]
    },
    {
     "name": "stdout",
     "output_type": "stream",
     "text": [
      "S9 Eating 1 54138969\n"
     ]
    },
    {
     "name": "stderr",
     "output_type": "stream",
     "text": [
      "100%|██████████| 2663/2663 [00:30<00:00, 86.88it/s] \n"
     ]
    },
    {
     "name": "stdout",
     "output_type": "stream",
     "text": [
      "S9 Eating 1 55011271\n"
     ]
    },
    {
     "name": "stderr",
     "output_type": "stream",
     "text": [
      "100%|██████████| 2663/2663 [00:38<00:00, 69.63it/s] \n"
     ]
    },
    {
     "name": "stdout",
     "output_type": "stream",
     "text": [
      "S9 Eating 1 58860488\n"
     ]
    },
    {
     "name": "stderr",
     "output_type": "stream",
     "text": [
      "100%|██████████| 2663/2663 [00:32<00:00, 81.49it/s] \n"
     ]
    },
    {
     "name": "stdout",
     "output_type": "stream",
     "text": [
      "S9 Eating 1 60457274\n"
     ]
    },
    {
     "name": "stderr",
     "output_type": "stream",
     "text": [
      "100%|██████████| 2663/2663 [00:24<00:00, 108.09it/s]\n"
     ]
    },
    {
     "name": "stdout",
     "output_type": "stream",
     "text": [
      "S11 Waiting 1 54138969\n"
     ]
    },
    {
     "name": "stderr",
     "output_type": "stream",
     "text": [
      "100%|██████████| 2280/2280 [00:27<00:00, 83.03it/s]\n"
     ]
    },
    {
     "name": "stdout",
     "output_type": "stream",
     "text": [
      "S11 Waiting 1 55011271\n"
     ]
    },
    {
     "name": "stderr",
     "output_type": "stream",
     "text": [
      "100%|██████████| 2280/2280 [00:26<00:00, 87.32it/s] \n"
     ]
    },
    {
     "name": "stdout",
     "output_type": "stream",
     "text": [
      "S11 Waiting 1 58860488\n"
     ]
    },
    {
     "name": "stderr",
     "output_type": "stream",
     "text": [
      "100%|██████████| 2280/2280 [00:26<00:00, 85.66it/s] \n"
     ]
    },
    {
     "name": "stdout",
     "output_type": "stream",
     "text": [
      "S11 Waiting 1 60457274\n"
     ]
    },
    {
     "name": "stderr",
     "output_type": "stream",
     "text": [
      "100%|██████████| 2280/2280 [00:17<00:00, 127.39it/s]\n"
     ]
    },
    {
     "name": "stdout",
     "output_type": "stream",
     "text": [
      "S11 Smoking 2 54138969\n"
     ]
    },
    {
     "name": "stderr",
     "output_type": "stream",
     "text": [
      "100%|██████████| 2767/2767 [00:42<00:00, 65.82it/s]\n"
     ]
    },
    {
     "name": "stdout",
     "output_type": "stream",
     "text": [
      "S11 Smoking 2 55011271\n"
     ]
    },
    {
     "name": "stderr",
     "output_type": "stream",
     "text": [
      "100%|██████████| 2767/2767 [00:39<00:00, 70.61it/s]\n"
     ]
    },
    {
     "name": "stdout",
     "output_type": "stream",
     "text": [
      "S11 Smoking 2 58860488\n"
     ]
    },
    {
     "name": "stderr",
     "output_type": "stream",
     "text": [
      "100%|██████████| 2767/2767 [00:42<00:00, 65.19it/s] \n"
     ]
    },
    {
     "name": "stdout",
     "output_type": "stream",
     "text": [
      "S11 Smoking 2 60457274\n"
     ]
    },
    {
     "name": "stderr",
     "output_type": "stream",
     "text": [
      "100%|██████████| 2767/2767 [00:23<00:00, 116.74it/s]\n"
     ]
    },
    {
     "name": "stdout",
     "output_type": "stream",
     "text": [
      "S11 Sitting 54138969\n"
     ]
    },
    {
     "name": "stderr",
     "output_type": "stream",
     "text": [
      "100%|██████████| 2179/2179 [00:31<00:00, 69.19it/s] \n"
     ]
    },
    {
     "name": "stdout",
     "output_type": "stream",
     "text": [
      "S11 Sitting 55011271\n"
     ]
    },
    {
     "name": "stderr",
     "output_type": "stream",
     "text": [
      "100%|██████████| 2179/2179 [00:25<00:00, 84.97it/s] \n"
     ]
    },
    {
     "name": "stdout",
     "output_type": "stream",
     "text": [
      "S11 Sitting 58860488\n"
     ]
    },
    {
     "name": "stderr",
     "output_type": "stream",
     "text": [
      "100%|██████████| 2179/2179 [00:32<00:00, 67.07it/s]\n"
     ]
    },
    {
     "name": "stdout",
     "output_type": "stream",
     "text": [
      "S11 Sitting 60457274\n"
     ]
    },
    {
     "name": "stderr",
     "output_type": "stream",
     "text": [
      "100%|██████████| 2179/2179 [00:17<00:00, 125.69it/s]\n"
     ]
    },
    {
     "name": "stdout",
     "output_type": "stream",
     "text": [
      "S11 Photo 1 54138969\n"
     ]
    },
    {
     "name": "stderr",
     "output_type": "stream",
     "text": [
      "100%|██████████| 1545/1545 [00:15<00:00, 101.32it/s]\n"
     ]
    },
    {
     "name": "stdout",
     "output_type": "stream",
     "text": [
      "S11 Photo 1 55011271\n"
     ]
    },
    {
     "name": "stderr",
     "output_type": "stream",
     "text": [
      "100%|██████████| 1545/1545 [00:16<00:00, 91.06it/s]\n"
     ]
    },
    {
     "name": "stdout",
     "output_type": "stream",
     "text": [
      "S11 Photo 1 58860488\n"
     ]
    },
    {
     "name": "stderr",
     "output_type": "stream",
     "text": [
      "100%|██████████| 1545/1545 [00:17<00:00, 88.10it/s] \n"
     ]
    },
    {
     "name": "stdout",
     "output_type": "stream",
     "text": [
      "S11 Photo 1 60457274\n"
     ]
    },
    {
     "name": "stderr",
     "output_type": "stream",
     "text": [
      "100%|██████████| 1545/1545 [00:11<00:00, 130.65it/s]\n"
     ]
    },
    {
     "name": "stdout",
     "output_type": "stream",
     "text": [
      "S11 Smoking 54138969\n"
     ]
    },
    {
     "name": "stderr",
     "output_type": "stream",
     "text": [
      "100%|██████████| 2410/2410 [00:32<00:00, 73.09it/s]\n"
     ]
    },
    {
     "name": "stdout",
     "output_type": "stream",
     "text": [
      "S11 Smoking 55011271\n"
     ]
    },
    {
     "name": "stderr",
     "output_type": "stream",
     "text": [
      "100%|██████████| 2410/2410 [00:30<00:00, 80.11it/s] \n"
     ]
    },
    {
     "name": "stdout",
     "output_type": "stream",
     "text": [
      "S11 Smoking 58860488\n"
     ]
    },
    {
     "name": "stderr",
     "output_type": "stream",
     "text": [
      "100%|██████████| 2410/2410 [00:32<00:00, 73.39it/s]\n"
     ]
    },
    {
     "name": "stdout",
     "output_type": "stream",
     "text": [
      "S11 Smoking 60457274\n"
     ]
    },
    {
     "name": "stderr",
     "output_type": "stream",
     "text": [
      "100%|██████████| 2410/2410 [00:18<00:00, 127.17it/s]\n"
     ]
    },
    {
     "name": "stdout",
     "output_type": "stream",
     "text": [
      "S11 WalkTogether 1 54138969\n"
     ]
    },
    {
     "name": "stderr",
     "output_type": "stream",
     "text": [
      "100%|██████████| 1793/1793 [00:18<00:00, 97.46it/s] \n"
     ]
    },
    {
     "name": "stdout",
     "output_type": "stream",
     "text": [
      "S11 WalkTogether 1 55011271\n"
     ]
    },
    {
     "name": "stderr",
     "output_type": "stream",
     "text": [
      "100%|██████████| 1793/1793 [00:22<00:00, 80.14it/s] \n"
     ]
    },
    {
     "name": "stdout",
     "output_type": "stream",
     "text": [
      "S11 WalkTogether 1 58860488\n"
     ]
    },
    {
     "name": "stderr",
     "output_type": "stream",
     "text": [
      "100%|██████████| 1793/1793 [00:19<00:00, 93.59it/s] \n"
     ]
    },
    {
     "name": "stdout",
     "output_type": "stream",
     "text": [
      "S11 WalkTogether 1 60457274\n"
     ]
    },
    {
     "name": "stderr",
     "output_type": "stream",
     "text": [
      "100%|██████████| 1793/1793 [00:15<00:00, 117.92it/s]\n"
     ]
    },
    {
     "name": "stdout",
     "output_type": "stream",
     "text": [
      "S11 Discussion 2 54138969\n"
     ]
    },
    {
     "name": "stderr",
     "output_type": "stream",
     "text": [
      "100%|██████████| 2198/2198 [00:26<00:00, 82.59it/s] \n"
     ]
    },
    {
     "name": "stdout",
     "output_type": "stream",
     "text": [
      "S11 Discussion 2 55011271\n"
     ]
    },
    {
     "name": "stderr",
     "output_type": "stream",
     "text": [
      "100%|██████████| 2198/2198 [00:25<00:00, 86.13it/s] \n"
     ]
    },
    {
     "name": "stdout",
     "output_type": "stream",
     "text": [
      "S11 Discussion 2 58860488\n"
     ]
    },
    {
     "name": "stderr",
     "output_type": "stream",
     "text": [
      "100%|██████████| 2198/2198 [00:25<00:00, 87.27it/s] \n"
     ]
    },
    {
     "name": "stdout",
     "output_type": "stream",
     "text": [
      "S11 Discussion 2 60457274\n"
     ]
    },
    {
     "name": "stderr",
     "output_type": "stream",
     "text": [
      "100%|██████████| 2198/2198 [00:16<00:00, 133.87it/s]\n"
     ]
    },
    {
     "name": "stdout",
     "output_type": "stream",
     "text": [
      "S11 Phoning 2 54138969\n"
     ]
    },
    {
     "name": "stderr",
     "output_type": "stream",
     "text": [
      "100%|██████████| 3492/3492 [00:45<00:00, 76.38it/s] \n"
     ]
    },
    {
     "name": "stdout",
     "output_type": "stream",
     "text": [
      "S11 Phoning 2 55011271\n"
     ]
    },
    {
     "name": "stderr",
     "output_type": "stream",
     "text": [
      "100%|██████████| 3492/3492 [00:45<00:00, 76.83it/s] \n"
     ]
    },
    {
     "name": "stdout",
     "output_type": "stream",
     "text": [
      "S11 Phoning 2 58860488\n"
     ]
    },
    {
     "name": "stderr",
     "output_type": "stream",
     "text": [
      "100%|██████████| 3492/3492 [00:49<00:00, 70.08it/s] \n"
     ]
    },
    {
     "name": "stdout",
     "output_type": "stream",
     "text": [
      "S11 Phoning 2 60457274\n"
     ]
    },
    {
     "name": "stderr",
     "output_type": "stream",
     "text": [
      "100%|██████████| 3492/3492 [00:30<00:00, 116.16it/s]\n"
     ]
    },
    {
     "name": "stdout",
     "output_type": "stream",
     "text": [
      "S11 Discussion 1 54138969\n"
     ]
    },
    {
     "name": "stderr",
     "output_type": "stream",
     "text": [
      "100%|██████████| 2684/2684 [00:30<00:00, 87.81it/s] \n"
     ]
    },
    {
     "name": "stdout",
     "output_type": "stream",
     "text": [
      "S11 Discussion 1 55011271\n"
     ]
    },
    {
     "name": "stderr",
     "output_type": "stream",
     "text": [
      "100%|██████████| 2684/2684 [00:33<00:00, 80.25it/s] \n"
     ]
    },
    {
     "name": "stdout",
     "output_type": "stream",
     "text": [
      "S11 Discussion 1 58860488\n"
     ]
    },
    {
     "name": "stderr",
     "output_type": "stream",
     "text": [
      "100%|██████████| 2684/2684 [00:31<00:00, 85.22it/s] \n"
     ]
    },
    {
     "name": "stdout",
     "output_type": "stream",
     "text": [
      "S11 Discussion 1 60457274\n"
     ]
    },
    {
     "name": "stderr",
     "output_type": "stream",
     "text": [
      "100%|██████████| 2684/2684 [00:20<00:00, 132.29it/s]\n"
     ]
    },
    {
     "name": "stdout",
     "output_type": "stream",
     "text": [
      "S11 Greeting 2 54138969\n"
     ]
    },
    {
     "name": "stderr",
     "output_type": "stream",
     "text": [
      "100%|██████████| 1695/1695 [00:18<00:00, 93.45it/s] \n"
     ]
    },
    {
     "name": "stdout",
     "output_type": "stream",
     "text": [
      "S11 Greeting 2 55011271\n"
     ]
    },
    {
     "name": "stderr",
     "output_type": "stream",
     "text": [
      "100%|██████████| 1695/1695 [00:16<00:00, 100.87it/s]\n"
     ]
    },
    {
     "name": "stdout",
     "output_type": "stream",
     "text": [
      "S11 Greeting 2 58860488\n"
     ]
    },
    {
     "name": "stderr",
     "output_type": "stream",
     "text": [
      "100%|██████████| 1695/1695 [00:17<00:00, 96.01it/s] \n"
     ]
    },
    {
     "name": "stdout",
     "output_type": "stream",
     "text": [
      "S11 Greeting 2 60457274\n"
     ]
    },
    {
     "name": "stderr",
     "output_type": "stream",
     "text": [
      "100%|██████████| 1695/1695 [00:10<00:00, 163.72it/s]\n"
     ]
    },
    {
     "name": "stdout",
     "output_type": "stream",
     "text": [
      "S11 WalkTogether 54138969\n"
     ]
    },
    {
     "name": "stderr",
     "output_type": "stream",
     "text": [
      "100%|██████████| 1360/1360 [00:15<00:00, 88.58it/s] \n"
     ]
    },
    {
     "name": "stdout",
     "output_type": "stream",
     "text": [
      "S11 WalkTogether 55011271\n"
     ]
    },
    {
     "name": "stderr",
     "output_type": "stream",
     "text": [
      "100%|██████████| 1360/1360 [00:16<00:00, 82.89it/s] \n"
     ]
    },
    {
     "name": "stdout",
     "output_type": "stream",
     "text": [
      "S11 WalkTogether 58860488\n"
     ]
    },
    {
     "name": "stderr",
     "output_type": "stream",
     "text": [
      "100%|██████████| 1360/1360 [00:15<00:00, 87.76it/s] \n"
     ]
    },
    {
     "name": "stdout",
     "output_type": "stream",
     "text": [
      "S11 WalkTogether 60457274\n"
     ]
    },
    {
     "name": "stderr",
     "output_type": "stream",
     "text": [
      "100%|██████████| 1360/1360 [00:10<00:00, 124.62it/s]\n"
     ]
    },
    {
     "name": "stdout",
     "output_type": "stream",
     "text": [
      "S11 Sitting 1 54138969\n"
     ]
    },
    {
     "name": "stderr",
     "output_type": "stream",
     "text": [
      "100%|██████████| 1857/1857 [00:27<00:00, 67.56it/s]\n"
     ]
    },
    {
     "name": "stdout",
     "output_type": "stream",
     "text": [
      "S11 Sitting 1 55011271\n"
     ]
    },
    {
     "name": "stderr",
     "output_type": "stream",
     "text": [
      "100%|██████████| 1857/1857 [00:23<00:00, 78.70it/s]\n"
     ]
    },
    {
     "name": "stdout",
     "output_type": "stream",
     "text": [
      "S11 Sitting 1 58860488\n"
     ]
    },
    {
     "name": "stderr",
     "output_type": "stream",
     "text": [
      "100%|██████████| 1857/1857 [00:29<00:00, 62.37it/s]\n"
     ]
    },
    {
     "name": "stdout",
     "output_type": "stream",
     "text": [
      "S11 Sitting 1 60457274\n"
     ]
    },
    {
     "name": "stderr",
     "output_type": "stream",
     "text": [
      "100%|██████████| 1857/1857 [00:15<00:00, 117.69it/s]\n"
     ]
    },
    {
     "name": "stdout",
     "output_type": "stream",
     "text": [
      "S11 SittingDown 54138969\n"
     ]
    },
    {
     "name": "stderr",
     "output_type": "stream",
     "text": [
      "100%|██████████| 1841/1841 [00:19<00:00, 94.15it/s] \n"
     ]
    },
    {
     "name": "stdout",
     "output_type": "stream",
     "text": [
      "S11 SittingDown 55011271\n"
     ]
    },
    {
     "name": "stderr",
     "output_type": "stream",
     "text": [
      "100%|██████████| 1841/1841 [00:34<00:00, 53.50it/s]\n"
     ]
    },
    {
     "name": "stdout",
     "output_type": "stream",
     "text": [
      "S11 SittingDown 58860488\n"
     ]
    },
    {
     "name": "stderr",
     "output_type": "stream",
     "text": [
      "100%|██████████| 1841/1841 [00:22<00:00, 81.04it/s] \n"
     ]
    },
    {
     "name": "stdout",
     "output_type": "stream",
     "text": [
      "S11 SittingDown 60457274\n"
     ]
    },
    {
     "name": "stderr",
     "output_type": "stream",
     "text": [
      "100%|██████████| 1841/1841 [00:25<00:00, 70.93it/s]\n"
     ]
    },
    {
     "name": "stdout",
     "output_type": "stream",
     "text": [
      "S11 SittingDown 1 54138969\n"
     ]
    },
    {
     "name": "stderr",
     "output_type": "stream",
     "text": [
      "100%|██████████| 2004/2004 [00:19<00:00, 100.94it/s]\n"
     ]
    },
    {
     "name": "stdout",
     "output_type": "stream",
     "text": [
      "S11 SittingDown 1 55011271\n"
     ]
    },
    {
     "name": "stderr",
     "output_type": "stream",
     "text": [
      "100%|██████████| 2004/2004 [00:38<00:00, 52.24it/s]\n"
     ]
    },
    {
     "name": "stdout",
     "output_type": "stream",
     "text": [
      "S11 SittingDown 1 58860488\n"
     ]
    },
    {
     "name": "stderr",
     "output_type": "stream",
     "text": [
      "100%|██████████| 2004/2004 [00:21<00:00, 92.75it/s] \n"
     ]
    },
    {
     "name": "stdout",
     "output_type": "stream",
     "text": [
      "S11 SittingDown 1 60457274\n"
     ]
    },
    {
     "name": "stderr",
     "output_type": "stream",
     "text": [
      "100%|██████████| 2004/2004 [00:30<00:00, 66.63it/s]\n"
     ]
    },
    {
     "name": "stdout",
     "output_type": "stream",
     "text": [
      "S11 Directions 1 54138969\n"
     ]
    },
    {
     "name": "stderr",
     "output_type": "stream",
     "text": [
      "100%|██████████| 1552/1552 [00:18<00:00, 83.04it/s]\n"
     ]
    },
    {
     "name": "stdout",
     "output_type": "stream",
     "text": [
      "S11 Directions 1 55011271\n"
     ]
    },
    {
     "name": "stderr",
     "output_type": "stream",
     "text": [
      "100%|██████████| 1552/1552 [00:17<00:00, 90.41it/s] \n"
     ]
    },
    {
     "name": "stdout",
     "output_type": "stream",
     "text": [
      "S11 Directions 1 58860488\n"
     ]
    },
    {
     "name": "stderr",
     "output_type": "stream",
     "text": [
      "100%|██████████| 1552/1552 [00:18<00:00, 83.49it/s] \n"
     ]
    },
    {
     "name": "stdout",
     "output_type": "stream",
     "text": [
      "S11 Directions 1 60457274\n"
     ]
    },
    {
     "name": "stderr",
     "output_type": "stream",
     "text": [
      "100%|██████████| 1552/1552 [00:10<00:00, 147.44it/s]\n"
     ]
    },
    {
     "name": "stdout",
     "output_type": "stream",
     "text": [
      "S11 Purchases 54138969\n"
     ]
    },
    {
     "name": "stderr",
     "output_type": "stream",
     "text": [
      "100%|██████████| 1040/1040 [00:11<00:00, 91.68it/s]\n"
     ]
    },
    {
     "name": "stdout",
     "output_type": "stream",
     "text": [
      "S11 Purchases 55011271\n"
     ]
    },
    {
     "name": "stderr",
     "output_type": "stream",
     "text": [
      "100%|██████████| 1040/1040 [00:12<00:00, 85.43it/s]\n"
     ]
    },
    {
     "name": "stdout",
     "output_type": "stream",
     "text": [
      "S11 Purchases 58860488\n"
     ]
    },
    {
     "name": "stderr",
     "output_type": "stream",
     "text": [
      "100%|██████████| 1040/1040 [00:11<00:00, 88.51it/s]\n"
     ]
    },
    {
     "name": "stdout",
     "output_type": "stream",
     "text": [
      "S11 Purchases 60457274\n"
     ]
    },
    {
     "name": "stderr",
     "output_type": "stream",
     "text": [
      "100%|██████████| 1040/1040 [00:08<00:00, 129.16it/s]\n"
     ]
    },
    {
     "name": "stdout",
     "output_type": "stream",
     "text": [
      "S11 Walking 1 54138969\n"
     ]
    },
    {
     "name": "stderr",
     "output_type": "stream",
     "text": [
      "100%|██████████| 1637/1637 [00:19<00:00, 82.67it/s] \n"
     ]
    },
    {
     "name": "stdout",
     "output_type": "stream",
     "text": [
      "S11 Walking 1 55011271\n"
     ]
    },
    {
     "name": "stderr",
     "output_type": "stream",
     "text": [
      "100%|██████████| 1637/1637 [00:23<00:00, 69.69it/s] \n"
     ]
    },
    {
     "name": "stdout",
     "output_type": "stream",
     "text": [
      "S11 Walking 1 58860488\n"
     ]
    },
    {
     "name": "stderr",
     "output_type": "stream",
     "text": [
      "100%|██████████| 1637/1637 [00:19<00:00, 84.16it/s] \n"
     ]
    },
    {
     "name": "stdout",
     "output_type": "stream",
     "text": [
      "S11 Walking 1 60457274\n"
     ]
    },
    {
     "name": "stderr",
     "output_type": "stream",
     "text": [
      "100%|██████████| 1637/1637 [00:15<00:00, 108.31it/s]\n"
     ]
    },
    {
     "name": "stdout",
     "output_type": "stream",
     "text": [
      "S11 WalkDog 1 54138969\n"
     ]
    },
    {
     "name": "stderr",
     "output_type": "stream",
     "text": [
      "100%|██████████| 1187/1187 [00:12<00:00, 92.18it/s] \n"
     ]
    },
    {
     "name": "stdout",
     "output_type": "stream",
     "text": [
      "S11 WalkDog 1 55011271\n"
     ]
    },
    {
     "name": "stderr",
     "output_type": "stream",
     "text": [
      "100%|██████████| 1187/1187 [00:14<00:00, 79.77it/s]\n"
     ]
    },
    {
     "name": "stdout",
     "output_type": "stream",
     "text": [
      "S11 WalkDog 1 58860488\n"
     ]
    },
    {
     "name": "stderr",
     "output_type": "stream",
     "text": [
      "100%|██████████| 1187/1187 [00:12<00:00, 95.16it/s] \n"
     ]
    },
    {
     "name": "stdout",
     "output_type": "stream",
     "text": [
      "S11 WalkDog 1 60457274\n"
     ]
    },
    {
     "name": "stderr",
     "output_type": "stream",
     "text": [
      "100%|██████████| 1187/1187 [00:09<00:00, 123.50it/s]\n"
     ]
    },
    {
     "name": "stdout",
     "output_type": "stream",
     "text": [
      "S11 Waiting 54138969\n"
     ]
    },
    {
     "name": "stderr",
     "output_type": "stream",
     "text": [
      "100%|██████████| 2262/2262 [00:26<00:00, 85.06it/s] \n"
     ]
    },
    {
     "name": "stdout",
     "output_type": "stream",
     "text": [
      "S11 Waiting 55011271\n"
     ]
    },
    {
     "name": "stderr",
     "output_type": "stream",
     "text": [
      "100%|██████████| 2262/2262 [00:26<00:00, 85.14it/s] \n"
     ]
    },
    {
     "name": "stdout",
     "output_type": "stream",
     "text": [
      "S11 Waiting 58860488\n"
     ]
    },
    {
     "name": "stderr",
     "output_type": "stream",
     "text": [
      "100%|██████████| 2262/2262 [00:25<00:00, 88.58it/s] \n"
     ]
    },
    {
     "name": "stdout",
     "output_type": "stream",
     "text": [
      "S11 Waiting 60457274\n"
     ]
    },
    {
     "name": "stderr",
     "output_type": "stream",
     "text": [
      "100%|██████████| 2262/2262 [00:16<00:00, 138.60it/s]\n"
     ]
    },
    {
     "name": "stdout",
     "output_type": "stream",
     "text": [
      "S11 Walking 54138969\n"
     ]
    },
    {
     "name": "stderr",
     "output_type": "stream",
     "text": [
      "100%|██████████| 1621/1621 [00:19<00:00, 84.73it/s] \n"
     ]
    },
    {
     "name": "stdout",
     "output_type": "stream",
     "text": [
      "S11 Walking 55011271\n"
     ]
    },
    {
     "name": "stderr",
     "output_type": "stream",
     "text": [
      "100%|██████████| 1621/1621 [00:22<00:00, 73.45it/s] \n"
     ]
    },
    {
     "name": "stdout",
     "output_type": "stream",
     "text": [
      "S11 Walking 58860488\n"
     ]
    },
    {
     "name": "stderr",
     "output_type": "stream",
     "text": [
      "100%|██████████| 1621/1621 [00:19<00:00, 82.01it/s] \n"
     ]
    },
    {
     "name": "stdout",
     "output_type": "stream",
     "text": [
      "S11 Walking 60457274\n"
     ]
    },
    {
     "name": "stderr",
     "output_type": "stream",
     "text": [
      "100%|██████████| 1621/1621 [00:16<00:00, 100.73it/s]\n"
     ]
    },
    {
     "name": "stdout",
     "output_type": "stream",
     "text": [
      "S11 Eating 54138969\n"
     ]
    },
    {
     "name": "stderr",
     "output_type": "stream",
     "text": [
      "100%|██████████| 2203/2203 [00:26<00:00, 83.08it/s] \n"
     ]
    },
    {
     "name": "stdout",
     "output_type": "stream",
     "text": [
      "S11 Eating 55011271\n"
     ]
    },
    {
     "name": "stderr",
     "output_type": "stream",
     "text": [
      "100%|██████████| 2203/2203 [00:23<00:00, 92.02it/s] \n"
     ]
    },
    {
     "name": "stdout",
     "output_type": "stream",
     "text": [
      "S11 Eating 58860488\n"
     ]
    },
    {
     "name": "stderr",
     "output_type": "stream",
     "text": [
      "100%|██████████| 2203/2203 [00:28<00:00, 78.03it/s] \n"
     ]
    },
    {
     "name": "stdout",
     "output_type": "stream",
     "text": [
      "S11 Eating 60457274\n"
     ]
    },
    {
     "name": "stderr",
     "output_type": "stream",
     "text": [
      "100%|██████████| 2203/2203 [00:16<00:00, 132.75it/s]\n"
     ]
    },
    {
     "name": "stdout",
     "output_type": "stream",
     "text": [
      "S11 Posing 54138969\n"
     ]
    },
    {
     "name": "stderr",
     "output_type": "stream",
     "text": [
      "100%|██████████| 1407/1407 [00:15<00:00, 91.13it/s] \n"
     ]
    },
    {
     "name": "stdout",
     "output_type": "stream",
     "text": [
      "S11 Posing 55011271\n"
     ]
    },
    {
     "name": "stderr",
     "output_type": "stream",
     "text": [
      "100%|██████████| 1407/1407 [00:19<00:00, 72.43it/s]\n"
     ]
    },
    {
     "name": "stdout",
     "output_type": "stream",
     "text": [
      "S11 Posing 58860488\n"
     ]
    },
    {
     "name": "stderr",
     "output_type": "stream",
     "text": [
      "100%|██████████| 1407/1407 [00:14<00:00, 98.12it/s] \n"
     ]
    },
    {
     "name": "stdout",
     "output_type": "stream",
     "text": [
      "S11 Posing 60457274\n"
     ]
    },
    {
     "name": "stderr",
     "output_type": "stream",
     "text": [
      "100%|██████████| 1407/1407 [00:11<00:00, 122.03it/s]\n"
     ]
    },
    {
     "name": "stdout",
     "output_type": "stream",
     "text": [
      "S11 Greeting 54138969\n"
     ]
    },
    {
     "name": "stderr",
     "output_type": "stream",
     "text": [
      "100%|██████████| 1808/1808 [00:19<00:00, 93.10it/s] \n"
     ]
    },
    {
     "name": "stdout",
     "output_type": "stream",
     "text": [
      "S11 Greeting 55011271\n"
     ]
    },
    {
     "name": "stderr",
     "output_type": "stream",
     "text": [
      "100%|██████████| 1808/1808 [00:19<00:00, 94.63it/s] \n"
     ]
    },
    {
     "name": "stdout",
     "output_type": "stream",
     "text": [
      "S11 Greeting 58860488\n"
     ]
    },
    {
     "name": "stderr",
     "output_type": "stream",
     "text": [
      "100%|██████████| 1808/1808 [00:19<00:00, 91.15it/s] \n"
     ]
    },
    {
     "name": "stdout",
     "output_type": "stream",
     "text": [
      "S11 Greeting 60457274\n"
     ]
    },
    {
     "name": "stderr",
     "output_type": "stream",
     "text": [
      "100%|██████████| 1808/1808 [00:13<00:00, 137.20it/s]\n"
     ]
    },
    {
     "name": "stdout",
     "output_type": "stream",
     "text": [
      "S11 Posing 1 54138969\n"
     ]
    },
    {
     "name": "stderr",
     "output_type": "stream",
     "text": [
      "100%|██████████| 1481/1481 [00:15<00:00, 95.56it/s] \n"
     ]
    },
    {
     "name": "stdout",
     "output_type": "stream",
     "text": [
      "S11 Posing 1 55011271\n"
     ]
    },
    {
     "name": "stderr",
     "output_type": "stream",
     "text": [
      "100%|██████████| 1481/1481 [00:20<00:00, 72.64it/s]\n"
     ]
    },
    {
     "name": "stdout",
     "output_type": "stream",
     "text": [
      "S11 Posing 1 58860488\n"
     ]
    },
    {
     "name": "stderr",
     "output_type": "stream",
     "text": [
      "100%|██████████| 1481/1481 [00:14<00:00, 101.42it/s]\n"
     ]
    },
    {
     "name": "stdout",
     "output_type": "stream",
     "text": [
      "S11 Posing 1 60457274\n"
     ]
    },
    {
     "name": "stderr",
     "output_type": "stream",
     "text": [
      "100%|██████████| 1481/1481 [00:11<00:00, 125.58it/s]\n"
     ]
    },
    {
     "name": "stdout",
     "output_type": "stream",
     "text": [
      "S11 Phoning 3 54138969\n"
     ]
    },
    {
     "name": "stderr",
     "output_type": "stream",
     "text": [
      "100%|██████████| 3390/3390 [00:44<00:00, 75.97it/s] \n"
     ]
    },
    {
     "name": "stdout",
     "output_type": "stream",
     "text": [
      "S11 Phoning 3 55011271\n"
     ]
    },
    {
     "name": "stderr",
     "output_type": "stream",
     "text": [
      "100%|██████████| 3390/3390 [00:44<00:00, 76.44it/s] \n"
     ]
    },
    {
     "name": "stdout",
     "output_type": "stream",
     "text": [
      "S11 Phoning 3 58860488\n"
     ]
    },
    {
     "name": "stderr",
     "output_type": "stream",
     "text": [
      "100%|██████████| 3390/3390 [00:46<00:00, 72.64it/s] \n"
     ]
    },
    {
     "name": "stdout",
     "output_type": "stream",
     "text": [
      "S11 Phoning 3 60457274\n"
     ]
    },
    {
     "name": "stderr",
     "output_type": "stream",
     "text": [
      "100%|██████████| 3390/3390 [00:29<00:00, 115.06it/s]\n"
     ]
    },
    {
     "name": "stdout",
     "output_type": "stream",
     "text": [
      "S11 WalkDog 54138969\n"
     ]
    },
    {
     "name": "stderr",
     "output_type": "stream",
     "text": [
      "100%|██████████| 1435/1435 [00:14<00:00, 96.22it/s] \n"
     ]
    },
    {
     "name": "stdout",
     "output_type": "stream",
     "text": [
      "S11 WalkDog 55011271\n"
     ]
    },
    {
     "name": "stderr",
     "output_type": "stream",
     "text": [
      "100%|██████████| 1435/1435 [00:17<00:00, 82.70it/s]\n"
     ]
    },
    {
     "name": "stdout",
     "output_type": "stream",
     "text": [
      "S11 WalkDog 58860488\n"
     ]
    },
    {
     "name": "stderr",
     "output_type": "stream",
     "text": [
      "100%|██████████| 1435/1435 [00:14<00:00, 98.17it/s] \n"
     ]
    },
    {
     "name": "stdout",
     "output_type": "stream",
     "text": [
      "S11 WalkDog 60457274\n"
     ]
    },
    {
     "name": "stderr",
     "output_type": "stream",
     "text": [
      "100%|██████████| 1435/1435 [00:11<00:00, 125.53it/s]\n"
     ]
    },
    {
     "name": "stdout",
     "output_type": "stream",
     "text": [
      "S11 Photo 54138969\n"
     ]
    },
    {
     "name": "stderr",
     "output_type": "stream",
     "text": [
      "100%|██████████| 1990/1990 [00:21<00:00, 93.33it/s] \n"
     ]
    },
    {
     "name": "stdout",
     "output_type": "stream",
     "text": [
      "S11 Photo 55011271\n"
     ]
    },
    {
     "name": "stderr",
     "output_type": "stream",
     "text": [
      "100%|██████████| 1990/1990 [00:21<00:00, 93.79it/s] \n"
     ]
    },
    {
     "name": "stdout",
     "output_type": "stream",
     "text": [
      "S11 Photo 58860488\n"
     ]
    },
    {
     "name": "stderr",
     "output_type": "stream",
     "text": [
      "100%|██████████| 1990/1990 [00:23<00:00, 83.92it/s] \n"
     ]
    },
    {
     "name": "stdout",
     "output_type": "stream",
     "text": [
      "S11 Photo 60457274\n"
     ]
    },
    {
     "name": "stderr",
     "output_type": "stream",
     "text": [
      "100%|██████████| 1990/1990 [00:14<00:00, 135.70it/s]\n"
     ]
    },
    {
     "name": "stdout",
     "output_type": "stream",
     "text": [
      "S11 Purchases 1 54138969\n"
     ]
    },
    {
     "name": "stderr",
     "output_type": "stream",
     "text": [
      "100%|██████████| 1026/1026 [00:09<00:00, 105.08it/s]\n"
     ]
    },
    {
     "name": "stdout",
     "output_type": "stream",
     "text": [
      "S11 Purchases 1 55011271\n"
     ]
    },
    {
     "name": "stderr",
     "output_type": "stream",
     "text": [
      "100%|██████████| 1026/1026 [00:12<00:00, 85.39it/s]\n"
     ]
    },
    {
     "name": "stdout",
     "output_type": "stream",
     "text": [
      "S11 Purchases 1 58860488\n"
     ]
    },
    {
     "name": "stderr",
     "output_type": "stream",
     "text": [
      "100%|██████████| 1026/1026 [00:10<00:00, 97.64it/s]\n"
     ]
    },
    {
     "name": "stdout",
     "output_type": "stream",
     "text": [
      "S11 Purchases 1 60457274\n"
     ]
    },
    {
     "name": "stderr",
     "output_type": "stream",
     "text": [
      "100%|██████████| 1026/1026 [00:08<00:00, 121.24it/s]\n"
     ]
    },
    {
     "name": "stdout",
     "output_type": "stream",
     "text": [
      "S11 Eating 1 54138969\n"
     ]
    },
    {
     "name": "stderr",
     "output_type": "stream",
     "text": [
      "100%|██████████| 2275/2275 [00:26<00:00, 86.02it/s] \n"
     ]
    },
    {
     "name": "stdout",
     "output_type": "stream",
     "text": [
      "S11 Eating 1 55011271\n"
     ]
    },
    {
     "name": "stderr",
     "output_type": "stream",
     "text": [
      "100%|██████████| 2275/2275 [00:25<00:00, 90.04it/s] \n"
     ]
    },
    {
     "name": "stdout",
     "output_type": "stream",
     "text": [
      "S11 Eating 1 58860488\n"
     ]
    },
    {
     "name": "stderr",
     "output_type": "stream",
     "text": [
      "100%|██████████| 2275/2275 [00:28<00:00, 79.35it/s] \n"
     ]
    },
    {
     "name": "stdout",
     "output_type": "stream",
     "text": [
      "S11 Eating 1 60457274\n"
     ]
    },
    {
     "name": "stderr",
     "output_type": "stream",
     "text": [
      "100%|██████████| 2275/2275 [00:17<00:00, 129.93it/s]\n"
     ]
    }
   ],
   "source": [
    "for subject in ['S9', 'S11']: #['S1', 'S5', 'S6', 'S7', 'S8']:\n",
    "    action_list = h36m_3d_world._data[subject].keys()\n",
    "    for action in action_list:\n",
    "        pose3d_list_h36m = h36m_3d_world._data[subject][action]['positions']\n",
    "        cam_info = h36m_3d_world._data[subject][action]['cameras']\n",
    "        cam_param = get_cam_param(cam_info, subject, h36m_cam_param)\n",
    "        for camera_id in cam_param.keys():\n",
    "            print(subject, action, camera_id)\n",
    "            #print(cam_param[cam_id])\n",
    "            calibration_matrix = np.array(cam_param[camera_id]['int']['calibration_matrix'])\n",
    "            R = cam_param[camera_id]['ext']['R']\n",
    "            t = np.array(cam_param[camera_id]['ext']['t'])/1000\n",
    "            camera_param = {\n",
    "                'intrinsic': calibration_matrix,\n",
    "                'extrinsic': np.concatenate([R, t.reshape(3, 1)], axis=1),\n",
    "            }\n",
    "            #print(camera_param)\n",
    "            available_frames = list(range(len(pose3d_list_h36m)))\n",
    "            generate_kookmin_pkl_for_each_video(pose3d_list=pose3d_list_h36m.copy(), \n",
    "                                                available_frames=available_frames.copy(), \n",
    "                                                subject=subject, \n",
    "                                                camera_id=camera_id, \n",
    "                                                action=action, \n",
    "                                                phase='', \n",
    "                                                camera_param=camera_param.copy(), \n",
    "                                                save_folder=save_folder, \n",
    "                                                trans=None, \n",
    "                                                rot=None, \n",
    "                                                centered_root=False, # True: root joint을 (0, 0, 0)으로 이동, False: 원래 위치\n",
    "                                                overwrite=False)\n",
    "        \n",
    "            "
   ]
  },
  {
   "cell_type": "code",
   "execution_count": 13,
   "metadata": {},
   "outputs": [],
   "source": [
    "for item in glob(save_folder + '/*'):\n",
    "    data = readpkl(item)\n",
    "    break"
   ]
  },
  {
   "cell_type": "code",
   "execution_count": 14,
   "metadata": {},
   "outputs": [
    {
     "data": {
      "text/plain": [
       "dict_keys(['joint_2d', 'confidence', 'joint3d_image', 'joints_2.5d_image', '2.5d_factor', 'camera_name', 'action', 'source', 'frame', 'world_3d', 'cam_3d', 'cam_param'])"
      ]
     },
     "execution_count": 14,
     "metadata": {},
     "output_type": "execute_result"
    }
   ],
   "source": [
    "data.keys()"
   ]
  },
  {
   "cell_type": "code",
   "execution_count": 59,
   "metadata": {},
   "outputs": [],
   "source": [
    "frame_num = 0\n",
    "joint_2d = np.array(data['joint_2d'][frame_num]).astype(np.int32)\n",
    "joint3d_image = data['joint3d_image'][frame_num]\n",
    "factor = data['2.5d_factor'][frame_num]\n",
    "joint_25d_image = data['joints_2.5d_image'][frame_num]"
   ]
  },
  {
   "cell_type": "code",
   "execution_count": 73,
   "metadata": {},
   "outputs": [
    {
     "data": {
      "text/plain": [
       "(1000, 1002, array(4.0205512))"
      ]
     },
     "execution_count": 73,
     "metadata": {},
     "output_type": "execute_result"
    }
   ],
   "source": [
    "W, H, factor"
   ]
  },
  {
   "cell_type": "code",
   "execution_count": 72,
   "metadata": {},
   "outputs": [
    {
     "data": {
      "application/vnd.jupyter.widget-view+json": {
       "model_id": "a02bb8e295244ed089e578992c279b61",
       "version_major": 2,
       "version_minor": 0
      },
      "image/png": "[encoded data removed]",
      "text/html": [
       "\n",
       "            <div style=\"display: inline-block;\">\n",
       "                <div class=\"jupyter-widgets widget-label\" style=\"text-align: center;\">\n",
       "                    Figure 0\n",
       "                </div>\n",
       "                <img src='data:image/png;base64,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' width=1026.0/>\n",
       "            </div>\n",
       "        "
      ],
      "text/plain": [
       "Canvas(toolbar=Toolbar(toolitems=[('Home', 'Reset original view', 'home', 'home'), ('Back', 'Back to previous …"
      ]
     },
     "metadata": {},
     "output_type": "display_data"
    }
   ],
   "source": [
    "%matplotlib widget\n",
    "fig = plt.figure(0)\n",
    "fig.clear()\n",
    "ax = axes_2d(fig, loc=131, W=W, H=H)\n",
    "ax2 = axes_3d(fig, loc=132, xlim=(0, W), ylim=(0, H), zlim=(-1, 1), view=(-90, -90))\n",
    "draw_2d_pose(ax, joint_2d, W=W, H=H)\n",
    "draw_3d_pose(ax2, joint3d_image)\n",
    "plt.show()"
   ]
  },
  {
   "cell_type": "code",
   "execution_count": null,
   "metadata": {},
   "outputs": [],
   "source": []
  },
  {
   "cell_type": "code",
   "execution_count": 82,
   "metadata": {},
   "outputs": [
    {
     "data": {
      "text/plain": [
       "((248376, 17, 3), (1311376, 17, 3))"
      ]
     },
     "execution_count": 82,
     "metadata": {},
     "output_type": "execute_result"
    }
   ],
   "source": [
    "joint_2ds = {'train': [], 'test': []}\n",
    "confidences = {'train': [], 'test': []}\n",
    "joint3d_images = {'train': [], 'test': []}\n",
    "joints_25d_images = {'train': [], 'test': []}\n",
    "_25d_factors = {'train': [], 'test': []}\n",
    "camera_names = {'train': [], 'test': []}\n",
    "actions = {'train': [], 'test': []}\n",
    "sources = {'train': [], 'test': []}\n",
    "frames = {'train': [], 'test': []}\n",
    "world_3ds = {'train': [], 'test': []}\n",
    "cam_3ds = {'train': [], 'test': []}\n",
    "cam_params = {'train': [], 'test': []}\n",
    "\n",
    "# target \n",
    "pkl_folder = '/home/hrai/codes/MotionBERT/data/motion3d/h36m_train_pkl'\n",
    "#action_list = ['squat', 'pushup', 'kneeup', 'benchpress', 'burpee', 'cat', 'yoga']\n",
    "test_subject = ['S5', 'S6', 'S7', 'S8']\n",
    "#camera_list = [1, 2, 3, 4]\n",
    "# pelvis, r_hip, l_hip, torso, neck, l_shoulder, r_shoulder = 0, 1, 4, 7, 8, 11, 14\n",
    "# r_knee, r_ankle, l_knee, l_ankle = 2, 3, 5, 6\n",
    "# l_elbow, l_wrist, r_elbow, r_wrist = 12, 13, 15, 16\n",
    "# joint_list = [j for j in range(17)] # [r_knee, r_ankle, l_knee, l_ankle, l_elbow, l_wrist, r_elbow, r_wrist] # [j for j in range(17)]\n",
    "only_test = False\n",
    "\n",
    "blacklist = []\n",
    "\n",
    "for item in os.listdir(pkl_folder):\n",
    "    subject, cam_num, action = item.split('.')[0].split('_') \n",
    "    \n",
    "    # filtering\n",
    "    #if action not in action_list: continue \n",
    "    #if int(cam_num) not in camera_list: continue\n",
    "    if only_test:\n",
    "        if subject not in test_subject: continue\n",
    "    if subject in blacklist: continue\n",
    "    #print(subject, cam_num, action, phase) \n",
    "    \n",
    "    item_path = os.path.join(pkl_folder, item) \n",
    "    data = readpkl(item_path) \n",
    "    if subject in test_subject: data_type = 'test' \n",
    "    else: data_type = 'train' \n",
    "\n",
    "    joint_2ds[data_type] += list(np.array(data['joint_2d'])) \n",
    "    confidences[data_type] += list(np.array(data['confidence'])) \n",
    "    joint3d_images[data_type] += list(np.array(data['joint3d_image'])) \n",
    "    joints_25d_images[data_type] += list(np.array(data['joints_2.5d_image'])) \n",
    "    _25d_factors[data_type] += data['2.5d_factor'] \n",
    "    camera_names[data_type] += data['camera_name']  \n",
    "    actions[data_type] += data['action'] \n",
    "    sources[data_type] += data['source'] \n",
    "    frames[data_type] += data['frame'] \n",
    "    world_3ds[data_type] += list(np.array(data['world_3d'])) \n",
    "    cam_3ds[data_type] += list(np.array(data['cam_3d']))\n",
    "    cam_params[data_type] += data['cam_param'] \n",
    "    \n",
    "data_total = {'train': {}, 'test': {}}\n",
    "\n",
    "for data_type in ['train', 'test']:\n",
    "    data_total[data_type]['joint_2d']          = copy.deepcopy(np.array(joint_2ds[data_type]))\n",
    "    data_total[data_type]['confidence']        = copy.deepcopy(np.array(confidences[data_type]))\n",
    "    data_total[data_type]['joint3d_image']     = copy.deepcopy(np.array(joint3d_images[data_type]))\n",
    "    data_total[data_type]['joints_2.5d_image'] = copy.deepcopy(np.array(joints_25d_images[data_type]))\n",
    "    data_total[data_type]['2.5d_factor']       = copy.deepcopy(np.array(_25d_factors[data_type]))\n",
    "    data_total[data_type]['camera_name']       = copy.deepcopy(np.array(camera_names[data_type]))\n",
    "    data_total[data_type]['action']            = copy.deepcopy(np.array(actions[data_type]))\n",
    "    data_total[data_type]['source']            = copy.deepcopy(np.array(sources[data_type]))\n",
    "    data_total[data_type]['frame']             = copy.deepcopy(np.array(frames[data_type]))\n",
    "    data_total[data_type]['world_3d']          = copy.deepcopy(np.array(world_3ds[data_type]))\n",
    "    data_total[data_type]['cam_3d']            = copy.deepcopy(np.array(cam_3ds[data_type]))\n",
    "    data_total[data_type]['cam_param']         = copy.deepcopy(np.array(cam_params[data_type]))\n",
    "    \n",
    "if len(data_total['train']['joint_2d']) == 0:\n",
    "    data_total['train'] = copy.deepcopy(data_total['test'])\n",
    "\n",
    "data_total['train']['joint3d_image'].shape, data_total['test']['joint3d_image'].shape  "
   ]
  },
  {
   "cell_type": "code",
   "execution_count": null,
   "metadata": {},
   "outputs": [],
   "source": [
    "save_path = os.path.join(motionbert_root, f'data/motion3d/h36m_train_s1_test_s5678.pkl')\n",
    "savepkl(data_total, save_path)"
   ]
  }
 ],
 "metadata": {
  "kernelspec": {
   "display_name": "motionbert",
   "language": "python",
   "name": "python3"
  },
  "language_info": {
   "codemirror_mode": {
    "name": "ipython",
    "version": 3
   },
   "file_extension": ".py",
   "mimetype": "text/x-python",
   "name": "python",
   "nbconvert_exporter": "python",
   "pygments_lexer": "ipython3",
   "version": "3.9.18 (main, Sep 11 2023, 13:41:44) \n[GCC 11.2.0]"
  },
  "vscode": {
   "interpreter": {
    "hash": "a22adeb9c65037913f217d555eca4ee12416bb8cd04fc64921ca248554344da3"
   }
  }
 },
 "nbformat": 4,
 "nbformat_minor": 2
}
