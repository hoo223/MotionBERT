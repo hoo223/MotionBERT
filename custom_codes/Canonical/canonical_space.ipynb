{
 "cells": [
  {
   "cell_type": "code",
   "execution_count": 2,
   "metadata": {},
   "outputs": [],
   "source": [
    "%load_ext autoreload\n",
    "%autoreload 2\n",
    "%matplotlib widget\n",
    "\n",
    "import os, sys\n",
    "sys.path.append('/home/hrai/codes/hpe_library')\n",
    "#os.chdir('/home/hrai/codes/hpe_library')\n",
    "from lib_import import *\n",
    "from my_utils import *\n",
    "\n",
    "# 주요 디렉토리 경로\n",
    "user = getpass.getuser()\n",
    "alphapose_root = '/home/{}/codes/AlphaPose'.format(user)\n",
    "motionbert_root = '/home/{}/codes/MotionBERT'.format(user)\n",
    "kookmin_root = '/home/{}/Datasets/HAAI/국민대데이터/data'.format(user)\n",
    "ap_kookmin_result_root = alphapose_root + \"/examples/kookmin_result_5actions\"\n",
    "\n",
    "assert os.path.isdir(alphapose_root), \"AlphaPose root directory is not exist\"\n",
    "assert os.path.isdir(motionbert_root), \"MotionBERT root directory is not exist\"\n",
    "#assert os.path.isdir(kookmin_root), \"Kookmin root directory is not exist\"\n",
    "#assert os.path.isdir(ap_kookmin_result_root), \"AlphaPose Kookmin result directory is not exist\"\n",
    "\n",
    "os.chdir(motionbert_root)\n",
    "from lib.utils.tools import * # get_config\n",
    "from lib.utils.learning import * # load_backbone\n",
    "from lib.model.loss import *\n",
    "from lib.data.datareader_kookmin import DataReaderKOOKMIN\n",
    "from lib.data.datareader_h36m import DataReaderH36M\n",
    "from lib.data.dataset_motion_3d import MotionDataset3D\n",
    "#from lib.model.DHDSTformer import DHDSTformer, DHDSTformer2, DHDSTformer3, DHDSTformer_limb, DHDSTformer_torso\n",
    "\n",
    "def parse_args(target):\n",
    "    parser = argparse.ArgumentParser()\n",
    "    parser.add_argument(\"--config\", type=str, default=\"configs/pose3d/DHDST_kookmin_baseline.yaml\", help=\"Path to the config file.\")\n",
    "    parser.add_argument('-c', '--checkpoint', default='checkpoint', type=str, metavar='PATH', help='checkpoint directory')\n",
    "    parser.add_argument('-p', '--pretrained', default='checkpoint', type=str, metavar='PATH', help='pretrained checkpoint directory')\n",
    "    parser.add_argument('-r', '--resume', default='', type=str, metavar='FILENAME', help='checkpoint to resume (file name)')\n",
    "    parser.add_argument('-e', '--evaluate', default='checkpoint/pose3d/MB_ft_h36m/best_epoch.bin', type=str, metavar='FILENAME', help='checkpoint to evaluate (file name)')\n",
    "    parser.add_argument('-ms', '--selection', default='best_epoch.bin', type=str, metavar='FILENAME', help='checkpoint to finetune (file name)')\n",
    "    parser.add_argument('-sd', '--seed', default=0, type=int, help='random seed')\n",
    "    parser.add_argument('-g', '--gpu', default='0', type=str, help='GPU id')\n",
    "    #opts = parser.parse_args([])\n",
    "    opts = parser.parse_args([\n",
    "        '--config', 'configs/pose3d/{}.yaml'.format(target),\n",
    "        '--evaluate', 'checkpoint/pose3d/{}/best_epoch.bin'.format(target)])\n",
    "    return opts\n",
    "\n",
    "def get_h36m_camera_info(subject, action, camera_id):\n",
    "    cam_info = h36m_3d_world._data[subject][action]['cameras']\n",
    "    cam_param = get_cam_param(cam_info, subject, h36m_cam_param)\n",
    "    calibration_matrix = np.array(cam_param[camera_id]['int']['calibration_matrix'])\n",
    "    R = np.array(cam_param[camera_id]['ext']['R'])\n",
    "    t = np.array(cam_param[camera_id]['ext']['t'])/1000\n",
    "    H = cam_param[camera_id]['H']\n",
    "    W = cam_param[camera_id]['W']\n",
    "    camera_param = {\n",
    "        'intrinsic': calibration_matrix,\n",
    "        'extrinsic': np.concatenate([R, t.reshape(3, 1)], axis=1),\n",
    "    }\n",
    "    fx = camera_param['intrinsic'][0, 0]  \n",
    "    fy = camera_param['intrinsic'][1, 1]  \n",
    "    cx = camera_param['intrinsic'][0, 2]  \n",
    "    cy = camera_param['intrinsic'][1, 2] \n",
    "    return calibration_matrix, camera_param, H, W, fx, fy, cx, cy\n",
    "\n",
    "def data_processing(pose3d_list, camera_param, fx, fy, cx, cy, length=243):\n",
    "    pose_2d_list = []\n",
    "    cam_3d_list = []\n",
    "    img_3d_list = []\n",
    "    img_3d_hat_list = []\n",
    "    img_25d_list = []\n",
    "    scale_list = []\n",
    "    for frame_num in range(len(pose3d_list[:length])):\n",
    "        world_3d = np.array(pose3d_list[frame_num])\n",
    "        # world to camera\n",
    "        pos = copy.deepcopy(world_3d)\n",
    "        cam_3d = World2CameraCoordinate(pos, camera_param['extrinsic']) * 1000 # World coordinate -> Camera coordinate\n",
    "        cam_3d_hat = get_rootrel_pose(cam_3d)\n",
    "\n",
    "        # camera to image\n",
    "        box = infer_box(cam_3d, {'fx': fx, 'fy': fy, 'cx': cx, 'cy': cy}, 0)\n",
    "        img_2d, img_3d = camera_to_image_frame(cam_3d, box, {'fx': fx, 'fy': fy, 'cx': cx, 'cy': cy}, 0) \n",
    "        img_3d_hat = get_rootrel_pose(img_3d) # (17, 3) # root-relative pose \n",
    "        # 2.5d factor\n",
    "        pred_lambda, losses = optimize_scaling_factor(img_3d_hat, cam_3d_hat, stop_tolerance=0.0001) # x,y,z 사용\n",
    "        # joint 2.5d image\n",
    "        img_25d = img_3d * pred_lambda\n",
    "\n",
    "        pose_2d_list.append(img_2d)\n",
    "        cam_3d_list.append(cam_3d)\n",
    "        img_3d_list.append(img_3d)\n",
    "        img_3d_hat_list.append(img_3d_hat)\n",
    "        img_25d_list.append(img_25d)\n",
    "        scale_list.append(pred_lambda)\n",
    "\n",
    "    pose_2d_list = np.array(pose_2d_list)\n",
    "    pose_2d_list = np.append(pose_2d_list, np.ones((pose_2d_list.shape[0], pose_2d_list.shape[1], 1)), axis=2)\n",
    "    cam_3d_list = np.array(cam_3d_list)\n",
    "    img_3d_list = np.array(img_3d_list)\n",
    "    img_3d_hat_list = np.array(img_3d_hat_list)\n",
    "    img_25d_list = np.array(img_25d_list)\n",
    "    scale_list = np.array(scale_list)\n",
    "\n",
    "    return pose_2d_list, cam_3d_list, img_3d_list, img_3d_hat_list, img_25d_list, scale_list\n",
    "\n",
    "def get_custom_camera_info(camera):\n",
    "    calibration_matrix = camera.intrinsic\n",
    "    R = camera.R\n",
    "    t = camera.t/1000\n",
    "    H = camera.IMAGE_HEIGHT\n",
    "    W = camera.IMAGE_WIDTH\n",
    "    camera_param = {\n",
    "        'intrinsic': calibration_matrix,\n",
    "        'extrinsic': np.concatenate([R, t.reshape(3, 1)], axis=1),\n",
    "    }\n",
    "    fx = camera_param['intrinsic'][0, 0]  \n",
    "    fy = camera_param['intrinsic'][1, 1]  \n",
    "    cx = camera_param['intrinsic'][0, 2]  \n",
    "    cy = camera_param['intrinsic'][1, 2] \n",
    "    return calibration_matrix, camera_param, H, W, fx, fy, cx, cy\n",
    "\n",
    "def mpjpe(predicted, target):\n",
    "    \"\"\"\n",
    "    Mean per-joint position error (i.e. mean Euclidean distance),\n",
    "    often referred to as \"Protocol #1\" in many papers.\n",
    "    \"\"\"\n",
    "    assert predicted.shape == target.shape\n",
    "    return np.mean(np.linalg.norm(predicted - target, axis=len(target.shape)-1), axis=1)"
   ]
  },
  {
   "cell_type": "markdown",
   "metadata": {},
   "source": [
    "#### Load H36M Dataset"
   ]
  },
  {
   "cell_type": "code",
   "execution_count": 2,
   "metadata": {},
   "outputs": [
    {
     "name": "stdout",
     "output_type": "stream",
     "text": [
      "==> Loading 3D data wrt World CS...\n"
     ]
    }
   ],
   "source": [
    "h36m_3d_world, h36m_cam_param = load_h36m()"
   ]
  },
  {
   "cell_type": "code",
   "execution_count": 6,
   "metadata": {},
   "outputs": [],
   "source": [
    "subject = 'S5'\n",
    "action = 'Walking 1'\n",
    "camera_id = '54138969'\n",
    "length = 1000\n",
    "target_video = f'{subject}_{action}_{camera_id}'\n",
    "\n",
    "pose3d_list = h36m_3d_world._data[subject][action]['positions'].copy()\n",
    "calibration_matrix, camera_param, H, W, fx, fy, cx, cy = get_h36m_camera_info(subject, action, camera_id)\n",
    "\n",
    "pose_2d_list, cam_3d_list, img_3d_list, img_3d_hat_list, img_25d_list, scale_list = data_processing(pose3d_list.copy(), camera_param, fx, fy, cx, cy, length=length)\n",
    "pose_2d_list = normalize_input(pose_2d_list, 1000, 1000)\n",
    "pose_2d_list = torch.tensor(pose_2d_list).cuda().unsqueeze(0)\n",
    "cam_3d_list = torch.tensor(cam_3d_list).cuda().unsqueeze(0)\n",
    "img_3d_list = torch.tensor(img_3d_list).cuda().unsqueeze(0)\n",
    "img_3d_hat_list = torch.tensor(img_3d_hat_list).cuda().unsqueeze(0)\n",
    "img_25d_list = torch.tensor(img_25d_list).cuda().unsqueeze(0)"
   ]
  },
  {
   "cell_type": "code",
   "execution_count": 7,
   "metadata": {},
   "outputs": [
    {
     "data": {
      "text/plain": [
       "torch.Size([1, 1000, 17, 3])"
      ]
     },
     "execution_count": 7,
     "metadata": {},
     "output_type": "execute_result"
    }
   ],
   "source": [
    "pose_2d_list.shape"
   ]
  },
  {
   "cell_type": "code",
   "execution_count": 9,
   "metadata": {},
   "outputs": [
    {
     "name": "stdout",
     "output_type": "stream",
     "text": [
      "torch.Size([1, 1000, 17, 2])\n",
      "torch.Size([1, 1000, 17, 2])\n",
      "torch.Size([1000, 34])\n",
      "torch.Size([1000, 1])\n"
     ]
    }
   ],
   "source": [
    "# original\n",
    "batch_input = pose_2d_list.clone()[:, :, :, :2]\n",
    "# root centered\n",
    "root_centered = batch_input.clone() - batch_input[:, :, 0:1]\n",
    "# scaled by euclidean\n",
    "scaled_by_frobenius = batch_input.clone()\n",
    "print(scaled_by_frobenius.shape)\n",
    "scaled_by_frobenius_denormalized = batch_input.clone()\n",
    "scaled_by_frobenius_denormalized[:, :, :, :2] = (scaled_by_frobenius_denormalized[:, :, :, :2] + torch.tensor([1, 1]).cuda()) * 1000 / 2\n",
    "scaled_by_frobenius = scaled_by_frobenius - scaled_by_frobenius[:, :, 0:1]\n",
    "print(scaled_by_frobenius.shape)\n",
    "scaled_by_frobenius_denormalized = scaled_by_frobenius - scaled_by_frobenius[:, :, 0:1]\n",
    "print(scaled_by_frobenius.reshape(-1, 34).shape)\n",
    "scale = torch.norm(scaled_by_frobenius.reshape(-1, 34), dim=1, keepdim=True)\n",
    "print(scale.shape)\n",
    "scale_denormalized = torch.norm(scaled_by_frobenius_denormalized.reshape(-1, 34), dim=1, keepdim=True)\n",
    "scaled_by_frobenius = (scaled_by_frobenius.reshape(-1, 34) / scale).reshape(1, -1, 17, 2)\n",
    "scaled_by_frobenius_denormalized = (scaled_by_frobenius_denormalized.reshape(-1, 34) / scale).reshape(1, -1, 17, 2)\n",
    "# scaled by each height\n",
    "batch_height = root_centered[:, :, :, 1].max(dim=-1).values - root_centered[:, :, :, 1].min(dim=-1).values\n",
    "batch_ratio = torch.ones_like(batch_height) / batch_height\n",
    "scaled_by_each_height = root_centered.clone() * batch_ratio.unsqueeze(-1).unsqueeze(-1)\n",
    "# scaled by first height\n",
    "first_height = batch_height.max()\n",
    "ratio = torch.ones_like(first_height) / first_height\n",
    "scaled_by_fixed_height = root_centered.clone() * ratio.unsqueeze(-1).unsqueeze(-1)\n",
    "\n",
    "original_input = batch_input.cpu().detach().numpy()\n",
    "canonical_input1 = root_centered.clone().cpu().detach().numpy()\n",
    "canonical_input2 = scaled_by_frobenius.clone().cpu().detach().numpy()\n",
    "canonical_input3 = scaled_by_each_height.clone().cpu().detach().numpy()\n",
    "canonical_input4 = scaled_by_fixed_height.clone().cpu().detach().numpy()\n",
    "canonical_input5 = scaled_by_frobenius_denormalized.clone().cpu().detach().numpy()\n",
    "\n",
    "height_original = get_pose_height(original_input)[0]\n",
    "height_canonical1 = get_pose_height(canonical_input1)[0]\n",
    "height_canonical2 = get_pose_height(canonical_input2)[0]\n",
    "height_canonical3 = get_pose_height(canonical_input3)[0]\n",
    "height_canonical4 = get_pose_height(canonical_input4)[0]"
   ]
  },
  {
   "cell_type": "code",
   "execution_count": 75,
   "metadata": {},
   "outputs": [],
   "source": [
    "# target = 'MB_ft_h36m'\n",
    "\n",
    "# opts = parse_args(target=target)\n",
    "# args = get_config(opts.config)\n",
    "# print(opts.evaluate)\n",
    "\n",
    "# if 'DHDST2' in opts.evaluate:\n",
    "#     model_pos = DHDSTformer2(chk_filename='', args=args)\n",
    "# elif 'DHDST_torso' in opts.evaluate:\n",
    "#     model_pos = DHDSTformer_torso(chk_filename='', args=args)\n",
    "# elif 'DHDSTformer_limb' in opts.evaluate:\n",
    "#     model_pos = DHDSTformer_limb(chk_filename='', args=args)\n",
    "# elif 'MB' in opts.evaluate:\n",
    "#     model_pos = load_backbone(args)\n",
    "    \n",
    "# model_pos = nn.DataParallel(model_pos)\n",
    "# model_pos = model_pos.cuda()\n",
    "# checkpoint = torch.load(opts.evaluate, map_location=lambda storage, loc: storage)\n",
    "# model_pos.load_state_dict(checkpoint['model_pos'], strict=True)\n",
    "# model_pos = model_pos.eval()\n",
    "\n",
    "# args.dt_file = 'h36m_sh_conf_cam_source_final.pkl'\n",
    "# args.subset_list = ['H36M-SH']\n",
    "# datareader = DataReaderH36M(n_frames=args.clip_len, sample_stride=args.sample_stride, data_stride_train=args.data_stride, data_stride_test=args.clip_len, dt_root = 'data/motion3d', dt_file=args.dt_file)\n",
    "# testloader_params = {\n",
    "#         'batch_size': args.batch_size,\n",
    "#         'shuffle': False,\n",
    "#         'num_workers': 12,\n",
    "#         'pin_memory': True,\n",
    "#         'prefetch_factor': 4,\n",
    "#         'persistent_workers': True\n",
    "# }\n",
    "# test_dataset = MotionDataset3D(args, args.subset_list, 'test')\n",
    "# test_loader = DataLoader(test_dataset, **testloader_params)\n"
   ]
  },
  {
   "cell_type": "code",
   "execution_count": 76,
   "metadata": {},
   "outputs": [],
   "source": [
    "# with torch.no_grad():\n",
    "#     for batch_input, batch_gt in tqdm(test_loader):\n",
    "#         if torch.cuda.is_available():\n",
    "#             batch_input = batch_input.cuda()[:, :, :, :2]\n",
    "#             batch_gt = batch_gt.cuda()\n",
    "#         break"
   ]
  },
  {
   "cell_type": "code",
   "execution_count": 10,
   "metadata": {},
   "outputs": [
    {
     "data": {
      "image/png": "[encoded data removed]",
      "text/plain": [
       "<Figure size 1500x500 with 4 Axes>"
      ]
     },
     "metadata": {},
     "output_type": "display_data"
    }
   ],
   "source": [
    "# visualize\n",
    "batch_num = 0\n",
    "frame_num = 150\n",
    "\n",
    "%matplotlib inline\n",
    "fig = plt.figure(0, figsize=(15, 5))\n",
    "fig.clear()\n",
    "axd = fig.subplot_mosaic(\n",
    "    \"\"\"\n",
    "    ABCD\n",
    "    \"\"\",\n",
    "    #per_subplot_kw={('A'): {'projection': '3d'}}\n",
    ")\n",
    "\n",
    "axA = axes_2d(ax=axd['A'], normalize=True, show_axis=False)\n",
    "axB = axes_2d(ax=axd['B'], normalize=True, show_axis=False)\n",
    "axC = axes_2d(ax=axd['C'], normalize=True, show_axis=False)\n",
    "axD = axes_2d(ax=axd['D'], normalize=True, show_axis=False)\n",
    "#axE = axes_2d(ax=axd['E'], normalize=True, show_axis=False)\n",
    "\n",
    "axA.set_title('Original')\n",
    "axB.set_title('Root centered')\n",
    "axC.set_title('Root centered + \\n scaled (Euclidean norm)')\n",
    "axD.set_title('Root centered + \\n scaled (fixed height)')\n",
    "\n",
    "draw_2d_pose(axA, original_input[batch_num, frame_num], normalize=True)\n",
    "draw_2d_pose(axB, canonical_input1[batch_num, frame_num], normalize=True)\n",
    "draw_2d_pose(axC, canonical_input2[batch_num, frame_num], normalize=True)\n",
    "draw_2d_pose(axD, canonical_input3[batch_num, frame_num], normalize=True)\n",
    "plt.show()"
   ]
  },
  {
   "cell_type": "code",
   "execution_count": 25,
   "metadata": {},
   "outputs": [
    {
     "data": {
      "text/plain": [
       "1000"
      ]
     },
     "execution_count": 25,
     "metadata": {},
     "output_type": "execute_result"
    }
   ],
   "source": [
    "len(pose_2d_list[0])"
   ]
  },
  {
   "cell_type": "code",
   "execution_count": 49,
   "metadata": {},
   "outputs": [
    {
     "name": "stderr",
     "output_type": "stream",
     "text": [
      "  0%|          | 0/1000 [00:00<?, ?it/s]IMAGEIO FFMPEG_WRITER WARNING: input image is not divisible by macro_block_size=16, resizing from (1500, 500) to (1504, 512) to ensure video compatibility with most codecs and players. To prevent resizing, make your input image divisible by the macro_block_size or set the macro_block_size to 1 (risking incompatibility).\n",
      "  0%|          | 1/1000 [00:00<02:08,  7.80it/s][swscaler @ 0x7091900] Warning: data is not aligned! This can lead to a speed loss\n",
      "100%|██████████| 1000/1000 [01:02<00:00, 15.94it/s]\n"
     ]
    },
    {
     "data": {
      "image/png": "[encoded data removed]",
      "text/plain": [
       "<Figure size 1500x500 with 6 Axes>"
      ]
     },
     "metadata": {},
     "output_type": "display_data"
    }
   ],
   "source": [
    "batch_num = 0\n",
    "\n",
    "%matplotlib inline\n",
    "fig = plt.figure(0, figsize=(15, 5))\n",
    "fig.clear()\n",
    "axd = fig.subplot_mosaic(\n",
    "    \"\"\"\n",
    "    ABCDE\n",
    "    FFFFF\n",
    "    \"\"\",\n",
    "    #per_subplot_kw={('A'): {'projection': '3d'}}\n",
    ")\n",
    "\n",
    "axA = axes_2d(ax=axd['A'], normalize=True, show_axis=False)\n",
    "axB = axes_2d(ax=axd['B'], normalize=True, show_axis=False)\n",
    "axC = axes_2d(ax=axd['C'], normalize=True, show_axis=False)\n",
    "axD = axes_2d(ax=axd['D'], normalize=True, show_axis=False)\n",
    "axE = axes_2d(ax=axd['E'], normalize=True, show_axis=False)\n",
    "axF = axd['F']\n",
    "axF.set_xlim(0, len(pose_2d_list[0]))\n",
    "axF.set_ylim(0, 1.5)\n",
    "\n",
    "\n",
    "axA.set_title('Original')\n",
    "axB.set_title('Root centered')\n",
    "axC.set_title('Root centered + \\n scaled (Euclidean norm)')\n",
    "axD.set_title('Root centered + \\n scaled (each frame height)')\n",
    "axE.set_title('Root centered + \\n scaled (first height)')\n",
    "axF.set_title('height plot')\n",
    "\n",
    "videowriter = imageio.get_writer(f'/home/hrai/codes/MotionBERT/custom_codes/Canonical/compare_input_type_{subject}_{action}_{camera_id}.mp4', fps=30)\n",
    "for frame_num in tqdm(range(len(pose_2d_list[0]))):\n",
    "    clear_axes([axA, axB, axC, axD, axE, axF])\n",
    "    draw_2d_pose(axA, original_input[batch_num, frame_num], normalize=True)\n",
    "    draw_2d_pose(axB, canonical_input1[batch_num, frame_num], normalize=True)\n",
    "    draw_2d_pose(axC, canonical_input2[batch_num, frame_num], normalize=True)\n",
    "    draw_2d_pose(axC, canonical_input5[batch_num, frame_num], normalize=True)\n",
    "    draw_2d_pose(axD, canonical_input3[batch_num, frame_num], normalize=True)\n",
    "    draw_2d_pose(axE, canonical_input4[batch_num, frame_num], normalize=True)\n",
    "\n",
    "    axF.plot(height_original[:frame_num], 'k--', label='Original')\n",
    "    axF.plot(height_canonical1[:frame_num], 'r', label='Root centered')\n",
    "    axF.plot(height_canonical2[:frame_num], 'g', label='Root centered + scaled (Euclidean norm)')\n",
    "    axF.plot(height_canonical3[:frame_num], 'b', label='Root centered + scaled (each frame height)')\n",
    "    axF.plot(height_canonical4[:frame_num], 'm', label='Root centered + scaled (first height)')\n",
    "    axF.legend(loc='upper right', fontsize=7)\n",
    "    \n",
    "    canvas = FigureCanvas(fig)\n",
    "    canvas.draw()\n",
    "    image_from_plot = np.array(canvas.renderer._renderer)\n",
    "    image_from_plot = cv2.cvtColor(image_from_plot, cv2.COLOR_RGB2BGR)       \n",
    "    videowriter.append_data(image_from_plot)\n",
    "videowriter.close()"
   ]
  },
  {
   "cell_type": "code",
   "execution_count": 6,
   "metadata": {},
   "outputs": [
    {
     "name": "stdout",
     "output_type": "stream",
     "text": [
      "Waiting 1\n"
     ]
    },
    {
     "name": "stderr",
     "output_type": "stream",
     "text": [
      "  0%|          | 0/1440 [00:00<?, ?it/s]IMAGEIO FFMPEG_WRITER WARNING: input image is not divisible by macro_block_size=16, resizing from (1500, 500) to (1504, 512) to ensure video compatibility with most codecs and players. To prevent resizing, make your input image divisible by the macro_block_size or set the macro_block_size to 1 (risking incompatibility).\n",
      "[swscaler @ 0x6a47900] Warning: data is not aligned! This can lead to a speed loss\n",
      "100%|██████████| 1440/1440 [00:46<00:00, 31.20it/s]\n"
     ]
    },
    {
     "name": "stdout",
     "output_type": "stream",
     "text": [
      "Photo 1\n"
     ]
    },
    {
     "name": "stderr",
     "output_type": "stream",
     "text": [
      "  0%|          | 0/1074 [00:00<?, ?it/s]IMAGEIO FFMPEG_WRITER WARNING: input image is not divisible by macro_block_size=16, resizing from (1500, 500) to (1504, 512) to ensure video compatibility with most codecs and players. To prevent resizing, make your input image divisible by the macro_block_size or set the macro_block_size to 1 (risking incompatibility).\n",
      "[swscaler @ 0x55db900] Warning: data is not aligned! This can lead to a speed loss\n",
      "100%|██████████| 1074/1074 [00:34<00:00, 31.15it/s]\n"
     ]
    },
    {
     "name": "stdout",
     "output_type": "stream",
     "text": [
      "Smoking\n"
     ]
    },
    {
     "name": "stderr",
     "output_type": "stream",
     "text": [
      "  0%|          | 0/2478 [00:00<?, ?it/s]IMAGEIO FFMPEG_WRITER WARNING: input image is not divisible by macro_block_size=16, resizing from (1500, 500) to (1504, 512) to ensure video compatibility with most codecs and players. To prevent resizing, make your input image divisible by the macro_block_size or set the macro_block_size to 1 (risking incompatibility).\n",
      "[swscaler @ 0x691f900] Warning: data is not aligned! This can lead to a speed loss\n",
      "100%|██████████| 2478/2478 [01:25<00:00, 28.87it/s]\n"
     ]
    },
    {
     "name": "stdout",
     "output_type": "stream",
     "text": [
      "Eating 2\n"
     ]
    },
    {
     "name": "stderr",
     "output_type": "stream",
     "text": [
      "  0%|          | 0/2357 [00:00<?, ?it/s]IMAGEIO FFMPEG_WRITER WARNING: input image is not divisible by macro_block_size=16, resizing from (1500, 500) to (1504, 512) to ensure video compatibility with most codecs and players. To prevent resizing, make your input image divisible by the macro_block_size or set the macro_block_size to 1 (risking incompatibility).\n",
      "[swscaler @ 0x6326900] Warning: data is not aligned! This can lead to a speed loss\n",
      "100%|██████████| 2357/2357 [01:18<00:00, 30.21it/s]\n"
     ]
    },
    {
     "name": "stdout",
     "output_type": "stream",
     "text": [
      "WalkTogether 1\n"
     ]
    },
    {
     "name": "stderr",
     "output_type": "stream",
     "text": [
      "  0%|          | 0/1275 [00:00<?, ?it/s]IMAGEIO FFMPEG_WRITER WARNING: input image is not divisible by macro_block_size=16, resizing from (1500, 500) to (1504, 512) to ensure video compatibility with most codecs and players. To prevent resizing, make your input image divisible by the macro_block_size or set the macro_block_size to 1 (risking incompatibility).\n",
      "[swscaler @ 0x5bcf900] Warning: data is not aligned! This can lead to a speed loss\n",
      "100%|██████████| 1275/1275 [00:42<00:00, 30.04it/s]\n"
     ]
    },
    {
     "name": "stdout",
     "output_type": "stream",
     "text": [
      "Greeting 1\n"
     ]
    },
    {
     "name": "stderr",
     "output_type": "stream",
     "text": [
      "  0%|          | 0/1265 [00:00<?, ?it/s]IMAGEIO FFMPEG_WRITER WARNING: input image is not divisible by macro_block_size=16, resizing from (1500, 500) to (1504, 512) to ensure video compatibility with most codecs and players. To prevent resizing, make your input image divisible by the macro_block_size or set the macro_block_size to 1 (risking incompatibility).\n",
      "[swscaler @ 0x6eaf900] Warning: data is not aligned! This can lead to a speed loss\n",
      "100%|██████████| 1265/1265 [00:42<00:00, 30.06it/s]\n"
     ]
    },
    {
     "name": "stdout",
     "output_type": "stream",
     "text": [
      "Phoning\n"
     ]
    },
    {
     "name": "stderr",
     "output_type": "stream",
     "text": [
      "  0%|          | 0/2266 [00:00<?, ?it/s]IMAGEIO FFMPEG_WRITER WARNING: input image is not divisible by macro_block_size=16, resizing from (1500, 500) to (1504, 512) to ensure video compatibility with most codecs and players. To prevent resizing, make your input image divisible by the macro_block_size or set the macro_block_size to 1 (risking incompatibility).\n",
      "[swscaler @ 0x7437900] Warning: data is not aligned! This can lead to a speed loss\n",
      "100%|██████████| 2266/2266 [01:13<00:00, 30.73it/s]\n"
     ]
    },
    {
     "name": "stdout",
     "output_type": "stream",
     "text": [
      "Phoning 1\n"
     ]
    },
    {
     "name": "stderr",
     "output_type": "stream",
     "text": [
      "  0%|          | 0/2636 [00:00<?, ?it/s]IMAGEIO FFMPEG_WRITER WARNING: input image is not divisible by macro_block_size=16, resizing from (1500, 500) to (1504, 512) to ensure video compatibility with most codecs and players. To prevent resizing, make your input image divisible by the macro_block_size or set the macro_block_size to 1 (risking incompatibility).\n",
      "[swscaler @ 0x622a900] Warning: data is not aligned! This can lead to a speed loss\n",
      "100%|██████████| 2636/2636 [01:24<00:00, 31.08it/s]\n"
     ]
    },
    {
     "name": "stdout",
     "output_type": "stream",
     "text": [
      "Smoking 1\n"
     ]
    },
    {
     "name": "stderr",
     "output_type": "stream",
     "text": [
      "  0%|          | 0/2611 [00:00<?, ?it/s]IMAGEIO FFMPEG_WRITER WARNING: input image is not divisible by macro_block_size=16, resizing from (1500, 500) to (1504, 512) to ensure video compatibility with most codecs and players. To prevent resizing, make your input image divisible by the macro_block_size or set the macro_block_size to 1 (risking incompatibility).\n",
      "[swscaler @ 0x6fe1900] Warning: data is not aligned! This can lead to a speed loss\n",
      "100%|██████████| 2611/2611 [01:25<00:00, 30.65it/s]\n"
     ]
    },
    {
     "name": "stdout",
     "output_type": "stream",
     "text": [
      "Discussion 1\n"
     ]
    },
    {
     "name": "stderr",
     "output_type": "stream",
     "text": [
      "  0%|          | 0/3805 [00:00<?, ?it/s]IMAGEIO FFMPEG_WRITER WARNING: input image is not divisible by macro_block_size=16, resizing from (1500, 500) to (1504, 512) to ensure video compatibility with most codecs and players. To prevent resizing, make your input image divisible by the macro_block_size or set the macro_block_size to 1 (risking incompatibility).\n",
      "[swscaler @ 0x6f72900] Warning: data is not aligned! This can lead to a speed loss\n",
      "100%|██████████| 3805/3805 [02:05<00:00, 30.38it/s]\n"
     ]
    },
    {
     "name": "stdout",
     "output_type": "stream",
     "text": [
      "WalkTogether\n"
     ]
    },
    {
     "name": "stderr",
     "output_type": "stream",
     "text": [
      "  0%|          | 0/1231 [00:00<?, ?it/s]IMAGEIO FFMPEG_WRITER WARNING: input image is not divisible by macro_block_size=16, resizing from (1500, 500) to (1504, 512) to ensure video compatibility with most codecs and players. To prevent resizing, make your input image divisible by the macro_block_size or set the macro_block_size to 1 (risking incompatibility).\n",
      "[swscaler @ 0x6d6a900] Warning: data is not aligned! This can lead to a speed loss\n",
      "100%|██████████| 1231/1231 [00:39<00:00, 31.16it/s]\n"
     ]
    },
    {
     "name": "stdout",
     "output_type": "stream",
     "text": [
      "Sitting 1\n"
     ]
    },
    {
     "name": "stderr",
     "output_type": "stream",
     "text": [
      "  0%|          | 0/3304 [00:00<?, ?it/s]IMAGEIO FFMPEG_WRITER WARNING: input image is not divisible by macro_block_size=16, resizing from (1500, 500) to (1504, 512) to ensure video compatibility with most codecs and players. To prevent resizing, make your input image divisible by the macro_block_size or set the macro_block_size to 1 (risking incompatibility).\n",
      "[swscaler @ 0x67bc900] Warning: data is not aligned! This can lead to a speed loss\n",
      "100%|██████████| 3304/3304 [01:48<00:00, 30.43it/s]\n"
     ]
    },
    {
     "name": "stdout",
     "output_type": "stream",
     "text": [
      "SittingDown\n"
     ]
    },
    {
     "name": "stderr",
     "output_type": "stream",
     "text": [
      "  0%|          | 0/2742 [00:00<?, ?it/s]IMAGEIO FFMPEG_WRITER WARNING: input image is not divisible by macro_block_size=16, resizing from (1500, 500) to (1504, 512) to ensure video compatibility with most codecs and players. To prevent resizing, make your input image divisible by the macro_block_size or set the macro_block_size to 1 (risking incompatibility).\n",
      "  0%|          | 1/2742 [00:00<06:23,  7.14it/s][swscaler @ 0x575d900] Warning: data is not aligned! This can lead to a speed loss\n",
      "100%|██████████| 2742/2742 [01:30<00:00, 30.38it/s]\n"
     ]
    },
    {
     "name": "stdout",
     "output_type": "stream",
     "text": [
      "Directions\n"
     ]
    },
    {
     "name": "stderr",
     "output_type": "stream",
     "text": [
      "  0%|          | 0/1612 [00:00<?, ?it/s]IMAGEIO FFMPEG_WRITER WARNING: input image is not divisible by macro_block_size=16, resizing from (1500, 500) to (1504, 512) to ensure video compatibility with most codecs and players. To prevent resizing, make your input image divisible by the macro_block_size or set the macro_block_size to 1 (risking incompatibility).\n",
      "[swscaler @ 0x5ff8900] Warning: data is not aligned! This can lead to a speed loss\n",
      "100%|██████████| 1612/1612 [00:53<00:00, 30.31it/s]\n"
     ]
    },
    {
     "name": "stdout",
     "output_type": "stream",
     "text": [
      "Directions 1\n"
     ]
    },
    {
     "name": "stderr",
     "output_type": "stream",
     "text": [
      "  0%|          | 0/1383 [00:00<?, ?it/s]IMAGEIO FFMPEG_WRITER WARNING: input image is not divisible by macro_block_size=16, resizing from (1500, 500) to (1504, 512) to ensure video compatibility with most codecs and players. To prevent resizing, make your input image divisible by the macro_block_size or set the macro_block_size to 1 (risking incompatibility).\n",
      "[swscaler @ 0x7209900] Warning: data is not aligned! This can lead to a speed loss\n",
      "100%|██████████| 1383/1383 [00:45<00:00, 30.39it/s]\n"
     ]
    },
    {
     "name": "stdout",
     "output_type": "stream",
     "text": [
      "Purchases\n"
     ]
    },
    {
     "name": "stderr",
     "output_type": "stream",
     "text": [
      "  0%|          | 0/1158 [00:00<?, ?it/s]IMAGEIO FFMPEG_WRITER WARNING: input image is not divisible by macro_block_size=16, resizing from (1500, 500) to (1504, 512) to ensure video compatibility with most codecs and players. To prevent resizing, make your input image divisible by the macro_block_size or set the macro_block_size to 1 (risking incompatibility).\n",
      "[swscaler @ 0x60ed900] Warning: data is not aligned! This can lead to a speed loss\n",
      "100%|██████████| 1158/1158 [00:37<00:00, 30.86it/s]\n"
     ]
    },
    {
     "name": "stdout",
     "output_type": "stream",
     "text": [
      "SittingDown 2\n"
     ]
    },
    {
     "name": "stderr",
     "output_type": "stream",
     "text": [
      "  0%|          | 0/3023 [00:00<?, ?it/s]IMAGEIO FFMPEG_WRITER WARNING: input image is not divisible by macro_block_size=16, resizing from (1500, 500) to (1504, 512) to ensure video compatibility with most codecs and players. To prevent resizing, make your input image divisible by the macro_block_size or set the macro_block_size to 1 (risking incompatibility).\n",
      "[swscaler @ 0x6f02900] Warning: data is not aligned! This can lead to a speed loss\n",
      "100%|██████████| 3023/3023 [01:39<00:00, 30.39it/s]\n"
     ]
    },
    {
     "name": "stdout",
     "output_type": "stream",
     "text": [
      "Walking 1\n"
     ]
    },
    {
     "name": "stderr",
     "output_type": "stream",
     "text": [
      "  0%|          | 0/3476 [00:00<?, ?it/s]IMAGEIO FFMPEG_WRITER WARNING: input image is not divisible by macro_block_size=16, resizing from (1500, 500) to (1504, 512) to ensure video compatibility with most codecs and players. To prevent resizing, make your input image divisible by the macro_block_size or set the macro_block_size to 1 (risking incompatibility).\n",
      "[swscaler @ 0x572b900] Warning: data is not aligned! This can lead to a speed loss\n",
      "100%|██████████| 3476/3476 [01:52<00:00, 31.00it/s]\n"
     ]
    },
    {
     "name": "stdout",
     "output_type": "stream",
     "text": [
      "WalkDog 1\n"
     ]
    },
    {
     "name": "stderr",
     "output_type": "stream",
     "text": [
      "  0%|          | 0/1662 [00:00<?, ?it/s]IMAGEIO FFMPEG_WRITER WARNING: input image is not divisible by macro_block_size=16, resizing from (1500, 500) to (1504, 512) to ensure video compatibility with most codecs and players. To prevent resizing, make your input image divisible by the macro_block_size or set the macro_block_size to 1 (risking incompatibility).\n",
      "[swscaler @ 0x5dcf900] Warning: data is not aligned! This can lead to a speed loss\n",
      "100%|██████████| 1662/1662 [00:54<00:00, 30.64it/s]\n"
     ]
    },
    {
     "name": "stdout",
     "output_type": "stream",
     "text": [
      "Waiting\n"
     ]
    },
    {
     "name": "stderr",
     "output_type": "stream",
     "text": [
      "  0%|          | 0/1792 [00:00<?, ?it/s]IMAGEIO FFMPEG_WRITER WARNING: input image is not divisible by macro_block_size=16, resizing from (1500, 500) to (1504, 512) to ensure video compatibility with most codecs and players. To prevent resizing, make your input image divisible by the macro_block_size or set the macro_block_size to 1 (risking incompatibility).\n",
      "[swscaler @ 0x67e3900] Warning: data is not aligned! This can lead to a speed loss\n",
      "100%|██████████| 1792/1792 [00:59<00:00, 30.28it/s]\n"
     ]
    },
    {
     "name": "stdout",
     "output_type": "stream",
     "text": [
      "Walking\n"
     ]
    },
    {
     "name": "stderr",
     "output_type": "stream",
     "text": [
      "  0%|          | 0/3134 [00:00<?, ?it/s]IMAGEIO FFMPEG_WRITER WARNING: input image is not divisible by macro_block_size=16, resizing from (1500, 500) to (1504, 512) to ensure video compatibility with most codecs and players. To prevent resizing, make your input image divisible by the macro_block_size or set the macro_block_size to 1 (risking incompatibility).\n",
      "[swscaler @ 0x5c65900] Warning: data is not aligned! This can lead to a speed loss\n",
      "100%|██████████| 3134/3134 [01:41<00:00, 30.92it/s]\n"
     ]
    },
    {
     "name": "stdout",
     "output_type": "stream",
     "text": [
      "Discussion\n"
     ]
    },
    {
     "name": "stderr",
     "output_type": "stream",
     "text": [
      "  0%|          | 0/3852 [00:00<?, ?it/s]IMAGEIO FFMPEG_WRITER WARNING: input image is not divisible by macro_block_size=16, resizing from (1500, 500) to (1504, 512) to ensure video compatibility with most codecs and players. To prevent resizing, make your input image divisible by the macro_block_size or set the macro_block_size to 1 (risking incompatibility).\n",
      "[swscaler @ 0x7216900] Warning: data is not aligned! This can lead to a speed loss\n",
      "100%|██████████| 3852/3852 [02:05<00:00, 30.78it/s]\n"
     ]
    },
    {
     "name": "stdout",
     "output_type": "stream",
     "text": [
      "Eating\n"
     ]
    },
    {
     "name": "stderr",
     "output_type": "stream",
     "text": [
      "  0%|          | 0/2721 [00:00<?, ?it/s]IMAGEIO FFMPEG_WRITER WARNING: input image is not divisible by macro_block_size=16, resizing from (1500, 500) to (1504, 512) to ensure video compatibility with most codecs and players. To prevent resizing, make your input image divisible by the macro_block_size or set the macro_block_size to 1 (risking incompatibility).\n",
      "  0%|          | 1/2721 [00:00<06:41,  6.77it/s][swscaler @ 0x6059900] Warning: data is not aligned! This can lead to a speed loss\n",
      "100%|██████████| 2721/2721 [01:27<00:00, 31.08it/s]\n"
     ]
    },
    {
     "name": "stdout",
     "output_type": "stream",
     "text": [
      "Posing\n"
     ]
    },
    {
     "name": "stderr",
     "output_type": "stream",
     "text": [
      "  0%|          | 0/992 [00:00<?, ?it/s]IMAGEIO FFMPEG_WRITER WARNING: input image is not divisible by macro_block_size=16, resizing from (1500, 500) to (1504, 512) to ensure video compatibility with most codecs and players. To prevent resizing, make your input image divisible by the macro_block_size or set the macro_block_size to 1 (risking incompatibility).\n",
      "  0%|          | 1/992 [00:00<02:32,  6.50it/s][swscaler @ 0x5b69900] Warning: data is not aligned! This can lead to a speed loss\n",
      "100%|██████████| 992/992 [00:32<00:00, 30.27it/s]\n"
     ]
    },
    {
     "name": "stdout",
     "output_type": "stream",
     "text": [
      "Greeting\n"
     ]
    },
    {
     "name": "stderr",
     "output_type": "stream",
     "text": [
      "  0%|          | 0/1149 [00:00<?, ?it/s]IMAGEIO FFMPEG_WRITER WARNING: input image is not divisible by macro_block_size=16, resizing from (1500, 500) to (1504, 512) to ensure video compatibility with most codecs and players. To prevent resizing, make your input image divisible by the macro_block_size or set the macro_block_size to 1 (risking incompatibility).\n",
      "[swscaler @ 0x5f36900] Warning: data is not aligned! This can lead to a speed loss\n",
      "100%|██████████| 1149/1149 [00:37<00:00, 30.95it/s]\n"
     ]
    },
    {
     "name": "stdout",
     "output_type": "stream",
     "text": [
      "Posing 1\n"
     ]
    },
    {
     "name": "stderr",
     "output_type": "stream",
     "text": [
      "  0%|          | 0/1167 [00:00<?, ?it/s]IMAGEIO FFMPEG_WRITER WARNING: input image is not divisible by macro_block_size=16, resizing from (1500, 500) to (1504, 512) to ensure video compatibility with most codecs and players. To prevent resizing, make your input image divisible by the macro_block_size or set the macro_block_size to 1 (risking incompatibility).\n",
      "[swscaler @ 0x6aa7900] Warning: data is not aligned! This can lead to a speed loss\n",
      "100%|██████████| 1167/1167 [00:38<00:00, 30.45it/s]\n"
     ]
    },
    {
     "name": "stdout",
     "output_type": "stream",
     "text": [
      "WalkDog\n"
     ]
    },
    {
     "name": "stderr",
     "output_type": "stream",
     "text": [
      "  0%|          | 0/1777 [00:00<?, ?it/s]IMAGEIO FFMPEG_WRITER WARNING: input image is not divisible by macro_block_size=16, resizing from (1500, 500) to (1504, 512) to ensure video compatibility with most codecs and players. To prevent resizing, make your input image divisible by the macro_block_size or set the macro_block_size to 1 (risking incompatibility).\n",
      "[swscaler @ 0x5648900] Warning: data is not aligned! This can lead to a speed loss\n",
      "100%|██████████| 1777/1777 [00:58<00:00, 30.31it/s]\n"
     ]
    },
    {
     "name": "stdout",
     "output_type": "stream",
     "text": [
      "Photo\n"
     ]
    },
    {
     "name": "stderr",
     "output_type": "stream",
     "text": [
      "  0%|          | 0/1036 [00:00<?, ?it/s]IMAGEIO FFMPEG_WRITER WARNING: input image is not divisible by macro_block_size=16, resizing from (1500, 500) to (1504, 512) to ensure video compatibility with most codecs and players. To prevent resizing, make your input image divisible by the macro_block_size or set the macro_block_size to 1 (risking incompatibility).\n",
      "[swscaler @ 0x5e28900] Warning: data is not aligned! This can lead to a speed loss\n",
      "100%|██████████| 1036/1036 [00:34<00:00, 30.45it/s]\n"
     ]
    },
    {
     "name": "stdout",
     "output_type": "stream",
     "text": [
      "Purchases 1\n"
     ]
    },
    {
     "name": "stderr",
     "output_type": "stream",
     "text": [
      "  0%|          | 0/1064 [00:00<?, ?it/s]IMAGEIO FFMPEG_WRITER WARNING: input image is not divisible by macro_block_size=16, resizing from (1500, 500) to (1504, 512) to ensure video compatibility with most codecs and players. To prevent resizing, make your input image divisible by the macro_block_size or set the macro_block_size to 1 (risking incompatibility).\n",
      "[swscaler @ 0x734f900] Warning: data is not aligned! This can lead to a speed loss\n",
      "100%|██████████| 1064/1064 [00:34<00:00, 30.67it/s]\n"
     ]
    },
    {
     "name": "stdout",
     "output_type": "stream",
     "text": [
      "Sitting 2\n"
     ]
    },
    {
     "name": "stderr",
     "output_type": "stream",
     "text": [
      "  0%|          | 0/2612 [00:00<?, ?it/s]IMAGEIO FFMPEG_WRITER WARNING: input image is not divisible by macro_block_size=16, resizing from (1500, 500) to (1504, 512) to ensure video compatibility with most codecs and players. To prevent resizing, make your input image divisible by the macro_block_size or set the macro_block_size to 1 (risking incompatibility).\n",
      "[swscaler @ 0x5f12900] Warning: data is not aligned! This can lead to a speed loss\n",
      "100%|██████████| 2612/2612 [01:24<00:00, 31.06it/s]\n"
     ]
    },
    {
     "data": {
      "image/png": "[encoded data removed]",
      "text/plain": [
       "<Figure size 1500x500 with 5 Axes>"
      ]
     },
     "metadata": {},
     "output_type": "display_data"
    }
   ],
   "source": [
    "subject = 'S1'\n",
    "for action in h36m_3d_world._data[subject].keys():\n",
    "    print(action)\n",
    "    camera_id = '54138969'\n",
    "    \n",
    "    target_video = f'{subject}_{action}_{camera_id}'\n",
    "\n",
    "    pose3d_list = h36m_3d_world._data[subject][action]['positions'].copy()\n",
    "    length = len(pose3d_list)\n",
    "    calibration_matrix, camera_param, H, W, fx, fy, cx, cy = get_h36m_camera_info(subject, action, camera_id)\n",
    "\n",
    "    pose_2d_list, cam_3d_list, img_3d_list, img_3d_hat_list, img_25d_list, scale_list = data_processing(pose3d_list.copy(), camera_param, fx, fy, cx, cy, length=length)\n",
    "    pose_2d_list = normalize_input(pose_2d_list, 1000, 1000)\n",
    "    pose_2d_list = torch.tensor(pose_2d_list).cuda().unsqueeze(0)\n",
    "    cam_3d_list = torch.tensor(cam_3d_list).cuda().unsqueeze(0)\n",
    "    img_3d_list = torch.tensor(img_3d_list).cuda().unsqueeze(0)\n",
    "    img_3d_hat_list = torch.tensor(img_3d_hat_list).cuda().unsqueeze(0)\n",
    "    img_25d_list = torch.tensor(img_25d_list).cuda().unsqueeze(0)\n",
    "\n",
    "    # original\n",
    "    batch_input = pose_2d_list.clone()[:, :, :, :2]\n",
    "    # root centered\n",
    "    root_centered = batch_input.clone() - batch_input[:, :, 0:1]\n",
    "    # scaled by euclidean\n",
    "    scaled_by_frobenius = batch_input.clone()\n",
    "    scaled_by_frobenius_denormalized = batch_input.clone()\n",
    "    scaled_by_frobenius_denormalized[:, :, :, :2] = (scaled_by_frobenius_denormalized[:, :, :, :2] + torch.tensor([1, 1]).cuda()) * 1000 / 2\n",
    "    scaled_by_frobenius = scaled_by_frobenius - scaled_by_frobenius[:, :, 0:1]\n",
    "    scaled_by_frobenius_denormalized = scaled_by_frobenius - scaled_by_frobenius[:, :, 0:1]\n",
    "    scale = torch.norm(scaled_by_frobenius.reshape(-1, 34), dim=1, keepdim=True)\n",
    "    scale_denormalized = torch.norm(scaled_by_frobenius_denormalized.reshape(-1, 34), dim=1, keepdim=True)\n",
    "    scaled_by_frobenius = (scaled_by_frobenius.reshape(-1, 34) / scale).reshape(1, -1, 17, 2)\n",
    "    scaled_by_frobenius_denormalized = (scaled_by_frobenius_denormalized.reshape(-1, 34) / scale).reshape(1, -1, 17, 2)\n",
    "    # scaled by each height\n",
    "    batch_height = root_centered[:, :, :, 1].max(dim=-1).values - root_centered[:, :, :, 1].min(dim=-1).values\n",
    "    batch_ratio = torch.ones_like(batch_height) / batch_height\n",
    "    scaled_by_each_height = root_centered.clone() * batch_ratio.unsqueeze(-1).unsqueeze(-1)\n",
    "    # scaled by first height\n",
    "    first_height = batch_height.max()\n",
    "    ratio = torch.ones_like(first_height) / first_height\n",
    "    scaled_by_fixed_height = root_centered.clone() * ratio.unsqueeze(-1).unsqueeze(-1)\n",
    "\n",
    "    original_input = batch_input.cpu().detach().numpy()\n",
    "    canonical_input1 = root_centered.clone().cpu().detach().numpy()\n",
    "    canonical_input2 = scaled_by_frobenius.clone().cpu().detach().numpy()\n",
    "    canonical_input3 = scaled_by_each_height.clone().cpu().detach().numpy()\n",
    "    canonical_input4 = scaled_by_fixed_height.clone().cpu().detach().numpy()\n",
    "    canonical_input5 = scaled_by_frobenius_denormalized.clone().cpu().detach().numpy()\n",
    "\n",
    "    height_original = get_pose_height(original_input)[0]\n",
    "    height_canonical1 = get_pose_height(canonical_input1)[0]\n",
    "    height_canonical2 = get_pose_height(canonical_input2)[0]\n",
    "    height_canonical3 = get_pose_height(canonical_input3)[0]\n",
    "    height_canonical4 = get_pose_height(canonical_input4)[0]\n",
    "\n",
    "    # save video\n",
    "    batch_num = 0\n",
    "\n",
    "    %matplotlib inline\n",
    "    fig = plt.figure(0, figsize=(15, 5))\n",
    "    fig.clear()\n",
    "    axd = fig.subplot_mosaic(\n",
    "        \"\"\"\n",
    "        ABCDE\n",
    "        FFFFF\n",
    "        \"\"\",\n",
    "        #per_subplot_kw={('A'): {'projection': '3d'}}\n",
    "    )\n",
    "\n",
    "    axA = axes_2d(ax=axd['A'], normalize=True, show_axis=False)\n",
    "    axB = axes_2d(ax=axd['B'], normalize=True, show_axis=False)\n",
    "    axC = axes_2d(ax=axd['C'], normalize=True, show_axis=False)\n",
    "    axD = axes_2d(ax=axd['D'], normalize=True, show_axis=False)\n",
    "    axE = axes_2d(ax=axd['E'], normalize=True, show_axis=False)\n",
    "    axF = axd['F']\n",
    "    axF.set_xlim(0, len(pose_2d_list[0]))\n",
    "    axF.set_ylim(0, 1.5)\n",
    "\n",
    "    axA.set_title('Original')\n",
    "    axB.set_title('Root centered')\n",
    "    axC.set_title('Root centered + \\n scaled (Euclidean norm)')\n",
    "    axD.set_title('Root centered + \\n scaled (each frame height)')\n",
    "    axE.set_title('Root centered + \\n scaled (first height)')\n",
    "    axF.set_title('height plot')\n",
    "\n",
    "    videowriter = imageio.get_writer(f'/home/hrai/codes/MotionBERT/custom_codes/Canonical/compare_input_type_{subject}_{action}_{camera_id}.mp4', fps=30)\n",
    "    for frame_num in tqdm(range(length)):\n",
    "        clear_axes([axA, axB, axC, axD, axE, axF])\n",
    "        draw_2d_pose(axA, original_input[batch_num, frame_num], normalize=True)\n",
    "        draw_2d_pose(axB, canonical_input1[batch_num, frame_num], normalize=True)\n",
    "        draw_2d_pose(axC, canonical_input2[batch_num, frame_num], normalize=True)\n",
    "        draw_2d_pose(axD, canonical_input3[batch_num, frame_num], normalize=True)\n",
    "        draw_2d_pose(axE, canonical_input4[batch_num, frame_num], normalize=True)\n",
    "\n",
    "        axF.plot(height_original[:frame_num], 'k--', label='Original')\n",
    "        axF.plot(height_canonical1[:frame_num], 'r', label='Root centered')\n",
    "        axF.plot(height_canonical2[:frame_num], 'g', label='Root centered + scaled (Euclidean norm)')\n",
    "        axF.plot(height_canonical3[:frame_num], 'b', label='Root centered + scaled (each frame height)')\n",
    "        axF.plot(height_canonical4[:frame_num], 'm', label='Root centered + scaled (first height)')\n",
    "        axF.legend(loc='upper right', fontsize=7)\n",
    "        \n",
    "        canvas = FigureCanvas(fig)\n",
    "        canvas.draw()\n",
    "        image_from_plot = np.array(canvas.renderer._renderer)\n",
    "        image_from_plot = cv2.cvtColor(image_from_plot, cv2.COLOR_RGB2BGR)       \n",
    "        videowriter.append_data(image_from_plot)\n",
    "    videowriter.close()"
   ]
  },
  {
   "cell_type": "code",
   "execution_count": 28,
   "metadata": {},
   "outputs": [
    {
     "name": "stdout",
     "output_type": "stream",
     "text": [
      "/home/hrai/codes/MotionBERT/data/motion3d/h36m_gt_pkl/S1_54138969_Walking.pkl\n",
      "S1 Walking 54138969\n"
     ]
    },
    {
     "name": "stderr",
     "output_type": "stream",
     "text": [
      "  0%|          | 0/627 [00:00<?, ?it/s]IMAGEIO FFMPEG_WRITER WARNING: input image is not divisible by macro_block_size=16, resizing from (1500, 500) to (1504, 512) to ensure video compatibility with most codecs and players. To prevent resizing, make your input image divisible by the macro_block_size or set the macro_block_size to 1 (risking incompatibility).\n",
      "[swscaler @ 0x5831900] Warning: data is not aligned! This can lead to a speed loss\n",
      "100%|██████████| 627/627 [00:36<00:00, 17.31it/s]\n"
     ]
    },
    {
     "name": "stdout",
     "output_type": "stream",
     "text": [
      "/home/hrai/codes/MotionBERT/data/motion3d/h36m_gt_pkl/S7_55011271_WalkTogether 1.pkl\n",
      "S7 WalkTogether 1 55011271\n",
      "/home/hrai/codes/MotionBERT/data/motion3d/h36m_gt_pkl/S9_60457274_Photo 1.pkl\n",
      "S9 Photo 1 60457274\n",
      "/home/hrai/codes/MotionBERT/data/motion3d/h36m_gt_pkl/S11_58860488_Waiting.pkl\n",
      "S11 Waiting 58860488\n",
      "/home/hrai/codes/MotionBERT/data/motion3d/h36m_gt_pkl/S1_58860488_Directions.pkl\n",
      "S1 Directions 58860488\n"
     ]
    },
    {
     "name": "stderr",
     "output_type": "stream",
     "text": [
      "  0%|          | 0/323 [00:00<?, ?it/s]IMAGEIO FFMPEG_WRITER WARNING: input image is not divisible by macro_block_size=16, resizing from (1500, 500) to (1504, 512) to ensure video compatibility with most codecs and players. To prevent resizing, make your input image divisible by the macro_block_size or set the macro_block_size to 1 (risking incompatibility).\n",
      "[swscaler @ 0x6169900] Warning: data is not aligned! This can lead to a speed loss\n",
      "100%|██████████| 323/323 [00:18<00:00, 17.32it/s]\n"
     ]
    },
    {
     "name": "stdout",
     "output_type": "stream",
     "text": [
      "/home/hrai/codes/MotionBERT/data/motion3d/h36m_gt_pkl/S11_60457274_Posing 1.pkl\n",
      "S11 Posing 1 60457274\n",
      "/home/hrai/codes/MotionBERT/data/motion3d/h36m_gt_pkl/S11_60457274_SittingDown 1.pkl\n",
      "S11 SittingDown 1 60457274\n",
      "/home/hrai/codes/MotionBERT/data/motion3d/h36m_gt_pkl/S7_54138969_Smoking.pkl\n",
      "S7 Smoking 54138969\n",
      "/home/hrai/codes/MotionBERT/data/motion3d/h36m_gt_pkl/S5_55011271_WalkTogether.pkl\n",
      "S5 WalkTogether 55011271\n",
      "/home/hrai/codes/MotionBERT/data/motion3d/h36m_gt_pkl/S1_58860488_Phoning.pkl\n",
      "S1 Phoning 58860488\n"
     ]
    },
    {
     "name": "stderr",
     "output_type": "stream",
     "text": [
      "  0%|          | 0/454 [00:00<?, ?it/s]IMAGEIO FFMPEG_WRITER WARNING: input image is not divisible by macro_block_size=16, resizing from (1500, 500) to (1504, 512) to ensure video compatibility with most codecs and players. To prevent resizing, make your input image divisible by the macro_block_size or set the macro_block_size to 1 (risking incompatibility).\n",
      "[swscaler @ 0x706a900] Warning: data is not aligned! This can lead to a speed loss\n",
      "100%|██████████| 454/454 [00:26<00:00, 17.00it/s]\n"
     ]
    },
    {
     "name": "stdout",
     "output_type": "stream",
     "text": [
      "/home/hrai/codes/MotionBERT/data/motion3d/h36m_gt_pkl/S8_54138969_Purchases 1.pkl\n",
      "S8 Purchases 1 54138969\n",
      "/home/hrai/codes/MotionBERT/data/motion3d/h36m_gt_pkl/S8_58860488_Photo 1.pkl\n",
      "S8 Photo 1 58860488\n",
      "/home/hrai/codes/MotionBERT/data/motion3d/h36m_gt_pkl/S6_60457274_Discussion 1.pkl\n",
      "S6 Discussion 1 60457274\n",
      "/home/hrai/codes/MotionBERT/data/motion3d/h36m_gt_pkl/S6_58860488_Eating 1.pkl\n",
      "S6 Eating 1 58860488\n",
      "/home/hrai/codes/MotionBERT/data/motion3d/h36m_gt_pkl/S11_58860488_Sitting 1.pkl\n",
      "S11 Sitting 1 58860488\n",
      "/home/hrai/codes/MotionBERT/data/motion3d/h36m_gt_pkl/S1_58860488_Smoking.pkl\n",
      "S1 Smoking 58860488\n"
     ]
    },
    {
     "name": "stderr",
     "output_type": "stream",
     "text": [
      "  0%|          | 0/496 [00:00<?, ?it/s]IMAGEIO FFMPEG_WRITER WARNING: input image is not divisible by macro_block_size=16, resizing from (1500, 500) to (1504, 512) to ensure video compatibility with most codecs and players. To prevent resizing, make your input image divisible by the macro_block_size or set the macro_block_size to 1 (risking incompatibility).\n",
      "[swscaler @ 0x740d900] Warning: data is not aligned! This can lead to a speed loss\n",
      "100%|██████████| 496/496 [00:28<00:00, 17.19it/s]\n"
     ]
    },
    {
     "name": "stdout",
     "output_type": "stream",
     "text": [
      "/home/hrai/codes/MotionBERT/data/motion3d/h36m_gt_pkl/S9_55011271_Greeting 1.pkl\n",
      "S9 Greeting 1 55011271\n",
      "/home/hrai/codes/MotionBERT/data/motion3d/h36m_gt_pkl/S5_58860488_Discussion 2.pkl\n",
      "S5 Discussion 2 58860488\n",
      "/home/hrai/codes/MotionBERT/data/motion3d/h36m_gt_pkl/S1_58860488_Sitting 2.pkl\n",
      "S1 Sitting 2 58860488\n"
     ]
    },
    {
     "name": "stderr",
     "output_type": "stream",
     "text": [
      "  0%|          | 0/523 [00:00<?, ?it/s]IMAGEIO FFMPEG_WRITER WARNING: input image is not divisible by macro_block_size=16, resizing from (1500, 500) to (1504, 512) to ensure video compatibility with most codecs and players. To prevent resizing, make your input image divisible by the macro_block_size or set the macro_block_size to 1 (risking incompatibility).\n",
      "[swscaler @ 0x6266900] Warning: data is not aligned! This can lead to a speed loss\n",
      "100%|██████████| 523/523 [00:30<00:00, 17.06it/s]\n"
     ]
    },
    {
     "name": "stdout",
     "output_type": "stream",
     "text": [
      "/home/hrai/codes/MotionBERT/data/motion3d/h36m_gt_pkl/S1_58860488_SittingDown 2.pkl\n",
      "S1 SittingDown 2 58860488\n"
     ]
    },
    {
     "name": "stderr",
     "output_type": "stream",
     "text": [
      "  0%|          | 0/605 [00:00<?, ?it/s]IMAGEIO FFMPEG_WRITER WARNING: input image is not divisible by macro_block_size=16, resizing from (1500, 500) to (1504, 512) to ensure video compatibility with most codecs and players. To prevent resizing, make your input image divisible by the macro_block_size or set the macro_block_size to 1 (risking incompatibility).\n",
      "[swscaler @ 0x73e4900] Warning: data is not aligned! This can lead to a speed loss\n",
      "100%|██████████| 605/605 [00:35<00:00, 17.06it/s]\n"
     ]
    },
    {
     "name": "stdout",
     "output_type": "stream",
     "text": [
      "/home/hrai/codes/MotionBERT/data/motion3d/h36m_gt_pkl/S9_54138969_Sitting.pkl\n",
      "S9 Sitting 54138969\n",
      "/home/hrai/codes/MotionBERT/data/motion3d/h36m_gt_pkl/S6_60457274_Photo.pkl\n",
      "S6 Photo 60457274\n",
      "/home/hrai/codes/MotionBERT/data/motion3d/h36m_gt_pkl/S9_54138969_Directions.pkl\n",
      "S9 Directions 54138969\n",
      "/home/hrai/codes/MotionBERT/data/motion3d/h36m_gt_pkl/S1_60457274_Walking 1.pkl\n",
      "S1 Walking 1 60457274\n"
     ]
    },
    {
     "name": "stderr",
     "output_type": "stream",
     "text": [
      "  0%|          | 0/696 [00:00<?, ?it/s]IMAGEIO FFMPEG_WRITER WARNING: input image is not divisible by macro_block_size=16, resizing from (1500, 500) to (1504, 512) to ensure video compatibility with most codecs and players. To prevent resizing, make your input image divisible by the macro_block_size or set the macro_block_size to 1 (risking incompatibility).\n",
      "[swscaler @ 0x70d7900] Warning: data is not aligned! This can lead to a speed loss\n",
      "100%|██████████| 696/696 [00:40<00:00, 17.32it/s]\n"
     ]
    },
    {
     "name": "stdout",
     "output_type": "stream",
     "text": [
      "/home/hrai/codes/MotionBERT/data/motion3d/h36m_gt_pkl/S9_60457274_Waiting.pkl\n",
      "S9 Waiting 60457274\n",
      "/home/hrai/codes/MotionBERT/data/motion3d/h36m_gt_pkl/S6_54138969_Waiting 3.pkl\n",
      "S6 Waiting 3 54138969\n",
      "/home/hrai/codes/MotionBERT/data/motion3d/h36m_gt_pkl/S6_55011271_WalkDog 1.pkl\n",
      "S6 WalkDog 1 55011271\n",
      "/home/hrai/codes/MotionBERT/data/motion3d/h36m_gt_pkl/S11_55011271_WalkDog.pkl\n",
      "S11 WalkDog 55011271\n",
      "/home/hrai/codes/MotionBERT/data/motion3d/h36m_gt_pkl/S9_54138969_Posing 1.pkl\n",
      "S9 Posing 1 54138969\n",
      "/home/hrai/codes/MotionBERT/data/motion3d/h36m_gt_pkl/S8_60457274_Sitting.pkl\n",
      "S8 Sitting 60457274\n",
      "/home/hrai/codes/MotionBERT/data/motion3d/h36m_gt_pkl/S5_58860488_Waiting 1.pkl\n",
      "S5 Waiting 1 58860488\n",
      "/home/hrai/codes/MotionBERT/data/motion3d/h36m_gt_pkl/S8_54138969_Sitting 1.pkl\n",
      "S8 Sitting 1 54138969\n",
      "/home/hrai/codes/MotionBERT/data/motion3d/h36m_gt_pkl/S7_55011271_WalkTogether.pkl\n",
      "S7 WalkTogether 55011271\n",
      "/home/hrai/codes/MotionBERT/data/motion3d/h36m_gt_pkl/S1_55011271_WalkDog 1.pkl\n",
      "S1 WalkDog 1 55011271\n"
     ]
    },
    {
     "name": "stderr",
     "output_type": "stream",
     "text": [
      "  0%|          | 0/333 [00:00<?, ?it/s]IMAGEIO FFMPEG_WRITER WARNING: input image is not divisible by macro_block_size=16, resizing from (1500, 500) to (1504, 512) to ensure video compatibility with most codecs and players. To prevent resizing, make your input image divisible by the macro_block_size or set the macro_block_size to 1 (risking incompatibility).\n",
      "[swscaler @ 0x72da900] Warning: data is not aligned! This can lead to a speed loss\n",
      "100%|██████████| 333/333 [00:19<00:00, 16.69it/s]\n"
     ]
    },
    {
     "name": "stdout",
     "output_type": "stream",
     "text": [
      "/home/hrai/codes/MotionBERT/data/motion3d/h36m_gt_pkl/S6_58860488_Waiting 3.pkl\n",
      "S6 Waiting 3 58860488\n",
      "/home/hrai/codes/MotionBERT/data/motion3d/h36m_gt_pkl/S1_58860488_Discussion.pkl\n",
      "S1 Discussion 58860488\n"
     ]
    },
    {
     "name": "stderr",
     "output_type": "stream",
     "text": [
      "  0%|          | 0/771 [00:00<?, ?it/s]IMAGEIO FFMPEG_WRITER WARNING: input image is not divisible by macro_block_size=16, resizing from (1500, 500) to (1504, 512) to ensure video compatibility with most codecs and players. To prevent resizing, make your input image divisible by the macro_block_size or set the macro_block_size to 1 (risking incompatibility).\n",
      "[swscaler @ 0x5a06900] Warning: data is not aligned! This can lead to a speed loss\n",
      "100%|██████████| 771/771 [00:45<00:00, 17.11it/s]\n"
     ]
    },
    {
     "name": "stdout",
     "output_type": "stream",
     "text": [
      "/home/hrai/codes/MotionBERT/data/motion3d/h36m_gt_pkl/S1_55011271_Purchases.pkl\n",
      "S1 Purchases 55011271\n"
     ]
    },
    {
     "name": "stderr",
     "output_type": "stream",
     "text": [
      "  0%|          | 0/232 [00:00<?, ?it/s]IMAGEIO FFMPEG_WRITER WARNING: input image is not divisible by macro_block_size=16, resizing from (1500, 500) to (1504, 512) to ensure video compatibility with most codecs and players. To prevent resizing, make your input image divisible by the macro_block_size or set the macro_block_size to 1 (risking incompatibility).\n",
      "[swscaler @ 0x73e2900] Warning: data is not aligned! This can lead to a speed loss\n",
      "100%|██████████| 232/232 [00:13<00:00, 16.80it/s]\n"
     ]
    },
    {
     "name": "stdout",
     "output_type": "stream",
     "text": [
      "/home/hrai/codes/MotionBERT/data/motion3d/h36m_gt_pkl/S8_55011271_Greeting 1.pkl\n",
      "S8 Greeting 1 55011271\n",
      "/home/hrai/codes/MotionBERT/data/motion3d/h36m_gt_pkl/S7_54138969_Sitting 1.pkl\n",
      "S7 Sitting 1 54138969\n",
      "/home/hrai/codes/MotionBERT/data/motion3d/h36m_gt_pkl/S8_58860488_Phoning 1.pkl\n",
      "S8 Phoning 1 58860488\n",
      "/home/hrai/codes/MotionBERT/data/motion3d/h36m_gt_pkl/S1_55011271_Sitting 2.pkl\n",
      "S1 Sitting 2 55011271\n"
     ]
    },
    {
     "name": "stderr",
     "output_type": "stream",
     "text": [
      "  0%|          | 0/523 [00:00<?, ?it/s]IMAGEIO FFMPEG_WRITER WARNING: input image is not divisible by macro_block_size=16, resizing from (1500, 500) to (1504, 512) to ensure video compatibility with most codecs and players. To prevent resizing, make your input image divisible by the macro_block_size or set the macro_block_size to 1 (risking incompatibility).\n",
      "[swscaler @ 0x65d6900] Warning: data is not aligned! This can lead to a speed loss\n",
      "100%|██████████| 523/523 [00:30<00:00, 17.10it/s]\n"
     ]
    },
    {
     "name": "stdout",
     "output_type": "stream",
     "text": [
      "/home/hrai/codes/MotionBERT/data/motion3d/h36m_gt_pkl/S8_55011271_Waiting.pkl\n",
      "S8 Waiting 55011271\n",
      "/home/hrai/codes/MotionBERT/data/motion3d/h36m_gt_pkl/S1_55011271_Photo.pkl\n",
      "S1 Photo 55011271\n"
     ]
    },
    {
     "name": "stderr",
     "output_type": "stream",
     "text": [
      "  0%|          | 0/208 [00:00<?, ?it/s]IMAGEIO FFMPEG_WRITER WARNING: input image is not divisible by macro_block_size=16, resizing from (1500, 500) to (1504, 512) to ensure video compatibility with most codecs and players. To prevent resizing, make your input image divisible by the macro_block_size or set the macro_block_size to 1 (risking incompatibility).\n",
      "[swscaler @ 0x6c03900] Warning: data is not aligned! This can lead to a speed loss\n",
      "100%|██████████| 208/208 [00:12<00:00, 17.08it/s]\n"
     ]
    },
    {
     "name": "stdout",
     "output_type": "stream",
     "text": [
      "/home/hrai/codes/MotionBERT/data/motion3d/h36m_gt_pkl/S11_58860488_Posing 1.pkl\n",
      "S11 Posing 1 58860488\n",
      "/home/hrai/codes/MotionBERT/data/motion3d/h36m_gt_pkl/S6_60457274_WalkTogether 1.pkl\n",
      "S6 WalkTogether 1 60457274\n",
      "/home/hrai/codes/MotionBERT/data/motion3d/h36m_gt_pkl/S5_55011271_WalkDog 1.pkl\n",
      "S5 WalkDog 1 55011271\n",
      "/home/hrai/codes/MotionBERT/data/motion3d/h36m_gt_pkl/S6_55011271_Walking.pkl\n",
      "S6 Walking 55011271\n",
      "/home/hrai/codes/MotionBERT/data/motion3d/h36m_gt_pkl/S7_60457274_Phoning.pkl\n",
      "S7 Phoning 60457274\n",
      "/home/hrai/codes/MotionBERT/data/motion3d/h36m_gt_pkl/S6_54138969_Posing 2.pkl\n",
      "S6 Posing 2 54138969\n",
      "/home/hrai/codes/MotionBERT/data/motion3d/h36m_gt_pkl/S9_54138969_WalkDog 1.pkl\n",
      "S9 WalkDog 1 54138969\n",
      "/home/hrai/codes/MotionBERT/data/motion3d/h36m_gt_pkl/S5_58860488_SittingDown.pkl\n",
      "S5 SittingDown 58860488\n",
      "/home/hrai/codes/MotionBERT/data/motion3d/h36m_gt_pkl/S8_58860488_SittingDown 1.pkl\n",
      "S8 SittingDown 1 58860488\n",
      "/home/hrai/codes/MotionBERT/data/motion3d/h36m_gt_pkl/S11_58860488_WalkDog 1.pkl\n",
      "S11 WalkDog 1 58860488\n",
      "/home/hrai/codes/MotionBERT/data/motion3d/h36m_gt_pkl/S8_58860488_Phoning.pkl\n",
      "S8 Phoning 58860488\n",
      "/home/hrai/codes/MotionBERT/data/motion3d/h36m_gt_pkl/S7_58860488_Waiting 2.pkl\n",
      "S7 Waiting 2 58860488\n",
      "/home/hrai/codes/MotionBERT/data/motion3d/h36m_gt_pkl/S8_60457274_WalkTogether 2.pkl\n",
      "S8 WalkTogether 2 60457274\n",
      "/home/hrai/codes/MotionBERT/data/motion3d/h36m_gt_pkl/S11_55011271_Purchases 1.pkl\n",
      "S11 Purchases 1 55011271\n",
      "/home/hrai/codes/MotionBERT/data/motion3d/h36m_gt_pkl/S11_58860488_Directions 1.pkl\n",
      "S11 Directions 1 58860488\n",
      "/home/hrai/codes/MotionBERT/data/motion3d/h36m_gt_pkl/S9_58860488_Photo.pkl\n",
      "S9 Photo 58860488\n",
      "/home/hrai/codes/MotionBERT/data/motion3d/h36m_gt_pkl/S8_54138969_Eating 1.pkl\n",
      "S8 Eating 1 54138969\n",
      "/home/hrai/codes/MotionBERT/data/motion3d/h36m_gt_pkl/S9_58860488_Purchases 1.pkl\n",
      "S9 Purchases 1 58860488\n",
      "/home/hrai/codes/MotionBERT/data/motion3d/h36m_gt_pkl/S6_60457274_SittingDown 1.pkl\n",
      "S6 SittingDown 1 60457274\n",
      "/home/hrai/codes/MotionBERT/data/motion3d/h36m_gt_pkl/S5_54138969_Discussion 2.pkl\n",
      "S5 Discussion 2 54138969\n",
      "/home/hrai/codes/MotionBERT/data/motion3d/h36m_gt_pkl/S1_60457274_Phoning 1.pkl\n",
      "S1 Phoning 1 60457274\n"
     ]
    },
    {
     "name": "stderr",
     "output_type": "stream",
     "text": [
      "  0%|          | 0/528 [00:00<?, ?it/s]IMAGEIO FFMPEG_WRITER WARNING: input image is not divisible by macro_block_size=16, resizing from (1500, 500) to (1504, 512) to ensure video compatibility with most codecs and players. To prevent resizing, make your input image divisible by the macro_block_size or set the macro_block_size to 1 (risking incompatibility).\n",
      "[swscaler @ 0x5ec8900] Warning: data is not aligned! This can lead to a speed loss\n",
      "100%|██████████| 528/528 [00:31<00:00, 17.00it/s]\n"
     ]
    },
    {
     "name": "stdout",
     "output_type": "stream",
     "text": [
      "/home/hrai/codes/MotionBERT/data/motion3d/h36m_gt_pkl/S8_55011271_Directions 1.pkl\n",
      "S8 Directions 1 55011271\n",
      "/home/hrai/codes/MotionBERT/data/motion3d/h36m_gt_pkl/S1_54138969_Sitting 1.pkl\n",
      "S1 Sitting 1 54138969\n"
     ]
    },
    {
     "name": "stderr",
     "output_type": "stream",
     "text": [
      "  0%|          | 0/661 [00:00<?, ?it/s]IMAGEIO FFMPEG_WRITER WARNING: input image is not divisible by macro_block_size=16, resizing from (1500, 500) to (1504, 512) to ensure video compatibility with most codecs and players. To prevent resizing, make your input image divisible by the macro_block_size or set the macro_block_size to 1 (risking incompatibility).\n",
      "[swscaler @ 0x61b5900] Warning: data is not aligned! This can lead to a speed loss\n",
      "100%|██████████| 661/661 [00:38<00:00, 17.29it/s]\n"
     ]
    },
    {
     "name": "stdout",
     "output_type": "stream",
     "text": [
      "/home/hrai/codes/MotionBERT/data/motion3d/h36m_gt_pkl/S8_58860488_Directions.pkl\n",
      "S8 Directions 58860488\n",
      "/home/hrai/codes/MotionBERT/data/motion3d/h36m_gt_pkl/S1_54138969_Posing 1.pkl\n",
      "S1 Posing 1 54138969\n"
     ]
    },
    {
     "name": "stderr",
     "output_type": "stream",
     "text": [
      "  0%|          | 0/234 [00:00<?, ?it/s]IMAGEIO FFMPEG_WRITER WARNING: input image is not divisible by macro_block_size=16, resizing from (1500, 500) to (1504, 512) to ensure video compatibility with most codecs and players. To prevent resizing, make your input image divisible by the macro_block_size or set the macro_block_size to 1 (risking incompatibility).\n",
      "[swscaler @ 0x56fa900] Warning: data is not aligned! This can lead to a speed loss\n",
      "100%|██████████| 234/234 [00:13<00:00, 17.26it/s]\n"
     ]
    },
    {
     "name": "stdout",
     "output_type": "stream",
     "text": [
      "/home/hrai/codes/MotionBERT/data/motion3d/h36m_gt_pkl/S5_58860488_Smoking 1.pkl\n",
      "S5 Smoking 1 58860488\n",
      "/home/hrai/codes/MotionBERT/data/motion3d/h36m_gt_pkl/S7_54138969_Posing.pkl\n",
      "S7 Posing 54138969\n",
      "/home/hrai/codes/MotionBERT/data/motion3d/h36m_gt_pkl/S11_54138969_Posing.pkl\n",
      "S11 Posing 54138969\n",
      "/home/hrai/codes/MotionBERT/data/motion3d/h36m_gt_pkl/S8_55011271_Sitting.pkl\n",
      "S8 Sitting 55011271\n",
      "/home/hrai/codes/MotionBERT/data/motion3d/h36m_gt_pkl/S5_54138969_SittingDown.pkl\n",
      "S5 SittingDown 54138969\n",
      "/home/hrai/codes/MotionBERT/data/motion3d/h36m_gt_pkl/S5_55011271_Smoking.pkl\n",
      "S5 Smoking 55011271\n",
      "/home/hrai/codes/MotionBERT/data/motion3d/h36m_gt_pkl/S5_58860488_Walking.pkl\n",
      "S5 Walking 58860488\n",
      "/home/hrai/codes/MotionBERT/data/motion3d/h36m_gt_pkl/S9_55011271_Sitting.pkl\n",
      "S9 Sitting 55011271\n",
      "/home/hrai/codes/MotionBERT/data/motion3d/h36m_gt_pkl/S5_60457274_Phoning 1.pkl\n",
      "S5 Phoning 1 60457274\n",
      "/home/hrai/codes/MotionBERT/data/motion3d/h36m_gt_pkl/S7_54138969_WalkTogether 1.pkl\n",
      "S7 WalkTogether 1 54138969\n",
      "/home/hrai/codes/MotionBERT/data/motion3d/h36m_gt_pkl/S8_54138969_Waiting.pkl\n",
      "S8 Waiting 54138969\n",
      "/home/hrai/codes/MotionBERT/data/motion3d/h36m_gt_pkl/S1_55011271_WalkTogether 1.pkl\n",
      "S1 WalkTogether 1 55011271\n"
     ]
    },
    {
     "name": "stderr",
     "output_type": "stream",
     "text": [
      "  0%|          | 0/255 [00:00<?, ?it/s]IMAGEIO FFMPEG_WRITER WARNING: input image is not divisible by macro_block_size=16, resizing from (1500, 500) to (1504, 512) to ensure video compatibility with most codecs and players. To prevent resizing, make your input image divisible by the macro_block_size or set the macro_block_size to 1 (risking incompatibility).\n",
      "[swscaler @ 0x5b2b900] Warning: data is not aligned! This can lead to a speed loss\n",
      "100%|██████████| 255/255 [00:14<00:00, 17.26it/s]\n"
     ]
    },
    {
     "name": "stdout",
     "output_type": "stream",
     "text": [
      "/home/hrai/codes/MotionBERT/data/motion3d/h36m_gt_pkl/S9_55011271_Eating 1.pkl\n",
      "S9 Eating 1 55011271\n",
      "/home/hrai/codes/MotionBERT/data/motion3d/h36m_gt_pkl/S7_60457274_Greeting 1.pkl\n",
      "S7 Greeting 1 60457274\n",
      "/home/hrai/codes/MotionBERT/data/motion3d/h36m_gt_pkl/S9_54138969_Directions 1.pkl\n",
      "S9 Directions 1 54138969\n",
      "/home/hrai/codes/MotionBERT/data/motion3d/h36m_gt_pkl/S1_55011271_Posing 1.pkl\n",
      "S1 Posing 1 55011271\n"
     ]
    },
    {
     "name": "stderr",
     "output_type": "stream",
     "text": [
      "  0%|          | 0/234 [00:00<?, ?it/s]IMAGEIO FFMPEG_WRITER WARNING: input image is not divisible by macro_block_size=16, resizing from (1500, 500) to (1504, 512) to ensure video compatibility with most codecs and players. To prevent resizing, make your input image divisible by the macro_block_size or set the macro_block_size to 1 (risking incompatibility).\n",
      "[swscaler @ 0x6e9b900] Warning: data is not aligned! This can lead to a speed loss\n",
      "100%|██████████| 234/234 [00:13<00:00, 17.03it/s]\n"
     ]
    },
    {
     "name": "stdout",
     "output_type": "stream",
     "text": [
      "/home/hrai/codes/MotionBERT/data/motion3d/h36m_gt_pkl/S6_54138969_Photo.pkl\n",
      "S6 Photo 54138969\n",
      "/home/hrai/codes/MotionBERT/data/motion3d/h36m_gt_pkl/S1_58860488_Photo.pkl\n",
      "S1 Photo 58860488\n"
     ]
    },
    {
     "name": "stderr",
     "output_type": "stream",
     "text": [
      "  0%|          | 0/208 [00:00<?, ?it/s]IMAGEIO FFMPEG_WRITER WARNING: input image is not divisible by macro_block_size=16, resizing from (1500, 500) to (1504, 512) to ensure video compatibility with most codecs and players. To prevent resizing, make your input image divisible by the macro_block_size or set the macro_block_size to 1 (risking incompatibility).\n",
      "[swscaler @ 0x581b900] Warning: data is not aligned! This can lead to a speed loss\n",
      "100%|██████████| 208/208 [00:12<00:00, 16.98it/s]\n"
     ]
    },
    {
     "name": "stdout",
     "output_type": "stream",
     "text": [
      "/home/hrai/codes/MotionBERT/data/motion3d/h36m_gt_pkl/S1_54138969_WalkDog 1.pkl\n",
      "S1 WalkDog 1 54138969\n"
     ]
    },
    {
     "name": "stderr",
     "output_type": "stream",
     "text": [
      "  0%|          | 0/333 [00:00<?, ?it/s]IMAGEIO FFMPEG_WRITER WARNING: input image is not divisible by macro_block_size=16, resizing from (1500, 500) to (1504, 512) to ensure video compatibility with most codecs and players. To prevent resizing, make your input image divisible by the macro_block_size or set the macro_block_size to 1 (risking incompatibility).\n",
      "[swscaler @ 0x71ff900] Warning: data is not aligned! This can lead to a speed loss\n",
      "100%|██████████| 333/333 [00:19<00:00, 17.18it/s]\n"
     ]
    },
    {
     "name": "stdout",
     "output_type": "stream",
     "text": [
      "/home/hrai/codes/MotionBERT/data/motion3d/h36m_gt_pkl/S8_60457274_Posing 1.pkl\n",
      "S8 Posing 1 60457274\n",
      "/home/hrai/codes/MotionBERT/data/motion3d/h36m_gt_pkl/S1_58860488_Smoking 1.pkl\n",
      "S1 Smoking 1 58860488\n"
     ]
    },
    {
     "name": "stderr",
     "output_type": "stream",
     "text": [
      "  0%|          | 0/523 [00:00<?, ?it/s]IMAGEIO FFMPEG_WRITER WARNING: input image is not divisible by macro_block_size=16, resizing from (1500, 500) to (1504, 512) to ensure video compatibility with most codecs and players. To prevent resizing, make your input image divisible by the macro_block_size or set the macro_block_size to 1 (risking incompatibility).\n",
      "[swscaler @ 0x5964900] Warning: data is not aligned! This can lead to a speed loss\n",
      "100%|██████████| 523/523 [00:30<00:00, 17.29it/s]\n"
     ]
    },
    {
     "name": "stdout",
     "output_type": "stream",
     "text": [
      "/home/hrai/codes/MotionBERT/data/motion3d/h36m_gt_pkl/S1_58860488_Greeting 1.pkl\n",
      "S1 Greeting 1 58860488\n"
     ]
    },
    {
     "name": "stderr",
     "output_type": "stream",
     "text": [
      "  0%|          | 0/253 [00:00<?, ?it/s]IMAGEIO FFMPEG_WRITER WARNING: input image is not divisible by macro_block_size=16, resizing from (1500, 500) to (1504, 512) to ensure video compatibility with most codecs and players. To prevent resizing, make your input image divisible by the macro_block_size or set the macro_block_size to 1 (risking incompatibility).\n",
      "  0%|          | 1/253 [00:00<00:52,  4.80it/s][swscaler @ 0x5646900] Warning: data is not aligned! This can lead to a speed loss\n",
      "100%|██████████| 253/253 [00:15<00:00, 16.81it/s]\n"
     ]
    },
    {
     "name": "stdout",
     "output_type": "stream",
     "text": [
      "/home/hrai/codes/MotionBERT/data/motion3d/h36m_gt_pkl/S6_54138969_SittingDown.pkl\n",
      "S6 SittingDown 54138969\n",
      "/home/hrai/codes/MotionBERT/data/motion3d/h36m_gt_pkl/S5_60457274_Greeting 2.pkl\n",
      "S5 Greeting 2 60457274\n",
      "/home/hrai/codes/MotionBERT/data/motion3d/h36m_gt_pkl/S5_55011271_Directions 1.pkl\n",
      "S5 Directions 1 55011271\n",
      "/home/hrai/codes/MotionBERT/data/motion3d/h36m_gt_pkl/S5_58860488_Photo.pkl\n",
      "S5 Photo 58860488\n",
      "/home/hrai/codes/MotionBERT/data/motion3d/h36m_gt_pkl/S6_60457274_Smoking.pkl\n",
      "S6 Smoking 60457274\n",
      "/home/hrai/codes/MotionBERT/data/motion3d/h36m_gt_pkl/S1_58860488_Walking.pkl\n",
      "S1 Walking 58860488\n"
     ]
    },
    {
     "name": "stderr",
     "output_type": "stream",
     "text": [
      "  0%|          | 0/627 [00:00<?, ?it/s]IMAGEIO FFMPEG_WRITER WARNING: input image is not divisible by macro_block_size=16, resizing from (1500, 500) to (1504, 512) to ensure video compatibility with most codecs and players. To prevent resizing, make your input image divisible by the macro_block_size or set the macro_block_size to 1 (risking incompatibility).\n",
      "[swscaler @ 0x5d16900] Warning: data is not aligned! This can lead to a speed loss\n",
      "100%|██████████| 627/627 [00:36<00:00, 17.05it/s]\n"
     ]
    },
    {
     "name": "stdout",
     "output_type": "stream",
     "text": [
      "/home/hrai/codes/MotionBERT/data/motion3d/h36m_gt_pkl/S8_55011271_Posing.pkl\n",
      "S8 Posing 55011271\n",
      "/home/hrai/codes/MotionBERT/data/motion3d/h36m_gt_pkl/S5_60457274_Waiting 2.pkl\n",
      "S5 Waiting 2 60457274\n",
      "/home/hrai/codes/MotionBERT/data/motion3d/h36m_gt_pkl/S6_60457274_Purchases.pkl\n",
      "S6 Purchases 60457274\n",
      "/home/hrai/codes/MotionBERT/data/motion3d/h36m_gt_pkl/S9_55011271_Eating.pkl\n",
      "S9 Eating 55011271\n",
      "/home/hrai/codes/MotionBERT/data/motion3d/h36m_gt_pkl/S6_58860488_Purchases.pkl\n",
      "S6 Purchases 58860488\n",
      "/home/hrai/codes/MotionBERT/data/motion3d/h36m_gt_pkl/S7_60457274_Discussion.pkl\n",
      "S7 Discussion 60457274\n",
      "/home/hrai/codes/MotionBERT/data/motion3d/h36m_gt_pkl/S8_60457274_WalkTogether 1.pkl\n",
      "S8 WalkTogether 1 60457274\n",
      "/home/hrai/codes/MotionBERT/data/motion3d/h36m_gt_pkl/S8_58860488_Eating.pkl\n",
      "S8 Eating 58860488\n",
      "/home/hrai/codes/MotionBERT/data/motion3d/h36m_gt_pkl/S7_54138969_Directions.pkl\n",
      "S7 Directions 54138969\n",
      "/home/hrai/codes/MotionBERT/data/motion3d/h36m_gt_pkl/S7_58860488_Greeting 1.pkl\n",
      "S7 Greeting 1 58860488\n",
      "/home/hrai/codes/MotionBERT/data/motion3d/h36m_gt_pkl/S9_54138969_Smoking 1.pkl\n",
      "S9 Smoking 1 54138969\n",
      "/home/hrai/codes/MotionBERT/data/motion3d/h36m_gt_pkl/S9_55011271_Waiting.pkl\n",
      "S9 Waiting 55011271\n",
      "/home/hrai/codes/MotionBERT/data/motion3d/h36m_gt_pkl/S7_58860488_Discussion.pkl\n",
      "S7 Discussion 58860488\n",
      "/home/hrai/codes/MotionBERT/data/motion3d/h36m_gt_pkl/S11_58860488_Greeting 2.pkl\n",
      "S11 Greeting 2 58860488\n",
      "/home/hrai/codes/MotionBERT/data/motion3d/h36m_gt_pkl/S6_60457274_Waiting.pkl\n",
      "S6 Waiting 60457274\n",
      "/home/hrai/codes/MotionBERT/data/motion3d/h36m_gt_pkl/S8_60457274_Directions 1.pkl\n",
      "S8 Directions 1 60457274\n",
      "/home/hrai/codes/MotionBERT/data/motion3d/h36m_gt_pkl/S5_54138969_Waiting 1.pkl\n",
      "S5 Waiting 1 54138969\n",
      "/home/hrai/codes/MotionBERT/data/motion3d/h36m_gt_pkl/S7_55011271_Directions 1.pkl\n",
      "S7 Directions 1 55011271\n",
      "/home/hrai/codes/MotionBERT/data/motion3d/h36m_gt_pkl/S8_60457274_SittingDown.pkl\n",
      "S8 SittingDown 60457274\n",
      "/home/hrai/codes/MotionBERT/data/motion3d/h36m_gt_pkl/S7_54138969_Purchases.pkl\n",
      "S7 Purchases 54138969\n",
      "/home/hrai/codes/MotionBERT/data/motion3d/h36m_gt_pkl/S6_58860488_Walking 1.pkl\n",
      "S6 Walking 1 58860488\n",
      "/home/hrai/codes/MotionBERT/data/motion3d/h36m_gt_pkl/S6_54138969_SittingDown 1.pkl\n",
      "S6 SittingDown 1 54138969\n",
      "/home/hrai/codes/MotionBERT/data/motion3d/h36m_gt_pkl/S5_54138969_Greeting 2.pkl\n",
      "S5 Greeting 2 54138969\n",
      "/home/hrai/codes/MotionBERT/data/motion3d/h36m_gt_pkl/S9_55011271_Walking.pkl\n",
      "S9 Walking 55011271\n",
      "/home/hrai/codes/MotionBERT/data/motion3d/h36m_gt_pkl/S8_60457274_Posing.pkl\n",
      "S8 Posing 60457274\n",
      "/home/hrai/codes/MotionBERT/data/motion3d/h36m_gt_pkl/S11_60457274_Purchases.pkl\n",
      "S11 Purchases 60457274\n",
      "/home/hrai/codes/MotionBERT/data/motion3d/h36m_gt_pkl/S1_55011271_Smoking 1.pkl\n",
      "S1 Smoking 1 55011271\n"
     ]
    },
    {
     "name": "stderr",
     "output_type": "stream",
     "text": [
      "  0%|          | 0/523 [00:00<?, ?it/s]IMAGEIO FFMPEG_WRITER WARNING: input image is not divisible by macro_block_size=16, resizing from (1500, 500) to (1504, 512) to ensure video compatibility with most codecs and players. To prevent resizing, make your input image divisible by the macro_block_size or set the macro_block_size to 1 (risking incompatibility).\n",
      "[swscaler @ 0x61d5900] Warning: data is not aligned! This can lead to a speed loss\n",
      "100%|██████████| 523/523 [00:30<00:00, 17.05it/s]\n"
     ]
    },
    {
     "name": "stdout",
     "output_type": "stream",
     "text": [
      "/home/hrai/codes/MotionBERT/data/motion3d/h36m_gt_pkl/S8_55011271_Waiting 1.pkl\n",
      "S8 Waiting 1 55011271\n",
      "/home/hrai/codes/MotionBERT/data/motion3d/h36m_gt_pkl/S7_55011271_Phoning.pkl\n",
      "S7 Phoning 55011271\n",
      "/home/hrai/codes/MotionBERT/data/motion3d/h36m_gt_pkl/S6_60457274_Sitting 2.pkl\n",
      "S6 Sitting 2 60457274\n",
      "/home/hrai/codes/MotionBERT/data/motion3d/h36m_gt_pkl/S1_55011271_Photo 1.pkl\n",
      "S1 Photo 1 55011271\n"
     ]
    },
    {
     "name": "stderr",
     "output_type": "stream",
     "text": [
      "  0%|          | 0/215 [00:00<?, ?it/s]IMAGEIO FFMPEG_WRITER WARNING: input image is not divisible by macro_block_size=16, resizing from (1500, 500) to (1504, 512) to ensure video compatibility with most codecs and players. To prevent resizing, make your input image divisible by the macro_block_size or set the macro_block_size to 1 (risking incompatibility).\n",
      "[swscaler @ 0x704e900] Warning: data is not aligned! This can lead to a speed loss\n",
      "100%|██████████| 215/215 [00:12<00:00, 16.98it/s]\n"
     ]
    },
    {
     "name": "stdout",
     "output_type": "stream",
     "text": [
      "/home/hrai/codes/MotionBERT/data/motion3d/h36m_gt_pkl/S6_60457274_Directions.pkl\n",
      "S6 Directions 60457274\n",
      "/home/hrai/codes/MotionBERT/data/motion3d/h36m_gt_pkl/S9_55011271_Phoning 1.pkl\n",
      "S9 Phoning 1 55011271\n",
      "/home/hrai/codes/MotionBERT/data/motion3d/h36m_gt_pkl/S9_58860488_Eating.pkl\n",
      "S9 Eating 58860488\n",
      "/home/hrai/codes/MotionBERT/data/motion3d/h36m_gt_pkl/S8_58860488_Greeting 1.pkl\n",
      "S8 Greeting 1 58860488\n",
      "/home/hrai/codes/MotionBERT/data/motion3d/h36m_gt_pkl/S6_58860488_Smoking 1.pkl\n",
      "S6 Smoking 1 58860488\n",
      "/home/hrai/codes/MotionBERT/data/motion3d/h36m_gt_pkl/S11_54138969_Phoning 3.pkl\n",
      "S11 Phoning 3 54138969\n",
      "/home/hrai/codes/MotionBERT/data/motion3d/h36m_gt_pkl/S7_54138969_Directions 1.pkl\n",
      "S7 Directions 1 54138969\n",
      "/home/hrai/codes/MotionBERT/data/motion3d/h36m_gt_pkl/S1_58860488_Purchases 1.pkl\n",
      "S1 Purchases 1 58860488\n"
     ]
    },
    {
     "name": "stderr",
     "output_type": "stream",
     "text": [
      "  0%|          | 0/213 [00:00<?, ?it/s]IMAGEIO FFMPEG_WRITER WARNING: input image is not divisible by macro_block_size=16, resizing from (1500, 500) to (1504, 512) to ensure video compatibility with most codecs and players. To prevent resizing, make your input image divisible by the macro_block_size or set the macro_block_size to 1 (risking incompatibility).\n",
      "[swscaler @ 0x6985900] Warning: data is not aligned! This can lead to a speed loss\n",
      "100%|██████████| 213/213 [00:12<00:00, 17.16it/s]\n"
     ]
    },
    {
     "name": "stdout",
     "output_type": "stream",
     "text": [
      "/home/hrai/codes/MotionBERT/data/motion3d/h36m_gt_pkl/S7_54138969_Eating.pkl\n",
      "S7 Eating 54138969\n",
      "/home/hrai/codes/MotionBERT/data/motion3d/h36m_gt_pkl/S9_58860488_Greeting.pkl\n",
      "S9 Greeting 58860488\n",
      "/home/hrai/codes/MotionBERT/data/motion3d/h36m_gt_pkl/S8_60457274_Greeting.pkl\n",
      "S8 Greeting 60457274\n",
      "/home/hrai/codes/MotionBERT/data/motion3d/h36m_gt_pkl/S7_54138969_Waiting 2.pkl\n",
      "S7 Waiting 2 54138969\n",
      "/home/hrai/codes/MotionBERT/data/motion3d/h36m_gt_pkl/S5_58860488_Phoning.pkl\n",
      "S5 Phoning 58860488\n",
      "/home/hrai/codes/MotionBERT/data/motion3d/h36m_gt_pkl/S9_60457274_WalkDog 1.pkl\n",
      "S9 WalkDog 1 60457274\n",
      "/home/hrai/codes/MotionBERT/data/motion3d/h36m_gt_pkl/S1_54138969_Phoning.pkl\n",
      "S1 Phoning 54138969\n"
     ]
    },
    {
     "name": "stderr",
     "output_type": "stream",
     "text": [
      "  0%|          | 0/454 [00:00<?, ?it/s]IMAGEIO FFMPEG_WRITER WARNING: input image is not divisible by macro_block_size=16, resizing from (1500, 500) to (1504, 512) to ensure video compatibility with most codecs and players. To prevent resizing, make your input image divisible by the macro_block_size or set the macro_block_size to 1 (risking incompatibility).\n",
      "[swscaler @ 0x5986900] Warning: data is not aligned! This can lead to a speed loss\n",
      "100%|██████████| 454/454 [00:26<00:00, 17.09it/s]\n"
     ]
    },
    {
     "name": "stdout",
     "output_type": "stream",
     "text": [
      "/home/hrai/codes/MotionBERT/data/motion3d/h36m_gt_pkl/S9_58860488_Directions 1.pkl\n",
      "S9 Directions 1 58860488\n",
      "/home/hrai/codes/MotionBERT/data/motion3d/h36m_gt_pkl/S8_54138969_Photo 1.pkl\n",
      "S8 Photo 1 54138969\n",
      "/home/hrai/codes/MotionBERT/data/motion3d/h36m_gt_pkl/S7_58860488_Sitting.pkl\n",
      "S7 Sitting 58860488\n",
      "/home/hrai/codes/MotionBERT/data/motion3d/h36m_gt_pkl/S1_55011271_Discussion.pkl\n",
      "S1 Discussion 55011271\n"
     ]
    },
    {
     "name": "stderr",
     "output_type": "stream",
     "text": [
      "  0%|          | 0/771 [00:00<?, ?it/s]IMAGEIO FFMPEG_WRITER WARNING: input image is not divisible by macro_block_size=16, resizing from (1500, 500) to (1504, 512) to ensure video compatibility with most codecs and players. To prevent resizing, make your input image divisible by the macro_block_size or set the macro_block_size to 1 (risking incompatibility).\n",
      "[swscaler @ 0x591a900] Warning: data is not aligned! This can lead to a speed loss\n",
      "100%|██████████| 771/771 [00:45<00:00, 16.87it/s]\n"
     ]
    },
    {
     "name": "stdout",
     "output_type": "stream",
     "text": [
      "/home/hrai/codes/MotionBERT/data/motion3d/h36m_gt_pkl/S11_58860488_Posing.pkl\n",
      "S11 Posing 58860488\n",
      "/home/hrai/codes/MotionBERT/data/motion3d/h36m_gt_pkl/S6_54138969_Walking 1.pkl\n",
      "S6 Walking 1 54138969\n",
      "/home/hrai/codes/MotionBERT/data/motion3d/h36m_gt_pkl/S6_58860488_Sitting 1.pkl\n",
      "S6 Sitting 1 58860488\n",
      "/home/hrai/codes/MotionBERT/data/motion3d/h36m_gt_pkl/S5_54138969_Walking 1.pkl\n",
      "S5 Walking 1 54138969\n",
      "/home/hrai/codes/MotionBERT/data/motion3d/h36m_gt_pkl/S9_54138969_Walking.pkl\n",
      "S9 Walking 54138969\n",
      "/home/hrai/codes/MotionBERT/data/motion3d/h36m_gt_pkl/S11_58860488_Smoking.pkl\n",
      "S11 Smoking 58860488\n",
      "/home/hrai/codes/MotionBERT/data/motion3d/h36m_gt_pkl/S11_54138969_WalkTogether.pkl\n",
      "S11 WalkTogether 54138969\n",
      "/home/hrai/codes/MotionBERT/data/motion3d/h36m_gt_pkl/S11_58860488_Phoning 2.pkl\n",
      "S11 Phoning 2 58860488\n",
      "/home/hrai/codes/MotionBERT/data/motion3d/h36m_gt_pkl/S8_55011271_Purchases.pkl\n",
      "S8 Purchases 55011271\n",
      "/home/hrai/codes/MotionBERT/data/motion3d/h36m_gt_pkl/S6_54138969_Purchases.pkl\n",
      "S6 Purchases 54138969\n",
      "/home/hrai/codes/MotionBERT/data/motion3d/h36m_gt_pkl/S11_54138969_Posing 1.pkl\n",
      "S11 Posing 1 54138969\n",
      "/home/hrai/codes/MotionBERT/data/motion3d/h36m_gt_pkl/S8_55011271_SittingDown 1.pkl\n",
      "S8 SittingDown 1 55011271\n",
      "/home/hrai/codes/MotionBERT/data/motion3d/h36m_gt_pkl/S8_58860488_Discussion.pkl\n",
      "S8 Discussion 58860488\n",
      "/home/hrai/codes/MotionBERT/data/motion3d/h36m_gt_pkl/S8_58860488_WalkTogether 2.pkl\n",
      "S8 WalkTogether 2 58860488\n",
      "/home/hrai/codes/MotionBERT/data/motion3d/h36m_gt_pkl/S8_58860488_Smoking 1.pkl\n",
      "S8 Smoking 1 58860488\n",
      "/home/hrai/codes/MotionBERT/data/motion3d/h36m_gt_pkl/S1_55011271_Greeting.pkl\n",
      "S1 Greeting 55011271\n"
     ]
    },
    {
     "name": "stderr",
     "output_type": "stream",
     "text": [
      "  0%|          | 0/230 [00:00<?, ?it/s]IMAGEIO FFMPEG_WRITER WARNING: input image is not divisible by macro_block_size=16, resizing from (1500, 500) to (1504, 512) to ensure video compatibility with most codecs and players. To prevent resizing, make your input image divisible by the macro_block_size or set the macro_block_size to 1 (risking incompatibility).\n",
      "[swscaler @ 0x5633900] Warning: data is not aligned! This can lead to a speed loss\n",
      "100%|██████████| 230/230 [00:13<00:00, 17.19it/s]\n"
     ]
    },
    {
     "name": "stdout",
     "output_type": "stream",
     "text": [
      "/home/hrai/codes/MotionBERT/data/motion3d/h36m_gt_pkl/S6_58860488_Discussion 1.pkl\n",
      "S6 Discussion 1 58860488\n",
      "/home/hrai/codes/MotionBERT/data/motion3d/h36m_gt_pkl/S8_58860488_Directions 1.pkl\n",
      "S8 Directions 1 58860488\n",
      "/home/hrai/codes/MotionBERT/data/motion3d/h36m_gt_pkl/S11_55011271_Walking.pkl\n",
      "S11 Walking 55011271\n",
      "/home/hrai/codes/MotionBERT/data/motion3d/h36m_gt_pkl/S9_58860488_Posing 1.pkl\n",
      "S9 Posing 1 58860488\n",
      "/home/hrai/codes/MotionBERT/data/motion3d/h36m_gt_pkl/S5_58860488_Purchases.pkl\n",
      "S5 Purchases 58860488\n",
      "/home/hrai/codes/MotionBERT/data/motion3d/h36m_gt_pkl/S11_60457274_Walking.pkl\n",
      "S11 Walking 60457274\n",
      "/home/hrai/codes/MotionBERT/data/motion3d/h36m_gt_pkl/S6_60457274_Eating 2.pkl\n",
      "S6 Eating 2 60457274\n",
      "/home/hrai/codes/MotionBERT/data/motion3d/h36m_gt_pkl/S9_58860488_Waiting 1.pkl\n",
      "S9 Waiting 1 58860488\n",
      "/home/hrai/codes/MotionBERT/data/motion3d/h36m_gt_pkl/S8_55011271_Smoking.pkl\n",
      "S8 Smoking 55011271\n",
      "/home/hrai/codes/MotionBERT/data/motion3d/h36m_gt_pkl/S9_55011271_Posing 1.pkl\n",
      "S9 Posing 1 55011271\n",
      "/home/hrai/codes/MotionBERT/data/motion3d/h36m_gt_pkl/S5_54138969_Directions 1.pkl\n",
      "S5 Directions 1 54138969\n",
      "/home/hrai/codes/MotionBERT/data/motion3d/h36m_gt_pkl/S7_55011271_Photo 1.pkl\n",
      "S7 Photo 1 55011271\n",
      "/home/hrai/codes/MotionBERT/data/motion3d/h36m_gt_pkl/S7_55011271_Posing.pkl\n",
      "S7 Posing 55011271\n",
      "/home/hrai/codes/MotionBERT/data/motion3d/h36m_gt_pkl/S6_58860488_Waiting.pkl\n",
      "S6 Waiting 58860488\n",
      "/home/hrai/codes/MotionBERT/data/motion3d/h36m_gt_pkl/S8_54138969_Walking.pkl\n",
      "S8 Walking 54138969\n",
      "/home/hrai/codes/MotionBERT/data/motion3d/h36m_gt_pkl/S9_60457274_SittingDown.pkl\n",
      "S9 SittingDown 60457274\n",
      "/home/hrai/codes/MotionBERT/data/motion3d/h36m_gt_pkl/S1_58860488_Purchases.pkl\n",
      "S1 Purchases 58860488\n"
     ]
    },
    {
     "name": "stderr",
     "output_type": "stream",
     "text": [
      "  0%|          | 0/232 [00:00<?, ?it/s]IMAGEIO FFMPEG_WRITER WARNING: input image is not divisible by macro_block_size=16, resizing from (1500, 500) to (1504, 512) to ensure video compatibility with most codecs and players. To prevent resizing, make your input image divisible by the macro_block_size or set the macro_block_size to 1 (risking incompatibility).\n",
      "[swscaler @ 0x6d02900] Warning: data is not aligned! This can lead to a speed loss\n",
      "100%|██████████| 232/232 [00:13<00:00, 17.03it/s]\n"
     ]
    },
    {
     "name": "stdout",
     "output_type": "stream",
     "text": [
      "/home/hrai/codes/MotionBERT/data/motion3d/h36m_gt_pkl/S8_54138969_Smoking 1.pkl\n",
      "S8 Smoking 1 54138969\n",
      "/home/hrai/codes/MotionBERT/data/motion3d/h36m_gt_pkl/S1_60457274_Smoking.pkl\n",
      "S1 Smoking 60457274\n"
     ]
    },
    {
     "name": "stderr",
     "output_type": "stream",
     "text": [
      "  0%|          | 0/496 [00:00<?, ?it/s]IMAGEIO FFMPEG_WRITER WARNING: input image is not divisible by macro_block_size=16, resizing from (1500, 500) to (1504, 512) to ensure video compatibility with most codecs and players. To prevent resizing, make your input image divisible by the macro_block_size or set the macro_block_size to 1 (risking incompatibility).\n",
      "[swscaler @ 0x63bf900] Warning: data is not aligned! This can lead to a speed loss\n",
      "100%|██████████| 496/496 [00:29<00:00, 17.02it/s]\n"
     ]
    },
    {
     "name": "stdout",
     "output_type": "stream",
     "text": [
      "/home/hrai/codes/MotionBERT/data/motion3d/h36m_gt_pkl/S5_54138969_Walking.pkl\n",
      "S5 Walking 54138969\n",
      "/home/hrai/codes/MotionBERT/data/motion3d/h36m_gt_pkl/S8_60457274_Eating.pkl\n",
      "S8 Eating 60457274\n",
      "/home/hrai/codes/MotionBERT/data/motion3d/h36m_gt_pkl/S9_54138969_Discussion 2.pkl\n",
      "S9 Discussion 2 54138969\n",
      "/home/hrai/codes/MotionBERT/data/motion3d/h36m_gt_pkl/S6_58860488_Eating 2.pkl\n",
      "S6 Eating 2 58860488\n",
      "/home/hrai/codes/MotionBERT/data/motion3d/h36m_gt_pkl/S5_55011271_WalkDog.pkl\n",
      "S5 WalkDog 55011271\n",
      "/home/hrai/codes/MotionBERT/data/motion3d/h36m_gt_pkl/S5_58860488_Discussion 3.pkl\n",
      "S5 Discussion 3 58860488\n",
      "/home/hrai/codes/MotionBERT/data/motion3d/h36m_gt_pkl/S6_55011271_WalkTogether.pkl\n",
      "S6 WalkTogether 55011271\n",
      "/home/hrai/codes/MotionBERT/data/motion3d/h36m_gt_pkl/S5_60457274_Sitting.pkl\n",
      "S5 Sitting 60457274\n",
      "/home/hrai/codes/MotionBERT/data/motion3d/h36m_gt_pkl/S11_58860488_Walking 1.pkl\n",
      "S11 Walking 1 58860488\n",
      "/home/hrai/codes/MotionBERT/data/motion3d/h36m_gt_pkl/S7_58860488_Directions.pkl\n",
      "S7 Directions 58860488\n",
      "/home/hrai/codes/MotionBERT/data/motion3d/h36m_gt_pkl/S5_55011271_Phoning 1.pkl\n",
      "S5 Phoning 1 55011271\n",
      "/home/hrai/codes/MotionBERT/data/motion3d/h36m_gt_pkl/S9_54138969_Smoking.pkl\n",
      "S9 Smoking 54138969\n",
      "/home/hrai/codes/MotionBERT/data/motion3d/h36m_gt_pkl/S6_60457274_Posing.pkl\n",
      "S6 Posing 60457274\n",
      "/home/hrai/codes/MotionBERT/data/motion3d/h36m_gt_pkl/S8_58860488_Posing.pkl\n",
      "S8 Posing 58860488\n",
      "/home/hrai/codes/MotionBERT/data/motion3d/h36m_gt_pkl/S11_60457274_WalkDog 1.pkl\n",
      "S11 WalkDog 1 60457274\n",
      "/home/hrai/codes/MotionBERT/data/motion3d/h36m_gt_pkl/S5_58860488_Walking 1.pkl\n",
      "S5 Walking 1 58860488\n",
      "/home/hrai/codes/MotionBERT/data/motion3d/h36m_gt_pkl/S7_55011271_Eating.pkl\n",
      "S7 Eating 55011271\n",
      "/home/hrai/codes/MotionBERT/data/motion3d/h36m_gt_pkl/S7_58860488_Directions 1.pkl\n",
      "S7 Directions 1 58860488\n",
      "/home/hrai/codes/MotionBERT/data/motion3d/h36m_gt_pkl/S1_55011271_SittingDown.pkl\n",
      "S1 SittingDown 55011271\n"
     ]
    },
    {
     "name": "stderr",
     "output_type": "stream",
     "text": [
      "  0%|          | 0/549 [00:00<?, ?it/s]IMAGEIO FFMPEG_WRITER WARNING: input image is not divisible by macro_block_size=16, resizing from (1500, 500) to (1504, 512) to ensure video compatibility with most codecs and players. To prevent resizing, make your input image divisible by the macro_block_size or set the macro_block_size to 1 (risking incompatibility).\n",
      "[swscaler @ 0x5850900] Warning: data is not aligned! This can lead to a speed loss\n",
      "100%|██████████| 549/549 [00:31<00:00, 17.27it/s]\n"
     ]
    },
    {
     "name": "stdout",
     "output_type": "stream",
     "text": [
      "/home/hrai/codes/MotionBERT/data/motion3d/h36m_gt_pkl/S7_55011271_Waiting 2.pkl\n",
      "S7 Waiting 2 55011271\n",
      "/home/hrai/codes/MotionBERT/data/motion3d/h36m_gt_pkl/S11_54138969_WalkTogether 1.pkl\n",
      "S11 WalkTogether 1 54138969\n",
      "/home/hrai/codes/MotionBERT/data/motion3d/h36m_gt_pkl/S8_54138969_WalkTogether 2.pkl\n",
      "S8 WalkTogether 2 54138969\n",
      "/home/hrai/codes/MotionBERT/data/motion3d/h36m_gt_pkl/S11_55011271_Discussion 2.pkl\n",
      "S11 Discussion 2 55011271\n",
      "/home/hrai/codes/MotionBERT/data/motion3d/h36m_gt_pkl/S6_58860488_WalkTogether 1.pkl\n",
      "S6 WalkTogether 1 58860488\n",
      "/home/hrai/codes/MotionBERT/data/motion3d/h36m_gt_pkl/S9_55011271_SittingDown 1.pkl\n",
      "S9 SittingDown 1 55011271\n",
      "/home/hrai/codes/MotionBERT/data/motion3d/h36m_gt_pkl/S6_55011271_Waiting 3.pkl\n",
      "S6 Waiting 3 55011271\n",
      "/home/hrai/codes/MotionBERT/data/motion3d/h36m_gt_pkl/S1_58860488_Walking 1.pkl\n",
      "S1 Walking 1 58860488\n"
     ]
    },
    {
     "name": "stderr",
     "output_type": "stream",
     "text": [
      "  0%|          | 0/696 [00:00<?, ?it/s]IMAGEIO FFMPEG_WRITER WARNING: input image is not divisible by macro_block_size=16, resizing from (1500, 500) to (1504, 512) to ensure video compatibility with most codecs and players. To prevent resizing, make your input image divisible by the macro_block_size or set the macro_block_size to 1 (risking incompatibility).\n",
      "[swscaler @ 0x5b21900] Warning: data is not aligned! This can lead to a speed loss\n",
      "100%|██████████| 696/696 [00:40<00:00, 17.26it/s]\n"
     ]
    },
    {
     "name": "stdout",
     "output_type": "stream",
     "text": [
      "/home/hrai/codes/MotionBERT/data/motion3d/h36m_gt_pkl/S8_58860488_Greeting.pkl\n",
      "S8 Greeting 58860488\n",
      "/home/hrai/codes/MotionBERT/data/motion3d/h36m_gt_pkl/S8_54138969_Photo.pkl\n",
      "S8 Photo 54138969\n",
      "/home/hrai/codes/MotionBERT/data/motion3d/h36m_gt_pkl/S11_60457274_Sitting 1.pkl\n",
      "S11 Sitting 1 60457274\n",
      "/home/hrai/codes/MotionBERT/data/motion3d/h36m_gt_pkl/S11_54138969_WalkDog.pkl\n",
      "S11 WalkDog 54138969\n",
      "/home/hrai/codes/MotionBERT/data/motion3d/h36m_gt_pkl/S8_54138969_Greeting 1.pkl\n",
      "S8 Greeting 1 54138969\n",
      "/home/hrai/codes/MotionBERT/data/motion3d/h36m_gt_pkl/S1_60457274_Waiting 1.pkl\n",
      "S1 Waiting 1 60457274\n"
     ]
    },
    {
     "name": "stderr",
     "output_type": "stream",
     "text": [
      "  0%|          | 0/288 [00:00<?, ?it/s]IMAGEIO FFMPEG_WRITER WARNING: input image is not divisible by macro_block_size=16, resizing from (1500, 500) to (1504, 512) to ensure video compatibility with most codecs and players. To prevent resizing, make your input image divisible by the macro_block_size or set the macro_block_size to 1 (risking incompatibility).\n",
      "[swscaler @ 0x700b900] Warning: data is not aligned! This can lead to a speed loss\n",
      "100%|██████████| 288/288 [00:16<00:00, 17.28it/s]\n"
     ]
    },
    {
     "name": "stdout",
     "output_type": "stream",
     "text": [
      "/home/hrai/codes/MotionBERT/data/motion3d/h36m_gt_pkl/S11_60457274_Photo.pkl\n",
      "S11 Photo 60457274\n",
      "/home/hrai/codes/MotionBERT/data/motion3d/h36m_gt_pkl/S8_58860488_Walking 1.pkl\n",
      "S8 Walking 1 58860488\n",
      "/home/hrai/codes/MotionBERT/data/motion3d/h36m_gt_pkl/S1_54138969_WalkTogether.pkl\n",
      "S1 WalkTogether 54138969\n"
     ]
    },
    {
     "name": "stderr",
     "output_type": "stream",
     "text": [
      "  0%|          | 0/247 [00:00<?, ?it/s]IMAGEIO FFMPEG_WRITER WARNING: input image is not divisible by macro_block_size=16, resizing from (1500, 500) to (1504, 512) to ensure video compatibility with most codecs and players. To prevent resizing, make your input image divisible by the macro_block_size or set the macro_block_size to 1 (risking incompatibility).\n",
      "[swscaler @ 0x67ca900] Warning: data is not aligned! This can lead to a speed loss\n",
      "100%|██████████| 247/247 [00:14<00:00, 17.25it/s]\n"
     ]
    },
    {
     "name": "stdout",
     "output_type": "stream",
     "text": [
      "/home/hrai/codes/MotionBERT/data/motion3d/h36m_gt_pkl/S5_55011271_Waiting 2.pkl\n",
      "S5 Waiting 2 55011271\n",
      "/home/hrai/codes/MotionBERT/data/motion3d/h36m_gt_pkl/S6_58860488_Sitting 2.pkl\n",
      "S6 Sitting 2 58860488\n",
      "/home/hrai/codes/MotionBERT/data/motion3d/h36m_gt_pkl/S1_58860488_WalkTogether 1.pkl\n",
      "S1 WalkTogether 1 58860488\n"
     ]
    },
    {
     "name": "stderr",
     "output_type": "stream",
     "text": [
      "  0%|          | 0/255 [00:00<?, ?it/s]IMAGEIO FFMPEG_WRITER WARNING: input image is not divisible by macro_block_size=16, resizing from (1500, 500) to (1504, 512) to ensure video compatibility with most codecs and players. To prevent resizing, make your input image divisible by the macro_block_size or set the macro_block_size to 1 (risking incompatibility).\n",
      "[swscaler @ 0x5bb6900] Warning: data is not aligned! This can lead to a speed loss\n",
      "100%|██████████| 255/255 [00:14<00:00, 17.12it/s]\n"
     ]
    },
    {
     "name": "stdout",
     "output_type": "stream",
     "text": [
      "/home/hrai/codes/MotionBERT/data/motion3d/h36m_gt_pkl/S6_55011271_SittingDown 1.pkl\n",
      "S6 SittingDown 1 55011271\n",
      "/home/hrai/codes/MotionBERT/data/motion3d/h36m_gt_pkl/S6_58860488_Phoning.pkl\n",
      "S6 Phoning 58860488\n",
      "/home/hrai/codes/MotionBERT/data/motion3d/h36m_gt_pkl/S6_55011271_WalkDog.pkl\n",
      "S6 WalkDog 55011271\n",
      "/home/hrai/codes/MotionBERT/data/motion3d/h36m_gt_pkl/S11_60457274_Walking 1.pkl\n",
      "S11 Walking 1 60457274\n",
      "/home/hrai/codes/MotionBERT/data/motion3d/h36m_gt_pkl/S7_55011271_Greeting 1.pkl\n",
      "S7 Greeting 1 55011271\n",
      "/home/hrai/codes/MotionBERT/data/motion3d/h36m_gt_pkl/S11_55011271_Waiting 1.pkl\n",
      "S11 Waiting 1 55011271\n",
      "/home/hrai/codes/MotionBERT/data/motion3d/h36m_gt_pkl/S6_55011271_SittingDown.pkl\n",
      "S6 SittingDown 55011271\n",
      "/home/hrai/codes/MotionBERT/data/motion3d/h36m_gt_pkl/S9_55011271_Sitting 1.pkl\n",
      "S9 Sitting 1 55011271\n",
      "/home/hrai/codes/MotionBERT/data/motion3d/h36m_gt_pkl/S11_55011271_Photo.pkl\n",
      "S11 Photo 55011271\n",
      "/home/hrai/codes/MotionBERT/data/motion3d/h36m_gt_pkl/S1_54138969_Directions.pkl\n",
      "S1 Directions 54138969\n"
     ]
    },
    {
     "name": "stderr",
     "output_type": "stream",
     "text": [
      "  0%|          | 0/323 [00:00<?, ?it/s]IMAGEIO FFMPEG_WRITER WARNING: input image is not divisible by macro_block_size=16, resizing from (1500, 500) to (1504, 512) to ensure video compatibility with most codecs and players. To prevent resizing, make your input image divisible by the macro_block_size or set the macro_block_size to 1 (risking incompatibility).\n",
      "[swscaler @ 0x63dc900] Warning: data is not aligned! This can lead to a speed loss\n",
      "100%|██████████| 323/323 [00:18<00:00, 17.08it/s]\n"
     ]
    },
    {
     "name": "stdout",
     "output_type": "stream",
     "text": [
      "/home/hrai/codes/MotionBERT/data/motion3d/h36m_gt_pkl/S5_55011271_Directions 2.pkl\n",
      "S5 Directions 2 55011271\n",
      "/home/hrai/codes/MotionBERT/data/motion3d/h36m_gt_pkl/S1_55011271_Directions 1.pkl\n",
      "S1 Directions 1 55011271\n"
     ]
    },
    {
     "name": "stderr",
     "output_type": "stream",
     "text": [
      "  0%|          | 0/277 [00:00<?, ?it/s]IMAGEIO FFMPEG_WRITER WARNING: input image is not divisible by macro_block_size=16, resizing from (1500, 500) to (1504, 512) to ensure video compatibility with most codecs and players. To prevent resizing, make your input image divisible by the macro_block_size or set the macro_block_size to 1 (risking incompatibility).\n",
      "[swscaler @ 0x6a77900] Warning: data is not aligned! This can lead to a speed loss\n",
      "100%|██████████| 277/277 [00:16<00:00, 16.93it/s]\n"
     ]
    },
    {
     "name": "stdout",
     "output_type": "stream",
     "text": [
      "/home/hrai/codes/MotionBERT/data/motion3d/h36m_gt_pkl/S7_55011271_Photo.pkl\n",
      "S7 Photo 55011271\n",
      "/home/hrai/codes/MotionBERT/data/motion3d/h36m_gt_pkl/S8_55011271_Purchases 1.pkl\n",
      "S8 Purchases 1 55011271\n",
      "/home/hrai/codes/MotionBERT/data/motion3d/h36m_gt_pkl/S5_55011271_Phoning.pkl\n",
      "S5 Phoning 55011271\n",
      "/home/hrai/codes/MotionBERT/data/motion3d/h36m_gt_pkl/S1_55011271_SittingDown 2.pkl\n",
      "S1 SittingDown 2 55011271\n"
     ]
    },
    {
     "name": "stderr",
     "output_type": "stream",
     "text": [
      "  0%|          | 0/605 [00:00<?, ?it/s]IMAGEIO FFMPEG_WRITER WARNING: input image is not divisible by macro_block_size=16, resizing from (1500, 500) to (1504, 512) to ensure video compatibility with most codecs and players. To prevent resizing, make your input image divisible by the macro_block_size or set the macro_block_size to 1 (risking incompatibility).\n",
      "[swscaler @ 0x5592900] Warning: data is not aligned! This can lead to a speed loss\n",
      "100%|██████████| 605/605 [00:35<00:00, 17.03it/s]\n"
     ]
    },
    {
     "name": "stdout",
     "output_type": "stream",
     "text": [
      "/home/hrai/codes/MotionBERT/data/motion3d/h36m_gt_pkl/S1_54138969_Eating.pkl\n",
      "S1 Eating 54138969\n"
     ]
    },
    {
     "name": "stderr",
     "output_type": "stream",
     "text": [
      "  0%|          | 0/545 [00:00<?, ?it/s]IMAGEIO FFMPEG_WRITER WARNING: input image is not divisible by macro_block_size=16, resizing from (1500, 500) to (1504, 512) to ensure video compatibility with most codecs and players. To prevent resizing, make your input image divisible by the macro_block_size or set the macro_block_size to 1 (risking incompatibility).\n",
      "[swscaler @ 0x6f01900] Warning: data is not aligned! This can lead to a speed loss\n",
      "100%|██████████| 545/545 [00:31<00:00, 17.05it/s]\n"
     ]
    },
    {
     "name": "stdout",
     "output_type": "stream",
     "text": [
      "/home/hrai/codes/MotionBERT/data/motion3d/h36m_gt_pkl/S9_60457274_Directions 1.pkl\n",
      "S9 Directions 1 60457274\n",
      "/home/hrai/codes/MotionBERT/data/motion3d/h36m_gt_pkl/S9_60457274_WalkTogether 1.pkl\n",
      "S9 WalkTogether 1 60457274\n",
      "/home/hrai/codes/MotionBERT/data/motion3d/h36m_gt_pkl/S8_60457274_Phoning 1.pkl\n",
      "S8 Phoning 1 60457274\n",
      "/home/hrai/codes/MotionBERT/data/motion3d/h36m_gt_pkl/S11_58860488_Discussion 2.pkl\n",
      "S11 Discussion 2 58860488\n",
      "/home/hrai/codes/MotionBERT/data/motion3d/h36m_gt_pkl/S9_54138969_Photo.pkl\n",
      "S9 Photo 54138969\n",
      "/home/hrai/codes/MotionBERT/data/motion3d/h36m_gt_pkl/S11_60457274_Discussion 2.pkl\n",
      "S11 Discussion 2 60457274\n",
      "/home/hrai/codes/MotionBERT/data/motion3d/h36m_gt_pkl/S8_54138969_Discussion 1.pkl\n",
      "S8 Discussion 1 54138969\n",
      "/home/hrai/codes/MotionBERT/data/motion3d/h36m_gt_pkl/S5_60457274_WalkDog.pkl\n",
      "S5 WalkDog 60457274\n",
      "/home/hrai/codes/MotionBERT/data/motion3d/h36m_gt_pkl/S11_55011271_Smoking.pkl\n",
      "S11 Smoking 55011271\n",
      "/home/hrai/codes/MotionBERT/data/motion3d/h36m_gt_pkl/S6_58860488_Smoking.pkl\n",
      "S6 Smoking 58860488\n",
      "/home/hrai/codes/MotionBERT/data/motion3d/h36m_gt_pkl/S11_60457274_WalkDog.pkl\n",
      "S11 WalkDog 60457274\n",
      "/home/hrai/codes/MotionBERT/data/motion3d/h36m_gt_pkl/S7_58860488_Walking 2.pkl\n",
      "S7 Walking 2 58860488\n",
      "/home/hrai/codes/MotionBERT/data/motion3d/h36m_gt_pkl/S5_58860488_Eating 1.pkl\n",
      "S5 Eating 1 58860488\n",
      "/home/hrai/codes/MotionBERT/data/motion3d/h36m_gt_pkl/S8_58860488_Sitting 1.pkl\n",
      "S8 Sitting 1 58860488\n",
      "/home/hrai/codes/MotionBERT/data/motion3d/h36m_gt_pkl/S1_60457274_Eating.pkl\n",
      "S1 Eating 60457274\n"
     ]
    },
    {
     "name": "stderr",
     "output_type": "stream",
     "text": [
      "  0%|          | 0/545 [00:00<?, ?it/s]IMAGEIO FFMPEG_WRITER WARNING: input image is not divisible by macro_block_size=16, resizing from (1500, 500) to (1504, 512) to ensure video compatibility with most codecs and players. To prevent resizing, make your input image divisible by the macro_block_size or set the macro_block_size to 1 (risking incompatibility).\n",
      "[swscaler @ 0x55b8900] Warning: data is not aligned! This can lead to a speed loss\n",
      "100%|██████████| 545/545 [00:31<00:00, 17.07it/s]\n"
     ]
    },
    {
     "name": "stdout",
     "output_type": "stream",
     "text": [
      "/home/hrai/codes/MotionBERT/data/motion3d/h36m_gt_pkl/S9_55011271_Waiting 1.pkl\n",
      "S9 Waiting 1 55011271\n",
      "/home/hrai/codes/MotionBERT/data/motion3d/h36m_gt_pkl/S11_54138969_Discussion 2.pkl\n",
      "S11 Discussion 2 54138969\n",
      "/home/hrai/codes/MotionBERT/data/motion3d/h36m_gt_pkl/S11_60457274_SittingDown.pkl\n",
      "S11 SittingDown 60457274\n",
      "/home/hrai/codes/MotionBERT/data/motion3d/h36m_gt_pkl/S6_58860488_Phoning 1.pkl\n",
      "S6 Phoning 1 58860488\n",
      "/home/hrai/codes/MotionBERT/data/motion3d/h36m_gt_pkl/S9_55011271_Phoning.pkl\n",
      "S9 Phoning 55011271\n",
      "/home/hrai/codes/MotionBERT/data/motion3d/h36m_gt_pkl/S1_54138969_Photo.pkl\n",
      "S1 Photo 54138969\n"
     ]
    },
    {
     "name": "stderr",
     "output_type": "stream",
     "text": [
      "  0%|          | 0/208 [00:00<?, ?it/s]IMAGEIO FFMPEG_WRITER WARNING: input image is not divisible by macro_block_size=16, resizing from (1500, 500) to (1504, 512) to ensure video compatibility with most codecs and players. To prevent resizing, make your input image divisible by the macro_block_size or set the macro_block_size to 1 (risking incompatibility).\n",
      "[swscaler @ 0x6824900] Warning: data is not aligned! This can lead to a speed loss\n",
      "100%|██████████| 208/208 [00:12<00:00, 16.90it/s]\n"
     ]
    },
    {
     "name": "stdout",
     "output_type": "stream",
     "text": [
      "/home/hrai/codes/MotionBERT/data/motion3d/h36m_gt_pkl/S11_54138969_Waiting.pkl\n",
      "S11 Waiting 54138969\n",
      "/home/hrai/codes/MotionBERT/data/motion3d/h36m_gt_pkl/S5_60457274_WalkTogether 1.pkl\n",
      "S5 WalkTogether 1 60457274\n",
      "/home/hrai/codes/MotionBERT/data/motion3d/h36m_gt_pkl/S7_54138969_Posing 1.pkl\n",
      "S7 Posing 1 54138969\n",
      "/home/hrai/codes/MotionBERT/data/motion3d/h36m_gt_pkl/S1_55011271_Waiting 1.pkl\n",
      "S1 Waiting 1 55011271\n"
     ]
    },
    {
     "name": "stderr",
     "output_type": "stream",
     "text": [
      "  0%|          | 0/288 [00:00<?, ?it/s]IMAGEIO FFMPEG_WRITER WARNING: input image is not divisible by macro_block_size=16, resizing from (1500, 500) to (1504, 512) to ensure video compatibility with most codecs and players. To prevent resizing, make your input image divisible by the macro_block_size or set the macro_block_size to 1 (risking incompatibility).\n",
      "[swscaler @ 0x61ea900] Warning: data is not aligned! This can lead to a speed loss\n",
      "100%|██████████| 288/288 [00:16<00:00, 16.96it/s]\n"
     ]
    },
    {
     "name": "stdout",
     "output_type": "stream",
     "text": [
      "/home/hrai/codes/MotionBERT/data/motion3d/h36m_gt_pkl/S6_60457274_Phoning 1.pkl\n",
      "S6 Phoning 1 60457274\n",
      "/home/hrai/codes/MotionBERT/data/motion3d/h36m_gt_pkl/S5_54138969_Eating 1.pkl\n",
      "S5 Eating 1 54138969\n",
      "/home/hrai/codes/MotionBERT/data/motion3d/h36m_gt_pkl/S1_58860488_Directions 1.pkl\n",
      "S1 Directions 1 58860488\n"
     ]
    },
    {
     "name": "stderr",
     "output_type": "stream",
     "text": [
      "  0%|          | 0/277 [00:00<?, ?it/s]IMAGEIO FFMPEG_WRITER WARNING: input image is not divisible by macro_block_size=16, resizing from (1500, 500) to (1504, 512) to ensure video compatibility with most codecs and players. To prevent resizing, make your input image divisible by the macro_block_size or set the macro_block_size to 1 (risking incompatibility).\n",
      "[swscaler @ 0x6034900] Warning: data is not aligned! This can lead to a speed loss\n",
      "100%|██████████| 277/277 [00:16<00:00, 16.75it/s]\n"
     ]
    },
    {
     "name": "stdout",
     "output_type": "stream",
     "text": [
      "/home/hrai/codes/MotionBERT/data/motion3d/h36m_gt_pkl/S8_60457274_Directions.pkl\n",
      "S8 Directions 60457274\n",
      "/home/hrai/codes/MotionBERT/data/motion3d/h36m_gt_pkl/S8_60457274_Waiting.pkl\n",
      "S8 Waiting 60457274\n",
      "/home/hrai/codes/MotionBERT/data/motion3d/h36m_gt_pkl/S9_60457274_Phoning.pkl\n",
      "S9 Phoning 60457274\n",
      "/home/hrai/codes/MotionBERT/data/motion3d/h36m_gt_pkl/S1_54138969_Posing.pkl\n",
      "S1 Posing 54138969\n"
     ]
    },
    {
     "name": "stderr",
     "output_type": "stream",
     "text": [
      "  0%|          | 0/199 [00:00<?, ?it/s]IMAGEIO FFMPEG_WRITER WARNING: input image is not divisible by macro_block_size=16, resizing from (1500, 500) to (1504, 512) to ensure video compatibility with most codecs and players. To prevent resizing, make your input image divisible by the macro_block_size or set the macro_block_size to 1 (risking incompatibility).\n",
      "[swscaler @ 0x60f6900] Warning: data is not aligned! This can lead to a speed loss\n",
      "100%|██████████| 199/199 [00:11<00:00, 17.10it/s]\n"
     ]
    },
    {
     "name": "stdout",
     "output_type": "stream",
     "text": [
      "/home/hrai/codes/MotionBERT/data/motion3d/h36m_gt_pkl/S11_55011271_Phoning 3.pkl\n",
      "S11 Phoning 3 55011271\n",
      "/home/hrai/codes/MotionBERT/data/motion3d/h36m_gt_pkl/S7_60457274_WalkDog 1.pkl\n",
      "S7 WalkDog 1 60457274\n",
      "/home/hrai/codes/MotionBERT/data/motion3d/h36m_gt_pkl/S7_60457274_SittingDown.pkl\n",
      "S7 SittingDown 60457274\n",
      "/home/hrai/codes/MotionBERT/data/motion3d/h36m_gt_pkl/S1_60457274_Purchases 1.pkl\n",
      "S1 Purchases 1 60457274\n"
     ]
    },
    {
     "name": "stderr",
     "output_type": "stream",
     "text": [
      "  0%|          | 0/213 [00:00<?, ?it/s]IMAGEIO FFMPEG_WRITER WARNING: input image is not divisible by macro_block_size=16, resizing from (1500, 500) to (1504, 512) to ensure video compatibility with most codecs and players. To prevent resizing, make your input image divisible by the macro_block_size or set the macro_block_size to 1 (risking incompatibility).\n",
      "[swscaler @ 0x6440900] Warning: data is not aligned! This can lead to a speed loss\n",
      "100%|██████████| 213/213 [00:12<00:00, 16.89it/s]\n"
     ]
    },
    {
     "name": "stdout",
     "output_type": "stream",
     "text": [
      "/home/hrai/codes/MotionBERT/data/motion3d/h36m_gt_pkl/S6_54138969_Eating 1.pkl\n",
      "S6 Eating 1 54138969\n",
      "/home/hrai/codes/MotionBERT/data/motion3d/h36m_gt_pkl/S11_54138969_Photo.pkl\n",
      "S11 Photo 54138969\n",
      "/home/hrai/codes/MotionBERT/data/motion3d/h36m_gt_pkl/S9_58860488_Photo 1.pkl\n",
      "S9 Photo 1 58860488\n",
      "/home/hrai/codes/MotionBERT/data/motion3d/h36m_gt_pkl/S6_55011271_Directions 1.pkl\n",
      "S6 Directions 1 55011271\n",
      "/home/hrai/codes/MotionBERT/data/motion3d/h36m_gt_pkl/S6_54138969_Posing.pkl\n",
      "S6 Posing 54138969\n",
      "/home/hrai/codes/MotionBERT/data/motion3d/h36m_gt_pkl/S5_58860488_Greeting 1.pkl\n",
      "S5 Greeting 1 58860488\n",
      "/home/hrai/codes/MotionBERT/data/motion3d/h36m_gt_pkl/S7_58860488_SittingDown.pkl\n",
      "S7 SittingDown 58860488\n",
      "/home/hrai/codes/MotionBERT/data/motion3d/h36m_gt_pkl/S8_60457274_Purchases 1.pkl\n",
      "S8 Purchases 1 60457274\n",
      "/home/hrai/codes/MotionBERT/data/motion3d/h36m_gt_pkl/S7_55011271_Purchases.pkl\n",
      "S7 Purchases 55011271\n",
      "/home/hrai/codes/MotionBERT/data/motion3d/h36m_gt_pkl/S7_55011271_Phoning 2.pkl\n",
      "S7 Phoning 2 55011271\n",
      "/home/hrai/codes/MotionBERT/data/motion3d/h36m_gt_pkl/S6_54138969_Phoning 1.pkl\n",
      "S6 Phoning 1 54138969\n",
      "/home/hrai/codes/MotionBERT/data/motion3d/h36m_gt_pkl/S11_54138969_Directions 1.pkl\n",
      "S11 Directions 1 54138969\n",
      "/home/hrai/codes/MotionBERT/data/motion3d/h36m_gt_pkl/S8_54138969_Posing 1.pkl\n",
      "S8 Posing 1 54138969\n",
      "/home/hrai/codes/MotionBERT/data/motion3d/h36m_gt_pkl/S11_55011271_Phoning 2.pkl\n",
      "S11 Phoning 2 55011271\n",
      "/home/hrai/codes/MotionBERT/data/motion3d/h36m_gt_pkl/S11_55011271_Directions 1.pkl\n",
      "S11 Directions 1 55011271\n",
      "/home/hrai/codes/MotionBERT/data/motion3d/h36m_gt_pkl/S7_60457274_WalkTogether.pkl\n",
      "S7 WalkTogether 60457274\n",
      "/home/hrai/codes/MotionBERT/data/motion3d/h36m_gt_pkl/S1_55011271_Phoning.pkl\n",
      "S1 Phoning 55011271\n"
     ]
    },
    {
     "name": "stderr",
     "output_type": "stream",
     "text": [
      "  0%|          | 0/454 [00:00<?, ?it/s]IMAGEIO FFMPEG_WRITER WARNING: input image is not divisible by macro_block_size=16, resizing from (1500, 500) to (1504, 512) to ensure video compatibility with most codecs and players. To prevent resizing, make your input image divisible by the macro_block_size or set the macro_block_size to 1 (risking incompatibility).\n",
      "[swscaler @ 0x68d5900] Warning: data is not aligned! This can lead to a speed loss\n",
      "100%|██████████| 454/454 [00:26<00:00, 16.95it/s]\n"
     ]
    },
    {
     "name": "stdout",
     "output_type": "stream",
     "text": [
      "/home/hrai/codes/MotionBERT/data/motion3d/h36m_gt_pkl/S9_55011271_Photo.pkl\n",
      "S9 Photo 55011271\n",
      "/home/hrai/codes/MotionBERT/data/motion3d/h36m_gt_pkl/S7_58860488_Photo.pkl\n",
      "S7 Photo 58860488\n",
      "/home/hrai/codes/MotionBERT/data/motion3d/h36m_gt_pkl/S6_58860488_WalkTogether.pkl\n",
      "S6 WalkTogether 58860488\n",
      "/home/hrai/codes/MotionBERT/data/motion3d/h36m_gt_pkl/S7_58860488_Smoking.pkl\n",
      "S7 Smoking 58860488\n",
      "/home/hrai/codes/MotionBERT/data/motion3d/h36m_gt_pkl/S7_58860488_WalkDog.pkl\n",
      "S7 WalkDog 58860488\n",
      "/home/hrai/codes/MotionBERT/data/motion3d/h36m_gt_pkl/S9_55011271_Posing.pkl\n",
      "S9 Posing 55011271\n",
      "/home/hrai/codes/MotionBERT/data/motion3d/h36m_gt_pkl/S5_54138969_Greeting 1.pkl\n",
      "S5 Greeting 1 54138969\n",
      "/home/hrai/codes/MotionBERT/data/motion3d/h36m_gt_pkl/S8_60457274_Walking.pkl\n",
      "S8 Walking 60457274\n",
      "/home/hrai/codes/MotionBERT/data/motion3d/h36m_gt_pkl/S1_55011271_Phoning 1.pkl\n",
      "S1 Phoning 1 55011271\n"
     ]
    },
    {
     "name": "stderr",
     "output_type": "stream",
     "text": [
      "  0%|          | 0/528 [00:00<?, ?it/s]IMAGEIO FFMPEG_WRITER WARNING: input image is not divisible by macro_block_size=16, resizing from (1500, 500) to (1504, 512) to ensure video compatibility with most codecs and players. To prevent resizing, make your input image divisible by the macro_block_size or set the macro_block_size to 1 (risking incompatibility).\n",
      "[swscaler @ 0x6c3e900] Warning: data is not aligned! This can lead to a speed loss\n",
      "100%|██████████| 528/528 [00:30<00:00, 17.36it/s]\n"
     ]
    },
    {
     "name": "stdout",
     "output_type": "stream",
     "text": [
      "/home/hrai/codes/MotionBERT/data/motion3d/h36m_gt_pkl/S11_60457274_Phoning 3.pkl\n",
      "S11 Phoning 3 60457274\n",
      "/home/hrai/codes/MotionBERT/data/motion3d/h36m_gt_pkl/S7_54138969_Greeting.pkl\n",
      "S7 Greeting 54138969\n",
      "/home/hrai/codes/MotionBERT/data/motion3d/h36m_gt_pkl/S9_60457274_Phoning 1.pkl\n",
      "S9 Phoning 1 60457274\n",
      "/home/hrai/codes/MotionBERT/data/motion3d/h36m_gt_pkl/S1_54138969_Discussion 1.pkl\n",
      "S1 Discussion 1 54138969\n"
     ]
    },
    {
     "name": "stderr",
     "output_type": "stream",
     "text": [
      "  0%|          | 0/761 [00:00<?, ?it/s]IMAGEIO FFMPEG_WRITER WARNING: input image is not divisible by macro_block_size=16, resizing from (1500, 500) to (1504, 512) to ensure video compatibility with most codecs and players. To prevent resizing, make your input image divisible by the macro_block_size or set the macro_block_size to 1 (risking incompatibility).\n",
      "[swscaler @ 0x6f43900] Warning: data is not aligned! This can lead to a speed loss\n",
      "100%|██████████| 761/761 [00:44<00:00, 17.04it/s]\n"
     ]
    },
    {
     "name": "stdout",
     "output_type": "stream",
     "text": [
      "/home/hrai/codes/MotionBERT/data/motion3d/h36m_gt_pkl/S11_54138969_Smoking.pkl\n",
      "S11 Smoking 54138969\n",
      "/home/hrai/codes/MotionBERT/data/motion3d/h36m_gt_pkl/S11_58860488_Sitting.pkl\n",
      "S11 Sitting 58860488\n",
      "/home/hrai/codes/MotionBERT/data/motion3d/h36m_gt_pkl/S1_58860488_Photo 1.pkl\n",
      "S1 Photo 1 58860488\n"
     ]
    },
    {
     "name": "stderr",
     "output_type": "stream",
     "text": [
      "  0%|          | 0/215 [00:00<?, ?it/s]IMAGEIO FFMPEG_WRITER WARNING: input image is not divisible by macro_block_size=16, resizing from (1500, 500) to (1504, 512) to ensure video compatibility with most codecs and players. To prevent resizing, make your input image divisible by the macro_block_size or set the macro_block_size to 1 (risking incompatibility).\n",
      "[swscaler @ 0x7321900] Warning: data is not aligned! This can lead to a speed loss\n",
      "100%|██████████| 215/215 [00:12<00:00, 17.13it/s]\n"
     ]
    },
    {
     "name": "stdout",
     "output_type": "stream",
     "text": [
      "/home/hrai/codes/MotionBERT/data/motion3d/h36m_gt_pkl/S6_58860488_Greeting.pkl\n",
      "S6 Greeting 58860488\n",
      "/home/hrai/codes/MotionBERT/data/motion3d/h36m_gt_pkl/S9_54138969_WalkTogether.pkl\n",
      "S9 WalkTogether 54138969\n",
      "/home/hrai/codes/MotionBERT/data/motion3d/h36m_gt_pkl/S9_54138969_Phoning 1.pkl\n",
      "S9 Phoning 1 54138969\n",
      "/home/hrai/codes/MotionBERT/data/motion3d/h36m_gt_pkl/S1_54138969_Greeting 1.pkl\n",
      "S1 Greeting 1 54138969\n"
     ]
    },
    {
     "name": "stderr",
     "output_type": "stream",
     "text": [
      "  0%|          | 0/253 [00:00<?, ?it/s]IMAGEIO FFMPEG_WRITER WARNING: input image is not divisible by macro_block_size=16, resizing from (1500, 500) to (1504, 512) to ensure video compatibility with most codecs and players. To prevent resizing, make your input image divisible by the macro_block_size or set the macro_block_size to 1 (risking incompatibility).\n",
      "[swscaler @ 0x5fd5900] Warning: data is not aligned! This can lead to a speed loss\n",
      "100%|██████████| 253/253 [00:14<00:00, 16.96it/s]\n"
     ]
    },
    {
     "name": "stdout",
     "output_type": "stream",
     "text": [
      "/home/hrai/codes/MotionBERT/data/motion3d/h36m_gt_pkl/S1_60457274_Greeting 1.pkl\n",
      "S1 Greeting 1 60457274\n"
     ]
    },
    {
     "name": "stderr",
     "output_type": "stream",
     "text": [
      "  0%|          | 0/253 [00:00<?, ?it/s]IMAGEIO FFMPEG_WRITER WARNING: input image is not divisible by macro_block_size=16, resizing from (1500, 500) to (1504, 512) to ensure video compatibility with most codecs and players. To prevent resizing, make your input image divisible by the macro_block_size or set the macro_block_size to 1 (risking incompatibility).\n",
      "[swscaler @ 0x6e16900] Warning: data is not aligned! This can lead to a speed loss\n",
      "100%|██████████| 253/253 [00:14<00:00, 17.12it/s]\n"
     ]
    },
    {
     "name": "stdout",
     "output_type": "stream",
     "text": [
      "/home/hrai/codes/MotionBERT/data/motion3d/h36m_gt_pkl/S8_55011271_Eating 1.pkl\n",
      "S8 Eating 1 55011271\n",
      "/home/hrai/codes/MotionBERT/data/motion3d/h36m_gt_pkl/S8_54138969_Phoning.pkl\n",
      "S8 Phoning 54138969\n",
      "/home/hrai/codes/MotionBERT/data/motion3d/h36m_gt_pkl/S7_60457274_Smoking.pkl\n",
      "S7 Smoking 60457274\n",
      "/home/hrai/codes/MotionBERT/data/motion3d/h36m_gt_pkl/S9_58860488_Greeting 1.pkl\n",
      "S9 Greeting 1 58860488\n",
      "/home/hrai/codes/MotionBERT/data/motion3d/h36m_gt_pkl/S5_54138969_Purchases 1.pkl\n",
      "S5 Purchases 1 54138969\n",
      "/home/hrai/codes/MotionBERT/data/motion3d/h36m_gt_pkl/S7_54138969_Smoking 1.pkl\n",
      "S7 Smoking 1 54138969\n",
      "/home/hrai/codes/MotionBERT/data/motion3d/h36m_gt_pkl/S11_54138969_Eating.pkl\n",
      "S11 Eating 54138969\n",
      "/home/hrai/codes/MotionBERT/data/motion3d/h36m_gt_pkl/S6_60457274_Photo 1.pkl\n",
      "S6 Photo 1 60457274\n",
      "/home/hrai/codes/MotionBERT/data/motion3d/h36m_gt_pkl/S9_60457274_Discussion 2.pkl\n",
      "S9 Discussion 2 60457274\n",
      "/home/hrai/codes/MotionBERT/data/motion3d/h36m_gt_pkl/S8_60457274_Discussion.pkl\n",
      "S8 Discussion 60457274\n",
      "/home/hrai/codes/MotionBERT/data/motion3d/h36m_gt_pkl/S7_54138969_Purchases 1.pkl\n",
      "S7 Purchases 1 54138969\n",
      "/home/hrai/codes/MotionBERT/data/motion3d/h36m_gt_pkl/S1_55011271_Sitting 1.pkl\n",
      "S1 Sitting 1 55011271\n"
     ]
    },
    {
     "name": "stderr",
     "output_type": "stream",
     "text": [
      "  0%|          | 0/661 [00:00<?, ?it/s]IMAGEIO FFMPEG_WRITER WARNING: input image is not divisible by macro_block_size=16, resizing from (1500, 500) to (1504, 512) to ensure video compatibility with most codecs and players. To prevent resizing, make your input image divisible by the macro_block_size or set the macro_block_size to 1 (risking incompatibility).\n",
      "[swscaler @ 0x60a3900] Warning: data is not aligned! This can lead to a speed loss\n",
      "100%|██████████| 661/661 [00:38<00:00, 17.28it/s]\n"
     ]
    },
    {
     "name": "stdout",
     "output_type": "stream",
     "text": [
      "/home/hrai/codes/MotionBERT/data/motion3d/h36m_gt_pkl/S11_58860488_SittingDown.pkl\n",
      "S11 SittingDown 58860488\n",
      "/home/hrai/codes/MotionBERT/data/motion3d/h36m_gt_pkl/S6_54138969_Greeting.pkl\n",
      "S6 Greeting 54138969\n",
      "/home/hrai/codes/MotionBERT/data/motion3d/h36m_gt_pkl/S8_55011271_WalkDog 1.pkl\n",
      "S8 WalkDog 1 55011271\n",
      "/home/hrai/codes/MotionBERT/data/motion3d/h36m_gt_pkl/S7_60457274_Photo 1.pkl\n",
      "S7 Photo 1 60457274\n",
      "/home/hrai/codes/MotionBERT/data/motion3d/h36m_gt_pkl/S9_60457274_Waiting 1.pkl\n",
      "S9 Waiting 1 60457274\n",
      "/home/hrai/codes/MotionBERT/data/motion3d/h36m_gt_pkl/S8_54138969_Phoning 1.pkl\n",
      "S8 Phoning 1 54138969\n",
      "/home/hrai/codes/MotionBERT/data/motion3d/h36m_gt_pkl/S6_54138969_Phoning.pkl\n",
      "S6 Phoning 54138969\n",
      "/home/hrai/codes/MotionBERT/data/motion3d/h36m_gt_pkl/S5_58860488_WalkTogether.pkl\n",
      "S5 WalkTogether 58860488\n",
      "/home/hrai/codes/MotionBERT/data/motion3d/h36m_gt_pkl/S6_60457274_Smoking 1.pkl\n",
      "S6 Smoking 1 60457274\n",
      "/home/hrai/codes/MotionBERT/data/motion3d/h36m_gt_pkl/S11_54138969_Walking 1.pkl\n",
      "S11 Walking 1 54138969\n",
      "/home/hrai/codes/MotionBERT/data/motion3d/h36m_gt_pkl/S11_60457274_Smoking.pkl\n",
      "S11 Smoking 60457274\n",
      "/home/hrai/codes/MotionBERT/data/motion3d/h36m_gt_pkl/S7_60457274_Waiting 1.pkl\n",
      "S7 Waiting 1 60457274\n",
      "/home/hrai/codes/MotionBERT/data/motion3d/h36m_gt_pkl/S5_60457274_Photo 2.pkl\n",
      "S5 Photo 2 60457274\n",
      "/home/hrai/codes/MotionBERT/data/motion3d/h36m_gt_pkl/S1_58860488_Eating.pkl\n",
      "S1 Eating 58860488\n"
     ]
    },
    {
     "name": "stderr",
     "output_type": "stream",
     "text": [
      "  0%|          | 0/545 [00:00<?, ?it/s]IMAGEIO FFMPEG_WRITER WARNING: input image is not divisible by macro_block_size=16, resizing from (1500, 500) to (1504, 512) to ensure video compatibility with most codecs and players. To prevent resizing, make your input image divisible by the macro_block_size or set the macro_block_size to 1 (risking incompatibility).\n",
      "[swscaler @ 0x615e900] Warning: data is not aligned! This can lead to a speed loss\n",
      "100%|██████████| 545/545 [00:31<00:00, 17.15it/s]\n"
     ]
    },
    {
     "name": "stdout",
     "output_type": "stream",
     "text": [
      "/home/hrai/codes/MotionBERT/data/motion3d/h36m_gt_pkl/S11_55011271_Discussion 1.pkl\n",
      "S11 Discussion 1 55011271\n",
      "/home/hrai/codes/MotionBERT/data/motion3d/h36m_gt_pkl/S1_60457274_Discussion.pkl\n",
      "S1 Discussion 60457274\n"
     ]
    },
    {
     "name": "stderr",
     "output_type": "stream",
     "text": [
      "  0%|          | 0/771 [00:00<?, ?it/s]IMAGEIO FFMPEG_WRITER WARNING: input image is not divisible by macro_block_size=16, resizing from (1500, 500) to (1504, 512) to ensure video compatibility with most codecs and players. To prevent resizing, make your input image divisible by the macro_block_size or set the macro_block_size to 1 (risking incompatibility).\n",
      "[swscaler @ 0x58d3900] Warning: data is not aligned! This can lead to a speed loss\n",
      "100%|██████████| 771/771 [00:44<00:00, 17.20it/s]\n"
     ]
    },
    {
     "name": "stdout",
     "output_type": "stream",
     "text": [
      "/home/hrai/codes/MotionBERT/data/motion3d/h36m_gt_pkl/S8_58860488_Walking.pkl\n",
      "S8 Walking 58860488\n",
      "/home/hrai/codes/MotionBERT/data/motion3d/h36m_gt_pkl/S5_58860488_Greeting 2.pkl\n",
      "S5 Greeting 2 58860488\n",
      "/home/hrai/codes/MotionBERT/data/motion3d/h36m_gt_pkl/S9_54138969_WalkTogether 1.pkl\n",
      "S9 WalkTogether 1 54138969\n",
      "/home/hrai/codes/MotionBERT/data/motion3d/h36m_gt_pkl/S7_58860488_Eating 1.pkl\n",
      "S7 Eating 1 58860488\n",
      "/home/hrai/codes/MotionBERT/data/motion3d/h36m_gt_pkl/S1_55011271_Greeting 1.pkl\n",
      "S1 Greeting 1 55011271\n"
     ]
    },
    {
     "name": "stderr",
     "output_type": "stream",
     "text": [
      "  0%|          | 0/253 [00:00<?, ?it/s]IMAGEIO FFMPEG_WRITER WARNING: input image is not divisible by macro_block_size=16, resizing from (1500, 500) to (1504, 512) to ensure video compatibility with most codecs and players. To prevent resizing, make your input image divisible by the macro_block_size or set the macro_block_size to 1 (risking incompatibility).\n",
      "[swscaler @ 0x564f900] Warning: data is not aligned! This can lead to a speed loss\n",
      "100%|██████████| 253/253 [00:14<00:00, 17.23it/s]\n"
     ]
    },
    {
     "name": "stdout",
     "output_type": "stream",
     "text": [
      "/home/hrai/codes/MotionBERT/data/motion3d/h36m_gt_pkl/S7_60457274_WalkDog.pkl\n",
      "S7 WalkDog 60457274\n",
      "/home/hrai/codes/MotionBERT/data/motion3d/h36m_gt_pkl/S1_60457274_Sitting 2.pkl\n",
      "S1 Sitting 2 60457274\n"
     ]
    },
    {
     "name": "stderr",
     "output_type": "stream",
     "text": [
      "  0%|          | 0/523 [00:00<?, ?it/s]IMAGEIO FFMPEG_WRITER WARNING: input image is not divisible by macro_block_size=16, resizing from (1500, 500) to (1504, 512) to ensure video compatibility with most codecs and players. To prevent resizing, make your input image divisible by the macro_block_size or set the macro_block_size to 1 (risking incompatibility).\n",
      "[swscaler @ 0x5ee8900] Warning: data is not aligned! This can lead to a speed loss\n",
      "100%|██████████| 523/523 [00:30<00:00, 17.19it/s]\n"
     ]
    },
    {
     "name": "stdout",
     "output_type": "stream",
     "text": [
      "/home/hrai/codes/MotionBERT/data/motion3d/h36m_gt_pkl/S6_58860488_Photo.pkl\n",
      "S6 Photo 58860488\n",
      "/home/hrai/codes/MotionBERT/data/motion3d/h36m_gt_pkl/S8_60457274_WalkDog 1.pkl\n",
      "S8 WalkDog 1 60457274\n",
      "/home/hrai/codes/MotionBERT/data/motion3d/h36m_gt_pkl/S7_60457274_Discussion 1.pkl\n",
      "S7 Discussion 1 60457274\n",
      "/home/hrai/codes/MotionBERT/data/motion3d/h36m_gt_pkl/S8_60457274_Smoking 1.pkl\n",
      "S8 Smoking 1 60457274\n",
      "/home/hrai/codes/MotionBERT/data/motion3d/h36m_gt_pkl/S9_54138969_SittingDown.pkl\n",
      "S9 SittingDown 54138969\n",
      "/home/hrai/codes/MotionBERT/data/motion3d/h36m_gt_pkl/S1_55011271_Purchases 1.pkl\n",
      "S1 Purchases 1 55011271\n"
     ]
    },
    {
     "name": "stderr",
     "output_type": "stream",
     "text": [
      "  0%|          | 0/213 [00:00<?, ?it/s]IMAGEIO FFMPEG_WRITER WARNING: input image is not divisible by macro_block_size=16, resizing from (1500, 500) to (1504, 512) to ensure video compatibility with most codecs and players. To prevent resizing, make your input image divisible by the macro_block_size or set the macro_block_size to 1 (risking incompatibility).\n",
      "[swscaler @ 0x673a900] Warning: data is not aligned! This can lead to a speed loss\n",
      "100%|██████████| 213/213 [00:12<00:00, 17.04it/s]\n"
     ]
    },
    {
     "name": "stdout",
     "output_type": "stream",
     "text": [
      "/home/hrai/codes/MotionBERT/data/motion3d/h36m_gt_pkl/S11_60457274_Sitting.pkl\n",
      "S11 Sitting 60457274\n",
      "/home/hrai/codes/MotionBERT/data/motion3d/h36m_gt_pkl/S11_55011271_Purchases.pkl\n",
      "S11 Purchases 55011271\n",
      "/home/hrai/codes/MotionBERT/data/motion3d/h36m_gt_pkl/S9_54138969_Greeting 1.pkl\n",
      "S9 Greeting 1 54138969\n",
      "/home/hrai/codes/MotionBERT/data/motion3d/h36m_gt_pkl/S7_60457274_Walking 1.pkl\n",
      "S7 Walking 1 60457274\n",
      "/home/hrai/codes/MotionBERT/data/motion3d/h36m_gt_pkl/S9_54138969_Discussion 1.pkl\n",
      "S9 Discussion 1 54138969\n",
      "/home/hrai/codes/MotionBERT/data/motion3d/h36m_gt_pkl/S8_55011271_WalkTogether 2.pkl\n",
      "S8 WalkTogether 2 55011271\n",
      "/home/hrai/codes/MotionBERT/data/motion3d/h36m_gt_pkl/S7_55011271_WalkDog.pkl\n",
      "S7 WalkDog 55011271\n",
      "/home/hrai/codes/MotionBERT/data/motion3d/h36m_gt_pkl/S7_54138969_Discussion.pkl\n",
      "S7 Discussion 54138969\n",
      "/home/hrai/codes/MotionBERT/data/motion3d/h36m_gt_pkl/S8_60457274_Walking 1.pkl\n",
      "S8 Walking 1 60457274\n",
      "/home/hrai/codes/MotionBERT/data/motion3d/h36m_gt_pkl/S11_55011271_WalkTogether.pkl\n",
      "S11 WalkTogether 55011271\n",
      "/home/hrai/codes/MotionBERT/data/motion3d/h36m_gt_pkl/S9_60457274_WalkDog.pkl\n",
      "S9 WalkDog 60457274\n",
      "/home/hrai/codes/MotionBERT/data/motion3d/h36m_gt_pkl/S8_54138969_Walking 1.pkl\n",
      "S8 Walking 1 54138969\n",
      "/home/hrai/codes/MotionBERT/data/motion3d/h36m_gt_pkl/S5_55011271_Waiting 1.pkl\n",
      "S5 Waiting 1 55011271\n",
      "/home/hrai/codes/MotionBERT/data/motion3d/h36m_gt_pkl/S11_60457274_Eating 1.pkl\n",
      "S11 Eating 1 60457274\n",
      "/home/hrai/codes/MotionBERT/data/motion3d/h36m_gt_pkl/S6_60457274_Posing 2.pkl\n",
      "S6 Posing 2 60457274\n",
      "/home/hrai/codes/MotionBERT/data/motion3d/h36m_gt_pkl/S7_60457274_Directions 1.pkl\n",
      "S7 Directions 1 60457274\n",
      "/home/hrai/codes/MotionBERT/data/motion3d/h36m_gt_pkl/S8_55011271_Walking.pkl\n",
      "S8 Walking 55011271\n",
      "/home/hrai/codes/MotionBERT/data/motion3d/h36m_gt_pkl/S5_60457274_Walking 1.pkl\n",
      "S5 Walking 1 60457274\n",
      "/home/hrai/codes/MotionBERT/data/motion3d/h36m_gt_pkl/S11_55011271_Posing.pkl\n",
      "S11 Posing 55011271\n",
      "/home/hrai/codes/MotionBERT/data/motion3d/h36m_gt_pkl/S5_60457274_Posing.pkl\n",
      "S5 Posing 60457274\n",
      "/home/hrai/codes/MotionBERT/data/motion3d/h36m_gt_pkl/S8_54138969_Purchases.pkl\n",
      "S8 Purchases 54138969\n",
      "/home/hrai/codes/MotionBERT/data/motion3d/h36m_gt_pkl/S1_60457274_WalkDog 1.pkl\n",
      "S1 WalkDog 1 60457274\n"
     ]
    },
    {
     "name": "stderr",
     "output_type": "stream",
     "text": [
      "  0%|          | 0/333 [00:00<?, ?it/s]IMAGEIO FFMPEG_WRITER WARNING: input image is not divisible by macro_block_size=16, resizing from (1500, 500) to (1504, 512) to ensure video compatibility with most codecs and players. To prevent resizing, make your input image divisible by the macro_block_size or set the macro_block_size to 1 (risking incompatibility).\n",
      "[swscaler @ 0x656f900] Warning: data is not aligned! This can lead to a speed loss\n",
      "100%|██████████| 333/333 [00:19<00:00, 17.21it/s]\n"
     ]
    },
    {
     "name": "stdout",
     "output_type": "stream",
     "text": [
      "/home/hrai/codes/MotionBERT/data/motion3d/h36m_gt_pkl/S7_58860488_Eating.pkl\n",
      "S7 Eating 58860488\n",
      "/home/hrai/codes/MotionBERT/data/motion3d/h36m_gt_pkl/S6_58860488_Greeting 1.pkl\n",
      "S6 Greeting 1 58860488\n",
      "/home/hrai/codes/MotionBERT/data/motion3d/h36m_gt_pkl/S7_58860488_WalkDog 1.pkl\n",
      "S7 WalkDog 1 58860488\n",
      "/home/hrai/codes/MotionBERT/data/motion3d/h36m_gt_pkl/S9_58860488_WalkTogether 1.pkl\n",
      "S9 WalkTogether 1 58860488\n",
      "/home/hrai/codes/MotionBERT/data/motion3d/h36m_gt_pkl/S9_60457274_Greeting.pkl\n",
      "S9 Greeting 60457274\n",
      "/home/hrai/codes/MotionBERT/data/motion3d/h36m_gt_pkl/S8_54138969_Posing.pkl\n",
      "S8 Posing 54138969\n",
      "/home/hrai/codes/MotionBERT/data/motion3d/h36m_gt_pkl/S5_55011271_Walking 1.pkl\n",
      "S5 Walking 1 55011271\n",
      "/home/hrai/codes/MotionBERT/data/motion3d/h36m_gt_pkl/S9_58860488_SittingDown.pkl\n",
      "S9 SittingDown 58860488\n",
      "/home/hrai/codes/MotionBERT/data/motion3d/h36m_gt_pkl/S1_58860488_Posing 1.pkl\n",
      "S1 Posing 1 58860488\n"
     ]
    },
    {
     "name": "stderr",
     "output_type": "stream",
     "text": [
      "  0%|          | 0/234 [00:00<?, ?it/s]IMAGEIO FFMPEG_WRITER WARNING: input image is not divisible by macro_block_size=16, resizing from (1500, 500) to (1504, 512) to ensure video compatibility with most codecs and players. To prevent resizing, make your input image divisible by the macro_block_size or set the macro_block_size to 1 (risking incompatibility).\n",
      "[swscaler @ 0x5e90900] Warning: data is not aligned! This can lead to a speed loss\n",
      "100%|██████████| 234/234 [00:13<00:00, 17.25it/s]\n"
     ]
    },
    {
     "name": "stdout",
     "output_type": "stream",
     "text": [
      "/home/hrai/codes/MotionBERT/data/motion3d/h36m_gt_pkl/S11_60457274_Greeting 2.pkl\n",
      "S11 Greeting 2 60457274\n",
      "/home/hrai/codes/MotionBERT/data/motion3d/h36m_gt_pkl/S7_60457274_Phoning 2.pkl\n",
      "S7 Phoning 2 60457274\n",
      "/home/hrai/codes/MotionBERT/data/motion3d/h36m_gt_pkl/S8_55011271_SittingDown.pkl\n",
      "S8 SittingDown 55011271\n",
      "/home/hrai/codes/MotionBERT/data/motion3d/h36m_gt_pkl/S7_55011271_Sitting.pkl\n",
      "S7 Sitting 55011271\n",
      "/home/hrai/codes/MotionBERT/data/motion3d/h36m_gt_pkl/S6_54138969_Discussion 1.pkl\n",
      "S6 Discussion 1 54138969\n",
      "/home/hrai/codes/MotionBERT/data/motion3d/h36m_gt_pkl/S9_55011271_Discussion 2.pkl\n",
      "S9 Discussion 2 55011271\n",
      "/home/hrai/codes/MotionBERT/data/motion3d/h36m_gt_pkl/S7_60457274_WalkTogether 1.pkl\n",
      "S7 WalkTogether 1 60457274\n",
      "/home/hrai/codes/MotionBERT/data/motion3d/h36m_gt_pkl/S6_55011271_Purchases 1.pkl\n",
      "S6 Purchases 1 55011271\n",
      "/home/hrai/codes/MotionBERT/data/motion3d/h36m_gt_pkl/S11_58860488_Waiting 1.pkl\n",
      "S11 Waiting 1 58860488\n",
      "/home/hrai/codes/MotionBERT/data/motion3d/h36m_gt_pkl/S1_54138969_Smoking.pkl\n",
      "S1 Smoking 54138969\n"
     ]
    },
    {
     "name": "stderr",
     "output_type": "stream",
     "text": [
      "  0%|          | 0/496 [00:00<?, ?it/s]IMAGEIO FFMPEG_WRITER WARNING: input image is not divisible by macro_block_size=16, resizing from (1500, 500) to (1504, 512) to ensure video compatibility with most codecs and players. To prevent resizing, make your input image divisible by the macro_block_size or set the macro_block_size to 1 (risking incompatibility).\n",
      "[swscaler @ 0x5cb7900] Warning: data is not aligned! This can lead to a speed loss\n",
      "100%|██████████| 496/496 [00:28<00:00, 17.12it/s]\n"
     ]
    },
    {
     "name": "stdout",
     "output_type": "stream",
     "text": [
      "/home/hrai/codes/MotionBERT/data/motion3d/h36m_gt_pkl/S1_54138969_Purchases.pkl\n",
      "S1 Purchases 54138969\n"
     ]
    },
    {
     "name": "stderr",
     "output_type": "stream",
     "text": [
      "  0%|          | 0/232 [00:00<?, ?it/s]IMAGEIO FFMPEG_WRITER WARNING: input image is not divisible by macro_block_size=16, resizing from (1500, 500) to (1504, 512) to ensure video compatibility with most codecs and players. To prevent resizing, make your input image divisible by the macro_block_size or set the macro_block_size to 1 (risking incompatibility).\n",
      "[swscaler @ 0x5e03900] Warning: data is not aligned! This can lead to a speed loss\n",
      "100%|██████████| 232/232 [00:13<00:00, 16.98it/s]\n"
     ]
    },
    {
     "name": "stdout",
     "output_type": "stream",
     "text": [
      "/home/hrai/codes/MotionBERT/data/motion3d/h36m_gt_pkl/S7_58860488_Smoking 1.pkl\n",
      "S7 Smoking 1 58860488\n",
      "/home/hrai/codes/MotionBERT/data/motion3d/h36m_gt_pkl/S5_54138969_WalkTogether 1.pkl\n",
      "S5 WalkTogether 1 54138969\n",
      "/home/hrai/codes/MotionBERT/data/motion3d/h36m_gt_pkl/S6_54138969_Greeting 1.pkl\n",
      "S6 Greeting 1 54138969\n",
      "/home/hrai/codes/MotionBERT/data/motion3d/h36m_gt_pkl/S6_54138969_WalkTogether.pkl\n",
      "S6 WalkTogether 54138969\n",
      "/home/hrai/codes/MotionBERT/data/motion3d/h36m_gt_pkl/S9_60457274_Smoking.pkl\n",
      "S9 Smoking 60457274\n",
      "/home/hrai/codes/MotionBERT/data/motion3d/h36m_gt_pkl/S11_60457274_Eating.pkl\n",
      "S11 Eating 60457274\n",
      "/home/hrai/codes/MotionBERT/data/motion3d/h36m_gt_pkl/S8_55011271_Phoning 1.pkl\n",
      "S8 Phoning 1 55011271\n",
      "/home/hrai/codes/MotionBERT/data/motion3d/h36m_gt_pkl/S1_54138969_Sitting 2.pkl\n",
      "S1 Sitting 2 54138969\n"
     ]
    },
    {
     "name": "stderr",
     "output_type": "stream",
     "text": [
      "  0%|          | 0/523 [00:00<?, ?it/s]IMAGEIO FFMPEG_WRITER WARNING: input image is not divisible by macro_block_size=16, resizing from (1500, 500) to (1504, 512) to ensure video compatibility with most codecs and players. To prevent resizing, make your input image divisible by the macro_block_size or set the macro_block_size to 1 (risking incompatibility).\n",
      "[swscaler @ 0x7431900] Warning: data is not aligned! This can lead to a speed loss\n",
      "100%|██████████| 523/523 [00:30<00:00, 17.16it/s]\n"
     ]
    },
    {
     "name": "stdout",
     "output_type": "stream",
     "text": [
      "/home/hrai/codes/MotionBERT/data/motion3d/h36m_gt_pkl/S11_58860488_Photo.pkl\n",
      "S11 Photo 58860488\n",
      "/home/hrai/codes/MotionBERT/data/motion3d/h36m_gt_pkl/S11_54138969_Discussion 1.pkl\n",
      "S11 Discussion 1 54138969\n",
      "/home/hrai/codes/MotionBERT/data/motion3d/h36m_gt_pkl/S8_54138969_WalkTogether 1.pkl\n",
      "S8 WalkTogether 1 54138969\n",
      "/home/hrai/codes/MotionBERT/data/motion3d/h36m_gt_pkl/S8_55011271_Discussion 1.pkl\n",
      "S8 Discussion 1 55011271\n",
      "/home/hrai/codes/MotionBERT/data/motion3d/h36m_gt_pkl/S1_54138969_Greeting.pkl\n",
      "S1 Greeting 54138969\n"
     ]
    },
    {
     "name": "stderr",
     "output_type": "stream",
     "text": [
      "  0%|          | 0/230 [00:00<?, ?it/s]IMAGEIO FFMPEG_WRITER WARNING: input image is not divisible by macro_block_size=16, resizing from (1500, 500) to (1504, 512) to ensure video compatibility with most codecs and players. To prevent resizing, make your input image divisible by the macro_block_size or set the macro_block_size to 1 (risking incompatibility).\n",
      "[swscaler @ 0x5747900] Warning: data is not aligned! This can lead to a speed loss\n",
      "100%|██████████| 230/230 [00:13<00:00, 17.06it/s]\n"
     ]
    },
    {
     "name": "stdout",
     "output_type": "stream",
     "text": [
      "/home/hrai/codes/MotionBERT/data/motion3d/h36m_gt_pkl/S1_58860488_WalkDog 1.pkl\n",
      "S1 WalkDog 1 58860488\n"
     ]
    },
    {
     "name": "stderr",
     "output_type": "stream",
     "text": [
      "  0%|          | 0/333 [00:00<?, ?it/s]IMAGEIO FFMPEG_WRITER WARNING: input image is not divisible by macro_block_size=16, resizing from (1500, 500) to (1504, 512) to ensure video compatibility with most codecs and players. To prevent resizing, make your input image divisible by the macro_block_size or set the macro_block_size to 1 (risking incompatibility).\n",
      "[swscaler @ 0x6d14900] Warning: data is not aligned! This can lead to a speed loss\n",
      "100%|██████████| 333/333 [00:19<00:00, 17.06it/s]\n"
     ]
    },
    {
     "name": "stdout",
     "output_type": "stream",
     "text": [
      "/home/hrai/codes/MotionBERT/data/motion3d/h36m_gt_pkl/S8_55011271_Smoking 1.pkl\n",
      "S8 Smoking 1 55011271\n",
      "/home/hrai/codes/MotionBERT/data/motion3d/h36m_gt_pkl/S9_54138969_Waiting.pkl\n",
      "S9 Waiting 54138969\n",
      "/home/hrai/codes/MotionBERT/data/motion3d/h36m_gt_pkl/S5_60457274_Greeting 1.pkl\n",
      "S5 Greeting 1 60457274\n",
      "/home/hrai/codes/MotionBERT/data/motion3d/h36m_gt_pkl/S11_54138969_SittingDown 1.pkl\n",
      "S11 SittingDown 1 54138969\n",
      "/home/hrai/codes/MotionBERT/data/motion3d/h36m_gt_pkl/S7_55011271_Walking 1.pkl\n",
      "S7 Walking 1 55011271\n",
      "/home/hrai/codes/MotionBERT/data/motion3d/h36m_gt_pkl/S11_54138969_Photo 1.pkl\n",
      "S11 Photo 1 54138969\n",
      "/home/hrai/codes/MotionBERT/data/motion3d/h36m_gt_pkl/S7_58860488_Discussion 1.pkl\n",
      "S7 Discussion 1 58860488\n",
      "/home/hrai/codes/MotionBERT/data/motion3d/h36m_gt_pkl/S5_55011271_Walking.pkl\n",
      "S5 Walking 55011271\n",
      "/home/hrai/codes/MotionBERT/data/motion3d/h36m_gt_pkl/S1_55011271_Smoking.pkl\n",
      "S1 Smoking 55011271\n"
     ]
    },
    {
     "name": "stderr",
     "output_type": "stream",
     "text": [
      "  0%|          | 0/496 [00:00<?, ?it/s]IMAGEIO FFMPEG_WRITER WARNING: input image is not divisible by macro_block_size=16, resizing from (1500, 500) to (1504, 512) to ensure video compatibility with most codecs and players. To prevent resizing, make your input image divisible by the macro_block_size or set the macro_block_size to 1 (risking incompatibility).\n",
      "[swscaler @ 0x5bdc900] Warning: data is not aligned! This can lead to a speed loss\n",
      "100%|██████████| 496/496 [00:28<00:00, 17.16it/s]\n"
     ]
    },
    {
     "name": "stdout",
     "output_type": "stream",
     "text": [
      "/home/hrai/codes/MotionBERT/data/motion3d/h36m_gt_pkl/S7_58860488_Photo 1.pkl\n",
      "S7 Photo 1 58860488\n",
      "/home/hrai/codes/MotionBERT/data/motion3d/h36m_gt_pkl/S1_60457274_Purchases.pkl\n",
      "S1 Purchases 60457274\n"
     ]
    },
    {
     "name": "stderr",
     "output_type": "stream",
     "text": [
      "  0%|          | 0/232 [00:00<?, ?it/s]IMAGEIO FFMPEG_WRITER WARNING: input image is not divisible by macro_block_size=16, resizing from (1500, 500) to (1504, 512) to ensure video compatibility with most codecs and players. To prevent resizing, make your input image divisible by the macro_block_size or set the macro_block_size to 1 (risking incompatibility).\n",
      "[swscaler @ 0x73ac900] Warning: data is not aligned! This can lead to a speed loss\n",
      "100%|██████████| 232/232 [00:13<00:00, 17.13it/s]\n"
     ]
    },
    {
     "name": "stdout",
     "output_type": "stream",
     "text": [
      "/home/hrai/codes/MotionBERT/data/motion3d/h36m_gt_pkl/S9_58860488_Phoning.pkl\n",
      "S9 Phoning 58860488\n",
      "/home/hrai/codes/MotionBERT/data/motion3d/h36m_gt_pkl/S9_60457274_Discussion 1.pkl\n",
      "S9 Discussion 1 60457274\n",
      "/home/hrai/codes/MotionBERT/data/motion3d/h36m_gt_pkl/S8_58860488_Photo.pkl\n",
      "S8 Photo 58860488\n",
      "/home/hrai/codes/MotionBERT/data/motion3d/h36m_gt_pkl/S8_58860488_Waiting 1.pkl\n",
      "S8 Waiting 1 58860488\n",
      "/home/hrai/codes/MotionBERT/data/motion3d/h36m_gt_pkl/S9_55011271_SittingDown.pkl\n",
      "S9 SittingDown 55011271\n",
      "/home/hrai/codes/MotionBERT/data/motion3d/h36m_gt_pkl/S5_60457274_Discussion 2.pkl\n",
      "S5 Discussion 2 60457274\n",
      "/home/hrai/codes/MotionBERT/data/motion3d/h36m_gt_pkl/S1_60457274_Phoning.pkl\n",
      "S1 Phoning 60457274\n"
     ]
    },
    {
     "name": "stderr",
     "output_type": "stream",
     "text": [
      "  0%|          | 0/454 [00:00<?, ?it/s]IMAGEIO FFMPEG_WRITER WARNING: input image is not divisible by macro_block_size=16, resizing from (1500, 500) to (1504, 512) to ensure video compatibility with most codecs and players. To prevent resizing, make your input image divisible by the macro_block_size or set the macro_block_size to 1 (risking incompatibility).\n",
      "[swscaler @ 0x5747900] Warning: data is not aligned! This can lead to a speed loss\n",
      "100%|██████████| 454/454 [00:26<00:00, 17.05it/s]\n"
     ]
    },
    {
     "name": "stdout",
     "output_type": "stream",
     "text": [
      "/home/hrai/codes/MotionBERT/data/motion3d/h36m_gt_pkl/S1_54138969_Waiting 1.pkl\n",
      "S1 Waiting 1 54138969\n"
     ]
    },
    {
     "name": "stderr",
     "output_type": "stream",
     "text": [
      "  0%|          | 0/288 [00:00<?, ?it/s]IMAGEIO FFMPEG_WRITER WARNING: input image is not divisible by macro_block_size=16, resizing from (1500, 500) to (1504, 512) to ensure video compatibility with most codecs and players. To prevent resizing, make your input image divisible by the macro_block_size or set the macro_block_size to 1 (risking incompatibility).\n",
      "[swscaler @ 0x5f26900] Warning: data is not aligned! This can lead to a speed loss\n",
      "100%|██████████| 288/288 [00:16<00:00, 17.10it/s]\n"
     ]
    },
    {
     "name": "stdout",
     "output_type": "stream",
     "text": [
      "/home/hrai/codes/MotionBERT/data/motion3d/h36m_gt_pkl/S11_55011271_Smoking 2.pkl\n",
      "S11 Smoking 2 55011271\n",
      "/home/hrai/codes/MotionBERT/data/motion3d/h36m_gt_pkl/S9_54138969_Eating 1.pkl\n",
      "S9 Eating 1 54138969\n",
      "/home/hrai/codes/MotionBERT/data/motion3d/h36m_gt_pkl/S1_54138969_Photo 1.pkl\n",
      "S1 Photo 1 54138969\n"
     ]
    },
    {
     "name": "stderr",
     "output_type": "stream",
     "text": [
      "  0%|          | 0/215 [00:00<?, ?it/s]IMAGEIO FFMPEG_WRITER WARNING: input image is not divisible by macro_block_size=16, resizing from (1500, 500) to (1504, 512) to ensure video compatibility with most codecs and players. To prevent resizing, make your input image divisible by the macro_block_size or set the macro_block_size to 1 (risking incompatibility).\n",
      "[swscaler @ 0x62a7900] Warning: data is not aligned! This can lead to a speed loss\n",
      "100%|██████████| 215/215 [00:12<00:00, 17.17it/s]\n"
     ]
    },
    {
     "name": "stdout",
     "output_type": "stream",
     "text": [
      "/home/hrai/codes/MotionBERT/data/motion3d/h36m_gt_pkl/S7_54138969_Greeting 1.pkl\n",
      "S7 Greeting 1 54138969\n",
      "/home/hrai/codes/MotionBERT/data/motion3d/h36m_gt_pkl/S1_55011271_Discussion 1.pkl\n",
      "S1 Discussion 1 55011271\n"
     ]
    },
    {
     "name": "stderr",
     "output_type": "stream",
     "text": [
      "  0%|          | 0/761 [00:00<?, ?it/s]IMAGEIO FFMPEG_WRITER WARNING: input image is not divisible by macro_block_size=16, resizing from (1500, 500) to (1504, 512) to ensure video compatibility with most codecs and players. To prevent resizing, make your input image divisible by the macro_block_size or set the macro_block_size to 1 (risking incompatibility).\n",
      "[swscaler @ 0x6de6900] Warning: data is not aligned! This can lead to a speed loss\n",
      "100%|██████████| 761/761 [00:44<00:00, 17.19it/s]\n"
     ]
    },
    {
     "name": "stdout",
     "output_type": "stream",
     "text": [
      "/home/hrai/codes/MotionBERT/data/motion3d/h36m_gt_pkl/S5_55011271_Discussion 3.pkl\n",
      "S5 Discussion 3 55011271\n",
      "/home/hrai/codes/MotionBERT/data/motion3d/h36m_gt_pkl/S11_55011271_SittingDown 1.pkl\n",
      "S11 SittingDown 1 55011271\n",
      "/home/hrai/codes/MotionBERT/data/motion3d/h36m_gt_pkl/S7_58860488_Phoning.pkl\n",
      "S7 Phoning 58860488\n",
      "/home/hrai/codes/MotionBERT/data/motion3d/h36m_gt_pkl/S8_55011271_Discussion.pkl\n",
      "S8 Discussion 55011271\n",
      "/home/hrai/codes/MotionBERT/data/motion3d/h36m_gt_pkl/S8_58860488_Sitting.pkl\n",
      "S8 Sitting 58860488\n",
      "/home/hrai/codes/MotionBERT/data/motion3d/h36m_gt_pkl/S1_58860488_Posing.pkl\n",
      "S1 Posing 58860488\n"
     ]
    },
    {
     "name": "stderr",
     "output_type": "stream",
     "text": [
      "  0%|          | 0/199 [00:00<?, ?it/s]IMAGEIO FFMPEG_WRITER WARNING: input image is not divisible by macro_block_size=16, resizing from (1500, 500) to (1504, 512) to ensure video compatibility with most codecs and players. To prevent resizing, make your input image divisible by the macro_block_size or set the macro_block_size to 1 (risking incompatibility).\n",
      "[swscaler @ 0x70ca900] Warning: data is not aligned! This can lead to a speed loss\n",
      "100%|██████████| 199/199 [00:11<00:00, 16.84it/s]\n"
     ]
    },
    {
     "name": "stdout",
     "output_type": "stream",
     "text": [
      "/home/hrai/codes/MotionBERT/data/motion3d/h36m_gt_pkl/S7_58860488_WalkTogether 1.pkl\n",
      "S7 WalkTogether 1 58860488\n",
      "/home/hrai/codes/MotionBERT/data/motion3d/h36m_gt_pkl/S5_55011271_Photo 2.pkl\n",
      "S5 Photo 2 55011271\n",
      "/home/hrai/codes/MotionBERT/data/motion3d/h36m_gt_pkl/S6_60457274_Walking.pkl\n",
      "S6 Walking 60457274\n",
      "/home/hrai/codes/MotionBERT/data/motion3d/h36m_gt_pkl/S6_58860488_Walking.pkl\n",
      "S6 Walking 58860488\n",
      "/home/hrai/codes/MotionBERT/data/motion3d/h36m_gt_pkl/S5_60457274_Purchases 1.pkl\n",
      "S5 Purchases 1 60457274\n",
      "/home/hrai/codes/MotionBERT/data/motion3d/h36m_gt_pkl/S8_54138969_Waiting 1.pkl\n",
      "S8 Waiting 1 54138969\n",
      "/home/hrai/codes/MotionBERT/data/motion3d/h36m_gt_pkl/S6_55011271_Photo.pkl\n",
      "S6 Photo 55011271\n",
      "/home/hrai/codes/MotionBERT/data/motion3d/h36m_gt_pkl/S11_58860488_SittingDown 1.pkl\n",
      "S11 SittingDown 1 58860488\n",
      "/home/hrai/codes/MotionBERT/data/motion3d/h36m_gt_pkl/S6_60457274_Greeting 1.pkl\n",
      "S6 Greeting 1 60457274\n",
      "/home/hrai/codes/MotionBERT/data/motion3d/h36m_gt_pkl/S9_58860488_Smoking 1.pkl\n",
      "S9 Smoking 1 58860488\n",
      "/home/hrai/codes/MotionBERT/data/motion3d/h36m_gt_pkl/S9_60457274_Smoking 1.pkl\n",
      "S9 Smoking 1 60457274\n",
      "/home/hrai/codes/MotionBERT/data/motion3d/h36m_gt_pkl/S5_60457274_Photo.pkl\n",
      "S5 Photo 60457274\n",
      "/home/hrai/codes/MotionBERT/data/motion3d/h36m_gt_pkl/S8_54138969_SittingDown.pkl\n",
      "S8 SittingDown 54138969\n",
      "/home/hrai/codes/MotionBERT/data/motion3d/h36m_gt_pkl/S8_54138969_Sitting.pkl\n",
      "S8 Sitting 54138969\n",
      "/home/hrai/codes/MotionBERT/data/motion3d/h36m_gt_pkl/S1_54138969_Phoning 1.pkl\n",
      "S1 Phoning 1 54138969\n"
     ]
    },
    {
     "name": "stderr",
     "output_type": "stream",
     "text": [
      "  0%|          | 0/528 [00:00<?, ?it/s]IMAGEIO FFMPEG_WRITER WARNING: input image is not divisible by macro_block_size=16, resizing from (1500, 500) to (1504, 512) to ensure video compatibility with most codecs and players. To prevent resizing, make your input image divisible by the macro_block_size or set the macro_block_size to 1 (risking incompatibility).\n",
      "[swscaler @ 0x687c900] Warning: data is not aligned! This can lead to a speed loss\n",
      "100%|██████████| 528/528 [00:30<00:00, 17.10it/s]\n"
     ]
    },
    {
     "name": "stdout",
     "output_type": "stream",
     "text": [
      "/home/hrai/codes/MotionBERT/data/motion3d/h36m_gt_pkl/S9_60457274_Eating 1.pkl\n",
      "S9 Eating 1 60457274\n",
      "/home/hrai/codes/MotionBERT/data/motion3d/h36m_gt_pkl/S5_58860488_WalkDog 1.pkl\n",
      "S5 WalkDog 1 58860488\n",
      "/home/hrai/codes/MotionBERT/data/motion3d/h36m_gt_pkl/S5_58860488_Smoking.pkl\n",
      "S5 Smoking 58860488\n",
      "/home/hrai/codes/MotionBERT/data/motion3d/h36m_gt_pkl/S6_58860488_SittingDown.pkl\n",
      "S6 SittingDown 58860488\n",
      "/home/hrai/codes/MotionBERT/data/motion3d/h36m_gt_pkl/S6_60457274_Discussion.pkl\n",
      "S6 Discussion 60457274\n",
      "/home/hrai/codes/MotionBERT/data/motion3d/h36m_gt_pkl/S8_60457274_Purchases.pkl\n",
      "S8 Purchases 60457274\n",
      "/home/hrai/codes/MotionBERT/data/motion3d/h36m_gt_pkl/S9_60457274_Walking 1.pkl\n",
      "S9 Walking 1 60457274\n",
      "/home/hrai/codes/MotionBERT/data/motion3d/h36m_gt_pkl/S9_55011271_Purchases.pkl\n",
      "S9 Purchases 55011271\n",
      "/home/hrai/codes/MotionBERT/data/motion3d/h36m_gt_pkl/S7_54138969_Walking 2.pkl\n",
      "S7 Walking 2 54138969\n",
      "/home/hrai/codes/MotionBERT/data/motion3d/h36m_gt_pkl/S9_58860488_Walking 1.pkl\n",
      "S9 Walking 1 58860488\n",
      "/home/hrai/codes/MotionBERT/data/motion3d/h36m_gt_pkl/S11_55011271_SittingDown.pkl\n",
      "S11 SittingDown 55011271\n",
      "/home/hrai/codes/MotionBERT/data/motion3d/h36m_gt_pkl/S11_60457274_Waiting 1.pkl\n",
      "S11 Waiting 1 60457274\n",
      "/home/hrai/codes/MotionBERT/data/motion3d/h36m_gt_pkl/S6_54138969_Smoking.pkl\n",
      "S6 Smoking 54138969\n",
      "/home/hrai/codes/MotionBERT/data/motion3d/h36m_gt_pkl/S9_58860488_Smoking.pkl\n",
      "S9 Smoking 58860488\n",
      "/home/hrai/codes/MotionBERT/data/motion3d/h36m_gt_pkl/S5_55011271_Purchases 1.pkl\n",
      "S5 Purchases 1 55011271\n",
      "/home/hrai/codes/MotionBERT/data/motion3d/h36m_gt_pkl/S1_58860488_SittingDown.pkl\n",
      "S1 SittingDown 58860488\n"
     ]
    },
    {
     "name": "stderr",
     "output_type": "stream",
     "text": [
      "  0%|          | 0/549 [00:00<?, ?it/s]IMAGEIO FFMPEG_WRITER WARNING: input image is not divisible by macro_block_size=16, resizing from (1500, 500) to (1504, 512) to ensure video compatibility with most codecs and players. To prevent resizing, make your input image divisible by the macro_block_size or set the macro_block_size to 1 (risking incompatibility).\n",
      "[swscaler @ 0x5b8f900] Warning: data is not aligned! This can lead to a speed loss\n",
      "100%|██████████| 549/549 [00:31<00:00, 17.42it/s]\n"
     ]
    },
    {
     "name": "stdout",
     "output_type": "stream",
     "text": [
      "/home/hrai/codes/MotionBERT/data/motion3d/h36m_gt_pkl/S11_55011271_WalkTogether 1.pkl\n",
      "S11 WalkTogether 1 55011271\n",
      "/home/hrai/codes/MotionBERT/data/motion3d/h36m_gt_pkl/S5_55011271_Posing.pkl\n",
      "S5 Posing 55011271\n",
      "/home/hrai/codes/MotionBERT/data/motion3d/h36m_gt_pkl/S7_55011271_Sitting 1.pkl\n",
      "S7 Sitting 1 55011271\n",
      "/home/hrai/codes/MotionBERT/data/motion3d/h36m_gt_pkl/S8_55011271_Sitting 1.pkl\n",
      "S8 Sitting 1 55011271\n",
      "/home/hrai/codes/MotionBERT/data/motion3d/h36m_gt_pkl/S6_54138969_Walking.pkl\n",
      "S6 Walking 54138969\n",
      "/home/hrai/codes/MotionBERT/data/motion3d/h36m_gt_pkl/S5_54138969_Photo 2.pkl\n",
      "S5 Photo 2 54138969\n",
      "/home/hrai/codes/MotionBERT/data/motion3d/h36m_gt_pkl/S8_58860488_Waiting.pkl\n",
      "S8 Waiting 58860488\n",
      "/home/hrai/codes/MotionBERT/data/motion3d/h36m_gt_pkl/S5_55011271_Sitting.pkl\n",
      "S5 Sitting 55011271\n",
      "/home/hrai/codes/MotionBERT/data/motion3d/h36m_gt_pkl/S5_60457274_Smoking.pkl\n",
      "S5 Smoking 60457274\n",
      "/home/hrai/codes/MotionBERT/data/motion3d/h36m_gt_pkl/S7_60457274_Purchases 1.pkl\n",
      "S7 Purchases 1 60457274\n",
      "/home/hrai/codes/MotionBERT/data/motion3d/h36m_gt_pkl/S7_55011271_Discussion.pkl\n",
      "S7 Discussion 55011271\n",
      "/home/hrai/codes/MotionBERT/data/motion3d/h36m_gt_pkl/S9_54138969_Photo 1.pkl\n",
      "S9 Photo 1 54138969\n",
      "/home/hrai/codes/MotionBERT/data/motion3d/h36m_gt_pkl/S11_60457274_Directions 1.pkl\n",
      "S11 Directions 1 60457274\n",
      "/home/hrai/codes/MotionBERT/data/motion3d/h36m_gt_pkl/S7_60457274_Smoking 1.pkl\n",
      "S7 Smoking 1 60457274\n",
      "/home/hrai/codes/MotionBERT/data/motion3d/h36m_gt_pkl/S11_55011271_Posing 1.pkl\n",
      "S11 Posing 1 55011271\n",
      "/home/hrai/codes/MotionBERT/data/motion3d/h36m_gt_pkl/S9_55011271_Smoking 1.pkl\n",
      "S9 Smoking 1 55011271\n",
      "/home/hrai/codes/MotionBERT/data/motion3d/h36m_gt_pkl/S5_55011271_Purchases.pkl\n",
      "S5 Purchases 55011271\n",
      "/home/hrai/codes/MotionBERT/data/motion3d/h36m_gt_pkl/S7_60457274_SittingDown 1.pkl\n",
      "S7 SittingDown 1 60457274\n",
      "/home/hrai/codes/MotionBERT/data/motion3d/h36m_gt_pkl/S9_55011271_WalkTogether 1.pkl\n",
      "S9 WalkTogether 1 55011271\n",
      "/home/hrai/codes/MotionBERT/data/motion3d/h36m_gt_pkl/S7_54138969_Waiting 1.pkl\n",
      "S7 Waiting 1 54138969\n",
      "/home/hrai/codes/MotionBERT/data/motion3d/h36m_gt_pkl/S9_58860488_Walking.pkl\n",
      "S9 Walking 58860488\n",
      "/home/hrai/codes/MotionBERT/data/motion3d/h36m_gt_pkl/S7_55011271_Smoking 1.pkl\n",
      "S7 Smoking 1 55011271\n",
      "/home/hrai/codes/MotionBERT/data/motion3d/h36m_gt_pkl/S5_60457274_Waiting 1.pkl\n",
      "S5 Waiting 1 60457274\n",
      "/home/hrai/codes/MotionBERT/data/motion3d/h36m_gt_pkl/S11_58860488_Eating.pkl\n",
      "S11 Eating 58860488\n",
      "/home/hrai/codes/MotionBERT/data/motion3d/h36m_gt_pkl/S7_54138969_Sitting.pkl\n",
      "S7 Sitting 54138969\n",
      "/home/hrai/codes/MotionBERT/data/motion3d/h36m_gt_pkl/S6_55011271_Smoking.pkl\n",
      "S6 Smoking 55011271\n",
      "/home/hrai/codes/MotionBERT/data/motion3d/h36m_gt_pkl/S7_55011271_Eating 1.pkl\n",
      "S7 Eating 1 55011271\n",
      "/home/hrai/codes/MotionBERT/data/motion3d/h36m_gt_pkl/S1_60457274_Posing 1.pkl\n",
      "S1 Posing 1 60457274\n"
     ]
    },
    {
     "name": "stderr",
     "output_type": "stream",
     "text": [
      "  0%|          | 0/234 [00:00<?, ?it/s]IMAGEIO FFMPEG_WRITER WARNING: input image is not divisible by macro_block_size=16, resizing from (1500, 500) to (1504, 512) to ensure video compatibility with most codecs and players. To prevent resizing, make your input image divisible by the macro_block_size or set the macro_block_size to 1 (risking incompatibility).\n",
      "[swscaler @ 0x5a70900] Warning: data is not aligned! This can lead to a speed loss\n",
      "100%|██████████| 234/234 [00:13<00:00, 16.93it/s]\n"
     ]
    },
    {
     "name": "stdout",
     "output_type": "stream",
     "text": [
      "/home/hrai/codes/MotionBERT/data/motion3d/h36m_gt_pkl/S6_55011271_Posing.pkl\n",
      "S6 Posing 55011271\n",
      "/home/hrai/codes/MotionBERT/data/motion3d/h36m_gt_pkl/S5_60457274_Directions 1.pkl\n",
      "S5 Directions 1 60457274\n",
      "/home/hrai/codes/MotionBERT/data/motion3d/h36m_gt_pkl/S8_60457274_WalkDog.pkl\n",
      "S8 WalkDog 60457274\n",
      "/home/hrai/codes/MotionBERT/data/motion3d/h36m_gt_pkl/S7_54138969_SittingDown.pkl\n",
      "S7 SittingDown 54138969\n",
      "/home/hrai/codes/MotionBERT/data/motion3d/h36m_gt_pkl/S5_55011271_SittingDown.pkl\n",
      "S5 SittingDown 55011271\n",
      "/home/hrai/codes/MotionBERT/data/motion3d/h36m_gt_pkl/S1_60457274_Walking.pkl\n",
      "S1 Walking 60457274\n"
     ]
    },
    {
     "name": "stderr",
     "output_type": "stream",
     "text": [
      "  0%|          | 0/627 [00:00<?, ?it/s]IMAGEIO FFMPEG_WRITER WARNING: input image is not divisible by macro_block_size=16, resizing from (1500, 500) to (1504, 512) to ensure video compatibility with most codecs and players. To prevent resizing, make your input image divisible by the macro_block_size or set the macro_block_size to 1 (risking incompatibility).\n",
      "[swscaler @ 0x6178900] Warning: data is not aligned! This can lead to a speed loss\n",
      "100%|██████████| 627/627 [00:36<00:00, 17.13it/s]\n"
     ]
    },
    {
     "name": "stdout",
     "output_type": "stream",
     "text": [
      "/home/hrai/codes/MotionBERT/data/motion3d/h36m_gt_pkl/S7_55011271_Smoking.pkl\n",
      "S7 Smoking 55011271\n",
      "/home/hrai/codes/MotionBERT/data/motion3d/h36m_gt_pkl/S11_60457274_Phoning 2.pkl\n",
      "S11 Phoning 2 60457274\n",
      "/home/hrai/codes/MotionBERT/data/motion3d/h36m_gt_pkl/S5_60457274_Purchases.pkl\n",
      "S5 Purchases 60457274\n",
      "/home/hrai/codes/MotionBERT/data/motion3d/h36m_gt_pkl/S11_60457274_Posing.pkl\n",
      "S11 Posing 60457274\n",
      "/home/hrai/codes/MotionBERT/data/motion3d/h36m_gt_pkl/S11_54138969_Walking.pkl\n",
      "S11 Walking 54138969\n",
      "/home/hrai/codes/MotionBERT/data/motion3d/h36m_gt_pkl/S8_55011271_Walking 1.pkl\n",
      "S8 Walking 1 55011271\n",
      "/home/hrai/codes/MotionBERT/data/motion3d/h36m_gt_pkl/S6_60457274_Purchases 1.pkl\n",
      "S6 Purchases 1 60457274\n",
      "/home/hrai/codes/MotionBERT/data/motion3d/h36m_gt_pkl/S5_54138969_WalkTogether.pkl\n",
      "S5 WalkTogether 54138969\n",
      "/home/hrai/codes/MotionBERT/data/motion3d/h36m_gt_pkl/S1_60457274_WalkTogether 1.pkl\n",
      "S1 WalkTogether 1 60457274\n"
     ]
    },
    {
     "name": "stderr",
     "output_type": "stream",
     "text": [
      "  0%|          | 0/255 [00:00<?, ?it/s]IMAGEIO FFMPEG_WRITER WARNING: input image is not divisible by macro_block_size=16, resizing from (1500, 500) to (1504, 512) to ensure video compatibility with most codecs and players. To prevent resizing, make your input image divisible by the macro_block_size or set the macro_block_size to 1 (risking incompatibility).\n",
      "[swscaler @ 0x6015900] Warning: data is not aligned! This can lead to a speed loss\n",
      "100%|██████████| 255/255 [00:14<00:00, 17.02it/s]\n"
     ]
    },
    {
     "name": "stdout",
     "output_type": "stream",
     "text": [
      "/home/hrai/codes/MotionBERT/data/motion3d/h36m_gt_pkl/S6_55011271_WalkTogether 1.pkl\n",
      "S6 WalkTogether 1 55011271\n",
      "/home/hrai/codes/MotionBERT/data/motion3d/h36m_gt_pkl/S8_54138969_WalkDog 1.pkl\n",
      "S8 WalkDog 1 54138969\n",
      "/home/hrai/codes/MotionBERT/data/motion3d/h36m_gt_pkl/S6_58860488_Discussion.pkl\n",
      "S6 Discussion 58860488\n",
      "/home/hrai/codes/MotionBERT/data/motion3d/h36m_gt_pkl/S7_58860488_Posing.pkl\n",
      "S7 Posing 58860488\n",
      "/home/hrai/codes/MotionBERT/data/motion3d/h36m_gt_pkl/S11_60457274_Purchases 1.pkl\n",
      "S11 Purchases 1 60457274\n",
      "/home/hrai/codes/MotionBERT/data/motion3d/h36m_gt_pkl/S8_55011271_Phoning.pkl\n",
      "S8 Phoning 55011271\n",
      "/home/hrai/codes/MotionBERT/data/motion3d/h36m_gt_pkl/S8_60457274_Photo.pkl\n",
      "S8 Photo 60457274\n",
      "/home/hrai/codes/MotionBERT/data/motion3d/h36m_gt_pkl/S7_60457274_Eating.pkl\n",
      "S7 Eating 60457274\n",
      "/home/hrai/codes/MotionBERT/data/motion3d/h36m_gt_pkl/S9_55011271_Greeting.pkl\n",
      "S9 Greeting 55011271\n",
      "/home/hrai/codes/MotionBERT/data/motion3d/h36m_gt_pkl/S9_60457274_Posing 1.pkl\n",
      "S9 Posing 1 60457274\n",
      "/home/hrai/codes/MotionBERT/data/motion3d/h36m_gt_pkl/S7_55011271_Purchases 1.pkl\n",
      "S7 Purchases 1 55011271\n",
      "/home/hrai/codes/MotionBERT/data/motion3d/h36m_gt_pkl/S9_55011271_WalkDog.pkl\n",
      "S9 WalkDog 55011271\n",
      "/home/hrai/codes/MotionBERT/data/motion3d/h36m_gt_pkl/S5_54138969_Discussion 3.pkl\n",
      "S5 Discussion 3 54138969\n",
      "/home/hrai/codes/MotionBERT/data/motion3d/h36m_gt_pkl/S11_55011271_Photo 1.pkl\n",
      "S11 Photo 1 55011271\n",
      "/home/hrai/codes/MotionBERT/data/motion3d/h36m_gt_pkl/S5_60457274_WalkTogether.pkl\n",
      "S5 WalkTogether 60457274\n",
      "/home/hrai/codes/MotionBERT/data/motion3d/h36m_gt_pkl/S9_55011271_Walking 1.pkl\n",
      "S9 Walking 1 55011271\n",
      "/home/hrai/codes/MotionBERT/data/motion3d/h36m_gt_pkl/S7_54138969_Discussion 1.pkl\n",
      "S7 Discussion 1 54138969\n",
      "/home/hrai/codes/MotionBERT/data/motion3d/h36m_gt_pkl/S9_58860488_Eating 1.pkl\n",
      "S9 Eating 1 58860488\n",
      "/home/hrai/codes/MotionBERT/data/motion3d/h36m_gt_pkl/S9_58860488_SittingDown 1.pkl\n",
      "S9 SittingDown 1 58860488\n",
      "/home/hrai/codes/MotionBERT/data/motion3d/h36m_gt_pkl/S5_54138969_Photo.pkl\n",
      "S5 Photo 54138969\n",
      "/home/hrai/codes/MotionBERT/data/motion3d/h36m_gt_pkl/S8_54138969_Greeting.pkl\n",
      "S8 Greeting 54138969\n",
      "/home/hrai/codes/MotionBERT/data/motion3d/h36m_gt_pkl/S5_58860488_Purchases 1.pkl\n",
      "S5 Purchases 1 58860488\n",
      "/home/hrai/codes/MotionBERT/data/motion3d/h36m_gt_pkl/S9_60457274_Directions.pkl\n",
      "S9 Directions 60457274\n",
      "/home/hrai/codes/MotionBERT/data/motion3d/h36m_gt_pkl/S6_58860488_Posing.pkl\n",
      "S6 Posing 58860488\n",
      "/home/hrai/codes/MotionBERT/data/motion3d/h36m_gt_pkl/S5_58860488_WalkDog.pkl\n",
      "S5 WalkDog 58860488\n",
      "/home/hrai/codes/MotionBERT/data/motion3d/h36m_gt_pkl/S6_55011271_Eating 2.pkl\n",
      "S6 Eating 2 55011271\n",
      "/home/hrai/codes/MotionBERT/data/motion3d/h36m_gt_pkl/S11_58860488_WalkTogether 1.pkl\n",
      "S11 WalkTogether 1 58860488\n",
      "/home/hrai/codes/MotionBERT/data/motion3d/h36m_gt_pkl/S9_54138969_Sitting 1.pkl\n",
      "S9 Sitting 1 54138969\n",
      "/home/hrai/codes/MotionBERT/data/motion3d/h36m_gt_pkl/S1_55011271_Waiting.pkl\n",
      "S1 Waiting 55011271\n"
     ]
    },
    {
     "name": "stderr",
     "output_type": "stream",
     "text": [
      "  0%|          | 0/359 [00:00<?, ?it/s]IMAGEIO FFMPEG_WRITER WARNING: input image is not divisible by macro_block_size=16, resizing from (1500, 500) to (1504, 512) to ensure video compatibility with most codecs and players. To prevent resizing, make your input image divisible by the macro_block_size or set the macro_block_size to 1 (risking incompatibility).\n",
      "[swscaler @ 0x63a6900] Warning: data is not aligned! This can lead to a speed loss\n",
      "100%|██████████| 359/359 [00:20<00:00, 17.26it/s]\n"
     ]
    },
    {
     "name": "stdout",
     "output_type": "stream",
     "text": [
      "/home/hrai/codes/MotionBERT/data/motion3d/h36m_gt_pkl/S6_54138969_WalkDog 1.pkl\n",
      "S6 WalkDog 1 54138969\n",
      "/home/hrai/codes/MotionBERT/data/motion3d/h36m_gt_pkl/S9_54138969_Purchases 1.pkl\n",
      "S9 Purchases 1 54138969\n",
      "/home/hrai/codes/MotionBERT/data/motion3d/h36m_gt_pkl/S6_58860488_SittingDown 1.pkl\n",
      "S6 SittingDown 1 58860488\n",
      "/home/hrai/codes/MotionBERT/data/motion3d/h36m_gt_pkl/S8_54138969_Discussion.pkl\n",
      "S8 Discussion 54138969\n",
      "/home/hrai/codes/MotionBERT/data/motion3d/h36m_gt_pkl/S7_60457274_Waiting 2.pkl\n",
      "S7 Waiting 2 60457274\n",
      "/home/hrai/codes/MotionBERT/data/motion3d/h36m_gt_pkl/S5_55011271_WalkTogether 1.pkl\n",
      "S5 WalkTogether 1 55011271\n",
      "/home/hrai/codes/MotionBERT/data/motion3d/h36m_gt_pkl/S11_55011271_WalkDog 1.pkl\n",
      "S11 WalkDog 1 55011271\n",
      "/home/hrai/codes/MotionBERT/data/motion3d/h36m_gt_pkl/S5_58860488_Directions 2.pkl\n",
      "S5 Directions 2 58860488\n",
      "/home/hrai/codes/MotionBERT/data/motion3d/h36m_gt_pkl/S7_60457274_Directions.pkl\n",
      "S7 Directions 60457274\n",
      "/home/hrai/codes/MotionBERT/data/motion3d/h36m_gt_pkl/S1_60457274_Directions.pkl\n",
      "S1 Directions 60457274\n"
     ]
    },
    {
     "name": "stderr",
     "output_type": "stream",
     "text": [
      "  0%|          | 0/323 [00:00<?, ?it/s]IMAGEIO FFMPEG_WRITER WARNING: input image is not divisible by macro_block_size=16, resizing from (1500, 500) to (1504, 512) to ensure video compatibility with most codecs and players. To prevent resizing, make your input image divisible by the macro_block_size or set the macro_block_size to 1 (risking incompatibility).\n",
      "[swscaler @ 0x5ee7900] Warning: data is not aligned! This can lead to a speed loss\n",
      "100%|██████████| 323/323 [00:18<00:00, 17.01it/s]\n"
     ]
    },
    {
     "name": "stdout",
     "output_type": "stream",
     "text": [
      "/home/hrai/codes/MotionBERT/data/motion3d/h36m_gt_pkl/S8_54138969_SittingDown 1.pkl\n",
      "S8 SittingDown 1 54138969\n",
      "/home/hrai/codes/MotionBERT/data/motion3d/h36m_gt_pkl/S7_58860488_Phoning 2.pkl\n",
      "S7 Phoning 2 58860488\n",
      "/home/hrai/codes/MotionBERT/data/motion3d/h36m_gt_pkl/S6_58860488_Photo 1.pkl\n",
      "S6 Photo 1 58860488\n",
      "/home/hrai/codes/MotionBERT/data/motion3d/h36m_gt_pkl/S7_55011271_Discussion 1.pkl\n",
      "S7 Discussion 1 55011271\n",
      "/home/hrai/codes/MotionBERT/data/motion3d/h36m_gt_pkl/S7_58860488_Greeting.pkl\n",
      "S7 Greeting 58860488\n",
      "/home/hrai/codes/MotionBERT/data/motion3d/h36m_gt_pkl/S6_54138969_Sitting 1.pkl\n",
      "S6 Sitting 1 54138969\n",
      "/home/hrai/codes/MotionBERT/data/motion3d/h36m_gt_pkl/S6_58860488_WalkDog 1.pkl\n",
      "S6 WalkDog 1 58860488\n",
      "/home/hrai/codes/MotionBERT/data/motion3d/h36m_gt_pkl/S1_54138969_Directions 1.pkl\n",
      "S1 Directions 1 54138969\n"
     ]
    },
    {
     "name": "stderr",
     "output_type": "stream",
     "text": [
      "  0%|          | 0/277 [00:00<?, ?it/s]IMAGEIO FFMPEG_WRITER WARNING: input image is not divisible by macro_block_size=16, resizing from (1500, 500) to (1504, 512) to ensure video compatibility with most codecs and players. To prevent resizing, make your input image divisible by the macro_block_size or set the macro_block_size to 1 (risking incompatibility).\n",
      "[swscaler @ 0x6050900] Warning: data is not aligned! This can lead to a speed loss\n",
      "100%|██████████| 277/277 [00:16<00:00, 16.78it/s]\n"
     ]
    },
    {
     "name": "stdout",
     "output_type": "stream",
     "text": [
      "/home/hrai/codes/MotionBERT/data/motion3d/h36m_gt_pkl/S9_60457274_Purchases 1.pkl\n",
      "S9 Purchases 1 60457274\n",
      "/home/hrai/codes/MotionBERT/data/motion3d/h36m_gt_pkl/S8_60457274_Smoking.pkl\n",
      "S8 Smoking 60457274\n",
      "/home/hrai/codes/MotionBERT/data/motion3d/h36m_gt_pkl/S5_60457274_Eating.pkl\n",
      "S5 Eating 60457274\n",
      "/home/hrai/codes/MotionBERT/data/motion3d/h36m_gt_pkl/S8_60457274_Photo 1.pkl\n",
      "S8 Photo 1 60457274\n",
      "/home/hrai/codes/MotionBERT/data/motion3d/h36m_gt_pkl/S5_60457274_Sitting 1.pkl\n",
      "S5 Sitting 1 60457274\n",
      "/home/hrai/codes/MotionBERT/data/motion3d/h36m_gt_pkl/S11_54138969_Smoking 2.pkl\n",
      "S11 Smoking 2 54138969\n",
      "/home/hrai/codes/MotionBERT/data/motion3d/h36m_gt_pkl/S1_58860488_WalkTogether.pkl\n",
      "S1 WalkTogether 58860488\n"
     ]
    },
    {
     "name": "stderr",
     "output_type": "stream",
     "text": [
      "  0%|          | 0/247 [00:00<?, ?it/s]IMAGEIO FFMPEG_WRITER WARNING: input image is not divisible by macro_block_size=16, resizing from (1500, 500) to (1504, 512) to ensure video compatibility with most codecs and players. To prevent resizing, make your input image divisible by the macro_block_size or set the macro_block_size to 1 (risking incompatibility).\n",
      "[swscaler @ 0x5b08900] Warning: data is not aligned! This can lead to a speed loss\n",
      "100%|██████████| 247/247 [00:14<00:00, 16.87it/s]\n"
     ]
    },
    {
     "name": "stdout",
     "output_type": "stream",
     "text": [
      "/home/hrai/codes/MotionBERT/data/motion3d/h36m_gt_pkl/S5_54138969_Purchases.pkl\n",
      "S5 Purchases 54138969\n",
      "/home/hrai/codes/MotionBERT/data/motion3d/h36m_gt_pkl/S5_60457274_Eating 1.pkl\n",
      "S5 Eating 1 60457274\n",
      "/home/hrai/codes/MotionBERT/data/motion3d/h36m_gt_pkl/S8_55011271_Greeting.pkl\n",
      "S8 Greeting 55011271\n",
      "/home/hrai/codes/MotionBERT/data/motion3d/h36m_gt_pkl/S5_55011271_Greeting 2.pkl\n",
      "S5 Greeting 2 55011271\n",
      "/home/hrai/codes/MotionBERT/data/motion3d/h36m_gt_pkl/S6_58860488_Posing 2.pkl\n",
      "S6 Posing 2 58860488\n",
      "/home/hrai/codes/MotionBERT/data/motion3d/h36m_gt_pkl/S5_54138969_Waiting 2.pkl\n",
      "S5 Waiting 2 54138969\n",
      "/home/hrai/codes/MotionBERT/data/motion3d/h36m_gt_pkl/S1_60457274_Photo 1.pkl\n",
      "S1 Photo 1 60457274\n"
     ]
    },
    {
     "name": "stderr",
     "output_type": "stream",
     "text": [
      "  0%|          | 0/215 [00:00<?, ?it/s]IMAGEIO FFMPEG_WRITER WARNING: input image is not divisible by macro_block_size=16, resizing from (1500, 500) to (1504, 512) to ensure video compatibility with most codecs and players. To prevent resizing, make your input image divisible by the macro_block_size or set the macro_block_size to 1 (risking incompatibility).\n",
      "[swscaler @ 0x731d900] Warning: data is not aligned! This can lead to a speed loss\n",
      "100%|██████████| 215/215 [00:12<00:00, 16.98it/s]\n"
     ]
    },
    {
     "name": "stdout",
     "output_type": "stream",
     "text": [
      "/home/hrai/codes/MotionBERT/data/motion3d/h36m_gt_pkl/S11_60457274_Discussion 1.pkl\n",
      "S11 Discussion 1 60457274\n",
      "/home/hrai/codes/MotionBERT/data/motion3d/h36m_gt_pkl/S1_54138969_Eating 2.pkl\n",
      "S1 Eating 2 54138969\n"
     ]
    },
    {
     "name": "stderr",
     "output_type": "stream",
     "text": [
      "  0%|          | 0/472 [00:00<?, ?it/s]IMAGEIO FFMPEG_WRITER WARNING: input image is not divisible by macro_block_size=16, resizing from (1500, 500) to (1504, 512) to ensure video compatibility with most codecs and players. To prevent resizing, make your input image divisible by the macro_block_size or set the macro_block_size to 1 (risking incompatibility).\n",
      "[swscaler @ 0x7012900] Warning: data is not aligned! This can lead to a speed loss\n",
      "100%|██████████| 472/472 [00:27<00:00, 17.30it/s]\n"
     ]
    },
    {
     "name": "stdout",
     "output_type": "stream",
     "text": [
      "/home/hrai/codes/MotionBERT/data/motion3d/h36m_gt_pkl/S8_58860488_Posing 1.pkl\n",
      "S8 Posing 1 58860488\n",
      "/home/hrai/codes/MotionBERT/data/motion3d/h36m_gt_pkl/S6_60457274_Greeting.pkl\n",
      "S6 Greeting 60457274\n",
      "/home/hrai/codes/MotionBERT/data/motion3d/h36m_gt_pkl/S9_55011271_Smoking.pkl\n",
      "S9 Smoking 55011271\n",
      "/home/hrai/codes/MotionBERT/data/motion3d/h36m_gt_pkl/S1_55011271_WalkTogether.pkl\n",
      "S1 WalkTogether 55011271\n"
     ]
    },
    {
     "name": "stderr",
     "output_type": "stream",
     "text": [
      "  0%|          | 0/247 [00:00<?, ?it/s]IMAGEIO FFMPEG_WRITER WARNING: input image is not divisible by macro_block_size=16, resizing from (1500, 500) to (1504, 512) to ensure video compatibility with most codecs and players. To prevent resizing, make your input image divisible by the macro_block_size or set the macro_block_size to 1 (risking incompatibility).\n",
      "[swscaler @ 0x5ec8900] Warning: data is not aligned! This can lead to a speed loss\n",
      "100%|██████████| 247/247 [00:14<00:00, 17.15it/s]\n"
     ]
    },
    {
     "name": "stdout",
     "output_type": "stream",
     "text": [
      "/home/hrai/codes/MotionBERT/data/motion3d/h36m_gt_pkl/S9_58860488_WalkDog.pkl\n",
      "S9 WalkDog 58860488\n",
      "/home/hrai/codes/MotionBERT/data/motion3d/h36m_gt_pkl/S1_60457274_Posing.pkl\n",
      "S1 Posing 60457274\n"
     ]
    },
    {
     "name": "stderr",
     "output_type": "stream",
     "text": [
      "  0%|          | 0/199 [00:00<?, ?it/s]IMAGEIO FFMPEG_WRITER WARNING: input image is not divisible by macro_block_size=16, resizing from (1500, 500) to (1504, 512) to ensure video compatibility with most codecs and players. To prevent resizing, make your input image divisible by the macro_block_size or set the macro_block_size to 1 (risking incompatibility).\n",
      "  1%|          | 1/199 [00:00<00:41,  4.82it/s][swscaler @ 0x664e900] Warning: data is not aligned! This can lead to a speed loss\n",
      "100%|██████████| 199/199 [00:11<00:00, 16.87it/s]\n"
     ]
    },
    {
     "name": "stdout",
     "output_type": "stream",
     "text": [
      "/home/hrai/codes/MotionBERT/data/motion3d/h36m_gt_pkl/S11_60457274_WalkTogether.pkl\n",
      "S11 WalkTogether 60457274\n",
      "/home/hrai/codes/MotionBERT/data/motion3d/h36m_gt_pkl/S11_58860488_Purchases 1.pkl\n",
      "S11 Purchases 1 58860488\n",
      "/home/hrai/codes/MotionBERT/data/motion3d/h36m_gt_pkl/S6_54138969_Sitting 2.pkl\n",
      "S6 Sitting 2 54138969\n",
      "/home/hrai/codes/MotionBERT/data/motion3d/h36m_gt_pkl/S6_60457274_Sitting 1.pkl\n",
      "S6 Sitting 1 60457274\n",
      "/home/hrai/codes/MotionBERT/data/motion3d/h36m_gt_pkl/S1_55011271_Eating 2.pkl\n",
      "S1 Eating 2 55011271\n"
     ]
    },
    {
     "name": "stderr",
     "output_type": "stream",
     "text": [
      "  0%|          | 0/472 [00:00<?, ?it/s]IMAGEIO FFMPEG_WRITER WARNING: input image is not divisible by macro_block_size=16, resizing from (1500, 500) to (1504, 512) to ensure video compatibility with most codecs and players. To prevent resizing, make your input image divisible by the macro_block_size or set the macro_block_size to 1 (risking incompatibility).\n",
      "[swscaler @ 0x55a3900] Warning: data is not aligned! This can lead to a speed loss\n",
      "100%|██████████| 472/472 [00:27<00:00, 17.24it/s]\n"
     ]
    },
    {
     "name": "stdout",
     "output_type": "stream",
     "text": [
      "/home/hrai/codes/MotionBERT/data/motion3d/h36m_gt_pkl/S5_58860488_Sitting 1.pkl\n",
      "S5 Sitting 1 58860488\n",
      "/home/hrai/codes/MotionBERT/data/motion3d/h36m_gt_pkl/S6_60457274_WalkDog.pkl\n",
      "S6 WalkDog 60457274\n",
      "/home/hrai/codes/MotionBERT/data/motion3d/h36m_gt_pkl/S11_60457274_Photo 1.pkl\n",
      "S11 Photo 1 60457274\n",
      "/home/hrai/codes/MotionBERT/data/motion3d/h36m_gt_pkl/S6_58860488_WalkDog.pkl\n",
      "S6 WalkDog 58860488\n",
      "/home/hrai/codes/MotionBERT/data/motion3d/h36m_gt_pkl/S5_54138969_Sitting.pkl\n",
      "S5 Sitting 54138969\n",
      "/home/hrai/codes/MotionBERT/data/motion3d/h36m_gt_pkl/S1_54138969_Smoking 1.pkl\n",
      "S1 Smoking 1 54138969\n"
     ]
    },
    {
     "name": "stderr",
     "output_type": "stream",
     "text": [
      "  0%|          | 0/523 [00:00<?, ?it/s]IMAGEIO FFMPEG_WRITER WARNING: input image is not divisible by macro_block_size=16, resizing from (1500, 500) to (1504, 512) to ensure video compatibility with most codecs and players. To prevent resizing, make your input image divisible by the macro_block_size or set the macro_block_size to 1 (risking incompatibility).\n",
      "[swscaler @ 0x607e900] Warning: data is not aligned! This can lead to a speed loss\n",
      "100%|██████████| 523/523 [00:29<00:00, 17.53it/s]\n"
     ]
    },
    {
     "name": "stdout",
     "output_type": "stream",
     "text": [
      "/home/hrai/codes/MotionBERT/data/motion3d/h36m_gt_pkl/S11_55011271_Walking 1.pkl\n",
      "S11 Walking 1 55011271\n",
      "/home/hrai/codes/MotionBERT/data/motion3d/h36m_gt_pkl/S7_54138969_Photo 1.pkl\n",
      "S7 Photo 1 54138969\n",
      "/home/hrai/codes/MotionBERT/data/motion3d/h36m_gt_pkl/S11_54138969_Waiting 1.pkl\n",
      "S11 Waiting 1 54138969\n",
      "/home/hrai/codes/MotionBERT/data/motion3d/h36m_gt_pkl/S1_54138969_SittingDown.pkl\n",
      "S1 SittingDown 54138969\n"
     ]
    },
    {
     "name": "stderr",
     "output_type": "stream",
     "text": [
      "  0%|          | 0/549 [00:00<?, ?it/s]IMAGEIO FFMPEG_WRITER WARNING: input image is not divisible by macro_block_size=16, resizing from (1500, 500) to (1504, 512) to ensure video compatibility with most codecs and players. To prevent resizing, make your input image divisible by the macro_block_size or set the macro_block_size to 1 (risking incompatibility).\n",
      "[swscaler @ 0x7045900] Warning: data is not aligned! This can lead to a speed loss\n",
      "100%|██████████| 549/549 [00:32<00:00, 16.81it/s]\n"
     ]
    },
    {
     "name": "stdout",
     "output_type": "stream",
     "text": [
      "/home/hrai/codes/MotionBERT/data/motion3d/h36m_gt_pkl/S6_54138969_Purchases 1.pkl\n",
      "S6 Purchases 1 54138969\n",
      "/home/hrai/codes/MotionBERT/data/motion3d/h36m_gt_pkl/S9_54138969_Purchases.pkl\n",
      "S9 Purchases 54138969\n",
      "/home/hrai/codes/MotionBERT/data/motion3d/h36m_gt_pkl/S5_54138969_Posing 1.pkl\n",
      "S5 Posing 1 54138969\n",
      "/home/hrai/codes/MotionBERT/data/motion3d/h36m_gt_pkl/S1_60457274_Sitting 1.pkl\n",
      "S1 Sitting 1 60457274\n"
     ]
    },
    {
     "name": "stderr",
     "output_type": "stream",
     "text": [
      "  0%|          | 0/661 [00:00<?, ?it/s]IMAGEIO FFMPEG_WRITER WARNING: input image is not divisible by macro_block_size=16, resizing from (1500, 500) to (1504, 512) to ensure video compatibility with most codecs and players. To prevent resizing, make your input image divisible by the macro_block_size or set the macro_block_size to 1 (risking incompatibility).\n",
      "[swscaler @ 0x5cf2900] Warning: data is not aligned! This can lead to a speed loss\n",
      "100%|██████████| 661/661 [00:38<00:00, 17.06it/s]\n"
     ]
    },
    {
     "name": "stdout",
     "output_type": "stream",
     "text": [
      "/home/hrai/codes/MotionBERT/data/motion3d/h36m_gt_pkl/S1_58860488_Discussion 1.pkl\n",
      "S1 Discussion 1 58860488\n"
     ]
    },
    {
     "name": "stderr",
     "output_type": "stream",
     "text": [
      "  0%|          | 0/761 [00:00<?, ?it/s]IMAGEIO FFMPEG_WRITER WARNING: input image is not divisible by macro_block_size=16, resizing from (1500, 500) to (1504, 512) to ensure video compatibility with most codecs and players. To prevent resizing, make your input image divisible by the macro_block_size or set the macro_block_size to 1 (risking incompatibility).\n",
      "[swscaler @ 0x6420900] Warning: data is not aligned! This can lead to a speed loss\n",
      "100%|██████████| 761/761 [00:44<00:00, 17.01it/s]\n"
     ]
    },
    {
     "name": "stdout",
     "output_type": "stream",
     "text": [
      "/home/hrai/codes/MotionBERT/data/motion3d/h36m_gt_pkl/S6_60457274_WalkDog 1.pkl\n",
      "S6 WalkDog 1 60457274\n",
      "/home/hrai/codes/MotionBERT/data/motion3d/h36m_gt_pkl/S5_60457274_WalkDog 1.pkl\n",
      "S5 WalkDog 1 60457274\n",
      "/home/hrai/codes/MotionBERT/data/motion3d/h36m_gt_pkl/S11_54138969_Greeting.pkl\n",
      "S11 Greeting 54138969\n",
      "/home/hrai/codes/MotionBERT/data/motion3d/h36m_gt_pkl/S6_54138969_Photo 1.pkl\n",
      "S6 Photo 1 54138969\n",
      "/home/hrai/codes/MotionBERT/data/motion3d/h36m_gt_pkl/S6_55011271_Eating 1.pkl\n",
      "S6 Eating 1 55011271\n",
      "/home/hrai/codes/MotionBERT/data/motion3d/h36m_gt_pkl/S7_54138969_Phoning 2.pkl\n",
      "S7 Phoning 2 54138969\n",
      "/home/hrai/codes/MotionBERT/data/motion3d/h36m_gt_pkl/S5_55011271_Smoking 1.pkl\n",
      "S5 Smoking 1 55011271\n",
      "/home/hrai/codes/MotionBERT/data/motion3d/h36m_gt_pkl/S8_58860488_SittingDown.pkl\n",
      "S8 SittingDown 58860488\n",
      "/home/hrai/codes/MotionBERT/data/motion3d/h36m_gt_pkl/S5_55011271_SittingDown 1.pkl\n",
      "S5 SittingDown 1 55011271\n",
      "/home/hrai/codes/MotionBERT/data/motion3d/h36m_gt_pkl/S6_54138969_WalkTogether 1.pkl\n",
      "S6 WalkTogether 1 54138969\n",
      "/home/hrai/codes/MotionBERT/data/motion3d/h36m_gt_pkl/S7_55011271_Greeting.pkl\n",
      "S7 Greeting 55011271\n",
      "/home/hrai/codes/MotionBERT/data/motion3d/h36m_gt_pkl/S11_54138969_Purchases.pkl\n",
      "S11 Purchases 54138969\n",
      "/home/hrai/codes/MotionBERT/data/motion3d/h36m_gt_pkl/S7_55011271_Walking 2.pkl\n",
      "S7 Walking 2 55011271\n",
      "/home/hrai/codes/MotionBERT/data/motion3d/h36m_gt_pkl/S11_54138969_Sitting 1.pkl\n",
      "S11 Sitting 1 54138969\n",
      "/home/hrai/codes/MotionBERT/data/motion3d/h36m_gt_pkl/S5_54138969_WalkDog.pkl\n",
      "S5 WalkDog 54138969\n",
      "/home/hrai/codes/MotionBERT/data/motion3d/h36m_gt_pkl/S1_54138969_WalkTogether 1.pkl\n",
      "S1 WalkTogether 1 54138969\n"
     ]
    },
    {
     "name": "stderr",
     "output_type": "stream",
     "text": [
      "  0%|          | 0/255 [00:00<?, ?it/s]IMAGEIO FFMPEG_WRITER WARNING: input image is not divisible by macro_block_size=16, resizing from (1500, 500) to (1504, 512) to ensure video compatibility with most codecs and players. To prevent resizing, make your input image divisible by the macro_block_size or set the macro_block_size to 1 (risking incompatibility).\n",
      "[swscaler @ 0x688a900] Warning: data is not aligned! This can lead to a speed loss\n",
      "100%|██████████| 255/255 [00:14<00:00, 17.05it/s]\n"
     ]
    },
    {
     "name": "stdout",
     "output_type": "stream",
     "text": [
      "/home/hrai/codes/MotionBERT/data/motion3d/h36m_gt_pkl/S1_58860488_Sitting 1.pkl\n",
      "S1 Sitting 1 58860488\n"
     ]
    },
    {
     "name": "stderr",
     "output_type": "stream",
     "text": [
      "  0%|          | 0/661 [00:00<?, ?it/s]IMAGEIO FFMPEG_WRITER WARNING: input image is not divisible by macro_block_size=16, resizing from (1500, 500) to (1504, 512) to ensure video compatibility with most codecs and players. To prevent resizing, make your input image divisible by the macro_block_size or set the macro_block_size to 1 (risking incompatibility).\n",
      "[swscaler @ 0x5725900] Warning: data is not aligned! This can lead to a speed loss\n",
      "100%|██████████| 661/661 [00:39<00:00, 16.91it/s]\n"
     ]
    },
    {
     "name": "stdout",
     "output_type": "stream",
     "text": [
      "/home/hrai/codes/MotionBERT/data/motion3d/h36m_gt_pkl/S7_58860488_Posing 1.pkl\n",
      "S7 Posing 1 58860488\n",
      "/home/hrai/codes/MotionBERT/data/motion3d/h36m_gt_pkl/S7_55011271_SittingDown.pkl\n",
      "S7 SittingDown 55011271\n",
      "/home/hrai/codes/MotionBERT/data/motion3d/h36m_gt_pkl/S11_55011271_Sitting 1.pkl\n",
      "S11 Sitting 1 55011271\n",
      "/home/hrai/codes/MotionBERT/data/motion3d/h36m_gt_pkl/S11_55011271_Sitting.pkl\n",
      "S11 Sitting 55011271\n",
      "/home/hrai/codes/MotionBERT/data/motion3d/h36m_gt_pkl/S11_55011271_Greeting.pkl\n",
      "S11 Greeting 55011271\n",
      "/home/hrai/codes/MotionBERT/data/motion3d/h36m_gt_pkl/S11_58860488_Greeting.pkl\n",
      "S11 Greeting 58860488\n",
      "/home/hrai/codes/MotionBERT/data/motion3d/h36m_gt_pkl/S8_60457274_Eating 1.pkl\n",
      "S8 Eating 1 60457274\n",
      "/home/hrai/codes/MotionBERT/data/motion3d/h36m_gt_pkl/S8_58860488_WalkTogether 1.pkl\n",
      "S8 WalkTogether 1 58860488\n",
      "/home/hrai/codes/MotionBERT/data/motion3d/h36m_gt_pkl/S9_60457274_Greeting 1.pkl\n",
      "S9 Greeting 1 60457274\n",
      "/home/hrai/codes/MotionBERT/data/motion3d/h36m_gt_pkl/S11_58860488_WalkDog.pkl\n",
      "S11 WalkDog 58860488\n",
      "/home/hrai/codes/MotionBERT/data/motion3d/h36m_gt_pkl/S11_54138969_Sitting.pkl\n",
      "S11 Sitting 54138969\n",
      "/home/hrai/codes/MotionBERT/data/motion3d/h36m_gt_pkl/S7_60457274_Photo.pkl\n",
      "S7 Photo 60457274\n",
      "/home/hrai/codes/MotionBERT/data/motion3d/h36m_gt_pkl/S11_58860488_Eating 1.pkl\n",
      "S11 Eating 1 58860488\n",
      "/home/hrai/codes/MotionBERT/data/motion3d/h36m_gt_pkl/S7_54138969_SittingDown 1.pkl\n",
      "S7 SittingDown 1 54138969\n",
      "/home/hrai/codes/MotionBERT/data/motion3d/h36m_gt_pkl/S5_54138969_Phoning.pkl\n",
      "S5 Phoning 54138969\n",
      "/home/hrai/codes/MotionBERT/data/motion3d/h36m_gt_pkl/S8_58860488_Purchases.pkl\n",
      "S8 Purchases 58860488\n",
      "/home/hrai/codes/MotionBERT/data/motion3d/h36m_gt_pkl/S11_58860488_Smoking 2.pkl\n",
      "S11 Smoking 2 58860488\n",
      "/home/hrai/codes/MotionBERT/data/motion3d/h36m_gt_pkl/S7_60457274_Posing.pkl\n",
      "S7 Posing 60457274\n",
      "/home/hrai/codes/MotionBERT/data/motion3d/h36m_gt_pkl/S6_55011271_Sitting 1.pkl\n",
      "S6 Sitting 1 55011271\n",
      "/home/hrai/codes/MotionBERT/data/motion3d/h36m_gt_pkl/S7_54138969_Eating 1.pkl\n",
      "S7 Eating 1 54138969\n",
      "/home/hrai/codes/MotionBERT/data/motion3d/h36m_gt_pkl/S5_55011271_Discussion 2.pkl\n",
      "S5 Discussion 2 55011271\n",
      "/home/hrai/codes/MotionBERT/data/motion3d/h36m_gt_pkl/S7_58860488_Purchases 1.pkl\n",
      "S7 Purchases 1 58860488\n",
      "/home/hrai/codes/MotionBERT/data/motion3d/h36m_gt_pkl/S1_55011271_Walking 1.pkl\n",
      "S1 Walking 1 55011271\n"
     ]
    },
    {
     "name": "stderr",
     "output_type": "stream",
     "text": [
      "  0%|          | 0/696 [00:00<?, ?it/s]IMAGEIO FFMPEG_WRITER WARNING: input image is not divisible by macro_block_size=16, resizing from (1500, 500) to (1504, 512) to ensure video compatibility with most codecs and players. To prevent resizing, make your input image divisible by the macro_block_size or set the macro_block_size to 1 (risking incompatibility).\n",
      "[swscaler @ 0x620b900] Warning: data is not aligned! This can lead to a speed loss\n",
      "100%|██████████| 696/696 [00:40<00:00, 17.19it/s]\n"
     ]
    },
    {
     "name": "stdout",
     "output_type": "stream",
     "text": [
      "/home/hrai/codes/MotionBERT/data/motion3d/h36m_gt_pkl/S6_54138969_Smoking 1.pkl\n",
      "S6 Smoking 1 54138969\n",
      "/home/hrai/codes/MotionBERT/data/motion3d/h36m_gt_pkl/S8_60457274_Waiting 1.pkl\n",
      "S8 Waiting 1 60457274\n",
      "/home/hrai/codes/MotionBERT/data/motion3d/h36m_gt_pkl/S1_54138969_Purchases 1.pkl\n",
      "S1 Purchases 1 54138969\n"
     ]
    },
    {
     "name": "stderr",
     "output_type": "stream",
     "text": [
      "  0%|          | 0/213 [00:00<?, ?it/s]IMAGEIO FFMPEG_WRITER WARNING: input image is not divisible by macro_block_size=16, resizing from (1500, 500) to (1504, 512) to ensure video compatibility with most codecs and players. To prevent resizing, make your input image divisible by the macro_block_size or set the macro_block_size to 1 (risking incompatibility).\n",
      "[swscaler @ 0x56c1900] Warning: data is not aligned! This can lead to a speed loss\n",
      "100%|██████████| 213/213 [00:12<00:00, 17.20it/s]\n"
     ]
    },
    {
     "name": "stdout",
     "output_type": "stream",
     "text": [
      "/home/hrai/codes/MotionBERT/data/motion3d/h36m_gt_pkl/S7_60457274_Posing 1.pkl\n",
      "S7 Posing 1 60457274\n",
      "/home/hrai/codes/MotionBERT/data/motion3d/h36m_gt_pkl/S8_55011271_Eating.pkl\n",
      "S8 Eating 55011271\n",
      "/home/hrai/codes/MotionBERT/data/motion3d/h36m_gt_pkl/S8_55011271_Directions.pkl\n",
      "S8 Directions 55011271\n",
      "/home/hrai/codes/MotionBERT/data/motion3d/h36m_gt_pkl/S1_60457274_Photo.pkl\n",
      "S1 Photo 60457274\n"
     ]
    },
    {
     "name": "stderr",
     "output_type": "stream",
     "text": [
      "  0%|          | 0/208 [00:00<?, ?it/s]IMAGEIO FFMPEG_WRITER WARNING: input image is not divisible by macro_block_size=16, resizing from (1500, 500) to (1504, 512) to ensure video compatibility with most codecs and players. To prevent resizing, make your input image divisible by the macro_block_size or set the macro_block_size to 1 (risking incompatibility).\n",
      "[swscaler @ 0x557b900] Warning: data is not aligned! This can lead to a speed loss\n",
      "100%|██████████| 208/208 [00:12<00:00, 17.25it/s]\n"
     ]
    },
    {
     "name": "stdout",
     "output_type": "stream",
     "text": [
      "/home/hrai/codes/MotionBERT/data/motion3d/h36m_gt_pkl/S1_55011271_Eating.pkl\n",
      "S1 Eating 55011271\n"
     ]
    },
    {
     "name": "stderr",
     "output_type": "stream",
     "text": [
      "  0%|          | 0/545 [00:00<?, ?it/s]IMAGEIO FFMPEG_WRITER WARNING: input image is not divisible by macro_block_size=16, resizing from (1500, 500) to (1504, 512) to ensure video compatibility with most codecs and players. To prevent resizing, make your input image divisible by the macro_block_size or set the macro_block_size to 1 (risking incompatibility).\n",
      "[swscaler @ 0x6115900] Warning: data is not aligned! This can lead to a speed loss\n",
      "100%|██████████| 545/545 [00:31<00:00, 17.08it/s]\n"
     ]
    },
    {
     "name": "stdout",
     "output_type": "stream",
     "text": [
      "/home/hrai/codes/MotionBERT/data/motion3d/h36m_gt_pkl/S9_58860488_Directions.pkl\n",
      "S9 Directions 58860488\n",
      "/home/hrai/codes/MotionBERT/data/motion3d/h36m_gt_pkl/S6_54138969_Directions 1.pkl\n",
      "S6 Directions 1 54138969\n",
      "/home/hrai/codes/MotionBERT/data/motion3d/h36m_gt_pkl/S1_60457274_WalkTogether.pkl\n",
      "S1 WalkTogether 60457274\n"
     ]
    },
    {
     "name": "stderr",
     "output_type": "stream",
     "text": [
      "  0%|          | 0/247 [00:00<?, ?it/s]IMAGEIO FFMPEG_WRITER WARNING: input image is not divisible by macro_block_size=16, resizing from (1500, 500) to (1504, 512) to ensure video compatibility with most codecs and players. To prevent resizing, make your input image divisible by the macro_block_size or set the macro_block_size to 1 (risking incompatibility).\n",
      "[swscaler @ 0x6fdc900] Warning: data is not aligned! This can lead to a speed loss\n",
      "100%|██████████| 247/247 [00:14<00:00, 16.96it/s]\n"
     ]
    },
    {
     "name": "stdout",
     "output_type": "stream",
     "text": [
      "/home/hrai/codes/MotionBERT/data/motion3d/h36m_gt_pkl/S8_58860488_WalkDog 1.pkl\n",
      "S8 WalkDog 1 58860488\n",
      "/home/hrai/codes/MotionBERT/data/motion3d/h36m_gt_pkl/S5_55011271_Eating 1.pkl\n",
      "S5 Eating 1 55011271\n",
      "/home/hrai/codes/MotionBERT/data/motion3d/h36m_gt_pkl/S5_60457274_Posing 1.pkl\n",
      "S5 Posing 1 60457274\n",
      "/home/hrai/codes/MotionBERT/data/motion3d/h36m_gt_pkl/S7_55011271_WalkDog 1.pkl\n",
      "S7 WalkDog 1 55011271\n",
      "/home/hrai/codes/MotionBERT/data/motion3d/h36m_gt_pkl/S5_60457274_Directions 2.pkl\n",
      "S5 Directions 2 60457274\n",
      "/home/hrai/codes/MotionBERT/data/motion3d/h36m_gt_pkl/S1_60457274_Waiting.pkl\n",
      "S1 Waiting 60457274\n"
     ]
    },
    {
     "name": "stderr",
     "output_type": "stream",
     "text": [
      "  0%|          | 0/359 [00:00<?, ?it/s]IMAGEIO FFMPEG_WRITER WARNING: input image is not divisible by macro_block_size=16, resizing from (1500, 500) to (1504, 512) to ensure video compatibility with most codecs and players. To prevent resizing, make your input image divisible by the macro_block_size or set the macro_block_size to 1 (risking incompatibility).\n",
      "[swscaler @ 0x6e86900] Warning: data is not aligned! This can lead to a speed loss\n",
      "100%|██████████| 359/359 [00:20<00:00, 17.12it/s]\n"
     ]
    },
    {
     "name": "stdout",
     "output_type": "stream",
     "text": [
      "/home/hrai/codes/MotionBERT/data/motion3d/h36m_gt_pkl/S1_58860488_Eating 2.pkl\n",
      "S1 Eating 2 58860488\n"
     ]
    },
    {
     "name": "stderr",
     "output_type": "stream",
     "text": [
      "  0%|          | 0/472 [00:00<?, ?it/s]IMAGEIO FFMPEG_WRITER WARNING: input image is not divisible by macro_block_size=16, resizing from (1500, 500) to (1504, 512) to ensure video compatibility with most codecs and players. To prevent resizing, make your input image divisible by the macro_block_size or set the macro_block_size to 1 (risking incompatibility).\n",
      "[swscaler @ 0x6939900] Warning: data is not aligned! This can lead to a speed loss\n",
      "100%|██████████| 472/472 [00:27<00:00, 17.12it/s]\n"
     ]
    },
    {
     "name": "stdout",
     "output_type": "stream",
     "text": [
      "/home/hrai/codes/MotionBERT/data/motion3d/h36m_gt_pkl/S8_54138969_Directions 1.pkl\n",
      "S8 Directions 1 54138969\n",
      "/home/hrai/codes/MotionBERT/data/motion3d/h36m_gt_pkl/S6_60457274_Phoning.pkl\n",
      "S6 Phoning 60457274\n",
      "/home/hrai/codes/MotionBERT/data/motion3d/h36m_gt_pkl/S1_60457274_Discussion 1.pkl\n",
      "S1 Discussion 1 60457274\n"
     ]
    },
    {
     "name": "stderr",
     "output_type": "stream",
     "text": [
      "  0%|          | 0/761 [00:00<?, ?it/s]IMAGEIO FFMPEG_WRITER WARNING: input image is not divisible by macro_block_size=16, resizing from (1500, 500) to (1504, 512) to ensure video compatibility with most codecs and players. To prevent resizing, make your input image divisible by the macro_block_size or set the macro_block_size to 1 (risking incompatibility).\n",
      "[swscaler @ 0x669c900] Warning: data is not aligned! This can lead to a speed loss\n",
      "100%|██████████| 761/761 [00:44<00:00, 17.11it/s]\n"
     ]
    },
    {
     "name": "stdout",
     "output_type": "stream",
     "text": [
      "/home/hrai/codes/MotionBERT/data/motion3d/h36m_gt_pkl/S1_54138969_Waiting.pkl\n",
      "S1 Waiting 54138969\n"
     ]
    },
    {
     "name": "stderr",
     "output_type": "stream",
     "text": [
      "  0%|          | 0/359 [00:00<?, ?it/s]IMAGEIO FFMPEG_WRITER WARNING: input image is not divisible by macro_block_size=16, resizing from (1500, 500) to (1504, 512) to ensure video compatibility with most codecs and players. To prevent resizing, make your input image divisible by the macro_block_size or set the macro_block_size to 1 (risking incompatibility).\n",
      "[swscaler @ 0x58f1900] Warning: data is not aligned! This can lead to a speed loss\n",
      "100%|██████████| 359/359 [00:21<00:00, 16.99it/s]\n"
     ]
    },
    {
     "name": "stdout",
     "output_type": "stream",
     "text": [
      "/home/hrai/codes/MotionBERT/data/motion3d/h36m_gt_pkl/S1_58860488_Waiting 1.pkl\n",
      "S1 Waiting 1 58860488\n"
     ]
    },
    {
     "name": "stderr",
     "output_type": "stream",
     "text": [
      "  0%|          | 0/288 [00:00<?, ?it/s]IMAGEIO FFMPEG_WRITER WARNING: input image is not divisible by macro_block_size=16, resizing from (1500, 500) to (1504, 512) to ensure video compatibility with most codecs and players. To prevent resizing, make your input image divisible by the macro_block_size or set the macro_block_size to 1 (risking incompatibility).\n",
      "[swscaler @ 0x65a8900] Warning: data is not aligned! This can lead to a speed loss\n",
      "100%|██████████| 288/288 [00:16<00:00, 17.20it/s]\n"
     ]
    },
    {
     "name": "stdout",
     "output_type": "stream",
     "text": [
      "/home/hrai/codes/MotionBERT/data/motion3d/h36m_gt_pkl/S6_55011271_Photo 1.pkl\n",
      "S6 Photo 1 55011271\n",
      "/home/hrai/codes/MotionBERT/data/motion3d/h36m_gt_pkl/S5_54138969_Smoking.pkl\n",
      "S5 Smoking 54138969\n",
      "/home/hrai/codes/MotionBERT/data/motion3d/h36m_gt_pkl/S5_58860488_Waiting 2.pkl\n",
      "S5 Waiting 2 58860488\n",
      "/home/hrai/codes/MotionBERT/data/motion3d/h36m_gt_pkl/S7_55011271_Waiting 1.pkl\n",
      "S7 Waiting 1 55011271\n",
      "/home/hrai/codes/MotionBERT/data/motion3d/h36m_gt_pkl/S6_55011271_Discussion.pkl\n",
      "S6 Discussion 55011271\n",
      "/home/hrai/codes/MotionBERT/data/motion3d/h36m_gt_pkl/S8_60457274_Phoning.pkl\n",
      "S8 Phoning 60457274\n",
      "/home/hrai/codes/MotionBERT/data/motion3d/h36m_gt_pkl/S8_55011271_Photo.pkl\n",
      "S8 Photo 55011271\n",
      "/home/hrai/codes/MotionBERT/data/motion3d/h36m_gt_pkl/S9_60457274_Eating.pkl\n",
      "S9 Eating 60457274\n",
      "/home/hrai/codes/MotionBERT/data/motion3d/h36m_gt_pkl/S9_54138969_SittingDown 1.pkl\n",
      "S9 SittingDown 1 54138969\n",
      "/home/hrai/codes/MotionBERT/data/motion3d/h36m_gt_pkl/S9_54138969_Waiting 1.pkl\n",
      "S9 Waiting 1 54138969\n",
      "/home/hrai/codes/MotionBERT/data/motion3d/h36m_gt_pkl/S1_58860488_Phoning 1.pkl\n",
      "S1 Phoning 1 58860488\n"
     ]
    },
    {
     "name": "stderr",
     "output_type": "stream",
     "text": [
      "  0%|          | 0/528 [00:00<?, ?it/s]IMAGEIO FFMPEG_WRITER WARNING: input image is not divisible by macro_block_size=16, resizing from (1500, 500) to (1504, 512) to ensure video compatibility with most codecs and players. To prevent resizing, make your input image divisible by the macro_block_size or set the macro_block_size to 1 (risking incompatibility).\n",
      "[swscaler @ 0x73a3900] Warning: data is not aligned! This can lead to a speed loss\n",
      "100%|██████████| 528/528 [00:30<00:00, 17.21it/s]\n"
     ]
    },
    {
     "name": "stdout",
     "output_type": "stream",
     "text": [
      "/home/hrai/codes/MotionBERT/data/motion3d/h36m_gt_pkl/S6_55011271_Walking 1.pkl\n",
      "S6 Walking 1 55011271\n",
      "/home/hrai/codes/MotionBERT/data/motion3d/h36m_gt_pkl/S9_58860488_Discussion 1.pkl\n",
      "S9 Discussion 1 58860488\n",
      "/home/hrai/codes/MotionBERT/data/motion3d/h36m_gt_pkl/S9_55011271_Discussion 1.pkl\n",
      "S9 Discussion 1 55011271\n",
      "/home/hrai/codes/MotionBERT/data/motion3d/h36m_gt_pkl/S11_55011271_Eating.pkl\n",
      "S11 Eating 55011271\n",
      "/home/hrai/codes/MotionBERT/data/motion3d/h36m_gt_pkl/S1_54138969_SittingDown 2.pkl\n",
      "S1 SittingDown 2 54138969\n"
     ]
    },
    {
     "name": "stderr",
     "output_type": "stream",
     "text": [
      "  0%|          | 0/605 [00:00<?, ?it/s]IMAGEIO FFMPEG_WRITER WARNING: input image is not divisible by macro_block_size=16, resizing from (1500, 500) to (1504, 512) to ensure video compatibility with most codecs and players. To prevent resizing, make your input image divisible by the macro_block_size or set the macro_block_size to 1 (risking incompatibility).\n",
      "[swscaler @ 0x621c900] Warning: data is not aligned! This can lead to a speed loss\n",
      "100%|██████████| 605/605 [00:35<00:00, 16.89it/s]\n"
     ]
    },
    {
     "name": "stdout",
     "output_type": "stream",
     "text": [
      "/home/hrai/codes/MotionBERT/data/motion3d/h36m_gt_pkl/S5_60457274_SittingDown.pkl\n",
      "S5 SittingDown 60457274\n",
      "/home/hrai/codes/MotionBERT/data/motion3d/h36m_gt_pkl/S7_54138969_WalkTogether.pkl\n",
      "S7 WalkTogether 54138969\n",
      "/home/hrai/codes/MotionBERT/data/motion3d/h36m_gt_pkl/S5_58860488_WalkTogether 1.pkl\n",
      "S5 WalkTogether 1 58860488\n",
      "/home/hrai/codes/MotionBERT/data/motion3d/h36m_gt_pkl/S5_54138969_Smoking 1.pkl\n",
      "S5 Smoking 1 54138969\n",
      "/home/hrai/codes/MotionBERT/data/motion3d/h36m_gt_pkl/S5_58860488_Photo 2.pkl\n",
      "S5 Photo 2 58860488\n",
      "/home/hrai/codes/MotionBERT/data/motion3d/h36m_gt_pkl/S8_54138969_Eating.pkl\n",
      "S8 Eating 54138969\n",
      "/home/hrai/codes/MotionBERT/data/motion3d/h36m_gt_pkl/S9_54138969_WalkDog.pkl\n",
      "S9 WalkDog 54138969\n",
      "/home/hrai/codes/MotionBERT/data/motion3d/h36m_gt_pkl/S6_60457274_Directions 1.pkl\n",
      "S6 Directions 1 60457274\n",
      "/home/hrai/codes/MotionBERT/data/motion3d/h36m_gt_pkl/S6_55011271_Smoking 1.pkl\n",
      "S6 Smoking 1 55011271\n",
      "/home/hrai/codes/MotionBERT/data/motion3d/h36m_gt_pkl/S11_58860488_Phoning 3.pkl\n",
      "S11 Phoning 3 58860488\n",
      "/home/hrai/codes/MotionBERT/data/motion3d/h36m_gt_pkl/S9_58860488_Sitting.pkl\n",
      "S9 Sitting 58860488\n",
      "/home/hrai/codes/MotionBERT/data/motion3d/h36m_gt_pkl/S11_58860488_Purchases.pkl\n",
      "S11 Purchases 58860488\n",
      "/home/hrai/codes/MotionBERT/data/motion3d/h36m_gt_pkl/S6_55011271_Phoning 1.pkl\n",
      "S6 Phoning 1 55011271\n",
      "/home/hrai/codes/MotionBERT/data/motion3d/h36m_gt_pkl/S9_58860488_Phoning 1.pkl\n",
      "S9 Phoning 1 58860488\n",
      "/home/hrai/codes/MotionBERT/data/motion3d/h36m_gt_pkl/S9_55011271_WalkTogether.pkl\n",
      "S9 WalkTogether 55011271\n",
      "/home/hrai/codes/MotionBERT/data/motion3d/h36m_gt_pkl/S1_60457274_SittingDown.pkl\n",
      "S1 SittingDown 60457274\n"
     ]
    },
    {
     "name": "stderr",
     "output_type": "stream",
     "text": [
      "  0%|          | 0/549 [00:00<?, ?it/s]IMAGEIO FFMPEG_WRITER WARNING: input image is not divisible by macro_block_size=16, resizing from (1500, 500) to (1504, 512) to ensure video compatibility with most codecs and players. To prevent resizing, make your input image divisible by the macro_block_size or set the macro_block_size to 1 (risking incompatibility).\n",
      "[swscaler @ 0x61fb900] Warning: data is not aligned! This can lead to a speed loss\n",
      "100%|██████████| 549/549 [00:31<00:00, 17.29it/s]\n"
     ]
    },
    {
     "name": "stdout",
     "output_type": "stream",
     "text": [
      "/home/hrai/codes/MotionBERT/data/motion3d/h36m_gt_pkl/S9_58860488_Sitting 1.pkl\n",
      "S9 Sitting 1 58860488\n",
      "/home/hrai/codes/MotionBERT/data/motion3d/h36m_gt_pkl/S11_60457274_Smoking 2.pkl\n",
      "S11 Smoking 2 60457274\n",
      "/home/hrai/codes/MotionBERT/data/motion3d/h36m_gt_pkl/S9_60457274_Posing.pkl\n",
      "S9 Posing 60457274\n",
      "/home/hrai/codes/MotionBERT/data/motion3d/h36m_gt_pkl/S7_58860488_SittingDown 1.pkl\n",
      "S7 SittingDown 1 58860488\n",
      "/home/hrai/codes/MotionBERT/data/motion3d/h36m_gt_pkl/S8_55011271_WalkDog.pkl\n",
      "S8 WalkDog 55011271\n",
      "/home/hrai/codes/MotionBERT/data/motion3d/h36m_gt_pkl/S6_54138969_Waiting.pkl\n",
      "S6 Waiting 54138969\n",
      "/home/hrai/codes/MotionBERT/data/motion3d/h36m_gt_pkl/S1_60457274_WalkDog.pkl\n",
      "S1 WalkDog 60457274\n"
     ]
    },
    {
     "name": "stderr",
     "output_type": "stream",
     "text": [
      "  0%|          | 0/356 [00:00<?, ?it/s]IMAGEIO FFMPEG_WRITER WARNING: input image is not divisible by macro_block_size=16, resizing from (1500, 500) to (1504, 512) to ensure video compatibility with most codecs and players. To prevent resizing, make your input image divisible by the macro_block_size or set the macro_block_size to 1 (risking incompatibility).\n",
      "[swscaler @ 0x63ad900] Warning: data is not aligned! This can lead to a speed loss\n",
      "100%|██████████| 356/356 [00:20<00:00, 17.25it/s]\n"
     ]
    },
    {
     "name": "stdout",
     "output_type": "stream",
     "text": [
      "/home/hrai/codes/MotionBERT/data/motion3d/h36m_gt_pkl/S6_60457274_Waiting 3.pkl\n",
      "S6 Waiting 3 60457274\n",
      "/home/hrai/codes/MotionBERT/data/motion3d/h36m_gt_pkl/S9_60457274_Purchases.pkl\n",
      "S9 Purchases 60457274\n",
      "/home/hrai/codes/MotionBERT/data/motion3d/h36m_gt_pkl/S11_54138969_Eating 1.pkl\n",
      "S11 Eating 1 54138969\n",
      "/home/hrai/codes/MotionBERT/data/motion3d/h36m_gt_pkl/S8_54138969_Directions.pkl\n",
      "S8 Directions 54138969\n",
      "/home/hrai/codes/MotionBERT/data/motion3d/h36m_gt_pkl/S5_54138969_SittingDown 1.pkl\n",
      "S5 SittingDown 1 54138969\n",
      "/home/hrai/codes/MotionBERT/data/motion3d/h36m_gt_pkl/S5_60457274_Walking.pkl\n",
      "S5 Walking 60457274\n",
      "/home/hrai/codes/MotionBERT/data/motion3d/h36m_gt_pkl/S7_54138969_WalkDog.pkl\n",
      "S7 WalkDog 54138969\n",
      "/home/hrai/codes/MotionBERT/data/motion3d/h36m_gt_pkl/S11_58860488_Discussion 1.pkl\n",
      "S11 Discussion 1 58860488\n",
      "/home/hrai/codes/MotionBERT/data/motion3d/h36m_gt_pkl/S9_55011271_Photo 1.pkl\n",
      "S9 Photo 1 55011271\n",
      "/home/hrai/codes/MotionBERT/data/motion3d/h36m_gt_pkl/S11_54138969_Purchases 1.pkl\n",
      "S11 Purchases 1 54138969\n",
      "/home/hrai/codes/MotionBERT/data/motion3d/h36m_gt_pkl/S9_58860488_WalkDog 1.pkl\n",
      "S9 WalkDog 1 58860488\n",
      "/home/hrai/codes/MotionBERT/data/motion3d/h36m_gt_pkl/S5_55011271_Sitting 1.pkl\n",
      "S5 Sitting 1 55011271\n",
      "/home/hrai/codes/MotionBERT/data/motion3d/h36m_gt_pkl/S8_54138969_WalkDog.pkl\n",
      "S8 WalkDog 54138969\n",
      "/home/hrai/codes/MotionBERT/data/motion3d/h36m_gt_pkl/S5_58860488_Posing.pkl\n",
      "S5 Posing 58860488\n",
      "/home/hrai/codes/MotionBERT/data/motion3d/h36m_gt_pkl/S9_55011271_Directions.pkl\n",
      "S9 Directions 55011271\n",
      "/home/hrai/codes/MotionBERT/data/motion3d/h36m_gt_pkl/S11_55011271_Eating 1.pkl\n",
      "S11 Eating 1 55011271\n",
      "/home/hrai/codes/MotionBERT/data/motion3d/h36m_gt_pkl/S6_58860488_Directions 1.pkl\n",
      "S6 Directions 1 58860488\n",
      "/home/hrai/codes/MotionBERT/data/motion3d/h36m_gt_pkl/S7_60457274_Greeting.pkl\n",
      "S7 Greeting 60457274\n",
      "/home/hrai/codes/MotionBERT/data/motion3d/h36m_gt_pkl/S9_55011271_Purchases 1.pkl\n",
      "S9 Purchases 1 55011271\n",
      "/home/hrai/codes/MotionBERT/data/motion3d/h36m_gt_pkl/S6_60457274_SittingDown.pkl\n",
      "S6 SittingDown 60457274\n",
      "/home/hrai/codes/MotionBERT/data/motion3d/h36m_gt_pkl/S7_54138969_WalkDog 1.pkl\n",
      "S7 WalkDog 1 54138969\n",
      "/home/hrai/codes/MotionBERT/data/motion3d/h36m_gt_pkl/S1_55011271_Posing.pkl\n",
      "S1 Posing 55011271\n"
     ]
    },
    {
     "name": "stderr",
     "output_type": "stream",
     "text": [
      "  0%|          | 0/199 [00:00<?, ?it/s]IMAGEIO FFMPEG_WRITER WARNING: input image is not divisible by macro_block_size=16, resizing from (1500, 500) to (1504, 512) to ensure video compatibility with most codecs and players. To prevent resizing, make your input image divisible by the macro_block_size or set the macro_block_size to 1 (risking incompatibility).\n",
      "[swscaler @ 0x6711900] Warning: data is not aligned! This can lead to a speed loss\n",
      "100%|██████████| 199/199 [00:11<00:00, 17.04it/s]\n"
     ]
    },
    {
     "name": "stdout",
     "output_type": "stream",
     "text": [
      "/home/hrai/codes/MotionBERT/data/motion3d/h36m_gt_pkl/S7_60457274_Purchases.pkl\n",
      "S7 Purchases 60457274\n",
      "/home/hrai/codes/MotionBERT/data/motion3d/h36m_gt_pkl/S8_58860488_Eating 1.pkl\n",
      "S8 Eating 1 58860488\n",
      "/home/hrai/codes/MotionBERT/data/motion3d/h36m_gt_pkl/S7_60457274_Eating 1.pkl\n",
      "S7 Eating 1 60457274\n",
      "/home/hrai/codes/MotionBERT/data/motion3d/h36m_gt_pkl/S5_55011271_Greeting 1.pkl\n",
      "S5 Greeting 1 55011271\n",
      "/home/hrai/codes/MotionBERT/data/motion3d/h36m_gt_pkl/S11_58860488_Photo 1.pkl\n",
      "S11 Photo 1 58860488\n",
      "/home/hrai/codes/MotionBERT/data/motion3d/h36m_gt_pkl/S7_58860488_Sitting 1.pkl\n",
      "S7 Sitting 1 58860488\n",
      "/home/hrai/codes/MotionBERT/data/motion3d/h36m_gt_pkl/S7_60457274_Sitting 1.pkl\n",
      "S7 Sitting 1 60457274\n",
      "/home/hrai/codes/MotionBERT/data/motion3d/h36m_gt_pkl/S11_55011271_Waiting.pkl\n",
      "S11 Waiting 55011271\n",
      "/home/hrai/codes/MotionBERT/data/motion3d/h36m_gt_pkl/S11_54138969_SittingDown.pkl\n",
      "S11 SittingDown 54138969\n",
      "/home/hrai/codes/MotionBERT/data/motion3d/h36m_gt_pkl/S8_60457274_Discussion 1.pkl\n",
      "S8 Discussion 1 60457274\n",
      "/home/hrai/codes/MotionBERT/data/motion3d/h36m_gt_pkl/S6_54138969_Discussion.pkl\n",
      "S6 Discussion 54138969\n",
      "/home/hrai/codes/MotionBERT/data/motion3d/h36m_gt_pkl/S7_54138969_Phoning.pkl\n",
      "S7 Phoning 54138969\n",
      "/home/hrai/codes/MotionBERT/data/motion3d/h36m_gt_pkl/S9_55011271_Directions 1.pkl\n",
      "S9 Directions 1 55011271\n",
      "/home/hrai/codes/MotionBERT/data/motion3d/h36m_gt_pkl/S7_54138969_Photo.pkl\n",
      "S7 Photo 54138969\n",
      "/home/hrai/codes/MotionBERT/data/motion3d/h36m_gt_pkl/S5_58860488_Posing 1.pkl\n",
      "S5 Posing 1 58860488\n",
      "/home/hrai/codes/MotionBERT/data/motion3d/h36m_gt_pkl/S1_58860488_Waiting.pkl\n",
      "S1 Waiting 58860488\n"
     ]
    },
    {
     "name": "stderr",
     "output_type": "stream",
     "text": [
      "  0%|          | 0/359 [00:00<?, ?it/s]IMAGEIO FFMPEG_WRITER WARNING: input image is not divisible by macro_block_size=16, resizing from (1500, 500) to (1504, 512) to ensure video compatibility with most codecs and players. To prevent resizing, make your input image divisible by the macro_block_size or set the macro_block_size to 1 (risking incompatibility).\n",
      "[swscaler @ 0x58fb900] Warning: data is not aligned! This can lead to a speed loss\n",
      "100%|██████████| 359/359 [00:21<00:00, 17.00it/s]\n"
     ]
    },
    {
     "name": "stdout",
     "output_type": "stream",
     "text": [
      "/home/hrai/codes/MotionBERT/data/motion3d/h36m_gt_pkl/S1_60457274_Greeting.pkl\n",
      "S1 Greeting 60457274\n"
     ]
    },
    {
     "name": "stderr",
     "output_type": "stream",
     "text": [
      "  0%|          | 0/230 [00:00<?, ?it/s]IMAGEIO FFMPEG_WRITER WARNING: input image is not divisible by macro_block_size=16, resizing from (1500, 500) to (1504, 512) to ensure video compatibility with most codecs and players. To prevent resizing, make your input image divisible by the macro_block_size or set the macro_block_size to 1 (risking incompatibility).\n",
      "[swscaler @ 0x5c4c900] Warning: data is not aligned! This can lead to a speed loss\n",
      "100%|██████████| 230/230 [00:13<00:00, 17.08it/s]\n"
     ]
    },
    {
     "name": "stdout",
     "output_type": "stream",
     "text": [
      "/home/hrai/codes/MotionBERT/data/motion3d/h36m_gt_pkl/S6_55011271_Sitting 2.pkl\n",
      "S6 Sitting 2 55011271\n",
      "/home/hrai/codes/MotionBERT/data/motion3d/h36m_gt_pkl/S9_58860488_WalkTogether.pkl\n",
      "S9 WalkTogether 58860488\n",
      "/home/hrai/codes/MotionBERT/data/motion3d/h36m_gt_pkl/S11_58860488_Walking.pkl\n",
      "S11 Walking 58860488\n",
      "/home/hrai/codes/MotionBERT/data/motion3d/h36m_gt_pkl/S9_60457274_Sitting 1.pkl\n",
      "S9 Sitting 1 60457274\n",
      "/home/hrai/codes/MotionBERT/data/motion3d/h36m_gt_pkl/S6_58860488_Purchases 1.pkl\n",
      "S6 Purchases 1 58860488\n",
      "/home/hrai/codes/MotionBERT/data/motion3d/h36m_gt_pkl/S5_55011271_Posing 1.pkl\n",
      "S5 Posing 1 55011271\n",
      "/home/hrai/codes/MotionBERT/data/motion3d/h36m_gt_pkl/S8_60457274_SittingDown 1.pkl\n",
      "S8 SittingDown 1 60457274\n",
      "/home/hrai/codes/MotionBERT/data/motion3d/h36m_gt_pkl/S11_60457274_Greeting.pkl\n",
      "S11 Greeting 60457274\n",
      "/home/hrai/codes/MotionBERT/data/motion3d/h36m_gt_pkl/S7_60457274_Sitting.pkl\n",
      "S7 Sitting 60457274\n",
      "/home/hrai/codes/MotionBERT/data/motion3d/h36m_gt_pkl/S9_60457274_Photo.pkl\n",
      "S9 Photo 60457274\n",
      "/home/hrai/codes/MotionBERT/data/motion3d/h36m_gt_pkl/S8_58860488_WalkDog.pkl\n",
      "S8 WalkDog 58860488\n",
      "/home/hrai/codes/MotionBERT/data/motion3d/h36m_gt_pkl/S1_54138969_Discussion.pkl\n",
      "S1 Discussion 54138969\n"
     ]
    },
    {
     "name": "stderr",
     "output_type": "stream",
     "text": [
      "  0%|          | 0/771 [00:00<?, ?it/s]IMAGEIO FFMPEG_WRITER WARNING: input image is not divisible by macro_block_size=16, resizing from (1500, 500) to (1504, 512) to ensure video compatibility with most codecs and players. To prevent resizing, make your input image divisible by the macro_block_size or set the macro_block_size to 1 (risking incompatibility).\n",
      "[swscaler @ 0x69e1900] Warning: data is not aligned! This can lead to a speed loss\n",
      "100%|██████████| 771/771 [00:44<00:00, 17.15it/s]\n"
     ]
    },
    {
     "name": "stdout",
     "output_type": "stream",
     "text": [
      "/home/hrai/codes/MotionBERT/data/motion3d/h36m_gt_pkl/S6_58860488_Directions.pkl\n",
      "S6 Directions 58860488\n",
      "/home/hrai/codes/MotionBERT/data/motion3d/h36m_gt_pkl/S9_60457274_WalkTogether.pkl\n",
      "S9 WalkTogether 60457274\n",
      "/home/hrai/codes/MotionBERT/data/motion3d/h36m_gt_pkl/S6_55011271_Greeting 1.pkl\n",
      "S6 Greeting 1 55011271\n",
      "/home/hrai/codes/MotionBERT/data/motion3d/h36m_gt_pkl/S1_60457274_Eating 2.pkl\n",
      "S1 Eating 2 60457274\n"
     ]
    },
    {
     "name": "stderr",
     "output_type": "stream",
     "text": [
      "  0%|          | 0/472 [00:00<?, ?it/s]IMAGEIO FFMPEG_WRITER WARNING: input image is not divisible by macro_block_size=16, resizing from (1500, 500) to (1504, 512) to ensure video compatibility with most codecs and players. To prevent resizing, make your input image divisible by the macro_block_size or set the macro_block_size to 1 (risking incompatibility).\n",
      "[swscaler @ 0x653d900] Warning: data is not aligned! This can lead to a speed loss\n",
      "100%|██████████| 472/472 [00:27<00:00, 17.06it/s]\n"
     ]
    },
    {
     "name": "stdout",
     "output_type": "stream",
     "text": [
      "/home/hrai/codes/MotionBERT/data/motion3d/h36m_gt_pkl/S9_58860488_Waiting.pkl\n",
      "S9 Waiting 58860488\n",
      "/home/hrai/codes/MotionBERT/data/motion3d/h36m_gt_pkl/S8_60457274_Sitting 1.pkl\n",
      "S8 Sitting 1 60457274\n",
      "/home/hrai/codes/MotionBERT/data/motion3d/h36m_gt_pkl/S7_58860488_Walking 1.pkl\n",
      "S7 Walking 1 58860488\n",
      "/home/hrai/codes/MotionBERT/data/motion3d/h36m_gt_pkl/S5_54138969_WalkDog 1.pkl\n",
      "S5 WalkDog 1 54138969\n",
      "/home/hrai/codes/MotionBERT/data/motion3d/h36m_gt_pkl/S7_58860488_Purchases.pkl\n",
      "S7 Purchases 58860488\n",
      "/home/hrai/codes/MotionBERT/data/motion3d/h36m_gt_pkl/S5_54138969_Eating.pkl\n",
      "S5 Eating 54138969\n",
      "/home/hrai/codes/MotionBERT/data/motion3d/h36m_gt_pkl/S8_54138969_Smoking.pkl\n",
      "S8 Smoking 54138969\n",
      "/home/hrai/codes/MotionBERT/data/motion3d/h36m_gt_pkl/S9_58860488_Purchases.pkl\n",
      "S9 Purchases 58860488\n",
      "/home/hrai/codes/MotionBERT/data/motion3d/h36m_gt_pkl/S8_55011271_Posing 1.pkl\n",
      "S8 Posing 1 55011271\n",
      "/home/hrai/codes/MotionBERT/data/motion3d/h36m_gt_pkl/S6_54138969_Directions.pkl\n",
      "S6 Directions 54138969\n",
      "/home/hrai/codes/MotionBERT/data/motion3d/h36m_gt_pkl/S7_60457274_Walking 2.pkl\n",
      "S7 Walking 2 60457274\n",
      "/home/hrai/codes/MotionBERT/data/motion3d/h36m_gt_pkl/S6_54138969_WalkDog.pkl\n",
      "S6 WalkDog 54138969\n",
      "/home/hrai/codes/MotionBERT/data/motion3d/h36m_gt_pkl/S6_55011271_Greeting.pkl\n",
      "S6 Greeting 55011271\n",
      "/home/hrai/codes/MotionBERT/data/motion3d/h36m_gt_pkl/S9_54138969_Greeting.pkl\n",
      "S9 Greeting 54138969\n",
      "/home/hrai/codes/MotionBERT/data/motion3d/h36m_gt_pkl/S6_55011271_Phoning.pkl\n",
      "S6 Phoning 55011271\n",
      "/home/hrai/codes/MotionBERT/data/motion3d/h36m_gt_pkl/S5_55011271_Eating.pkl\n",
      "S5 Eating 55011271\n",
      "/home/hrai/codes/MotionBERT/data/motion3d/h36m_gt_pkl/S9_55011271_WalkDog 1.pkl\n",
      "S9 WalkDog 1 55011271\n",
      "/home/hrai/codes/MotionBERT/data/motion3d/h36m_gt_pkl/S7_55011271_SittingDown 1.pkl\n",
      "S7 SittingDown 1 55011271\n",
      "/home/hrai/codes/MotionBERT/data/motion3d/h36m_gt_pkl/S1_60457274_Smoking 1.pkl\n",
      "S1 Smoking 1 60457274\n"
     ]
    },
    {
     "name": "stderr",
     "output_type": "stream",
     "text": [
      "  0%|          | 0/523 [00:00<?, ?it/s]IMAGEIO FFMPEG_WRITER WARNING: input image is not divisible by macro_block_size=16, resizing from (1500, 500) to (1504, 512) to ensure video compatibility with most codecs and players. To prevent resizing, make your input image divisible by the macro_block_size or set the macro_block_size to 1 (risking incompatibility).\n",
      "[swscaler @ 0x552f900] Warning: data is not aligned! This can lead to a speed loss\n",
      "100%|██████████| 523/523 [00:30<00:00, 17.35it/s]\n"
     ]
    },
    {
     "name": "stdout",
     "output_type": "stream",
     "text": [
      "/home/hrai/codes/MotionBERT/data/motion3d/h36m_gt_pkl/S11_54138969_WalkDog 1.pkl\n",
      "S11 WalkDog 1 54138969\n",
      "/home/hrai/codes/MotionBERT/data/motion3d/h36m_gt_pkl/S6_60457274_Walking 1.pkl\n",
      "S6 Walking 1 60457274\n",
      "/home/hrai/codes/MotionBERT/data/motion3d/h36m_gt_pkl/S8_58860488_Smoking.pkl\n",
      "S8 Smoking 58860488\n",
      "/home/hrai/codes/MotionBERT/data/motion3d/h36m_gt_pkl/S6_55011271_Posing 2.pkl\n",
      "S6 Posing 2 55011271\n",
      "/home/hrai/codes/MotionBERT/data/motion3d/h36m_gt_pkl/S6_55011271_Discussion 1.pkl\n",
      "S6 Discussion 1 55011271\n",
      "/home/hrai/codes/MotionBERT/data/motion3d/h36m_gt_pkl/S11_58860488_WalkTogether.pkl\n",
      "S11 WalkTogether 58860488\n",
      "/home/hrai/codes/MotionBERT/data/motion3d/h36m_gt_pkl/S1_58860488_WalkDog.pkl\n",
      "S1 WalkDog 58860488\n"
     ]
    },
    {
     "name": "stderr",
     "output_type": "stream",
     "text": [
      "  0%|          | 0/356 [00:00<?, ?it/s]IMAGEIO FFMPEG_WRITER WARNING: input image is not divisible by macro_block_size=16, resizing from (1500, 500) to (1504, 512) to ensure video compatibility with most codecs and players. To prevent resizing, make your input image divisible by the macro_block_size or set the macro_block_size to 1 (risking incompatibility).\n",
      "[swscaler @ 0x744c900] Warning: data is not aligned! This can lead to a speed loss\n",
      "100%|██████████| 356/356 [00:20<00:00, 17.28it/s]\n"
     ]
    },
    {
     "name": "stdout",
     "output_type": "stream",
     "text": [
      "/home/hrai/codes/MotionBERT/data/motion3d/h36m_gt_pkl/S5_58860488_Eating.pkl\n",
      "S5 Eating 58860488\n",
      "/home/hrai/codes/MotionBERT/data/motion3d/h36m_gt_pkl/S11_54138969_Phoning 2.pkl\n",
      "S11 Phoning 2 54138969\n",
      "/home/hrai/codes/MotionBERT/data/motion3d/h36m_gt_pkl/S8_55011271_Photo 1.pkl\n",
      "S8 Photo 1 55011271\n",
      "/home/hrai/codes/MotionBERT/data/motion3d/h36m_gt_pkl/S11_54138969_Greeting 2.pkl\n",
      "S11 Greeting 2 54138969\n",
      "/home/hrai/codes/MotionBERT/data/motion3d/h36m_gt_pkl/S5_54138969_Phoning 1.pkl\n",
      "S5 Phoning 1 54138969\n",
      "/home/hrai/codes/MotionBERT/data/motion3d/h36m_gt_pkl/S9_54138969_Phoning.pkl\n",
      "S9 Phoning 54138969\n",
      "/home/hrai/codes/MotionBERT/data/motion3d/h36m_gt_pkl/S6_60457274_WalkTogether.pkl\n",
      "S6 WalkTogether 60457274\n",
      "/home/hrai/codes/MotionBERT/data/motion3d/h36m_gt_pkl/S5_55011271_Photo.pkl\n",
      "S5 Photo 55011271\n",
      "/home/hrai/codes/MotionBERT/data/motion3d/h36m_gt_pkl/S5_58860488_SittingDown 1.pkl\n",
      "S5 SittingDown 1 58860488\n",
      "/home/hrai/codes/MotionBERT/data/motion3d/h36m_gt_pkl/S5_58860488_Sitting.pkl\n",
      "S5 Sitting 58860488\n",
      "/home/hrai/codes/MotionBERT/data/motion3d/h36m_gt_pkl/S8_60457274_Greeting 1.pkl\n",
      "S8 Greeting 1 60457274\n",
      "/home/hrai/codes/MotionBERT/data/motion3d/h36m_gt_pkl/S9_60457274_SittingDown 1.pkl\n",
      "S9 SittingDown 1 60457274\n",
      "/home/hrai/codes/MotionBERT/data/motion3d/h36m_gt_pkl/S5_54138969_Directions 2.pkl\n",
      "S5 Directions 2 54138969\n",
      "/home/hrai/codes/MotionBERT/data/motion3d/h36m_gt_pkl/S1_55011271_Walking.pkl\n",
      "S1 Walking 55011271\n"
     ]
    },
    {
     "name": "stderr",
     "output_type": "stream",
     "text": [
      "  0%|          | 0/627 [00:00<?, ?it/s]IMAGEIO FFMPEG_WRITER WARNING: input image is not divisible by macro_block_size=16, resizing from (1500, 500) to (1504, 512) to ensure video compatibility with most codecs and players. To prevent resizing, make your input image divisible by the macro_block_size or set the macro_block_size to 1 (risking incompatibility).\n",
      "[swscaler @ 0x6788900] Warning: data is not aligned! This can lead to a speed loss\n",
      "100%|██████████| 627/627 [00:36<00:00, 17.08it/s]\n"
     ]
    },
    {
     "name": "stdout",
     "output_type": "stream",
     "text": [
      "/home/hrai/codes/MotionBERT/data/motion3d/h36m_gt_pkl/S9_58860488_Discussion 2.pkl\n",
      "S9 Discussion 2 58860488\n",
      "/home/hrai/codes/MotionBERT/data/motion3d/h36m_gt_pkl/S11_55011271_Greeting 2.pkl\n",
      "S11 Greeting 2 55011271\n",
      "/home/hrai/codes/MotionBERT/data/motion3d/h36m_gt_pkl/S9_54138969_Posing.pkl\n",
      "S9 Posing 54138969\n",
      "/home/hrai/codes/MotionBERT/data/motion3d/h36m_gt_pkl/S1_55011271_Directions.pkl\n",
      "S1 Directions 55011271\n"
     ]
    },
    {
     "name": "stderr",
     "output_type": "stream",
     "text": [
      "  0%|          | 0/323 [00:00<?, ?it/s]IMAGEIO FFMPEG_WRITER WARNING: input image is not divisible by macro_block_size=16, resizing from (1500, 500) to (1504, 512) to ensure video compatibility with most codecs and players. To prevent resizing, make your input image divisible by the macro_block_size or set the macro_block_size to 1 (risking incompatibility).\n",
      "[swscaler @ 0x5647900] Warning: data is not aligned! This can lead to a speed loss\n",
      "100%|██████████| 323/323 [00:18<00:00, 17.24it/s]\n"
     ]
    },
    {
     "name": "stdout",
     "output_type": "stream",
     "text": [
      "/home/hrai/codes/MotionBERT/data/motion3d/h36m_gt_pkl/S5_60457274_Smoking 1.pkl\n",
      "S5 Smoking 1 60457274\n",
      "/home/hrai/codes/MotionBERT/data/motion3d/h36m_gt_pkl/S1_54138969_Walking 1.pkl\n",
      "S1 Walking 1 54138969\n"
     ]
    },
    {
     "name": "stderr",
     "output_type": "stream",
     "text": [
      "  0%|          | 0/696 [00:00<?, ?it/s]IMAGEIO FFMPEG_WRITER WARNING: input image is not divisible by macro_block_size=16, resizing from (1500, 500) to (1504, 512) to ensure video compatibility with most codecs and players. To prevent resizing, make your input image divisible by the macro_block_size or set the macro_block_size to 1 (risking incompatibility).\n",
      "[swscaler @ 0x6d21900] Warning: data is not aligned! This can lead to a speed loss\n",
      "100%|██████████| 696/696 [00:40<00:00, 17.24it/s]\n"
     ]
    },
    {
     "name": "stdout",
     "output_type": "stream",
     "text": [
      "/home/hrai/codes/MotionBERT/data/motion3d/h36m_gt_pkl/S8_58860488_Discussion 1.pkl\n",
      "S8 Discussion 1 58860488\n",
      "/home/hrai/codes/MotionBERT/data/motion3d/h36m_gt_pkl/S6_55011271_Purchases.pkl\n",
      "S6 Purchases 55011271\n",
      "/home/hrai/codes/MotionBERT/data/motion3d/h36m_gt_pkl/S1_60457274_SittingDown 2.pkl\n",
      "S1 SittingDown 2 60457274\n"
     ]
    },
    {
     "name": "stderr",
     "output_type": "stream",
     "text": [
      "  0%|          | 0/605 [00:00<?, ?it/s]IMAGEIO FFMPEG_WRITER WARNING: input image is not divisible by macro_block_size=16, resizing from (1500, 500) to (1504, 512) to ensure video compatibility with most codecs and players. To prevent resizing, make your input image divisible by the macro_block_size or set the macro_block_size to 1 (risking incompatibility).\n",
      "[swscaler @ 0x5a51900] Warning: data is not aligned! This can lead to a speed loss\n",
      "100%|██████████| 605/605 [00:35<00:00, 17.08it/s]\n"
     ]
    },
    {
     "name": "stdout",
     "output_type": "stream",
     "text": [
      "/home/hrai/codes/MotionBERT/data/motion3d/h36m_gt_pkl/S7_58860488_WalkTogether.pkl\n",
      "S7 WalkTogether 58860488\n",
      "/home/hrai/codes/MotionBERT/data/motion3d/h36m_gt_pkl/S5_58860488_Phoning 1.pkl\n",
      "S5 Phoning 1 58860488\n",
      "/home/hrai/codes/MotionBERT/data/motion3d/h36m_gt_pkl/S5_58860488_Directions 1.pkl\n",
      "S5 Directions 1 58860488\n",
      "/home/hrai/codes/MotionBERT/data/motion3d/h36m_gt_pkl/S5_60457274_SittingDown 1.pkl\n",
      "S5 SittingDown 1 60457274\n",
      "/home/hrai/codes/MotionBERT/data/motion3d/h36m_gt_pkl/S7_54138969_Walking 1.pkl\n",
      "S7 Walking 1 54138969\n",
      "/home/hrai/codes/MotionBERT/data/motion3d/h36m_gt_pkl/S5_60457274_Discussion 3.pkl\n",
      "S5 Discussion 3 60457274\n",
      "/home/hrai/codes/MotionBERT/data/motion3d/h36m_gt_pkl/S7_55011271_Posing 1.pkl\n",
      "S7 Posing 1 55011271\n",
      "/home/hrai/codes/MotionBERT/data/motion3d/h36m_gt_pkl/S1_55011271_WalkDog.pkl\n",
      "S1 WalkDog 55011271\n"
     ]
    },
    {
     "name": "stderr",
     "output_type": "stream",
     "text": [
      "  0%|          | 0/356 [00:00<?, ?it/s]IMAGEIO FFMPEG_WRITER WARNING: input image is not divisible by macro_block_size=16, resizing from (1500, 500) to (1504, 512) to ensure video compatibility with most codecs and players. To prevent resizing, make your input image divisible by the macro_block_size or set the macro_block_size to 1 (risking incompatibility).\n",
      "[swscaler @ 0x7373900] Warning: data is not aligned! This can lead to a speed loss\n",
      "100%|██████████| 356/356 [00:20<00:00, 17.21it/s]\n"
     ]
    },
    {
     "name": "stdout",
     "output_type": "stream",
     "text": [
      "/home/hrai/codes/MotionBERT/data/motion3d/h36m_gt_pkl/S9_58860488_Posing.pkl\n",
      "S9 Posing 58860488\n",
      "/home/hrai/codes/MotionBERT/data/motion3d/h36m_gt_pkl/S9_60457274_Walking.pkl\n",
      "S9 Walking 60457274\n",
      "/home/hrai/codes/MotionBERT/data/motion3d/h36m_gt_pkl/S7_55011271_Directions.pkl\n",
      "S7 Directions 55011271\n",
      "/home/hrai/codes/MotionBERT/data/motion3d/h36m_gt_pkl/S11_60457274_Waiting.pkl\n",
      "S11 Waiting 60457274\n",
      "/home/hrai/codes/MotionBERT/data/motion3d/h36m_gt_pkl/S5_54138969_Posing.pkl\n",
      "S5 Posing 54138969\n",
      "/home/hrai/codes/MotionBERT/data/motion3d/h36m_gt_pkl/S1_54138969_WalkDog.pkl\n",
      "S1 WalkDog 54138969\n"
     ]
    },
    {
     "name": "stderr",
     "output_type": "stream",
     "text": [
      "  0%|          | 0/356 [00:00<?, ?it/s]IMAGEIO FFMPEG_WRITER WARNING: input image is not divisible by macro_block_size=16, resizing from (1500, 500) to (1504, 512) to ensure video compatibility with most codecs and players. To prevent resizing, make your input image divisible by the macro_block_size or set the macro_block_size to 1 (risking incompatibility).\n",
      "[swscaler @ 0x5c6a900] Warning: data is not aligned! This can lead to a speed loss\n",
      "100%|██████████| 356/356 [00:21<00:00, 16.92it/s]\n"
     ]
    },
    {
     "name": "stdout",
     "output_type": "stream",
     "text": [
      "/home/hrai/codes/MotionBERT/data/motion3d/h36m_gt_pkl/S9_54138969_Eating.pkl\n",
      "S9 Eating 54138969\n",
      "/home/hrai/codes/MotionBERT/data/motion3d/h36m_gt_pkl/S6_60457274_Eating 1.pkl\n",
      "S6 Eating 1 60457274\n",
      "/home/hrai/codes/MotionBERT/data/motion3d/h36m_gt_pkl/S8_55011271_WalkTogether 1.pkl\n",
      "S8 WalkTogether 1 55011271\n",
      "/home/hrai/codes/MotionBERT/data/motion3d/h36m_gt_pkl/S5_54138969_Sitting 1.pkl\n",
      "S5 Sitting 1 54138969\n",
      "/home/hrai/codes/MotionBERT/data/motion3d/h36m_gt_pkl/S8_58860488_Purchases 1.pkl\n",
      "S8 Purchases 1 58860488\n",
      "/home/hrai/codes/MotionBERT/data/motion3d/h36m_gt_pkl/S6_55011271_Directions.pkl\n",
      "S6 Directions 55011271\n",
      "/home/hrai/codes/MotionBERT/data/motion3d/h36m_gt_pkl/S7_58860488_Waiting 1.pkl\n",
      "S7 Waiting 1 58860488\n",
      "/home/hrai/codes/MotionBERT/data/motion3d/h36m_gt_pkl/S9_54138969_Walking 1.pkl\n",
      "S9 Walking 1 54138969\n",
      "/home/hrai/codes/MotionBERT/data/motion3d/h36m_gt_pkl/S9_60457274_Sitting.pkl\n",
      "S9 Sitting 60457274\n",
      "/home/hrai/codes/MotionBERT/data/motion3d/h36m_gt_pkl/S1_60457274_Directions 1.pkl\n",
      "S1 Directions 1 60457274\n"
     ]
    },
    {
     "name": "stderr",
     "output_type": "stream",
     "text": [
      "  0%|          | 0/277 [00:00<?, ?it/s]IMAGEIO FFMPEG_WRITER WARNING: input image is not divisible by macro_block_size=16, resizing from (1500, 500) to (1504, 512) to ensure video compatibility with most codecs and players. To prevent resizing, make your input image divisible by the macro_block_size or set the macro_block_size to 1 (risking incompatibility).\n",
      "[swscaler @ 0x7295900] Warning: data is not aligned! This can lead to a speed loss\n",
      "100%|██████████| 277/277 [00:16<00:00, 17.06it/s]\n"
     ]
    },
    {
     "name": "stdout",
     "output_type": "stream",
     "text": [
      "/home/hrai/codes/MotionBERT/data/motion3d/h36m_gt_pkl/S11_60457274_WalkTogether 1.pkl\n",
      "S11 WalkTogether 1 60457274\n",
      "/home/hrai/codes/MotionBERT/data/motion3d/h36m_gt_pkl/S6_54138969_Eating 2.pkl\n",
      "S6 Eating 2 54138969\n",
      "/home/hrai/codes/MotionBERT/data/motion3d/h36m_gt_pkl/S5_60457274_Phoning.pkl\n",
      "S5 Phoning 60457274\n",
      "/home/hrai/codes/MotionBERT/data/motion3d/h36m_gt_pkl/S6_55011271_Waiting.pkl\n",
      "S6 Waiting 55011271\n",
      "/home/hrai/codes/MotionBERT/data/motion3d/h36m_gt_pkl/S1_58860488_Greeting.pkl\n",
      "S1 Greeting 58860488\n"
     ]
    },
    {
     "name": "stderr",
     "output_type": "stream",
     "text": [
      "  0%|          | 0/230 [00:00<?, ?it/s]IMAGEIO FFMPEG_WRITER WARNING: input image is not divisible by macro_block_size=16, resizing from (1500, 500) to (1504, 512) to ensure video compatibility with most codecs and players. To prevent resizing, make your input image divisible by the macro_block_size or set the macro_block_size to 1 (risking incompatibility).\n",
      "[swscaler @ 0x6afe900] Warning: data is not aligned! This can lead to a speed loss\n",
      "100%|██████████| 230/230 [00:13<00:00, 16.92it/s]\n"
     ]
    },
    {
     "data": {
      "image/png": "[encoded data removed]",
      "text/plain": [
       "<Figure size 1500x500 with 3 Axes>"
      ]
     },
     "metadata": {},
     "output_type": "display_data"
    }
   ],
   "source": [
    "%matplotlib inline\n",
    "fig = plt.figure(1, figsize=(15, 5))\n",
    "fig.clear()\n",
    "axd = fig.subplot_mosaic(\n",
    "    \"\"\"\n",
    "    ABC\n",
    "    \"\"\",\n",
    "    per_subplot_kw={('C'): {'projection': '3d'}}\n",
    ")\n",
    "\n",
    "axA = axes_2d(ax=axd['A'], normalize=True, show_axis=False)\n",
    "axB = axes_2d(ax=axd['B'], normalize=True, show_axis=False)\n",
    "axC = axes_3d(ax=axd['C'], show_axis=False, view=(-90, -90))\n",
    "\n",
    "axA.set_title('Original')\n",
    "axB.set_title('Canonical (x2)')\n",
    "axC.set_title('Cam 3d (x2)')\n",
    "\n",
    "\n",
    "load_folder = '/home/hrai/codes/MotionBERT/data/motion3d/h36m_gt_pkl'\n",
    "\n",
    "subject_list = ['S1']\n",
    "\n",
    "sizeup = 2\n",
    "\n",
    "for item in glob(load_folder + '/*.pkl'):\n",
    "    print(item)\n",
    "    subject, camera_id, action = item.split('/')[-1].split('.')[0].split('_')\n",
    "    print(subject, action, camera_id)\n",
    "    if subject not in subject_list:\n",
    "        continue\n",
    "    data = readpkl(item)\n",
    "    \n",
    "    cam_param = data['cam_param'][0].reshape(1)[0].copy()\n",
    "    int_mat = cam_param['intrinsic']\n",
    "    ext_mat = cam_param['extrinsic']\n",
    "    cam_proj = int_mat @ ext_mat\n",
    "    R = ext_mat[:3, :3]\n",
    "    t = ext_mat[:3, 3]\n",
    "    C = T_to_C(R, t)\n",
    "    num_frames = len(data['world_3d'])\n",
    "    world_3d_list = np.array(data['world_3d']).copy() # (F, J, 3)\n",
    "    cam_3d_list = np.array(data['cam_3d']).copy()/1000 # (F, J, 3)\n",
    "    cam_3d_hat_list = get_rootrel_pose(cam_3d_list)\n",
    "    world_3d_from_canonical_3d_list = get_canonical_3d_same_z(world_3d_list, cam_3d_list, C, R)\n",
    "    \n",
    "    videowriter = imageio.get_writer(f'/home/hrai/codes/MotionBERT/custom_codes/Canonical/compare_input_type_{subject}_{action}_{camera_id}.mp4', fps=6)\n",
    "    for frame_num in tqdm(range(0, num_frames, 5)):\n",
    "        pos = world_3d_from_canonical_3d_list[frame_num].copy()\n",
    "        cam_3d_from_canonical_3d = World2CameraCoordinate(pos, cam_param['extrinsic']) \n",
    "        img_2d_from_canonical_3d = cam_3d_from_canonical_3d @ int_mat.T\n",
    "        img_2d_from_canonical_3d /= img_2d_from_canonical_3d[:, 2:]\n",
    "        img_2d = cam_3d_list[frame_num] @ int_mat.T\n",
    "        img_2d /= img_2d[:, 2:]\n",
    "        #img_2d_centered = img_2d - img_2d[0] + \n",
    "        \n",
    "        img_2d_norm = normalize_input(img_2d, 1000, 1000)\n",
    "        img_2d_centered_norm = img_2d_norm - img_2d_norm[0]\n",
    "        img_2d_from_canonical_3d_norm = normalize_input(img_2d_from_canonical_3d, 1000, 1000)\n",
    "        canonical_center = img_2d_from_canonical_3d_norm[0]\n",
    "        img_2d_from_canonical_3d_norm = img_2d_from_canonical_3d_norm - img_2d_from_canonical_3d_norm[0]\n",
    "        \n",
    "        clear_axes([axA, axB, axC])\n",
    "        draw_2d_pose(axA, img_2d_norm, normalize=True, color='k')\n",
    "        axA.axhline(0, 0, 1, color='k', linestyle='--', linewidth=0.5)\n",
    "        axA.axvline(0, 0, 1, color='k', linestyle='--', linewidth=0.5)\n",
    "        draw_2d_pose(axB, img_2d_centered_norm*sizeup, normalize=True, color='r', label='centered')\n",
    "        draw_2d_pose(axB, img_2d_from_canonical_3d_norm*sizeup, normalize=True, color='b', label='canonical 3d (same z)')\n",
    "        axB.plot(canonical_center[0]*sizeup, canonical_center[1]*sizeup, 'rx', markersize=5, label='canonical center')\n",
    "        axB.axhline(0, 0, 1, color='k', linestyle='--', linewidth=0.5)\n",
    "        axB.axvline(0, 0, 1, color='k', linestyle='--', linewidth=0.5)\n",
    "        draw_3d_pose(axC, cam_3d_hat_list[frame_num]*sizeup)\n",
    "        \n",
    "        handles, labels = axB.get_legend_handles_labels()\n",
    "        by_label = dict(zip(labels, handles))\n",
    "        leg = axB.legend(by_label.values(), by_label.keys())\n",
    "         \n",
    "        canvas = FigureCanvas(fig)\n",
    "        canvas.draw()\n",
    "        image_from_plot = np.array(canvas.renderer._renderer)\n",
    "        image_from_plot = cv2.cvtColor(image_from_plot, cv2.COLOR_RGB2BGR)       \n",
    "        videowriter.append_data(image_from_plot)\n",
    "        \n",
    "    videowriter.close()\n",
    "    #break"
   ]
  },
  {
   "cell_type": "code",
   "execution_count": 4,
   "metadata": {},
   "outputs": [
    {
     "name": "stdout",
     "output_type": "stream",
     "text": [
      "fit3d_gt_pkl\n"
     ]
    },
    {
     "name": "stderr",
     "output_type": "stream",
     "text": [
      "100%|██████████| 1504/1504 [00:00<00:00, 82551.21it/s]\n"
     ]
    },
    {
     "name": "stdout",
     "output_type": "stream",
     "text": [
      "/home/hrai/codes/MotionBERT/custom_codes/Canonical/compare_canonical/fit3d_gt_pkl/s11/compare_input_type_s11_side_lateral_raise_60457274.mp4 already exists\n",
      "/home/hrai/codes/MotionBERT/custom_codes/Canonical/compare_canonical/fit3d_gt_pkl/s07/compare_input_type_s07_barbell_shrug_60457274.mp4 already exists\n",
      "/home/hrai/codes/MotionBERT/custom_codes/Canonical/compare_canonical/fit3d_gt_pkl/s09/compare_input_type_s09_mule_kick_50591643.mp4 already exists\n",
      "/home/hrai/codes/MotionBERT/custom_codes/Canonical/compare_canonical/fit3d_gt_pkl/s08/compare_input_type_s08_warmup_5_65906101.mp4 already exists\n",
      "/home/hrai/codes/MotionBERT/custom_codes/Canonical/compare_canonical/fit3d_gt_pkl/s09/compare_input_type_s09_warmup_14_65906101.mp4 already exists\n",
      "/home/hrai/codes/MotionBERT/custom_codes/Canonical/compare_canonical/fit3d_gt_pkl/s07/compare_input_type_s07_warmup_6_50591643.mp4 already exists\n",
      "/home/hrai/codes/MotionBERT/custom_codes/Canonical/compare_canonical/fit3d_gt_pkl/s05/compare_input_type_s05_warmup_5_60457274.mp4 already exists\n",
      "/home/hrai/codes/MotionBERT/custom_codes/Canonical/compare_canonical/fit3d_gt_pkl/s11/compare_input_type_s11_dumbbell_reverse_lunge_58860488.mp4 already exists\n",
      "/home/hrai/codes/MotionBERT/custom_codes/Canonical/compare_canonical/fit3d_gt_pkl/s03/compare_input_type_s03_warmup_12_50591643.mp4 already exists\n",
      "/home/hrai/codes/MotionBERT/custom_codes/Canonical/compare_canonical/fit3d_gt_pkl/s11/compare_input_type_s11_w_raise_60457274.mp4 already exists\n",
      "/home/hrai/codes/MotionBERT/custom_codes/Canonical/compare_canonical/fit3d_gt_pkl/s09/compare_input_type_s09_dumbbell_scaptions_50591643.mp4 already exists\n",
      "/home/hrai/codes/MotionBERT/custom_codes/Canonical/compare_canonical/fit3d_gt_pkl/s10/compare_input_type_s10_warmup_5_58860488.mp4 already exists\n",
      "/home/hrai/codes/MotionBERT/custom_codes/Canonical/compare_canonical/fit3d_gt_pkl/s07/compare_input_type_s07_overhead_trap_raises_58860488.mp4 already exists\n",
      "/home/hrai/codes/MotionBERT/custom_codes/Canonical/compare_canonical/fit3d_gt_pkl/s09/compare_input_type_s09_w_raise_65906101.mp4 already exists\n",
      "/home/hrai/codes/MotionBERT/custom_codes/Canonical/compare_canonical/fit3d_gt_pkl/s03/compare_input_type_s03_burpees_65906101.mp4 already exists\n",
      "/home/hrai/codes/MotionBERT/custom_codes/Canonical/compare_canonical/fit3d_gt_pkl/s09/compare_input_type_s09_warmup_5_65906101.mp4 already exists\n",
      "/home/hrai/codes/MotionBERT/custom_codes/Canonical/compare_canonical/fit3d_gt_pkl/s11/compare_input_type_s11_warmup_8_65906101.mp4 already exists\n",
      "/home/hrai/codes/MotionBERT/custom_codes/Canonical/compare_canonical/fit3d_gt_pkl/s03/compare_input_type_s03_barbell_dead_row_60457274.mp4 already exists\n",
      "/home/hrai/codes/MotionBERT/custom_codes/Canonical/compare_canonical/fit3d_gt_pkl/s08/compare_input_type_s08_warmup_4_65906101.mp4 already exists\n",
      "/home/hrai/codes/MotionBERT/custom_codes/Canonical/compare_canonical/fit3d_gt_pkl/s03/compare_input_type_s03_warmup_17_65906101.mp4 already exists\n",
      "/home/hrai/codes/MotionBERT/custom_codes/Canonical/compare_canonical/fit3d_gt_pkl/s04/compare_input_type_s04_walk_the_box_50591643.mp4 already exists\n",
      "/home/hrai/codes/MotionBERT/custom_codes/Canonical/compare_canonical/fit3d_gt_pkl/s09/compare_input_type_s09_warmup_19_58860488.mp4 already exists\n",
      "/home/hrai/codes/MotionBERT/custom_codes/Canonical/compare_canonical/fit3d_gt_pkl/s11/compare_input_type_s11_dumbbell_reverse_lunge_60457274.mp4 already exists\n",
      "/home/hrai/codes/MotionBERT/custom_codes/Canonical/compare_canonical/fit3d_gt_pkl/s05/compare_input_type_s05_dumbbell_reverse_lunge_58860488.mp4 already exists\n",
      "/home/hrai/codes/MotionBERT/custom_codes/Canonical/compare_canonical/fit3d_gt_pkl/s04/compare_input_type_s04_dumbbell_overhead_shoulder_press_60457274.mp4 already exists\n",
      "/home/hrai/codes/MotionBERT/custom_codes/Canonical/compare_canonical/fit3d_gt_pkl/s11/compare_input_type_s11_man_maker_60457274.mp4 already exists\n",
      "/home/hrai/codes/MotionBERT/custom_codes/Canonical/compare_canonical/fit3d_gt_pkl/s08/compare_input_type_s08_walk_the_box_58860488.mp4 already exists\n",
      "/home/hrai/codes/MotionBERT/custom_codes/Canonical/compare_canonical/fit3d_gt_pkl/s03/compare_input_type_s03_deadlift_50591643.mp4 already exists\n",
      "/home/hrai/codes/MotionBERT/custom_codes/Canonical/compare_canonical/fit3d_gt_pkl/s04/compare_input_type_s04_barbell_shrug_50591643.mp4 already exists\n",
      "/home/hrai/codes/MotionBERT/custom_codes/Canonical/compare_canonical/fit3d_gt_pkl/s08/compare_input_type_s08_warmup_8_65906101.mp4 already exists\n",
      "/home/hrai/codes/MotionBERT/custom_codes/Canonical/compare_canonical/fit3d_gt_pkl/s11/compare_input_type_s11_warmup_10_50591643.mp4 already exists\n",
      "/home/hrai/codes/MotionBERT/custom_codes/Canonical/compare_canonical/fit3d_gt_pkl/s03/compare_input_type_s03_warmup_11_65906101.mp4 already exists\n",
      "/home/hrai/codes/MotionBERT/custom_codes/Canonical/compare_canonical/fit3d_gt_pkl/s11/compare_input_type_s11_warmup_3_58860488.mp4 already exists\n",
      "/home/hrai/codes/MotionBERT/custom_codes/Canonical/compare_canonical/fit3d_gt_pkl/s08/compare_input_type_s08_warmup_10_60457274.mp4 already exists\n",
      "/home/hrai/codes/MotionBERT/custom_codes/Canonical/compare_canonical/fit3d_gt_pkl/s04/compare_input_type_s04_warmup_17_60457274.mp4 already exists\n",
      "/home/hrai/codes/MotionBERT/custom_codes/Canonical/compare_canonical/fit3d_gt_pkl/s11/compare_input_type_s11_drag_curl_58860488.mp4 already exists\n",
      "/home/hrai/codes/MotionBERT/custom_codes/Canonical/compare_canonical/fit3d_gt_pkl/s07/compare_input_type_s07_overhead_extension_thruster_58860488.mp4 already exists\n",
      "/home/hrai/codes/MotionBERT/custom_codes/Canonical/compare_canonical/fit3d_gt_pkl/s04/compare_input_type_s04_warmup_9_58860488.mp4 already exists\n",
      "/home/hrai/codes/MotionBERT/custom_codes/Canonical/compare_canonical/fit3d_gt_pkl/s09/compare_input_type_s09_one_arm_row_65906101.mp4 already exists\n",
      "/home/hrai/codes/MotionBERT/custom_codes/Canonical/compare_canonical/fit3d_gt_pkl/s03/compare_input_type_s03_dumbbell_curl_trifecta_50591643.mp4 already exists\n",
      "/home/hrai/codes/MotionBERT/custom_codes/Canonical/compare_canonical/fit3d_gt_pkl/s05/compare_input_type_s05_dumbbell_biceps_curls_65906101.mp4 already exists\n",
      "/home/hrai/codes/MotionBERT/custom_codes/Canonical/compare_canonical/fit3d_gt_pkl/s03/compare_input_type_s03_standing_ab_twists_50591643.mp4 already exists\n",
      "/home/hrai/codes/MotionBERT/custom_codes/Canonical/compare_canonical/fit3d_gt_pkl/s11/compare_input_type_s11_side_lateral_raise_65906101.mp4 already exists\n",
      "/home/hrai/codes/MotionBERT/custom_codes/Canonical/compare_canonical/fit3d_gt_pkl/s10/compare_input_type_s10_warmup_19_60457274.mp4 already exists\n",
      "/home/hrai/codes/MotionBERT/custom_codes/Canonical/compare_canonical/fit3d_gt_pkl/s03/compare_input_type_s03_side_lateral_raise_60457274.mp4 already exists\n",
      "/home/hrai/codes/MotionBERT/custom_codes/Canonical/compare_canonical/fit3d_gt_pkl/s07/compare_input_type_s07_walk_the_box_58860488.mp4 already exists\n",
      "/home/hrai/codes/MotionBERT/custom_codes/Canonical/compare_canonical/fit3d_gt_pkl/s10/compare_input_type_s10_barbell_shrug_60457274.mp4 already exists\n",
      "/home/hrai/codes/MotionBERT/custom_codes/Canonical/compare_canonical/fit3d_gt_pkl/s04/compare_input_type_s04_dumbbell_high_pulls_65906101.mp4 already exists\n",
      "/home/hrai/codes/MotionBERT/custom_codes/Canonical/compare_canonical/fit3d_gt_pkl/s11/compare_input_type_s11_dumbbell_hammer_curls_60457274.mp4 already exists\n",
      "/home/hrai/codes/MotionBERT/custom_codes/Canonical/compare_canonical/fit3d_gt_pkl/s04/compare_input_type_s04_warmup_3_65906101.mp4 already exists\n",
      "/home/hrai/codes/MotionBERT/custom_codes/Canonical/compare_canonical/fit3d_gt_pkl/s07/compare_input_type_s07_warmup_4_60457274.mp4 already exists\n",
      "/home/hrai/codes/MotionBERT/custom_codes/Canonical/compare_canonical/fit3d_gt_pkl/s10/compare_input_type_s10_warmup_5_60457274.mp4 already exists\n",
      "/home/hrai/codes/MotionBERT/custom_codes/Canonical/compare_canonical/fit3d_gt_pkl/s11/compare_input_type_s11_warmup_15_65906101.mp4 already exists\n",
      "/home/hrai/codes/MotionBERT/custom_codes/Canonical/compare_canonical/fit3d_gt_pkl/s05/compare_input_type_s05_burpees_60457274.mp4 already exists\n",
      "/home/hrai/codes/MotionBERT/custom_codes/Canonical/compare_canonical/fit3d_gt_pkl/s08/compare_input_type_s08_warmup_8_58860488.mp4 already exists\n",
      "/home/hrai/codes/MotionBERT/custom_codes/Canonical/compare_canonical/fit3d_gt_pkl/s05/compare_input_type_s05_warmup_2_58860488.mp4 already exists\n",
      "/home/hrai/codes/MotionBERT/custom_codes/Canonical/compare_canonical/fit3d_gt_pkl/s10/compare_input_type_s10_overhead_trap_raises_65906101.mp4 already exists\n",
      "/home/hrai/codes/MotionBERT/custom_codes/Canonical/compare_canonical/fit3d_gt_pkl/s07/compare_input_type_s07_warmup_3_50591643.mp4 already exists\n",
      "/home/hrai/codes/MotionBERT/custom_codes/Canonical/compare_canonical/fit3d_gt_pkl/s10/compare_input_type_s10_warmup_4_65906101.mp4 already exists\n",
      "/home/hrai/codes/MotionBERT/custom_codes/Canonical/compare_canonical/fit3d_gt_pkl/s08/compare_input_type_s08_warmup_16_60457274.mp4 already exists\n",
      "/home/hrai/codes/MotionBERT/custom_codes/Canonical/compare_canonical/fit3d_gt_pkl/s10/compare_input_type_s10_drag_curl_50591643.mp4 already exists\n",
      "/home/hrai/codes/MotionBERT/custom_codes/Canonical/compare_canonical/fit3d_gt_pkl/s08/compare_input_type_s08_dumbbell_curl_trifecta_65906101.mp4 already exists\n",
      "/home/hrai/codes/MotionBERT/custom_codes/Canonical/compare_canonical/fit3d_gt_pkl/s04/compare_input_type_s04_warmup_7_60457274.mp4 already exists\n",
      "/home/hrai/codes/MotionBERT/custom_codes/Canonical/compare_canonical/fit3d_gt_pkl/s09/compare_input_type_s09_squat_58860488.mp4 already exists\n",
      "/home/hrai/codes/MotionBERT/custom_codes/Canonical/compare_canonical/fit3d_gt_pkl/s03/compare_input_type_s03_warmup_9_65906101.mp4 already exists\n",
      "/home/hrai/codes/MotionBERT/custom_codes/Canonical/compare_canonical/fit3d_gt_pkl/s05/compare_input_type_s05_warmup_18_65906101.mp4 already exists\n",
      "/home/hrai/codes/MotionBERT/custom_codes/Canonical/compare_canonical/fit3d_gt_pkl/s08/compare_input_type_s08_warmup_4_58860488.mp4 already exists\n",
      "/home/hrai/codes/MotionBERT/custom_codes/Canonical/compare_canonical/fit3d_gt_pkl/s05/compare_input_type_s05_warmup_3_58860488.mp4 already exists\n",
      "/home/hrai/codes/MotionBERT/custom_codes/Canonical/compare_canonical/fit3d_gt_pkl/s04/compare_input_type_s04_warmup_4_65906101.mp4 already exists\n",
      "/home/hrai/codes/MotionBERT/custom_codes/Canonical/compare_canonical/fit3d_gt_pkl/s08/compare_input_type_s08_standing_ab_twists_65906101.mp4 already exists\n",
      "/home/hrai/codes/MotionBERT/custom_codes/Canonical/compare_canonical/fit3d_gt_pkl/s08/compare_input_type_s08_dumbbell_curl_trifecta_50591643.mp4 already exists\n",
      "/home/hrai/codes/MotionBERT/custom_codes/Canonical/compare_canonical/fit3d_gt_pkl/s04/compare_input_type_s04_dumbbell_biceps_curls_50591643.mp4 already exists\n",
      "/home/hrai/codes/MotionBERT/custom_codes/Canonical/compare_canonical/fit3d_gt_pkl/s04/compare_input_type_s04_dumbbell_hammer_curls_60457274.mp4 already exists\n",
      "/home/hrai/codes/MotionBERT/custom_codes/Canonical/compare_canonical/fit3d_gt_pkl/s11/compare_input_type_s11_warmup_17_58860488.mp4 already exists\n",
      "/home/hrai/codes/MotionBERT/custom_codes/Canonical/compare_canonical/fit3d_gt_pkl/s11/compare_input_type_s11_warmup_16_58860488.mp4 already exists\n",
      "/home/hrai/codes/MotionBERT/custom_codes/Canonical/compare_canonical/fit3d_gt_pkl/s05/compare_input_type_s05_dumbbell_biceps_curls_50591643.mp4 already exists\n",
      "/home/hrai/codes/MotionBERT/custom_codes/Canonical/compare_canonical/fit3d_gt_pkl/s11/compare_input_type_s11_dumbbell_hammer_curls_58860488.mp4 already exists\n",
      "/home/hrai/codes/MotionBERT/custom_codes/Canonical/compare_canonical/fit3d_gt_pkl/s03/compare_input_type_s03_burpees_60457274.mp4 already exists\n",
      "/home/hrai/codes/MotionBERT/custom_codes/Canonical/compare_canonical/fit3d_gt_pkl/s07/compare_input_type_s07_warmup_5_60457274.mp4 already exists\n",
      "/home/hrai/codes/MotionBERT/custom_codes/Canonical/compare_canonical/fit3d_gt_pkl/s08/compare_input_type_s08_warmup_1_65906101.mp4 already exists\n",
      "/home/hrai/codes/MotionBERT/custom_codes/Canonical/compare_canonical/fit3d_gt_pkl/s04/compare_input_type_s04_warmup_18_60457274.mp4 already exists\n",
      "/home/hrai/codes/MotionBERT/custom_codes/Canonical/compare_canonical/fit3d_gt_pkl/s04/compare_input_type_s04_warmup_17_65906101.mp4 already exists\n",
      "/home/hrai/codes/MotionBERT/custom_codes/Canonical/compare_canonical/fit3d_gt_pkl/s05/compare_input_type_s05_warmup_6_50591643.mp4 already exists\n",
      "/home/hrai/codes/MotionBERT/custom_codes/Canonical/compare_canonical/fit3d_gt_pkl/s07/compare_input_type_s07_warmup_1_65906101.mp4 already exists\n",
      "/home/hrai/codes/MotionBERT/custom_codes/Canonical/compare_canonical/fit3d_gt_pkl/s05/compare_input_type_s05_warmup_2_60457274.mp4 already exists\n",
      "/home/hrai/codes/MotionBERT/custom_codes/Canonical/compare_canonical/fit3d_gt_pkl/s03/compare_input_type_s03_warmup_13_60457274.mp4 already exists\n",
      "/home/hrai/codes/MotionBERT/custom_codes/Canonical/compare_canonical/fit3d_gt_pkl/s11/compare_input_type_s11_standing_ab_twists_65906101.mp4 already exists\n",
      "/home/hrai/codes/MotionBERT/custom_codes/Canonical/compare_canonical/fit3d_gt_pkl/s03/compare_input_type_s03_barbell_row_50591643.mp4 already exists\n",
      "/home/hrai/codes/MotionBERT/custom_codes/Canonical/compare_canonical/fit3d_gt_pkl/s04/compare_input_type_s04_warmup_15_50591643.mp4 already exists\n",
      "/home/hrai/codes/MotionBERT/custom_codes/Canonical/compare_canonical/fit3d_gt_pkl/s03/compare_input_type_s03_w_raise_50591643.mp4 already exists\n",
      "/home/hrai/codes/MotionBERT/custom_codes/Canonical/compare_canonical/fit3d_gt_pkl/s07/compare_input_type_s07_clean_and_press_58860488.mp4 already exists\n",
      "/home/hrai/codes/MotionBERT/custom_codes/Canonical/compare_canonical/fit3d_gt_pkl/s08/compare_input_type_s08_clean_and_press_58860488.mp4 already exists\n",
      "/home/hrai/codes/MotionBERT/custom_codes/Canonical/compare_canonical/fit3d_gt_pkl/s09/compare_input_type_s09_warmup_9_65906101.mp4 already exists\n",
      "/home/hrai/codes/MotionBERT/custom_codes/Canonical/compare_canonical/fit3d_gt_pkl/s07/compare_input_type_s07_dumbbell_biceps_curls_58860488.mp4 already exists\n",
      "/home/hrai/codes/MotionBERT/custom_codes/Canonical/compare_canonical/fit3d_gt_pkl/s07/compare_input_type_s07_deadlift_60457274.mp4 already exists\n",
      "/home/hrai/codes/MotionBERT/custom_codes/Canonical/compare_canonical/fit3d_gt_pkl/s05/compare_input_type_s05_side_lateral_raise_60457274.mp4 already exists\n",
      "/home/hrai/codes/MotionBERT/custom_codes/Canonical/compare_canonical/fit3d_gt_pkl/s11/compare_input_type_s11_deadlift_65906101.mp4 already exists\n",
      "/home/hrai/codes/MotionBERT/custom_codes/Canonical/compare_canonical/fit3d_gt_pkl/s09/compare_input_type_s09_warmup_10_65906101.mp4 already exists\n",
      "/home/hrai/codes/MotionBERT/custom_codes/Canonical/compare_canonical/fit3d_gt_pkl/s09/compare_input_type_s09_dumbbell_overhead_shoulder_press_65906101.mp4 already exists\n",
      "/home/hrai/codes/MotionBERT/custom_codes/Canonical/compare_canonical/fit3d_gt_pkl/s09/compare_input_type_s09_warmup_18_60457274.mp4 already exists\n",
      "/home/hrai/codes/MotionBERT/custom_codes/Canonical/compare_canonical/fit3d_gt_pkl/s09/compare_input_type_s09_barbell_dead_row_58860488.mp4 already exists\n",
      "/home/hrai/codes/MotionBERT/custom_codes/Canonical/compare_canonical/fit3d_gt_pkl/s09/compare_input_type_s09_dumbbell_reverse_lunge_65906101.mp4 already exists\n",
      "/home/hrai/codes/MotionBERT/custom_codes/Canonical/compare_canonical/fit3d_gt_pkl/s11/compare_input_type_s11_warmup_9_65906101.mp4 already exists\n",
      "/home/hrai/codes/MotionBERT/custom_codes/Canonical/compare_canonical/fit3d_gt_pkl/s09/compare_input_type_s09_warmup_9_50591643.mp4 already exists\n",
      "/home/hrai/codes/MotionBERT/custom_codes/Canonical/compare_canonical/fit3d_gt_pkl/s08/compare_input_type_s08_dumbbell_high_pulls_60457274.mp4 already exists\n",
      "/home/hrai/codes/MotionBERT/custom_codes/Canonical/compare_canonical/fit3d_gt_pkl/s09/compare_input_type_s09_warmup_13_58860488.mp4 already exists\n",
      "/home/hrai/codes/MotionBERT/custom_codes/Canonical/compare_canonical/fit3d_gt_pkl/s03/compare_input_type_s03_dumbbell_biceps_curls_50591643.mp4 already exists\n",
      "/home/hrai/codes/MotionBERT/custom_codes/Canonical/compare_canonical/fit3d_gt_pkl/s07/compare_input_type_s07_band_pull_apart_58860488.mp4 already exists\n",
      "/home/hrai/codes/MotionBERT/custom_codes/Canonical/compare_canonical/fit3d_gt_pkl/s05/compare_input_type_s05_warmup_2_65906101.mp4 already exists\n",
      "/home/hrai/codes/MotionBERT/custom_codes/Canonical/compare_canonical/fit3d_gt_pkl/s04/compare_input_type_s04_standing_ab_twists_50591643.mp4 already exists\n",
      "/home/hrai/codes/MotionBERT/custom_codes/Canonical/compare_canonical/fit3d_gt_pkl/s05/compare_input_type_s05_warmup_9_65906101.mp4 already exists\n",
      "/home/hrai/codes/MotionBERT/custom_codes/Canonical/compare_canonical/fit3d_gt_pkl/s11/compare_input_type_s11_dumbbell_overhead_shoulder_press_58860488.mp4 already exists\n",
      "/home/hrai/codes/MotionBERT/custom_codes/Canonical/compare_canonical/fit3d_gt_pkl/s09/compare_input_type_s09_dumbbell_curl_trifecta_65906101.mp4 already exists\n",
      "/home/hrai/codes/MotionBERT/custom_codes/Canonical/compare_canonical/fit3d_gt_pkl/s07/compare_input_type_s07_warmup_12_58860488.mp4 already exists\n",
      "/home/hrai/codes/MotionBERT/custom_codes/Canonical/compare_canonical/fit3d_gt_pkl/s09/compare_input_type_s09_walk_the_box_58860488.mp4 already exists\n",
      "/home/hrai/codes/MotionBERT/custom_codes/Canonical/compare_canonical/fit3d_gt_pkl/s05/compare_input_type_s05_warmup_4_58860488.mp4 already exists\n",
      "/home/hrai/codes/MotionBERT/custom_codes/Canonical/compare_canonical/fit3d_gt_pkl/s04/compare_input_type_s04_man_maker_50591643.mp4 already exists\n",
      "/home/hrai/codes/MotionBERT/custom_codes/Canonical/compare_canonical/fit3d_gt_pkl/s05/compare_input_type_s05_warmup_1_58860488.mp4 already exists\n",
      "/home/hrai/codes/MotionBERT/custom_codes/Canonical/compare_canonical/fit3d_gt_pkl/s11/compare_input_type_s11_barbell_shrug_60457274.mp4 already exists\n",
      "/home/hrai/codes/MotionBERT/custom_codes/Canonical/compare_canonical/fit3d_gt_pkl/s05/compare_input_type_s05_dumbbell_hammer_curls_58860488.mp4 already exists\n",
      "/home/hrai/codes/MotionBERT/custom_codes/Canonical/compare_canonical/fit3d_gt_pkl/s09/compare_input_type_s09_deadlift_60457274.mp4 already exists\n",
      "/home/hrai/codes/MotionBERT/custom_codes/Canonical/compare_canonical/fit3d_gt_pkl/s07/compare_input_type_s07_warmup_17_58860488.mp4 already exists\n",
      "/home/hrai/codes/MotionBERT/custom_codes/Canonical/compare_canonical/fit3d_gt_pkl/s04/compare_input_type_s04_warmup_14_58860488.mp4 already exists\n",
      "/home/hrai/codes/MotionBERT/custom_codes/Canonical/compare_canonical/fit3d_gt_pkl/s05/compare_input_type_s05_warmup_14_65906101.mp4 already exists\n",
      "/home/hrai/codes/MotionBERT/custom_codes/Canonical/compare_canonical/fit3d_gt_pkl/s05/compare_input_type_s05_diamond_pushup_50591643.mp4 already exists\n",
      "/home/hrai/codes/MotionBERT/custom_codes/Canonical/compare_canonical/fit3d_gt_pkl/s11/compare_input_type_s11_burpees_50591643.mp4 already exists\n",
      "/home/hrai/codes/MotionBERT/custom_codes/Canonical/compare_canonical/fit3d_gt_pkl/s07/compare_input_type_s07_dumbbell_scaptions_65906101.mp4 already exists\n",
      "/home/hrai/codes/MotionBERT/custom_codes/Canonical/compare_canonical/fit3d_gt_pkl/s05/compare_input_type_s05_warmup_18_60457274.mp4 already exists\n",
      "/home/hrai/codes/MotionBERT/custom_codes/Canonical/compare_canonical/fit3d_gt_pkl/s07/compare_input_type_s07_warmup_9_60457274.mp4 already exists\n",
      "/home/hrai/codes/MotionBERT/custom_codes/Canonical/compare_canonical/fit3d_gt_pkl/s07/compare_input_type_s07_barbell_row_60457274.mp4 already exists\n",
      "/home/hrai/codes/MotionBERT/custom_codes/Canonical/compare_canonical/fit3d_gt_pkl/s07/compare_input_type_s07_diamond_pushup_60457274.mp4 already exists\n",
      "/home/hrai/codes/MotionBERT/custom_codes/Canonical/compare_canonical/fit3d_gt_pkl/s10/compare_input_type_s10_warmup_12_50591643.mp4 already exists\n",
      "/home/hrai/codes/MotionBERT/custom_codes/Canonical/compare_canonical/fit3d_gt_pkl/s03/compare_input_type_s03_pushup_60457274.mp4 already exists\n",
      "/home/hrai/codes/MotionBERT/custom_codes/Canonical/compare_canonical/fit3d_gt_pkl/s04/compare_input_type_s04_pushup_58860488.mp4 already exists\n",
      "/home/hrai/codes/MotionBERT/custom_codes/Canonical/compare_canonical/fit3d_gt_pkl/s04/compare_input_type_s04_burpees_65906101.mp4 already exists\n",
      "/home/hrai/codes/MotionBERT/custom_codes/Canonical/compare_canonical/fit3d_gt_pkl/s10/compare_input_type_s10_warmup_3_58860488.mp4 already exists\n",
      "/home/hrai/codes/MotionBERT/custom_codes/Canonical/compare_canonical/fit3d_gt_pkl/s03/compare_input_type_s03_dumbbell_hammer_curls_58860488.mp4 already exists\n",
      "/home/hrai/codes/MotionBERT/custom_codes/Canonical/compare_canonical/fit3d_gt_pkl/s08/compare_input_type_s08_overhead_extension_thruster_65906101.mp4 already exists\n",
      "/home/hrai/codes/MotionBERT/custom_codes/Canonical/compare_canonical/fit3d_gt_pkl/s10/compare_input_type_s10_overhead_extension_thruster_65906101.mp4 already exists\n",
      "/home/hrai/codes/MotionBERT/custom_codes/Canonical/compare_canonical/fit3d_gt_pkl/s04/compare_input_type_s04_w_raise_65906101.mp4 already exists\n",
      "/home/hrai/codes/MotionBERT/custom_codes/Canonical/compare_canonical/fit3d_gt_pkl/s04/compare_input_type_s04_neutral_overhead_shoulder_press_50591643.mp4 already exists\n",
      "/home/hrai/codes/MotionBERT/custom_codes/Canonical/compare_canonical/fit3d_gt_pkl/s04/compare_input_type_s04_overhead_trap_raises_50591643.mp4 already exists\n",
      "/home/hrai/codes/MotionBERT/custom_codes/Canonical/compare_canonical/fit3d_gt_pkl/s08/compare_input_type_s08_warmup_4_60457274.mp4 already exists\n",
      "/home/hrai/codes/MotionBERT/custom_codes/Canonical/compare_canonical/fit3d_gt_pkl/s04/compare_input_type_s04_warmup_14_60457274.mp4 already exists\n",
      "/home/hrai/codes/MotionBERT/custom_codes/Canonical/compare_canonical/fit3d_gt_pkl/s04/compare_input_type_s04_clean_and_press_58860488.mp4 already exists\n",
      "/home/hrai/codes/MotionBERT/custom_codes/Canonical/compare_canonical/fit3d_gt_pkl/s10/compare_input_type_s10_mule_kick_60457274.mp4 already exists\n",
      "/home/hrai/codes/MotionBERT/custom_codes/Canonical/compare_canonical/fit3d_gt_pkl/s03/compare_input_type_s03_side_lateral_raise_58860488.mp4 already exists\n",
      "/home/hrai/codes/MotionBERT/custom_codes/Canonical/compare_canonical/fit3d_gt_pkl/s10/compare_input_type_s10_warmup_5_50591643.mp4 already exists\n",
      "/home/hrai/codes/MotionBERT/custom_codes/Canonical/compare_canonical/fit3d_gt_pkl/s07/compare_input_type_s07_pushup_50591643.mp4 already exists\n",
      "/home/hrai/codes/MotionBERT/custom_codes/Canonical/compare_canonical/fit3d_gt_pkl/s07/compare_input_type_s07_dumbbell_hammer_curls_50591643.mp4 already exists\n",
      "/home/hrai/codes/MotionBERT/custom_codes/Canonical/compare_canonical/fit3d_gt_pkl/s03/compare_input_type_s03_warmup_15_60457274.mp4 already exists\n",
      "/home/hrai/codes/MotionBERT/custom_codes/Canonical/compare_canonical/fit3d_gt_pkl/s05/compare_input_type_s05_overhead_extension_thruster_50591643.mp4 already exists\n",
      "/home/hrai/codes/MotionBERT/custom_codes/Canonical/compare_canonical/fit3d_gt_pkl/s08/compare_input_type_s08_warmup_18_65906101.mp4 already exists\n",
      "/home/hrai/codes/MotionBERT/custom_codes/Canonical/compare_canonical/fit3d_gt_pkl/s05/compare_input_type_s05_warmup_13_58860488.mp4 already exists\n",
      "/home/hrai/codes/MotionBERT/custom_codes/Canonical/compare_canonical/fit3d_gt_pkl/s09/compare_input_type_s09_warmup_19_60457274.mp4 already exists\n",
      "/home/hrai/codes/MotionBERT/custom_codes/Canonical/compare_canonical/fit3d_gt_pkl/s10/compare_input_type_s10_barbell_shrug_58860488.mp4 already exists\n",
      "/home/hrai/codes/MotionBERT/custom_codes/Canonical/compare_canonical/fit3d_gt_pkl/s09/compare_input_type_s09_warmup_9_60457274.mp4 already exists\n",
      "/home/hrai/codes/MotionBERT/custom_codes/Canonical/compare_canonical/fit3d_gt_pkl/s11/compare_input_type_s11_warmup_12_58860488.mp4 already exists\n",
      "/home/hrai/codes/MotionBERT/custom_codes/Canonical/compare_canonical/fit3d_gt_pkl/s04/compare_input_type_s04_dumbbell_reverse_lunge_50591643.mp4 already exists\n",
      "/home/hrai/codes/MotionBERT/custom_codes/Canonical/compare_canonical/fit3d_gt_pkl/s03/compare_input_type_s03_warmup_10_65906101.mp4 already exists\n",
      "/home/hrai/codes/MotionBERT/custom_codes/Canonical/compare_canonical/fit3d_gt_pkl/s10/compare_input_type_s10_warmup_3_50591643.mp4 already exists\n",
      "/home/hrai/codes/MotionBERT/custom_codes/Canonical/compare_canonical/fit3d_gt_pkl/s03/compare_input_type_s03_warmup_16_58860488.mp4 already exists\n",
      "/home/hrai/codes/MotionBERT/custom_codes/Canonical/compare_canonical/fit3d_gt_pkl/s05/compare_input_type_s05_warmup_10_65906101.mp4 already exists\n",
      "/home/hrai/codes/MotionBERT/custom_codes/Canonical/compare_canonical/fit3d_gt_pkl/s11/compare_input_type_s11_warmup_7_58860488.mp4 already exists\n",
      "/home/hrai/codes/MotionBERT/custom_codes/Canonical/compare_canonical/fit3d_gt_pkl/s07/compare_input_type_s07_warmup_8_50591643.mp4 already exists\n",
      "/home/hrai/codes/MotionBERT/custom_codes/Canonical/compare_canonical/fit3d_gt_pkl/s07/compare_input_type_s07_dumbbell_reverse_lunge_65906101.mp4 already exists\n",
      "/home/hrai/codes/MotionBERT/custom_codes/Canonical/compare_canonical/fit3d_gt_pkl/s08/compare_input_type_s08_overhead_trap_raises_58860488.mp4 already exists\n",
      "/home/hrai/codes/MotionBERT/custom_codes/Canonical/compare_canonical/fit3d_gt_pkl/s07/compare_input_type_s07_overhead_extension_thruster_60457274.mp4 already exists\n",
      "/home/hrai/codes/MotionBERT/custom_codes/Canonical/compare_canonical/fit3d_gt_pkl/s10/compare_input_type_s10_squat_65906101.mp4 already exists\n",
      "/home/hrai/codes/MotionBERT/custom_codes/Canonical/compare_canonical/fit3d_gt_pkl/s07/compare_input_type_s07_neutral_overhead_shoulder_press_58860488.mp4 already exists\n",
      "/home/hrai/codes/MotionBERT/custom_codes/Canonical/compare_canonical/fit3d_gt_pkl/s11/compare_input_type_s11_dumbbell_overhead_shoulder_press_50591643.mp4 already exists\n",
      "/home/hrai/codes/MotionBERT/custom_codes/Canonical/compare_canonical/fit3d_gt_pkl/s11/compare_input_type_s11_barbell_dead_row_50591643.mp4 already exists\n",
      "/home/hrai/codes/MotionBERT/custom_codes/Canonical/compare_canonical/fit3d_gt_pkl/s09/compare_input_type_s09_overhead_trap_raises_65906101.mp4 already exists\n",
      "/home/hrai/codes/MotionBERT/custom_codes/Canonical/compare_canonical/fit3d_gt_pkl/s03/compare_input_type_s03_warmup_1_65906101.mp4 already exists\n",
      "/home/hrai/codes/MotionBERT/custom_codes/Canonical/compare_canonical/fit3d_gt_pkl/s07/compare_input_type_s07_dumbbell_scaptions_50591643.mp4 already exists\n",
      "/home/hrai/codes/MotionBERT/custom_codes/Canonical/compare_canonical/fit3d_gt_pkl/s04/compare_input_type_s04_warmup_11_60457274.mp4 already exists\n",
      "/home/hrai/codes/MotionBERT/custom_codes/Canonical/compare_canonical/fit3d_gt_pkl/s05/compare_input_type_s05_pushup_50591643.mp4 already exists\n",
      "/home/hrai/codes/MotionBERT/custom_codes/Canonical/compare_canonical/fit3d_gt_pkl/s03/compare_input_type_s03_diamond_pushup_58860488.mp4 already exists\n",
      "/home/hrai/codes/MotionBERT/custom_codes/Canonical/compare_canonical/fit3d_gt_pkl/s05/compare_input_type_s05_neutral_overhead_shoulder_press_60457274.mp4 already exists\n",
      "/home/hrai/codes/MotionBERT/custom_codes/Canonical/compare_canonical/fit3d_gt_pkl/s10/compare_input_type_s10_warmup_18_50591643.mp4 already exists\n",
      "/home/hrai/codes/MotionBERT/custom_codes/Canonical/compare_canonical/fit3d_gt_pkl/s04/compare_input_type_s04_dumbbell_curl_trifecta_65906101.mp4 already exists\n",
      "/home/hrai/codes/MotionBERT/custom_codes/Canonical/compare_canonical/fit3d_gt_pkl/s05/compare_input_type_s05_warmup_12_58860488.mp4 already exists\n",
      "/home/hrai/codes/MotionBERT/custom_codes/Canonical/compare_canonical/fit3d_gt_pkl/s11/compare_input_type_s11_dumbbell_high_pulls_50591643.mp4 already exists\n",
      "/home/hrai/codes/MotionBERT/custom_codes/Canonical/compare_canonical/fit3d_gt_pkl/s07/compare_input_type_s07_warmup_2_58860488.mp4 already exists\n",
      "/home/hrai/codes/MotionBERT/custom_codes/Canonical/compare_canonical/fit3d_gt_pkl/s04/compare_input_type_s04_warmup_2_58860488.mp4 already exists\n",
      "/home/hrai/codes/MotionBERT/custom_codes/Canonical/compare_canonical/fit3d_gt_pkl/s04/compare_input_type_s04_drag_curl_58860488.mp4 already exists\n",
      "/home/hrai/codes/MotionBERT/custom_codes/Canonical/compare_canonical/fit3d_gt_pkl/s10/compare_input_type_s10_dumbbell_scaptions_50591643.mp4 already exists\n",
      "/home/hrai/codes/MotionBERT/custom_codes/Canonical/compare_canonical/fit3d_gt_pkl/s05/compare_input_type_s05_neutral_overhead_shoulder_press_65906101.mp4 already exists\n",
      "/home/hrai/codes/MotionBERT/custom_codes/Canonical/compare_canonical/fit3d_gt_pkl/s10/compare_input_type_s10_barbell_row_60457274.mp4 already exists\n",
      "/home/hrai/codes/MotionBERT/custom_codes/Canonical/compare_canonical/fit3d_gt_pkl/s04/compare_input_type_s04_burpees_60457274.mp4 already exists\n",
      "/home/hrai/codes/MotionBERT/custom_codes/Canonical/compare_canonical/fit3d_gt_pkl/s03/compare_input_type_s03_barbell_dead_row_50591643.mp4 already exists\n",
      "/home/hrai/codes/MotionBERT/custom_codes/Canonical/compare_canonical/fit3d_gt_pkl/s08/compare_input_type_s08_dumbbell_overhead_shoulder_press_58860488.mp4 already exists\n",
      "/home/hrai/codes/MotionBERT/custom_codes/Canonical/compare_canonical/fit3d_gt_pkl/s05/compare_input_type_s05_barbell_shrug_50591643.mp4 already exists\n",
      "/home/hrai/codes/MotionBERT/custom_codes/Canonical/compare_canonical/fit3d_gt_pkl/s05/compare_input_type_s05_one_arm_row_58860488.mp4 already exists\n",
      "/home/hrai/codes/MotionBERT/custom_codes/Canonical/compare_canonical/fit3d_gt_pkl/s11/compare_input_type_s11_dumbbell_high_pulls_65906101.mp4 already exists\n",
      "/home/hrai/codes/MotionBERT/custom_codes/Canonical/compare_canonical/fit3d_gt_pkl/s10/compare_input_type_s10_overhead_trap_raises_58860488.mp4 already exists\n",
      "/home/hrai/codes/MotionBERT/custom_codes/Canonical/compare_canonical/fit3d_gt_pkl/s04/compare_input_type_s04_warmup_1_60457274.mp4 already exists\n",
      "/home/hrai/codes/MotionBERT/custom_codes/Canonical/compare_canonical/fit3d_gt_pkl/s11/compare_input_type_s11_band_pull_apart_50591643.mp4 already exists\n",
      "/home/hrai/codes/MotionBERT/custom_codes/Canonical/compare_canonical/fit3d_gt_pkl/s07/compare_input_type_s07_barbell_shrug_50591643.mp4 already exists\n",
      "/home/hrai/codes/MotionBERT/custom_codes/Canonical/compare_canonical/fit3d_gt_pkl/s03/compare_input_type_s03_warmup_13_50591643.mp4 already exists\n",
      "/home/hrai/codes/MotionBERT/custom_codes/Canonical/compare_canonical/fit3d_gt_pkl/s04/compare_input_type_s04_side_lateral_raise_60457274.mp4 already exists\n",
      "/home/hrai/codes/MotionBERT/custom_codes/Canonical/compare_canonical/fit3d_gt_pkl/s11/compare_input_type_s11_band_pull_apart_58860488.mp4 already exists\n",
      "/home/hrai/codes/MotionBERT/custom_codes/Canonical/compare_canonical/fit3d_gt_pkl/s03/compare_input_type_s03_warmup_5_58860488.mp4 already exists\n",
      "/home/hrai/codes/MotionBERT/custom_codes/Canonical/compare_canonical/fit3d_gt_pkl/s10/compare_input_type_s10_barbell_row_50591643.mp4 already exists\n",
      "/home/hrai/codes/MotionBERT/custom_codes/Canonical/compare_canonical/fit3d_gt_pkl/s05/compare_input_type_s05_warmup_11_50591643.mp4 already exists\n",
      "/home/hrai/codes/MotionBERT/custom_codes/Canonical/compare_canonical/fit3d_gt_pkl/s04/compare_input_type_s04_one_arm_row_50591643.mp4 already exists\n",
      "/home/hrai/codes/MotionBERT/custom_codes/Canonical/compare_canonical/fit3d_gt_pkl/s08/compare_input_type_s08_diamond_pushup_58860488.mp4 already exists\n",
      "/home/hrai/codes/MotionBERT/custom_codes/Canonical/compare_canonical/fit3d_gt_pkl/s10/compare_input_type_s10_warmup_1_60457274.mp4 already exists\n",
      "/home/hrai/codes/MotionBERT/custom_codes/Canonical/compare_canonical/fit3d_gt_pkl/s09/compare_input_type_s09_barbell_row_50591643.mp4 already exists\n",
      "/home/hrai/codes/MotionBERT/custom_codes/Canonical/compare_canonical/fit3d_gt_pkl/s04/compare_input_type_s04_barbell_shrug_58860488.mp4 already exists\n",
      "/home/hrai/codes/MotionBERT/custom_codes/Canonical/compare_canonical/fit3d_gt_pkl/s11/compare_input_type_s11_dumbbell_reverse_lunge_50591643.mp4 already exists\n",
      "/home/hrai/codes/MotionBERT/custom_codes/Canonical/compare_canonical/fit3d_gt_pkl/s08/compare_input_type_s08_drag_curl_65906101.mp4 already exists\n",
      "/home/hrai/codes/MotionBERT/custom_codes/Canonical/compare_canonical/fit3d_gt_pkl/s04/compare_input_type_s04_warmup_7_58860488.mp4 already exists\n",
      "/home/hrai/codes/MotionBERT/custom_codes/Canonical/compare_canonical/fit3d_gt_pkl/s08/compare_input_type_s08_warmup_17_58860488.mp4 already exists\n",
      "/home/hrai/codes/MotionBERT/custom_codes/Canonical/compare_canonical/fit3d_gt_pkl/s09/compare_input_type_s09_mule_kick_65906101.mp4 already exists\n",
      "/home/hrai/codes/MotionBERT/custom_codes/Canonical/compare_canonical/fit3d_gt_pkl/s03/compare_input_type_s03_dumbbell_biceps_curls_58860488.mp4 already exists\n",
      "/home/hrai/codes/MotionBERT/custom_codes/Canonical/compare_canonical/fit3d_gt_pkl/s04/compare_input_type_s04_warmup_13_65906101.mp4 already exists\n",
      "/home/hrai/codes/MotionBERT/custom_codes/Canonical/compare_canonical/fit3d_gt_pkl/s09/compare_input_type_s09_barbell_dead_row_50591643.mp4 already exists\n",
      "/home/hrai/codes/MotionBERT/custom_codes/Canonical/compare_canonical/fit3d_gt_pkl/s08/compare_input_type_s08_warmup_4_50591643.mp4 already exists\n",
      "/home/hrai/codes/MotionBERT/custom_codes/Canonical/compare_canonical/fit3d_gt_pkl/s09/compare_input_type_s09_diamond_pushup_60457274.mp4 already exists\n",
      "/home/hrai/codes/MotionBERT/custom_codes/Canonical/compare_canonical/fit3d_gt_pkl/s07/compare_input_type_s07_warmup_8_60457274.mp4 already exists\n",
      "/home/hrai/codes/MotionBERT/custom_codes/Canonical/compare_canonical/fit3d_gt_pkl/s11/compare_input_type_s11_warmup_13_50591643.mp4 already exists\n",
      "/home/hrai/codes/MotionBERT/custom_codes/Canonical/compare_canonical/fit3d_gt_pkl/s10/compare_input_type_s10_warmup_13_58860488.mp4 already exists\n",
      "/home/hrai/codes/MotionBERT/custom_codes/Canonical/compare_canonical/fit3d_gt_pkl/s04/compare_input_type_s04_dumbbell_curl_trifecta_60457274.mp4 already exists\n",
      "/home/hrai/codes/MotionBERT/custom_codes/Canonical/compare_canonical/fit3d_gt_pkl/s10/compare_input_type_s10_warmup_15_58860488.mp4 already exists\n",
      "/home/hrai/codes/MotionBERT/custom_codes/Canonical/compare_canonical/fit3d_gt_pkl/s08/compare_input_type_s08_dumbbell_curl_trifecta_58860488.mp4 already exists\n",
      "/home/hrai/codes/MotionBERT/custom_codes/Canonical/compare_canonical/fit3d_gt_pkl/s04/compare_input_type_s04_man_maker_58860488.mp4 already exists\n",
      "/home/hrai/codes/MotionBERT/custom_codes/Canonical/compare_canonical/fit3d_gt_pkl/s04/compare_input_type_s04_warmup_19_50591643.mp4 already exists\n",
      "/home/hrai/codes/MotionBERT/custom_codes/Canonical/compare_canonical/fit3d_gt_pkl/s10/compare_input_type_s10_pushup_50591643.mp4 already exists\n",
      "/home/hrai/codes/MotionBERT/custom_codes/Canonical/compare_canonical/fit3d_gt_pkl/s03/compare_input_type_s03_warmup_9_50591643.mp4 already exists\n",
      "/home/hrai/codes/MotionBERT/custom_codes/Canonical/compare_canonical/fit3d_gt_pkl/s08/compare_input_type_s08_warmup_3_65906101.mp4 already exists\n",
      "/home/hrai/codes/MotionBERT/custom_codes/Canonical/compare_canonical/fit3d_gt_pkl/s04/compare_input_type_s04_diamond_pushup_65906101.mp4 already exists\n",
      "/home/hrai/codes/MotionBERT/custom_codes/Canonical/compare_canonical/fit3d_gt_pkl/s03/compare_input_type_s03_warmup_19_50591643.mp4 already exists\n",
      "/home/hrai/codes/MotionBERT/custom_codes/Canonical/compare_canonical/fit3d_gt_pkl/s09/compare_input_type_s09_warmup_3_65906101.mp4 already exists\n",
      "/home/hrai/codes/MotionBERT/custom_codes/Canonical/compare_canonical/fit3d_gt_pkl/s08/compare_input_type_s08_man_maker_50591643.mp4 already exists\n",
      "/home/hrai/codes/MotionBERT/custom_codes/Canonical/compare_canonical/fit3d_gt_pkl/s07/compare_input_type_s07_warmup_4_58860488.mp4 already exists\n",
      "/home/hrai/codes/MotionBERT/custom_codes/Canonical/compare_canonical/fit3d_gt_pkl/s03/compare_input_type_s03_warmup_15_50591643.mp4 already exists\n",
      "/home/hrai/codes/MotionBERT/custom_codes/Canonical/compare_canonical/fit3d_gt_pkl/s03/compare_input_type_s03_warmup_19_60457274.mp4 already exists\n",
      "/home/hrai/codes/MotionBERT/custom_codes/Canonical/compare_canonical/fit3d_gt_pkl/s05/compare_input_type_s05_standing_ab_twists_58860488.mp4 already exists\n",
      "/home/hrai/codes/MotionBERT/custom_codes/Canonical/compare_canonical/fit3d_gt_pkl/s03/compare_input_type_s03_warmup_5_60457274.mp4 already exists\n",
      "/home/hrai/codes/MotionBERT/custom_codes/Canonical/compare_canonical/fit3d_gt_pkl/s10/compare_input_type_s10_band_pull_apart_50591643.mp4 already exists\n",
      "/home/hrai/codes/MotionBERT/custom_codes/Canonical/compare_canonical/fit3d_gt_pkl/s09/compare_input_type_s09_neutral_overhead_shoulder_press_58860488.mp4 already exists\n",
      "/home/hrai/codes/MotionBERT/custom_codes/Canonical/compare_canonical/fit3d_gt_pkl/s03/compare_input_type_s03_barbell_dead_row_58860488.mp4 already exists\n",
      "/home/hrai/codes/MotionBERT/custom_codes/Canonical/compare_canonical/fit3d_gt_pkl/s04/compare_input_type_s04_dumbbell_overhead_shoulder_press_50591643.mp4 already exists\n",
      "/home/hrai/codes/MotionBERT/custom_codes/Canonical/compare_canonical/fit3d_gt_pkl/s11/compare_input_type_s11_walk_the_box_58860488.mp4 already exists\n",
      "/home/hrai/codes/MotionBERT/custom_codes/Canonical/compare_canonical/fit3d_gt_pkl/s10/compare_input_type_s10_warmup_7_58860488.mp4 already exists\n",
      "/home/hrai/codes/MotionBERT/custom_codes/Canonical/compare_canonical/fit3d_gt_pkl/s03/compare_input_type_s03_warmup_4_60457274.mp4 already exists\n",
      "/home/hrai/codes/MotionBERT/custom_codes/Canonical/compare_canonical/fit3d_gt_pkl/s03/compare_input_type_s03_squat_65906101.mp4 already exists\n",
      "/home/hrai/codes/MotionBERT/custom_codes/Canonical/compare_canonical/fit3d_gt_pkl/s11/compare_input_type_s11_dumbbell_scaptions_58860488.mp4 already exists\n",
      "/home/hrai/codes/MotionBERT/custom_codes/Canonical/compare_canonical/fit3d_gt_pkl/s10/compare_input_type_s10_clean_and_press_58860488.mp4 already exists\n",
      "/home/hrai/codes/MotionBERT/custom_codes/Canonical/compare_canonical/fit3d_gt_pkl/s11/compare_input_type_s11_warmup_5_65906101.mp4 already exists\n",
      "/home/hrai/codes/MotionBERT/custom_codes/Canonical/compare_canonical/fit3d_gt_pkl/s05/compare_input_type_s05_neutral_overhead_shoulder_press_50591643.mp4 already exists\n",
      "/home/hrai/codes/MotionBERT/custom_codes/Canonical/compare_canonical/fit3d_gt_pkl/s07/compare_input_type_s07_band_pull_apart_60457274.mp4 already exists\n",
      "/home/hrai/codes/MotionBERT/custom_codes/Canonical/compare_canonical/fit3d_gt_pkl/s03/compare_input_type_s03_dumbbell_high_pulls_58860488.mp4 already exists\n",
      "/home/hrai/codes/MotionBERT/custom_codes/Canonical/compare_canonical/fit3d_gt_pkl/s03/compare_input_type_s03_warmup_3_58860488.mp4 already exists\n",
      "/home/hrai/codes/MotionBERT/custom_codes/Canonical/compare_canonical/fit3d_gt_pkl/s07/compare_input_type_s07_dumbbell_reverse_lunge_60457274.mp4 already exists\n",
      "/home/hrai/codes/MotionBERT/custom_codes/Canonical/compare_canonical/fit3d_gt_pkl/s04/compare_input_type_s04_dumbbell_hammer_curls_58860488.mp4 already exists\n",
      "/home/hrai/codes/MotionBERT/custom_codes/Canonical/compare_canonical/fit3d_gt_pkl/s03/compare_input_type_s03_band_pull_apart_60457274.mp4 already exists\n",
      "/home/hrai/codes/MotionBERT/custom_codes/Canonical/compare_canonical/fit3d_gt_pkl/s07/compare_input_type_s07_warmup_19_65906101.mp4 already exists\n",
      "/home/hrai/codes/MotionBERT/custom_codes/Canonical/compare_canonical/fit3d_gt_pkl/s05/compare_input_type_s05_overhead_extension_thruster_65906101.mp4 already exists\n",
      "/home/hrai/codes/MotionBERT/custom_codes/Canonical/compare_canonical/fit3d_gt_pkl/s08/compare_input_type_s08_deadlift_58860488.mp4 already exists\n",
      "/home/hrai/codes/MotionBERT/custom_codes/Canonical/compare_canonical/fit3d_gt_pkl/s04/compare_input_type_s04_warmup_15_60457274.mp4 already exists\n",
      "/home/hrai/codes/MotionBERT/custom_codes/Canonical/compare_canonical/fit3d_gt_pkl/s04/compare_input_type_s04_w_raise_60457274.mp4 already exists\n",
      "/home/hrai/codes/MotionBERT/custom_codes/Canonical/compare_canonical/fit3d_gt_pkl/s08/compare_input_type_s08_side_lateral_raise_50591643.mp4 already exists\n",
      "/home/hrai/codes/MotionBERT/custom_codes/Canonical/compare_canonical/fit3d_gt_pkl/s07/compare_input_type_s07_warmup_10_60457274.mp4 already exists\n",
      "/home/hrai/codes/MotionBERT/custom_codes/Canonical/compare_canonical/fit3d_gt_pkl/s04/compare_input_type_s04_drag_curl_60457274.mp4 already exists\n",
      "/home/hrai/codes/MotionBERT/custom_codes/Canonical/compare_canonical/fit3d_gt_pkl/s11/compare_input_type_s11_warmup_15_50591643.mp4 already exists\n",
      "/home/hrai/codes/MotionBERT/custom_codes/Canonical/compare_canonical/fit3d_gt_pkl/s11/compare_input_type_s11_warmup_9_58860488.mp4 already exists\n",
      "/home/hrai/codes/MotionBERT/custom_codes/Canonical/compare_canonical/fit3d_gt_pkl/s10/compare_input_type_s10_warmup_8_58860488.mp4 already exists\n",
      "/home/hrai/codes/MotionBERT/custom_codes/Canonical/compare_canonical/fit3d_gt_pkl/s08/compare_input_type_s08_clean_and_press_50591643.mp4 already exists\n",
      "/home/hrai/codes/MotionBERT/custom_codes/Canonical/compare_canonical/fit3d_gt_pkl/s05/compare_input_type_s05_warmup_17_50591643.mp4 already exists\n",
      "/home/hrai/codes/MotionBERT/custom_codes/Canonical/compare_canonical/fit3d_gt_pkl/s10/compare_input_type_s10_warmup_9_58860488.mp4 already exists\n",
      "/home/hrai/codes/MotionBERT/custom_codes/Canonical/compare_canonical/fit3d_gt_pkl/s09/compare_input_type_s09_drag_curl_50591643.mp4 already exists\n",
      "/home/hrai/codes/MotionBERT/custom_codes/Canonical/compare_canonical/fit3d_gt_pkl/s08/compare_input_type_s08_warmup_14_58860488.mp4 already exists\n",
      "/home/hrai/codes/MotionBERT/custom_codes/Canonical/compare_canonical/fit3d_gt_pkl/s04/compare_input_type_s04_barbell_row_58860488.mp4 already exists\n",
      "/home/hrai/codes/MotionBERT/custom_codes/Canonical/compare_canonical/fit3d_gt_pkl/s03/compare_input_type_s03_warmup_11_60457274.mp4 already exists\n",
      "/home/hrai/codes/MotionBERT/custom_codes/Canonical/compare_canonical/fit3d_gt_pkl/s04/compare_input_type_s04_barbell_row_65906101.mp4 already exists\n",
      "/home/hrai/codes/MotionBERT/custom_codes/Canonical/compare_canonical/fit3d_gt_pkl/s09/compare_input_type_s09_squat_65906101.mp4 already exists\n",
      "/home/hrai/codes/MotionBERT/custom_codes/Canonical/compare_canonical/fit3d_gt_pkl/s04/compare_input_type_s04_warmup_11_65906101.mp4 already exists\n",
      "/home/hrai/codes/MotionBERT/custom_codes/Canonical/compare_canonical/fit3d_gt_pkl/s03/compare_input_type_s03_warmup_16_65906101.mp4 already exists\n",
      "/home/hrai/codes/MotionBERT/custom_codes/Canonical/compare_canonical/fit3d_gt_pkl/s07/compare_input_type_s07_warmup_16_65906101.mp4 already exists\n",
      "/home/hrai/codes/MotionBERT/custom_codes/Canonical/compare_canonical/fit3d_gt_pkl/s07/compare_input_type_s07_warmup_11_50591643.mp4 already exists\n",
      "/home/hrai/codes/MotionBERT/custom_codes/Canonical/compare_canonical/fit3d_gt_pkl/s07/compare_input_type_s07_side_lateral_raise_65906101.mp4 already exists\n",
      "/home/hrai/codes/MotionBERT/custom_codes/Canonical/compare_canonical/fit3d_gt_pkl/s11/compare_input_type_s11_squat_60457274.mp4 already exists\n",
      "/home/hrai/codes/MotionBERT/custom_codes/Canonical/compare_canonical/fit3d_gt_pkl/s11/compare_input_type_s11_warmup_17_65906101.mp4 already exists\n",
      "/home/hrai/codes/MotionBERT/custom_codes/Canonical/compare_canonical/fit3d_gt_pkl/s10/compare_input_type_s10_squat_58860488.mp4 already exists\n",
      "/home/hrai/codes/MotionBERT/custom_codes/Canonical/compare_canonical/fit3d_gt_pkl/s09/compare_input_type_s09_clean_and_press_58860488.mp4 already exists\n",
      "/home/hrai/codes/MotionBERT/custom_codes/Canonical/compare_canonical/fit3d_gt_pkl/s11/compare_input_type_s11_standing_ab_twists_58860488.mp4 already exists\n",
      "/home/hrai/codes/MotionBERT/custom_codes/Canonical/compare_canonical/fit3d_gt_pkl/s04/compare_input_type_s04_band_pull_apart_50591643.mp4 already exists\n",
      "/home/hrai/codes/MotionBERT/custom_codes/Canonical/compare_canonical/fit3d_gt_pkl/s03/compare_input_type_s03_warmup_3_65906101.mp4 already exists\n",
      "/home/hrai/codes/MotionBERT/custom_codes/Canonical/compare_canonical/fit3d_gt_pkl/s10/compare_input_type_s10_dumbbell_hammer_curls_60457274.mp4 already exists\n",
      "/home/hrai/codes/MotionBERT/custom_codes/Canonical/compare_canonical/fit3d_gt_pkl/s05/compare_input_type_s05_side_lateral_raise_65906101.mp4 already exists\n",
      "/home/hrai/codes/MotionBERT/custom_codes/Canonical/compare_canonical/fit3d_gt_pkl/s04/compare_input_type_s04_neutral_overhead_shoulder_press_58860488.mp4 already exists\n",
      "/home/hrai/codes/MotionBERT/custom_codes/Canonical/compare_canonical/fit3d_gt_pkl/s07/compare_input_type_s07_barbell_row_50591643.mp4 already exists\n",
      "/home/hrai/codes/MotionBERT/custom_codes/Canonical/compare_canonical/fit3d_gt_pkl/s08/compare_input_type_s08_warmup_1_60457274.mp4 already exists\n",
      "/home/hrai/codes/MotionBERT/custom_codes/Canonical/compare_canonical/fit3d_gt_pkl/s05/compare_input_type_s05_warmup_8_65906101.mp4 already exists\n",
      "/home/hrai/codes/MotionBERT/custom_codes/Canonical/compare_canonical/fit3d_gt_pkl/s10/compare_input_type_s10_warmup_12_65906101.mp4 already exists\n",
      "/home/hrai/codes/MotionBERT/custom_codes/Canonical/compare_canonical/fit3d_gt_pkl/s07/compare_input_type_s07_warmup_17_60457274.mp4 already exists\n",
      "/home/hrai/codes/MotionBERT/custom_codes/Canonical/compare_canonical/fit3d_gt_pkl/s05/compare_input_type_s05_squat_65906101.mp4 already exists\n",
      "/home/hrai/codes/MotionBERT/custom_codes/Canonical/compare_canonical/fit3d_gt_pkl/s08/compare_input_type_s08_warmup_7_65906101.mp4 already exists\n",
      "/home/hrai/codes/MotionBERT/custom_codes/Canonical/compare_canonical/fit3d_gt_pkl/s11/compare_input_type_s11_barbell_shrug_58860488.mp4 already exists\n",
      "/home/hrai/codes/MotionBERT/custom_codes/Canonical/compare_canonical/fit3d_gt_pkl/s09/compare_input_type_s09_warmup_3_50591643.mp4 already exists\n",
      "/home/hrai/codes/MotionBERT/custom_codes/Canonical/compare_canonical/fit3d_gt_pkl/s05/compare_input_type_s05_warmup_17_58860488.mp4 already exists\n",
      "/home/hrai/codes/MotionBERT/custom_codes/Canonical/compare_canonical/fit3d_gt_pkl/s04/compare_input_type_s04_clean_and_press_65906101.mp4 already exists\n",
      "/home/hrai/codes/MotionBERT/custom_codes/Canonical/compare_canonical/fit3d_gt_pkl/s05/compare_input_type_s05_dumbbell_high_pulls_50591643.mp4 already exists\n",
      "/home/hrai/codes/MotionBERT/custom_codes/Canonical/compare_canonical/fit3d_gt_pkl/s05/compare_input_type_s05_deadlift_50591643.mp4 already exists\n",
      "/home/hrai/codes/MotionBERT/custom_codes/Canonical/compare_canonical/fit3d_gt_pkl/s07/compare_input_type_s07_warmup_10_65906101.mp4 already exists\n",
      "/home/hrai/codes/MotionBERT/custom_codes/Canonical/compare_canonical/fit3d_gt_pkl/s10/compare_input_type_s10_burpees_60457274.mp4 already exists\n",
      "/home/hrai/codes/MotionBERT/custom_codes/Canonical/compare_canonical/fit3d_gt_pkl/s09/compare_input_type_s09_warmup_8_50591643.mp4 already exists\n",
      "/home/hrai/codes/MotionBERT/custom_codes/Canonical/compare_canonical/fit3d_gt_pkl/s11/compare_input_type_s11_burpees_60457274.mp4 already exists\n",
      "/home/hrai/codes/MotionBERT/custom_codes/Canonical/compare_canonical/fit3d_gt_pkl/s03/compare_input_type_s03_warmup_18_65906101.mp4 already exists\n",
      "/home/hrai/codes/MotionBERT/custom_codes/Canonical/compare_canonical/fit3d_gt_pkl/s10/compare_input_type_s10_walk_the_box_58860488.mp4 already exists\n",
      "/home/hrai/codes/MotionBERT/custom_codes/Canonical/compare_canonical/fit3d_gt_pkl/s08/compare_input_type_s08_band_pull_apart_58860488.mp4 already exists\n",
      "/home/hrai/codes/MotionBERT/custom_codes/Canonical/compare_canonical/fit3d_gt_pkl/s09/compare_input_type_s09_warmup_2_50591643.mp4 already exists\n",
      "/home/hrai/codes/MotionBERT/custom_codes/Canonical/compare_canonical/fit3d_gt_pkl/s10/compare_input_type_s10_band_pull_apart_60457274.mp4 already exists\n",
      "/home/hrai/codes/MotionBERT/custom_codes/Canonical/compare_canonical/fit3d_gt_pkl/s10/compare_input_type_s10_mule_kick_50591643.mp4 already exists\n",
      "/home/hrai/codes/MotionBERT/custom_codes/Canonical/compare_canonical/fit3d_gt_pkl/s10/compare_input_type_s10_warmup_17_58860488.mp4 already exists\n",
      "/home/hrai/codes/MotionBERT/custom_codes/Canonical/compare_canonical/fit3d_gt_pkl/s10/compare_input_type_s10_dumbbell_curl_trifecta_65906101.mp4 already exists\n",
      "/home/hrai/codes/MotionBERT/custom_codes/Canonical/compare_canonical/fit3d_gt_pkl/s07/compare_input_type_s07_dumbbell_curl_trifecta_60457274.mp4 already exists\n",
      "/home/hrai/codes/MotionBERT/custom_codes/Canonical/compare_canonical/fit3d_gt_pkl/s07/compare_input_type_s07_clean_and_press_60457274.mp4 already exists\n",
      "/home/hrai/codes/MotionBERT/custom_codes/Canonical/compare_canonical/fit3d_gt_pkl/s03/compare_input_type_s03_warmup_11_58860488.mp4 already exists\n",
      "/home/hrai/codes/MotionBERT/custom_codes/Canonical/compare_canonical/fit3d_gt_pkl/s03/compare_input_type_s03_warmup_19_65906101.mp4 already exists\n",
      "/home/hrai/codes/MotionBERT/custom_codes/Canonical/compare_canonical/fit3d_gt_pkl/s08/compare_input_type_s08_warmup_3_58860488.mp4 already exists\n",
      "/home/hrai/codes/MotionBERT/custom_codes/Canonical/compare_canonical/fit3d_gt_pkl/s09/compare_input_type_s09_warmup_13_50591643.mp4 already exists\n",
      "/home/hrai/codes/MotionBERT/custom_codes/Canonical/compare_canonical/fit3d_gt_pkl/s09/compare_input_type_s09_man_maker_60457274.mp4 already exists\n",
      "/home/hrai/codes/MotionBERT/custom_codes/Canonical/compare_canonical/fit3d_gt_pkl/s10/compare_input_type_s10_barbell_dead_row_58860488.mp4 already exists\n",
      "/home/hrai/codes/MotionBERT/custom_codes/Canonical/compare_canonical/fit3d_gt_pkl/s03/compare_input_type_s03_pushup_58860488.mp4 already exists\n",
      "/home/hrai/codes/MotionBERT/custom_codes/Canonical/compare_canonical/fit3d_gt_pkl/s10/compare_input_type_s10_warmup_3_65906101.mp4 already exists\n",
      "/home/hrai/codes/MotionBERT/custom_codes/Canonical/compare_canonical/fit3d_gt_pkl/s10/compare_input_type_s10_warmup_19_50591643.mp4 already exists\n",
      "/home/hrai/codes/MotionBERT/custom_codes/Canonical/compare_canonical/fit3d_gt_pkl/s10/compare_input_type_s10_one_arm_row_58860488.mp4 already exists\n",
      "/home/hrai/codes/MotionBERT/custom_codes/Canonical/compare_canonical/fit3d_gt_pkl/s08/compare_input_type_s08_overhead_trap_raises_65906101.mp4 already exists\n",
      "/home/hrai/codes/MotionBERT/custom_codes/Canonical/compare_canonical/fit3d_gt_pkl/s08/compare_input_type_s08_deadlift_65906101.mp4 already exists\n",
      "/home/hrai/codes/MotionBERT/custom_codes/Canonical/compare_canonical/fit3d_gt_pkl/s08/compare_input_type_s08_diamond_pushup_60457274.mp4 already exists\n",
      "/home/hrai/codes/MotionBERT/custom_codes/Canonical/compare_canonical/fit3d_gt_pkl/s05/compare_input_type_s05_barbell_shrug_60457274.mp4 already exists\n",
      "/home/hrai/codes/MotionBERT/custom_codes/Canonical/compare_canonical/fit3d_gt_pkl/s05/compare_input_type_s05_dumbbell_overhead_shoulder_press_60457274.mp4 already exists\n",
      "/home/hrai/codes/MotionBERT/custom_codes/Canonical/compare_canonical/fit3d_gt_pkl/s10/compare_input_type_s10_drag_curl_65906101.mp4 already exists\n",
      "/home/hrai/codes/MotionBERT/custom_codes/Canonical/compare_canonical/fit3d_gt_pkl/s11/compare_input_type_s11_dumbbell_biceps_curls_58860488.mp4 already exists\n",
      "/home/hrai/codes/MotionBERT/custom_codes/Canonical/compare_canonical/fit3d_gt_pkl/s10/compare_input_type_s10_dumbbell_scaptions_58860488.mp4 already exists\n",
      "/home/hrai/codes/MotionBERT/custom_codes/Canonical/compare_canonical/fit3d_gt_pkl/s09/compare_input_type_s09_warmup_17_58860488.mp4 already exists\n",
      "/home/hrai/codes/MotionBERT/custom_codes/Canonical/compare_canonical/fit3d_gt_pkl/s09/compare_input_type_s09_warmup_6_50591643.mp4 already exists\n",
      "/home/hrai/codes/MotionBERT/custom_codes/Canonical/compare_canonical/fit3d_gt_pkl/s11/compare_input_type_s11_warmup_4_60457274.mp4 already exists\n",
      "/home/hrai/codes/MotionBERT/custom_codes/Canonical/compare_canonical/fit3d_gt_pkl/s03/compare_input_type_s03_warmup_18_50591643.mp4 already exists\n",
      "/home/hrai/codes/MotionBERT/custom_codes/Canonical/compare_canonical/fit3d_gt_pkl/s08/compare_input_type_s08_warmup_13_60457274.mp4 already exists\n",
      "/home/hrai/codes/MotionBERT/custom_codes/Canonical/compare_canonical/fit3d_gt_pkl/s10/compare_input_type_s10_one_arm_row_60457274.mp4 already exists\n",
      "/home/hrai/codes/MotionBERT/custom_codes/Canonical/compare_canonical/fit3d_gt_pkl/s05/compare_input_type_s05_warmup_10_58860488.mp4 already exists\n",
      "/home/hrai/codes/MotionBERT/custom_codes/Canonical/compare_canonical/fit3d_gt_pkl/s07/compare_input_type_s07_warmup_17_50591643.mp4 already exists\n",
      "/home/hrai/codes/MotionBERT/custom_codes/Canonical/compare_canonical/fit3d_gt_pkl/s11/compare_input_type_s11_warmup_16_50591643.mp4 already exists\n",
      "/home/hrai/codes/MotionBERT/custom_codes/Canonical/compare_canonical/fit3d_gt_pkl/s11/compare_input_type_s11_warmup_1_58860488.mp4 already exists\n",
      "/home/hrai/codes/MotionBERT/custom_codes/Canonical/compare_canonical/fit3d_gt_pkl/s03/compare_input_type_s03_man_maker_50591643.mp4 already exists\n",
      "/home/hrai/codes/MotionBERT/custom_codes/Canonical/compare_canonical/fit3d_gt_pkl/s07/compare_input_type_s07_band_pull_apart_65906101.mp4 already exists\n",
      "/home/hrai/codes/MotionBERT/custom_codes/Canonical/compare_canonical/fit3d_gt_pkl/s03/compare_input_type_s03_overhead_trap_raises_50591643.mp4 already exists\n",
      "/home/hrai/codes/MotionBERT/custom_codes/Canonical/compare_canonical/fit3d_gt_pkl/s04/compare_input_type_s04_warmup_8_58860488.mp4 already exists\n",
      "/home/hrai/codes/MotionBERT/custom_codes/Canonical/compare_canonical/fit3d_gt_pkl/s05/compare_input_type_s05_one_arm_row_65906101.mp4 already exists\n",
      "/home/hrai/codes/MotionBERT/custom_codes/Canonical/compare_canonical/fit3d_gt_pkl/s07/compare_input_type_s07_warmup_3_58860488.mp4 already exists\n",
      "/home/hrai/codes/MotionBERT/custom_codes/Canonical/compare_canonical/fit3d_gt_pkl/s11/compare_input_type_s11_warmup_13_60457274.mp4 already exists\n",
      "/home/hrai/codes/MotionBERT/custom_codes/Canonical/compare_canonical/fit3d_gt_pkl/s04/compare_input_type_s04_warmup_6_60457274.mp4 already exists\n",
      "/home/hrai/codes/MotionBERT/custom_codes/Canonical/compare_canonical/fit3d_gt_pkl/s03/compare_input_type_s03_warmup_7_58860488.mp4 already exists\n",
      "/home/hrai/codes/MotionBERT/custom_codes/Canonical/compare_canonical/fit3d_gt_pkl/s10/compare_input_type_s10_warmup_11_65906101.mp4 already exists\n",
      "/home/hrai/codes/MotionBERT/custom_codes/Canonical/compare_canonical/fit3d_gt_pkl/s05/compare_input_type_s05_dumbbell_overhead_shoulder_press_58860488.mp4 already exists\n",
      "/home/hrai/codes/MotionBERT/custom_codes/Canonical/compare_canonical/fit3d_gt_pkl/s07/compare_input_type_s07_one_arm_row_50591643.mp4 already exists\n",
      "/home/hrai/codes/MotionBERT/custom_codes/Canonical/compare_canonical/fit3d_gt_pkl/s04/compare_input_type_s04_neutral_overhead_shoulder_press_65906101.mp4 already exists\n",
      "/home/hrai/codes/MotionBERT/custom_codes/Canonical/compare_canonical/fit3d_gt_pkl/s04/compare_input_type_s04_dumbbell_curl_trifecta_58860488.mp4 already exists\n",
      "/home/hrai/codes/MotionBERT/custom_codes/Canonical/compare_canonical/fit3d_gt_pkl/s04/compare_input_type_s04_squat_50591643.mp4 already exists\n",
      "/home/hrai/codes/MotionBERT/custom_codes/Canonical/compare_canonical/fit3d_gt_pkl/s10/compare_input_type_s10_side_lateral_raise_60457274.mp4 already exists\n",
      "/home/hrai/codes/MotionBERT/custom_codes/Canonical/compare_canonical/fit3d_gt_pkl/s05/compare_input_type_s05_walk_the_box_58860488.mp4 already exists\n",
      "/home/hrai/codes/MotionBERT/custom_codes/Canonical/compare_canonical/fit3d_gt_pkl/s04/compare_input_type_s04_warmup_13_50591643.mp4 already exists\n",
      "/home/hrai/codes/MotionBERT/custom_codes/Canonical/compare_canonical/fit3d_gt_pkl/s11/compare_input_type_s11_warmup_16_60457274.mp4 already exists\n",
      "/home/hrai/codes/MotionBERT/custom_codes/Canonical/compare_canonical/fit3d_gt_pkl/s11/compare_input_type_s11_warmup_18_58860488.mp4 already exists\n",
      "/home/hrai/codes/MotionBERT/custom_codes/Canonical/compare_canonical/fit3d_gt_pkl/s10/compare_input_type_s10_warmup_2_50591643.mp4 already exists\n",
      "/home/hrai/codes/MotionBERT/custom_codes/Canonical/compare_canonical/fit3d_gt_pkl/s09/compare_input_type_s09_dumbbell_high_pulls_60457274.mp4 already exists\n",
      "/home/hrai/codes/MotionBERT/custom_codes/Canonical/compare_canonical/fit3d_gt_pkl/s05/compare_input_type_s05_warmup_14_60457274.mp4 already exists\n",
      "/home/hrai/codes/MotionBERT/custom_codes/Canonical/compare_canonical/fit3d_gt_pkl/s07/compare_input_type_s07_standing_ab_twists_65906101.mp4 already exists\n",
      "/home/hrai/codes/MotionBERT/custom_codes/Canonical/compare_canonical/fit3d_gt_pkl/s04/compare_input_type_s04_diamond_pushup_50591643.mp4 already exists\n",
      "/home/hrai/codes/MotionBERT/custom_codes/Canonical/compare_canonical/fit3d_gt_pkl/s04/compare_input_type_s04_warmup_4_58860488.mp4 already exists\n",
      "/home/hrai/codes/MotionBERT/custom_codes/Canonical/compare_canonical/fit3d_gt_pkl/s11/compare_input_type_s11_warmup_13_65906101.mp4 already exists\n",
      "/home/hrai/codes/MotionBERT/custom_codes/Canonical/compare_canonical/fit3d_gt_pkl/s10/compare_input_type_s10_w_raise_60457274.mp4 already exists\n",
      "/home/hrai/codes/MotionBERT/custom_codes/Canonical/compare_canonical/fit3d_gt_pkl/s04/compare_input_type_s04_dumbbell_reverse_lunge_60457274.mp4 already exists\n",
      "/home/hrai/codes/MotionBERT/custom_codes/Canonical/compare_canonical/fit3d_gt_pkl/s10/compare_input_type_s10_warmup_11_50591643.mp4 already exists\n",
      "/home/hrai/codes/MotionBERT/custom_codes/Canonical/compare_canonical/fit3d_gt_pkl/s04/compare_input_type_s04_warmup_12_60457274.mp4 already exists\n",
      "/home/hrai/codes/MotionBERT/custom_codes/Canonical/compare_canonical/fit3d_gt_pkl/s11/compare_input_type_s11_pushup_58860488.mp4 already exists\n",
      "/home/hrai/codes/MotionBERT/custom_codes/Canonical/compare_canonical/fit3d_gt_pkl/s03/compare_input_type_s03_dumbbell_hammer_curls_50591643.mp4 already exists\n",
      "/home/hrai/codes/MotionBERT/custom_codes/Canonical/compare_canonical/fit3d_gt_pkl/s08/compare_input_type_s08_mule_kick_58860488.mp4 already exists\n",
      "/home/hrai/codes/MotionBERT/custom_codes/Canonical/compare_canonical/fit3d_gt_pkl/s04/compare_input_type_s04_neutral_overhead_shoulder_press_60457274.mp4 already exists\n",
      "/home/hrai/codes/MotionBERT/custom_codes/Canonical/compare_canonical/fit3d_gt_pkl/s07/compare_input_type_s07_overhead_extension_thruster_65906101.mp4 already exists\n",
      "/home/hrai/codes/MotionBERT/custom_codes/Canonical/compare_canonical/fit3d_gt_pkl/s09/compare_input_type_s09_warmup_2_60457274.mp4 already exists\n",
      "/home/hrai/codes/MotionBERT/custom_codes/Canonical/compare_canonical/fit3d_gt_pkl/s05/compare_input_type_s05_overhead_trap_raises_65906101.mp4 already exists\n",
      "/home/hrai/codes/MotionBERT/custom_codes/Canonical/compare_canonical/fit3d_gt_pkl/s09/compare_input_type_s09_man_maker_58860488.mp4 already exists\n",
      "/home/hrai/codes/MotionBERT/custom_codes/Canonical/compare_canonical/fit3d_gt_pkl/s05/compare_input_type_s05_warmup_15_60457274.mp4 already exists\n",
      "/home/hrai/codes/MotionBERT/custom_codes/Canonical/compare_canonical/fit3d_gt_pkl/s11/compare_input_type_s11_mule_kick_58860488.mp4 already exists\n",
      "/home/hrai/codes/MotionBERT/custom_codes/Canonical/compare_canonical/fit3d_gt_pkl/s09/compare_input_type_s09_warmup_4_60457274.mp4 already exists\n",
      "/home/hrai/codes/MotionBERT/custom_codes/Canonical/compare_canonical/fit3d_gt_pkl/s04/compare_input_type_s04_deadlift_65906101.mp4 already exists\n",
      "/home/hrai/codes/MotionBERT/custom_codes/Canonical/compare_canonical/fit3d_gt_pkl/s08/compare_input_type_s08_warmup_6_60457274.mp4 already exists\n",
      "/home/hrai/codes/MotionBERT/custom_codes/Canonical/compare_canonical/fit3d_gt_pkl/s04/compare_input_type_s04_band_pull_apart_58860488.mp4 already exists\n",
      "/home/hrai/codes/MotionBERT/custom_codes/Canonical/compare_canonical/fit3d_gt_pkl/s04/compare_input_type_s04_mule_kick_65906101.mp4 already exists\n",
      "/home/hrai/codes/MotionBERT/custom_codes/Canonical/compare_canonical/fit3d_gt_pkl/s03/compare_input_type_s03_w_raise_60457274.mp4 already exists\n",
      "/home/hrai/codes/MotionBERT/custom_codes/Canonical/compare_canonical/fit3d_gt_pkl/s07/compare_input_type_s07_warmup_14_58860488.mp4 already exists\n",
      "/home/hrai/codes/MotionBERT/custom_codes/Canonical/compare_canonical/fit3d_gt_pkl/s07/compare_input_type_s07_standing_ab_twists_50591643.mp4 already exists\n",
      "/home/hrai/codes/MotionBERT/custom_codes/Canonical/compare_canonical/fit3d_gt_pkl/s11/compare_input_type_s11_drag_curl_50591643.mp4 already exists\n",
      "/home/hrai/codes/MotionBERT/custom_codes/Canonical/compare_canonical/fit3d_gt_pkl/s04/compare_input_type_s04_warmup_16_65906101.mp4 already exists\n",
      "/home/hrai/codes/MotionBERT/custom_codes/Canonical/compare_canonical/fit3d_gt_pkl/s08/compare_input_type_s08_walk_the_box_50591643.mp4 already exists\n",
      "/home/hrai/codes/MotionBERT/custom_codes/Canonical/compare_canonical/fit3d_gt_pkl/s08/compare_input_type_s08_barbell_dead_row_65906101.mp4 already exists\n",
      "/home/hrai/codes/MotionBERT/custom_codes/Canonical/compare_canonical/fit3d_gt_pkl/s04/compare_input_type_s04_overhead_extension_thruster_58860488.mp4 already exists\n",
      "/home/hrai/codes/MotionBERT/custom_codes/Canonical/compare_canonical/fit3d_gt_pkl/s05/compare_input_type_s05_warmup_7_65906101.mp4 already exists\n",
      "/home/hrai/codes/MotionBERT/custom_codes/Canonical/compare_canonical/fit3d_gt_pkl/s08/compare_input_type_s08_warmup_1_50591643.mp4 already exists\n",
      "/home/hrai/codes/MotionBERT/custom_codes/Canonical/compare_canonical/fit3d_gt_pkl/s10/compare_input_type_s10_warmup_6_60457274.mp4 already exists\n",
      "/home/hrai/codes/MotionBERT/custom_codes/Canonical/compare_canonical/fit3d_gt_pkl/s09/compare_input_type_s09_dumbbell_biceps_curls_58860488.mp4 already exists\n",
      "/home/hrai/codes/MotionBERT/custom_codes/Canonical/compare_canonical/fit3d_gt_pkl/s10/compare_input_type_s10_drag_curl_58860488.mp4 already exists\n",
      "/home/hrai/codes/MotionBERT/custom_codes/Canonical/compare_canonical/fit3d_gt_pkl/s07/compare_input_type_s07_warmup_3_65906101.mp4 already exists\n",
      "/home/hrai/codes/MotionBERT/custom_codes/Canonical/compare_canonical/fit3d_gt_pkl/s10/compare_input_type_s10_band_pull_apart_65906101.mp4 already exists\n",
      "/home/hrai/codes/MotionBERT/custom_codes/Canonical/compare_canonical/fit3d_gt_pkl/s09/compare_input_type_s09_warmup_6_60457274.mp4 already exists\n",
      "/home/hrai/codes/MotionBERT/custom_codes/Canonical/compare_canonical/fit3d_gt_pkl/s05/compare_input_type_s05_pushup_60457274.mp4 already exists\n",
      "/home/hrai/codes/MotionBERT/custom_codes/Canonical/compare_canonical/fit3d_gt_pkl/s11/compare_input_type_s11_warmup_19_58860488.mp4 already exists\n",
      "/home/hrai/codes/MotionBERT/custom_codes/Canonical/compare_canonical/fit3d_gt_pkl/s07/compare_input_type_s07_warmup_5_50591643.mp4 already exists\n",
      "/home/hrai/codes/MotionBERT/custom_codes/Canonical/compare_canonical/fit3d_gt_pkl/s09/compare_input_type_s09_dumbbell_scaptions_60457274.mp4 already exists\n",
      "/home/hrai/codes/MotionBERT/custom_codes/Canonical/compare_canonical/fit3d_gt_pkl/s07/compare_input_type_s07_warmup_3_60457274.mp4 already exists\n",
      "/home/hrai/codes/MotionBERT/custom_codes/Canonical/compare_canonical/fit3d_gt_pkl/s03/compare_input_type_s03_diamond_pushup_50591643.mp4 already exists\n",
      "/home/hrai/codes/MotionBERT/custom_codes/Canonical/compare_canonical/fit3d_gt_pkl/s08/compare_input_type_s08_warmup_8_60457274.mp4 already exists\n",
      "/home/hrai/codes/MotionBERT/custom_codes/Canonical/compare_canonical/fit3d_gt_pkl/s05/compare_input_type_s05_burpees_58860488.mp4 already exists\n",
      "/home/hrai/codes/MotionBERT/custom_codes/Canonical/compare_canonical/fit3d_gt_pkl/s11/compare_input_type_s11_barbell_row_50591643.mp4 already exists\n",
      "/home/hrai/codes/MotionBERT/custom_codes/Canonical/compare_canonical/fit3d_gt_pkl/s07/compare_input_type_s07_dumbbell_high_pulls_65906101.mp4 already exists\n",
      "/home/hrai/codes/MotionBERT/custom_codes/Canonical/compare_canonical/fit3d_gt_pkl/s11/compare_input_type_s11_dumbbell_curl_trifecta_60457274.mp4 already exists\n",
      "/home/hrai/codes/MotionBERT/custom_codes/Canonical/compare_canonical/fit3d_gt_pkl/s05/compare_input_type_s05_warmup_16_58860488.mp4 already exists\n",
      "/home/hrai/codes/MotionBERT/custom_codes/Canonical/compare_canonical/fit3d_gt_pkl/s05/compare_input_type_s05_barbell_dead_row_60457274.mp4 already exists\n",
      "/home/hrai/codes/MotionBERT/custom_codes/Canonical/compare_canonical/fit3d_gt_pkl/s08/compare_input_type_s08_warmup_12_50591643.mp4 already exists\n",
      "/home/hrai/codes/MotionBERT/custom_codes/Canonical/compare_canonical/fit3d_gt_pkl/s08/compare_input_type_s08_neutral_overhead_shoulder_press_60457274.mp4 already exists\n",
      "/home/hrai/codes/MotionBERT/custom_codes/Canonical/compare_canonical/fit3d_gt_pkl/s11/compare_input_type_s11_warmup_10_60457274.mp4 already exists\n",
      "/home/hrai/codes/MotionBERT/custom_codes/Canonical/compare_canonical/fit3d_gt_pkl/s11/compare_input_type_s11_dumbbell_overhead_shoulder_press_65906101.mp4 already exists\n",
      "/home/hrai/codes/MotionBERT/custom_codes/Canonical/compare_canonical/fit3d_gt_pkl/s11/compare_input_type_s11_barbell_row_65906101.mp4 already exists\n",
      "/home/hrai/codes/MotionBERT/custom_codes/Canonical/compare_canonical/fit3d_gt_pkl/s07/compare_input_type_s07_diamond_pushup_58860488.mp4 already exists\n",
      "/home/hrai/codes/MotionBERT/custom_codes/Canonical/compare_canonical/fit3d_gt_pkl/s07/compare_input_type_s07_drag_curl_58860488.mp4 already exists\n",
      "/home/hrai/codes/MotionBERT/custom_codes/Canonical/compare_canonical/fit3d_gt_pkl/s05/compare_input_type_s05_clean_and_press_60457274.mp4 already exists\n",
      "/home/hrai/codes/MotionBERT/custom_codes/Canonical/compare_canonical/fit3d_gt_pkl/s09/compare_input_type_s09_one_arm_row_50591643.mp4 already exists\n",
      "/home/hrai/codes/MotionBERT/custom_codes/Canonical/compare_canonical/fit3d_gt_pkl/s09/compare_input_type_s09_warmup_13_65906101.mp4 already exists\n",
      "/home/hrai/codes/MotionBERT/custom_codes/Canonical/compare_canonical/fit3d_gt_pkl/s08/compare_input_type_s08_side_lateral_raise_58860488.mp4 already exists\n",
      "/home/hrai/codes/MotionBERT/custom_codes/Canonical/compare_canonical/fit3d_gt_pkl/s08/compare_input_type_s08_warmup_15_65906101.mp4 already exists\n",
      "/home/hrai/codes/MotionBERT/custom_codes/Canonical/compare_canonical/fit3d_gt_pkl/s10/compare_input_type_s10_dumbbell_high_pulls_60457274.mp4 already exists\n",
      "/home/hrai/codes/MotionBERT/custom_codes/Canonical/compare_canonical/fit3d_gt_pkl/s10/compare_input_type_s10_dumbbell_curl_trifecta_60457274.mp4 already exists\n",
      "/home/hrai/codes/MotionBERT/custom_codes/Canonical/compare_canonical/fit3d_gt_pkl/s08/compare_input_type_s08_neutral_overhead_shoulder_press_65906101.mp4 already exists\n",
      "/home/hrai/codes/MotionBERT/custom_codes/Canonical/compare_canonical/fit3d_gt_pkl/s08/compare_input_type_s08_warmup_19_60457274.mp4 already exists\n",
      "/home/hrai/codes/MotionBERT/custom_codes/Canonical/compare_canonical/fit3d_gt_pkl/s10/compare_input_type_s10_dumbbell_biceps_curls_60457274.mp4 already exists\n",
      "/home/hrai/codes/MotionBERT/custom_codes/Canonical/compare_canonical/fit3d_gt_pkl/s03/compare_input_type_s03_one_arm_row_50591643.mp4 already exists\n",
      "/home/hrai/codes/MotionBERT/custom_codes/Canonical/compare_canonical/fit3d_gt_pkl/s07/compare_input_type_s07_side_lateral_raise_58860488.mp4 already exists\n",
      "/home/hrai/codes/MotionBERT/custom_codes/Canonical/compare_canonical/fit3d_gt_pkl/s05/compare_input_type_s05_burpees_50591643.mp4 already exists\n",
      "/home/hrai/codes/MotionBERT/custom_codes/Canonical/compare_canonical/fit3d_gt_pkl/s03/compare_input_type_s03_warmup_5_65906101.mp4 already exists\n",
      "/home/hrai/codes/MotionBERT/custom_codes/Canonical/compare_canonical/fit3d_gt_pkl/s05/compare_input_type_s05_drag_curl_60457274.mp4 already exists\n",
      "/home/hrai/codes/MotionBERT/custom_codes/Canonical/compare_canonical/fit3d_gt_pkl/s10/compare_input_type_s10_warmup_2_60457274.mp4 already exists\n",
      "/home/hrai/codes/MotionBERT/custom_codes/Canonical/compare_canonical/fit3d_gt_pkl/s09/compare_input_type_s09_pushup_50591643.mp4 already exists\n",
      "/home/hrai/codes/MotionBERT/custom_codes/Canonical/compare_canonical/fit3d_gt_pkl/s11/compare_input_type_s11_warmup_6_50591643.mp4 already exists\n",
      "/home/hrai/codes/MotionBERT/custom_codes/Canonical/compare_canonical/fit3d_gt_pkl/s05/compare_input_type_s05_burpees_65906101.mp4 already exists\n",
      "/home/hrai/codes/MotionBERT/custom_codes/Canonical/compare_canonical/fit3d_gt_pkl/s07/compare_input_type_s07_pushup_58860488.mp4 already exists\n",
      "/home/hrai/codes/MotionBERT/custom_codes/Canonical/compare_canonical/fit3d_gt_pkl/s09/compare_input_type_s09_overhead_trap_raises_50591643.mp4 already exists\n",
      "/home/hrai/codes/MotionBERT/custom_codes/Canonical/compare_canonical/fit3d_gt_pkl/s05/compare_input_type_s05_dumbbell_hammer_curls_65906101.mp4 already exists\n",
      "/home/hrai/codes/MotionBERT/custom_codes/Canonical/compare_canonical/fit3d_gt_pkl/s08/compare_input_type_s08_man_maker_58860488.mp4 already exists\n",
      "/home/hrai/codes/MotionBERT/custom_codes/Canonical/compare_canonical/fit3d_gt_pkl/s04/compare_input_type_s04_warmup_9_60457274.mp4 already exists\n",
      "/home/hrai/codes/MotionBERT/custom_codes/Canonical/compare_canonical/fit3d_gt_pkl/s04/compare_input_type_s04_warmup_14_65906101.mp4 already exists\n",
      "/home/hrai/codes/MotionBERT/custom_codes/Canonical/compare_canonical/fit3d_gt_pkl/s11/compare_input_type_s11_burpees_65906101.mp4 already exists\n",
      "/home/hrai/codes/MotionBERT/custom_codes/Canonical/compare_canonical/fit3d_gt_pkl/s03/compare_input_type_s03_drag_curl_65906101.mp4 already exists\n",
      "/home/hrai/codes/MotionBERT/custom_codes/Canonical/compare_canonical/fit3d_gt_pkl/s04/compare_input_type_s04_warmup_13_60457274.mp4 already exists\n",
      "/home/hrai/codes/MotionBERT/custom_codes/Canonical/compare_canonical/fit3d_gt_pkl/s05/compare_input_type_s05_neutral_overhead_shoulder_press_58860488.mp4 already exists\n",
      "/home/hrai/codes/MotionBERT/custom_codes/Canonical/compare_canonical/fit3d_gt_pkl/s03/compare_input_type_s03_warmup_13_58860488.mp4 already exists\n",
      "/home/hrai/codes/MotionBERT/custom_codes/Canonical/compare_canonical/fit3d_gt_pkl/s05/compare_input_type_s05_warmup_19_58860488.mp4 already exists\n",
      "/home/hrai/codes/MotionBERT/custom_codes/Canonical/compare_canonical/fit3d_gt_pkl/s08/compare_input_type_s08_clean_and_press_60457274.mp4 already exists\n",
      "/home/hrai/codes/MotionBERT/custom_codes/Canonical/compare_canonical/fit3d_gt_pkl/s03/compare_input_type_s03_barbell_shrug_60457274.mp4 already exists\n",
      "/home/hrai/codes/MotionBERT/custom_codes/Canonical/compare_canonical/fit3d_gt_pkl/s11/compare_input_type_s11_band_pull_apart_65906101.mp4 already exists\n",
      "/home/hrai/codes/MotionBERT/custom_codes/Canonical/compare_canonical/fit3d_gt_pkl/s08/compare_input_type_s08_one_arm_row_50591643.mp4 already exists\n",
      "/home/hrai/codes/MotionBERT/custom_codes/Canonical/compare_canonical/fit3d_gt_pkl/s05/compare_input_type_s05_band_pull_apart_58860488.mp4 already exists\n",
      "/home/hrai/codes/MotionBERT/custom_codes/Canonical/compare_canonical/fit3d_gt_pkl/s08/compare_input_type_s08_barbell_dead_row_58860488.mp4 already exists\n",
      "/home/hrai/codes/MotionBERT/custom_codes/Canonical/compare_canonical/fit3d_gt_pkl/s11/compare_input_type_s11_walk_the_box_65906101.mp4 already exists\n",
      "/home/hrai/codes/MotionBERT/custom_codes/Canonical/compare_canonical/fit3d_gt_pkl/s09/compare_input_type_s09_burpees_65906101.mp4 already exists\n",
      "/home/hrai/codes/MotionBERT/custom_codes/Canonical/compare_canonical/fit3d_gt_pkl/s09/compare_input_type_s09_warmup_13_60457274.mp4 already exists\n",
      "/home/hrai/codes/MotionBERT/custom_codes/Canonical/compare_canonical/fit3d_gt_pkl/s10/compare_input_type_s10_diamond_pushup_58860488.mp4 already exists\n",
      "/home/hrai/codes/MotionBERT/custom_codes/Canonical/compare_canonical/fit3d_gt_pkl/s09/compare_input_type_s09_warmup_15_65906101.mp4 already exists\n",
      "/home/hrai/codes/MotionBERT/custom_codes/Canonical/compare_canonical/fit3d_gt_pkl/s05/compare_input_type_s05_warmup_13_60457274.mp4 already exists\n",
      "/home/hrai/codes/MotionBERT/custom_codes/Canonical/compare_canonical/fit3d_gt_pkl/s03/compare_input_type_s03_deadlift_58860488.mp4 already exists\n",
      "/home/hrai/codes/MotionBERT/custom_codes/Canonical/compare_canonical/fit3d_gt_pkl/s07/compare_input_type_s07_pushup_60457274.mp4 already exists\n",
      "/home/hrai/codes/MotionBERT/custom_codes/Canonical/compare_canonical/fit3d_gt_pkl/s11/compare_input_type_s11_warmup_2_50591643.mp4 already exists\n",
      "/home/hrai/codes/MotionBERT/custom_codes/Canonical/compare_canonical/fit3d_gt_pkl/s07/compare_input_type_s07_warmup_11_58860488.mp4 already exists\n",
      "/home/hrai/codes/MotionBERT/custom_codes/Canonical/compare_canonical/fit3d_gt_pkl/s09/compare_input_type_s09_deadlift_50591643.mp4 already exists\n",
      "/home/hrai/codes/MotionBERT/custom_codes/Canonical/compare_canonical/fit3d_gt_pkl/s11/compare_input_type_s11_overhead_extension_thruster_60457274.mp4 already exists\n",
      "/home/hrai/codes/MotionBERT/custom_codes/Canonical/compare_canonical/fit3d_gt_pkl/s08/compare_input_type_s08_squat_60457274.mp4 already exists\n",
      "/home/hrai/codes/MotionBERT/custom_codes/Canonical/compare_canonical/fit3d_gt_pkl/s09/compare_input_type_s09_barbell_shrug_60457274.mp4 already exists\n",
      "/home/hrai/codes/MotionBERT/custom_codes/Canonical/compare_canonical/fit3d_gt_pkl/s10/compare_input_type_s10_warmup_6_65906101.mp4 already exists\n",
      "/home/hrai/codes/MotionBERT/custom_codes/Canonical/compare_canonical/fit3d_gt_pkl/s05/compare_input_type_s05_mule_kick_58860488.mp4 already exists\n",
      "/home/hrai/codes/MotionBERT/custom_codes/Canonical/compare_canonical/fit3d_gt_pkl/s11/compare_input_type_s11_warmup_11_60457274.mp4 already exists\n",
      "/home/hrai/codes/MotionBERT/custom_codes/Canonical/compare_canonical/fit3d_gt_pkl/s08/compare_input_type_s08_dumbbell_high_pulls_50591643.mp4 already exists\n",
      "/home/hrai/codes/MotionBERT/custom_codes/Canonical/compare_canonical/fit3d_gt_pkl/s08/compare_input_type_s08_pushup_60457274.mp4 already exists\n",
      "/home/hrai/codes/MotionBERT/custom_codes/Canonical/compare_canonical/fit3d_gt_pkl/s08/compare_input_type_s08_warmup_13_65906101.mp4 already exists\n",
      "/home/hrai/codes/MotionBERT/custom_codes/Canonical/compare_canonical/fit3d_gt_pkl/s07/compare_input_type_s07_squat_65906101.mp4 already exists\n",
      "/home/hrai/codes/MotionBERT/custom_codes/Canonical/compare_canonical/fit3d_gt_pkl/s09/compare_input_type_s09_side_lateral_raise_50591643.mp4 already exists\n",
      "/home/hrai/codes/MotionBERT/custom_codes/Canonical/compare_canonical/fit3d_gt_pkl/s07/compare_input_type_s07_drag_curl_50591643.mp4 already exists\n",
      "/home/hrai/codes/MotionBERT/custom_codes/Canonical/compare_canonical/fit3d_gt_pkl/s05/compare_input_type_s05_warmup_7_50591643.mp4 already exists\n",
      "/home/hrai/codes/MotionBERT/custom_codes/Canonical/compare_canonical/fit3d_gt_pkl/s11/compare_input_type_s11_warmup_9_50591643.mp4 already exists\n",
      "/home/hrai/codes/MotionBERT/custom_codes/Canonical/compare_canonical/fit3d_gt_pkl/s09/compare_input_type_s09_warmup_12_60457274.mp4 already exists\n",
      "/home/hrai/codes/MotionBERT/custom_codes/Canonical/compare_canonical/fit3d_gt_pkl/s09/compare_input_type_s09_warmup_17_65906101.mp4 already exists\n",
      "/home/hrai/codes/MotionBERT/custom_codes/Canonical/compare_canonical/fit3d_gt_pkl/s04/compare_input_type_s04_deadlift_50591643.mp4 already exists\n",
      "/home/hrai/codes/MotionBERT/custom_codes/Canonical/compare_canonical/fit3d_gt_pkl/s10/compare_input_type_s10_dumbbell_hammer_curls_50591643.mp4 already exists\n",
      "/home/hrai/codes/MotionBERT/custom_codes/Canonical/compare_canonical/fit3d_gt_pkl/s08/compare_input_type_s08_warmup_14_60457274.mp4 already exists\n",
      "/home/hrai/codes/MotionBERT/custom_codes/Canonical/compare_canonical/fit3d_gt_pkl/s08/compare_input_type_s08_dumbbell_scaptions_58860488.mp4 already exists\n",
      "/home/hrai/codes/MotionBERT/custom_codes/Canonical/compare_canonical/fit3d_gt_pkl/s11/compare_input_type_s11_dumbbell_scaptions_50591643.mp4 already exists\n",
      "/home/hrai/codes/MotionBERT/custom_codes/Canonical/compare_canonical/fit3d_gt_pkl/s11/compare_input_type_s11_barbell_dead_row_60457274.mp4 already exists\n",
      "/home/hrai/codes/MotionBERT/custom_codes/Canonical/compare_canonical/fit3d_gt_pkl/s05/compare_input_type_s05_warmup_16_50591643.mp4 already exists\n",
      "/home/hrai/codes/MotionBERT/custom_codes/Canonical/compare_canonical/fit3d_gt_pkl/s11/compare_input_type_s11_dumbbell_hammer_curls_65906101.mp4 already exists\n",
      "/home/hrai/codes/MotionBERT/custom_codes/Canonical/compare_canonical/fit3d_gt_pkl/s11/compare_input_type_s11_one_arm_row_50591643.mp4 already exists\n",
      "/home/hrai/codes/MotionBERT/custom_codes/Canonical/compare_canonical/fit3d_gt_pkl/s08/compare_input_type_s08_warmup_18_50591643.mp4 already exists\n",
      "/home/hrai/codes/MotionBERT/custom_codes/Canonical/compare_canonical/fit3d_gt_pkl/s08/compare_input_type_s08_warmup_16_65906101.mp4 already exists\n",
      "/home/hrai/codes/MotionBERT/custom_codes/Canonical/compare_canonical/fit3d_gt_pkl/s09/compare_input_type_s09_side_lateral_raise_65906101.mp4 already exists\n",
      "/home/hrai/codes/MotionBERT/custom_codes/Canonical/compare_canonical/fit3d_gt_pkl/s03/compare_input_type_s03_man_maker_60457274.mp4 already exists\n",
      "/home/hrai/codes/MotionBERT/custom_codes/Canonical/compare_canonical/fit3d_gt_pkl/s03/compare_input_type_s03_dumbbell_reverse_lunge_50591643.mp4 already exists\n",
      "/home/hrai/codes/MotionBERT/custom_codes/Canonical/compare_canonical/fit3d_gt_pkl/s09/compare_input_type_s09_standing_ab_twists_50591643.mp4 already exists\n",
      "/home/hrai/codes/MotionBERT/custom_codes/Canonical/compare_canonical/fit3d_gt_pkl/s10/compare_input_type_s10_barbell_row_58860488.mp4 already exists\n",
      "/home/hrai/codes/MotionBERT/custom_codes/Canonical/compare_canonical/fit3d_gt_pkl/s08/compare_input_type_s08_squat_58860488.mp4 already exists\n",
      "/home/hrai/codes/MotionBERT/custom_codes/Canonical/compare_canonical/fit3d_gt_pkl/s03/compare_input_type_s03_warmup_14_65906101.mp4 already exists\n",
      "/home/hrai/codes/MotionBERT/custom_codes/Canonical/compare_canonical/fit3d_gt_pkl/s08/compare_input_type_s08_warmup_6_65906101.mp4 already exists\n",
      "/home/hrai/codes/MotionBERT/custom_codes/Canonical/compare_canonical/fit3d_gt_pkl/s11/compare_input_type_s11_barbell_dead_row_58860488.mp4 already exists\n",
      "/home/hrai/codes/MotionBERT/custom_codes/Canonical/compare_canonical/fit3d_gt_pkl/s08/compare_input_type_s08_warmup_14_65906101.mp4 already exists\n",
      "/home/hrai/codes/MotionBERT/custom_codes/Canonical/compare_canonical/fit3d_gt_pkl/s11/compare_input_type_s11_dumbbell_reverse_lunge_65906101.mp4 already exists\n",
      "/home/hrai/codes/MotionBERT/custom_codes/Canonical/compare_canonical/fit3d_gt_pkl/s10/compare_input_type_s10_warmup_11_60457274.mp4 already exists\n",
      "/home/hrai/codes/MotionBERT/custom_codes/Canonical/compare_canonical/fit3d_gt_pkl/s07/compare_input_type_s07_warmup_1_58860488.mp4 already exists\n",
      "/home/hrai/codes/MotionBERT/custom_codes/Canonical/compare_canonical/fit3d_gt_pkl/s11/compare_input_type_s11_pushup_60457274.mp4 already exists\n",
      "/home/hrai/codes/MotionBERT/custom_codes/Canonical/compare_canonical/fit3d_gt_pkl/s08/compare_input_type_s08_warmup_5_60457274.mp4 already exists\n",
      "/home/hrai/codes/MotionBERT/custom_codes/Canonical/compare_canonical/fit3d_gt_pkl/s09/compare_input_type_s09_burpees_60457274.mp4 already exists\n",
      "/home/hrai/codes/MotionBERT/custom_codes/Canonical/compare_canonical/fit3d_gt_pkl/s03/compare_input_type_s03_warmup_3_50591643.mp4 already exists\n",
      "/home/hrai/codes/MotionBERT/custom_codes/Canonical/compare_canonical/fit3d_gt_pkl/s03/compare_input_type_s03_warmup_19_58860488.mp4 already exists\n",
      "/home/hrai/codes/MotionBERT/custom_codes/Canonical/compare_canonical/fit3d_gt_pkl/s04/compare_input_type_s04_warmup_8_50591643.mp4 already exists\n",
      "/home/hrai/codes/MotionBERT/custom_codes/Canonical/compare_canonical/fit3d_gt_pkl/s08/compare_input_type_s08_barbell_row_65906101.mp4 already exists\n",
      "/home/hrai/codes/MotionBERT/custom_codes/Canonical/compare_canonical/fit3d_gt_pkl/s07/compare_input_type_s07_mule_kick_60457274.mp4 already exists\n",
      "/home/hrai/codes/MotionBERT/custom_codes/Canonical/compare_canonical/fit3d_gt_pkl/s11/compare_input_type_s11_warmup_17_50591643.mp4 already exists\n",
      "/home/hrai/codes/MotionBERT/custom_codes/Canonical/compare_canonical/fit3d_gt_pkl/s09/compare_input_type_s09_warmup_1_50591643.mp4 already exists\n",
      "/home/hrai/codes/MotionBERT/custom_codes/Canonical/compare_canonical/fit3d_gt_pkl/s03/compare_input_type_s03_walk_the_box_50591643.mp4 already exists\n",
      "/home/hrai/codes/MotionBERT/custom_codes/Canonical/compare_canonical/fit3d_gt_pkl/s07/compare_input_type_s07_warmup_14_50591643.mp4 already exists\n",
      "/home/hrai/codes/MotionBERT/custom_codes/Canonical/compare_canonical/fit3d_gt_pkl/s04/compare_input_type_s04_dumbbell_reverse_lunge_65906101.mp4 already exists\n",
      "/home/hrai/codes/MotionBERT/custom_codes/Canonical/compare_canonical/fit3d_gt_pkl/s03/compare_input_type_s03_warmup_15_65906101.mp4 already exists\n",
      "/home/hrai/codes/MotionBERT/custom_codes/Canonical/compare_canonical/fit3d_gt_pkl/s08/compare_input_type_s08_neutral_overhead_shoulder_press_58860488.mp4 already exists\n",
      "/home/hrai/codes/MotionBERT/custom_codes/Canonical/compare_canonical/fit3d_gt_pkl/s08/compare_input_type_s08_warmup_5_50591643.mp4 already exists\n",
      "/home/hrai/codes/MotionBERT/custom_codes/Canonical/compare_canonical/fit3d_gt_pkl/s03/compare_input_type_s03_warmup_8_50591643.mp4 already exists\n",
      "/home/hrai/codes/MotionBERT/custom_codes/Canonical/compare_canonical/fit3d_gt_pkl/s07/compare_input_type_s07_warmup_9_58860488.mp4 already exists\n",
      "/home/hrai/codes/MotionBERT/custom_codes/Canonical/compare_canonical/fit3d_gt_pkl/s03/compare_input_type_s03_warmup_7_65906101.mp4 already exists\n",
      "/home/hrai/codes/MotionBERT/custom_codes/Canonical/compare_canonical/fit3d_gt_pkl/s04/compare_input_type_s04_warmup_5_60457274.mp4 already exists\n",
      "/home/hrai/codes/MotionBERT/custom_codes/Canonical/compare_canonical/fit3d_gt_pkl/s11/compare_input_type_s11_warmup_18_50591643.mp4 already exists\n",
      "/home/hrai/codes/MotionBERT/custom_codes/Canonical/compare_canonical/fit3d_gt_pkl/s07/compare_input_type_s07_warmup_4_65906101.mp4 already exists\n",
      "/home/hrai/codes/MotionBERT/custom_codes/Canonical/compare_canonical/fit3d_gt_pkl/s03/compare_input_type_s03_mule_kick_58860488.mp4 already exists\n",
      "/home/hrai/codes/MotionBERT/custom_codes/Canonical/compare_canonical/fit3d_gt_pkl/s11/compare_input_type_s11_warmup_11_65906101.mp4 already exists\n",
      "/home/hrai/codes/MotionBERT/custom_codes/Canonical/compare_canonical/fit3d_gt_pkl/s04/compare_input_type_s04_dumbbell_scaptions_50591643.mp4 already exists\n",
      "/home/hrai/codes/MotionBERT/custom_codes/Canonical/compare_canonical/fit3d_gt_pkl/s09/compare_input_type_s09_warmup_12_65906101.mp4 already exists\n",
      "/home/hrai/codes/MotionBERT/custom_codes/Canonical/compare_canonical/fit3d_gt_pkl/s10/compare_input_type_s10_diamond_pushup_65906101.mp4 already exists\n",
      "/home/hrai/codes/MotionBERT/custom_codes/Canonical/compare_canonical/fit3d_gt_pkl/s04/compare_input_type_s04_mule_kick_58860488.mp4 already exists\n",
      "/home/hrai/codes/MotionBERT/custom_codes/Canonical/compare_canonical/fit3d_gt_pkl/s05/compare_input_type_s05_warmup_19_65906101.mp4 already exists\n",
      "/home/hrai/codes/MotionBERT/custom_codes/Canonical/compare_canonical/fit3d_gt_pkl/s09/compare_input_type_s09_side_lateral_raise_60457274.mp4 already exists\n",
      "/home/hrai/codes/MotionBERT/custom_codes/Canonical/compare_canonical/fit3d_gt_pkl/s03/compare_input_type_s03_band_pull_apart_58860488.mp4 already exists\n",
      "/home/hrai/codes/MotionBERT/custom_codes/Canonical/compare_canonical/fit3d_gt_pkl/s05/compare_input_type_s05_warmup_11_58860488.mp4 already exists\n",
      "/home/hrai/codes/MotionBERT/custom_codes/Canonical/compare_canonical/fit3d_gt_pkl/s09/compare_input_type_s09_warmup_19_50591643.mp4 already exists\n",
      "/home/hrai/codes/MotionBERT/custom_codes/Canonical/compare_canonical/fit3d_gt_pkl/s03/compare_input_type_s03_warmup_1_60457274.mp4 already exists\n",
      "/home/hrai/codes/MotionBERT/custom_codes/Canonical/compare_canonical/fit3d_gt_pkl/s05/compare_input_type_s05_walk_the_box_65906101.mp4 already exists\n",
      "/home/hrai/codes/MotionBERT/custom_codes/Canonical/compare_canonical/fit3d_gt_pkl/s05/compare_input_type_s05_walk_the_box_60457274.mp4 already exists\n",
      "/home/hrai/codes/MotionBERT/custom_codes/Canonical/compare_canonical/fit3d_gt_pkl/s07/compare_input_type_s07_warmup_8_65906101.mp4 already exists\n",
      "/home/hrai/codes/MotionBERT/custom_codes/Canonical/compare_canonical/fit3d_gt_pkl/s11/compare_input_type_s11_one_arm_row_65906101.mp4 already exists\n",
      "/home/hrai/codes/MotionBERT/custom_codes/Canonical/compare_canonical/fit3d_gt_pkl/s09/compare_input_type_s09_clean_and_press_65906101.mp4 already exists\n",
      "/home/hrai/codes/MotionBERT/custom_codes/Canonical/compare_canonical/fit3d_gt_pkl/s09/compare_input_type_s09_warmup_11_50591643.mp4 already exists\n",
      "/home/hrai/codes/MotionBERT/custom_codes/Canonical/compare_canonical/fit3d_gt_pkl/s08/compare_input_type_s08_dumbbell_reverse_lunge_60457274.mp4 already exists\n",
      "/home/hrai/codes/MotionBERT/custom_codes/Canonical/compare_canonical/fit3d_gt_pkl/s05/compare_input_type_s05_warmup_6_65906101.mp4 already exists\n",
      "/home/hrai/codes/MotionBERT/custom_codes/Canonical/compare_canonical/fit3d_gt_pkl/s10/compare_input_type_s10_burpees_65906101.mp4 already exists\n",
      "/home/hrai/codes/MotionBERT/custom_codes/Canonical/compare_canonical/fit3d_gt_pkl/s03/compare_input_type_s03_warmup_6_65906101.mp4 already exists\n",
      "/home/hrai/codes/MotionBERT/custom_codes/Canonical/compare_canonical/fit3d_gt_pkl/s10/compare_input_type_s10_deadlift_60457274.mp4 already exists\n",
      "/home/hrai/codes/MotionBERT/custom_codes/Canonical/compare_canonical/fit3d_gt_pkl/s08/compare_input_type_s08_overhead_extension_thruster_50591643.mp4 already exists\n",
      "/home/hrai/codes/MotionBERT/custom_codes/Canonical/compare_canonical/fit3d_gt_pkl/s11/compare_input_type_s11_squat_58860488.mp4 already exists\n",
      "/home/hrai/codes/MotionBERT/custom_codes/Canonical/compare_canonical/fit3d_gt_pkl/s11/compare_input_type_s11_clean_and_press_60457274.mp4 already exists\n",
      "/home/hrai/codes/MotionBERT/custom_codes/Canonical/compare_canonical/fit3d_gt_pkl/s09/compare_input_type_s09_warmup_10_50591643.mp4 already exists\n",
      "/home/hrai/codes/MotionBERT/custom_codes/Canonical/compare_canonical/fit3d_gt_pkl/s05/compare_input_type_s05_dumbbell_high_pulls_65906101.mp4 already exists\n",
      "/home/hrai/codes/MotionBERT/custom_codes/Canonical/compare_canonical/fit3d_gt_pkl/s11/compare_input_type_s11_walk_the_box_50591643.mp4 already exists\n",
      "/home/hrai/codes/MotionBERT/custom_codes/Canonical/compare_canonical/fit3d_gt_pkl/s07/compare_input_type_s07_warmup_19_58860488.mp4 already exists\n",
      "/home/hrai/codes/MotionBERT/custom_codes/Canonical/compare_canonical/fit3d_gt_pkl/s03/compare_input_type_s03_dumbbell_overhead_shoulder_press_50591643.mp4 already exists\n",
      "/home/hrai/codes/MotionBERT/custom_codes/Canonical/compare_canonical/fit3d_gt_pkl/s04/compare_input_type_s04_warmup_13_58860488.mp4 already exists\n",
      "/home/hrai/codes/MotionBERT/custom_codes/Canonical/compare_canonical/fit3d_gt_pkl/s05/compare_input_type_s05_warmup_16_65906101.mp4 already exists\n",
      "/home/hrai/codes/MotionBERT/custom_codes/Canonical/compare_canonical/fit3d_gt_pkl/s04/compare_input_type_s04_dumbbell_biceps_curls_60457274.mp4 already exists\n",
      "/home/hrai/codes/MotionBERT/custom_codes/Canonical/compare_canonical/fit3d_gt_pkl/s05/compare_input_type_s05_dumbbell_biceps_curls_60457274.mp4 already exists\n",
      "/home/hrai/codes/MotionBERT/custom_codes/Canonical/compare_canonical/fit3d_gt_pkl/s04/compare_input_type_s04_warmup_16_58860488.mp4 already exists\n",
      "/home/hrai/codes/MotionBERT/custom_codes/Canonical/compare_canonical/fit3d_gt_pkl/s03/compare_input_type_s03_warmup_12_60457274.mp4 already exists\n",
      "/home/hrai/codes/MotionBERT/custom_codes/Canonical/compare_canonical/fit3d_gt_pkl/s09/compare_input_type_s09_warmup_17_60457274.mp4 already exists\n",
      "/home/hrai/codes/MotionBERT/custom_codes/Canonical/compare_canonical/fit3d_gt_pkl/s08/compare_input_type_s08_burpees_58860488.mp4 already exists\n",
      "/home/hrai/codes/MotionBERT/custom_codes/Canonical/compare_canonical/fit3d_gt_pkl/s08/compare_input_type_s08_warmup_2_50591643.mp4 already exists\n",
      "/home/hrai/codes/MotionBERT/custom_codes/Canonical/compare_canonical/fit3d_gt_pkl/s04/compare_input_type_s04_dumbbell_hammer_curls_65906101.mp4 already exists\n",
      "/home/hrai/codes/MotionBERT/custom_codes/Canonical/compare_canonical/fit3d_gt_pkl/s05/compare_input_type_s05_squat_60457274.mp4 already exists\n",
      "/home/hrai/codes/MotionBERT/custom_codes/Canonical/compare_canonical/fit3d_gt_pkl/s08/compare_input_type_s08_mule_kick_60457274.mp4 already exists\n",
      "/home/hrai/codes/MotionBERT/custom_codes/Canonical/compare_canonical/fit3d_gt_pkl/s09/compare_input_type_s09_dumbbell_scaptions_65906101.mp4 already exists\n",
      "/home/hrai/codes/MotionBERT/custom_codes/Canonical/compare_canonical/fit3d_gt_pkl/s04/compare_input_type_s04_warmup_19_60457274.mp4 already exists\n",
      "/home/hrai/codes/MotionBERT/custom_codes/Canonical/compare_canonical/fit3d_gt_pkl/s11/compare_input_type_s11_warmup_18_65906101.mp4 already exists\n",
      "/home/hrai/codes/MotionBERT/custom_codes/Canonical/compare_canonical/fit3d_gt_pkl/s07/compare_input_type_s07_standing_ab_twists_60457274.mp4 already exists\n",
      "/home/hrai/codes/MotionBERT/custom_codes/Canonical/compare_canonical/fit3d_gt_pkl/s08/compare_input_type_s08_warmup_11_65906101.mp4 already exists\n",
      "/home/hrai/codes/MotionBERT/custom_codes/Canonical/compare_canonical/fit3d_gt_pkl/s03/compare_input_type_s03_barbell_row_65906101.mp4 already exists\n",
      "/home/hrai/codes/MotionBERT/custom_codes/Canonical/compare_canonical/fit3d_gt_pkl/s08/compare_input_type_s08_deadlift_60457274.mp4 already exists\n",
      "/home/hrai/codes/MotionBERT/custom_codes/Canonical/compare_canonical/fit3d_gt_pkl/s09/compare_input_type_s09_band_pull_apart_58860488.mp4 already exists\n",
      "/home/hrai/codes/MotionBERT/custom_codes/Canonical/compare_canonical/fit3d_gt_pkl/s07/compare_input_type_s07_warmup_2_60457274.mp4 already exists\n",
      "/home/hrai/codes/MotionBERT/custom_codes/Canonical/compare_canonical/fit3d_gt_pkl/s04/compare_input_type_s04_barbell_shrug_65906101.mp4 already exists\n",
      "/home/hrai/codes/MotionBERT/custom_codes/Canonical/compare_canonical/fit3d_gt_pkl/s04/compare_input_type_s04_dumbbell_high_pulls_60457274.mp4 already exists\n",
      "/home/hrai/codes/MotionBERT/custom_codes/Canonical/compare_canonical/fit3d_gt_pkl/s05/compare_input_type_s05_warmup_7_58860488.mp4 already exists\n",
      "/home/hrai/codes/MotionBERT/custom_codes/Canonical/compare_canonical/fit3d_gt_pkl/s09/compare_input_type_s09_dumbbell_curl_trifecta_50591643.mp4 already exists\n",
      "/home/hrai/codes/MotionBERT/custom_codes/Canonical/compare_canonical/fit3d_gt_pkl/s10/compare_input_type_s10_clean_and_press_65906101.mp4 already exists\n",
      "/home/hrai/codes/MotionBERT/custom_codes/Canonical/compare_canonical/fit3d_gt_pkl/s11/compare_input_type_s11_dumbbell_overhead_shoulder_press_60457274.mp4 already exists\n",
      "/home/hrai/codes/MotionBERT/custom_codes/Canonical/compare_canonical/fit3d_gt_pkl/s11/compare_input_type_s11_dumbbell_biceps_curls_50591643.mp4 already exists\n",
      "/home/hrai/codes/MotionBERT/custom_codes/Canonical/compare_canonical/fit3d_gt_pkl/s05/compare_input_type_s05_warmup_1_50591643.mp4 already exists\n",
      "/home/hrai/codes/MotionBERT/custom_codes/Canonical/compare_canonical/fit3d_gt_pkl/s09/compare_input_type_s09_walk_the_box_60457274.mp4 already exists\n",
      "/home/hrai/codes/MotionBERT/custom_codes/Canonical/compare_canonical/fit3d_gt_pkl/s04/compare_input_type_s04_warmup_10_65906101.mp4 already exists\n",
      "/home/hrai/codes/MotionBERT/custom_codes/Canonical/compare_canonical/fit3d_gt_pkl/s03/compare_input_type_s03_warmup_12_65906101.mp4 already exists\n",
      "/home/hrai/codes/MotionBERT/custom_codes/Canonical/compare_canonical/fit3d_gt_pkl/s11/compare_input_type_s11_warmup_2_60457274.mp4 already exists\n",
      "/home/hrai/codes/MotionBERT/custom_codes/Canonical/compare_canonical/fit3d_gt_pkl/s03/compare_input_type_s03_dumbbell_overhead_shoulder_press_65906101.mp4 already exists\n",
      "/home/hrai/codes/MotionBERT/custom_codes/Canonical/compare_canonical/fit3d_gt_pkl/s04/compare_input_type_s04_squat_58860488.mp4 already exists\n",
      "/home/hrai/codes/MotionBERT/custom_codes/Canonical/compare_canonical/fit3d_gt_pkl/s11/compare_input_type_s11_w_raise_58860488.mp4 already exists\n",
      "/home/hrai/codes/MotionBERT/custom_codes/Canonical/compare_canonical/fit3d_gt_pkl/s11/compare_input_type_s11_diamond_pushup_65906101.mp4 already exists\n",
      "/home/hrai/codes/MotionBERT/custom_codes/Canonical/compare_canonical/fit3d_gt_pkl/s10/compare_input_type_s10_dumbbell_curl_trifecta_50591643.mp4 already exists\n",
      "/home/hrai/codes/MotionBERT/custom_codes/Canonical/compare_canonical/fit3d_gt_pkl/s10/compare_input_type_s10_warmup_10_50591643.mp4 already exists\n",
      "/home/hrai/codes/MotionBERT/custom_codes/Canonical/compare_canonical/fit3d_gt_pkl/s08/compare_input_type_s08_warmup_13_58860488.mp4 already exists\n",
      "/home/hrai/codes/MotionBERT/custom_codes/Canonical/compare_canonical/fit3d_gt_pkl/s11/compare_input_type_s11_warmup_16_65906101.mp4 already exists\n",
      "/home/hrai/codes/MotionBERT/custom_codes/Canonical/compare_canonical/fit3d_gt_pkl/s10/compare_input_type_s10_barbell_shrug_50591643.mp4 already exists\n",
      "/home/hrai/codes/MotionBERT/custom_codes/Canonical/compare_canonical/fit3d_gt_pkl/s05/compare_input_type_s05_diamond_pushup_65906101.mp4 already exists\n",
      "/home/hrai/codes/MotionBERT/custom_codes/Canonical/compare_canonical/fit3d_gt_pkl/s09/compare_input_type_s09_burpees_58860488.mp4 already exists\n",
      "/home/hrai/codes/MotionBERT/custom_codes/Canonical/compare_canonical/fit3d_gt_pkl/s08/compare_input_type_s08_warmup_9_50591643.mp4 already exists\n",
      "/home/hrai/codes/MotionBERT/custom_codes/Canonical/compare_canonical/fit3d_gt_pkl/s04/compare_input_type_s04_warmup_19_65906101.mp4 already exists\n",
      "/home/hrai/codes/MotionBERT/custom_codes/Canonical/compare_canonical/fit3d_gt_pkl/s09/compare_input_type_s09_overhead_extension_thruster_58860488.mp4 already exists\n",
      "/home/hrai/codes/MotionBERT/custom_codes/Canonical/compare_canonical/fit3d_gt_pkl/s11/compare_input_type_s11_burpees_58860488.mp4 already exists\n",
      "/home/hrai/codes/MotionBERT/custom_codes/Canonical/compare_canonical/fit3d_gt_pkl/s05/compare_input_type_s05_standing_ab_twists_50591643.mp4 already exists\n",
      "/home/hrai/codes/MotionBERT/custom_codes/Canonical/compare_canonical/fit3d_gt_pkl/s07/compare_input_type_s07_warmup_17_65906101.mp4 already exists\n",
      "/home/hrai/codes/MotionBERT/custom_codes/Canonical/compare_canonical/fit3d_gt_pkl/s10/compare_input_type_s10_warmup_14_58860488.mp4 already exists\n",
      "/home/hrai/codes/MotionBERT/custom_codes/Canonical/compare_canonical/fit3d_gt_pkl/s05/compare_input_type_s05_warmup_1_65906101.mp4 already exists\n",
      "/home/hrai/codes/MotionBERT/custom_codes/Canonical/compare_canonical/fit3d_gt_pkl/s07/compare_input_type_s07_walk_the_box_65906101.mp4 already exists\n",
      "/home/hrai/codes/MotionBERT/custom_codes/Canonical/compare_canonical/fit3d_gt_pkl/s07/compare_input_type_s07_dumbbell_scaptions_58860488.mp4 already exists\n",
      "/home/hrai/codes/MotionBERT/custom_codes/Canonical/compare_canonical/fit3d_gt_pkl/s04/compare_input_type_s04_warmup_17_50591643.mp4 already exists\n",
      "/home/hrai/codes/MotionBERT/custom_codes/Canonical/compare_canonical/fit3d_gt_pkl/s03/compare_input_type_s03_warmup_5_50591643.mp4 already exists\n",
      "/home/hrai/codes/MotionBERT/custom_codes/Canonical/compare_canonical/fit3d_gt_pkl/s08/compare_input_type_s08_pushup_65906101.mp4 already exists\n",
      "/home/hrai/codes/MotionBERT/custom_codes/Canonical/compare_canonical/fit3d_gt_pkl/s10/compare_input_type_s10_warmup_10_65906101.mp4 already exists\n",
      "/home/hrai/codes/MotionBERT/custom_codes/Canonical/compare_canonical/fit3d_gt_pkl/s07/compare_input_type_s07_squat_50591643.mp4 already exists\n",
      "/home/hrai/codes/MotionBERT/custom_codes/Canonical/compare_canonical/fit3d_gt_pkl/s05/compare_input_type_s05_warmup_19_60457274.mp4 already exists\n",
      "/home/hrai/codes/MotionBERT/custom_codes/Canonical/compare_canonical/fit3d_gt_pkl/s03/compare_input_type_s03_warmup_6_50591643.mp4 already exists\n",
      "/home/hrai/codes/MotionBERT/custom_codes/Canonical/compare_canonical/fit3d_gt_pkl/s11/compare_input_type_s11_w_raise_50591643.mp4 already exists\n",
      "/home/hrai/codes/MotionBERT/custom_codes/Canonical/compare_canonical/fit3d_gt_pkl/s07/compare_input_type_s07_warmup_10_58860488.mp4 already exists\n",
      "/home/hrai/codes/MotionBERT/custom_codes/Canonical/compare_canonical/fit3d_gt_pkl/s09/compare_input_type_s09_w_raise_50591643.mp4 already exists\n",
      "/home/hrai/codes/MotionBERT/custom_codes/Canonical/compare_canonical/fit3d_gt_pkl/s03/compare_input_type_s03_warmup_11_50591643.mp4 already exists\n",
      "/home/hrai/codes/MotionBERT/custom_codes/Canonical/compare_canonical/fit3d_gt_pkl/s09/compare_input_type_s09_clean_and_press_50591643.mp4 already exists\n",
      "/home/hrai/codes/MotionBERT/custom_codes/Canonical/compare_canonical/fit3d_gt_pkl/s10/compare_input_type_s10_warmup_9_65906101.mp4 already exists\n",
      "/home/hrai/codes/MotionBERT/custom_codes/Canonical/compare_canonical/fit3d_gt_pkl/s10/compare_input_type_s10_barbell_dead_row_60457274.mp4 already exists\n",
      "/home/hrai/codes/MotionBERT/custom_codes/Canonical/compare_canonical/fit3d_gt_pkl/s09/compare_input_type_s09_barbell_row_58860488.mp4 already exists\n",
      "/home/hrai/codes/MotionBERT/custom_codes/Canonical/compare_canonical/fit3d_gt_pkl/s04/compare_input_type_s04_squat_60457274.mp4 already exists\n",
      "/home/hrai/codes/MotionBERT/custom_codes/Canonical/compare_canonical/fit3d_gt_pkl/s03/compare_input_type_s03_clean_and_press_65906101.mp4 already exists\n",
      "/home/hrai/codes/MotionBERT/custom_codes/Canonical/compare_canonical/fit3d_gt_pkl/s07/compare_input_type_s07_dumbbell_reverse_lunge_50591643.mp4 already exists\n",
      "/home/hrai/codes/MotionBERT/custom_codes/Canonical/compare_canonical/fit3d_gt_pkl/s11/compare_input_type_s11_warmup_12_60457274.mp4 already exists\n",
      "/home/hrai/codes/MotionBERT/custom_codes/Canonical/compare_canonical/fit3d_gt_pkl/s11/compare_input_type_s11_warmup_11_50591643.mp4 already exists\n",
      "/home/hrai/codes/MotionBERT/custom_codes/Canonical/compare_canonical/fit3d_gt_pkl/s10/compare_input_type_s10_warmup_17_50591643.mp4 already exists\n",
      "/home/hrai/codes/MotionBERT/custom_codes/Canonical/compare_canonical/fit3d_gt_pkl/s04/compare_input_type_s04_barbell_shrug_60457274.mp4 already exists\n",
      "/home/hrai/codes/MotionBERT/custom_codes/Canonical/compare_canonical/fit3d_gt_pkl/s11/compare_input_type_s11_dumbbell_scaptions_60457274.mp4 already exists\n",
      "/home/hrai/codes/MotionBERT/custom_codes/Canonical/compare_canonical/fit3d_gt_pkl/s09/compare_input_type_s09_walk_the_box_65906101.mp4 already exists\n",
      "/home/hrai/codes/MotionBERT/custom_codes/Canonical/compare_canonical/fit3d_gt_pkl/s05/compare_input_type_s05_man_maker_58860488.mp4 already exists\n",
      "/home/hrai/codes/MotionBERT/custom_codes/Canonical/compare_canonical/fit3d_gt_pkl/s03/compare_input_type_s03_warmup_1_50591643.mp4 already exists\n",
      "/home/hrai/codes/MotionBERT/custom_codes/Canonical/compare_canonical/fit3d_gt_pkl/s04/compare_input_type_s04_walk_the_box_60457274.mp4 already exists\n",
      "/home/hrai/codes/MotionBERT/custom_codes/Canonical/compare_canonical/fit3d_gt_pkl/s07/compare_input_type_s07_barbell_dead_row_58860488.mp4 already exists\n",
      "/home/hrai/codes/MotionBERT/custom_codes/Canonical/compare_canonical/fit3d_gt_pkl/s03/compare_input_type_s03_warmup_9_60457274.mp4 already exists\n",
      "/home/hrai/codes/MotionBERT/custom_codes/Canonical/compare_canonical/fit3d_gt_pkl/s11/compare_input_type_s11_diamond_pushup_50591643.mp4 already exists\n",
      "/home/hrai/codes/MotionBERT/custom_codes/Canonical/compare_canonical/fit3d_gt_pkl/s08/compare_input_type_s08_dumbbell_reverse_lunge_65906101.mp4 already exists\n",
      "/home/hrai/codes/MotionBERT/custom_codes/Canonical/compare_canonical/fit3d_gt_pkl/s08/compare_input_type_s08_dumbbell_hammer_curls_58860488.mp4 already exists\n",
      "/home/hrai/codes/MotionBERT/custom_codes/Canonical/compare_canonical/fit3d_gt_pkl/s05/compare_input_type_s05_warmup_2_50591643.mp4 already exists\n",
      "/home/hrai/codes/MotionBERT/custom_codes/Canonical/compare_canonical/fit3d_gt_pkl/s11/compare_input_type_s11_deadlift_50591643.mp4 already exists\n",
      "/home/hrai/codes/MotionBERT/custom_codes/Canonical/compare_canonical/fit3d_gt_pkl/s03/compare_input_type_s03_overhead_extension_thruster_60457274.mp4 already exists\n",
      "/home/hrai/codes/MotionBERT/custom_codes/Canonical/compare_canonical/fit3d_gt_pkl/s04/compare_input_type_s04_man_maker_65906101.mp4 already exists\n",
      "/home/hrai/codes/MotionBERT/custom_codes/Canonical/compare_canonical/fit3d_gt_pkl/s05/compare_input_type_s05_w_raise_58860488.mp4 already exists\n",
      "/home/hrai/codes/MotionBERT/custom_codes/Canonical/compare_canonical/fit3d_gt_pkl/s07/compare_input_type_s07_dumbbell_biceps_curls_50591643.mp4 already exists\n",
      "/home/hrai/codes/MotionBERT/custom_codes/Canonical/compare_canonical/fit3d_gt_pkl/s10/compare_input_type_s10_w_raise_50591643.mp4 already exists\n",
      "/home/hrai/codes/MotionBERT/custom_codes/Canonical/compare_canonical/fit3d_gt_pkl/s03/compare_input_type_s03_warmup_10_50591643.mp4 already exists\n",
      "/home/hrai/codes/MotionBERT/custom_codes/Canonical/compare_canonical/fit3d_gt_pkl/s08/compare_input_type_s08_warmup_3_60457274.mp4 already exists\n",
      "/home/hrai/codes/MotionBERT/custom_codes/Canonical/compare_canonical/fit3d_gt_pkl/s11/compare_input_type_s11_warmup_18_60457274.mp4 already exists\n",
      "/home/hrai/codes/MotionBERT/custom_codes/Canonical/compare_canonical/fit3d_gt_pkl/s04/compare_input_type_s04_clean_and_press_60457274.mp4 already exists\n",
      "/home/hrai/codes/MotionBERT/custom_codes/Canonical/compare_canonical/fit3d_gt_pkl/s07/compare_input_type_s07_overhead_trap_raises_60457274.mp4 already exists\n",
      "/home/hrai/codes/MotionBERT/custom_codes/Canonical/compare_canonical/fit3d_gt_pkl/s05/compare_input_type_s05_warmup_10_50591643.mp4 already exists\n",
      "/home/hrai/codes/MotionBERT/custom_codes/Canonical/compare_canonical/fit3d_gt_pkl/s07/compare_input_type_s07_one_arm_row_60457274.mp4 already exists\n",
      "/home/hrai/codes/MotionBERT/custom_codes/Canonical/compare_canonical/fit3d_gt_pkl/s08/compare_input_type_s08_walk_the_box_65906101.mp4 already exists\n",
      "/home/hrai/codes/MotionBERT/custom_codes/Canonical/compare_canonical/fit3d_gt_pkl/s10/compare_input_type_s10_warmup_8_60457274.mp4 already exists\n",
      "/home/hrai/codes/MotionBERT/custom_codes/Canonical/compare_canonical/fit3d_gt_pkl/s07/compare_input_type_s07_neutral_overhead_shoulder_press_60457274.mp4 already exists\n",
      "/home/hrai/codes/MotionBERT/custom_codes/Canonical/compare_canonical/fit3d_gt_pkl/s05/compare_input_type_s05_warmup_3_50591643.mp4 already exists\n",
      "/home/hrai/codes/MotionBERT/custom_codes/Canonical/compare_canonical/fit3d_gt_pkl/s04/compare_input_type_s04_dumbbell_scaptions_65906101.mp4 already exists\n",
      "/home/hrai/codes/MotionBERT/custom_codes/Canonical/compare_canonical/fit3d_gt_pkl/s04/compare_input_type_s04_dumbbell_overhead_shoulder_press_65906101.mp4 already exists\n",
      "/home/hrai/codes/MotionBERT/custom_codes/Canonical/compare_canonical/fit3d_gt_pkl/s08/compare_input_type_s08_deadlift_50591643.mp4 already exists\n",
      "/home/hrai/codes/MotionBERT/custom_codes/Canonical/compare_canonical/fit3d_gt_pkl/s10/compare_input_type_s10_neutral_overhead_shoulder_press_58860488.mp4 already exists\n",
      "/home/hrai/codes/MotionBERT/custom_codes/Canonical/compare_canonical/fit3d_gt_pkl/s03/compare_input_type_s03_w_raise_58860488.mp4 already exists\n",
      "/home/hrai/codes/MotionBERT/custom_codes/Canonical/compare_canonical/fit3d_gt_pkl/s10/compare_input_type_s10_warmup_12_60457274.mp4 already exists\n",
      "/home/hrai/codes/MotionBERT/custom_codes/Canonical/compare_canonical/fit3d_gt_pkl/s05/compare_input_type_s05_warmup_4_60457274.mp4 already exists\n",
      "/home/hrai/codes/MotionBERT/custom_codes/Canonical/compare_canonical/fit3d_gt_pkl/s08/compare_input_type_s08_dumbbell_scaptions_65906101.mp4 already exists\n",
      "/home/hrai/codes/MotionBERT/custom_codes/Canonical/compare_canonical/fit3d_gt_pkl/s09/compare_input_type_s09_drag_curl_60457274.mp4 already exists\n",
      "/home/hrai/codes/MotionBERT/custom_codes/Canonical/compare_canonical/fit3d_gt_pkl/s08/compare_input_type_s08_w_raise_60457274.mp4 already exists\n",
      "/home/hrai/codes/MotionBERT/custom_codes/Canonical/compare_canonical/fit3d_gt_pkl/s08/compare_input_type_s08_dumbbell_hammer_curls_65906101.mp4 already exists\n",
      "/home/hrai/codes/MotionBERT/custom_codes/Canonical/compare_canonical/fit3d_gt_pkl/s10/compare_input_type_s10_man_maker_50591643.mp4 already exists\n",
      "/home/hrai/codes/MotionBERT/custom_codes/Canonical/compare_canonical/fit3d_gt_pkl/s10/compare_input_type_s10_dumbbell_overhead_shoulder_press_50591643.mp4 already exists\n",
      "/home/hrai/codes/MotionBERT/custom_codes/Canonical/compare_canonical/fit3d_gt_pkl/s03/compare_input_type_s03_squat_58860488.mp4 already exists\n",
      "/home/hrai/codes/MotionBERT/custom_codes/Canonical/compare_canonical/fit3d_gt_pkl/s10/compare_input_type_s10_warmup_11_58860488.mp4 already exists\n",
      "/home/hrai/codes/MotionBERT/custom_codes/Canonical/compare_canonical/fit3d_gt_pkl/s07/compare_input_type_s07_mule_kick_65906101.mp4 already exists\n",
      "/home/hrai/codes/MotionBERT/custom_codes/Canonical/compare_canonical/fit3d_gt_pkl/s07/compare_input_type_s07_warmup_18_65906101.mp4 already exists\n",
      "/home/hrai/codes/MotionBERT/custom_codes/Canonical/compare_canonical/fit3d_gt_pkl/s05/compare_input_type_s05_diamond_pushup_60457274.mp4 already exists\n",
      "/home/hrai/codes/MotionBERT/custom_codes/Canonical/compare_canonical/fit3d_gt_pkl/s07/compare_input_type_s07_deadlift_65906101.mp4 already exists\n",
      "/home/hrai/codes/MotionBERT/custom_codes/Canonical/compare_canonical/fit3d_gt_pkl/s10/compare_input_type_s10_neutral_overhead_shoulder_press_50591643.mp4 already exists\n",
      "/home/hrai/codes/MotionBERT/custom_codes/Canonical/compare_canonical/fit3d_gt_pkl/s10/compare_input_type_s10_warmup_7_50591643.mp4 already exists\n",
      "/home/hrai/codes/MotionBERT/custom_codes/Canonical/compare_canonical/fit3d_gt_pkl/s10/compare_input_type_s10_dumbbell_biceps_curls_50591643.mp4 already exists\n",
      "/home/hrai/codes/MotionBERT/custom_codes/Canonical/compare_canonical/fit3d_gt_pkl/s11/compare_input_type_s11_warmup_3_50591643.mp4 already exists\n",
      "/home/hrai/codes/MotionBERT/custom_codes/Canonical/compare_canonical/fit3d_gt_pkl/s09/compare_input_type_s09_warmup_10_58860488.mp4 already exists\n",
      "/home/hrai/codes/MotionBERT/custom_codes/Canonical/compare_canonical/fit3d_gt_pkl/s05/compare_input_type_s05_barbell_dead_row_58860488.mp4 already exists\n",
      "/home/hrai/codes/MotionBERT/custom_codes/Canonical/compare_canonical/fit3d_gt_pkl/s07/compare_input_type_s07_warmup_18_58860488.mp4 already exists\n",
      "/home/hrai/codes/MotionBERT/custom_codes/Canonical/compare_canonical/fit3d_gt_pkl/s07/compare_input_type_s07_warmup_16_50591643.mp4 already exists\n",
      "/home/hrai/codes/MotionBERT/custom_codes/Canonical/compare_canonical/fit3d_gt_pkl/s03/compare_input_type_s03_warmup_16_50591643.mp4 already exists\n",
      "/home/hrai/codes/MotionBERT/custom_codes/Canonical/compare_canonical/fit3d_gt_pkl/s08/compare_input_type_s08_pushup_58860488.mp4 already exists\n",
      "/home/hrai/codes/MotionBERT/custom_codes/Canonical/compare_canonical/fit3d_gt_pkl/s10/compare_input_type_s10_overhead_trap_raises_50591643.mp4 already exists\n",
      "/home/hrai/codes/MotionBERT/custom_codes/Canonical/compare_canonical/fit3d_gt_pkl/s10/compare_input_type_s10_standing_ab_twists_58860488.mp4 already exists\n",
      "/home/hrai/codes/MotionBERT/custom_codes/Canonical/compare_canonical/fit3d_gt_pkl/s03/compare_input_type_s03_man_maker_65906101.mp4 already exists\n",
      "/home/hrai/codes/MotionBERT/custom_codes/Canonical/compare_canonical/fit3d_gt_pkl/s08/compare_input_type_s08_dumbbell_overhead_shoulder_press_65906101.mp4 already exists\n",
      "/home/hrai/codes/MotionBERT/custom_codes/Canonical/compare_canonical/fit3d_gt_pkl/s04/compare_input_type_s04_warmup_10_50591643.mp4 already exists\n",
      "/home/hrai/codes/MotionBERT/custom_codes/Canonical/compare_canonical/fit3d_gt_pkl/s04/compare_input_type_s04_warmup_18_58860488.mp4 already exists\n",
      "/home/hrai/codes/MotionBERT/custom_codes/Canonical/compare_canonical/fit3d_gt_pkl/s09/compare_input_type_s09_warmup_3_58860488.mp4 already exists\n",
      "/home/hrai/codes/MotionBERT/custom_codes/Canonical/compare_canonical/fit3d_gt_pkl/s05/compare_input_type_s05_dumbbell_hammer_curls_50591643.mp4 already exists\n",
      "/home/hrai/codes/MotionBERT/custom_codes/Canonical/compare_canonical/fit3d_gt_pkl/s04/compare_input_type_s04_overhead_trap_raises_58860488.mp4 already exists\n",
      "/home/hrai/codes/MotionBERT/custom_codes/Canonical/compare_canonical/fit3d_gt_pkl/s10/compare_input_type_s10_deadlift_58860488.mp4 already exists\n",
      "/home/hrai/codes/MotionBERT/custom_codes/Canonical/compare_canonical/fit3d_gt_pkl/s05/compare_input_type_s05_one_arm_row_50591643.mp4 already exists\n",
      "/home/hrai/codes/MotionBERT/custom_codes/Canonical/compare_canonical/fit3d_gt_pkl/s10/compare_input_type_s10_dumbbell_scaptions_60457274.mp4 already exists\n",
      "/home/hrai/codes/MotionBERT/custom_codes/Canonical/compare_canonical/fit3d_gt_pkl/s05/compare_input_type_s05_dumbbell_reverse_lunge_50591643.mp4 already exists\n",
      "/home/hrai/codes/MotionBERT/custom_codes/Canonical/compare_canonical/fit3d_gt_pkl/s04/compare_input_type_s04_one_arm_row_60457274.mp4 already exists\n",
      "/home/hrai/codes/MotionBERT/custom_codes/Canonical/compare_canonical/fit3d_gt_pkl/s08/compare_input_type_s08_warmup_12_65906101.mp4 already exists\n",
      "/home/hrai/codes/MotionBERT/custom_codes/Canonical/compare_canonical/fit3d_gt_pkl/s05/compare_input_type_s05_warmup_11_60457274.mp4 already exists\n",
      "/home/hrai/codes/MotionBERT/custom_codes/Canonical/compare_canonical/fit3d_gt_pkl/s05/compare_input_type_s05_warmup_13_50591643.mp4 already exists\n",
      "/home/hrai/codes/MotionBERT/custom_codes/Canonical/compare_canonical/fit3d_gt_pkl/s07/compare_input_type_s07_diamond_pushup_65906101.mp4 already exists\n",
      "/home/hrai/codes/MotionBERT/custom_codes/Canonical/compare_canonical/fit3d_gt_pkl/s07/compare_input_type_s07_warmup_16_58860488.mp4 already exists\n",
      "/home/hrai/codes/MotionBERT/custom_codes/Canonical/compare_canonical/fit3d_gt_pkl/s10/compare_input_type_s10_warmup_13_50591643.mp4 already exists\n",
      "/home/hrai/codes/MotionBERT/custom_codes/Canonical/compare_canonical/fit3d_gt_pkl/s08/compare_input_type_s08_warmup_12_58860488.mp4 already exists\n",
      "/home/hrai/codes/MotionBERT/custom_codes/Canonical/compare_canonical/fit3d_gt_pkl/s11/compare_input_type_s11_man_maker_58860488.mp4 already exists\n",
      "/home/hrai/codes/MotionBERT/custom_codes/Canonical/compare_canonical/fit3d_gt_pkl/s08/compare_input_type_s08_dumbbell_biceps_curls_65906101.mp4 already exists\n",
      "/home/hrai/codes/MotionBERT/custom_codes/Canonical/compare_canonical/fit3d_gt_pkl/s03/compare_input_type_s03_dumbbell_curl_trifecta_58860488.mp4 already exists\n",
      "/home/hrai/codes/MotionBERT/custom_codes/Canonical/compare_canonical/fit3d_gt_pkl/s07/compare_input_type_s07_one_arm_row_65906101.mp4 already exists\n",
      "/home/hrai/codes/MotionBERT/custom_codes/Canonical/compare_canonical/fit3d_gt_pkl/s04/compare_input_type_s04_one_arm_row_58860488.mp4 already exists\n",
      "/home/hrai/codes/MotionBERT/custom_codes/Canonical/compare_canonical/fit3d_gt_pkl/s05/compare_input_type_s05_mule_kick_65906101.mp4 already exists\n",
      "/home/hrai/codes/MotionBERT/custom_codes/Canonical/compare_canonical/fit3d_gt_pkl/s10/compare_input_type_s10_side_lateral_raise_58860488.mp4 already exists\n",
      "/home/hrai/codes/MotionBERT/custom_codes/Canonical/compare_canonical/fit3d_gt_pkl/s09/compare_input_type_s09_warmup_7_60457274.mp4 already exists\n",
      "/home/hrai/codes/MotionBERT/custom_codes/Canonical/compare_canonical/fit3d_gt_pkl/s09/compare_input_type_s09_diamond_pushup_50591643.mp4 already exists\n",
      "/home/hrai/codes/MotionBERT/custom_codes/Canonical/compare_canonical/fit3d_gt_pkl/s11/compare_input_type_s11_warmup_7_50591643.mp4 already exists\n",
      "/home/hrai/codes/MotionBERT/custom_codes/Canonical/compare_canonical/fit3d_gt_pkl/s08/compare_input_type_s08_diamond_pushup_50591643.mp4 already exists\n",
      "/home/hrai/codes/MotionBERT/custom_codes/Canonical/compare_canonical/fit3d_gt_pkl/s08/compare_input_type_s08_neutral_overhead_shoulder_press_50591643.mp4 already exists\n",
      "/home/hrai/codes/MotionBERT/custom_codes/Canonical/compare_canonical/fit3d_gt_pkl/s04/compare_input_type_s04_dumbbell_biceps_curls_58860488.mp4 already exists\n",
      "/home/hrai/codes/MotionBERT/custom_codes/Canonical/compare_canonical/fit3d_gt_pkl/s09/compare_input_type_s09_dumbbell_hammer_curls_60457274.mp4 already exists\n",
      "/home/hrai/codes/MotionBERT/custom_codes/Canonical/compare_canonical/fit3d_gt_pkl/s08/compare_input_type_s08_warmup_10_58860488.mp4 already exists\n",
      "/home/hrai/codes/MotionBERT/custom_codes/Canonical/compare_canonical/fit3d_gt_pkl/s03/compare_input_type_s03_pushup_50591643.mp4 already exists\n",
      "/home/hrai/codes/MotionBERT/custom_codes/Canonical/compare_canonical/fit3d_gt_pkl/s09/compare_input_type_s09_man_maker_50591643.mp4 already exists\n",
      "/home/hrai/codes/MotionBERT/custom_codes/Canonical/compare_canonical/fit3d_gt_pkl/s09/compare_input_type_s09_warmup_17_50591643.mp4 already exists\n",
      "/home/hrai/codes/MotionBERT/custom_codes/Canonical/compare_canonical/fit3d_gt_pkl/s11/compare_input_type_s11_warmup_6_65906101.mp4 already exists\n",
      "/home/hrai/codes/MotionBERT/custom_codes/Canonical/compare_canonical/fit3d_gt_pkl/s11/compare_input_type_s11_neutral_overhead_shoulder_press_60457274.mp4 already exists\n",
      "/home/hrai/codes/MotionBERT/custom_codes/Canonical/compare_canonical/fit3d_gt_pkl/s03/compare_input_type_s03_overhead_trap_raises_58860488.mp4 already exists\n",
      "/home/hrai/codes/MotionBERT/custom_codes/Canonical/compare_canonical/fit3d_gt_pkl/s09/compare_input_type_s09_warmup_7_65906101.mp4 already exists\n",
      "/home/hrai/codes/MotionBERT/custom_codes/Canonical/compare_canonical/fit3d_gt_pkl/s04/compare_input_type_s04_barbell_row_60457274.mp4 already exists\n",
      "/home/hrai/codes/MotionBERT/custom_codes/Canonical/compare_canonical/fit3d_gt_pkl/s09/compare_input_type_s09_warmup_2_58860488.mp4 already exists\n",
      "/home/hrai/codes/MotionBERT/custom_codes/Canonical/compare_canonical/fit3d_gt_pkl/s09/compare_input_type_s09_standing_ab_twists_58860488.mp4 already exists\n",
      "/home/hrai/codes/MotionBERT/custom_codes/Canonical/compare_canonical/fit3d_gt_pkl/s03/compare_input_type_s03_warmup_4_65906101.mp4 already exists\n",
      "/home/hrai/codes/MotionBERT/custom_codes/Canonical/compare_canonical/fit3d_gt_pkl/s03/compare_input_type_s03_dumbbell_hammer_curls_65906101.mp4 already exists\n",
      "/home/hrai/codes/MotionBERT/custom_codes/Canonical/compare_canonical/fit3d_gt_pkl/s07/compare_input_type_s07_barbell_dead_row_50591643.mp4 already exists\n",
      "/home/hrai/codes/MotionBERT/custom_codes/Canonical/compare_canonical/fit3d_gt_pkl/s04/compare_input_type_s04_warmup_16_50591643.mp4 already exists\n",
      "/home/hrai/codes/MotionBERT/custom_codes/Canonical/compare_canonical/fit3d_gt_pkl/s09/compare_input_type_s09_w_raise_60457274.mp4 already exists\n",
      "/home/hrai/codes/MotionBERT/custom_codes/Canonical/compare_canonical/fit3d_gt_pkl/s11/compare_input_type_s11_overhead_trap_raises_50591643.mp4 already exists\n",
      "/home/hrai/codes/MotionBERT/custom_codes/Canonical/compare_canonical/fit3d_gt_pkl/s03/compare_input_type_s03_warmup_2_60457274.mp4 already exists\n",
      "/home/hrai/codes/MotionBERT/custom_codes/Canonical/compare_canonical/fit3d_gt_pkl/s10/compare_input_type_s10_warmup_16_60457274.mp4 already exists\n",
      "/home/hrai/codes/MotionBERT/custom_codes/Canonical/compare_canonical/fit3d_gt_pkl/s03/compare_input_type_s03_warmup_15_58860488.mp4 already exists\n",
      "/home/hrai/codes/MotionBERT/custom_codes/Canonical/compare_canonical/fit3d_gt_pkl/s04/compare_input_type_s04_warmup_14_50591643.mp4 already exists\n",
      "/home/hrai/codes/MotionBERT/custom_codes/Canonical/compare_canonical/fit3d_gt_pkl/s05/compare_input_type_s05_barbell_row_65906101.mp4 already exists\n",
      "/home/hrai/codes/MotionBERT/custom_codes/Canonical/compare_canonical/fit3d_gt_pkl/s03/compare_input_type_s03_dumbbell_curl_trifecta_65906101.mp4 already exists\n",
      "/home/hrai/codes/MotionBERT/custom_codes/Canonical/compare_canonical/fit3d_gt_pkl/s04/compare_input_type_s04_dumbbell_biceps_curls_65906101.mp4 already exists\n",
      "/home/hrai/codes/MotionBERT/custom_codes/Canonical/compare_canonical/fit3d_gt_pkl/s05/compare_input_type_s05_dumbbell_high_pulls_60457274.mp4 already exists\n",
      "/home/hrai/codes/MotionBERT/custom_codes/Canonical/compare_canonical/fit3d_gt_pkl/s09/compare_input_type_s09_mule_kick_58860488.mp4 already exists\n",
      "/home/hrai/codes/MotionBERT/custom_codes/Canonical/compare_canonical/fit3d_gt_pkl/s11/compare_input_type_s11_neutral_overhead_shoulder_press_50591643.mp4 already exists\n",
      "/home/hrai/codes/MotionBERT/custom_codes/Canonical/compare_canonical/fit3d_gt_pkl/s11/compare_input_type_s11_warmup_5_58860488.mp4 already exists\n",
      "/home/hrai/codes/MotionBERT/custom_codes/Canonical/compare_canonical/fit3d_gt_pkl/s11/compare_input_type_s11_pushup_65906101.mp4 already exists\n",
      "/home/hrai/codes/MotionBERT/custom_codes/Canonical/compare_canonical/fit3d_gt_pkl/s10/compare_input_type_s10_walk_the_box_50591643.mp4 already exists\n",
      "/home/hrai/codes/MotionBERT/custom_codes/Canonical/compare_canonical/fit3d_gt_pkl/s10/compare_input_type_s10_warmup_1_58860488.mp4 already exists\n",
      "/home/hrai/codes/MotionBERT/custom_codes/Canonical/compare_canonical/fit3d_gt_pkl/s08/compare_input_type_s08_warmup_11_58860488.mp4 already exists\n",
      "/home/hrai/codes/MotionBERT/custom_codes/Canonical/compare_canonical/fit3d_gt_pkl/s08/compare_input_type_s08_band_pull_apart_65906101.mp4 already exists\n",
      "/home/hrai/codes/MotionBERT/custom_codes/Canonical/compare_canonical/fit3d_gt_pkl/s09/compare_input_type_s09_dumbbell_reverse_lunge_60457274.mp4 already exists\n",
      "/home/hrai/codes/MotionBERT/custom_codes/Canonical/compare_canonical/fit3d_gt_pkl/s04/compare_input_type_s04_diamond_pushup_60457274.mp4 already exists\n",
      "/home/hrai/codes/MotionBERT/custom_codes/Canonical/compare_canonical/fit3d_gt_pkl/s07/compare_input_type_s07_warmup_14_60457274.mp4 already exists\n",
      "/home/hrai/codes/MotionBERT/custom_codes/Canonical/compare_canonical/fit3d_gt_pkl/s07/compare_input_type_s07_deadlift_58860488.mp4 already exists\n",
      "/home/hrai/codes/MotionBERT/custom_codes/Canonical/compare_canonical/fit3d_gt_pkl/s08/compare_input_type_s08_warmup_15_60457274.mp4 already exists\n",
      "/home/hrai/codes/MotionBERT/custom_codes/Canonical/compare_canonical/fit3d_gt_pkl/s03/compare_input_type_s03_drag_curl_58860488.mp4 already exists\n",
      "/home/hrai/codes/MotionBERT/custom_codes/Canonical/compare_canonical/fit3d_gt_pkl/s07/compare_input_type_s07_man_maker_65906101.mp4 already exists\n",
      "/home/hrai/codes/MotionBERT/custom_codes/Canonical/compare_canonical/fit3d_gt_pkl/s08/compare_input_type_s08_warmup_19_50591643.mp4 already exists\n",
      "/home/hrai/codes/MotionBERT/custom_codes/Canonical/compare_canonical/fit3d_gt_pkl/s09/compare_input_type_s09_dumbbell_high_pulls_50591643.mp4 already exists\n",
      "/home/hrai/codes/MotionBERT/custom_codes/Canonical/compare_canonical/fit3d_gt_pkl/s03/compare_input_type_s03_side_lateral_raise_65906101.mp4 already exists\n",
      "/home/hrai/codes/MotionBERT/custom_codes/Canonical/compare_canonical/fit3d_gt_pkl/s10/compare_input_type_s10_warmup_15_65906101.mp4 already exists\n",
      "/home/hrai/codes/MotionBERT/custom_codes/Canonical/compare_canonical/fit3d_gt_pkl/s03/compare_input_type_s03_burpees_50591643.mp4 already exists\n",
      "/home/hrai/codes/MotionBERT/custom_codes/Canonical/compare_canonical/fit3d_gt_pkl/s05/compare_input_type_s05_dumbbell_curl_trifecta_65906101.mp4 already exists\n",
      "/home/hrai/codes/MotionBERT/custom_codes/Canonical/compare_canonical/fit3d_gt_pkl/s07/compare_input_type_s07_side_lateral_raise_60457274.mp4 already exists\n",
      "/home/hrai/codes/MotionBERT/custom_codes/Canonical/compare_canonical/fit3d_gt_pkl/s09/compare_input_type_s09_dumbbell_hammer_curls_50591643.mp4 already exists\n",
      "/home/hrai/codes/MotionBERT/custom_codes/Canonical/compare_canonical/fit3d_gt_pkl/s04/compare_input_type_s04_standing_ab_twists_60457274.mp4 already exists\n",
      "/home/hrai/codes/MotionBERT/custom_codes/Canonical/compare_canonical/fit3d_gt_pkl/s08/compare_input_type_s08_drag_curl_50591643.mp4 already exists\n",
      "/home/hrai/codes/MotionBERT/custom_codes/Canonical/compare_canonical/fit3d_gt_pkl/s08/compare_input_type_s08_barbell_dead_row_50591643.mp4 already exists\n",
      "/home/hrai/codes/MotionBERT/custom_codes/Canonical/compare_canonical/fit3d_gt_pkl/s04/compare_input_type_s04_man_maker_60457274.mp4 already exists\n",
      "/home/hrai/codes/MotionBERT/custom_codes/Canonical/compare_canonical/fit3d_gt_pkl/s04/compare_input_type_s04_pushup_60457274.mp4 already exists\n",
      "/home/hrai/codes/MotionBERT/custom_codes/Canonical/compare_canonical/fit3d_gt_pkl/s05/compare_input_type_s05_dumbbell_overhead_shoulder_press_65906101.mp4 already exists\n",
      "/home/hrai/codes/MotionBERT/custom_codes/Canonical/compare_canonical/fit3d_gt_pkl/s07/compare_input_type_s07_warmup_14_65906101.mp4 already exists\n",
      "/home/hrai/codes/MotionBERT/custom_codes/Canonical/compare_canonical/fit3d_gt_pkl/s09/compare_input_type_s09_clean_and_press_60457274.mp4 already exists\n",
      "/home/hrai/codes/MotionBERT/custom_codes/Canonical/compare_canonical/fit3d_gt_pkl/s07/compare_input_type_s07_dumbbell_scaptions_60457274.mp4 already exists\n",
      "/home/hrai/codes/MotionBERT/custom_codes/Canonical/compare_canonical/fit3d_gt_pkl/s10/compare_input_type_s10_w_raise_58860488.mp4 already exists\n",
      "/home/hrai/codes/MotionBERT/custom_codes/Canonical/compare_canonical/fit3d_gt_pkl/s11/compare_input_type_s11_clean_and_press_58860488.mp4 already exists\n",
      "/home/hrai/codes/MotionBERT/custom_codes/Canonical/compare_canonical/fit3d_gt_pkl/s05/compare_input_type_s05_dumbbell_scaptions_60457274.mp4 already exists\n",
      "/home/hrai/codes/MotionBERT/custom_codes/Canonical/compare_canonical/fit3d_gt_pkl/s03/compare_input_type_s03_barbell_row_60457274.mp4 already exists\n",
      "/home/hrai/codes/MotionBERT/custom_codes/Canonical/compare_canonical/fit3d_gt_pkl/s04/compare_input_type_s04_warmup_1_58860488.mp4 already exists\n",
      "/home/hrai/codes/MotionBERT/custom_codes/Canonical/compare_canonical/fit3d_gt_pkl/s07/compare_input_type_s07_overhead_trap_raises_65906101.mp4 already exists\n",
      "/home/hrai/codes/MotionBERT/custom_codes/Canonical/compare_canonical/fit3d_gt_pkl/s04/compare_input_type_s04_pushup_50591643.mp4 already exists\n",
      "/home/hrai/codes/MotionBERT/custom_codes/Canonical/compare_canonical/fit3d_gt_pkl/s03/compare_input_type_s03_warmup_13_65906101.mp4 already exists\n",
      "/home/hrai/codes/MotionBERT/custom_codes/Canonical/compare_canonical/fit3d_gt_pkl/s10/compare_input_type_s10_walk_the_box_65906101.mp4 already exists\n",
      "/home/hrai/codes/MotionBERT/custom_codes/Canonical/compare_canonical/fit3d_gt_pkl/s05/compare_input_type_s05_warmup_13_65906101.mp4 already exists\n",
      "/home/hrai/codes/MotionBERT/custom_codes/Canonical/compare_canonical/fit3d_gt_pkl/s11/compare_input_type_s11_overhead_extension_thruster_65906101.mp4 already exists\n",
      "/home/hrai/codes/MotionBERT/custom_codes/Canonical/compare_canonical/fit3d_gt_pkl/s07/compare_input_type_s07_man_maker_50591643.mp4 already exists\n",
      "/home/hrai/codes/MotionBERT/custom_codes/Canonical/compare_canonical/fit3d_gt_pkl/s09/compare_input_type_s09_warmup_16_65906101.mp4 already exists\n",
      "/home/hrai/codes/MotionBERT/custom_codes/Canonical/compare_canonical/fit3d_gt_pkl/s07/compare_input_type_s07_dumbbell_overhead_shoulder_press_58860488.mp4 already exists\n",
      "/home/hrai/codes/MotionBERT/custom_codes/Canonical/compare_canonical/fit3d_gt_pkl/s05/compare_input_type_s05_warmup_9_50591643.mp4 already exists\n",
      "/home/hrai/codes/MotionBERT/custom_codes/Canonical/compare_canonical/fit3d_gt_pkl/s04/compare_input_type_s04_warmup_5_50591643.mp4 already exists\n",
      "/home/hrai/codes/MotionBERT/custom_codes/Canonical/compare_canonical/fit3d_gt_pkl/s10/compare_input_type_s10_dumbbell_reverse_lunge_60457274.mp4 already exists\n",
      "/home/hrai/codes/MotionBERT/custom_codes/Canonical/compare_canonical/fit3d_gt_pkl/s05/compare_input_type_s05_warmup_15_50591643.mp4 already exists\n",
      "/home/hrai/codes/MotionBERT/custom_codes/Canonical/compare_canonical/fit3d_gt_pkl/s08/compare_input_type_s08_burpees_60457274.mp4 already exists\n",
      "/home/hrai/codes/MotionBERT/custom_codes/Canonical/compare_canonical/fit3d_gt_pkl/s03/compare_input_type_s03_neutral_overhead_shoulder_press_50591643.mp4 already exists\n",
      "/home/hrai/codes/MotionBERT/custom_codes/Canonical/compare_canonical/fit3d_gt_pkl/s08/compare_input_type_s08_clean_and_press_65906101.mp4 already exists\n",
      "/home/hrai/codes/MotionBERT/custom_codes/Canonical/compare_canonical/fit3d_gt_pkl/s10/compare_input_type_s10_warmup_16_58860488.mp4 already exists\n",
      "/home/hrai/codes/MotionBERT/custom_codes/Canonical/compare_canonical/fit3d_gt_pkl/s03/compare_input_type_s03_standing_ab_twists_58860488.mp4 already exists\n",
      "/home/hrai/codes/MotionBERT/custom_codes/Canonical/compare_canonical/fit3d_gt_pkl/s04/compare_input_type_s04_band_pull_apart_65906101.mp4 already exists\n",
      "/home/hrai/codes/MotionBERT/custom_codes/Canonical/compare_canonical/fit3d_gt_pkl/s08/compare_input_type_s08_warmup_11_60457274.mp4 already exists\n",
      "/home/hrai/codes/MotionBERT/custom_codes/Canonical/compare_canonical/fit3d_gt_pkl/s08/compare_input_type_s08_dumbbell_overhead_shoulder_press_60457274.mp4 already exists\n",
      "/home/hrai/codes/MotionBERT/custom_codes/Canonical/compare_canonical/fit3d_gt_pkl/s08/compare_input_type_s08_warmup_18_58860488.mp4 already exists\n",
      "/home/hrai/codes/MotionBERT/custom_codes/Canonical/compare_canonical/fit3d_gt_pkl/s04/compare_input_type_s04_warmup_2_50591643.mp4 already exists\n",
      "/home/hrai/codes/MotionBERT/custom_codes/Canonical/compare_canonical/fit3d_gt_pkl/s05/compare_input_type_s05_warmup_6_58860488.mp4 already exists\n",
      "/home/hrai/codes/MotionBERT/custom_codes/Canonical/compare_canonical/fit3d_gt_pkl/s03/compare_input_type_s03_warmup_8_58860488.mp4 already exists\n",
      "/home/hrai/codes/MotionBERT/custom_codes/Canonical/compare_canonical/fit3d_gt_pkl/s03/compare_input_type_s03_mule_kick_65906101.mp4 already exists\n",
      "/home/hrai/codes/MotionBERT/custom_codes/Canonical/compare_canonical/fit3d_gt_pkl/s10/compare_input_type_s10_walk_the_box_60457274.mp4 already exists\n",
      "/home/hrai/codes/MotionBERT/custom_codes/Canonical/compare_canonical/fit3d_gt_pkl/s09/compare_input_type_s09_warmup_6_65906101.mp4 already exists\n",
      "/home/hrai/codes/MotionBERT/custom_codes/Canonical/compare_canonical/fit3d_gt_pkl/s11/compare_input_type_s11_dumbbell_curl_trifecta_58860488.mp4 already exists\n",
      "/home/hrai/codes/MotionBERT/custom_codes/Canonical/compare_canonical/fit3d_gt_pkl/s05/compare_input_type_s05_overhead_extension_thruster_58860488.mp4 already exists\n",
      "/home/hrai/codes/MotionBERT/custom_codes/Canonical/compare_canonical/fit3d_gt_pkl/s04/compare_input_type_s04_warmup_15_58860488.mp4 already exists\n",
      "/home/hrai/codes/MotionBERT/custom_codes/Canonical/compare_canonical/fit3d_gt_pkl/s07/compare_input_type_s07_burpees_65906101.mp4 already exists\n",
      "/home/hrai/codes/MotionBERT/custom_codes/Canonical/compare_canonical/fit3d_gt_pkl/s07/compare_input_type_s07_dumbbell_high_pulls_50591643.mp4 already exists\n",
      "/home/hrai/codes/MotionBERT/custom_codes/Canonical/compare_canonical/fit3d_gt_pkl/s07/compare_input_type_s07_dumbbell_hammer_curls_60457274.mp4 already exists\n",
      "/home/hrai/codes/MotionBERT/custom_codes/Canonical/compare_canonical/fit3d_gt_pkl/s03/compare_input_type_s03_dumbbell_overhead_shoulder_press_58860488.mp4 already exists\n",
      "/home/hrai/codes/MotionBERT/custom_codes/Canonical/compare_canonical/fit3d_gt_pkl/s10/compare_input_type_s10_w_raise_65906101.mp4 already exists\n",
      "/home/hrai/codes/MotionBERT/custom_codes/Canonical/compare_canonical/fit3d_gt_pkl/s09/compare_input_type_s09_overhead_trap_raises_60457274.mp4 already exists\n",
      "/home/hrai/codes/MotionBERT/custom_codes/Canonical/compare_canonical/fit3d_gt_pkl/s03/compare_input_type_s03_man_maker_58860488.mp4 already exists\n",
      "/home/hrai/codes/MotionBERT/custom_codes/Canonical/compare_canonical/fit3d_gt_pkl/s04/compare_input_type_s04_warmup_6_58860488.mp4 already exists\n",
      "/home/hrai/codes/MotionBERT/custom_codes/Canonical/compare_canonical/fit3d_gt_pkl/s04/compare_input_type_s04_w_raise_50591643.mp4 already exists\n",
      "/home/hrai/codes/MotionBERT/custom_codes/Canonical/compare_canonical/fit3d_gt_pkl/s11/compare_input_type_s11_warmup_14_65906101.mp4 already exists\n",
      "/home/hrai/codes/MotionBERT/custom_codes/Canonical/compare_canonical/fit3d_gt_pkl/s05/compare_input_type_s05_warmup_14_58860488.mp4 already exists\n",
      "/home/hrai/codes/MotionBERT/custom_codes/Canonical/compare_canonical/fit3d_gt_pkl/s07/compare_input_type_s07_barbell_row_58860488.mp4 already exists\n",
      "/home/hrai/codes/MotionBERT/custom_codes/Canonical/compare_canonical/fit3d_gt_pkl/s04/compare_input_type_s04_side_lateral_raise_65906101.mp4 already exists\n",
      "/home/hrai/codes/MotionBERT/custom_codes/Canonical/compare_canonical/fit3d_gt_pkl/s03/compare_input_type_s03_warmup_2_58860488.mp4 already exists\n",
      "/home/hrai/codes/MotionBERT/custom_codes/Canonical/compare_canonical/fit3d_gt_pkl/s03/compare_input_type_s03_warmup_17_50591643.mp4 already exists\n",
      "/home/hrai/codes/MotionBERT/custom_codes/Canonical/compare_canonical/fit3d_gt_pkl/s03/compare_input_type_s03_dumbbell_reverse_lunge_60457274.mp4 already exists\n",
      "/home/hrai/codes/MotionBERT/custom_codes/Canonical/compare_canonical/fit3d_gt_pkl/s09/compare_input_type_s09_warmup_18_58860488.mp4 already exists\n",
      "/home/hrai/codes/MotionBERT/custom_codes/Canonical/compare_canonical/fit3d_gt_pkl/s05/compare_input_type_s05_squat_58860488.mp4 already exists\n",
      "/home/hrai/codes/MotionBERT/custom_codes/Canonical/compare_canonical/fit3d_gt_pkl/s10/compare_input_type_s10_warmup_8_50591643.mp4 already exists\n",
      "/home/hrai/codes/MotionBERT/custom_codes/Canonical/compare_canonical/fit3d_gt_pkl/s04/compare_input_type_s04_barbell_dead_row_58860488.mp4 already exists\n",
      "/home/hrai/codes/MotionBERT/custom_codes/Canonical/compare_canonical/fit3d_gt_pkl/s11/compare_input_type_s11_overhead_trap_raises_58860488.mp4 already exists\n",
      "/home/hrai/codes/MotionBERT/custom_codes/Canonical/compare_canonical/fit3d_gt_pkl/s11/compare_input_type_s11_dumbbell_high_pulls_58860488.mp4 already exists\n",
      "/home/hrai/codes/MotionBERT/custom_codes/Canonical/compare_canonical/fit3d_gt_pkl/s05/compare_input_type_s05_drag_curl_50591643.mp4 already exists\n",
      "/home/hrai/codes/MotionBERT/custom_codes/Canonical/compare_canonical/fit3d_gt_pkl/s03/compare_input_type_s03_clean_and_press_60457274.mp4 already exists\n",
      "/home/hrai/codes/MotionBERT/custom_codes/Canonical/compare_canonical/fit3d_gt_pkl/s03/compare_input_type_s03_warmup_6_58860488.mp4 already exists\n",
      "/home/hrai/codes/MotionBERT/custom_codes/Canonical/compare_canonical/fit3d_gt_pkl/s07/compare_input_type_s07_warmup_13_50591643.mp4 already exists\n",
      "/home/hrai/codes/MotionBERT/custom_codes/Canonical/compare_canonical/fit3d_gt_pkl/s10/compare_input_type_s10_squat_60457274.mp4 already exists\n",
      "/home/hrai/codes/MotionBERT/custom_codes/Canonical/compare_canonical/fit3d_gt_pkl/s08/compare_input_type_s08_standing_ab_twists_58860488.mp4 already exists\n",
      "/home/hrai/codes/MotionBERT/custom_codes/Canonical/compare_canonical/fit3d_gt_pkl/s10/compare_input_type_s10_overhead_extension_thruster_60457274.mp4 already exists\n",
      "/home/hrai/codes/MotionBERT/custom_codes/Canonical/compare_canonical/fit3d_gt_pkl/s10/compare_input_type_s10_deadlift_50591643.mp4 already exists\n",
      "/home/hrai/codes/MotionBERT/custom_codes/Canonical/compare_canonical/fit3d_gt_pkl/s09/compare_input_type_s09_barbell_dead_row_60457274.mp4 already exists\n",
      "/home/hrai/codes/MotionBERT/custom_codes/Canonical/compare_canonical/fit3d_gt_pkl/s11/compare_input_type_s11_warmup_19_65906101.mp4 already exists\n",
      "/home/hrai/codes/MotionBERT/custom_codes/Canonical/compare_canonical/fit3d_gt_pkl/s11/compare_input_type_s11_barbell_dead_row_65906101.mp4 already exists\n",
      "/home/hrai/codes/MotionBERT/custom_codes/Canonical/compare_canonical/fit3d_gt_pkl/s04/compare_input_type_s04_barbell_dead_row_50591643.mp4 already exists\n",
      "/home/hrai/codes/MotionBERT/custom_codes/Canonical/compare_canonical/fit3d_gt_pkl/s11/compare_input_type_s11_overhead_extension_thruster_58860488.mp4 already exists\n",
      "/home/hrai/codes/MotionBERT/custom_codes/Canonical/compare_canonical/fit3d_gt_pkl/s10/compare_input_type_s10_dumbbell_overhead_shoulder_press_65906101.mp4 already exists\n",
      "/home/hrai/codes/MotionBERT/custom_codes/Canonical/compare_canonical/fit3d_gt_pkl/s10/compare_input_type_s10_warmup_14_65906101.mp4 already exists\n",
      "/home/hrai/codes/MotionBERT/custom_codes/Canonical/compare_canonical/fit3d_gt_pkl/s05/compare_input_type_s05_warmup_17_65906101.mp4 already exists\n",
      "/home/hrai/codes/MotionBERT/custom_codes/Canonical/compare_canonical/fit3d_gt_pkl/s09/compare_input_type_s09_pushup_58860488.mp4 already exists\n",
      "/home/hrai/codes/MotionBERT/custom_codes/Canonical/compare_canonical/fit3d_gt_pkl/s10/compare_input_type_s10_man_maker_65906101.mp4 already exists\n",
      "/home/hrai/codes/MotionBERT/custom_codes/Canonical/compare_canonical/fit3d_gt_pkl/s11/compare_input_type_s11_overhead_trap_raises_60457274.mp4 already exists\n",
      "/home/hrai/codes/MotionBERT/custom_codes/Canonical/compare_canonical/fit3d_gt_pkl/s07/compare_input_type_s07_warmup_6_58860488.mp4 already exists\n",
      "/home/hrai/codes/MotionBERT/custom_codes/Canonical/compare_canonical/fit3d_gt_pkl/s04/compare_input_type_s04_clean_and_press_50591643.mp4 already exists\n",
      "/home/hrai/codes/MotionBERT/custom_codes/Canonical/compare_canonical/fit3d_gt_pkl/s08/compare_input_type_s08_warmup_10_50591643.mp4 already exists\n",
      "/home/hrai/codes/MotionBERT/custom_codes/Canonical/compare_canonical/fit3d_gt_pkl/s04/compare_input_type_s04_band_pull_apart_60457274.mp4 already exists\n",
      "/home/hrai/codes/MotionBERT/custom_codes/Canonical/compare_canonical/fit3d_gt_pkl/s04/compare_input_type_s04_warmup_15_65906101.mp4 already exists\n",
      "/home/hrai/codes/MotionBERT/custom_codes/Canonical/compare_canonical/fit3d_gt_pkl/s08/compare_input_type_s08_dumbbell_hammer_curls_50591643.mp4 already exists\n",
      "/home/hrai/codes/MotionBERT/custom_codes/Canonical/compare_canonical/fit3d_gt_pkl/s03/compare_input_type_s03_walk_the_box_65906101.mp4 already exists\n",
      "/home/hrai/codes/MotionBERT/custom_codes/Canonical/compare_canonical/fit3d_gt_pkl/s05/compare_input_type_s05_warmup_12_60457274.mp4 already exists\n",
      "/home/hrai/codes/MotionBERT/custom_codes/Canonical/compare_canonical/fit3d_gt_pkl/s08/compare_input_type_s08_warmup_5_58860488.mp4 already exists\n",
      "/home/hrai/codes/MotionBERT/custom_codes/Canonical/compare_canonical/fit3d_gt_pkl/s03/compare_input_type_s03_overhead_trap_raises_65906101.mp4 already exists\n",
      "/home/hrai/codes/MotionBERT/custom_codes/Canonical/compare_canonical/fit3d_gt_pkl/s07/compare_input_type_s07_warmup_13_65906101.mp4 already exists\n",
      "/home/hrai/codes/MotionBERT/custom_codes/Canonical/compare_canonical/fit3d_gt_pkl/s03/compare_input_type_s03_barbell_shrug_58860488.mp4 already exists\n",
      "/home/hrai/codes/MotionBERT/custom_codes/Canonical/compare_canonical/fit3d_gt_pkl/s05/compare_input_type_s05_warmup_9_60457274.mp4 already exists\n",
      "/home/hrai/codes/MotionBERT/custom_codes/Canonical/compare_canonical/fit3d_gt_pkl/s10/compare_input_type_s10_side_lateral_raise_65906101.mp4 already exists\n",
      "/home/hrai/codes/MotionBERT/custom_codes/Canonical/compare_canonical/fit3d_gt_pkl/s07/compare_input_type_s07_clean_and_press_50591643.mp4 already exists\n",
      "/home/hrai/codes/MotionBERT/custom_codes/Canonical/compare_canonical/fit3d_gt_pkl/s08/compare_input_type_s08_barbell_row_60457274.mp4 already exists\n",
      "/home/hrai/codes/MotionBERT/custom_codes/Canonical/compare_canonical/fit3d_gt_pkl/s08/compare_input_type_s08_squat_65906101.mp4 already exists\n",
      "/home/hrai/codes/MotionBERT/custom_codes/Canonical/compare_canonical/fit3d_gt_pkl/s11/compare_input_type_s11_clean_and_press_50591643.mp4 already exists\n",
      "/home/hrai/codes/MotionBERT/custom_codes/Canonical/compare_canonical/fit3d_gt_pkl/s04/compare_input_type_s04_overhead_extension_thruster_65906101.mp4 already exists\n",
      "/home/hrai/codes/MotionBERT/custom_codes/Canonical/compare_canonical/fit3d_gt_pkl/s10/compare_input_type_s10_dumbbell_curl_trifecta_58860488.mp4 already exists\n",
      "/home/hrai/codes/MotionBERT/custom_codes/Canonical/compare_canonical/fit3d_gt_pkl/s07/compare_input_type_s07_warmup_12_50591643.mp4 already exists\n",
      "/home/hrai/codes/MotionBERT/custom_codes/Canonical/compare_canonical/fit3d_gt_pkl/s10/compare_input_type_s10_warmup_18_58860488.mp4 already exists\n",
      "/home/hrai/codes/MotionBERT/custom_codes/Canonical/compare_canonical/fit3d_gt_pkl/s03/compare_input_type_s03_drag_curl_60457274.mp4 already exists\n",
      "/home/hrai/codes/MotionBERT/custom_codes/Canonical/compare_canonical/fit3d_gt_pkl/s11/compare_input_type_s11_warmup_2_58860488.mp4 already exists\n",
      "/home/hrai/codes/MotionBERT/custom_codes/Canonical/compare_canonical/fit3d_gt_pkl/s09/compare_input_type_s09_warmup_14_50591643.mp4 already exists\n",
      "/home/hrai/codes/MotionBERT/custom_codes/Canonical/compare_canonical/fit3d_gt_pkl/s07/compare_input_type_s07_overhead_extension_thruster_50591643.mp4 already exists\n",
      "/home/hrai/codes/MotionBERT/custom_codes/Canonical/compare_canonical/fit3d_gt_pkl/s08/compare_input_type_s08_pushup_50591643.mp4 already exists\n",
      "/home/hrai/codes/MotionBERT/custom_codes/Canonical/compare_canonical/fit3d_gt_pkl/s11/compare_input_type_s11_barbell_row_60457274.mp4 already exists\n",
      "/home/hrai/codes/MotionBERT/custom_codes/Canonical/compare_canonical/fit3d_gt_pkl/s07/compare_input_type_s07_burpees_50591643.mp4 already exists\n",
      "/home/hrai/codes/MotionBERT/custom_codes/Canonical/compare_canonical/fit3d_gt_pkl/s09/compare_input_type_s09_pushup_60457274.mp4 already exists\n",
      "/home/hrai/codes/MotionBERT/custom_codes/Canonical/compare_canonical/fit3d_gt_pkl/s07/compare_input_type_s07_dumbbell_overhead_shoulder_press_65906101.mp4 already exists\n",
      "/home/hrai/codes/MotionBERT/custom_codes/Canonical/compare_canonical/fit3d_gt_pkl/s08/compare_input_type_s08_barbell_row_58860488.mp4 already exists\n",
      "/home/hrai/codes/MotionBERT/custom_codes/Canonical/compare_canonical/fit3d_gt_pkl/s07/compare_input_type_s07_burpees_58860488.mp4 already exists\n",
      "/home/hrai/codes/MotionBERT/custom_codes/Canonical/compare_canonical/fit3d_gt_pkl/s08/compare_input_type_s08_w_raise_58860488.mp4 already exists\n",
      "/home/hrai/codes/MotionBERT/custom_codes/Canonical/compare_canonical/fit3d_gt_pkl/s04/compare_input_type_s04_warmup_1_50591643.mp4 already exists\n",
      "/home/hrai/codes/MotionBERT/custom_codes/Canonical/compare_canonical/fit3d_gt_pkl/s05/compare_input_type_s05_warmup_18_50591643.mp4 already exists\n",
      "/home/hrai/codes/MotionBERT/custom_codes/Canonical/compare_canonical/fit3d_gt_pkl/s05/compare_input_type_s05_warmup_3_60457274.mp4 already exists\n",
      "/home/hrai/codes/MotionBERT/custom_codes/Canonical/compare_canonical/fit3d_gt_pkl/s05/compare_input_type_s05_warmup_8_50591643.mp4 already exists\n",
      "/home/hrai/codes/MotionBERT/custom_codes/Canonical/compare_canonical/fit3d_gt_pkl/s09/compare_input_type_s09_warmup_7_50591643.mp4 already exists\n",
      "/home/hrai/codes/MotionBERT/custom_codes/Canonical/compare_canonical/fit3d_gt_pkl/s07/compare_input_type_s07_standing_ab_twists_58860488.mp4 already exists\n",
      "/home/hrai/codes/MotionBERT/custom_codes/Canonical/compare_canonical/fit3d_gt_pkl/s03/compare_input_type_s03_clean_and_press_58860488.mp4 already exists\n",
      "/home/hrai/codes/MotionBERT/custom_codes/Canonical/compare_canonical/fit3d_gt_pkl/s09/compare_input_type_s09_dumbbell_reverse_lunge_58860488.mp4 already exists\n",
      "/home/hrai/codes/MotionBERT/custom_codes/Canonical/compare_canonical/fit3d_gt_pkl/s03/compare_input_type_s03_neutral_overhead_shoulder_press_60457274.mp4 already exists\n",
      "/home/hrai/codes/MotionBERT/custom_codes/Canonical/compare_canonical/fit3d_gt_pkl/s07/compare_input_type_s07_deadlift_50591643.mp4 already exists\n",
      "/home/hrai/codes/MotionBERT/custom_codes/Canonical/compare_canonical/fit3d_gt_pkl/s09/compare_input_type_s09_dumbbell_hammer_curls_65906101.mp4 already exists\n",
      "/home/hrai/codes/MotionBERT/custom_codes/Canonical/compare_canonical/fit3d_gt_pkl/s07/compare_input_type_s07_mule_kick_50591643.mp4 already exists\n",
      "/home/hrai/codes/MotionBERT/custom_codes/Canonical/compare_canonical/fit3d_gt_pkl/s09/compare_input_type_s09_warmup_15_50591643.mp4 already exists\n",
      "/home/hrai/codes/MotionBERT/custom_codes/Canonical/compare_canonical/fit3d_gt_pkl/s04/compare_input_type_s04_warmup_12_58860488.mp4 already exists\n",
      "/home/hrai/codes/MotionBERT/custom_codes/Canonical/compare_canonical/fit3d_gt_pkl/s05/compare_input_type_s05_dumbbell_biceps_curls_58860488.mp4 already exists\n",
      "/home/hrai/codes/MotionBERT/custom_codes/Canonical/compare_canonical/fit3d_gt_pkl/s09/compare_input_type_s09_warmup_4_50591643.mp4 already exists\n",
      "/home/hrai/codes/MotionBERT/custom_codes/Canonical/compare_canonical/fit3d_gt_pkl/s04/compare_input_type_s04_dumbbell_scaptions_58860488.mp4 already exists\n",
      "/home/hrai/codes/MotionBERT/custom_codes/Canonical/compare_canonical/fit3d_gt_pkl/s03/compare_input_type_s03_warmup_9_58860488.mp4 already exists\n",
      "/home/hrai/codes/MotionBERT/custom_codes/Canonical/compare_canonical/fit3d_gt_pkl/s05/compare_input_type_s05_warmup_11_65906101.mp4 already exists\n",
      "/home/hrai/codes/MotionBERT/custom_codes/Canonical/compare_canonical/fit3d_gt_pkl/s11/compare_input_type_s11_dumbbell_curl_trifecta_65906101.mp4 already exists\n",
      "/home/hrai/codes/MotionBERT/custom_codes/Canonical/compare_canonical/fit3d_gt_pkl/s09/compare_input_type_s09_side_lateral_raise_58860488.mp4 already exists\n",
      "/home/hrai/codes/MotionBERT/custom_codes/Canonical/compare_canonical/fit3d_gt_pkl/s09/compare_input_type_s09_warmup_4_58860488.mp4 already exists\n",
      "/home/hrai/codes/MotionBERT/custom_codes/Canonical/compare_canonical/fit3d_gt_pkl/s08/compare_input_type_s08_warmup_2_65906101.mp4 already exists\n",
      "/home/hrai/codes/MotionBERT/custom_codes/Canonical/compare_canonical/fit3d_gt_pkl/s09/compare_input_type_s09_warmup_7_58860488.mp4 already exists\n",
      "/home/hrai/codes/MotionBERT/custom_codes/Canonical/compare_canonical/fit3d_gt_pkl/s04/compare_input_type_s04_warmup_7_50591643.mp4 already exists\n",
      "/home/hrai/codes/MotionBERT/custom_codes/Canonical/compare_canonical/fit3d_gt_pkl/s05/compare_input_type_s05_overhead_trap_raises_60457274.mp4 already exists\n",
      "/home/hrai/codes/MotionBERT/custom_codes/Canonical/compare_canonical/fit3d_gt_pkl/s08/compare_input_type_s08_warmup_7_50591643.mp4 already exists\n",
      "/home/hrai/codes/MotionBERT/custom_codes/Canonical/compare_canonical/fit3d_gt_pkl/s05/compare_input_type_s05_warmup_9_58860488.mp4 already exists\n",
      "/home/hrai/codes/MotionBERT/custom_codes/Canonical/compare_canonical/fit3d_gt_pkl/s07/compare_input_type_s07_warmup_4_50591643.mp4 already exists\n",
      "/home/hrai/codes/MotionBERT/custom_codes/Canonical/compare_canonical/fit3d_gt_pkl/s05/compare_input_type_s05_barbell_shrug_65906101.mp4 already exists\n",
      "/home/hrai/codes/MotionBERT/custom_codes/Canonical/compare_canonical/fit3d_gt_pkl/s05/compare_input_type_s05_standing_ab_twists_65906101.mp4 already exists\n",
      "/home/hrai/codes/MotionBERT/custom_codes/Canonical/compare_canonical/fit3d_gt_pkl/s07/compare_input_type_s07_barbell_shrug_65906101.mp4 already exists\n",
      "/home/hrai/codes/MotionBERT/custom_codes/Canonical/compare_canonical/fit3d_gt_pkl/s07/compare_input_type_s07_neutral_overhead_shoulder_press_50591643.mp4 already exists\n",
      "/home/hrai/codes/MotionBERT/custom_codes/Canonical/compare_canonical/fit3d_gt_pkl/s11/compare_input_type_s11_overhead_trap_raises_65906101.mp4 already exists\n",
      "/home/hrai/codes/MotionBERT/custom_codes/Canonical/compare_canonical/fit3d_gt_pkl/s09/compare_input_type_s09_warmup_11_65906101.mp4 already exists\n",
      "/home/hrai/codes/MotionBERT/custom_codes/Canonical/compare_canonical/fit3d_gt_pkl/s05/compare_input_type_s05_warmup_3_65906101.mp4 already exists\n",
      "/home/hrai/codes/MotionBERT/custom_codes/Canonical/compare_canonical/fit3d_gt_pkl/s09/compare_input_type_s09_barbell_shrug_65906101.mp4 already exists\n",
      "/home/hrai/codes/MotionBERT/custom_codes/Canonical/compare_canonical/fit3d_gt_pkl/s08/compare_input_type_s08_warmup_2_60457274.mp4 already exists\n",
      "/home/hrai/codes/MotionBERT/custom_codes/Canonical/compare_canonical/fit3d_gt_pkl/s07/compare_input_type_s07_warmup_15_65906101.mp4 already exists\n",
      "/home/hrai/codes/MotionBERT/custom_codes/Canonical/compare_canonical/fit3d_gt_pkl/s10/compare_input_type_s10_warmup_17_60457274.mp4 already exists\n",
      "/home/hrai/codes/MotionBERT/custom_codes/Canonical/compare_canonical/fit3d_gt_pkl/s09/compare_input_type_s09_dumbbell_biceps_curls_65906101.mp4 already exists\n",
      "/home/hrai/codes/MotionBERT/custom_codes/Canonical/compare_canonical/fit3d_gt_pkl/s04/compare_input_type_s04_side_lateral_raise_58860488.mp4 already exists\n",
      "/home/hrai/codes/MotionBERT/custom_codes/Canonical/compare_canonical/fit3d_gt_pkl/s07/compare_input_type_s07_warmup_5_58860488.mp4 already exists\n",
      "/home/hrai/codes/MotionBERT/custom_codes/Canonical/compare_canonical/fit3d_gt_pkl/s08/compare_input_type_s08_side_lateral_raise_60457274.mp4 already exists\n",
      "/home/hrai/codes/MotionBERT/custom_codes/Canonical/compare_canonical/fit3d_gt_pkl/s10/compare_input_type_s10_dumbbell_reverse_lunge_50591643.mp4 already exists\n",
      "/home/hrai/codes/MotionBERT/custom_codes/Canonical/compare_canonical/fit3d_gt_pkl/s07/compare_input_type_s07_dumbbell_high_pulls_58860488.mp4 already exists\n",
      "/home/hrai/codes/MotionBERT/custom_codes/Canonical/compare_canonical/fit3d_gt_pkl/s08/compare_input_type_s08_burpees_65906101.mp4 already exists\n",
      "/home/hrai/codes/MotionBERT/custom_codes/Canonical/compare_canonical/fit3d_gt_pkl/s08/compare_input_type_s08_warmup_15_58860488.mp4 already exists\n",
      "/home/hrai/codes/MotionBERT/custom_codes/Canonical/compare_canonical/fit3d_gt_pkl/s10/compare_input_type_s10_warmup_1_65906101.mp4 already exists\n",
      "/home/hrai/codes/MotionBERT/custom_codes/Canonical/compare_canonical/fit3d_gt_pkl/s10/compare_input_type_s10_warmup_8_65906101.mp4 already exists\n",
      "/home/hrai/codes/MotionBERT/custom_codes/Canonical/compare_canonical/fit3d_gt_pkl/s11/compare_input_type_s11_warmup_19_50591643.mp4 already exists\n",
      "/home/hrai/codes/MotionBERT/custom_codes/Canonical/compare_canonical/fit3d_gt_pkl/s04/compare_input_type_s04_warmup_17_58860488.mp4 already exists\n",
      "/home/hrai/codes/MotionBERT/custom_codes/Canonical/compare_canonical/fit3d_gt_pkl/s10/compare_input_type_s10_pushup_58860488.mp4 already exists\n",
      "/home/hrai/codes/MotionBERT/custom_codes/Canonical/compare_canonical/fit3d_gt_pkl/s08/compare_input_type_s08_warmup_7_60457274.mp4 already exists\n",
      "/home/hrai/codes/MotionBERT/custom_codes/Canonical/compare_canonical/fit3d_gt_pkl/s09/compare_input_type_s09_warmup_10_60457274.mp4 already exists\n",
      "/home/hrai/codes/MotionBERT/custom_codes/Canonical/compare_canonical/fit3d_gt_pkl/s10/compare_input_type_s10_warmup_1_50591643.mp4 already exists\n",
      "/home/hrai/codes/MotionBERT/custom_codes/Canonical/compare_canonical/fit3d_gt_pkl/s05/compare_input_type_s05_warmup_10_60457274.mp4 already exists\n",
      "/home/hrai/codes/MotionBERT/custom_codes/Canonical/compare_canonical/fit3d_gt_pkl/s10/compare_input_type_s10_warmup_7_65906101.mp4 already exists\n",
      "/home/hrai/codes/MotionBERT/custom_codes/Canonical/compare_canonical/fit3d_gt_pkl/s09/compare_input_type_s09_dumbbell_overhead_shoulder_press_50591643.mp4 already exists\n",
      "/home/hrai/codes/MotionBERT/custom_codes/Canonical/compare_canonical/fit3d_gt_pkl/s11/compare_input_type_s11_warmup_19_60457274.mp4 already exists\n",
      "/home/hrai/codes/MotionBERT/custom_codes/Canonical/compare_canonical/fit3d_gt_pkl/s07/compare_input_type_s07_side_lateral_raise_50591643.mp4 already exists\n",
      "/home/hrai/codes/MotionBERT/custom_codes/Canonical/compare_canonical/fit3d_gt_pkl/s08/compare_input_type_s08_barbell_dead_row_60457274.mp4 already exists\n",
      "/home/hrai/codes/MotionBERT/custom_codes/Canonical/compare_canonical/fit3d_gt_pkl/s09/compare_input_type_s09_warmup_19_65906101.mp4 already exists\n",
      "/home/hrai/codes/MotionBERT/custom_codes/Canonical/compare_canonical/fit3d_gt_pkl/s08/compare_input_type_s08_barbell_shrug_60457274.mp4 already exists\n",
      "/home/hrai/codes/MotionBERT/custom_codes/Canonical/compare_canonical/fit3d_gt_pkl/s11/compare_input_type_s11_warmup_1_60457274.mp4 already exists\n",
      "/home/hrai/codes/MotionBERT/custom_codes/Canonical/compare_canonical/fit3d_gt_pkl/s09/compare_input_type_s09_warmup_8_58860488.mp4 already exists\n",
      "/home/hrai/codes/MotionBERT/custom_codes/Canonical/compare_canonical/fit3d_gt_pkl/s08/compare_input_type_s08_dumbbell_reverse_lunge_58860488.mp4 already exists\n",
      "/home/hrai/codes/MotionBERT/custom_codes/Canonical/compare_canonical/fit3d_gt_pkl/s03/compare_input_type_s03_warmup_16_60457274.mp4 already exists\n",
      "/home/hrai/codes/MotionBERT/custom_codes/Canonical/compare_canonical/fit3d_gt_pkl/s08/compare_input_type_s08_warmup_19_65906101.mp4 already exists\n",
      "/home/hrai/codes/MotionBERT/custom_codes/Canonical/compare_canonical/fit3d_gt_pkl/s08/compare_input_type_s08_dumbbell_reverse_lunge_50591643.mp4 already exists\n",
      "/home/hrai/codes/MotionBERT/custom_codes/Canonical/compare_canonical/fit3d_gt_pkl/s08/compare_input_type_s08_barbell_shrug_50591643.mp4 already exists\n",
      "/home/hrai/codes/MotionBERT/custom_codes/Canonical/compare_canonical/fit3d_gt_pkl/s09/compare_input_type_s09_neutral_overhead_shoulder_press_60457274.mp4 already exists\n",
      "/home/hrai/codes/MotionBERT/custom_codes/Canonical/compare_canonical/fit3d_gt_pkl/s03/compare_input_type_s03_standing_ab_twists_60457274.mp4 already exists\n",
      "/home/hrai/codes/MotionBERT/custom_codes/Canonical/compare_canonical/fit3d_gt_pkl/s08/compare_input_type_s08_warmup_9_65906101.mp4 already exists\n",
      "/home/hrai/codes/MotionBERT/custom_codes/Canonical/compare_canonical/fit3d_gt_pkl/s03/compare_input_type_s03_one_arm_row_65906101.mp4 already exists\n",
      "/home/hrai/codes/MotionBERT/custom_codes/Canonical/compare_canonical/fit3d_gt_pkl/s07/compare_input_type_s07_dumbbell_hammer_curls_65906101.mp4 already exists\n",
      "/home/hrai/codes/MotionBERT/custom_codes/Canonical/compare_canonical/fit3d_gt_pkl/s04/compare_input_type_s04_barbell_dead_row_60457274.mp4 already exists\n",
      "/home/hrai/codes/MotionBERT/custom_codes/Canonical/compare_canonical/fit3d_gt_pkl/s03/compare_input_type_s03_warmup_6_60457274.mp4 already exists\n",
      "/home/hrai/codes/MotionBERT/custom_codes/Canonical/compare_canonical/fit3d_gt_pkl/s08/compare_input_type_s08_dumbbell_scaptions_60457274.mp4 already exists\n",
      "/home/hrai/codes/MotionBERT/custom_codes/Canonical/compare_canonical/fit3d_gt_pkl/s03/compare_input_type_s03_dumbbell_curl_trifecta_60457274.mp4 already exists\n",
      "/home/hrai/codes/MotionBERT/custom_codes/Canonical/compare_canonical/fit3d_gt_pkl/s08/compare_input_type_s08_warmup_9_58860488.mp4 already exists\n",
      "/home/hrai/codes/MotionBERT/custom_codes/Canonical/compare_canonical/fit3d_gt_pkl/s10/compare_input_type_s10_pushup_65906101.mp4 already exists\n",
      "/home/hrai/codes/MotionBERT/custom_codes/Canonical/compare_canonical/fit3d_gt_pkl/s03/compare_input_type_s03_dumbbell_scaptions_60457274.mp4 already exists\n",
      "/home/hrai/codes/MotionBERT/custom_codes/Canonical/compare_canonical/fit3d_gt_pkl/s07/compare_input_type_s07_warmup_13_58860488.mp4 already exists\n",
      "/home/hrai/codes/MotionBERT/custom_codes/Canonical/compare_canonical/fit3d_gt_pkl/s10/compare_input_type_s10_squat_50591643.mp4 already exists\n",
      "/home/hrai/codes/MotionBERT/custom_codes/Canonical/compare_canonical/fit3d_gt_pkl/s09/compare_input_type_s09_warmup_1_60457274.mp4 already exists\n",
      "/home/hrai/codes/MotionBERT/custom_codes/Canonical/compare_canonical/fit3d_gt_pkl/s11/compare_input_type_s11_dumbbell_biceps_curls_65906101.mp4 already exists\n",
      "/home/hrai/codes/MotionBERT/custom_codes/Canonical/compare_canonical/fit3d_gt_pkl/s10/compare_input_type_s10_warmup_10_58860488.mp4 already exists\n",
      "/home/hrai/codes/MotionBERT/custom_codes/Canonical/compare_canonical/fit3d_gt_pkl/s10/compare_input_type_s10_warmup_14_50591643.mp4 already exists\n",
      "/home/hrai/codes/MotionBERT/custom_codes/Canonical/compare_canonical/fit3d_gt_pkl/s09/compare_input_type_s09_w_raise_58860488.mp4 already exists\n",
      "/home/hrai/codes/MotionBERT/custom_codes/Canonical/compare_canonical/fit3d_gt_pkl/s07/compare_input_type_s07_clean_and_press_65906101.mp4 already exists\n",
      "/home/hrai/codes/MotionBERT/custom_codes/Canonical/compare_canonical/fit3d_gt_pkl/s09/compare_input_type_s09_overhead_extension_thruster_65906101.mp4 already exists\n",
      "/home/hrai/codes/MotionBERT/custom_codes/Canonical/compare_canonical/fit3d_gt_pkl/s09/compare_input_type_s09_squat_50591643.mp4 already exists\n",
      "/home/hrai/codes/MotionBERT/custom_codes/Canonical/compare_canonical/fit3d_gt_pkl/s03/compare_input_type_s03_clean_and_press_50591643.mp4 already exists\n",
      "/home/hrai/codes/MotionBERT/custom_codes/Canonical/compare_canonical/fit3d_gt_pkl/s04/compare_input_type_s04_standing_ab_twists_65906101.mp4 already exists\n",
      "/home/hrai/codes/MotionBERT/custom_codes/Canonical/compare_canonical/fit3d_gt_pkl/s11/compare_input_type_s11_side_lateral_raise_50591643.mp4 already exists\n",
      "/home/hrai/codes/MotionBERT/custom_codes/Canonical/compare_canonical/fit3d_gt_pkl/s11/compare_input_type_s11_man_maker_65906101.mp4 already exists\n",
      "/home/hrai/codes/MotionBERT/custom_codes/Canonical/compare_canonical/fit3d_gt_pkl/s11/compare_input_type_s11_barbell_row_58860488.mp4 already exists\n",
      "/home/hrai/codes/MotionBERT/custom_codes/Canonical/compare_canonical/fit3d_gt_pkl/s09/compare_input_type_s09_burpees_50591643.mp4 already exists\n",
      "/home/hrai/codes/MotionBERT/custom_codes/Canonical/compare_canonical/fit3d_gt_pkl/s10/compare_input_type_s10_burpees_50591643.mp4 already exists\n",
      "/home/hrai/codes/MotionBERT/custom_codes/Canonical/compare_canonical/fit3d_gt_pkl/s07/compare_input_type_s07_dumbbell_biceps_curls_65906101.mp4 already exists\n",
      "/home/hrai/codes/MotionBERT/custom_codes/Canonical/compare_canonical/fit3d_gt_pkl/s09/compare_input_type_s09_one_arm_row_58860488.mp4 already exists\n",
      "/home/hrai/codes/MotionBERT/custom_codes/Canonical/compare_canonical/fit3d_gt_pkl/s11/compare_input_type_s11_standing_ab_twists_50591643.mp4 already exists\n",
      "/home/hrai/codes/MotionBERT/custom_codes/Canonical/compare_canonical/fit3d_gt_pkl/s10/compare_input_type_s10_dumbbell_high_pulls_58860488.mp4 already exists\n",
      "/home/hrai/codes/MotionBERT/custom_codes/Canonical/compare_canonical/fit3d_gt_pkl/s10/compare_input_type_s10_warmup_4_50591643.mp4 already exists\n",
      "/home/hrai/codes/MotionBERT/custom_codes/Canonical/compare_canonical/fit3d_gt_pkl/s07/compare_input_type_s07_dumbbell_curl_trifecta_58860488.mp4 already exists\n",
      "/home/hrai/codes/MotionBERT/custom_codes/Canonical/compare_canonical/fit3d_gt_pkl/s07/compare_input_type_s07_walk_the_box_60457274.mp4 already exists\n",
      "/home/hrai/codes/MotionBERT/custom_codes/Canonical/compare_canonical/fit3d_gt_pkl/s07/compare_input_type_s07_warmup_18_60457274.mp4 already exists\n",
      "/home/hrai/codes/MotionBERT/custom_codes/Canonical/compare_canonical/fit3d_gt_pkl/s11/compare_input_type_s11_side_lateral_raise_58860488.mp4 already exists\n",
      "/home/hrai/codes/MotionBERT/custom_codes/Canonical/compare_canonical/fit3d_gt_pkl/s09/compare_input_type_s09_warmup_5_60457274.mp4 already exists\n",
      "/home/hrai/codes/MotionBERT/custom_codes/Canonical/compare_canonical/fit3d_gt_pkl/s04/compare_input_type_s04_warmup_10_60457274.mp4 already exists\n",
      "/home/hrai/codes/MotionBERT/custom_codes/Canonical/compare_canonical/fit3d_gt_pkl/s10/compare_input_type_s10_warmup_15_60457274.mp4 already exists\n",
      "/home/hrai/codes/MotionBERT/custom_codes/Canonical/compare_canonical/fit3d_gt_pkl/s11/compare_input_type_s11_drag_curl_60457274.mp4 already exists\n",
      "/home/hrai/codes/MotionBERT/custom_codes/Canonical/compare_canonical/fit3d_gt_pkl/s03/compare_input_type_s03_diamond_pushup_65906101.mp4 already exists\n",
      "/home/hrai/codes/MotionBERT/custom_codes/Canonical/compare_canonical/fit3d_gt_pkl/s08/compare_input_type_s08_warmup_14_50591643.mp4 already exists\n",
      "/home/hrai/codes/MotionBERT/custom_codes/Canonical/compare_canonical/fit3d_gt_pkl/s05/compare_input_type_s05_band_pull_apart_65906101.mp4 already exists\n",
      "/home/hrai/codes/MotionBERT/custom_codes/Canonical/compare_canonical/fit3d_gt_pkl/s04/compare_input_type_s04_warmup_5_65906101.mp4 already exists\n",
      "/home/hrai/codes/MotionBERT/custom_codes/Canonical/compare_canonical/fit3d_gt_pkl/s03/compare_input_type_s03_band_pull_apart_50591643.mp4 already exists\n",
      "/home/hrai/codes/MotionBERT/custom_codes/Canonical/compare_canonical/fit3d_gt_pkl/s05/compare_input_type_s05_warmup_15_58860488.mp4 already exists\n",
      "/home/hrai/codes/MotionBERT/custom_codes/Canonical/compare_canonical/fit3d_gt_pkl/s04/compare_input_type_s04_dumbbell_high_pulls_50591643.mp4 already exists\n",
      "/home/hrai/codes/MotionBERT/custom_codes/Canonical/compare_canonical/fit3d_gt_pkl/s04/compare_input_type_s04_mule_kick_50591643.mp4 already exists\n",
      "/home/hrai/codes/MotionBERT/custom_codes/Canonical/compare_canonical/fit3d_gt_pkl/s11/compare_input_type_s11_dumbbell_hammer_curls_50591643.mp4 already exists\n",
      "/home/hrai/codes/MotionBERT/custom_codes/Canonical/compare_canonical/fit3d_gt_pkl/s09/compare_input_type_s09_mule_kick_60457274.mp4 already exists\n",
      "/home/hrai/codes/MotionBERT/custom_codes/Canonical/compare_canonical/fit3d_gt_pkl/s04/compare_input_type_s04_warmup_3_50591643.mp4 already exists\n",
      "/home/hrai/codes/MotionBERT/custom_codes/Canonical/compare_canonical/fit3d_gt_pkl/s10/compare_input_type_s10_diamond_pushup_60457274.mp4 already exists\n",
      "/home/hrai/codes/MotionBERT/custom_codes/Canonical/compare_canonical/fit3d_gt_pkl/s09/compare_input_type_s09_dumbbell_high_pulls_58860488.mp4 already exists\n",
      "/home/hrai/codes/MotionBERT/custom_codes/Canonical/compare_canonical/fit3d_gt_pkl/s09/compare_input_type_s09_warmup_15_60457274.mp4 already exists\n",
      "/home/hrai/codes/MotionBERT/custom_codes/Canonical/compare_canonical/fit3d_gt_pkl/s09/compare_input_type_s09_warmup_9_58860488.mp4 already exists\n",
      "/home/hrai/codes/MotionBERT/custom_codes/Canonical/compare_canonical/fit3d_gt_pkl/s10/compare_input_type_s10_clean_and_press_60457274.mp4 already exists\n",
      "/home/hrai/codes/MotionBERT/custom_codes/Canonical/compare_canonical/fit3d_gt_pkl/s09/compare_input_type_s09_warmup_11_60457274.mp4 already exists\n",
      "/home/hrai/codes/MotionBERT/custom_codes/Canonical/compare_canonical/fit3d_gt_pkl/s05/compare_input_type_s05_warmup_8_58860488.mp4 already exists\n",
      "/home/hrai/codes/MotionBERT/custom_codes/Canonical/compare_canonical/fit3d_gt_pkl/s05/compare_input_type_s05_barbell_shrug_58860488.mp4 already exists\n",
      "/home/hrai/codes/MotionBERT/custom_codes/Canonical/compare_canonical/fit3d_gt_pkl/s10/compare_input_type_s10_warmup_6_58860488.mp4 already exists\n",
      "/home/hrai/codes/MotionBERT/custom_codes/Canonical/compare_canonical/fit3d_gt_pkl/s05/compare_input_type_s05_dumbbell_hammer_curls_60457274.mp4 already exists\n",
      "/home/hrai/codes/MotionBERT/custom_codes/Canonical/compare_canonical/fit3d_gt_pkl/s11/compare_input_type_s11_warmup_10_65906101.mp4 already exists\n",
      "/home/hrai/codes/MotionBERT/custom_codes/Canonical/compare_canonical/fit3d_gt_pkl/s08/compare_input_type_s08_warmup_9_60457274.mp4 already exists\n",
      "/home/hrai/codes/MotionBERT/custom_codes/Canonical/compare_canonical/fit3d_gt_pkl/s07/compare_input_type_s07_neutral_overhead_shoulder_press_65906101.mp4 already exists\n",
      "/home/hrai/codes/MotionBERT/custom_codes/Canonical/compare_canonical/fit3d_gt_pkl/s10/compare_input_type_s10_dumbbell_reverse_lunge_58860488.mp4 already exists\n",
      "/home/hrai/codes/MotionBERT/custom_codes/Canonical/compare_canonical/fit3d_gt_pkl/s04/compare_input_type_s04_warmup_9_50591643.mp4 already exists\n",
      "/home/hrai/codes/MotionBERT/custom_codes/Canonical/compare_canonical/fit3d_gt_pkl/s03/compare_input_type_s03_dumbbell_overhead_shoulder_press_60457274.mp4 already exists\n",
      "/home/hrai/codes/MotionBERT/custom_codes/Canonical/compare_canonical/fit3d_gt_pkl/s10/compare_input_type_s10_barbell_shrug_65906101.mp4 already exists\n",
      "/home/hrai/codes/MotionBERT/custom_codes/Canonical/compare_canonical/fit3d_gt_pkl/s05/compare_input_type_s05_warmup_7_60457274.mp4 already exists\n",
      "/home/hrai/codes/MotionBERT/custom_codes/Canonical/compare_canonical/fit3d_gt_pkl/s05/compare_input_type_s05_warmup_14_50591643.mp4 already exists\n",
      "/home/hrai/codes/MotionBERT/custom_codes/Canonical/compare_canonical/fit3d_gt_pkl/s04/compare_input_type_s04_overhead_trap_raises_60457274.mp4 already exists\n",
      "/home/hrai/codes/MotionBERT/custom_codes/Canonical/compare_canonical/fit3d_gt_pkl/s09/compare_input_type_s09_dumbbell_biceps_curls_50591643.mp4 already exists\n",
      "/home/hrai/codes/MotionBERT/custom_codes/Canonical/compare_canonical/fit3d_gt_pkl/s11/compare_input_type_s11_warmup_12_65906101.mp4 already exists\n",
      "/home/hrai/codes/MotionBERT/custom_codes/Canonical/compare_canonical/fit3d_gt_pkl/s03/compare_input_type_s03_pushup_65906101.mp4 already exists\n",
      "/home/hrai/codes/MotionBERT/custom_codes/Canonical/compare_canonical/fit3d_gt_pkl/s03/compare_input_type_s03_warmup_18_58860488.mp4 already exists\n",
      "/home/hrai/codes/MotionBERT/custom_codes/Canonical/compare_canonical/fit3d_gt_pkl/s10/compare_input_type_s10_side_lateral_raise_50591643.mp4 already exists\n",
      "/home/hrai/codes/MotionBERT/custom_codes/Canonical/compare_canonical/fit3d_gt_pkl/s08/compare_input_type_s08_warmup_1_58860488.mp4 already exists\n",
      "/home/hrai/codes/MotionBERT/custom_codes/Canonical/compare_canonical/fit3d_gt_pkl/s10/compare_input_type_s10_one_arm_row_65906101.mp4 already exists\n",
      "/home/hrai/codes/MotionBERT/custom_codes/Canonical/compare_canonical/fit3d_gt_pkl/s08/compare_input_type_s08_band_pull_apart_50591643.mp4 already exists\n",
      "/home/hrai/codes/MotionBERT/custom_codes/Canonical/compare_canonical/fit3d_gt_pkl/s05/compare_input_type_s05_barbell_dead_row_65906101.mp4 already exists\n",
      "/home/hrai/codes/MotionBERT/custom_codes/Canonical/compare_canonical/fit3d_gt_pkl/s11/compare_input_type_s11_warmup_8_50591643.mp4 already exists\n",
      "/home/hrai/codes/MotionBERT/custom_codes/Canonical/compare_canonical/fit3d_gt_pkl/s08/compare_input_type_s08_warmup_17_50591643.mp4 already exists\n",
      "/home/hrai/codes/MotionBERT/custom_codes/Canonical/compare_canonical/fit3d_gt_pkl/s10/compare_input_type_s10_warmup_18_60457274.mp4 already exists\n",
      "/home/hrai/codes/MotionBERT/custom_codes/Canonical/compare_canonical/fit3d_gt_pkl/s05/compare_input_type_s05_drag_curl_65906101.mp4 already exists\n",
      "/home/hrai/codes/MotionBERT/custom_codes/Canonical/compare_canonical/fit3d_gt_pkl/s11/compare_input_type_s11_man_maker_50591643.mp4 already exists\n",
      "/home/hrai/codes/MotionBERT/custom_codes/Canonical/compare_canonical/fit3d_gt_pkl/s04/compare_input_type_s04_warmup_18_50591643.mp4 already exists\n",
      "/home/hrai/codes/MotionBERT/custom_codes/Canonical/compare_canonical/fit3d_gt_pkl/s05/compare_input_type_s05_side_lateral_raise_50591643.mp4 already exists\n",
      "/home/hrai/codes/MotionBERT/custom_codes/Canonical/compare_canonical/fit3d_gt_pkl/s08/compare_input_type_s08_band_pull_apart_60457274.mp4 already exists\n",
      "/home/hrai/codes/MotionBERT/custom_codes/Canonical/compare_canonical/fit3d_gt_pkl/s08/compare_input_type_s08_dumbbell_hammer_curls_60457274.mp4 already exists\n",
      "/home/hrai/codes/MotionBERT/custom_codes/Canonical/compare_canonical/fit3d_gt_pkl/s09/compare_input_type_s09_warmup_1_65906101.mp4 already exists\n",
      "/home/hrai/codes/MotionBERT/custom_codes/Canonical/compare_canonical/fit3d_gt_pkl/s11/compare_input_type_s11_neutral_overhead_shoulder_press_58860488.mp4 already exists\n",
      "/home/hrai/codes/MotionBERT/custom_codes/Canonical/compare_canonical/fit3d_gt_pkl/s08/compare_input_type_s08_overhead_trap_raises_60457274.mp4 already exists\n",
      "/home/hrai/codes/MotionBERT/custom_codes/Canonical/compare_canonical/fit3d_gt_pkl/s07/compare_input_type_s07_warmup_7_65906101.mp4 already exists\n",
      "/home/hrai/codes/MotionBERT/custom_codes/Canonical/compare_canonical/fit3d_gt_pkl/s07/compare_input_type_s07_burpees_60457274.mp4 already exists\n",
      "/home/hrai/codes/MotionBERT/custom_codes/Canonical/compare_canonical/fit3d_gt_pkl/s05/compare_input_type_s05_w_raise_60457274.mp4 already exists\n",
      "/home/hrai/codes/MotionBERT/custom_codes/Canonical/compare_canonical/fit3d_gt_pkl/s04/compare_input_type_s04_warmup_2_60457274.mp4 already exists\n",
      "/home/hrai/codes/MotionBERT/custom_codes/Canonical/compare_canonical/fit3d_gt_pkl/s10/compare_input_type_s10_mule_kick_65906101.mp4 already exists\n",
      "/home/hrai/codes/MotionBERT/custom_codes/Canonical/compare_canonical/fit3d_gt_pkl/s04/compare_input_type_s04_warmup_5_58860488.mp4 already exists\n",
      "/home/hrai/codes/MotionBERT/custom_codes/Canonical/compare_canonical/fit3d_gt_pkl/s05/compare_input_type_s05_w_raise_50591643.mp4 already exists\n",
      "/home/hrai/codes/MotionBERT/custom_codes/Canonical/compare_canonical/fit3d_gt_pkl/s10/compare_input_type_s10_warmup_12_58860488.mp4 already exists\n",
      "/home/hrai/codes/MotionBERT/custom_codes/Canonical/compare_canonical/fit3d_gt_pkl/s11/compare_input_type_s11_overhead_extension_thruster_50591643.mp4 already exists\n",
      "/home/hrai/codes/MotionBERT/custom_codes/Canonical/compare_canonical/fit3d_gt_pkl/s09/compare_input_type_s09_pushup_65906101.mp4 already exists\n",
      "/home/hrai/codes/MotionBERT/custom_codes/Canonical/compare_canonical/fit3d_gt_pkl/s09/compare_input_type_s09_neutral_overhead_shoulder_press_65906101.mp4 already exists\n",
      "/home/hrai/codes/MotionBERT/custom_codes/Canonical/compare_canonical/fit3d_gt_pkl/s04/compare_input_type_s04_warmup_9_65906101.mp4 already exists\n",
      "/home/hrai/codes/MotionBERT/custom_codes/Canonical/compare_canonical/fit3d_gt_pkl/s09/compare_input_type_s09_warmup_16_50591643.mp4 already exists\n",
      "/home/hrai/codes/MotionBERT/custom_codes/Canonical/compare_canonical/fit3d_gt_pkl/s07/compare_input_type_s07_diamond_pushup_50591643.mp4 already exists\n",
      "/home/hrai/codes/MotionBERT/custom_codes/Canonical/compare_canonical/fit3d_gt_pkl/s09/compare_input_type_s09_dumbbell_hammer_curls_58860488.mp4 already exists\n",
      "/home/hrai/codes/MotionBERT/custom_codes/Canonical/compare_canonical/fit3d_gt_pkl/s08/compare_input_type_s08_w_raise_50591643.mp4 already exists\n",
      "/home/hrai/codes/MotionBERT/custom_codes/Canonical/compare_canonical/fit3d_gt_pkl/s08/compare_input_type_s08_w_raise_65906101.mp4 already exists\n",
      "/home/hrai/codes/MotionBERT/custom_codes/Canonical/compare_canonical/fit3d_gt_pkl/s09/compare_input_type_s09_warmup_14_58860488.mp4 already exists\n",
      "/home/hrai/codes/MotionBERT/custom_codes/Canonical/compare_canonical/fit3d_gt_pkl/s11/compare_input_type_s11_deadlift_60457274.mp4 already exists\n",
      "/home/hrai/codes/MotionBERT/custom_codes/Canonical/compare_canonical/fit3d_gt_pkl/s07/compare_input_type_s07_dumbbell_overhead_shoulder_press_60457274.mp4 already exists\n",
      "/home/hrai/codes/MotionBERT/custom_codes/Canonical/compare_canonical/fit3d_gt_pkl/s10/compare_input_type_s10_warmup_16_65906101.mp4 already exists\n",
      "/home/hrai/codes/MotionBERT/custom_codes/Canonical/compare_canonical/fit3d_gt_pkl/s08/compare_input_type_s08_drag_curl_60457274.mp4 already exists\n",
      "/home/hrai/codes/MotionBERT/custom_codes/Canonical/compare_canonical/fit3d_gt_pkl/s09/compare_input_type_s09_warmup_15_58860488.mp4 already exists\n",
      "/home/hrai/codes/MotionBERT/custom_codes/Canonical/compare_canonical/fit3d_gt_pkl/s04/compare_input_type_s04_side_lateral_raise_50591643.mp4 already exists\n",
      "/home/hrai/codes/MotionBERT/custom_codes/Canonical/compare_canonical/fit3d_gt_pkl/s11/compare_input_type_s11_warmup_1_65906101.mp4 already exists\n",
      "/home/hrai/codes/MotionBERT/custom_codes/Canonical/compare_canonical/fit3d_gt_pkl/s10/compare_input_type_s10_drag_curl_60457274.mp4 already exists\n",
      "/home/hrai/codes/MotionBERT/custom_codes/Canonical/compare_canonical/fit3d_gt_pkl/s08/compare_input_type_s08_warmup_2_58860488.mp4 already exists\n",
      "/home/hrai/codes/MotionBERT/custom_codes/Canonical/compare_canonical/fit3d_gt_pkl/s11/compare_input_type_s11_walk_the_box_60457274.mp4 already exists\n",
      "/home/hrai/codes/MotionBERT/custom_codes/Canonical/compare_canonical/fit3d_gt_pkl/s09/compare_input_type_s09_one_arm_row_60457274.mp4 already exists\n",
      "/home/hrai/codes/MotionBERT/custom_codes/Canonical/compare_canonical/fit3d_gt_pkl/s04/compare_input_type_s04_drag_curl_65906101.mp4 already exists\n",
      "/home/hrai/codes/MotionBERT/custom_codes/Canonical/compare_canonical/fit3d_gt_pkl/s11/compare_input_type_s11_drag_curl_65906101.mp4 already exists\n",
      "/home/hrai/codes/MotionBERT/custom_codes/Canonical/compare_canonical/fit3d_gt_pkl/s08/compare_input_type_s08_mule_kick_50591643.mp4 already exists\n",
      "/home/hrai/codes/MotionBERT/custom_codes/Canonical/compare_canonical/fit3d_gt_pkl/s05/compare_input_type_s05_clean_and_press_65906101.mp4 already exists\n",
      "/home/hrai/codes/MotionBERT/custom_codes/Canonical/compare_canonical/fit3d_gt_pkl/s09/compare_input_type_s09_man_maker_65906101.mp4 already exists\n",
      "/home/hrai/codes/MotionBERT/custom_codes/Canonical/compare_canonical/fit3d_gt_pkl/s07/compare_input_type_s07_drag_curl_65906101.mp4 already exists\n",
      "/home/hrai/codes/MotionBERT/custom_codes/Canonical/compare_canonical/fit3d_gt_pkl/s04/compare_input_type_s04_overhead_extension_thruster_60457274.mp4 already exists\n",
      "/home/hrai/codes/MotionBERT/custom_codes/Canonical/compare_canonical/fit3d_gt_pkl/s09/compare_input_type_s09_dumbbell_overhead_shoulder_press_58860488.mp4 already exists\n",
      "/home/hrai/codes/MotionBERT/custom_codes/Canonical/compare_canonical/fit3d_gt_pkl/s07/compare_input_type_s07_dumbbell_hammer_curls_58860488.mp4 already exists\n",
      "/home/hrai/codes/MotionBERT/custom_codes/Canonical/compare_canonical/fit3d_gt_pkl/s03/compare_input_type_s03_side_lateral_raise_50591643.mp4 already exists\n",
      "/home/hrai/codes/MotionBERT/custom_codes/Canonical/compare_canonical/fit3d_gt_pkl/s03/compare_input_type_s03_barbell_row_58860488.mp4 already exists\n",
      "/home/hrai/codes/MotionBERT/custom_codes/Canonical/compare_canonical/fit3d_gt_pkl/s11/compare_input_type_s11_band_pull_apart_60457274.mp4 already exists\n",
      "/home/hrai/codes/MotionBERT/custom_codes/Canonical/compare_canonical/fit3d_gt_pkl/s10/compare_input_type_s10_barbell_dead_row_65906101.mp4 already exists\n",
      "/home/hrai/codes/MotionBERT/custom_codes/Canonical/compare_canonical/fit3d_gt_pkl/s03/compare_input_type_s03_band_pull_apart_65906101.mp4 already exists\n",
      "/home/hrai/codes/MotionBERT/custom_codes/Canonical/compare_canonical/fit3d_gt_pkl/s04/compare_input_type_s04_warmup_11_50591643.mp4 already exists\n",
      "/home/hrai/codes/MotionBERT/custom_codes/Canonical/compare_canonical/fit3d_gt_pkl/s07/compare_input_type_s07_warmup_18_50591643.mp4 already exists\n",
      "/home/hrai/codes/MotionBERT/custom_codes/Canonical/compare_canonical/fit3d_gt_pkl/s11/compare_input_type_s11_warmup_10_58860488.mp4 already exists\n",
      "/home/hrai/codes/MotionBERT/custom_codes/Canonical/compare_canonical/fit3d_gt_pkl/s09/compare_input_type_s09_barbell_row_65906101.mp4 already exists\n",
      "/home/hrai/codes/MotionBERT/custom_codes/Canonical/compare_canonical/fit3d_gt_pkl/s07/compare_input_type_s07_squat_60457274.mp4 already exists\n",
      "/home/hrai/codes/MotionBERT/custom_codes/Canonical/compare_canonical/fit3d_gt_pkl/s05/compare_input_type_s05_dumbbell_curl_trifecta_60457274.mp4 already exists\n",
      "/home/hrai/codes/MotionBERT/custom_codes/Canonical/compare_canonical/fit3d_gt_pkl/s09/compare_input_type_s09_band_pull_apart_50591643.mp4 already exists\n",
      "/home/hrai/codes/MotionBERT/custom_codes/Canonical/compare_canonical/fit3d_gt_pkl/s03/compare_input_type_s03_warmup_10_58860488.mp4 already exists\n",
      "/home/hrai/codes/MotionBERT/custom_codes/Canonical/compare_canonical/fit3d_gt_pkl/s08/compare_input_type_s08_warmup_16_58860488.mp4 already exists\n",
      "/home/hrai/codes/MotionBERT/custom_codes/Canonical/compare_canonical/fit3d_gt_pkl/s10/compare_input_type_s10_warmup_19_65906101.mp4 already exists\n",
      "/home/hrai/codes/MotionBERT/custom_codes/Canonical/compare_canonical/fit3d_gt_pkl/s04/compare_input_type_s04_deadlift_60457274.mp4 already exists\n",
      "/home/hrai/codes/MotionBERT/custom_codes/Canonical/compare_canonical/fit3d_gt_pkl/s04/compare_input_type_s04_walk_the_box_58860488.mp4 already exists\n",
      "/home/hrai/codes/MotionBERT/custom_codes/Canonical/compare_canonical/fit3d_gt_pkl/s05/compare_input_type_s05_walk_the_box_50591643.mp4 already exists\n",
      "/home/hrai/codes/MotionBERT/custom_codes/Canonical/compare_canonical/fit3d_gt_pkl/s09/compare_input_type_s09_barbell_shrug_50591643.mp4 already exists\n",
      "/home/hrai/codes/MotionBERT/custom_codes/Canonical/compare_canonical/fit3d_gt_pkl/s09/compare_input_type_s09_warmup_16_60457274.mp4 already exists\n",
      "/home/hrai/codes/MotionBERT/custom_codes/Canonical/compare_canonical/fit3d_gt_pkl/s09/compare_input_type_s09_overhead_extension_thruster_60457274.mp4 already exists\n",
      "/home/hrai/codes/MotionBERT/custom_codes/Canonical/compare_canonical/fit3d_gt_pkl/s11/compare_input_type_s11_clean_and_press_65906101.mp4 already exists\n",
      "/home/hrai/codes/MotionBERT/custom_codes/Canonical/compare_canonical/fit3d_gt_pkl/s03/compare_input_type_s03_walk_the_box_60457274.mp4 already exists\n",
      "/home/hrai/codes/MotionBERT/custom_codes/Canonical/compare_canonical/fit3d_gt_pkl/s04/compare_input_type_s04_dumbbell_scaptions_60457274.mp4 already exists\n",
      "/home/hrai/codes/MotionBERT/custom_codes/Canonical/compare_canonical/fit3d_gt_pkl/s05/compare_input_type_s05_w_raise_65906101.mp4 already exists\n",
      "/home/hrai/codes/MotionBERT/custom_codes/Canonical/compare_canonical/fit3d_gt_pkl/s04/compare_input_type_s04_dumbbell_high_pulls_58860488.mp4 already exists\n",
      "/home/hrai/codes/MotionBERT/custom_codes/Canonical/compare_canonical/fit3d_gt_pkl/s11/compare_input_type_s11_warmup_17_60457274.mp4 already exists\n",
      "/home/hrai/codes/MotionBERT/custom_codes/Canonical/compare_canonical/fit3d_gt_pkl/s03/compare_input_type_s03_warmup_7_50591643.mp4 already exists\n",
      "/home/hrai/codes/MotionBERT/custom_codes/Canonical/compare_canonical/fit3d_gt_pkl/s09/compare_input_type_s09_overhead_extension_thruster_50591643.mp4 already exists\n",
      "/home/hrai/codes/MotionBERT/custom_codes/Canonical/compare_canonical/fit3d_gt_pkl/s07/compare_input_type_s07_w_raise_65906101.mp4 already exists\n",
      "/home/hrai/codes/MotionBERT/custom_codes/Canonical/compare_canonical/fit3d_gt_pkl/s05/compare_input_type_s05_dumbbell_overhead_shoulder_press_50591643.mp4 already exists\n",
      "/home/hrai/codes/MotionBERT/custom_codes/Canonical/compare_canonical/fit3d_gt_pkl/s03/compare_input_type_s03_barbell_shrug_50591643.mp4 already exists\n",
      "/home/hrai/codes/MotionBERT/custom_codes/Canonical/compare_canonical/fit3d_gt_pkl/s08/compare_input_type_s08_dumbbell_overhead_shoulder_press_50591643.mp4 already exists\n",
      "/home/hrai/codes/MotionBERT/custom_codes/Canonical/compare_canonical/fit3d_gt_pkl/s08/compare_input_type_s08_warmup_19_58860488.mp4 already exists\n",
      "/home/hrai/codes/MotionBERT/custom_codes/Canonical/compare_canonical/fit3d_gt_pkl/s07/compare_input_type_s07_mule_kick_58860488.mp4 already exists\n",
      "/home/hrai/codes/MotionBERT/custom_codes/Canonical/compare_canonical/fit3d_gt_pkl/s05/compare_input_type_s05_diamond_pushup_58860488.mp4 already exists\n",
      "/home/hrai/codes/MotionBERT/custom_codes/Canonical/compare_canonical/fit3d_gt_pkl/s04/compare_input_type_s04_warmup_10_58860488.mp4 already exists\n",
      "/home/hrai/codes/MotionBERT/custom_codes/Canonical/compare_canonical/fit3d_gt_pkl/s04/compare_input_type_s04_warmup_3_60457274.mp4 already exists\n",
      "/home/hrai/codes/MotionBERT/custom_codes/Canonical/compare_canonical/fit3d_gt_pkl/s08/compare_input_type_s08_overhead_trap_raises_50591643.mp4 already exists\n",
      "/home/hrai/codes/MotionBERT/custom_codes/Canonical/compare_canonical/fit3d_gt_pkl/s03/compare_input_type_s03_burpees_58860488.mp4 already exists\n",
      "/home/hrai/codes/MotionBERT/custom_codes/Canonical/compare_canonical/fit3d_gt_pkl/s03/compare_input_type_s03_dumbbell_reverse_lunge_58860488.mp4 already exists\n",
      "/home/hrai/codes/MotionBERT/custom_codes/Canonical/compare_canonical/fit3d_gt_pkl/s08/compare_input_type_s08_dumbbell_high_pulls_65906101.mp4 already exists\n",
      "/home/hrai/codes/MotionBERT/custom_codes/Canonical/compare_canonical/fit3d_gt_pkl/s10/compare_input_type_s10_pushup_60457274.mp4 already exists\n",
      "/home/hrai/codes/MotionBERT/custom_codes/Canonical/compare_canonical/fit3d_gt_pkl/s09/compare_input_type_s09_warmup_18_50591643.mp4 already exists\n",
      "/home/hrai/codes/MotionBERT/custom_codes/Canonical/compare_canonical/fit3d_gt_pkl/s08/compare_input_type_s08_man_maker_60457274.mp4 already exists\n",
      "/home/hrai/codes/MotionBERT/custom_codes/Canonical/compare_canonical/fit3d_gt_pkl/s05/compare_input_type_s05_barbell_row_50591643.mp4 already exists\n",
      "/home/hrai/codes/MotionBERT/custom_codes/Canonical/compare_canonical/fit3d_gt_pkl/s03/compare_input_type_s03_overhead_extension_thruster_65906101.mp4 already exists\n",
      "/home/hrai/codes/MotionBERT/custom_codes/Canonical/compare_canonical/fit3d_gt_pkl/s09/compare_input_type_s09_warmup_14_60457274.mp4 already exists\n",
      "/home/hrai/codes/MotionBERT/custom_codes/Canonical/compare_canonical/fit3d_gt_pkl/s03/compare_input_type_s03_warmup_10_60457274.mp4 already exists\n",
      "/home/hrai/codes/MotionBERT/custom_codes/Canonical/compare_canonical/fit3d_gt_pkl/s09/compare_input_type_s09_warmup_1_58860488.mp4 already exists\n",
      "/home/hrai/codes/MotionBERT/custom_codes/Canonical/compare_canonical/fit3d_gt_pkl/s08/compare_input_type_s08_diamond_pushup_65906101.mp4 already exists\n",
      "/home/hrai/codes/MotionBERT/custom_codes/Canonical/compare_canonical/fit3d_gt_pkl/s04/compare_input_type_s04_warmup_6_65906101.mp4 already exists\n",
      "/home/hrai/codes/MotionBERT/custom_codes/Canonical/compare_canonical/fit3d_gt_pkl/s03/compare_input_type_s03_neutral_overhead_shoulder_press_65906101.mp4 already exists\n",
      "/home/hrai/codes/MotionBERT/custom_codes/Canonical/compare_canonical/fit3d_gt_pkl/s05/compare_input_type_s05_mule_kick_50591643.mp4 already exists\n",
      "/home/hrai/codes/MotionBERT/custom_codes/Canonical/compare_canonical/fit3d_gt_pkl/s10/compare_input_type_s10_one_arm_row_50591643.mp4 already exists\n",
      "/home/hrai/codes/MotionBERT/custom_codes/Canonical/compare_canonical/fit3d_gt_pkl/s03/compare_input_type_s03_warmup_7_60457274.mp4 already exists\n",
      "/home/hrai/codes/MotionBERT/custom_codes/Canonical/compare_canonical/fit3d_gt_pkl/s07/compare_input_type_s07_overhead_trap_raises_50591643.mp4 already exists\n",
      "/home/hrai/codes/MotionBERT/custom_codes/Canonical/compare_canonical/fit3d_gt_pkl/s07/compare_input_type_s07_band_pull_apart_50591643.mp4 already exists\n",
      "/home/hrai/codes/MotionBERT/custom_codes/Canonical/compare_canonical/fit3d_gt_pkl/s03/compare_input_type_s03_w_raise_65906101.mp4 already exists\n",
      "/home/hrai/codes/MotionBERT/custom_codes/Canonical/compare_canonical/fit3d_gt_pkl/s05/compare_input_type_s05_warmup_5_58860488.mp4 already exists\n",
      "/home/hrai/codes/MotionBERT/custom_codes/Canonical/compare_canonical/fit3d_gt_pkl/s04/compare_input_type_s04_one_arm_row_65906101.mp4 already exists\n",
      "/home/hrai/codes/MotionBERT/custom_codes/Canonical/compare_canonical/fit3d_gt_pkl/s10/compare_input_type_s10_band_pull_apart_58860488.mp4 already exists\n",
      "/home/hrai/codes/MotionBERT/custom_codes/Canonical/compare_canonical/fit3d_gt_pkl/s10/compare_input_type_s10_dumbbell_overhead_shoulder_press_60457274.mp4 already exists\n",
      "/home/hrai/codes/MotionBERT/custom_codes/Canonical/compare_canonical/fit3d_gt_pkl/s04/compare_input_type_s04_squat_65906101.mp4 already exists\n",
      "/home/hrai/codes/MotionBERT/custom_codes/Canonical/compare_canonical/fit3d_gt_pkl/s07/compare_input_type_s07_warmup_7_50591643.mp4 already exists\n",
      "/home/hrai/codes/MotionBERT/custom_codes/Canonical/compare_canonical/fit3d_gt_pkl/s03/compare_input_type_s03_overhead_extension_thruster_50591643.mp4 already exists\n",
      "/home/hrai/codes/MotionBERT/custom_codes/Canonical/compare_canonical/fit3d_gt_pkl/s04/compare_input_type_s04_warmup_12_65906101.mp4 already exists\n",
      "/home/hrai/codes/MotionBERT/custom_codes/Canonical/compare_canonical/fit3d_gt_pkl/s07/compare_input_type_s07_warmup_12_65906101.mp4 already exists\n",
      "/home/hrai/codes/MotionBERT/custom_codes/Canonical/compare_canonical/fit3d_gt_pkl/s04/compare_input_type_s04_pushup_65906101.mp4 already exists\n",
      "/home/hrai/codes/MotionBERT/custom_codes/Canonical/compare_canonical/fit3d_gt_pkl/s09/compare_input_type_s09_warmup_6_58860488.mp4 already exists\n",
      "/home/hrai/codes/MotionBERT/custom_codes/Canonical/compare_canonical/fit3d_gt_pkl/s07/compare_input_type_s07_dumbbell_reverse_lunge_58860488.mp4 already exists\n",
      "/home/hrai/codes/MotionBERT/custom_codes/Canonical/compare_canonical/fit3d_gt_pkl/s08/compare_input_type_s08_dumbbell_biceps_curls_50591643.mp4 already exists\n",
      "/home/hrai/codes/MotionBERT/custom_codes/Canonical/compare_canonical/fit3d_gt_pkl/s03/compare_input_type_s03_deadlift_60457274.mp4 already exists\n",
      "/home/hrai/codes/MotionBERT/custom_codes/Canonical/compare_canonical/fit3d_gt_pkl/s10/compare_input_type_s10_warmup_10_60457274.mp4 already exists\n",
      "/home/hrai/codes/MotionBERT/custom_codes/Canonical/compare_canonical/fit3d_gt_pkl/s08/compare_input_type_s08_warmup_11_50591643.mp4 already exists\n",
      "/home/hrai/codes/MotionBERT/custom_codes/Canonical/compare_canonical/fit3d_gt_pkl/s11/compare_input_type_s11_barbell_shrug_50591643.mp4 already exists\n",
      "/home/hrai/codes/MotionBERT/custom_codes/Canonical/compare_canonical/fit3d_gt_pkl/s07/compare_input_type_s07_dumbbell_high_pulls_60457274.mp4 already exists\n",
      "/home/hrai/codes/MotionBERT/custom_codes/Canonical/compare_canonical/fit3d_gt_pkl/s05/compare_input_type_s05_one_arm_row_60457274.mp4 already exists\n",
      "/home/hrai/codes/MotionBERT/custom_codes/Canonical/compare_canonical/fit3d_gt_pkl/s07/compare_input_type_s07_w_raise_60457274.mp4 already exists\n",
      "/home/hrai/codes/MotionBERT/custom_codes/Canonical/compare_canonical/fit3d_gt_pkl/s08/compare_input_type_s08_barbell_row_50591643.mp4 already exists\n",
      "/home/hrai/codes/MotionBERT/custom_codes/Canonical/compare_canonical/fit3d_gt_pkl/s07/compare_input_type_s07_warmup_2_65906101.mp4 already exists\n",
      "/home/hrai/codes/MotionBERT/custom_codes/Canonical/compare_canonical/fit3d_gt_pkl/s07/compare_input_type_s07_warmup_11_60457274.mp4 already exists\n",
      "/home/hrai/codes/MotionBERT/custom_codes/Canonical/compare_canonical/fit3d_gt_pkl/s03/compare_input_type_s03_dumbbell_high_pulls_60457274.mp4 already exists\n",
      "/home/hrai/codes/MotionBERT/custom_codes/Canonical/compare_canonical/fit3d_gt_pkl/s05/compare_input_type_s05_deadlift_58860488.mp4 already exists\n",
      "/home/hrai/codes/MotionBERT/custom_codes/Canonical/compare_canonical/fit3d_gt_pkl/s03/compare_input_type_s03_dumbbell_hammer_curls_60457274.mp4 already exists\n",
      "/home/hrai/codes/MotionBERT/custom_codes/Canonical/compare_canonical/fit3d_gt_pkl/s11/compare_input_type_s11_pushup_50591643.mp4 already exists\n",
      "/home/hrai/codes/MotionBERT/custom_codes/Canonical/compare_canonical/fit3d_gt_pkl/s05/compare_input_type_s05_band_pull_apart_50591643.mp4 already exists\n",
      "/home/hrai/codes/MotionBERT/custom_codes/Canonical/compare_canonical/fit3d_gt_pkl/s03/compare_input_type_s03_warmup_4_50591643.mp4 already exists\n",
      "/home/hrai/codes/MotionBERT/custom_codes/Canonical/compare_canonical/fit3d_gt_pkl/s09/compare_input_type_s09_warmup_4_65906101.mp4 already exists\n",
      "/home/hrai/codes/MotionBERT/custom_codes/Canonical/compare_canonical/fit3d_gt_pkl/s10/compare_input_type_s10_dumbbell_overhead_shoulder_press_58860488.mp4 already exists\n",
      "/home/hrai/codes/MotionBERT/custom_codes/Canonical/compare_canonical/fit3d_gt_pkl/s10/compare_input_type_s10_neutral_overhead_shoulder_press_65906101.mp4 already exists\n",
      "/home/hrai/codes/MotionBERT/custom_codes/Canonical/compare_canonical/fit3d_gt_pkl/s07/compare_input_type_s07_warmup_19_60457274.mp4 already exists\n",
      "/home/hrai/codes/MotionBERT/custom_codes/Canonical/compare_canonical/fit3d_gt_pkl/s09/compare_input_type_s09_warmup_16_58860488.mp4 already exists\n",
      "/home/hrai/codes/MotionBERT/custom_codes/Canonical/compare_canonical/fit3d_gt_pkl/s11/compare_input_type_s11_warmup_5_60457274.mp4 already exists\n",
      "/home/hrai/codes/MotionBERT/custom_codes/Canonical/compare_canonical/fit3d_gt_pkl/s03/compare_input_type_s03_warmup_8_60457274.mp4 already exists\n",
      "/home/hrai/codes/MotionBERT/custom_codes/Canonical/compare_canonical/fit3d_gt_pkl/s05/compare_input_type_s05_man_maker_50591643.mp4 already exists\n",
      "/home/hrai/codes/MotionBERT/custom_codes/Canonical/compare_canonical/fit3d_gt_pkl/s09/compare_input_type_s09_warmup_5_50591643.mp4 already exists\n",
      "/home/hrai/codes/MotionBERT/custom_codes/Canonical/compare_canonical/fit3d_gt_pkl/s08/compare_input_type_s08_warmup_3_50591643.mp4 already exists\n",
      "/home/hrai/codes/MotionBERT/custom_codes/Canonical/compare_canonical/fit3d_gt_pkl/s08/compare_input_type_s08_warmup_6_58860488.mp4 already exists\n",
      "/home/hrai/codes/MotionBERT/custom_codes/Canonical/compare_canonical/fit3d_gt_pkl/s11/compare_input_type_s11_warmup_3_65906101.mp4 already exists\n",
      "/home/hrai/codes/MotionBERT/custom_codes/Canonical/compare_canonical/fit3d_gt_pkl/s08/compare_input_type_s08_one_arm_row_58860488.mp4 already exists\n",
      "/home/hrai/codes/MotionBERT/custom_codes/Canonical/compare_canonical/fit3d_gt_pkl/s08/compare_input_type_s08_standing_ab_twists_60457274.mp4 already exists\n",
      "/home/hrai/codes/MotionBERT/custom_codes/Canonical/compare_canonical/fit3d_gt_pkl/s10/compare_input_type_s10_warmup_3_60457274.mp4 already exists\n",
      "/home/hrai/codes/MotionBERT/custom_codes/Canonical/compare_canonical/fit3d_gt_pkl/s08/compare_input_type_s08_warmup_7_58860488.mp4 already exists\n",
      "/home/hrai/codes/MotionBERT/custom_codes/Canonical/compare_canonical/fit3d_gt_pkl/s03/compare_input_type_s03_dumbbell_scaptions_50591643.mp4 already exists\n",
      "/home/hrai/codes/MotionBERT/custom_codes/Canonical/compare_canonical/fit3d_gt_pkl/s07/compare_input_type_s07_w_raise_58860488.mp4 already exists\n",
      "/home/hrai/codes/MotionBERT/custom_codes/Canonical/compare_canonical/fit3d_gt_pkl/s03/compare_input_type_s03_dumbbell_scaptions_58860488.mp4 already exists\n",
      "/home/hrai/codes/MotionBERT/custom_codes/Canonical/compare_canonical/fit3d_gt_pkl/s05/compare_input_type_s05_warmup_15_65906101.mp4 already exists\n",
      "/home/hrai/codes/MotionBERT/custom_codes/Canonical/compare_canonical/fit3d_gt_pkl/s10/compare_input_type_s10_dumbbell_high_pulls_65906101.mp4 already exists\n",
      "/home/hrai/codes/MotionBERT/custom_codes/Canonical/compare_canonical/fit3d_gt_pkl/s03/compare_input_type_s03_warmup_18_60457274.mp4 already exists\n",
      "/home/hrai/codes/MotionBERT/custom_codes/Canonical/compare_canonical/fit3d_gt_pkl/s11/compare_input_type_s11_warmup_15_60457274.mp4 already exists\n",
      "/home/hrai/codes/MotionBERT/custom_codes/Canonical/compare_canonical/fit3d_gt_pkl/s09/compare_input_type_s09_dumbbell_high_pulls_65906101.mp4 already exists\n",
      "/home/hrai/codes/MotionBERT/custom_codes/Canonical/compare_canonical/fit3d_gt_pkl/s10/compare_input_type_s10_warmup_15_50591643.mp4 already exists\n",
      "/home/hrai/codes/MotionBERT/custom_codes/Canonical/compare_canonical/fit3d_gt_pkl/s04/compare_input_type_s04_walk_the_box_65906101.mp4 already exists\n",
      "/home/hrai/codes/MotionBERT/custom_codes/Canonical/compare_canonical/fit3d_gt_pkl/s04/compare_input_type_s04_dumbbell_overhead_shoulder_press_58860488.mp4 already exists\n",
      "/home/hrai/codes/MotionBERT/custom_codes/Canonical/compare_canonical/fit3d_gt_pkl/s10/compare_input_type_s10_neutral_overhead_shoulder_press_60457274.mp4 already exists\n",
      "/home/hrai/codes/MotionBERT/custom_codes/Canonical/compare_canonical/fit3d_gt_pkl/s09/compare_input_type_s09_dumbbell_curl_trifecta_60457274.mp4 already exists\n",
      "/home/hrai/codes/MotionBERT/custom_codes/Canonical/compare_canonical/fit3d_gt_pkl/s07/compare_input_type_s07_warmup_15_50591643.mp4 already exists\n",
      "/home/hrai/codes/MotionBERT/custom_codes/Canonical/compare_canonical/fit3d_gt_pkl/s07/compare_input_type_s07_warmup_9_50591643.mp4 already exists\n",
      "/home/hrai/codes/MotionBERT/custom_codes/Canonical/compare_canonical/fit3d_gt_pkl/s07/compare_input_type_s07_warmup_16_60457274.mp4 already exists\n",
      "/home/hrai/codes/MotionBERT/custom_codes/Canonical/compare_canonical/fit3d_gt_pkl/s07/compare_input_type_s07_warmup_2_50591643.mp4 already exists\n",
      "/home/hrai/codes/MotionBERT/custom_codes/Canonical/compare_canonical/fit3d_gt_pkl/s05/compare_input_type_s05_warmup_12_50591643.mp4 already exists\n",
      "/home/hrai/codes/MotionBERT/custom_codes/Canonical/compare_canonical/fit3d_gt_pkl/s03/compare_input_type_s03_warmup_3_60457274.mp4 already exists\n",
      "/home/hrai/codes/MotionBERT/custom_codes/Canonical/compare_canonical/fit3d_gt_pkl/s10/compare_input_type_s10_warmup_9_60457274.mp4 already exists\n",
      "/home/hrai/codes/MotionBERT/custom_codes/Canonical/compare_canonical/fit3d_gt_pkl/s07/compare_input_type_s07_warmup_11_65906101.mp4 already exists\n",
      "/home/hrai/codes/MotionBERT/custom_codes/Canonical/compare_canonical/fit3d_gt_pkl/s09/compare_input_type_s09_dumbbell_curl_trifecta_58860488.mp4 already exists\n",
      "/home/hrai/codes/MotionBERT/custom_codes/Canonical/compare_canonical/fit3d_gt_pkl/s10/compare_input_type_s10_overhead_extension_thruster_58860488.mp4 already exists\n",
      "/home/hrai/codes/MotionBERT/custom_codes/Canonical/compare_canonical/fit3d_gt_pkl/s09/compare_input_type_s09_warmup_12_50591643.mp4 already exists\n",
      "/home/hrai/codes/MotionBERT/custom_codes/Canonical/compare_canonical/fit3d_gt_pkl/s04/compare_input_type_s04_diamond_pushup_58860488.mp4 already exists\n",
      "/home/hrai/codes/MotionBERT/custom_codes/Canonical/compare_canonical/fit3d_gt_pkl/s11/compare_input_type_s11_one_arm_row_60457274.mp4 already exists\n",
      "/home/hrai/codes/MotionBERT/custom_codes/Canonical/compare_canonical/fit3d_gt_pkl/s11/compare_input_type_s11_warmup_3_60457274.mp4 already exists\n",
      "/home/hrai/codes/MotionBERT/custom_codes/Canonical/compare_canonical/fit3d_gt_pkl/s11/compare_input_type_s11_warmup_12_50591643.mp4 already exists\n",
      "/home/hrai/codes/MotionBERT/custom_codes/Canonical/compare_canonical/fit3d_gt_pkl/s10/compare_input_type_s10_deadlift_65906101.mp4 already exists\n",
      "/home/hrai/codes/MotionBERT/custom_codes/Canonical/compare_canonical/fit3d_gt_pkl/s08/compare_input_type_s08_dumbbell_scaptions_50591643.mp4 already exists\n",
      "/home/hrai/codes/MotionBERT/custom_codes/Canonical/compare_canonical/fit3d_gt_pkl/s03/compare_input_type_s03_dumbbell_high_pulls_50591643.mp4 already exists\n",
      "/home/hrai/codes/MotionBERT/custom_codes/Canonical/compare_canonical/fit3d_gt_pkl/s04/compare_input_type_s04_burpees_50591643.mp4 already exists\n",
      "/home/hrai/codes/MotionBERT/custom_codes/Canonical/compare_canonical/fit3d_gt_pkl/s03/compare_input_type_s03_dumbbell_scaptions_65906101.mp4 already exists\n",
      "/home/hrai/codes/MotionBERT/custom_codes/Canonical/compare_canonical/fit3d_gt_pkl/s10/compare_input_type_s10_warmup_14_60457274.mp4 already exists\n",
      "/home/hrai/codes/MotionBERT/custom_codes/Canonical/compare_canonical/fit3d_gt_pkl/s05/compare_input_type_s05_dumbbell_scaptions_50591643.mp4 already exists\n",
      "/home/hrai/codes/MotionBERT/custom_codes/Canonical/compare_canonical/fit3d_gt_pkl/s08/compare_input_type_s08_warmup_16_50591643.mp4 already exists\n",
      "/home/hrai/codes/MotionBERT/custom_codes/Canonical/compare_canonical/fit3d_gt_pkl/s03/compare_input_type_s03_walk_the_box_58860488.mp4 already exists\n",
      "/home/hrai/codes/MotionBERT/custom_codes/Canonical/compare_canonical/fit3d_gt_pkl/s07/compare_input_type_s07_dumbbell_biceps_curls_60457274.mp4 already exists\n",
      "/home/hrai/codes/MotionBERT/custom_codes/Canonical/compare_canonical/fit3d_gt_pkl/s03/compare_input_type_s03_dumbbell_biceps_curls_65906101.mp4 already exists\n",
      "/home/hrai/codes/MotionBERT/custom_codes/Canonical/compare_canonical/fit3d_gt_pkl/s09/compare_input_type_s09_warmup_5_58860488.mp4 already exists\n",
      "/home/hrai/codes/MotionBERT/custom_codes/Canonical/compare_canonical/fit3d_gt_pkl/s09/compare_input_type_s09_warmup_8_65906101.mp4 already exists\n",
      "/home/hrai/codes/MotionBERT/custom_codes/Canonical/compare_canonical/fit3d_gt_pkl/s11/compare_input_type_s11_dumbbell_biceps_curls_60457274.mp4 already exists\n",
      "/home/hrai/codes/MotionBERT/custom_codes/Canonical/compare_canonical/fit3d_gt_pkl/s04/compare_input_type_s04_dumbbell_curl_trifecta_50591643.mp4 already exists\n",
      "/home/hrai/codes/MotionBERT/custom_codes/Canonical/compare_canonical/fit3d_gt_pkl/s04/compare_input_type_s04_warmup_7_65906101.mp4 already exists\n",
      "/home/hrai/codes/MotionBERT/custom_codes/Canonical/compare_canonical/fit3d_gt_pkl/s11/compare_input_type_s11_warmup_6_60457274.mp4 already exists\n",
      "/home/hrai/codes/MotionBERT/custom_codes/Canonical/compare_canonical/fit3d_gt_pkl/s04/compare_input_type_s04_dumbbell_hammer_curls_50591643.mp4 already exists\n",
      "/home/hrai/codes/MotionBERT/custom_codes/Canonical/compare_canonical/fit3d_gt_pkl/s09/compare_input_type_s09_overhead_trap_raises_58860488.mp4 already exists\n",
      "/home/hrai/codes/MotionBERT/custom_codes/Canonical/compare_canonical/fit3d_gt_pkl/s05/compare_input_type_s05_warmup_4_50591643.mp4 already exists\n",
      "/home/hrai/codes/MotionBERT/custom_codes/Canonical/compare_canonical/fit3d_gt_pkl/s08/compare_input_type_s08_warmup_18_60457274.mp4 already exists\n",
      "/home/hrai/codes/MotionBERT/custom_codes/Canonical/compare_canonical/fit3d_gt_pkl/s03/compare_input_type_s03_warmup_14_60457274.mp4 already exists\n",
      "/home/hrai/codes/MotionBERT/custom_codes/Canonical/compare_canonical/fit3d_gt_pkl/s11/compare_input_type_s11_warmup_15_58860488.mp4 already exists\n",
      "/home/hrai/codes/MotionBERT/custom_codes/Canonical/compare_canonical/fit3d_gt_pkl/s03/compare_input_type_s03_warmup_1_58860488.mp4 already exists\n",
      "/home/hrai/codes/MotionBERT/custom_codes/Canonical/compare_canonical/fit3d_gt_pkl/s03/compare_input_type_s03_drag_curl_50591643.mp4 already exists\n",
      "/home/hrai/codes/MotionBERT/custom_codes/Canonical/compare_canonical/fit3d_gt_pkl/s10/compare_input_type_s10_warmup_18_65906101.mp4 already exists\n",
      "/home/hrai/codes/MotionBERT/custom_codes/Canonical/compare_canonical/fit3d_gt_pkl/s10/compare_input_type_s10_man_maker_58860488.mp4 already exists\n",
      "/home/hrai/codes/MotionBERT/custom_codes/Canonical/compare_canonical/fit3d_gt_pkl/s07/compare_input_type_s07_warmup_15_60457274.mp4 already exists\n",
      "/home/hrai/codes/MotionBERT/custom_codes/Canonical/compare_canonical/fit3d_gt_pkl/s11/compare_input_type_s11_warmup_7_65906101.mp4 already exists\n",
      "/home/hrai/codes/MotionBERT/custom_codes/Canonical/compare_canonical/fit3d_gt_pkl/s05/compare_input_type_s05_pushup_58860488.mp4 already exists\n",
      "/home/hrai/codes/MotionBERT/custom_codes/Canonical/compare_canonical/fit3d_gt_pkl/s03/compare_input_type_s03_warmup_14_58860488.mp4 already exists\n",
      "/home/hrai/codes/MotionBERT/custom_codes/Canonical/compare_canonical/fit3d_gt_pkl/s08/compare_input_type_s08_dumbbell_high_pulls_58860488.mp4 already exists\n",
      "/home/hrai/codes/MotionBERT/custom_codes/Canonical/compare_canonical/fit3d_gt_pkl/s11/compare_input_type_s11_warmup_2_65906101.mp4 already exists\n",
      "/home/hrai/codes/MotionBERT/custom_codes/Canonical/compare_canonical/fit3d_gt_pkl/s08/compare_input_type_s08_overhead_extension_thruster_58860488.mp4 already exists\n",
      "/home/hrai/codes/MotionBERT/custom_codes/Canonical/compare_canonical/fit3d_gt_pkl/s11/compare_input_type_s11_squat_65906101.mp4 already exists\n",
      "/home/hrai/codes/MotionBERT/custom_codes/Canonical/compare_canonical/fit3d_gt_pkl/s04/compare_input_type_s04_warmup_11_58860488.mp4 already exists\n",
      "/home/hrai/codes/MotionBERT/custom_codes/Canonical/compare_canonical/fit3d_gt_pkl/s03/compare_input_type_s03_overhead_extension_thruster_58860488.mp4 already exists\n",
      "/home/hrai/codes/MotionBERT/custom_codes/Canonical/compare_canonical/fit3d_gt_pkl/s11/compare_input_type_s11_dumbbell_scaptions_65906101.mp4 already exists\n",
      "/home/hrai/codes/MotionBERT/custom_codes/Canonical/compare_canonical/fit3d_gt_pkl/s10/compare_input_type_s10_warmup_7_60457274.mp4 already exists\n",
      "/home/hrai/codes/MotionBERT/custom_codes/Canonical/compare_canonical/fit3d_gt_pkl/s03/compare_input_type_s03_warmup_2_50591643.mp4 already exists\n",
      "/home/hrai/codes/MotionBERT/custom_codes/Canonical/compare_canonical/fit3d_gt_pkl/s09/compare_input_type_s09_walk_the_box_50591643.mp4 already exists\n",
      "/home/hrai/codes/MotionBERT/custom_codes/Canonical/compare_canonical/fit3d_gt_pkl/s09/compare_input_type_s09_dumbbell_reverse_lunge_50591643.mp4 already exists\n",
      "/home/hrai/codes/MotionBERT/custom_codes/Canonical/compare_canonical/fit3d_gt_pkl/s09/compare_input_type_s09_standing_ab_twists_60457274.mp4 already exists\n",
      "/home/hrai/codes/MotionBERT/custom_codes/Canonical/compare_canonical/fit3d_gt_pkl/s09/compare_input_type_s09_barbell_dead_row_65906101.mp4 already exists\n",
      "/home/hrai/codes/MotionBERT/custom_codes/Canonical/compare_canonical/fit3d_gt_pkl/s11/compare_input_type_s11_warmup_11_58860488.mp4 already exists\n",
      "/home/hrai/codes/MotionBERT/custom_codes/Canonical/compare_canonical/fit3d_gt_pkl/s07/compare_input_type_s07_warmup_8_58860488.mp4 already exists\n",
      "/home/hrai/codes/MotionBERT/custom_codes/Canonical/compare_canonical/fit3d_gt_pkl/s07/compare_input_type_s07_barbell_dead_row_60457274.mp4 already exists\n",
      "/home/hrai/codes/MotionBERT/custom_codes/Canonical/compare_canonical/fit3d_gt_pkl/s07/compare_input_type_s07_dumbbell_overhead_shoulder_press_50591643.mp4 already exists\n",
      "/home/hrai/codes/MotionBERT/custom_codes/Canonical/compare_canonical/fit3d_gt_pkl/s03/compare_input_type_s03_standing_ab_twists_65906101.mp4 already exists\n",
      "/home/hrai/codes/MotionBERT/custom_codes/Canonical/compare_canonical/fit3d_gt_pkl/s08/compare_input_type_s08_warmup_8_50591643.mp4 already exists\n",
      "/home/hrai/codes/MotionBERT/custom_codes/Canonical/compare_canonical/fit3d_gt_pkl/s03/compare_input_type_s03_dumbbell_high_pulls_65906101.mp4 already exists\n",
      "/home/hrai/codes/MotionBERT/custom_codes/Canonical/compare_canonical/fit3d_gt_pkl/s08/compare_input_type_s08_mule_kick_65906101.mp4 already exists\n",
      "/home/hrai/codes/MotionBERT/custom_codes/Canonical/compare_canonical/fit3d_gt_pkl/s09/compare_input_type_s09_dumbbell_scaptions_58860488.mp4 already exists\n",
      "/home/hrai/codes/MotionBERT/custom_codes/Canonical/compare_canonical/fit3d_gt_pkl/s09/compare_input_type_s09_dumbbell_overhead_shoulder_press_60457274.mp4 already exists\n",
      "/home/hrai/codes/MotionBERT/custom_codes/Canonical/compare_canonical/fit3d_gt_pkl/s08/compare_input_type_s08_one_arm_row_65906101.mp4 already exists\n",
      "/home/hrai/codes/MotionBERT/custom_codes/Canonical/compare_canonical/fit3d_gt_pkl/s11/compare_input_type_s11_warmup_4_65906101.mp4 already exists\n",
      "/home/hrai/codes/MotionBERT/custom_codes/Canonical/compare_canonical/fit3d_gt_pkl/s10/compare_input_type_s10_standing_ab_twists_65906101.mp4 already exists\n",
      "/home/hrai/codes/MotionBERT/custom_codes/Canonical/compare_canonical/fit3d_gt_pkl/s11/compare_input_type_s11_warmup_14_58860488.mp4 already exists\n",
      "/home/hrai/codes/MotionBERT/custom_codes/Canonical/compare_canonical/fit3d_gt_pkl/s09/compare_input_type_s09_diamond_pushup_58860488.mp4 already exists\n",
      "/home/hrai/codes/MotionBERT/custom_codes/Canonical/compare_canonical/fit3d_gt_pkl/s11/compare_input_type_s11_warmup_14_50591643.mp4 already exists\n",
      "/home/hrai/codes/MotionBERT/custom_codes/Canonical/compare_canonical/fit3d_gt_pkl/s03/compare_input_type_s03_deadlift_65906101.mp4 already exists\n",
      "/home/hrai/codes/MotionBERT/custom_codes/Canonical/compare_canonical/fit3d_gt_pkl/s05/compare_input_type_s05_man_maker_60457274.mp4 already exists\n",
      "/home/hrai/codes/MotionBERT/custom_codes/Canonical/compare_canonical/fit3d_gt_pkl/s03/compare_input_type_s03_warmup_14_50591643.mp4 already exists\n",
      "/home/hrai/codes/MotionBERT/custom_codes/Canonical/compare_canonical/fit3d_gt_pkl/s09/compare_input_type_s09_diamond_pushup_65906101.mp4 already exists\n",
      "/home/hrai/codes/MotionBERT/custom_codes/Canonical/compare_canonical/fit3d_gt_pkl/s10/compare_input_type_s10_diamond_pushup_50591643.mp4 already exists\n",
      "/home/hrai/codes/MotionBERT/custom_codes/Canonical/compare_canonical/fit3d_gt_pkl/s11/compare_input_type_s11_one_arm_row_58860488.mp4 already exists\n",
      "/home/hrai/codes/MotionBERT/custom_codes/Canonical/compare_canonical/fit3d_gt_pkl/s05/compare_input_type_s05_squat_50591643.mp4 already exists\n",
      "/home/hrai/codes/MotionBERT/custom_codes/Canonical/compare_canonical/fit3d_gt_pkl/s07/compare_input_type_s07_one_arm_row_58860488.mp4 already exists\n",
      "/home/hrai/codes/MotionBERT/custom_codes/Canonical/compare_canonical/fit3d_gt_pkl/s03/compare_input_type_s03_mule_kick_50591643.mp4 already exists\n",
      "/home/hrai/codes/MotionBERT/custom_codes/Canonical/compare_canonical/fit3d_gt_pkl/s05/compare_input_type_s05_dumbbell_high_pulls_58860488.mp4 already exists\n",
      "/home/hrai/codes/MotionBERT/custom_codes/Canonical/compare_canonical/fit3d_gt_pkl/s07/compare_input_type_s07_warmup_15_58860488.mp4 already exists\n",
      "/home/hrai/codes/MotionBERT/custom_codes/Canonical/compare_canonical/fit3d_gt_pkl/s09/compare_input_type_s09_neutral_overhead_shoulder_press_50591643.mp4 already exists\n",
      "/home/hrai/codes/MotionBERT/custom_codes/Canonical/compare_canonical/fit3d_gt_pkl/s03/compare_input_type_s03_warmup_4_58860488.mp4 already exists\n",
      "/home/hrai/codes/MotionBERT/custom_codes/Canonical/compare_canonical/fit3d_gt_pkl/s05/compare_input_type_s05_side_lateral_raise_58860488.mp4 already exists\n",
      "/home/hrai/codes/MotionBERT/custom_codes/Canonical/compare_canonical/fit3d_gt_pkl/s03/compare_input_type_s03_dumbbell_reverse_lunge_65906101.mp4 already exists\n",
      "/home/hrai/codes/MotionBERT/custom_codes/Canonical/compare_canonical/fit3d_gt_pkl/s05/compare_input_type_s05_dumbbell_curl_trifecta_50591643.mp4 already exists\n",
      "/home/hrai/codes/MotionBERT/custom_codes/Canonical/compare_canonical/fit3d_gt_pkl/s05/compare_input_type_s05_barbell_dead_row_50591643.mp4 already exists\n",
      "/home/hrai/codes/MotionBERT/custom_codes/Canonical/compare_canonical/fit3d_gt_pkl/s11/compare_input_type_s11_warmup_8_58860488.mp4 already exists\n",
      "/home/hrai/codes/MotionBERT/custom_codes/Canonical/compare_canonical/fit3d_gt_pkl/s04/compare_input_type_s04_w_raise_58860488.mp4 already exists\n",
      "/home/hrai/codes/MotionBERT/custom_codes/Canonical/compare_canonical/fit3d_gt_pkl/s10/compare_input_type_s10_mule_kick_58860488.mp4 already exists\n",
      "/home/hrai/codes/MotionBERT/custom_codes/Canonical/compare_canonical/fit3d_gt_pkl/s05/compare_input_type_s05_overhead_trap_raises_50591643.mp4 already exists\n",
      "/home/hrai/codes/MotionBERT/custom_codes/Canonical/compare_canonical/fit3d_gt_pkl/s07/compare_input_type_s07_warmup_6_65906101.mp4 already exists\n",
      "/home/hrai/codes/MotionBERT/custom_codes/Canonical/compare_canonical/fit3d_gt_pkl/s11/compare_input_type_s11_warmup_4_50591643.mp4 already exists\n",
      "/home/hrai/codes/MotionBERT/custom_codes/Canonical/compare_canonical/fit3d_gt_pkl/s08/compare_input_type_s08_one_arm_row_60457274.mp4 already exists\n",
      "/home/hrai/codes/MotionBERT/custom_codes/Canonical/compare_canonical/fit3d_gt_pkl/s07/compare_input_type_s07_pushup_65906101.mp4 already exists\n",
      "/home/hrai/codes/MotionBERT/custom_codes/Canonical/compare_canonical/fit3d_gt_pkl/s07/compare_input_type_s07_warmup_5_65906101.mp4 already exists\n",
      "/home/hrai/codes/MotionBERT/custom_codes/Canonical/compare_canonical/fit3d_gt_pkl/s10/compare_input_type_s10_warmup_19_58860488.mp4 already exists\n",
      "/home/hrai/codes/MotionBERT/custom_codes/Canonical/compare_canonical/fit3d_gt_pkl/s07/compare_input_type_s07_warmup_6_60457274.mp4 already exists\n",
      "/home/hrai/codes/MotionBERT/custom_codes/Canonical/compare_canonical/fit3d_gt_pkl/s10/compare_input_type_s10_warmup_4_58860488.mp4 already exists\n",
      "/home/hrai/codes/MotionBERT/custom_codes/Canonical/compare_canonical/fit3d_gt_pkl/s04/compare_input_type_s04_warmup_12_50591643.mp4 already exists\n",
      "/home/hrai/codes/MotionBERT/custom_codes/Canonical/compare_canonical/fit3d_gt_pkl/s08/compare_input_type_s08_warmup_13_50591643.mp4 already exists\n",
      "/home/hrai/codes/MotionBERT/custom_codes/Canonical/compare_canonical/fit3d_gt_pkl/s04/compare_input_type_s04_warmup_8_65906101.mp4 already exists\n",
      "/home/hrai/codes/MotionBERT/custom_codes/Canonical/compare_canonical/fit3d_gt_pkl/s04/compare_input_type_s04_burpees_58860488.mp4 already exists\n",
      "/home/hrai/codes/MotionBERT/custom_codes/Canonical/compare_canonical/fit3d_gt_pkl/s03/compare_input_type_s03_squat_60457274.mp4 already exists\n",
      "/home/hrai/codes/MotionBERT/custom_codes/Canonical/compare_canonical/fit3d_gt_pkl/s03/compare_input_type_s03_one_arm_row_58860488.mp4 already exists\n",
      "/home/hrai/codes/MotionBERT/custom_codes/Canonical/compare_canonical/fit3d_gt_pkl/s11/compare_input_type_s11_warmup_7_60457274.mp4 already exists\n",
      "/home/hrai/codes/MotionBERT/custom_codes/Canonical/compare_canonical/fit3d_gt_pkl/s07/compare_input_type_s07_barbell_shrug_58860488.mp4 already exists\n",
      "/home/hrai/codes/MotionBERT/custom_codes/Canonical/compare_canonical/fit3d_gt_pkl/s11/compare_input_type_s11_squat_50591643.mp4 already exists\n",
      "/home/hrai/codes/MotionBERT/custom_codes/Canonical/compare_canonical/fit3d_gt_pkl/s03/compare_input_type_s03_barbell_dead_row_65906101.mp4 already exists\n",
      "/home/hrai/codes/MotionBERT/custom_codes/Canonical/compare_canonical/fit3d_gt_pkl/s11/compare_input_type_s11_warmup_4_58860488.mp4 already exists\n",
      "/home/hrai/codes/MotionBERT/custom_codes/Canonical/compare_canonical/fit3d_gt_pkl/s10/compare_input_type_s10_warmup_9_50591643.mp4 already exists\n",
      "/home/hrai/codes/MotionBERT/custom_codes/Canonical/compare_canonical/fit3d_gt_pkl/s07/compare_input_type_s07_warmup_7_60457274.mp4 already exists\n",
      "/home/hrai/codes/MotionBERT/custom_codes/Canonical/compare_canonical/fit3d_gt_pkl/s05/compare_input_type_s05_dumbbell_reverse_lunge_65906101.mp4 already exists\n",
      "/home/hrai/codes/MotionBERT/custom_codes/Canonical/compare_canonical/fit3d_gt_pkl/s10/compare_input_type_s10_clean_and_press_50591643.mp4 already exists\n",
      "/home/hrai/codes/MotionBERT/custom_codes/Canonical/compare_canonical/fit3d_gt_pkl/s08/compare_input_type_s08_squat_50591643.mp4 already exists\n",
      "/home/hrai/codes/MotionBERT/custom_codes/Canonical/compare_canonical/fit3d_gt_pkl/s05/compare_input_type_s05_dumbbell_scaptions_65906101.mp4 already exists\n",
      "/home/hrai/codes/MotionBERT/custom_codes/Canonical/compare_canonical/fit3d_gt_pkl/s05/compare_input_type_s05_dumbbell_curl_trifecta_58860488.mp4 already exists\n",
      "/home/hrai/codes/MotionBERT/custom_codes/Canonical/compare_canonical/fit3d_gt_pkl/s08/compare_input_type_s08_warmup_15_50591643.mp4 already exists\n",
      "/home/hrai/codes/MotionBERT/custom_codes/Canonical/compare_canonical/fit3d_gt_pkl/s10/compare_input_type_s10_overhead_extension_thruster_50591643.mp4 already exists\n",
      "/home/hrai/codes/MotionBERT/custom_codes/Canonical/compare_canonical/fit3d_gt_pkl/s04/compare_input_type_s04_warmup_16_60457274.mp4 already exists\n",
      "/home/hrai/codes/MotionBERT/custom_codes/Canonical/compare_canonical/fit3d_gt_pkl/s05/compare_input_type_s05_warmup_5_65906101.mp4 already exists\n",
      "/home/hrai/codes/MotionBERT/custom_codes/Canonical/compare_canonical/fit3d_gt_pkl/s07/compare_input_type_s07_warmup_10_50591643.mp4 already exists\n",
      "/home/hrai/codes/MotionBERT/custom_codes/Canonical/compare_canonical/fit3d_gt_pkl/s07/compare_input_type_s07_dumbbell_curl_trifecta_50591643.mp4 already exists\n",
      "/home/hrai/codes/MotionBERT/custom_codes/Canonical/compare_canonical/fit3d_gt_pkl/s05/compare_input_type_s05_warmup_8_60457274.mp4 already exists\n",
      "/home/hrai/codes/MotionBERT/custom_codes/Canonical/compare_canonical/fit3d_gt_pkl/s05/compare_input_type_s05_dumbbell_scaptions_58860488.mp4 already exists\n",
      "/home/hrai/codes/MotionBERT/custom_codes/Canonical/compare_canonical/fit3d_gt_pkl/s04/compare_input_type_s04_overhead_trap_raises_65906101.mp4 already exists\n",
      "/home/hrai/codes/MotionBERT/custom_codes/Canonical/compare_canonical/fit3d_gt_pkl/s07/compare_input_type_s07_warmup_1_50591643.mp4 already exists\n",
      "/home/hrai/codes/MotionBERT/custom_codes/Canonical/compare_canonical/fit3d_gt_pkl/s09/compare_input_type_s09_standing_ab_twists_65906101.mp4 already exists\n",
      "/home/hrai/codes/MotionBERT/custom_codes/Canonical/compare_canonical/fit3d_gt_pkl/s11/compare_input_type_s11_warmup_13_58860488.mp4 already exists\n",
      "/home/hrai/codes/MotionBERT/custom_codes/Canonical/compare_canonical/fit3d_gt_pkl/s08/compare_input_type_s08_standing_ab_twists_50591643.mp4 already exists\n",
      "/home/hrai/codes/MotionBERT/custom_codes/Canonical/compare_canonical/fit3d_gt_pkl/s10/compare_input_type_s10_burpees_58860488.mp4 already exists\n",
      "/home/hrai/codes/MotionBERT/custom_codes/Canonical/compare_canonical/fit3d_gt_pkl/s05/compare_input_type_s05_man_maker_65906101.mp4 already exists\n",
      "/home/hrai/codes/MotionBERT/custom_codes/Canonical/compare_canonical/fit3d_gt_pkl/s04/compare_input_type_s04_drag_curl_50591643.mp4 already exists\n",
      "/home/hrai/codes/MotionBERT/custom_codes/Canonical/compare_canonical/fit3d_gt_pkl/s04/compare_input_type_s04_dumbbell_reverse_lunge_58860488.mp4 already exists\n",
      "/home/hrai/codes/MotionBERT/custom_codes/Canonical/compare_canonical/fit3d_gt_pkl/s10/compare_input_type_s10_standing_ab_twists_50591643.mp4 already exists\n",
      "/home/hrai/codes/MotionBERT/custom_codes/Canonical/compare_canonical/fit3d_gt_pkl/s08/compare_input_type_s08_warmup_17_60457274.mp4 already exists\n",
      "/home/hrai/codes/MotionBERT/custom_codes/Canonical/compare_canonical/fit3d_gt_pkl/s05/compare_input_type_s05_band_pull_apart_60457274.mp4 already exists\n",
      "/home/hrai/codes/MotionBERT/custom_codes/Canonical/compare_canonical/fit3d_gt_pkl/s04/compare_input_type_s04_mule_kick_60457274.mp4 already exists\n",
      "/home/hrai/codes/MotionBERT/custom_codes/Canonical/compare_canonical/fit3d_gt_pkl/s04/compare_input_type_s04_warmup_6_50591643.mp4 already exists\n",
      "/home/hrai/codes/MotionBERT/custom_codes/Canonical/compare_canonical/fit3d_gt_pkl/s04/compare_input_type_s04_warmup_2_65906101.mp4 already exists\n",
      "/home/hrai/codes/MotionBERT/custom_codes/Canonical/compare_canonical/fit3d_gt_pkl/s11/compare_input_type_s11_mule_kick_65906101.mp4 already exists\n",
      "/home/hrai/codes/MotionBERT/custom_codes/Canonical/compare_canonical/fit3d_gt_pkl/s05/compare_input_type_s05_clean_and_press_50591643.mp4 already exists\n",
      "/home/hrai/codes/MotionBERT/custom_codes/Canonical/compare_canonical/fit3d_gt_pkl/s08/compare_input_type_s08_warmup_10_65906101.mp4 already exists\n",
      "/home/hrai/codes/MotionBERT/custom_codes/Canonical/compare_canonical/fit3d_gt_pkl/s09/compare_input_type_s09_drag_curl_58860488.mp4 already exists\n",
      "/home/hrai/codes/MotionBERT/custom_codes/Canonical/compare_canonical/fit3d_gt_pkl/s03/compare_input_type_s03_warmup_2_65906101.mp4 already exists\n",
      "/home/hrai/codes/MotionBERT/custom_codes/Canonical/compare_canonical/fit3d_gt_pkl/s10/compare_input_type_s10_warmup_13_60457274.mp4 already exists\n",
      "/home/hrai/codes/MotionBERT/custom_codes/Canonical/compare_canonical/fit3d_gt_pkl/s10/compare_input_type_s10_warmup_2_58860488.mp4 already exists\n",
      "/home/hrai/codes/MotionBERT/custom_codes/Canonical/compare_canonical/fit3d_gt_pkl/s09/compare_input_type_s09_warmup_11_58860488.mp4 already exists\n",
      "/home/hrai/codes/MotionBERT/custom_codes/Canonical/compare_canonical/fit3d_gt_pkl/s03/compare_input_type_s03_overhead_trap_raises_60457274.mp4 already exists\n",
      "/home/hrai/codes/MotionBERT/custom_codes/Canonical/compare_canonical/fit3d_gt_pkl/s11/compare_input_type_s11_dumbbell_high_pulls_60457274.mp4 already exists\n",
      "/home/hrai/codes/MotionBERT/custom_codes/Canonical/compare_canonical/fit3d_gt_pkl/s10/compare_input_type_s10_warmup_17_65906101.mp4 already exists\n",
      "/home/hrai/codes/MotionBERT/custom_codes/Canonical/compare_canonical/fit3d_gt_pkl/s07/compare_input_type_s07_warmup_9_65906101.mp4 already exists\n",
      "/home/hrai/codes/MotionBERT/custom_codes/Canonical/compare_canonical/fit3d_gt_pkl/s03/compare_input_type_s03_warmup_17_58860488.mp4 already exists\n",
      "/home/hrai/codes/MotionBERT/custom_codes/Canonical/compare_canonical/fit3d_gt_pkl/s10/compare_input_type_s10_dumbbell_biceps_curls_58860488.mp4 already exists\n",
      "/home/hrai/codes/MotionBERT/custom_codes/Canonical/compare_canonical/fit3d_gt_pkl/s05/compare_input_type_s05_warmup_17_60457274.mp4 already exists\n",
      "/home/hrai/codes/MotionBERT/custom_codes/Canonical/compare_canonical/fit3d_gt_pkl/s10/compare_input_type_s10_overhead_trap_raises_60457274.mp4 already exists\n",
      "/home/hrai/codes/MotionBERT/custom_codes/Canonical/compare_canonical/fit3d_gt_pkl/s07/compare_input_type_s07_man_maker_60457274.mp4 already exists\n",
      "/home/hrai/codes/MotionBERT/custom_codes/Canonical/compare_canonical/fit3d_gt_pkl/s09/compare_input_type_s09_warmup_18_65906101.mp4 already exists\n",
      "/home/hrai/codes/MotionBERT/custom_codes/Canonical/compare_canonical/fit3d_gt_pkl/s10/compare_input_type_s10_warmup_2_65906101.mp4 already exists\n",
      "/home/hrai/codes/MotionBERT/custom_codes/Canonical/compare_canonical/fit3d_gt_pkl/s03/compare_input_type_s03_dumbbell_biceps_curls_60457274.mp4 already exists\n",
      "/home/hrai/codes/MotionBERT/custom_codes/Canonical/compare_canonical/fit3d_gt_pkl/s09/compare_input_type_s09_warmup_12_58860488.mp4 already exists\n",
      "/home/hrai/codes/MotionBERT/custom_codes/Canonical/compare_canonical/fit3d_gt_pkl/s09/compare_input_type_s09_squat_60457274.mp4 already exists\n",
      "/home/hrai/codes/MotionBERT/custom_codes/Canonical/compare_canonical/fit3d_gt_pkl/s10/compare_input_type_s10_dumbbell_reverse_lunge_65906101.mp4 already exists\n",
      "/home/hrai/codes/MotionBERT/custom_codes/Canonical/compare_canonical/fit3d_gt_pkl/s10/compare_input_type_s10_dumbbell_biceps_curls_65906101.mp4 already exists\n",
      "/home/hrai/codes/MotionBERT/custom_codes/Canonical/compare_canonical/fit3d_gt_pkl/s07/compare_input_type_s07_drag_curl_60457274.mp4 already exists\n",
      "/home/hrai/codes/MotionBERT/custom_codes/Canonical/compare_canonical/fit3d_gt_pkl/s09/compare_input_type_s09_warmup_3_60457274.mp4 already exists\n",
      "/home/hrai/codes/MotionBERT/custom_codes/Canonical/compare_canonical/fit3d_gt_pkl/s04/compare_input_type_s04_warmup_18_65906101.mp4 already exists\n",
      "/home/hrai/codes/MotionBERT/custom_codes/Canonical/compare_canonical/fit3d_gt_pkl/s10/compare_input_type_s10_barbell_dead_row_50591643.mp4 already exists\n",
      "/home/hrai/codes/MotionBERT/custom_codes/Canonical/compare_canonical/fit3d_gt_pkl/s09/compare_input_type_s09_deadlift_65906101.mp4 already exists\n",
      "/home/hrai/codes/MotionBERT/custom_codes/Canonical/compare_canonical/fit3d_gt_pkl/s08/compare_input_type_s08_overhead_extension_thruster_60457274.mp4 already exists\n",
      "/home/hrai/codes/MotionBERT/custom_codes/Canonical/compare_canonical/fit3d_gt_pkl/s10/compare_input_type_s10_warmup_4_60457274.mp4 already exists\n",
      "/home/hrai/codes/MotionBERT/custom_codes/Canonical/compare_canonical/fit3d_gt_pkl/s11/compare_input_type_s11_neutral_overhead_shoulder_press_65906101.mp4 already exists\n",
      "/home/hrai/codes/MotionBERT/custom_codes/Canonical/compare_canonical/fit3d_gt_pkl/s05/compare_input_type_s05_drag_curl_58860488.mp4 already exists\n",
      "/home/hrai/codes/MotionBERT/custom_codes/Canonical/compare_canonical/fit3d_gt_pkl/s10/compare_input_type_s10_barbell_row_65906101.mp4 already exists\n",
      "/home/hrai/codes/MotionBERT/custom_codes/Canonical/compare_canonical/fit3d_gt_pkl/s10/compare_input_type_s10_standing_ab_twists_60457274.mp4 already exists\n",
      "/home/hrai/codes/MotionBERT/custom_codes/Canonical/compare_canonical/fit3d_gt_pkl/s05/compare_input_type_s05_deadlift_65906101.mp4 already exists\n",
      "/home/hrai/codes/MotionBERT/custom_codes/Canonical/compare_canonical/fit3d_gt_pkl/s04/compare_input_type_s04_warmup_19_58860488.mp4 already exists\n",
      "/home/hrai/codes/MotionBERT/custom_codes/Canonical/compare_canonical/fit3d_gt_pkl/s04/compare_input_type_s04_warmup_4_50591643.mp4 already exists\n",
      "/home/hrai/codes/MotionBERT/custom_codes/Canonical/compare_canonical/fit3d_gt_pkl/s04/compare_input_type_s04_warmup_1_65906101.mp4 already exists\n",
      "/home/hrai/codes/MotionBERT/custom_codes/Canonical/compare_canonical/fit3d_gt_pkl/s03/compare_input_type_s03_barbell_shrug_65906101.mp4 already exists\n",
      "/home/hrai/codes/MotionBERT/custom_codes/Canonical/compare_canonical/fit3d_gt_pkl/s07/compare_input_type_s07_warmup_13_60457274.mp4 already exists\n",
      "/home/hrai/codes/MotionBERT/custom_codes/Canonical/compare_canonical/fit3d_gt_pkl/s08/compare_input_type_s08_burpees_50591643.mp4 already exists\n",
      "/home/hrai/codes/MotionBERT/custom_codes/Canonical/compare_canonical/fit3d_gt_pkl/s08/compare_input_type_s08_dumbbell_biceps_curls_60457274.mp4 already exists\n",
      "/home/hrai/codes/MotionBERT/custom_codes/Canonical/compare_canonical/fit3d_gt_pkl/s04/compare_input_type_s04_warmup_4_60457274.mp4 already exists\n",
      "/home/hrai/codes/MotionBERT/custom_codes/Canonical/compare_canonical/fit3d_gt_pkl/s04/compare_input_type_s04_barbell_dead_row_65906101.mp4 already exists\n",
      "/home/hrai/codes/MotionBERT/custom_codes/Canonical/compare_canonical/fit3d_gt_pkl/s07/compare_input_type_s07_warmup_7_58860488.mp4 already exists\n",
      "/home/hrai/codes/MotionBERT/custom_codes/Canonical/compare_canonical/fit3d_gt_pkl/s03/compare_input_type_s03_warmup_17_60457274.mp4 already exists\n",
      "/home/hrai/codes/MotionBERT/custom_codes/Canonical/compare_canonical/fit3d_gt_pkl/s10/compare_input_type_s10_warmup_5_65906101.mp4 already exists\n",
      "/home/hrai/codes/MotionBERT/custom_codes/Canonical/compare_canonical/fit3d_gt_pkl/s03/compare_input_type_s03_warmup_12_58860488.mp4 already exists\n",
      "/home/hrai/codes/MotionBERT/custom_codes/Canonical/compare_canonical/fit3d_gt_pkl/s11/compare_input_type_s11_dumbbell_curl_trifecta_50591643.mp4 already exists\n",
      "/home/hrai/codes/MotionBERT/custom_codes/Canonical/compare_canonical/fit3d_gt_pkl/s05/compare_input_type_s05_warmup_18_58860488.mp4 already exists\n",
      "/home/hrai/codes/MotionBERT/custom_codes/Canonical/compare_canonical/fit3d_gt_pkl/s04/compare_input_type_s04_deadlift_58860488.mp4 already exists\n",
      "/home/hrai/codes/MotionBERT/custom_codes/Canonical/compare_canonical/fit3d_gt_pkl/s04/compare_input_type_s04_warmup_3_58860488.mp4 already exists\n",
      "/home/hrai/codes/MotionBERT/custom_codes/Canonical/compare_canonical/fit3d_gt_pkl/s08/compare_input_type_s08_warmup_17_65906101.mp4 already exists\n",
      "/home/hrai/codes/MotionBERT/custom_codes/Canonical/compare_canonical/fit3d_gt_pkl/s11/compare_input_type_s11_warmup_14_60457274.mp4 already exists\n",
      "/home/hrai/codes/MotionBERT/custom_codes/Canonical/compare_canonical/fit3d_gt_pkl/s05/compare_input_type_s05_warmup_6_60457274.mp4 already exists\n",
      "/home/hrai/codes/MotionBERT/custom_codes/Canonical/compare_canonical/fit3d_gt_pkl/s05/compare_input_type_s05_dumbbell_reverse_lunge_60457274.mp4 already exists\n",
      "/home/hrai/codes/MotionBERT/custom_codes/Canonical/compare_canonical/fit3d_gt_pkl/s07/compare_input_type_s07_barbell_dead_row_65906101.mp4 already exists\n",
      "/home/hrai/codes/MotionBERT/custom_codes/Canonical/compare_canonical/fit3d_gt_pkl/s05/compare_input_type_s05_warmup_4_65906101.mp4 already exists\n",
      "/home/hrai/codes/MotionBERT/custom_codes/Canonical/compare_canonical/fit3d_gt_pkl/s04/compare_input_type_s04_barbell_row_50591643.mp4 already exists\n",
      "/home/hrai/codes/MotionBERT/custom_codes/Canonical/compare_canonical/fit3d_gt_pkl/s09/compare_input_type_s09_drag_curl_65906101.mp4 already exists\n",
      "/home/hrai/codes/MotionBERT/custom_codes/Canonical/compare_canonical/fit3d_gt_pkl/s08/compare_input_type_s08_side_lateral_raise_65906101.mp4 already exists\n",
      "/home/hrai/codes/MotionBERT/custom_codes/Canonical/compare_canonical/fit3d_gt_pkl/s10/compare_input_type_s10_warmup_13_65906101.mp4 already exists\n",
      "/home/hrai/codes/MotionBERT/custom_codes/Canonical/compare_canonical/fit3d_gt_pkl/s05/compare_input_type_s05_warmup_1_60457274.mp4 already exists\n",
      "/home/hrai/codes/MotionBERT/custom_codes/Canonical/compare_canonical/fit3d_gt_pkl/s05/compare_input_type_s05_barbell_row_58860488.mp4 already exists\n",
      "/home/hrai/codes/MotionBERT/custom_codes/Canonical/compare_canonical/fit3d_gt_pkl/s08/compare_input_type_s08_barbell_shrug_65906101.mp4 already exists\n",
      "/home/hrai/codes/MotionBERT/custom_codes/Canonical/compare_canonical/fit3d_gt_pkl/s05/compare_input_type_s05_overhead_extension_thruster_60457274.mp4 already exists\n",
      "/home/hrai/codes/MotionBERT/custom_codes/Canonical/compare_canonical/fit3d_gt_pkl/s11/compare_input_type_s11_mule_kick_50591643.mp4 already exists\n",
      "/home/hrai/codes/MotionBERT/custom_codes/Canonical/compare_canonical/fit3d_gt_pkl/s11/compare_input_type_s11_standing_ab_twists_60457274.mp4 already exists\n",
      "/home/hrai/codes/MotionBERT/custom_codes/Canonical/compare_canonical/fit3d_gt_pkl/s09/compare_input_type_s09_band_pull_apart_65906101.mp4 already exists\n",
      "/home/hrai/codes/MotionBERT/custom_codes/Canonical/compare_canonical/fit3d_gt_pkl/s05/compare_input_type_s05_warmup_16_60457274.mp4 already exists\n",
      "/home/hrai/codes/MotionBERT/custom_codes/Canonical/compare_canonical/fit3d_gt_pkl/s09/compare_input_type_s09_warmup_2_65906101.mp4 already exists\n",
      "/home/hrai/codes/MotionBERT/custom_codes/Canonical/compare_canonical/fit3d_gt_pkl/s11/compare_input_type_s11_deadlift_58860488.mp4 already exists\n",
      "/home/hrai/codes/MotionBERT/custom_codes/Canonical/compare_canonical/fit3d_gt_pkl/s05/compare_input_type_s05_overhead_trap_raises_58860488.mp4 already exists\n",
      "/home/hrai/codes/MotionBERT/custom_codes/Canonical/compare_canonical/fit3d_gt_pkl/s03/compare_input_type_s03_one_arm_row_60457274.mp4 already exists\n",
      "/home/hrai/codes/MotionBERT/custom_codes/Canonical/compare_canonical/fit3d_gt_pkl/s11/compare_input_type_s11_warmup_6_58860488.mp4 already exists\n",
      "/home/hrai/codes/MotionBERT/custom_codes/Canonical/compare_canonical/fit3d_gt_pkl/s07/compare_input_type_s07_warmup_1_60457274.mp4 already exists\n",
      "/home/hrai/codes/MotionBERT/custom_codes/Canonical/compare_canonical/fit3d_gt_pkl/s05/compare_input_type_s05_pushup_65906101.mp4 already exists\n",
      "/home/hrai/codes/MotionBERT/custom_codes/Canonical/compare_canonical/fit3d_gt_pkl/s03/compare_input_type_s03_warmup_8_65906101.mp4 already exists\n",
      "/home/hrai/codes/MotionBERT/custom_codes/Canonical/compare_canonical/fit3d_gt_pkl/s05/compare_input_type_s05_warmup_5_50591643.mp4 already exists\n",
      "/home/hrai/codes/MotionBERT/custom_codes/Canonical/compare_canonical/fit3d_gt_pkl/s08/compare_input_type_s08_drag_curl_58860488.mp4 already exists\n",
      "/home/hrai/codes/MotionBERT/custom_codes/Canonical/compare_canonical/fit3d_gt_pkl/s11/compare_input_type_s11_warmup_5_50591643.mp4 already exists\n",
      "/home/hrai/codes/MotionBERT/custom_codes/Canonical/compare_canonical/fit3d_gt_pkl/s08/compare_input_type_s08_barbell_shrug_58860488.mp4 already exists\n",
      "/home/hrai/codes/MotionBERT/custom_codes/Canonical/compare_canonical/fit3d_gt_pkl/s11/compare_input_type_s11_diamond_pushup_58860488.mp4 already exists\n",
      "/home/hrai/codes/MotionBERT/custom_codes/Canonical/compare_canonical/fit3d_gt_pkl/s08/compare_input_type_s08_man_maker_65906101.mp4 already exists\n",
      "/home/hrai/codes/MotionBERT/custom_codes/Canonical/compare_canonical/fit3d_gt_pkl/s07/compare_input_type_s07_squat_58860488.mp4 already exists\n",
      "/home/hrai/codes/MotionBERT/custom_codes/Canonical/compare_canonical/fit3d_gt_pkl/s09/compare_input_type_s09_band_pull_apart_60457274.mp4 already exists\n",
      "/home/hrai/codes/MotionBERT/custom_codes/Canonical/compare_canonical/fit3d_gt_pkl/s03/compare_input_type_s03_diamond_pushup_60457274.mp4 already exists\n",
      "/home/hrai/codes/MotionBERT/custom_codes/Canonical/compare_canonical/fit3d_gt_pkl/s09/compare_input_type_s09_barbell_row_60457274.mp4 already exists\n",
      "/home/hrai/codes/MotionBERT/custom_codes/Canonical/compare_canonical/fit3d_gt_pkl/s04/compare_input_type_s04_overhead_extension_thruster_50591643.mp4 already exists\n",
      "/home/hrai/codes/MotionBERT/custom_codes/Canonical/compare_canonical/fit3d_gt_pkl/s07/compare_input_type_s07_w_raise_50591643.mp4 already exists\n",
      "/home/hrai/codes/MotionBERT/custom_codes/Canonical/compare_canonical/fit3d_gt_pkl/s05/compare_input_type_s05_deadlift_60457274.mp4 already exists\n",
      "/home/hrai/codes/MotionBERT/custom_codes/Canonical/compare_canonical/fit3d_gt_pkl/s07/compare_input_type_s07_walk_the_box_50591643.mp4 already exists\n",
      "/home/hrai/codes/MotionBERT/custom_codes/Canonical/compare_canonical/fit3d_gt_pkl/s07/compare_input_type_s07_warmup_12_60457274.mp4 already exists\n",
      "/home/hrai/codes/MotionBERT/custom_codes/Canonical/compare_canonical/fit3d_gt_pkl/s08/compare_input_type_s08_walk_the_box_60457274.mp4 already exists\n",
      "/home/hrai/codes/MotionBERT/custom_codes/Canonical/compare_canonical/fit3d_gt_pkl/s11/compare_input_type_s11_w_raise_65906101.mp4 already exists\n",
      "/home/hrai/codes/MotionBERT/custom_codes/Canonical/compare_canonical/fit3d_gt_pkl/s07/compare_input_type_s07_man_maker_58860488.mp4 already exists\n",
      "/home/hrai/codes/MotionBERT/custom_codes/Canonical/compare_canonical/fit3d_gt_pkl/s07/compare_input_type_s07_dumbbell_curl_trifecta_65906101.mp4 already exists\n",
      "/home/hrai/codes/MotionBERT/custom_codes/Canonical/compare_canonical/fit3d_gt_pkl/s11/compare_input_type_s11_warmup_1_50591643.mp4 already exists\n",
      "/home/hrai/codes/MotionBERT/custom_codes/Canonical/compare_canonical/fit3d_gt_pkl/s10/compare_input_type_s10_dumbbell_hammer_curls_58860488.mp4 already exists\n",
      "/home/hrai/codes/MotionBERT/custom_codes/Canonical/compare_canonical/fit3d_gt_pkl/s04/compare_input_type_s04_warmup_8_60457274.mp4 already exists\n",
      "/home/hrai/codes/MotionBERT/custom_codes/Canonical/compare_canonical/fit3d_gt_pkl/s05/compare_input_type_s05_standing_ab_twists_60457274.mp4 already exists\n",
      "/home/hrai/codes/MotionBERT/custom_codes/Canonical/compare_canonical/fit3d_gt_pkl/s05/compare_input_type_s05_warmup_19_50591643.mp4 already exists\n",
      "/home/hrai/codes/MotionBERT/custom_codes/Canonical/compare_canonical/fit3d_gt_pkl/s09/compare_input_type_s09_barbell_shrug_58860488.mp4 already exists\n",
      "/home/hrai/codes/MotionBERT/custom_codes/Canonical/compare_canonical/fit3d_gt_pkl/s10/compare_input_type_s10_warmup_16_50591643.mp4 already exists\n",
      "/home/hrai/codes/MotionBERT/custom_codes/Canonical/compare_canonical/fit3d_gt_pkl/s10/compare_input_type_s10_man_maker_60457274.mp4 already exists\n",
      "/home/hrai/codes/MotionBERT/custom_codes/Canonical/compare_canonical/fit3d_gt_pkl/s07/compare_input_type_s07_warmup_19_50591643.mp4 already exists\n",
      "/home/hrai/codes/MotionBERT/custom_codes/Canonical/compare_canonical/fit3d_gt_pkl/s09/compare_input_type_s09_dumbbell_biceps_curls_60457274.mp4 already exists\n",
      "/home/hrai/codes/MotionBERT/custom_codes/Canonical/compare_canonical/fit3d_gt_pkl/s07/compare_input_type_s07_barbell_row_65906101.mp4 already exists\n",
      "/home/hrai/codes/MotionBERT/custom_codes/Canonical/compare_canonical/fit3d_gt_pkl/s11/compare_input_type_s11_warmup_8_60457274.mp4 already exists\n",
      "/home/hrai/codes/MotionBERT/custom_codes/Canonical/compare_canonical/fit3d_gt_pkl/s08/compare_input_type_s08_dumbbell_biceps_curls_58860488.mp4 already exists\n",
      "/home/hrai/codes/MotionBERT/custom_codes/Canonical/compare_canonical/fit3d_gt_pkl/s10/compare_input_type_s10_warmup_6_50591643.mp4 already exists\n",
      "/home/hrai/codes/MotionBERT/custom_codes/Canonical/compare_canonical/fit3d_gt_pkl/s05/compare_input_type_s05_barbell_row_60457274.mp4 already exists\n",
      "/home/hrai/codes/MotionBERT/custom_codes/Canonical/compare_canonical/fit3d_gt_pkl/s10/compare_input_type_s10_dumbbell_scaptions_65906101.mp4 already exists\n",
      "/home/hrai/codes/MotionBERT/custom_codes/Canonical/compare_canonical/fit3d_gt_pkl/s03/compare_input_type_s03_neutral_overhead_shoulder_press_58860488.mp4 already exists\n",
      "/home/hrai/codes/MotionBERT/custom_codes/Canonical/compare_canonical/fit3d_gt_pkl/s05/compare_input_type_s05_mule_kick_60457274.mp4 already exists\n",
      "/home/hrai/codes/MotionBERT/custom_codes/Canonical/compare_canonical/fit3d_gt_pkl/s11/compare_input_type_s11_mule_kick_60457274.mp4 already exists\n",
      "/home/hrai/codes/MotionBERT/custom_codes/Canonical/compare_canonical/fit3d_gt_pkl/s11/compare_input_type_s11_diamond_pushup_60457274.mp4 already exists\n",
      "/home/hrai/codes/MotionBERT/custom_codes/Canonical/compare_canonical/fit3d_gt_pkl/s10/compare_input_type_s10_dumbbell_high_pulls_50591643.mp4 already exists\n",
      "/home/hrai/codes/MotionBERT/custom_codes/Canonical/compare_canonical/fit3d_gt_pkl/s05/compare_input_type_s05_warmup_12_65906101.mp4 already exists\n",
      "/home/hrai/codes/MotionBERT/custom_codes/Canonical/compare_canonical/fit3d_gt_pkl/s05/compare_input_type_s05_clean_and_press_58860488.mp4 already exists\n",
      "/home/hrai/codes/MotionBERT/custom_codes/Canonical/compare_canonical/fit3d_gt_pkl/s08/compare_input_type_s08_dumbbell_curl_trifecta_60457274.mp4 already exists\n",
      "/home/hrai/codes/MotionBERT/custom_codes/Canonical/compare_canonical/fit3d_gt_pkl/s03/compare_input_type_s03_mule_kick_60457274.mp4 already exists\n",
      "/home/hrai/codes/MotionBERT/custom_codes/Canonical/compare_canonical/fit3d_gt_pkl/s03/compare_input_type_s03_squat_50591643.mp4 already exists\n",
      "/home/hrai/codes/MotionBERT/custom_codes/Canonical/compare_canonical/fit3d_gt_pkl/s09/compare_input_type_s09_deadlift_58860488.mp4 already exists\n",
      "/home/hrai/codes/MotionBERT/custom_codes/Canonical/compare_canonical/fit3d_gt_pkl/s09/compare_input_type_s09_warmup_8_60457274.mp4 already exists\n",
      "/home/hrai/codes/MotionBERT/custom_codes/Canonical/compare_canonical/fit3d_gt_pkl/s11/compare_input_type_s11_barbell_shrug_65906101.mp4 already exists\n",
      "/home/hrai/codes/MotionBERT/custom_codes/Canonical/compare_canonical/fit3d_gt_pkl/s11/compare_input_type_s11_warmup_9_60457274.mp4 already exists\n",
      "/home/hrai/codes/MotionBERT/custom_codes/Canonical/compare_canonical/fit3d_gt_pkl/s08/compare_input_type_s08_warmup_12_60457274.mp4 already exists\n",
      "/home/hrai/codes/MotionBERT/custom_codes/Canonical/compare_canonical/fit3d_gt_pkl/s04/compare_input_type_s04_standing_ab_twists_58860488.mp4 already exists\n",
      "/home/hrai/codes/MotionBERT/custom_codes/Canonical/compare_canonical/fit3d_gt_pkl/s10/compare_input_type_s10_dumbbell_hammer_curls_65906101.mp4 already exists\n",
      "/home/hrai/codes/MotionBERT/custom_codes/Canonical/compare_canonical/fit3d_gt_pkl/s08/compare_input_type_s08_warmup_6_50591643.mp4 already exists\n",
      "h36m_gt_pkl\n"
     ]
    },
    {
     "name": "stderr",
     "output_type": "stream",
     "text": [
      "  0%|          | 0/836 [00:00<?, ?it/s]"
     ]
    },
    {
     "name": "stdout",
     "output_type": "stream",
     "text": [
      "/home/hrai/codes/MotionBERT/custom_codes/Canonical/compare_canonical/h36m_gt_pkl/S1/compare_input_type_S1_Walking_54138969.mp4 already exists\n"
     ]
    },
    {
     "name": "stderr",
     "output_type": "stream",
     "text": [
      "[S11_Waiting_58860488]:   0%|          | 4/836 [00:09<33:52,  2.44s/it]      "
     ]
    },
    {
     "name": "stdout",
     "output_type": "stream",
     "text": [
      "/home/hrai/codes/MotionBERT/custom_codes/Canonical/compare_canonical/h36m_gt_pkl/S1/compare_input_type_S1_Directions_58860488.mp4 already exists\n"
     ]
    },
    {
     "name": "stderr",
     "output_type": "stream",
     "text": [
      "[S5_WalkTogether_55011271]:   1%|          | 9/836 [00:25<50:24,  3.66s/it]  "
     ]
    },
    {
     "name": "stdout",
     "output_type": "stream",
     "text": [
      "/home/hrai/codes/MotionBERT/custom_codes/Canonical/compare_canonical/h36m_gt_pkl/S1/compare_input_type_S1_Phoning_58860488.mp4 already exists\n"
     ]
    },
    {
     "name": "stderr",
     "output_type": "stream",
     "text": [
      "[S11_Sitting 1_58860488]:   2%|▏         | 15/836 [00:40<40:44,  2.98s/it]  "
     ]
    },
    {
     "name": "stdout",
     "output_type": "stream",
     "text": [
      "/home/hrai/codes/MotionBERT/custom_codes/Canonical/compare_canonical/h36m_gt_pkl/S1/compare_input_type_S1_Smoking_58860488.mp4 already exists\n"
     ]
    },
    {
     "name": "stderr",
     "output_type": "stream",
     "text": [
      "[S5_Discussion 2_58860488]:   2%|▏         | 18/836 [00:52<53:16,  3.91s/it]"
     ]
    },
    {
     "name": "stdout",
     "output_type": "stream",
     "text": [
      "/home/hrai/codes/MotionBERT/custom_codes/Canonical/compare_canonical/h36m_gt_pkl/S1/compare_input_type_S1_Sitting 2_58860488.mp4 already exists\n",
      "/home/hrai/codes/MotionBERT/custom_codes/Canonical/compare_canonical/h36m_gt_pkl/S1/compare_input_type_S1_SittingDown 2_58860488.mp4 already exists\n"
     ]
    },
    {
     "name": "stderr",
     "output_type": "stream",
     "text": [
      "[S9_Directions_54138969]:   3%|▎         | 23/836 [01:02<38:12,  2.82s/it]  "
     ]
    },
    {
     "name": "stdout",
     "output_type": "stream",
     "text": [
      "/home/hrai/codes/MotionBERT/custom_codes/Canonical/compare_canonical/h36m_gt_pkl/S1/compare_input_type_S1_Walking 1_60457274.mp4 already exists\n"
     ]
    },
    {
     "name": "stderr",
     "output_type": "stream",
     "text": [
      "[S7_WalkTogether_55011271]:   4%|▍         | 33/836 [01:33<46:48,  3.50s/it]"
     ]
    },
    {
     "name": "stdout",
     "output_type": "stream",
     "text": [
      "/home/hrai/codes/MotionBERT/custom_codes/Canonical/compare_canonical/h36m_gt_pkl/S1/compare_input_type_S1_WalkDog 1_55011271.mp4 already exists\n"
     ]
    },
    {
     "name": "stderr",
     "output_type": "stream",
     "text": [
      "[S6_Waiting 3_58860488]:   4%|▍         | 35/836 [01:37<35:24,  2.65s/it]   "
     ]
    },
    {
     "name": "stdout",
     "output_type": "stream",
     "text": [
      "/home/hrai/codes/MotionBERT/custom_codes/Canonical/compare_canonical/h36m_gt_pkl/S1/compare_input_type_S1_Discussion_58860488.mp4 already exists\n",
      "/home/hrai/codes/MotionBERT/custom_codes/Canonical/compare_canonical/h36m_gt_pkl/S1/compare_input_type_S1_Purchases_55011271.mp4 already exists\n"
     ]
    },
    {
     "name": "stderr",
     "output_type": "stream",
     "text": [
      "[S8_Phoning 1_58860488]:   5%|▍         | 40/836 [01:50<39:24,  2.97s/it] "
     ]
    },
    {
     "name": "stdout",
     "output_type": "stream",
     "text": [
      "/home/hrai/codes/MotionBERT/custom_codes/Canonical/compare_canonical/h36m_gt_pkl/S1/compare_input_type_S1_Sitting 2_55011271.mp4 already exists\n"
     ]
    },
    {
     "name": "stderr",
     "output_type": "stream",
     "text": [
      "[S8_Waiting_55011271]:   5%|▌         | 42/836 [01:52<30:45,  2.32s/it]  "
     ]
    },
    {
     "name": "stdout",
     "output_type": "stream",
     "text": [
      "/home/hrai/codes/MotionBERT/custom_codes/Canonical/compare_canonical/h36m_gt_pkl/S1/compare_input_type_S1_Photo_55011271.mp4 already exists\n"
     ]
    },
    {
     "name": "stderr",
     "output_type": "stream",
     "text": [
      "[S5_Discussion 2_54138969]:   8%|▊         | 63/836 [03:08<1:00:23,  4.69s/it]"
     ]
    },
    {
     "name": "stdout",
     "output_type": "stream",
     "text": [
      "/home/hrai/codes/MotionBERT/custom_codes/Canonical/compare_canonical/h36m_gt_pkl/S1/compare_input_type_S1_Phoning 1_60457274.mp4 already exists\n"
     ]
    },
    {
     "name": "stderr",
     "output_type": "stream",
     "text": [
      "[S8_Directions 1_55011271]:   8%|▊         | 65/836 [03:11<41:49,  3.25s/it]  "
     ]
    },
    {
     "name": "stdout",
     "output_type": "stream",
     "text": [
      "/home/hrai/codes/MotionBERT/custom_codes/Canonical/compare_canonical/h36m_gt_pkl/S1/compare_input_type_S1_Sitting 1_54138969.mp4 already exists\n"
     ]
    },
    {
     "name": "stderr",
     "output_type": "stream",
     "text": [
      "[S8_Directions_58860488]:   8%|▊         | 67/836 [03:14<32:31,  2.54s/it]  "
     ]
    },
    {
     "name": "stdout",
     "output_type": "stream",
     "text": [
      "/home/hrai/codes/MotionBERT/custom_codes/Canonical/compare_canonical/h36m_gt_pkl/S1/compare_input_type_S1_Posing 1_54138969.mp4 already exists\n"
     ]
    },
    {
     "name": "stderr",
     "output_type": "stream",
     "text": [
      "[S8_Waiting_54138969]:   9%|▉         | 79/836 [03:59<47:01,  3.73s/it]       "
     ]
    },
    {
     "name": "stdout",
     "output_type": "stream",
     "text": [
      "/home/hrai/codes/MotionBERT/custom_codes/Canonical/compare_canonical/h36m_gt_pkl/S1/compare_input_type_S1_WalkTogether 1_55011271.mp4 already exists\n"
     ]
    },
    {
     "name": "stderr",
     "output_type": "stream",
     "text": [
      "[S9_Directions 1_54138969]:  10%|▉         | 83/836 [04:10<39:31,  3.15s/it]"
     ]
    },
    {
     "name": "stdout",
     "output_type": "stream",
     "text": [
      "/home/hrai/codes/MotionBERT/custom_codes/Canonical/compare_canonical/h36m_gt_pkl/S1/compare_input_type_S1_Posing 1_55011271.mp4 already exists\n"
     ]
    },
    {
     "name": "stderr",
     "output_type": "stream",
     "text": [
      "[S6_Photo_54138969]:  10%|█         | 85/836 [04:12<29:22,  2.35s/it]       "
     ]
    },
    {
     "name": "stdout",
     "output_type": "stream",
     "text": [
      "/home/hrai/codes/MotionBERT/custom_codes/Canonical/compare_canonical/h36m_gt_pkl/S1/compare_input_type_S1_Photo_58860488.mp4 already exists\n",
      "/home/hrai/codes/MotionBERT/custom_codes/Canonical/compare_canonical/h36m_gt_pkl/S1/compare_input_type_S1_WalkDog 1_54138969.mp4 already exists\n"
     ]
    },
    {
     "name": "stderr",
     "output_type": "stream",
     "text": [
      "[S8_Posing 1_60457274]:  11%|█         | 88/836 [04:15<21:29,  1.72s/it]"
     ]
    },
    {
     "name": "stdout",
     "output_type": "stream",
     "text": [
      "/home/hrai/codes/MotionBERT/custom_codes/Canonical/compare_canonical/h36m_gt_pkl/S1/compare_input_type_S1_Smoking 1_58860488.mp4 already exists\n",
      "/home/hrai/codes/MotionBERT/custom_codes/Canonical/compare_canonical/h36m_gt_pkl/S1/compare_input_type_S1_Greeting 1_58860488.mp4 already exists\n"
     ]
    },
    {
     "name": "stderr",
     "output_type": "stream",
     "text": [
      "[S6_Smoking_60457274]:  11%|█▏        | 95/836 [04:37<41:14,  3.34s/it]     "
     ]
    },
    {
     "name": "stdout",
     "output_type": "stream",
     "text": [
      "/home/hrai/codes/MotionBERT/custom_codes/Canonical/compare_canonical/h36m_gt_pkl/S1/compare_input_type_S1_Walking_58860488.mp4 already exists\n"
     ]
    },
    {
     "name": "stderr",
     "output_type": "stream",
     "text": [
      "[S11_Purchases_60457274]:  15%|█▍        | 122/836 [06:18<32:52,  2.76s/it]    "
     ]
    },
    {
     "name": "stdout",
     "output_type": "stream",
     "text": [
      "/home/hrai/codes/MotionBERT/custom_codes/Canonical/compare_canonical/h36m_gt_pkl/S1/compare_input_type_S1_Smoking 1_55011271.mp4 already exists\n"
     ]
    },
    {
     "name": "stderr",
     "output_type": "stream",
     "text": [
      "[S6_Sitting 2_60457274]:  15%|█▌        | 126/836 [06:28<33:44,  2.85s/it] "
     ]
    },
    {
     "name": "stdout",
     "output_type": "stream",
     "text": [
      "/home/hrai/codes/MotionBERT/custom_codes/Canonical/compare_canonical/h36m_gt_pkl/S1/compare_input_type_S1_Photo 1_55011271.mp4 already exists\n"
     ]
    },
    {
     "name": "stderr",
     "output_type": "stream",
     "text": [
      "[S7_Directions 1_54138969]:  16%|█▌        | 134/836 [06:56<44:21,  3.79s/it]"
     ]
    },
    {
     "name": "stdout",
     "output_type": "stream",
     "text": [
      "/home/hrai/codes/MotionBERT/custom_codes/Canonical/compare_canonical/h36m_gt_pkl/S1/compare_input_type_S1_Purchases 1_58860488.mp4 already exists\n"
     ]
    },
    {
     "name": "stderr",
     "output_type": "stream",
     "text": [
      "[S9_WalkDog 1_60457274]:  17%|█▋        | 141/836 [07:18<40:11,  3.47s/it]   "
     ]
    },
    {
     "name": "stdout",
     "output_type": "stream",
     "text": [
      "/home/hrai/codes/MotionBERT/custom_codes/Canonical/compare_canonical/h36m_gt_pkl/S1/compare_input_type_S1_Phoning_54138969.mp4 already exists\n"
     ]
    },
    {
     "name": "stderr",
     "output_type": "stream",
     "text": [
      "[S7_Sitting_58860488]:  17%|█▋        | 145/836 [07:29<35:49,  3.11s/it]     "
     ]
    },
    {
     "name": "stdout",
     "output_type": "stream",
     "text": [
      "/home/hrai/codes/MotionBERT/custom_codes/Canonical/compare_canonical/h36m_gt_pkl/S1/compare_input_type_S1_Discussion_55011271.mp4 already exists\n"
     ]
    },
    {
     "name": "stderr",
     "output_type": "stream",
     "text": [
      "[S8_Smoking 1_58860488]:  19%|█▉        | 161/836 [08:16<39:02,  3.47s/it]     "
     ]
    },
    {
     "name": "stdout",
     "output_type": "stream",
     "text": [
      "/home/hrai/codes/MotionBERT/custom_codes/Canonical/compare_canonical/h36m_gt_pkl/S1/compare_input_type_S1_Greeting_55011271.mp4 already exists\n"
     ]
    },
    {
     "name": "stderr",
     "output_type": "stream",
     "text": [
      "[S9_SittingDown_60457274]:  21%|██▏       | 178/836 [09:14<45:04,  4.11s/it] "
     ]
    },
    {
     "name": "stdout",
     "output_type": "stream",
     "text": [
      "/home/hrai/codes/MotionBERT/custom_codes/Canonical/compare_canonical/h36m_gt_pkl/S1/compare_input_type_S1_Purchases_58860488.mp4 already exists\n"
     ]
    },
    {
     "name": "stderr",
     "output_type": "stream",
     "text": [
      "[S8_Smoking 1_54138969]:  22%|██▏       | 180/836 [09:18<34:14,  3.13s/it]  "
     ]
    },
    {
     "name": "stdout",
     "output_type": "stream",
     "text": [
      "/home/hrai/codes/MotionBERT/custom_codes/Canonical/compare_canonical/h36m_gt_pkl/S1/compare_input_type_S1_Smoking_60457274.mp4 already exists\n"
     ]
    },
    {
     "name": "stderr",
     "output_type": "stream",
     "text": [
      "[S7_Directions 1_58860488]:  24%|██▍       | 199/836 [10:32<39:46,  3.75s/it]"
     ]
    },
    {
     "name": "stdout",
     "output_type": "stream",
     "text": [
      "/home/hrai/codes/MotionBERT/custom_codes/Canonical/compare_canonical/h36m_gt_pkl/S1/compare_input_type_S1_SittingDown_55011271.mp4 already exists\n"
     ]
    },
    {
     "name": "stderr",
     "output_type": "stream",
     "text": [
      "[S6_Waiting 3_55011271]:  25%|██▍       | 207/836 [10:56<31:09,  2.97s/it]      "
     ]
    },
    {
     "name": "stdout",
     "output_type": "stream",
     "text": [
      "/home/hrai/codes/MotionBERT/custom_codes/Canonical/compare_canonical/h36m_gt_pkl/S1/compare_input_type_S1_Walking 1_58860488.mp4 already exists\n"
     ]
    },
    {
     "name": "stderr",
     "output_type": "stream",
     "text": [
      "[S8_Greeting 1_54138969]:  25%|██▌       | 213/836 [11:08<24:12,  2.33s/it]"
     ]
    },
    {
     "name": "stdout",
     "output_type": "stream",
     "text": [
      "/home/hrai/codes/MotionBERT/custom_codes/Canonical/compare_canonical/h36m_gt_pkl/S1/compare_input_type_S1_Waiting 1_60457274.mp4 already exists\n"
     ]
    },
    {
     "name": "stderr",
     "output_type": "stream",
     "text": [
      "[S8_Walking 1_58860488]:  26%|██▌       | 216/836 [11:16<27:20,  2.65s/it] "
     ]
    },
    {
     "name": "stdout",
     "output_type": "stream",
     "text": [
      "/home/hrai/codes/MotionBERT/custom_codes/Canonical/compare_canonical/h36m_gt_pkl/S1/compare_input_type_S1_WalkTogether_54138969.mp4 already exists\n"
     ]
    },
    {
     "name": "stderr",
     "output_type": "stream",
     "text": [
      "[S6_Sitting 2_58860488]:  26%|██▌       | 219/836 [11:26<30:19,  2.95s/it]"
     ]
    },
    {
     "name": "stdout",
     "output_type": "stream",
     "text": [
      "/home/hrai/codes/MotionBERT/custom_codes/Canonical/compare_canonical/h36m_gt_pkl/S1/compare_input_type_S1_WalkTogether 1_58860488.mp4 already exists\n"
     ]
    },
    {
     "name": "stderr",
     "output_type": "stream",
     "text": [
      "[S11_Photo_55011271]:  27%|██▋       | 229/836 [11:53<31:29,  3.11s/it]       "
     ]
    },
    {
     "name": "stdout",
     "output_type": "stream",
     "text": [
      "/home/hrai/codes/MotionBERT/custom_codes/Canonical/compare_canonical/h36m_gt_pkl/S1/compare_input_type_S1_Directions_54138969.mp4 already exists\n"
     ]
    },
    {
     "name": "stderr",
     "output_type": "stream",
     "text": [
      "[S5_Directions 2_55011271]:  28%|██▊       | 231/836 [11:57<25:02,  2.48s/it]"
     ]
    },
    {
     "name": "stdout",
     "output_type": "stream",
     "text": [
      "/home/hrai/codes/MotionBERT/custom_codes/Canonical/compare_canonical/h36m_gt_pkl/S1/compare_input_type_S1_Directions 1_55011271.mp4 already exists\n"
     ]
    },
    {
     "name": "stderr",
     "output_type": "stream",
     "text": [
      "[S5_Phoning_55011271]:  28%|██▊       | 235/836 [12:05<22:57,  2.29s/it]     "
     ]
    },
    {
     "name": "stdout",
     "output_type": "stream",
     "text": [
      "/home/hrai/codes/MotionBERT/custom_codes/Canonical/compare_canonical/h36m_gt_pkl/S1/compare_input_type_S1_SittingDown 2_55011271.mp4 already exists\n",
      "/home/hrai/codes/MotionBERT/custom_codes/Canonical/compare_canonical/h36m_gt_pkl/S1/compare_input_type_S1_Eating_54138969.mp4 already exists\n"
     ]
    },
    {
     "name": "stderr",
     "output_type": "stream",
     "text": [
      "[S8_Sitting 1_58860488]:  30%|███       | 251/836 [12:55<36:43,  3.77s/it]     "
     ]
    },
    {
     "name": "stdout",
     "output_type": "stream",
     "text": [
      "/home/hrai/codes/MotionBERT/custom_codes/Canonical/compare_canonical/h36m_gt_pkl/S1/compare_input_type_S1_Eating_60457274.mp4 already exists\n"
     ]
    },
    {
     "name": "stderr",
     "output_type": "stream",
     "text": [
      "[S9_Phoning_55011271]:  31%|███       | 257/836 [13:12<32:42,  3.39s/it]      "
     ]
    },
    {
     "name": "stdout",
     "output_type": "stream",
     "text": [
      "/home/hrai/codes/MotionBERT/custom_codes/Canonical/compare_canonical/h36m_gt_pkl/S1/compare_input_type_S1_Photo_54138969.mp4 already exists\n"
     ]
    },
    {
     "name": "stderr",
     "output_type": "stream",
     "text": [
      "[S7_Posing 1_54138969]:  31%|███       | 261/836 [13:23<30:28,  3.18s/it]      "
     ]
    },
    {
     "name": "stdout",
     "output_type": "stream",
     "text": [
      "/home/hrai/codes/MotionBERT/custom_codes/Canonical/compare_canonical/h36m_gt_pkl/S1/compare_input_type_S1_Waiting 1_55011271.mp4 already exists\n"
     ]
    },
    {
     "name": "stderr",
     "output_type": "stream",
     "text": [
      "[S5_Eating 1_54138969]:  32%|███▏      | 264/836 [13:32<30:04,  3.15s/it] "
     ]
    },
    {
     "name": "stdout",
     "output_type": "stream",
     "text": [
      "/home/hrai/codes/MotionBERT/custom_codes/Canonical/compare_canonical/h36m_gt_pkl/S1/compare_input_type_S1_Directions 1_58860488.mp4 already exists\n"
     ]
    },
    {
     "name": "stderr",
     "output_type": "stream",
     "text": [
      "[S9_Phoning_60457274]:  32%|███▏      | 268/836 [13:43<29:53,  3.16s/it]   "
     ]
    },
    {
     "name": "stdout",
     "output_type": "stream",
     "text": [
      "/home/hrai/codes/MotionBERT/custom_codes/Canonical/compare_canonical/h36m_gt_pkl/S1/compare_input_type_S1_Posing_54138969.mp4 already exists\n"
     ]
    },
    {
     "name": "stderr",
     "output_type": "stream",
     "text": [
      "[S7_SittingDown_60457274]:  33%|███▎      | 272/836 [13:58<36:11,  3.85s/it]"
     ]
    },
    {
     "name": "stdout",
     "output_type": "stream",
     "text": [
      "/home/hrai/codes/MotionBERT/custom_codes/Canonical/compare_canonical/h36m_gt_pkl/S1/compare_input_type_S1_Purchases 1_60457274.mp4 already exists\n"
     ]
    },
    {
     "name": "stderr",
     "output_type": "stream",
     "text": [
      "[S7_WalkTogether_60457274]:  35%|███▍      | 289/836 [14:52<33:54,  3.72s/it] "
     ]
    },
    {
     "name": "stdout",
     "output_type": "stream",
     "text": [
      "/home/hrai/codes/MotionBERT/custom_codes/Canonical/compare_canonical/h36m_gt_pkl/S1/compare_input_type_S1_Phoning_55011271.mp4 already exists\n"
     ]
    },
    {
     "name": "stderr",
     "output_type": "stream",
     "text": [
      "[S8_Walking_60457274]:  36%|███▌      | 298/836 [15:24<34:06,  3.80s/it]     "
     ]
    },
    {
     "name": "stdout",
     "output_type": "stream",
     "text": [
      "/home/hrai/codes/MotionBERT/custom_codes/Canonical/compare_canonical/h36m_gt_pkl/S1/compare_input_type_S1_Phoning 1_55011271.mp4 already exists\n"
     ]
    },
    {
     "name": "stderr",
     "output_type": "stream",
     "text": [
      "[S9_Phoning 1_60457274]:  36%|███▌      | 302/836 [15:37<34:08,  3.84s/it] "
     ]
    },
    {
     "name": "stdout",
     "output_type": "stream",
     "text": [
      "/home/hrai/codes/MotionBERT/custom_codes/Canonical/compare_canonical/h36m_gt_pkl/S1/compare_input_type_S1_Discussion 1_54138969.mp4 already exists\n"
     ]
    },
    {
     "name": "stderr",
     "output_type": "stream",
     "text": [
      "[S11_Sitting_58860488]:  36%|███▋      | 305/836 [15:44<26:57,  3.05s/it] "
     ]
    },
    {
     "name": "stdout",
     "output_type": "stream",
     "text": [
      "/home/hrai/codes/MotionBERT/custom_codes/Canonical/compare_canonical/h36m_gt_pkl/S1/compare_input_type_S1_Photo 1_58860488.mp4 already exists\n"
     ]
    },
    {
     "name": "stderr",
     "output_type": "stream",
     "text": [
      "[S9_Phoning 1_54138969]:  37%|███▋      | 309/836 [15:54<26:50,  3.06s/it]   "
     ]
    },
    {
     "name": "stdout",
     "output_type": "stream",
     "text": [
      "/home/hrai/codes/MotionBERT/custom_codes/Canonical/compare_canonical/h36m_gt_pkl/S1/compare_input_type_S1_Greeting 1_54138969.mp4 already exists\n",
      "/home/hrai/codes/MotionBERT/custom_codes/Canonical/compare_canonical/h36m_gt_pkl/S1/compare_input_type_S1_Greeting 1_60457274.mp4 already exists\n"
     ]
    },
    {
     "name": "stderr",
     "output_type": "stream",
     "text": [
      "[S7_Purchases 1_54138969]:  39%|███▊      | 322/836 [16:44<31:20,  3.66s/it] "
     ]
    },
    {
     "name": "stdout",
     "output_type": "stream",
     "text": [
      "/home/hrai/codes/MotionBERT/custom_codes/Canonical/compare_canonical/h36m_gt_pkl/S1/compare_input_type_S1_Sitting 1_55011271.mp4 already exists\n"
     ]
    },
    {
     "name": "stderr",
     "output_type": "stream",
     "text": [
      "[S5_Photo 2_60457274]:  40%|████      | 336/836 [17:29<34:37,  4.16s/it]     "
     ]
    },
    {
     "name": "stdout",
     "output_type": "stream",
     "text": [
      "/home/hrai/codes/MotionBERT/custom_codes/Canonical/compare_canonical/h36m_gt_pkl/S1/compare_input_type_S1_Eating_58860488.mp4 already exists\n"
     ]
    },
    {
     "name": "stderr",
     "output_type": "stream",
     "text": [
      "[S11_Discussion 1_55011271]:  40%|████      | 338/836 [17:34<26:35,  3.20s/it]"
     ]
    },
    {
     "name": "stdout",
     "output_type": "stream",
     "text": [
      "/home/hrai/codes/MotionBERT/custom_codes/Canonical/compare_canonical/h36m_gt_pkl/S1/compare_input_type_S1_Discussion_60457274.mp4 already exists\n"
     ]
    },
    {
     "name": "stderr",
     "output_type": "stream",
     "text": [
      "[S7_Eating 1_58860488]:  41%|████      | 343/836 [17:52<31:24,  3.82s/it]      "
     ]
    },
    {
     "name": "stdout",
     "output_type": "stream",
     "text": [
      "/home/hrai/codes/MotionBERT/custom_codes/Canonical/compare_canonical/h36m_gt_pkl/S1/compare_input_type_S1_Greeting 1_55011271.mp4 already exists\n"
     ]
    },
    {
     "name": "stderr",
     "output_type": "stream",
     "text": [
      "[S7_WalkDog_60457274]:  41%|████▏     | 345/836 [17:56<24:45,  3.03s/it] "
     ]
    },
    {
     "name": "stdout",
     "output_type": "stream",
     "text": [
      "/home/hrai/codes/MotionBERT/custom_codes/Canonical/compare_canonical/h36m_gt_pkl/S1/compare_input_type_S1_Sitting 2_60457274.mp4 already exists\n"
     ]
    },
    {
     "name": "stderr",
     "output_type": "stream",
     "text": [
      "[S9_SittingDown_54138969]:  42%|████▏     | 351/836 [18:18<32:35,  4.03s/it] "
     ]
    },
    {
     "name": "stdout",
     "output_type": "stream",
     "text": [
      "/home/hrai/codes/MotionBERT/custom_codes/Canonical/compare_canonical/h36m_gt_pkl/S1/compare_input_type_S1_Purchases 1_55011271.mp4 already exists\n"
     ]
    },
    {
     "name": "stderr",
     "output_type": "stream",
     "text": [
      "[S8_Purchases_54138969]:  45%|████▍     | 373/836 [19:47<24:41,  3.20s/it]     "
     ]
    },
    {
     "name": "stdout",
     "output_type": "stream",
     "text": [
      "/home/hrai/codes/MotionBERT/custom_codes/Canonical/compare_canonical/h36m_gt_pkl/S1/compare_input_type_S1_WalkDog 1_60457274.mp4 already exists\n"
     ]
    },
    {
     "name": "stderr",
     "output_type": "stream",
     "text": [
      "[S9_SittingDown_58860488]:  46%|████▌     | 382/836 [20:16<28:23,  3.75s/it]   "
     ]
    },
    {
     "name": "stdout",
     "output_type": "stream",
     "text": [
      "/home/hrai/codes/MotionBERT/custom_codes/Canonical/compare_canonical/h36m_gt_pkl/S1/compare_input_type_S1_Posing 1_58860488.mp4 already exists\n"
     ]
    },
    {
     "name": "stderr",
     "output_type": "stream",
     "text": [
      "[S11_Waiting 1_58860488]:  47%|████▋     | 392/836 [20:51<25:54,  3.50s/it]    "
     ]
    },
    {
     "name": "stdout",
     "output_type": "stream",
     "text": [
      "/home/hrai/codes/MotionBERT/custom_codes/Canonical/compare_canonical/h36m_gt_pkl/S1/compare_input_type_S1_Smoking_54138969.mp4 already exists\n",
      "/home/hrai/codes/MotionBERT/custom_codes/Canonical/compare_canonical/h36m_gt_pkl/S1/compare_input_type_S1_Purchases_54138969.mp4 already exists\n"
     ]
    },
    {
     "name": "stderr",
     "output_type": "stream",
     "text": [
      "[S8_Phoning 1_55011271]:  48%|████▊     | 401/836 [21:20<27:55,  3.85s/it]     "
     ]
    },
    {
     "name": "stdout",
     "output_type": "stream",
     "text": [
      "/home/hrai/codes/MotionBERT/custom_codes/Canonical/compare_canonical/h36m_gt_pkl/S1/compare_input_type_S1_Sitting 2_54138969.mp4 already exists\n"
     ]
    },
    {
     "name": "stderr",
     "output_type": "stream",
     "text": [
      "[S8_Discussion 1_55011271]:  49%|████▊     | 406/836 [21:33<22:05,  3.08s/it]  "
     ]
    },
    {
     "name": "stdout",
     "output_type": "stream",
     "text": [
      "/home/hrai/codes/MotionBERT/custom_codes/Canonical/compare_canonical/h36m_gt_pkl/S1/compare_input_type_S1_Greeting_54138969.mp4 already exists\n",
      "/home/hrai/codes/MotionBERT/custom_codes/Canonical/compare_canonical/h36m_gt_pkl/S1/compare_input_type_S1_WalkDog 1_58860488.mp4 already exists\n"
     ]
    },
    {
     "name": "stderr",
     "output_type": "stream",
     "text": [
      "[S5_Walking_55011271]:  50%|████▉     | 416/836 [22:06<29:10,  4.17s/it]       "
     ]
    },
    {
     "name": "stdout",
     "output_type": "stream",
     "text": [
      "/home/hrai/codes/MotionBERT/custom_codes/Canonical/compare_canonical/h36m_gt_pkl/S1/compare_input_type_S1_Smoking_55011271.mp4 already exists\n"
     ]
    },
    {
     "name": "stderr",
     "output_type": "stream",
     "text": [
      "[S7_Photo 1_58860488]:  50%|█████     | 418/836 [22:09<20:20,  2.92s/it]"
     ]
    },
    {
     "name": "stdout",
     "output_type": "stream",
     "text": [
      "/home/hrai/codes/MotionBERT/custom_codes/Canonical/compare_canonical/h36m_gt_pkl/S1/compare_input_type_S1_Purchases_60457274.mp4 already exists\n"
     ]
    },
    {
     "name": "stderr",
     "output_type": "stream",
     "text": [
      "[S5_Discussion 2_60457274]:  51%|█████     | 425/836 [22:40<33:06,  4.83s/it]"
     ]
    },
    {
     "name": "stdout",
     "output_type": "stream",
     "text": [
      "/home/hrai/codes/MotionBERT/custom_codes/Canonical/compare_canonical/h36m_gt_pkl/S1/compare_input_type_S1_Phoning_60457274.mp4 already exists\n",
      "/home/hrai/codes/MotionBERT/custom_codes/Canonical/compare_canonical/h36m_gt_pkl/S1/compare_input_type_S1_Waiting 1_54138969.mp4 already exists\n"
     ]
    },
    {
     "name": "stderr",
     "output_type": "stream",
     "text": [
      "[S9_Eating 1_54138969]:  51%|█████▏    | 429/836 [22:48<21:59,  3.24s/it]    "
     ]
    },
    {
     "name": "stdout",
     "output_type": "stream",
     "text": [
      "/home/hrai/codes/MotionBERT/custom_codes/Canonical/compare_canonical/h36m_gt_pkl/S1/compare_input_type_S1_Photo 1_54138969.mp4 already exists\n"
     ]
    },
    {
     "name": "stderr",
     "output_type": "stream",
     "text": [
      "[S7_Greeting 1_54138969]:  52%|█████▏    | 431/836 [22:51<17:41,  2.62s/it]"
     ]
    },
    {
     "name": "stdout",
     "output_type": "stream",
     "text": [
      "/home/hrai/codes/MotionBERT/custom_codes/Canonical/compare_canonical/h36m_gt_pkl/S1/compare_input_type_S1_Discussion 1_55011271.mp4 already exists\n"
     ]
    },
    {
     "name": "stderr",
     "output_type": "stream",
     "text": [
      "[S8_Sitting_58860488]:  52%|█████▏    | 437/836 [23:15<23:58,  3.61s/it]       "
     ]
    },
    {
     "name": "stdout",
     "output_type": "stream",
     "text": [
      "/home/hrai/codes/MotionBERT/custom_codes/Canonical/compare_canonical/h36m_gt_pkl/S1/compare_input_type_S1_Posing_58860488.mp4 already exists\n"
     ]
    },
    {
     "name": "stderr",
     "output_type": "stream",
     "text": [
      "[S8_Sitting_54138969]:  54%|█████▍    | 452/836 [24:11<24:22,  3.81s/it]       "
     ]
    },
    {
     "name": "stdout",
     "output_type": "stream",
     "text": [
      "/home/hrai/codes/MotionBERT/custom_codes/Canonical/compare_canonical/h36m_gt_pkl/S1/compare_input_type_S1_Phoning 1_54138969.mp4 already exists\n"
     ]
    },
    {
     "name": "stderr",
     "output_type": "stream",
     "text": [
      "[S5_Purchases 1_55011271]:  56%|█████▌    | 468/836 [25:07<25:35,  4.17s/it] "
     ]
    },
    {
     "name": "stdout",
     "output_type": "stream",
     "text": [
      "/home/hrai/codes/MotionBERT/custom_codes/Canonical/compare_canonical/h36m_gt_pkl/S1/compare_input_type_S1_SittingDown_58860488.mp4 already exists\n"
     ]
    },
    {
     "name": "stderr",
     "output_type": "stream",
     "text": [
      "[S7_Eating 1_55011271]:  59%|█████▉    | 496/836 [27:07<25:39,  4.53s/it]       "
     ]
    },
    {
     "name": "stdout",
     "output_type": "stream",
     "text": [
      "/home/hrai/codes/MotionBERT/custom_codes/Canonical/compare_canonical/h36m_gt_pkl/S1/compare_input_type_S1_Posing 1_60457274.mp4 already exists\n"
     ]
    },
    {
     "name": "stderr",
     "output_type": "stream",
     "text": [
      "[S5_SittingDown_55011271]:  60%|██████    | 502/836 [27:32<28:49,  5.18s/it] "
     ]
    },
    {
     "name": "stdout",
     "output_type": "stream",
     "text": [
      "/home/hrai/codes/MotionBERT/custom_codes/Canonical/compare_canonical/h36m_gt_pkl/S1/compare_input_type_S1_Walking_60457274.mp4 already exists\n"
     ]
    },
    {
     "name": "stderr",
     "output_type": "stream",
     "text": [
      "[S5_WalkTogether_54138969]:  61%|██████    | 511/836 [28:06<21:12,  3.92s/it]"
     ]
    },
    {
     "name": "stdout",
     "output_type": "stream",
     "text": [
      "/home/hrai/codes/MotionBERT/custom_codes/Canonical/compare_canonical/h36m_gt_pkl/S1/compare_input_type_S1_WalkTogether 1_60457274.mp4 already exists\n"
     ]
    },
    {
     "name": "stderr",
     "output_type": "stream",
     "text": [
      "[S9_Sitting 1_54138969]:  65%|██████▍   | 540/836 [29:49<18:17,  3.71s/it]      "
     ]
    },
    {
     "name": "stdout",
     "output_type": "stream",
     "text": [
      "/home/hrai/codes/MotionBERT/custom_codes/Canonical/compare_canonical/h36m_gt_pkl/S1/compare_input_type_S1_Waiting_55011271.mp4 already exists\n"
     ]
    },
    {
     "name": "stderr",
     "output_type": "stream",
     "text": [
      "[S7_Directions_60457274]:  66%|██████▌   | 550/836 [30:20<17:32,  3.68s/it]    "
     ]
    },
    {
     "name": "stdout",
     "output_type": "stream",
     "text": [
      "/home/hrai/codes/MotionBERT/custom_codes/Canonical/compare_canonical/h36m_gt_pkl/S1/compare_input_type_S1_Directions_60457274.mp4 already exists\n"
     ]
    },
    {
     "name": "stderr",
     "output_type": "stream",
     "text": [
      "[S6_WalkDog 1_58860488]:  67%|██████▋   | 558/836 [30:48<16:39,  3.59s/it]    "
     ]
    },
    {
     "name": "stdout",
     "output_type": "stream",
     "text": [
      "/home/hrai/codes/MotionBERT/custom_codes/Canonical/compare_canonical/h36m_gt_pkl/S1/compare_input_type_S1_Directions 1_54138969.mp4 already exists\n"
     ]
    },
    {
     "name": "stderr",
     "output_type": "stream",
     "text": [
      "[S11_Smoking 2_54138969]:  68%|██████▊   | 565/836 [31:10<16:31,  3.66s/it] "
     ]
    },
    {
     "name": "stdout",
     "output_type": "stream",
     "text": [
      "/home/hrai/codes/MotionBERT/custom_codes/Canonical/compare_canonical/h36m_gt_pkl/S1/compare_input_type_S1_WalkTogether_58860488.mp4 already exists\n"
     ]
    },
    {
     "name": "stderr",
     "output_type": "stream",
     "text": [
      "[S5_Waiting 2_54138969]:  68%|██████▊   | 572/836 [31:34<18:19,  4.17s/it] "
     ]
    },
    {
     "name": "stdout",
     "output_type": "stream",
     "text": [
      "/home/hrai/codes/MotionBERT/custom_codes/Canonical/compare_canonical/h36m_gt_pkl/S1/compare_input_type_S1_Photo 1_60457274.mp4 already exists\n"
     ]
    },
    {
     "name": "stderr",
     "output_type": "stream",
     "text": [
      "[S11_Discussion 1_60457274]:  69%|██████▊   | 574/836 [31:39<14:12,  3.25s/it]"
     ]
    },
    {
     "name": "stdout",
     "output_type": "stream",
     "text": [
      "/home/hrai/codes/MotionBERT/custom_codes/Canonical/compare_canonical/h36m_gt_pkl/S1/compare_input_type_S1_Eating 2_54138969.mp4 already exists\n"
     ]
    },
    {
     "name": "stderr",
     "output_type": "stream",
     "text": [
      "[S9_Smoking_55011271]:  69%|██████▉   | 578/836 [31:50<14:28,  3.37s/it]      "
     ]
    },
    {
     "name": "stdout",
     "output_type": "stream",
     "text": [
      "/home/hrai/codes/MotionBERT/custom_codes/Canonical/compare_canonical/h36m_gt_pkl/S1/compare_input_type_S1_WalkTogether_55011271.mp4 already exists\n"
     ]
    },
    {
     "name": "stderr",
     "output_type": "stream",
     "text": [
      "[S9_WalkDog_58860488]:  69%|██████▉   | 580/836 [31:53<11:35,  2.72s/it]"
     ]
    },
    {
     "name": "stdout",
     "output_type": "stream",
     "text": [
      "/home/hrai/codes/MotionBERT/custom_codes/Canonical/compare_canonical/h36m_gt_pkl/S1/compare_input_type_S1_Posing_60457274.mp4 already exists\n"
     ]
    },
    {
     "name": "stderr",
     "output_type": "stream",
     "text": [
      "[S6_Sitting 1_60457274]:  70%|██████▉   | 585/836 [32:04<10:17,  2.46s/it]    "
     ]
    },
    {
     "name": "stdout",
     "output_type": "stream",
     "text": [
      "/home/hrai/codes/MotionBERT/custom_codes/Canonical/compare_canonical/h36m_gt_pkl/S1/compare_input_type_S1_Eating 2_55011271.mp4 already exists\n"
     ]
    },
    {
     "name": "stderr",
     "output_type": "stream",
     "text": [
      "[S5_Sitting_54138969]:  71%|███████   | 591/836 [32:22<13:24,  3.28s/it]  "
     ]
    },
    {
     "name": "stdout",
     "output_type": "stream",
     "text": [
      "/home/hrai/codes/MotionBERT/custom_codes/Canonical/compare_canonical/h36m_gt_pkl/S1/compare_input_type_S1_Smoking 1_54138969.mp4 already exists\n"
     ]
    },
    {
     "name": "stderr",
     "output_type": "stream",
     "text": [
      "[S11_Waiting 1_54138969]:  71%|███████   | 595/836 [32:31<10:59,  2.74s/it]"
     ]
    },
    {
     "name": "stdout",
     "output_type": "stream",
     "text": [
      "/home/hrai/codes/MotionBERT/custom_codes/Canonical/compare_canonical/h36m_gt_pkl/S1/compare_input_type_S1_SittingDown_54138969.mp4 already exists\n"
     ]
    },
    {
     "name": "stderr",
     "output_type": "stream",
     "text": [
      "[S5_Posing 1_54138969]:  72%|███████▏  | 599/836 [32:40<10:12,  2.59s/it]   "
     ]
    },
    {
     "name": "stdout",
     "output_type": "stream",
     "text": [
      "/home/hrai/codes/MotionBERT/custom_codes/Canonical/compare_canonical/h36m_gt_pkl/S1/compare_input_type_S1_Sitting 1_60457274.mp4 already exists\n",
      "/home/hrai/codes/MotionBERT/custom_codes/Canonical/compare_canonical/h36m_gt_pkl/S1/compare_input_type_S1_Discussion 1_58860488.mp4 already exists\n"
     ]
    },
    {
     "name": "stderr",
     "output_type": "stream",
     "text": [
      "[S5_WalkDog_54138969]:  74%|███████▎  | 616/836 [33:33<12:07,  3.30s/it]       "
     ]
    },
    {
     "name": "stdout",
     "output_type": "stream",
     "text": [
      "/home/hrai/codes/MotionBERT/custom_codes/Canonical/compare_canonical/h36m_gt_pkl/S1/compare_input_type_S1_WalkTogether 1_54138969.mp4 already exists\n",
      "/home/hrai/codes/MotionBERT/custom_codes/Canonical/compare_canonical/h36m_gt_pkl/S1/compare_input_type_S1_Sitting 1_58860488.mp4 already exists\n"
     ]
    },
    {
     "name": "stderr",
     "output_type": "stream",
     "text": [
      "[S7_Purchases 1_58860488]:  77%|███████▋  | 640/836 [34:59<14:27,  4.42s/it]   "
     ]
    },
    {
     "name": "stdout",
     "output_type": "stream",
     "text": [
      "/home/hrai/codes/MotionBERT/custom_codes/Canonical/compare_canonical/h36m_gt_pkl/S1/compare_input_type_S1_Walking 1_55011271.mp4 already exists\n"
     ]
    },
    {
     "name": "stderr",
     "output_type": "stream",
     "text": [
      "[S8_Waiting 1_60457274]:  77%|███████▋  | 643/836 [35:06<10:25,  3.24s/it]  "
     ]
    },
    {
     "name": "stdout",
     "output_type": "stream",
     "text": [
      "/home/hrai/codes/MotionBERT/custom_codes/Canonical/compare_canonical/h36m_gt_pkl/S1/compare_input_type_S1_Purchases 1_54138969.mp4 already exists\n"
     ]
    },
    {
     "name": "stderr",
     "output_type": "stream",
     "text": [
      "[S8_Directions_55011271]:  77%|███████▋  | 647/836 [35:17<09:26,  3.00s/it]"
     ]
    },
    {
     "name": "stdout",
     "output_type": "stream",
     "text": [
      "/home/hrai/codes/MotionBERT/custom_codes/Canonical/compare_canonical/h36m_gt_pkl/S1/compare_input_type_S1_Photo_60457274.mp4 already exists\n",
      "/home/hrai/codes/MotionBERT/custom_codes/Canonical/compare_canonical/h36m_gt_pkl/S1/compare_input_type_S1_Eating_55011271.mp4 already exists\n"
     ]
    },
    {
     "name": "stderr",
     "output_type": "stream",
     "text": [
      "[S6_Directions 1_54138969]:  78%|███████▊  | 651/836 [35:25<08:04,  2.62s/it]"
     ]
    },
    {
     "name": "stdout",
     "output_type": "stream",
     "text": [
      "/home/hrai/codes/MotionBERT/custom_codes/Canonical/compare_canonical/h36m_gt_pkl/S1/compare_input_type_S1_WalkTogether_60457274.mp4 already exists\n"
     ]
    },
    {
     "name": "stderr",
     "output_type": "stream",
     "text": [
      "[S5_Directions 2_60457274]:  79%|███████▊  | 657/836 [35:44<09:12,  3.09s/it]"
     ]
    },
    {
     "name": "stdout",
     "output_type": "stream",
     "text": [
      "/home/hrai/codes/MotionBERT/custom_codes/Canonical/compare_canonical/h36m_gt_pkl/S1/compare_input_type_S1_Waiting_60457274.mp4 already exists\n",
      "/home/hrai/codes/MotionBERT/custom_codes/Canonical/compare_canonical/h36m_gt_pkl/S1/compare_input_type_S1_Eating 2_58860488.mp4 already exists\n"
     ]
    },
    {
     "name": "stderr",
     "output_type": "stream",
     "text": [
      "[S6_Phoning_60457274]:  79%|███████▉  | 661/836 [35:49<06:21,  2.18s/it]     "
     ]
    },
    {
     "name": "stdout",
     "output_type": "stream",
     "text": [
      "/home/hrai/codes/MotionBERT/custom_codes/Canonical/compare_canonical/h36m_gt_pkl/S1/compare_input_type_S1_Discussion 1_60457274.mp4 already exists\n",
      "/home/hrai/codes/MotionBERT/custom_codes/Canonical/compare_canonical/h36m_gt_pkl/S1/compare_input_type_S1_Waiting_54138969.mp4 already exists\n",
      "/home/hrai/codes/MotionBERT/custom_codes/Canonical/compare_canonical/h36m_gt_pkl/S1/compare_input_type_S1_Waiting 1_58860488.mp4 already exists\n"
     ]
    },
    {
     "name": "stderr",
     "output_type": "stream",
     "text": [
      "[S9_Waiting 1_54138969]:  81%|████████  | 674/836 [36:31<08:42,  3.23s/it]    "
     ]
    },
    {
     "name": "stdout",
     "output_type": "stream",
     "text": [
      "/home/hrai/codes/MotionBERT/custom_codes/Canonical/compare_canonical/h36m_gt_pkl/S1/compare_input_type_S1_Phoning 1_58860488.mp4 already exists\n"
     ]
    },
    {
     "name": "stderr",
     "output_type": "stream",
     "text": [
      "[S11_Eating_55011271]:  81%|████████  | 679/836 [36:55<12:14,  4.68s/it]     "
     ]
    },
    {
     "name": "stdout",
     "output_type": "stream",
     "text": [
      "/home/hrai/codes/MotionBERT/custom_codes/Canonical/compare_canonical/h36m_gt_pkl/S1/compare_input_type_S1_SittingDown 2_54138969.mp4 already exists\n"
     ]
    },
    {
     "name": "stderr",
     "output_type": "stream",
     "text": [
      "[S9_WalkTogether_55011271]:  83%|████████▎ | 695/836 [37:58<08:39,  3.68s/it]  "
     ]
    },
    {
     "name": "stdout",
     "output_type": "stream",
     "text": [
      "/home/hrai/codes/MotionBERT/custom_codes/Canonical/compare_canonical/h36m_gt_pkl/S1/compare_input_type_S1_SittingDown_60457274.mp4 already exists\n"
     ]
    },
    {
     "name": "stderr",
     "output_type": "stream",
     "text": [
      "[S6_Waiting_54138969]:  84%|████████▍ | 702/836 [38:23<08:17,  3.71s/it]      "
     ]
    },
    {
     "name": "stdout",
     "output_type": "stream",
     "text": [
      "/home/hrai/codes/MotionBERT/custom_codes/Canonical/compare_canonical/h36m_gt_pkl/S1/compare_input_type_S1_WalkDog_60457274.mp4 already exists\n"
     ]
    },
    {
     "name": "stderr",
     "output_type": "stream",
     "text": [
      "[S7_WalkDog 1_54138969]:  87%|████████▋ | 724/836 [39:36<06:09,  3.30s/it]    "
     ]
    },
    {
     "name": "stdout",
     "output_type": "stream",
     "text": [
      "/home/hrai/codes/MotionBERT/custom_codes/Canonical/compare_canonical/h36m_gt_pkl/S1/compare_input_type_S1_Posing_55011271.mp4 already exists\n"
     ]
    },
    {
     "name": "stderr",
     "output_type": "stream",
     "text": [
      "[S5_Posing 1_58860488]:  89%|████████▊ | 740/836 [40:33<05:38,  3.52s/it]    "
     ]
    },
    {
     "name": "stdout",
     "output_type": "stream",
     "text": [
      "/home/hrai/codes/MotionBERT/custom_codes/Canonical/compare_canonical/h36m_gt_pkl/S1/compare_input_type_S1_Waiting_58860488.mp4 already exists\n",
      "/home/hrai/codes/MotionBERT/custom_codes/Canonical/compare_canonical/h36m_gt_pkl/S1/compare_input_type_S1_Greeting_60457274.mp4 already exists\n"
     ]
    },
    {
     "name": "stderr",
     "output_type": "stream",
     "text": [
      "[S8_WalkDog_58860488]:  90%|█████████ | 753/836 [41:08<04:24,  3.19s/it]      "
     ]
    },
    {
     "name": "stdout",
     "output_type": "stream",
     "text": [
      "/home/hrai/codes/MotionBERT/custom_codes/Canonical/compare_canonical/h36m_gt_pkl/S1/compare_input_type_S1_Discussion_54138969.mp4 already exists\n"
     ]
    },
    {
     "name": "stderr",
     "output_type": "stream",
     "text": [
      "[S6_Greeting 1_55011271]:  91%|█████████ | 757/836 [41:18<03:37,  2.75s/it]  "
     ]
    },
    {
     "name": "stdout",
     "output_type": "stream",
     "text": [
      "/home/hrai/codes/MotionBERT/custom_codes/Canonical/compare_canonical/h36m_gt_pkl/S1/compare_input_type_S1_Eating 2_60457274.mp4 already exists\n"
     ]
    },
    {
     "name": "stderr",
     "output_type": "stream",
     "text": [
      "[S7_SittingDown 1_55011271]:  93%|█████████▎| 776/836 [42:26<04:52,  4.87s/it]"
     ]
    },
    {
     "name": "stdout",
     "output_type": "stream",
     "text": [
      "/home/hrai/codes/MotionBERT/custom_codes/Canonical/compare_canonical/h36m_gt_pkl/S1/compare_input_type_S1_Smoking 1_60457274.mp4 already exists\n"
     ]
    },
    {
     "name": "stderr",
     "output_type": "stream",
     "text": [
      "[S11_WalkTogether_58860488]:  94%|█████████▎| 783/836 [42:45<02:37,  2.96s/it]"
     ]
    },
    {
     "name": "stdout",
     "output_type": "stream",
     "text": [
      "/home/hrai/codes/MotionBERT/custom_codes/Canonical/compare_canonical/h36m_gt_pkl/S1/compare_input_type_S1_WalkDog_58860488.mp4 already exists\n"
     ]
    },
    {
     "name": "stderr",
     "output_type": "stream",
     "text": [
      "[S5_Directions 2_54138969]:  95%|█████████▌| 797/836 [43:34<02:18,  3.56s/it] "
     ]
    },
    {
     "name": "stdout",
     "output_type": "stream",
     "text": [
      "/home/hrai/codes/MotionBERT/custom_codes/Canonical/compare_canonical/h36m_gt_pkl/S1/compare_input_type_S1_Walking_55011271.mp4 already exists\n"
     ]
    },
    {
     "name": "stderr",
     "output_type": "stream",
     "text": [
      "[S9_Posing_54138969]:  96%|█████████▌| 801/836 [43:48<01:55,  3.31s/it]      "
     ]
    },
    {
     "name": "stdout",
     "output_type": "stream",
     "text": [
      "/home/hrai/codes/MotionBERT/custom_codes/Canonical/compare_canonical/h36m_gt_pkl/S1/compare_input_type_S1_Directions_55011271.mp4 already exists\n"
     ]
    },
    {
     "name": "stderr",
     "output_type": "stream",
     "text": [
      "[S5_Smoking 1_60457274]:  96%|█████████▌| 803/836 [43:52<01:36,  2.92s/it]"
     ]
    },
    {
     "name": "stdout",
     "output_type": "stream",
     "text": [
      "/home/hrai/codes/MotionBERT/custom_codes/Canonical/compare_canonical/h36m_gt_pkl/S1/compare_input_type_S1_Walking 1_54138969.mp4 already exists\n"
     ]
    },
    {
     "name": "stderr",
     "output_type": "stream",
     "text": [
      "[S6_Purchases_55011271]:  96%|█████████▋| 806/836 [43:57<01:09,  2.31s/it]   "
     ]
    },
    {
     "name": "stdout",
     "output_type": "stream",
     "text": [
      "/home/hrai/codes/MotionBERT/custom_codes/Canonical/compare_canonical/h36m_gt_pkl/S1/compare_input_type_S1_SittingDown 2_60457274.mp4 already exists\n"
     ]
    },
    {
     "name": "stderr",
     "output_type": "stream",
     "text": [
      "[S7_Posing 1_55011271]:  97%|█████████▋| 814/836 [44:36<01:47,  4.88s/it]     "
     ]
    },
    {
     "name": "stdout",
     "output_type": "stream",
     "text": [
      "/home/hrai/codes/MotionBERT/custom_codes/Canonical/compare_canonical/h36m_gt_pkl/S1/compare_input_type_S1_WalkDog_55011271.mp4 already exists\n"
     ]
    },
    {
     "name": "stderr",
     "output_type": "stream",
     "text": [
      "[S5_Posing_54138969]:  98%|█████████▊| 820/836 [44:52<00:51,  3.21s/it]    "
     ]
    },
    {
     "name": "stdout",
     "output_type": "stream",
     "text": [
      "/home/hrai/codes/MotionBERT/custom_codes/Canonical/compare_canonical/h36m_gt_pkl/S1/compare_input_type_S1_WalkDog_54138969.mp4 already exists\n"
     ]
    },
    {
     "name": "stderr",
     "output_type": "stream",
     "text": [
      "[S9_Sitting_60457274]:  99%|█████████▉| 830/836 [45:29<00:25,  4.33s/it]       "
     ]
    },
    {
     "name": "stdout",
     "output_type": "stream",
     "text": [
      "/home/hrai/codes/MotionBERT/custom_codes/Canonical/compare_canonical/h36m_gt_pkl/S1/compare_input_type_S1_Directions 1_60457274.mp4 already exists\n"
     ]
    },
    {
     "name": "stderr",
     "output_type": "stream",
     "text": [
      "[S6_Waiting_55011271]: 100%|██████████| 836/836 [45:42<00:00,  3.28s/it]        "
     ]
    },
    {
     "name": "stdout",
     "output_type": "stream",
     "text": [
      "/home/hrai/codes/MotionBERT/custom_codes/Canonical/compare_canonical/h36m_gt_pkl/S1/compare_input_type_S1_Greeting_58860488.mp4 already exists\n"
     ]
    },
    {
     "name": "stderr",
     "output_type": "stream",
     "text": [
      "\n"
     ]
    },
    {
     "data": {
      "image/png": "[encoded data removed]",
      "text/plain": [
       "<Figure size 1500x500 with 3 Axes>"
      ]
     },
     "metadata": {},
     "output_type": "display_data"
    }
   ],
   "source": [
    "import concurrent.futures\n",
    "\n",
    "%matplotlib inline\n",
    "fig = plt.figure(1, figsize=(15, 5))\n",
    "fig.clear()\n",
    "axd = fig.subplot_mosaic(\n",
    "    \"\"\"\n",
    "    ABC\n",
    "    \"\"\",\n",
    "    per_subplot_kw={('C'): {'projection': '3d'}}\n",
    ")\n",
    "\n",
    "axA = axes_2d(ax=axd['A'], normalize=True, show_axis=False)\n",
    "axB = axes_2d(ax=axd['B'], normalize=True, show_axis=False)\n",
    "axC = axes_3d(ax=axd['C'], show_axis=False, view=(-90, -90))\n",
    "\n",
    "axA.set_title('Original')\n",
    "axB.set_title('Canonical (x2)')\n",
    "axC.set_title('Cam 3d (x2)')\n",
    "\n",
    "def plot_frame(frame_num):\n",
    "    pos = world_3d_from_canonical_3d_list[frame_num].copy()\n",
    "    cam_3d_from_canonical_3d = World2CameraCoordinate(pos, cam_param['extrinsic']) \n",
    "    img_2d_from_canonical_3d = cam_3d_from_canonical_3d @ int_mat.T\n",
    "    img_2d_from_canonical_3d /= img_2d_from_canonical_3d[:, 2:]\n",
    "    img_2d = cam_3d_list[frame_num] @ int_mat.T\n",
    "    img_2d /= img_2d[:, 2:]\n",
    "    #img_2d_centered = img_2d - img_2d[0] + \n",
    "    \n",
    "    img_2d_norm = normalize_input(img_2d, 1000, 1000)\n",
    "    img_2d_centered_norm = img_2d_norm - img_2d_norm[0]\n",
    "    img_2d_from_canonical_3d_norm = normalize_input(img_2d_from_canonical_3d, 1000, 1000)\n",
    "    canonical_center = img_2d_from_canonical_3d_norm[0]\n",
    "    img_2d_from_canonical_3d_norm = img_2d_from_canonical_3d_norm - img_2d_from_canonical_3d_norm[0]\n",
    "    \n",
    "    clear_axes([axA, axB, axC])\n",
    "    draw_2d_pose(axA, img_2d_norm, normalize=True, color='k')\n",
    "    axA.axhline(0, 0, 1, color='k', linestyle='--', linewidth=0.5)\n",
    "    axA.axvline(0, 0, 1, color='k', linestyle='--', linewidth=0.5)\n",
    "    draw_2d_pose(axB, img_2d_centered_norm*sizeup, normalize=True, color='r', label='centered')\n",
    "    draw_2d_pose(axB, img_2d_from_canonical_3d_norm*sizeup, normalize=True, color='b', label='canonical 3d (same z)')\n",
    "    axB.plot(canonical_center[0]*sizeup, canonical_center[1]*sizeup, 'rx', markersize=5, label='canonical center')\n",
    "    axB.axhline(0, 0, 1, color='k', linestyle='--', linewidth=0.5)\n",
    "    axB.axvline(0, 0, 1, color='k', linestyle='--', linewidth=0.5)\n",
    "    draw_3d_pose(axC, cam_3d_hat_list[frame_num]*sizeup)\n",
    "    \n",
    "    handles, labels = axB.get_legend_handles_labels()\n",
    "    by_label = dict(zip(labels, handles))\n",
    "    leg = axB.legend(by_label.values(), by_label.keys())\n",
    "    \n",
    "    # 이미지를 메모리에 저장\n",
    "    fig.canvas.draw()\n",
    "    image = np.frombuffer(fig.canvas.buffer_rgba(), dtype='uint8')\n",
    "    image = image.reshape(fig.canvas.get_width_height()[::-1] + (4,))\n",
    "    \n",
    "    #plt.close(fig)  # 메모리 누수 방지\n",
    "    return image\n",
    "\n",
    "\n",
    "for dataset in ['fit3d_gt_pkl', 'h36m_gt_pkl']:\n",
    "    print(dataset)\n",
    "    load_folder = f'/home/hrai/codes/MotionBERT/data/motion3d/{dataset}'\n",
    "\n",
    "    #subject_list = ['s03']\n",
    "    sizeup = 1.5\n",
    "\n",
    "    pbar = tqdm(glob(load_folder + '/*.pkl'))\n",
    "    for item in pbar:\n",
    "        #print(item)\n",
    "        splited = item.split('/')[-1].split('.')[0].split('_')\n",
    "        subject = splited[0]\n",
    "        cam_id = splited[1]\n",
    "        if 'fit3d_gt_pkl' == dataset: \n",
    "            action = '_'.join(splited[2:])\n",
    "        elif 'h36m_gt_pkl' == dataset:\n",
    "            action = splited[2]\n",
    "        \n",
    "        #print(subject, action, cam_id)    \n",
    "        #if subject not in subject_list: continue\n",
    "        \n",
    "        folder = f'/home/hrai/codes/MotionBERT/custom_codes/Canonical/compare_canonical/{dataset}/{subject}'\n",
    "        if not os.path.exists(folder): os.makedirs(folder)\n",
    "        filename = os.path.join(folder, f'compare_input_type_{subject}_{action}_{cam_id}.mp4') \n",
    "        if os.path.exists(filename): \n",
    "            print(f'{filename} already exists')\n",
    "            continue\n",
    "        \n",
    "        data = readpkl(item)\n",
    "        \n",
    "        cam_param = data['cam_param'][0].reshape(1)[0].copy()\n",
    "        int_mat = cam_param['intrinsic']\n",
    "        ext_mat = cam_param['extrinsic']\n",
    "        cam_proj = int_mat @ ext_mat\n",
    "        R = ext_mat[:3, :3]\n",
    "        t = ext_mat[:3, 3]\n",
    "        C = T_to_C(R, t)\n",
    "        num_frames = len(data['world_3d'])\n",
    "        world_3d_list = np.array(data['world_3d']).copy() # (F, J, 3)\n",
    "        cam_3d_list = np.array(data['cam_3d']).copy()/1000 # (F, J, 3)\n",
    "        cam_3d_hat_list = get_rootrel_pose(cam_3d_list)\n",
    "        world_3d_from_canonical_3d_list = get_canonical_3d_same_z(world_3d_list, cam_3d_list, C, R)\n",
    "        \n",
    "        \n",
    "        with imageio.get_writer(filename, fps=6, macro_block_size=1) as writer:\n",
    "            with concurrent.futures.ProcessPoolExecutor() as executor:\n",
    "                for image in executor.map(plot_frame, range(0, num_frames, 5)):\n",
    "                    writer.append_data(image)\n",
    "            \n",
    "        pbar.set_description(f'[{subject}_{action}_{cam_id}]')\n"
   ]
  },
  {
   "cell_type": "code",
   "execution_count": 3,
   "metadata": {},
   "outputs": [],
   "source": [
    "import matplotlib.pyplot as plt\n",
    "import numpy as np\n",
    "import imageio\n",
    "import concurrent.futures\n",
    "\n",
    "def plot_frame(i):\n",
    "    fig, ax = plt.subplots()\n",
    "    t = np.linspace(0, 2*np.pi, 100)\n",
    "    ax.plot(t, np.sin(t + i * 0.1))  # 예시로 sine 파형을 그리고 있음\n",
    "    ax.set_title(f'Frame {i}')\n",
    "    \n",
    "    # 이미지를 메모리에 저장\n",
    "    fig.canvas.draw()\n",
    "    image = np.frombuffer(fig.canvas.buffer_rgba(), dtype='uint8')\n",
    "    image = image.reshape(fig.canvas.get_width_height()[::-1] + (4,))\n",
    "    \n",
    "    plt.close(fig)  # 메모리 누수 방지\n",
    "    return image\n",
    "\n",
    "def create_video(num_frames, filename='output.mp4'):\n",
    "    with imageio.get_writer(filename, fps=30) as writer:\n",
    "        with concurrent.futures.ProcessPoolExecutor() as executor:\n",
    "            # 각 프레임을 병렬적으로 처리\n",
    "            for image in executor.map(plot_frame, range(num_frames)):\n",
    "                writer.append_data(image)\n",
    "\n",
    "if __name__ == '__main__':\n",
    "    create_video(100)  # 100 프레임짜리 비디오 생성\n"
   ]
  },
  {
   "cell_type": "code",
   "execution_count": 1,
   "metadata": {},
   "outputs": [
    {
     "data": {
      "text/plain": [
       "'/home/hrai/codes/MotionBERT/custom_codes/Canonical'"
      ]
     },
     "execution_count": 1,
     "metadata": {},
     "output_type": "execute_result"
    }
   ],
   "source": [
    "pwd"
   ]
  },
  {
   "cell_type": "code",
   "execution_count": 16,
   "metadata": {},
   "outputs": [
    {
     "name": "stderr",
     "output_type": "stream",
     "text": [
      "IMAGEIO FFMPEG_WRITER WARNING: input image is not divisible by macro_block_size=16, resizing from (1000, 1000) to (1008, 1008) to ensure video compatibility with most codecs and players. To prevent resizing, make your input image divisible by the macro_block_size or set the macro_block_size to 1 (risking incompatibility).\n"
     ]
    },
    {
     "name": "stderr",
     "output_type": "stream",
     "text": [
      "[swscaler @ 0x617cdc0] Warning: data is not aligned! This can lead to a speed loss\n",
      "IMAGEIO FFMPEG_WRITER WARNING: input image is not divisible by macro_block_size=16, resizing from (1000, 1000) to (1008, 1008) to ensure video compatibility with most codecs and players. To prevent resizing, make your input image divisible by the macro_block_size or set the macro_block_size to 1 (risking incompatibility).\n",
      "[swscaler @ 0x73addc0] Warning: data is not aligned! This can lead to a speed loss\n"
     ]
    }
   ],
   "source": [
    "batch_num = -1\n",
    "videowriter = imageio.get_writer('/home/hrai/codes/MotionBERT/custom_codes/Canonical/canonical_test{}.mp4'.format(batch_num), fps=30)\n",
    "for i in range(243):\n",
    "    img = get_2d_pose_image(batch_input_denormalized_with_canonical[batch_num, i], W=1000, H=1000)\n",
    "    cv2.putText(img, str(i), (10, 10), cv2.FONT_HERSHEY_SIMPLEX, 0.3, (0, 0, 255), 1, cv2.LINE_AA)\n",
    "    videowriter.append_data(img)\n",
    "videowriter.close()\n",
    "\n",
    "videowriter = imageio.get_writer('/home/hrai/codes/MotionBERT/custom_codes/Canonical/test{}.mp4'.format(batch_num), fps=30)\n",
    "for i in range(243):\n",
    "    img = get_2d_pose_image(batch_input_denormalized[batch_num, i], W=1000, H=1000)\n",
    "    cv2.putText(img, str(i), (10, 10), cv2.FONT_HERSHEY_SIMPLEX, 0.3, (0, 0, 255), 1, cv2.LINE_AA)\n",
    "    videowriter.append_data(img)\n",
    "videowriter.close()"
   ]
  },
  {
   "cell_type": "markdown",
   "metadata": {},
   "source": []
  }
 ],
 "metadata": {
  "kernelspec": {
   "display_name": "adaptpose",
   "language": "python",
   "name": "python3"
  },
  "language_info": {
   "codemirror_mode": {
    "name": "ipython",
    "version": 3
   },
   "file_extension": ".py",
   "mimetype": "text/x-python",
   "name": "python",
   "nbconvert_exporter": "python",
   "pygments_lexer": "ipython3",
   "version": "3.9.18"
  },
  "orig_nbformat": 4
 },
 "nbformat": 4,
 "nbformat_minor": 2
}
