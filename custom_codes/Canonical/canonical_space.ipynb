{
 "cells": [
  {
   "cell_type": "code",
   "execution_count": 2,
   "metadata": {},
   "outputs": [],
   "source": [
    "%load_ext autoreload\n",
    "%autoreload 2\n",
    "%matplotlib widget\n",
    "\n",
    "import os\n",
    "os.chdir('/home/hrai/codes/hpe_library')\n",
    "from lib_import import *\n",
    "from my_utils import *\n",
    "\n",
    "# 주요 디렉토리 경로\n",
    "user = getpass.getuser()\n",
    "alphapose_root = '/home/{}/codes/AlphaPose'.format(user)\n",
    "motionbert_root = '/home/{}/codes/MotionBERT'.format(user)\n",
    "kookmin_root = '/home/{}/Datasets/HAAI/국민대데이터/data'.format(user)\n",
    "ap_kookmin_result_root = alphapose_root + \"/examples/kookmin_result_5actions\"\n",
    "\n",
    "assert os.path.isdir(alphapose_root), \"AlphaPose root directory is not exist\"\n",
    "assert os.path.isdir(motionbert_root), \"MotionBERT root directory is not exist\"\n",
    "#assert os.path.isdir(kookmin_root), \"Kookmin root directory is not exist\"\n",
    "#assert os.path.isdir(ap_kookmin_result_root), \"AlphaPose Kookmin result directory is not exist\"\n",
    "\n",
    "os.chdir(motionbert_root)\n",
    "from lib.utils.tools import * # get_config\n",
    "from lib.utils.learning import * # load_backbone\n",
    "from lib.model.loss import *\n",
    "from lib.data.datareader_kookmin import DataReaderKOOKMIN\n",
    "from lib.data.datareader_h36m import DataReaderH36M\n",
    "from lib.data.dataset_motion_3d import MotionDataset3D\n",
    "from lib.model.DHDSTformer import DHDSTformer, DHDSTformer2, DHDSTformer3, DHDSTformer_limb, DHDSTformer_torso\n",
    "\n",
    "def parse_args(target):\n",
    "    parser = argparse.ArgumentParser()\n",
    "    parser.add_argument(\"--config\", type=str, default=\"configs/pose3d/DHDST_kookmin_baseline.yaml\", help=\"Path to the config file.\")\n",
    "    parser.add_argument('-c', '--checkpoint', default='checkpoint', type=str, metavar='PATH', help='checkpoint directory')\n",
    "    parser.add_argument('-p', '--pretrained', default='checkpoint', type=str, metavar='PATH', help='pretrained checkpoint directory')\n",
    "    parser.add_argument('-r', '--resume', default='', type=str, metavar='FILENAME', help='checkpoint to resume (file name)')\n",
    "    parser.add_argument('-e', '--evaluate', default='checkpoint/pose3d/MB_ft_h36m/best_epoch.bin', type=str, metavar='FILENAME', help='checkpoint to evaluate (file name)')\n",
    "    parser.add_argument('-ms', '--selection', default='best_epoch.bin', type=str, metavar='FILENAME', help='checkpoint to finetune (file name)')\n",
    "    parser.add_argument('-sd', '--seed', default=0, type=int, help='random seed')\n",
    "    parser.add_argument('-g', '--gpu', default='0', type=str, help='GPU id')\n",
    "    #opts = parser.parse_args([])\n",
    "    opts = parser.parse_args([\n",
    "        '--config', 'configs/pose3d/{}.yaml'.format(target),\n",
    "        '--evaluate', 'checkpoint/pose3d/{}/best_epoch.bin'.format(target)])\n",
    "    return opts\n",
    "\n",
    "def get_h36m_camera_info(subject, action, camera_id):\n",
    "    cam_info = h36m_3d_world._data[subject][action]['cameras']\n",
    "    cam_param = get_cam_param(cam_info, subject, h36m_cam_param)\n",
    "    calibration_matrix = np.array(cam_param[camera_id]['int']['calibration_matrix'])\n",
    "    R = np.array(cam_param[camera_id]['ext']['R'])\n",
    "    t = np.array(cam_param[camera_id]['ext']['t'])/1000\n",
    "    H = cam_param[camera_id]['H']\n",
    "    W = cam_param[camera_id]['W']\n",
    "    camera_param = {\n",
    "        'intrinsic': calibration_matrix,\n",
    "        'extrinsic': np.concatenate([R, t.reshape(3, 1)], axis=1),\n",
    "    }\n",
    "    fx = camera_param['intrinsic'][0, 0]  \n",
    "    fy = camera_param['intrinsic'][1, 1]  \n",
    "    cx = camera_param['intrinsic'][0, 2]  \n",
    "    cy = camera_param['intrinsic'][1, 2] \n",
    "    return calibration_matrix, camera_param, H, W, fx, fy, cx, cy\n",
    "\n",
    "def data_processing(pose3d_list, camera_param, fx, fy, cx, cy, length=243):\n",
    "    pose_2d_list = []\n",
    "    cam_3d_list = []\n",
    "    img_3d_list = []\n",
    "    img_3d_hat_list = []\n",
    "    img_25d_list = []\n",
    "    scale_list = []\n",
    "    for frame_num in range(len(pose3d_list[:length])):\n",
    "        world_3d = np.array(pose3d_list[frame_num])\n",
    "        # world to camera\n",
    "        pos = copy.deepcopy(world_3d)\n",
    "        cam_3d = World2CameraCoordinate(pos, camera_param['extrinsic']) * 1000 # World coordinate -> Camera coordinate\n",
    "        cam_3d_hat = get_rootrel_pose(cam_3d)\n",
    "\n",
    "        # camera to image\n",
    "        box = infer_box(cam_3d, {'fx': fx, 'fy': fy, 'cx': cx, 'cy': cy}, 0)\n",
    "        img_2d, img_3d = camera_to_image_frame(cam_3d, box, {'fx': fx, 'fy': fy, 'cx': cx, 'cy': cy}, 0) \n",
    "        img_3d_hat = get_rootrel_pose(img_3d) # (17, 3) # root-relative pose \n",
    "        # 2.5d factor\n",
    "        pred_lambda, losses = optimize_scaling_factor(img_3d_hat, cam_3d_hat, stop_tolerance=0.0001) # x,y,z 사용\n",
    "        # joint 2.5d image\n",
    "        img_25d = img_3d * pred_lambda\n",
    "\n",
    "        pose_2d_list.append(img_2d)\n",
    "        cam_3d_list.append(cam_3d)\n",
    "        img_3d_list.append(img_3d)\n",
    "        img_3d_hat_list.append(img_3d_hat)\n",
    "        img_25d_list.append(img_25d)\n",
    "        scale_list.append(pred_lambda)\n",
    "\n",
    "    pose_2d_list = np.array(pose_2d_list)\n",
    "    pose_2d_list = np.append(pose_2d_list, np.ones((pose_2d_list.shape[0], pose_2d_list.shape[1], 1)), axis=2)\n",
    "    cam_3d_list = np.array(cam_3d_list)\n",
    "    img_3d_list = np.array(img_3d_list)\n",
    "    img_3d_hat_list = np.array(img_3d_hat_list)\n",
    "    img_25d_list = np.array(img_25d_list)\n",
    "    scale_list = np.array(scale_list)\n",
    "\n",
    "    return pose_2d_list, cam_3d_list, img_3d_list, img_3d_hat_list, img_25d_list, scale_list\n",
    "\n",
    "def get_custom_camera_info(camera):\n",
    "    calibration_matrix = camera.intrinsic\n",
    "    R = camera.R\n",
    "    t = camera.t/1000\n",
    "    H = camera.IMAGE_HEIGHT\n",
    "    W = camera.IMAGE_WIDTH\n",
    "    camera_param = {\n",
    "        'intrinsic': calibration_matrix,\n",
    "        'extrinsic': np.concatenate([R, t.reshape(3, 1)], axis=1),\n",
    "    }\n",
    "    fx = camera_param['intrinsic'][0, 0]  \n",
    "    fy = camera_param['intrinsic'][1, 1]  \n",
    "    cx = camera_param['intrinsic'][0, 2]  \n",
    "    cy = camera_param['intrinsic'][1, 2] \n",
    "    return calibration_matrix, camera_param, H, W, fx, fy, cx, cy\n",
    "\n",
    "def mpjpe(predicted, target):\n",
    "    \"\"\"\n",
    "    Mean per-joint position error (i.e. mean Euclidean distance),\n",
    "    often referred to as \"Protocol #1\" in many papers.\n",
    "    \"\"\"\n",
    "    assert predicted.shape == target.shape\n",
    "    return np.mean(np.linalg.norm(predicted - target, axis=len(target.shape)-1), axis=1)"
   ]
  },
  {
   "cell_type": "markdown",
   "metadata": {},
   "source": [
    "#### Load H36M Dataset"
   ]
  },
  {
   "cell_type": "code",
   "execution_count": 3,
   "metadata": {},
   "outputs": [
    {
     "name": "stdout",
     "output_type": "stream",
     "text": [
      "==> Loading 3D data wrt World CS...\n"
     ]
    }
   ],
   "source": [
    "h36m_3d_world, h36m_cam_param = load_h36m()"
   ]
  },
  {
   "cell_type": "code",
   "execution_count": 10,
   "metadata": {},
   "outputs": [],
   "source": [
    "subject = 'S5'\n",
    "action = 'Walking 1'\n",
    "camera_id = '54138969'\n",
    "length = 1000\n",
    "target_video = f'{subject}_{action}_{camera_id}'\n",
    "\n",
    "pose3d_list = h36m_3d_world._data[subject][action]['positions'].copy()\n",
    "calibration_matrix, camera_param, H, W, fx, fy, cx, cy = get_h36m_camera_info(subject, action, camera_id)\n",
    "\n",
    "pose_2d_list, cam_3d_list, img_3d_list, img_3d_hat_list, img_25d_list, scale_list = data_processing(pose3d_list.copy(), camera_param, fx, fy, cx, cy, length=length)\n",
    "pose_2d_list = normalize_input(pose_2d_list, 1000, 1000)\n",
    "pose_2d_list = torch.tensor(pose_2d_list).cuda().unsqueeze(0)\n",
    "cam_3d_list = torch.tensor(cam_3d_list).cuda().unsqueeze(0)\n",
    "img_3d_list = torch.tensor(img_3d_list).cuda().unsqueeze(0)\n",
    "img_3d_hat_list = torch.tensor(img_3d_hat_list).cuda().unsqueeze(0)\n",
    "img_25d_list = torch.tensor(img_25d_list).cuda().unsqueeze(0)"
   ]
  },
  {
   "cell_type": "code",
   "execution_count": 11,
   "metadata": {},
   "outputs": [
    {
     "data": {
      "text/plain": [
       "tensor([[[[ 2.8979e-02, -9.7389e-02,  2.0000e-03],\n",
       "          [ 8.1846e-02, -1.0281e-01,  2.0000e-03],\n",
       "          [ 6.5027e-02,  9.4037e-02,  2.0000e-03],\n",
       "          ...,\n",
       "          [ 1.0494e-01, -2.9620e-01,  2.0000e-03],\n",
       "          [ 2.1428e-01, -2.6641e-01,  2.0000e-03],\n",
       "          [ 3.0799e-01, -2.7130e-01,  2.0000e-03]],\n",
       "\n",
       "         [[ 2.8982e-02, -9.7403e-02,  2.0000e-03],\n",
       "          [ 8.1821e-02, -1.0282e-01,  2.0000e-03],\n",
       "          [ 6.5011e-02,  9.4028e-02,  2.0000e-03],\n",
       "          ...,\n",
       "          [ 1.0494e-01, -2.9625e-01,  2.0000e-03],\n",
       "          [ 2.1417e-01, -2.6665e-01,  2.0000e-03],\n",
       "          [ 3.0760e-01, -2.7159e-01,  2.0000e-03]],\n",
       "\n",
       "         [[ 2.9003e-02, -9.7417e-02,  2.0000e-03],\n",
       "          [ 8.1815e-02, -1.0283e-01,  2.0000e-03],\n",
       "          [ 6.4988e-02,  9.4016e-02,  2.0000e-03],\n",
       "          ...,\n",
       "          [ 1.0496e-01, -2.9635e-01,  2.0000e-03],\n",
       "          [ 2.1407e-01, -2.6690e-01,  2.0000e-03],\n",
       "          [ 3.0720e-01, -2.7181e-01,  2.0000e-03]],\n",
       "\n",
       "         ...,\n",
       "\n",
       "         [[ 3.4537e-01, -1.8271e-04,  2.0000e-03],\n",
       "          [ 4.1647e-01, -8.4762e-03,  2.0000e-03],\n",
       "          [ 3.8734e-01,  2.2779e-01,  2.0000e-03],\n",
       "          ...,\n",
       "          [ 4.2619e-01, -2.3488e-01,  2.0000e-03],\n",
       "          [ 4.7276e-01, -8.0498e-02,  2.0000e-03],\n",
       "          [ 4.4977e-01,  1.0649e-02,  2.0000e-03]],\n",
       "\n",
       "         [[ 3.4867e-01, -1.5547e-03,  2.0000e-03],\n",
       "          [ 4.1964e-01, -9.3582e-03,  2.0000e-03],\n",
       "          [ 3.8860e-01,  2.2752e-01,  2.0000e-03],\n",
       "          ...,\n",
       "          [ 4.2993e-01, -2.3581e-01,  2.0000e-03],\n",
       "          [ 4.7691e-01, -8.1965e-02,  2.0000e-03],\n",
       "          [ 4.5211e-01,  9.8301e-03,  2.0000e-03]],\n",
       "\n",
       "         [[ 3.5168e-01, -2.6777e-03,  2.0000e-03],\n",
       "          [ 4.2254e-01, -9.8837e-03,  2.0000e-03],\n",
       "          [ 3.8968e-01,  2.2741e-01,  2.0000e-03],\n",
       "          ...,\n",
       "          [ 4.3220e-01, -2.3701e-01,  2.0000e-03],\n",
       "          [ 4.8032e-01, -8.4023e-02,  2.0000e-03],\n",
       "          [ 4.5431e-01,  9.2085e-03,  2.0000e-03]]]], device='cuda:0',\n",
       "       dtype=torch.float64)"
      ]
     },
     "execution_count": 11,
     "metadata": {},
     "output_type": "execute_result"
    }
   ],
   "source": [
    "pose_2d_list"
   ]
  },
  {
   "cell_type": "code",
   "execution_count": 53,
   "metadata": {},
   "outputs": [],
   "source": [
    "scaled_by_frobenius = batch_input.clone()\n",
    "scaled_by_frobenius[:, :, :, :2] = (scaled_by_frobenius[:, :, :, :2] + torch.tensor([1, 1]).cuda()) * 1000 / 2\n",
    "#scaled_by_frobenius[:, :, :, 2:] = scaled_by_frobenius[:, :, :, 2:] * 1000 / 2\n",
    "denormalized = scaled_by_frobenius.clone()\n",
    "scaled_by_frobenius = scaled_by_frobenius - scaled_by_frobenius[:, :, 0:1]\n",
    "scale = torch.norm(scaled_by_frobenius.reshape(-1, 34), dim=1, keepdim=True)\n",
    "scaled_by_frobenius = (scaled_by_frobenius.reshape(-1, 34) / scale).reshape(1, -1, 17, 2)"
   ]
  },
  {
   "cell_type": "code",
   "execution_count": 54,
   "metadata": {},
   "outputs": [
    {
     "data": {
      "image/png": "[encoded data removed]",
      "text/plain": [
       "<Figure size 640x480 with 2 Axes>"
      ]
     },
     "metadata": {},
     "output_type": "display_data"
    }
   ],
   "source": [
    "fig = plt.figure(10)\n",
    "fig.clear()\n",
    "ax = axes_2d(fig, loc=121, W=1000, H=1000)\n",
    "ax2 = axes_2d(fig, loc=122, normalize=True)\n",
    "draw_2d_pose(ax, denormalized[0, 0])\n",
    "draw_2d_pose(ax2, scaled_by_frobenius[0, 0], normalize=True)"
   ]
  },
  {
   "cell_type": "code",
   "execution_count": 28,
   "metadata": {},
   "outputs": [],
   "source": [
    "canonical_input2 = scaled_by_frobenius.clone().cpu().detach().numpy().reshape(-1, 34)\n",
    "scale = np.linalg.norm(canonical_input2, ord=2, axis=1, keepdims=True)\n",
    "canonical_input2 /= scale\n",
    "canonical_input2 = canonical_input2.reshape(1, -1, 17, 2)"
   ]
  },
  {
   "cell_type": "code",
   "execution_count": 58,
   "metadata": {},
   "outputs": [],
   "source": [
    "batch_input = pose_2d_list.clone()[:, :, :, :2]\n",
    "# root centered\n",
    "root_centered = batch_input.clone() - batch_input[:, :, 0:1]\n",
    "# scaled by euclidean\n",
    "scaled_by_frobenius = batch_input.clone()\n",
    "scaled_by_frobenius_denormalized = batch_input.clone()\n",
    "scaled_by_frobenius_denormalized[:, :, :, :2] = (scaled_by_frobenius_denormalized[:, :, :, :2] + torch.tensor([1, 1]).cuda()) * 1000 / 2\n",
    "scaled_by_frobenius = scaled_by_frobenius - scaled_by_frobenius[:, :, 0:1]\n",
    "scaled_by_frobenius_denormalized = scaled_by_frobenius - scaled_by_frobenius[:, :, 0:1]\n",
    "scale = torch.norm(scaled_by_frobenius.reshape(-1, 34), dim=1, keepdim=True)\n",
    "scale_denormalized = torch.norm(scaled_by_frobenius_denormalized.reshape(-1, 34), dim=1, keepdim=True)\n",
    "scaled_by_frobenius = (scaled_by_frobenius.reshape(-1, 34) / scale).reshape(1, -1, 17, 2)\n",
    "scaled_by_frobenius_denormalized = (scaled_by_frobenius_denormalized.reshape(-1, 34) / scale).reshape(1, -1, 17, 2)\n",
    "# scaled by each height\n",
    "batch_height = root_centered[:, :, :, 1].max(dim=-1).values - root_centered[:, :, :, 1].min(dim=-1).values\n",
    "batch_ratio = torch.ones_like(batch_height) / batch_height\n",
    "scaled_by_each_height = root_centered.clone() * batch_ratio.unsqueeze(-1).unsqueeze(-1)\n",
    "# scaled by first height\n",
    "first_height = batch_height.max()\n",
    "ratio = torch.ones_like(first_height) / first_height\n",
    "scaled_by_fixed_height = root_centered.clone() * ratio.unsqueeze(-1).unsqueeze(-1)\n",
    "\n",
    "original_input = batch_input.cpu().detach().numpy()\n",
    "canonical_input1 = root_centered.clone().cpu().detach().numpy()\n",
    "canonical_input2 = scaled_by_frobenius.clone().cpu().detach().numpy()\n",
    "canonical_input3 = scaled_by_each_height.clone().cpu().detach().numpy()\n",
    "canonical_input4 = scaled_by_fixed_height.clone().cpu().detach().numpy()\n",
    "canonical_input5 = scaled_by_frobenius_denormalized.clone().cpu().detach().numpy()"
   ]
  },
  {
   "cell_type": "code",
   "execution_count": 75,
   "metadata": {},
   "outputs": [],
   "source": [
    "# target = 'MB_ft_h36m'\n",
    "\n",
    "# opts = parse_args(target=target)\n",
    "# args = get_config(opts.config)\n",
    "# print(opts.evaluate)\n",
    "\n",
    "# if 'DHDST2' in opts.evaluate:\n",
    "#     model_pos = DHDSTformer2(chk_filename='', args=args)\n",
    "# elif 'DHDST_torso' in opts.evaluate:\n",
    "#     model_pos = DHDSTformer_torso(chk_filename='', args=args)\n",
    "# elif 'DHDST_limb' in opts.evaluate:\n",
    "#     model_pos = DHDSTformer_limb(chk_filename='', args=args)\n",
    "# elif 'MB' in opts.evaluate:\n",
    "#     model_pos = load_backbone(args)\n",
    "    \n",
    "# model_pos = nn.DataParallel(model_pos)\n",
    "# model_pos = model_pos.cuda()\n",
    "# checkpoint = torch.load(opts.evaluate, map_location=lambda storage, loc: storage)\n",
    "# model_pos.load_state_dict(checkpoint['model_pos'], strict=True)\n",
    "# model_pos = model_pos.eval()\n",
    "\n",
    "# args.dt_file = 'h36m_sh_conf_cam_source_final.pkl'\n",
    "# args.subset_list = ['H36M-SH']\n",
    "# datareader = DataReaderH36M(n_frames=args.clip_len, sample_stride=args.sample_stride, data_stride_train=args.data_stride, data_stride_test=args.clip_len, dt_root = 'data/motion3d', dt_file=args.dt_file)\n",
    "# testloader_params = {\n",
    "#         'batch_size': args.batch_size,\n",
    "#         'shuffle': False,\n",
    "#         'num_workers': 12,\n",
    "#         'pin_memory': True,\n",
    "#         'prefetch_factor': 4,\n",
    "#         'persistent_workers': True\n",
    "# }\n",
    "# test_dataset = MotionDataset3D(args, args.subset_list, 'test')\n",
    "# test_loader = DataLoader(test_dataset, **testloader_params)\n"
   ]
  },
  {
   "cell_type": "code",
   "execution_count": 76,
   "metadata": {},
   "outputs": [],
   "source": [
    "# with torch.no_grad():\n",
    "#     for batch_input, batch_gt in tqdm(test_loader):\n",
    "#         if torch.cuda.is_available():\n",
    "#             batch_input = batch_input.cuda()[:, :, :, :2]\n",
    "#             batch_gt = batch_gt.cuda()\n",
    "#         break"
   ]
  },
  {
   "cell_type": "code",
   "execution_count": 96,
   "metadata": {},
   "outputs": [
    {
     "data": {
      "image/png": "[encoded data removed]",
      "text/plain": [
       "<Figure size 1500x500 with 4 Axes>"
      ]
     },
     "metadata": {},
     "output_type": "display_data"
    }
   ],
   "source": [
    "# visualize\n",
    "batch_num = 0\n",
    "frame_num = 150\n",
    "\n",
    "%matplotlib inline\n",
    "fig = plt.figure(0, figsize=(15, 5))\n",
    "fig.clear()\n",
    "axd = fig.subplot_mosaic(\n",
    "    \"\"\"\n",
    "    ABCD\n",
    "    \"\"\",\n",
    "    #per_subplot_kw={('A'): {'projection': '3d'}}\n",
    ")\n",
    "\n",
    "axA = axes_2d(ax=axd['A'], normalize=True, show_axis=False)\n",
    "axB = axes_2d(ax=axd['B'], normalize=True, show_axis=False)\n",
    "axC = axes_2d(ax=axd['C'], normalize=True, show_axis=False)\n",
    "axD = axes_2d(ax=axd['D'], normalize=True, show_axis=False)\n",
    "#axE = axes_2d(ax=axd['E'], normalize=True, show_axis=False)\n",
    "\n",
    "axA.set_title('Original')\n",
    "axB.set_title('Root centered')\n",
    "axC.set_title('Root centered + \\n scaled (Euclidean norm)')\n",
    "axD.set_title('Root centered + \\n scaled (fixed height)')\n",
    "\n",
    "draw_2d_pose(axA, original_input[batch_num, frame_num], normalize=True)\n",
    "draw_2d_pose(axB, canonical_input1[batch_num, frame_num], normalize=True)\n",
    "draw_2d_pose(axC, canonical_input2[batch_num, frame_num], normalize=True)\n",
    "draw_2d_pose(axD, canonical_input3[batch_num, frame_num], normalize=True)\n",
    "plt.show()"
   ]
  },
  {
   "cell_type": "code",
   "execution_count": 59,
   "metadata": {},
   "outputs": [
    {
     "name": "stderr",
     "output_type": "stream",
     "text": [
      "  0%|          | 0/1000 [00:00<?, ?it/s]"
     ]
    },
    {
     "name": "stderr",
     "output_type": "stream",
     "text": [
      "IMAGEIO FFMPEG_WRITER WARNING: input image is not divisible by macro_block_size=16, resizing from (1500, 500) to (1504, 512) to ensure video compatibility with most codecs and players. To prevent resizing, make your input image divisible by the macro_block_size or set the macro_block_size to 1 (risking incompatibility).\n",
      "[swscaler @ 0x5bde900] Warning: data is not aligned! This can lead to a speed loss\n",
      "100%|██████████| 1000/1000 [00:40<00:00, 24.60it/s]\n"
     ]
    },
    {
     "data": {
      "image/png": "[encoded data removed]",
      "text/plain": [
       "<Figure size 1500x500 with 5 Axes>"
      ]
     },
     "metadata": {},
     "output_type": "display_data"
    }
   ],
   "source": [
    "batch_num = 0\n",
    "\n",
    "%matplotlib inline\n",
    "fig = plt.figure(0, figsize=(15, 5))\n",
    "fig.clear()\n",
    "axd = fig.subplot_mosaic(\n",
    "    \"\"\"\n",
    "    ABCDE\n",
    "    \"\"\",\n",
    "    #per_subplot_kw={('A'): {'projection': '3d'}}\n",
    ")\n",
    "\n",
    "axA = axes_2d(ax=axd['A'], normalize=True, show_axis=False)\n",
    "axB = axes_2d(ax=axd['B'], normalize=True, show_axis=False)\n",
    "axC = axes_2d(ax=axd['C'], normalize=True, show_axis=False)\n",
    "axD = axes_2d(ax=axd['D'], normalize=True, show_axis=False)\n",
    "axE = axes_2d(ax=axd['E'], normalize=True, show_axis=False)\n",
    "\n",
    "axA.set_title('Original')\n",
    "axB.set_title('Root centered')\n",
    "axC.set_title('Root centered + \\n scaled (Euclidean norm)')\n",
    "axD.set_title('Root centered + \\n scaled (each frame height)')\n",
    "axE.set_title('Root centered + \\n scaled (first height)')\n",
    "\n",
    "videowriter = imageio.get_writer(f'/home/hrai/codes/MotionBERT/custom_codes/Canonical/compare_input_type_{subject}_{action}_{camera_id}.mp4', fps=30)\n",
    "for frame_num in tqdm(range(length)):\n",
    "    clear_axes([axA, axB, axC, axD, axE])\n",
    "    draw_2d_pose(axA, original_input[batch_num, frame_num], normalize=True)\n",
    "    draw_2d_pose(axB, canonical_input1[batch_num, frame_num], normalize=True)\n",
    "    draw_2d_pose(axC, canonical_input2[batch_num, frame_num], normalize=True)\n",
    "    draw_2d_pose(axC, canonical_input5[batch_num, frame_num], normalize=True)\n",
    "    draw_2d_pose(axD, canonical_input3[batch_num, frame_num], normalize=True)\n",
    "    draw_2d_pose(axE, canonical_input4[batch_num, frame_num], normalize=True)\n",
    "    \n",
    "    canvas = FigureCanvas(fig)\n",
    "    canvas.draw()\n",
    "    image_from_plot = np.array(canvas.renderer._renderer)\n",
    "    image_from_plot = cv2.cvtColor(image_from_plot, cv2.COLOR_RGB2BGR)       \n",
    "    videowriter.append_data(image_from_plot)\n",
    "videowriter.close()"
   ]
  },
  {
   "cell_type": "code",
   "execution_count": 6,
   "metadata": {},
   "outputs": [
    {
     "name": "stdout",
     "output_type": "stream",
     "text": [
      "Waiting 1\n"
     ]
    },
    {
     "name": "stderr",
     "output_type": "stream",
     "text": [
      "  0%|          | 0/1440 [00:00<?, ?it/s]IMAGEIO FFMPEG_WRITER WARNING: input image is not divisible by macro_block_size=16, resizing from (1500, 500) to (1504, 512) to ensure video compatibility with most codecs and players. To prevent resizing, make your input image divisible by the macro_block_size or set the macro_block_size to 1 (risking incompatibility).\n",
      "[swscaler @ 0x6a47900] Warning: data is not aligned! This can lead to a speed loss\n",
      "100%|██████████| 1440/1440 [00:46<00:00, 31.20it/s]\n"
     ]
    },
    {
     "name": "stdout",
     "output_type": "stream",
     "text": [
      "Photo 1\n"
     ]
    },
    {
     "name": "stderr",
     "output_type": "stream",
     "text": [
      "  0%|          | 0/1074 [00:00<?, ?it/s]IMAGEIO FFMPEG_WRITER WARNING: input image is not divisible by macro_block_size=16, resizing from (1500, 500) to (1504, 512) to ensure video compatibility with most codecs and players. To prevent resizing, make your input image divisible by the macro_block_size or set the macro_block_size to 1 (risking incompatibility).\n",
      "[swscaler @ 0x55db900] Warning: data is not aligned! This can lead to a speed loss\n",
      "100%|██████████| 1074/1074 [00:34<00:00, 31.15it/s]\n"
     ]
    },
    {
     "name": "stdout",
     "output_type": "stream",
     "text": [
      "Smoking\n"
     ]
    },
    {
     "name": "stderr",
     "output_type": "stream",
     "text": [
      "  0%|          | 0/2478 [00:00<?, ?it/s]IMAGEIO FFMPEG_WRITER WARNING: input image is not divisible by macro_block_size=16, resizing from (1500, 500) to (1504, 512) to ensure video compatibility with most codecs and players. To prevent resizing, make your input image divisible by the macro_block_size or set the macro_block_size to 1 (risking incompatibility).\n",
      "[swscaler @ 0x691f900] Warning: data is not aligned! This can lead to a speed loss\n",
      "100%|██████████| 2478/2478 [01:25<00:00, 28.87it/s]\n"
     ]
    },
    {
     "name": "stdout",
     "output_type": "stream",
     "text": [
      "Eating 2\n"
     ]
    },
    {
     "name": "stderr",
     "output_type": "stream",
     "text": [
      "  0%|          | 0/2357 [00:00<?, ?it/s]IMAGEIO FFMPEG_WRITER WARNING: input image is not divisible by macro_block_size=16, resizing from (1500, 500) to (1504, 512) to ensure video compatibility with most codecs and players. To prevent resizing, make your input image divisible by the macro_block_size or set the macro_block_size to 1 (risking incompatibility).\n",
      "[swscaler @ 0x6326900] Warning: data is not aligned! This can lead to a speed loss\n",
      "100%|██████████| 2357/2357 [01:18<00:00, 30.21it/s]\n"
     ]
    },
    {
     "name": "stdout",
     "output_type": "stream",
     "text": [
      "WalkTogether 1\n"
     ]
    },
    {
     "name": "stderr",
     "output_type": "stream",
     "text": [
      "  0%|          | 0/1275 [00:00<?, ?it/s]IMAGEIO FFMPEG_WRITER WARNING: input image is not divisible by macro_block_size=16, resizing from (1500, 500) to (1504, 512) to ensure video compatibility with most codecs and players. To prevent resizing, make your input image divisible by the macro_block_size or set the macro_block_size to 1 (risking incompatibility).\n",
      "[swscaler @ 0x5bcf900] Warning: data is not aligned! This can lead to a speed loss\n",
      "100%|██████████| 1275/1275 [00:42<00:00, 30.04it/s]\n"
     ]
    },
    {
     "name": "stdout",
     "output_type": "stream",
     "text": [
      "Greeting 1\n"
     ]
    },
    {
     "name": "stderr",
     "output_type": "stream",
     "text": [
      "  0%|          | 0/1265 [00:00<?, ?it/s]IMAGEIO FFMPEG_WRITER WARNING: input image is not divisible by macro_block_size=16, resizing from (1500, 500) to (1504, 512) to ensure video compatibility with most codecs and players. To prevent resizing, make your input image divisible by the macro_block_size or set the macro_block_size to 1 (risking incompatibility).\n",
      "[swscaler @ 0x6eaf900] Warning: data is not aligned! This can lead to a speed loss\n",
      "100%|██████████| 1265/1265 [00:42<00:00, 30.06it/s]\n"
     ]
    },
    {
     "name": "stdout",
     "output_type": "stream",
     "text": [
      "Phoning\n"
     ]
    },
    {
     "name": "stderr",
     "output_type": "stream",
     "text": [
      "  0%|          | 0/2266 [00:00<?, ?it/s]IMAGEIO FFMPEG_WRITER WARNING: input image is not divisible by macro_block_size=16, resizing from (1500, 500) to (1504, 512) to ensure video compatibility with most codecs and players. To prevent resizing, make your input image divisible by the macro_block_size or set the macro_block_size to 1 (risking incompatibility).\n",
      "[swscaler @ 0x7437900] Warning: data is not aligned! This can lead to a speed loss\n",
      "100%|██████████| 2266/2266 [01:13<00:00, 30.73it/s]\n"
     ]
    },
    {
     "name": "stdout",
     "output_type": "stream",
     "text": [
      "Phoning 1\n"
     ]
    },
    {
     "name": "stderr",
     "output_type": "stream",
     "text": [
      "  0%|          | 0/2636 [00:00<?, ?it/s]IMAGEIO FFMPEG_WRITER WARNING: input image is not divisible by macro_block_size=16, resizing from (1500, 500) to (1504, 512) to ensure video compatibility with most codecs and players. To prevent resizing, make your input image divisible by the macro_block_size or set the macro_block_size to 1 (risking incompatibility).\n",
      "[swscaler @ 0x622a900] Warning: data is not aligned! This can lead to a speed loss\n",
      "100%|██████████| 2636/2636 [01:24<00:00, 31.08it/s]\n"
     ]
    },
    {
     "name": "stdout",
     "output_type": "stream",
     "text": [
      "Smoking 1\n"
     ]
    },
    {
     "name": "stderr",
     "output_type": "stream",
     "text": [
      "  0%|          | 0/2611 [00:00<?, ?it/s]IMAGEIO FFMPEG_WRITER WARNING: input image is not divisible by macro_block_size=16, resizing from (1500, 500) to (1504, 512) to ensure video compatibility with most codecs and players. To prevent resizing, make your input image divisible by the macro_block_size or set the macro_block_size to 1 (risking incompatibility).\n",
      "[swscaler @ 0x6fe1900] Warning: data is not aligned! This can lead to a speed loss\n",
      "100%|██████████| 2611/2611 [01:25<00:00, 30.65it/s]\n"
     ]
    },
    {
     "name": "stdout",
     "output_type": "stream",
     "text": [
      "Discussion 1\n"
     ]
    },
    {
     "name": "stderr",
     "output_type": "stream",
     "text": [
      "  0%|          | 0/3805 [00:00<?, ?it/s]IMAGEIO FFMPEG_WRITER WARNING: input image is not divisible by macro_block_size=16, resizing from (1500, 500) to (1504, 512) to ensure video compatibility with most codecs and players. To prevent resizing, make your input image divisible by the macro_block_size or set the macro_block_size to 1 (risking incompatibility).\n",
      "[swscaler @ 0x6f72900] Warning: data is not aligned! This can lead to a speed loss\n",
      "100%|██████████| 3805/3805 [02:05<00:00, 30.38it/s]\n"
     ]
    },
    {
     "name": "stdout",
     "output_type": "stream",
     "text": [
      "WalkTogether\n"
     ]
    },
    {
     "name": "stderr",
     "output_type": "stream",
     "text": [
      "  0%|          | 0/1231 [00:00<?, ?it/s]IMAGEIO FFMPEG_WRITER WARNING: input image is not divisible by macro_block_size=16, resizing from (1500, 500) to (1504, 512) to ensure video compatibility with most codecs and players. To prevent resizing, make your input image divisible by the macro_block_size or set the macro_block_size to 1 (risking incompatibility).\n",
      "[swscaler @ 0x6d6a900] Warning: data is not aligned! This can lead to a speed loss\n",
      "100%|██████████| 1231/1231 [00:39<00:00, 31.16it/s]\n"
     ]
    },
    {
     "name": "stdout",
     "output_type": "stream",
     "text": [
      "Sitting 1\n"
     ]
    },
    {
     "name": "stderr",
     "output_type": "stream",
     "text": [
      "  0%|          | 0/3304 [00:00<?, ?it/s]IMAGEIO FFMPEG_WRITER WARNING: input image is not divisible by macro_block_size=16, resizing from (1500, 500) to (1504, 512) to ensure video compatibility with most codecs and players. To prevent resizing, make your input image divisible by the macro_block_size or set the macro_block_size to 1 (risking incompatibility).\n",
      "[swscaler @ 0x67bc900] Warning: data is not aligned! This can lead to a speed loss\n",
      "100%|██████████| 3304/3304 [01:48<00:00, 30.43it/s]\n"
     ]
    },
    {
     "name": "stdout",
     "output_type": "stream",
     "text": [
      "SittingDown\n"
     ]
    },
    {
     "name": "stderr",
     "output_type": "stream",
     "text": [
      "  0%|          | 0/2742 [00:00<?, ?it/s]IMAGEIO FFMPEG_WRITER WARNING: input image is not divisible by macro_block_size=16, resizing from (1500, 500) to (1504, 512) to ensure video compatibility with most codecs and players. To prevent resizing, make your input image divisible by the macro_block_size or set the macro_block_size to 1 (risking incompatibility).\n",
      "  0%|          | 1/2742 [00:00<06:23,  7.14it/s][swscaler @ 0x575d900] Warning: data is not aligned! This can lead to a speed loss\n",
      "100%|██████████| 2742/2742 [01:30<00:00, 30.38it/s]\n"
     ]
    },
    {
     "name": "stdout",
     "output_type": "stream",
     "text": [
      "Directions\n"
     ]
    },
    {
     "name": "stderr",
     "output_type": "stream",
     "text": [
      "  0%|          | 0/1612 [00:00<?, ?it/s]IMAGEIO FFMPEG_WRITER WARNING: input image is not divisible by macro_block_size=16, resizing from (1500, 500) to (1504, 512) to ensure video compatibility with most codecs and players. To prevent resizing, make your input image divisible by the macro_block_size or set the macro_block_size to 1 (risking incompatibility).\n",
      "[swscaler @ 0x5ff8900] Warning: data is not aligned! This can lead to a speed loss\n",
      "100%|██████████| 1612/1612 [00:53<00:00, 30.31it/s]\n"
     ]
    },
    {
     "name": "stdout",
     "output_type": "stream",
     "text": [
      "Directions 1\n"
     ]
    },
    {
     "name": "stderr",
     "output_type": "stream",
     "text": [
      "  0%|          | 0/1383 [00:00<?, ?it/s]IMAGEIO FFMPEG_WRITER WARNING: input image is not divisible by macro_block_size=16, resizing from (1500, 500) to (1504, 512) to ensure video compatibility with most codecs and players. To prevent resizing, make your input image divisible by the macro_block_size or set the macro_block_size to 1 (risking incompatibility).\n",
      "[swscaler @ 0x7209900] Warning: data is not aligned! This can lead to a speed loss\n",
      "100%|██████████| 1383/1383 [00:45<00:00, 30.39it/s]\n"
     ]
    },
    {
     "name": "stdout",
     "output_type": "stream",
     "text": [
      "Purchases\n"
     ]
    },
    {
     "name": "stderr",
     "output_type": "stream",
     "text": [
      "  0%|          | 0/1158 [00:00<?, ?it/s]IMAGEIO FFMPEG_WRITER WARNING: input image is not divisible by macro_block_size=16, resizing from (1500, 500) to (1504, 512) to ensure video compatibility with most codecs and players. To prevent resizing, make your input image divisible by the macro_block_size or set the macro_block_size to 1 (risking incompatibility).\n",
      "[swscaler @ 0x60ed900] Warning: data is not aligned! This can lead to a speed loss\n",
      "100%|██████████| 1158/1158 [00:37<00:00, 30.86it/s]\n"
     ]
    },
    {
     "name": "stdout",
     "output_type": "stream",
     "text": [
      "SittingDown 2\n"
     ]
    },
    {
     "name": "stderr",
     "output_type": "stream",
     "text": [
      "  0%|          | 0/3023 [00:00<?, ?it/s]IMAGEIO FFMPEG_WRITER WARNING: input image is not divisible by macro_block_size=16, resizing from (1500, 500) to (1504, 512) to ensure video compatibility with most codecs and players. To prevent resizing, make your input image divisible by the macro_block_size or set the macro_block_size to 1 (risking incompatibility).\n",
      "[swscaler @ 0x6f02900] Warning: data is not aligned! This can lead to a speed loss\n",
      "100%|██████████| 3023/3023 [01:39<00:00, 30.39it/s]\n"
     ]
    },
    {
     "name": "stdout",
     "output_type": "stream",
     "text": [
      "Walking 1\n"
     ]
    },
    {
     "name": "stderr",
     "output_type": "stream",
     "text": [
      "  0%|          | 0/3476 [00:00<?, ?it/s]IMAGEIO FFMPEG_WRITER WARNING: input image is not divisible by macro_block_size=16, resizing from (1500, 500) to (1504, 512) to ensure video compatibility with most codecs and players. To prevent resizing, make your input image divisible by the macro_block_size or set the macro_block_size to 1 (risking incompatibility).\n",
      "[swscaler @ 0x572b900] Warning: data is not aligned! This can lead to a speed loss\n",
      "100%|██████████| 3476/3476 [01:52<00:00, 31.00it/s]\n"
     ]
    },
    {
     "name": "stdout",
     "output_type": "stream",
     "text": [
      "WalkDog 1\n"
     ]
    },
    {
     "name": "stderr",
     "output_type": "stream",
     "text": [
      "  0%|          | 0/1662 [00:00<?, ?it/s]IMAGEIO FFMPEG_WRITER WARNING: input image is not divisible by macro_block_size=16, resizing from (1500, 500) to (1504, 512) to ensure video compatibility with most codecs and players. To prevent resizing, make your input image divisible by the macro_block_size or set the macro_block_size to 1 (risking incompatibility).\n",
      "[swscaler @ 0x5dcf900] Warning: data is not aligned! This can lead to a speed loss\n",
      "100%|██████████| 1662/1662 [00:54<00:00, 30.64it/s]\n"
     ]
    },
    {
     "name": "stdout",
     "output_type": "stream",
     "text": [
      "Waiting\n"
     ]
    },
    {
     "name": "stderr",
     "output_type": "stream",
     "text": [
      "  0%|          | 0/1792 [00:00<?, ?it/s]IMAGEIO FFMPEG_WRITER WARNING: input image is not divisible by macro_block_size=16, resizing from (1500, 500) to (1504, 512) to ensure video compatibility with most codecs and players. To prevent resizing, make your input image divisible by the macro_block_size or set the macro_block_size to 1 (risking incompatibility).\n",
      "[swscaler @ 0x67e3900] Warning: data is not aligned! This can lead to a speed loss\n",
      "100%|██████████| 1792/1792 [00:59<00:00, 30.28it/s]\n"
     ]
    },
    {
     "name": "stdout",
     "output_type": "stream",
     "text": [
      "Walking\n"
     ]
    },
    {
     "name": "stderr",
     "output_type": "stream",
     "text": [
      "  0%|          | 0/3134 [00:00<?, ?it/s]IMAGEIO FFMPEG_WRITER WARNING: input image is not divisible by macro_block_size=16, resizing from (1500, 500) to (1504, 512) to ensure video compatibility with most codecs and players. To prevent resizing, make your input image divisible by the macro_block_size or set the macro_block_size to 1 (risking incompatibility).\n",
      "[swscaler @ 0x5c65900] Warning: data is not aligned! This can lead to a speed loss\n",
      "100%|██████████| 3134/3134 [01:41<00:00, 30.92it/s]\n"
     ]
    },
    {
     "name": "stdout",
     "output_type": "stream",
     "text": [
      "Discussion\n"
     ]
    },
    {
     "name": "stderr",
     "output_type": "stream",
     "text": [
      "  0%|          | 0/3852 [00:00<?, ?it/s]IMAGEIO FFMPEG_WRITER WARNING: input image is not divisible by macro_block_size=16, resizing from (1500, 500) to (1504, 512) to ensure video compatibility with most codecs and players. To prevent resizing, make your input image divisible by the macro_block_size or set the macro_block_size to 1 (risking incompatibility).\n",
      "[swscaler @ 0x7216900] Warning: data is not aligned! This can lead to a speed loss\n",
      "100%|██████████| 3852/3852 [02:05<00:00, 30.78it/s]\n"
     ]
    },
    {
     "name": "stdout",
     "output_type": "stream",
     "text": [
      "Eating\n"
     ]
    },
    {
     "name": "stderr",
     "output_type": "stream",
     "text": [
      "  0%|          | 0/2721 [00:00<?, ?it/s]IMAGEIO FFMPEG_WRITER WARNING: input image is not divisible by macro_block_size=16, resizing from (1500, 500) to (1504, 512) to ensure video compatibility with most codecs and players. To prevent resizing, make your input image divisible by the macro_block_size or set the macro_block_size to 1 (risking incompatibility).\n",
      "  0%|          | 1/2721 [00:00<06:41,  6.77it/s][swscaler @ 0x6059900] Warning: data is not aligned! This can lead to a speed loss\n",
      "100%|██████████| 2721/2721 [01:27<00:00, 31.08it/s]\n"
     ]
    },
    {
     "name": "stdout",
     "output_type": "stream",
     "text": [
      "Posing\n"
     ]
    },
    {
     "name": "stderr",
     "output_type": "stream",
     "text": [
      "  0%|          | 0/992 [00:00<?, ?it/s]IMAGEIO FFMPEG_WRITER WARNING: input image is not divisible by macro_block_size=16, resizing from (1500, 500) to (1504, 512) to ensure video compatibility with most codecs and players. To prevent resizing, make your input image divisible by the macro_block_size or set the macro_block_size to 1 (risking incompatibility).\n",
      "  0%|          | 1/992 [00:00<02:32,  6.50it/s][swscaler @ 0x5b69900] Warning: data is not aligned! This can lead to a speed loss\n",
      "100%|██████████| 992/992 [00:32<00:00, 30.27it/s]\n"
     ]
    },
    {
     "name": "stdout",
     "output_type": "stream",
     "text": [
      "Greeting\n"
     ]
    },
    {
     "name": "stderr",
     "output_type": "stream",
     "text": [
      "  0%|          | 0/1149 [00:00<?, ?it/s]IMAGEIO FFMPEG_WRITER WARNING: input image is not divisible by macro_block_size=16, resizing from (1500, 500) to (1504, 512) to ensure video compatibility with most codecs and players. To prevent resizing, make your input image divisible by the macro_block_size or set the macro_block_size to 1 (risking incompatibility).\n",
      "[swscaler @ 0x5f36900] Warning: data is not aligned! This can lead to a speed loss\n",
      "100%|██████████| 1149/1149 [00:37<00:00, 30.95it/s]\n"
     ]
    },
    {
     "name": "stdout",
     "output_type": "stream",
     "text": [
      "Posing 1\n"
     ]
    },
    {
     "name": "stderr",
     "output_type": "stream",
     "text": [
      "  0%|          | 0/1167 [00:00<?, ?it/s]IMAGEIO FFMPEG_WRITER WARNING: input image is not divisible by macro_block_size=16, resizing from (1500, 500) to (1504, 512) to ensure video compatibility with most codecs and players. To prevent resizing, make your input image divisible by the macro_block_size or set the macro_block_size to 1 (risking incompatibility).\n",
      "[swscaler @ 0x6aa7900] Warning: data is not aligned! This can lead to a speed loss\n",
      "100%|██████████| 1167/1167 [00:38<00:00, 30.45it/s]\n"
     ]
    },
    {
     "name": "stdout",
     "output_type": "stream",
     "text": [
      "WalkDog\n"
     ]
    },
    {
     "name": "stderr",
     "output_type": "stream",
     "text": [
      "  0%|          | 0/1777 [00:00<?, ?it/s]IMAGEIO FFMPEG_WRITER WARNING: input image is not divisible by macro_block_size=16, resizing from (1500, 500) to (1504, 512) to ensure video compatibility with most codecs and players. To prevent resizing, make your input image divisible by the macro_block_size or set the macro_block_size to 1 (risking incompatibility).\n",
      "[swscaler @ 0x5648900] Warning: data is not aligned! This can lead to a speed loss\n",
      "100%|██████████| 1777/1777 [00:58<00:00, 30.31it/s]\n"
     ]
    },
    {
     "name": "stdout",
     "output_type": "stream",
     "text": [
      "Photo\n"
     ]
    },
    {
     "name": "stderr",
     "output_type": "stream",
     "text": [
      "  0%|          | 0/1036 [00:00<?, ?it/s]IMAGEIO FFMPEG_WRITER WARNING: input image is not divisible by macro_block_size=16, resizing from (1500, 500) to (1504, 512) to ensure video compatibility with most codecs and players. To prevent resizing, make your input image divisible by the macro_block_size or set the macro_block_size to 1 (risking incompatibility).\n",
      "[swscaler @ 0x5e28900] Warning: data is not aligned! This can lead to a speed loss\n",
      "100%|██████████| 1036/1036 [00:34<00:00, 30.45it/s]\n"
     ]
    },
    {
     "name": "stdout",
     "output_type": "stream",
     "text": [
      "Purchases 1\n"
     ]
    },
    {
     "name": "stderr",
     "output_type": "stream",
     "text": [
      "  0%|          | 0/1064 [00:00<?, ?it/s]IMAGEIO FFMPEG_WRITER WARNING: input image is not divisible by macro_block_size=16, resizing from (1500, 500) to (1504, 512) to ensure video compatibility with most codecs and players. To prevent resizing, make your input image divisible by the macro_block_size or set the macro_block_size to 1 (risking incompatibility).\n",
      "[swscaler @ 0x734f900] Warning: data is not aligned! This can lead to a speed loss\n",
      "100%|██████████| 1064/1064 [00:34<00:00, 30.67it/s]\n"
     ]
    },
    {
     "name": "stdout",
     "output_type": "stream",
     "text": [
      "Sitting 2\n"
     ]
    },
    {
     "name": "stderr",
     "output_type": "stream",
     "text": [
      "  0%|          | 0/2612 [00:00<?, ?it/s]IMAGEIO FFMPEG_WRITER WARNING: input image is not divisible by macro_block_size=16, resizing from (1500, 500) to (1504, 512) to ensure video compatibility with most codecs and players. To prevent resizing, make your input image divisible by the macro_block_size or set the macro_block_size to 1 (risking incompatibility).\n",
      "[swscaler @ 0x5f12900] Warning: data is not aligned! This can lead to a speed loss\n",
      "100%|██████████| 2612/2612 [01:24<00:00, 31.06it/s]\n"
     ]
    },
    {
     "data": {
      "image/png": "[encoded data removed]",
      "text/plain": [
       "<Figure size 1500x500 with 5 Axes>"
      ]
     },
     "metadata": {},
     "output_type": "display_data"
    }
   ],
   "source": [
    "subject = 'S1'\n",
    "for action in h36m_3d_world._data[subject].keys():\n",
    "    print(action)\n",
    "    camera_id = '54138969'\n",
    "    \n",
    "    target_video = f'{subject}_{action}_{camera_id}'\n",
    "\n",
    "    pose3d_list = h36m_3d_world._data[subject][action]['positions'].copy()\n",
    "    length = len(pose3d_list)\n",
    "    calibration_matrix, camera_param, H, W, fx, fy, cx, cy = get_h36m_camera_info(subject, action, camera_id)\n",
    "\n",
    "    pose_2d_list, cam_3d_list, img_3d_list, img_3d_hat_list, img_25d_list, scale_list = data_processing(pose3d_list.copy(), camera_param, fx, fy, cx, cy, length=length)\n",
    "    pose_2d_list = normalize_input(pose_2d_list, 1000, 1000)\n",
    "    pose_2d_list = torch.tensor(pose_2d_list).cuda().unsqueeze(0)\n",
    "    cam_3d_list = torch.tensor(cam_3d_list).cuda().unsqueeze(0)\n",
    "    img_3d_list = torch.tensor(img_3d_list).cuda().unsqueeze(0)\n",
    "    img_3d_hat_list = torch.tensor(img_3d_hat_list).cuda().unsqueeze(0)\n",
    "    img_25d_list = torch.tensor(img_25d_list).cuda().unsqueeze(0)\n",
    "\n",
    "    # inputs\n",
    "    batch_input = pose_2d_list.clone()[:, :, :, :2]\n",
    "    root_centered = batch_input.clone() - batch_input[:, :, 0:1]\n",
    "    scaled_by_frobenius = root_centered.clone()\n",
    "    batch_height = root_centered[:, :, :, 1].max(dim=-1).values - root_centered[:, :, :, 1].min(dim=-1).values\n",
    "    batch_ratio = torch.ones_like(batch_height) / batch_height\n",
    "    scaled_by_each_height = root_centered.clone() * batch_ratio.unsqueeze(-1).unsqueeze(-1)\n",
    "    first_height = batch_height.max()\n",
    "    ratio = torch.ones_like(first_height) / first_height\n",
    "    scaled_by_fixed_height = root_centered.clone() * ratio.unsqueeze(-1).unsqueeze(-1)\n",
    "\n",
    "    original_input = batch_input.cpu().detach().numpy()\n",
    "    canonical_input1 = root_centered.clone().cpu().detach().numpy()\n",
    "    canonical_input2 = scaled_by_frobenius.clone().cpu().detach().numpy().reshape(-1, 34)\n",
    "    scale = np.linalg.norm(canonical_input2, ord=2, axis=1, keepdims=True)\n",
    "    canonical_input2 /= scale\n",
    "    canonical_input2 = canonical_input2.reshape(1, -1, 17, 2)\n",
    "    canonical_input3 = scaled_by_each_height.clone().cpu().detach().numpy()\n",
    "    canonical_input4 = scaled_by_fixed_height.clone().cpu().detach().numpy()\n",
    "\n",
    "    # save video\n",
    "    batch_num = 0\n",
    "\n",
    "    %matplotlib inline\n",
    "    fig = plt.figure(0, figsize=(15, 5))\n",
    "    fig.clear()\n",
    "    axd = fig.subplot_mosaic(\n",
    "        \"\"\"\n",
    "        ABCDE\n",
    "        \"\"\",\n",
    "        #per_subplot_kw={('A'): {'projection': '3d'}}\n",
    "    )\n",
    "\n",
    "    axA = axes_2d(ax=axd['A'], normalize=True, show_axis=False)\n",
    "    axB = axes_2d(ax=axd['B'], normalize=True, show_axis=False)\n",
    "    axC = axes_2d(ax=axd['C'], normalize=True, show_axis=False)\n",
    "    axD = axes_2d(ax=axd['D'], normalize=True, show_axis=False)\n",
    "    axE = axes_2d(ax=axd['E'], normalize=True, show_axis=False)\n",
    "\n",
    "    axA.set_title('Original')\n",
    "    axB.set_title('Root centered')\n",
    "    axC.set_title('Root centered + \\n scaled (Euclidean norm)')\n",
    "    axD.set_title('Root centered + \\n scaled (each frame height)')\n",
    "    axE.set_title('Root centered + \\n scaled (first height)')\n",
    "\n",
    "    videowriter = imageio.get_writer(f'/home/hrai/codes/MotionBERT/custom_codes/Canonical/compare_input_type_{subject}_{action}_{camera_id}.mp4', fps=30)\n",
    "    for frame_num in tqdm(range(length)):\n",
    "        clear_axes([axA, axB, axC, axD, axE])\n",
    "        draw_2d_pose(axA, original_input[batch_num, frame_num], normalize=True)\n",
    "        draw_2d_pose(axB, canonical_input1[batch_num, frame_num], normalize=True)\n",
    "        draw_2d_pose(axC, canonical_input2[batch_num, frame_num], normalize=True)\n",
    "        draw_2d_pose(axD, canonical_input3[batch_num, frame_num], normalize=True)\n",
    "        draw_2d_pose(axE, canonical_input4[batch_num, frame_num], normalize=True)\n",
    "        \n",
    "        canvas = FigureCanvas(fig)\n",
    "        canvas.draw()\n",
    "        image_from_plot = np.array(canvas.renderer._renderer)\n",
    "        image_from_plot = cv2.cvtColor(image_from_plot, cv2.COLOR_RGB2BGR)       \n",
    "        videowriter.append_data(image_from_plot)\n",
    "    videowriter.close()"
   ]
  },
  {
   "cell_type": "code",
   "execution_count": 16,
   "metadata": {},
   "outputs": [
    {
     "name": "stderr",
     "output_type": "stream",
     "text": [
      "IMAGEIO FFMPEG_WRITER WARNING: input image is not divisible by macro_block_size=16, resizing from (1000, 1000) to (1008, 1008) to ensure video compatibility with most codecs and players. To prevent resizing, make your input image divisible by the macro_block_size or set the macro_block_size to 1 (risking incompatibility).\n"
     ]
    },
    {
     "name": "stderr",
     "output_type": "stream",
     "text": [
      "[swscaler @ 0x617cdc0] Warning: data is not aligned! This can lead to a speed loss\n",
      "IMAGEIO FFMPEG_WRITER WARNING: input image is not divisible by macro_block_size=16, resizing from (1000, 1000) to (1008, 1008) to ensure video compatibility with most codecs and players. To prevent resizing, make your input image divisible by the macro_block_size or set the macro_block_size to 1 (risking incompatibility).\n",
      "[swscaler @ 0x73addc0] Warning: data is not aligned! This can lead to a speed loss\n"
     ]
    }
   ],
   "source": [
    "batch_num = -1\n",
    "videowriter = imageio.get_writer('/home/hrai/codes/MotionBERT/custom_codes/Canonical/canonical_test{}.mp4'.format(batch_num), fps=30)\n",
    "for i in range(243):\n",
    "    img = get_2d_pose_image(batch_input_denormalized_with_canonical[batch_num, i], W=1000, H=1000)\n",
    "    cv2.putText(img, str(i), (10, 10), cv2.FONT_HERSHEY_SIMPLEX, 0.3, (0, 0, 255), 1, cv2.LINE_AA)\n",
    "    videowriter.append_data(img)\n",
    "videowriter.close()\n",
    "\n",
    "videowriter = imageio.get_writer('/home/hrai/codes/MotionBERT/custom_codes/Canonical/test{}.mp4'.format(batch_num), fps=30)\n",
    "for i in range(243):\n",
    "    img = get_2d_pose_image(batch_input_denormalized[batch_num, i], W=1000, H=1000)\n",
    "    cv2.putText(img, str(i), (10, 10), cv2.FONT_HERSHEY_SIMPLEX, 0.3, (0, 0, 255), 1, cv2.LINE_AA)\n",
    "    videowriter.append_data(img)\n",
    "videowriter.close()"
   ]
  },
  {
   "cell_type": "markdown",
   "metadata": {},
   "source": []
  }
 ],
 "metadata": {
  "kernelspec": {
   "display_name": "adaptpose",
   "language": "python",
   "name": "python3"
  },
  "language_info": {
   "codemirror_mode": {
    "name": "ipython",
    "version": 3
   },
   "file_extension": ".py",
   "mimetype": "text/x-python",
   "name": "python",
   "nbconvert_exporter": "python",
   "pygments_lexer": "ipython3",
   "version": "3.9.18"
  },
  "orig_nbformat": 4
 },
 "nbformat": 4,
 "nbformat_minor": 2
}
