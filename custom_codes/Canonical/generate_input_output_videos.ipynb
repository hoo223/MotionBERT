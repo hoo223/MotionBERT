{
 "cells": [
  {
   "cell_type": "code",
   "execution_count": 1,
   "metadata": {},
   "outputs": [],
   "source": [
    "%load_ext autoreload\n",
    "%autoreload 2\n",
    "%matplotlib widget\n",
    "\n",
    "import os, sys, getpass\n",
    "user = getpass.getuser()\n",
    "sys.path.append(f'/home/{user}/codes/hpe_library')\n",
    "#os.chdir('/home/hrai/codes/hpe_library')\n",
    "from lib_import import *\n",
    "from my_utils import *\n",
    "motionbert_root = f'/home/{user}/codes/MotionBERT'\n",
    "os.chdir(motionbert_root)"
   ]
  },
  {
   "cell_type": "code",
   "execution_count": 2,
   "metadata": {},
   "outputs": [
    {
     "data": {
      "image/png": "[encoded data removed]",
      "text/plain": [
       "<Figure size 1500x500 with 3 Axes>"
      ]
     },
     "metadata": {},
     "output_type": "display_data"
    }
   ],
   "source": [
    "# initialize figure and plot function\n",
    "import concurrent.futures\n",
    "\n",
    "%matplotlib inline\n",
    "fig = plt.figure(1, figsize=(15, 5))\n",
    "fig.clear()\n",
    "axd = fig.subplot_mosaic(\n",
    "    \"\"\"\n",
    "    ABC\n",
    "    \"\"\",\n",
    "    per_subplot_kw={('C'): {'projection': '3d'}}\n",
    ")\n",
    "\n",
    "axA = axes_2d(ax=axd['A'], normalize=True, show_axis=False)\n",
    "axB = axes_2d(ax=axd['B'], normalize=True, show_axis=False)\n",
    "axC = axes_3d(ax=axd['C'], show_axis=False, view=(-90, -90))\n",
    "\n",
    "def plot_frame(frame_num):\n",
    "    cam_3d_from_canonical_3d = cam_3d_from_canonical_3d_list[frame_num]\n",
    "    img_2d_from_canonical_3d = cam_3d_from_canonical_3d @ int_mat.T\n",
    "    img_2d_from_canonical_3d /= img_2d_from_canonical_3d[:, 2:]\n",
    "    img_2d = cam_3d_list[frame_num] @ int_mat.T\n",
    "    img_2d /= img_2d[:, 2:]\n",
    "    \n",
    "    img_2d_norm = normalize_input(img_2d, W, H)\n",
    "    img_2d_centered_norm = img_2d_norm - img_2d_norm[0]\n",
    "    img_2d_from_canonical_3d_norm = normalize_input(img_2d_from_canonical_3d, W, H)\n",
    "    canonical_center = img_2d_from_canonical_3d_norm[0]\n",
    "    img_2d_from_canonical_3d_norm = img_2d_from_canonical_3d_norm - img_2d_from_canonical_3d_norm[0]\n",
    "    \n",
    "    clear_axes([axA, axB, axC])\n",
    "    draw_2d_pose(axA, img_2d_norm, normalize=True, color='k')\n",
    "    axA.axhline(0, 0, 1, color='k', linestyle='--', linewidth=0.5)\n",
    "    axA.axvline(0, 0, 1, color='k', linestyle='--', linewidth=0.5)\n",
    "    draw_2d_pose(axB, img_2d_centered_norm*sizeup, normalize=True, color='r', label='centered')\n",
    "    draw_2d_pose(axB, img_2d_from_canonical_3d_norm*sizeup, normalize=True, color='b', label='canonical 3d (same z)')\n",
    "    axB.plot(canonical_center[0]*sizeup, canonical_center[1]*sizeup, 'rx', markersize=5, label='canonical center')\n",
    "    axB.axhline(0, 0, 1, color='k', linestyle='--', linewidth=0.5)\n",
    "    axB.axvline(0, 0, 1, color='k', linestyle='--', linewidth=0.5)\n",
    "    draw_3d_pose(axC, cam_3d_hat_list[frame_num]*sizeup)\n",
    "    \n",
    "    handles, labels = axB.get_legend_handles_labels()\n",
    "    by_label = dict(zip(labels, handles))\n",
    "    leg = axB.legend(by_label.values(), by_label.keys())\n",
    "    \n",
    "    # 이미지를 메모리에 저장\n",
    "    fig.canvas.draw()\n",
    "    image = np.frombuffer(fig.canvas.buffer_rgba(), dtype='uint8')\n",
    "    image = image.reshape(fig.canvas.get_width_height()[::-1] + (4,))\n",
    "    \n",
    "    #plt.close(fig)  # 메모리 누수 방지\n",
    "    return image\n"
   ]
  },
  {
   "cell_type": "code",
   "execution_count": 39,
   "metadata": {},
   "outputs": [
    {
     "name": "stdout",
     "output_type": "stream",
     "text": [
      "h36m_gt_pkl\n"
     ]
    },
    {
     "name": "stderr",
     "output_type": "stream",
     "text": [
      "  0%|          | 0/836 [00:00<?, ?it/s]"
     ]
    },
    {
     "name": "stderr",
     "output_type": "stream",
     "text": [
      "[compare_input_type_S1_Greeting_58860488.mp4]: 100%|██████████| 836/836 [1:01:04<00:00,  4.38s/it]       \n"
     ]
    },
    {
     "name": "stdout",
     "output_type": "stream",
     "text": [
      "fit3d_gt_pkl\n"
     ]
    },
    {
     "name": "stderr",
     "output_type": "stream",
     "text": [
      "[compare_input_type_s08_warmup_6_50591643.mp4]: 100%|██████████| 1504/1504 [1:01:16<00:00,  2.44s/it]                       \n"
     ]
    }
   ],
   "source": [
    "dataset_list = []\n",
    "dataset_list.append('h36m_gt_pkl')\n",
    "dataset_list.append('fit3d_gt_pkl')\n",
    "#dataset_list.append('3dhp_gt_test_pkl')\n",
    "#dataset_list.append('3dhp_gt_train_pkl')\n",
    "\n",
    "overwrite = True\n",
    "\n",
    "for dataset in dataset_list:\n",
    "    print(dataset)\n",
    "    load_folder = f'/home/hrai/codes/MotionBERT/data/motion3d/{dataset}'\n",
    "\n",
    "    #subject_list = ['s03']\n",
    "    sizeup = 1.0\n",
    "    axA.set_title('Original')\n",
    "    axB.set_title(f'Canonical (x{sizeup})')\n",
    "    axC.set_title(f'Cam 3d (x{sizeup})')\n",
    "    \n",
    "\n",
    "    pbar = tqdm(glob(load_folder + '/*.pkl'))\n",
    "    for item in pbar:\n",
    "        #print(item)\n",
    "        splited = item.split('/')[-1].split('.')[0].split('_')\n",
    "        subject = splited[0]\n",
    "        \n",
    "        if 'fit3d_gt_pkl' == dataset: \n",
    "            cam_id = splited[1]\n",
    "            action = '_'.join(splited[2:])\n",
    "            video_name = f'compare_input_type_{subject}_{action}_{cam_id}.mp4'\n",
    "        elif 'h36m_gt_pkl' == dataset:\n",
    "            cam_id = splited[1]\n",
    "            action = splited[2]\n",
    "            video_name = f'compare_input_type_{subject}_{action}_{cam_id}.mp4'\n",
    "        elif dataset in ['3dhp_gt_test_pkl', '3dhp_gt_train_pkl']:\n",
    "            video_name = f'compare_input_type_{subject}.mp4'\n",
    "            \n",
    "        \n",
    "        #print(subject, action, cam_id)    \n",
    "        #if subject not in subject_list: continue\n",
    "        \n",
    "        folder = f'/home/hrai/codes/MotionBERT/custom_codes/Canonical/compare_canonical/{dataset}/{subject}'\n",
    "        if not os.path.exists(folder): os.makedirs(folder)\n",
    "        filename = os.path.join(folder, video_name) \n",
    "        #print(filename)\n",
    "        if not overwrite and os.path.exists(filename): \n",
    "            print(f'{filename} already exists')\n",
    "            continue\n",
    "        \n",
    "        data = readpkl(item)\n",
    "        if type(data['cam_param']) == list:\n",
    "            cam_param = data['cam_param'][0].reshape(1)[0].copy()\n",
    "        elif type(data['cam_param']) == dict:\n",
    "            cam_param = data['cam_param']\n",
    "        int_mat = cam_param['intrinsic']\n",
    "        ext_mat = cam_param['extrinsic']\n",
    "        cam_proj = int_mat @ ext_mat\n",
    "        R = ext_mat[:3, :3]\n",
    "        t = ext_mat[:3, 3]\n",
    "        C = T_to_C(R, t)\n",
    "        if 'h36m_gt_pkl' == dataset:\n",
    "            W, H = 1000, 1000\n",
    "        elif 'fit3d_gt_pkl' == dataset:\n",
    "            W, H = 900, 900\n",
    "        elif dataset in ['3dhp_gt_test_pkl', '3dhp_gt_train_pkl']:\n",
    "            W, H = cam_param['W'], cam_param['H']\n",
    "        num_frames = len(data['cam_3d'])\n",
    "        cam_3d_list = np.array(data['cam_3d']).copy()/1000 # (F, J, 3)\n",
    "        cam_3d_hat_list = get_rootrel_pose(cam_3d_list)\n",
    "        cam_3d_from_canonical_3d_list = cam_3d_list.copy()\n",
    "        cam_3d_from_canonical_3d_list[...,:2] -= cam_3d_list[:, 0:1, :2]\n",
    "        \n",
    "        \n",
    "        with imageio.get_writer(filename, fps=6, macro_block_size=1) as writer:\n",
    "            with concurrent.futures.ProcessPoolExecutor() as executor:\n",
    "                for image in executor.map(plot_frame, range(0, num_frames, 5)):\n",
    "                    writer.append_data(image)\n",
    "            \n",
    "        pbar.set_description(f'[{video_name}]')\n"
   ]
  },
  {
   "cell_type": "code",
   "execution_count": 37,
   "metadata": {},
   "outputs": [
    {
     "data": {
      "text/plain": [
       "[]"
      ]
     },
     "execution_count": 37,
     "metadata": {},
     "output_type": "execute_result"
    }
   ],
   "source": [
    "data['cam_param']"
   ]
  }
 ],
 "metadata": {
  "kernelspec": {
   "display_name": "motionbert",
   "language": "python",
   "name": "python3"
  },
  "language_info": {
   "codemirror_mode": {
    "name": "ipython",
    "version": 3
   },
   "file_extension": ".py",
   "mimetype": "text/x-python",
   "name": "python",
   "nbconvert_exporter": "python",
   "pygments_lexer": "ipython3",
   "version": "3.9.18"
  }
 },
 "nbformat": 4,
 "nbformat_minor": 2
}
