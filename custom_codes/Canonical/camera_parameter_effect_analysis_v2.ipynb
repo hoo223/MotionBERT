{
 "cells": [
  {
   "cell_type": "code",
   "execution_count": 1,
   "metadata": {},
   "outputs": [
    {
     "name": "stdout",
     "output_type": "stream",
     "text": [
      "==> Loading 3D data wrt World CS...\n"
     ]
    },
    {
     "data": {
      "application/vnd.jupyter.widget-view+json": {
       "model_id": "0e923d5261e04affa844ad1354829ba2",
       "version_major": 2,
       "version_minor": 0
      },
      "text/plain": [
       "VBox(children=(Output(), HBox(children=(Output(), Output()), layout=Layout(border_bottom='solid 1px red', bord…"
      ]
     },
     "metadata": {},
     "output_type": "display_data"
    }
   ],
   "source": [
    "%load_ext autoreload\n",
    "%autoreload 2\n",
    "%matplotlib widget\n",
    "\n",
    "import os, sys\n",
    "sys.path.append('/home/hrai/codes/hpe_library')\n",
    "from lib_import import *\n",
    "from my_utils import *\n",
    "\n",
    "import ipywidgets as widgets\n",
    "import matplotlib.pyplot as plt\n",
    "import numpy as np\n",
    "\n",
    "from IPython.display import display\n",
    "from ipywidgets import interact, interactive, fixed, interact_manual, interactive_output\n",
    "import threading\n",
    "from ipywidgets import GridspecLayout\n",
    "from ipywidgets import TwoByTwoLayout\n",
    "\n",
    "os.chdir('/home/hrai/codes/MotionBERT')\n",
    "from custom_codes.Canonical.utils_camera_analysis import get_button, get_toggle_button\n",
    "from custom_codes.Canonical.utils_camera_analysis import get_str_text\n",
    "from custom_codes.Canonical.utils_camera_analysis import get_frame_slider, get_trans_slider\n",
    "from custom_codes.Canonical.utils_camera_analysis import get_list_select\n",
    "from custom_codes.Canonical.utils_camera_analysis import init_camera, init_custom_camera, init_h36m_camera\n",
    "from custom_codes.Canonical.utils_camera_analysis import load_h36m_dataset\n",
    "from custom_codes.Canonical.utils_camera_analysis import init_panel\n",
    "from custom_codes.Canonical.utils_camera_analysis import init_plot\n",
    "from custom_codes.Canonical.utils_camera_analysis import init_layout, init_custom_layout, init_h36m_layout\n",
    "from custom_codes.Canonical.utils_camera_analysis import init_interactive, custom_interactive, h36m_interactive, custom_button_function, h36m_button_function\n",
    "from custom_codes.Canonical.utils_camera_analysis import update_select, update_frame, update_cam, update_cam_pose, update_ref_pose, update_pose_diff\n",
    "from custom_codes.Canonical.utils_camera_analysis import set_line_mode, reset_frame, reset_total, reset_trans_x, reset_trans_y, reset_trans_z, reset_rot_z, reset_cam_yaw, reset_cam_pitch, reset_cam_roll, set_compare1, set_compare2\n",
    "from custom_codes.Canonical.utils_camera_analysis import update_world_3d, update_canonical_3d, update_cam_3d, generate_2d_pose, calculate_error, visualize_data\n",
    "\n",
    "plt.clf()\n",
    "plt.cla()\n",
    "\n",
    "class analysis_tool():\n",
    "### load h36m ###\n",
    "    load_h36m_dataset = load_h36m_dataset\n",
    "### init camera ###\n",
    "    init_custom_camera = init_custom_camera\n",
    "    init_h36m_camera = init_h36m_camera\n",
    "    init_camera = init_camera\n",
    "### init panel ###\n",
    "    init_panel = init_panel\n",
    "### init plot ###\n",
    "    init_plot = init_plot\n",
    "### init layout ###\n",
    "    init_layout = init_layout\n",
    "    init_custom_layout = init_custom_layout\n",
    "    init_h36m_layout = init_h36m_layout\n",
    "### init interactive ###\n",
    "    init_interactive = init_interactive\n",
    "    custom_interactive = custom_interactive\n",
    "    h36m_interactive = h36m_interactive\n",
    "    custom_button_function = custom_button_function\n",
    "    h36m_button_function = h36m_button_function\n",
    "### Functions ##############################################################################################################\n",
    "### interactive funcitons ###\n",
    "    update_select = update_select\n",
    "    update_frame = update_frame\n",
    "    update_cam = update_cam\n",
    "    update_cam_pose = update_cam_pose\n",
    "    update_ref_pose = update_ref_pose\n",
    "    update_pose_diff = update_pose_diff\n",
    "### button functions ###\n",
    "    set_line_mode = set_line_mode\n",
    "    reset_frame = reset_frame\n",
    "    reset_total = reset_total\n",
    "    reset_trans_x = reset_trans_x\n",
    "    reset_trans_y = reset_trans_y\n",
    "    reset_trans_z = reset_trans_z\n",
    "    reset_rot_z = reset_rot_z\n",
    "    reset_cam_yaw = reset_cam_yaw\n",
    "    reset_cam_pitch = reset_cam_pitch\n",
    "    reset_cam_roll = reset_cam_roll\n",
    "    set_compare1 = set_compare1\n",
    "    set_compare2 = set_compare2\n",
    "### other functions ###\n",
    "    update_world_3d = update_world_3d\n",
    "    update_canonical_3d = update_canonical_3d\n",
    "    update_cam_3d = update_cam_3d\n",
    "    generate_2d_pose = generate_2d_pose\n",
    "    calculate_error = calculate_error\n",
    "    visualize_data = visualize_data\n",
    "### Init ##############################################################################################################\n",
    "    def __init__(self):\n",
    "        self.verbose = False\n",
    "        # variables -------------------------------------------------------------------\n",
    "        self.joint_names = ['pelvis', 'right_hip', 'right_knee', 'right_ankle', 'left_hip', 'left_knee', 'left_ankle', 'torso', 'neck', 'nose', 'head', 'left_shoulder', 'left_elbow', 'left_wrist', 'right_shoulder', 'right_elbow', 'right_wrist']\n",
    "        self.part_list = ['R_UPPER_ARM', 'R_UNDER_ARM', 'L_UPPER_ARM', 'L_UNDER_ARM', 'R_UPPER_LEG', 'R_UNDER_LEG', 'L_UPPER_LEG', 'L_UNDER_LEG']\n",
    "        self.frame_num = 0\n",
    "        self.cam_mode = 'h36m' # 'custom' or 'h36m'\n",
    "        self.cameras = {}\n",
    "        self.line_mode = False\n",
    "        self.init_dx, self.init_dy, self.init_dz = 3, 0, 0\n",
    "        self.dx, self.dy, self.dz, self.rz = 0, 0, 0, 0\n",
    "        self.compare1_pose, self.compare2_pose = None, None\n",
    "        self.fig_3d, self.fig_2d = None, None\n",
    "        self.test_out = widgets.Output()\n",
    "        \n",
    "        try:\n",
    "            self.load_h36m_dataset()\n",
    "            self.init_camera()\n",
    "            self.init_panel()\n",
    "            self.init_plot()\n",
    "            self.init_interactive()\n",
    "            self.init_layout()\n",
    "            dis = display(self.ui)\n",
    "        except Exception as e:\n",
    "            print(e)\n",
    "            with self.test_out:\n",
    "                print(e)\n",
    "\n",
    "at = analysis_tool()"
   ]
  },
  {
   "cell_type": "code",
   "execution_count": 9,
   "metadata": {},
   "outputs": [
    {
     "data": {
      "text/plain": [
       "0.9999999999999999"
      ]
     },
     "execution_count": 9,
     "metadata": {},
     "output_type": "execute_result"
    }
   ],
   "source": [
    "np.dot(at.cameras['54138969'].R[2], at.cameras['54138969'].R[2])"
   ]
  }
 ],
 "metadata": {
  "kernelspec": {
   "display_name": "adaptpose",
   "language": "python",
   "name": "python3"
  },
  "language_info": {
   "codemirror_mode": {
    "name": "ipython",
    "version": 3
   },
   "file_extension": ".py",
   "mimetype": "text/x-python",
   "name": "python",
   "nbconvert_exporter": "python",
   "pygments_lexer": "ipython3",
   "version": "3.9.-1"
  },
  "orig_nbformat": 4
 },
 "nbformat": 4,
 "nbformat_minor": 2
}
