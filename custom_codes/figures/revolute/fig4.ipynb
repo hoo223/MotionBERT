{
 "cells": [
  {
   "cell_type": "code",
   "execution_count": 2,
   "metadata": {},
   "outputs": [],
   "source": [
    "%load_ext autoreload\n",
    "%autoreload 2\n",
    "%matplotlib widget\n",
    "from common_import import *"
   ]
  },
  {
   "cell_type": "code",
   "execution_count": 4,
   "metadata": {},
   "outputs": [
    {
     "name": "stdout",
     "output_type": "stream",
     "text": [
      "[overwrite: False] ==> Loading H36M source_list...\n",
      "[overwrite: False] ==> Loading H36M cam_param...\n",
      "[overwrite: False] ==> Loading H36M cam_3d...\n",
      "[overwrite: False] ==> Loading H36M img_2d...\n",
      "[overwrite: False] ==> Loading H36M cam_3d_canonical_same_z...\n",
      "[overwrite: False] ==> Loading H36M img_2d_canonical_same_z...\n",
      "[overwrite: False] ==> Loading H36M cam_3d_canonical_revolute...\n",
      "[overwrite: False] ==> Loading H36M img_2d_canonical_revolute...\n"
     ]
    }
   ],
   "source": [
    "fig_num = 4\n",
    "data_type_list = ['source_list', 'cam_param',\n",
    "                  'cam_3d', 'img_2d',\n",
    "                  'cam_3d_canonical_same_z', 'img_2d_canonical_same_z',\n",
    "                  'cam_3d_canonical_revolute', 'img_2d_canonical_revolute',\n",
    "                  ]\n",
    "overwrite_list = []\n",
    "dataset_name = 'h36m'\n",
    "data_aug = default_data_aug.copy()\n",
    "data = load_data_dict(dataset_name, data_type_list, overwrite_list, verbose=True, data_aug=data_aug)"
   ]
  },
  {
   "cell_type": "code",
   "execution_count": 6,
   "metadata": {},
   "outputs": [
    {
     "name": "stdout",
     "output_type": "stream",
     "text": [
      "S1 55011271 Walking\n"
     ]
    }
   ],
   "source": [
    "source = 'S1_55011271_Walking'\n",
    "subject, cam_id, action = split_source_name(source, dataset_name)\n",
    "print(subject, cam_id, action)\n",
    "cam_3d = data['cam_3d'][subject][action][cam_id].copy()\n",
    "img_2d = data['img_2d'][subject][action][cam_id].copy()\n",
    "cam_3d_hat = cam_3d.copy() - cam_3d[:, 0:1]\n",
    "cam_3d_canonical = data['cam_3d_canonical_revolute'][subject][action][cam_id].copy()\n",
    "img_2d_canonical = data['img_2d_canonical_revolute'][subject][action][cam_id].copy()\n",
    "cam_param = data['cam_param'][subject][action][cam_id].copy()\n",
    "W, H, intrinsic = cam_param['W'], cam_param['H'], cam_param['intrinsic']\n",
    "img_2d_norm = normalize_input(img_2d, W, H)\n",
    "img_2d_centered = img_2d_norm.copy() - img_2d_norm[:, 0:1]\n",
    "img_2d_canonical_norm = normalize_input(img_2d_canonical, W, H)"
   ]
  }
 ],
 "metadata": {
  "kernelspec": {
   "display_name": "motionbert",
   "language": "python",
   "name": "python3"
  },
  "language_info": {
   "codemirror_mode": {
    "name": "ipython",
    "version": 3
   },
   "file_extension": ".py",
   "mimetype": "text/x-python",
   "name": "python",
   "nbconvert_exporter": "python",
   "pygments_lexer": "ipython3",
   "version": "3.9.18"
  }
 },
 "nbformat": 4,
 "nbformat_minor": 2
}
