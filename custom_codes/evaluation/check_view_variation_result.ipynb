{
 "cells": [
  {
   "cell_type": "code",
   "execution_count": 4,
   "metadata": {},
   "outputs": [
    {
     "name": "stdout",
     "output_type": "stream",
     "text": [
      "The autoreload extension is already loaded. To reload it, use:\n",
      "  %reload_ext autoreload\n"
     ]
    },
    {
     "data": {
      "text/plain": [
       "('/home/hrai/codes/AlphaPose',\n",
       " '/home/hrai/codes/MotionBERT',\n",
       " '/home/hrai/Datasets/HAAI/국민대데이터/data',\n",
       " '/home/hrai/codes/AlphaPose/examples/kookmin_result_5actions')"
      ]
     },
     "execution_count": 4,
     "metadata": {},
     "output_type": "execute_result"
    }
   ],
   "source": [
    "%load_ext autoreload\n",
    "%autoreload 2\n",
    "%matplotlib widget\n",
    "\n",
    "import os\n",
    "os.chdir('/home/hrai/codes/PoseAdaptor')\n",
    "from hpe_library.lib_import import *\n",
    "from hpe_library. my_utils import *\n",
    "\n",
    "# 주요 디렉토리 경로\n",
    "user = getpass.getuser()\n",
    "alphapose_root = '/home/{}/codes/AlphaPose'.format(user)\n",
    "motionbert_root = '/home/{}/codes/MotionBERT'.format(user)\n",
    "kookmin_root = '/home/{}/Datasets/HAAI/국민대데이터/data'.format(user)\n",
    "ap_kookmin_result_root = alphapose_root + \"/examples/kookmin_result_5actions\"\n",
    "\n",
    "assert os.path.isdir(alphapose_root), \"AlphaPose root directory is not exist\"\n",
    "assert os.path.isdir(motionbert_root), \"MotionBERT root directory is not exist\"\n",
    "assert os.path.isdir(kookmin_root), \"Kookmin root directory is not exist\"\n",
    "assert os.path.isdir(ap_kookmin_result_root), \"AlphaPose Kookmin result directory is not exist\"\n",
    "\n",
    "alphapose_root, motionbert_root, kookmin_root, ap_kookmin_result_root"
   ]
  },
  {
   "cell_type": "code",
   "execution_count": 5,
   "metadata": {},
   "outputs": [],
   "source": [
    "os.chdir(motionbert_root)\n",
    "from lib.utils.tools import * # get_config\n",
    "from lib.utils.learning import * # load_backbone\n",
    "\n",
    "def parse_args():\n",
    "    parser = argparse.ArgumentParser()\n",
    "    parser.add_argument(\"--config\", type=str, default=\"configs/pose3d/MB_ft_h36m.yaml\", help=\"Path to the config file.\")\n",
    "    parser.add_argument('-c', '--checkpoint', default='checkpoint', type=str, metavar='PATH', help='checkpoint directory')\n",
    "    parser.add_argument('-p', '--pretrained', default='checkpoint', type=str, metavar='PATH', help='pretrained checkpoint directory')\n",
    "    parser.add_argument('-r', '--resume', default='', type=str, metavar='FILENAME', help='checkpoint to resume (file name)')\n",
    "    parser.add_argument('-e', '--evaluate', default='checkpoint/pose3d/MB_ft_h36m/best_epoch.bin', type=str, metavar='FILENAME', help='checkpoint to evaluate (file name)')\n",
    "    parser.add_argument('-ms', '--selection', default='latest_epoch.bin', type=str, metavar='FILENAME', help='checkpoint to finetune (file name)')\n",
    "    parser.add_argument('-sd', '--seed', default=0, type=int, help='random seed')\n",
    "    parser.add_argument('-g', '--gpu', default='0', type=str, help='GPU id')\n",
    "    #opts = parser.parse_args([])\n",
    "    opts = parser.parse_args(['--evaluate', 'checkpoint/pose3d/FT_MB_release_kookmin_total_with_kookmin_setting_s0258_test/best_epoch.bin'])\n",
    "    #opts = parser.parse_args(['--evaluate', 'checkpoint/pose3d/FT_MB_release_kookmin_total_with_kookmin_setting_s0258_test_sym10000/best_epoch.bin'])\n",
    "    return opts\n",
    "\n",
    "opts = parse_args()\n",
    "args = get_config(opts.config)"
   ]
  },
  {
   "cell_type": "code",
   "execution_count": 6,
   "metadata": {},
   "outputs": [
    {
     "name": "stdout",
     "output_type": "stream",
     "text": [
      "Loading checkpoint checkpoint/pose3d/FT_MB_release_kookmin_total_with_kookmin_setting_s0258_test/best_epoch.bin\n"
     ]
    }
   ],
   "source": [
    "model_backbone = load_backbone(args)\n",
    "model_backbone = nn.DataParallel(model_backbone)\n",
    "model_backbone = model_backbone.cuda()\n",
    "\n",
    "chk_filename = opts.evaluate\n",
    "print('Loading checkpoint', chk_filename)\n",
    "checkpoint = torch.load(chk_filename, map_location=lambda storage, loc: storage)\n",
    "model_backbone.load_state_dict(checkpoint['model_pos'], strict=True)\n",
    "model_pos = model_backbone"
   ]
  },
  {
   "cell_type": "code",
   "execution_count": 7,
   "metadata": {},
   "outputs": [
    {
     "name": "stdout",
     "output_type": "stream",
     "text": [
      "/home/hrai/Datasets/HAAI/국민대데이터/data/gist data/S01/S01_squat_001.csv\n",
      "Available frames: 0 ~ 1854\n"
     ]
    }
   ],
   "source": [
    "root_folder = '/home/hrai/Datasets/HAAI/국민대데이터/'\n",
    "subject = 'S01'\n",
    "action = 'squat'\n",
    "phase = '001'\n",
    "camera_id = 4\n",
    "\n",
    "interpolate_spine = True\n",
    "if interpolate_spine:\n",
    "    necessary_joints = [ 0, 1, 3, 4, 5, 6, 7, 8, 13, 14, 15, 16, 17, 18, 19, 20] \n",
    "else:\n",
    "    necessary_joints = [ 0, 1, 2, 3, 4, 5, 6, 7, 8, 13, 14, 15, 16, 17, 18, 19, 20] \n",
    "\n",
    "lbot = np.array([-0.53090762,  1.47796592,  0.00880748])\n",
    "cam_param = readpkl('/home/hrai/Datasets/HAAI/국민대데이터/camera_parameter_estimation/' + 'cam_param.pkl')\n",
    "\n",
    "# load vicon data\n",
    "file_path = os.path.join(root_folder, 'data', 'gist data', '{}/{}_{}_{}.csv'.format(subject, subject, action, phase))\n",
    "assert os.path.exists(file_path), \"no csv file\"\n",
    "\n",
    "pose3d_list, attribute_list = load_pose3d_kookmin(subject, action, phase, lbot, h36m=False)  \n",
    "\n",
    "# check available frames\n",
    "available_frames, num_frames = check_available_frame(pose3d_list, necessary_joints, interpolate_spine)\n",
    "assert available_frames != None, \"No available frames\"\n",
    "\n",
    "# convert to h36m\n",
    "pose3d_list_h36m = kookmin2h36m(pose3d_list) # 100fps\n",
    "def sample_data(data, sample_ratio=0.5):\n",
    "    sample_stride = int(1/sample_ratio) \n",
    "    return data[::sample_stride]\n",
    "pose3d_list_h36m = sample_data(pose3d_list_h36m, sample_ratio=30/100)\n",
    "\n",
    "# generate pkl \n",
    "H, W, R, t, C, calibration_matrix, image = get_cam_param_kookmin(cam_param, subject, camera_id)\n",
    "camera_param = {\n",
    "    'intrinsic': calibration_matrix,\n",
    "    'extrinsic': np.concatenate([R, t.reshape(3, 1)], axis=1),\n",
    "}\n",
    "\n",
    "cam_proj = np.array(calibration_matrix) @ np.hstack([R, t])"
   ]
  },
  {
   "cell_type": "code",
   "execution_count": 8,
   "metadata": {},
   "outputs": [],
   "source": [
    "# dynamic rotation\n",
    "pose3d_list_h36m_rotated = pose3d_list_h36m.copy()\n",
    "for frame in range(len(pose3d_list_h36m_rotated)):\n",
    "    rot = Rotation.from_rotvec([0, 0, frame/243*np.pi/6]).as_matrix() # 30 around z-axis at 243 frame\n",
    "    pose3d_list_h36m_rotated[frame] = rotate_torso_by_R(pose3d_list_h36m[frame], rot)\n",
    "\n",
    "pose_2d_list = projection(pose3d_list_h36m, cam_proj)\n",
    "pose_2d_list_rotated = projection(pose3d_list_h36m_rotated, cam_proj)"
   ]
  },
  {
   "cell_type": "code",
   "execution_count": 9,
   "metadata": {},
   "outputs": [],
   "source": [
    "input_data = pose_2d_list_rotated[:243].copy() # 243 frames\n",
    "input_data = normalize_input(input_data, W, H) # normalize\n",
    "input_data = torch.Tensor(input_data).unsqueeze(0) # to batch tensor\n",
    "output = get_inference_from_motionbert(model_pos, input_data, args, W, H)[0]"
   ]
  },
  {
   "cell_type": "code",
   "execution_count": 10,
   "metadata": {},
   "outputs": [
    {
     "name": "stdout",
     "output_type": "stream",
     "text": [
      "(17, 3)\n"
     ]
    },
    {
     "data": {
      "application/vnd.jupyter.widget-view+json": {
       "model_id": "c9d28a6baa3c4669a0c02b4cbaa0dd9c",
       "version_major": 2,
       "version_minor": 0
      },
      "image/png": "[encoded data removed]",
      "text/html": [
       "\n",
       "            <div style=\"display: inline-block;\">\n",
       "                <div class=\"jupyter-widgets widget-label\" style=\"text-align: center;\">\n",
       "                    Figure\n",
       "                </div>\n",
       "                <img src='data:image/png;base64,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' width=640.0/>\n",
       "            </div>\n",
       "        "
      ],
      "text/plain": [
       "Canvas(toolbar=Toolbar(toolitems=[('Home', 'Reset original view', 'home', 'home'), ('Back', 'Back to previous …"
      ]
     },
     "metadata": {},
     "output_type": "display_data"
    }
   ],
   "source": [
    "pose = get_rootrel_pose(output[200].copy()) # 1 frame\n",
    "#pose = get_rootrel_pose(output[0].copy()) # 1 frame\n",
    "print(pose.shape)\n",
    "R1 = Rotation.from_rotvec([-np.pi/2, 0, 0]).as_matrix() # -90 around x-axis\n",
    "R2 = Rotation.from_rotvec([0, 0, np.pi/2]).as_matrix() # 90 around z-axis\n",
    "pose = rotate_torso_by_R(pose, R2 @ R1)\n",
    "\n",
    "fig = plt.figure(10)\n",
    "fig.clear()\n",
    "ax = axes_3d(fig, xlim=(-0.5, 0.5), ylim=(-0.5, 0.5), zlim=(-0.5, 0.5))\n",
    "draw_3d_pose(ax, pose)\n",
    "plt.show()"
   ]
  },
  {
   "cell_type": "code",
   "execution_count": 12,
   "metadata": {},
   "outputs": [
    {
     "name": "stderr",
     "output_type": "stream",
     "text": [
      "  0%|          | 0/243 [00:00<?, ?it/s]"
     ]
    },
    {
     "name": "stderr",
     "output_type": "stream",
     "text": [
      "IMAGEIO FFMPEG_WRITER WARNING: input image is not divisible by macro_block_size=16, resizing from (1105, 829) to (1120, 832) to ensure video compatibility with most codecs and players. To prevent resizing, make your input image divisible by the macro_block_size or set the macro_block_size to 1 (risking incompatibility).\n",
      "  0%|          | 1/243 [00:00<01:06,  3.63it/s][swscaler @ 0x5982dc0] Warning: data is not aligned! This can lead to a speed loss\n",
      "100%|██████████| 243/243 [00:13<00:00, 18.50it/s]\n"
     ]
    }
   ],
   "source": [
    "save_h36m_pose_video(output, './S01_squat_4_dynamic_rot_result.mp4', pose_type='3d', dynamic_view=False)"
   ]
  },
  {
   "cell_type": "code",
   "execution_count": 15,
   "metadata": {},
   "outputs": [
    {
     "name": "stderr",
     "output_type": "stream",
     "text": [
      "  0%|          | 0/243 [00:00<?, ?it/s]"
     ]
    },
    {
     "name": "stderr",
     "output_type": "stream",
     "text": [
      "IMAGEIO FFMPEG_WRITER WARNING: input image is not divisible by macro_block_size=16, resizing from (1080, 1920) to (1088, 1920) to ensure video compatibility with most codecs and players. To prevent resizing, make your input image divisible by the macro_block_size or set the macro_block_size to 1 (risking incompatibility).\n",
      "[swscaler @ 0x6ddedc0] Warning: data is not aligned! This can lead to a speed loss\n",
      "100%|██████████| 243/243 [00:07<00:00, 34.64it/s]\n"
     ]
    }
   ],
   "source": [
    "save_h36m_pose_video(pose_2d_list_rotated[:243], './S01_squat_4_dynamic_rot_input.mp4', W=W, H=H, pose_type='2d', dynamic_view=False)"
   ]
  }
 ],
 "metadata": {
  "kernelspec": {
   "display_name": "motionbert",
   "language": "python",
   "name": "python3"
  },
  "language_info": {
   "codemirror_mode": {
    "name": "ipython",
    "version": 3
   },
   "file_extension": ".py",
   "mimetype": "text/x-python",
   "name": "python",
   "nbconvert_exporter": "python",
   "pygments_lexer": "ipython3",
   "version": "3.9.17"
  },
  "orig_nbformat": 4
 },
 "nbformat": 4,
 "nbformat_minor": 2
}
