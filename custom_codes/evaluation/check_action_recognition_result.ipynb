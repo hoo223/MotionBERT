{
 "cells": [
  {
   "cell_type": "code",
   "execution_count": 1,
   "metadata": {},
   "outputs": [],
   "source": [
    "%load_ext autoreload\n",
    "%autoreload 2\n",
    "import csv\n",
    "import os, sys, getpass\n",
    "user = getpass.getuser()\n",
    "sys.path.append(f'/home/{user}/codes/hpe_library/')\n",
    "from hpe_library.lib_import import *\n",
    "from hpe_library. my_utils import *\n",
    "os.chdir('/home/hrai/codes/MotionBERT/')"
   ]
  },
  {
   "cell_type": "code",
   "execution_count": 2,
   "metadata": {},
   "outputs": [],
   "source": [
    "data = readpkl('./action_recognition_result.pkl')"
   ]
  },
  {
   "cell_type": "code",
   "execution_count": 3,
   "metadata": {},
   "outputs": [
    {
     "data": {
      "text/plain": [
       "dict_keys(['gt', 'output', 'split'])"
      ]
     },
     "execution_count": 3,
     "metadata": {},
     "output_type": "execute_result"
    }
   ],
   "source": [
    "data.keys()"
   ]
  },
  {
   "cell_type": "code",
   "execution_count": 6,
   "metadata": {},
   "outputs": [
    {
     "data": {
      "text/plain": [
       "((7405,), (7405, 7), (7405,))"
      ]
     },
     "execution_count": 6,
     "metadata": {},
     "output_type": "execute_result"
    }
   ],
   "source": [
    "data['gt'].shape, data['output'].shape, data['split'].shape"
   ]
  },
  {
   "cell_type": "code",
   "execution_count": 7,
   "metadata": {},
   "outputs": [],
   "source": [
    "target = torch.from_numpy(data['gt'])\n",
    "output = torch.from_numpy(data['output'])"
   ]
  },
  {
   "cell_type": "code",
   "execution_count": 12,
   "metadata": {},
   "outputs": [
    {
     "data": {
      "text/plain": [
       "[tensor([95.7731])]"
      ]
     },
     "execution_count": 12,
     "metadata": {},
     "output_type": "execute_result"
    }
   ],
   "source": [
    "def accuracy(output, target, topk=(1,)):\n",
    "    with torch.no_grad():\n",
    "        maxk = max(topk)\n",
    "        batch_size = target.size(0)\n",
    "        _, pred = output.topk(maxk, 1, True, True)\n",
    "        pred = pred.t()\n",
    "        correct = pred.eq(target.view(1, -1).expand_as(pred))\n",
    "        res = []\n",
    "        for k in topk:\n",
    "            correct_k = correct[:k].reshape(-1).float().sum(0, keepdim=True)\n",
    "            res.append(correct_k.mul_(100.0 / batch_size))\n",
    "        return res\n",
    "accuracy(output, target)"
   ]
  },
  {
   "cell_type": "code",
   "execution_count": 51,
   "metadata": {},
   "outputs": [
    {
     "name": "stdout",
     "output_type": "stream",
     "text": [
      "subject 11, num subject: 965, total acc: 97.09844970703125\n",
      "pushup 125 77.5999984741211\n",
      "squat 100 100.0\n",
      "burpee 130 100.0\n",
      "kneeup 115 100.0\n",
      "yoga 175 100.00000762939453\n",
      "cat 175 100.00000762939453\n",
      "benchpress 145 100.0\n",
      "------------------------------------------\n",
      "subject 12, num subject: 965, total acc: 97.30570220947266\n",
      "pushup 95 95.78947448730469\n",
      "squat 110 97.2727279663086\n",
      "burpee 140 96.42857360839844\n",
      "kneeup 90 100.00000762939453\n",
      "yoga 150 100.0\n",
      "cat 205 93.65853881835938\n",
      "benchpress 175 99.42857360839844\n",
      "------------------------------------------\n",
      "subject 13, num subject: 990, total acc: 86.16161346435547\n",
      "pushup 135 0.0\n",
      "squat 110 100.0\n",
      "burpee 125 100.0\n",
      "kneeup 115 100.0\n",
      "yoga 155 100.0\n",
      "cat 150 99.33333587646484\n",
      "benchpress 200 99.5\n",
      "------------------------------------------\n",
      "subject 14, num subject: 925, total acc: 96.8648681640625\n",
      "pushup 115 95.65216827392578\n",
      "squat 115 100.0\n",
      "burpee 110 100.0\n",
      "kneeup 105 100.0\n",
      "yoga 150 100.0\n",
      "cat 160 91.875\n",
      "benchpress 170 93.5294189453125\n",
      "------------------------------------------\n",
      "subject 15, num subject: 890, total acc: 97.64044952392578\n",
      "pushup 115 92.17391204833984\n",
      "squat 120 99.16666412353516\n",
      "burpee 120 100.0\n",
      "kneeup 120 100.0\n",
      "yoga 145 100.0\n",
      "cat 130 96.92308044433594\n",
      "benchpress 140 95.0\n",
      "------------------------------------------\n",
      "subject 16, num subject: 860, total acc: 97.79070281982422\n",
      "pushup 85 98.82353210449219\n",
      "squat 100 100.0\n",
      "burpee 120 100.0\n",
      "kneeup 90 100.00000762939453\n",
      "yoga 145 100.0\n",
      "cat 170 90.0\n",
      "benchpress 150 99.33333587646484\n",
      "------------------------------------------\n",
      "subject 17, num subject: 815, total acc: 97.54601287841797\n",
      "pushup 105 80.95238494873047\n",
      "squat 90 100.00000762939453\n",
      "burpee 120 100.0\n",
      "kneeup 100 100.0\n",
      "yoga 130 100.0\n",
      "cat 135 100.0\n",
      "benchpress 135 100.0\n",
      "------------------------------------------\n",
      "subject 18, num subject: 995, total acc: 96.68341827392578\n",
      "pushup 110 90.90909576416016\n",
      "squat 115 99.13043212890625\n",
      "burpee 125 100.0\n",
      "kneeup 100 100.0\n",
      "yoga 180 100.00000762939453\n",
      "cat 155 89.67741394042969\n",
      "benchpress 210 97.14286041259766\n",
      "------------------------------------------\n"
     ]
    }
   ],
   "source": [
    "subject_list = np.array([x.split('_')[0] for x in data['split']])\n",
    "action_list = np.array([x.split('_')[1] for x in data['split']])\n",
    "dict_action_list = {}\n",
    "for action in set(action_list):\n",
    "    dict_action_list[action] = np.where(action_list == action)[0]\n",
    "    #print(len(dict_action_list[action]))\n",
    "    \n",
    "for sub in range(11, 19):\n",
    "    sub_list = np.where(subject_list == f'S{sub}')[0]\n",
    "    \n",
    "    # subject-wise accuracy\n",
    "    target = torch.from_numpy(data['gt'][sub_list])\n",
    "    output = torch.from_numpy(data['output'][sub_list])\n",
    "    acc = accuracy(output, target)\n",
    "    print(f'subject {sub}, num subject: {len(sub_list)}, total acc: {acc[0].item()}')\n",
    "    # action-wise accuracy\n",
    "    for key in dict_action_list.keys():\n",
    "        action_list = np.intersect1d(sub_list, dict_action_list[key])\n",
    "        target = torch.from_numpy(data['gt'][action_list])\n",
    "        output = torch.from_numpy(data['output'][action_list])\n",
    "        acc = accuracy(output, target)\n",
    "        print(key, len(action_list), acc[0].item())\n",
    "    print('------------------------------------------')\n",
    "    "
   ]
  },
  {
   "cell_type": "code",
   "execution_count": 29,
   "metadata": {},
   "outputs": [
    {
     "data": {
      "text/plain": [
       "(array(['S11', 'S12', 'S11', ..., 'S18', 'S18', 'S18'], dtype='<U3'),\n",
       " array(['benchpress', 'pushup', 'kneeup', ..., 'cat', 'cat', 'cat'],\n",
       "       dtype='<U10'))"
      ]
     },
     "execution_count": 29,
     "metadata": {},
     "output_type": "execute_result"
    }
   ],
   "source": [
    "subject_list, action_list"
   ]
  },
  {
   "cell_type": "code",
   "execution_count": 27,
   "metadata": {},
   "outputs": [],
   "source": [
    "dataset = readpkl('data/action/kookmin2_mmpose_train_s19-20_augment_243_50_test_augment_243_50.pkl')"
   ]
  },
  {
   "cell_type": "code",
   "execution_count": null,
   "metadata": {},
   "outputs": [],
   "source": []
  }
 ],
 "metadata": {
  "kernelspec": {
   "display_name": "motionbert",
   "language": "python",
   "name": "python3"
  },
  "language_info": {
   "codemirror_mode": {
    "name": "ipython",
    "version": 3
   },
   "file_extension": ".py",
   "mimetype": "text/x-python",
   "name": "python",
   "nbconvert_exporter": "python",
   "pygments_lexer": "ipython3",
   "version": "3.9.17"
  },
  "orig_nbformat": 4
 },
 "nbformat": 4,
 "nbformat_minor": 2
}
