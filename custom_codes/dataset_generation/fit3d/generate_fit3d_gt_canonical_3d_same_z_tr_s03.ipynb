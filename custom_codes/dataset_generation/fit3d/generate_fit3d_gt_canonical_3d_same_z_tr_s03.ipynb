{
 "cells": [
  {
   "cell_type": "code",
   "execution_count": 1,
   "metadata": {},
   "outputs": [],
   "source": [
    "%load_ext autoreload\n",
    "%autoreload 2\n",
    "%matplotlib widget\n",
    "import os, sys, getpass\n",
    "user = getpass.getuser()\n",
    "sys.path.append(f'/home/{user}/codes/hpe_library/')\n",
    "from lib_import import *\n",
    "from my_utils import *\n",
    "os.chdir('/home/hrai/codes/MotionBERT')"
   ]
  },
  {
   "cell_type": "markdown",
   "metadata": {},
   "source": [
    "### all test"
   ]
  },
  {
   "cell_type": "code",
   "execution_count": 2,
   "metadata": {},
   "outputs": [
    {
     "name": "stderr",
     "output_type": "stream",
     "text": [
      "100%|██████████| 1504/1504 [01:08<00:00, 21.87it/s]\n"
     ]
    },
    {
     "data": {
      "text/plain": [
       "((230368, 17, 3), (1548924, 17, 3))"
      ]
     },
     "execution_count": 2,
     "metadata": {},
     "output_type": "execute_result"
    }
   ],
   "source": [
    "joint_2ds = {'train': [], 'test': []}\n",
    "joint_2d_from_canonical_3ds = {'train': [], 'test': []}\n",
    "confidences = {'train': [], 'test': []}\n",
    "joint3d_images = {'train': [], 'test': []}\n",
    "joint3d_image_from_canonical_3ds = {'train': [], 'test': []}\n",
    "joints_25d_images = {'train': [], 'test': []}\n",
    "_25d_factors = {'train': [], 'test': []}\n",
    "camera_names = {'train': [], 'test': []}\n",
    "actions = {'train': [], 'test': []}\n",
    "sources = {'train': [], 'test': []}\n",
    "frames = {'train': [], 'test': []}\n",
    "world_3ds = {'train': [], 'test': []}\n",
    "world_3d_from_canonical_3ds = {'train': [], 'test': []}\n",
    "cam_3ds = {'train': [], 'test': []}\n",
    "cam_3d_from_canonical_3ds = {'train': [], 'test': []}\n",
    "cam_params = {'train': [], 'test': []}\n",
    "\n",
    "# target \n",
    "pkl_folder = '/home/hrai/codes/MotionBERT/data/motion3d/fit3d_gt_pkl_canonical_3d_same_z'\n",
    "test_subject = ['s04', 's05', 's07', 's08', 's09', 's10', 's11']\n",
    "only_test = False\n",
    "\n",
    "blacklist = []\n",
    "\n",
    "for item in tqdm(os.listdir(pkl_folder)):\n",
    "    splited = item.split('.')[0].split('_') \n",
    "    subject = splited[0]\n",
    "    cam_num = splited[1]\n",
    "    action = '_'.join(splited[2:])\n",
    "    \n",
    "    # filtering\n",
    "    if only_test:\n",
    "        if subject not in test_subject: continue\n",
    "    if subject in blacklist: continue\n",
    "    \n",
    "    item_path = os.path.join(pkl_folder, item) \n",
    "    data = readpkl(item_path) \n",
    "    if subject in test_subject: data_type = 'test' \n",
    "    else: data_type = 'train' \n",
    "\n",
    "    joint_2ds[data_type] += list(np.array(data['joint_2d'])) \n",
    "    joint_2d_from_canonical_3ds[data_type] += list(np.array(data['joint_2d_from_canonical_3d'])) \n",
    "    confidences[data_type] += list(np.array(data['confidence'])) \n",
    "    joint3d_image_from_canonical_3ds[data_type] += list(np.array(data['joint3d_image_from_canonical_3d'])) \n",
    "    #joints_25d_images[data_type] += list(np.array(data['joints_2.5d_image_from_canonical_3d'])) \n",
    "    #_25d_factors[data_type] += data['2.5d_factor_from_canonical_3d'] \n",
    "    camera_names[data_type] += data['camera_name']  \n",
    "    actions[data_type] += data['action'] \n",
    "    sources[data_type] += data['source'] \n",
    "    frames[data_type] += data['frame'] \n",
    "    world_3ds[data_type] += list(np.array(data['world_3d'])) \n",
    "    world_3d_from_canonical_3ds[data_type] += list(np.array(data['world_3d_from_canonical_3d']))\n",
    "    cam_3ds[data_type] += list(np.array(data['cam_3d'])/1000.0) # mm to m \n",
    "    cam_3d_from_canonical_3ds[data_type] += list(np.array(data['cam_3d_from_canonical_3d'])/1000.0) \n",
    "    cam_params[data_type] += data['cam_param']\n",
    "    \n",
    "data_total = {'train': {}, 'test': {}}\n",
    "\n",
    "for data_type in ['train', 'test']:\n",
    "    data_total[data_type]['joint_2d']                            = np.array(joint_2ds[data_type])\n",
    "    data_total[data_type]['joint_2d_from_canonical_3d']          = np.array(joint_2d_from_canonical_3ds[data_type])\n",
    "    data_total[data_type]['confidence']                          = np.array(confidences[data_type])\n",
    "    data_total[data_type]['joint3d_image_from_canonical_3d']     = np.array(joint3d_image_from_canonical_3ds[data_type])\n",
    "    #data_total[data_type]['joints_2.5d_image_from_canonical_3d'] = copy.deepcopy(np.array(joints_25d_images[data_type]))\n",
    "    #data_total[data_type]['2.5d_factor_from_canonical_3d']       = copy.deepcopy(np.array(_25d_factors[data_type]))\n",
    "    data_total[data_type]['camera_name']                         = np.array(camera_names[data_type])\n",
    "    data_total[data_type]['action']                              = np.array(actions[data_type])\n",
    "    data_total[data_type]['source']                              = np.array(sources[data_type])\n",
    "    data_total[data_type]['frame']                               = np.array(frames[data_type])\n",
    "    data_total[data_type]['world_3d']                            = np.array(world_3ds[data_type])\n",
    "    data_total[data_type]['world_3d_from_canonical_3d']          = np.array(world_3d_from_canonical_3ds[data_type])\n",
    "    data_total[data_type]['cam_3d']                              = np.array(cam_3ds[data_type])\n",
    "    data_total[data_type]['cam_3d_from_canonical_3d']            = np.array(cam_3d_from_canonical_3ds[data_type])\n",
    "    data_total[data_type]['cam_param']                           = np.array(cam_params[data_type])\n",
    "    \n",
    "if len(data_total['train']['joint_2d']) == 0:\n",
    "    for key in data_total['test'].keys():\n",
    "        data_total['train'][key] = copy.deepcopy(data_total['test'][key][0:243])\n",
    "\n",
    "data_total['train']['world_3d_from_canonical_3d'].shape, data_total['test']['world_3d_from_canonical_3d'].shape  "
   ]
  },
  {
   "cell_type": "code",
   "execution_count": 3,
   "metadata": {},
   "outputs": [
    {
     "ename": "",
     "evalue": "",
     "output_type": "error",
     "traceback": [
      "\u001b[1;31mThe Kernel crashed while executing code in the current cell or a previous cell. \n",
      "\u001b[1;31mPlease review the code in the cell(s) to identify a possible cause of the failure. \n",
      "\u001b[1;31mClick <a href='https://aka.ms/vscodeJupyterKernelCrash'>here</a> for more info. \n",
      "\u001b[1;31mView Jupyter <a href='command:jupyter.viewOutput'>log</a> for further details."
     ]
    }
   ],
   "source": [
    "save_path = os.path.join('/home/hrai/codes/MotionBERT', f'data/motion3d/fit3d_gt_canonical_3d_same_z_tr_s03.pkl')\n",
    "savepkl(data_total, save_path)"
   ]
  },
  {
   "cell_type": "code",
   "execution_count": 1,
   "metadata": {},
   "outputs": [
    {
     "ename": "NameError",
     "evalue": "name 'data_total' is not defined",
     "output_type": "error",
     "traceback": [
      "\u001b[0;31m---------------------------------------------------------------------------\u001b[0m",
      "\u001b[0;31mNameError\u001b[0m                                 Traceback (most recent call last)",
      "Cell \u001b[0;32mIn[1], line 2\u001b[0m\n\u001b[1;32m      1\u001b[0m frame_num \u001b[38;5;241m=\u001b[39m \u001b[38;5;241m24000\u001b[39m\n\u001b[0;32m----> 2\u001b[0m cam_3d \u001b[38;5;241m=\u001b[39m \u001b[43mdata_total\u001b[49m[\u001b[38;5;124m'\u001b[39m\u001b[38;5;124mtrain\u001b[39m\u001b[38;5;124m'\u001b[39m][\u001b[38;5;124m'\u001b[39m\u001b[38;5;124mcam_3d\u001b[39m\u001b[38;5;124m'\u001b[39m][frame_num]\n\u001b[1;32m      3\u001b[0m cam_3d_hat \u001b[38;5;241m=\u001b[39m get_rootrel_pose((cam_3d))\n\u001b[1;32m      4\u001b[0m joint_2d \u001b[38;5;241m=\u001b[39m data_total[\u001b[38;5;124m'\u001b[39m\u001b[38;5;124mtrain\u001b[39m\u001b[38;5;124m'\u001b[39m][\u001b[38;5;124m'\u001b[39m\u001b[38;5;124mjoint_2d\u001b[39m\u001b[38;5;124m'\u001b[39m][frame_num]\n",
      "\u001b[0;31mNameError\u001b[0m: name 'data_total' is not defined"
     ]
    }
   ],
   "source": [
    "\n",
    "frame_num = 24000\n",
    "cam_3d = data_total['train']['cam_3d'][frame_num]\n",
    "cam_3d_hat = get_rootrel_pose((cam_3d))\n",
    "joint_2d = data_total['train']['joint_2d'][frame_num]\n",
    "joint_2d_from_canonical_3d = data_total['train']['joint_2d_from_canonical_3d'][frame_num]\n",
    "joint3d_image = data_total['train']['joint3d_image_from_canonical_3d'][frame_num]\n",
    "#joints_25d_image = data_total['train']['joints_2.5d_image_from_canonical_3d'][frame_num]\n",
    "#_25d_factor = data_total['train']['2.5d_factor_from_canonical_3d'][frame_num]\n",
    "\n",
    "%matplotlib widget\n",
    "fig = plt.figure(0)\n",
    "fig.clear()\n",
    "ax = axes_3d(fig, loc=121, view=(-90,-90), xlim=(0, 1000), ylim=(0, 1000))\n",
    "ax2 = axes_2d(fig, loc=122)\n",
    "#draw_3d_pose(ax, cam_3d_hat)\n",
    "draw_3d_pose(ax, joint3d_image)\n",
    "#draw_3d_pose(ax, joints_25d_image/_25d_factor, color='r')\n",
    "draw_2d_pose(ax2, joint_2d)\n",
    "draw_2d_pose(ax2, joint_2d_from_canonical_3d)\n",
    "plt.show()"
   ]
  }
 ],
 "metadata": {
  "kernelspec": {
   "display_name": "motionbert",
   "language": "python",
   "name": "python3"
  },
  "language_info": {
   "codemirror_mode": {
    "name": "ipython",
    "version": 3
   },
   "file_extension": ".py",
   "mimetype": "text/x-python",
   "name": "python",
   "nbconvert_exporter": "python",
   "pygments_lexer": "ipython3",
   "version": "3.9.18"
  },
  "vscode": {
   "interpreter": {
    "hash": "a22adeb9c65037913f217d555eca4ee12416bb8cd04fc64921ca248554344da3"
   }
  }
 },
 "nbformat": 4,
 "nbformat_minor": 2
}
