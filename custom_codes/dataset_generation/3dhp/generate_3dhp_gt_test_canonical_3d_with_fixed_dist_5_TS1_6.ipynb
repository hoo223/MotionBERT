{
 "cells": [
  {
   "cell_type": "code",
   "execution_count": 9,
   "metadata": {},
   "outputs": [
    {
     "name": "stdout",
     "output_type": "stream",
     "text": [
      "The autoreload extension is already loaded. To reload it, use:\n",
      "  %reload_ext autoreload\n"
     ]
    }
   ],
   "source": [
    "%load_ext autoreload\n",
    "%autoreload 2\n",
    "%matplotlib widget\n",
    "import os, sys, getpass\n",
    "user = getpass.getuser()\n",
    "sys.path.append(f'/home/{user}/codes/hpe_library/')\n",
    "from lib_import import *\n",
    "from my_utils import *\n",
    "os.chdir('/home/hrai/codes/MotionBERT')"
   ]
  },
  {
   "cell_type": "code",
   "execution_count": 10,
   "metadata": {},
   "outputs": [
    {
     "name": "stdout",
     "output_type": "stream",
     "text": [
      "TS4.pkl\n",
      "TS5.pkl\n",
      "TS6.pkl\n",
      "TS2.pkl\n",
      "TS3.pkl\n",
      "TS1.pkl\n",
      "joint_2d (243, 17, 2)\n",
      "joint_2d_from_canonical_3d (243, 17, 3)\n",
      "confidence (243, 17, 1)\n",
      "camera_name (243,)\n",
      "action (243,)\n",
      "source (243,)\n",
      "frame (243,)\n",
      "cam_3d (243, 17, 3)\n",
      "cam_3d_from_canonical_3d (243, 17, 3)\n",
      "cam_param (243,)\n"
     ]
    },
    {
     "data": {
      "text/plain": [
       "((243, 17, 2), (24888, 17, 2))"
      ]
     },
     "execution_count": 10,
     "metadata": {},
     "output_type": "execute_result"
    }
   ],
   "source": [
    "joint_2ds = {'train': [], 'test': []}\n",
    "joint_2d_from_canonical_3ds = {'train': [], 'test': []}\n",
    "confidences = {'train': [], 'test': []}\n",
    "#joint3d_images = {'train': [], 'test': []}\n",
    "#joints_25d_images = {'train': [], 'test': []}\n",
    "#_25d_factors = {'train': [], 'test': []}\n",
    "camera_names = {'train': [], 'test': []}\n",
    "actions = {'train': [], 'test': []}\n",
    "sources = {'train': [], 'test': []}\n",
    "frames = {'train': [], 'test': []}\n",
    "#world_3ds = {'train': [], 'test': []}\n",
    "cam_3ds = {'train': [], 'test': []}\n",
    "cam_3d_from_canonical_3ds = {'train': [], 'test': []}\n",
    "cam_params = {'train': [], 'test': []}\n",
    "\n",
    "# target \n",
    "pkl_folder = '/home/hrai/codes/MotionBERT/data/motion3d/3dhp_gt_test_canonical_3d_with_fixed_dist_5_pkl'\n",
    "test_subject = ['TS1', 'TS2', 'TS3', 'TS4', 'TS5', 'TS6']\n",
    "only_test = True\n",
    "\n",
    "blacklist = []\n",
    "\n",
    "for item in os.listdir(pkl_folder):\n",
    "    print(item)\n",
    "    subject = item.split('.')[0]\n",
    "    \n",
    "    # filtering\n",
    "    #if action not in action_list: continue \n",
    "    #if int(cam_num) not in camera_list: continue\n",
    "    if only_test:\n",
    "        if subject not in test_subject: continue\n",
    "    if subject in blacklist: continue\n",
    "    \n",
    "    item_path = os.path.join(pkl_folder, item) \n",
    "    #print(item_path)\n",
    "    data = readpkl(item_path) \n",
    "    if subject in test_subject: data_type = 'test' \n",
    "    else: data_type = 'train' \n",
    "    joint_2ds[data_type] += list(np.array(data['joint_2d'])) \n",
    "    joint_2d_from_canonical_3ds[data_type] += list(np.array(data['joint_2d_from_canonical_3d']))\n",
    "    confidences[data_type] += list(np.array(data['confidence'])) \n",
    "    camera_names[data_type] += list(data['camera_name'])\n",
    "    actions[data_type] += list(data['action'])\n",
    "    sources[data_type] += list(data['source'])\n",
    "    frames[data_type] += list(data['frame'])\n",
    "    cam_3ds[data_type] += list(np.array(data['cam_3d'])) # mm to m\n",
    "    cam_3d_from_canonical_3ds[data_type] += list(np.array(data['cam_3d_from_canonical_3d'])) # mm to m\n",
    "    #joint3d_images[data_type] += list(np.array(data['joint3d_image']))\n",
    "    #world_3ds[data_type] += list(np.array(data['world_3d']))\n",
    "    cam_params[data_type] += list(data['cam_param'])\n",
    "    \n",
    "    #print(cam_3ds[data_type ][0])\n",
    "    \n",
    "data_total = {'train': {}, 'test': {}}\n",
    "\n",
    "for data_type in ['train', 'test']:\n",
    "    data_total[data_type]['joint_2d']          = copy.deepcopy(np.array(joint_2ds[data_type]))\n",
    "    data_total[data_type]['joint_2d_from_canonical_3d'] = copy.deepcopy(np.array(joint_2d_from_canonical_3ds[data_type]))\n",
    "    data_total[data_type]['confidence']        = copy.deepcopy(np.array(confidences[data_type]))\n",
    "    data_total[data_type]['camera_name']       = copy.deepcopy(np.array(camera_names[data_type]))\n",
    "    data_total[data_type]['action']            = copy.deepcopy(np.array(actions[data_type]))\n",
    "    data_total[data_type]['source']            = copy.deepcopy(np.array(sources[data_type]))\n",
    "    data_total[data_type]['frame']             = copy.deepcopy(np.array(frames[data_type]))\n",
    "    data_total[data_type]['cam_3d']            = copy.deepcopy(np.array(cam_3ds[data_type]))\n",
    "    #data_total[data_type]['world_3d']          = copy.deepcopy(np.array(world_3ds[data_type]))\n",
    "    #data_total[data_type]['joint3d_image']     = copy.deepcopy(np.array(joint3d_images[data_type]))\n",
    "    data_total[data_type]['cam_3d_from_canonical_3d'] = copy.deepcopy(np.array(cam_3d_from_canonical_3ds[data_type]))\n",
    "    data_total[data_type]['cam_param']         = copy.deepcopy(np.array(cam_params[data_type]))\n",
    "\n",
    "\n",
    "if (len(data_total['train']['joint_2d']) == 0) or only_test:\n",
    "    for key in data_total['train'].keys():\n",
    "        data_total['train'][key] = copy.deepcopy(data_total['test'][key][:243])\n",
    "        print(key, data_total['train'][key].shape)\n",
    "        \n",
    "data_total['train']['joint_2d'].shape, data_total['test']['joint_2d'].shape  "
   ]
  },
  {
   "cell_type": "code",
   "execution_count": 11,
   "metadata": {},
   "outputs": [
    {
     "data": {
      "text/plain": [
       "((24888, 17, 2), (24888, 17, 1))"
      ]
     },
     "execution_count": 11,
     "metadata": {},
     "output_type": "execute_result"
    }
   ],
   "source": [
    "data_total['test']['joint_2d'].shape, data_total['test']['confidence'].shape  "
   ]
  },
  {
   "cell_type": "code",
   "execution_count": 12,
   "metadata": {},
   "outputs": [],
   "source": [
    "save_path = os.path.join('/home/hrai/codes/MotionBERT', f'data/motion3d/3dhp_gt_test_canonical_3d_from_fixed_dist_5_TS1_6.pkl')\n",
    "savepkl(data_total, save_path)"
   ]
  }
 ],
 "metadata": {
  "kernelspec": {
   "display_name": "motionbert",
   "language": "python",
   "name": "python3"
  },
  "language_info": {
   "codemirror_mode": {
    "name": "ipython",
    "version": 3
   },
   "file_extension": ".py",
   "mimetype": "text/x-python",
   "name": "python",
   "nbconvert_exporter": "python",
   "pygments_lexer": "ipython3",
   "version": "3.9.18"
  },
  "vscode": {
   "interpreter": {
    "hash": "a22adeb9c65037913f217d555eca4ee12416bb8cd04fc64921ca248554344da3"
   }
  }
 },
 "nbformat": 4,
 "nbformat_minor": 2
}
