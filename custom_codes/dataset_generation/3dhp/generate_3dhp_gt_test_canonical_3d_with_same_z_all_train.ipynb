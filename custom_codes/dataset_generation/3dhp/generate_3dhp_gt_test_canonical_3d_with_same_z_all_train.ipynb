{
 "cells": [
  {
   "cell_type": "code",
   "execution_count": 1,
   "metadata": {},
   "outputs": [],
   "source": [
    "%load_ext autoreload\n",
    "%autoreload 2\n",
    "%matplotlib widget\n",
    "import os, sys, getpass\n",
    "user = getpass.getuser()\n",
    "sys.path.append(f'/home/{user}/codes/hpe_library/')\n",
    "from hpe_library.lib_import import *\n",
    "from hpe_library. my_utils import *\n",
    "os.chdir('/home/hrai/codes/MotionBERT')"
   ]
  },
  {
   "cell_type": "code",
   "execution_count": 2,
   "metadata": {},
   "outputs": [
    {
     "name": "stderr",
     "output_type": "stream",
     "text": [
      "  0%|          | 0/224 [00:00<?, ?it/s]"
     ]
    },
    {
     "name": "stderr",
     "output_type": "stream",
     "text": [
      "100%|██████████| 224/224 [00:25<00:00,  8.62it/s]\n"
     ]
    },
    {
     "name": "stdout",
     "output_type": "stream",
     "text": [
      "joint_2d (243, 17, 2)\n",
      "joint_2d_from_canonical_3d (243, 17, 3)\n",
      "confidence (243, 17)\n",
      "camera_name (243,)\n",
      "action (243,)\n",
      "source (243,)\n",
      "frame (243,)\n",
      "cam_3d (243, 17, 3)\n",
      "cam_3d_from_canonical_3d (243, 17, 3)\n"
     ]
    },
    {
     "data": {
      "text/plain": [
       "((243, 17, 2), (967197, 17, 2))"
      ]
     },
     "execution_count": 2,
     "metadata": {},
     "output_type": "execute_result"
    }
   ],
   "source": [
    "joint_2ds = {'train': [], 'test': []}\n",
    "joint_2d_from_canonical_3ds = {'train': [], 'test': []}\n",
    "confidences = {'train': [], 'test': []}\n",
    "joint3d_images = {'train': [], 'test': []}\n",
    "#joints_25d_images = {'train': [], 'test': []}\n",
    "#_25d_factors = {'train': [], 'test': []}\n",
    "camera_names = {'train': [], 'test': []}\n",
    "actions = {'train': [], 'test': []}\n",
    "sources = {'train': [], 'test': []}\n",
    "frames = {'train': [], 'test': []}\n",
    "#world_3ds = {'train': [], 'test': []}\n",
    "cam_3ds = {'train': [], 'test': []}\n",
    "cam_3d_from_canonical_3d = {'train': [], 'test': []}\n",
    "cam_params = {'train': [], 'test': []}\n",
    "\n",
    "# target \n",
    "pkl_folder = '/home/hrai/codes/MotionBERT/data/motion3d/3dhp_gt_train_canonical_3d_same_z_pkl'\n",
    "test_subject = ['S1', 'S2', 'S3', 'S4', 'S5', 'S6', 'S7', 'S8']\n",
    "camera_list = ['cam0', 'cam1', 'cam2', 'cam4', 'cam5', 'cam6', 'cam7', 'cam8']\n",
    "only_test = True\n",
    "\n",
    "blacklist = []\n",
    "\n",
    "for item in tqdm(os.listdir(pkl_folder)):\n",
    "    #print(item)\n",
    "    subject, seq, cam_num = item.split('.')[0].split('_')\n",
    "    \n",
    "    # filtering\n",
    "    #if action not in action_list: continue \n",
    "    if cam_num not in camera_list: continue\n",
    "    if only_test:\n",
    "        if subject not in test_subject: continue\n",
    "    if subject in blacklist: continue\n",
    "    #print(subject, cam_num, action, phase) \n",
    "    \n",
    "    item_path = os.path.join(pkl_folder, item) \n",
    "    #print(item_path)\n",
    "    data = readpkl(item_path) \n",
    "    #print(data.keys())\n",
    "    if subject in test_subject: data_type = 'test' \n",
    "    else: data_type = 'train' \n",
    "    joint_2ds[data_type] += list(np.array(data['joint_2d'])) \n",
    "    joint_2d_from_canonical_3ds[data_type] += list(np.array(data['joint_2d_from_canonical_3d']))\n",
    "    confidences[data_type] += list(np.array(data['confidence'])) \n",
    "    camera_names[data_type] += list(data['camera_name'])\n",
    "    actions[data_type] += list(data['action'])\n",
    "    sources[data_type] += list(data['source'])\n",
    "    frames[data_type] += list(data['frame'])\n",
    "    cam_3ds[data_type] += list(np.array(data['cam_3d'])/1000.0) # mm to m\n",
    "    cam_3d_from_canonical_3d[data_type] += list(np.array(data['cam_3d_from_canonical_3d'])/1000.0) # mm to m\n",
    "    #print(cam_3ds[data_type][0])\n",
    "    \n",
    "data_total = {'train': {}, 'test': {}}\n",
    "\n",
    "for data_type in ['train', 'test']:\n",
    "    data_total[data_type]['joint_2d']          = copy.deepcopy(np.array(joint_2ds[data_type]))\n",
    "    data_total[data_type]['joint_2d_from_canonical_3d'] = copy.deepcopy(np.array(joint_2d_from_canonical_3ds[data_type]))\n",
    "    data_total[data_type]['confidence']        = copy.deepcopy(np.array(confidences[data_type]))\n",
    "    data_total[data_type]['camera_name']       = copy.deepcopy(np.array(camera_names[data_type]))\n",
    "    data_total[data_type]['action']            = copy.deepcopy(np.array(actions[data_type]))\n",
    "    data_total[data_type]['source']            = copy.deepcopy(np.array(sources[data_type]))\n",
    "    data_total[data_type]['frame']             = copy.deepcopy(np.array(frames[data_type]))\n",
    "    data_total[data_type]['cam_3d']            = copy.deepcopy(np.array(cam_3ds[data_type]))\n",
    "    data_total[data_type]['cam_3d_from_canonical_3d'] = copy.deepcopy(np.array(cam_3d_from_canonical_3d[data_type]))\n",
    "\n",
    "\n",
    "if (len(data_total['train']['joint_2d']) == 0) or only_test:\n",
    "    for key in data_total['train'].keys():\n",
    "        data_total['train'][key] = copy.deepcopy(data_total['test'][key][:243])\n",
    "        print(key, data_total['train'][key].shape)\n",
    "data_total['train']['joint_2d'].shape, data_total['test']['joint_2d'].shape  "
   ]
  },
  {
   "cell_type": "code",
   "execution_count": 4,
   "metadata": {},
   "outputs": [
    {
     "data": {
      "text/plain": [
       "((967197, 17, 3), (967197, 17))"
      ]
     },
     "execution_count": 4,
     "metadata": {},
     "output_type": "execute_result"
    }
   ],
   "source": [
    "data_total['test']['joint_2d_from_canonical_3d'].shape, data_total['test']['confidence'].shape  "
   ]
  },
  {
   "cell_type": "code",
   "execution_count": 3,
   "metadata": {},
   "outputs": [],
   "source": [
    "save_path = os.path.join('/home/hrai/codes/MotionBERT', f'data/motion3d/3dhp_gt_canonical_3d_same_z_test_all_train.pkl')\n",
    "savepkl(data_total, save_path)"
   ]
  },
  {
   "cell_type": "code",
   "execution_count": 3,
   "metadata": {},
   "outputs": [
    {
     "data": {
      "text/plain": [
       "array([], dtype=float64)"
      ]
     },
     "execution_count": 3,
     "metadata": {},
     "output_type": "execute_result"
    }
   ],
   "source": [
    "data_total[data_type]['cam_3d'] "
   ]
  }
 ],
 "metadata": {
  "kernelspec": {
   "display_name": "motionbert",
   "language": "python",
   "name": "python3"
  },
  "language_info": {
   "codemirror_mode": {
    "name": "ipython",
    "version": 3
   },
   "file_extension": ".py",
   "mimetype": "text/x-python",
   "name": "python",
   "nbconvert_exporter": "python",
   "pygments_lexer": "ipython3",
   "version": "3.9.18"
  },
  "vscode": {
   "interpreter": {
    "hash": "a22adeb9c65037913f217d555eca4ee12416bb8cd04fc64921ca248554344da3"
   }
  }
 },
 "nbformat": 4,
 "nbformat_minor": 2
}
