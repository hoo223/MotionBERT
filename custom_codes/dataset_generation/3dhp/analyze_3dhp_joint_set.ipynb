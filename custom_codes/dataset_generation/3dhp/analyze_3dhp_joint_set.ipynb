{
 "cells": [
  {
   "cell_type": "code",
   "execution_count": 2,
   "metadata": {},
   "outputs": [],
   "source": [
    "%load_ext autoreload\n",
    "%autoreload 2\n",
    "%matplotlib widget\n",
    "from common_import import *\n",
    "import prettytable"
   ]
  },
  {
   "cell_type": "code",
   "execution_count": 8,
   "metadata": {},
   "outputs": [
    {
     "name": "stdout",
     "output_type": "stream",
     "text": [
      "28 28 28\n",
      "+----------+----------------+----------------+----------------+\n",
      "| orig_idx |   joint_name   |   parent_o1    |   parent_o2    |\n",
      "+----------+----------------+----------------+----------------+\n",
      "|    0     |     spine3     |     spine2     |     spine      |\n",
      "|    1     |     spine4     |     spine3     |     spine2     |\n",
      "|    2     |     spine2     |     spine      |     pelvis     |\n",
      "|    3     |     spine      |     pelvis     |     pelvis     |\n",
      "|    4     |     pelvis     |     pelvis     |     pelvis     |\n",
      "|    5     |      neck      |     spine4     |     spine3     |\n",
      "|    6     |      head      |      neck      |     spine4     |\n",
      "|    7     |    head_top    |      head      |      neck      |\n",
      "|    8     | left_clavicle  |      neck      |     spine4     |\n",
      "|    9     | left_shoulder  | left_clavicle  |      neck      |\n",
      "|    10    |   left_elbow   | left_shoulder  | left_clavicle  |\n",
      "|    11    |   left_wrist   |   left_elbow   | left_shoulder  |\n",
      "|    12    |   left_hand    |   left_wrist   |   left_elbow   |\n",
      "|    13    | right_clavicle |      neck      |     spine4     |\n",
      "|    14    | right_shoulder | right_clavicle |      neck      |\n",
      "|    15    |  right_elbow   | right_shoulder | right_clavicle |\n",
      "|    16    |  right_wrist   |  right_elbow   | right_shoulder |\n",
      "|    17    |   right_hand   |  right_wrist   |  right_elbow   |\n",
      "|    18    |    left_hip    |     pelvis     |     spine      |\n",
      "|    19    |   left_knee    |    left_hip    |     pelvis     |\n",
      "|    20    |   left_ankle   |   left_knee    |    left_hip    |\n",
      "|    21    |   left_foot    |   left_ankle   |   left_knee    |\n",
      "|    22    |    left_toe    |   left_foot    |   left_ankle   |\n",
      "|    23    |   right_hip    |     pelvis     |     spine      |\n",
      "|    24    |   right_knee   |   right_hip    |     pelvis     |\n",
      "|    25    |  right_ankle   |   right_knee   |   right_hip    |\n",
      "|    26    |   right_foot   |  right_ankle   |   right_knee   |\n",
      "|    27    |   right_toe    |   right_foot   |  right_ankle   |\n",
      "+----------+----------------+----------------+----------------+\n"
     ]
    }
   ],
   "source": [
    "# original\n",
    "all_joint_names = ['spine3', 'spine4', 'spine2', 'spine', 'pelvis', #     %5       \n",
    "                   'neck', 'head', 'head_top', 'left_clavicle', 'left_shoulder', 'left_elbow', # %11\n",
    "                   'left_wrist', 'left_hand',  'right_clavicle', 'right_shoulder', 'right_elbow', 'right_wrist', # %17\n",
    "                   'right_hand', 'left_hip', 'left_knee', 'left_ankle', 'left_foot', 'left_toe', #        %23   \n",
    "                   'right_hip' , 'right_knee', 'right_ankle', 'right_foot', 'right_toe']\n",
    "\n",
    "joint_idx = [i for i in range(28)]              \n",
    "joint_parents_o1 = [3, 1, 4, 5, 5, 2, 6, 7, 6, 9, 10, 11, 12, 6, 14, 15, 16, 17, 5, 19, 20, 21, 22, 5, 24, 25, 26, 27] \n",
    "joint_parents_o2 = [4, 3, 5, 5, 5, 1, 2, 6, 2, 6, 9,  10, 11, 2, 6,  14, 15, 16, 4, 5,  19, 20, 21, 4, 5,  24, 25, 26]\n",
    "print(len(joint_idx), len(joint_parents_o1), len(joint_parents_o2))\n",
    "\n",
    "table = prettytable.PrettyTable()\n",
    "table.field_names = ['orig_idx', 'joint_name', 'parent_o1', 'parent_o2']\n",
    "\n",
    "for idx in joint_idx:\n",
    "    table.add_row([idx, all_joint_names[idx], all_joint_names[joint_parents_o1[idx]-1], all_joint_names[joint_parents_o2[idx]-1]])\n",
    "print(table)"
   ]
  },
  {
   "cell_type": "code",
   "execution_count": 9,
   "metadata": {},
   "outputs": [
    {
     "name": "stdout",
     "output_type": "stream",
     "text": [
      "17 17 17\n",
      "head_top\n",
      "neck\n",
      "right_shoulder\n",
      "right_elbow\n",
      "right_wrist\n",
      "left_shoulder\n",
      "left_elbow\n",
      "left_wrist\n",
      "right_hip\n",
      "right_knee\n",
      "right_ankle\n",
      "left_hip\n",
      "left_knee\n",
      "left_ankle\n",
      "pelvis\n",
      "spine\n",
      "head\n",
      "+-----+----------+----------------+----------------+----------------+\n",
      "| idx | orig_idx |   joint_name   |   parent_o1    |   parent_o2    |\n",
      "+-----+----------+----------------+----------------+----------------+\n",
      "|  0  |    8     |    head_top    |      neck      |     spine      |\n",
      "|  1  |    6     |      neck      |     spine      |     pelvis     |\n",
      "|  2  |    15    | right_shoulder |      neck      |     spine      |\n",
      "|  3  |    16    |  right_elbow   | right_shoulder |      neck      |\n",
      "|  4  |    17    |  right_wrist   |  right_elbow   | right_shoulder |\n",
      "|  5  |    10    | left_shoulder  |      neck      |     spine      |\n",
      "|  6  |    11    |   left_elbow   | left_shoulder  |      neck      |\n",
      "|  7  |    12    |   left_wrist   |   left_elbow   | left_shoulder  |\n",
      "|  8  |    24    |   right_hip    |     pelvis     |     spine      |\n",
      "|  9  |    25    |   right_knee   |   right_hip    |     pelvis     |\n",
      "|  10 |    26    |  right_ankle   |   right_knee   |   right_hip    |\n",
      "|  11 |    19    |    left_hip    |     pelvis     |     spine      |\n",
      "|  12 |    20    |   left_knee    |    left_hip    |     pelvis     |\n",
      "|  13 |    21    |   left_ankle   |   left_knee    |    left_hip    |\n",
      "|  14 |    5     |     pelvis     |     pelvis     |     pelvis     |\n",
      "|  15 |    4     |     spine      |     pelvis     |     pelvis     |\n",
      "|  16 |    7     |      head      |      neck      |     spine      |\n",
      "+-----+----------+----------------+----------------+----------------+\n"
     ]
    }
   ],
   "source": [
    "# h36m\n",
    "joint_idx = [8, 6, 15, 16, 17, 10, 11, 12, 24, 25, 26, 19, 20, 21, 5, 4, 7]\n",
    "joint_parents_o1 = [2, 16, 2, 3, 4, 2, 6, 7, 15, 9, 10, 15, 12, 13, 15, 15, 2]\n",
    "joint_parents_o2 = [16, 15, 16, 2, 3, 16, 2, 6, 16, 15, 9, 16, 15, 12, 15, 15, 16]\n",
    "\n",
    "print(len(joint_idx), len(joint_parents_o1), len(joint_parents_o2))\n",
    "\n",
    "table = prettytable.PrettyTable()\n",
    "table.field_names = ['idx', 'orig_idx', 'joint_name', 'parent_o1', 'parent_o2']\n",
    "\n",
    "for i, idx in enumerate(joint_idx):\n",
    "    print(all_joint_names[idx-1])\n",
    "    parents_o1_idx = joint_idx[joint_parents_o1[i]-1]\n",
    "    parents_o2_idx = joint_idx[joint_parents_o2[i]-1]\n",
    "    table.add_row([i, idx, all_joint_names[idx-1], all_joint_names[parents_o1_idx-1], all_joint_names[parents_o2_idx-1]])\n",
    "print(table)"
   ]
  },
  {
   "cell_type": "code",
   "execution_count": null,
   "metadata": {},
   "outputs": [],
   "source": []
  }
 ],
 "metadata": {
  "kernelspec": {
   "display_name": "motionbert",
   "language": "python",
   "name": "python3"
  },
  "language_info": {
   "codemirror_mode": {
    "name": "ipython",
    "version": 3
   },
   "file_extension": ".py",
   "mimetype": "text/x-python",
   "name": "python",
   "nbconvert_exporter": "python",
   "pygments_lexer": "ipython3",
   "version": "3.9.18"
  },
  "vscode": {
   "interpreter": {
    "hash": "a22adeb9c65037913f217d555eca4ee12416bb8cd04fc64921ca248554344da3"
   }
  }
 },
 "nbformat": 4,
 "nbformat_minor": 2
}
