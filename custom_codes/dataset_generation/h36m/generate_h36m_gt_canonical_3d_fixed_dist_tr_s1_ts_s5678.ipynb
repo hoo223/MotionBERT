{
 "cells": [
  {
   "cell_type": "code",
   "execution_count": 1,
   "metadata": {},
   "outputs": [],
   "source": [
    "%load_ext autoreload\n",
    "%autoreload 2\n",
    "%matplotlib widget\n",
    "import os, sys, getpass\n",
    "user = getpass.getuser()\n",
    "sys.path.append(f'/home/{user}/codes/hpe_library/')\n",
    "from hpe_library.lib_import import *\n",
    "from hpe_library. my_utils import *\n",
    "os.chdir('/home/hrai/codes/MotionBERT')"
   ]
  },
  {
   "cell_type": "markdown",
   "metadata": {},
   "source": [
    "### train S1, test S5, S6, S7, S8"
   ]
  },
  {
   "cell_type": "code",
   "execution_count": 2,
   "metadata": {},
   "outputs": [
    {
     "name": "stderr",
     "output_type": "stream",
     "text": [
      "  0%|          | 0/836 [00:00<?, ?it/s]"
     ]
    },
    {
     "name": "stderr",
     "output_type": "stream",
     "text": [
      "100%|██████████| 836/836 [00:50<00:00, 16.53it/s]\n"
     ]
    },
    {
     "data": {
      "text/plain": [
       "((248376, 17, 2), (1311376, 17, 2))"
      ]
     },
     "execution_count": 2,
     "metadata": {},
     "output_type": "execute_result"
    }
   ],
   "source": [
    "joint_2ds = {'train': [], 'test': []}\n",
    "confidences = {'train': [], 'test': []}\n",
    "joint3d_images = {'train': [], 'test': []}\n",
    "joints_25d_images = {'train': [], 'test': []}\n",
    "_25d_factors = {'train': [], 'test': []}\n",
    "camera_names = {'train': [], 'test': []}\n",
    "actions = {'train': [], 'test': []}\n",
    "sources = {'train': [], 'test': []}\n",
    "frames = {'train': [], 'test': []}\n",
    "world_3ds = {'train': [], 'test': []}\n",
    "cam_3ds = {'train': [], 'test': []}\n",
    "cam_params = {'train': [], 'test': []}\n",
    "\n",
    "# target \n",
    "pkl_folder = '/home/hrai/codes/MotionBERT/data/motion3d/h36m_gt_pkl_canonical_3d_fixed_dist'\n",
    "#action_list = ['squat', 'pushup', 'kneeup', 'benchpress', 'burpee', 'cat', 'yoga']\n",
    "test_subject = ['S5', 'S6', 'S7', 'S8']\n",
    "#camera_list = [1, 2, 3, 4]\n",
    "# pelvis, r_hip, l_hip, torso, neck, l_shoulder, r_shoulder = 0, 1, 4, 7, 8, 11, 14\n",
    "# r_knee, r_ankle, l_knee, l_ankle = 2, 3, 5, 6\n",
    "# l_elbow, l_wrist, r_elbow, r_wrist = 12, 13, 15, 16\n",
    "# joint_list = [j for j in range(17)] # [r_knee, r_ankle, l_knee, l_ankle, l_elbow, l_wrist, r_elbow, r_wrist] # [j for j in range(17)]\n",
    "only_test = False\n",
    "\n",
    "blacklist = ['S9', 'S11']\n",
    "\n",
    "for item in tqdm(os.listdir(pkl_folder)):\n",
    "    subject, cam_num, action = item.split('.')[0].split('_') \n",
    "    \n",
    "    # filtering\n",
    "    #if action not in action_list: continue \n",
    "    #if int(cam_num) not in camera_list: continue\n",
    "    if only_test:\n",
    "        if subject not in test_subject: continue\n",
    "    if subject in blacklist: continue\n",
    "    #print(subject, cam_num, action, phase) \n",
    "    \n",
    "    item_path = os.path.join(pkl_folder, item) \n",
    "    data = readpkl(item_path) \n",
    "    if subject in test_subject: data_type = 'test' \n",
    "    else: data_type = 'train' \n",
    "\n",
    "    joint_2ds[data_type] += list(np.array(data['joint_2d'])) \n",
    "    confidences[data_type] += list(np.array(data['confidence'])) \n",
    "    #joint3d_images[data_type] += list(np.array(data['joint3d_image'])) \n",
    "    #joints_25d_images[data_type] += list(np.array(data['joints_2.5d_image'])) \n",
    "    #_25d_factors[data_type] += data['2.5d_factor'] \n",
    "    camera_names[data_type] += data['camera_name']  \n",
    "    actions[data_type] += data['action'] \n",
    "    sources[data_type] += data['source'] \n",
    "    frames[data_type] += data['frame'] \n",
    "    world_3ds[data_type] += list(np.array(data['world_3d'])) \n",
    "    cam_3ds[data_type] += list(np.array(data['cam_3d'])/1000.0) # mm to m\n",
    "    cam_params[data_type] += data['cam_param'] \n",
    "    \n",
    "data_total = {'train': {}, 'test': {}}\n",
    "\n",
    "for data_type in ['train', 'test']:\n",
    "    data_total[data_type]['joint_2d']          = copy.deepcopy(np.array(joint_2ds[data_type]))\n",
    "    data_total[data_type]['confidence']        = copy.deepcopy(np.array(confidences[data_type]))\n",
    "    data_total[data_type]['joint3d_image']     = copy.deepcopy(np.array(joint3d_images[data_type]))\n",
    "    data_total[data_type]['joints_2.5d_image'] = copy.deepcopy(np.array(joints_25d_images[data_type]))\n",
    "    data_total[data_type]['2.5d_factor']       = copy.deepcopy(np.array(_25d_factors[data_type]))\n",
    "    data_total[data_type]['camera_name']       = copy.deepcopy(np.array(camera_names[data_type]))\n",
    "    data_total[data_type]['action']            = copy.deepcopy(np.array(actions[data_type]))\n",
    "    data_total[data_type]['source']            = copy.deepcopy(np.array(sources[data_type]))\n",
    "    data_total[data_type]['frame']             = copy.deepcopy(np.array(frames[data_type]))\n",
    "    data_total[data_type]['world_3d']          = copy.deepcopy(np.array(world_3ds[data_type]))\n",
    "    data_total[data_type]['cam_3d']            = copy.deepcopy(np.array(cam_3ds[data_type]))\n",
    "    data_total[data_type]['cam_param']         = copy.deepcopy(np.array(cam_params[data_type]))\n",
    "    \n",
    "if len(data_total['train']['joint_2d']) == 0:\n",
    "    data_total['train'] = copy.deepcopy(data_total['test'])\n",
    "\n",
    "data_total['train']['joint_2d'].shape, data_total['test']['joint_2d'].shape  "
   ]
  },
  {
   "cell_type": "code",
   "execution_count": 3,
   "metadata": {},
   "outputs": [],
   "source": [
    "save_path = os.path.join('/home/hrai/codes/MotionBERT', f'data/motion3d/h36m_gt_canonical_3d_fixed_dist_tr_s1_ts_s5678.pkl')\n",
    "savepkl(data_total, save_path)"
   ]
  }
 ],
 "metadata": {
  "kernelspec": {
   "display_name": "motionbert",
   "language": "python",
   "name": "python3"
  },
  "language_info": {
   "codemirror_mode": {
    "name": "ipython",
    "version": 3
   },
   "file_extension": ".py",
   "mimetype": "text/x-python",
   "name": "python",
   "nbconvert_exporter": "python",
   "pygments_lexer": "ipython3",
   "version": "3.9.18"
  },
  "vscode": {
   "interpreter": {
    "hash": "a22adeb9c65037913f217d555eca4ee12416bb8cd04fc64921ca248554344da3"
   }
  }
 },
 "nbformat": 4,
 "nbformat_minor": 2
}
