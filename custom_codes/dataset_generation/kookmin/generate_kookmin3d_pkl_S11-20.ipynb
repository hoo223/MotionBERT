{
 "cells": [
  {
   "cell_type": "markdown",
   "metadata": {},
   "source": [
    "데이터 전처리 과정 분석\n",
    "\n",
    "convert_h36m.py 코드를 통해 h36m_sh_conf_cam_source_final.pkl 파일로부터 clip들을 나누어 data/motion3d/MB3D_f243s81/H36M-SH 폴더에 저장함\n",
    "그 과정에서 전처리 과정을 거쳐 원본 파일과 새로 생성된 파일의 값이 달라짐 -> 이 부분을 이해해야 AI Hub 데이터를 동일한 형식으로 만들어 훈련시킬 수 있음"
   ]
  },
  {
   "cell_type": "code",
   "execution_count": 15,
   "metadata": {},
   "outputs": [
    {
     "name": "stdout",
     "output_type": "stream",
     "text": [
      "The autoreload extension is already loaded. To reload it, use:\n",
      "  %reload_ext autoreload\n"
     ]
    },
    {
     "data": {
      "text/plain": [
       "('/home/hrai/codes/AlphaPose',\n",
       " '/home/hrai/codes/MotionBERT',\n",
       " '/home/hrai/Datasets/HAAI/국민대데이터/data',\n",
       " '/home/hrai/codes/AlphaPose/examples/kookmin_result2')"
      ]
     },
     "execution_count": 15,
     "metadata": {},
     "output_type": "execute_result"
    }
   ],
   "source": [
    "%load_ext autoreload\n",
    "%autoreload 2\n",
    "%matplotlib widget\n",
    "\n",
    "import os\n",
    "os.chdir('/home/hrai/codes/hpe_library')\n",
    "from lib_import import *\n",
    "from my_utils import *\n",
    "\n",
    "# 주요 디렉토리 경로\n",
    "user = getpass.getuser()\n",
    "alphapose_root = '/home/{}/codes/AlphaPose'.format(user)\n",
    "motionbert_root = '/home/{}/codes/MotionBERT'.format(user)\n",
    "kookmin_root = '/home/{}/Datasets/HAAI/국민대데이터/data'.format(user)\n",
    "ap_kookmin_result_root = alphapose_root + \"/examples/kookmin_result2\"\n",
    "\n",
    "assert os.path.isdir(alphapose_root), \"AlphaPose root directory is not exist\"\n",
    "assert os.path.isdir(motionbert_root), \"MotionBERT root directory is not exist\"\n",
    "assert os.path.isdir(kookmin_root), \"Kookmin root directory is not exist\"\n",
    "assert os.path.isdir(ap_kookmin_result_root), \"AlphaPose Kookmin result directory is not exist\"\n",
    "\n",
    "alphapose_root, motionbert_root, kookmin_root, ap_kookmin_result_root"
   ]
  },
  {
   "cell_type": "markdown",
   "metadata": {},
   "source": [
    "### Generate pkl for each video"
   ]
  },
  {
   "cell_type": "code",
   "execution_count": 17,
   "metadata": {},
   "outputs": [],
   "source": [
    "root_folder = '/home/hrai/Datasets/HAAI/국민대데이터/'\n",
    "subject_list = ['S11', 'S12', 'S13', 'S14', 'S15', 'S16', 'S17', 'S18', 'S19', 'S20']\n",
    "action_list = ['squat', 'pushup', 'kneeup', 'benchpress', 'burpee', 'cat', 'yoga']\n",
    "phase_list = ['']\n",
    "save_folder = '/home/hrai/codes/MotionBERT/data/motion3d/kookmin_pkl_with_kookmin_setting2'\n",
    "if not os.path.exists(save_folder): os.makedirs(save_folder)\n",
    "interpolate_spine = False\n",
    "if interpolate_spine:\n",
    "    necessary_joints = [ 0, 1, 3, 4, 5, 6, 7, 8, 13, 14, 15, 16, 17, 18, 19, 20] \n",
    "else:\n",
    "    necessary_joints = [ 0, 1, 2, 3, 4, 5, 6, 7, 8, 13, 14, 15, 16, 17, 18, 19, 20] \n",
    "\n",
    "lbot = get_lbot(2)\n",
    "cam_param = readpkl('/home/hrai/Datasets/HAAI/국민대데이터/camera_parameter_estimation/' + 'cam_param2.pkl')"
   ]
  },
  {
   "cell_type": "code",
   "execution_count": 18,
   "metadata": {},
   "outputs": [
    {
     "name": "stdout",
     "output_type": "stream",
     "text": [
      "S11 squat \n",
      "1186\n"
     ]
    },
    {
     "name": "stderr",
     "output_type": "stream",
     "text": [
      "100%|██████████| 1186/1186 [00:02<00:00, 563.37it/s]\n",
      "100%|██████████| 1186/1186 [00:01<00:00, 700.95it/s]\n",
      "100%|██████████| 1186/1186 [00:01<00:00, 599.14it/s]\n",
      "100%|██████████| 1186/1186 [00:02<00:00, 516.15it/s]\n",
      "100%|██████████| 1186/1186 [00:02<00:00, 514.86it/s]\n"
     ]
    },
    {
     "name": "stdout",
     "output_type": "stream",
     "text": [
      "----------------\n",
      "S11 pushup \n",
      "1398\n"
     ]
    },
    {
     "name": "stderr",
     "output_type": "stream",
     "text": [
      "100%|██████████| 1398/1398 [00:03<00:00, 444.65it/s]\n",
      " 33%|███▎      | 466/1398 [00:01<00:02, 417.85it/s]\n"
     ]
    },
    {
     "ename": "KeyboardInterrupt",
     "evalue": "",
     "output_type": "error",
     "traceback": [
      "\u001b[0;31m---------------------------------------------------------------------------\u001b[0m",
      "\u001b[0;31mKeyboardInterrupt\u001b[0m                         Traceback (most recent call last)",
      "Cell \u001b[0;32mIn[18], line 29\u001b[0m\n\u001b[1;32m     24\u001b[0m             H, W, R, t, C, calibration_matrix, image \u001b[39m=\u001b[39m get_cam_param_kookmin(cam_param, subject, camera_id, action)\n\u001b[1;32m     25\u001b[0m             camera_param \u001b[39m=\u001b[39m {\n\u001b[1;32m     26\u001b[0m                 \u001b[39m'\u001b[39m\u001b[39mintrinsic\u001b[39m\u001b[39m'\u001b[39m: calibration_matrix,\n\u001b[1;32m     27\u001b[0m                 \u001b[39m'\u001b[39m\u001b[39mextrinsic\u001b[39m\u001b[39m'\u001b[39m: np\u001b[39m.\u001b[39mconcatenate([R, t\u001b[39m.\u001b[39mreshape(\u001b[39m3\u001b[39m, \u001b[39m1\u001b[39m)], axis\u001b[39m=\u001b[39m\u001b[39m1\u001b[39m),\n\u001b[1;32m     28\u001b[0m             }\n\u001b[0;32m---> 29\u001b[0m             generate_kookmin_pkl_for_each_video(pose3d_list\u001b[39m=\u001b[39;49mpose3d_list_h36m\u001b[39m.\u001b[39;49mcopy(), \n\u001b[1;32m     30\u001b[0m                                                 available_frames\u001b[39m=\u001b[39;49mavailable_frames\u001b[39m.\u001b[39;49mcopy(), \n\u001b[1;32m     31\u001b[0m                                                 subject\u001b[39m=\u001b[39;49msubject, \n\u001b[1;32m     32\u001b[0m                                                 camera_id\u001b[39m=\u001b[39;49mcamera_id, \n\u001b[1;32m     33\u001b[0m                                                 action\u001b[39m=\u001b[39;49maction, \n\u001b[1;32m     34\u001b[0m                                                 phase\u001b[39m=\u001b[39;49mphase, \n\u001b[1;32m     35\u001b[0m                                                 camera_param\u001b[39m=\u001b[39;49mcamera_param\u001b[39m.\u001b[39;49mcopy(), \n\u001b[1;32m     36\u001b[0m                                                 save_folder\u001b[39m=\u001b[39;49msave_folder, \n\u001b[1;32m     37\u001b[0m                                                 trans\u001b[39m=\u001b[39;49m\u001b[39mNone\u001b[39;49;00m, \n\u001b[1;32m     38\u001b[0m                                                 rot\u001b[39m=\u001b[39;49m\u001b[39mNone\u001b[39;49;00m, \n\u001b[1;32m     39\u001b[0m                                                 centered_root\u001b[39m=\u001b[39;49m\u001b[39mFalse\u001b[39;49;00m, \u001b[39m# True: root joint을 (0, 0, 0)으로 이동, False: 원래 위치\u001b[39;49;00m\n\u001b[1;32m     40\u001b[0m                                                 overwrite\u001b[39m=\u001b[39;49m\u001b[39mTrue\u001b[39;49;00m)\n\u001b[1;32m     42\u001b[0m         \u001b[39mprint\u001b[39m(\u001b[39m\"\u001b[39m\u001b[39m----------------\u001b[39m\u001b[39m\"\u001b[39m)\n\u001b[1;32m     43\u001b[0m     \u001b[39m#break\u001b[39;00m\n\u001b[1;32m     44\u001b[0m \u001b[39m#break\u001b[39;00m\n",
      "File \u001b[0;32m~/codes/PoseAdaptor/my_utils/kookmin_dataset.py:204\u001b[0m, in \u001b[0;36mgenerate_kookmin_pkl_for_each_video\u001b[0;34m(pose3d_list, available_frames, subject, camera_id, action, phase, camera_param, save_folder, trans, rot, centered_root, overwrite)\u001b[0m\n\u001b[1;32m    201\u001b[0m img_3d_hat \u001b[39m=\u001b[39m get_rootrel_pose(img_3d) \u001b[39m# (17, 3) # root-relative pose \u001b[39;00m\n\u001b[1;32m    203\u001b[0m \u001b[39m# 2.5d factor\u001b[39;00m\n\u001b[0;32m--> 204\u001b[0m pred_lambda, losses \u001b[39m=\u001b[39m optimize_scaling_factor(img_3d_hat, cam_3d_hat, stop_tolerance\u001b[39m=\u001b[39;49m\u001b[39m0.0001\u001b[39;49m) \u001b[39m# x,y,z 사용\u001b[39;00m\n\u001b[1;32m    205\u001b[0m \u001b[39m#print('losses:', losses)\u001b[39;00m\n\u001b[1;32m    206\u001b[0m \n\u001b[1;32m    207\u001b[0m \u001b[39m# joint 2.5d image\u001b[39;00m\n\u001b[1;32m    208\u001b[0m img_25d \u001b[39m=\u001b[39m img_3d \u001b[39m*\u001b[39m pred_lambda\n",
      "File \u001b[0;32m~/codes/PoseAdaptor/my_utils/test_utils.py:1174\u001b[0m, in \u001b[0;36moptimize_scaling_factor\u001b[0;34m(cam_cs_hat, img_cs_hat, epochs, learningRate, stop_tolerance)\u001b[0m\n\u001b[1;32m   1171\u001b[0m     loss\u001b[39m.\u001b[39mbackward()\n\u001b[1;32m   1173\u001b[0m     \u001b[39m# update parameters\u001b[39;00m\n\u001b[0;32m-> 1174\u001b[0m     optimizer\u001b[39m.\u001b[39;49mstep()\n\u001b[1;32m   1176\u001b[0m     \u001b[39m#weights.append(model.linear.weight.data.item())\u001b[39;00m\n\u001b[1;32m   1177\u001b[0m \n\u001b[1;32m   1178\u001b[0m     \u001b[39m#print('epoch {}, loss {}'.format(epoch, loss.item()))\u001b[39;00m\n\u001b[1;32m   1179\u001b[0m \u001b[39mreturn\u001b[39;00m model\u001b[39m.\u001b[39mlinear\u001b[39m.\u001b[39mweight\u001b[39m.\u001b[39mdata\u001b[39m.\u001b[39mitem(), losses\n",
      "File \u001b[0;32m~/Anaconda3/envs/motionbert/lib/python3.9/site-packages/torch/optim/optimizer.py:113\u001b[0m, in \u001b[0;36mOptimizer._hook_for_profile.<locals>.profile_hook_step.<locals>.wrapper\u001b[0;34m(*args, **kwargs)\u001b[0m\n\u001b[1;32m    111\u001b[0m profile_name \u001b[39m=\u001b[39m \u001b[39m\"\u001b[39m\u001b[39mOptimizer.step#\u001b[39m\u001b[39m{}\u001b[39;00m\u001b[39m.step\u001b[39m\u001b[39m\"\u001b[39m\u001b[39m.\u001b[39mformat(obj\u001b[39m.\u001b[39m\u001b[39m__class__\u001b[39m\u001b[39m.\u001b[39m\u001b[39m__name__\u001b[39m)\n\u001b[1;32m    112\u001b[0m \u001b[39mwith\u001b[39;00m torch\u001b[39m.\u001b[39mautograd\u001b[39m.\u001b[39mprofiler\u001b[39m.\u001b[39mrecord_function(profile_name):\n\u001b[0;32m--> 113\u001b[0m     \u001b[39mreturn\u001b[39;00m func(\u001b[39m*\u001b[39;49margs, \u001b[39m*\u001b[39;49m\u001b[39m*\u001b[39;49mkwargs)\n",
      "File \u001b[0;32m~/Anaconda3/envs/motionbert/lib/python3.9/site-packages/torch/autograd/grad_mode.py:27\u001b[0m, in \u001b[0;36m_DecoratorContextManager.__call__.<locals>.decorate_context\u001b[0;34m(*args, **kwargs)\u001b[0m\n\u001b[1;32m     24\u001b[0m \u001b[39m@functools\u001b[39m\u001b[39m.\u001b[39mwraps(func)\n\u001b[1;32m     25\u001b[0m \u001b[39mdef\u001b[39;00m \u001b[39mdecorate_context\u001b[39m(\u001b[39m*\u001b[39margs, \u001b[39m*\u001b[39m\u001b[39m*\u001b[39mkwargs):\n\u001b[1;32m     26\u001b[0m     \u001b[39mwith\u001b[39;00m \u001b[39mself\u001b[39m\u001b[39m.\u001b[39mclone():\n\u001b[0;32m---> 27\u001b[0m         \u001b[39mreturn\u001b[39;00m func(\u001b[39m*\u001b[39;49margs, \u001b[39m*\u001b[39;49m\u001b[39m*\u001b[39;49mkwargs)\n",
      "File \u001b[0;32m~/Anaconda3/envs/motionbert/lib/python3.9/site-packages/torch/optim/sgd.py:134\u001b[0m, in \u001b[0;36mSGD.step\u001b[0;34m(self, closure)\u001b[0m\n\u001b[1;32m    131\u001b[0m has_sparse_grad \u001b[39m=\u001b[39m \u001b[39mFalse\u001b[39;00m\n\u001b[1;32m    133\u001b[0m \u001b[39mfor\u001b[39;00m p \u001b[39min\u001b[39;00m group[\u001b[39m'\u001b[39m\u001b[39mparams\u001b[39m\u001b[39m'\u001b[39m]:\n\u001b[0;32m--> 134\u001b[0m     \u001b[39mif\u001b[39;00m p\u001b[39m.\u001b[39;49mgrad \u001b[39mis\u001b[39;00m \u001b[39mnot\u001b[39;00m \u001b[39mNone\u001b[39;00m:\n\u001b[1;32m    135\u001b[0m         params_with_grad\u001b[39m.\u001b[39mappend(p)\n\u001b[1;32m    136\u001b[0m         d_p_list\u001b[39m.\u001b[39mappend(p\u001b[39m.\u001b[39mgrad)\n",
      "File \u001b[0;32m~/Anaconda3/envs/motionbert/lib/python3.9/site-packages/torch/_tensor.py:1071\u001b[0m, in \u001b[0;36mTensor.grad\u001b[0;34m(self)\u001b[0m\n\u001b[1;32m   1068\u001b[0m     \u001b[39melse\u001b[39;00m:\n\u001b[1;32m   1069\u001b[0m         \u001b[39mreturn\u001b[39;00m \u001b[39msuper\u001b[39m(Tensor, \u001b[39mself\u001b[39m)\u001b[39m.\u001b[39mrename(names)\n\u001b[0;32m-> 1071\u001b[0m \u001b[39m@property\u001b[39m\n\u001b[1;32m   1072\u001b[0m \u001b[39mdef\u001b[39;00m \u001b[39mgrad\u001b[39m(\u001b[39mself\u001b[39m):\n\u001b[1;32m   1073\u001b[0m \u001b[39m    \u001b[39m\u001b[39m\"\"\"\u001b[39;00m\n\u001b[1;32m   1074\u001b[0m \u001b[39m    This attribute is ``None`` by default and becomes a Tensor the first time a call to\u001b[39;00m\n\u001b[1;32m   1075\u001b[0m \u001b[39m    :func:`backward` computes gradients for ``self``.\u001b[39;00m\n\u001b[1;32m   1076\u001b[0m \u001b[39m    The attribute will then contain the gradients computed and future calls to\u001b[39;00m\n\u001b[1;32m   1077\u001b[0m \u001b[39m    :func:`backward` will accumulate (add) gradients into it.\u001b[39;00m\n\u001b[1;32m   1078\u001b[0m \u001b[39m    \"\"\"\u001b[39;00m\n\u001b[1;32m   1079\u001b[0m     \u001b[39mif\u001b[39;00m has_torch_function_unary(\u001b[39mself\u001b[39m):\n\u001b[1;32m   1080\u001b[0m         \u001b[39m# TODO mypy doesn't support @property, see: https://github.com/python/mypy/issues/6185\u001b[39;00m\n",
      "\u001b[0;31mKeyboardInterrupt\u001b[0m: "
     ]
    }
   ],
   "source": [
    "for subject in subject_list:\n",
    "    for phase in phase_list:\n",
    "        for action in action_list:\n",
    "            # load vicon data\n",
    "            file_path = os.path.join(root_folder, 'data', 'gist data', '{}/{}_{}.csv'.format(subject, subject, action))\n",
    "            if not os.path.exists(file_path):\n",
    "                print(file_path, \"no csv file\")\n",
    "                continue\n",
    "            else:\n",
    "                #print(file_path, 'exists')\n",
    "                print(subject, action, phase)\n",
    "            pose3d_list, attribute_list = load_pose3d_kookmin(subject, action, phase, lbot, h36m=False, with_nose=True)  \n",
    "            \n",
    "            # check available frames\n",
    "            available_frames, num_frames = check_available_frame(pose3d_list, necessary_joints, interpolate_spine)\n",
    "            print( num_frames)\n",
    "            if available_frames is None: continue\n",
    "            \n",
    "            # convert to h36m\n",
    "            pose3d_list_h36m = kookmin2h36m_with_nose(pose3d_list)\n",
    "\n",
    "            # generate pkl \n",
    "            for camera_id in [1, 2, 3, 4, 5]:\n",
    "                H, W, R, t, C, calibration_matrix, image = get_cam_param_kookmin(cam_param, subject, camera_id, action)\n",
    "                camera_param = {\n",
    "                    'intrinsic': calibration_matrix,\n",
    "                    'extrinsic': np.concatenate([R, t.reshape(3, 1)], axis=1),\n",
    "                }\n",
    "                generate_kookmin_pkl_for_each_video(pose3d_list=pose3d_list_h36m.copy(), \n",
    "                                                    available_frames=available_frames.copy(), \n",
    "                                                    subject=subject, \n",
    "                                                    camera_id=camera_id, \n",
    "                                                    action=action, \n",
    "                                                    phase=phase, \n",
    "                                                    camera_param=camera_param.copy(), \n",
    "                                                    save_folder=save_folder, \n",
    "                                                    trans=None, \n",
    "                                                    rot=None, \n",
    "                                                    centered_root=False, # True: root joint을 (0, 0, 0)으로 이동, False: 원래 위치\n",
    "                                                    overwrite=True)\n",
    "        \n",
    "            print(\"----------------\")\n",
    "        #break\n",
    "    #break"
   ]
  },
  {
   "cell_type": "markdown",
   "metadata": {},
   "source": [
    "### Generate total pkl file"
   ]
  },
  {
   "cell_type": "code",
   "execution_count": 2,
   "metadata": {},
   "outputs": [],
   "source": [
    "test1 = ['S12', 'S15', 'S18']\n",
    "test2 = ['S18', 'S16', 'S19']\n",
    "test3 = ['S14', 'S13', 'S19']\n",
    "test4 = ['S11', 'S12', 'S20']\n",
    "test5 = ['S17', 'S18', 'S11']\n",
    "\n",
    "test1_name = 's0258'\n",
    "test2_name = 's0689'\n",
    "test3_name = 's0349'\n",
    "test4_name = 's1210'\n",
    "test5_name = 's0178'"
   ]
  },
  {
   "cell_type": "code",
   "execution_count": 13,
   "metadata": {},
   "outputs": [
    {
     "data": {
      "text/plain": [
       "((357180, 17, 3), (156020, 17, 3))"
      ]
     },
     "execution_count": 13,
     "metadata": {},
     "output_type": "execute_result"
    }
   ],
   "source": [
    "joint_2ds = {'train': [], 'test': []}\n",
    "confidences = {'train': [], 'test': []}\n",
    "joint3d_images = {'train': [], 'test': []}\n",
    "joints_25d_images = {'train': [], 'test': []}\n",
    "_25d_factors = {'train': [], 'test': []}\n",
    "camera_names = {'train': [], 'test': []}\n",
    "actions = {'train': [], 'test': []}\n",
    "sources = {'train': [], 'test': []}\n",
    "frames = {'train': [], 'test': []}\n",
    "world_3ds = {'train': [], 'test': []}\n",
    "cam_3ds = {'train': [], 'test': []}\n",
    "cam_params = {'train': [], 'test': []}\n",
    "\n",
    "# target \n",
    "pkl_folder = '/home/hrai/codes/MotionBERT/data/motion3d/kookmin_pkl_with_kookmin_setting2'\n",
    "action_list = ['squat', 'pushup', 'kneeup', 'benchpress', 'burpee', 'cat', 'yoga']\n",
    "test_subject = test5\n",
    "camera_list = [1, 2, 3, 4, 5] # [1, 2, 3, 4, 5]\n",
    "pelvis, r_hip, l_hip, torso, neck, l_shoulder, r_shoulder = 0, 1, 4, 7, 8, 11, 14\n",
    "r_knee, r_ankle, l_knee, l_ankle = 2, 3, 5, 6\n",
    "l_elbow, l_wrist, r_elbow, r_wrist = 12, 13, 15, 16\n",
    "joint_list = [j for j in range(17)] # [r_knee, r_ankle, l_knee, l_ankle, l_elbow, l_wrist, r_elbow, r_wrist] # [j for j in range(17)]\n",
    "only_test = False\n",
    "\n",
    "blacklist = []\n",
    "\n",
    "for item in os.listdir(pkl_folder):\n",
    "    subject, cam_num, action = item.split('.')[0].split('_') \n",
    "    \n",
    "    # filtering\n",
    "    if action not in action_list: continue \n",
    "    if int(cam_num) not in camera_list: continue\n",
    "    if only_test:\n",
    "        if subject not in test_subject: continue\n",
    "    if subject in blacklist: continue\n",
    "    #print(subject, cam_num, action, phase) \n",
    "    \n",
    "    item_path = os.path.join(pkl_folder, item) \n",
    "    data = readpkl(item_path) \n",
    "    if subject in test_subject: data_type = 'test' \n",
    "    else: data_type = 'train' \n",
    "    \n",
    "    joint_2ds[data_type] += list(np.array(data['joint_2d'])[:, joint_list]) \n",
    "    confidences[data_type] += list(np.array(data['confidence'])[:, joint_list]) \n",
    "    joint3d_images[data_type] += list(np.array(data['joint3d_image'])[:, joint_list]) \n",
    "    joints_25d_images[data_type] += list(np.array(data['joints_2.5d_image'])[:, joint_list]) \n",
    "    _25d_factors[data_type] += data['2.5d_factor'] \n",
    "    camera_names[data_type] += data['camera_name']  \n",
    "    actions[data_type] += data['action'] \n",
    "    sources[data_type] += data['source'] \n",
    "    frames[data_type] += data['frame'] \n",
    "    world_3ds[data_type] += list(np.array(data['world_3d'])[:, joint_list]) \n",
    "    cam_3ds[data_type] += list(np.array(data['cam_3d'])[:, joint_list])\n",
    "    cam_params[data_type] += data['cam_param'] \n",
    "    \n",
    "kookmin_total = {'train': {}, 'test': {}}\n",
    "\n",
    "for data_type in ['train', 'test']:\n",
    "    kookmin_total[data_type]['joint_2d']          = copy.deepcopy(np.array(joint_2ds[data_type]))\n",
    "    kookmin_total[data_type]['confidence']        = copy.deepcopy(np.array(confidences[data_type]))\n",
    "    kookmin_total[data_type]['joint3d_image']     = copy.deepcopy(np.array(joint3d_images[data_type]))\n",
    "    kookmin_total[data_type]['joints_2.5d_image'] = copy.deepcopy(np.array(joints_25d_images[data_type]))\n",
    "    kookmin_total[data_type]['2.5d_factor']       = copy.deepcopy(np.array(_25d_factors[data_type]))\n",
    "    kookmin_total[data_type]['camera_name']       = copy.deepcopy(np.array(camera_names[data_type]))\n",
    "    kookmin_total[data_type]['action']            = copy.deepcopy(np.array(actions[data_type]))\n",
    "    kookmin_total[data_type]['source']            = copy.deepcopy(np.array(sources[data_type]))\n",
    "    kookmin_total[data_type]['frame']             = copy.deepcopy(np.array(frames[data_type]))\n",
    "    kookmin_total[data_type]['world_3d']          = copy.deepcopy(np.array(world_3ds[data_type]))\n",
    "    kookmin_total[data_type]['cam_3d']            = copy.deepcopy(np.array(cam_3ds[data_type]))\n",
    "    kookmin_total[data_type]['cam_param']         = copy.deepcopy(np.array(cam_params[data_type]))\n",
    "    \n",
    "if len(kookmin_total['train']['joint_2d']) == 0:\n",
    "    kookmin_total['train'] = copy.deepcopy(kookmin_total['test'])\n",
    "\n",
    "kookmin_total['train']['joint3d_image'].shape, kookmin_total['test']['joint3d_image'].shape  "
   ]
  },
  {
   "cell_type": "code",
   "execution_count": 14,
   "metadata": {},
   "outputs": [
    {
     "data": {
      "text/plain": [
       "513200"
      ]
     },
     "execution_count": 14,
     "metadata": {},
     "output_type": "execute_result"
    }
   ],
   "source": [
    "kookmin_total['train']['joint3d_image'].shape[0] + kookmin_total['test']['joint3d_image'].shape[0]"
   ]
  },
  {
   "cell_type": "code",
   "execution_count": 67,
   "metadata": {},
   "outputs": [
    {
     "name": "stdout",
     "output_type": "stream",
     "text": [
      "S12_4_cat\n"
     ]
    },
    {
     "data": {
      "image/png": "[encoded data removed]",
      "text/plain": [
       "<Figure size 640x480 with 1 Axes>"
      ]
     },
     "metadata": {},
     "output_type": "display_data"
    }
   ],
   "source": [
    "%matplotlib inline\n",
    "fig = plt.figure(0)\n",
    "fig.clear()\n",
    "ax = axes_2d(fig, H=1920, W=1080)\n",
    "frame_num = 1000\n",
    "img = get_2d_pose_image(kookmin_total['test']['joint_2d'][frame_num], H=1920, W=1080)\n",
    "print(kookmin_total['test']['source'][frame_num])\n",
    "ax.imshow(img)\n",
    "plt.show()"
   ]
  },
  {
   "cell_type": "code",
   "execution_count": 10,
   "metadata": {},
   "outputs": [],
   "source": [
    "save_path = os.path.join(motionbert_root, f'data/motion3d/kookmin_total_with_kookmin_setting2_{test5_name}_test.pkl')\n",
    "savepkl(kookmin_total, save_path)"
   ]
  },
  {
   "cell_type": "markdown",
   "metadata": {},
   "source": [
    "### Change gt pose2d to ap pose2d (to be continue)"
   ]
  },
  {
   "cell_type": "code",
   "execution_count": 5,
   "metadata": {},
   "outputs": [],
   "source": [
    "target_pkl = os.path.join(motionbert_root, 'data/motion3d/kookmin_total_with_kookmin_setting2_s0258_test.pkl')\n",
    "src = readpkl(target_pkl)"
   ]
  },
  {
   "cell_type": "code",
   "execution_count": 6,
   "metadata": {},
   "outputs": [
    {
     "data": {
      "text/plain": [
       "(dict_keys(['train', 'test']),\n",
       " dict_keys(['joint_2d', 'confidence', 'joint3d_image', 'joints_2.5d_image', '2.5d_factor', 'camera_name', 'action', 'source', 'frame', 'world_3d', 'cam_3d', 'cam_param']),\n",
       " dict_keys(['joint_2d', 'confidence', 'joint3d_image', 'joints_2.5d_image', '2.5d_factor', 'camera_name', 'action', 'source', 'frame', 'world_3d', 'cam_3d', 'cam_param']))"
      ]
     },
     "execution_count": 6,
     "metadata": {},
     "output_type": "execute_result"
    }
   ],
   "source": [
    "src.keys(), src['train'].keys(), src['test'].keys()"
   ]
  },
  {
   "cell_type": "code",
   "execution_count": 7,
   "metadata": {},
   "outputs": [
    {
     "data": {
      "text/plain": [
       "array([   0,    1,    2, ..., 1561, 1562, 1563])"
      ]
     },
     "execution_count": 7,
     "metadata": {},
     "output_type": "execute_result"
    }
   ],
   "source": [
    "src['test']['frame']"
   ]
  },
  {
   "cell_type": "code",
   "execution_count": 28,
   "metadata": {},
   "outputs": [
    {
     "name": "stdout",
     "output_type": "stream",
     "text": [
      "S12 4 cat\n",
      "S15 5 squat\n",
      "S12 5 cat\n",
      "S15 4 pushup\n",
      "S18 1 yoga\n",
      "S12 2 benchpress\n",
      "S18 2 cat\n",
      "S12 2 cat\n",
      "S15 1 yoga\n",
      "S12 1 pushup\n",
      "S18 3 cat\n",
      "S12 4 pushup\n",
      "S12 2 burpee\n",
      "S15 2 pushup\n",
      "S12 1 cat\n",
      "S15 5 yoga\n",
      "S12 3 pushup\n",
      "S18 5 squat\n",
      "S15 3 cat\n",
      "S12 4 yoga\n",
      "S18 1 cat\n",
      "S15 2 cat\n",
      "S18 2 yoga\n",
      "S15 3 burpee\n",
      "S18 3 squat\n",
      "S18 1 pushup\n",
      "S15 1 cat\n",
      "S15 5 kneeup\n",
      "S15 4 yoga\n",
      "S12 3 squat\n",
      "S18 5 pushup\n",
      "S18 4 benchpress\n",
      "S18 4 yoga\n",
      "S15 5 pushup\n",
      "S18 2 burpee\n",
      "S12 2 yoga\n",
      "S12 3 burpee\n",
      "S18 5 benchpress\n",
      "S15 3 squat\n",
      "S18 5 cat\n",
      "S12 5 burpee\n",
      "S15 4 squat\n",
      "S18 5 burpee\n",
      "S12 4 squat\n",
      "S12 5 pushup\n",
      "S12 1 burpee\n",
      "S12 2 pushup\n",
      "S18 2 squat\n",
      "S18 5 kneeup\n",
      "S15 2 squat\n",
      "S12 4 burpee\n",
      "S15 4 cat\n",
      "S15 3 pushup\n",
      "S15 1 squat\n",
      "S18 1 squat\n",
      "S12 3 kneeup\n",
      "S18 4 pushup\n",
      "S15 1 pushup\n",
      "S18 5 yoga\n",
      "S15 3 yoga\n",
      "S18 2 pushup\n",
      "S12 5 yoga\n",
      "S15 4 benchpress\n",
      "S15 5 cat\n",
      "S15 3 kneeup\n",
      "S12 2 kneeup\n",
      "S12 1 squat\n",
      "S18 3 pushup\n",
      "S12 5 benchpress\n",
      "S12 1 benchpress\n",
      "S15 5 benchpress\n",
      "S18 1 burpee\n",
      "S12 2 squat\n",
      "S15 2 yoga\n",
      "S18 4 squat\n",
      "S18 1 kneeup\n",
      "S12 3 benchpress\n",
      "S18 4 kneeup\n",
      "S18 4 cat\n",
      "S12 1 yoga\n",
      "S15 2 benchpress\n",
      "S18 3 burpee\n",
      "S15 2 burpee\n",
      "S12 3 cat\n",
      "S15 1 kneeup\n",
      "S12 4 kneeup\n",
      "S15 5 burpee\n",
      "S18 2 benchpress\n",
      "S15 4 kneeup\n",
      "S18 3 kneeup\n",
      "S12 1 kneeup\n",
      "S15 1 burpee\n",
      "S12 4 benchpress\n",
      "S18 4 burpee\n",
      "S18 3 benchpress\n",
      "S18 3 yoga\n",
      "S15 3 benchpress\n",
      "S12 5 kneeup\n",
      "S18 2 kneeup\n",
      "S15 4 burpee\n",
      "S12 5 squat\n",
      "S15 2 kneeup\n",
      "S18 1 benchpress\n",
      "S12 3 yoga\n",
      "S15 1 benchpress\n"
     ]
    }
   ],
   "source": [
    "joint_2ds = {'train': [], 'test': []}\n",
    "confidences = {'train': [], 'test': []}\n",
    "joint3d_images = {'train': [], 'test': []}\n",
    "joints_25d_images = {'train': [], 'test': []}\n",
    "_25d_factors = {'train': [], 'test': []}\n",
    "camera_names = {'train': [], 'test': []}\n",
    "actions = {'train': [], 'test': []}\n",
    "sources = {'train': [], 'test': []}\n",
    "frames = {'train': [], 'test': []}\n",
    "world_3ds = {'train': [], 'test': []}\n",
    "cam_3ds = {'train': [], 'test': []}\n",
    "cam_params = {'train': [], 'test': []}\n",
    "\n",
    "action_list = ['squat', 'pushup', 'kneeup', 'benchpress', 'burpee', 'yoga', 'cat']\n",
    "test_subject = ['S12', 'S15', 'S18'] # ['S01', 'S02', 'S03', 'S04', 'S05', 'S06', 'S07', 'S08', 'S09', 'S10']\n",
    "camera_list = [1, 2, 3, 4, 5]\n",
    "pkl_folder = '/home/hrai/codes/MotionBERT/data/motion3d/kookmin_pkl_with_kookmin_setting2'\n",
    "\n",
    "for item in os.listdir(pkl_folder):\n",
    "    subject, camera_id, action = item.split('.')[0].split('_') \n",
    "    if action not in action_list: continue \n",
    "    if subject not in test_subject: continue\n",
    "    if int(camera_id) not in camera_list: continue\n",
    "    print(subject, camera_id, action) \n",
    "    item_path = os.path.join(pkl_folder, item) \n",
    "    data = readpkl(item_path) \n",
    "    #print(data.keys())\n",
    "    if subject in test_subject: data_type = 'test' \n",
    "    else: data_type = 'train' \n",
    "    if data_type == 'train': \n",
    "        joint_2ds[data_type] += data['joint_2d']\n",
    "    elif data_type == 'test':\n",
    "        # load \n",
    "        ap_result_path = os.path.join(ap_kookmin_result_root, 'res_{}_{}_{}'.format(subject, action, camera_id))\n",
    "        video_path = '/home/hrai/Datasets/HAAI/국민대데이터/data/videos/{}/{}_{}_{}.mp4'.format(subject, subject, action, camera_id) \n",
    "        joint_2d = get_ap_pose_2d(video_path, ap_result_path)\n",
    "        joint_2ds[data_type] += list(joint_2d)[2:]\n",
    "    confidences[data_type] += data['confidence'] \n",
    "    joint3d_images[data_type] += data['joint3d_image'] \n",
    "    joints_25d_images[data_type] += data['joints_2.5d_image'] \n",
    "    _25d_factors[data_type] += data['2.5d_factor'] \n",
    "    camera_names[data_type] += data['camera_name']  \n",
    "    actions[data_type] += data['action'] \n",
    "    sources[data_type] += data['source'] \n",
    "    frames[data_type] += data['frame'] \n",
    "    world_3ds[data_type] += data['world_3d'] \n",
    "    cam_3ds[data_type] += data['cam_3d'] \n",
    "    cam_params[data_type] += data['cam_param'] \n",
    "    #break\n",
    "    \n",
    "assert len(joint_2ds['test']) == len(joint3d_images['test'])"
   ]
  },
  {
   "cell_type": "code",
   "execution_count": 32,
   "metadata": {},
   "outputs": [
    {
     "data": {
      "text/plain": [
       "((159845, 17, 3), (159845, 17, 3))"
      ]
     },
     "execution_count": 32,
     "metadata": {},
     "output_type": "execute_result"
    }
   ],
   "source": [
    "kookmin_total = {'train': {}, 'test': {}}\n",
    "\n",
    "for data_type in ['train', 'test']:\n",
    "    data_type_ = data_type\n",
    "    kookmin_total[data_type]['joint_2d']          = copy.deepcopy(np.array(joint_2ds[data_type_]))\n",
    "    kookmin_total[data_type]['confidence']        = copy.deepcopy(np.array(confidences[data_type_]))\n",
    "    kookmin_total[data_type]['joint3d_image']     = copy.deepcopy(np.array(joint3d_images[data_type_]))\n",
    "    kookmin_total[data_type]['joints_2.5d_image'] = copy.deepcopy(np.array(joints_25d_images[data_type_]))\n",
    "    kookmin_total[data_type]['2.5d_factor']       = copy.deepcopy(np.array(_25d_factors[data_type_]))\n",
    "    kookmin_total[data_type]['camera_name']       = copy.deepcopy(np.array(camera_names[data_type_]))\n",
    "    kookmin_total[data_type]['action']            = copy.deepcopy(np.array(actions[data_type_]))\n",
    "    kookmin_total[data_type]['source']            = copy.deepcopy(np.array(sources[data_type_]))\n",
    "    kookmin_total[data_type]['frame']             = copy.deepcopy(np.array(frames[data_type_]))\n",
    "    kookmin_total[data_type]['world_3d']          = copy.deepcopy(np.array(world_3ds[data_type_]))\n",
    "    kookmin_total[data_type]['cam_3d']            = copy.deepcopy(np.array(cam_3ds[data_type_]))\n",
    "    kookmin_total[data_type]['cam_param']         = copy.deepcopy(np.array(cam_params[data_type_]))\n",
    "    \n",
    "if len(kookmin_total['train']['joint_2d']) == 0:\n",
    "    kookmin_total['train'] = copy.deepcopy(kookmin_total['test'])\n",
    "\n",
    "kookmin_total['train']['joint_2d'].shape, kookmin_total['test']['joint_2d'].shape  "
   ]
  },
  {
   "cell_type": "code",
   "execution_count": 33,
   "metadata": {},
   "outputs": [],
   "source": [
    "save_path = os.path.join(motionbert_root, 'data/motion3d/kookmin_total_with_kookmin_setting2_s0258_test_with_ap.pkl')\n",
    "savepkl(kookmin_total, save_path)"
   ]
  },
  {
   "cell_type": "markdown",
   "metadata": {},
   "source": [
    "### Change gt pose2d to mmpose pose2d"
   ]
  },
  {
   "cell_type": "code",
   "execution_count": 57,
   "metadata": {},
   "outputs": [],
   "source": [
    "test_id = 1\n",
    "if test_id == 1:\n",
    "    test = test1\n",
    "    test_name = test1_name\n",
    "elif test_id == 2:\n",
    "    test = test2\n",
    "    test_name = test2_name\n",
    "elif test_id == 3:\n",
    "    test = test3\n",
    "    test_name = test3_name\n",
    "elif test_id == 4:\n",
    "    test = test4\n",
    "    test_name = test4_name\n",
    "elif test_id == 5:\n",
    "    test = test5\n",
    "    test_name = test5_name\n",
    "mmpose_model = 'epoch_10'"
   ]
  },
  {
   "cell_type": "code",
   "execution_count": 58,
   "metadata": {},
   "outputs": [
    {
     "data": {
      "text/plain": [
       "'/home/hrai/codes/MotionBERT/data/motion3d/kookmin_total_with_kookmin_setting2_s0258_test.pkl'"
      ]
     },
     "execution_count": 58,
     "metadata": {},
     "output_type": "execute_result"
    }
   ],
   "source": [
    "target_pkl = os.path.join(motionbert_root, f'data/motion3d/kookmin_total_with_kookmin_setting2_{test_name}_test.pkl')\n",
    "src = readpkl(target_pkl)\n",
    "target_pkl"
   ]
  },
  {
   "cell_type": "code",
   "execution_count": 59,
   "metadata": {},
   "outputs": [
    {
     "name": "stderr",
     "output_type": "stream",
     "text": [
      "100%|██████████| 350/350 [00:22<00:00, 15.37it/s]\n"
     ]
    }
   ],
   "source": [
    "joint_2ds = {'train': [], 'test': []}\n",
    "confidences = {'train': [], 'test': []}\n",
    "joint3d_images = {'train': [], 'test': []}\n",
    "joints_25d_images = {'train': [], 'test': []}\n",
    "_25d_factors = {'train': [], 'test': []}\n",
    "camera_names = {'train': [], 'test': []}\n",
    "actions = {'train': [], 'test': []}\n",
    "sources = {'train': [], 'test': []}\n",
    "frames = {'train': [], 'test': []}\n",
    "world_3ds = {'train': [], 'test': []}\n",
    "cam_3ds = {'train': [], 'test': []}\n",
    "cam_params = {'train': [], 'test': []}\n",
    "\n",
    "action_list = ['squat', 'pushup', 'kneeup', 'benchpress', 'burpee', 'yoga', 'cat']\n",
    "test_subject = test\n",
    "camera_list = [1, 2, 3, 4, 5]\n",
    "pkl_folder = '/home/hrai/codes/MotionBERT/data/motion3d/kookmin_pkl_with_kookmin_setting2'\n",
    "\n",
    "for item in tqdm(os.listdir(pkl_folder)):\n",
    "    subject, camera_id, action = item.split('.')[0].split('_') \n",
    "    if action not in action_list: continue \n",
    "    if subject not in test_subject: continue\n",
    "    if int(camera_id) not in camera_list: continue\n",
    "    #print(subject, camera_id, action) \n",
    "    item_path = os.path.join(pkl_folder, item) \n",
    "    data = readpkl(item_path) \n",
    "    #print(data.keys())\n",
    "    if subject in test_subject: data_type = 'test' \n",
    "    else: data_type = 'train' \n",
    "    if data_type == 'train': \n",
    "        joint_2ds[data_type] += data['joint_2d'] \n",
    "    elif data_type == 'test':\n",
    "        # load \n",
    "        video_path = '/home/hrai/Datasets/HAAI/국민대데이터/data/videos/{}/{}_{}_{}.mp4'.format(subject, subject, action, camera_id)\n",
    "        cap = cv2.VideoCapture(video_path)\n",
    "        num_frames = int(cap.get(cv2.CAP_PROP_FRAME_COUNT))\n",
    "        cap.release()\n",
    "        with open(f'/home/hrai/codes/mmpose/work_dirs/rtmpose-l_8xb256-420e_kookmin2-256x192_test_{test_name}/kookmin2_{mmpose_model}/results_{subject}_{action}_{camera_id}.json') as f:\n",
    "            mmpose_result = json.load(f)\n",
    "        joint_2d = []\n",
    "        for frame_num in range(num_frames):\n",
    "            max_score = 0\n",
    "            max_idx = -1\n",
    "            for i in range(len(mmpose_result['instance_info'][frame_num]['instances'])):\n",
    "                #print(np.mean(mmpose_result['instance_info'][frame_num]['instances'][i]['keypoint_scores']))\n",
    "                if np.mean(mmpose_result['instance_info'][frame_num]['instances'][i]['keypoint_scores']) > max_score:\n",
    "                    max_score = np.mean(mmpose_result['instance_info'][frame_num]['instances'][i]['keypoint_scores'])\n",
    "                    max_idx = i\n",
    "            keypoint = np.array(mmpose_result['instance_info'][frame_num]['instances'][max_idx]['keypoints'])\n",
    "            joint_2d.append(keypoint)\n",
    "        joint_2ds[data_type] += joint_2d[2:]\n",
    "    confidences[data_type] += data['confidence'] \n",
    "    joint3d_images[data_type] += data['joint3d_image'] \n",
    "    joints_25d_images[data_type] += data['joints_2.5d_image'] \n",
    "    _25d_factors[data_type] += data['2.5d_factor'] \n",
    "    camera_names[data_type] += data['camera_name']  \n",
    "    actions[data_type] += data['action'] \n",
    "    sources[data_type] += data['source'] \n",
    "    frames[data_type] += data['frame'] \n",
    "    world_3ds[data_type] += data['world_3d'] \n",
    "    cam_3ds[data_type] += data['cam_3d'] \n",
    "    cam_params[data_type] += data['cam_param'] \n",
    "    \n",
    "assert len(joint_2ds['test']) == len(joint3d_images['test'])"
   ]
  },
  {
   "cell_type": "code",
   "execution_count": 60,
   "metadata": {},
   "outputs": [
    {
     "data": {
      "text/plain": [
       "((159845, 17, 2), (159845, 17, 2))"
      ]
     },
     "execution_count": 60,
     "metadata": {},
     "output_type": "execute_result"
    }
   ],
   "source": [
    "kookmin_total = {'train': {}, 'test': {}}\n",
    "\n",
    "for data_type in ['train', 'test']:\n",
    "    data_type_ = data_type\n",
    "    kookmin_total[data_type]['joint_2d']          = copy.deepcopy(np.array(joint_2ds[data_type_]))\n",
    "    kookmin_total[data_type]['confidence']        = copy.deepcopy(np.array(confidences[data_type_]))\n",
    "    kookmin_total[data_type]['joint3d_image']     = copy.deepcopy(np.array(joint3d_images[data_type_]))\n",
    "    kookmin_total[data_type]['joints_2.5d_image'] = copy.deepcopy(np.array(joints_25d_images[data_type_]))\n",
    "    kookmin_total[data_type]['2.5d_factor']       = copy.deepcopy(np.array(_25d_factors[data_type_]))\n",
    "    kookmin_total[data_type]['camera_name']       = copy.deepcopy(np.array(camera_names[data_type_]))\n",
    "    kookmin_total[data_type]['action']            = copy.deepcopy(np.array(actions[data_type_]))\n",
    "    kookmin_total[data_type]['source']            = copy.deepcopy(np.array(sources[data_type_]))\n",
    "    kookmin_total[data_type]['frame']             = copy.deepcopy(np.array(frames[data_type_]))\n",
    "    kookmin_total[data_type]['world_3d']          = copy.deepcopy(np.array(world_3ds[data_type_]))\n",
    "    kookmin_total[data_type]['cam_3d']            = copy.deepcopy(np.array(cam_3ds[data_type_]))\n",
    "    kookmin_total[data_type]['cam_param']         = copy.deepcopy(np.array(cam_params[data_type_]))\n",
    "    \n",
    "if len(kookmin_total['train']['joint_2d']) == 0:\n",
    "    kookmin_total['train'] = copy.deepcopy(kookmin_total['test'])\n",
    "\n",
    "kookmin_total['train']['joint_2d'].shape, kookmin_total['test']['joint_2d'].shape  "
   ]
  },
  {
   "cell_type": "code",
   "execution_count": 61,
   "metadata": {},
   "outputs": [],
   "source": [
    "save_path = os.path.join(motionbert_root, f'data/motion3d/kookmin_total_with_kookmin_setting2_{test_name}_test_with_mmpose_test.pkl')\n",
    "savepkl(kookmin_total, save_path)"
   ]
  }
 ],
 "metadata": {
  "kernelspec": {
   "display_name": "motionbert",
   "language": "python",
   "name": "python3"
  },
  "language_info": {
   "codemirror_mode": {
    "name": "ipython",
    "version": 3
   },
   "file_extension": ".py",
   "mimetype": "text/x-python",
   "name": "python",
   "nbconvert_exporter": "python",
   "pygments_lexer": "ipython3",
   "version": "3.9.18"
  },
  "vscode": {
   "interpreter": {
    "hash": "996031ba2a0f3c1298a339c0299835a7fe1ef636d9e79358bc474ca43ed2ac18"
   }
  }
 },
 "nbformat": 4,
 "nbformat_minor": 2
}
