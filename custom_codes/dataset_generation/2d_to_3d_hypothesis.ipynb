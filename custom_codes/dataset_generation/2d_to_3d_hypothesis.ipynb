{
 "cells": [
  {
   "cell_type": "code",
   "execution_count": 1,
   "metadata": {},
   "outputs": [],
   "source": [
    "import os\n",
    "import pickle\n",
    "import copy\n",
    "import numpy as np\n",
    "from tqdm import tqdm\n",
    "\n",
    "# 원본 파일\n",
    "with open('../../data/motion3d/tr_aihub_sport_ts_30.pkl', 'rb') as f:\n",
    "\tdatareader = pickle.load(f)"
   ]
  },
  {
   "cell_type": "code",
   "execution_count": 2,
   "metadata": {},
   "outputs": [
    {
     "data": {
      "text/plain": [
       "dict_keys(['train', 'test'])"
      ]
     },
     "execution_count": 2,
     "metadata": {},
     "output_type": "execute_result"
    }
   ],
   "source": [
    "datareader.keys()"
   ]
  },
  {
   "cell_type": "code",
   "execution_count": 3,
   "metadata": {},
   "outputs": [
    {
     "data": {
      "text/plain": [
       "dict_keys(['joint_2d', 'confidence', 'joint3d_image', 'joints_2.5d_image', '2.5d_factor', 'camera_name', 'action', 'source', 'frame', 'world_3d', 'cam_3d', 'cam_param'])"
      ]
     },
     "execution_count": 3,
     "metadata": {},
     "output_type": "execute_result"
    }
   ],
   "source": [
    "datareader['train'].keys()"
   ]
  },
  {
   "cell_type": "code",
   "execution_count": 4,
   "metadata": {},
   "outputs": [
    {
     "data": {
      "text/plain": [
       "561194"
      ]
     },
     "execution_count": 4,
     "metadata": {},
     "output_type": "execute_result"
    }
   ],
   "source": [
    "datareader['train']['joint_2d'].shape # (1559752, 17, 2) array\n",
    "datareader['train']['confidence'].shape # (1559752, 17, 1) array\n",
    "datareader['train']['joint3d_image'].shape # (1559752, 17, 3)\n",
    "datareader['train']['camera_name'].shape # (1559752,) array\n",
    "len(datareader['train']['source']) # 1559752 list"
   ]
  },
  {
   "cell_type": "code",
   "execution_count": 5,
   "metadata": {},
   "outputs": [
    {
     "data": {
      "text/plain": [
       "dict_keys(['joint_2d', 'confidence', 'joint3d_image', 'joints_2.5d_image', '2.5d_factor', 'camera_name', 'action', 'source', 'frame', 'world_3d', 'cam_3d', 'cam_param'])"
      ]
     },
     "execution_count": 5,
     "metadata": {},
     "output_type": "execute_result"
    }
   ],
   "source": [
    "datareader['test'].keys()"
   ]
  },
  {
   "cell_type": "code",
   "execution_count": 6,
   "metadata": {},
   "outputs": [
    {
     "data": {
      "text/plain": [
       "3407"
      ]
     },
     "execution_count": 6,
     "metadata": {},
     "output_type": "execute_result"
    }
   ],
   "source": [
    "datareader['test']['joint_2d'].shape # (566920, 17, 2) array\n",
    "datareader['test']['confidence'].shape # (566920, 17, 1) array\n",
    "datareader['test']['joint3d_image'].shape # (566920, 17, 3) array\n",
    "datareader['test']['joints_2.5d_image'].shape # (566920, 17, 3) array = 2.5d_factor * joint3d_image\n",
    "datareader['test']['2.5d_factor'].shape # (566920,) array\n",
    "datareader['test']['camera_name'].shape # (566920,) array\n",
    "len(datareader['test']['action']) # 566920 list\n",
    "len(datareader['test']['source']) # 566920 list"
   ]
  },
  {
   "cell_type": "code",
   "execution_count": 8,
   "metadata": {},
   "outputs": [
    {
     "data": {
      "text/plain": [
       "True"
      ]
     },
     "execution_count": 8,
     "metadata": {},
     "output_type": "execute_result"
    }
   ],
   "source": [
    "(datareader['test']['joint3d_image'][0][0]*datareader['test']['2.5d_factor'][0] == datareader['test']['joints_2.5d_image'][0][0]).min()"
   ]
  },
  {
   "cell_type": "code",
   "execution_count": 9,
   "metadata": {},
   "outputs": [
    {
     "data": {
      "text/plain": [
       "('res_30_F160A_7', 667)"
      ]
     },
     "execution_count": 9,
     "metadata": {},
     "output_type": "execute_result"
    }
   ],
   "source": [
    "datareader['test']['source'][2431], datareader['test']['frame'][2431]"
   ]
  },
  {
   "cell_type": "code",
   "execution_count": 9,
   "metadata": {},
   "outputs": [
    {
     "data": {
      "text/plain": [
       "('/home/hrai/codes/AlphaPose',\n",
       " '/home/hrai/codes/MotionBERT',\n",
       " '/home/hrai/Datasets/HAAI/AIHUB',\n",
       " '/home/hrai/codes/AlphaPose/examples/aihub_result')"
      ]
     },
     "execution_count": 9,
     "metadata": {},
     "output_type": "execute_result"
    }
   ],
   "source": [
    "import os\n",
    "import getpass\n",
    "\n",
    "user = getpass.getuser()\n",
    "alphapose_root = '/home/{}/codes/AlphaPose'.format(user)\n",
    "motionbert_root = '/home/{}/codes/MotionBERT'.format(user)\n",
    "aihub_root = '/home/{}/Datasets/HAAI/AIHUB'.format(user)\n",
    "ap_aihub_result_root = alphapose_root + \"/examples/aihub_result\"\n",
    "alphapose_root, motionbert_root, aihub_root, ap_aihub_result_root"
   ]
  },
  {
   "cell_type": "code",
   "execution_count": 10,
   "metadata": {},
   "outputs": [],
   "source": [
    "os.chdir(motionbert_root)\n",
    "from custom_codes.test_utils import *"
   ]
  },
  {
   "cell_type": "code",
   "execution_count": 11,
   "metadata": {},
   "outputs": [],
   "source": [
    "h36m_keypoints ={\n",
    "    0 : 'Pelvis',\n",
    "    1 : 'R_Hip',\n",
    "    2 : 'R_Knee',\n",
    "    3 : 'R_Ankle',\n",
    "    4 : 'L_Hip',\n",
    "    5 : 'L_Knee',\n",
    "    6 : 'L_Ankle',\n",
    "    7 : 'Torso',\n",
    "    8 : 'Neck',\n",
    "    9 : 'Nose',\n",
    "    10 : 'Head',\n",
    "    11 : 'L_Shoulder',\n",
    "    12 : 'L_Elbow',\n",
    "    13 : 'L_Wrist',\n",
    "    14 : 'R_Shoulder',\n",
    "    15 : 'R_Elbow',\n",
    "    16 : 'R_Wrist',\n",
    "}"
   ]
  },
  {
   "cell_type": "code",
   "execution_count": 13,
   "metadata": {},
   "outputs": [],
   "source": [
    "def visualize_3d_pose(pose_list, dataset='h36m', xlim=(-512, 512), ylim=(-512, 512), zlim=(-512, 512), save=False, save_path='./', name='pose.png', elev=0., azim=90., dist=10):\n",
    "    fig = plt.figure(0, figsize=(10, 10))\n",
    "    ax = plt.axes(projection=\"3d\")\n",
    "    ax.clear()\n",
    "    ax.set_proj_type('persp', focal_length=1)\n",
    "    ax.set_xlim(xlim)\n",
    "    ax.set_ylim(ylim)\n",
    "    ax.set_zlim(zlim)\n",
    "    ax.set_xlabel('X')\n",
    "    ax.set_ylabel('Y')\n",
    "    ax.set_zlabel('Z')\n",
    "    ax.view_init(elev=elev, azim=azim)\n",
    "    ax.dist = dist\n",
    "    for pose in pose_list:\n",
    "        show3Dpose(pose, ax, dataset)\n",
    "    if save:\n",
    "        if not os.path.exists(save_path):\n",
    "            os.makedirs(save_path)\n",
    "        plt.savefig(os.path.join(save_path, name))\n",
    "    else:\n",
    "        plt.show()\n",
    "\n",
    "# https://github.com/Vegetebird/MHFormer/blob/main/demo/vis.py\n",
    "def show3Dpose(pose, ax, dataset='h36m'):\n",
    "    if dataset == 'aihub':\n",
    "        joint_pairs = [[15,12],  [12,17],  [12,16],  [17,19],  [19,21], [16,18], [18,20], [12,0], [0,1], [0,2], [2,1], [2,5], [5,8], [1,4], [4,7], [12,17]]\n",
    "        joint_pairs_left = [[12,16], [16,18], [18,20], [0,1], [1,4], [4,7]]\n",
    "        joint_pairs_right = [[12,17], [17,19],[19,21], [0,2], [2,5], [5,8]]\n",
    "    else: # 'h36m'\n",
    "        joint_pairs = [[0, 1], [1, 2], [2, 3], [0, 4], [4, 5], [5, 6], [0, 7], [7, 8], [8, 9], [8, 11], [8, 14], [9, 10], [11, 12], [12, 13], [14, 15], [15, 16]]\n",
    "        joint_pairs_left = [[8, 11], [11, 12], [12, 13], [0, 4], [4, 5], [5, 6]]\n",
    "        joint_pairs_right = [[8, 14], [14, 15], [15, 16], [0, 1], [1, 2], [2, 3]]\n",
    "\n",
    "    color_mid = \"#00457E\"\n",
    "    color_left = \"#02315E\"\n",
    "    color_right = \"#2F70AF\"\n",
    "\n",
    "    j3d = pose\n",
    "    \n",
    "    # plt.tick_params(left = True, right = True , labelleft = False ,\n",
    "    #                 labelbottom = False, bottom = False)\n",
    "    # 좀 더 보기 좋게 하기 위해 y <-> z, - 붙임\n",
    "    for i in range(len(joint_pairs)):\n",
    "        limb = joint_pairs[i]\n",
    "        if dataset == 'h36m':\n",
    "            xs, zs, ys = [np.array([j3d[limb[0], j], j3d[limb[1], j]]) for j in range(3)]\n",
    "            xs *= -1\n",
    "            ys *= -1\n",
    "            zs *= -1\n",
    "            #xs, ys, zs = [np.array([j3d[limb[0], j], j3d[limb[1], j]]) for j in range(3)]\n",
    "        elif dataset == 'aihub':\n",
    "            xs, ys, zs = [np.array([j3d[limb[0], j], j3d[limb[1], j]]) for j in range(3)]\n",
    "        if joint_pairs[i] in joint_pairs_left:\n",
    "            ax.plot(xs, ys, zs, color=color_left, lw=3, marker='o', markerfacecolor='w', markersize=3, markeredgewidth=2) # axis transformation for visualization\n",
    "        elif joint_pairs[i] in joint_pairs_right:\n",
    "            ax.plot(xs, ys, zs, color=color_right, lw=3, marker='o', markerfacecolor='w', markersize=3, markeredgewidth=2) # axis transformation for visualization\n",
    "        else:\n",
    "            ax.plot(xs, ys, zs, color=color_mid, lw=3, marker='o', markerfacecolor='w', markersize=3, markeredgewidth=2) # axis transformation for visualization\n",
    "        ax.axis('equal')\n",
    "        #ax.axis('auto')\n"
   ]
  },
  {
   "cell_type": "code",
   "execution_count": 23,
   "metadata": {},
   "outputs": [],
   "source": [
    "frame_num = 500\n",
    "img_3d = copy.deepcopy(datareader['test']['joint3d_image'][frame_num])\n",
    "img_2d = copy.deepcopy(datareader['test']['joint_2d'][frame_num])\n",
    "cam_3d = copy.deepcopy(datareader['test']['cam_3d'][frame_num])\n",
    "world_3d = copy.deepcopy(datareader['test']['world_3d'][frame_num])\n",
    "frame = copy.deepcopy(datareader['test']['frame'][frame_num])\n",
    "source = copy.deepcopy(datareader['test']['source'][frame_num])"
   ]
  },
  {
   "cell_type": "code",
   "execution_count": 24,
   "metadata": {},
   "outputs": [
    {
     "data": {
      "text/plain": [
       "('res_30_F160A_1', 560)"
      ]
     },
     "execution_count": 24,
     "metadata": {},
     "output_type": "execute_result"
    }
   ],
   "source": [
    "source, frame"
   ]
  },
  {
   "cell_type": "code",
   "execution_count": 26,
   "metadata": {},
   "outputs": [
    {
     "name": "stderr",
     "output_type": "stream",
     "text": [
      "/tmp/ipykernel_7352/3109523603.py:13: MatplotlibDeprecationWarning: The dist attribute was deprecated in Matplotlib 3.6 and will be removed two minor releases later.\n",
      "  ax.dist = dist\n"
     ]
    }
   ],
   "source": [
    "img_3d = copy.deepcopy(datareader['test']['joint3d_image'][500])\n",
    "#result_array[:, 2] = 0\n",
    "r_hip = img_3d[1]\n",
    "r_knee = img_3d[2]\n",
    "r_ankle = img_3d[3]\n",
    "l_hip = img_3d[4]\n",
    "l_knee = img_3d[5]\n",
    "l_ankle = img_3d[6]\n",
    "#r_knee[2] += -100\n",
    "visualize_3d_pose([world_3d], \n",
    "                  xlim=(0, 1920), \n",
    "                  ylim=(0, 1080),)\n",
    "                  #elev=-90.,\n",
    "                  #azim=-90+20.,\n",
    "                  #dist=10.)"
   ]
  },
  {
   "cell_type": "code",
   "execution_count": 16,
   "metadata": {},
   "outputs": [
    {
     "data": {
      "text/plain": [
       "(111.81644479325838, 113.25240136949434)"
      ]
     },
     "execution_count": 16,
     "metadata": {},
     "output_type": "execute_result"
    }
   ],
   "source": [
    "np.linalg.norm(l_hip - l_knee), np.linalg.norm(r_hip - r_knee)"
   ]
  },
  {
   "cell_type": "code",
   "execution_count": 17,
   "metadata": {},
   "outputs": [
    {
     "data": {
      "text/plain": [
       "(110.56688313937217, 109.81389674105407)"
      ]
     },
     "execution_count": 17,
     "metadata": {},
     "output_type": "execute_result"
    }
   ],
   "source": [
    "np.linalg.norm(l_knee - l_ankle), np.linalg.norm(r_knee - r_ankle)"
   ]
  },
  {
   "cell_type": "code",
   "execution_count": null,
   "metadata": {},
   "outputs": [],
   "source": []
  }
 ],
 "metadata": {
  "kernelspec": {
   "display_name": "motionbert",
   "language": "python",
   "name": "python3"
  },
  "language_info": {
   "codemirror_mode": {
    "name": "ipython",
    "version": 3
   },
   "file_extension": ".py",
   "mimetype": "text/x-python",
   "name": "python",
   "nbconvert_exporter": "python",
   "pygments_lexer": "ipython3",
   "version": "3.9.17"
  },
  "vscode": {
   "interpreter": {
    "hash": "996031ba2a0f3c1298a339c0299835a7fe1ef636d9e79358bc474ca43ed2ac18"
   }
  }
 },
 "nbformat": 4,
 "nbformat_minor": 2
}
