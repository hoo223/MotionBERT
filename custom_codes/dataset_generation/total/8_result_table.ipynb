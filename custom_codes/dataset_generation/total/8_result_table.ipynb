{
 "cells": [
  {
   "cell_type": "code",
   "execution_count": 1,
   "metadata": {},
   "outputs": [],
   "source": [
    "%load_ext autoreload\n",
    "%autoreload 2\n",
    "%matplotlib widget\n",
    "import os, sys, getpass\n",
    "user = getpass.getuser()\n",
    "sys.path.append(f'/home/{user}/codes/hpe_library/')\n",
    "from lib_import import *\n",
    "from my_utils import *\n",
    "os.chdir('/home/hrai/codes/MotionBERT')"
   ]
  },
  {
   "cell_type": "code",
   "execution_count": 2,
   "metadata": {},
   "outputs": [],
   "source": [
    "result_dict = readpkl('result_dict.pkl')"
   ]
  },
  {
   "cell_type": "code",
   "execution_count": 4,
   "metadata": {},
   "outputs": [
    {
     "data": {
      "text/plain": [
       "{'3DHP-GT-CAM_NO_FACTOR-TEST_ALL_TRAIN': {'e1': 186.13003565709982,\n",
       "  'e2': 125.25705288334547},\n",
       " 'FIT3D-GT-CAM_NO_FACTOR-TR_S03': {'e1': 41.92248172975143,\n",
       "  'e2': 26.261909787946475},\n",
       " 'H36M-GT-CAM_NO_FACTOR-TR_S1_TS_S5678': {'e1': 130.97913532041386,\n",
       "  'e2': 94.76899352809338},\n",
       " '3DHP-GT-CAM_NO_FACTOR-TEST_TS1_6': {'e1': 177.1644025187923,\n",
       "  'e2': 118.93492412570686},\n",
       " 'H36M-GT-CAM_NO_FACTOR': {'e1': 133.72029593897327, 'e2': 100.37159700755032},\n",
       " 'H36M-GT-CAM_NO_FACTOR-TEST_ALL': {'e1': 133.36569278613752,\n",
       "  'e2': 97.68345446048659}}"
      ]
     },
     "execution_count": 4,
     "metadata": {},
     "output_type": "execute_result"
    }
   ],
   "source": [
    "result_dict['MB_train_fit3d_gt_cam_no_factor_with_canonical2_tr_s03']"
   ]
  }
 ],
 "metadata": {
  "language_info": {
   "name": "python"
  }
 },
 "nbformat": 4,
 "nbformat_minor": 2
}
