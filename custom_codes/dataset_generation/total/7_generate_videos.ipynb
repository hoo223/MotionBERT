{
 "cells": [
  {
   "cell_type": "code",
   "execution_count": 1,
   "metadata": {},
   "outputs": [],
   "source": [
    "%load_ext autoreload\n",
    "%autoreload 2\n",
    "%matplotlib widget\n",
    "import os, sys, getpass\n",
    "user = getpass.getuser()\n",
    "sys.path.append(f'/home/{user}/codes/hpe_library/')\n",
    "from lib_import import *\n",
    "from my_utils import *\n",
    "os.chdir('/home/hrai/codes/MotionBERT')\n",
    "\n",
    "from lib.data.datareader_total import DataReaderTotal\n",
    "from lib.data.datareader_h36m import DataReaderH36M\n",
    "from lib.data.datareader_fit3d import DataReaderFIT3D\n",
    "from lib.utils.args import get_opts_args\n",
    "from lib.model.load_model import load_model\n",
    "from lib.model.load_dataset import load_dataset\n",
    "from lib.data.dataset_motion_3d import MotionDataset3DTotal\n",
    "from lib.model.evaluation import *"
   ]
  },
  {
   "cell_type": "code",
   "execution_count": 7,
   "metadata": {},
   "outputs": [
    {
     "name": "stdout",
     "output_type": "stream",
     "text": [
      "==> Loading H36M source_list... overwrite: False\n",
      "==> Loading H36M cam_param... overwrite: False\n",
      "==> Loading H36M world_3d... overwrite: False\n",
      "==> Loading H36M cam_3d... overwrite: False\n",
      "==> Loading H36M img_2d... overwrite: False\n",
      "==> Loading H36M img_3d... overwrite: False\n",
      "==> Loading H36M scale_factor... overwrite: False\n",
      "==> Loading H36M img_25d... overwrite: False\n",
      "==> Loading H36M cam_3d_canonical_same_z... overwrite: False\n",
      "==> Loading H36M cam_3d_canonical_same_dist... overwrite: False\n",
      "==> Loading H36M cam_3d_canonical_fixed_dist_5... overwrite: False\n",
      "==> Loading H36M img_2d_canonical_same_z... overwrite: False\n",
      "==> Loading H36M img_2d_canonical_same_dist... overwrite: False\n",
      "==> Loading H36M img_2d_canonical_fixed_dist_5... overwrite: False\n"
     ]
    }
   ],
   "source": [
    "dataset_name = 'h36m'\n",
    "overwrite_list = []\n",
    "source_list                    = load_data(dataset_name=dataset_name, data_type='source_list', overwrite_list=overwrite_list)\n",
    "cam_params                     = load_data(dataset_name=dataset_name, data_type='cam_param', overwrite_list=overwrite_list)\n",
    "world_3ds                      = load_data(dataset_name=dataset_name, data_type='world_3d', overwrite_list=overwrite_list)\n",
    "cam_3ds                        = load_data(dataset_name=dataset_name, data_type='cam_3d', overwrite_list=overwrite_list)\n",
    "img_2ds                        = load_data(dataset_name=dataset_name, data_type='img_2d', overwrite_list=overwrite_list)\n",
    "img_3ds                        = load_data(dataset_name=dataset_name, data_type='img_3d', overwrite_list=overwrite_list)\n",
    "scale_factors                  = load_data(dataset_name=dataset_name, data_type='scale_factor', overwrite_list=overwrite_list)\n",
    "img_25ds                       = load_data(dataset_name=dataset_name, data_type='img_25d', overwrite_list=overwrite_list)\n",
    "cam_3d_canonicals_same_z       = load_data(dataset_name=dataset_name, data_type='cam_3d_canonical', canonical_type='same_z', overwrite_list=overwrite_list)\n",
    "cam_3d_canonicals_same_dist    = load_data(dataset_name=dataset_name, data_type='cam_3d_canonical', canonical_type='same_dist', overwrite_list=overwrite_list)\n",
    "cam_3d_canonicals_fixed_dist_5 = load_data(dataset_name=dataset_name, data_type='cam_3d_canonical', canonical_type='fixed_dist_5', overwrite_list=overwrite_list)\n",
    "img_2d_canonicals_same_z       = load_data(dataset_name=dataset_name, data_type='img_2d_canonical', canonical_type='same_z', overwrite_list=overwrite_list)\n",
    "img_2d_canonicals_same_dist    = load_data(dataset_name=dataset_name, data_type='img_2d_canonical', canonical_type='same_dist', overwrite_list=overwrite_list)\n",
    "img_2d_canonicals_fixed_dist_5 = load_data(dataset_name=dataset_name, data_type='img_2d_canonical', canonical_type='fixed_dist_5', overwrite_list=overwrite_list)"
   ]
  },
  {
   "cell_type": "code",
   "execution_count": 8,
   "metadata": {},
   "outputs": [
    {
     "data": {
      "application/vnd.jupyter.widget-view+json": {
       "model_id": "87773fad606e4299860f46b95547ff06",
       "version_major": 2,
       "version_minor": 0
      },
      "image/png": "[encoded data removed]",
      "text/html": [
       "\n",
       "            <div style=\"display: inline-block;\">\n",
       "                <div class=\"jupyter-widgets widget-label\" style=\"text-align: center;\">\n",
       "                    Figure 0\n",
       "                </div>\n",
       "                <img src='data:image/png;base64,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' width=640.0/>\n",
       "            </div>\n",
       "        "
      ],
      "text/plain": [
       "Canvas(toolbar=Toolbar(toolitems=[('Home', 'Reset original view', 'home', 'home'), ('Back', 'Back to previous …"
      ]
     },
     "metadata": {},
     "output_type": "display_data"
    }
   ],
   "source": [
    "source = source_list[0]\n",
    "subject, cam_id, action = split_source_name(source, dataset_name)\n",
    "cam_param = cam_params[subject][action][cam_id]\n",
    "W, H, R, t, C, intrinsic, extrinsic = cam_param['W'], cam_param['H'], cam_param['R'], cam_param['t'], cam_param['C'], cam_param['intrinsic'], cam_param['extrinsic']\n",
    "fx, fy, cx, cy = intrinsic[0][0], intrinsic[1][1], intrinsic[0][2], intrinsic[1][2]\n",
    "\n",
    "frame_num = 0\n",
    "img_2d_canonical_fixed_dist_5 = img_2d_canonicals_fixed_dist_5[subject][action][cam_id]\n",
    "img_2d_canonical_fixed_dist_5_norm = normalize_input(img_2d_canonical_fixed_dist_5, W, H)\n",
    "\n",
    "fig = plt.figure(0)\n",
    "fig.clear()\n",
    "ax = axes_2d(fig)\n",
    "draw_2d_pose(ax, img_2d_canonical_fixed_dist_5_norm[frame_num], normalize=True)\n",
    "plt.show()"
   ]
  },
  {
   "cell_type": "code",
   "execution_count": 9,
   "metadata": {},
   "outputs": [],
   "source": [
    "data_type = 'img_2d_canonicals_fixed_dist_5'\n",
    "save_folder = f'/home/{user}/codes/MotionBERT/videos/{dataset_name}/{data_type}'\n",
    "if not os.path.exists(save_folder):\n",
    "    os.makedirs(save_folder)"
   ]
  },
  {
   "cell_type": "code",
   "execution_count": 10,
   "metadata": {},
   "outputs": [
    {
     "data": {
      "text/plain": [
       "['S6_60457274_WalkDog 1',\n",
       " 'S11_58860488_Photo 1',\n",
       " 'S9_58860488_Waiting',\n",
       " 'S5_55011271_Posing',\n",
       " 'S5_55011271_WalkTogether',\n",
       " 'S9_60457274_WalkTogether',\n",
       " 'S11_55011271_Sitting',\n",
       " 'S5_58860488_WalkDog',\n",
       " 'S8_60457274_WalkTogether 2',\n",
       " 'S6_54138969_Posing 2',\n",
       " 'S8_60457274_Sitting 1',\n",
       " 'S6_58860488_Discussion 1',\n",
       " 'S7_58860488_Discussion',\n",
       " 'S11_54138969_SittingDown 1',\n",
       " 'S1_54138969_Smoking',\n",
       " 'S6_58860488_Waiting 3',\n",
       " 'S7_60457274_SittingDown 1',\n",
       " 'S5_55011271_Purchases 1',\n",
       " 'S5_58860488_Posing 1',\n",
       " 'S9_60457274_Walking 1']"
      ]
     },
     "execution_count": 10,
     "metadata": {},
     "output_type": "execute_result"
    }
   ],
   "source": [
    "random.shuffle(source_list)\n",
    "source_list[:20]"
   ]
  },
  {
   "cell_type": "code",
   "execution_count": 11,
   "metadata": {},
   "outputs": [
    {
     "name": "stderr",
     "output_type": "stream",
     "text": [
      "  0%|          | 0/400 [00:00<?, ?it/s]/tmp/ipykernel_5717/2088878787.py:25: MatplotlibDeprecationWarning: The tostring_rgb function was deprecated in Matplotlib 3.8 and will be removed two minor releases later. Use buffer_rgba instead.\n",
      "  image_from_plot = np.frombuffer(canvas.tostring_rgb(), dtype='uint8')\n",
      "IMAGEIO FFMPEG_WRITER WARNING: input image is not divisible by macro_block_size=16, resizing from (444, 333) to (448, 336) to ensure video compatibility with most codecs and players. To prevent resizing, make your input image divisible by the macro_block_size or set the macro_block_size to 1 (risking incompatibility).\n",
      "  0%|          | 1/400 [00:00<01:18,  5.07it/s][swscaler @ 0x596d900] Warning: data is not aligned! This can lead to a speed loss\n",
      "100%|██████████| 400/400 [00:07<00:00, 53.45it/s]\n",
      "  0%|          | 0/309 [00:00<?, ?it/s]IMAGEIO FFMPEG_WRITER WARNING: input image is not divisible by macro_block_size=16, resizing from (444, 333) to (448, 336) to ensure video compatibility with most codecs and players. To prevent resizing, make your input image divisible by the macro_block_size or set the macro_block_size to 1 (risking incompatibility).\n",
      "  0%|          | 1/309 [00:00<00:56,  5.44it/s][swscaler @ 0x6788900] Warning: data is not aligned! This can lead to a speed loss\n",
      "100%|██████████| 309/309 [00:05<00:00, 53.33it/s]\n",
      "  0%|          | 0/663 [00:00<?, ?it/s]IMAGEIO FFMPEG_WRITER WARNING: input image is not divisible by macro_block_size=16, resizing from (444, 333) to (448, 336) to ensure video compatibility with most codecs and players. To prevent resizing, make your input image divisible by the macro_block_size or set the macro_block_size to 1 (risking incompatibility).\n",
      "  0%|          | 1/663 [00:00<01:57,  5.62it/s][swscaler @ 0x7500900] Warning: data is not aligned! This can lead to a speed loss\n",
      "100%|██████████| 663/663 [00:12<00:00, 53.39it/s]\n",
      "  0%|          | 0/377 [00:00<?, ?it/s]IMAGEIO FFMPEG_WRITER WARNING: input image is not divisible by macro_block_size=16, resizing from (444, 333) to (448, 336) to ensure video compatibility with most codecs and players. To prevent resizing, make your input image divisible by the macro_block_size or set the macro_block_size to 1 (risking incompatibility).\n",
      "  0%|          | 1/377 [00:00<01:08,  5.50it/s][swscaler @ 0x5747900] Warning: data is not aligned! This can lead to a speed loss\n",
      "100%|██████████| 377/377 [00:06<00:00, 54.25it/s]\n",
      "  0%|          | 0/597 [00:00<?, ?it/s]IMAGEIO FFMPEG_WRITER WARNING: input image is not divisible by macro_block_size=16, resizing from (444, 333) to (448, 336) to ensure video compatibility with most codecs and players. To prevent resizing, make your input image divisible by the macro_block_size or set the macro_block_size to 1 (risking incompatibility).\n",
      "  0%|          | 1/597 [00:00<01:43,  5.76it/s][swscaler @ 0x5ca4900] Warning: data is not aligned! This can lead to a speed loss\n",
      "100%|██████████| 597/597 [00:10<00:00, 55.01it/s]\n",
      "  0%|          | 0/341 [00:00<?, ?it/s]IMAGEIO FFMPEG_WRITER WARNING: input image is not divisible by macro_block_size=16, resizing from (444, 333) to (448, 336) to ensure video compatibility with most codecs and players. To prevent resizing, make your input image divisible by the macro_block_size or set the macro_block_size to 1 (risking incompatibility).\n",
      "  0%|          | 1/341 [00:00<01:02,  5.44it/s][swscaler @ 0x5f33900] Warning: data is not aligned! This can lead to a speed loss\n",
      "100%|██████████| 341/341 [00:06<00:00, 53.72it/s]\n",
      "  0%|          | 0/436 [00:00<?, ?it/s]IMAGEIO FFMPEG_WRITER WARNING: input image is not divisible by macro_block_size=16, resizing from (444, 333) to (448, 336) to ensure video compatibility with most codecs and players. To prevent resizing, make your input image divisible by the macro_block_size or set the macro_block_size to 1 (risking incompatibility).\n",
      "  0%|          | 1/436 [00:00<01:16,  5.68it/s][swscaler @ 0x6f33900] Warning: data is not aligned! This can lead to a speed loss\n",
      "100%|██████████| 436/436 [00:07<00:00, 55.28it/s]\n",
      "  0%|          | 0/427 [00:00<?, ?it/s]IMAGEIO FFMPEG_WRITER WARNING: input image is not divisible by macro_block_size=16, resizing from (444, 333) to (448, 336) to ensure video compatibility with most codecs and players. To prevent resizing, make your input image divisible by the macro_block_size or set the macro_block_size to 1 (risking incompatibility).\n",
      "  0%|          | 1/427 [00:00<01:13,  5.77it/s][swscaler @ 0x734e900] Warning: data is not aligned! This can lead to a speed loss\n",
      "100%|██████████| 427/427 [00:07<00:00, 55.86it/s]\n",
      "  0%|          | 0/500 [00:00<?, ?it/s]IMAGEIO FFMPEG_WRITER WARNING: input image is not divisible by macro_block_size=16, resizing from (444, 333) to (448, 336) to ensure video compatibility with most codecs and players. To prevent resizing, make your input image divisible by the macro_block_size or set the macro_block_size to 1 (risking incompatibility).\n",
      "  0%|          | 1/500 [00:00<01:28,  5.63it/s][swscaler @ 0x61b6900] Warning: data is not aligned! This can lead to a speed loss\n",
      "100%|██████████| 500/500 [00:09<00:00, 55.44it/s]\n",
      "  0%|          | 0/232 [00:00<?, ?it/s]IMAGEIO FFMPEG_WRITER WARNING: input image is not divisible by macro_block_size=16, resizing from (444, 333) to (448, 336) to ensure video compatibility with most codecs and players. To prevent resizing, make your input image divisible by the macro_block_size or set the macro_block_size to 1 (risking incompatibility).\n",
      "  0%|          | 1/232 [00:00<00:41,  5.52it/s][swscaler @ 0x58be900] Warning: data is not aligned! This can lead to a speed loss\n",
      "100%|██████████| 232/232 [00:04<00:00, 51.06it/s]\n",
      "  0%|          | 0/415 [00:00<?, ?it/s]IMAGEIO FFMPEG_WRITER WARNING: input image is not divisible by macro_block_size=16, resizing from (444, 333) to (448, 336) to ensure video compatibility with most codecs and players. To prevent resizing, make your input image divisible by the macro_block_size or set the macro_block_size to 1 (risking incompatibility).\n",
      "  0%|          | 1/415 [00:00<01:13,  5.61it/s][swscaler @ 0x72df900] Warning: data is not aligned! This can lead to a speed loss\n",
      "100%|██████████| 415/415 [00:07<00:00, 54.92it/s]\n",
      "  0%|          | 0/544 [00:00<?, ?it/s]IMAGEIO FFMPEG_WRITER WARNING: input image is not divisible by macro_block_size=16, resizing from (444, 333) to (448, 336) to ensure video compatibility with most codecs and players. To prevent resizing, make your input image divisible by the macro_block_size or set the macro_block_size to 1 (risking incompatibility).\n",
      "  0%|          | 1/544 [00:00<01:34,  5.73it/s][swscaler @ 0x5bad900] Warning: data is not aligned! This can lead to a speed loss\n",
      "100%|██████████| 544/544 [00:09<00:00, 54.65it/s]\n",
      "  0%|          | 0/1094 [00:00<?, ?it/s]IMAGEIO FFMPEG_WRITER WARNING: input image is not divisible by macro_block_size=16, resizing from (444, 333) to (448, 336) to ensure video compatibility with most codecs and players. To prevent resizing, make your input image divisible by the macro_block_size or set the macro_block_size to 1 (risking incompatibility).\n",
      "  0%|          | 1/1094 [00:00<03:18,  5.50it/s][swscaler @ 0x588c900] Warning: data is not aligned! This can lead to a speed loss\n",
      "100%|██████████| 1094/1094 [00:19<00:00, 55.07it/s]\n",
      "  0%|          | 0/401 [00:00<?, ?it/s]IMAGEIO FFMPEG_WRITER WARNING: input image is not divisible by macro_block_size=16, resizing from (444, 333) to (448, 336) to ensure video compatibility with most codecs and players. To prevent resizing, make your input image divisible by the macro_block_size or set the macro_block_size to 1 (risking incompatibility).\n",
      "  0%|          | 1/401 [00:00<01:09,  5.73it/s][swscaler @ 0x6d06900] Warning: data is not aligned! This can lead to a speed loss\n",
      "100%|██████████| 401/401 [00:07<00:00, 55.66it/s]\n",
      "  0%|          | 0/496 [00:00<?, ?it/s]IMAGEIO FFMPEG_WRITER WARNING: input image is not divisible by macro_block_size=16, resizing from (444, 333) to (448, 336) to ensure video compatibility with most codecs and players. To prevent resizing, make your input image divisible by the macro_block_size or set the macro_block_size to 1 (risking incompatibility).\n",
      "  0%|          | 1/496 [00:00<01:28,  5.60it/s][swscaler @ 0x74be900] Warning: data is not aligned! This can lead to a speed loss\n",
      "100%|██████████| 496/496 [00:09<00:00, 54.44it/s]\n",
      "  0%|          | 0/461 [00:00<?, ?it/s]IMAGEIO FFMPEG_WRITER WARNING: input image is not divisible by macro_block_size=16, resizing from (444, 333) to (448, 336) to ensure video compatibility with most codecs and players. To prevent resizing, make your input image divisible by the macro_block_size or set the macro_block_size to 1 (risking incompatibility).\n",
      "  0%|          | 1/461 [00:00<01:22,  5.55it/s][swscaler @ 0x65bc900] Warning: data is not aligned! This can lead to a speed loss\n",
      "100%|██████████| 461/461 [00:08<00:00, 52.97it/s]\n",
      "  0%|          | 0/1269 [00:00<?, ?it/s]IMAGEIO FFMPEG_WRITER WARNING: input image is not divisible by macro_block_size=16, resizing from (444, 333) to (448, 336) to ensure video compatibility with most codecs and players. To prevent resizing, make your input image divisible by the macro_block_size or set the macro_block_size to 1 (risking incompatibility).\n",
      "  0%|          | 1/1269 [00:00<03:47,  5.58it/s][swscaler @ 0x7284900] Warning: data is not aligned! This can lead to a speed loss\n",
      "100%|██████████| 1269/1269 [00:22<00:00, 55.36it/s]\n",
      "  0%|          | 0/496 [00:00<?, ?it/s]IMAGEIO FFMPEG_WRITER WARNING: input image is not divisible by macro_block_size=16, resizing from (444, 333) to (448, 336) to ensure video compatibility with most codecs and players. To prevent resizing, make your input image divisible by the macro_block_size or set the macro_block_size to 1 (risking incompatibility).\n",
      "  0%|          | 1/496 [00:00<01:30,  5.49it/s][swscaler @ 0x5aae900] Warning: data is not aligned! This can lead to a speed loss\n",
      "100%|██████████| 496/496 [00:09<00:00, 54.26it/s]\n",
      "  0%|          | 0/449 [00:00<?, ?it/s]IMAGEIO FFMPEG_WRITER WARNING: input image is not divisible by macro_block_size=16, resizing from (444, 333) to (448, 336) to ensure video compatibility with most codecs and players. To prevent resizing, make your input image divisible by the macro_block_size or set the macro_block_size to 1 (risking incompatibility).\n",
      "  0%|          | 1/449 [00:00<01:21,  5.50it/s][swscaler @ 0x5e97900] Warning: data is not aligned! This can lead to a speed loss\n",
      "100%|██████████| 449/449 [00:08<00:00, 53.03it/s]\n",
      "  0%|          | 0/490 [00:00<?, ?it/s]IMAGEIO FFMPEG_WRITER WARNING: input image is not divisible by macro_block_size=16, resizing from (444, 333) to (448, 336) to ensure video compatibility with most codecs and players. To prevent resizing, make your input image divisible by the macro_block_size or set the macro_block_size to 1 (risking incompatibility).\n",
      "  0%|          | 1/490 [00:00<01:30,  5.43it/s][swscaler @ 0x5cf4900] Warning: data is not aligned! This can lead to a speed loss\n",
      "100%|██████████| 490/490 [00:09<00:00, 53.35it/s]\n"
     ]
    }
   ],
   "source": [
    "fig = plt.figure(0)\n",
    "fig.clear()\n",
    "ax = axes_2d(fig)\n",
    "\n",
    "for source in source_list[:20]:\n",
    "    #if 'TS' not in source: continue\n",
    "    subject, cam_id, action = split_source_name(source, dataset_name)\n",
    "    save_path = os.path.join(save_folder, f'{subject}_{cam_id}_{action}.mp4')\n",
    "    if os.path.exists(save_path): continue\n",
    "    \n",
    "    cam_param = cam_params[subject][action][cam_id]\n",
    "    W, H, R, t, C, intrinsic, extrinsic = cam_param['W'], cam_param['H'], cam_param['R'], cam_param['t'], cam_param['C'], cam_param['intrinsic'], cam_param['extrinsic']\n",
    "    fx, fy, cx, cy = intrinsic[0][0], intrinsic[1][1], intrinsic[0][2], intrinsic[1][2]\n",
    "\n",
    "    img_2d_canonical_fixed_dist_5 = img_2d_canonicals_fixed_dist_5[subject][action][cam_id]\n",
    "    img_2d_canonical_fixed_dist_5_norm = normalize_input(img_2d_canonical_fixed_dist_5, W, H)\n",
    "    \n",
    "    videowriter = imageio.get_writer(save_path, fps=6)\n",
    "    for frame_num in tqdm(range(0, len(img_2d_canonical_fixed_dist_5_norm), 5)):\n",
    "        clear_axes(ax)\n",
    "        draw_2d_pose(ax, img_2d_canonical_fixed_dist_5_norm[frame_num], normalize=True)\n",
    "        \n",
    "        canvas = FigureCanvas(fig)\n",
    "        canvas.draw()\n",
    "        image_from_plot = np.frombuffer(canvas.tostring_rgb(), dtype='uint8')\n",
    "        image_from_plot = image_from_plot.reshape(canvas.get_width_height()[::-1] + (3,))\n",
    "        videowriter.append_data(image_from_plot)\n",
    "    videowriter.close()"
   ]
  },
  {
   "cell_type": "code",
   "execution_count": null,
   "metadata": {},
   "outputs": [],
   "source": []
  }
 ],
 "metadata": {
  "kernelspec": {
   "display_name": "motionbert",
   "language": "python",
   "name": "python3"
  },
  "language_info": {
   "codemirror_mode": {
    "name": "ipython",
    "version": 3
   },
   "file_extension": ".py",
   "mimetype": "text/x-python",
   "name": "python",
   "nbconvert_exporter": "python",
   "pygments_lexer": "ipython3",
   "version": "3.9.18"
  }
 },
 "nbformat": 4,
 "nbformat_minor": 2
}
