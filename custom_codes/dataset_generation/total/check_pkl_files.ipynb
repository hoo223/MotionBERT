{
 "cells": [
  {
   "cell_type": "code",
   "execution_count": 1,
   "metadata": {},
   "outputs": [],
   "source": [
    "%load_ext autoreload\n",
    "%autoreload 2\n",
    "%matplotlib widget\n",
    "import os, sys, getpass\n",
    "user = getpass.getuser()\n",
    "sys.path.append(f'/home/{user}/codes/hpe_library/')\n",
    "from lib_import import *\n",
    "from my_utils import *\n",
    "os.chdir('/home/hrai/codes/MotionBERT')"
   ]
  },
  {
   "cell_type": "code",
   "execution_count": 2,
   "metadata": {},
   "outputs": [],
   "source": [
    "def get_subject_list_from_source_list(pkl_data, dataset_name, data_type):\n",
    "    if len(pkl_data[data_type]['source']) <= 243: subject_list = []\n",
    "    else:\n",
    "        subject_list = []\n",
    "        for source in pkl_data[data_type]['source']:\n",
    "            if dataset_name == 'fit3d': subject = source.split('_')[1]\n",
    "            else: subject = source.split('_')[0]\n",
    "            subject_list.append(subject)\n",
    "        subject_list = list(set(subject_list))\n",
    "    return subject_list"
   ]
  },
  {
   "cell_type": "code",
   "execution_count": 3,
   "metadata": {},
   "outputs": [
    {
     "data": {
      "text/plain": [
       "['/home/hrai/codes/MotionBERT/data/motion3d/fit3d_gt_canonical_3d_same_z_all_test.pkl',\n",
       " '/home/hrai/codes/MotionBERT/data/motion3d/h36m_gt_canonical_3d_same_dist_s15678_tr_54138969_ts_others.pkl',\n",
       " '/home/hrai/codes/MotionBERT/data/motion3d/3dhp_gt_test_canonical_3d_from_same_z_TS1_6.pkl',\n",
       " '/home/hrai/codes/MotionBERT/data/motion3d/fit3d_gt_canonical_3d_same_z_tr_s03.pkl',\n",
       " '/home/hrai/codes/MotionBERT/data/motion3d/h36m_gt_canonical_3d_same_z_tr_s1_ts_s5678.pkl',\n",
       " '/home/hrai/codes/MotionBERT/data/motion3d/3dhp_gt_test_TS1_4.pkl',\n",
       " '/home/hrai/codes/MotionBERT/data/motion3d/h36m_gt_canonical_3d_same_dist_tr_s1_ts_s5678.pkl',\n",
       " '/home/hrai/codes/MotionBERT/data/motion3d/3dhp_gt_test_canonical_3d_from_fixed_dist_5_TS1_6.pkl',\n",
       " '/home/hrai/codes/MotionBERT/data/motion3d/fit3d_all_train_except_target_action.pkl',\n",
       " '/home/hrai/codes/MotionBERT/data/motion3d/h36m_sh_conf_cam_source_final.pkl',\n",
       " '/home/hrai/codes/MotionBERT/data/motion3d/h36m_gt_canonical_3d_same_z.pkl',\n",
       " '/home/hrai/codes/MotionBERT/data/motion3d/3dhp_gt_test_all_train.pkl',\n",
       " '/home/hrai/codes/MotionBERT/data/motion3d/3dhp_gt_test_canonical_3d_from_same_z_TS1_4.pkl',\n",
       " '/home/hrai/codes/MotionBERT/data/motion3d/h36m_gt_dict.pkl',\n",
       " '/home/hrai/codes/MotionBERT/data/motion3d/fit3d_gt_all_test.pkl',\n",
       " '/home/hrai/codes/MotionBERT/data/motion3d/h36m_gt_s15678_tr_54138969_ts_others.pkl',\n",
       " '/home/hrai/codes/MotionBERT/data/motion3d/h36m_gt_canonical_3d_fixed_dist_5_tr_s1_ts_s5678.pkl',\n",
       " '/home/hrai/codes/MotionBERT/data/motion3d/fit3d_gt_canonical_3d_same_z_all_test_dict.pkl',\n",
       " '/home/hrai/codes/MotionBERT/data/motion3d/h36m_gt.pkl',\n",
       " '/home/hrai/codes/MotionBERT/data/motion3d/h36m_gt_canonical_3d_same_dist.pkl',\n",
       " '/home/hrai/codes/MotionBERT/data/motion3d/h36m_gt_canonical_3d_fixed_dist_tr_s1_ts_s5678.pkl',\n",
       " '/home/hrai/codes/MotionBERT/data/motion3d/3dhp_gt_test_TS1_6.pkl',\n",
       " '/home/hrai/codes/MotionBERT/data/motion3d/h36m_gt_canonical_3d_fixed_dist_5.pkl',\n",
       " '/home/hrai/codes/MotionBERT/data/motion3d/3dhp_gt_canonical_3d_same_z_test_all_train.pkl',\n",
       " '/home/hrai/codes/MotionBERT/data/motion3d/h36m_gt_canonical_3d_same_z_dict.pkl',\n",
       " '/home/hrai/codes/MotionBERT/data/motion3d/fit3d_gt_all_test_dict.pkl',\n",
       " '/home/hrai/codes/MotionBERT/data/motion3d/h36m_gt_tr_s1_ts_s5678.pkl',\n",
       " '/home/hrai/codes/MotionBERT/data/motion3d/fit3d_gt_ts_s4710.pkl',\n",
       " '/home/hrai/codes/MotionBERT/data/motion3d/poseaug_3dhp_test.pkl',\n",
       " '/home/hrai/codes/MotionBERT/data/motion3d/fit3d_gt_canonical_3d_fixed_dist_5_all_test.pkl',\n",
       " '/home/hrai/codes/MotionBERT/data/motion3d/3dhp_gt_canonical_3d_fixed_dist_5_test_all_train.pkl',\n",
       " '/home/hrai/codes/MotionBERT/data/motion3d/3dhp_gt_test.pkl',\n",
       " '/home/hrai/codes/MotionBERT/data/motion3d/fit3d_gt_canonical_3d_same_z_ts_s4710.pkl']"
      ]
     },
     "execution_count": 3,
     "metadata": {},
     "output_type": "execute_result"
    }
   ],
   "source": [
    "pkl_root = '/home/hrai/codes/MotionBERT/data/motion3d'\n",
    "pkl_list = glob(pkl_root + '/*.pkl')\n",
    "pkl_list"
   ]
  },
  {
   "cell_type": "code",
   "execution_count": 9,
   "metadata": {},
   "outputs": [
    {
     "name": "stdout",
     "output_type": "stream",
     "text": [
      "h36m same_z\n"
     ]
    },
    {
     "name": "stderr",
     "output_type": "stream",
     "text": [
      "100%|██████████| 236/236 [00:00<00:00, 394.84it/s]\n"
     ]
    },
    {
     "name": "stdout",
     "output_type": "stream",
     "text": [
      "joint_2d 543344\n",
      "==> Loading H36M data img_2d same_z...\n"
     ]
    },
    {
     "name": "stderr",
     "output_type": "stream",
     "text": [
      "100%|██████████| 236/236 [00:00<00:00, 945.30it/s]\n"
     ]
    },
    {
     "name": "stdout",
     "output_type": "stream",
     "text": [
      "joint_2d_from_canonical_3d 543344\n",
      "==> Loading H36M data img_2d_canonical same_z...\n"
     ]
    },
    {
     "name": "stderr",
     "output_type": "stream",
     "text": [
      "100%|██████████| 236/236 [00:00<00:00, 959.50it/s]\n"
     ]
    },
    {
     "name": "stdout",
     "output_type": "stream",
     "text": [
      "world_3d 543344\n",
      "==> Loading H36M data world_3d same_z...\n"
     ]
    },
    {
     "name": "stderr",
     "output_type": "stream",
     "text": [
      "100%|██████████| 236/236 [00:00<00:00, 2965.98it/s]\n"
     ]
    },
    {
     "name": "stdout",
     "output_type": "stream",
     "text": [
      "cam_3d 543344\n",
      "==> Loading H36M data cam_3d same_z...\n"
     ]
    },
    {
     "name": "stderr",
     "output_type": "stream",
     "text": [
      "100%|██████████| 236/236 [00:00<00:00, 2747.50it/s]\n"
     ]
    },
    {
     "name": "stdout",
     "output_type": "stream",
     "text": [
      "cam_3d_from_canonical_3d 543344\n",
      "==> Loading H36M data cam_3d_canonical same_z...\n"
     ]
    },
    {
     "name": "stderr",
     "output_type": "stream",
     "text": [
      "100%|██████████| 236/236 [00:00<00:00, 2689.66it/s]\n"
     ]
    },
    {
     "name": "stdout",
     "output_type": "stream",
     "text": [
      "h36m None\n"
     ]
    },
    {
     "name": "stderr",
     "output_type": "stream",
     "text": [
      "100%|██████████| 236/236 [00:00<00:00, 393.86it/s]\n"
     ]
    },
    {
     "name": "stdout",
     "output_type": "stream",
     "text": [
      "joint_2d 543344\n",
      "==> Loading H36M data img_2d None...\n"
     ]
    },
    {
     "name": "stderr",
     "output_type": "stream",
     "text": [
      "100%|██████████| 236/236 [00:00<00:00, 963.65it/s]\n"
     ]
    },
    {
     "name": "stdout",
     "output_type": "stream",
     "text": [
      "world_3d 543344\n",
      "==> Loading H36M data world_3d None...\n"
     ]
    },
    {
     "name": "stderr",
     "output_type": "stream",
     "text": [
      "100%|██████████| 236/236 [00:00<00:00, 2114.50it/s]\n"
     ]
    },
    {
     "name": "stdout",
     "output_type": "stream",
     "text": [
      "cam_3d 543344\n",
      "==> Loading H36M data cam_3d None...\n"
     ]
    },
    {
     "name": "stderr",
     "output_type": "stream",
     "text": [
      "100%|██████████| 236/236 [00:00<00:00, 2829.53it/s]\n"
     ]
    },
    {
     "name": "stdout",
     "output_type": "stream",
     "text": [
      "h36m fixed_dist_5\n"
     ]
    },
    {
     "name": "stderr",
     "output_type": "stream",
     "text": [
      "100%|██████████| 236/236 [00:00<00:00, 387.51it/s]\n"
     ]
    },
    {
     "name": "stdout",
     "output_type": "stream",
     "text": [
      "joint_2d 543344\n",
      "==> Loading H36M data img_2d fixed_dist_5...\n"
     ]
    },
    {
     "name": "stderr",
     "output_type": "stream",
     "text": [
      "100%|██████████| 236/236 [00:00<00:00, 949.02it/s]\n"
     ]
    },
    {
     "name": "stdout",
     "output_type": "stream",
     "text": [
      "joint_2d_from_canonical_3d 543344\n",
      "==> Loading H36M data img_2d_canonical fixed_dist_5...\n"
     ]
    },
    {
     "name": "stderr",
     "output_type": "stream",
     "text": [
      "100%|██████████| 236/236 [00:00<00:00, 937.14it/s]\n"
     ]
    },
    {
     "name": "stdout",
     "output_type": "stream",
     "text": [
      "cam_3d 543344\n",
      "==> Loading H36M data cam_3d fixed_dist_5...\n"
     ]
    },
    {
     "name": "stderr",
     "output_type": "stream",
     "text": [
      "100%|██████████| 236/236 [00:00<00:00, 2616.02it/s]\n"
     ]
    },
    {
     "name": "stdout",
     "output_type": "stream",
     "text": [
      "cam_3d_from_canonical_3d 543344\n",
      "==> Loading H36M data cam_3d_canonical fixed_dist_5...\n"
     ]
    },
    {
     "name": "stderr",
     "output_type": "stream",
     "text": [
      "100%|██████████| 236/236 [00:00<00:00, 2254.75it/s]\n"
     ]
    }
   ],
   "source": [
    "filtered_pkl_list = []\n",
    "blacklist_pkl_list = ['h36m_gt_dict.pkl', 'h36m_gt_s15678_tr_54138969_ts_others.pkl', 'h36m_gt_canonical_3d_same_dist_s15678_tr_54138969_ts_others.pkl', 'h36m_sh_conf_cam_source_final.pkl']\n",
    "whitelist_pkl_list = ['h36m_gt.pkl', 'h36m_gt_canonical_3d_same_z.pkl', 'h36m_gt_canonical_3d_fixed_dist_5.pkl']\n",
    "blacklist_data_type = ['world_3d_from_canonical_3d', 'confidence', 'joint3d_image_from_canonical_3d', 'frame', 'camera_name', 'action', 'source', 'cam_param', 'joints_2.5d_image', 'joints_2.5d_image_from_canonical_3d', '2.5d_factor_from_canonical_3d']\n",
    "whitelist_data_type = ['joint_2d', 'joint_2d_from_canonical_3d', 'cam_3d_from_canonical_3d', 'world_3d', 'cam_3d']\n",
    "train_subject = ['S1', 'S5', 'S8', 'S6', 'S7'] \n",
    "test_subject = ['S9', 'S11']\n",
    "\n",
    "\n",
    "error_list = {}\n",
    "for item in pkl_list:\n",
    "    pkl_name = os.path.basename(item)\n",
    "    if pkl_name not in whitelist_pkl_list: continue\n",
    "    error_list[pkl_name] = {}\n",
    "    dataset_name = pkl_name.split('_')[0]\n",
    "    if dataset_name != 'h36m': continue\n",
    "    filtered_pkl_list.append(item)\n",
    "    if 'canonical_3d_same_z' in pkl_name: canonical_type = 'same_z'\n",
    "    elif 'canonical_3d_fixed_dist_5' in pkl_name: canonical_type = 'fixed_dist_5'\n",
    "    elif 'canonical_3d_same_dist' in pkl_name: canonical_type = 'same_dist'\n",
    "    else: canonical_type = None\n",
    "    print(dataset_name, canonical_type)\n",
    "    pkl_data = readpkl(item)\n",
    "    # train_subject = get_subject_list_from_source_list(pkl_data, dataset_name, 'train')\n",
    "    # test_subject = get_subject_list_from_source_list(pkl_data, dataset_name, 'test')\n",
    "    # print(train_subject, test_subject)\n",
    "    \n",
    "    source_location = {}\n",
    "    for source in tqdm(list(set(pkl_data['test']['source']))):\n",
    "        source_location[source] = np.where(pkl_data['test']['source'] == source)[0]\n",
    "\n",
    "    for item in list(pkl_data['test'].keys()):\n",
    "        if item not in whitelist_data_type: continue\n",
    "        error_list[pkl_name][item] = []\n",
    "        print(item, len(pkl_data['test'][item]))\n",
    "        if item == 'joint_2d':                     data_type = 'img_2d'\n",
    "        elif item == 'joint_2d_from_canonical_3d': data_type = 'img_2d_canonical'\n",
    "        elif item == 'cam_3d_from_canonical_3d':   data_type = 'cam_3d_canonical'\n",
    "        elif item == 'joint3d_image':              data_type = 'img_3d'\n",
    "        elif item == '2.5d_factor':                data_type = 'scale_factor'\n",
    "        else:                                      data_type = item\n",
    "            \n",
    "        data_tar = pkl_data['test'][item].copy()\n",
    "        data_src = load_data(dataset_name=dataset_name, data_type=data_type, canonical_type=canonical_type, overwrite=False)\n",
    "        error_cnt = 0\n",
    "        for source in tqdm(source_location.keys()):\n",
    "            location = source_location[source]\n",
    "            subject, cam_id, action = source.split('_')\n",
    "            _data_tar = pkl_data['test'][item][location].copy()\n",
    "            if data_type == 'world_3d': _data_src = data_src[subject][action]\n",
    "            elif 'img_2d' in data_type: _data_src = data_src[subject][action][cam_id][...,:2]\n",
    "            else: _data_src = data_src[subject][action][cam_id]\n",
    "            if item == 'joint3d_image': atol = 1\n",
    "            else: atol = 1e-07\n",
    "            if not np.allclose(_data_tar, _data_src, atol=1e-07): \n",
    "                error_cnt += 1\n",
    "                error_list[pkl_name][item].append(f'{item} {error_cnt} {(_data_tar - _data_src).max()}, {(_data_tar - _data_src).argmax()}')"
   ]
  },
  {
   "cell_type": "code",
   "execution_count": 10,
   "metadata": {},
   "outputs": [
    {
     "name": "stdout",
     "output_type": "stream",
     "text": [
      "h36m_gt_canonical_3d_same_z.pkl\n",
      "joint_2d 0\n",
      "joint_2d_from_canonical_3d 0\n",
      "world_3d 0\n",
      "cam_3d 0\n",
      "cam_3d_from_canonical_3d 0\n",
      "h36m_gt.pkl\n",
      "joint_2d 0\n",
      "world_3d 0\n",
      "cam_3d 0\n",
      "h36m_gt_canonical_3d_fixed_dist_5.pkl\n",
      "joint_2d 0\n",
      "joint_2d_from_canonical_3d 0\n",
      "cam_3d 0\n",
      "cam_3d_from_canonical_3d 236\n"
     ]
    }
   ],
   "source": [
    "for key in error_list.keys():\n",
    "    print(key)\n",
    "    for data_type in error_list[key].keys():\n",
    "        print(data_type, len(error_list[key][data_type]))"
   ]
  },
  {
   "cell_type": "markdown",
   "metadata": {},
   "source": [
    "### Compare cam_3d_from_canonical_3d_fixed_dist_5"
   ]
  },
  {
   "cell_type": "code",
   "execution_count": 14,
   "metadata": {},
   "outputs": [],
   "source": [
    "pkl_data = readpkl( '/home/hrai/codes/MotionBERT/data/motion3d/h36m_gt_canonical_3d_fixed_dist_5.pkl')"
   ]
  },
  {
   "cell_type": "code",
   "execution_count": 15,
   "metadata": {},
   "outputs": [
    {
     "name": "stdout",
     "output_type": "stream",
     "text": [
      "==> Loading H36M data cam_3d_canonical fixed_dist_5...\n"
     ]
    }
   ],
   "source": [
    "cam_3d_canonical_h36m = load_data(dataset_name='h36m', data_type='cam_3d_canonical', canonical_type='fixed_dist_5', overwrite=False)"
   ]
  },
  {
   "cell_type": "code",
   "execution_count": 16,
   "metadata": {},
   "outputs": [],
   "source": [
    "source = pkl_data['test']['source'][0]\n",
    "subject, cam_id, action = source.split('_')\n",
    "cam_3d_from_canonical_3d_tar = pkl_data['test']['cam_3d_from_canonical_3d'][0]\n",
    "cam_3d_from_canonical_3d_src = cam_3d_canonical_h36m[subject][action][cam_id][0]"
   ]
  },
  {
   "cell_type": "code",
   "execution_count": 17,
   "metadata": {},
   "outputs": [
    {
     "data": {
      "text/plain": [
       "array([[-2.22044605e-16,  0.00000000e+00,  8.88178420e-16],\n",
       "       [-1.38777878e-16, -2.22044605e-16,  8.88178420e-16],\n",
       "       [-1.38777878e-16, -2.22044605e-16,  8.88178420e-16],\n",
       "       [-2.22044605e-16, -3.33066907e-16,  8.88178420e-16],\n",
       "       [-4.16333634e-17, -2.22044605e-16,  8.88178420e-16],\n",
       "       [ 9.71445147e-17, -4.44089210e-16,  8.88178420e-16],\n",
       "       [-2.37011730e-10,  3.58440522e-09,  9.86740467e-10],\n",
       "       [ 8.32667268e-17, -3.60822483e-16,  8.88178420e-16],\n",
       "       [ 1.38777878e-17, -2.22044605e-16,  8.88178420e-16],\n",
       "       [-4.16333634e-17, -4.44089210e-16,  1.77635684e-15],\n",
       "       [-1.11022302e-16, -4.44089210e-16,  1.77635684e-15],\n",
       "       [ 2.22044605e-16, -4.44089210e-16,  8.88178420e-16],\n",
       "       [ 1.36414278e-08, -7.36211425e-10,  5.95097127e-09],\n",
       "       [ 1.36414272e-08, -7.36211536e-10,  5.95097127e-09],\n",
       "       [-8.32667268e-17, -2.22044605e-16,  8.88178420e-16],\n",
       "       [ 1.36414275e-08, -7.36211314e-10,  5.95097127e-09],\n",
       "       [ 1.36414275e-08, -7.36211203e-10,  5.95097216e-09]])"
      ]
     },
     "execution_count": 17,
     "metadata": {},
     "output_type": "execute_result"
    }
   ],
   "source": [
    "cam_3d_from_canonical_3d_src - cam_3d_from_canonical_3d_tar*1000"
   ]
  },
  {
   "cell_type": "code",
   "execution_count": 19,
   "metadata": {},
   "outputs": [
    {
     "data": {
      "text/plain": [
       "array([[ 2.22044605e-16,  0.00000000e+00,  5.00000000e+00],\n",
       "       [-1.14822700e-01, -1.00883456e-02,  4.95408178e+00],\n",
       "       [-1.75739493e-01,  4.34277366e-01,  5.10171154e+00],\n",
       "       [-2.62543082e-01,  8.49633830e-01,  5.30059061e+00],\n",
       "       [ 1.14822996e-01,  1.00883911e-02,  5.04591836e+00],\n",
       "       [ 9.49098671e-02,  4.56449337e-01,  5.19866864e+00],\n",
       "       [ 5.40998990e-02,  8.71786481e-01,  5.41183045e+00],\n",
       "       [ 2.13018368e-02, -2.45163514e-01,  4.92842082e+00],\n",
       "       [ 3.49112291e-02, -4.90075550e-01,  4.87830568e+00],\n",
       "       [ 5.70677237e-02, -5.82878766e-01,  4.80461929e+00],\n",
       "       [ 4.42193192e-02, -6.94898080e-01,  4.82722266e+00],\n",
       "       [ 1.93368032e-01, -4.99214627e-01,  4.96997861e+00],\n",
       "       [ 4.58731849e-01, -4.67511548e-01,  5.09797373e+00],\n",
       "       [ 7.04112560e-01, -4.50568751e-01,  5.13683072e+00],\n",
       "       [-1.42880809e-01, -4.80376581e-01,  4.83480765e+00],\n",
       "       [-4.24971698e-01, -4.40937372e-01,  4.75310656e+00],\n",
       "       [-6.34526430e-01, -4.23155928e-01,  4.61976831e+00]])"
      ]
     },
     "execution_count": 19,
     "metadata": {},
     "output_type": "execute_result"
    }
   ],
   "source": [
    "cam_3d_from_canonical_3d_tar*1000"
   ]
  },
  {
   "cell_type": "code",
   "execution_count": 33,
   "metadata": {},
   "outputs": [
    {
     "data": {
      "text/plain": [
       "array([[ 2.22044605e-16,  0.00000000e+00,  5.00000000e+00],\n",
       "       [-1.14822700e-01, -1.00883456e-02,  4.95408178e+00],\n",
       "       [-1.75739493e-01,  4.34277366e-01,  5.10171154e+00],\n",
       "       [-2.62543082e-01,  8.49633830e-01,  5.30059061e+00],\n",
       "       [ 1.14822996e-01,  1.00883911e-02,  5.04591836e+00],\n",
       "       [ 9.49098671e-02,  4.56449337e-01,  5.19866864e+00],\n",
       "       [ 5.40998990e-02,  8.71786481e-01,  5.41183045e+00],\n",
       "       [ 2.13018368e-02, -2.45163514e-01,  4.92842082e+00],\n",
       "       [ 3.49112291e-02, -4.90075550e-01,  4.87830568e+00],\n",
       "       [ 5.70677237e-02, -5.82878766e-01,  4.80461929e+00],\n",
       "       [ 4.42193192e-02, -6.94898080e-01,  4.82722266e+00],\n",
       "       [ 1.93368032e-01, -4.99214627e-01,  4.96997861e+00],\n",
       "       [ 4.58731849e-01, -4.67511548e-01,  5.09797373e+00],\n",
       "       [ 7.04112560e-01, -4.50568751e-01,  5.13683072e+00],\n",
       "       [-1.42880809e-01, -4.80376581e-01,  4.83480765e+00],\n",
       "       [-4.24971698e-01, -4.40937372e-01,  4.75310656e+00],\n",
       "       [-6.34526430e-01, -4.23155928e-01,  4.61976831e+00]])"
      ]
     },
     "execution_count": 33,
     "metadata": {},
     "output_type": "execute_result"
    }
   ],
   "source": [
    "cam_3d_from_canonical_3d_tar*1000"
   ]
  },
  {
   "cell_type": "markdown",
   "metadata": {},
   "source": [
    "### Compare img_3d"
   ]
  },
  {
   "cell_type": "code",
   "execution_count": 2,
   "metadata": {},
   "outputs": [],
   "source": [
    "pkl_data = readpkl( '/home/hrai/codes/MotionBERT/data/motion3d/h36m_gt.pkl')"
   ]
  },
  {
   "cell_type": "code",
   "execution_count": 3,
   "metadata": {},
   "outputs": [
    {
     "data": {
      "text/plain": [
       "(1559752, 17)"
      ]
     },
     "execution_count": 3,
     "metadata": {},
     "output_type": "execute_result"
    }
   ],
   "source": [
    "pkl_data['train']['confidence'].shape"
   ]
  },
  {
   "cell_type": "code",
   "execution_count": 8,
   "metadata": {},
   "outputs": [
    {
     "name": "stdout",
     "output_type": "stream",
     "text": [
      "==> Loading H36M data cam_3d ...\n",
      "==> Loading H36M data img_3d ...\n"
     ]
    }
   ],
   "source": [
    "cam_3d_h36m = load_data(dataset_name='h36m', data_type='cam_3d', overwrite=False)\n",
    "img_3d_h36m = load_data(dataset_name='h36m', data_type='img_3d', overwrite=False)\n",
    "#scale_factor_h36m = load_data(dataset_name='h36m', data_type='scale_factor', overwrite=True)"
   ]
  },
  {
   "cell_type": "code",
   "execution_count": 9,
   "metadata": {},
   "outputs": [
    {
     "data": {
      "text/plain": [
       "((17, 3), (17, 3))"
      ]
     },
     "execution_count": 9,
     "metadata": {},
     "output_type": "execute_result"
    }
   ],
   "source": [
    "source = pkl_data['test']['source'][0]\n",
    "subject, cam_id, action = source.split('_')\n",
    "cam_3d_tar = pkl_data['test']['cam_3d'][0]\n",
    "img_3d_tar = pkl_data['test']['joint3d_image'][0]\n",
    "cam_3d_src = cam_3d_h36m[subject][action][cam_id][0]\n",
    "img_3d_src = img_3d_h36m[subject][action][cam_id][0]\n",
    "cam_3d_tar_hat = cam_3d_tar.copy() - cam_3d_tar[0]\n",
    "cam_3d_src_hat = cam_3d_src.copy() - cam_3d_src[0]\n",
    "img_3d_tar_hat = img_3d_tar.copy() - img_3d_tar[0]\n",
    "img_3d_src_hat = img_3d_src.copy() - img_3d_src[0]\n",
    "#scale_factor_tar = pkl_data['test']['2.5d_factor'][0]\n",
    "#scale_factor_src = 1/scale_factor_h36m[subject][action][cam_id][1]\n",
    "img_3d_tar.shape, img_3d_src.shape"
   ]
  },
  {
   "cell_type": "code",
   "execution_count": 111,
   "metadata": {},
   "outputs": [
    {
     "data": {
      "text/plain": [
       "(3.6946566104888916, 3.7103521073730272)"
      ]
     },
     "execution_count": 111,
     "metadata": {},
     "output_type": "execute_result"
    }
   ],
   "source": [
    "scale_factor_tar, scale_factor_src"
   ]
  },
  {
   "cell_type": "code",
   "execution_count": 10,
   "metadata": {},
   "outputs": [
    {
     "data": {
      "text/plain": [
       "array([[ 0.00000000e+00,  0.00000000e+00,  0.00000000e+00],\n",
       "       [ 0.00000000e+00, -1.13686838e-13, -2.29361534e-02],\n",
       "       [ 0.00000000e+00, -1.13686838e-13,  5.08049125e-02],\n",
       "       [ 0.00000000e+00,  0.00000000e+00,  1.50145008e-01],\n",
       "       [ 0.00000000e+00, -5.68434189e-14,  2.29362186e-02],\n",
       "       [ 0.00000000e+00, -5.68434189e-14,  9.92349873e-02],\n",
       "       [-5.68434189e-14, -1.13686838e-13,  2.05709309e-01],\n",
       "       [ 0.00000000e+00, -1.13686838e-13, -3.57537982e-02],\n",
       "       [ 5.68434189e-14, -2.84217094e-14, -6.07863136e-02],\n",
       "       [-5.68434189e-14,  0.00000000e+00, -9.75926624e-02],\n",
       "       [ 0.00000000e+00, -5.68434189e-14, -8.63022808e-02],\n",
       "       [ 0.00000000e+00, -5.68434189e-14, -1.49956859e-02],\n",
       "       [ 0.00000000e+00, -5.68434189e-14,  4.89378836e-02],\n",
       "       [ 0.00000000e+00, -8.52651283e-14,  6.83469496e-02],\n",
       "       [ 0.00000000e+00, -1.70530257e-13, -8.25135808e-02],\n",
       "       [ 5.68434189e-14, -1.13686838e-13, -1.23323270e-01],\n",
       "       [-5.68434189e-14, -1.13686838e-13, -1.89925724e-01]])"
      ]
     },
     "execution_count": 10,
     "metadata": {},
     "output_type": "execute_result"
    }
   ],
   "source": [
    "(img_3d_tar_hat - img_3d_src_hat)"
   ]
  },
  {
   "cell_type": "code",
   "execution_count": 13,
   "metadata": {},
   "outputs": [
    {
     "data": {
      "text/plain": [
       "array([[ 0.00000000e+00,  0.00000000e+00,  0.00000000e+00],\n",
       "       [ 0.00000000e+00, -1.13686838e-16, -2.29361534e-05],\n",
       "       [ 0.00000000e+00, -1.13686838e-16,  5.08049125e-05],\n",
       "       [ 0.00000000e+00,  0.00000000e+00,  1.50145008e-04],\n",
       "       [ 0.00000000e+00, -5.68434189e-17,  2.29362186e-05],\n",
       "       [ 0.00000000e+00, -5.68434189e-17,  9.92349873e-05],\n",
       "       [-5.68434189e-17, -1.13686838e-16,  2.05709309e-04],\n",
       "       [ 0.00000000e+00, -1.13686838e-16, -3.57537982e-05],\n",
       "       [ 5.68434189e-17, -2.84217094e-17, -6.07863136e-05],\n",
       "       [-5.68434189e-17,  0.00000000e+00, -9.75926624e-05],\n",
       "       [ 0.00000000e+00, -5.68434189e-17, -8.63022808e-05],\n",
       "       [ 0.00000000e+00, -5.68434189e-17, -1.49956859e-05],\n",
       "       [ 0.00000000e+00, -5.68434189e-17,  4.89378836e-05],\n",
       "       [ 0.00000000e+00, -8.52651283e-17,  6.83469496e-05],\n",
       "       [ 0.00000000e+00, -1.70530257e-16, -8.25135808e-05],\n",
       "       [ 5.68434189e-17, -1.13686838e-16, -1.23323270e-04],\n",
       "       [-5.68434189e-17, -1.13686838e-16, -1.89925724e-04]])"
      ]
     },
     "execution_count": 13,
     "metadata": {},
     "output_type": "execute_result"
    }
   ],
   "source": [
    "(img_3d_tar_hat-img_3d_src_hat)/1000"
   ]
  },
  {
   "cell_type": "code",
   "execution_count": 11,
   "metadata": {},
   "outputs": [
    {
     "data": {
      "application/vnd.jupyter.widget-view+json": {
       "model_id": "325e204ba6ac491d9210d0e993a7e969",
       "version_major": 2,
       "version_minor": 0
      },
      "image/png": "[encoded data removed]",
      "text/html": [
       "\n",
       "            <div style=\"display: inline-block;\">\n",
       "                <div class=\"jupyter-widgets widget-label\" style=\"text-align: center;\">\n",
       "                    Figure\n",
       "                </div>\n",
       "                <img src='data:image/png;base64,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' width=640.0/>\n",
       "            </div>\n",
       "        "
      ],
      "text/plain": [
       "Canvas(toolbar=Toolbar(toolitems=[('Home', 'Reset original view', 'home', 'home'), ('Back', 'Back to previous …"
      ]
     },
     "metadata": {},
     "output_type": "display_data"
    }
   ],
   "source": [
    "fig = plt.figure(0)\n",
    "fig.clear()\n",
    "plot_configs = load_plot_configs(dataset_name)\n",
    "ax_cam_scaled = axes_3d(fig,\n",
    "                        xlim=plot_configs['ax_cam_scaled_xlim'], \n",
    "                        ylim=plot_configs['ax_cam_scaled_ylim'], \n",
    "                        zlim=plot_configs['ax_cam_scaled_zlim'],\n",
    "                        view=plot_configs['ax_cam_scaled_view'])\n",
    "\n",
    "#draw_3d_pose(ax_cam_scaled, cam_3d_tar_hat*1000, color='k', markeredgewidth=5)\n",
    "#draw_3d_pose(ax_cam_scaled, cam_3d_src_hat*1000, color='b', markeredgewidth=5)\n",
    "draw_3d_pose(ax_cam_scaled, img_3d_tar_hat, color='r', markeredgewidth=5)\n",
    "draw_3d_pose(ax_cam_scaled, img_3d_src_hat, color='b', markeredgewidth=5)\n",
    "\n",
    "plt.show()"
   ]
  }
 ],
 "metadata": {
  "language_info": {
   "name": "python"
  }
 },
 "nbformat": 4,
 "nbformat_minor": 2
}
