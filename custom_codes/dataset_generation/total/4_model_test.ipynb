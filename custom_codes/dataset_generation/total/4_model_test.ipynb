{
 "cells": [
  {
   "cell_type": "code",
   "execution_count": 1,
   "metadata": {},
   "outputs": [],
   "source": [
    "%load_ext autoreload\n",
    "%autoreload 2\n",
    "%matplotlib widget\n",
    "import os, sys, getpass\n",
    "user = getpass.getuser()\n",
    "sys.path.append(f'/home/{user}/codes/hpe_library/')\n",
    "from lib_import import *\n",
    "from my_utils import *\n",
    "os.chdir('/home/hrai/codes/MotionBERT')\n",
    "\n",
    "from lib.data.datareader_total import DataReaderTotal\n",
    "from lib.data.datareader_h36m import DataReaderH36M\n",
    "from lib.data.datareader_fit3d import DataReaderFIT3D\n",
    "from lib.utils.args import get_opts_args, get_opt_args_from_model_name\n",
    "from lib.model.load_model import load_model\n",
    "from lib.model.load_dataset import load_dataset\n",
    "from lib.data.dataset_motion_3d import MotionDataset3DTotal\n",
    "from lib.model.evaluation import *"
   ]
  },
  {
   "cell_type": "code",
   "execution_count": 2,
   "metadata": {},
   "outputs": [
    {
     "name": "stdout",
     "output_type": "stream",
     "text": [
      "configs/pose3d/MB_train_h36m_gt_cam_no_factor_s15678_tr_54138969_ts_others.yaml\n",
      "True\n",
      "MB_train_h36m_gt_cam_no_factor_s15678_tr_54138969_ts_others\n",
      "Loading checkpoint checkpoint/pose3d/MB_train_h36m_gt_cam_no_factor_s15678_tr_54138969_ts_others/best_epoch.bin\n"
     ]
    }
   ],
   "source": [
    "checkpoint = 'MB_train_h36m_gt_cam_no_factor_s15678_tr_54138969_ts_others'\n",
    "args, opts = get_opt_args_from_model_name(checkpoint)\n",
    "model_pos, chk_filename, checkpoint = load_model(opts, args)"
   ]
  },
  {
   "cell_type": "code",
   "execution_count": 7,
   "metadata": {},
   "outputs": [
    {
     "name": "stdout",
     "output_type": "stream",
     "text": [
      "Loading dataset...\n",
      "H36M-GT-CAM_NO_FACTOR-S15678_TR_54138969_TS_OTHERS\n",
      "==> Loading H36M source_list... overwrite: False\n",
      "==> Loading H36M cam_param... overwrite: False\n",
      "==> Loading H36M cam_3d... overwrite: False\n",
      "==> Loading H36M img_2d... overwrite: False\n"
     ]
    }
   ],
   "source": [
    "subset = 'H36M-GT-CAM_NO_FACTOR-S15678_TR_54138969_TS_OTHERS'\n",
    "args.subset_list = [subset]\n",
    "train_loader, test_loader, _, _, datareader = load_dataset(args, use_new_datareader=True)"
   ]
  },
  {
   "cell_type": "code",
   "execution_count": null,
   "metadata": {},
   "outputs": [],
   "source": [
    "if '3DHP' in subset:\n",
    "    args.eval_part = 'whole_without_nose'\n",
    "    args.part_list = ['whole_without_nose']"
   ]
  },
  {
   "cell_type": "code",
   "execution_count": 6,
   "metadata": {},
   "outputs": [
    {
     "name": "stdout",
     "output_type": "stream",
     "text": [
      "INFO: Testing\n",
      "No epoch information in the checkpoint\n"
     ]
    },
    {
     "name": "stderr",
     "output_type": "stream",
     "text": [
      "  0%|          | 0/287 [00:00<?, ?it/s]"
     ]
    },
    {
     "name": "stderr",
     "output_type": "stream",
     "text": [
      "100%|██████████| 287/287 [01:35<00:00,  2.99it/s]\n"
     ]
    },
    {
     "name": "stdout",
     "output_type": "stream",
     "text": [
      "No eval_keypoint. Use part list\n",
      "Part: whole\n",
      "+------------+-------------------+--------------------+-------------------+-------------------+--------------------+-------------------+--------------------+--------------------+-------------------+------------------+--------------------+-------------------+-------------------+-------------------+-------------------+-------------------+-------------------+--------------------+-------------------+-------------------+-------------------+-------------------+-------------------+-------------------+--------------------+------------------+--------------------+--------------------+--------------------+-------------------+-------------------+-------------------+-------------------+--------------------+--------------------+--------------------+--------------------+--------------------+--------------------+-------------------+-------------------+--------------------+--------------------+--------------------+\n",
      "| test_name  |     Directions    |    Directions 1    |    Directions 2   |     Discussion    |    Discussion 1    |    Discussion 2   |    Discussion 3    |       Eating       |      Eating 1     |     Eating 2     |      Greeting      |     Greeting 1    |     Greeting 2    |      Phoning      |     Phoning 1     |     Phoning 2     |       Photo       |      Photo 1       |      Photo 2      |       Posing      |      Posing 1     |      Posing 2     |     Purchases     |    Purchases 1    |      Sitting       |    Sitting 1     |     Sitting 2      |    SittingDown     |   SittingDown 1    |   SittingDown 2   |      Smoking      |     Smoking 1     |      Waiting      |     Waiting 1      |     Waiting 2      |     Waiting 3      |      WalkDog       |     WalkDog 1      |    WalkTogether    |   WalkTogether 1  |   WalkTogether 2  |      Walking       |     Walking 1      |     Walking 2      |\n",
      "+------------+-------------------+--------------------+-------------------+-------------------+--------------------+-------------------+--------------------+--------------------+-------------------+------------------+--------------------+-------------------+-------------------+-------------------+-------------------+-------------------+-------------------+--------------------+-------------------+-------------------+-------------------+-------------------+-------------------+-------------------+--------------------+------------------+--------------------+--------------------+--------------------+-------------------+-------------------+-------------------+-------------------+--------------------+--------------------+--------------------+--------------------+--------------------+--------------------+-------------------+-------------------+--------------------+--------------------+--------------------+\n",
      "| P1 (whole) | 64.64131681349447 | 66.53216434440618  | 69.65834882903467 | 65.68246711454633 | 67.53805809324986  |  65.2744617616194 | 65.78040290054591  | 72.41920067137693  | 70.13048785208275 | 78.6275433448727 |  72.1756201805428  | 68.35235212394781 | 71.25971370983704 | 69.42403886483821 | 70.75061219065583 | 72.61341258760088 | 70.99677948025973 |  73.0147733749719  | 73.73848818556745 | 74.39635670781341 | 71.98911230060776 | 79.81193475583981 | 71.35698769165849 | 74.64283949971522 | 101.67748690144553 | 98.2006472843956 | 106.98052391659455 | 123.39814587449833 | 109.96096250612703 | 89.09374891062362 | 68.00102485664573 | 73.87152864862125 | 87.26020466119961 | 67.74699643755548  | 63.473498599394844 |  109.401436916348  | 66.79524452558859  | 70.67377408745324  | 52.92093506800523  | 52.27939287051037 | 45.19387843031819 | 50.90643452571689  | 50.66403806732058  | 46.710722348299605 |\n",
      "| P2 (whole) | 32.09252177036876 | 30.554745914664153 | 29.25126681380122 | 31.59959808105776 | 31.570463770979966 | 29.34528230529764 | 28.118849229705713 | 37.575581166677175 |  37.3866846850143 | 46.7218262101165 | 40.345453886873415 |  34.8576728671492 | 33.31413188158615 | 41.47023796924792 | 42.28927175723921 | 38.56698193278085 | 37.99230337482393 | 43.457948314346716 | 40.59903964995106 | 40.29643560376163 | 37.60807262983047 | 53.49484967274361 | 35.35893131512772 | 38.43764393921296 | 69.55005508626934  | 63.4551096417273 | 66.57162241269705  | 88.63712861175595  |  81.9052095066197  | 70.74016820258541 | 40.36278947157303 | 45.95797649635603 | 47.50398437228596 | 32.806044495444205 | 29.700972072199253 | 59.362386176200836 | 39.617079625755224 | 41.190644399189004 | 23.752877221348314 | 25.10696365725363 | 24.35670730561397 | 25.676999157495672 | 24.733025234204433 | 20.098977615570846 |\n",
      "+------------+-------------------+--------------------+-------------------+-------------------+--------------------+-------------------+--------------------+--------------------+-------------------+------------------+--------------------+-------------------+-------------------+-------------------+-------------------+-------------------+-------------------+--------------------+-------------------+-------------------+-------------------+-------------------+-------------------+-------------------+--------------------+------------------+--------------------+--------------------+--------------------+-------------------+-------------------+-------------------+-------------------+--------------------+--------------------+--------------------+--------------------+--------------------+--------------------+-------------------+-------------------+--------------------+--------------------+--------------------+\n",
      "Protocol #1 Error (MPJPE): 73.54586588217609 mm\n",
      "Protocol #2 Error (P-MPJPE): 41.21346626146598 mm\n",
      "----------------------------------------\n"
     ]
    }
   ],
   "source": [
    "e1, e2, results_all, inputs_all, gts_all, total_result_dict = evaluate(args, model_pos, test_loader, datareader, checkpoint, only_one_batch=False)"
   ]
  },
  {
   "cell_type": "markdown",
   "metadata": {},
   "source": [
    "### save total results"
   ]
  },
  {
   "cell_type": "code",
   "execution_count": null,
   "metadata": {},
   "outputs": [],
   "source": [
    "config_root = 'configs/pose3d/'\n",
    "checkpoint_root = 'checkpoint/pose3d/'\n",
    "\n",
    "blacklist = ['MB_ft_h36m']\n",
    "if os.path.exists('result_dict.pkl'):\n",
    "    result_dict = readpkl('result_dict.pkl')\n",
    "else:\n",
    "    result_dict = {}\n",
    "for i, item in enumerate(natsorted(glob('/home/hrai/codes/MotionBERT/custom_codes/evaluation/experiments/*.txt'))):\n",
    "    checkpoint = os.path.basename(item).split('.')[0]\n",
    "    if checkpoint in blacklist: continue\n",
    "    if 'cam_no_factor' not in checkpoint: continue\n",
    "    if not os.path.exists(checkpoint_root+checkpoint+'/best_epoch.bin'): \n",
    "        print(f'{checkpoint} not exists')\n",
    "        continue\n",
    "    config = checkpoint + '.yaml'\n",
    "    input_args = ['--config', config_root+config, '--evaluate', checkpoint_root+checkpoint+'/best_epoch.bin']\n",
    "    args, opts = get_opts_args(input_args, verbose=False)\n",
    "    args.print_summary_table = False\n",
    "    \n",
    "    testloader_params = {\n",
    "        'batch_size': args.batch_size,\n",
    "        'shuffle': False,\n",
    "        'num_workers': 12,\n",
    "        'pin_memory': True,\n",
    "        'prefetch_factor': 4,\n",
    "        'persistent_workers': True\n",
    "    }\n",
    "    \n",
    "    model_pos, _, _ = load_model(opts, args, verbose=False)\n",
    "    print(f'[{checkpoint}] ({i+1}/{len(glob(\"/home/hrai/codes/MotionBERT/custom_codes/evaluation/experiments/*.txt\"))})')\n",
    "    if checkpoint not in result_dict.keys(): result_dict[checkpoint] = {}\n",
    "    with open(item, 'r') as file:\n",
    "        lines = file.readlines()\n",
    "    subset_list = [line.split('\\n')[0] for line in lines]\n",
    "    for subset in subset_list:\n",
    "        print(subset)\n",
    "        if subset not in result_dict[checkpoint].keys(): result_dict[checkpoint][subset] = {}\n",
    "        else:\n",
    "            if 'e1' in result_dict[checkpoint][subset].keys() and 'e2' in result_dict[checkpoint][subset].keys(): \n",
    "                if result_dict[checkpoint][subset]['e1'] != None and result_dict[checkpoint][subset]['e2'] != None: continue\n",
    "        try:\n",
    "            datareader = DataReaderTotal(n_frames=243, \n",
    "                                        sample_stride=1, \n",
    "                                        data_stride_train=81, \n",
    "                                        data_stride_test=243, \n",
    "                                        subset=subset,\n",
    "                                        verbose=False)\n",
    "            train_data, test_data, train_labels, test_labels = datareader.get_sliced_data()\n",
    "            test_dataset = MotionDataset3DTotal(args, test_data.copy(), test_labels.copy(), 'test')\n",
    "            test_loader = DataLoader(test_dataset, **testloader_params)\n",
    "            e1, e2, results_all, inputs_all, gts_all, total_result_dict = evaluate(args, model_pos, test_loader, datareader, checkpoint, only_one_batch=False, verbose=False)\n",
    "            result_dict[checkpoint][subset] = {'e1': e1, 'e2': e2}\n",
    "        except Exception as e:\n",
    "            print(e)\n",
    "            result_dict[checkpoint][subset] = {'e1': None, 'e2': None, 'error': str(e)}\n",
    "        #break\n",
    "    #break\n",
    "#savepkl(result_dict, 'result_dict.pkl')"
   ]
  },
  {
   "cell_type": "code",
   "execution_count": null,
   "metadata": {},
   "outputs": [],
   "source": [
    "savepkl(result_dict, 'result_dict.pkl')"
   ]
  }
 ],
 "metadata": {
  "language_info": {
   "name": "python"
  }
 },
 "nbformat": 4,
 "nbformat_minor": 2
}
