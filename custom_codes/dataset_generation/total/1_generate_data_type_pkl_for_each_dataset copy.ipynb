{
 "cells": [
  {
   "cell_type": "code",
   "execution_count": 1,
   "metadata": {},
   "outputs": [],
   "source": [
    "%load_ext autoreload\n",
    "%autoreload 2\n",
    "%matplotlib widget\n",
    "import os, sys, getpass\n",
    "user = getpass.getuser()\n",
    "sys.path.append(f'/home/{user}/codes/hpe_library/')\n",
    "from lib_import import *\n",
    "from my_utils import *\n",
    "os.chdir('/home/hrai/codes/MotionBERT')\n",
    "\n",
    "from lib.data.datareader_total import DataReaderTotal\n",
    "from lib.data.datareader_h36m import DataReaderH36M\n",
    "from lib.data.datareader_fit3d import DataReaderFIT3D\n",
    "from lib.utils.args import get_opts_args\n",
    "from lib.model.load_model import load_model\n",
    "from lib.model.load_dataset import load_dataset\n",
    "from lib.data.dataset_motion_3d import MotionDataset3DTotal\n",
    "from lib.model.evaluation import *"
   ]
  },
  {
   "cell_type": "markdown",
   "metadata": {},
   "source": [
    "### Load data_type"
   ]
  },
  {
   "cell_type": "code",
   "execution_count": 7,
   "metadata": {},
   "outputs": [
    {
     "name": "stdout",
     "output_type": "stream",
     "text": [
      "==> Loading H36M source_list... overwrite: False\n",
      "==> Loading H36M cam_param... overwrite: False\n",
      "==> Loading H36M world_3d... overwrite: False\n",
      "==> Loading H36M cam_3d... overwrite: False\n",
      "==> Loading H36M img_2d... overwrite: False\n",
      "==> Loading H36M img_3d... overwrite: False\n",
      "==> Loading H36M scale_factor... overwrite: False\n",
      "==> Loading H36M img_25d... overwrite: False\n",
      "==> Loading H36M cam_3d_canonical_same_z... overwrite: False\n",
      "==> Loading H36M cam_3d_canonical_same_dist... overwrite: False\n",
      "==> Loading H36M cam_3d_canonical_fixed_dist_5... overwrite: False\n",
      "==> Loading H36M img_2d_canonical_same_z... overwrite: False\n",
      "==> Loading H36M img_2d_canonical_same_dist... overwrite: False\n",
      "==> Loading H36M img_2d_canonical_fixed_dist_5... overwrite: False\n"
     ]
    }
   ],
   "source": [
    "dataset_name = 'h36m'\n",
    "overwrite_list = []\n",
    "source_list                    = load_data(dataset_name=dataset_name, data_type='source_list', overwrite_list=overwrite_list)\n",
    "cam_params                     = load_data(dataset_name=dataset_name, data_type='cam_param', overwrite_list=overwrite_list)\n",
    "world_3ds                      = load_data(dataset_name=dataset_name, data_type='world_3d', overwrite_list=overwrite_list)\n",
    "cam_3ds                        = load_data(dataset_name=dataset_name, data_type='cam_3d', overwrite_list=overwrite_list)\n",
    "img_2ds                        = load_data(dataset_name=dataset_name, data_type='img_2d', overwrite_list=overwrite_list)\n",
    "img_3ds                        = load_data(dataset_name=dataset_name, data_type='img_3d', overwrite_list=overwrite_list)\n",
    "scale_factors                  = load_data(dataset_name=dataset_name, data_type='scale_factor', overwrite_list=overwrite_list)\n",
    "img_25ds                       = load_data(dataset_name=dataset_name, data_type='img_25d', overwrite_list=overwrite_list)\n",
    "cam_3d_canonicals_same_z       = load_data(dataset_name=dataset_name, data_type='cam_3d_canonical', canonical_type='same_z', overwrite_list=overwrite_list)\n",
    "cam_3d_canonicals_same_dist    = load_data(dataset_name=dataset_name, data_type='cam_3d_canonical', canonical_type='same_dist', overwrite_list=overwrite_list)\n",
    "cam_3d_canonicals_fixed_dist_5 = load_data(dataset_name=dataset_name, data_type='cam_3d_canonical', canonical_type='fixed_dist_5', overwrite_list=overwrite_list)\n",
    "img_2d_canonicals_same_z       = load_data(dataset_name=dataset_name, data_type='img_2d_canonical', canonical_type='same_z', overwrite_list=overwrite_list)\n",
    "img_2d_canonicals_same_dist    = load_data(dataset_name=dataset_name, data_type='img_2d_canonical', canonical_type='same_dist', overwrite_list=overwrite_list)\n",
    "img_2d_canonicals_fixed_dist_5 = load_data(dataset_name=dataset_name, data_type='img_2d_canonical', canonical_type='fixed_dist_5', overwrite_list=overwrite_list)"
   ]
  },
  {
   "cell_type": "code",
   "execution_count": 3,
   "metadata": {},
   "outputs": [],
   "source": [
    "# check constraints\n",
    "for source in source_list:\n",
    "    subject, cam_id, action = split_source_name(source, dataset_name)\n",
    "    world_3d = world_3ds[subject][action]\n",
    "    cam_3d = cam_3ds[subject][action][cam_id]\n",
    "    img_2d = img_2ds[subject][action][cam_id]\n",
    "    img_3d = img_3ds[subject][action][cam_id]\n",
    "    cam_3d_canonical_same_z = cam_3d_canonicals_same_z[subject][action][cam_id]\n",
    "    cam_3d_canonical_same_dist = cam_3d_canonicals_same_dist[subject][action][cam_id]\n",
    "    cam_3d_canonical_fixed_dist_5 = cam_3d_canonicals_fixed_dist_5[subject][action][cam_id]\n",
    "    assert world_3d.shape[1:] == (17, 3), f'{source} {world_3ds[subject][action].shape}'\n",
    "    assert world_3d.mean() < 5, f'{source} {world_3d.mean()}'\n",
    "    assert cam_3d.shape[1:] == (17, 3), f'{source} {cam_3d.shape}'\n",
    "    assert cam_3d.mean() < 5, f'{source} {cam_3d.mean()}'\n",
    "    assert img_2d.mean() > 1, f'{source} {img_2d.mean()}'\n",
    "    assert np.allclose(img_2d, img_3d[...,:2]), f'image 2d and 3d are not equal'\n",
    "    assert np.allclose(cam_3d[...,2], cam_3d_canonical_same_z[...,2]), 'Z values should be same'\n",
    "    assert np.allclose(np.linalg.norm(cam_3d[:, 0], axis=1), cam_3d_canonical_same_dist[:, 0, 2]), 'Distances should be same'\n",
    "    assert np.allclose(np.array([5.0]*len(cam_3d)), cam_3d_canonical_fixed_dist_5[:, 0, 2]), 'Distances should be same'"
   ]
  }
 ],
 "metadata": {
  "kernelspec": {
   "display_name": "motionbert",
   "language": "python",
   "name": "python3"
  },
  "language_info": {
   "codemirror_mode": {
    "name": "ipython",
    "version": 3
   },
   "file_extension": ".py",
   "mimetype": "text/x-python",
   "name": "python",
   "nbconvert_exporter": "python",
   "pygments_lexer": "ipython3",
   "version": "3.9.18"
  },
  "vscode": {
   "interpreter": {
    "hash": "a22adeb9c65037913f217d555eca4ee12416bb8cd04fc64921ca248554344da3"
   }
  }
 },
 "nbformat": 4,
 "nbformat_minor": 2
}
