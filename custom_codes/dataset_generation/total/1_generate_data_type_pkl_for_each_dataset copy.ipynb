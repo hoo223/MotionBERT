{
 "cells": [
  {
   "cell_type": "code",
   "execution_count": 2,
   "metadata": {},
   "outputs": [],
   "source": [
    "%load_ext autoreload\n",
    "%autoreload 2\n",
    "%matplotlib widget\n",
    "import os, sys, getpass\n",
    "user = getpass.getuser()\n",
    "sys.path.append(f'/home/{user}/codes/hpe_library/')\n",
    "from lib_import import *\n",
    "from my_utils import *\n",
    "os.chdir('/home/hrai/codes/MotionBERT')"
   ]
  },
  {
   "cell_type": "markdown",
   "metadata": {},
   "source": [
    "### Load data_type"
   ]
  },
  {
   "cell_type": "code",
   "execution_count": 4,
   "metadata": {},
   "outputs": [
    {
     "name": "stdout",
     "output_type": "stream",
     "text": [
      "[overwrite: False] ==> Loading H36M source_list...\n",
      "[overwrite: False] ==> Loading H36M cam_param...\n",
      "[overwrite: False] ==> Loading H36M cam_param_adaptive_focal...\n",
      "[overwrite: False] ==> Loading H36M world_3d...\n",
      "[overwrite: False] ==> Loading H36M cam_3d...\n",
      "[overwrite: False] ==> Loading H36M img_2d...\n",
      "[overwrite: False] ==> Loading H36M img_3d...\n",
      "[overwrite: False] ==> Loading H36M scale_factor...\n",
      "[overwrite: False] ==> Loading H36M img_25d...\n",
      "[overwrite: False] ==> Loading H36M cam_3d_canonical_same_z...\n",
      "[overwrite: False] ==> Loading H36M img_2d_canonical_same_z...\n",
      "[overwrite: False] ==> Loading H36M cam_3d_canonical_same_dist...\n",
      "[overwrite: False] ==> Loading H36M img_2d_canonical_same_dist...\n",
      "[overwrite: False] ==> Loading H36M cam_3d_canonical_fixed_dist_5...\n",
      "[overwrite: False] ==> Loading H36M img_2d_canonical_fixed_dist_5...\n",
      "[overwrite: False] ==> Loading H36M img_2d_canonical_fixed_dist_5_adaptive_focal...\n"
     ]
    }
   ],
   "source": [
    "data_type_list = ['source_list', 'cam_param', 'cam_param_adaptive_focal',\n",
    "                  'world_3d', 'cam_3d', 'img_2d', \n",
    "                  'img_3d', 'scale_factor', 'img_25d', \n",
    "                  'cam_3d_canonical_same_z', 'img_2d_canonical_same_z', \n",
    "                  'cam_3d_canonical_same_dist', 'img_2d_canonical_same_dist',\n",
    "                  'cam_3d_canonical_fixed_dist_5', 'img_2d_canonical_fixed_dist_5', 'img_2d_canonical_fixed_dist_5_adaptive_focal'\n",
    "                  ]\n",
    "overwrite_list = []\n",
    "dataset_name = 'h36m'\n",
    "data = load_data_dict(dataset_name, data_type_list, overwrite_list, verbose=True)"
   ]
  },
  {
   "cell_type": "code",
   "execution_count": 6,
   "metadata": {},
   "outputs": [
    {
     "data": {
      "text/plain": [
       "dict_keys(['source_list', 'cam_param', 'cam_param_adaptive_focal', 'world_3d', 'cam_3d', 'img_2d', 'img_3d', 'scale_factor', 'img_25d', 'cam_3d_canonical_same_z', 'img_2d_canonical_same_z', 'cam_3d_canonical_same_dist', 'img_2d_canonical_same_dist', 'cam_3d_canonical_fixed_dist_5', 'img_2d_canonical_fixed_dist_5', 'img_2d_canonical_fixed_dist_5_adaptive_focal'])"
      ]
     },
     "execution_count": 6,
     "metadata": {},
     "output_type": "execute_result"
    }
   ],
   "source": [
    "data.keys()"
   ]
  },
  {
   "cell_type": "code",
   "execution_count": 10,
   "metadata": {},
   "outputs": [],
   "source": [
    "# check constraints\n",
    "for source in data['source_list']:\n",
    "    subject, cam_id, action = split_source_name(source, dataset_name)\n",
    "    world_3d = data['world_3d'][subject][action]\n",
    "    cam_3d = data['cam_3d'][subject][action][cam_id]\n",
    "    img_2d = data['img_2d'][subject][action][cam_id]\n",
    "    img_3d = data['img_3d'][subject][action][cam_id]\n",
    "    cam_3d_canonical_same_z = data['cam_3d_canonical_same_z'][subject][action][cam_id]\n",
    "    cam_3d_canonical_same_dist = data['cam_3d_canonical_same_dist'][subject][action][cam_id]\n",
    "    cam_3d_canonical_fixed_dist_5 = data['cam_3d_canonical_fixed_dist_5'][subject][action][cam_id]\n",
    "    assert world_3d.shape[1:] == (17, 3), f\"{source} {data['world_3d'][subject][action].shape}\"\n",
    "    assert world_3d.mean() < 5, f'{source} {world_3d.mean()}'\n",
    "    assert cam_3d.shape[1:] == (17, 3), f'{source} {cam_3d.shape}'\n",
    "    assert cam_3d.mean() < 5, f'{source} {cam_3d.mean()}'\n",
    "    assert img_2d.mean() > 1, f'{source} {img_2d.mean()}'\n",
    "    assert np.allclose(img_2d, img_3d[...,:2]), f'image 2d and 3d are not equal'\n",
    "    assert np.allclose(cam_3d[...,2], cam_3d_canonical_same_z[...,2]), 'Z values should be same'\n",
    "    assert np.allclose(np.linalg.norm(cam_3d[:, 0], axis=1), cam_3d_canonical_same_dist[:, 0, 2]), 'Distances should be same'\n",
    "    assert np.allclose(np.array([5.0]*len(cam_3d)), cam_3d_canonical_fixed_dist_5[:, 0, 2]), 'Distances should be same'"
   ]
  }
 ],
 "metadata": {
  "kernelspec": {
   "display_name": "motionbert",
   "language": "python",
   "name": "python3"
  },
  "language_info": {
   "codemirror_mode": {
    "name": "ipython",
    "version": 3
   },
   "file_extension": ".py",
   "mimetype": "text/x-python",
   "name": "python",
   "nbconvert_exporter": "python",
   "pygments_lexer": "ipython3",
   "version": "3.9.18"
  },
  "vscode": {
   "interpreter": {
    "hash": "a22adeb9c65037913f217d555eca4ee12416bb8cd04fc64921ca248554344da3"
   }
  }
 },
 "nbformat": 4,
 "nbformat_minor": 2
}
