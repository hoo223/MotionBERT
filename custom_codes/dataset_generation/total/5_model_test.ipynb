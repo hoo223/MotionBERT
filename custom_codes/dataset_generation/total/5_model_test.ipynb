{
 "cells": [
  {
   "cell_type": "code",
   "execution_count": 1,
   "metadata": {},
   "outputs": [],
   "source": [
    "%load_ext autoreload\n",
    "%autoreload 2\n",
    "%matplotlib widget\n",
    "import os, sys, getpass\n",
    "user = getpass.getuser()\n",
    "sys.path.append(f'/home/{user}/codes/hpe_library/')\n",
    "from lib_import import *\n",
    "from my_utils import *\n",
    "os.chdir('/home/hrai/codes/MotionBERT')\n",
    "\n",
    "from lib.data.datareader_total import DataReaderTotal\n",
    "from lib.data.datareader_h36m import DataReaderH36M\n",
    "from lib.data.datareader_fit3d import DataReaderFIT3D\n",
    "from lib.utils.args import get_opts_args, get_opt_args_from_model_name\n",
    "from lib.model.load_model import load_model\n",
    "from lib.model.load_dataset import load_dataset\n",
    "from lib.data.dataset_motion_3d import MotionDataset3DTotal\n",
    "from lib.model.evaluation import *"
   ]
  },
  {
   "cell_type": "markdown",
   "metadata": {},
   "source": [
    "### Evaluate single experiment"
   ]
  },
  {
   "cell_type": "code",
   "execution_count": 2,
   "metadata": {},
   "outputs": [
    {
     "name": "stdout",
     "output_type": "stream",
     "text": [
      "configs/pose3d/MB_train_h36m_gt.yaml\n",
      "True\n",
      "MB_train_h36m_gt\n",
      "Loading checkpoint checkpoint/pose3d/MB_train_h36m_gt/best_epoch.bin\n"
     ]
    }
   ],
   "source": [
    "checkpoint = 'MB_train_h36m_gt'\n",
    "args, opts = get_opt_args_from_model_name(checkpoint)\n",
    "model_pos, chk_filename, checkpoint = load_model(opts, args)\n",
    "\n",
    "subset = 'FIT3D-GT-ALL_TEST'\n",
    "args.subset_list = [subset]\n",
    "train_loader, test_loader, _, _, datareader = load_dataset(args, use_new_datareader=True)\n",
    "\n",
    "# if '3DHP' in subset:\n",
    "#     args.eval_part = 'whole_without_nose'\n",
    "#     args.part_list = ['whole_without_nose']"
   ]
  },
  {
   "cell_type": "code",
   "execution_count": 6,
   "metadata": {},
   "outputs": [
    {
     "name": "stdout",
     "output_type": "stream",
     "text": [
      "INFO: Testing\n",
      "No epoch information in the checkpoint\n"
     ]
    },
    {
     "name": "stderr",
     "output_type": "stream",
     "text": [
      "  0%|          | 0/411 [00:00<?, ?it/s]"
     ]
    },
    {
     "name": "stderr",
     "output_type": "stream",
     "text": [
      "100%|██████████| 411/411 [04:14<00:00,  1.61it/s]\n"
     ]
    },
    {
     "name": "stdout",
     "output_type": "stream",
     "text": [
      "No eval_keypoint. Use part list\n",
      "Part: whole\n",
      "+------------+-------------------+-------------------+--------------------+--------------------+--------------------+-------------------+--------------------+--------------------+--------------------+-----------------------+------------------------+-----------------------+---------------------+----------------------------------+------------------------+--------------------+--------------------+--------------------+---------------------------------+-------------------+-----------------------------+----------------------+--------------------+--------------------+--------------------+--------------------+--------------------+--------------------+-------------------+-------------------+-------------------+--------------------+--------------------+--------------------+--------------------+--------------------+--------------------+--------------------+--------------------+--------------------+--------------------+-------------------+--------------------+-------------------+-------------------+-------------------+-------------------+\n",
      "| test_name  |  band_pull_apart  |  barbell_dead_row |    barbell_row     |   barbell_shrug    |      burpees       |  clean_and_press  |      deadlift      |   diamond_pushup   |     drag_curl      | dumbbell_biceps_curls | dumbbell_curl_trifecta | dumbbell_hammer_curls | dumbbell_high_pulls | dumbbell_overhead_shoulder_press | dumbbell_reverse_lunge | dumbbell_scaptions |     man_maker      |     mule_kick      | neutral_overhead_shoulder_press |    one_arm_row    | overhead_extension_thruster | overhead_trap_raises |       pushup       | side_lateral_raise |       squat        | standing_ab_twists |      w_raise       |    walk_the_box    |      warmup_1     |     warmup_10     |     warmup_11     |     warmup_12      |     warmup_13      |     warmup_14      |     warmup_15      |     warmup_16      |     warmup_17      |     warmup_18      |     warmup_19      |      warmup_2      |      warmup_3      |      warmup_4     |      warmup_5      |      warmup_6     |      warmup_7     |      warmup_8     |      warmup_9     |\n",
      "+------------+-------------------+-------------------+--------------------+--------------------+--------------------+-------------------+--------------------+--------------------+--------------------+-----------------------+------------------------+-----------------------+---------------------+----------------------------------+------------------------+--------------------+--------------------+--------------------+---------------------------------+-------------------+-----------------------------+----------------------+--------------------+--------------------+--------------------+--------------------+--------------------+--------------------+-------------------+-------------------+-------------------+--------------------+--------------------+--------------------+--------------------+--------------------+--------------------+--------------------+--------------------+--------------------+--------------------+-------------------+--------------------+-------------------+-------------------+-------------------+-------------------+\n",
      "| P1 (whole) |  82.2527120689562 | 324.2836184958012 | 235.00514708076307 | 125.59008762070182 | 307.72330575191796 | 129.8758289797974 | 188.21577590364925 | 215.8583013743875  | 253.80755170778116 |   86.84812812432713   |   82.69200514243438    |   83.79708141060273   |  104.72234887647565 |        82.32945907101512         |   127.48174240053947   |  78.0770423824096  |  286.561346899316  | 335.53525610544204 |         79.6894175594949        | 166.0409918836475 |      113.64576658923495     |  78.44375542073792   | 232.08299883333146 | 122.02050800847353 | 171.2114363957752  | 119.55346274048102 | 127.73436667011649 | 177.86754868046984 | 318.3328785336139 | 78.73939192061749 |  78.8984820214659 | 194.24392161107681 | 227.8481269593203  | 107.93119884218439 | 107.84389683332277 | 123.56825118328976 | 80.30230434739946  | 142.7390255628187  | 173.49659733374085 | 115.79947026510081 | 111.02280031496758 |  86.638275952036  | 308.69384350772714 | 78.31776171707192 |  77.6174433399633 | 78.99775002038164 | 82.86399719916905 |\n",
      "| P2 (whole) | 59.38640785062462 | 158.2864797914223 | 125.19183697644448 | 70.56914273848679  | 184.74932041893288 |  93.7614179552721 | 102.52905389015545 | 134.60479342208356 | 136.40138848724774 |   60.11372730574734   |   55.016705472180185   |   57.31320362417906   |   67.9811045042228  |        59.26255304297438         |   109.05330716417795   | 57.21503219910339  | 178.52056758969778 | 185.83406386678467 |         59.3109094549086        | 106.9974006070792 |      92.64193750080959      |   61.1292221456885   | 146.9009863494915  | 81.91521696695949  | 111.74476417999085 | 103.09952229053036 | 86.16279268621112  | 120.96886706183888 | 188.7208668103329 | 59.21337071642142 | 58.11564602594685 | 127.8324517701492  | 120.77529818738813 | 87.66189841746787  | 86.59825496510277  | 114.72808364859536 | 57.506641860614565 | 102.45415734726255 | 123.17627393272618 | 104.50943711188225 | 92.36475715704773  | 68.72757630953186 | 184.3241400344867  |  49.1767877531804 | 59.43300535276804 | 51.97736615603938 | 64.10656357303021 |\n",
      "+------------+-------------------+-------------------+--------------------+--------------------+--------------------+-------------------+--------------------+--------------------+--------------------+-----------------------+------------------------+-----------------------+---------------------+----------------------------------+------------------------+--------------------+--------------------+--------------------+---------------------------------+-------------------+-----------------------------+----------------------+--------------------+--------------------+--------------------+--------------------+--------------------+--------------------+-------------------+-------------------+-------------------+--------------------+--------------------+--------------------+--------------------+--------------------+--------------------+--------------------+--------------------+--------------------+--------------------+-------------------+--------------------+-------------------+-------------------+-------------------+-------------------+\n",
      "Protocol #1 Error (MPJPE): 150.9115406307095 mm\n",
      "Protocol #2 Error (P-MPJPE): 99.32051707815363 mm\n",
      "----------------------------------------\n"
     ]
    }
   ],
   "source": [
    "e1, e2, results_all, inputs_all, gts_all, total_result_dict = evaluate(args, model_pos, test_loader, datareader, checkpoint, only_one_batch=False)"
   ]
  },
  {
   "cell_type": "code",
   "execution_count": 17,
   "metadata": {},
   "outputs": [
    {
     "name": "stdout",
     "output_type": "stream",
     "text": [
      "/home/hrai/codes/MotionBERT/saved_results/MB_train_h36m_gt/FIT3D-GT-ALL_TEST.pkl\n"
     ]
    }
   ],
   "source": [
    "save_folder = f'/home/hrai/codes/MotionBERT/saved_results/{args.model}'\n",
    "save_path = os.path.join(save_folder, f'{subset}.pkl')\n",
    "print(save_path)\n",
    "results_dict = {'results_all': results_all, 'gts_all': gts_all, 'inputs_all': inputs_all, 'total_result_dict': total_result_dict}\n",
    "savepkl(results_dict, save_path)"
   ]
  },
  {
   "cell_type": "markdown",
   "metadata": {},
   "source": [
    "### Evaluate and save all experiments"
   ]
  },
  {
   "cell_type": "markdown",
   "metadata": {},
   "source": [
    "### Cherrypick e1, e1 -> result_dict.pkl"
   ]
  },
  {
   "cell_type": "code",
   "execution_count": 9,
   "metadata": {},
   "outputs": [
    {
     "name": "stdout",
     "output_type": "stream",
     "text": [
      "Loading result_dict.pkl\n"
     ]
    },
    {
     "name": "stderr",
     "output_type": "stream",
     "text": [
      "100%|██████████| 24/24 [00:02<00:00,  9.26it/s]\n"
     ]
    }
   ],
   "source": [
    "blacklist_checkpoint = ['MB_train_h36m_gt_cam_no_factor_input_from_canonical_3d_same_z_s15678_tr_54138969_ts_others']\n",
    "\n",
    "\n",
    "if os.path.exists('result_dict.pkl'):\n",
    "    print('Loading result_dict.pkl')\n",
    "    result_dict = readpkl('result_dict.pkl')\n",
    "else:\n",
    "    result_dict = {}\n",
    "result_root = '/home/hrai/codes/MotionBERT/saved_results'\n",
    "checkpoint_list = os.listdir(result_root)\n",
    "for checkpoint in tqdm(checkpoint_list):\n",
    "    if checkpoint in blacklist_checkpoint: continue # skip\n",
    "    if checkpoint not in result_dict.keys(): result_dict[checkpoint] = {} # create new key if not exists\n",
    "    checkpoint_root = os.path.join(result_root, checkpoint)\n",
    "    subset_list = glob(checkpoint_root+'/*.pkl')\n",
    "    for item in subset_list:\n",
    "        subset = os.path.basename(item).split('.')[0]\n",
    "        if subset in result_dict[checkpoint].keys(): \n",
    "            #print(f'{subset} exists')\n",
    "            continue\n",
    "        result = readpkl(item)\n",
    "        result_dict[checkpoint][subset] = {'e1': result['e1'], 'e2': result['e2']}"
   ]
  },
  {
   "cell_type": "code",
   "execution_count": 10,
   "metadata": {},
   "outputs": [],
   "source": [
    "savepkl(result_dict, 'result_dict.pkl')"
   ]
  }
 ],
 "metadata": {
  "kernelspec": {
   "display_name": "motionbert",
   "language": "python",
   "name": "python3"
  },
  "language_info": {
   "codemirror_mode": {
    "name": "ipython",
    "version": 3
   },
   "file_extension": ".py",
   "mimetype": "text/x-python",
   "name": "python",
   "nbconvert_exporter": "python",
   "pygments_lexer": "ipython3",
   "version": "3.9.18"
  }
 },
 "nbformat": 4,
 "nbformat_minor": 2
}
