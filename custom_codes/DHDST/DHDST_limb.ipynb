{
 "cells": [
  {
   "cell_type": "code",
   "execution_count": 1,
   "metadata": {},
   "outputs": [],
   "source": [
    "%load_ext autoreload\n",
    "%autoreload 2\n",
    "%matplotlib inline\n",
    "import sys\n",
    "sys.path.append('/home/hrai/codes/hpe_library/')\n",
    "from lib_import import *\n",
    "from my_utils import *"
   ]
  },
  {
   "cell_type": "markdown",
   "metadata": {},
   "source": [
    "### Load dataset"
   ]
  },
  {
   "cell_type": "code",
   "execution_count": 2,
   "metadata": {},
   "outputs": [
    {
     "name": "stdout",
     "output_type": "stream",
     "text": [
      "==> Loading 3D data wrt World CS...\n"
     ]
    }
   ],
   "source": [
    "h36m_3d_world, h36m_cam_param = load_h36m()\n",
    "\n",
    "subject = 'S1'\n",
    "action = 'Walking'\n",
    "subject_list = h36m_3d_world._data.keys()\n",
    "action_list = h36m_3d_world._data[subject].keys()\n",
    "pose3d_s1_walking = h36m_3d_world._data[subject][action]['positions'] # 3d skeleton sequence wrt world CS\n",
    "cam_info_s1_walking = h36m_3d_world._data[subject][action]['cameras']\n",
    "cam_param_s1_walking = get_cam_param(cam_info_s1_walking, subject, h36m_cam_param)\n",
    "\n",
    "# camera parameters\n",
    "W, H = cam_param_s1_walking['54138969']['W'], cam_param_s1_walking['54138969']['H']\n",
    "cam_54138969_ext = cam_param_s1_walking['54138969']['ext']\n",
    "cam_54138969_int = cam_param_s1_walking['54138969']['int']\n",
    "cam_54138969_proj = cam_param_s1_walking['54138969']['proj']\n",
    "cam_54138969_origin = cam_param_s1_walking['54138969']['C']\n",
    "\n",
    "# 3d trajectory\n",
    "torso_trajectory = get_part_traj(pose3d_s1_walking, 'torso')\n",
    "pelvis_trajectory = get_part_traj(pose3d_s1_walking, 'pelvis')\n",
    "l_hip_trajectory = get_part_traj(pose3d_s1_walking, 'l_hip')\n",
    "l_shoulder_trajectory = get_part_traj(pose3d_s1_walking, 'l_shoulder')\n",
    "r_shoulder_trajectory = get_part_traj(pose3d_s1_walking, 'r_shoulder')\n",
    "r_hip_trajectory = get_part_traj(pose3d_s1_walking, 'r_hip')\n",
    "lower_line_trajectory = get_part_traj(pose3d_s1_walking, 'lower_line')\n",
    "\n",
    "# World frame\n",
    "world_frame = generate_world_frame()"
   ]
  },
  {
   "cell_type": "markdown",
   "metadata": {},
   "source": [
    "### Collect arm data"
   ]
  },
  {
   "cell_type": "code",
   "execution_count": 3,
   "metadata": {},
   "outputs": [
    {
     "name": "stdout",
     "output_type": "stream",
     "text": [
      "S1\n",
      "Waiting 1\n"
     ]
    }
   ],
   "source": [
    "# 각 pose로부터 root_point, upper_vector, under_vector 모으기\n",
    "l_shoulder_idx = get_h36m_keypoint_index('L_Shoulder')\n",
    "r_shoulder_idx = get_h36m_keypoint_index('R_Shoulder')\n",
    "l_hip_idx = get_h36m_keypoint_index('L_Hip')\n",
    "r_hip_idx = get_h36m_keypoint_index('R_Hip')\n",
    "\n",
    "root_point_traj_list = []\n",
    "upper_vector_traj_list = []\n",
    "under_vector_traj_list = []\n",
    "for subject in subject_list:\n",
    "    print(subject)\n",
    "    action_list = h36m_3d_world._data[subject].keys()\n",
    "    for action in action_list:\n",
    "        print(action)\n",
    "        pose_3d_world = h36m_3d_world._data[subject][action]['positions'] # 3d skeleton sequence wrt world CS\n",
    "        l_shoulder_trajectory = get_part_traj(pose_3d_world, 'l_shoulder')[:, 0, :] # (F, 3)\n",
    "        r_shoulder_trajectory = get_part_traj(pose_3d_world, 'r_shoulder')[:, 0, :]\n",
    "        l_hip_trajectory = get_part_traj(pose_3d_world, 'l_hip')[:, 0, :]\n",
    "        r_hip_trajectory = get_part_traj(pose_3d_world, 'r_hip')[:, 0, :]\n",
    "        l_elbow_trajectory = get_part_traj(pose_3d_world, 'l_elbow')[:, 0, :]\n",
    "        r_elbow_trajectory = get_part_traj(pose_3d_world, 'r_elbow')[:, 0, :]\n",
    "        l_wrist_trajectory = get_part_traj(pose_3d_world, 'l_wrist')[:, 0, :]\n",
    "        r_wrist_trajectory = get_part_traj(pose_3d_world, 'r_wrist')[:, 0, :]\n",
    "        l_knee_trajectory = get_part_traj(pose_3d_world, 'l_knee')[:, 0, :]\n",
    "        r_knee_trajectory = get_part_traj(pose_3d_world, 'r_knee')[:, 0, :]\n",
    "        l_ankle_trajectory = get_part_traj(pose_3d_world, 'l_ankle')[:, 0, :]\n",
    "        r_ankle_trajectory = get_part_traj(pose_3d_world, 'r_ankle')[:, 0, :]\n",
    "\n",
    "        l_arm_upper_vector_trajectory = l_elbow_trajectory - l_shoulder_trajectory # (F, 3)\n",
    "        r_arm_upper_vector_trajectory = r_elbow_trajectory - r_shoulder_trajectory\n",
    "        l_arm_under_vector_trajectory = l_wrist_trajectory - l_elbow_trajectory\n",
    "        r_arm_under_vector_trajectory = r_wrist_trajectory - r_elbow_trajectory\n",
    "        l_leg_upper_vector_trajectory = l_knee_trajectory - l_hip_trajectory\n",
    "        r_leg_upper_vector_trajectory = r_knee_trajectory - r_hip_trajectory\n",
    "        l_leg_under_vector_trajectory = l_ankle_trajectory - l_knee_trajectory\n",
    "        r_leg_under_vector_trajectory = r_ankle_trajectory - r_knee_trajectory\n",
    "\n",
    "        root_point_traj_list.append(l_shoulder_trajectory)\n",
    "        root_point_traj_list.append(r_shoulder_trajectory)\n",
    "        root_point_traj_list.append(l_hip_trajectory)\n",
    "        root_point_traj_list.append(r_hip_trajectory)\n",
    "        upper_vector_traj_list.append(l_arm_upper_vector_trajectory)\n",
    "        upper_vector_traj_list.append(r_arm_upper_vector_trajectory)\n",
    "        upper_vector_traj_list.append(l_leg_upper_vector_trajectory)\n",
    "        upper_vector_traj_list.append(r_leg_upper_vector_trajectory)\n",
    "        under_vector_traj_list.append(l_arm_under_vector_trajectory)\n",
    "        under_vector_traj_list.append(r_arm_under_vector_trajectory)\n",
    "        under_vector_traj_list.append(l_leg_under_vector_trajectory)\n",
    "        under_vector_traj_list.append(r_leg_under_vector_trajectory)\n",
    "\n",
    "        break\n",
    "    break"
   ]
  },
  {
   "cell_type": "code",
   "execution_count": 4,
   "metadata": {},
   "outputs": [
    {
     "data": {
      "text/plain": [
       "(4, 4, 4)"
      ]
     },
     "execution_count": 4,
     "metadata": {},
     "output_type": "execute_result"
    }
   ],
   "source": [
    "len(root_point_traj_list), len(upper_vector_traj_list), len(under_vector_traj_list)"
   ]
  },
  {
   "cell_type": "code",
   "execution_count": 5,
   "metadata": {},
   "outputs": [],
   "source": [
    "# camera parameters\n",
    "cam_param = {}\n",
    "for camera_id in ['54138969', '55011271', '58860488', '60457274']:\n",
    "    cam_param[camera_id] = {}\n",
    "    cam_param[camera_id]['proj'] = cam_param_s1_walking[camera_id]['proj']\n",
    "    cam_param[camera_id]['ext'] = cam_param_s1_walking[camera_id]['ext']\n",
    "    cam_param[camera_id]['int'] = cam_param_s1_walking[camera_id]['int']\n",
    "    cam_param[camera_id]['origin'] = cam_param_s1_walking[camera_id]['C']\n",
    "    cam_param[camera_id]['W'] = cam_param_s1_walking[camera_id]['W']\n",
    "    cam_param[camera_id]['H'] = cam_param_s1_walking[camera_id]['H']\n",
    "    cam_param[camera_id]['frame'] = generate_camera_frame(cam_param[camera_id]['ext'], name=camera_id)"
   ]
  },
  {
   "cell_type": "markdown",
   "metadata": {},
   "source": [
    "### Multi Head Self Attention for limb vector"
   ]
  },
  {
   "cell_type": "code",
   "execution_count": 6,
   "metadata": {},
   "outputs": [],
   "source": [
    "subject = 'S1'\n",
    "action = 'Walking 1'\n",
    "pose_3d_world = h36m_3d_world._data[subject][action]['positions'] # 3d skeleton sequence wrt world CS\n",
    "l_shoulder_trajectory = get_part_traj(pose_3d_world, 'l_shoulder')[:, 0, :]\n",
    "l_elbow_trajectory = get_part_traj(pose_3d_world, 'l_elbow')[:, 0, :]\n",
    "l_wrist_trajectory = get_part_traj(pose_3d_world, 'l_wrist')[:, 0, :]\n",
    "l_arm_upper_vector_trajectory = l_elbow_trajectory - l_shoulder_trajectory"
   ]
  },
  {
   "cell_type": "code",
   "execution_count": 7,
   "metadata": {},
   "outputs": [
    {
     "data": {
      "text/plain": [
       "((3476, 2, 3), (3476, 2, 3))"
      ]
     },
     "execution_count": 7,
     "metadata": {},
     "output_type": "execute_result"
    }
   ],
   "source": [
    "left_upper_arm_vector = np.concatenate([np.expand_dims(l_shoulder_trajectory, axis=1), np.expand_dims(l_elbow_trajectory, axis=1)], axis=1)\n",
    "left_upper_arm_vector_projected = projection(left_upper_arm_vector, cam_param['54138969']['proj'])\n",
    "left_upper_arm_vector_projected = normalize_input(left_upper_arm_vector_projected, cam_param['54138969']['W'], cam_param['54138969']['H'])\n",
    "left_upper_arm_vector.shape, left_upper_arm_vector_projected.shape"
   ]
  },
  {
   "cell_type": "code",
   "execution_count": 8,
   "metadata": {},
   "outputs": [],
   "source": [
    "# save_h36m_pose_video(left_upper_arm_vector[:243], 'upper_vector.mp4', pose_2d_list=left_upper_arm_vector_projected[:243], dataset='vector', xlim=(-2, 2), ylim=(-2, 2), zlim=(0, 2), view=(0, 90), pose_type='2d3d')"
   ]
  },
  {
   "cell_type": "code",
   "execution_count": 9,
   "metadata": {},
   "outputs": [
    {
     "data": {
      "application/vnd.jupyter.widget-view+json": {
       "model_id": "6e8f125e6d8c4b49b94e9d3aeff7b0fb",
       "version_major": 2,
       "version_minor": 0
      },
      "image/png": "[encoded data removed]",
      "text/html": [
       "\n",
       "            <div style=\"display: inline-block;\">\n",
       "                <div class=\"jupyter-widgets widget-label\" style=\"text-align: center;\">\n",
       "                    Figure\n",
       "                </div>\n",
       "                <img src='data:image/png;base64,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' width=1500.0/>\n",
       "            </div>\n",
       "        "
      ],
      "text/plain": [
       "Canvas(toolbar=Toolbar(toolitems=[('Home', 'Reset original view', 'home', 'home'), ('Back', 'Back to previous …"
      ]
     },
     "metadata": {},
     "output_type": "display_data"
    }
   ],
   "source": [
    "plt.subplots_adjust(wspace=0, hspace=0)\n",
    "plt.tight_layout(h_pad=-1, w_pad=-1)\n",
    "\n",
    "%matplotlib widget\n",
    "fig = plt.figure(0, figsize=(15, 5), layout='constrained')\n",
    "fig.clear()\n",
    "axd = fig.subplot_mosaic(\n",
    "    \"\"\"\n",
    "    ABCDE\n",
    "    FGHIJ\n",
    "    \"\"\",\n",
    "    per_subplot_kw={('A', 'B', 'C', 'D', 'E'): {'projection': '3d'}}\n",
    ")\n",
    "\n",
    "axA = axes_3d(ax=axd['A'], xlim=(-2, 2), ylim=(-2, 2), zlim=(0, 2), view=(0, 90))\n",
    "axB = axes_3d(ax=axd['B'], xlim=(-2, 2), ylim=(-2, 2), zlim=(0, 2), view=(0, 90))\n",
    "axC = axes_3d(ax=axd['C'], xlim=(-2, 2), ylim=(-2, 2), zlim=(0, 2), view=(0, 90))\n",
    "axD = axes_3d(ax=axd['D'], xlim=(-2, 2), ylim=(-2, 2), zlim=(0, 2), view=(0, 90))\n",
    "axE = axes_3d(ax=axd['E'], xlim=(-2, 2), ylim=(-2, 2), zlim=(0, 2), view=(0, 90))\n",
    "camera_list_3d = [axA, axB, axC, axD, axE]\n",
    "\n",
    "axF = axes_2d(ax=axd['F'], H=1000, W=1000, show_axis=False)\n",
    "axG = axes_2d(ax=axd['G'], H=1000, W=1000, show_axis=False)\n",
    "axH = axes_2d(ax=axd['H'], H=1000, W=1000, show_axis=False)\n",
    "axI = axes_2d(ax=axd['I'], H=1000, W=1000, show_axis=False)\n",
    "axJ = axes_2d(ax=axd['J'], H=1000, W=1000, show_axis=False)\n",
    "camera_list_2d = [axF, axG, axH, axI, axJ]\n",
    "\n",
    "axA.set_title('Frame 1')\n",
    "axB.set_title('Frame 2')\n",
    "axC.set_title('Frame 3')\n",
    "axD.set_title('Frame 4')\n",
    "axE.set_title('Frame 5')\n",
    "\n",
    "#seq = 10 \n",
    "start_frame = 0 \n",
    "for i, ax in enumerate(camera_list_3d): \n",
    "    pose_3d = pose_3d_world[::5][start_frame+i*4]\n",
    "    projected = projection(pose_3d, cam_param['54138969']['proj'])\n",
    "    draw_3d_pose(ax, pose_3d, dataset='h36m')\n",
    "    draw_2d_pose(camera_list_2d[i], projected, dataset='h36m')\n",
    "    \n",
    "    #draw_3d_pose(camera_list_3d[frame_num], np.array([l_shoulder_trajectory[start_frame+frame_num*10], l_arm_upper_vector_trajectory[start_frame+frame_num*10]]), dataset='vector')\n",
    "    #print(np.array([l_shoulder_trajectory[start_frame+frame_num], l_arm_upper_vector_trajectory[start_frame+frame_num]]).shape) \n",
    "    \n",
    "plt.show()"
   ]
  },
  {
   "cell_type": "code",
   "execution_count": 12,
   "metadata": {},
   "outputs": [],
   "source": [
    "# vector to dh model (3d)\n",
    "batch_l_shoulder = torch.from_numpy(left_upper_arm_vector[:, 0, :]).float().unsqueeze(0) # (B, F, 3)\n",
    "batch_l_elbow = torch.from_numpy(left_upper_arm_vector[:, 1, :]).float().unsqueeze(0) # (B, F, 3)\n",
    "batch_left_upper_arm_vector = batch_l_elbow - batch_l_shoulder # (1, F, 3)\n",
    "batch_azim, batch_elev = calculate_batch_azimuth_elevation(batch_left_upper_arm_vector, degrees=True) # (B, F)\n",
    "batch_length = torch.norm(batch_left_upper_arm_vector, dim=-1) # (B, F)\n",
    "gt_data = torch.cat([batch_azim.unsqueeze(-1), batch_elev.unsqueeze(-1), batch_length.unsqueeze(-1)], dim=-1).unsqueeze(2) # (B, F, 3)\n",
    "gt_data = torch.cat([batch_l_shoulder.unsqueeze(2), gt_data], dim=2) # (B, F, 4)"
   ]
  },
  {
   "cell_type": "code",
   "execution_count": 13,
   "metadata": {},
   "outputs": [
    {
     "data": {
      "text/plain": [
       "(torch.Size([1, 3476]),\n",
       " torch.Size([1, 3476]),\n",
       " torch.Size([1, 3476]),\n",
       " torch.Size([1, 3476, 2, 3]))"
      ]
     },
     "execution_count": 13,
     "metadata": {},
     "output_type": "execute_result"
    }
   ],
   "source": [
    "batch_azim.shape, batch_elev.shape, batch_length.shape, gt_data.shape"
   ]
  },
  {
   "cell_type": "code",
   "execution_count": 14,
   "metadata": {},
   "outputs": [
    {
     "data": {
      "text/plain": [
       "tensor(8.4388e-07)"
      ]
     },
     "execution_count": 14,
     "metadata": {},
     "output_type": "execute_result"
    }
   ],
   "source": [
    "# check azim, elev, length\n",
    "vector_recovered = batch_azim_elev_to_vec(batch_azim, batch_elev, batch_length, batch_l_shoulder, degrees=True)\n",
    "torch.norm(batch_l_shoulder+batch_left_upper_arm_vector - vector_recovered)"
   ]
  },
  {
   "cell_type": "code",
   "execution_count": 15,
   "metadata": {},
   "outputs": [],
   "source": [
    "# vector to dh model (2d)\n",
    "left_upper_arm_vector_projected.shape\n",
    "batch_l_shoulder_2d = torch.from_numpy(left_upper_arm_vector_projected[:, 0, :2]).float().unsqueeze(0) # (B, F, 2)\n",
    "batch_l_elbow_2d = torch.from_numpy(left_upper_arm_vector_projected[:, 1, :2]).float().unsqueeze(0) # (B, F, 2)\n",
    "batch_left_upper_arm_vector_2d = batch_l_elbow_2d - batch_l_shoulder_2d # (1, F, 2)\n",
    "batch_theta_2d = torch.atan2(batch_left_upper_arm_vector_2d[:, :, 1], batch_left_upper_arm_vector_2d[:, :, 0]) # (B, F\n",
    "batch_length_2d = torch.norm(batch_left_upper_arm_vector_2d, dim=-1) # (B, F)\n",
    "input_data = torch.cat([batch_theta_2d.unsqueeze(-1), batch_length_2d.unsqueeze(-1)], dim=-1).unsqueeze(2) # (B, F, 2)\n",
    "input_data = torch.cat([batch_l_shoulder_2d.unsqueeze(2), input_data], dim=2) # (B, F, 2, 2)"
   ]
  },
  {
   "cell_type": "code",
   "execution_count": 16,
   "metadata": {},
   "outputs": [
    {
     "data": {
      "text/plain": [
       "(torch.Size([1, 3476]), torch.Size([1, 3476]), torch.Size([1, 3476, 2, 2]))"
      ]
     },
     "execution_count": 16,
     "metadata": {},
     "output_type": "execute_result"
    }
   ],
   "source": [
    "batch_theta_2d.shape, batch_length_2d.shape, input_data.shape"
   ]
  },
  {
   "cell_type": "code",
   "execution_count": 17,
   "metadata": {},
   "outputs": [
    {
     "data": {
      "text/plain": [
       "tensor(5.7015e-07)"
      ]
     },
     "execution_count": 17,
     "metadata": {},
     "output_type": "execute_result"
    }
   ],
   "source": [
    "vector_recovered_2d = batch_length_2d.unsqueeze(-1) * torch.cat([torch.cos(batch_theta_2d).unsqueeze(-1), torch.sin(batch_theta_2d).unsqueeze(-1)], dim=-1)\n",
    "torch.norm(vector_recovered_2d - batch_left_upper_arm_vector_2d)"
   ]
  },
  {
   "cell_type": "code",
   "execution_count": 18,
   "metadata": {},
   "outputs": [
    {
     "data": {
      "application/vnd.jupyter.widget-view+json": {
       "model_id": "3e7dfe39db104af8a0c438e7b3e21ced",
       "version_major": 2,
       "version_minor": 0
      },
      "image/png": "[encoded data removed]",
      "text/html": [
       "\n",
       "            <div style=\"display: inline-block;\">\n",
       "                <div class=\"jupyter-widgets widget-label\" style=\"text-align: center;\">\n",
       "                    Figure\n",
       "                </div>\n",
       "                <img src='data:image/png;base64,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' width=640.0/>\n",
       "            </div>\n",
       "        "
      ],
      "text/plain": [
       "Canvas(toolbar=Toolbar(toolitems=[('Home', 'Reset original view', 'home', 'home'), ('Back', 'Back to previous …"
      ]
     },
     "metadata": {},
     "output_type": "display_data"
    }
   ],
   "source": [
    "fig = plt.figure(3)\n",
    "fig.clear()\n",
    "ax = axes_2d(fig, normalize=True, show_axis=False)\n",
    "draw_2d_pose(ax, [batch_l_shoulder_2d[0][0], batch_l_shoulder_2d[0][0]+batch_left_upper_arm_vector_2d[0][0]], dataset='vector')\n",
    "draw_2d_pose(ax, [batch_l_shoulder_2d[0][0], batch_l_shoulder_2d[0][0]+vector_recovered_2d[0][0]], dataset='vector')\n",
    "plt.show()"
   ]
  },
  {
   "cell_type": "code",
   "execution_count": 19,
   "metadata": {},
   "outputs": [],
   "source": [
    "import torch\n",
    "import torch.nn as nn\n",
    "import math\n",
    "import warnings\n",
    "import random\n",
    "import numpy as np\n",
    "from collections import OrderedDict\n",
    "from functools import partial\n",
    "from itertools import repeat\n",
    "from lib.model.drop import DropPath\n",
    "\n",
    "def _no_grad_trunc_normal_(tensor, mean, std, a, b):\n",
    "    # Cut & paste from PyTorch official master until it's in a few official releases - RW\n",
    "    # Method based on https://people.sc.fsu.edu/~jburkardt/presentations/truncated_normal.pdf\n",
    "    def norm_cdf(x):\n",
    "        # Computes standard normal cumulative distribution function\n",
    "        return (1. + math.erf(x / math.sqrt(2.))) / 2.\n",
    "\n",
    "    if (mean < a - 2 * std) or (mean > b + 2 * std):\n",
    "        warnings.warn(\"mean is more than 2 std from [a, b] in nn.init.trunc_normal_. \"\n",
    "                      \"The distribution of values may be incorrect.\",\n",
    "                      stacklevel=2)\n",
    "\n",
    "    with torch.no_grad():\n",
    "        # Values are generated by using a truncated uniform distribution and\n",
    "        # then using the inverse CDF for the normal distribution.\n",
    "        # Get upper and lower cdf values\n",
    "        l = norm_cdf((a - mean) / std)\n",
    "        u = norm_cdf((b - mean) / std)\n",
    "\n",
    "        # Uniformly fill tensor with values from [l, u], then translate to\n",
    "        # [2l-1, 2u-1].\n",
    "        tensor.uniform_(2 * l - 1, 2 * u - 1)\n",
    "\n",
    "        # Use inverse cdf transform for normal distribution to get truncated\n",
    "        # standard normal\n",
    "        tensor.erfinv_()\n",
    "\n",
    "        # Transform to proper mean, std\n",
    "        tensor.mul_(std * math.sqrt(2.))\n",
    "        tensor.add_(mean)\n",
    "\n",
    "        # Clamp to ensure it's in the proper range\n",
    "        tensor.clamp_(min=a, max=b)\n",
    "        return tensor\n",
    "\n",
    "\n",
    "def trunc_normal_(tensor, mean=0., std=1., a=-2., b=2.):\n",
    "    # type: (Tensor, float, float, float, float) -> Tensor\n",
    "    r\"\"\"Fills the input Tensor with values drawn from a truncated\n",
    "    normal distribution. The values are effectively drawn from the\n",
    "    normal distribution :math:`\\mathcal{N}(\\text{mean}, \\text{std}^2)`\n",
    "    with values outside :math:`[a, b]` redrawn until they are within\n",
    "    the bounds. The method used for generating the random values works\n",
    "    best when :math:`a \\leq \\text{mean} \\leq b`.\n",
    "    Args:\n",
    "        tensor: an n-dimensional `torch.Tensor`\n",
    "        mean: the mean of the normal distribution\n",
    "        std: the standard deviation of the normal distribution\n",
    "        a: the minimum cutoff value\n",
    "        b: the maximum cutoff value\n",
    "    Examples:\n",
    "        >>> w = torch.empty(3, 5)\n",
    "        >>> nn.init.trunc_normal_(w)\n",
    "    \"\"\"\n",
    "    return _no_grad_trunc_normal_(tensor, mean, std, a, b)\n",
    "\n",
    "class MLP(nn.Module):\n",
    "    def __init__(self, in_features, hidden_features=None, out_features=None, act_layer=nn.GELU, drop=0.):\n",
    "        super().__init__()\n",
    "        out_features = out_features or in_features\n",
    "        hidden_features = hidden_features or in_features\n",
    "        self.fc1 = nn.Linear(in_features, hidden_features) # 256 -> 256x4\n",
    "        self.act = act_layer()\n",
    "        self.fc2 = nn.Linear(hidden_features, out_features) # 256x4 -> 256\n",
    "        self.drop = nn.Dropout(drop)\n",
    "\n",
    "    def forward(self, x):\n",
    "        x = self.fc1(x)\n",
    "        x = self.act(x)\n",
    "        x = self.drop(x)\n",
    "        x = self.fc2(x)\n",
    "        x = self.drop(x)\n",
    "        return x\n",
    "\n",
    "class Attention(nn.Module):\n",
    "    def __init__(self, dim, num_heads=8, qkv_bias=False, qk_scale=None, attn_drop=0., proj_drop=0., st_mode='vanilla'):\n",
    "        super().__init__()\n",
    "        self.num_heads = num_heads\n",
    "        head_dim = dim // num_heads # 256//8 = 32\n",
    "        # NOTE scale factor was wrong in my original version, can set manually to be compat with prev weights\n",
    "        self.scale = qk_scale or head_dim ** -0.5 # sqrt(32)\n",
    "\n",
    "        self.attn_drop = nn.Dropout(attn_drop)\n",
    "        self.proj = nn.Linear(dim, dim) # 256 -> 256\n",
    "        self.mode = st_mode\n",
    "        if self.mode == 'parallel':\n",
    "            self.ts_attn = nn.Linear(dim*2, dim*2)\n",
    "            self.qkv = nn.Linear(dim, dim * 3, bias=qkv_bias) \n",
    "        else: # spatial, temporal\n",
    "            self.qkv = nn.Linear(dim, dim * 3, bias=qkv_bias) # 256 -> 256 x 3\n",
    "        self.proj_drop = nn.Dropout(proj_drop)\n",
    "\n",
    "        self.attn_count_s = None\n",
    "        self.attn_count_t = None\n",
    "\n",
    "    def forward(self, x, seqlen=1): # x=(BxF, 17, 256), seqlen=243\n",
    "        B, N, C = x.shape # (BxF, 17, 256)\n",
    "        \n",
    "        if self.mode == 'series':\n",
    "            qkv = self.qkv(x).reshape(B, N, 3, self.num_heads, C // self.num_heads).permute(2, 0, 3, 1, 4)\n",
    "            q, k, v = qkv[0], qkv[1], qkv[2]   # make torchscript happy (cannot use tensor as tuple)\n",
    "            x = self.forward_spatial(q, k, v)\n",
    "            qkv = self.qkv(x).reshape(B, N, 3, self.num_heads, C // self.num_heads).permute(2, 0, 3, 1, 4)\n",
    "            q, k, v = qkv[0], qkv[1], qkv[2]   # make torchscript happy (cannot use tensor as tuple)\n",
    "            x = self.forward_temporal(q, k, v, seqlen=seqlen)\n",
    "        elif self.mode == 'parallel':\n",
    "            qkv = self.qkv(x).reshape(B, N, 3, self.num_heads, C // self.num_heads).permute(2, 0, 3, 1, 4)\n",
    "            q, k, v = qkv[0], qkv[1], qkv[2]   # make torchscript happy (cannot use tensor as tuple)\n",
    "            x_t = self.forward_temporal(q, k, v, seqlen=seqlen)\n",
    "            x_s = self.forward_spatial(q, k, v)\n",
    "            \n",
    "            alpha = torch.cat([x_s, x_t], dim=-1)\n",
    "            alpha = alpha.mean(dim=1, keepdim=True)\n",
    "            alpha = self.ts_attn(alpha).reshape(B, 1, C, 2)\n",
    "            alpha = alpha.softmax(dim=-1)\n",
    "            x = x_t * alpha[:,:,:,1] + x_s * alpha[:,:,:,0]\n",
    "        elif self.mode == 'coupling':\n",
    "            qkv = self.qkv(x).reshape(B, N, 3, self.num_heads, C // self.num_heads).permute(2, 0, 3, 1, 4)\n",
    "            q, k, v = qkv[0], qkv[1], qkv[2]   # make torchscript happy (cannot use tensor as tuple)\n",
    "            x = self.forward_coupling(q, k, v, seqlen=seqlen)\n",
    "        elif self.mode == 'vanilla':\n",
    "            qkv = self.qkv(x).reshape(B, N, 3, self.num_heads, C // self.num_heads).permute(2, 0, 3, 1, 4)\n",
    "            q, k, v = qkv[0], qkv[1], qkv[2]   # make torchscript happy (cannot use tensor as tuple)\n",
    "            x = self.forward_spatial(q, k, v)\n",
    "        elif self.mode == 'temporal':\n",
    "            qkv = self.qkv(x).reshape(B, N, 3, self.num_heads, C // self.num_heads).permute(2, 0, 3, 1, 4) # x: (BxF, 17, 256) -> output: (BxF, 17, 256x3) -> reshape: (BxF, 17, 3, 8, 32) -> permute: (3, BxF, 8, 17, 32)\n",
    "            q, k, v = qkv[0], qkv[1], qkv[2]   # make torchscript happy (cannot use tensor as tuple) # q, k, v: (BxF, 8, 17, 32)\n",
    "            x = self.forward_temporal(q, k, v, seqlen=seqlen)\n",
    "        elif self.mode == 'spatial':\n",
    "            qkv = self.qkv(x).reshape(B, N, 3, self.num_heads, C // self.num_heads).permute(2, 0, 3, 1, 4) # x: (BxF, 17, 256) -> output: (BxF, 17, 256x3) -> reshape: (BxF, 17, 3, 8, 32) -> permute: (3, BxF, 8, 17, 32)\n",
    "            q, k, v = qkv[0], qkv[1], qkv[2]   # make torchscript happy (cannot use tensor as tuple) # q, k, v: (BxF, 8, 17, 32)\n",
    "            x = self.forward_spatial(q, k, v) # (BxF, 17, 256)\n",
    "        else:\n",
    "            raise NotImplementedError(self.mode)\n",
    "        x = self.proj(x) # (BxF, 17, 256) -> (BxF, 17, 256)\n",
    "        x = self.proj_drop(x)\n",
    "        return x\n",
    "    \n",
    "    def reshape_T(self, x, seqlen=1, inverse=False):\n",
    "        if not inverse:\n",
    "            N, C = x.shape[-2:]\n",
    "            x = x.reshape(-1, seqlen, self.num_heads, N, C).transpose(1,2)\n",
    "            x = x.reshape(-1, self.num_heads, seqlen*N, C) #(B, H, TN, c)\n",
    "        else:\n",
    "            TN, C = x.shape[-2:]\n",
    "            x = x.reshape(-1, self.num_heads, seqlen, TN // seqlen, C).transpose(1,2)\n",
    "            x = x.reshape(-1, self.num_heads, TN // seqlen, C) #(BT, H, N, C)\n",
    "        return x \n",
    "\n",
    "    def forward_coupling(self, q, k, v, seqlen=8):\n",
    "        BT, _, N, C = q.shape\n",
    "        q = self.reshape_T(q, seqlen)\n",
    "        k = self.reshape_T(k, seqlen)\n",
    "        v = self.reshape_T(v, seqlen)\n",
    "\n",
    "        attn = (q @ k.transpose(-2, -1)) * self.scale\n",
    "        attn = attn.softmax(dim=-1)\n",
    "        attn = self.attn_drop(attn)\n",
    "\n",
    "        x = attn @ v\n",
    "        x = self.reshape_T(x, seqlen, inverse=True)\n",
    "        x = x.transpose(1,2).reshape(BT, N, C*self.num_heads)\n",
    "        return x\n",
    "\n",
    "    def forward_spatial(self, q, k, v): # q, k, v: (BxF, 8, 17, 32)\n",
    "        B, _, N, C = q.shape\n",
    "        # scaled dot-product attention\n",
    "        attn = (q @ k.transpose(-2, -1)) * self.scale # (BxF, 8, 17, 32) @ (BxF, 8, 32, 17) * (1) = (BxF, 8, 17, 17)\n",
    "        attn = attn.softmax(dim=-1)\n",
    "        attn = self.attn_drop(attn)\n",
    "\n",
    "        x = attn @ v # BxF, 8, 17, 17) @ (BxF, 8, 17, 32) = (BxF, 8, 17, 32)\n",
    "        x = x.transpose(1,2).reshape(B, N, C*self.num_heads) # x: (BxF, 8, 17, 32) -> transpose: (BxF, 17, 8, 32) -> reshape: (BxF, 17, 32x8) = (BxF, 17, 256)\n",
    "        return x\n",
    "        \n",
    "    def forward_temporal(self, q, k, v, seqlen=8): # q, k, v: (BxF, 8, 17, 32), seqlen=243\n",
    "        B, _, N, C = q.shape\n",
    "        qt = q.reshape(-1, seqlen, self.num_heads, N, C).permute(0, 2, 3, 1, 4) # (BxF, 8, 17, 32) -> reshape: (B, 243, 8, 17, 32) -> permute: (B, 8, 17, 243, 32) # (B, H, N, T, C) \n",
    "        kt = k.reshape(-1, seqlen, self.num_heads, N, C).permute(0, 2, 3, 1, 4) # (BxF, 8, 17, 32) -> reshape: (B, 243, 8, 17, 32) -> permute: (B, 8, 17, 243, 32) # (B, H, N, T, C)\n",
    "        vt = v.reshape(-1, seqlen, self.num_heads, N, C).permute(0, 2, 3, 1, 4) # (BxF, 8, 17, 32) -> reshape: (B, 243, 8, 17, 32) -> permute: (B, 8, 17, 243, 32) # (B, H, N, T, C)\n",
    "\n",
    "        attn = (qt @ kt.transpose(-2, -1)) * self.scale # (B, 8, 17, 243, 32) @ (B, 8, 17, 32, 243) * (1) = (B, 8, 17, 243, 243)\n",
    "        attn = attn.softmax(dim=-1)\n",
    "        attn = self.attn_drop(attn)\n",
    "\n",
    "        x = attn @ vt # (B, 8, 17, 243, 243) @ (B, 8, 17, 243, 32) = (B, 8, 17, 243, 32) # (B, H, N, T, C)\n",
    "        x = x.permute(0, 3, 2, 1, 4).reshape(B, N, C*self.num_heads) # x:(B, 8, 17, 243, 32) -> permute: (B, 243, 17, 8, 32) -> reshape: (BxF, 17, 256)\n",
    "        return x\n",
    "\n",
    "    def count_attn(self, attn):\n",
    "        attn = attn.detach().cpu().numpy()\n",
    "        attn = attn.mean(axis=1)\n",
    "        attn_t = attn[:, :, 1].mean(axis=1)\n",
    "        attn_s = attn[:, :, 0].mean(axis=1)\n",
    "        if self.attn_count_s is None:\n",
    "            self.attn_count_s = attn_s\n",
    "            self.attn_count_t = attn_t\n",
    "        else:\n",
    "            self.attn_count_s = np.concatenate([self.attn_count_s, attn_s], axis=0)\n",
    "            self.attn_count_t = np.concatenate([self.attn_count_t, attn_t], axis=0)\n",
    "\n",
    "class Block(nn.Module):\n",
    "    def __init__(self, dim, num_heads, mlp_ratio=4., mlp_out_ratio=1., qkv_bias=True, qk_scale=None, drop=0., attn_drop=0.,\n",
    "                 drop_path=0., act_layer=nn.GELU, norm_layer=nn.LayerNorm, att_fuse=False):\n",
    "        super().__init__()\n",
    "        self.norm1 = norm_layer(dim)\n",
    "        self.norm2 = norm_layer(dim)\n",
    "        self.attn = Attention(\n",
    "            dim, num_heads=num_heads, qkv_bias=qkv_bias, qk_scale=qk_scale, attn_drop=attn_drop, proj_drop=drop)\n",
    "        \n",
    "        # NOTE: drop path for stochastic depth, we shall see if this is better than dropout here\n",
    "        self.drop_path = DropPath(drop_path) if drop_path > 0. else nn.Identity() \n",
    "        # DropPath: 확률적으로 skip connection(x+f(x)에서 f(x))만 남기는 regularization 방법 \n",
    "        # nn.Identity(): 입력값을 그대로 출력하는 layer\n",
    "        mlp_hidden_dim = int(dim * mlp_ratio) # 256 x 4\n",
    "        mlp_out_dim = int(dim * mlp_out_ratio) # 256\n",
    "        self.mlp = MLP(in_features=dim, hidden_features=mlp_hidden_dim, out_features=mlp_out_dim, act_layer=act_layer, drop=drop)\n",
    "    def forward(self, x, seqlen=1): # x=(BxF, 17, 256), seqlen=243\n",
    "        x = x + self.drop_path(self.attn(self.norm1(x), seqlen)) # (BxF, 17, 256)\n",
    "        x = x + self.drop_path(self.mlp(self.norm2(x))) # (BxF, 17, 256)\n",
    "        return x\n",
    "\n",
    "class DHformer(nn.Module):\n",
    "    def __init__(self, dim_in=2, dim_out=3, dim_feat=256, dim_rep=256,\n",
    "                 depth=5, num_heads=8, mlp_ratio=4, \n",
    "                 num_joints=2, maxlen=243, \n",
    "                 qkv_bias=True, qk_scale=None, drop_rate=0., attn_drop_rate=0., drop_path_rate=0., norm_layer=nn.LayerNorm):\n",
    "        super().__init__()\n",
    "        self.dim_out = dim_out\n",
    "        self.dim_feat = dim_feat\n",
    "        self.joints_embed = nn.Linear(dim_in, dim_feat) # FC layer before DSTformer - (BxF, 17, 3) -> (BxF, 17, 256)\n",
    "        self.pos_drop = nn.Dropout(p=drop_rate) \n",
    "        dpr = [x.item() for x in torch.linspace(0, drop_path_rate, depth)]  # stochastic depth decay rule\n",
    "        # attention block\n",
    "        self.blocks = nn.ModuleList([\n",
    "            Block(\n",
    "                dim=dim_feat, num_heads=num_heads, mlp_ratio=mlp_ratio, qkv_bias=qkv_bias, qk_scale=qk_scale,\n",
    "                drop=drop_rate, attn_drop=attn_drop_rate, drop_path=dpr[i], norm_layer=norm_layer)\n",
    "            for i in range(depth)])\n",
    "        self.norm = norm_layer(dim_feat)\n",
    "        if dim_rep:\n",
    "            self.pre_logits = nn.Sequential(OrderedDict([ # final pre-FC layer\n",
    "                ('fc', nn.Linear(dim_feat, dim_rep)),\n",
    "                ('act', nn.Tanh())\n",
    "            ]))\n",
    "        else:\n",
    "            self.pre_logits = nn.Identity()\n",
    "        self.head = nn.Linear(dim_rep, dim_out) if dim_out > 0 else nn.Identity() # final FC layer \n",
    "        self.temp_embed = nn.Parameter(torch.zeros(1, maxlen, 1, dim_feat)) # learnable temporal positional encoding - (1, 243, 1, 256)\n",
    "        self.pos_embed = nn.Parameter(torch.zeros(1, num_joints, dim_feat)) # learnable spatial positional encoding - (1, 17, 256)\n",
    "        trunc_normal_(self.temp_embed, std=.02)\n",
    "        trunc_normal_(self.pos_embed, std=.02)\n",
    "        self.apply(self._init_weights) # 해당 Module의 모든 sub-module에 인수받은 함수를 적용시켜준다.\n",
    "\n",
    "    def _init_weights(self, m):\n",
    "        if isinstance(m, nn.Linear):\n",
    "            trunc_normal_(m.weight, std=.02)\n",
    "            if isinstance(m, nn.Linear) and m.bias is not None:\n",
    "                nn.init.constant_(m.bias, 0)\n",
    "        elif isinstance(m, nn.LayerNorm):\n",
    "            nn.init.constant_(m.bias, 0)\n",
    "            nn.init.constant_(m.weight, 1.0)\n",
    "\n",
    "    def get_classifier(self):\n",
    "        return self.head\n",
    "\n",
    "    def reset_classifier(self, dim_out, global_pool=''):\n",
    "        self.dim_out = dim_out\n",
    "        self.head = nn.Linear(self.dim_feat, dim_out) if dim_out > 0 else nn.Identity()\n",
    "\n",
    "    def forward(self, x, return_rep=False):   \n",
    "        B, F, J, C = x.shape # Batch, Frame, Joint, Channel\n",
    "        x = x.reshape(-1, J, C) # Batch*Frame, Joint, Channel\n",
    "        BF = x.shape[0]\n",
    "        x = self.joints_embed(x) # feature embedding - (BxF, J, 3) -> (BxF, J, dim_feat)\n",
    "        x = x + self.pos_embed # add learnable spatial positional encoding - (BxF, J, dim_feat) + (1, J, dim_feat)\n",
    "        _, J, C = x.shape # J=17, C=dim_feat\n",
    "        x = x.reshape(-1, F, J, C) + self.temp_embed[:,:F,:,:] # add learnable temporal positional encoding\n",
    "        x = x.reshape(BF, J, C) # (BxF, J, dim_feat)\n",
    "        x = self.pos_drop(x)\n",
    "        #alphas = []\n",
    "        for idx, blk in enumerate(self.blocks):\n",
    "            x = blk(x, F) # Block의 forward 함수 -> x: (BxF, J, dim_feat), F=243, x: (BxF, J, dim_feat)\n",
    "        x = self.norm(x) # layer normalization\n",
    "        x = x.reshape(B, F, J, -1) # # (B, F, J, dim_feat)\n",
    "        x = self.pre_logits(x)  # (B, F, J, dim_feat) ->  (B, F, J, dim_rep)   motion representation E or pass\n",
    "        if return_rep:\n",
    "            return x\n",
    "        x = self.head(x) # 3D motion X_hat # (B, J, 17, dim_rep) -> (B, F, J, dim_out)\n",
    "        return x\n",
    "\n",
    "    def get_representation(self, x):\n",
    "        return self.forward(x, return_rep=True)"
   ]
  },
  {
   "cell_type": "code",
   "execution_count": 20,
   "metadata": {},
   "outputs": [],
   "source": [
    "dhformer = DHformer()\n",
    "dhformer = dhformer.cuda()\n",
    "dhformer = dhformer.eval()"
   ]
  },
  {
   "cell_type": "code",
   "execution_count": 26,
   "metadata": {},
   "outputs": [
    {
     "data": {
      "text/plain": [
       "torch.Size([8, 243, 2, 2])"
      ]
     },
     "execution_count": 26,
     "metadata": {},
     "output_type": "execute_result"
    }
   ],
   "source": [
    "test_input = torch.rand(8, 243, 2, 2).cuda()\n",
    "test_input.shape"
   ]
  },
  {
   "cell_type": "code",
   "execution_count": 31,
   "metadata": {},
   "outputs": [
    {
     "data": {
      "text/plain": [
       "torch.Size([1, 243, 2, 3])"
      ]
     },
     "execution_count": 31,
     "metadata": {},
     "output_type": "execute_result"
    }
   ],
   "source": [
    "test_output = dhformer(input_data[:, :243].cuda())\n",
    "test_output.shape"
   ]
  },
  {
   "cell_type": "code",
   "execution_count": 36,
   "metadata": {},
   "outputs": [
    {
     "data": {
      "text/plain": [
       "tensor(1745.7692, device='cuda:0', grad_fn=<CopyBackwards>)"
      ]
     },
     "execution_count": 36,
     "metadata": {},
     "output_type": "execute_result"
    }
   ],
   "source": [
    "torch.norm(test_output - gt_data[:, :243].cuda())"
   ]
  },
  {
   "cell_type": "code",
   "execution_count": 23,
   "metadata": {},
   "outputs": [
    {
     "name": "stdout",
     "output_type": "stream",
     "text": [
      "torch.Size([1, 243, 2, 2]) torch.Size([1, 243, 2, 3])\n",
      "torch.Size([1, 243, 2, 2]) torch.Size([1, 243, 2, 3])\n",
      "torch.Size([1, 243, 2, 2]) torch.Size([1, 243, 2, 3])\n",
      "torch.Size([1, 243, 2, 2]) torch.Size([1, 243, 2, 3])\n",
      "torch.Size([1, 243, 2, 2]) torch.Size([1, 243, 2, 3])\n",
      "torch.Size([1, 243, 2, 2]) torch.Size([1, 243, 2, 3])\n",
      "torch.Size([1, 243, 2, 2]) torch.Size([1, 243, 2, 3])\n",
      "torch.Size([1, 243, 2, 2]) torch.Size([1, 243, 2, 3])\n",
      "torch.Size([1, 243, 2, 2]) torch.Size([1, 243, 2, 3])\n",
      "torch.Size([1, 243, 2, 2]) torch.Size([1, 243, 2, 3])\n",
      "torch.Size([1, 243, 2, 2]) torch.Size([1, 243, 2, 3])\n",
      "torch.Size([1, 243, 2, 2]) torch.Size([1, 243, 2, 3])\n",
      "torch.Size([1, 243, 2, 2]) torch.Size([1, 243, 2, 3])\n",
      "torch.Size([1, 243, 2, 2]) torch.Size([1, 243, 2, 3])\n",
      "torch.Size([1, 243, 2, 2]) torch.Size([1, 243, 2, 3])\n",
      "torch.Size([1, 243, 2, 2]) torch.Size([1, 243, 2, 3])\n",
      "torch.Size([1, 243, 2, 2]) torch.Size([1, 243, 2, 3])\n",
      "torch.Size([1, 243, 2, 2]) torch.Size([1, 243, 2, 3])\n",
      "torch.Size([1, 243, 2, 2]) torch.Size([1, 243, 2, 3])\n",
      "torch.Size([1, 243, 2, 2]) torch.Size([1, 243, 2, 3])\n",
      "torch.Size([1, 243, 2, 2]) torch.Size([1, 243, 2, 3])\n",
      "torch.Size([1, 243, 2, 2]) torch.Size([1, 243, 2, 3])\n",
      "torch.Size([1, 243, 2, 2]) torch.Size([1, 243, 2, 3])\n",
      "torch.Size([1, 243, 2, 2]) torch.Size([1, 243, 2, 3])\n",
      "torch.Size([1, 243, 2, 2]) torch.Size([1, 243, 2, 3])\n",
      "torch.Size([1, 243, 2, 2]) torch.Size([1, 243, 2, 3])\n",
      "torch.Size([1, 243, 2, 2]) torch.Size([1, 243, 2, 3])\n",
      "torch.Size([1, 243, 2, 2]) torch.Size([1, 243, 2, 3])\n",
      "torch.Size([1, 243, 2, 2]) torch.Size([1, 243, 2, 3])\n",
      "torch.Size([1, 243, 2, 2]) torch.Size([1, 243, 2, 3])\n",
      "torch.Size([1, 243, 2, 2]) torch.Size([1, 243, 2, 3])\n",
      "torch.Size([1, 243, 2, 2]) torch.Size([1, 243, 2, 3])\n",
      "torch.Size([1, 243, 2, 2]) torch.Size([1, 243, 2, 3])\n",
      "torch.Size([1, 243, 2, 2]) torch.Size([1, 243, 2, 3])\n",
      "torch.Size([1, 243, 2, 2]) torch.Size([1, 243, 2, 3])\n",
      "torch.Size([1, 243, 2, 2]) torch.Size([1, 243, 2, 3])\n",
      "torch.Size([1, 243, 2, 2]) torch.Size([1, 243, 2, 3])\n",
      "torch.Size([1, 243, 2, 2]) torch.Size([1, 243, 2, 3])\n",
      "torch.Size([1, 243, 2, 2]) torch.Size([1, 243, 2, 3])\n",
      "torch.Size([1, 243, 2, 2]) torch.Size([1, 243, 2, 3])\n",
      "torch.Size([1, 243, 2, 2]) torch.Size([1, 243, 2, 3])\n",
      "torch.Size([1, 243, 2, 2]) torch.Size([1, 243, 2, 3])\n",
      "torch.Size([1, 243, 2, 2]) torch.Size([1, 243, 2, 3])\n",
      "torch.Size([1, 243, 2, 2]) torch.Size([1, 243, 2, 3])\n",
      "torch.Size([1, 243, 2, 2]) torch.Size([1, 243, 2, 3])\n",
      "torch.Size([1, 243, 2, 2]) torch.Size([1, 243, 2, 3])\n",
      "torch.Size([1, 243, 2, 2]) torch.Size([1, 243, 2, 3])\n",
      "torch.Size([1, 243, 2, 2]) torch.Size([1, 243, 2, 3])\n",
      "torch.Size([1, 243, 2, 2]) torch.Size([1, 243, 2, 3])\n",
      "torch.Size([1, 243, 2, 2]) torch.Size([1, 243, 2, 3])\n",
      "torch.Size([1, 243, 2, 2]) torch.Size([1, 243, 2, 3])\n",
      "torch.Size([1, 243, 2, 2]) torch.Size([1, 243, 2, 3])\n",
      "torch.Size([1, 243, 2, 2]) torch.Size([1, 243, 2, 3])\n",
      "torch.Size([1, 243, 2, 2]) torch.Size([1, 243, 2, 3])\n",
      "torch.Size([1, 243, 2, 2]) torch.Size([1, 243, 2, 3])\n",
      "torch.Size([1, 243, 2, 2]) torch.Size([1, 243, 2, 3])\n",
      "torch.Size([1, 243, 2, 2]) torch.Size([1, 243, 2, 3])\n",
      "torch.Size([1, 243, 2, 2]) torch.Size([1, 243, 2, 3])\n",
      "torch.Size([1, 243, 2, 2]) torch.Size([1, 243, 2, 3])\n",
      "torch.Size([1, 243, 2, 2]) torch.Size([1, 243, 2, 3])\n",
      "torch.Size([1, 243, 2, 2]) torch.Size([1, 243, 2, 3])\n",
      "torch.Size([1, 243, 2, 2]) torch.Size([1, 243, 2, 3])\n",
      "torch.Size([1, 243, 2, 2]) torch.Size([1, 243, 2, 3])\n",
      "torch.Size([1, 243, 2, 2]) torch.Size([1, 243, 2, 3])\n",
      "torch.Size([1, 243, 2, 2]) torch.Size([1, 243, 2, 3])\n",
      "torch.Size([1, 226, 2, 2]) torch.Size([1, 226, 2, 3])\n",
      "torch.Size([1, 176, 2, 2]) torch.Size([1, 176, 2, 3])\n",
      "torch.Size([1, 126, 2, 2]) torch.Size([1, 126, 2, 3])\n",
      "torch.Size([1, 76, 2, 2]) torch.Size([1, 76, 2, 3])\n",
      "torch.Size([1, 26, 2, 2]) torch.Size([1, 26, 2, 3])\n"
     ]
    }
   ],
   "source": [
    "batch_input_list = []\n",
    "batch_gt_list = []\n",
    "for start_frame in range(0, len(input_data[0]), 50):\n",
    "    temp_input = input_data[:, start_frame:start_frame+243, :].clone()\n",
    "    temp_gt = gt_data[:, start_frame:start_frame+243, :].clone()\n",
    "    print(temp_input.shape, temp_gt.shape)\n",
    "    if temp_input.shape[1] == 243:\n",
    "        batch_input_list.append(temp_input)\n",
    "        batch_gt_list.append(temp_gt)\n",
    "        #print(temp.shape)"
   ]
  },
  {
   "cell_type": "code",
   "execution_count": 24,
   "metadata": {},
   "outputs": [],
   "source": [
    "class AverageMeter(object):\n",
    "    \"\"\"Computes and stores the average and current value\"\"\"\n",
    "    def __init__(self):\n",
    "        self.reset()\n",
    "\n",
    "    def reset(self):\n",
    "        self.val = 0\n",
    "        self.avg = 0\n",
    "        self.sum = 0\n",
    "        self.count = 0\n",
    "\n",
    "    def update(self, val, n=1):\n",
    "        self.val = val\n",
    "        self.sum += val * n\n",
    "        self.count += n\n",
    "        self.avg = self.sum / self.count"
   ]
  },
  {
   "cell_type": "code",
   "execution_count": 168,
   "metadata": {},
   "outputs": [
    {
     "name": "stderr",
     "output_type": "stream",
     "text": [
      "100%|██████████| 65/65 [00:00<00:00, 94.91it/s]\n"
     ]
    },
    {
     "name": "stdout",
     "output_type": "stream",
     "text": [
      "2638.6401254507214\n"
     ]
    },
    {
     "name": "stderr",
     "output_type": "stream",
     "text": [
      "100%|██████████| 65/65 [00:00<00:00, 95.13it/s]\n"
     ]
    },
    {
     "name": "stdout",
     "output_type": "stream",
     "text": [
      "2804.260735144982\n"
     ]
    },
    {
     "name": "stderr",
     "output_type": "stream",
     "text": [
      "100%|██████████| 65/65 [00:00<00:00, 98.92it/s] \n"
     ]
    },
    {
     "name": "stdout",
     "output_type": "stream",
     "text": [
      "2994.517462940705\n"
     ]
    },
    {
     "name": "stderr",
     "output_type": "stream",
     "text": [
      "100%|██████████| 65/65 [00:00<00:00, 105.07it/s]\n"
     ]
    },
    {
     "name": "stdout",
     "output_type": "stream",
     "text": [
      "3083.852877338116\n"
     ]
    },
    {
     "name": "stderr",
     "output_type": "stream",
     "text": [
      "100%|██████████| 65/65 [00:00<00:00, 105.01it/s]\n"
     ]
    },
    {
     "name": "stdout",
     "output_type": "stream",
     "text": [
      "3187.4278694035456\n"
     ]
    },
    {
     "name": "stderr",
     "output_type": "stream",
     "text": [
      "100%|██████████| 65/65 [00:00<00:00, 105.12it/s]\n"
     ]
    },
    {
     "name": "stdout",
     "output_type": "stream",
     "text": [
      "3256.008312205779\n"
     ]
    },
    {
     "name": "stderr",
     "output_type": "stream",
     "text": [
      "100%|██████████| 65/65 [00:00<00:00, 104.94it/s]\n"
     ]
    },
    {
     "name": "stdout",
     "output_type": "stream",
     "text": [
      "3304.734537715702\n"
     ]
    },
    {
     "name": "stderr",
     "output_type": "stream",
     "text": [
      "100%|██████████| 65/65 [00:00<00:00, 95.19it/s]\n"
     ]
    },
    {
     "name": "stdout",
     "output_type": "stream",
     "text": [
      "3344.6549393873947\n"
     ]
    },
    {
     "name": "stderr",
     "output_type": "stream",
     "text": [
      "100%|██████████| 65/65 [00:00<00:00, 95.13it/s]\n"
     ]
    },
    {
     "name": "stdout",
     "output_type": "stream",
     "text": [
      "3298.6859300923143\n"
     ]
    },
    {
     "name": "stderr",
     "output_type": "stream",
     "text": [
      "100%|██████████| 65/65 [00:00<00:00, 94.40it/s]\n"
     ]
    },
    {
     "name": "stdout",
     "output_type": "stream",
     "text": [
      "3210.561608323317\n"
     ]
    },
    {
     "name": "stderr",
     "output_type": "stream",
     "text": [
      "100%|██████████| 65/65 [00:00<00:00, 95.59it/s]\n"
     ]
    },
    {
     "name": "stdout",
     "output_type": "stream",
     "text": [
      "3132.73704714475\n"
     ]
    },
    {
     "name": "stderr",
     "output_type": "stream",
     "text": [
      "100%|██████████| 65/65 [00:00<00:00, 98.87it/s] \n"
     ]
    },
    {
     "name": "stdout",
     "output_type": "stream",
     "text": [
      "3063.988739404923\n"
     ]
    },
    {
     "name": "stderr",
     "output_type": "stream",
     "text": [
      "100%|██████████| 65/65 [00:00<00:00, 103.75it/s]\n"
     ]
    },
    {
     "name": "stdout",
     "output_type": "stream",
     "text": [
      "3006.5725379356973\n"
     ]
    },
    {
     "name": "stderr",
     "output_type": "stream",
     "text": [
      "100%|██████████| 65/65 [00:00<00:00, 103.99it/s]\n"
     ]
    },
    {
     "name": "stdout",
     "output_type": "stream",
     "text": [
      "2961.1436180030905\n"
     ]
    },
    {
     "name": "stderr",
     "output_type": "stream",
     "text": [
      "100%|██████████| 65/65 [00:00<00:00, 103.57it/s]\n"
     ]
    },
    {
     "name": "stdout",
     "output_type": "stream",
     "text": [
      "2927.43912891877\n"
     ]
    },
    {
     "name": "stderr",
     "output_type": "stream",
     "text": [
      "100%|██████████| 65/65 [00:00<00:00, 103.77it/s]\n"
     ]
    },
    {
     "name": "stdout",
     "output_type": "stream",
     "text": [
      "2900.3232794541577\n"
     ]
    },
    {
     "name": "stderr",
     "output_type": "stream",
     "text": [
      "100%|██████████| 65/65 [00:00<00:00, 103.87it/s]\n"
     ]
    },
    {
     "name": "stdout",
     "output_type": "stream",
     "text": [
      "2876.3094039986036\n"
     ]
    },
    {
     "name": "stderr",
     "output_type": "stream",
     "text": [
      "100%|██████████| 65/65 [00:00<00:00, 104.74it/s]\n"
     ]
    },
    {
     "name": "stdout",
     "output_type": "stream",
     "text": [
      "2860.205758327908\n"
     ]
    },
    {
     "name": "stderr",
     "output_type": "stream",
     "text": [
      "100%|██████████| 65/65 [00:00<00:00, 104.18it/s]\n"
     ]
    },
    {
     "name": "stdout",
     "output_type": "stream",
     "text": [
      "2848.224669520575\n"
     ]
    },
    {
     "name": "stderr",
     "output_type": "stream",
     "text": [
      "100%|██████████| 65/65 [00:00<00:00, 104.19it/s]\n"
     ]
    },
    {
     "name": "stdout",
     "output_type": "stream",
     "text": [
      "2840.2001963923526\n"
     ]
    },
    {
     "name": "stderr",
     "output_type": "stream",
     "text": [
      "100%|██████████| 65/65 [00:00<00:00, 104.31it/s]\n"
     ]
    },
    {
     "name": "stdout",
     "output_type": "stream",
     "text": [
      "2840.626458270733\n"
     ]
    },
    {
     "name": "stderr",
     "output_type": "stream",
     "text": [
      "100%|██████████| 65/65 [00:00<00:00, 103.79it/s]\n"
     ]
    },
    {
     "name": "stdout",
     "output_type": "stream",
     "text": [
      "2847.2984732247733\n"
     ]
    },
    {
     "name": "stderr",
     "output_type": "stream",
     "text": [
      "100%|██████████| 65/65 [00:00<00:00, 104.06it/s]\n"
     ]
    },
    {
     "name": "stdout",
     "output_type": "stream",
     "text": [
      "2857.9945264733356\n"
     ]
    },
    {
     "name": "stderr",
     "output_type": "stream",
     "text": [
      "100%|██████████| 65/65 [00:00<00:00, 103.87it/s]\n"
     ]
    },
    {
     "name": "stdout",
     "output_type": "stream",
     "text": [
      "2863.47598822178\n"
     ]
    },
    {
     "name": "stderr",
     "output_type": "stream",
     "text": [
      "100%|██████████| 65/65 [00:00<00:00, 103.83it/s]\n"
     ]
    },
    {
     "name": "stdout",
     "output_type": "stream",
     "text": [
      "2858.065624774639\n"
     ]
    },
    {
     "name": "stderr",
     "output_type": "stream",
     "text": [
      "100%|██████████| 65/65 [00:00<00:00, 103.90it/s]\n"
     ]
    },
    {
     "name": "stdout",
     "output_type": "stream",
     "text": [
      "2845.2180404031064\n"
     ]
    },
    {
     "name": "stderr",
     "output_type": "stream",
     "text": [
      "100%|██████████| 65/65 [00:00<00:00, 103.75it/s]\n"
     ]
    },
    {
     "name": "stdout",
     "output_type": "stream",
     "text": [
      "2829.915129937066\n"
     ]
    },
    {
     "name": "stderr",
     "output_type": "stream",
     "text": [
      "100%|██████████| 65/65 [00:00<00:00, 104.01it/s]\n"
     ]
    },
    {
     "name": "stdout",
     "output_type": "stream",
     "text": [
      "2813.2564411875965\n"
     ]
    },
    {
     "name": "stderr",
     "output_type": "stream",
     "text": [
      "100%|██████████| 65/65 [00:00<00:00, 104.00it/s]\n"
     ]
    },
    {
     "name": "stdout",
     "output_type": "stream",
     "text": [
      "2800.6752315774206\n"
     ]
    },
    {
     "name": "stderr",
     "output_type": "stream",
     "text": [
      "100%|██████████| 65/65 [00:00<00:00, 103.74it/s]\n"
     ]
    },
    {
     "name": "stdout",
     "output_type": "stream",
     "text": [
      "2796.262518811348\n"
     ]
    },
    {
     "name": "stderr",
     "output_type": "stream",
     "text": [
      "100%|██████████| 65/65 [00:00<00:00, 103.94it/s]\n"
     ]
    },
    {
     "name": "stdout",
     "output_type": "stream",
     "text": [
      "2806.8675691590415\n"
     ]
    },
    {
     "name": "stderr",
     "output_type": "stream",
     "text": [
      "100%|██████████| 65/65 [00:00<00:00, 103.97it/s]\n"
     ]
    },
    {
     "name": "stdout",
     "output_type": "stream",
     "text": [
      "2832.962157058716\n"
     ]
    },
    {
     "name": "stderr",
     "output_type": "stream",
     "text": [
      "100%|██████████| 65/65 [00:00<00:00, 103.74it/s]\n"
     ]
    },
    {
     "name": "stdout",
     "output_type": "stream",
     "text": [
      "2865.7454065994225\n"
     ]
    },
    {
     "name": "stderr",
     "output_type": "stream",
     "text": [
      "100%|██████████| 65/65 [00:00<00:00, 103.95it/s]\n"
     ]
    },
    {
     "name": "stdout",
     "output_type": "stream",
     "text": [
      "2883.097787378924\n"
     ]
    },
    {
     "name": "stderr",
     "output_type": "stream",
     "text": [
      "100%|██████████| 65/65 [00:00<00:00, 103.76it/s]\n"
     ]
    },
    {
     "name": "stdout",
     "output_type": "stream",
     "text": [
      "2886.254343476348\n"
     ]
    },
    {
     "name": "stderr",
     "output_type": "stream",
     "text": [
      "100%|██████████| 65/65 [00:00<00:00, 104.12it/s]\n"
     ]
    },
    {
     "name": "stdout",
     "output_type": "stream",
     "text": [
      "2884.1166490603714\n"
     ]
    },
    {
     "name": "stderr",
     "output_type": "stream",
     "text": [
      "100%|██████████| 65/65 [00:00<00:00, 103.90it/s]\n"
     ]
    },
    {
     "name": "stdout",
     "output_type": "stream",
     "text": [
      "2880.0300917278455\n"
     ]
    },
    {
     "name": "stderr",
     "output_type": "stream",
     "text": [
      "100%|██████████| 65/65 [00:00<00:00, 103.95it/s]\n"
     ]
    },
    {
     "name": "stdout",
     "output_type": "stream",
     "text": [
      "2873.9181983360877\n"
     ]
    },
    {
     "name": "stderr",
     "output_type": "stream",
     "text": [
      "100%|██████████| 65/65 [00:00<00:00, 103.99it/s]\n"
     ]
    },
    {
     "name": "stdout",
     "output_type": "stream",
     "text": [
      "2866.511607273561\n"
     ]
    },
    {
     "name": "stderr",
     "output_type": "stream",
     "text": [
      "100%|██████████| 65/65 [00:00<00:00, 103.47it/s]\n"
     ]
    },
    {
     "name": "stdout",
     "output_type": "stream",
     "text": [
      "2856.3670356867865\n"
     ]
    },
    {
     "name": "stderr",
     "output_type": "stream",
     "text": [
      "100%|██████████| 65/65 [00:00<00:00, 103.85it/s]\n"
     ]
    },
    {
     "name": "stdout",
     "output_type": "stream",
     "text": [
      "2846.562311672762\n"
     ]
    },
    {
     "name": "stderr",
     "output_type": "stream",
     "text": [
      "100%|██████████| 65/65 [00:00<00:00, 104.15it/s]\n"
     ]
    },
    {
     "name": "stdout",
     "output_type": "stream",
     "text": [
      "2837.1013532366073\n"
     ]
    },
    {
     "name": "stderr",
     "output_type": "stream",
     "text": [
      "100%|██████████| 65/65 [00:00<00:00, 97.17it/s] \n"
     ]
    },
    {
     "name": "stdout",
     "output_type": "stream",
     "text": [
      "2831.226918796819\n"
     ]
    },
    {
     "name": "stderr",
     "output_type": "stream",
     "text": [
      "100%|██████████| 65/65 [00:00<00:00, 94.43it/s]\n"
     ]
    },
    {
     "name": "stdout",
     "output_type": "stream",
     "text": [
      "2829.514172598032\n"
     ]
    },
    {
     "name": "stderr",
     "output_type": "stream",
     "text": [
      "100%|██████████| 65/65 [00:00<00:00, 94.40it/s]\n"
     ]
    },
    {
     "name": "stdout",
     "output_type": "stream",
     "text": [
      "2831.993240998097\n"
     ]
    },
    {
     "name": "stderr",
     "output_type": "stream",
     "text": [
      "100%|██████████| 65/65 [00:00<00:00, 95.14it/s]\n"
     ]
    },
    {
     "name": "stdout",
     "output_type": "stream",
     "text": [
      "2836.019403361955\n"
     ]
    },
    {
     "name": "stderr",
     "output_type": "stream",
     "text": [
      "100%|██████████| 65/65 [00:00<00:00, 95.51it/s]\n"
     ]
    },
    {
     "name": "stdout",
     "output_type": "stream",
     "text": [
      "2836.7402010104465\n"
     ]
    },
    {
     "name": "stderr",
     "output_type": "stream",
     "text": [
      "100%|██████████| 65/65 [00:00<00:00, 96.42it/s]\n"
     ]
    },
    {
     "name": "stdout",
     "output_type": "stream",
     "text": [
      "2833.053466738187\n"
     ]
    },
    {
     "name": "stderr",
     "output_type": "stream",
     "text": [
      "100%|██████████| 65/65 [00:00<00:00, 95.86it/s]\n"
     ]
    },
    {
     "name": "stdout",
     "output_type": "stream",
     "text": [
      "2825.8599283598655\n"
     ]
    },
    {
     "name": "stderr",
     "output_type": "stream",
     "text": [
      "100%|██████████| 65/65 [00:00<00:00, 95.12it/s]\n"
     ]
    },
    {
     "name": "stdout",
     "output_type": "stream",
     "text": [
      "2817.818641845703\n"
     ]
    },
    {
     "name": "stderr",
     "output_type": "stream",
     "text": [
      "100%|██████████| 65/65 [00:00<00:00, 94.81it/s]\n"
     ]
    },
    {
     "name": "stdout",
     "output_type": "stream",
     "text": [
      "2808.453057189297\n"
     ]
    },
    {
     "name": "stderr",
     "output_type": "stream",
     "text": [
      "100%|██████████| 65/65 [00:00<00:00, 95.19it/s]\n"
     ]
    },
    {
     "name": "stdout",
     "output_type": "stream",
     "text": [
      "2800.257866781562\n"
     ]
    },
    {
     "name": "stderr",
     "output_type": "stream",
     "text": [
      "100%|██████████| 65/65 [00:00<00:00, 94.83it/s]\n"
     ]
    },
    {
     "name": "stdout",
     "output_type": "stream",
     "text": [
      "2792.8922715495737\n"
     ]
    },
    {
     "name": "stderr",
     "output_type": "stream",
     "text": [
      "100%|██████████| 65/65 [00:00<00:00, 94.99it/s]\n"
     ]
    },
    {
     "name": "stdout",
     "output_type": "stream",
     "text": [
      "2787.9794624872015\n"
     ]
    },
    {
     "name": "stderr",
     "output_type": "stream",
     "text": [
      "100%|██████████| 65/65 [00:00<00:00, 95.04it/s]\n"
     ]
    },
    {
     "name": "stdout",
     "output_type": "stream",
     "text": [
      "2784.580593534883\n"
     ]
    },
    {
     "name": "stderr",
     "output_type": "stream",
     "text": [
      "100%|██████████| 65/65 [00:00<00:00, 97.92it/s]\n"
     ]
    },
    {
     "name": "stdout",
     "output_type": "stream",
     "text": [
      "2781.699180955153\n"
     ]
    },
    {
     "name": "stderr",
     "output_type": "stream",
     "text": [
      "100%|██████████| 65/65 [00:00<00:00, 104.42it/s]\n"
     ]
    },
    {
     "name": "stdout",
     "output_type": "stream",
     "text": [
      "2779.791357899613\n"
     ]
    },
    {
     "name": "stderr",
     "output_type": "stream",
     "text": [
      "100%|██████████| 65/65 [00:00<00:00, 106.11it/s]\n"
     ]
    },
    {
     "name": "stdout",
     "output_type": "stream",
     "text": [
      "2778.6515917385923\n"
     ]
    },
    {
     "name": "stderr",
     "output_type": "stream",
     "text": [
      "100%|██████████| 65/65 [00:00<00:00, 106.59it/s]\n"
     ]
    },
    {
     "name": "stdout",
     "output_type": "stream",
     "text": [
      "2779.9564520924155\n"
     ]
    },
    {
     "name": "stderr",
     "output_type": "stream",
     "text": [
      "100%|██████████| 65/65 [00:00<00:00, 106.44it/s]\n"
     ]
    },
    {
     "name": "stdout",
     "output_type": "stream",
     "text": [
      "2785.7207609518982\n"
     ]
    },
    {
     "name": "stderr",
     "output_type": "stream",
     "text": [
      "100%|██████████| 65/65 [00:00<00:00, 106.28it/s]\n"
     ]
    },
    {
     "name": "stdout",
     "output_type": "stream",
     "text": [
      "2797.2352051858793\n"
     ]
    },
    {
     "name": "stderr",
     "output_type": "stream",
     "text": [
      "100%|██████████| 65/65 [00:00<00:00, 106.34it/s]\n"
     ]
    },
    {
     "name": "stdout",
     "output_type": "stream",
     "text": [
      "2813.3174756525764\n"
     ]
    },
    {
     "name": "stderr",
     "output_type": "stream",
     "text": [
      "100%|██████████| 65/65 [00:00<00:00, 106.86it/s]\n"
     ]
    },
    {
     "name": "stdout",
     "output_type": "stream",
     "text": [
      "2825.1704383710367\n"
     ]
    },
    {
     "name": "stderr",
     "output_type": "stream",
     "text": [
      "100%|██████████| 65/65 [00:00<00:00, 106.54it/s]\n"
     ]
    },
    {
     "name": "stdout",
     "output_type": "stream",
     "text": [
      "2827.821925133925\n"
     ]
    },
    {
     "name": "stderr",
     "output_type": "stream",
     "text": [
      "100%|██████████| 65/65 [00:00<00:00, 106.55it/s]\n"
     ]
    },
    {
     "name": "stdout",
     "output_type": "stream",
     "text": [
      "2824.8630285716763\n"
     ]
    },
    {
     "name": "stderr",
     "output_type": "stream",
     "text": [
      "100%|██████████| 65/65 [00:00<00:00, 106.73it/s]\n"
     ]
    },
    {
     "name": "stdout",
     "output_type": "stream",
     "text": [
      "2821.3914382472185\n"
     ]
    },
    {
     "name": "stderr",
     "output_type": "stream",
     "text": [
      "100%|██████████| 65/65 [00:00<00:00, 106.53it/s]\n"
     ]
    },
    {
     "name": "stdout",
     "output_type": "stream",
     "text": [
      "2819.847620371699\n"
     ]
    },
    {
     "name": "stderr",
     "output_type": "stream",
     "text": [
      "100%|██████████| 65/65 [00:00<00:00, 106.12it/s]\n"
     ]
    },
    {
     "name": "stdout",
     "output_type": "stream",
     "text": [
      "2820.2806131768552\n"
     ]
    },
    {
     "name": "stderr",
     "output_type": "stream",
     "text": [
      "100%|██████████| 65/65 [00:00<00:00, 106.40it/s]\n"
     ]
    },
    {
     "name": "stdout",
     "output_type": "stream",
     "text": [
      "2821.77417008518\n"
     ]
    },
    {
     "name": "stderr",
     "output_type": "stream",
     "text": [
      "100%|██████████| 65/65 [00:00<00:00, 106.39it/s]\n"
     ]
    },
    {
     "name": "stdout",
     "output_type": "stream",
     "text": [
      "2822.3022095665565\n"
     ]
    },
    {
     "name": "stderr",
     "output_type": "stream",
     "text": [
      "100%|██████████| 65/65 [00:00<00:00, 106.77it/s]\n"
     ]
    },
    {
     "name": "stdout",
     "output_type": "stream",
     "text": [
      "2820.344054765794\n"
     ]
    },
    {
     "name": "stderr",
     "output_type": "stream",
     "text": [
      "100%|██████████| 65/65 [00:00<00:00, 106.55it/s]\n"
     ]
    },
    {
     "name": "stdout",
     "output_type": "stream",
     "text": [
      "2815.84888811682\n"
     ]
    },
    {
     "name": "stderr",
     "output_type": "stream",
     "text": [
      "100%|██████████| 65/65 [00:00<00:00, 106.77it/s]\n"
     ]
    },
    {
     "name": "stdout",
     "output_type": "stream",
     "text": [
      "2810.492508342972\n"
     ]
    },
    {
     "name": "stderr",
     "output_type": "stream",
     "text": [
      "100%|██████████| 65/65 [00:00<00:00, 106.37it/s]\n"
     ]
    },
    {
     "name": "stdout",
     "output_type": "stream",
     "text": [
      "2803.9878957514456\n"
     ]
    },
    {
     "name": "stderr",
     "output_type": "stream",
     "text": [
      "100%|██████████| 65/65 [00:00<00:00, 106.38it/s]\n"
     ]
    },
    {
     "name": "stdout",
     "output_type": "stream",
     "text": [
      "2798.020096078726\n"
     ]
    },
    {
     "name": "stderr",
     "output_type": "stream",
     "text": [
      "100%|██████████| 65/65 [00:00<00:00, 106.60it/s]\n"
     ]
    },
    {
     "name": "stdout",
     "output_type": "stream",
     "text": [
      "2792.6975216019973\n"
     ]
    },
    {
     "name": "stderr",
     "output_type": "stream",
     "text": [
      "100%|██████████| 65/65 [00:00<00:00, 106.62it/s]\n"
     ]
    },
    {
     "name": "stdout",
     "output_type": "stream",
     "text": [
      "2788.6079250217554\n"
     ]
    },
    {
     "name": "stderr",
     "output_type": "stream",
     "text": [
      "100%|██████████| 65/65 [00:00<00:00, 106.54it/s]\n"
     ]
    },
    {
     "name": "stdout",
     "output_type": "stream",
     "text": [
      "2788.204989786543\n"
     ]
    },
    {
     "name": "stderr",
     "output_type": "stream",
     "text": [
      "100%|██████████| 65/65 [00:00<00:00, 105.29it/s]\n"
     ]
    },
    {
     "name": "stdout",
     "output_type": "stream",
     "text": [
      "2789.790500374175\n"
     ]
    },
    {
     "name": "stderr",
     "output_type": "stream",
     "text": [
      "100%|██████████| 65/65 [00:00<00:00, 106.55it/s]\n"
     ]
    },
    {
     "name": "stdout",
     "output_type": "stream",
     "text": [
      "2793.470208270733\n"
     ]
    },
    {
     "name": "stderr",
     "output_type": "stream",
     "text": [
      "100%|██████████| 65/65 [00:00<00:00, 106.36it/s]\n"
     ]
    },
    {
     "name": "stdout",
     "output_type": "stream",
     "text": [
      "2794.787540840808\n"
     ]
    },
    {
     "name": "stderr",
     "output_type": "stream",
     "text": [
      "100%|██████████| 65/65 [00:00<00:00, 106.18it/s]\n"
     ]
    },
    {
     "name": "stdout",
     "output_type": "stream",
     "text": [
      "2793.1727106205294\n"
     ]
    },
    {
     "name": "stderr",
     "output_type": "stream",
     "text": [
      "100%|██████████| 65/65 [00:00<00:00, 106.70it/s]\n"
     ]
    },
    {
     "name": "stdout",
     "output_type": "stream",
     "text": [
      "2789.833428689216\n"
     ]
    },
    {
     "name": "stderr",
     "output_type": "stream",
     "text": [
      "100%|██████████| 65/65 [00:00<00:00, 106.84it/s]\n"
     ]
    },
    {
     "name": "stdout",
     "output_type": "stream",
     "text": [
      "2785.2150596646597\n"
     ]
    },
    {
     "name": "stderr",
     "output_type": "stream",
     "text": [
      "100%|██████████| 65/65 [00:00<00:00, 105.69it/s]\n"
     ]
    },
    {
     "name": "stdout",
     "output_type": "stream",
     "text": [
      "2780.155332307427\n"
     ]
    },
    {
     "name": "stderr",
     "output_type": "stream",
     "text": [
      "100%|██████████| 65/65 [00:00<00:00, 106.17it/s]\n"
     ]
    },
    {
     "name": "stdout",
     "output_type": "stream",
     "text": [
      "2775.4995492679277\n"
     ]
    },
    {
     "name": "stderr",
     "output_type": "stream",
     "text": [
      "100%|██████████| 65/65 [00:00<00:00, 106.77it/s]\n"
     ]
    },
    {
     "name": "stdout",
     "output_type": "stream",
     "text": [
      "2772.0091558454733\n"
     ]
    },
    {
     "name": "stderr",
     "output_type": "stream",
     "text": [
      "100%|██████████| 65/65 [00:00<00:00, 106.84it/s]\n"
     ]
    },
    {
     "name": "stdout",
     "output_type": "stream",
     "text": [
      "2770.870855435458\n"
     ]
    },
    {
     "name": "stderr",
     "output_type": "stream",
     "text": [
      "100%|██████████| 65/65 [00:00<00:00, 106.67it/s]\n"
     ]
    },
    {
     "name": "stdout",
     "output_type": "stream",
     "text": [
      "2774.1573204521897\n"
     ]
    },
    {
     "name": "stderr",
     "output_type": "stream",
     "text": [
      "100%|██████████| 65/65 [00:00<00:00, 106.74it/s]\n"
     ]
    },
    {
     "name": "stdout",
     "output_type": "stream",
     "text": [
      "2783.5439581350993\n"
     ]
    },
    {
     "name": "stderr",
     "output_type": "stream",
     "text": [
      "100%|██████████| 65/65 [00:00<00:00, 106.76it/s]\n"
     ]
    },
    {
     "name": "stdout",
     "output_type": "stream",
     "text": [
      "2797.4294049428263\n"
     ]
    },
    {
     "name": "stderr",
     "output_type": "stream",
     "text": [
      "100%|██████████| 65/65 [00:00<00:00, 106.40it/s]\n"
     ]
    },
    {
     "name": "stdout",
     "output_type": "stream",
     "text": [
      "2810.295533073706\n"
     ]
    },
    {
     "name": "stderr",
     "output_type": "stream",
     "text": [
      "100%|██████████| 65/65 [00:00<00:00, 106.93it/s]\n"
     ]
    },
    {
     "name": "stdout",
     "output_type": "stream",
     "text": [
      "2816.9960495361124\n"
     ]
    },
    {
     "name": "stderr",
     "output_type": "stream",
     "text": [
      "100%|██████████| 65/65 [00:00<00:00, 106.77it/s]\n"
     ]
    },
    {
     "name": "stdout",
     "output_type": "stream",
     "text": [
      "2817.698932484129\n"
     ]
    },
    {
     "name": "stderr",
     "output_type": "stream",
     "text": [
      "100%|██████████| 65/65 [00:00<00:00, 104.86it/s]\n"
     ]
    },
    {
     "name": "stdout",
     "output_type": "stream",
     "text": [
      "2815.0641563508193\n"
     ]
    },
    {
     "name": "stderr",
     "output_type": "stream",
     "text": [
      "100%|██████████| 65/65 [00:00<00:00, 106.00it/s]\n"
     ]
    },
    {
     "name": "stdout",
     "output_type": "stream",
     "text": [
      "2810.64706985278\n"
     ]
    },
    {
     "name": "stderr",
     "output_type": "stream",
     "text": [
      "100%|██████████| 65/65 [00:00<00:00, 106.82it/s]\n"
     ]
    },
    {
     "name": "stdout",
     "output_type": "stream",
     "text": [
      "2805.6477055718274\n"
     ]
    },
    {
     "name": "stderr",
     "output_type": "stream",
     "text": [
      "100%|██████████| 65/65 [00:00<00:00, 106.78it/s]\n"
     ]
    },
    {
     "name": "stdout",
     "output_type": "stream",
     "text": [
      "2800.454818356692\n"
     ]
    },
    {
     "name": "stderr",
     "output_type": "stream",
     "text": [
      "100%|██████████| 65/65 [00:00<00:00, 107.07it/s]\n"
     ]
    },
    {
     "name": "stdout",
     "output_type": "stream",
     "text": [
      "2795.776106789803\n"
     ]
    },
    {
     "name": "stderr",
     "output_type": "stream",
     "text": [
      "100%|██████████| 65/65 [00:00<00:00, 106.89it/s]\n"
     ]
    },
    {
     "name": "stdout",
     "output_type": "stream",
     "text": [
      "2790.972844041091\n"
     ]
    },
    {
     "name": "stderr",
     "output_type": "stream",
     "text": [
      "100%|██████████| 65/65 [00:00<00:00, 106.47it/s]\n"
     ]
    },
    {
     "name": "stdout",
     "output_type": "stream",
     "text": [
      "2786.3019808209224\n"
     ]
    },
    {
     "name": "stderr",
     "output_type": "stream",
     "text": [
      "100%|██████████| 65/65 [00:00<00:00, 106.80it/s]\n"
     ]
    },
    {
     "name": "stdout",
     "output_type": "stream",
     "text": [
      "2782.6979098358843\n"
     ]
    },
    {
     "name": "stderr",
     "output_type": "stream",
     "text": [
      "100%|██████████| 65/65 [00:00<00:00, 105.03it/s]\n"
     ]
    },
    {
     "name": "stdout",
     "output_type": "stream",
     "text": [
      "2781.9226499413626\n"
     ]
    },
    {
     "name": "stderr",
     "output_type": "stream",
     "text": [
      "100%|██████████| 65/65 [00:00<00:00, 104.92it/s]\n"
     ]
    },
    {
     "name": "stdout",
     "output_type": "stream",
     "text": [
      "2782.228043514455\n"
     ]
    },
    {
     "name": "stderr",
     "output_type": "stream",
     "text": [
      "100%|██████████| 65/65 [00:00<00:00, 104.31it/s]\n"
     ]
    },
    {
     "name": "stdout",
     "output_type": "stream",
     "text": [
      "2784.265793457031\n"
     ]
    },
    {
     "name": "stderr",
     "output_type": "stream",
     "text": [
      "100%|██████████| 65/65 [00:00<00:00, 104.65it/s]\n"
     ]
    },
    {
     "name": "stdout",
     "output_type": "stream",
     "text": [
      "2786.556426408433\n"
     ]
    },
    {
     "name": "stderr",
     "output_type": "stream",
     "text": [
      "100%|██████████| 65/65 [00:00<00:00, 104.40it/s]\n"
     ]
    },
    {
     "name": "stdout",
     "output_type": "stream",
     "text": [
      "2786.3713733445475\n"
     ]
    },
    {
     "name": "stderr",
     "output_type": "stream",
     "text": [
      "100%|██████████| 65/65 [00:00<00:00, 104.18it/s]\n"
     ]
    },
    {
     "name": "stdout",
     "output_type": "stream",
     "text": [
      "2784.811972689289\n"
     ]
    },
    {
     "name": "stderr",
     "output_type": "stream",
     "text": [
      "100%|██████████| 65/65 [00:00<00:00, 104.54it/s]\n"
     ]
    },
    {
     "name": "stdout",
     "output_type": "stream",
     "text": [
      "2782.0243396659425\n"
     ]
    },
    {
     "name": "stderr",
     "output_type": "stream",
     "text": [
      "100%|██████████| 65/65 [00:00<00:00, 104.62it/s]\n"
     ]
    },
    {
     "name": "stdout",
     "output_type": "stream",
     "text": [
      "2779.0321145651224\n"
     ]
    },
    {
     "name": "stderr",
     "output_type": "stream",
     "text": [
      "100%|██████████| 65/65 [00:00<00:00, 104.10it/s]\n"
     ]
    },
    {
     "name": "stdout",
     "output_type": "stream",
     "text": [
      "2776.8595247074372\n"
     ]
    },
    {
     "name": "stderr",
     "output_type": "stream",
     "text": [
      "100%|██████████| 65/65 [00:00<00:00, 103.04it/s]\n"
     ]
    },
    {
     "name": "stdout",
     "output_type": "stream",
     "text": [
      "2775.3868971939924\n"
     ]
    },
    {
     "name": "stderr",
     "output_type": "stream",
     "text": [
      "100%|██████████| 65/65 [00:00<00:00, 102.95it/s]\n"
     ]
    },
    {
     "name": "stdout",
     "output_type": "stream",
     "text": [
      "2774.873771768236\n"
     ]
    },
    {
     "name": "stderr",
     "output_type": "stream",
     "text": [
      "100%|██████████| 65/65 [00:00<00:00, 102.90it/s]\n"
     ]
    },
    {
     "name": "stdout",
     "output_type": "stream",
     "text": [
      "2775.4875906137318\n"
     ]
    },
    {
     "name": "stderr",
     "output_type": "stream",
     "text": [
      "100%|██████████| 65/65 [00:00<00:00, 103.40it/s]\n"
     ]
    },
    {
     "name": "stdout",
     "output_type": "stream",
     "text": [
      "2776.4527153010035\n"
     ]
    },
    {
     "name": "stderr",
     "output_type": "stream",
     "text": [
      "100%|██████████| 65/65 [00:00<00:00, 103.08it/s]\n"
     ]
    },
    {
     "name": "stdout",
     "output_type": "stream",
     "text": [
      "2777.81679500509\n"
     ]
    },
    {
     "name": "stderr",
     "output_type": "stream",
     "text": [
      "100%|██████████| 65/65 [00:00<00:00, 103.47it/s]\n"
     ]
    },
    {
     "name": "stdout",
     "output_type": "stream",
     "text": [
      "2780.109352937456\n"
     ]
    },
    {
     "name": "stderr",
     "output_type": "stream",
     "text": [
      "100%|██████████| 65/65 [00:00<00:00, 104.57it/s]\n"
     ]
    },
    {
     "name": "stdout",
     "output_type": "stream",
     "text": [
      "2784.459207300537\n"
     ]
    },
    {
     "name": "stderr",
     "output_type": "stream",
     "text": [
      "100%|██████████| 65/65 [00:00<00:00, 104.91it/s]\n"
     ]
    },
    {
     "name": "stdout",
     "output_type": "stream",
     "text": [
      "2790.494617961743\n"
     ]
    },
    {
     "name": "stderr",
     "output_type": "stream",
     "text": [
      "100%|██████████| 65/65 [00:00<00:00, 104.17it/s]\n"
     ]
    },
    {
     "name": "stdout",
     "output_type": "stream",
     "text": [
      "2795.2885548987756\n"
     ]
    },
    {
     "name": "stderr",
     "output_type": "stream",
     "text": [
      "100%|██████████| 65/65 [00:00<00:00, 104.78it/s]\n"
     ]
    },
    {
     "name": "stdout",
     "output_type": "stream",
     "text": [
      "2796.3816494252374\n"
     ]
    },
    {
     "name": "stderr",
     "output_type": "stream",
     "text": [
      "100%|██████████| 65/65 [00:00<00:00, 104.81it/s]\n"
     ]
    },
    {
     "name": "stdout",
     "output_type": "stream",
     "text": [
      "2794.2018719474727\n"
     ]
    },
    {
     "name": "stderr",
     "output_type": "stream",
     "text": [
      "100%|██████████| 65/65 [00:00<00:00, 105.05it/s]\n"
     ]
    },
    {
     "name": "stdout",
     "output_type": "stream",
     "text": [
      "2790.5376566225473\n"
     ]
    },
    {
     "name": "stderr",
     "output_type": "stream",
     "text": [
      "100%|██████████| 65/65 [00:00<00:00, 105.00it/s]\n"
     ]
    },
    {
     "name": "stdout",
     "output_type": "stream",
     "text": [
      "2786.2772484488287\n"
     ]
    },
    {
     "name": "stderr",
     "output_type": "stream",
     "text": [
      "100%|██████████| 65/65 [00:00<00:00, 113.29it/s]\n"
     ]
    },
    {
     "name": "stdout",
     "output_type": "stream",
     "text": [
      "2781.922388619291\n"
     ]
    },
    {
     "name": "stderr",
     "output_type": "stream",
     "text": [
      "100%|██████████| 65/65 [00:00<00:00, 115.56it/s]\n"
     ]
    },
    {
     "name": "stdout",
     "output_type": "stream",
     "text": [
      "2777.5419238415393\n"
     ]
    },
    {
     "name": "stderr",
     "output_type": "stream",
     "text": [
      "100%|██████████| 65/65 [00:00<00:00, 115.54it/s]\n"
     ]
    },
    {
     "name": "stdout",
     "output_type": "stream",
     "text": [
      "2773.2300704355316\n"
     ]
    },
    {
     "name": "stderr",
     "output_type": "stream",
     "text": [
      "100%|██████████| 65/65 [00:00<00:00, 115.36it/s]\n"
     ]
    },
    {
     "name": "stdout",
     "output_type": "stream",
     "text": [
      "2769.0362335938676\n"
     ]
    },
    {
     "name": "stderr",
     "output_type": "stream",
     "text": [
      "100%|██████████| 65/65 [00:00<00:00, 115.44it/s]\n"
     ]
    },
    {
     "name": "stdout",
     "output_type": "stream",
     "text": [
      "2765.001487823832\n"
     ]
    },
    {
     "name": "stderr",
     "output_type": "stream",
     "text": [
      "100%|██████████| 65/65 [00:00<00:00, 115.52it/s]\n"
     ]
    },
    {
     "name": "stdout",
     "output_type": "stream",
     "text": [
      "2761.3246273316154\n"
     ]
    },
    {
     "name": "stderr",
     "output_type": "stream",
     "text": [
      "100%|██████████| 65/65 [00:00<00:00, 115.47it/s]\n"
     ]
    },
    {
     "name": "stdout",
     "output_type": "stream",
     "text": [
      "2757.7378904888087\n"
     ]
    },
    {
     "name": "stderr",
     "output_type": "stream",
     "text": [
      "100%|██████████| 65/65 [00:00<00:00, 115.60it/s]\n"
     ]
    },
    {
     "name": "stdout",
     "output_type": "stream",
     "text": [
      "2754.620207530913\n"
     ]
    },
    {
     "name": "stderr",
     "output_type": "stream",
     "text": [
      "100%|██████████| 65/65 [00:00<00:00, 115.52it/s]\n"
     ]
    },
    {
     "name": "stdout",
     "output_type": "stream",
     "text": [
      "2753.2408871087537\n"
     ]
    },
    {
     "name": "stderr",
     "output_type": "stream",
     "text": [
      "100%|██████████| 65/65 [00:00<00:00, 115.34it/s]\n"
     ]
    },
    {
     "name": "stdout",
     "output_type": "stream",
     "text": [
      "2753.5933404407874\n"
     ]
    },
    {
     "name": "stderr",
     "output_type": "stream",
     "text": [
      "100%|██████████| 65/65 [00:00<00:00, 105.19it/s]\n"
     ]
    },
    {
     "name": "stdout",
     "output_type": "stream",
     "text": [
      "2757.6410876290956\n"
     ]
    },
    {
     "name": "stderr",
     "output_type": "stream",
     "text": [
      "100%|██████████| 65/65 [00:00<00:00, 104.10it/s]\n"
     ]
    },
    {
     "name": "stdout",
     "output_type": "stream",
     "text": [
      "2768.603609566667\n"
     ]
    },
    {
     "name": "stderr",
     "output_type": "stream",
     "text": [
      "100%|██████████| 65/65 [00:00<00:00, 104.00it/s]\n"
     ]
    },
    {
     "name": "stdout",
     "output_type": "stream",
     "text": [
      "2782.8035567080688\n"
     ]
    },
    {
     "name": "stderr",
     "output_type": "stream",
     "text": [
      "100%|██████████| 65/65 [00:00<00:00, 103.54it/s]\n"
     ]
    },
    {
     "name": "stdout",
     "output_type": "stream",
     "text": [
      "2793.25023122594\n"
     ]
    },
    {
     "name": "stderr",
     "output_type": "stream",
     "text": [
      "100%|██████████| 65/65 [00:00<00:00, 104.19it/s]\n"
     ]
    },
    {
     "name": "stdout",
     "output_type": "stream",
     "text": [
      "2795.9702932740947\n"
     ]
    },
    {
     "name": "stderr",
     "output_type": "stream",
     "text": [
      "100%|██████████| 65/65 [00:00<00:00, 104.43it/s]\n"
     ]
    },
    {
     "name": "stdout",
     "output_type": "stream",
     "text": [
      "2794.9301991087527\n"
     ]
    },
    {
     "name": "stderr",
     "output_type": "stream",
     "text": [
      "100%|██████████| 65/65 [00:00<00:00, 104.05it/s]\n"
     ]
    },
    {
     "name": "stdout",
     "output_type": "stream",
     "text": [
      "2792.7021225849658\n"
     ]
    },
    {
     "name": "stderr",
     "output_type": "stream",
     "text": [
      "100%|██████████| 65/65 [00:00<00:00, 104.36it/s]\n"
     ]
    },
    {
     "name": "stdout",
     "output_type": "stream",
     "text": [
      "2790.1498951226895\n"
     ]
    },
    {
     "name": "stderr",
     "output_type": "stream",
     "text": [
      "100%|██████████| 65/65 [00:00<00:00, 104.47it/s]\n"
     ]
    },
    {
     "name": "stdout",
     "output_type": "stream",
     "text": [
      "2788.210485334227\n"
     ]
    },
    {
     "name": "stderr",
     "output_type": "stream",
     "text": [
      "100%|██████████| 65/65 [00:00<00:00, 104.57it/s]\n"
     ]
    },
    {
     "name": "stdout",
     "output_type": "stream",
     "text": [
      "2787.728110478067\n"
     ]
    },
    {
     "name": "stderr",
     "output_type": "stream",
     "text": [
      "100%|██████████| 65/65 [00:00<00:00, 114.83it/s]\n"
     ]
    },
    {
     "name": "stdout",
     "output_type": "stream",
     "text": [
      "2789.417838487701\n"
     ]
    },
    {
     "name": "stderr",
     "output_type": "stream",
     "text": [
      "100%|██████████| 65/65 [00:00<00:00, 115.85it/s]\n"
     ]
    },
    {
     "name": "stdout",
     "output_type": "stream",
     "text": [
      "2792.853854829971\n"
     ]
    },
    {
     "name": "stderr",
     "output_type": "stream",
     "text": [
      "100%|██████████| 65/65 [00:00<00:00, 115.80it/s]\n"
     ]
    },
    {
     "name": "stdout",
     "output_type": "stream",
     "text": [
      "2795.9250380519547\n"
     ]
    },
    {
     "name": "stderr",
     "output_type": "stream",
     "text": [
      "100%|██████████| 65/65 [00:00<00:00, 115.71it/s]\n"
     ]
    },
    {
     "name": "stdout",
     "output_type": "stream",
     "text": [
      "2796.579365777474\n"
     ]
    },
    {
     "name": "stderr",
     "output_type": "stream",
     "text": [
      "100%|██████████| 65/65 [00:00<00:00, 115.69it/s]\n"
     ]
    },
    {
     "name": "stdout",
     "output_type": "stream",
     "text": [
      "2794.935413587075\n"
     ]
    },
    {
     "name": "stderr",
     "output_type": "stream",
     "text": [
      "100%|██████████| 65/65 [00:00<00:00, 115.62it/s]\n"
     ]
    },
    {
     "name": "stdout",
     "output_type": "stream",
     "text": [
      "2792.133773800581\n"
     ]
    },
    {
     "name": "stderr",
     "output_type": "stream",
     "text": [
      "100%|██████████| 65/65 [00:00<00:00, 115.68it/s]\n"
     ]
    },
    {
     "name": "stdout",
     "output_type": "stream",
     "text": [
      "2788.9998570788593\n"
     ]
    },
    {
     "name": "stderr",
     "output_type": "stream",
     "text": [
      "100%|██████████| 65/65 [00:00<00:00, 109.28it/s]\n"
     ]
    },
    {
     "name": "stdout",
     "output_type": "stream",
     "text": [
      "2785.644167343325\n"
     ]
    },
    {
     "name": "stderr",
     "output_type": "stream",
     "text": [
      "100%|██████████| 65/65 [00:00<00:00, 104.61it/s]\n"
     ]
    },
    {
     "name": "stdout",
     "output_type": "stream",
     "text": [
      "2782.503048363902\n"
     ]
    },
    {
     "name": "stderr",
     "output_type": "stream",
     "text": [
      "100%|██████████| 65/65 [00:00<00:00, 103.35it/s]\n"
     ]
    },
    {
     "name": "stdout",
     "output_type": "stream",
     "text": [
      "2779.598125360967\n"
     ]
    },
    {
     "name": "stderr",
     "output_type": "stream",
     "text": [
      "100%|██████████| 65/65 [00:00<00:00, 103.77it/s]\n"
     ]
    },
    {
     "name": "stdout",
     "output_type": "stream",
     "text": [
      "2777.1101373003257\n"
     ]
    },
    {
     "name": "stderr",
     "output_type": "stream",
     "text": [
      "100%|██████████| 65/65 [00:00<00:00, 103.74it/s]\n"
     ]
    },
    {
     "name": "stdout",
     "output_type": "stream",
     "text": [
      "2775.227717316456\n"
     ]
    },
    {
     "name": "stderr",
     "output_type": "stream",
     "text": [
      "100%|██████████| 65/65 [00:00<00:00, 103.62it/s]\n"
     ]
    },
    {
     "name": "stdout",
     "output_type": "stream",
     "text": [
      "2774.1753082081013\n"
     ]
    },
    {
     "name": "stderr",
     "output_type": "stream",
     "text": [
      "100%|██████████| 65/65 [00:00<00:00, 104.09it/s]\n"
     ]
    },
    {
     "name": "stdout",
     "output_type": "stream",
     "text": [
      "2774.036702055964\n"
     ]
    },
    {
     "name": "stderr",
     "output_type": "stream",
     "text": [
      "100%|██████████| 65/65 [00:00<00:00, 103.09it/s]\n"
     ]
    },
    {
     "name": "stdout",
     "output_type": "stream",
     "text": [
      "2775.1940654221285\n"
     ]
    },
    {
     "name": "stderr",
     "output_type": "stream",
     "text": [
      "100%|██████████| 65/65 [00:00<00:00, 103.55it/s]\n"
     ]
    },
    {
     "name": "stdout",
     "output_type": "stream",
     "text": [
      "2777.0973498593844\n"
     ]
    },
    {
     "name": "stderr",
     "output_type": "stream",
     "text": [
      "100%|██████████| 65/65 [00:00<00:00, 104.13it/s]\n"
     ]
    },
    {
     "name": "stdout",
     "output_type": "stream",
     "text": [
      "2779.6277823632718\n"
     ]
    },
    {
     "name": "stderr",
     "output_type": "stream",
     "text": [
      "100%|██████████| 65/65 [00:00<00:00, 103.37it/s]\n"
     ]
    },
    {
     "name": "stdout",
     "output_type": "stream",
     "text": [
      "2782.8395150817696\n"
     ]
    },
    {
     "name": "stderr",
     "output_type": "stream",
     "text": [
      "100%|██████████| 65/65 [00:00<00:00, 102.95it/s]\n"
     ]
    },
    {
     "name": "stdout",
     "output_type": "stream",
     "text": [
      "2785.5125751374744\n"
     ]
    },
    {
     "name": "stderr",
     "output_type": "stream",
     "text": [
      "100%|██████████| 65/65 [00:00<00:00, 103.16it/s]\n"
     ]
    },
    {
     "name": "stdout",
     "output_type": "stream",
     "text": [
      "2787.320646384062\n"
     ]
    },
    {
     "name": "stderr",
     "output_type": "stream",
     "text": [
      "100%|██████████| 65/65 [00:00<00:00, 104.99it/s]\n"
     ]
    },
    {
     "name": "stdout",
     "output_type": "stream",
     "text": [
      "2787.074508361105\n"
     ]
    },
    {
     "name": "stderr",
     "output_type": "stream",
     "text": [
      "100%|██████████| 65/65 [00:00<00:00, 104.29it/s]\n"
     ]
    },
    {
     "name": "stdout",
     "output_type": "stream",
     "text": [
      "2785.5480992724656\n"
     ]
    },
    {
     "name": "stderr",
     "output_type": "stream",
     "text": [
      "100%|██████████| 65/65 [00:00<00:00, 103.89it/s]\n"
     ]
    },
    {
     "name": "stdout",
     "output_type": "stream",
     "text": [
      "2783.400480229445\n"
     ]
    },
    {
     "name": "stderr",
     "output_type": "stream",
     "text": [
      "100%|██████████| 65/65 [00:00<00:00, 105.14it/s]\n"
     ]
    },
    {
     "name": "stdout",
     "output_type": "stream",
     "text": [
      "2781.144206461365\n"
     ]
    },
    {
     "name": "stderr",
     "output_type": "stream",
     "text": [
      "100%|██████████| 65/65 [00:00<00:00, 105.13it/s]\n"
     ]
    },
    {
     "name": "stdout",
     "output_type": "stream",
     "text": [
      "2779.376408609174\n"
     ]
    },
    {
     "name": "stderr",
     "output_type": "stream",
     "text": [
      "100%|██████████| 65/65 [00:00<00:00, 104.95it/s]\n"
     ]
    },
    {
     "name": "stdout",
     "output_type": "stream",
     "text": [
      "2778.714419061307\n"
     ]
    },
    {
     "name": "stderr",
     "output_type": "stream",
     "text": [
      "100%|██████████| 65/65 [00:00<00:00, 105.00it/s]\n"
     ]
    },
    {
     "name": "stdout",
     "output_type": "stream",
     "text": [
      "2779.7259710383105\n"
     ]
    },
    {
     "name": "stderr",
     "output_type": "stream",
     "text": [
      "100%|██████████| 65/65 [00:00<00:00, 105.09it/s]\n"
     ]
    },
    {
     "name": "stdout",
     "output_type": "stream",
     "text": [
      "2782.188438571118\n"
     ]
    },
    {
     "name": "stderr",
     "output_type": "stream",
     "text": [
      "100%|██████████| 65/65 [00:00<00:00, 105.11it/s]\n"
     ]
    },
    {
     "name": "stdout",
     "output_type": "stream",
     "text": [
      "2784.980758331828\n"
     ]
    },
    {
     "name": "stderr",
     "output_type": "stream",
     "text": [
      "100%|██████████| 65/65 [00:00<00:00, 104.79it/s]\n"
     ]
    },
    {
     "name": "stdout",
     "output_type": "stream",
     "text": [
      "2786.35296562323\n"
     ]
    },
    {
     "name": "stderr",
     "output_type": "stream",
     "text": [
      "100%|██████████| 65/65 [00:00<00:00, 104.92it/s]\n"
     ]
    },
    {
     "name": "stdout",
     "output_type": "stream",
     "text": [
      "2785.899091362251\n"
     ]
    },
    {
     "name": "stderr",
     "output_type": "stream",
     "text": [
      "100%|██████████| 65/65 [00:00<00:00, 104.89it/s]\n"
     ]
    },
    {
     "name": "stdout",
     "output_type": "stream",
     "text": [
      "2784.496376955259\n"
     ]
    },
    {
     "name": "stderr",
     "output_type": "stream",
     "text": [
      "100%|██████████| 65/65 [00:00<00:00, 105.02it/s]\n"
     ]
    },
    {
     "name": "stdout",
     "output_type": "stream",
     "text": [
      "2782.825823547549\n"
     ]
    },
    {
     "name": "stderr",
     "output_type": "stream",
     "text": [
      "100%|██████████| 65/65 [00:00<00:00, 104.84it/s]\n"
     ]
    },
    {
     "name": "stdout",
     "output_type": "stream",
     "text": [
      "2781.3874800171848\n"
     ]
    },
    {
     "name": "stderr",
     "output_type": "stream",
     "text": [
      "100%|██████████| 65/65 [00:00<00:00, 104.98it/s]\n"
     ]
    },
    {
     "name": "stdout",
     "output_type": "stream",
     "text": [
      "2780.460018788441\n"
     ]
    },
    {
     "name": "stderr",
     "output_type": "stream",
     "text": [
      "100%|██████████| 65/65 [00:00<00:00, 104.96it/s]\n"
     ]
    },
    {
     "name": "stdout",
     "output_type": "stream",
     "text": [
      "2780.3190842431222\n"
     ]
    },
    {
     "name": "stderr",
     "output_type": "stream",
     "text": [
      "100%|██████████| 65/65 [00:00<00:00, 104.86it/s]\n"
     ]
    },
    {
     "name": "stdout",
     "output_type": "stream",
     "text": [
      "2780.45070641514\n"
     ]
    },
    {
     "name": "stderr",
     "output_type": "stream",
     "text": [
      "100%|██████████| 65/65 [00:00<00:00, 104.84it/s]\n"
     ]
    },
    {
     "name": "stdout",
     "output_type": "stream",
     "text": [
      "2780.867684908147\n"
     ]
    },
    {
     "name": "stderr",
     "output_type": "stream",
     "text": [
      "100%|██████████| 65/65 [00:00<00:00, 104.76it/s]\n"
     ]
    },
    {
     "name": "stdout",
     "output_type": "stream",
     "text": [
      "2780.934857524088\n"
     ]
    },
    {
     "name": "stderr",
     "output_type": "stream",
     "text": [
      "100%|██████████| 65/65 [00:00<00:00, 104.30it/s]\n"
     ]
    },
    {
     "name": "stdout",
     "output_type": "stream",
     "text": [
      "2780.930128448384\n"
     ]
    },
    {
     "name": "stderr",
     "output_type": "stream",
     "text": [
      "100%|██████████| 65/65 [00:00<00:00, 104.43it/s]\n"
     ]
    },
    {
     "name": "stdout",
     "output_type": "stream",
     "text": [
      "2780.7764459926425\n"
     ]
    },
    {
     "name": "stderr",
     "output_type": "stream",
     "text": [
      "100%|██████████| 65/65 [00:00<00:00, 104.14it/s]\n"
     ]
    },
    {
     "name": "stdout",
     "output_type": "stream",
     "text": [
      "2780.730300254601\n"
     ]
    },
    {
     "name": "stderr",
     "output_type": "stream",
     "text": [
      "100%|██████████| 65/65 [00:00<00:00, 104.40it/s]\n"
     ]
    },
    {
     "name": "stdout",
     "output_type": "stream",
     "text": [
      "2781.075900638883\n"
     ]
    },
    {
     "name": "stderr",
     "output_type": "stream",
     "text": [
      "100%|██████████| 65/65 [00:00<00:00, 104.40it/s]\n"
     ]
    },
    {
     "name": "stdout",
     "output_type": "stream",
     "text": [
      "2781.297566335525\n"
     ]
    },
    {
     "name": "stderr",
     "output_type": "stream",
     "text": [
      "100%|██████████| 65/65 [00:00<00:00, 104.29it/s]\n"
     ]
    },
    {
     "name": "stdout",
     "output_type": "stream",
     "text": [
      "2781.1538185104105\n"
     ]
    },
    {
     "name": "stderr",
     "output_type": "stream",
     "text": [
      "100%|██████████| 65/65 [00:00<00:00, 104.24it/s]\n"
     ]
    },
    {
     "name": "stdout",
     "output_type": "stream",
     "text": [
      "2780.349024475345\n"
     ]
    },
    {
     "name": "stderr",
     "output_type": "stream",
     "text": [
      "100%|██████████| 65/65 [00:00<00:00, 104.84it/s]\n"
     ]
    },
    {
     "name": "stdout",
     "output_type": "stream",
     "text": [
      "2778.7801102084013\n"
     ]
    },
    {
     "name": "stderr",
     "output_type": "stream",
     "text": [
      "100%|██████████| 65/65 [00:00<00:00, 104.41it/s]\n"
     ]
    },
    {
     "name": "stdout",
     "output_type": "stream",
     "text": [
      "2776.9057544757156\n"
     ]
    },
    {
     "name": "stderr",
     "output_type": "stream",
     "text": [
      "100%|██████████| 65/65 [00:00<00:00, 104.99it/s]\n"
     ]
    },
    {
     "name": "stdout",
     "output_type": "stream",
     "text": [
      "2774.8725958619284\n"
     ]
    },
    {
     "name": "stderr",
     "output_type": "stream",
     "text": [
      "100%|██████████| 65/65 [00:00<00:00, 104.81it/s]\n"
     ]
    },
    {
     "name": "stdout",
     "output_type": "stream",
     "text": [
      "2773.042031223863\n"
     ]
    },
    {
     "name": "stderr",
     "output_type": "stream",
     "text": [
      "100%|██████████| 65/65 [00:00<00:00, 104.55it/s]\n"
     ]
    },
    {
     "name": "stdout",
     "output_type": "stream",
     "text": [
      "2771.923264473157\n"
     ]
    },
    {
     "name": "stderr",
     "output_type": "stream",
     "text": [
      "100%|██████████| 65/65 [00:00<00:00, 104.65it/s]\n"
     ]
    },
    {
     "name": "stdout",
     "output_type": "stream",
     "text": [
      "2771.9649603923035\n"
     ]
    },
    {
     "name": "stderr",
     "output_type": "stream",
     "text": [
      "100%|██████████| 65/65 [00:00<00:00, 103.95it/s]\n"
     ]
    },
    {
     "name": "stdout",
     "output_type": "stream",
     "text": [
      "2773.4325312711635\n"
     ]
    },
    {
     "name": "stderr",
     "output_type": "stream",
     "text": [
      "100%|██████████| 65/65 [00:00<00:00, 104.43it/s]\n"
     ]
    },
    {
     "name": "stdout",
     "output_type": "stream",
     "text": [
      "2775.8118551329853\n"
     ]
    },
    {
     "name": "stderr",
     "output_type": "stream",
     "text": [
      "100%|██████████| 65/65 [00:00<00:00, 104.08it/s]\n"
     ]
    },
    {
     "name": "stdout",
     "output_type": "stream",
     "text": [
      "2777.8983791166997\n"
     ]
    },
    {
     "name": "stderr",
     "output_type": "stream",
     "text": [
      "100%|██████████| 65/65 [00:00<00:00, 104.59it/s]\n"
     ]
    },
    {
     "name": "stdout",
     "output_type": "stream",
     "text": [
      "2778.9344682100736\n"
     ]
    },
    {
     "name": "stderr",
     "output_type": "stream",
     "text": [
      "100%|██████████| 65/65 [00:00<00:00, 104.23it/s]\n"
     ]
    },
    {
     "name": "stdout",
     "output_type": "stream",
     "text": [
      "2779.214177450712\n"
     ]
    },
    {
     "name": "stderr",
     "output_type": "stream",
     "text": [
      "100%|██████████| 65/65 [00:00<00:00, 104.24it/s]\n"
     ]
    },
    {
     "name": "stdout",
     "output_type": "stream",
     "text": [
      "2779.323718350041\n"
     ]
    },
    {
     "name": "stderr",
     "output_type": "stream",
     "text": [
      "100%|██████████| 65/65 [00:00<00:00, 104.32it/s]\n"
     ]
    },
    {
     "name": "stdout",
     "output_type": "stream",
     "text": [
      "2779.4050527164277\n"
     ]
    },
    {
     "name": "stderr",
     "output_type": "stream",
     "text": [
      "100%|██████████| 65/65 [00:00<00:00, 103.91it/s]\n"
     ]
    },
    {
     "name": "stdout",
     "output_type": "stream",
     "text": [
      "2779.3969947320124\n"
     ]
    },
    {
     "name": "stderr",
     "output_type": "stream",
     "text": [
      "100%|██████████| 65/65 [00:00<00:00, 103.70it/s]\n"
     ]
    },
    {
     "name": "stdout",
     "output_type": "stream",
     "text": [
      "2778.836237508978\n"
     ]
    },
    {
     "name": "stderr",
     "output_type": "stream",
     "text": [
      "100%|██████████| 65/65 [00:00<00:00, 103.67it/s]\n"
     ]
    },
    {
     "name": "stdout",
     "output_type": "stream",
     "text": [
      "2777.809258472537\n"
     ]
    },
    {
     "name": "stderr",
     "output_type": "stream",
     "text": [
      "100%|██████████| 65/65 [00:00<00:00, 104.72it/s]\n"
     ]
    },
    {
     "name": "stdout",
     "output_type": "stream",
     "text": [
      "2776.392553706401\n"
     ]
    },
    {
     "name": "stderr",
     "output_type": "stream",
     "text": [
      "100%|██████████| 65/65 [00:00<00:00, 104.80it/s]\n"
     ]
    },
    {
     "name": "stdout",
     "output_type": "stream",
     "text": [
      "2774.880835195688\n"
     ]
    },
    {
     "name": "stderr",
     "output_type": "stream",
     "text": [
      "100%|██████████| 65/65 [00:00<00:00, 104.62it/s]\n"
     ]
    },
    {
     "name": "stdout",
     "output_type": "stream",
     "text": [
      "2774.1239066867033\n"
     ]
    },
    {
     "name": "stderr",
     "output_type": "stream",
     "text": [
      "100%|██████████| 65/65 [00:00<00:00, 104.81it/s]\n"
     ]
    },
    {
     "name": "stdout",
     "output_type": "stream",
     "text": [
      "2774.569586999914\n"
     ]
    },
    {
     "name": "stderr",
     "output_type": "stream",
     "text": [
      "100%|██████████| 65/65 [00:00<00:00, 104.63it/s]\n"
     ]
    },
    {
     "name": "stdout",
     "output_type": "stream",
     "text": [
      "2775.8896353359687\n"
     ]
    },
    {
     "name": "stderr",
     "output_type": "stream",
     "text": [
      "100%|██████████| 65/65 [00:00<00:00, 105.11it/s]\n"
     ]
    },
    {
     "name": "stdout",
     "output_type": "stream",
     "text": [
      "2777.2657526954686\n"
     ]
    },
    {
     "name": "stderr",
     "output_type": "stream",
     "text": [
      "100%|██████████| 65/65 [00:00<00:00, 104.66it/s]\n"
     ]
    },
    {
     "name": "stdout",
     "output_type": "stream",
     "text": [
      "2778.1162069963348\n"
     ]
    },
    {
     "name": "stderr",
     "output_type": "stream",
     "text": [
      "100%|██████████| 65/65 [00:00<00:00, 104.74it/s]\n"
     ]
    },
    {
     "name": "stdout",
     "output_type": "stream",
     "text": [
      "2777.7904174892446\n"
     ]
    },
    {
     "name": "stderr",
     "output_type": "stream",
     "text": [
      "100%|██████████| 65/65 [00:00<00:00, 104.88it/s]\n"
     ]
    },
    {
     "name": "stdout",
     "output_type": "stream",
     "text": [
      "2776.639226991384\n"
     ]
    },
    {
     "name": "stderr",
     "output_type": "stream",
     "text": [
      "100%|██████████| 65/65 [00:00<00:00, 104.80it/s]\n"
     ]
    },
    {
     "name": "stdout",
     "output_type": "stream",
     "text": [
      "2774.860995013897\n"
     ]
    },
    {
     "name": "stderr",
     "output_type": "stream",
     "text": [
      "100%|██████████| 65/65 [00:00<00:00, 104.76it/s]\n"
     ]
    },
    {
     "name": "stdout",
     "output_type": "stream",
     "text": [
      "2772.966771067579\n"
     ]
    },
    {
     "name": "stderr",
     "output_type": "stream",
     "text": [
      "100%|██████████| 65/65 [00:00<00:00, 104.86it/s]\n"
     ]
    },
    {
     "name": "stdout",
     "output_type": "stream",
     "text": [
      "2771.147545111743\n"
     ]
    },
    {
     "name": "stderr",
     "output_type": "stream",
     "text": [
      "100%|██████████| 65/65 [00:00<00:00, 104.91it/s]\n"
     ]
    },
    {
     "name": "stdout",
     "output_type": "stream",
     "text": [
      "2769.8467077332293\n"
     ]
    },
    {
     "name": "stderr",
     "output_type": "stream",
     "text": [
      "100%|██████████| 65/65 [00:00<00:00, 104.76it/s]\n"
     ]
    },
    {
     "name": "stdout",
     "output_type": "stream",
     "text": [
      "2769.3017038369344\n"
     ]
    },
    {
     "name": "stderr",
     "output_type": "stream",
     "text": [
      "100%|██████████| 65/65 [00:00<00:00, 104.76it/s]\n"
     ]
    },
    {
     "name": "stdout",
     "output_type": "stream",
     "text": [
      "2769.9665545486464\n"
     ]
    },
    {
     "name": "stderr",
     "output_type": "stream",
     "text": [
      "100%|██████████| 65/65 [00:00<00:00, 104.61it/s]\n"
     ]
    },
    {
     "name": "stdout",
     "output_type": "stream",
     "text": [
      "2771.9975220784\n"
     ]
    },
    {
     "name": "stderr",
     "output_type": "stream",
     "text": [
      "100%|██████████| 65/65 [00:00<00:00, 104.94it/s]\n"
     ]
    },
    {
     "name": "stdout",
     "output_type": "stream",
     "text": [
      "2774.940540056074\n"
     ]
    },
    {
     "name": "stderr",
     "output_type": "stream",
     "text": [
      "100%|██████████| 65/65 [00:00<00:00, 104.67it/s]\n"
     ]
    },
    {
     "name": "stdout",
     "output_type": "stream",
     "text": [
      "2777.7322568201757\n"
     ]
    },
    {
     "name": "stderr",
     "output_type": "stream",
     "text": [
      "100%|██████████| 65/65 [00:00<00:00, 104.53it/s]\n"
     ]
    },
    {
     "name": "stdout",
     "output_type": "stream",
     "text": [
      "2779.622005425347\n"
     ]
    },
    {
     "name": "stderr",
     "output_type": "stream",
     "text": [
      "100%|██████████| 65/65 [00:00<00:00, 104.99it/s]\n"
     ]
    },
    {
     "name": "stdout",
     "output_type": "stream",
     "text": [
      "2780.436834650319\n"
     ]
    },
    {
     "name": "stderr",
     "output_type": "stream",
     "text": [
      "100%|██████████| 65/65 [00:00<00:00, 104.49it/s]\n"
     ]
    },
    {
     "name": "stdout",
     "output_type": "stream",
     "text": [
      "2780.2476997750364\n"
     ]
    },
    {
     "name": "stderr",
     "output_type": "stream",
     "text": [
      "100%|██████████| 65/65 [00:00<00:00, 104.76it/s]\n"
     ]
    },
    {
     "name": "stdout",
     "output_type": "stream",
     "text": [
      "2779.3240187342512\n"
     ]
    },
    {
     "name": "stderr",
     "output_type": "stream",
     "text": [
      "100%|██████████| 65/65 [00:00<00:00, 104.34it/s]\n"
     ]
    },
    {
     "name": "stdout",
     "output_type": "stream",
     "text": [
      "2777.864896990206\n"
     ]
    },
    {
     "name": "stderr",
     "output_type": "stream",
     "text": [
      "100%|██████████| 65/65 [00:00<00:00, 104.51it/s]\n"
     ]
    },
    {
     "name": "stdout",
     "output_type": "stream",
     "text": [
      "2776.217780578001\n"
     ]
    },
    {
     "name": "stderr",
     "output_type": "stream",
     "text": [
      "100%|██████████| 65/65 [00:00<00:00, 104.64it/s]\n"
     ]
    },
    {
     "name": "stdout",
     "output_type": "stream",
     "text": [
      "2774.6314753890315\n"
     ]
    },
    {
     "name": "stderr",
     "output_type": "stream",
     "text": [
      "100%|██████████| 65/65 [00:00<00:00, 104.25it/s]\n"
     ]
    },
    {
     "name": "stdout",
     "output_type": "stream",
     "text": [
      "2773.1450675377478\n"
     ]
    },
    {
     "name": "stderr",
     "output_type": "stream",
     "text": [
      "100%|██████████| 65/65 [00:00<00:00, 104.96it/s]\n"
     ]
    },
    {
     "name": "stdout",
     "output_type": "stream",
     "text": [
      "2772.5165706237813\n"
     ]
    },
    {
     "name": "stderr",
     "output_type": "stream",
     "text": [
      "100%|██████████| 65/65 [00:00<00:00, 103.64it/s]\n"
     ]
    },
    {
     "name": "stdout",
     "output_type": "stream",
     "text": [
      "2772.4374682745597\n"
     ]
    },
    {
     "name": "stderr",
     "output_type": "stream",
     "text": [
      "100%|██████████| 65/65 [00:00<00:00, 103.78it/s]\n"
     ]
    },
    {
     "name": "stdout",
     "output_type": "stream",
     "text": [
      "2772.977993691502\n"
     ]
    },
    {
     "name": "stderr",
     "output_type": "stream",
     "text": [
      "100%|██████████| 65/65 [00:00<00:00, 103.72it/s]\n"
     ]
    },
    {
     "name": "stdout",
     "output_type": "stream",
     "text": [
      "2773.8768299883627\n"
     ]
    },
    {
     "name": "stderr",
     "output_type": "stream",
     "text": [
      "100%|██████████| 65/65 [00:00<00:00, 103.17it/s]\n"
     ]
    },
    {
     "name": "stdout",
     "output_type": "stream",
     "text": [
      "2774.5883785219326\n"
     ]
    },
    {
     "name": "stderr",
     "output_type": "stream",
     "text": [
      "100%|██████████| 65/65 [00:00<00:00, 103.44it/s]\n"
     ]
    },
    {
     "name": "stdout",
     "output_type": "stream",
     "text": [
      "2774.6249856466775\n"
     ]
    },
    {
     "name": "stderr",
     "output_type": "stream",
     "text": [
      "100%|██████████| 65/65 [00:00<00:00, 103.13it/s]\n"
     ]
    },
    {
     "name": "stdout",
     "output_type": "stream",
     "text": [
      "2773.74711617432\n"
     ]
    },
    {
     "name": "stderr",
     "output_type": "stream",
     "text": [
      "100%|██████████| 65/65 [00:00<00:00, 103.34it/s]\n"
     ]
    },
    {
     "name": "stdout",
     "output_type": "stream",
     "text": [
      "2772.396793177678\n"
     ]
    },
    {
     "name": "stderr",
     "output_type": "stream",
     "text": [
      "100%|██████████| 65/65 [00:00<00:00, 103.92it/s]\n"
     ]
    },
    {
     "name": "stdout",
     "output_type": "stream",
     "text": [
      "2770.903594263529\n"
     ]
    },
    {
     "name": "stderr",
     "output_type": "stream",
     "text": [
      "100%|██████████| 65/65 [00:00<00:00, 104.60it/s]\n"
     ]
    },
    {
     "name": "stdout",
     "output_type": "stream",
     "text": [
      "2769.6774829202445\n"
     ]
    },
    {
     "name": "stderr",
     "output_type": "stream",
     "text": [
      "100%|██████████| 65/65 [00:00<00:00, 104.20it/s]\n"
     ]
    },
    {
     "name": "stdout",
     "output_type": "stream",
     "text": [
      "2768.8490642435304\n"
     ]
    },
    {
     "name": "stderr",
     "output_type": "stream",
     "text": [
      "100%|██████████| 65/65 [00:00<00:00, 104.50it/s]\n"
     ]
    },
    {
     "name": "stdout",
     "output_type": "stream",
     "text": [
      "2768.8448990310726\n"
     ]
    },
    {
     "name": "stderr",
     "output_type": "stream",
     "text": [
      "100%|██████████| 65/65 [00:00<00:00, 104.15it/s]\n"
     ]
    },
    {
     "name": "stdout",
     "output_type": "stream",
     "text": [
      "2769.8897290269024\n"
     ]
    },
    {
     "name": "stderr",
     "output_type": "stream",
     "text": [
      "100%|██████████| 65/65 [00:00<00:00, 104.42it/s]\n"
     ]
    },
    {
     "name": "stdout",
     "output_type": "stream",
     "text": [
      "2772.1207740540353\n"
     ]
    },
    {
     "name": "stderr",
     "output_type": "stream",
     "text": [
      "100%|██████████| 65/65 [00:00<00:00, 104.25it/s]\n"
     ]
    },
    {
     "name": "stdout",
     "output_type": "stream",
     "text": [
      "2774.9868217627454\n"
     ]
    },
    {
     "name": "stderr",
     "output_type": "stream",
     "text": [
      "100%|██████████| 65/65 [00:00<00:00, 104.24it/s]\n"
     ]
    },
    {
     "name": "stdout",
     "output_type": "stream",
     "text": [
      "2777.5498566506812\n"
     ]
    },
    {
     "name": "stderr",
     "output_type": "stream",
     "text": [
      "100%|██████████| 65/65 [00:00<00:00, 103.74it/s]\n"
     ]
    },
    {
     "name": "stdout",
     "output_type": "stream",
     "text": [
      "2778.8629917619696\n"
     ]
    },
    {
     "name": "stderr",
     "output_type": "stream",
     "text": [
      "100%|██████████| 65/65 [00:00<00:00, 104.46it/s]\n"
     ]
    },
    {
     "name": "stdout",
     "output_type": "stream",
     "text": [
      "2778.835528147536\n"
     ]
    },
    {
     "name": "stderr",
     "output_type": "stream",
     "text": [
      "100%|██████████| 65/65 [00:00<00:00, 104.37it/s]\n"
     ]
    },
    {
     "name": "stdout",
     "output_type": "stream",
     "text": [
      "2777.5081194228496\n"
     ]
    },
    {
     "name": "stderr",
     "output_type": "stream",
     "text": [
      "100%|██████████| 65/65 [00:00<00:00, 104.09it/s]\n"
     ]
    },
    {
     "name": "stdout",
     "output_type": "stream",
     "text": [
      "2775.5132827293014\n"
     ]
    },
    {
     "name": "stderr",
     "output_type": "stream",
     "text": [
      "100%|██████████| 65/65 [00:00<00:00, 104.30it/s]\n"
     ]
    },
    {
     "name": "stdout",
     "output_type": "stream",
     "text": [
      "2773.5175345226276\n"
     ]
    },
    {
     "name": "stderr",
     "output_type": "stream",
     "text": [
      "100%|██████████| 65/65 [00:00<00:00, 104.34it/s]\n"
     ]
    },
    {
     "name": "stdout",
     "output_type": "stream",
     "text": [
      "2771.4574172206535\n"
     ]
    },
    {
     "name": "stderr",
     "output_type": "stream",
     "text": [
      "100%|██████████| 65/65 [00:00<00:00, 104.36it/s]\n"
     ]
    },
    {
     "name": "stdout",
     "output_type": "stream",
     "text": [
      "2769.3748590980863\n"
     ]
    },
    {
     "name": "stderr",
     "output_type": "stream",
     "text": [
      "100%|██████████| 65/65 [00:00<00:00, 104.00it/s]\n"
     ]
    },
    {
     "name": "stdout",
     "output_type": "stream",
     "text": [
      "2767.304353097769\n"
     ]
    },
    {
     "name": "stderr",
     "output_type": "stream",
     "text": [
      "100%|██████████| 65/65 [00:00<00:00, 104.23it/s]\n"
     ]
    },
    {
     "name": "stdout",
     "output_type": "stream",
     "text": [
      "2765.273546164866\n"
     ]
    },
    {
     "name": "stderr",
     "output_type": "stream",
     "text": [
      "100%|██████████| 65/65 [00:00<00:00, 103.64it/s]\n"
     ]
    },
    {
     "name": "stdout",
     "output_type": "stream",
     "text": [
      "2763.304076274947\n"
     ]
    },
    {
     "name": "stderr",
     "output_type": "stream",
     "text": [
      "100%|██████████| 65/65 [00:00<00:00, 104.55it/s]\n"
     ]
    },
    {
     "name": "stdout",
     "output_type": "stream",
     "text": [
      "2761.362557917233\n"
     ]
    },
    {
     "name": "stderr",
     "output_type": "stream",
     "text": [
      "100%|██████████| 65/65 [00:00<00:00, 104.24it/s]\n"
     ]
    },
    {
     "name": "stdout",
     "output_type": "stream",
     "text": [
      "2759.770862195619\n"
     ]
    },
    {
     "name": "stderr",
     "output_type": "stream",
     "text": [
      "100%|██████████| 65/65 [00:00<00:00, 104.34it/s]\n"
     ]
    },
    {
     "name": "stdout",
     "output_type": "stream",
     "text": [
      "2758.4593121659886\n"
     ]
    },
    {
     "name": "stderr",
     "output_type": "stream",
     "text": [
      "100%|██████████| 65/65 [00:00<00:00, 104.31it/s]\n"
     ]
    },
    {
     "name": "stdout",
     "output_type": "stream",
     "text": [
      "2757.617561179949\n"
     ]
    },
    {
     "name": "stderr",
     "output_type": "stream",
     "text": [
      "100%|██████████| 65/65 [00:00<00:00, 104.35it/s]\n"
     ]
    },
    {
     "name": "stdout",
     "output_type": "stream",
     "text": [
      "2758.301041464347\n"
     ]
    },
    {
     "name": "stderr",
     "output_type": "stream",
     "text": [
      "100%|██████████| 65/65 [00:00<00:00, 104.26it/s]\n"
     ]
    },
    {
     "name": "stdout",
     "output_type": "stream",
     "text": [
      "2761.2055275159005\n"
     ]
    },
    {
     "name": "stderr",
     "output_type": "stream",
     "text": [
      "100%|██████████| 65/65 [00:00<00:00, 104.50it/s]\n"
     ]
    },
    {
     "name": "stdout",
     "output_type": "stream",
     "text": [
      "2766.3819125919867\n"
     ]
    },
    {
     "name": "stderr",
     "output_type": "stream",
     "text": [
      "100%|██████████| 65/65 [00:00<00:00, 104.16it/s]\n"
     ]
    },
    {
     "name": "stdout",
     "output_type": "stream",
     "text": [
      "2770.724181535852\n"
     ]
    },
    {
     "name": "stderr",
     "output_type": "stream",
     "text": [
      "100%|██████████| 65/65 [00:00<00:00, 104.10it/s]\n"
     ]
    },
    {
     "name": "stdout",
     "output_type": "stream",
     "text": [
      "2773.6910946383596\n"
     ]
    },
    {
     "name": "stderr",
     "output_type": "stream",
     "text": [
      "100%|██████████| 65/65 [00:00<00:00, 104.08it/s]\n"
     ]
    },
    {
     "name": "stdout",
     "output_type": "stream",
     "text": [
      "2775.440957455903\n"
     ]
    },
    {
     "name": "stderr",
     "output_type": "stream",
     "text": [
      "100%|██████████| 65/65 [00:00<00:00, 104.06it/s]\n"
     ]
    },
    {
     "name": "stdout",
     "output_type": "stream",
     "text": [
      "2777.050221353236\n"
     ]
    },
    {
     "name": "stderr",
     "output_type": "stream",
     "text": [
      "100%|██████████| 65/65 [00:00<00:00, 104.50it/s]\n"
     ]
    },
    {
     "name": "stdout",
     "output_type": "stream",
     "text": [
      "2779.0359296506354\n"
     ]
    },
    {
     "name": "stderr",
     "output_type": "stream",
     "text": [
      "100%|██████████| 65/65 [00:00<00:00, 104.09it/s]\n"
     ]
    },
    {
     "name": "stdout",
     "output_type": "stream",
     "text": [
      "2781.1160245888345\n"
     ]
    },
    {
     "name": "stderr",
     "output_type": "stream",
     "text": [
      "100%|██████████| 65/65 [00:00<00:00, 104.27it/s]\n"
     ]
    },
    {
     "name": "stdout",
     "output_type": "stream",
     "text": [
      "2782.3366331247184\n"
     ]
    },
    {
     "name": "stderr",
     "output_type": "stream",
     "text": [
      "100%|██████████| 65/65 [00:00<00:00, 103.78it/s]\n"
     ]
    },
    {
     "name": "stdout",
     "output_type": "stream",
     "text": [
      "2782.3672525938478\n"
     ]
    },
    {
     "name": "stderr",
     "output_type": "stream",
     "text": [
      "100%|██████████| 65/65 [00:00<00:00, 103.97it/s]\n"
     ]
    },
    {
     "name": "stdout",
     "output_type": "stream",
     "text": [
      "2781.435380781239\n"
     ]
    },
    {
     "name": "stderr",
     "output_type": "stream",
     "text": [
      "100%|██████████| 65/65 [00:00<00:00, 104.17it/s]\n"
     ]
    },
    {
     "name": "stdout",
     "output_type": "stream",
     "text": [
      "2779.956228061489\n"
     ]
    },
    {
     "name": "stderr",
     "output_type": "stream",
     "text": [
      "100%|██████████| 65/65 [00:00<00:00, 103.95it/s]\n"
     ]
    },
    {
     "name": "stdout",
     "output_type": "stream",
     "text": [
      "2778.2189904560614\n"
     ]
    },
    {
     "name": "stderr",
     "output_type": "stream",
     "text": [
      "100%|██████████| 65/65 [00:00<00:00, 104.24it/s]\n"
     ]
    },
    {
     "name": "stdout",
     "output_type": "stream",
     "text": [
      "2776.3791367191566\n"
     ]
    },
    {
     "name": "stderr",
     "output_type": "stream",
     "text": [
      "100%|██████████| 65/65 [00:00<00:00, 104.36it/s]\n"
     ]
    },
    {
     "name": "stdout",
     "output_type": "stream",
     "text": [
      "2774.5366793051435\n"
     ]
    },
    {
     "name": "stderr",
     "output_type": "stream",
     "text": [
      "100%|██████████| 65/65 [00:00<00:00, 104.69it/s]\n"
     ]
    },
    {
     "name": "stdout",
     "output_type": "stream",
     "text": [
      "2772.7396707076755\n"
     ]
    },
    {
     "name": "stderr",
     "output_type": "stream",
     "text": [
      "100%|██████████| 65/65 [00:00<00:00, 104.52it/s]\n"
     ]
    },
    {
     "name": "stdout",
     "output_type": "stream",
     "text": [
      "2770.9276244412936\n"
     ]
    },
    {
     "name": "stderr",
     "output_type": "stream",
     "text": [
      "100%|██████████| 65/65 [00:00<00:00, 104.40it/s]\n"
     ]
    },
    {
     "name": "stdout",
     "output_type": "stream",
     "text": [
      "2769.17789250501\n"
     ]
    },
    {
     "name": "stderr",
     "output_type": "stream",
     "text": [
      "100%|██████████| 65/65 [00:00<00:00, 104.26it/s]\n"
     ]
    },
    {
     "name": "stdout",
     "output_type": "stream",
     "text": [
      "2767.4732260979267\n"
     ]
    },
    {
     "name": "stderr",
     "output_type": "stream",
     "text": [
      "100%|██████████| 65/65 [00:00<00:00, 104.31it/s]\n"
     ]
    },
    {
     "name": "stdout",
     "output_type": "stream",
     "text": [
      "2765.8751028489664\n"
     ]
    },
    {
     "name": "stderr",
     "output_type": "stream",
     "text": [
      "100%|██████████| 65/65 [00:00<00:00, 104.51it/s]\n"
     ]
    },
    {
     "name": "stdout",
     "output_type": "stream",
     "text": [
      "2764.465666058211\n"
     ]
    },
    {
     "name": "stderr",
     "output_type": "stream",
     "text": [
      "100%|██████████| 65/65 [00:00<00:00, 104.19it/s]\n"
     ]
    },
    {
     "name": "stdout",
     "output_type": "stream",
     "text": [
      "2763.3033760200533\n"
     ]
    },
    {
     "name": "stderr",
     "output_type": "stream",
     "text": [
      "100%|██████████| 65/65 [00:00<00:00, 103.44it/s]\n"
     ]
    },
    {
     "name": "stdout",
     "output_type": "stream",
     "text": [
      "2762.3760156558624\n"
     ]
    },
    {
     "name": "stderr",
     "output_type": "stream",
     "text": [
      "100%|██████████| 65/65 [00:00<00:00, 86.43it/s]\n"
     ]
    },
    {
     "name": "stdout",
     "output_type": "stream",
     "text": [
      "2761.7564347871667\n"
     ]
    },
    {
     "name": "stderr",
     "output_type": "stream",
     "text": [
      "100%|██████████| 65/65 [00:00<00:00, 84.72it/s]\n"
     ]
    },
    {
     "name": "stdout",
     "output_type": "stream",
     "text": [
      "2761.344125597701\n"
     ]
    },
    {
     "name": "stderr",
     "output_type": "stream",
     "text": [
      "100%|██████████| 65/65 [00:00<00:00, 86.93it/s]\n"
     ]
    },
    {
     "name": "stdout",
     "output_type": "stream",
     "text": [
      "2761.1281255361087\n"
     ]
    },
    {
     "name": "stderr",
     "output_type": "stream",
     "text": [
      "100%|██████████| 65/65 [00:00<00:00, 85.14it/s]\n"
     ]
    },
    {
     "name": "stdout",
     "output_type": "stream",
     "text": [
      "2760.8538658567068\n"
     ]
    },
    {
     "name": "stderr",
     "output_type": "stream",
     "text": [
      "100%|██████████| 65/65 [00:00<00:00, 84.83it/s]\n"
     ]
    },
    {
     "name": "stdout",
     "output_type": "stream",
     "text": [
      "2760.527148682738\n"
     ]
    },
    {
     "name": "stderr",
     "output_type": "stream",
     "text": [
      "100%|██████████| 65/65 [00:00<00:00, 86.09it/s]\n"
     ]
    },
    {
     "name": "stdout",
     "output_type": "stream",
     "text": [
      "2760.3367763410756\n"
     ]
    },
    {
     "name": "stderr",
     "output_type": "stream",
     "text": [
      "100%|██████████| 65/65 [00:00<00:00, 85.39it/s]\n"
     ]
    },
    {
     "name": "stdout",
     "output_type": "stream",
     "text": [
      "2760.7046225421855\n"
     ]
    },
    {
     "name": "stderr",
     "output_type": "stream",
     "text": [
      "100%|██████████| 65/65 [00:00<00:00, 84.36it/s]\n"
     ]
    },
    {
     "name": "stdout",
     "output_type": "stream",
     "text": [
      "2761.7552497165107\n"
     ]
    },
    {
     "name": "stderr",
     "output_type": "stream",
     "text": [
      "100%|██████████| 65/65 [00:00<00:00, 85.37it/s]\n"
     ]
    },
    {
     "name": "stdout",
     "output_type": "stream",
     "text": [
      "2764.2569951095484\n"
     ]
    },
    {
     "name": "stderr",
     "output_type": "stream",
     "text": [
      "100%|██████████| 65/65 [00:00<00:00, 85.68it/s]\n"
     ]
    },
    {
     "name": "stdout",
     "output_type": "stream",
     "text": [
      "2768.3972149315596\n"
     ]
    },
    {
     "name": "stderr",
     "output_type": "stream",
     "text": [
      "100%|██████████| 65/65 [00:00<00:00, 87.25it/s]\n"
     ]
    },
    {
     "name": "stdout",
     "output_type": "stream",
     "text": [
      "2773.2815745122753\n"
     ]
    },
    {
     "name": "stderr",
     "output_type": "stream",
     "text": [
      "100%|██████████| 65/65 [00:00<00:00, 87.07it/s]\n"
     ]
    },
    {
     "name": "stdout",
     "output_type": "stream",
     "text": [
      "2777.922880986676\n"
     ]
    },
    {
     "name": "stderr",
     "output_type": "stream",
     "text": [
      "100%|██████████| 65/65 [00:00<00:00, 98.14it/s] \n"
     ]
    },
    {
     "name": "stdout",
     "output_type": "stream",
     "text": [
      "2779.625526764646\n"
     ]
    },
    {
     "name": "stderr",
     "output_type": "stream",
     "text": [
      "100%|██████████| 65/65 [00:00<00:00, 103.61it/s]\n"
     ]
    },
    {
     "name": "stdout",
     "output_type": "stream",
     "text": [
      "2779.2140220164765\n"
     ]
    },
    {
     "name": "stderr",
     "output_type": "stream",
     "text": [
      "100%|██████████| 65/65 [00:00<00:00, 104.25it/s]\n"
     ]
    },
    {
     "name": "stdout",
     "output_type": "stream",
     "text": [
      "2777.935511935376\n"
     ]
    },
    {
     "name": "stderr",
     "output_type": "stream",
     "text": [
      "100%|██████████| 65/65 [00:00<00:00, 103.87it/s]\n"
     ]
    },
    {
     "name": "stdout",
     "output_type": "stream",
     "text": [
      "2776.457984436937\n"
     ]
    },
    {
     "name": "stderr",
     "output_type": "stream",
     "text": [
      "100%|██████████| 65/65 [00:00<00:00, 103.41it/s]\n"
     ]
    },
    {
     "name": "stdout",
     "output_type": "stream",
     "text": [
      "2774.9061977381634\n"
     ]
    },
    {
     "name": "stderr",
     "output_type": "stream",
     "text": [
      "100%|██████████| 65/65 [00:00<00:00, 103.83it/s]\n"
     ]
    },
    {
     "name": "stdout",
     "output_type": "stream",
     "text": [
      "2773.468618542752\n"
     ]
    },
    {
     "name": "stderr",
     "output_type": "stream",
     "text": [
      "100%|██████████| 65/65 [00:00<00:00, 104.21it/s]\n"
     ]
    },
    {
     "name": "stdout",
     "output_type": "stream",
     "text": [
      "2772.135433043279\n"
     ]
    },
    {
     "name": "stderr",
     "output_type": "stream",
     "text": [
      "100%|██████████| 65/65 [00:00<00:00, 106.05it/s]\n"
     ]
    },
    {
     "name": "stdout",
     "output_type": "stream",
     "text": [
      "2770.922635822095\n"
     ]
    },
    {
     "name": "stderr",
     "output_type": "stream",
     "text": [
      "100%|██████████| 65/65 [00:00<00:00, 106.51it/s]\n"
     ]
    },
    {
     "name": "stdout",
     "output_type": "stream",
     "text": [
      "2769.911178900084\n"
     ]
    },
    {
     "name": "stderr",
     "output_type": "stream",
     "text": [
      "100%|██████████| 65/65 [00:00<00:00, 106.39it/s]\n"
     ]
    },
    {
     "name": "stdout",
     "output_type": "stream",
     "text": [
      "2769.15665425273\n"
     ]
    },
    {
     "name": "stderr",
     "output_type": "stream",
     "text": [
      "100%|██████████| 65/65 [00:00<00:00, 106.01it/s]\n"
     ]
    },
    {
     "name": "stdout",
     "output_type": "stream",
     "text": [
      "2768.6629114745\n"
     ]
    },
    {
     "name": "stderr",
     "output_type": "stream",
     "text": [
      "100%|██████████| 65/65 [00:00<00:00, 106.12it/s]\n"
     ]
    },
    {
     "name": "stdout",
     "output_type": "stream",
     "text": [
      "2768.340717818873\n"
     ]
    },
    {
     "name": "stderr",
     "output_type": "stream",
     "text": [
      "100%|██████████| 65/65 [00:00<00:00, 105.93it/s]\n"
     ]
    },
    {
     "name": "stdout",
     "output_type": "stream",
     "text": [
      "2767.9950957383903\n"
     ]
    },
    {
     "name": "stderr",
     "output_type": "stream",
     "text": [
      "100%|██████████| 65/65 [00:00<00:00, 106.06it/s]\n"
     ]
    },
    {
     "name": "stdout",
     "output_type": "stream",
     "text": [
      "2767.4746173173953\n"
     ]
    },
    {
     "name": "stderr",
     "output_type": "stream",
     "text": [
      "100%|██████████| 65/65 [00:00<00:00, 105.88it/s]\n"
     ]
    },
    {
     "name": "stdout",
     "output_type": "stream",
     "text": [
      "2766.7240295275155\n"
     ]
    },
    {
     "name": "stderr",
     "output_type": "stream",
     "text": [
      "100%|██████████| 65/65 [00:00<00:00, 105.89it/s]\n"
     ]
    },
    {
     "name": "stdout",
     "output_type": "stream",
     "text": [
      "2765.855330638895\n"
     ]
    },
    {
     "name": "stderr",
     "output_type": "stream",
     "text": [
      "100%|██████████| 65/65 [00:00<00:00, 106.24it/s]\n"
     ]
    },
    {
     "name": "stdout",
     "output_type": "stream",
     "text": [
      "2764.943386433174\n"
     ]
    },
    {
     "name": "stderr",
     "output_type": "stream",
     "text": [
      "100%|██████████| 65/65 [00:00<00:00, 106.19it/s]\n"
     ]
    },
    {
     "name": "stdout",
     "output_type": "stream",
     "text": [
      "2764.1195106692066\n"
     ]
    },
    {
     "name": "stderr",
     "output_type": "stream",
     "text": [
      "100%|██████████| 65/65 [00:00<00:00, 106.06it/s]\n"
     ]
    },
    {
     "name": "stdout",
     "output_type": "stream",
     "text": [
      "2762.6957735738774\n"
     ]
    },
    {
     "name": "stderr",
     "output_type": "stream",
     "text": [
      "100%|██████████| 65/65 [00:00<00:00, 106.29it/s]\n"
     ]
    },
    {
     "name": "stdout",
     "output_type": "stream",
     "text": [
      "2761.4247881722786\n"
     ]
    },
    {
     "name": "stderr",
     "output_type": "stream",
     "text": [
      "100%|██████████| 65/65 [00:00<00:00, 106.11it/s]\n"
     ]
    },
    {
     "name": "stdout",
     "output_type": "stream",
     "text": [
      "2760.467790012806\n"
     ]
    },
    {
     "name": "stderr",
     "output_type": "stream",
     "text": [
      "100%|██████████| 65/65 [00:00<00:00, 106.21it/s]\n"
     ]
    },
    {
     "name": "stdout",
     "output_type": "stream",
     "text": [
      "2760.0367891751803\n"
     ]
    },
    {
     "name": "stderr",
     "output_type": "stream",
     "text": [
      "100%|██████████| 65/65 [00:00<00:00, 106.08it/s]\n"
     ]
    },
    {
     "name": "stdout",
     "output_type": "stream",
     "text": [
      "2760.301807281253\n"
     ]
    },
    {
     "name": "stderr",
     "output_type": "stream",
     "text": [
      "100%|██████████| 65/65 [00:00<00:00, 106.44it/s]\n"
     ]
    },
    {
     "name": "stdout",
     "output_type": "stream",
     "text": [
      "2760.985832299653\n"
     ]
    },
    {
     "name": "stderr",
     "output_type": "stream",
     "text": [
      "100%|██████████| 65/65 [00:00<00:00, 106.35it/s]\n"
     ]
    },
    {
     "name": "stdout",
     "output_type": "stream",
     "text": [
      "2761.7476347343445\n"
     ]
    },
    {
     "name": "stderr",
     "output_type": "stream",
     "text": [
      "100%|██████████| 65/65 [00:00<00:00, 105.94it/s]\n"
     ]
    },
    {
     "name": "stdout",
     "output_type": "stream",
     "text": [
      "2762.2296748785325\n"
     ]
    },
    {
     "name": "stderr",
     "output_type": "stream",
     "text": [
      "100%|██████████| 65/65 [00:00<00:00, 106.24it/s]\n"
     ]
    },
    {
     "name": "stdout",
     "output_type": "stream",
     "text": [
      "2762.541924160387\n"
     ]
    },
    {
     "name": "stderr",
     "output_type": "stream",
     "text": [
      "100%|██████████| 65/65 [00:00<00:00, 105.64it/s]\n"
     ]
    },
    {
     "name": "stdout",
     "output_type": "stream",
     "text": [
      "2763.4761067641125\n"
     ]
    },
    {
     "name": "stderr",
     "output_type": "stream",
     "text": [
      "100%|██████████| 65/65 [00:00<00:00, 105.71it/s]\n"
     ]
    },
    {
     "name": "stdout",
     "output_type": "stream",
     "text": [
      "2765.5767158187045\n"
     ]
    },
    {
     "name": "stderr",
     "output_type": "stream",
     "text": [
      "100%|██████████| 65/65 [00:00<00:00, 106.59it/s]\n"
     ]
    },
    {
     "name": "stdout",
     "output_type": "stream",
     "text": [
      "2769.146363575776\n"
     ]
    },
    {
     "name": "stderr",
     "output_type": "stream",
     "text": [
      "100%|██████████| 65/65 [00:00<00:00, 105.81it/s]\n"
     ]
    },
    {
     "name": "stdout",
     "output_type": "stream",
     "text": [
      "2772.3218103115823\n"
     ]
    },
    {
     "name": "stderr",
     "output_type": "stream",
     "text": [
      "100%|██████████| 65/65 [00:00<00:00, 103.75it/s]\n"
     ]
    },
    {
     "name": "stdout",
     "output_type": "stream",
     "text": [
      "2774.139925659464\n"
     ]
    },
    {
     "name": "stderr",
     "output_type": "stream",
     "text": [
      "100%|██████████| 65/65 [00:00<00:00, 106.29it/s]\n"
     ]
    },
    {
     "name": "stdout",
     "output_type": "stream",
     "text": [
      "2775.1021826784636\n"
     ]
    },
    {
     "name": "stderr",
     "output_type": "stream",
     "text": [
      "100%|██████████| 65/65 [00:00<00:00, 106.03it/s]\n"
     ]
    },
    {
     "name": "stdout",
     "output_type": "stream",
     "text": [
      "2775.7537398287936\n"
     ]
    },
    {
     "name": "stderr",
     "output_type": "stream",
     "text": [
      "100%|██████████| 65/65 [00:00<00:00, 105.74it/s]\n"
     ]
    },
    {
     "name": "stdout",
     "output_type": "stream",
     "text": [
      "2775.980497399443\n"
     ]
    },
    {
     "name": "stderr",
     "output_type": "stream",
     "text": [
      "100%|██████████| 65/65 [00:00<00:00, 105.64it/s]\n"
     ]
    },
    {
     "name": "stdout",
     "output_type": "stream",
     "text": [
      "2775.6529494290417\n"
     ]
    },
    {
     "name": "stderr",
     "output_type": "stream",
     "text": [
      "100%|██████████| 65/65 [00:00<00:00, 106.06it/s]\n"
     ]
    },
    {
     "name": "stdout",
     "output_type": "stream",
     "text": [
      "2774.831852155613\n"
     ]
    },
    {
     "name": "stderr",
     "output_type": "stream",
     "text": [
      "100%|██████████| 65/65 [00:00<00:00, 106.05it/s]\n"
     ]
    },
    {
     "name": "stdout",
     "output_type": "stream",
     "text": [
      "2773.653548392271\n"
     ]
    },
    {
     "name": "stderr",
     "output_type": "stream",
     "text": [
      "100%|██████████| 65/65 [00:00<00:00, 106.05it/s]\n"
     ]
    },
    {
     "name": "stdout",
     "output_type": "stream",
     "text": [
      "2772.281924805579\n"
     ]
    },
    {
     "name": "stderr",
     "output_type": "stream",
     "text": [
      "100%|██████████| 65/65 [00:00<00:00, 105.73it/s]\n"
     ]
    },
    {
     "name": "stdout",
     "output_type": "stream",
     "text": [
      "2770.8342718764225\n"
     ]
    },
    {
     "name": "stderr",
     "output_type": "stream",
     "text": [
      "100%|██████████| 65/65 [00:00<00:00, 106.38it/s]\n"
     ]
    },
    {
     "name": "stdout",
     "output_type": "stream",
     "text": [
      "2769.3729017340356\n"
     ]
    },
    {
     "name": "stderr",
     "output_type": "stream",
     "text": [
      "100%|██████████| 65/65 [00:00<00:00, 105.91it/s]\n"
     ]
    },
    {
     "name": "stdout",
     "output_type": "stream",
     "text": [
      "2767.9512641043684\n"
     ]
    },
    {
     "name": "stderr",
     "output_type": "stream",
     "text": [
      "100%|██████████| 65/65 [00:00<00:00, 105.70it/s]\n"
     ]
    },
    {
     "name": "stdout",
     "output_type": "stream",
     "text": [
      "2766.6434201981233\n"
     ]
    },
    {
     "name": "stderr",
     "output_type": "stream",
     "text": [
      "100%|██████████| 65/65 [00:00<00:00, 105.90it/s]\n"
     ]
    },
    {
     "name": "stdout",
     "output_type": "stream",
     "text": [
      "2765.546426187053\n"
     ]
    },
    {
     "name": "stderr",
     "output_type": "stream",
     "text": [
      "100%|██████████| 65/65 [00:00<00:00, 106.40it/s]\n"
     ]
    },
    {
     "name": "stdout",
     "output_type": "stream",
     "text": [
      "2764.788593770806\n"
     ]
    },
    {
     "name": "stderr",
     "output_type": "stream",
     "text": [
      "100%|██████████| 65/65 [00:00<00:00, 106.52it/s]\n"
     ]
    },
    {
     "name": "stdout",
     "output_type": "stream",
     "text": [
      "2764.4998725659093\n"
     ]
    },
    {
     "name": "stderr",
     "output_type": "stream",
     "text": [
      "100%|██████████| 65/65 [00:00<00:00, 106.30it/s]\n"
     ]
    },
    {
     "name": "stdout",
     "output_type": "stream",
     "text": [
      "2764.742485961234\n"
     ]
    },
    {
     "name": "stderr",
     "output_type": "stream",
     "text": [
      "100%|██████████| 65/65 [00:00<00:00, 106.15it/s]\n"
     ]
    },
    {
     "name": "stdout",
     "output_type": "stream",
     "text": [
      "2765.299080686794\n"
     ]
    },
    {
     "name": "stderr",
     "output_type": "stream",
     "text": [
      "100%|██████████| 65/65 [00:00<00:00, 105.06it/s]\n"
     ]
    },
    {
     "name": "stdout",
     "output_type": "stream",
     "text": [
      "2765.6916634419467\n"
     ]
    },
    {
     "name": "stderr",
     "output_type": "stream",
     "text": [
      "100%|██████████| 65/65 [00:00<00:00, 106.35it/s]\n"
     ]
    },
    {
     "name": "stdout",
     "output_type": "stream",
     "text": [
      "2765.6192037243427\n"
     ]
    },
    {
     "name": "stderr",
     "output_type": "stream",
     "text": [
      "100%|██████████| 65/65 [00:00<00:00, 105.80it/s]\n"
     ]
    },
    {
     "name": "stdout",
     "output_type": "stream",
     "text": [
      "2765.0973218494505\n"
     ]
    },
    {
     "name": "stderr",
     "output_type": "stream",
     "text": [
      "100%|██████████| 65/65 [00:00<00:00, 106.33it/s]\n"
     ]
    },
    {
     "name": "stdout",
     "output_type": "stream",
     "text": [
      "2764.3647121501544\n"
     ]
    },
    {
     "name": "stderr",
     "output_type": "stream",
     "text": [
      "100%|██████████| 65/65 [00:00<00:00, 106.41it/s]\n"
     ]
    },
    {
     "name": "stdout",
     "output_type": "stream",
     "text": [
      "2763.6546429816553\n"
     ]
    },
    {
     "name": "stderr",
     "output_type": "stream",
     "text": [
      "100%|██████████| 65/65 [00:00<00:00, 106.58it/s]\n"
     ]
    },
    {
     "name": "stdout",
     "output_type": "stream",
     "text": [
      "2763.2518144034007\n"
     ]
    },
    {
     "name": "stderr",
     "output_type": "stream",
     "text": [
      "100%|██████████| 65/65 [00:00<00:00, 105.79it/s]\n"
     ]
    },
    {
     "name": "stdout",
     "output_type": "stream",
     "text": [
      "2763.374687123335\n"
     ]
    },
    {
     "name": "stderr",
     "output_type": "stream",
     "text": [
      "100%|██████████| 65/65 [00:00<00:00, 106.30it/s]\n"
     ]
    },
    {
     "name": "stdout",
     "output_type": "stream",
     "text": [
      "2764.1012100504877\n"
     ]
    },
    {
     "name": "stderr",
     "output_type": "stream",
     "text": [
      "100%|██████████| 65/65 [00:00<00:00, 106.68it/s]\n"
     ]
    },
    {
     "name": "stdout",
     "output_type": "stream",
     "text": [
      "2765.810797390261\n"
     ]
    },
    {
     "name": "stderr",
     "output_type": "stream",
     "text": [
      "100%|██████████| 65/65 [00:00<00:00, 106.20it/s]\n"
     ]
    },
    {
     "name": "stdout",
     "output_type": "stream",
     "text": [
      "2768.257298177259\n"
     ]
    },
    {
     "name": "stderr",
     "output_type": "stream",
     "text": [
      "100%|██████████| 65/65 [00:00<00:00, 105.98it/s]\n"
     ]
    },
    {
     "name": "stdout",
     "output_type": "stream",
     "text": [
      "2771.025444248087\n"
     ]
    },
    {
     "name": "stderr",
     "output_type": "stream",
     "text": [
      "100%|██████████| 65/65 [00:00<00:00, 105.96it/s]\n"
     ]
    },
    {
     "name": "stdout",
     "output_type": "stream",
     "text": [
      "2773.4488169671336\n"
     ]
    },
    {
     "name": "stderr",
     "output_type": "stream",
     "text": [
      "100%|██████████| 65/65 [00:00<00:00, 106.14it/s]\n"
     ]
    },
    {
     "name": "stdout",
     "output_type": "stream",
     "text": [
      "2774.5134522975272\n"
     ]
    },
    {
     "name": "stderr",
     "output_type": "stream",
     "text": [
      "100%|██████████| 65/65 [00:00<00:00, 106.52it/s]\n"
     ]
    },
    {
     "name": "stdout",
     "output_type": "stream",
     "text": [
      "2774.2952605210003\n"
     ]
    },
    {
     "name": "stderr",
     "output_type": "stream",
     "text": [
      "100%|██████████| 65/65 [00:00<00:00, 106.25it/s]\n"
     ]
    },
    {
     "name": "stdout",
     "output_type": "stream",
     "text": [
      "2773.333246623441\n"
     ]
    },
    {
     "name": "stderr",
     "output_type": "stream",
     "text": [
      "100%|██████████| 65/65 [00:00<00:00, 106.00it/s]\n"
     ]
    },
    {
     "name": "stdout",
     "output_type": "stream",
     "text": [
      "2772.1086499993567\n"
     ]
    },
    {
     "name": "stderr",
     "output_type": "stream",
     "text": [
      "100%|██████████| 65/65 [00:00<00:00, 106.02it/s]\n"
     ]
    },
    {
     "name": "stdout",
     "output_type": "stream",
     "text": [
      "2770.796334768377\n"
     ]
    },
    {
     "name": "stderr",
     "output_type": "stream",
     "text": [
      "100%|██████████| 65/65 [00:00<00:00, 105.73it/s]\n"
     ]
    },
    {
     "name": "stdout",
     "output_type": "stream",
     "text": [
      "2769.5501288574424\n"
     ]
    },
    {
     "name": "stderr",
     "output_type": "stream",
     "text": [
      "100%|██████████| 65/65 [00:00<00:00, 106.05it/s]\n"
     ]
    },
    {
     "name": "stdout",
     "output_type": "stream",
     "text": [
      "2768.4954073598237\n"
     ]
    },
    {
     "name": "stderr",
     "output_type": "stream",
     "text": [
      "100%|██████████| 65/65 [00:00<00:00, 104.89it/s]\n"
     ]
    },
    {
     "name": "stdout",
     "output_type": "stream",
     "text": [
      "2767.7238359782414\n"
     ]
    },
    {
     "name": "stderr",
     "output_type": "stream",
     "text": [
      "100%|██████████| 65/65 [00:00<00:00, 106.70it/s]\n"
     ]
    },
    {
     "name": "stdout",
     "output_type": "stream",
     "text": [
      "2767.3608852638336\n"
     ]
    },
    {
     "name": "stderr",
     "output_type": "stream",
     "text": [
      "100%|██████████| 65/65 [00:00<00:00, 106.33it/s]\n"
     ]
    },
    {
     "name": "stdout",
     "output_type": "stream",
     "text": [
      "2767.450568364376\n"
     ]
    },
    {
     "name": "stderr",
     "output_type": "stream",
     "text": [
      "100%|██████████| 65/65 [00:00<00:00, 106.63it/s]\n"
     ]
    },
    {
     "name": "stdout",
     "output_type": "stream",
     "text": [
      "2767.8888404501063\n"
     ]
    },
    {
     "name": "stderr",
     "output_type": "stream",
     "text": [
      "100%|██████████| 65/65 [00:00<00:00, 106.18it/s]\n"
     ]
    },
    {
     "name": "stdout",
     "output_type": "stream",
     "text": [
      "2768.3113169153416\n"
     ]
    },
    {
     "name": "stderr",
     "output_type": "stream",
     "text": [
      "100%|██████████| 65/65 [00:00<00:00, 106.36it/s]\n"
     ]
    },
    {
     "name": "stdout",
     "output_type": "stream",
     "text": [
      "2768.43770290298\n"
     ]
    },
    {
     "name": "stderr",
     "output_type": "stream",
     "text": [
      "100%|██████████| 65/65 [00:00<00:00, 106.09it/s]\n"
     ]
    },
    {
     "name": "stdout",
     "output_type": "stream",
     "text": [
      "2768.251948063979\n"
     ]
    },
    {
     "name": "stderr",
     "output_type": "stream",
     "text": [
      "100%|██████████| 65/65 [00:00<00:00, 106.29it/s]\n"
     ]
    },
    {
     "name": "stdout",
     "output_type": "stream",
     "text": [
      "2767.8316073873357\n"
     ]
    },
    {
     "name": "stderr",
     "output_type": "stream",
     "text": [
      "100%|██████████| 65/65 [00:00<00:00, 106.17it/s]\n"
     ]
    },
    {
     "name": "stdout",
     "output_type": "stream",
     "text": [
      "2767.4856138655405\n"
     ]
    },
    {
     "name": "stderr",
     "output_type": "stream",
     "text": [
      "100%|██████████| 65/65 [00:00<00:00, 106.20it/s]\n"
     ]
    },
    {
     "name": "stdout",
     "output_type": "stream",
     "text": [
      "2767.355028172576\n"
     ]
    },
    {
     "name": "stderr",
     "output_type": "stream",
     "text": [
      "100%|██████████| 65/65 [00:00<00:00, 106.64it/s]\n"
     ]
    },
    {
     "name": "stdout",
     "output_type": "stream",
     "text": [
      "2767.4013206094846\n"
     ]
    },
    {
     "name": "stderr",
     "output_type": "stream",
     "text": [
      "100%|██████████| 65/65 [00:00<00:00, 104.36it/s]\n"
     ]
    },
    {
     "name": "stdout",
     "output_type": "stream",
     "text": [
      "2767.5519152236748\n"
     ]
    },
    {
     "name": "stderr",
     "output_type": "stream",
     "text": [
      "100%|██████████| 65/65 [00:00<00:00, 104.12it/s]\n"
     ]
    },
    {
     "name": "stdout",
     "output_type": "stream",
     "text": [
      "2767.7074118167443\n"
     ]
    },
    {
     "name": "stderr",
     "output_type": "stream",
     "text": [
      "100%|██████████| 65/65 [00:00<00:00, 104.29it/s]\n"
     ]
    },
    {
     "name": "stdout",
     "output_type": "stream",
     "text": [
      "2767.565012886879\n"
     ]
    },
    {
     "name": "stderr",
     "output_type": "stream",
     "text": [
      "100%|██████████| 65/65 [00:00<00:00, 104.46it/s]\n"
     ]
    },
    {
     "name": "stdout",
     "output_type": "stream",
     "text": [
      "2767.6650617690607\n"
     ]
    },
    {
     "name": "stderr",
     "output_type": "stream",
     "text": [
      "100%|██████████| 65/65 [00:00<00:00, 104.46it/s]\n"
     ]
    },
    {
     "name": "stdout",
     "output_type": "stream",
     "text": [
      "2767.627577546811\n"
     ]
    },
    {
     "name": "stderr",
     "output_type": "stream",
     "text": [
      "100%|██████████| 65/65 [00:00<00:00, 104.64it/s]\n"
     ]
    },
    {
     "name": "stdout",
     "output_type": "stream",
     "text": [
      "2768.113776895782\n"
     ]
    },
    {
     "name": "stderr",
     "output_type": "stream",
     "text": [
      "100%|██████████| 65/65 [00:00<00:00, 104.30it/s]\n"
     ]
    },
    {
     "name": "stdout",
     "output_type": "stream",
     "text": [
      "2768.742858134046\n"
     ]
    },
    {
     "name": "stderr",
     "output_type": "stream",
     "text": [
      "100%|██████████| 65/65 [00:00<00:00, 104.42it/s]\n"
     ]
    },
    {
     "name": "stdout",
     "output_type": "stream",
     "text": [
      "2769.2120049256546\n"
     ]
    },
    {
     "name": "stderr",
     "output_type": "stream",
     "text": [
      "100%|██████████| 65/65 [00:00<00:00, 104.54it/s]\n"
     ]
    },
    {
     "name": "stdout",
     "output_type": "stream",
     "text": [
      "2769.14899809663\n"
     ]
    },
    {
     "name": "stderr",
     "output_type": "stream",
     "text": [
      "100%|██████████| 65/65 [00:00<00:00, 104.11it/s]\n"
     ]
    },
    {
     "name": "stdout",
     "output_type": "stream",
     "text": [
      "2768.654483284006\n"
     ]
    },
    {
     "name": "stderr",
     "output_type": "stream",
     "text": [
      "100%|██████████| 65/65 [00:00<00:00, 104.23it/s]\n"
     ]
    },
    {
     "name": "stdout",
     "output_type": "stream",
     "text": [
      "2767.889671303543\n"
     ]
    },
    {
     "name": "stderr",
     "output_type": "stream",
     "text": [
      "100%|██████████| 65/65 [00:00<00:00, 104.14it/s]\n"
     ]
    },
    {
     "name": "stdout",
     "output_type": "stream",
     "text": [
      "2767.169510083724\n"
     ]
    },
    {
     "name": "stderr",
     "output_type": "stream",
     "text": [
      "100%|██████████| 65/65 [00:00<00:00, 104.30it/s]\n"
     ]
    },
    {
     "name": "stdout",
     "output_type": "stream",
     "text": [
      "2766.6273105059354\n"
     ]
    },
    {
     "name": "stderr",
     "output_type": "stream",
     "text": [
      "100%|██████████| 65/65 [00:00<00:00, 104.26it/s]\n"
     ]
    },
    {
     "name": "stdout",
     "output_type": "stream",
     "text": [
      "2766.397649599937\n"
     ]
    },
    {
     "name": "stderr",
     "output_type": "stream",
     "text": [
      "100%|██████████| 65/65 [00:00<00:00, 104.12it/s]\n"
     ]
    },
    {
     "name": "stdout",
     "output_type": "stream",
     "text": [
      "2766.5407908335883\n"
     ]
    },
    {
     "name": "stderr",
     "output_type": "stream",
     "text": [
      "100%|██████████| 65/65 [00:00<00:00, 104.60it/s]\n"
     ]
    },
    {
     "name": "stdout",
     "output_type": "stream",
     "text": [
      "2766.9249195428247\n"
     ]
    },
    {
     "name": "stderr",
     "output_type": "stream",
     "text": [
      "100%|██████████| 65/65 [00:00<00:00, 104.58it/s]\n"
     ]
    },
    {
     "name": "stdout",
     "output_type": "stream",
     "text": [
      "2767.3274259401874\n"
     ]
    },
    {
     "name": "stderr",
     "output_type": "stream",
     "text": [
      "100%|██████████| 65/65 [00:00<00:00, 104.27it/s]\n"
     ]
    },
    {
     "name": "stdout",
     "output_type": "stream",
     "text": [
      "2767.543275193673\n"
     ]
    },
    {
     "name": "stderr",
     "output_type": "stream",
     "text": [
      "100%|██████████| 65/65 [00:00<00:00, 104.61it/s]\n"
     ]
    },
    {
     "name": "stdout",
     "output_type": "stream",
     "text": [
      "2767.4490147202296\n"
     ]
    },
    {
     "name": "stderr",
     "output_type": "stream",
     "text": [
      "100%|██████████| 65/65 [00:00<00:00, 104.42it/s]\n"
     ]
    },
    {
     "name": "stdout",
     "output_type": "stream",
     "text": [
      "2767.3033963930357\n"
     ]
    },
    {
     "name": "stderr",
     "output_type": "stream",
     "text": [
      "100%|██████████| 65/65 [00:00<00:00, 103.69it/s]\n"
     ]
    },
    {
     "name": "stdout",
     "output_type": "stream",
     "text": [
      "2767.3932024740843\n"
     ]
    },
    {
     "name": "stderr",
     "output_type": "stream",
     "text": [
      "100%|██████████| 65/65 [00:00<00:00, 104.01it/s]\n"
     ]
    },
    {
     "name": "stdout",
     "output_type": "stream",
     "text": [
      "2767.553133111282\n"
     ]
    },
    {
     "name": "stderr",
     "output_type": "stream",
     "text": [
      "100%|██████████| 65/65 [00:00<00:00, 103.66it/s]\n"
     ]
    },
    {
     "name": "stdout",
     "output_type": "stream",
     "text": [
      "2767.891281807471\n"
     ]
    },
    {
     "name": "stderr",
     "output_type": "stream",
     "text": [
      "100%|██████████| 65/65 [00:00<00:00, 104.01it/s]\n"
     ]
    },
    {
     "name": "stdout",
     "output_type": "stream",
     "text": [
      "2768.1879467350886\n"
     ]
    },
    {
     "name": "stderr",
     "output_type": "stream",
     "text": [
      "100%|██████████| 65/65 [00:00<00:00, 104.27it/s]\n"
     ]
    },
    {
     "name": "stdout",
     "output_type": "stream",
     "text": [
      "2768.353989315417\n"
     ]
    },
    {
     "name": "stderr",
     "output_type": "stream",
     "text": [
      "100%|██████████| 65/65 [00:00<00:00, 103.90it/s]\n"
     ]
    },
    {
     "name": "stdout",
     "output_type": "stream",
     "text": [
      "2768.5780648314353\n"
     ]
    },
    {
     "name": "stderr",
     "output_type": "stream",
     "text": [
      "100%|██████████| 65/65 [00:00<00:00, 104.45it/s]\n"
     ]
    },
    {
     "name": "stdout",
     "output_type": "stream",
     "text": [
      "2768.8439374766067\n"
     ]
    },
    {
     "name": "stderr",
     "output_type": "stream",
     "text": [
      "100%|██████████| 65/65 [00:00<00:00, 104.31it/s]\n"
     ]
    },
    {
     "name": "stdout",
     "output_type": "stream",
     "text": [
      "2769.0428763372884\n"
     ]
    },
    {
     "name": "stderr",
     "output_type": "stream",
     "text": [
      "100%|██████████| 65/65 [00:00<00:00, 103.21it/s]\n"
     ]
    },
    {
     "name": "stdout",
     "output_type": "stream",
     "text": [
      "2769.230594650515\n"
     ]
    },
    {
     "name": "stderr",
     "output_type": "stream",
     "text": [
      "100%|██████████| 65/65 [00:00<00:00, 103.98it/s]\n"
     ]
    },
    {
     "name": "stdout",
     "output_type": "stream",
     "text": [
      "2769.076870823521\n"
     ]
    },
    {
     "name": "stderr",
     "output_type": "stream",
     "text": [
      "100%|██████████| 65/65 [00:00<00:00, 104.49it/s]\n"
     ]
    },
    {
     "name": "stdout",
     "output_type": "stream",
     "text": [
      "2768.555547999957\n"
     ]
    },
    {
     "name": "stderr",
     "output_type": "stream",
     "text": [
      "100%|██████████| 65/65 [00:00<00:00, 104.45it/s]\n"
     ]
    },
    {
     "name": "stdout",
     "output_type": "stream",
     "text": [
      "2767.7964584994997\n"
     ]
    },
    {
     "name": "stderr",
     "output_type": "stream",
     "text": [
      "100%|██████████| 65/65 [00:00<00:00, 104.52it/s]\n"
     ]
    },
    {
     "name": "stdout",
     "output_type": "stream",
     "text": [
      "2766.8819060251903\n"
     ]
    },
    {
     "name": "stderr",
     "output_type": "stream",
     "text": [
      "100%|██████████| 65/65 [00:00<00:00, 104.58it/s]\n"
     ]
    },
    {
     "name": "stdout",
     "output_type": "stream",
     "text": [
      "2766.063829251803\n"
     ]
    },
    {
     "name": "stderr",
     "output_type": "stream",
     "text": [
      "100%|██████████| 65/65 [00:00<00:00, 104.34it/s]\n"
     ]
    },
    {
     "name": "stdout",
     "output_type": "stream",
     "text": [
      "2765.3551042297236\n"
     ]
    },
    {
     "name": "stderr",
     "output_type": "stream",
     "text": [
      "100%|██████████| 65/65 [00:00<00:00, 103.98it/s]\n"
     ]
    },
    {
     "name": "stdout",
     "output_type": "stream",
     "text": [
      "2764.9763208937698\n"
     ]
    },
    {
     "name": "stderr",
     "output_type": "stream",
     "text": [
      "100%|██████████| 65/65 [00:00<00:00, 104.17it/s]\n"
     ]
    },
    {
     "name": "stdout",
     "output_type": "stream",
     "text": [
      "2764.9822029373813\n"
     ]
    },
    {
     "name": "stderr",
     "output_type": "stream",
     "text": [
      "100%|██████████| 65/65 [00:00<00:00, 104.10it/s]\n"
     ]
    },
    {
     "name": "stdout",
     "output_type": "stream",
     "text": [
      "2765.2575331082267\n"
     ]
    },
    {
     "name": "stderr",
     "output_type": "stream",
     "text": [
      "100%|██████████| 65/65 [00:00<00:00, 104.27it/s]\n"
     ]
    },
    {
     "name": "stdout",
     "output_type": "stream",
     "text": [
      "2765.684057225748\n"
     ]
    },
    {
     "name": "stderr",
     "output_type": "stream",
     "text": [
      "100%|██████████| 65/65 [00:00<00:00, 103.77it/s]\n"
     ]
    },
    {
     "name": "stdout",
     "output_type": "stream",
     "text": [
      "2765.99665205916\n"
     ]
    },
    {
     "name": "stderr",
     "output_type": "stream",
     "text": [
      "100%|██████████| 65/65 [00:00<00:00, 103.81it/s]\n"
     ]
    },
    {
     "name": "stdout",
     "output_type": "stream",
     "text": [
      "2766.2092972024125\n"
     ]
    },
    {
     "name": "stderr",
     "output_type": "stream",
     "text": [
      "100%|██████████| 65/65 [00:00<00:00, 103.75it/s]\n"
     ]
    },
    {
     "name": "stdout",
     "output_type": "stream",
     "text": [
      "2766.333323616081\n"
     ]
    },
    {
     "name": "stderr",
     "output_type": "stream",
     "text": [
      "100%|██████████| 65/65 [00:00<00:00, 104.57it/s]\n"
     ]
    },
    {
     "name": "stdout",
     "output_type": "stream",
     "text": [
      "2766.4179690816763\n"
     ]
    },
    {
     "name": "stderr",
     "output_type": "stream",
     "text": [
      "100%|██████████| 65/65 [00:00<00:00, 103.86it/s]\n"
     ]
    },
    {
     "name": "stdout",
     "output_type": "stream",
     "text": [
      "2766.692382381006\n"
     ]
    },
    {
     "name": "stderr",
     "output_type": "stream",
     "text": [
      "100%|██████████| 65/65 [00:00<00:00, 103.95it/s]\n"
     ]
    },
    {
     "name": "stdout",
     "output_type": "stream",
     "text": [
      "2767.103803608785\n"
     ]
    },
    {
     "name": "stderr",
     "output_type": "stream",
     "text": [
      "100%|██████████| 65/65 [00:00<00:00, 104.23it/s]\n"
     ]
    },
    {
     "name": "stdout",
     "output_type": "stream",
     "text": [
      "2767.474618885181\n"
     ]
    },
    {
     "name": "stderr",
     "output_type": "stream",
     "text": [
      "100%|██████████| 65/65 [00:00<00:00, 104.19it/s]\n"
     ]
    },
    {
     "name": "stdout",
     "output_type": "stream",
     "text": [
      "2767.8660547745185\n"
     ]
    },
    {
     "name": "stderr",
     "output_type": "stream",
     "text": [
      "100%|██████████| 65/65 [00:00<00:00, 104.45it/s]\n"
     ]
    },
    {
     "name": "stdout",
     "output_type": "stream",
     "text": [
      "2768.2811764256185\n"
     ]
    },
    {
     "name": "stderr",
     "output_type": "stream",
     "text": [
      "100%|██████████| 65/65 [00:00<00:00, 104.30it/s]\n"
     ]
    },
    {
     "name": "stdout",
     "output_type": "stream",
     "text": [
      "2768.594602183346\n"
     ]
    },
    {
     "name": "stderr",
     "output_type": "stream",
     "text": [
      "100%|██████████| 65/65 [00:00<00:00, 104.67it/s]\n"
     ]
    },
    {
     "name": "stdout",
     "output_type": "stream",
     "text": [
      "2768.9356497662984\n"
     ]
    },
    {
     "name": "stderr",
     "output_type": "stream",
     "text": [
      "100%|██████████| 65/65 [00:00<00:00, 104.74it/s]\n"
     ]
    },
    {
     "name": "stdout",
     "output_type": "stream",
     "text": [
      "2769.1588829891293\n"
     ]
    },
    {
     "name": "stderr",
     "output_type": "stream",
     "text": [
      "100%|██████████| 65/65 [00:00<00:00, 104.97it/s]\n"
     ]
    },
    {
     "name": "stdout",
     "output_type": "stream",
     "text": [
      "2769.099355012851\n"
     ]
    },
    {
     "name": "stderr",
     "output_type": "stream",
     "text": [
      "100%|██████████| 65/65 [00:00<00:00, 104.57it/s]\n"
     ]
    },
    {
     "name": "stdout",
     "output_type": "stream",
     "text": [
      "2768.746459739867\n"
     ]
    },
    {
     "name": "stderr",
     "output_type": "stream",
     "text": [
      "100%|██████████| 65/65 [00:00<00:00, 104.65it/s]\n"
     ]
    },
    {
     "name": "stdout",
     "output_type": "stream",
     "text": [
      "2768.1489172079396\n"
     ]
    },
    {
     "name": "stderr",
     "output_type": "stream",
     "text": [
      "100%|██████████| 65/65 [00:00<00:00, 104.73it/s]\n"
     ]
    },
    {
     "name": "stdout",
     "output_type": "stream",
     "text": [
      "2767.401125275644\n"
     ]
    },
    {
     "name": "stderr",
     "output_type": "stream",
     "text": [
      "100%|██████████| 65/65 [00:00<00:00, 104.51it/s]\n"
     ]
    },
    {
     "name": "stdout",
     "output_type": "stream",
     "text": [
      "2766.7107809930785\n"
     ]
    },
    {
     "name": "stderr",
     "output_type": "stream",
     "text": [
      "100%|██████████| 65/65 [00:00<00:00, 104.12it/s]\n"
     ]
    },
    {
     "name": "stdout",
     "output_type": "stream",
     "text": [
      "2766.087169356218\n"
     ]
    },
    {
     "name": "stderr",
     "output_type": "stream",
     "text": [
      "100%|██████████| 65/65 [00:00<00:00, 103.71it/s]\n"
     ]
    },
    {
     "name": "stdout",
     "output_type": "stream",
     "text": [
      "2765.6290398847545\n"
     ]
    },
    {
     "name": "stderr",
     "output_type": "stream",
     "text": [
      "100%|██████████| 65/65 [00:00<00:00, 102.99it/s]\n"
     ]
    },
    {
     "name": "stdout",
     "output_type": "stream",
     "text": [
      "2765.3940369699276\n"
     ]
    },
    {
     "name": "stderr",
     "output_type": "stream",
     "text": [
      "100%|██████████| 65/65 [00:00<00:00, 103.60it/s]\n"
     ]
    },
    {
     "name": "stdout",
     "output_type": "stream",
     "text": [
      "2765.4679442627125\n"
     ]
    },
    {
     "name": "stderr",
     "output_type": "stream",
     "text": [
      "100%|██████████| 65/65 [00:00<00:00, 103.01it/s]\n"
     ]
    },
    {
     "name": "stdout",
     "output_type": "stream",
     "text": [
      "2765.7923470573514\n"
     ]
    },
    {
     "name": "stderr",
     "output_type": "stream",
     "text": [
      "100%|██████████| 65/65 [00:00<00:00, 103.10it/s]\n"
     ]
    },
    {
     "name": "stdout",
     "output_type": "stream",
     "text": [
      "2766.1196625795624\n"
     ]
    },
    {
     "name": "stderr",
     "output_type": "stream",
     "text": [
      "100%|██████████| 65/65 [00:00<00:00, 104.09it/s]\n"
     ]
    },
    {
     "name": "stdout",
     "output_type": "stream",
     "text": [
      "2766.401830609784\n"
     ]
    },
    {
     "name": "stderr",
     "output_type": "stream",
     "text": [
      "100%|██████████| 65/65 [00:00<00:00, 103.42it/s]\n"
     ]
    },
    {
     "name": "stdout",
     "output_type": "stream",
     "text": [
      "2766.584983147041\n"
     ]
    },
    {
     "name": "stderr",
     "output_type": "stream",
     "text": [
      "100%|██████████| 65/65 [00:00<00:00, 103.61it/s]\n"
     ]
    },
    {
     "name": "stdout",
     "output_type": "stream",
     "text": [
      "2766.860330893801\n"
     ]
    },
    {
     "name": "stderr",
     "output_type": "stream",
     "text": [
      "100%|██████████| 65/65 [00:00<00:00, 104.16it/s]\n"
     ]
    },
    {
     "name": "stdout",
     "output_type": "stream",
     "text": [
      "2767.2701377690732\n"
     ]
    },
    {
     "name": "stderr",
     "output_type": "stream",
     "text": [
      "100%|██████████| 65/65 [00:00<00:00, 104.29it/s]\n"
     ]
    },
    {
     "name": "stdout",
     "output_type": "stream",
     "text": [
      "2767.8140873273933\n"
     ]
    },
    {
     "name": "stderr",
     "output_type": "stream",
     "text": [
      "100%|██████████| 65/65 [00:00<00:00, 104.88it/s]\n"
     ]
    },
    {
     "name": "stdout",
     "output_type": "stream",
     "text": [
      "2768.332749768718\n"
     ]
    },
    {
     "name": "stderr",
     "output_type": "stream",
     "text": [
      "100%|██████████| 65/65 [00:00<00:00, 104.78it/s]\n"
     ]
    },
    {
     "name": "stdout",
     "output_type": "stream",
     "text": [
      "2768.57284833824\n"
     ]
    },
    {
     "name": "stderr",
     "output_type": "stream",
     "text": [
      "100%|██████████| 65/65 [00:00<00:00, 104.59it/s]\n"
     ]
    },
    {
     "name": "stdout",
     "output_type": "stream",
     "text": [
      "2768.5919507303333\n"
     ]
    },
    {
     "name": "stderr",
     "output_type": "stream",
     "text": [
      "100%|██████████| 65/65 [00:00<00:00, 104.24it/s]\n"
     ]
    },
    {
     "name": "stdout",
     "output_type": "stream",
     "text": [
      "2768.3580556953207\n"
     ]
    },
    {
     "name": "stderr",
     "output_type": "stream",
     "text": [
      "100%|██████████| 65/65 [00:00<00:00, 104.86it/s]\n"
     ]
    },
    {
     "name": "stdout",
     "output_type": "stream",
     "text": [
      "2768.0132795250024\n"
     ]
    },
    {
     "name": "stderr",
     "output_type": "stream",
     "text": [
      "100%|██████████| 65/65 [00:00<00:00, 104.72it/s]\n"
     ]
    },
    {
     "name": "stdout",
     "output_type": "stream",
     "text": [
      "2767.572790176002\n"
     ]
    },
    {
     "name": "stderr",
     "output_type": "stream",
     "text": [
      "100%|██████████| 65/65 [00:00<00:00, 105.26it/s]\n"
     ]
    },
    {
     "name": "stdout",
     "output_type": "stream",
     "text": [
      "2767.0267214751934\n"
     ]
    },
    {
     "name": "stderr",
     "output_type": "stream",
     "text": [
      "100%|██████████| 65/65 [00:00<00:00, 105.38it/s]\n"
     ]
    },
    {
     "name": "stdout",
     "output_type": "stream",
     "text": [
      "2766.316135001146\n"
     ]
    },
    {
     "name": "stderr",
     "output_type": "stream",
     "text": [
      "100%|██████████| 65/65 [00:00<00:00, 105.31it/s]\n"
     ]
    },
    {
     "name": "stdout",
     "output_type": "stream",
     "text": [
      "2765.5908973834075\n"
     ]
    },
    {
     "name": "stderr",
     "output_type": "stream",
     "text": [
      "100%|██████████| 65/65 [00:00<00:00, 104.73it/s]\n"
     ]
    },
    {
     "name": "stdout",
     "output_type": "stream",
     "text": [
      "2764.950389323248\n"
     ]
    },
    {
     "name": "stderr",
     "output_type": "stream",
     "text": [
      "100%|██████████| 65/65 [00:00<00:00, 104.83it/s]\n"
     ]
    },
    {
     "name": "stdout",
     "output_type": "stream",
     "text": [
      "2764.3730396566775\n"
     ]
    },
    {
     "name": "stderr",
     "output_type": "stream",
     "text": [
      "100%|██████████| 65/65 [00:00<00:00, 105.04it/s]\n"
     ]
    },
    {
     "name": "stdout",
     "output_type": "stream",
     "text": [
      "2763.969222885738\n"
     ]
    },
    {
     "name": "stderr",
     "output_type": "stream",
     "text": [
      "100%|██████████| 65/65 [00:00<00:00, 104.60it/s]\n"
     ]
    },
    {
     "name": "stdout",
     "output_type": "stream",
     "text": [
      "2763.6841112391667\n"
     ]
    },
    {
     "name": "stderr",
     "output_type": "stream",
     "text": [
      "100%|██████████| 65/65 [00:00<00:00, 104.29it/s]\n"
     ]
    },
    {
     "name": "stdout",
     "output_type": "stream",
     "text": [
      "2763.799314647418\n"
     ]
    },
    {
     "name": "stderr",
     "output_type": "stream",
     "text": [
      "100%|██████████| 65/65 [00:00<00:00, 104.24it/s]\n"
     ]
    },
    {
     "name": "stdout",
     "output_type": "stream",
     "text": [
      "2764.26157735428\n"
     ]
    },
    {
     "name": "stderr",
     "output_type": "stream",
     "text": [
      "100%|██████████| 65/65 [00:00<00:00, 104.38it/s]\n"
     ]
    },
    {
     "name": "stdout",
     "output_type": "stream",
     "text": [
      "2764.935591848919\n"
     ]
    },
    {
     "name": "stderr",
     "output_type": "stream",
     "text": [
      "100%|██████████| 65/65 [00:00<00:00, 104.31it/s]\n"
     ]
    },
    {
     "name": "stdout",
     "output_type": "stream",
     "text": [
      "2765.77782906931\n"
     ]
    },
    {
     "name": "stderr",
     "output_type": "stream",
     "text": [
      "100%|██████████| 65/65 [00:00<00:00, 104.80it/s]\n"
     ]
    },
    {
     "name": "stdout",
     "output_type": "stream",
     "text": [
      "2766.577922650074\n"
     ]
    },
    {
     "name": "stderr",
     "output_type": "stream",
     "text": [
      "100%|██████████| 65/65 [00:00<00:00, 103.73it/s]\n"
     ]
    },
    {
     "name": "stdout",
     "output_type": "stream",
     "text": [
      "2767.2292063547616\n"
     ]
    },
    {
     "name": "stderr",
     "output_type": "stream",
     "text": [
      "100%|██████████| 65/65 [00:00<00:00, 103.35it/s]\n"
     ]
    },
    {
     "name": "stdout",
     "output_type": "stream",
     "text": [
      "2767.8794252303414\n"
     ]
    },
    {
     "name": "stderr",
     "output_type": "stream",
     "text": [
      "100%|██████████| 65/65 [00:00<00:00, 104.10it/s]\n"
     ]
    },
    {
     "name": "stdout",
     "output_type": "stream",
     "text": [
      "2768.339442970013\n"
     ]
    },
    {
     "name": "stderr",
     "output_type": "stream",
     "text": [
      "100%|██████████| 65/65 [00:00<00:00, 104.28it/s]\n"
     ]
    },
    {
     "name": "stdout",
     "output_type": "stream",
     "text": [
      "2768.675672471115\n"
     ]
    },
    {
     "name": "stderr",
     "output_type": "stream",
     "text": [
      "100%|██████████| 65/65 [00:00<00:00, 104.15it/s]\n"
     ]
    },
    {
     "name": "stdout",
     "output_type": "stream",
     "text": [
      "2768.8708177679246\n"
     ]
    },
    {
     "name": "stderr",
     "output_type": "stream",
     "text": [
      "100%|██████████| 65/65 [00:00<00:00, 105.26it/s]\n"
     ]
    },
    {
     "name": "stdout",
     "output_type": "stream",
     "text": [
      "2768.8679153414737\n"
     ]
    },
    {
     "name": "stderr",
     "output_type": "stream",
     "text": [
      "100%|██████████| 65/65 [00:00<00:00, 105.00it/s]\n"
     ]
    },
    {
     "name": "stdout",
     "output_type": "stream",
     "text": [
      "2768.573793767143\n"
     ]
    },
    {
     "name": "stderr",
     "output_type": "stream",
     "text": [
      "100%|██████████| 65/65 [00:00<00:00, 105.02it/s]\n"
     ]
    },
    {
     "name": "stdout",
     "output_type": "stream",
     "text": [
      "2768.124454505674\n"
     ]
    },
    {
     "name": "stderr",
     "output_type": "stream",
     "text": [
      "100%|██████████| 65/65 [00:00<00:00, 104.98it/s]\n"
     ]
    },
    {
     "name": "stdout",
     "output_type": "stream",
     "text": [
      "2767.5335297040424\n"
     ]
    },
    {
     "name": "stderr",
     "output_type": "stream",
     "text": [
      "100%|██████████| 65/65 [00:00<00:00, 104.23it/s]\n"
     ]
    },
    {
     "name": "stdout",
     "output_type": "stream",
     "text": [
      "2766.757082933011\n"
     ]
    },
    {
     "name": "stderr",
     "output_type": "stream",
     "text": [
      "100%|██████████| 65/65 [00:00<00:00, 104.20it/s]\n"
     ]
    },
    {
     "name": "stdout",
     "output_type": "stream",
     "text": [
      "2765.9894780364157\n"
     ]
    },
    {
     "name": "stderr",
     "output_type": "stream",
     "text": [
      "100%|██████████| 65/65 [00:00<00:00, 104.56it/s]\n"
     ]
    },
    {
     "name": "stdout",
     "output_type": "stream",
     "text": [
      "2765.2331513329627\n"
     ]
    },
    {
     "name": "stderr",
     "output_type": "stream",
     "text": [
      "100%|██████████| 65/65 [00:00<00:00, 104.48it/s]\n"
     ]
    },
    {
     "name": "stdout",
     "output_type": "stream",
     "text": [
      "2764.4765897964435\n"
     ]
    },
    {
     "name": "stderr",
     "output_type": "stream",
     "text": [
      "100%|██████████| 65/65 [00:00<00:00, 103.47it/s]\n"
     ]
    },
    {
     "name": "stdout",
     "output_type": "stream",
     "text": [
      "2763.7079075428583\n"
     ]
    },
    {
     "name": "stderr",
     "output_type": "stream",
     "text": [
      "100%|██████████| 65/65 [00:00<00:00, 104.49it/s]\n"
     ]
    },
    {
     "name": "stdout",
     "output_type": "stream",
     "text": [
      "2763.0225564632406\n"
     ]
    },
    {
     "name": "stderr",
     "output_type": "stream",
     "text": [
      "100%|██████████| 65/65 [00:00<00:00, 103.62it/s]\n"
     ]
    },
    {
     "name": "stdout",
     "output_type": "stream",
     "text": [
      "2762.488596668191\n"
     ]
    },
    {
     "name": "stderr",
     "output_type": "stream",
     "text": [
      "100%|██████████| 65/65 [00:00<00:00, 103.68it/s]\n"
     ]
    },
    {
     "name": "stdout",
     "output_type": "stream",
     "text": [
      "2762.087690004583\n"
     ]
    },
    {
     "name": "stderr",
     "output_type": "stream",
     "text": [
      "100%|██████████| 65/65 [00:00<00:00, 103.93it/s]\n"
     ]
    },
    {
     "name": "stdout",
     "output_type": "stream",
     "text": [
      "2762.0111170748983\n"
     ]
    },
    {
     "name": "stderr",
     "output_type": "stream",
     "text": [
      "100%|██████████| 65/65 [00:00<00:00, 104.67it/s]\n"
     ]
    },
    {
     "name": "stdout",
     "output_type": "stream",
     "text": [
      "2762.3552264932487\n"
     ]
    },
    {
     "name": "stderr",
     "output_type": "stream",
     "text": [
      "100%|██████████| 65/65 [00:00<00:00, 104.94it/s]\n"
     ]
    },
    {
     "name": "stdout",
     "output_type": "stream",
     "text": [
      "2762.838605818816\n"
     ]
    },
    {
     "name": "stderr",
     "output_type": "stream",
     "text": [
      "100%|██████████| 65/65 [00:00<00:00, 104.85it/s]\n"
     ]
    },
    {
     "name": "stdout",
     "output_type": "stream",
     "text": [
      "2763.4333858603227\n"
     ]
    },
    {
     "name": "stderr",
     "output_type": "stream",
     "text": [
      "100%|██████████| 65/65 [00:00<00:00, 104.37it/s]\n"
     ]
    },
    {
     "name": "stdout",
     "output_type": "stream",
     "text": [
      "2764.230380441004\n"
     ]
    },
    {
     "name": "stderr",
     "output_type": "stream",
     "text": [
      "100%|██████████| 65/65 [00:00<00:00, 104.31it/s]\n"
     ]
    },
    {
     "name": "stdout",
     "output_type": "stream",
     "text": [
      "2765.0874773708183\n"
     ]
    },
    {
     "name": "stderr",
     "output_type": "stream",
     "text": [
      "100%|██████████| 65/65 [00:00<00:00, 103.97it/s]\n"
     ]
    },
    {
     "name": "stdout",
     "output_type": "stream",
     "text": [
      "2765.956608338806\n"
     ]
    },
    {
     "name": "stderr",
     "output_type": "stream",
     "text": [
      "100%|██████████| 65/65 [00:00<00:00, 104.34it/s]\n"
     ]
    },
    {
     "name": "stdout",
     "output_type": "stream",
     "text": [
      "2766.837948259654\n"
     ]
    },
    {
     "name": "stderr",
     "output_type": "stream",
     "text": [
      "100%|██████████| 65/65 [00:00<00:00, 103.30it/s]\n"
     ]
    },
    {
     "name": "stdout",
     "output_type": "stream",
     "text": [
      "2767.5006181026706\n"
     ]
    },
    {
     "name": "stderr",
     "output_type": "stream",
     "text": [
      "100%|██████████| 65/65 [00:00<00:00, 105.09it/s]\n"
     ]
    },
    {
     "name": "stdout",
     "output_type": "stream",
     "text": [
      "2767.8871893268215\n"
     ]
    },
    {
     "name": "stderr",
     "output_type": "stream",
     "text": [
      "100%|██████████| 65/65 [00:00<00:00, 104.99it/s]\n"
     ]
    },
    {
     "name": "stdout",
     "output_type": "stream",
     "text": [
      "2767.909554088305\n"
     ]
    },
    {
     "name": "stderr",
     "output_type": "stream",
     "text": [
      "100%|██████████| 65/65 [00:00<00:00, 105.38it/s]\n"
     ]
    },
    {
     "name": "stdout",
     "output_type": "stream",
     "text": [
      "2767.4974107545286\n"
     ]
    },
    {
     "name": "stderr",
     "output_type": "stream",
     "text": [
      "100%|██████████| 65/65 [00:00<00:00, 105.37it/s]\n"
     ]
    },
    {
     "name": "stdout",
     "output_type": "stream",
     "text": [
      "2767.0378628508006\n"
     ]
    },
    {
     "name": "stderr",
     "output_type": "stream",
     "text": [
      "100%|██████████| 65/65 [00:00<00:00, 105.24it/s]\n"
     ]
    },
    {
     "name": "stdout",
     "output_type": "stream",
     "text": [
      "2766.39802112305\n"
     ]
    },
    {
     "name": "stderr",
     "output_type": "stream",
     "text": [
      "100%|██████████| 65/65 [00:00<00:00, 105.61it/s]\n"
     ]
    },
    {
     "name": "stdout",
     "output_type": "stream",
     "text": [
      "2765.6617354425293\n"
     ]
    },
    {
     "name": "stderr",
     "output_type": "stream",
     "text": [
      "100%|██████████| 65/65 [00:00<00:00, 105.37it/s]\n"
     ]
    },
    {
     "name": "stdout",
     "output_type": "stream",
     "text": [
      "2764.9335006614074\n"
     ]
    },
    {
     "name": "stderr",
     "output_type": "stream",
     "text": [
      "100%|██████████| 65/65 [00:00<00:00, 104.69it/s]\n"
     ]
    },
    {
     "name": "stdout",
     "output_type": "stream",
     "text": [
      "2764.1076674459437\n"
     ]
    },
    {
     "name": "stderr",
     "output_type": "stream",
     "text": [
      "100%|██████████| 65/65 [00:00<00:00, 103.36it/s]\n"
     ]
    },
    {
     "name": "stdout",
     "output_type": "stream",
     "text": [
      "2763.397134350192\n"
     ]
    },
    {
     "name": "stderr",
     "output_type": "stream",
     "text": [
      "100%|██████████| 65/65 [00:00<00:00, 105.05it/s]\n"
     ]
    },
    {
     "name": "stdout",
     "output_type": "stream",
     "text": [
      "2762.800523413543\n"
     ]
    },
    {
     "name": "stderr",
     "output_type": "stream",
     "text": [
      "100%|██████████| 65/65 [00:00<00:00, 105.10it/s]\n"
     ]
    },
    {
     "name": "stdout",
     "output_type": "stream",
     "text": [
      "2762.3562306146914\n"
     ]
    },
    {
     "name": "stderr",
     "output_type": "stream",
     "text": [
      "100%|██████████| 65/65 [00:00<00:00, 105.07it/s]\n"
     ]
    },
    {
     "name": "stdout",
     "output_type": "stream",
     "text": [
      "2762.039049764192\n"
     ]
    },
    {
     "name": "stderr",
     "output_type": "stream",
     "text": [
      "100%|██████████| 65/65 [00:00<00:00, 105.01it/s]\n"
     ]
    },
    {
     "name": "stdout",
     "output_type": "stream",
     "text": [
      "2761.878472697566\n"
     ]
    }
   ],
   "source": [
    "import torch.optim as optim\n",
    "\n",
    "dhformer = dhformer.train()\n",
    "mseloss = nn.MSELoss()\n",
    "lr = 0.005\n",
    "weight_decay = 0.01\n",
    "optimizer = optim.AdamW(filter(lambda p: p.requires_grad, dhformer.parameters()), lr=lr, weight_decay=weight_decay)\n",
    "\n",
    "losses = {}\n",
    "losses['loss'] = AverageMeter()\n",
    "\n",
    "num_epoch = 500\n",
    "idxs = [x for x in range(len(batch_input_list))]\n",
    "for epoch in range(num_epoch):\n",
    "    random.shuffle(idxs)\n",
    "    optimizer.zero_grad()\n",
    "    for idx in tqdm(idxs):\n",
    "        batch_input = batch_input_list[idx]\n",
    "        pred = dhformer(batch_input[:, :243, :].cuda())\n",
    "        loss = mseloss(pred, batch_gt_list[idx].cuda())\n",
    "        losses['loss'].update(loss.item(), batch_input.size(0))\n",
    "        loss.backward()\n",
    "        optimizer.step()\n",
    "    print(losses['loss'].avg)"
   ]
  },
  {
   "cell_type": "code",
   "execution_count": 123,
   "metadata": {},
   "outputs": [],
   "source": [
    "dhformer = dhformer.eval()"
   ]
  },
  {
   "cell_type": "code",
   "execution_count": 37,
   "metadata": {},
   "outputs": [],
   "source": [
    "pred = dhformer(batch_input_list[0].cuda())"
   ]
  },
  {
   "cell_type": "code",
   "execution_count": 38,
   "metadata": {},
   "outputs": [
    {
     "data": {
      "text/plain": [
       "tensor([[[[ 2.3624e-01, -1.0579e-01, -1.4221e+00],\n",
       "          [-8.0900e+00,  7.5777e+01, -3.7228e-01]],\n",
       "\n",
       "         [[ 5.4894e-02, -2.1383e-01, -1.4622e+00],\n",
       "          [-1.0440e+01,  7.5130e+01, -3.8094e-01]],\n",
       "\n",
       "         [[ 3.8182e-02, -2.2725e-01, -1.5294e+00],\n",
       "          [-1.2296e+01,  7.4510e+01, -4.6790e-01]],\n",
       "\n",
       "         ...,\n",
       "\n",
       "         [[-9.5196e-01,  1.9568e-02, -1.4938e+00],\n",
       "          [ 1.3462e+02,  7.1640e+01, -4.0001e-01]],\n",
       "\n",
       "         [[-8.3975e-01, -3.0142e-02, -1.2802e+00],\n",
       "          [ 1.2915e+02,  7.1732e+01, -1.8939e-01]],\n",
       "\n",
       "         [[-9.7451e-01, -1.2669e-01, -1.1962e+00],\n",
       "          [ 1.3140e+02,  7.1154e+01, -9.0401e-02]]]], device='cuda:0',\n",
       "       grad_fn=<SubBackward0>)"
      ]
     },
     "execution_count": 38,
     "metadata": {},
     "output_type": "execute_result"
    }
   ],
   "source": [
    "pred - batch_gt_list[0].cuda()"
   ]
  },
  {
   "cell_type": "markdown",
   "metadata": {},
   "source": [
    "### Data augmentation"
   ]
  },
  {
   "cell_type": "code",
   "execution_count": 33,
   "metadata": {},
   "outputs": [
    {
     "name": "stderr",
     "output_type": "stream",
     "text": [
      "100%|██████████| 100/100 [00:00<00:00, 105.12it/s]\n"
     ]
    }
   ],
   "source": [
    "# sampling \n",
    "random.seed(0)\n",
    "total_num_data = 100\n",
    "\n",
    "\n",
    "for i in tqdm(range(total_num_data)):\n",
    "    root_point_traj_num = random.randint(0, len(root_point_traj_list)-1)\n",
    "    upper_vector_traj_num = random.randint(0, len(upper_vector_traj_list)-1)\n",
    "    under_vector_traj_num = random.randint(0, len(under_vector_traj_list)-1)\n",
    "    #print(root_point_traj_num, upper_vector_traj_num, under_vector_traj_num)\n",
    "\n",
    "    root_point_start_idx = random.randint(0, len(root_point_traj_list)-243)\n",
    "    upper_vector_start_idx = random.randint(0, len(upper_vector_traj_list)-243)\n",
    "    under_vector_start_idx = random.randint(0, len(under_vector_traj_list)-243)\n",
    "    #root_point_start_idx, len(root_point_traj_list[root_point_start_idx:root_point_start_idx+243])\n",
    "\n",
    "    root_point_traj = root_point_traj_list[root_point_traj_num][root_point_start_idx:root_point_start_idx+243]\n",
    "    #print(len(root_point_traj))\n",
    "    #print(upper_vector_start_idx, upper_vector_start_idx+243, len(upper_vector_traj_list[upper_vector_traj_num]), len(upper_vector_traj_list))\n",
    "    upper_vector_traj = upper_vector_traj_list[upper_vector_traj_num][upper_vector_start_idx:upper_vector_start_idx+243] + root_point_traj\n",
    "    #print(under_vector_start_idx, under_vector_start_idx+243, len(under_vector_traj_list), under_vector_traj_num)\n",
    "    under_vector_traj = under_vector_traj_list[under_vector_traj_num][under_vector_start_idx:under_vector_start_idx+243] + upper_vector_traj\n",
    "\n",
    "    limb_trajectory = np.stack([root_point_traj, upper_vector_traj, under_vector_traj], axis=1)\n",
    "    limb_trajectory_projected1 = projection(limb_trajectory, cam_param['54138969']['proj'])\n",
    "    limb_trajectory_projected2 = projection(limb_trajectory, cam_param['55011271']['proj'])\n",
    "    limb_trajectory_projected3 = projection(limb_trajectory, cam_param['58860488']['proj'])\n",
    "    limb_trajectory_projected4 = projection(limb_trajectory, cam_param['60457274']['proj'])\n",
    "    \n",
    "    # video_path = '/home/hrai/codes/MotionBERT/custom_codes/DHDST/random_limb_sample{}.mp4'.format(i)\n",
    "    # if os.path.exists(video_path): continue\n",
    "    # save_h36m_pose_video(limb_trajectory, video_path, dataset='limb', W=None, H=None, pose_type='3d', fps=30,\n",
    "    #                         xlim=(-1, 1), ylim=(-1, 1), zlim=(0, 2), view=(0, 45),\n",
    "    #                         centered_xy=False, cam_space=False, on_ground=False, refine_tilt=False,  \n",
    "    #                         dynamic_view=True, dual_view=False,\n",
    "    #                         imgs=None,\n",
    "    #                         show_axis=False)\n",
    "    #break"
   ]
  },
  {
   "cell_type": "code",
   "execution_count": 9,
   "metadata": {},
   "outputs": [
    {
     "data": {
      "text/plain": [
       "(243, 3, 3)"
      ]
     },
     "execution_count": 9,
     "metadata": {},
     "output_type": "execute_result"
    }
   ],
   "source": [
    "limb_trajectory.shape"
   ]
  },
  {
   "cell_type": "code",
   "execution_count": 35,
   "metadata": {},
   "outputs": [
    {
     "data": {
      "text/plain": [
       "<Figure size 640x480 with 0 Axes>"
      ]
     },
     "metadata": {},
     "output_type": "display_data"
    },
    {
     "data": {
      "image/png": "[encoded data removed]",
      "text/plain": [
       "<Figure size 1200x700 with 5 Axes>"
      ]
     },
     "metadata": {},
     "output_type": "display_data"
    }
   ],
   "source": [
    "frame_num = 100\n",
    "cam_id = '54138969'\n",
    "limb = limb_trajectory[frame_num]\n",
    "\n",
    "plt.subplots_adjust(wspace=0, hspace=0)\n",
    "plt.tight_layout(h_pad=-1, w_pad=-1)\n",
    "\n",
    "%matplotlib inline\n",
    "fig = plt.figure(0, figsize=(12, 7), layout='constrained')\n",
    "fig.clear()\n",
    "axd = fig.subplot_mosaic(\n",
    "    \"\"\"\n",
    "    ABC\n",
    "    ADE\n",
    "    \"\"\",\n",
    "    per_subplot_kw={('A'): {'projection': '3d'}}\n",
    ")\n",
    "axA = axes_3d(ax=axd['A'], xlim=(-3, 3), ylim=(-4, 4), zlim=(0, 2), view=(45, 90))\n",
    "axB = axes_2d(ax=axd['B'], H=1000, W=1000, show_axis=False)\n",
    "axC = axes_2d(ax=axd['C'], H=1000, W=1000, show_axis=False)\n",
    "axD = axes_2d(ax=axd['D'], H=1000, W=1000, show_axis=False)\n",
    "axE = axes_2d(ax=axd['E'], H=1000, W=1000, show_axis=False)\n",
    "\n",
    "axB.set_title('55011271')\n",
    "axC.set_title('60457274')\n",
    "axD.set_title('54138969')\n",
    "axE.set_title('58860488')\n",
    "\n",
    "\n",
    "draw_3d_pose(axA, limb, dataset='limb')\n",
    "fig.sca(axA)\n",
    "cam_param['54138969']['frame'].draw3d()\n",
    "cam_param['55011271']['frame'].draw3d()\n",
    "cam_param['58860488']['frame'].draw3d()\n",
    "cam_param['60457274']['frame'].draw3d()\n",
    "\n",
    "\n",
    "draw_2d_pose(axD, limb_trajectory_projected1[frame_num], H=1000, W=1000, dataset='limb') # '54138969'\n",
    "draw_2d_pose(axB, limb_trajectory_projected2[frame_num], H=1000, W=1000, dataset='limb') # '55011271'\n",
    "draw_2d_pose(axE, limb_trajectory_projected3[frame_num], H=1000, W=1000, dataset='limb') # '58860488'\n",
    "draw_2d_pose(axC, limb_trajectory_projected4[frame_num], H=1000, W=1000, dataset='limb') # '60457274'\n",
    "\n",
    "plt.show()"
   ]
  },
  {
   "cell_type": "code",
   "execution_count": 17,
   "metadata": {},
   "outputs": [
    {
     "data": {
      "text/plain": [
       "({'calibration_matrix': [[1145.51133842318, 0.0, 514.968197319863],\n",
       "   [0.0, 1144.77392807652, 501.882018537695],\n",
       "   [0.0, 0.0, 1.0]],\n",
       "  'distortion': [-0.198384093827848,\n",
       "   0.218323676298049,\n",
       "   -0.00181336200488089,\n",
       "   -0.000587205583421232,\n",
       "   -0.00894780704152122]},\n",
       " {'R': [[0.9141562410494211, -0.40060705854636447, 0.061905989962380774],\n",
       "   [-0.05641000739510571, -0.2769531972942539, -0.9592261660183036],\n",
       "   [0.40141783470104664, 0.8733904688919611, -0.2757767409202658]],\n",
       "  't': [[51.88347637559197], [378.4208425426766], [4406.149140878431]]})"
      ]
     },
     "execution_count": 17,
     "metadata": {},
     "output_type": "execute_result"
    }
   ],
   "source": [
    "cam_param[camera_id]['int'], cam_param[camera_id]['ext']"
   ]
  },
  {
   "cell_type": "code",
   "execution_count": 26,
   "metadata": {},
   "outputs": [
    {
     "name": "stderr",
     "output_type": "stream",
     "text": [
      "100%|██████████| 243/243 [00:01<00:00, 122.38it/s]\n"
     ]
    }
   ],
   "source": [
    "camera_id = '54138969'\n",
    "\n",
    "data = {}\n",
    "for key in ['joint_2d', 'confidence', 'joint3d_image', 'joints_2.5d_image', '2.5d_factor', 'camera_name', 'action', 'source', 'frame', 'world_3d', 'cam_3d', 'cam_param']:\n",
    "    data[key] = []\n",
    "\n",
    "calibration_matrix = np.array(cam_param[camera_id]['int']['calibration_matrix'])\n",
    "R = np.array(cam_param[camera_id]['ext']['R'])\n",
    "t = np.array(cam_param[camera_id]['ext']['t']) * 0.001\n",
    "camera_param = {\n",
    "    'intrinsic': calibration_matrix,\n",
    "    'extrinsic': np.concatenate([R, t.reshape(3, 1)], axis=1),\n",
    "}\n",
    "\n",
    "fx = camera_param['intrinsic'][0, 0]  \n",
    "fy = camera_param['intrinsic'][1, 1]  \n",
    "cx = camera_param['intrinsic'][0, 2]  \n",
    "cy = camera_param['intrinsic'][1, 2] \n",
    "\n",
    "for frame_num in tqdm(range(len(limb_trajectory))):\n",
    "    # joint3d_image\n",
    "    world_3d = np.array(limb_trajectory[frame_num])\n",
    "\n",
    "    # world to camera\n",
    "    pos = copy.deepcopy(world_3d)\n",
    "    cam_3d = World2CameraCoordinate(pos, camera_param['extrinsic']) # World coordinate -> Camera coordinate\n",
    "    cam_3d_hat = get_rootrel_pose(cam_3d)\n",
    "\n",
    "    # camera to image\n",
    "    box = infer_box(cam_3d, {'fx': fx, 'fy': fy, 'cx': cx, 'cy': cy}, 0)\n",
    "    img_2d, img_3d = camera_to_image_frame(cam_3d, box, {'fx': fx, 'fy': fy, 'cx': cx, 'cy': cy}, 0) \n",
    "    #img_2d_hat = get_rootrel_pose(img_2d) # (17, 2) # root-relative pose \n",
    "    img_3d_hat = get_rootrel_pose(img_3d) # (17, 3) # root-relative pose \n",
    "\n",
    "    # 2.5d factor\n",
    "    pred_lambda, losses = optimize_scaling_factor(img_3d_hat, cam_3d_hat, stop_tolerance=0.0001) # x,y,z 사용\n",
    "    #print('pred_lambda:', pred_lambda)\n",
    "    #print('losses:', losses)\n",
    "\n",
    "    # joint 2.5d image\n",
    "    img_25d = img_3d * pred_lambda\n",
    "    #img_25d_hat = get_rootrel_pose(img_25d)\n",
    "\n",
    "    # store\n",
    "    data['joint_2d'].append(np.array(img_2d).copy()) \n",
    "    data['confidence'].append(np.ones(17)) \n",
    "    data['joint3d_image'].append(np.array(img_3d).copy()) \n",
    "    data['joints_2.5d_image'].append(np.array(img_25d).copy()) \n",
    "    data['2.5d_factor'].append(np.array(pred_lambda).copy()) \n",
    "    data['camera_name'].append(np.array(camera_id).copy()) \n",
    "    data['action'].append(np.array(action).copy()) \n",
    "    #data['source'].append(np.array(source).copy()) \n",
    "    data['frame'].append(np.array(frame_num).copy()) \n",
    "    data['world_3d'].append(np.array(world_3d).copy()) \n",
    "    data['cam_3d'].append(np.array(cam_3d).copy()) \n",
    "    data['cam_param'].append(np.array(camera_param).copy()) "
   ]
  },
  {
   "cell_type": "code",
   "execution_count": 27,
   "metadata": {},
   "outputs": [
    {
     "data": {
      "application/vnd.jupyter.widget-view+json": {
       "model_id": "8fec5e8734624e8d85f8826c34869e56",
       "version_major": 2,
       "version_minor": 0
      },
      "image/png": "[encoded data removed]",
      "text/html": [
       "\n",
       "            <div style=\"display: inline-block;\">\n",
       "                <div class=\"jupyter-widgets widget-label\" style=\"text-align: center;\">\n",
       "                    Figure 3\n",
       "                </div>\n",
       "                <img src='data:image/png;base64,iVBORw0KGgoAAAANSUhEUgAAAskAAAFrCAYAAAAjCRSVAAAAOXRFWHRTb2Z0d2FyZQBNYXRwbG90bGliIHZlcnNpb24zLjguMiwgaHR0cHM6Ly9tYXRwbG90bGliLm9yZy8g+/7EAAAACXBIWXMAAA9hAAAPYQGoP6dpAABGsUlEQVR4nO3de1yUdf7//+cAclIOogKSIFTmIQ3NI2ilyUZmpavrLYtS07UysBStpFYryzDbrda0NCutT5Lmth5WSyNMzRXP4ilFMxNPoKmAonKa6/eHP+fbXJqbysxweNxvt7nJXNd75v16Mww+ueZ9vS+LYRiGAAAAANi4uboAAAAAoLIhJAMAAAAmhGQAAADAhJAMAAAAmBCSAQAAABNCMgAAAGBCSAYAAABMCMkAAACACSEZAAAAMCEkAwAAACaEZAAAAMCEkAwAAACYEJIBAAAAE0IyAAAAYEJIBgAAAEwIyQAAAIAJIRkAAAAwISQDAAAAJoRkAAAAwISQDAAAAJgQkgEAAAATQjIAAABgQkgGAAAATAjJAAAAgAkhGQAAADAhJAMAAAAmhGQAAADAhJAMAAAAmBCSAQAAABNCMgAAAGBCSAYAAABMCMkAAACACSEZAAAAMCEkAwAAACaEZAAAAMCEkAwAAACYEJIBAAAAE0IyAAAAYEJIBgAAAEwIyQAAAIAJIRkAAAAwISQDAAAAJoRkAAAAwISQDAAAAJgQkgEAAAATQjIAAABgQkgGAAAATAjJAAAAgAkhGQAAADAhJAMAAAAmhGQAAADAhJAMAAAAmBCSAaAamjp1qiIjI+Xt7a2OHTtq/fr1ri4JAKoUQjIAVDNz585VcnKyXn75ZW3evFnR0dGKj4/XsWPHXF0aAFQZFsMwDFcXAQCoOB07dlT79u01ZcoUSZLValV4eLiGDx+uMWPGuLg6AKgaOJIMANVISUmJNm3apLi4ONs2Nzc3xcXFKTMz04WVAUDV4uHqAgAAFefXX39VeXm5QkJC7LaHhIRo9+7dl31McXGxiouLbfetVqtOnjypevXqyWKxOLReAK5jGIZOnz6tsLAwublx3NSMkAwANVxqaqpeffVVV5cBwEUOHjyoRo0aubqMSoeQDADVSP369eXu7q68vDy77Xl5eQoNDb3sY1JSUpScnGy7X1BQoIiICB08eFD+/v4OrReA6xQWFio8PFx+fn6uLqVSIiQDQDXi6emptm3bKiMjQ71795Z0YfpERkaGkpKSLvsYLy8veXl5XbLd39+fkAzUAEyrujxCMgBUM8nJyRo4cKDatWunDh066N1331VRUZEef/xxV5cGAFUGIRkAqpmHHnpIx48f17hx45Sbm6vWrVtr6dKll5zMBwD4fayTDACwU1hYqICAABUUFDDdAqjGeK9fGet9AAAAACaEZAAAAMCEkAwAAACYEJIBAAAAE0IyAAAAYEJIBgAAAEwIyQAAAIAJIRkAAAAwISQDAAAAJoRkAAAAwISQDAAAAJgQkgEAAAATQjIAAABgQkgGAAAATAjJAAAAgAkhGQAAADAhJAMAAAAmhGQAAADAhJAMAAAAmBCSAQAAABNCMgAAAGBCSAYAAABMCMkAAACACSEZAAAAMCEkAwAAACaEZAAAAMCEkAwAAACYEJIBAAAAE0IyAAAAYEJIBgAAAEwIyQAAAIAJIRkAAAAwISQDAAAAJoRkAAAAwISQDAAAAJgQkgEAAAATQjIAAABgQkgGAAAATAjJAAAAgAkhGQAqidTUVLVv315+fn4KDg5W7969lZ2dbdfm/PnzSkxMVL169VSnTh317dtXeXl5dm1ycnLUs2dP+fr6Kjg4WM8995zKysqcORQAqPIIyQBQSaxcuVKJiYlau3at0tPTVVpaqnvuuUdFRUW2NiNHjtR//vMfzZs3TytXrtSRI0fUp08f2/7y8nL17NlTJSUlWrNmjT799FPNmjVL48aNc8WQAKDKshiGYbi6CADApY4fP67g4GCtXLlSd955pwoKCtSgQQOlpaXpL3/5iyRp9+7dat68uTIzM9WpUyd98803uv/++3XkyBGFhIRIkqZNm6YXXnhBx48fl6en5//st7CwUAEBASooKJC/v79DxwjAdXivXxlHkgGgkiooKJAkBQUFSZI2bdqk0tJSxcXF2do0a9ZMERERyszMlCRlZmaqVatWtoAsSfHx8SosLNTOnTudWD0AVG0eri4AAHApq9WqESNGqHPnzmrZsqUkKTc3V56engoMDLRrGxISotzcXFub3wbki/sv7ruc4uJiFRcX2+4XFhZW1DAAoMriSDIAVEKJiYnasWOH5syZ4/C+UlNTFRAQYLuFh4c7vE8AqOwIyQBQySQlJWnx4sX6/vvv1ahRI9v20NBQlZSUKD8/3659Xl6eQkNDbW3Mq11cvH+xjVlKSooKCgpst4MHD1bgaACgaiIkA0AlYRiGkpKSNH/+fC1fvlxRUVF2+9u2batatWopIyPDti07O1s5OTmKiYmRJMXExGj79u06duyYrU16err8/f3VokWLy/br5eUlf39/uxsA1HTMSQaASiIxMVFpaWlauHCh/Pz8bHOIAwIC5OPjo4CAAA0ZMkTJyckKCgqSv7+/hg8frpiYGHXq1EmSdM8996hFixZ67LHHNGnSJOXm5upvf/ubEhMT5eXl5crhAUCVwhJwAFBJWCyWy26fOXOmBg0aJOnCxURGjRqlL774QsXFxYqPj9f7779vN5XiwIEDGjZsmFasWKHatWtr4MCBmjhxojw8/thxEZaFAmoG3utXRkgGANjhP06gZuC9fmXMSQYAAABMCMkAAACACSEZAAAAMCEkAwAAACaEZAAAAMCEkAwAAACYEJIBAAAAE0IyAAAAYEJIBgAAAEwIyQAAAIAJIRkAAAAwISQDAAAAJoRkAAAAwISQDAAAAJgQkgEAAAATQjIAAABgQkgGAAAATAjJAAAAgAkhGQAAADAhJAMAAAAmhGQAAADAhJAMAAAAmBCSAQAAABNCMgAAAGBCSAYAAABMCMkAAACACSEZAAAAMCEkAwAAACaEZAAAqjDDMFxdAlAtEZIBAKiift7/s96Z9Y4yVmTIarW6uhygWiEkAwBQBRmGoRmLZmhU9Cg9/PnDOnDggKtLAqoVQjIAVEMnTpxQcHCwfvnlF1eXAkfKlzRNOp5xXPPmzWPqBVCBCMkAUA1NmDBBvXr1UmRkpCTJYrFccpszZ85lH7t27VonVoprZbFY1Pve3qqdVlv6RVqwYIGKi4tdXRZQbRCSa4jy8nKdOHGCOWtADXD27Fl9/PHHGjJkiN32mTNn6ujRo7Zb7969L3lsfn6+nnzySSdViusVHR2t9u3bS5I2b96sDRs2uLgioPogJNcQ3333nerXr6+DBw/q7NmzKi0t5WM5oJr6+uuv5eXlpU6dOtltDwwMVGhoqO3m7e19yWOfeuop9evXz1ml4jp5eXkpISFBFotFxcXF+vzzzzkYAlQQQnINUFZWpsGDB0uS9uzZo6ysLOXn56uwsJDADFRDP/zwg9q2bXvJ9sTERNWvX18dOnTQJ598csn7fubMmfr55581ZswYZ5WK62SxWBQXF6eQkBBJ0jfffKNff/3VxVUB1QMh2cFSU1PVvn17+fn5KTg4WL1791Z2dvb/fNy8efPUrFkzeXt7q1WrVvr666+vuQYPDw+tWrXK9vXx48e1du1arV+/Xr/88ou2bdum/Px8AjNQTRw4cEBhYWF228aPH68vv/xS6enp6tu3r55++mm99957tv179+7VmDFj9Pnnn8vDw8PZJeM6RERE6J577pEkHT58WMuWLXNxRUD1wG9CB1u5cqUSExPVvn17lZWV6cUXX9Q999yjH3/8UbVr177sY9asWaOHH35Yqampuv/++5WWlqbevXtr8+bNatmy5TXVcfE/vcaNG2v79u1q1aqVtm7dqkOHDuncuXMqKiqSxWLRTTfdpGPHjumWW26Rj48PgRmV0sUTz3B5586du2QqxdixY21ft2nTRkVFRXrrrbf0zDPPqLy8XI888oheffVV3XLLLSosLHR2ybgOFotFf/nLX/TFF1+otLRUc+fO1cMPP8wfO8B1shikIKc6fvy4goODtXLlSt15552XbfPQQw+pqKhIixcvtm3r1KmTWrdurWnTpl1TvwcOHFBkZKT27dun7du3KzY2VmvWrLH9GxERoZycHFksFhmGobp16+qGG26QYRg6fPiwfHx8FBQUdE19X409e/YoIiLisnMlK9L58+eVk5OjW265xaH9SBfWMj1+/LgaNGjg8GB38OBB+fn5KTAw0KH9SNLu3bt14403ytPT06H9nD17VkeOHNHNN98sSfLx8VG9evXk5eVFUP4dCQkJMgxDaWlpv9tmyZIluv/++3X+/HmdO3dOdevWlbu7u6QLP7NWq1UFBQXy9/d3Vtm4DoWFhYqNjdXOnTsVGBioH3744ZoPqqDmKCwsVEBAAO/138GfmU5WUFAgSVcMnJmZmUpOTrbbFh8frwULFjisrkaNGiknJ0e33367Nm3apFOnTtkCyNmzZ1VSUuKUpYXKysp0/Phxhx8BKSsrU1lZmY4ePerQfqQLgePUqVMqKytzeKg7d+6cysrKdO7cOYf2I11YMeXYsWO2YOUoZWVlKi0ttb1WdevWVVBQkAzDICT/jjZt2ujzzz+/YpusrCzVrVtXXl5eqlWrlrZv327bd+bMGcXExDi6TFQgPz8/JSQk6MUXX1R+fr6++uor3XrrrbxHgOtASHYiq9WqESNGqHPnzlf8Cz83N9d2EsZFISEhys3NdXSJ8vLysn3drl07ubm5KSsrSwEBAYqKinJ4/xkZGWrZsqXD/6ItLCzUhg0b1KFDB4f2I10Ied99953atm3r8PC/ceNGhYSEKDw83KH9SNKyZcsUHR0tX19fh/Zz8uRJbdu2zfZaGYZRI6YBTZw4USkpKXr22Wf17rvvSrrwCcioUaM0Z84cFRcXKz4+Xu+//77d74ucnBwtWrRIW7duVYMGDTRo0CB17txZv/76qzp16iRvb2+lp6frjTfe0OjRoyVJbm5udr+TmG5R9VgsFvXs2VNvvPWGznQ7o3+t/ZdGFY1SnTp1XF0aUGURkp0oMTFRO3bs0OrVq11dCoBKbMOGDZo+fbpuu+02u+0jR47UkiVLNG/ePAUEBCgpKUl9+vTRggUL1KpVKyUlJWnu3LkKDQ1VVFSUDhw4oBkzZujgwYPKzs7WyJEjZRiGbr75Zr399tsaOnSoi0YIR2jevLk63ttRGS9m6Mj0Izp58iQhGbgOhGQnSUpK0uLFi7Vq1So1atToim1DQ0OVl5dnty0vL0+hoaGOLBFAJXDmzBklJCRoxowZev31123bCwoK9PHHHystLU133323pAtLtjVv3lz79u3TJ598ogcffFCGYWjBggXq0qWLAgMD9dprryklJUXHjx93+PxxuFZxcbEOZx2W/iT5+fvJ92XHfsoDVHcsAedghmEoKSlJ8+fP1/Lly//QlIWYmBhlZGTYbUtPT2eOIFADJCYmqmfPnoqLi7PbvmnTJpWWltptb9asmSIiIpSZman77rtPbdq0Ua1atTRu3Dg1aNBAKSkpio6OVmFhoXbu3Pm7fRYXF6uwsNDuhqqnrKxMRWeKpFyprm9d+fn5ubokoErjSLKDJSYmKi0tTQsXLpSfn59tXnFAQIB8fHwkSQMGDNANN9yg1NRUSdKzzz6ru+66S//4xz/Us2dPzZkzRxs3btSHH37osnEAqHi//PLLZf9wvuOOOy7ZlpubK09Pz0tWLvnt+QqtWrXSzp07NW/ePG3atEmtWrXS2bNnbY//PampqXr11VevYySoDA4ePKgTJ05IunB1RTc3joMB14N3kIN98MEHKigoUNeuXdWwYUPbbe7cubY2OTk5dqssxMbGKi0tTR9++KGio6P1r3/9SwsWLGA5H6CaCQ8P19GjR3X06FFt3LhRQUFBCggIUNeuXa/p+QoLC1VcXCyr1apffvnlDz8uJSVFBQUFttvBgwevqX+41sWViCSpRYsWrJMMXCfeQQ72R87CX7FixSXb+vXrp379+jmgIgCVhbu7u+1cg1WrVunkyZOyWCx644039MYbb6i8vFyrVq3SlClTtGzZMpWUlCg/P9/uaPLF8xVKSkq0evVqBQQE6LnnntNf//pXbd++XUVFRZJ0xXMavLy87Fa2QdV08OBBWa1WSReWSmT5N+D6cCQZACqBefPm6cYbb1RmZqaysrKUlZWldu3aKSEhwfZ1rVq17M5XyM7OVk5OjmJiYvTSSy/JMAwVFBTo8ccf1y233KLBgwcrPT1d/v7+atGihQtHB2fIycmxheTo6GgXVwNUfRxJBgAXe/3117V8+XKtX79eN910k2177dq1Va9ePdtUqyFDhig5OVlBQUHy9/fX8OHDFRMTo/Pnz+vdd9/Vd999p6SkJA0cOFApKSnq16+fVq5cqeHDh3OkuJozDEMHDhyQdGHNZKZaANePdxEAuNBXX32l8ePH65tvvrELyJfzzjvvyM3NTX379rW7mEhoaKhKS0slSYsXL9awYcP0l7/8RbVr19bAgQM1fvx4ZwwFLrZ//35JF/64uvXWW11cDVD1EZJrAMMwFBsbK0nat2+fpAtXMbu4D4Br7NixQwMGDNALL7ygW2+91bYChaenp4KCgi45X8Hb21tTp07V1KlTf/c5GzdurK+//tqRZaMSKisrs80/d3d355MDoAIwJ9nBVq1apQceeEBhYWGyWCxasGDBFduvWLFCFovlktv1XpJ6+vTpkmS7mMDFj+XWrl0r6cLcRkn69ddfbY+5ePlfbtd/4/tZ8d/P6mDjxo06e/asXn/9dbvVb/r06ePq0lDFFBUVae/evZIu/KEUHBzs4oqAqo8jyQ5WVFSk6OhoDR48+Kr+48vOzpa/v7/t/vX8wrNYLGrVqpWkC0tO5efnq02bNlqzZo1at26tLVu2qHbt2jpx4oSOHDlie1x6errt67y8PO3Zs+eaa7gamZmZTulHkpYtW+a0vswXiHGUEydO6Mcff3RKXz/88INT+pH+32sVGhp6yeWaq6pBgwZp0KBBri4D1cC5c+dsy7/VqlVL7u7uLq4IqPoIyQ7Wo0cP9ejR46ofFxwcfMlFAxzh4gVNGjVqpJycHN12221as2aNJOnOO++Um5ubdu7cKT8/P0VERDi8ntWrVys6OtrhV4o6ffq0tm7dqi5duji0H+nCx6CrV69Wly5dHH4yzdatW9WgQQOFhYVV2HNarVbNmDFDmZmZmjRpku0PthUrVqhjx462nyFHyc/P165du2xXnGRZK+BSOTk5tguJNGvWjBP3gArAu6iSat26tYqLi9WyZUu98sor6ty5s9Nr8Pb2lpubm9zd3VWrVi15e3s7vE+LxSIvLy+H91VSUiKLxeKUMZWVlUm68P109H9cFf1a7du3T2PGjNGePXvUvXt3ffXVVxo5cqQk571Wnp6edq9VdZtyAVSEsrIy2/siKCiIq+0BFYB3USXTsGFDTZs2TV999ZW++uorhYeHq2vXrtq8ebOrS0MNUlpaqqlTp6pnz546ceKE3nzzTYWHh+uRRx5xdWkALmPz5s0qLy+XJFa2ACoIR5IrmaZNm6pp06a2+7Gxsdq3b5/eeecd/d///Z8LK0NNsW3bNo0ZM0Z79+7V0KFD9cwzz8jb21v33nuvq0uDyWeffaaRI0fqyJEjdqsZ9O7dW35+fvzOqCEMw9DZs2dt9xs0aODCaoDqgyPJVUCHDh30008/uboMVHOnT59Wjx49NHjwYJWUlGjBggV6/vnnnTIlBdemX79+Ki8v16JFi2zbjh07piVLlmjw4MEurAzOtnHjRkkXTtojJAMVg5BcBWRlZalhw4auLgPV3M6dO3XkyBHdeeedCgsL4yPbKsDHx0ePPPKIZs6cadv2+eefKyIiQl27dnVdYXC6c+fOSbrwM+GMk6yBmoDpFg525swZu6PA+/fvV1ZWloKCghQREaGUlBQdPnxYn332mSTp3XffVVRUlG699VadP39eH330kZYvX65vv/3WVUNADXHy5EmdPn1aeXl5SklJcXU5+IOGDh2q9u3b6/Dhw7rhhhs0a9YsDRo0iFVAapCzZ8/a1r4PCAiQr6+viysCqocaG5JXrFihbt26/e7+rl276vvvv7/ufjZu3GjXT3JysiRp4MCBmjVrlo4ePaqcnBzb/pKSEo0aNUqHDx+Wr6+vbrvtNn333XdXrBWoCNnZ2apfv75mz57t6lJwFdq0aaPo6Gh99tlnuueee7Rz504tWbLE1WXBiUpKSnTq1ClJUkhIiAICAlxcEVA91NiQHBsbq6NHj16yfdGiRXrqqaf09NNPV0g/Xbt2veJyVbNmzbK7//zzz+v555+vkL6Bq7Fnzx7dcsstri4D1+Cvf/2r3n33XR0+fFhxcXEKDw93dUlwoqNHj6qgoEDShekWfIoAVIwaOyfZ09NToaGhdrdTp05p9OjRevHFF9WvXz9Xlwg4VXZ2tt3KKqg6HnnkER06dEgzZszghL0aKD8/3zYnuXXr1lxIBKggNTYkm+Xn56tXr17q2rWrXnvtNVeXAzjV+fPndeDAAY4kV1EBAQHq27ev6tSpo969e7u6HDjZ8ePHbZ9Y1qlThyPJQAUhJOvCZXcfeeQReXh4aPbs2fyCQY2zd+9eGYahZs2auboUXKPDhw8rISHBbr1k1AzZ2dmyWq2SpHbt2rm4GqD64DMZSS+++KIyMzO1fv16+fn5uboch7p4ieT/9e/Fr93c3GS1WlVeXm63z1EMw1BZWZnD+7p4CVdnjOly31tHudbXateuXZKkyMjIP/xYZ71W5eXldq+VYRgO/0P2yJEjCgsLc2gfFeXUqVNasWKFVqxYoffff9/V5cDJDMPQsWPHbPfd3d1dWA1QvViMK51VVgPMmTNHjz76qJYsWaL4+HhXl+MwBw4cUGRkpNLS0lgeCJf46quvtHXrVo0fP97VpfwhN954o2699Va5uTnmw7C6detq6tSpVeIy3JGRkTp16pTGjh2r0aNHV8hzFhYWKiAgQAUFBfL396+Q54RjWK1W3X///frmm29Up04dbdy4kXML8IfxXr+yGn0kOSsrS0OGDNHEiRMdFpBXrVqlt956S5s2bdLRo0c1f/78/zlncMWKFUpOTtbOnTsVHh6uv/3tbxo0aFCF1NO2bVvt2rVLHTp00Pr163/3X0m6++675ebmpm3btsnf31+RkZEVUsOVrFixQrfffrvD36yFhYXavHmzUy64UFZWphUrVqhr164OP6Fm8+bNCg4OVqNGja7qcV988YWio6MVFxf3hx/z3XffKTY21uF/dJ06dUo7duzQHXfcIck5R5InTJigJ598UvPnz9f06dMVFBTk0P6uxy+//OLqEuBCVqtVJSUlki4cReYgCFBxamxI/vXXX9W7d2917dpVjz76qHJzc+32u7u7V8ilPYuKihQdHa3BgwerT58+/7P9/v371bNnTz311FOaPXu2MjIy9Ne//lUNGzaskCB/MaT9r38vfu3m5iY3Nze5u7s75Yxpi8UiDw8Ph/fl4eFh68tZnDGua32t9uzZo7/85S9X9ThnvVbu7u52r5VhGFdcVrEiPP300+rRo4eGDBmiFi1aaMaMGXrggQcc2idwLQoLC5WdnS1Jaty4serVq+fiioDqo8aG5CVLlujAgQM6cODAZS/53Lhx4wo5QtOjRw/16NHjD7efNm2aoqKi9I9//EOS1Lx5c61evVrvvPNOtZ4OAtfJz89XXl4eK1uYREVFafny5ZoyZYr69Omj5s2bX/IHwebNm11UHXBBaWmpSktLJUne3t6qVauWiysCqo8aG5IHDhyogQMHurqMS2RmZl7ykXd8fLxGjBjhmoJQ7a1du1Z+fn6qX7++q0updA4cOKB///vfqlu3rnr16sX6s6h09u3bpxMnTki6MD/dUfP0gZqI3/iVTG5urkJCQuy2hYSEqLCwUOfOnZOPj4+LKkN1tWXLFnXv3l1r1qxRTEyMq8upNGbMmKFRo0YpLi5OO3furJDpV0BFu7j6iyTdcMMNrG4BVCBCMlDDDR48WGlpaVViJQdnuffee7V+/XpNmTJFAwYMcHU5wO/atm2byjuXS/kXVn0BUHEIyZVMaGio8vLy7Lbl5eXJ39+fo8hwiJCQEI0cOdLVZVQq5eXl2rZt21WvEgI4W1BIkNyed5P7fne1bNXS1eUA1QohuZKJiYnR119/bbctPT2dj8EBJ0pPT3d1CcAfck+3ezRuzjj5+/qrY4eOri4HqFYIyQ525swZ/fTTT7b7+/fvV1ZWloKCghQREaGUlBQdPnxYn332mSTpqaee0pQpU/T8889r8ODBWr58ub788kstWbLEVUMAAFRS9erV07inx0mSw9cPB2oaToN1sI0bN6pNmzZq06aNJCk5OVlt2rTRuHEXfqkdPXpUOTk5tvZRUVFasmSJ0tPTFR0drX/84x/66KOPWP4NAHBZFouFgAw4AEeSHaxr165XvPDBrFmzLvuYLVu2OLAqAAAAXAkhGXZ+G+hPnDghi8Wi4uJiFRUV6ddff3V4/1arVfn5+bbLrDrK2bNnZbVanTKm8vJySRe+n45enqmkpERnzpxxyrgMw9CpU6d09uxZh/Zz+vRplZeX28bk6empOnXqOLRPAAAIyTXUxTB88uRJSdLevXslSevXr7e12bVrlywWi86fP6+ioiKdOnXK4XWVl5dr//79Dl8Q32q1qry8XLt27XJoP9L/+15nZ2c7/CPR8+fP6/z5804JyZL0008/Ofy1Ki8vV1lZme21ql+/vpo2berQPgEAICTXAIZh6KuvvpL0/8Lw2rVrJck2H9rLy0uS1LJlS23dulWS1KVLF7m5uSkrK0sBAQGKiopyeK0ZGRlq06aN/P39HdpPYWGhNmzYoDvuuMOh/UhSWVmZvvvuO8XGxjr8im0bN25USEiIwsPDHdqPJC1btkzt27eXr6+vQ/s5efKktm3bZnutDMO44hQmAAAqAifu1QAWi0ULFiyQJNWuXVuS1Lp1a7t/IyIi7PYDAADUZIRkJ5g6daoiIyPl7e2tjh072k1pMJs1a5btTOWLN29v7+uu4f/+7/8kSWFhYZLEhUkAAACugJDsYHPnzlVycrJefvllbd68WdHR0YqPj9exY8d+9zH+/v46evSo7XbgwAEnVgwAAABCsoO9/fbbGjp0qB5//HG1aNFC06ZNk6+vrz755JPffYzFYlFoaKjtFhIS4sSKAQAAQEh2oJKSEm3atElxcXG2bW5uboqLi1NmZubvPu7MmTNq3LixwsPD1atXL+3cudMZ5QIAAOD/R0h2oF9//VXl5eWXHAkOCQlRbm7uZR/TtGlTffLJJ1q4cKE+//xzWa1WxcbG6tChQ84oGQAAAGIJuEonJiZGMTExtvuxsbFq3ry5pk+frtdee82FlQEAANQcHEl2oPr168vd3V15eXl22/Py8hQaGvqHnqNWrVpq06aNfvrpJ0eUCAAAgMsgJDuQp6en2rZtq4yMDNs2q9WqjIwMu6PFV1JeXq7t27erYcOGjioTAAAAJoRkB0tOTtaMGTP06aefateuXRo2bJiKior0+OOPS5IGDBiglJQUW/vx48fr22+/1c8//6zNmzfr0Ucf1YEDB/TXv/7VVUMA4CSHDx/Wo48+qnr16snHx0etWrXSxo0bbfsNw9C4cePUsGFD+fj4KC4uznYVzYtOnjyphIQE+fv7KzAwUEOGDNGZM2ecPRQAqPKYk+xgDz30kI4fP65x48YpNzdXrVu31tKlS20n8+Xk5MjN7f/9rXLq1CkNHTpUubm5qlu3rtq2bas1a9aoRYsWrhoCACc4deqUOnfurG7duumbb75RgwYNtHfvXtWtW9fWZtKkSZo8ebI+/fRTRUVFaezYsYqPj9ePP/5ou+hQQkKCjh49qvT0dJWWlurxxx/XE088obS0NFcNDQCqJIthGIari4DjHThwQJGRkdq3b5+2b9+u2NhYrVmz5pJ/W7RooR9//FGS5OXlJUkqLS2VxWKRh4fj/6YqLi5WrVq17P5wcASr1arS0lLbGB3JMAyVlJTI09NTFovFoX2VlpbKzc1N7u7uDu1HuvBaOWNM5teqQYMGatGihby8vBz+c+JMY8aM0X//+1/98MMPl91vGIbCwsI0atQojR49WpJUUFCgkJAQzZo1S/3799euXbvUokULbdiwQe3atZMkLV26VPfdd58OHTpku+Lm/1JYWKiAgAAVFBTI39+/YgYIoNLhvX5lHEmu4crLyyXJ9pHtbz+6bdKkiU6fPq2jR4+qfv36atCggUNrOX36tH7++WfdeOONFXIp7ispLCxUTk6OmjVr5tB+pAvf4x07duiWW25xeHj9+eef5evr+4dPDL0e27Ztc8rPRVFRkfbt26cGDRrIz89PQ4YMUZMmTXT//ffr9ttvl4eHh/z8/OTv7+/wwO5IixYtUnx8vPr166eVK1fqhhtu0NNPP62hQ4dKkvbv36/c3Fy7ddcDAgLUsWNHZWZmqn///srMzFRgYKAtIEtSXFyc3NzctG7dOv35z3++bN/FxcUqLi623S8sLHTQKAGg6iAk11DHjx+XJG3YsEGSbOHt1ltvVVZWliRpx44dtvZHjhzRkSNHnFJbdna2U/qRpK1btzqtr99+Px3p9OnTl6yo4ijO/Lk4dOiQioqKtHr1aq1evVozZ86023/gwAEFBgbKz8+vSobln3/+WR988IGSk5P14osvasOGDXrmmWfk6empgQMH2tZWv9K667m5uQoODrbb7+HhoaCgoN9dm12SUlNT9eqrr1bwiACgaqs+n1Xiii6Gpt27d0u6cIKQJN1yyy2SpDp16kiSLSADlZGvr69mz56tjz76SG+//bbdvsaNGysgIEBz5sxRTk6OCgoKVFhYqKoyo8xqter222/XG2+8oTZt2uiJJ57Q0KFDNW3aNIf3nZKSooKCAtvt4MGDDu8TACo7QnINUFZWpj/96U+SpNq1a0u6cGU/q9VqC83OXIf54hQPZystLXVJv67kqjE76jW2WCyqXbu26tevr6ioKKWlpemjjz6ya/PII4+ocePGCgwMVEBAgA4ePFglwnLDhg0vOUG3efPmysnJkSTbFJorrbseGhqqY8eO2e0vKyvTyZMnrzgFx8vLS/7+/nY3AKjpmG5RA3h4eOiHH35QdHS06tSpo23btunJJ5/U448/rttuu82ptSxatEi7du3SCy+84NR+i4qKNHbsWD3zzDOKjIx0at+ucu7cOb344osaMWKEGjdu7NS+v/zyS+Xm5uqZZ55xeF8+Pj766KOPZBiGjh8/rtTUVJ0+fdq2/+LYDx48KH9//0o7HaNz586XTDXas2ePrf6oqCiFhoYqIyNDrVu3lnRh7vC6des0bNgwSReu2Jmfn69Nmzapbdu2kqTly5fLarWqY8eOzhsMAFQHBhxuypQpRuPGjQ0vLy+jQ4cOxrp1667Y/ssvvzSaNm1qeHl5GS1btjSWLFly3TXs37/fkMSNW42/FRQUXPf7yRHWr19veHh4GBMmTDD27t1rzJ492/D19TU+//xzW5uJEycagYGBxsKFC41t27YZvXr1MqKiooxz587Z2tx7771GmzZtjHXr1hmrV682mjRpYjz88MNXVUtBQUGl/l4BqBi816+MJeAcbO7cuRowYICmTZumjh076t1339W8efOUnZ19yQk2krRmzRrdeeedSk1N1f3336+0tDS9+eab2rx5s1q2bHnNdVitVh08eFC1a9eulEfRgIpmGIbOnDkji8WiwMBA2899ZT2SLEmLFy9WSkqK9u7dq6ioKCUnJ9tWt5AujOnll1/Whx9+qPz8fHXp0kXvv/++7dwC6cLFRJKSkvSf//xHbm5u6tu3ryZPnmw77+CPYFkooGbgvX5lhGQH69ixo9q3b68pU6ZIuhBWw8PDNXz4cI0ZM+aS9g899JCKioq0ePFi27ZOnTqpdevWTjmBBwD4jxOoGXivXxkn7jlQSUmJNm3aZLeuqZubm+Li4pSZmXnZx2RmZtq1l6T4+PjfbQ8AAICKR0h2oF9//VXl5eVXXNfULDc396raA6hYDz74oMLCwuTu7i4PDw95eHgoMjJSL7/8skpKSlxdHgDASQjJAPAb3bp103PPPac+ffrorbfeUnBwsPLy8jR+/Hg+jgSAGoQl4Byofv36cnd3v+K6pmahoaFX1R5AxRo5cqQkydPTU2+99Zby8vJktVoVHR2t7du3u7g6AICzcCTZgTw9PdW2bVtlZGTYtlmtVmVkZCgmJuayj4mJibFrL0np6em/2x5AxZs7d66Sk5PVq1cv1atXTxaLRVu3bpXValVwcLB69+59XZdPLy8vV2xsrPr06WO3vaCgQOHh4XrppZeudwgAgOtESHaw5ORkzZgxQ59++ql27dqlYcOGqaioSI8//rgkacCAAUpJSbG1f/bZZ7V06VL94x//0O7du/XKK69o48aNSkpKctUQgBpn5MiRslqtmjx5sjw9PdWkSRNJF674N3ToUC1fvlzNmzeXv7+/YmJi9M0331zV87u7u2vWrFlaunSpZs+ebds+fPhwBQUF6eWXX67Q8QAArh4h2cEeeugh/f3vf9e4cePUunVrZWVlaenSpbaT83JycnT06FFb+9jYWKWlpenDDz9UdHS0/vWvf2nBggXXtUby73nwwQcVEREhb29vNWzYUI899piOHDlS4f2Y/fLLLxoyZIiioqLk4+Ojm266yaknRU2YMEGxsbHy9fVVYGCgw/ubOnWqIiMj5e3trY4dO2r9+vUO73PVqlV64IEHFBYWJovFogULFji8z4tSU1PVvn17+fn5VchR16vxwQcf6LbbbrNdWvligB0zZowsFssfum3btk3Hjh3TP//5T3377bdq2LChDh06JOlCSO7UqZOmT58uwzD0wQcf6O6771avXr20c+fOq6r1lltu0cSJEzV8+HAdPXpUCxcu1Jw5c/TZZ5/J09PTEd8eAMBVYJ3kGuydd95RTEyMGjZsqMOHD2v06NGSLlzQxJGWLl2quXPn6uGHH9bNN9+sHTt2aOjQoXrsscf097//3aF9S9LLL7+swMBAHTp0SB9//LHy8/Md1tfVXkymonzzzTf673//q7Zt26pPnz6aP3++evfu7bD+fuvee+9V//791b59e5WVlenFF1/Ujh079OOPP6p27doO7fs///mP3N3d1aRJExmGoU8//VRvvfWWMjIy1KBBA508eVL5+fmaOXOm/vWvf13xudLS0nTXXXepS5cu2r9/v6QLSziWl5frp59+UpMmTbR9+3a1bNlSQUFBeuuttzRkyJCrqtcwDN19991yd3fX9u3bNXz4cP3tb3+75vFXFNZOBWoG3uv/g4uu9IdKaOHChYbFYjFKSkqc3vekSZOMqKgop/Y5c+ZMIyAgwKF9dOjQwUhMTLTdLy8vN8LCwozU1FSH9vtbkoz58+c7rT+zY8eOGZKMlStXuqT/unXrGh999NElNe3ateuyt5UrVxqSjH/9619GkyZNjAcffNB2SWs3NzejvLzc6Nmzp9G5c2ejrKzM+OKLLwxPT09j586d11Tfrl27DElGq1atjNLS0ooY8nXjUrVAzcB7/cpY3QKSLlzKdvbs2YqNjVWtWrWc3n9BQYGCgoKc3q+jGIah7t27a/369XZzzt3c3NSoUSONHTtWjz76qBo1auTCKp2joKBAkpz++paXl2vevHkqKiq65MTXBg0aqEGDBpc8Zt26ddq8ebPc3Nw0bNgwhYeH6/Dhw2rcuLEOHDggSUpMTNTmzZtVUFAgLy8v1alTR/Pnz1eLFi2uqc5PPvlEvr6+2r9/vw4dOqTIyMhreh4AQMViTnIN98ILL6h27dqqV6+ecnJytHDhQqfX8NNPP+m9997Tk08+6fS+HcVisejNN9+UJLurJe7fv19btmxRREREjQjIVqtVI0aMUOfOnR0yr/5ytm/frjp16sjLy0tPPfXUVQVYX19fLVq0SJJ0/Phxbd68WZs2bbIFZKvVqvnz5+v999/XmjVrtG7dOg0bNkwDBw7Ujz/+eNW1rlmzRu+8844WL16sDh06aMiQITKYAQcAlQIhuZr5Iyco7d6929b+ueee05YtW/Ttt9/K3d1dAwYMuOb/pK+2b0k6fPiw7r33XvXr109Dhw512rid4YYbbpAkTZkyRfv375dhGBoyZIgiIyNVv359p9biKomJidqxY4fmzJnjtD6bNm2qrKysawqwrVq10vLly5WWliYvLy/NmjVLvXr1smuTl5enP//5zzp16pTatm2r1NRURUdH65///OdV1Xn27FkNGjRIw4YNU7du3fTxxx9r/fr1mjZt2lU9DwDAMThxr5o5fvy4Tpw4ccU2N95442XPnj906JDCw8O1Zs2aa1qX+Wr7PnLkiLp27apOnTpp1qxZcnO79r/ZrmXcs2bN0ogRIxx24l5JSYl8fX3Vtm1b+fr6qk+fPnrttdfUrVs3nT9/3mlH7S0Wi1NP3LsoKSlJCxcu1KpVqxQVFeXUvn8rLi5ON910k6ZPn35Vj5syZYrefPNN5ebmys/PT6dOndLTTz+tP//5zwoMDFSjRo0UEBAgHx8f3X333YqIiNCsWbP+8PM/++yz+vrrr7V161b5+vpKkqZPn67Ro0dr+/btLp12wck8QM3Ae/3KmJNczfzeXMs/wmq1SpKKi4sd3vfhw4fVrVs3tW3bVjNnzryugHy1fTvLxYvJtGzZUosWLdKqVas0b948PfPMM9V63WvDMDR8+HDNnz9fK1ascGlAli78XF/Lz3RSUpJatmypbt266dSpU5Kk999/X++//76tzfjx43X27FmtWLFCy5Yt+8PPvXLlSk2dOlUrVqywBWRJevLJJ/Xvf/9bQ4YM0XfffSeLxXLVdQMAKgYhuYZat26dNmzYoC5duqhu3brat2+fxo4dq5tuusnhV/c7fPiwunbtqsaNG+vvf/+7jh8/btvnjMtv5+Tk6OTJk8rJyVF5ebmysrIkSTfffLPq1KlToX0lJydr4MCBuueee7Rr1y4tW7bM7mIyjnLmzBn99NNPtvv79+9XVlaWgoKCFBER4dC+ExMTlZaWpoULF8rPz0+5ubmSZDvq6kgpKSnq0aOHIiIidPr0aaWlpV11gP2trl27XjL9aMiQIcrIyNDRo0f13nvv6bbbbtOyZcv0pz/96Q8/71133aWysrLL7rvWWgEAFcx1C2vAlbZt22Z069bNCAoKMry8vIzIyEjjqaeeMg4dOuTwvmfOnGlbUst8c4aBAwdetu/vv//eIf299957hr+/v2GxWIwOHToYa9eudUg/v/X9999fdowDBw50eN+/99rOnDnT4X0PHjzYaNy4seHp6Wk0aNDA6N69u/Htt986vN/qhmWhgJqB9/qVMScZcIJXXnlFCxYssB21Bioz5ikCNQPv9StjdQsAAADAhJAMAAAAmDDdAgBgh49ggZqB9/qVcSQZAAAAMCEkAwAAACaEZAAAAMCEkAwAAACYEJIBAAAAE0IyAAAAYEJIBgAAAEwIyQAAAIAJIRkAAAAwISQDAAAAJoRkAAAAwISQDAAAAJgQkgEAAAATQjIAAABgQkgGAAAATAjJAAAAgAkhGQAAADAhJAMAAAAmhGQAAADAhJAMAJVAeXm5xo4dq6ioKPn4+Oimm27Sa6+9JsMwbG0Mw9C4cePUsGFD+fj4KC4uTnv37rV7npMnTyohIUH+/v4KDAzUkCFDdObMGWcPBwCqPEIyAFQCb775pj744ANNmTJFu3bt0ptvvqlJkybpvffes7WZNGmSJk+erGnTpmndunWqXbu24uPjdf78eVubhIQE7dy5U+np6Vq8eLFWrVqlJ554whVDAoAqzWL89jAFAMAl7r//foWEhOjjjz+2bevbt698fHz0+eefyzAMhYWFadSoURo9erQkqaCgQCEhIZo1a5b69++vXbt2qUWLFtqwYYPatWsnSVq6dKnuu+8+HTp0SGFhYX+olsLCQgUEBKigoED+/v4VP1gAlQLv9SvjSDIAVAKxsbHKyMjQnj17JElbt27V6tWr1aNHD0nS/v37lZubq7i4ONtjAgIC1LFjR2VmZkqSMjMzFRgYaAvIkhQXFyc3NzetW7fOiaMBgKrPw9UFAACkMWPGqLCwUM2aNZO7u7vKy8s1YcIEJSQkSJJyc3MlSSEhIXaPCwkJse3Lzc1VcHCw3X4PDw8FBQXZ2lxOcXGxiouLbfcLCwsrZEwAUJVxJBkAKoEvv/xSs2fPVlpamjZv3qxPP/1Uf//73/Xpp586vO/U1FQFBATYbuHh4Q7vEwAqO0IyAFQCzz33nMaMGaP+/furVatWeuyxxzRy5EilpqZKkkJDQyVJeXl5do/Ly8uz7QsNDdWxY8fs9peVlenkyZO2NpeTkpKigoIC2+3gwYMVOTQAqJIIyQBQCZw9e1Zubva/kt3d3WW1WiVJUVFRCg0NVUZGhm1/YWGh1q1bp5iYGElSTEyM8vPztWnTJlub5cuXy2q1qmPHjr/bt5eXl/z9/e1uAFDTMScZACqBBx54QBMmTFBERIRuvfVWbdmyRW+//bYGDx4sSbJYLBoxYoRef/11NWnSRFFRURo7dqzCwsLUu3dvSVLz5s117733aujQoZo2bZpKS0uVlJSk/v37/+GVLQAAFxCSAaASeO+99zR27Fg9/fTTOnbsmMLCwvTkk09q3LhxtjbPP/+8ioqK9MQTTyg/P19dunTR0qVL5e3tbWsze/ZsJSUlqXv37nJzc1Pfvn01efJkVwwJAKo01kkGANhh7VSgZuC9fmXMSQYAAABMCMkAAACACSEZAAAAMCEkAwAAACaEZAAAAMCEkAwAAACYEJIBAAAAE0IyAAAAYEJIBgAAAEwIyQAAAIAJIRkAAAAwISQDAAAAJoRkAAAAwISQDAAAAJgQkgEAAAATQjIAAABgQkgGAAAATAjJAAAAgAkhGQAAADAhJAMAAAAmhGQAAADAhJAMAAAAmBCSAQAAABNCMgAAAGBCSAYAAABMCMkAAACACSEZAAAAMCEkAwAAACaEZAAAAMCEkAwAAACYEJIBAAAAE0IyAAAAYEJIBgAAAEwIyQAAAIAJIRkAAAAwISQDAAAAJoRkAAAAwISQDAAAAJgQkgEAAAATQjIAOMGqVav0wAMPKCwsTBaLRQsWLLDbbxiGxo0bp4YNG8rHx0dxcXHau3evXZuTJ08qISFB/v7+CgwM1JAhQ3TmzBm7Ntu2bdMdd9whb29vhYeHa9KkSY4eGgBUS4RkAHCCoqIiRUdHa+rUqZfdP2nSJE2ePFnTpk3TunXrVLt2bcXHx+v8+fO2NgkJCdq5c6fS09O1ePFirVq1Sk888YRtf2Fhoe655x41btxYmzZt0ltvvaVXXnlFH374ocPHBwDVjcUwDMPVRQBATWKxWDR//nz17t1b0oWjyGFhYRo1apRGjx4tSSooKFBISIhmzZql/v37a9euXWrRooU2bNigdu3aSZKWLl2q++67T4cOHVJYWJg++OADvfTSS8rNzZWnp6ckacyYMVqwYIF27979h+srLCxUQECACgoK5O/vX7GDB1Bp8F6/Mo4kA4CL7d+/X7m5uYqLi7NtCwgIUMeOHZWZmSlJyszMVGBgoC0gS1JcXJzc3Ny0bt06W5s777zTFpAlKT4+XtnZ2Tp16pSTRgMA1YOHqwsAgJouNzdXkhQSEmK3PSQkxLYvNzdXwcHBdvs9PDwUFBRk1yYqKuqS57i4r27dupftv7i4WMXFxbb7BQUFki4cZQJQfV18jzOp4PIIyQBQw6WmpurVV1+9ZHt4eLgLqgHgbCdOnFBAQICry6h0CMkA4GKhoaGSpLy8PDVs2NC2PS8vT61bt7a1OXbsmN3jysrKdPLkSdvjQ0NDlZeXZ9fm4v2LbS4nJSVFycnJtvv5+flq3LixcnJyqvR/nIWFhQoPD9fBgwer9HxLxlG5VJdxSBc+NYqIiFBQUJCrS6mUCMkA4GJRUVEKDQ1VRkaGLRQXFhZq3bp1GjZsmCQpJiZG+fn52rRpk9q2bStJWr58uaxWqzp27Ghr89JLL6m0tFS1atWSJKWnp6tp06a/O9VCkry8vOTl5XXJ9oCAgCofAiTJ39+fcVQijKPycXPjFLXL4bsCAE5w5swZZWVlKSsrS9KFk/WysrKUk5Mji8WiESNG6PXXX9eiRYu0fft2DRgwQGFhYbYVMJo3b657771XQ4cO1fr16/Xf//5XSUlJ6t+/v8LCwiRJjzzyiDw9PTVkyBDt3LlTc+fO1T//+U+7o8QAgD+GI8kA4AQbN25Ut27dbPcvBteBAwdq1qxZev7551VUVKQnnnhC+fn56tKli5YuXSpvb2/bY2bPnq2kpCR1795dbm5u6tu3ryZPnmzbHxAQoG+//VaJiYlq27at6tevr3HjxtmtpQwA+GMIyQDgBF27dr3iGeQWi0Xjx4/X+PHjf7dNUFCQ0tLSrtjPbbfdph9++OGa65QuTL94+eWXLzsFoyphHJUL46h8qtNYHIGLiQAAAAAmzEkGAAAATAjJAAAAgAkhGQAAADAhJAMAAAAmhGQAgM3UqVMVGRkpb29vdezYUevXr3d1SXZSU1PVvn17+fn5KTg4WL1791Z2drZdm/PnzysxMVH16tVTnTp11Ldv30uuRJiTk6OePXvK19dXwcHBeu6551RWVubModiZOHGibb3si6rKOA4fPqxHH31U9erVk4+Pj1q1aqWNGzfa9huGoXHjxqlhw4by8fFRXFyc9u7da/ccJ0+eVEJCgvz9/RUYGKghQ4bozJkzThtDeXm5xo4dq6ioKPn4+Oimm27Sa6+9ZrciTWUdx6pVq/TAAw8oLCxMFotFCxYssNtfUXVv27ZNd9xxh7y9vRUeHq5JkyY5dFyVggEAgGEYc+bMMTw9PY1PPvnE2LlzpzF06FAjMDDQyMvLc3VpNvHx8cbMmTONHTt2GFlZWcZ9991nREREGGfOnLG1eeqpp4zw8HAjIyPD2Lhxo9GpUycjNjbWtr+srMxo2bKlERcXZ2zZssX4+uuvjfr16xspKSmuGJKxfv16IzIy0rjtttuMZ5991ra9Kozj5MmTRuPGjY1BgwYZ69atM37++Wdj2bJlxk8//WRrM3HiRCMgIMBYsGCBsXXrVuPBBx80oqKijHPnztna3HvvvUZ0dLSxdu1a44cffjBuvvlm4+GHH3baOCZMmGDUq1fPWLx4sbF//35j3rx5Rp06dYx//vOflX4cX3/9tfHSSy8Z//73vw1Jxvz58+32V0TdBQUFRkhIiJGQkGDs2LHD+OKLLwwfHx9j+vTpDh2bqxGSAQCGYRhGhw4djMTERNv98vJyIywszEhNTXVhVVd27NgxQ5KxcuVKwzAMIz8/36hVq5Yxb948W5tdu3YZkozMzEzDMC6ECjc3NyM3N9fW5oMPPjD8/f2N4uJip9Z/+vRpo0mTJkZ6erpx11132UJyVRnHCy+8YHTp0uV391utViM0NNR46623bNvy8/MNLy8v44svvjAMwzB+/PFHQ5KxYcMGW5tvvvnGsFgsxuHDhx1X/G/07NnTGDx4sN22Pn36GAkJCYZhVJ1xmENyRdX9/vvvG3Xr1rX7uXrhhReMpk2bOnhErsV0CwCASkpKtGnTJsXFxdm2ubm5KS4uTpmZmS6s7MoKCgokXbjQiiRt2rRJpaWlduNo1qyZIiIibOPIzMxUq1atFBISYmsTHx+vwsJC7dy504nVS4mJierZs6ddvVLVGceiRYvUrl079evXT8HBwWrTpo1mzJhh279//37l5ubajSMgIEAdO3a0G0dgYKDatWtnaxMXFyc3NzetW7fOKeOIjY1VRkaG9uzZI0naunWrVq9erR49elSpcZhVVN2ZmZm688475enpaWsTHx+v7OxsnTp1ykmjcT6uuAcA0K+//qry8nK7wCVJISEh2r17t4uqujKr1aoRI0aoc+fOatmypSQpNzdXnp6eCgwMtGsbEhKi3NxcW5vLjfPiPmeZM2eONm/erA0bNlyyr6qM4+eff9YHH3yg5ORkvfjii9qwYYOeeeYZeXp6auDAgbY6Llfnb8cRHBxst9/Dw0NBQUFOG8eYMWNUWFioZs2ayd3dXeXl5ZowYYISEhJsNV6s+7cq2zjMKqru3NxcRUVFXfIcF/fVrVvXIfW7GiEZAFAlJSYmaseOHVq9erWrS7lqBw8e1LPPPqv09HR5e3u7upxrZrVa1a5dO73xxhuSpDZt2mjHjh2aNm2aBg4c6OLq/rgvv/xSs2fPVlpamm699VZlZWVpxIgRCgsLq1LjQMViugUAQPXr15e7u/slqyfk5eUpNDTURVX9vqSkJC1evFjff/+9GjVqZNseGhqqkpIS5efn27X/7ThCQ0MvO86L+5xh06ZNOnbsmG6//XZ5eHjIw8NDK1eu1OTJk+Xh4aGQkJAqMY6GDRuqRYsWdtuaN2+unJwcuzqu9HMVGhqqY8eO2e0vKyvTyZMnnTaO5557TmPGjFH//v3VqlUrPfbYYxo5cqRSU1NtNV6s+7cq2zjMKqruyvCz5gqEZACAPD091bZtW2VkZNi2Wa1WZWRkKCYmxoWV2TMMQ0lJSZo/f76WL19+yUfAbdu2Va1atezGkZ2drZycHNs4YmJitH37drtgkJ6eLn9//0sCn6N0795d27dvV1ZWlu3Wrl07JSQk2L6uCuPo3LnzJUvw7dmzR40bN5YkRUVFKTQ01G4chYWFWrdund048vPztWnTJlub5cuXy2q1qmPHjk4YhXT27Fm5udlHInd3d1mtVklVZxxmFVV3TEyMVq1apdLSUlub9PR0NW3atNpOtZDEEnAAgAvmzJljeHl5GbNmzTJ+/PFH44knnjACAwPtVk9wtWHDhhkBAQHGihUrjKNHj9puZ8+etbV56qmnjIiICGP58uXGxo0bjZiYGCMmJsa2/+LSaffcc4+RlZVlLF261GjQoIHLloC76LerWxhG1RjH+vXrDQ8PD2PChAnG3r17jdmzZxu+vr7G559/bmszceJEIzAw0Fi4cKGxbds2o1evXpddgqxNmzbGunXrjNWrVxtNmjRx6hJwAwcONG644QbbEnD//ve/jfr16xvPP/98pR/H6dOnjS1bthhbtmwxJBlvv/22sWXLFuPAgQMVVnd+fr4REhJiPPbYY8aOHTuMOXPmGL6+viwBBwCoOd577z0jIiLC8PT0NDp06GCsXbvW1SXZkXTZ28yZM21tzp07Zzz99NNG3bp1DV9fX+PPf/6zcfToUbvn+eWXX4wePXoYPj4+Rv369Y1Ro0YZpaWlTh6NPXNIrirj+M9//mO0bNnS8PLyMpo1a2Z8+OGHdvutVqsxduxYIyQkxPDy8jK6d+9uZGdn27U5ceKE8fDDDxt16tQx/P39jccff9w4ffq008ZQWFhoPPvss0ZERITh7e1t3HjjjcZLL71kt+RZZR3H999/f9n3xMCBAyu07q1btxpdunQxvLy8jBtuuMGYOHGiQ8dVGVgM4zeXkwEAAADAnGQAAADAjJAMAAAAmBCSAQAAABNCMgAAAGBCSAYAAABMCMkAAACACSEZAAAAMCEkAwAAACaEZAAAaqDy8nLFxsaqT58+dtsLCgoUHh6ul156yUWVAZUDV9wDAKCG2rNnj1q3bq0ZM2YoISFBkjRgwABt3bpVGzZskKenp4srBFyHkAwAQA02efJkvfLKK9q5c6fWr1+vfv36acOGDYqOjnZ1aYBLEZIBAKjBDMPQ3XffLXd3d23fvl3Dhw/X3/72N1eXBbgcIRkAgBpu9+7dat68uVq1aqXNmzfLw8PD1SUBLseJewAA1HCffPKJfH19tX//fh06dMjV5QCVAkeSAQCowdasWaO77rpL3377rV5//XVJ0nfffSeLxeLiygDX4kgyAAA11NmzZzVo0CANGzZM3bp108cff6z169dr2rRpri4NcDmOJAMAUEM9++yz+vrrr7V161b5+vpKkqZPn67Ro0dr+/btioyMdG2BgAsRkgEAqIFWrlyp7t27a8WKFerSpYvdvvj4eJWVlTHtAjUaIRkAAAAwYU4yAAAAYEJIBgAAAEwIyQAAAIAJIRkAAAAwISQDAAAAJoRkAAAAwISQDAAAAJgQkgEAAAATQjIAAABgQkgGAAAATAjJAAAAgAkhGQAAADAhJAMAAAAm/x9Oi9l1UmYyJAAAAABJRU5ErkJggg==' width=713.0/>\n",
       "            </div>\n",
       "        "
      ],
      "text/plain": [
       "Canvas(toolbar=Toolbar(toolitems=[('Home', 'Reset original view', 'home', 'home'), ('Back', 'Back to previous …"
      ]
     },
     "metadata": {},
     "output_type": "display_data"
    }
   ],
   "source": [
    "%matplotlib widget\n",
    "fig = plt.figure(3)\n",
    "fig.clear()\n",
    "ax = axes_3d(fig, loc=121,\n",
    "             xlim=(-3, 3), ylim=(-3, 3), zlim=(0, 2))\n",
    "ax.set_zlim(0, 2)\n",
    "ax.set_aspect('equal', 'box')\n",
    "draw_3d_pose(ax, world_3d, dataset='limb')\n",
    "draw_3d_pose(ax, img_3d, dataset='limb')\n",
    "\n",
    "cam_id = '54138969'\n",
    "cam_param[camera_id]['frame'].draw3d()\n",
    "ax2 = axes_2d(fig, loc=122)\n",
    "img = get_2d_pose_image(img_2d, H=1000, W=1000, dataset='limb')\n",
    "ax2.imshow(img)\n",
    "ax2.plot(box[0], box[1], 'r-')\n",
    "plt.show()"
   ]
  },
  {
   "cell_type": "markdown",
   "metadata": {},
   "source": [
    "### generate pkl for each sample"
   ]
  },
  {
   "cell_type": "code",
   "execution_count": 10,
   "metadata": {},
   "outputs": [
    {
     "name": "stderr",
     "output_type": "stream",
     "text": [
      "  0%|          | 0/10000 [00:00<?, ?it/s]"
     ]
    },
    {
     "name": "stderr",
     "output_type": "stream",
     "text": [
      " 40%|████      | 4000/10000 [12:38:24<18:57:36, 11.38s/it]\n"
     ]
    },
    {
     "ename": "KeyboardInterrupt",
     "evalue": "",
     "output_type": "error",
     "traceback": [
      "\u001b[0;31m---------------------------------------------------------------------------\u001b[0m",
      "\u001b[0;31mKeyboardInterrupt\u001b[0m                         Traceback (most recent call last)",
      "Cell \u001b[0;32mIn[10], line 68\u001b[0m\n\u001b[1;32m     65\u001b[0m img_3d_hat \u001b[38;5;241m=\u001b[39m get_rootrel_pose(img_3d) \u001b[38;5;66;03m# (3, 3) # root-relative pose \u001b[39;00m\n\u001b[1;32m     67\u001b[0m \u001b[38;5;66;03m# 2.5d factor\u001b[39;00m\n\u001b[0;32m---> 68\u001b[0m pred_lambda, losses \u001b[38;5;241m=\u001b[39m \u001b[43moptimize_scaling_factor\u001b[49m\u001b[43m(\u001b[49m\u001b[43mimg_3d_hat\u001b[49m\u001b[43m,\u001b[49m\u001b[43m \u001b[49m\u001b[43mcam_3d_hat\u001b[49m\u001b[43m,\u001b[49m\u001b[43m \u001b[49m\u001b[43mstop_tolerance\u001b[49m\u001b[38;5;241;43m=\u001b[39;49m\u001b[38;5;241;43m0.0001\u001b[39;49m\u001b[43m)\u001b[49m \u001b[38;5;66;03m# x,y,z 사용\u001b[39;00m\n\u001b[1;32m     70\u001b[0m \u001b[38;5;66;03m# joint 2.5d image\u001b[39;00m\n\u001b[1;32m     71\u001b[0m img_25d \u001b[38;5;241m=\u001b[39m img_3d \u001b[38;5;241m*\u001b[39m pred_lambda\n",
      "File \u001b[0;32m~/codes/PoseAdaptor/my_utils/test_utils.py:1158\u001b[0m, in \u001b[0;36moptimize_scaling_factor\u001b[0;34m(cam_cs_hat, img_cs_hat, epochs, learningRate, stop_tolerance)\u001b[0m\n\u001b[1;32m   1155\u001b[0m optimizer\u001b[38;5;241m.\u001b[39mzero_grad()\n\u001b[1;32m   1157\u001b[0m \u001b[38;5;66;03m# get output from the model, given the inputs\u001b[39;00m\n\u001b[0;32m-> 1158\u001b[0m outputs \u001b[38;5;241m=\u001b[39m \u001b[43mmodel\u001b[49m\u001b[43m(\u001b[49m\u001b[43minputs\u001b[49m\u001b[43m)\u001b[49m\n\u001b[1;32m   1160\u001b[0m \u001b[38;5;66;03m# get loss for the predicted output\u001b[39;00m\n\u001b[1;32m   1161\u001b[0m loss \u001b[38;5;241m=\u001b[39m criterion(outputs, labels)\n",
      "File \u001b[0;32m~/miniconda3/envs/motionbert/lib/python3.9/site-packages/torch/nn/modules/module.py:1130\u001b[0m, in \u001b[0;36mModule._call_impl\u001b[0;34m(self, *input, **kwargs)\u001b[0m\n\u001b[1;32m   1126\u001b[0m \u001b[38;5;66;03m# If we don't have any hooks, we want to skip the rest of the logic in\u001b[39;00m\n\u001b[1;32m   1127\u001b[0m \u001b[38;5;66;03m# this function, and just call forward.\u001b[39;00m\n\u001b[1;32m   1128\u001b[0m \u001b[38;5;28;01mif\u001b[39;00m \u001b[38;5;129;01mnot\u001b[39;00m (\u001b[38;5;28mself\u001b[39m\u001b[38;5;241m.\u001b[39m_backward_hooks \u001b[38;5;129;01mor\u001b[39;00m \u001b[38;5;28mself\u001b[39m\u001b[38;5;241m.\u001b[39m_forward_hooks \u001b[38;5;129;01mor\u001b[39;00m \u001b[38;5;28mself\u001b[39m\u001b[38;5;241m.\u001b[39m_forward_pre_hooks \u001b[38;5;129;01mor\u001b[39;00m _global_backward_hooks\n\u001b[1;32m   1129\u001b[0m         \u001b[38;5;129;01mor\u001b[39;00m _global_forward_hooks \u001b[38;5;129;01mor\u001b[39;00m _global_forward_pre_hooks):\n\u001b[0;32m-> 1130\u001b[0m     \u001b[38;5;28;01mreturn\u001b[39;00m \u001b[43mforward_call\u001b[49m\u001b[43m(\u001b[49m\u001b[38;5;241;43m*\u001b[39;49m\u001b[38;5;28;43minput\u001b[39;49m\u001b[43m,\u001b[49m\u001b[43m \u001b[49m\u001b[38;5;241;43m*\u001b[39;49m\u001b[38;5;241;43m*\u001b[39;49m\u001b[43mkwargs\u001b[49m\u001b[43m)\u001b[49m\n\u001b[1;32m   1131\u001b[0m \u001b[38;5;66;03m# Do not call functions when jit is used\u001b[39;00m\n\u001b[1;32m   1132\u001b[0m full_backward_hooks, non_full_backward_hooks \u001b[38;5;241m=\u001b[39m [], []\n",
      "File \u001b[0;32m~/codes/PoseAdaptor/my_utils/test_utils.py:1128\u001b[0m, in \u001b[0;36moptimize_scaling_factor.<locals>.linearRegression.forward\u001b[0;34m(self, x)\u001b[0m\n\u001b[1;32m   1127\u001b[0m \u001b[38;5;28;01mdef\u001b[39;00m \u001b[38;5;21mforward\u001b[39m(\u001b[38;5;28mself\u001b[39m, x):\n\u001b[0;32m-> 1128\u001b[0m     out \u001b[38;5;241m=\u001b[39m \u001b[38;5;28;43mself\u001b[39;49m\u001b[38;5;241;43m.\u001b[39;49m\u001b[43mlinear\u001b[49m\u001b[43m(\u001b[49m\u001b[43mx\u001b[49m\u001b[43m)\u001b[49m\n\u001b[1;32m   1129\u001b[0m     \u001b[38;5;28;01mreturn\u001b[39;00m out\n",
      "File \u001b[0;32m~/miniconda3/envs/motionbert/lib/python3.9/site-packages/torch/nn/modules/module.py:1130\u001b[0m, in \u001b[0;36mModule._call_impl\u001b[0;34m(self, *input, **kwargs)\u001b[0m\n\u001b[1;32m   1126\u001b[0m \u001b[38;5;66;03m# If we don't have any hooks, we want to skip the rest of the logic in\u001b[39;00m\n\u001b[1;32m   1127\u001b[0m \u001b[38;5;66;03m# this function, and just call forward.\u001b[39;00m\n\u001b[1;32m   1128\u001b[0m \u001b[38;5;28;01mif\u001b[39;00m \u001b[38;5;129;01mnot\u001b[39;00m (\u001b[38;5;28mself\u001b[39m\u001b[38;5;241m.\u001b[39m_backward_hooks \u001b[38;5;129;01mor\u001b[39;00m \u001b[38;5;28mself\u001b[39m\u001b[38;5;241m.\u001b[39m_forward_hooks \u001b[38;5;129;01mor\u001b[39;00m \u001b[38;5;28mself\u001b[39m\u001b[38;5;241m.\u001b[39m_forward_pre_hooks \u001b[38;5;129;01mor\u001b[39;00m _global_backward_hooks\n\u001b[1;32m   1129\u001b[0m         \u001b[38;5;129;01mor\u001b[39;00m _global_forward_hooks \u001b[38;5;129;01mor\u001b[39;00m _global_forward_pre_hooks):\n\u001b[0;32m-> 1130\u001b[0m     \u001b[38;5;28;01mreturn\u001b[39;00m \u001b[43mforward_call\u001b[49m\u001b[43m(\u001b[49m\u001b[38;5;241;43m*\u001b[39;49m\u001b[38;5;28;43minput\u001b[39;49m\u001b[43m,\u001b[49m\u001b[43m \u001b[49m\u001b[38;5;241;43m*\u001b[39;49m\u001b[38;5;241;43m*\u001b[39;49m\u001b[43mkwargs\u001b[49m\u001b[43m)\u001b[49m\n\u001b[1;32m   1131\u001b[0m \u001b[38;5;66;03m# Do not call functions when jit is used\u001b[39;00m\n\u001b[1;32m   1132\u001b[0m full_backward_hooks, non_full_backward_hooks \u001b[38;5;241m=\u001b[39m [], []\n",
      "File \u001b[0;32m~/miniconda3/envs/motionbert/lib/python3.9/site-packages/torch/nn/modules/linear.py:114\u001b[0m, in \u001b[0;36mLinear.forward\u001b[0;34m(self, input)\u001b[0m\n\u001b[1;32m    113\u001b[0m \u001b[38;5;28;01mdef\u001b[39;00m \u001b[38;5;21mforward\u001b[39m(\u001b[38;5;28mself\u001b[39m, \u001b[38;5;28minput\u001b[39m: Tensor) \u001b[38;5;241m-\u001b[39m\u001b[38;5;241m>\u001b[39m Tensor:\n\u001b[0;32m--> 114\u001b[0m     \u001b[38;5;28;01mreturn\u001b[39;00m \u001b[43mF\u001b[49m\u001b[38;5;241;43m.\u001b[39;49m\u001b[43mlinear\u001b[49m\u001b[43m(\u001b[49m\u001b[38;5;28;43minput\u001b[39;49m\u001b[43m,\u001b[49m\u001b[43m \u001b[49m\u001b[38;5;28;43mself\u001b[39;49m\u001b[38;5;241;43m.\u001b[39;49m\u001b[43mweight\u001b[49m\u001b[43m,\u001b[49m\u001b[43m \u001b[49m\u001b[38;5;28;43mself\u001b[39;49m\u001b[38;5;241;43m.\u001b[39;49m\u001b[43mbias\u001b[49m\u001b[43m)\u001b[49m\n",
      "\u001b[0;31mKeyboardInterrupt\u001b[0m: "
     ]
    }
   ],
   "source": [
    "# sampling \n",
    "seed = 0\n",
    "random.seed(seed)\n",
    "total_num_data = 10000\n",
    "\n",
    "camera_param = {}\n",
    "for camera_id in ['54138969', '55011271', '58860488', '60457274']:\n",
    "    calibration_matrix = np.array(cam_param[camera_id]['int']['calibration_matrix'])\n",
    "    R = np.array(cam_param[camera_id]['ext']['R'])\n",
    "    t = np.array(cam_param[camera_id]['ext']['t']) * 0.001\n",
    "    camera_param[camera_id] = {\n",
    "        'intrinsic': calibration_matrix,\n",
    "        'extrinsic': np.concatenate([R, t.reshape(3, 1)], axis=1),\n",
    "        'fx': calibration_matrix[0, 0],\n",
    "        'fy': calibration_matrix[1, 1],\n",
    "        'cx': calibration_matrix[0, 2],\n",
    "        'cy': calibration_matrix[1, 2],\n",
    "    }\n",
    "\n",
    "save_folder = '/home/hrai/codes/MotionBERT/data/motion3d/random_limb_pkl'\n",
    "if not os.path.exists(save_folder):\n",
    "    os.makedirs(save_folder)\n",
    "\n",
    "for i in tqdm(range(total_num_data)):\n",
    "    save_path = save_folder + '/seed{}_{}.pkl'.format(seed, i)\n",
    "\n",
    "    data = {}\n",
    "    for key in ['joint_2d', 'confidence', 'joint3d_image', 'joints_2.5d_image', '2.5d_factor', 'camera_name', 'action', 'source', 'frame', 'world_3d', 'cam_3d', 'cam_param']:\n",
    "        data[key] = []\n",
    "\n",
    "    root_point_traj_num = random.randint(0, len(root_point_traj_list)-1)\n",
    "    upper_vector_traj_num = random.randint(0, len(upper_vector_traj_list)-1)\n",
    "    under_vector_traj_num = random.randint(0, len(under_vector_traj_list)-1)\n",
    "\n",
    "    root_point_start_idx = random.randint(0, len(root_point_traj_list)-243)\n",
    "    upper_vector_start_idx = random.randint(0, len(upper_vector_traj_list)-243)\n",
    "    under_vector_start_idx = random.randint(0, len(under_vector_traj_list)-243)\n",
    "\n",
    "    if os.path.exists(save_path): continue # locate here to keep the randoom seed consistent\n",
    "\n",
    "    root_point_traj = root_point_traj_list[root_point_traj_num][root_point_start_idx:root_point_start_idx+243]\n",
    "    upper_vector_traj = upper_vector_traj_list[upper_vector_traj_num][upper_vector_start_idx:upper_vector_start_idx+243] + root_point_traj\n",
    "    under_vector_traj = under_vector_traj_list[under_vector_traj_num][under_vector_start_idx:under_vector_start_idx+243] + upper_vector_traj\n",
    "\n",
    "    limb_trajectory = np.stack([root_point_traj, upper_vector_traj, under_vector_traj], axis=1)\n",
    "    \n",
    "    for camera_id in ['54138969', '55011271', '58860488', '60457274']:\n",
    "        fx = camera_param[camera_id]['fx']\n",
    "        fy = camera_param[camera_id]['fy']\n",
    "        cx = camera_param[camera_id]['cx']\n",
    "        cy = camera_param[camera_id]['cy']\n",
    "        for frame_num in range(len(limb_trajectory)):\n",
    "            # joint3d_image\n",
    "            world_3d = np.array(limb_trajectory[frame_num])\n",
    "\n",
    "            # world to camera\n",
    "            pos = copy.deepcopy(world_3d)\n",
    "            cam_3d = World2CameraCoordinate(pos, camera_param[camera_id]['extrinsic']) # World coordinate -> Camera coordinate\n",
    "            cam_3d_hat = get_rootrel_pose(cam_3d)\n",
    "\n",
    "            # camera to image\n",
    "            box = infer_box(cam_3d, {'fx': fx, 'fy': fy, 'cx': cx, 'cy': cy}, 0)\n",
    "            img_2d, img_3d = camera_to_image_frame(cam_3d, box, {'fx': fx, 'fy': fy, 'cx': cx, 'cy': cy}, 0) \n",
    "            #img_2d_hat = get_rootrel_pose(img_2d) # (3, 2) # root-relative pose \n",
    "            img_3d_hat = get_rootrel_pose(img_3d) # (3, 3) # root-relative pose \n",
    "\n",
    "            # 2.5d factor\n",
    "            pred_lambda, losses = optimize_scaling_factor(img_3d_hat, cam_3d_hat, stop_tolerance=0.0001) # x,y,z 사용\n",
    "\n",
    "            # joint 2.5d image\n",
    "            img_25d = img_3d * pred_lambda\n",
    "            #img_25d_hat = get_rootrel_pose(img_25d)\n",
    "\n",
    "            source = 'seed{}_{}'.format(seed, i)\n",
    "\n",
    "            # store\n",
    "            data['joint_2d'].append(np.array(img_2d).copy()) \n",
    "            data['confidence'].append(np.ones(3)) \n",
    "            data['joint3d_image'].append(np.array(img_3d).copy()) \n",
    "            data['joints_2.5d_image'].append(np.array(img_25d).copy()) \n",
    "            data['2.5d_factor'].append(np.array(pred_lambda).copy()) \n",
    "            data['camera_name'].append(np.array(camera_id).copy()) \n",
    "            data['action'].append(np.array(action).copy()) \n",
    "            data['source'].append(np.array(source).copy()) \n",
    "            data['frame'].append(np.array(frame_num).copy()) \n",
    "            data['world_3d'].append(np.array(world_3d).copy()) \n",
    "            data['cam_3d'].append(np.array(cam_3d).copy()) \n",
    "            data['cam_param'].append(np.array(camera_param[camera_id]).copy()) \n",
    "\n",
    "    # save\n",
    "    savepkl(data, save_path)"
   ]
  },
  {
   "cell_type": "markdown",
   "metadata": {},
   "source": [
    "### Check pkls by generating videos"
   ]
  },
  {
   "cell_type": "code",
   "execution_count": 11,
   "metadata": {},
   "outputs": [
    {
     "name": "stdout",
     "output_type": "stream",
     "text": [
      "0 1620\n",
      "(972, 3, 2)\n"
     ]
    },
    {
     "name": "stderr",
     "output_type": "stream",
     "text": [
      "  0%|          | 0/972 [00:00<?, ?it/s]IMAGEIO FFMPEG_WRITER WARNING: input image is not divisible by macro_block_size=16, resizing from (1000, 1000) to (1008, 1008) to ensure video compatibility with most codecs and players. To prevent resizing, make your input image divisible by the macro_block_size or set the macro_block_size to 1 (risking incompatibility).\n",
      "[swscaler @ 0x6617b40] Warning: data is not aligned! This can lead to a speed loss\n",
      "100%|██████████| 972/972 [00:10<00:00, 91.85it/s] \n"
     ]
    },
    {
     "name": "stdout",
     "output_type": "stream",
     "text": [
      "0 546\n",
      "(972, 3, 2)\n"
     ]
    },
    {
     "name": "stderr",
     "output_type": "stream",
     "text": [
      "  0%|          | 0/972 [00:00<?, ?it/s]IMAGEIO FFMPEG_WRITER WARNING: input image is not divisible by macro_block_size=16, resizing from (1000, 1000) to (1008, 1008) to ensure video compatibility with most codecs and players. To prevent resizing, make your input image divisible by the macro_block_size or set the macro_block_size to 1 (risking incompatibility).\n",
      "[swscaler @ 0x6bfcb40] Warning: data is not aligned! This can lead to a speed loss\n",
      "100%|██████████| 972/972 [00:10<00:00, 93.02it/s] \n"
     ]
    },
    {
     "name": "stdout",
     "output_type": "stream",
     "text": [
      "0 1222\n",
      "(972, 3, 2)\n"
     ]
    },
    {
     "name": "stderr",
     "output_type": "stream",
     "text": [
      "  0%|          | 0/972 [00:00<?, ?it/s]IMAGEIO FFMPEG_WRITER WARNING: input image is not divisible by macro_block_size=16, resizing from (1000, 1000) to (1008, 1008) to ensure video compatibility with most codecs and players. To prevent resizing, make your input image divisible by the macro_block_size or set the macro_block_size to 1 (risking incompatibility).\n",
      "[swscaler @ 0x6741b40] Warning: data is not aligned! This can lead to a speed loss\n",
      "100%|██████████| 972/972 [00:09<00:00, 99.47it/s] \n"
     ]
    },
    {
     "name": "stdout",
     "output_type": "stream",
     "text": [
      "0 1296\n",
      "(972, 3, 2)\n"
     ]
    },
    {
     "name": "stderr",
     "output_type": "stream",
     "text": [
      "  0%|          | 0/972 [00:00<?, ?it/s]IMAGEIO FFMPEG_WRITER WARNING: input image is not divisible by macro_block_size=16, resizing from (1000, 1000) to (1008, 1008) to ensure video compatibility with most codecs and players. To prevent resizing, make your input image divisible by the macro_block_size or set the macro_block_size to 1 (risking incompatibility).\n",
      "[swscaler @ 0x5e00b40] Warning: data is not aligned! This can lead to a speed loss\n",
      "100%|██████████| 972/972 [00:10<00:00, 89.86it/s] \n"
     ]
    },
    {
     "name": "stdout",
     "output_type": "stream",
     "text": [
      "0 1509\n",
      "(972, 3, 2)\n"
     ]
    },
    {
     "name": "stderr",
     "output_type": "stream",
     "text": [
      "  0%|          | 0/972 [00:00<?, ?it/s]IMAGEIO FFMPEG_WRITER WARNING: input image is not divisible by macro_block_size=16, resizing from (1000, 1000) to (1008, 1008) to ensure video compatibility with most codecs and players. To prevent resizing, make your input image divisible by the macro_block_size or set the macro_block_size to 1 (risking incompatibility).\n",
      "[swscaler @ 0x6646b40] Warning: data is not aligned! This can lead to a speed loss\n",
      "100%|██████████| 972/972 [00:10<00:00, 96.60it/s] \n"
     ]
    },
    {
     "name": "stdout",
     "output_type": "stream",
     "text": [
      "0 359\n",
      "(972, 3, 2)\n"
     ]
    },
    {
     "name": "stderr",
     "output_type": "stream",
     "text": [
      "  0%|          | 0/972 [00:00<?, ?it/s]IMAGEIO FFMPEG_WRITER WARNING: input image is not divisible by macro_block_size=16, resizing from (1000, 1000) to (1008, 1008) to ensure video compatibility with most codecs and players. To prevent resizing, make your input image divisible by the macro_block_size or set the macro_block_size to 1 (risking incompatibility).\n",
      "[swscaler @ 0x633db40] Warning: data is not aligned! This can lead to a speed loss\n",
      "100%|██████████| 972/972 [00:10<00:00, 89.56it/s] \n"
     ]
    },
    {
     "name": "stdout",
     "output_type": "stream",
     "text": [
      "0 1209\n",
      "(972, 3, 2)\n"
     ]
    },
    {
     "name": "stderr",
     "output_type": "stream",
     "text": [
      "  0%|          | 0/972 [00:00<?, ?it/s]IMAGEIO FFMPEG_WRITER WARNING: input image is not divisible by macro_block_size=16, resizing from (1000, 1000) to (1008, 1008) to ensure video compatibility with most codecs and players. To prevent resizing, make your input image divisible by the macro_block_size or set the macro_block_size to 1 (risking incompatibility).\n",
      "[swscaler @ 0x59d3b40] Warning: data is not aligned! This can lead to a speed loss\n",
      "100%|██████████| 972/972 [00:10<00:00, 91.97it/s] \n"
     ]
    },
    {
     "name": "stdout",
     "output_type": "stream",
     "text": [
      "0 2009\n",
      "(972, 3, 2)\n"
     ]
    },
    {
     "name": "stderr",
     "output_type": "stream",
     "text": [
      "  0%|          | 0/972 [00:00<?, ?it/s]IMAGEIO FFMPEG_WRITER WARNING: input image is not divisible by macro_block_size=16, resizing from (1000, 1000) to (1008, 1008) to ensure video compatibility with most codecs and players. To prevent resizing, make your input image divisible by the macro_block_size or set the macro_block_size to 1 (risking incompatibility).\n",
      "[swscaler @ 0x7262b40] Warning: data is not aligned! This can lead to a speed loss\n",
      "100%|██████████| 972/972 [00:10<00:00, 94.52it/s] \n"
     ]
    },
    {
     "name": "stdout",
     "output_type": "stream",
     "text": [
      "0 3926\n",
      "(972, 3, 2)\n"
     ]
    },
    {
     "name": "stderr",
     "output_type": "stream",
     "text": [
      "  0%|          | 0/972 [00:00<?, ?it/s]IMAGEIO FFMPEG_WRITER WARNING: input image is not divisible by macro_block_size=16, resizing from (1000, 1000) to (1008, 1008) to ensure video compatibility with most codecs and players. To prevent resizing, make your input image divisible by the macro_block_size or set the macro_block_size to 1 (risking incompatibility).\n",
      "[swscaler @ 0x7468b40] Warning: data is not aligned! This can lead to a speed loss\n",
      "100%|██████████| 972/972 [00:10<00:00, 90.42it/s] \n"
     ]
    },
    {
     "name": "stdout",
     "output_type": "stream",
     "text": [
      "0 2952\n",
      "(972, 3, 2)\n"
     ]
    },
    {
     "name": "stderr",
     "output_type": "stream",
     "text": [
      "  0%|          | 0/972 [00:00<?, ?it/s]IMAGEIO FFMPEG_WRITER WARNING: input image is not divisible by macro_block_size=16, resizing from (1000, 1000) to (1008, 1008) to ensure video compatibility with most codecs and players. To prevent resizing, make your input image divisible by the macro_block_size or set the macro_block_size to 1 (risking incompatibility).\n",
      "[swscaler @ 0x5ce6b40] Warning: data is not aligned! This can lead to a speed loss\n",
      "100%|██████████| 972/972 [00:10<00:00, 94.26it/s] \n"
     ]
    },
    {
     "name": "stdout",
     "output_type": "stream",
     "text": [
      "0 3069\n",
      "(972, 3, 2)\n"
     ]
    },
    {
     "name": "stderr",
     "output_type": "stream",
     "text": [
      "  0%|          | 0/972 [00:00<?, ?it/s]IMAGEIO FFMPEG_WRITER WARNING: input image is not divisible by macro_block_size=16, resizing from (1000, 1000) to (1008, 1008) to ensure video compatibility with most codecs and players. To prevent resizing, make your input image divisible by the macro_block_size or set the macro_block_size to 1 (risking incompatibility).\n",
      "[swscaler @ 0x5727b40] Warning: data is not aligned! This can lead to a speed loss\n",
      "100%|██████████| 972/972 [00:10<00:00, 96.24it/s] \n"
     ]
    },
    {
     "name": "stdout",
     "output_type": "stream",
     "text": [
      "0 799\n",
      "(972, 3, 2)\n"
     ]
    },
    {
     "name": "stderr",
     "output_type": "stream",
     "text": [
      "  0%|          | 0/972 [00:00<?, ?it/s]IMAGEIO FFMPEG_WRITER WARNING: input image is not divisible by macro_block_size=16, resizing from (1000, 1000) to (1008, 1008) to ensure video compatibility with most codecs and players. To prevent resizing, make your input image divisible by the macro_block_size or set the macro_block_size to 1 (risking incompatibility).\n",
      "[swscaler @ 0x585fb40] Warning: data is not aligned! This can lead to a speed loss\n",
      "100%|██████████| 972/972 [00:10<00:00, 96.78it/s] \n"
     ]
    },
    {
     "name": "stdout",
     "output_type": "stream",
     "text": [
      "0 2918\n",
      "(972, 3, 2)\n"
     ]
    },
    {
     "name": "stderr",
     "output_type": "stream",
     "text": [
      "  0%|          | 0/972 [00:00<?, ?it/s]IMAGEIO FFMPEG_WRITER WARNING: input image is not divisible by macro_block_size=16, resizing from (1000, 1000) to (1008, 1008) to ensure video compatibility with most codecs and players. To prevent resizing, make your input image divisible by the macro_block_size or set the macro_block_size to 1 (risking incompatibility).\n",
      "[swscaler @ 0x5a60b40] Warning: data is not aligned! This can lead to a speed loss\n",
      "100%|██████████| 972/972 [00:10<00:00, 93.59it/s] \n"
     ]
    },
    {
     "name": "stdout",
     "output_type": "stream",
     "text": [
      "0 3337\n",
      "(972, 3, 2)\n"
     ]
    },
    {
     "name": "stderr",
     "output_type": "stream",
     "text": [
      "  0%|          | 0/972 [00:00<?, ?it/s]IMAGEIO FFMPEG_WRITER WARNING: input image is not divisible by macro_block_size=16, resizing from (1000, 1000) to (1008, 1008) to ensure video compatibility with most codecs and players. To prevent resizing, make your input image divisible by the macro_block_size or set the macro_block_size to 1 (risking incompatibility).\n",
      "[swscaler @ 0x570cb40] Warning: data is not aligned! This can lead to a speed loss\n",
      "100%|██████████| 972/972 [00:10<00:00, 93.78it/s] \n"
     ]
    },
    {
     "name": "stdout",
     "output_type": "stream",
     "text": [
      "0 2574\n",
      "(972, 3, 2)\n"
     ]
    },
    {
     "name": "stderr",
     "output_type": "stream",
     "text": [
      "  0%|          | 0/972 [00:00<?, ?it/s]IMAGEIO FFMPEG_WRITER WARNING: input image is not divisible by macro_block_size=16, resizing from (1000, 1000) to (1008, 1008) to ensure video compatibility with most codecs and players. To prevent resizing, make your input image divisible by the macro_block_size or set the macro_block_size to 1 (risking incompatibility).\n",
      "[swscaler @ 0x5d36b40] Warning: data is not aligned! This can lead to a speed loss\n",
      "100%|██████████| 972/972 [00:10<00:00, 93.16it/s] \n"
     ]
    },
    {
     "name": "stdout",
     "output_type": "stream",
     "text": [
      "0 3479\n",
      "(972, 3, 2)\n"
     ]
    },
    {
     "name": "stderr",
     "output_type": "stream",
     "text": [
      "  0%|          | 0/972 [00:00<?, ?it/s]IMAGEIO FFMPEG_WRITER WARNING: input image is not divisible by macro_block_size=16, resizing from (1000, 1000) to (1008, 1008) to ensure video compatibility with most codecs and players. To prevent resizing, make your input image divisible by the macro_block_size or set the macro_block_size to 1 (risking incompatibility).\n",
      "[swscaler @ 0x65bfb40] Warning: data is not aligned! This can lead to a speed loss\n",
      "100%|██████████| 972/972 [00:10<00:00, 93.26it/s] \n"
     ]
    },
    {
     "name": "stdout",
     "output_type": "stream",
     "text": [
      "0 205\n",
      "(972, 3, 2)\n"
     ]
    },
    {
     "name": "stderr",
     "output_type": "stream",
     "text": [
      "  0%|          | 0/972 [00:00<?, ?it/s]IMAGEIO FFMPEG_WRITER WARNING: input image is not divisible by macro_block_size=16, resizing from (1000, 1000) to (1008, 1008) to ensure video compatibility with most codecs and players. To prevent resizing, make your input image divisible by the macro_block_size or set the macro_block_size to 1 (risking incompatibility).\n",
      "[swscaler @ 0x6e9eb40] Warning: data is not aligned! This can lead to a speed loss\n",
      "100%|██████████| 972/972 [00:10<00:00, 93.99it/s] \n"
     ]
    },
    {
     "name": "stdout",
     "output_type": "stream",
     "text": [
      "0 2709\n",
      "(972, 3, 2)\n"
     ]
    },
    {
     "name": "stderr",
     "output_type": "stream",
     "text": [
      "  0%|          | 0/972 [00:00<?, ?it/s]IMAGEIO FFMPEG_WRITER WARNING: input image is not divisible by macro_block_size=16, resizing from (1000, 1000) to (1008, 1008) to ensure video compatibility with most codecs and players. To prevent resizing, make your input image divisible by the macro_block_size or set the macro_block_size to 1 (risking incompatibility).\n",
      "[swscaler @ 0x61eeb40] Warning: data is not aligned! This can lead to a speed loss\n",
      "100%|██████████| 972/972 [00:10<00:00, 94.51it/s] \n"
     ]
    },
    {
     "name": "stdout",
     "output_type": "stream",
     "text": [
      "0 2188\n",
      "(972, 3, 2)\n"
     ]
    },
    {
     "name": "stderr",
     "output_type": "stream",
     "text": [
      "  0%|          | 0/972 [00:00<?, ?it/s]IMAGEIO FFMPEG_WRITER WARNING: input image is not divisible by macro_block_size=16, resizing from (1000, 1000) to (1008, 1008) to ensure video compatibility with most codecs and players. To prevent resizing, make your input image divisible by the macro_block_size or set the macro_block_size to 1 (risking incompatibility).\n",
      "[swscaler @ 0x7042b40] Warning: data is not aligned! This can lead to a speed loss\n",
      "100%|██████████| 972/972 [00:10<00:00, 90.47it/s] \n"
     ]
    },
    {
     "name": "stdout",
     "output_type": "stream",
     "text": [
      "0 1316\n",
      "(972, 3, 2)\n"
     ]
    },
    {
     "name": "stderr",
     "output_type": "stream",
     "text": [
      "  0%|          | 0/972 [00:00<?, ?it/s]IMAGEIO FFMPEG_WRITER WARNING: input image is not divisible by macro_block_size=16, resizing from (1000, 1000) to (1008, 1008) to ensure video compatibility with most codecs and players. To prevent resizing, make your input image divisible by the macro_block_size or set the macro_block_size to 1 (risking incompatibility).\n",
      "[swscaler @ 0x70a1b40] Warning: data is not aligned! This can lead to a speed loss\n",
      "100%|██████████| 972/972 [00:10<00:00, 92.22it/s] \n",
      "/home/hrai/codes/PoseAdaptor/my_utils/visualization.py:451: RuntimeWarning: More than 20 figures have been opened. Figures created through the pyplot interface (`matplotlib.pyplot.figure`) are retained until explicitly closed and may consume too much memory. (To control this warning, see the rcParam `figure.max_open_warning`). Consider using `matplotlib.pyplot.close()`.\n",
      "  fig = plt.figure()\n"
     ]
    },
    {
     "name": "stdout",
     "output_type": "stream",
     "text": [
      "0 1686\n",
      "(972, 3, 2)\n"
     ]
    },
    {
     "name": "stderr",
     "output_type": "stream",
     "text": [
      "  0%|          | 0/972 [00:00<?, ?it/s]IMAGEIO FFMPEG_WRITER WARNING: input image is not divisible by macro_block_size=16, resizing from (1000, 1000) to (1008, 1008) to ensure video compatibility with most codecs and players. To prevent resizing, make your input image divisible by the macro_block_size or set the macro_block_size to 1 (risking incompatibility).\n",
      "[swscaler @ 0x60cbb40] Warning: data is not aligned! This can lead to a speed loss\n",
      "100%|██████████| 972/972 [00:10<00:00, 92.76it/s] \n"
     ]
    },
    {
     "name": "stdout",
     "output_type": "stream",
     "text": [
      "0 3080\n",
      "(972, 3, 2)\n"
     ]
    },
    {
     "name": "stderr",
     "output_type": "stream",
     "text": [
      "  0%|          | 0/972 [00:00<?, ?it/s]IMAGEIO FFMPEG_WRITER WARNING: input image is not divisible by macro_block_size=16, resizing from (1000, 1000) to (1008, 1008) to ensure video compatibility with most codecs and players. To prevent resizing, make your input image divisible by the macro_block_size or set the macro_block_size to 1 (risking incompatibility).\n",
      "[swscaler @ 0x5fabb40] Warning: data is not aligned! This can lead to a speed loss\n",
      " 91%|█████████ | 881/972 [00:09<00:01, 89.41it/s] Exception ignored in: <bound method IPythonKernel._clean_thread_parent_frames of <ipykernel.ipkernel.IPythonKernel object at 0x7f53231c6fd0>>\n",
      "Traceback (most recent call last):\n",
      "  File \"/home/hrai/miniconda3/envs/motionbert/lib/python3.9/site-packages/ipykernel/ipkernel.py\", line 770, in _clean_thread_parent_frames\n",
      "    def _clean_thread_parent_frames(\n",
      "KeyboardInterrupt: \n",
      "100%|██████████| 972/972 [00:10<00:00, 92.00it/s] \n"
     ]
    },
    {
     "name": "stdout",
     "output_type": "stream",
     "text": [
      "0 587\n",
      "(972, 3, 2)\n"
     ]
    },
    {
     "name": "stderr",
     "output_type": "stream",
     "text": [
      "  0%|          | 0/972 [00:00<?, ?it/s]IMAGEIO FFMPEG_WRITER WARNING: input image is not divisible by macro_block_size=16, resizing from (1000, 1000) to (1008, 1008) to ensure video compatibility with most codecs and players. To prevent resizing, make your input image divisible by the macro_block_size or set the macro_block_size to 1 (risking incompatibility).\n",
      "[swscaler @ 0x6a8ab40] Warning: data is not aligned! This can lead to a speed loss\n",
      "100%|██████████| 972/972 [00:10<00:00, 94.97it/s] \n"
     ]
    },
    {
     "name": "stdout",
     "output_type": "stream",
     "text": [
      "0 637\n",
      "(972, 3, 2)\n"
     ]
    },
    {
     "name": "stderr",
     "output_type": "stream",
     "text": [
      "  0%|          | 0/972 [00:00<?, ?it/s]IMAGEIO FFMPEG_WRITER WARNING: input image is not divisible by macro_block_size=16, resizing from (1000, 1000) to (1008, 1008) to ensure video compatibility with most codecs and players. To prevent resizing, make your input image divisible by the macro_block_size or set the macro_block_size to 1 (risking incompatibility).\n",
      "[swscaler @ 0x554ab40] Warning: data is not aligned! This can lead to a speed loss\n",
      " 23%|██▎       | 226/972 [00:02<00:07, 103.47it/s]"
     ]
    }
   ],
   "source": [
    "for item in glob('/home/hrai/codes/MotionBERT/data/motion3d/random_limb_pkl/seed*_*.pkl'):\n",
    "    data = readpkl(item)\n",
    "    seed = int(item.split('/')[-1].split('_')[0][4:])\n",
    "    num = int(item.split('/')[-1].split('_')[1].split('.')[0])\n",
    "    print(seed, num)\n",
    "    video_path = '/home/hrai/codes/MotionBERT/custom_codes/DHDST/seed{}_{}.mp4'.format(seed, num)\n",
    "    if os.path.exists(video_path): continue\n",
    "    print(np.array(data['joint_2d']).shape)\n",
    "    save_h36m_pose_video(np.array(data['joint_2d']), video_path, dataset='limb', W=1000, H=1000, pose_type='2d', fps=30,\n",
    "                            xlim=(-1, 1), ylim=(-1, 1), zlim=(0, 2), view=(0, 45),\n",
    "                            centered_xy=False, cam_space=False, on_ground=False, refine_tilt=False,  \n",
    "                            dynamic_view=False, dual_view=False,\n",
    "                            imgs=None,\n",
    "                            show_axis=False)"
   ]
  },
  {
   "cell_type": "markdown",
   "metadata": {},
   "source": [
    "### generate total pkl"
   ]
  },
  {
   "cell_type": "code",
   "execution_count": 7,
   "metadata": {},
   "outputs": [
    {
     "name": "stdout",
     "output_type": "stream",
     "text": [
      "1600 400 [1748, 1361, 1671, 865, 1288] [390, 200, 1921, 1082, 1383]\n"
     ]
    }
   ],
   "source": [
    "# split train/test \n",
    "pkl_folder = '/home/hrai/codes/MotionBERT/data/motion3d/random_limb_pkl/'\n",
    "random.seed(0)\n",
    "l = [x for x in range(len(os.listdir(pkl_folder)))][:2000]\n",
    "random.shuffle(l)\n",
    "train_list = l[:int(len(l)*0.8)]\n",
    "test_list = l[int(len(l)*0.8):]\n",
    "print(len(train_list), len(test_list), train_list[:5], test_list[:5])"
   ]
  },
  {
   "cell_type": "code",
   "execution_count": 11,
   "metadata": {},
   "outputs": [
    {
     "name": "stderr",
     "output_type": "stream",
     "text": [
      "100%|██████████| 4000/4000 [00:49<00:00, 80.11it/s] \n"
     ]
    },
    {
     "data": {
      "text/plain": [
       "((1555200, 3, 3), (388800, 3, 3))"
      ]
     },
     "execution_count": 11,
     "metadata": {},
     "output_type": "execute_result"
    }
   ],
   "source": [
    "joint_2ds = {'train': [], 'test': []}\n",
    "confidences = {'train': [], 'test': []}\n",
    "joint3d_images = {'train': [], 'test': []}\n",
    "joints_25d_images = {'train': [], 'test': []}\n",
    "_25d_factors = {'train': [], 'test': []}\n",
    "camera_names = {'train': [], 'test': []}\n",
    "actions = {'train': [], 'test': []}\n",
    "sources = {'train': [], 'test': []}\n",
    "frames = {'train': [], 'test': []}\n",
    "world_3ds = {'train': [], 'test': []}\n",
    "cam_3ds = {'train': [], 'test': []}\n",
    "cam_params = {'train': [], 'test': []}\n",
    "\n",
    "# target \n",
    "\n",
    "#action_list = ['squat', 'pushup', 'kneeup', 'benchpress', 'burpee', 'cat', 'yoga']\n",
    "#test_subject = ['S12', 'S15', 'S18'] # ['S01', 'S02', 'S03', 'S04', 'S05', 'S06', 'S07', 'S08', 'S09', 'S10']\n",
    "#camera_list = [1, 2, 3, 4, 5] # [1, 2, 3, 4, 5]\n",
    "# pelvis, r_hip, l_hip, torso, neck, l_shoulder, r_shoulder = 0, 1, 4, 7, 8, 11, 14\n",
    "# r_knee, r_ankle, l_knee, l_ankle = 2, 3, 5, 6\n",
    "# l_elbow, l_wrist, r_elbow, r_wrist = 12, 13, 15, 16\n",
    "# joint_list = [j for j in range(17)] # [r_knee, r_ankle, l_knee, l_ankle, l_elbow, l_wrist, r_elbow, r_wrist] # [j for j in range(17)]\n",
    "only_test = False\n",
    "\n",
    "blacklist = []\n",
    "\n",
    "for item in tqdm(os.listdir(pkl_folder)):\n",
    "    seed, num = item.split('.')[0].split('seed')[1].split('_')\n",
    "    #print(seed, num)\n",
    "    # filtering\n",
    "    #if action not in action_list: continue \n",
    "    #if int(cam_num) not in camera_list: continue\n",
    "    #if only_test:\n",
    "    #    if subject not in test_subject: continue\n",
    "    #if subject in blacklist: continue\n",
    "    #print(subject, cam_num, action, phase) \n",
    "    \n",
    "    if int(num) in test_list: data_type = 'test'\n",
    "    elif int(num) in train_list: data_type = 'train'\n",
    "    else: continue \n",
    "    \n",
    "    item_path = os.path.join(pkl_folder, item) \n",
    "    data = readpkl(item_path) \n",
    "    \n",
    "    joint_2ds[data_type] += list(np.array(data['joint_2d'])) \n",
    "    confidences[data_type] += list(np.array(data['confidence'])) \n",
    "    joint3d_images[data_type] += list(np.array(data['joint3d_image'])) \n",
    "    joints_25d_images[data_type] += list(np.array(data['joints_2.5d_image'])) \n",
    "    _25d_factors[data_type] += data['2.5d_factor'] \n",
    "    camera_names[data_type] += data['camera_name']  \n",
    "    actions[data_type] += data['action'] \n",
    "    sources[data_type] += data['source'] \n",
    "    frames[data_type] += data['frame'] \n",
    "    world_3ds[data_type] += list(np.array(data['world_3d'])) \n",
    "    cam_3ds[data_type] += list(np.array(data['cam_3d']))\n",
    "    cam_params[data_type] += data['cam_param'] \n",
    "    \n",
    "kookmin_total = {'train': {}, 'test': {}}\n",
    "\n",
    "for data_type in ['train', 'test']:\n",
    "    kookmin_total[data_type]['joint_2d']          = copy.deepcopy(np.array(joint_2ds[data_type]))\n",
    "    kookmin_total[data_type]['confidence']        = copy.deepcopy(np.array(confidences[data_type]))\n",
    "    kookmin_total[data_type]['joint3d_image']     = copy.deepcopy(np.array(joint3d_images[data_type]))\n",
    "    kookmin_total[data_type]['joints_2.5d_image'] = copy.deepcopy(np.array(joints_25d_images[data_type]))\n",
    "    kookmin_total[data_type]['2.5d_factor']       = copy.deepcopy(np.array(_25d_factors[data_type]))\n",
    "    kookmin_total[data_type]['camera_name']       = copy.deepcopy(np.array(camera_names[data_type]))\n",
    "    kookmin_total[data_type]['action']            = copy.deepcopy(np.array(actions[data_type]))\n",
    "    kookmin_total[data_type]['source']            = copy.deepcopy(np.array(sources[data_type]))\n",
    "    kookmin_total[data_type]['frame']             = copy.deepcopy(np.array(frames[data_type]))\n",
    "    kookmin_total[data_type]['world_3d']          = copy.deepcopy(np.array(world_3ds[data_type]))\n",
    "    kookmin_total[data_type]['cam_3d']            = copy.deepcopy(np.array(cam_3ds[data_type]))\n",
    "    kookmin_total[data_type]['cam_param']         = copy.deepcopy(np.array(cam_params[data_type]))\n",
    "    \n",
    "# if len(kookmin_total['train']['joint_2d']) == 0:\n",
    "#     kookmin_total['train'] = copy.deepcopy(kookmin_total['test'])\n",
    "\n",
    "kookmin_total['train']['joint3d_image'].shape, kookmin_total['test']['joint3d_image'].shape  "
   ]
  },
  {
   "cell_type": "code",
   "execution_count": 12,
   "metadata": {},
   "outputs": [
    {
     "data": {
      "text/plain": [
       "((388800, 3), (388800,))"
      ]
     },
     "execution_count": 12,
     "metadata": {},
     "output_type": "execute_result"
    }
   ],
   "source": [
    "kookmin_total['test']['confidence'].shape, kookmin_total['test']['source'].shape"
   ]
  },
  {
   "cell_type": "code",
   "execution_count": 13,
   "metadata": {},
   "outputs": [],
   "source": [
    "user = getpass.getuser()\n",
    "motionbert_root = '/home/{}/codes/MotionBERT'.format(user)\n",
    "save_path = os.path.join(motionbert_root, 'data/motion3d/random_limb_train{}_test{}.pkl'.format(len(train_list), len(test_list)))\n",
    "savepkl(kookmin_total, save_path)"
   ]
  },
  {
   "cell_type": "code",
   "execution_count": 15,
   "metadata": {},
   "outputs": [
    {
     "data": {
      "text/plain": [
       "dict_keys(['joint_2d', 'confidence', 'joint3d_image', 'joints_2.5d_image', '2.5d_factor', 'camera_name', 'action', 'source', 'frame', 'world_3d', 'cam_3d', 'cam_param'])"
      ]
     },
     "execution_count": 15,
     "metadata": {},
     "output_type": "execute_result"
    }
   ],
   "source": [
    "kookmin_total['train'].keys()"
   ]
  },
  {
   "cell_type": "code",
   "execution_count": 16,
   "metadata": {},
   "outputs": [
    {
     "data": {
      "text/plain": [
       "array([[1.92123161, 1.35774198, 0.        ],\n",
       "       [1.95684887, 1.85142271, 0.08006528],\n",
       "       [1.81702749, 2.26153837, 0.2461267 ]])"
      ]
     },
     "execution_count": 16,
     "metadata": {},
     "output_type": "execute_result"
    }
   ],
   "source": [
    "kookmin_total['train']['joints_2.5d_image'][0]"
   ]
  },
  {
   "cell_type": "code",
   "execution_count": 19,
   "metadata": {},
   "outputs": [
    {
     "data": {
      "text/plain": [
       "237.21360842147308"
      ]
     },
     "execution_count": 19,
     "metadata": {},
     "output_type": "execute_result"
    }
   ],
   "source": [
    "1/kookmin_total['train']['2.5d_factor'][0]"
   ]
  },
  {
   "cell_type": "code",
   "execution_count": 20,
   "metadata": {},
   "outputs": [
    {
     "data": {
      "text/plain": [
       "array([[455.74228318, 322.07487359,   0.        ],\n",
       "       [464.19118122, 439.18266141,  18.99257455],\n",
       "       [431.02364755, 536.46767742,  58.38460334]])"
      ]
     },
     "execution_count": 20,
     "metadata": {},
     "output_type": "execute_result"
    }
   ],
   "source": [
    "kookmin_total['train']['joints_2.5d_image'][0] / kookmin_total['train']['2.5d_factor'][0]"
   ]
  },
  {
   "cell_type": "code",
   "execution_count": 17,
   "metadata": {},
   "outputs": [
    {
     "data": {
      "text/plain": [
       "array([[455.74228318, 322.07487359,   0.        ],\n",
       "       [464.19118122, 439.18266141,  18.99257455],\n",
       "       [431.02364755, 536.46767742,  58.38460334]])"
      ]
     },
     "execution_count": 17,
     "metadata": {},
     "output_type": "execute_result"
    }
   ],
   "source": [
    "kookmin_total['train']['joint3d_image'][0]"
   ]
  }
 ],
 "metadata": {
  "kernelspec": {
   "display_name": "motionbert",
   "language": "python",
   "name": "python3"
  },
  "language_info": {
   "codemirror_mode": {
    "name": "ipython",
    "version": 3
   },
   "file_extension": ".py",
   "mimetype": "text/x-python",
   "name": "python",
   "nbconvert_exporter": "python",
   "pygments_lexer": "ipython3",
   "version": "3.9.18"
  },
  "orig_nbformat": 4,
  "vscode": {
   "interpreter": {
    "hash": "a22adeb9c65037913f217d555eca4ee12416bb8cd04fc64921ca248554344da3"
   }
  }
 },
 "nbformat": 4,
 "nbformat_minor": 2
}
