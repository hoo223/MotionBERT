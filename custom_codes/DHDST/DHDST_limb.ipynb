{
 "cells": [
  {
   "cell_type": "code",
   "execution_count": 1,
   "metadata": {},
   "outputs": [],
   "source": [
    "%load_ext autoreload\n",
    "%autoreload 2\n",
    "%matplotlib inline\n",
    "import sys\n",
    "sys.path.append('/home/hrai/codes/PoseAdaptor/')\n",
    "from lib_import import *\n",
    "from my_utils import *\n",
    "import torch"
   ]
  },
  {
   "cell_type": "code",
   "execution_count": 6,
   "metadata": {},
   "outputs": [],
   "source": [
    "a = torch.ones(16, 243, 9, 3) \n",
    "for i in range(9):\n",
    "    a[:, :, i] *= i\n",
    "b = torch.ones(16, 243, 9, 3)"
   ]
  },
  {
   "cell_type": "code",
   "execution_count": 13,
   "metadata": {},
   "outputs": [
    {
     "data": {
      "text/plain": [
       "tensor([[[[0., 0., 0.],\n",
       "          [4., 4., 4.],\n",
       "          [2., 2., 2.],\n",
       "          [1., 1., 1.],\n",
       "          [3., 3., 3.]],\n",
       "\n",
       "         [[0., 0., 0.],\n",
       "          [4., 4., 4.],\n",
       "          [2., 2., 2.],\n",
       "          [1., 1., 1.],\n",
       "          [3., 3., 3.]],\n",
       "\n",
       "         [[0., 0., 0.],\n",
       "          [4., 4., 4.],\n",
       "          [2., 2., 2.],\n",
       "          [1., 1., 1.],\n",
       "          [3., 3., 3.]],\n",
       "\n",
       "         ...,\n",
       "\n",
       "         [[0., 0., 0.],\n",
       "          [4., 4., 4.],\n",
       "          [2., 2., 2.],\n",
       "          [1., 1., 1.],\n",
       "          [3., 3., 3.]],\n",
       "\n",
       "         [[0., 0., 0.],\n",
       "          [4., 4., 4.],\n",
       "          [2., 2., 2.],\n",
       "          [1., 1., 1.],\n",
       "          [3., 3., 3.]],\n",
       "\n",
       "         [[0., 0., 0.],\n",
       "          [4., 4., 4.],\n",
       "          [2., 2., 2.],\n",
       "          [1., 1., 1.],\n",
       "          [3., 3., 3.]]],\n",
       "\n",
       "\n",
       "        [[[0., 0., 0.],\n",
       "          [4., 4., 4.],\n",
       "          [2., 2., 2.],\n",
       "          [1., 1., 1.],\n",
       "          [3., 3., 3.]],\n",
       "\n",
       "         [[0., 0., 0.],\n",
       "          [4., 4., 4.],\n",
       "          [2., 2., 2.],\n",
       "          [1., 1., 1.],\n",
       "          [3., 3., 3.]],\n",
       "\n",
       "         [[0., 0., 0.],\n",
       "          [4., 4., 4.],\n",
       "          [2., 2., 2.],\n",
       "          [1., 1., 1.],\n",
       "          [3., 3., 3.]],\n",
       "\n",
       "         ...,\n",
       "\n",
       "         [[0., 0., 0.],\n",
       "          [4., 4., 4.],\n",
       "          [2., 2., 2.],\n",
       "          [1., 1., 1.],\n",
       "          [3., 3., 3.]],\n",
       "\n",
       "         [[0., 0., 0.],\n",
       "          [4., 4., 4.],\n",
       "          [2., 2., 2.],\n",
       "          [1., 1., 1.],\n",
       "          [3., 3., 3.]],\n",
       "\n",
       "         [[0., 0., 0.],\n",
       "          [4., 4., 4.],\n",
       "          [2., 2., 2.],\n",
       "          [1., 1., 1.],\n",
       "          [3., 3., 3.]]],\n",
       "\n",
       "\n",
       "        [[[0., 0., 0.],\n",
       "          [4., 4., 4.],\n",
       "          [2., 2., 2.],\n",
       "          [1., 1., 1.],\n",
       "          [3., 3., 3.]],\n",
       "\n",
       "         [[0., 0., 0.],\n",
       "          [4., 4., 4.],\n",
       "          [2., 2., 2.],\n",
       "          [1., 1., 1.],\n",
       "          [3., 3., 3.]],\n",
       "\n",
       "         [[0., 0., 0.],\n",
       "          [4., 4., 4.],\n",
       "          [2., 2., 2.],\n",
       "          [1., 1., 1.],\n",
       "          [3., 3., 3.]],\n",
       "\n",
       "         ...,\n",
       "\n",
       "         [[0., 0., 0.],\n",
       "          [4., 4., 4.],\n",
       "          [2., 2., 2.],\n",
       "          [1., 1., 1.],\n",
       "          [3., 3., 3.]],\n",
       "\n",
       "         [[0., 0., 0.],\n",
       "          [4., 4., 4.],\n",
       "          [2., 2., 2.],\n",
       "          [1., 1., 1.],\n",
       "          [3., 3., 3.]],\n",
       "\n",
       "         [[0., 0., 0.],\n",
       "          [4., 4., 4.],\n",
       "          [2., 2., 2.],\n",
       "          [1., 1., 1.],\n",
       "          [3., 3., 3.]]],\n",
       "\n",
       "\n",
       "        ...,\n",
       "\n",
       "\n",
       "        [[[0., 0., 0.],\n",
       "          [4., 4., 4.],\n",
       "          [2., 2., 2.],\n",
       "          [1., 1., 1.],\n",
       "          [3., 3., 3.]],\n",
       "\n",
       "         [[0., 0., 0.],\n",
       "          [4., 4., 4.],\n",
       "          [2., 2., 2.],\n",
       "          [1., 1., 1.],\n",
       "          [3., 3., 3.]],\n",
       "\n",
       "         [[0., 0., 0.],\n",
       "          [4., 4., 4.],\n",
       "          [2., 2., 2.],\n",
       "          [1., 1., 1.],\n",
       "          [3., 3., 3.]],\n",
       "\n",
       "         ...,\n",
       "\n",
       "         [[0., 0., 0.],\n",
       "          [4., 4., 4.],\n",
       "          [2., 2., 2.],\n",
       "          [1., 1., 1.],\n",
       "          [3., 3., 3.]],\n",
       "\n",
       "         [[0., 0., 0.],\n",
       "          [4., 4., 4.],\n",
       "          [2., 2., 2.],\n",
       "          [1., 1., 1.],\n",
       "          [3., 3., 3.]],\n",
       "\n",
       "         [[0., 0., 0.],\n",
       "          [4., 4., 4.],\n",
       "          [2., 2., 2.],\n",
       "          [1., 1., 1.],\n",
       "          [3., 3., 3.]]],\n",
       "\n",
       "\n",
       "        [[[0., 0., 0.],\n",
       "          [4., 4., 4.],\n",
       "          [2., 2., 2.],\n",
       "          [1., 1., 1.],\n",
       "          [3., 3., 3.]],\n",
       "\n",
       "         [[0., 0., 0.],\n",
       "          [4., 4., 4.],\n",
       "          [2., 2., 2.],\n",
       "          [1., 1., 1.],\n",
       "          [3., 3., 3.]],\n",
       "\n",
       "         [[0., 0., 0.],\n",
       "          [4., 4., 4.],\n",
       "          [2., 2., 2.],\n",
       "          [1., 1., 1.],\n",
       "          [3., 3., 3.]],\n",
       "\n",
       "         ...,\n",
       "\n",
       "         [[0., 0., 0.],\n",
       "          [4., 4., 4.],\n",
       "          [2., 2., 2.],\n",
       "          [1., 1., 1.],\n",
       "          [3., 3., 3.]],\n",
       "\n",
       "         [[0., 0., 0.],\n",
       "          [4., 4., 4.],\n",
       "          [2., 2., 2.],\n",
       "          [1., 1., 1.],\n",
       "          [3., 3., 3.]],\n",
       "\n",
       "         [[0., 0., 0.],\n",
       "          [4., 4., 4.],\n",
       "          [2., 2., 2.],\n",
       "          [1., 1., 1.],\n",
       "          [3., 3., 3.]]],\n",
       "\n",
       "\n",
       "        [[[0., 0., 0.],\n",
       "          [4., 4., 4.],\n",
       "          [2., 2., 2.],\n",
       "          [1., 1., 1.],\n",
       "          [3., 3., 3.]],\n",
       "\n",
       "         [[0., 0., 0.],\n",
       "          [4., 4., 4.],\n",
       "          [2., 2., 2.],\n",
       "          [1., 1., 1.],\n",
       "          [3., 3., 3.]],\n",
       "\n",
       "         [[0., 0., 0.],\n",
       "          [4., 4., 4.],\n",
       "          [2., 2., 2.],\n",
       "          [1., 1., 1.],\n",
       "          [3., 3., 3.]],\n",
       "\n",
       "         ...,\n",
       "\n",
       "         [[0., 0., 0.],\n",
       "          [4., 4., 4.],\n",
       "          [2., 2., 2.],\n",
       "          [1., 1., 1.],\n",
       "          [3., 3., 3.]],\n",
       "\n",
       "         [[0., 0., 0.],\n",
       "          [4., 4., 4.],\n",
       "          [2., 2., 2.],\n",
       "          [1., 1., 1.],\n",
       "          [3., 3., 3.]],\n",
       "\n",
       "         [[0., 0., 0.],\n",
       "          [4., 4., 4.],\n",
       "          [2., 2., 2.],\n",
       "          [1., 1., 1.],\n",
       "          [3., 3., 3.]]]])"
      ]
     },
     "execution_count": 13,
     "metadata": {},
     "output_type": "execute_result"
    }
   ],
   "source": [
    "joint0 = a[:, :, 0].unsqueeze(2)\n",
    "joint1 = a[:, :, 1].unsqueeze(2)\n",
    "joint2 = a[:, :, 2].unsqueeze(2)\n",
    "joint3 = a[:, :, 3].unsqueeze(2)\n",
    "joint4 = a[:, :, 4].unsqueeze(2)\n",
    "torch.cat([joint0, joint4, joint2, joint1, joint3], dim=2)"
   ]
  },
  {
   "cell_type": "markdown",
   "metadata": {},
   "source": [
    "### Load dataset"
   ]
  },
  {
   "cell_type": "code",
   "execution_count": 2,
   "metadata": {},
   "outputs": [
    {
     "name": "stdout",
     "output_type": "stream",
     "text": [
      "==> Loading 3D data wrt World CS...\n"
     ]
    }
   ],
   "source": [
    "h36m_3d_world, h36m_cam_param = load_h36m()\n",
    "\n",
    "subject = 'S1'\n",
    "action = 'Walking'\n",
    "subject_list = h36m_3d_world._data.keys()\n",
    "action_list = h36m_3d_world._data[subject].keys()\n",
    "pose3d_s1_walking = h36m_3d_world._data[subject][action]['positions'] # 3d skeleton sequence wrt world CS\n",
    "cam_info_s1_walking = h36m_3d_world._data[subject][action]['cameras']\n",
    "cam_param_s1_walking = get_cam_param(cam_info_s1_walking, subject, h36m_cam_param)\n",
    "\n",
    "# camera parameters\n",
    "W, H = cam_param_s1_walking['54138969']['W'], cam_param_s1_walking['54138969']['H']\n",
    "cam_54138969_ext = cam_param_s1_walking['54138969']['ext']\n",
    "cam_54138969_int = cam_param_s1_walking['54138969']['int']\n",
    "cam_54138969_proj = cam_param_s1_walking['54138969']['proj']\n",
    "cam_54138969_origin = cam_param_s1_walking['54138969']['C']\n",
    "\n",
    "# 3d trajectory\n",
    "torso_trajectory = get_part_traj(pose3d_s1_walking, 'torso')\n",
    "pelvis_trajectory = get_part_traj(pose3d_s1_walking, 'pelvis')\n",
    "l_hip_trajectory = get_part_traj(pose3d_s1_walking, 'l_hip')\n",
    "l_shoulder_trajectory = get_part_traj(pose3d_s1_walking, 'l_shoulder')\n",
    "r_shoulder_trajectory = get_part_traj(pose3d_s1_walking, 'r_shoulder')\n",
    "r_hip_trajectory = get_part_traj(pose3d_s1_walking, 'r_hip')\n",
    "lower_line_trajectory = get_part_traj(pose3d_s1_walking, 'lower_line')\n",
    "\n",
    "# World frame\n",
    "world_frame = generate_world_frame()"
   ]
  },
  {
   "cell_type": "markdown",
   "metadata": {},
   "source": [
    "### Collect arm data"
   ]
  },
  {
   "cell_type": "code",
   "execution_count": 3,
   "metadata": {},
   "outputs": [
    {
     "name": "stdout",
     "output_type": "stream",
     "text": [
      "S1\n",
      "Waiting 1\n",
      "Photo 1\n",
      "Smoking\n",
      "Eating 2\n",
      "WalkTogether 1\n",
      "Greeting 1\n",
      "Phoning\n",
      "Phoning 1\n",
      "Smoking 1\n",
      "Discussion 1\n",
      "WalkTogether\n",
      "Sitting 1\n",
      "SittingDown\n",
      "Directions\n",
      "Directions 1\n",
      "Purchases\n",
      "SittingDown 2\n",
      "Walking 1\n",
      "WalkDog 1\n",
      "Waiting\n",
      "Walking\n",
      "Discussion\n",
      "Eating\n",
      "Posing\n",
      "Greeting\n",
      "Posing 1\n",
      "WalkDog\n",
      "Photo\n",
      "Purchases 1\n",
      "Sitting 2\n",
      "S5\n",
      "Waiting 1\n",
      "Sitting\n",
      "Waiting 2\n",
      "Smoking\n",
      "WalkTogether 1\n",
      "Discussion 2\n",
      "Greeting 1\n",
      "Directions 2\n",
      "Phoning\n",
      "Phoning 1\n",
      "Smoking 1\n",
      "Greeting 2\n",
      "WalkTogether\n",
      "Sitting 1\n",
      "SittingDown\n",
      "SittingDown 1\n",
      "Discussion 3\n",
      "Directions 1\n",
      "Purchases\n",
      "Walking 1\n",
      "WalkDog 1\n",
      "Walking\n",
      "Eating\n",
      "Photo 2\n",
      "Posing\n",
      "Posing 1\n",
      "WalkDog\n",
      "Photo\n",
      "Purchases 1\n",
      "Eating 1\n",
      "S6\n",
      "Posing 2\n",
      "Photo 1\n",
      "Smoking\n",
      "Eating 2\n",
      "WalkTogether 1\n",
      "Greeting 1\n",
      "Phoning\n",
      "Phoning 1\n",
      "Smoking 1\n",
      "Discussion 1\n",
      "WalkTogether\n",
      "Sitting 1\n",
      "SittingDown\n",
      "Directions\n",
      "SittingDown 1\n",
      "Directions 1\n",
      "Purchases\n",
      "Walking 1\n",
      "WalkDog 1\n",
      "Waiting\n",
      "Walking\n",
      "Discussion\n",
      "Posing\n",
      "Greeting\n",
      "Waiting 3\n",
      "WalkDog\n",
      "Photo\n",
      "Purchases 1\n",
      "Eating 1\n",
      "Sitting 2\n",
      "S7\n",
      "Waiting 1\n",
      "Sitting\n",
      "Photo 1\n",
      "Waiting 2\n",
      "Smoking\n",
      "WalkTogether 1\n",
      "Greeting 1\n",
      "Phoning 2\n",
      "Phoning\n",
      "Smoking 1\n",
      "Discussion 1\n",
      "WalkTogether\n",
      "Sitting 1\n",
      "Walking 2\n",
      "SittingDown\n",
      "Directions\n",
      "SittingDown 1\n",
      "Directions 1\n",
      "Purchases\n",
      "Walking 1\n",
      "WalkDog 1\n",
      "Discussion\n",
      "Eating\n",
      "Posing\n",
      "Greeting\n",
      "Posing 1\n",
      "WalkDog\n",
      "Photo\n",
      "Purchases 1\n",
      "Eating 1\n",
      "S8\n",
      "WalkTogether 2\n",
      "Waiting 1\n",
      "Sitting\n",
      "Photo 1\n",
      "Smoking\n",
      "WalkTogether 1\n",
      "Greeting 1\n",
      "Phoning\n",
      "Phoning 1\n",
      "Smoking 1\n",
      "Discussion 1\n",
      "Sitting 1\n",
      "SittingDown\n",
      "Directions\n",
      "SittingDown 1\n",
      "Directions 1\n",
      "Purchases\n",
      "Walking 1\n",
      "WalkDog 1\n",
      "Waiting\n",
      "Walking\n",
      "Discussion\n",
      "Eating\n",
      "Posing\n",
      "Greeting\n",
      "Posing 1\n",
      "WalkDog\n",
      "Photo\n",
      "Purchases 1\n",
      "Eating 1\n",
      "S9\n",
      "Waiting 1\n",
      "Sitting\n",
      "Photo 1\n",
      "Smoking\n",
      "WalkTogether 1\n",
      "Discussion 2\n",
      "Greeting 1\n",
      "Phoning\n",
      "Phoning 1\n",
      "Smoking 1\n",
      "Discussion 1\n",
      "WalkTogether\n",
      "Sitting 1\n",
      "SittingDown\n",
      "Directions\n",
      "SittingDown 1\n",
      "Directions 1\n",
      "Purchases\n",
      "Walking 1\n",
      "WalkDog 1\n",
      "Waiting\n",
      "Walking\n",
      "Eating\n",
      "Posing\n",
      "Greeting\n",
      "Posing 1\n",
      "WalkDog\n",
      "Photo\n",
      "Purchases 1\n",
      "Eating 1\n",
      "S11\n",
      "Waiting 1\n",
      "Smoking 2\n",
      "Sitting\n",
      "Photo 1\n",
      "Smoking\n",
      "WalkTogether 1\n",
      "Discussion 2\n",
      "Phoning 2\n",
      "Discussion 1\n",
      "Greeting 2\n",
      "WalkTogether\n",
      "Sitting 1\n",
      "SittingDown\n",
      "SittingDown 1\n",
      "Directions 1\n",
      "Purchases\n",
      "Walking 1\n",
      "WalkDog 1\n",
      "Waiting\n",
      "Walking\n",
      "Eating\n",
      "Posing\n",
      "Greeting\n",
      "Posing 1\n",
      "Phoning 3\n",
      "WalkDog\n",
      "Photo\n",
      "Purchases 1\n",
      "Eating 1\n"
     ]
    }
   ],
   "source": [
    "# 각 pose로부터 root_point, upper_vector, under_vector 모으기\n",
    "l_shoulder_idx = get_h36m_keypoint_index('L_Shoulder')\n",
    "r_shoulder_idx = get_h36m_keypoint_index('R_Shoulder')\n",
    "l_hip_idx = get_h36m_keypoint_index('L_Hip')\n",
    "r_hip_idx = get_h36m_keypoint_index('R_Hip')\n",
    "\n",
    "root_point_traj_list = []\n",
    "upper_vector_traj_list = []\n",
    "under_vector_traj_list = []\n",
    "for subject in subject_list:\n",
    "    print(subject)\n",
    "    action_list = h36m_3d_world._data[subject].keys()\n",
    "    for action in action_list:\n",
    "        print(action)\n",
    "        pose_3d_world = h36m_3d_world._data[subject][action]['positions'] # 3d skeleton sequence wrt world CS\n",
    "        l_shoulder_trajectory = get_part_traj(pose_3d_world, 'l_shoulder')[:, 0, :]\n",
    "        r_shoulder_trajectory = get_part_traj(pose_3d_world, 'r_shoulder')[:, 0, :]\n",
    "        l_hip_trajectory = get_part_traj(pose_3d_world, 'l_hip')[:, 0, :]\n",
    "        r_hip_trajectory = get_part_traj(pose_3d_world, 'r_hip')[:, 0, :]\n",
    "        l_elbow_trajectory = get_part_traj(pose_3d_world, 'l_elbow')[:, 0, :]\n",
    "        r_elbow_trajectory = get_part_traj(pose_3d_world, 'r_elbow')[:, 0, :]\n",
    "        l_wrist_trajectory = get_part_traj(pose_3d_world, 'l_wrist')[:, 0, :]\n",
    "        r_wrist_trajectory = get_part_traj(pose_3d_world, 'r_wrist')[:, 0, :]\n",
    "        l_knee_trajectory = get_part_traj(pose_3d_world, 'l_knee')[:, 0, :]\n",
    "        r_knee_trajectory = get_part_traj(pose_3d_world, 'r_knee')[:, 0, :]\n",
    "        l_ankle_trajectory = get_part_traj(pose_3d_world, 'l_ankle')[:, 0, :]\n",
    "        r_ankle_trajectory = get_part_traj(pose_3d_world, 'r_ankle')[:, 0, :]\n",
    "\n",
    "        l_arm_upper_vector_trajectory = l_elbow_trajectory - l_shoulder_trajectory\n",
    "        r_arm_upper_vector_trajectory = r_elbow_trajectory - r_shoulder_trajectory\n",
    "        l_arm_under_vector_trajectory = l_wrist_trajectory - l_elbow_trajectory\n",
    "        r_arm_under_vector_trajectory = r_wrist_trajectory - r_elbow_trajectory\n",
    "        l_leg_upper_vector_trajectory = l_knee_trajectory - l_hip_trajectory\n",
    "        r_leg_upper_vector_trajectory = r_knee_trajectory - r_hip_trajectory\n",
    "        l_leg_under_vector_trajectory = l_ankle_trajectory - l_knee_trajectory\n",
    "        r_leg_under_vector_trajectory = r_ankle_trajectory - r_knee_trajectory\n",
    "\n",
    "        root_point_traj_list.append(l_shoulder_trajectory)\n",
    "        root_point_traj_list.append(r_shoulder_trajectory)\n",
    "        root_point_traj_list.append(l_hip_trajectory)\n",
    "        root_point_traj_list.append(r_hip_trajectory)\n",
    "        upper_vector_traj_list.append(l_arm_upper_vector_trajectory)\n",
    "        upper_vector_traj_list.append(r_arm_upper_vector_trajectory)\n",
    "        upper_vector_traj_list.append(l_leg_upper_vector_trajectory)\n",
    "        upper_vector_traj_list.append(r_leg_upper_vector_trajectory)\n",
    "        under_vector_traj_list.append(l_arm_under_vector_trajectory)\n",
    "        under_vector_traj_list.append(r_arm_under_vector_trajectory)\n",
    "        under_vector_traj_list.append(l_leg_under_vector_trajectory)\n",
    "        under_vector_traj_list.append(r_leg_under_vector_trajectory)\n",
    "\n",
    "        #break\n",
    "    #break"
   ]
  },
  {
   "cell_type": "code",
   "execution_count": 4,
   "metadata": {},
   "outputs": [
    {
     "data": {
      "text/plain": [
       "(836, 836, 836)"
      ]
     },
     "execution_count": 4,
     "metadata": {},
     "output_type": "execute_result"
    }
   ],
   "source": [
    "len(root_point_traj_list), len(upper_vector_traj_list), len(under_vector_traj_list)"
   ]
  },
  {
   "cell_type": "code",
   "execution_count": 5,
   "metadata": {},
   "outputs": [],
   "source": [
    "# camera parameters\n",
    "cam_param = {}\n",
    "for camera_id in ['54138969', '55011271', '58860488', '60457274']:\n",
    "    cam_param[camera_id] = {}\n",
    "    cam_param[camera_id]['proj'] = cam_param_s1_walking[camera_id]['proj']\n",
    "    cam_param[camera_id]['ext'] = cam_param_s1_walking[camera_id]['ext']\n",
    "    cam_param[camera_id]['int'] = cam_param_s1_walking[camera_id]['int']\n",
    "    cam_param[camera_id]['origin'] = cam_param_s1_walking[camera_id]['C']\n",
    "    cam_param[camera_id]['W'] = cam_param_s1_walking[camera_id]['W']\n",
    "    cam_param[camera_id]['H'] = cam_param_s1_walking[camera_id]['H']\n",
    "    cam_param[camera_id]['frame'] = generate_camera_frame(cam_param[camera_id]['ext'], name=camera_id)"
   ]
  },
  {
   "cell_type": "markdown",
   "metadata": {},
   "source": [
    "### Data augmentation"
   ]
  },
  {
   "cell_type": "code",
   "execution_count": 296,
   "metadata": {},
   "outputs": [
    {
     "name": "stderr",
     "output_type": "stream",
     "text": [
      "  0%|          | 0/100 [00:00<?, ?it/s]"
     ]
    },
    {
     "name": "stderr",
     "output_type": "stream",
     "text": [
      "100%|██████████| 100/100 [00:01<00:00, 99.71it/s]\n"
     ]
    }
   ],
   "source": [
    "# sampling \n",
    "random.seed(0)\n",
    "total_num_data = 100\n",
    "\n",
    "\n",
    "for i in tqdm(range(total_num_data)):\n",
    "    root_point_traj_num = random.randint(0, len(root_point_traj_list)-1)\n",
    "    upper_vector_traj_num = random.randint(0, len(upper_vector_traj_list)-1)\n",
    "    under_vector_traj_num = random.randint(0, len(under_vector_traj_list)-1)\n",
    "    #print(root_point_traj_num, upper_vector_traj_num, under_vector_traj_num)\n",
    "\n",
    "    root_point_start_idx = random.randint(0, len(root_point_traj_list)-243)\n",
    "    upper_vector_start_idx = random.randint(0, len(upper_vector_traj_list)-243)\n",
    "    under_vector_start_idx = random.randint(0, len(under_vector_traj_list)-243)\n",
    "    #root_point_start_idx, len(root_point_traj_list[root_point_start_idx:root_point_start_idx+243])\n",
    "\n",
    "    root_point_traj = root_point_traj_list[root_point_traj_num][root_point_start_idx:root_point_start_idx+243]\n",
    "    #print(len(root_point_traj))\n",
    "    #print(upper_vector_start_idx, upper_vector_start_idx+243, len(upper_vector_traj_list[upper_vector_traj_num]), len(upper_vector_traj_list))\n",
    "    upper_vector_traj = upper_vector_traj_list[upper_vector_traj_num][upper_vector_start_idx:upper_vector_start_idx+243] + root_point_traj\n",
    "    #print(under_vector_start_idx, under_vector_start_idx+243, len(under_vector_traj_list), under_vector_traj_num)\n",
    "    under_vector_traj = under_vector_traj_list[under_vector_traj_num][under_vector_start_idx:under_vector_start_idx+243] + upper_vector_traj\n",
    "\n",
    "    limb_trajectory = np.stack([root_point_traj, upper_vector_traj, under_vector_traj], axis=1)\n",
    "    #limb_trajectory_projected1 = projection(limb_trajectory, cam_param['54138969']['proj'])\n",
    "    #limb_trajectory_projected2 = projection(limb_trajectory, cam_param['55011271']['proj'])\n",
    "    #limb_trajectory_projected3 = projection(limb_trajectory, cam_param['58860488']['proj'])\n",
    "    #limb_trajectory_projected4 = projection(limb_trajectory, cam_param['60457274']['proj'])\n",
    "    \n",
    "    # video_path = '/home/hrai/codes/MotionBERT/custom_codes/DHDST/random_limb_sample{}.mp4'.format(i)\n",
    "    # if os.path.exists(video_path): continue\n",
    "    # save_h36m_pose_video(limb_trajectory, video_path, dataset='limb', W=None, H=None, pose_type='3d', fps=30,\n",
    "    #                         xlim=(-1, 1), ylim=(-1, 1), zlim=(0, 2), view=(0, 45),\n",
    "    #                         centered_xy=False, cam_space=False, on_ground=False, refine_tilt=False,  \n",
    "    #                         dynamic_view=True, dual_view=False,\n",
    "    #                         imgs=None,\n",
    "    #                         show_axis=False)\n",
    "    #break"
   ]
  },
  {
   "cell_type": "code",
   "execution_count": 297,
   "metadata": {},
   "outputs": [
    {
     "data": {
      "text/plain": [
       "(243, 3, 3)"
      ]
     },
     "execution_count": 297,
     "metadata": {},
     "output_type": "execute_result"
    }
   ],
   "source": [
    "limb_trajectory.shape"
   ]
  },
  {
   "cell_type": "code",
   "execution_count": 298,
   "metadata": {},
   "outputs": [
    {
     "name": "stdout",
     "output_type": "stream",
     "text": [
      "[0, 1]\n",
      "[1, 2]\n"
     ]
    },
    {
     "data": {
      "application/vnd.jupyter.widget-view+json": {
       "model_id": "9459f3c06365497696c9940713ea735a",
       "version_major": 2,
       "version_minor": 0
      },
      "image/png": "[encoded data removed]",
      "text/html": [
       "\n",
       "            <div style=\"display: inline-block;\">\n",
       "                <div class=\"jupyter-widgets widget-label\" style=\"text-align: center;\">\n",
       "                    Figure 3\n",
       "                </div>\n",
       "                <img src='data:image/png;base64,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' width=640.0/>\n",
       "            </div>\n",
       "        "
      ],
      "text/plain": [
       "Canvas(toolbar=Toolbar(toolitems=[('Home', 'Reset original view', 'home', 'home'), ('Back', 'Back to previous …"
      ]
     },
     "metadata": {},
     "output_type": "display_data"
    }
   ],
   "source": [
    "frame_num = 50\n",
    "limb = limb_trajectory[frame_num]\n",
    "\n",
    "%matplotlib widget\n",
    "fig = plt.figure(3)\n",
    "fig.clear()\n",
    "ax = axes_3d(fig, loc=121,\n",
    "             xlim=(-3, 3), ylim=(-3, 3), zlim=(0, 2))\n",
    "ax.set_zlim(0, 2)\n",
    "ax.set_aspect('equal', 'box')\n",
    "draw_3d_pose(ax, limb, dataset='limb')\n",
    "cam_frame_54138969.draw3d()\n",
    "ax2 = axes_2d(fig, loc=122)\n",
    "img = get_2d_pose_image(limb_trajectory_projected[frame_num], H=1000, W=1000, dataset='limb')\n",
    "ax2.imshow(img)\n",
    "\n",
    "plt.show()"
   ]
  },
  {
   "cell_type": "code",
   "execution_count": 289,
   "metadata": {},
   "outputs": [
    {
     "data": {
      "text/plain": [
       "({'calibration_matrix': [[1145.04940458804, 0.0, 512.541504956548],\n",
       "   [0.0, 1143.78109572365, 515.4514869776],\n",
       "   [0.0, 0.0, 1.0]],\n",
       "  'distortion': [-0.207098910824901,\n",
       "   0.247775183068982,\n",
       "   -0.00142447157470321,\n",
       "   -0.000975698859470499,\n",
       "   -0.00307515035078854]},\n",
       " {'R': [[-0.9153617321513369, 0.40180836633680234, 0.02574754463350265],\n",
       "   [0.051548117060134555, 0.1803735689384521, -0.9822464900705729],\n",
       "   [-0.399319034032262, -0.8977836111057917, -0.185819527201491]],\n",
       "  't': [[-346.05078140028075], [546.9807793144001], [5474.481087434061]]})"
      ]
     },
     "execution_count": 289,
     "metadata": {},
     "output_type": "execute_result"
    }
   ],
   "source": [
    "cam_54138969_int, cam_54138969_ext"
   ]
  },
  {
   "cell_type": "code",
   "execution_count": 337,
   "metadata": {},
   "outputs": [
    {
     "name": "stderr",
     "output_type": "stream",
     "text": [
      "  0%|          | 0/243 [00:00<?, ?it/s]"
     ]
    },
    {
     "name": "stderr",
     "output_type": "stream",
     "text": [
      "100%|██████████| 243/243 [00:01<00:00, 134.38it/s]\n"
     ]
    }
   ],
   "source": [
    "camera_id = '54138969'\n",
    "\n",
    "data = {}\n",
    "for key in ['joint_2d', 'confidence', 'joint3d_image', 'joints_2.5d_image', '2.5d_factor', 'camera_name', 'action', 'source', 'frame', 'world_3d', 'cam_3d', 'cam_param']:\n",
    "    data[key] = []\n",
    "\n",
    "calibration_matrix = np.array(cam_param[camera_id]['int']['calibration_matrix'])\n",
    "R = np.array(cam_param[camera_id]['ext']['R'])\n",
    "t = np.array(cam_param[camera_id]['ext']['t']) * 0.001\n",
    "camera_param = {\n",
    "    'intrinsic': calibration_matrix,\n",
    "    'extrinsic': np.concatenate([R, t.reshape(3, 1)], axis=1),\n",
    "}\n",
    "\n",
    "fx = camera_param['intrinsic'][0, 0]  \n",
    "fy = camera_param['intrinsic'][1, 1]  \n",
    "cx = camera_param['intrinsic'][0, 2]  \n",
    "cy = camera_param['intrinsic'][1, 2] \n",
    "\n",
    "for frame_num in tqdm(range(len(limb_trajectory))):\n",
    "    # joint3d_image\n",
    "    world_3d = np.array(limb_trajectory[frame_num])\n",
    "\n",
    "    # world to camera\n",
    "    pos = copy.deepcopy(world_3d)\n",
    "    cam_3d = World2CameraCoordinate(pos, camera_param['extrinsic']) # World coordinate -> Camera coordinate\n",
    "    cam_3d_hat = get_rootrel_pose(cam_3d)\n",
    "\n",
    "    # camera to image\n",
    "    box = infer_box(cam_3d, {'fx': fx, 'fy': fy, 'cx': cx, 'cy': cy}, 0)\n",
    "    img_2d, img_3d = camera_to_image_frame(cam_3d, box, {'fx': fx, 'fy': fy, 'cx': cx, 'cy': cy}, 0) \n",
    "    #img_2d_hat = get_rootrel_pose(img_2d) # (17, 2) # root-relative pose \n",
    "    img_3d_hat = get_rootrel_pose(img_3d) # (17, 3) # root-relative pose \n",
    "\n",
    "    # 2.5d factor\n",
    "    pred_lambda, losses = optimize_scaling_factor(img_3d_hat, cam_3d_hat, stop_tolerance=0.0001) # x,y,z 사용\n",
    "    #print('pred_lambda:', pred_lambda)\n",
    "    #print('losses:', losses)\n",
    "\n",
    "    # joint 2.5d image\n",
    "    img_25d = img_3d * pred_lambda\n",
    "    #img_25d_hat = get_rootrel_pose(img_25d)\n",
    "\n",
    "    # store\n",
    "    data['joint_2d'].append(np.array(img_2d).copy()) \n",
    "    data['confidence'].append(np.ones(17)) \n",
    "    data['joint3d_image'].append(np.array(img_3d).copy()) \n",
    "    data['joints_2.5d_image'].append(np.array(img_25d).copy()) \n",
    "    data['2.5d_factor'].append(np.array(pred_lambda).copy()) \n",
    "    data['camera_name'].append(np.array(camera_id).copy()) \n",
    "    data['action'].append(np.array(action).copy()) \n",
    "    #data['source'].append(np.array(source).copy()) \n",
    "    data['frame'].append(np.array(frame_num).copy()) \n",
    "    data['world_3d'].append(np.array(world_3d).copy()) \n",
    "    data['cam_3d'].append(np.array(cam_3d).copy()) \n",
    "    data['cam_param'].append(np.array(camera_param).copy()) "
   ]
  },
  {
   "cell_type": "code",
   "execution_count": 340,
   "metadata": {},
   "outputs": [
    {
     "name": "stdout",
     "output_type": "stream",
     "text": [
      "[0, 1]\n",
      "[1, 2]\n"
     ]
    },
    {
     "data": {
      "application/vnd.jupyter.widget-view+json": {
       "model_id": "9459f3c06365497696c9940713ea735a",
       "version_major": 2,
       "version_minor": 0
      },
      "image/png": "[encoded data removed]",
      "text/html": [
       "\n",
       "            <div style=\"display: inline-block;\">\n",
       "                <div class=\"jupyter-widgets widget-label\" style=\"text-align: center;\">\n",
       "                    Figure 3\n",
       "                </div>\n",
       "                <img src='data:image/png;base64,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' width=640.0/>\n",
       "            </div>\n",
       "        "
      ],
      "text/plain": [
       "Canvas(toolbar=Toolbar(toolitems=[('Home', 'Reset original view', 'home', 'home'), ('Back', 'Back to previous …"
      ]
     },
     "metadata": {},
     "output_type": "display_data"
    }
   ],
   "source": [
    "%matplotlib widget\n",
    "fig = plt.figure(3)\n",
    "fig.clear()\n",
    "ax = axes_3d(fig, loc=121,\n",
    "             xlim=(-3, 3), ylim=(-3, 3), zlim=(0, 2))\n",
    "ax.set_zlim(0, 2)\n",
    "ax.set_aspect('equal', 'box')\n",
    "draw_3d_pose(ax, world_3d, dataset='limb')\n",
    "draw_3d_pose(ax, img_3d, dataset='limb')\n",
    "\n",
    "cam_frame_54138969.draw3d()\n",
    "ax2 = axes_2d(fig, loc=122)\n",
    "img = get_2d_pose_image(img_2d, H=1000, W=1000, dataset='limb')\n",
    "ax2.imshow(img)\n",
    "ax2.plot(box[0], box[1], 'r-')\n",
    "plt.show()"
   ]
  },
  {
   "cell_type": "markdown",
   "metadata": {},
   "source": [
    "### generate pkl for each sample"
   ]
  },
  {
   "cell_type": "code",
   "execution_count": 10,
   "metadata": {},
   "outputs": [
    {
     "name": "stderr",
     "output_type": "stream",
     "text": [
      "  0%|          | 0/10000 [00:00<?, ?it/s]"
     ]
    },
    {
     "name": "stderr",
     "output_type": "stream",
     "text": [
      " 40%|████      | 4000/10000 [12:38:24<18:57:36, 11.38s/it]\n"
     ]
    },
    {
     "ename": "KeyboardInterrupt",
     "evalue": "",
     "output_type": "error",
     "traceback": [
      "\u001b[0;31m---------------------------------------------------------------------------\u001b[0m",
      "\u001b[0;31mKeyboardInterrupt\u001b[0m                         Traceback (most recent call last)",
      "Cell \u001b[0;32mIn[10], line 68\u001b[0m\n\u001b[1;32m     65\u001b[0m img_3d_hat \u001b[38;5;241m=\u001b[39m get_rootrel_pose(img_3d) \u001b[38;5;66;03m# (3, 3) # root-relative pose \u001b[39;00m\n\u001b[1;32m     67\u001b[0m \u001b[38;5;66;03m# 2.5d factor\u001b[39;00m\n\u001b[0;32m---> 68\u001b[0m pred_lambda, losses \u001b[38;5;241m=\u001b[39m \u001b[43moptimize_scaling_factor\u001b[49m\u001b[43m(\u001b[49m\u001b[43mimg_3d_hat\u001b[49m\u001b[43m,\u001b[49m\u001b[43m \u001b[49m\u001b[43mcam_3d_hat\u001b[49m\u001b[43m,\u001b[49m\u001b[43m \u001b[49m\u001b[43mstop_tolerance\u001b[49m\u001b[38;5;241;43m=\u001b[39;49m\u001b[38;5;241;43m0.0001\u001b[39;49m\u001b[43m)\u001b[49m \u001b[38;5;66;03m# x,y,z 사용\u001b[39;00m\n\u001b[1;32m     70\u001b[0m \u001b[38;5;66;03m# joint 2.5d image\u001b[39;00m\n\u001b[1;32m     71\u001b[0m img_25d \u001b[38;5;241m=\u001b[39m img_3d \u001b[38;5;241m*\u001b[39m pred_lambda\n",
      "File \u001b[0;32m~/codes/PoseAdaptor/my_utils/test_utils.py:1158\u001b[0m, in \u001b[0;36moptimize_scaling_factor\u001b[0;34m(cam_cs_hat, img_cs_hat, epochs, learningRate, stop_tolerance)\u001b[0m\n\u001b[1;32m   1155\u001b[0m optimizer\u001b[38;5;241m.\u001b[39mzero_grad()\n\u001b[1;32m   1157\u001b[0m \u001b[38;5;66;03m# get output from the model, given the inputs\u001b[39;00m\n\u001b[0;32m-> 1158\u001b[0m outputs \u001b[38;5;241m=\u001b[39m \u001b[43mmodel\u001b[49m\u001b[43m(\u001b[49m\u001b[43minputs\u001b[49m\u001b[43m)\u001b[49m\n\u001b[1;32m   1160\u001b[0m \u001b[38;5;66;03m# get loss for the predicted output\u001b[39;00m\n\u001b[1;32m   1161\u001b[0m loss \u001b[38;5;241m=\u001b[39m criterion(outputs, labels)\n",
      "File \u001b[0;32m~/miniconda3/envs/motionbert/lib/python3.9/site-packages/torch/nn/modules/module.py:1130\u001b[0m, in \u001b[0;36mModule._call_impl\u001b[0;34m(self, *input, **kwargs)\u001b[0m\n\u001b[1;32m   1126\u001b[0m \u001b[38;5;66;03m# If we don't have any hooks, we want to skip the rest of the logic in\u001b[39;00m\n\u001b[1;32m   1127\u001b[0m \u001b[38;5;66;03m# this function, and just call forward.\u001b[39;00m\n\u001b[1;32m   1128\u001b[0m \u001b[38;5;28;01mif\u001b[39;00m \u001b[38;5;129;01mnot\u001b[39;00m (\u001b[38;5;28mself\u001b[39m\u001b[38;5;241m.\u001b[39m_backward_hooks \u001b[38;5;129;01mor\u001b[39;00m \u001b[38;5;28mself\u001b[39m\u001b[38;5;241m.\u001b[39m_forward_hooks \u001b[38;5;129;01mor\u001b[39;00m \u001b[38;5;28mself\u001b[39m\u001b[38;5;241m.\u001b[39m_forward_pre_hooks \u001b[38;5;129;01mor\u001b[39;00m _global_backward_hooks\n\u001b[1;32m   1129\u001b[0m         \u001b[38;5;129;01mor\u001b[39;00m _global_forward_hooks \u001b[38;5;129;01mor\u001b[39;00m _global_forward_pre_hooks):\n\u001b[0;32m-> 1130\u001b[0m     \u001b[38;5;28;01mreturn\u001b[39;00m \u001b[43mforward_call\u001b[49m\u001b[43m(\u001b[49m\u001b[38;5;241;43m*\u001b[39;49m\u001b[38;5;28;43minput\u001b[39;49m\u001b[43m,\u001b[49m\u001b[43m \u001b[49m\u001b[38;5;241;43m*\u001b[39;49m\u001b[38;5;241;43m*\u001b[39;49m\u001b[43mkwargs\u001b[49m\u001b[43m)\u001b[49m\n\u001b[1;32m   1131\u001b[0m \u001b[38;5;66;03m# Do not call functions when jit is used\u001b[39;00m\n\u001b[1;32m   1132\u001b[0m full_backward_hooks, non_full_backward_hooks \u001b[38;5;241m=\u001b[39m [], []\n",
      "File \u001b[0;32m~/codes/PoseAdaptor/my_utils/test_utils.py:1128\u001b[0m, in \u001b[0;36moptimize_scaling_factor.<locals>.linearRegression.forward\u001b[0;34m(self, x)\u001b[0m\n\u001b[1;32m   1127\u001b[0m \u001b[38;5;28;01mdef\u001b[39;00m \u001b[38;5;21mforward\u001b[39m(\u001b[38;5;28mself\u001b[39m, x):\n\u001b[0;32m-> 1128\u001b[0m     out \u001b[38;5;241m=\u001b[39m \u001b[38;5;28;43mself\u001b[39;49m\u001b[38;5;241;43m.\u001b[39;49m\u001b[43mlinear\u001b[49m\u001b[43m(\u001b[49m\u001b[43mx\u001b[49m\u001b[43m)\u001b[49m\n\u001b[1;32m   1129\u001b[0m     \u001b[38;5;28;01mreturn\u001b[39;00m out\n",
      "File \u001b[0;32m~/miniconda3/envs/motionbert/lib/python3.9/site-packages/torch/nn/modules/module.py:1130\u001b[0m, in \u001b[0;36mModule._call_impl\u001b[0;34m(self, *input, **kwargs)\u001b[0m\n\u001b[1;32m   1126\u001b[0m \u001b[38;5;66;03m# If we don't have any hooks, we want to skip the rest of the logic in\u001b[39;00m\n\u001b[1;32m   1127\u001b[0m \u001b[38;5;66;03m# this function, and just call forward.\u001b[39;00m\n\u001b[1;32m   1128\u001b[0m \u001b[38;5;28;01mif\u001b[39;00m \u001b[38;5;129;01mnot\u001b[39;00m (\u001b[38;5;28mself\u001b[39m\u001b[38;5;241m.\u001b[39m_backward_hooks \u001b[38;5;129;01mor\u001b[39;00m \u001b[38;5;28mself\u001b[39m\u001b[38;5;241m.\u001b[39m_forward_hooks \u001b[38;5;129;01mor\u001b[39;00m \u001b[38;5;28mself\u001b[39m\u001b[38;5;241m.\u001b[39m_forward_pre_hooks \u001b[38;5;129;01mor\u001b[39;00m _global_backward_hooks\n\u001b[1;32m   1129\u001b[0m         \u001b[38;5;129;01mor\u001b[39;00m _global_forward_hooks \u001b[38;5;129;01mor\u001b[39;00m _global_forward_pre_hooks):\n\u001b[0;32m-> 1130\u001b[0m     \u001b[38;5;28;01mreturn\u001b[39;00m \u001b[43mforward_call\u001b[49m\u001b[43m(\u001b[49m\u001b[38;5;241;43m*\u001b[39;49m\u001b[38;5;28;43minput\u001b[39;49m\u001b[43m,\u001b[49m\u001b[43m \u001b[49m\u001b[38;5;241;43m*\u001b[39;49m\u001b[38;5;241;43m*\u001b[39;49m\u001b[43mkwargs\u001b[49m\u001b[43m)\u001b[49m\n\u001b[1;32m   1131\u001b[0m \u001b[38;5;66;03m# Do not call functions when jit is used\u001b[39;00m\n\u001b[1;32m   1132\u001b[0m full_backward_hooks, non_full_backward_hooks \u001b[38;5;241m=\u001b[39m [], []\n",
      "File \u001b[0;32m~/miniconda3/envs/motionbert/lib/python3.9/site-packages/torch/nn/modules/linear.py:114\u001b[0m, in \u001b[0;36mLinear.forward\u001b[0;34m(self, input)\u001b[0m\n\u001b[1;32m    113\u001b[0m \u001b[38;5;28;01mdef\u001b[39;00m \u001b[38;5;21mforward\u001b[39m(\u001b[38;5;28mself\u001b[39m, \u001b[38;5;28minput\u001b[39m: Tensor) \u001b[38;5;241m-\u001b[39m\u001b[38;5;241m>\u001b[39m Tensor:\n\u001b[0;32m--> 114\u001b[0m     \u001b[38;5;28;01mreturn\u001b[39;00m \u001b[43mF\u001b[49m\u001b[38;5;241;43m.\u001b[39;49m\u001b[43mlinear\u001b[49m\u001b[43m(\u001b[49m\u001b[38;5;28;43minput\u001b[39;49m\u001b[43m,\u001b[49m\u001b[43m \u001b[49m\u001b[38;5;28;43mself\u001b[39;49m\u001b[38;5;241;43m.\u001b[39;49m\u001b[43mweight\u001b[49m\u001b[43m,\u001b[49m\u001b[43m \u001b[49m\u001b[38;5;28;43mself\u001b[39;49m\u001b[38;5;241;43m.\u001b[39;49m\u001b[43mbias\u001b[49m\u001b[43m)\u001b[49m\n",
      "\u001b[0;31mKeyboardInterrupt\u001b[0m: "
     ]
    }
   ],
   "source": [
    "# sampling \n",
    "seed = 0\n",
    "random.seed(seed)\n",
    "total_num_data = 10000\n",
    "\n",
    "camera_param = {}\n",
    "for camera_id in ['54138969', '55011271', '58860488', '60457274']:\n",
    "    calibration_matrix = np.array(cam_param[camera_id]['int']['calibration_matrix'])\n",
    "    R = np.array(cam_param[camera_id]['ext']['R'])\n",
    "    t = np.array(cam_param[camera_id]['ext']['t']) * 0.001\n",
    "    camera_param[camera_id] = {\n",
    "        'intrinsic': calibration_matrix,\n",
    "        'extrinsic': np.concatenate([R, t.reshape(3, 1)], axis=1),\n",
    "        'fx': calibration_matrix[0, 0],\n",
    "        'fy': calibration_matrix[1, 1],\n",
    "        'cx': calibration_matrix[0, 2],\n",
    "        'cy': calibration_matrix[1, 2],\n",
    "    }\n",
    "\n",
    "save_folder = '/home/hrai/codes/MotionBERT/data/motion3d/random_limb_pkl'\n",
    "if not os.path.exists(save_folder):\n",
    "    os.makedirs(save_folder)\n",
    "\n",
    "for i in tqdm(range(total_num_data)):\n",
    "    save_path = save_folder + '/seed{}_{}.pkl'.format(seed, i)\n",
    "\n",
    "    data = {}\n",
    "    for key in ['joint_2d', 'confidence', 'joint3d_image', 'joints_2.5d_image', '2.5d_factor', 'camera_name', 'action', 'source', 'frame', 'world_3d', 'cam_3d', 'cam_param']:\n",
    "        data[key] = []\n",
    "\n",
    "    root_point_traj_num = random.randint(0, len(root_point_traj_list)-1)\n",
    "    upper_vector_traj_num = random.randint(0, len(upper_vector_traj_list)-1)\n",
    "    under_vector_traj_num = random.randint(0, len(under_vector_traj_list)-1)\n",
    "\n",
    "    root_point_start_idx = random.randint(0, len(root_point_traj_list)-243)\n",
    "    upper_vector_start_idx = random.randint(0, len(upper_vector_traj_list)-243)\n",
    "    under_vector_start_idx = random.randint(0, len(under_vector_traj_list)-243)\n",
    "\n",
    "    if os.path.exists(save_path): continue # locate here to keep the randoom seed consistent\n",
    "\n",
    "    root_point_traj = root_point_traj_list[root_point_traj_num][root_point_start_idx:root_point_start_idx+243]\n",
    "    upper_vector_traj = upper_vector_traj_list[upper_vector_traj_num][upper_vector_start_idx:upper_vector_start_idx+243] + root_point_traj\n",
    "    under_vector_traj = under_vector_traj_list[under_vector_traj_num][under_vector_start_idx:under_vector_start_idx+243] + upper_vector_traj\n",
    "\n",
    "    limb_trajectory = np.stack([root_point_traj, upper_vector_traj, under_vector_traj], axis=1)\n",
    "    \n",
    "    for camera_id in ['54138969', '55011271', '58860488', '60457274']:\n",
    "        fx = camera_param[camera_id]['fx']\n",
    "        fy = camera_param[camera_id]['fy']\n",
    "        cx = camera_param[camera_id]['cx']\n",
    "        cy = camera_param[camera_id]['cy']\n",
    "        for frame_num in range(len(limb_trajectory)):\n",
    "            # joint3d_image\n",
    "            world_3d = np.array(limb_trajectory[frame_num])\n",
    "\n",
    "            # world to camera\n",
    "            pos = copy.deepcopy(world_3d)\n",
    "            cam_3d = World2CameraCoordinate(pos, camera_param[camera_id]['extrinsic']) # World coordinate -> Camera coordinate\n",
    "            cam_3d_hat = get_rootrel_pose(cam_3d)\n",
    "\n",
    "            # camera to image\n",
    "            box = infer_box(cam_3d, {'fx': fx, 'fy': fy, 'cx': cx, 'cy': cy}, 0)\n",
    "            img_2d, img_3d = camera_to_image_frame(cam_3d, box, {'fx': fx, 'fy': fy, 'cx': cx, 'cy': cy}, 0) \n",
    "            #img_2d_hat = get_rootrel_pose(img_2d) # (3, 2) # root-relative pose \n",
    "            img_3d_hat = get_rootrel_pose(img_3d) # (3, 3) # root-relative pose \n",
    "\n",
    "            # 2.5d factor\n",
    "            pred_lambda, losses = optimize_scaling_factor(img_3d_hat, cam_3d_hat, stop_tolerance=0.0001) # x,y,z 사용\n",
    "\n",
    "            # joint 2.5d image\n",
    "            img_25d = img_3d * pred_lambda\n",
    "            #img_25d_hat = get_rootrel_pose(img_25d)\n",
    "\n",
    "            source = 'seed{}_{}'.format(seed, i)\n",
    "\n",
    "            # store\n",
    "            data['joint_2d'].append(np.array(img_2d).copy()) \n",
    "            data['confidence'].append(np.ones(3)) \n",
    "            data['joint3d_image'].append(np.array(img_3d).copy()) \n",
    "            data['joints_2.5d_image'].append(np.array(img_25d).copy()) \n",
    "            data['2.5d_factor'].append(np.array(pred_lambda).copy()) \n",
    "            data['camera_name'].append(np.array(camera_id).copy()) \n",
    "            data['action'].append(np.array(action).copy()) \n",
    "            data['source'].append(np.array(source).copy()) \n",
    "            data['frame'].append(np.array(frame_num).copy()) \n",
    "            data['world_3d'].append(np.array(world_3d).copy()) \n",
    "            data['cam_3d'].append(np.array(cam_3d).copy()) \n",
    "            data['cam_param'].append(np.array(camera_param[camera_id]).copy()) \n",
    "\n",
    "    # save\n",
    "    savepkl(data, save_path)"
   ]
  },
  {
   "cell_type": "markdown",
   "metadata": {},
   "source": [
    "### Check pkls by generating videos"
   ]
  },
  {
   "cell_type": "code",
   "execution_count": 11,
   "metadata": {},
   "outputs": [
    {
     "name": "stdout",
     "output_type": "stream",
     "text": [
      "0 1620\n",
      "(972, 3, 2)\n"
     ]
    },
    {
     "name": "stderr",
     "output_type": "stream",
     "text": [
      "  0%|          | 0/972 [00:00<?, ?it/s]IMAGEIO FFMPEG_WRITER WARNING: input image is not divisible by macro_block_size=16, resizing from (1000, 1000) to (1008, 1008) to ensure video compatibility with most codecs and players. To prevent resizing, make your input image divisible by the macro_block_size or set the macro_block_size to 1 (risking incompatibility).\n",
      "[swscaler @ 0x6617b40] Warning: data is not aligned! This can lead to a speed loss\n",
      "100%|██████████| 972/972 [00:10<00:00, 91.85it/s] \n"
     ]
    },
    {
     "name": "stdout",
     "output_type": "stream",
     "text": [
      "0 546\n",
      "(972, 3, 2)\n"
     ]
    },
    {
     "name": "stderr",
     "output_type": "stream",
     "text": [
      "  0%|          | 0/972 [00:00<?, ?it/s]IMAGEIO FFMPEG_WRITER WARNING: input image is not divisible by macro_block_size=16, resizing from (1000, 1000) to (1008, 1008) to ensure video compatibility with most codecs and players. To prevent resizing, make your input image divisible by the macro_block_size or set the macro_block_size to 1 (risking incompatibility).\n",
      "[swscaler @ 0x6bfcb40] Warning: data is not aligned! This can lead to a speed loss\n",
      "100%|██████████| 972/972 [00:10<00:00, 93.02it/s] \n"
     ]
    },
    {
     "name": "stdout",
     "output_type": "stream",
     "text": [
      "0 1222\n",
      "(972, 3, 2)\n"
     ]
    },
    {
     "name": "stderr",
     "output_type": "stream",
     "text": [
      "  0%|          | 0/972 [00:00<?, ?it/s]IMAGEIO FFMPEG_WRITER WARNING: input image is not divisible by macro_block_size=16, resizing from (1000, 1000) to (1008, 1008) to ensure video compatibility with most codecs and players. To prevent resizing, make your input image divisible by the macro_block_size or set the macro_block_size to 1 (risking incompatibility).\n",
      "[swscaler @ 0x6741b40] Warning: data is not aligned! This can lead to a speed loss\n",
      "100%|██████████| 972/972 [00:09<00:00, 99.47it/s] \n"
     ]
    },
    {
     "name": "stdout",
     "output_type": "stream",
     "text": [
      "0 1296\n",
      "(972, 3, 2)\n"
     ]
    },
    {
     "name": "stderr",
     "output_type": "stream",
     "text": [
      "  0%|          | 0/972 [00:00<?, ?it/s]IMAGEIO FFMPEG_WRITER WARNING: input image is not divisible by macro_block_size=16, resizing from (1000, 1000) to (1008, 1008) to ensure video compatibility with most codecs and players. To prevent resizing, make your input image divisible by the macro_block_size or set the macro_block_size to 1 (risking incompatibility).\n",
      "[swscaler @ 0x5e00b40] Warning: data is not aligned! This can lead to a speed loss\n",
      "100%|██████████| 972/972 [00:10<00:00, 89.86it/s] \n"
     ]
    },
    {
     "name": "stdout",
     "output_type": "stream",
     "text": [
      "0 1509\n",
      "(972, 3, 2)\n"
     ]
    },
    {
     "name": "stderr",
     "output_type": "stream",
     "text": [
      "  0%|          | 0/972 [00:00<?, ?it/s]IMAGEIO FFMPEG_WRITER WARNING: input image is not divisible by macro_block_size=16, resizing from (1000, 1000) to (1008, 1008) to ensure video compatibility with most codecs and players. To prevent resizing, make your input image divisible by the macro_block_size or set the macro_block_size to 1 (risking incompatibility).\n",
      "[swscaler @ 0x6646b40] Warning: data is not aligned! This can lead to a speed loss\n",
      "100%|██████████| 972/972 [00:10<00:00, 96.60it/s] \n"
     ]
    },
    {
     "name": "stdout",
     "output_type": "stream",
     "text": [
      "0 359\n",
      "(972, 3, 2)\n"
     ]
    },
    {
     "name": "stderr",
     "output_type": "stream",
     "text": [
      "  0%|          | 0/972 [00:00<?, ?it/s]IMAGEIO FFMPEG_WRITER WARNING: input image is not divisible by macro_block_size=16, resizing from (1000, 1000) to (1008, 1008) to ensure video compatibility with most codecs and players. To prevent resizing, make your input image divisible by the macro_block_size or set the macro_block_size to 1 (risking incompatibility).\n",
      "[swscaler @ 0x633db40] Warning: data is not aligned! This can lead to a speed loss\n",
      "100%|██████████| 972/972 [00:10<00:00, 89.56it/s] \n"
     ]
    },
    {
     "name": "stdout",
     "output_type": "stream",
     "text": [
      "0 1209\n",
      "(972, 3, 2)\n"
     ]
    },
    {
     "name": "stderr",
     "output_type": "stream",
     "text": [
      "  0%|          | 0/972 [00:00<?, ?it/s]IMAGEIO FFMPEG_WRITER WARNING: input image is not divisible by macro_block_size=16, resizing from (1000, 1000) to (1008, 1008) to ensure video compatibility with most codecs and players. To prevent resizing, make your input image divisible by the macro_block_size or set the macro_block_size to 1 (risking incompatibility).\n",
      "[swscaler @ 0x59d3b40] Warning: data is not aligned! This can lead to a speed loss\n",
      "100%|██████████| 972/972 [00:10<00:00, 91.97it/s] \n"
     ]
    },
    {
     "name": "stdout",
     "output_type": "stream",
     "text": [
      "0 2009\n",
      "(972, 3, 2)\n"
     ]
    },
    {
     "name": "stderr",
     "output_type": "stream",
     "text": [
      "  0%|          | 0/972 [00:00<?, ?it/s]IMAGEIO FFMPEG_WRITER WARNING: input image is not divisible by macro_block_size=16, resizing from (1000, 1000) to (1008, 1008) to ensure video compatibility with most codecs and players. To prevent resizing, make your input image divisible by the macro_block_size or set the macro_block_size to 1 (risking incompatibility).\n",
      "[swscaler @ 0x7262b40] Warning: data is not aligned! This can lead to a speed loss\n",
      "100%|██████████| 972/972 [00:10<00:00, 94.52it/s] \n"
     ]
    },
    {
     "name": "stdout",
     "output_type": "stream",
     "text": [
      "0 3926\n",
      "(972, 3, 2)\n"
     ]
    },
    {
     "name": "stderr",
     "output_type": "stream",
     "text": [
      "  0%|          | 0/972 [00:00<?, ?it/s]IMAGEIO FFMPEG_WRITER WARNING: input image is not divisible by macro_block_size=16, resizing from (1000, 1000) to (1008, 1008) to ensure video compatibility with most codecs and players. To prevent resizing, make your input image divisible by the macro_block_size or set the macro_block_size to 1 (risking incompatibility).\n",
      "[swscaler @ 0x7468b40] Warning: data is not aligned! This can lead to a speed loss\n",
      "100%|██████████| 972/972 [00:10<00:00, 90.42it/s] \n"
     ]
    },
    {
     "name": "stdout",
     "output_type": "stream",
     "text": [
      "0 2952\n",
      "(972, 3, 2)\n"
     ]
    },
    {
     "name": "stderr",
     "output_type": "stream",
     "text": [
      "  0%|          | 0/972 [00:00<?, ?it/s]IMAGEIO FFMPEG_WRITER WARNING: input image is not divisible by macro_block_size=16, resizing from (1000, 1000) to (1008, 1008) to ensure video compatibility with most codecs and players. To prevent resizing, make your input image divisible by the macro_block_size or set the macro_block_size to 1 (risking incompatibility).\n",
      "[swscaler @ 0x5ce6b40] Warning: data is not aligned! This can lead to a speed loss\n",
      "100%|██████████| 972/972 [00:10<00:00, 94.26it/s] \n"
     ]
    },
    {
     "name": "stdout",
     "output_type": "stream",
     "text": [
      "0 3069\n",
      "(972, 3, 2)\n"
     ]
    },
    {
     "name": "stderr",
     "output_type": "stream",
     "text": [
      "  0%|          | 0/972 [00:00<?, ?it/s]IMAGEIO FFMPEG_WRITER WARNING: input image is not divisible by macro_block_size=16, resizing from (1000, 1000) to (1008, 1008) to ensure video compatibility with most codecs and players. To prevent resizing, make your input image divisible by the macro_block_size or set the macro_block_size to 1 (risking incompatibility).\n",
      "[swscaler @ 0x5727b40] Warning: data is not aligned! This can lead to a speed loss\n",
      "100%|██████████| 972/972 [00:10<00:00, 96.24it/s] \n"
     ]
    },
    {
     "name": "stdout",
     "output_type": "stream",
     "text": [
      "0 799\n",
      "(972, 3, 2)\n"
     ]
    },
    {
     "name": "stderr",
     "output_type": "stream",
     "text": [
      "  0%|          | 0/972 [00:00<?, ?it/s]IMAGEIO FFMPEG_WRITER WARNING: input image is not divisible by macro_block_size=16, resizing from (1000, 1000) to (1008, 1008) to ensure video compatibility with most codecs and players. To prevent resizing, make your input image divisible by the macro_block_size or set the macro_block_size to 1 (risking incompatibility).\n",
      "[swscaler @ 0x585fb40] Warning: data is not aligned! This can lead to a speed loss\n",
      "100%|██████████| 972/972 [00:10<00:00, 96.78it/s] \n"
     ]
    },
    {
     "name": "stdout",
     "output_type": "stream",
     "text": [
      "0 2918\n",
      "(972, 3, 2)\n"
     ]
    },
    {
     "name": "stderr",
     "output_type": "stream",
     "text": [
      "  0%|          | 0/972 [00:00<?, ?it/s]IMAGEIO FFMPEG_WRITER WARNING: input image is not divisible by macro_block_size=16, resizing from (1000, 1000) to (1008, 1008) to ensure video compatibility with most codecs and players. To prevent resizing, make your input image divisible by the macro_block_size or set the macro_block_size to 1 (risking incompatibility).\n",
      "[swscaler @ 0x5a60b40] Warning: data is not aligned! This can lead to a speed loss\n",
      "100%|██████████| 972/972 [00:10<00:00, 93.59it/s] \n"
     ]
    },
    {
     "name": "stdout",
     "output_type": "stream",
     "text": [
      "0 3337\n",
      "(972, 3, 2)\n"
     ]
    },
    {
     "name": "stderr",
     "output_type": "stream",
     "text": [
      "  0%|          | 0/972 [00:00<?, ?it/s]IMAGEIO FFMPEG_WRITER WARNING: input image is not divisible by macro_block_size=16, resizing from (1000, 1000) to (1008, 1008) to ensure video compatibility with most codecs and players. To prevent resizing, make your input image divisible by the macro_block_size or set the macro_block_size to 1 (risking incompatibility).\n",
      "[swscaler @ 0x570cb40] Warning: data is not aligned! This can lead to a speed loss\n",
      "100%|██████████| 972/972 [00:10<00:00, 93.78it/s] \n"
     ]
    },
    {
     "name": "stdout",
     "output_type": "stream",
     "text": [
      "0 2574\n",
      "(972, 3, 2)\n"
     ]
    },
    {
     "name": "stderr",
     "output_type": "stream",
     "text": [
      "  0%|          | 0/972 [00:00<?, ?it/s]IMAGEIO FFMPEG_WRITER WARNING: input image is not divisible by macro_block_size=16, resizing from (1000, 1000) to (1008, 1008) to ensure video compatibility with most codecs and players. To prevent resizing, make your input image divisible by the macro_block_size or set the macro_block_size to 1 (risking incompatibility).\n",
      "[swscaler @ 0x5d36b40] Warning: data is not aligned! This can lead to a speed loss\n",
      "100%|██████████| 972/972 [00:10<00:00, 93.16it/s] \n"
     ]
    },
    {
     "name": "stdout",
     "output_type": "stream",
     "text": [
      "0 3479\n",
      "(972, 3, 2)\n"
     ]
    },
    {
     "name": "stderr",
     "output_type": "stream",
     "text": [
      "  0%|          | 0/972 [00:00<?, ?it/s]IMAGEIO FFMPEG_WRITER WARNING: input image is not divisible by macro_block_size=16, resizing from (1000, 1000) to (1008, 1008) to ensure video compatibility with most codecs and players. To prevent resizing, make your input image divisible by the macro_block_size or set the macro_block_size to 1 (risking incompatibility).\n",
      "[swscaler @ 0x65bfb40] Warning: data is not aligned! This can lead to a speed loss\n",
      "100%|██████████| 972/972 [00:10<00:00, 93.26it/s] \n"
     ]
    },
    {
     "name": "stdout",
     "output_type": "stream",
     "text": [
      "0 205\n",
      "(972, 3, 2)\n"
     ]
    },
    {
     "name": "stderr",
     "output_type": "stream",
     "text": [
      "  0%|          | 0/972 [00:00<?, ?it/s]IMAGEIO FFMPEG_WRITER WARNING: input image is not divisible by macro_block_size=16, resizing from (1000, 1000) to (1008, 1008) to ensure video compatibility with most codecs and players. To prevent resizing, make your input image divisible by the macro_block_size or set the macro_block_size to 1 (risking incompatibility).\n",
      "[swscaler @ 0x6e9eb40] Warning: data is not aligned! This can lead to a speed loss\n",
      "100%|██████████| 972/972 [00:10<00:00, 93.99it/s] \n"
     ]
    },
    {
     "name": "stdout",
     "output_type": "stream",
     "text": [
      "0 2709\n",
      "(972, 3, 2)\n"
     ]
    },
    {
     "name": "stderr",
     "output_type": "stream",
     "text": [
      "  0%|          | 0/972 [00:00<?, ?it/s]IMAGEIO FFMPEG_WRITER WARNING: input image is not divisible by macro_block_size=16, resizing from (1000, 1000) to (1008, 1008) to ensure video compatibility with most codecs and players. To prevent resizing, make your input image divisible by the macro_block_size or set the macro_block_size to 1 (risking incompatibility).\n",
      "[swscaler @ 0x61eeb40] Warning: data is not aligned! This can lead to a speed loss\n",
      "100%|██████████| 972/972 [00:10<00:00, 94.51it/s] \n"
     ]
    },
    {
     "name": "stdout",
     "output_type": "stream",
     "text": [
      "0 2188\n",
      "(972, 3, 2)\n"
     ]
    },
    {
     "name": "stderr",
     "output_type": "stream",
     "text": [
      "  0%|          | 0/972 [00:00<?, ?it/s]IMAGEIO FFMPEG_WRITER WARNING: input image is not divisible by macro_block_size=16, resizing from (1000, 1000) to (1008, 1008) to ensure video compatibility with most codecs and players. To prevent resizing, make your input image divisible by the macro_block_size or set the macro_block_size to 1 (risking incompatibility).\n",
      "[swscaler @ 0x7042b40] Warning: data is not aligned! This can lead to a speed loss\n",
      "100%|██████████| 972/972 [00:10<00:00, 90.47it/s] \n"
     ]
    },
    {
     "name": "stdout",
     "output_type": "stream",
     "text": [
      "0 1316\n",
      "(972, 3, 2)\n"
     ]
    },
    {
     "name": "stderr",
     "output_type": "stream",
     "text": [
      "  0%|          | 0/972 [00:00<?, ?it/s]IMAGEIO FFMPEG_WRITER WARNING: input image is not divisible by macro_block_size=16, resizing from (1000, 1000) to (1008, 1008) to ensure video compatibility with most codecs and players. To prevent resizing, make your input image divisible by the macro_block_size or set the macro_block_size to 1 (risking incompatibility).\n",
      "[swscaler @ 0x70a1b40] Warning: data is not aligned! This can lead to a speed loss\n",
      "100%|██████████| 972/972 [00:10<00:00, 92.22it/s] \n",
      "/home/hrai/codes/PoseAdaptor/my_utils/visualization.py:451: RuntimeWarning: More than 20 figures have been opened. Figures created through the pyplot interface (`matplotlib.pyplot.figure`) are retained until explicitly closed and may consume too much memory. (To control this warning, see the rcParam `figure.max_open_warning`). Consider using `matplotlib.pyplot.close()`.\n",
      "  fig = plt.figure()\n"
     ]
    },
    {
     "name": "stdout",
     "output_type": "stream",
     "text": [
      "0 1686\n",
      "(972, 3, 2)\n"
     ]
    },
    {
     "name": "stderr",
     "output_type": "stream",
     "text": [
      "  0%|          | 0/972 [00:00<?, ?it/s]IMAGEIO FFMPEG_WRITER WARNING: input image is not divisible by macro_block_size=16, resizing from (1000, 1000) to (1008, 1008) to ensure video compatibility with most codecs and players. To prevent resizing, make your input image divisible by the macro_block_size or set the macro_block_size to 1 (risking incompatibility).\n",
      "[swscaler @ 0x60cbb40] Warning: data is not aligned! This can lead to a speed loss\n",
      "100%|██████████| 972/972 [00:10<00:00, 92.76it/s] \n"
     ]
    },
    {
     "name": "stdout",
     "output_type": "stream",
     "text": [
      "0 3080\n",
      "(972, 3, 2)\n"
     ]
    },
    {
     "name": "stderr",
     "output_type": "stream",
     "text": [
      "  0%|          | 0/972 [00:00<?, ?it/s]IMAGEIO FFMPEG_WRITER WARNING: input image is not divisible by macro_block_size=16, resizing from (1000, 1000) to (1008, 1008) to ensure video compatibility with most codecs and players. To prevent resizing, make your input image divisible by the macro_block_size or set the macro_block_size to 1 (risking incompatibility).\n",
      "[swscaler @ 0x5fabb40] Warning: data is not aligned! This can lead to a speed loss\n",
      " 91%|█████████ | 881/972 [00:09<00:01, 89.41it/s] Exception ignored in: <bound method IPythonKernel._clean_thread_parent_frames of <ipykernel.ipkernel.IPythonKernel object at 0x7f53231c6fd0>>\n",
      "Traceback (most recent call last):\n",
      "  File \"/home/hrai/miniconda3/envs/motionbert/lib/python3.9/site-packages/ipykernel/ipkernel.py\", line 770, in _clean_thread_parent_frames\n",
      "    def _clean_thread_parent_frames(\n",
      "KeyboardInterrupt: \n",
      "100%|██████████| 972/972 [00:10<00:00, 92.00it/s] \n"
     ]
    },
    {
     "name": "stdout",
     "output_type": "stream",
     "text": [
      "0 587\n",
      "(972, 3, 2)\n"
     ]
    },
    {
     "name": "stderr",
     "output_type": "stream",
     "text": [
      "  0%|          | 0/972 [00:00<?, ?it/s]IMAGEIO FFMPEG_WRITER WARNING: input image is not divisible by macro_block_size=16, resizing from (1000, 1000) to (1008, 1008) to ensure video compatibility with most codecs and players. To prevent resizing, make your input image divisible by the macro_block_size or set the macro_block_size to 1 (risking incompatibility).\n",
      "[swscaler @ 0x6a8ab40] Warning: data is not aligned! This can lead to a speed loss\n",
      "100%|██████████| 972/972 [00:10<00:00, 94.97it/s] \n"
     ]
    },
    {
     "name": "stdout",
     "output_type": "stream",
     "text": [
      "0 637\n",
      "(972, 3, 2)\n"
     ]
    },
    {
     "name": "stderr",
     "output_type": "stream",
     "text": [
      "  0%|          | 0/972 [00:00<?, ?it/s]IMAGEIO FFMPEG_WRITER WARNING: input image is not divisible by macro_block_size=16, resizing from (1000, 1000) to (1008, 1008) to ensure video compatibility with most codecs and players. To prevent resizing, make your input image divisible by the macro_block_size or set the macro_block_size to 1 (risking incompatibility).\n",
      "[swscaler @ 0x554ab40] Warning: data is not aligned! This can lead to a speed loss\n",
      " 23%|██▎       | 226/972 [00:02<00:07, 103.47it/s]"
     ]
    }
   ],
   "source": [
    "for item in glob('/home/hrai/codes/MotionBERT/data/motion3d/random_limb_pkl/seed*_*.pkl'):\n",
    "    data = readpkl(item)\n",
    "    seed = int(item.split('/')[-1].split('_')[0][4:])\n",
    "    num = int(item.split('/')[-1].split('_')[1].split('.')[0])\n",
    "    print(seed, num)\n",
    "    video_path = '/home/hrai/codes/MotionBERT/custom_codes/DHDST/seed{}_{}.mp4'.format(seed, num)\n",
    "    if os.path.exists(video_path): continue\n",
    "    print(np.array(data['joint_2d']).shape)\n",
    "    save_h36m_pose_video(np.array(data['joint_2d']), video_path, dataset='limb', W=1000, H=1000, pose_type='2d', fps=30,\n",
    "                            xlim=(-1, 1), ylim=(-1, 1), zlim=(0, 2), view=(0, 45),\n",
    "                            centered_xy=False, cam_space=False, on_ground=False, refine_tilt=False,  \n",
    "                            dynamic_view=False, dual_view=False,\n",
    "                            imgs=None,\n",
    "                            show_axis=False)"
   ]
  },
  {
   "cell_type": "markdown",
   "metadata": {},
   "source": [
    "### generate total pkl"
   ]
  },
  {
   "cell_type": "code",
   "execution_count": 7,
   "metadata": {},
   "outputs": [
    {
     "name": "stdout",
     "output_type": "stream",
     "text": [
      "1600 400 [1748, 1361, 1671, 865, 1288] [390, 200, 1921, 1082, 1383]\n"
     ]
    }
   ],
   "source": [
    "# split train/test \n",
    "pkl_folder = '/home/hrai/codes/MotionBERT/data/motion3d/random_limb_pkl/'\n",
    "random.seed(0)\n",
    "l = [x for x in range(len(os.listdir(pkl_folder)))][:2000]\n",
    "random.shuffle(l)\n",
    "train_list = l[:int(len(l)*0.8)]\n",
    "test_list = l[int(len(l)*0.8):]\n",
    "print(len(train_list), len(test_list), train_list[:5], test_list[:5])"
   ]
  },
  {
   "cell_type": "code",
   "execution_count": 11,
   "metadata": {},
   "outputs": [
    {
     "name": "stderr",
     "output_type": "stream",
     "text": [
      "100%|██████████| 4000/4000 [00:49<00:00, 80.11it/s] \n"
     ]
    },
    {
     "data": {
      "text/plain": [
       "((1555200, 3, 3), (388800, 3, 3))"
      ]
     },
     "execution_count": 11,
     "metadata": {},
     "output_type": "execute_result"
    }
   ],
   "source": [
    "joint_2ds = {'train': [], 'test': []}\n",
    "confidences = {'train': [], 'test': []}\n",
    "joint3d_images = {'train': [], 'test': []}\n",
    "joints_25d_images = {'train': [], 'test': []}\n",
    "_25d_factors = {'train': [], 'test': []}\n",
    "camera_names = {'train': [], 'test': []}\n",
    "actions = {'train': [], 'test': []}\n",
    "sources = {'train': [], 'test': []}\n",
    "frames = {'train': [], 'test': []}\n",
    "world_3ds = {'train': [], 'test': []}\n",
    "cam_3ds = {'train': [], 'test': []}\n",
    "cam_params = {'train': [], 'test': []}\n",
    "\n",
    "# target \n",
    "\n",
    "#action_list = ['squat', 'pushup', 'kneeup', 'benchpress', 'burpee', 'cat', 'yoga']\n",
    "#test_subject = ['S12', 'S15', 'S18'] # ['S01', 'S02', 'S03', 'S04', 'S05', 'S06', 'S07', 'S08', 'S09', 'S10']\n",
    "#camera_list = [1, 2, 3, 4, 5] # [1, 2, 3, 4, 5]\n",
    "# pelvis, r_hip, l_hip, torso, neck, l_shoulder, r_shoulder = 0, 1, 4, 7, 8, 11, 14\n",
    "# r_knee, r_ankle, l_knee, l_ankle = 2, 3, 5, 6\n",
    "# l_elbow, l_wrist, r_elbow, r_wrist = 12, 13, 15, 16\n",
    "# joint_list = [j for j in range(17)] # [r_knee, r_ankle, l_knee, l_ankle, l_elbow, l_wrist, r_elbow, r_wrist] # [j for j in range(17)]\n",
    "only_test = False\n",
    "\n",
    "blacklist = []\n",
    "\n",
    "for item in tqdm(os.listdir(pkl_folder)):\n",
    "    seed, num = item.split('.')[0].split('seed')[1].split('_')\n",
    "    #print(seed, num)\n",
    "    # filtering\n",
    "    #if action not in action_list: continue \n",
    "    #if int(cam_num) not in camera_list: continue\n",
    "    #if only_test:\n",
    "    #    if subject not in test_subject: continue\n",
    "    #if subject in blacklist: continue\n",
    "    #print(subject, cam_num, action, phase) \n",
    "    \n",
    "    if int(num) in test_list: data_type = 'test'\n",
    "    elif int(num) in train_list: data_type = 'train'\n",
    "    else: continue \n",
    "    \n",
    "    item_path = os.path.join(pkl_folder, item) \n",
    "    data = readpkl(item_path) \n",
    "    \n",
    "    joint_2ds[data_type] += list(np.array(data['joint_2d'])) \n",
    "    confidences[data_type] += list(np.array(data['confidence'])) \n",
    "    joint3d_images[data_type] += list(np.array(data['joint3d_image'])) \n",
    "    joints_25d_images[data_type] += list(np.array(data['joints_2.5d_image'])) \n",
    "    _25d_factors[data_type] += data['2.5d_factor'] \n",
    "    camera_names[data_type] += data['camera_name']  \n",
    "    actions[data_type] += data['action'] \n",
    "    sources[data_type] += data['source'] \n",
    "    frames[data_type] += data['frame'] \n",
    "    world_3ds[data_type] += list(np.array(data['world_3d'])) \n",
    "    cam_3ds[data_type] += list(np.array(data['cam_3d']))\n",
    "    cam_params[data_type] += data['cam_param'] \n",
    "    \n",
    "kookmin_total = {'train': {}, 'test': {}}\n",
    "\n",
    "for data_type in ['train', 'test']:\n",
    "    kookmin_total[data_type]['joint_2d']          = copy.deepcopy(np.array(joint_2ds[data_type]))\n",
    "    kookmin_total[data_type]['confidence']        = copy.deepcopy(np.array(confidences[data_type]))\n",
    "    kookmin_total[data_type]['joint3d_image']     = copy.deepcopy(np.array(joint3d_images[data_type]))\n",
    "    kookmin_total[data_type]['joints_2.5d_image'] = copy.deepcopy(np.array(joints_25d_images[data_type]))\n",
    "    kookmin_total[data_type]['2.5d_factor']       = copy.deepcopy(np.array(_25d_factors[data_type]))\n",
    "    kookmin_total[data_type]['camera_name']       = copy.deepcopy(np.array(camera_names[data_type]))\n",
    "    kookmin_total[data_type]['action']            = copy.deepcopy(np.array(actions[data_type]))\n",
    "    kookmin_total[data_type]['source']            = copy.deepcopy(np.array(sources[data_type]))\n",
    "    kookmin_total[data_type]['frame']             = copy.deepcopy(np.array(frames[data_type]))\n",
    "    kookmin_total[data_type]['world_3d']          = copy.deepcopy(np.array(world_3ds[data_type]))\n",
    "    kookmin_total[data_type]['cam_3d']            = copy.deepcopy(np.array(cam_3ds[data_type]))\n",
    "    kookmin_total[data_type]['cam_param']         = copy.deepcopy(np.array(cam_params[data_type]))\n",
    "    \n",
    "# if len(kookmin_total['train']['joint_2d']) == 0:\n",
    "#     kookmin_total['train'] = copy.deepcopy(kookmin_total['test'])\n",
    "\n",
    "kookmin_total['train']['joint3d_image'].shape, kookmin_total['test']['joint3d_image'].shape  "
   ]
  },
  {
   "cell_type": "code",
   "execution_count": 12,
   "metadata": {},
   "outputs": [
    {
     "data": {
      "text/plain": [
       "((388800, 3), (388800,))"
      ]
     },
     "execution_count": 12,
     "metadata": {},
     "output_type": "execute_result"
    }
   ],
   "source": [
    "kookmin_total['test']['confidence'].shape, kookmin_total['test']['source'].shape"
   ]
  },
  {
   "cell_type": "code",
   "execution_count": 13,
   "metadata": {},
   "outputs": [],
   "source": [
    "user = getpass.getuser()\n",
    "motionbert_root = '/home/{}/codes/MotionBERT'.format(user)\n",
    "save_path = os.path.join(motionbert_root, 'data/motion3d/random_limb_train{}_test{}.pkl'.format(len(train_list), len(test_list)))\n",
    "savepkl(kookmin_total, save_path)"
   ]
  },
  {
   "cell_type": "code",
   "execution_count": 15,
   "metadata": {},
   "outputs": [
    {
     "data": {
      "text/plain": [
       "dict_keys(['joint_2d', 'confidence', 'joint3d_image', 'joints_2.5d_image', '2.5d_factor', 'camera_name', 'action', 'source', 'frame', 'world_3d', 'cam_3d', 'cam_param'])"
      ]
     },
     "execution_count": 15,
     "metadata": {},
     "output_type": "execute_result"
    }
   ],
   "source": [
    "kookmin_total['train'].keys()"
   ]
  },
  {
   "cell_type": "code",
   "execution_count": 16,
   "metadata": {},
   "outputs": [
    {
     "data": {
      "text/plain": [
       "array([[1.92123161, 1.35774198, 0.        ],\n",
       "       [1.95684887, 1.85142271, 0.08006528],\n",
       "       [1.81702749, 2.26153837, 0.2461267 ]])"
      ]
     },
     "execution_count": 16,
     "metadata": {},
     "output_type": "execute_result"
    }
   ],
   "source": [
    "kookmin_total['train']['joints_2.5d_image'][0]"
   ]
  },
  {
   "cell_type": "code",
   "execution_count": 19,
   "metadata": {},
   "outputs": [
    {
     "data": {
      "text/plain": [
       "237.21360842147308"
      ]
     },
     "execution_count": 19,
     "metadata": {},
     "output_type": "execute_result"
    }
   ],
   "source": [
    "1/kookmin_total['train']['2.5d_factor'][0]"
   ]
  },
  {
   "cell_type": "code",
   "execution_count": 20,
   "metadata": {},
   "outputs": [
    {
     "data": {
      "text/plain": [
       "array([[455.74228318, 322.07487359,   0.        ],\n",
       "       [464.19118122, 439.18266141,  18.99257455],\n",
       "       [431.02364755, 536.46767742,  58.38460334]])"
      ]
     },
     "execution_count": 20,
     "metadata": {},
     "output_type": "execute_result"
    }
   ],
   "source": [
    "kookmin_total['train']['joints_2.5d_image'][0] / kookmin_total['train']['2.5d_factor'][0]"
   ]
  },
  {
   "cell_type": "code",
   "execution_count": 17,
   "metadata": {},
   "outputs": [
    {
     "data": {
      "text/plain": [
       "array([[455.74228318, 322.07487359,   0.        ],\n",
       "       [464.19118122, 439.18266141,  18.99257455],\n",
       "       [431.02364755, 536.46767742,  58.38460334]])"
      ]
     },
     "execution_count": 17,
     "metadata": {},
     "output_type": "execute_result"
    }
   ],
   "source": [
    "kookmin_total['train']['joint3d_image'][0]"
   ]
  }
 ],
 "metadata": {
  "kernelspec": {
   "display_name": "motionbert",
   "language": "python",
   "name": "python3"
  },
  "language_info": {
   "codemirror_mode": {
    "name": "ipython",
    "version": 3
   },
   "file_extension": ".py",
   "mimetype": "text/x-python",
   "name": "python",
   "nbconvert_exporter": "python",
   "pygments_lexer": "ipython3",
   "version": "3.9.18"
  },
  "orig_nbformat": 4
 },
 "nbformat": 4,
 "nbformat_minor": 2
}
