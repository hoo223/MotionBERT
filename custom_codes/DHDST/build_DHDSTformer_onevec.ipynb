{
 "cells": [
  {
   "cell_type": "code",
   "execution_count": 1,
   "metadata": {},
   "outputs": [],
   "source": [
    "%load_ext autoreload\n",
    "%autoreload 2\n",
    "%matplotlib widget\n",
    "import os, sys\n",
    "sys.path.append('/home/hrai/codes/hpe_library/')\n",
    "from lib_import import *\n",
    "from my_utils import *\n",
    "os.chdir('/home/hrai/codes/MotionBERT')"
   ]
  },
  {
   "cell_type": "markdown",
   "metadata": {},
   "source": [
    "### Load H36M"
   ]
  },
  {
   "cell_type": "code",
   "execution_count": 26,
   "metadata": {},
   "outputs": [
    {
     "name": "stdout",
     "output_type": "stream",
     "text": [
      "==> Loading 3D data wrt World CS...\n"
     ]
    }
   ],
   "source": [
    "h36m_3d_world, h36m_cam_param = load_h36m()"
   ]
  },
  {
   "cell_type": "code",
   "execution_count": 2,
   "metadata": {},
   "outputs": [
    {
     "name": "stdout",
     "output_type": "stream",
     "text": [
      "checkpoint/pose3d/MB_ft_h36m/best_epoch.bin MB ['H36M-SH']\n",
      "Loading dataset...\n"
     ]
    }
   ],
   "source": [
    "from lib.utils.tools import * # get_config\n",
    "from lib.data.datareader_h36m import DataReaderH36M\n",
    "from lib.data.dataset_motion_3d import MotionDataset3D\n",
    "\n",
    "opts = parse_args_by_model_name(target='MB_ft_h36m')\n",
    "args = get_config(opts.config)\n",
    "print(opts.evaluate, args.model, args.subset_list)\n",
    "\n",
    "args.dt_file = 'h36m_sh_s1.pkl' # 'h36m_sh_with_no_factor.pkl'\n",
    "args.subset_list = ['H36M-SH_S1_WITH_NO_FACTOR']\n",
    "datareader = DataReaderH36M(n_frames=args.clip_len, \n",
    "                            sample_stride=args.sample_stride, \n",
    "                            data_stride_train=args.data_stride, \n",
    "                            data_stride_test=args.clip_len, \n",
    "                            dt_root = 'data/motion3d', \n",
    "                            dt_file=args.dt_file)\n",
    "\n",
    "args.batch_size = 2\n",
    "print('Loading dataset...')\n",
    "trainloader_params = {\n",
    "        'batch_size': args.batch_size,\n",
    "        'shuffle': True,\n",
    "        'num_workers': 12,\n",
    "        'pin_memory': True,\n",
    "        'prefetch_factor': 4,\n",
    "        'persistent_workers': True\n",
    "}\n",
    "testloader_params = {\n",
    "        'batch_size': args.batch_size,\n",
    "        'shuffle': False,\n",
    "        'num_workers': 12,\n",
    "        'pin_memory': True,\n",
    "        'prefetch_factor': 4,\n",
    "        'persistent_workers': True\n",
    "}\n",
    "train_dataset = MotionDataset3D(args, args.subset_list, 'train')\n",
    "train_loader = DataLoader(train_dataset, **trainloader_params)\n",
    "test_dataset = MotionDataset3D(args, args.subset_list, 'test')\n",
    "test_loader = DataLoader(test_dataset, **testloader_params)"
   ]
  },
  {
   "cell_type": "code",
   "execution_count": 4,
   "metadata": {},
   "outputs": [
    {
     "name": "stderr",
     "output_type": "stream",
     "text": [
      "0it [00:01, ?it/s]\n"
     ]
    }
   ],
   "source": [
    "for idx, (batch_input, batch_gt) in tqdm(enumerate(train_loader)):    \n",
    "    batch_size = len(batch_input)        \n",
    "    if torch.cuda.is_available():\n",
    "        batch_input = batch_input.cuda()\n",
    "        batch_gt = batch_gt.cuda()\n",
    "    break"
   ]
  },
  {
   "cell_type": "code",
   "execution_count": 5,
   "metadata": {},
   "outputs": [
    {
     "data": {
      "text/plain": [
       "(torch.Size([2, 243, 17, 3]), torch.Size([2, 243, 17, 3]))"
      ]
     },
     "execution_count": 5,
     "metadata": {},
     "output_type": "execute_result"
    }
   ],
   "source": [
    "batch_input.shape, batch_gt.shape"
   ]
  },
  {
   "cell_type": "markdown",
   "metadata": {},
   "source": [
    "### Load pkl"
   ]
  },
  {
   "cell_type": "code",
   "execution_count": 27,
   "metadata": {},
   "outputs": [
    {
     "name": "stdout",
     "output_type": "stream",
     "text": [
      "/home/hrai/codes/MotionBERT/data/motion3d/h36m_train_pkl/S1_54138969_Walking.pkl\n"
     ]
    }
   ],
   "source": [
    "for item in glob('/home/hrai/codes/MotionBERT/data/motion3d/h36m_gt_pkl' + '/*'):\n",
    "    print(item)\n",
    "    data = readpkl(item)\n",
    "    break"
   ]
  },
  {
   "cell_type": "code",
   "execution_count": 28,
   "metadata": {},
   "outputs": [
    {
     "data": {
      "text/plain": [
       "dict_keys(['joint_2d', 'confidence', 'joint3d_image', 'joints_2.5d_image', '2.5d_factor', 'camera_name', 'action', 'source', 'frame', 'world_3d', 'cam_3d', 'cam_param'])"
      ]
     },
     "execution_count": 28,
     "metadata": {},
     "output_type": "execute_result"
    }
   ],
   "source": [
    "data.keys()"
   ]
  },
  {
   "cell_type": "code",
   "execution_count": 39,
   "metadata": {},
   "outputs": [
    {
     "data": {
      "text/plain": [
       "(torch.Size([1, 3134, 17, 2]), torch.Size([1, 3134, 17, 3]))"
      ]
     },
     "execution_count": 39,
     "metadata": {},
     "output_type": "execute_result"
    }
   ],
   "source": [
    "joint_2d = normalize_input(np.array(data['joint_2d']), W=1000, H=1000) \n",
    "joint_3d = np.array(data['world_3d']) # /1000\n",
    "batch_input = torch.from_numpy(joint_2d).float().unsqueeze(0)\n",
    "batch_gt = torch.from_numpy(joint_3d).float().unsqueeze(0)\n",
    "batch_input.shape, batch_gt.shape"
   ]
  },
  {
   "cell_type": "markdown",
   "metadata": {},
   "source": [
    "### Extract upper limb data"
   ]
  },
  {
   "cell_type": "markdown",
   "metadata": {},
   "source": [
    "#### Input"
   ]
  },
  {
   "cell_type": "code",
   "execution_count": 41,
   "metadata": {},
   "outputs": [],
   "source": [
    "# get the keypoint index\n",
    "r_hip = get_h36m_keypoint_index('r_hip')\n",
    "l_hip = get_h36m_keypoint_index('l_hip')\n",
    "r_shoulder = get_h36m_keypoint_index('r_shoulder')\n",
    "l_shoulder = get_h36m_keypoint_index('l_shoulder')\n",
    "r_elbow = get_h36m_keypoint_index('r_elbow')\n",
    "l_elbow = get_h36m_keypoint_index('l_elbow')\n",
    "r_knee = get_h36m_keypoint_index('r_knee')\n",
    "l_knee = get_h36m_keypoint_index('l_knee')"
   ]
  },
  {
   "cell_type": "code",
   "execution_count": 42,
   "metadata": {},
   "outputs": [],
   "source": [
    "# 2D p1, p2\n",
    "p1_r_hip = batch_input[:, :, r_hip, :2].unsqueeze(2) # torch.Size([1, 243, 1, 2])\n",
    "p1_l_hip = batch_input[:, :, l_hip, :2].unsqueeze(2) # torch.Size([1, 243, 1, 2])\n",
    "p1_r_shoulder = batch_input[:, :, r_shoulder, :2].unsqueeze(2) # torch.Size([1, 243, 1, 2])\n",
    "p1_l_shoulder = batch_input[:, :, l_shoulder, :2].unsqueeze(2) # torch.Size([1, 243, 1, 2])\n",
    "p2_r_elbow = batch_input[:, :, r_elbow, :2].unsqueeze(2) # torch.Size([1, 243, 1, 2])\n",
    "p2_l_elbow = batch_input[:, :, l_elbow, :2].unsqueeze(2) # torch.Size([1, 243, 1, 2])\n",
    "p2_r_knee = batch_input[:, :, r_knee, :2].unsqueeze(2) # torch.Size([1, 243, 1, 2])\n",
    "p2_l_knee = batch_input[:, :, l_knee, :2].unsqueeze(2) # torch.Size([1, 243, 1, 2])\n",
    "\n",
    "# 2D vector\n",
    "v_r_upper_leg = p2_r_knee - p1_r_hip # torch.Size([1, 243, 1, 2])\n",
    "v_l_upper_leg = p2_l_knee - p1_l_hip # torch.Size([1, 243, 1, 2])\n",
    "v_r_upper_arm = p2_r_elbow - p1_r_shoulder # torch.Size([1, 243, 1, 2])\n",
    "v_l_upper_arm = p2_l_elbow - p1_l_shoulder # torch.Size([1, 243, 1, 2])\n",
    "\n",
    "# input\n",
    "input_r_upper_leg = torch.cat([p1_r_hip, v_r_upper_leg], dim=2)\n",
    "input_l_upper_leg = torch.cat([p1_l_hip, v_l_upper_leg], dim=2)\n",
    "input_r_upper_arm = torch.cat([p1_r_shoulder, v_r_upper_arm], dim=2)\n",
    "input_l_upper_arm = torch.cat([p1_l_shoulder, v_l_upper_arm], dim=2)"
   ]
  },
  {
   "cell_type": "code",
   "execution_count": 43,
   "metadata": {},
   "outputs": [
    {
     "data": {
      "text/plain": [
       "(torch.Size([1, 3134, 1, 2]),\n",
       " torch.Size([1, 3134, 1, 2]),\n",
       " torch.Size([1, 3134, 1, 2]),\n",
       " torch.Size([1, 3134, 1, 2]),\n",
       " torch.Size([1, 3134, 1, 2]))"
      ]
     },
     "execution_count": 43,
     "metadata": {},
     "output_type": "execute_result"
    }
   ],
   "source": [
    "p1_r_hip.shape, v_r_upper_leg.shape, v_l_upper_leg.shape, v_r_upper_arm.shape, v_l_upper_arm.shape"
   ]
  },
  {
   "cell_type": "markdown",
   "metadata": {},
   "source": [
    "#### GT"
   ]
  },
  {
   "cell_type": "code",
   "execution_count": 44,
   "metadata": {},
   "outputs": [],
   "source": [
    "# 3D d1, d2\n",
    "d1_r_hip = batch_gt[:, :, r_hip].unsqueeze(2) # torch.Size([1, F, 1, 3])\n",
    "d1_l_hip = batch_gt[:, :, l_hip].unsqueeze(2) # torch.Size([1, F, 1, 3])\n",
    "d1_r_shoulder = batch_gt[:, :, r_shoulder].unsqueeze(2) # torch.Size([1, F, 1, 3])\n",
    "d1_l_shoulder = batch_gt[:, :, l_shoulder].unsqueeze(2) # torch.Size([1, F, 1, 3])\n",
    "d2_r_knee = batch_gt[:, :, r_knee].unsqueeze(2) # torch.Size([1, F, 1, 3])\n",
    "d2_l_knee = batch_gt[:, :, l_knee].unsqueeze(2) # torch.Size([1, F, 1, 3])\n",
    "d2_r_elbow = batch_gt[:, :, r_elbow].unsqueeze(2) # torch.Size([1, F, 1, 3])\n",
    "d2_l_elbow = batch_gt[:, :, l_elbow].unsqueeze(2) # torch.Size([1, F, 1, 3])\n",
    "\n",
    "# 3D vector\n",
    "k_r_upper_leg = d2_r_knee - d1_r_hip # torch.Size([1, F, 1, 3])\n",
    "k_l_upper_leg = d2_l_knee - d1_l_hip # torch.Size([1, F, 1, 3])\n",
    "k_r_upper_arm = d2_r_elbow - d1_r_shoulder # torch.Size([1, F, 1, 3])\n",
    "k_l_upper_arm = d2_l_elbow - d1_l_shoulder # torch.Size([1, F, 1, 3])\n",
    "\n",
    "# Azimuth, Elevation angle\n",
    "R_azim_r_upper_leg, R_elev_r_upper_leg = calculate_batch_azimuth_elevation(k_r_upper_leg[:, :, 0]) # torch.Size([1, F])\n",
    "R_azim_l_upper_leg, R_elev_l_upper_leg = calculate_batch_azimuth_elevation(k_l_upper_leg[:, :, 0]) # torch.Size([1, F])\n",
    "R_azim_r_upper_arm, R_elev_r_upper_arm = calculate_batch_azimuth_elevation(k_r_upper_arm[:, :, 0]) # torch.Size([1, F])\n",
    "R_azim_l_upper_arm, R_elev_l_upper_arm = calculate_batch_azimuth_elevation(k_l_upper_arm[:, :, 0]) # torch.Size([1, F])\n",
    "\n",
    "R_r_upper_leg = torch.cat([R_azim_r_upper_leg.unsqueeze(-1), R_elev_r_upper_leg.unsqueeze(-1)], dim=-1) # torch.Size([1, F, 2])\n",
    "R_l_upper_leg = torch.cat([R_azim_l_upper_leg.unsqueeze(-1), R_elev_l_upper_leg.unsqueeze(-1)], dim=-1) # torch.Size([1, F, 2])\n",
    "R_r_upper_arm = torch.cat([R_azim_r_upper_arm.unsqueeze(-1), R_elev_r_upper_arm.unsqueeze(-1)], dim=-1) # torch.Size([1, F, 2])\n",
    "R_l_upper_arm = torch.cat([R_azim_l_upper_arm.unsqueeze(-1), R_elev_l_upper_arm.unsqueeze(-1)], dim=-1) # torch.Size([1, F, 2])\n",
    "\n",
    "# Bone length\n",
    "L_r_upper_leg = torch.mean(torch.norm(k_r_upper_leg, dim=-1), dim=1, keepdim=True) # torch.Size([1, 1])\n",
    "L_l_upper_leg = torch.mean(torch.norm(k_l_upper_leg, dim=-1), dim=1, keepdim=True) # torch.Size([1, 1])\n",
    "L_r_upper_arm = torch.mean(torch.norm(k_r_upper_arm, dim=-1), dim=1, keepdim=True) # torch.Size([1, 1])\n",
    "L_l_upper_arm = torch.mean(torch.norm(k_l_upper_arm, dim=-1), dim=1, keepdim=True) # torch.Size([1, 1])"
   ]
  },
  {
   "cell_type": "code",
   "execution_count": 45,
   "metadata": {},
   "outputs": [
    {
     "data": {
      "text/plain": [
       "(torch.Size([1, 3134]),\n",
       " torch.Size([1, 3134]),\n",
       " torch.Size([1, 1, 1]),\n",
       " torch.Size([1, 3134, 3]))"
      ]
     },
     "execution_count": 45,
     "metadata": {},
     "output_type": "execute_result"
    }
   ],
   "source": [
    "R_azim_r_upper_leg.shape, R_elev_r_upper_leg.shape, L_r_upper_leg.shape, d1_r_hip[:, : , 0].shape"
   ]
  },
  {
   "cell_type": "code",
   "execution_count": 46,
   "metadata": {},
   "outputs": [
    {
     "data": {
      "text/plain": [
       "(torch.Size([1, 3134, 3]), torch.Size([1, 3134, 1, 3]))"
      ]
     },
     "execution_count": 46,
     "metadata": {},
     "output_type": "execute_result"
    }
   ],
   "source": [
    "d2_r_knee_recovered.shape, d2_r_knee.shape"
   ]
  },
  {
   "cell_type": "code",
   "execution_count": 47,
   "metadata": {},
   "outputs": [
    {
     "data": {
      "text/plain": [
       "tensor(1.9802e-08)"
      ]
     },
     "execution_count": 47,
     "metadata": {},
     "output_type": "execute_result"
    }
   ],
   "source": [
    "# check length and angles\n",
    "d2_r_knee_recovered = batch_azim_elev_to_vec(R_azim_r_upper_leg, R_elev_r_upper_leg, L_r_upper_leg, d1_r_hip[:, : , 0])\n",
    "(d2_r_knee_recovered - d2_r_knee[:, :, 0]).mean()"
   ]
  },
  {
   "cell_type": "markdown",
   "metadata": {},
   "source": [
    "#### Check extracted data"
   ]
  },
  {
   "cell_type": "code",
   "execution_count": 55,
   "metadata": {},
   "outputs": [
    {
     "data": {
      "application/vnd.jupyter.widget-view+json": {
       "model_id": "007502d45e064adf9a67235944401235",
       "version_major": 2,
       "version_minor": 0
      },
      "image/png": "[encoded data removed]",
      "text/html": [
       "\n",
       "            <div style=\"display: inline-block;\">\n",
       "                <div class=\"jupyter-widgets widget-label\" style=\"text-align: center;\">\n",
       "                    Figure 0\n",
       "                </div>\n",
       "                <img src='data:image/png;base64,iVBORw0KGgoAAAANSUhEUgAAA+gAAAPoCAYAAABNo9TkAAAAOXRFWHRTb2Z0d2FyZQBNYXRwbG90bGliIHZlcnNpb24zLjguMiwgaHR0cHM6Ly9tYXRwbG90bGliLm9yZy8g+/7EAAAACXBIWXMAAA9hAAAPYQGoP6dpAABqy0lEQVR4nO3de5SddX0v/s+ea2aSmRBCiCRMCBAuIRBCQiJ3UFFKUeuyGLSFWrWSHo9F21NZVY+rv9ZatfbUS10qeqQVxdOC4m2hqCDIXS6BEEhC7uRCEiaXud9n798fYbYZEiBD9jPzncnrtVbWembP3t/vd56ZPJ/nvZ/v8925QqFQCAAAAGBElY30AAAAAAABHQAAAJIgoAMAAEACBHQAAABIgIAOAAAACRDQAQAAIAECOgAAACRAQAcAAIAECOgAAACQAAEdAAAAEiCgAwAAQAIEdAAAAEiAgA4AAAAJENABAAAgAQI6AAAAJEBABwAAgAQI6AAAAJAAAR0AAAASIKADAABAAgR0AAAASICADgAAAAkQ0AEAACABAjoAAAAkQEAHAACABAjoAAAAkAABHQAAABIgoAMAAEACBHQAAABIgIAOAAAACRDQAQAAIAECOgAAACRAQAcAAIAECOgAAACQAAEdAAAAEiCgAwAAQAIEdAAAAEiAgA4AAAAJENABAAAgAQI6AAAAJEBABwAAgAQI6AAAAJAAAR0AAAASIKADAABAAgR0AAAASICADgAAAAkQ0AEAACABAjoAAAAkQEAHAACABAjoAAAAkAABHQAAABIgoAMAAEACBHQAAABIgIAOAAAACRDQAQAAIAECOgAAACRAQAcAAIAECOgAAACQAAEdAAAAEiCgAwAAQAIEdAAAAEiAgA4AAAAJENABAAAgAQI6AAAAJEBABwAAgAQI6AAAAJAAAR0AAAASIKADAABAAgR0AAAASICADgAAAAkQ0AEAACABAjoAAAAkQEAHAACABAjoAAAAkAABHQAAABIgoAMAAEACBHQAAABIgIAOAAAACRDQAQAAIAECOgAAACRAQAcAAIAECOgAAACQAAEdAAAAEiCgAwAAQAIEdAAAAEiAgA4AAAAJENABAAAgAQI6AAAAJEBABwAAgAQI6AAAAJAAAR0AAAASIKADAABAAgR0AAAASICADgAAAAkQ0AEAACABAjoAAAAkQEAHAACABAjoAAAAkAABHUhOX19fXH/99dHQ0BBlZWXxjne8Y6SHBAAAmRPQYQx79NFH48Mf/nDMmTMnxo8fHzNmzIjFixfH6tWr93vuJZdcErlcLnK5XJSVlUV9fX2ccsopcc0118Svf/3rYR33jTfeGF/4whfiyiuvjO985zvx13/918PaPwAcbA1NqX4Co1+uUCgURnoQQDauvPLKeOCBB+Jd73pXzJ07N7Zv3x5f/epXo62tLR5++OE4/fTTi8+95JJLYt26dfHZz342IiLa29tj7dq1cdttt8X69etj8eLF8b3vfS8qKyszH/e73/3uuP/++2PLli2Z9wUAB3KwNTSl+gmMfgI6jGEPPvhgnH322VFVVVV8bM2aNXHGGWfElVdeGd/73veKj19yySWxc+fOePrppwe10d/fH9ddd1187Wtfi+uvvz4+//nPD3kcHR0dUVtbe9DPf+Mb3xgvvPDCfmN5rQqFQnR1dUVNTU1J2gNg7DvYGppl/QQOP6a4wxh23nnnDTqxiIg46aSTYs6cObFy5cqDaqO8vDy+8pWvxGmnnRZf/epXo7m5+RWff8kll8Tpp58ejz/+eFx00UVRW1sbn/jEJyIioru7O/7+7/8+Zs2aFdXV1dHQ0BDXX399dHd3R0TExo0bI5fLxd133x3PPPNMccrgPffcExER+Xw+vvSlL8WcOXNi3LhxMXXq1FiyZEns2bNn0BhmzpwZb33rW+OXv/xlnH322VFTUxM33HBDREQ0NTXFRz/60WhoaIjq6uqYNWtWfP7zn498Pl98/cA4/vVf/zW++c1vxoknnhjV1dWxcOHCePTRR/f7mVetWhWLFy+OKVOmRE1NTZxyyinxyU9+ctBztm7dGu9///tj6tSpUV1dHXPmzIkbb7zxoH4HAAy/Q62hQ62fABERFSM9AGB4FQqF2LFjR8yZM+egX1NeXh7vec974lOf+lTcf//9ccUVV7zi83ft2hWXX355vPvd746rr746pk6dGvl8Pt7+9rfH/fffH9dee23Mnj07li9fHl/84hdj9erV8eMf/zimTJkS3/3ud+Mzn/lMtLW1FacLzp49OyIilixZEv/5n/8Z73vf++K6666LDRs2xFe/+tV44okn4oEHHhg0ffDZZ5+N97znPbFkyZL44Ac/GKecckp0dHTExRdfHFu3bo0lS5bEjBkz4sEHH4yPf/zjsW3btvjSl7406Of4/ve/H62trbFkyZLI5XLxL//yL/HOd74z1q9fX+zrqaeeigsvvDAqKyvj2muvjZkzZ8a6deviZz/7WXzmM5+JiIgdO3bEOeecE7lcLj784Q/HlClT4he/+EV84AMfiJaWlvjoRz960L8LAEbOUGvoUOsnQBSAw8p3v/vdQkQUvv3tbw96/OKLLy7MmTPnZV/3ox/9qBARhS9/+cuv2P7FF19ciIjCN77xjf36LSsrK9x3332DHv/GN75RiIjCAw888Ipjue+++woRUbj55psHPX7HHXfs9/hxxx1XiIjCHXfcMei5n/70pwvjx48vrF69etDjf/d3f1coLy8vbNq0qVAoFAobNmwoRERh8uTJhd27dxef95Of/KQQEYWf/exnxccuuuiiQl1dXeG5554b1GY+ny9uf+ADHygcc8wxhZ07dw56zrvf/e7CxIkTCx0dHQUA0negGlqq+glQKBQKprjDYWTVqlXxP//n/4xzzz033vve9w7ptRMmTIiIiNbW1ld9bnV1dbzvfe8b9Nitt94as2fPjlNPPTV27txZ/PfGN74xIiLuvvvuV2zz1ltvjYkTJ8ab3/zmQa9fsGBBTJgwYb/XH3/88XHZZZft18aFF14YkyZNGtTGpZdeGv39/XHvvfcOev5VV10VkyZNKn594YUXRkTE+vXrIyKisbEx7r333nj/+98fM2bMGPTaXC4XEXuvtvzwhz+Mt73tbVEoFAb1e9lll0Vzc3MsXbr0FX92AEbea62hQ6mfAKa4w2Fi+/btccUVV8TEiRPjBz/4QZSXlw/p9W1tbRERUVdX96rPnT59+n737a1ZsyZWrlwZU6ZMOeBrXnjhhVdsc82aNdHc3BxHH330Qb3++OOPP2AbTz311EGP4aWheyCsD9zzPhDU910N/6UaGxujqakpvvnNb8Y3v/nNg+oXgLQcSg0dSv0EENDhMNDc3ByXX355NDU1xX333RfTpk0bchsDq9POmjXrVZ97oNXS8/l8nHHGGfFv//ZvB3xNQ0PDK7aZz+fj6KOPjptvvvmA339p6H65Mbz5zW+O66+//oBtnHzyyYO+frkTsMIQPvxiYPG5q6+++mWvuMydO/eg2wNgeB1qDR1K/QQQ0GGM6+rqire97W2xevXquPPOO+O0004bchv9/f3x/e9/P2pra+OCCy54TeM48cQTY9myZfGmN72pOP17qK+/88474/zzz3/NH5d24oknRltbW1x66aWv6fUvdcIJJ0REvOLHwU2ZMiXq6uqiv7+/ZP0CMDwOtYaWon4Chxf3oMMY1t/fH1dddVU89NBDceutt8a55577mtq47rrrYuXKlXHddddFfX39axrL4sWLY+vWrfGtb31rv+91dnZGe3v7q76+v78/Pv3pT+/3vb6+vmhqajqoMTz00EPxy1/+cr/vNTU1RV9f36u2sa8pU6bERRddFDfeeGNs2rRp0PcGrrKXl5fHH//xH8cPf/jDAwb5xsbGIfUJwPA41BpaqvoJHF5cQYcx7H/9r/8VP/3pT+Ntb3tb7N69O773ve8N+v7VV1896Ovm5ubiczo6OmLt2rVx2223xbp16+Ld7373AcPxwbrmmmvilltuib/8y7+Mu+++O84///zo7++PVatWxS233FL8zPKXc/HFF8eSJUvis5/9bDz55JPxlre8JSorK2PNmjVx6623xpe//OW48sorX3EMH/vYx+KnP/1pvPWtb40///M/jwULFkR7e3ssX748fvCDH8TGjRvjqKOOGtLP9ZWvfCUuuOCCmD9/flx77bVx/PHHx8aNG+P222+PJ598MiIiPve5z8Xdd98dr3/96+ODH/xgnHbaabF79+5YunRp3HnnnbF79+4h9QlA9oZSQ7Osn8DhRUCHMWwgIP7sZz+Ln/3sZ/t9/6UBfcuWLXHNNddExN5VZ4855pg499xz4+tf/3q8+c1vPqSxlJWVxY9//OP44he/GDfddFP86Ec/itra2jjhhBPiIx/5yH73fx/IN77xjViwYEHccMMN8YlPfCIqKipi5syZcfXVV8f555//qq+vra2N3/72t/HP//zPceutt8ZNN90U9fX1cfLJJ8c//MM/xMSJE4f8c5155pnx8MMPx6c+9an4+te/Hl1dXXHcccfF4sWLi8+ZOnVqPPLII/GP//iPcdttt8XXvva1mDx5csyZMyc+//nPD7lPALI3lBqaZf0EDi+5wlBWOwIAAAAy4R50AAAASICADgAAAAkQ0AEAACABAjoAAAAkQEAHAACABAjoAAAAkACfg34Yyufz8fzzz0ddXV3kcrmRHg7AmFcoFKK1tTWmTZsWZWXeGz8QtQlgeKlNaRLQD0PPP/98NDQ0jPQwAA47mzdvjmOPPXakh5EktQlgZKhNaRHQD0N1dXURsfc/Y319/QiPBmDsa2lpiYaGhuLxl/2pTQDDS21Kk4B+GBqYOlhfX+8kCGAYmbr98tQmgJGhNqXFzQYAAACQAAEdAAAAEiCgAwAAQAIEdAAAAEiAgA4AAAAJENABAAAgAQI6AAAAJEBABwAAgAQI6AAAAJAAAR0AAAASIKADAABAAgR0AAAASICADgAAAAkQ0AEAACABAjoAAAAkQEAHAACABAjoAAAAkAABHQAAABIgoAMAAEACBHQAAABIgIAOAAAACRDQAQAAIAECOgAAACRAQAcAAIAECOgAAACQAAEdAAAAEiCgAwAAQAIEdAAAAEiAgA4AAAAJENABAAAgAQI6AAAAJEBABwAAgAQI6AAAAJAAAR0AAAASIKADAABAAgR0AAAASICADgAAAAkQ0AEAACABAjoAAAAkQEAHAACABAjoAAAAkAABHQAAABIgoAMAAEACBHQAAABIgIAOAAAACRDQAQAAIAECOgAAACRAQAcAAIAECOgAAACQAAEdAAAAEiCgAwAAQAIEdAAAAEiAgA4AAAAJENABAAAgAQI6AAAAJEBABwAAgAQI6AAAAJAAAR0AAAASIKADAABAAgR0AAAASICADgAAAAkQ0AEAACABAjoAAAAkQEAHAACABAjoAAAAkAABHQAAABIgoAMAAEACBHQAAABIgIAOAAAACRDQAQAAIAECOgAAACRAQAcAAIAECOgAAACQAAEdAAAAEiCgAwAAQAIEdAAAAEiAgA4AAAAJENABAAAgAQI6AAAAJEBABwAAgAQI6AAAAJAAAR0AAAASIKADAABAAgR0AAAASICADgAAAAkQ0AEAACABAjoAAAAkQEAHAACABAjoAAAAkAABHQAAABIgoAMAAEACBHQAAABIgIAOAAAACRDQAQAAIAECOgAAACRAQAcAAIAECOgAAACQAAEdAAAAEiCgAwAAQAIEdAAAAEiAgA4AAAAJENABAAAgAQI6AAAAJEBABwAAgAQI6AAAAJAAAR0AAAASIKADAABAAgR0AAAASICADgAAAAkQ0AEAACABAjoAAAAkQEAHAACABAjoAAAAkAABHQAAABIgoAMAAEACBHQAAABIgIAODLtCoTDSQwCAQdQmIAUCOjDsPv7xj8db3/rWeOCBB0Z6KAAQEREXX3xxfPCDH4znn39+pIcCHMYEdGBY9ff3x0033RS333577Ny585Da+sUvfhHnn39+fOhDHyrR6AA4HC1btizuu+++uOmmm6KmpuaQ2vrnf/7nOOOMM+K//uu/SjQ64HAioAPD6q677opt27bF5MmT4/LLLz+ktvr6+uLBBx+M++67r0SjA+Bw9N3vfjciIt72trfFpEmTDqmt7du3x9NPPx2PPPJIKYYGHGYEdGBYDZwEXXXVVVFVVXVIbS1YsCAiIlasWBHt7e2HPDYADj/9/f3x/e9/PyIirrnmmkNub6A2PfbYY4fcFnD4EdCBYdPW1ha33XZbRJTmJGjatGkxbdq0yOfz8eSTTx5yewAcfn7zm9/Etm3b4sgjjzzkmV0REWeffXZERCxdujT6+/sPuT3g8CKgA8Pmxz/+cXR0dMSsWbPi9a9/fUnaHDgRcqUCgNeilDO7IiJOPfXUqK2tjfb29nj22WcPuT3g8CKgA8Nm4CTo6quvjlwuV5I2BXQAXqv29vaSzuyKiCgvL4/58+dHRMTjjz9ekjaBw4eADgyLbdu2xZ133hkRewN6qQjoALxWP/rRj6K9vT1mzZoV55xzTsnaVZuA10pAB4bF97///cjn83HeeefFiSeeWLJ2BxbjefbZZ6O1tbVk7QIw9n3ve9+LiNLO7IoQ0IHXTkAHhsW+J0GldPTRR0dDQ0MUCoV44oknSto2AGPXtm3b4te//nVERPzpn/5pSdseCOhPPPFE9PX1lbRtYGwT0IHMPf300/Hkk09GZWVlLF68uOTtu1IBwFD9v//3/yKfz8e5554bs2bNKmnbJ510UtTV1UVnZ2esXLmypG0DY5uADmRuYHG4K664IiZPnlzy9gV0AIZqoDaVanG4fZWVlRUXilObgKEQ0IFM9ff3x8033xwR2ZwERQjoAAxN1jO7In5fm6zkDgyFgA5k6p577omtW7fGEUccEVdccUUmfQwsFLdmzZpoamrKpA8Axo6BdVH+8A//MJOZXRHePAZeGwEdyNTASdDixYujuro6kz4mT54cM2fOjIiIpUuXZtIHAGNDPp/PfGZXxO8D+pNPPhm9vb2Z9QOMLQI6kJmOjo74wQ9+EBHZngRFmEoIwMG55557YsuWLXHEEUfEW9/61sz6OfHEE2PixInR3d0dzzzzTGb9AGOLgA5k5ic/+Um0tbXFzJkz4/zzz8+0L1MJATgYwzGzKyIil8upTcCQCehAZgZWyL366qsjl8tl2peTIABezb4zu66++urM+zO7CxgqAR3IxI4dO+JXv/pVRGQ/vT0iih9ns379+ti9e3fm/QEw+vz0pz+N1tbWYZnZFfH7RUy9eQwcLAEdyMR//dd/RX9/fyxatChOPvnkzPubNGlSzJo1KyJcqQDgwPad2VVWlv1p8MAV9GXLlkV3d3fm/QGjn4AOZGLgJGg4rp4PcKUCgJfzwgsvxC9/+cuIGJ7p7RERM2fOjCOPPDJ6e3vj6aefHpY+gdFNQAdKbuXKlfH4449HRUVFXHXVVcPWr/vQAXg5AzO7Fi5cGKeccsqw9GmhOGCoBHSg5JqammLRokXxB3/wBzFlypRh69dJEAAvZ9y4cTFjxoxhndkVoTYBQ1Mx0gMAxp5zzz03fve730VXV9ew9jt//vwoLy+P2traaG9vj/Hjxw9r/wCk69prr42/+Iu/iL6+vmHt9+yzz47q6uro6ekZ1n6B0UlABzIzbty4Ye2vvr4+mpubBXMADqisrCyqqqqGtc8rrrgiWlpahr1fYHQS0IExRTgHICWCOTAU7kEHAACABAjoAAAAkAABHQAAABIgoAMAAEACBHRg1CgUCtHd3R2FQmGkhwIAERHR19cXvb29ahNQEgI6MGrs2rUrxo0bF+Xl5ZHP50d6OAAQt956a1RVVcVb3vKWkR4KMAb4mDUgc83NzXHjjTdGX19ffOxjH3vN7XR2dkZERGVlZZSVeX8RgNdu+fLl8atf/SqOO+64uPLKK19zOwO1qbq6ulRDAw5jznCBzLW2tsbf/M3fxCc+8YlDaqerqysiIsaNG1eKYQFwGHv00Ufjb//2b+M//uM/DqkdtQkoJQEdyNz48eMjYu99ej09Pa+5HSdBAJTKQG1qb28/pHbUJqCUBHQgcwMnQRGHdiI0MI2wpqbmkMcEwOGtVAFdbQJKSUAHMldVVRUVFXuXvOjo6HjN7bhKAUCpDAT0Q6lLEWoTUFoCOjAsSnGlwkkQAKViijuQIgEdGBa1tbURYYo7AGkoRV2KUJuA0hLQgWHhCjoAKXEFHUiRgA4MCwEdgJQM1KXOzs7I5/OvuR1X0IFSEtCBYVGKgO4kCIBS2fcTRixgCqRCQAeGhSvoAKRk3zd71SYgFQI6MCwEdABSUlZWZgFTIDkCOjAsTHEHIDXePAZSI6ADw2LgJMh9fgCkQm0CUiOgA8PCVQoAUmN2F5AaAR0YFu7zAyA1pahN3jwGSklAB4aFK+gApKaUtcmbx0ApCOjAsBDQAUhNKae4q01AKQjowLBwnx8AqfHmMZAaAR0YFk6CAEjNodamfD4f3d3dEeHNY6A0BHRgWAjoAKTmUGvTQDiPUJuA0hDQgWFhijsAqTnU2jTwxnGEgA6UhoAODIuBk6COjo7X3IYr6ACU0qHWpoE3jsvLy6OysrJk4wIOXwI6MCxMcQcgNaW6gq4uAaUioAPDora2NiJMcQcgHYdamwR0oNQEdGBY7DuNMJ/Pv6Y2nAgBUEqHegXdG8dAqQnowLAYOAmK+P0JzVAJ6ACUkinuQGoEdGBYDEwjjHhtJ0KFQsGVCgBKqlQBXV0CSkVAB4ZFWVlZ8QTmtZwI9fb2RqFQiAhXKgAojVJNcVeXgFIR0IFhcygnQj5rFoBSM8UdSI2ADgybQzkR2ve+9erq6pKNCYDDl0XigNQI6MCw2Xcl96Ha9ypFLpcr6bgAODwdSl2KcAUdKD0BHRg2pZji7iQIgFIZqEt9fX3R09Mz5NerTUCpCejAsBlYyf1QpribRghAqRzqJ4yoTUCpVYz0AIDDx6FcQT/ttNNi48aN0dfXV+phAXCYqqqqioqKiujr64v29vaYNGnSkF7/l3/5l3HllVcK6EDJCOjAsDmUgF5VVRXHHXdcqYcEwGFu/Pjx0dzc/JpqU319fdTX12cwKuBwJaADw+Zzn/tcfOpTn4pjjz12pIcCABERcc8990R1dXXMnDlzpIcCIKADw+eEE04Y6SEAwCDz5s0b6SEAFFkkDgAAABIgoAMAAEACBHQAAABIgIAOAAAACRDQAQAAIAECOgAAACRAQAcAAIAECOgAAACQAAEdAAAAEiCgAwAAQAIEdAAAAEiAgA4AAAAJENABAAAgAQI6AAAAJEBABwAAgAQI6AAAAJAAAR0AAAASIKADAABAAgR0AAAASICADgAAAAkQ0AEAACABAjoAAAAkQEAHAACABAjoAAAAkAABHQAAABIgoAMAAEACBHQAAABIgIAOAAAACRDQAQAAIAECOgAAACRAQAcAAIAECOgAAACQAAEdAAAAEiCgAwAAQAIEdAAAAEiAgA4AAAAJENABAAAgAQI6AAAAJEBABwAAgAQI6AAAAJAAAR0AAAASIKADAABAAgR0AAAASICADgAAAAkQ0AEAACABAjoAAAAkQEAHAACABAjoAAAAkAABHQAAABIgoAMAAEACBHQAAABIgIAOAAAACRDQAQAAIAECOgAAACRAQAcAAIAECOgAAACQAAEdAAAAEiCgAwAAQAIEdAAAAEiAgA4AAAAJENABAAAgAQI6AAAAJEBABwAAgAQI6AAAAJAAAR0AAAASIKADAABAAgR0AAAASICADgAAAAkQ0AEAACABAjoAAAAkQEAHAACABAjoAAAAkAABHQAAABIgoAMAAEACBHQAAABIgIAOAAAACRDQAQAAIAECOgAAACRAQAcAAIAECOgAAACQAAEdAAAAEiCgAwAAQAIEdAAAAEiAgA4AAAAJENABAAAgAQI6AAAAJEBABwAAgAQI6AAAAJAAAR0AAAASIKADAABAAgR0AAAASICADgAAAAkQ0AEAACABAjoAAAAkQEAHAACABAjoAAAAkAABHQAAABIgoAMAAEACBHQAAABIgIAOAAAACRDQAQAAIAECOgAAACRAQAcAAIAECOgAAACQAAEdAAAAEiCgAwAAQAIEdAAAAEiAgA4AAAAJENABAAAgAQI6AAAAJEBABwAAgAQI6AAAAJAAAR0AAAASIKADAABAAgR0AAAASICADgAAAAkQ0AEAACABAjoAAAAkQEAHAACABAjoAAAAkAABHQAAABIgoAMAAEACBHQAAABIgIAOAAAACRDQAQAAIAECOgAAACRAQAcAAIAECOgAAACQAAEdAAAAEiCgAwAAQAIEdAAAAEiAgA4AAAAJENABAAAgAQI6AAAAJEBABwAAgAQI6AAAAJAAAR0AAAASIKADAABAAgR0AAAASICADgAAAAkQ0AEAACABAjoAAAAkQEAHAACABAjoAAAAkAABHQAAABIgoAMAAEACBHQAAABIgIAOAAAACRDQAQAAIAECOgAAACRAQAcAAIAECOgAAACQAAEdAAAAEiCgAwAAQAIEdAAAAEiAgA4AAAAJENABAAAgAQI6AAAAJEBABwAAgARUjPQAGH6FQiEiIlpaWkZ4JACHh4Hj7cDxl/2pTQDDS21Kk4B+GGptbY2IiIaGhhEeCcDhpbW1NSZOnDjSw0iS2gQwMtSmtOQK3jI57OTz+Xj++eejrq4ucrncSA8HYMwrFArR2toa06ZNi7Iyd5cdiNoEMLzUpjQJ6AAAAJAAb5UAAABAAgR0AAAASICADgAAAAkQ0AEAACABAjoAAAAkQEAHAACABAjoAAAAkAABHQAAABIgoAMAAEACBHQAAABIgIAOAAAACRDQAQAAIAECOgAAACRAQAcAAIAECOgAAACQAAEdAAAAEiCgAwAAQAIEdAAAAEiAgA4AAAAJENABAAAgAQI6AAAAJEBABwAAgAQI6AAAAJAAAR0AAAASIKADAABAAgR0AAAASICADgAAAAkQ0AEAACABAjoAAAAkQEAHAACABAjoAAAAkAABHQAAABIgoAMAAEACBHQAAABIgIAOAAAACRDQAQAAIAECOgAAACRAQAcAAIAECOgAAACQAAEdAAAAEiCgAwAAQAIEdAAAAEiAgA4AAAAJENABAAAgAQI6AAAAJEBAB5LT19cX119/fTQ0NERZWVm84x3vGOkhAQBA5gR0GMOeeeaZeNe73hUnnHBC1NbWxlFHHRUXXXRR/OxnP9vvuZdccknkcrnI5XJRVlYW9fX1ccopp8Q111wTv/71r4d13DfeeGN84QtfiCuvvDK+853vxF//9V8Pa/8AcLA1NKX6CYx+FSM9ACA7zz33XLS2tsZ73/vemDZtWnR0dMQPf/jDePvb3x433HBDXHvttYOef+yxx8ZnP/vZiIhob2+PtWvXxm233Rbf+973YvHixfG9730vKisrMx/3b37zm5g+fXp88YtfzLwvADiQodTQVOonMPrlCoVCYaQHAQyf/v7+WLBgQXR1dcWqVauKj19yySWxc+fOePrpp/d7/nXXXRdf+9rX4vrrr4/Pf/7zQ+6zo6MjamtrD/r5b3zjG+OFF17YbyyvVaFQiK6urqipqSlJewAcng5UQ7Osn8DhxxR3OMyUl5dHQ0NDNDU1HfTzv/KVr8Rpp50WX/3qV6O5ufkVn3/JJZfE6aefHo8//nhcdNFFUVtbG5/4xCciIqK7uzv+/u//PmbNmhXV1dXR0NAQ119/fXR3d0dExMaNGyOXy8Xdd98dzzzzTHHK4D333BMREfl8Pr70pS/FnDlzYty4cTF16tRYsmRJ7NmzZ9AYZs6cGW9961vjl7/8ZZx99tlRU1MTN9xwQ0RENDU1xUc/+tFoaGiI6urqmDVrVnz+85+PfD5ffP3AOP71X/81vvnNb8aJJ54Y1dXVsXDhwnj00Uf3+5lXrVoVixcvjilTpkRNTU2ccsop8clPfnLQc7Zu3Rrvf//7Y+rUqVFdXR1z5syJG2+88aB+BwCkYSg1dKj1EyDCFHc4LLS3t0dnZ2c0NzfHT3/60/jFL34RV1111UG/vry8PN7znvfEpz71qbj//vvjiiuueMXn79q1Ky6//PJ497vfHVdffXVMnTo18vl8vP3tb4/7778/rr322pg9e3YsX748vvjFL8bq1avjxz/+cUyZMiW++93vxmc+85loa2srThecPXt2REQsWbIk/vM//zPe9773xXXXXRcbNmyIr371q/HEE0/EAw88MGj64LPPPhvvec97YsmSJfHBD34wTjnllOjo6IiLL744tm7dGkuWLIkZM2bEgw8+GB//+Mdj27Zt8aUvfWnQz/H9738/WltbY8mSJZHL5eJf/uVf4p3vfGesX7++2NdTTz0VF154YVRWVsa1114bM2fOjHXr1sXPfvaz+MxnPhMRETt27IhzzjkncrlcfPjDH44pU6bEL37xi/jABz4QLS0t8dGPfvSgfxcADK9DqaFDrZ8AUQDGvCVLlhQiohARhbKyssKVV15Z2L1796DnXHzxxYU5c+a8bBs/+tGPChFR+PKXv/yKfV188cWFiCh84xvfGPT4d7/73UJZWVnhvvvuG/T4N77xjUJEFB544IFXHMt9991XiIjCzTffPOjxO+64Y7/HjzvuuEJEFO64445Bz/30pz9dGD9+fGH16tWDHv+7v/u7Qnl5eWHTpk2FQqFQ2LBhQyEiCpMnTx60n37yk58UIqLws5/9rPjYRRddVKirqys899xzg9rM5/PF7Q984AOFY445prBz585Bz3n3u99dmDhxYqGjo6MAQJperYaWqn4CFAqFginucBj46Ec/Gr/+9a/jO9/5Tlx++eXR398fPT09Q2pjwoQJERHR2tr6qs+trq6O973vfYMeu/XWW2P27Nlx6qmnxs6dO4v/3vjGN0ZExN133/2Kbd56660xceLEePOb3zzo9QsWLIgJEybs9/rjjz8+Lrvssv3auPDCC2PSpEmD2rj00kujv78/7r333kHPv+qqq2LSpEnFry+88MKIiFi/fn1ERDQ2Nsa9994b73//+2PGjBmDXpvL5SJi7/3vP/zhD+Ntb3tbFAqFQf1edtll0dzcHEuXLn3Fnx2AkXOoNXQo9RPAFHc4DJx66qlx6qmnRkTEn/3Zn8Vb3vKWeNvb3ha/+93vikHy1bS1tUVERF1d3as+d/r06VFVVTXosTVr1sTKlStjypQpB3zNCy+88IptrlmzJpqbm+Poo48+qNcff/zxB2zjqaeeOugxvDR0D4T1gXveB4L66aef/rLjbmxsjKampvjmN78Z3/zmNw+qXwDScag1dCj1E0BAh8PQlVdeGUuWLInVq1fHKaecclCvGViddtasWa/63AOtlp7P5+OMM86If/u3fzvgaxoaGl6xzXw+H0cffXTcfPPNB/z+S0P3y43hzW9+c1x//fUHbOPkk08e9HV5efkBn1cYwodfDCw+d/XVV8d73/veAz5n7ty5B90eACNrqDV0KPUTQECHw1BnZ2dExEGvKNvf3x/f//73o7a2Ni644ILX1OeJJ54Yy5Ytize96U0HfdX+pa+/88474/zzz3/NH5d24oknRltbW1x66aWv6fUvdcIJJ0REvOLHwU2ZMiXq6uqiv7+/ZP0CMHKGUkNLUT+Bw4t70GEMO9DU6d7e3rjpppuipqYmTjvttFdtY+BzXFeuXBnXXXdd1NfXv6axLF68OLZu3Rrf+ta39vteZ2dntLe3v+rr+/v749Of/vR+3+vr6zuoj7xZvHhxPPTQQ/HLX/5yv+81NTVFX1/fq7axrylTpsRFF10UN954Y2zatGnQ9wauspeXl8cf//Efxw9/+MMDBvnGxsYh9QnA8DjUGlqq+gkcXlxBhzFsyZIl0dLSEhdddFFMnz49tm/fHjfffHOsWrUq/s//+T/FhWsGNDc3x/e+972IiOjo6Ii1a9fGbbfdFuvWrYt3v/vdBwzHB+uaa66JW265Jf7yL/8y7r777jj//POjv78/Vq1aFbfcckvxM8tfzsUXXxxLliyJz372s/Hkk0/GW97ylqisrIw1a9bErbfeGl/+8pfjyiuvfMUxfOxjH4uf/vSn8da3vjX+/M//PBYsWBDt7e2xfPny+MEPfhAbN26Mo446akg/11e+8pW44IILYv78+XHttdfG8ccfHxs3bozbb789nnzyyYiI+NznPhd33313vP71r48PfvCDcdppp8Xu3btj6dKlceedd8bu3buH1CcA2RtKDc2yfgKHFwEdxrCrrroqvv3tb8fXv/712LVrV9TV1cWCBQvi85//fLz97W/f7/lbtmyJa665JiL2rjp7zDHHxLnnnhtf//rX481vfvMhjaWsrCx+/OMfxxe/+MW46aab4kc/+lHU1tbGCSecEB/5yEf2u//7QL7xjW/EggUL4oYbbohPfOITUVFRETNnzoyrr746zj///Fd9fW1tbfz2t7+Nf/7nf45bb701brrppqivr4+TTz45/uEf/iEmTpw45J/rzDPPjIcffjg+9alPxde//vXo6uqK4447LhYvXlx8ztSpU+ORRx6Jf/zHf4zbbrstvva1r8XkyZNjzpw58fnPf37IfQKQvaHU0CzrJ3B4yRWGstoRAAAAkAn3oAMAAEACBHQAAABIgIAOAAAACRDQAQAAIAECOgAAACRAQAcAAIAECOgAAACQAAEdAAAAEiCgAwAAQAIEdAAAAEiAgA4AAAAJENABAAAgAQI6AAAAJEBABwAAgAQI6AAAAJAAAR0AAAASIKADAABAAgR0AAAASICADgAAAAkQ0AEAACABAjoAAAAkQEAHAACABAjoAAAAkAABHQAAABIgoAMAAEACBHQAAABIgIAOAAAACRDQAQAAIAECOgAAACRAQAcAAIAECOgAAACQAAEdAAAAEiCgAwAAQAIEdAAAAEiAgA4AAAAJENABAAAgAQI6AAAAJEBABwAAgAQI6AAAAJAAAR0AAAASIKADAABAAgR0AAAASICADgAAAAkQ0AEAACABAjoAAAAkQEAHAACABAjoAAAAkAABHQAAABIgoAMAAEACBHQAAABIgIAOAAAACRDQAQAAIAECOgAAACRAQAcAAIAECOgAAACQAAEdAAAAEiCgAwAAQAIEdAAAAEiAgA4AAAAJENABAAAgAQI6AAAAJEBABwAAgAQI6AAAAJAAAR0AAAASIKADAABAAgR0AAAASICADi8qFApRKBRGehgAUJTP59UmgMOIgA4v6uzsjGeeeSZ6e3tHeigAEPl8Pjo7O2PFihXR19c30sMBYBgI6PCifD4f69ati+7u7sjn8yM9HACIfD4fa9euje7ublfSAQ4DAjq8xLp166Krq0tIByAZa9euja6uLiEdYIwT0OElNm7cGD09PbFixQrT3QFIwsaNG6O7u9t0d4AxTkCHF+3evXvQ16a7AzDSNm7cOOhr090BxjYBHV5UVVW132OmuwMwkqqrq4vbuVwuIkx3BxjLBHR40YQJE4rba9eujQjT3QEYWcccc0xxu7GxMSJMdwcYywR0OIBdu3YN+tp0dwBG2sqVKwd9bbo7wNgjoMMBnHXWWcXtgRMf090BGEmnn356cdt0d4CxSUCHA9j3nr8VK1ZExN4phWvWrBHSARgRRx55ZHF7y5YtEbG3Nq1evVpIBxgjBHR4Fd3d3cVt96QDkIJ9V3cX0gHGjoqRHgCk7swzz4z7779/0GPr1q2LQqEQp5xySpSXl0dbW1t0dnbGlClTMhlDY2Nj1NTUDFrIrlTy+Xxs3bo1pk2bFuXl5SVvv729Pdrb2+Poo48uedtZKxQKsWXLlsz2TUdHR7S2tsbUqVNL3nZExM6dO6Oqqirq6+szaX/z5s1xzDHHREXF3lJSKBSira0tJk6cWJx+C2Rj3rx58dhjjxW/3rhxY8ycOTM2bNgQs2bNivLy8mE/BpRSR0dHtLS0xOte97qStx2xd62ZysrKzPZNljo7O6O5uTmzfbN79+4oLy+PiRMnZtL+li1b4uijjz7gp+ccqq6urtizZ09xcUV1idFIQIdX8dITj/7+/oiIWL9+fbzuda+LioqK2LZtW+zcuXPQ1PhSWr16dRx11FGDVvMtlf7+/li2bFnU1tZGZWVlydvfsWNHbN++PcaNG1fytiP2vsGwadOmmDFjRpSVlXZSUKFQiGXLlsW4ceMy+d02NjbG1q1bo6ampuRtR+x9I6muri6OPfbYTNpftmxZVFdXF3+3LS0tMXPmzGhubh6VJ70wmhzoDdt8Ph9r1qyJKVOmREVFRaxduzbq6+uH7RhQSjt37oxNmzZFbW1tyduO2Ht8rK2tjRkzZmTSfpa1affu3bF+/frM9s369eujqqoqZs6cmUn7Tz/9dJx55pkxfvz4kre9Z8+eWLNmTbFtdYnRSECHIVq2bFlxO5fLRVlZWfFd2VIX4X0N9FVqA9Mhy8rKMmk/l8tlNvaI7AN6RLb7ZqD9rGS571/afpb9AK9u4Ji1b23K+hgwWo+Po7k2DcfvdbS2P/B3ry4xmgnoMETV1dXR2toaEcN3EpRl+6M9hO5bhAX0/dvP+u9y333jRAhG1urVqyNicPgZK0ErC1m2n2VtyvqYO5be2FGXGI1yBauJQEREtLW1xV133RUREZdcckncc889+21HRFx00UVx7733jsAIIU2FQiE6Oztj8uTJcdlll8XmzZuLUwnr6urc9wevUT6fj/b29vjNb34TEa9cmyIiamtro6OjY5hHCWkqFAqxa9eu+Iu/+At1iVHFFXQYon3fjT377LOjsrIyduzYEbt27YrTTjstkz5XrFgRkydPzmQxsXw+H7/73e9i4cKFmSz009jYGC+88ELMmTOn5G1H7L2H/pFHHolFixZlspDbQw89FAsWLMhkMZudO3fGtm3b4owzzih52xF7r6ZNmDAhpk2blkn7Dz30UMyfPz96enpi1qxZxccbGhqK2+77g+Ezf/78uP/++4u16dlnn426urrMjwFZrNGxe/fu2LJlS8ydO7fkbUdErFmzJmpqajK7Pz/L2tTU1BQbN26MefPmlbTdAWvXro3q6upBx/JSeuSRR+L000/P5B765ubmWLduXcyfPz9aW1uLtUldYjQR0OEQjBs3LqqqqqKysjLKy8szW+yrvLw8KisrM2l/YNG7cePGZbJIXGVlZZSVlWW2b/r6+iJi7/hL/QbDwASjrBaJq6qqynTfZPl3E7F3KmF1dXVMnDgxtmzZEq2trTF79uz9rlQAw2PgDeSB2pT1MSBi721fWbQ/2o+PWdamjo6OTPdNRUVFVFRUZF47smi/s7OzuG/GjRsXK1euVJcYdQR0AA5JLpcbdDWivr7e1QkARlQulyuGcXWJ0cTKCQAAAJAAAR0AAAASIKADAABAAgR0AAAASICADgAAAAkQ0AEAACABAjoAAAAkQEAHAACABAjoAAAAkAABHQAAABIgoAMAAEACBHR4UW9v70gPAQAGaWtrG+khADCMBHR40Z49e4rbhUJhBEcCAHs9//zzIz0EAIaRgA4vOvroo4vby5cvH8GRAMBeJ510UnF7/fr1IzgSAIaDgA4HUFFRMdJDAIDI5XLF7V27do3gSAAYDgI6HMDs2bOL22vWrBnBkQDAXvPnzy9ub9++fQRHAkBWBHQ4gH2vWLS0tIzgSABgr/Ly8uL2unXrRnAkAGRFQIdXcdZZZw362gJyAIy0s88+e6SHAEAGBHR4FWVlg/+bPPPMMyM0EgDYq7q6er/HvIEMMPpZCQuGaN8ToF27dkVFRUW0trZGT09PNDY2ZtJnT09PtLa2ZtJ+Pp+PiIidO3dmsjhe1vumv78/IvaOf9/pn6Uw8LvetWtXVFZWlrTtiL23T/T29ma2b7q7u6OtrS2z9guFQuzevTsqKyujra2t+Le0720hdXV1g24ZAbLz1FNPRcTva1PWx4CIiN27d0dVVVXJ221ubs70+NjV1RURMSprU2tra/T19WW6b7JsP5/Px549e6Kzs7Pkbbe2tkZ/f380NjZGoVAortWgLjGaCOgwRKeffnr89re/jYiIzZs3Ry6Xi56enujr64uNGzdm0mdnZ2f09vZGa2trydseCKEDP0up9fb2Rm9vb2b7ZmD8mzZtyqzgbt68eb+ZFKXQ29sbPT09mf7ddHV1RXt7eybtR0Rs2bIlOjs74+1vf3vxsYaGhuJ2c3Nz1NfXZ9Y/8Hvjx4+P5ubm4vG8s7Mzuru7Mz8GZHF87Ovry/z42NnZGR0dHZm0n2Vt6uvry7SudnV1RS6XK76JUWr5fD62bt1a8jcuIgbvm/b29mJtUpcYTQR0GKJ9C+28efOiqqoqtm7dGo2NjTFv3rxM+nzyySdjypQpMX369JK33d/fH7/97W/jrLPOyuQq8bZt22Lbtm2DVh8upb6+vrj33ntj/vz5JZ8BUCgU4u6774558+YdcDrpodqxY0ds3rw5s3tJn3766aivr48ZM2Zk0v7dd98dc+fOjXHjxsWWLVuitbU1Zs+eHZs3by6e/NTV1WXSN7C/WbNmxfPPP1+sTcuXL4+JEydmdgz4zW9+E3Pnzo2ampqSt93Y2BgbN26MhQsXlrztiL23q40fPz5mzpyZSftZ1qZdu3bF2rVrM9s3K1eujOrq6jjhhBMyaf/ee++N008/PSZMmFDytnfv3h3PPvtsLFy4MAqFQqxcuVJdYtQR0AE4JLlcbtDViPr6elcnABhRuVyuGMbVJUYTi8QBAABAAgR0AAAASICADgAAAAkQ0AEAACABAjoAAAAkQEAHAACABAjoAAAAkAABHQAAABIgoAMAAEACBHQAAABIgIAOAAAACRDQAQAAIAECOgAAACRAQAcAAIAECOjwokKhMNJDAIBB8vn8SA8BgGEkoMOLdu7cWdx2QgRACtasWTPSQwBgGAno8KLJkycXtx955JERHAkA7HX88ccXt5944okRHAkAw0FAhxeVlf3+v8O+J0SbN28eieEAQFRVVRW3J02aVNxubGwcieEAkDEBHQ5g6tSpxe0XXnhhBEcCAHvNnDmzuG3qO8DYJKDDq5g/f/6gr9evXz9CIwGAvc4555z9HrN+CsDoVzHSA4DU5XK5QV+3tbUVt5999tkoKyuLzs7O6OrqimeeeSaTMbS1tUVfX180NTWVvO2B1eufffbZ/X7WUujs7IzOzs7M9s3A+FetWpXJ+CMiVq9ePegWiFLp6urKdN80NzdHZ2dntLa2ZtJ+oVCINWvWRFlZWXR0dER1dXVERLS0tBSfU1dXl9nvBQ5nBzomDayfMlCbWlpaoqurK7NjQMTeK/nl5eUlb7e7uzvz42N7e3u0t7dn0n6WtamnpyfTc46WlpbiuU0W+vv7Y926dVFRUfoY0tPTEz09PfHMM89EoVAo3gqiLjGaCOgwRHPnzo177rknIiJqa2ujvLw8+vv7o7e3N8aPH59Jny0tLVFVVZVJ+wMnEbW1tZmE0Hw+Hz09PZntm4ErRlmNf6DtLE5AC4VCdHV1ZbZv2traorKyMrP2I/bum66urrj00kuLjzU0NBS3m5ubo76+PrP+gd+bNWtWrFixonjMGq5jQBZBKyKio6Mjs7G3t7dnum+yrE25XC7KysoyG3tHR0eUl5dn1n4ul4uamppB6yuUSllZWbS2tsb48eOjra0t/uiP/igi1CVGFwEdDkFDQ0NUVVXF1q1bI5/PD7o/sJSamppi8uTJMX369JK33d/fHxs2bIiGhoaorKwsefvbtm2L3t7ezPZNX19fbNy4MWbMmFHyk8RCoRDr16+PY489tnh1uJR27NgRXV1dme2btra2qK+vjxkzZmTS/oYNG2L69Okxbty42LJlS7S2tsbs2bNj8+bNxZOfurq6TPoG9nfUUUdFxO9rU2tra0ycODGzY8D69etj+vTpUVNTU/K2Gxsbo6OjI7PjY3t7e4wfP35U1qZdu3ZFa2trZmPv7OyM6urqzNrftGlTTJs2LSZMmFDytnfv3h1NTU0xc+bMKBQKsXLlSnWJUUdAB+CQ5HK5QVcj6uvrXZ0AYETlcrliGFeXGE0sEgcAAAAJENABAAAgAQI6AAAAJEBABwAAgAQI6AAAAJAAAR0AAAASIKADAABAAgR0AAAASICADowZK1asiL/+67+OTZs2jfRQACAiIu6666745Cc/GTt27BjpoQCjgIAOjBn//u//HtXV1XHrrbdm2s8TTzwRf/M3f+NkC4BX9e///u/R398ft9xyS6b93Hnnnd4IgDFAQAfGjG3btsXatWvj6quvzrSfb3/721FVVRU333xzpv0AMLrt3r07Vq9eHe3t7bF48eJM+/r6178+LG8EANkS0IExYdOmTbFq1ar4wAc+EFOnTs20r2uuuSbuuuuuOPnkkzPtB4DR7Ve/+lXkcrn4h3/4h8xr0xve8Ia455574h3veEem/QDZEtCBMeEXv/hF1NbWxiWXXJJ5X4sWLYrKyspYu3Zt5n0BMHrdcccdcd5558WRRx6ZeV9vfOMbo6mpKbZv3555X0B2BHRgTLjjjjvijW98Y9TU1GTeVy6Xi7PPPjsee+yxzPsCYHTas2dPPP744/GHf/iHw9LfKaecEnV1dWoTjHICOjDqPf/887FmzZphOwmKiDj77LNj2bJl0dXVNWx9AjB6LF26NCorK+PSSy8dlv7Ky8tjwYIF8eijjw5Lf0A2BHRg1Hvssceivr4+LrjggmHrc9GiRdHb2xvLli0btj4BGD0ee+yxuPDCC6Ourm7Y+ly4cGE88cQT0dvbO2x9AqUloAOjWqFQiMceeywuvfTSqKqqGrZ+Tz755Jg4caIrFQDsZ9OmTfHcc8/F5ZdfPqz9Lly4MDo7O+Ppp58e1n6B0hHQ4UXt7e3F7Z6enhEcCUPx9NNPx86dO4d1entERFlZmamEQOZeeOGF4nZ/f/8IjoSh+MUvfhHV1dVx8cUXD2u/p512WtTW1qpNMIoJ6HAADz74YHF7x44dIzgSXs0dd9wR9fX1sXDhwmHve+HChfHkk096QwfITFnZ70/V7r///uL2rl27RmI4HKQ77rgj5s6dOywLl+6roqIi5s+fL6DDKCagw4vGjx9f3D7vvPOK21u2bBn0vOeff37YxsQry+fzcccdd8RZZ50V5eXlw97/2WefHd3d3aYSApk56qijitv7vhG5Zs2a/Z7rzcI0rF69OtasWRMLFiwYkf4XLlwYS5cujb6+vhHpHzg0FSM9AEjRvvcyL1iwIO65557i1/teUR+40l4oFKJQKAx6Xinl8/nYs2fPAU/ISuWBBx7IpN0s982aNWtix44dcfXVVw+6slRqDz300AEf7+/vj3HjxsV///d/R0tLy5DbHY6/m8bGxli/fn0m7RcKhfjd734XhUIhOjs7i5/zu+++qKuri1wul0n/cLipra0tbp9zzjn7HTsefvjhiPh9bcrn87Fz587MjgEREb/73e8yaXc4jo+5XC42btxY8rZ/8pOfRG1tbZx22mmZ1KZX2zfl5eXR3t4eN998cxx33HFDbn9g32zatOkQR/ry7Wf1UXD77ptCoVCcaaIuMZoI6DBEZ511VrEonnXWWVFZWRk7duyI3bt3x+zZszPpc+XKlXHkkUfG1KlTS952f39/PProo8WfpdReeOGFaGxsjDlz5pS87bvuuite97rXxfHHHx/z58+PiorSHtIGAui8efNedgG6BQsWxI4dO2LRokVDbn/nzp2xbdu2OOOMMw51qAe0evXqmDBhQkybNi2T9h9++OGYO3du9Pb2xkknnVR8vKGhobjd3Nwc9fX1mfQPDHbuuefGQw89VDyeP/vss1FXV5f5MWDcuHElb3v37t2xdevWzI6Pa9asiZqamjj22GNL2m6hUIh/+qd/iksvvbQ43bzUtampqSmee+65OPPMMw/4/bPOOiu++tWvRldX12uqTevWrYuqqqpBx/JSevTRR+O0004bNHOxVJqammLDhg1x1llnRWtra7E2qUuMJgI6HIKampqoqqqKqqqqKC8vH3R1o5TKy8ujqqoqk/YHFh2qra3NJKBXV1dnsm96e3vjzjvvjHe84x1RVlYWtbW1mQT0iL2/5+rq6gM+55xzzomvf/3rUVlZOeT9l9W+GVBRUZHZ301ERC6Xi5qampg0aVJs2bIlWltbY/bs2bF58+biyc9wfrwQHO4GjkEDtSnrY8BAX1ncZ93e3l48tmchq32zfPny2LJlS/z93/999Pb2ZlKbOjs7X3XfzJs3L5588slYsmTJkNuvqKiIysrKzGtHFu13dXUV901NTU2sXLlSXWLUcQ86MCo9/PDDsWfPnmFfvf2lzj777Ojo6IgVK1aM6DhGUi6Xi/r6+uJJT319ffGfaYTA4eT222+Po4466jVduS6lhQsXxuOPP35Yr/yfy+XUJUYlAR0YlW6//faYOXNmnHrqqSM6jtNPPz1qamoyu58OgNEhn8/HL37xi7jssstGZOHSfS1cuDBaWloyXbsGyIaADow63d3dceedd8YVV1wx4u+EV1ZWxllnnRWPPPLIiI4DgJH1+OOPx44dO+KKK64Y6aHEmWeeGZWVlWoTjEICOjDq3HfffdHW1jbi09sHmEoIwM9//vOYNm1azJs3b6SHEtXV1XHmmWf6PHQYhQR0YNS5/fbb49RTT40TTzxxpIcSEXsDeltbW6xatWqkhwLACOjt7Y077rgjLr/88igrS+P0euHChfHYY48VFzwFRoc0jiAAB6m9vT3uvvvuJKYQDjjjjDOiqqrKlQqAw9TAwqUp1aaFCxfGnj17Yu3atSM9FGAIBHRgVPnNb34TXV1dcfnll4/0UIpMJQQ4vA0sXDp79uyRHkrRvHnzoqKiQm2CUUZAB0aVn//85zFv3rw49thjR3oogwxMJczn8yM9FACGUUoLl+6rtrY2Tj/9dJ8yAqOMgA6MGs3NzXH//fcnszjcvhYtWhTNzc0+0gbgMJPawqX7WrhwYTz66KPuQ4dRREAHRo1f//rX0d/fH3/wB38w0kPZz8BH2phKCHB4SW3h0n0tXLgwGhsbY+PGjSM9FOAgCejAqPHzn/88Fi1aFEcfffRID2U/NTU1cfrppwvoAIeRFBcu3df8+fOjrKxMbYJRREAHRoWdO3fGww8/nOQUwgE+0gbg8HL33Xcnt3DpviZMmBCnnXaagA6jiIAOjAq33npr1NXVxbx580Z6KC9r4cKFsWvXrtiwYcNIDwWAYXDbbbfFCSecEJWVlSM9lJflPnQYXQR0YFTYvn17vOENb4hf/vKXIz2Ul3XWWWdFeXl5PPLIIyM9FACGwaRJk2Lu3Llxyy23jPRQXtbChQtj+/btsXXr1pEeCnAQBHRgVPjQhz4U06dPj8WLF4/0UF7WhAkT4qSTTorbbrstduzYMdLDASBj119/ffK1acGCBRER8YUvfEFtglFAQAdGhalTp8Zf/dVfxdSpU0d6KK/ozDPPjBNOOCHpqylj0T333BO5XO5l/73hDW8Y6SECY9BoqE0TJ06Md77znVFTU6M2DTO1iddCQAcoodFwpX8sOu+882Lbtm37/bvhhhsil8vFhz70oZEeIsCI+chHPqI2jQC1ideiYqQHADCWDFxNYXhVVVXF6173ukGPrVy5Mv72b/82PvGJT8S73vWuERoZwMhTm0aG2sRr4Qo6AGNOU1NT/NEf/VFccskl8elPf3qkhwMAahMHRUAHYEzJ5/PxJ3/yJ1FRURE333xz5HK5kR4SAIc5tYmDZYo7HEBfX98Btw/0vbKysujv749CobDfc0ulUChEf39/Ju339/dHxN6fJYtikfW+GWg3i/YHPjO2r68vysvLS95+1vsmn89HPp/P9O+yr68vent7o7W1NVpbWyMioqWlpficurq6YT8J+cQnPhEPPfRQPPLII1FXVzesfUOp5fP54vYr1aZ9HxuoTVkfAwb6yqo2jebjY5a1abTvm6zPaQb2TaFQiD179kTEyNelCLWJg5crDJyBwmGura0t7rrrrpEeBow6HR0d8Sd/8icH/F5zc3PU19cP21j+67/+K66++uq4/fbb47LLLhu2fiEL+Xw+li9fHhs3bhzpocCo83K1abjrUoTaxNC4gg4HcMEFF8T999+/3/ZLvz7nnHOiqqoqnn/++di1a1ecccYZmYxn+fLlMXny5Jg2bVrJ2+7v748HHnggzj333KisrCx5+9u3b48dO3bEmWeeWfK2I/ZenXjwwQfjvPPOi4qK0h7SCoVC3HffffH6178+qqurS9p2RMQLL7wQW7dujbPOOqvkbUdErFixIurr6+PYY4/NpP177703Fi5cGOPGjYuNGzdGa2trnHHGGbF58+biyc9wXiV48skn4wMf+EB87nOfcwLEmDFz5sxiQH+l2hSxd8XoBx98sFibnnnmmZg4cWLmx4CampqSt71z587YtGlTzJ8/v+RtR+xdqGv8+PExY8aMTNrPsjbt3r071q9fH2effXZJ2x3w7LPPRnV1dcycOTOT9h944IGYN29ejB8/vuRt79mzJ9asWROLFi2KQqEQy5cvH9G6FKE2MXQCOhzAvsX0pYX1pd+rqKiI8vLyyOVyJS/CA3K5XJSXl2fS/sA0r4GfpdSy3jcDshj/wASj0bpvysrKoqysLNO/y4qKiqisrIwjjzyy2E99ff2wX53YuXNnvOMd74hLLrkkrr766ti+ffug75eXl8eUKVOGdUxQCmVlv18u6JVq076PDRyzsj4G7NtXqY324+OALPbPaN83WZ7TvHTfTJo0KSJGpi5FqE28NgI6AKPe7bffHs8991w899xzccwxx+z3/eOOO840YQCGldrEa2EVdwBGvfe+971RKBRe9p8TIACGm9rEayGgAxykRx99ND7ykY/Etm3bRnooABARe6/SfvzjH48dO3aM9FCAEhDQgVFvxYoV8a//+q+Zn5x85zvfiZqamrj11lsz7QeA0e25556LW265JTZt2pR5XzfeeGMUCoW45ZZbMu8LyJ6ADox6N998czQ1NWV+cjJz5sx44IEH4qqrrsq0HwBGt+985ztxxBFHxE033ZR5X+Xl5bFhw4ZYvHhx5n0B2RPQgVGvt7c3du7cmfnJSV9fX0yYMCGmTp2aaT8AjG5vectb4q677ooLL7ww8746OzvjjDPOUJtgjBDQgVGvqqoqTjvttMxPTpqbm2PixImZ9gHA6Pe6170uWltbM/ms75dSm2BsEdCBUa+ysjK6u7sz78dJEAAHo7q6OiJCbQKGTEAHRr2Kioro7e3NvJ/m5uY44ogjMu8HgNGtsrIyIiLz2tTV1RXd3d1qE4whAjow6rmCDkBKhusKenNzc0SE2gRjiIAOjHoVFRXR09OTeT8COgAHo6qqKiIi89rU1NQUEQI6jCUCOjDqDUdALxQK0dTU5CQIgFc1ENBdQQeGSkAHRr3hCOidnZ3R29vrJAiAV5XL5YZlfZSBgO4edBg7BHRg1KusrMw8oDsJAmAohuPN44HaVFdXl2k/wPAR0IFRr6KiwjRCAJIyXLWprq4uKioqMu0HGD4COjDqVVZWZj6N0EI8AAzFcMzusjYKjD0COjDquYIOQGqGa4q7ugRji4AOjHrDdQ96Lpdznx8AB2W4apOADmOLgA6MesNxlaKlpSXq6+ujvLw8034AGBuGY3ZXS0uLxUthjBHQgVHPNEIAUjNcH7OmNsHYYslHGKKWlpbi9po1a6KsrCw6Ojqiq6srVq5cmUmf7e3t0d/fP6jvUikUChERsXr16igrK/17dh0dHdHZ2ZnZvikUClFZWRkdHR2Z9bFmzZrYuHFjVFVVlbSPzs7OTPdNS0tLdHV1RXt7eybtFwqFWLduXZSVlUV7e3tUV1cX+x1QV1cXuVwuk/6BwTZs2BARv69Nra2t0d3dndkxICJi3bp1mcws6urqyrSuNjc3F+tTFgZq086dO0v+M3R3d0d3d3esXLkyGhsbo7e3t6R9NDU1RXl5eWZX//v7+2PDhg2ZrDzf3d0dPT09sXLlyigUCvHCCy9EhLrE6CKgw6vYs2fPoK+feuqp4nZVVVWUl5dHT09P5HK5YkAptVwuFxUVFZm0PxDQq6urMwnovb290dXVldm+yefzUVFREX19fZn1UV1dHR0dHTFx4sSS9tHX15fp301ZWVmUl5dn1n7E3v8DXV1d8aY3van4WENDQ3G7ubk56uvrM+sfDleNjY37PTYwk2igNg3XMSCLoNXf35/p8bG8vDzTfTNQm/r7+0veRz6fL+6btra2OOKII0raR9b7JmLv/flVVVUlb/el++btb397RKhLjC4COhzAunXritsvfVf6/PPPj9/+9rcREXHcccdFVVVVbN26NQqFQpxwwgmZjKelpSWOOuqomD59esnb7u/vj+eeey6OO+64qKysLHn727Zti76+vsz2TV9fX3EaYan7KBQKsXHjxpgxY0b09fXF1KlTS9rHjh07oru7O7N909HREfX19TFjxoxM2n/uueeioaEhxo0bF1u2bInW1taYPXt2bN68uXjyY1E9KJ1nn322uL1x48b9vn/KKafEjh07irWpvb09Jk6cmNkxYOPGjdHQ0BA1NTUlb7uxsTE6OzszOz52dnbG+PHjY+bMmZm0P1CbKioqSv4z7Nq1K9ra2qKhoSE6Ozvj+OOPL2kf3d3dUV1dndm+37JlSxx77LExYcKEkre9e/fuaGlpiRNOOCEKhUKsXLlSXWLUcQ86vGjXrl3F7X3vGTv33HMHPc+0qPRUVlZGf39/9PX1ZdZHc3OzhXheRi6Xi/r6+uJJT319ffGf/y9waNauXVvc3vdK9cKFC0diOAxB1qu4D0zbVpsObN9PXlGXGE0EdHjRvgXu1FNPLW47kKdv4KQ1yxMhC/EAI2Hfq98nnnjiCI6Eocp6Fffm5uaICLUJxhgBHV7k47NGLwEdGKuyuE+X4ZH1J4w0NTVFhIAOY42ADox6A/fOZ3Wloqenp7hIHAAcjKynuLuCDmOTgA6MegNX0LP6vNmB+/ycBAFwsLK+gi6gw9gkoAOjXtZX0AdOgizEA8DBqqyszPwe9Jqamkw/Dg0YfgI6MOplfQ+6qxQADNXAR4BmxdooMDYJ6MCol/UVdFPcARiqrK+gNzU1qUswBgnowKg3XFfQ6+vrM2kfgLFnOO5BF9Bh7BHQgVFvIKBneQ96bW2tjzsC4KANTHHP5/OZtC+gw9gkoAOj3sAU9yxXcbdAHABDkfUnjDQ3N6tNMAYJ6MCoNxxT3F2lAGAoBt48VpuAoRDQgVFvOKa4OwkCYCjUJuC1ENCBUS/rK+gtLS1OggAYkiyvoOfzebUJxigBHRj1crlcVFVVZfoxa06CABiKLK+gd3Z2RqFQUJtgDBLQgTGhurrafX4AJCPLK+htbW0REWoTjEECOjAmVFZWCugAJCPL26/a29sjQkCHsUhAB8aErK6g5/P5aG1tdRIEwJBkeQVdQIexS0AHxoSs7kHv6OiICCdBAAxNlvegm+IOY5eADowJVVVVmVylENABeC2ynuJeWVkZtbW1JW8bGFkCOjAmZHUFfWAa4RFHHFHytgEYuwamuGdVmyZOnBi5XK7kbQMjq2KkBwCjzcC0soiIhx56KHK5XOTz+SgUCnHvvfdm0md/f380NTXFunXrMmk/Yu/PkoWs982Arq6u2Lx5c8n7GbiCvmrVqtixY0dJ287n85HP5zP9u9m5c2ds3Lgxk/YLhUI88sgjEbH3I38G3sRoaWkpPqeurs4JJAyTJ598MiJ+X5v6+/tj165dmR0DIiIeeeSRTP6PD8fxMZfLxaZNmzJpP+L3V9CfeuqpqKmpKVm7hUIhmpqaorKyMpP9M7BvtmzZUvK2IyL6+vri8ccfz+TvplAoRH9/f9x7771RKBRi165dEaEuMboI6DBES5cuLW7PnTs3KisrY8eOHbFnz5449dRTM+lz1apVMWnSpJg6dWrJ2+7v74/HH3885s6dWzyZKKXGxsbYuXNnzJ49u+RtR+wt9EuXLo1JkybFhAkTYv78+SVru1AoxIMPPhgREeeff36MGzeuZG1HROzatSu2b98ec+bMKWm7A9auXRvjx4+PY445JpP2H3nkkZgzZ0709vbGKaecUny8oaGhuN3c3Bz19fWZ9A8MNnny5GhpaSnWpjVr1sSECRMyPwaU+tgYEbF79+54/vnn4/TTTy952xF7j481NTUxffr0TNrv6+uLxx57LCIipk2bVtLa1NTUFF1dXXH00UeXtN0B69evj6qqqjj22GNL3nZExOOPPx6zZ8/OZHp+c3NzbNy4Mc4888xobW0t1iZ1idFEQIdXsWfPnkFfv/71ry9ebR4/fnxUVVVFc3NzVFRUxIQJEzIZQ0VFRYwbNy6T9vv7+yNi788yMB2vlFpbW6O8vDyzfdPX1xcRETU1NVEoFEraT6FQiJ07d8YRRxwR/f39Jf8Z2tvbM903FRUVUV1dnVn7uVwuxo8fH+PGjYstW7ZEa2trzJ49OzZv3lw8+amrq8ukbzjcbdu2bb/HGhoaYsOGDcXalPUxIGJv7Sjl1eEBnZ2dmR4fKysrM903fX19UVZWFhUVFVFWVlbSfrq7u6O5uTkKhUK0t7eX/M37ysrKqKqqyrR21NbWZtJ+T09PcX+PHz8+Vq5cqS4x6rgHHQ6gUCgUt5955plB36uurh7u4XAQqqurM7nPb8uWLXHJJZfELbfcUvK2x4pcLhf19fXFk576+vriP9MIoXQG3lCNiEynZlM6Wa6PcvLJJ6tNryCXy6lLjEoCOhzAwLS0iIhzzjlnBEfCwcrn87F9+/aS3ye+ePHimDp1aixevLik7QIM1cMPP1zcXrRo0QiOhINVUVERDz30UMlr00c/+tGYNm2a2gRjkIAOL2pubi5u73u/Xhb3ZVN61dXVMWfOnJJfTTjiiCPiQx/6UCb3/wO8mq1btxa3913nxFXA0WHu3LkxadKkktemSZMmxXXXXac2wRgkoMOLqqqqittZLYxCdj72sY/F9OnTXU0AxpR9F2CbPHnyCI6E1+If//Ef1SZgSFwahBdlscgNw+foo4+Ov/qrvxrpYQCUlFA+uqlNwFC5gg4AAAAJENABAAAgAQI6AAAAJEBABwAAgAQI6AAAAJAAAR0AAAASIKADAABAAgR0AAAASICADgAAAAkQ0AEAACABAjoAAAAkQEAHAACABAjoAAAAkAABHQAAABIgoAMAAEACKkZ6ADCaNTU1RUVFRbS3t0dvb2/s3r07k356e3ujvb09k/bz+XxE7P1ZysvLS95+1vumv78/IiL27NmTyfgj9u6bysrKkrfb1tYWfX19me2bnp6e6OjoyKz9QqEQzc3N0dHREW1tbdHb2xsRES0tLcXn1NXVRS6Xy6R/YLDu7u6I+H1tyvoYEBHR3NwcnZ2dJW93OI6PZWVlo7I2tba2Rn9/f2Zj7+7ujnw+n1n7+Xw+Wlpaoqenp+Rt77tvCoVCbN++PSLUJUYXAR2GqK2trbi9du3ayOVy0dfXF/39/fHss89m0md3d3d0dXXFrl27Mmk/ImLNmjWZFKys902hUIiI7MYfEbFu3bpM2u7v74++vr7M9k1PT0+0t7fHnj17Mmk/ImL9+vXR0dER73znO4uPNTQ0FLebm5ujvr4+s/6B33vsscci4ve1aSCgZ30MyOr42Nvbm+nxsbW1NZqamjJpP8vaNBz7JpfLDQq1pZTP52PDhg1RVlb6ibz77pv29vZibVKXGE0EdBiipUuXFrfPPvvsqKqqiq1bt0ZjY2PMmzcvkz6ffPLJmDJlSkyfPr3kbff398dvf/vbWLhwYSZXibdt2xbbtm2L+fPnl7ztiL1vANx7772xaNGiqKgo7SGtUCjE3XffHQsWLIjq6uqSth0RsWPHjti8eXOcffbZJW87IuLpp5+O+vr6mDFjRibt33333XHWWWfFuHHjYsuWLdHa2hqzZ8+OzZs3F09+6urqMukb2N+pp54azzzzTLE2LV++PCZOnJjZMeA3v/lNnHXWWVFTU1PythsbG2Pjxo2xcOHCkrcdEfHMM8/E+PHjY+bMmZm0n2Vt2rVrV6xduzZe//rXl7TdAStXrozq6uo44YQTMmn/3nvvjTPPPDMmTJhQ8rZ3794dzz77bJx77rlRKBRi5cqV6hKjjnvQYYjmzp070kOApORyuaivry+e9NTX1xf/mUYIw2fy5MkjPQRIRi6XU5cYlQR0eBUvnVZ+xBFHjMxAAOBFzz333EgPAYAMCOjwKlasWDHSQwCAQQYWvwJgbBHQ4QDa29uL2wsWLBjBkQDAXo2NjcVttQlgbBLQ4QAef/zx4nZtbe0IjgQA9lq1alVxu9QLjwGQBgEdXjTwGc4REaeffvoIjgQA9mptbS1uZ/WJDwCkQ0CHF+37WahHHnnkyA0EAF60bdu24nYWH2cGQFoEdHjRlClTRnoIADDISSedNNJDAGAYCegAAInymc0AhxcBHQAAABIgoAMAAEACBHQAAABIgIAOAAAACRDQAQAAIAECOgAAACRAQAcAAIAECOgAAACQAAEdAAAAEiCgAwAAQAIEdAAAAEiAgA4AAAAJqBjpAcBotm7duigrK4v29vbo7OyMZ599NpN+2tvbI5/PR1tbW8nbLhQKERGxdu3aKCsr/Xt2HR0d0dHRkdm+yefzERGxZs2aTMYfsff3XF5eXvJ2Ozo6Mv27aW1tje7u7ujs7Myk/UKhEOvXr4/y8vJob2+PqqqqiIhoaWkpPqeuri5yuVwm/QODNTY2RsTva1Nra2v09PRkdgyIiFi/fn1UVJT+dLKzszO6uroyOz62tLREZ2dndHd3Z9J+lrWpq6sruru7M9s3zc3NUV5eHr29vZm039/fHxs3bozKysqSt93d3R09PT3x7LPPRqFQiBdeeCEi1CVGFwEdhmjfg3x5eXmUlZVFWVlZ5HK5TEJcREQul4uysrJM2h8I6AM/S6llvW8GxlxRUZFZwS0vL89k/OXl5Zn/3WTZfsTen6Grqyve8IY3FB9raGgobjc3N0d9fX1m/QO/t3r16oj4/fF8uI4Bjo/7y7I2Dcc5x2j9u9l337S1tcVb3/rWiFCXGF0EdBiiZcuWFbdnzpwZVVVVsXXr1mhsbIxZs2Zl0mdbW1tMmTIlpk+fXvK2+/v7Y/PmzXH88cdn8m72tm3bor+/P7N909fXVxx/qa/iFAqF2LRpU8ycOTOqq6tL2nZExI4dO6KnpyezfdPV1RX19fUxY8aMTNrfvHlzHHfccTFu3LjYsmVLtLa2xuzZs2Pz5s3Fk5+6urpM+gb2d8YZZ8STTz5ZrE2dnZ0xceLEzI4BmzZtiuOOOy5qampK3nZjY2N0dXVldnzs7u6O8ePHx8yZMzNpP8vatGvXrujo6Mhs3/T29kZ1dXWccMIJmbT//PPPR0NDQ0yYMKHkbe/evTtaW1tj1qxZUSgUYuXKleoSo46ADkN04oknFq9SAHuvtux7NaK+vt7VCRgB/t/B7+VyuWIYV5cYTQR0GKJp06YVA3pPT0/09/dHd3d35PP5zO7z6+vri97e3kza7+vri4i99/sNbJdST09P5vsmYu/4s7iCHrH3SvTA/YSlNBz7Jut70Ds6OqJQKMS2bdviH/7hHyLCvX4wHAaOT/sauGd4oDb19vZmVjsGjolZ3cM9cNzN8vjY19c3KmvTcJxzlJWVZVo7Ojs7M5ni3tPTE319fdHR0REREffff39ERDQ1NQ16ntpEynKFAx3h4TDU1tYWd911V0REXHLJJXHPPfdERMRpp50WK1asKD7vggsuiPvvvz9yudwBT5DgcNPR0RF/8id/csDvbd68OaZPn+5ECF6DfD4f7e3t8Zvf/CYiBtem6dOnx9atWwc9f9GiRfHoo4+qTRBqE6OXj1mDV7Fq1apBX/f390dZWZkTIHhRTU1N/N//+38P+L2GhoZobW0d5hHB2Ldr165BX+dyuXjkkUfUJnhRTU1NfOtb3zrg99QmUmaKO7yKM844Y9DCcIVCIc4777zo6OiIZcuWRUNDw6DVQUulUCjEM888E2VlZTF79uxM3uV94YUXYsOGDbFw4cJMVnDv7++PBx98MBYsWBC1tbUlbz9i71S8hx56KM4999xMPupn69atsXv37jjjjDNK3nbE3o/QW7p0aSxcuDDGjRtX8vZ7e3tj6dKlceyxx2ayyGA+n48VK1ZEXV1drF27NvL5fHzoQx+KrVu3xn//93/HpEmTolAoREtLiymFcIj2vdXmrLPOioceeqj49aJFi6Kqqiq2b98ea9eujblz52Zyz21PT088/vjjcdxxx8W0adNK3n5EFD8+7JRTTsmk/T179sSaNWti0aJFmbQfkX1tevrpp2PixImZnH9ERGzZsiVeeOGFOOusszI5bre0tMSyZcti3rx5mSza1tnZGU899VSceeaZsX79+li3bl28//3vj3PPPTe+8IUvFC+0FAoFdYnkmOIOL9p3ivusWbNi7dq1ETF4SqFp7fDKTCmE0nnpFPejjjoqdu7cGRERF110Udx7770RoTbBK3m1ulRfX+8NZJJiijscwMaNG4vbAwu9OAGCV/dq0923bt3q/xG8RvsuyKY2wcGpqamJ73//+wesTQ0NDTFx4kS1iaQI6PCifQ/M8+bNK2675xwOXi6Xi8mTJ7snHUpk30/XOPPMM4vbhUJBbYKDkMvlora2Vm1i1HAPOrzo+eefL25PmDChuD1wz3lPT0889dRTUV9fHyeffHJmU6HWrFkT7e3tMXfu3EzuC4/Ye//dypUrY9GiRZncGxexd2rmgw8+GPPmzRu0P0st6/v8IvZOgWtubo7TTz89k/YjIpqbm+Ppp5+ORYsWRWVlZSZ9dHZ2xtKlS+Pkk0+OKVOmZNJHb29vPPXUU3HUUUfFhg0bore31z3pcAhWrlxZ3H5pTbjggguiqakpli9fHieddFJMnTo1kzH09/fHE088EUcddVTMnDkzkz4iItavXx8dHR2ZH2tXrFgR55xzTqbHn+GoTcuXL48jjzwyk/VFBmzcuDFaW1szW4clIqKxsTFWr14dCxYsyGQtloiI1tbWeOqpp2LRokXuSSd57kGHFzU3NxfvNfdRalAa7kmH1y6fz8fOnTuLi8Gdd9558eCDD6pNcAjck07qTHGHF5WXlxe3TWuH0vARbHBoampqitumtcOhO5h70tUmRpIp7nAAA9Pa8/l8PP3001FWVhZz5szJbMp5oVCI5cuXR1VVVZx66qmZ9DHg6aefjvHjx8fxxx+feT9ZfgTMgOGYRhgxPFMJC4VCPPHEEzF16tRM++nr64snnngiXve612X6++ns7Ixly5bF3LlzTXeH1+ilYfyCCy6Itra2TD/mc0BXV1csXbo0TjzxxMymz0fsPSb97ne/i9NOOy0mTZqUWT+FQiEeeOCBzG+9ihie2jQcH2Uasffv4NFHH4358+fH+PHjM+untbU1nnzyyTjzzDMz+YjAAbt27YoVK1bEggULYv369bFhw4Z43/veF+ecc47p7iTBFHd4UXNzc/z85z8vTh3s6emJLVu2xAknnJB536tXr45Zs2Zl9gbAgBdeeCFyuVxm9x8PKBQKsWLFijj11FMHzUzIqq/Ozs6oqanJtJC2t7fHtm3bYtasWZn1MWD16tVx/PHHZ3Yv+oC2trZoamqKY489NtN+IiJWrVoVM2bMiL/4i7844PdNd4f99fX1xdatWwdNa9+xY0dUVVVlGmQj9k6vX7NmTWafRb6v9evXx7Rp0zK7/3hAU1NTtLS0xIwZMzLtJ2L4alNjY2P09fXFMccck1kfEXvfDFizZk3mFxEiIjZt2hRHHXVUpm86RET09PTE2rVr45/+6Z8O+H3T3RkpAjq8aOvWrcMSVIADa25uzvSqCYw2zc3NccQRR4z0MOCwpjYx3AR0eFE+n4+mpqbI5/MREbF9+/aora0dloPy6tWr4+STT868n507d0ZExFFHHZVpP729vbFhw4Zh+ZlaW1vjhBNOiPXr10ddXV1m/XR3dxdnVGT9Tvr69evj2GOPjaqqqkz7yefzsX79+mGZFbBu3bqYMWNGVFRURFtbW/T29kZZWVlMmTKluD9dpYDBBm4B6e/vL9am1atXx0knnZT5/5Xu7u7Ytm1bpqu2Dxiun6mtrS127949LFfQh6s27dixo3gszdpw/Z4aGxujvLw8jjzyyEz7ifj9+VehUIi2trbo6uqKurq6QfVIbWK4CejAqFYoFKK1tVUBBSAZahPwWgnoAAAAkAAfswYAAAAJENABAAAgAQI6AAAAJEBABwAAgAQI6AAAAJAAAR0AAAASIKADAABAAgR0AAAASICADgAAAAkQ0AEAACABAjoAAAAkQEAHAACABAjoAAAAkAABHQAAABIgoAMAAEACBHQAAABIgIAOAAAACRDQAQAAIAECOgAAACRAQAcAAIAECOgAAACQAAEdAAAAEiCgAwAAQAIEdAAAAEiAgA7AYaNQKMSll14al1122X7f+9rXvhZHHHFEbNmyZQRGBsDhSm1iXwI6AIeNXC4X//Ef/xG/+93v4oYbbig+vmHDhrj++uvj3//93+PYY48dwRECcLhRm9hXrlAoFEZ6EAAwnL7zne/Ehz/84Xjqqadi5syZ8aY3vSmOOOKIuO2220Z6aAAcptQmIgR0AA5T73jHO6K5uTne+c53xqc//el45plnYsqUKSM9LAAOY2oTAjoAh6UXXngh5syZE7t3744f/vCH8Y53vGOkhwTAYU5twj3oAByWjj766FiyZEnMnj3bCRAASVCbENABOGxVVFRERUXFSA8DAIrUpsObgA4AAAAJENABAAAgAQI6AAAAJMAq7gAAAJAAV9ABAAAgAQI6MOr09/fHeeedF+985zsHPd7c3BwNDQ3xyU9+coRGBsDhSF0CSsUUd2BUWr16dcybNy++9a1vxZ/+6Z9GRMSf/dmfxbJly+LRRx+NqqqqER4hAIcTdQkoBQEdGLW+8pWvxP/3//1/8cwzz8QjjzwS73rXu+LRRx+NM888c6SHBsBhSF0CDpWADoxahUIh3vjGN0Z5eXksX748/uqv/ir+9//+3yM9LAAOU+oScKgEdGBUW7VqVcyePTvOOOOMWLp0aVRUVIz0kAA4jKlLwKGwSBwwqt14441RW1sbGzZsiC1btoz0cAA4zKlLwKFwBR0YtR588MG4+OKL41e/+lX80z/9U0RE3HnnnZHL5UZ4ZAAcjtQl4FC5gg6MSh0dHfHnf/7n8T/+x/+IN7zhDfHtb387HnnkkfjGN74x0kMD4DCkLgGl4Ao6MCp95CMfiZ///OexbNmyqK2tjYiIG264If72b/82li9fHjNnzhzZAQJwWFGXgFIQ0IFR57e//W286U1vinvuuScuuOCCQd+77LLLoq+vz5RCAIaNugSUioAOAAAACXAPOgAAACRAQAcAAIAECOgAAACQAAEdAAAAEiCgAwAAQAIEdAAAAEiAgA4AAAAJENABAAAgAQI6AAAAJEBABwAAgAQI6AAAAJAAAR0AAAASIKADAABAAgR0AAAASICADgAAAAkQ0AEAACABAjoAAAAkQEAHAACABAjoAAAAkAABHQAAABIgoAMAAEACBHQAAABIgIAOAAAACRDQAQAAIAECOgAAACRAQAcAAIAECOgAAACQAAEdAAAAEiCgAwAAQAIEdAAAAEiAgA4AAAAJENABAAAgAQI6AAAAJEBABwAAgAQI6AAAAJAAAR0AAAASIKADAABAAgR0AAAASICADgAAAAkQ0AEAACABAjoAAAAkQEAHAACABAjoAAAAkAABHQAAABIgoAMAAEACBHQAAABIgIAOAAAACRDQAQAAIAECOgAAACRAQAcAAIAECOgAAACQAAEdAAAAEiCgAwAAQAIEdAAAAEiAgA4AAAAJENABAAAgAQI6AAAAJEBABwAAgAQI6AAAAJAAAR0AAAASIKADAABAAgR0AAAASICADgAAAAkQ0AEAACABAjoAAAAkQEAHAACABAjoAAAAkAABHQAAABIgoAMAAEACBHQAAABIgIAOAAAACRDQAQAAIAECOgAAACRAQAcAAIAECOgAAACQAAEdAAAAEiCgAwAAQAIEdAAAAEiAgA4AAAAJENABAAAgAQI6AAAAJEBABwAAgAQI6AAAAJAAAR0AAAASIKADAABAAgR0AAAASICADgAAAAkQ0AEAACABAjoAAAAkQEAHAACABAjoAAAAkAABHQAAABIgoAMAAEACBHQAAABIgIAOAAAACRDQAQAAIAECOgAAACRAQAcAAIAECOgAAACQAAEdAAAAEiCgAwAAQAIEdAAAAEiAgA4AAAAJENABAAAgAQI6AAAAJEBABwAAgAQI6AAAAJAAAR0AAAASIKADAABAAgR0AAAASICADgAAAAkQ0AEAACABAjoAAAAkQEAHAACABAjoAAAAkAABHQAAABIgoAMAAEACBHQAAABIgIAOAAAACRDQAQAAIAECOgAAACRAQAcAAIAECOgAAACQAAEdAAAAEiCgAwAAQAIEdAAAAEiAgA4AAAAJENABAAAgAQI6AAAAJOD/B8sfXVMOz//rAAAAAElFTkSuQmCC' width=1000.0/>\n",
       "            </div>\n",
       "        "
      ],
      "text/plain": [
       "Canvas(toolbar=Toolbar(toolitems=[('Home', 'Reset original view', 'home', 'home'), ('Back', 'Back to previous …"
      ]
     },
     "metadata": {},
     "output_type": "display_data"
    }
   ],
   "source": [
    "batch_num = 0\n",
    "frame_num = 0\n",
    "vec_2d_r_upper_leg_ref = torch.cat([p1_r_hip, p2_r_knee], dim=2)\n",
    "vec_2d_l_upper_leg_ref = torch.cat([p1_l_hip, p2_l_knee], dim=2)\n",
    "vec_2d_r_upper_arm_ref = torch.cat([p1_r_shoulder, p2_r_elbow], dim=2)\n",
    "vec_2d_l_upper_arm_ref = torch.cat([p1_l_shoulder, p2_l_elbow], dim=2)\n",
    "\n",
    "vec_2d_r_upper_leg = torch.cat([p1_r_hip, p1_r_hip + v_r_upper_leg], dim=2)\n",
    "vec_2d_l_upper_leg = torch.cat([p1_l_hip, p1_l_hip + v_l_upper_leg], dim=2)\n",
    "vec_2d_r_upper_arm = torch.cat([p1_r_shoulder, p1_r_shoulder + v_r_upper_arm], dim=2)\n",
    "vec_2d_l_upper_arm = torch.cat([p1_l_shoulder, p1_l_shoulder + v_l_upper_arm], dim=2)\n",
    "\n",
    "vec_3d_r_upper_leg_ref = torch.cat([d1_r_hip, d2_r_knee], dim=2)\n",
    "vec_3d_l_upper_leg_ref = torch.cat([d1_l_hip, d2_l_knee], dim=2)\n",
    "vec_3d_r_upper_arm_ref = torch.cat([d1_r_shoulder, d2_r_elbow], dim=2)\n",
    "vec_3d_l_upper_arm_ref = torch.cat([d1_l_shoulder, d2_l_elbow], dim=2)\n",
    "\n",
    "vec_3d_r_upper_leg = torch.cat([d1_r_hip, d1_r_hip + k_r_upper_leg], dim=2)\n",
    "vec_3d_l_upper_leg = torch.cat([d1_l_hip, d1_l_hip + k_l_upper_leg], dim=2)\n",
    "vec_3d_r_upper_arm = torch.cat([d1_r_shoulder, d1_r_shoulder + k_r_upper_arm], dim=2)\n",
    "vec_3d_l_upper_arm = torch.cat([d1_l_shoulder, d1_l_shoulder + k_l_upper_arm], dim=2)\n",
    "#print(vector.shape)\n",
    "\n",
    "%matplotlib widget\n",
    "fig = plt.figure(0, figsize=(10, 10))\n",
    "fig.clear()\n",
    "fig.tight_layout()\n",
    "ax_ref = axes_2d(fig, loc=221, normalize=True, show_axis=False)\n",
    "ax = axes_2d(fig, loc=222, normalize=True, show_axis=False)\n",
    "ax_3d_ref = axes_3d(fig, loc=223, show_axis=False, xlim=(-1, 1), ylim=(-1, 1), zlim=(0, 2), view=(0, 90)) #  view=(-90, -90))\n",
    "ax_3d = axes_3d(fig, loc=224, show_axis=False, xlim=(-1, 1), ylim=(-1, 1), zlim=(0, 2), view=(0, 90)) \n",
    "ax_ref.set_title('2D reference')\n",
    "ax.set_title('2D')\n",
    "ax_3d_ref.set_title('3D reference')\n",
    "ax_3d.set_title('3D')\n",
    "\n",
    "draw_2d_pose(ax_ref, vec_2d_r_upper_leg_ref[batch_num, frame_num].cpu().numpy(), normalize=True, dataset='vector')\n",
    "draw_2d_pose(ax_ref, vec_2d_l_upper_leg_ref[batch_num, frame_num].cpu().numpy(), normalize=True, dataset='vector')\n",
    "draw_2d_pose(ax_ref, vec_2d_r_upper_arm_ref[batch_num, frame_num].cpu().numpy(), normalize=True, dataset='vector')\n",
    "draw_2d_pose(ax_ref, vec_2d_l_upper_arm_ref[batch_num, frame_num].cpu().numpy(), normalize=True, dataset='vector')\n",
    "draw_2d_pose(ax, vec_2d_r_upper_leg[batch_num, frame_num].cpu().numpy(), normalize=True, dataset='vector')\n",
    "draw_2d_pose(ax, vec_2d_l_upper_leg[batch_num, frame_num].cpu().numpy(), normalize=True, dataset='vector')\n",
    "draw_2d_pose(ax, vec_2d_r_upper_arm[batch_num, frame_num].cpu().numpy(), normalize=True, dataset='vector')\n",
    "draw_2d_pose(ax, vec_2d_l_upper_arm[batch_num, frame_num].cpu().numpy(), normalize=True, dataset='vector')\n",
    "\n",
    "draw_3d_pose(ax_3d_ref, vec_3d_r_upper_leg_ref[batch_num, frame_num].cpu().numpy(), dataset='vector')\n",
    "draw_3d_pose(ax_3d_ref, vec_3d_l_upper_leg_ref[batch_num, frame_num].cpu().numpy(), dataset='vector')\n",
    "draw_3d_pose(ax_3d_ref, vec_3d_r_upper_arm_ref[batch_num, frame_num].cpu().numpy(), dataset='vector')\n",
    "draw_3d_pose(ax_3d_ref, vec_3d_l_upper_arm_ref[batch_num, frame_num].cpu().numpy(), dataset='vector')\n",
    "draw_3d_pose(ax_3d, vec_3d_r_upper_leg[batch_num, frame_num].cpu().numpy(), dataset='vector')\n",
    "draw_3d_pose(ax_3d, vec_3d_l_upper_leg[batch_num, frame_num].cpu().numpy(), dataset='vector')\n",
    "draw_3d_pose(ax_3d, vec_3d_r_upper_arm[batch_num, frame_num].cpu().numpy(), dataset='vector')\n",
    "draw_3d_pose(ax_3d, vec_3d_l_upper_arm[batch_num, frame_num].cpu().numpy(), dataset='vector')\n",
    "plt.show()"
   ]
  },
  {
   "cell_type": "code",
   "execution_count": 46,
   "metadata": {},
   "outputs": [
    {
     "name": "stderr",
     "output_type": "stream",
     "text": [
      "  0%|          | 0/243 [00:00<?, ?it/s]IMAGEIO FFMPEG_WRITER WARNING: input image is not divisible by macro_block_size=16, resizing from (1000, 1000) to (1008, 1008) to ensure video compatibility with most codecs and players. To prevent resizing, make your input image divisible by the macro_block_size or set the macro_block_size to 1 (risking incompatibility).\n",
      "  0%|          | 1/243 [00:00<03:46,  1.07it/s][swscaler @ 0x57b1b40] Warning: data is not aligned! This can lead to a speed loss\n",
      "100%|██████████| 243/243 [00:06<00:00, 36.93it/s]\n"
     ]
    },
    {
     "data": {
      "image/png": "[encoded data removed]",
      "text/plain": [
       "<Figure size 1000x1000 with 2 Axes>"
      ]
     },
     "metadata": {},
     "output_type": "display_data"
    }
   ],
   "source": [
    "fig = plt.figure(1, figsize=(10, 10))\n",
    "fig.clear()\n",
    "ax_2d = axes_2d(fig, loc=121, normalize=True, show_axis=False)\n",
    "ax_3d = axes_3d(fig, loc=122, show_axis=False, xlim=(-1, 1), ylim=(-1, 1), view=(-90, -90))\n",
    "videowriter = imageio.get_writer('h36m_no_factor_test_batch0.mp4', fps=30)\n",
    "for i in tqdm(range(243)):\n",
    "    clear_axes([ax_2d, ax_3d])\n",
    "    draw_2d_pose(ax_2d, batch_input[0, i].cpu().numpy(), normalize=True)\n",
    "    draw_3d_pose(ax_3d, batch_gt[0, i].cpu().numpy())\n",
    "    \n",
    "    canvas = FigureCanvas(fig)\n",
    "    canvas.draw()\n",
    "    image_from_plot = np.array(canvas.renderer._renderer)\n",
    "    image_from_plot = cv2.cvtColor(image_from_plot, cv2.COLOR_RGB2BGR)       \n",
    "    videowriter.append_data(image_from_plot)\n",
    "videowriter.close()\n",
    "        "
   ]
  },
  {
   "cell_type": "markdown",
   "metadata": {},
   "source": [
    "### build batch input, gt"
   ]
  },
  {
   "cell_type": "code",
   "execution_count": 9,
   "metadata": {},
   "outputs": [
    {
     "data": {
      "text/plain": [
       "(torch.Size([8, 243, 2, 2]),\n",
       " torch.Size([8, 243, 3]),\n",
       " torch.Size([8, 1]),\n",
       " torch.Size([8, 243, 2]))"
      ]
     },
     "execution_count": 9,
     "metadata": {},
     "output_type": "execute_result"
    }
   ],
   "source": [
    "input, gt_root_point, gt_length, gt_angle = get_input_gt_for_onevec(batch_input, batch_gt)\n",
    "input.shape, gt_root_point.shape, gt_length.shape, gt_angle.shape"
   ]
  },
  {
   "cell_type": "markdown",
   "metadata": {},
   "source": [
    "### Model test"
   ]
  },
  {
   "cell_type": "code",
   "execution_count": 3,
   "metadata": {},
   "outputs": [
    {
     "name": "stdout",
     "output_type": "stream",
     "text": [
      "checkpoint/pose3d/DHDST_onevec_h36m_s1_baseline/best_epoch.bin DHDST_onevec\n",
      "Loading checkpoint checkpoint/pose3d/DHDST_onevec_h36m_s1_baseline/best_epoch.bin\n"
     ]
    }
   ],
   "source": [
    "from lib.model.DHDSTformer import DHDSTformer_onevec\n",
    "from lib.utils.tools import * # get_config\n",
    "\n",
    "target_model = 'DHDST_onevec_h36m_s1_baseline'\n",
    "opts = parse_args_by_model_name(target=target_model)\n",
    "args = get_config(opts.config)\n",
    "print(opts.evaluate, args.model)\n",
    "\n",
    "model_pos = DHDSTformer_onevec(args)\n",
    "chk_filename = opts.evaluate\n",
    "print('Loading checkpoint', chk_filename)\n",
    "checkpoint = torch.load(chk_filename, map_location=lambda storage, loc: storage)\n",
    "model_pos.load_state_dict(checkpoint['model_pos'], strict=False)\n",
    "\n",
    "model_pos = model_pos.cuda()\n",
    "model_pos = model_pos.eval()"
   ]
  },
  {
   "cell_type": "code",
   "execution_count": 4,
   "metadata": {},
   "outputs": [
    {
     "name": "stderr",
     "output_type": "stream",
     "text": [
      "480it [00:04, 102.12it/s]\n"
     ]
    }
   ],
   "source": [
    "gts_all_root_point = []\n",
    "gts_all_child_point = []\n",
    "gts_all_3d_pos = []\n",
    "gts_all_length = []\n",
    "gts_all_angle = []\n",
    "gts_all_child_point = []\n",
    "results_all_root_point = []\n",
    "results_all_child_point = []\n",
    "results_all_3d_pos = []\n",
    "results_all_length = []\n",
    "results_all_angle = []\n",
    "results_all_child_point = []\n",
    "num_test_frames = 0 \n",
    "with torch.no_grad():\n",
    "    for idx, (batch_input, batch_gt) in tqdm(enumerate(test_loader)):  \n",
    "        batch_size = len(batch_input)    \n",
    "        if torch.cuda.is_available():\n",
    "            batch_input = batch_input.cuda()\n",
    "            batch_gt = batch_gt.cuda()\n",
    "            \n",
    "        # inference\n",
    "        input, gt_root_point, gt_length, gt_angle = get_input_gt_for_onevec(batch_input, batch_gt)\n",
    "        pred_root_point, pred_length, pred_angle = model_pos(input)\n",
    "        \n",
    "        num_test_frames += input.shape[0] * input.shape[1]\n",
    "\n",
    "        gt_R_azim = gt_angle[:, :, 0] # torch.Size([B, F])\n",
    "        gt_R_elev = gt_angle[:, :, 1] # torch.Size([B, F])\n",
    "        pred_R_azim = pred_angle[:, :, 0] # torch.Size([B, F])\n",
    "        pred_R_elev = pred_angle[:, :, 1] # torch.Size([B, F])\n",
    "        gt_child_point = batch_azim_elev_to_vec(gt_R_azim, gt_R_elev, gt_length, gt_root_point) # torch.Size([B, F, 3])\n",
    "        pred_child_point = batch_azim_elev_to_vec(pred_R_azim, pred_R_elev, pred_length, pred_root_point) # torch.Size([B, F, 3])\n",
    "        gt_3d_pos = torch.cat([gt_root_point.unsqueeze(2), gt_child_point.unsqueeze(2)], dim=2) # torch.Size([B, F, 2, 3])\n",
    "        pred_3d_pos = torch.cat([pred_root_point.unsqueeze(2), pred_child_point.unsqueeze(2)], dim=2) # torch.Size([B, F, 2, 3])\n",
    "        \n",
    "        results_all_root_point.append(pred_root_point.cpu().numpy())\n",
    "        results_all_child_point.append(pred_child_point.cpu().numpy())\n",
    "        results_all_3d_pos.append(pred_3d_pos.cpu().numpy())\n",
    "        results_all_length.append(pred_length.cpu().numpy())\n",
    "        results_all_angle.append(pred_angle.cpu().numpy())\n",
    "        gts_all_root_point.append(gt_root_point.cpu().numpy())\n",
    "        gts_all_child_point.append(gt_child_point.cpu().numpy())\n",
    "        gts_all_3d_pos.append(gt_3d_pos.cpu().numpy())\n",
    "        gts_all_length.append(gt_length.cpu().numpy())\n",
    "        gts_all_angle.append(gt_angle.cpu().numpy())\n",
    "\n",
    "results_all_root_point = np.concatenate(results_all_root_point)\n",
    "results_all_child_point = np.concatenate(results_all_child_point)\n",
    "results_all_3d_pos = np.concatenate(results_all_3d_pos)\n",
    "results_all_length = np.concatenate(results_all_length)\n",
    "results_all_angle = np.concatenate(results_all_angle)\n",
    "gts_all_root_point = np.concatenate(gts_all_root_point)\n",
    "gts_all_child_point = np.concatenate(gts_all_child_point)\n",
    "gts_all_3d_pos = np.concatenate(gts_all_3d_pos)\n",
    "gts_all_length = np.concatenate(gts_all_length)\n",
    "gts_all_angle = np.concatenate(gts_all_angle)"
   ]
  },
  {
   "cell_type": "code",
   "execution_count": 5,
   "metadata": {},
   "outputs": [
    {
     "data": {
      "text/plain": [
       "(3840, 243, 3)"
      ]
     },
     "execution_count": 5,
     "metadata": {},
     "output_type": "execute_result"
    }
   ],
   "source": [
    "results_all_root_point.shape"
   ]
  },
  {
   "cell_type": "code",
   "execution_count": 6,
   "metadata": {},
   "outputs": [
    {
     "data": {
      "text/plain": [
       "933120"
      ]
     },
     "execution_count": 6,
     "metadata": {},
     "output_type": "execute_result"
    }
   ],
   "source": [
    "num_test_frames"
   ]
  },
  {
   "cell_type": "code",
   "execution_count": 7,
   "metadata": {},
   "outputs": [],
   "source": [
    "results_r_upper_leg_root_point = results_all_root_point[0::4]\n",
    "results_r_upper_leg_child_point = results_all_child_point[0::4]\n",
    "results_r_upper_leg_3d_pos = results_all_3d_pos[0::4]\n",
    "results_r_upper_leg_length = results_all_length[0::4]\n",
    "results_r_upper_leg_angle = results_all_angle[0::4]\n",
    "\n",
    "results_l_upper_leg_root_point = results_all_root_point[1::4]\n",
    "results_r_upper_arm_root_point = results_all_root_point[2::4]\n",
    "results_l_upper_arm_root_point = results_all_root_point[3::4]"
   ]
  },
  {
   "cell_type": "code",
   "execution_count": 8,
   "metadata": {},
   "outputs": [],
   "source": [
    "num_test_frames = int(num_test_frames/4)"
   ]
  },
  {
   "cell_type": "code",
   "execution_count": 9,
   "metadata": {},
   "outputs": [],
   "source": [
    "action_names = sorted(set(datareader.dt_dataset['test']['action']))\n",
    "part_list = ['whole', 'r_hip', 'l_hip', 'r_knee', 'l_knee', 'r_shoulder', 'l_shoulder', 'r_elbow', 'l_elbow', 'r_upper_leg', 'l_upper_leg', 'r_upper_arm', 'l_upper_arm']\n",
    "eval_part = 'whole'\n",
    "\n",
    "total_result_dict = {}\n",
    "for part in part_list:\n",
    "    total_result_dict[part] = {\n",
    "        'e1_all': np.zeros(num_test_frames),\n",
    "        'e2_all': np.zeros(num_test_frames),\n",
    "        'oc': np.zeros(num_test_frames),\n",
    "        'results': {},\n",
    "        'results_procrustes': {}\n",
    "    }\n",
    "    \n",
    "    # To classify the results by action\n",
    "    for action in action_names:\n",
    "        total_result_dict[part]['results'][action] = []\n",
    "        total_result_dict[part]['results_procrustes'][action] = []"
   ]
  },
  {
   "cell_type": "code",
   "execution_count": 10,
   "metadata": {},
   "outputs": [
    {
     "data": {
      "text/plain": [
       "dict_keys(['whole', 'r_hip', 'l_hip', 'r_knee', 'l_knee', 'r_shoulder', 'l_shoulder', 'r_elbow', 'l_elbow', 'r_upper_leg', 'l_upper_leg', 'r_upper_arm', 'l_upper_arm'])"
      ]
     },
     "execution_count": 10,
     "metadata": {},
     "output_type": "execute_result"
    }
   ],
   "source": [
    "total_result_dict.keys()"
   ]
  },
  {
   "cell_type": "code",
   "execution_count": 11,
   "metadata": {},
   "outputs": [
    {
     "data": {
      "text/plain": [
       "(3840, 243, 3)"
      ]
     },
     "execution_count": 11,
     "metadata": {},
     "output_type": "execute_result"
    }
   ],
   "source": [
    "results_all_root_point.shape"
   ]
  },
  {
   "cell_type": "code",
   "execution_count": 12,
   "metadata": {},
   "outputs": [
    {
     "name": "stderr",
     "output_type": "stream",
     "text": [
      "100%|██████████| 3840/3840 [00:03<00:00, 1189.08it/s]\n"
     ]
    }
   ],
   "source": [
    "from lib.model.loss import *\n",
    "\n",
    "\n",
    "for idx in tqdm(range(len(results_all_root_point))):\n",
    "    #print(idx)\n",
    "    pred_root_point = results_all_root_point[idx] # torch.Size([F, 3])\n",
    "    pred_child_point = results_all_child_point[idx] # torch.Size([F, 3])\n",
    "    pred_3d_pos = results_all_3d_pos[idx] # torch.Size([F, 2, 3])\n",
    "    pred_length = results_all_length[idx] # torch.Size([1])\n",
    "    pred_angle = results_all_angle[idx] # torch.Size([F, 2])\n",
    "    gt_root_point = gts_all_root_point[idx] # torch.Size([F, 3])\n",
    "    gt_child_point = gts_all_child_point[idx] # torch.Size([F, 3])\n",
    "    gt_3d_pos = gts_all_3d_pos[idx] # torch.Size([F, 2, 3])\n",
    "    gt_length = gts_all_length[idx] # torch.Size([1])\n",
    "    gt_angle = gts_all_angle[idx] # torch.Size([F, 2])\n",
    "    \n",
    "    err1_per_joint = mpjpe_for_each_joint(gt_3d_pos, pred_3d_pos) * 1000 # (F, J)\n",
    "    err2_per_joint = p_mpjpe_for_each_joint(gt_3d_pos, pred_3d_pos) * 1000 # (F, J)\n",
    "    #print(err1_per_joint.shape, err2_per_joint.shape)\n",
    "    \n",
    "    if idx%4 == 0: part = 'r_upper_leg'\n",
    "    elif idx%4 == 1: part = 'l_upper_leg'\n",
    "    elif idx%4 == 2: part = 'r_upper_arm'\n",
    "    elif idx%4 == 3: part = 'l_upper_arm'\n",
    "    \n",
    "    frame_list = list(range((idx//4)*args.clip_len, ((idx//4)+1)*args.clip_len))\n",
    "    total_result_dict[part]['e1_all'][frame_list] = np.mean(err1_per_joint, axis=1) # (243, ) # 각 프레임 별 에러를 평균\n",
    "    total_result_dict[part]['e2_all'][frame_list] = np.mean(err2_per_joint, axis=1) # (243, ) # 각 프레임 별 에러를 평균\n",
    "    total_result_dict[part]['oc'][frame_list] = 1\n",
    "    \n",
    "    for J in range(err1_per_joint.shape[1]):\n",
    "        if part == 'r_upper_leg':\n",
    "            if J == 0: subpart = 'r_hip'\n",
    "            elif J == 1: subpart = 'r_knee'\n",
    "        elif part == 'l_upper_leg':\n",
    "            if J == 0: subpart = 'l_hip'\n",
    "            elif J == 1: subpart = 'l_knee'\n",
    "        elif part == 'r_upper_arm':\n",
    "            if J == 0: subpart = 'r_shoulder'\n",
    "            elif J == 1: subpart = 'r_elbow'\n",
    "        elif part == 'l_upper_arm':\n",
    "            if J == 0: subpart = 'l_shoulder'\n",
    "            elif J == 1: subpart = 'l_elbow'\n",
    "        \n",
    "        total_result_dict[subpart]['e1_all'][frame_list] += err1_per_joint[:, J] # (243, ) # 각 프레임 별 에러를 더해줌\n",
    "        total_result_dict[subpart]['e2_all'][frame_list] += err2_per_joint[:, J] # (243, ) # 각 프레임 별 에러를 더해줌\n",
    "        total_result_dict[subpart]['oc'][frame_list] += 1\n",
    "        \n",
    "        total_result_dict['whole']['e1_all'][frame_list] += err1_per_joint[:, J] # (243, ) # 각 프레임 별 에러를 더해줌\n",
    "        total_result_dict['whole']['e2_all'][frame_list] += err2_per_joint[:, J] # (243, ) # 각 프레임 별 에러를 더해줌\n",
    "        total_result_dict['whole']['oc'][frame_list] += 1\n",
    "        \n",
    "        "
   ]
  },
  {
   "cell_type": "code",
   "execution_count": 13,
   "metadata": {},
   "outputs": [
    {
     "data": {
      "text/plain": [
       "((243, 2, 3), (243, 2, 3), (243, 2))"
      ]
     },
     "execution_count": 13,
     "metadata": {},
     "output_type": "execute_result"
    }
   ],
   "source": [
    "gt_3d_pos.shape, pred_3d_pos.shape, err1_per_joint.shape"
   ]
  },
  {
   "cell_type": "code",
   "execution_count": 14,
   "metadata": {},
   "outputs": [
    {
     "name": "stdout",
     "output_type": "stream",
     "text": [
      "whole [8. 8. 8. ... 8. 8. 8.]\n",
      "r_hip [1. 1. 1. ... 1. 1. 1.]\n",
      "l_hip [1. 1. 1. ... 1. 1. 1.]\n",
      "r_knee [1. 1. 1. ... 1. 1. 1.]\n",
      "l_knee [1. 1. 1. ... 1. 1. 1.]\n",
      "r_shoulder [1. 1. 1. ... 1. 1. 1.]\n",
      "l_shoulder [1. 1. 1. ... 1. 1. 1.]\n",
      "r_elbow [1. 1. 1. ... 1. 1. 1.]\n",
      "l_elbow [1. 1. 1. ... 1. 1. 1.]\n",
      "r_upper_leg [1. 1. 1. ... 1. 1. 1.]\n",
      "l_upper_leg [1. 1. 1. ... 1. 1. 1.]\n",
      "r_upper_arm [1. 1. 1. ... 1. 1. 1.]\n",
      "l_upper_arm [1. 1. 1. ... 1. 1. 1.]\n"
     ]
    }
   ],
   "source": [
    "for key in total_result_dict.keys():\n",
    "    print(key, total_result_dict[key]['oc'])"
   ]
  },
  {
   "cell_type": "code",
   "execution_count": 15,
   "metadata": {},
   "outputs": [
    {
     "data": {
      "text/plain": [
       "(248376,)"
      ]
     },
     "execution_count": 15,
     "metadata": {},
     "output_type": "execute_result"
    }
   ],
   "source": [
    "actions = np.array(datareader.dt_dataset['test']['action'])\n",
    "actions.shape"
   ]
  },
  {
   "cell_type": "code",
   "execution_count": 16,
   "metadata": {},
   "outputs": [
    {
     "name": "stderr",
     "output_type": "stream",
     "text": [
      "100%|██████████| 233280/233280 [00:03<00:00, 75693.46it/s]\n"
     ]
    }
   ],
   "source": [
    "# Error per action\n",
    "for idx in tqdm(range(num_test_frames)):\n",
    "    for part in part_list:\n",
    "        if total_result_dict[part]['e1_all'][idx] > 0:\n",
    "            err1 = total_result_dict[part]['e1_all'][idx] / total_result_dict[part]['oc'][idx]\n",
    "            err2 = total_result_dict[part]['e2_all'][idx] / total_result_dict[part]['oc'][idx]\n",
    "            action = actions[idx]\n",
    "            total_result_dict[part]['results'][action].append(err1)\n",
    "            total_result_dict[part]['results_procrustes'][action].append(err2)"
   ]
  },
  {
   "cell_type": "code",
   "execution_count": 52,
   "metadata": {},
   "outputs": [
    {
     "name": "stdout",
     "output_type": "stream",
     "text": [
      "Directions 21592\n",
      "Directions 1 31264\n",
      "Discussion 1 68456\n",
      "Discussion 2 49420\n",
      "Eating 33740\n",
      "Eating 1 39504\n",
      "Greeting 26040\n",
      "Greeting 1 21688\n",
      "Greeting 2 10170\n",
      "Phoning 26552\n",
      "Phoning 1 30568\n",
      "Phoning 2 27936\n",
      "Phoning 3 27120\n",
      "Photo 34688\n",
      "Photo 1 23952\n",
      "Posing 19112\n",
      "Posing 1 27592\n",
      "Purchases 20552\n",
      "Purchases 1 18016\n",
      "Sitting 35204\n",
      "Sitting 1 39424\n",
      "SittingDown 38184\n",
      "SittingDown 1 25364\n",
      "Smoking 53952\n",
      "Smoking 1 35016\n",
      "Smoking 2 22136\n",
      "Waiting 40068\n",
      "Waiting 1 31136\n",
      "WalkDog 29376\n",
      "WalkDog 1 27232\n",
      "WalkTogether 24504\n",
      "WalkTogether 1 24238\n",
      "Walking 22640\n",
      "Walking 1 27772\n"
     ]
    }
   ],
   "source": [
    "for action in action_names:\n",
    "    print(action, len(total_result_dict[part]['results'][action]))"
   ]
  },
  {
   "cell_type": "code",
   "execution_count": 17,
   "metadata": {},
   "outputs": [
    {
     "name": "stdout",
     "output_type": "stream",
     "text": [
      "Part: whole\n",
      "+------------+-----------------------+------------------------+------------------------+------------------------+------------------------+------------------------+------------------------+-----------------------+-----------------------+------------------------+------------------------+-----------------------+------------------------+------------------------+------------------------+------------------------+------------------------+-----------------------+------------------------+------------------------+------------------------+------------------------+------------------------+-----------------------+------------------------+------------------------+------------------------+------------------------+-----------------------+------------------------+\n",
      "| test_name  |       Directions      |      Directions 1      |       Discussion       |      Discussion 1      |         Eating         |        Eating 2        |        Greeting        |       Greeting 1      |        Phoning        |       Phoning 1        |         Photo          |        Photo 1        |         Posing         |        Posing 1        |       Purchases        |      Purchases 1       |       Sitting 1        |       Sitting 2       |      SittingDown       |     SittingDown 2      |        Smoking         |       Smoking 1        |        Waiting         |       Waiting 1       |        WalkDog         |       WalkDog 1        |      WalkTogether      |     WalkTogether 1     |        Walking        |       Walking 1        |\n",
      "+------------+-----------------------+------------------------+------------------------+------------------------+------------------------+------------------------+------------------------+-----------------------+-----------------------+------------------------+------------------------+-----------------------+------------------------+------------------------+------------------------+------------------------+------------------------+-----------------------+------------------------+------------------------+------------------------+------------------------+------------------------+-----------------------+------------------------+------------------------+------------------------+------------------------+-----------------------+------------------------+\n",
      "| P1 (whole) |    916.920173661979   |   1176.9663832010087   |   1248.079095940476    |   990.5166317177743    |   1032.4946240786462   |   738.9146756307523    |   1047.530120648472    |   1187.5807719087413  |   1085.389693363304   |   1056.3747879340906   |   1119.1378863732327   |   690.1149114787689   |   1186.9379233746758   |   1298.4515509989492   |   897.4581495982326    |   1061.4408644258529   |   1267.0440420055215   |   972.0451198264295   |    1154.72187567505    |   912.4602563263419    |   1144.7452497741958   |   1203.2623462321337   |   1087.4385675303638   |   950.2543282350318   |   1278.7218076451547   |   1052.1906590301064   |   945.6067370843539    |   1082.6036384083711   |   1211.9843440097234  |   1383.4449105780382   |\n",
      "| P2 (whole) | 1.272722374349353e-05 | 1.4435480394104758e-05 | 1.5779873640382205e-05 | 1.3368550825191804e-05 | 1.3890773279249494e-05 | 1.1379757940170647e-05 | 1.3882921954123595e-05 | 1.492965047534458e-05 | 1.400412883432047e-05 | 1.4000867995028678e-05 | 1.4449321554599369e-05 | 1.065744119627855e-05 | 1.5221144516464058e-05 | 1.5945992065505606e-05 | 1.2539878236942154e-05 | 1.3716306803623734e-05 | 1.5852727882575926e-05 | 1.329626268324411e-05 | 1.4660401448850372e-05 | 1.2885417347295652e-05 | 1.4646830207348621e-05 | 1.5503476326255952e-05 | 1.4347031941242181e-05 | 1.303050482278757e-05 | 1.5291192149164177e-05 | 1.3377424513156946e-05 | 1.2686023373324213e-05 | 1.4347711130158378e-05 | 1.500422238681564e-05 | 1.6872979139602626e-05 |\n",
      "+------------+-----------------------+------------------------+------------------------+------------------------+------------------------+------------------------+------------------------+-----------------------+-----------------------+------------------------+------------------------+-----------------------+------------------------+------------------------+------------------------+------------------------+------------------------+-----------------------+------------------------+------------------------+------------------------+------------------------+------------------------+-----------------------+------------------------+------------------------+------------------------+------------------------+-----------------------+------------------------+\n",
      "Protocol #1 Error (MPJPE): 1079.361070889859 mm\n",
      "Protocol #2 Error (P-MPJPE): 1.4091050626888188e-05 mm\n",
      "----------------------------------------\n",
      "Part: r_hip\n",
      "+------------+------------------------+------------------------+------------------------+------------------------+------------------------+-----------------------+------------------------+------------------------+------------------------+------------------------+------------------------+-----------------------+-----------------------+------------------------+------------------------+------------------------+------------------------+------------------------+------------------------+------------------------+------------------------+------------------------+------------------------+------------------------+------------------------+------------------------+------------------------+------------------------+-----------------------+------------------------+\n",
      "| test_name  |       Directions       |      Directions 1      |       Discussion       |      Discussion 1      |         Eating         |        Eating 2       |        Greeting        |       Greeting 1       |        Phoning         |       Phoning 1        |         Photo          |        Photo 1        |         Posing        |        Posing 1        |       Purchases        |      Purchases 1       |       Sitting 1        |       Sitting 2        |      SittingDown       |     SittingDown 2      |        Smoking         |       Smoking 1        |        Waiting         |       Waiting 1        |        WalkDog         |       WalkDog 1        |      WalkTogether      |     WalkTogether 1     |        Walking        |       Walking 1        |\n",
      "+------------+------------------------+------------------------+------------------------+------------------------+------------------------+-----------------------+------------------------+------------------------+------------------------+------------------------+------------------------+-----------------------+-----------------------+------------------------+------------------------+------------------------+------------------------+------------------------+------------------------+------------------------+------------------------+------------------------+------------------------+------------------------+------------------------+------------------------+------------------------+------------------------+-----------------------+------------------------+\n",
      "| P1 (r_hip) |   1031.0676203980931   |   1275.140947939086    |   1400.082761427819    |   1112.9687965513372   |   1163.348856420212    |    843.46673829423    |   1249.5392345874454   |   1277.4742722643223   |   1224.3712463008546   |   1201.240226007557    |   1298.4417970576342   |   785.1429961824329   |   1229.772508890398   |   1552.7050851463964   |   1014.2701189373853   |   1202.880199905625    |   1436.0509851677366   |   1081.5432675786624   |   1310.1594519611695   |   1030.1504987850647   |   1250.7190711072994   |   1317.6833955756736   |   1165.8903168705958   |   1058.8876043213738   |    1330.31222154642    |   1188.3205396558117   |   1054.6279328003054   |   1248.523582905788    |   1399.1485727953832  |   1557.3533670434927   |\n",
      "| P2 (r_hip) | 1.2780061387789608e-05 | 1.4208259182441698e-05 | 1.6309207026769015e-05 | 1.3607182079110356e-05 | 1.4021342434537318e-05 | 1.175051875765673e-05 | 1.4551783450777142e-05 | 1.4820974488861164e-05 | 1.4093759069764735e-05 | 1.4488774069489158e-05 | 1.4602723319232248e-05 | 1.083594119042278e-05 | 1.487525673201758e-05 | 1.7532682296051042e-05 | 1.2351649009516601e-05 | 1.4200035953255546e-05 | 1.6451330837376783e-05 | 1.3139173871679797e-05 | 1.5167915132437594e-05 | 1.3083684936902454e-05 | 1.4743654876666127e-05 | 1.5893518902866976e-05 | 1.4081757545866428e-05 | 1.2956801404387067e-05 | 1.4740145325249133e-05 | 1.3662214623446764e-05 | 1.2736902725840522e-05 | 1.5286348138987723e-05 | 1.554650297026321e-05 | 1.8050140990623204e-05 |\n",
      "+------------+------------------------+------------------------+------------------------+------------------------+------------------------+-----------------------+------------------------+------------------------+------------------------+------------------------+------------------------+-----------------------+-----------------------+------------------------+------------------------+------------------------+------------------------+------------------------+------------------------+------------------------+------------------------+------------------------+------------------------+------------------------+------------------------+------------------------+------------------------+------------------------+-----------------------+------------------------+\n",
      "Protocol #1 Error (MPJPE): 1209.7094738141868 mm\n",
      "Protocol #2 Error (P-MPJPE): 1.4352341424342883e-05 mm\n",
      "----------------------------------------\n",
      "Part: l_hip\n",
      "+------------+------------------------+------------------------+------------------------+------------------------+------------------------+------------------------+------------------------+-----------------------+------------------------+------------------------+-----------------------+------------------------+------------------------+------------------------+------------------------+-----------------------+------------------------+------------------------+------------------------+------------------------+------------------------+----------------------+------------------------+------------------------+------------------------+------------------------+------------------------+------------------------+------------------------+-----------------------+\n",
      "| test_name  |       Directions       |      Directions 1      |       Discussion       |      Discussion 1      |         Eating         |        Eating 2        |        Greeting        |       Greeting 1      |        Phoning         |       Phoning 1        |         Photo         |        Photo 1         |         Posing         |        Posing 1        |       Purchases        |      Purchases 1      |       Sitting 1        |       Sitting 2        |      SittingDown       |     SittingDown 2      |        Smoking         |      Smoking 1       |        Waiting         |       Waiting 1        |        WalkDog         |       WalkDog 1        |      WalkTogether      |     WalkTogether 1     |        Walking         |       Walking 1       |\n",
      "+------------+------------------------+------------------------+------------------------+------------------------+------------------------+------------------------+------------------------+-----------------------+------------------------+------------------------+-----------------------+------------------------+------------------------+------------------------+------------------------+-----------------------+------------------------+------------------------+------------------------+------------------------+------------------------+----------------------+------------------------+------------------------+------------------------+------------------------+------------------------+------------------------+------------------------+-----------------------+\n",
      "| P1 (l_hip) |   1038.0619130761688   |   1344.6099359747243   |    1409.1788844884     |   1114.2445632373144   |   1185.2962656213886   |   794.2320043246626    |   1141.803730662816    |   1374.1505025810875  |   1261.2438697949617   |   1201.1814369323222   |   1279.4670719456028  |   754.3493915572069    |   1431.702820777893    |   1363.778579005852    |   1021.4241870886715   |   1212.007063263341   |   1404.0519766403456   |   1090.8632312178795   |   1271.3242362875908   |   1033.655479217472    |   1331.9441259551952   |  1370.3451829389428  |   1279.1005248065505   |   1078.8687834527757   |   1563.8112115468211   |   1209.1540306311651   |   1038.3444795631763   |   1134.6290681472478   |   1325.149655420694    |   1524.5716969644059  |\n",
      "| P2 (l_hip) | 1.2772924035917324e-05 | 1.5002867262301783e-05 | 1.6202196619609833e-05 | 1.3559684930173113e-05 | 1.4442676574849812e-05 | 1.1340363930310012e-05 | 1.4058192494432535e-05 | 1.561602917873596e-05 | 1.4643626979201491e-05 | 1.4562198846812602e-05 | 1.454181045505018e-05 | 1.0304094953555244e-05 | 1.6468730080070542e-05 | 1.5672520350939805e-05 | 1.2889148014599905e-05 | 1.430418421884618e-05 | 1.6398080189858715e-05 | 1.3357905962626893e-05 | 1.4878196786018066e-05 | 1.3037497294193759e-05 | 1.5257795328833575e-05 | 1.59936037934144e-05 | 1.5308383145499045e-05 | 1.3188418303005594e-05 | 1.6695182605037335e-05 | 1.3582827236565066e-05 | 1.2740294366280634e-05 | 1.4124569566177468e-05 | 1.5151747807390468e-05 | 1.743457403257429e-05 |\n",
      "+------------+------------------------+------------------------+------------------------+------------------------+------------------------+------------------------+------------------------+-----------------------+------------------------+------------------------+-----------------------+------------------------+------------------------+------------------------+------------------------+-----------------------+------------------------+------------------------+------------------------+------------------------+------------------------+----------------------+------------------------+------------------------+------------------------+------------------------+------------------------+------------------------+------------------------+-----------------------+\n",
      "Protocol #1 Error (MPJPE): 1219.418196770756 mm\n",
      "Protocol #2 Error (P-MPJPE): 1.4451010844762718e-05 mm\n",
      "----------------------------------------\n",
      "Part: r_knee\n",
      "+-------------+-----------------------+------------------------+------------------------+-----------------------+------------------------+------------------------+------------------------+------------------------+-----------------------+------------------------+------------------------+------------------------+------------------------+-----------------------+------------------------+------------------------+------------------------+------------------------+-----------------------+------------------------+------------------------+------------------------+------------------------+-----------------------+------------------------+------------------------+------------------------+------------------------+------------------------+------------------------+\n",
      "|  test_name  |       Directions      |      Directions 1      |       Discussion       |      Discussion 1     |         Eating         |        Eating 2        |        Greeting        |       Greeting 1       |        Phoning        |       Phoning 1        |         Photo          |        Photo 1         |         Posing         |        Posing 1       |       Purchases        |      Purchases 1       |       Sitting 1        |       Sitting 2        |      SittingDown      |     SittingDown 2      |        Smoking         |       Smoking 1        |        Waiting         |       Waiting 1       |        WalkDog         |       WalkDog 1        |      WalkTogether      |     WalkTogether 1     |        Walking         |       Walking 1        |\n",
      "+-------------+-----------------------+------------------------+------------------------+-----------------------+------------------------+------------------------+------------------------+------------------------+-----------------------+------------------------+------------------------+------------------------+------------------------+-----------------------+------------------------+------------------------+------------------------+------------------------+-----------------------+------------------------+------------------------+------------------------+------------------------+-----------------------+------------------------+------------------------+------------------------+------------------------+------------------------+------------------------+\n",
      "| P1 (r_knee) |   837.6825316013434   |   1049.3014717460626   |   1180.8153737574228   |   947.4011870757665   |   954.5306977521229    |   735.4435486813749    |   1026.8004712956104   |   1020.6757793019411   |   957.0004354495446   |   985.7021250804386    |   1022.0912199535885   |   640.6880014835124    |   1030.5452368105612   |   1364.1813776102858  |   835.6059637481478    |   957.1819813090159    |   1233.795247131052    |   896.3141277643294    |   1094.705938609128   |   858.0350291994233    |   1018.1585009477136   |   1124.2638568184193   |   951.1654138777938    |    857.262905922201   |   1058.776368861931    |   928.5622425423633    |   876.3561507751068    |   1133.2494101819805   |   1174.9803314956387   |   1366.848657614617    |\n",
      "| P2 (r_knee) | 1.306963427329725e-05 | 1.4165730137327205e-05 | 1.6373674421202753e-05 | 1.388358842686522e-05 | 1.4389114688685116e-05 | 1.2197759157145347e-05 | 1.4596022451892076e-05 | 1.4892869443507123e-05 | 1.413317128327517e-05 | 1.4590953306694714e-05 | 1.4641755389952356e-05 | 1.1412655999191456e-05 | 1.5112277742406057e-05 | 1.748503131013551e-05 | 1.2656237569977287e-05 | 1.3988530301272267e-05 | 1.6597578842927675e-05 | 1.3552768589257034e-05 | 1.521738835218818e-05 | 1.3362350094133737e-05 | 1.4858222291755023e-05 | 1.5963216999624578e-05 | 1.4248640912452513e-05 | 1.336021913446296e-05 | 1.4603979260247063e-05 | 1.3696046011467532e-05 | 1.2932087565283462e-05 | 1.5693821386125196e-05 | 1.5735042680594547e-05 | 1.8166859876105024e-05 |\n",
      "+-------------+-----------------------+------------------------+------------------------+-----------------------+------------------------+------------------------+------------------------+------------------------+-----------------------+------------------------+------------------------+------------------------+------------------------+-----------------------+------------------------+------------------------+------------------------+------------------------+-----------------------+------------------------+------------------------+------------------------+------------------------+-----------------------+------------------------+------------------------+------------------------+------------------------+------------------------+------------------------+\n",
      "Protocol #1 Error (MPJPE): 1003.9373861466145 mm\n",
      "Protocol #2 Error (P-MPJPE): 1.4519240929981712e-05 mm\n",
      "----------------------------------------\n",
      "Part: l_knee\n",
      "+-------------+------------------------+-----------------------+------------------------+------------------------+------------------------+------------------------+------------------------+-----------------------+------------------------+------------------------+------------------------+------------------------+------------------------+------------------------+------------------------+------------------------+------------------------+------------------------+------------------------+-----------------------+------------------------+------------------------+-----------------------+------------------------+------------------------+------------------------+------------------------+------------------------+------------------------+-----------------------+\n",
      "|  test_name  |       Directions       |      Directions 1     |       Discussion       |      Discussion 1      |         Eating         |        Eating 2        |        Greeting        |       Greeting 1      |        Phoning         |       Phoning 1        |         Photo          |        Photo 1         |         Posing         |        Posing 1        |       Purchases        |      Purchases 1       |       Sitting 1        |       Sitting 2        |      SittingDown       |     SittingDown 2     |        Smoking         |       Smoking 1        |        Waiting        |       Waiting 1        |        WalkDog         |       WalkDog 1        |      WalkTogether      |     WalkTogether 1     |        Walking         |       Walking 1       |\n",
      "+-------------+------------------------+-----------------------+------------------------+------------------------+------------------------+------------------------+------------------------+-----------------------+------------------------+------------------------+------------------------+------------------------+------------------------+------------------------+------------------------+------------------------+------------------------+------------------------+------------------------+-----------------------+------------------------+------------------------+-----------------------+------------------------+------------------------+------------------------+------------------------+------------------------+------------------------+-----------------------+\n",
      "| P1 (l_knee) |   824.7532371003535    |   1104.9339200137292  |   1188.7425561451344   |   939.5830044468818    |    981.949336826166    |   676.6920837063277    |   932.6163170783803    |   1159.2136081439232  |    988.678347509305    |   987.6957573811093    |   1011.787835548283    |   598.0351012840839    |   1244.9854067602466   |   1138.7002261569587   |   840.7747839726314    |   966.0799802192172    |   1195.114295639657    |   898.1963747894965    |   1070.1268946580171   |   851.3117320314896   |   1113.418247887836    |   1171.1492599975281   |   1108.4432240894862  |   858.4846474468708    |   1324.833988067335    |   954.4209238412722    |   883.7495229040869    |    975.377979329427    |   1087.8847037768808   |   1320.6096568632547  |\n",
      "| P2 (l_knee) | 1.3095140689426156e-05 | 1.506476332316241e-05 | 1.6377562498066798e-05 | 1.3839577611191815e-05 | 1.4733612885423188e-05 | 1.1701420675165362e-05 | 1.4559933191573872e-05 | 1.579996614070113e-05 | 1.4545289095937211e-05 | 1.4638570696535686e-05 | 1.4745580589626403e-05 | 1.0836571413672326e-05 | 1.6482828757794032e-05 | 1.5916905033356832e-05 | 1.3071245948473141e-05 | 1.4230605542127506e-05 | 1.6618603310165605e-05 | 1.3600187740102212e-05 | 1.5146722510361695e-05 | 1.331485760427037e-05 | 1.5303146494243655e-05 | 1.6253356424753696e-05 | 1.557572998689416e-05 | 1.3312357719128284e-05 | 1.6596783606682073e-05 | 1.3777307148161313e-05 | 1.2705835583033293e-05 | 1.4280943613473438e-05 | 1.5184024407857599e-05 | 1.756777974905179e-05 |\n",
      "+-------------+------------------------+-----------------------+------------------------+------------------------+------------------------+------------------------+------------------------+-----------------------+------------------------+------------------------+------------------------+------------------------+------------------------+------------------------+------------------------+------------------------+------------------------+------------------------+------------------------+-----------------------+------------------------+------------------------+-----------------------+------------------------+------------------------+------------------------+------------------------+------------------------+------------------------+-----------------------+\n",
      "Protocol #1 Error (MPJPE): 1013.2780984538457 mm\n",
      "Protocol #2 Error (P-MPJPE): 1.4629240333013766e-05 mm\n",
      "----------------------------------------\n",
      "Part: r_shoulder\n",
      "+-----------------+------------------------+------------------------+------------------------+------------------------+------------------------+------------------------+------------------------+------------------------+------------------------+------------------------+------------------------+------------------------+-----------------------+-----------------------+------------------------+------------------------+------------------------+------------------------+------------------------+------------------------+------------------------+-----------------------+------------------------+------------------------+------------------------+------------------------+------------------------+-----------------------+------------------------+----------------------+\n",
      "|    test_name    |       Directions       |      Directions 1      |       Discussion       |      Discussion 1      |         Eating         |        Eating 2        |        Greeting        |       Greeting 1       |        Phoning         |       Phoning 1        |         Photo          |        Photo 1         |         Posing        |        Posing 1       |       Purchases        |      Purchases 1       |       Sitting 1        |       Sitting 2        |      SittingDown       |     SittingDown 2      |        Smoking         |       Smoking 1       |        Waiting         |       Waiting 1        |        WalkDog         |       WalkDog 1        |      WalkTogether      |     WalkTogether 1    |        Walking         |      Walking 1       |\n",
      "+-----------------+------------------------+------------------------+------------------------+------------------------+------------------------+------------------------+------------------------+------------------------+------------------------+------------------------+------------------------+------------------------+-----------------------+-----------------------+------------------------+------------------------+------------------------+------------------------+------------------------+------------------------+------------------------+-----------------------+------------------------+------------------------+------------------------+------------------------+------------------------+-----------------------+------------------------+----------------------+\n",
      "| P1 (r_shoulder) |   989.1759445610078    |   1236.1875652645144   |   1316.9796663226864   |   1038.3503296369636   |   1103.1789321254519   |   780.1425858274273    |   1177.3634940585366   |   1242.4658269226315   |   1178.3734948140589   |   1139.0363092784273   |   1230.186794310463    |   758.3394418570805    |   1138.7338942789263  |   1452.4818926029157  |    936.299232278669    |   1147.9680354397997   |   1342.555567907652    |   1044.663627534329    |   1249.368688974304    |   966.8123325630144    |   1187.1928411272863   |   1235.2725132084222  |   1091.2075738693986   |   1047.4362379259533   |   1247.767330790076    |   1152.3693293813621   |   1025.8625206587085   |   1175.0371008790707  |   1323.213464904612    |  1453.7282581921963  |\n",
      "| P2 (r_shoulder) | 1.2487236535378135e-05 | 1.3599409111432897e-05 | 1.5109100868920459e-05 | 1.2771815376682836e-05 | 1.3003208306702544e-05 | 1.1007868049612313e-05 | 1.3570218328686428e-05 | 1.4052085006811618e-05 | 1.3578443920543228e-05 | 1.3476103532013808e-05 | 1.4377359139960365e-05 | 1.0605140092293724e-05 | 1.391679579719787e-05 | 1.608346257314638e-05 | 1.1953351839063517e-05 | 1.3073381249087892e-05 | 1.5097923307080341e-05 | 1.3057678583334666e-05 | 1.4176670570968347e-05 | 1.2565332348342537e-05 | 1.3927692384989653e-05 | 1.468719993099526e-05 | 1.3234596352844946e-05 | 1.2783996774206546e-05 | 1.4012698498898283e-05 | 1.2979166783675726e-05 | 1.2612940074393935e-05 | 1.423359455706233e-05 | 1.4811708234580096e-05 | 1.60859361179135e-05 |\n",
      "+-----------------+------------------------+------------------------+------------------------+------------------------+------------------------+------------------------+------------------------+------------------------+------------------------+------------------------+------------------------+------------------------+-----------------------+-----------------------+------------------------+------------------------+------------------------+------------------------+------------------------+------------------------+------------------------+-----------------------+------------------------+------------------------+------------------------+------------------------+------------------------+-----------------------+------------------------+----------------------+\n",
      "Protocol #1 Error (MPJPE): 1146.9250275831982 mm\n",
      "Protocol #2 Error (P-MPJPE): 1.3564403808227337e-05 mm\n",
      "----------------------------------------\n",
      "Part: l_shoulder\n",
      "+-----------------+------------------------+------------------------+------------------------+------------------------+------------------------+------------------------+-----------------------+------------------------+------------------------+------------------------+------------------------+------------------------+------------------------+------------------------+------------------------+------------------------+------------------------+------------------------+------------------------+------------------------+------------------------+------------------------+------------------------+-----------------------+------------------------+------------------------+------------------------+------------------------+------------------------+-----------------------+\n",
      "|    test_name    |       Directions       |      Directions 1      |       Discussion       |      Discussion 1      |         Eating         |        Eating 2        |        Greeting       |       Greeting 1       |        Phoning         |       Phoning 1        |         Photo          |        Photo 1         |         Posing         |        Posing 1        |       Purchases        |      Purchases 1       |       Sitting 1        |       Sitting 2        |      SittingDown       |     SittingDown 2      |        Smoking         |       Smoking 1        |        Waiting         |       Waiting 1       |        WalkDog         |       WalkDog 1        |      WalkTogether      |     WalkTogether 1     |        Walking         |       Walking 1       |\n",
      "+-----------------+------------------------+------------------------+------------------------+------------------------+------------------------+------------------------+-----------------------+------------------------+------------------------+------------------------+------------------------+------------------------+------------------------+------------------------+------------------------+------------------------+------------------------+------------------------+------------------------+------------------------+------------------------+------------------------+------------------------+-----------------------+------------------------+------------------------+------------------------+------------------------+------------------------+-----------------------+\n",
      "| P1 (l_shoulder) |   1006.7218912564791   |   1308.1517237260791   |   1321.1030687231141   |   1039.7019532262575   |   1123.4054162061552   |   735.9620027424776    |   1064.1875451212175  |   1326.3019251163769   |   1206.8376671672393   |   1135.739201607943    |    1203.38267894141    |   731.4575874374788    |   1335.4367900663806   |   1276.4225689807097   |   943.7034274778218    |   1158.0528045310114   |   1317.2269475973835   |    1047.61169360699    |   1216.096332040866    |   964.4976824834994    |   1258.2314088404228   |   1288.8229572284454   |   1190.2082042938896   |   1038.563155081537   |   1470.5503877157835   |   1168.128599173756    |    988.223582839501    |   1065.9659243737015   |   1262.559034008745    |   1421.8581067382672  |\n",
      "| P2 (l_shoulder) | 1.2466911431247737e-05 | 1.4837902869041505e-05 | 1.5190807831803345e-05 | 1.2950403005115898e-05 | 1.3446134045632934e-05 | 1.0670523407306672e-05 | 1.311076414192761e-05 | 1.4961096156314208e-05 | 1.3643069781262193e-05 | 1.3252817945655498e-05 | 1.4116821830721762e-05 | 1.0019698754530081e-05 | 1.5205801172524594e-05 | 1.4377537092004412e-05 | 1.2418823152941062e-05 | 1.3446093903558362e-05 | 1.5266301659937873e-05 | 1.2999189317066544e-05 | 1.4102379849477742e-05 | 1.2348544226776455e-05 | 1.4443405402815817e-05 | 1.5068257827022946e-05 | 1.4400337686483664e-05 | 1.272262352192873e-05 | 1.5839033426678528e-05 | 1.3071671733515194e-05 | 1.2345526480432482e-05 | 1.3243365051783829e-05 | 1.4330524218372378e-05 | 1.574174198054627e-05 |\n",
      "+-----------------+------------------------+------------------------+------------------------+------------------------+------------------------+------------------------+-----------------------+------------------------+------------------------+------------------------+------------------------+------------------------+------------------------+------------------------+------------------------+------------------------+------------------------+------------------------+------------------------+------------------------+------------------------+------------------------+------------------------+-----------------------+------------------------+------------------------+------------------------+------------------------+------------------------+-----------------------+\n",
      "Protocol #1 Error (MPJPE): 1153.837075611698 mm\n",
      "Protocol #2 Error (P-MPJPE): 1.3667936963480879e-05 mm\n",
      "----------------------------------------\n",
      "Part: r_elbow\n",
      "+--------------+------------------------+------------------------+------------------------+------------------------+-----------------------+------------------------+-----------------------+------------------------+------------------------+------------------------+------------------------+-----------------------+-----------------------+-----------------------+------------------------+------------------------+------------------------+------------------------+------------------------+------------------------+------------------------+------------------------+------------------------+-----------------------+------------------------+------------------------+-----------------------+------------------------+------------------------+-----------------------+\n",
      "|  test_name   |       Directions       |      Directions 1      |       Discussion       |      Discussion 1      |         Eating        |        Eating 2        |        Greeting       |       Greeting 1       |        Phoning         |       Phoning 1        |         Photo          |        Photo 1        |         Posing        |        Posing 1       |       Purchases        |      Purchases 1       |       Sitting 1        |       Sitting 2        |      SittingDown       |     SittingDown 2      |        Smoking         |       Smoking 1        |        Waiting         |       Waiting 1       |        WalkDog         |       WalkDog 1        |      WalkTogether     |     WalkTogether 1     |        Walking         |       Walking 1       |\n",
      "+--------------+------------------------+------------------------+------------------------+------------------------+-----------------------+------------------------+-----------------------+------------------------+------------------------+------------------------+------------------------+-----------------------+-----------------------+-----------------------+------------------------+------------------------+------------------------+------------------------+------------------------+------------------------+------------------------+------------------------+------------------------+-----------------------+------------------------+------------------------+-----------------------+------------------------+------------------------+-----------------------+\n",
      "| P1 (r_elbow) |   796.3358950398006    |   1012.2576669254887   |   1076.160936061467    |    866.84238331014     |   860.8840821619115   |   688.1521389936561    |   958.8525017233977   |   998.1081266229803    |   915.6548700896598    |   909.0686782119126    |   965.5560759577512    |   639.9306292622671   |   939.3523799488621   |   1230.9927122120991  |   776.2445132860042    |   907.4060638972691    |   1122.1804589197652   |   858.2042799967171    |   1028.7315535291452   |   805.3002808184198    |   956.7726023299161    |   1032.8635549629296   |   886.8227045578616    |   850.8588046719631   |   987.7895263517312    |   913.8941772061565    |   858.2756671254757   |   1041.9099587399353   |   1100.163227508432    |   1232.7851075924902  |\n",
      "| P2 (r_elbow) | 1.2533053987537753e-05 | 1.3731621828540758e-05 | 1.5318420018805707e-05 | 1.3116441202455714e-05 | 1.326679542563915e-05 | 1.1318089680038688e-05 | 1.367900103479594e-05 | 1.4080897121695793e-05 | 1.3599762549840337e-05 | 1.3634501966690707e-05 | 1.4311911722460304e-05 | 1.093178185356035e-05 | 1.412534264500301e-05 | 1.593940816388215e-05 | 1.2098025803757341e-05 | 1.2957696680984154e-05 | 1.5170697541830643e-05 | 1.3312765367093134e-05 | 1.4332076707986784e-05 | 1.2745461482508607e-05 | 1.4064779304966251e-05 | 1.4872563093606362e-05 | 1.3463018738050067e-05 | 1.290973862795555e-05 | 1.3912791837842278e-05 | 1.3147371429711386e-05 | 1.293510651037016e-05 | 1.4599404603448456e-05 | 1.4877465777484038e-05 | 1.623672719177676e-05 |\n",
      "+--------------+------------------------+------------------------+------------------------+------------------------+-----------------------+------------------------+-----------------------+------------------------+------------------------+------------------------+------------------------+-----------------------+-----------------------+-----------------------+------------------------+------------------------+------------------------+------------------------+------------------------+------------------------+------------------------+------------------------+------------------------+-----------------------+------------------------+------------------------+-----------------------+------------------------+------------------------+-----------------------+\n",
      "Protocol #1 Error (MPJPE): 940.6117186005202 mm\n",
      "Protocol #2 Error (P-MPJPE): 1.3707423996677279e-05 mm\n",
      "----------------------------------------\n",
      "Part: l_elbow\n",
      "+--------------+------------------------+-----------------------+-----------------------+------------------------+------------------------+------------------------+------------------------+------------------------+------------------------+-----------------------+------------------------+------------------------+-----------------------+----------------------+------------------------+------------------------+------------------------+------------------------+------------------------+------------------------+------------------------+----------------------+------------------------+------------------------+------------------------+------------------------+------------------------+-----------------------+------------------------+------------------------+\n",
      "|  test_name   |       Directions       |      Directions 1     |       Discussion      |      Discussion 1      |         Eating         |        Eating 2        |        Greeting        |       Greeting 1       |        Phoning         |       Phoning 1       |         Photo          |        Photo 1         |         Posing        |       Posing 1       |       Purchases        |      Purchases 1       |       Sitting 1        |       Sitting 2        |      SittingDown       |     SittingDown 2      |        Smoking         |      Smoking 1       |        Waiting         |       Waiting 1        |        WalkDog         |       WalkDog 1        |      WalkTogether      |     WalkTogether 1    |        Walking         |       Walking 1        |\n",
      "+--------------+------------------------+-----------------------+-----------------------+------------------------+------------------------+------------------------+------------------------+------------------------+------------------------+-----------------------+------------------------+------------------------+-----------------------+----------------------+------------------------+------------------------+------------------------+------------------------+------------------------+------------------------+------------------------+----------------------+------------------------+------------------------+------------------------+------------------------+------------------------+-----------------------+------------------------+------------------------+\n",
      "| P1 (l_elbow) |   811.5623562625857    |   1085.1478340183864  |   1091.569520597765   |   865.0408362575336    |   887.3634055157612    |   657.2263024758626    |   829.0776706603702    |   1102.2561343166667   |   950.9576157808093    |   891.3345689730145   |   942.1896172711288    |   612.9761427660894    |   1144.9743494641396  |  1008.3499662763764  |   811.3429699965297    |    939.950786841543    |   1085.3768570405807   |    858.964356123032    |   997.2619093401775    |   789.9190155123518    |   1041.5251999978966   |  1085.6980491267086  |   1026.6705778773342   |   811.6724870575799    |   1245.9334262811406   |   902.6754298089644    |   839.4140400084706    |   886.1360827098173   |   1022.7757621674007   |   1189.8044336155817   |\n",
      "| P2 (l_elbow) | 1.2612827607354286e-05 | 1.487328943858981e-05 | 1.535801983787974e-05 | 1.3219713969939483e-05 | 1.3823301872525884e-05 | 1.1051519864130042e-05 | 1.2937460538903156e-05 | 1.5213286266129641e-05 | 1.3795907994739395e-05 | 1.336302359633725e-05 | 1.4256609989791333e-05 | 1.0313645313002446e-05 | 1.558212320469878e-05 | 1.45603897045287e-05 | 1.2880544557208376e-05 | 1.3529926579857965e-05 | 1.5221307371429784e-05 | 1.3350432034792604e-05 | 1.4261861681364577e-05 | 1.2625610791237297e-05 | 1.4575945574518864e-05 | 1.52960936377634e-05 | 1.4463791161846626e-05 | 1.3009883097225839e-05 | 1.5928922632678737e-05 | 1.3102791138712599e-05 | 1.2479493680959213e-05 | 1.331964212420858e-05 | 1.4396762997982789e-05 | 1.5700073178230157e-05 |\n",
      "+--------------+------------------------+-----------------------+-----------------------+------------------------+------------------------+------------------------+------------------------+------------------------+------------------------+-----------------------+------------------------+------------------------+-----------------------+----------------------+------------------------+------------------------+------------------------+------------------------+------------------------+------------------------+------------------------+----------------------+------------------------+------------------------+------------------------+------------------------+------------------------+-----------------------+------------------------+------------------------+\n",
      "Protocol #1 Error (MPJPE): 947.1715901380531 mm\n",
      "Protocol #2 Error (P-MPJPE): 1.383680671461891e-05 mm\n",
      "----------------------------------------\n",
      "Part: r_upper_leg\n",
      "+------------------+------------------------+------------------------+------------------------+------------------------+-----------------------+------------------------+------------------------+------------------------+------------------------+------------------------+------------------------+------------------------+------------------------+------------------------+-----------------------+------------------------+------------------------+-----------------------+------------------------+------------------------+------------------------+------------------------+------------------------+------------------------+------------------------+-----------------------+------------------------+------------------------+------------------------+------------------------+\n",
      "|    test_name     |       Directions       |      Directions 1      |       Discussion       |      Discussion 1      |         Eating        |        Eating 2        |        Greeting        |       Greeting 1       |        Phoning         |       Phoning 1        |         Photo          |        Photo 1         |         Posing         |        Posing 1        |       Purchases       |      Purchases 1       |       Sitting 1        |       Sitting 2       |      SittingDown       |     SittingDown 2      |        Smoking         |       Smoking 1        |        Waiting         |       Waiting 1        |        WalkDog         |       WalkDog 1       |      WalkTogether      |     WalkTogether 1     |        Walking         |       Walking 1        |\n",
      "+------------------+------------------------+------------------------+------------------------+------------------------+-----------------------+------------------------+------------------------+------------------------+------------------------+------------------------+------------------------+------------------------+------------------------+------------------------+-----------------------+------------------------+------------------------+-----------------------+------------------------+------------------------+------------------------+------------------------+------------------------+------------------------+------------------------+-----------------------+------------------------+------------------------+------------------------+------------------------+\n",
      "| P1 (r_upper_leg) |   934.3750760320596    |   1162.2212098977398   |   1290.449067978349    |   1030.1849916676185   |   1058.939777182201   |   789.4551436999211    |   1138.169853318903    |   1149.075025204142    |   1090.6858408154371   |   1093.4711755136077   |   1160.2665092659734   |   712.9154987015538    |   1130.1588729504615   |   1458.4432314731366   |   924.9380409820504   |   1080.0310904854223   |   1334.9231159819817   |   988.9286973699128   |   1202.4326957713765   |   944.0927639699505    |   1134.4387863888867   |   1220.9736260421794   |   1058.5278654460396   |    958.075254562166    |   1194.5442952170556   |   1058.4413912390974  |   965.4920425322073    |    1190.88649633071    |   1287.0644520340563   |   1462.1010119398297   |\n",
      "| P2 (r_upper_leg) | 1.2924847837078776e-05 | 1.4186994679859796e-05 | 1.6341440738499253e-05 | 1.3745385274720498e-05 | 1.420522858326436e-05 | 1.1974138977695369e-05 | 1.4573902981248726e-05 | 1.4856921986596099e-05 | 1.4113465187921248e-05 | 1.4539863705187012e-05 | 1.4622239373110307e-05 | 1.1124298613146267e-05 | 1.4993767261794304e-05 | 1.7508856801144918e-05 | 1.250394330351601e-05 | 1.4094283140192579e-05 | 1.6524454862870673e-05 | 1.334597126182805e-05 | 1.5192651762017362e-05 | 1.3223017535932586e-05 | 1.4800938598455838e-05 | 1.5928367975868493e-05 | 1.4165199236915171e-05 | 1.3158510280675274e-05 | 1.4672062308038562e-05 | 1.367913032802551e-05 | 1.2834495162797415e-05 | 1.5490084790799835e-05 | 1.5640772843199467e-05 | 1.8108500452137488e-05 |\n",
      "+------------------+------------------------+------------------------+------------------------+------------------------+-----------------------+------------------------+------------------------+------------------------+------------------------+------------------------+------------------------+------------------------+------------------------+------------------------+-----------------------+------------------------+------------------------+-----------------------+------------------------+------------------------+------------------------+------------------------+------------------------+------------------------+------------------------+-----------------------+------------------------+------------------------+------------------------+------------------------+\n",
      "Protocol #1 Error (MPJPE): 1106.8234299998007 mm\n",
      "Protocol #2 Error (P-MPJPE): 1.4435791194817909e-05 mm\n",
      "----------------------------------------\n",
      "Part: l_upper_leg\n",
      "+------------------+------------------------+------------------------+-----------------------+-----------------------+------------------------+------------------------+-----------------------+------------------------+------------------------+-----------------------+------------------------+------------------------+------------------------+------------------------+------------------------+------------------------+-----------------------+-----------------------+------------------------+------------------------+------------------------+------------------------+------------------------+------------------------+------------------------+------------------------+------------------------+------------------------+------------------------+------------------------+\n",
      "|    test_name     |       Directions       |      Directions 1      |       Discussion      |      Discussion 1     |         Eating         |        Eating 2        |        Greeting       |       Greeting 1       |        Phoning         |       Phoning 1       |         Photo          |        Photo 1         |         Posing         |        Posing 1        |       Purchases        |      Purchases 1       |       Sitting 1       |       Sitting 2       |      SittingDown       |     SittingDown 2      |        Smoking         |       Smoking 1        |        Waiting         |       Waiting 1        |        WalkDog         |       WalkDog 1        |      WalkTogether      |     WalkTogether 1     |        Walking         |       Walking 1        |\n",
      "+------------------+------------------------+------------------------+-----------------------+-----------------------+------------------------+------------------------+-----------------------+------------------------+------------------------+-----------------------+------------------------+------------------------+------------------------+------------------------+------------------------+------------------------+-----------------------+-----------------------+------------------------+------------------------+------------------------+------------------------+------------------------+------------------------+------------------------+------------------------+------------------------+------------------------+------------------------+------------------------+\n",
      "| P1 (l_upper_leg) |   931.4075755678592    |   1224.771928361997    |   1298.9607196483037  |   1026.913783470685   |   1083.6228012118609   |   735.4620437654439    |   1037.2100246950686  |   1266.6820558570591   |   1124.9611086866441   |   1094.438596302895   |   1145.6274534173913   |   676.1922462577038    |   1338.3441124808403   |   1251.239402162998    |   931.0994857893501    |   1089.043522096218    |   1299.583135916592   |   994.5298032220253   |   1170.725565592448    |   942.4836055592831    |   1222.6811874472778   |   1270.7472218674566   |   1193.7718746513128   |   968.6767150746451    |   1444.3225993262158   |   1081.7874781887454   |   961.0470010182607    |   1055.0035232514026   |   1206.5171796735276   |   1422.5906770952736   |\n",
      "| P2 (l_upper_leg) | 1.2934032386274218e-05 | 1.5033815316776493e-05 | 1.628987956995023e-05 | 1.369963129293431e-05 | 1.4588144748687384e-05 | 1.1520892317340441e-05 | 1.430906286074719e-05 | 1.5707997675243764e-05 | 1.4594458054639936e-05 | 1.460038479290417e-05 | 1.4643695540252747e-05 | 1.0570333216507811e-05 | 1.6475779422570953e-05 | 1.5794712709366955e-05 | 1.2980196997526803e-05 | 1.4267394897155214e-05 | 1.650834175541005e-05 | 1.347904686867655e-05 | 1.5012459666121885e-05 | 1.3176177465290376e-05 | 1.5280470918317158e-05 | 1.6123480126244837e-05 | 1.5442056579860276e-05 | 1.3250388031495043e-05 | 1.6645983130746694e-05 | 1.3680067216501121e-05 | 1.2723064990079954e-05 | 1.4202756605853067e-05 | 1.5167886127636707e-05 | 1.7501176901431662e-05 |\n",
      "+------------------+------------------------+------------------------+-----------------------+-----------------------+------------------------+------------------------+-----------------------+------------------------+------------------------+-----------------------+------------------------+------------------------+------------------------+------------------------+------------------------+------------------------+-----------------------+-----------------------+------------------------+------------------------+------------------------+------------------------+------------------------+------------------------+------------------------+------------------------+------------------------+------------------------+------------------------+------------------------+\n",
      "Protocol #1 Error (MPJPE): 1116.3481475885594 mm\n",
      "Protocol #2 Error (P-MPJPE): 1.45401256060848e-05 mm\n",
      "----------------------------------------\n",
      "Part: r_upper_arm\n",
      "+------------------+------------------------+------------------------+------------------------+------------------------+-----------------------+-----------------------+------------------------+------------------------+------------------------+------------------------+------------------------+-----------------------+------------------------+------------------------+------------------------+------------------------+------------------------+------------------------+------------------------+------------------------+------------------------+------------------------+------------------------+------------------------+------------------------+------------------------+------------------------+------------------------+------------------------+------------------------+\n",
      "|    test_name     |       Directions       |      Directions 1      |       Discussion       |      Discussion 1      |         Eating        |        Eating 2       |        Greeting        |       Greeting 1       |        Phoning         |       Phoning 1        |         Photo          |        Photo 1        |         Posing         |        Posing 1        |       Purchases        |      Purchases 1       |       Sitting 1        |       Sitting 2        |      SittingDown       |     SittingDown 2      |        Smoking         |       Smoking 1        |        Waiting         |       Waiting 1        |        WalkDog         |       WalkDog 1        |      WalkTogether      |     WalkTogether 1     |        Walking         |       Walking 1        |\n",
      "+------------------+------------------------+------------------------+------------------------+------------------------+-----------------------+-----------------------+------------------------+------------------------+------------------------+------------------------+------------------------+-----------------------+------------------------+------------------------+------------------------+------------------------+------------------------+------------------------+------------------------+------------------------+------------------------+------------------------+------------------------+------------------------+------------------------+------------------------+------------------------+------------------------+------------------------+------------------------+\n",
      "| P1 (r_upper_arm) |   892.7559201829782    |   1124.2226156040283   |   1196.5703005488665   |   952.5963562893961    |   982.0315072544355   |   734.1473621907354   |   1068.1079986634238   |   1120.2869773171165   |   1047.0141825326648   |   1024.052493632292    |   1097.8714351727695   |   699.1350358788972   |   1039.043136965844    |   1341.737302830818    |   856.2718733225873    |   1027.6870493279364   |   1232.3680137375654   |   951.4339536401068    |   1139.0501211543399   |   886.0563065939721    |   1071.9827222831793   |   1134.068034325099    |   989.0151388347149    |   949.1475206375122    |   1117.7784289959513   |   1033.1317536759175   |   942.0690931975599    |   1108.473529444676    |   1211.688346019016    |   1343.2566828462507   |\n",
      "| P2 (r_upper_arm) | 1.2510145283550004e-05 | 1.3665515495086163e-05 | 1.5213760463050688e-05 | 1.2944128308067662e-05 | 1.313500188810079e-05 | 1.116297889049186e-05 | 1.3624609685880348e-05 | 1.4066491074768615e-05 | 1.3589103255416853e-05 | 1.3555302760517159e-05 | 1.4344635455626668e-05 | 1.076846098967838e-05 | 1.4021069246084039e-05 | 1.6011435375552718e-05 | 1.2025688842923062e-05 | 1.3015538983814653e-05 | 1.5134310439517965e-05 | 1.3185221998798915e-05 | 1.4254373662555952e-05 | 1.2655396932561962e-05 | 1.3996235859750817e-05 | 1.4779881533864736e-05 | 1.3348807561874843e-05 | 1.2846867729917241e-05 | 1.3962745174671998e-05 | 1.3063269120459787e-05 | 1.2774023321427141e-05 | 1.4416499607138985e-05 | 1.4844587015830803e-05 | 1.6161331664090092e-05 |\n",
      "+------------------+------------------------+------------------------+------------------------+------------------------+-----------------------+-----------------------+------------------------+------------------------+------------------------+------------------------+------------------------+-----------------------+------------------------+------------------------+------------------------+------------------------+------------------------+------------------------+------------------------+------------------------+------------------------+------------------------+------------------------+------------------------+------------------------+------------------------+------------------------+------------------------+------------------------+------------------------+\n",
      "Protocol #1 Error (MPJPE): 1043.7683731033549 mm\n",
      "Protocol #2 Error (P-MPJPE): 1.3635913920702365e-05 mm\n",
      "----------------------------------------\n",
      "Part: l_upper_arm\n",
      "+------------------+------------------------+------------------------+------------------------+------------------------+------------------------+-----------------------+------------------------+------------------------+------------------------+------------------------+------------------------+------------------------+------------------------+------------------------+------------------------+------------------------+------------------------+------------------------+------------------------+------------------------+------------------------+------------------------+------------------------+----------------------+-----------------------+------------------------+------------------------+------------------------+------------------------+-----------------------+\n",
      "|    test_name     |       Directions       |      Directions 1      |       Discussion       |      Discussion 1      |         Eating         |        Eating 2       |        Greeting        |       Greeting 1       |        Phoning         |       Phoning 1        |         Photo          |        Photo 1         |         Posing         |        Posing 1        |       Purchases        |      Purchases 1       |       Sitting 1        |       Sitting 2        |      SittingDown       |     SittingDown 2      |        Smoking         |       Smoking 1        |        Waiting         |      Waiting 1       |        WalkDog        |       WalkDog 1        |      WalkTogether      |     WalkTogether 1     |        Walking         |       Walking 1       |\n",
      "+------------------+------------------------+------------------------+------------------------+------------------------+------------------------+-----------------------+------------------------+------------------------+------------------------+------------------------+------------------------+------------------------+------------------------+------------------------+------------------------+------------------------+------------------------+------------------------+------------------------+------------------------+------------------------+------------------------+------------------------+----------------------+-----------------------+------------------------+------------------------+------------------------+------------------------+-----------------------+\n",
      "| P1 (l_upper_arm) |   909.1421242801487    |   1196.6497789347536   |   1206.3362949228733   |   952.3713947351283    |   1005.3844110277898   |   696.5941528948273   |   946.6326081021682    |   1214.2790290983298   |   1078.8976411710034   |   1013.5368852745601   |   1072.7861491096526   |   672.2168648682493    |   1240.2055714514947   |   1142.3862684130565   |   877.5231984884628    |   1049.0017952739745   |   1201.3019026116656   |   953.2880250629934    |   1106.6791203260248   |   877.2083492870039    |   1149.8783049687347   |   1187.260502678277    |   1108.4393901888814   |  925.1178213040034   |   1358.2419069083005  |   1035.4020141436306   |   913.8188114584606    |   976.0510034119849    |   1142.6673985588045   |   1305.831270543469   |\n",
      "| P2 (l_upper_arm) | 1.2539869543538218e-05 | 1.4855596173818402e-05 | 1.5274413853483143e-05 | 1.3085058504875765e-05 | 1.3634717979792473e-05 | 1.086102166274129e-05 | 1.3024112351958868e-05 | 1.5087191224095948e-05 | 1.3719488904212205e-05 | 1.3307920787007845e-05 | 1.4186715933959594e-05 | 1.0166672063352363e-05 | 1.5393962207034227e-05 | 1.4468963417725808e-05 | 1.2649683878931283e-05 | 1.3488010263999437e-05 | 1.5243804528776395e-05 | 1.3174810695972755e-05 | 1.4182120777973562e-05 | 1.2487077523504486e-05 | 1.4509675508492573e-05 | 1.5182175743300317e-05 | 1.4432064442896195e-05 | 1.28662533398543e-05 | 1.588397804976736e-05 | 1.3087231457763646e-05 | 1.2412510106277696e-05 | 1.3281503604926626e-05 | 1.4363643628546841e-05 | 1.572090759291769e-05 |\n",
      "+------------------+------------------------+------------------------+------------------------+------------------------+------------------------+-----------------------+------------------------+------------------------+------------------------+------------------------+------------------------+------------------------+------------------------+------------------------+------------------------+------------------------+------------------------+------------------------+------------------------+------------------------+------------------------+------------------------+------------------------+----------------------+-----------------------+------------------------+------------------------+------------------------+------------------------+-----------------------+\n",
      "Protocol #1 Error (MPJPE): 1050.5043329832902 mm\n",
      "Protocol #2 Error (P-MPJPE): 1.3752371858383243e-05 mm\n",
      "----------------------------------------\n"
     ]
    }
   ],
   "source": [
    "import prettytable\n",
    "\n",
    "for part in part_list:\n",
    "    print('Part:', part)\n",
    "    final_result = []\n",
    "    final_result_procrustes = []\n",
    "    summary_table = prettytable.PrettyTable()\n",
    "    summary_table.field_names = ['test_name'] + action_names # first row\n",
    "    for action in action_names:\n",
    "        final_result.append(np.mean(total_result_dict[part]['results'][action]))\n",
    "        final_result_procrustes.append(np.mean(total_result_dict[part]['results_procrustes'][action]))\n",
    "    summary_table.add_row(['P1 ({})'.format(part)] + final_result) # second row\n",
    "    summary_table.add_row(['P2 ({})'.format(part)] + final_result_procrustes) # third row\n",
    "    print(summary_table)\n",
    "    \n",
    "    # Total Error\n",
    "    e1_part = np.mean(np.array(final_result))\n",
    "    e2_part = np.mean(np.array(final_result_procrustes))\n",
    "    print('Protocol #1 Error (MPJPE):', e1_part, 'mm')\n",
    "    print('Protocol #2 Error (P-MPJPE):', e2_part, 'mm')\n",
    "    print('----------------------------------------')"
   ]
  },
  {
   "cell_type": "code",
   "execution_count": 20,
   "metadata": {},
   "outputs": [
    {
     "data": {
      "text/plain": [
       "(array([-0.03768206, -0.11706057,  0.1075855 ], dtype=float32),\n",
       " array([-0.2421559 ,  0.12225296,  0.5026588 ], dtype=float32))"
      ]
     },
     "execution_count": 20,
     "metadata": {},
     "output_type": "execute_result"
    }
   ],
   "source": [
    "results_all_3d_pos[0][0][1], gts_all_3d_pos[0][0][1]"
   ]
  },
  {
   "cell_type": "code",
   "execution_count": 57,
   "metadata": {},
   "outputs": [
    {
     "data": {
      "text/plain": [
       "(3840, 243, 2, 3)"
      ]
     },
     "execution_count": 57,
     "metadata": {},
     "output_type": "execute_result"
    }
   ],
   "source": [
    "gts_all_3d_pos.shape"
   ]
  },
  {
   "cell_type": "code",
   "execution_count": 61,
   "metadata": {},
   "outputs": [
    {
     "data": {
      "text/plain": [
       "array([[-0.04779661, -0.37969592,  5.3566566 ],\n",
       "       [-0.06232609,  0.06281447,  5.368018  ]], dtype=float32)"
      ]
     },
     "execution_count": 61,
     "metadata": {},
     "output_type": "execute_result"
    }
   ],
   "source": [
    "gt_vec"
   ]
  },
  {
   "cell_type": "code",
   "execution_count": 60,
   "metadata": {},
   "outputs": [
    {
     "data": {
      "application/vnd.jupyter.widget-view+json": {
       "model_id": "a6a3f156e0c045c58357d3b1720ea355",
       "version_major": 2,
       "version_minor": 0
      },
      "image/png": "[encoded data removed]",
      "text/html": [
       "\n",
       "            <div style=\"display: inline-block;\">\n",
       "                <div class=\"jupyter-widgets widget-label\" style=\"text-align: center;\">\n",
       "                    Figure\n",
       "                </div>\n",
       "                <img src='data:image/png;base64,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' width=1000.0/>\n",
       "            </div>\n",
       "        "
      ],
      "text/plain": [
       "Canvas(toolbar=Toolbar(toolitems=[('Home', 'Reset original view', 'home', 'home'), ('Back', 'Back to previous …"
      ]
     },
     "metadata": {},
     "output_type": "display_data"
    }
   ],
   "source": [
    "batch_num = 0\n",
    "frame_num = 0\n",
    "pred_vec = results_all_3d_pos[batch_num, frame_num]\n",
    "gt_vec = gts_all_3d_pos[batch_num, frame_num]\n",
    "\n",
    "%matplotlib widget\n",
    "fig = plt.figure(1, figsize=(10, 10))\n",
    "fig.clear()\n",
    "fig.tight_layout()\n",
    "ax = axes_2d(fig, loc=121, normalize=True, show_axis=False)\n",
    "ax_3d = axes_3d(fig, loc=122, show_axis=False, xlim=(-1, 1), ylim=(-1, 1), zlim=(0, 2), view=(0, 90)) \n",
    "draw_3d_pose(ax_3d, pred_vec, dataset='vector')"
   ]
  }
 ],
 "metadata": {
  "kernelspec": {
   "display_name": "motionbert",
   "language": "python",
   "name": "python3"
  },
  "language_info": {
   "codemirror_mode": {
    "name": "ipython",
    "version": 3
   },
   "file_extension": ".py",
   "mimetype": "text/x-python",
   "name": "python",
   "nbconvert_exporter": "python",
   "pygments_lexer": "ipython3",
   "version": "3.9.18 (main, Sep 11 2023, 13:41:44) \n[GCC 11.2.0]"
  },
  "vscode": {
   "interpreter": {
    "hash": "a22adeb9c65037913f217d555eca4ee12416bb8cd04fc64921ca248554344da3"
   }
  }
 },
 "nbformat": 4,
 "nbformat_minor": 2
}
