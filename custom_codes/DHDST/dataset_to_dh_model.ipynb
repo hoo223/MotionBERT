{
 "cells": [
  {
   "cell_type": "code",
   "execution_count": 1,
   "metadata": {},
   "outputs": [],
   "source": [
    "%load_ext autoreload\n",
    "%autoreload 2\n",
    "%matplotlib widget\n",
    "import os, sys, getpass\n",
    "user = getpass.getuser()\n",
    "sys.path.append(f'/home/{user}/codes/hpe_library/')\n",
    "from lib_import import *\n",
    "from my_utils import *\n",
    "os.chdir('/home/hrai/codes/MotionBERT')"
   ]
  },
  {
   "cell_type": "code",
   "execution_count": 2,
   "metadata": {},
   "outputs": [
    {
     "name": "stdout",
     "output_type": "stream",
     "text": [
      "==> Loading 3D data wrt World CS...\n"
     ]
    }
   ],
   "source": [
    "h36m_3d_world, h36m_cam_param = load_h36m()\n",
    "\n",
    "subject = 'S1'\n",
    "action = 'Walking'\n",
    "pose3d_s1_walking = h36m_3d_world[subject][action]['positions'] # 3d skeleton sequence wrt world CS\n",
    "cam_info_s1_walking = h36m_3d_world[subject][action]['cameras']\n",
    "cam_param_s1_walking = get_cam_param(cam_info_s1_walking, subject, h36m_cam_param)\n",
    "\n",
    "# camera parameters\n",
    "W, H = cam_param_s1_walking['54138969']['W'], cam_param_s1_walking['54138969']['H']\n",
    "cam_54138969_ext = cam_param_s1_walking['54138969']['ext']\n",
    "cam_54138969_int = cam_param_s1_walking['54138969']['int']\n",
    "cam_54138969_proj = cam_param_s1_walking['54138969']['proj']\n",
    "cam_54138969_origin = cam_param_s1_walking['54138969']['C']"
   ]
  },
  {
   "cell_type": "code",
   "execution_count": 3,
   "metadata": {},
   "outputs": [
    {
     "data": {
      "text/plain": [
       "(3134, 17, 3)"
      ]
     },
     "execution_count": 3,
     "metadata": {},
     "output_type": "execute_result"
    }
   ],
   "source": [
    "pose3d_s1_walking.shape"
   ]
  },
  {
   "cell_type": "code",
   "execution_count": 27,
   "metadata": {},
   "outputs": [],
   "source": [
    "import torch.nn.functional as F\n",
    "\n",
    "def get_limb_lens(x):\n",
    "    '''\n",
    "        Input: (N, T, 17, 3)\n",
    "        Output: (N, T, 16)\n",
    "    '''\n",
    "    limbs_id = [[0,1], [1,2], [2,3],\n",
    "         [0,4], [4,5], [5,6],\n",
    "         [0,7], [7,8], [8,9], [9,10],\n",
    "         [8,11], [11,12], [12,13],\n",
    "         [8,14], [14,15], [15,16]\n",
    "        ]\n",
    "    limbs = x[:,:,limbs_id,:]\n",
    "    print(limbs.shape)\n",
    "    limbs = limbs[:,:,:,0,:]-limbs[:,:,:,1,:]\n",
    "    limb_lens = torch.norm(limbs, dim=-1)\n",
    "    return limb_lens\n",
    "\n",
    "def get_angles(x):\n",
    "    '''\n",
    "        Input: (N, T, 17, 3)\n",
    "        Output: (N, T, 16)\n",
    "    '''\n",
    "    limbs_id = [[0,1], [1,2], [2,3],\n",
    "         [0,4], [4,5], [5,6],\n",
    "         [0,7], [7,8], [8,9], [9,10],\n",
    "         [8,11], [11,12], [12,13],\n",
    "         [8,14], [14,15], [15,16]\n",
    "        ]\n",
    "    angle_id = [[ 0,  3],\n",
    "                [ 0,  6],\n",
    "                [ 3,  6],\n",
    "                [ 0,  1],\n",
    "                [ 1,  2],\n",
    "                [ 3,  4],\n",
    "                [ 4,  5],\n",
    "                [ 6,  7],\n",
    "                [ 7, 10],\n",
    "                [ 7, 13],\n",
    "                [ 8, 13],\n",
    "                [10, 13],\n",
    "                [ 7,  8],\n",
    "                [ 8,  9],\n",
    "                [10, 11],\n",
    "                [11, 12],\n",
    "                [13, 14],\n",
    "                [14, 15] ]\n",
    "    eps = 1e-7\n",
    "    limbs = x[:,:,limbs_id,:]\n",
    "    limbs = limbs[:,:,:,0,:]-limbs[:,:,:,1,:] # make limb vectors\n",
    "    angles = limbs[:,:,angle_id,:] # select 2 vectors for each angle\n",
    "    angle_cos = F.cosine_similarity(angles[:,:,:,0,:], angles[:,:,:,1,:], dim=-1)\n",
    "    return torch.acos(angle_cos.clamp(-1+eps, 1-eps)) "
   ]
  },
  {
   "cell_type": "code",
   "execution_count": 29,
   "metadata": {},
   "outputs": [
    {
     "name": "stdout",
     "output_type": "stream",
     "text": [
      "torch.Size([1, 3134, 16, 2, 3])\n"
     ]
    },
    {
     "data": {
      "text/plain": [
       "((3134, 16), (3134, 18))"
      ]
     },
     "execution_count": 29,
     "metadata": {},
     "output_type": "execute_result"
    }
   ],
   "source": [
    "x = torch.tensor(pose3d_s1_walking).reshape(1, -1, 17, 3)\n",
    "limb_lens = get_limb_lens(x).cpu().numpy()[0]\n",
    "angles = get_angles(x).cpu().numpy()[0]\n",
    "limb_lens.shape, angles.shape"
   ]
  },
  {
   "cell_type": "code",
   "execution_count": 18,
   "metadata": {},
   "outputs": [
    {
     "data": {
      "text/plain": [
       "(array([0.13294382, 0.44288164, 0.4542153 , 0.13294384, 0.44288164,\n",
       "        0.45421535, 0.23347603, 0.25707984, 0.12113259, 0.11500042,\n",
       "        0.15103191, 0.2788739 , 0.2517276 , 0.1510315 , 0.2788864 ,\n",
       "        0.25172478], dtype=float32),\n",
       " array([4.7681438e-06, 1.2969689e-05, 8.8397410e-06, 4.9860951e-06,\n",
       "        1.2770107e-05, 8.7547105e-06, 2.2893942e-06, 2.1611881e-06,\n",
       "        2.3475952e-06, 1.8082617e-06, 2.3134999e-06, 8.8824117e-06,\n",
       "        5.8389469e-06, 8.0186034e-08, 6.5149479e-06, 3.8949820e-06],\n",
       "       dtype=float32))"
      ]
     },
     "execution_count": 18,
     "metadata": {},
     "output_type": "execute_result"
    }
   ],
   "source": [
    "limb_lens.mean(axis=0), limb_lens.std(axis=0)"
   ]
  },
  {
   "cell_type": "code",
   "execution_count": 30,
   "metadata": {},
   "outputs": [
    {
     "data": {
      "text/plain": [
       "array([3.1411045 , 1.4650826 , 1.67651   , 1.697313  , 0.03596941,\n",
       "       1.5486748 , 0.0914357 , 0.11426465, 2.1095095 , 2.123755  ,\n",
       "       1.9761837 , 2.0478528 , 0.5529261 , 1.5220519 , 0.73272836,\n",
       "       0.2104467 , 0.7446696 , 0.2675639 ], dtype=float32)"
      ]
     },
     "execution_count": 30,
     "metadata": {},
     "output_type": "execute_result"
    }
   ],
   "source": [
    "angles[0]"
   ]
  }
 ],
 "metadata": {
  "kernelspec": {
   "display_name": "motionbert",
   "language": "python",
   "name": "python3"
  },
  "language_info": {
   "codemirror_mode": {
    "name": "ipython",
    "version": 3
   },
   "file_extension": ".py",
   "mimetype": "text/x-python",
   "name": "python",
   "nbconvert_exporter": "python",
   "pygments_lexer": "ipython3",
   "version": "3.9.17"
  },
  "orig_nbformat": 4
 },
 "nbformat": 4,
 "nbformat_minor": 2
}
