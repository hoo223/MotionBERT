{
 "cells": [
  {
   "cell_type": "code",
   "execution_count": 1,
   "metadata": {},
   "outputs": [],
   "source": [
    "%load_ext autoreload\n",
    "%autoreload 2\n",
    "%matplotlib widget\n",
    "import os, sys, getpass\n",
    "user = getpass.getuser()\n",
    "sys.path.append(f'/home/{user}/codes/hpe_library/')\n",
    "from lib_import import *\n",
    "from my_utils import *\n",
    "os.chdir('/home/hrai/codes/MotionBERT')\n",
    "\n",
    "from lib.data.datareader_total import DataReaderTotal\n",
    "from lib.data.datareader_h36m import DataReaderH36M\n",
    "from lib.data.datareader_fit3d import DataReaderFIT3D\n",
    "from lib.utils.args import get_opts_args\n",
    "from lib.model.load_model import load_model\n",
    "from lib.model.load_dataset import load_dataset\n",
    "from lib.data.dataset_motion_3d import MotionDataset3DTotal\n",
    "from lib.model.evaluation import *"
   ]
  },
  {
   "cell_type": "code",
   "execution_count": 2,
   "metadata": {},
   "outputs": [
    {
     "name": "stdout",
     "output_type": "stream",
     "text": [
      "==> Loading H36M source_list... overwrite: False\n",
      "==> Loading H36M cam_param... overwrite: False\n",
      "==> Loading H36M cam_3d same_z... overwrite: False\n",
      "==> Loading H36M img_2d_canonical same_z... overwrite: False\n",
      "==> Loading H36M cam_3d_canonical same_z... overwrite: False\n"
     ]
    },
    {
     "data": {
      "text/plain": [
       "(0.15614285, 0.25494722, 0.6073246)"
      ]
     },
     "execution_count": 2,
     "metadata": {},
     "output_type": "execute_result"
    }
   ],
   "source": [
    "subset = 'H36M-GT-CAM_NO_FACTOR-INPUT_FROM_3D_CANONICAL_SAME_Z'\n",
    "datareader = DataReaderTotal(n_frames=243, \n",
    "                                 sample_stride=1, \n",
    "                                 data_stride_train=81, \n",
    "                                 data_stride_test=243, \n",
    "                                 subset=subset)\n",
    "train_data, test_data, train_labels, test_labels = datareader.get_sliced_data()\n",
    "x_max = train_data[...,0].max(axis=-1)\n",
    "x_min = train_data[...,0].min(axis=-1)\n",
    "y_max = train_data[...,1].max(axis=-1)\n",
    "y_min = train_data[...,1].min(axis=-1)\n",
    "width = x_max - x_min\n",
    "height = y_max - y_min\n",
    "(width * height).mean(), width.mean(), height.mean()"
   ]
  },
  {
   "cell_type": "code",
   "execution_count": 6,
   "metadata": {},
   "outputs": [
    {
     "name": "stdout",
     "output_type": "stream",
     "text": [
      "==> Loading FIT3D source_list... overwrite: False\n",
      "==> Loading FIT3D cam_param... overwrite: False\n",
      "==> Loading FIT3D cam_3d same_z... overwrite: False\n",
      "==> Loading FIT3D img_2d_canonical same_z... overwrite: False\n",
      "==> Loading FIT3D cam_3d_canonical same_z... overwrite: False\n"
     ]
    },
    {
     "data": {
      "text/plain": [
       "(0.3912395, 0.37024987, 1.0541482)"
      ]
     },
     "execution_count": 6,
     "metadata": {},
     "output_type": "execute_result"
    }
   ],
   "source": [
    "subset = 'FIT3D-GT-CAM_NO_FACTOR-INPUT_FROM_3D_CANONICAL_SAME_Z-ALL_TEST'\n",
    "datareader = DataReaderTotal(n_frames=243, \n",
    "                                 sample_stride=1, \n",
    "                                 data_stride_train=81, \n",
    "                                 data_stride_test=243, \n",
    "                                 subset=subset)\n",
    "train_data, test_data, train_labels, test_labels = datareader.get_sliced_data()\n",
    "x_max = train_data[...,0].max(axis=-1)\n",
    "x_min = train_data[...,0].min(axis=-1)\n",
    "y_max = train_data[...,1].max(axis=-1)\n",
    "y_min = train_data[...,1].min(axis=-1)\n",
    "width = x_max - x_min\n",
    "height = y_max - y_min\n",
    "(width * height).mean(), width.mean(), height.mean()"
   ]
  },
  {
   "cell_type": "code",
   "execution_count": 3,
   "metadata": {},
   "outputs": [
    {
     "name": "stdout",
     "output_type": "stream",
     "text": [
      "==> Loading 3DHP source_list... overwrite: False\n",
      "==> Loading 3DHP cam_param... overwrite: False\n",
      "==> Loading 3DHP cam_3d same_z... overwrite: False\n",
      "==> Loading 3DHP img_2d_canonical same_z... overwrite: False\n",
      "==> Loading 3DHP cam_3d_canonical same_z... overwrite: False\n"
     ]
    },
    {
     "data": {
      "text/plain": [
       "(0.51276183, 0.6725978, 0.7623703)"
      ]
     },
     "execution_count": 3,
     "metadata": {},
     "output_type": "execute_result"
    }
   ],
   "source": [
    "subset = '3DHP-GT-CAM_NO_FACTOR-INPUT_FROM_3D_CANONICAL_SAME_Z-TEST_TS1_6'\n",
    "datareader = DataReaderTotal(n_frames=243, \n",
    "                                 sample_stride=1, \n",
    "                                 data_stride_train=81, \n",
    "                                 data_stride_test=243, \n",
    "                                 subset=subset)\n",
    "train_data, test_data, train_labels, test_labels = datareader.get_sliced_data()\n",
    "x_max = train_data[...,0].max(axis=-1)\n",
    "x_min = train_data[...,0].min(axis=-1)\n",
    "y_max = train_data[...,1].max(axis=-1)\n",
    "y_min = train_data[...,1].min(axis=-1)\n",
    "width = x_max - x_min\n",
    "height = y_max - y_min\n",
    "(width * height).mean(), width.mean(), height.mean()"
   ]
  },
  {
   "cell_type": "code",
   "execution_count": 4,
   "metadata": {},
   "outputs": [
    {
     "name": "stdout",
     "output_type": "stream",
     "text": [
      "==> Loading H36M source_list... overwrite: False\n",
      "==> Loading H36M cam_param... overwrite: False\n",
      "==> Loading H36M cam_3d fixed_dist_5... overwrite: False\n",
      "==> Loading H36M img_2d_canonical fixed_dist_5... overwrite: False\n",
      "==> Loading H36M cam_3d_canonical fixed_dist_5... overwrite: False\n"
     ]
    },
    {
     "data": {
      "text/plain": [
       "(0.15380217, 0.25703347, 0.6094526)"
      ]
     },
     "execution_count": 4,
     "metadata": {},
     "output_type": "execute_result"
    }
   ],
   "source": [
    "subset = 'H36M-GT-CAM_NO_FACTOR-INPUT_FROM_3D_CANONICAL_FIXED_DIST_5'\n",
    "datareader = DataReaderTotal(n_frames=243, \n",
    "                                 sample_stride=1, \n",
    "                                 data_stride_train=81, \n",
    "                                 data_stride_test=243, \n",
    "                                 subset=subset)\n",
    "train_data, test_data, train_labels, test_labels = datareader.get_sliced_data()\n",
    "x_max = train_data[...,0].max(axis=-1)\n",
    "x_min = train_data[...,0].min(axis=-1)\n",
    "y_max = train_data[...,1].max(axis=-1)\n",
    "y_min = train_data[...,1].min(axis=-1)\n",
    "width = x_max - x_min\n",
    "height = y_max - y_min\n",
    "(width * height).mean(), width.mean(), height.mean()"
   ]
  },
  {
   "cell_type": "code",
   "execution_count": 7,
   "metadata": {},
   "outputs": [
    {
     "name": "stdout",
     "output_type": "stream",
     "text": [
      "==> Loading FIT3D source_list... overwrite: False\n",
      "==> Loading FIT3D cam_param... overwrite: False\n",
      "==> Loading FIT3D cam_3d fixed_dist_5... overwrite: False\n",
      "==> Loading FIT3D img_2d_canonical fixed_dist_5... overwrite: False\n",
      "==> Loading FIT3D cam_3d_canonical fixed_dist_5... overwrite: False\n"
     ]
    },
    {
     "data": {
      "text/plain": [
       "(0.25106832, 0.296353, 0.8446991)"
      ]
     },
     "execution_count": 7,
     "metadata": {},
     "output_type": "execute_result"
    }
   ],
   "source": [
    "subset = 'FIT3D-GT-CAM_NO_FACTOR-INPUT_FROM_3D_CANONICAL_FIXED_DIST_5-ALL_TEST'\n",
    "datareader = DataReaderTotal(n_frames=243, \n",
    "                                 sample_stride=1, \n",
    "                                 data_stride_train=81, \n",
    "                                 data_stride_test=243, \n",
    "                                 subset=subset)\n",
    "train_data, test_data, train_labels, test_labels = datareader.get_sliced_data()\n",
    "x_max = train_data[...,0].max(axis=-1)\n",
    "x_min = train_data[...,0].min(axis=-1)\n",
    "y_max = train_data[...,1].max(axis=-1)\n",
    "y_min = train_data[...,1].min(axis=-1)\n",
    "width = x_max - x_min\n",
    "height = y_max - y_min\n",
    "(width * height).mean(), width.mean(), height.mean()"
   ]
  },
  {
   "cell_type": "code",
   "execution_count": 8,
   "metadata": {},
   "outputs": [
    {
     "name": "stdout",
     "output_type": "stream",
     "text": [
      "==> Loading 3DHP source_list... overwrite: False\n",
      "==> Loading 3DHP cam_param... overwrite: False\n",
      "==> Loading 3DHP cam_3d fixed_dist_5... overwrite: False\n",
      "==> Loading 3DHP img_2d_canonical fixed_dist_5... overwrite: False\n",
      "==> Loading 3DHP cam_3d_canonical fixed_dist_5... overwrite: False\n"
     ]
    },
    {
     "data": {
      "text/plain": [
       "(0.2131808, 0.43061543, 0.4960984)"
      ]
     },
     "execution_count": 8,
     "metadata": {},
     "output_type": "execute_result"
    }
   ],
   "source": [
    "subset = '3DHP-GT-CAM_NO_FACTOR-INPUT_FROM_3D_CANONICAL_FIXED_DIST_5-TEST_TS1_6'\n",
    "datareader = DataReaderTotal(n_frames=243, \n",
    "                                 sample_stride=1, \n",
    "                                 data_stride_train=81, \n",
    "                                 data_stride_test=243, \n",
    "                                 subset=subset)\n",
    "train_data, test_data, train_labels, test_labels = datareader.get_sliced_data()\n",
    "x_max = train_data[...,0].max(axis=-1)\n",
    "x_min = train_data[...,0].min(axis=-1)\n",
    "y_max = train_data[...,1].max(axis=-1)\n",
    "y_min = train_data[...,1].min(axis=-1)\n",
    "width = x_max - x_min\n",
    "height = y_max - y_min\n",
    "(width * height).mean(), width.mean(), height.mean()"
   ]
  },
  {
   "cell_type": "code",
   "execution_count": 15,
   "metadata": {},
   "outputs": [
    {
     "data": {
      "application/vnd.jupyter.widget-view+json": {
       "model_id": "c0b59b02b15d420c88564f5208752f2d",
       "version_major": 2,
       "version_minor": 0
      },
      "image/png": "[encoded data removed]",
      "text/html": [
       "\n",
       "            <div style=\"display: inline-block;\">\n",
       "                <div class=\"jupyter-widgets widget-label\" style=\"text-align: center;\">\n",
       "                    Figure 0\n",
       "                </div>\n",
       "                <img src='data:image/png;base64,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' width=640.0/>\n",
       "            </div>\n",
       "        "
      ],
      "text/plain": [
       "Canvas(toolbar=Toolbar(toolitems=[('Home', 'Reset original view', 'home', 'home'), ('Back', 'Back to previous …"
      ]
     },
     "metadata": {},
     "output_type": "display_data"
    }
   ],
   "source": [
    "fig = plt.figure(0)\n",
    "fig.clear()\n",
    "ax = axes_2d(fig, normalize=True)\n",
    "draw_2d_pose(ax, test_data[-1][-1], normalize=True)\n",
    "plt.show()"
   ]
  },
  {
   "cell_type": "code",
   "execution_count": 14,
   "metadata": {},
   "outputs": [
    {
     "data": {
      "text/plain": [
       "(90, 243, 17, 3)"
      ]
     },
     "execution_count": 14,
     "metadata": {},
     "output_type": "execute_result"
    }
   ],
   "source": [
    "test_data.shape"
   ]
  }
 ],
 "metadata": {
  "language_info": {
   "name": "python"
  }
 },
 "nbformat": 4,
 "nbformat_minor": 2
}
