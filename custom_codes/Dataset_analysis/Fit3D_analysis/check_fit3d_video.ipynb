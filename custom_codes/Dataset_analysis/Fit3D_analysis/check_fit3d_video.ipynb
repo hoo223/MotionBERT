{
 "cells": [
  {
   "cell_type": "code",
   "execution_count": 16,
   "metadata": {},
   "outputs": [],
   "source": [
    "import imageio\n",
    "from test_utils import *"
   ]
  },
  {
   "cell_type": "code",
   "execution_count": 13,
   "metadata": {},
   "outputs": [
    {
     "data": {
      "text/plain": [
       "{'plugin': 'ffmpeg',\n",
       " 'nframes': inf,\n",
       " 'ffmpeg_version': '4.2.2-static https://johnvansickle.com/ffmpeg/ built with gcc 8 (Debian 8.3.0-6)',\n",
       " 'codec': 'mpeg4',\n",
       " 'pix_fmt': 'yuv420p',\n",
       " 'fps': 50.0,\n",
       " 'source_size': (900, 900),\n",
       " 'size': (900, 900),\n",
       " 'rotate': 0,\n",
       " 'duration': 28.02}"
      ]
     },
     "execution_count": 13,
     "metadata": {},
     "output_type": "execute_result"
    }
   ],
   "source": [
    "vid_path = \"/home/hrai/codes/AlphaPose/examples/fit3d_result/res_s03_65906101_squat/AlphaPose_s03_65906101_squat.mp4\"\n",
    "vid = imageio.get_reader(vid_path,  'ffmpeg')\n",
    "vid.get_meta_data()"
   ]
  },
  {
   "cell_type": "code",
   "execution_count": 14,
   "metadata": {},
   "outputs": [
    {
     "data": {
      "text/plain": [
       "1401.0"
      ]
     },
     "execution_count": 14,
     "metadata": {},
     "output_type": "execute_result"
    }
   ],
   "source": [
    "num_frames = vid.get_meta_data()['duration'] * vid.get_meta_data()['fps']\n",
    "num_frames"
   ]
  },
  {
   "cell_type": "code",
   "execution_count": 15,
   "metadata": {},
   "outputs": [
    {
     "data": {
      "text/plain": [
       "1275.0"
      ]
     },
     "execution_count": 15,
     "metadata": {},
     "output_type": "execute_result"
    }
   ],
   "source": [
    "\n",
    "vid_path = \"/home/hrai/Datasets/HAAI/Fit3D/s04/videos/50591643/squat.mp4\"\n",
    "vid = imageio.get_reader(vid_path,  'ffmpeg')\n",
    "num_frames = vid.get_meta_data()['duration'] * vid.get_meta_data()['fps']\n",
    "num_frames"
   ]
  },
  {
   "cell_type": "code",
   "execution_count": 20,
   "metadata": {},
   "outputs": [
    {
     "data": {
      "text/plain": [
       "(1274, 25, 3)"
      ]
     },
     "execution_count": 20,
     "metadata": {},
     "output_type": "execute_result"
    }
   ],
   "source": [
    "gt = readJSON(\"/home/hrai/Datasets/HAAI/Fit3D/s04/joints3d_25/squat.json\")\n",
    "np.array(gt['joints3d_25']).shape"
   ]
  },
  {
   "cell_type": "code",
   "execution_count": 23,
   "metadata": {},
   "outputs": [],
   "source": [
    "action_list = [i.split('.')[0] for i in os.listdir(\"/home/hrai/Datasets/HAAI/Fit3D/s04/videos/50591643\")]"
   ]
  },
  {
   "cell_type": "code",
   "execution_count": 26,
   "metadata": {},
   "outputs": [
    {
     "name": "stdout",
     "output_type": "stream",
     "text": [
      "2.0\n",
      "2.0000000000002274\n",
      "1.0\n",
      "2.0\n",
      "1.0\n",
      "1.0\n",
      "1.0\n",
      "1.0\n",
      "2.0000000000001137\n",
      "1.0\n",
      "0.0\n",
      "1.0\n",
      "1.0\n",
      "1.0\n",
      "2.0\n",
      "1.0\n",
      "1.0\n",
      "1.0\n",
      "1.0\n",
      "-1.1368683772161603e-13\n",
      "0.9999999999998863\n",
      "1.0\n",
      "1.0\n",
      "0.9999999999998863\n",
      "2.0\n",
      "1.0\n",
      "1.0\n",
      "1.0\n",
      "0.0\n",
      "0.0\n",
      "-1.1368683772161603e-13\n",
      "1.0\n",
      "0.0\n",
      "2.0000000000002274\n",
      "1.0\n",
      "1.0\n",
      "2.0\n",
      "1.0\n",
      "2.0000000000001137\n",
      "1.0\n",
      "1.0000000000001137\n",
      "2.0\n",
      "0.9999999999997726\n",
      "1.0\n",
      "1.0\n",
      "0.9999999999998863\n",
      "2.0\n"
     ]
    }
   ],
   "source": [
    "for action in action_list:\n",
    "    vid_path = \"/home/hrai/Datasets/HAAI/Fit3D/s04/videos/50591643/{}.mp4\".format(action)\n",
    "    vid = imageio.get_reader(vid_path,  'ffmpeg')\n",
    "    num_frames = vid.get_meta_data()['duration'] * vid.get_meta_data()['fps']\n",
    "    gt = readJSON(\"/home/hrai/Datasets/HAAI/Fit3D/s04/joints3d_25/{}.json\".format(action))\n",
    "    print(num_frames - np.array(gt['joints3d_25']).shape[0])"
   ]
  }
 ],
 "metadata": {
  "kernelspec": {
   "display_name": "motionbert",
   "language": "python",
   "name": "python3"
  },
  "language_info": {
   "codemirror_mode": {
    "name": "ipython",
    "version": 3
   },
   "file_extension": ".py",
   "mimetype": "text/x-python",
   "name": "python",
   "nbconvert_exporter": "python",
   "pygments_lexer": "ipython3",
   "version": "3.9.17"
  },
  "orig_nbformat": 4
 },
 "nbformat": 4,
 "nbformat_minor": 2
}
