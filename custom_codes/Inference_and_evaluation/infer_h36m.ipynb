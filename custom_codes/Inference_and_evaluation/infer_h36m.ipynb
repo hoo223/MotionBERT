{
 "cells": [
  {
   "cell_type": "code",
   "execution_count": 4,
   "metadata": {},
   "outputs": [
    {
     "name": "stdout",
     "output_type": "stream",
     "text": [
      "s_01_act_02_subact_01_ca_02\n",
      "MotionBERT_s_01_act_02_subact_01_ca_02 already exists\n",
      "s_01_act_02_subact_01_ca_03\n",
      "/home/lhs/codes/AlphaPose/examples/res_s_01_act_02_subact_01_ca_03/vis/test.mp4 /home/lhs/codes/AlphaPose/examples/res_s_01_act_02_subact_01_ca_03/alphapose-results.json ./output/MotionBERT_s_01_act_02_subact_01_ca_03\n",
      "Loading checkpoint checkpoint/pose3d/MB_ft_h36m/best_epoch.bin\n"
     ]
    },
    {
     "name": "stderr",
     "output_type": "stream",
     "text": [
      "100%|██████████| 6/6 [00:01<00:00,  4.43it/s]\n",
      "  0%|          | 0/1383 [00:00<?, ?it/s]IMAGEIO FFMPEG_WRITER WARNING: input image is not divisible by macro_block_size=16, resizing from (930, 924) to (944, 928) to ensure video compatibility with most codecs and players. To prevent resizing, make your input image divisible by the macro_block_size or set the macro_block_size to 1 (risking incompatibility).\n",
      "  0%|          | 1/1383 [00:00<10:17,  2.24it/s][swscaler @ 0x6073180] Warning: data is not aligned! This can lead to a speed loss\n",
      "100%|██████████| 1383/1383 [03:24<00:00,  6.77it/s]\n"
     ]
    }
   ],
   "source": [
    "import sys, os\n",
    "os.chdir('/home/lhs/codes/MotionBERT')\n",
    "\n",
    "for id in ['s_01_act_02_subact_01_ca_02', 's_01_act_02_subact_01_ca_03']: # 각 영상에 대해 \n",
    "    print(id)\n",
    "    if \"MotionBERT_{}\".format(id) in os.listdir(\"./output\"): # 이미 추론 결과가 있으면 넘어감\n",
    "        print(\"MotionBERT_{} already exists\".format(id))\n",
    "        continue\n",
    "    \n",
    "    # args\n",
    "    #config = \"configs/pose3d/MB_ft_aihub.yaml\"\n",
    "    #checkpoint = \"checkpoint/pose3d/FT_MB_ft_h36m_MB_ft_aihub/latest_epoch.bin\"\n",
    "    checkpoint = \"checkpoint/pose3d/MB_ft_h36m/best_epoch.bin\"\n",
    "    vid_path = '/home/lhs/codes/AlphaPose/examples/res_{}/vis/test.mp4'.format(id)\n",
    "    json_path = '/home/lhs/codes/AlphaPose/examples/res_{}/alphapose-results.json'.format(id)\n",
    "    out_path = './output/MotionBERT_{}'.format(id)\n",
    "\n",
    "    print(vid_path, json_path, out_path)\n",
    "\n",
    "    try:\n",
    "        # inference by MotionBERT\n",
    "        os.system(\"python infer_wild.py --vid_path {} --json_path {} --out_path {} --evaluate {}\".format(vid_path, json_path, out_path, checkpoint))\n",
    "        # change the name of the output\n",
    "        os.rename(os.path.join(out_path, \"X3D.mp4\"), os.path.join(out_path, \"MotionBERT_{}.mp4\".format(id)))\n",
    "        os.rename(os.path.join(out_path, \"X3D.npy\"), os.path.join(out_path, \"MotionBERT_{}.npy\".format(id)))\n",
    "    except:\n",
    "        print(\"MotionBERT_{} failed\".format(id))\n",
    "        \n"
   ]
  },
  {
   "cell_type": "code",
   "execution_count": 12,
   "metadata": {},
   "outputs": [
    {
     "name": "stdout",
     "output_type": "stream",
     "text": [
      "30_M160D_3\n",
      "Already changed\n",
      "30_M160A_2\n",
      "Already changed\n",
      "30_M170C_2\n",
      "Already changed\n",
      "30_M170B_7\n",
      "Already changed\n",
      "30_M170A_5\n",
      "Already changed\n",
      "30_M170B_5\n",
      "Already changed\n",
      "30_M160A_5\n",
      "Already changed\n",
      "30_M170B_4\n",
      "Already changed\n",
      "30_F160A_8\n",
      "Already changed\n",
      "30_M180D_4\n",
      "Already changed\n",
      "30_M160B_2\n",
      "Already changed\n",
      "30_M170A_6\n",
      "Already changed\n",
      "30_M170B_1\n",
      "Already changed\n",
      "30_M160D_7\n",
      "Already changed\n",
      "30_F170D_5\n",
      "Already changed\n",
      "30_M160A_3\n",
      "Already changed\n",
      "30_F160A_7\n",
      "Already changed\n",
      "30_M170A_1\n",
      "Already changed\n",
      "30_M160B_4\n",
      "Already changed\n",
      "30_M170B_3\n",
      "Already changed\n",
      "30_F160A_1\n",
      "Already changed\n",
      "30_M170B_8\n",
      "Already changed\n",
      "30_M170C_8\n",
      "Already changed\n",
      "30_F170D_4\n",
      "Already changed\n",
      "30_M180D_5\n",
      "Already changed\n",
      "30_M160C_6\n",
      "Already changed\n",
      "30_F170D_8\n",
      "Already changed\n",
      "30_M160D_6\n",
      "Already changed\n",
      "30_M160B_5\n",
      "Already changed\n",
      "30_M160D_1\n",
      "Already changed\n",
      "30_M160D_5\n",
      "Already changed\n",
      "30_M170A_3\n",
      "Already changed\n",
      "30_M160A_8\n",
      "Already changed\n",
      "30_M160A_7\n",
      "Already changed\n",
      "30_M160A_6\n",
      "Already changed\n",
      "30_M170A_7\n",
      "Already changed\n",
      "30_M180D_3\n",
      "Already changed\n",
      "30_M170C_6\n",
      "Already changed\n",
      "30_M170A_2\n",
      "Already changed\n",
      "30_M160A_1\n",
      "Already changed\n",
      "30_M160B_8\n",
      "Already changed\n",
      "30_M160B_3\n",
      "Already changed\n",
      "30_M170A_4\n",
      "Already changed\n",
      "30_M160A_4\n",
      "Already changed\n",
      "30_M160C_3\n",
      "Already changed\n"
     ]
    }
   ],
   "source": [
    "# for id in l: # 각 영상에 대해 \n",
    "#     print(id)\n",
    "#     if \"MotionBERT_{}\".format(id) in os.listdir(\"./output\"): # 이미 추론 결과가 있으면 넘어감\n",
    "#         if 'X3D.npy' in os.listdir(\"./output/MotionBERT_{}\".format(id)):\n",
    "#             os.rename(os.path.join(\"./output/MotionBERT_{}\".format(id), \"X3D.npy\"), os.path.join(\"./output/MotionBERT_{}\".format(id), \"MotionBERT_{}.npy\".format(id)))\n",
    "#         else:\n",
    "#             print(\"Already changed\")"
   ]
  }
 ],
 "metadata": {
  "kernelspec": {
   "display_name": "motionbert",
   "language": "python",
   "name": "python3"
  },
  "language_info": {
   "codemirror_mode": {
    "name": "ipython",
    "version": 3
   },
   "file_extension": ".py",
   "mimetype": "text/x-python",
   "name": "python",
   "nbconvert_exporter": "python",
   "pygments_lexer": "ipython3",
   "version": "3.9.16"
  },
  "orig_nbformat": 4,
  "vscode": {
   "interpreter": {
    "hash": "996031ba2a0f3c1298a339c0299835a7fe1ef636d9e79358bc474ca43ed2ac18"
   }
  }
 },
 "nbformat": 4,
 "nbformat_minor": 2
}
