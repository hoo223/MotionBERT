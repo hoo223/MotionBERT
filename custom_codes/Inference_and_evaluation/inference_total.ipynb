{
 "cells": [
  {
   "cell_type": "code",
   "execution_count": 2,
   "metadata": {},
   "outputs": [],
   "source": [
    "%load_ext autoreload\n",
    "%autoreload 2\n",
    "%matplotlib widget\n",
    "\n",
    "import os, sys, getpass\n",
    "user = getpass.getuser()\n",
    "sys.path.append(f'/home/{user}/codes/hpe_library')\n",
    "from lib_import import *\n",
    "from my_utils import BatchCamera, Camera\n",
    "from my_utils import arg_as_list, get_configs\n",
    "from my_utils import generate_random_segment, generate_random_trajectory, get_aligned_init_torso, get_ap_pose_2d, get_backbone_line_from_torso, get_bounded_segments_idx, get_cam_param, get_input, get_label, get_model_input, get_output, get_pairs, get_part_traj, get_pose_seq_and_cam_param, get_two_point_parts, load_h36m, load_segment_file_from_parameters, make_input, make_one_dimension_list, make_output, split_continuous_indices, MyCustomDataset, parse_args_by_model_name, get_input_gt_for_onevec, get_limb_angle, get_h36m_camera_info, h36m_data_processing\n",
    "from my_utils import DH_matrix, azim_elev_to_vec, batch_azim_elev_to_vec, batch_inverse_tf, batch_projection, batch_rot_x_matrix, batch_rot_y_matrix, batch_rot_z_matrix, calculate_azimuth_elevation, calculate_rotation_quaternion, draw_arm, draw_subline, draw_torso_direction, frame_vec_to_matrix, generate_batch_tf_from_batch_origin_R, generate_camera_frame, generate_dh_frame, generate_tf_from_origin_R, generate_two_link, generate_vis_frame, generate_world_frame, get_batch_frame_vec_from_keypoints, get_batch_lower_torso_frame_from_keypoints, get_batch_lower_torso_frame_from_pose, get_batch_reference_frame, get_batch_upper_torso_frame_from_keypoints, get_batch_upper_torso_frame_from_pose, get_frame_from_keypoints, get_lower_torso_frame_from_pose, get_reference_frame, get_torso_direction, get_torso_rotation_matrix, get_torso_shape, get_upper_torso_frame_from_pose, inverse_tf, normalize_vector, project_batch_tensor, projection, rotate_torso_by_R, rotate_torso_by_R_for_batch_tensor, rotation_matrix_to_vector_align, rotation_matrix_torso2torso, Appendage, BatchAppendage, BatchDHModel, DHModel, calculate_batch_azimuth_elevation\n",
    "from my_utils import args_dict_to_namespace, construct_torso_from_output, denormalize_motionbert_result, get_dataset_info_from_segment_folder, get_inference_from_dhdst, get_inference_from_dhdst_torso, get_inference_from_motionbert, get_output_type, get_result, infer_one_segment, load_best_model_for_inference, normalize_input, test_model_by_segment_file\n",
    "from my_utils import get_logger, log_configs\n",
    "from my_utils import init_weights, split_array_by_idxs, BaselineModel, Linear, TorsoModel\n",
    "from my_utils import Camera2ImageCoordinate, MPJPE, MPJPE_for_multiple_pose, MPJPE_for_single_pose, World2CameraCoordinate, World2ImageCoordinate, _sqrt_positive_part, _weak_project, aihub2h36m, array2dict, avgErrorForOneAction, avgErrorForOneActor, avgErrorForOneCamera, camera_to_image_frame, change_bbox_convention, check_max_min, coco2h36m, convert3DResult, draw_skeleton, draw_skeleton_2d, draw_skeleton_both, euclidean_distance, fit3d2h36m, fit3d_load_gt_and_param, get3DResult, getAIHubCameraParameter, getGT, getNumFromImgName, get_batch_h36m_keypoints, get_bbox_area, get_bbox_area_from_pose2d, get_bbox_from_pose2d, get_h36m_keypoint_index, get_h36m_keypoints, get_rootrel_pose, get_video_frame, get_video_info, get_xy_centered_pose, halpe2h36m, infer_box, kookmin2h36m, kookmin2h36m_with_nose, loadAIHubCameraParameter, matrix_to_quaternion, normalize, normalize_array, optimize_scaling_factor, plot_cv2_image, readJSON, readpkl, savepkl, skew_symmetric_matrix, skew_symmetric_matrix_tensor, standardize_quaternion, mpi_inf_3dhp2h36m, get_pose_height, get_batch_bbox_from_pose2d, len_ids, part_ids, h36m_part_keypoints, get_h36m_limb_lens\n",
    "from my_utils import check_duplicate_training, get_input_output_candidate, get_num_trial, load_args, load_best_model, load_dataset, load_model, prepare_training, run, run_epoch, save_args, split_array_by_idxs\n",
    "from my_utils import axes_2d, axes_3d, axes_to_compare_pred_gt, draw_3d_pose, draw_bbox, draw_multiple_2d_pose, draw_multiple_3d_pose, draw_one_segment, draw_rotation_matrix, draw_segment, draw_segments, draw_trajectory, get_2d_pose_image, legend_without_duplicate_labels, plot_to_compare_pred_gt, save_h36m_pose_video, show2Dtrajectory, show3Dtrajectory, show_2d_3d, show_whole_segment_trajectories, draw_2d_pose, clear_axes\n",
    "from my_utils import check_available_frame, check_continuity, draw_base_marker_3d, generate_kookmin_pkl_for_each_video, get_cam_param_kookmin, get_video_frame_kookmin, get_video_num_frame_kookmin, load_pose3d_kookmin, load_csv_kookmin, get_lbot\n",
    "\n",
    "# 주요 디렉토리 경로\n",
    "user = getpass.getuser()\n",
    "alphapose_root = f'/home/{user}/codes/AlphaPose'\n",
    "motionbert_root = f'/home/{user}/codes/MotionBERT'\n",
    "kookmin_root = f'/home/{user}/Datasets/HAAI/국민대데이터/data'\n",
    "ap_kookmin_result_root = alphapose_root + \"/examples/kookmin_result_5actions\"\n",
    "\n",
    "assert os.path.isdir(alphapose_root), \"AlphaPose root directory is not exist\"\n",
    "assert os.path.isdir(motionbert_root), \"MotionBERT root directory is not exist\"\n",
    "#assert os.path.isdir(kookmin_root), \"Kookmin root directory is not exist\"\n",
    "#assert os.path.isdir(ap_kookmin_result_root), \"AlphaPose Kookmin result directory is not exist\"\n",
    "\n",
    "os.chdir(motionbert_root)\n",
    "from lib.utils.tools import * # get_config\n",
    "from lib.utils.learning import * # load_backbone\n",
    "from lib.utils.args import get_opts_args\n",
    "from lib.utils.utils_data import flip_data\n",
    "from lib.model.load_model import load_model\n",
    "from lib.model.load_dataset import load_dataset\n",
    "from lib.model.loss import *\n",
    "from lib.model.training import *\n",
    "from lib.model.evaluation import *\n",
    "from lib.data.datareader_kookmin import DataReaderKOOKMIN\n",
    "from lib.data.datareader_h36m import DataReaderH36M\n",
    "from lib.data.datareader_fit3d import DataReaderFIT3D\n",
    "from lib.data.datareader_random_limb import DataReaderRandomLimb\n",
    "from lib.data.dataset_motion_3d import MotionDataset3D\n",
    "from lib.model.DHDSTformer import DHDSTformer_total, DHDSTformer_total2, DHDSTformer_total3, DHDSTformer_total4, DHDSTformer_total5, DHDSTformer_total6, DHDSTformer_total7, DHDSTformer_total8, \\\n",
    "    DHDSTformer_limb, DHDSTformer_torso, DHDSTformer_torso2\n",
    "    \n",
    "dt_file_mapping = {\n",
    "    'H36M-GT': 'h36m_gt',\n",
    "    'H36M-GT-CAM_NO_FACTOR': 'h36m_gt',\n",
    "    'H36M-GT-CAM_NO_FACTOR-INPUT_FROM_3D_CANONICAL_SAME_DIST': 'h36m_gt_canonical_3d_same_dist',\n",
    "    'H36M-GT-CAM_NO_FACTOR-INPUT_FROM_3D_CANONICAL_SAME_DIST-S15678_TR_54138969_TS_OTHERS': 'h36m_gt_canonical_3d_same_dist_s15678_tr_54138969_ts_others',\n",
    "    'H36M-GT-CAM_NO_FACTOR-INPUT_FROM_3D_CANONICAL_SAME_DIST-TR_S1_TS_S5678': 'h36m_gt_canonical_3d_same_dist_tr_s1_ts_s5678',\n",
    "    'H36M-GT-CAM_NO_FACTOR-INPUT_FROM_3D_CANONICAL_SAME_Z': 'h36m_gt_canonical_3d_same_z',\n",
    "    'H36M-GT-CAM_NO_FACTOR-INPUT_FROM_3D_CANONICAL_SAME_Z-TR_S1_TS_S5678': 'h36m_gt_canonical_3d_same_z_tr_s1_ts_s5678',\n",
    "    'H36M-GT-CAM_NO_FACTOR-INPUT_FROM_3D_CANONICAL_SAME_Z-TR_S1_TS_S5678_BY_CANON1_6_PRED': 'h36m_gt_canonical_3d_same_z_tr_s1_ts_s5678',\n",
    "    'H36M-GT-CAM_NO_FACTOR-INPUT_FROM_3D_CANONICAL_SAME_Z-TR_S1_TS_S5678_BY_CANON2_2_PRED': 'h36m_gt_canonical_3d_same_z_tr_s1_ts_s5678',\n",
    "    'H36M-GT-CAM_NO_FACTOR-S15678_TR_54138969_TS_OTHERS': 'h36m_gt_s15678_tr_54138969_ts_others',\n",
    "    'H36M-GT-CAM_NO_FACTOR-TR_S1_TS_S5678': 'h36m_gt_tr_s1_ts_s5678',\n",
    "    'H36M-GT-INPUT_FROM_3D_CANONICAL_SAME_DIST-TR_S1_TS_S5678': 'h36m_gt_canonical_3d_same_dist_tr_s1_ts_s5678',\n",
    "    'H36M-GT-TR_S1_TS_S5678': 'h36m_gt_tr_s1_ts_s5678',\n",
    "    'H36M-GT-WORLD_NO_FACTOR': 'h36m_gt',\n",
    "    'H36M-SH': 'h36m_sh_conf_cam_source_final',\n",
    "    'H36M_CANONICALIZATION-GT-INPUT_FROM_3D_CANONICAL_SAME_Z-TR_S1_TS_S5678': 'h36m_gt_canonical_3d_same_z_tr_s1_ts_s5678',\n",
    "    'FIT3D-GT-ALL_TEST': 'fit3d_gt_all_test',\n",
    "    'FIT3D-GT-CAM_NO_FACTOR-ALL_TEST': 'fit3d_gt_all_test',\n",
    "    'FIT3D-GT-CAM_NO_FACTOR-INPUT_FROM_3D_CANONICAL_SAME_Z-ALL_TEST': 'fit3d_gt_canonical_3d_same_z_all_test',\n",
    "    'FIT3D-GT-CAM_NO_FACTOR-INPUT_FROM_3D_CANONICAL_SAME_Z-TR_S03': 'fit3d_gt_canonical_3d_same_z_tr_s03',\n",
    "    'FIT3D-GT-CAM_NO_FACTOR-INPUT_FROM_3D_CANONICAL_SAME_Z-TS_S4710': 'fit3d_gt_canonical_3d_same_z_ts_s4710',\n",
    "    'FIT3D-GT-CAM_NO_FACTOR-TS_S4710': 'fit3d_gt_ts_s4710',\n",
    "    'FIT3D-GT-TS_S4710': 'fit3d_gt_ts_s4710',\n",
    "    '3DHP-GT-CAM_NO_FACTOR-POSEAUG_TEST_2929': 'poseaug_3dhp_test',\n",
    "    '3DHP-GT-CAM_NO_FACTOR-POSYNDA_TESTSET': '3dhp_gt_test',\n",
    "    '3DHP-GT-CAM_NO_FACTOR-TEST_ALL_TRAIN': '3dhp_gt_test_all_train',\n",
    "    '3DHP-GT-CAM_NO_FACTOR-INPUT_FROM_3D_CANONICAL_SAME_Z-TEST_ALL_TRAIN': '3dhp_gt_canonical_3d_same_z_test_all_train',\n",
    "    '3DHP-GT-CAM_NO_FACTOR-TEST_TS1_4': '3dhp_gt_test_TS1_4',\n",
    "    '3DHP-GT-CAM_NO_FACTOR-TEST_TS1_6': '3dhp_gt_test_TS1_6',\n",
    "    '3DHP-GT-CAM_NO_FACTOR-INPUT_FROM_3D_CANONICAL_SAME_Z-TEST_TS1_4': '3dhp_gt_test_canonical_3d_from_same_z_TS1_4',\n",
    "    '3DHP-GT-CAM_NO_FACTOR-INPUT_FROM_3D_CANONICAL_SAME_Z-TEST_TS1_6': '3dhp_gt_test_canonical_3d_from_same_z_TS1_6'\n",
    "}"
   ]
  },
  {
   "cell_type": "code",
   "execution_count": 4,
   "metadata": {},
   "outputs": [
    {
     "name": "stdout",
     "output_type": "stream",
     "text": [
      "Total pages: 192\n"
     ]
    }
   ],
   "source": [
    "import requests\n",
    "from tqdm import tqdm\n",
    "import copy\n",
    "\n",
    "# Notion API 키 및 데이터베이스 ID 설정\n",
    "notion = readpkl('notion.pkl')\n",
    "NOTION_API_KEY = notion['NOTION_API_KEY']\n",
    "DATABASE_ID = notion['DATABASE_ID']\n",
    "\n",
    "# 헤더 설정\n",
    "headers = {\n",
    "    \"Authorization\": f\"Bearer {NOTION_API_KEY}\",\n",
    "    \"Content-Type\": \"application/json\",\n",
    "    \"Notion-Version\": \"2022-06-28\"\n",
    "}\n",
    "\n",
    "def get_all_database_pages():\n",
    "    url = f\"https://api.notion.com/v1/databases/{DATABASE_ID}/query\"\n",
    "    all_pages = []\n",
    "    has_more = True\n",
    "    start_cursor = None\n",
    "    \n",
    "    while has_more:\n",
    "        if start_cursor:\n",
    "            data = {\"start_cursor\": start_cursor}\n",
    "        else:\n",
    "            data = {}\n",
    "        \n",
    "        response = requests.post(url, headers=headers, json=data)\n",
    "        response_data = response.json()\n",
    "        \n",
    "        all_pages.extend(response_data[\"results\"])\n",
    "        has_more = response_data.get(\"has_more\", False)\n",
    "        start_cursor = response_data.get(\"next_cursor\", None)\n",
    "    print(f\"Total pages: {len(all_pages)}\")\n",
    "    return all_pages\n",
    "\n",
    "pages = get_all_database_pages()\n",
    "\n",
    "pages_dict = {}\n",
    "for page in pages:\n",
    "    pages_dict[page[\"id\"]] = page\n",
    "    \n",
    "model_dict = {}\n",
    "for page in pages:\n",
    "    page_id = page[\"id\"]\n",
    "    property = page[\"properties\"]\n",
    "    try:\n",
    "        model_name = property[\"Model\"]['select']['name']\n",
    "    except: continue\n",
    "    if model_name not in model_dict:\n",
    "        model_dict[model_name] = []\n",
    "    model_dict[model_name].append(page_id)"
   ]
  },
  {
   "cell_type": "code",
   "execution_count": null,
   "metadata": {},
   "outputs": [],
   "source": [
    "experiment_list_pose3d = [item.split('.')[0] for item in os.listdir('/home/hrai/codes/MotionBERT/configs/pose3d')]\n",
    "# filtering\n",
    "blacklist = ['world', 'ft']\n",
    "mustbe = ['MB', 'gt']\n",
    "for item in experiment_list_pose3d:\n",
    "    for keyword in blacklist:\n",
    "        if keyword in item:\n",
    "            experiment_list_pose3d.remove(item)\n",
    "    if item not in experiment_list_pose3d: continue\n",
    "    for keyword in mustbe:\n",
    "        if keyword not in item:\n",
    "            experiment_list_pose3d.remove(item)"
   ]
  },
  {
   "cell_type": "code",
   "execution_count": 8,
   "metadata": {},
   "outputs": [
    {
     "name": "stdout",
     "output_type": "stream",
     "text": [
      "MB_train_h36m_gt\n",
      "   FIT3D-GT-ALL_TEST\n",
      "   H36M-GT\n",
      "MB_train_fit3d_gt_cam_no_factor_input_from_canonical_3d_same_z_input_centering_ts_s4710\n",
      "   3DHP-GT-CAM_NO_FACTOR-INPUT_FROM_3D_CANONICAL_SAME_Z-TEST_TS1_6\n",
      "   3DHP-GT-CAM_NO_FACTOR-INPUT_FROM_3D_CANONICAL_SAME_Z-TEST_ALL_TRAIN\n",
      "   H36M-GT-CAM_NO_FACTOR-INPUT_FROM_3D_CANONICAL_SAME_Z-TR_S1_TS_S5678\n",
      "   H36M-GT-CAM_NO_FACTOR-INPUT_FROM_3D_CANONICAL_SAME_Z\n",
      "   FIT3D-GT-CAM_NO_FACTOR-INPUT_FROM_3D_CANONICAL_SAME_Z-TS_S4710\n",
      "MB_train_h36m_gt_cam_no_factor_input_from_canonical_3d_same_z_input_centering\n",
      "   3DHP-GT-CAM_NO_FACTOR-INPUT_FROM_3D_CANONICAL_SAME_Z-TEST_ALL_TRAIN\n",
      "   3DHP-GT-CAM_NO_FACTOR-INPUT_FROM_3D_CANONICAL_SAME_Z-TEST_TS1_6\n",
      "   FIT3D-GT-CAM_NO_FACTOR-INPUT_FROM_3D_CANONICAL_SAME_Z-ALL_TEST\n",
      "   H36M-GT-CAM_NO_FACTOR-INPUT_FROM_3D_CANONICAL_SAME_Z\n",
      "MB_train_h36m_gt_with_canonical2\n",
      "   FIT3D-GT-ALL_TEST\n",
      "   H36M-GT\n",
      "MB_train_h36m_gt_cam_no_factor\n",
      "   3DHP-GT-CAM_NO_FACTOR-TEST_TS1_6\n",
      "   FIT3D-GT-CAM_NO_FACTOR-ALL_TEST\n",
      "   3DHP-GT-CAM_NO_FACTOR-TEST_ALL_TRAIN\n",
      "   H36M-GT-CAM_NO_FACTOR\n",
      "MB_train_h36m_gt_cam_no_factor_input_from_canonical_3d_same_z_s15678_tr_54138969_ts_others\n",
      "   H36M-GT-CAM_NO_FACTOR-INPUT_FROM_3D_CANONICAL_SAME_Z-S15678_TR_54138969_TS_OTHERS\n",
      "MB_train_fit3d_gt_cam_no_factor_input_from_canonical_3d_same_z_tr_s03\n",
      "   3DHP-GT-CAM_NO_FACTOR-INPUT_FROM_3D_CANONICAL_SAME_Z-TEST_ALL_TRAIN\n",
      "   3DHP-GT-CAM_NO_FACTOR-INPUT_FROM_3D_CANONICAL_SAME_Z-TEST_TS1_6\n",
      "   H36M-GT-CAM_NO_FACTOR-INPUT_FROM_3D_CANONICAL_SAME_Z-TR_S1_TS_S5678\n",
      "   H36M-GT-CAM_NO_FACTOR-INPUT_FROM_3D_CANONICAL_SAME_Z\n",
      "   FIT3D-GT-CAM_NO_FACTOR-INPUT_FROM_3D_CANONICAL_SAME_Z-TR_S03\n",
      "MB_train_h36m_gt_cam_no_factor_with_canonical2_norm_input_scale\n",
      "   3DHP-GT-CAM_NO_FACTOR-TEST_TS1_6\n",
      "   3DHP-GT-CAM_NO_FACTOR-TEST_ALL_TRAIN\n",
      "   FIT3D-GT-CAM_NO_FACTOR-ALL_TEST\n",
      "   H36M-GT-CAM_NO_FACTOR\n",
      "MB_train_fit3d_gt_cam_no_factor_input_from_canonical_3d_same_z_input_centering_tr_s03\n",
      "   3DHP-GT-CAM_NO_FACTOR-INPUT_FROM_3D_CANONICAL_SAME_Z-TEST_ALL_TRAIN\n",
      "   3DHP-GT-CAM_NO_FACTOR-INPUT_FROM_3D_CANONICAL_SAME_Z-TEST_TS1_6\n",
      "   H36M-GT-CAM_NO_FACTOR-INPUT_FROM_3D_CANONICAL_SAME_Z\n",
      "   H36M-GT-CAM_NO_FACTOR-INPUT_FROM_3D_CANONICAL_SAME_Z-TR_S1_TS_S5678\n",
      "   FIT3D-GT-CAM_NO_FACTOR-INPUT_FROM_3D_CANONICAL_SAME_Z-TR_S03\n",
      "MB_train_h36m_gt_with_canonical2_tr_s1_ts_s5678\n",
      "   H36M-GT\n",
      "   FIT3D-GT-ALL_TEST\n",
      "   H36M-GT-TR_S1_TS_S5678\n",
      "MB_train_h36m_gt_cam_no_factor_s15678_tr_54138969_ts_others\n",
      "   H36M-GT-CAM_NO_FACTOR-S15678_TR_54138969_TS_OTHERS\n",
      "MB_train_h36m_gt_cam_no_factor_tr_s1_ts_s5678\n",
      "   3DHP-GT-CAM_NO_FACTOR-TEST_TS1_6\n",
      "   H36M-GT-CAM_NO_FACTOR\n",
      "   3DHP-GT-CAM_NO_FACTOR-TEST_ALL_TRAIN\n",
      "   FIT3D-GT-CAM_NO_FACTOR-ALL_TEST\n",
      "   H36M-GT-CAM_NO_FACTOR-TR_S1_TS_S5678\n",
      "MB_train_h36m_gt_cam_no_factor_input_from_canonical_3d_same_z_tr_s1_ts_s5678\n",
      "   3DHP-GT-CAM_NO_FACTOR-INPUT_FROM_3D_CANONICAL_SAME_Z-TEST_ALL_TRAIN\n",
      "   3DHP-GT-CAM_NO_FACTOR-INPUT_FROM_3D_CANONICAL_SAME_Z-TEST_TS1_6\n",
      "   H36M-GT-CAM_NO_FACTOR-INPUT_FROM_3D_CANONICAL_SAME_Z\n",
      "   FIT3D-GT-CAM_NO_FACTOR-INPUT_FROM_3D_CANONICAL_SAME_Z-ALL_TEST\n",
      "   H36M-GT-CAM_NO_FACTOR-INPUT_FROM_3D_CANONICAL_SAME_Z-TR_S1_TS_S5678\n",
      "MB_train_h36m_gt_cam_no_factor_with_canonical2\n",
      "   3DHP-GT-CAM_NO_FACTOR-TEST_TS1_6\n",
      "   3DHP-GT-CAM_NO_FACTOR-TEST_ALL_TRAIN\n",
      "   FIT3D-GT-CAM_NO_FACTOR-ALL_TEST\n",
      "   H36M-GT-CAM_NO_FACTOR\n",
      "MB_train_fit3d_gt_cam_no_factor_with_canonical2_ts_s4710\n",
      "   3DHP-GT-CAM_NO_FACTOR-TEST_TS1_6\n",
      "   H36M-GT-CAM_NO_FACTOR\n",
      "   3DHP-GT-CAM_NO_FACTOR-TEST_ALL_TRAIN\n",
      "   H36M-GT-CAM_NO_FACTOR-TR_S1_TS_S5678\n",
      "   FIT3D-GT-CAM_NO_FACTOR-TS_S4710\n",
      "MB_train_fit3d_gt_cam_no_factor_ts_s4710\n",
      "   3DHP-GT-CAM_NO_FACTOR-TEST_TS1_6\n",
      "   H36M-GT-CAM_NO_FACTOR\n",
      "   3DHP-GT-CAM_NO_FACTOR-TEST_ALL_TRAIN\n",
      "   H36M-GT-CAM_NO_FACTOR-TR_S1_TS_S5678\n",
      "   FIT3D-GT-CAM_NO_FACTOR-TS_S4710\n",
      "MB_train_h36m_gt_cam_no_factor_input_from_canonical_3d_same_z_input_centering_tr_s1_ts_s5678\n",
      "   3DHP-GT-CAM_NO_FACTOR-INPUT_FROM_3D_CANONICAL_SAME_Z-TEST_ALL_TRAIN\n",
      "   3DHP-GT-CAM_NO_FACTOR-INPUT_FROM_3D_CANONICAL_SAME_Z-TEST_TS1_6\n",
      "   H36M-GT-CAM_NO_FACTOR-INPUT_FROM_3D_CANONICAL_SAME_Z\n",
      "   FIT3D-GT-CAM_NO_FACTOR-INPUT_FROM_3D_CANONICAL_SAME_Z-ALL_TEST\n",
      "   H36M-GT-CAM_NO_FACTOR-INPUT_FROM_3D_CANONICAL_SAME_Z-TR_S1_TS_S5678\n",
      "MB_train_h36m_gt_cam_no_factor_input_from_canonical_3d_same_z\n",
      "   3DHP-GT-CAM_NO_FACTOR-INPUT_FROM_3D_CANONICAL_SAME_Z-TEST_ALL_TRAIN\n",
      "   3DHP-GT-CAM_NO_FACTOR-INPUT_FROM_3D_CANONICAL_SAME_Z-TEST_TS1_6\n",
      "   FIT3D-GT-CAM_NO_FACTOR-INPUT_FROM_3D_CANONICAL_SAME_Z-ALL_TEST\n",
      "   H36M-GT-CAM_NO_FACTOR-INPUT_FROM_3D_CANONICAL_SAME_Z\n",
      "MB_train_fit3d_gt_cam_no_factor_input_from_canonical_3d_same_z_ts_s4710\n",
      "   3DHP-GT-CAM_NO_FACTOR-INPUT_FROM_3D_CANONICAL_SAME_Z-TEST_ALL_TRAIN\n",
      "   3DHP-GT-CAM_NO_FACTOR-INPUT_FROM_3D_CANONICAL_SAME_Z-TEST_TS1_6\n",
      "   H36M-GT-CAM_NO_FACTOR-INPUT_FROM_3D_CANONICAL_SAME_Z\n",
      "   H36M-GT-CAM_NO_FACTOR-INPUT_FROM_3D_CANONICAL_SAME_Z-TR_S1_TS_S5678\n",
      "   FIT3D-GT-CAM_NO_FACTOR-INPUT_FROM_3D_CANONICAL_SAME_Z-TS_S4710\n",
      "MB_train_fit3d_gt_ts_s4710\n",
      "   H36M-GT\n",
      "   H36M-GT-TR_S1_TS_S5678\n",
      "   FIT3D-GT-TS_S4710\n",
      "MB_train_fit3d_gt_cam_no_factor_tr_s03\n",
      "   3DHP-GT-CAM_NO_FACTOR-TEST_ALL_TRAIN\n",
      "   3DHP-GT-CAM_NO_FACTOR-TEST_TS1_6\n",
      "   H36M-GT-CAM_NO_FACTOR-TR_S1_TS_S5678\n",
      "   H36M-GT-CAM_NO_FACTOR\n",
      "   FIT3D-GT-CAM_NO_FACTOR-TR_S03\n",
      "MB_train_h36m_gt_cam_no_factor_with_canonical2_tr_s1_ts_s5678\n",
      "   3DHP-GT-CAM_NO_FACTOR-TEST_TS1_6\n",
      "   H36M-GT-CAM_NO_FACTOR\n",
      "   3DHP-GT-CAM_NO_FACTOR-TEST_ALL_TRAIN\n",
      "   FIT3D-GT-CAM_NO_FACTOR-ALL_TEST\n",
      "   H36M-GT-CAM_NO_FACTOR-TR_S1_TS_S5678\n",
      "MB_train_h36m_gt_tr_s1_ts_s5678\n",
      "   H36M-GT\n",
      "   FIT3D-GT-ALL_TEST\n",
      "   H36M-GT-TR_S1_TS_S5678\n",
      "MB_train_fit3d_gt_with_canonical2_ts_s4710\n",
      "   H36M-GT\n",
      "   H36M-GT-TR_S1_TS_S5678\n",
      "   FIT3D-GT-TS_S4710\n"
     ]
    }
   ],
   "source": [
    "# get test list from notion\n",
    "root = '/home/hrai/codes/MotionBERT/custom_codes/Inference_and_evaluation/experiments'\n",
    "if not os.path.isdir(root): os.makedirs(root)\n",
    "blacklist_keyword = ['PRED', 'POSEAUG', 'posynda', 'TS1_4']\n",
    "\n",
    "for key in experiment_list_pose3d:\n",
    "    if key not in model_dict: continue\n",
    "    if 'dist' in key: continue\n",
    "    model_ids = model_dict[key]\n",
    "    file_path = os.path.join(root, key + '.txt') \n",
    "    print(key)\n",
    "    with open(file_path, 'w') as file:\n",
    "        for model_id in model_ids:\n",
    "            page = pages_dict[model_id]\n",
    "            train = page['properties']['Train dataset']['select'] \n",
    "            test = page['properties']['Test dataset']['select']\n",
    "            # filtering - parent\n",
    "            if test == None: continue # parent\n",
    "            \n",
    "            # get child page's info\n",
    "            child_page = pages_dict[model_id]\n",
    "            child_properties = child_page['properties']\n",
    "            if len(child_properties['Name']['title']) == 0: continue\n",
    "            child_title = child_properties['Name']['title'][0]['text']['content']\n",
    "            child_canonical = child_properties['Canonical']['multi_select']\n",
    "            \n",
    "            # filtering - keyword\n",
    "            black = False\n",
    "            for keyword in blacklist_keyword:\n",
    "                if keyword in child_title: black = True\n",
    "            if black: continue\n",
    "            \n",
    "            # filtering - input_centering_only_test\n",
    "            input_centering_only_test = False\n",
    "            for item in child_canonical:\n",
    "                if 'only test' in item['name']:\n",
    "                    input_centering_only_test = True\n",
    "            if input_centering_only_test: continue\n",
    "            \n",
    "            # write to txt file\n",
    "            print('  ', child_title)\n",
    "            file.writelines(child_title+'\\n')"
   ]
  },
  {
   "cell_type": "code",
   "execution_count": 9,
   "metadata": {},
   "outputs": [
    {
     "name": "stdout",
     "output_type": "stream",
     "text": [
      "MB_train_h36m_gt_cam_no_factor_input_from_canonical_3d_same_z\n",
      "3DHP-GT-CAM_NO_FACTOR-INPUT_FROM_3D_CANONICAL_SAME_Z-TEST_ALL_TRAIN\n",
      "  3DHP-GT-CAM_NO_FACTOR-INPUT_FROM_3D_CANONICAL_SAME_Z-TEST_ALL_TRAIN already exists. Skip.\n",
      "3DHP-GT-CAM_NO_FACTOR-INPUT_FROM_3D_CANONICAL_SAME_Z-TEST_TS1_6\n",
      "  3DHP-GT-CAM_NO_FACTOR-INPUT_FROM_3D_CANONICAL_SAME_Z-TEST_TS1_6 already exists. Skip.\n",
      "FIT3D-GT-CAM_NO_FACTOR-INPUT_FROM_3D_CANONICAL_SAME_Z-ALL_TEST\n",
      "  FIT3D-GT-CAM_NO_FACTOR-INPUT_FROM_3D_CANONICAL_SAME_Z-ALL_TEST already exists. Skip.\n",
      "H36M-GT-CAM_NO_FACTOR-INPUT_FROM_3D_CANONICAL_SAME_Z\n",
      "  H36M-GT-CAM_NO_FACTOR-INPUT_FROM_3D_CANONICAL_SAME_Z already exists. Skip.\n",
      "MB_train_h36m_gt_cam_no_factor_input_from_canonical_3d_same_z_input_centering_tr_s1_ts_s5678\n",
      "3DHP-GT-CAM_NO_FACTOR-INPUT_FROM_3D_CANONICAL_SAME_Z-TEST_ALL_TRAIN\n",
      "  3DHP-GT-CAM_NO_FACTOR-INPUT_FROM_3D_CANONICAL_SAME_Z-TEST_ALL_TRAIN already exists. Skip.\n",
      "3DHP-GT-CAM_NO_FACTOR-INPUT_FROM_3D_CANONICAL_SAME_Z-TEST_TS1_6\n",
      "  3DHP-GT-CAM_NO_FACTOR-INPUT_FROM_3D_CANONICAL_SAME_Z-TEST_TS1_6 already exists. Skip.\n",
      "H36M-GT-CAM_NO_FACTOR-INPUT_FROM_3D_CANONICAL_SAME_Z\n",
      "  H36M-GT-CAM_NO_FACTOR-INPUT_FROM_3D_CANONICAL_SAME_Z already exists. Skip.\n",
      "FIT3D-GT-CAM_NO_FACTOR-INPUT_FROM_3D_CANONICAL_SAME_Z-ALL_TEST\n",
      "  FIT3D-GT-CAM_NO_FACTOR-INPUT_FROM_3D_CANONICAL_SAME_Z-ALL_TEST already exists. Skip.\n",
      "H36M-GT-CAM_NO_FACTOR-INPUT_FROM_3D_CANONICAL_SAME_Z-TR_S1_TS_S5678\n",
      "  H36M-GT-CAM_NO_FACTOR-INPUT_FROM_3D_CANONICAL_SAME_Z-TR_S1_TS_S5678 already exists. Skip.\n",
      "MB_train_fit3d_gt_cam_no_factor_input_from_canonical_3d_same_z_input_centering_ts_s4710\n",
      "3DHP-GT-CAM_NO_FACTOR-INPUT_FROM_3D_CANONICAL_SAME_Z-TEST_TS1_6\n",
      "  3DHP-GT-CAM_NO_FACTOR-INPUT_FROM_3D_CANONICAL_SAME_Z-TEST_TS1_6 already exists. Skip.\n",
      "3DHP-GT-CAM_NO_FACTOR-INPUT_FROM_3D_CANONICAL_SAME_Z-TEST_ALL_TRAIN\n",
      "  3DHP-GT-CAM_NO_FACTOR-INPUT_FROM_3D_CANONICAL_SAME_Z-TEST_ALL_TRAIN already exists. Skip.\n",
      "H36M-GT-CAM_NO_FACTOR-INPUT_FROM_3D_CANONICAL_SAME_Z-TR_S1_TS_S5678\n",
      "  H36M-GT-CAM_NO_FACTOR-INPUT_FROM_3D_CANONICAL_SAME_Z-TR_S1_TS_S5678 already exists. Skip.\n",
      "H36M-GT-CAM_NO_FACTOR-INPUT_FROM_3D_CANONICAL_SAME_Z\n",
      "  H36M-GT-CAM_NO_FACTOR-INPUT_FROM_3D_CANONICAL_SAME_Z already exists. Skip.\n",
      "FIT3D-GT-CAM_NO_FACTOR-INPUT_FROM_3D_CANONICAL_SAME_Z-TS_S4710\n",
      "  FIT3D-GT-CAM_NO_FACTOR-INPUT_FROM_3D_CANONICAL_SAME_Z-TS_S4710 already exists. Skip.\n",
      "MB_train_fit3d_gt_cam_no_factor_with_canonical2_ts_s4710\n",
      "3DHP-GT-CAM_NO_FACTOR-TEST_TS1_6\n",
      "  3DHP-GT-CAM_NO_FACTOR-TEST_TS1_6 already exists. Skip.\n",
      "H36M-GT-CAM_NO_FACTOR\n",
      "  H36M-GT-CAM_NO_FACTOR already exists. Skip.\n",
      "3DHP-GT-CAM_NO_FACTOR-TEST_ALL_TRAIN\n",
      "  3DHP-GT-CAM_NO_FACTOR-TEST_ALL_TRAIN already exists. Skip.\n",
      "H36M-GT-CAM_NO_FACTOR-TR_S1_TS_S5678\n",
      "  H36M-GT-CAM_NO_FACTOR-TR_S1_TS_S5678 already exists. Skip.\n",
      "FIT3D-GT-CAM_NO_FACTOR-TS_S4710\n",
      "  FIT3D-GT-CAM_NO_FACTOR-TS_S4710 already exists. Skip.\n",
      "MB_train_h36m_gt_cam_no_factor_input_from_canonical_3d_same_z_s15678_tr_54138969_ts_others\n",
      "   Failed to load model\n",
      "MB_train_h36m_gt_cam_no_factor_with_canonical2_tr_s1_ts_s5678\n",
      "3DHP-GT-CAM_NO_FACTOR-TEST_TS1_6\n",
      "  3DHP-GT-CAM_NO_FACTOR-TEST_TS1_6 already exists. Skip.\n",
      "H36M-GT-CAM_NO_FACTOR\n",
      "  H36M-GT-CAM_NO_FACTOR already exists. Skip.\n",
      "3DHP-GT-CAM_NO_FACTOR-TEST_ALL_TRAIN\n",
      "   cam_3d True 3dhp_gt_test_all_train.pkl\n",
      "Loading dataset...\n",
      "3DHP-GT-CAM_NO_FACTOR-TEST_ALL_TRAIN\n",
      "3DHP\n",
      "INFO: Testing\n",
      "No epoch information in the checkpoint\n"
     ]
    },
    {
     "name": "stderr",
     "output_type": "stream",
     "text": [
      "100%|██████████| 315/315 [01:44<00:00,  3.01it/s]\n"
     ]
    },
    {
     "name": "stdout",
     "output_type": "stream",
     "text": [
      "315\n",
      "No eval_keypoint. Use part list\n",
      "Part: whole\n",
      "Protocol #1 Error (MPJPE): 136.88930776475334 mm\n",
      "Protocol #2 Error (P-MPJPE): 79.20120409830288 mm\n",
      "----------------------------------------\n",
      "FIT3D-GT-CAM_NO_FACTOR-ALL_TEST\n",
      "  FIT3D-GT-CAM_NO_FACTOR-ALL_TEST already exists. Skip.\n",
      "H36M-GT-CAM_NO_FACTOR-TR_S1_TS_S5678\n",
      "  H36M-GT-CAM_NO_FACTOR-TR_S1_TS_S5678 already exists. Skip.\n",
      "MB_train_fit3d_gt_cam_no_factor_input_from_canonical_3d_same_z_ts_s4710\n",
      "3DHP-GT-CAM_NO_FACTOR-INPUT_FROM_3D_CANONICAL_SAME_Z-TEST_ALL_TRAIN\n",
      "  3DHP-GT-CAM_NO_FACTOR-INPUT_FROM_3D_CANONICAL_SAME_Z-TEST_ALL_TRAIN already exists. Skip.\n",
      "3DHP-GT-CAM_NO_FACTOR-INPUT_FROM_3D_CANONICAL_SAME_Z-TEST_TS1_6\n",
      "  3DHP-GT-CAM_NO_FACTOR-INPUT_FROM_3D_CANONICAL_SAME_Z-TEST_TS1_6 already exists. Skip.\n",
      "H36M-GT-CAM_NO_FACTOR-INPUT_FROM_3D_CANONICAL_SAME_Z\n",
      "  H36M-GT-CAM_NO_FACTOR-INPUT_FROM_3D_CANONICAL_SAME_Z already exists. Skip.\n",
      "H36M-GT-CAM_NO_FACTOR-INPUT_FROM_3D_CANONICAL_SAME_Z-TR_S1_TS_S5678\n",
      "  H36M-GT-CAM_NO_FACTOR-INPUT_FROM_3D_CANONICAL_SAME_Z-TR_S1_TS_S5678 already exists. Skip.\n",
      "FIT3D-GT-CAM_NO_FACTOR-INPUT_FROM_3D_CANONICAL_SAME_Z-TS_S4710\n",
      "  FIT3D-GT-CAM_NO_FACTOR-INPUT_FROM_3D_CANONICAL_SAME_Z-TS_S4710 already exists. Skip.\n",
      "MB_train_h36m_gt_with_canonical2_tr_s1_ts_s5678\n",
      "H36M-GT\n",
      "  H36M-GT already exists. Skip.\n",
      "FIT3D-GT-ALL_TEST\n",
      "  FIT3D-GT-ALL_TEST already exists. Skip.\n",
      "H36M-GT-TR_S1_TS_S5678\n",
      "  H36M-GT-TR_S1_TS_S5678 already exists. Skip.\n",
      "MB_ft_h36m\n",
      "H36M-SH\n",
      "  H36M-SH already exists. Skip.\n",
      "MB_train_fit3d_gt_with_canonical2_ts_s4710\n",
      "H36M-GT\n",
      "  H36M-GT already exists. Skip.\n",
      "H36M-GT-TR_S1_TS_S5678\n",
      "  H36M-GT-TR_S1_TS_S5678 already exists. Skip.\n",
      "FIT3D-GT-TS_S4710\n",
      "  FIT3D-GT-TS_S4710 already exists. Skip.\n",
      "MB_train_fit3d_gt_cam_no_factor_input_from_canonical_3d_same_z_tr_s03\n",
      "3DHP-GT-CAM_NO_FACTOR-INPUT_FROM_3D_CANONICAL_SAME_Z-TEST_ALL_TRAIN\n",
      "  3DHP-GT-CAM_NO_FACTOR-INPUT_FROM_3D_CANONICAL_SAME_Z-TEST_ALL_TRAIN already exists. Skip.\n",
      "3DHP-GT-CAM_NO_FACTOR-INPUT_FROM_3D_CANONICAL_SAME_Z-TEST_TS1_6\n",
      "  3DHP-GT-CAM_NO_FACTOR-INPUT_FROM_3D_CANONICAL_SAME_Z-TEST_TS1_6 already exists. Skip.\n",
      "H36M-GT-CAM_NO_FACTOR-INPUT_FROM_3D_CANONICAL_SAME_Z-TR_S1_TS_S5678\n",
      "  H36M-GT-CAM_NO_FACTOR-INPUT_FROM_3D_CANONICAL_SAME_Z-TR_S1_TS_S5678 already exists. Skip.\n",
      "H36M-GT-CAM_NO_FACTOR-INPUT_FROM_3D_CANONICAL_SAME_Z\n",
      "  H36M-GT-CAM_NO_FACTOR-INPUT_FROM_3D_CANONICAL_SAME_Z already exists. Skip.\n",
      "FIT3D-GT-CAM_NO_FACTOR-INPUT_FROM_3D_CANONICAL_SAME_Z-TR_S03\n",
      "  FIT3D-GT-CAM_NO_FACTOR-INPUT_FROM_3D_CANONICAL_SAME_Z-TR_S03 already exists. Skip.\n",
      "MB_train_h36m_gt_cam_no_factor_with_canonical2\n",
      "3DHP-GT-CAM_NO_FACTOR-TEST_TS1_6\n",
      "  3DHP-GT-CAM_NO_FACTOR-TEST_TS1_6 already exists. Skip.\n",
      "3DHP-GT-CAM_NO_FACTOR-TEST_ALL_TRAIN\n",
      "  3DHP-GT-CAM_NO_FACTOR-TEST_ALL_TRAIN already exists. Skip.\n",
      "FIT3D-GT-CAM_NO_FACTOR-ALL_TEST\n",
      "  FIT3D-GT-CAM_NO_FACTOR-ALL_TEST already exists. Skip.\n",
      "H36M-GT-CAM_NO_FACTOR\n",
      "  H36M-GT-CAM_NO_FACTOR already exists. Skip.\n",
      "MB_train_h36m_gt\n",
      "FIT3D-GT-ALL_TEST\n",
      "  FIT3D-GT-ALL_TEST already exists. Skip.\n",
      "H36M-GT\n",
      "  H36M-GT already exists. Skip.\n",
      "MB_train_h36m_gt_cam_no_factor_s15678_tr_54138969_ts_others\n",
      "H36M-GT-CAM_NO_FACTOR-S15678_TR_54138969_TS_OTHERS\n",
      "  H36M-GT-CAM_NO_FACTOR-S15678_TR_54138969_TS_OTHERS already exists. Skip.\n",
      "MB_train_h36m_gt_cam_no_factor_input_from_canonical_3d_same_z_input_centering\n",
      "3DHP-GT-CAM_NO_FACTOR-INPUT_FROM_3D_CANONICAL_SAME_Z-TEST_ALL_TRAIN\n",
      "  3DHP-GT-CAM_NO_FACTOR-INPUT_FROM_3D_CANONICAL_SAME_Z-TEST_ALL_TRAIN already exists. Skip.\n",
      "3DHP-GT-CAM_NO_FACTOR-INPUT_FROM_3D_CANONICAL_SAME_Z-TEST_TS1_6\n",
      "  3DHP-GT-CAM_NO_FACTOR-INPUT_FROM_3D_CANONICAL_SAME_Z-TEST_TS1_6 already exists. Skip.\n",
      "FIT3D-GT-CAM_NO_FACTOR-INPUT_FROM_3D_CANONICAL_SAME_Z-ALL_TEST\n",
      "  FIT3D-GT-CAM_NO_FACTOR-INPUT_FROM_3D_CANONICAL_SAME_Z-ALL_TEST already exists. Skip.\n",
      "H36M-GT-CAM_NO_FACTOR-INPUT_FROM_3D_CANONICAL_SAME_Z\n",
      "  H36M-GT-CAM_NO_FACTOR-INPUT_FROM_3D_CANONICAL_SAME_Z already exists. Skip.\n",
      "MB_train_h36m_gt_tr_s1_ts_s5678\n",
      "H36M-GT\n",
      "  H36M-GT already exists. Skip.\n",
      "FIT3D-GT-ALL_TEST\n",
      "  FIT3D-GT-ALL_TEST already exists. Skip.\n",
      "H36M-GT-TR_S1_TS_S5678\n",
      "  H36M-GT-TR_S1_TS_S5678 already exists. Skip.\n",
      "MB_train_h36m_with_canonical2\n",
      "FIT3D-GT-ALL_TEST\n",
      "  FIT3D-GT-ALL_TEST already exists. Skip.\n",
      "H36M-SH\n",
      "  H36M-SH already exists. Skip.\n",
      "MB_train_h36m_gt_cam_no_factor_with_canonical2_norm_input_scale\n",
      "3DHP-GT-CAM_NO_FACTOR-TEST_TS1_6\n",
      "  3DHP-GT-CAM_NO_FACTOR-TEST_TS1_6 already exists. Skip.\n",
      "3DHP-GT-CAM_NO_FACTOR-TEST_ALL_TRAIN\n",
      "  3DHP-GT-CAM_NO_FACTOR-TEST_ALL_TRAIN already exists. Skip.\n",
      "FIT3D-GT-CAM_NO_FACTOR-ALL_TEST\n",
      "  FIT3D-GT-CAM_NO_FACTOR-ALL_TEST already exists. Skip.\n",
      "H36M-GT-CAM_NO_FACTOR\n",
      "  H36M-GT-CAM_NO_FACTOR already exists. Skip.\n",
      "MB_train_h36m_gt_cam_no_factor\n",
      "3DHP-GT-CAM_NO_FACTOR-TEST_TS1_6\n",
      "  3DHP-GT-CAM_NO_FACTOR-TEST_TS1_6 already exists. Skip.\n",
      "FIT3D-GT-CAM_NO_FACTOR-ALL_TEST\n",
      "  FIT3D-GT-CAM_NO_FACTOR-ALL_TEST already exists. Skip.\n",
      "3DHP-GT-CAM_NO_FACTOR-TEST_ALL_TRAIN\n",
      "  3DHP-GT-CAM_NO_FACTOR-TEST_ALL_TRAIN already exists. Skip.\n",
      "H36M-GT-CAM_NO_FACTOR\n",
      "  H36M-GT-CAM_NO_FACTOR already exists. Skip.\n",
      "MB_train_h36m_gt_cam_no_factor_tr_s1_ts_s5678\n",
      "3DHP-GT-CAM_NO_FACTOR-TEST_TS1_6\n",
      "  3DHP-GT-CAM_NO_FACTOR-TEST_TS1_6 already exists. Skip.\n",
      "H36M-GT-CAM_NO_FACTOR\n",
      "  H36M-GT-CAM_NO_FACTOR already exists. Skip.\n",
      "3DHP-GT-CAM_NO_FACTOR-TEST_ALL_TRAIN\n",
      "  3DHP-GT-CAM_NO_FACTOR-TEST_ALL_TRAIN already exists. Skip.\n",
      "FIT3D-GT-CAM_NO_FACTOR-ALL_TEST\n",
      "  FIT3D-GT-CAM_NO_FACTOR-ALL_TEST already exists. Skip.\n",
      "H36M-GT-CAM_NO_FACTOR-TR_S1_TS_S5678\n",
      "  H36M-GT-CAM_NO_FACTOR-TR_S1_TS_S5678 already exists. Skip.\n",
      "MB_train_fit3d_gt_cam_no_factor_ts_s4710\n",
      "3DHP-GT-CAM_NO_FACTOR-TEST_TS1_6\n",
      "  3DHP-GT-CAM_NO_FACTOR-TEST_TS1_6 already exists. Skip.\n",
      "H36M-GT-CAM_NO_FACTOR\n",
      "  H36M-GT-CAM_NO_FACTOR already exists. Skip.\n",
      "3DHP-GT-CAM_NO_FACTOR-TEST_ALL_TRAIN\n",
      "  3DHP-GT-CAM_NO_FACTOR-TEST_ALL_TRAIN already exists. Skip.\n",
      "H36M-GT-CAM_NO_FACTOR-TR_S1_TS_S5678\n",
      "  H36M-GT-CAM_NO_FACTOR-TR_S1_TS_S5678 already exists. Skip.\n",
      "FIT3D-GT-CAM_NO_FACTOR-TS_S4710\n",
      "  FIT3D-GT-CAM_NO_FACTOR-TS_S4710 already exists. Skip.\n",
      "MB_train_h36m_gt_with_canonical2\n",
      "FIT3D-GT-ALL_TEST\n",
      "  FIT3D-GT-ALL_TEST already exists. Skip.\n",
      "H36M-GT\n",
      "  H36M-GT already exists. Skip.\n",
      "MB_train_h36m_gt_cam_no_factor_input_from_canonical_3d_same_z_tr_s1_ts_s5678\n",
      "3DHP-GT-CAM_NO_FACTOR-INPUT_FROM_3D_CANONICAL_SAME_Z-TEST_ALL_TRAIN\n",
      "  3DHP-GT-CAM_NO_FACTOR-INPUT_FROM_3D_CANONICAL_SAME_Z-TEST_ALL_TRAIN already exists. Skip.\n",
      "3DHP-GT-CAM_NO_FACTOR-INPUT_FROM_3D_CANONICAL_SAME_Z-TEST_TS1_6\n",
      "  3DHP-GT-CAM_NO_FACTOR-INPUT_FROM_3D_CANONICAL_SAME_Z-TEST_TS1_6 already exists. Skip.\n",
      "H36M-GT-CAM_NO_FACTOR-INPUT_FROM_3D_CANONICAL_SAME_Z\n",
      "  H36M-GT-CAM_NO_FACTOR-INPUT_FROM_3D_CANONICAL_SAME_Z already exists. Skip.\n",
      "FIT3D-GT-CAM_NO_FACTOR-INPUT_FROM_3D_CANONICAL_SAME_Z-ALL_TEST\n",
      "  FIT3D-GT-CAM_NO_FACTOR-INPUT_FROM_3D_CANONICAL_SAME_Z-ALL_TEST already exists. Skip.\n",
      "H36M-GT-CAM_NO_FACTOR-INPUT_FROM_3D_CANONICAL_SAME_Z-TR_S1_TS_S5678\n",
      "  H36M-GT-CAM_NO_FACTOR-INPUT_FROM_3D_CANONICAL_SAME_Z-TR_S1_TS_S5678 already exists. Skip.\n",
      "MB_train_h36m\n",
      "H36M-SH\n",
      "  H36M-SH already exists. Skip.\n",
      "FIT3D-GT_ALL_TEST\n",
      "  Not found in dt_file_mapping\n",
      "FIT3D-GT-ALL_TRAIN_EXCEPT_TARGET_ACTION\n",
      "  Not found in dt_file_mapping\n",
      "H36M-SH\n",
      "  H36M-SH already exists. Skip.\n",
      "MB_train_h36m_gt_world_no_factor\n",
      "H36M-GT-WORLD_NO_FACTOR\n",
      "  H36M-GT-WORLD_NO_FACTOR already exists. Skip.\n",
      "MB_train_fit3d_gt_cam_no_factor_tr_s03\n",
      "3DHP-GT-CAM_NO_FACTOR-TEST_ALL_TRAIN\n",
      "  3DHP-GT-CAM_NO_FACTOR-TEST_ALL_TRAIN already exists. Skip.\n",
      "3DHP-GT-CAM_NO_FACTOR-TEST_TS1_6\n",
      "  3DHP-GT-CAM_NO_FACTOR-TEST_TS1_6 already exists. Skip.\n",
      "H36M-GT-CAM_NO_FACTOR-TR_S1_TS_S5678\n",
      "  H36M-GT-CAM_NO_FACTOR-TR_S1_TS_S5678 already exists. Skip.\n",
      "H36M-GT-CAM_NO_FACTOR\n",
      "  H36M-GT-CAM_NO_FACTOR already exists. Skip.\n",
      "FIT3D-GT-CAM_NO_FACTOR-TR_S03\n",
      "  Not found in dt_file_mapping\n",
      "MB_train_fit3d_gt_cam_no_factor_input_from_canonical_3d_same_z_input_centering_tr_s03\n",
      "3DHP-GT-CAM_NO_FACTOR-INPUT_FROM_3D_CANONICAL_SAME_Z-TEST_ALL_TRAIN\n",
      "  3DHP-GT-CAM_NO_FACTOR-INPUT_FROM_3D_CANONICAL_SAME_Z-TEST_ALL_TRAIN already exists. Skip.\n",
      "3DHP-GT-CAM_NO_FACTOR-INPUT_FROM_3D_CANONICAL_SAME_Z-TEST_TS1_6\n",
      "  3DHP-GT-CAM_NO_FACTOR-INPUT_FROM_3D_CANONICAL_SAME_Z-TEST_TS1_6 already exists. Skip.\n",
      "H36M-GT-CAM_NO_FACTOR-INPUT_FROM_3D_CANONICAL_SAME_Z\n",
      "  H36M-GT-CAM_NO_FACTOR-INPUT_FROM_3D_CANONICAL_SAME_Z already exists. Skip.\n",
      "H36M-GT-CAM_NO_FACTOR-INPUT_FROM_3D_CANONICAL_SAME_Z-TR_S1_TS_S5678\n",
      "  H36M-GT-CAM_NO_FACTOR-INPUT_FROM_3D_CANONICAL_SAME_Z-TR_S1_TS_S5678 already exists. Skip.\n",
      "FIT3D-GT-CAM_NO_FACTOR-INPUT_FROM_3D_CANONICAL_SAME_Z-TR_S03\n",
      "  FIT3D-GT-CAM_NO_FACTOR-INPUT_FROM_3D_CANONICAL_SAME_Z-TR_S03 already exists. Skip.\n",
      "MB_train_fit3d_gt_ts_s4710\n",
      "H36M-GT\n",
      "  H36M-GT already exists. Skip.\n",
      "H36M-GT-TR_S1_TS_S5678\n",
      "  H36M-GT-TR_S1_TS_S5678 already exists. Skip.\n",
      "FIT3D-GT-TS_S4710\n",
      "  FIT3D-GT-TS_S4710 already exists. Skip.\n"
     ]
    }
   ],
   "source": [
    "root = f'/home/{user}/codes/MotionBERT/custom_codes/Inference_and_evaluation/experiments'\n",
    "config_root = 'configs/pose3d/'\n",
    "checkpoint_root = 'checkpoint/pose3d/'\n",
    "result_root = f'/home/{user}/codes/MotionBERT/custom_codes/Inference_and_evaluation/experiment_results'\n",
    "if not os.path.isdir(result_root): os.makedirs(result_root)\n",
    "\n",
    "#pbar = tqdm(glob(root+'/*.txt'))\n",
    "for item in glob(root+'/*.txt'):\n",
    "    model_name = os.path.basename(item).split('.')[0]\n",
    "    print(f'[{model_name}]')\n",
    "    config = model_name + '.yaml'\n",
    "    input_args = ['--config', config_root+config, '--evaluate', checkpoint_root+model_name+'/best_epoch.bin']\n",
    "    args, opts = get_opts_args(input_args, verbose=False)\n",
    "    args.print_summary_table = False\n",
    "    #print(args)\n",
    "    try:\n",
    "        model_pos, chk_filename, checkpoint = load_model(opts, args, verbose=False)\n",
    "    except:\n",
    "        print('  ', 'Failed to load model')\n",
    "        continue\n",
    "    \n",
    "    with open(item, 'r') as file:\n",
    "        for line in file:\n",
    "            subset = line.strip()\n",
    "            print(subset)\n",
    "            result_path = os.path.join(result_root, model_name+'/'+subset+'.pkl')\n",
    "            if os.path.exists(result_path): \n",
    "                print(f'  {subset} already exists. Skip.')\n",
    "                continue\n",
    "            args.subset_list = [subset]\n",
    "            try:\n",
    "                args.dt_file = dt_file_mapping[args.subset_list[0]]+'.pkl'\n",
    "            except:\n",
    "                print('  Not found in dt_file_mapping')\n",
    "                continue\n",
    "            print('  ', args.gt_mode, args.canonical, args.dt_file)\n",
    "            train_loader_3d, test_loader, posetrack_loader_2d, instav_loader_2d, datareader = load_dataset(args)\n",
    "\n",
    "            e1, e2, results_all, inputs_all, gts_all, total_result_dict = evaluate(args, model_pos, test_loader, datareader, checkpoint, only_one_batch=False)\n",
    "            results_dict = {'total_result_dict': total_result_dict}\n",
    "            savepkl(results_dict, result_path)\n",
    "            \n",
    "            del train_loader_3d, test_loader, posetrack_loader_2d, instav_loader_2d, datareader\n",
    "            \n",
    "    #pbar.set_postfix({'checkpoint': model_name})\n",
    "    del model_pos, chk_filename, checkpoint, \n",
    "        \n"
   ]
  },
  {
   "cell_type": "code",
   "execution_count": 5,
   "metadata": {},
   "outputs": [],
   "source": [
    "# root = '/home/hrai/codes/MotionBERT/custom_codes/Inference_and_evaluation/experiments'\n",
    "# if not os.path.isdir(root): os.makedirs(root)\n",
    "\n",
    "# sort_by_dataset = {}\n",
    "\n",
    "# for item in glob(root+'/*.txt'):\n",
    "#     model_name = os.path.basename(item).split('.')[0]\n",
    "#     with open(item, 'r') as file:\n",
    "#         for line in file:\n",
    "#             subset = line.strip()\n",
    "#             if subset not in sort_by_dataset:\n",
    "#                 sort_by_dataset[subset] = [model_name]\n",
    "#             else:\n",
    "#                 sort_by_dataset[subset].append(model_name)"
   ]
  },
  {
   "cell_type": "code",
   "execution_count": 7,
   "metadata": {},
   "outputs": [
    {
     "name": "stdout",
     "output_type": "stream",
     "text": [
      "[MB_train_h36m_gt_cam_no_factor_input_from_canonical_3d_same_z]\n",
      "3DHP-GT-CAM_NO_FACTOR-INPUT_FROM_3D_CANONICAL_SAME_Z-TEST_ALL_TRAIN\n",
      "   cam_3d False 3dhp_gt_canonical_3d_same_z_test_all_train.pkl\n",
      "Loading dataset...\n",
      "3DHP-GT-CAM_NO_FACTOR-INPUT_FROM_3D_CANONICAL_SAME_Z-TEST_ALL_TRAIN\n",
      "3DHP\n",
      "INFO: Testing\n",
      "No epoch information in the checkpoint\n"
     ]
    },
    {
     "name": "stderr",
     "output_type": "stream",
     "text": [
      "100%|██████████| 245/245 [01:31<00:00,  2.68it/s]\n"
     ]
    },
    {
     "name": "stdout",
     "output_type": "stream",
     "text": [
      "245\n",
      "No eval_keypoint. Use part list\n",
      "Part: whole\n",
      "Protocol #1 Error (MPJPE): 81.18003820347094 mm\n",
      "Protocol #2 Error (P-MPJPE): 61.67712901148742 mm\n",
      "----------------------------------------\n",
      "3DHP-GT-CAM_NO_FACTOR-INPUT_FROM_3D_CANONICAL_SAME_Z-TEST_TS1_6\n",
      "   cam_3d False 3dhp_gt_test_canonical_3d_from_same_z_TS1_6.pkl\n",
      "Loading dataset...\n",
      "3DHP-GT-CAM_NO_FACTOR-INPUT_FROM_3D_CANONICAL_SAME_Z-TEST_TS1_6\n",
      "3DHP\n",
      "INFO: Testing\n",
      "No epoch information in the checkpoint\n"
     ]
    },
    {
     "name": "stderr",
     "output_type": "stream",
     "text": [
      "100%|██████████| 7/7 [00:03<00:00,  2.14it/s]\n"
     ]
    },
    {
     "name": "stdout",
     "output_type": "stream",
     "text": [
      "7\n",
      "No eval_keypoint. Use part list\n",
      "Part: whole\n",
      "Protocol #1 Error (MPJPE): 207.6668245334016 mm\n",
      "Protocol #2 Error (P-MPJPE): 116.36014974158832 mm\n",
      "----------------------------------------\n",
      "FIT3D-GT-CAM_NO_FACTOR-INPUT_FROM_3D_CANONICAL_SAME_Z-ALL_TEST\n",
      "   cam_3d False fit3d_gt_canonical_3d_same_z_all_test.pkl\n",
      "Loading dataset...\n",
      "FIT3D-GT-CAM_NO_FACTOR-INPUT_FROM_3D_CANONICAL_SAME_Z-ALL_TEST\n",
      "FIT3D\n",
      "INFO: Testing\n",
      "No epoch information in the checkpoint\n"
     ]
    },
    {
     "name": "stderr",
     "output_type": "stream",
     "text": [
      "100%|██████████| 411/411 [02:28<00:00,  2.76it/s]\n"
     ]
    },
    {
     "name": "stdout",
     "output_type": "stream",
     "text": [
      "411\n",
      "No eval_keypoint. Use part list\n",
      "Part: whole\n",
      "Protocol #1 Error (MPJPE): 146.7177317263629 mm\n",
      "Protocol #2 Error (P-MPJPE): 98.16799223279406 mm\n",
      "----------------------------------------\n",
      "H36M-GT-CAM_NO_FACTOR-INPUT_FROM_3D_CANONICAL_SAME_Z\n",
      "   cam_3d False h36m_gt_canonical_3d_same_z.pkl\n",
      "Loading dataset...\n",
      "H36M-GT-CAM_NO_FACTOR-INPUT_FROM_3D_CANONICAL_SAME_Z\n",
      "H36M\n",
      "INFO: Testing\n",
      "No epoch information in the checkpoint\n"
     ]
    },
    {
     "name": "stderr",
     "output_type": "stream",
     "text": [
      "100%|██████████| 133/133 [00:49<00:00,  2.70it/s]\n"
     ]
    },
    {
     "name": "stdout",
     "output_type": "stream",
     "text": [
      "133\n",
      "No eval_keypoint. Use part list\n",
      "Part: whole\n",
      "Protocol #1 Error (MPJPE): 21.54135065986778 mm\n",
      "Protocol #2 Error (P-MPJPE): 16.544079269192594 mm\n",
      "----------------------------------------\n",
      "[MB_train_h36m_gt_cam_no_factor_input_from_canonical_3d_same_z_input_centering_tr_s1_ts_s5678]\n",
      "3DHP-GT-CAM_NO_FACTOR-INPUT_FROM_3D_CANONICAL_SAME_Z-TEST_ALL_TRAIN\n",
      "   cam_3d True 3dhp_gt_canonical_3d_same_z_test_all_train.pkl\n",
      "Loading dataset...\n",
      "3DHP-GT-CAM_NO_FACTOR-INPUT_FROM_3D_CANONICAL_SAME_Z-TEST_ALL_TRAIN\n",
      "3DHP\n",
      "INFO: Testing\n",
      "No epoch information in the checkpoint\n"
     ]
    },
    {
     "name": "stderr",
     "output_type": "stream",
     "text": [
      "100%|██████████| 245/245 [01:29<00:00,  2.75it/s]\n"
     ]
    },
    {
     "name": "stdout",
     "output_type": "stream",
     "text": [
      "245\n",
      "No eval_keypoint. Use part list\n",
      "Part: whole\n",
      "Protocol #1 Error (MPJPE): 97.36701998271087 mm\n",
      "Protocol #2 Error (P-MPJPE): 70.62052103984023 mm\n",
      "----------------------------------------\n",
      "3DHP-GT-CAM_NO_FACTOR-INPUT_FROM_3D_CANONICAL_SAME_Z-TEST_TS1_6\n",
      "   cam_3d True 3dhp_gt_test_canonical_3d_from_same_z_TS1_6.pkl\n",
      "Loading dataset...\n",
      "3DHP-GT-CAM_NO_FACTOR-INPUT_FROM_3D_CANONICAL_SAME_Z-TEST_TS1_6\n",
      "3DHP\n",
      "INFO: Testing\n",
      "No epoch information in the checkpoint\n"
     ]
    },
    {
     "name": "stderr",
     "output_type": "stream",
     "text": [
      "100%|██████████| 7/7 [00:03<00:00,  2.17it/s]\n"
     ]
    },
    {
     "name": "stdout",
     "output_type": "stream",
     "text": [
      "7\n",
      "No eval_keypoint. Use part list\n",
      "Part: whole\n",
      "Protocol #1 Error (MPJPE): 94.22808856355114 mm\n",
      "Protocol #2 Error (P-MPJPE): 69.05058355968828 mm\n",
      "----------------------------------------\n",
      "H36M-GT-CAM_NO_FACTOR-INPUT_FROM_3D_CANONICAL_SAME_Z\n",
      "   cam_3d True h36m_gt_canonical_3d_same_z.pkl\n",
      "Loading dataset...\n",
      "H36M-GT-CAM_NO_FACTOR-INPUT_FROM_3D_CANONICAL_SAME_Z\n",
      "H36M\n",
      "INFO: Testing\n",
      "No epoch information in the checkpoint\n"
     ]
    },
    {
     "name": "stderr",
     "output_type": "stream",
     "text": [
      "100%|██████████| 133/133 [00:49<00:00,  2.69it/s]\n"
     ]
    },
    {
     "name": "stdout",
     "output_type": "stream",
     "text": [
      "133\n",
      "No eval_keypoint. Use part list\n",
      "Part: whole\n",
      "Protocol #1 Error (MPJPE): 42.91350019377336 mm\n",
      "Protocol #2 Error (P-MPJPE): 29.24739894972622 mm\n",
      "----------------------------------------\n",
      "FIT3D-GT-CAM_NO_FACTOR-INPUT_FROM_3D_CANONICAL_SAME_Z-ALL_TEST\n",
      "   cam_3d True fit3d_gt_canonical_3d_same_z_all_test.pkl\n",
      "Loading dataset...\n",
      "FIT3D-GT-CAM_NO_FACTOR-INPUT_FROM_3D_CANONICAL_SAME_Z-ALL_TEST\n",
      "FIT3D\n",
      "INFO: Testing\n",
      "No epoch information in the checkpoint\n"
     ]
    },
    {
     "name": "stderr",
     "output_type": "stream",
     "text": [
      "100%|██████████| 411/411 [02:28<00:00,  2.77it/s]\n"
     ]
    },
    {
     "name": "stdout",
     "output_type": "stream",
     "text": [
      "411\n",
      "No eval_keypoint. Use part list\n",
      "Part: whole\n",
      "Protocol #1 Error (MPJPE): 126.90733532502026 mm\n",
      "Protocol #2 Error (P-MPJPE): 81.25122900618967 mm\n",
      "----------------------------------------\n",
      "H36M-GT-CAM_NO_FACTOR-INPUT_FROM_3D_CANONICAL_SAME_Z-TR_S1_TS_S5678\n",
      "   cam_3d True h36m_gt_canonical_3d_same_z_tr_s1_ts_s5678.pkl\n",
      "Loading dataset...\n",
      "H36M-GT-CAM_NO_FACTOR-INPUT_FROM_3D_CANONICAL_SAME_Z-TR_S1_TS_S5678\n",
      "H36M\n",
      "INFO: Testing\n",
      "No epoch information in the checkpoint\n"
     ]
    },
    {
     "name": "stderr",
     "output_type": "stream",
     "text": [
      "100%|██████████| 323/323 [01:56<00:00,  2.78it/s]\n"
     ]
    },
    {
     "name": "stdout",
     "output_type": "stream",
     "text": [
      "323\n",
      "No eval_keypoint. Use part list\n",
      "Part: whole\n",
      "Protocol #1 Error (MPJPE): 40.82208481934132 mm\n",
      "Protocol #2 Error (P-MPJPE): 27.58350000828275 mm\n",
      "----------------------------------------\n",
      "[MB_train_fit3d_gt_cam_no_factor_input_from_canonical_3d_same_z_input_centering_ts_s4710]\n",
      "3DHP-GT-CAM_NO_FACTOR-INPUT_FROM_3D_CANONICAL_SAME_Z-TEST_TS1_6\n",
      "   cam_3d True 3dhp_gt_test_canonical_3d_from_same_z_TS1_6.pkl\n",
      "Loading dataset...\n",
      "3DHP-GT-CAM_NO_FACTOR-INPUT_FROM_3D_CANONICAL_SAME_Z-TEST_TS1_6\n",
      "3DHP\n",
      "INFO: Testing\n",
      "No epoch information in the checkpoint\n"
     ]
    },
    {
     "name": "stderr",
     "output_type": "stream",
     "text": [
      "100%|██████████| 7/7 [00:03<00:00,  2.13it/s]\n"
     ]
    },
    {
     "name": "stdout",
     "output_type": "stream",
     "text": [
      "7\n",
      "No eval_keypoint. Use part list\n",
      "Part: whole\n",
      "Protocol #1 Error (MPJPE): 138.0678350625157 mm\n",
      "Protocol #2 Error (P-MPJPE): 102.51189418167239 mm\n",
      "----------------------------------------\n",
      "3DHP-GT-CAM_NO_FACTOR-INPUT_FROM_3D_CANONICAL_SAME_Z-TEST_ALL_TRAIN\n",
      "   cam_3d True 3dhp_gt_canonical_3d_same_z_test_all_train.pkl\n",
      "Loading dataset...\n",
      "3DHP-GT-CAM_NO_FACTOR-INPUT_FROM_3D_CANONICAL_SAME_Z-TEST_ALL_TRAIN\n",
      "3DHP\n",
      "INFO: Testing\n",
      "No epoch information in the checkpoint\n"
     ]
    },
    {
     "name": "stderr",
     "output_type": "stream",
     "text": [
      "100%|██████████| 245/245 [01:29<00:00,  2.75it/s]\n"
     ]
    },
    {
     "name": "stdout",
     "output_type": "stream",
     "text": [
      "245\n",
      "No eval_keypoint. Use part list\n",
      "Part: whole\n",
      "Protocol #1 Error (MPJPE): 157.20629450441348 mm\n",
      "Protocol #2 Error (P-MPJPE): 111.64870594255444 mm\n",
      "----------------------------------------\n",
      "H36M-GT-CAM_NO_FACTOR-INPUT_FROM_3D_CANONICAL_SAME_Z-TR_S1_TS_S5678\n",
      "   cam_3d True h36m_gt_canonical_3d_same_z_tr_s1_ts_s5678.pkl\n",
      "Loading dataset...\n",
      "H36M-GT-CAM_NO_FACTOR-INPUT_FROM_3D_CANONICAL_SAME_Z-TR_S1_TS_S5678\n",
      "H36M\n",
      "INFO: Testing\n",
      "No epoch information in the checkpoint\n"
     ]
    },
    {
     "name": "stderr",
     "output_type": "stream",
     "text": [
      "100%|██████████| 323/323 [01:56<00:00,  2.76it/s]\n"
     ]
    },
    {
     "name": "stdout",
     "output_type": "stream",
     "text": [
      "323\n",
      "No eval_keypoint. Use part list\n",
      "Part: whole\n",
      "Protocol #1 Error (MPJPE): 101.71105443250113 mm\n",
      "Protocol #2 Error (P-MPJPE): 79.09338980084331 mm\n",
      "----------------------------------------\n",
      "H36M-GT-CAM_NO_FACTOR-INPUT_FROM_3D_CANONICAL_SAME_Z\n",
      "   cam_3d True h36m_gt_canonical_3d_same_z.pkl\n",
      "Loading dataset...\n",
      "H36M-GT-CAM_NO_FACTOR-INPUT_FROM_3D_CANONICAL_SAME_Z\n",
      "H36M\n",
      "INFO: Testing\n",
      "No epoch information in the checkpoint\n"
     ]
    },
    {
     "name": "stderr",
     "output_type": "stream",
     "text": [
      "100%|██████████| 133/133 [00:49<00:00,  2.71it/s]\n"
     ]
    },
    {
     "name": "stdout",
     "output_type": "stream",
     "text": [
      "133\n",
      "No eval_keypoint. Use part list\n",
      "Part: whole\n",
      "Protocol #1 Error (MPJPE): 107.95716399158135 mm\n",
      "Protocol #2 Error (P-MPJPE): 84.99706616662311 mm\n",
      "----------------------------------------\n",
      "FIT3D-GT-CAM_NO_FACTOR-INPUT_FROM_3D_CANONICAL_SAME_Z-TS_S4710\n",
      "   cam_3d True fit3d_gt_canonical_3d_same_z_ts_s4710.pkl\n",
      "Loading dataset...\n",
      "FIT3D-GT-CAM_NO_FACTOR-INPUT_FROM_3D_CANONICAL_SAME_Z-TS_S4710\n",
      "FIT3D\n",
      "INFO: Testing\n",
      "No epoch information in the checkpoint\n"
     ]
    },
    {
     "name": "stderr",
     "output_type": "stream",
     "text": [
      "100%|██████████| 157/157 [00:57<00:00,  2.73it/s]\n"
     ]
    },
    {
     "name": "stdout",
     "output_type": "stream",
     "text": [
      "157\n",
      "No eval_keypoint. Use part list\n",
      "Part: whole\n",
      "Protocol #1 Error (MPJPE): 25.670176824077263 mm\n",
      "Protocol #2 Error (P-MPJPE): 15.3978662317442 mm\n",
      "----------------------------------------\n",
      "[MB_train_fit3d_gt_cam_no_factor_with_canonical2_ts_s4710]\n",
      "3DHP-GT-CAM_NO_FACTOR-TEST_TS1_6\n",
      "   cam_3d True 3dhp_gt_test_TS1_6.pkl\n",
      "Loading dataset...\n",
      "3DHP-GT-CAM_NO_FACTOR-TEST_TS1_6\n",
      "3DHP\n",
      "INFO: Testing\n",
      "No epoch information in the checkpoint\n"
     ]
    },
    {
     "name": "stderr",
     "output_type": "stream",
     "text": [
      "100%|██████████| 7/7 [00:03<00:00,  2.06it/s]\n"
     ]
    },
    {
     "name": "stdout",
     "output_type": "stream",
     "text": [
      "7\n",
      "No eval_keypoint. Use part list\n",
      "Part: whole\n",
      "Protocol #1 Error (MPJPE): 155.26704443550997 mm\n",
      "Protocol #2 Error (P-MPJPE): 100.86525652873411 mm\n",
      "----------------------------------------\n",
      "H36M-GT-CAM_NO_FACTOR\n",
      "   cam_3d True h36m_gt.pkl\n",
      "Loading dataset...\n",
      "H36M-GT-CAM_NO_FACTOR\n",
      "H36M\n",
      "INFO: Testing\n",
      "No epoch information in the checkpoint\n"
     ]
    },
    {
     "name": "stderr",
     "output_type": "stream",
     "text": [
      "100%|██████████| 133/133 [00:49<00:00,  2.70it/s]\n"
     ]
    },
    {
     "name": "stdout",
     "output_type": "stream",
     "text": [
      "133\n",
      "No eval_keypoint. Use part list\n",
      "Part: whole\n",
      "Protocol #1 Error (MPJPE): 114.60572216035735 mm\n",
      "Protocol #2 Error (P-MPJPE): 81.8754082720003 mm\n",
      "----------------------------------------\n",
      "3DHP-GT-CAM_NO_FACTOR-TEST_ALL_TRAIN\n",
      "   cam_3d True 3dhp_gt_test_all_train.pkl\n",
      "Loading dataset...\n",
      "3DHP-GT-CAM_NO_FACTOR-TEST_ALL_TRAIN\n",
      "3DHP\n",
      "INFO: Testing\n",
      "No epoch information in the checkpoint\n"
     ]
    },
    {
     "name": "stderr",
     "output_type": "stream",
     "text": [
      "100%|██████████| 315/315 [01:53<00:00,  2.78it/s]\n"
     ]
    },
    {
     "name": "stdout",
     "output_type": "stream",
     "text": [
      "315\n",
      "No eval_keypoint. Use part list\n",
      "Part: whole\n",
      "Protocol #1 Error (MPJPE): 185.1635442429275 mm\n",
      "Protocol #2 Error (P-MPJPE): 113.65795346553533 mm\n",
      "----------------------------------------\n",
      "H36M-GT-CAM_NO_FACTOR-TR_S1_TS_S5678\n",
      "   cam_3d True h36m_gt_tr_s1_ts_s5678.pkl\n",
      "Loading dataset...\n",
      "H36M-GT-CAM_NO_FACTOR-TR_S1_TS_S5678\n",
      "H36M\n",
      "INFO: Testing\n",
      "No epoch information in the checkpoint\n"
     ]
    },
    {
     "name": "stderr",
     "output_type": "stream",
     "text": [
      "100%|██████████| 323/323 [01:56<00:00,  2.77it/s]\n"
     ]
    },
    {
     "name": "stdout",
     "output_type": "stream",
     "text": [
      "323\n",
      "No eval_keypoint. Use part list\n",
      "Part: whole\n",
      "Protocol #1 Error (MPJPE): 106.07073968656255 mm\n",
      "Protocol #2 Error (P-MPJPE): 75.75401048167174 mm\n",
      "----------------------------------------\n",
      "FIT3D-GT-CAM_NO_FACTOR-TS_S4710\n",
      "   cam_3d True fit3d_gt_ts_s4710.pkl\n",
      "Loading dataset...\n",
      "FIT3D-GT-CAM_NO_FACTOR-TS_S4710\n",
      "FIT3D\n",
      "INFO: Testing\n",
      "No epoch information in the checkpoint\n"
     ]
    },
    {
     "name": "stderr",
     "output_type": "stream",
     "text": [
      "100%|██████████| 157/157 [00:58<00:00,  2.68it/s]\n"
     ]
    },
    {
     "name": "stdout",
     "output_type": "stream",
     "text": [
      "157\n",
      "No eval_keypoint. Use part list\n",
      "Part: whole\n",
      "Protocol #1 Error (MPJPE): 24.926007503512576 mm\n",
      "Protocol #2 Error (P-MPJPE): 14.196668804312207 mm\n",
      "----------------------------------------\n",
      "[MB_train_h36m_gt_cam_no_factor_input_from_canonical_3d_same_z_s15678_tr_54138969_ts_others]\n",
      "   Failed to load model\n",
      "[MB_train_h36m_gt_cam_no_factor_with_canonical2_tr_s1_ts_s5678]\n",
      "3DHP-GT-CAM_NO_FACTOR-TEST_TS1_6\n",
      "   cam_3d True 3dhp_gt_test_TS1_6.pkl\n",
      "Loading dataset...\n",
      "3DHP-GT-CAM_NO_FACTOR-TEST_TS1_6\n",
      "3DHP\n",
      "INFO: Testing\n",
      "No epoch information in the checkpoint\n"
     ]
    },
    {
     "name": "stderr",
     "output_type": "stream",
     "text": [
      "100%|██████████| 7/7 [00:03<00:00,  2.04it/s]\n"
     ]
    },
    {
     "name": "stdout",
     "output_type": "stream",
     "text": [
      "7\n",
      "No eval_keypoint. Use part list\n",
      "Part: whole\n",
      "Protocol #1 Error (MPJPE): 116.20229483474947 mm\n",
      "Protocol #2 Error (P-MPJPE): 71.11860953786622 mm\n",
      "----------------------------------------\n",
      "H36M-GT-CAM_NO_FACTOR\n",
      "   cam_3d True h36m_gt.pkl\n",
      "Loading dataset...\n",
      "H36M-GT-CAM_NO_FACTOR\n",
      "H36M\n",
      "INFO: Testing\n",
      "No epoch information in the checkpoint\n"
     ]
    },
    {
     "name": "stderr",
     "output_type": "stream",
     "text": [
      "100%|██████████| 133/133 [00:49<00:00,  2.71it/s]\n"
     ]
    },
    {
     "name": "stdout",
     "output_type": "stream",
     "text": [
      "133\n",
      "No eval_keypoint. Use part list\n",
      "Part: whole\n",
      "Protocol #1 Error (MPJPE): 48.01831958500593 mm\n",
      "Protocol #2 Error (P-MPJPE): 31.126032580488936 mm\n",
      "----------------------------------------\n",
      "3DHP-GT-CAM_NO_FACTOR-TEST_ALL_TRAIN\n",
      "   cam_3d True 3dhp_gt_test_all_train.pkl\n",
      "Loading dataset...\n",
      "3DHP-GT-CAM_NO_FACTOR-TEST_ALL_TRAIN\n",
      "3DHP\n",
      "INFO: Testing\n",
      "No epoch information in the checkpoint\n"
     ]
    },
    {
     "name": "stderr",
     "output_type": "stream",
     "text": [
      "100%|██████████| 315/315 [01:53<00:00,  2.77it/s]\n"
     ]
    },
    {
     "name": "stdout",
     "output_type": "stream",
     "text": [
      "315\n",
      "No eval_keypoint. Use part list\n",
      "Part: whole\n",
      "Protocol #1 Error (MPJPE): 136.88930776475334 mm\n",
      "Protocol #2 Error (P-MPJPE): 79.20120409830288 mm\n",
      "----------------------------------------\n",
      "FIT3D-GT-CAM_NO_FACTOR-ALL_TEST\n",
      "   cam_3d True fit3d_gt_all_test.pkl\n",
      "Loading dataset...\n",
      "FIT3D-GT-CAM_NO_FACTOR-ALL_TEST\n",
      "FIT3D\n",
      "INFO: Testing\n",
      "No epoch information in the checkpoint\n"
     ]
    },
    {
     "name": "stderr",
     "output_type": "stream",
     "text": [
      "100%|██████████| 411/411 [02:28<00:00,  2.77it/s]\n"
     ]
    },
    {
     "name": "stdout",
     "output_type": "stream",
     "text": [
      "411\n",
      "No eval_keypoint. Use part list\n",
      "Part: whole\n",
      "Protocol #1 Error (MPJPE): 368.8071984369322 mm\n",
      "Protocol #2 Error (P-MPJPE): 189.65276623907351 mm\n",
      "----------------------------------------\n",
      "H36M-GT-CAM_NO_FACTOR-TR_S1_TS_S5678\n",
      "   cam_3d True h36m_gt_tr_s1_ts_s5678.pkl\n",
      "Loading dataset...\n",
      "H36M-GT-CAM_NO_FACTOR-TR_S1_TS_S5678\n",
      "H36M\n",
      "INFO: Testing\n",
      "No epoch information in the checkpoint\n"
     ]
    },
    {
     "name": "stderr",
     "output_type": "stream",
     "text": [
      "100%|██████████| 323/323 [01:56<00:00,  2.77it/s]\n"
     ]
    },
    {
     "name": "stdout",
     "output_type": "stream",
     "text": [
      "323\n",
      "No eval_keypoint. Use part list\n",
      "Part: whole\n",
      "Protocol #1 Error (MPJPE): 47.006609879655 mm\n",
      "Protocol #2 Error (P-MPJPE): 30.258148452856535 mm\n",
      "----------------------------------------\n",
      "[MB_train_fit3d_gt_cam_no_factor_input_from_canonical_3d_same_z_ts_s4710]\n",
      "3DHP-GT-CAM_NO_FACTOR-INPUT_FROM_3D_CANONICAL_SAME_Z-TEST_ALL_TRAIN\n",
      "   cam_3d False 3dhp_gt_canonical_3d_same_z_test_all_train.pkl\n",
      "Loading dataset...\n",
      "3DHP-GT-CAM_NO_FACTOR-INPUT_FROM_3D_CANONICAL_SAME_Z-TEST_ALL_TRAIN\n",
      "3DHP\n",
      "INFO: Testing\n",
      "No epoch information in the checkpoint\n"
     ]
    },
    {
     "name": "stderr",
     "output_type": "stream",
     "text": [
      "100%|██████████| 245/245 [01:29<00:00,  2.74it/s]\n"
     ]
    },
    {
     "name": "stdout",
     "output_type": "stream",
     "text": [
      "245\n",
      "No eval_keypoint. Use part list\n",
      "Part: whole\n",
      "Protocol #1 Error (MPJPE): 159.63254423458233 mm\n",
      "Protocol #2 Error (P-MPJPE): 117.19093838946702 mm\n",
      "----------------------------------------\n",
      "3DHP-GT-CAM_NO_FACTOR-INPUT_FROM_3D_CANONICAL_SAME_Z-TEST_TS1_6\n",
      "   cam_3d False 3dhp_gt_test_canonical_3d_from_same_z_TS1_6.pkl\n",
      "Loading dataset...\n",
      "3DHP-GT-CAM_NO_FACTOR-INPUT_FROM_3D_CANONICAL_SAME_Z-TEST_TS1_6\n",
      "3DHP\n",
      "INFO: Testing\n",
      "No epoch information in the checkpoint\n"
     ]
    },
    {
     "name": "stderr",
     "output_type": "stream",
     "text": [
      "100%|██████████| 7/7 [00:03<00:00,  2.12it/s]\n"
     ]
    },
    {
     "name": "stdout",
     "output_type": "stream",
     "text": [
      "7\n",
      "No eval_keypoint. Use part list\n",
      "Part: whole\n",
      "Protocol #1 Error (MPJPE): 288.42498424901873 mm\n",
      "Protocol #2 Error (P-MPJPE): 154.1666187013536 mm\n",
      "----------------------------------------\n",
      "H36M-GT-CAM_NO_FACTOR-INPUT_FROM_3D_CANONICAL_SAME_Z\n",
      "   cam_3d False h36m_gt_canonical_3d_same_z.pkl\n",
      "Loading dataset...\n",
      "H36M-GT-CAM_NO_FACTOR-INPUT_FROM_3D_CANONICAL_SAME_Z\n",
      "H36M\n",
      "INFO: Testing\n",
      "No epoch information in the checkpoint\n"
     ]
    },
    {
     "name": "stderr",
     "output_type": "stream",
     "text": [
      "100%|██████████| 133/133 [00:49<00:00,  2.69it/s]\n"
     ]
    },
    {
     "name": "stdout",
     "output_type": "stream",
     "text": [
      "133\n",
      "No eval_keypoint. Use part list\n",
      "Part: whole\n",
      "Protocol #1 Error (MPJPE): 113.0167189525361 mm\n",
      "Protocol #2 Error (P-MPJPE): 84.69291473505932 mm\n",
      "----------------------------------------\n",
      "H36M-GT-CAM_NO_FACTOR-INPUT_FROM_3D_CANONICAL_SAME_Z-TR_S1_TS_S5678\n",
      "   cam_3d False h36m_gt_canonical_3d_same_z_tr_s1_ts_s5678.pkl\n",
      "Loading dataset...\n",
      "H36M-GT-CAM_NO_FACTOR-INPUT_FROM_3D_CANONICAL_SAME_Z-TR_S1_TS_S5678\n",
      "H36M\n",
      "INFO: Testing\n",
      "No epoch information in the checkpoint\n"
     ]
    },
    {
     "name": "stderr",
     "output_type": "stream",
     "text": [
      "100%|██████████| 323/323 [01:56<00:00,  2.77it/s]\n"
     ]
    },
    {
     "name": "stdout",
     "output_type": "stream",
     "text": [
      "323\n",
      "No eval_keypoint. Use part list\n",
      "Part: whole\n",
      "Protocol #1 Error (MPJPE): 108.61701026068107 mm\n",
      "Protocol #2 Error (P-MPJPE): 79.195556173265 mm\n",
      "----------------------------------------\n",
      "FIT3D-GT-CAM_NO_FACTOR-INPUT_FROM_3D_CANONICAL_SAME_Z-TS_S4710\n",
      "   cam_3d False fit3d_gt_canonical_3d_same_z_ts_s4710.pkl\n",
      "Loading dataset...\n",
      "FIT3D-GT-CAM_NO_FACTOR-INPUT_FROM_3D_CANONICAL_SAME_Z-TS_S4710\n",
      "FIT3D\n",
      "INFO: Testing\n",
      "No epoch information in the checkpoint\n"
     ]
    },
    {
     "name": "stderr",
     "output_type": "stream",
     "text": [
      "100%|██████████| 157/157 [00:58<00:00,  2.71it/s]\n"
     ]
    },
    {
     "name": "stdout",
     "output_type": "stream",
     "text": [
      "157\n",
      "No eval_keypoint. Use part list\n",
      "Part: whole\n",
      "Protocol #1 Error (MPJPE): 30.49342568672998 mm\n",
      "Protocol #2 Error (P-MPJPE): 14.499630065911719 mm\n",
      "----------------------------------------\n",
      "[MB_train_h36m_gt_with_canonical2_tr_s1_ts_s5678]\n",
      "H36M-GT\n",
      "   joint3d_image True h36m_gt.pkl\n",
      "Loading dataset...\n",
      "H36M-GT\n",
      "H36M\n",
      "INFO: Testing\n",
      "No epoch information in the checkpoint\n"
     ]
    },
    {
     "name": "stderr",
     "output_type": "stream",
     "text": [
      "100%|██████████| 133/133 [00:49<00:00,  2.71it/s]\n"
     ]
    },
    {
     "name": "stdout",
     "output_type": "stream",
     "text": [
      "133\n",
      "No eval_keypoint. Use part list\n",
      "Part: whole\n",
      "Protocol #1 Error (MPJPE): 42.006180728360675 mm\n",
      "Protocol #2 Error (P-MPJPE): 32.968668148705504 mm\n",
      "----------------------------------------\n",
      "FIT3D-GT-ALL_TEST\n",
      "   joint3d_image True fit3d_gt_all_test.pkl\n",
      "Loading dataset...\n",
      "FIT3D-GT-ALL_TEST\n",
      "FIT3D\n",
      "INFO: Testing\n",
      "No epoch information in the checkpoint\n"
     ]
    },
    {
     "name": "stderr",
     "output_type": "stream",
     "text": [
      "100%|██████████| 411/411 [02:29<00:00,  2.76it/s]\n"
     ]
    },
    {
     "name": "stdout",
     "output_type": "stream",
     "text": [
      "411\n",
      "No eval_keypoint. Use part list\n",
      "Part: whole\n",
      "Protocol #1 Error (MPJPE): 374.4610500621311 mm\n",
      "Protocol #2 Error (P-MPJPE): 190.11392581519766 mm\n",
      "----------------------------------------\n",
      "H36M-GT-TR_S1_TS_S5678\n",
      "   joint3d_image True h36m_gt_tr_s1_ts_s5678.pkl\n",
      "Loading dataset...\n",
      "H36M-GT-TR_S1_TS_S5678\n",
      "H36M\n",
      "INFO: Testing\n",
      "No epoch information in the checkpoint\n"
     ]
    },
    {
     "name": "stderr",
     "output_type": "stream",
     "text": [
      "100%|██████████| 323/323 [01:55<00:00,  2.80it/s]\n"
     ]
    },
    {
     "name": "stdout",
     "output_type": "stream",
     "text": [
      "323\n",
      "No eval_keypoint. Use part list\n",
      "Part: whole\n",
      "Protocol #1 Error (MPJPE): 42.57012588632832 mm\n",
      "Protocol #2 Error (P-MPJPE): 32.59998625920867 mm\n",
      "----------------------------------------\n",
      "[MB_ft_h36m]\n",
      "H36M-SH\n",
      "   joint3d_image False h36m_sh_conf_cam_source_final.pkl\n",
      "Loading dataset...\n",
      "H36M-SH\n",
      "H36M\n",
      "INFO: Testing\n",
      "No epoch information in the checkpoint\n"
     ]
    },
    {
     "name": "stderr",
     "output_type": "stream",
     "text": [
      "100%|██████████| 140/140 [00:51<00:00,  2.74it/s]\n"
     ]
    },
    {
     "name": "stdout",
     "output_type": "stream",
     "text": [
      "140\n",
      "No eval_keypoint. Use part list\n",
      "Part: whole\n",
      "Protocol #1 Error (MPJPE): 37.17861901665581 mm\n",
      "Protocol #2 Error (P-MPJPE): 31.772567670605994 mm\n",
      "----------------------------------------\n",
      "[MB_train_fit3d_gt_with_canonical2_ts_s4710]\n",
      "H36M-GT\n",
      "   joint3d_image True h36m_gt.pkl\n",
      "Loading dataset...\n",
      "H36M-GT\n",
      "H36M\n",
      "INFO: Testing\n",
      "No epoch information in the checkpoint\n"
     ]
    },
    {
     "name": "stderr",
     "output_type": "stream",
     "text": [
      "100%|██████████| 133/133 [00:48<00:00,  2.72it/s]\n"
     ]
    },
    {
     "name": "stdout",
     "output_type": "stream",
     "text": [
      "133\n",
      "No eval_keypoint. Use part list\n",
      "Part: whole\n",
      "Protocol #1 Error (MPJPE): 113.18552862741318 mm\n",
      "Protocol #2 Error (P-MPJPE): 87.61710999793456 mm\n",
      "----------------------------------------\n",
      "H36M-GT-TR_S1_TS_S5678\n",
      "   joint3d_image True h36m_gt_tr_s1_ts_s5678.pkl\n",
      "Loading dataset...\n",
      "H36M-GT-TR_S1_TS_S5678\n",
      "H36M\n",
      "INFO: Testing\n",
      "No epoch information in the checkpoint\n"
     ]
    },
    {
     "name": "stderr",
     "output_type": "stream",
     "text": [
      "100%|██████████| 323/323 [01:57<00:00,  2.76it/s]\n"
     ]
    },
    {
     "name": "stdout",
     "output_type": "stream",
     "text": [
      "323\n",
      "No eval_keypoint. Use part list\n",
      "Part: whole\n",
      "Protocol #1 Error (MPJPE): 105.70311904680425 mm\n",
      "Protocol #2 Error (P-MPJPE): 80.24275126382281 mm\n",
      "----------------------------------------\n",
      "FIT3D-GT-TS_S4710\n",
      "   joint3d_image True fit3d_gt_ts_s4710.pkl\n",
      "Loading dataset...\n",
      "FIT3D-GT-TS_S4710\n",
      "FIT3D\n",
      "INFO: Testing\n",
      "No epoch information in the checkpoint\n"
     ]
    },
    {
     "name": "stderr",
     "output_type": "stream",
     "text": [
      "100%|██████████| 157/157 [00:57<00:00,  2.72it/s]\n"
     ]
    },
    {
     "name": "stdout",
     "output_type": "stream",
     "text": [
      "157\n",
      "No eval_keypoint. Use part list\n",
      "Part: whole\n",
      "Protocol #1 Error (MPJPE): 19.608903758573806 mm\n",
      "Protocol #2 Error (P-MPJPE): 13.713194049309122 mm\n",
      "----------------------------------------\n",
      "[MB_train_fit3d_gt_cam_no_factor_input_from_canonical_3d_same_z_tr_s03]\n",
      "3DHP-GT-CAM_NO_FACTOR-INPUT_FROM_3D_CANONICAL_SAME_Z-TEST_ALL_TRAIN\n",
      "   cam_3d False 3dhp_gt_canonical_3d_same_z_test_all_train.pkl\n",
      "Loading dataset...\n",
      "3DHP-GT-CAM_NO_FACTOR-INPUT_FROM_3D_CANONICAL_SAME_Z-TEST_ALL_TRAIN\n",
      "3DHP\n",
      "INFO: Testing\n",
      "No epoch information in the checkpoint\n"
     ]
    },
    {
     "name": "stderr",
     "output_type": "stream",
     "text": [
      "100%|██████████| 245/245 [01:28<00:00,  2.76it/s]\n"
     ]
    },
    {
     "name": "stdout",
     "output_type": "stream",
     "text": [
      "245\n",
      "No eval_keypoint. Use part list\n",
      "Part: whole\n",
      "Protocol #1 Error (MPJPE): 175.80364725953407 mm\n",
      "Protocol #2 Error (P-MPJPE): 128.03828305934067 mm\n",
      "----------------------------------------\n",
      "3DHP-GT-CAM_NO_FACTOR-INPUT_FROM_3D_CANONICAL_SAME_Z-TEST_TS1_6\n",
      "   cam_3d False 3dhp_gt_test_canonical_3d_from_same_z_TS1_6.pkl\n",
      "Loading dataset...\n",
      "3DHP-GT-CAM_NO_FACTOR-INPUT_FROM_3D_CANONICAL_SAME_Z-TEST_TS1_6\n",
      "3DHP\n",
      "INFO: Testing\n",
      "No epoch information in the checkpoint\n"
     ]
    },
    {
     "name": "stderr",
     "output_type": "stream",
     "text": [
      "100%|██████████| 7/7 [00:03<00:00,  2.16it/s]\n"
     ]
    },
    {
     "name": "stdout",
     "output_type": "stream",
     "text": [
      "7\n",
      "No eval_keypoint. Use part list\n",
      "Part: whole\n",
      "Protocol #1 Error (MPJPE): 288.14665236830007 mm\n",
      "Protocol #2 Error (P-MPJPE): 158.8811425578452 mm\n",
      "----------------------------------------\n",
      "H36M-GT-CAM_NO_FACTOR-INPUT_FROM_3D_CANONICAL_SAME_Z-TR_S1_TS_S5678\n",
      "   cam_3d False h36m_gt_canonical_3d_same_z_tr_s1_ts_s5678.pkl\n",
      "Loading dataset...\n",
      "H36M-GT-CAM_NO_FACTOR-INPUT_FROM_3D_CANONICAL_SAME_Z-TR_S1_TS_S5678\n",
      "H36M\n",
      "INFO: Testing\n",
      "No epoch information in the checkpoint\n"
     ]
    },
    {
     "name": "stderr",
     "output_type": "stream",
     "text": [
      "100%|██████████| 323/323 [01:56<00:00,  2.77it/s]\n"
     ]
    },
    {
     "name": "stdout",
     "output_type": "stream",
     "text": [
      "323\n",
      "No eval_keypoint. Use part list\n",
      "Part: whole\n",
      "Protocol #1 Error (MPJPE): 148.7897155604036 mm\n",
      "Protocol #2 Error (P-MPJPE): 101.74228288641488 mm\n",
      "----------------------------------------\n",
      "H36M-GT-CAM_NO_FACTOR-INPUT_FROM_3D_CANONICAL_SAME_Z\n",
      "   cam_3d False h36m_gt_canonical_3d_same_z.pkl\n",
      "Loading dataset...\n",
      "H36M-GT-CAM_NO_FACTOR-INPUT_FROM_3D_CANONICAL_SAME_Z\n",
      "H36M\n",
      "INFO: Testing\n",
      "No epoch information in the checkpoint\n"
     ]
    },
    {
     "name": "stderr",
     "output_type": "stream",
     "text": [
      "100%|██████████| 133/133 [00:49<00:00,  2.69it/s]\n"
     ]
    },
    {
     "name": "stdout",
     "output_type": "stream",
     "text": [
      "133\n",
      "No eval_keypoint. Use part list\n",
      "Part: whole\n",
      "Protocol #1 Error (MPJPE): 148.70430748128962 mm\n",
      "Protocol #2 Error (P-MPJPE): 105.89219883840137 mm\n",
      "----------------------------------------\n",
      "FIT3D-GT-CAM_NO_FACTOR-INPUT_FROM_3D_CANONICAL_SAME_Z-TR_S03\n",
      "   cam_3d False fit3d_gt_canonical_3d_same_z_tr_s03.pkl\n",
      "Loading dataset...\n",
      "FIT3D-GT-CAM_NO_FACTOR-INPUT_FROM_3D_CANONICAL_SAME_Z-TR_S03\n",
      "FIT3D\n",
      "INFO: Testing\n",
      "No epoch information in the checkpoint\n"
     ]
    },
    {
     "name": "stderr",
     "output_type": "stream",
     "text": [
      "100%|██████████| 358/358 [02:09<00:00,  2.76it/s]\n"
     ]
    },
    {
     "name": "stdout",
     "output_type": "stream",
     "text": [
      "358\n",
      "No eval_keypoint. Use part list\n",
      "Part: whole\n",
      "Protocol #1 Error (MPJPE): 46.42527172540022 mm\n",
      "Protocol #2 Error (P-MPJPE): 27.424743733776687 mm\n",
      "----------------------------------------\n",
      "[MB_train_h36m_gt_cam_no_factor_with_canonical2]\n",
      "3DHP-GT-CAM_NO_FACTOR-TEST_TS1_6\n",
      "   cam_3d True 3dhp_gt_test_TS1_6.pkl\n",
      "Loading dataset...\n",
      "3DHP-GT-CAM_NO_FACTOR-TEST_TS1_6\n",
      "3DHP\n",
      "INFO: Testing\n",
      "No epoch information in the checkpoint\n"
     ]
    },
    {
     "name": "stderr",
     "output_type": "stream",
     "text": [
      "100%|██████████| 7/7 [00:03<00:00,  2.04it/s]\n"
     ]
    },
    {
     "name": "stdout",
     "output_type": "stream",
     "text": [
      "7\n",
      "No eval_keypoint. Use part list\n",
      "Part: whole\n",
      "Protocol #1 Error (MPJPE): 108.92455255866814 mm\n",
      "Protocol #2 Error (P-MPJPE): 57.63536558478365 mm\n",
      "----------------------------------------\n",
      "3DHP-GT-CAM_NO_FACTOR-TEST_ALL_TRAIN\n",
      "   cam_3d True 3dhp_gt_test_all_train.pkl\n",
      "Loading dataset...\n",
      "3DHP-GT-CAM_NO_FACTOR-TEST_ALL_TRAIN\n",
      "3DHP\n",
      "INFO: Testing\n",
      "No epoch information in the checkpoint\n"
     ]
    },
    {
     "name": "stderr",
     "output_type": "stream",
     "text": [
      "100%|██████████| 315/315 [01:53<00:00,  2.77it/s]\n"
     ]
    },
    {
     "name": "stdout",
     "output_type": "stream",
     "text": [
      "315\n",
      "No eval_keypoint. Use part list\n",
      "Part: whole\n",
      "Protocol #1 Error (MPJPE): 121.15879294746617 mm\n",
      "Protocol #2 Error (P-MPJPE): 65.87995306727804 mm\n",
      "----------------------------------------\n",
      "FIT3D-GT-CAM_NO_FACTOR-ALL_TEST\n",
      "   cam_3d True fit3d_gt_all_test.pkl\n",
      "Loading dataset...\n",
      "FIT3D-GT-CAM_NO_FACTOR-ALL_TEST\n",
      "FIT3D\n",
      "INFO: Testing\n",
      "No epoch information in the checkpoint\n"
     ]
    },
    {
     "name": "stderr",
     "output_type": "stream",
     "text": [
      "100%|██████████| 411/411 [02:29<00:00,  2.75it/s]\n"
     ]
    },
    {
     "name": "stdout",
     "output_type": "stream",
     "text": [
      "411\n",
      "No eval_keypoint. Use part list\n",
      "Part: whole\n",
      "Protocol #1 Error (MPJPE): 391.9368437892233 mm\n",
      "Protocol #2 Error (P-MPJPE): 191.13843467079298 mm\n",
      "----------------------------------------\n",
      "H36M-GT-CAM_NO_FACTOR\n",
      "   cam_3d True h36m_gt.pkl\n",
      "Loading dataset...\n",
      "H36M-GT-CAM_NO_FACTOR\n",
      "H36M\n",
      "INFO: Testing\n",
      "No epoch information in the checkpoint\n"
     ]
    },
    {
     "name": "stderr",
     "output_type": "stream",
     "text": [
      "100%|██████████| 133/133 [00:49<00:00,  2.70it/s]\n"
     ]
    },
    {
     "name": "stdout",
     "output_type": "stream",
     "text": [
      "133\n",
      "No eval_keypoint. Use part list\n",
      "Part: whole\n",
      "Protocol #1 Error (MPJPE): 26.05046136274862 mm\n",
      "Protocol #2 Error (P-MPJPE): 16.17950924722012 mm\n",
      "----------------------------------------\n",
      "[MB_train_h36m_gt]\n",
      "FIT3D-GT-ALL_TEST\n",
      "   joint3d_image False fit3d_gt_all_test.pkl\n",
      "Loading dataset...\n",
      "FIT3D-GT-ALL_TEST\n",
      "FIT3D\n",
      "INFO: Testing\n",
      "No epoch information in the checkpoint\n"
     ]
    },
    {
     "name": "stderr",
     "output_type": "stream",
     "text": [
      "100%|██████████| 411/411 [02:27<00:00,  2.78it/s]\n"
     ]
    },
    {
     "name": "stdout",
     "output_type": "stream",
     "text": [
      "411\n",
      "No eval_keypoint. Use part list\n",
      "Part: whole\n",
      "Protocol #1 Error (MPJPE): 391.9870397736858 mm\n",
      "Protocol #2 Error (P-MPJPE): 200.4219249367356 mm\n",
      "----------------------------------------\n",
      "H36M-GT\n",
      "   joint3d_image False h36m_gt.pkl\n",
      "Loading dataset...\n",
      "H36M-GT\n",
      "H36M\n",
      "INFO: Testing\n",
      "No epoch information in the checkpoint\n"
     ]
    },
    {
     "name": "stderr",
     "output_type": "stream",
     "text": [
      "100%|██████████| 133/133 [00:49<00:00,  2.68it/s]\n"
     ]
    },
    {
     "name": "stdout",
     "output_type": "stream",
     "text": [
      "133\n",
      "No eval_keypoint. Use part list\n",
      "Part: whole\n",
      "Protocol #1 Error (MPJPE): 17.73533858954261 mm\n",
      "Protocol #2 Error (P-MPJPE): 15.052750199088985 mm\n",
      "----------------------------------------\n",
      "[MB_train_h36m_gt_cam_no_factor_s15678_tr_54138969_ts_others]\n",
      "H36M-GT-CAM_NO_FACTOR-S15678_TR_54138969_TS_OTHERS\n",
      "   cam_3d False h36m_gt_s15678_tr_54138969_ts_others.pkl\n",
      "Loading dataset...\n",
      "H36M-GT-CAM_NO_FACTOR-S15678_TR_54138969_TS_OTHERS\n",
      "H36M\n",
      "INFO: Testing\n",
      "No epoch information in the checkpoint\n"
     ]
    },
    {
     "name": "stderr",
     "output_type": "stream",
     "text": [
      "100%|██████████| 287/287 [01:43<00:00,  2.77it/s]\n"
     ]
    },
    {
     "name": "stdout",
     "output_type": "stream",
     "text": [
      "287\n",
      "No eval_keypoint. Use part list\n",
      "Part: whole\n",
      "Protocol #1 Error (MPJPE): 73.54586588217609 mm\n",
      "Protocol #2 Error (P-MPJPE): 41.21346626146598 mm\n",
      "----------------------------------------\n",
      "[MB_train_h36m_gt_cam_no_factor_input_from_canonical_3d_same_z_input_centering]\n",
      "3DHP-GT-CAM_NO_FACTOR-INPUT_FROM_3D_CANONICAL_SAME_Z-TEST_ALL_TRAIN\n",
      "   cam_3d True 3dhp_gt_canonical_3d_same_z_test_all_train.pkl\n",
      "Loading dataset...\n",
      "3DHP-GT-CAM_NO_FACTOR-INPUT_FROM_3D_CANONICAL_SAME_Z-TEST_ALL_TRAIN\n",
      "3DHP\n",
      "INFO: Testing\n",
      "No epoch information in the checkpoint\n"
     ]
    },
    {
     "name": "stderr",
     "output_type": "stream",
     "text": [
      "100%|██████████| 245/245 [01:28<00:00,  2.77it/s]\n"
     ]
    },
    {
     "name": "stdout",
     "output_type": "stream",
     "text": [
      "245\n",
      "No eval_keypoint. Use part list\n",
      "Part: whole\n",
      "Protocol #1 Error (MPJPE): 84.96094231144332 mm\n",
      "Protocol #2 Error (P-MPJPE): 65.46942243266531 mm\n",
      "----------------------------------------\n",
      "3DHP-GT-CAM_NO_FACTOR-INPUT_FROM_3D_CANONICAL_SAME_Z-TEST_TS1_6\n",
      "   cam_3d True 3dhp_gt_test_canonical_3d_from_same_z_TS1_6.pkl\n",
      "Loading dataset...\n",
      "3DHP-GT-CAM_NO_FACTOR-INPUT_FROM_3D_CANONICAL_SAME_Z-TEST_TS1_6\n",
      "3DHP\n",
      "INFO: Testing\n",
      "No epoch information in the checkpoint\n"
     ]
    },
    {
     "name": "stderr",
     "output_type": "stream",
     "text": [
      "100%|██████████| 7/7 [00:03<00:00,  2.10it/s]\n"
     ]
    },
    {
     "name": "stdout",
     "output_type": "stream",
     "text": [
      "7\n",
      "No eval_keypoint. Use part list\n",
      "Part: whole\n",
      "Protocol #1 Error (MPJPE): 88.29721197879873 mm\n",
      "Protocol #2 Error (P-MPJPE): 60.85039108721648 mm\n",
      "----------------------------------------\n",
      "FIT3D-GT-CAM_NO_FACTOR-INPUT_FROM_3D_CANONICAL_SAME_Z-ALL_TEST\n",
      "   cam_3d True fit3d_gt_canonical_3d_same_z_all_test.pkl\n",
      "Loading dataset...\n",
      "FIT3D-GT-CAM_NO_FACTOR-INPUT_FROM_3D_CANONICAL_SAME_Z-ALL_TEST\n",
      "FIT3D\n",
      "INFO: Testing\n",
      "No epoch information in the checkpoint\n"
     ]
    },
    {
     "name": "stderr",
     "output_type": "stream",
     "text": [
      "100%|██████████| 411/411 [02:27<00:00,  2.78it/s]\n"
     ]
    },
    {
     "name": "stdout",
     "output_type": "stream",
     "text": [
      "411\n",
      "No eval_keypoint. Use part list\n",
      "Part: whole\n",
      "Protocol #1 Error (MPJPE): 105.34788318172681 mm\n",
      "Protocol #2 Error (P-MPJPE): 77.28734241276095 mm\n",
      "----------------------------------------\n",
      "H36M-GT-CAM_NO_FACTOR-INPUT_FROM_3D_CANONICAL_SAME_Z\n",
      "   cam_3d True h36m_gt_canonical_3d_same_z.pkl\n",
      "Loading dataset...\n",
      "H36M-GT-CAM_NO_FACTOR-INPUT_FROM_3D_CANONICAL_SAME_Z\n",
      "H36M\n",
      "INFO: Testing\n",
      "No epoch information in the checkpoint\n"
     ]
    },
    {
     "name": "stderr",
     "output_type": "stream",
     "text": [
      "100%|██████████| 133/133 [00:49<00:00,  2.69it/s]\n"
     ]
    },
    {
     "name": "stdout",
     "output_type": "stream",
     "text": [
      "133\n",
      "No eval_keypoint. Use part list\n",
      "Part: whole\n",
      "Protocol #1 Error (MPJPE): 21.378808832027428 mm\n",
      "Protocol #2 Error (P-MPJPE): 16.18917924523358 mm\n",
      "----------------------------------------\n",
      "[MB_train_h36m_gt_tr_s1_ts_s5678]\n",
      "H36M-GT\n",
      "   joint3d_image False h36m_gt.pkl\n",
      "Loading dataset...\n",
      "H36M-GT\n",
      "H36M\n",
      "INFO: Testing\n",
      "No epoch information in the checkpoint\n"
     ]
    },
    {
     "name": "stderr",
     "output_type": "stream",
     "text": [
      "100%|██████████| 133/133 [00:48<00:00,  2.72it/s]\n"
     ]
    },
    {
     "name": "stdout",
     "output_type": "stream",
     "text": [
      "133\n",
      "No eval_keypoint. Use part list\n",
      "Part: whole\n",
      "Protocol #1 Error (MPJPE): 38.65516066159409 mm\n",
      "Protocol #2 Error (P-MPJPE): 31.3801427150495 mm\n",
      "----------------------------------------\n",
      "FIT3D-GT-ALL_TEST\n",
      "   joint3d_image False fit3d_gt_all_test.pkl\n",
      "Loading dataset...\n",
      "FIT3D-GT-ALL_TEST\n",
      "FIT3D\n",
      "INFO: Testing\n",
      "No epoch information in the checkpoint\n"
     ]
    },
    {
     "name": "stderr",
     "output_type": "stream",
     "text": [
      "100%|██████████| 411/411 [02:29<00:00,  2.76it/s]\n"
     ]
    },
    {
     "name": "stdout",
     "output_type": "stream",
     "text": [
      "411\n",
      "No eval_keypoint. Use part list\n",
      "Part: whole\n",
      "Protocol #1 Error (MPJPE): 379.6669022743762 mm\n",
      "Protocol #2 Error (P-MPJPE): 195.00174034957877 mm\n",
      "----------------------------------------\n",
      "H36M-GT-TR_S1_TS_S5678\n",
      "   joint3d_image False h36m_gt_tr_s1_ts_s5678.pkl\n",
      "Loading dataset...\n",
      "H36M-GT-TR_S1_TS_S5678\n",
      "H36M\n",
      "INFO: Testing\n",
      "No epoch information in the checkpoint\n"
     ]
    },
    {
     "name": "stderr",
     "output_type": "stream",
     "text": [
      "100%|██████████| 323/323 [01:56<00:00,  2.78it/s]\n"
     ]
    },
    {
     "name": "stdout",
     "output_type": "stream",
     "text": [
      "323\n",
      "No eval_keypoint. Use part list\n",
      "Part: whole\n",
      "Protocol #1 Error (MPJPE): 39.05125951096982 mm\n",
      "Protocol #2 Error (P-MPJPE): 31.20409441427743 mm\n",
      "----------------------------------------\n",
      "[MB_train_h36m_with_canonical2]\n",
      "FIT3D-GT-ALL_TEST\n",
      "   joint3d_image True fit3d_gt_all_test.pkl\n",
      "Loading dataset...\n",
      "FIT3D-GT-ALL_TEST\n",
      "FIT3D\n",
      "INFO: Testing\n",
      "No epoch information in the checkpoint\n"
     ]
    },
    {
     "name": "stderr",
     "output_type": "stream",
     "text": [
      "100%|██████████| 822/822 [02:37<00:00,  5.23it/s]\n"
     ]
    },
    {
     "name": "stdout",
     "output_type": "stream",
     "text": [
      "822\n",
      "No eval_keypoint. Use part list\n",
      "Part: whole\n",
      "Protocol #1 Error (MPJPE): 386.0750991774934 mm\n",
      "Protocol #2 Error (P-MPJPE): 185.66782706693306 mm\n",
      "----------------------------------------\n",
      "H36M-SH\n",
      "   joint3d_image True h36m_sh_conf_cam_source_final.pkl\n",
      "Loading dataset...\n",
      "H36M-SH\n",
      "H36M\n",
      "INFO: Testing\n",
      "No epoch information in the checkpoint\n"
     ]
    },
    {
     "name": "stderr",
     "output_type": "stream",
     "text": [
      "100%|██████████| 279/279 [00:54<00:00,  5.16it/s]\n"
     ]
    },
    {
     "name": "stdout",
     "output_type": "stream",
     "text": [
      "279\n",
      "No eval_keypoint. Use part list\n",
      "Part: whole\n",
      "Protocol #1 Error (MPJPE): 41.04667249103643 mm\n",
      "Protocol #2 Error (P-MPJPE): 34.19088663378118 mm\n",
      "----------------------------------------\n",
      "[MB_train_h36m_gt_cam_no_factor_with_canonical2_norm_input_scale]\n",
      "3DHP-GT-CAM_NO_FACTOR-TEST_TS1_6\n",
      "   cam_3d True 3dhp_gt_test_TS1_6.pkl\n",
      "Loading dataset...\n",
      "3DHP-GT-CAM_NO_FACTOR-TEST_TS1_6\n",
      "3DHP\n",
      "INFO: Testing\n",
      "No epoch information in the checkpoint\n"
     ]
    },
    {
     "name": "stderr",
     "output_type": "stream",
     "text": [
      "100%|██████████| 7/7 [00:03<00:00,  2.13it/s]\n"
     ]
    },
    {
     "name": "stdout",
     "output_type": "stream",
     "text": [
      "7\n",
      "No eval_keypoint. Use part list\n",
      "Part: whole\n",
      "Protocol #1 Error (MPJPE): 123.43648291524732 mm\n",
      "Protocol #2 Error (P-MPJPE): 63.985660650997026 mm\n",
      "----------------------------------------\n",
      "3DHP-GT-CAM_NO_FACTOR-TEST_ALL_TRAIN\n",
      "   cam_3d True 3dhp_gt_test_all_train.pkl\n",
      "Loading dataset...\n",
      "3DHP-GT-CAM_NO_FACTOR-TEST_ALL_TRAIN\n",
      "3DHP\n",
      "INFO: Testing\n",
      "No epoch information in the checkpoint\n"
     ]
    },
    {
     "name": "stderr",
     "output_type": "stream",
     "text": [
      "100%|██████████| 315/315 [01:54<00:00,  2.76it/s]\n"
     ]
    },
    {
     "name": "stdout",
     "output_type": "stream",
     "text": [
      "315\n",
      "No eval_keypoint. Use part list\n",
      "Part: whole\n",
      "Protocol #1 Error (MPJPE): 124.14555380965106 mm\n",
      "Protocol #2 Error (P-MPJPE): 66.3929291774653 mm\n",
      "----------------------------------------\n",
      "FIT3D-GT-CAM_NO_FACTOR-ALL_TEST\n",
      "   cam_3d True fit3d_gt_all_test.pkl\n",
      "Loading dataset...\n",
      "FIT3D-GT-CAM_NO_FACTOR-ALL_TEST\n",
      "FIT3D\n",
      "INFO: Testing\n",
      "No epoch information in the checkpoint\n"
     ]
    },
    {
     "name": "stderr",
     "output_type": "stream",
     "text": [
      "100%|██████████| 411/411 [02:28<00:00,  2.77it/s]\n"
     ]
    },
    {
     "name": "stdout",
     "output_type": "stream",
     "text": [
      "411\n",
      "No eval_keypoint. Use part list\n",
      "Part: whole\n",
      "Protocol #1 Error (MPJPE): 391.4921712399409 mm\n",
      "Protocol #2 Error (P-MPJPE): 189.22014967041144 mm\n",
      "----------------------------------------\n",
      "H36M-GT-CAM_NO_FACTOR\n",
      "   cam_3d True h36m_gt.pkl\n",
      "Loading dataset...\n",
      "H36M-GT-CAM_NO_FACTOR\n",
      "H36M\n",
      "INFO: Testing\n",
      "No epoch information in the checkpoint\n"
     ]
    },
    {
     "name": "stderr",
     "output_type": "stream",
     "text": [
      "100%|██████████| 133/133 [00:48<00:00,  2.73it/s]\n"
     ]
    },
    {
     "name": "stdout",
     "output_type": "stream",
     "text": [
      "133\n",
      "No eval_keypoint. Use part list\n",
      "Part: whole\n",
      "Protocol #1 Error (MPJPE): 27.904978341131034 mm\n",
      "Protocol #2 Error (P-MPJPE): 17.13378069394007 mm\n",
      "----------------------------------------\n",
      "[MB_train_h36m_gt_cam_no_factor]\n",
      "3DHP-GT-CAM_NO_FACTOR-TEST_TS1_6\n",
      "   cam_3d False 3dhp_gt_test_TS1_6.pkl\n",
      "Loading dataset...\n",
      "3DHP-GT-CAM_NO_FACTOR-TEST_TS1_6\n",
      "3DHP\n",
      "INFO: Testing\n",
      "No epoch information in the checkpoint\n"
     ]
    },
    {
     "name": "stderr",
     "output_type": "stream",
     "text": [
      "100%|██████████| 7/7 [00:03<00:00,  2.15it/s]\n"
     ]
    },
    {
     "name": "stdout",
     "output_type": "stream",
     "text": [
      "7\n",
      "No eval_keypoint. Use part list\n",
      "Part: whole\n",
      "Protocol #1 Error (MPJPE): 103.31852834320928 mm\n",
      "Protocol #2 Error (P-MPJPE): 63.26092630047364 mm\n",
      "----------------------------------------\n",
      "FIT3D-GT-CAM_NO_FACTOR-ALL_TEST\n",
      "   cam_3d False fit3d_gt_all_test.pkl\n",
      "Loading dataset...\n",
      "FIT3D-GT-CAM_NO_FACTOR-ALL_TEST\n",
      "FIT3D\n",
      "INFO: Testing\n",
      "No epoch information in the checkpoint\n"
     ]
    },
    {
     "name": "stderr",
     "output_type": "stream",
     "text": [
      "100%|██████████| 411/411 [02:27<00:00,  2.78it/s]\n"
     ]
    },
    {
     "name": "stdout",
     "output_type": "stream",
     "text": [
      "411\n",
      "No eval_keypoint. Use part list\n",
      "Part: whole\n",
      "Protocol #1 Error (MPJPE): 384.7780928399225 mm\n",
      "Protocol #2 Error (P-MPJPE): 204.8016677322856 mm\n",
      "----------------------------------------\n",
      "3DHP-GT-CAM_NO_FACTOR-TEST_ALL_TRAIN\n",
      "   cam_3d False 3dhp_gt_test_all_train.pkl\n",
      "Loading dataset...\n",
      "3DHP-GT-CAM_NO_FACTOR-TEST_ALL_TRAIN\n",
      "3DHP\n",
      "INFO: Testing\n",
      "No epoch information in the checkpoint\n"
     ]
    },
    {
     "name": "stderr",
     "output_type": "stream",
     "text": [
      "100%|██████████| 315/315 [01:53<00:00,  2.77it/s]\n"
     ]
    },
    {
     "name": "stdout",
     "output_type": "stream",
     "text": [
      "315\n",
      "No eval_keypoint. Use part list\n",
      "Part: whole\n",
      "Protocol #1 Error (MPJPE): 108.86178229341427 mm\n",
      "Protocol #2 Error (P-MPJPE): 77.28928726591059 mm\n",
      "----------------------------------------\n",
      "H36M-GT-CAM_NO_FACTOR\n",
      "   cam_3d False h36m_gt.pkl\n",
      "Loading dataset...\n",
      "H36M-GT-CAM_NO_FACTOR\n",
      "H36M\n",
      "INFO: Testing\n",
      "No epoch information in the checkpoint\n"
     ]
    },
    {
     "name": "stderr",
     "output_type": "stream",
     "text": [
      "100%|██████████| 133/133 [00:48<00:00,  2.73it/s]\n"
     ]
    },
    {
     "name": "stdout",
     "output_type": "stream",
     "text": [
      "133\n",
      "No eval_keypoint. Use part list\n",
      "Part: whole\n",
      "Protocol #1 Error (MPJPE): 21.778787803444533 mm\n",
      "Protocol #2 Error (P-MPJPE): 16.628451176616153 mm\n",
      "----------------------------------------\n",
      "[MB_train_h36m_gt_cam_no_factor_tr_s1_ts_s5678]\n",
      "3DHP-GT-CAM_NO_FACTOR-TEST_TS1_6\n",
      "   cam_3d False 3dhp_gt_test_TS1_6.pkl\n",
      "Loading dataset...\n",
      "3DHP-GT-CAM_NO_FACTOR-TEST_TS1_6\n",
      "3DHP\n",
      "INFO: Testing\n",
      "No epoch information in the checkpoint\n"
     ]
    },
    {
     "name": "stderr",
     "output_type": "stream",
     "text": [
      "100%|██████████| 7/7 [00:03<00:00,  2.09it/s]\n"
     ]
    },
    {
     "name": "stdout",
     "output_type": "stream",
     "text": [
      "7\n",
      "No eval_keypoint. Use part list\n",
      "Part: whole\n",
      "Protocol #1 Error (MPJPE): 123.54673480350591 mm\n",
      "Protocol #2 Error (P-MPJPE): 79.67592296034934 mm\n",
      "----------------------------------------\n",
      "H36M-GT-CAM_NO_FACTOR\n",
      "   cam_3d False h36m_gt.pkl\n",
      "Loading dataset...\n",
      "H36M-GT-CAM_NO_FACTOR\n",
      "H36M\n",
      "INFO: Testing\n",
      "No epoch information in the checkpoint\n"
     ]
    },
    {
     "name": "stderr",
     "output_type": "stream",
     "text": [
      "100%|██████████| 133/133 [00:48<00:00,  2.73it/s]\n"
     ]
    },
    {
     "name": "stdout",
     "output_type": "stream",
     "text": [
      "133\n",
      "No eval_keypoint. Use part list\n",
      "Part: whole\n",
      "Protocol #1 Error (MPJPE): 45.68759714433915 mm\n",
      "Protocol #2 Error (P-MPJPE): 31.032097741848656 mm\n",
      "----------------------------------------\n",
      "3DHP-GT-CAM_NO_FACTOR-TEST_ALL_TRAIN\n",
      "   cam_3d False 3dhp_gt_test_all_train.pkl\n",
      "Loading dataset...\n",
      "3DHP-GT-CAM_NO_FACTOR-TEST_ALL_TRAIN\n",
      "3DHP\n",
      "INFO: Testing\n",
      "No epoch information in the checkpoint\n"
     ]
    },
    {
     "name": "stderr",
     "output_type": "stream",
     "text": [
      "100%|██████████| 315/315 [01:52<00:00,  2.79it/s]\n"
     ]
    },
    {
     "name": "stdout",
     "output_type": "stream",
     "text": [
      "315\n",
      "No eval_keypoint. Use part list\n",
      "Part: whole\n",
      "Protocol #1 Error (MPJPE): 140.3529184345561 mm\n",
      "Protocol #2 Error (P-MPJPE): 93.21176340688359 mm\n",
      "----------------------------------------\n",
      "FIT3D-GT-CAM_NO_FACTOR-ALL_TEST\n",
      "   cam_3d False fit3d_gt_all_test.pkl\n",
      "Loading dataset...\n",
      "FIT3D-GT-CAM_NO_FACTOR-ALL_TEST\n",
      "FIT3D\n",
      "INFO: Testing\n",
      "No epoch information in the checkpoint\n"
     ]
    },
    {
     "name": "stderr",
     "output_type": "stream",
     "text": [
      "100%|██████████| 411/411 [02:28<00:00,  2.78it/s]\n"
     ]
    },
    {
     "name": "stdout",
     "output_type": "stream",
     "text": [
      "411\n",
      "No eval_keypoint. Use part list\n",
      "Part: whole\n",
      "Protocol #1 Error (MPJPE): 371.8177441786722 mm\n",
      "Protocol #2 Error (P-MPJPE): 199.79199112891686 mm\n",
      "----------------------------------------\n",
      "H36M-GT-CAM_NO_FACTOR-TR_S1_TS_S5678\n",
      "   cam_3d False h36m_gt_tr_s1_ts_s5678.pkl\n",
      "Loading dataset...\n",
      "H36M-GT-CAM_NO_FACTOR-TR_S1_TS_S5678\n",
      "H36M\n",
      "INFO: Testing\n",
      "No epoch information in the checkpoint\n"
     ]
    },
    {
     "name": "stderr",
     "output_type": "stream",
     "text": [
      "100%|██████████| 323/323 [01:56<00:00,  2.78it/s]\n"
     ]
    },
    {
     "name": "stdout",
     "output_type": "stream",
     "text": [
      "323\n",
      "No eval_keypoint. Use part list\n",
      "Part: whole\n",
      "Protocol #1 Error (MPJPE): 44.683456805486344 mm\n",
      "Protocol #2 Error (P-MPJPE): 30.99932187471727 mm\n",
      "----------------------------------------\n",
      "[MB_train_fit3d_gt_cam_no_factor_ts_s4710]\n",
      "3DHP-GT-CAM_NO_FACTOR-TEST_TS1_6\n",
      "   cam_3d False 3dhp_gt_test_TS1_6.pkl\n",
      "Loading dataset...\n",
      "3DHP-GT-CAM_NO_FACTOR-TEST_TS1_6\n",
      "3DHP\n",
      "INFO: Testing\n",
      "No epoch information in the checkpoint\n"
     ]
    },
    {
     "name": "stderr",
     "output_type": "stream",
     "text": [
      "100%|██████████| 7/7 [00:03<00:00,  2.11it/s]\n"
     ]
    },
    {
     "name": "stdout",
     "output_type": "stream",
     "text": [
      "7\n",
      "No eval_keypoint. Use part list\n",
      "Part: whole\n",
      "Protocol #1 Error (MPJPE): 210.35135796701763 mm\n",
      "Protocol #2 Error (P-MPJPE): 145.0309128043244 mm\n",
      "----------------------------------------\n",
      "H36M-GT-CAM_NO_FACTOR\n",
      "   cam_3d False h36m_gt.pkl\n",
      "Loading dataset...\n",
      "H36M-GT-CAM_NO_FACTOR\n",
      "H36M\n",
      "INFO: Testing\n",
      "No epoch information in the checkpoint\n"
     ]
    },
    {
     "name": "stderr",
     "output_type": "stream",
     "text": [
      "100%|██████████| 133/133 [00:48<00:00,  2.72it/s]\n"
     ]
    },
    {
     "name": "stdout",
     "output_type": "stream",
     "text": [
      "133\n",
      "No eval_keypoint. Use part list\n",
      "Part: whole\n",
      "Protocol #1 Error (MPJPE): 162.72159321150235 mm\n",
      "Protocol #2 Error (P-MPJPE): 119.17579452106827 mm\n",
      "----------------------------------------\n",
      "3DHP-GT-CAM_NO_FACTOR-TEST_ALL_TRAIN\n",
      "   cam_3d False 3dhp_gt_test_all_train.pkl\n",
      "Loading dataset...\n",
      "3DHP-GT-CAM_NO_FACTOR-TEST_ALL_TRAIN\n",
      "3DHP\n",
      "INFO: Testing\n",
      "No epoch information in the checkpoint\n"
     ]
    },
    {
     "name": "stderr",
     "output_type": "stream",
     "text": [
      "100%|██████████| 315/315 [01:52<00:00,  2.80it/s]\n"
     ]
    },
    {
     "name": "stdout",
     "output_type": "stream",
     "text": [
      "315\n",
      "No eval_keypoint. Use part list\n",
      "Part: whole\n",
      "Protocol #1 Error (MPJPE): 194.9977526019983 mm\n",
      "Protocol #2 Error (P-MPJPE): 137.00652766603497 mm\n",
      "----------------------------------------\n",
      "H36M-GT-CAM_NO_FACTOR-TR_S1_TS_S5678\n",
      "   cam_3d False h36m_gt_tr_s1_ts_s5678.pkl\n",
      "Loading dataset...\n",
      "H36M-GT-CAM_NO_FACTOR-TR_S1_TS_S5678\n",
      "H36M\n",
      "INFO: Testing\n",
      "No epoch information in the checkpoint\n"
     ]
    },
    {
     "name": "stderr",
     "output_type": "stream",
     "text": [
      "100%|██████████| 323/323 [01:57<00:00,  2.75it/s]\n"
     ]
    },
    {
     "name": "stdout",
     "output_type": "stream",
     "text": [
      "323\n",
      "No eval_keypoint. Use part list\n",
      "Part: whole\n",
      "Protocol #1 Error (MPJPE): 158.42296856039155 mm\n",
      "Protocol #2 Error (P-MPJPE): 115.49947793520755 mm\n",
      "----------------------------------------\n",
      "FIT3D-GT-CAM_NO_FACTOR-TS_S4710\n",
      "   cam_3d False fit3d_gt_ts_s4710.pkl\n",
      "Loading dataset...\n",
      "FIT3D-GT-CAM_NO_FACTOR-TS_S4710\n",
      "FIT3D\n",
      "INFO: Testing\n",
      "No epoch information in the checkpoint\n"
     ]
    },
    {
     "name": "stderr",
     "output_type": "stream",
     "text": [
      "100%|██████████| 157/157 [00:56<00:00,  2.79it/s]\n"
     ]
    },
    {
     "name": "stdout",
     "output_type": "stream",
     "text": [
      "157\n",
      "No eval_keypoint. Use part list\n",
      "Part: whole\n",
      "Protocol #1 Error (MPJPE): 23.503075099787875 mm\n",
      "Protocol #2 Error (P-MPJPE): 15.255381286314686 mm\n",
      "----------------------------------------\n",
      "[MB_train_h36m_gt_with_canonical2]\n",
      "FIT3D-GT-ALL_TEST\n",
      "   joint3d_image True fit3d_gt_all_test.pkl\n",
      "Loading dataset...\n",
      "FIT3D-GT-ALL_TEST\n",
      "FIT3D\n",
      "INFO: Testing\n",
      "No epoch information in the checkpoint\n"
     ]
    },
    {
     "name": "stderr",
     "output_type": "stream",
     "text": [
      "100%|██████████| 411/411 [02:20<00:00,  2.93it/s]\n"
     ]
    },
    {
     "name": "stdout",
     "output_type": "stream",
     "text": [
      "411\n",
      "No eval_keypoint. Use part list\n",
      "Part: whole\n",
      "Protocol #1 Error (MPJPE): 395.33478263228284 mm\n",
      "Protocol #2 Error (P-MPJPE): 189.1678987765927 mm\n",
      "----------------------------------------\n",
      "H36M-GT\n",
      "   joint3d_image True h36m_gt.pkl\n",
      "Loading dataset...\n",
      "H36M-GT\n",
      "H36M\n",
      "INFO: Testing\n",
      "No epoch information in the checkpoint\n"
     ]
    },
    {
     "name": "stderr",
     "output_type": "stream",
     "text": [
      "100%|██████████| 133/133 [00:47<00:00,  2.79it/s]\n"
     ]
    },
    {
     "name": "stdout",
     "output_type": "stream",
     "text": [
      "133\n",
      "No eval_keypoint. Use part list\n",
      "Part: whole\n",
      "Protocol #1 Error (MPJPE): 20.29842570958778 mm\n",
      "Protocol #2 Error (P-MPJPE): 15.80531408464627 mm\n",
      "----------------------------------------\n",
      "[MB_train_h36m_gt_cam_no_factor_input_from_canonical_3d_same_z_tr_s1_ts_s5678]\n",
      "3DHP-GT-CAM_NO_FACTOR-INPUT_FROM_3D_CANONICAL_SAME_Z-TEST_ALL_TRAIN\n",
      "   cam_3d False 3dhp_gt_canonical_3d_same_z_test_all_train.pkl\n",
      "Loading dataset...\n",
      "3DHP-GT-CAM_NO_FACTOR-INPUT_FROM_3D_CANONICAL_SAME_Z-TEST_ALL_TRAIN\n",
      "3DHP\n",
      "INFO: Testing\n",
      "No epoch information in the checkpoint\n"
     ]
    },
    {
     "name": "stderr",
     "output_type": "stream",
     "text": [
      "100%|██████████| 245/245 [01:28<00:00,  2.75it/s]\n"
     ]
    },
    {
     "name": "stdout",
     "output_type": "stream",
     "text": [
      "245\n",
      "No eval_keypoint. Use part list\n",
      "Part: whole\n",
      "Protocol #1 Error (MPJPE): 104.72355963543328 mm\n",
      "Protocol #2 Error (P-MPJPE): 75.46264818323934 mm\n",
      "----------------------------------------\n",
      "3DHP-GT-CAM_NO_FACTOR-INPUT_FROM_3D_CANONICAL_SAME_Z-TEST_TS1_6\n",
      "   cam_3d False 3dhp_gt_test_canonical_3d_from_same_z_TS1_6.pkl\n",
      "Loading dataset...\n",
      "3DHP-GT-CAM_NO_FACTOR-INPUT_FROM_3D_CANONICAL_SAME_Z-TEST_TS1_6\n",
      "3DHP\n",
      "INFO: Testing\n",
      "No epoch information in the checkpoint\n"
     ]
    },
    {
     "name": "stderr",
     "output_type": "stream",
     "text": [
      "100%|██████████| 7/7 [00:03<00:00,  2.16it/s]\n"
     ]
    },
    {
     "name": "stdout",
     "output_type": "stream",
     "text": [
      "7\n",
      "No eval_keypoint. Use part list\n",
      "Part: whole\n",
      "Protocol #1 Error (MPJPE): 225.10541887196723 mm\n",
      "Protocol #2 Error (P-MPJPE): 115.35527757236707 mm\n",
      "----------------------------------------\n",
      "H36M-GT-CAM_NO_FACTOR-INPUT_FROM_3D_CANONICAL_SAME_Z\n",
      "   cam_3d False h36m_gt_canonical_3d_same_z.pkl\n",
      "Loading dataset...\n",
      "H36M-GT-CAM_NO_FACTOR-INPUT_FROM_3D_CANONICAL_SAME_Z\n",
      "H36M\n",
      "INFO: Testing\n",
      "No epoch information in the checkpoint\n"
     ]
    },
    {
     "name": "stderr",
     "output_type": "stream",
     "text": [
      "100%|██████████| 133/133 [00:47<00:00,  2.80it/s]\n"
     ]
    },
    {
     "name": "stdout",
     "output_type": "stream",
     "text": [
      "133\n",
      "No eval_keypoint. Use part list\n",
      "Part: whole\n",
      "Protocol #1 Error (MPJPE): 43.692772176064125 mm\n",
      "Protocol #2 Error (P-MPJPE): 29.58948211988774 mm\n",
      "----------------------------------------\n",
      "FIT3D-GT-CAM_NO_FACTOR-INPUT_FROM_3D_CANONICAL_SAME_Z-ALL_TEST\n",
      "   cam_3d False fit3d_gt_canonical_3d_same_z_all_test.pkl\n",
      "Loading dataset...\n",
      "FIT3D-GT-CAM_NO_FACTOR-INPUT_FROM_3D_CANONICAL_SAME_Z-ALL_TEST\n",
      "FIT3D\n",
      "INFO: Testing\n",
      "No epoch information in the checkpoint\n"
     ]
    },
    {
     "name": "stderr",
     "output_type": "stream",
     "text": [
      "100%|██████████| 411/411 [02:18<00:00,  2.96it/s]\n"
     ]
    },
    {
     "name": "stdout",
     "output_type": "stream",
     "text": [
      "411\n",
      "No eval_keypoint. Use part list\n",
      "Part: whole\n",
      "Protocol #1 Error (MPJPE): 153.04321087341216 mm\n",
      "Protocol #2 Error (P-MPJPE): 96.45192141735937 mm\n",
      "----------------------------------------\n",
      "H36M-GT-CAM_NO_FACTOR-INPUT_FROM_3D_CANONICAL_SAME_Z-TR_S1_TS_S5678\n",
      "   cam_3d False h36m_gt_canonical_3d_same_z_tr_s1_ts_s5678.pkl\n",
      "Loading dataset...\n",
      "H36M-GT-CAM_NO_FACTOR-INPUT_FROM_3D_CANONICAL_SAME_Z-TR_S1_TS_S5678\n",
      "H36M\n",
      "INFO: Testing\n",
      "No epoch information in the checkpoint\n"
     ]
    },
    {
     "name": "stderr",
     "output_type": "stream",
     "text": [
      "100%|██████████| 323/323 [01:51<00:00,  2.90it/s]\n"
     ]
    },
    {
     "name": "stdout",
     "output_type": "stream",
     "text": [
      "323\n",
      "No eval_keypoint. Use part list\n",
      "Part: whole\n",
      "Protocol #1 Error (MPJPE): 40.414820546165586 mm\n",
      "Protocol #2 Error (P-MPJPE): 28.029574111622118 mm\n",
      "----------------------------------------\n",
      "[MB_train_h36m]\n",
      "H36M-SH\n",
      "   joint3d_image False h36m_sh_conf_cam_source_final.pkl\n",
      "Loading dataset...\n",
      "H36M-SH\n",
      "H36M\n",
      "INFO: Testing\n",
      "No epoch information in the checkpoint\n"
     ]
    },
    {
     "name": "stderr",
     "output_type": "stream",
     "text": [
      "100%|██████████| 279/279 [00:52<00:00,  5.30it/s]\n"
     ]
    },
    {
     "name": "stdout",
     "output_type": "stream",
     "text": [
      "279\n",
      "No eval_keypoint. Use part list\n",
      "Part: whole\n",
      "Protocol #1 Error (MPJPE): 39.21385506546776 mm\n",
      "Protocol #2 Error (P-MPJPE): 32.93466389598226 mm\n",
      "----------------------------------------\n",
      "FIT3D-GT_ALL_TEST\n",
      "  Not found in dt_file_mapping\n",
      "FIT3D-GT-ALL_TRAIN_EXCEPT_TARGET_ACTION\n",
      "  Not found in dt_file_mapping\n",
      "H36M-SH\n",
      "  H36M-SH already exists. Skip.\n",
      "[MB_train_h36m_gt_world_no_factor]\n",
      "H36M-GT-WORLD_NO_FACTOR\n",
      "   world_3d False h36m_gt.pkl\n",
      "Loading dataset...\n",
      "H36M-GT-WORLD_NO_FACTOR\n",
      "H36M\n",
      "INFO: Testing\n",
      "No epoch information in the checkpoint\n"
     ]
    },
    {
     "name": "stderr",
     "output_type": "stream",
     "text": [
      "100%|██████████| 133/133 [00:47<00:00,  2.78it/s]\n"
     ]
    },
    {
     "name": "stdout",
     "output_type": "stream",
     "text": [
      "133\n",
      "No eval_keypoint. Use part list\n",
      "Part: whole\n",
      "Protocol #1 Error (MPJPE): 36.6654486563728 mm\n",
      "Protocol #2 Error (P-MPJPE): 22.7730984383642 mm\n",
      "----------------------------------------\n",
      "[MB_train_fit3d_gt_cam_no_factor_tr_s03]\n",
      "3DHP-GT-CAM_NO_FACTOR-TEST_ALL_TRAIN\n",
      "   cam_3d False 3dhp_gt_test_all_train.pkl\n",
      "Loading dataset...\n",
      "3DHP-GT-CAM_NO_FACTOR-TEST_ALL_TRAIN\n",
      "3DHP\n",
      "INFO: Testing\n",
      "No epoch information in the checkpoint\n"
     ]
    },
    {
     "name": "stderr",
     "output_type": "stream",
     "text": [
      "100%|██████████| 315/315 [01:45<00:00,  2.99it/s]\n"
     ]
    },
    {
     "name": "stdout",
     "output_type": "stream",
     "text": [
      "315\n",
      "No eval_keypoint. Use part list\n",
      "Part: whole\n",
      "Protocol #1 Error (MPJPE): 215.78173806864982 mm\n",
      "Protocol #2 Error (P-MPJPE): 140.60809500640414 mm\n",
      "----------------------------------------\n",
      "3DHP-GT-CAM_NO_FACTOR-TEST_TS1_6\n",
      "   cam_3d False 3dhp_gt_test_TS1_6.pkl\n",
      "Loading dataset...\n",
      "3DHP-GT-CAM_NO_FACTOR-TEST_TS1_6\n",
      "3DHP\n",
      "INFO: Testing\n",
      "No epoch information in the checkpoint\n"
     ]
    },
    {
     "name": "stderr",
     "output_type": "stream",
     "text": [
      "100%|██████████| 7/7 [00:03<00:00,  2.27it/s]\n"
     ]
    },
    {
     "name": "stdout",
     "output_type": "stream",
     "text": [
      "7\n",
      "No eval_keypoint. Use part list\n",
      "Part: whole\n",
      "Protocol #1 Error (MPJPE): 245.27301364492823 mm\n",
      "Protocol #2 Error (P-MPJPE): 160.74127684961098 mm\n",
      "----------------------------------------\n",
      "H36M-GT-CAM_NO_FACTOR-TR_S1_TS_S5678\n",
      "   cam_3d False h36m_gt_tr_s1_ts_s5678.pkl\n",
      "Loading dataset...\n",
      "H36M-GT-CAM_NO_FACTOR-TR_S1_TS_S5678\n",
      "H36M\n",
      "INFO: Testing\n",
      "No epoch information in the checkpoint\n"
     ]
    },
    {
     "name": "stderr",
     "output_type": "stream",
     "text": [
      "100%|██████████| 323/323 [01:48<00:00,  2.99it/s]\n"
     ]
    },
    {
     "name": "stdout",
     "output_type": "stream",
     "text": [
      "323\n",
      "No eval_keypoint. Use part list\n",
      "Part: whole\n",
      "Protocol #1 Error (MPJPE): 181.33665025550337 mm\n",
      "Protocol #2 Error (P-MPJPE): 115.62565831572478 mm\n",
      "----------------------------------------\n",
      "H36M-GT-CAM_NO_FACTOR\n",
      "   cam_3d False h36m_gt.pkl\n",
      "Loading dataset...\n",
      "H36M-GT-CAM_NO_FACTOR\n",
      "H36M\n",
      "INFO: Testing\n",
      "No epoch information in the checkpoint\n"
     ]
    },
    {
     "name": "stderr",
     "output_type": "stream",
     "text": [
      "100%|██████████| 133/133 [00:45<00:00,  2.91it/s]\n"
     ]
    },
    {
     "name": "stdout",
     "output_type": "stream",
     "text": [
      "133\n",
      "No eval_keypoint. Use part list\n",
      "Part: whole\n",
      "Protocol #1 Error (MPJPE): 182.26246149057056 mm\n",
      "Protocol #2 Error (P-MPJPE): 119.84505789589042 mm\n",
      "----------------------------------------\n",
      "FIT3D-GT-CAM_NO_FACTOR-TR_S03\n",
      "  Not found in dt_file_mapping\n",
      "[MB_train_fit3d_gt_cam_no_factor_input_from_canonical_3d_same_z_input_centering_tr_s03]\n",
      "3DHP-GT-CAM_NO_FACTOR-INPUT_FROM_3D_CANONICAL_SAME_Z-TEST_ALL_TRAIN\n",
      "   cam_3d True 3dhp_gt_canonical_3d_same_z_test_all_train.pkl\n",
      "Loading dataset...\n",
      "3DHP-GT-CAM_NO_FACTOR-INPUT_FROM_3D_CANONICAL_SAME_Z-TEST_ALL_TRAIN\n",
      "3DHP\n",
      "INFO: Testing\n",
      "No epoch information in the checkpoint\n"
     ]
    },
    {
     "name": "stderr",
     "output_type": "stream",
     "text": [
      "100%|██████████| 245/245 [01:22<00:00,  2.97it/s]\n"
     ]
    },
    {
     "name": "stdout",
     "output_type": "stream",
     "text": [
      "245\n",
      "No eval_keypoint. Use part list\n",
      "Part: whole\n",
      "Protocol #1 Error (MPJPE): 177.80149999774437 mm\n",
      "Protocol #2 Error (P-MPJPE): 124.66525811077966 mm\n",
      "----------------------------------------\n",
      "3DHP-GT-CAM_NO_FACTOR-INPUT_FROM_3D_CANONICAL_SAME_Z-TEST_TS1_6\n",
      "   cam_3d True 3dhp_gt_test_canonical_3d_from_same_z_TS1_6.pkl\n",
      "Loading dataset...\n",
      "3DHP-GT-CAM_NO_FACTOR-INPUT_FROM_3D_CANONICAL_SAME_Z-TEST_TS1_6\n",
      "3DHP\n",
      "INFO: Testing\n",
      "No epoch information in the checkpoint\n"
     ]
    },
    {
     "name": "stderr",
     "output_type": "stream",
     "text": [
      "100%|██████████| 7/7 [00:03<00:00,  2.25it/s]\n"
     ]
    },
    {
     "name": "stdout",
     "output_type": "stream",
     "text": [
      "7\n",
      "No eval_keypoint. Use part list\n",
      "Part: whole\n",
      "Protocol #1 Error (MPJPE): 153.08184541866714 mm\n",
      "Protocol #2 Error (P-MPJPE): 112.90169002996578 mm\n",
      "----------------------------------------\n",
      "H36M-GT-CAM_NO_FACTOR-INPUT_FROM_3D_CANONICAL_SAME_Z\n",
      "   cam_3d True h36m_gt_canonical_3d_same_z.pkl\n",
      "Loading dataset...\n",
      "H36M-GT-CAM_NO_FACTOR-INPUT_FROM_3D_CANONICAL_SAME_Z\n",
      "H36M\n",
      "INFO: Testing\n",
      "No epoch information in the checkpoint\n"
     ]
    },
    {
     "name": "stderr",
     "output_type": "stream",
     "text": [
      "100%|██████████| 133/133 [00:45<00:00,  2.91it/s]\n"
     ]
    },
    {
     "name": "stdout",
     "output_type": "stream",
     "text": [
      "133\n",
      "No eval_keypoint. Use part list\n",
      "Part: whole\n",
      "Protocol #1 Error (MPJPE): 126.72278417685624 mm\n",
      "Protocol #2 Error (P-MPJPE): 95.80856436829185 mm\n",
      "----------------------------------------\n",
      "H36M-GT-CAM_NO_FACTOR-INPUT_FROM_3D_CANONICAL_SAME_Z-TR_S1_TS_S5678\n",
      "   cam_3d True h36m_gt_canonical_3d_same_z_tr_s1_ts_s5678.pkl\n",
      "Loading dataset...\n",
      "H36M-GT-CAM_NO_FACTOR-INPUT_FROM_3D_CANONICAL_SAME_Z-TR_S1_TS_S5678\n",
      "H36M\n",
      "INFO: Testing\n",
      "No epoch information in the checkpoint\n"
     ]
    },
    {
     "name": "stderr",
     "output_type": "stream",
     "text": [
      "100%|██████████| 323/323 [01:48<00:00,  2.97it/s]\n"
     ]
    },
    {
     "name": "stdout",
     "output_type": "stream",
     "text": [
      "323\n",
      "No eval_keypoint. Use part list\n",
      "Part: whole\n",
      "Protocol #1 Error (MPJPE): 124.85531377361292 mm\n",
      "Protocol #2 Error (P-MPJPE): 90.26214196033875 mm\n",
      "----------------------------------------\n",
      "FIT3D-GT-CAM_NO_FACTOR-INPUT_FROM_3D_CANONICAL_SAME_Z-TR_S03\n",
      "   cam_3d True fit3d_gt_canonical_3d_same_z_tr_s03.pkl\n",
      "Loading dataset...\n",
      "FIT3D-GT-CAM_NO_FACTOR-INPUT_FROM_3D_CANONICAL_SAME_Z-TR_S03\n",
      "FIT3D\n",
      "INFO: Testing\n",
      "No epoch information in the checkpoint\n"
     ]
    },
    {
     "name": "stderr",
     "output_type": "stream",
     "text": [
      "100%|██████████| 358/358 [02:10<00:00,  2.75it/s]\n"
     ]
    },
    {
     "name": "stdout",
     "output_type": "stream",
     "text": [
      "358\n",
      "No eval_keypoint. Use part list\n",
      "Part: whole\n",
      "Protocol #1 Error (MPJPE): 46.056800193605525 mm\n",
      "Protocol #2 Error (P-MPJPE): 27.61627363501625 mm\n",
      "----------------------------------------\n",
      "[MB_train_fit3d_gt_ts_s4710]\n",
      "H36M-GT\n",
      "   joint3d_image False h36m_gt.pkl\n",
      "Loading dataset...\n",
      "H36M-GT\n",
      "H36M\n",
      "INFO: Testing\n",
      "No epoch information in the checkpoint\n"
     ]
    },
    {
     "name": "stderr",
     "output_type": "stream",
     "text": [
      "100%|██████████| 133/133 [00:47<00:00,  2.78it/s]\n"
     ]
    },
    {
     "name": "stdout",
     "output_type": "stream",
     "text": [
      "133\n",
      "No eval_keypoint. Use part list\n",
      "Part: whole\n",
      "Protocol #1 Error (MPJPE): 132.0389590436302 mm\n",
      "Protocol #2 Error (P-MPJPE): 97.4449400425648 mm\n",
      "----------------------------------------\n",
      "H36M-GT-TR_S1_TS_S5678\n",
      "   joint3d_image False h36m_gt_tr_s1_ts_s5678.pkl\n",
      "Loading dataset...\n",
      "H36M-GT-TR_S1_TS_S5678\n",
      "H36M\n",
      "INFO: Testing\n",
      "No epoch information in the checkpoint\n"
     ]
    },
    {
     "name": "stderr",
     "output_type": "stream",
     "text": [
      "100%|██████████| 323/323 [01:49<00:00,  2.95it/s]\n"
     ]
    },
    {
     "name": "stdout",
     "output_type": "stream",
     "text": [
      "323\n",
      "No eval_keypoint. Use part list\n",
      "Part: whole\n",
      "Protocol #1 Error (MPJPE): 131.5908667723021 mm\n",
      "Protocol #2 Error (P-MPJPE): 95.88494394697162 mm\n",
      "----------------------------------------\n",
      "FIT3D-GT-TS_S4710\n",
      "   joint3d_image False fit3d_gt_ts_s4710.pkl\n",
      "Loading dataset...\n",
      "FIT3D-GT-TS_S4710\n",
      "FIT3D\n",
      "INFO: Testing\n",
      "No epoch information in the checkpoint\n"
     ]
    },
    {
     "name": "stderr",
     "output_type": "stream",
     "text": [
      "100%|██████████| 157/157 [00:53<00:00,  2.91it/s]\n"
     ]
    },
    {
     "name": "stdout",
     "output_type": "stream",
     "text": [
      "157\n",
      "No eval_keypoint. Use part list\n",
      "Part: whole\n",
      "Protocol #1 Error (MPJPE): 19.377854737869217 mm\n",
      "Protocol #2 Error (P-MPJPE): 13.60622760075895 mm\n",
      "----------------------------------------\n"
     ]
    }
   ],
   "source": [
    "root = f'/home/{user}/codes/MotionBERT/custom_codes/Inference_and_evaluation/experiments'\n",
    "config_root = 'configs/pose3d/'\n",
    "checkpoint_root = 'checkpoint/pose3d/'\n",
    "result_root = f'/home/{user}/codes/MotionBERT/custom_codes/Inference_and_evaluation/saved_results'\n",
    "if not os.path.isdir(result_root): os.makedirs(result_root)\n",
    "\n",
    "#pbar = tqdm(glob(root+'/*.txt'))\n",
    "for item in glob(root+'/*.txt'):\n",
    "    model_name = os.path.basename(item).split('.')[0]\n",
    "    print(f'[{model_name}]')\n",
    "    config = model_name + '.yaml'\n",
    "    input_args = ['--config', config_root+config, '--evaluate', checkpoint_root+model_name+'/best_epoch.bin']\n",
    "    args, opts = get_opts_args(input_args, verbose=False)\n",
    "    args.print_summary_table = False\n",
    "    #print(args)\n",
    "    try:\n",
    "        model_pos, chk_filename, checkpoint = load_model(opts, args, verbose=False)\n",
    "    except:\n",
    "        print('  ', 'Failed to load model')\n",
    "        continue\n",
    "    \n",
    "    with open(item, 'r') as file:\n",
    "        for line in file:\n",
    "            subset = line.strip()\n",
    "            print(subset)\n",
    "            result_path = os.path.join(result_root, f'result_dict_{args.model}_{subset}.pkl')\n",
    "            if os.path.exists(result_path): \n",
    "                print(f'  {subset} already exists. Skip.')\n",
    "                continue\n",
    "            args.subset_list = [subset]\n",
    "            try:\n",
    "                args.dt_file = dt_file_mapping[args.subset_list[0]]+'.pkl'\n",
    "            except:\n",
    "                print('  Not found in dt_file_mapping')\n",
    "                continue\n",
    "            print('  ', args.gt_mode, args.canonical, args.dt_file)\n",
    "            train_loader_3d, test_loader, posetrack_loader_2d, instav_loader_2d, datareader = load_dataset(args)\n",
    "\n",
    "            e1, e2, results_all, inputs_all, gts_all, total_result_dict = evaluate(args, model_pos, test_loader, datareader, checkpoint, only_one_batch=False)\n",
    "            results_dict = {'results_all': results_all, 'gts_all': gts_all, 'inputs_all': inputs_all}\n",
    "            savepkl(results_dict, result_path)\n",
    "            \n",
    "            del train_loader_3d, test_loader, posetrack_loader_2d, instav_loader_2d, datareader\n",
    "            \n",
    "    #pbar.set_postfix({'checkpoint': model_name})\n",
    "    del model_pos, chk_filename, checkpoint, \n",
    "        \n"
   ]
  }
 ],
 "metadata": {
  "kernelspec": {
   "display_name": "motionbert",
   "language": "python",
   "name": "python3"
  },
  "language_info": {
   "codemirror_mode": {
    "name": "ipython",
    "version": 3
   },
   "file_extension": ".py",
   "mimetype": "text/x-python",
   "name": "python",
   "nbconvert_exporter": "python",
   "pygments_lexer": "ipython3",
   "version": "3.9.18"
  },
  "orig_nbformat": 4,
  "vscode": {
   "interpreter": {
    "hash": "a22adeb9c65037913f217d555eca4ee12416bb8cd04fc64921ca248554344da3"
   }
  }
 },
 "nbformat": 4,
 "nbformat_minor": 2
}
