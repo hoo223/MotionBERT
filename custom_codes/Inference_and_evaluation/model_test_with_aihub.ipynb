{
 "cells": [
  {
   "cell_type": "code",
   "execution_count": 1,
   "metadata": {},
   "outputs": [],
   "source": [
    "import pickle\n",
    "import copy\n",
    "import numpy as np\n",
    "import random\n",
    "import os\n",
    "import torch\n",
    "os.chdir('..')\n",
    "from test_utils import *\n",
    "from ipywidgets import interact\n"
   ]
  },
  {
   "attachments": {},
   "cell_type": "markdown",
   "metadata": {},
   "source": [
    "# 데이터 직접 입력"
   ]
  },
  {
   "cell_type": "code",
   "execution_count": 2,
   "metadata": {},
   "outputs": [],
   "source": [
    "import argparse\n",
    "os.chdir('..')\n",
    "from lib.utils.learning import *\n",
    "from lib.utils.tools import *"
   ]
  },
  {
   "cell_type": "code",
   "execution_count": 3,
   "metadata": {},
   "outputs": [],
   "source": [
    "from test_utils import *\n",
    "\n",
    "h36m_connections = [\n",
    "    (0,1),\n",
    "    (0,4),\n",
    "    (0,7),\n",
    "    (1,2),\n",
    "    (2,3),\n",
    "    (4,5),\n",
    "    (5,6),\n",
    "    (7,8),\n",
    "    (8,9),\n",
    "    (9,10),\n",
    "    (8,14),\n",
    "    (14,15),\n",
    "    (15,16),\n",
    "    (8,11),\n",
    "    (11,12),\n",
    "    (12,13)\n",
    "]"
   ]
  },
  {
   "cell_type": "code",
   "execution_count": 4,
   "metadata": {},
   "outputs": [],
   "source": [
    "def parse_args():\n",
    "    parser = argparse.ArgumentParser()\n",
    "    parser.add_argument(\"--config\", type=str, default=\"/home/hrai/codes/MotionBERT/configs/pose3d/MB_ft_h36m.yaml\", help=\"Path to the config file.\")\n",
    "    parser.add_argument('-c', '--checkpoint', default='', type=str, metavar='PATH', help='checkpoint directory')\n",
    "    parser.add_argument('-p', '--pretrained', default='', type=str, metavar='PATH', help='pretrained checkpoint directory')\n",
    "    parser.add_argument('-r', '--resume', default='', type=str, metavar='FILENAME', help='checkpoint to resume (file name)')\n",
    "    parser.add_argument('-e', '--evaluate', default='/home/hrai/codes/MotionBERT/checkpoint/pose3d/MB_ft_h36m/best_epoch.bin', type=str, metavar='FILENAME', help='checkpoint to evaluate (file name)')\n",
    "    #parser.add_argument('-ms', '--selection', default='', type=str, metavar='FILENAME', help='checkpoint to finetune (file name)')\n",
    "    parser.add_argument('-sd', '--seed', default=0, type=int, help='random seed')\n",
    "    opts = parser.parse_args([])\n",
    "    return opts\n",
    "\n",
    "def set_random_seed(seed):\n",
    "    random.seed(seed)\n",
    "    np.random.seed(seed)\n",
    "    torch.manual_seed(seed)\n",
    "    \n",
    "os.chdir('..')\n",
    "opts = parse_args()\n",
    "set_random_seed(opts.seed)\n",
    "args = get_config(opts.config)"
   ]
  },
  {
   "cell_type": "code",
   "execution_count": 5,
   "metadata": {},
   "outputs": [
    {
     "name": "stdout",
     "output_type": "stream",
     "text": [
      "Loading checkpoint /home/hrai/codes/MotionBERT/checkpoint/pose3d/MB_ft_h36m/best_epoch.bin\n"
     ]
    },
    {
     "data": {
      "text/plain": [
       "DataParallel(\n",
       "  (module): DSTformer(\n",
       "    (joints_embed): Linear(in_features=3, out_features=512, bias=True)\n",
       "    (pos_drop): Dropout(p=0.0, inplace=False)\n",
       "    (blocks_st): ModuleList(\n",
       "      (0): Block(\n",
       "        (norm1_s): LayerNorm((512,), eps=1e-06, elementwise_affine=True)\n",
       "        (norm1_t): LayerNorm((512,), eps=1e-06, elementwise_affine=True)\n",
       "        (attn_s): Attention(\n",
       "          (attn_drop): Dropout(p=0.0, inplace=False)\n",
       "          (proj): Linear(in_features=512, out_features=512, bias=True)\n",
       "          (qkv): Linear(in_features=512, out_features=1536, bias=True)\n",
       "          (proj_drop): Dropout(p=0.0, inplace=False)\n",
       "        )\n",
       "        (attn_t): Attention(\n",
       "          (attn_drop): Dropout(p=0.0, inplace=False)\n",
       "          (proj): Linear(in_features=512, out_features=512, bias=True)\n",
       "          (qkv): Linear(in_features=512, out_features=1536, bias=True)\n",
       "          (proj_drop): Dropout(p=0.0, inplace=False)\n",
       "        )\n",
       "        (drop_path): Identity()\n",
       "        (norm2_s): LayerNorm((512,), eps=1e-06, elementwise_affine=True)\n",
       "        (norm2_t): LayerNorm((512,), eps=1e-06, elementwise_affine=True)\n",
       "        (mlp_s): MLP(\n",
       "          (fc1): Linear(in_features=512, out_features=1024, bias=True)\n",
       "          (act): GELU(approximate=none)\n",
       "          (fc2): Linear(in_features=1024, out_features=512, bias=True)\n",
       "          (drop): Dropout(p=0.0, inplace=False)\n",
       "        )\n",
       "        (mlp_t): MLP(\n",
       "          (fc1): Linear(in_features=512, out_features=1024, bias=True)\n",
       "          (act): GELU(approximate=none)\n",
       "          (fc2): Linear(in_features=1024, out_features=512, bias=True)\n",
       "          (drop): Dropout(p=0.0, inplace=False)\n",
       "        )\n",
       "      )\n",
       "      (1): Block(\n",
       "        (norm1_s): LayerNorm((512,), eps=1e-06, elementwise_affine=True)\n",
       "        (norm1_t): LayerNorm((512,), eps=1e-06, elementwise_affine=True)\n",
       "        (attn_s): Attention(\n",
       "          (attn_drop): Dropout(p=0.0, inplace=False)\n",
       "          (proj): Linear(in_features=512, out_features=512, bias=True)\n",
       "          (qkv): Linear(in_features=512, out_features=1536, bias=True)\n",
       "          (proj_drop): Dropout(p=0.0, inplace=False)\n",
       "        )\n",
       "        (attn_t): Attention(\n",
       "          (attn_drop): Dropout(p=0.0, inplace=False)\n",
       "          (proj): Linear(in_features=512, out_features=512, bias=True)\n",
       "          (qkv): Linear(in_features=512, out_features=1536, bias=True)\n",
       "          (proj_drop): Dropout(p=0.0, inplace=False)\n",
       "        )\n",
       "        (drop_path): Identity()\n",
       "        (norm2_s): LayerNorm((512,), eps=1e-06, elementwise_affine=True)\n",
       "        (norm2_t): LayerNorm((512,), eps=1e-06, elementwise_affine=True)\n",
       "        (mlp_s): MLP(\n",
       "          (fc1): Linear(in_features=512, out_features=1024, bias=True)\n",
       "          (act): GELU(approximate=none)\n",
       "          (fc2): Linear(in_features=1024, out_features=512, bias=True)\n",
       "          (drop): Dropout(p=0.0, inplace=False)\n",
       "        )\n",
       "        (mlp_t): MLP(\n",
       "          (fc1): Linear(in_features=512, out_features=1024, bias=True)\n",
       "          (act): GELU(approximate=none)\n",
       "          (fc2): Linear(in_features=1024, out_features=512, bias=True)\n",
       "          (drop): Dropout(p=0.0, inplace=False)\n",
       "        )\n",
       "      )\n",
       "      (2): Block(\n",
       "        (norm1_s): LayerNorm((512,), eps=1e-06, elementwise_affine=True)\n",
       "        (norm1_t): LayerNorm((512,), eps=1e-06, elementwise_affine=True)\n",
       "        (attn_s): Attention(\n",
       "          (attn_drop): Dropout(p=0.0, inplace=False)\n",
       "          (proj): Linear(in_features=512, out_features=512, bias=True)\n",
       "          (qkv): Linear(in_features=512, out_features=1536, bias=True)\n",
       "          (proj_drop): Dropout(p=0.0, inplace=False)\n",
       "        )\n",
       "        (attn_t): Attention(\n",
       "          (attn_drop): Dropout(p=0.0, inplace=False)\n",
       "          (proj): Linear(in_features=512, out_features=512, bias=True)\n",
       "          (qkv): Linear(in_features=512, out_features=1536, bias=True)\n",
       "          (proj_drop): Dropout(p=0.0, inplace=False)\n",
       "        )\n",
       "        (drop_path): Identity()\n",
       "        (norm2_s): LayerNorm((512,), eps=1e-06, elementwise_affine=True)\n",
       "        (norm2_t): LayerNorm((512,), eps=1e-06, elementwise_affine=True)\n",
       "        (mlp_s): MLP(\n",
       "          (fc1): Linear(in_features=512, out_features=1024, bias=True)\n",
       "          (act): GELU(approximate=none)\n",
       "          (fc2): Linear(in_features=1024, out_features=512, bias=True)\n",
       "          (drop): Dropout(p=0.0, inplace=False)\n",
       "        )\n",
       "        (mlp_t): MLP(\n",
       "          (fc1): Linear(in_features=512, out_features=1024, bias=True)\n",
       "          (act): GELU(approximate=none)\n",
       "          (fc2): Linear(in_features=1024, out_features=512, bias=True)\n",
       "          (drop): Dropout(p=0.0, inplace=False)\n",
       "        )\n",
       "      )\n",
       "      (3): Block(\n",
       "        (norm1_s): LayerNorm((512,), eps=1e-06, elementwise_affine=True)\n",
       "        (norm1_t): LayerNorm((512,), eps=1e-06, elementwise_affine=True)\n",
       "        (attn_s): Attention(\n",
       "          (attn_drop): Dropout(p=0.0, inplace=False)\n",
       "          (proj): Linear(in_features=512, out_features=512, bias=True)\n",
       "          (qkv): Linear(in_features=512, out_features=1536, bias=True)\n",
       "          (proj_drop): Dropout(p=0.0, inplace=False)\n",
       "        )\n",
       "        (attn_t): Attention(\n",
       "          (attn_drop): Dropout(p=0.0, inplace=False)\n",
       "          (proj): Linear(in_features=512, out_features=512, bias=True)\n",
       "          (qkv): Linear(in_features=512, out_features=1536, bias=True)\n",
       "          (proj_drop): Dropout(p=0.0, inplace=False)\n",
       "        )\n",
       "        (drop_path): Identity()\n",
       "        (norm2_s): LayerNorm((512,), eps=1e-06, elementwise_affine=True)\n",
       "        (norm2_t): LayerNorm((512,), eps=1e-06, elementwise_affine=True)\n",
       "        (mlp_s): MLP(\n",
       "          (fc1): Linear(in_features=512, out_features=1024, bias=True)\n",
       "          (act): GELU(approximate=none)\n",
       "          (fc2): Linear(in_features=1024, out_features=512, bias=True)\n",
       "          (drop): Dropout(p=0.0, inplace=False)\n",
       "        )\n",
       "        (mlp_t): MLP(\n",
       "          (fc1): Linear(in_features=512, out_features=1024, bias=True)\n",
       "          (act): GELU(approximate=none)\n",
       "          (fc2): Linear(in_features=1024, out_features=512, bias=True)\n",
       "          (drop): Dropout(p=0.0, inplace=False)\n",
       "        )\n",
       "      )\n",
       "      (4): Block(\n",
       "        (norm1_s): LayerNorm((512,), eps=1e-06, elementwise_affine=True)\n",
       "        (norm1_t): LayerNorm((512,), eps=1e-06, elementwise_affine=True)\n",
       "        (attn_s): Attention(\n",
       "          (attn_drop): Dropout(p=0.0, inplace=False)\n",
       "          (proj): Linear(in_features=512, out_features=512, bias=True)\n",
       "          (qkv): Linear(in_features=512, out_features=1536, bias=True)\n",
       "          (proj_drop): Dropout(p=0.0, inplace=False)\n",
       "        )\n",
       "        (attn_t): Attention(\n",
       "          (attn_drop): Dropout(p=0.0, inplace=False)\n",
       "          (proj): Linear(in_features=512, out_features=512, bias=True)\n",
       "          (qkv): Linear(in_features=512, out_features=1536, bias=True)\n",
       "          (proj_drop): Dropout(p=0.0, inplace=False)\n",
       "        )\n",
       "        (drop_path): Identity()\n",
       "        (norm2_s): LayerNorm((512,), eps=1e-06, elementwise_affine=True)\n",
       "        (norm2_t): LayerNorm((512,), eps=1e-06, elementwise_affine=True)\n",
       "        (mlp_s): MLP(\n",
       "          (fc1): Linear(in_features=512, out_features=1024, bias=True)\n",
       "          (act): GELU(approximate=none)\n",
       "          (fc2): Linear(in_features=1024, out_features=512, bias=True)\n",
       "          (drop): Dropout(p=0.0, inplace=False)\n",
       "        )\n",
       "        (mlp_t): MLP(\n",
       "          (fc1): Linear(in_features=512, out_features=1024, bias=True)\n",
       "          (act): GELU(approximate=none)\n",
       "          (fc2): Linear(in_features=1024, out_features=512, bias=True)\n",
       "          (drop): Dropout(p=0.0, inplace=False)\n",
       "        )\n",
       "      )\n",
       "    )\n",
       "    (blocks_ts): ModuleList(\n",
       "      (0): Block(\n",
       "        (norm1_s): LayerNorm((512,), eps=1e-06, elementwise_affine=True)\n",
       "        (norm1_t): LayerNorm((512,), eps=1e-06, elementwise_affine=True)\n",
       "        (attn_s): Attention(\n",
       "          (attn_drop): Dropout(p=0.0, inplace=False)\n",
       "          (proj): Linear(in_features=512, out_features=512, bias=True)\n",
       "          (qkv): Linear(in_features=512, out_features=1536, bias=True)\n",
       "          (proj_drop): Dropout(p=0.0, inplace=False)\n",
       "        )\n",
       "        (attn_t): Attention(\n",
       "          (attn_drop): Dropout(p=0.0, inplace=False)\n",
       "          (proj): Linear(in_features=512, out_features=512, bias=True)\n",
       "          (qkv): Linear(in_features=512, out_features=1536, bias=True)\n",
       "          (proj_drop): Dropout(p=0.0, inplace=False)\n",
       "        )\n",
       "        (drop_path): Identity()\n",
       "        (norm2_s): LayerNorm((512,), eps=1e-06, elementwise_affine=True)\n",
       "        (norm2_t): LayerNorm((512,), eps=1e-06, elementwise_affine=True)\n",
       "        (mlp_s): MLP(\n",
       "          (fc1): Linear(in_features=512, out_features=1024, bias=True)\n",
       "          (act): GELU(approximate=none)\n",
       "          (fc2): Linear(in_features=1024, out_features=512, bias=True)\n",
       "          (drop): Dropout(p=0.0, inplace=False)\n",
       "        )\n",
       "        (mlp_t): MLP(\n",
       "          (fc1): Linear(in_features=512, out_features=1024, bias=True)\n",
       "          (act): GELU(approximate=none)\n",
       "          (fc2): Linear(in_features=1024, out_features=512, bias=True)\n",
       "          (drop): Dropout(p=0.0, inplace=False)\n",
       "        )\n",
       "      )\n",
       "      (1): Block(\n",
       "        (norm1_s): LayerNorm((512,), eps=1e-06, elementwise_affine=True)\n",
       "        (norm1_t): LayerNorm((512,), eps=1e-06, elementwise_affine=True)\n",
       "        (attn_s): Attention(\n",
       "          (attn_drop): Dropout(p=0.0, inplace=False)\n",
       "          (proj): Linear(in_features=512, out_features=512, bias=True)\n",
       "          (qkv): Linear(in_features=512, out_features=1536, bias=True)\n",
       "          (proj_drop): Dropout(p=0.0, inplace=False)\n",
       "        )\n",
       "        (attn_t): Attention(\n",
       "          (attn_drop): Dropout(p=0.0, inplace=False)\n",
       "          (proj): Linear(in_features=512, out_features=512, bias=True)\n",
       "          (qkv): Linear(in_features=512, out_features=1536, bias=True)\n",
       "          (proj_drop): Dropout(p=0.0, inplace=False)\n",
       "        )\n",
       "        (drop_path): Identity()\n",
       "        (norm2_s): LayerNorm((512,), eps=1e-06, elementwise_affine=True)\n",
       "        (norm2_t): LayerNorm((512,), eps=1e-06, elementwise_affine=True)\n",
       "        (mlp_s): MLP(\n",
       "          (fc1): Linear(in_features=512, out_features=1024, bias=True)\n",
       "          (act): GELU(approximate=none)\n",
       "          (fc2): Linear(in_features=1024, out_features=512, bias=True)\n",
       "          (drop): Dropout(p=0.0, inplace=False)\n",
       "        )\n",
       "        (mlp_t): MLP(\n",
       "          (fc1): Linear(in_features=512, out_features=1024, bias=True)\n",
       "          (act): GELU(approximate=none)\n",
       "          (fc2): Linear(in_features=1024, out_features=512, bias=True)\n",
       "          (drop): Dropout(p=0.0, inplace=False)\n",
       "        )\n",
       "      )\n",
       "      (2): Block(\n",
       "        (norm1_s): LayerNorm((512,), eps=1e-06, elementwise_affine=True)\n",
       "        (norm1_t): LayerNorm((512,), eps=1e-06, elementwise_affine=True)\n",
       "        (attn_s): Attention(\n",
       "          (attn_drop): Dropout(p=0.0, inplace=False)\n",
       "          (proj): Linear(in_features=512, out_features=512, bias=True)\n",
       "          (qkv): Linear(in_features=512, out_features=1536, bias=True)\n",
       "          (proj_drop): Dropout(p=0.0, inplace=False)\n",
       "        )\n",
       "        (attn_t): Attention(\n",
       "          (attn_drop): Dropout(p=0.0, inplace=False)\n",
       "          (proj): Linear(in_features=512, out_features=512, bias=True)\n",
       "          (qkv): Linear(in_features=512, out_features=1536, bias=True)\n",
       "          (proj_drop): Dropout(p=0.0, inplace=False)\n",
       "        )\n",
       "        (drop_path): Identity()\n",
       "        (norm2_s): LayerNorm((512,), eps=1e-06, elementwise_affine=True)\n",
       "        (norm2_t): LayerNorm((512,), eps=1e-06, elementwise_affine=True)\n",
       "        (mlp_s): MLP(\n",
       "          (fc1): Linear(in_features=512, out_features=1024, bias=True)\n",
       "          (act): GELU(approximate=none)\n",
       "          (fc2): Linear(in_features=1024, out_features=512, bias=True)\n",
       "          (drop): Dropout(p=0.0, inplace=False)\n",
       "        )\n",
       "        (mlp_t): MLP(\n",
       "          (fc1): Linear(in_features=512, out_features=1024, bias=True)\n",
       "          (act): GELU(approximate=none)\n",
       "          (fc2): Linear(in_features=1024, out_features=512, bias=True)\n",
       "          (drop): Dropout(p=0.0, inplace=False)\n",
       "        )\n",
       "      )\n",
       "      (3): Block(\n",
       "        (norm1_s): LayerNorm((512,), eps=1e-06, elementwise_affine=True)\n",
       "        (norm1_t): LayerNorm((512,), eps=1e-06, elementwise_affine=True)\n",
       "        (attn_s): Attention(\n",
       "          (attn_drop): Dropout(p=0.0, inplace=False)\n",
       "          (proj): Linear(in_features=512, out_features=512, bias=True)\n",
       "          (qkv): Linear(in_features=512, out_features=1536, bias=True)\n",
       "          (proj_drop): Dropout(p=0.0, inplace=False)\n",
       "        )\n",
       "        (attn_t): Attention(\n",
       "          (attn_drop): Dropout(p=0.0, inplace=False)\n",
       "          (proj): Linear(in_features=512, out_features=512, bias=True)\n",
       "          (qkv): Linear(in_features=512, out_features=1536, bias=True)\n",
       "          (proj_drop): Dropout(p=0.0, inplace=False)\n",
       "        )\n",
       "        (drop_path): Identity()\n",
       "        (norm2_s): LayerNorm((512,), eps=1e-06, elementwise_affine=True)\n",
       "        (norm2_t): LayerNorm((512,), eps=1e-06, elementwise_affine=True)\n",
       "        (mlp_s): MLP(\n",
       "          (fc1): Linear(in_features=512, out_features=1024, bias=True)\n",
       "          (act): GELU(approximate=none)\n",
       "          (fc2): Linear(in_features=1024, out_features=512, bias=True)\n",
       "          (drop): Dropout(p=0.0, inplace=False)\n",
       "        )\n",
       "        (mlp_t): MLP(\n",
       "          (fc1): Linear(in_features=512, out_features=1024, bias=True)\n",
       "          (act): GELU(approximate=none)\n",
       "          (fc2): Linear(in_features=1024, out_features=512, bias=True)\n",
       "          (drop): Dropout(p=0.0, inplace=False)\n",
       "        )\n",
       "      )\n",
       "      (4): Block(\n",
       "        (norm1_s): LayerNorm((512,), eps=1e-06, elementwise_affine=True)\n",
       "        (norm1_t): LayerNorm((512,), eps=1e-06, elementwise_affine=True)\n",
       "        (attn_s): Attention(\n",
       "          (attn_drop): Dropout(p=0.0, inplace=False)\n",
       "          (proj): Linear(in_features=512, out_features=512, bias=True)\n",
       "          (qkv): Linear(in_features=512, out_features=1536, bias=True)\n",
       "          (proj_drop): Dropout(p=0.0, inplace=False)\n",
       "        )\n",
       "        (attn_t): Attention(\n",
       "          (attn_drop): Dropout(p=0.0, inplace=False)\n",
       "          (proj): Linear(in_features=512, out_features=512, bias=True)\n",
       "          (qkv): Linear(in_features=512, out_features=1536, bias=True)\n",
       "          (proj_drop): Dropout(p=0.0, inplace=False)\n",
       "        )\n",
       "        (drop_path): Identity()\n",
       "        (norm2_s): LayerNorm((512,), eps=1e-06, elementwise_affine=True)\n",
       "        (norm2_t): LayerNorm((512,), eps=1e-06, elementwise_affine=True)\n",
       "        (mlp_s): MLP(\n",
       "          (fc1): Linear(in_features=512, out_features=1024, bias=True)\n",
       "          (act): GELU(approximate=none)\n",
       "          (fc2): Linear(in_features=1024, out_features=512, bias=True)\n",
       "          (drop): Dropout(p=0.0, inplace=False)\n",
       "        )\n",
       "        (mlp_t): MLP(\n",
       "          (fc1): Linear(in_features=512, out_features=1024, bias=True)\n",
       "          (act): GELU(approximate=none)\n",
       "          (fc2): Linear(in_features=1024, out_features=512, bias=True)\n",
       "          (drop): Dropout(p=0.0, inplace=False)\n",
       "        )\n",
       "      )\n",
       "    )\n",
       "    (norm): LayerNorm((512,), eps=1e-06, elementwise_affine=True)\n",
       "    (pre_logits): Sequential(\n",
       "      (fc): Linear(in_features=512, out_features=512, bias=True)\n",
       "      (act): Tanh()\n",
       "    )\n",
       "    (head): Linear(in_features=512, out_features=3, bias=True)\n",
       "    (ts_attn): ModuleList(\n",
       "      (0): Linear(in_features=1024, out_features=2, bias=True)\n",
       "      (1): Linear(in_features=1024, out_features=2, bias=True)\n",
       "      (2): Linear(in_features=1024, out_features=2, bias=True)\n",
       "      (3): Linear(in_features=1024, out_features=2, bias=True)\n",
       "      (4): Linear(in_features=1024, out_features=2, bias=True)\n",
       "    )\n",
       "  )\n",
       ")"
      ]
     },
     "execution_count": 5,
     "metadata": {},
     "output_type": "execute_result"
    }
   ],
   "source": [
    "model_backbone = load_backbone(args)\n",
    "if torch.cuda.is_available():\n",
    "    model_backbone = nn.DataParallel(model_backbone)\n",
    "    model_backbone = model_backbone.cuda()\n",
    "\n",
    "print('Loading checkpoint', opts.evaluate)\n",
    "checkpoint = torch.load(opts.evaluate, map_location=lambda storage, loc: storage)\n",
    "model_backbone.load_state_dict(checkpoint['model_pos'], strict=True)\n",
    "model_pos = model_backbone\n",
    "model_pos.eval()"
   ]
  },
  {
   "cell_type": "code",
   "execution_count": 6,
   "metadata": {},
   "outputs": [],
   "source": [
    "# 예제 CLIP 파일\n",
    "os.chdir('/home/hrai/codes/MotionBERT')\n",
    "# with open('data/motion3d/MB3D_f243s81/AIHUB_243/train/00000025.pkl', 'rb') as f:\n",
    "# \ttest = pickle.load(f)\n",
    "# frame_num = 150\n",
    "\n",
    "# with open('data/motion3d/MB3D_f243s81/AIHUB_SPORTS_243/train/00000050.pkl', 'rb') as f:\n",
    "# \ttest = pickle.load(f)\n",
    "# frame_num = 100\n",
    "\n",
    "with open('data/motion3d/MB3D_f243s81/AIHUB_30_243/train/00000007.pkl', 'rb') as f:\n",
    "\ttest = pickle.load(f)\n",
    "frame_num = 200\n",
    "batch_input = torch.tensor(test['data_input'][frame_num].reshape(1, 1, 17, 3))"
   ]
  },
  {
   "cell_type": "code",
   "execution_count": 7,
   "metadata": {},
   "outputs": [],
   "source": [
    "result = model_pos(batch_input.float())\n",
    "result_array = result[0][0].cpu().detach().numpy()"
   ]
  },
  {
   "cell_type": "code",
   "execution_count": 8,
   "metadata": {},
   "outputs": [
    {
     "data": {
      "text/plain": [
       "(17, 3)"
      ]
     },
     "execution_count": 8,
     "metadata": {},
     "output_type": "execute_result"
    }
   ],
   "source": [
    "result_array.shape"
   ]
  },
  {
   "cell_type": "code",
   "execution_count": 9,
   "metadata": {},
   "outputs": [
    {
     "name": "stdout",
     "output_type": "stream",
     "text": [
      "total min:  -0.39021474 total max:  1.0098552\n"
     ]
    },
    {
     "data": {
      "application/vnd.plotly.v1+json": {
       "config": {
        "plotlyServerURL": "https://plot.ly"
       },
       "data": [
        {
         "marker": {
          "color": "blue",
          "size": 2
         },
         "mode": "markers",
         "type": "scatter",
         "x": [
          -0.15540021657943726
         ],
         "y": [
          0.04851698875427246
         ]
        },
        {
         "marker": {
          "color": "blue",
          "size": 2
         },
         "mode": "markers",
         "type": "scatter",
         "x": [
          -0.15540021657943726
         ],
         "y": [
          0.054244160652160645
         ]
        },
        {
         "marker": {
          "color": "blue",
          "size": 2
         },
         "mode": "markers",
         "type": "scatter",
         "x": [
          -0.17830890417099
         ],
         "y": [
          0.14015191793441772
         ]
        },
        {
         "marker": {
          "color": "blue",
          "size": 2
         },
         "mode": "markers",
         "type": "scatter",
         "x": [
          -0.17830890417099
         ],
         "y": [
          0.22033250331878662
         ]
        },
        {
         "marker": {
          "color": "blue",
          "size": 2
         },
         "mode": "markers",
         "type": "scatter",
         "x": [
          -0.16112738847732544
         ],
         "y": [
          0.06569856405258179
         ]
        },
        {
         "marker": {
          "color": "blue",
          "size": 2
         },
         "mode": "markers",
         "type": "scatter",
         "x": [
          -0.17830890417099
         ],
         "y": [
          0.16878783702850342
         ]
        },
        {
         "marker": {
          "color": "blue",
          "size": 2
         },
         "mode": "markers",
         "type": "scatter",
         "x": [
          -0.17830890417099
         ],
         "y": [
          0.29478585720062256
         ]
        },
        {
         "marker": {
          "color": "blue",
          "size": 2
         },
         "mode": "markers",
         "type": "scatter",
         "x": [
          -0.1754453182220459
         ],
         "y": [
          -0.048845112323760986
         ]
        },
        {
         "marker": {
          "color": "blue",
          "size": 2
         },
         "mode": "markers",
         "type": "scatter",
         "x": [
          -0.19549047946929932
         ],
         "y": [
          -0.14620724320411682
         ]
        },
        {
         "marker": {
          "color": "blue",
          "size": 2
         },
         "mode": "markers",
         "type": "scatter",
         "x": [
          -0.24703514575958252
         ],
         "y": [
          -0.1805703341960907
         ]
        },
        {
         "marker": {
          "color": "blue",
          "size": 2
         },
         "mode": "markers",
         "type": "scatter",
         "x": [
          -0.21267205476760864
         ],
         "y": [
          -0.23784217238426208
         ]
        },
        {
         "marker": {
          "color": "blue",
          "size": 2
         },
         "mode": "markers",
         "type": "scatter",
         "x": [
          -0.19549047946929932
         ],
         "y": [
          -0.10611695051193237
         ]
        },
        {
         "marker": {
          "color": "blue",
          "size": 2
         },
         "mode": "markers",
         "type": "scatter",
         "x": [
          -0.2985798120498657
         ],
         "y": [
          -0.08893540501594543
         ]
        },
        {
         "marker": {
          "color": "blue",
          "size": 2
         },
         "mode": "markers",
         "type": "scatter",
         "x": [
          -0.390214741230011
         ],
         "y": [
          -0.1232985258102417
         ]
        },
        {
         "marker": {
          "color": "blue",
          "size": 2
         },
         "mode": "markers",
         "type": "scatter",
         "x": [
          -0.18976330757141113
         ],
         "y": [
          -0.14620724320411682
         ]
        },
        {
         "marker": {
          "color": "blue",
          "size": 2
         },
         "mode": "markers",
         "type": "scatter",
         "x": [
          -0.2813982367515564
         ],
         "y": [
          -0.14620724320411682
         ]
        },
        {
         "marker": {
          "color": "blue",
          "size": 2
         },
         "mode": "markers",
         "type": "scatter",
         "x": [
          -0.37303322553634644
         ],
         "y": [
          -0.1519344449043274
         ]
        },
        {
         "line": {
          "color": "black"
         },
         "mode": "lines",
         "type": "scatter",
         "x": [
          -0.15540021657943726,
          -0.15540021657943726
         ],
         "y": [
          0.04851698875427246,
          0.054244160652160645
         ]
        },
        {
         "line": {
          "color": "black"
         },
         "mode": "lines",
         "type": "scatter",
         "x": [
          -0.15540021657943726,
          -0.16112738847732544
         ],
         "y": [
          0.04851698875427246,
          0.06569856405258179
         ]
        },
        {
         "line": {
          "color": "black"
         },
         "mode": "lines",
         "type": "scatter",
         "x": [
          -0.15540021657943726,
          -0.1754453182220459
         ],
         "y": [
          0.04851698875427246,
          -0.048845112323760986
         ]
        },
        {
         "line": {
          "color": "black"
         },
         "mode": "lines",
         "type": "scatter",
         "x": [
          -0.15540021657943726,
          -0.17830890417099
         ],
         "y": [
          0.054244160652160645,
          0.14015191793441772
         ]
        },
        {
         "line": {
          "color": "black"
         },
         "mode": "lines",
         "type": "scatter",
         "x": [
          -0.17830890417099,
          -0.17830890417099
         ],
         "y": [
          0.14015191793441772,
          0.22033250331878662
         ]
        },
        {
         "line": {
          "color": "black"
         },
         "mode": "lines",
         "type": "scatter",
         "x": [
          -0.16112738847732544,
          -0.17830890417099
         ],
         "y": [
          0.06569856405258179,
          0.16878783702850342
         ]
        },
        {
         "line": {
          "color": "black"
         },
         "mode": "lines",
         "type": "scatter",
         "x": [
          -0.17830890417099,
          -0.17830890417099
         ],
         "y": [
          0.16878783702850342,
          0.29478585720062256
         ]
        },
        {
         "line": {
          "color": "black"
         },
         "mode": "lines",
         "type": "scatter",
         "x": [
          -0.1754453182220459,
          -0.19549047946929932
         ],
         "y": [
          -0.048845112323760986,
          -0.14620724320411682
         ]
        },
        {
         "line": {
          "color": "black"
         },
         "mode": "lines",
         "type": "scatter",
         "x": [
          -0.19549047946929932,
          -0.24703514575958252
         ],
         "y": [
          -0.14620724320411682,
          -0.1805703341960907
         ]
        },
        {
         "line": {
          "color": "black"
         },
         "mode": "lines",
         "type": "scatter",
         "x": [
          -0.24703514575958252,
          -0.21267205476760864
         ],
         "y": [
          -0.1805703341960907,
          -0.23784217238426208
         ]
        },
        {
         "line": {
          "color": "black"
         },
         "mode": "lines",
         "type": "scatter",
         "x": [
          -0.19549047946929932,
          -0.18976330757141113
         ],
         "y": [
          -0.14620724320411682,
          -0.14620724320411682
         ]
        },
        {
         "line": {
          "color": "black"
         },
         "mode": "lines",
         "type": "scatter",
         "x": [
          -0.18976330757141113,
          -0.2813982367515564
         ],
         "y": [
          -0.14620724320411682,
          -0.14620724320411682
         ]
        },
        {
         "line": {
          "color": "black"
         },
         "mode": "lines",
         "type": "scatter",
         "x": [
          -0.2813982367515564,
          -0.37303322553634644
         ],
         "y": [
          -0.14620724320411682,
          -0.1519344449043274
         ]
        },
        {
         "line": {
          "color": "black"
         },
         "mode": "lines",
         "type": "scatter",
         "x": [
          -0.19549047946929932,
          -0.19549047946929932
         ],
         "y": [
          -0.14620724320411682,
          -0.10611695051193237
         ]
        },
        {
         "line": {
          "color": "black"
         },
         "mode": "lines",
         "type": "scatter",
         "x": [
          -0.19549047946929932,
          -0.2985798120498657
         ],
         "y": [
          -0.10611695051193237,
          -0.08893540501594543
         ]
        },
        {
         "line": {
          "color": "black"
         },
         "mode": "lines",
         "type": "scatter",
         "x": [
          -0.2985798120498657,
          -0.390214741230011
         ],
         "y": [
          -0.08893540501594543,
          -0.1232985258102417
         ]
        }
       ],
       "layout": {
        "height": 620,
        "template": {
         "data": {
          "bar": [
           {
            "error_x": {
             "color": "#2a3f5f"
            },
            "error_y": {
             "color": "#2a3f5f"
            },
            "marker": {
             "line": {
              "color": "white",
              "width": 0.5
             },
             "pattern": {
              "fillmode": "overlay",
              "size": 10,
              "solidity": 0.2
             }
            },
            "type": "bar"
           }
          ],
          "barpolar": [
           {
            "marker": {
             "line": {
              "color": "white",
              "width": 0.5
             },
             "pattern": {
              "fillmode": "overlay",
              "size": 10,
              "solidity": 0.2
             }
            },
            "type": "barpolar"
           }
          ],
          "carpet": [
           {
            "aaxis": {
             "endlinecolor": "#2a3f5f",
             "gridcolor": "#C8D4E3",
             "linecolor": "#C8D4E3",
             "minorgridcolor": "#C8D4E3",
             "startlinecolor": "#2a3f5f"
            },
            "baxis": {
             "endlinecolor": "#2a3f5f",
             "gridcolor": "#C8D4E3",
             "linecolor": "#C8D4E3",
             "minorgridcolor": "#C8D4E3",
             "startlinecolor": "#2a3f5f"
            },
            "type": "carpet"
           }
          ],
          "choropleth": [
           {
            "colorbar": {
             "outlinewidth": 0,
             "ticks": ""
            },
            "type": "choropleth"
           }
          ],
          "contour": [
           {
            "colorbar": {
             "outlinewidth": 0,
             "ticks": ""
            },
            "colorscale": [
             [
              0,
              "#0d0887"
             ],
             [
              0.1111111111111111,
              "#46039f"
             ],
             [
              0.2222222222222222,
              "#7201a8"
             ],
             [
              0.3333333333333333,
              "#9c179e"
             ],
             [
              0.4444444444444444,
              "#bd3786"
             ],
             [
              0.5555555555555556,
              "#d8576b"
             ],
             [
              0.6666666666666666,
              "#ed7953"
             ],
             [
              0.7777777777777778,
              "#fb9f3a"
             ],
             [
              0.8888888888888888,
              "#fdca26"
             ],
             [
              1,
              "#f0f921"
             ]
            ],
            "type": "contour"
           }
          ],
          "contourcarpet": [
           {
            "colorbar": {
             "outlinewidth": 0,
             "ticks": ""
            },
            "type": "contourcarpet"
           }
          ],
          "heatmap": [
           {
            "colorbar": {
             "outlinewidth": 0,
             "ticks": ""
            },
            "colorscale": [
             [
              0,
              "#0d0887"
             ],
             [
              0.1111111111111111,
              "#46039f"
             ],
             [
              0.2222222222222222,
              "#7201a8"
             ],
             [
              0.3333333333333333,
              "#9c179e"
             ],
             [
              0.4444444444444444,
              "#bd3786"
             ],
             [
              0.5555555555555556,
              "#d8576b"
             ],
             [
              0.6666666666666666,
              "#ed7953"
             ],
             [
              0.7777777777777778,
              "#fb9f3a"
             ],
             [
              0.8888888888888888,
              "#fdca26"
             ],
             [
              1,
              "#f0f921"
             ]
            ],
            "type": "heatmap"
           }
          ],
          "heatmapgl": [
           {
            "colorbar": {
             "outlinewidth": 0,
             "ticks": ""
            },
            "colorscale": [
             [
              0,
              "#0d0887"
             ],
             [
              0.1111111111111111,
              "#46039f"
             ],
             [
              0.2222222222222222,
              "#7201a8"
             ],
             [
              0.3333333333333333,
              "#9c179e"
             ],
             [
              0.4444444444444444,
              "#bd3786"
             ],
             [
              0.5555555555555556,
              "#d8576b"
             ],
             [
              0.6666666666666666,
              "#ed7953"
             ],
             [
              0.7777777777777778,
              "#fb9f3a"
             ],
             [
              0.8888888888888888,
              "#fdca26"
             ],
             [
              1,
              "#f0f921"
             ]
            ],
            "type": "heatmapgl"
           }
          ],
          "histogram": [
           {
            "marker": {
             "pattern": {
              "fillmode": "overlay",
              "size": 10,
              "solidity": 0.2
             }
            },
            "type": "histogram"
           }
          ],
          "histogram2d": [
           {
            "colorbar": {
             "outlinewidth": 0,
             "ticks": ""
            },
            "colorscale": [
             [
              0,
              "#0d0887"
             ],
             [
              0.1111111111111111,
              "#46039f"
             ],
             [
              0.2222222222222222,
              "#7201a8"
             ],
             [
              0.3333333333333333,
              "#9c179e"
             ],
             [
              0.4444444444444444,
              "#bd3786"
             ],
             [
              0.5555555555555556,
              "#d8576b"
             ],
             [
              0.6666666666666666,
              "#ed7953"
             ],
             [
              0.7777777777777778,
              "#fb9f3a"
             ],
             [
              0.8888888888888888,
              "#fdca26"
             ],
             [
              1,
              "#f0f921"
             ]
            ],
            "type": "histogram2d"
           }
          ],
          "histogram2dcontour": [
           {
            "colorbar": {
             "outlinewidth": 0,
             "ticks": ""
            },
            "colorscale": [
             [
              0,
              "#0d0887"
             ],
             [
              0.1111111111111111,
              "#46039f"
             ],
             [
              0.2222222222222222,
              "#7201a8"
             ],
             [
              0.3333333333333333,
              "#9c179e"
             ],
             [
              0.4444444444444444,
              "#bd3786"
             ],
             [
              0.5555555555555556,
              "#d8576b"
             ],
             [
              0.6666666666666666,
              "#ed7953"
             ],
             [
              0.7777777777777778,
              "#fb9f3a"
             ],
             [
              0.8888888888888888,
              "#fdca26"
             ],
             [
              1,
              "#f0f921"
             ]
            ],
            "type": "histogram2dcontour"
           }
          ],
          "mesh3d": [
           {
            "colorbar": {
             "outlinewidth": 0,
             "ticks": ""
            },
            "type": "mesh3d"
           }
          ],
          "parcoords": [
           {
            "line": {
             "colorbar": {
              "outlinewidth": 0,
              "ticks": ""
             }
            },
            "type": "parcoords"
           }
          ],
          "pie": [
           {
            "automargin": true,
            "type": "pie"
           }
          ],
          "scatter": [
           {
            "fillpattern": {
             "fillmode": "overlay",
             "size": 10,
             "solidity": 0.2
            },
            "type": "scatter"
           }
          ],
          "scatter3d": [
           {
            "line": {
             "colorbar": {
              "outlinewidth": 0,
              "ticks": ""
             }
            },
            "marker": {
             "colorbar": {
              "outlinewidth": 0,
              "ticks": ""
             }
            },
            "type": "scatter3d"
           }
          ],
          "scattercarpet": [
           {
            "marker": {
             "colorbar": {
              "outlinewidth": 0,
              "ticks": ""
             }
            },
            "type": "scattercarpet"
           }
          ],
          "scattergeo": [
           {
            "marker": {
             "colorbar": {
              "outlinewidth": 0,
              "ticks": ""
             }
            },
            "type": "scattergeo"
           }
          ],
          "scattergl": [
           {
            "marker": {
             "colorbar": {
              "outlinewidth": 0,
              "ticks": ""
             }
            },
            "type": "scattergl"
           }
          ],
          "scattermapbox": [
           {
            "marker": {
             "colorbar": {
              "outlinewidth": 0,
              "ticks": ""
             }
            },
            "type": "scattermapbox"
           }
          ],
          "scatterpolar": [
           {
            "marker": {
             "colorbar": {
              "outlinewidth": 0,
              "ticks": ""
             }
            },
            "type": "scatterpolar"
           }
          ],
          "scatterpolargl": [
           {
            "marker": {
             "colorbar": {
              "outlinewidth": 0,
              "ticks": ""
             }
            },
            "type": "scatterpolargl"
           }
          ],
          "scatterternary": [
           {
            "marker": {
             "colorbar": {
              "outlinewidth": 0,
              "ticks": ""
             }
            },
            "type": "scatterternary"
           }
          ],
          "surface": [
           {
            "colorbar": {
             "outlinewidth": 0,
             "ticks": ""
            },
            "colorscale": [
             [
              0,
              "#0d0887"
             ],
             [
              0.1111111111111111,
              "#46039f"
             ],
             [
              0.2222222222222222,
              "#7201a8"
             ],
             [
              0.3333333333333333,
              "#9c179e"
             ],
             [
              0.4444444444444444,
              "#bd3786"
             ],
             [
              0.5555555555555556,
              "#d8576b"
             ],
             [
              0.6666666666666666,
              "#ed7953"
             ],
             [
              0.7777777777777778,
              "#fb9f3a"
             ],
             [
              0.8888888888888888,
              "#fdca26"
             ],
             [
              1,
              "#f0f921"
             ]
            ],
            "type": "surface"
           }
          ],
          "table": [
           {
            "cells": {
             "fill": {
              "color": "#EBF0F8"
             },
             "line": {
              "color": "white"
             }
            },
            "header": {
             "fill": {
              "color": "#C8D4E3"
             },
             "line": {
              "color": "white"
             }
            },
            "type": "table"
           }
          ]
         },
         "layout": {
          "annotationdefaults": {
           "arrowcolor": "#2a3f5f",
           "arrowhead": 0,
           "arrowwidth": 1
          },
          "autotypenumbers": "strict",
          "coloraxis": {
           "colorbar": {
            "outlinewidth": 0,
            "ticks": ""
           }
          },
          "colorscale": {
           "diverging": [
            [
             0,
             "#8e0152"
            ],
            [
             0.1,
             "#c51b7d"
            ],
            [
             0.2,
             "#de77ae"
            ],
            [
             0.3,
             "#f1b6da"
            ],
            [
             0.4,
             "#fde0ef"
            ],
            [
             0.5,
             "#f7f7f7"
            ],
            [
             0.6,
             "#e6f5d0"
            ],
            [
             0.7,
             "#b8e186"
            ],
            [
             0.8,
             "#7fbc41"
            ],
            [
             0.9,
             "#4d9221"
            ],
            [
             1,
             "#276419"
            ]
           ],
           "sequential": [
            [
             0,
             "#0d0887"
            ],
            [
             0.1111111111111111,
             "#46039f"
            ],
            [
             0.2222222222222222,
             "#7201a8"
            ],
            [
             0.3333333333333333,
             "#9c179e"
            ],
            [
             0.4444444444444444,
             "#bd3786"
            ],
            [
             0.5555555555555556,
             "#d8576b"
            ],
            [
             0.6666666666666666,
             "#ed7953"
            ],
            [
             0.7777777777777778,
             "#fb9f3a"
            ],
            [
             0.8888888888888888,
             "#fdca26"
            ],
            [
             1,
             "#f0f921"
            ]
           ],
           "sequentialminus": [
            [
             0,
             "#0d0887"
            ],
            [
             0.1111111111111111,
             "#46039f"
            ],
            [
             0.2222222222222222,
             "#7201a8"
            ],
            [
             0.3333333333333333,
             "#9c179e"
            ],
            [
             0.4444444444444444,
             "#bd3786"
            ],
            [
             0.5555555555555556,
             "#d8576b"
            ],
            [
             0.6666666666666666,
             "#ed7953"
            ],
            [
             0.7777777777777778,
             "#fb9f3a"
            ],
            [
             0.8888888888888888,
             "#fdca26"
            ],
            [
             1,
             "#f0f921"
            ]
           ]
          },
          "colorway": [
           "#636efa",
           "#EF553B",
           "#00cc96",
           "#ab63fa",
           "#FFA15A",
           "#19d3f3",
           "#FF6692",
           "#B6E880",
           "#FF97FF",
           "#FECB52"
          ],
          "font": {
           "color": "#2a3f5f"
          },
          "geo": {
           "bgcolor": "white",
           "lakecolor": "white",
           "landcolor": "white",
           "showlakes": true,
           "showland": true,
           "subunitcolor": "#C8D4E3"
          },
          "hoverlabel": {
           "align": "left"
          },
          "hovermode": "closest",
          "mapbox": {
           "style": "light"
          },
          "paper_bgcolor": "white",
          "plot_bgcolor": "white",
          "polar": {
           "angularaxis": {
            "gridcolor": "#EBF0F8",
            "linecolor": "#EBF0F8",
            "ticks": ""
           },
           "bgcolor": "white",
           "radialaxis": {
            "gridcolor": "#EBF0F8",
            "linecolor": "#EBF0F8",
            "ticks": ""
           }
          },
          "scene": {
           "xaxis": {
            "backgroundcolor": "white",
            "gridcolor": "#DFE8F3",
            "gridwidth": 2,
            "linecolor": "#EBF0F8",
            "showbackground": true,
            "ticks": "",
            "zerolinecolor": "#EBF0F8"
           },
           "yaxis": {
            "backgroundcolor": "white",
            "gridcolor": "#DFE8F3",
            "gridwidth": 2,
            "linecolor": "#EBF0F8",
            "showbackground": true,
            "ticks": "",
            "zerolinecolor": "#EBF0F8"
           },
           "zaxis": {
            "backgroundcolor": "white",
            "gridcolor": "#DFE8F3",
            "gridwidth": 2,
            "linecolor": "#EBF0F8",
            "showbackground": true,
            "ticks": "",
            "zerolinecolor": "#EBF0F8"
           }
          },
          "shapedefaults": {
           "line": {
            "color": "#2a3f5f"
           }
          },
          "ternary": {
           "aaxis": {
            "gridcolor": "#DFE8F3",
            "linecolor": "#A2B1C6",
            "ticks": ""
           },
           "baxis": {
            "gridcolor": "#DFE8F3",
            "linecolor": "#A2B1C6",
            "ticks": ""
           },
           "bgcolor": "white",
           "caxis": {
            "gridcolor": "#DFE8F3",
            "linecolor": "#A2B1C6",
            "ticks": ""
           }
          },
          "title": {
           "x": 0.05
          },
          "xaxis": {
           "automargin": true,
           "gridcolor": "#EBF0F8",
           "linecolor": "#EBF0F8",
           "ticks": "",
           "title": {
            "standoff": 15
           },
           "zerolinecolor": "#EBF0F8",
           "zerolinewidth": 2
          },
          "yaxis": {
           "automargin": true,
           "gridcolor": "#EBF0F8",
           "linecolor": "#EBF0F8",
           "ticks": "",
           "title": {
            "standoff": 15
           },
           "zerolinecolor": "#EBF0F8",
           "zerolinewidth": 2
          }
         }
        },
        "width": 1000,
        "xaxis": {
         "range": [
          0,
          1920
         ]
        },
        "yaxis": {
         "range": [
          1080,
          0
         ]
        }
       }
      }
     },
     "metadata": {},
     "output_type": "display_data"
    },
    {
     "data": {
      "text/plain": [
       "<ipywidgets.widgets.interaction._InteractFactory at 0x7f386c5d4640>"
      ]
     },
     "execution_count": 9,
     "metadata": {},
     "output_type": "execute_result"
    }
   ],
   "source": [
    "# 2d input\n",
    "aihub_2d = copy.deepcopy(test['data_input'][frame_num])\n",
    "# 2d skeleton\n",
    "pos = copy.deepcopy(aihub_2d)\n",
    "points_aihub_2d = {}\n",
    "for i, p in enumerate(pos):\n",
    "    p = np.append(p, 0.0)\n",
    "    #print(i, h36m_keypoints[i], p)\n",
    "    points_aihub_2d[i] = p\n",
    "pos_vector = pos.reshape(-1) # (51,)\n",
    "total_min, total_max = pos_vector.min(), pos_vector.max()\n",
    "print(\"total min: \", total_min,\n",
    "      \"total max: \", total_max)\n",
    "\n",
    "interact(draw_skeleton_2d(points_aihub_2d, h36m_connections))"
   ]
  },
  {
   "cell_type": "code",
   "execution_count": 10,
   "metadata": {},
   "outputs": [],
   "source": [
    "import matplotlib\n",
    "import matplotlib.pyplot as plt\n",
    "from mpl_toolkits.mplot3d import Axes3D\n",
    "import matplotlib.gridspec as gridspec\n",
    "\n",
    "plt.switch_backend('TkAgg')\n",
    "matplotlib.rcParams['pdf.fonttype'] = 42\n",
    "matplotlib.rcParams['ps.fonttype'] = 42"
   ]
  },
  {
   "cell_type": "code",
   "execution_count": 11,
   "metadata": {},
   "outputs": [
    {
     "data": {
      "text/plain": [
       "(17, 3)"
      ]
     },
     "execution_count": 11,
     "metadata": {},
     "output_type": "execute_result"
    }
   ],
   "source": [
    "# gt\n",
    "aihub_3d = copy.deepcopy(test['data_label'][frame_num])\n",
    "aihub_3d.shape"
   ]
  },
  {
   "cell_type": "code",
   "execution_count": 12,
   "metadata": {},
   "outputs": [
    {
     "data": {
      "text/plain": [
       "0.048183262"
      ]
     },
     "execution_count": 12,
     "metadata": {},
     "output_type": "execute_result"
    }
   ],
   "source": [
    "aihub_3d[1,1]"
   ]
  },
  {
   "cell_type": "code",
   "execution_count": 13,
   "metadata": {},
   "outputs": [],
   "source": [
    "visualize_3d_pose([get_rootrel_pose(aihub_3d*1000*3), result_array*1000*3])"
   ]
  },
  {
   "cell_type": "code",
   "execution_count": 14,
   "metadata": {},
   "outputs": [
    {
     "data": {
      "text/plain": [
       "189.21756"
      ]
     },
     "execution_count": 14,
     "metadata": {},
     "output_type": "execute_result"
    }
   ],
   "source": [
    "MPJPE_for_single_pose(get_rootrel_pose(aihub_3d*1000*3), result_array*1000*3)"
   ]
  },
  {
   "cell_type": "markdown",
   "metadata": {},
   "source": [
    "### ------------ Previous visualization ---------------"
   ]
  },
  {
   "cell_type": "code",
   "execution_count": 7,
   "metadata": {},
   "outputs": [
    {
     "ename": "NameError",
     "evalue": "name 'test' is not defined",
     "output_type": "error",
     "traceback": [
      "\u001b[0;31m---------------------------------------------------------------------------\u001b[0m",
      "\u001b[0;31mNameError\u001b[0m                                 Traceback (most recent call last)",
      "Cell \u001b[0;32mIn[7], line 2\u001b[0m\n\u001b[1;32m      1\u001b[0m \u001b[39m# gt\u001b[39;00m\n\u001b[0;32m----> 2\u001b[0m aihub_3d \u001b[39m=\u001b[39m copy\u001b[39m.\u001b[39mdeepcopy(test[\u001b[39m'\u001b[39m\u001b[39mdata_label\u001b[39m\u001b[39m'\u001b[39m][frame_num])\n\u001b[1;32m      3\u001b[0m pos \u001b[39m=\u001b[39m copy\u001b[39m.\u001b[39mdeepcopy(aihub_3d)\n\u001b[1;32m      4\u001b[0m points_aihub_3d \u001b[39m=\u001b[39m {}\n",
      "\u001b[0;31mNameError\u001b[0m: name 'test' is not defined"
     ]
    }
   ],
   "source": [
    "# gt\n",
    "aihub_3d = copy.deepcopy(test['data_label'][frame_num])\n",
    "pos = copy.deepcopy(aihub_3d)\n",
    "points_aihub_3d = {}\n",
    "for i, p in enumerate(pos):\n",
    "    #print(i, h36m_keypoints[i], p)\n",
    "    points_aihub_3d[i] = np.array([p[0], -p[2], -p[1]]) #np.array([p[0], p[1], p[2]])  #np.array([p[0], -p[2], p[1]])\n",
    "pos_vector = pos.reshape(-1) # (51,)\n",
    "total_min, total_max = pos_vector.min(), pos_vector.max()\n",
    "print(\"total min: \", total_min,\n",
    "      \"total max: \", total_max)\n",
    "\n",
    "fig = draw_skeleton(points_aihub_3d, h36m_connections)\n",
    "fig.show()"
   ]
  },
  {
   "cell_type": "code",
   "execution_count": 24,
   "metadata": {},
   "outputs": [
    {
     "name": "stdout",
     "output_type": "stream",
     "text": [
      "total min:  -0.27778554 total max:  0.24165273\n"
     ]
    },
    {
     "data": {
      "application/vnd.plotly.v1+json": {
       "config": {
        "plotlyServerURL": "https://plot.ly"
       },
       "data": [
        {
         "marker": {
          "color": "red",
          "size": 5
         },
         "mode": "markers",
         "type": "scatter3d",
         "x": [
          0
         ],
         "y": [
          0
         ],
         "z": [
          0
         ]
        },
        {
         "marker": {
          "color": "blue",
          "size": 2
         },
         "mode": "markers",
         "type": "scatter3d",
         "x": [
          0.0002670615795068443
         ],
         "y": [
          0.000015712808817625046
         ],
         "z": [
          -0.000013676472008228302
         ]
        },
        {
         "marker": {
          "color": "blue",
          "size": 2
         },
         "mode": "markers",
         "type": "scatter3d",
         "x": [
          0.002709431806579232
         ],
         "y": [
          -0.018372729420661926
         ],
         "z": [
          0.010517689399421215
         ]
        },
        {
         "marker": {
          "color": "blue",
          "size": 2
         },
         "mode": "markers",
         "type": "scatter3d",
         "x": [
          -0.011928618885576725
         ],
         "y": [
          -0.09558307379484177
         ],
         "z": [
          -0.0881054550409317
         ]
        },
        {
         "marker": {
          "color": "blue",
          "size": 2
         },
         "mode": "markers",
         "type": "scatter3d",
         "x": [
          -0.00920973252505064
         ],
         "y": [
          -0.1833391934633255
         ],
         "z": [
          -0.17149779200553894
         ]
        },
        {
         "marker": {
          "color": "blue",
          "size": 2
         },
         "mode": "markers",
         "type": "scatter3d",
         "x": [
          -0.0013800857122987509
         ],
         "y": [
          0.02056349813938141
         ],
         "z": [
          -0.01173484418541193
         ]
        },
        {
         "marker": {
          "color": "blue",
          "size": 2
         },
         "mode": "markers",
         "type": "scatter3d",
         "x": [
          -0.015223984606564045
         ],
         "y": [
          -0.04792093113064766
         ],
         "z": [
          -0.11982478201389313
         ]
        },
        {
         "marker": {
          "color": "blue",
          "size": 2
         },
         "mode": "markers",
         "type": "scatter3d",
         "x": [
          -0.015317604877054691
         ],
         "y": [
          -0.09576889127492905
         ],
         "z": [
          -0.2416527271270752
         ]
        },
        {
         "marker": {
          "color": "blue",
          "size": 2
         },
         "mode": "markers",
         "type": "scatter3d",
         "x": [
          -0.017352627590298653
         ],
         "y": [
          0.06354141980409622
         ],
         "z": [
          0.10936858505010605
         ]
        },
        {
         "marker": {
          "color": "blue",
          "size": 2
         },
         "mode": "markers",
         "type": "scatter3d",
         "x": [
          -0.012960005551576614
         ],
         "y": [
          0.11837614327669144
         ],
         "z": [
          0.20429739356040955
         ]
        },
        {
         "marker": {
          "color": "blue",
          "size": 2
         },
         "mode": "markers",
         "type": "scatter3d",
         "x": [
          -0.03188955411314964
         ],
         "y": [
          0.14242951571941376
         ],
         "z": [
          0.23854276537895203
         ]
        },
        {
         "marker": {
          "color": "blue",
          "size": 2
         },
         "mode": "markers",
         "type": "scatter3d",
         "x": [
          -0.01790231093764305
         ],
         "y": [
          0.15936042368412018
         ],
         "z": [
          0.2777855396270752
         ]
        },
        {
         "marker": {
          "color": "blue",
          "size": 2
         },
         "mode": "markers",
         "type": "scatter3d",
         "x": [
          -0.017851149663329124
         ],
         "y": [
          0.16117748618125916
         ],
         "z": [
          0.15437614917755127
         ]
        },
        {
         "marker": {
          "color": "blue",
          "size": 2
         },
         "mode": "markers",
         "type": "scatter3d",
         "x": [
          -0.11457664519548416
         ],
         "y": [
          0.18385037779808044
         ],
         "z": [
          0.1286420077085495
         ]
        },
        {
         "marker": {
          "color": "blue",
          "size": 2
         },
         "mode": "markers",
         "type": "scatter3d",
         "x": [
          -0.194880411028862
         ],
         "y": [
          0.1534702032804489
         ],
         "z": [
          0.16604730486869812
         ]
        },
        {
         "marker": {
          "color": "blue",
          "size": 2
         },
         "mode": "markers",
         "type": "scatter3d",
         "x": [
          -0.014401353895664215
         ],
         "y": [
          0.04566173627972603
         ],
         "z": [
          0.21424630284309387
         ]
        },
        {
         "marker": {
          "color": "blue",
          "size": 2
         },
         "mode": "markers",
         "type": "scatter3d",
         "x": [
          -0.09702950716018677
         ],
         "y": [
          0.03623290732502937
         ],
         "z": [
          0.2116408348083496
         ]
        },
        {
         "marker": {
          "color": "blue",
          "size": 2
         },
         "mode": "markers",
         "type": "scatter3d",
         "x": [
          -0.18297439813613892
         ],
         "y": [
          0.06928545981645584
         ],
         "z": [
          0.21177497506141663
         ]
        },
        {
         "line": {
          "color": "black"
         },
         "mode": "lines",
         "type": "scatter3d",
         "x": [
          0.0002670615795068443,
          0.002709431806579232
         ],
         "y": [
          0.000015712808817625046,
          -0.018372729420661926
         ],
         "z": [
          -0.000013676472008228302,
          0.010517689399421215
         ]
        },
        {
         "line": {
          "color": "black"
         },
         "mode": "lines",
         "type": "scatter3d",
         "x": [
          0.0002670615795068443,
          -0.0013800857122987509
         ],
         "y": [
          0.000015712808817625046,
          0.02056349813938141
         ],
         "z": [
          -0.000013676472008228302,
          -0.01173484418541193
         ]
        },
        {
         "line": {
          "color": "black"
         },
         "mode": "lines",
         "type": "scatter3d",
         "x": [
          0.0002670615795068443,
          -0.017352627590298653
         ],
         "y": [
          0.000015712808817625046,
          0.06354141980409622
         ],
         "z": [
          -0.000013676472008228302,
          0.10936858505010605
         ]
        },
        {
         "line": {
          "color": "black"
         },
         "mode": "lines",
         "type": "scatter3d",
         "x": [
          0.002709431806579232,
          -0.011928618885576725
         ],
         "y": [
          -0.018372729420661926,
          -0.09558307379484177
         ],
         "z": [
          0.010517689399421215,
          -0.0881054550409317
         ]
        },
        {
         "line": {
          "color": "black"
         },
         "mode": "lines",
         "type": "scatter3d",
         "x": [
          -0.011928618885576725,
          -0.00920973252505064
         ],
         "y": [
          -0.09558307379484177,
          -0.1833391934633255
         ],
         "z": [
          -0.0881054550409317,
          -0.17149779200553894
         ]
        },
        {
         "line": {
          "color": "black"
         },
         "mode": "lines",
         "type": "scatter3d",
         "x": [
          -0.0013800857122987509,
          -0.015223984606564045
         ],
         "y": [
          0.02056349813938141,
          -0.04792093113064766
         ],
         "z": [
          -0.01173484418541193,
          -0.11982478201389313
         ]
        },
        {
         "line": {
          "color": "black"
         },
         "mode": "lines",
         "type": "scatter3d",
         "x": [
          -0.015223984606564045,
          -0.015317604877054691
         ],
         "y": [
          -0.04792093113064766,
          -0.09576889127492905
         ],
         "z": [
          -0.11982478201389313,
          -0.2416527271270752
         ]
        },
        {
         "line": {
          "color": "black"
         },
         "mode": "lines",
         "type": "scatter3d",
         "x": [
          -0.017352627590298653,
          -0.012960005551576614
         ],
         "y": [
          0.06354141980409622,
          0.11837614327669144
         ],
         "z": [
          0.10936858505010605,
          0.20429739356040955
         ]
        },
        {
         "line": {
          "color": "black"
         },
         "mode": "lines",
         "type": "scatter3d",
         "x": [
          -0.012960005551576614,
          -0.03188955411314964
         ],
         "y": [
          0.11837614327669144,
          0.14242951571941376
         ],
         "z": [
          0.20429739356040955,
          0.23854276537895203
         ]
        },
        {
         "line": {
          "color": "black"
         },
         "mode": "lines",
         "type": "scatter3d",
         "x": [
          -0.03188955411314964,
          -0.01790231093764305
         ],
         "y": [
          0.14242951571941376,
          0.15936042368412018
         ],
         "z": [
          0.23854276537895203,
          0.2777855396270752
         ]
        },
        {
         "line": {
          "color": "black"
         },
         "mode": "lines",
         "type": "scatter3d",
         "x": [
          -0.012960005551576614,
          -0.014401353895664215
         ],
         "y": [
          0.11837614327669144,
          0.04566173627972603
         ],
         "z": [
          0.20429739356040955,
          0.21424630284309387
         ]
        },
        {
         "line": {
          "color": "black"
         },
         "mode": "lines",
         "type": "scatter3d",
         "x": [
          -0.014401353895664215,
          -0.09702950716018677
         ],
         "y": [
          0.04566173627972603,
          0.03623290732502937
         ],
         "z": [
          0.21424630284309387,
          0.2116408348083496
         ]
        },
        {
         "line": {
          "color": "black"
         },
         "mode": "lines",
         "type": "scatter3d",
         "x": [
          -0.09702950716018677,
          -0.18297439813613892
         ],
         "y": [
          0.03623290732502937,
          0.06928545981645584
         ],
         "z": [
          0.2116408348083496,
          0.21177497506141663
         ]
        },
        {
         "line": {
          "color": "black"
         },
         "mode": "lines",
         "type": "scatter3d",
         "x": [
          -0.012960005551576614,
          -0.017851149663329124
         ],
         "y": [
          0.11837614327669144,
          0.16117748618125916
         ],
         "z": [
          0.20429739356040955,
          0.15437614917755127
         ]
        },
        {
         "line": {
          "color": "black"
         },
         "mode": "lines",
         "type": "scatter3d",
         "x": [
          -0.017851149663329124,
          -0.11457664519548416
         ],
         "y": [
          0.16117748618125916,
          0.18385037779808044
         ],
         "z": [
          0.15437614917755127,
          0.1286420077085495
         ]
        },
        {
         "line": {
          "color": "black"
         },
         "mode": "lines",
         "type": "scatter3d",
         "x": [
          -0.11457664519548416,
          -0.194880411028862
         ],
         "y": [
          0.18385037779808044,
          0.1534702032804489
         ],
         "z": [
          0.1286420077085495,
          0.16604730486869812
         ]
        }
       ],
       "layout": {
        "autosize": false,
        "height": 700,
        "scene": {
         "aspectratio": {
          "x": 1,
          "y": 1,
          "z": 1
         },
         "camera": {
          "eye": {
           "x": 1,
           "y": 1,
           "z": 1
          }
         },
         "xaxis": {
          "range": [
           -1,
           1
          ]
         },
         "yaxis": {
          "range": [
           -1,
           1
          ]
         },
         "zaxis": {
          "range": [
           -1,
           1
          ]
         }
        },
        "template": {
         "data": {
          "bar": [
           {
            "error_x": {
             "color": "#2a3f5f"
            },
            "error_y": {
             "color": "#2a3f5f"
            },
            "marker": {
             "line": {
              "color": "#E5ECF6",
              "width": 0.5
             },
             "pattern": {
              "fillmode": "overlay",
              "size": 10,
              "solidity": 0.2
             }
            },
            "type": "bar"
           }
          ],
          "barpolar": [
           {
            "marker": {
             "line": {
              "color": "#E5ECF6",
              "width": 0.5
             },
             "pattern": {
              "fillmode": "overlay",
              "size": 10,
              "solidity": 0.2
             }
            },
            "type": "barpolar"
           }
          ],
          "carpet": [
           {
            "aaxis": {
             "endlinecolor": "#2a3f5f",
             "gridcolor": "white",
             "linecolor": "white",
             "minorgridcolor": "white",
             "startlinecolor": "#2a3f5f"
            },
            "baxis": {
             "endlinecolor": "#2a3f5f",
             "gridcolor": "white",
             "linecolor": "white",
             "minorgridcolor": "white",
             "startlinecolor": "#2a3f5f"
            },
            "type": "carpet"
           }
          ],
          "choropleth": [
           {
            "colorbar": {
             "outlinewidth": 0,
             "ticks": ""
            },
            "type": "choropleth"
           }
          ],
          "contour": [
           {
            "colorbar": {
             "outlinewidth": 0,
             "ticks": ""
            },
            "colorscale": [
             [
              0,
              "#0d0887"
             ],
             [
              0.1111111111111111,
              "#46039f"
             ],
             [
              0.2222222222222222,
              "#7201a8"
             ],
             [
              0.3333333333333333,
              "#9c179e"
             ],
             [
              0.4444444444444444,
              "#bd3786"
             ],
             [
              0.5555555555555556,
              "#d8576b"
             ],
             [
              0.6666666666666666,
              "#ed7953"
             ],
             [
              0.7777777777777778,
              "#fb9f3a"
             ],
             [
              0.8888888888888888,
              "#fdca26"
             ],
             [
              1,
              "#f0f921"
             ]
            ],
            "type": "contour"
           }
          ],
          "contourcarpet": [
           {
            "colorbar": {
             "outlinewidth": 0,
             "ticks": ""
            },
            "type": "contourcarpet"
           }
          ],
          "heatmap": [
           {
            "colorbar": {
             "outlinewidth": 0,
             "ticks": ""
            },
            "colorscale": [
             [
              0,
              "#0d0887"
             ],
             [
              0.1111111111111111,
              "#46039f"
             ],
             [
              0.2222222222222222,
              "#7201a8"
             ],
             [
              0.3333333333333333,
              "#9c179e"
             ],
             [
              0.4444444444444444,
              "#bd3786"
             ],
             [
              0.5555555555555556,
              "#d8576b"
             ],
             [
              0.6666666666666666,
              "#ed7953"
             ],
             [
              0.7777777777777778,
              "#fb9f3a"
             ],
             [
              0.8888888888888888,
              "#fdca26"
             ],
             [
              1,
              "#f0f921"
             ]
            ],
            "type": "heatmap"
           }
          ],
          "heatmapgl": [
           {
            "colorbar": {
             "outlinewidth": 0,
             "ticks": ""
            },
            "colorscale": [
             [
              0,
              "#0d0887"
             ],
             [
              0.1111111111111111,
              "#46039f"
             ],
             [
              0.2222222222222222,
              "#7201a8"
             ],
             [
              0.3333333333333333,
              "#9c179e"
             ],
             [
              0.4444444444444444,
              "#bd3786"
             ],
             [
              0.5555555555555556,
              "#d8576b"
             ],
             [
              0.6666666666666666,
              "#ed7953"
             ],
             [
              0.7777777777777778,
              "#fb9f3a"
             ],
             [
              0.8888888888888888,
              "#fdca26"
             ],
             [
              1,
              "#f0f921"
             ]
            ],
            "type": "heatmapgl"
           }
          ],
          "histogram": [
           {
            "marker": {
             "pattern": {
              "fillmode": "overlay",
              "size": 10,
              "solidity": 0.2
             }
            },
            "type": "histogram"
           }
          ],
          "histogram2d": [
           {
            "colorbar": {
             "outlinewidth": 0,
             "ticks": ""
            },
            "colorscale": [
             [
              0,
              "#0d0887"
             ],
             [
              0.1111111111111111,
              "#46039f"
             ],
             [
              0.2222222222222222,
              "#7201a8"
             ],
             [
              0.3333333333333333,
              "#9c179e"
             ],
             [
              0.4444444444444444,
              "#bd3786"
             ],
             [
              0.5555555555555556,
              "#d8576b"
             ],
             [
              0.6666666666666666,
              "#ed7953"
             ],
             [
              0.7777777777777778,
              "#fb9f3a"
             ],
             [
              0.8888888888888888,
              "#fdca26"
             ],
             [
              1,
              "#f0f921"
             ]
            ],
            "type": "histogram2d"
           }
          ],
          "histogram2dcontour": [
           {
            "colorbar": {
             "outlinewidth": 0,
             "ticks": ""
            },
            "colorscale": [
             [
              0,
              "#0d0887"
             ],
             [
              0.1111111111111111,
              "#46039f"
             ],
             [
              0.2222222222222222,
              "#7201a8"
             ],
             [
              0.3333333333333333,
              "#9c179e"
             ],
             [
              0.4444444444444444,
              "#bd3786"
             ],
             [
              0.5555555555555556,
              "#d8576b"
             ],
             [
              0.6666666666666666,
              "#ed7953"
             ],
             [
              0.7777777777777778,
              "#fb9f3a"
             ],
             [
              0.8888888888888888,
              "#fdca26"
             ],
             [
              1,
              "#f0f921"
             ]
            ],
            "type": "histogram2dcontour"
           }
          ],
          "mesh3d": [
           {
            "colorbar": {
             "outlinewidth": 0,
             "ticks": ""
            },
            "type": "mesh3d"
           }
          ],
          "parcoords": [
           {
            "line": {
             "colorbar": {
              "outlinewidth": 0,
              "ticks": ""
             }
            },
            "type": "parcoords"
           }
          ],
          "pie": [
           {
            "automargin": true,
            "type": "pie"
           }
          ],
          "scatter": [
           {
            "fillpattern": {
             "fillmode": "overlay",
             "size": 10,
             "solidity": 0.2
            },
            "type": "scatter"
           }
          ],
          "scatter3d": [
           {
            "line": {
             "colorbar": {
              "outlinewidth": 0,
              "ticks": ""
             }
            },
            "marker": {
             "colorbar": {
              "outlinewidth": 0,
              "ticks": ""
             }
            },
            "type": "scatter3d"
           }
          ],
          "scattercarpet": [
           {
            "marker": {
             "colorbar": {
              "outlinewidth": 0,
              "ticks": ""
             }
            },
            "type": "scattercarpet"
           }
          ],
          "scattergeo": [
           {
            "marker": {
             "colorbar": {
              "outlinewidth": 0,
              "ticks": ""
             }
            },
            "type": "scattergeo"
           }
          ],
          "scattergl": [
           {
            "marker": {
             "colorbar": {
              "outlinewidth": 0,
              "ticks": ""
             }
            },
            "type": "scattergl"
           }
          ],
          "scattermapbox": [
           {
            "marker": {
             "colorbar": {
              "outlinewidth": 0,
              "ticks": ""
             }
            },
            "type": "scattermapbox"
           }
          ],
          "scatterpolar": [
           {
            "marker": {
             "colorbar": {
              "outlinewidth": 0,
              "ticks": ""
             }
            },
            "type": "scatterpolar"
           }
          ],
          "scatterpolargl": [
           {
            "marker": {
             "colorbar": {
              "outlinewidth": 0,
              "ticks": ""
             }
            },
            "type": "scatterpolargl"
           }
          ],
          "scatterternary": [
           {
            "marker": {
             "colorbar": {
              "outlinewidth": 0,
              "ticks": ""
             }
            },
            "type": "scatterternary"
           }
          ],
          "surface": [
           {
            "colorbar": {
             "outlinewidth": 0,
             "ticks": ""
            },
            "colorscale": [
             [
              0,
              "#0d0887"
             ],
             [
              0.1111111111111111,
              "#46039f"
             ],
             [
              0.2222222222222222,
              "#7201a8"
             ],
             [
              0.3333333333333333,
              "#9c179e"
             ],
             [
              0.4444444444444444,
              "#bd3786"
             ],
             [
              0.5555555555555556,
              "#d8576b"
             ],
             [
              0.6666666666666666,
              "#ed7953"
             ],
             [
              0.7777777777777778,
              "#fb9f3a"
             ],
             [
              0.8888888888888888,
              "#fdca26"
             ],
             [
              1,
              "#f0f921"
             ]
            ],
            "type": "surface"
           }
          ],
          "table": [
           {
            "cells": {
             "fill": {
              "color": "#EBF0F8"
             },
             "line": {
              "color": "white"
             }
            },
            "header": {
             "fill": {
              "color": "#C8D4E3"
             },
             "line": {
              "color": "white"
             }
            },
            "type": "table"
           }
          ]
         },
         "layout": {
          "annotationdefaults": {
           "arrowcolor": "#2a3f5f",
           "arrowhead": 0,
           "arrowwidth": 1
          },
          "autotypenumbers": "strict",
          "coloraxis": {
           "colorbar": {
            "outlinewidth": 0,
            "ticks": ""
           }
          },
          "colorscale": {
           "diverging": [
            [
             0,
             "#8e0152"
            ],
            [
             0.1,
             "#c51b7d"
            ],
            [
             0.2,
             "#de77ae"
            ],
            [
             0.3,
             "#f1b6da"
            ],
            [
             0.4,
             "#fde0ef"
            ],
            [
             0.5,
             "#f7f7f7"
            ],
            [
             0.6,
             "#e6f5d0"
            ],
            [
             0.7,
             "#b8e186"
            ],
            [
             0.8,
             "#7fbc41"
            ],
            [
             0.9,
             "#4d9221"
            ],
            [
             1,
             "#276419"
            ]
           ],
           "sequential": [
            [
             0,
             "#0d0887"
            ],
            [
             0.1111111111111111,
             "#46039f"
            ],
            [
             0.2222222222222222,
             "#7201a8"
            ],
            [
             0.3333333333333333,
             "#9c179e"
            ],
            [
             0.4444444444444444,
             "#bd3786"
            ],
            [
             0.5555555555555556,
             "#d8576b"
            ],
            [
             0.6666666666666666,
             "#ed7953"
            ],
            [
             0.7777777777777778,
             "#fb9f3a"
            ],
            [
             0.8888888888888888,
             "#fdca26"
            ],
            [
             1,
             "#f0f921"
            ]
           ],
           "sequentialminus": [
            [
             0,
             "#0d0887"
            ],
            [
             0.1111111111111111,
             "#46039f"
            ],
            [
             0.2222222222222222,
             "#7201a8"
            ],
            [
             0.3333333333333333,
             "#9c179e"
            ],
            [
             0.4444444444444444,
             "#bd3786"
            ],
            [
             0.5555555555555556,
             "#d8576b"
            ],
            [
             0.6666666666666666,
             "#ed7953"
            ],
            [
             0.7777777777777778,
             "#fb9f3a"
            ],
            [
             0.8888888888888888,
             "#fdca26"
            ],
            [
             1,
             "#f0f921"
            ]
           ]
          },
          "colorway": [
           "#636efa",
           "#EF553B",
           "#00cc96",
           "#ab63fa",
           "#FFA15A",
           "#19d3f3",
           "#FF6692",
           "#B6E880",
           "#FF97FF",
           "#FECB52"
          ],
          "font": {
           "color": "#2a3f5f"
          },
          "geo": {
           "bgcolor": "white",
           "lakecolor": "white",
           "landcolor": "#E5ECF6",
           "showlakes": true,
           "showland": true,
           "subunitcolor": "white"
          },
          "hoverlabel": {
           "align": "left"
          },
          "hovermode": "closest",
          "mapbox": {
           "style": "light"
          },
          "paper_bgcolor": "white",
          "plot_bgcolor": "#E5ECF6",
          "polar": {
           "angularaxis": {
            "gridcolor": "white",
            "linecolor": "white",
            "ticks": ""
           },
           "bgcolor": "#E5ECF6",
           "radialaxis": {
            "gridcolor": "white",
            "linecolor": "white",
            "ticks": ""
           }
          },
          "scene": {
           "xaxis": {
            "backgroundcolor": "#E5ECF6",
            "gridcolor": "white",
            "gridwidth": 2,
            "linecolor": "white",
            "showbackground": true,
            "ticks": "",
            "zerolinecolor": "white"
           },
           "yaxis": {
            "backgroundcolor": "#E5ECF6",
            "gridcolor": "white",
            "gridwidth": 2,
            "linecolor": "white",
            "showbackground": true,
            "ticks": "",
            "zerolinecolor": "white"
           },
           "zaxis": {
            "backgroundcolor": "#E5ECF6",
            "gridcolor": "white",
            "gridwidth": 2,
            "linecolor": "white",
            "showbackground": true,
            "ticks": "",
            "zerolinecolor": "white"
           }
          },
          "shapedefaults": {
           "line": {
            "color": "#2a3f5f"
           }
          },
          "ternary": {
           "aaxis": {
            "gridcolor": "white",
            "linecolor": "white",
            "ticks": ""
           },
           "baxis": {
            "gridcolor": "white",
            "linecolor": "white",
            "ticks": ""
           },
           "bgcolor": "#E5ECF6",
           "caxis": {
            "gridcolor": "white",
            "linecolor": "white",
            "ticks": ""
           }
          },
          "title": {
           "x": 0.05
          },
          "xaxis": {
           "automargin": true,
           "gridcolor": "white",
           "linecolor": "white",
           "ticks": "",
           "title": {
            "standoff": 15
           },
           "zerolinecolor": "white",
           "zerolinewidth": 2
          },
          "yaxis": {
           "automargin": true,
           "gridcolor": "white",
           "linecolor": "white",
           "ticks": "",
           "title": {
            "standoff": 15
           },
           "zerolinecolor": "white",
           "zerolinewidth": 2
          }
         }
        },
        "width": 700
       }
      }
     },
     "metadata": {},
     "output_type": "display_data"
    }
   ],
   "source": [
    "# result\n",
    "aihub_3d = copy.deepcopy(result_array)\n",
    "pos = copy.deepcopy(aihub_3d)\n",
    "points_aihub_3d = {}\n",
    "for i, p in enumerate(pos):\n",
    "    #print(i, h36m_keypoints[i], p)\n",
    "    points_aihub_3d[i] = np.array([p[0], -p[2], -p[1]]) #np.array([p[0], p[1], p[2]])  #np.array([p[0], -p[2], p[1]])\n",
    "pos_vector = pos.reshape(-1) # (51,)\n",
    "total_min, total_max = pos_vector.min(), pos_vector.max()\n",
    "print(\"total min: \", total_min,\n",
    "      \"total max: \", total_max)\n",
    "\n",
    "fig = draw_skeleton(points_aihub_3d, h36m_connections)\n",
    "fig.show()"
   ]
  },
  {
   "cell_type": "markdown",
   "metadata": {},
   "source": [
    "### --------------------------------------------------------------------"
   ]
  },
  {
   "cell_type": "markdown",
   "metadata": {},
   "source": [
    "### from alphapose result"
   ]
  },
  {
   "cell_type": "code",
   "execution_count": 15,
   "metadata": {},
   "outputs": [
    {
     "data": {
      "text/plain": [
       "268"
      ]
     },
     "execution_count": 15,
     "metadata": {},
     "output_type": "execute_result"
    }
   ],
   "source": [
    "ap_result = readJSON(\"/home/hrai/codes/AlphaPose/examples/squat_test_front/alphapose-results.json\")\n",
    "len(ap_result)"
   ]
  },
  {
   "cell_type": "code",
   "execution_count": 16,
   "metadata": {},
   "outputs": [
    {
     "data": {
      "text/plain": [
       "(1, 17, 3)"
      ]
     },
     "execution_count": 16,
     "metadata": {},
     "output_type": "execute_result"
    }
   ],
   "source": [
    "joint_2d = np.array(ap_result[0]['keypoints']).reshape(-1, 26, 3)\n",
    "\n",
    "# halpe to h36m\n",
    "joint_2d = halpe2h36m(joint_2d)\n",
    "\n",
    "joint_2d.shape"
   ]
  },
  {
   "cell_type": "code",
   "execution_count": 28,
   "metadata": {},
   "outputs": [],
   "source": [
    "img = get_2d_pose_image(joint_2d[0], np.ones((1080,1920,3), dtype=np.uint8)*255)\n",
    "plot_cv2_image(img)"
   ]
  },
  {
   "cell_type": "code",
   "execution_count": 18,
   "metadata": {},
   "outputs": [],
   "source": [
    "# normalize\n",
    "res_w, res_h = 1920, 1080\n",
    "test = copy.deepcopy(joint_2d)\n",
    "test = test / res_w * 2 - [1, res_h / res_w, 0]\n"
   ]
  },
  {
   "cell_type": "code",
   "execution_count": 19,
   "metadata": {},
   "outputs": [
    {
     "data": {
      "text/plain": [
       "array([[[-0.04957975,  0.02099031,  0.00103653],\n",
       "        [-0.10540543,  0.02099031,  0.00094048],\n",
       "        [-0.12401396,  0.22568455,  0.00096388],\n",
       "        [-0.15192687,  0.41177018,  0.00098317],\n",
       "        [ 0.00624593,  0.03029461,  0.00094887],\n",
       "        [ 0.03415877,  0.22568455,  0.00100762],\n",
       "        [ 0.05276737,  0.41177018,  0.00099876],\n",
       "        [-0.04957975, -0.14648676,  0.00102309],\n",
       "        [-0.04957975, -0.31396383,  0.00100965],\n",
       "        [-0.04957975, -0.38839808,  0.00100389],\n",
       "        [-0.04957975, -0.47213661,  0.00096928],\n",
       "        [ 0.04346307, -0.26744242,  0.00097386],\n",
       "        [ 0.08998451, -0.12787819,  0.00099246],\n",
       "        [ 0.05276737, -0.13718246,  0.00095532],\n",
       "        [-0.14262257, -0.26744242,  0.0009677 ],\n",
       "        [-0.18914394, -0.12787819,  0.0009931 ],\n",
       "        [-0.1612311 , -0.12787819,  0.00101646]]])"
      ]
     },
     "execution_count": 19,
     "metadata": {},
     "output_type": "execute_result"
    }
   ],
   "source": [
    "test"
   ]
  },
  {
   "cell_type": "code",
   "execution_count": 20,
   "metadata": {},
   "outputs": [],
   "source": [
    "batch_input = torch.tensor(test.reshape(1, 1, 17, 3)).float()"
   ]
  },
  {
   "cell_type": "code",
   "execution_count": 21,
   "metadata": {},
   "outputs": [],
   "source": [
    "from lib.utils.utils_data import flip_data\n",
    "flip = True\n",
    "with torch.no_grad():\n",
    "    if torch.cuda.is_available():\n",
    "        batch_input = batch_input.cuda()\n",
    "        if flip:    \n",
    "            batch_input_flip = flip_data(batch_input)\n",
    "            predicted_3d_pos_1 = model_pos(batch_input)\n",
    "            predicted_3d_pos_flip = model_pos(batch_input_flip)\n",
    "            predicted_3d_pos_2 = flip_data(predicted_3d_pos_flip)                   # Flip back\n",
    "            predicted_3d_pos = (predicted_3d_pos_1+predicted_3d_pos_2) / 2\n",
    "        else:\n",
    "            predicted_3d_pos = model_pos(batch_input)"
   ]
  },
  {
   "cell_type": "code",
   "execution_count": 22,
   "metadata": {},
   "outputs": [
    {
     "data": {
      "text/plain": [
       "torch.Size([1, 1, 17, 3])"
      ]
     },
     "execution_count": 22,
     "metadata": {},
     "output_type": "execute_result"
    }
   ],
   "source": [
    "predicted_3d_pos.shape"
   ]
  },
  {
   "cell_type": "code",
   "execution_count": 23,
   "metadata": {},
   "outputs": [],
   "source": [
    "result_array = predicted_3d_pos[0][0].cpu().detach().numpy()\n",
    "#result_array[:, 2] = 0\n",
    "r_hip = result_array[1]\n",
    "r_knee = result_array[2]\n",
    "r_ankle = result_array[3]\n",
    "l_hip = result_array[4]\n",
    "l_knee = result_array[5]\n",
    "l_ankle = result_array[6]\n"
   ]
  },
  {
   "cell_type": "code",
   "execution_count": 24,
   "metadata": {},
   "outputs": [
    {
     "data": {
      "text/plain": [
       "(array([-0.10127847,  0.40188408,  0.15028226], dtype=float32),\n",
       " array([0.10055399, 0.40259418, 0.16433024], dtype=float32))"
      ]
     },
     "execution_count": 24,
     "metadata": {},
     "output_type": "execute_result"
    }
   ],
   "source": [
    "r_ankle, l_ankle"
   ]
  },
  {
   "cell_type": "code",
   "execution_count": 25,
   "metadata": {},
   "outputs": [
    {
     "data": {
      "text/plain": [
       "(0.23471133, 0.22845855)"
      ]
     },
     "execution_count": 25,
     "metadata": {},
     "output_type": "execute_result"
    }
   ],
   "source": [
    "np.linalg.norm(r_hip - r_knee), np.linalg.norm(l_hip - l_knee)"
   ]
  },
  {
   "cell_type": "code",
   "execution_count": 26,
   "metadata": {},
   "outputs": [],
   "source": [
    "r_ankle[2] = 0\n",
    "l_ankle[2] = 0"
   ]
  },
  {
   "cell_type": "code",
   "execution_count": 29,
   "metadata": {},
   "outputs": [],
   "source": [
    "visualize_3d_pose([result_array*1000])"
   ]
  },
  {
   "cell_type": "code",
   "execution_count": 30,
   "metadata": {},
   "outputs": [
    {
     "data": {
      "text/plain": [
       "array([[ 960.01708001,  539.88380296],\n",
       "       [ 887.62931061,  533.91296482],\n",
       "       [ 884.29216003,  756.10748291],\n",
       "       [ 858.72153473,  941.88409424],\n",
       "       [1032.29949188,  541.53457046],\n",
       "       [1044.31208801,  758.56784058],\n",
       "       [1060.5539856 ,  942.59417725],\n",
       "       [ 960.97166884,  379.30859375],\n",
       "       [ 960.34158   ,  216.49423218],\n",
       "       [ 961.1679064 ,  146.47982788],\n",
       "       [ 960.41588023,   65.0244751 ],\n",
       "       [1055.72901154,  259.76501465],\n",
       "       [1103.65150452,  413.82083893],\n",
       "       [1063.40990448,  407.62533569],\n",
       "       [ 866.4430542 ,  257.37307739],\n",
       "       [ 818.52003479,  407.54321289],\n",
       "       [ 850.11457825,  412.80162048]])"
      ]
     },
     "execution_count": 30,
     "metadata": {},
     "output_type": "execute_result"
    }
   ],
   "source": [
    "result_array[:, :2]*1000 + [960, 540]"
   ]
  },
  {
   "cell_type": "code",
   "execution_count": 39,
   "metadata": {},
   "outputs": [],
   "source": [
    "img = get_2d_pose_image(result_array[:, :2]*1000  + [1920.0/2, 1080.0/2], np.ones((1080,1920,3), dtype=np.uint8)*255)\n",
    "plot_cv2_image(img)"
   ]
  },
  {
   "cell_type": "code",
   "execution_count": null,
   "metadata": {},
   "outputs": [],
   "source": [
    "projected_2d = result_array[:, :2]*1000  + [1920.0/2, 1080.0/2]\n"
   ]
  },
  {
   "cell_type": "code",
   "execution_count": 32,
   "metadata": {},
   "outputs": [],
   "source": [
    "### 여러 프레임\n",
    "joint_2ds = []\n",
    "for i in range(len(ap_result)):\n",
    "    joint_2ds.append(np.array(ap_result[i]['keypoints']).reshape(26, 3))\n",
    "#np.array(joint_2ds).shape\n",
    "joint_2ds = halpe2h36m(np.array(joint_2ds))"
   ]
  },
  {
   "cell_type": "code",
   "execution_count": 33,
   "metadata": {},
   "outputs": [
    {
     "data": {
      "text/plain": [
       "(268, 17, 3)"
      ]
     },
     "execution_count": 33,
     "metadata": {},
     "output_type": "execute_result"
    }
   ],
   "source": [
    "joint_2ds.shape"
   ]
  },
  {
   "cell_type": "code",
   "execution_count": 34,
   "metadata": {},
   "outputs": [],
   "source": [
    "# normalize\n",
    "joint_2ds = joint_2ds / res_w * 2 - [1, res_h / res_w, 0]"
   ]
  },
  {
   "cell_type": "code",
   "execution_count": 43,
   "metadata": {},
   "outputs": [
    {
     "data": {
      "text/plain": [
       "torch.Size([1, 243, 17, 3])"
      ]
     },
     "execution_count": 43,
     "metadata": {},
     "output_type": "execute_result"
    }
   ],
   "source": [
    "# 하나를 여러개\n",
    "batch_input = torch.tensor(joint_2ds[100].reshape(-1, 1, 17, 3)).repeat(1, 243, 1, 1)\n",
    "batch_input.shape"
   ]
  },
  {
   "cell_type": "code",
   "execution_count": 44,
   "metadata": {},
   "outputs": [
    {
     "name": "stdout",
     "output_type": "stream",
     "text": [
      "torch.Size([1, 243, 17, 3])\n"
     ]
    }
   ],
   "source": [
    "result = model_pos(batch_input.float())\n",
    "print(result.shape)"
   ]
  },
  {
   "cell_type": "code",
   "execution_count": 45,
   "metadata": {},
   "outputs": [],
   "source": [
    "result_array = result[0][0].cpu().detach().numpy()\n",
    "visualize_3d_pose([result_array*1000])"
   ]
  },
  {
   "cell_type": "code",
   "execution_count": 42,
   "metadata": {},
   "outputs": [
    {
     "data": {
      "text/plain": [
       "(268, 17, 3)"
      ]
     },
     "execution_count": 42,
     "metadata": {},
     "output_type": "execute_result"
    }
   ],
   "source": [
    "joint_2ds.shape"
   ]
  },
  {
   "cell_type": "code",
   "execution_count": 40,
   "metadata": {},
   "outputs": [
    {
     "data": {
      "text/plain": [
       "torch.Size([1, 243, 17, 3])"
      ]
     },
     "execution_count": 40,
     "metadata": {},
     "output_type": "execute_result"
    }
   ],
   "source": [
    "# 여러 프레임\n",
    "n = 243\n",
    "batch_input = torch.tensor(joint_2ds[:n].reshape(-1, n, 17, 3))\n",
    "batch_input.shape"
   ]
  },
  {
   "cell_type": "code",
   "execution_count": 41,
   "metadata": {},
   "outputs": [
    {
     "name": "stdout",
     "output_type": "stream",
     "text": [
      "torch.Size([1, 243, 17, 3])\n"
     ]
    }
   ],
   "source": [
    "result = model_pos(batch_input.float())\n",
    "print(result.shape)\n",
    "result_array = result[0][0].cpu().detach().numpy()\n",
    "visualize_3d_pose([result_array*1000])"
   ]
  },
  {
   "cell_type": "code",
   "execution_count": null,
   "metadata": {},
   "outputs": [],
   "source": []
  }
 ],
 "metadata": {
  "kernelspec": {
   "display_name": "motionbert",
   "language": "python",
   "name": "python3"
  },
  "language_info": {
   "codemirror_mode": {
    "name": "ipython",
    "version": 3
   },
   "file_extension": ".py",
   "mimetype": "text/x-python",
   "name": "python",
   "nbconvert_exporter": "python",
   "pygments_lexer": "ipython3",
   "version": "3.9.17"
  },
  "orig_nbformat": 4,
  "vscode": {
   "interpreter": {
    "hash": "996031ba2a0f3c1298a339c0299835a7fe1ef636d9e79358bc474ca43ed2ac18"
   }
  }
 },
 "nbformat": 4,
 "nbformat_minor": 2
}
