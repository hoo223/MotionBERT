{
 "cells": [
  {
   "cell_type": "code",
   "execution_count": 1,
   "metadata": {},
   "outputs": [],
   "source": [
    "%matplotlib inline\n",
    "import pickle\n",
    "import copy\n",
    "import numpy as np\n",
    "import random\n",
    "import os\n",
    "from test_utils import *\n",
    "from ipywidgets import interact\n",
    "import io\n",
    "import PIL"
   ]
  },
  {
   "cell_type": "code",
   "execution_count": 2,
   "metadata": {},
   "outputs": [],
   "source": [
    "def draw_skeleton_2d(points, connections, elevation=0, azimuth=0):\n",
    "    fig = go.Figure()\n",
    "    \n",
    "    # Add points\n",
    "    for point in points.values():\n",
    "        fig.add_trace(go.Scatter(x=[point[0]], y=[point[1]],\n",
    "                                   mode='markers', marker=dict(size=2, color='blue')))\n",
    "\n",
    "    # Add connections\n",
    "    for connection in connections:\n",
    "        p1, p2 = points[connection[0]], points[connection[1]]\n",
    "        fig.add_trace(go.Scatter(x=[p1[0], p2[0]], y=[p1[1], p2[1]],\n",
    "                                   mode='lines', line=dict(color='black')))\n",
    "\n",
    "    img_width = 1920\n",
    "    img_height = 1080\n",
    "    scale_factor = 0.5\n",
    "\n",
    "    # https://wikidocs.net/185955 참고\n",
    "    fig.update_xaxes(range=[-1, 1])\n",
    "    fig.update_yaxes(range=[1, -1])\n",
    "    #fig.update_xaxes(autorange=\"reversed\") # 축 범위 반전, 위의 range 설정이 초기화되버림\n",
    "\n",
    "    fig.update_layout(width=700,height=700)\n",
    "    \n",
    "    fig.update_layout(template=\"plotly_white\")\n",
    "\n",
    "    fig.show()"
   ]
  },
  {
   "cell_type": "markdown",
   "metadata": {},
   "source": [
    "# Visualize data"
   ]
  },
  {
   "cell_type": "code",
   "execution_count": 5,
   "metadata": {},
   "outputs": [],
   "source": [
    "# load\n",
    "with open('/home/hrai/codes/MotionBERT/output/fit3d/fit3d_result.pickle', 'rb') as f:\n",
    "    fit3d_result = pickle.load(f)"
   ]
  },
  {
   "cell_type": "code",
   "execution_count": 6,
   "metadata": {},
   "outputs": [],
   "source": [
    "frame_num = 1025"
   ]
  },
  {
   "cell_type": "markdown",
   "metadata": {},
   "source": [
    "### s03_60457274_squat"
   ]
  },
  {
   "cell_type": "code",
   "execution_count": 7,
   "metadata": {},
   "outputs": [],
   "source": [
    "input = fit3d_result['s03_60457274_squat']['input'][frame_num]\n",
    "output = fit3d_result['s03_60457274_squat']['output'][frame_num]"
   ]
  },
  {
   "cell_type": "code",
   "execution_count": 41,
   "metadata": {},
   "outputs": [
    {
     "name": "stdout",
     "output_type": "stream",
     "text": [
      "total min:  -0.3054671020507812 total max:  0.2561575927734374\n"
     ]
    },
    {
     "data": {
      "application/vnd.plotly.v1+json": {
       "config": {
        "plotlyServerURL": "https://plot.ly"
       },
       "data": [
        {
         "marker": {
          "color": "blue",
          "size": 2
         },
         "mode": "markers",
         "type": "scatter",
         "x": [
          -0.15857299804687497
         ],
         "y": [
          0.04106274414062505
         ]
        },
        {
         "marker": {
          "color": "blue",
          "size": 2
         },
         "mode": "markers",
         "type": "scatter",
         "x": [
          -0.20578894042968754
         ],
         "y": [
          0.05155517578125002
         ]
        },
        {
         "marker": {
          "color": "blue",
          "size": 2
         },
         "mode": "markers",
         "type": "scatter",
         "x": [
          -0.15857299804687497
         ],
         "y": [
          0.1564794921874999
         ]
        },
        {
         "marker": {
          "color": "blue",
          "size": 2
         },
         "mode": "markers",
         "type": "scatter",
         "x": [
          -0.221527587890625
         ],
         "y": [
          0.2561575927734374
         ]
        },
        {
         "marker": {
          "color": "blue",
          "size": 2
         },
         "mode": "markers",
         "type": "scatter",
         "x": [
          -0.11135705566406251
         ],
         "y": [
          0.046308959960937424
         ]
        },
        {
         "marker": {
          "color": "blue",
          "size": 2
         },
         "mode": "markers",
         "type": "scatter",
         "x": [
          -0.01692517089843748
         ],
         "y": [
          0.1302484130859376
         ]
        },
        {
         "marker": {
          "color": "blue",
          "size": 2
         },
         "mode": "markers",
         "type": "scatter",
         "x": [
          -0.08512597656249998
         ],
         "y": [
          0.23517272949218748
         ]
        },
        {
         "marker": {
          "color": "blue",
          "size": 2
         },
         "mode": "markers",
         "type": "scatter",
         "x": [
          -0.13234191894531255
         ],
         "y": [
          -0.05861541748046872
         ]
        },
        {
         "marker": {
          "color": "blue",
          "size": 2
         },
         "mode": "markers",
         "type": "scatter",
         "x": [
          -0.10611083984375003
         ],
         "y": [
          -0.1582935791015625
         ]
        },
        {
         "marker": {
          "color": "blue",
          "size": 2
         },
         "mode": "markers",
         "type": "scatter",
         "x": [
          -0.05364868164062497
         ],
         "y": [
          -0.16353979492187498
         ]
        },
        {
         "marker": {
          "color": "blue",
          "size": 2
         },
         "mode": "markers",
         "type": "scatter",
         "x": [
          -0.06414111328125005
         ],
         "y": [
          -0.24747924804687504
         ]
        },
        {
         "marker": {
          "color": "blue",
          "size": 2
         },
         "mode": "markers",
         "type": "scatter",
         "x": [
          -0.03266381835937504
         ],
         "y": [
          -0.14255493164062505
         ]
        },
        {
         "marker": {
          "color": "blue",
          "size": 2
         },
         "mode": "markers",
         "type": "scatter",
         "x": [
          0.040783203124999945
         ],
         "y": [
          -0.1005851440429687
         ]
        },
        {
         "marker": {
          "color": "blue",
          "size": 2
         },
         "mode": "markers",
         "type": "scatter",
         "x": [
          0.03029077148437498
         ],
         "y": [
          -0.18452465820312502
         ]
        },
        {
         "marker": {
          "color": "blue",
          "size": 2
         },
         "mode": "markers",
         "type": "scatter",
         "x": [
          -0.19529650878906246
         ],
         "y": [
          -0.14255493164062505
         ]
        },
        {
         "marker": {
          "color": "blue",
          "size": 2
         },
         "mode": "markers",
         "type": "scatter",
         "x": [
          -0.3054671020507812
         ],
         "y": [
          -0.05336920166015624
         ]
        },
        {
         "marker": {
          "color": "blue",
          "size": 2
         },
         "mode": "markers",
         "type": "scatter",
         "x": [
          -0.2530048828125
         ],
         "y": [
          -0.15304736328125002
         ]
        },
        {
         "line": {
          "color": "black"
         },
         "mode": "lines",
         "type": "scatter",
         "x": [
          -0.15857299804687497,
          -0.20578894042968754
         ],
         "y": [
          0.04106274414062505,
          0.05155517578125002
         ]
        },
        {
         "line": {
          "color": "black"
         },
         "mode": "lines",
         "type": "scatter",
         "x": [
          -0.15857299804687497,
          -0.11135705566406251
         ],
         "y": [
          0.04106274414062505,
          0.046308959960937424
         ]
        },
        {
         "line": {
          "color": "black"
         },
         "mode": "lines",
         "type": "scatter",
         "x": [
          -0.15857299804687497,
          -0.13234191894531255
         ],
         "y": [
          0.04106274414062505,
          -0.05861541748046872
         ]
        },
        {
         "line": {
          "color": "black"
         },
         "mode": "lines",
         "type": "scatter",
         "x": [
          -0.20578894042968754,
          -0.15857299804687497
         ],
         "y": [
          0.05155517578125002,
          0.1564794921874999
         ]
        },
        {
         "line": {
          "color": "black"
         },
         "mode": "lines",
         "type": "scatter",
         "x": [
          -0.15857299804687497,
          -0.221527587890625
         ],
         "y": [
          0.1564794921874999,
          0.2561575927734374
         ]
        },
        {
         "line": {
          "color": "black"
         },
         "mode": "lines",
         "type": "scatter",
         "x": [
          -0.11135705566406251,
          -0.01692517089843748
         ],
         "y": [
          0.046308959960937424,
          0.1302484130859376
         ]
        },
        {
         "line": {
          "color": "black"
         },
         "mode": "lines",
         "type": "scatter",
         "x": [
          -0.01692517089843748,
          -0.08512597656249998
         ],
         "y": [
          0.1302484130859376,
          0.23517272949218748
         ]
        },
        {
         "line": {
          "color": "black"
         },
         "mode": "lines",
         "type": "scatter",
         "x": [
          -0.13234191894531255,
          -0.10611083984375003
         ],
         "y": [
          -0.05861541748046872,
          -0.1582935791015625
         ]
        },
        {
         "line": {
          "color": "black"
         },
         "mode": "lines",
         "type": "scatter",
         "x": [
          -0.10611083984375003,
          -0.05364868164062497
         ],
         "y": [
          -0.1582935791015625,
          -0.16353979492187498
         ]
        },
        {
         "line": {
          "color": "black"
         },
         "mode": "lines",
         "type": "scatter",
         "x": [
          -0.05364868164062497,
          -0.06414111328125005
         ],
         "y": [
          -0.16353979492187498,
          -0.24747924804687504
         ]
        },
        {
         "line": {
          "color": "black"
         },
         "mode": "lines",
         "type": "scatter",
         "x": [
          -0.10611083984375003,
          -0.19529650878906246
         ],
         "y": [
          -0.1582935791015625,
          -0.14255493164062505
         ]
        },
        {
         "line": {
          "color": "black"
         },
         "mode": "lines",
         "type": "scatter",
         "x": [
          -0.19529650878906246,
          -0.3054671020507812
         ],
         "y": [
          -0.14255493164062505,
          -0.05336920166015624
         ]
        },
        {
         "line": {
          "color": "black"
         },
         "mode": "lines",
         "type": "scatter",
         "x": [
          -0.3054671020507812,
          -0.2530048828125
         ],
         "y": [
          -0.05336920166015624,
          -0.15304736328125002
         ]
        },
        {
         "line": {
          "color": "black"
         },
         "mode": "lines",
         "type": "scatter",
         "x": [
          -0.10611083984375003,
          -0.03266381835937504
         ],
         "y": [
          -0.1582935791015625,
          -0.14255493164062505
         ]
        },
        {
         "line": {
          "color": "black"
         },
         "mode": "lines",
         "type": "scatter",
         "x": [
          -0.03266381835937504,
          0.040783203124999945
         ],
         "y": [
          -0.14255493164062505,
          -0.1005851440429687
         ]
        },
        {
         "line": {
          "color": "black"
         },
         "mode": "lines",
         "type": "scatter",
         "x": [
          0.040783203124999945,
          0.03029077148437498
         ],
         "y": [
          -0.1005851440429687,
          -0.18452465820312502
         ]
        }
       ],
       "layout": {
        "height": 700,
        "template": {
         "data": {
          "bar": [
           {
            "error_x": {
             "color": "#2a3f5f"
            },
            "error_y": {
             "color": "#2a3f5f"
            },
            "marker": {
             "line": {
              "color": "white",
              "width": 0.5
             },
             "pattern": {
              "fillmode": "overlay",
              "size": 10,
              "solidity": 0.2
             }
            },
            "type": "bar"
           }
          ],
          "barpolar": [
           {
            "marker": {
             "line": {
              "color": "white",
              "width": 0.5
             },
             "pattern": {
              "fillmode": "overlay",
              "size": 10,
              "solidity": 0.2
             }
            },
            "type": "barpolar"
           }
          ],
          "carpet": [
           {
            "aaxis": {
             "endlinecolor": "#2a3f5f",
             "gridcolor": "#C8D4E3",
             "linecolor": "#C8D4E3",
             "minorgridcolor": "#C8D4E3",
             "startlinecolor": "#2a3f5f"
            },
            "baxis": {
             "endlinecolor": "#2a3f5f",
             "gridcolor": "#C8D4E3",
             "linecolor": "#C8D4E3",
             "minorgridcolor": "#C8D4E3",
             "startlinecolor": "#2a3f5f"
            },
            "type": "carpet"
           }
          ],
          "choropleth": [
           {
            "colorbar": {
             "outlinewidth": 0,
             "ticks": ""
            },
            "type": "choropleth"
           }
          ],
          "contour": [
           {
            "colorbar": {
             "outlinewidth": 0,
             "ticks": ""
            },
            "colorscale": [
             [
              0,
              "#0d0887"
             ],
             [
              0.1111111111111111,
              "#46039f"
             ],
             [
              0.2222222222222222,
              "#7201a8"
             ],
             [
              0.3333333333333333,
              "#9c179e"
             ],
             [
              0.4444444444444444,
              "#bd3786"
             ],
             [
              0.5555555555555556,
              "#d8576b"
             ],
             [
              0.6666666666666666,
              "#ed7953"
             ],
             [
              0.7777777777777778,
              "#fb9f3a"
             ],
             [
              0.8888888888888888,
              "#fdca26"
             ],
             [
              1,
              "#f0f921"
             ]
            ],
            "type": "contour"
           }
          ],
          "contourcarpet": [
           {
            "colorbar": {
             "outlinewidth": 0,
             "ticks": ""
            },
            "type": "contourcarpet"
           }
          ],
          "heatmap": [
           {
            "colorbar": {
             "outlinewidth": 0,
             "ticks": ""
            },
            "colorscale": [
             [
              0,
              "#0d0887"
             ],
             [
              0.1111111111111111,
              "#46039f"
             ],
             [
              0.2222222222222222,
              "#7201a8"
             ],
             [
              0.3333333333333333,
              "#9c179e"
             ],
             [
              0.4444444444444444,
              "#bd3786"
             ],
             [
              0.5555555555555556,
              "#d8576b"
             ],
             [
              0.6666666666666666,
              "#ed7953"
             ],
             [
              0.7777777777777778,
              "#fb9f3a"
             ],
             [
              0.8888888888888888,
              "#fdca26"
             ],
             [
              1,
              "#f0f921"
             ]
            ],
            "type": "heatmap"
           }
          ],
          "heatmapgl": [
           {
            "colorbar": {
             "outlinewidth": 0,
             "ticks": ""
            },
            "colorscale": [
             [
              0,
              "#0d0887"
             ],
             [
              0.1111111111111111,
              "#46039f"
             ],
             [
              0.2222222222222222,
              "#7201a8"
             ],
             [
              0.3333333333333333,
              "#9c179e"
             ],
             [
              0.4444444444444444,
              "#bd3786"
             ],
             [
              0.5555555555555556,
              "#d8576b"
             ],
             [
              0.6666666666666666,
              "#ed7953"
             ],
             [
              0.7777777777777778,
              "#fb9f3a"
             ],
             [
              0.8888888888888888,
              "#fdca26"
             ],
             [
              1,
              "#f0f921"
             ]
            ],
            "type": "heatmapgl"
           }
          ],
          "histogram": [
           {
            "marker": {
             "pattern": {
              "fillmode": "overlay",
              "size": 10,
              "solidity": 0.2
             }
            },
            "type": "histogram"
           }
          ],
          "histogram2d": [
           {
            "colorbar": {
             "outlinewidth": 0,
             "ticks": ""
            },
            "colorscale": [
             [
              0,
              "#0d0887"
             ],
             [
              0.1111111111111111,
              "#46039f"
             ],
             [
              0.2222222222222222,
              "#7201a8"
             ],
             [
              0.3333333333333333,
              "#9c179e"
             ],
             [
              0.4444444444444444,
              "#bd3786"
             ],
             [
              0.5555555555555556,
              "#d8576b"
             ],
             [
              0.6666666666666666,
              "#ed7953"
             ],
             [
              0.7777777777777778,
              "#fb9f3a"
             ],
             [
              0.8888888888888888,
              "#fdca26"
             ],
             [
              1,
              "#f0f921"
             ]
            ],
            "type": "histogram2d"
           }
          ],
          "histogram2dcontour": [
           {
            "colorbar": {
             "outlinewidth": 0,
             "ticks": ""
            },
            "colorscale": [
             [
              0,
              "#0d0887"
             ],
             [
              0.1111111111111111,
              "#46039f"
             ],
             [
              0.2222222222222222,
              "#7201a8"
             ],
             [
              0.3333333333333333,
              "#9c179e"
             ],
             [
              0.4444444444444444,
              "#bd3786"
             ],
             [
              0.5555555555555556,
              "#d8576b"
             ],
             [
              0.6666666666666666,
              "#ed7953"
             ],
             [
              0.7777777777777778,
              "#fb9f3a"
             ],
             [
              0.8888888888888888,
              "#fdca26"
             ],
             [
              1,
              "#f0f921"
             ]
            ],
            "type": "histogram2dcontour"
           }
          ],
          "mesh3d": [
           {
            "colorbar": {
             "outlinewidth": 0,
             "ticks": ""
            },
            "type": "mesh3d"
           }
          ],
          "parcoords": [
           {
            "line": {
             "colorbar": {
              "outlinewidth": 0,
              "ticks": ""
             }
            },
            "type": "parcoords"
           }
          ],
          "pie": [
           {
            "automargin": true,
            "type": "pie"
           }
          ],
          "scatter": [
           {
            "fillpattern": {
             "fillmode": "overlay",
             "size": 10,
             "solidity": 0.2
            },
            "type": "scatter"
           }
          ],
          "scatter3d": [
           {
            "line": {
             "colorbar": {
              "outlinewidth": 0,
              "ticks": ""
             }
            },
            "marker": {
             "colorbar": {
              "outlinewidth": 0,
              "ticks": ""
             }
            },
            "type": "scatter3d"
           }
          ],
          "scattercarpet": [
           {
            "marker": {
             "colorbar": {
              "outlinewidth": 0,
              "ticks": ""
             }
            },
            "type": "scattercarpet"
           }
          ],
          "scattergeo": [
           {
            "marker": {
             "colorbar": {
              "outlinewidth": 0,
              "ticks": ""
             }
            },
            "type": "scattergeo"
           }
          ],
          "scattergl": [
           {
            "marker": {
             "colorbar": {
              "outlinewidth": 0,
              "ticks": ""
             }
            },
            "type": "scattergl"
           }
          ],
          "scattermapbox": [
           {
            "marker": {
             "colorbar": {
              "outlinewidth": 0,
              "ticks": ""
             }
            },
            "type": "scattermapbox"
           }
          ],
          "scatterpolar": [
           {
            "marker": {
             "colorbar": {
              "outlinewidth": 0,
              "ticks": ""
             }
            },
            "type": "scatterpolar"
           }
          ],
          "scatterpolargl": [
           {
            "marker": {
             "colorbar": {
              "outlinewidth": 0,
              "ticks": ""
             }
            },
            "type": "scatterpolargl"
           }
          ],
          "scatterternary": [
           {
            "marker": {
             "colorbar": {
              "outlinewidth": 0,
              "ticks": ""
             }
            },
            "type": "scatterternary"
           }
          ],
          "surface": [
           {
            "colorbar": {
             "outlinewidth": 0,
             "ticks": ""
            },
            "colorscale": [
             [
              0,
              "#0d0887"
             ],
             [
              0.1111111111111111,
              "#46039f"
             ],
             [
              0.2222222222222222,
              "#7201a8"
             ],
             [
              0.3333333333333333,
              "#9c179e"
             ],
             [
              0.4444444444444444,
              "#bd3786"
             ],
             [
              0.5555555555555556,
              "#d8576b"
             ],
             [
              0.6666666666666666,
              "#ed7953"
             ],
             [
              0.7777777777777778,
              "#fb9f3a"
             ],
             [
              0.8888888888888888,
              "#fdca26"
             ],
             [
              1,
              "#f0f921"
             ]
            ],
            "type": "surface"
           }
          ],
          "table": [
           {
            "cells": {
             "fill": {
              "color": "#EBF0F8"
             },
             "line": {
              "color": "white"
             }
            },
            "header": {
             "fill": {
              "color": "#C8D4E3"
             },
             "line": {
              "color": "white"
             }
            },
            "type": "table"
           }
          ]
         },
         "layout": {
          "annotationdefaults": {
           "arrowcolor": "#2a3f5f",
           "arrowhead": 0,
           "arrowwidth": 1
          },
          "autotypenumbers": "strict",
          "coloraxis": {
           "colorbar": {
            "outlinewidth": 0,
            "ticks": ""
           }
          },
          "colorscale": {
           "diverging": [
            [
             0,
             "#8e0152"
            ],
            [
             0.1,
             "#c51b7d"
            ],
            [
             0.2,
             "#de77ae"
            ],
            [
             0.3,
             "#f1b6da"
            ],
            [
             0.4,
             "#fde0ef"
            ],
            [
             0.5,
             "#f7f7f7"
            ],
            [
             0.6,
             "#e6f5d0"
            ],
            [
             0.7,
             "#b8e186"
            ],
            [
             0.8,
             "#7fbc41"
            ],
            [
             0.9,
             "#4d9221"
            ],
            [
             1,
             "#276419"
            ]
           ],
           "sequential": [
            [
             0,
             "#0d0887"
            ],
            [
             0.1111111111111111,
             "#46039f"
            ],
            [
             0.2222222222222222,
             "#7201a8"
            ],
            [
             0.3333333333333333,
             "#9c179e"
            ],
            [
             0.4444444444444444,
             "#bd3786"
            ],
            [
             0.5555555555555556,
             "#d8576b"
            ],
            [
             0.6666666666666666,
             "#ed7953"
            ],
            [
             0.7777777777777778,
             "#fb9f3a"
            ],
            [
             0.8888888888888888,
             "#fdca26"
            ],
            [
             1,
             "#f0f921"
            ]
           ],
           "sequentialminus": [
            [
             0,
             "#0d0887"
            ],
            [
             0.1111111111111111,
             "#46039f"
            ],
            [
             0.2222222222222222,
             "#7201a8"
            ],
            [
             0.3333333333333333,
             "#9c179e"
            ],
            [
             0.4444444444444444,
             "#bd3786"
            ],
            [
             0.5555555555555556,
             "#d8576b"
            ],
            [
             0.6666666666666666,
             "#ed7953"
            ],
            [
             0.7777777777777778,
             "#fb9f3a"
            ],
            [
             0.8888888888888888,
             "#fdca26"
            ],
            [
             1,
             "#f0f921"
            ]
           ]
          },
          "colorway": [
           "#636efa",
           "#EF553B",
           "#00cc96",
           "#ab63fa",
           "#FFA15A",
           "#19d3f3",
           "#FF6692",
           "#B6E880",
           "#FF97FF",
           "#FECB52"
          ],
          "font": {
           "color": "#2a3f5f"
          },
          "geo": {
           "bgcolor": "white",
           "lakecolor": "white",
           "landcolor": "white",
           "showlakes": true,
           "showland": true,
           "subunitcolor": "#C8D4E3"
          },
          "hoverlabel": {
           "align": "left"
          },
          "hovermode": "closest",
          "mapbox": {
           "style": "light"
          },
          "paper_bgcolor": "white",
          "plot_bgcolor": "white",
          "polar": {
           "angularaxis": {
            "gridcolor": "#EBF0F8",
            "linecolor": "#EBF0F8",
            "ticks": ""
           },
           "bgcolor": "white",
           "radialaxis": {
            "gridcolor": "#EBF0F8",
            "linecolor": "#EBF0F8",
            "ticks": ""
           }
          },
          "scene": {
           "xaxis": {
            "backgroundcolor": "white",
            "gridcolor": "#DFE8F3",
            "gridwidth": 2,
            "linecolor": "#EBF0F8",
            "showbackground": true,
            "ticks": "",
            "zerolinecolor": "#EBF0F8"
           },
           "yaxis": {
            "backgroundcolor": "white",
            "gridcolor": "#DFE8F3",
            "gridwidth": 2,
            "linecolor": "#EBF0F8",
            "showbackground": true,
            "ticks": "",
            "zerolinecolor": "#EBF0F8"
           },
           "zaxis": {
            "backgroundcolor": "white",
            "gridcolor": "#DFE8F3",
            "gridwidth": 2,
            "linecolor": "#EBF0F8",
            "showbackground": true,
            "ticks": "",
            "zerolinecolor": "#EBF0F8"
           }
          },
          "shapedefaults": {
           "line": {
            "color": "#2a3f5f"
           }
          },
          "ternary": {
           "aaxis": {
            "gridcolor": "#DFE8F3",
            "linecolor": "#A2B1C6",
            "ticks": ""
           },
           "baxis": {
            "gridcolor": "#DFE8F3",
            "linecolor": "#A2B1C6",
            "ticks": ""
           },
           "bgcolor": "white",
           "caxis": {
            "gridcolor": "#DFE8F3",
            "linecolor": "#A2B1C6",
            "ticks": ""
           }
          },
          "title": {
           "x": 0.05
          },
          "xaxis": {
           "automargin": true,
           "gridcolor": "#EBF0F8",
           "linecolor": "#EBF0F8",
           "ticks": "",
           "title": {
            "standoff": 15
           },
           "zerolinecolor": "#EBF0F8",
           "zerolinewidth": 2
          },
          "yaxis": {
           "automargin": true,
           "gridcolor": "#EBF0F8",
           "linecolor": "#EBF0F8",
           "ticks": "",
           "title": {
            "standoff": 15
           },
           "zerolinecolor": "#EBF0F8",
           "zerolinewidth": 2
          }
         }
        },
        "width": 700,
        "xaxis": {
         "range": [
          -1,
          1
         ]
        },
        "yaxis": {
         "range": [
          1,
          -1
         ]
        }
       }
      }
     },
     "metadata": {},
     "output_type": "display_data"
    },
    {
     "data": {
      "text/plain": [
       "<ipywidgets.widgets.interaction._InteractFactory at 0x106259300>"
      ]
     },
     "execution_count": 41,
     "metadata": {},
     "output_type": "execute_result"
    }
   ],
   "source": [
    "# 2d input\n",
    "aihub_2d = copy.deepcopy(input)\n",
    "# 2d skeleton\n",
    "pos = copy.deepcopy(aihub_2d)\n",
    "points_aihub_2d = {}\n",
    "for i, p in enumerate(pos):\n",
    "    p = np.append(p, 0.0)\n",
    "    #print(i, h36m_keypoints[i], p)\n",
    "    points_aihub_2d[h36m_keypoints[i]] = p\n",
    "pos_vector = pos.reshape(-1) # (51,)\n",
    "total_min, total_max = pos_vector.min(), pos_vector.max()\n",
    "print(\"total min: \", total_min,\n",
    "      \"total max: \", total_max)\n",
    "\n",
    "interact(draw_skeleton_2d(points_aihub_2d, h36m_connections))"
   ]
  },
  {
   "cell_type": "code",
   "execution_count": 43,
   "metadata": {},
   "outputs": [
    {
     "name": "stdout",
     "output_type": "stream",
     "text": [
      "total min:  -0.2785096 total max:  0.21705087\n"
     ]
    },
    {
     "data": {
      "application/vnd.plotly.v1+json": {
       "config": {
        "plotlyServerURL": "https://plot.ly"
       },
       "data": [
        {
         "marker": {
          "color": "red",
          "size": 5
         },
         "mode": "markers",
         "type": "scatter3d",
         "x": [
          0
         ],
         "y": [
          0
         ],
         "z": [
          0
         ]
        },
        {
         "marker": {
          "color": "blue",
          "size": 2
         },
         "mode": "markers",
         "type": "scatter3d",
         "x": [
          0.00025960570201277733
         ],
         "y": [
          0.00044757011346518993
         ],
         "z": [
          -0.00005701382178813219
         ]
        },
        {
         "marker": {
          "color": "blue",
          "size": 2
         },
         "mode": "markers",
         "type": "scatter3d",
         "x": [
          -0.0469481386244297
         ],
         "y": [
          -0.03680520877242088
         ],
         "z": [
          0.009517448022961617
         ]
        },
        {
         "marker": {
          "color": "blue",
          "size": 2
         },
         "mode": "markers",
         "type": "scatter3d",
         "x": [
          0.0010063477093353868
         ],
         "y": [
          -0.17912423610687256
         ],
         "z": [
          -0.115444615483284
         ]
        },
        {
         "marker": {
          "color": "blue",
          "size": 2
         },
         "mode": "markers",
         "type": "scatter3d",
         "x": [
          -0.06293084472417831
         ],
         "y": [
          -0.12815652787685394
         ],
         "z": [
          -0.21705086529254913
         ]
        },
        {
         "marker": {
          "color": "blue",
          "size": 2
         },
         "mode": "markers",
         "type": "scatter3d",
         "x": [
          0.047183144837617874
         ],
         "y": [
          0.03986698389053345
         ],
         "z": [
          -0.0041633425280451775
         ]
        },
        {
         "marker": {
          "color": "blue",
          "size": 2
         },
         "mode": "markers",
         "type": "scatter3d",
         "x": [
          0.14397922158241272
         ],
         "y": [
          -0.045067593455314636
         ],
         "z": [
          -0.09753785282373428
         ]
        },
        {
         "marker": {
          "color": "blue",
          "size": 2
         },
         "mode": "markers",
         "type": "scatter3d",
         "x": [
          0.07548268884420395
         ],
         "y": [
          -0.018378160893917084
         ],
         "z": [
          -0.19311822950839996
         ]
        },
        {
         "marker": {
          "color": "blue",
          "size": 2
         },
         "mode": "markers",
         "type": "scatter3d",
         "x": [
          0.026304462924599648
         ],
         "y": [
          -0.02008127048611641
         ],
         "z": [
          0.10460831224918365
         ]
        },
        {
         "marker": {
          "color": "blue",
          "size": 2
         },
         "mode": "markers",
         "type": "scatter3d",
         "x": [
          0.04604467377066612
         ],
         "y": [
          -0.06786256283521652
         ],
         "z": [
          0.19790615141391754
         ]
        },
        {
         "marker": {
          "color": "blue",
          "size": 2
         },
         "mode": "markers",
         "type": "scatter3d",
         "x": [
          0.09505917876958847
         ],
         "y": [
          -0.10180110484361649
         ],
         "z": [
          0.20985698699951172
         ]
        },
        {
         "marker": {
          "color": "blue",
          "size": 2
         },
         "mode": "markers",
         "type": "scatter3d",
         "x": [
          0.08340203016996384
         ],
         "y": [
          -0.1037520170211792
         ],
         "z": [
          0.27850958704948425
         ]
        },
        {
         "marker": {
          "color": "blue",
          "size": 2
         },
         "mode": "markers",
         "type": "scatter3d",
         "x": [
          0.11320709437131882
         ],
         "y": [
          -0.036924898624420166
         ],
         "z": [
          0.1799137145280838
         ]
        },
        {
         "marker": {
          "color": "blue",
          "size": 2
         },
         "mode": "markers",
         "type": "scatter3d",
         "x": [
          0.2036607712507248
         ],
         "y": [
          -0.08052252978086472
         ],
         "z": [
          0.1357690542936325
         ]
        },
        {
         "marker": {
          "color": "blue",
          "size": 2
         },
         "mode": "markers",
         "type": "scatter3d",
         "x": [
          0.18664105236530304
         ],
         "y": [
          -0.1432287096977234
         ],
         "z": [
          0.21998295187950134
         ]
        },
        {
         "marker": {
          "color": "blue",
          "size": 2
         },
         "mode": "markers",
         "type": "scatter3d",
         "x": [
          -0.029519181698560715
         ],
         "y": [
          -0.07917961478233337
         ],
         "z": [
          0.18083468079566956
         ]
        },
        {
         "marker": {
          "color": "blue",
          "size": 2
         },
         "mode": "markers",
         "type": "scatter3d",
         "x": [
          -0.1375417709350586
         ],
         "y": [
          -0.0730634480714798
         ],
         "z": [
          0.09956257045269012
         ]
        },
        {
         "marker": {
          "color": "blue",
          "size": 2
         },
         "mode": "markers",
         "type": "scatter3d",
         "x": [
          -0.09478949755430222
         ],
         "y": [
          -0.153935506939888
         ],
         "z": [
          0.18147161602973938
         ]
        },
        {
         "line": {
          "color": "black"
         },
         "mode": "lines",
         "type": "scatter3d",
         "x": [
          0.00025960570201277733,
          -0.0469481386244297
         ],
         "y": [
          0.00044757011346518993,
          -0.03680520877242088
         ],
         "z": [
          -0.00005701382178813219,
          0.009517448022961617
         ]
        },
        {
         "line": {
          "color": "black"
         },
         "mode": "lines",
         "type": "scatter3d",
         "x": [
          0.00025960570201277733,
          0.047183144837617874
         ],
         "y": [
          0.00044757011346518993,
          0.03986698389053345
         ],
         "z": [
          -0.00005701382178813219,
          -0.0041633425280451775
         ]
        },
        {
         "line": {
          "color": "black"
         },
         "mode": "lines",
         "type": "scatter3d",
         "x": [
          0.00025960570201277733,
          0.026304462924599648
         ],
         "y": [
          0.00044757011346518993,
          -0.02008127048611641
         ],
         "z": [
          -0.00005701382178813219,
          0.10460831224918365
         ]
        },
        {
         "line": {
          "color": "black"
         },
         "mode": "lines",
         "type": "scatter3d",
         "x": [
          -0.0469481386244297,
          0.0010063477093353868
         ],
         "y": [
          -0.03680520877242088,
          -0.17912423610687256
         ],
         "z": [
          0.009517448022961617,
          -0.115444615483284
         ]
        },
        {
         "line": {
          "color": "black"
         },
         "mode": "lines",
         "type": "scatter3d",
         "x": [
          0.0010063477093353868,
          -0.06293084472417831
         ],
         "y": [
          -0.17912423610687256,
          -0.12815652787685394
         ],
         "z": [
          -0.115444615483284,
          -0.21705086529254913
         ]
        },
        {
         "line": {
          "color": "black"
         },
         "mode": "lines",
         "type": "scatter3d",
         "x": [
          0.047183144837617874,
          0.14397922158241272
         ],
         "y": [
          0.03986698389053345,
          -0.045067593455314636
         ],
         "z": [
          -0.0041633425280451775,
          -0.09753785282373428
         ]
        },
        {
         "line": {
          "color": "black"
         },
         "mode": "lines",
         "type": "scatter3d",
         "x": [
          0.14397922158241272,
          0.07548268884420395
         ],
         "y": [
          -0.045067593455314636,
          -0.018378160893917084
         ],
         "z": [
          -0.09753785282373428,
          -0.19311822950839996
         ]
        },
        {
         "line": {
          "color": "black"
         },
         "mode": "lines",
         "type": "scatter3d",
         "x": [
          0.026304462924599648,
          0.04604467377066612
         ],
         "y": [
          -0.02008127048611641,
          -0.06786256283521652
         ],
         "z": [
          0.10460831224918365,
          0.19790615141391754
         ]
        },
        {
         "line": {
          "color": "black"
         },
         "mode": "lines",
         "type": "scatter3d",
         "x": [
          0.04604467377066612,
          0.09505917876958847
         ],
         "y": [
          -0.06786256283521652,
          -0.10180110484361649
         ],
         "z": [
          0.19790615141391754,
          0.20985698699951172
         ]
        },
        {
         "line": {
          "color": "black"
         },
         "mode": "lines",
         "type": "scatter3d",
         "x": [
          0.09505917876958847,
          0.08340203016996384
         ],
         "y": [
          -0.10180110484361649,
          -0.1037520170211792
         ],
         "z": [
          0.20985698699951172,
          0.27850958704948425
         ]
        },
        {
         "line": {
          "color": "black"
         },
         "mode": "lines",
         "type": "scatter3d",
         "x": [
          0.04604467377066612,
          -0.029519181698560715
         ],
         "y": [
          -0.06786256283521652,
          -0.07917961478233337
         ],
         "z": [
          0.19790615141391754,
          0.18083468079566956
         ]
        },
        {
         "line": {
          "color": "black"
         },
         "mode": "lines",
         "type": "scatter3d",
         "x": [
          -0.029519181698560715,
          -0.1375417709350586
         ],
         "y": [
          -0.07917961478233337,
          -0.0730634480714798
         ],
         "z": [
          0.18083468079566956,
          0.09956257045269012
         ]
        },
        {
         "line": {
          "color": "black"
         },
         "mode": "lines",
         "type": "scatter3d",
         "x": [
          -0.1375417709350586,
          -0.09478949755430222
         ],
         "y": [
          -0.0730634480714798,
          -0.153935506939888
         ],
         "z": [
          0.09956257045269012,
          0.18147161602973938
         ]
        },
        {
         "line": {
          "color": "black"
         },
         "mode": "lines",
         "type": "scatter3d",
         "x": [
          0.04604467377066612,
          0.11320709437131882
         ],
         "y": [
          -0.06786256283521652,
          -0.036924898624420166
         ],
         "z": [
          0.19790615141391754,
          0.1799137145280838
         ]
        },
        {
         "line": {
          "color": "black"
         },
         "mode": "lines",
         "type": "scatter3d",
         "x": [
          0.11320709437131882,
          0.2036607712507248
         ],
         "y": [
          -0.036924898624420166,
          -0.08052252978086472
         ],
         "z": [
          0.1799137145280838,
          0.1357690542936325
         ]
        },
        {
         "line": {
          "color": "black"
         },
         "mode": "lines",
         "type": "scatter3d",
         "x": [
          0.2036607712507248,
          0.18664105236530304
         ],
         "y": [
          -0.08052252978086472,
          -0.1432287096977234
         ],
         "z": [
          0.1357690542936325,
          0.21998295187950134
         ]
        }
       ],
       "layout": {
        "autosize": false,
        "height": 700,
        "scene": {
         "aspectratio": {
          "x": 1,
          "y": 1,
          "z": 1
         },
         "camera": {
          "eye": {
           "x": 1,
           "y": 1,
           "z": 1
          }
         },
         "xaxis": {
          "range": [
           -1,
           1
          ]
         },
         "yaxis": {
          "range": [
           -1,
           1
          ]
         },
         "zaxis": {
          "range": [
           -1,
           1
          ]
         }
        },
        "template": {
         "data": {
          "bar": [
           {
            "error_x": {
             "color": "#2a3f5f"
            },
            "error_y": {
             "color": "#2a3f5f"
            },
            "marker": {
             "line": {
              "color": "#E5ECF6",
              "width": 0.5
             },
             "pattern": {
              "fillmode": "overlay",
              "size": 10,
              "solidity": 0.2
             }
            },
            "type": "bar"
           }
          ],
          "barpolar": [
           {
            "marker": {
             "line": {
              "color": "#E5ECF6",
              "width": 0.5
             },
             "pattern": {
              "fillmode": "overlay",
              "size": 10,
              "solidity": 0.2
             }
            },
            "type": "barpolar"
           }
          ],
          "carpet": [
           {
            "aaxis": {
             "endlinecolor": "#2a3f5f",
             "gridcolor": "white",
             "linecolor": "white",
             "minorgridcolor": "white",
             "startlinecolor": "#2a3f5f"
            },
            "baxis": {
             "endlinecolor": "#2a3f5f",
             "gridcolor": "white",
             "linecolor": "white",
             "minorgridcolor": "white",
             "startlinecolor": "#2a3f5f"
            },
            "type": "carpet"
           }
          ],
          "choropleth": [
           {
            "colorbar": {
             "outlinewidth": 0,
             "ticks": ""
            },
            "type": "choropleth"
           }
          ],
          "contour": [
           {
            "colorbar": {
             "outlinewidth": 0,
             "ticks": ""
            },
            "colorscale": [
             [
              0,
              "#0d0887"
             ],
             [
              0.1111111111111111,
              "#46039f"
             ],
             [
              0.2222222222222222,
              "#7201a8"
             ],
             [
              0.3333333333333333,
              "#9c179e"
             ],
             [
              0.4444444444444444,
              "#bd3786"
             ],
             [
              0.5555555555555556,
              "#d8576b"
             ],
             [
              0.6666666666666666,
              "#ed7953"
             ],
             [
              0.7777777777777778,
              "#fb9f3a"
             ],
             [
              0.8888888888888888,
              "#fdca26"
             ],
             [
              1,
              "#f0f921"
             ]
            ],
            "type": "contour"
           }
          ],
          "contourcarpet": [
           {
            "colorbar": {
             "outlinewidth": 0,
             "ticks": ""
            },
            "type": "contourcarpet"
           }
          ],
          "heatmap": [
           {
            "colorbar": {
             "outlinewidth": 0,
             "ticks": ""
            },
            "colorscale": [
             [
              0,
              "#0d0887"
             ],
             [
              0.1111111111111111,
              "#46039f"
             ],
             [
              0.2222222222222222,
              "#7201a8"
             ],
             [
              0.3333333333333333,
              "#9c179e"
             ],
             [
              0.4444444444444444,
              "#bd3786"
             ],
             [
              0.5555555555555556,
              "#d8576b"
             ],
             [
              0.6666666666666666,
              "#ed7953"
             ],
             [
              0.7777777777777778,
              "#fb9f3a"
             ],
             [
              0.8888888888888888,
              "#fdca26"
             ],
             [
              1,
              "#f0f921"
             ]
            ],
            "type": "heatmap"
           }
          ],
          "heatmapgl": [
           {
            "colorbar": {
             "outlinewidth": 0,
             "ticks": ""
            },
            "colorscale": [
             [
              0,
              "#0d0887"
             ],
             [
              0.1111111111111111,
              "#46039f"
             ],
             [
              0.2222222222222222,
              "#7201a8"
             ],
             [
              0.3333333333333333,
              "#9c179e"
             ],
             [
              0.4444444444444444,
              "#bd3786"
             ],
             [
              0.5555555555555556,
              "#d8576b"
             ],
             [
              0.6666666666666666,
              "#ed7953"
             ],
             [
              0.7777777777777778,
              "#fb9f3a"
             ],
             [
              0.8888888888888888,
              "#fdca26"
             ],
             [
              1,
              "#f0f921"
             ]
            ],
            "type": "heatmapgl"
           }
          ],
          "histogram": [
           {
            "marker": {
             "pattern": {
              "fillmode": "overlay",
              "size": 10,
              "solidity": 0.2
             }
            },
            "type": "histogram"
           }
          ],
          "histogram2d": [
           {
            "colorbar": {
             "outlinewidth": 0,
             "ticks": ""
            },
            "colorscale": [
             [
              0,
              "#0d0887"
             ],
             [
              0.1111111111111111,
              "#46039f"
             ],
             [
              0.2222222222222222,
              "#7201a8"
             ],
             [
              0.3333333333333333,
              "#9c179e"
             ],
             [
              0.4444444444444444,
              "#bd3786"
             ],
             [
              0.5555555555555556,
              "#d8576b"
             ],
             [
              0.6666666666666666,
              "#ed7953"
             ],
             [
              0.7777777777777778,
              "#fb9f3a"
             ],
             [
              0.8888888888888888,
              "#fdca26"
             ],
             [
              1,
              "#f0f921"
             ]
            ],
            "type": "histogram2d"
           }
          ],
          "histogram2dcontour": [
           {
            "colorbar": {
             "outlinewidth": 0,
             "ticks": ""
            },
            "colorscale": [
             [
              0,
              "#0d0887"
             ],
             [
              0.1111111111111111,
              "#46039f"
             ],
             [
              0.2222222222222222,
              "#7201a8"
             ],
             [
              0.3333333333333333,
              "#9c179e"
             ],
             [
              0.4444444444444444,
              "#bd3786"
             ],
             [
              0.5555555555555556,
              "#d8576b"
             ],
             [
              0.6666666666666666,
              "#ed7953"
             ],
             [
              0.7777777777777778,
              "#fb9f3a"
             ],
             [
              0.8888888888888888,
              "#fdca26"
             ],
             [
              1,
              "#f0f921"
             ]
            ],
            "type": "histogram2dcontour"
           }
          ],
          "mesh3d": [
           {
            "colorbar": {
             "outlinewidth": 0,
             "ticks": ""
            },
            "type": "mesh3d"
           }
          ],
          "parcoords": [
           {
            "line": {
             "colorbar": {
              "outlinewidth": 0,
              "ticks": ""
             }
            },
            "type": "parcoords"
           }
          ],
          "pie": [
           {
            "automargin": true,
            "type": "pie"
           }
          ],
          "scatter": [
           {
            "fillpattern": {
             "fillmode": "overlay",
             "size": 10,
             "solidity": 0.2
            },
            "type": "scatter"
           }
          ],
          "scatter3d": [
           {
            "line": {
             "colorbar": {
              "outlinewidth": 0,
              "ticks": ""
             }
            },
            "marker": {
             "colorbar": {
              "outlinewidth": 0,
              "ticks": ""
             }
            },
            "type": "scatter3d"
           }
          ],
          "scattercarpet": [
           {
            "marker": {
             "colorbar": {
              "outlinewidth": 0,
              "ticks": ""
             }
            },
            "type": "scattercarpet"
           }
          ],
          "scattergeo": [
           {
            "marker": {
             "colorbar": {
              "outlinewidth": 0,
              "ticks": ""
             }
            },
            "type": "scattergeo"
           }
          ],
          "scattergl": [
           {
            "marker": {
             "colorbar": {
              "outlinewidth": 0,
              "ticks": ""
             }
            },
            "type": "scattergl"
           }
          ],
          "scattermapbox": [
           {
            "marker": {
             "colorbar": {
              "outlinewidth": 0,
              "ticks": ""
             }
            },
            "type": "scattermapbox"
           }
          ],
          "scatterpolar": [
           {
            "marker": {
             "colorbar": {
              "outlinewidth": 0,
              "ticks": ""
             }
            },
            "type": "scatterpolar"
           }
          ],
          "scatterpolargl": [
           {
            "marker": {
             "colorbar": {
              "outlinewidth": 0,
              "ticks": ""
             }
            },
            "type": "scatterpolargl"
           }
          ],
          "scatterternary": [
           {
            "marker": {
             "colorbar": {
              "outlinewidth": 0,
              "ticks": ""
             }
            },
            "type": "scatterternary"
           }
          ],
          "surface": [
           {
            "colorbar": {
             "outlinewidth": 0,
             "ticks": ""
            },
            "colorscale": [
             [
              0,
              "#0d0887"
             ],
             [
              0.1111111111111111,
              "#46039f"
             ],
             [
              0.2222222222222222,
              "#7201a8"
             ],
             [
              0.3333333333333333,
              "#9c179e"
             ],
             [
              0.4444444444444444,
              "#bd3786"
             ],
             [
              0.5555555555555556,
              "#d8576b"
             ],
             [
              0.6666666666666666,
              "#ed7953"
             ],
             [
              0.7777777777777778,
              "#fb9f3a"
             ],
             [
              0.8888888888888888,
              "#fdca26"
             ],
             [
              1,
              "#f0f921"
             ]
            ],
            "type": "surface"
           }
          ],
          "table": [
           {
            "cells": {
             "fill": {
              "color": "#EBF0F8"
             },
             "line": {
              "color": "white"
             }
            },
            "header": {
             "fill": {
              "color": "#C8D4E3"
             },
             "line": {
              "color": "white"
             }
            },
            "type": "table"
           }
          ]
         },
         "layout": {
          "annotationdefaults": {
           "arrowcolor": "#2a3f5f",
           "arrowhead": 0,
           "arrowwidth": 1
          },
          "autotypenumbers": "strict",
          "coloraxis": {
           "colorbar": {
            "outlinewidth": 0,
            "ticks": ""
           }
          },
          "colorscale": {
           "diverging": [
            [
             0,
             "#8e0152"
            ],
            [
             0.1,
             "#c51b7d"
            ],
            [
             0.2,
             "#de77ae"
            ],
            [
             0.3,
             "#f1b6da"
            ],
            [
             0.4,
             "#fde0ef"
            ],
            [
             0.5,
             "#f7f7f7"
            ],
            [
             0.6,
             "#e6f5d0"
            ],
            [
             0.7,
             "#b8e186"
            ],
            [
             0.8,
             "#7fbc41"
            ],
            [
             0.9,
             "#4d9221"
            ],
            [
             1,
             "#276419"
            ]
           ],
           "sequential": [
            [
             0,
             "#0d0887"
            ],
            [
             0.1111111111111111,
             "#46039f"
            ],
            [
             0.2222222222222222,
             "#7201a8"
            ],
            [
             0.3333333333333333,
             "#9c179e"
            ],
            [
             0.4444444444444444,
             "#bd3786"
            ],
            [
             0.5555555555555556,
             "#d8576b"
            ],
            [
             0.6666666666666666,
             "#ed7953"
            ],
            [
             0.7777777777777778,
             "#fb9f3a"
            ],
            [
             0.8888888888888888,
             "#fdca26"
            ],
            [
             1,
             "#f0f921"
            ]
           ],
           "sequentialminus": [
            [
             0,
             "#0d0887"
            ],
            [
             0.1111111111111111,
             "#46039f"
            ],
            [
             0.2222222222222222,
             "#7201a8"
            ],
            [
             0.3333333333333333,
             "#9c179e"
            ],
            [
             0.4444444444444444,
             "#bd3786"
            ],
            [
             0.5555555555555556,
             "#d8576b"
            ],
            [
             0.6666666666666666,
             "#ed7953"
            ],
            [
             0.7777777777777778,
             "#fb9f3a"
            ],
            [
             0.8888888888888888,
             "#fdca26"
            ],
            [
             1,
             "#f0f921"
            ]
           ]
          },
          "colorway": [
           "#636efa",
           "#EF553B",
           "#00cc96",
           "#ab63fa",
           "#FFA15A",
           "#19d3f3",
           "#FF6692",
           "#B6E880",
           "#FF97FF",
           "#FECB52"
          ],
          "font": {
           "color": "#2a3f5f"
          },
          "geo": {
           "bgcolor": "white",
           "lakecolor": "white",
           "landcolor": "#E5ECF6",
           "showlakes": true,
           "showland": true,
           "subunitcolor": "white"
          },
          "hoverlabel": {
           "align": "left"
          },
          "hovermode": "closest",
          "mapbox": {
           "style": "light"
          },
          "paper_bgcolor": "white",
          "plot_bgcolor": "#E5ECF6",
          "polar": {
           "angularaxis": {
            "gridcolor": "white",
            "linecolor": "white",
            "ticks": ""
           },
           "bgcolor": "#E5ECF6",
           "radialaxis": {
            "gridcolor": "white",
            "linecolor": "white",
            "ticks": ""
           }
          },
          "scene": {
           "xaxis": {
            "backgroundcolor": "#E5ECF6",
            "gridcolor": "white",
            "gridwidth": 2,
            "linecolor": "white",
            "showbackground": true,
            "ticks": "",
            "zerolinecolor": "white"
           },
           "yaxis": {
            "backgroundcolor": "#E5ECF6",
            "gridcolor": "white",
            "gridwidth": 2,
            "linecolor": "white",
            "showbackground": true,
            "ticks": "",
            "zerolinecolor": "white"
           },
           "zaxis": {
            "backgroundcolor": "#E5ECF6",
            "gridcolor": "white",
            "gridwidth": 2,
            "linecolor": "white",
            "showbackground": true,
            "ticks": "",
            "zerolinecolor": "white"
           }
          },
          "shapedefaults": {
           "line": {
            "color": "#2a3f5f"
           }
          },
          "ternary": {
           "aaxis": {
            "gridcolor": "white",
            "linecolor": "white",
            "ticks": ""
           },
           "baxis": {
            "gridcolor": "white",
            "linecolor": "white",
            "ticks": ""
           },
           "bgcolor": "#E5ECF6",
           "caxis": {
            "gridcolor": "white",
            "linecolor": "white",
            "ticks": ""
           }
          },
          "title": {
           "x": 0.05
          },
          "xaxis": {
           "automargin": true,
           "gridcolor": "white",
           "linecolor": "white",
           "ticks": "",
           "title": {
            "standoff": 15
           },
           "zerolinecolor": "white",
           "zerolinewidth": 2
          },
          "yaxis": {
           "automargin": true,
           "gridcolor": "white",
           "linecolor": "white",
           "ticks": "",
           "title": {
            "standoff": 15
           },
           "zerolinecolor": "white",
           "zerolinewidth": 2
          }
         }
        },
        "width": 700
       }
      }
     },
     "metadata": {},
     "output_type": "display_data"
    }
   ],
   "source": [
    "# result\n",
    "aihub_3d = copy.deepcopy(output)\n",
    "pos = copy.deepcopy(aihub_3d)\n",
    "points_aihub_3d = {}\n",
    "for i, p in enumerate(pos):\n",
    "    #print(i, h36m_keypoints[i], p)\n",
    "    points_aihub_3d[h36m_keypoints[i]] = np.array([p[0], p[2], -p[1]]) #np.array([p[0], p[1], p[2]])  #np.array([p[0], -p[2], p[1]])\n",
    "pos_vector = pos.reshape(-1) # (51,)\n",
    "total_min, total_max = pos_vector.min(), pos_vector.max()\n",
    "print(\"total min: \", total_min,\n",
    "      \"total max: \", total_max)\n",
    "\n",
    "fig = draw_skeleton(points_aihub_3d, h36m_connections)\n",
    "fig.show()"
   ]
  },
  {
   "cell_type": "markdown",
   "metadata": {},
   "source": [
    "### s03_50591643_squat"
   ]
  },
  {
   "cell_type": "code",
   "execution_count": 44,
   "metadata": {},
   "outputs": [],
   "source": [
    "input = fit3d_result['s03_50591643_squat']['input'][frame_num]\n",
    "output = fit3d_result['s03_50591643_squat']['output'][frame_num]"
   ]
  },
  {
   "cell_type": "code",
   "execution_count": 45,
   "metadata": {},
   "outputs": [
    {
     "name": "stdout",
     "output_type": "stream",
     "text": [
      "total min:  -0.37189562988281255 total max:  0.19535400390625002\n"
     ]
    },
    {
     "data": {
      "application/vnd.plotly.v1+json": {
       "config": {
        "plotlyServerURL": "https://plot.ly"
       },
       "data": [
        {
         "marker": {
          "color": "blue",
          "size": 2
         },
         "mode": "markers",
         "type": "scatter",
         "x": [
          -0.00951702880859373
         ],
         "y": [
          -0.01585595703124998
         ]
        },
        {
         "marker": {
          "color": "blue",
          "size": 2
         },
         "mode": "markers",
         "type": "scatter",
         "x": [
          0.038759521484375004
         ],
         "y": [
          -0.009821350097656278
         ]
        },
        {
         "marker": {
          "color": "blue",
          "size": 2
         },
         "mode": "markers",
         "type": "scatter",
         "x": [
          -0.02762072753906253
         ],
         "y": [
          -0.0037868041992187296
         ]
        },
        {
         "marker": {
          "color": "blue",
          "size": 2
         },
         "mode": "markers",
         "type": "scatter",
         "x": [
          0.026690429687499906
         ],
         "y": [
          0.17725036621093748
         ]
        },
        {
         "marker": {
          "color": "blue",
          "size": 2
         },
         "mode": "markers",
         "type": "scatter",
         "x": [
          -0.057793579101562464
         ],
         "y": [
          0.0022477416992188193
         ]
        },
        {
         "marker": {
          "color": "blue",
          "size": 2
         },
         "mode": "markers",
         "type": "scatter",
         "x": [
          -0.172450439453125
         ],
         "y": [
          0.00828234863281252
         ]
        },
        {
         "marker": {
          "color": "blue",
          "size": 2
         },
         "mode": "markers",
         "type": "scatter",
         "x": [
          -0.11813928222656245
         ],
         "y": [
          0.19535400390625002
         ]
        },
        {
         "marker": {
          "color": "blue",
          "size": 2
         },
         "mode": "markers",
         "type": "scatter",
         "x": [
          -0.042707153320312496
         ],
         "y": [
          -0.16068566894531255
         ]
        },
        {
         "marker": {
          "color": "blue",
          "size": 2
         },
         "mode": "markers",
         "type": "scatter",
         "x": [
          -0.07589727783203126
         ],
         "y": [
          -0.305515380859375
         ]
        },
        {
         "marker": {
          "color": "blue",
          "size": 2
         },
         "mode": "markers",
         "type": "scatter",
         "x": [
          -0.14227758789062495
         ],
         "y": [
          -0.305515380859375
         ]
        },
        {
         "marker": {
          "color": "blue",
          "size": 2
         },
         "mode": "markers",
         "type": "scatter",
         "x": [
          -0.10003558349609376
         ],
         "y": [
          -0.37189562988281255
         ]
        },
        {
         "marker": {
          "color": "blue",
          "size": 2
         },
         "mode": "markers",
         "type": "scatter",
         "x": [
          -0.14227758789062495
         ],
         "y": [
          -0.2572388305664063
         ]
        },
        {
         "marker": {
          "color": "blue",
          "size": 2
         },
         "mode": "markers",
         "type": "scatter",
         "x": [
          -0.24486529541015623
         ],
         "y": [
          -0.1727548217773438
         ]
        },
        {
         "marker": {
          "color": "blue",
          "size": 2
         },
         "mode": "markers",
         "type": "scatter",
         "x": [
          -0.22072698974609373
         ],
         "y": [
          -0.2813770751953125
         ]
        },
        {
         "marker": {
          "color": "blue",
          "size": 2
         },
         "mode": "markers",
         "type": "scatter",
         "x": [
          0.00858673095703133
         ],
         "y": [
          -0.2572388305664063
         ]
        },
        {
         "marker": {
          "color": "blue",
          "size": 2
         },
         "mode": "markers",
         "type": "scatter",
         "x": [
          0.1111744384765625
         ],
         "y": [
          -0.1727548217773438
         ]
        },
        {
         "marker": {
          "color": "blue",
          "size": 2
         },
         "mode": "markers",
         "type": "scatter",
         "x": [
          0.056863281250000064
         ],
         "y": [
          -0.27534252929687497
         ]
        },
        {
         "line": {
          "color": "black"
         },
         "mode": "lines",
         "type": "scatter",
         "x": [
          -0.00951702880859373,
          0.038759521484375004
         ],
         "y": [
          -0.01585595703124998,
          -0.009821350097656278
         ]
        },
        {
         "line": {
          "color": "black"
         },
         "mode": "lines",
         "type": "scatter",
         "x": [
          -0.00951702880859373,
          -0.057793579101562464
         ],
         "y": [
          -0.01585595703124998,
          0.0022477416992188193
         ]
        },
        {
         "line": {
          "color": "black"
         },
         "mode": "lines",
         "type": "scatter",
         "x": [
          -0.00951702880859373,
          -0.042707153320312496
         ],
         "y": [
          -0.01585595703124998,
          -0.16068566894531255
         ]
        },
        {
         "line": {
          "color": "black"
         },
         "mode": "lines",
         "type": "scatter",
         "x": [
          0.038759521484375004,
          -0.02762072753906253
         ],
         "y": [
          -0.009821350097656278,
          -0.0037868041992187296
         ]
        },
        {
         "line": {
          "color": "black"
         },
         "mode": "lines",
         "type": "scatter",
         "x": [
          -0.02762072753906253,
          0.026690429687499906
         ],
         "y": [
          -0.0037868041992187296,
          0.17725036621093748
         ]
        },
        {
         "line": {
          "color": "black"
         },
         "mode": "lines",
         "type": "scatter",
         "x": [
          -0.057793579101562464,
          -0.172450439453125
         ],
         "y": [
          0.0022477416992188193,
          0.00828234863281252
         ]
        },
        {
         "line": {
          "color": "black"
         },
         "mode": "lines",
         "type": "scatter",
         "x": [
          -0.172450439453125,
          -0.11813928222656245
         ],
         "y": [
          0.00828234863281252,
          0.19535400390625002
         ]
        },
        {
         "line": {
          "color": "black"
         },
         "mode": "lines",
         "type": "scatter",
         "x": [
          -0.042707153320312496,
          -0.07589727783203126
         ],
         "y": [
          -0.16068566894531255,
          -0.305515380859375
         ]
        },
        {
         "line": {
          "color": "black"
         },
         "mode": "lines",
         "type": "scatter",
         "x": [
          -0.07589727783203126,
          -0.14227758789062495
         ],
         "y": [
          -0.305515380859375,
          -0.305515380859375
         ]
        },
        {
         "line": {
          "color": "black"
         },
         "mode": "lines",
         "type": "scatter",
         "x": [
          -0.14227758789062495,
          -0.10003558349609376
         ],
         "y": [
          -0.305515380859375,
          -0.37189562988281255
         ]
        },
        {
         "line": {
          "color": "black"
         },
         "mode": "lines",
         "type": "scatter",
         "x": [
          -0.07589727783203126,
          0.00858673095703133
         ],
         "y": [
          -0.305515380859375,
          -0.2572388305664063
         ]
        },
        {
         "line": {
          "color": "black"
         },
         "mode": "lines",
         "type": "scatter",
         "x": [
          0.00858673095703133,
          0.1111744384765625
         ],
         "y": [
          -0.2572388305664063,
          -0.1727548217773438
         ]
        },
        {
         "line": {
          "color": "black"
         },
         "mode": "lines",
         "type": "scatter",
         "x": [
          0.1111744384765625,
          0.056863281250000064
         ],
         "y": [
          -0.1727548217773438,
          -0.27534252929687497
         ]
        },
        {
         "line": {
          "color": "black"
         },
         "mode": "lines",
         "type": "scatter",
         "x": [
          -0.07589727783203126,
          -0.14227758789062495
         ],
         "y": [
          -0.305515380859375,
          -0.2572388305664063
         ]
        },
        {
         "line": {
          "color": "black"
         },
         "mode": "lines",
         "type": "scatter",
         "x": [
          -0.14227758789062495,
          -0.24486529541015623
         ],
         "y": [
          -0.2572388305664063,
          -0.1727548217773438
         ]
        },
        {
         "line": {
          "color": "black"
         },
         "mode": "lines",
         "type": "scatter",
         "x": [
          -0.24486529541015623,
          -0.22072698974609373
         ],
         "y": [
          -0.1727548217773438,
          -0.2813770751953125
         ]
        }
       ],
       "layout": {
        "height": 700,
        "template": {
         "data": {
          "bar": [
           {
            "error_x": {
             "color": "#2a3f5f"
            },
            "error_y": {
             "color": "#2a3f5f"
            },
            "marker": {
             "line": {
              "color": "white",
              "width": 0.5
             },
             "pattern": {
              "fillmode": "overlay",
              "size": 10,
              "solidity": 0.2
             }
            },
            "type": "bar"
           }
          ],
          "barpolar": [
           {
            "marker": {
             "line": {
              "color": "white",
              "width": 0.5
             },
             "pattern": {
              "fillmode": "overlay",
              "size": 10,
              "solidity": 0.2
             }
            },
            "type": "barpolar"
           }
          ],
          "carpet": [
           {
            "aaxis": {
             "endlinecolor": "#2a3f5f",
             "gridcolor": "#C8D4E3",
             "linecolor": "#C8D4E3",
             "minorgridcolor": "#C8D4E3",
             "startlinecolor": "#2a3f5f"
            },
            "baxis": {
             "endlinecolor": "#2a3f5f",
             "gridcolor": "#C8D4E3",
             "linecolor": "#C8D4E3",
             "minorgridcolor": "#C8D4E3",
             "startlinecolor": "#2a3f5f"
            },
            "type": "carpet"
           }
          ],
          "choropleth": [
           {
            "colorbar": {
             "outlinewidth": 0,
             "ticks": ""
            },
            "type": "choropleth"
           }
          ],
          "contour": [
           {
            "colorbar": {
             "outlinewidth": 0,
             "ticks": ""
            },
            "colorscale": [
             [
              0,
              "#0d0887"
             ],
             [
              0.1111111111111111,
              "#46039f"
             ],
             [
              0.2222222222222222,
              "#7201a8"
             ],
             [
              0.3333333333333333,
              "#9c179e"
             ],
             [
              0.4444444444444444,
              "#bd3786"
             ],
             [
              0.5555555555555556,
              "#d8576b"
             ],
             [
              0.6666666666666666,
              "#ed7953"
             ],
             [
              0.7777777777777778,
              "#fb9f3a"
             ],
             [
              0.8888888888888888,
              "#fdca26"
             ],
             [
              1,
              "#f0f921"
             ]
            ],
            "type": "contour"
           }
          ],
          "contourcarpet": [
           {
            "colorbar": {
             "outlinewidth": 0,
             "ticks": ""
            },
            "type": "contourcarpet"
           }
          ],
          "heatmap": [
           {
            "colorbar": {
             "outlinewidth": 0,
             "ticks": ""
            },
            "colorscale": [
             [
              0,
              "#0d0887"
             ],
             [
              0.1111111111111111,
              "#46039f"
             ],
             [
              0.2222222222222222,
              "#7201a8"
             ],
             [
              0.3333333333333333,
              "#9c179e"
             ],
             [
              0.4444444444444444,
              "#bd3786"
             ],
             [
              0.5555555555555556,
              "#d8576b"
             ],
             [
              0.6666666666666666,
              "#ed7953"
             ],
             [
              0.7777777777777778,
              "#fb9f3a"
             ],
             [
              0.8888888888888888,
              "#fdca26"
             ],
             [
              1,
              "#f0f921"
             ]
            ],
            "type": "heatmap"
           }
          ],
          "heatmapgl": [
           {
            "colorbar": {
             "outlinewidth": 0,
             "ticks": ""
            },
            "colorscale": [
             [
              0,
              "#0d0887"
             ],
             [
              0.1111111111111111,
              "#46039f"
             ],
             [
              0.2222222222222222,
              "#7201a8"
             ],
             [
              0.3333333333333333,
              "#9c179e"
             ],
             [
              0.4444444444444444,
              "#bd3786"
             ],
             [
              0.5555555555555556,
              "#d8576b"
             ],
             [
              0.6666666666666666,
              "#ed7953"
             ],
             [
              0.7777777777777778,
              "#fb9f3a"
             ],
             [
              0.8888888888888888,
              "#fdca26"
             ],
             [
              1,
              "#f0f921"
             ]
            ],
            "type": "heatmapgl"
           }
          ],
          "histogram": [
           {
            "marker": {
             "pattern": {
              "fillmode": "overlay",
              "size": 10,
              "solidity": 0.2
             }
            },
            "type": "histogram"
           }
          ],
          "histogram2d": [
           {
            "colorbar": {
             "outlinewidth": 0,
             "ticks": ""
            },
            "colorscale": [
             [
              0,
              "#0d0887"
             ],
             [
              0.1111111111111111,
              "#46039f"
             ],
             [
              0.2222222222222222,
              "#7201a8"
             ],
             [
              0.3333333333333333,
              "#9c179e"
             ],
             [
              0.4444444444444444,
              "#bd3786"
             ],
             [
              0.5555555555555556,
              "#d8576b"
             ],
             [
              0.6666666666666666,
              "#ed7953"
             ],
             [
              0.7777777777777778,
              "#fb9f3a"
             ],
             [
              0.8888888888888888,
              "#fdca26"
             ],
             [
              1,
              "#f0f921"
             ]
            ],
            "type": "histogram2d"
           }
          ],
          "histogram2dcontour": [
           {
            "colorbar": {
             "outlinewidth": 0,
             "ticks": ""
            },
            "colorscale": [
             [
              0,
              "#0d0887"
             ],
             [
              0.1111111111111111,
              "#46039f"
             ],
             [
              0.2222222222222222,
              "#7201a8"
             ],
             [
              0.3333333333333333,
              "#9c179e"
             ],
             [
              0.4444444444444444,
              "#bd3786"
             ],
             [
              0.5555555555555556,
              "#d8576b"
             ],
             [
              0.6666666666666666,
              "#ed7953"
             ],
             [
              0.7777777777777778,
              "#fb9f3a"
             ],
             [
              0.8888888888888888,
              "#fdca26"
             ],
             [
              1,
              "#f0f921"
             ]
            ],
            "type": "histogram2dcontour"
           }
          ],
          "mesh3d": [
           {
            "colorbar": {
             "outlinewidth": 0,
             "ticks": ""
            },
            "type": "mesh3d"
           }
          ],
          "parcoords": [
           {
            "line": {
             "colorbar": {
              "outlinewidth": 0,
              "ticks": ""
             }
            },
            "type": "parcoords"
           }
          ],
          "pie": [
           {
            "automargin": true,
            "type": "pie"
           }
          ],
          "scatter": [
           {
            "fillpattern": {
             "fillmode": "overlay",
             "size": 10,
             "solidity": 0.2
            },
            "type": "scatter"
           }
          ],
          "scatter3d": [
           {
            "line": {
             "colorbar": {
              "outlinewidth": 0,
              "ticks": ""
             }
            },
            "marker": {
             "colorbar": {
              "outlinewidth": 0,
              "ticks": ""
             }
            },
            "type": "scatter3d"
           }
          ],
          "scattercarpet": [
           {
            "marker": {
             "colorbar": {
              "outlinewidth": 0,
              "ticks": ""
             }
            },
            "type": "scattercarpet"
           }
          ],
          "scattergeo": [
           {
            "marker": {
             "colorbar": {
              "outlinewidth": 0,
              "ticks": ""
             }
            },
            "type": "scattergeo"
           }
          ],
          "scattergl": [
           {
            "marker": {
             "colorbar": {
              "outlinewidth": 0,
              "ticks": ""
             }
            },
            "type": "scattergl"
           }
          ],
          "scattermapbox": [
           {
            "marker": {
             "colorbar": {
              "outlinewidth": 0,
              "ticks": ""
             }
            },
            "type": "scattermapbox"
           }
          ],
          "scatterpolar": [
           {
            "marker": {
             "colorbar": {
              "outlinewidth": 0,
              "ticks": ""
             }
            },
            "type": "scatterpolar"
           }
          ],
          "scatterpolargl": [
           {
            "marker": {
             "colorbar": {
              "outlinewidth": 0,
              "ticks": ""
             }
            },
            "type": "scatterpolargl"
           }
          ],
          "scatterternary": [
           {
            "marker": {
             "colorbar": {
              "outlinewidth": 0,
              "ticks": ""
             }
            },
            "type": "scatterternary"
           }
          ],
          "surface": [
           {
            "colorbar": {
             "outlinewidth": 0,
             "ticks": ""
            },
            "colorscale": [
             [
              0,
              "#0d0887"
             ],
             [
              0.1111111111111111,
              "#46039f"
             ],
             [
              0.2222222222222222,
              "#7201a8"
             ],
             [
              0.3333333333333333,
              "#9c179e"
             ],
             [
              0.4444444444444444,
              "#bd3786"
             ],
             [
              0.5555555555555556,
              "#d8576b"
             ],
             [
              0.6666666666666666,
              "#ed7953"
             ],
             [
              0.7777777777777778,
              "#fb9f3a"
             ],
             [
              0.8888888888888888,
              "#fdca26"
             ],
             [
              1,
              "#f0f921"
             ]
            ],
            "type": "surface"
           }
          ],
          "table": [
           {
            "cells": {
             "fill": {
              "color": "#EBF0F8"
             },
             "line": {
              "color": "white"
             }
            },
            "header": {
             "fill": {
              "color": "#C8D4E3"
             },
             "line": {
              "color": "white"
             }
            },
            "type": "table"
           }
          ]
         },
         "layout": {
          "annotationdefaults": {
           "arrowcolor": "#2a3f5f",
           "arrowhead": 0,
           "arrowwidth": 1
          },
          "autotypenumbers": "strict",
          "coloraxis": {
           "colorbar": {
            "outlinewidth": 0,
            "ticks": ""
           }
          },
          "colorscale": {
           "diverging": [
            [
             0,
             "#8e0152"
            ],
            [
             0.1,
             "#c51b7d"
            ],
            [
             0.2,
             "#de77ae"
            ],
            [
             0.3,
             "#f1b6da"
            ],
            [
             0.4,
             "#fde0ef"
            ],
            [
             0.5,
             "#f7f7f7"
            ],
            [
             0.6,
             "#e6f5d0"
            ],
            [
             0.7,
             "#b8e186"
            ],
            [
             0.8,
             "#7fbc41"
            ],
            [
             0.9,
             "#4d9221"
            ],
            [
             1,
             "#276419"
            ]
           ],
           "sequential": [
            [
             0,
             "#0d0887"
            ],
            [
             0.1111111111111111,
             "#46039f"
            ],
            [
             0.2222222222222222,
             "#7201a8"
            ],
            [
             0.3333333333333333,
             "#9c179e"
            ],
            [
             0.4444444444444444,
             "#bd3786"
            ],
            [
             0.5555555555555556,
             "#d8576b"
            ],
            [
             0.6666666666666666,
             "#ed7953"
            ],
            [
             0.7777777777777778,
             "#fb9f3a"
            ],
            [
             0.8888888888888888,
             "#fdca26"
            ],
            [
             1,
             "#f0f921"
            ]
           ],
           "sequentialminus": [
            [
             0,
             "#0d0887"
            ],
            [
             0.1111111111111111,
             "#46039f"
            ],
            [
             0.2222222222222222,
             "#7201a8"
            ],
            [
             0.3333333333333333,
             "#9c179e"
            ],
            [
             0.4444444444444444,
             "#bd3786"
            ],
            [
             0.5555555555555556,
             "#d8576b"
            ],
            [
             0.6666666666666666,
             "#ed7953"
            ],
            [
             0.7777777777777778,
             "#fb9f3a"
            ],
            [
             0.8888888888888888,
             "#fdca26"
            ],
            [
             1,
             "#f0f921"
            ]
           ]
          },
          "colorway": [
           "#636efa",
           "#EF553B",
           "#00cc96",
           "#ab63fa",
           "#FFA15A",
           "#19d3f3",
           "#FF6692",
           "#B6E880",
           "#FF97FF",
           "#FECB52"
          ],
          "font": {
           "color": "#2a3f5f"
          },
          "geo": {
           "bgcolor": "white",
           "lakecolor": "white",
           "landcolor": "white",
           "showlakes": true,
           "showland": true,
           "subunitcolor": "#C8D4E3"
          },
          "hoverlabel": {
           "align": "left"
          },
          "hovermode": "closest",
          "mapbox": {
           "style": "light"
          },
          "paper_bgcolor": "white",
          "plot_bgcolor": "white",
          "polar": {
           "angularaxis": {
            "gridcolor": "#EBF0F8",
            "linecolor": "#EBF0F8",
            "ticks": ""
           },
           "bgcolor": "white",
           "radialaxis": {
            "gridcolor": "#EBF0F8",
            "linecolor": "#EBF0F8",
            "ticks": ""
           }
          },
          "scene": {
           "xaxis": {
            "backgroundcolor": "white",
            "gridcolor": "#DFE8F3",
            "gridwidth": 2,
            "linecolor": "#EBF0F8",
            "showbackground": true,
            "ticks": "",
            "zerolinecolor": "#EBF0F8"
           },
           "yaxis": {
            "backgroundcolor": "white",
            "gridcolor": "#DFE8F3",
            "gridwidth": 2,
            "linecolor": "#EBF0F8",
            "showbackground": true,
            "ticks": "",
            "zerolinecolor": "#EBF0F8"
           },
           "zaxis": {
            "backgroundcolor": "white",
            "gridcolor": "#DFE8F3",
            "gridwidth": 2,
            "linecolor": "#EBF0F8",
            "showbackground": true,
            "ticks": "",
            "zerolinecolor": "#EBF0F8"
           }
          },
          "shapedefaults": {
           "line": {
            "color": "#2a3f5f"
           }
          },
          "ternary": {
           "aaxis": {
            "gridcolor": "#DFE8F3",
            "linecolor": "#A2B1C6",
            "ticks": ""
           },
           "baxis": {
            "gridcolor": "#DFE8F3",
            "linecolor": "#A2B1C6",
            "ticks": ""
           },
           "bgcolor": "white",
           "caxis": {
            "gridcolor": "#DFE8F3",
            "linecolor": "#A2B1C6",
            "ticks": ""
           }
          },
          "title": {
           "x": 0.05
          },
          "xaxis": {
           "automargin": true,
           "gridcolor": "#EBF0F8",
           "linecolor": "#EBF0F8",
           "ticks": "",
           "title": {
            "standoff": 15
           },
           "zerolinecolor": "#EBF0F8",
           "zerolinewidth": 2
          },
          "yaxis": {
           "automargin": true,
           "gridcolor": "#EBF0F8",
           "linecolor": "#EBF0F8",
           "ticks": "",
           "title": {
            "standoff": 15
           },
           "zerolinecolor": "#EBF0F8",
           "zerolinewidth": 2
          }
         }
        },
        "width": 700,
        "xaxis": {
         "range": [
          -1,
          1
         ]
        },
        "yaxis": {
         "range": [
          1,
          -1
         ]
        }
       }
      }
     },
     "metadata": {},
     "output_type": "display_data"
    }
   ],
   "source": [
    "# 2d input\n",
    "aihub_2d = copy.deepcopy(input)\n",
    "# 2d skeleton\n",
    "pos = copy.deepcopy(aihub_2d)\n",
    "points_aihub_2d = {}\n",
    "for i, p in enumerate(pos):\n",
    "    p = np.append(p, 0.0)\n",
    "    #print(i, h36m_keypoints[i], p)\n",
    "    points_aihub_2d[h36m_keypoints[i]] = p\n",
    "pos_vector = pos.reshape(-1) # (51,)\n",
    "total_min, total_max = pos_vector.min(), pos_vector.max()\n",
    "print(\"total min: \", total_min,\n",
    "      \"total max: \", total_max)\n",
    "\n",
    "draw_skeleton_2d(points_aihub_2d, h36m_connections)"
   ]
  },
  {
   "cell_type": "code",
   "execution_count": 47,
   "metadata": {},
   "outputs": [
    {
     "name": "stdout",
     "output_type": "stream",
     "text": [
      "total min:  -0.34199536 total max:  0.24009371\n"
     ]
    },
    {
     "data": {
      "application/vnd.plotly.v1+json": {
       "config": {
        "plotlyServerURL": "https://plot.ly"
       },
       "data": [
        {
         "marker": {
          "color": "red",
          "size": 5
         },
         "mode": "markers",
         "type": "scatter3d",
         "x": [
          0
         ],
         "y": [
          0
         ],
         "z": [
          0
         ]
        },
        {
         "marker": {
          "color": "blue",
          "size": 2
         },
         "mode": "markers",
         "type": "scatter3d",
         "x": [
          0.00018394901417195797
         ],
         "y": [
          0.0003142750356346369
         ],
         "z": [
          -0.000011451891623437405
         ]
        },
        {
         "marker": {
          "color": "blue",
          "size": 2
         },
         "mode": "markers",
         "type": "scatter3d",
         "x": [
          0.0548880435526371
         ],
         "y": [
          0.047405652701854706
         ],
         "z": [
          0.010999871417880058
         ]
        },
        {
         "marker": {
          "color": "blue",
          "size": 2
         },
         "mode": "markers",
         "type": "scatter3d",
         "x": [
          -0.01407002005726099
         ],
         "y": [
          0.24009370803833008
         ],
         "z": [
          -0.01766185835003853
         ]
        },
        {
         "marker": {
          "color": "blue",
          "size": 2
         },
         "mode": "markers",
         "type": "scatter3d",
         "x": [
          0.044125985354185104
         ],
         "y": [
          0.12153612077236176
         ],
         "z": [
          -0.19123123586177826
         ]
        },
        {
         "marker": {
          "color": "blue",
          "size": 2
         },
         "mode": "markers",
         "type": "scatter3d",
         "x": [
          -0.05333784595131874
         ],
         "y": [
          -0.05038289353251457
         ],
         "z": [
          -0.012347628362476826
         ]
        },
        {
         "marker": {
          "color": "blue",
          "size": 2
         },
         "mode": "markers",
         "type": "scatter3d",
         "x": [
          -0.15111044049263
         ],
         "y": [
          0.15300758183002472
         ],
         "z": [
          -0.023720692843198776
         ]
        },
        {
         "marker": {
          "color": "blue",
          "size": 2
         },
         "mode": "markers",
         "type": "scatter3d",
         "x": [
          -0.09444917738437653
         ],
         "y": [
          0.09099650382995605
         ],
         "z": [
          -0.21346504986286163
         ]
        },
        {
         "marker": {
          "color": "blue",
          "size": 2
         },
         "mode": "markers",
         "type": "scatter3d",
         "x": [
          -0.029325269162654877
         ],
         "y": [
          -0.0224476121366024
         ],
         "z": [
          0.1387072056531906
         ]
        },
        {
         "marker": {
          "color": "blue",
          "size": 2
         },
         "mode": "markers",
         "type": "scatter3d",
         "x": [
          -0.05041775479912758
         ],
         "y": [
          -0.014368141070008278
         ],
         "z": [
          0.2637774646282196
         ]
        },
        {
         "marker": {
          "color": "blue",
          "size": 2
         },
         "mode": "markers",
         "type": "scatter3d",
         "x": [
          -0.11597336083650589
         ],
         "y": [
          0.0023572177160531282
         ],
         "z": [
          0.2828899025917053
         ]
        },
        {
         "marker": {
          "color": "blue",
          "size": 2
         },
         "mode": "markers",
         "type": "scatter3d",
         "x": [
          -0.0804700255393982
         ],
         "y": [
          -0.0054189283400774
         ],
         "z": [
          0.34199535846710205
         ]
        },
        {
         "marker": {
          "color": "blue",
          "size": 2
         },
         "mode": "markers",
         "type": "scatter3d",
         "x": [
          -0.11739031225442886
         ],
         "y": [
          -0.06602473556995392
         ],
         "z": [
          0.23202316462993622
         ]
        },
        {
         "marker": {
          "color": "blue",
          "size": 2
         },
         "mode": "markers",
         "type": "scatter3d",
         "x": [
          -0.2284258008003235
         ],
         "y": [
          -0.08441226929426193
         ],
         "z": [
          0.14265424013137817
         ]
        },
        {
         "marker": {
          "color": "blue",
          "size": 2
         },
         "mode": "markers",
         "type": "scatter3d",
         "x": [
          -0.2039692997932434
         ],
         "y": [
          -0.021961059421300888
         ],
         "z": [
          0.259645015001297
         ]
        },
        {
         "marker": {
          "color": "blue",
          "size": 2
         },
         "mode": "markers",
         "type": "scatter3d",
         "x": [
          0.027083301916718483
         ],
         "y": [
          0.02188699133694172
         ],
         "z": [
          0.2379615157842636
         ]
        },
        {
         "marker": {
          "color": "blue",
          "size": 2
         },
         "mode": "markers",
         "type": "scatter3d",
         "x": [
          0.12193434685468674
         ],
         "y": [
          0.10010615736246109
         ],
         "z": [
          0.1580374389886856
         ]
        },
        {
         "marker": {
          "color": "blue",
          "size": 2
         },
         "mode": "markers",
         "type": "scatter3d",
         "x": [
          0.06751439720392227
         ],
         "y": [
          0.10741303861141205
         ],
         "z": [
          0.2491232305765152
         ]
        },
        {
         "line": {
          "color": "black"
         },
         "mode": "lines",
         "type": "scatter3d",
         "x": [
          0.00018394901417195797,
          0.0548880435526371
         ],
         "y": [
          0.0003142750356346369,
          0.047405652701854706
         ],
         "z": [
          -0.000011451891623437405,
          0.010999871417880058
         ]
        },
        {
         "line": {
          "color": "black"
         },
         "mode": "lines",
         "type": "scatter3d",
         "x": [
          0.00018394901417195797,
          -0.05333784595131874
         ],
         "y": [
          0.0003142750356346369,
          -0.05038289353251457
         ],
         "z": [
          -0.000011451891623437405,
          -0.012347628362476826
         ]
        },
        {
         "line": {
          "color": "black"
         },
         "mode": "lines",
         "type": "scatter3d",
         "x": [
          0.00018394901417195797,
          -0.029325269162654877
         ],
         "y": [
          0.0003142750356346369,
          -0.0224476121366024
         ],
         "z": [
          -0.000011451891623437405,
          0.1387072056531906
         ]
        },
        {
         "line": {
          "color": "black"
         },
         "mode": "lines",
         "type": "scatter3d",
         "x": [
          0.0548880435526371,
          -0.01407002005726099
         ],
         "y": [
          0.047405652701854706,
          0.24009370803833008
         ],
         "z": [
          0.010999871417880058,
          -0.01766185835003853
         ]
        },
        {
         "line": {
          "color": "black"
         },
         "mode": "lines",
         "type": "scatter3d",
         "x": [
          -0.01407002005726099,
          0.044125985354185104
         ],
         "y": [
          0.24009370803833008,
          0.12153612077236176
         ],
         "z": [
          -0.01766185835003853,
          -0.19123123586177826
         ]
        },
        {
         "line": {
          "color": "black"
         },
         "mode": "lines",
         "type": "scatter3d",
         "x": [
          -0.05333784595131874,
          -0.15111044049263
         ],
         "y": [
          -0.05038289353251457,
          0.15300758183002472
         ],
         "z": [
          -0.012347628362476826,
          -0.023720692843198776
         ]
        },
        {
         "line": {
          "color": "black"
         },
         "mode": "lines",
         "type": "scatter3d",
         "x": [
          -0.15111044049263,
          -0.09444917738437653
         ],
         "y": [
          0.15300758183002472,
          0.09099650382995605
         ],
         "z": [
          -0.023720692843198776,
          -0.21346504986286163
         ]
        },
        {
         "line": {
          "color": "black"
         },
         "mode": "lines",
         "type": "scatter3d",
         "x": [
          -0.029325269162654877,
          -0.05041775479912758
         ],
         "y": [
          -0.0224476121366024,
          -0.014368141070008278
         ],
         "z": [
          0.1387072056531906,
          0.2637774646282196
         ]
        },
        {
         "line": {
          "color": "black"
         },
         "mode": "lines",
         "type": "scatter3d",
         "x": [
          -0.05041775479912758,
          -0.11597336083650589
         ],
         "y": [
          -0.014368141070008278,
          0.0023572177160531282
         ],
         "z": [
          0.2637774646282196,
          0.2828899025917053
         ]
        },
        {
         "line": {
          "color": "black"
         },
         "mode": "lines",
         "type": "scatter3d",
         "x": [
          -0.11597336083650589,
          -0.0804700255393982
         ],
         "y": [
          0.0023572177160531282,
          -0.0054189283400774
         ],
         "z": [
          0.2828899025917053,
          0.34199535846710205
         ]
        },
        {
         "line": {
          "color": "black"
         },
         "mode": "lines",
         "type": "scatter3d",
         "x": [
          -0.05041775479912758,
          0.027083301916718483
         ],
         "y": [
          -0.014368141070008278,
          0.02188699133694172
         ],
         "z": [
          0.2637774646282196,
          0.2379615157842636
         ]
        },
        {
         "line": {
          "color": "black"
         },
         "mode": "lines",
         "type": "scatter3d",
         "x": [
          0.027083301916718483,
          0.12193434685468674
         ],
         "y": [
          0.02188699133694172,
          0.10010615736246109
         ],
         "z": [
          0.2379615157842636,
          0.1580374389886856
         ]
        },
        {
         "line": {
          "color": "black"
         },
         "mode": "lines",
         "type": "scatter3d",
         "x": [
          0.12193434685468674,
          0.06751439720392227
         ],
         "y": [
          0.10010615736246109,
          0.10741303861141205
         ],
         "z": [
          0.1580374389886856,
          0.2491232305765152
         ]
        },
        {
         "line": {
          "color": "black"
         },
         "mode": "lines",
         "type": "scatter3d",
         "x": [
          -0.05041775479912758,
          -0.11739031225442886
         ],
         "y": [
          -0.014368141070008278,
          -0.06602473556995392
         ],
         "z": [
          0.2637774646282196,
          0.23202316462993622
         ]
        },
        {
         "line": {
          "color": "black"
         },
         "mode": "lines",
         "type": "scatter3d",
         "x": [
          -0.11739031225442886,
          -0.2284258008003235
         ],
         "y": [
          -0.06602473556995392,
          -0.08441226929426193
         ],
         "z": [
          0.23202316462993622,
          0.14265424013137817
         ]
        },
        {
         "line": {
          "color": "black"
         },
         "mode": "lines",
         "type": "scatter3d",
         "x": [
          -0.2284258008003235,
          -0.2039692997932434
         ],
         "y": [
          -0.08441226929426193,
          -0.021961059421300888
         ],
         "z": [
          0.14265424013137817,
          0.259645015001297
         ]
        }
       ],
       "layout": {
        "autosize": false,
        "height": 700,
        "scene": {
         "aspectratio": {
          "x": 1,
          "y": 1,
          "z": 1
         },
         "camera": {
          "eye": {
           "x": 1,
           "y": 1,
           "z": 1
          }
         },
         "xaxis": {
          "range": [
           -1,
           1
          ]
         },
         "yaxis": {
          "range": [
           -1,
           1
          ]
         },
         "zaxis": {
          "range": [
           -1,
           1
          ]
         }
        },
        "template": {
         "data": {
          "bar": [
           {
            "error_x": {
             "color": "#2a3f5f"
            },
            "error_y": {
             "color": "#2a3f5f"
            },
            "marker": {
             "line": {
              "color": "#E5ECF6",
              "width": 0.5
             },
             "pattern": {
              "fillmode": "overlay",
              "size": 10,
              "solidity": 0.2
             }
            },
            "type": "bar"
           }
          ],
          "barpolar": [
           {
            "marker": {
             "line": {
              "color": "#E5ECF6",
              "width": 0.5
             },
             "pattern": {
              "fillmode": "overlay",
              "size": 10,
              "solidity": 0.2
             }
            },
            "type": "barpolar"
           }
          ],
          "carpet": [
           {
            "aaxis": {
             "endlinecolor": "#2a3f5f",
             "gridcolor": "white",
             "linecolor": "white",
             "minorgridcolor": "white",
             "startlinecolor": "#2a3f5f"
            },
            "baxis": {
             "endlinecolor": "#2a3f5f",
             "gridcolor": "white",
             "linecolor": "white",
             "minorgridcolor": "white",
             "startlinecolor": "#2a3f5f"
            },
            "type": "carpet"
           }
          ],
          "choropleth": [
           {
            "colorbar": {
             "outlinewidth": 0,
             "ticks": ""
            },
            "type": "choropleth"
           }
          ],
          "contour": [
           {
            "colorbar": {
             "outlinewidth": 0,
             "ticks": ""
            },
            "colorscale": [
             [
              0,
              "#0d0887"
             ],
             [
              0.1111111111111111,
              "#46039f"
             ],
             [
              0.2222222222222222,
              "#7201a8"
             ],
             [
              0.3333333333333333,
              "#9c179e"
             ],
             [
              0.4444444444444444,
              "#bd3786"
             ],
             [
              0.5555555555555556,
              "#d8576b"
             ],
             [
              0.6666666666666666,
              "#ed7953"
             ],
             [
              0.7777777777777778,
              "#fb9f3a"
             ],
             [
              0.8888888888888888,
              "#fdca26"
             ],
             [
              1,
              "#f0f921"
             ]
            ],
            "type": "contour"
           }
          ],
          "contourcarpet": [
           {
            "colorbar": {
             "outlinewidth": 0,
             "ticks": ""
            },
            "type": "contourcarpet"
           }
          ],
          "heatmap": [
           {
            "colorbar": {
             "outlinewidth": 0,
             "ticks": ""
            },
            "colorscale": [
             [
              0,
              "#0d0887"
             ],
             [
              0.1111111111111111,
              "#46039f"
             ],
             [
              0.2222222222222222,
              "#7201a8"
             ],
             [
              0.3333333333333333,
              "#9c179e"
             ],
             [
              0.4444444444444444,
              "#bd3786"
             ],
             [
              0.5555555555555556,
              "#d8576b"
             ],
             [
              0.6666666666666666,
              "#ed7953"
             ],
             [
              0.7777777777777778,
              "#fb9f3a"
             ],
             [
              0.8888888888888888,
              "#fdca26"
             ],
             [
              1,
              "#f0f921"
             ]
            ],
            "type": "heatmap"
           }
          ],
          "heatmapgl": [
           {
            "colorbar": {
             "outlinewidth": 0,
             "ticks": ""
            },
            "colorscale": [
             [
              0,
              "#0d0887"
             ],
             [
              0.1111111111111111,
              "#46039f"
             ],
             [
              0.2222222222222222,
              "#7201a8"
             ],
             [
              0.3333333333333333,
              "#9c179e"
             ],
             [
              0.4444444444444444,
              "#bd3786"
             ],
             [
              0.5555555555555556,
              "#d8576b"
             ],
             [
              0.6666666666666666,
              "#ed7953"
             ],
             [
              0.7777777777777778,
              "#fb9f3a"
             ],
             [
              0.8888888888888888,
              "#fdca26"
             ],
             [
              1,
              "#f0f921"
             ]
            ],
            "type": "heatmapgl"
           }
          ],
          "histogram": [
           {
            "marker": {
             "pattern": {
              "fillmode": "overlay",
              "size": 10,
              "solidity": 0.2
             }
            },
            "type": "histogram"
           }
          ],
          "histogram2d": [
           {
            "colorbar": {
             "outlinewidth": 0,
             "ticks": ""
            },
            "colorscale": [
             [
              0,
              "#0d0887"
             ],
             [
              0.1111111111111111,
              "#46039f"
             ],
             [
              0.2222222222222222,
              "#7201a8"
             ],
             [
              0.3333333333333333,
              "#9c179e"
             ],
             [
              0.4444444444444444,
              "#bd3786"
             ],
             [
              0.5555555555555556,
              "#d8576b"
             ],
             [
              0.6666666666666666,
              "#ed7953"
             ],
             [
              0.7777777777777778,
              "#fb9f3a"
             ],
             [
              0.8888888888888888,
              "#fdca26"
             ],
             [
              1,
              "#f0f921"
             ]
            ],
            "type": "histogram2d"
           }
          ],
          "histogram2dcontour": [
           {
            "colorbar": {
             "outlinewidth": 0,
             "ticks": ""
            },
            "colorscale": [
             [
              0,
              "#0d0887"
             ],
             [
              0.1111111111111111,
              "#46039f"
             ],
             [
              0.2222222222222222,
              "#7201a8"
             ],
             [
              0.3333333333333333,
              "#9c179e"
             ],
             [
              0.4444444444444444,
              "#bd3786"
             ],
             [
              0.5555555555555556,
              "#d8576b"
             ],
             [
              0.6666666666666666,
              "#ed7953"
             ],
             [
              0.7777777777777778,
              "#fb9f3a"
             ],
             [
              0.8888888888888888,
              "#fdca26"
             ],
             [
              1,
              "#f0f921"
             ]
            ],
            "type": "histogram2dcontour"
           }
          ],
          "mesh3d": [
           {
            "colorbar": {
             "outlinewidth": 0,
             "ticks": ""
            },
            "type": "mesh3d"
           }
          ],
          "parcoords": [
           {
            "line": {
             "colorbar": {
              "outlinewidth": 0,
              "ticks": ""
             }
            },
            "type": "parcoords"
           }
          ],
          "pie": [
           {
            "automargin": true,
            "type": "pie"
           }
          ],
          "scatter": [
           {
            "fillpattern": {
             "fillmode": "overlay",
             "size": 10,
             "solidity": 0.2
            },
            "type": "scatter"
           }
          ],
          "scatter3d": [
           {
            "line": {
             "colorbar": {
              "outlinewidth": 0,
              "ticks": ""
             }
            },
            "marker": {
             "colorbar": {
              "outlinewidth": 0,
              "ticks": ""
             }
            },
            "type": "scatter3d"
           }
          ],
          "scattercarpet": [
           {
            "marker": {
             "colorbar": {
              "outlinewidth": 0,
              "ticks": ""
             }
            },
            "type": "scattercarpet"
           }
          ],
          "scattergeo": [
           {
            "marker": {
             "colorbar": {
              "outlinewidth": 0,
              "ticks": ""
             }
            },
            "type": "scattergeo"
           }
          ],
          "scattergl": [
           {
            "marker": {
             "colorbar": {
              "outlinewidth": 0,
              "ticks": ""
             }
            },
            "type": "scattergl"
           }
          ],
          "scattermapbox": [
           {
            "marker": {
             "colorbar": {
              "outlinewidth": 0,
              "ticks": ""
             }
            },
            "type": "scattermapbox"
           }
          ],
          "scatterpolar": [
           {
            "marker": {
             "colorbar": {
              "outlinewidth": 0,
              "ticks": ""
             }
            },
            "type": "scatterpolar"
           }
          ],
          "scatterpolargl": [
           {
            "marker": {
             "colorbar": {
              "outlinewidth": 0,
              "ticks": ""
             }
            },
            "type": "scatterpolargl"
           }
          ],
          "scatterternary": [
           {
            "marker": {
             "colorbar": {
              "outlinewidth": 0,
              "ticks": ""
             }
            },
            "type": "scatterternary"
           }
          ],
          "surface": [
           {
            "colorbar": {
             "outlinewidth": 0,
             "ticks": ""
            },
            "colorscale": [
             [
              0,
              "#0d0887"
             ],
             [
              0.1111111111111111,
              "#46039f"
             ],
             [
              0.2222222222222222,
              "#7201a8"
             ],
             [
              0.3333333333333333,
              "#9c179e"
             ],
             [
              0.4444444444444444,
              "#bd3786"
             ],
             [
              0.5555555555555556,
              "#d8576b"
             ],
             [
              0.6666666666666666,
              "#ed7953"
             ],
             [
              0.7777777777777778,
              "#fb9f3a"
             ],
             [
              0.8888888888888888,
              "#fdca26"
             ],
             [
              1,
              "#f0f921"
             ]
            ],
            "type": "surface"
           }
          ],
          "table": [
           {
            "cells": {
             "fill": {
              "color": "#EBF0F8"
             },
             "line": {
              "color": "white"
             }
            },
            "header": {
             "fill": {
              "color": "#C8D4E3"
             },
             "line": {
              "color": "white"
             }
            },
            "type": "table"
           }
          ]
         },
         "layout": {
          "annotationdefaults": {
           "arrowcolor": "#2a3f5f",
           "arrowhead": 0,
           "arrowwidth": 1
          },
          "autotypenumbers": "strict",
          "coloraxis": {
           "colorbar": {
            "outlinewidth": 0,
            "ticks": ""
           }
          },
          "colorscale": {
           "diverging": [
            [
             0,
             "#8e0152"
            ],
            [
             0.1,
             "#c51b7d"
            ],
            [
             0.2,
             "#de77ae"
            ],
            [
             0.3,
             "#f1b6da"
            ],
            [
             0.4,
             "#fde0ef"
            ],
            [
             0.5,
             "#f7f7f7"
            ],
            [
             0.6,
             "#e6f5d0"
            ],
            [
             0.7,
             "#b8e186"
            ],
            [
             0.8,
             "#7fbc41"
            ],
            [
             0.9,
             "#4d9221"
            ],
            [
             1,
             "#276419"
            ]
           ],
           "sequential": [
            [
             0,
             "#0d0887"
            ],
            [
             0.1111111111111111,
             "#46039f"
            ],
            [
             0.2222222222222222,
             "#7201a8"
            ],
            [
             0.3333333333333333,
             "#9c179e"
            ],
            [
             0.4444444444444444,
             "#bd3786"
            ],
            [
             0.5555555555555556,
             "#d8576b"
            ],
            [
             0.6666666666666666,
             "#ed7953"
            ],
            [
             0.7777777777777778,
             "#fb9f3a"
            ],
            [
             0.8888888888888888,
             "#fdca26"
            ],
            [
             1,
             "#f0f921"
            ]
           ],
           "sequentialminus": [
            [
             0,
             "#0d0887"
            ],
            [
             0.1111111111111111,
             "#46039f"
            ],
            [
             0.2222222222222222,
             "#7201a8"
            ],
            [
             0.3333333333333333,
             "#9c179e"
            ],
            [
             0.4444444444444444,
             "#bd3786"
            ],
            [
             0.5555555555555556,
             "#d8576b"
            ],
            [
             0.6666666666666666,
             "#ed7953"
            ],
            [
             0.7777777777777778,
             "#fb9f3a"
            ],
            [
             0.8888888888888888,
             "#fdca26"
            ],
            [
             1,
             "#f0f921"
            ]
           ]
          },
          "colorway": [
           "#636efa",
           "#EF553B",
           "#00cc96",
           "#ab63fa",
           "#FFA15A",
           "#19d3f3",
           "#FF6692",
           "#B6E880",
           "#FF97FF",
           "#FECB52"
          ],
          "font": {
           "color": "#2a3f5f"
          },
          "geo": {
           "bgcolor": "white",
           "lakecolor": "white",
           "landcolor": "#E5ECF6",
           "showlakes": true,
           "showland": true,
           "subunitcolor": "white"
          },
          "hoverlabel": {
           "align": "left"
          },
          "hovermode": "closest",
          "mapbox": {
           "style": "light"
          },
          "paper_bgcolor": "white",
          "plot_bgcolor": "#E5ECF6",
          "polar": {
           "angularaxis": {
            "gridcolor": "white",
            "linecolor": "white",
            "ticks": ""
           },
           "bgcolor": "#E5ECF6",
           "radialaxis": {
            "gridcolor": "white",
            "linecolor": "white",
            "ticks": ""
           }
          },
          "scene": {
           "xaxis": {
            "backgroundcolor": "#E5ECF6",
            "gridcolor": "white",
            "gridwidth": 2,
            "linecolor": "white",
            "showbackground": true,
            "ticks": "",
            "zerolinecolor": "white"
           },
           "yaxis": {
            "backgroundcolor": "#E5ECF6",
            "gridcolor": "white",
            "gridwidth": 2,
            "linecolor": "white",
            "showbackground": true,
            "ticks": "",
            "zerolinecolor": "white"
           },
           "zaxis": {
            "backgroundcolor": "#E5ECF6",
            "gridcolor": "white",
            "gridwidth": 2,
            "linecolor": "white",
            "showbackground": true,
            "ticks": "",
            "zerolinecolor": "white"
           }
          },
          "shapedefaults": {
           "line": {
            "color": "#2a3f5f"
           }
          },
          "ternary": {
           "aaxis": {
            "gridcolor": "white",
            "linecolor": "white",
            "ticks": ""
           },
           "baxis": {
            "gridcolor": "white",
            "linecolor": "white",
            "ticks": ""
           },
           "bgcolor": "#E5ECF6",
           "caxis": {
            "gridcolor": "white",
            "linecolor": "white",
            "ticks": ""
           }
          },
          "title": {
           "x": 0.05
          },
          "xaxis": {
           "automargin": true,
           "gridcolor": "white",
           "linecolor": "white",
           "ticks": "",
           "title": {
            "standoff": 15
           },
           "zerolinecolor": "white",
           "zerolinewidth": 2
          },
          "yaxis": {
           "automargin": true,
           "gridcolor": "white",
           "linecolor": "white",
           "ticks": "",
           "title": {
            "standoff": 15
           },
           "zerolinecolor": "white",
           "zerolinewidth": 2
          }
         }
        },
        "width": 700
       }
      }
     },
     "metadata": {},
     "output_type": "display_data"
    }
   ],
   "source": [
    "# result\n",
    "aihub_3d = copy.deepcopy(output)\n",
    "pos = copy.deepcopy(aihub_3d)\n",
    "points_aihub_3d = {}\n",
    "for i, p in enumerate(pos):\n",
    "    #print(i, h36m_keypoints[i], p)\n",
    "    points_aihub_3d[h36m_keypoints[i]] = np.array([p[0], p[2], -p[1]]) #np.array([p[0], p[1], p[2]])  #np.array([p[0], -p[2], p[1]])\n",
    "pos_vector = pos.reshape(-1) # (51,)\n",
    "total_min, total_max = pos_vector.min(), pos_vector.max()\n",
    "print(\"total min: \", total_min,\n",
    "      \"total max: \", total_max)\n",
    "\n",
    "fig = draw_skeleton(points_aihub_3d, h36m_connections)\n",
    "fig.show()"
   ]
  },
  {
   "cell_type": "markdown",
   "metadata": {},
   "source": [
    "### s03_58860488_squat"
   ]
  },
  {
   "cell_type": "code",
   "execution_count": 48,
   "metadata": {},
   "outputs": [],
   "source": [
    "input = fit3d_result['s03_58860488_squat']['input'][frame_num]\n",
    "output = fit3d_result['s03_58860488_squat']['output'][frame_num]"
   ]
  },
  {
   "cell_type": "code",
   "execution_count": 49,
   "metadata": {},
   "outputs": [
    {
     "name": "stdout",
     "output_type": "stream",
     "text": [
      "total min:  -0.26709338378906256 total max:  0.24742907714843754\n"
     ]
    },
    {
     "data": {
      "application/vnd.plotly.v1+json": {
       "config": {
        "plotlyServerURL": "https://plot.ly"
       },
       "data": [
        {
         "marker": {
          "color": "blue",
          "size": 2
         },
         "mode": "markers",
         "type": "scatter",
         "x": [
          -0.010534301757812448
         ],
         "y": [
          0.05037792968749999
         ]
        },
        {
         "marker": {
          "color": "blue",
          "size": 2
         },
         "mode": "markers",
         "type": "scatter",
         "x": [
          0.04967578124999994
         ],
         "y": [
          0.06679882812500004
         ]
        },
        {
         "marker": {
          "color": "blue",
          "size": 2
         },
         "mode": "markers",
         "type": "scatter",
         "x": [
          0.13725402832031253
         ],
         "y": [
          0.0832197265625001
         ]
        },
        {
         "marker": {
          "color": "blue",
          "size": 2
         },
         "mode": "markers",
         "type": "scatter",
         "x": [
          0.08799121093750006
         ],
         "y": [
          0.24742907714843754
         ]
        },
        {
         "marker": {
          "color": "blue",
          "size": 2
         },
         "mode": "markers",
         "type": "scatter",
         "x": [
          -0.04884979248046872
         ],
         "y": [
          0.05585156250000001
         ]
        },
        {
         "marker": {
          "color": "blue",
          "size": 2
         },
         "mode": "markers",
         "type": "scatter",
         "x": [
          -0.005060668945312541
         ],
         "y": [
          0.0832197265625001
         ]
        },
        {
         "marker": {
          "color": "blue",
          "size": 2
         },
         "mode": "markers",
         "type": "scatter",
         "x": [
          -0.04884979248046872
         ],
         "y": [
          0.22553454589843747
         ]
        },
        {
         "marker": {
          "color": "blue",
          "size": 2
         },
         "mode": "markers",
         "type": "scatter",
         "x": [
          0.030518005371093837
         ],
         "y": [
          -0.07551586914062502
         ]
        },
        {
         "marker": {
          "color": "blue",
          "size": 2
         },
         "mode": "markers",
         "type": "scatter",
         "x": [
          0.07157031250000001
         ],
         "y": [
          -0.20140966796875004
         ]
        },
        {
         "marker": {
          "color": "blue",
          "size": 2
         },
         "mode": "markers",
         "type": "scatter",
         "x": [
          0.1263067626953125
         ],
         "y": [
          -0.20688330078124995
         ]
        },
        {
         "marker": {
          "color": "blue",
          "size": 2
         },
         "mode": "markers",
         "type": "scatter",
         "x": [
          0.0934649658203126
         ],
         "y": [
          -0.26709338378906256
         ]
        },
        {
         "marker": {
          "color": "blue",
          "size": 2
         },
         "mode": "markers",
         "type": "scatter",
         "x": [
          -0.010534301757812448
         ],
         "y": [
          -0.1740414428710938
         ]
        },
        {
         "marker": {
          "color": "blue",
          "size": 2
         },
         "mode": "markers",
         "type": "scatter",
         "x": [
          -0.11453350830078124
         ],
         "y": [
          -0.10835772705078128
         ]
        },
        {
         "marker": {
          "color": "blue",
          "size": 2
         },
         "mode": "markers",
         "type": "scatter",
         "x": [
          -0.04884979248046872
         ],
         "y": [
          -0.19593603515625002
         ]
        },
        {
         "marker": {
          "color": "blue",
          "size": 2
         },
         "mode": "markers",
         "type": "scatter",
         "x": [
          0.12083312988281247
         ],
         "y": [
          -0.15762048339843748
         ]
        },
        {
         "marker": {
          "color": "blue",
          "size": 2
         },
         "mode": "markers",
         "type": "scatter",
         "x": [
          0.20841137695312506
         ],
         "y": [
          -0.06456860351562499
         ]
        },
        {
         "marker": {
          "color": "blue",
          "size": 2
         },
         "mode": "markers",
         "type": "scatter",
         "x": [
          0.20293774414062504
         ],
         "y": [
          -0.16856781005859378
         ]
        },
        {
         "line": {
          "color": "black"
         },
         "mode": "lines",
         "type": "scatter",
         "x": [
          -0.010534301757812448,
          0.04967578124999994
         ],
         "y": [
          0.05037792968749999,
          0.06679882812500004
         ]
        },
        {
         "line": {
          "color": "black"
         },
         "mode": "lines",
         "type": "scatter",
         "x": [
          -0.010534301757812448,
          -0.04884979248046872
         ],
         "y": [
          0.05037792968749999,
          0.05585156250000001
         ]
        },
        {
         "line": {
          "color": "black"
         },
         "mode": "lines",
         "type": "scatter",
         "x": [
          -0.010534301757812448,
          0.030518005371093837
         ],
         "y": [
          0.05037792968749999,
          -0.07551586914062502
         ]
        },
        {
         "line": {
          "color": "black"
         },
         "mode": "lines",
         "type": "scatter",
         "x": [
          0.04967578124999994,
          0.13725402832031253
         ],
         "y": [
          0.06679882812500004,
          0.0832197265625001
         ]
        },
        {
         "line": {
          "color": "black"
         },
         "mode": "lines",
         "type": "scatter",
         "x": [
          0.13725402832031253,
          0.08799121093750006
         ],
         "y": [
          0.0832197265625001,
          0.24742907714843754
         ]
        },
        {
         "line": {
          "color": "black"
         },
         "mode": "lines",
         "type": "scatter",
         "x": [
          -0.04884979248046872,
          -0.005060668945312541
         ],
         "y": [
          0.05585156250000001,
          0.0832197265625001
         ]
        },
        {
         "line": {
          "color": "black"
         },
         "mode": "lines",
         "type": "scatter",
         "x": [
          -0.005060668945312541,
          -0.04884979248046872
         ],
         "y": [
          0.0832197265625001,
          0.22553454589843747
         ]
        },
        {
         "line": {
          "color": "black"
         },
         "mode": "lines",
         "type": "scatter",
         "x": [
          0.030518005371093837,
          0.07157031250000001
         ],
         "y": [
          -0.07551586914062502,
          -0.20140966796875004
         ]
        },
        {
         "line": {
          "color": "black"
         },
         "mode": "lines",
         "type": "scatter",
         "x": [
          0.07157031250000001,
          0.1263067626953125
         ],
         "y": [
          -0.20140966796875004,
          -0.20688330078124995
         ]
        },
        {
         "line": {
          "color": "black"
         },
         "mode": "lines",
         "type": "scatter",
         "x": [
          0.1263067626953125,
          0.0934649658203126
         ],
         "y": [
          -0.20688330078124995,
          -0.26709338378906256
         ]
        },
        {
         "line": {
          "color": "black"
         },
         "mode": "lines",
         "type": "scatter",
         "x": [
          0.07157031250000001,
          0.12083312988281247
         ],
         "y": [
          -0.20140966796875004,
          -0.15762048339843748
         ]
        },
        {
         "line": {
          "color": "black"
         },
         "mode": "lines",
         "type": "scatter",
         "x": [
          0.12083312988281247,
          0.20841137695312506
         ],
         "y": [
          -0.15762048339843748,
          -0.06456860351562499
         ]
        },
        {
         "line": {
          "color": "black"
         },
         "mode": "lines",
         "type": "scatter",
         "x": [
          0.20841137695312506,
          0.20293774414062504
         ],
         "y": [
          -0.06456860351562499,
          -0.16856781005859378
         ]
        },
        {
         "line": {
          "color": "black"
         },
         "mode": "lines",
         "type": "scatter",
         "x": [
          0.07157031250000001,
          -0.010534301757812448
         ],
         "y": [
          -0.20140966796875004,
          -0.1740414428710938
         ]
        },
        {
         "line": {
          "color": "black"
         },
         "mode": "lines",
         "type": "scatter",
         "x": [
          -0.010534301757812448,
          -0.11453350830078124
         ],
         "y": [
          -0.1740414428710938,
          -0.10835772705078128
         ]
        },
        {
         "line": {
          "color": "black"
         },
         "mode": "lines",
         "type": "scatter",
         "x": [
          -0.11453350830078124,
          -0.04884979248046872
         ],
         "y": [
          -0.10835772705078128,
          -0.19593603515625002
         ]
        }
       ],
       "layout": {
        "height": 700,
        "template": {
         "data": {
          "bar": [
           {
            "error_x": {
             "color": "#2a3f5f"
            },
            "error_y": {
             "color": "#2a3f5f"
            },
            "marker": {
             "line": {
              "color": "white",
              "width": 0.5
             },
             "pattern": {
              "fillmode": "overlay",
              "size": 10,
              "solidity": 0.2
             }
            },
            "type": "bar"
           }
          ],
          "barpolar": [
           {
            "marker": {
             "line": {
              "color": "white",
              "width": 0.5
             },
             "pattern": {
              "fillmode": "overlay",
              "size": 10,
              "solidity": 0.2
             }
            },
            "type": "barpolar"
           }
          ],
          "carpet": [
           {
            "aaxis": {
             "endlinecolor": "#2a3f5f",
             "gridcolor": "#C8D4E3",
             "linecolor": "#C8D4E3",
             "minorgridcolor": "#C8D4E3",
             "startlinecolor": "#2a3f5f"
            },
            "baxis": {
             "endlinecolor": "#2a3f5f",
             "gridcolor": "#C8D4E3",
             "linecolor": "#C8D4E3",
             "minorgridcolor": "#C8D4E3",
             "startlinecolor": "#2a3f5f"
            },
            "type": "carpet"
           }
          ],
          "choropleth": [
           {
            "colorbar": {
             "outlinewidth": 0,
             "ticks": ""
            },
            "type": "choropleth"
           }
          ],
          "contour": [
           {
            "colorbar": {
             "outlinewidth": 0,
             "ticks": ""
            },
            "colorscale": [
             [
              0,
              "#0d0887"
             ],
             [
              0.1111111111111111,
              "#46039f"
             ],
             [
              0.2222222222222222,
              "#7201a8"
             ],
             [
              0.3333333333333333,
              "#9c179e"
             ],
             [
              0.4444444444444444,
              "#bd3786"
             ],
             [
              0.5555555555555556,
              "#d8576b"
             ],
             [
              0.6666666666666666,
              "#ed7953"
             ],
             [
              0.7777777777777778,
              "#fb9f3a"
             ],
             [
              0.8888888888888888,
              "#fdca26"
             ],
             [
              1,
              "#f0f921"
             ]
            ],
            "type": "contour"
           }
          ],
          "contourcarpet": [
           {
            "colorbar": {
             "outlinewidth": 0,
             "ticks": ""
            },
            "type": "contourcarpet"
           }
          ],
          "heatmap": [
           {
            "colorbar": {
             "outlinewidth": 0,
             "ticks": ""
            },
            "colorscale": [
             [
              0,
              "#0d0887"
             ],
             [
              0.1111111111111111,
              "#46039f"
             ],
             [
              0.2222222222222222,
              "#7201a8"
             ],
             [
              0.3333333333333333,
              "#9c179e"
             ],
             [
              0.4444444444444444,
              "#bd3786"
             ],
             [
              0.5555555555555556,
              "#d8576b"
             ],
             [
              0.6666666666666666,
              "#ed7953"
             ],
             [
              0.7777777777777778,
              "#fb9f3a"
             ],
             [
              0.8888888888888888,
              "#fdca26"
             ],
             [
              1,
              "#f0f921"
             ]
            ],
            "type": "heatmap"
           }
          ],
          "heatmapgl": [
           {
            "colorbar": {
             "outlinewidth": 0,
             "ticks": ""
            },
            "colorscale": [
             [
              0,
              "#0d0887"
             ],
             [
              0.1111111111111111,
              "#46039f"
             ],
             [
              0.2222222222222222,
              "#7201a8"
             ],
             [
              0.3333333333333333,
              "#9c179e"
             ],
             [
              0.4444444444444444,
              "#bd3786"
             ],
             [
              0.5555555555555556,
              "#d8576b"
             ],
             [
              0.6666666666666666,
              "#ed7953"
             ],
             [
              0.7777777777777778,
              "#fb9f3a"
             ],
             [
              0.8888888888888888,
              "#fdca26"
             ],
             [
              1,
              "#f0f921"
             ]
            ],
            "type": "heatmapgl"
           }
          ],
          "histogram": [
           {
            "marker": {
             "pattern": {
              "fillmode": "overlay",
              "size": 10,
              "solidity": 0.2
             }
            },
            "type": "histogram"
           }
          ],
          "histogram2d": [
           {
            "colorbar": {
             "outlinewidth": 0,
             "ticks": ""
            },
            "colorscale": [
             [
              0,
              "#0d0887"
             ],
             [
              0.1111111111111111,
              "#46039f"
             ],
             [
              0.2222222222222222,
              "#7201a8"
             ],
             [
              0.3333333333333333,
              "#9c179e"
             ],
             [
              0.4444444444444444,
              "#bd3786"
             ],
             [
              0.5555555555555556,
              "#d8576b"
             ],
             [
              0.6666666666666666,
              "#ed7953"
             ],
             [
              0.7777777777777778,
              "#fb9f3a"
             ],
             [
              0.8888888888888888,
              "#fdca26"
             ],
             [
              1,
              "#f0f921"
             ]
            ],
            "type": "histogram2d"
           }
          ],
          "histogram2dcontour": [
           {
            "colorbar": {
             "outlinewidth": 0,
             "ticks": ""
            },
            "colorscale": [
             [
              0,
              "#0d0887"
             ],
             [
              0.1111111111111111,
              "#46039f"
             ],
             [
              0.2222222222222222,
              "#7201a8"
             ],
             [
              0.3333333333333333,
              "#9c179e"
             ],
             [
              0.4444444444444444,
              "#bd3786"
             ],
             [
              0.5555555555555556,
              "#d8576b"
             ],
             [
              0.6666666666666666,
              "#ed7953"
             ],
             [
              0.7777777777777778,
              "#fb9f3a"
             ],
             [
              0.8888888888888888,
              "#fdca26"
             ],
             [
              1,
              "#f0f921"
             ]
            ],
            "type": "histogram2dcontour"
           }
          ],
          "mesh3d": [
           {
            "colorbar": {
             "outlinewidth": 0,
             "ticks": ""
            },
            "type": "mesh3d"
           }
          ],
          "parcoords": [
           {
            "line": {
             "colorbar": {
              "outlinewidth": 0,
              "ticks": ""
             }
            },
            "type": "parcoords"
           }
          ],
          "pie": [
           {
            "automargin": true,
            "type": "pie"
           }
          ],
          "scatter": [
           {
            "fillpattern": {
             "fillmode": "overlay",
             "size": 10,
             "solidity": 0.2
            },
            "type": "scatter"
           }
          ],
          "scatter3d": [
           {
            "line": {
             "colorbar": {
              "outlinewidth": 0,
              "ticks": ""
             }
            },
            "marker": {
             "colorbar": {
              "outlinewidth": 0,
              "ticks": ""
             }
            },
            "type": "scatter3d"
           }
          ],
          "scattercarpet": [
           {
            "marker": {
             "colorbar": {
              "outlinewidth": 0,
              "ticks": ""
             }
            },
            "type": "scattercarpet"
           }
          ],
          "scattergeo": [
           {
            "marker": {
             "colorbar": {
              "outlinewidth": 0,
              "ticks": ""
             }
            },
            "type": "scattergeo"
           }
          ],
          "scattergl": [
           {
            "marker": {
             "colorbar": {
              "outlinewidth": 0,
              "ticks": ""
             }
            },
            "type": "scattergl"
           }
          ],
          "scattermapbox": [
           {
            "marker": {
             "colorbar": {
              "outlinewidth": 0,
              "ticks": ""
             }
            },
            "type": "scattermapbox"
           }
          ],
          "scatterpolar": [
           {
            "marker": {
             "colorbar": {
              "outlinewidth": 0,
              "ticks": ""
             }
            },
            "type": "scatterpolar"
           }
          ],
          "scatterpolargl": [
           {
            "marker": {
             "colorbar": {
              "outlinewidth": 0,
              "ticks": ""
             }
            },
            "type": "scatterpolargl"
           }
          ],
          "scatterternary": [
           {
            "marker": {
             "colorbar": {
              "outlinewidth": 0,
              "ticks": ""
             }
            },
            "type": "scatterternary"
           }
          ],
          "surface": [
           {
            "colorbar": {
             "outlinewidth": 0,
             "ticks": ""
            },
            "colorscale": [
             [
              0,
              "#0d0887"
             ],
             [
              0.1111111111111111,
              "#46039f"
             ],
             [
              0.2222222222222222,
              "#7201a8"
             ],
             [
              0.3333333333333333,
              "#9c179e"
             ],
             [
              0.4444444444444444,
              "#bd3786"
             ],
             [
              0.5555555555555556,
              "#d8576b"
             ],
             [
              0.6666666666666666,
              "#ed7953"
             ],
             [
              0.7777777777777778,
              "#fb9f3a"
             ],
             [
              0.8888888888888888,
              "#fdca26"
             ],
             [
              1,
              "#f0f921"
             ]
            ],
            "type": "surface"
           }
          ],
          "table": [
           {
            "cells": {
             "fill": {
              "color": "#EBF0F8"
             },
             "line": {
              "color": "white"
             }
            },
            "header": {
             "fill": {
              "color": "#C8D4E3"
             },
             "line": {
              "color": "white"
             }
            },
            "type": "table"
           }
          ]
         },
         "layout": {
          "annotationdefaults": {
           "arrowcolor": "#2a3f5f",
           "arrowhead": 0,
           "arrowwidth": 1
          },
          "autotypenumbers": "strict",
          "coloraxis": {
           "colorbar": {
            "outlinewidth": 0,
            "ticks": ""
           }
          },
          "colorscale": {
           "diverging": [
            [
             0,
             "#8e0152"
            ],
            [
             0.1,
             "#c51b7d"
            ],
            [
             0.2,
             "#de77ae"
            ],
            [
             0.3,
             "#f1b6da"
            ],
            [
             0.4,
             "#fde0ef"
            ],
            [
             0.5,
             "#f7f7f7"
            ],
            [
             0.6,
             "#e6f5d0"
            ],
            [
             0.7,
             "#b8e186"
            ],
            [
             0.8,
             "#7fbc41"
            ],
            [
             0.9,
             "#4d9221"
            ],
            [
             1,
             "#276419"
            ]
           ],
           "sequential": [
            [
             0,
             "#0d0887"
            ],
            [
             0.1111111111111111,
             "#46039f"
            ],
            [
             0.2222222222222222,
             "#7201a8"
            ],
            [
             0.3333333333333333,
             "#9c179e"
            ],
            [
             0.4444444444444444,
             "#bd3786"
            ],
            [
             0.5555555555555556,
             "#d8576b"
            ],
            [
             0.6666666666666666,
             "#ed7953"
            ],
            [
             0.7777777777777778,
             "#fb9f3a"
            ],
            [
             0.8888888888888888,
             "#fdca26"
            ],
            [
             1,
             "#f0f921"
            ]
           ],
           "sequentialminus": [
            [
             0,
             "#0d0887"
            ],
            [
             0.1111111111111111,
             "#46039f"
            ],
            [
             0.2222222222222222,
             "#7201a8"
            ],
            [
             0.3333333333333333,
             "#9c179e"
            ],
            [
             0.4444444444444444,
             "#bd3786"
            ],
            [
             0.5555555555555556,
             "#d8576b"
            ],
            [
             0.6666666666666666,
             "#ed7953"
            ],
            [
             0.7777777777777778,
             "#fb9f3a"
            ],
            [
             0.8888888888888888,
             "#fdca26"
            ],
            [
             1,
             "#f0f921"
            ]
           ]
          },
          "colorway": [
           "#636efa",
           "#EF553B",
           "#00cc96",
           "#ab63fa",
           "#FFA15A",
           "#19d3f3",
           "#FF6692",
           "#B6E880",
           "#FF97FF",
           "#FECB52"
          ],
          "font": {
           "color": "#2a3f5f"
          },
          "geo": {
           "bgcolor": "white",
           "lakecolor": "white",
           "landcolor": "white",
           "showlakes": true,
           "showland": true,
           "subunitcolor": "#C8D4E3"
          },
          "hoverlabel": {
           "align": "left"
          },
          "hovermode": "closest",
          "mapbox": {
           "style": "light"
          },
          "paper_bgcolor": "white",
          "plot_bgcolor": "white",
          "polar": {
           "angularaxis": {
            "gridcolor": "#EBF0F8",
            "linecolor": "#EBF0F8",
            "ticks": ""
           },
           "bgcolor": "white",
           "radialaxis": {
            "gridcolor": "#EBF0F8",
            "linecolor": "#EBF0F8",
            "ticks": ""
           }
          },
          "scene": {
           "xaxis": {
            "backgroundcolor": "white",
            "gridcolor": "#DFE8F3",
            "gridwidth": 2,
            "linecolor": "#EBF0F8",
            "showbackground": true,
            "ticks": "",
            "zerolinecolor": "#EBF0F8"
           },
           "yaxis": {
            "backgroundcolor": "white",
            "gridcolor": "#DFE8F3",
            "gridwidth": 2,
            "linecolor": "#EBF0F8",
            "showbackground": true,
            "ticks": "",
            "zerolinecolor": "#EBF0F8"
           },
           "zaxis": {
            "backgroundcolor": "white",
            "gridcolor": "#DFE8F3",
            "gridwidth": 2,
            "linecolor": "#EBF0F8",
            "showbackground": true,
            "ticks": "",
            "zerolinecolor": "#EBF0F8"
           }
          },
          "shapedefaults": {
           "line": {
            "color": "#2a3f5f"
           }
          },
          "ternary": {
           "aaxis": {
            "gridcolor": "#DFE8F3",
            "linecolor": "#A2B1C6",
            "ticks": ""
           },
           "baxis": {
            "gridcolor": "#DFE8F3",
            "linecolor": "#A2B1C6",
            "ticks": ""
           },
           "bgcolor": "white",
           "caxis": {
            "gridcolor": "#DFE8F3",
            "linecolor": "#A2B1C6",
            "ticks": ""
           }
          },
          "title": {
           "x": 0.05
          },
          "xaxis": {
           "automargin": true,
           "gridcolor": "#EBF0F8",
           "linecolor": "#EBF0F8",
           "ticks": "",
           "title": {
            "standoff": 15
           },
           "zerolinecolor": "#EBF0F8",
           "zerolinewidth": 2
          },
          "yaxis": {
           "automargin": true,
           "gridcolor": "#EBF0F8",
           "linecolor": "#EBF0F8",
           "ticks": "",
           "title": {
            "standoff": 15
           },
           "zerolinecolor": "#EBF0F8",
           "zerolinewidth": 2
          }
         }
        },
        "width": 700,
        "xaxis": {
         "range": [
          -1,
          1
         ]
        },
        "yaxis": {
         "range": [
          1,
          -1
         ]
        }
       }
      }
     },
     "metadata": {},
     "output_type": "display_data"
    }
   ],
   "source": [
    "# 2d input\n",
    "aihub_2d = copy.deepcopy(input)\n",
    "# 2d skeleton\n",
    "pos = copy.deepcopy(aihub_2d)\n",
    "points_aihub_2d = {}\n",
    "for i, p in enumerate(pos):\n",
    "    p = np.append(p, 0.0)\n",
    "    #print(i, h36m_keypoints[i], p)\n",
    "    points_aihub_2d[h36m_keypoints[i]] = p\n",
    "pos_vector = pos.reshape(-1) # (51,)\n",
    "total_min, total_max = pos_vector.min(), pos_vector.max()\n",
    "print(\"total min: \", total_min,\n",
    "      \"total max: \", total_max)\n",
    "\n",
    "draw_skeleton_2d(points_aihub_2d, h36m_connections)"
   ]
  },
  {
   "cell_type": "code",
   "execution_count": 50,
   "metadata": {},
   "outputs": [
    {
     "name": "stdout",
     "output_type": "stream",
     "text": [
      "total min:  -0.31320348 total max:  0.23221077\n"
     ]
    },
    {
     "data": {
      "application/vnd.plotly.v1+json": {
       "config": {
        "plotlyServerURL": "https://plot.ly"
       },
       "data": [
        {
         "marker": {
          "color": "red",
          "size": 5
         },
         "mode": "markers",
         "type": "scatter3d",
         "x": [
          0
         ],
         "y": [
          0
         ],
         "z": [
          0
         ]
        },
        {
         "marker": {
          "color": "blue",
          "size": 2
         },
         "mode": "markers",
         "type": "scatter3d",
         "x": [
          0.000043142703361809254
         ],
         "y": [
          0.00038110953755676746
         ],
         "z": [
          -0.0000325589207932353
         ]
        },
        {
         "marker": {
          "color": "blue",
          "size": 2
         },
         "mode": "markers",
         "type": "scatter3d",
         "x": [
          0.05348145589232445
         ],
         "y": [
          -0.0412575788795948
         ],
         "z": [
          -0.008249626494944096
         ]
        },
        {
         "marker": {
          "color": "blue",
          "size": 2
         },
         "mode": "markers",
         "type": "scatter3d",
         "x": [
          0.1373889446258545
         ],
         "y": [
          0.16465233266353607
         ],
         "z": [
          -0.0366644449532032
         ]
        },
        {
         "marker": {
          "color": "blue",
          "size": 2
         },
         "mode": "markers",
         "type": "scatter3d",
         "x": [
          0.09383586794137955
         ],
         "y": [
          0.02233234792947769
         ],
         "z": [
          -0.19202660024166107
         ]
        },
        {
         "marker": {
          "color": "blue",
          "size": 2
         },
         "mode": "markers",
         "type": "scatter3d",
         "x": [
          -0.050583261996507645
         ],
         "y": [
          0.041741400957107544
         ],
         "z": [
          0.011991415172815323
         ]
        },
        {
         "marker": {
          "color": "blue",
          "size": 2
         },
         "mode": "markers",
         "type": "scatter3d",
         "x": [
          -0.002661528065800667
         ],
         "y": [
          0.23221077024936676
         ],
         "z": [
          -0.038891468197107315
         ]
        },
        {
         "marker": {
          "color": "blue",
          "size": 2
         },
         "mode": "markers",
         "type": "scatter3d",
         "x": [
          -0.04071789234876633
         ],
         "y": [
          0.06865732371807098
         ],
         "z": [
          -0.17114773392677307
         ]
        },
        {
         "marker": {
          "color": "blue",
          "size": 2
         },
         "mode": "markers",
         "type": "scatter3d",
         "x": [
          0.031189745292067528
         ],
         "y": [
          -0.008585034869611263
         ],
         "z": [
          0.12640303373336792
         ]
        },
        {
         "marker": {
          "color": "blue",
          "size": 2
         },
         "mode": "markers",
         "type": "scatter3d",
         "x": [
          0.05911991745233536
         ],
         "y": [
          0.014254131354391575
         ],
         "z": [
          0.23916319012641907
         ]
        },
        {
         "marker": {
          "color": "blue",
          "size": 2
         },
         "mode": "markers",
         "type": "scatter3d",
         "x": [
          0.1225789338350296
         ],
         "y": [
          0.0266894418746233
         ],
         "z": [
          0.2583238184452057
         ]
        },
        {
         "marker": {
          "color": "blue",
          "size": 2
         },
         "mode": "markers",
         "type": "scatter3d",
         "x": [
          0.08830481767654419
         ],
         "y": [
          0.020008234307169914
         ],
         "z": [
          0.31320348381996155
         ]
        },
        {
         "marker": {
          "color": "blue",
          "size": 2
         },
         "mode": "markers",
         "type": "scatter3d",
         "x": [
          -0.02043512463569641
         ],
         "y": [
          0.041464418172836304
         ],
         "z": [
          0.21988628804683685
         ]
        },
        {
         "marker": {
          "color": "blue",
          "size": 2
         },
         "mode": "markers",
         "type": "scatter3d",
         "x": [
          -0.11238501220941544
         ],
         "y": [
          0.09913375973701477
         ],
         "z": [
          0.14577698707580566
         ]
        },
        {
         "marker": {
          "color": "blue",
          "size": 2
         },
         "mode": "markers",
         "type": "scatter3d",
         "x": [
          -0.048664044588804245
         ],
         "y": [
          0.1316402107477188
         ],
         "z": [
          0.23868559300899506
         ]
        },
        {
         "marker": {
          "color": "blue",
          "size": 2
         },
         "mode": "markers",
         "type": "scatter3d",
         "x": [
          0.1185416504740715
         ],
         "y": [
          -0.03383580222725868
         ],
         "z": [
          0.20899493992328644
         ]
        },
        {
         "marker": {
          "color": "blue",
          "size": 2
         },
         "mode": "markers",
         "type": "scatter3d",
         "x": [
          0.20851486921310425
         ],
         "y": [
          -0.03089582547545433
         ],
         "z": [
          0.10854169726371765
         ]
        },
        {
         "marker": {
          "color": "blue",
          "size": 2
         },
         "mode": "markers",
         "type": "scatter3d",
         "x": [
          0.20574527978897095
         ],
         "y": [
          0.04327178746461868
         ],
         "z": [
          0.2119486778974533
         ]
        },
        {
         "line": {
          "color": "black"
         },
         "mode": "lines",
         "type": "scatter3d",
         "x": [
          0.000043142703361809254,
          0.05348145589232445
         ],
         "y": [
          0.00038110953755676746,
          -0.0412575788795948
         ],
         "z": [
          -0.0000325589207932353,
          -0.008249626494944096
         ]
        },
        {
         "line": {
          "color": "black"
         },
         "mode": "lines",
         "type": "scatter3d",
         "x": [
          0.000043142703361809254,
          -0.050583261996507645
         ],
         "y": [
          0.00038110953755676746,
          0.041741400957107544
         ],
         "z": [
          -0.0000325589207932353,
          0.011991415172815323
         ]
        },
        {
         "line": {
          "color": "black"
         },
         "mode": "lines",
         "type": "scatter3d",
         "x": [
          0.000043142703361809254,
          0.031189745292067528
         ],
         "y": [
          0.00038110953755676746,
          -0.008585034869611263
         ],
         "z": [
          -0.0000325589207932353,
          0.12640303373336792
         ]
        },
        {
         "line": {
          "color": "black"
         },
         "mode": "lines",
         "type": "scatter3d",
         "x": [
          0.05348145589232445,
          0.1373889446258545
         ],
         "y": [
          -0.0412575788795948,
          0.16465233266353607
         ],
         "z": [
          -0.008249626494944096,
          -0.0366644449532032
         ]
        },
        {
         "line": {
          "color": "black"
         },
         "mode": "lines",
         "type": "scatter3d",
         "x": [
          0.1373889446258545,
          0.09383586794137955
         ],
         "y": [
          0.16465233266353607,
          0.02233234792947769
         ],
         "z": [
          -0.0366644449532032,
          -0.19202660024166107
         ]
        },
        {
         "line": {
          "color": "black"
         },
         "mode": "lines",
         "type": "scatter3d",
         "x": [
          -0.050583261996507645,
          -0.002661528065800667
         ],
         "y": [
          0.041741400957107544,
          0.23221077024936676
         ],
         "z": [
          0.011991415172815323,
          -0.038891468197107315
         ]
        },
        {
         "line": {
          "color": "black"
         },
         "mode": "lines",
         "type": "scatter3d",
         "x": [
          -0.002661528065800667,
          -0.04071789234876633
         ],
         "y": [
          0.23221077024936676,
          0.06865732371807098
         ],
         "z": [
          -0.038891468197107315,
          -0.17114773392677307
         ]
        },
        {
         "line": {
          "color": "black"
         },
         "mode": "lines",
         "type": "scatter3d",
         "x": [
          0.031189745292067528,
          0.05911991745233536
         ],
         "y": [
          -0.008585034869611263,
          0.014254131354391575
         ],
         "z": [
          0.12640303373336792,
          0.23916319012641907
         ]
        },
        {
         "line": {
          "color": "black"
         },
         "mode": "lines",
         "type": "scatter3d",
         "x": [
          0.05911991745233536,
          0.1225789338350296
         ],
         "y": [
          0.014254131354391575,
          0.0266894418746233
         ],
         "z": [
          0.23916319012641907,
          0.2583238184452057
         ]
        },
        {
         "line": {
          "color": "black"
         },
         "mode": "lines",
         "type": "scatter3d",
         "x": [
          0.1225789338350296,
          0.08830481767654419
         ],
         "y": [
          0.0266894418746233,
          0.020008234307169914
         ],
         "z": [
          0.2583238184452057,
          0.31320348381996155
         ]
        },
        {
         "line": {
          "color": "black"
         },
         "mode": "lines",
         "type": "scatter3d",
         "x": [
          0.05911991745233536,
          0.1185416504740715
         ],
         "y": [
          0.014254131354391575,
          -0.03383580222725868
         ],
         "z": [
          0.23916319012641907,
          0.20899493992328644
         ]
        },
        {
         "line": {
          "color": "black"
         },
         "mode": "lines",
         "type": "scatter3d",
         "x": [
          0.1185416504740715,
          0.20851486921310425
         ],
         "y": [
          -0.03383580222725868,
          -0.03089582547545433
         ],
         "z": [
          0.20899493992328644,
          0.10854169726371765
         ]
        },
        {
         "line": {
          "color": "black"
         },
         "mode": "lines",
         "type": "scatter3d",
         "x": [
          0.20851486921310425,
          0.20574527978897095
         ],
         "y": [
          -0.03089582547545433,
          0.04327178746461868
         ],
         "z": [
          0.10854169726371765,
          0.2119486778974533
         ]
        },
        {
         "line": {
          "color": "black"
         },
         "mode": "lines",
         "type": "scatter3d",
         "x": [
          0.05911991745233536,
          -0.02043512463569641
         ],
         "y": [
          0.014254131354391575,
          0.041464418172836304
         ],
         "z": [
          0.23916319012641907,
          0.21988628804683685
         ]
        },
        {
         "line": {
          "color": "black"
         },
         "mode": "lines",
         "type": "scatter3d",
         "x": [
          -0.02043512463569641,
          -0.11238501220941544
         ],
         "y": [
          0.041464418172836304,
          0.09913375973701477
         ],
         "z": [
          0.21988628804683685,
          0.14577698707580566
         ]
        },
        {
         "line": {
          "color": "black"
         },
         "mode": "lines",
         "type": "scatter3d",
         "x": [
          -0.11238501220941544,
          -0.048664044588804245
         ],
         "y": [
          0.09913375973701477,
          0.1316402107477188
         ],
         "z": [
          0.14577698707580566,
          0.23868559300899506
         ]
        }
       ],
       "layout": {
        "autosize": false,
        "height": 700,
        "scene": {
         "aspectratio": {
          "x": 1,
          "y": 1,
          "z": 1
         },
         "camera": {
          "eye": {
           "x": 1,
           "y": 1,
           "z": 1
          }
         },
         "xaxis": {
          "range": [
           -1,
           1
          ]
         },
         "yaxis": {
          "range": [
           -1,
           1
          ]
         },
         "zaxis": {
          "range": [
           -1,
           1
          ]
         }
        },
        "template": {
         "data": {
          "bar": [
           {
            "error_x": {
             "color": "#2a3f5f"
            },
            "error_y": {
             "color": "#2a3f5f"
            },
            "marker": {
             "line": {
              "color": "#E5ECF6",
              "width": 0.5
             },
             "pattern": {
              "fillmode": "overlay",
              "size": 10,
              "solidity": 0.2
             }
            },
            "type": "bar"
           }
          ],
          "barpolar": [
           {
            "marker": {
             "line": {
              "color": "#E5ECF6",
              "width": 0.5
             },
             "pattern": {
              "fillmode": "overlay",
              "size": 10,
              "solidity": 0.2
             }
            },
            "type": "barpolar"
           }
          ],
          "carpet": [
           {
            "aaxis": {
             "endlinecolor": "#2a3f5f",
             "gridcolor": "white",
             "linecolor": "white",
             "minorgridcolor": "white",
             "startlinecolor": "#2a3f5f"
            },
            "baxis": {
             "endlinecolor": "#2a3f5f",
             "gridcolor": "white",
             "linecolor": "white",
             "minorgridcolor": "white",
             "startlinecolor": "#2a3f5f"
            },
            "type": "carpet"
           }
          ],
          "choropleth": [
           {
            "colorbar": {
             "outlinewidth": 0,
             "ticks": ""
            },
            "type": "choropleth"
           }
          ],
          "contour": [
           {
            "colorbar": {
             "outlinewidth": 0,
             "ticks": ""
            },
            "colorscale": [
             [
              0,
              "#0d0887"
             ],
             [
              0.1111111111111111,
              "#46039f"
             ],
             [
              0.2222222222222222,
              "#7201a8"
             ],
             [
              0.3333333333333333,
              "#9c179e"
             ],
             [
              0.4444444444444444,
              "#bd3786"
             ],
             [
              0.5555555555555556,
              "#d8576b"
             ],
             [
              0.6666666666666666,
              "#ed7953"
             ],
             [
              0.7777777777777778,
              "#fb9f3a"
             ],
             [
              0.8888888888888888,
              "#fdca26"
             ],
             [
              1,
              "#f0f921"
             ]
            ],
            "type": "contour"
           }
          ],
          "contourcarpet": [
           {
            "colorbar": {
             "outlinewidth": 0,
             "ticks": ""
            },
            "type": "contourcarpet"
           }
          ],
          "heatmap": [
           {
            "colorbar": {
             "outlinewidth": 0,
             "ticks": ""
            },
            "colorscale": [
             [
              0,
              "#0d0887"
             ],
             [
              0.1111111111111111,
              "#46039f"
             ],
             [
              0.2222222222222222,
              "#7201a8"
             ],
             [
              0.3333333333333333,
              "#9c179e"
             ],
             [
              0.4444444444444444,
              "#bd3786"
             ],
             [
              0.5555555555555556,
              "#d8576b"
             ],
             [
              0.6666666666666666,
              "#ed7953"
             ],
             [
              0.7777777777777778,
              "#fb9f3a"
             ],
             [
              0.8888888888888888,
              "#fdca26"
             ],
             [
              1,
              "#f0f921"
             ]
            ],
            "type": "heatmap"
           }
          ],
          "heatmapgl": [
           {
            "colorbar": {
             "outlinewidth": 0,
             "ticks": ""
            },
            "colorscale": [
             [
              0,
              "#0d0887"
             ],
             [
              0.1111111111111111,
              "#46039f"
             ],
             [
              0.2222222222222222,
              "#7201a8"
             ],
             [
              0.3333333333333333,
              "#9c179e"
             ],
             [
              0.4444444444444444,
              "#bd3786"
             ],
             [
              0.5555555555555556,
              "#d8576b"
             ],
             [
              0.6666666666666666,
              "#ed7953"
             ],
             [
              0.7777777777777778,
              "#fb9f3a"
             ],
             [
              0.8888888888888888,
              "#fdca26"
             ],
             [
              1,
              "#f0f921"
             ]
            ],
            "type": "heatmapgl"
           }
          ],
          "histogram": [
           {
            "marker": {
             "pattern": {
              "fillmode": "overlay",
              "size": 10,
              "solidity": 0.2
             }
            },
            "type": "histogram"
           }
          ],
          "histogram2d": [
           {
            "colorbar": {
             "outlinewidth": 0,
             "ticks": ""
            },
            "colorscale": [
             [
              0,
              "#0d0887"
             ],
             [
              0.1111111111111111,
              "#46039f"
             ],
             [
              0.2222222222222222,
              "#7201a8"
             ],
             [
              0.3333333333333333,
              "#9c179e"
             ],
             [
              0.4444444444444444,
              "#bd3786"
             ],
             [
              0.5555555555555556,
              "#d8576b"
             ],
             [
              0.6666666666666666,
              "#ed7953"
             ],
             [
              0.7777777777777778,
              "#fb9f3a"
             ],
             [
              0.8888888888888888,
              "#fdca26"
             ],
             [
              1,
              "#f0f921"
             ]
            ],
            "type": "histogram2d"
           }
          ],
          "histogram2dcontour": [
           {
            "colorbar": {
             "outlinewidth": 0,
             "ticks": ""
            },
            "colorscale": [
             [
              0,
              "#0d0887"
             ],
             [
              0.1111111111111111,
              "#46039f"
             ],
             [
              0.2222222222222222,
              "#7201a8"
             ],
             [
              0.3333333333333333,
              "#9c179e"
             ],
             [
              0.4444444444444444,
              "#bd3786"
             ],
             [
              0.5555555555555556,
              "#d8576b"
             ],
             [
              0.6666666666666666,
              "#ed7953"
             ],
             [
              0.7777777777777778,
              "#fb9f3a"
             ],
             [
              0.8888888888888888,
              "#fdca26"
             ],
             [
              1,
              "#f0f921"
             ]
            ],
            "type": "histogram2dcontour"
           }
          ],
          "mesh3d": [
           {
            "colorbar": {
             "outlinewidth": 0,
             "ticks": ""
            },
            "type": "mesh3d"
           }
          ],
          "parcoords": [
           {
            "line": {
             "colorbar": {
              "outlinewidth": 0,
              "ticks": ""
             }
            },
            "type": "parcoords"
           }
          ],
          "pie": [
           {
            "automargin": true,
            "type": "pie"
           }
          ],
          "scatter": [
           {
            "fillpattern": {
             "fillmode": "overlay",
             "size": 10,
             "solidity": 0.2
            },
            "type": "scatter"
           }
          ],
          "scatter3d": [
           {
            "line": {
             "colorbar": {
              "outlinewidth": 0,
              "ticks": ""
             }
            },
            "marker": {
             "colorbar": {
              "outlinewidth": 0,
              "ticks": ""
             }
            },
            "type": "scatter3d"
           }
          ],
          "scattercarpet": [
           {
            "marker": {
             "colorbar": {
              "outlinewidth": 0,
              "ticks": ""
             }
            },
            "type": "scattercarpet"
           }
          ],
          "scattergeo": [
           {
            "marker": {
             "colorbar": {
              "outlinewidth": 0,
              "ticks": ""
             }
            },
            "type": "scattergeo"
           }
          ],
          "scattergl": [
           {
            "marker": {
             "colorbar": {
              "outlinewidth": 0,
              "ticks": ""
             }
            },
            "type": "scattergl"
           }
          ],
          "scattermapbox": [
           {
            "marker": {
             "colorbar": {
              "outlinewidth": 0,
              "ticks": ""
             }
            },
            "type": "scattermapbox"
           }
          ],
          "scatterpolar": [
           {
            "marker": {
             "colorbar": {
              "outlinewidth": 0,
              "ticks": ""
             }
            },
            "type": "scatterpolar"
           }
          ],
          "scatterpolargl": [
           {
            "marker": {
             "colorbar": {
              "outlinewidth": 0,
              "ticks": ""
             }
            },
            "type": "scatterpolargl"
           }
          ],
          "scatterternary": [
           {
            "marker": {
             "colorbar": {
              "outlinewidth": 0,
              "ticks": ""
             }
            },
            "type": "scatterternary"
           }
          ],
          "surface": [
           {
            "colorbar": {
             "outlinewidth": 0,
             "ticks": ""
            },
            "colorscale": [
             [
              0,
              "#0d0887"
             ],
             [
              0.1111111111111111,
              "#46039f"
             ],
             [
              0.2222222222222222,
              "#7201a8"
             ],
             [
              0.3333333333333333,
              "#9c179e"
             ],
             [
              0.4444444444444444,
              "#bd3786"
             ],
             [
              0.5555555555555556,
              "#d8576b"
             ],
             [
              0.6666666666666666,
              "#ed7953"
             ],
             [
              0.7777777777777778,
              "#fb9f3a"
             ],
             [
              0.8888888888888888,
              "#fdca26"
             ],
             [
              1,
              "#f0f921"
             ]
            ],
            "type": "surface"
           }
          ],
          "table": [
           {
            "cells": {
             "fill": {
              "color": "#EBF0F8"
             },
             "line": {
              "color": "white"
             }
            },
            "header": {
             "fill": {
              "color": "#C8D4E3"
             },
             "line": {
              "color": "white"
             }
            },
            "type": "table"
           }
          ]
         },
         "layout": {
          "annotationdefaults": {
           "arrowcolor": "#2a3f5f",
           "arrowhead": 0,
           "arrowwidth": 1
          },
          "autotypenumbers": "strict",
          "coloraxis": {
           "colorbar": {
            "outlinewidth": 0,
            "ticks": ""
           }
          },
          "colorscale": {
           "diverging": [
            [
             0,
             "#8e0152"
            ],
            [
             0.1,
             "#c51b7d"
            ],
            [
             0.2,
             "#de77ae"
            ],
            [
             0.3,
             "#f1b6da"
            ],
            [
             0.4,
             "#fde0ef"
            ],
            [
             0.5,
             "#f7f7f7"
            ],
            [
             0.6,
             "#e6f5d0"
            ],
            [
             0.7,
             "#b8e186"
            ],
            [
             0.8,
             "#7fbc41"
            ],
            [
             0.9,
             "#4d9221"
            ],
            [
             1,
             "#276419"
            ]
           ],
           "sequential": [
            [
             0,
             "#0d0887"
            ],
            [
             0.1111111111111111,
             "#46039f"
            ],
            [
             0.2222222222222222,
             "#7201a8"
            ],
            [
             0.3333333333333333,
             "#9c179e"
            ],
            [
             0.4444444444444444,
             "#bd3786"
            ],
            [
             0.5555555555555556,
             "#d8576b"
            ],
            [
             0.6666666666666666,
             "#ed7953"
            ],
            [
             0.7777777777777778,
             "#fb9f3a"
            ],
            [
             0.8888888888888888,
             "#fdca26"
            ],
            [
             1,
             "#f0f921"
            ]
           ],
           "sequentialminus": [
            [
             0,
             "#0d0887"
            ],
            [
             0.1111111111111111,
             "#46039f"
            ],
            [
             0.2222222222222222,
             "#7201a8"
            ],
            [
             0.3333333333333333,
             "#9c179e"
            ],
            [
             0.4444444444444444,
             "#bd3786"
            ],
            [
             0.5555555555555556,
             "#d8576b"
            ],
            [
             0.6666666666666666,
             "#ed7953"
            ],
            [
             0.7777777777777778,
             "#fb9f3a"
            ],
            [
             0.8888888888888888,
             "#fdca26"
            ],
            [
             1,
             "#f0f921"
            ]
           ]
          },
          "colorway": [
           "#636efa",
           "#EF553B",
           "#00cc96",
           "#ab63fa",
           "#FFA15A",
           "#19d3f3",
           "#FF6692",
           "#B6E880",
           "#FF97FF",
           "#FECB52"
          ],
          "font": {
           "color": "#2a3f5f"
          },
          "geo": {
           "bgcolor": "white",
           "lakecolor": "white",
           "landcolor": "#E5ECF6",
           "showlakes": true,
           "showland": true,
           "subunitcolor": "white"
          },
          "hoverlabel": {
           "align": "left"
          },
          "hovermode": "closest",
          "mapbox": {
           "style": "light"
          },
          "paper_bgcolor": "white",
          "plot_bgcolor": "#E5ECF6",
          "polar": {
           "angularaxis": {
            "gridcolor": "white",
            "linecolor": "white",
            "ticks": ""
           },
           "bgcolor": "#E5ECF6",
           "radialaxis": {
            "gridcolor": "white",
            "linecolor": "white",
            "ticks": ""
           }
          },
          "scene": {
           "xaxis": {
            "backgroundcolor": "#E5ECF6",
            "gridcolor": "white",
            "gridwidth": 2,
            "linecolor": "white",
            "showbackground": true,
            "ticks": "",
            "zerolinecolor": "white"
           },
           "yaxis": {
            "backgroundcolor": "#E5ECF6",
            "gridcolor": "white",
            "gridwidth": 2,
            "linecolor": "white",
            "showbackground": true,
            "ticks": "",
            "zerolinecolor": "white"
           },
           "zaxis": {
            "backgroundcolor": "#E5ECF6",
            "gridcolor": "white",
            "gridwidth": 2,
            "linecolor": "white",
            "showbackground": true,
            "ticks": "",
            "zerolinecolor": "white"
           }
          },
          "shapedefaults": {
           "line": {
            "color": "#2a3f5f"
           }
          },
          "ternary": {
           "aaxis": {
            "gridcolor": "white",
            "linecolor": "white",
            "ticks": ""
           },
           "baxis": {
            "gridcolor": "white",
            "linecolor": "white",
            "ticks": ""
           },
           "bgcolor": "#E5ECF6",
           "caxis": {
            "gridcolor": "white",
            "linecolor": "white",
            "ticks": ""
           }
          },
          "title": {
           "x": 0.05
          },
          "xaxis": {
           "automargin": true,
           "gridcolor": "white",
           "linecolor": "white",
           "ticks": "",
           "title": {
            "standoff": 15
           },
           "zerolinecolor": "white",
           "zerolinewidth": 2
          },
          "yaxis": {
           "automargin": true,
           "gridcolor": "white",
           "linecolor": "white",
           "ticks": "",
           "title": {
            "standoff": 15
           },
           "zerolinecolor": "white",
           "zerolinewidth": 2
          }
         }
        },
        "width": 700
       }
      }
     },
     "metadata": {},
     "output_type": "display_data"
    }
   ],
   "source": [
    "# result\n",
    "aihub_3d = copy.deepcopy(output)\n",
    "pos = copy.deepcopy(aihub_3d)\n",
    "points_aihub_3d = {}\n",
    "for i, p in enumerate(pos):\n",
    "    #print(i, h36m_keypoints[i], p)\n",
    "    points_aihub_3d[h36m_keypoints[i]] = np.array([p[0], p[2], -p[1]]) #np.array([p[0], p[1], p[2]])  #np.array([p[0], -p[2], p[1]])\n",
    "pos_vector = pos.reshape(-1) # (51,)\n",
    "total_min, total_max = pos_vector.min(), pos_vector.max()\n",
    "print(\"total min: \", total_min,\n",
    "      \"total max: \", total_max)\n",
    "\n",
    "fig = draw_skeleton(points_aihub_3d, h36m_connections)\n",
    "fig.show()"
   ]
  },
  {
   "cell_type": "markdown",
   "metadata": {},
   "source": [
    "### s03_65906101_squat"
   ]
  },
  {
   "cell_type": "code",
   "execution_count": 52,
   "metadata": {},
   "outputs": [],
   "source": [
    "input = fit3d_result['s03_65906101_squat']['input'][frame_num]\n",
    "output = fit3d_result['s03_65906101_squat']['output'][frame_num]"
   ]
  },
  {
   "cell_type": "code",
   "execution_count": 53,
   "metadata": {},
   "outputs": [
    {
     "name": "stdout",
     "output_type": "stream",
     "text": [
      "total min:  -0.3233614501953125 total max:  0.14615161132812493\n"
     ]
    },
    {
     "data": {
      "application/vnd.plotly.v1+json": {
       "config": {
        "plotlyServerURL": "https://plot.ly"
       },
       "data": [
        {
         "marker": {
          "color": "blue",
          "size": 2
         },
         "mode": "markers",
         "type": "scatter",
         "x": [
          -0.016875854492187536
         ],
         "y": [
          -0.046870422363281206
         ]
        },
        {
         "marker": {
          "color": "blue",
          "size": 2
         },
         "mode": "markers",
         "type": "scatter",
         "x": [
          -0.06382714843750004
         ],
         "y": [
          -0.04165356445312496
         ]
        },
        {
         "marker": {
          "color": "blue",
          "size": 2
         },
         "mode": "markers",
         "type": "scatter",
         "x": [
          -0.14207934570312497
         ],
         "y": [
          0.05224902343749993
         ]
        },
        {
         "marker": {
          "color": "blue",
          "size": 2
         },
         "mode": "markers",
         "type": "scatter",
         "x": [
          -0.08991119384765622
         ],
         "y": [
          0.14615161132812493
         ]
        },
        {
         "marker": {
          "color": "blue",
          "size": 2
         },
         "mode": "markers",
         "type": "scatter",
         "x": [
          0.030075439453125075
         ],
         "y": [
          -0.03643676757812497
         ]
        },
        {
         "marker": {
          "color": "blue",
          "size": 2
         },
         "mode": "markers",
         "type": "scatter",
         "x": [
          -0.006442199707031304
         ],
         "y": [
          0.0626826171874999
         ]
        },
        {
         "marker": {
          "color": "blue",
          "size": 2
         },
         "mode": "markers",
         "type": "scatter",
         "x": [
          0.03529223632812495
         ],
         "y": [
          0.11485083007812502
         ]
        },
        {
         "marker": {
          "color": "blue",
          "size": 2
         },
         "mode": "markers",
         "type": "scatter",
         "x": [
          -0.040351501464843786
         ],
         "y": [
          -0.14338143920898438
         ]
        },
        {
         "marker": {
          "color": "blue",
          "size": 2
         },
         "mode": "markers",
         "type": "scatter",
         "x": [
          -0.06382714843750004
         ],
         "y": [
          -0.23989245605468745
         ]
        },
        {
         "marker": {
          "color": "blue",
          "size": 2
         },
         "mode": "markers",
         "type": "scatter",
         "x": [
          -0.10034484863281246
         ],
         "y": [
          -0.23989245605468745
         ]
        },
        {
         "marker": {
          "color": "blue",
          "size": 2
         },
         "mode": "markers",
         "type": "scatter",
         "x": [
          -0.09512805175781247
         ],
         "y": [
          -0.3233614501953125
         ]
        },
        {
         "marker": {
          "color": "blue",
          "size": 2
         },
         "mode": "markers",
         "type": "scatter",
         "x": [
          0.019641845703125105
         ],
         "y": [
          -0.22424200439453124
         ]
        },
        {
         "marker": {
          "color": "blue",
          "size": 2
         },
         "mode": "markers",
         "type": "scatter",
         "x": [
          0.13962854003906244
         ],
         "y": [
          -0.15120666503906255
         ]
        },
        {
         "marker": {
          "color": "blue",
          "size": 2
         },
         "mode": "markers",
         "type": "scatter",
         "x": [
          0.07180993652343748
         ],
         "y": [
          -0.23467565917968747
         ]
        },
        {
         "marker": {
          "color": "blue",
          "size": 2
         },
         "mode": "markers",
         "type": "scatter",
         "x": [
          -0.13164569091796874
         ],
         "y": [
          -0.21902520751953125
         ]
        },
        {
         "marker": {
          "color": "blue",
          "size": 2
         },
         "mode": "markers",
         "type": "scatter",
         "x": [
          -0.18903063964843747
         ],
         "y": [
          -0.16164025878906252
         ]
        },
        {
         "marker": {
          "color": "blue",
          "size": 2
         },
         "mode": "markers",
         "type": "scatter",
         "x": [
          -0.19424743652343746
         ],
         "y": [
          -0.25032604980468753
         ]
        },
        {
         "line": {
          "color": "black"
         },
         "mode": "lines",
         "type": "scatter",
         "x": [
          -0.016875854492187536,
          -0.06382714843750004
         ],
         "y": [
          -0.046870422363281206,
          -0.04165356445312496
         ]
        },
        {
         "line": {
          "color": "black"
         },
         "mode": "lines",
         "type": "scatter",
         "x": [
          -0.016875854492187536,
          0.030075439453125075
         ],
         "y": [
          -0.046870422363281206,
          -0.03643676757812497
         ]
        },
        {
         "line": {
          "color": "black"
         },
         "mode": "lines",
         "type": "scatter",
         "x": [
          -0.016875854492187536,
          -0.040351501464843786
         ],
         "y": [
          -0.046870422363281206,
          -0.14338143920898438
         ]
        },
        {
         "line": {
          "color": "black"
         },
         "mode": "lines",
         "type": "scatter",
         "x": [
          -0.06382714843750004,
          -0.14207934570312497
         ],
         "y": [
          -0.04165356445312496,
          0.05224902343749993
         ]
        },
        {
         "line": {
          "color": "black"
         },
         "mode": "lines",
         "type": "scatter",
         "x": [
          -0.14207934570312497,
          -0.08991119384765622
         ],
         "y": [
          0.05224902343749993,
          0.14615161132812493
         ]
        },
        {
         "line": {
          "color": "black"
         },
         "mode": "lines",
         "type": "scatter",
         "x": [
          0.030075439453125075,
          -0.006442199707031304
         ],
         "y": [
          -0.03643676757812497,
          0.0626826171874999
         ]
        },
        {
         "line": {
          "color": "black"
         },
         "mode": "lines",
         "type": "scatter",
         "x": [
          -0.006442199707031304,
          0.03529223632812495
         ],
         "y": [
          0.0626826171874999,
          0.11485083007812502
         ]
        },
        {
         "line": {
          "color": "black"
         },
         "mode": "lines",
         "type": "scatter",
         "x": [
          -0.040351501464843786,
          -0.06382714843750004
         ],
         "y": [
          -0.14338143920898438,
          -0.23989245605468745
         ]
        },
        {
         "line": {
          "color": "black"
         },
         "mode": "lines",
         "type": "scatter",
         "x": [
          -0.06382714843750004,
          -0.10034484863281246
         ],
         "y": [
          -0.23989245605468745,
          -0.23989245605468745
         ]
        },
        {
         "line": {
          "color": "black"
         },
         "mode": "lines",
         "type": "scatter",
         "x": [
          -0.10034484863281246,
          -0.09512805175781247
         ],
         "y": [
          -0.23989245605468745,
          -0.3233614501953125
         ]
        },
        {
         "line": {
          "color": "black"
         },
         "mode": "lines",
         "type": "scatter",
         "x": [
          -0.06382714843750004,
          -0.13164569091796874
         ],
         "y": [
          -0.23989245605468745,
          -0.21902520751953125
         ]
        },
        {
         "line": {
          "color": "black"
         },
         "mode": "lines",
         "type": "scatter",
         "x": [
          -0.13164569091796874,
          -0.18903063964843747
         ],
         "y": [
          -0.21902520751953125,
          -0.16164025878906252
         ]
        },
        {
         "line": {
          "color": "black"
         },
         "mode": "lines",
         "type": "scatter",
         "x": [
          -0.18903063964843747,
          -0.19424743652343746
         ],
         "y": [
          -0.16164025878906252,
          -0.25032604980468753
         ]
        },
        {
         "line": {
          "color": "black"
         },
         "mode": "lines",
         "type": "scatter",
         "x": [
          -0.06382714843750004,
          0.019641845703125105
         ],
         "y": [
          -0.23989245605468745,
          -0.22424200439453124
         ]
        },
        {
         "line": {
          "color": "black"
         },
         "mode": "lines",
         "type": "scatter",
         "x": [
          0.019641845703125105,
          0.13962854003906244
         ],
         "y": [
          -0.22424200439453124,
          -0.15120666503906255
         ]
        },
        {
         "line": {
          "color": "black"
         },
         "mode": "lines",
         "type": "scatter",
         "x": [
          0.13962854003906244,
          0.07180993652343748
         ],
         "y": [
          -0.15120666503906255,
          -0.23467565917968747
         ]
        }
       ],
       "layout": {
        "height": 700,
        "template": {
         "data": {
          "bar": [
           {
            "error_x": {
             "color": "#2a3f5f"
            },
            "error_y": {
             "color": "#2a3f5f"
            },
            "marker": {
             "line": {
              "color": "white",
              "width": 0.5
             },
             "pattern": {
              "fillmode": "overlay",
              "size": 10,
              "solidity": 0.2
             }
            },
            "type": "bar"
           }
          ],
          "barpolar": [
           {
            "marker": {
             "line": {
              "color": "white",
              "width": 0.5
             },
             "pattern": {
              "fillmode": "overlay",
              "size": 10,
              "solidity": 0.2
             }
            },
            "type": "barpolar"
           }
          ],
          "carpet": [
           {
            "aaxis": {
             "endlinecolor": "#2a3f5f",
             "gridcolor": "#C8D4E3",
             "linecolor": "#C8D4E3",
             "minorgridcolor": "#C8D4E3",
             "startlinecolor": "#2a3f5f"
            },
            "baxis": {
             "endlinecolor": "#2a3f5f",
             "gridcolor": "#C8D4E3",
             "linecolor": "#C8D4E3",
             "minorgridcolor": "#C8D4E3",
             "startlinecolor": "#2a3f5f"
            },
            "type": "carpet"
           }
          ],
          "choropleth": [
           {
            "colorbar": {
             "outlinewidth": 0,
             "ticks": ""
            },
            "type": "choropleth"
           }
          ],
          "contour": [
           {
            "colorbar": {
             "outlinewidth": 0,
             "ticks": ""
            },
            "colorscale": [
             [
              0,
              "#0d0887"
             ],
             [
              0.1111111111111111,
              "#46039f"
             ],
             [
              0.2222222222222222,
              "#7201a8"
             ],
             [
              0.3333333333333333,
              "#9c179e"
             ],
             [
              0.4444444444444444,
              "#bd3786"
             ],
             [
              0.5555555555555556,
              "#d8576b"
             ],
             [
              0.6666666666666666,
              "#ed7953"
             ],
             [
              0.7777777777777778,
              "#fb9f3a"
             ],
             [
              0.8888888888888888,
              "#fdca26"
             ],
             [
              1,
              "#f0f921"
             ]
            ],
            "type": "contour"
           }
          ],
          "contourcarpet": [
           {
            "colorbar": {
             "outlinewidth": 0,
             "ticks": ""
            },
            "type": "contourcarpet"
           }
          ],
          "heatmap": [
           {
            "colorbar": {
             "outlinewidth": 0,
             "ticks": ""
            },
            "colorscale": [
             [
              0,
              "#0d0887"
             ],
             [
              0.1111111111111111,
              "#46039f"
             ],
             [
              0.2222222222222222,
              "#7201a8"
             ],
             [
              0.3333333333333333,
              "#9c179e"
             ],
             [
              0.4444444444444444,
              "#bd3786"
             ],
             [
              0.5555555555555556,
              "#d8576b"
             ],
             [
              0.6666666666666666,
              "#ed7953"
             ],
             [
              0.7777777777777778,
              "#fb9f3a"
             ],
             [
              0.8888888888888888,
              "#fdca26"
             ],
             [
              1,
              "#f0f921"
             ]
            ],
            "type": "heatmap"
           }
          ],
          "heatmapgl": [
           {
            "colorbar": {
             "outlinewidth": 0,
             "ticks": ""
            },
            "colorscale": [
             [
              0,
              "#0d0887"
             ],
             [
              0.1111111111111111,
              "#46039f"
             ],
             [
              0.2222222222222222,
              "#7201a8"
             ],
             [
              0.3333333333333333,
              "#9c179e"
             ],
             [
              0.4444444444444444,
              "#bd3786"
             ],
             [
              0.5555555555555556,
              "#d8576b"
             ],
             [
              0.6666666666666666,
              "#ed7953"
             ],
             [
              0.7777777777777778,
              "#fb9f3a"
             ],
             [
              0.8888888888888888,
              "#fdca26"
             ],
             [
              1,
              "#f0f921"
             ]
            ],
            "type": "heatmapgl"
           }
          ],
          "histogram": [
           {
            "marker": {
             "pattern": {
              "fillmode": "overlay",
              "size": 10,
              "solidity": 0.2
             }
            },
            "type": "histogram"
           }
          ],
          "histogram2d": [
           {
            "colorbar": {
             "outlinewidth": 0,
             "ticks": ""
            },
            "colorscale": [
             [
              0,
              "#0d0887"
             ],
             [
              0.1111111111111111,
              "#46039f"
             ],
             [
              0.2222222222222222,
              "#7201a8"
             ],
             [
              0.3333333333333333,
              "#9c179e"
             ],
             [
              0.4444444444444444,
              "#bd3786"
             ],
             [
              0.5555555555555556,
              "#d8576b"
             ],
             [
              0.6666666666666666,
              "#ed7953"
             ],
             [
              0.7777777777777778,
              "#fb9f3a"
             ],
             [
              0.8888888888888888,
              "#fdca26"
             ],
             [
              1,
              "#f0f921"
             ]
            ],
            "type": "histogram2d"
           }
          ],
          "histogram2dcontour": [
           {
            "colorbar": {
             "outlinewidth": 0,
             "ticks": ""
            },
            "colorscale": [
             [
              0,
              "#0d0887"
             ],
             [
              0.1111111111111111,
              "#46039f"
             ],
             [
              0.2222222222222222,
              "#7201a8"
             ],
             [
              0.3333333333333333,
              "#9c179e"
             ],
             [
              0.4444444444444444,
              "#bd3786"
             ],
             [
              0.5555555555555556,
              "#d8576b"
             ],
             [
              0.6666666666666666,
              "#ed7953"
             ],
             [
              0.7777777777777778,
              "#fb9f3a"
             ],
             [
              0.8888888888888888,
              "#fdca26"
             ],
             [
              1,
              "#f0f921"
             ]
            ],
            "type": "histogram2dcontour"
           }
          ],
          "mesh3d": [
           {
            "colorbar": {
             "outlinewidth": 0,
             "ticks": ""
            },
            "type": "mesh3d"
           }
          ],
          "parcoords": [
           {
            "line": {
             "colorbar": {
              "outlinewidth": 0,
              "ticks": ""
             }
            },
            "type": "parcoords"
           }
          ],
          "pie": [
           {
            "automargin": true,
            "type": "pie"
           }
          ],
          "scatter": [
           {
            "fillpattern": {
             "fillmode": "overlay",
             "size": 10,
             "solidity": 0.2
            },
            "type": "scatter"
           }
          ],
          "scatter3d": [
           {
            "line": {
             "colorbar": {
              "outlinewidth": 0,
              "ticks": ""
             }
            },
            "marker": {
             "colorbar": {
              "outlinewidth": 0,
              "ticks": ""
             }
            },
            "type": "scatter3d"
           }
          ],
          "scattercarpet": [
           {
            "marker": {
             "colorbar": {
              "outlinewidth": 0,
              "ticks": ""
             }
            },
            "type": "scattercarpet"
           }
          ],
          "scattergeo": [
           {
            "marker": {
             "colorbar": {
              "outlinewidth": 0,
              "ticks": ""
             }
            },
            "type": "scattergeo"
           }
          ],
          "scattergl": [
           {
            "marker": {
             "colorbar": {
              "outlinewidth": 0,
              "ticks": ""
             }
            },
            "type": "scattergl"
           }
          ],
          "scattermapbox": [
           {
            "marker": {
             "colorbar": {
              "outlinewidth": 0,
              "ticks": ""
             }
            },
            "type": "scattermapbox"
           }
          ],
          "scatterpolar": [
           {
            "marker": {
             "colorbar": {
              "outlinewidth": 0,
              "ticks": ""
             }
            },
            "type": "scatterpolar"
           }
          ],
          "scatterpolargl": [
           {
            "marker": {
             "colorbar": {
              "outlinewidth": 0,
              "ticks": ""
             }
            },
            "type": "scatterpolargl"
           }
          ],
          "scatterternary": [
           {
            "marker": {
             "colorbar": {
              "outlinewidth": 0,
              "ticks": ""
             }
            },
            "type": "scatterternary"
           }
          ],
          "surface": [
           {
            "colorbar": {
             "outlinewidth": 0,
             "ticks": ""
            },
            "colorscale": [
             [
              0,
              "#0d0887"
             ],
             [
              0.1111111111111111,
              "#46039f"
             ],
             [
              0.2222222222222222,
              "#7201a8"
             ],
             [
              0.3333333333333333,
              "#9c179e"
             ],
             [
              0.4444444444444444,
              "#bd3786"
             ],
             [
              0.5555555555555556,
              "#d8576b"
             ],
             [
              0.6666666666666666,
              "#ed7953"
             ],
             [
              0.7777777777777778,
              "#fb9f3a"
             ],
             [
              0.8888888888888888,
              "#fdca26"
             ],
             [
              1,
              "#f0f921"
             ]
            ],
            "type": "surface"
           }
          ],
          "table": [
           {
            "cells": {
             "fill": {
              "color": "#EBF0F8"
             },
             "line": {
              "color": "white"
             }
            },
            "header": {
             "fill": {
              "color": "#C8D4E3"
             },
             "line": {
              "color": "white"
             }
            },
            "type": "table"
           }
          ]
         },
         "layout": {
          "annotationdefaults": {
           "arrowcolor": "#2a3f5f",
           "arrowhead": 0,
           "arrowwidth": 1
          },
          "autotypenumbers": "strict",
          "coloraxis": {
           "colorbar": {
            "outlinewidth": 0,
            "ticks": ""
           }
          },
          "colorscale": {
           "diverging": [
            [
             0,
             "#8e0152"
            ],
            [
             0.1,
             "#c51b7d"
            ],
            [
             0.2,
             "#de77ae"
            ],
            [
             0.3,
             "#f1b6da"
            ],
            [
             0.4,
             "#fde0ef"
            ],
            [
             0.5,
             "#f7f7f7"
            ],
            [
             0.6,
             "#e6f5d0"
            ],
            [
             0.7,
             "#b8e186"
            ],
            [
             0.8,
             "#7fbc41"
            ],
            [
             0.9,
             "#4d9221"
            ],
            [
             1,
             "#276419"
            ]
           ],
           "sequential": [
            [
             0,
             "#0d0887"
            ],
            [
             0.1111111111111111,
             "#46039f"
            ],
            [
             0.2222222222222222,
             "#7201a8"
            ],
            [
             0.3333333333333333,
             "#9c179e"
            ],
            [
             0.4444444444444444,
             "#bd3786"
            ],
            [
             0.5555555555555556,
             "#d8576b"
            ],
            [
             0.6666666666666666,
             "#ed7953"
            ],
            [
             0.7777777777777778,
             "#fb9f3a"
            ],
            [
             0.8888888888888888,
             "#fdca26"
            ],
            [
             1,
             "#f0f921"
            ]
           ],
           "sequentialminus": [
            [
             0,
             "#0d0887"
            ],
            [
             0.1111111111111111,
             "#46039f"
            ],
            [
             0.2222222222222222,
             "#7201a8"
            ],
            [
             0.3333333333333333,
             "#9c179e"
            ],
            [
             0.4444444444444444,
             "#bd3786"
            ],
            [
             0.5555555555555556,
             "#d8576b"
            ],
            [
             0.6666666666666666,
             "#ed7953"
            ],
            [
             0.7777777777777778,
             "#fb9f3a"
            ],
            [
             0.8888888888888888,
             "#fdca26"
            ],
            [
             1,
             "#f0f921"
            ]
           ]
          },
          "colorway": [
           "#636efa",
           "#EF553B",
           "#00cc96",
           "#ab63fa",
           "#FFA15A",
           "#19d3f3",
           "#FF6692",
           "#B6E880",
           "#FF97FF",
           "#FECB52"
          ],
          "font": {
           "color": "#2a3f5f"
          },
          "geo": {
           "bgcolor": "white",
           "lakecolor": "white",
           "landcolor": "white",
           "showlakes": true,
           "showland": true,
           "subunitcolor": "#C8D4E3"
          },
          "hoverlabel": {
           "align": "left"
          },
          "hovermode": "closest",
          "mapbox": {
           "style": "light"
          },
          "paper_bgcolor": "white",
          "plot_bgcolor": "white",
          "polar": {
           "angularaxis": {
            "gridcolor": "#EBF0F8",
            "linecolor": "#EBF0F8",
            "ticks": ""
           },
           "bgcolor": "white",
           "radialaxis": {
            "gridcolor": "#EBF0F8",
            "linecolor": "#EBF0F8",
            "ticks": ""
           }
          },
          "scene": {
           "xaxis": {
            "backgroundcolor": "white",
            "gridcolor": "#DFE8F3",
            "gridwidth": 2,
            "linecolor": "#EBF0F8",
            "showbackground": true,
            "ticks": "",
            "zerolinecolor": "#EBF0F8"
           },
           "yaxis": {
            "backgroundcolor": "white",
            "gridcolor": "#DFE8F3",
            "gridwidth": 2,
            "linecolor": "#EBF0F8",
            "showbackground": true,
            "ticks": "",
            "zerolinecolor": "#EBF0F8"
           },
           "zaxis": {
            "backgroundcolor": "white",
            "gridcolor": "#DFE8F3",
            "gridwidth": 2,
            "linecolor": "#EBF0F8",
            "showbackground": true,
            "ticks": "",
            "zerolinecolor": "#EBF0F8"
           }
          },
          "shapedefaults": {
           "line": {
            "color": "#2a3f5f"
           }
          },
          "ternary": {
           "aaxis": {
            "gridcolor": "#DFE8F3",
            "linecolor": "#A2B1C6",
            "ticks": ""
           },
           "baxis": {
            "gridcolor": "#DFE8F3",
            "linecolor": "#A2B1C6",
            "ticks": ""
           },
           "bgcolor": "white",
           "caxis": {
            "gridcolor": "#DFE8F3",
            "linecolor": "#A2B1C6",
            "ticks": ""
           }
          },
          "title": {
           "x": 0.05
          },
          "xaxis": {
           "automargin": true,
           "gridcolor": "#EBF0F8",
           "linecolor": "#EBF0F8",
           "ticks": "",
           "title": {
            "standoff": 15
           },
           "zerolinecolor": "#EBF0F8",
           "zerolinewidth": 2
          },
          "yaxis": {
           "automargin": true,
           "gridcolor": "#EBF0F8",
           "linecolor": "#EBF0F8",
           "ticks": "",
           "title": {
            "standoff": 15
           },
           "zerolinecolor": "#EBF0F8",
           "zerolinewidth": 2
          }
         }
        },
        "width": 700,
        "xaxis": {
         "range": [
          -1,
          1
         ]
        },
        "yaxis": {
         "range": [
          1,
          -1
         ]
        }
       }
      }
     },
     "metadata": {},
     "output_type": "display_data"
    }
   ],
   "source": [
    "# 2d input\n",
    "aihub_2d = copy.deepcopy(input)\n",
    "# 2d skeleton\n",
    "pos = copy.deepcopy(aihub_2d)\n",
    "points_aihub_2d = {}\n",
    "for i, p in enumerate(pos):\n",
    "    p = np.append(p, 0.0)\n",
    "    #print(i, h36m_keypoints[i], p)\n",
    "    points_aihub_2d[h36m_keypoints[i]] = p\n",
    "pos_vector = pos.reshape(-1) # (51,)\n",
    "total_min, total_max = pos_vector.min(), pos_vector.max()\n",
    "print(\"total min: \", total_min,\n",
    "      \"total max: \", total_max)\n",
    "\n",
    "draw_skeleton_2d(points_aihub_2d, h36m_connections)"
   ]
  },
  {
   "cell_type": "code",
   "execution_count": 56,
   "metadata": {},
   "outputs": [
    {
     "name": "stdout",
     "output_type": "stream",
     "text": [
      "total min:  -0.262876 total max:  0.1839732\n"
     ]
    },
    {
     "data": {
      "application/vnd.plotly.v1+json": {
       "config": {
        "plotlyServerURL": "https://plot.ly"
       },
       "data": [
        {
         "marker": {
          "color": "red",
          "size": 5
         },
         "mode": "markers",
         "type": "scatter3d",
         "x": [
          0
         ],
         "y": [
          0
         ],
         "z": [
          0
         ]
        },
        {
         "marker": {
          "color": "blue",
          "size": 2
         },
         "mode": "markers",
         "type": "scatter3d",
         "x": [
          0.00021317880600690842
         ],
         "y": [
          0.0004646319430321455
         ],
         "z": [
          -0.00004499789793044329
         ]
        },
        {
         "marker": {
          "color": "blue",
          "size": 2
         },
         "mode": "markers",
         "type": "scatter3d",
         "x": [
          -0.0476108081638813
         ],
         "y": [
          0.02979867160320282
         ],
         "z": [
          0.0013998720096424222
         ]
        },
        {
         "marker": {
          "color": "blue",
          "size": 2
         },
         "mode": "markers",
         "type": "scatter3d",
         "x": [
          -0.13465768098831177
         ],
         "y": [
          -0.117028146982193
         ],
         "z": [
          -0.10627567768096924
         ]
        },
        {
         "marker": {
          "color": "blue",
          "size": 2
         },
         "mode": "markers",
         "type": "scatter3d",
         "x": [
          -0.06718512624502182
         ],
         "y": [
          0.020295435562729836
         ],
         "z": [
          -0.18397319316864014
         ]
        },
        {
         "marker": {
          "color": "blue",
          "size": 2
         },
         "mode": "markers",
         "type": "scatter3d",
         "x": [
          0.04914532229304314
         ],
         "y": [
          -0.03052278608083725
         ],
         "z": [
          0.0018688651034608483
         ]
        },
        {
         "marker": {
          "color": "blue",
          "size": 2
         },
         "mode": "markers",
         "type": "scatter3d",
         "x": [
          0.005310020409524441
         ],
         "y": [
          -0.1577823907136917
         ],
         "z": [
          -0.1122276782989502
         ]
        },
        {
         "marker": {
          "color": "blue",
          "size": 2
         },
         "mode": "markers",
         "type": "scatter3d",
         "x": [
          0.05415864661335945
         ],
         "y": [
          0.0019574507605284452
         ],
         "z": [
          -0.1513029783964157
         ]
        },
        {
         "marker": {
          "color": "blue",
          "size": 2
         },
         "mode": "markers",
         "type": "scatter3d",
         "x": [
          -0.023923154920339584
         ],
         "y": [
          -0.027357839047908783
         ],
         "z": [
          0.09810813516378403
         ]
        },
        {
         "marker": {
          "color": "blue",
          "size": 2
         },
         "mode": "markers",
         "type": "scatter3d",
         "x": [
          -0.043155401945114136
         ],
         "y": [
          -0.07064636051654816
         ],
         "z": [
          0.1862320601940155
         ]
        },
        {
         "marker": {
          "color": "blue",
          "size": 2
         },
         "mode": "markers",
         "type": "scatter3d",
         "x": [
          -0.07808967679738998
         ],
         "y": [
          -0.11070383340120316
         ],
         "z": [
          0.19686321914196014
         ]
        },
        {
         "marker": {
          "color": "blue",
          "size": 2
         },
         "mode": "markers",
         "type": "scatter3d",
         "x": [
          -0.07102658599615097
         ],
         "y": [
          -0.1131744533777237
         ],
         "z": [
          0.2628760039806366
         ]
        },
        {
         "marker": {
          "color": "blue",
          "size": 2
         },
         "mode": "markers",
         "type": "scatter3d",
         "x": [
          0.03125201538205147
         ],
         "y": [
          -0.07801295816898346
         ],
         "z": [
          0.17422981560230255
         ]
        },
        {
         "marker": {
          "color": "blue",
          "size": 2
         },
         "mode": "markers",
         "type": "scatter3d",
         "x": [
          0.14736437797546387
         ],
         "y": [
          -0.07775010168552399
         ],
         "z": [
          0.1173529326915741
         ]
        },
        {
         "marker": {
          "color": "blue",
          "size": 2
         },
         "mode": "markers",
         "type": "scatter3d",
         "x": [
          0.09073727577924728
         ],
         "y": [
          -0.14143352210521698
         ],
         "z": [
          0.1831216812133789
         ]
        },
        {
         "marker": {
          "color": "blue",
          "size": 2
         },
         "mode": "markers",
         "type": "scatter3d",
         "x": [
          -0.10388168692588806
         ],
         "y": [
          -0.04769463837146759
         ],
         "z": [
          0.16354088485240936
         ]
        },
        {
         "marker": {
          "color": "blue",
          "size": 2
         },
         "mode": "markers",
         "type": "scatter3d",
         "x": [
          -0.17124217748641968
         ],
         "y": [
          -0.06084999442100525
         ],
         "z": [
          0.10420548170804977
         ]
        },
        {
         "marker": {
          "color": "blue",
          "size": 2
         },
         "mode": "markers",
         "type": "scatter3d",
         "x": [
          -0.16960707306861877
         ],
         "y": [
          -0.1192033514380455
         ],
         "z": [
          0.19460035860538483
         ]
        },
        {
         "line": {
          "color": "black"
         },
         "mode": "lines",
         "type": "scatter3d",
         "x": [
          0.00021317880600690842,
          -0.0476108081638813
         ],
         "y": [
          0.0004646319430321455,
          0.02979867160320282
         ],
         "z": [
          -0.00004499789793044329,
          0.0013998720096424222
         ]
        },
        {
         "line": {
          "color": "black"
         },
         "mode": "lines",
         "type": "scatter3d",
         "x": [
          0.00021317880600690842,
          0.04914532229304314
         ],
         "y": [
          0.0004646319430321455,
          -0.03052278608083725
         ],
         "z": [
          -0.00004499789793044329,
          0.0018688651034608483
         ]
        },
        {
         "line": {
          "color": "black"
         },
         "mode": "lines",
         "type": "scatter3d",
         "x": [
          0.00021317880600690842,
          -0.023923154920339584
         ],
         "y": [
          0.0004646319430321455,
          -0.027357839047908783
         ],
         "z": [
          -0.00004499789793044329,
          0.09810813516378403
         ]
        },
        {
         "line": {
          "color": "black"
         },
         "mode": "lines",
         "type": "scatter3d",
         "x": [
          -0.0476108081638813,
          -0.13465768098831177
         ],
         "y": [
          0.02979867160320282,
          -0.117028146982193
         ],
         "z": [
          0.0013998720096424222,
          -0.10627567768096924
         ]
        },
        {
         "line": {
          "color": "black"
         },
         "mode": "lines",
         "type": "scatter3d",
         "x": [
          -0.13465768098831177,
          -0.06718512624502182
         ],
         "y": [
          -0.117028146982193,
          0.020295435562729836
         ],
         "z": [
          -0.10627567768096924,
          -0.18397319316864014
         ]
        },
        {
         "line": {
          "color": "black"
         },
         "mode": "lines",
         "type": "scatter3d",
         "x": [
          0.04914532229304314,
          0.005310020409524441
         ],
         "y": [
          -0.03052278608083725,
          -0.1577823907136917
         ],
         "z": [
          0.0018688651034608483,
          -0.1122276782989502
         ]
        },
        {
         "line": {
          "color": "black"
         },
         "mode": "lines",
         "type": "scatter3d",
         "x": [
          0.005310020409524441,
          0.05415864661335945
         ],
         "y": [
          -0.1577823907136917,
          0.0019574507605284452
         ],
         "z": [
          -0.1122276782989502,
          -0.1513029783964157
         ]
        },
        {
         "line": {
          "color": "black"
         },
         "mode": "lines",
         "type": "scatter3d",
         "x": [
          -0.023923154920339584,
          -0.043155401945114136
         ],
         "y": [
          -0.027357839047908783,
          -0.07064636051654816
         ],
         "z": [
          0.09810813516378403,
          0.1862320601940155
         ]
        },
        {
         "line": {
          "color": "black"
         },
         "mode": "lines",
         "type": "scatter3d",
         "x": [
          -0.043155401945114136,
          -0.07808967679738998
         ],
         "y": [
          -0.07064636051654816,
          -0.11070383340120316
         ],
         "z": [
          0.1862320601940155,
          0.19686321914196014
         ]
        },
        {
         "line": {
          "color": "black"
         },
         "mode": "lines",
         "type": "scatter3d",
         "x": [
          -0.07808967679738998,
          -0.07102658599615097
         ],
         "y": [
          -0.11070383340120316,
          -0.1131744533777237
         ],
         "z": [
          0.19686321914196014,
          0.2628760039806366
         ]
        },
        {
         "line": {
          "color": "black"
         },
         "mode": "lines",
         "type": "scatter3d",
         "x": [
          -0.043155401945114136,
          -0.10388168692588806
         ],
         "y": [
          -0.07064636051654816,
          -0.04769463837146759
         ],
         "z": [
          0.1862320601940155,
          0.16354088485240936
         ]
        },
        {
         "line": {
          "color": "black"
         },
         "mode": "lines",
         "type": "scatter3d",
         "x": [
          -0.10388168692588806,
          -0.17124217748641968
         ],
         "y": [
          -0.04769463837146759,
          -0.06084999442100525
         ],
         "z": [
          0.16354088485240936,
          0.10420548170804977
         ]
        },
        {
         "line": {
          "color": "black"
         },
         "mode": "lines",
         "type": "scatter3d",
         "x": [
          -0.17124217748641968,
          -0.16960707306861877
         ],
         "y": [
          -0.06084999442100525,
          -0.1192033514380455
         ],
         "z": [
          0.10420548170804977,
          0.19460035860538483
         ]
        },
        {
         "line": {
          "color": "black"
         },
         "mode": "lines",
         "type": "scatter3d",
         "x": [
          -0.043155401945114136,
          0.03125201538205147
         ],
         "y": [
          -0.07064636051654816,
          -0.07801295816898346
         ],
         "z": [
          0.1862320601940155,
          0.17422981560230255
         ]
        },
        {
         "line": {
          "color": "black"
         },
         "mode": "lines",
         "type": "scatter3d",
         "x": [
          0.03125201538205147,
          0.14736437797546387
         ],
         "y": [
          -0.07801295816898346,
          -0.07775010168552399
         ],
         "z": [
          0.17422981560230255,
          0.1173529326915741
         ]
        },
        {
         "line": {
          "color": "black"
         },
         "mode": "lines",
         "type": "scatter3d",
         "x": [
          0.14736437797546387,
          0.09073727577924728
         ],
         "y": [
          -0.07775010168552399,
          -0.14143352210521698
         ],
         "z": [
          0.1173529326915741,
          0.1831216812133789
         ]
        }
       ],
       "layout": {
        "autosize": false,
        "height": 700,
        "scene": {
         "aspectratio": {
          "x": 1,
          "y": 1,
          "z": 1
         },
         "camera": {
          "eye": {
           "x": 1,
           "y": 1,
           "z": 1
          }
         },
         "xaxis": {
          "range": [
           -1,
           1
          ]
         },
         "yaxis": {
          "range": [
           -1,
           1
          ]
         },
         "zaxis": {
          "range": [
           -1,
           1
          ]
         }
        },
        "template": {
         "data": {
          "bar": [
           {
            "error_x": {
             "color": "#2a3f5f"
            },
            "error_y": {
             "color": "#2a3f5f"
            },
            "marker": {
             "line": {
              "color": "#E5ECF6",
              "width": 0.5
             },
             "pattern": {
              "fillmode": "overlay",
              "size": 10,
              "solidity": 0.2
             }
            },
            "type": "bar"
           }
          ],
          "barpolar": [
           {
            "marker": {
             "line": {
              "color": "#E5ECF6",
              "width": 0.5
             },
             "pattern": {
              "fillmode": "overlay",
              "size": 10,
              "solidity": 0.2
             }
            },
            "type": "barpolar"
           }
          ],
          "carpet": [
           {
            "aaxis": {
             "endlinecolor": "#2a3f5f",
             "gridcolor": "white",
             "linecolor": "white",
             "minorgridcolor": "white",
             "startlinecolor": "#2a3f5f"
            },
            "baxis": {
             "endlinecolor": "#2a3f5f",
             "gridcolor": "white",
             "linecolor": "white",
             "minorgridcolor": "white",
             "startlinecolor": "#2a3f5f"
            },
            "type": "carpet"
           }
          ],
          "choropleth": [
           {
            "colorbar": {
             "outlinewidth": 0,
             "ticks": ""
            },
            "type": "choropleth"
           }
          ],
          "contour": [
           {
            "colorbar": {
             "outlinewidth": 0,
             "ticks": ""
            },
            "colorscale": [
             [
              0,
              "#0d0887"
             ],
             [
              0.1111111111111111,
              "#46039f"
             ],
             [
              0.2222222222222222,
              "#7201a8"
             ],
             [
              0.3333333333333333,
              "#9c179e"
             ],
             [
              0.4444444444444444,
              "#bd3786"
             ],
             [
              0.5555555555555556,
              "#d8576b"
             ],
             [
              0.6666666666666666,
              "#ed7953"
             ],
             [
              0.7777777777777778,
              "#fb9f3a"
             ],
             [
              0.8888888888888888,
              "#fdca26"
             ],
             [
              1,
              "#f0f921"
             ]
            ],
            "type": "contour"
           }
          ],
          "contourcarpet": [
           {
            "colorbar": {
             "outlinewidth": 0,
             "ticks": ""
            },
            "type": "contourcarpet"
           }
          ],
          "heatmap": [
           {
            "colorbar": {
             "outlinewidth": 0,
             "ticks": ""
            },
            "colorscale": [
             [
              0,
              "#0d0887"
             ],
             [
              0.1111111111111111,
              "#46039f"
             ],
             [
              0.2222222222222222,
              "#7201a8"
             ],
             [
              0.3333333333333333,
              "#9c179e"
             ],
             [
              0.4444444444444444,
              "#bd3786"
             ],
             [
              0.5555555555555556,
              "#d8576b"
             ],
             [
              0.6666666666666666,
              "#ed7953"
             ],
             [
              0.7777777777777778,
              "#fb9f3a"
             ],
             [
              0.8888888888888888,
              "#fdca26"
             ],
             [
              1,
              "#f0f921"
             ]
            ],
            "type": "heatmap"
           }
          ],
          "heatmapgl": [
           {
            "colorbar": {
             "outlinewidth": 0,
             "ticks": ""
            },
            "colorscale": [
             [
              0,
              "#0d0887"
             ],
             [
              0.1111111111111111,
              "#46039f"
             ],
             [
              0.2222222222222222,
              "#7201a8"
             ],
             [
              0.3333333333333333,
              "#9c179e"
             ],
             [
              0.4444444444444444,
              "#bd3786"
             ],
             [
              0.5555555555555556,
              "#d8576b"
             ],
             [
              0.6666666666666666,
              "#ed7953"
             ],
             [
              0.7777777777777778,
              "#fb9f3a"
             ],
             [
              0.8888888888888888,
              "#fdca26"
             ],
             [
              1,
              "#f0f921"
             ]
            ],
            "type": "heatmapgl"
           }
          ],
          "histogram": [
           {
            "marker": {
             "pattern": {
              "fillmode": "overlay",
              "size": 10,
              "solidity": 0.2
             }
            },
            "type": "histogram"
           }
          ],
          "histogram2d": [
           {
            "colorbar": {
             "outlinewidth": 0,
             "ticks": ""
            },
            "colorscale": [
             [
              0,
              "#0d0887"
             ],
             [
              0.1111111111111111,
              "#46039f"
             ],
             [
              0.2222222222222222,
              "#7201a8"
             ],
             [
              0.3333333333333333,
              "#9c179e"
             ],
             [
              0.4444444444444444,
              "#bd3786"
             ],
             [
              0.5555555555555556,
              "#d8576b"
             ],
             [
              0.6666666666666666,
              "#ed7953"
             ],
             [
              0.7777777777777778,
              "#fb9f3a"
             ],
             [
              0.8888888888888888,
              "#fdca26"
             ],
             [
              1,
              "#f0f921"
             ]
            ],
            "type": "histogram2d"
           }
          ],
          "histogram2dcontour": [
           {
            "colorbar": {
             "outlinewidth": 0,
             "ticks": ""
            },
            "colorscale": [
             [
              0,
              "#0d0887"
             ],
             [
              0.1111111111111111,
              "#46039f"
             ],
             [
              0.2222222222222222,
              "#7201a8"
             ],
             [
              0.3333333333333333,
              "#9c179e"
             ],
             [
              0.4444444444444444,
              "#bd3786"
             ],
             [
              0.5555555555555556,
              "#d8576b"
             ],
             [
              0.6666666666666666,
              "#ed7953"
             ],
             [
              0.7777777777777778,
              "#fb9f3a"
             ],
             [
              0.8888888888888888,
              "#fdca26"
             ],
             [
              1,
              "#f0f921"
             ]
            ],
            "type": "histogram2dcontour"
           }
          ],
          "mesh3d": [
           {
            "colorbar": {
             "outlinewidth": 0,
             "ticks": ""
            },
            "type": "mesh3d"
           }
          ],
          "parcoords": [
           {
            "line": {
             "colorbar": {
              "outlinewidth": 0,
              "ticks": ""
             }
            },
            "type": "parcoords"
           }
          ],
          "pie": [
           {
            "automargin": true,
            "type": "pie"
           }
          ],
          "scatter": [
           {
            "fillpattern": {
             "fillmode": "overlay",
             "size": 10,
             "solidity": 0.2
            },
            "type": "scatter"
           }
          ],
          "scatter3d": [
           {
            "line": {
             "colorbar": {
              "outlinewidth": 0,
              "ticks": ""
             }
            },
            "marker": {
             "colorbar": {
              "outlinewidth": 0,
              "ticks": ""
             }
            },
            "type": "scatter3d"
           }
          ],
          "scattercarpet": [
           {
            "marker": {
             "colorbar": {
              "outlinewidth": 0,
              "ticks": ""
             }
            },
            "type": "scattercarpet"
           }
          ],
          "scattergeo": [
           {
            "marker": {
             "colorbar": {
              "outlinewidth": 0,
              "ticks": ""
             }
            },
            "type": "scattergeo"
           }
          ],
          "scattergl": [
           {
            "marker": {
             "colorbar": {
              "outlinewidth": 0,
              "ticks": ""
             }
            },
            "type": "scattergl"
           }
          ],
          "scattermapbox": [
           {
            "marker": {
             "colorbar": {
              "outlinewidth": 0,
              "ticks": ""
             }
            },
            "type": "scattermapbox"
           }
          ],
          "scatterpolar": [
           {
            "marker": {
             "colorbar": {
              "outlinewidth": 0,
              "ticks": ""
             }
            },
            "type": "scatterpolar"
           }
          ],
          "scatterpolargl": [
           {
            "marker": {
             "colorbar": {
              "outlinewidth": 0,
              "ticks": ""
             }
            },
            "type": "scatterpolargl"
           }
          ],
          "scatterternary": [
           {
            "marker": {
             "colorbar": {
              "outlinewidth": 0,
              "ticks": ""
             }
            },
            "type": "scatterternary"
           }
          ],
          "surface": [
           {
            "colorbar": {
             "outlinewidth": 0,
             "ticks": ""
            },
            "colorscale": [
             [
              0,
              "#0d0887"
             ],
             [
              0.1111111111111111,
              "#46039f"
             ],
             [
              0.2222222222222222,
              "#7201a8"
             ],
             [
              0.3333333333333333,
              "#9c179e"
             ],
             [
              0.4444444444444444,
              "#bd3786"
             ],
             [
              0.5555555555555556,
              "#d8576b"
             ],
             [
              0.6666666666666666,
              "#ed7953"
             ],
             [
              0.7777777777777778,
              "#fb9f3a"
             ],
             [
              0.8888888888888888,
              "#fdca26"
             ],
             [
              1,
              "#f0f921"
             ]
            ],
            "type": "surface"
           }
          ],
          "table": [
           {
            "cells": {
             "fill": {
              "color": "#EBF0F8"
             },
             "line": {
              "color": "white"
             }
            },
            "header": {
             "fill": {
              "color": "#C8D4E3"
             },
             "line": {
              "color": "white"
             }
            },
            "type": "table"
           }
          ]
         },
         "layout": {
          "annotationdefaults": {
           "arrowcolor": "#2a3f5f",
           "arrowhead": 0,
           "arrowwidth": 1
          },
          "autotypenumbers": "strict",
          "coloraxis": {
           "colorbar": {
            "outlinewidth": 0,
            "ticks": ""
           }
          },
          "colorscale": {
           "diverging": [
            [
             0,
             "#8e0152"
            ],
            [
             0.1,
             "#c51b7d"
            ],
            [
             0.2,
             "#de77ae"
            ],
            [
             0.3,
             "#f1b6da"
            ],
            [
             0.4,
             "#fde0ef"
            ],
            [
             0.5,
             "#f7f7f7"
            ],
            [
             0.6,
             "#e6f5d0"
            ],
            [
             0.7,
             "#b8e186"
            ],
            [
             0.8,
             "#7fbc41"
            ],
            [
             0.9,
             "#4d9221"
            ],
            [
             1,
             "#276419"
            ]
           ],
           "sequential": [
            [
             0,
             "#0d0887"
            ],
            [
             0.1111111111111111,
             "#46039f"
            ],
            [
             0.2222222222222222,
             "#7201a8"
            ],
            [
             0.3333333333333333,
             "#9c179e"
            ],
            [
             0.4444444444444444,
             "#bd3786"
            ],
            [
             0.5555555555555556,
             "#d8576b"
            ],
            [
             0.6666666666666666,
             "#ed7953"
            ],
            [
             0.7777777777777778,
             "#fb9f3a"
            ],
            [
             0.8888888888888888,
             "#fdca26"
            ],
            [
             1,
             "#f0f921"
            ]
           ],
           "sequentialminus": [
            [
             0,
             "#0d0887"
            ],
            [
             0.1111111111111111,
             "#46039f"
            ],
            [
             0.2222222222222222,
             "#7201a8"
            ],
            [
             0.3333333333333333,
             "#9c179e"
            ],
            [
             0.4444444444444444,
             "#bd3786"
            ],
            [
             0.5555555555555556,
             "#d8576b"
            ],
            [
             0.6666666666666666,
             "#ed7953"
            ],
            [
             0.7777777777777778,
             "#fb9f3a"
            ],
            [
             0.8888888888888888,
             "#fdca26"
            ],
            [
             1,
             "#f0f921"
            ]
           ]
          },
          "colorway": [
           "#636efa",
           "#EF553B",
           "#00cc96",
           "#ab63fa",
           "#FFA15A",
           "#19d3f3",
           "#FF6692",
           "#B6E880",
           "#FF97FF",
           "#FECB52"
          ],
          "font": {
           "color": "#2a3f5f"
          },
          "geo": {
           "bgcolor": "white",
           "lakecolor": "white",
           "landcolor": "#E5ECF6",
           "showlakes": true,
           "showland": true,
           "subunitcolor": "white"
          },
          "hoverlabel": {
           "align": "left"
          },
          "hovermode": "closest",
          "mapbox": {
           "style": "light"
          },
          "paper_bgcolor": "white",
          "plot_bgcolor": "#E5ECF6",
          "polar": {
           "angularaxis": {
            "gridcolor": "white",
            "linecolor": "white",
            "ticks": ""
           },
           "bgcolor": "#E5ECF6",
           "radialaxis": {
            "gridcolor": "white",
            "linecolor": "white",
            "ticks": ""
           }
          },
          "scene": {
           "xaxis": {
            "backgroundcolor": "#E5ECF6",
            "gridcolor": "white",
            "gridwidth": 2,
            "linecolor": "white",
            "showbackground": true,
            "ticks": "",
            "zerolinecolor": "white"
           },
           "yaxis": {
            "backgroundcolor": "#E5ECF6",
            "gridcolor": "white",
            "gridwidth": 2,
            "linecolor": "white",
            "showbackground": true,
            "ticks": "",
            "zerolinecolor": "white"
           },
           "zaxis": {
            "backgroundcolor": "#E5ECF6",
            "gridcolor": "white",
            "gridwidth": 2,
            "linecolor": "white",
            "showbackground": true,
            "ticks": "",
            "zerolinecolor": "white"
           }
          },
          "shapedefaults": {
           "line": {
            "color": "#2a3f5f"
           }
          },
          "ternary": {
           "aaxis": {
            "gridcolor": "white",
            "linecolor": "white",
            "ticks": ""
           },
           "baxis": {
            "gridcolor": "white",
            "linecolor": "white",
            "ticks": ""
           },
           "bgcolor": "#E5ECF6",
           "caxis": {
            "gridcolor": "white",
            "linecolor": "white",
            "ticks": ""
           }
          },
          "title": {
           "x": 0.05
          },
          "xaxis": {
           "automargin": true,
           "gridcolor": "white",
           "linecolor": "white",
           "ticks": "",
           "title": {
            "standoff": 15
           },
           "zerolinecolor": "white",
           "zerolinewidth": 2
          },
          "yaxis": {
           "automargin": true,
           "gridcolor": "white",
           "linecolor": "white",
           "ticks": "",
           "title": {
            "standoff": 15
           },
           "zerolinecolor": "white",
           "zerolinewidth": 2
          }
         }
        },
        "width": 700
       }
      }
     },
     "metadata": {},
     "output_type": "display_data"
    }
   ],
   "source": [
    "# result\n",
    "aihub_3d = copy.deepcopy(output)\n",
    "pos = copy.deepcopy(aihub_3d)\n",
    "points_aihub_3d = {}\n",
    "for i, p in enumerate(pos):\n",
    "    #print(i, h36m_keypoints[i], p)\n",
    "    points_aihub_3d[h36m_keypoints[i]] = np.array([p[0], p[2], -p[1]]) #np.array([p[0], p[1], p[2]])  #np.array([p[0], -p[2], p[1]])\n",
    "pos_vector = pos.reshape(-1) # (51,)\n",
    "total_min, total_max = pos_vector.min(), pos_vector.max()\n",
    "print(\"total min: \", total_min,\n",
    "      \"total max: \", total_max)\n",
    "\n",
    "fig = draw_skeleton(points_aihub_3d, h36m_connections)\n",
    "fig.show()"
   ]
  },
  {
   "cell_type": "markdown",
   "metadata": {},
   "source": [
    "### GT"
   ]
  },
  {
   "cell_type": "code",
   "execution_count": 3,
   "metadata": {},
   "outputs": [
    {
     "ename": "FileNotFoundError",
     "evalue": "[Errno 2] No such file or directory: '/Users/lhs_macbook/Documents/Projects/데이터쿡/5_Codes/HAAI_3D_pose/custom_codes/fit3d_gt/s03/squat.json'",
     "output_type": "error",
     "traceback": [
      "\u001b[0;31m---------------------------------------------------------------------------\u001b[0m",
      "\u001b[0;31mFileNotFoundError\u001b[0m                         Traceback (most recent call last)",
      "Cell \u001b[0;32mIn[3], line 3\u001b[0m\n\u001b[1;32m      1\u001b[0m gt_root \u001b[39m=\u001b[39m \u001b[39m\"\u001b[39m\u001b[39m/Users/lhs_macbook/Documents/Projects/데이터쿡/5_Codes/HAAI_3D_pose/custom_codes/fit3d_gt/s03\u001b[39m\u001b[39m\"\u001b[39m\n\u001b[1;32m      2\u001b[0m gt_squat_path \u001b[39m=\u001b[39m os\u001b[39m.\u001b[39mpath\u001b[39m.\u001b[39mjoin(gt_root, \u001b[39m\"\u001b[39m\u001b[39msquat.json\u001b[39m\u001b[39m\"\u001b[39m)\n\u001b[0;32m----> 3\u001b[0m gt_squat \u001b[39m=\u001b[39m readJSON(gt_squat_path)\n\u001b[1;32m      4\u001b[0m \u001b[39m# gt_squat.keys() # dict_keys(['joints3d_25'])\u001b[39;00m\n",
      "File \u001b[0;32m~/codes/MotionBERT/custom_codes/test_utils.py:13\u001b[0m, in \u001b[0;36mreadJSON\u001b[0;34m(json_file)\u001b[0m\n\u001b[1;32m     12\u001b[0m \u001b[39mdef\u001b[39;00m \u001b[39mreadJSON\u001b[39m(json_file):\n\u001b[0;32m---> 13\u001b[0m     \u001b[39mwith\u001b[39;00m \u001b[39mopen\u001b[39;49m(json_file, \u001b[39m'\u001b[39;49m\u001b[39mr\u001b[39;49m\u001b[39m'\u001b[39;49m) \u001b[39mas\u001b[39;00m f:\n\u001b[1;32m     14\u001b[0m         data \u001b[39m=\u001b[39m json\u001b[39m.\u001b[39mload(f)\n\u001b[1;32m     15\u001b[0m     \u001b[39mreturn\u001b[39;00m data\n",
      "\u001b[0;31mFileNotFoundError\u001b[0m: [Errno 2] No such file or directory: '/Users/lhs_macbook/Documents/Projects/데이터쿡/5_Codes/HAAI_3D_pose/custom_codes/fit3d_gt/s03/squat.json'"
     ]
    }
   ],
   "source": [
    "gt_root = \"/Users/lhs_macbook/Documents/Projects/데이터쿡/5_Codes/HAAI_3D_pose/custom_codes/fit3d_gt/s03\"\n",
    "gt_squat_path = os.path.join(gt_root, \"squat.json\")\n",
    "gt_squat = readJSON(gt_squat_path)\n",
    "# gt_squat.keys() # dict_keys(['joints3d_25'])\n"
   ]
  },
  {
   "cell_type": "code",
   "execution_count": 18,
   "metadata": {},
   "outputs": [
    {
     "name": "stdout",
     "output_type": "stream",
     "text": [
      "total min:  -0.23738800000000002 total max:  1.13802\n"
     ]
    },
    {
     "data": {
      "application/vnd.jupyter.widget-view+json": {
       "model_id": "fadf8ba3145f4c178abe78baf0928ecf",
       "version_major": 2,
       "version_minor": 0
      },
      "text/plain": [
       "interactive(children=(Output(),), _dom_classes=('widget-interact',))"
      ]
     },
     "metadata": {},
     "output_type": "display_data"
    },
    {
     "data": {
      "text/plain": [
       "<function ipywidgets.widgets.interaction._InteractFactory.__call__.<locals>.<lambda>(*args, **kwargs)>"
      ]
     },
     "execution_count": 18,
     "metadata": {},
     "output_type": "execute_result"
    }
   ],
   "source": [
    "# gt\n",
    "fit3d_3d = copy.deepcopy(np.array(gt_squat['joints3d_25'][1025]))\n",
    "pos = copy.deepcopy(fit3d_3d)\n",
    "points_aihub_3d = {}\n",
    "for i, p in enumerate(pos):\n",
    "    #print(i, h36m_keypoints[i], p)\n",
    "    points_aihub_3d[i] = np.array([p[0], p[1], p[2]]) #np.array([p[0], p[1], p[2]])  #np.array([p[0], -p[2], -p[1]])\n",
    "pos_vector = pos.reshape(-1) # (51,)\n",
    "total_min, total_max = pos_vector.min(), pos_vector.max()\n",
    "print(\"total min: \", total_min,\n",
    "      \"total max: \", total_max)\n",
    "\n",
    "interact(draw_skeleton(points_aihub_3d, fit3d_connections))"
   ]
  },
  {
   "cell_type": "code",
   "execution_count": 19,
   "metadata": {},
   "outputs": [
    {
     "name": "stdout",
     "output_type": "stream",
     "text": [
      "(17, 3)\n",
      "total min:  -0.23738800000000002 total max:  1.13802\n"
     ]
    },
    {
     "data": {
      "application/vnd.jupyter.widget-view+json": {
       "model_id": "bd2d59cba99444a2818053f2dda89db2",
       "version_major": 2,
       "version_minor": 0
      },
      "text/plain": [
       "interactive(children=(Output(),), _dom_classes=('widget-interact',))"
      ]
     },
     "metadata": {},
     "output_type": "display_data"
    },
    {
     "data": {
      "text/plain": [
       "<function ipywidgets.widgets.interaction._InteractFactory.__call__.<locals>.<lambda>(*args, **kwargs)>"
      ]
     },
     "execution_count": 19,
     "metadata": {},
     "output_type": "execute_result"
    }
   ],
   "source": [
    "h36m_connections = [\n",
    "    (0,1),\n",
    "    (0,4),\n",
    "    (0,7),\n",
    "    (1,2),\n",
    "    (2,3),\n",
    "    (4,5),\n",
    "    (5,6),\n",
    "    (7,8),\n",
    "    (8,9),\n",
    "    (9,10),\n",
    "    (8,14),\n",
    "    (14,15),\n",
    "    (15,16),\n",
    "    (8,11),\n",
    "    (11,12),\n",
    "    (12,13)\n",
    "]\n",
    "\n",
    "# gt\n",
    "fit3d_3d = copy.deepcopy(np.array(gt_squat['joints3d_25'][frame_num]))\n",
    "pos = copy.deepcopy(fit3d_3d[:17, :])\n",
    "print(pos.shape)\n",
    "points_aihub_3d = {}\n",
    "for i, p in enumerate(pos):\n",
    "    #print(i, h36m_keypoints[i], p)\n",
    "    points_aihub_3d[i] = np.array([p[0], p[1], p[2]]) #np.array([p[0], p[1], p[2]])  #np.array([p[0], -p[2], -p[1]])\n",
    "pos_vector = pos.reshape(-1) # (51,)\n",
    "total_min, total_max = pos_vector.min(), pos_vector.max()\n",
    "print(\"total min: \", total_min,\n",
    "      \"total max: \", total_max)\n",
    "\n",
    "interact(draw_skeleton(points_aihub_3d, h36m_connections))"
   ]
  },
  {
   "cell_type": "markdown",
   "metadata": {},
   "source": [
    "### Calculate MPJPE"
   ]
  },
  {
   "cell_type": "code",
   "execution_count": 28,
   "metadata": {},
   "outputs": [
    {
     "data": {
      "text/plain": [
       "(17, 3)"
      ]
     },
     "execution_count": 28,
     "metadata": {},
     "output_type": "execute_result"
    }
   ],
   "source": [
    "output.shape"
   ]
  },
  {
   "cell_type": "markdown",
   "metadata": {},
   "source": [
    "# ---------------------------------------------------------------------"
   ]
  },
  {
   "attachments": {},
   "cell_type": "markdown",
   "metadata": {},
   "source": [
    "### Save video"
   ]
  },
  {
   "cell_type": "code",
   "execution_count": 6,
   "metadata": {},
   "outputs": [
    {
     "name": "stdout",
     "output_type": "stream",
     "text": [
      "Collecting kaleido\n",
      "  Downloading kaleido-0.2.1-py2.py3-none-manylinux1_x86_64.whl (79.9 MB)\n",
      "\u001b[2K     \u001b[90m━━━━━━━━━━━━━━━━━━━━━━━━━━━━━━━━━━━━━━━━\u001b[0m \u001b[32m79.9/79.9 MB\u001b[0m \u001b[31m16.6 MB/s\u001b[0m eta \u001b[36m0:00:00\u001b[0m00:01\u001b[0m00:01\u001b[0m\n",
      "\u001b[?25hInstalling collected packages: kaleido\n",
      "Successfully installed kaleido-0.2.1\n"
     ]
    }
   ],
   "source": [
    "!pip install -U kaleido"
   ]
  },
  {
   "cell_type": "code",
   "execution_count": 5,
   "metadata": {},
   "outputs": [
    {
     "name": "stdout",
     "output_type": "stream",
     "text": [
      "Requirement already satisfied: pandas in /home/hrai/Anaconda3/envs/motionbert/lib/python3.9/site-packages (2.0.3)\n",
      "Requirement already satisfied: python-dateutil>=2.8.2 in /home/hrai/Anaconda3/envs/motionbert/lib/python3.9/site-packages (from pandas) (2.8.2)\n",
      "Requirement already satisfied: pytz>=2020.1 in /home/hrai/Anaconda3/envs/motionbert/lib/python3.9/site-packages (from pandas) (2023.3)\n",
      "Requirement already satisfied: tzdata>=2022.1 in /home/hrai/Anaconda3/envs/motionbert/lib/python3.9/site-packages (from pandas) (2023.3)\n",
      "Requirement already satisfied: numpy>=1.20.3 in /home/hrai/Anaconda3/envs/motionbert/lib/python3.9/site-packages (from pandas) (1.22.3)\n",
      "Requirement already satisfied: six>=1.5 in /home/hrai/Anaconda3/envs/motionbert/lib/python3.9/site-packages (from python-dateutil>=2.8.2->pandas) (1.16.0)\n",
      "Note: you may need to restart the kernel to use updated packages.\n"
     ]
    }
   ],
   "source": [
    "pip install pandas"
   ]
  },
  {
   "cell_type": "code",
   "execution_count": 1,
   "metadata": {},
   "outputs": [],
   "source": [
    "import plotly.express as px\n",
    "import pandas as pd\n",
    "import numpy as np\n",
    "import io\n",
    "import PIL\n",
    "\n",
    "r = np.random.RandomState(42)\n",
    "\n",
    "# sample data\n",
    "df = pd.DataFrame(\n",
    "    {\n",
    "        \"step\": np.repeat(np.arange(0, 8), 10),\n",
    "        \"x\": np.tile(np.linspace(0, 9, 10), 8),\n",
    "        \"y\": r.uniform(0, 5, 80),\n",
    "    }\n",
    ")\n",
    "\n",
    "# smaple plotly animated figure\n",
    "fig = px.bar(df, x=\"x\", y=\"y\", animation_frame=\"step\")\n",
    "\n",
    "# generate images for each step in animation\n",
    "frames = []\n",
    "for s, fr in enumerate(fig.frames):\n",
    "    # set main traces to appropriate traces within plotly frame\n",
    "    fig.update(data=fr.data)\n",
    "    # move slider to correct place\n",
    "    fig.layout.sliders[0].update(active=s)\n",
    "    # generate image of current state\n",
    "    frames.append(PIL.Image.open(io.BytesIO(fig.to_image(format=\"png\"))))\n",
    "    \n",
    "# create animated GIF\n",
    "frames[0].save(\n",
    "        \"test.gif\",\n",
    "        save_all=True,\n",
    "        append_images=frames[1:],\n",
    "        optimize=True,\n",
    "        duration=500,\n",
    "        loop=0,\n",
    "    )"
   ]
  },
  {
   "cell_type": "code",
   "execution_count": 11,
   "metadata": {},
   "outputs": [
    {
     "ename": "ImportError",
     "evalue": "Plotly express requires pandas to be installed.",
     "output_type": "error",
     "traceback": [
      "\u001b[0;31m---------------------------------------------------------------------------\u001b[0m",
      "\u001b[0;31mImportError\u001b[0m                               Traceback (most recent call last)",
      "Cell \u001b[0;32mIn[11], line 2\u001b[0m\n\u001b[1;32m      1\u001b[0m \u001b[39m# 2d input video\u001b[39;00m\n\u001b[0;32m----> 2\u001b[0m \u001b[39mimport\u001b[39;00m \u001b[39mplotly\u001b[39;00m\u001b[39m.\u001b[39;00m\u001b[39mexpress\u001b[39;00m \u001b[39mas\u001b[39;00m \u001b[39mpx\u001b[39;00m\n\u001b[1;32m      3\u001b[0m \u001b[39mimport\u001b[39;00m \u001b[39mpandas\u001b[39;00m \u001b[39mas\u001b[39;00m \u001b[39mpd\u001b[39;00m\n\u001b[1;32m      4\u001b[0m \u001b[39mimport\u001b[39;00m \u001b[39mnumpy\u001b[39;00m \u001b[39mas\u001b[39;00m \u001b[39mnp\u001b[39;00m\n",
      "File \u001b[0;32m~/Anaconda3/envs/motionbert/lib/python3.9/site-packages/plotly/express/__init__.py:10\u001b[0m\n\u001b[1;32m      8\u001b[0m pd \u001b[39m=\u001b[39m optional_imports\u001b[39m.\u001b[39mget_module(\u001b[39m\"\u001b[39m\u001b[39mpandas\u001b[39m\u001b[39m\"\u001b[39m)\n\u001b[1;32m      9\u001b[0m \u001b[39mif\u001b[39;00m pd \u001b[39mis\u001b[39;00m \u001b[39mNone\u001b[39;00m:\n\u001b[0;32m---> 10\u001b[0m     \u001b[39mraise\u001b[39;00m \u001b[39mImportError\u001b[39;00m(\n\u001b[1;32m     11\u001b[0m \u001b[39m        \u001b[39m\u001b[39m\"\"\"\\\u001b[39;00m\n\u001b[1;32m     12\u001b[0m \u001b[39mPlotly express requires pandas to be installed.\"\"\"\u001b[39;00m\n\u001b[1;32m     13\u001b[0m     )\n\u001b[1;32m     15\u001b[0m \u001b[39mfrom\u001b[39;00m \u001b[39m.\u001b[39;00m\u001b[39m_imshow\u001b[39;00m \u001b[39mimport\u001b[39;00m imshow\n\u001b[1;32m     16\u001b[0m \u001b[39mfrom\u001b[39;00m \u001b[39m.\u001b[39;00m\u001b[39m_chart_types\u001b[39;00m \u001b[39mimport\u001b[39;00m (  \u001b[39m# noqa: F401\u001b[39;00m\n\u001b[1;32m     17\u001b[0m     scatter,\n\u001b[1;32m     18\u001b[0m     scatter_3d,\n\u001b[0;32m   (...)\u001b[0m\n\u001b[1;32m     51\u001b[0m     density_mapbox,\n\u001b[1;32m     52\u001b[0m )\n",
      "\u001b[0;31mImportError\u001b[0m: Plotly express requires pandas to be installed."
     ]
    }
   ],
   "source": [
    "# 2d input video\n",
    "import plotly.express as px\n",
    "import pandas as pd\n",
    "import numpy as np\n",
    "import io\n",
    "import PIL\n",
    "\n",
    "for video in ['s03_60457274_squat', \"s03_50591643_squat\", \"s03_58860488_squat\", \"s03_65906101_squat\"]: # \n",
    "\n",
    "    frames = []\n",
    "    connections = h36m_connections\n",
    "    actor, cam_num, action = video.split('_')\n",
    "\n",
    "    for frame_num in range(len(fit3d_result[video]['input'])):\n",
    "\n",
    "        aihub_2d = copy.deepcopy(fit3d_result[video]['input'][frame_num])\n",
    "\n",
    "        # 2d skeleton\n",
    "        pos = copy.deepcopy(aihub_2d)\n",
    "        points = {}\n",
    "        for i, p in enumerate(pos):\n",
    "            p = np.append(p, 0.0)\n",
    "            #print(i, h36m_keypoints[i], p)\n",
    "            points[h36m_keypoints[i]] = p\n",
    "\n",
    "        \n",
    "\n",
    "        fig = go.Figure()\n",
    "\n",
    "        # Add points\n",
    "        for point in points.values():\n",
    "            fig.add_trace(go.Scatter(x=[point[0]], y=[point[1]],\n",
    "                                        mode='markers', marker=dict(size=2, color='blue')))\n",
    "\n",
    "        # Add connections\n",
    "        for connection in connections:\n",
    "            p1, p2 = points[connection[0]], points[connection[1]]\n",
    "            fig.add_trace(go.Scatter(x=[p1[0], p2[0]], y=[p1[1], p2[1]],\n",
    "                                        mode='lines', line=dict(color='black')))\n",
    "\n",
    "        # https://wikidocs.net/185955 참고\n",
    "        fig.update_xaxes(range=[-1, 1])\n",
    "        fig.update_yaxes(range=[1, -1])\n",
    "        fig.update_layout(width=700,height=700)\n",
    "        fig.update_layout(template=\"plotly_white\")\n",
    "\n",
    "        frames.append(PIL.Image.open(io.BytesIO(fig.to_image(format=\"png\"))))\n",
    "        \n",
    "    # create animated GIF\n",
    "    frames[0].save(\n",
    "            \"{}_{}_{}_input.gif\".format(actor, action, cam_num),\n",
    "            save_all=True,\n",
    "            append_images=frames[1:],\n",
    "            optimize=True,\n",
    "            duration=33,\n",
    "            loop=0,\n",
    "        )"
   ]
  },
  {
   "cell_type": "code",
   "execution_count": 7,
   "metadata": {},
   "outputs": [
    {
     "name": "stdout",
     "output_type": "stream",
     "text": [
      "0\n",
      "(17, 3)\n",
      "1\n",
      "(17, 3)\n",
      "2\n",
      "(17, 3)\n",
      "3\n",
      "(17, 3)\n",
      "4\n",
      "(17, 3)\n",
      "5\n",
      "(17, 3)\n",
      "6\n",
      "(17, 3)\n",
      "7\n",
      "(17, 3)\n",
      "8\n",
      "(17, 3)\n",
      "9\n",
      "(17, 3)\n",
      "10\n",
      "(17, 3)\n",
      "11\n",
      "(17, 3)\n",
      "12\n",
      "(17, 3)\n",
      "13\n",
      "(17, 3)\n",
      "14\n",
      "(17, 3)\n",
      "15\n",
      "(17, 3)\n",
      "16\n",
      "(17, 3)\n",
      "17\n",
      "(17, 3)\n",
      "18\n",
      "(17, 3)\n",
      "19\n",
      "(17, 3)\n",
      "20\n",
      "(17, 3)\n",
      "21\n",
      "(17, 3)\n",
      "22\n",
      "(17, 3)\n",
      "23\n",
      "(17, 3)\n",
      "24\n",
      "(17, 3)\n",
      "25\n",
      "(17, 3)\n",
      "26\n",
      "(17, 3)\n",
      "27\n",
      "(17, 3)\n",
      "28\n",
      "(17, 3)\n",
      "29\n",
      "(17, 3)\n",
      "30\n",
      "(17, 3)\n",
      "31\n",
      "(17, 3)\n",
      "32\n",
      "(17, 3)\n",
      "33\n",
      "(17, 3)\n",
      "34\n",
      "(17, 3)\n",
      "35\n",
      "(17, 3)\n",
      "36\n",
      "(17, 3)\n",
      "37\n",
      "(17, 3)\n",
      "38\n",
      "(17, 3)\n",
      "39\n",
      "(17, 3)\n",
      "40\n",
      "(17, 3)\n",
      "41\n",
      "(17, 3)\n",
      "42\n",
      "(17, 3)\n",
      "43\n",
      "(17, 3)\n",
      "44\n",
      "(17, 3)\n",
      "45\n",
      "(17, 3)\n",
      "46\n",
      "(17, 3)\n",
      "47\n",
      "(17, 3)\n",
      "48\n",
      "(17, 3)\n",
      "49\n",
      "(17, 3)\n",
      "50\n",
      "(17, 3)\n",
      "51\n",
      "(17, 3)\n",
      "52\n",
      "(17, 3)\n",
      "53\n",
      "(17, 3)\n",
      "54\n",
      "(17, 3)\n",
      "55\n",
      "(17, 3)\n",
      "56\n",
      "(17, 3)\n",
      "57\n",
      "(17, 3)\n",
      "58\n",
      "(17, 3)\n",
      "59\n",
      "(17, 3)\n",
      "60\n",
      "(17, 3)\n",
      "61\n",
      "(17, 3)\n",
      "62\n",
      "(17, 3)\n",
      "63\n",
      "(17, 3)\n",
      "64\n",
      "(17, 3)\n",
      "65\n",
      "(17, 3)\n",
      "66\n",
      "(17, 3)\n",
      "67\n",
      "(17, 3)\n",
      "68\n",
      "(17, 3)\n",
      "69\n",
      "(17, 3)\n",
      "70\n",
      "(17, 3)\n",
      "71\n",
      "(17, 3)\n",
      "72\n",
      "(17, 3)\n",
      "73\n",
      "(17, 3)\n",
      "74\n",
      "(17, 3)\n",
      "75\n",
      "(17, 3)\n",
      "76\n",
      "(17, 3)\n",
      "77\n",
      "(17, 3)\n",
      "78\n",
      "(17, 3)\n",
      "79\n",
      "(17, 3)\n",
      "80\n",
      "(17, 3)\n",
      "81\n",
      "(17, 3)\n",
      "82\n",
      "(17, 3)\n",
      "83\n",
      "(17, 3)\n",
      "84\n",
      "(17, 3)\n",
      "85\n",
      "(17, 3)\n",
      "86\n",
      "(17, 3)\n",
      "87\n",
      "(17, 3)\n",
      "88\n",
      "(17, 3)\n",
      "89\n",
      "(17, 3)\n",
      "90\n",
      "(17, 3)\n",
      "91\n",
      "(17, 3)\n",
      "92\n",
      "(17, 3)\n",
      "93\n",
      "(17, 3)\n",
      "94\n",
      "(17, 3)\n",
      "95\n",
      "(17, 3)\n",
      "96\n",
      "(17, 3)\n",
      "97\n",
      "(17, 3)\n",
      "98\n",
      "(17, 3)\n",
      "99\n",
      "(17, 3)\n",
      "100\n",
      "(17, 3)\n",
      "101\n",
      "(17, 3)\n",
      "102\n",
      "(17, 3)\n",
      "103\n",
      "(17, 3)\n",
      "104\n",
      "(17, 3)\n",
      "105\n",
      "(17, 3)\n",
      "106\n",
      "(17, 3)\n",
      "107\n",
      "(17, 3)\n",
      "108\n",
      "(17, 3)\n",
      "109\n",
      "(17, 3)\n",
      "110\n",
      "(17, 3)\n",
      "111\n",
      "(17, 3)\n",
      "112\n",
      "(17, 3)\n",
      "113\n",
      "(17, 3)\n",
      "114\n",
      "(17, 3)\n",
      "115\n",
      "(17, 3)\n",
      "116\n",
      "(17, 3)\n",
      "117\n",
      "(17, 3)\n",
      "118\n",
      "(17, 3)\n",
      "119\n",
      "(17, 3)\n",
      "120\n",
      "(17, 3)\n",
      "121\n",
      "(17, 3)\n",
      "122\n",
      "(17, 3)\n",
      "123\n",
      "(17, 3)\n",
      "124\n",
      "(17, 3)\n",
      "125\n",
      "(17, 3)\n",
      "126\n",
      "(17, 3)\n",
      "127\n",
      "(17, 3)\n",
      "128\n",
      "(17, 3)\n",
      "129\n",
      "(17, 3)\n",
      "130\n",
      "(17, 3)\n",
      "131\n",
      "(17, 3)\n",
      "132\n",
      "(17, 3)\n",
      "133\n",
      "(17, 3)\n",
      "134\n",
      "(17, 3)\n",
      "135\n",
      "(17, 3)\n",
      "136\n",
      "(17, 3)\n",
      "137\n",
      "(17, 3)\n",
      "138\n",
      "(17, 3)\n",
      "139\n",
      "(17, 3)\n",
      "140\n",
      "(17, 3)\n",
      "141\n",
      "(17, 3)\n",
      "142\n",
      "(17, 3)\n",
      "143\n",
      "(17, 3)\n",
      "144\n",
      "(17, 3)\n",
      "145\n",
      "(17, 3)\n",
      "146\n",
      "(17, 3)\n",
      "147\n",
      "(17, 3)\n",
      "148\n",
      "(17, 3)\n",
      "149\n",
      "(17, 3)\n",
      "150\n",
      "(17, 3)\n",
      "151\n",
      "(17, 3)\n",
      "152\n",
      "(17, 3)\n",
      "153\n",
      "(17, 3)\n",
      "154\n",
      "(17, 3)\n",
      "155\n",
      "(17, 3)\n",
      "156\n",
      "(17, 3)\n",
      "157\n",
      "(17, 3)\n",
      "158\n",
      "(17, 3)\n",
      "159\n",
      "(17, 3)\n",
      "160\n",
      "(17, 3)\n",
      "161\n",
      "(17, 3)\n",
      "162\n",
      "(17, 3)\n",
      "163\n",
      "(17, 3)\n",
      "164\n",
      "(17, 3)\n",
      "165\n",
      "(17, 3)\n",
      "166\n",
      "(17, 3)\n",
      "167\n",
      "(17, 3)\n",
      "168\n",
      "(17, 3)\n",
      "169\n",
      "(17, 3)\n",
      "170\n",
      "(17, 3)\n",
      "171\n",
      "(17, 3)\n",
      "172\n",
      "(17, 3)\n",
      "173\n",
      "(17, 3)\n",
      "174\n",
      "(17, 3)\n",
      "175\n",
      "(17, 3)\n",
      "176\n",
      "(17, 3)\n",
      "177\n",
      "(17, 3)\n",
      "178\n",
      "(17, 3)\n",
      "179\n",
      "(17, 3)\n",
      "180\n",
      "(17, 3)\n",
      "181\n",
      "(17, 3)\n",
      "182\n",
      "(17, 3)\n",
      "183\n",
      "(17, 3)\n",
      "184\n",
      "(17, 3)\n",
      "185\n",
      "(17, 3)\n",
      "186\n",
      "(17, 3)\n",
      "187\n",
      "(17, 3)\n",
      "188\n",
      "(17, 3)\n",
      "189\n",
      "(17, 3)\n",
      "190\n",
      "(17, 3)\n",
      "191\n",
      "(17, 3)\n",
      "192\n",
      "(17, 3)\n",
      "193\n",
      "(17, 3)\n",
      "194\n",
      "(17, 3)\n",
      "195\n",
      "(17, 3)\n",
      "196\n",
      "(17, 3)\n",
      "197\n",
      "(17, 3)\n",
      "198\n",
      "(17, 3)\n",
      "199\n",
      "(17, 3)\n",
      "200\n",
      "(17, 3)\n",
      "201\n",
      "(17, 3)\n",
      "202\n",
      "(17, 3)\n",
      "203\n",
      "(17, 3)\n",
      "204\n",
      "(17, 3)\n",
      "205\n",
      "(17, 3)\n",
      "206\n",
      "(17, 3)\n",
      "207\n",
      "(17, 3)\n",
      "208\n",
      "(17, 3)\n",
      "209\n",
      "(17, 3)\n",
      "210\n",
      "(17, 3)\n",
      "211\n",
      "(17, 3)\n",
      "212\n",
      "(17, 3)\n",
      "213\n",
      "(17, 3)\n",
      "214\n",
      "(17, 3)\n",
      "215\n",
      "(17, 3)\n",
      "216\n",
      "(17, 3)\n",
      "217\n",
      "(17, 3)\n",
      "218\n",
      "(17, 3)\n",
      "219\n",
      "(17, 3)\n",
      "220\n",
      "(17, 3)\n",
      "221\n",
      "(17, 3)\n",
      "222\n",
      "(17, 3)\n",
      "223\n",
      "(17, 3)\n",
      "224\n",
      "(17, 3)\n",
      "225\n",
      "(17, 3)\n",
      "226\n",
      "(17, 3)\n",
      "227\n",
      "(17, 3)\n",
      "228\n",
      "(17, 3)\n",
      "229\n",
      "(17, 3)\n",
      "230\n",
      "(17, 3)\n",
      "231\n",
      "(17, 3)\n",
      "232\n",
      "(17, 3)\n",
      "233\n",
      "(17, 3)\n",
      "234\n",
      "(17, 3)\n",
      "235\n",
      "(17, 3)\n",
      "236\n",
      "(17, 3)\n",
      "237\n",
      "(17, 3)\n",
      "238\n",
      "(17, 3)\n",
      "239\n",
      "(17, 3)\n",
      "240\n",
      "(17, 3)\n",
      "241\n",
      "(17, 3)\n",
      "242\n",
      "(17, 3)\n",
      "243\n",
      "(17, 3)\n",
      "244\n",
      "(17, 3)\n",
      "245\n",
      "(17, 3)\n",
      "246\n",
      "(17, 3)\n",
      "247\n",
      "(17, 3)\n",
      "248\n",
      "(17, 3)\n",
      "249\n",
      "(17, 3)\n",
      "250\n",
      "(17, 3)\n",
      "251\n",
      "(17, 3)\n",
      "252\n",
      "(17, 3)\n",
      "253\n",
      "(17, 3)\n",
      "254\n",
      "(17, 3)\n",
      "255\n",
      "(17, 3)\n",
      "256\n",
      "(17, 3)\n",
      "257\n",
      "(17, 3)\n",
      "258\n",
      "(17, 3)\n",
      "259\n",
      "(17, 3)\n",
      "260\n",
      "(17, 3)\n",
      "261\n",
      "(17, 3)\n",
      "262\n",
      "(17, 3)\n",
      "263\n",
      "(17, 3)\n",
      "264\n",
      "(17, 3)\n",
      "265\n",
      "(17, 3)\n",
      "266\n",
      "(17, 3)\n",
      "267\n",
      "(17, 3)\n",
      "268\n",
      "(17, 3)\n",
      "269\n",
      "(17, 3)\n",
      "270\n",
      "(17, 3)\n",
      "271\n",
      "(17, 3)\n",
      "272\n",
      "(17, 3)\n",
      "273\n",
      "(17, 3)\n",
      "274\n",
      "(17, 3)\n",
      "275\n",
      "(17, 3)\n",
      "276\n",
      "(17, 3)\n",
      "277\n",
      "(17, 3)\n",
      "278\n",
      "(17, 3)\n",
      "279\n",
      "(17, 3)\n",
      "280\n",
      "(17, 3)\n",
      "281\n",
      "(17, 3)\n",
      "282\n",
      "(17, 3)\n",
      "283\n",
      "(17, 3)\n",
      "284\n",
      "(17, 3)\n",
      "285\n",
      "(17, 3)\n",
      "286\n",
      "(17, 3)\n",
      "287\n",
      "(17, 3)\n",
      "288\n",
      "(17, 3)\n",
      "289\n",
      "(17, 3)\n",
      "290\n",
      "(17, 3)\n",
      "291\n",
      "(17, 3)\n",
      "292\n",
      "(17, 3)\n",
      "293\n",
      "(17, 3)\n",
      "294\n",
      "(17, 3)\n",
      "295\n",
      "(17, 3)\n",
      "296\n",
      "(17, 3)\n",
      "297\n",
      "(17, 3)\n",
      "298\n",
      "(17, 3)\n",
      "299\n",
      "(17, 3)\n",
      "300\n",
      "(17, 3)\n",
      "301\n",
      "(17, 3)\n",
      "302\n",
      "(17, 3)\n",
      "303\n",
      "(17, 3)\n",
      "304\n",
      "(17, 3)\n",
      "305\n",
      "(17, 3)\n",
      "306\n",
      "(17, 3)\n",
      "307\n",
      "(17, 3)\n",
      "308\n",
      "(17, 3)\n",
      "309\n",
      "(17, 3)\n",
      "310\n",
      "(17, 3)\n",
      "311\n",
      "(17, 3)\n",
      "312\n",
      "(17, 3)\n",
      "313\n",
      "(17, 3)\n",
      "314\n",
      "(17, 3)\n",
      "315\n",
      "(17, 3)\n",
      "316\n",
      "(17, 3)\n",
      "317\n",
      "(17, 3)\n",
      "318\n",
      "(17, 3)\n",
      "319\n",
      "(17, 3)\n",
      "320\n",
      "(17, 3)\n",
      "321\n",
      "(17, 3)\n",
      "322\n",
      "(17, 3)\n",
      "323\n",
      "(17, 3)\n",
      "324\n",
      "(17, 3)\n",
      "325\n",
      "(17, 3)\n",
      "326\n",
      "(17, 3)\n",
      "327\n",
      "(17, 3)\n",
      "328\n",
      "(17, 3)\n",
      "329\n",
      "(17, 3)\n",
      "330\n",
      "(17, 3)\n",
      "331\n",
      "(17, 3)\n",
      "332\n",
      "(17, 3)\n",
      "333\n",
      "(17, 3)\n",
      "334\n",
      "(17, 3)\n",
      "335\n",
      "(17, 3)\n",
      "336\n",
      "(17, 3)\n",
      "337\n",
      "(17, 3)\n",
      "338\n",
      "(17, 3)\n",
      "339\n",
      "(17, 3)\n",
      "340\n",
      "(17, 3)\n",
      "341\n",
      "(17, 3)\n",
      "342\n",
      "(17, 3)\n",
      "343\n",
      "(17, 3)\n",
      "344\n",
      "(17, 3)\n",
      "345\n",
      "(17, 3)\n",
      "346\n",
      "(17, 3)\n",
      "347\n",
      "(17, 3)\n",
      "348\n",
      "(17, 3)\n",
      "349\n",
      "(17, 3)\n",
      "350\n",
      "(17, 3)\n",
      "351\n",
      "(17, 3)\n",
      "352\n",
      "(17, 3)\n",
      "353\n",
      "(17, 3)\n",
      "354\n",
      "(17, 3)\n",
      "355\n",
      "(17, 3)\n",
      "356\n",
      "(17, 3)\n",
      "357\n",
      "(17, 3)\n",
      "358\n",
      "(17, 3)\n",
      "359\n",
      "(17, 3)\n",
      "360\n",
      "(17, 3)\n",
      "361\n",
      "(17, 3)\n",
      "362\n",
      "(17, 3)\n",
      "363\n",
      "(17, 3)\n",
      "364\n",
      "(17, 3)\n",
      "365\n",
      "(17, 3)\n",
      "366\n",
      "(17, 3)\n",
      "367\n",
      "(17, 3)\n",
      "368\n",
      "(17, 3)\n",
      "369\n",
      "(17, 3)\n",
      "370\n",
      "(17, 3)\n",
      "371\n",
      "(17, 3)\n",
      "372\n",
      "(17, 3)\n",
      "373\n",
      "(17, 3)\n",
      "374\n",
      "(17, 3)\n",
      "375\n",
      "(17, 3)\n",
      "376\n",
      "(17, 3)\n",
      "377\n",
      "(17, 3)\n",
      "378\n",
      "(17, 3)\n",
      "379\n",
      "(17, 3)\n",
      "380\n",
      "(17, 3)\n",
      "381\n",
      "(17, 3)\n",
      "382\n",
      "(17, 3)\n",
      "383\n",
      "(17, 3)\n",
      "384\n",
      "(17, 3)\n",
      "385\n",
      "(17, 3)\n",
      "386\n",
      "(17, 3)\n",
      "387\n",
      "(17, 3)\n",
      "388\n",
      "(17, 3)\n",
      "389\n",
      "(17, 3)\n",
      "390\n",
      "(17, 3)\n",
      "391\n",
      "(17, 3)\n",
      "392\n",
      "(17, 3)\n",
      "393\n",
      "(17, 3)\n",
      "394\n",
      "(17, 3)\n",
      "395\n",
      "(17, 3)\n",
      "396\n",
      "(17, 3)\n",
      "397\n",
      "(17, 3)\n",
      "398\n",
      "(17, 3)\n",
      "399\n",
      "(17, 3)\n",
      "400\n",
      "(17, 3)\n",
      "401\n",
      "(17, 3)\n",
      "402\n",
      "(17, 3)\n",
      "403\n",
      "(17, 3)\n",
      "404\n",
      "(17, 3)\n",
      "405\n",
      "(17, 3)\n",
      "406\n",
      "(17, 3)\n",
      "407\n",
      "(17, 3)\n",
      "408\n",
      "(17, 3)\n",
      "409\n",
      "(17, 3)\n",
      "410\n",
      "(17, 3)\n",
      "411\n",
      "(17, 3)\n",
      "412\n",
      "(17, 3)\n",
      "413\n",
      "(17, 3)\n",
      "414\n",
      "(17, 3)\n",
      "415\n",
      "(17, 3)\n",
      "416\n",
      "(17, 3)\n",
      "417\n",
      "(17, 3)\n",
      "418\n",
      "(17, 3)\n",
      "419\n",
      "(17, 3)\n",
      "420\n",
      "(17, 3)\n",
      "421\n",
      "(17, 3)\n",
      "422\n",
      "(17, 3)\n",
      "423\n",
      "(17, 3)\n",
      "424\n",
      "(17, 3)\n",
      "425\n",
      "(17, 3)\n",
      "426\n",
      "(17, 3)\n",
      "427\n",
      "(17, 3)\n",
      "428\n",
      "(17, 3)\n",
      "429\n",
      "(17, 3)\n",
      "430\n",
      "(17, 3)\n",
      "431\n",
      "(17, 3)\n",
      "432\n",
      "(17, 3)\n",
      "433\n",
      "(17, 3)\n",
      "434\n",
      "(17, 3)\n",
      "435\n",
      "(17, 3)\n",
      "436\n",
      "(17, 3)\n",
      "437\n",
      "(17, 3)\n",
      "438\n",
      "(17, 3)\n",
      "439\n",
      "(17, 3)\n",
      "440\n",
      "(17, 3)\n",
      "441\n",
      "(17, 3)\n",
      "442\n",
      "(17, 3)\n",
      "443\n",
      "(17, 3)\n",
      "444\n",
      "(17, 3)\n",
      "445\n",
      "(17, 3)\n",
      "446\n",
      "(17, 3)\n",
      "447\n",
      "(17, 3)\n",
      "448\n",
      "(17, 3)\n",
      "449\n",
      "(17, 3)\n",
      "450\n",
      "(17, 3)\n",
      "451\n",
      "(17, 3)\n",
      "452\n",
      "(17, 3)\n",
      "453\n",
      "(17, 3)\n",
      "454\n",
      "(17, 3)\n",
      "455\n",
      "(17, 3)\n",
      "456\n",
      "(17, 3)\n",
      "457\n",
      "(17, 3)\n",
      "458\n",
      "(17, 3)\n",
      "459\n",
      "(17, 3)\n",
      "460\n",
      "(17, 3)\n",
      "461\n",
      "(17, 3)\n",
      "462\n",
      "(17, 3)\n",
      "463\n",
      "(17, 3)\n",
      "464\n",
      "(17, 3)\n",
      "465\n",
      "(17, 3)\n",
      "466\n",
      "(17, 3)\n",
      "467\n",
      "(17, 3)\n",
      "468\n",
      "(17, 3)\n",
      "469\n",
      "(17, 3)\n",
      "470\n",
      "(17, 3)\n",
      "471\n",
      "(17, 3)\n",
      "472\n",
      "(17, 3)\n",
      "473\n",
      "(17, 3)\n",
      "474\n",
      "(17, 3)\n",
      "475\n",
      "(17, 3)\n",
      "476\n",
      "(17, 3)\n",
      "477\n",
      "(17, 3)\n",
      "478\n",
      "(17, 3)\n",
      "479\n",
      "(17, 3)\n",
      "480\n",
      "(17, 3)\n",
      "481\n",
      "(17, 3)\n",
      "482\n",
      "(17, 3)\n",
      "483\n",
      "(17, 3)\n",
      "484\n",
      "(17, 3)\n",
      "485\n",
      "(17, 3)\n",
      "486\n",
      "(17, 3)\n",
      "487\n",
      "(17, 3)\n",
      "488\n",
      "(17, 3)\n",
      "489\n",
      "(17, 3)\n",
      "490\n",
      "(17, 3)\n",
      "491\n",
      "(17, 3)\n",
      "492\n",
      "(17, 3)\n",
      "493\n",
      "(17, 3)\n",
      "494\n",
      "(17, 3)\n",
      "495\n",
      "(17, 3)\n",
      "496\n",
      "(17, 3)\n",
      "497\n",
      "(17, 3)\n",
      "498\n",
      "(17, 3)\n",
      "499\n",
      "(17, 3)\n",
      "500\n",
      "(17, 3)\n",
      "501\n",
      "(17, 3)\n",
      "502\n",
      "(17, 3)\n",
      "503\n",
      "(17, 3)\n",
      "504\n",
      "(17, 3)\n",
      "505\n",
      "(17, 3)\n",
      "506\n",
      "(17, 3)\n",
      "507\n",
      "(17, 3)\n",
      "508\n",
      "(17, 3)\n",
      "509\n",
      "(17, 3)\n",
      "510\n",
      "(17, 3)\n",
      "511\n",
      "(17, 3)\n",
      "512\n",
      "(17, 3)\n",
      "513\n",
      "(17, 3)\n",
      "514\n",
      "(17, 3)\n",
      "515\n",
      "(17, 3)\n",
      "516\n",
      "(17, 3)\n",
      "517\n",
      "(17, 3)\n",
      "518\n",
      "(17, 3)\n",
      "519\n",
      "(17, 3)\n",
      "520\n",
      "(17, 3)\n",
      "521\n",
      "(17, 3)\n",
      "522\n",
      "(17, 3)\n",
      "523\n",
      "(17, 3)\n",
      "524\n",
      "(17, 3)\n",
      "525\n",
      "(17, 3)\n",
      "526\n",
      "(17, 3)\n",
      "527\n",
      "(17, 3)\n",
      "528\n",
      "(17, 3)\n",
      "529\n",
      "(17, 3)\n",
      "530\n",
      "(17, 3)\n",
      "531\n",
      "(17, 3)\n",
      "532\n",
      "(17, 3)\n",
      "533\n",
      "(17, 3)\n",
      "534\n",
      "(17, 3)\n",
      "535\n",
      "(17, 3)\n",
      "536\n",
      "(17, 3)\n",
      "537\n",
      "(17, 3)\n",
      "538\n",
      "(17, 3)\n",
      "539\n",
      "(17, 3)\n",
      "540\n",
      "(17, 3)\n",
      "541\n",
      "(17, 3)\n",
      "542\n",
      "(17, 3)\n",
      "543\n",
      "(17, 3)\n",
      "544\n",
      "(17, 3)\n",
      "545\n",
      "(17, 3)\n",
      "546\n",
      "(17, 3)\n",
      "547\n",
      "(17, 3)\n",
      "548\n",
      "(17, 3)\n",
      "549\n",
      "(17, 3)\n",
      "550\n",
      "(17, 3)\n",
      "551\n",
      "(17, 3)\n",
      "552\n",
      "(17, 3)\n",
      "553\n",
      "(17, 3)\n",
      "554\n",
      "(17, 3)\n",
      "555\n",
      "(17, 3)\n",
      "556\n",
      "(17, 3)\n",
      "557\n",
      "(17, 3)\n",
      "558\n",
      "(17, 3)\n",
      "559\n",
      "(17, 3)\n",
      "560\n",
      "(17, 3)\n",
      "561\n",
      "(17, 3)\n",
      "562\n",
      "(17, 3)\n",
      "563\n",
      "(17, 3)\n",
      "564\n",
      "(17, 3)\n",
      "565\n",
      "(17, 3)\n",
      "566\n",
      "(17, 3)\n",
      "567\n",
      "(17, 3)\n",
      "568\n",
      "(17, 3)\n",
      "569\n",
      "(17, 3)\n",
      "570\n",
      "(17, 3)\n",
      "571\n",
      "(17, 3)\n",
      "572\n",
      "(17, 3)\n",
      "573\n",
      "(17, 3)\n",
      "574\n",
      "(17, 3)\n",
      "575\n",
      "(17, 3)\n",
      "576\n",
      "(17, 3)\n",
      "577\n",
      "(17, 3)\n",
      "578\n",
      "(17, 3)\n",
      "579\n",
      "(17, 3)\n",
      "580\n",
      "(17, 3)\n",
      "581\n",
      "(17, 3)\n",
      "582\n",
      "(17, 3)\n",
      "583\n",
      "(17, 3)\n",
      "584\n",
      "(17, 3)\n",
      "585\n",
      "(17, 3)\n",
      "586\n",
      "(17, 3)\n",
      "587\n",
      "(17, 3)\n",
      "588\n",
      "(17, 3)\n",
      "589\n",
      "(17, 3)\n",
      "590\n",
      "(17, 3)\n",
      "591\n",
      "(17, 3)\n",
      "592\n",
      "(17, 3)\n",
      "593\n",
      "(17, 3)\n",
      "594\n",
      "(17, 3)\n",
      "595\n",
      "(17, 3)\n",
      "596\n",
      "(17, 3)\n",
      "597\n",
      "(17, 3)\n",
      "598\n",
      "(17, 3)\n",
      "599\n",
      "(17, 3)\n",
      "600\n",
      "(17, 3)\n",
      "601\n",
      "(17, 3)\n",
      "602\n",
      "(17, 3)\n",
      "603\n",
      "(17, 3)\n",
      "604\n",
      "(17, 3)\n",
      "605\n",
      "(17, 3)\n",
      "606\n",
      "(17, 3)\n",
      "607\n",
      "(17, 3)\n",
      "608\n",
      "(17, 3)\n",
      "609\n",
      "(17, 3)\n",
      "610\n",
      "(17, 3)\n",
      "611\n",
      "(17, 3)\n",
      "612\n",
      "(17, 3)\n",
      "613\n",
      "(17, 3)\n",
      "614\n",
      "(17, 3)\n",
      "615\n",
      "(17, 3)\n",
      "616\n",
      "(17, 3)\n",
      "617\n",
      "(17, 3)\n",
      "618\n",
      "(17, 3)\n",
      "619\n",
      "(17, 3)\n",
      "620\n",
      "(17, 3)\n",
      "621\n",
      "(17, 3)\n",
      "622\n",
      "(17, 3)\n",
      "623\n",
      "(17, 3)\n",
      "624\n",
      "(17, 3)\n",
      "625\n",
      "(17, 3)\n",
      "626\n",
      "(17, 3)\n",
      "627\n",
      "(17, 3)\n",
      "628\n",
      "(17, 3)\n",
      "629\n",
      "(17, 3)\n",
      "630\n",
      "(17, 3)\n",
      "631\n",
      "(17, 3)\n",
      "632\n",
      "(17, 3)\n",
      "633\n",
      "(17, 3)\n",
      "634\n",
      "(17, 3)\n",
      "635\n",
      "(17, 3)\n",
      "636\n",
      "(17, 3)\n",
      "637\n",
      "(17, 3)\n",
      "638\n",
      "(17, 3)\n",
      "639\n",
      "(17, 3)\n",
      "640\n",
      "(17, 3)\n",
      "641\n",
      "(17, 3)\n",
      "642\n",
      "(17, 3)\n",
      "643\n",
      "(17, 3)\n",
      "644\n",
      "(17, 3)\n",
      "645\n",
      "(17, 3)\n",
      "646\n",
      "(17, 3)\n",
      "647\n",
      "(17, 3)\n",
      "648\n",
      "(17, 3)\n",
      "649\n",
      "(17, 3)\n",
      "650\n",
      "(17, 3)\n",
      "651\n",
      "(17, 3)\n",
      "652\n",
      "(17, 3)\n",
      "653\n",
      "(17, 3)\n",
      "654\n",
      "(17, 3)\n",
      "655\n",
      "(17, 3)\n",
      "656\n",
      "(17, 3)\n",
      "657\n",
      "(17, 3)\n",
      "658\n",
      "(17, 3)\n",
      "659\n",
      "(17, 3)\n",
      "660\n",
      "(17, 3)\n",
      "661\n",
      "(17, 3)\n",
      "662\n",
      "(17, 3)\n",
      "663\n",
      "(17, 3)\n",
      "664\n",
      "(17, 3)\n",
      "665\n",
      "(17, 3)\n",
      "666\n",
      "(17, 3)\n",
      "667\n",
      "(17, 3)\n",
      "668\n",
      "(17, 3)\n",
      "669\n",
      "(17, 3)\n",
      "670\n",
      "(17, 3)\n",
      "671\n",
      "(17, 3)\n",
      "672\n",
      "(17, 3)\n",
      "673\n",
      "(17, 3)\n",
      "674\n",
      "(17, 3)\n",
      "675\n",
      "(17, 3)\n",
      "676\n",
      "(17, 3)\n",
      "677\n",
      "(17, 3)\n",
      "678\n",
      "(17, 3)\n",
      "679\n",
      "(17, 3)\n",
      "680\n",
      "(17, 3)\n",
      "681\n",
      "(17, 3)\n",
      "682\n",
      "(17, 3)\n",
      "683\n",
      "(17, 3)\n",
      "684\n",
      "(17, 3)\n",
      "685\n",
      "(17, 3)\n",
      "686\n",
      "(17, 3)\n",
      "687\n",
      "(17, 3)\n",
      "688\n",
      "(17, 3)\n",
      "689\n",
      "(17, 3)\n",
      "690\n",
      "(17, 3)\n",
      "691\n",
      "(17, 3)\n",
      "692\n",
      "(17, 3)\n",
      "693\n",
      "(17, 3)\n",
      "694\n",
      "(17, 3)\n",
      "695\n",
      "(17, 3)\n",
      "696\n",
      "(17, 3)\n",
      "697\n",
      "(17, 3)\n",
      "698\n",
      "(17, 3)\n",
      "699\n",
      "(17, 3)\n",
      "700\n",
      "(17, 3)\n",
      "701\n",
      "(17, 3)\n",
      "702\n",
      "(17, 3)\n",
      "703\n",
      "(17, 3)\n",
      "704\n",
      "(17, 3)\n",
      "705\n",
      "(17, 3)\n",
      "706\n",
      "(17, 3)\n",
      "707\n",
      "(17, 3)\n",
      "708\n",
      "(17, 3)\n",
      "709\n",
      "(17, 3)\n",
      "710\n",
      "(17, 3)\n",
      "711\n",
      "(17, 3)\n",
      "712\n",
      "(17, 3)\n",
      "713\n",
      "(17, 3)\n",
      "714\n",
      "(17, 3)\n",
      "715\n",
      "(17, 3)\n",
      "716\n",
      "(17, 3)\n",
      "717\n",
      "(17, 3)\n",
      "718\n",
      "(17, 3)\n",
      "719\n",
      "(17, 3)\n",
      "720\n",
      "(17, 3)\n",
      "721\n",
      "(17, 3)\n",
      "722\n",
      "(17, 3)\n",
      "723\n",
      "(17, 3)\n",
      "724\n",
      "(17, 3)\n",
      "725\n",
      "(17, 3)\n",
      "726\n",
      "(17, 3)\n",
      "727\n",
      "(17, 3)\n",
      "728\n",
      "(17, 3)\n",
      "729\n",
      "(17, 3)\n",
      "730\n",
      "(17, 3)\n",
      "731\n",
      "(17, 3)\n",
      "732\n",
      "(17, 3)\n",
      "733\n",
      "(17, 3)\n",
      "734\n",
      "(17, 3)\n",
      "735\n",
      "(17, 3)\n",
      "736\n",
      "(17, 3)\n",
      "737\n",
      "(17, 3)\n",
      "738\n",
      "(17, 3)\n",
      "739\n",
      "(17, 3)\n",
      "740\n",
      "(17, 3)\n",
      "741\n",
      "(17, 3)\n",
      "742\n",
      "(17, 3)\n",
      "743\n",
      "(17, 3)\n",
      "744\n",
      "(17, 3)\n",
      "745\n",
      "(17, 3)\n",
      "746\n",
      "(17, 3)\n",
      "747\n",
      "(17, 3)\n",
      "748\n",
      "(17, 3)\n",
      "749\n",
      "(17, 3)\n",
      "750\n",
      "(17, 3)\n",
      "751\n",
      "(17, 3)\n",
      "752\n",
      "(17, 3)\n",
      "753\n",
      "(17, 3)\n",
      "754\n",
      "(17, 3)\n",
      "755\n",
      "(17, 3)\n",
      "756\n",
      "(17, 3)\n",
      "757\n",
      "(17, 3)\n",
      "758\n",
      "(17, 3)\n",
      "759\n",
      "(17, 3)\n",
      "760\n",
      "(17, 3)\n",
      "761\n",
      "(17, 3)\n",
      "762\n",
      "(17, 3)\n",
      "763\n",
      "(17, 3)\n",
      "764\n",
      "(17, 3)\n",
      "765\n",
      "(17, 3)\n",
      "766\n",
      "(17, 3)\n",
      "767\n",
      "(17, 3)\n",
      "768\n",
      "(17, 3)\n",
      "769\n",
      "(17, 3)\n",
      "770\n",
      "(17, 3)\n",
      "771\n",
      "(17, 3)\n",
      "772\n",
      "(17, 3)\n",
      "773\n",
      "(17, 3)\n",
      "774\n",
      "(17, 3)\n",
      "775\n",
      "(17, 3)\n",
      "776\n",
      "(17, 3)\n",
      "777\n",
      "(17, 3)\n",
      "778\n",
      "(17, 3)\n",
      "779\n",
      "(17, 3)\n",
      "780\n",
      "(17, 3)\n",
      "781\n",
      "(17, 3)\n",
      "782\n",
      "(17, 3)\n",
      "783\n",
      "(17, 3)\n",
      "784\n",
      "(17, 3)\n",
      "785\n",
      "(17, 3)\n",
      "786\n",
      "(17, 3)\n",
      "787\n",
      "(17, 3)\n",
      "788\n",
      "(17, 3)\n",
      "789\n",
      "(17, 3)\n",
      "790\n",
      "(17, 3)\n",
      "791\n",
      "(17, 3)\n",
      "792\n",
      "(17, 3)\n",
      "793\n",
      "(17, 3)\n",
      "794\n",
      "(17, 3)\n",
      "795\n",
      "(17, 3)\n",
      "796\n",
      "(17, 3)\n",
      "797\n",
      "(17, 3)\n",
      "798\n",
      "(17, 3)\n",
      "799\n",
      "(17, 3)\n",
      "800\n",
      "(17, 3)\n",
      "801\n",
      "(17, 3)\n",
      "802\n",
      "(17, 3)\n",
      "803\n",
      "(17, 3)\n",
      "804\n",
      "(17, 3)\n",
      "805\n",
      "(17, 3)\n",
      "806\n",
      "(17, 3)\n",
      "807\n",
      "(17, 3)\n",
      "808\n",
      "(17, 3)\n",
      "809\n",
      "(17, 3)\n",
      "810\n",
      "(17, 3)\n",
      "811\n",
      "(17, 3)\n",
      "812\n",
      "(17, 3)\n",
      "813\n",
      "(17, 3)\n",
      "814\n",
      "(17, 3)\n",
      "815\n",
      "(17, 3)\n",
      "816\n",
      "(17, 3)\n",
      "817\n",
      "(17, 3)\n",
      "818\n",
      "(17, 3)\n",
      "819\n",
      "(17, 3)\n",
      "820\n",
      "(17, 3)\n",
      "821\n",
      "(17, 3)\n",
      "822\n",
      "(17, 3)\n",
      "823\n",
      "(17, 3)\n",
      "824\n",
      "(17, 3)\n",
      "825\n",
      "(17, 3)\n",
      "826\n",
      "(17, 3)\n",
      "827\n",
      "(17, 3)\n",
      "828\n",
      "(17, 3)\n",
      "829\n",
      "(17, 3)\n",
      "830\n",
      "(17, 3)\n",
      "831\n",
      "(17, 3)\n",
      "832\n",
      "(17, 3)\n",
      "833\n",
      "(17, 3)\n",
      "834\n",
      "(17, 3)\n",
      "835\n",
      "(17, 3)\n",
      "836\n",
      "(17, 3)\n",
      "837\n",
      "(17, 3)\n",
      "838\n",
      "(17, 3)\n",
      "839\n",
      "(17, 3)\n",
      "840\n",
      "(17, 3)\n",
      "841\n",
      "(17, 3)\n",
      "842\n",
      "(17, 3)\n",
      "843\n",
      "(17, 3)\n",
      "844\n",
      "(17, 3)\n",
      "845\n",
      "(17, 3)\n",
      "846\n",
      "(17, 3)\n",
      "847\n",
      "(17, 3)\n",
      "848\n",
      "(17, 3)\n",
      "849\n",
      "(17, 3)\n",
      "850\n",
      "(17, 3)\n",
      "851\n",
      "(17, 3)\n",
      "852\n",
      "(17, 3)\n",
      "853\n",
      "(17, 3)\n",
      "854\n",
      "(17, 3)\n",
      "855\n",
      "(17, 3)\n",
      "856\n",
      "(17, 3)\n",
      "857\n",
      "(17, 3)\n",
      "858\n",
      "(17, 3)\n",
      "859\n",
      "(17, 3)\n",
      "860\n",
      "(17, 3)\n",
      "861\n",
      "(17, 3)\n",
      "862\n",
      "(17, 3)\n",
      "863\n",
      "(17, 3)\n",
      "864\n",
      "(17, 3)\n",
      "865\n",
      "(17, 3)\n",
      "866\n",
      "(17, 3)\n",
      "867\n",
      "(17, 3)\n",
      "868\n",
      "(17, 3)\n",
      "869\n",
      "(17, 3)\n",
      "870\n",
      "(17, 3)\n",
      "871\n",
      "(17, 3)\n",
      "872\n",
      "(17, 3)\n",
      "873\n",
      "(17, 3)\n",
      "874\n",
      "(17, 3)\n",
      "875\n",
      "(17, 3)\n",
      "876\n",
      "(17, 3)\n",
      "877\n",
      "(17, 3)\n",
      "878\n",
      "(17, 3)\n",
      "879\n",
      "(17, 3)\n",
      "880\n",
      "(17, 3)\n",
      "881\n",
      "(17, 3)\n",
      "882\n",
      "(17, 3)\n",
      "883\n",
      "(17, 3)\n",
      "884\n",
      "(17, 3)\n",
      "885\n",
      "(17, 3)\n",
      "886\n",
      "(17, 3)\n",
      "887\n",
      "(17, 3)\n",
      "888\n",
      "(17, 3)\n",
      "889\n",
      "(17, 3)\n",
      "890\n",
      "(17, 3)\n",
      "891\n",
      "(17, 3)\n",
      "892\n",
      "(17, 3)\n",
      "893\n",
      "(17, 3)\n",
      "894\n",
      "(17, 3)\n",
      "895\n",
      "(17, 3)\n",
      "896\n",
      "(17, 3)\n",
      "897\n",
      "(17, 3)\n",
      "898\n",
      "(17, 3)\n",
      "899\n",
      "(17, 3)\n",
      "900\n",
      "(17, 3)\n",
      "901\n",
      "(17, 3)\n",
      "902\n",
      "(17, 3)\n",
      "903\n",
      "(17, 3)\n",
      "904\n",
      "(17, 3)\n",
      "905\n",
      "(17, 3)\n",
      "906\n",
      "(17, 3)\n",
      "907\n",
      "(17, 3)\n",
      "908\n",
      "(17, 3)\n",
      "909\n",
      "(17, 3)\n",
      "910\n",
      "(17, 3)\n",
      "911\n",
      "(17, 3)\n",
      "912\n",
      "(17, 3)\n",
      "913\n",
      "(17, 3)\n",
      "914\n",
      "(17, 3)\n",
      "915\n",
      "(17, 3)\n",
      "916\n",
      "(17, 3)\n",
      "917\n",
      "(17, 3)\n",
      "918\n",
      "(17, 3)\n",
      "919\n",
      "(17, 3)\n",
      "920\n",
      "(17, 3)\n",
      "921\n",
      "(17, 3)\n",
      "922\n",
      "(17, 3)\n",
      "923\n",
      "(17, 3)\n",
      "924\n",
      "(17, 3)\n",
      "925\n",
      "(17, 3)\n",
      "926\n",
      "(17, 3)\n",
      "927\n",
      "(17, 3)\n",
      "928\n",
      "(17, 3)\n",
      "929\n",
      "(17, 3)\n",
      "930\n",
      "(17, 3)\n",
      "931\n",
      "(17, 3)\n",
      "932\n",
      "(17, 3)\n",
      "933\n",
      "(17, 3)\n",
      "934\n",
      "(17, 3)\n",
      "935\n",
      "(17, 3)\n",
      "936\n",
      "(17, 3)\n",
      "937\n",
      "(17, 3)\n",
      "938\n",
      "(17, 3)\n",
      "939\n",
      "(17, 3)\n",
      "940\n",
      "(17, 3)\n",
      "941\n",
      "(17, 3)\n",
      "942\n",
      "(17, 3)\n",
      "943\n",
      "(17, 3)\n",
      "944\n",
      "(17, 3)\n",
      "945\n",
      "(17, 3)\n",
      "946\n",
      "(17, 3)\n",
      "947\n",
      "(17, 3)\n",
      "948\n",
      "(17, 3)\n",
      "949\n",
      "(17, 3)\n",
      "950\n",
      "(17, 3)\n",
      "951\n",
      "(17, 3)\n",
      "952\n",
      "(17, 3)\n",
      "953\n",
      "(17, 3)\n",
      "954\n",
      "(17, 3)\n",
      "955\n",
      "(17, 3)\n",
      "956\n",
      "(17, 3)\n",
      "957\n",
      "(17, 3)\n",
      "958\n",
      "(17, 3)\n",
      "959\n",
      "(17, 3)\n",
      "960\n",
      "(17, 3)\n",
      "961\n",
      "(17, 3)\n",
      "962\n",
      "(17, 3)\n",
      "963\n",
      "(17, 3)\n",
      "964\n",
      "(17, 3)\n",
      "965\n",
      "(17, 3)\n",
      "966\n",
      "(17, 3)\n",
      "967\n",
      "(17, 3)\n",
      "968\n",
      "(17, 3)\n",
      "969\n",
      "(17, 3)\n",
      "970\n",
      "(17, 3)\n",
      "971\n",
      "(17, 3)\n",
      "972\n",
      "(17, 3)\n",
      "973\n",
      "(17, 3)\n",
      "974\n",
      "(17, 3)\n",
      "975\n",
      "(17, 3)\n",
      "976\n",
      "(17, 3)\n",
      "977\n",
      "(17, 3)\n",
      "978\n",
      "(17, 3)\n",
      "979\n",
      "(17, 3)\n",
      "980\n",
      "(17, 3)\n",
      "981\n",
      "(17, 3)\n",
      "982\n",
      "(17, 3)\n",
      "983\n",
      "(17, 3)\n",
      "984\n",
      "(17, 3)\n",
      "985\n",
      "(17, 3)\n",
      "986\n",
      "(17, 3)\n",
      "987\n",
      "(17, 3)\n",
      "988\n",
      "(17, 3)\n",
      "989\n",
      "(17, 3)\n",
      "990\n",
      "(17, 3)\n",
      "991\n",
      "(17, 3)\n",
      "992\n",
      "(17, 3)\n",
      "993\n",
      "(17, 3)\n",
      "994\n",
      "(17, 3)\n",
      "995\n",
      "(17, 3)\n",
      "996\n",
      "(17, 3)\n",
      "997\n",
      "(17, 3)\n",
      "998\n",
      "(17, 3)\n",
      "999\n",
      "(17, 3)\n",
      "1000\n",
      "(17, 3)\n",
      "1001\n",
      "(17, 3)\n",
      "1002\n",
      "(17, 3)\n",
      "1003\n",
      "(17, 3)\n",
      "1004\n",
      "(17, 3)\n",
      "1005\n",
      "(17, 3)\n",
      "1006\n",
      "(17, 3)\n",
      "1007\n",
      "(17, 3)\n",
      "1008\n",
      "(17, 3)\n",
      "1009\n",
      "(17, 3)\n",
      "1010\n",
      "(17, 3)\n",
      "1011\n",
      "(17, 3)\n",
      "1012\n",
      "(17, 3)\n",
      "1013\n",
      "(17, 3)\n",
      "1014\n",
      "(17, 3)\n",
      "1015\n",
      "(17, 3)\n",
      "1016\n",
      "(17, 3)\n",
      "1017\n",
      "(17, 3)\n",
      "1018\n",
      "(17, 3)\n",
      "1019\n",
      "(17, 3)\n",
      "1020\n",
      "(17, 3)\n",
      "1021\n",
      "(17, 3)\n",
      "1022\n",
      "(17, 3)\n",
      "1023\n",
      "(17, 3)\n",
      "1024\n",
      "(17, 3)\n",
      "1025\n",
      "(17, 3)\n",
      "1026\n",
      "(17, 3)\n",
      "1027\n",
      "(17, 3)\n",
      "1028\n",
      "(17, 3)\n",
      "1029\n",
      "(17, 3)\n",
      "1030\n",
      "(17, 3)\n",
      "1031\n",
      "(17, 3)\n",
      "1032\n",
      "(17, 3)\n",
      "1033\n",
      "(17, 3)\n",
      "1034\n",
      "(17, 3)\n",
      "1035\n",
      "(17, 3)\n",
      "1036\n",
      "(17, 3)\n",
      "1037\n",
      "(17, 3)\n",
      "1038\n",
      "(17, 3)\n",
      "1039\n",
      "(17, 3)\n",
      "1040\n",
      "(17, 3)\n",
      "1041\n",
      "(17, 3)\n",
      "1042\n",
      "(17, 3)\n",
      "1043\n",
      "(17, 3)\n",
      "1044\n",
      "(17, 3)\n",
      "1045\n",
      "(17, 3)\n",
      "1046\n",
      "(17, 3)\n",
      "1047\n",
      "(17, 3)\n",
      "1048\n",
      "(17, 3)\n",
      "1049\n",
      "(17, 3)\n",
      "1050\n",
      "(17, 3)\n",
      "1051\n",
      "(17, 3)\n",
      "1052\n",
      "(17, 3)\n",
      "1053\n",
      "(17, 3)\n",
      "1054\n",
      "(17, 3)\n",
      "1055\n",
      "(17, 3)\n",
      "1056\n",
      "(17, 3)\n",
      "1057\n",
      "(17, 3)\n",
      "1058\n",
      "(17, 3)\n",
      "1059\n",
      "(17, 3)\n",
      "1060\n",
      "(17, 3)\n",
      "1061\n",
      "(17, 3)\n",
      "1062\n",
      "(17, 3)\n",
      "1063\n",
      "(17, 3)\n",
      "1064\n",
      "(17, 3)\n",
      "1065\n",
      "(17, 3)\n",
      "1066\n",
      "(17, 3)\n",
      "1067\n",
      "(17, 3)\n",
      "1068\n",
      "(17, 3)\n",
      "1069\n",
      "(17, 3)\n",
      "1070\n",
      "(17, 3)\n",
      "1071\n",
      "(17, 3)\n",
      "1072\n",
      "(17, 3)\n",
      "1073\n",
      "(17, 3)\n",
      "1074\n",
      "(17, 3)\n",
      "1075\n",
      "(17, 3)\n",
      "1076\n",
      "(17, 3)\n",
      "1077\n",
      "(17, 3)\n",
      "1078\n",
      "(17, 3)\n",
      "1079\n",
      "(17, 3)\n",
      "1080\n",
      "(17, 3)\n",
      "1081\n",
      "(17, 3)\n",
      "1082\n",
      "(17, 3)\n",
      "1083\n",
      "(17, 3)\n",
      "1084\n",
      "(17, 3)\n",
      "1085\n",
      "(17, 3)\n",
      "1086\n",
      "(17, 3)\n",
      "1087\n",
      "(17, 3)\n",
      "1088\n",
      "(17, 3)\n",
      "1089\n",
      "(17, 3)\n",
      "1090\n",
      "(17, 3)\n",
      "1091\n",
      "(17, 3)\n",
      "1092\n",
      "(17, 3)\n",
      "1093\n",
      "(17, 3)\n",
      "1094\n",
      "(17, 3)\n",
      "1095\n",
      "(17, 3)\n",
      "1096\n",
      "(17, 3)\n",
      "1097\n",
      "(17, 3)\n",
      "1098\n",
      "(17, 3)\n",
      "1099\n",
      "(17, 3)\n",
      "1100\n",
      "(17, 3)\n",
      "1101\n",
      "(17, 3)\n",
      "1102\n",
      "(17, 3)\n",
      "1103\n",
      "(17, 3)\n",
      "1104\n",
      "(17, 3)\n",
      "1105\n",
      "(17, 3)\n",
      "1106\n",
      "(17, 3)\n",
      "1107\n",
      "(17, 3)\n",
      "1108\n",
      "(17, 3)\n",
      "1109\n",
      "(17, 3)\n",
      "1110\n",
      "(17, 3)\n",
      "1111\n",
      "(17, 3)\n",
      "1112\n",
      "(17, 3)\n",
      "1113\n",
      "(17, 3)\n",
      "1114\n",
      "(17, 3)\n",
      "1115\n",
      "(17, 3)\n",
      "1116\n",
      "(17, 3)\n",
      "1117\n",
      "(17, 3)\n",
      "1118\n",
      "(17, 3)\n",
      "1119\n",
      "(17, 3)\n",
      "1120\n",
      "(17, 3)\n",
      "1121\n",
      "(17, 3)\n",
      "1122\n",
      "(17, 3)\n",
      "1123\n",
      "(17, 3)\n",
      "1124\n",
      "(17, 3)\n",
      "1125\n",
      "(17, 3)\n",
      "1126\n",
      "(17, 3)\n",
      "1127\n",
      "(17, 3)\n",
      "1128\n",
      "(17, 3)\n",
      "1129\n",
      "(17, 3)\n",
      "1130\n",
      "(17, 3)\n",
      "1131\n",
      "(17, 3)\n",
      "1132\n",
      "(17, 3)\n",
      "1133\n",
      "(17, 3)\n",
      "1134\n",
      "(17, 3)\n",
      "1135\n",
      "(17, 3)\n",
      "1136\n",
      "(17, 3)\n",
      "1137\n",
      "(17, 3)\n",
      "1138\n",
      "(17, 3)\n",
      "1139\n",
      "(17, 3)\n",
      "1140\n",
      "(17, 3)\n",
      "1141\n",
      "(17, 3)\n",
      "1142\n",
      "(17, 3)\n",
      "1143\n",
      "(17, 3)\n",
      "1144\n",
      "(17, 3)\n",
      "1145\n",
      "(17, 3)\n",
      "1146\n",
      "(17, 3)\n",
      "1147\n",
      "(17, 3)\n",
      "1148\n",
      "(17, 3)\n",
      "1149\n",
      "(17, 3)\n",
      "1150\n",
      "(17, 3)\n",
      "1151\n",
      "(17, 3)\n",
      "1152\n",
      "(17, 3)\n",
      "1153\n",
      "(17, 3)\n",
      "1154\n",
      "(17, 3)\n",
      "1155\n",
      "(17, 3)\n",
      "1156\n",
      "(17, 3)\n",
      "1157\n",
      "(17, 3)\n",
      "1158\n",
      "(17, 3)\n",
      "1159\n",
      "(17, 3)\n",
      "1160\n",
      "(17, 3)\n",
      "1161\n",
      "(17, 3)\n",
      "1162\n",
      "(17, 3)\n",
      "1163\n",
      "(17, 3)\n",
      "1164\n",
      "(17, 3)\n",
      "1165\n",
      "(17, 3)\n",
      "1166\n",
      "(17, 3)\n",
      "1167\n",
      "(17, 3)\n",
      "1168\n",
      "(17, 3)\n",
      "1169\n",
      "(17, 3)\n",
      "1170\n",
      "(17, 3)\n",
      "1171\n",
      "(17, 3)\n",
      "1172\n",
      "(17, 3)\n",
      "1173\n",
      "(17, 3)\n",
      "1174\n",
      "(17, 3)\n",
      "1175\n",
      "(17, 3)\n",
      "1176\n",
      "(17, 3)\n",
      "1177\n",
      "(17, 3)\n",
      "1178\n",
      "(17, 3)\n",
      "1179\n",
      "(17, 3)\n",
      "1180\n",
      "(17, 3)\n",
      "1181\n",
      "(17, 3)\n",
      "1182\n",
      "(17, 3)\n",
      "1183\n",
      "(17, 3)\n",
      "1184\n",
      "(17, 3)\n",
      "1185\n",
      "(17, 3)\n",
      "1186\n",
      "(17, 3)\n",
      "1187\n",
      "(17, 3)\n",
      "1188\n",
      "(17, 3)\n",
      "1189\n",
      "(17, 3)\n",
      "1190\n",
      "(17, 3)\n",
      "1191\n",
      "(17, 3)\n",
      "1192\n",
      "(17, 3)\n",
      "1193\n",
      "(17, 3)\n",
      "1194\n",
      "(17, 3)\n",
      "1195\n",
      "(17, 3)\n",
      "1196\n",
      "(17, 3)\n",
      "1197\n",
      "(17, 3)\n",
      "1198\n",
      "(17, 3)\n",
      "1199\n",
      "(17, 3)\n",
      "1200\n",
      "(17, 3)\n",
      "1201\n",
      "(17, 3)\n",
      "1202\n",
      "(17, 3)\n",
      "1203\n",
      "(17, 3)\n",
      "1204\n",
      "(17, 3)\n",
      "1205\n",
      "(17, 3)\n",
      "1206\n",
      "(17, 3)\n",
      "1207\n",
      "(17, 3)\n",
      "1208\n",
      "(17, 3)\n",
      "1209\n",
      "(17, 3)\n",
      "1210\n",
      "(17, 3)\n",
      "1211\n",
      "(17, 3)\n",
      "1212\n",
      "(17, 3)\n",
      "1213\n",
      "(17, 3)\n",
      "1214\n",
      "(17, 3)\n",
      "1215\n",
      "(17, 3)\n",
      "1216\n",
      "(17, 3)\n",
      "1217\n",
      "(17, 3)\n",
      "1218\n",
      "(17, 3)\n",
      "1219\n",
      "(17, 3)\n",
      "1220\n",
      "(17, 3)\n",
      "1221\n",
      "(17, 3)\n",
      "1222\n",
      "(17, 3)\n",
      "1223\n",
      "(17, 3)\n",
      "1224\n",
      "(17, 3)\n",
      "1225\n",
      "(17, 3)\n",
      "1226\n",
      "(17, 3)\n",
      "1227\n",
      "(17, 3)\n",
      "1228\n",
      "(17, 3)\n",
      "1229\n",
      "(17, 3)\n",
      "1230\n",
      "(17, 3)\n",
      "1231\n",
      "(17, 3)\n",
      "1232\n",
      "(17, 3)\n",
      "1233\n",
      "(17, 3)\n",
      "1234\n",
      "(17, 3)\n",
      "1235\n",
      "(17, 3)\n",
      "1236\n",
      "(17, 3)\n",
      "1237\n",
      "(17, 3)\n",
      "1238\n",
      "(17, 3)\n",
      "1239\n",
      "(17, 3)\n",
      "1240\n",
      "(17, 3)\n",
      "1241\n",
      "(17, 3)\n",
      "1242\n",
      "(17, 3)\n",
      "1243\n",
      "(17, 3)\n",
      "1244\n",
      "(17, 3)\n",
      "1245\n",
      "(17, 3)\n",
      "1246\n",
      "(17, 3)\n",
      "1247\n",
      "(17, 3)\n",
      "1248\n",
      "(17, 3)\n",
      "1249\n",
      "(17, 3)\n",
      "1250\n",
      "(17, 3)\n",
      "1251\n",
      "(17, 3)\n",
      "1252\n",
      "(17, 3)\n",
      "1253\n",
      "(17, 3)\n",
      "1254\n",
      "(17, 3)\n",
      "1255\n",
      "(17, 3)\n",
      "1256\n",
      "(17, 3)\n",
      "1257\n",
      "(17, 3)\n",
      "1258\n",
      "(17, 3)\n",
      "1259\n",
      "(17, 3)\n",
      "1260\n",
      "(17, 3)\n",
      "1261\n",
      "(17, 3)\n",
      "1262\n",
      "(17, 3)\n",
      "1263\n",
      "(17, 3)\n",
      "1264\n",
      "(17, 3)\n",
      "1265\n",
      "(17, 3)\n",
      "1266\n",
      "(17, 3)\n",
      "1267\n",
      "(17, 3)\n",
      "1268\n",
      "(17, 3)\n",
      "1269\n",
      "(17, 3)\n",
      "1270\n",
      "(17, 3)\n",
      "1271\n",
      "(17, 3)\n",
      "1272\n",
      "(17, 3)\n",
      "1273\n",
      "(17, 3)\n",
      "1274\n",
      "(17, 3)\n",
      "1275\n",
      "(17, 3)\n",
      "1276\n",
      "(17, 3)\n",
      "1277\n",
      "(17, 3)\n",
      "1278\n",
      "(17, 3)\n",
      "1279\n",
      "(17, 3)\n",
      "1280\n",
      "(17, 3)\n",
      "1281\n",
      "(17, 3)\n",
      "1282\n",
      "(17, 3)\n",
      "1283\n",
      "(17, 3)\n",
      "1284\n",
      "(17, 3)\n",
      "1285\n",
      "(17, 3)\n",
      "1286\n",
      "(17, 3)\n",
      "1287\n",
      "(17, 3)\n",
      "1288\n",
      "(17, 3)\n",
      "1289\n",
      "(17, 3)\n",
      "1290\n",
      "(17, 3)\n",
      "1291\n",
      "(17, 3)\n",
      "1292\n",
      "(17, 3)\n",
      "1293\n",
      "(17, 3)\n",
      "1294\n",
      "(17, 3)\n",
      "1295\n",
      "(17, 3)\n",
      "1296\n",
      "(17, 3)\n",
      "1297\n",
      "(17, 3)\n",
      "1298\n",
      "(17, 3)\n",
      "1299\n",
      "(17, 3)\n",
      "1300\n",
      "(17, 3)\n",
      "1301\n",
      "(17, 3)\n",
      "1302\n",
      "(17, 3)\n",
      "1303\n",
      "(17, 3)\n",
      "1304\n",
      "(17, 3)\n",
      "1305\n",
      "(17, 3)\n",
      "1306\n",
      "(17, 3)\n",
      "1307\n",
      "(17, 3)\n",
      "1308\n",
      "(17, 3)\n",
      "1309\n",
      "(17, 3)\n",
      "1310\n",
      "(17, 3)\n",
      "1311\n",
      "(17, 3)\n",
      "1312\n",
      "(17, 3)\n",
      "1313\n",
      "(17, 3)\n",
      "1314\n",
      "(17, 3)\n",
      "1315\n",
      "(17, 3)\n",
      "1316\n",
      "(17, 3)\n",
      "1317\n",
      "(17, 3)\n",
      "1318\n",
      "(17, 3)\n",
      "1319\n",
      "(17, 3)\n",
      "1320\n",
      "(17, 3)\n",
      "1321\n",
      "(17, 3)\n",
      "1322\n",
      "(17, 3)\n",
      "1323\n",
      "(17, 3)\n",
      "1324\n",
      "(17, 3)\n",
      "1325\n",
      "(17, 3)\n",
      "1326\n",
      "(17, 3)\n",
      "1327\n",
      "(17, 3)\n",
      "1328\n",
      "(17, 3)\n",
      "1329\n",
      "(17, 3)\n",
      "1330\n",
      "(17, 3)\n",
      "1331\n",
      "(17, 3)\n",
      "1332\n",
      "(17, 3)\n",
      "1333\n",
      "(17, 3)\n",
      "1334\n",
      "(17, 3)\n",
      "1335\n",
      "(17, 3)\n",
      "1336\n",
      "(17, 3)\n",
      "1337\n",
      "(17, 3)\n",
      "1338\n",
      "(17, 3)\n",
      "1339\n",
      "(17, 3)\n",
      "1340\n",
      "(17, 3)\n",
      "1341\n",
      "(17, 3)\n",
      "1342\n",
      "(17, 3)\n",
      "1343\n",
      "(17, 3)\n",
      "1344\n",
      "(17, 3)\n",
      "1345\n",
      "(17, 3)\n",
      "1346\n",
      "(17, 3)\n",
      "1347\n",
      "(17, 3)\n",
      "1348\n",
      "(17, 3)\n",
      "1349\n",
      "(17, 3)\n",
      "1350\n",
      "(17, 3)\n",
      "1351\n",
      "(17, 3)\n",
      "1352\n",
      "(17, 3)\n",
      "1353\n",
      "(17, 3)\n",
      "1354\n",
      "(17, 3)\n",
      "1355\n",
      "(17, 3)\n",
      "1356\n",
      "(17, 3)\n",
      "1357\n",
      "(17, 3)\n",
      "1358\n",
      "(17, 3)\n",
      "1359\n",
      "(17, 3)\n",
      "1360\n",
      "(17, 3)\n",
      "1361\n",
      "(17, 3)\n",
      "1362\n",
      "(17, 3)\n",
      "1363\n",
      "(17, 3)\n",
      "1364\n",
      "(17, 3)\n",
      "1365\n",
      "(17, 3)\n",
      "1366\n",
      "(17, 3)\n",
      "1367\n",
      "(17, 3)\n",
      "1368\n",
      "(17, 3)\n",
      "1369\n",
      "(17, 3)\n",
      "1370\n",
      "(17, 3)\n",
      "1371\n",
      "(17, 3)\n",
      "1372\n",
      "(17, 3)\n",
      "1373\n",
      "(17, 3)\n",
      "1374\n",
      "(17, 3)\n",
      "1375\n",
      "(17, 3)\n",
      "1376\n",
      "(17, 3)\n",
      "1377\n",
      "(17, 3)\n",
      "1378\n",
      "(17, 3)\n",
      "1379\n",
      "(17, 3)\n",
      "1380\n",
      "(17, 3)\n",
      "1381\n",
      "(17, 3)\n",
      "1382\n",
      "(17, 3)\n",
      "1383\n",
      "(17, 3)\n",
      "1384\n",
      "(17, 3)\n",
      "1385\n",
      "(17, 3)\n",
      "1386\n",
      "(17, 3)\n",
      "1387\n",
      "(17, 3)\n",
      "1388\n",
      "(17, 3)\n",
      "1389\n",
      "(17, 3)\n",
      "1390\n",
      "(17, 3)\n",
      "1391\n",
      "(17, 3)\n",
      "1392\n",
      "(17, 3)\n",
      "1393\n",
      "(17, 3)\n",
      "1394\n",
      "(17, 3)\n",
      "1395\n",
      "(17, 3)\n",
      "1396\n",
      "(17, 3)\n",
      "1397\n",
      "(17, 3)\n",
      "0\n",
      "(17, 3)\n",
      "1\n",
      "(17, 3)\n",
      "2\n",
      "(17, 3)\n",
      "3\n",
      "(17, 3)\n",
      "4\n",
      "(17, 3)\n",
      "5\n",
      "(17, 3)\n",
      "6\n",
      "(17, 3)\n",
      "7\n",
      "(17, 3)\n",
      "8\n",
      "(17, 3)\n",
      "9\n",
      "(17, 3)\n",
      "10\n",
      "(17, 3)\n",
      "11\n",
      "(17, 3)\n",
      "12\n",
      "(17, 3)\n",
      "13\n",
      "(17, 3)\n",
      "14\n",
      "(17, 3)\n",
      "15\n",
      "(17, 3)\n",
      "16\n",
      "(17, 3)\n",
      "17\n",
      "(17, 3)\n",
      "18\n",
      "(17, 3)\n",
      "19\n",
      "(17, 3)\n",
      "20\n",
      "(17, 3)\n",
      "21\n",
      "(17, 3)\n",
      "22\n",
      "(17, 3)\n",
      "23\n",
      "(17, 3)\n",
      "24\n",
      "(17, 3)\n",
      "25\n",
      "(17, 3)\n",
      "26\n",
      "(17, 3)\n",
      "27\n",
      "(17, 3)\n",
      "28\n",
      "(17, 3)\n",
      "29\n",
      "(17, 3)\n",
      "30\n",
      "(17, 3)\n",
      "31\n",
      "(17, 3)\n",
      "32\n",
      "(17, 3)\n",
      "33\n",
      "(17, 3)\n",
      "34\n",
      "(17, 3)\n",
      "35\n",
      "(17, 3)\n",
      "36\n",
      "(17, 3)\n",
      "37\n",
      "(17, 3)\n",
      "38\n",
      "(17, 3)\n",
      "39\n",
      "(17, 3)\n",
      "40\n",
      "(17, 3)\n",
      "41\n",
      "(17, 3)\n",
      "42\n",
      "(17, 3)\n",
      "43\n",
      "(17, 3)\n",
      "44\n",
      "(17, 3)\n",
      "45\n",
      "(17, 3)\n",
      "46\n",
      "(17, 3)\n",
      "47\n",
      "(17, 3)\n",
      "48\n",
      "(17, 3)\n",
      "49\n",
      "(17, 3)\n",
      "50\n",
      "(17, 3)\n",
      "51\n",
      "(17, 3)\n",
      "52\n",
      "(17, 3)\n",
      "53\n",
      "(17, 3)\n",
      "54\n",
      "(17, 3)\n",
      "55\n",
      "(17, 3)\n",
      "56\n",
      "(17, 3)\n",
      "57\n",
      "(17, 3)\n",
      "58\n",
      "(17, 3)\n",
      "59\n",
      "(17, 3)\n",
      "60\n",
      "(17, 3)\n",
      "61\n",
      "(17, 3)\n",
      "62\n",
      "(17, 3)\n",
      "63\n",
      "(17, 3)\n",
      "64\n",
      "(17, 3)\n",
      "65\n",
      "(17, 3)\n",
      "66\n",
      "(17, 3)\n",
      "67\n",
      "(17, 3)\n",
      "68\n",
      "(17, 3)\n",
      "69\n",
      "(17, 3)\n",
      "70\n",
      "(17, 3)\n",
      "71\n",
      "(17, 3)\n",
      "72\n",
      "(17, 3)\n",
      "73\n",
      "(17, 3)\n",
      "74\n",
      "(17, 3)\n",
      "75\n",
      "(17, 3)\n",
      "76\n",
      "(17, 3)\n",
      "77\n",
      "(17, 3)\n",
      "78\n",
      "(17, 3)\n",
      "79\n",
      "(17, 3)\n",
      "80\n",
      "(17, 3)\n",
      "81\n",
      "(17, 3)\n",
      "82\n",
      "(17, 3)\n",
      "83\n",
      "(17, 3)\n",
      "84\n",
      "(17, 3)\n",
      "85\n",
      "(17, 3)\n",
      "86\n",
      "(17, 3)\n",
      "87\n",
      "(17, 3)\n",
      "88\n",
      "(17, 3)\n",
      "89\n",
      "(17, 3)\n",
      "90\n",
      "(17, 3)\n",
      "91\n",
      "(17, 3)\n",
      "92\n",
      "(17, 3)\n",
      "93\n",
      "(17, 3)\n",
      "94\n",
      "(17, 3)\n",
      "95\n",
      "(17, 3)\n",
      "96\n",
      "(17, 3)\n",
      "97\n",
      "(17, 3)\n",
      "98\n",
      "(17, 3)\n",
      "99\n",
      "(17, 3)\n",
      "100\n",
      "(17, 3)\n",
      "101\n",
      "(17, 3)\n",
      "102\n",
      "(17, 3)\n",
      "103\n",
      "(17, 3)\n",
      "104\n",
      "(17, 3)\n",
      "105\n",
      "(17, 3)\n",
      "106\n",
      "(17, 3)\n",
      "107\n",
      "(17, 3)\n",
      "108\n",
      "(17, 3)\n",
      "109\n",
      "(17, 3)\n",
      "110\n",
      "(17, 3)\n",
      "111\n",
      "(17, 3)\n",
      "112\n",
      "(17, 3)\n",
      "113\n",
      "(17, 3)\n",
      "114\n",
      "(17, 3)\n",
      "115\n",
      "(17, 3)\n",
      "116\n",
      "(17, 3)\n",
      "117\n",
      "(17, 3)\n",
      "118\n",
      "(17, 3)\n",
      "119\n",
      "(17, 3)\n",
      "120\n",
      "(17, 3)\n",
      "121\n",
      "(17, 3)\n",
      "122\n",
      "(17, 3)\n",
      "123\n",
      "(17, 3)\n",
      "124\n",
      "(17, 3)\n",
      "125\n",
      "(17, 3)\n",
      "126\n",
      "(17, 3)\n",
      "127\n",
      "(17, 3)\n",
      "128\n",
      "(17, 3)\n",
      "129\n",
      "(17, 3)\n",
      "130\n",
      "(17, 3)\n",
      "131\n",
      "(17, 3)\n",
      "132\n",
      "(17, 3)\n",
      "133\n",
      "(17, 3)\n",
      "134\n",
      "(17, 3)\n",
      "135\n",
      "(17, 3)\n",
      "136\n",
      "(17, 3)\n",
      "137\n",
      "(17, 3)\n",
      "138\n",
      "(17, 3)\n",
      "139\n",
      "(17, 3)\n",
      "140\n",
      "(17, 3)\n",
      "141\n",
      "(17, 3)\n",
      "142\n",
      "(17, 3)\n",
      "143\n",
      "(17, 3)\n",
      "144\n",
      "(17, 3)\n",
      "145\n",
      "(17, 3)\n",
      "146\n",
      "(17, 3)\n",
      "147\n",
      "(17, 3)\n",
      "148\n",
      "(17, 3)\n",
      "149\n",
      "(17, 3)\n",
      "150\n",
      "(17, 3)\n",
      "151\n",
      "(17, 3)\n",
      "152\n",
      "(17, 3)\n",
      "153\n",
      "(17, 3)\n",
      "154\n",
      "(17, 3)\n",
      "155\n",
      "(17, 3)\n",
      "156\n",
      "(17, 3)\n",
      "157\n",
      "(17, 3)\n",
      "158\n",
      "(17, 3)\n",
      "159\n",
      "(17, 3)\n",
      "160\n",
      "(17, 3)\n",
      "161\n",
      "(17, 3)\n",
      "162\n",
      "(17, 3)\n",
      "163\n",
      "(17, 3)\n",
      "164\n",
      "(17, 3)\n",
      "165\n",
      "(17, 3)\n",
      "166\n",
      "(17, 3)\n",
      "167\n",
      "(17, 3)\n",
      "168\n",
      "(17, 3)\n",
      "169\n",
      "(17, 3)\n",
      "170\n",
      "(17, 3)\n",
      "171\n",
      "(17, 3)\n",
      "172\n",
      "(17, 3)\n",
      "173\n",
      "(17, 3)\n",
      "174\n",
      "(17, 3)\n",
      "175\n",
      "(17, 3)\n",
      "176\n",
      "(17, 3)\n",
      "177\n",
      "(17, 3)\n",
      "178\n",
      "(17, 3)\n",
      "179\n",
      "(17, 3)\n",
      "180\n",
      "(17, 3)\n",
      "181\n",
      "(17, 3)\n",
      "182\n",
      "(17, 3)\n",
      "183\n",
      "(17, 3)\n",
      "184\n",
      "(17, 3)\n",
      "185\n",
      "(17, 3)\n",
      "186\n",
      "(17, 3)\n",
      "187\n",
      "(17, 3)\n",
      "188\n",
      "(17, 3)\n",
      "189\n",
      "(17, 3)\n",
      "190\n",
      "(17, 3)\n",
      "191\n",
      "(17, 3)\n",
      "192\n",
      "(17, 3)\n",
      "193\n",
      "(17, 3)\n",
      "194\n",
      "(17, 3)\n",
      "195\n",
      "(17, 3)\n",
      "196\n",
      "(17, 3)\n",
      "197\n",
      "(17, 3)\n",
      "198\n",
      "(17, 3)\n",
      "199\n",
      "(17, 3)\n",
      "200\n",
      "(17, 3)\n",
      "201\n",
      "(17, 3)\n",
      "202\n",
      "(17, 3)\n",
      "203\n",
      "(17, 3)\n",
      "204\n",
      "(17, 3)\n",
      "205\n",
      "(17, 3)\n",
      "206\n",
      "(17, 3)\n",
      "207\n",
      "(17, 3)\n",
      "208\n",
      "(17, 3)\n",
      "209\n",
      "(17, 3)\n",
      "210\n",
      "(17, 3)\n",
      "211\n",
      "(17, 3)\n",
      "212\n",
      "(17, 3)\n",
      "213\n",
      "(17, 3)\n",
      "214\n",
      "(17, 3)\n",
      "215\n",
      "(17, 3)\n",
      "216\n",
      "(17, 3)\n",
      "217\n",
      "(17, 3)\n",
      "218\n",
      "(17, 3)\n",
      "219\n",
      "(17, 3)\n",
      "220\n",
      "(17, 3)\n",
      "221\n",
      "(17, 3)\n",
      "222\n",
      "(17, 3)\n",
      "223\n",
      "(17, 3)\n",
      "224\n",
      "(17, 3)\n",
      "225\n",
      "(17, 3)\n",
      "226\n",
      "(17, 3)\n",
      "227\n",
      "(17, 3)\n",
      "228\n",
      "(17, 3)\n",
      "229\n",
      "(17, 3)\n",
      "230\n",
      "(17, 3)\n",
      "231\n",
      "(17, 3)\n",
      "232\n",
      "(17, 3)\n",
      "233\n",
      "(17, 3)\n",
      "234\n",
      "(17, 3)\n",
      "235\n",
      "(17, 3)\n",
      "236\n",
      "(17, 3)\n",
      "237\n",
      "(17, 3)\n",
      "238\n",
      "(17, 3)\n",
      "239\n",
      "(17, 3)\n",
      "240\n",
      "(17, 3)\n",
      "241\n",
      "(17, 3)\n",
      "242\n",
      "(17, 3)\n",
      "243\n",
      "(17, 3)\n",
      "244\n",
      "(17, 3)\n",
      "245\n",
      "(17, 3)\n",
      "246\n",
      "(17, 3)\n",
      "247\n",
      "(17, 3)\n",
      "248\n",
      "(17, 3)\n",
      "249\n",
      "(17, 3)\n",
      "250\n",
      "(17, 3)\n",
      "251\n",
      "(17, 3)\n",
      "252\n",
      "(17, 3)\n",
      "253\n",
      "(17, 3)\n",
      "254\n",
      "(17, 3)\n",
      "255\n",
      "(17, 3)\n",
      "256\n",
      "(17, 3)\n",
      "257\n",
      "(17, 3)\n",
      "258\n",
      "(17, 3)\n",
      "259\n",
      "(17, 3)\n",
      "260\n",
      "(17, 3)\n",
      "261\n",
      "(17, 3)\n",
      "262\n",
      "(17, 3)\n",
      "263\n",
      "(17, 3)\n",
      "264\n",
      "(17, 3)\n",
      "265\n",
      "(17, 3)\n",
      "266\n",
      "(17, 3)\n",
      "267\n",
      "(17, 3)\n",
      "268\n",
      "(17, 3)\n",
      "269\n",
      "(17, 3)\n",
      "270\n",
      "(17, 3)\n",
      "271\n",
      "(17, 3)\n",
      "272\n",
      "(17, 3)\n",
      "273\n",
      "(17, 3)\n",
      "274\n",
      "(17, 3)\n",
      "275\n",
      "(17, 3)\n",
      "276\n",
      "(17, 3)\n",
      "277\n",
      "(17, 3)\n",
      "278\n",
      "(17, 3)\n",
      "279\n",
      "(17, 3)\n",
      "280\n",
      "(17, 3)\n",
      "281\n",
      "(17, 3)\n",
      "282\n",
      "(17, 3)\n",
      "283\n",
      "(17, 3)\n",
      "284\n",
      "(17, 3)\n",
      "285\n",
      "(17, 3)\n",
      "286\n",
      "(17, 3)\n",
      "287\n",
      "(17, 3)\n",
      "288\n",
      "(17, 3)\n",
      "289\n",
      "(17, 3)\n",
      "290\n",
      "(17, 3)\n",
      "291\n",
      "(17, 3)\n",
      "292\n",
      "(17, 3)\n",
      "293\n",
      "(17, 3)\n",
      "294\n",
      "(17, 3)\n",
      "295\n",
      "(17, 3)\n",
      "296\n",
      "(17, 3)\n",
      "297\n",
      "(17, 3)\n",
      "298\n",
      "(17, 3)\n",
      "299\n",
      "(17, 3)\n",
      "300\n",
      "(17, 3)\n",
      "301\n",
      "(17, 3)\n",
      "302\n",
      "(17, 3)\n",
      "303\n",
      "(17, 3)\n",
      "304\n",
      "(17, 3)\n",
      "305\n",
      "(17, 3)\n",
      "306\n",
      "(17, 3)\n",
      "307\n",
      "(17, 3)\n",
      "308\n",
      "(17, 3)\n",
      "309\n",
      "(17, 3)\n",
      "310\n",
      "(17, 3)\n",
      "311\n",
      "(17, 3)\n",
      "312\n",
      "(17, 3)\n",
      "313\n",
      "(17, 3)\n",
      "314\n",
      "(17, 3)\n",
      "315\n",
      "(17, 3)\n",
      "316\n",
      "(17, 3)\n",
      "317\n",
      "(17, 3)\n",
      "318\n",
      "(17, 3)\n",
      "319\n",
      "(17, 3)\n",
      "320\n",
      "(17, 3)\n",
      "321\n",
      "(17, 3)\n",
      "322\n",
      "(17, 3)\n",
      "323\n",
      "(17, 3)\n",
      "324\n",
      "(17, 3)\n",
      "325\n",
      "(17, 3)\n",
      "326\n",
      "(17, 3)\n",
      "327\n",
      "(17, 3)\n",
      "328\n",
      "(17, 3)\n",
      "329\n",
      "(17, 3)\n",
      "330\n",
      "(17, 3)\n",
      "331\n",
      "(17, 3)\n",
      "332\n",
      "(17, 3)\n",
      "333\n",
      "(17, 3)\n",
      "334\n",
      "(17, 3)\n",
      "335\n",
      "(17, 3)\n",
      "336\n",
      "(17, 3)\n",
      "337\n",
      "(17, 3)\n",
      "338\n",
      "(17, 3)\n",
      "339\n",
      "(17, 3)\n",
      "340\n",
      "(17, 3)\n",
      "341\n",
      "(17, 3)\n",
      "342\n",
      "(17, 3)\n",
      "343\n",
      "(17, 3)\n",
      "344\n",
      "(17, 3)\n",
      "345\n",
      "(17, 3)\n",
      "346\n",
      "(17, 3)\n",
      "347\n",
      "(17, 3)\n",
      "348\n",
      "(17, 3)\n",
      "349\n",
      "(17, 3)\n",
      "350\n",
      "(17, 3)\n",
      "351\n",
      "(17, 3)\n",
      "352\n",
      "(17, 3)\n",
      "353\n",
      "(17, 3)\n",
      "354\n",
      "(17, 3)\n",
      "355\n",
      "(17, 3)\n",
      "356\n",
      "(17, 3)\n",
      "357\n",
      "(17, 3)\n",
      "358\n",
      "(17, 3)\n",
      "359\n",
      "(17, 3)\n",
      "360\n",
      "(17, 3)\n",
      "361\n",
      "(17, 3)\n",
      "362\n",
      "(17, 3)\n",
      "363\n",
      "(17, 3)\n",
      "364\n",
      "(17, 3)\n",
      "365\n",
      "(17, 3)\n",
      "366\n",
      "(17, 3)\n",
      "367\n",
      "(17, 3)\n",
      "368\n",
      "(17, 3)\n",
      "369\n",
      "(17, 3)\n",
      "370\n",
      "(17, 3)\n",
      "371\n",
      "(17, 3)\n",
      "372\n",
      "(17, 3)\n",
      "373\n",
      "(17, 3)\n",
      "374\n",
      "(17, 3)\n",
      "375\n",
      "(17, 3)\n",
      "376\n",
      "(17, 3)\n",
      "377\n",
      "(17, 3)\n",
      "378\n",
      "(17, 3)\n",
      "379\n",
      "(17, 3)\n",
      "380\n",
      "(17, 3)\n",
      "381\n",
      "(17, 3)\n",
      "382\n",
      "(17, 3)\n",
      "383\n",
      "(17, 3)\n",
      "384\n",
      "(17, 3)\n",
      "385\n",
      "(17, 3)\n",
      "386\n",
      "(17, 3)\n",
      "387\n",
      "(17, 3)\n",
      "388\n",
      "(17, 3)\n",
      "389\n",
      "(17, 3)\n",
      "390\n",
      "(17, 3)\n",
      "391\n",
      "(17, 3)\n",
      "392\n",
      "(17, 3)\n",
      "393\n",
      "(17, 3)\n",
      "394\n",
      "(17, 3)\n",
      "395\n",
      "(17, 3)\n",
      "396\n",
      "(17, 3)\n",
      "397\n",
      "(17, 3)\n",
      "398\n",
      "(17, 3)\n",
      "399\n",
      "(17, 3)\n",
      "400\n",
      "(17, 3)\n",
      "401\n",
      "(17, 3)\n",
      "402\n",
      "(17, 3)\n",
      "403\n",
      "(17, 3)\n",
      "404\n",
      "(17, 3)\n",
      "405\n",
      "(17, 3)\n",
      "406\n",
      "(17, 3)\n",
      "407\n",
      "(17, 3)\n",
      "408\n",
      "(17, 3)\n",
      "409\n",
      "(17, 3)\n",
      "410\n",
      "(17, 3)\n",
      "411\n",
      "(17, 3)\n",
      "412\n",
      "(17, 3)\n",
      "413\n",
      "(17, 3)\n",
      "414\n",
      "(17, 3)\n",
      "415\n",
      "(17, 3)\n",
      "416\n",
      "(17, 3)\n",
      "417\n",
      "(17, 3)\n",
      "418\n",
      "(17, 3)\n",
      "419\n",
      "(17, 3)\n",
      "420\n",
      "(17, 3)\n",
      "421\n",
      "(17, 3)\n",
      "422\n",
      "(17, 3)\n",
      "423\n",
      "(17, 3)\n",
      "424\n",
      "(17, 3)\n",
      "425\n",
      "(17, 3)\n",
      "426\n",
      "(17, 3)\n",
      "427\n",
      "(17, 3)\n",
      "428\n",
      "(17, 3)\n",
      "429\n",
      "(17, 3)\n",
      "430\n",
      "(17, 3)\n",
      "431\n",
      "(17, 3)\n",
      "432\n",
      "(17, 3)\n",
      "433\n",
      "(17, 3)\n",
      "434\n",
      "(17, 3)\n",
      "435\n",
      "(17, 3)\n",
      "436\n",
      "(17, 3)\n",
      "437\n",
      "(17, 3)\n",
      "438\n",
      "(17, 3)\n",
      "439\n",
      "(17, 3)\n",
      "440\n",
      "(17, 3)\n",
      "441\n",
      "(17, 3)\n",
      "442\n",
      "(17, 3)\n",
      "443\n",
      "(17, 3)\n",
      "444\n",
      "(17, 3)\n",
      "445\n",
      "(17, 3)\n",
      "446\n",
      "(17, 3)\n",
      "447\n",
      "(17, 3)\n",
      "448\n",
      "(17, 3)\n",
      "449\n",
      "(17, 3)\n",
      "450\n",
      "(17, 3)\n",
      "451\n",
      "(17, 3)\n",
      "452\n",
      "(17, 3)\n",
      "453\n",
      "(17, 3)\n",
      "454\n",
      "(17, 3)\n",
      "455\n",
      "(17, 3)\n",
      "456\n",
      "(17, 3)\n",
      "457\n",
      "(17, 3)\n",
      "458\n",
      "(17, 3)\n",
      "459\n",
      "(17, 3)\n",
      "460\n",
      "(17, 3)\n",
      "461\n",
      "(17, 3)\n",
      "462\n",
      "(17, 3)\n",
      "463\n",
      "(17, 3)\n",
      "464\n",
      "(17, 3)\n",
      "465\n",
      "(17, 3)\n",
      "466\n",
      "(17, 3)\n",
      "467\n",
      "(17, 3)\n",
      "468\n",
      "(17, 3)\n",
      "469\n",
      "(17, 3)\n",
      "470\n",
      "(17, 3)\n",
      "471\n",
      "(17, 3)\n",
      "472\n",
      "(17, 3)\n",
      "473\n",
      "(17, 3)\n",
      "474\n",
      "(17, 3)\n",
      "475\n",
      "(17, 3)\n",
      "476\n",
      "(17, 3)\n",
      "477\n",
      "(17, 3)\n",
      "478\n",
      "(17, 3)\n",
      "479\n",
      "(17, 3)\n",
      "480\n",
      "(17, 3)\n",
      "481\n",
      "(17, 3)\n",
      "482\n",
      "(17, 3)\n",
      "483\n",
      "(17, 3)\n",
      "484\n",
      "(17, 3)\n",
      "485\n",
      "(17, 3)\n",
      "486\n",
      "(17, 3)\n",
      "487\n",
      "(17, 3)\n",
      "488\n",
      "(17, 3)\n",
      "489\n",
      "(17, 3)\n",
      "490\n",
      "(17, 3)\n",
      "491\n",
      "(17, 3)\n",
      "492\n",
      "(17, 3)\n",
      "493\n",
      "(17, 3)\n",
      "494\n",
      "(17, 3)\n",
      "495\n",
      "(17, 3)\n",
      "496\n",
      "(17, 3)\n",
      "497\n",
      "(17, 3)\n",
      "498\n",
      "(17, 3)\n",
      "499\n",
      "(17, 3)\n",
      "500\n",
      "(17, 3)\n",
      "501\n",
      "(17, 3)\n",
      "502\n",
      "(17, 3)\n",
      "503\n",
      "(17, 3)\n",
      "504\n",
      "(17, 3)\n",
      "505\n",
      "(17, 3)\n",
      "506\n",
      "(17, 3)\n",
      "507\n",
      "(17, 3)\n",
      "508\n",
      "(17, 3)\n",
      "509\n",
      "(17, 3)\n",
      "510\n",
      "(17, 3)\n",
      "511\n",
      "(17, 3)\n",
      "512\n",
      "(17, 3)\n",
      "513\n",
      "(17, 3)\n",
      "514\n",
      "(17, 3)\n",
      "515\n",
      "(17, 3)\n",
      "516\n",
      "(17, 3)\n",
      "517\n",
      "(17, 3)\n",
      "518\n",
      "(17, 3)\n",
      "519\n",
      "(17, 3)\n",
      "520\n",
      "(17, 3)\n",
      "521\n",
      "(17, 3)\n",
      "522\n",
      "(17, 3)\n",
      "523\n",
      "(17, 3)\n",
      "524\n",
      "(17, 3)\n",
      "525\n",
      "(17, 3)\n",
      "526\n",
      "(17, 3)\n",
      "527\n",
      "(17, 3)\n",
      "528\n",
      "(17, 3)\n",
      "529\n",
      "(17, 3)\n",
      "530\n",
      "(17, 3)\n",
      "531\n",
      "(17, 3)\n",
      "532\n",
      "(17, 3)\n",
      "533\n",
      "(17, 3)\n",
      "534\n",
      "(17, 3)\n",
      "535\n",
      "(17, 3)\n",
      "536\n",
      "(17, 3)\n",
      "537\n",
      "(17, 3)\n",
      "538\n",
      "(17, 3)\n",
      "539\n",
      "(17, 3)\n",
      "540\n",
      "(17, 3)\n",
      "541\n",
      "(17, 3)\n",
      "542\n",
      "(17, 3)\n",
      "543\n",
      "(17, 3)\n",
      "544\n",
      "(17, 3)\n",
      "545\n",
      "(17, 3)\n",
      "546\n",
      "(17, 3)\n",
      "547\n",
      "(17, 3)\n",
      "548\n",
      "(17, 3)\n",
      "549\n",
      "(17, 3)\n",
      "550\n",
      "(17, 3)\n",
      "551\n",
      "(17, 3)\n",
      "552\n",
      "(17, 3)\n",
      "553\n",
      "(17, 3)\n",
      "554\n",
      "(17, 3)\n",
      "555\n",
      "(17, 3)\n",
      "556\n",
      "(17, 3)\n",
      "557\n",
      "(17, 3)\n",
      "558\n",
      "(17, 3)\n",
      "559\n",
      "(17, 3)\n",
      "560\n",
      "(17, 3)\n",
      "561\n",
      "(17, 3)\n",
      "562\n",
      "(17, 3)\n",
      "563\n",
      "(17, 3)\n",
      "564\n",
      "(17, 3)\n",
      "565\n",
      "(17, 3)\n",
      "566\n",
      "(17, 3)\n",
      "567\n",
      "(17, 3)\n",
      "568\n",
      "(17, 3)\n",
      "569\n",
      "(17, 3)\n",
      "570\n",
      "(17, 3)\n",
      "571\n",
      "(17, 3)\n",
      "572\n",
      "(17, 3)\n",
      "573\n",
      "(17, 3)\n",
      "574\n",
      "(17, 3)\n",
      "575\n",
      "(17, 3)\n",
      "576\n",
      "(17, 3)\n",
      "577\n",
      "(17, 3)\n",
      "578\n",
      "(17, 3)\n",
      "579\n",
      "(17, 3)\n",
      "580\n",
      "(17, 3)\n",
      "581\n",
      "(17, 3)\n",
      "582\n",
      "(17, 3)\n",
      "583\n",
      "(17, 3)\n",
      "584\n",
      "(17, 3)\n",
      "585\n",
      "(17, 3)\n",
      "586\n",
      "(17, 3)\n",
      "587\n",
      "(17, 3)\n",
      "588\n",
      "(17, 3)\n",
      "589\n",
      "(17, 3)\n",
      "590\n",
      "(17, 3)\n",
      "591\n",
      "(17, 3)\n",
      "592\n",
      "(17, 3)\n",
      "593\n",
      "(17, 3)\n",
      "594\n",
      "(17, 3)\n",
      "595\n",
      "(17, 3)\n",
      "596\n",
      "(17, 3)\n",
      "597\n",
      "(17, 3)\n",
      "598\n",
      "(17, 3)\n",
      "599\n",
      "(17, 3)\n",
      "600\n",
      "(17, 3)\n",
      "601\n",
      "(17, 3)\n",
      "602\n",
      "(17, 3)\n",
      "603\n",
      "(17, 3)\n",
      "604\n",
      "(17, 3)\n",
      "605\n",
      "(17, 3)\n",
      "606\n",
      "(17, 3)\n",
      "607\n",
      "(17, 3)\n",
      "608\n",
      "(17, 3)\n",
      "609\n",
      "(17, 3)\n",
      "610\n",
      "(17, 3)\n",
      "611\n",
      "(17, 3)\n",
      "612\n",
      "(17, 3)\n",
      "613\n",
      "(17, 3)\n",
      "614\n",
      "(17, 3)\n",
      "615\n",
      "(17, 3)\n",
      "616\n",
      "(17, 3)\n",
      "617\n",
      "(17, 3)\n",
      "618\n",
      "(17, 3)\n",
      "619\n",
      "(17, 3)\n",
      "620\n",
      "(17, 3)\n",
      "621\n",
      "(17, 3)\n",
      "622\n",
      "(17, 3)\n",
      "623\n",
      "(17, 3)\n",
      "624\n",
      "(17, 3)\n",
      "625\n",
      "(17, 3)\n",
      "626\n",
      "(17, 3)\n",
      "627\n",
      "(17, 3)\n",
      "628\n",
      "(17, 3)\n",
      "629\n",
      "(17, 3)\n",
      "630\n",
      "(17, 3)\n",
      "631\n",
      "(17, 3)\n",
      "632\n",
      "(17, 3)\n",
      "633\n",
      "(17, 3)\n",
      "634\n",
      "(17, 3)\n",
      "635\n",
      "(17, 3)\n",
      "636\n",
      "(17, 3)\n",
      "637\n",
      "(17, 3)\n",
      "638\n",
      "(17, 3)\n",
      "639\n",
      "(17, 3)\n",
      "640\n",
      "(17, 3)\n",
      "641\n",
      "(17, 3)\n",
      "642\n",
      "(17, 3)\n",
      "643\n",
      "(17, 3)\n",
      "644\n",
      "(17, 3)\n",
      "645\n",
      "(17, 3)\n",
      "646\n",
      "(17, 3)\n",
      "647\n",
      "(17, 3)\n",
      "648\n",
      "(17, 3)\n",
      "649\n",
      "(17, 3)\n",
      "650\n",
      "(17, 3)\n",
      "651\n",
      "(17, 3)\n",
      "652\n",
      "(17, 3)\n",
      "653\n",
      "(17, 3)\n",
      "654\n",
      "(17, 3)\n",
      "655\n",
      "(17, 3)\n",
      "656\n",
      "(17, 3)\n",
      "657\n",
      "(17, 3)\n",
      "658\n",
      "(17, 3)\n",
      "659\n",
      "(17, 3)\n",
      "660\n",
      "(17, 3)\n",
      "661\n",
      "(17, 3)\n",
      "662\n",
      "(17, 3)\n",
      "663\n",
      "(17, 3)\n",
      "664\n",
      "(17, 3)\n",
      "665\n",
      "(17, 3)\n",
      "666\n",
      "(17, 3)\n",
      "667\n",
      "(17, 3)\n",
      "668\n",
      "(17, 3)\n",
      "669\n",
      "(17, 3)\n",
      "670\n",
      "(17, 3)\n",
      "671\n",
      "(17, 3)\n",
      "672\n",
      "(17, 3)\n",
      "673\n",
      "(17, 3)\n",
      "674\n",
      "(17, 3)\n",
      "675\n",
      "(17, 3)\n",
      "676\n",
      "(17, 3)\n",
      "677\n",
      "(17, 3)\n",
      "678\n",
      "(17, 3)\n",
      "679\n",
      "(17, 3)\n",
      "680\n",
      "(17, 3)\n",
      "681\n",
      "(17, 3)\n",
      "682\n",
      "(17, 3)\n",
      "683\n",
      "(17, 3)\n",
      "684\n",
      "(17, 3)\n",
      "685\n",
      "(17, 3)\n",
      "686\n",
      "(17, 3)\n",
      "687\n",
      "(17, 3)\n",
      "688\n",
      "(17, 3)\n",
      "689\n",
      "(17, 3)\n",
      "690\n",
      "(17, 3)\n",
      "691\n",
      "(17, 3)\n",
      "692\n",
      "(17, 3)\n",
      "693\n",
      "(17, 3)\n",
      "694\n",
      "(17, 3)\n",
      "695\n",
      "(17, 3)\n",
      "696\n",
      "(17, 3)\n",
      "697\n",
      "(17, 3)\n",
      "698\n",
      "(17, 3)\n",
      "699\n",
      "(17, 3)\n",
      "700\n",
      "(17, 3)\n",
      "701\n",
      "(17, 3)\n",
      "702\n",
      "(17, 3)\n",
      "703\n",
      "(17, 3)\n",
      "704\n",
      "(17, 3)\n",
      "705\n",
      "(17, 3)\n",
      "706\n",
      "(17, 3)\n",
      "707\n",
      "(17, 3)\n",
      "708\n",
      "(17, 3)\n",
      "709\n",
      "(17, 3)\n",
      "710\n",
      "(17, 3)\n",
      "711\n",
      "(17, 3)\n",
      "712\n",
      "(17, 3)\n",
      "713\n",
      "(17, 3)\n",
      "714\n",
      "(17, 3)\n",
      "715\n",
      "(17, 3)\n",
      "716\n",
      "(17, 3)\n",
      "717\n",
      "(17, 3)\n",
      "718\n",
      "(17, 3)\n",
      "719\n",
      "(17, 3)\n",
      "720\n",
      "(17, 3)\n",
      "721\n",
      "(17, 3)\n",
      "722\n",
      "(17, 3)\n",
      "723\n",
      "(17, 3)\n",
      "724\n",
      "(17, 3)\n",
      "725\n",
      "(17, 3)\n",
      "726\n",
      "(17, 3)\n",
      "727\n",
      "(17, 3)\n",
      "728\n",
      "(17, 3)\n",
      "729\n",
      "(17, 3)\n",
      "730\n",
      "(17, 3)\n",
      "731\n",
      "(17, 3)\n",
      "732\n",
      "(17, 3)\n",
      "733\n",
      "(17, 3)\n",
      "734\n",
      "(17, 3)\n",
      "735\n",
      "(17, 3)\n",
      "736\n",
      "(17, 3)\n",
      "737\n",
      "(17, 3)\n",
      "738\n",
      "(17, 3)\n",
      "739\n",
      "(17, 3)\n",
      "740\n",
      "(17, 3)\n",
      "741\n",
      "(17, 3)\n",
      "742\n",
      "(17, 3)\n",
      "743\n",
      "(17, 3)\n",
      "744\n",
      "(17, 3)\n",
      "745\n",
      "(17, 3)\n",
      "746\n",
      "(17, 3)\n",
      "747\n",
      "(17, 3)\n",
      "748\n",
      "(17, 3)\n",
      "749\n",
      "(17, 3)\n",
      "750\n",
      "(17, 3)\n",
      "751\n",
      "(17, 3)\n",
      "752\n",
      "(17, 3)\n",
      "753\n",
      "(17, 3)\n",
      "754\n",
      "(17, 3)\n",
      "755\n",
      "(17, 3)\n",
      "756\n",
      "(17, 3)\n",
      "757\n",
      "(17, 3)\n",
      "758\n",
      "(17, 3)\n",
      "759\n",
      "(17, 3)\n",
      "760\n",
      "(17, 3)\n",
      "761\n",
      "(17, 3)\n",
      "762\n",
      "(17, 3)\n",
      "763\n",
      "(17, 3)\n",
      "764\n",
      "(17, 3)\n",
      "765\n",
      "(17, 3)\n",
      "766\n",
      "(17, 3)\n",
      "767\n",
      "(17, 3)\n",
      "768\n",
      "(17, 3)\n",
      "769\n",
      "(17, 3)\n",
      "770\n",
      "(17, 3)\n",
      "771\n",
      "(17, 3)\n",
      "772\n",
      "(17, 3)\n",
      "773\n",
      "(17, 3)\n",
      "774\n",
      "(17, 3)\n",
      "775\n",
      "(17, 3)\n",
      "776\n",
      "(17, 3)\n",
      "777\n",
      "(17, 3)\n",
      "778\n",
      "(17, 3)\n",
      "779\n",
      "(17, 3)\n",
      "780\n",
      "(17, 3)\n",
      "781\n",
      "(17, 3)\n",
      "782\n",
      "(17, 3)\n",
      "783\n",
      "(17, 3)\n",
      "784\n",
      "(17, 3)\n",
      "785\n",
      "(17, 3)\n",
      "786\n",
      "(17, 3)\n",
      "787\n",
      "(17, 3)\n",
      "788\n",
      "(17, 3)\n",
      "789\n",
      "(17, 3)\n",
      "790\n",
      "(17, 3)\n",
      "791\n",
      "(17, 3)\n",
      "792\n",
      "(17, 3)\n",
      "793\n",
      "(17, 3)\n",
      "794\n",
      "(17, 3)\n",
      "795\n",
      "(17, 3)\n",
      "796\n",
      "(17, 3)\n",
      "797\n",
      "(17, 3)\n",
      "798\n",
      "(17, 3)\n",
      "799\n",
      "(17, 3)\n",
      "800\n",
      "(17, 3)\n",
      "801\n",
      "(17, 3)\n",
      "802\n",
      "(17, 3)\n",
      "803\n",
      "(17, 3)\n",
      "804\n",
      "(17, 3)\n",
      "805\n",
      "(17, 3)\n",
      "806\n",
      "(17, 3)\n",
      "807\n",
      "(17, 3)\n",
      "808\n",
      "(17, 3)\n",
      "809\n",
      "(17, 3)\n",
      "810\n",
      "(17, 3)\n",
      "811\n",
      "(17, 3)\n",
      "812\n",
      "(17, 3)\n",
      "813\n",
      "(17, 3)\n",
      "814\n",
      "(17, 3)\n",
      "815\n",
      "(17, 3)\n",
      "816\n",
      "(17, 3)\n",
      "817\n",
      "(17, 3)\n",
      "818\n",
      "(17, 3)\n",
      "819\n",
      "(17, 3)\n",
      "820\n",
      "(17, 3)\n",
      "821\n",
      "(17, 3)\n",
      "822\n",
      "(17, 3)\n",
      "823\n",
      "(17, 3)\n",
      "824\n",
      "(17, 3)\n",
      "825\n",
      "(17, 3)\n",
      "826\n",
      "(17, 3)\n",
      "827\n",
      "(17, 3)\n",
      "828\n",
      "(17, 3)\n",
      "829\n",
      "(17, 3)\n",
      "830\n",
      "(17, 3)\n",
      "831\n",
      "(17, 3)\n",
      "832\n",
      "(17, 3)\n",
      "833\n",
      "(17, 3)\n",
      "834\n",
      "(17, 3)\n",
      "835\n",
      "(17, 3)\n",
      "836\n",
      "(17, 3)\n",
      "837\n",
      "(17, 3)\n",
      "838\n",
      "(17, 3)\n",
      "839\n",
      "(17, 3)\n",
      "840\n",
      "(17, 3)\n",
      "841\n",
      "(17, 3)\n",
      "842\n",
      "(17, 3)\n",
      "843\n",
      "(17, 3)\n",
      "844\n",
      "(17, 3)\n",
      "845\n",
      "(17, 3)\n",
      "846\n",
      "(17, 3)\n",
      "847\n",
      "(17, 3)\n",
      "848\n",
      "(17, 3)\n",
      "849\n",
      "(17, 3)\n",
      "850\n",
      "(17, 3)\n",
      "851\n",
      "(17, 3)\n",
      "852\n",
      "(17, 3)\n",
      "853\n",
      "(17, 3)\n",
      "854\n",
      "(17, 3)\n",
      "855\n",
      "(17, 3)\n",
      "856\n",
      "(17, 3)\n",
      "857\n",
      "(17, 3)\n",
      "858\n",
      "(17, 3)\n",
      "859\n",
      "(17, 3)\n",
      "860\n",
      "(17, 3)\n",
      "861\n",
      "(17, 3)\n",
      "862\n",
      "(17, 3)\n",
      "863\n",
      "(17, 3)\n",
      "864\n",
      "(17, 3)\n",
      "865\n",
      "(17, 3)\n",
      "866\n",
      "(17, 3)\n",
      "867\n",
      "(17, 3)\n",
      "868\n",
      "(17, 3)\n",
      "869\n",
      "(17, 3)\n",
      "870\n",
      "(17, 3)\n",
      "871\n",
      "(17, 3)\n",
      "872\n",
      "(17, 3)\n",
      "873\n",
      "(17, 3)\n",
      "874\n",
      "(17, 3)\n",
      "875\n",
      "(17, 3)\n",
      "876\n",
      "(17, 3)\n",
      "877\n",
      "(17, 3)\n",
      "878\n",
      "(17, 3)\n",
      "879\n",
      "(17, 3)\n",
      "880\n",
      "(17, 3)\n",
      "881\n",
      "(17, 3)\n",
      "882\n",
      "(17, 3)\n",
      "883\n",
      "(17, 3)\n",
      "884\n",
      "(17, 3)\n",
      "885\n",
      "(17, 3)\n",
      "886\n",
      "(17, 3)\n",
      "887\n",
      "(17, 3)\n",
      "888\n",
      "(17, 3)\n",
      "889\n",
      "(17, 3)\n",
      "890\n",
      "(17, 3)\n",
      "891\n",
      "(17, 3)\n",
      "892\n",
      "(17, 3)\n",
      "893\n",
      "(17, 3)\n",
      "894\n",
      "(17, 3)\n",
      "895\n",
      "(17, 3)\n",
      "896\n",
      "(17, 3)\n",
      "897\n",
      "(17, 3)\n",
      "898\n",
      "(17, 3)\n",
      "899\n",
      "(17, 3)\n",
      "900\n",
      "(17, 3)\n",
      "901\n",
      "(17, 3)\n",
      "902\n",
      "(17, 3)\n",
      "903\n",
      "(17, 3)\n",
      "904\n",
      "(17, 3)\n",
      "905\n",
      "(17, 3)\n",
      "906\n",
      "(17, 3)\n",
      "907\n",
      "(17, 3)\n",
      "908\n",
      "(17, 3)\n",
      "909\n",
      "(17, 3)\n",
      "910\n",
      "(17, 3)\n",
      "911\n",
      "(17, 3)\n",
      "912\n",
      "(17, 3)\n",
      "913\n",
      "(17, 3)\n",
      "914\n",
      "(17, 3)\n",
      "915\n",
      "(17, 3)\n",
      "916\n",
      "(17, 3)\n",
      "917\n",
      "(17, 3)\n",
      "918\n",
      "(17, 3)\n",
      "919\n",
      "(17, 3)\n",
      "920\n",
      "(17, 3)\n",
      "921\n",
      "(17, 3)\n",
      "922\n",
      "(17, 3)\n",
      "923\n",
      "(17, 3)\n",
      "924\n",
      "(17, 3)\n",
      "925\n",
      "(17, 3)\n",
      "926\n",
      "(17, 3)\n",
      "927\n",
      "(17, 3)\n",
      "928\n",
      "(17, 3)\n",
      "929\n",
      "(17, 3)\n",
      "930\n",
      "(17, 3)\n",
      "931\n",
      "(17, 3)\n",
      "932\n",
      "(17, 3)\n",
      "933\n",
      "(17, 3)\n",
      "934\n",
      "(17, 3)\n",
      "935\n",
      "(17, 3)\n",
      "936\n",
      "(17, 3)\n",
      "937\n",
      "(17, 3)\n",
      "938\n",
      "(17, 3)\n",
      "939\n",
      "(17, 3)\n",
      "940\n",
      "(17, 3)\n",
      "941\n",
      "(17, 3)\n",
      "942\n",
      "(17, 3)\n",
      "943\n",
      "(17, 3)\n",
      "944\n",
      "(17, 3)\n",
      "945\n",
      "(17, 3)\n",
      "946\n",
      "(17, 3)\n",
      "947\n",
      "(17, 3)\n",
      "948\n",
      "(17, 3)\n",
      "949\n",
      "(17, 3)\n",
      "950\n",
      "(17, 3)\n",
      "951\n",
      "(17, 3)\n",
      "952\n",
      "(17, 3)\n",
      "953\n",
      "(17, 3)\n",
      "954\n",
      "(17, 3)\n",
      "955\n",
      "(17, 3)\n",
      "956\n",
      "(17, 3)\n",
      "957\n",
      "(17, 3)\n",
      "958\n",
      "(17, 3)\n",
      "959\n",
      "(17, 3)\n",
      "960\n",
      "(17, 3)\n",
      "961\n",
      "(17, 3)\n",
      "962\n",
      "(17, 3)\n",
      "963\n",
      "(17, 3)\n",
      "964\n",
      "(17, 3)\n",
      "965\n",
      "(17, 3)\n",
      "966\n",
      "(17, 3)\n",
      "967\n",
      "(17, 3)\n",
      "968\n",
      "(17, 3)\n",
      "969\n",
      "(17, 3)\n",
      "970\n",
      "(17, 3)\n",
      "971\n",
      "(17, 3)\n",
      "972\n",
      "(17, 3)\n",
      "973\n",
      "(17, 3)\n",
      "974\n",
      "(17, 3)\n",
      "975\n",
      "(17, 3)\n",
      "976\n",
      "(17, 3)\n",
      "977\n",
      "(17, 3)\n",
      "978\n",
      "(17, 3)\n",
      "979\n",
      "(17, 3)\n",
      "980\n",
      "(17, 3)\n",
      "981\n",
      "(17, 3)\n",
      "982\n",
      "(17, 3)\n",
      "983\n",
      "(17, 3)\n",
      "984\n",
      "(17, 3)\n",
      "985\n",
      "(17, 3)\n",
      "986\n",
      "(17, 3)\n",
      "987\n",
      "(17, 3)\n",
      "988\n",
      "(17, 3)\n",
      "989\n",
      "(17, 3)\n",
      "990\n",
      "(17, 3)\n",
      "991\n",
      "(17, 3)\n",
      "992\n",
      "(17, 3)\n",
      "993\n",
      "(17, 3)\n",
      "994\n",
      "(17, 3)\n",
      "995\n",
      "(17, 3)\n",
      "996\n",
      "(17, 3)\n",
      "997\n",
      "(17, 3)\n",
      "998\n",
      "(17, 3)\n",
      "999\n",
      "(17, 3)\n",
      "1000\n",
      "(17, 3)\n",
      "1001\n",
      "(17, 3)\n",
      "1002\n",
      "(17, 3)\n",
      "1003\n",
      "(17, 3)\n",
      "1004\n",
      "(17, 3)\n",
      "1005\n",
      "(17, 3)\n",
      "1006\n",
      "(17, 3)\n",
      "1007\n",
      "(17, 3)\n",
      "1008\n",
      "(17, 3)\n",
      "1009\n",
      "(17, 3)\n",
      "1010\n",
      "(17, 3)\n",
      "1011\n",
      "(17, 3)\n",
      "1012\n",
      "(17, 3)\n",
      "1013\n",
      "(17, 3)\n",
      "1014\n",
      "(17, 3)\n",
      "1015\n",
      "(17, 3)\n",
      "1016\n",
      "(17, 3)\n",
      "1017\n",
      "(17, 3)\n",
      "1018\n",
      "(17, 3)\n",
      "1019\n",
      "(17, 3)\n",
      "1020\n",
      "(17, 3)\n",
      "1021\n",
      "(17, 3)\n",
      "1022\n",
      "(17, 3)\n",
      "1023\n",
      "(17, 3)\n",
      "1024\n",
      "(17, 3)\n",
      "1025\n",
      "(17, 3)\n",
      "1026\n",
      "(17, 3)\n",
      "1027\n",
      "(17, 3)\n",
      "1028\n",
      "(17, 3)\n",
      "1029\n",
      "(17, 3)\n",
      "1030\n",
      "(17, 3)\n",
      "1031\n",
      "(17, 3)\n",
      "1032\n",
      "(17, 3)\n",
      "1033\n",
      "(17, 3)\n",
      "1034\n",
      "(17, 3)\n",
      "1035\n",
      "(17, 3)\n",
      "1036\n",
      "(17, 3)\n",
      "1037\n",
      "(17, 3)\n",
      "1038\n",
      "(17, 3)\n",
      "1039\n",
      "(17, 3)\n",
      "1040\n",
      "(17, 3)\n",
      "1041\n",
      "(17, 3)\n",
      "1042\n",
      "(17, 3)\n",
      "1043\n",
      "(17, 3)\n",
      "1044\n",
      "(17, 3)\n",
      "1045\n",
      "(17, 3)\n",
      "1046\n",
      "(17, 3)\n",
      "1047\n",
      "(17, 3)\n",
      "1048\n",
      "(17, 3)\n",
      "1049\n",
      "(17, 3)\n",
      "1050\n",
      "(17, 3)\n",
      "1051\n",
      "(17, 3)\n",
      "1052\n",
      "(17, 3)\n",
      "1053\n",
      "(17, 3)\n",
      "1054\n",
      "(17, 3)\n",
      "1055\n",
      "(17, 3)\n",
      "1056\n",
      "(17, 3)\n",
      "1057\n",
      "(17, 3)\n",
      "1058\n",
      "(17, 3)\n",
      "1059\n",
      "(17, 3)\n",
      "1060\n",
      "(17, 3)\n",
      "1061\n",
      "(17, 3)\n",
      "1062\n",
      "(17, 3)\n",
      "1063\n",
      "(17, 3)\n",
      "1064\n",
      "(17, 3)\n",
      "1065\n",
      "(17, 3)\n",
      "1066\n",
      "(17, 3)\n",
      "1067\n",
      "(17, 3)\n",
      "1068\n",
      "(17, 3)\n",
      "1069\n",
      "(17, 3)\n",
      "1070\n",
      "(17, 3)\n",
      "1071\n",
      "(17, 3)\n",
      "1072\n",
      "(17, 3)\n",
      "1073\n",
      "(17, 3)\n",
      "1074\n",
      "(17, 3)\n",
      "1075\n",
      "(17, 3)\n",
      "1076\n",
      "(17, 3)\n",
      "1077\n",
      "(17, 3)\n",
      "1078\n",
      "(17, 3)\n",
      "1079\n",
      "(17, 3)\n",
      "1080\n",
      "(17, 3)\n",
      "1081\n",
      "(17, 3)\n",
      "1082\n",
      "(17, 3)\n",
      "1083\n",
      "(17, 3)\n",
      "1084\n",
      "(17, 3)\n",
      "1085\n",
      "(17, 3)\n",
      "1086\n",
      "(17, 3)\n",
      "1087\n",
      "(17, 3)\n",
      "1088\n",
      "(17, 3)\n",
      "1089\n",
      "(17, 3)\n",
      "1090\n",
      "(17, 3)\n",
      "1091\n",
      "(17, 3)\n",
      "1092\n",
      "(17, 3)\n",
      "1093\n",
      "(17, 3)\n",
      "1094\n",
      "(17, 3)\n",
      "1095\n",
      "(17, 3)\n",
      "1096\n",
      "(17, 3)\n",
      "1097\n",
      "(17, 3)\n",
      "1098\n",
      "(17, 3)\n",
      "1099\n",
      "(17, 3)\n",
      "1100\n",
      "(17, 3)\n",
      "1101\n",
      "(17, 3)\n",
      "1102\n",
      "(17, 3)\n",
      "1103\n",
      "(17, 3)\n",
      "1104\n",
      "(17, 3)\n",
      "1105\n",
      "(17, 3)\n",
      "1106\n",
      "(17, 3)\n",
      "1107\n",
      "(17, 3)\n",
      "1108\n",
      "(17, 3)\n",
      "1109\n",
      "(17, 3)\n",
      "1110\n",
      "(17, 3)\n",
      "1111\n",
      "(17, 3)\n",
      "1112\n",
      "(17, 3)\n",
      "1113\n",
      "(17, 3)\n",
      "1114\n",
      "(17, 3)\n",
      "1115\n",
      "(17, 3)\n",
      "1116\n",
      "(17, 3)\n",
      "1117\n",
      "(17, 3)\n",
      "1118\n",
      "(17, 3)\n",
      "1119\n",
      "(17, 3)\n",
      "1120\n",
      "(17, 3)\n",
      "1121\n",
      "(17, 3)\n",
      "1122\n",
      "(17, 3)\n",
      "1123\n",
      "(17, 3)\n",
      "1124\n",
      "(17, 3)\n",
      "1125\n",
      "(17, 3)\n",
      "1126\n",
      "(17, 3)\n",
      "1127\n",
      "(17, 3)\n",
      "1128\n",
      "(17, 3)\n",
      "1129\n",
      "(17, 3)\n",
      "1130\n",
      "(17, 3)\n",
      "1131\n",
      "(17, 3)\n",
      "1132\n",
      "(17, 3)\n",
      "1133\n",
      "(17, 3)\n",
      "1134\n",
      "(17, 3)\n",
      "1135\n",
      "(17, 3)\n",
      "1136\n",
      "(17, 3)\n",
      "1137\n",
      "(17, 3)\n",
      "1138\n",
      "(17, 3)\n",
      "1139\n",
      "(17, 3)\n",
      "1140\n",
      "(17, 3)\n",
      "1141\n",
      "(17, 3)\n",
      "1142\n",
      "(17, 3)\n",
      "1143\n",
      "(17, 3)\n",
      "1144\n",
      "(17, 3)\n",
      "1145\n",
      "(17, 3)\n",
      "1146\n",
      "(17, 3)\n",
      "1147\n",
      "(17, 3)\n",
      "1148\n",
      "(17, 3)\n",
      "1149\n",
      "(17, 3)\n",
      "1150\n",
      "(17, 3)\n",
      "1151\n",
      "(17, 3)\n",
      "1152\n",
      "(17, 3)\n",
      "1153\n",
      "(17, 3)\n",
      "1154\n",
      "(17, 3)\n",
      "1155\n",
      "(17, 3)\n",
      "1156\n",
      "(17, 3)\n",
      "1157\n",
      "(17, 3)\n",
      "1158\n",
      "(17, 3)\n",
      "1159\n",
      "(17, 3)\n",
      "1160\n",
      "(17, 3)\n",
      "1161\n",
      "(17, 3)\n",
      "1162\n",
      "(17, 3)\n",
      "1163\n",
      "(17, 3)\n",
      "1164\n",
      "(17, 3)\n",
      "1165\n",
      "(17, 3)\n",
      "1166\n",
      "(17, 3)\n",
      "1167\n",
      "(17, 3)\n",
      "1168\n",
      "(17, 3)\n",
      "1169\n",
      "(17, 3)\n",
      "1170\n",
      "(17, 3)\n",
      "1171\n",
      "(17, 3)\n",
      "1172\n",
      "(17, 3)\n",
      "1173\n",
      "(17, 3)\n",
      "1174\n",
      "(17, 3)\n",
      "1175\n",
      "(17, 3)\n",
      "1176\n",
      "(17, 3)\n",
      "1177\n",
      "(17, 3)\n",
      "1178\n",
      "(17, 3)\n",
      "1179\n",
      "(17, 3)\n",
      "1180\n",
      "(17, 3)\n",
      "1181\n",
      "(17, 3)\n",
      "1182\n",
      "(17, 3)\n",
      "1183\n",
      "(17, 3)\n",
      "1184\n",
      "(17, 3)\n",
      "1185\n",
      "(17, 3)\n",
      "1186\n",
      "(17, 3)\n",
      "1187\n",
      "(17, 3)\n",
      "1188\n",
      "(17, 3)\n",
      "1189\n",
      "(17, 3)\n",
      "1190\n",
      "(17, 3)\n",
      "1191\n",
      "(17, 3)\n",
      "1192\n",
      "(17, 3)\n",
      "1193\n",
      "(17, 3)\n",
      "1194\n",
      "(17, 3)\n",
      "1195\n",
      "(17, 3)\n",
      "1196\n",
      "(17, 3)\n",
      "1197\n",
      "(17, 3)\n",
      "1198\n",
      "(17, 3)\n",
      "1199\n",
      "(17, 3)\n",
      "1200\n",
      "(17, 3)\n",
      "1201\n",
      "(17, 3)\n",
      "1202\n",
      "(17, 3)\n",
      "1203\n",
      "(17, 3)\n",
      "1204\n",
      "(17, 3)\n",
      "1205\n",
      "(17, 3)\n",
      "1206\n",
      "(17, 3)\n",
      "1207\n",
      "(17, 3)\n",
      "1208\n",
      "(17, 3)\n",
      "1209\n",
      "(17, 3)\n",
      "1210\n",
      "(17, 3)\n",
      "1211\n",
      "(17, 3)\n",
      "1212\n",
      "(17, 3)\n",
      "1213\n",
      "(17, 3)\n",
      "1214\n",
      "(17, 3)\n",
      "1215\n",
      "(17, 3)\n",
      "1216\n",
      "(17, 3)\n",
      "1217\n",
      "(17, 3)\n",
      "1218\n",
      "(17, 3)\n",
      "1219\n",
      "(17, 3)\n",
      "1220\n",
      "(17, 3)\n",
      "1221\n",
      "(17, 3)\n",
      "1222\n",
      "(17, 3)\n",
      "1223\n",
      "(17, 3)\n",
      "1224\n",
      "(17, 3)\n",
      "1225\n",
      "(17, 3)\n",
      "1226\n",
      "(17, 3)\n",
      "1227\n",
      "(17, 3)\n",
      "1228\n",
      "(17, 3)\n",
      "1229\n",
      "(17, 3)\n",
      "1230\n",
      "(17, 3)\n",
      "1231\n",
      "(17, 3)\n",
      "1232\n",
      "(17, 3)\n",
      "1233\n",
      "(17, 3)\n",
      "1234\n",
      "(17, 3)\n",
      "1235\n",
      "(17, 3)\n",
      "1236\n",
      "(17, 3)\n",
      "1237\n",
      "(17, 3)\n",
      "1238\n",
      "(17, 3)\n",
      "1239\n",
      "(17, 3)\n",
      "1240\n",
      "(17, 3)\n",
      "1241\n",
      "(17, 3)\n",
      "1242\n",
      "(17, 3)\n",
      "1243\n",
      "(17, 3)\n",
      "1244\n",
      "(17, 3)\n",
      "1245\n",
      "(17, 3)\n",
      "1246\n",
      "(17, 3)\n",
      "1247\n",
      "(17, 3)\n",
      "1248\n",
      "(17, 3)\n",
      "1249\n",
      "(17, 3)\n",
      "1250\n",
      "(17, 3)\n",
      "1251\n",
      "(17, 3)\n",
      "1252\n",
      "(17, 3)\n",
      "1253\n",
      "(17, 3)\n",
      "1254\n",
      "(17, 3)\n",
      "1255\n",
      "(17, 3)\n",
      "1256\n",
      "(17, 3)\n",
      "1257\n",
      "(17, 3)\n",
      "1258\n",
      "(17, 3)\n",
      "1259\n",
      "(17, 3)\n",
      "1260\n",
      "(17, 3)\n",
      "1261\n",
      "(17, 3)\n",
      "1262\n",
      "(17, 3)\n",
      "1263\n",
      "(17, 3)\n",
      "1264\n",
      "(17, 3)\n",
      "1265\n",
      "(17, 3)\n",
      "1266\n",
      "(17, 3)\n",
      "1267\n",
      "(17, 3)\n",
      "1268\n",
      "(17, 3)\n",
      "1269\n",
      "(17, 3)\n",
      "1270\n",
      "(17, 3)\n",
      "1271\n",
      "(17, 3)\n",
      "1272\n",
      "(17, 3)\n",
      "1273\n",
      "(17, 3)\n",
      "1274\n",
      "(17, 3)\n",
      "1275\n",
      "(17, 3)\n",
      "1276\n",
      "(17, 3)\n",
      "1277\n",
      "(17, 3)\n",
      "1278\n",
      "(17, 3)\n",
      "1279\n",
      "(17, 3)\n",
      "1280\n",
      "(17, 3)\n",
      "1281\n",
      "(17, 3)\n",
      "1282\n",
      "(17, 3)\n",
      "1283\n",
      "(17, 3)\n",
      "1284\n",
      "(17, 3)\n",
      "1285\n",
      "(17, 3)\n",
      "1286\n",
      "(17, 3)\n",
      "1287\n",
      "(17, 3)\n",
      "1288\n",
      "(17, 3)\n",
      "1289\n",
      "(17, 3)\n",
      "1290\n",
      "(17, 3)\n",
      "1291\n",
      "(17, 3)\n",
      "1292\n",
      "(17, 3)\n",
      "1293\n",
      "(17, 3)\n",
      "1294\n",
      "(17, 3)\n",
      "1295\n",
      "(17, 3)\n",
      "1296\n",
      "(17, 3)\n",
      "1297\n",
      "(17, 3)\n",
      "1298\n",
      "(17, 3)\n",
      "1299\n",
      "(17, 3)\n",
      "1300\n",
      "(17, 3)\n",
      "1301\n",
      "(17, 3)\n",
      "1302\n",
      "(17, 3)\n",
      "1303\n",
      "(17, 3)\n",
      "1304\n",
      "(17, 3)\n",
      "1305\n",
      "(17, 3)\n",
      "1306\n",
      "(17, 3)\n",
      "1307\n",
      "(17, 3)\n",
      "1308\n",
      "(17, 3)\n",
      "1309\n",
      "(17, 3)\n",
      "1310\n",
      "(17, 3)\n",
      "1311\n",
      "(17, 3)\n",
      "1312\n",
      "(17, 3)\n",
      "1313\n",
      "(17, 3)\n",
      "1314\n",
      "(17, 3)\n",
      "1315\n",
      "(17, 3)\n",
      "1316\n",
      "(17, 3)\n",
      "1317\n",
      "(17, 3)\n",
      "1318\n",
      "(17, 3)\n",
      "1319\n",
      "(17, 3)\n",
      "1320\n",
      "(17, 3)\n",
      "1321\n",
      "(17, 3)\n",
      "1322\n",
      "(17, 3)\n",
      "1323\n",
      "(17, 3)\n",
      "1324\n",
      "(17, 3)\n",
      "1325\n",
      "(17, 3)\n",
      "1326\n",
      "(17, 3)\n",
      "1327\n",
      "(17, 3)\n",
      "1328\n",
      "(17, 3)\n",
      "1329\n",
      "(17, 3)\n",
      "1330\n",
      "(17, 3)\n",
      "1331\n",
      "(17, 3)\n",
      "1332\n",
      "(17, 3)\n",
      "1333\n",
      "(17, 3)\n",
      "1334\n",
      "(17, 3)\n",
      "1335\n",
      "(17, 3)\n",
      "1336\n",
      "(17, 3)\n",
      "1337\n",
      "(17, 3)\n",
      "1338\n",
      "(17, 3)\n",
      "1339\n",
      "(17, 3)\n",
      "1340\n",
      "(17, 3)\n",
      "1341\n",
      "(17, 3)\n",
      "1342\n",
      "(17, 3)\n",
      "1343\n",
      "(17, 3)\n",
      "1344\n",
      "(17, 3)\n",
      "1345\n",
      "(17, 3)\n",
      "1346\n",
      "(17, 3)\n",
      "1347\n",
      "(17, 3)\n",
      "1348\n",
      "(17, 3)\n",
      "1349\n",
      "(17, 3)\n",
      "1350\n",
      "(17, 3)\n",
      "1351\n",
      "(17, 3)\n",
      "1352\n",
      "(17, 3)\n",
      "1353\n",
      "(17, 3)\n",
      "1354\n",
      "(17, 3)\n",
      "1355\n",
      "(17, 3)\n",
      "1356\n",
      "(17, 3)\n",
      "1357\n",
      "(17, 3)\n",
      "1358\n",
      "(17, 3)\n",
      "1359\n",
      "(17, 3)\n",
      "1360\n",
      "(17, 3)\n",
      "1361\n",
      "(17, 3)\n",
      "1362\n",
      "(17, 3)\n",
      "1363\n",
      "(17, 3)\n",
      "1364\n",
      "(17, 3)\n",
      "1365\n",
      "(17, 3)\n",
      "1366\n",
      "(17, 3)\n",
      "1367\n",
      "(17, 3)\n",
      "1368\n",
      "(17, 3)\n",
      "1369\n",
      "(17, 3)\n",
      "1370\n",
      "(17, 3)\n",
      "1371\n",
      "(17, 3)\n",
      "1372\n",
      "(17, 3)\n",
      "1373\n",
      "(17, 3)\n",
      "1374\n",
      "(17, 3)\n",
      "1375\n",
      "(17, 3)\n",
      "1376\n",
      "(17, 3)\n",
      "1377\n",
      "(17, 3)\n",
      "1378\n",
      "(17, 3)\n",
      "1379\n",
      "(17, 3)\n",
      "1380\n",
      "(17, 3)\n",
      "1381\n",
      "(17, 3)\n",
      "1382\n",
      "(17, 3)\n",
      "1383\n",
      "(17, 3)\n",
      "1384\n",
      "(17, 3)\n",
      "1385\n",
      "(17, 3)\n",
      "1386\n",
      "(17, 3)\n",
      "1387\n",
      "(17, 3)\n",
      "1388\n",
      "(17, 3)\n",
      "1389\n",
      "(17, 3)\n",
      "1390\n",
      "(17, 3)\n",
      "1391\n",
      "(17, 3)\n",
      "1392\n",
      "(17, 3)\n",
      "1393\n",
      "(17, 3)\n",
      "1394\n",
      "(17, 3)\n",
      "1395\n",
      "(17, 3)\n",
      "1396\n",
      "(17, 3)\n",
      "1397\n",
      "(17, 3)\n",
      "0\n",
      "(17, 3)\n",
      "1\n",
      "(17, 3)\n",
      "2\n",
      "(17, 3)\n",
      "3\n",
      "(17, 3)\n",
      "4\n",
      "(17, 3)\n",
      "5\n",
      "(17, 3)\n",
      "6\n",
      "(17, 3)\n",
      "7\n",
      "(17, 3)\n",
      "8\n",
      "(17, 3)\n",
      "9\n",
      "(17, 3)\n",
      "10\n",
      "(17, 3)\n",
      "11\n",
      "(17, 3)\n",
      "12\n",
      "(17, 3)\n",
      "13\n",
      "(17, 3)\n",
      "14\n",
      "(17, 3)\n",
      "15\n",
      "(17, 3)\n",
      "16\n",
      "(17, 3)\n",
      "17\n",
      "(17, 3)\n",
      "18\n",
      "(17, 3)\n",
      "19\n",
      "(17, 3)\n",
      "20\n",
      "(17, 3)\n",
      "21\n",
      "(17, 3)\n",
      "22\n",
      "(17, 3)\n",
      "23\n",
      "(17, 3)\n",
      "24\n",
      "(17, 3)\n",
      "25\n",
      "(17, 3)\n",
      "26\n",
      "(17, 3)\n",
      "27\n",
      "(17, 3)\n",
      "28\n",
      "(17, 3)\n",
      "29\n",
      "(17, 3)\n",
      "30\n",
      "(17, 3)\n",
      "31\n",
      "(17, 3)\n",
      "32\n",
      "(17, 3)\n",
      "33\n",
      "(17, 3)\n",
      "34\n",
      "(17, 3)\n",
      "35\n",
      "(17, 3)\n",
      "36\n",
      "(17, 3)\n",
      "37\n",
      "(17, 3)\n",
      "38\n",
      "(17, 3)\n",
      "39\n",
      "(17, 3)\n",
      "40\n",
      "(17, 3)\n",
      "41\n",
      "(17, 3)\n",
      "42\n",
      "(17, 3)\n",
      "43\n",
      "(17, 3)\n",
      "44\n",
      "(17, 3)\n",
      "45\n",
      "(17, 3)\n",
      "46\n",
      "(17, 3)\n",
      "47\n",
      "(17, 3)\n",
      "48\n",
      "(17, 3)\n",
      "49\n",
      "(17, 3)\n",
      "50\n",
      "(17, 3)\n",
      "51\n",
      "(17, 3)\n",
      "52\n",
      "(17, 3)\n",
      "53\n",
      "(17, 3)\n",
      "54\n",
      "(17, 3)\n",
      "55\n",
      "(17, 3)\n",
      "56\n",
      "(17, 3)\n",
      "57\n",
      "(17, 3)\n",
      "58\n",
      "(17, 3)\n",
      "59\n",
      "(17, 3)\n",
      "60\n",
      "(17, 3)\n",
      "61\n",
      "(17, 3)\n",
      "62\n",
      "(17, 3)\n",
      "63\n",
      "(17, 3)\n",
      "64\n",
      "(17, 3)\n",
      "65\n",
      "(17, 3)\n",
      "66\n",
      "(17, 3)\n",
      "67\n",
      "(17, 3)\n",
      "68\n",
      "(17, 3)\n",
      "69\n",
      "(17, 3)\n",
      "70\n",
      "(17, 3)\n",
      "71\n",
      "(17, 3)\n",
      "72\n",
      "(17, 3)\n",
      "73\n",
      "(17, 3)\n",
      "74\n",
      "(17, 3)\n",
      "75\n",
      "(17, 3)\n",
      "76\n",
      "(17, 3)\n",
      "77\n",
      "(17, 3)\n",
      "78\n",
      "(17, 3)\n",
      "79\n",
      "(17, 3)\n",
      "80\n",
      "(17, 3)\n",
      "81\n",
      "(17, 3)\n",
      "82\n",
      "(17, 3)\n",
      "83\n",
      "(17, 3)\n",
      "84\n",
      "(17, 3)\n",
      "85\n",
      "(17, 3)\n",
      "86\n",
      "(17, 3)\n",
      "87\n",
      "(17, 3)\n",
      "88\n",
      "(17, 3)\n",
      "89\n",
      "(17, 3)\n",
      "90\n",
      "(17, 3)\n",
      "91\n",
      "(17, 3)\n",
      "92\n",
      "(17, 3)\n",
      "93\n",
      "(17, 3)\n",
      "94\n",
      "(17, 3)\n",
      "95\n",
      "(17, 3)\n",
      "96\n",
      "(17, 3)\n",
      "97\n",
      "(17, 3)\n",
      "98\n",
      "(17, 3)\n",
      "99\n",
      "(17, 3)\n",
      "100\n",
      "(17, 3)\n",
      "101\n",
      "(17, 3)\n",
      "102\n",
      "(17, 3)\n",
      "103\n",
      "(17, 3)\n",
      "104\n",
      "(17, 3)\n",
      "105\n",
      "(17, 3)\n",
      "106\n",
      "(17, 3)\n",
      "107\n",
      "(17, 3)\n",
      "108\n",
      "(17, 3)\n",
      "109\n",
      "(17, 3)\n",
      "110\n",
      "(17, 3)\n",
      "111\n",
      "(17, 3)\n",
      "112\n",
      "(17, 3)\n",
      "113\n",
      "(17, 3)\n",
      "114\n",
      "(17, 3)\n",
      "115\n",
      "(17, 3)\n",
      "116\n",
      "(17, 3)\n",
      "117\n",
      "(17, 3)\n",
      "118\n",
      "(17, 3)\n",
      "119\n",
      "(17, 3)\n",
      "120\n",
      "(17, 3)\n",
      "121\n",
      "(17, 3)\n",
      "122\n",
      "(17, 3)\n",
      "123\n",
      "(17, 3)\n",
      "124\n",
      "(17, 3)\n",
      "125\n",
      "(17, 3)\n",
      "126\n",
      "(17, 3)\n",
      "127\n",
      "(17, 3)\n",
      "128\n",
      "(17, 3)\n",
      "129\n",
      "(17, 3)\n",
      "130\n",
      "(17, 3)\n",
      "131\n",
      "(17, 3)\n",
      "132\n",
      "(17, 3)\n",
      "133\n",
      "(17, 3)\n",
      "134\n",
      "(17, 3)\n",
      "135\n",
      "(17, 3)\n",
      "136\n",
      "(17, 3)\n",
      "137\n",
      "(17, 3)\n",
      "138\n",
      "(17, 3)\n",
      "139\n",
      "(17, 3)\n",
      "140\n",
      "(17, 3)\n",
      "141\n",
      "(17, 3)\n",
      "142\n",
      "(17, 3)\n",
      "143\n",
      "(17, 3)\n",
      "144\n",
      "(17, 3)\n",
      "145\n",
      "(17, 3)\n",
      "146\n",
      "(17, 3)\n",
      "147\n",
      "(17, 3)\n",
      "148\n",
      "(17, 3)\n",
      "149\n",
      "(17, 3)\n",
      "150\n",
      "(17, 3)\n",
      "151\n",
      "(17, 3)\n",
      "152\n",
      "(17, 3)\n",
      "153\n",
      "(17, 3)\n",
      "154\n",
      "(17, 3)\n",
      "155\n",
      "(17, 3)\n",
      "156\n",
      "(17, 3)\n",
      "157\n",
      "(17, 3)\n",
      "158\n",
      "(17, 3)\n",
      "159\n",
      "(17, 3)\n",
      "160\n",
      "(17, 3)\n",
      "161\n",
      "(17, 3)\n",
      "162\n",
      "(17, 3)\n",
      "163\n",
      "(17, 3)\n",
      "164\n",
      "(17, 3)\n",
      "165\n",
      "(17, 3)\n",
      "166\n",
      "(17, 3)\n",
      "167\n",
      "(17, 3)\n",
      "168\n",
      "(17, 3)\n",
      "169\n",
      "(17, 3)\n",
      "170\n",
      "(17, 3)\n",
      "171\n",
      "(17, 3)\n",
      "172\n",
      "(17, 3)\n",
      "173\n",
      "(17, 3)\n",
      "174\n",
      "(17, 3)\n",
      "175\n",
      "(17, 3)\n",
      "176\n",
      "(17, 3)\n",
      "177\n",
      "(17, 3)\n",
      "178\n",
      "(17, 3)\n",
      "179\n",
      "(17, 3)\n",
      "180\n",
      "(17, 3)\n",
      "181\n",
      "(17, 3)\n",
      "182\n",
      "(17, 3)\n",
      "183\n",
      "(17, 3)\n",
      "184\n",
      "(17, 3)\n",
      "185\n",
      "(17, 3)\n",
      "186\n",
      "(17, 3)\n",
      "187\n",
      "(17, 3)\n",
      "188\n",
      "(17, 3)\n",
      "189\n",
      "(17, 3)\n",
      "190\n",
      "(17, 3)\n",
      "191\n",
      "(17, 3)\n",
      "192\n",
      "(17, 3)\n",
      "193\n",
      "(17, 3)\n",
      "194\n",
      "(17, 3)\n",
      "195\n",
      "(17, 3)\n",
      "196\n",
      "(17, 3)\n",
      "197\n",
      "(17, 3)\n",
      "198\n",
      "(17, 3)\n",
      "199\n",
      "(17, 3)\n",
      "200\n",
      "(17, 3)\n",
      "201\n",
      "(17, 3)\n",
      "202\n",
      "(17, 3)\n",
      "203\n",
      "(17, 3)\n",
      "204\n",
      "(17, 3)\n",
      "205\n",
      "(17, 3)\n",
      "206\n",
      "(17, 3)\n",
      "207\n",
      "(17, 3)\n",
      "208\n",
      "(17, 3)\n",
      "209\n",
      "(17, 3)\n",
      "210\n",
      "(17, 3)\n",
      "211\n",
      "(17, 3)\n",
      "212\n",
      "(17, 3)\n",
      "213\n",
      "(17, 3)\n",
      "214\n",
      "(17, 3)\n",
      "215\n",
      "(17, 3)\n",
      "216\n",
      "(17, 3)\n",
      "217\n",
      "(17, 3)\n",
      "218\n",
      "(17, 3)\n",
      "219\n",
      "(17, 3)\n",
      "220\n",
      "(17, 3)\n",
      "221\n",
      "(17, 3)\n",
      "222\n",
      "(17, 3)\n",
      "223\n",
      "(17, 3)\n",
      "224\n",
      "(17, 3)\n",
      "225\n",
      "(17, 3)\n",
      "226\n",
      "(17, 3)\n",
      "227\n",
      "(17, 3)\n",
      "228\n",
      "(17, 3)\n",
      "229\n",
      "(17, 3)\n",
      "230\n",
      "(17, 3)\n",
      "231\n",
      "(17, 3)\n",
      "232\n",
      "(17, 3)\n",
      "233\n",
      "(17, 3)\n",
      "234\n",
      "(17, 3)\n",
      "235\n",
      "(17, 3)\n",
      "236\n",
      "(17, 3)\n",
      "237\n",
      "(17, 3)\n",
      "238\n",
      "(17, 3)\n",
      "239\n",
      "(17, 3)\n",
      "240\n",
      "(17, 3)\n",
      "241\n",
      "(17, 3)\n",
      "242\n",
      "(17, 3)\n",
      "243\n",
      "(17, 3)\n",
      "244\n",
      "(17, 3)\n",
      "245\n",
      "(17, 3)\n",
      "246\n",
      "(17, 3)\n",
      "247\n",
      "(17, 3)\n",
      "248\n",
      "(17, 3)\n",
      "249\n",
      "(17, 3)\n",
      "250\n",
      "(17, 3)\n",
      "251\n",
      "(17, 3)\n",
      "252\n",
      "(17, 3)\n",
      "253\n",
      "(17, 3)\n",
      "254\n",
      "(17, 3)\n",
      "255\n",
      "(17, 3)\n",
      "256\n",
      "(17, 3)\n",
      "257\n",
      "(17, 3)\n",
      "258\n",
      "(17, 3)\n",
      "259\n",
      "(17, 3)\n",
      "260\n",
      "(17, 3)\n",
      "261\n",
      "(17, 3)\n",
      "262\n",
      "(17, 3)\n",
      "263\n",
      "(17, 3)\n",
      "264\n",
      "(17, 3)\n",
      "265\n",
      "(17, 3)\n",
      "266\n",
      "(17, 3)\n",
      "267\n",
      "(17, 3)\n",
      "268\n",
      "(17, 3)\n",
      "269\n",
      "(17, 3)\n",
      "270\n",
      "(17, 3)\n",
      "271\n",
      "(17, 3)\n",
      "272\n",
      "(17, 3)\n",
      "273\n",
      "(17, 3)\n",
      "274\n",
      "(17, 3)\n",
      "275\n",
      "(17, 3)\n",
      "276\n",
      "(17, 3)\n",
      "277\n",
      "(17, 3)\n",
      "278\n",
      "(17, 3)\n",
      "279\n",
      "(17, 3)\n",
      "280\n",
      "(17, 3)\n",
      "281\n",
      "(17, 3)\n",
      "282\n",
      "(17, 3)\n",
      "283\n",
      "(17, 3)\n",
      "284\n",
      "(17, 3)\n",
      "285\n",
      "(17, 3)\n",
      "286\n",
      "(17, 3)\n",
      "287\n",
      "(17, 3)\n",
      "288\n",
      "(17, 3)\n",
      "289\n",
      "(17, 3)\n",
      "290\n",
      "(17, 3)\n",
      "291\n",
      "(17, 3)\n",
      "292\n",
      "(17, 3)\n",
      "293\n",
      "(17, 3)\n",
      "294\n",
      "(17, 3)\n",
      "295\n",
      "(17, 3)\n",
      "296\n",
      "(17, 3)\n",
      "297\n",
      "(17, 3)\n",
      "298\n",
      "(17, 3)\n",
      "299\n",
      "(17, 3)\n",
      "300\n",
      "(17, 3)\n",
      "301\n",
      "(17, 3)\n",
      "302\n",
      "(17, 3)\n",
      "303\n",
      "(17, 3)\n",
      "304\n",
      "(17, 3)\n",
      "305\n",
      "(17, 3)\n",
      "306\n",
      "(17, 3)\n",
      "307\n",
      "(17, 3)\n",
      "308\n",
      "(17, 3)\n",
      "309\n",
      "(17, 3)\n",
      "310\n",
      "(17, 3)\n",
      "311\n",
      "(17, 3)\n",
      "312\n",
      "(17, 3)\n",
      "313\n",
      "(17, 3)\n",
      "314\n",
      "(17, 3)\n",
      "315\n",
      "(17, 3)\n",
      "316\n",
      "(17, 3)\n",
      "317\n",
      "(17, 3)\n",
      "318\n",
      "(17, 3)\n",
      "319\n",
      "(17, 3)\n",
      "320\n",
      "(17, 3)\n",
      "321\n",
      "(17, 3)\n",
      "322\n",
      "(17, 3)\n",
      "323\n",
      "(17, 3)\n",
      "324\n",
      "(17, 3)\n",
      "325\n",
      "(17, 3)\n",
      "326\n",
      "(17, 3)\n",
      "327\n",
      "(17, 3)\n",
      "328\n",
      "(17, 3)\n",
      "329\n",
      "(17, 3)\n",
      "330\n",
      "(17, 3)\n",
      "331\n",
      "(17, 3)\n",
      "332\n",
      "(17, 3)\n",
      "333\n",
      "(17, 3)\n",
      "334\n",
      "(17, 3)\n",
      "335\n",
      "(17, 3)\n",
      "336\n",
      "(17, 3)\n",
      "337\n",
      "(17, 3)\n",
      "338\n",
      "(17, 3)\n",
      "339\n",
      "(17, 3)\n",
      "340\n",
      "(17, 3)\n",
      "341\n",
      "(17, 3)\n",
      "342\n",
      "(17, 3)\n",
      "343\n",
      "(17, 3)\n",
      "344\n",
      "(17, 3)\n",
      "345\n",
      "(17, 3)\n",
      "346\n",
      "(17, 3)\n",
      "347\n",
      "(17, 3)\n",
      "348\n",
      "(17, 3)\n",
      "349\n",
      "(17, 3)\n",
      "350\n",
      "(17, 3)\n",
      "351\n",
      "(17, 3)\n",
      "352\n",
      "(17, 3)\n",
      "353\n",
      "(17, 3)\n",
      "354\n",
      "(17, 3)\n",
      "355\n",
      "(17, 3)\n",
      "356\n",
      "(17, 3)\n",
      "357\n",
      "(17, 3)\n",
      "358\n",
      "(17, 3)\n",
      "359\n",
      "(17, 3)\n",
      "360\n",
      "(17, 3)\n",
      "361\n",
      "(17, 3)\n",
      "362\n",
      "(17, 3)\n",
      "363\n",
      "(17, 3)\n",
      "364\n",
      "(17, 3)\n",
      "365\n",
      "(17, 3)\n",
      "366\n",
      "(17, 3)\n",
      "367\n",
      "(17, 3)\n",
      "368\n",
      "(17, 3)\n",
      "369\n",
      "(17, 3)\n",
      "370\n",
      "(17, 3)\n",
      "371\n",
      "(17, 3)\n",
      "372\n",
      "(17, 3)\n",
      "373\n",
      "(17, 3)\n",
      "374\n",
      "(17, 3)\n",
      "375\n",
      "(17, 3)\n",
      "376\n",
      "(17, 3)\n",
      "377\n",
      "(17, 3)\n",
      "378\n",
      "(17, 3)\n",
      "379\n",
      "(17, 3)\n",
      "380\n",
      "(17, 3)\n",
      "381\n",
      "(17, 3)\n",
      "382\n",
      "(17, 3)\n",
      "383\n",
      "(17, 3)\n",
      "384\n",
      "(17, 3)\n",
      "385\n",
      "(17, 3)\n",
      "386\n",
      "(17, 3)\n",
      "387\n",
      "(17, 3)\n",
      "388\n",
      "(17, 3)\n",
      "389\n",
      "(17, 3)\n",
      "390\n",
      "(17, 3)\n",
      "391\n",
      "(17, 3)\n",
      "392\n",
      "(17, 3)\n",
      "393\n",
      "(17, 3)\n",
      "394\n",
      "(17, 3)\n",
      "395\n",
      "(17, 3)\n",
      "396\n",
      "(17, 3)\n",
      "397\n",
      "(17, 3)\n",
      "398\n",
      "(17, 3)\n",
      "399\n",
      "(17, 3)\n",
      "400\n",
      "(17, 3)\n",
      "401\n",
      "(17, 3)\n",
      "402\n",
      "(17, 3)\n",
      "403\n",
      "(17, 3)\n",
      "404\n",
      "(17, 3)\n",
      "405\n",
      "(17, 3)\n",
      "406\n",
      "(17, 3)\n",
      "407\n",
      "(17, 3)\n",
      "408\n",
      "(17, 3)\n",
      "409\n",
      "(17, 3)\n",
      "410\n",
      "(17, 3)\n",
      "411\n",
      "(17, 3)\n",
      "412\n",
      "(17, 3)\n",
      "413\n",
      "(17, 3)\n",
      "414\n",
      "(17, 3)\n",
      "415\n",
      "(17, 3)\n",
      "416\n",
      "(17, 3)\n",
      "417\n",
      "(17, 3)\n",
      "418\n",
      "(17, 3)\n",
      "419\n",
      "(17, 3)\n",
      "420\n",
      "(17, 3)\n",
      "421\n",
      "(17, 3)\n",
      "422\n",
      "(17, 3)\n",
      "423\n",
      "(17, 3)\n",
      "424\n",
      "(17, 3)\n",
      "425\n",
      "(17, 3)\n",
      "426\n",
      "(17, 3)\n",
      "427\n",
      "(17, 3)\n",
      "428\n",
      "(17, 3)\n",
      "429\n",
      "(17, 3)\n",
      "430\n",
      "(17, 3)\n",
      "431\n",
      "(17, 3)\n",
      "432\n",
      "(17, 3)\n",
      "433\n",
      "(17, 3)\n",
      "434\n",
      "(17, 3)\n",
      "435\n",
      "(17, 3)\n",
      "436\n",
      "(17, 3)\n",
      "437\n",
      "(17, 3)\n",
      "438\n",
      "(17, 3)\n",
      "439\n",
      "(17, 3)\n",
      "440\n",
      "(17, 3)\n",
      "441\n",
      "(17, 3)\n",
      "442\n",
      "(17, 3)\n",
      "443\n",
      "(17, 3)\n",
      "444\n",
      "(17, 3)\n",
      "445\n",
      "(17, 3)\n",
      "446\n",
      "(17, 3)\n",
      "447\n",
      "(17, 3)\n",
      "448\n",
      "(17, 3)\n",
      "449\n",
      "(17, 3)\n",
      "450\n",
      "(17, 3)\n",
      "451\n",
      "(17, 3)\n",
      "452\n",
      "(17, 3)\n",
      "453\n",
      "(17, 3)\n",
      "454\n",
      "(17, 3)\n",
      "455\n",
      "(17, 3)\n",
      "456\n",
      "(17, 3)\n",
      "457\n",
      "(17, 3)\n",
      "458\n",
      "(17, 3)\n",
      "459\n",
      "(17, 3)\n",
      "460\n",
      "(17, 3)\n",
      "461\n",
      "(17, 3)\n",
      "462\n",
      "(17, 3)\n",
      "463\n",
      "(17, 3)\n",
      "464\n",
      "(17, 3)\n",
      "465\n",
      "(17, 3)\n",
      "466\n",
      "(17, 3)\n",
      "467\n",
      "(17, 3)\n",
      "468\n",
      "(17, 3)\n",
      "469\n",
      "(17, 3)\n",
      "470\n",
      "(17, 3)\n",
      "471\n",
      "(17, 3)\n",
      "472\n",
      "(17, 3)\n",
      "473\n",
      "(17, 3)\n",
      "474\n",
      "(17, 3)\n",
      "475\n",
      "(17, 3)\n",
      "476\n",
      "(17, 3)\n",
      "477\n",
      "(17, 3)\n",
      "478\n",
      "(17, 3)\n",
      "479\n",
      "(17, 3)\n",
      "480\n",
      "(17, 3)\n",
      "481\n",
      "(17, 3)\n",
      "482\n",
      "(17, 3)\n",
      "483\n",
      "(17, 3)\n",
      "484\n",
      "(17, 3)\n",
      "485\n",
      "(17, 3)\n",
      "486\n",
      "(17, 3)\n",
      "487\n",
      "(17, 3)\n",
      "488\n",
      "(17, 3)\n",
      "489\n",
      "(17, 3)\n",
      "490\n",
      "(17, 3)\n",
      "491\n",
      "(17, 3)\n",
      "492\n",
      "(17, 3)\n",
      "493\n",
      "(17, 3)\n",
      "494\n",
      "(17, 3)\n",
      "495\n",
      "(17, 3)\n",
      "496\n",
      "(17, 3)\n",
      "497\n",
      "(17, 3)\n",
      "498\n",
      "(17, 3)\n",
      "499\n",
      "(17, 3)\n",
      "500\n",
      "(17, 3)\n",
      "501\n",
      "(17, 3)\n",
      "502\n",
      "(17, 3)\n",
      "503\n",
      "(17, 3)\n",
      "504\n",
      "(17, 3)\n",
      "505\n",
      "(17, 3)\n",
      "506\n",
      "(17, 3)\n",
      "507\n",
      "(17, 3)\n",
      "508\n",
      "(17, 3)\n",
      "509\n",
      "(17, 3)\n",
      "510\n",
      "(17, 3)\n",
      "511\n",
      "(17, 3)\n",
      "512\n",
      "(17, 3)\n",
      "513\n",
      "(17, 3)\n",
      "514\n",
      "(17, 3)\n",
      "515\n",
      "(17, 3)\n",
      "516\n",
      "(17, 3)\n",
      "517\n",
      "(17, 3)\n",
      "518\n",
      "(17, 3)\n",
      "519\n",
      "(17, 3)\n",
      "520\n",
      "(17, 3)\n",
      "521\n",
      "(17, 3)\n",
      "522\n",
      "(17, 3)\n",
      "523\n",
      "(17, 3)\n",
      "524\n",
      "(17, 3)\n",
      "525\n",
      "(17, 3)\n",
      "526\n",
      "(17, 3)\n",
      "527\n",
      "(17, 3)\n",
      "528\n",
      "(17, 3)\n",
      "529\n",
      "(17, 3)\n",
      "530\n",
      "(17, 3)\n",
      "531\n",
      "(17, 3)\n",
      "532\n",
      "(17, 3)\n",
      "533\n",
      "(17, 3)\n",
      "534\n",
      "(17, 3)\n",
      "535\n",
      "(17, 3)\n",
      "536\n",
      "(17, 3)\n",
      "537\n",
      "(17, 3)\n",
      "538\n",
      "(17, 3)\n",
      "539\n",
      "(17, 3)\n",
      "540\n",
      "(17, 3)\n",
      "541\n",
      "(17, 3)\n",
      "542\n",
      "(17, 3)\n",
      "543\n",
      "(17, 3)\n",
      "544\n",
      "(17, 3)\n",
      "545\n",
      "(17, 3)\n",
      "546\n",
      "(17, 3)\n",
      "547\n",
      "(17, 3)\n",
      "548\n",
      "(17, 3)\n",
      "549\n",
      "(17, 3)\n",
      "550\n",
      "(17, 3)\n",
      "551\n",
      "(17, 3)\n",
      "552\n",
      "(17, 3)\n",
      "553\n",
      "(17, 3)\n",
      "554\n",
      "(17, 3)\n",
      "555\n",
      "(17, 3)\n",
      "556\n",
      "(17, 3)\n",
      "557\n",
      "(17, 3)\n",
      "558\n",
      "(17, 3)\n",
      "559\n",
      "(17, 3)\n",
      "560\n",
      "(17, 3)\n",
      "561\n",
      "(17, 3)\n",
      "562\n",
      "(17, 3)\n",
      "563\n",
      "(17, 3)\n",
      "564\n",
      "(17, 3)\n",
      "565\n",
      "(17, 3)\n",
      "566\n",
      "(17, 3)\n",
      "567\n",
      "(17, 3)\n",
      "568\n",
      "(17, 3)\n",
      "569\n",
      "(17, 3)\n",
      "570\n",
      "(17, 3)\n",
      "571\n",
      "(17, 3)\n",
      "572\n",
      "(17, 3)\n",
      "573\n",
      "(17, 3)\n",
      "574\n",
      "(17, 3)\n",
      "575\n",
      "(17, 3)\n",
      "576\n",
      "(17, 3)\n",
      "577\n",
      "(17, 3)\n",
      "578\n",
      "(17, 3)\n",
      "579\n",
      "(17, 3)\n",
      "580\n",
      "(17, 3)\n",
      "581\n",
      "(17, 3)\n",
      "582\n",
      "(17, 3)\n",
      "583\n",
      "(17, 3)\n",
      "584\n",
      "(17, 3)\n",
      "585\n",
      "(17, 3)\n",
      "586\n",
      "(17, 3)\n",
      "587\n",
      "(17, 3)\n",
      "588\n",
      "(17, 3)\n",
      "589\n",
      "(17, 3)\n",
      "590\n",
      "(17, 3)\n",
      "591\n",
      "(17, 3)\n",
      "592\n",
      "(17, 3)\n",
      "593\n",
      "(17, 3)\n",
      "594\n",
      "(17, 3)\n",
      "595\n",
      "(17, 3)\n",
      "596\n",
      "(17, 3)\n",
      "597\n",
      "(17, 3)\n",
      "598\n",
      "(17, 3)\n",
      "599\n",
      "(17, 3)\n",
      "600\n",
      "(17, 3)\n",
      "601\n",
      "(17, 3)\n",
      "602\n",
      "(17, 3)\n",
      "603\n",
      "(17, 3)\n",
      "604\n",
      "(17, 3)\n",
      "605\n",
      "(17, 3)\n",
      "606\n",
      "(17, 3)\n",
      "607\n",
      "(17, 3)\n",
      "608\n",
      "(17, 3)\n",
      "609\n",
      "(17, 3)\n",
      "610\n",
      "(17, 3)\n",
      "611\n",
      "(17, 3)\n",
      "612\n",
      "(17, 3)\n",
      "613\n",
      "(17, 3)\n",
      "614\n",
      "(17, 3)\n",
      "615\n",
      "(17, 3)\n",
      "616\n",
      "(17, 3)\n",
      "617\n",
      "(17, 3)\n",
      "618\n",
      "(17, 3)\n",
      "619\n",
      "(17, 3)\n",
      "620\n",
      "(17, 3)\n",
      "621\n",
      "(17, 3)\n",
      "622\n",
      "(17, 3)\n",
      "623\n",
      "(17, 3)\n",
      "624\n",
      "(17, 3)\n",
      "625\n",
      "(17, 3)\n",
      "626\n",
      "(17, 3)\n",
      "627\n",
      "(17, 3)\n",
      "628\n",
      "(17, 3)\n",
      "629\n",
      "(17, 3)\n",
      "630\n",
      "(17, 3)\n",
      "631\n",
      "(17, 3)\n",
      "632\n",
      "(17, 3)\n",
      "633\n",
      "(17, 3)\n",
      "634\n",
      "(17, 3)\n",
      "635\n",
      "(17, 3)\n",
      "636\n",
      "(17, 3)\n",
      "637\n",
      "(17, 3)\n",
      "638\n",
      "(17, 3)\n",
      "639\n",
      "(17, 3)\n",
      "640\n",
      "(17, 3)\n",
      "641\n",
      "(17, 3)\n",
      "642\n",
      "(17, 3)\n",
      "643\n",
      "(17, 3)\n",
      "644\n",
      "(17, 3)\n",
      "645\n",
      "(17, 3)\n",
      "646\n",
      "(17, 3)\n",
      "647\n",
      "(17, 3)\n",
      "648\n",
      "(17, 3)\n",
      "649\n",
      "(17, 3)\n",
      "650\n",
      "(17, 3)\n",
      "651\n",
      "(17, 3)\n",
      "652\n",
      "(17, 3)\n",
      "653\n",
      "(17, 3)\n",
      "654\n",
      "(17, 3)\n",
      "655\n",
      "(17, 3)\n",
      "656\n",
      "(17, 3)\n",
      "657\n",
      "(17, 3)\n",
      "658\n",
      "(17, 3)\n",
      "659\n",
      "(17, 3)\n",
      "660\n",
      "(17, 3)\n",
      "661\n",
      "(17, 3)\n",
      "662\n",
      "(17, 3)\n",
      "663\n",
      "(17, 3)\n",
      "664\n",
      "(17, 3)\n",
      "665\n",
      "(17, 3)\n",
      "666\n",
      "(17, 3)\n",
      "667\n",
      "(17, 3)\n",
      "668\n",
      "(17, 3)\n",
      "669\n",
      "(17, 3)\n",
      "670\n",
      "(17, 3)\n",
      "671\n",
      "(17, 3)\n",
      "672\n",
      "(17, 3)\n",
      "673\n",
      "(17, 3)\n",
      "674\n",
      "(17, 3)\n",
      "675\n",
      "(17, 3)\n",
      "676\n",
      "(17, 3)\n",
      "677\n",
      "(17, 3)\n",
      "678\n",
      "(17, 3)\n",
      "679\n",
      "(17, 3)\n",
      "680\n",
      "(17, 3)\n",
      "681\n",
      "(17, 3)\n",
      "682\n",
      "(17, 3)\n",
      "683\n",
      "(17, 3)\n",
      "684\n",
      "(17, 3)\n",
      "685\n",
      "(17, 3)\n",
      "686\n",
      "(17, 3)\n",
      "687\n",
      "(17, 3)\n",
      "688\n",
      "(17, 3)\n",
      "689\n",
      "(17, 3)\n",
      "690\n",
      "(17, 3)\n",
      "691\n",
      "(17, 3)\n",
      "692\n",
      "(17, 3)\n",
      "693\n",
      "(17, 3)\n",
      "694\n",
      "(17, 3)\n",
      "695\n",
      "(17, 3)\n",
      "696\n",
      "(17, 3)\n",
      "697\n",
      "(17, 3)\n",
      "698\n",
      "(17, 3)\n",
      "699\n",
      "(17, 3)\n",
      "700\n",
      "(17, 3)\n",
      "701\n",
      "(17, 3)\n",
      "702\n",
      "(17, 3)\n",
      "703\n",
      "(17, 3)\n",
      "704\n",
      "(17, 3)\n",
      "705\n",
      "(17, 3)\n",
      "706\n",
      "(17, 3)\n",
      "707\n",
      "(17, 3)\n",
      "708\n",
      "(17, 3)\n",
      "709\n",
      "(17, 3)\n",
      "710\n",
      "(17, 3)\n",
      "711\n",
      "(17, 3)\n",
      "712\n",
      "(17, 3)\n",
      "713\n",
      "(17, 3)\n",
      "714\n",
      "(17, 3)\n",
      "715\n",
      "(17, 3)\n",
      "716\n",
      "(17, 3)\n",
      "717\n",
      "(17, 3)\n",
      "718\n",
      "(17, 3)\n",
      "719\n",
      "(17, 3)\n",
      "720\n",
      "(17, 3)\n",
      "721\n",
      "(17, 3)\n",
      "722\n",
      "(17, 3)\n",
      "723\n",
      "(17, 3)\n",
      "724\n",
      "(17, 3)\n",
      "725\n",
      "(17, 3)\n",
      "726\n",
      "(17, 3)\n",
      "727\n",
      "(17, 3)\n",
      "728\n",
      "(17, 3)\n",
      "729\n",
      "(17, 3)\n",
      "730\n",
      "(17, 3)\n",
      "731\n",
      "(17, 3)\n",
      "732\n",
      "(17, 3)\n",
      "733\n",
      "(17, 3)\n",
      "734\n",
      "(17, 3)\n",
      "735\n",
      "(17, 3)\n",
      "736\n",
      "(17, 3)\n",
      "737\n",
      "(17, 3)\n",
      "738\n",
      "(17, 3)\n",
      "739\n",
      "(17, 3)\n",
      "740\n",
      "(17, 3)\n",
      "741\n",
      "(17, 3)\n",
      "742\n",
      "(17, 3)\n",
      "743\n",
      "(17, 3)\n",
      "744\n",
      "(17, 3)\n",
      "745\n",
      "(17, 3)\n",
      "746\n",
      "(17, 3)\n",
      "747\n",
      "(17, 3)\n",
      "748\n",
      "(17, 3)\n",
      "749\n",
      "(17, 3)\n",
      "750\n",
      "(17, 3)\n",
      "751\n",
      "(17, 3)\n",
      "752\n",
      "(17, 3)\n",
      "753\n",
      "(17, 3)\n",
      "754\n",
      "(17, 3)\n",
      "755\n",
      "(17, 3)\n",
      "756\n",
      "(17, 3)\n",
      "757\n",
      "(17, 3)\n",
      "758\n",
      "(17, 3)\n",
      "759\n",
      "(17, 3)\n",
      "760\n",
      "(17, 3)\n",
      "761\n",
      "(17, 3)\n",
      "762\n",
      "(17, 3)\n",
      "763\n",
      "(17, 3)\n",
      "764\n",
      "(17, 3)\n",
      "765\n",
      "(17, 3)\n",
      "766\n",
      "(17, 3)\n",
      "767\n",
      "(17, 3)\n",
      "768\n",
      "(17, 3)\n",
      "769\n",
      "(17, 3)\n",
      "770\n",
      "(17, 3)\n",
      "771\n",
      "(17, 3)\n",
      "772\n",
      "(17, 3)\n",
      "773\n",
      "(17, 3)\n",
      "774\n",
      "(17, 3)\n",
      "775\n",
      "(17, 3)\n",
      "776\n",
      "(17, 3)\n",
      "777\n",
      "(17, 3)\n",
      "778\n",
      "(17, 3)\n",
      "779\n",
      "(17, 3)\n",
      "780\n",
      "(17, 3)\n",
      "781\n",
      "(17, 3)\n",
      "782\n",
      "(17, 3)\n",
      "783\n",
      "(17, 3)\n",
      "784\n",
      "(17, 3)\n",
      "785\n",
      "(17, 3)\n",
      "786\n",
      "(17, 3)\n",
      "787\n",
      "(17, 3)\n",
      "788\n",
      "(17, 3)\n",
      "789\n",
      "(17, 3)\n",
      "790\n",
      "(17, 3)\n",
      "791\n",
      "(17, 3)\n",
      "792\n",
      "(17, 3)\n",
      "793\n",
      "(17, 3)\n",
      "794\n",
      "(17, 3)\n",
      "795\n",
      "(17, 3)\n",
      "796\n",
      "(17, 3)\n",
      "797\n",
      "(17, 3)\n",
      "798\n",
      "(17, 3)\n",
      "799\n",
      "(17, 3)\n",
      "800\n",
      "(17, 3)\n",
      "801\n",
      "(17, 3)\n",
      "802\n",
      "(17, 3)\n",
      "803\n",
      "(17, 3)\n",
      "804\n",
      "(17, 3)\n",
      "805\n",
      "(17, 3)\n",
      "806\n",
      "(17, 3)\n",
      "807\n",
      "(17, 3)\n",
      "808\n",
      "(17, 3)\n",
      "809\n",
      "(17, 3)\n",
      "810\n",
      "(17, 3)\n",
      "811\n",
      "(17, 3)\n",
      "812\n",
      "(17, 3)\n",
      "813\n",
      "(17, 3)\n",
      "814\n",
      "(17, 3)\n",
      "815\n",
      "(17, 3)\n",
      "816\n",
      "(17, 3)\n",
      "817\n",
      "(17, 3)\n",
      "818\n",
      "(17, 3)\n",
      "819\n",
      "(17, 3)\n",
      "820\n",
      "(17, 3)\n",
      "821\n",
      "(17, 3)\n",
      "822\n",
      "(17, 3)\n",
      "823\n",
      "(17, 3)\n",
      "824\n",
      "(17, 3)\n",
      "825\n",
      "(17, 3)\n",
      "826\n",
      "(17, 3)\n",
      "827\n",
      "(17, 3)\n",
      "828\n",
      "(17, 3)\n",
      "829\n",
      "(17, 3)\n",
      "830\n",
      "(17, 3)\n",
      "831\n",
      "(17, 3)\n",
      "832\n",
      "(17, 3)\n",
      "833\n",
      "(17, 3)\n",
      "834\n",
      "(17, 3)\n",
      "835\n",
      "(17, 3)\n",
      "836\n",
      "(17, 3)\n",
      "837\n",
      "(17, 3)\n",
      "838\n",
      "(17, 3)\n",
      "839\n",
      "(17, 3)\n",
      "840\n",
      "(17, 3)\n",
      "841\n",
      "(17, 3)\n",
      "842\n",
      "(17, 3)\n",
      "843\n",
      "(17, 3)\n",
      "844\n",
      "(17, 3)\n",
      "845\n",
      "(17, 3)\n",
      "846\n",
      "(17, 3)\n",
      "847\n",
      "(17, 3)\n",
      "848\n",
      "(17, 3)\n",
      "849\n",
      "(17, 3)\n",
      "850\n",
      "(17, 3)\n",
      "851\n",
      "(17, 3)\n",
      "852\n",
      "(17, 3)\n",
      "853\n",
      "(17, 3)\n",
      "854\n",
      "(17, 3)\n",
      "855\n",
      "(17, 3)\n",
      "856\n",
      "(17, 3)\n",
      "857\n",
      "(17, 3)\n",
      "858\n",
      "(17, 3)\n",
      "859\n",
      "(17, 3)\n",
      "860\n",
      "(17, 3)\n",
      "861\n",
      "(17, 3)\n",
      "862\n",
      "(17, 3)\n",
      "863\n",
      "(17, 3)\n",
      "864\n",
      "(17, 3)\n",
      "865\n",
      "(17, 3)\n",
      "866\n",
      "(17, 3)\n",
      "867\n",
      "(17, 3)\n",
      "868\n",
      "(17, 3)\n",
      "869\n",
      "(17, 3)\n",
      "870\n",
      "(17, 3)\n",
      "871\n",
      "(17, 3)\n",
      "872\n",
      "(17, 3)\n",
      "873\n",
      "(17, 3)\n",
      "874\n",
      "(17, 3)\n",
      "875\n",
      "(17, 3)\n",
      "876\n",
      "(17, 3)\n",
      "877\n",
      "(17, 3)\n",
      "878\n",
      "(17, 3)\n",
      "879\n",
      "(17, 3)\n",
      "880\n",
      "(17, 3)\n",
      "881\n",
      "(17, 3)\n",
      "882\n",
      "(17, 3)\n",
      "883\n",
      "(17, 3)\n",
      "884\n",
      "(17, 3)\n",
      "885\n",
      "(17, 3)\n",
      "886\n",
      "(17, 3)\n",
      "887\n",
      "(17, 3)\n",
      "888\n",
      "(17, 3)\n",
      "889\n",
      "(17, 3)\n",
      "890\n",
      "(17, 3)\n",
      "891\n",
      "(17, 3)\n",
      "892\n",
      "(17, 3)\n",
      "893\n",
      "(17, 3)\n",
      "894\n",
      "(17, 3)\n",
      "895\n",
      "(17, 3)\n",
      "896\n",
      "(17, 3)\n",
      "897\n",
      "(17, 3)\n",
      "898\n",
      "(17, 3)\n",
      "899\n",
      "(17, 3)\n",
      "900\n",
      "(17, 3)\n",
      "901\n",
      "(17, 3)\n",
      "902\n",
      "(17, 3)\n",
      "903\n",
      "(17, 3)\n",
      "904\n",
      "(17, 3)\n",
      "905\n",
      "(17, 3)\n",
      "906\n",
      "(17, 3)\n",
      "907\n",
      "(17, 3)\n",
      "908\n",
      "(17, 3)\n",
      "909\n",
      "(17, 3)\n",
      "910\n",
      "(17, 3)\n",
      "911\n",
      "(17, 3)\n",
      "912\n",
      "(17, 3)\n",
      "913\n",
      "(17, 3)\n",
      "914\n",
      "(17, 3)\n",
      "915\n",
      "(17, 3)\n",
      "916\n",
      "(17, 3)\n",
      "917\n",
      "(17, 3)\n",
      "918\n",
      "(17, 3)\n",
      "919\n",
      "(17, 3)\n",
      "920\n",
      "(17, 3)\n",
      "921\n",
      "(17, 3)\n",
      "922\n",
      "(17, 3)\n",
      "923\n",
      "(17, 3)\n",
      "924\n",
      "(17, 3)\n",
      "925\n",
      "(17, 3)\n",
      "926\n",
      "(17, 3)\n",
      "927\n",
      "(17, 3)\n",
      "928\n",
      "(17, 3)\n",
      "929\n",
      "(17, 3)\n",
      "930\n",
      "(17, 3)\n",
      "931\n",
      "(17, 3)\n",
      "932\n",
      "(17, 3)\n",
      "933\n",
      "(17, 3)\n",
      "934\n",
      "(17, 3)\n",
      "935\n",
      "(17, 3)\n",
      "936\n",
      "(17, 3)\n",
      "937\n",
      "(17, 3)\n",
      "938\n",
      "(17, 3)\n",
      "939\n",
      "(17, 3)\n",
      "940\n",
      "(17, 3)\n",
      "941\n",
      "(17, 3)\n",
      "942\n",
      "(17, 3)\n",
      "943\n",
      "(17, 3)\n",
      "944\n",
      "(17, 3)\n",
      "945\n",
      "(17, 3)\n",
      "946\n",
      "(17, 3)\n",
      "947\n",
      "(17, 3)\n",
      "948\n",
      "(17, 3)\n",
      "949\n",
      "(17, 3)\n",
      "950\n",
      "(17, 3)\n",
      "951\n",
      "(17, 3)\n",
      "952\n",
      "(17, 3)\n",
      "953\n",
      "(17, 3)\n",
      "954\n",
      "(17, 3)\n",
      "955\n",
      "(17, 3)\n",
      "956\n",
      "(17, 3)\n",
      "957\n",
      "(17, 3)\n",
      "958\n",
      "(17, 3)\n",
      "959\n",
      "(17, 3)\n",
      "960\n",
      "(17, 3)\n",
      "961\n",
      "(17, 3)\n",
      "962\n",
      "(17, 3)\n",
      "963\n",
      "(17, 3)\n",
      "964\n",
      "(17, 3)\n",
      "965\n",
      "(17, 3)\n",
      "966\n",
      "(17, 3)\n",
      "967\n",
      "(17, 3)\n",
      "968\n",
      "(17, 3)\n",
      "969\n",
      "(17, 3)\n",
      "970\n",
      "(17, 3)\n",
      "971\n",
      "(17, 3)\n",
      "972\n",
      "(17, 3)\n",
      "973\n",
      "(17, 3)\n",
      "974\n",
      "(17, 3)\n",
      "975\n",
      "(17, 3)\n",
      "976\n",
      "(17, 3)\n",
      "977\n",
      "(17, 3)\n",
      "978\n",
      "(17, 3)\n",
      "979\n",
      "(17, 3)\n",
      "980\n",
      "(17, 3)\n",
      "981\n",
      "(17, 3)\n",
      "982\n",
      "(17, 3)\n",
      "983\n",
      "(17, 3)\n",
      "984\n",
      "(17, 3)\n",
      "985\n",
      "(17, 3)\n",
      "986\n",
      "(17, 3)\n",
      "987\n",
      "(17, 3)\n",
      "988\n",
      "(17, 3)\n",
      "989\n",
      "(17, 3)\n",
      "990\n",
      "(17, 3)\n",
      "991\n",
      "(17, 3)\n",
      "992\n",
      "(17, 3)\n",
      "993\n",
      "(17, 3)\n",
      "994\n",
      "(17, 3)\n",
      "995\n",
      "(17, 3)\n",
      "996\n",
      "(17, 3)\n",
      "997\n",
      "(17, 3)\n",
      "998\n",
      "(17, 3)\n",
      "999\n",
      "(17, 3)\n",
      "1000\n",
      "(17, 3)\n",
      "1001\n",
      "(17, 3)\n",
      "1002\n",
      "(17, 3)\n",
      "1003\n",
      "(17, 3)\n",
      "1004\n",
      "(17, 3)\n",
      "1005\n",
      "(17, 3)\n",
      "1006\n",
      "(17, 3)\n",
      "1007\n",
      "(17, 3)\n",
      "1008\n",
      "(17, 3)\n",
      "1009\n",
      "(17, 3)\n",
      "1010\n",
      "(17, 3)\n",
      "1011\n",
      "(17, 3)\n",
      "1012\n",
      "(17, 3)\n",
      "1013\n",
      "(17, 3)\n",
      "1014\n",
      "(17, 3)\n",
      "1015\n",
      "(17, 3)\n",
      "1016\n",
      "(17, 3)\n",
      "1017\n",
      "(17, 3)\n",
      "1018\n",
      "(17, 3)\n",
      "1019\n",
      "(17, 3)\n",
      "1020\n",
      "(17, 3)\n",
      "1021\n",
      "(17, 3)\n",
      "1022\n",
      "(17, 3)\n",
      "1023\n",
      "(17, 3)\n",
      "1024\n",
      "(17, 3)\n",
      "1025\n",
      "(17, 3)\n",
      "1026\n",
      "(17, 3)\n",
      "1027\n",
      "(17, 3)\n",
      "1028\n",
      "(17, 3)\n",
      "1029\n",
      "(17, 3)\n",
      "1030\n",
      "(17, 3)\n",
      "1031\n",
      "(17, 3)\n",
      "1032\n",
      "(17, 3)\n",
      "1033\n",
      "(17, 3)\n",
      "1034\n",
      "(17, 3)\n",
      "1035\n",
      "(17, 3)\n",
      "1036\n",
      "(17, 3)\n",
      "1037\n",
      "(17, 3)\n",
      "1038\n",
      "(17, 3)\n",
      "1039\n",
      "(17, 3)\n",
      "1040\n",
      "(17, 3)\n",
      "1041\n",
      "(17, 3)\n",
      "1042\n",
      "(17, 3)\n",
      "1043\n",
      "(17, 3)\n",
      "1044\n",
      "(17, 3)\n",
      "1045\n",
      "(17, 3)\n",
      "1046\n",
      "(17, 3)\n",
      "1047\n",
      "(17, 3)\n",
      "1048\n",
      "(17, 3)\n",
      "1049\n",
      "(17, 3)\n",
      "1050\n",
      "(17, 3)\n",
      "1051\n",
      "(17, 3)\n",
      "1052\n",
      "(17, 3)\n",
      "1053\n",
      "(17, 3)\n",
      "1054\n",
      "(17, 3)\n",
      "1055\n",
      "(17, 3)\n",
      "1056\n",
      "(17, 3)\n",
      "1057\n",
      "(17, 3)\n",
      "1058\n",
      "(17, 3)\n",
      "1059\n",
      "(17, 3)\n",
      "1060\n",
      "(17, 3)\n",
      "1061\n",
      "(17, 3)\n",
      "1062\n",
      "(17, 3)\n",
      "1063\n",
      "(17, 3)\n",
      "1064\n",
      "(17, 3)\n",
      "1065\n",
      "(17, 3)\n",
      "1066\n",
      "(17, 3)\n",
      "1067\n",
      "(17, 3)\n",
      "1068\n",
      "(17, 3)\n",
      "1069\n",
      "(17, 3)\n",
      "1070\n",
      "(17, 3)\n",
      "1071\n",
      "(17, 3)\n",
      "1072\n",
      "(17, 3)\n",
      "1073\n",
      "(17, 3)\n",
      "1074\n",
      "(17, 3)\n",
      "1075\n",
      "(17, 3)\n",
      "1076\n",
      "(17, 3)\n",
      "1077\n",
      "(17, 3)\n",
      "1078\n",
      "(17, 3)\n",
      "1079\n",
      "(17, 3)\n",
      "1080\n",
      "(17, 3)\n",
      "1081\n",
      "(17, 3)\n",
      "1082\n",
      "(17, 3)\n",
      "1083\n",
      "(17, 3)\n",
      "1084\n",
      "(17, 3)\n",
      "1085\n",
      "(17, 3)\n",
      "1086\n",
      "(17, 3)\n",
      "1087\n",
      "(17, 3)\n",
      "1088\n",
      "(17, 3)\n",
      "1089\n",
      "(17, 3)\n",
      "1090\n",
      "(17, 3)\n",
      "1091\n",
      "(17, 3)\n",
      "1092\n",
      "(17, 3)\n",
      "1093\n",
      "(17, 3)\n",
      "1094\n",
      "(17, 3)\n",
      "1095\n",
      "(17, 3)\n",
      "1096\n",
      "(17, 3)\n",
      "1097\n",
      "(17, 3)\n",
      "1098\n",
      "(17, 3)\n",
      "1099\n",
      "(17, 3)\n",
      "1100\n",
      "(17, 3)\n",
      "1101\n",
      "(17, 3)\n",
      "1102\n",
      "(17, 3)\n",
      "1103\n",
      "(17, 3)\n",
      "1104\n",
      "(17, 3)\n",
      "1105\n",
      "(17, 3)\n",
      "1106\n",
      "(17, 3)\n",
      "1107\n",
      "(17, 3)\n",
      "1108\n",
      "(17, 3)\n",
      "1109\n",
      "(17, 3)\n",
      "1110\n",
      "(17, 3)\n",
      "1111\n",
      "(17, 3)\n",
      "1112\n",
      "(17, 3)\n",
      "1113\n",
      "(17, 3)\n",
      "1114\n",
      "(17, 3)\n",
      "1115\n",
      "(17, 3)\n",
      "1116\n",
      "(17, 3)\n",
      "1117\n",
      "(17, 3)\n",
      "1118\n",
      "(17, 3)\n",
      "1119\n",
      "(17, 3)\n",
      "1120\n",
      "(17, 3)\n",
      "1121\n",
      "(17, 3)\n",
      "1122\n",
      "(17, 3)\n",
      "1123\n",
      "(17, 3)\n",
      "1124\n",
      "(17, 3)\n",
      "1125\n",
      "(17, 3)\n",
      "1126\n",
      "(17, 3)\n",
      "1127\n",
      "(17, 3)\n",
      "1128\n",
      "(17, 3)\n",
      "1129\n",
      "(17, 3)\n",
      "1130\n",
      "(17, 3)\n",
      "1131\n",
      "(17, 3)\n",
      "1132\n",
      "(17, 3)\n",
      "1133\n",
      "(17, 3)\n",
      "1134\n",
      "(17, 3)\n",
      "1135\n",
      "(17, 3)\n",
      "1136\n",
      "(17, 3)\n",
      "1137\n",
      "(17, 3)\n",
      "1138\n",
      "(17, 3)\n",
      "1139\n",
      "(17, 3)\n",
      "1140\n",
      "(17, 3)\n",
      "1141\n",
      "(17, 3)\n",
      "1142\n",
      "(17, 3)\n",
      "1143\n",
      "(17, 3)\n",
      "1144\n",
      "(17, 3)\n",
      "1145\n",
      "(17, 3)\n",
      "1146\n",
      "(17, 3)\n",
      "1147\n",
      "(17, 3)\n",
      "1148\n",
      "(17, 3)\n",
      "1149\n",
      "(17, 3)\n",
      "1150\n",
      "(17, 3)\n",
      "1151\n",
      "(17, 3)\n",
      "1152\n",
      "(17, 3)\n",
      "1153\n",
      "(17, 3)\n",
      "1154\n",
      "(17, 3)\n",
      "1155\n",
      "(17, 3)\n",
      "1156\n",
      "(17, 3)\n",
      "1157\n",
      "(17, 3)\n",
      "1158\n",
      "(17, 3)\n",
      "1159\n",
      "(17, 3)\n",
      "1160\n",
      "(17, 3)\n",
      "1161\n",
      "(17, 3)\n",
      "1162\n",
      "(17, 3)\n",
      "1163\n",
      "(17, 3)\n",
      "1164\n",
      "(17, 3)\n",
      "1165\n",
      "(17, 3)\n",
      "1166\n",
      "(17, 3)\n",
      "1167\n",
      "(17, 3)\n",
      "1168\n",
      "(17, 3)\n",
      "1169\n",
      "(17, 3)\n",
      "1170\n",
      "(17, 3)\n",
      "1171\n",
      "(17, 3)\n",
      "1172\n",
      "(17, 3)\n",
      "1173\n",
      "(17, 3)\n",
      "1174\n",
      "(17, 3)\n",
      "1175\n",
      "(17, 3)\n",
      "1176\n",
      "(17, 3)\n",
      "1177\n",
      "(17, 3)\n",
      "1178\n",
      "(17, 3)\n",
      "1179\n",
      "(17, 3)\n",
      "1180\n",
      "(17, 3)\n",
      "1181\n",
      "(17, 3)\n",
      "1182\n",
      "(17, 3)\n",
      "1183\n",
      "(17, 3)\n",
      "1184\n",
      "(17, 3)\n",
      "1185\n",
      "(17, 3)\n",
      "1186\n",
      "(17, 3)\n",
      "1187\n",
      "(17, 3)\n",
      "1188\n",
      "(17, 3)\n",
      "1189\n",
      "(17, 3)\n",
      "1190\n",
      "(17, 3)\n",
      "1191\n",
      "(17, 3)\n",
      "1192\n",
      "(17, 3)\n",
      "1193\n",
      "(17, 3)\n",
      "1194\n",
      "(17, 3)\n",
      "1195\n",
      "(17, 3)\n",
      "1196\n",
      "(17, 3)\n",
      "1197\n",
      "(17, 3)\n",
      "1198\n",
      "(17, 3)\n",
      "1199\n",
      "(17, 3)\n",
      "1200\n",
      "(17, 3)\n",
      "1201\n",
      "(17, 3)\n",
      "1202\n",
      "(17, 3)\n",
      "1203\n",
      "(17, 3)\n",
      "1204\n",
      "(17, 3)\n",
      "1205\n",
      "(17, 3)\n",
      "1206\n",
      "(17, 3)\n",
      "1207\n",
      "(17, 3)\n",
      "1208\n",
      "(17, 3)\n",
      "1209\n",
      "(17, 3)\n",
      "1210\n",
      "(17, 3)\n",
      "1211\n",
      "(17, 3)\n",
      "1212\n",
      "(17, 3)\n",
      "1213\n",
      "(17, 3)\n",
      "1214\n",
      "(17, 3)\n",
      "1215\n",
      "(17, 3)\n",
      "1216\n",
      "(17, 3)\n",
      "1217\n",
      "(17, 3)\n",
      "1218\n",
      "(17, 3)\n",
      "1219\n",
      "(17, 3)\n",
      "1220\n",
      "(17, 3)\n",
      "1221\n",
      "(17, 3)\n",
      "1222\n",
      "(17, 3)\n",
      "1223\n",
      "(17, 3)\n",
      "1224\n",
      "(17, 3)\n",
      "1225\n",
      "(17, 3)\n",
      "1226\n",
      "(17, 3)\n",
      "1227\n",
      "(17, 3)\n",
      "1228\n",
      "(17, 3)\n",
      "1229\n",
      "(17, 3)\n",
      "1230\n",
      "(17, 3)\n",
      "1231\n",
      "(17, 3)\n",
      "1232\n",
      "(17, 3)\n",
      "1233\n",
      "(17, 3)\n",
      "1234\n",
      "(17, 3)\n",
      "1235\n",
      "(17, 3)\n",
      "1236\n",
      "(17, 3)\n",
      "1237\n",
      "(17, 3)\n",
      "1238\n",
      "(17, 3)\n",
      "1239\n",
      "(17, 3)\n",
      "1240\n",
      "(17, 3)\n",
      "1241\n",
      "(17, 3)\n",
      "1242\n",
      "(17, 3)\n",
      "1243\n",
      "(17, 3)\n",
      "1244\n",
      "(17, 3)\n",
      "1245\n",
      "(17, 3)\n",
      "1246\n",
      "(17, 3)\n",
      "1247\n",
      "(17, 3)\n",
      "1248\n",
      "(17, 3)\n",
      "1249\n",
      "(17, 3)\n",
      "1250\n",
      "(17, 3)\n",
      "1251\n",
      "(17, 3)\n",
      "1252\n",
      "(17, 3)\n",
      "1253\n",
      "(17, 3)\n",
      "1254\n",
      "(17, 3)\n",
      "1255\n",
      "(17, 3)\n",
      "1256\n",
      "(17, 3)\n",
      "1257\n",
      "(17, 3)\n",
      "1258\n",
      "(17, 3)\n",
      "1259\n",
      "(17, 3)\n",
      "1260\n",
      "(17, 3)\n",
      "1261\n",
      "(17, 3)\n",
      "1262\n",
      "(17, 3)\n",
      "1263\n",
      "(17, 3)\n",
      "1264\n",
      "(17, 3)\n",
      "1265\n",
      "(17, 3)\n",
      "1266\n",
      "(17, 3)\n",
      "1267\n",
      "(17, 3)\n",
      "1268\n",
      "(17, 3)\n",
      "1269\n",
      "(17, 3)\n",
      "1270\n",
      "(17, 3)\n",
      "1271\n",
      "(17, 3)\n",
      "1272\n",
      "(17, 3)\n",
      "1273\n",
      "(17, 3)\n",
      "1274\n",
      "(17, 3)\n",
      "1275\n",
      "(17, 3)\n",
      "1276\n",
      "(17, 3)\n",
      "1277\n",
      "(17, 3)\n",
      "1278\n",
      "(17, 3)\n",
      "1279\n",
      "(17, 3)\n",
      "1280\n",
      "(17, 3)\n",
      "1281\n",
      "(17, 3)\n",
      "1282\n",
      "(17, 3)\n",
      "1283\n",
      "(17, 3)\n",
      "1284\n",
      "(17, 3)\n",
      "1285\n",
      "(17, 3)\n",
      "1286\n",
      "(17, 3)\n",
      "1287\n",
      "(17, 3)\n",
      "1288\n",
      "(17, 3)\n",
      "1289\n",
      "(17, 3)\n",
      "1290\n",
      "(17, 3)\n",
      "1291\n",
      "(17, 3)\n",
      "1292\n",
      "(17, 3)\n",
      "1293\n",
      "(17, 3)\n",
      "1294\n",
      "(17, 3)\n",
      "1295\n",
      "(17, 3)\n",
      "1296\n",
      "(17, 3)\n",
      "1297\n",
      "(17, 3)\n",
      "1298\n",
      "(17, 3)\n",
      "1299\n",
      "(17, 3)\n",
      "1300\n",
      "(17, 3)\n",
      "1301\n",
      "(17, 3)\n",
      "1302\n",
      "(17, 3)\n",
      "1303\n",
      "(17, 3)\n",
      "1304\n",
      "(17, 3)\n",
      "1305\n",
      "(17, 3)\n",
      "1306\n",
      "(17, 3)\n",
      "1307\n",
      "(17, 3)\n",
      "1308\n",
      "(17, 3)\n",
      "1309\n",
      "(17, 3)\n",
      "1310\n",
      "(17, 3)\n",
      "1311\n",
      "(17, 3)\n",
      "1312\n",
      "(17, 3)\n",
      "1313\n",
      "(17, 3)\n",
      "1314\n",
      "(17, 3)\n",
      "1315\n",
      "(17, 3)\n",
      "1316\n",
      "(17, 3)\n",
      "1317\n",
      "(17, 3)\n",
      "1318\n",
      "(17, 3)\n",
      "1319\n",
      "(17, 3)\n",
      "1320\n",
      "(17, 3)\n",
      "1321\n",
      "(17, 3)\n",
      "1322\n",
      "(17, 3)\n",
      "1323\n",
      "(17, 3)\n",
      "1324\n",
      "(17, 3)\n",
      "1325\n",
      "(17, 3)\n",
      "1326\n",
      "(17, 3)\n",
      "1327\n",
      "(17, 3)\n",
      "1328\n",
      "(17, 3)\n",
      "1329\n",
      "(17, 3)\n",
      "1330\n",
      "(17, 3)\n",
      "1331\n",
      "(17, 3)\n",
      "1332\n",
      "(17, 3)\n",
      "1333\n",
      "(17, 3)\n",
      "1334\n",
      "(17, 3)\n",
      "1335\n",
      "(17, 3)\n",
      "1336\n",
      "(17, 3)\n",
      "1337\n",
      "(17, 3)\n",
      "1338\n",
      "(17, 3)\n",
      "1339\n",
      "(17, 3)\n",
      "1340\n",
      "(17, 3)\n",
      "1341\n",
      "(17, 3)\n",
      "1342\n",
      "(17, 3)\n",
      "1343\n",
      "(17, 3)\n",
      "1344\n",
      "(17, 3)\n",
      "1345\n",
      "(17, 3)\n",
      "1346\n",
      "(17, 3)\n",
      "1347\n",
      "(17, 3)\n",
      "1348\n",
      "(17, 3)\n",
      "1349\n",
      "(17, 3)\n",
      "1350\n",
      "(17, 3)\n",
      "1351\n",
      "(17, 3)\n",
      "1352\n",
      "(17, 3)\n",
      "1353\n",
      "(17, 3)\n",
      "1354\n",
      "(17, 3)\n",
      "1355\n",
      "(17, 3)\n",
      "1356\n",
      "(17, 3)\n",
      "1357\n",
      "(17, 3)\n",
      "1358\n",
      "(17, 3)\n",
      "1359\n",
      "(17, 3)\n",
      "1360\n",
      "(17, 3)\n",
      "1361\n",
      "(17, 3)\n",
      "1362\n",
      "(17, 3)\n",
      "1363\n",
      "(17, 3)\n",
      "1364\n",
      "(17, 3)\n",
      "1365\n",
      "(17, 3)\n",
      "1366\n",
      "(17, 3)\n",
      "1367\n",
      "(17, 3)\n",
      "1368\n",
      "(17, 3)\n",
      "1369\n",
      "(17, 3)\n",
      "1370\n",
      "(17, 3)\n",
      "1371\n",
      "(17, 3)\n",
      "1372\n",
      "(17, 3)\n",
      "1373\n",
      "(17, 3)\n",
      "1374\n",
      "(17, 3)\n",
      "1375\n",
      "(17, 3)\n",
      "1376\n",
      "(17, 3)\n",
      "1377\n",
      "(17, 3)\n",
      "1378\n",
      "(17, 3)\n",
      "1379\n",
      "(17, 3)\n",
      "1380\n",
      "(17, 3)\n",
      "1381\n",
      "(17, 3)\n",
      "1382\n",
      "(17, 3)\n",
      "1383\n",
      "(17, 3)\n",
      "1384\n",
      "(17, 3)\n",
      "1385\n",
      "(17, 3)\n",
      "1386\n",
      "(17, 3)\n",
      "1387\n",
      "(17, 3)\n",
      "1388\n",
      "(17, 3)\n",
      "1389\n",
      "(17, 3)\n",
      "1390\n",
      "(17, 3)\n",
      "1391\n",
      "(17, 3)\n",
      "1392\n",
      "(17, 3)\n",
      "1393\n",
      "(17, 3)\n",
      "1394\n",
      "(17, 3)\n",
      "1395\n",
      "(17, 3)\n",
      "1396\n",
      "(17, 3)\n",
      "1397\n",
      "(17, 3)\n",
      "1398\n",
      "(17, 3)\n",
      "1399\n",
      "(17, 3)\n",
      "1400\n",
      "(17, 3)\n",
      "0\n",
      "(17, 3)\n",
      "1\n",
      "(17, 3)\n",
      "2\n",
      "(17, 3)\n",
      "3\n",
      "(17, 3)\n",
      "4\n",
      "(17, 3)\n",
      "5\n",
      "(17, 3)\n",
      "6\n",
      "(17, 3)\n",
      "7\n",
      "(17, 3)\n",
      "8\n",
      "(17, 3)\n",
      "9\n",
      "(17, 3)\n",
      "10\n",
      "(17, 3)\n",
      "11\n",
      "(17, 3)\n",
      "12\n",
      "(17, 3)\n",
      "13\n",
      "(17, 3)\n",
      "14\n",
      "(17, 3)\n",
      "15\n",
      "(17, 3)\n",
      "16\n",
      "(17, 3)\n",
      "17\n",
      "(17, 3)\n",
      "18\n",
      "(17, 3)\n",
      "19\n",
      "(17, 3)\n",
      "20\n",
      "(17, 3)\n",
      "21\n",
      "(17, 3)\n",
      "22\n",
      "(17, 3)\n",
      "23\n",
      "(17, 3)\n",
      "24\n",
      "(17, 3)\n",
      "25\n",
      "(17, 3)\n",
      "26\n",
      "(17, 3)\n",
      "27\n",
      "(17, 3)\n",
      "28\n",
      "(17, 3)\n",
      "29\n",
      "(17, 3)\n",
      "30\n",
      "(17, 3)\n",
      "31\n",
      "(17, 3)\n",
      "32\n",
      "(17, 3)\n",
      "33\n",
      "(17, 3)\n",
      "34\n",
      "(17, 3)\n",
      "35\n",
      "(17, 3)\n",
      "36\n",
      "(17, 3)\n",
      "37\n",
      "(17, 3)\n",
      "38\n",
      "(17, 3)\n",
      "39\n",
      "(17, 3)\n",
      "40\n",
      "(17, 3)\n",
      "41\n",
      "(17, 3)\n",
      "42\n",
      "(17, 3)\n",
      "43\n",
      "(17, 3)\n",
      "44\n",
      "(17, 3)\n",
      "45\n",
      "(17, 3)\n",
      "46\n",
      "(17, 3)\n",
      "47\n",
      "(17, 3)\n",
      "48\n",
      "(17, 3)\n",
      "49\n",
      "(17, 3)\n",
      "50\n",
      "(17, 3)\n",
      "51\n",
      "(17, 3)\n",
      "52\n",
      "(17, 3)\n",
      "53\n",
      "(17, 3)\n",
      "54\n",
      "(17, 3)\n",
      "55\n",
      "(17, 3)\n",
      "56\n",
      "(17, 3)\n",
      "57\n",
      "(17, 3)\n",
      "58\n",
      "(17, 3)\n",
      "59\n",
      "(17, 3)\n",
      "60\n",
      "(17, 3)\n",
      "61\n",
      "(17, 3)\n",
      "62\n",
      "(17, 3)\n",
      "63\n",
      "(17, 3)\n",
      "64\n",
      "(17, 3)\n",
      "65\n",
      "(17, 3)\n",
      "66\n",
      "(17, 3)\n",
      "67\n",
      "(17, 3)\n",
      "68\n",
      "(17, 3)\n",
      "69\n",
      "(17, 3)\n",
      "70\n",
      "(17, 3)\n",
      "71\n",
      "(17, 3)\n",
      "72\n",
      "(17, 3)\n",
      "73\n",
      "(17, 3)\n",
      "74\n",
      "(17, 3)\n",
      "75\n",
      "(17, 3)\n",
      "76\n",
      "(17, 3)\n",
      "77\n",
      "(17, 3)\n",
      "78\n",
      "(17, 3)\n",
      "79\n",
      "(17, 3)\n",
      "80\n",
      "(17, 3)\n",
      "81\n",
      "(17, 3)\n",
      "82\n",
      "(17, 3)\n",
      "83\n",
      "(17, 3)\n",
      "84\n",
      "(17, 3)\n",
      "85\n",
      "(17, 3)\n",
      "86\n",
      "(17, 3)\n",
      "87\n",
      "(17, 3)\n",
      "88\n",
      "(17, 3)\n",
      "89\n",
      "(17, 3)\n",
      "90\n",
      "(17, 3)\n",
      "91\n",
      "(17, 3)\n",
      "92\n",
      "(17, 3)\n",
      "93\n",
      "(17, 3)\n",
      "94\n",
      "(17, 3)\n",
      "95\n",
      "(17, 3)\n",
      "96\n",
      "(17, 3)\n",
      "97\n",
      "(17, 3)\n",
      "98\n",
      "(17, 3)\n",
      "99\n",
      "(17, 3)\n",
      "100\n",
      "(17, 3)\n",
      "101\n",
      "(17, 3)\n",
      "102\n",
      "(17, 3)\n",
      "103\n",
      "(17, 3)\n",
      "104\n",
      "(17, 3)\n",
      "105\n",
      "(17, 3)\n",
      "106\n",
      "(17, 3)\n",
      "107\n",
      "(17, 3)\n",
      "108\n",
      "(17, 3)\n",
      "109\n",
      "(17, 3)\n",
      "110\n",
      "(17, 3)\n",
      "111\n",
      "(17, 3)\n",
      "112\n",
      "(17, 3)\n",
      "113\n",
      "(17, 3)\n",
      "114\n",
      "(17, 3)\n",
      "115\n",
      "(17, 3)\n",
      "116\n",
      "(17, 3)\n",
      "117\n",
      "(17, 3)\n",
      "118\n",
      "(17, 3)\n",
      "119\n",
      "(17, 3)\n",
      "120\n",
      "(17, 3)\n",
      "121\n",
      "(17, 3)\n",
      "122\n",
      "(17, 3)\n",
      "123\n",
      "(17, 3)\n",
      "124\n",
      "(17, 3)\n",
      "125\n",
      "(17, 3)\n",
      "126\n",
      "(17, 3)\n",
      "127\n",
      "(17, 3)\n",
      "128\n",
      "(17, 3)\n",
      "129\n",
      "(17, 3)\n",
      "130\n",
      "(17, 3)\n",
      "131\n",
      "(17, 3)\n",
      "132\n",
      "(17, 3)\n",
      "133\n",
      "(17, 3)\n",
      "134\n",
      "(17, 3)\n",
      "135\n",
      "(17, 3)\n",
      "136\n",
      "(17, 3)\n",
      "137\n",
      "(17, 3)\n",
      "138\n",
      "(17, 3)\n",
      "139\n",
      "(17, 3)\n",
      "140\n",
      "(17, 3)\n",
      "141\n",
      "(17, 3)\n",
      "142\n",
      "(17, 3)\n",
      "143\n",
      "(17, 3)\n",
      "144\n",
      "(17, 3)\n",
      "145\n",
      "(17, 3)\n",
      "146\n",
      "(17, 3)\n",
      "147\n",
      "(17, 3)\n",
      "148\n",
      "(17, 3)\n",
      "149\n",
      "(17, 3)\n",
      "150\n",
      "(17, 3)\n",
      "151\n",
      "(17, 3)\n",
      "152\n",
      "(17, 3)\n",
      "153\n",
      "(17, 3)\n",
      "154\n",
      "(17, 3)\n",
      "155\n",
      "(17, 3)\n",
      "156\n",
      "(17, 3)\n",
      "157\n",
      "(17, 3)\n",
      "158\n",
      "(17, 3)\n",
      "159\n",
      "(17, 3)\n",
      "160\n",
      "(17, 3)\n",
      "161\n",
      "(17, 3)\n",
      "162\n",
      "(17, 3)\n",
      "163\n",
      "(17, 3)\n",
      "164\n",
      "(17, 3)\n",
      "165\n",
      "(17, 3)\n",
      "166\n",
      "(17, 3)\n",
      "167\n",
      "(17, 3)\n",
      "168\n",
      "(17, 3)\n",
      "169\n",
      "(17, 3)\n",
      "170\n",
      "(17, 3)\n",
      "171\n",
      "(17, 3)\n",
      "172\n",
      "(17, 3)\n",
      "173\n",
      "(17, 3)\n",
      "174\n",
      "(17, 3)\n",
      "175\n",
      "(17, 3)\n",
      "176\n",
      "(17, 3)\n",
      "177\n",
      "(17, 3)\n",
      "178\n",
      "(17, 3)\n",
      "179\n",
      "(17, 3)\n",
      "180\n",
      "(17, 3)\n",
      "181\n",
      "(17, 3)\n",
      "182\n",
      "(17, 3)\n",
      "183\n",
      "(17, 3)\n",
      "184\n",
      "(17, 3)\n",
      "185\n",
      "(17, 3)\n",
      "186\n",
      "(17, 3)\n",
      "187\n",
      "(17, 3)\n",
      "188\n",
      "(17, 3)\n",
      "189\n",
      "(17, 3)\n",
      "190\n",
      "(17, 3)\n",
      "191\n",
      "(17, 3)\n",
      "192\n",
      "(17, 3)\n",
      "193\n",
      "(17, 3)\n",
      "194\n",
      "(17, 3)\n",
      "195\n",
      "(17, 3)\n",
      "196\n",
      "(17, 3)\n",
      "197\n",
      "(17, 3)\n",
      "198\n",
      "(17, 3)\n",
      "199\n",
      "(17, 3)\n",
      "200\n",
      "(17, 3)\n",
      "201\n",
      "(17, 3)\n",
      "202\n",
      "(17, 3)\n",
      "203\n",
      "(17, 3)\n",
      "204\n",
      "(17, 3)\n",
      "205\n",
      "(17, 3)\n",
      "206\n",
      "(17, 3)\n",
      "207\n",
      "(17, 3)\n",
      "208\n",
      "(17, 3)\n",
      "209\n",
      "(17, 3)\n",
      "210\n",
      "(17, 3)\n",
      "211\n",
      "(17, 3)\n",
      "212\n",
      "(17, 3)\n",
      "213\n",
      "(17, 3)\n",
      "214\n",
      "(17, 3)\n",
      "215\n",
      "(17, 3)\n",
      "216\n",
      "(17, 3)\n",
      "217\n",
      "(17, 3)\n",
      "218\n",
      "(17, 3)\n",
      "219\n",
      "(17, 3)\n",
      "220\n",
      "(17, 3)\n",
      "221\n",
      "(17, 3)\n",
      "222\n",
      "(17, 3)\n",
      "223\n",
      "(17, 3)\n",
      "224\n",
      "(17, 3)\n",
      "225\n",
      "(17, 3)\n",
      "226\n",
      "(17, 3)\n",
      "227\n",
      "(17, 3)\n",
      "228\n",
      "(17, 3)\n",
      "229\n",
      "(17, 3)\n",
      "230\n",
      "(17, 3)\n",
      "231\n",
      "(17, 3)\n",
      "232\n",
      "(17, 3)\n",
      "233\n",
      "(17, 3)\n",
      "234\n",
      "(17, 3)\n",
      "235\n",
      "(17, 3)\n",
      "236\n",
      "(17, 3)\n",
      "237\n",
      "(17, 3)\n",
      "238\n",
      "(17, 3)\n",
      "239\n",
      "(17, 3)\n",
      "240\n",
      "(17, 3)\n",
      "241\n",
      "(17, 3)\n",
      "242\n",
      "(17, 3)\n",
      "243\n",
      "(17, 3)\n",
      "244\n",
      "(17, 3)\n",
      "245\n",
      "(17, 3)\n",
      "246\n",
      "(17, 3)\n",
      "247\n",
      "(17, 3)\n",
      "248\n",
      "(17, 3)\n",
      "249\n",
      "(17, 3)\n",
      "250\n",
      "(17, 3)\n",
      "251\n",
      "(17, 3)\n",
      "252\n",
      "(17, 3)\n",
      "253\n",
      "(17, 3)\n",
      "254\n",
      "(17, 3)\n",
      "255\n",
      "(17, 3)\n",
      "256\n",
      "(17, 3)\n",
      "257\n",
      "(17, 3)\n",
      "258\n",
      "(17, 3)\n",
      "259\n",
      "(17, 3)\n",
      "260\n",
      "(17, 3)\n",
      "261\n",
      "(17, 3)\n",
      "262\n",
      "(17, 3)\n",
      "263\n",
      "(17, 3)\n",
      "264\n",
      "(17, 3)\n",
      "265\n",
      "(17, 3)\n",
      "266\n",
      "(17, 3)\n",
      "267\n",
      "(17, 3)\n",
      "268\n",
      "(17, 3)\n",
      "269\n",
      "(17, 3)\n",
      "270\n",
      "(17, 3)\n",
      "271\n",
      "(17, 3)\n",
      "272\n",
      "(17, 3)\n",
      "273\n",
      "(17, 3)\n",
      "274\n",
      "(17, 3)\n",
      "275\n",
      "(17, 3)\n",
      "276\n",
      "(17, 3)\n",
      "277\n",
      "(17, 3)\n",
      "278\n",
      "(17, 3)\n",
      "279\n",
      "(17, 3)\n",
      "280\n",
      "(17, 3)\n",
      "281\n",
      "(17, 3)\n",
      "282\n",
      "(17, 3)\n",
      "283\n",
      "(17, 3)\n",
      "284\n",
      "(17, 3)\n",
      "285\n",
      "(17, 3)\n",
      "286\n",
      "(17, 3)\n",
      "287\n",
      "(17, 3)\n",
      "288\n",
      "(17, 3)\n",
      "289\n",
      "(17, 3)\n",
      "290\n",
      "(17, 3)\n",
      "291\n",
      "(17, 3)\n",
      "292\n",
      "(17, 3)\n",
      "293\n",
      "(17, 3)\n",
      "294\n",
      "(17, 3)\n",
      "295\n",
      "(17, 3)\n",
      "296\n",
      "(17, 3)\n",
      "297\n",
      "(17, 3)\n",
      "298\n",
      "(17, 3)\n",
      "299\n",
      "(17, 3)\n",
      "300\n",
      "(17, 3)\n",
      "301\n",
      "(17, 3)\n",
      "302\n",
      "(17, 3)\n",
      "303\n",
      "(17, 3)\n",
      "304\n",
      "(17, 3)\n",
      "305\n",
      "(17, 3)\n",
      "306\n",
      "(17, 3)\n",
      "307\n",
      "(17, 3)\n",
      "308\n",
      "(17, 3)\n",
      "309\n",
      "(17, 3)\n",
      "310\n",
      "(17, 3)\n",
      "311\n",
      "(17, 3)\n",
      "312\n",
      "(17, 3)\n",
      "313\n",
      "(17, 3)\n",
      "314\n",
      "(17, 3)\n",
      "315\n",
      "(17, 3)\n",
      "316\n",
      "(17, 3)\n",
      "317\n",
      "(17, 3)\n",
      "318\n",
      "(17, 3)\n",
      "319\n",
      "(17, 3)\n",
      "320\n",
      "(17, 3)\n",
      "321\n",
      "(17, 3)\n",
      "322\n",
      "(17, 3)\n",
      "323\n",
      "(17, 3)\n",
      "324\n",
      "(17, 3)\n",
      "325\n",
      "(17, 3)\n",
      "326\n",
      "(17, 3)\n",
      "327\n",
      "(17, 3)\n",
      "328\n",
      "(17, 3)\n",
      "329\n",
      "(17, 3)\n",
      "330\n",
      "(17, 3)\n",
      "331\n",
      "(17, 3)\n",
      "332\n",
      "(17, 3)\n",
      "333\n",
      "(17, 3)\n",
      "334\n",
      "(17, 3)\n",
      "335\n",
      "(17, 3)\n",
      "336\n",
      "(17, 3)\n",
      "337\n",
      "(17, 3)\n",
      "338\n",
      "(17, 3)\n",
      "339\n",
      "(17, 3)\n",
      "340\n",
      "(17, 3)\n",
      "341\n",
      "(17, 3)\n",
      "342\n",
      "(17, 3)\n",
      "343\n",
      "(17, 3)\n",
      "344\n",
      "(17, 3)\n",
      "345\n",
      "(17, 3)\n",
      "346\n",
      "(17, 3)\n",
      "347\n",
      "(17, 3)\n",
      "348\n",
      "(17, 3)\n",
      "349\n",
      "(17, 3)\n",
      "350\n",
      "(17, 3)\n",
      "351\n",
      "(17, 3)\n",
      "352\n",
      "(17, 3)\n",
      "353\n",
      "(17, 3)\n",
      "354\n",
      "(17, 3)\n",
      "355\n",
      "(17, 3)\n",
      "356\n",
      "(17, 3)\n",
      "357\n",
      "(17, 3)\n",
      "358\n",
      "(17, 3)\n",
      "359\n",
      "(17, 3)\n",
      "360\n",
      "(17, 3)\n",
      "361\n",
      "(17, 3)\n",
      "362\n",
      "(17, 3)\n",
      "363\n",
      "(17, 3)\n",
      "364\n",
      "(17, 3)\n",
      "365\n",
      "(17, 3)\n",
      "366\n",
      "(17, 3)\n",
      "367\n",
      "(17, 3)\n",
      "368\n",
      "(17, 3)\n",
      "369\n",
      "(17, 3)\n",
      "370\n",
      "(17, 3)\n",
      "371\n",
      "(17, 3)\n",
      "372\n",
      "(17, 3)\n",
      "373\n",
      "(17, 3)\n",
      "374\n",
      "(17, 3)\n",
      "375\n",
      "(17, 3)\n",
      "376\n",
      "(17, 3)\n",
      "377\n",
      "(17, 3)\n",
      "378\n",
      "(17, 3)\n",
      "379\n",
      "(17, 3)\n",
      "380\n",
      "(17, 3)\n",
      "381\n",
      "(17, 3)\n",
      "382\n",
      "(17, 3)\n",
      "383\n",
      "(17, 3)\n",
      "384\n",
      "(17, 3)\n",
      "385\n",
      "(17, 3)\n",
      "386\n",
      "(17, 3)\n",
      "387\n",
      "(17, 3)\n",
      "388\n",
      "(17, 3)\n",
      "389\n",
      "(17, 3)\n",
      "390\n",
      "(17, 3)\n",
      "391\n",
      "(17, 3)\n",
      "392\n",
      "(17, 3)\n",
      "393\n",
      "(17, 3)\n",
      "394\n",
      "(17, 3)\n",
      "395\n",
      "(17, 3)\n",
      "396\n",
      "(17, 3)\n",
      "397\n",
      "(17, 3)\n",
      "398\n",
      "(17, 3)\n",
      "399\n",
      "(17, 3)\n",
      "400\n",
      "(17, 3)\n",
      "401\n",
      "(17, 3)\n",
      "402\n",
      "(17, 3)\n",
      "403\n",
      "(17, 3)\n",
      "404\n",
      "(17, 3)\n",
      "405\n",
      "(17, 3)\n",
      "406\n",
      "(17, 3)\n",
      "407\n",
      "(17, 3)\n",
      "408\n",
      "(17, 3)\n",
      "409\n",
      "(17, 3)\n",
      "410\n",
      "(17, 3)\n",
      "411\n",
      "(17, 3)\n",
      "412\n",
      "(17, 3)\n",
      "413\n",
      "(17, 3)\n",
      "414\n",
      "(17, 3)\n",
      "415\n",
      "(17, 3)\n",
      "416\n",
      "(17, 3)\n",
      "417\n",
      "(17, 3)\n",
      "418\n",
      "(17, 3)\n",
      "419\n",
      "(17, 3)\n",
      "420\n",
      "(17, 3)\n",
      "421\n",
      "(17, 3)\n",
      "422\n",
      "(17, 3)\n",
      "423\n",
      "(17, 3)\n",
      "424\n",
      "(17, 3)\n",
      "425\n",
      "(17, 3)\n",
      "426\n",
      "(17, 3)\n",
      "427\n",
      "(17, 3)\n",
      "428\n",
      "(17, 3)\n",
      "429\n",
      "(17, 3)\n",
      "430\n",
      "(17, 3)\n",
      "431\n",
      "(17, 3)\n",
      "432\n",
      "(17, 3)\n",
      "433\n",
      "(17, 3)\n",
      "434\n",
      "(17, 3)\n",
      "435\n",
      "(17, 3)\n",
      "436\n",
      "(17, 3)\n",
      "437\n",
      "(17, 3)\n",
      "438\n",
      "(17, 3)\n",
      "439\n",
      "(17, 3)\n",
      "440\n",
      "(17, 3)\n",
      "441\n",
      "(17, 3)\n",
      "442\n",
      "(17, 3)\n",
      "443\n",
      "(17, 3)\n",
      "444\n",
      "(17, 3)\n",
      "445\n",
      "(17, 3)\n",
      "446\n",
      "(17, 3)\n",
      "447\n",
      "(17, 3)\n",
      "448\n",
      "(17, 3)\n",
      "449\n",
      "(17, 3)\n",
      "450\n",
      "(17, 3)\n",
      "451\n",
      "(17, 3)\n",
      "452\n",
      "(17, 3)\n",
      "453\n",
      "(17, 3)\n",
      "454\n",
      "(17, 3)\n",
      "455\n",
      "(17, 3)\n",
      "456\n",
      "(17, 3)\n",
      "457\n",
      "(17, 3)\n",
      "458\n",
      "(17, 3)\n",
      "459\n",
      "(17, 3)\n",
      "460\n",
      "(17, 3)\n",
      "461\n",
      "(17, 3)\n",
      "462\n",
      "(17, 3)\n",
      "463\n",
      "(17, 3)\n",
      "464\n",
      "(17, 3)\n",
      "465\n",
      "(17, 3)\n",
      "466\n",
      "(17, 3)\n",
      "467\n",
      "(17, 3)\n",
      "468\n",
      "(17, 3)\n",
      "469\n",
      "(17, 3)\n",
      "470\n",
      "(17, 3)\n",
      "471\n",
      "(17, 3)\n",
      "472\n",
      "(17, 3)\n",
      "473\n",
      "(17, 3)\n",
      "474\n",
      "(17, 3)\n",
      "475\n",
      "(17, 3)\n",
      "476\n",
      "(17, 3)\n",
      "477\n",
      "(17, 3)\n",
      "478\n",
      "(17, 3)\n",
      "479\n",
      "(17, 3)\n",
      "480\n",
      "(17, 3)\n",
      "481\n",
      "(17, 3)\n",
      "482\n",
      "(17, 3)\n",
      "483\n",
      "(17, 3)\n",
      "484\n",
      "(17, 3)\n",
      "485\n",
      "(17, 3)\n",
      "486\n",
      "(17, 3)\n",
      "487\n",
      "(17, 3)\n",
      "488\n",
      "(17, 3)\n",
      "489\n",
      "(17, 3)\n",
      "490\n",
      "(17, 3)\n",
      "491\n",
      "(17, 3)\n",
      "492\n",
      "(17, 3)\n",
      "493\n",
      "(17, 3)\n",
      "494\n",
      "(17, 3)\n",
      "495\n",
      "(17, 3)\n",
      "496\n",
      "(17, 3)\n",
      "497\n",
      "(17, 3)\n",
      "498\n",
      "(17, 3)\n",
      "499\n",
      "(17, 3)\n",
      "500\n",
      "(17, 3)\n",
      "501\n",
      "(17, 3)\n",
      "502\n",
      "(17, 3)\n",
      "503\n",
      "(17, 3)\n",
      "504\n",
      "(17, 3)\n",
      "505\n",
      "(17, 3)\n",
      "506\n",
      "(17, 3)\n",
      "507\n",
      "(17, 3)\n",
      "508\n",
      "(17, 3)\n",
      "509\n",
      "(17, 3)\n",
      "510\n",
      "(17, 3)\n",
      "511\n",
      "(17, 3)\n",
      "512\n",
      "(17, 3)\n",
      "513\n",
      "(17, 3)\n",
      "514\n",
      "(17, 3)\n",
      "515\n",
      "(17, 3)\n",
      "516\n",
      "(17, 3)\n",
      "517\n",
      "(17, 3)\n",
      "518\n",
      "(17, 3)\n",
      "519\n",
      "(17, 3)\n",
      "520\n",
      "(17, 3)\n",
      "521\n",
      "(17, 3)\n",
      "522\n",
      "(17, 3)\n",
      "523\n",
      "(17, 3)\n",
      "524\n",
      "(17, 3)\n",
      "525\n",
      "(17, 3)\n",
      "526\n",
      "(17, 3)\n",
      "527\n",
      "(17, 3)\n",
      "528\n",
      "(17, 3)\n",
      "529\n",
      "(17, 3)\n",
      "530\n",
      "(17, 3)\n",
      "531\n",
      "(17, 3)\n",
      "532\n",
      "(17, 3)\n",
      "533\n",
      "(17, 3)\n",
      "534\n",
      "(17, 3)\n",
      "535\n",
      "(17, 3)\n",
      "536\n",
      "(17, 3)\n",
      "537\n",
      "(17, 3)\n",
      "538\n",
      "(17, 3)\n",
      "539\n",
      "(17, 3)\n",
      "540\n",
      "(17, 3)\n",
      "541\n",
      "(17, 3)\n",
      "542\n",
      "(17, 3)\n",
      "543\n",
      "(17, 3)\n",
      "544\n",
      "(17, 3)\n",
      "545\n",
      "(17, 3)\n",
      "546\n",
      "(17, 3)\n",
      "547\n",
      "(17, 3)\n",
      "548\n",
      "(17, 3)\n",
      "549\n",
      "(17, 3)\n",
      "550\n",
      "(17, 3)\n",
      "551\n",
      "(17, 3)\n",
      "552\n",
      "(17, 3)\n",
      "553\n",
      "(17, 3)\n",
      "554\n",
      "(17, 3)\n",
      "555\n",
      "(17, 3)\n",
      "556\n",
      "(17, 3)\n",
      "557\n",
      "(17, 3)\n",
      "558\n",
      "(17, 3)\n",
      "559\n",
      "(17, 3)\n",
      "560\n",
      "(17, 3)\n",
      "561\n",
      "(17, 3)\n",
      "562\n",
      "(17, 3)\n",
      "563\n",
      "(17, 3)\n",
      "564\n",
      "(17, 3)\n",
      "565\n",
      "(17, 3)\n",
      "566\n",
      "(17, 3)\n",
      "567\n",
      "(17, 3)\n",
      "568\n",
      "(17, 3)\n",
      "569\n",
      "(17, 3)\n",
      "570\n",
      "(17, 3)\n",
      "571\n",
      "(17, 3)\n",
      "572\n",
      "(17, 3)\n",
      "573\n",
      "(17, 3)\n",
      "574\n",
      "(17, 3)\n",
      "575\n",
      "(17, 3)\n",
      "576\n",
      "(17, 3)\n",
      "577\n",
      "(17, 3)\n",
      "578\n",
      "(17, 3)\n",
      "579\n",
      "(17, 3)\n",
      "580\n",
      "(17, 3)\n",
      "581\n",
      "(17, 3)\n",
      "582\n",
      "(17, 3)\n",
      "583\n",
      "(17, 3)\n",
      "584\n",
      "(17, 3)\n",
      "585\n",
      "(17, 3)\n",
      "586\n",
      "(17, 3)\n",
      "587\n",
      "(17, 3)\n",
      "588\n",
      "(17, 3)\n",
      "589\n",
      "(17, 3)\n",
      "590\n",
      "(17, 3)\n",
      "591\n",
      "(17, 3)\n",
      "592\n",
      "(17, 3)\n",
      "593\n",
      "(17, 3)\n",
      "594\n",
      "(17, 3)\n",
      "595\n",
      "(17, 3)\n",
      "596\n",
      "(17, 3)\n",
      "597\n",
      "(17, 3)\n",
      "598\n",
      "(17, 3)\n",
      "599\n",
      "(17, 3)\n",
      "600\n",
      "(17, 3)\n",
      "601\n",
      "(17, 3)\n",
      "602\n",
      "(17, 3)\n",
      "603\n",
      "(17, 3)\n",
      "604\n",
      "(17, 3)\n",
      "605\n",
      "(17, 3)\n",
      "606\n",
      "(17, 3)\n",
      "607\n",
      "(17, 3)\n",
      "608\n",
      "(17, 3)\n",
      "609\n",
      "(17, 3)\n",
      "610\n",
      "(17, 3)\n",
      "611\n",
      "(17, 3)\n",
      "612\n",
      "(17, 3)\n",
      "613\n",
      "(17, 3)\n",
      "614\n",
      "(17, 3)\n",
      "615\n",
      "(17, 3)\n",
      "616\n",
      "(17, 3)\n",
      "617\n",
      "(17, 3)\n",
      "618\n",
      "(17, 3)\n",
      "619\n",
      "(17, 3)\n",
      "620\n",
      "(17, 3)\n",
      "621\n",
      "(17, 3)\n",
      "622\n",
      "(17, 3)\n",
      "623\n",
      "(17, 3)\n",
      "624\n",
      "(17, 3)\n",
      "625\n",
      "(17, 3)\n",
      "626\n",
      "(17, 3)\n",
      "627\n",
      "(17, 3)\n",
      "628\n",
      "(17, 3)\n",
      "629\n",
      "(17, 3)\n",
      "630\n",
      "(17, 3)\n",
      "631\n",
      "(17, 3)\n",
      "632\n",
      "(17, 3)\n",
      "633\n",
      "(17, 3)\n",
      "634\n",
      "(17, 3)\n",
      "635\n",
      "(17, 3)\n",
      "636\n",
      "(17, 3)\n",
      "637\n",
      "(17, 3)\n",
      "638\n",
      "(17, 3)\n",
      "639\n",
      "(17, 3)\n",
      "640\n",
      "(17, 3)\n",
      "641\n",
      "(17, 3)\n",
      "642\n",
      "(17, 3)\n",
      "643\n",
      "(17, 3)\n",
      "644\n",
      "(17, 3)\n",
      "645\n",
      "(17, 3)\n",
      "646\n",
      "(17, 3)\n",
      "647\n",
      "(17, 3)\n",
      "648\n",
      "(17, 3)\n",
      "649\n",
      "(17, 3)\n",
      "650\n",
      "(17, 3)\n",
      "651\n",
      "(17, 3)\n",
      "652\n",
      "(17, 3)\n",
      "653\n",
      "(17, 3)\n",
      "654\n",
      "(17, 3)\n",
      "655\n",
      "(17, 3)\n",
      "656\n",
      "(17, 3)\n",
      "657\n",
      "(17, 3)\n",
      "658\n",
      "(17, 3)\n",
      "659\n",
      "(17, 3)\n",
      "660\n",
      "(17, 3)\n",
      "661\n",
      "(17, 3)\n",
      "662\n",
      "(17, 3)\n",
      "663\n",
      "(17, 3)\n",
      "664\n",
      "(17, 3)\n",
      "665\n",
      "(17, 3)\n",
      "666\n",
      "(17, 3)\n",
      "667\n",
      "(17, 3)\n",
      "668\n",
      "(17, 3)\n",
      "669\n",
      "(17, 3)\n",
      "670\n",
      "(17, 3)\n",
      "671\n",
      "(17, 3)\n",
      "672\n",
      "(17, 3)\n",
      "673\n",
      "(17, 3)\n",
      "674\n",
      "(17, 3)\n",
      "675\n",
      "(17, 3)\n",
      "676\n",
      "(17, 3)\n",
      "677\n",
      "(17, 3)\n",
      "678\n",
      "(17, 3)\n",
      "679\n",
      "(17, 3)\n",
      "680\n",
      "(17, 3)\n",
      "681\n",
      "(17, 3)\n",
      "682\n",
      "(17, 3)\n",
      "683\n",
      "(17, 3)\n",
      "684\n",
      "(17, 3)\n",
      "685\n",
      "(17, 3)\n",
      "686\n",
      "(17, 3)\n",
      "687\n",
      "(17, 3)\n",
      "688\n",
      "(17, 3)\n",
      "689\n",
      "(17, 3)\n",
      "690\n",
      "(17, 3)\n",
      "691\n",
      "(17, 3)\n",
      "692\n",
      "(17, 3)\n",
      "693\n",
      "(17, 3)\n",
      "694\n",
      "(17, 3)\n",
      "695\n",
      "(17, 3)\n",
      "696\n",
      "(17, 3)\n",
      "697\n",
      "(17, 3)\n",
      "698\n",
      "(17, 3)\n",
      "699\n",
      "(17, 3)\n",
      "700\n",
      "(17, 3)\n",
      "701\n",
      "(17, 3)\n",
      "702\n",
      "(17, 3)\n",
      "703\n",
      "(17, 3)\n",
      "704\n",
      "(17, 3)\n",
      "705\n",
      "(17, 3)\n",
      "706\n",
      "(17, 3)\n",
      "707\n",
      "(17, 3)\n",
      "708\n",
      "(17, 3)\n",
      "709\n",
      "(17, 3)\n",
      "710\n",
      "(17, 3)\n",
      "711\n",
      "(17, 3)\n",
      "712\n",
      "(17, 3)\n",
      "713\n",
      "(17, 3)\n",
      "714\n",
      "(17, 3)\n",
      "715\n",
      "(17, 3)\n",
      "716\n",
      "(17, 3)\n",
      "717\n",
      "(17, 3)\n",
      "718\n",
      "(17, 3)\n",
      "719\n",
      "(17, 3)\n",
      "720\n",
      "(17, 3)\n",
      "721\n",
      "(17, 3)\n",
      "722\n",
      "(17, 3)\n",
      "723\n",
      "(17, 3)\n",
      "724\n",
      "(17, 3)\n",
      "725\n",
      "(17, 3)\n",
      "726\n",
      "(17, 3)\n",
      "727\n",
      "(17, 3)\n",
      "728\n",
      "(17, 3)\n",
      "729\n",
      "(17, 3)\n",
      "730\n",
      "(17, 3)\n",
      "731\n",
      "(17, 3)\n",
      "732\n",
      "(17, 3)\n",
      "733\n",
      "(17, 3)\n",
      "734\n",
      "(17, 3)\n",
      "735\n",
      "(17, 3)\n",
      "736\n",
      "(17, 3)\n",
      "737\n",
      "(17, 3)\n",
      "738\n",
      "(17, 3)\n",
      "739\n",
      "(17, 3)\n",
      "740\n",
      "(17, 3)\n",
      "741\n",
      "(17, 3)\n",
      "742\n",
      "(17, 3)\n",
      "743\n",
      "(17, 3)\n",
      "744\n",
      "(17, 3)\n",
      "745\n",
      "(17, 3)\n",
      "746\n",
      "(17, 3)\n",
      "747\n",
      "(17, 3)\n",
      "748\n",
      "(17, 3)\n",
      "749\n",
      "(17, 3)\n",
      "750\n",
      "(17, 3)\n",
      "751\n",
      "(17, 3)\n",
      "752\n",
      "(17, 3)\n",
      "753\n",
      "(17, 3)\n",
      "754\n",
      "(17, 3)\n",
      "755\n",
      "(17, 3)\n",
      "756\n",
      "(17, 3)\n",
      "757\n",
      "(17, 3)\n",
      "758\n",
      "(17, 3)\n",
      "759\n",
      "(17, 3)\n",
      "760\n",
      "(17, 3)\n",
      "761\n",
      "(17, 3)\n",
      "762\n",
      "(17, 3)\n",
      "763\n",
      "(17, 3)\n",
      "764\n",
      "(17, 3)\n",
      "765\n",
      "(17, 3)\n",
      "766\n",
      "(17, 3)\n",
      "767\n",
      "(17, 3)\n",
      "768\n",
      "(17, 3)\n",
      "769\n",
      "(17, 3)\n",
      "770\n",
      "(17, 3)\n",
      "771\n",
      "(17, 3)\n",
      "772\n",
      "(17, 3)\n",
      "773\n",
      "(17, 3)\n",
      "774\n",
      "(17, 3)\n",
      "775\n",
      "(17, 3)\n",
      "776\n",
      "(17, 3)\n",
      "777\n",
      "(17, 3)\n",
      "778\n",
      "(17, 3)\n",
      "779\n",
      "(17, 3)\n",
      "780\n",
      "(17, 3)\n",
      "781\n",
      "(17, 3)\n",
      "782\n",
      "(17, 3)\n",
      "783\n",
      "(17, 3)\n",
      "784\n",
      "(17, 3)\n",
      "785\n",
      "(17, 3)\n",
      "786\n",
      "(17, 3)\n",
      "787\n",
      "(17, 3)\n",
      "788\n",
      "(17, 3)\n",
      "789\n",
      "(17, 3)\n",
      "790\n",
      "(17, 3)\n",
      "791\n",
      "(17, 3)\n",
      "792\n",
      "(17, 3)\n",
      "793\n",
      "(17, 3)\n",
      "794\n",
      "(17, 3)\n",
      "795\n",
      "(17, 3)\n",
      "796\n",
      "(17, 3)\n",
      "797\n",
      "(17, 3)\n",
      "798\n",
      "(17, 3)\n",
      "799\n",
      "(17, 3)\n",
      "800\n",
      "(17, 3)\n",
      "801\n",
      "(17, 3)\n",
      "802\n",
      "(17, 3)\n",
      "803\n",
      "(17, 3)\n",
      "804\n",
      "(17, 3)\n",
      "805\n",
      "(17, 3)\n",
      "806\n",
      "(17, 3)\n",
      "807\n",
      "(17, 3)\n",
      "808\n",
      "(17, 3)\n",
      "809\n",
      "(17, 3)\n",
      "810\n",
      "(17, 3)\n",
      "811\n",
      "(17, 3)\n",
      "812\n",
      "(17, 3)\n",
      "813\n",
      "(17, 3)\n",
      "814\n",
      "(17, 3)\n",
      "815\n",
      "(17, 3)\n",
      "816\n",
      "(17, 3)\n",
      "817\n",
      "(17, 3)\n",
      "818\n",
      "(17, 3)\n",
      "819\n",
      "(17, 3)\n",
      "820\n",
      "(17, 3)\n",
      "821\n",
      "(17, 3)\n",
      "822\n",
      "(17, 3)\n",
      "823\n",
      "(17, 3)\n",
      "824\n",
      "(17, 3)\n",
      "825\n",
      "(17, 3)\n",
      "826\n",
      "(17, 3)\n",
      "827\n",
      "(17, 3)\n",
      "828\n",
      "(17, 3)\n",
      "829\n",
      "(17, 3)\n",
      "830\n",
      "(17, 3)\n",
      "831\n",
      "(17, 3)\n",
      "832\n",
      "(17, 3)\n",
      "833\n",
      "(17, 3)\n",
      "834\n",
      "(17, 3)\n",
      "835\n",
      "(17, 3)\n",
      "836\n",
      "(17, 3)\n",
      "837\n",
      "(17, 3)\n",
      "838\n",
      "(17, 3)\n",
      "839\n",
      "(17, 3)\n",
      "840\n",
      "(17, 3)\n",
      "841\n",
      "(17, 3)\n",
      "842\n",
      "(17, 3)\n",
      "843\n",
      "(17, 3)\n",
      "844\n",
      "(17, 3)\n",
      "845\n",
      "(17, 3)\n",
      "846\n",
      "(17, 3)\n",
      "847\n",
      "(17, 3)\n",
      "848\n",
      "(17, 3)\n",
      "849\n",
      "(17, 3)\n",
      "850\n",
      "(17, 3)\n",
      "851\n",
      "(17, 3)\n",
      "852\n",
      "(17, 3)\n",
      "853\n",
      "(17, 3)\n",
      "854\n",
      "(17, 3)\n",
      "855\n",
      "(17, 3)\n",
      "856\n",
      "(17, 3)\n",
      "857\n",
      "(17, 3)\n",
      "858\n",
      "(17, 3)\n",
      "859\n",
      "(17, 3)\n",
      "860\n",
      "(17, 3)\n",
      "861\n",
      "(17, 3)\n",
      "862\n",
      "(17, 3)\n",
      "863\n",
      "(17, 3)\n",
      "864\n",
      "(17, 3)\n",
      "865\n",
      "(17, 3)\n",
      "866\n",
      "(17, 3)\n",
      "867\n",
      "(17, 3)\n",
      "868\n",
      "(17, 3)\n",
      "869\n",
      "(17, 3)\n",
      "870\n",
      "(17, 3)\n",
      "871\n",
      "(17, 3)\n",
      "872\n",
      "(17, 3)\n",
      "873\n",
      "(17, 3)\n",
      "874\n",
      "(17, 3)\n",
      "875\n",
      "(17, 3)\n",
      "876\n",
      "(17, 3)\n",
      "877\n",
      "(17, 3)\n",
      "878\n",
      "(17, 3)\n",
      "879\n",
      "(17, 3)\n",
      "880\n",
      "(17, 3)\n",
      "881\n",
      "(17, 3)\n",
      "882\n",
      "(17, 3)\n",
      "883\n",
      "(17, 3)\n",
      "884\n",
      "(17, 3)\n",
      "885\n",
      "(17, 3)\n",
      "886\n",
      "(17, 3)\n",
      "887\n",
      "(17, 3)\n",
      "888\n",
      "(17, 3)\n",
      "889\n",
      "(17, 3)\n",
      "890\n",
      "(17, 3)\n",
      "891\n",
      "(17, 3)\n",
      "892\n",
      "(17, 3)\n",
      "893\n",
      "(17, 3)\n",
      "894\n",
      "(17, 3)\n",
      "895\n",
      "(17, 3)\n",
      "896\n",
      "(17, 3)\n",
      "897\n",
      "(17, 3)\n",
      "898\n",
      "(17, 3)\n",
      "899\n",
      "(17, 3)\n",
      "900\n",
      "(17, 3)\n",
      "901\n",
      "(17, 3)\n",
      "902\n",
      "(17, 3)\n",
      "903\n",
      "(17, 3)\n",
      "904\n",
      "(17, 3)\n",
      "905\n",
      "(17, 3)\n",
      "906\n",
      "(17, 3)\n",
      "907\n",
      "(17, 3)\n",
      "908\n",
      "(17, 3)\n",
      "909\n",
      "(17, 3)\n",
      "910\n",
      "(17, 3)\n",
      "911\n",
      "(17, 3)\n",
      "912\n",
      "(17, 3)\n",
      "913\n",
      "(17, 3)\n",
      "914\n",
      "(17, 3)\n",
      "915\n",
      "(17, 3)\n",
      "916\n",
      "(17, 3)\n",
      "917\n",
      "(17, 3)\n",
      "918\n",
      "(17, 3)\n",
      "919\n",
      "(17, 3)\n",
      "920\n",
      "(17, 3)\n",
      "921\n",
      "(17, 3)\n",
      "922\n",
      "(17, 3)\n",
      "923\n",
      "(17, 3)\n",
      "924\n",
      "(17, 3)\n",
      "925\n",
      "(17, 3)\n",
      "926\n",
      "(17, 3)\n",
      "927\n",
      "(17, 3)\n",
      "928\n",
      "(17, 3)\n",
      "929\n",
      "(17, 3)\n",
      "930\n",
      "(17, 3)\n",
      "931\n",
      "(17, 3)\n",
      "932\n",
      "(17, 3)\n",
      "933\n",
      "(17, 3)\n",
      "934\n",
      "(17, 3)\n",
      "935\n",
      "(17, 3)\n",
      "936\n",
      "(17, 3)\n",
      "937\n",
      "(17, 3)\n",
      "938\n",
      "(17, 3)\n",
      "939\n",
      "(17, 3)\n",
      "940\n",
      "(17, 3)\n",
      "941\n",
      "(17, 3)\n",
      "942\n",
      "(17, 3)\n",
      "943\n",
      "(17, 3)\n",
      "944\n",
      "(17, 3)\n",
      "945\n",
      "(17, 3)\n",
      "946\n",
      "(17, 3)\n",
      "947\n",
      "(17, 3)\n",
      "948\n",
      "(17, 3)\n",
      "949\n",
      "(17, 3)\n",
      "950\n",
      "(17, 3)\n",
      "951\n",
      "(17, 3)\n",
      "952\n",
      "(17, 3)\n",
      "953\n",
      "(17, 3)\n",
      "954\n",
      "(17, 3)\n",
      "955\n",
      "(17, 3)\n",
      "956\n",
      "(17, 3)\n",
      "957\n",
      "(17, 3)\n",
      "958\n",
      "(17, 3)\n",
      "959\n",
      "(17, 3)\n",
      "960\n",
      "(17, 3)\n",
      "961\n",
      "(17, 3)\n",
      "962\n",
      "(17, 3)\n",
      "963\n",
      "(17, 3)\n",
      "964\n",
      "(17, 3)\n",
      "965\n",
      "(17, 3)\n",
      "966\n",
      "(17, 3)\n",
      "967\n",
      "(17, 3)\n",
      "968\n",
      "(17, 3)\n",
      "969\n",
      "(17, 3)\n",
      "970\n",
      "(17, 3)\n",
      "971\n",
      "(17, 3)\n",
      "972\n",
      "(17, 3)\n",
      "973\n",
      "(17, 3)\n",
      "974\n",
      "(17, 3)\n",
      "975\n",
      "(17, 3)\n",
      "976\n",
      "(17, 3)\n",
      "977\n",
      "(17, 3)\n",
      "978\n",
      "(17, 3)\n",
      "979\n",
      "(17, 3)\n",
      "980\n",
      "(17, 3)\n",
      "981\n",
      "(17, 3)\n",
      "982\n",
      "(17, 3)\n",
      "983\n",
      "(17, 3)\n",
      "984\n",
      "(17, 3)\n",
      "985\n",
      "(17, 3)\n",
      "986\n",
      "(17, 3)\n",
      "987\n",
      "(17, 3)\n",
      "988\n",
      "(17, 3)\n",
      "989\n",
      "(17, 3)\n",
      "990\n",
      "(17, 3)\n",
      "991\n",
      "(17, 3)\n",
      "992\n",
      "(17, 3)\n",
      "993\n",
      "(17, 3)\n",
      "994\n",
      "(17, 3)\n",
      "995\n",
      "(17, 3)\n",
      "996\n",
      "(17, 3)\n",
      "997\n",
      "(17, 3)\n",
      "998\n",
      "(17, 3)\n",
      "999\n",
      "(17, 3)\n",
      "1000\n",
      "(17, 3)\n",
      "1001\n",
      "(17, 3)\n",
      "1002\n",
      "(17, 3)\n",
      "1003\n",
      "(17, 3)\n",
      "1004\n",
      "(17, 3)\n",
      "1005\n",
      "(17, 3)\n",
      "1006\n",
      "(17, 3)\n",
      "1007\n",
      "(17, 3)\n",
      "1008\n",
      "(17, 3)\n",
      "1009\n",
      "(17, 3)\n",
      "1010\n",
      "(17, 3)\n",
      "1011\n",
      "(17, 3)\n",
      "1012\n",
      "(17, 3)\n",
      "1013\n",
      "(17, 3)\n",
      "1014\n",
      "(17, 3)\n",
      "1015\n",
      "(17, 3)\n",
      "1016\n",
      "(17, 3)\n",
      "1017\n",
      "(17, 3)\n",
      "1018\n",
      "(17, 3)\n",
      "1019\n",
      "(17, 3)\n",
      "1020\n",
      "(17, 3)\n",
      "1021\n",
      "(17, 3)\n",
      "1022\n",
      "(17, 3)\n",
      "1023\n",
      "(17, 3)\n",
      "1024\n",
      "(17, 3)\n",
      "1025\n",
      "(17, 3)\n",
      "1026\n",
      "(17, 3)\n",
      "1027\n",
      "(17, 3)\n",
      "1028\n",
      "(17, 3)\n",
      "1029\n",
      "(17, 3)\n",
      "1030\n",
      "(17, 3)\n",
      "1031\n",
      "(17, 3)\n",
      "1032\n",
      "(17, 3)\n",
      "1033\n",
      "(17, 3)\n",
      "1034\n",
      "(17, 3)\n",
      "1035\n",
      "(17, 3)\n",
      "1036\n",
      "(17, 3)\n",
      "1037\n",
      "(17, 3)\n",
      "1038\n",
      "(17, 3)\n",
      "1039\n",
      "(17, 3)\n",
      "1040\n",
      "(17, 3)\n",
      "1041\n",
      "(17, 3)\n",
      "1042\n",
      "(17, 3)\n",
      "1043\n",
      "(17, 3)\n",
      "1044\n",
      "(17, 3)\n",
      "1045\n",
      "(17, 3)\n",
      "1046\n",
      "(17, 3)\n",
      "1047\n",
      "(17, 3)\n",
      "1048\n",
      "(17, 3)\n",
      "1049\n",
      "(17, 3)\n",
      "1050\n",
      "(17, 3)\n",
      "1051\n",
      "(17, 3)\n",
      "1052\n",
      "(17, 3)\n",
      "1053\n",
      "(17, 3)\n",
      "1054\n",
      "(17, 3)\n",
      "1055\n",
      "(17, 3)\n",
      "1056\n",
      "(17, 3)\n",
      "1057\n",
      "(17, 3)\n",
      "1058\n",
      "(17, 3)\n",
      "1059\n",
      "(17, 3)\n",
      "1060\n",
      "(17, 3)\n",
      "1061\n",
      "(17, 3)\n",
      "1062\n",
      "(17, 3)\n",
      "1063\n",
      "(17, 3)\n",
      "1064\n",
      "(17, 3)\n",
      "1065\n",
      "(17, 3)\n",
      "1066\n",
      "(17, 3)\n",
      "1067\n",
      "(17, 3)\n",
      "1068\n",
      "(17, 3)\n",
      "1069\n",
      "(17, 3)\n",
      "1070\n",
      "(17, 3)\n",
      "1071\n",
      "(17, 3)\n",
      "1072\n",
      "(17, 3)\n",
      "1073\n",
      "(17, 3)\n",
      "1074\n",
      "(17, 3)\n",
      "1075\n",
      "(17, 3)\n",
      "1076\n",
      "(17, 3)\n",
      "1077\n",
      "(17, 3)\n",
      "1078\n",
      "(17, 3)\n",
      "1079\n",
      "(17, 3)\n",
      "1080\n",
      "(17, 3)\n",
      "1081\n",
      "(17, 3)\n",
      "1082\n",
      "(17, 3)\n",
      "1083\n",
      "(17, 3)\n",
      "1084\n",
      "(17, 3)\n",
      "1085\n",
      "(17, 3)\n",
      "1086\n",
      "(17, 3)\n",
      "1087\n",
      "(17, 3)\n",
      "1088\n",
      "(17, 3)\n",
      "1089\n",
      "(17, 3)\n",
      "1090\n",
      "(17, 3)\n",
      "1091\n",
      "(17, 3)\n",
      "1092\n",
      "(17, 3)\n",
      "1093\n",
      "(17, 3)\n",
      "1094\n",
      "(17, 3)\n",
      "1095\n",
      "(17, 3)\n",
      "1096\n",
      "(17, 3)\n",
      "1097\n",
      "(17, 3)\n",
      "1098\n",
      "(17, 3)\n",
      "1099\n",
      "(17, 3)\n",
      "1100\n",
      "(17, 3)\n",
      "1101\n",
      "(17, 3)\n",
      "1102\n",
      "(17, 3)\n",
      "1103\n",
      "(17, 3)\n",
      "1104\n",
      "(17, 3)\n",
      "1105\n",
      "(17, 3)\n",
      "1106\n",
      "(17, 3)\n",
      "1107\n",
      "(17, 3)\n",
      "1108\n",
      "(17, 3)\n",
      "1109\n",
      "(17, 3)\n",
      "1110\n",
      "(17, 3)\n",
      "1111\n",
      "(17, 3)\n",
      "1112\n",
      "(17, 3)\n",
      "1113\n",
      "(17, 3)\n",
      "1114\n",
      "(17, 3)\n",
      "1115\n",
      "(17, 3)\n",
      "1116\n",
      "(17, 3)\n",
      "1117\n",
      "(17, 3)\n",
      "1118\n",
      "(17, 3)\n",
      "1119\n",
      "(17, 3)\n",
      "1120\n",
      "(17, 3)\n",
      "1121\n",
      "(17, 3)\n",
      "1122\n",
      "(17, 3)\n",
      "1123\n",
      "(17, 3)\n",
      "1124\n",
      "(17, 3)\n",
      "1125\n",
      "(17, 3)\n",
      "1126\n",
      "(17, 3)\n",
      "1127\n",
      "(17, 3)\n",
      "1128\n",
      "(17, 3)\n",
      "1129\n",
      "(17, 3)\n",
      "1130\n",
      "(17, 3)\n",
      "1131\n",
      "(17, 3)\n",
      "1132\n",
      "(17, 3)\n",
      "1133\n",
      "(17, 3)\n",
      "1134\n",
      "(17, 3)\n",
      "1135\n",
      "(17, 3)\n",
      "1136\n",
      "(17, 3)\n",
      "1137\n",
      "(17, 3)\n",
      "1138\n",
      "(17, 3)\n",
      "1139\n",
      "(17, 3)\n",
      "1140\n",
      "(17, 3)\n",
      "1141\n",
      "(17, 3)\n",
      "1142\n",
      "(17, 3)\n",
      "1143\n",
      "(17, 3)\n",
      "1144\n",
      "(17, 3)\n",
      "1145\n",
      "(17, 3)\n",
      "1146\n",
      "(17, 3)\n",
      "1147\n",
      "(17, 3)\n",
      "1148\n",
      "(17, 3)\n",
      "1149\n",
      "(17, 3)\n",
      "1150\n",
      "(17, 3)\n",
      "1151\n",
      "(17, 3)\n",
      "1152\n",
      "(17, 3)\n",
      "1153\n",
      "(17, 3)\n",
      "1154\n",
      "(17, 3)\n",
      "1155\n",
      "(17, 3)\n",
      "1156\n",
      "(17, 3)\n",
      "1157\n",
      "(17, 3)\n",
      "1158\n",
      "(17, 3)\n",
      "1159\n",
      "(17, 3)\n",
      "1160\n",
      "(17, 3)\n",
      "1161\n",
      "(17, 3)\n",
      "1162\n",
      "(17, 3)\n",
      "1163\n",
      "(17, 3)\n",
      "1164\n",
      "(17, 3)\n",
      "1165\n",
      "(17, 3)\n",
      "1166\n",
      "(17, 3)\n",
      "1167\n",
      "(17, 3)\n",
      "1168\n",
      "(17, 3)\n",
      "1169\n",
      "(17, 3)\n",
      "1170\n",
      "(17, 3)\n",
      "1171\n",
      "(17, 3)\n",
      "1172\n",
      "(17, 3)\n",
      "1173\n",
      "(17, 3)\n",
      "1174\n",
      "(17, 3)\n",
      "1175\n",
      "(17, 3)\n",
      "1176\n",
      "(17, 3)\n",
      "1177\n",
      "(17, 3)\n",
      "1178\n",
      "(17, 3)\n",
      "1179\n",
      "(17, 3)\n",
      "1180\n",
      "(17, 3)\n",
      "1181\n",
      "(17, 3)\n",
      "1182\n",
      "(17, 3)\n",
      "1183\n",
      "(17, 3)\n",
      "1184\n",
      "(17, 3)\n",
      "1185\n",
      "(17, 3)\n",
      "1186\n",
      "(17, 3)\n",
      "1187\n",
      "(17, 3)\n",
      "1188\n",
      "(17, 3)\n",
      "1189\n",
      "(17, 3)\n",
      "1190\n",
      "(17, 3)\n",
      "1191\n",
      "(17, 3)\n",
      "1192\n",
      "(17, 3)\n",
      "1193\n",
      "(17, 3)\n",
      "1194\n",
      "(17, 3)\n",
      "1195\n",
      "(17, 3)\n",
      "1196\n",
      "(17, 3)\n",
      "1197\n",
      "(17, 3)\n",
      "1198\n",
      "(17, 3)\n",
      "1199\n",
      "(17, 3)\n",
      "1200\n",
      "(17, 3)\n",
      "1201\n",
      "(17, 3)\n",
      "1202\n",
      "(17, 3)\n",
      "1203\n",
      "(17, 3)\n",
      "1204\n",
      "(17, 3)\n",
      "1205\n",
      "(17, 3)\n",
      "1206\n",
      "(17, 3)\n",
      "1207\n",
      "(17, 3)\n",
      "1208\n",
      "(17, 3)\n",
      "1209\n",
      "(17, 3)\n",
      "1210\n",
      "(17, 3)\n",
      "1211\n",
      "(17, 3)\n",
      "1212\n",
      "(17, 3)\n",
      "1213\n",
      "(17, 3)\n",
      "1214\n",
      "(17, 3)\n",
      "1215\n",
      "(17, 3)\n",
      "1216\n",
      "(17, 3)\n",
      "1217\n",
      "(17, 3)\n",
      "1218\n",
      "(17, 3)\n",
      "1219\n",
      "(17, 3)\n",
      "1220\n",
      "(17, 3)\n",
      "1221\n",
      "(17, 3)\n",
      "1222\n",
      "(17, 3)\n",
      "1223\n",
      "(17, 3)\n",
      "1224\n",
      "(17, 3)\n",
      "1225\n",
      "(17, 3)\n",
      "1226\n",
      "(17, 3)\n",
      "1227\n",
      "(17, 3)\n",
      "1228\n",
      "(17, 3)\n",
      "1229\n",
      "(17, 3)\n",
      "1230\n",
      "(17, 3)\n",
      "1231\n",
      "(17, 3)\n",
      "1232\n",
      "(17, 3)\n",
      "1233\n",
      "(17, 3)\n",
      "1234\n",
      "(17, 3)\n",
      "1235\n",
      "(17, 3)\n",
      "1236\n",
      "(17, 3)\n",
      "1237\n",
      "(17, 3)\n",
      "1238\n",
      "(17, 3)\n",
      "1239\n",
      "(17, 3)\n",
      "1240\n",
      "(17, 3)\n",
      "1241\n",
      "(17, 3)\n",
      "1242\n",
      "(17, 3)\n",
      "1243\n",
      "(17, 3)\n",
      "1244\n",
      "(17, 3)\n",
      "1245\n",
      "(17, 3)\n",
      "1246\n",
      "(17, 3)\n",
      "1247\n",
      "(17, 3)\n",
      "1248\n",
      "(17, 3)\n",
      "1249\n",
      "(17, 3)\n",
      "1250\n",
      "(17, 3)\n",
      "1251\n",
      "(17, 3)\n",
      "1252\n",
      "(17, 3)\n",
      "1253\n",
      "(17, 3)\n",
      "1254\n",
      "(17, 3)\n",
      "1255\n",
      "(17, 3)\n",
      "1256\n",
      "(17, 3)\n",
      "1257\n",
      "(17, 3)\n",
      "1258\n",
      "(17, 3)\n",
      "1259\n",
      "(17, 3)\n",
      "1260\n",
      "(17, 3)\n",
      "1261\n",
      "(17, 3)\n",
      "1262\n",
      "(17, 3)\n",
      "1263\n",
      "(17, 3)\n",
      "1264\n",
      "(17, 3)\n",
      "1265\n",
      "(17, 3)\n",
      "1266\n",
      "(17, 3)\n",
      "1267\n",
      "(17, 3)\n",
      "1268\n",
      "(17, 3)\n",
      "1269\n",
      "(17, 3)\n",
      "1270\n",
      "(17, 3)\n",
      "1271\n",
      "(17, 3)\n",
      "1272\n",
      "(17, 3)\n",
      "1273\n",
      "(17, 3)\n",
      "1274\n",
      "(17, 3)\n",
      "1275\n",
      "(17, 3)\n",
      "1276\n",
      "(17, 3)\n",
      "1277\n",
      "(17, 3)\n",
      "1278\n",
      "(17, 3)\n",
      "1279\n",
      "(17, 3)\n",
      "1280\n",
      "(17, 3)\n",
      "1281\n",
      "(17, 3)\n",
      "1282\n",
      "(17, 3)\n",
      "1283\n",
      "(17, 3)\n",
      "1284\n",
      "(17, 3)\n",
      "1285\n",
      "(17, 3)\n",
      "1286\n",
      "(17, 3)\n",
      "1287\n",
      "(17, 3)\n",
      "1288\n",
      "(17, 3)\n",
      "1289\n",
      "(17, 3)\n",
      "1290\n",
      "(17, 3)\n",
      "1291\n",
      "(17, 3)\n",
      "1292\n",
      "(17, 3)\n",
      "1293\n",
      "(17, 3)\n",
      "1294\n",
      "(17, 3)\n",
      "1295\n",
      "(17, 3)\n",
      "1296\n",
      "(17, 3)\n",
      "1297\n",
      "(17, 3)\n",
      "1298\n",
      "(17, 3)\n",
      "1299\n",
      "(17, 3)\n",
      "1300\n",
      "(17, 3)\n",
      "1301\n",
      "(17, 3)\n",
      "1302\n",
      "(17, 3)\n",
      "1303\n",
      "(17, 3)\n",
      "1304\n",
      "(17, 3)\n",
      "1305\n",
      "(17, 3)\n",
      "1306\n",
      "(17, 3)\n",
      "1307\n",
      "(17, 3)\n",
      "1308\n",
      "(17, 3)\n",
      "1309\n",
      "(17, 3)\n",
      "1310\n",
      "(17, 3)\n",
      "1311\n",
      "(17, 3)\n",
      "1312\n",
      "(17, 3)\n",
      "1313\n",
      "(17, 3)\n",
      "1314\n",
      "(17, 3)\n",
      "1315\n",
      "(17, 3)\n",
      "1316\n",
      "(17, 3)\n",
      "1317\n",
      "(17, 3)\n",
      "1318\n",
      "(17, 3)\n",
      "1319\n",
      "(17, 3)\n",
      "1320\n",
      "(17, 3)\n",
      "1321\n",
      "(17, 3)\n",
      "1322\n",
      "(17, 3)\n",
      "1323\n",
      "(17, 3)\n",
      "1324\n",
      "(17, 3)\n",
      "1325\n",
      "(17, 3)\n",
      "1326\n",
      "(17, 3)\n",
      "1327\n",
      "(17, 3)\n",
      "1328\n",
      "(17, 3)\n",
      "1329\n",
      "(17, 3)\n",
      "1330\n",
      "(17, 3)\n",
      "1331\n",
      "(17, 3)\n",
      "1332\n",
      "(17, 3)\n",
      "1333\n",
      "(17, 3)\n",
      "1334\n",
      "(17, 3)\n",
      "1335\n",
      "(17, 3)\n",
      "1336\n",
      "(17, 3)\n",
      "1337\n",
      "(17, 3)\n",
      "1338\n",
      "(17, 3)\n",
      "1339\n",
      "(17, 3)\n",
      "1340\n",
      "(17, 3)\n",
      "1341\n",
      "(17, 3)\n",
      "1342\n",
      "(17, 3)\n",
      "1343\n",
      "(17, 3)\n",
      "1344\n",
      "(17, 3)\n",
      "1345\n",
      "(17, 3)\n",
      "1346\n",
      "(17, 3)\n",
      "1347\n",
      "(17, 3)\n",
      "1348\n",
      "(17, 3)\n",
      "1349\n",
      "(17, 3)\n",
      "1350\n",
      "(17, 3)\n",
      "1351\n",
      "(17, 3)\n",
      "1352\n",
      "(17, 3)\n",
      "1353\n",
      "(17, 3)\n",
      "1354\n",
      "(17, 3)\n",
      "1355\n",
      "(17, 3)\n",
      "1356\n",
      "(17, 3)\n",
      "1357\n",
      "(17, 3)\n",
      "1358\n",
      "(17, 3)\n",
      "1359\n",
      "(17, 3)\n",
      "1360\n",
      "(17, 3)\n",
      "1361\n",
      "(17, 3)\n",
      "1362\n",
      "(17, 3)\n",
      "1363\n",
      "(17, 3)\n",
      "1364\n",
      "(17, 3)\n",
      "1365\n",
      "(17, 3)\n",
      "1366\n",
      "(17, 3)\n",
      "1367\n",
      "(17, 3)\n",
      "1368\n",
      "(17, 3)\n",
      "1369\n",
      "(17, 3)\n",
      "1370\n",
      "(17, 3)\n",
      "1371\n",
      "(17, 3)\n",
      "1372\n",
      "(17, 3)\n",
      "1373\n",
      "(17, 3)\n",
      "1374\n",
      "(17, 3)\n",
      "1375\n",
      "(17, 3)\n",
      "1376\n",
      "(17, 3)\n",
      "1377\n",
      "(17, 3)\n",
      "1378\n",
      "(17, 3)\n",
      "1379\n",
      "(17, 3)\n",
      "1380\n",
      "(17, 3)\n",
      "1381\n",
      "(17, 3)\n",
      "1382\n",
      "(17, 3)\n",
      "1383\n",
      "(17, 3)\n",
      "1384\n",
      "(17, 3)\n",
      "1385\n",
      "(17, 3)\n",
      "1386\n",
      "(17, 3)\n",
      "1387\n",
      "(17, 3)\n",
      "1388\n",
      "(17, 3)\n",
      "1389\n",
      "(17, 3)\n",
      "1390\n",
      "(17, 3)\n",
      "1391\n",
      "(17, 3)\n",
      "1392\n",
      "(17, 3)\n",
      "1393\n",
      "(17, 3)\n",
      "1394\n",
      "(17, 3)\n",
      "1395\n",
      "(17, 3)\n",
      "1396\n",
      "(17, 3)\n",
      "1397\n",
      "(17, 3)\n",
      "1398\n",
      "(17, 3)\n",
      "1399\n",
      "(17, 3)\n",
      "1400\n",
      "(17, 3)\n"
     ]
    }
   ],
   "source": [
    "# 3d result video\n",
    "import plotly.express as px\n",
    "import pandas as pd\n",
    "import numpy as np\n",
    "import io\n",
    "import PIL\n",
    "\n",
    "\n",
    "frames = []\n",
    "connections = h36m_connections\n",
    "\n",
    "for video in ['s03_60457274_squat', \"s03_50591643_squat\", \"s03_58860488_squat\", \"s03_65906101_squat\"]: # \n",
    "\n",
    "    frames = []\n",
    "    connections = h36m_connections\n",
    "    actor, cam_num, action = video.split('_')\n",
    "\n",
    "    for frame_num in range(len(fit3d_result[video]['output'])):\n",
    "        print(frame_num)\n",
    "        aihub_3d = copy.deepcopy(fit3d_result[video]['output'][frame_num])\n",
    "        pos = copy.deepcopy(aihub_3d)\n",
    "        print(pos.shape)\n",
    "        # points_aihub_3d = {}\n",
    "        # for i, p in enumerate(pos):\n",
    "        #     #print(i, h36m_keypoints[i], p)\n",
    "        #     points_aihub_3d[h36m_keypoints[i]] = np.array([p[0], p[2], -p[1]]) #np.array([p[0], p[1], p[2]])  #np.array([p[0], -p[2], p[1]])\n",
    "\n",
    "        connections = [\n",
    "            (0,1),\n",
    "            (0,4),\n",
    "            (0,7),\n",
    "            (1,2),\n",
    "            (2,3),\n",
    "            (4,5),\n",
    "            (5,6),\n",
    "            (7,8),\n",
    "            (8,9),\n",
    "            (9,10),\n",
    "            (8,14),\n",
    "            (14,15),\n",
    "            (15,16),\n",
    "            (8,11),\n",
    "            (11,12),\n",
    "            (12,13)\n",
    "        ]\n",
    "\n",
    "        elevation=20\n",
    "        azimuth=frame_num*2\n",
    "        xaxis=dict(range=[-1, 1]) \n",
    "        yaxis=dict(range=[-1, 1]) \n",
    "        zaxis=dict(range=[-1, 1]) \n",
    "        camera=None\n",
    "        \n",
    "        fig = go.Figure()\n",
    "    \n",
    "        # Add origin\n",
    "        fig.add_trace(go.Scatter3d(x=[0.0], y=[0.0], z=[0.0],\n",
    "                                    mode='markers', marker=dict(size=5, color='red')))\n",
    "\n",
    "        # Add points\n",
    "        for point in pos:\n",
    "            fig.add_trace(go.Scatter3d(x=[point[0]], y=[point[2]], z=[-point[1]],\n",
    "                                    mode='markers', marker=dict(size=2, color='blue')))\n",
    "\n",
    "        # Add connections\n",
    "        for connection in connections:\n",
    "            p1, p2 = pos[connection[0]], pos[connection[1]]\n",
    "            fig.add_trace(go.Scatter3d(x=[p1[0], p2[0]], y=[p1[2], p2[2]], z=[-p1[1], -p2[1]],\n",
    "                                    mode='lines', line=dict(color='black')))\n",
    "\n",
    "        # Set layout\n",
    "        fig.update_layout(scene=dict(xaxis=xaxis, yaxis=yaxis, zaxis=zaxis,\n",
    "                                    aspectratio=dict(x=1, y=1, z=1),\n",
    "                                    camera=dict(eye=dict(x=np.cos(np.pi * azimuth / 180) * np.cos(np.pi * elevation / 180),\n",
    "                                                        y=np.sin(np.pi * azimuth / 180) * np.cos(np.pi * elevation / 180),\n",
    "                                                        z=np.sin(np.pi * elevation / 180)))),\n",
    "                        width=700, height=700, autosize=False)\n",
    "                        #scene_camera_eye=dict(x=1, y=1, z=1))\n",
    "        \n",
    "        if camera is not None:\n",
    "            fig.update_layout(scene_camera=camera)\n",
    "        \n",
    "        \n",
    "        #fig = draw_skeleton(points_aihub_3d, h36m_connections)\n",
    "\n",
    "        frames.append(PIL.Image.open(io.BytesIO(fig.to_image(format=\"png\"))))\n",
    "        \n",
    "    # create animated GIF\n",
    "    frames[0].save(\n",
    "            \"{}_{}_{}_output.gif\".format(actor, action, cam_num),\n",
    "            save_all=True,\n",
    "            append_images=frames[1:],\n",
    "            optimize=True,\n",
    "            duration=33,\n",
    "            loop=0,\n",
    "        )"
   ]
  },
  {
   "cell_type": "code",
   "execution_count": 63,
   "metadata": {},
   "outputs": [
    {
     "data": {
      "text/plain": [
       "array([1.8885511e-04, 5.5102282e-05, 7.1125734e-04], dtype=float32)"
      ]
     },
     "execution_count": 63,
     "metadata": {},
     "output_type": "execute_result"
    }
   ],
   "source": [
    "pos[0]"
   ]
  },
  {
   "cell_type": "code",
   "execution_count": 64,
   "metadata": {},
   "outputs": [
    {
     "data": {
      "text/plain": [
       "[('Pelvis', 'R_Hip'),\n",
       " ('Pelvis', 'L_Hip'),\n",
       " ('Pelvis', 'Torso'),\n",
       " ('R_Hip', 'R_Knee'),\n",
       " ('R_Knee', 'R_Ankle'),\n",
       " ('L_Hip', 'L_Knee'),\n",
       " ('L_Knee', 'L_Ankle'),\n",
       " ('Torso', 'Neck'),\n",
       " ('Neck', 'Nose'),\n",
       " ('Nose', 'Head'),\n",
       " ('Neck', 'R_Shoulder'),\n",
       " ('R_Shoulder', 'R_Elbow'),\n",
       " ('R_Elbow', 'R_Wrist'),\n",
       " ('Neck', 'L_Shoulder'),\n",
       " ('L_Shoulder', 'L_Elbow'),\n",
       " ('L_Elbow', 'L_Wrist')]"
      ]
     },
     "execution_count": 64,
     "metadata": {},
     "output_type": "execute_result"
    }
   ],
   "source": [
    "connections"
   ]
  }
 ],
 "metadata": {
  "kernelspec": {
   "display_name": "motionbert",
   "language": "python",
   "name": "python3"
  },
  "language_info": {
   "codemirror_mode": {
    "name": "ipython",
    "version": 3
   },
   "file_extension": ".py",
   "mimetype": "text/x-python",
   "name": "python",
   "nbconvert_exporter": "python",
   "pygments_lexer": "ipython3",
   "version": "3.9.17"
  },
  "orig_nbformat": 4,
  "vscode": {
   "interpreter": {
    "hash": "996031ba2a0f3c1298a339c0299835a7fe1ef636d9e79358bc474ca43ed2ac18"
   }
  }
 },
 "nbformat": 4,
 "nbformat_minor": 2
}
