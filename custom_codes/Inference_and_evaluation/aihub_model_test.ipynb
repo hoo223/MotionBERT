{
 "cells": [
  {
   "cell_type": "code",
   "execution_count": 1,
   "metadata": {},
   "outputs": [],
   "source": [
    "%matplotlib inline\n",
    "import pickle\n",
    "import copy\n",
    "import numpy as np\n",
    "import random\n",
    "import os\n",
    "import torch\n",
    "from test_utils import *\n",
    "from ipywidgets import interact\n"
   ]
  },
  {
   "attachments": {},
   "cell_type": "markdown",
   "metadata": {},
   "source": [
    "# 데이터 직접 입력"
   ]
  },
  {
   "cell_type": "code",
   "execution_count": 2,
   "metadata": {},
   "outputs": [],
   "source": [
    "import argparse\n",
    "os.chdir('..')\n",
    "from lib.utils.learning import *\n",
    "from lib.utils.tools import *"
   ]
  },
  {
   "cell_type": "code",
   "execution_count": 3,
   "metadata": {},
   "outputs": [],
   "source": [
    "from test_utils import *\n",
    "\n",
    "h36m_connections = [\n",
    "    (0,1),\n",
    "    (0,4),\n",
    "    (0,7),\n",
    "    (1,2),\n",
    "    (2,3),\n",
    "    (4,5),\n",
    "    (5,6),\n",
    "    (7,8),\n",
    "    (8,9),\n",
    "    (9,10),\n",
    "    (8,14),\n",
    "    (14,15),\n",
    "    (15,16),\n",
    "    (8,11),\n",
    "    (11,12),\n",
    "    (12,13)\n",
    "]"
   ]
  },
  {
   "cell_type": "code",
   "execution_count": 5,
   "metadata": {},
   "outputs": [],
   "source": [
    "def draw_skeleton_2d(points, connections, elevation=0, azimuth=0):\n",
    "    fig = go.Figure()\n",
    "    \n",
    "    # Add points\n",
    "    for point in points.values():\n",
    "        fig.add_trace(go.Scatter(x=[point[0]], y=[point[1]],\n",
    "                                   mode='markers', marker=dict(size=2, color='blue')))\n",
    "\n",
    "    # Add connections\n",
    "    for connection in connections:\n",
    "        p1, p2 = points[connection[0]], points[connection[1]]\n",
    "        fig.add_trace(go.Scatter(x=[p1[0], p2[0]], y=[p1[1], p2[1]],\n",
    "                                   mode='lines', line=dict(color='black')))\n",
    "\n",
    "    img_width = 1920\n",
    "    img_height = 1080\n",
    "    scale_factor = 0.5\n",
    "\n",
    "    # https://wikidocs.net/185955 참고\n",
    "    fig.update_xaxes(range=[-1, 1])\n",
    "    fig.update_yaxes(range=[1, -1])\n",
    "    #fig.update_xaxes(autorange=\"reversed\") # 축 범위 반전, 위의 range 설정이 초기화되버림\n",
    "\n",
    "    fig.update_layout(width=700,height=700)\n",
    "    \n",
    "    fig.update_layout(template=\"plotly_white\")\n",
    "\n",
    "    fig.show()"
   ]
  },
  {
   "cell_type": "code",
   "execution_count": 30,
   "metadata": {},
   "outputs": [],
   "source": [
    "def parse_args():\n",
    "    parser = argparse.ArgumentParser()\n",
    "    parser.add_argument(\"--config\", type=str, default=\"/home/hrai/codes/MotionBERT/configs/pose3d/MB_ft_h36m.yaml\", help=\"Path to the config file.\")\n",
    "    parser.add_argument('-c', '--checkpoint', default='', type=str, metavar='PATH', help='checkpoint directory')\n",
    "    parser.add_argument('-p', '--pretrained', default='', type=str, metavar='PATH', help='pretrained checkpoint directory')\n",
    "    parser.add_argument('-r', '--resume', default='', type=str, metavar='FILENAME', help='checkpoint to resume (file name)')\n",
    "    #parser.add_argument('-e', '--evaluate', default='/home/hrai/codes/MotionBERT/checkpoint/pose3d/FT_MB_ft_h36m_MB_ft_aihub_243_upbeat-pond-13/latest_epoch.bin', type=str, metavar='FILENAME', help='checkpoint to evaluate (file name)')\n",
    "    #parser.add_argument('-e', '--evaluate', default='/home/hrai/codes/MotionBERT/checkpoint/pose3d/MB_ft_h36m/best_epoch.bin', type=str, metavar='FILENAME', help='checkpoint to evaluate (file name)')\n",
    "    parser.add_argument('-e', '--evaluate', default='/home/hrai/codes/MotionBERT/checkpoint/pose3d/FT_MB_ft_h36m_MB_ft_aihub_30_pious-glitter-22/epoch_59.bin', type=str, metavar='FILENAME', help='checkpoint to evaluate (file name)')\n",
    "    #parser.add_argument('-ms', '--selection', default='', type=str, metavar='FILENAME', help='checkpoint to finetune (file name)')\n",
    "    parser.add_argument('-sd', '--seed', default=0, type=int, help='random seed')\n",
    "    opts = parser.parse_args([])\n",
    "    return opts\n",
    "\n",
    "def set_random_seed(seed):\n",
    "    random.seed(seed)\n",
    "    np.random.seed(seed)\n",
    "    torch.manual_seed(seed)\n",
    "    \n",
    "os.chdir('..')\n",
    "opts = parse_args()\n",
    "set_random_seed(opts.seed)\n",
    "args = get_config(opts.config)"
   ]
  },
  {
   "cell_type": "code",
   "execution_count": 31,
   "metadata": {},
   "outputs": [
    {
     "name": "stdout",
     "output_type": "stream",
     "text": [
      "Loading checkpoint /home/hrai/codes/MotionBERT/checkpoint/pose3d/FT_MB_ft_h36m_MB_ft_aihub_30_pious-glitter-22/epoch_59.bin\n"
     ]
    },
    {
     "data": {
      "text/plain": [
       "DataParallel(\n",
       "  (module): DSTformer(\n",
       "    (joints_embed): Linear(in_features=3, out_features=512, bias=True)\n",
       "    (pos_drop): Dropout(p=0.0, inplace=False)\n",
       "    (blocks_st): ModuleList(\n",
       "      (0): Block(\n",
       "        (norm1_s): LayerNorm((512,), eps=1e-06, elementwise_affine=True)\n",
       "        (norm1_t): LayerNorm((512,), eps=1e-06, elementwise_affine=True)\n",
       "        (attn_s): Attention(\n",
       "          (attn_drop): Dropout(p=0.0, inplace=False)\n",
       "          (proj): Linear(in_features=512, out_features=512, bias=True)\n",
       "          (qkv): Linear(in_features=512, out_features=1536, bias=True)\n",
       "          (proj_drop): Dropout(p=0.0, inplace=False)\n",
       "        )\n",
       "        (attn_t): Attention(\n",
       "          (attn_drop): Dropout(p=0.0, inplace=False)\n",
       "          (proj): Linear(in_features=512, out_features=512, bias=True)\n",
       "          (qkv): Linear(in_features=512, out_features=1536, bias=True)\n",
       "          (proj_drop): Dropout(p=0.0, inplace=False)\n",
       "        )\n",
       "        (drop_path): Identity()\n",
       "        (norm2_s): LayerNorm((512,), eps=1e-06, elementwise_affine=True)\n",
       "        (norm2_t): LayerNorm((512,), eps=1e-06, elementwise_affine=True)\n",
       "        (mlp_s): MLP(\n",
       "          (fc1): Linear(in_features=512, out_features=1024, bias=True)\n",
       "          (act): GELU(approximate=none)\n",
       "          (fc2): Linear(in_features=1024, out_features=512, bias=True)\n",
       "          (drop): Dropout(p=0.0, inplace=False)\n",
       "        )\n",
       "        (mlp_t): MLP(\n",
       "          (fc1): Linear(in_features=512, out_features=1024, bias=True)\n",
       "          (act): GELU(approximate=none)\n",
       "          (fc2): Linear(in_features=1024, out_features=512, bias=True)\n",
       "          (drop): Dropout(p=0.0, inplace=False)\n",
       "        )\n",
       "      )\n",
       "      (1): Block(\n",
       "        (norm1_s): LayerNorm((512,), eps=1e-06, elementwise_affine=True)\n",
       "        (norm1_t): LayerNorm((512,), eps=1e-06, elementwise_affine=True)\n",
       "        (attn_s): Attention(\n",
       "          (attn_drop): Dropout(p=0.0, inplace=False)\n",
       "          (proj): Linear(in_features=512, out_features=512, bias=True)\n",
       "          (qkv): Linear(in_features=512, out_features=1536, bias=True)\n",
       "          (proj_drop): Dropout(p=0.0, inplace=False)\n",
       "        )\n",
       "        (attn_t): Attention(\n",
       "          (attn_drop): Dropout(p=0.0, inplace=False)\n",
       "          (proj): Linear(in_features=512, out_features=512, bias=True)\n",
       "          (qkv): Linear(in_features=512, out_features=1536, bias=True)\n",
       "          (proj_drop): Dropout(p=0.0, inplace=False)\n",
       "        )\n",
       "        (drop_path): Identity()\n",
       "        (norm2_s): LayerNorm((512,), eps=1e-06, elementwise_affine=True)\n",
       "        (norm2_t): LayerNorm((512,), eps=1e-06, elementwise_affine=True)\n",
       "        (mlp_s): MLP(\n",
       "          (fc1): Linear(in_features=512, out_features=1024, bias=True)\n",
       "          (act): GELU(approximate=none)\n",
       "          (fc2): Linear(in_features=1024, out_features=512, bias=True)\n",
       "          (drop): Dropout(p=0.0, inplace=False)\n",
       "        )\n",
       "        (mlp_t): MLP(\n",
       "          (fc1): Linear(in_features=512, out_features=1024, bias=True)\n",
       "          (act): GELU(approximate=none)\n",
       "          (fc2): Linear(in_features=1024, out_features=512, bias=True)\n",
       "          (drop): Dropout(p=0.0, inplace=False)\n",
       "        )\n",
       "      )\n",
       "      (2): Block(\n",
       "        (norm1_s): LayerNorm((512,), eps=1e-06, elementwise_affine=True)\n",
       "        (norm1_t): LayerNorm((512,), eps=1e-06, elementwise_affine=True)\n",
       "        (attn_s): Attention(\n",
       "          (attn_drop): Dropout(p=0.0, inplace=False)\n",
       "          (proj): Linear(in_features=512, out_features=512, bias=True)\n",
       "          (qkv): Linear(in_features=512, out_features=1536, bias=True)\n",
       "          (proj_drop): Dropout(p=0.0, inplace=False)\n",
       "        )\n",
       "        (attn_t): Attention(\n",
       "          (attn_drop): Dropout(p=0.0, inplace=False)\n",
       "          (proj): Linear(in_features=512, out_features=512, bias=True)\n",
       "          (qkv): Linear(in_features=512, out_features=1536, bias=True)\n",
       "          (proj_drop): Dropout(p=0.0, inplace=False)\n",
       "        )\n",
       "        (drop_path): Identity()\n",
       "        (norm2_s): LayerNorm((512,), eps=1e-06, elementwise_affine=True)\n",
       "        (norm2_t): LayerNorm((512,), eps=1e-06, elementwise_affine=True)\n",
       "        (mlp_s): MLP(\n",
       "          (fc1): Linear(in_features=512, out_features=1024, bias=True)\n",
       "          (act): GELU(approximate=none)\n",
       "          (fc2): Linear(in_features=1024, out_features=512, bias=True)\n",
       "          (drop): Dropout(p=0.0, inplace=False)\n",
       "        )\n",
       "        (mlp_t): MLP(\n",
       "          (fc1): Linear(in_features=512, out_features=1024, bias=True)\n",
       "          (act): GELU(approximate=none)\n",
       "          (fc2): Linear(in_features=1024, out_features=512, bias=True)\n",
       "          (drop): Dropout(p=0.0, inplace=False)\n",
       "        )\n",
       "      )\n",
       "      (3): Block(\n",
       "        (norm1_s): LayerNorm((512,), eps=1e-06, elementwise_affine=True)\n",
       "        (norm1_t): LayerNorm((512,), eps=1e-06, elementwise_affine=True)\n",
       "        (attn_s): Attention(\n",
       "          (attn_drop): Dropout(p=0.0, inplace=False)\n",
       "          (proj): Linear(in_features=512, out_features=512, bias=True)\n",
       "          (qkv): Linear(in_features=512, out_features=1536, bias=True)\n",
       "          (proj_drop): Dropout(p=0.0, inplace=False)\n",
       "        )\n",
       "        (attn_t): Attention(\n",
       "          (attn_drop): Dropout(p=0.0, inplace=False)\n",
       "          (proj): Linear(in_features=512, out_features=512, bias=True)\n",
       "          (qkv): Linear(in_features=512, out_features=1536, bias=True)\n",
       "          (proj_drop): Dropout(p=0.0, inplace=False)\n",
       "        )\n",
       "        (drop_path): Identity()\n",
       "        (norm2_s): LayerNorm((512,), eps=1e-06, elementwise_affine=True)\n",
       "        (norm2_t): LayerNorm((512,), eps=1e-06, elementwise_affine=True)\n",
       "        (mlp_s): MLP(\n",
       "          (fc1): Linear(in_features=512, out_features=1024, bias=True)\n",
       "          (act): GELU(approximate=none)\n",
       "          (fc2): Linear(in_features=1024, out_features=512, bias=True)\n",
       "          (drop): Dropout(p=0.0, inplace=False)\n",
       "        )\n",
       "        (mlp_t): MLP(\n",
       "          (fc1): Linear(in_features=512, out_features=1024, bias=True)\n",
       "          (act): GELU(approximate=none)\n",
       "          (fc2): Linear(in_features=1024, out_features=512, bias=True)\n",
       "          (drop): Dropout(p=0.0, inplace=False)\n",
       "        )\n",
       "      )\n",
       "      (4): Block(\n",
       "        (norm1_s): LayerNorm((512,), eps=1e-06, elementwise_affine=True)\n",
       "        (norm1_t): LayerNorm((512,), eps=1e-06, elementwise_affine=True)\n",
       "        (attn_s): Attention(\n",
       "          (attn_drop): Dropout(p=0.0, inplace=False)\n",
       "          (proj): Linear(in_features=512, out_features=512, bias=True)\n",
       "          (qkv): Linear(in_features=512, out_features=1536, bias=True)\n",
       "          (proj_drop): Dropout(p=0.0, inplace=False)\n",
       "        )\n",
       "        (attn_t): Attention(\n",
       "          (attn_drop): Dropout(p=0.0, inplace=False)\n",
       "          (proj): Linear(in_features=512, out_features=512, bias=True)\n",
       "          (qkv): Linear(in_features=512, out_features=1536, bias=True)\n",
       "          (proj_drop): Dropout(p=0.0, inplace=False)\n",
       "        )\n",
       "        (drop_path): Identity()\n",
       "        (norm2_s): LayerNorm((512,), eps=1e-06, elementwise_affine=True)\n",
       "        (norm2_t): LayerNorm((512,), eps=1e-06, elementwise_affine=True)\n",
       "        (mlp_s): MLP(\n",
       "          (fc1): Linear(in_features=512, out_features=1024, bias=True)\n",
       "          (act): GELU(approximate=none)\n",
       "          (fc2): Linear(in_features=1024, out_features=512, bias=True)\n",
       "          (drop): Dropout(p=0.0, inplace=False)\n",
       "        )\n",
       "        (mlp_t): MLP(\n",
       "          (fc1): Linear(in_features=512, out_features=1024, bias=True)\n",
       "          (act): GELU(approximate=none)\n",
       "          (fc2): Linear(in_features=1024, out_features=512, bias=True)\n",
       "          (drop): Dropout(p=0.0, inplace=False)\n",
       "        )\n",
       "      )\n",
       "    )\n",
       "    (blocks_ts): ModuleList(\n",
       "      (0): Block(\n",
       "        (norm1_s): LayerNorm((512,), eps=1e-06, elementwise_affine=True)\n",
       "        (norm1_t): LayerNorm((512,), eps=1e-06, elementwise_affine=True)\n",
       "        (attn_s): Attention(\n",
       "          (attn_drop): Dropout(p=0.0, inplace=False)\n",
       "          (proj): Linear(in_features=512, out_features=512, bias=True)\n",
       "          (qkv): Linear(in_features=512, out_features=1536, bias=True)\n",
       "          (proj_drop): Dropout(p=0.0, inplace=False)\n",
       "        )\n",
       "        (attn_t): Attention(\n",
       "          (attn_drop): Dropout(p=0.0, inplace=False)\n",
       "          (proj): Linear(in_features=512, out_features=512, bias=True)\n",
       "          (qkv): Linear(in_features=512, out_features=1536, bias=True)\n",
       "          (proj_drop): Dropout(p=0.0, inplace=False)\n",
       "        )\n",
       "        (drop_path): Identity()\n",
       "        (norm2_s): LayerNorm((512,), eps=1e-06, elementwise_affine=True)\n",
       "        (norm2_t): LayerNorm((512,), eps=1e-06, elementwise_affine=True)\n",
       "        (mlp_s): MLP(\n",
       "          (fc1): Linear(in_features=512, out_features=1024, bias=True)\n",
       "          (act): GELU(approximate=none)\n",
       "          (fc2): Linear(in_features=1024, out_features=512, bias=True)\n",
       "          (drop): Dropout(p=0.0, inplace=False)\n",
       "        )\n",
       "        (mlp_t): MLP(\n",
       "          (fc1): Linear(in_features=512, out_features=1024, bias=True)\n",
       "          (act): GELU(approximate=none)\n",
       "          (fc2): Linear(in_features=1024, out_features=512, bias=True)\n",
       "          (drop): Dropout(p=0.0, inplace=False)\n",
       "        )\n",
       "      )\n",
       "      (1): Block(\n",
       "        (norm1_s): LayerNorm((512,), eps=1e-06, elementwise_affine=True)\n",
       "        (norm1_t): LayerNorm((512,), eps=1e-06, elementwise_affine=True)\n",
       "        (attn_s): Attention(\n",
       "          (attn_drop): Dropout(p=0.0, inplace=False)\n",
       "          (proj): Linear(in_features=512, out_features=512, bias=True)\n",
       "          (qkv): Linear(in_features=512, out_features=1536, bias=True)\n",
       "          (proj_drop): Dropout(p=0.0, inplace=False)\n",
       "        )\n",
       "        (attn_t): Attention(\n",
       "          (attn_drop): Dropout(p=0.0, inplace=False)\n",
       "          (proj): Linear(in_features=512, out_features=512, bias=True)\n",
       "          (qkv): Linear(in_features=512, out_features=1536, bias=True)\n",
       "          (proj_drop): Dropout(p=0.0, inplace=False)\n",
       "        )\n",
       "        (drop_path): Identity()\n",
       "        (norm2_s): LayerNorm((512,), eps=1e-06, elementwise_affine=True)\n",
       "        (norm2_t): LayerNorm((512,), eps=1e-06, elementwise_affine=True)\n",
       "        (mlp_s): MLP(\n",
       "          (fc1): Linear(in_features=512, out_features=1024, bias=True)\n",
       "          (act): GELU(approximate=none)\n",
       "          (fc2): Linear(in_features=1024, out_features=512, bias=True)\n",
       "          (drop): Dropout(p=0.0, inplace=False)\n",
       "        )\n",
       "        (mlp_t): MLP(\n",
       "          (fc1): Linear(in_features=512, out_features=1024, bias=True)\n",
       "          (act): GELU(approximate=none)\n",
       "          (fc2): Linear(in_features=1024, out_features=512, bias=True)\n",
       "          (drop): Dropout(p=0.0, inplace=False)\n",
       "        )\n",
       "      )\n",
       "      (2): Block(\n",
       "        (norm1_s): LayerNorm((512,), eps=1e-06, elementwise_affine=True)\n",
       "        (norm1_t): LayerNorm((512,), eps=1e-06, elementwise_affine=True)\n",
       "        (attn_s): Attention(\n",
       "          (attn_drop): Dropout(p=0.0, inplace=False)\n",
       "          (proj): Linear(in_features=512, out_features=512, bias=True)\n",
       "          (qkv): Linear(in_features=512, out_features=1536, bias=True)\n",
       "          (proj_drop): Dropout(p=0.0, inplace=False)\n",
       "        )\n",
       "        (attn_t): Attention(\n",
       "          (attn_drop): Dropout(p=0.0, inplace=False)\n",
       "          (proj): Linear(in_features=512, out_features=512, bias=True)\n",
       "          (qkv): Linear(in_features=512, out_features=1536, bias=True)\n",
       "          (proj_drop): Dropout(p=0.0, inplace=False)\n",
       "        )\n",
       "        (drop_path): Identity()\n",
       "        (norm2_s): LayerNorm((512,), eps=1e-06, elementwise_affine=True)\n",
       "        (norm2_t): LayerNorm((512,), eps=1e-06, elementwise_affine=True)\n",
       "        (mlp_s): MLP(\n",
       "          (fc1): Linear(in_features=512, out_features=1024, bias=True)\n",
       "          (act): GELU(approximate=none)\n",
       "          (fc2): Linear(in_features=1024, out_features=512, bias=True)\n",
       "          (drop): Dropout(p=0.0, inplace=False)\n",
       "        )\n",
       "        (mlp_t): MLP(\n",
       "          (fc1): Linear(in_features=512, out_features=1024, bias=True)\n",
       "          (act): GELU(approximate=none)\n",
       "          (fc2): Linear(in_features=1024, out_features=512, bias=True)\n",
       "          (drop): Dropout(p=0.0, inplace=False)\n",
       "        )\n",
       "      )\n",
       "      (3): Block(\n",
       "        (norm1_s): LayerNorm((512,), eps=1e-06, elementwise_affine=True)\n",
       "        (norm1_t): LayerNorm((512,), eps=1e-06, elementwise_affine=True)\n",
       "        (attn_s): Attention(\n",
       "          (attn_drop): Dropout(p=0.0, inplace=False)\n",
       "          (proj): Linear(in_features=512, out_features=512, bias=True)\n",
       "          (qkv): Linear(in_features=512, out_features=1536, bias=True)\n",
       "          (proj_drop): Dropout(p=0.0, inplace=False)\n",
       "        )\n",
       "        (attn_t): Attention(\n",
       "          (attn_drop): Dropout(p=0.0, inplace=False)\n",
       "          (proj): Linear(in_features=512, out_features=512, bias=True)\n",
       "          (qkv): Linear(in_features=512, out_features=1536, bias=True)\n",
       "          (proj_drop): Dropout(p=0.0, inplace=False)\n",
       "        )\n",
       "        (drop_path): Identity()\n",
       "        (norm2_s): LayerNorm((512,), eps=1e-06, elementwise_affine=True)\n",
       "        (norm2_t): LayerNorm((512,), eps=1e-06, elementwise_affine=True)\n",
       "        (mlp_s): MLP(\n",
       "          (fc1): Linear(in_features=512, out_features=1024, bias=True)\n",
       "          (act): GELU(approximate=none)\n",
       "          (fc2): Linear(in_features=1024, out_features=512, bias=True)\n",
       "          (drop): Dropout(p=0.0, inplace=False)\n",
       "        )\n",
       "        (mlp_t): MLP(\n",
       "          (fc1): Linear(in_features=512, out_features=1024, bias=True)\n",
       "          (act): GELU(approximate=none)\n",
       "          (fc2): Linear(in_features=1024, out_features=512, bias=True)\n",
       "          (drop): Dropout(p=0.0, inplace=False)\n",
       "        )\n",
       "      )\n",
       "      (4): Block(\n",
       "        (norm1_s): LayerNorm((512,), eps=1e-06, elementwise_affine=True)\n",
       "        (norm1_t): LayerNorm((512,), eps=1e-06, elementwise_affine=True)\n",
       "        (attn_s): Attention(\n",
       "          (attn_drop): Dropout(p=0.0, inplace=False)\n",
       "          (proj): Linear(in_features=512, out_features=512, bias=True)\n",
       "          (qkv): Linear(in_features=512, out_features=1536, bias=True)\n",
       "          (proj_drop): Dropout(p=0.0, inplace=False)\n",
       "        )\n",
       "        (attn_t): Attention(\n",
       "          (attn_drop): Dropout(p=0.0, inplace=False)\n",
       "          (proj): Linear(in_features=512, out_features=512, bias=True)\n",
       "          (qkv): Linear(in_features=512, out_features=1536, bias=True)\n",
       "          (proj_drop): Dropout(p=0.0, inplace=False)\n",
       "        )\n",
       "        (drop_path): Identity()\n",
       "        (norm2_s): LayerNorm((512,), eps=1e-06, elementwise_affine=True)\n",
       "        (norm2_t): LayerNorm((512,), eps=1e-06, elementwise_affine=True)\n",
       "        (mlp_s): MLP(\n",
       "          (fc1): Linear(in_features=512, out_features=1024, bias=True)\n",
       "          (act): GELU(approximate=none)\n",
       "          (fc2): Linear(in_features=1024, out_features=512, bias=True)\n",
       "          (drop): Dropout(p=0.0, inplace=False)\n",
       "        )\n",
       "        (mlp_t): MLP(\n",
       "          (fc1): Linear(in_features=512, out_features=1024, bias=True)\n",
       "          (act): GELU(approximate=none)\n",
       "          (fc2): Linear(in_features=1024, out_features=512, bias=True)\n",
       "          (drop): Dropout(p=0.0, inplace=False)\n",
       "        )\n",
       "      )\n",
       "    )\n",
       "    (norm): LayerNorm((512,), eps=1e-06, elementwise_affine=True)\n",
       "    (pre_logits): Sequential(\n",
       "      (fc): Linear(in_features=512, out_features=512, bias=True)\n",
       "      (act): Tanh()\n",
       "    )\n",
       "    (head): Linear(in_features=512, out_features=3, bias=True)\n",
       "    (ts_attn): ModuleList(\n",
       "      (0): Linear(in_features=1024, out_features=2, bias=True)\n",
       "      (1): Linear(in_features=1024, out_features=2, bias=True)\n",
       "      (2): Linear(in_features=1024, out_features=2, bias=True)\n",
       "      (3): Linear(in_features=1024, out_features=2, bias=True)\n",
       "      (4): Linear(in_features=1024, out_features=2, bias=True)\n",
       "    )\n",
       "  )\n",
       ")"
      ]
     },
     "execution_count": 31,
     "metadata": {},
     "output_type": "execute_result"
    }
   ],
   "source": [
    "model_backbone = load_backbone(args)\n",
    "if torch.cuda.is_available():\n",
    "    model_backbone = nn.DataParallel(model_backbone)\n",
    "    model_backbone = model_backbone.cuda()\n",
    "\n",
    "print('Loading checkpoint', opts.evaluate)\n",
    "checkpoint = torch.load(opts.evaluate, map_location=lambda storage, loc: storage)\n",
    "model_backbone.load_state_dict(checkpoint['model_pos'], strict=True)\n",
    "model_pos = model_backbone\n",
    "model_pos.eval()"
   ]
  },
  {
   "cell_type": "code",
   "execution_count": 14,
   "metadata": {},
   "outputs": [],
   "source": [
    "# 예제 CLIP 파일\n",
    "os.chdir('/home/hrai/codes/MotionBERT')\n",
    "# with open('data/motion3d/MB3D_f243s81/AIHUB_243/train/00000025.pkl', 'rb') as f:\n",
    "# \ttest = pickle.load(f)\n",
    "# frame_num = 150\n",
    "\n",
    "# with open('data/motion3d/MB3D_f243s81/AIHUB_SPORTS_243/train/00000050.pkl', 'rb') as f:\n",
    "# \ttest = pickle.load(f)\n",
    "# frame_num = 100\n",
    "\n",
    "with open('data/motion3d/MB3D_f243s81/AIHUB_30_cam4_243/train/00000000.pkl', 'rb') as f:\n",
    "\ttest = pickle.load(f)\n",
    "frame_num = 150\n",
    "batch_input = torch.tensor(test['data_input'][frame_num].reshape(1, 1, 17, 3))"
   ]
  },
  {
   "cell_type": "code",
   "execution_count": 27,
   "metadata": {},
   "outputs": [
    {
     "data": {
      "text/plain": [
       "{'action_id': '30',\n",
       " 'actor': 'M160B',\n",
       " 'cam_num': '4',\n",
       " 'frame_num': '101',\n",
       " 'image_id': '30_M160B_4_101.jpg'}"
      ]
     },
     "execution_count": 27,
     "metadata": {},
     "output_type": "execute_result"
    }
   ],
   "source": [
    "test['data_info'][frame_num]"
   ]
  },
  {
   "cell_type": "code",
   "execution_count": 32,
   "metadata": {},
   "outputs": [],
   "source": [
    "result = model_pos(batch_input.float())\n",
    "result_array = result[0][0].cpu().detach().numpy()"
   ]
  },
  {
   "cell_type": "code",
   "execution_count": 17,
   "metadata": {},
   "outputs": [
    {
     "name": "stdout",
     "output_type": "stream",
     "text": [
      "total min:  -0.21606477101643878 total max:  0.27968311309814453\n"
     ]
    },
    {
     "data": {
      "application/vnd.plotly.v1+json": {
       "config": {
        "plotlyServerURL": "https://plot.ly"
       },
       "data": [
        {
         "marker": {
          "color": "blue",
          "size": 2
         },
         "mode": "markers",
         "type": "scatter",
         "x": [
          -0.04432398478190103
         ],
         "y": [
          0.0463899612426758
         ]
        },
        {
         "marker": {
          "color": "blue",
          "size": 2
         },
         "mode": "markers",
         "type": "scatter",
         "x": [
          -0.017405573527018214
         ],
         "y": [
          0.05536276499430337
         ]
        },
        {
         "marker": {
          "color": "blue",
          "size": 2
         },
         "mode": "markers",
         "type": "scatter",
         "x": [
          0.0678361256917317
         ],
         "y": [
          0.15406373341878254
         ]
        },
        {
         "marker": {
          "color": "blue",
          "size": 2
         },
         "mode": "markers",
         "type": "scatter",
         "x": [
          0.03194491068522143
         ],
         "y": [
          0.27968311309814453
         ]
        },
        {
         "marker": {
          "color": "blue",
          "size": 2
         },
         "mode": "markers",
         "type": "scatter",
         "x": [
          -0.07124239603678384
         ],
         "y": [
          0.05536276499430337
         ]
        },
        {
         "marker": {
          "color": "blue",
          "size": 2
         },
         "mode": "markers",
         "type": "scatter",
         "x": [
          -0.02637837727864578
         ],
         "y": [
          0.15406373341878254
         ]
        },
        {
         "marker": {
          "color": "blue",
          "size": 2
         },
         "mode": "markers",
         "type": "scatter",
         "x": [
          -0.04432398478190103
         ],
         "y": [
          0.2572510401407878
         ]
        },
        {
         "marker": {
          "color": "blue",
          "size": 2
         },
         "mode": "markers",
         "type": "scatter",
         "x": [
          -0.028621578216552757
         ],
         "y": [
          -0.045581356684366914
         ]
        },
        {
         "marker": {
          "color": "blue",
          "size": 2
         },
         "mode": "markers",
         "type": "scatter",
         "x": [
          -0.012919171651204375
         ],
         "y": [
          -0.13755267461140952
         ]
        },
        {
         "marker": {
          "color": "blue",
          "size": 2
         },
         "mode": "markers",
         "type": "scatter",
         "x": [
          0.03194491068522143
         ],
         "y": [
          -0.16895748774210612
         ]
        },
        {
         "marker": {
          "color": "blue",
          "size": 2
         },
         "mode": "markers",
         "type": "scatter",
         "x": [
          -0.0017031351725260713
         ],
         "y": [
          -0.21606477101643878
         ]
        },
        {
         "marker": {
          "color": "blue",
          "size": 2
         },
         "mode": "markers",
         "type": "scatter",
         "x": [
          -0.053296788533528594
         ],
         "y": [
          -0.11063423156738283
         ]
        },
        {
         "marker": {
          "color": "blue",
          "size": 2
         },
         "mode": "markers",
         "type": "scatter",
         "x": [
          0.0005400975545246656
         ],
         "y": [
          -0.106147829691569
         ]
        },
        {
         "marker": {
          "color": "blue",
          "size": 2
         },
         "mode": "markers",
         "type": "scatter",
         "x": [
          0.04989051818847656
         ],
         "y": [
          -0.11063423156738283
         ]
        },
        {
         "marker": {
          "color": "blue",
          "size": 2
         },
         "mode": "markers",
         "type": "scatter",
         "x": [
          0.027458508809407478
         ],
         "y": [
          -0.106147829691569
         ]
        },
        {
         "marker": {
          "color": "blue",
          "size": 2
         },
         "mode": "markers",
         "type": "scatter",
         "x": [
          0.10372746785481768
         ],
         "y": [
          -0.11512063344319662
         ]
        },
        {
         "marker": {
          "color": "blue",
          "size": 2
         },
         "mode": "markers",
         "type": "scatter",
         "x": [
          0.16653709411621098
         ],
         "y": [
          -0.12409343719482424
         ]
        },
        {
         "line": {
          "color": "black"
         },
         "mode": "lines",
         "type": "scatter",
         "x": [
          -0.04432398478190103,
          -0.017405573527018214
         ],
         "y": [
          0.0463899612426758,
          0.05536276499430337
         ]
        },
        {
         "line": {
          "color": "black"
         },
         "mode": "lines",
         "type": "scatter",
         "x": [
          -0.04432398478190103,
          -0.07124239603678384
         ],
         "y": [
          0.0463899612426758,
          0.05536276499430337
         ]
        },
        {
         "line": {
          "color": "black"
         },
         "mode": "lines",
         "type": "scatter",
         "x": [
          -0.04432398478190103,
          -0.028621578216552757
         ],
         "y": [
          0.0463899612426758,
          -0.045581356684366914
         ]
        },
        {
         "line": {
          "color": "black"
         },
         "mode": "lines",
         "type": "scatter",
         "x": [
          -0.017405573527018214,
          0.0678361256917317
         ],
         "y": [
          0.05536276499430337,
          0.15406373341878254
         ]
        },
        {
         "line": {
          "color": "black"
         },
         "mode": "lines",
         "type": "scatter",
         "x": [
          0.0678361256917317,
          0.03194491068522143
         ],
         "y": [
          0.15406373341878254,
          0.27968311309814453
         ]
        },
        {
         "line": {
          "color": "black"
         },
         "mode": "lines",
         "type": "scatter",
         "x": [
          -0.07124239603678384,
          -0.02637837727864578
         ],
         "y": [
          0.05536276499430337,
          0.15406373341878254
         ]
        },
        {
         "line": {
          "color": "black"
         },
         "mode": "lines",
         "type": "scatter",
         "x": [
          -0.02637837727864578,
          -0.04432398478190103
         ],
         "y": [
          0.15406373341878254,
          0.2572510401407878
         ]
        },
        {
         "line": {
          "color": "black"
         },
         "mode": "lines",
         "type": "scatter",
         "x": [
          -0.028621578216552757,
          -0.012919171651204375
         ],
         "y": [
          -0.045581356684366914,
          -0.13755267461140952
         ]
        },
        {
         "line": {
          "color": "black"
         },
         "mode": "lines",
         "type": "scatter",
         "x": [
          -0.012919171651204375,
          0.03194491068522143
         ],
         "y": [
          -0.13755267461140952,
          -0.16895748774210612
         ]
        },
        {
         "line": {
          "color": "black"
         },
         "mode": "lines",
         "type": "scatter",
         "x": [
          0.03194491068522143,
          -0.0017031351725260713
         ],
         "y": [
          -0.16895748774210612,
          -0.21606477101643878
         ]
        },
        {
         "line": {
          "color": "black"
         },
         "mode": "lines",
         "type": "scatter",
         "x": [
          -0.012919171651204375,
          0.027458508809407478
         ],
         "y": [
          -0.13755267461140952,
          -0.106147829691569
         ]
        },
        {
         "line": {
          "color": "black"
         },
         "mode": "lines",
         "type": "scatter",
         "x": [
          0.027458508809407478,
          0.10372746785481768
         ],
         "y": [
          -0.106147829691569,
          -0.11512063344319662
         ]
        },
        {
         "line": {
          "color": "black"
         },
         "mode": "lines",
         "type": "scatter",
         "x": [
          0.10372746785481768,
          0.16653709411621098
         ],
         "y": [
          -0.11512063344319662,
          -0.12409343719482424
         ]
        },
        {
         "line": {
          "color": "black"
         },
         "mode": "lines",
         "type": "scatter",
         "x": [
          -0.012919171651204375,
          -0.053296788533528594
         ],
         "y": [
          -0.13755267461140952,
          -0.11063423156738283
         ]
        },
        {
         "line": {
          "color": "black"
         },
         "mode": "lines",
         "type": "scatter",
         "x": [
          -0.053296788533528594,
          0.0005400975545246656
         ],
         "y": [
          -0.11063423156738283,
          -0.106147829691569
         ]
        },
        {
         "line": {
          "color": "black"
         },
         "mode": "lines",
         "type": "scatter",
         "x": [
          0.0005400975545246656,
          0.04989051818847656
         ],
         "y": [
          -0.106147829691569,
          -0.11063423156738283
         ]
        }
       ],
       "layout": {
        "height": 700,
        "template": {
         "data": {
          "bar": [
           {
            "error_x": {
             "color": "#2a3f5f"
            },
            "error_y": {
             "color": "#2a3f5f"
            },
            "marker": {
             "line": {
              "color": "white",
              "width": 0.5
             },
             "pattern": {
              "fillmode": "overlay",
              "size": 10,
              "solidity": 0.2
             }
            },
            "type": "bar"
           }
          ],
          "barpolar": [
           {
            "marker": {
             "line": {
              "color": "white",
              "width": 0.5
             },
             "pattern": {
              "fillmode": "overlay",
              "size": 10,
              "solidity": 0.2
             }
            },
            "type": "barpolar"
           }
          ],
          "carpet": [
           {
            "aaxis": {
             "endlinecolor": "#2a3f5f",
             "gridcolor": "#C8D4E3",
             "linecolor": "#C8D4E3",
             "minorgridcolor": "#C8D4E3",
             "startlinecolor": "#2a3f5f"
            },
            "baxis": {
             "endlinecolor": "#2a3f5f",
             "gridcolor": "#C8D4E3",
             "linecolor": "#C8D4E3",
             "minorgridcolor": "#C8D4E3",
             "startlinecolor": "#2a3f5f"
            },
            "type": "carpet"
           }
          ],
          "choropleth": [
           {
            "colorbar": {
             "outlinewidth": 0,
             "ticks": ""
            },
            "type": "choropleth"
           }
          ],
          "contour": [
           {
            "colorbar": {
             "outlinewidth": 0,
             "ticks": ""
            },
            "colorscale": [
             [
              0,
              "#0d0887"
             ],
             [
              0.1111111111111111,
              "#46039f"
             ],
             [
              0.2222222222222222,
              "#7201a8"
             ],
             [
              0.3333333333333333,
              "#9c179e"
             ],
             [
              0.4444444444444444,
              "#bd3786"
             ],
             [
              0.5555555555555556,
              "#d8576b"
             ],
             [
              0.6666666666666666,
              "#ed7953"
             ],
             [
              0.7777777777777778,
              "#fb9f3a"
             ],
             [
              0.8888888888888888,
              "#fdca26"
             ],
             [
              1,
              "#f0f921"
             ]
            ],
            "type": "contour"
           }
          ],
          "contourcarpet": [
           {
            "colorbar": {
             "outlinewidth": 0,
             "ticks": ""
            },
            "type": "contourcarpet"
           }
          ],
          "heatmap": [
           {
            "colorbar": {
             "outlinewidth": 0,
             "ticks": ""
            },
            "colorscale": [
             [
              0,
              "#0d0887"
             ],
             [
              0.1111111111111111,
              "#46039f"
             ],
             [
              0.2222222222222222,
              "#7201a8"
             ],
             [
              0.3333333333333333,
              "#9c179e"
             ],
             [
              0.4444444444444444,
              "#bd3786"
             ],
             [
              0.5555555555555556,
              "#d8576b"
             ],
             [
              0.6666666666666666,
              "#ed7953"
             ],
             [
              0.7777777777777778,
              "#fb9f3a"
             ],
             [
              0.8888888888888888,
              "#fdca26"
             ],
             [
              1,
              "#f0f921"
             ]
            ],
            "type": "heatmap"
           }
          ],
          "heatmapgl": [
           {
            "colorbar": {
             "outlinewidth": 0,
             "ticks": ""
            },
            "colorscale": [
             [
              0,
              "#0d0887"
             ],
             [
              0.1111111111111111,
              "#46039f"
             ],
             [
              0.2222222222222222,
              "#7201a8"
             ],
             [
              0.3333333333333333,
              "#9c179e"
             ],
             [
              0.4444444444444444,
              "#bd3786"
             ],
             [
              0.5555555555555556,
              "#d8576b"
             ],
             [
              0.6666666666666666,
              "#ed7953"
             ],
             [
              0.7777777777777778,
              "#fb9f3a"
             ],
             [
              0.8888888888888888,
              "#fdca26"
             ],
             [
              1,
              "#f0f921"
             ]
            ],
            "type": "heatmapgl"
           }
          ],
          "histogram": [
           {
            "marker": {
             "pattern": {
              "fillmode": "overlay",
              "size": 10,
              "solidity": 0.2
             }
            },
            "type": "histogram"
           }
          ],
          "histogram2d": [
           {
            "colorbar": {
             "outlinewidth": 0,
             "ticks": ""
            },
            "colorscale": [
             [
              0,
              "#0d0887"
             ],
             [
              0.1111111111111111,
              "#46039f"
             ],
             [
              0.2222222222222222,
              "#7201a8"
             ],
             [
              0.3333333333333333,
              "#9c179e"
             ],
             [
              0.4444444444444444,
              "#bd3786"
             ],
             [
              0.5555555555555556,
              "#d8576b"
             ],
             [
              0.6666666666666666,
              "#ed7953"
             ],
             [
              0.7777777777777778,
              "#fb9f3a"
             ],
             [
              0.8888888888888888,
              "#fdca26"
             ],
             [
              1,
              "#f0f921"
             ]
            ],
            "type": "histogram2d"
           }
          ],
          "histogram2dcontour": [
           {
            "colorbar": {
             "outlinewidth": 0,
             "ticks": ""
            },
            "colorscale": [
             [
              0,
              "#0d0887"
             ],
             [
              0.1111111111111111,
              "#46039f"
             ],
             [
              0.2222222222222222,
              "#7201a8"
             ],
             [
              0.3333333333333333,
              "#9c179e"
             ],
             [
              0.4444444444444444,
              "#bd3786"
             ],
             [
              0.5555555555555556,
              "#d8576b"
             ],
             [
              0.6666666666666666,
              "#ed7953"
             ],
             [
              0.7777777777777778,
              "#fb9f3a"
             ],
             [
              0.8888888888888888,
              "#fdca26"
             ],
             [
              1,
              "#f0f921"
             ]
            ],
            "type": "histogram2dcontour"
           }
          ],
          "mesh3d": [
           {
            "colorbar": {
             "outlinewidth": 0,
             "ticks": ""
            },
            "type": "mesh3d"
           }
          ],
          "parcoords": [
           {
            "line": {
             "colorbar": {
              "outlinewidth": 0,
              "ticks": ""
             }
            },
            "type": "parcoords"
           }
          ],
          "pie": [
           {
            "automargin": true,
            "type": "pie"
           }
          ],
          "scatter": [
           {
            "fillpattern": {
             "fillmode": "overlay",
             "size": 10,
             "solidity": 0.2
            },
            "type": "scatter"
           }
          ],
          "scatter3d": [
           {
            "line": {
             "colorbar": {
              "outlinewidth": 0,
              "ticks": ""
             }
            },
            "marker": {
             "colorbar": {
              "outlinewidth": 0,
              "ticks": ""
             }
            },
            "type": "scatter3d"
           }
          ],
          "scattercarpet": [
           {
            "marker": {
             "colorbar": {
              "outlinewidth": 0,
              "ticks": ""
             }
            },
            "type": "scattercarpet"
           }
          ],
          "scattergeo": [
           {
            "marker": {
             "colorbar": {
              "outlinewidth": 0,
              "ticks": ""
             }
            },
            "type": "scattergeo"
           }
          ],
          "scattergl": [
           {
            "marker": {
             "colorbar": {
              "outlinewidth": 0,
              "ticks": ""
             }
            },
            "type": "scattergl"
           }
          ],
          "scattermapbox": [
           {
            "marker": {
             "colorbar": {
              "outlinewidth": 0,
              "ticks": ""
             }
            },
            "type": "scattermapbox"
           }
          ],
          "scatterpolar": [
           {
            "marker": {
             "colorbar": {
              "outlinewidth": 0,
              "ticks": ""
             }
            },
            "type": "scatterpolar"
           }
          ],
          "scatterpolargl": [
           {
            "marker": {
             "colorbar": {
              "outlinewidth": 0,
              "ticks": ""
             }
            },
            "type": "scatterpolargl"
           }
          ],
          "scatterternary": [
           {
            "marker": {
             "colorbar": {
              "outlinewidth": 0,
              "ticks": ""
             }
            },
            "type": "scatterternary"
           }
          ],
          "surface": [
           {
            "colorbar": {
             "outlinewidth": 0,
             "ticks": ""
            },
            "colorscale": [
             [
              0,
              "#0d0887"
             ],
             [
              0.1111111111111111,
              "#46039f"
             ],
             [
              0.2222222222222222,
              "#7201a8"
             ],
             [
              0.3333333333333333,
              "#9c179e"
             ],
             [
              0.4444444444444444,
              "#bd3786"
             ],
             [
              0.5555555555555556,
              "#d8576b"
             ],
             [
              0.6666666666666666,
              "#ed7953"
             ],
             [
              0.7777777777777778,
              "#fb9f3a"
             ],
             [
              0.8888888888888888,
              "#fdca26"
             ],
             [
              1,
              "#f0f921"
             ]
            ],
            "type": "surface"
           }
          ],
          "table": [
           {
            "cells": {
             "fill": {
              "color": "#EBF0F8"
             },
             "line": {
              "color": "white"
             }
            },
            "header": {
             "fill": {
              "color": "#C8D4E3"
             },
             "line": {
              "color": "white"
             }
            },
            "type": "table"
           }
          ]
         },
         "layout": {
          "annotationdefaults": {
           "arrowcolor": "#2a3f5f",
           "arrowhead": 0,
           "arrowwidth": 1
          },
          "autotypenumbers": "strict",
          "coloraxis": {
           "colorbar": {
            "outlinewidth": 0,
            "ticks": ""
           }
          },
          "colorscale": {
           "diverging": [
            [
             0,
             "#8e0152"
            ],
            [
             0.1,
             "#c51b7d"
            ],
            [
             0.2,
             "#de77ae"
            ],
            [
             0.3,
             "#f1b6da"
            ],
            [
             0.4,
             "#fde0ef"
            ],
            [
             0.5,
             "#f7f7f7"
            ],
            [
             0.6,
             "#e6f5d0"
            ],
            [
             0.7,
             "#b8e186"
            ],
            [
             0.8,
             "#7fbc41"
            ],
            [
             0.9,
             "#4d9221"
            ],
            [
             1,
             "#276419"
            ]
           ],
           "sequential": [
            [
             0,
             "#0d0887"
            ],
            [
             0.1111111111111111,
             "#46039f"
            ],
            [
             0.2222222222222222,
             "#7201a8"
            ],
            [
             0.3333333333333333,
             "#9c179e"
            ],
            [
             0.4444444444444444,
             "#bd3786"
            ],
            [
             0.5555555555555556,
             "#d8576b"
            ],
            [
             0.6666666666666666,
             "#ed7953"
            ],
            [
             0.7777777777777778,
             "#fb9f3a"
            ],
            [
             0.8888888888888888,
             "#fdca26"
            ],
            [
             1,
             "#f0f921"
            ]
           ],
           "sequentialminus": [
            [
             0,
             "#0d0887"
            ],
            [
             0.1111111111111111,
             "#46039f"
            ],
            [
             0.2222222222222222,
             "#7201a8"
            ],
            [
             0.3333333333333333,
             "#9c179e"
            ],
            [
             0.4444444444444444,
             "#bd3786"
            ],
            [
             0.5555555555555556,
             "#d8576b"
            ],
            [
             0.6666666666666666,
             "#ed7953"
            ],
            [
             0.7777777777777778,
             "#fb9f3a"
            ],
            [
             0.8888888888888888,
             "#fdca26"
            ],
            [
             1,
             "#f0f921"
            ]
           ]
          },
          "colorway": [
           "#636efa",
           "#EF553B",
           "#00cc96",
           "#ab63fa",
           "#FFA15A",
           "#19d3f3",
           "#FF6692",
           "#B6E880",
           "#FF97FF",
           "#FECB52"
          ],
          "font": {
           "color": "#2a3f5f"
          },
          "geo": {
           "bgcolor": "white",
           "lakecolor": "white",
           "landcolor": "white",
           "showlakes": true,
           "showland": true,
           "subunitcolor": "#C8D4E3"
          },
          "hoverlabel": {
           "align": "left"
          },
          "hovermode": "closest",
          "mapbox": {
           "style": "light"
          },
          "paper_bgcolor": "white",
          "plot_bgcolor": "white",
          "polar": {
           "angularaxis": {
            "gridcolor": "#EBF0F8",
            "linecolor": "#EBF0F8",
            "ticks": ""
           },
           "bgcolor": "white",
           "radialaxis": {
            "gridcolor": "#EBF0F8",
            "linecolor": "#EBF0F8",
            "ticks": ""
           }
          },
          "scene": {
           "xaxis": {
            "backgroundcolor": "white",
            "gridcolor": "#DFE8F3",
            "gridwidth": 2,
            "linecolor": "#EBF0F8",
            "showbackground": true,
            "ticks": "",
            "zerolinecolor": "#EBF0F8"
           },
           "yaxis": {
            "backgroundcolor": "white",
            "gridcolor": "#DFE8F3",
            "gridwidth": 2,
            "linecolor": "#EBF0F8",
            "showbackground": true,
            "ticks": "",
            "zerolinecolor": "#EBF0F8"
           },
           "zaxis": {
            "backgroundcolor": "white",
            "gridcolor": "#DFE8F3",
            "gridwidth": 2,
            "linecolor": "#EBF0F8",
            "showbackground": true,
            "ticks": "",
            "zerolinecolor": "#EBF0F8"
           }
          },
          "shapedefaults": {
           "line": {
            "color": "#2a3f5f"
           }
          },
          "ternary": {
           "aaxis": {
            "gridcolor": "#DFE8F3",
            "linecolor": "#A2B1C6",
            "ticks": ""
           },
           "baxis": {
            "gridcolor": "#DFE8F3",
            "linecolor": "#A2B1C6",
            "ticks": ""
           },
           "bgcolor": "white",
           "caxis": {
            "gridcolor": "#DFE8F3",
            "linecolor": "#A2B1C6",
            "ticks": ""
           }
          },
          "title": {
           "x": 0.05
          },
          "xaxis": {
           "automargin": true,
           "gridcolor": "#EBF0F8",
           "linecolor": "#EBF0F8",
           "ticks": "",
           "title": {
            "standoff": 15
           },
           "zerolinecolor": "#EBF0F8",
           "zerolinewidth": 2
          },
          "yaxis": {
           "automargin": true,
           "gridcolor": "#EBF0F8",
           "linecolor": "#EBF0F8",
           "ticks": "",
           "title": {
            "standoff": 15
           },
           "zerolinecolor": "#EBF0F8",
           "zerolinewidth": 2
          }
         }
        },
        "width": 700,
        "xaxis": {
         "range": [
          -1,
          1
         ]
        },
        "yaxis": {
         "range": [
          1,
          -1
         ]
        }
       }
      }
     },
     "metadata": {},
     "output_type": "display_data"
    },
    {
     "data": {
      "text/plain": [
       "<ipywidgets.widgets.interaction._InteractFactory at 0x7f6f68064310>"
      ]
     },
     "execution_count": 17,
     "metadata": {},
     "output_type": "execute_result"
    }
   ],
   "source": [
    "# 2d input\n",
    "aihub_2d = copy.deepcopy(test['data_input'][frame_num])\n",
    "# 2d skeleton\n",
    "pos = copy.deepcopy(aihub_2d)\n",
    "points_aihub_2d = {}\n",
    "for i, p in enumerate(pos):\n",
    "    p = np.append(p, 0.0)\n",
    "    #print(i, h36m_keypoints[i], p)\n",
    "    points_aihub_2d[i] = p\n",
    "pos_vector = pos.reshape(-1) # (51,)\n",
    "total_min, total_max = pos_vector.min(), pos_vector.max()\n",
    "print(\"total min: \", total_min,\n",
    "      \"total max: \", total_max)\n",
    "\n",
    "interact(draw_skeleton_2d(points_aihub_2d, h36m_connections))"
   ]
  },
  {
   "cell_type": "code",
   "execution_count": 18,
   "metadata": {},
   "outputs": [
    {
     "name": "stdout",
     "output_type": "stream",
     "text": [
      "total min:  -0.7334999999999999 total max:  0.15136666666666668\n"
     ]
    },
    {
     "data": {
      "application/vnd.plotly.v1+json": {
       "config": {
        "plotlyServerURL": "https://plot.ly"
       },
       "data": [
        {
         "marker": {
          "color": "red",
          "size": 5
         },
         "mode": "markers",
         "type": "scatter3d",
         "x": [
          0
         ],
         "y": [
          0
         ],
         "z": [
          0
         ]
        },
        {
         "marker": {
          "color": "blue",
          "size": 2
         },
         "mode": "markers",
         "type": "scatter3d",
         "x": [
          -0.0374525
         ],
         "y": [
          0.12167317708333333
         ],
         "z": [
          0.3130104166666667
         ]
        },
        {
         "marker": {
          "color": "blue",
          "size": 2
         },
         "mode": "markers",
         "type": "scatter3d",
         "x": [
          -0.06916458333333333
         ],
         "y": [
          0.120890625
         ],
         "z": [
          0.31030885416666665
         ]
        },
        {
         "marker": {
          "color": "blue",
          "size": 2
         },
         "mode": "markers",
         "type": "scatter3d",
         "x": [
          -0.1137984375
         ],
         "y": [
          0.008492239583333333
         ],
         "z": [
          0.17392291666666668
         ]
        },
        {
         "marker": {
          "color": "blue",
          "size": 2
         },
         "mode": "markers",
         "type": "scatter3d",
         "x": [
          -0.11908489583333333
         ],
         "y": [
          0.11709739583333333
         ],
         "z": [
          0.014763697916666667
         ]
        },
        {
         "marker": {
          "color": "blue",
          "size": 2
         },
         "mode": "markers",
         "type": "scatter3d",
         "x": [
          -0.005740416666666666
         ],
         "y": [
          0.12245572916666667
         ],
         "z": [
          0.31571197916666666
         ]
        },
        {
         "marker": {
          "color": "blue",
          "size": 2
         },
         "mode": "markers",
         "type": "scatter3d",
         "x": [
          0.025271666666666668
         ],
         "y": [
          0.0033068072916666667
         ],
         "z": [
          0.18074375
         ]
        },
        {
         "marker": {
          "color": "blue",
          "size": 2
         },
         "mode": "markers",
         "type": "scatter3d",
         "x": [
          0.03603166666666667
         ],
         "y": [
          0.1063390625
         ],
         "z": [
          0.014631145833333333
         ]
        },
        {
         "marker": {
          "color": "blue",
          "size": 2
         },
         "mode": "markers",
         "type": "scatter3d",
         "x": [
          -0.03642588541666667
         ],
         "y": [
          0.09820260416666667
         ],
         "z": [
          0.4893078125
         ]
        },
        {
         "marker": {
          "color": "blue",
          "size": 2
         },
         "mode": "markers",
         "type": "scatter3d",
         "x": [
          -0.04513385416666667
         ],
         "y": [
          0.08528437500000001
         ],
         "z": [
          0.6293333333333333
         ]
        },
        {
         "marker": {
          "color": "blue",
          "size": 2
         },
         "mode": "markers",
         "type": "scatter3d",
         "x": [
          -0.04513385416666667
         ],
         "y": [
          0.05924270833333334
         ],
         "z": [
          0.6814166666666667
         ]
        },
        {
         "marker": {
          "color": "blue",
          "size": 2
         },
         "mode": "markers",
         "type": "scatter3d",
         "x": [
          -0.04513385416666667
         ],
         "y": [
          0.08528437500000001
         ],
         "z": [
          0.7334999999999999
         ]
        },
        {
         "marker": {
          "color": "blue",
          "size": 2
         },
         "mode": "markers",
         "type": "scatter3d",
         "x": [
          0.05972552083333334
         ],
         "y": [
          0.09458697916666667
         ],
         "z": [
          0.6005572916666666
         ]
        },
        {
         "marker": {
          "color": "blue",
          "size": 2
         },
         "mode": "markers",
         "type": "scatter3d",
         "x": [
          0.0939203125
         ],
         "y": [
          -0.017874270833333334
         ],
         "z": [
          0.586828125
         ]
        },
        {
         "marker": {
          "color": "blue",
          "size": 2
         },
         "mode": "markers",
         "type": "scatter3d",
         "x": [
          0.10590208333333333
         ],
         "y": [
          -0.13811145833333333
         ],
         "z": [
          0.5990677083333333
         ]
        },
        {
         "marker": {
          "color": "blue",
          "size": 2
         },
         "mode": "markers",
         "type": "scatter3d",
         "x": [
          -0.14131510416666665
         ],
         "y": [
          0.08996302083333334
         ],
         "z": [
          0.5994479166666667
         ]
        },
        {
         "marker": {
          "color": "blue",
          "size": 2
         },
         "mode": "markers",
         "type": "scatter3d",
         "x": [
          -0.17425833333333335
         ],
         "y": [
          -0.02785994791666667
         ],
         "z": [
          0.5887395833333334
         ]
        },
        {
         "marker": {
          "color": "blue",
          "size": 2
         },
         "mode": "markers",
         "type": "scatter3d",
         "x": [
          -0.1684609375
         ],
         "y": [
          -0.15136666666666668
         ],
         "z": [
          0.6046250000000001
         ]
        },
        {
         "line": {
          "color": "black"
         },
         "mode": "lines",
         "type": "scatter3d",
         "x": [
          -0.0374525,
          -0.06916458333333333
         ],
         "y": [
          0.12167317708333333,
          0.120890625
         ],
         "z": [
          0.3130104166666667,
          0.31030885416666665
         ]
        },
        {
         "line": {
          "color": "black"
         },
         "mode": "lines",
         "type": "scatter3d",
         "x": [
          -0.0374525,
          -0.005740416666666666
         ],
         "y": [
          0.12167317708333333,
          0.12245572916666667
         ],
         "z": [
          0.3130104166666667,
          0.31571197916666666
         ]
        },
        {
         "line": {
          "color": "black"
         },
         "mode": "lines",
         "type": "scatter3d",
         "x": [
          -0.0374525,
          -0.03642588541666667
         ],
         "y": [
          0.12167317708333333,
          0.09820260416666667
         ],
         "z": [
          0.3130104166666667,
          0.4893078125
         ]
        },
        {
         "line": {
          "color": "black"
         },
         "mode": "lines",
         "type": "scatter3d",
         "x": [
          -0.06916458333333333,
          -0.1137984375
         ],
         "y": [
          0.120890625,
          0.008492239583333333
         ],
         "z": [
          0.31030885416666665,
          0.17392291666666668
         ]
        },
        {
         "line": {
          "color": "black"
         },
         "mode": "lines",
         "type": "scatter3d",
         "x": [
          -0.1137984375,
          -0.11908489583333333
         ],
         "y": [
          0.008492239583333333,
          0.11709739583333333
         ],
         "z": [
          0.17392291666666668,
          0.014763697916666667
         ]
        },
        {
         "line": {
          "color": "black"
         },
         "mode": "lines",
         "type": "scatter3d",
         "x": [
          -0.005740416666666666,
          0.025271666666666668
         ],
         "y": [
          0.12245572916666667,
          0.0033068072916666667
         ],
         "z": [
          0.31571197916666666,
          0.18074375
         ]
        },
        {
         "line": {
          "color": "black"
         },
         "mode": "lines",
         "type": "scatter3d",
         "x": [
          0.025271666666666668,
          0.03603166666666667
         ],
         "y": [
          0.0033068072916666667,
          0.1063390625
         ],
         "z": [
          0.18074375,
          0.014631145833333333
         ]
        },
        {
         "line": {
          "color": "black"
         },
         "mode": "lines",
         "type": "scatter3d",
         "x": [
          -0.03642588541666667,
          -0.04513385416666667
         ],
         "y": [
          0.09820260416666667,
          0.08528437500000001
         ],
         "z": [
          0.4893078125,
          0.6293333333333333
         ]
        },
        {
         "line": {
          "color": "black"
         },
         "mode": "lines",
         "type": "scatter3d",
         "x": [
          -0.04513385416666667,
          -0.04513385416666667
         ],
         "y": [
          0.08528437500000001,
          0.05924270833333334
         ],
         "z": [
          0.6293333333333333,
          0.6814166666666667
         ]
        },
        {
         "line": {
          "color": "black"
         },
         "mode": "lines",
         "type": "scatter3d",
         "x": [
          -0.04513385416666667,
          -0.04513385416666667
         ],
         "y": [
          0.05924270833333334,
          0.08528437500000001
         ],
         "z": [
          0.6814166666666667,
          0.7334999999999999
         ]
        },
        {
         "line": {
          "color": "black"
         },
         "mode": "lines",
         "type": "scatter3d",
         "x": [
          -0.04513385416666667,
          -0.14131510416666665
         ],
         "y": [
          0.08528437500000001,
          0.08996302083333334
         ],
         "z": [
          0.6293333333333333,
          0.5994479166666667
         ]
        },
        {
         "line": {
          "color": "black"
         },
         "mode": "lines",
         "type": "scatter3d",
         "x": [
          -0.14131510416666665,
          -0.17425833333333335
         ],
         "y": [
          0.08996302083333334,
          -0.02785994791666667
         ],
         "z": [
          0.5994479166666667,
          0.5887395833333334
         ]
        },
        {
         "line": {
          "color": "black"
         },
         "mode": "lines",
         "type": "scatter3d",
         "x": [
          -0.17425833333333335,
          -0.1684609375
         ],
         "y": [
          -0.02785994791666667,
          -0.15136666666666668
         ],
         "z": [
          0.5887395833333334,
          0.6046250000000001
         ]
        },
        {
         "line": {
          "color": "black"
         },
         "mode": "lines",
         "type": "scatter3d",
         "x": [
          -0.04513385416666667,
          0.05972552083333334
         ],
         "y": [
          0.08528437500000001,
          0.09458697916666667
         ],
         "z": [
          0.6293333333333333,
          0.6005572916666666
         ]
        },
        {
         "line": {
          "color": "black"
         },
         "mode": "lines",
         "type": "scatter3d",
         "x": [
          0.05972552083333334,
          0.0939203125
         ],
         "y": [
          0.09458697916666667,
          -0.017874270833333334
         ],
         "z": [
          0.6005572916666666,
          0.586828125
         ]
        },
        {
         "line": {
          "color": "black"
         },
         "mode": "lines",
         "type": "scatter3d",
         "x": [
          0.0939203125,
          0.10590208333333333
         ],
         "y": [
          -0.017874270833333334,
          -0.13811145833333333
         ],
         "z": [
          0.586828125,
          0.5990677083333333
         ]
        }
       ],
       "layout": {
        "autosize": false,
        "height": 700,
        "scene": {
         "aspectratio": {
          "x": 1,
          "y": 1,
          "z": 1
         },
         "camera": {
          "eye": {
           "x": 1,
           "y": 1,
           "z": 1
          }
         },
         "xaxis": {
          "range": [
           -1,
           1
          ]
         },
         "yaxis": {
          "range": [
           -1,
           1
          ]
         },
         "zaxis": {
          "range": [
           -1,
           1
          ]
         }
        },
        "template": {
         "data": {
          "bar": [
           {
            "error_x": {
             "color": "#2a3f5f"
            },
            "error_y": {
             "color": "#2a3f5f"
            },
            "marker": {
             "line": {
              "color": "#E5ECF6",
              "width": 0.5
             },
             "pattern": {
              "fillmode": "overlay",
              "size": 10,
              "solidity": 0.2
             }
            },
            "type": "bar"
           }
          ],
          "barpolar": [
           {
            "marker": {
             "line": {
              "color": "#E5ECF6",
              "width": 0.5
             },
             "pattern": {
              "fillmode": "overlay",
              "size": 10,
              "solidity": 0.2
             }
            },
            "type": "barpolar"
           }
          ],
          "carpet": [
           {
            "aaxis": {
             "endlinecolor": "#2a3f5f",
             "gridcolor": "white",
             "linecolor": "white",
             "minorgridcolor": "white",
             "startlinecolor": "#2a3f5f"
            },
            "baxis": {
             "endlinecolor": "#2a3f5f",
             "gridcolor": "white",
             "linecolor": "white",
             "minorgridcolor": "white",
             "startlinecolor": "#2a3f5f"
            },
            "type": "carpet"
           }
          ],
          "choropleth": [
           {
            "colorbar": {
             "outlinewidth": 0,
             "ticks": ""
            },
            "type": "choropleth"
           }
          ],
          "contour": [
           {
            "colorbar": {
             "outlinewidth": 0,
             "ticks": ""
            },
            "colorscale": [
             [
              0,
              "#0d0887"
             ],
             [
              0.1111111111111111,
              "#46039f"
             ],
             [
              0.2222222222222222,
              "#7201a8"
             ],
             [
              0.3333333333333333,
              "#9c179e"
             ],
             [
              0.4444444444444444,
              "#bd3786"
             ],
             [
              0.5555555555555556,
              "#d8576b"
             ],
             [
              0.6666666666666666,
              "#ed7953"
             ],
             [
              0.7777777777777778,
              "#fb9f3a"
             ],
             [
              0.8888888888888888,
              "#fdca26"
             ],
             [
              1,
              "#f0f921"
             ]
            ],
            "type": "contour"
           }
          ],
          "contourcarpet": [
           {
            "colorbar": {
             "outlinewidth": 0,
             "ticks": ""
            },
            "type": "contourcarpet"
           }
          ],
          "heatmap": [
           {
            "colorbar": {
             "outlinewidth": 0,
             "ticks": ""
            },
            "colorscale": [
             [
              0,
              "#0d0887"
             ],
             [
              0.1111111111111111,
              "#46039f"
             ],
             [
              0.2222222222222222,
              "#7201a8"
             ],
             [
              0.3333333333333333,
              "#9c179e"
             ],
             [
              0.4444444444444444,
              "#bd3786"
             ],
             [
              0.5555555555555556,
              "#d8576b"
             ],
             [
              0.6666666666666666,
              "#ed7953"
             ],
             [
              0.7777777777777778,
              "#fb9f3a"
             ],
             [
              0.8888888888888888,
              "#fdca26"
             ],
             [
              1,
              "#f0f921"
             ]
            ],
            "type": "heatmap"
           }
          ],
          "heatmapgl": [
           {
            "colorbar": {
             "outlinewidth": 0,
             "ticks": ""
            },
            "colorscale": [
             [
              0,
              "#0d0887"
             ],
             [
              0.1111111111111111,
              "#46039f"
             ],
             [
              0.2222222222222222,
              "#7201a8"
             ],
             [
              0.3333333333333333,
              "#9c179e"
             ],
             [
              0.4444444444444444,
              "#bd3786"
             ],
             [
              0.5555555555555556,
              "#d8576b"
             ],
             [
              0.6666666666666666,
              "#ed7953"
             ],
             [
              0.7777777777777778,
              "#fb9f3a"
             ],
             [
              0.8888888888888888,
              "#fdca26"
             ],
             [
              1,
              "#f0f921"
             ]
            ],
            "type": "heatmapgl"
           }
          ],
          "histogram": [
           {
            "marker": {
             "pattern": {
              "fillmode": "overlay",
              "size": 10,
              "solidity": 0.2
             }
            },
            "type": "histogram"
           }
          ],
          "histogram2d": [
           {
            "colorbar": {
             "outlinewidth": 0,
             "ticks": ""
            },
            "colorscale": [
             [
              0,
              "#0d0887"
             ],
             [
              0.1111111111111111,
              "#46039f"
             ],
             [
              0.2222222222222222,
              "#7201a8"
             ],
             [
              0.3333333333333333,
              "#9c179e"
             ],
             [
              0.4444444444444444,
              "#bd3786"
             ],
             [
              0.5555555555555556,
              "#d8576b"
             ],
             [
              0.6666666666666666,
              "#ed7953"
             ],
             [
              0.7777777777777778,
              "#fb9f3a"
             ],
             [
              0.8888888888888888,
              "#fdca26"
             ],
             [
              1,
              "#f0f921"
             ]
            ],
            "type": "histogram2d"
           }
          ],
          "histogram2dcontour": [
           {
            "colorbar": {
             "outlinewidth": 0,
             "ticks": ""
            },
            "colorscale": [
             [
              0,
              "#0d0887"
             ],
             [
              0.1111111111111111,
              "#46039f"
             ],
             [
              0.2222222222222222,
              "#7201a8"
             ],
             [
              0.3333333333333333,
              "#9c179e"
             ],
             [
              0.4444444444444444,
              "#bd3786"
             ],
             [
              0.5555555555555556,
              "#d8576b"
             ],
             [
              0.6666666666666666,
              "#ed7953"
             ],
             [
              0.7777777777777778,
              "#fb9f3a"
             ],
             [
              0.8888888888888888,
              "#fdca26"
             ],
             [
              1,
              "#f0f921"
             ]
            ],
            "type": "histogram2dcontour"
           }
          ],
          "mesh3d": [
           {
            "colorbar": {
             "outlinewidth": 0,
             "ticks": ""
            },
            "type": "mesh3d"
           }
          ],
          "parcoords": [
           {
            "line": {
             "colorbar": {
              "outlinewidth": 0,
              "ticks": ""
             }
            },
            "type": "parcoords"
           }
          ],
          "pie": [
           {
            "automargin": true,
            "type": "pie"
           }
          ],
          "scatter": [
           {
            "fillpattern": {
             "fillmode": "overlay",
             "size": 10,
             "solidity": 0.2
            },
            "type": "scatter"
           }
          ],
          "scatter3d": [
           {
            "line": {
             "colorbar": {
              "outlinewidth": 0,
              "ticks": ""
             }
            },
            "marker": {
             "colorbar": {
              "outlinewidth": 0,
              "ticks": ""
             }
            },
            "type": "scatter3d"
           }
          ],
          "scattercarpet": [
           {
            "marker": {
             "colorbar": {
              "outlinewidth": 0,
              "ticks": ""
             }
            },
            "type": "scattercarpet"
           }
          ],
          "scattergeo": [
           {
            "marker": {
             "colorbar": {
              "outlinewidth": 0,
              "ticks": ""
             }
            },
            "type": "scattergeo"
           }
          ],
          "scattergl": [
           {
            "marker": {
             "colorbar": {
              "outlinewidth": 0,
              "ticks": ""
             }
            },
            "type": "scattergl"
           }
          ],
          "scattermapbox": [
           {
            "marker": {
             "colorbar": {
              "outlinewidth": 0,
              "ticks": ""
             }
            },
            "type": "scattermapbox"
           }
          ],
          "scatterpolar": [
           {
            "marker": {
             "colorbar": {
              "outlinewidth": 0,
              "ticks": ""
             }
            },
            "type": "scatterpolar"
           }
          ],
          "scatterpolargl": [
           {
            "marker": {
             "colorbar": {
              "outlinewidth": 0,
              "ticks": ""
             }
            },
            "type": "scatterpolargl"
           }
          ],
          "scatterternary": [
           {
            "marker": {
             "colorbar": {
              "outlinewidth": 0,
              "ticks": ""
             }
            },
            "type": "scatterternary"
           }
          ],
          "surface": [
           {
            "colorbar": {
             "outlinewidth": 0,
             "ticks": ""
            },
            "colorscale": [
             [
              0,
              "#0d0887"
             ],
             [
              0.1111111111111111,
              "#46039f"
             ],
             [
              0.2222222222222222,
              "#7201a8"
             ],
             [
              0.3333333333333333,
              "#9c179e"
             ],
             [
              0.4444444444444444,
              "#bd3786"
             ],
             [
              0.5555555555555556,
              "#d8576b"
             ],
             [
              0.6666666666666666,
              "#ed7953"
             ],
             [
              0.7777777777777778,
              "#fb9f3a"
             ],
             [
              0.8888888888888888,
              "#fdca26"
             ],
             [
              1,
              "#f0f921"
             ]
            ],
            "type": "surface"
           }
          ],
          "table": [
           {
            "cells": {
             "fill": {
              "color": "#EBF0F8"
             },
             "line": {
              "color": "white"
             }
            },
            "header": {
             "fill": {
              "color": "#C8D4E3"
             },
             "line": {
              "color": "white"
             }
            },
            "type": "table"
           }
          ]
         },
         "layout": {
          "annotationdefaults": {
           "arrowcolor": "#2a3f5f",
           "arrowhead": 0,
           "arrowwidth": 1
          },
          "autotypenumbers": "strict",
          "coloraxis": {
           "colorbar": {
            "outlinewidth": 0,
            "ticks": ""
           }
          },
          "colorscale": {
           "diverging": [
            [
             0,
             "#8e0152"
            ],
            [
             0.1,
             "#c51b7d"
            ],
            [
             0.2,
             "#de77ae"
            ],
            [
             0.3,
             "#f1b6da"
            ],
            [
             0.4,
             "#fde0ef"
            ],
            [
             0.5,
             "#f7f7f7"
            ],
            [
             0.6,
             "#e6f5d0"
            ],
            [
             0.7,
             "#b8e186"
            ],
            [
             0.8,
             "#7fbc41"
            ],
            [
             0.9,
             "#4d9221"
            ],
            [
             1,
             "#276419"
            ]
           ],
           "sequential": [
            [
             0,
             "#0d0887"
            ],
            [
             0.1111111111111111,
             "#46039f"
            ],
            [
             0.2222222222222222,
             "#7201a8"
            ],
            [
             0.3333333333333333,
             "#9c179e"
            ],
            [
             0.4444444444444444,
             "#bd3786"
            ],
            [
             0.5555555555555556,
             "#d8576b"
            ],
            [
             0.6666666666666666,
             "#ed7953"
            ],
            [
             0.7777777777777778,
             "#fb9f3a"
            ],
            [
             0.8888888888888888,
             "#fdca26"
            ],
            [
             1,
             "#f0f921"
            ]
           ],
           "sequentialminus": [
            [
             0,
             "#0d0887"
            ],
            [
             0.1111111111111111,
             "#46039f"
            ],
            [
             0.2222222222222222,
             "#7201a8"
            ],
            [
             0.3333333333333333,
             "#9c179e"
            ],
            [
             0.4444444444444444,
             "#bd3786"
            ],
            [
             0.5555555555555556,
             "#d8576b"
            ],
            [
             0.6666666666666666,
             "#ed7953"
            ],
            [
             0.7777777777777778,
             "#fb9f3a"
            ],
            [
             0.8888888888888888,
             "#fdca26"
            ],
            [
             1,
             "#f0f921"
            ]
           ]
          },
          "colorway": [
           "#636efa",
           "#EF553B",
           "#00cc96",
           "#ab63fa",
           "#FFA15A",
           "#19d3f3",
           "#FF6692",
           "#B6E880",
           "#FF97FF",
           "#FECB52"
          ],
          "font": {
           "color": "#2a3f5f"
          },
          "geo": {
           "bgcolor": "white",
           "lakecolor": "white",
           "landcolor": "#E5ECF6",
           "showlakes": true,
           "showland": true,
           "subunitcolor": "white"
          },
          "hoverlabel": {
           "align": "left"
          },
          "hovermode": "closest",
          "mapbox": {
           "style": "light"
          },
          "paper_bgcolor": "white",
          "plot_bgcolor": "#E5ECF6",
          "polar": {
           "angularaxis": {
            "gridcolor": "white",
            "linecolor": "white",
            "ticks": ""
           },
           "bgcolor": "#E5ECF6",
           "radialaxis": {
            "gridcolor": "white",
            "linecolor": "white",
            "ticks": ""
           }
          },
          "scene": {
           "xaxis": {
            "backgroundcolor": "#E5ECF6",
            "gridcolor": "white",
            "gridwidth": 2,
            "linecolor": "white",
            "showbackground": true,
            "ticks": "",
            "zerolinecolor": "white"
           },
           "yaxis": {
            "backgroundcolor": "#E5ECF6",
            "gridcolor": "white",
            "gridwidth": 2,
            "linecolor": "white",
            "showbackground": true,
            "ticks": "",
            "zerolinecolor": "white"
           },
           "zaxis": {
            "backgroundcolor": "#E5ECF6",
            "gridcolor": "white",
            "gridwidth": 2,
            "linecolor": "white",
            "showbackground": true,
            "ticks": "",
            "zerolinecolor": "white"
           }
          },
          "shapedefaults": {
           "line": {
            "color": "#2a3f5f"
           }
          },
          "ternary": {
           "aaxis": {
            "gridcolor": "white",
            "linecolor": "white",
            "ticks": ""
           },
           "baxis": {
            "gridcolor": "white",
            "linecolor": "white",
            "ticks": ""
           },
           "bgcolor": "#E5ECF6",
           "caxis": {
            "gridcolor": "white",
            "linecolor": "white",
            "ticks": ""
           }
          },
          "title": {
           "x": 0.05
          },
          "xaxis": {
           "automargin": true,
           "gridcolor": "white",
           "linecolor": "white",
           "ticks": "",
           "title": {
            "standoff": 15
           },
           "zerolinecolor": "white",
           "zerolinewidth": 2
          },
          "yaxis": {
           "automargin": true,
           "gridcolor": "white",
           "linecolor": "white",
           "ticks": "",
           "title": {
            "standoff": 15
           },
           "zerolinecolor": "white",
           "zerolinewidth": 2
          }
         }
        },
        "width": 700
       }
      }
     },
     "metadata": {},
     "output_type": "display_data"
    },
    {
     "data": {
      "text/plain": [
       "<ipywidgets.widgets.interaction._InteractFactory at 0x7f6f68064310>"
      ]
     },
     "execution_count": 18,
     "metadata": {},
     "output_type": "execute_result"
    }
   ],
   "source": [
    "# gt\n",
    "aihub_3d = copy.deepcopy(test['data_label'][frame_num])\n",
    "pos = copy.deepcopy(aihub_3d)\n",
    "points_aihub_3d = {}\n",
    "for i, p in enumerate(pos):\n",
    "    #print(i, h36m_keypoints[i], p)\n",
    "    points_aihub_3d[i] = np.array([p[0], -p[2], -p[1]]) #np.array([p[0], p[1], p[2]])  #np.array([p[0], -p[2], p[1]])\n",
    "pos_vector = pos.reshape(-1) # (51,)\n",
    "total_min, total_max = pos_vector.min(), pos_vector.max()\n",
    "print(\"total min: \", total_min,\n",
    "      \"total max: \", total_max)\n",
    "\n",
    "interact(draw_skeleton(points_aihub_3d, h36m_connections))"
   ]
  },
  {
   "cell_type": "code",
   "execution_count": 33,
   "metadata": {},
   "outputs": [
    {
     "name": "stdout",
     "output_type": "stream",
     "text": [
      "total min:  -0.40472943 total max:  0.37494442\n"
     ]
    },
    {
     "data": {
      "application/vnd.plotly.v1+json": {
       "config": {
        "plotlyServerURL": "https://plot.ly"
       },
       "data": [
        {
         "marker": {
          "color": "red",
          "size": 5
         },
         "mode": "markers",
         "type": "scatter3d",
         "x": [
          0
         ],
         "y": [
          0
         ],
         "z": [
          0
         ]
        },
        {
         "marker": {
          "color": "blue",
          "size": 2
         },
         "mode": "markers",
         "type": "scatter3d",
         "x": [
          0.00008303506183438003
         ],
         "y": [
          0.00018024863675236702
         ],
         "z": [
          0.00017903023399412632
         ]
        },
        {
         "marker": {
          "color": "blue",
          "size": 2
         },
         "mode": "markers",
         "type": "scatter3d",
         "x": [
          -0.032362524420022964
         ],
         "y": [
          -0.00008827773854136467
         ],
         "z": [
          0.0007984640542417765
         ]
        },
        {
         "marker": {
          "color": "blue",
          "size": 2
         },
         "mode": "markers",
         "type": "scatter3d",
         "x": [
          -0.05499086529016495
         ],
         "y": [
          -0.049555301666259766
         ],
         "z": [
          -0.15383926033973694
         ]
        },
        {
         "marker": {
          "color": "blue",
          "size": 2
         },
         "mode": "markers",
         "type": "scatter3d",
         "x": [
          -0.06501338630914688
         ],
         "y": [
          -0.0049056075513362885
         ],
         "z": [
          -0.3561531901359558
         ]
        },
        {
         "marker": {
          "color": "blue",
          "size": 2
         },
         "mode": "markers",
         "type": "scatter3d",
         "x": [
          0.027528418228030205
         ],
         "y": [
          -0.003484664484858513
         ],
         "z": [
          0.0009527506772428751
         ]
        },
        {
         "marker": {
          "color": "blue",
          "size": 2
         },
         "mode": "markers",
         "type": "scatter3d",
         "x": [
          0.06937307864427567
         ],
         "y": [
          -0.027422500774264336
         ],
         "z": [
          -0.17837052047252655
         ]
        },
        {
         "marker": {
          "color": "blue",
          "size": 2
         },
         "mode": "markers",
         "type": "scatter3d",
         "x": [
          0.07969403266906738
         ],
         "y": [
          0.0011548548936843872
         ],
         "z": [
          -0.37494441866874695
         ]
        },
        {
         "marker": {
          "color": "blue",
          "size": 2
         },
         "mode": "markers",
         "type": "scatter3d",
         "x": [
          0.001529682194814086
         ],
         "y": [
          -0.0022473325952887535
         ],
         "z": [
          0.1706058233976364
         ]
        },
        {
         "marker": {
          "color": "blue",
          "size": 2
         },
         "mode": "markers",
         "type": "scatter3d",
         "x": [
          -0.006475847214460373
         ],
         "y": [
          0.014593535102903843
         ],
         "z": [
          0.29720646142959595
         ]
        },
        {
         "marker": {
          "color": "blue",
          "size": 2
         },
         "mode": "markers",
         "type": "scatter3d",
         "x": [
          -0.006261109374463558
         ],
         "y": [
          -0.013347756117582321
         ],
         "z": [
          0.35096418857574463
         ]
        },
        {
         "marker": {
          "color": "blue",
          "size": 2
         },
         "mode": "markers",
         "type": "scatter3d",
         "x": [
          -0.0014238643925637007
         ],
         "y": [
          0.005359948147088289
         ],
         "z": [
          0.404729425907135
         ]
        },
        {
         "marker": {
          "color": "blue",
          "size": 2
         },
         "mode": "markers",
         "type": "scatter3d",
         "x": [
          0.0877399891614914
         ],
         "y": [
          0.005184018053114414
         ],
         "z": [
          0.2708216905593872
         ]
        },
        {
         "marker": {
          "color": "blue",
          "size": 2
         },
         "mode": "markers",
         "type": "scatter3d",
         "x": [
          0.11830385029315948
         ],
         "y": [
          -0.12955670058727264
         ],
         "z": [
          0.26707562804222107
         ]
        },
        {
         "marker": {
          "color": "blue",
          "size": 2
         },
         "mode": "markers",
         "type": "scatter3d",
         "x": [
          0.03175276517868042
         ],
         "y": [
          -0.18412208557128906
         ],
         "z": [
          0.28324955701828003
         ]
        },
        {
         "marker": {
          "color": "blue",
          "size": 2
         },
         "mode": "markers",
         "type": "scatter3d",
         "x": [
          -0.08326780050992966
         ],
         "y": [
          0.014651385135948658
         ],
         "z": [
          0.2627943456172943
         ]
        },
        {
         "marker": {
          "color": "blue",
          "size": 2
         },
         "mode": "markers",
         "type": "scatter3d",
         "x": [
          -0.10037141293287277
         ],
         "y": [
          -0.11920250952243805
         ],
         "z": [
          0.28792423009872437
         ]
        },
        {
         "marker": {
          "color": "blue",
          "size": 2
         },
         "mode": "markers",
         "type": "scatter3d",
         "x": [
          -0.08284284174442291
         ],
         "y": [
          -0.2593218982219696
         ],
         "z": [
          0.3189029395580292
         ]
        },
        {
         "line": {
          "color": "black"
         },
         "mode": "lines",
         "type": "scatter3d",
         "x": [
          0.00008303506183438003,
          -0.032362524420022964
         ],
         "y": [
          0.00018024863675236702,
          -0.00008827773854136467
         ],
         "z": [
          0.00017903023399412632,
          0.0007984640542417765
         ]
        },
        {
         "line": {
          "color": "black"
         },
         "mode": "lines",
         "type": "scatter3d",
         "x": [
          0.00008303506183438003,
          0.027528418228030205
         ],
         "y": [
          0.00018024863675236702,
          -0.003484664484858513
         ],
         "z": [
          0.00017903023399412632,
          0.0009527506772428751
         ]
        },
        {
         "line": {
          "color": "black"
         },
         "mode": "lines",
         "type": "scatter3d",
         "x": [
          0.00008303506183438003,
          0.001529682194814086
         ],
         "y": [
          0.00018024863675236702,
          -0.0022473325952887535
         ],
         "z": [
          0.00017903023399412632,
          0.1706058233976364
         ]
        },
        {
         "line": {
          "color": "black"
         },
         "mode": "lines",
         "type": "scatter3d",
         "x": [
          -0.032362524420022964,
          -0.05499086529016495
         ],
         "y": [
          -0.00008827773854136467,
          -0.049555301666259766
         ],
         "z": [
          0.0007984640542417765,
          -0.15383926033973694
         ]
        },
        {
         "line": {
          "color": "black"
         },
         "mode": "lines",
         "type": "scatter3d",
         "x": [
          -0.05499086529016495,
          -0.06501338630914688
         ],
         "y": [
          -0.049555301666259766,
          -0.0049056075513362885
         ],
         "z": [
          -0.15383926033973694,
          -0.3561531901359558
         ]
        },
        {
         "line": {
          "color": "black"
         },
         "mode": "lines",
         "type": "scatter3d",
         "x": [
          0.027528418228030205,
          0.06937307864427567
         ],
         "y": [
          -0.003484664484858513,
          -0.027422500774264336
         ],
         "z": [
          0.0009527506772428751,
          -0.17837052047252655
         ]
        },
        {
         "line": {
          "color": "black"
         },
         "mode": "lines",
         "type": "scatter3d",
         "x": [
          0.06937307864427567,
          0.07969403266906738
         ],
         "y": [
          -0.027422500774264336,
          0.0011548548936843872
         ],
         "z": [
          -0.17837052047252655,
          -0.37494441866874695
         ]
        },
        {
         "line": {
          "color": "black"
         },
         "mode": "lines",
         "type": "scatter3d",
         "x": [
          0.001529682194814086,
          -0.006475847214460373
         ],
         "y": [
          -0.0022473325952887535,
          0.014593535102903843
         ],
         "z": [
          0.1706058233976364,
          0.29720646142959595
         ]
        },
        {
         "line": {
          "color": "black"
         },
         "mode": "lines",
         "type": "scatter3d",
         "x": [
          -0.006475847214460373,
          -0.006261109374463558
         ],
         "y": [
          0.014593535102903843,
          -0.013347756117582321
         ],
         "z": [
          0.29720646142959595,
          0.35096418857574463
         ]
        },
        {
         "line": {
          "color": "black"
         },
         "mode": "lines",
         "type": "scatter3d",
         "x": [
          -0.006261109374463558,
          -0.0014238643925637007
         ],
         "y": [
          -0.013347756117582321,
          0.005359948147088289
         ],
         "z": [
          0.35096418857574463,
          0.404729425907135
         ]
        },
        {
         "line": {
          "color": "black"
         },
         "mode": "lines",
         "type": "scatter3d",
         "x": [
          -0.006475847214460373,
          -0.08326780050992966
         ],
         "y": [
          0.014593535102903843,
          0.014651385135948658
         ],
         "z": [
          0.29720646142959595,
          0.2627943456172943
         ]
        },
        {
         "line": {
          "color": "black"
         },
         "mode": "lines",
         "type": "scatter3d",
         "x": [
          -0.08326780050992966,
          -0.10037141293287277
         ],
         "y": [
          0.014651385135948658,
          -0.11920250952243805
         ],
         "z": [
          0.2627943456172943,
          0.28792423009872437
         ]
        },
        {
         "line": {
          "color": "black"
         },
         "mode": "lines",
         "type": "scatter3d",
         "x": [
          -0.10037141293287277,
          -0.08284284174442291
         ],
         "y": [
          -0.11920250952243805,
          -0.2593218982219696
         ],
         "z": [
          0.28792423009872437,
          0.3189029395580292
         ]
        },
        {
         "line": {
          "color": "black"
         },
         "mode": "lines",
         "type": "scatter3d",
         "x": [
          -0.006475847214460373,
          0.0877399891614914
         ],
         "y": [
          0.014593535102903843,
          0.005184018053114414
         ],
         "z": [
          0.29720646142959595,
          0.2708216905593872
         ]
        },
        {
         "line": {
          "color": "black"
         },
         "mode": "lines",
         "type": "scatter3d",
         "x": [
          0.0877399891614914,
          0.11830385029315948
         ],
         "y": [
          0.005184018053114414,
          -0.12955670058727264
         ],
         "z": [
          0.2708216905593872,
          0.26707562804222107
         ]
        },
        {
         "line": {
          "color": "black"
         },
         "mode": "lines",
         "type": "scatter3d",
         "x": [
          0.11830385029315948,
          0.03175276517868042
         ],
         "y": [
          -0.12955670058727264,
          -0.18412208557128906
         ],
         "z": [
          0.26707562804222107,
          0.28324955701828003
         ]
        }
       ],
       "layout": {
        "autosize": false,
        "height": 700,
        "scene": {
         "aspectratio": {
          "x": 1,
          "y": 1,
          "z": 1
         },
         "camera": {
          "eye": {
           "x": 1,
           "y": 1,
           "z": 1
          }
         },
         "xaxis": {
          "range": [
           -1,
           1
          ]
         },
         "yaxis": {
          "range": [
           -1,
           1
          ]
         },
         "zaxis": {
          "range": [
           -1,
           1
          ]
         }
        },
        "template": {
         "data": {
          "bar": [
           {
            "error_x": {
             "color": "#2a3f5f"
            },
            "error_y": {
             "color": "#2a3f5f"
            },
            "marker": {
             "line": {
              "color": "#E5ECF6",
              "width": 0.5
             },
             "pattern": {
              "fillmode": "overlay",
              "size": 10,
              "solidity": 0.2
             }
            },
            "type": "bar"
           }
          ],
          "barpolar": [
           {
            "marker": {
             "line": {
              "color": "#E5ECF6",
              "width": 0.5
             },
             "pattern": {
              "fillmode": "overlay",
              "size": 10,
              "solidity": 0.2
             }
            },
            "type": "barpolar"
           }
          ],
          "carpet": [
           {
            "aaxis": {
             "endlinecolor": "#2a3f5f",
             "gridcolor": "white",
             "linecolor": "white",
             "minorgridcolor": "white",
             "startlinecolor": "#2a3f5f"
            },
            "baxis": {
             "endlinecolor": "#2a3f5f",
             "gridcolor": "white",
             "linecolor": "white",
             "minorgridcolor": "white",
             "startlinecolor": "#2a3f5f"
            },
            "type": "carpet"
           }
          ],
          "choropleth": [
           {
            "colorbar": {
             "outlinewidth": 0,
             "ticks": ""
            },
            "type": "choropleth"
           }
          ],
          "contour": [
           {
            "colorbar": {
             "outlinewidth": 0,
             "ticks": ""
            },
            "colorscale": [
             [
              0,
              "#0d0887"
             ],
             [
              0.1111111111111111,
              "#46039f"
             ],
             [
              0.2222222222222222,
              "#7201a8"
             ],
             [
              0.3333333333333333,
              "#9c179e"
             ],
             [
              0.4444444444444444,
              "#bd3786"
             ],
             [
              0.5555555555555556,
              "#d8576b"
             ],
             [
              0.6666666666666666,
              "#ed7953"
             ],
             [
              0.7777777777777778,
              "#fb9f3a"
             ],
             [
              0.8888888888888888,
              "#fdca26"
             ],
             [
              1,
              "#f0f921"
             ]
            ],
            "type": "contour"
           }
          ],
          "contourcarpet": [
           {
            "colorbar": {
             "outlinewidth": 0,
             "ticks": ""
            },
            "type": "contourcarpet"
           }
          ],
          "heatmap": [
           {
            "colorbar": {
             "outlinewidth": 0,
             "ticks": ""
            },
            "colorscale": [
             [
              0,
              "#0d0887"
             ],
             [
              0.1111111111111111,
              "#46039f"
             ],
             [
              0.2222222222222222,
              "#7201a8"
             ],
             [
              0.3333333333333333,
              "#9c179e"
             ],
             [
              0.4444444444444444,
              "#bd3786"
             ],
             [
              0.5555555555555556,
              "#d8576b"
             ],
             [
              0.6666666666666666,
              "#ed7953"
             ],
             [
              0.7777777777777778,
              "#fb9f3a"
             ],
             [
              0.8888888888888888,
              "#fdca26"
             ],
             [
              1,
              "#f0f921"
             ]
            ],
            "type": "heatmap"
           }
          ],
          "heatmapgl": [
           {
            "colorbar": {
             "outlinewidth": 0,
             "ticks": ""
            },
            "colorscale": [
             [
              0,
              "#0d0887"
             ],
             [
              0.1111111111111111,
              "#46039f"
             ],
             [
              0.2222222222222222,
              "#7201a8"
             ],
             [
              0.3333333333333333,
              "#9c179e"
             ],
             [
              0.4444444444444444,
              "#bd3786"
             ],
             [
              0.5555555555555556,
              "#d8576b"
             ],
             [
              0.6666666666666666,
              "#ed7953"
             ],
             [
              0.7777777777777778,
              "#fb9f3a"
             ],
             [
              0.8888888888888888,
              "#fdca26"
             ],
             [
              1,
              "#f0f921"
             ]
            ],
            "type": "heatmapgl"
           }
          ],
          "histogram": [
           {
            "marker": {
             "pattern": {
              "fillmode": "overlay",
              "size": 10,
              "solidity": 0.2
             }
            },
            "type": "histogram"
           }
          ],
          "histogram2d": [
           {
            "colorbar": {
             "outlinewidth": 0,
             "ticks": ""
            },
            "colorscale": [
             [
              0,
              "#0d0887"
             ],
             [
              0.1111111111111111,
              "#46039f"
             ],
             [
              0.2222222222222222,
              "#7201a8"
             ],
             [
              0.3333333333333333,
              "#9c179e"
             ],
             [
              0.4444444444444444,
              "#bd3786"
             ],
             [
              0.5555555555555556,
              "#d8576b"
             ],
             [
              0.6666666666666666,
              "#ed7953"
             ],
             [
              0.7777777777777778,
              "#fb9f3a"
             ],
             [
              0.8888888888888888,
              "#fdca26"
             ],
             [
              1,
              "#f0f921"
             ]
            ],
            "type": "histogram2d"
           }
          ],
          "histogram2dcontour": [
           {
            "colorbar": {
             "outlinewidth": 0,
             "ticks": ""
            },
            "colorscale": [
             [
              0,
              "#0d0887"
             ],
             [
              0.1111111111111111,
              "#46039f"
             ],
             [
              0.2222222222222222,
              "#7201a8"
             ],
             [
              0.3333333333333333,
              "#9c179e"
             ],
             [
              0.4444444444444444,
              "#bd3786"
             ],
             [
              0.5555555555555556,
              "#d8576b"
             ],
             [
              0.6666666666666666,
              "#ed7953"
             ],
             [
              0.7777777777777778,
              "#fb9f3a"
             ],
             [
              0.8888888888888888,
              "#fdca26"
             ],
             [
              1,
              "#f0f921"
             ]
            ],
            "type": "histogram2dcontour"
           }
          ],
          "mesh3d": [
           {
            "colorbar": {
             "outlinewidth": 0,
             "ticks": ""
            },
            "type": "mesh3d"
           }
          ],
          "parcoords": [
           {
            "line": {
             "colorbar": {
              "outlinewidth": 0,
              "ticks": ""
             }
            },
            "type": "parcoords"
           }
          ],
          "pie": [
           {
            "automargin": true,
            "type": "pie"
           }
          ],
          "scatter": [
           {
            "fillpattern": {
             "fillmode": "overlay",
             "size": 10,
             "solidity": 0.2
            },
            "type": "scatter"
           }
          ],
          "scatter3d": [
           {
            "line": {
             "colorbar": {
              "outlinewidth": 0,
              "ticks": ""
             }
            },
            "marker": {
             "colorbar": {
              "outlinewidth": 0,
              "ticks": ""
             }
            },
            "type": "scatter3d"
           }
          ],
          "scattercarpet": [
           {
            "marker": {
             "colorbar": {
              "outlinewidth": 0,
              "ticks": ""
             }
            },
            "type": "scattercarpet"
           }
          ],
          "scattergeo": [
           {
            "marker": {
             "colorbar": {
              "outlinewidth": 0,
              "ticks": ""
             }
            },
            "type": "scattergeo"
           }
          ],
          "scattergl": [
           {
            "marker": {
             "colorbar": {
              "outlinewidth": 0,
              "ticks": ""
             }
            },
            "type": "scattergl"
           }
          ],
          "scattermapbox": [
           {
            "marker": {
             "colorbar": {
              "outlinewidth": 0,
              "ticks": ""
             }
            },
            "type": "scattermapbox"
           }
          ],
          "scatterpolar": [
           {
            "marker": {
             "colorbar": {
              "outlinewidth": 0,
              "ticks": ""
             }
            },
            "type": "scatterpolar"
           }
          ],
          "scatterpolargl": [
           {
            "marker": {
             "colorbar": {
              "outlinewidth": 0,
              "ticks": ""
             }
            },
            "type": "scatterpolargl"
           }
          ],
          "scatterternary": [
           {
            "marker": {
             "colorbar": {
              "outlinewidth": 0,
              "ticks": ""
             }
            },
            "type": "scatterternary"
           }
          ],
          "surface": [
           {
            "colorbar": {
             "outlinewidth": 0,
             "ticks": ""
            },
            "colorscale": [
             [
              0,
              "#0d0887"
             ],
             [
              0.1111111111111111,
              "#46039f"
             ],
             [
              0.2222222222222222,
              "#7201a8"
             ],
             [
              0.3333333333333333,
              "#9c179e"
             ],
             [
              0.4444444444444444,
              "#bd3786"
             ],
             [
              0.5555555555555556,
              "#d8576b"
             ],
             [
              0.6666666666666666,
              "#ed7953"
             ],
             [
              0.7777777777777778,
              "#fb9f3a"
             ],
             [
              0.8888888888888888,
              "#fdca26"
             ],
             [
              1,
              "#f0f921"
             ]
            ],
            "type": "surface"
           }
          ],
          "table": [
           {
            "cells": {
             "fill": {
              "color": "#EBF0F8"
             },
             "line": {
              "color": "white"
             }
            },
            "header": {
             "fill": {
              "color": "#C8D4E3"
             },
             "line": {
              "color": "white"
             }
            },
            "type": "table"
           }
          ]
         },
         "layout": {
          "annotationdefaults": {
           "arrowcolor": "#2a3f5f",
           "arrowhead": 0,
           "arrowwidth": 1
          },
          "autotypenumbers": "strict",
          "coloraxis": {
           "colorbar": {
            "outlinewidth": 0,
            "ticks": ""
           }
          },
          "colorscale": {
           "diverging": [
            [
             0,
             "#8e0152"
            ],
            [
             0.1,
             "#c51b7d"
            ],
            [
             0.2,
             "#de77ae"
            ],
            [
             0.3,
             "#f1b6da"
            ],
            [
             0.4,
             "#fde0ef"
            ],
            [
             0.5,
             "#f7f7f7"
            ],
            [
             0.6,
             "#e6f5d0"
            ],
            [
             0.7,
             "#b8e186"
            ],
            [
             0.8,
             "#7fbc41"
            ],
            [
             0.9,
             "#4d9221"
            ],
            [
             1,
             "#276419"
            ]
           ],
           "sequential": [
            [
             0,
             "#0d0887"
            ],
            [
             0.1111111111111111,
             "#46039f"
            ],
            [
             0.2222222222222222,
             "#7201a8"
            ],
            [
             0.3333333333333333,
             "#9c179e"
            ],
            [
             0.4444444444444444,
             "#bd3786"
            ],
            [
             0.5555555555555556,
             "#d8576b"
            ],
            [
             0.6666666666666666,
             "#ed7953"
            ],
            [
             0.7777777777777778,
             "#fb9f3a"
            ],
            [
             0.8888888888888888,
             "#fdca26"
            ],
            [
             1,
             "#f0f921"
            ]
           ],
           "sequentialminus": [
            [
             0,
             "#0d0887"
            ],
            [
             0.1111111111111111,
             "#46039f"
            ],
            [
             0.2222222222222222,
             "#7201a8"
            ],
            [
             0.3333333333333333,
             "#9c179e"
            ],
            [
             0.4444444444444444,
             "#bd3786"
            ],
            [
             0.5555555555555556,
             "#d8576b"
            ],
            [
             0.6666666666666666,
             "#ed7953"
            ],
            [
             0.7777777777777778,
             "#fb9f3a"
            ],
            [
             0.8888888888888888,
             "#fdca26"
            ],
            [
             1,
             "#f0f921"
            ]
           ]
          },
          "colorway": [
           "#636efa",
           "#EF553B",
           "#00cc96",
           "#ab63fa",
           "#FFA15A",
           "#19d3f3",
           "#FF6692",
           "#B6E880",
           "#FF97FF",
           "#FECB52"
          ],
          "font": {
           "color": "#2a3f5f"
          },
          "geo": {
           "bgcolor": "white",
           "lakecolor": "white",
           "landcolor": "#E5ECF6",
           "showlakes": true,
           "showland": true,
           "subunitcolor": "white"
          },
          "hoverlabel": {
           "align": "left"
          },
          "hovermode": "closest",
          "mapbox": {
           "style": "light"
          },
          "paper_bgcolor": "white",
          "plot_bgcolor": "#E5ECF6",
          "polar": {
           "angularaxis": {
            "gridcolor": "white",
            "linecolor": "white",
            "ticks": ""
           },
           "bgcolor": "#E5ECF6",
           "radialaxis": {
            "gridcolor": "white",
            "linecolor": "white",
            "ticks": ""
           }
          },
          "scene": {
           "xaxis": {
            "backgroundcolor": "#E5ECF6",
            "gridcolor": "white",
            "gridwidth": 2,
            "linecolor": "white",
            "showbackground": true,
            "ticks": "",
            "zerolinecolor": "white"
           },
           "yaxis": {
            "backgroundcolor": "#E5ECF6",
            "gridcolor": "white",
            "gridwidth": 2,
            "linecolor": "white",
            "showbackground": true,
            "ticks": "",
            "zerolinecolor": "white"
           },
           "zaxis": {
            "backgroundcolor": "#E5ECF6",
            "gridcolor": "white",
            "gridwidth": 2,
            "linecolor": "white",
            "showbackground": true,
            "ticks": "",
            "zerolinecolor": "white"
           }
          },
          "shapedefaults": {
           "line": {
            "color": "#2a3f5f"
           }
          },
          "ternary": {
           "aaxis": {
            "gridcolor": "white",
            "linecolor": "white",
            "ticks": ""
           },
           "baxis": {
            "gridcolor": "white",
            "linecolor": "white",
            "ticks": ""
           },
           "bgcolor": "#E5ECF6",
           "caxis": {
            "gridcolor": "white",
            "linecolor": "white",
            "ticks": ""
           }
          },
          "title": {
           "x": 0.05
          },
          "xaxis": {
           "automargin": true,
           "gridcolor": "white",
           "linecolor": "white",
           "ticks": "",
           "title": {
            "standoff": 15
           },
           "zerolinecolor": "white",
           "zerolinewidth": 2
          },
          "yaxis": {
           "automargin": true,
           "gridcolor": "white",
           "linecolor": "white",
           "ticks": "",
           "title": {
            "standoff": 15
           },
           "zerolinecolor": "white",
           "zerolinewidth": 2
          }
         }
        },
        "width": 700
       }
      }
     },
     "metadata": {},
     "output_type": "display_data"
    },
    {
     "data": {
      "text/plain": [
       "<ipywidgets.widgets.interaction._InteractFactory at 0x7f6f68064310>"
      ]
     },
     "execution_count": 33,
     "metadata": {},
     "output_type": "execute_result"
    }
   ],
   "source": [
    "# result\n",
    "aihub_3d = copy.deepcopy(result_array)\n",
    "pos = copy.deepcopy(aihub_3d)\n",
    "points_aihub_3d = {}\n",
    "for i, p in enumerate(pos):\n",
    "    #print(i, h36m_keypoints[i], p)\n",
    "    points_aihub_3d[i] = np.array([p[0], -p[2], -p[1]]) #np.array([p[0], p[1], p[2]])  #np.array([p[0], -p[2], p[1]])\n",
    "pos_vector = pos.reshape(-1) # (51,)\n",
    "total_min, total_max = pos_vector.min(), pos_vector.max()\n",
    "print(\"total min: \", total_min,\n",
    "      \"total max: \", total_max)\n",
    "\n",
    "interact(draw_skeleton(points_aihub_3d, h36m_connections))"
   ]
  },
  {
   "attachments": {},
   "cell_type": "markdown",
   "metadata": {},
   "source": [
    "### Save video"
   ]
  },
  {
   "cell_type": "code",
   "execution_count": 84,
   "metadata": {},
   "outputs": [
    {
     "name": "stdout",
     "output_type": "stream",
     "text": [
      "Collecting kaleido\n",
      "  Downloading kaleido-0.2.1-py2.py3-none-manylinux1_x86_64.whl (79.9 MB)\n",
      "\u001b[2K     \u001b[90m━━━━━━━━━━━━━━━━━━━━━━━━━━━━━━━━━━━━━━━━\u001b[0m \u001b[32m79.9/79.9 MB\u001b[0m \u001b[31m7.5 MB/s\u001b[0m eta \u001b[36m0:00:00\u001b[0m:00:01\u001b[0m00:01\u001b[0m\n",
      "\u001b[?25hInstalling collected packages: kaleido\n",
      "Successfully installed kaleido-0.2.1\n"
     ]
    }
   ],
   "source": [
    "!pip install -U kaleido"
   ]
  },
  {
   "cell_type": "code",
   "execution_count": 1,
   "metadata": {},
   "outputs": [],
   "source": [
    "import plotly.express as px\n",
    "import pandas as pd\n",
    "import numpy as np\n",
    "import io\n",
    "import PIL\n",
    "\n",
    "r = np.random.RandomState(42)\n",
    "\n",
    "# sample data\n",
    "df = pd.DataFrame(\n",
    "    {\n",
    "        \"step\": np.repeat(np.arange(0, 8), 10),\n",
    "        \"x\": np.tile(np.linspace(0, 9, 10), 8),\n",
    "        \"y\": r.uniform(0, 5, 80),\n",
    "    }\n",
    ")\n",
    "\n",
    "# smaple plotly animated figure\n",
    "fig = px.bar(df, x=\"x\", y=\"y\", animation_frame=\"step\")\n",
    "\n",
    "# generate images for each step in animation\n",
    "frames = []\n",
    "for s, fr in enumerate(fig.frames):\n",
    "    # set main traces to appropriate traces within plotly frame\n",
    "    fig.update(data=fr.data)\n",
    "    # move slider to correct place\n",
    "    fig.layout.sliders[0].update(active=s)\n",
    "    # generate image of current state\n",
    "    frames.append(PIL.Image.open(io.BytesIO(fig.to_image(format=\"png\"))))\n",
    "    \n",
    "# create animated GIF\n",
    "frames[0].save(\n",
    "        \"test.gif\",\n",
    "        save_all=True,\n",
    "        append_images=frames[1:],\n",
    "        optimize=True,\n",
    "        duration=500,\n",
    "        loop=0,\n",
    "    )"
   ]
  },
  {
   "cell_type": "code",
   "execution_count": 30,
   "metadata": {},
   "outputs": [],
   "source": [
    "# 2d input video\n",
    "import plotly.express as px\n",
    "import pandas as pd\n",
    "import numpy as np\n",
    "import io\n",
    "import PIL\n",
    "\n",
    "\n",
    "frames = []\n",
    "connections = h36m_connections\n",
    "\n",
    "for frame_num in range(243):\n",
    "\n",
    "    aihub_2d = copy.deepcopy(test['data_input'][frame_num])\n",
    "\n",
    "    # 2d skeleton\n",
    "    pos = copy.deepcopy(aihub_2d)\n",
    "    points = {}\n",
    "    for i, p in enumerate(pos):\n",
    "        p = np.append(p, 0.0)\n",
    "        #print(i, h36m_keypoints[i], p)\n",
    "        points[i] = p\n",
    "\n",
    "    \n",
    "\n",
    "    fig = go.Figure()\n",
    "\n",
    "    # Add points\n",
    "    for point in points.values():\n",
    "        fig.add_trace(go.Scatter(x=[point[0]], y=[point[1]],\n",
    "                                    mode='markers', marker=dict(size=2, color='blue')))\n",
    "\n",
    "    # Add connections\n",
    "    for connection in connections:\n",
    "        p1, p2 = points[connection[0]], points[connection[1]]\n",
    "        fig.add_trace(go.Scatter(x=[p1[0], p2[0]], y=[p1[1], p2[1]],\n",
    "                                    mode='lines', line=dict(color='black')))\n",
    "\n",
    "    # https://wikidocs.net/185955 참고\n",
    "    fig.update_xaxes(range=[-1, 1])\n",
    "    fig.update_yaxes(range=[1, -1])\n",
    "    fig.update_layout(width=700,height=700)\n",
    "    fig.update_layout(template=\"plotly_white\")\n",
    "\n",
    "    frames.append(PIL.Image.open(io.BytesIO(fig.to_image(format=\"png\"))))\n",
    "    \n",
    "# create animated GIF\n",
    "frames[0].save(\n",
    "        \"test.gif\",\n",
    "        save_all=True,\n",
    "        append_images=frames[1:],\n",
    "        optimize=True,\n",
    "        duration=33,\n",
    "        loop=0,\n",
    "    )"
   ]
  },
  {
   "cell_type": "code",
   "execution_count": 32,
   "metadata": {},
   "outputs": [],
   "source": [
    "# 3d result video\n",
    "import plotly.express as px\n",
    "import pandas as pd\n",
    "import numpy as np\n",
    "import io\n",
    "import PIL\n",
    "\n",
    "\n",
    "frames = []\n",
    "connections = h36m_connections\n",
    "\n",
    "for frame_num in range(243):\n",
    "\n",
    "    batch_input = torch.tensor(test['data_input'][frame_num].reshape(1, 1, 17, 3))\n",
    "    result = model_pos(batch_input.float())\n",
    "    result_array = result[0][0].cpu().detach().numpy()\n",
    "\n",
    "    pos = copy.deepcopy(result_array)\n",
    "    points = {}\n",
    "    for i, p in enumerate(pos):\n",
    "        #print(i, h36m_keypoints[i], p)\n",
    "        points[i] = np.array([p[0], -p[2], -p[1]]) #np.array([p[0], p[1], p[2]])  #np.array([p[0], -p[2], p[1]])\n",
    "    \n",
    "\n",
    "    fig = go.Figure()\n",
    "\n",
    "    # Add points\n",
    "    for point in points.values():\n",
    "        fig.add_trace(go.Scatter(x=[point[0]], y=[point[1]],\n",
    "                                    mode='markers', marker=dict(size=2, color='blue')))\n",
    "\n",
    "    # Add connections\n",
    "    for connection in connections:\n",
    "        p1, p2 = points[connection[0]], points[connection[1]]\n",
    "        fig.add_trace(go.Scatter(x=[p1[0], p2[0]], y=[p1[1], p2[1]],\n",
    "                                    mode='lines', line=dict(color='black')))\n",
    "\n",
    "    elevation=0 \n",
    "    azimuth=0\n",
    "    xaxis=dict(range=[-1, 1])\n",
    "    yaxis=dict(range=[-1, 1])\n",
    "    zaxis=dict(range=[-1, 1])\n",
    "\n",
    "    # Set layout\n",
    "    fig.update_layout(scene=dict(xaxis=xaxis, yaxis=yaxis, zaxis=zaxis,\n",
    "                                 aspectratio=dict(x=1, y=1, z=1),\n",
    "                                 camera=dict(eye=dict(x=np.cos(np.pi * azimuth / 180) * np.cos(np.pi * elevation / 180),\n",
    "                                                      y=np.sin(np.pi * azimuth / 180) * np.cos(np.pi * elevation / 180),\n",
    "                                                      z=np.sin(np.pi * elevation / 180)))),\n",
    "                      width=700, height=700, autosize=False,\n",
    "                      scene_camera_eye=dict(x=1, y=1, z=1))\n",
    "\n",
    "    frames.append(PIL.Image.open(io.BytesIO(fig.to_image(format=\"png\"))))\n",
    "    \n",
    "# create animated GIF\n",
    "frames[0].save(\n",
    "        \"3d_result.gif\",\n",
    "        save_all=True,\n",
    "        append_images=frames[1:],\n",
    "        optimize=True,\n",
    "        duration=33,\n",
    "        loop=0,\n",
    "    )"
   ]
  }
 ],
 "metadata": {
  "kernelspec": {
   "display_name": "motionbert",
   "language": "python",
   "name": "python3"
  },
  "language_info": {
   "codemirror_mode": {
    "name": "ipython",
    "version": 3
   },
   "file_extension": ".py",
   "mimetype": "text/x-python",
   "name": "python",
   "nbconvert_exporter": "python",
   "pygments_lexer": "ipython3",
   "version": "3.9.17"
  },
  "orig_nbformat": 4,
  "vscode": {
   "interpreter": {
    "hash": "996031ba2a0f3c1298a339c0299835a7fe1ef636d9e79358bc474ca43ed2ac18"
   }
  }
 },
 "nbformat": 4,
 "nbformat_minor": 2
}
