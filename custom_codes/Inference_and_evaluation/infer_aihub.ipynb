{
 "cells": [
  {
   "cell_type": "code",
   "execution_count": 1,
   "metadata": {},
   "outputs": [
    {
     "data": {
      "text/plain": [
       "('/home/hrai/codes/MotionBERT', '/home/hrai/codes/AlphaPose/')"
      ]
     },
     "execution_count": 1,
     "metadata": {},
     "output_type": "execute_result"
    }
   ],
   "source": [
    "import sys, os\n",
    "import getpass\n",
    "user = getpass.getuser()\n",
    "motionbert_root = '/home/{}/codes/MotionBERT'.format(user)\n",
    "alphapose_root = '/home/{}/codes/AlphaPose/'.format(user)\n",
    "motionbert_root, alphapose_root"
   ]
  },
  {
   "cell_type": "markdown",
   "metadata": {},
   "source": [
    "### 영상 하나 추론"
   ]
  },
  {
   "cell_type": "code",
   "execution_count": 3,
   "metadata": {},
   "outputs": [
    {
     "name": "stdout",
     "output_type": "stream",
     "text": [
      "Loading checkpoint checkpoint/pose3d/FT_MB_ft_h36m_MB_ft_aihub_30/best_epoch.bin\n"
     ]
    },
    {
     "name": "stderr",
     "output_type": "stream",
     "text": [
      "100%|██████████| 1/1 [00:00<00:00,  1.84it/s]\n",
      "  0%|          | 0/144 [00:00<?, ?it/s]IMAGEIO FFMPEG_WRITER WARNING: input image is not divisible by macro_block_size=16, resizing from (923, 924) to (928, 928) to ensure video compatibility with most codecs and players. To prevent resizing, make your input image divisible by the macro_block_size or set the macro_block_size to 1 (risking incompatibility).\n",
      "  1%|          | 1/144 [00:00<00:34,  4.17it/s][swscaler @ 0x5a7c9c0] Warning: data is not aligned! This can lead to a speed loss\n",
      "100%|██████████| 144/144 [00:13<00:00, 11.03it/s]\n"
     ]
    }
   ],
   "source": [
    "os.chdir(motionbert_root)\n",
    "\n",
    "video = '30_M160A_3'\n",
    "#model = 'MB_ft_h36m'\n",
    "#epoch = 'best_epoch'\n",
    "model = 'FT_MB_ft_h36m_MB_ft_aihub_30'\n",
    "epoch = 'best_epoch'\n",
    "out_path = 'output/aihub_30/{}_{}'.format(model, video)\n",
    "\n",
    "if os.path.exists(out_path): # 이미 추론 결과가 있으면 넘어감\n",
    "    print(\"MotionBERT_{} already exists\".format(video))\n",
    "else:\n",
    "    # args\n",
    "    config = \"configs/pose3d/{}.yaml\".format('MB_ft_aihub_30')\n",
    "    evaluate = \"checkpoint/pose3d/{}/{}.bin\".format(model, epoch)\n",
    "    vid_path = alphapose_root + 'examples/aihub_result/res_{}/test.mp4'.format(video)\n",
    "    json_path = alphapose_root + 'examples/aihub_result/res_{}/alphapose-results.json'.format(video)\n",
    "\n",
    "    try:\n",
    "        # inference by MotionBERT\n",
    "        os.system(\"python infer_wild.py --config {} --vid_path {} --json_path {} --out_path {} --evaluate {}\".format(config, vid_path, json_path, out_path, evaluate))\n",
    "        # change the name of the output\n",
    "        os.rename(os.path.join(out_path, \"X3D.mp4\"), os.path.join(out_path, \"MotionBERT_{}.mp4\".format(video)))\n",
    "        os.rename(os.path.join(out_path, \"X3D.npy\"), os.path.join(out_path, \"MotionBERT_{}.npy\".format(video)))\n",
    "    except:\n",
    "        print(\"MotionBERT_{} failed\".format(id))\n",
    "    "
   ]
  },
  {
   "cell_type": "markdown",
   "metadata": {},
   "source": []
  },
  {
   "cell_type": "code",
   "execution_count": 2,
   "metadata": {},
   "outputs": [
    {
     "name": "stdout",
     "output_type": "stream",
     "text": [
      "30_M160D_3\n",
      "Loading checkpoint checkpoint/pose3d/FT_MB_ft_h36m_MB_ft_aihub_243/latest_epoch.bin\n"
     ]
    },
    {
     "name": "stderr",
     "output_type": "stream",
     "text": [
      "100%|██████████| 2/2 [00:00<00:00,  2.64it/s]\n",
      "  0%|          | 0/388 [00:00<?, ?it/s]IMAGEIO FFMPEG_WRITER WARNING: input image is not divisible by macro_block_size=16, resizing from (930, 924) to (944, 928) to ensure video compatibility with most codecs and players. To prevent resizing, make your input image divisible by the macro_block_size or set the macro_block_size to 1 (risking incompatibility).\n",
      "  0%|          | 1/388 [00:00<01:59,  3.24it/s][swscaler @ 0x59c5100] Warning: data is not aligned! This can lead to a speed loss\n",
      "100%|██████████| 388/388 [00:56<00:00,  6.87it/s]\n"
     ]
    }
   ],
   "source": [
    "import sys, os\n",
    "\n",
    "os.chdir('/home/lhs/codes/MotionBERT')\n",
    "\n",
    "# id = 운동종류, actor, 카메라 번호\n",
    "action = \"30_Squat\"\n",
    "l = os.listdir(\"/home/lhs/Datasets/HAAI/{}\".format(action)) # 30_Squat id 리스트\n",
    "for id in l: # 각 영상에 대해 \n",
    "    print(id)\n",
    "    if \"MotionBERT_{}\".format(id) in os.listdir(\"./output\"): # 이미 추론 결과가 있으면 넘어감\n",
    "        print(\"MotionBERT_{} already exists\".format(id))\n",
    "        continue\n",
    "    \n",
    "    # args\n",
    "    #config = \"configs/pose3d/MB_ft_aihub.yaml\"\n",
    "    evaluate = \"checkpoint/pose3d/FT_MB_ft_h36m_MB_ft_aihub_243/latest_epoch.bin\"\n",
    "    #checkpoint = \"checkpoint/pose3d/MB_ft_h36m/best_epoch.bin\"\n",
    "    vid_path = '/home/lhs/codes/AlphaPose/examples/res_{}/vis/test.mp4'.format(id)\n",
    "    json_path = '/home/lhs/codes/AlphaPose/examples/res_{}/alphapose-results.json'.format(id)\n",
    "    out_path = './output/MotionBERT_{}'.format(id)\n",
    "\n",
    "    try:\n",
    "        # inference by MotionBERT\n",
    "        os.system(\"python infer_wild.py --vid_path {} --json_path {} --out_path {} --evaluate {}\".format(vid_path, json_path, out_path, evaluate))\n",
    "        # change the name of the output\n",
    "        os.rename(os.path.join(out_path, \"X3D.mp4\"), os.path.join(out_path, \"MotionBERT_{}.mp4\".format(id)))\n",
    "        os.rename(os.path.join(out_path, \"X3D.npy\"), os.path.join(out_path, \"MotionBERT_{}.npy\".format(id)))\n",
    "    except:\n",
    "        print(\"MotionBERT_{} failed\".format(id))\n",
    "        \n",
    "    break"
   ]
  },
  {
   "cell_type": "markdown",
   "metadata": {},
   "source": []
  },
  {
   "cell_type": "code",
   "execution_count": 90,
   "metadata": {},
   "outputs": [],
   "source": [
    "os.chdir(motionbert_root)\n",
    "\n",
    "import os\n",
    "import numpy as np\n",
    "import argparse\n",
    "from tqdm import tqdm\n",
    "import imageio\n",
    "import torch\n",
    "import torch.nn as nn\n",
    "from torch.utils.data import DataLoader\n",
    "from lib.utils.tools import *\n",
    "from lib.utils.learning import *\n",
    "from lib.utils.utils_data import flip_data\n",
    "from lib.data.dataset_wild import WildDetDataset\n",
    "from lib.utils.vismo import render_and_save"
   ]
  },
  {
   "cell_type": "code",
   "execution_count": 91,
   "metadata": {},
   "outputs": [],
   "source": [
    "import easydict\n",
    "\n",
    "video = '30_M160A_3'\n",
    "out_path = 'output/MotionBERT_{}'.format(video)\n",
    "evaluate = \"checkpoint/pose3d/MB_ft_h36m/best_epoch.bin\"\n",
    "vid_path = alphapose_root + 'examples/aihub_result/res_{}/test.mp4'.format(video)\n",
    "json_path = alphapose_root + 'examples/aihub_result/res_{}/alphapose-results.json'.format(video)\n",
    "\n",
    "opts = easydict.EasyDict({\n",
    "    \"config\": \"configs/pose3d/MB_ft_h36m.yaml\",\n",
    "    \"evaluate\": evaluate,\n",
    "    \"json_path\": json_path,\n",
    "    \"vid_path\": vid_path,\n",
    "    \"out_path\": out_path,\n",
    "    \"pixel\": True,\n",
    "    \"focus\": None,\n",
    "    \"clip_len\": 243,\n",
    "    })\n",
    "args = get_config(opts.config)"
   ]
  },
  {
   "cell_type": "code",
   "execution_count": 92,
   "metadata": {},
   "outputs": [
    {
     "name": "stdout",
     "output_type": "stream",
     "text": [
      "Loading checkpoint checkpoint/pose3d/MB_ft_h36m/best_epoch.bin\n"
     ]
    }
   ],
   "source": [
    "model_backbone = load_backbone(args)\n",
    "if torch.cuda.is_available():\n",
    "    model_backbone = nn.DataParallel(model_backbone)\n",
    "    model_backbone = model_backbone.cuda()\n",
    "\n",
    "print('Loading checkpoint', opts.evaluate)\n",
    "checkpoint = torch.load(opts.evaluate, map_location=lambda storage, loc: storage)\n",
    "model_backbone.load_state_dict(checkpoint['model_pos'], strict=True)\n",
    "model_pos = model_backbone\n",
    "model_pos.eval()\n",
    "testloader_params = {\n",
    "          'batch_size': 1,\n",
    "          'shuffle': False,\n",
    "          'num_workers': 8,\n",
    "          'pin_memory': True,\n",
    "          'prefetch_factor': 4,\n",
    "          'persistent_workers': True,\n",
    "          'drop_last': False\n",
    "}"
   ]
  },
  {
   "cell_type": "code",
   "execution_count": 24,
   "metadata": {},
   "outputs": [
    {
     "data": {
      "text/plain": [
       "'/home/hrai/codes/AlphaPose/examples/aihub_result/res_30_M160A_3/test.mp4'"
      ]
     },
     "execution_count": 24,
     "metadata": {},
     "output_type": "execute_result"
    }
   ],
   "source": [
    "opts.vid_path"
   ]
  },
  {
   "cell_type": "code",
   "execution_count": 25,
   "metadata": {},
   "outputs": [],
   "source": [
    "vid = imageio.get_reader(opts.vid_path,  'ffmpeg')\n",
    "fps_in = vid.get_meta_data()['fps']\n",
    "vid_size = vid.get_meta_data()['size']\n",
    "os.makedirs(opts.out_path, exist_ok=True)"
   ]
  },
  {
   "cell_type": "code",
   "execution_count": 89,
   "metadata": {},
   "outputs": [
    {
     "data": {
      "text/plain": [
       "(1920, 1080)"
      ]
     },
     "execution_count": 89,
     "metadata": {},
     "output_type": "execute_result"
    }
   ],
   "source": [
    "vid_size"
   ]
  },
  {
   "cell_type": "code",
   "execution_count": 26,
   "metadata": {},
   "outputs": [
    {
     "data": {
      "text/plain": [
       "'output/MotionBERT_30_M160A_3'"
      ]
     },
     "execution_count": 26,
     "metadata": {},
     "output_type": "execute_result"
    }
   ],
   "source": [
    "opts.out_path"
   ]
  },
  {
   "cell_type": "code",
   "execution_count": 27,
   "metadata": {},
   "outputs": [
    {
     "data": {
      "text/plain": [
       "True"
      ]
     },
     "execution_count": 27,
     "metadata": {},
     "output_type": "execute_result"
    }
   ],
   "source": [
    "opts.pixel"
   ]
  },
  {
   "cell_type": "code",
   "execution_count": 28,
   "metadata": {},
   "outputs": [
    {
     "data": {
      "text/plain": [
       "'/home/hrai/codes/AlphaPose/examples/aihub_result/res_30_M160A_3/alphapose-results.json'"
      ]
     },
     "execution_count": 28,
     "metadata": {},
     "output_type": "execute_result"
    }
   ],
   "source": [
    "opts.json_path"
   ]
  },
  {
   "cell_type": "code",
   "execution_count": 29,
   "metadata": {},
   "outputs": [],
   "source": [
    "if opts.pixel:\n",
    "    # Keep relative scale with pixel coornidates\n",
    "    wild_dataset = WildDetDataset(opts.json_path, clip_len=opts.clip_len, vid_size=vid_size, scale_range=None, focus=opts.focus)\n",
    "else:\n",
    "    # Scale to [-1,1]\n",
    "    wild_dataset = WildDetDataset(opts.json_path, clip_len=opts.clip_len, scale_range=[1,1], focus=opts.focus)\n",
    "test_loader = DataLoader(wild_dataset, **testloader_params)"
   ]
  },
  {
   "cell_type": "code",
   "execution_count": 30,
   "metadata": {},
   "outputs": [
    {
     "name": "stderr",
     "output_type": "stream",
     "text": [
      "100%|██████████| 1/1 [00:01<00:00,  1.03s/it]\n"
     ]
    },
    {
     "data": {
      "text/plain": [
       "(1, 144, 17, 3)"
      ]
     },
     "execution_count": 30,
     "metadata": {},
     "output_type": "execute_result"
    }
   ],
   "source": [
    "results_all = []\n",
    "with torch.no_grad():\n",
    "    for batch_input in tqdm(test_loader):\n",
    "        N, T = batch_input.shape[:2]\n",
    "        if torch.cuda.is_available():\n",
    "            batch_input = batch_input.cuda()\n",
    "        if args.no_conf:\n",
    "            batch_input = batch_input[:, :, :, :2]\n",
    "        if args.flip:    \n",
    "            batch_input_flip = flip_data(batch_input)\n",
    "            predicted_3d_pos_1 = model_pos(batch_input)\n",
    "            predicted_3d_pos_flip = model_pos(batch_input_flip)\n",
    "            predicted_3d_pos_2 = flip_data(predicted_3d_pos_flip) # Flip back\n",
    "            predicted_3d_pos = (predicted_3d_pos_1 + predicted_3d_pos_2) / 2.0\n",
    "        else:\n",
    "            predicted_3d_pos = model_pos(batch_input)\n",
    "        if args.rootrel:\n",
    "            predicted_3d_pos[:,:,0,:]=0                    # [N,T,17,3]\n",
    "        else:\n",
    "            predicted_3d_pos[:,0,0,2]=0\n",
    "            pass\n",
    "        if args.gt_2d:\n",
    "            predicted_3d_pos[...,:2] = batch_input[...,:2]\n",
    "        results_all.append(predicted_3d_pos.cpu().numpy())\n",
    "results_all[0].shape"
   ]
  },
  {
   "cell_type": "code",
   "execution_count": 31,
   "metadata": {},
   "outputs": [
    {
     "data": {
      "text/plain": [
       "(1, 144, 17, 3)"
      ]
     },
     "execution_count": 31,
     "metadata": {},
     "output_type": "execute_result"
    }
   ],
   "source": [
    "results_all = np.hstack(results_all)\n",
    "results_all.shape"
   ]
  },
  {
   "cell_type": "code",
   "execution_count": 32,
   "metadata": {},
   "outputs": [
    {
     "data": {
      "text/plain": [
       "(144, 17, 3)"
      ]
     },
     "execution_count": 32,
     "metadata": {},
     "output_type": "execute_result"
    }
   ],
   "source": [
    "results_all = np.concatenate(results_all)\n",
    "results_all.shape"
   ]
  },
  {
   "cell_type": "code",
   "execution_count": 34,
   "metadata": {},
   "outputs": [],
   "source": [
    "from lib.utils.vismo import *\n",
    "from lib.utils.tools import ensure_dir"
   ]
  },
  {
   "cell_type": "code",
   "execution_count": 35,
   "metadata": {},
   "outputs": [],
   "source": [
    "motion_input = results_all\n",
    "save_path = '%s/X3D.mp4' % (opts.out_path)\n",
    "keep_imgs=False\n",
    "fps=fps_in\n",
    "color=\"#F96706#FB8D43#FDB381\"\n",
    "with_conf=False\n",
    "draw_face=False"
   ]
  },
  {
   "cell_type": "markdown",
   "metadata": {},
   "source": [
    "### render_and_save"
   ]
  },
  {
   "cell_type": "code",
   "execution_count": 36,
   "metadata": {},
   "outputs": [
    {
     "data": {
      "text/plain": [
       "'output/MotionBERT_30_M160A_3/X3D.mp4'"
      ]
     },
     "execution_count": 36,
     "metadata": {},
     "output_type": "execute_result"
    }
   ],
   "source": [
    "save_path"
   ]
  },
  {
   "cell_type": "code",
   "execution_count": 37,
   "metadata": {},
   "outputs": [
    {
     "data": {
      "text/plain": [
       "'output/MotionBERT_30_M160A_3'"
      ]
     },
     "execution_count": 37,
     "metadata": {},
     "output_type": "execute_result"
    }
   ],
   "source": [
    "os.path.dirname(save_path)"
   ]
  },
  {
   "cell_type": "code",
   "execution_count": 38,
   "metadata": {},
   "outputs": [],
   "source": [
    "ensure_dir(os.path.dirname(save_path))"
   ]
  },
  {
   "cell_type": "code",
   "execution_count": 39,
   "metadata": {},
   "outputs": [
    {
     "data": {
      "text/plain": [
       "(144, 17, 3)"
      ]
     },
     "execution_count": 39,
     "metadata": {},
     "output_type": "execute_result"
    }
   ],
   "source": [
    "motion = copy.deepcopy(motion_input)\n",
    "motion.shape"
   ]
  },
  {
   "cell_type": "code",
   "execution_count": 40,
   "metadata": {},
   "outputs": [
    {
     "data": {
      "text/plain": [
       "(17, 3, 144)"
      ]
     },
     "execution_count": 40,
     "metadata": {},
     "output_type": "execute_result"
    }
   ],
   "source": [
    "if motion.shape[-1]==2 or motion.shape[-1]==3:\n",
    "    motion = np.transpose(motion, (1,2,0))   #(T,17,D) -> (17,D,T) \n",
    "motion.shape"
   ]
  },
  {
   "cell_type": "code",
   "execution_count": 41,
   "metadata": {},
   "outputs": [
    {
     "data": {
      "text/plain": [
       "(False, 3, 17)"
      ]
     },
     "execution_count": 41,
     "metadata": {},
     "output_type": "execute_result"
    }
   ],
   "source": [
    "with_conf, motion.shape[1], motion.shape[0]"
   ]
  },
  {
   "cell_type": "markdown",
   "metadata": {},
   "source": [
    "#### pixel2world_vis_motion"
   ]
  },
  {
   "cell_type": "code",
   "execution_count": 42,
   "metadata": {},
   "outputs": [],
   "source": [
    "motion = motion\n",
    "dim=3\n",
    "is_tensor=False"
   ]
  },
  {
   "cell_type": "code",
   "execution_count": 43,
   "metadata": {},
   "outputs": [
    {
     "data": {
      "text/plain": [
       "(3, 144)"
      ]
     },
     "execution_count": 43,
     "metadata": {},
     "output_type": "execute_result"
    }
   ],
   "source": [
    "N = motion.shape[-1]\n",
    "if dim==2: # 2D\n",
    "    offset = np.ones([2,N]).astype(np.float32)\n",
    "else: # 3D\n",
    "    offset = np.ones([3,N]).astype(np.float32)\n",
    "    offset[2,:] = 0\n",
    "offset.shape"
   ]
  },
  {
   "cell_type": "code",
   "execution_count": 44,
   "metadata": {},
   "outputs": [
    {
     "data": {
      "text/plain": [
       "False"
      ]
     },
     "execution_count": 44,
     "metadata": {},
     "output_type": "execute_result"
    }
   ],
   "source": [
    "is_tensor"
   ]
  },
  {
   "cell_type": "code",
   "execution_count": 45,
   "metadata": {},
   "outputs": [],
   "source": [
    "if is_tensor:\n",
    "    offset = torch.tensor(offset)"
   ]
  },
  {
   "cell_type": "code",
   "execution_count": 46,
   "metadata": {},
   "outputs": [
    {
     "data": {
      "text/plain": [
       "array([[[ 1.46327249e-04,  1.39424563e-04,  1.39037584e-04, ...,\n",
       "         -1.19954173e-04, -1.19887583e-04, -1.19201373e-04],\n",
       "        [ 5.70004340e-06,  1.43352663e-05,  3.26040899e-05, ...,\n",
       "          1.89769780e-05,  3.25072324e-05,  4.17534029e-05],\n",
       "        [ 0.00000000e+00,  5.52093145e-04,  5.55301318e-04, ...,\n",
       "         -2.41508242e-05, -2.96160579e-07,  9.78377648e-06]],\n",
       "\n",
       "       [[ 4.86699790e-02,  4.85939756e-02,  4.85517047e-02, ...,\n",
       "          4.56868708e-02,  4.56704311e-02,  4.56577688e-02],\n",
       "        [ 7.40985945e-03,  7.38331303e-03,  7.41557777e-03, ...,\n",
       "          1.49993282e-02,  1.50940306e-02,  1.51620992e-02],\n",
       "        [-6.22830987e-02, -6.23078458e-02, -6.22697696e-02, ...,\n",
       "         -6.20501339e-02, -6.20230138e-02, -6.19743057e-02]],\n",
       "\n",
       "       [[ 3.77475657e-02,  3.76941040e-02,  3.76918614e-02, ...,\n",
       "          2.39460886e-01,  2.39675909e-01,  2.39857331e-01],\n",
       "        [ 2.10896447e-01,  2.10841998e-01,  2.10833952e-01, ...,\n",
       "         -1.77267790e-02, -2.05229837e-02, -2.27507837e-02],\n",
       "        [ 6.18466698e-02,  6.19003251e-02,  6.19724318e-02, ...,\n",
       "          1.08865649e-01,  1.08358458e-01,  1.07959412e-01]],\n",
       "\n",
       "       ...,\n",
       "\n",
       "       [[ 6.84715062e-02,  6.84781522e-02,  6.85256347e-02, ...,\n",
       "          1.90867454e-01,  1.90936893e-01,  1.90922722e-01],\n",
       "        [-2.62876928e-01, -2.62810081e-01, -2.62655914e-01, ...,\n",
       "         -2.41158247e-01, -2.40416929e-01, -2.39831656e-01],\n",
       "        [-1.16093621e-01, -1.16316199e-01, -1.16449967e-01, ...,\n",
       "         -3.17789949e-02, -3.13028507e-02, -3.08931805e-02]],\n",
       "\n",
       "       [[ 1.07335575e-01,  1.07223392e-01,  1.07232071e-01, ...,\n",
       "          3.25383514e-01,  3.25220466e-01,  3.25047493e-01],\n",
       "        [-1.03779338e-01, -1.03783399e-01, -1.03701651e-01, ...,\n",
       "         -2.65655220e-01, -2.64407098e-01, -2.63262868e-01],\n",
       "        [-1.47517785e-01, -1.47371933e-01, -1.47368506e-01, ...,\n",
       "         -5.69069758e-02, -5.62707856e-02, -5.57968207e-02]],\n",
       "\n",
       "       [[ 1.22895613e-01,  1.22779027e-01,  1.22745492e-01, ...,\n",
       "          3.99607539e-01,  3.99332821e-01,  3.98974597e-01],\n",
       "        [-2.89003947e-04, -2.66510644e-04, -1.85578712e-04, ...,\n",
       "         -2.95623869e-01, -2.94017196e-01, -2.92135447e-01],\n",
       "        [-3.95568386e-02, -3.95385735e-02, -3.95362750e-02, ...,\n",
       "          2.54205987e-02,  2.64921337e-02,  2.74134967e-02]]],\n",
       "      dtype=float32)"
      ]
     },
     "execution_count": 46,
     "metadata": {},
     "output_type": "execute_result"
    }
   ],
   "source": [
    "motion"
   ]
  },
  {
   "cell_type": "code",
   "execution_count": 47,
   "metadata": {},
   "outputs": [],
   "source": [
    "motion_world = (motion + offset) * 512 / 2"
   ]
  },
  {
   "cell_type": "code",
   "execution_count": 48,
   "metadata": {},
   "outputs": [
    {
     "data": {
      "text/plain": [
       "array([[[ 2.5603745e+02,  2.5603571e+02,  2.5603558e+02, ...,\n",
       "          2.5596930e+02,  2.5596931e+02,  2.5596948e+02],\n",
       "        [ 2.5600146e+02,  2.5600366e+02,  2.5600836e+02, ...,\n",
       "          2.5600485e+02,  2.5600833e+02,  2.5601068e+02],\n",
       "        [ 0.0000000e+00,  1.4133584e-01,  1.4215714e-01, ...,\n",
       "         -6.1826110e-03, -7.5817108e-05,  2.5046468e-03]],\n",
       "\n",
       "       [[ 2.6845950e+02,  2.6844006e+02,  2.6842923e+02, ...,\n",
       "          2.6769583e+02,  2.6769162e+02,  2.6768839e+02],\n",
       "        [ 2.5789691e+02,  2.5789014e+02,  2.5789838e+02, ...,\n",
       "          2.5983981e+02,  2.5986407e+02,  2.5988150e+02],\n",
       "        [-1.5944473e+01, -1.5950809e+01, -1.5941061e+01, ...,\n",
       "         -1.5884834e+01, -1.5877892e+01, -1.5865422e+01]],\n",
       "\n",
       "       [[ 2.6566339e+02,  2.6564969e+02,  2.6564911e+02, ...,\n",
       "          3.1730200e+02,  3.1735703e+02,  3.1740347e+02],\n",
       "        [ 3.0998950e+02,  3.0997556e+02,  3.0997348e+02, ...,\n",
       "          2.5146194e+02,  2.5074611e+02,  2.5017580e+02],\n",
       "        [ 1.5832747e+01,  1.5846483e+01,  1.5864943e+01, ...,\n",
       "          2.7869606e+01,  2.7739765e+01,  2.7637609e+01]],\n",
       "\n",
       "       ...,\n",
       "\n",
       "       [[ 2.7352872e+02,  2.7353040e+02,  2.7354257e+02, ...,\n",
       "          3.0486206e+02,  3.0487985e+02,  3.0487622e+02],\n",
       "        [ 1.8870351e+02,  1.8872061e+02,  1.8876009e+02, ...,\n",
       "          1.9426349e+02,  1.9445326e+02,  1.9460309e+02],\n",
       "        [-2.9719967e+01, -2.9776947e+01, -2.9811192e+01, ...,\n",
       "         -8.1354227e+00, -8.0135298e+00, -7.9086542e+00]],\n",
       "\n",
       "       [[ 2.8347791e+02,  2.8344919e+02,  2.8345142e+02, ...,\n",
       "          3.3929819e+02,  3.3925644e+02,  3.3921216e+02],\n",
       "        [ 2.2943250e+02,  2.2943146e+02,  2.2945238e+02, ...,\n",
       "          1.8799226e+02,  1.8831178e+02,  1.8860471e+02],\n",
       "        [-3.7764553e+01, -3.7727215e+01, -3.7726337e+01, ...,\n",
       "         -1.4568186e+01, -1.4405321e+01, -1.4283986e+01]],\n",
       "\n",
       "       [[ 2.8746127e+02,  2.8743143e+02,  2.8742285e+02, ...,\n",
       "          3.5829953e+02,  3.5822919e+02,  3.5813751e+02],\n",
       "        [ 2.5592601e+02,  2.5593178e+02,  2.5595250e+02, ...,\n",
       "          1.8032028e+02,  1.8073160e+02,  1.8121332e+02],\n",
       "        [-1.0126551e+01, -1.0121875e+01, -1.0121286e+01, ...,\n",
       "          6.5076733e+00,  6.7819862e+00,  7.0178552e+00]]], dtype=float32)"
      ]
     },
     "execution_count": 48,
     "metadata": {},
     "output_type": "execute_result"
    }
   ],
   "source": [
    "motion_world"
   ]
  },
  {
   "cell_type": "markdown",
   "metadata": {},
   "source": [
    "#### motion2video_3d"
   ]
  },
  {
   "cell_type": "code",
   "execution_count": 49,
   "metadata": {},
   "outputs": [
    {
     "data": {
      "text/plain": [
       "('output/MotionBERT_30_M160A_3/X3D.mp4', False, 60.0)"
      ]
     },
     "execution_count": 49,
     "metadata": {},
     "output_type": "execute_result"
    }
   ],
   "source": [
    "save_path, keep_imgs, fps"
   ]
  },
  {
   "cell_type": "code",
   "execution_count": 50,
   "metadata": {},
   "outputs": [],
   "source": [
    "motion=motion_world\n",
    "save_path=save_path\n",
    "fps=fps\n",
    "keep_imgs = keep_imgs"
   ]
  },
  {
   "cell_type": "code",
   "execution_count": 79,
   "metadata": {},
   "outputs": [],
   "source": [
    "#videowriter = imageio.get_writer(save_path, fps=fps)\n",
    "vlen = motion.shape[-1] # N\n",
    "save_name = save_path.split('.')[0] # 'output/MotionBERT_30_M160A_3/X3D'\n",
    "frames = []\n",
    "joint_pairs = [[0, 1], [1, 2], [2, 3], [0, 4], [4, 5], [5, 6], [0, 7], [7, 8], [8, 9], [8, 11], [8, 14], [9, 10], [11, 12], [12, 13], [14, 15], [15, 16]]\n",
    "joint_pairs_left = [[8, 11], [11, 12], [12, 13], [0, 4], [4, 5], [5, 6]]\n",
    "joint_pairs_right = [[8, 14], [14, 15], [15, 16], [0, 1], [1, 2], [2, 3]]\n",
    "\n",
    "color_mid = \"#00457E\"\n",
    "color_left = \"#02315E\"\n",
    "color_right = \"#2F70AF\""
   ]
  },
  {
   "cell_type": "code",
   "execution_count": 88,
   "metadata": {},
   "outputs": [
    {
     "name": "stderr",
     "output_type": "stream",
     "text": [
      " 21%|██        | 30/144 [00:07<00:27,  4.08it/s]\n"
     ]
    },
    {
     "ename": "KeyboardInterrupt",
     "evalue": "",
     "output_type": "error",
     "traceback": [
      "\u001b[0;31m---------------------------------------------------------------------------\u001b[0m",
      "\u001b[0;31mKeyboardInterrupt\u001b[0m                         Traceback (most recent call last)",
      "Cell \u001b[0;32mIn[88], line 4\u001b[0m\n\u001b[1;32m      2\u001b[0m j3d \u001b[39m=\u001b[39m motion[:,:,f] \u001b[39m# (17, 3)\u001b[39;00m\n\u001b[1;32m      3\u001b[0m fig \u001b[39m=\u001b[39m plt\u001b[39m.\u001b[39mfigure(\u001b[39m0\u001b[39m, figsize\u001b[39m=\u001b[39m(\u001b[39m10\u001b[39m, \u001b[39m10\u001b[39m))\n\u001b[0;32m----> 4\u001b[0m fig\u001b[39m.\u001b[39;49mcanvas\u001b[39m.\u001b[39;49mdraw()\n\u001b[1;32m      5\u001b[0m ax \u001b[39m=\u001b[39m plt\u001b[39m.\u001b[39maxes(projection\u001b[39m=\u001b[39m\u001b[39m\"\u001b[39m\u001b[39m3d\u001b[39m\u001b[39m\"\u001b[39m)\n\u001b[1;32m      6\u001b[0m ax\u001b[39m.\u001b[39mset_xlim(\u001b[39m-\u001b[39m\u001b[39m512\u001b[39m, \u001b[39m0\u001b[39m)\n",
      "File \u001b[0;32m~/Anaconda3/envs/motionbert/lib/python3.9/site-packages/matplotlib/backends/backend_agg.py:400\u001b[0m, in \u001b[0;36mFigureCanvasAgg.draw\u001b[0;34m(self)\u001b[0m\n\u001b[1;32m    396\u001b[0m \u001b[39m# Acquire a lock on the shared font cache.\u001b[39;00m\n\u001b[1;32m    397\u001b[0m \u001b[39mwith\u001b[39;00m RendererAgg\u001b[39m.\u001b[39mlock, \\\n\u001b[1;32m    398\u001b[0m      (\u001b[39mself\u001b[39m\u001b[39m.\u001b[39mtoolbar\u001b[39m.\u001b[39m_wait_cursor_for_draw_cm() \u001b[39mif\u001b[39;00m \u001b[39mself\u001b[39m\u001b[39m.\u001b[39mtoolbar\n\u001b[1;32m    399\u001b[0m       \u001b[39melse\u001b[39;00m nullcontext()):\n\u001b[0;32m--> 400\u001b[0m     \u001b[39mself\u001b[39;49m\u001b[39m.\u001b[39;49mfigure\u001b[39m.\u001b[39;49mdraw(\u001b[39mself\u001b[39;49m\u001b[39m.\u001b[39;49mrenderer)\n\u001b[1;32m    401\u001b[0m     \u001b[39m# A GUI class may be need to update a window using this draw, so\u001b[39;00m\n\u001b[1;32m    402\u001b[0m     \u001b[39m# don't forget to call the superclass.\u001b[39;00m\n\u001b[1;32m    403\u001b[0m     \u001b[39msuper\u001b[39m()\u001b[39m.\u001b[39mdraw()\n",
      "File \u001b[0;32m~/Anaconda3/envs/motionbert/lib/python3.9/site-packages/matplotlib/artist.py:95\u001b[0m, in \u001b[0;36m_finalize_rasterization.<locals>.draw_wrapper\u001b[0;34m(artist, renderer, *args, **kwargs)\u001b[0m\n\u001b[1;32m     93\u001b[0m \u001b[39m@wraps\u001b[39m(draw)\n\u001b[1;32m     94\u001b[0m \u001b[39mdef\u001b[39;00m \u001b[39mdraw_wrapper\u001b[39m(artist, renderer, \u001b[39m*\u001b[39margs, \u001b[39m*\u001b[39m\u001b[39m*\u001b[39mkwargs):\n\u001b[0;32m---> 95\u001b[0m     result \u001b[39m=\u001b[39m draw(artist, renderer, \u001b[39m*\u001b[39;49margs, \u001b[39m*\u001b[39;49m\u001b[39m*\u001b[39;49mkwargs)\n\u001b[1;32m     96\u001b[0m     \u001b[39mif\u001b[39;00m renderer\u001b[39m.\u001b[39m_rasterizing:\n\u001b[1;32m     97\u001b[0m         renderer\u001b[39m.\u001b[39mstop_rasterizing()\n",
      "File \u001b[0;32m~/Anaconda3/envs/motionbert/lib/python3.9/site-packages/matplotlib/artist.py:72\u001b[0m, in \u001b[0;36mallow_rasterization.<locals>.draw_wrapper\u001b[0;34m(artist, renderer)\u001b[0m\n\u001b[1;32m     69\u001b[0m     \u001b[39mif\u001b[39;00m artist\u001b[39m.\u001b[39mget_agg_filter() \u001b[39mis\u001b[39;00m \u001b[39mnot\u001b[39;00m \u001b[39mNone\u001b[39;00m:\n\u001b[1;32m     70\u001b[0m         renderer\u001b[39m.\u001b[39mstart_filter()\n\u001b[0;32m---> 72\u001b[0m     \u001b[39mreturn\u001b[39;00m draw(artist, renderer)\n\u001b[1;32m     73\u001b[0m \u001b[39mfinally\u001b[39;00m:\n\u001b[1;32m     74\u001b[0m     \u001b[39mif\u001b[39;00m artist\u001b[39m.\u001b[39mget_agg_filter() \u001b[39mis\u001b[39;00m \u001b[39mnot\u001b[39;00m \u001b[39mNone\u001b[39;00m:\n",
      "File \u001b[0;32m~/Anaconda3/envs/motionbert/lib/python3.9/site-packages/matplotlib/figure.py:3175\u001b[0m, in \u001b[0;36mFigure.draw\u001b[0;34m(self, renderer)\u001b[0m\n\u001b[1;32m   3172\u001b[0m         \u001b[39m# ValueError can occur when resizing a window.\u001b[39;00m\n\u001b[1;32m   3174\u001b[0m \u001b[39mself\u001b[39m\u001b[39m.\u001b[39mpatch\u001b[39m.\u001b[39mdraw(renderer)\n\u001b[0;32m-> 3175\u001b[0m mimage\u001b[39m.\u001b[39;49m_draw_list_compositing_images(\n\u001b[1;32m   3176\u001b[0m     renderer, \u001b[39mself\u001b[39;49m, artists, \u001b[39mself\u001b[39;49m\u001b[39m.\u001b[39;49msuppressComposite)\n\u001b[1;32m   3178\u001b[0m \u001b[39mfor\u001b[39;00m sfig \u001b[39min\u001b[39;00m \u001b[39mself\u001b[39m\u001b[39m.\u001b[39msubfigs:\n\u001b[1;32m   3179\u001b[0m     sfig\u001b[39m.\u001b[39mdraw(renderer)\n",
      "File \u001b[0;32m~/Anaconda3/envs/motionbert/lib/python3.9/site-packages/matplotlib/image.py:131\u001b[0m, in \u001b[0;36m_draw_list_compositing_images\u001b[0;34m(renderer, parent, artists, suppress_composite)\u001b[0m\n\u001b[1;32m    129\u001b[0m \u001b[39mif\u001b[39;00m not_composite \u001b[39mor\u001b[39;00m \u001b[39mnot\u001b[39;00m has_images:\n\u001b[1;32m    130\u001b[0m     \u001b[39mfor\u001b[39;00m a \u001b[39min\u001b[39;00m artists:\n\u001b[0;32m--> 131\u001b[0m         a\u001b[39m.\u001b[39;49mdraw(renderer)\n\u001b[1;32m    132\u001b[0m \u001b[39melse\u001b[39;00m:\n\u001b[1;32m    133\u001b[0m     \u001b[39m# Composite any adjacent images together\u001b[39;00m\n\u001b[1;32m    134\u001b[0m     image_group \u001b[39m=\u001b[39m []\n",
      "File \u001b[0;32m~/Anaconda3/envs/motionbert/lib/python3.9/site-packages/matplotlib/artist.py:72\u001b[0m, in \u001b[0;36mallow_rasterization.<locals>.draw_wrapper\u001b[0;34m(artist, renderer)\u001b[0m\n\u001b[1;32m     69\u001b[0m     \u001b[39mif\u001b[39;00m artist\u001b[39m.\u001b[39mget_agg_filter() \u001b[39mis\u001b[39;00m \u001b[39mnot\u001b[39;00m \u001b[39mNone\u001b[39;00m:\n\u001b[1;32m     70\u001b[0m         renderer\u001b[39m.\u001b[39mstart_filter()\n\u001b[0;32m---> 72\u001b[0m     \u001b[39mreturn\u001b[39;00m draw(artist, renderer)\n\u001b[1;32m     73\u001b[0m \u001b[39mfinally\u001b[39;00m:\n\u001b[1;32m     74\u001b[0m     \u001b[39mif\u001b[39;00m artist\u001b[39m.\u001b[39mget_agg_filter() \u001b[39mis\u001b[39;00m \u001b[39mnot\u001b[39;00m \u001b[39mNone\u001b[39;00m:\n",
      "File \u001b[0;32m~/Anaconda3/envs/motionbert/lib/python3.9/site-packages/mpl_toolkits/mplot3d/axes3d.py:489\u001b[0m, in \u001b[0;36mAxes3D.draw\u001b[0;34m(self, renderer)\u001b[0m\n\u001b[1;32m    487\u001b[0m     \u001b[39m# Then axes\u001b[39;00m\n\u001b[1;32m    488\u001b[0m     \u001b[39mfor\u001b[39;00m axis \u001b[39min\u001b[39;00m \u001b[39mself\u001b[39m\u001b[39m.\u001b[39m_axis_map\u001b[39m.\u001b[39mvalues():\n\u001b[0;32m--> 489\u001b[0m         axis\u001b[39m.\u001b[39;49mdraw(renderer)\n\u001b[1;32m    491\u001b[0m \u001b[39m# Then rest\u001b[39;00m\n\u001b[1;32m    492\u001b[0m \u001b[39msuper\u001b[39m()\u001b[39m.\u001b[39mdraw(renderer)\n",
      "File \u001b[0;32m~/Anaconda3/envs/motionbert/lib/python3.9/site-packages/matplotlib/artist.py:72\u001b[0m, in \u001b[0;36mallow_rasterization.<locals>.draw_wrapper\u001b[0;34m(artist, renderer)\u001b[0m\n\u001b[1;32m     69\u001b[0m     \u001b[39mif\u001b[39;00m artist\u001b[39m.\u001b[39mget_agg_filter() \u001b[39mis\u001b[39;00m \u001b[39mnot\u001b[39;00m \u001b[39mNone\u001b[39;00m:\n\u001b[1;32m     70\u001b[0m         renderer\u001b[39m.\u001b[39mstart_filter()\n\u001b[0;32m---> 72\u001b[0m     \u001b[39mreturn\u001b[39;00m draw(artist, renderer)\n\u001b[1;32m     73\u001b[0m \u001b[39mfinally\u001b[39;00m:\n\u001b[1;32m     74\u001b[0m     \u001b[39mif\u001b[39;00m artist\u001b[39m.\u001b[39mget_agg_filter() \u001b[39mis\u001b[39;00m \u001b[39mnot\u001b[39;00m \u001b[39mNone\u001b[39;00m:\n",
      "File \u001b[0;32m~/Anaconda3/envs/motionbert/lib/python3.9/site-packages/mpl_toolkits/mplot3d/axis3d.py:490\u001b[0m, in \u001b[0;36mAxis.draw\u001b[0;34m(self, renderer)\u001b[0m\n\u001b[1;32m    488\u001b[0m     \u001b[39mself\u001b[39m\u001b[39m.\u001b[39mgridlines\u001b[39m.\u001b[39mset_linewidth(gridinfo[\u001b[39m'\u001b[39m\u001b[39mlinewidth\u001b[39m\u001b[39m'\u001b[39m])\n\u001b[1;32m    489\u001b[0m     \u001b[39mself\u001b[39m\u001b[39m.\u001b[39mgridlines\u001b[39m.\u001b[39mset_linestyle(gridinfo[\u001b[39m'\u001b[39m\u001b[39mlinestyle\u001b[39m\u001b[39m'\u001b[39m])\n\u001b[0;32m--> 490\u001b[0m     \u001b[39mself\u001b[39;49m\u001b[39m.\u001b[39;49mgridlines\u001b[39m.\u001b[39;49mdo_3d_projection()\n\u001b[1;32m    491\u001b[0m     \u001b[39mself\u001b[39m\u001b[39m.\u001b[39mgridlines\u001b[39m.\u001b[39mdraw(renderer)\n\u001b[1;32m    493\u001b[0m \u001b[39m# Draw ticks:\u001b[39;00m\n",
      "File \u001b[0;32m~/Anaconda3/envs/motionbert/lib/python3.9/site-packages/mpl_toolkits/mplot3d/art3d.py:368\u001b[0m, in \u001b[0;36mLine3DCollection.do_3d_projection\u001b[0;34m(self)\u001b[0m\n\u001b[1;32m    364\u001b[0m \u001b[39mdef\u001b[39;00m \u001b[39mdo_3d_projection\u001b[39m(\u001b[39mself\u001b[39m):\n\u001b[1;32m    365\u001b[0m \u001b[39m    \u001b[39m\u001b[39m\"\"\"\u001b[39;00m\n\u001b[1;32m    366\u001b[0m \u001b[39m    Project the points according to renderer matrix.\u001b[39;00m\n\u001b[1;32m    367\u001b[0m \u001b[39m    \"\"\"\u001b[39;00m\n\u001b[0;32m--> 368\u001b[0m     xyslist \u001b[39m=\u001b[39m [proj3d\u001b[39m.\u001b[39mproj_trans_points(points, \u001b[39mself\u001b[39m\u001b[39m.\u001b[39maxes\u001b[39m.\u001b[39mM)\n\u001b[1;32m    369\u001b[0m                \u001b[39mfor\u001b[39;00m points \u001b[39min\u001b[39;00m \u001b[39mself\u001b[39m\u001b[39m.\u001b[39m_segments3d]\n\u001b[1;32m    370\u001b[0m     segments_2d \u001b[39m=\u001b[39m [np\u001b[39m.\u001b[39mcolumn_stack([xs, ys]) \u001b[39mfor\u001b[39;00m xs, ys, zs \u001b[39min\u001b[39;00m xyslist]\n\u001b[1;32m    371\u001b[0m     LineCollection\u001b[39m.\u001b[39mset_segments(\u001b[39mself\u001b[39m, segments_2d)\n",
      "File \u001b[0;32m~/Anaconda3/envs/motionbert/lib/python3.9/site-packages/mpl_toolkits/mplot3d/art3d.py:368\u001b[0m, in \u001b[0;36m<listcomp>\u001b[0;34m(.0)\u001b[0m\n\u001b[1;32m    364\u001b[0m \u001b[39mdef\u001b[39;00m \u001b[39mdo_3d_projection\u001b[39m(\u001b[39mself\u001b[39m):\n\u001b[1;32m    365\u001b[0m \u001b[39m    \u001b[39m\u001b[39m\"\"\"\u001b[39;00m\n\u001b[1;32m    366\u001b[0m \u001b[39m    Project the points according to renderer matrix.\u001b[39;00m\n\u001b[1;32m    367\u001b[0m \u001b[39m    \"\"\"\u001b[39;00m\n\u001b[0;32m--> 368\u001b[0m     xyslist \u001b[39m=\u001b[39m [proj3d\u001b[39m.\u001b[39;49mproj_trans_points(points, \u001b[39mself\u001b[39;49m\u001b[39m.\u001b[39;49maxes\u001b[39m.\u001b[39;49mM)\n\u001b[1;32m    369\u001b[0m                \u001b[39mfor\u001b[39;00m points \u001b[39min\u001b[39;00m \u001b[39mself\u001b[39m\u001b[39m.\u001b[39m_segments3d]\n\u001b[1;32m    370\u001b[0m     segments_2d \u001b[39m=\u001b[39m [np\u001b[39m.\u001b[39mcolumn_stack([xs, ys]) \u001b[39mfor\u001b[39;00m xs, ys, zs \u001b[39min\u001b[39;00m xyslist]\n\u001b[1;32m    371\u001b[0m     LineCollection\u001b[39m.\u001b[39mset_segments(\u001b[39mself\u001b[39m, segments_2d)\n",
      "File \u001b[0;32m~/Anaconda3/envs/motionbert/lib/python3.9/site-packages/mpl_toolkits/mplot3d/proj3d.py:240\u001b[0m, in \u001b[0;36mproj_trans_points\u001b[0;34m(points, M)\u001b[0m\n\u001b[1;32m    238\u001b[0m \u001b[39mdef\u001b[39;00m \u001b[39mproj_trans_points\u001b[39m(points, M):\n\u001b[1;32m    239\u001b[0m     xs, ys, zs \u001b[39m=\u001b[39m \u001b[39mzip\u001b[39m(\u001b[39m*\u001b[39mpoints)\n\u001b[0;32m--> 240\u001b[0m     \u001b[39mreturn\u001b[39;00m proj_transform(xs, ys, zs, M)\n",
      "File \u001b[0;32m~/Anaconda3/envs/motionbert/lib/python3.9/site-packages/mpl_toolkits/mplot3d/proj3d.py:217\u001b[0m, in \u001b[0;36mproj_transform\u001b[0;34m(xs, ys, zs, M)\u001b[0m\n\u001b[1;32m    213\u001b[0m \u001b[39mdef\u001b[39;00m \u001b[39mproj_transform\u001b[39m(xs, ys, zs, M):\n\u001b[1;32m    214\u001b[0m \u001b[39m    \u001b[39m\u001b[39m\"\"\"\u001b[39;00m\n\u001b[1;32m    215\u001b[0m \u001b[39m    Transform the points by the projection matrix *M*.\u001b[39;00m\n\u001b[1;32m    216\u001b[0m \u001b[39m    \"\"\"\u001b[39;00m\n\u001b[0;32m--> 217\u001b[0m     vec \u001b[39m=\u001b[39m _vec_pad_ones(xs, ys, zs)\n\u001b[1;32m    218\u001b[0m     \u001b[39mreturn\u001b[39;00m _proj_transform_vec(vec, M)\n",
      "File \u001b[0;32m~/Anaconda3/envs/motionbert/lib/python3.9/site-packages/mpl_toolkits/mplot3d/proj3d.py:210\u001b[0m, in \u001b[0;36m_vec_pad_ones\u001b[0;34m(xs, ys, zs)\u001b[0m\n\u001b[1;32m    209\u001b[0m \u001b[39mdef\u001b[39;00m \u001b[39m_vec_pad_ones\u001b[39m(xs, ys, zs):\n\u001b[0;32m--> 210\u001b[0m     \u001b[39mreturn\u001b[39;00m np\u001b[39m.\u001b[39marray([xs, ys, zs, np\u001b[39m.\u001b[39;49mones_like(xs)])\n",
      "File \u001b[0;32m<__array_function__ internals>:180\u001b[0m, in \u001b[0;36mones_like\u001b[0;34m(*args, **kwargs)\u001b[0m\n",
      "File \u001b[0;32m~/Anaconda3/envs/motionbert/lib/python3.9/site-packages/numpy/core/numeric.py:281\u001b[0m, in \u001b[0;36mones_like\u001b[0;34m(a, dtype, order, subok, shape)\u001b[0m\n\u001b[1;32m    220\u001b[0m \u001b[39m\u001b[39m\u001b[39m\"\"\"\u001b[39;00m\n\u001b[1;32m    221\u001b[0m \u001b[39mReturn an array of ones with the same shape and type as a given array.\u001b[39;00m\n\u001b[1;32m    222\u001b[0m \n\u001b[0;32m   (...)\u001b[0m\n\u001b[1;32m    278\u001b[0m \n\u001b[1;32m    279\u001b[0m \u001b[39m\"\"\"\u001b[39;00m\n\u001b[1;32m    280\u001b[0m res \u001b[39m=\u001b[39m empty_like(a, dtype\u001b[39m=\u001b[39mdtype, order\u001b[39m=\u001b[39morder, subok\u001b[39m=\u001b[39msubok, shape\u001b[39m=\u001b[39mshape)\n\u001b[0;32m--> 281\u001b[0m multiarray\u001b[39m.\u001b[39;49mcopyto(res, \u001b[39m1\u001b[39;49m, casting\u001b[39m=\u001b[39;49m\u001b[39m'\u001b[39;49m\u001b[39munsafe\u001b[39;49m\u001b[39m'\u001b[39;49m)\n\u001b[1;32m    282\u001b[0m \u001b[39mreturn\u001b[39;00m res\n",
      "File \u001b[0;32m<__array_function__ internals>:180\u001b[0m, in \u001b[0;36mcopyto\u001b[0;34m(*args, **kwargs)\u001b[0m\n",
      "\u001b[0;31mKeyboardInterrupt\u001b[0m: "
     ]
    },
    {
     "data": {
      "image/png": "[encoded data removed]",
      "text/plain": [
       "<Figure size 1000x1000 with 30 Axes>"
      ]
     },
     "metadata": {},
     "output_type": "display_data"
    }
   ],
   "source": [
    "for f in tqdm(range(vlen)):\n",
    "    j3d = motion[:,:,f] # (17, 3)\n",
    "    fig = plt.figure(0, figsize=(10, 10))\n",
    "    fig.canvas.draw()\n",
    "    ax = plt.axes(projection=\"3d\")\n",
    "    ax.set_xlim(-512, 0)\n",
    "    ax.set_ylim(-256, 256)\n",
    "    ax.set_zlim(-512, 0)\n",
    "    ax.set_xlabel('X')\n",
    "    ax.set_ylabel('Y')\n",
    "    ax.set_zlabel('Z')\n",
    "    ax.view_init(elev=12., azim=f*360.0/vlen)\n",
    "    plt.tick_params(left = False, right = False , labelleft = False ,\n",
    "                    labelbottom = False, bottom = False)\n",
    "    for i in range(len(joint_pairs)):\n",
    "        limb = joint_pairs[i]\n",
    "        xs, ys, zs = [np.array([j3d[limb[0], j], j3d[limb[1], j]]) for j in range(3)]\n",
    "        if joint_pairs[i] in joint_pairs_left:\n",
    "            ax.plot(-xs, -zs, -ys, color=color_left, lw=3, marker='o', markerfacecolor='w', markersize=3, markeredgewidth=2) # axis transformation for visualization\n",
    "        elif joint_pairs[i] in joint_pairs_right:\n",
    "            ax.plot(-xs, -zs, -ys, color=color_right, lw=3, marker='o', markerfacecolor='w', markersize=3, markeredgewidth=2) # axis transformation for visualization\n",
    "        else:\n",
    "            ax.plot(-xs, -zs, -ys, color=color_mid, lw=3, marker='o', markerfacecolor='w', markersize=3, markeredgewidth=2) # axis transformation for visualization\n",
    "    frame_vis = get_img_from_fig(fig)\n",
    "    #videowriter.append_data(frame_vis)\n",
    "#videowriter.close()   "
   ]
  },
  {
   "cell_type": "code",
   "execution_count": null,
   "metadata": {},
   "outputs": [],
   "source": [
    "opts.pixel"
   ]
  },
  {
   "cell_type": "code",
   "execution_count": 108,
   "metadata": {},
   "outputs": [],
   "source": [
    "if opts.pixel:\n",
    "    # Convert to pixel coordinates\n",
    "    results_all = results_all * (min(vid_size) / 2.0)\n",
    "    results_all[:,:,:2] = results_all[:,:,:2] + np.array(vid_size) / 2.0\n",
    "np.save('%s/X3D.npy' % (opts.out_path), results_all)"
   ]
  },
  {
   "cell_type": "code",
   "execution_count": null,
   "metadata": {},
   "outputs": [],
   "source": []
  },
  {
   "cell_type": "code",
   "execution_count": 16,
   "metadata": {},
   "outputs": [],
   "source": [
    "os.chdir(motionbert_root)\n",
    "import numpy as np\n",
    "from lib.utils.vismo import render_and_save"
   ]
  },
  {
   "cell_type": "code",
   "execution_count": 17,
   "metadata": {},
   "outputs": [],
   "source": [
    "video = '30_M160A_3'\n",
    "result_folder = '/home/hrai/codes/MotionBERT/output/MotionBERT_{}'.format(video)\n",
    "results_all = np.load(result_folder + '/MotionBERT_{}.npy'.format(video))"
   ]
  },
  {
   "cell_type": "code",
   "execution_count": 18,
   "metadata": {},
   "outputs": [],
   "source": [
    "motion_input = results_all\n",
    "save_path = '{}/MotionBERT_{}.mp4'.format(result_folder, video)\n",
    "fps=60"
   ]
  },
  {
   "cell_type": "code",
   "execution_count": 19,
   "metadata": {},
   "outputs": [
    {
     "name": "stderr",
     "output_type": "stream",
     "text": [
      "  0%|          | 0/144 [00:00<?, ?it/s]IMAGEIO FFMPEG_WRITER WARNING: input image is not divisible by macro_block_size=16, resizing from (923, 924) to (928, 928) to ensure video compatibility with most codecs and players. To prevent resizing, make your input image divisible by the macro_block_size or set the macro_block_size to 1 (risking incompatibility).\n",
      "  1%|          | 1/144 [00:00<00:32,  4.45it/s][swscaler @ 0x5601a00] Warning: data is not aligned! This can lead to a speed loss\n",
      "100%|██████████| 144/144 [05:09<00:00,  2.15s/it]\n"
     ]
    },
    {
     "data": {
      "image/png": "[encoded data removed]",
      "text/plain": [
       "<Figure size 1000x1000 with 144 Axes>"
      ]
     },
     "metadata": {},
     "output_type": "display_data"
    }
   ],
   "source": [
    "render_and_save(motion_input, save_path, fps)"
   ]
  },
  {
   "cell_type": "code",
   "execution_count": null,
   "metadata": {},
   "outputs": [],
   "source": []
  }
 ],
 "metadata": {
  "kernelspec": {
   "display_name": "motionbert",
   "language": "python",
   "name": "python3"
  },
  "language_info": {
   "codemirror_mode": {
    "name": "ipython",
    "version": 3
   },
   "file_extension": ".py",
   "mimetype": "text/x-python",
   "name": "python",
   "nbconvert_exporter": "python",
   "pygments_lexer": "ipython3",
   "version": "3.9.17"
  },
  "orig_nbformat": 4,
  "vscode": {
   "interpreter": {
    "hash": "996031ba2a0f3c1298a339c0299835a7fe1ef636d9e79358bc474ca43ed2ac18"
   }
  }
 },
 "nbformat": 4,
 "nbformat_minor": 2
}
