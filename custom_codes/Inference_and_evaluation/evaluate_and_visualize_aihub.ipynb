{
 "cells": [
  {
   "cell_type": "code",
   "execution_count": 1,
   "metadata": {},
   "outputs": [],
   "source": [
    "# python train.py \\\n",
    "# --config configs/pose3d/MB_train_h36m.yaml \\\n",
    "# --evaluate checkpoint/pose3d/MB_train_h36m/best_epoch.bin         "
   ]
  },
  {
   "cell_type": "code",
   "execution_count": 2,
   "metadata": {},
   "outputs": [],
   "source": [
    "import getpass\n",
    "user = getpass.getuser()\n",
    "motionbert_root = '/home/{}/codes/MotionBERT'.format(user)"
   ]
  },
  {
   "cell_type": "code",
   "execution_count": 3,
   "metadata": {},
   "outputs": [],
   "source": [
    "import os\n",
    "import numpy as np\n",
    "import argparse\n",
    "import errno\n",
    "import math\n",
    "import pickle\n",
    "import tensorboardX\n",
    "from tqdm import tqdm\n",
    "from time import time\n",
    "import copy\n",
    "import random\n",
    "import prettytable\n",
    "\n",
    "import torch\n",
    "import torch.nn as nn\n",
    "import torch.nn.functional as F\n",
    "import torch.optim as optim\n",
    "from torch.utils.data import DataLoader\n",
    "\n",
    "os.chdir(motionbert_root)\n",
    "\n",
    "from lib.utils.tools import *\n",
    "from lib.utils.learning import *\n",
    "from lib.utils.utils_data import flip_data\n",
    "from lib.data.dataset_motion_2d import PoseTrackDataset2D, InstaVDataset2D\n",
    "from lib.data.dataset_motion_3d import MotionDataset3D\n",
    "from lib.data.augmentation import Augmenter2D\n",
    "from lib.data.datareader_aihub import DataReaderAIHUB\n",
    "from lib.model.loss import *\n",
    "\n",
    "from train import set_random_seed, save_checkpoint"
   ]
  },
  {
   "cell_type": "code",
   "execution_count": 4,
   "metadata": {},
   "outputs": [],
   "source": [
    "config = 'MB_ft_tr_aihub_sport_ts_30'\n",
    "model_name = 'FT-MB_ft_h36m-MB_ft_tr_aihub_sport_ts_30'\n",
    "#model_name = 'MB_train_h36m'"
   ]
  },
  {
   "cell_type": "code",
   "execution_count": 5,
   "metadata": {},
   "outputs": [],
   "source": [
    "import easydict\n",
    "\n",
    "opts = easydict.EasyDict({\n",
    "    \"config\": \"configs/pose3d/{}.yaml\".format(config),\n",
    "    \"checkpoint\": 'checkpoint',\n",
    "    \"pretrained\": 'checkpoint',\n",
    "    \"resume\": '',\n",
    "    \"evaluate\": 'checkpoint/pose3d/{}/best_epoch.bin'.format(model_name),\n",
    "    \"selection\": 'best_epoch.bin',\n",
    "    \"seed\": 0,\n",
    "    })\n",
    "set_random_seed(opts.seed)\n",
    "args = get_config(opts.config)"
   ]
  },
  {
   "cell_type": "code",
   "execution_count": 6,
   "metadata": {},
   "outputs": [],
   "source": [
    "try:\n",
    "    os.makedirs(opts.checkpoint)\n",
    "except OSError as e:\n",
    "    if e.errno != errno.EEXIST:\n",
    "        raise RuntimeError('Unable to create checkpoint directory:', opts.checkpoint)\n",
    "train_writer = tensorboardX.SummaryWriter(os.path.join(opts.checkpoint, \"logs\"))"
   ]
  },
  {
   "cell_type": "code",
   "execution_count": 7,
   "metadata": {},
   "outputs": [
    {
     "data": {
      "text/plain": [
       "16"
      ]
     },
     "execution_count": 7,
     "metadata": {},
     "output_type": "execute_result"
    }
   ],
   "source": [
    "args.batch_size"
   ]
  },
  {
   "cell_type": "code",
   "execution_count": 8,
   "metadata": {},
   "outputs": [
    {
     "data": {
      "text/plain": [
       "['AIHUB_tr_SPORT_ts_30']"
      ]
     },
     "execution_count": 8,
     "metadata": {},
     "output_type": "execute_result"
    }
   ],
   "source": [
    "args.subset_list"
   ]
  },
  {
   "cell_type": "code",
   "execution_count": 9,
   "metadata": {},
   "outputs": [
    {
     "name": "stdout",
     "output_type": "stream",
     "text": [
      "Loading dataset...\n"
     ]
    }
   ],
   "source": [
    "print('Loading dataset...')\n",
    "trainloader_params = {\n",
    "        'batch_size': args.batch_size,\n",
    "        'shuffle': True,\n",
    "        'num_workers': 12,\n",
    "        'pin_memory': True,\n",
    "        'prefetch_factor': 4,\n",
    "        'persistent_workers': True\n",
    "}\n",
    "\n",
    "testloader_params = {\n",
    "        'batch_size': args.batch_size,\n",
    "        'shuffle': False,\n",
    "        'num_workers': 12,\n",
    "        'pin_memory': True,\n",
    "        'prefetch_factor': 4,\n",
    "        'persistent_workers': True\n",
    "}\n",
    "\n",
    "train_dataset = MotionDataset3D(args, args.subset_list, 'train')\n",
    "test_dataset = MotionDataset3D(args, args.subset_list, 'test')\n",
    "train_loader_3d = DataLoader(train_dataset, **trainloader_params)\n",
    "test_loader = DataLoader(test_dataset, **testloader_params)"
   ]
  },
  {
   "cell_type": "code",
   "execution_count": 10,
   "metadata": {},
   "outputs": [],
   "source": [
    "datareader = DataReaderAIHUB(n_frames=args.clip_len, sample_stride=args.sample_stride, data_stride_train=args.data_stride, data_stride_test=args.clip_len, dt_root = 'data/motion3d', dt_file=args.dt_file)"
   ]
  },
  {
   "cell_type": "code",
   "execution_count": 11,
   "metadata": {},
   "outputs": [
    {
     "name": "stdout",
     "output_type": "stream",
     "text": [
      "INFO: Trainable parameter count: 42466317\n"
     ]
    }
   ],
   "source": [
    "min_loss = 100000\n",
    "model_backbone = load_backbone(args)\n",
    "model_params = 0\n",
    "for parameter in model_backbone.parameters():\n",
    "    model_params = model_params + parameter.numel()\n",
    "print('INFO: Trainable parameter count:', model_params)\n",
    "\n",
    "if torch.cuda.is_available():\n",
    "    model_backbone = nn.DataParallel(model_backbone)\n",
    "    model_backbone = model_backbone.cuda()"
   ]
  },
  {
   "cell_type": "code",
   "execution_count": 12,
   "metadata": {},
   "outputs": [
    {
     "data": {
      "text/plain": [
       "(True,\n",
       " '',\n",
       " 'checkpoint/pose3d/FT-MB_ft_h36m-MB_ft_tr_aihub_sport_ts_30/best_epoch.bin')"
      ]
     },
     "execution_count": 12,
     "metadata": {},
     "output_type": "execute_result"
    }
   ],
   "source": [
    "args.finetune, opts.resume, opts.evaluate"
   ]
  },
  {
   "cell_type": "code",
   "execution_count": 13,
   "metadata": {},
   "outputs": [
    {
     "name": "stdout",
     "output_type": "stream",
     "text": [
      "Loading checkpoint checkpoint/pose3d/FT-MB_ft_h36m-MB_ft_tr_aihub_sport_ts_30/best_epoch.bin\n"
     ]
    }
   ],
   "source": [
    "chk_filename = opts.evaluate if opts.evaluate else opts.resume\n",
    "print('Loading checkpoint', chk_filename)\n",
    "checkpoint = torch.load(chk_filename, map_location=lambda storage, loc: storage)\n",
    "model_backbone.load_state_dict(checkpoint['model_pos'], strict=True)\n",
    "model_pos = model_backbone"
   ]
  },
  {
   "cell_type": "code",
   "execution_count": 14,
   "metadata": {},
   "outputs": [],
   "source": [
    "args.partial_train"
   ]
  },
  {
   "cell_type": "code",
   "execution_count": 15,
   "metadata": {},
   "outputs": [
    {
     "data": {
      "text/plain": [
       "'checkpoint/pose3d/FT-MB_ft_h36m-MB_ft_tr_aihub_sport_ts_30/best_epoch.bin'"
      ]
     },
     "execution_count": 15,
     "metadata": {},
     "output_type": "execute_result"
    }
   ],
   "source": [
    "opts.evaluate"
   ]
  },
  {
   "attachments": {},
   "cell_type": "markdown",
   "metadata": {},
   "source": [
    "#### evaluate"
   ]
  },
  {
   "cell_type": "code",
   "execution_count": 16,
   "metadata": {},
   "outputs": [],
   "source": [
    "# args, model_pos, test_loader, datareader"
   ]
  },
  {
   "cell_type": "code",
   "execution_count": 17,
   "metadata": {},
   "outputs": [
    {
     "data": {
      "text/plain": [
       "(False, True, True, False)"
      ]
     },
     "execution_count": 17,
     "metadata": {},
     "output_type": "execute_result"
    }
   ],
   "source": [
    "args.no_conf, args.flip, args.rootrel, args.gt_2d"
   ]
  },
  {
   "cell_type": "code",
   "execution_count": 18,
   "metadata": {},
   "outputs": [],
   "source": [
    "args.flip = True"
   ]
  },
  {
   "cell_type": "code",
   "execution_count": 19,
   "metadata": {},
   "outputs": [
    {
     "data": {
      "text/plain": [
       "True"
      ]
     },
     "execution_count": 19,
     "metadata": {},
     "output_type": "execute_result"
    }
   ],
   "source": [
    "torch.cuda.is_available()"
   ]
  },
  {
   "cell_type": "code",
   "execution_count": 20,
   "metadata": {},
   "outputs": [
    {
     "name": "stderr",
     "output_type": "stream",
     "text": [
      "100%|██████████| 1/1 [00:02<00:00,  2.04s/it]\n"
     ]
    }
   ],
   "source": [
    "results_all = []\n",
    "model_pos.eval()            \n",
    "with torch.no_grad():\n",
    "    for batch_input, batch_gt in tqdm(test_loader):\n",
    "        N, T = batch_gt.shape[:2] # B, N\n",
    "        if torch.cuda.is_available():\n",
    "            batch_input = batch_input.cuda()\n",
    "        if args.flip:    \n",
    "            batch_input_flip = flip_data(batch_input)\n",
    "            predicted_3d_pos_1 = model_pos(batch_input)\n",
    "            predicted_3d_pos_flip = model_pos(batch_input_flip)\n",
    "            predicted_3d_pos_2 = flip_data(predicted_3d_pos_flip)                   # Flip back\n",
    "            predicted_3d_pos = (predicted_3d_pos_1+predicted_3d_pos_2) / 2\n",
    "        else:\n",
    "            predicted_3d_pos = model_pos(batch_input)\n",
    "        results_all.append(predicted_3d_pos.cpu().numpy())\n",
    "results_all = np.concatenate(results_all)\n",
    "results_all = datareader.denormalize(results_all)"
   ]
  },
  {
   "cell_type": "code",
   "execution_count": 21,
   "metadata": {},
   "outputs": [
    {
     "data": {
      "text/plain": [
       "(11, 243, 17, 3)"
      ]
     },
     "execution_count": 21,
     "metadata": {},
     "output_type": "execute_result"
    }
   ],
   "source": [
    "results_all.shape"
   ]
  },
  {
   "cell_type": "code",
   "execution_count": 22,
   "metadata": {},
   "outputs": [],
   "source": [
    "np.save('custom_codes/Inference_and_evaluation/{}_result_denormalized.npy'.format(model_name), results_all)"
   ]
  },
  {
   "cell_type": "code",
   "execution_count": 23,
   "metadata": {},
   "outputs": [],
   "source": [
    "results_all = np.load('custom_codes/Inference_and_evaluation/{}_result_denormalized.npy'.format(model_name))\n",
    "\n",
    "_, split_id_test = datareader.get_split_id()\n",
    "actions = np.array(datareader.dt_dataset['test']['action'])\n",
    "factors = np.array(datareader.dt_dataset['test']['2.5d_factor'])\n",
    "gts = np.array(datareader.dt_dataset['test']['joints_2.5d_image'])\n",
    "sources = np.array(datareader.dt_dataset['test']['source'])\n",
    "\n",
    "num_test_frames = len(actions)\n",
    "frames = np.array(range(num_test_frames))\n",
    "action_clips = np.array([actions[split_id_test[i]] for i in range(len(split_id_test))]) # actions[split_id_test]\n",
    "factor_clips = np.array([factors[split_id_test[i]] for i in range(len(split_id_test))]) # factors[split_id_test]\n",
    "source_clips = np.array([sources[split_id_test[i]] for i in range(len(split_id_test))]) # sources[split_id_test]\n",
    "frame_clips = np.array([frames[split_id_test[i]] for i in range(len(split_id_test))]) # frames[split_id_test]\n",
    "gt_clips = np.array([gts[split_id_test[i]] for i in range(len(split_id_test))]) # gts[split_id_test]\n",
    "assert len(results_all)==len(action_clips)\n",
    "\n",
    "e1_all = np.zeros(num_test_frames)\n",
    "e2_all = np.zeros(num_test_frames)\n",
    "oc = np.zeros(num_test_frames)\n",
    "action_names = sorted(set(datareader.dt_dataset['test']['action']))\n",
    "block_list = ['s_09_act_05_subact_02', \n",
    "                's_09_act_10_subact_02', \n",
    "                's_09_act_13_subact_01']\n",
    "\n",
    "for idx in range(len(action_clips)):\n",
    "    source = source_clips[idx][0]\n",
    "    if source in block_list:\n",
    "        continue\n",
    "    frame_list = frame_clips[idx] # numpy.ndarray\n",
    "    action = action_clips[idx][0]\n",
    "    factor = factor_clips[idx][:,None,None]\n",
    "    gt = gt_clips[idx]\n",
    "    pred = copy.deepcopy(results_all[idx])\n",
    "    pred *= factor\n",
    "    \n",
    "    # Root-relative Errors\n",
    "    pred = pred - pred[:,0:1,:] # (243, 17, 3)\n",
    "    gt = gt - gt[:,0:1,:] # (243, 17, 3)\n",
    "    err1 = mpjpe(pred, gt) # (243,)\n",
    "    err2 = p_mpjpe(pred, gt) # (243,)\n",
    "    e1_all[frame_list] += err1 # numpy.ndarray를 인덱스로 사용 가능\n",
    "    e2_all[frame_list] += err2\n",
    "    oc[frame_list] += 1 # 프레임별 카운팅"
   ]
  },
  {
   "cell_type": "code",
   "execution_count": 24,
   "metadata": {},
   "outputs": [
    {
     "name": "stdout",
     "output_type": "stream",
     "text": [
      "+-----------+--------------------+\n",
      "| test_name |         30         |\n",
      "+-----------+--------------------+\n",
      "|     P1    | 67.40624741414243  |\n",
      "|     P2    | 46.555171046777424 |\n",
      "+-----------+--------------------+\n",
      "Protocol #1 Error (MPJPE): 67.40624741414243 mm\n",
      "Protocol #2 Error (P-MPJPE): 46.555171046777424 mm\n",
      "----------\n"
     ]
    }
   ],
   "source": [
    "results = {}\n",
    "results_procrustes = {}\n",
    "\n",
    "for action in action_names:\n",
    "    results[action] = []\n",
    "    results_procrustes[action] = []\n",
    "\n",
    "for idx in range(num_test_frames):\n",
    "    if e1_all[idx] > 0:\n",
    "        err1 = e1_all[idx] / oc[idx]\n",
    "        err2 = e2_all[idx] / oc[idx]\n",
    "        action = actions[idx]\n",
    "        results[action].append(err1)\n",
    "        results_procrustes[action].append(err2)\n",
    "\n",
    "final_result = []\n",
    "final_result_procrustes = []\n",
    "summary_table = prettytable.PrettyTable()\n",
    "summary_table.field_names = ['test_name'] + action_names\n",
    "for action in action_names:\n",
    "    final_result.append(np.mean(results[action]))\n",
    "    final_result_procrustes.append(np.mean(results_procrustes[action]))\n",
    "summary_table.add_row(['P1'] + final_result)\n",
    "summary_table.add_row(['P2'] + final_result_procrustes)\n",
    "print(summary_table)\n",
    "e1 = np.mean(np.array(final_result))\n",
    "e2 = np.mean(np.array(final_result_procrustes))\n",
    "print('Protocol #1 Error (MPJPE):', e1, 'mm')\n",
    "print('Protocol #2 Error (P-MPJPE):', e2, 'mm')\n",
    "print('----------')"
   ]
  },
  {
   "cell_type": "markdown",
   "metadata": {},
   "source": [
    "### Visualization"
   ]
  },
  {
   "cell_type": "code",
   "execution_count": 25,
   "metadata": {},
   "outputs": [],
   "source": [
    "import matplotlib\n",
    "import matplotlib.pyplot as plt\n",
    "from mpl_toolkits.mplot3d import Axes3D\n",
    "import matplotlib.gridspec as gridspec\n",
    "from custom_codes.test_utils import *\n",
    "\n",
    "plt.switch_backend('TkAgg')\n",
    "matplotlib.rcParams['pdf.fonttype'] = 42\n",
    "matplotlib.rcParams['ps.fonttype'] = 42"
   ]
  },
  {
   "cell_type": "code",
   "execution_count": 26,
   "metadata": {},
   "outputs": [
    {
     "data": {
      "text/plain": [
       "((243, 17, 3), (243, 17, 3))"
      ]
     },
     "execution_count": 26,
     "metadata": {},
     "output_type": "execute_result"
    }
   ],
   "source": [
    "pred.shape, gt.shape"
   ]
  },
  {
   "cell_type": "code",
   "execution_count": 27,
   "metadata": {},
   "outputs": [
    {
     "data": {
      "text/plain": [
       "(17, 3)"
      ]
     },
     "execution_count": 27,
     "metadata": {},
     "output_type": "execute_result"
    }
   ],
   "source": [
    "pred[0].shape"
   ]
  },
  {
   "cell_type": "code",
   "execution_count": 28,
   "metadata": {},
   "outputs": [],
   "source": [
    "frame = 200\n",
    "visualize_3d_pose([pred[frame], gt[frame]])"
   ]
  },
  {
   "cell_type": "code",
   "execution_count": 29,
   "metadata": {},
   "outputs": [
    {
     "data": {
      "text/plain": [
       "((11, 243), (11, 243))"
      ]
     },
     "execution_count": 29,
     "metadata": {},
     "output_type": "execute_result"
    }
   ],
   "source": [
    "source_clips.shape, frame_clips.shape"
   ]
  },
  {
   "cell_type": "code",
   "execution_count": 30,
   "metadata": {},
   "outputs": [
    {
     "data": {
      "text/plain": [
       "('res_30_F170D_5', 3142)"
      ]
     },
     "execution_count": 30,
     "metadata": {},
     "output_type": "execute_result"
    }
   ],
   "source": [
    "source_clips[-1][frame], frame_clips[-1][frame]"
   ]
  },
  {
   "cell_type": "markdown",
   "metadata": {},
   "source": [
    "### Visualize one clip"
   ]
  },
  {
   "cell_type": "code",
   "execution_count": 31,
   "metadata": {},
   "outputs": [],
   "source": [
    "# AIHUB_tr_SPORT_ts_30/test/00000010.pkl\n",
    "idx = 10\n",
    "factor = factor_clips[idx][:,None,None]\n",
    "gt = copy.deepcopy(gt_clips[idx])\n",
    "pred = copy.deepcopy(results_all[idx])\n",
    "gt /= factor\n",
    "pred = pred - pred[:,0:1,:] # (243, 17, 3)\n",
    "gt = gt - gt[:,0:1,:] # (243, 17, 3)"
   ]
  },
  {
   "cell_type": "markdown",
   "metadata": {},
   "source": [
    "#### save frames"
   ]
  },
  {
   "cell_type": "code",
   "execution_count": 37,
   "metadata": {},
   "outputs": [
    {
     "name": "stderr",
     "output_type": "stream",
     "text": [
      "100%|██████████| 243/243 [00:59<00:00,  4.10it/s]\n"
     ]
    }
   ],
   "source": [
    "xlim=(-512, 512)\n",
    "ylim=(-512, 512)\n",
    "zlim=(-512, 512)\n",
    "fig = plt.figure(0, figsize=(10, 10))\n",
    "ax = plt.axes(projection=\"3d\")\n",
    "ax.set_xlim(xlim)\n",
    "ax.set_ylim(ylim)\n",
    "ax.set_zlim(zlim)\n",
    "ax.set_xlabel('X')\n",
    "ax.set_ylabel('Y')\n",
    "ax.set_zlabel('Z')\n",
    "for i in tqdm(range(pred.shape[0])):\n",
    "    _ax = copy.deepcopy(ax)\n",
    "    _ax.view_init(elev=12., azim=80+i)\n",
    "    visualize_multiple_3d_pose([pred[i], gt[i]], _ax, save=True, save_path='./custom_codes/Inference_and_evaluation/{}_idx{}_result'.format(model_name, idx), name='{}.jpg'.format(i), i=i)"
   ]
  },
  {
   "cell_type": "markdown",
   "metadata": {},
   "source": [
    "#### make the video"
   ]
  },
  {
   "cell_type": "code",
   "execution_count": 49,
   "metadata": {},
   "outputs": [
    {
     "name": "stdout",
     "output_type": "stream",
     "text": [
      "./custom_codes/Inference_and_evaluation/FT-MB_ft_h36m-MB_ft_tr_aihub_sport_ts_30_idx10_result/0.jpg\n"
     ]
    },
    {
     "name": "stderr",
     "output_type": "stream",
     "text": [
      "IMAGEIO FFMPEG_WRITER WARNING: input image is not divisible by macro_block_size=16, resizing from (1000, 1000) to (1008, 1008) to ensure video compatibility with most codecs and players. To prevent resizing, make your input image divisible by the macro_block_size or set the macro_block_size to 1 (risking incompatibility).\n"
     ]
    },
    {
     "name": "stdout",
     "output_type": "stream",
     "text": [
      "./custom_codes/Inference_and_evaluation/FT-MB_ft_h36m-MB_ft_tr_aihub_sport_ts_30_idx10_result/1.jpg\n",
      "./custom_codes/Inference_and_evaluation/FT-MB_ft_h36m-MB_ft_tr_aihub_sport_ts_30_idx10_result/2.jpg\n",
      "./custom_codes/Inference_and_evaluation/FT-MB_ft_h36m-MB_ft_tr_aihub_sport_ts_30_idx10_result/3.jpg\n",
      "./custom_codes/Inference_and_evaluation/FT-MB_ft_h36m-MB_ft_tr_aihub_sport_ts_30_idx10_result/4.jpg\n",
      "./custom_codes/Inference_and_evaluation/FT-MB_ft_h36m-MB_ft_tr_aihub_sport_ts_30_idx10_result/5.jpg\n",
      "./custom_codes/Inference_and_evaluation/FT-MB_ft_h36m-MB_ft_tr_aihub_sport_ts_30_idx10_result/6.jpg\n",
      "./custom_codes/Inference_and_evaluation/FT-MB_ft_h36m-MB_ft_tr_aihub_sport_ts_30_idx10_result/7.jpg\n",
      "./custom_codes/Inference_and_evaluation/FT-MB_ft_h36m-MB_ft_tr_aihub_sport_ts_30_idx10_result/8.jpg\n",
      "./custom_codes/Inference_and_evaluation/FT-MB_ft_h36m-MB_ft_tr_aihub_sport_ts_30_idx10_result/9.jpg\n",
      "./custom_codes/Inference_and_evaluation/FT-MB_ft_h36m-MB_ft_tr_aihub_sport_ts_30_idx10_result/10.jpg\n",
      "./custom_codes/Inference_and_evaluation/FT-MB_ft_h36m-MB_ft_tr_aihub_sport_ts_30_idx10_result/11.jpg\n",
      "./custom_codes/Inference_and_evaluation/FT-MB_ft_h36m-MB_ft_tr_aihub_sport_ts_30_idx10_result/12.jpg\n",
      "./custom_codes/Inference_and_evaluation/FT-MB_ft_h36m-MB_ft_tr_aihub_sport_ts_30_idx10_result/13.jpg\n",
      "./custom_codes/Inference_and_evaluation/FT-MB_ft_h36m-MB_ft_tr_aihub_sport_ts_30_idx10_result/14.jpg\n",
      "./custom_codes/Inference_and_evaluation/FT-MB_ft_h36m-MB_ft_tr_aihub_sport_ts_30_idx10_result/15.jpg\n",
      "./custom_codes/Inference_and_evaluation/FT-MB_ft_h36m-MB_ft_tr_aihub_sport_ts_30_idx10_result/16.jpg\n",
      "./custom_codes/Inference_and_evaluation/FT-MB_ft_h36m-MB_ft_tr_aihub_sport_ts_30_idx10_result/17.jpg\n",
      "./custom_codes/Inference_and_evaluation/FT-MB_ft_h36m-MB_ft_tr_aihub_sport_ts_30_idx10_result/18.jpg\n",
      "./custom_codes/Inference_and_evaluation/FT-MB_ft_h36m-MB_ft_tr_aihub_sport_ts_30_idx10_result/19.jpg\n",
      "./custom_codes/Inference_and_evaluation/FT-MB_ft_h36m-MB_ft_tr_aihub_sport_ts_30_idx10_result/20.jpg\n",
      "./custom_codes/Inference_and_evaluation/FT-MB_ft_h36m-MB_ft_tr_aihub_sport_ts_30_idx10_result/21.jpg\n",
      "./custom_codes/Inference_and_evaluation/FT-MB_ft_h36m-MB_ft_tr_aihub_sport_ts_30_idx10_result/22.jpg\n",
      "./custom_codes/Inference_and_evaluation/FT-MB_ft_h36m-MB_ft_tr_aihub_sport_ts_30_idx10_result/23.jpg\n",
      "./custom_codes/Inference_and_evaluation/FT-MB_ft_h36m-MB_ft_tr_aihub_sport_ts_30_idx10_result/24.jpg\n",
      "./custom_codes/Inference_and_evaluation/FT-MB_ft_h36m-MB_ft_tr_aihub_sport_ts_30_idx10_result/25.jpg\n",
      "./custom_codes/Inference_and_evaluation/FT-MB_ft_h36m-MB_ft_tr_aihub_sport_ts_30_idx10_result/26.jpg\n",
      "./custom_codes/Inference_and_evaluation/FT-MB_ft_h36m-MB_ft_tr_aihub_sport_ts_30_idx10_result/27.jpg\n",
      "./custom_codes/Inference_and_evaluation/FT-MB_ft_h36m-MB_ft_tr_aihub_sport_ts_30_idx10_result/28.jpg\n",
      "./custom_codes/Inference_and_evaluation/FT-MB_ft_h36m-MB_ft_tr_aihub_sport_ts_30_idx10_result/29.jpg\n",
      "./custom_codes/Inference_and_evaluation/FT-MB_ft_h36m-MB_ft_tr_aihub_sport_ts_30_idx10_result/30.jpg\n",
      "./custom_codes/Inference_and_evaluation/FT-MB_ft_h36m-MB_ft_tr_aihub_sport_ts_30_idx10_result/31.jpg\n",
      "./custom_codes/Inference_and_evaluation/FT-MB_ft_h36m-MB_ft_tr_aihub_sport_ts_30_idx10_result/32.jpg\n",
      "./custom_codes/Inference_and_evaluation/FT-MB_ft_h36m-MB_ft_tr_aihub_sport_ts_30_idx10_result/33.jpg\n",
      "./custom_codes/Inference_and_evaluation/FT-MB_ft_h36m-MB_ft_tr_aihub_sport_ts_30_idx10_result/34.jpg\n",
      "./custom_codes/Inference_and_evaluation/FT-MB_ft_h36m-MB_ft_tr_aihub_sport_ts_30_idx10_result/35.jpg\n",
      "./custom_codes/Inference_and_evaluation/FT-MB_ft_h36m-MB_ft_tr_aihub_sport_ts_30_idx10_result/36.jpg\n",
      "./custom_codes/Inference_and_evaluation/FT-MB_ft_h36m-MB_ft_tr_aihub_sport_ts_30_idx10_result/37.jpg\n",
      "./custom_codes/Inference_and_evaluation/FT-MB_ft_h36m-MB_ft_tr_aihub_sport_ts_30_idx10_result/38.jpg\n",
      "./custom_codes/Inference_and_evaluation/FT-MB_ft_h36m-MB_ft_tr_aihub_sport_ts_30_idx10_result/39.jpg\n",
      "./custom_codes/Inference_and_evaluation/FT-MB_ft_h36m-MB_ft_tr_aihub_sport_ts_30_idx10_result/40.jpg\n",
      "./custom_codes/Inference_and_evaluation/FT-MB_ft_h36m-MB_ft_tr_aihub_sport_ts_30_idx10_result/41.jpg\n",
      "./custom_codes/Inference_and_evaluation/FT-MB_ft_h36m-MB_ft_tr_aihub_sport_ts_30_idx10_result/42.jpg\n",
      "./custom_codes/Inference_and_evaluation/FT-MB_ft_h36m-MB_ft_tr_aihub_sport_ts_30_idx10_result/43.jpg\n",
      "./custom_codes/Inference_and_evaluation/FT-MB_ft_h36m-MB_ft_tr_aihub_sport_ts_30_idx10_result/44.jpg\n",
      "./custom_codes/Inference_and_evaluation/FT-MB_ft_h36m-MB_ft_tr_aihub_sport_ts_30_idx10_result/45.jpg\n",
      "./custom_codes/Inference_and_evaluation/FT-MB_ft_h36m-MB_ft_tr_aihub_sport_ts_30_idx10_result/46.jpg\n",
      "./custom_codes/Inference_and_evaluation/FT-MB_ft_h36m-MB_ft_tr_aihub_sport_ts_30_idx10_result/47.jpg\n",
      "./custom_codes/Inference_and_evaluation/FT-MB_ft_h36m-MB_ft_tr_aihub_sport_ts_30_idx10_result/48.jpg\n",
      "./custom_codes/Inference_and_evaluation/FT-MB_ft_h36m-MB_ft_tr_aihub_sport_ts_30_idx10_result/49.jpg\n",
      "./custom_codes/Inference_and_evaluation/FT-MB_ft_h36m-MB_ft_tr_aihub_sport_ts_30_idx10_result/50.jpg\n",
      "./custom_codes/Inference_and_evaluation/FT-MB_ft_h36m-MB_ft_tr_aihub_sport_ts_30_idx10_result/51.jpg\n",
      "./custom_codes/Inference_and_evaluation/FT-MB_ft_h36m-MB_ft_tr_aihub_sport_ts_30_idx10_result/52.jpg\n",
      "./custom_codes/Inference_and_evaluation/FT-MB_ft_h36m-MB_ft_tr_aihub_sport_ts_30_idx10_result/53.jpg\n",
      "./custom_codes/Inference_and_evaluation/FT-MB_ft_h36m-MB_ft_tr_aihub_sport_ts_30_idx10_result/54.jpg\n",
      "./custom_codes/Inference_and_evaluation/FT-MB_ft_h36m-MB_ft_tr_aihub_sport_ts_30_idx10_result/55.jpg\n",
      "./custom_codes/Inference_and_evaluation/FT-MB_ft_h36m-MB_ft_tr_aihub_sport_ts_30_idx10_result/56.jpg\n",
      "./custom_codes/Inference_and_evaluation/FT-MB_ft_h36m-MB_ft_tr_aihub_sport_ts_30_idx10_result/57.jpg\n",
      "./custom_codes/Inference_and_evaluation/FT-MB_ft_h36m-MB_ft_tr_aihub_sport_ts_30_idx10_result/58.jpg\n",
      "./custom_codes/Inference_and_evaluation/FT-MB_ft_h36m-MB_ft_tr_aihub_sport_ts_30_idx10_result/59.jpg\n",
      "./custom_codes/Inference_and_evaluation/FT-MB_ft_h36m-MB_ft_tr_aihub_sport_ts_30_idx10_result/60.jpg\n",
      "./custom_codes/Inference_and_evaluation/FT-MB_ft_h36m-MB_ft_tr_aihub_sport_ts_30_idx10_result/61.jpg\n",
      "./custom_codes/Inference_and_evaluation/FT-MB_ft_h36m-MB_ft_tr_aihub_sport_ts_30_idx10_result/62.jpg\n",
      "./custom_codes/Inference_and_evaluation/FT-MB_ft_h36m-MB_ft_tr_aihub_sport_ts_30_idx10_result/63.jpg\n",
      "./custom_codes/Inference_and_evaluation/FT-MB_ft_h36m-MB_ft_tr_aihub_sport_ts_30_idx10_result/64.jpg\n",
      "./custom_codes/Inference_and_evaluation/FT-MB_ft_h36m-MB_ft_tr_aihub_sport_ts_30_idx10_result/65.jpg\n",
      "./custom_codes/Inference_and_evaluation/FT-MB_ft_h36m-MB_ft_tr_aihub_sport_ts_30_idx10_result/66.jpg\n",
      "./custom_codes/Inference_and_evaluation/FT-MB_ft_h36m-MB_ft_tr_aihub_sport_ts_30_idx10_result/67.jpg\n",
      "./custom_codes/Inference_and_evaluation/FT-MB_ft_h36m-MB_ft_tr_aihub_sport_ts_30_idx10_result/68.jpg\n",
      "./custom_codes/Inference_and_evaluation/FT-MB_ft_h36m-MB_ft_tr_aihub_sport_ts_30_idx10_result/69.jpg\n",
      "./custom_codes/Inference_and_evaluation/FT-MB_ft_h36m-MB_ft_tr_aihub_sport_ts_30_idx10_result/70.jpg\n",
      "./custom_codes/Inference_and_evaluation/FT-MB_ft_h36m-MB_ft_tr_aihub_sport_ts_30_idx10_result/71.jpg\n",
      "./custom_codes/Inference_and_evaluation/FT-MB_ft_h36m-MB_ft_tr_aihub_sport_ts_30_idx10_result/72.jpg\n",
      "./custom_codes/Inference_and_evaluation/FT-MB_ft_h36m-MB_ft_tr_aihub_sport_ts_30_idx10_result/73.jpg\n",
      "./custom_codes/Inference_and_evaluation/FT-MB_ft_h36m-MB_ft_tr_aihub_sport_ts_30_idx10_result/74.jpg\n",
      "./custom_codes/Inference_and_evaluation/FT-MB_ft_h36m-MB_ft_tr_aihub_sport_ts_30_idx10_result/75.jpg\n",
      "./custom_codes/Inference_and_evaluation/FT-MB_ft_h36m-MB_ft_tr_aihub_sport_ts_30_idx10_result/76.jpg\n",
      "./custom_codes/Inference_and_evaluation/FT-MB_ft_h36m-MB_ft_tr_aihub_sport_ts_30_idx10_result/77.jpg\n",
      "./custom_codes/Inference_and_evaluation/FT-MB_ft_h36m-MB_ft_tr_aihub_sport_ts_30_idx10_result/78.jpg\n",
      "./custom_codes/Inference_and_evaluation/FT-MB_ft_h36m-MB_ft_tr_aihub_sport_ts_30_idx10_result/79.jpg\n",
      "./custom_codes/Inference_and_evaluation/FT-MB_ft_h36m-MB_ft_tr_aihub_sport_ts_30_idx10_result/80.jpg\n",
      "./custom_codes/Inference_and_evaluation/FT-MB_ft_h36m-MB_ft_tr_aihub_sport_ts_30_idx10_result/81.jpg\n",
      "./custom_codes/Inference_and_evaluation/FT-MB_ft_h36m-MB_ft_tr_aihub_sport_ts_30_idx10_result/82.jpg\n",
      "./custom_codes/Inference_and_evaluation/FT-MB_ft_h36m-MB_ft_tr_aihub_sport_ts_30_idx10_result/83.jpg\n",
      "./custom_codes/Inference_and_evaluation/FT-MB_ft_h36m-MB_ft_tr_aihub_sport_ts_30_idx10_result/84.jpg\n",
      "./custom_codes/Inference_and_evaluation/FT-MB_ft_h36m-MB_ft_tr_aihub_sport_ts_30_idx10_result/85.jpg\n",
      "./custom_codes/Inference_and_evaluation/FT-MB_ft_h36m-MB_ft_tr_aihub_sport_ts_30_idx10_result/86.jpg\n",
      "./custom_codes/Inference_and_evaluation/FT-MB_ft_h36m-MB_ft_tr_aihub_sport_ts_30_idx10_result/87.jpg\n",
      "./custom_codes/Inference_and_evaluation/FT-MB_ft_h36m-MB_ft_tr_aihub_sport_ts_30_idx10_result/88.jpg\n",
      "./custom_codes/Inference_and_evaluation/FT-MB_ft_h36m-MB_ft_tr_aihub_sport_ts_30_idx10_result/89.jpg\n",
      "./custom_codes/Inference_and_evaluation/FT-MB_ft_h36m-MB_ft_tr_aihub_sport_ts_30_idx10_result/90.jpg\n",
      "./custom_codes/Inference_and_evaluation/FT-MB_ft_h36m-MB_ft_tr_aihub_sport_ts_30_idx10_result/91.jpg\n",
      "./custom_codes/Inference_and_evaluation/FT-MB_ft_h36m-MB_ft_tr_aihub_sport_ts_30_idx10_result/92.jpg\n",
      "./custom_codes/Inference_and_evaluation/FT-MB_ft_h36m-MB_ft_tr_aihub_sport_ts_30_idx10_result/93.jpg\n",
      "./custom_codes/Inference_and_evaluation/FT-MB_ft_h36m-MB_ft_tr_aihub_sport_ts_30_idx10_result/94.jpg\n",
      "./custom_codes/Inference_and_evaluation/FT-MB_ft_h36m-MB_ft_tr_aihub_sport_ts_30_idx10_result/95.jpg\n",
      "./custom_codes/Inference_and_evaluation/FT-MB_ft_h36m-MB_ft_tr_aihub_sport_ts_30_idx10_result/96.jpg\n",
      "./custom_codes/Inference_and_evaluation/FT-MB_ft_h36m-MB_ft_tr_aihub_sport_ts_30_idx10_result/97.jpg\n",
      "./custom_codes/Inference_and_evaluation/FT-MB_ft_h36m-MB_ft_tr_aihub_sport_ts_30_idx10_result/98.jpg\n",
      "./custom_codes/Inference_and_evaluation/FT-MB_ft_h36m-MB_ft_tr_aihub_sport_ts_30_idx10_result/99.jpg\n",
      "./custom_codes/Inference_and_evaluation/FT-MB_ft_h36m-MB_ft_tr_aihub_sport_ts_30_idx10_result/100.jpg\n",
      "./custom_codes/Inference_and_evaluation/FT-MB_ft_h36m-MB_ft_tr_aihub_sport_ts_30_idx10_result/101.jpg\n",
      "./custom_codes/Inference_and_evaluation/FT-MB_ft_h36m-MB_ft_tr_aihub_sport_ts_30_idx10_result/102.jpg\n",
      "./custom_codes/Inference_and_evaluation/FT-MB_ft_h36m-MB_ft_tr_aihub_sport_ts_30_idx10_result/103.jpg\n",
      "./custom_codes/Inference_and_evaluation/FT-MB_ft_h36m-MB_ft_tr_aihub_sport_ts_30_idx10_result/104.jpg\n",
      "./custom_codes/Inference_and_evaluation/FT-MB_ft_h36m-MB_ft_tr_aihub_sport_ts_30_idx10_result/105.jpg\n",
      "./custom_codes/Inference_and_evaluation/FT-MB_ft_h36m-MB_ft_tr_aihub_sport_ts_30_idx10_result/106.jpg\n",
      "./custom_codes/Inference_and_evaluation/FT-MB_ft_h36m-MB_ft_tr_aihub_sport_ts_30_idx10_result/107.jpg\n",
      "./custom_codes/Inference_and_evaluation/FT-MB_ft_h36m-MB_ft_tr_aihub_sport_ts_30_idx10_result/108.jpg\n",
      "./custom_codes/Inference_and_evaluation/FT-MB_ft_h36m-MB_ft_tr_aihub_sport_ts_30_idx10_result/109.jpg\n",
      "./custom_codes/Inference_and_evaluation/FT-MB_ft_h36m-MB_ft_tr_aihub_sport_ts_30_idx10_result/110.jpg\n",
      "./custom_codes/Inference_and_evaluation/FT-MB_ft_h36m-MB_ft_tr_aihub_sport_ts_30_idx10_result/111.jpg\n",
      "./custom_codes/Inference_and_evaluation/FT-MB_ft_h36m-MB_ft_tr_aihub_sport_ts_30_idx10_result/112.jpg\n",
      "./custom_codes/Inference_and_evaluation/FT-MB_ft_h36m-MB_ft_tr_aihub_sport_ts_30_idx10_result/113.jpg\n",
      "./custom_codes/Inference_and_evaluation/FT-MB_ft_h36m-MB_ft_tr_aihub_sport_ts_30_idx10_result/114.jpg\n",
      "./custom_codes/Inference_and_evaluation/FT-MB_ft_h36m-MB_ft_tr_aihub_sport_ts_30_idx10_result/115.jpg\n",
      "./custom_codes/Inference_and_evaluation/FT-MB_ft_h36m-MB_ft_tr_aihub_sport_ts_30_idx10_result/116.jpg\n",
      "./custom_codes/Inference_and_evaluation/FT-MB_ft_h36m-MB_ft_tr_aihub_sport_ts_30_idx10_result/117.jpg\n",
      "./custom_codes/Inference_and_evaluation/FT-MB_ft_h36m-MB_ft_tr_aihub_sport_ts_30_idx10_result/118.jpg\n",
      "./custom_codes/Inference_and_evaluation/FT-MB_ft_h36m-MB_ft_tr_aihub_sport_ts_30_idx10_result/119.jpg\n",
      "./custom_codes/Inference_and_evaluation/FT-MB_ft_h36m-MB_ft_tr_aihub_sport_ts_30_idx10_result/120.jpg\n",
      "./custom_codes/Inference_and_evaluation/FT-MB_ft_h36m-MB_ft_tr_aihub_sport_ts_30_idx10_result/121.jpg\n",
      "./custom_codes/Inference_and_evaluation/FT-MB_ft_h36m-MB_ft_tr_aihub_sport_ts_30_idx10_result/122.jpg\n",
      "./custom_codes/Inference_and_evaluation/FT-MB_ft_h36m-MB_ft_tr_aihub_sport_ts_30_idx10_result/123.jpg\n",
      "./custom_codes/Inference_and_evaluation/FT-MB_ft_h36m-MB_ft_tr_aihub_sport_ts_30_idx10_result/124.jpg\n",
      "./custom_codes/Inference_and_evaluation/FT-MB_ft_h36m-MB_ft_tr_aihub_sport_ts_30_idx10_result/125.jpg\n",
      "./custom_codes/Inference_and_evaluation/FT-MB_ft_h36m-MB_ft_tr_aihub_sport_ts_30_idx10_result/126.jpg\n",
      "./custom_codes/Inference_and_evaluation/FT-MB_ft_h36m-MB_ft_tr_aihub_sport_ts_30_idx10_result/127.jpg\n",
      "./custom_codes/Inference_and_evaluation/FT-MB_ft_h36m-MB_ft_tr_aihub_sport_ts_30_idx10_result/128.jpg\n",
      "./custom_codes/Inference_and_evaluation/FT-MB_ft_h36m-MB_ft_tr_aihub_sport_ts_30_idx10_result/129.jpg\n",
      "./custom_codes/Inference_and_evaluation/FT-MB_ft_h36m-MB_ft_tr_aihub_sport_ts_30_idx10_result/130.jpg\n",
      "./custom_codes/Inference_and_evaluation/FT-MB_ft_h36m-MB_ft_tr_aihub_sport_ts_30_idx10_result/131.jpg\n",
      "./custom_codes/Inference_and_evaluation/FT-MB_ft_h36m-MB_ft_tr_aihub_sport_ts_30_idx10_result/132.jpg\n",
      "./custom_codes/Inference_and_evaluation/FT-MB_ft_h36m-MB_ft_tr_aihub_sport_ts_30_idx10_result/133.jpg\n",
      "./custom_codes/Inference_and_evaluation/FT-MB_ft_h36m-MB_ft_tr_aihub_sport_ts_30_idx10_result/134.jpg\n",
      "./custom_codes/Inference_and_evaluation/FT-MB_ft_h36m-MB_ft_tr_aihub_sport_ts_30_idx10_result/135.jpg\n",
      "./custom_codes/Inference_and_evaluation/FT-MB_ft_h36m-MB_ft_tr_aihub_sport_ts_30_idx10_result/136.jpg\n",
      "./custom_codes/Inference_and_evaluation/FT-MB_ft_h36m-MB_ft_tr_aihub_sport_ts_30_idx10_result/137.jpg\n",
      "./custom_codes/Inference_and_evaluation/FT-MB_ft_h36m-MB_ft_tr_aihub_sport_ts_30_idx10_result/138.jpg\n",
      "./custom_codes/Inference_and_evaluation/FT-MB_ft_h36m-MB_ft_tr_aihub_sport_ts_30_idx10_result/139.jpg\n",
      "./custom_codes/Inference_and_evaluation/FT-MB_ft_h36m-MB_ft_tr_aihub_sport_ts_30_idx10_result/140.jpg\n",
      "./custom_codes/Inference_and_evaluation/FT-MB_ft_h36m-MB_ft_tr_aihub_sport_ts_30_idx10_result/141.jpg\n",
      "./custom_codes/Inference_and_evaluation/FT-MB_ft_h36m-MB_ft_tr_aihub_sport_ts_30_idx10_result/142.jpg\n",
      "./custom_codes/Inference_and_evaluation/FT-MB_ft_h36m-MB_ft_tr_aihub_sport_ts_30_idx10_result/143.jpg\n",
      "./custom_codes/Inference_and_evaluation/FT-MB_ft_h36m-MB_ft_tr_aihub_sport_ts_30_idx10_result/144.jpg\n",
      "./custom_codes/Inference_and_evaluation/FT-MB_ft_h36m-MB_ft_tr_aihub_sport_ts_30_idx10_result/145.jpg\n",
      "./custom_codes/Inference_and_evaluation/FT-MB_ft_h36m-MB_ft_tr_aihub_sport_ts_30_idx10_result/146.jpg\n",
      "./custom_codes/Inference_and_evaluation/FT-MB_ft_h36m-MB_ft_tr_aihub_sport_ts_30_idx10_result/147.jpg\n",
      "./custom_codes/Inference_and_evaluation/FT-MB_ft_h36m-MB_ft_tr_aihub_sport_ts_30_idx10_result/148.jpg\n",
      "./custom_codes/Inference_and_evaluation/FT-MB_ft_h36m-MB_ft_tr_aihub_sport_ts_30_idx10_result/149.jpg\n",
      "./custom_codes/Inference_and_evaluation/FT-MB_ft_h36m-MB_ft_tr_aihub_sport_ts_30_idx10_result/150.jpg\n",
      "./custom_codes/Inference_and_evaluation/FT-MB_ft_h36m-MB_ft_tr_aihub_sport_ts_30_idx10_result/151.jpg\n",
      "./custom_codes/Inference_and_evaluation/FT-MB_ft_h36m-MB_ft_tr_aihub_sport_ts_30_idx10_result/152.jpg\n",
      "./custom_codes/Inference_and_evaluation/FT-MB_ft_h36m-MB_ft_tr_aihub_sport_ts_30_idx10_result/153.jpg\n",
      "./custom_codes/Inference_and_evaluation/FT-MB_ft_h36m-MB_ft_tr_aihub_sport_ts_30_idx10_result/154.jpg\n",
      "./custom_codes/Inference_and_evaluation/FT-MB_ft_h36m-MB_ft_tr_aihub_sport_ts_30_idx10_result/155.jpg\n",
      "./custom_codes/Inference_and_evaluation/FT-MB_ft_h36m-MB_ft_tr_aihub_sport_ts_30_idx10_result/156.jpg\n",
      "./custom_codes/Inference_and_evaluation/FT-MB_ft_h36m-MB_ft_tr_aihub_sport_ts_30_idx10_result/157.jpg\n",
      "./custom_codes/Inference_and_evaluation/FT-MB_ft_h36m-MB_ft_tr_aihub_sport_ts_30_idx10_result/158.jpg\n",
      "./custom_codes/Inference_and_evaluation/FT-MB_ft_h36m-MB_ft_tr_aihub_sport_ts_30_idx10_result/159.jpg\n",
      "./custom_codes/Inference_and_evaluation/FT-MB_ft_h36m-MB_ft_tr_aihub_sport_ts_30_idx10_result/160.jpg\n",
      "./custom_codes/Inference_and_evaluation/FT-MB_ft_h36m-MB_ft_tr_aihub_sport_ts_30_idx10_result/161.jpg\n",
      "./custom_codes/Inference_and_evaluation/FT-MB_ft_h36m-MB_ft_tr_aihub_sport_ts_30_idx10_result/162.jpg\n",
      "./custom_codes/Inference_and_evaluation/FT-MB_ft_h36m-MB_ft_tr_aihub_sport_ts_30_idx10_result/163.jpg\n",
      "./custom_codes/Inference_and_evaluation/FT-MB_ft_h36m-MB_ft_tr_aihub_sport_ts_30_idx10_result/164.jpg\n",
      "./custom_codes/Inference_and_evaluation/FT-MB_ft_h36m-MB_ft_tr_aihub_sport_ts_30_idx10_result/165.jpg\n",
      "./custom_codes/Inference_and_evaluation/FT-MB_ft_h36m-MB_ft_tr_aihub_sport_ts_30_idx10_result/166.jpg\n",
      "./custom_codes/Inference_and_evaluation/FT-MB_ft_h36m-MB_ft_tr_aihub_sport_ts_30_idx10_result/167.jpg\n",
      "./custom_codes/Inference_and_evaluation/FT-MB_ft_h36m-MB_ft_tr_aihub_sport_ts_30_idx10_result/168.jpg\n",
      "./custom_codes/Inference_and_evaluation/FT-MB_ft_h36m-MB_ft_tr_aihub_sport_ts_30_idx10_result/169.jpg\n",
      "./custom_codes/Inference_and_evaluation/FT-MB_ft_h36m-MB_ft_tr_aihub_sport_ts_30_idx10_result/170.jpg\n",
      "./custom_codes/Inference_and_evaluation/FT-MB_ft_h36m-MB_ft_tr_aihub_sport_ts_30_idx10_result/171.jpg\n",
      "./custom_codes/Inference_and_evaluation/FT-MB_ft_h36m-MB_ft_tr_aihub_sport_ts_30_idx10_result/172.jpg\n",
      "./custom_codes/Inference_and_evaluation/FT-MB_ft_h36m-MB_ft_tr_aihub_sport_ts_30_idx10_result/173.jpg\n",
      "./custom_codes/Inference_and_evaluation/FT-MB_ft_h36m-MB_ft_tr_aihub_sport_ts_30_idx10_result/174.jpg\n",
      "./custom_codes/Inference_and_evaluation/FT-MB_ft_h36m-MB_ft_tr_aihub_sport_ts_30_idx10_result/175.jpg\n",
      "./custom_codes/Inference_and_evaluation/FT-MB_ft_h36m-MB_ft_tr_aihub_sport_ts_30_idx10_result/176.jpg\n",
      "./custom_codes/Inference_and_evaluation/FT-MB_ft_h36m-MB_ft_tr_aihub_sport_ts_30_idx10_result/177.jpg\n",
      "./custom_codes/Inference_and_evaluation/FT-MB_ft_h36m-MB_ft_tr_aihub_sport_ts_30_idx10_result/178.jpg\n",
      "./custom_codes/Inference_and_evaluation/FT-MB_ft_h36m-MB_ft_tr_aihub_sport_ts_30_idx10_result/179.jpg\n",
      "./custom_codes/Inference_and_evaluation/FT-MB_ft_h36m-MB_ft_tr_aihub_sport_ts_30_idx10_result/180.jpg\n",
      "./custom_codes/Inference_and_evaluation/FT-MB_ft_h36m-MB_ft_tr_aihub_sport_ts_30_idx10_result/181.jpg\n",
      "./custom_codes/Inference_and_evaluation/FT-MB_ft_h36m-MB_ft_tr_aihub_sport_ts_30_idx10_result/182.jpg\n",
      "./custom_codes/Inference_and_evaluation/FT-MB_ft_h36m-MB_ft_tr_aihub_sport_ts_30_idx10_result/183.jpg\n",
      "./custom_codes/Inference_and_evaluation/FT-MB_ft_h36m-MB_ft_tr_aihub_sport_ts_30_idx10_result/184.jpg\n",
      "./custom_codes/Inference_and_evaluation/FT-MB_ft_h36m-MB_ft_tr_aihub_sport_ts_30_idx10_result/185.jpg\n",
      "./custom_codes/Inference_and_evaluation/FT-MB_ft_h36m-MB_ft_tr_aihub_sport_ts_30_idx10_result/186.jpg\n",
      "./custom_codes/Inference_and_evaluation/FT-MB_ft_h36m-MB_ft_tr_aihub_sport_ts_30_idx10_result/187.jpg\n",
      "./custom_codes/Inference_and_evaluation/FT-MB_ft_h36m-MB_ft_tr_aihub_sport_ts_30_idx10_result/188.jpg\n",
      "./custom_codes/Inference_and_evaluation/FT-MB_ft_h36m-MB_ft_tr_aihub_sport_ts_30_idx10_result/189.jpg\n",
      "./custom_codes/Inference_and_evaluation/FT-MB_ft_h36m-MB_ft_tr_aihub_sport_ts_30_idx10_result/190.jpg\n",
      "./custom_codes/Inference_and_evaluation/FT-MB_ft_h36m-MB_ft_tr_aihub_sport_ts_30_idx10_result/191.jpg\n",
      "./custom_codes/Inference_and_evaluation/FT-MB_ft_h36m-MB_ft_tr_aihub_sport_ts_30_idx10_result/192.jpg\n",
      "./custom_codes/Inference_and_evaluation/FT-MB_ft_h36m-MB_ft_tr_aihub_sport_ts_30_idx10_result/193.jpg\n",
      "./custom_codes/Inference_and_evaluation/FT-MB_ft_h36m-MB_ft_tr_aihub_sport_ts_30_idx10_result/194.jpg\n",
      "./custom_codes/Inference_and_evaluation/FT-MB_ft_h36m-MB_ft_tr_aihub_sport_ts_30_idx10_result/195.jpg\n",
      "./custom_codes/Inference_and_evaluation/FT-MB_ft_h36m-MB_ft_tr_aihub_sport_ts_30_idx10_result/196.jpg\n",
      "./custom_codes/Inference_and_evaluation/FT-MB_ft_h36m-MB_ft_tr_aihub_sport_ts_30_idx10_result/197.jpg\n",
      "./custom_codes/Inference_and_evaluation/FT-MB_ft_h36m-MB_ft_tr_aihub_sport_ts_30_idx10_result/198.jpg\n",
      "./custom_codes/Inference_and_evaluation/FT-MB_ft_h36m-MB_ft_tr_aihub_sport_ts_30_idx10_result/199.jpg\n",
      "./custom_codes/Inference_and_evaluation/FT-MB_ft_h36m-MB_ft_tr_aihub_sport_ts_30_idx10_result/200.jpg\n",
      "./custom_codes/Inference_and_evaluation/FT-MB_ft_h36m-MB_ft_tr_aihub_sport_ts_30_idx10_result/201.jpg\n",
      "./custom_codes/Inference_and_evaluation/FT-MB_ft_h36m-MB_ft_tr_aihub_sport_ts_30_idx10_result/202.jpg\n",
      "./custom_codes/Inference_and_evaluation/FT-MB_ft_h36m-MB_ft_tr_aihub_sport_ts_30_idx10_result/203.jpg\n",
      "./custom_codes/Inference_and_evaluation/FT-MB_ft_h36m-MB_ft_tr_aihub_sport_ts_30_idx10_result/204.jpg\n",
      "./custom_codes/Inference_and_evaluation/FT-MB_ft_h36m-MB_ft_tr_aihub_sport_ts_30_idx10_result/205.jpg\n",
      "./custom_codes/Inference_and_evaluation/FT-MB_ft_h36m-MB_ft_tr_aihub_sport_ts_30_idx10_result/206.jpg\n",
      "./custom_codes/Inference_and_evaluation/FT-MB_ft_h36m-MB_ft_tr_aihub_sport_ts_30_idx10_result/207.jpg\n",
      "./custom_codes/Inference_and_evaluation/FT-MB_ft_h36m-MB_ft_tr_aihub_sport_ts_30_idx10_result/208.jpg\n",
      "./custom_codes/Inference_and_evaluation/FT-MB_ft_h36m-MB_ft_tr_aihub_sport_ts_30_idx10_result/209.jpg\n",
      "./custom_codes/Inference_and_evaluation/FT-MB_ft_h36m-MB_ft_tr_aihub_sport_ts_30_idx10_result/210.jpg\n",
      "./custom_codes/Inference_and_evaluation/FT-MB_ft_h36m-MB_ft_tr_aihub_sport_ts_30_idx10_result/211.jpg\n",
      "./custom_codes/Inference_and_evaluation/FT-MB_ft_h36m-MB_ft_tr_aihub_sport_ts_30_idx10_result/212.jpg\n",
      "./custom_codes/Inference_and_evaluation/FT-MB_ft_h36m-MB_ft_tr_aihub_sport_ts_30_idx10_result/213.jpg\n",
      "./custom_codes/Inference_and_evaluation/FT-MB_ft_h36m-MB_ft_tr_aihub_sport_ts_30_idx10_result/214.jpg\n",
      "./custom_codes/Inference_and_evaluation/FT-MB_ft_h36m-MB_ft_tr_aihub_sport_ts_30_idx10_result/215.jpg\n",
      "./custom_codes/Inference_and_evaluation/FT-MB_ft_h36m-MB_ft_tr_aihub_sport_ts_30_idx10_result/216.jpg\n",
      "./custom_codes/Inference_and_evaluation/FT-MB_ft_h36m-MB_ft_tr_aihub_sport_ts_30_idx10_result/217.jpg\n",
      "./custom_codes/Inference_and_evaluation/FT-MB_ft_h36m-MB_ft_tr_aihub_sport_ts_30_idx10_result/218.jpg\n",
      "./custom_codes/Inference_and_evaluation/FT-MB_ft_h36m-MB_ft_tr_aihub_sport_ts_30_idx10_result/219.jpg\n",
      "./custom_codes/Inference_and_evaluation/FT-MB_ft_h36m-MB_ft_tr_aihub_sport_ts_30_idx10_result/220.jpg\n",
      "./custom_codes/Inference_and_evaluation/FT-MB_ft_h36m-MB_ft_tr_aihub_sport_ts_30_idx10_result/221.jpg\n",
      "./custom_codes/Inference_and_evaluation/FT-MB_ft_h36m-MB_ft_tr_aihub_sport_ts_30_idx10_result/222.jpg\n",
      "./custom_codes/Inference_and_evaluation/FT-MB_ft_h36m-MB_ft_tr_aihub_sport_ts_30_idx10_result/223.jpg\n",
      "./custom_codes/Inference_and_evaluation/FT-MB_ft_h36m-MB_ft_tr_aihub_sport_ts_30_idx10_result/224.jpg\n",
      "./custom_codes/Inference_and_evaluation/FT-MB_ft_h36m-MB_ft_tr_aihub_sport_ts_30_idx10_result/225.jpg\n",
      "./custom_codes/Inference_and_evaluation/FT-MB_ft_h36m-MB_ft_tr_aihub_sport_ts_30_idx10_result/226.jpg\n",
      "./custom_codes/Inference_and_evaluation/FT-MB_ft_h36m-MB_ft_tr_aihub_sport_ts_30_idx10_result/227.jpg\n",
      "./custom_codes/Inference_and_evaluation/FT-MB_ft_h36m-MB_ft_tr_aihub_sport_ts_30_idx10_result/228.jpg\n",
      "./custom_codes/Inference_and_evaluation/FT-MB_ft_h36m-MB_ft_tr_aihub_sport_ts_30_idx10_result/229.jpg\n",
      "./custom_codes/Inference_and_evaluation/FT-MB_ft_h36m-MB_ft_tr_aihub_sport_ts_30_idx10_result/230.jpg\n",
      "./custom_codes/Inference_and_evaluation/FT-MB_ft_h36m-MB_ft_tr_aihub_sport_ts_30_idx10_result/231.jpg\n",
      "./custom_codes/Inference_and_evaluation/FT-MB_ft_h36m-MB_ft_tr_aihub_sport_ts_30_idx10_result/232.jpg\n",
      "./custom_codes/Inference_and_evaluation/FT-MB_ft_h36m-MB_ft_tr_aihub_sport_ts_30_idx10_result/233.jpg\n",
      "./custom_codes/Inference_and_evaluation/FT-MB_ft_h36m-MB_ft_tr_aihub_sport_ts_30_idx10_result/234.jpg\n",
      "./custom_codes/Inference_and_evaluation/FT-MB_ft_h36m-MB_ft_tr_aihub_sport_ts_30_idx10_result/235.jpg\n",
      "./custom_codes/Inference_and_evaluation/FT-MB_ft_h36m-MB_ft_tr_aihub_sport_ts_30_idx10_result/236.jpg\n",
      "./custom_codes/Inference_and_evaluation/FT-MB_ft_h36m-MB_ft_tr_aihub_sport_ts_30_idx10_result/237.jpg\n",
      "./custom_codes/Inference_and_evaluation/FT-MB_ft_h36m-MB_ft_tr_aihub_sport_ts_30_idx10_result/238.jpg\n",
      "./custom_codes/Inference_and_evaluation/FT-MB_ft_h36m-MB_ft_tr_aihub_sport_ts_30_idx10_result/239.jpg\n",
      "./custom_codes/Inference_and_evaluation/FT-MB_ft_h36m-MB_ft_tr_aihub_sport_ts_30_idx10_result/240.jpg\n",
      "./custom_codes/Inference_and_evaluation/FT-MB_ft_h36m-MB_ft_tr_aihub_sport_ts_30_idx10_result/241.jpg\n",
      "./custom_codes/Inference_and_evaluation/FT-MB_ft_h36m-MB_ft_tr_aihub_sport_ts_30_idx10_result/242.jpg\n"
     ]
    }
   ],
   "source": [
    "import imageio\n",
    "from natsort import natsorted\n",
    "\n",
    "img_list = natsorted(os.listdir('./custom_codes/Inference_and_evaluation/{}_idx{}_result'.format(model_name, idx)))\n",
    "videowriter = imageio.get_writer('./custom_codes/Inference_and_evaluation/{}_idx{}_result/video.mp4'.format(model_name, idx), fps=30)\n",
    "\n",
    "for img in img_list:\n",
    "    img_path = os.path.join('./custom_codes/Inference_and_evaluation/{}_idx{}_result'.format(model_name, idx), img)\n",
    "    print(img_path)\n",
    "    img = cv2.imread(img_path)\n",
    "    img = cv2.cvtColor(img, cv2.COLOR_BGR2RGBA)\n",
    "    videowriter.append_data(img)\n",
    "videowriter.close()\n",
    "\n"
   ]
  }
 ],
 "metadata": {
  "kernelspec": {
   "display_name": "motionbert",
   "language": "python",
   "name": "python3"
  },
  "language_info": {
   "codemirror_mode": {
    "name": "ipython",
    "version": 3
   },
   "file_extension": ".py",
   "mimetype": "text/x-python",
   "name": "python",
   "nbconvert_exporter": "python",
   "pygments_lexer": "ipython3",
   "version": "3.9.17"
  },
  "orig_nbformat": 4,
  "vscode": {
   "interpreter": {
    "hash": "996031ba2a0f3c1298a339c0299835a7fe1ef636d9e79358bc474ca43ed2ac18"
   }
  }
 },
 "nbformat": 4,
 "nbformat_minor": 2
}
