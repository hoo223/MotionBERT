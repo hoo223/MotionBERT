{
 "cells": [
  {
   "cell_type": "code",
   "execution_count": 1,
   "metadata": {},
   "outputs": [
    {
     "name": "stdout",
     "output_type": "stream",
     "text": [
      "res_s03_60457274_squat\n",
      "['alphapose-results.json', 'vis']\n",
      "/home/hrai/codes/HAAI_AlphaPose/examples/fit3d/res_s03_60457274_squat/vis/test.mp4 /home/hrai/codes/HAAI_AlphaPose/examples/fit3d/res_s03_60457274_squat/alphapose-results.json output/fit3d/MotionBERT_s03_60457274_squat\n",
      "Loading checkpoint checkpoint/pose3d/MB_ft_h36m/best_epoch.bin\n"
     ]
    },
    {
     "name": "stderr",
     "output_type": "stream",
     "text": [
      "100%|██████████| 6/6 [00:00<00:00,  7.25it/s]\n",
      "  0%|          | 0/1398 [00:00<?, ?it/s]IMAGEIO FFMPEG_WRITER WARNING: input image is not divisible by macro_block_size=16, resizing from (923, 924) to (928, 928) to ensure video compatibility with most codecs and players. To prevent resizing, make your input image divisible by the macro_block_size or set the macro_block_size to 1 (risking incompatibility).\n",
      "  0%|          | 1/1398 [00:00<06:58,  3.34it/s][swscaler @ 0x566aa00] Warning: data is not aligned! This can lead to a speed loss\n",
      "  2%|▏         | 32/1398 [00:17<20:33,  1.11it/s]"
     ]
    }
   ],
   "source": [
    "import sys, os\n",
    "\n",
    "os.chdir('/home/hrai/codes/MotionBERT')\n",
    "\n",
    "alphapose_result_path = '/home/hrai/codes/HAAI_AlphaPose/examples/fit3d'\n",
    "output_path = 'output/fit3d'\n",
    "\n",
    "for alphapose_result in os.listdir(alphapose_result_path):\n",
    "    print(alphapose_result)\n",
    "    name = alphapose_result.split('res_')[1]\n",
    "    if \"MotionBERT_{}\".format(name) in os.listdir(\"./output\"): # 이미 추론 결과가 있으면 넘어감\n",
    "        print(\"MotionBERT_{} already exists\".format(id))\n",
    "        continue\n",
    "\n",
    "    path = os.path.join(alphapose_result_path, alphapose_result)    \n",
    "    print(os.listdir(path))\n",
    "    js, _ =  os.listdir(path)\n",
    "    video = os.path.join(path, 'vis', 'test.mp4')\n",
    "\n",
    "    # args\n",
    "    config = \"configs/pose3d/MB_ft_aihub.yaml\"\n",
    "    checkpoint = \"checkpoint/pose3d/MB_ft_h36m/best_epoch.bin\"\n",
    "    vid_path = os.path.join(path, video)\n",
    "    json_path = os.path.join(path, js)\n",
    "    out_path = os.path.join(output_path, 'MotionBERT_{}'.format(name))\n",
    "\n",
    "    #if not os.path.exists(out_path):\n",
    "    #    os.makedirs(out_path)\n",
    "\n",
    "    print(vid_path, json_path, out_path)\n",
    "\n",
    "    try:\n",
    "        # inference by MotionBERT\n",
    "        os.system(\"python infer_wild.py --vid_path {} --json_path {} --out_path {} --evaluate {}\".format(vid_path, json_path, out_path, checkpoint))\n",
    "        # change the name of the output\n",
    "        os.rename(os.path.join(out_path, \"X3D.mp4\"), os.path.join(out_path, \"MotionBERT_{}.mp4\".format(name)))\n",
    "        os.rename(os.path.join(out_path, \"X3D.npy\"), os.path.join(out_path, \"MotionBERT_{}.npy\".format(name)))\n",
    "    except:\n",
    "        print(\"MotionBERT_{} failed\".format(name))\n"
   ]
  },
  {
   "cell_type": "code",
   "execution_count": null,
   "metadata": {},
   "outputs": [],
   "source": []
  }
 ],
 "metadata": {
  "kernelspec": {
   "display_name": "motionbert",
   "language": "python",
   "name": "python3"
  },
  "language_info": {
   "codemirror_mode": {
    "name": "ipython",
    "version": 3
   },
   "file_extension": ".py",
   "mimetype": "text/x-python",
   "name": "python",
   "nbconvert_exporter": "python",
   "pygments_lexer": "ipython3",
   "version": "3.9.17"
  },
  "orig_nbformat": 4,
  "vscode": {
   "interpreter": {
    "hash": "996031ba2a0f3c1298a339c0299835a7fe1ef636d9e79358bc474ca43ed2ac18"
   }
  }
 },
 "nbformat": 4,
 "nbformat_minor": 2
}
