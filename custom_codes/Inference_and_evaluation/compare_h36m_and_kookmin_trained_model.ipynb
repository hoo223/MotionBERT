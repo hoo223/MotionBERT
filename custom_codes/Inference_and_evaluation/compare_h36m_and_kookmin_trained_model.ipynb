{
 "cells": [
  {
   "cell_type": "code",
   "execution_count": 1,
   "metadata": {},
   "outputs": [
    {
     "data": {
      "text/plain": [
       "('/home/hrai/codes/AlphaPose',\n",
       " '/home/hrai/codes/MotionBERT',\n",
       " '/home/hrai/Datasets/HAAI/국민대데이터/data',\n",
       " '/home/hrai/codes/AlphaPose/examples/kookmin_result_5actions')"
      ]
     },
     "execution_count": 1,
     "metadata": {},
     "output_type": "execute_result"
    }
   ],
   "source": [
    "%load_ext autoreload\n",
    "%autoreload 2\n",
    "%matplotlib widget\n",
    "\n",
    "import os\n",
    "os.chdir('/home/hrai/codes/PoseAdaptor')\n",
    "from lib_import import *\n",
    "from my_utils import *\n",
    "\n",
    "# 주요 디렉토리 경로\n",
    "user = getpass.getuser()\n",
    "alphapose_root = '/home/{}/codes/AlphaPose'.format(user)\n",
    "motionbert_root = '/home/{}/codes/MotionBERT'.format(user)\n",
    "kookmin_root = '/home/{}/Datasets/HAAI/국민대데이터/data'.format(user)\n",
    "ap_kookmin_result_root = alphapose_root + \"/examples/kookmin_result_5actions\"\n",
    "\n",
    "assert os.path.isdir(alphapose_root), \"AlphaPose root directory is not exist\"\n",
    "assert os.path.isdir(motionbert_root), \"MotionBERT root directory is not exist\"\n",
    "assert os.path.isdir(kookmin_root), \"Kookmin root directory is not exist\"\n",
    "assert os.path.isdir(ap_kookmin_result_root), \"AlphaPose Kookmin result directory is not exist\"\n",
    "\n",
    "alphapose_root, motionbert_root, kookmin_root, ap_kookmin_result_root"
   ]
  },
  {
   "cell_type": "code",
   "execution_count": 2,
   "metadata": {},
   "outputs": [],
   "source": [
    "os.chdir(motionbert_root)\n",
    "from lib.utils.tools import * # get_config\n",
    "from lib.utils.learning import * # load_backbone\n",
    "from lib.data.datareader_kookmin import DataReaderKOOKMIN\n",
    "from lib.data.dataset_motion_3d import MotionDataset3D\n",
    "\n",
    "def parse_args(input_args=[]):\n",
    "    parser = argparse.ArgumentParser()\n",
    "    parser.add_argument(\"--config\", type=str, default=\"configs/pose3d/MB_ft_h36m.yaml\", help=\"Path to the config file.\")\n",
    "    parser.add_argument('-c', '--checkpoint', default='checkpoint', type=str, metavar='PATH', help='checkpoint directory')\n",
    "    parser.add_argument('-p', '--pretrained', default='checkpoint', type=str, metavar='PATH', help='pretrained checkpoint directory')\n",
    "    parser.add_argument('-r', '--resume', default='', type=str, metavar='FILENAME', help='checkpoint to resume (file name)')\n",
    "    parser.add_argument('-e', '--evaluate', default='checkpoint/pose3d/MB_ft_h36m/best_epoch.bin', type=str, metavar='FILENAME', help='checkpoint to evaluate (file name)')\n",
    "    parser.add_argument('-ms', '--selection', default='latest_epoch.bin', type=str, metavar='FILENAME', help='checkpoint to finetune (file name)')\n",
    "    parser.add_argument('-sd', '--seed', default=0, type=int, help='random seed')\n",
    "    parser.add_argument('-g', '--gpu', default='0', type=str, help='GPU id')\n",
    "    opts = parser.parse_args(input_args)\n",
    "    return opts"
   ]
  },
  {
   "cell_type": "code",
   "execution_count": 5,
   "metadata": {},
   "outputs": [
    {
     "name": "stdout",
     "output_type": "stream",
     "text": [
      "model_name: MB_ft_h36m, target: squat_test, input_type: frame\n",
      "Loading checkpoint checkpoint/pose3d/MB_ft_h36m/best_epoch.bin\n"
     ]
    },
    {
     "name": "stderr",
     "output_type": "stream",
     "text": [
      "  0%|          | 0/243 [00:00<?, ?it/s]IMAGEIO FFMPEG_WRITER WARNING: input image is not divisible by macro_block_size=16, resizing from (921, 691) to (928, 704) to ensure video compatibility with most codecs and players. To prevent resizing, make your input image divisible by the macro_block_size or set the macro_block_size to 1 (risking incompatibility).\n",
      "  0%|          | 1/243 [00:00<00:29,  8.19it/s][swscaler @ 0x55a8dc0] Warning: data is not aligned! This can lead to a speed loss\n",
      "100%|██████████| 243/243 [00:11<00:00, 20.44it/s]\n"
     ]
    },
    {
     "name": "stdout",
     "output_type": "stream",
     "text": [
      "model_name: MB_ft_h36m, target: squat_test, input_type: video\n",
      "Loading checkpoint checkpoint/pose3d/MB_ft_h36m/best_epoch.bin\n"
     ]
    },
    {
     "name": "stderr",
     "output_type": "stream",
     "text": [
      "  0%|          | 0/243 [00:00<?, ?it/s]IMAGEIO FFMPEG_WRITER WARNING: input image is not divisible by macro_block_size=16, resizing from (921, 691) to (928, 704) to ensure video compatibility with most codecs and players. To prevent resizing, make your input image divisible by the macro_block_size or set the macro_block_size to 1 (risking incompatibility).\n",
      "  0%|          | 1/243 [00:00<00:29,  8.27it/s][swscaler @ 0x60c3dc0] Warning: data is not aligned! This can lead to a speed loss\n",
      "100%|██████████| 243/243 [00:12<00:00, 19.31it/s]\n"
     ]
    },
    {
     "name": "stdout",
     "output_type": "stream",
     "text": [
      "model_name: MB_ft_h36m, target: squat_test_front, input_type: frame\n",
      "Loading checkpoint checkpoint/pose3d/MB_ft_h36m/best_epoch.bin\n"
     ]
    },
    {
     "name": "stderr",
     "output_type": "stream",
     "text": [
      "  0%|          | 0/243 [00:00<?, ?it/s]IMAGEIO FFMPEG_WRITER WARNING: input image is not divisible by macro_block_size=16, resizing from (921, 691) to (928, 704) to ensure video compatibility with most codecs and players. To prevent resizing, make your input image divisible by the macro_block_size or set the macro_block_size to 1 (risking incompatibility).\n",
      "  0%|          | 1/243 [00:00<00:29,  8.15it/s][swscaler @ 0x67bedc0] Warning: data is not aligned! This can lead to a speed loss\n",
      "100%|██████████| 243/243 [00:12<00:00, 19.37it/s]\n"
     ]
    },
    {
     "name": "stdout",
     "output_type": "stream",
     "text": [
      "model_name: MB_ft_h36m, target: squat_test_front, input_type: video\n",
      "Loading checkpoint checkpoint/pose3d/MB_ft_h36m/best_epoch.bin\n"
     ]
    },
    {
     "name": "stderr",
     "output_type": "stream",
     "text": [
      "  0%|          | 0/243 [00:00<?, ?it/s]IMAGEIO FFMPEG_WRITER WARNING: input image is not divisible by macro_block_size=16, resizing from (921, 691) to (928, 704) to ensure video compatibility with most codecs and players. To prevent resizing, make your input image divisible by the macro_block_size or set the macro_block_size to 1 (risking incompatibility).\n",
      "  0%|          | 1/243 [00:00<00:29,  8.11it/s][swscaler @ 0x7219dc0] Warning: data is not aligned! This can lead to a speed loss\n",
      "100%|██████████| 243/243 [00:12<00:00, 19.98it/s]\n"
     ]
    },
    {
     "name": "stdout",
     "output_type": "stream",
     "text": [
      "model_name: FT_MB_release_kookmin_total_with_kookmin_setting_s0258_test, target: squat_test, input_type: frame\n",
      "Loading checkpoint checkpoint/pose3d/FT_MB_release_kookmin_total_with_kookmin_setting_s0258_test/best_epoch.bin\n"
     ]
    },
    {
     "name": "stderr",
     "output_type": "stream",
     "text": [
      "  0%|          | 0/243 [00:00<?, ?it/s]IMAGEIO FFMPEG_WRITER WARNING: input image is not divisible by macro_block_size=16, resizing from (921, 691) to (928, 704) to ensure video compatibility with most codecs and players. To prevent resizing, make your input image divisible by the macro_block_size or set the macro_block_size to 1 (risking incompatibility).\n",
      "  0%|          | 1/243 [00:00<00:31,  7.79it/s][swscaler @ 0x62dae00] Warning: data is not aligned! This can lead to a speed loss\n",
      "100%|██████████| 243/243 [00:12<00:00, 20.20it/s]\n"
     ]
    },
    {
     "name": "stdout",
     "output_type": "stream",
     "text": [
      "model_name: FT_MB_release_kookmin_total_with_kookmin_setting_s0258_test, target: squat_test, input_type: video\n",
      "Loading checkpoint checkpoint/pose3d/FT_MB_release_kookmin_total_with_kookmin_setting_s0258_test/best_epoch.bin\n"
     ]
    },
    {
     "name": "stderr",
     "output_type": "stream",
     "text": [
      "  0%|          | 0/243 [00:00<?, ?it/s]IMAGEIO FFMPEG_WRITER WARNING: input image is not divisible by macro_block_size=16, resizing from (921, 691) to (928, 704) to ensure video compatibility with most codecs and players. To prevent resizing, make your input image divisible by the macro_block_size or set the macro_block_size to 1 (risking incompatibility).\n",
      "  0%|          | 1/243 [00:00<00:30,  7.87it/s][swscaler @ 0x6823e00] Warning: data is not aligned! This can lead to a speed loss\n",
      "100%|██████████| 243/243 [00:12<00:00, 20.22it/s]\n"
     ]
    },
    {
     "name": "stdout",
     "output_type": "stream",
     "text": [
      "model_name: FT_MB_release_kookmin_total_with_kookmin_setting_s0258_test, target: squat_test_front, input_type: frame\n",
      "Loading checkpoint checkpoint/pose3d/FT_MB_release_kookmin_total_with_kookmin_setting_s0258_test/best_epoch.bin\n"
     ]
    },
    {
     "name": "stderr",
     "output_type": "stream",
     "text": [
      "  0%|          | 0/243 [00:00<?, ?it/s]IMAGEIO FFMPEG_WRITER WARNING: input image is not divisible by macro_block_size=16, resizing from (921, 691) to (928, 704) to ensure video compatibility with most codecs and players. To prevent resizing, make your input image divisible by the macro_block_size or set the macro_block_size to 1 (risking incompatibility).\n",
      "  0%|          | 1/243 [00:00<00:32,  7.45it/s][swscaler @ 0x674ae00] Warning: data is not aligned! This can lead to a speed loss\n",
      "100%|██████████| 243/243 [00:12<00:00, 20.01it/s]\n"
     ]
    },
    {
     "name": "stdout",
     "output_type": "stream",
     "text": [
      "model_name: FT_MB_release_kookmin_total_with_kookmin_setting_s0258_test, target: squat_test_front, input_type: video\n",
      "Loading checkpoint checkpoint/pose3d/FT_MB_release_kookmin_total_with_kookmin_setting_s0258_test/best_epoch.bin\n"
     ]
    },
    {
     "name": "stderr",
     "output_type": "stream",
     "text": [
      "  0%|          | 0/243 [00:00<?, ?it/s]IMAGEIO FFMPEG_WRITER WARNING: input image is not divisible by macro_block_size=16, resizing from (921, 691) to (928, 704) to ensure video compatibility with most codecs and players. To prevent resizing, make your input image divisible by the macro_block_size or set the macro_block_size to 1 (risking incompatibility).\n",
      "  0%|          | 1/243 [00:00<00:32,  7.49it/s][swscaler @ 0x616be00] Warning: data is not aligned! This can lead to a speed loss\n",
      "100%|██████████| 243/243 [00:12<00:00, 19.95it/s]\n"
     ]
    }
   ],
   "source": [
    "model_list = ['MB_ft_h36m', 'FT_MB_release_kookmin_total_with_kookmin_setting_s0258_test']\n",
    "target_list = ['squat_test', 'squat_test_front']\n",
    "input_type_list = ['frame', 'video']\n",
    "\n",
    "for model_name in model_list:\n",
    "    for target in target_list:\n",
    "        for input_type in input_type_list:\n",
    "            print('model_name: {}, target: {}, input_type: {}'.format(model_name, target, input_type))\n",
    "            input_args = ['--evaluate', 'checkpoint/pose3d/{}/best_epoch.bin'.format(model_name)]\n",
    "            opts = parse_args(input_args)\n",
    "            args = get_config(opts.config)\n",
    "\n",
    "            model_backbone = load_backbone(args)\n",
    "            model_backbone = nn.DataParallel(model_backbone)\n",
    "            model_backbone = model_backbone.cuda()\n",
    "\n",
    "            chk_filename = opts.evaluate\n",
    "            print('Loading checkpoint', chk_filename)\n",
    "            checkpoint = torch.load(chk_filename, map_location=lambda storage, loc: storage)\n",
    "            model_backbone.load_state_dict(checkpoint['model_pos'], strict=True)\n",
    "            model_pos = model_backbone\n",
    "            \n",
    "            # custom ap result\n",
    "            ap_root = '/home/hrai/codes/AlphaPose/examples'\n",
    "            ap_result_path = os.path.join(ap_root, target)\n",
    "            video_path = os.path.join(ap_root, target + '.mp4')\n",
    "            W, H, video_num_frames, fps = get_video_info(video_path)\n",
    "            pose_2d_list = get_ap_pose_2d(video_path, ap_result_path)\n",
    "            \n",
    "            if input_type == 'frame':\n",
    "                output = []\n",
    "                for frame in range(243):\n",
    "                    input_data = pose_2d_list[frame].copy().reshape(-1, 17, 3) # 1 frame\n",
    "                    input_data = normalize_input(input_data, W, H) # normalize\n",
    "                    input_data = torch.Tensor(input_data).unsqueeze(0) # to batch tensor\n",
    "                    #print(input_data.shape)\n",
    "                    output.append(get_inference_from_motionbert(model_pos, input_data, args, W, H)[0][0])\n",
    "                output = np.array(output).reshape(243, 17, 3)\n",
    "            elif input_type == 'video':\n",
    "                input_data = pose_2d_list[:243].copy() # 243 frames\n",
    "                input_data = normalize_input(input_data, W, H) # normalize\n",
    "                input_data = torch.Tensor(input_data).unsqueeze(0) # to batch tensor\n",
    "                output = get_inference_from_motionbert(model_pos, input_data, args, W, H)[0]\n",
    "            #print(output.shape)\n",
    "            save_h36m_pose_video(output, './{}_{}_{}.mp4'.format(model_name, target, input_type), pose_type='3d', refine_tilt=False)"
   ]
  }
 ],
 "metadata": {
  "kernelspec": {
   "display_name": "motionbert",
   "language": "python",
   "name": "python3"
  },
  "language_info": {
   "codemirror_mode": {
    "name": "ipython",
    "version": 3
   },
   "file_extension": ".py",
   "mimetype": "text/x-python",
   "name": "python",
   "nbconvert_exporter": "python",
   "pygments_lexer": "ipython3",
   "version": "3.9.17"
  },
  "orig_nbformat": 4
 },
 "nbformat": 4,
 "nbformat_minor": 2
}
