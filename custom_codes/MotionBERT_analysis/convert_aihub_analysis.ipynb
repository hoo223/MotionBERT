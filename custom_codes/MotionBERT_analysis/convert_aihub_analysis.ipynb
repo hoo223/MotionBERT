{
 "cells": [
  {
   "cell_type": "code",
   "execution_count": 1,
   "metadata": {},
   "outputs": [],
   "source": [
    "import os\n",
    "import sys\n",
    "import pickle\n",
    "import numpy as np\n",
    "import random\n",
    "import copy\n",
    "sys.path.insert(0, os.getcwd())\n",
    "\n",
    "os.chdir('../..')\n",
    "from lib.utils.tools import read_pkl\n",
    "from lib.data.datareader_h36m import DataReaderH36M\n",
    "from lib.data.datareader_aihub import DataReaderAIHUB\n",
    "from tqdm import tqdm"
   ]
  },
  {
   "cell_type": "code",
   "execution_count": 2,
   "metadata": {},
   "outputs": [
    {
     "data": {
      "text/plain": [
       "'/home/hrai/codes/MotionBERT'"
      ]
     },
     "execution_count": 2,
     "metadata": {},
     "output_type": "execute_result"
    }
   ],
   "source": [
    "pwd"
   ]
  },
  {
   "cell_type": "code",
   "execution_count": 3,
   "metadata": {},
   "outputs": [],
   "source": [
    "#datareader = DataReaderH36M(n_frames=243, sample_stride=1, data_stride_train=81, data_stride_test=243, dt_file = 'h36m_sh_conf_cam_source_final.pkl', dt_root='data/motion3d/')\n",
    "datareader = DataReaderAIHUB(n_frames=243, sample_stride=1, data_stride_train=81, data_stride_test=243, dt_file = 'aihub_30.pkl', dt_root='data/motion3d')\n"
   ]
  },
  {
   "cell_type": "code",
   "execution_count": 13,
   "metadata": {},
   "outputs": [],
   "source": [
    "vid_list_train = datareader.dt_dataset['train']['source'][::datareader.sample_stride]                          # (1559752,)\n",
    "vid_list_test = datareader.dt_dataset['test']['source'][::datareader.sample_stride]                           # (566920,)"
   ]
  },
  {
   "cell_type": "code",
   "execution_count": 16,
   "metadata": {},
   "outputs": [
    {
     "data": {
      "text/plain": [
       "((12904,), (3407,))"
      ]
     },
     "execution_count": 16,
     "metadata": {},
     "output_type": "execute_result"
    }
   ],
   "source": [
    "vid_list_train.shape, vid_list_test.shape"
   ]
  },
  {
   "cell_type": "code",
   "execution_count": 18,
   "metadata": {},
   "outputs": [],
   "source": [
    "from lib.utils.utils_data import split_clips"
   ]
  },
  {
   "cell_type": "code",
   "execution_count": 38,
   "metadata": {},
   "outputs": [],
   "source": [
    "datareader.split_id_train = split_clips(vid_list_train, datareader.n_frames, data_stride=datareader.data_stride_train) "
   ]
  },
  {
   "cell_type": "code",
   "execution_count": 39,
   "metadata": {},
   "outputs": [],
   "source": [
    "datareader.split_id_test = split_clips(vid_list_test, datareader.n_frames, data_stride=datareader.data_stride_test)"
   ]
  },
  {
   "cell_type": "code",
   "execution_count": 44,
   "metadata": {},
   "outputs": [
    {
     "data": {
      "text/plain": [
       "array([2957, 2958, 2958, 2959, 2961, 2962, 2962, 2964, 2964, 2966, 2966,\n",
       "       2967, 2969, 2969, 2969, 2971, 2971, 2973, 2973, 2974, 2976, 2976,\n",
       "       2977, 2978, 2979, 2981, 2981, 2982, 2982, 2983, 2985, 2986, 2987,\n",
       "       2988, 2988, 2990, 2990, 2991, 2992, 2994, 2995, 2995, 2996, 2996,\n",
       "       2998, 2998, 3000, 3000, 3002, 3002, 3003, 3004, 3005, 3006, 3007,\n",
       "       3008, 3008, 3009, 3010, 3011, 3012, 3013, 3015, 3015, 3017, 3018,\n",
       "       3018, 3019, 3020, 3020, 3022, 3023, 3023, 3025, 3025, 3026, 3028,\n",
       "       3029, 3029, 3031, 3032, 3032, 3032, 3034, 3034, 3035, 3037, 3038,\n",
       "       3038, 3039, 3040, 3041, 3042, 3043, 3044, 3045, 3045, 3046, 3048,\n",
       "       3048, 3049, 3050, 3051, 3053, 3054, 3055, 3055, 3057, 3057, 3057,\n",
       "       3058, 3060, 3060, 3061, 3062, 3063, 3064, 3065, 3067, 3068, 3068,\n",
       "       3070, 3070, 3070, 3071, 3072, 3074, 3074, 3076, 3076, 3078, 3078,\n",
       "       3080, 3080, 3082, 3082, 3083, 3084, 3084, 3085, 3087, 3088, 3089,\n",
       "       3089, 3090, 3092, 3092, 3093, 3094, 3094, 3095, 3096, 3097, 3098,\n",
       "       3099, 3100, 3102, 3103, 3103, 3105, 3106, 3106, 3107, 3107, 3109,\n",
       "       3110, 3110, 3112, 3113, 3113, 3115, 3116, 3116, 3118, 3119, 3119,\n",
       "       3119, 3120, 3121, 3122, 3124, 3125, 3126, 3126, 3127, 3129, 3129,\n",
       "       3130, 3131, 3132, 3132, 3134, 3134, 3136, 3137, 3137, 3139, 3140,\n",
       "       3141, 3141, 3143, 3143, 3144, 3145, 3146, 3146, 3147, 3149, 3150,\n",
       "       3150, 3151, 3153, 3154, 3155, 3156, 3157, 3157, 3157, 3158, 3160,\n",
       "       3161, 3161, 3162, 3164, 3164, 3166, 3167, 3167, 3168, 3169, 3169,\n",
       "       3171, 3171, 3172, 3174, 3175, 3175, 3176, 3178, 3179, 3179, 3181,\n",
       "       3181], dtype=uint32)"
      ]
     },
     "execution_count": 44,
     "metadata": {},
     "output_type": "execute_result"
    }
   ],
   "source": [
    "datareader.split_id_test[-1]"
   ]
  },
  {
   "cell_type": "code",
   "execution_count": 4,
   "metadata": {},
   "outputs": [],
   "source": [
    "train_data, test_data, train_labels, test_labels = datareader.get_sliced_data()"
   ]
  },
  {
   "cell_type": "code",
   "execution_count": 4,
   "metadata": {},
   "outputs": [],
   "source": [
    "train_data, test_data = datareader.read_2d()     # train_data (1559752, 17, 3) test_data (566920, 17, 3)\n",
    "train_labels, test_labels = datareader.read_3d() # train_labels (1559752, 17, 3) test_labels (566920, 17, 3)"
   ]
  },
  {
   "cell_type": "code",
   "execution_count": 7,
   "metadata": {},
   "outputs": [
    {
     "data": {
      "text/plain": [
       "(numpy.ndarray, (12904, 17, 3), numpy.ndarray, (3407, 17, 3))"
      ]
     },
     "execution_count": 7,
     "metadata": {},
     "output_type": "execute_result"
    }
   ],
   "source": [
    "type(train_data), train_data.shape, type(test_data), test_data.shape"
   ]
  },
  {
   "cell_type": "code",
   "execution_count": 9,
   "metadata": {},
   "outputs": [
    {
     "data": {
      "text/plain": [
       "(84, 11)"
      ]
     },
     "execution_count": 9,
     "metadata": {},
     "output_type": "execute_result"
    }
   ],
   "source": [
    "split_id_train, split_id_test = datareader.get_split_id()\n",
    "len(split_id_train), len(split_id_test)"
   ]
  },
  {
   "cell_type": "code",
   "execution_count": 10,
   "metadata": {},
   "outputs": [
    {
     "data": {
      "text/plain": [
       "(list, list)"
      ]
     },
     "execution_count": 10,
     "metadata": {},
     "output_type": "execute_result"
    }
   ],
   "source": [
    "type(split_id_train), type(split_id_test)"
   ]
  },
  {
   "cell_type": "code",
   "execution_count": 11,
   "metadata": {},
   "outputs": [
    {
     "data": {
      "text/plain": [
       "((12904, 17, 3), (3407, 17, 3))"
      ]
     },
     "execution_count": 11,
     "metadata": {},
     "output_type": "execute_result"
    }
   ],
   "source": [
    "train_data.shape, test_data.shape"
   ]
  },
  {
   "cell_type": "code",
   "execution_count": 37,
   "metadata": {},
   "outputs": [
    {
     "data": {
      "text/plain": [
       "array([[[ 0.11796939, -0.03744149,  0.9710206 ],\n",
       "        [ 0.0978415 , -0.03240955,  0.8329151 ],\n",
       "        [ 0.0978415 ,  0.08835721,  0.95069426],\n",
       "        ...,\n",
       "        [ 0.07771373, -0.17833608,  0.94025815],\n",
       "        [ 0.0626179 , -0.0978249 ,  0.898675  ],\n",
       "        [ 0.07771373, -0.03240955,  0.9391023 ]],\n",
       "\n",
       "       [[ 0.12249148, -0.0377472 ,  0.96175873],\n",
       "        [ 0.09738421, -0.03272575,  0.84564275],\n",
       "        [ 0.09738421,  0.09281057,  0.9526451 ],\n",
       "        ...,\n",
       "        [ 0.0772984 , -0.17834789,  0.9452678 ],\n",
       "        [ 0.06223404, -0.09800464,  0.8988067 ],\n",
       "        [ 0.0772984 , -0.0277043 ,  0.93647885]],\n",
       "\n",
       "       [[ 0.11910331, -0.03805459,  0.9468791 ],\n",
       "        [ 0.09396923, -0.03302771,  0.88666093],\n",
       "        [ 0.09899604,  0.09264314,  0.96426105],\n",
       "        ...,\n",
       "        [ 0.07386196, -0.17880595,  0.9520674 ],\n",
       "        [ 0.0638082 , -0.0983766 ,  0.9209594 ],\n",
       "        [ 0.07386196, -0.02800089,  0.932181  ]],\n",
       "\n",
       "       ...,\n",
       "\n",
       "       [[ 0.22565341,  0.03929365,  0.90547675],\n",
       "        [ 0.17882895,  0.03929365,  0.8998091 ],\n",
       "        [ 0.11639619,  0.15895635,  0.924904  ],\n",
       "        ...,\n",
       "        [ 0.18923438, -0.12199074,  0.90530586],\n",
       "        [ 0.14761269, -0.03874719,  0.9070648 ],\n",
       "        [ 0.11119354,  0.02888829,  0.93589664]],\n",
       "\n",
       "       [[ 0.22542131,  0.03973097,  0.93395716],\n",
       "        [ 0.17864251,  0.03973097,  0.8889086 ],\n",
       "        [ 0.12146842,  0.15927666,  0.8981257 ],\n",
       "        ...,\n",
       "        [ 0.19423544, -0.12139586,  0.9289956 ],\n",
       "        [ 0.15265441, -0.04343122,  0.95612484],\n",
       "        [ 0.11107326,  0.02933574,  0.9415783 ]],\n",
       "\n",
       "       [[ 0.22450554,  0.03567302,  0.962694  ],\n",
       "        [ 0.18225968,  0.04095376,  0.8639928 ],\n",
       "        [ 0.12945235,  0.15712965,  0.8992305 ],\n",
       "        ...,\n",
       "        [ 0.19282115, -0.12274873,  0.91464627],\n",
       "        [ 0.1505754 , -0.04353786,  0.9373    ],\n",
       "        [ 0.11361015,  0.03039229,  0.9055721 ]]], dtype=float32)"
      ]
     },
     "execution_count": 37,
     "metadata": {},
     "output_type": "execute_result"
    }
   ],
   "source": [
    "test_data"
   ]
  },
  {
   "cell_type": "code",
   "execution_count": 36,
   "metadata": {},
   "outputs": [
    {
     "name": "stderr",
     "output_type": "stream",
     "text": [
      "/tmp/ipykernel_10752/3966067609.py:1: FutureWarning: Using a non-tuple sequence for multidimensional indexing is deprecated; use `arr[tuple(seq)]` instead of `arr[seq]`. In the future this will be interpreted as an array index, `arr[np.array(seq)]`, which will result either in an error or a different result.\n",
      "  test_data[split_id_train[:10]]\n"
     ]
    },
    {
     "ename": "IndexError",
     "evalue": "too many indices for array: array is 3-dimensional, but 10 were indexed",
     "output_type": "error",
     "traceback": [
      "\u001b[0;31m---------------------------------------------------------------------------\u001b[0m",
      "\u001b[0;31mIndexError\u001b[0m                                Traceback (most recent call last)",
      "Cell \u001b[0;32mIn[36], line 1\u001b[0m\n\u001b[0;32m----> 1\u001b[0m test_data[split_id_train[:\u001b[39m10\u001b[39;49m]]\n",
      "\u001b[0;31mIndexError\u001b[0m: too many indices for array: array is 3-dimensional, but 10 were indexed"
     ]
    }
   ],
   "source": [
    "test_data[split_id_train[:10]]"
   ]
  },
  {
   "cell_type": "code",
   "execution_count": 8,
   "metadata": {},
   "outputs": [
    {
     "data": {
      "text/plain": [
       "(84, 243, 17, 3)"
      ]
     },
     "execution_count": 8,
     "metadata": {},
     "output_type": "execute_result"
    }
   ],
   "source": [
    "train_data = copy.deepcopy(train_data[split_id_train])\n",
    "train_data.shape"
   ]
  },
  {
   "cell_type": "code",
   "execution_count": 39,
   "metadata": {},
   "outputs": [
    {
     "data": {
      "text/plain": [
       "(11, 243, 17, 3)"
      ]
     },
     "execution_count": 39,
     "metadata": {},
     "output_type": "execute_result"
    }
   ],
   "source": [
    "np.array([test_data[split_id_test[i]] for i in range(len(split_id_test))])"
   ]
  },
  {
   "cell_type": "code",
   "execution_count": 9,
   "metadata": {},
   "outputs": [
    {
     "name": "stderr",
     "output_type": "stream",
     "text": [
      "/tmp/ipykernel_10662/1080642337.py:1: FutureWarning: Using a non-tuple sequence for multidimensional indexing is deprecated; use `arr[tuple(seq)]` instead of `arr[seq]`. In the future this will be interpreted as an array index, `arr[np.array(seq)]`, which will result either in an error or a different result.\n",
      "  train_labels, test_labels = train_labels[split_id_train], test_labels[split_id_test]\n"
     ]
    },
    {
     "ename": "IndexError",
     "evalue": "too many indices for array: array is 3-dimensional, but 11 were indexed",
     "output_type": "error",
     "traceback": [
      "\u001b[0;31m---------------------------------------------------------------------------\u001b[0m",
      "\u001b[0;31mIndexError\u001b[0m                                Traceback (most recent call last)",
      "Cell \u001b[0;32mIn[9], line 1\u001b[0m\n\u001b[0;32m----> 1\u001b[0m train_labels, test_labels \u001b[39m=\u001b[39m train_labels[split_id_train], test_labels[split_id_test]\n",
      "\u001b[0;31mIndexError\u001b[0m: too many indices for array: array is 3-dimensional, but 11 were indexed"
     ]
    }
   ],
   "source": [
    "train_labels, test_labels = train_labels[split_id_train], test_labels[split_id_test]"
   ]
  },
  {
   "cell_type": "code",
   "execution_count": 22,
   "metadata": {},
   "outputs": [
    {
     "name": "stderr",
     "output_type": "stream",
     "text": [
      "/tmp/ipykernel_8963/2835331642.py:1: FutureWarning: Using a non-tuple sequence for multidimensional indexing is deprecated; use `arr[tuple(seq)]` instead of `arr[seq]`. In the future this will be interpreted as an array index, `arr[np.array(seq)]`, which will result either in an error or a different result.\n",
      "  test_data =  copy.deepcopy(test_data[split_id_test])\n"
     ]
    },
    {
     "ename": "IndexError",
     "evalue": "too many indices for array: array is 3-dimensional, but 11 were indexed",
     "output_type": "error",
     "traceback": [
      "\u001b[0;31m---------------------------------------------------------------------------\u001b[0m",
      "\u001b[0;31mIndexError\u001b[0m                                Traceback (most recent call last)",
      "Cell \u001b[0;32mIn[22], line 1\u001b[0m\n\u001b[0;32m----> 1\u001b[0m test_data \u001b[39m=\u001b[39m  copy\u001b[39m.\u001b[39mdeepcopy(test_data[split_id_test])\n\u001b[1;32m      2\u001b[0m test_data\u001b[39m.\u001b[39mshape\n",
      "\u001b[0;31mIndexError\u001b[0m: too many indices for array: array is 3-dimensional, but 11 were indexed"
     ]
    }
   ],
   "source": [
    "test_data =  copy.deepcopy(test_data[split_id_test])\n",
    "test_data.shape"
   ]
  },
  {
   "cell_type": "code",
   "execution_count": 24,
   "metadata": {},
   "outputs": [
    {
     "name": "stderr",
     "output_type": "stream",
     "text": [
      "/tmp/ipykernel_8209/3011234132.py:1: FutureWarning: Using a non-tuple sequence for multidimensional indexing is deprecated; use `arr[tuple(seq)]` instead of `arr[seq]`. In the future this will be interpreted as an array index, `arr[np.array(seq)]`, which will result either in an error or a different result.\n",
      "  test_data =  test_data[split_id_test]\n"
     ]
    },
    {
     "ename": "IndexError",
     "evalue": "index 225 is out of bounds for axis 1 with size 17",
     "output_type": "error",
     "traceback": [
      "\u001b[0;31m---------------------------------------------------------------------------\u001b[0m",
      "\u001b[0;31mIndexError\u001b[0m                                Traceback (most recent call last)",
      "Cell \u001b[0;32mIn[24], line 1\u001b[0m\n\u001b[0;32m----> 1\u001b[0m test_data \u001b[39m=\u001b[39m  test_data[split_id_test]\n",
      "\u001b[0;31mIndexError\u001b[0m: index 225 is out of bounds for axis 1 with size 17"
     ]
    }
   ],
   "source": []
  },
  {
   "cell_type": "code",
   "execution_count": 27,
   "metadata": {},
   "outputs": [
    {
     "data": {
      "text/plain": [
       "[array([  0,   0,   1,   2,   4,   5,   6,   7,   7,   8,  10,  11,  11,\n",
       "         12,  12,  13,  14,  15,  16,  17,  18,  19,  21,  22,  23,  23,\n",
       "         24,  25,  25,  27,  28,  28,  29,  30,  32,  33,  34,  34,  36,\n",
       "         37,  37,  37,  39,  39,  41,  42,  42,  43,  45,  45,  46,  48,\n",
       "         48,  50,  50,  50,  51,  52,  54,  54,  56,  57,  58,  58,  60,\n",
       "         60,  62,  62,  63,  63,  64,  65,  66,  68,  68,  69,  71,  71,\n",
       "         72,  74,  75,  75,  75,  76,  78,  78,  80,  81,  81,  82,  84,\n",
       "         85,  86,  86,  88,  88,  88,  90,  90,  92,  93,  94,  95,  95,\n",
       "         97,  98,  98, 100, 100, 101, 101, 102, 104, 104, 105, 106, 108,\n",
       "        108, 109, 111, 112, 113, 113, 114, 114, 115, 117, 118, 119, 119,\n",
       "        120, 122, 123, 123, 124, 125, 126, 127, 127, 128, 129, 130, 131,\n",
       "        132, 134, 134, 136, 136, 138, 138, 138, 139, 140, 141, 143, 144,\n",
       "        144, 145, 147, 148, 148, 149, 150, 150, 151, 153, 154, 154, 156,\n",
       "        156, 158, 159, 160, 161, 162, 162, 163, 163, 165, 165, 167, 167,\n",
       "        168, 170, 170, 171, 172, 173, 175, 175, 175, 176, 178, 178, 180,\n",
       "        180, 182, 183, 184, 184, 186, 186, 188, 188, 188, 189, 191, 191,\n",
       "        192, 193, 195, 195, 196, 198, 198, 199, 200, 200, 202, 202, 203,\n",
       "        205, 205, 206, 207, 208, 210, 210, 212, 213, 213, 214, 214, 216,\n",
       "        217, 218, 219, 220, 220, 221, 223, 224, 224], dtype=uint32),\n",
       " array([225, 226, 226, 227, 229, 230, 230, 231, 233, 234, 234, 235, 237,\n",
       "        237, 238, 239, 240, 241, 241, 243, 243, 244, 245, 246, 248, 248,\n",
       "        250, 250, 250, 251, 253, 254, 254, 255, 256, 258, 258, 259, 261,\n",
       "        262, 262, 263, 264, 265, 266, 267, 267, 268, 269, 270, 272, 272,\n",
       "        274, 275, 275, 276, 277, 277, 278, 279, 280, 282, 283, 283, 285,\n",
       "        286, 286, 287, 288, 289, 289, 290, 291, 293, 294, 295, 296, 296,\n",
       "        297, 298, 300, 300, 300, 302, 303, 304, 304, 305, 306, 307, 308,\n",
       "        310, 310, 312, 312, 312, 314, 314, 315, 317, 317, 318, 319, 320,\n",
       "        321, 322, 324, 325, 325, 325, 326, 328, 329, 329, 330, 332, 333,\n",
       "        333, 335, 335, 336, 337, 337, 339, 340, 340, 341, 342, 343, 344,\n",
       "        346, 347, 347, 348, 350, 350, 350, 351, 352, 353, 355, 355, 356,\n",
       "        357, 358, 360, 361, 362, 362, 362, 364, 364, 366, 367, 368, 369,\n",
       "        370, 370, 371, 372, 373, 374, 375, 375, 376, 377, 379, 379, 381,\n",
       "        382, 383, 384, 385, 385, 386, 387, 387, 389, 390, 391, 391, 392,\n",
       "        393, 395, 396, 397, 398, 398, 399, 400, 400, 402, 402, 403, 405,\n",
       "        406, 406, 407, 408, 409, 411, 412, 412, 412, 414, 414, 415, 416,\n",
       "        418, 419, 419, 421, 421, 423, 424, 424, 425, 426, 426, 428, 428,\n",
       "        429, 431, 432, 432, 433, 434, 435, 436, 437, 438, 439, 440, 441,\n",
       "        442, 442, 443, 444, 446, 447, 448, 448, 449], dtype=uint32)]"
      ]
     },
     "execution_count": 27,
     "metadata": {},
     "output_type": "execute_result"
    }
   ],
   "source": [
    "split_id_test"
   ]
  },
  {
   "cell_type": "code",
   "execution_count": 33,
   "metadata": {},
   "outputs": [
    {
     "data": {
      "text/plain": [
       "(675, 17, 3)"
      ]
     },
     "execution_count": 33,
     "metadata": {},
     "output_type": "execute_result"
    }
   ],
   "source": [
    "test_data.shape"
   ]
  },
  {
   "cell_type": "code",
   "execution_count": 32,
   "metadata": {},
   "outputs": [
    {
     "name": "stderr",
     "output_type": "stream",
     "text": [
      "/tmp/ipykernel_8209/1774937449.py:1: FutureWarning: Using a non-tuple sequence for multidimensional indexing is deprecated; use `arr[tuple(seq)]` instead of `arr[seq]`. In the future this will be interpreted as an array index, `arr[np.array(seq)]`, which will result either in an error or a different result.\n",
      "  test_data[split_id_test]\n"
     ]
    },
    {
     "ename": "IndexError",
     "evalue": "index 225 is out of bounds for axis 1 with size 17",
     "output_type": "error",
     "traceback": [
      "\u001b[0;31m---------------------------------------------------------------------------\u001b[0m",
      "\u001b[0;31mIndexError\u001b[0m                                Traceback (most recent call last)",
      "Cell \u001b[0;32mIn[32], line 1\u001b[0m\n\u001b[0;32m----> 1\u001b[0m test_data[split_id_test]\n",
      "\u001b[0;31mIndexError\u001b[0m: index 225 is out of bounds for axis 1 with size 17"
     ]
    }
   ],
   "source": [
    "test_data[split_id_test]"
   ]
  }
 ],
 "metadata": {
  "kernelspec": {
   "display_name": "motionbert",
   "language": "python",
   "name": "python3"
  },
  "language_info": {
   "codemirror_mode": {
    "name": "ipython",
    "version": 3
   },
   "file_extension": ".py",
   "mimetype": "text/x-python",
   "name": "python",
   "nbconvert_exporter": "python",
   "pygments_lexer": "ipython3",
   "version": "3.9.17"
  },
  "orig_nbformat": 4
 },
 "nbformat": 4,
 "nbformat_minor": 2
}
