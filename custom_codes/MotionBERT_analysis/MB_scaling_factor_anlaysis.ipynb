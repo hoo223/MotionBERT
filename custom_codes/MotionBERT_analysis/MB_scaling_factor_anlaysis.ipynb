{
 "cells": [
  {
   "cell_type": "code",
   "execution_count": 3,
   "metadata": {},
   "outputs": [],
   "source": [
    "import os, pickle\n",
    "import numpy as np\n",
    "import copy"
   ]
  },
  {
   "cell_type": "code",
   "execution_count": 4,
   "metadata": {},
   "outputs": [],
   "source": [
    "# 데이터 로드\n",
    "# from LCN github - https://drive.google.com/drive/folders/1l-Xn5wiDd5ZcnClcqgiBCjHPp4ZjVVsY?usp=sharing\n",
    "with open('h36m_test.pkl', 'rb') as f:\n",
    "\tdata = pickle.load(f)"
   ]
  },
  {
   "cell_type": "markdown",
   "metadata": {},
   "source": [
    "### 데이터 체크"
   ]
  },
  {
   "cell_type": "code",
   "execution_count": 5,
   "metadata": {},
   "outputs": [
    {
     "data": {
      "text/plain": [
       "566920"
      ]
     },
     "execution_count": 5,
     "metadata": {},
     "output_type": "execute_result"
    }
   ],
   "source": [
    "len(data)"
   ]
  },
  {
   "cell_type": "code",
   "execution_count": 6,
   "metadata": {},
   "outputs": [
    {
     "data": {
      "text/plain": [
       "dict_keys(['videoid', 'cameraid', 'camera_param', 'imageid', 'image_path', 'joint_3d_image', 'joint_3d_camera', 'center', 'scale', 'box', 'subject', 'action', 'subaction', 'root_depth', '2.5d_factor', 'joint_2.5d_image'])"
      ]
     },
     "execution_count": 6,
     "metadata": {},
     "output_type": "execute_result"
    }
   ],
   "source": [
    "data[0].keys()"
   ]
  },
  {
   "cell_type": "code",
   "execution_count": 7,
   "metadata": {},
   "outputs": [
    {
     "name": "stdout",
     "output_type": "stream",
     "text": [
      "image_path s_09_act_02_subact_01_ca_01/s_09_act_02_subact_01_ca_01_000001.jpg\n",
      "scale (2.0966154005537834, 2.0942930938593434)\n",
      "2.5d_factor 4.656527137794738\n",
      "box (4,) 241.30236162919766\n",
      "joint_2.5d_image (17, 3) [2099.92564636 1888.20026799    0.        ]\n",
      "joint_3d_image (17, 3) [450.96390168 405.49538575   0.        ]\n",
      "joint_3d_camera (17, 3) [-293.70004272 -525.02728271 5461.41845703]\n",
      "root_depth 5461.41845703125\n",
      "center (450.963901684576, 405.49538574985655)\n"
     ]
    }
   ],
   "source": [
    "keys = ['image_path', 'scale', '2.5d_factor', 'box', 'joint_2.5d_image', 'joint_3d_image', 'joint_3d_camera', 'root_depth', 'center']\n",
    "for i in range(1):\n",
    "    for key in keys:\n",
    "        #print(key, type(data[i][key]))\n",
    "        t = type(data[i][key])\n",
    "        if t is np.ndarray:\n",
    "            print(key, data[i][key].shape, data[i][key][0])\n",
    "        elif t is np.float64:\n",
    "            print(key, data[i][key])\n",
    "        elif t is tuple:\n",
    "            print(key, data[i][key])\n",
    "        elif t is str:\n",
    "            print(key, data[i][key])\n",
    "    # print(data[i]['scale']) data[i]['2.5d_factor'], data[i]['scale'][0]*data[i]['scale'][1], data[i]['box'])\n",
    "    # print(data[i]['joint_2.5d_image'][0])\n",
    "    # print(data[i]['joint_3d_image'][0])\n",
    "    # print(data[i]['joint_3d_image'][0]*data[i]['2.5d_factor'])\n",
    "    # print(data[i]['joint_3d_camera'][0])\n",
    "    # print(data[i]['root_depth'])"
   ]
  },
  {
   "cell_type": "markdown",
   "metadata": {},
   "source": [
    "### calculate scaling factor"
   ]
  },
  {
   "cell_type": "code",
   "execution_count": 8,
   "metadata": {},
   "outputs": [],
   "source": [
    "def get_rootrel_pose(pose):\n",
    "    # input: pose (17, D)\n",
    "    # output: rootrel_pose (17, D)\n",
    "    root_pose = pose[0]\n",
    "    rootrel_pose = pose - root_pose\n",
    "    return rootrel_pose\n",
    "\n",
    "# https://github.com/CHUNYUWANG/lcn-pose/blob/master/tools/gendb.py\n",
    "def _weak_project(pose3d, fx, fy, cx, cy):\n",
    "    pose2d = pose3d[:, :2] / pose3d[:, 2:3]\n",
    "    pose2d[:, 0] *= fx\n",
    "    pose2d[:, 1] *= fy\n",
    "    pose2d[:, 0] += cx\n",
    "    pose2d[:, 1] += cy\n",
    "    return pose2d\n",
    "\n",
    "# https://github.com/CHUNYUWANG/lcn-pose/blob/master/tools/gendb.py\n",
    "def camera_to_image_frame(pose3d, box, camera, rootIdx):\n",
    "    # x, y\n",
    "    img_3d = np.zeros_like(pose3d)\n",
    "    img_3d[:, :2] = _weak_project(\n",
    "        pose3d.copy(), camera['fx'], camera['fy'], camera['cx'], camera['cy'])\n",
    "    # z\n",
    "    rectangle_3d_size = 2000.0\n",
    "    ratio = (box[2] - box[0] + 1) / rectangle_3d_size\n",
    "    pose3d_depth = ratio * (pose3d[:, 2] - pose3d[rootIdx, 2])\n",
    "    img_3d[:, 2] = pose3d_depth\n",
    "    img_2d = img_3d[:, :2]\n",
    "    return img_2d, img_3d\n",
    "\n",
    "# https://github.com/CHUNYUWANG/lcn-pose/blob/master/tools/gendb.py\n",
    "def _infer_box(pose3d, camera, rootIdx):\n",
    "    root_joint = pose3d[rootIdx, :]\n",
    "    tl_joint = root_joint.copy()\n",
    "    tl_joint[:2] -= 1000.0\n",
    "    br_joint = root_joint.copy()\n",
    "    br_joint[:2] += 1000.0\n",
    "    tl_joint = np.reshape(tl_joint, (1, 3))\n",
    "    br_joint = np.reshape(br_joint, (1, 3))\n",
    "    #print(root_joint, tl_joint, br_joint)\n",
    "\n",
    "    tl2d = _weak_project(tl_joint, camera['fx'], camera['fy'], camera['cx'],\n",
    "                         camera['cy']).flatten()\n",
    "\n",
    "    br2d = _weak_project(br_joint, camera['fx'], camera['fy'], camera['cx'],\n",
    "                         camera['cy']).flatten()\n",
    "    return np.array([tl2d[0], tl2d[1], br2d[0], br2d[1]])\n",
    "\n",
    "def optimize_scaling_factor(cam_cs_hat, img_cs_hat, epochs=200, learningRate=0.00001):\n",
    "    # https://towardsdatascience.com/linear-regression-with-pytorch-eb6dedead817\n",
    "    import torch\n",
    "    from torch.autograd import Variable\n",
    "    class linearRegression(torch.nn.Module):\n",
    "        def __init__(self, inputSize, outputSize):\n",
    "            super(linearRegression, self).__init__()\n",
    "            self.linear = torch.nn.Linear(inputSize, outputSize, bias=False)\n",
    "\n",
    "        def forward(self, x):\n",
    "            out = self.linear(x)\n",
    "            return out\n",
    "\n",
    "    x_train = copy.deepcopy(cam_cs_hat.reshape(-1, 1).astype(np.float32))\n",
    "    y_train = copy.deepcopy(img_cs_hat.reshape(-1, 1).astype(np.float32))\n",
    "\n",
    "    inputDim = 1        # takes variable 'x' \n",
    "    outputDim = 1       # takes variable 'y'\n",
    "\n",
    "    model = linearRegression(inputDim, outputDim)\n",
    "    #model.linear.weight.data[0] = 0.25\n",
    "\n",
    "    criterion = torch.nn.MSELoss() \n",
    "    optimizer = torch.optim.SGD(model.parameters(), lr=learningRate)\n",
    "\n",
    "    for epoch in range(epochs):\n",
    "        # Converting inputs and labels to Variable\n",
    "        if torch.cuda.is_available():\n",
    "            inputs = Variable(torch.from_numpy(x_train))\n",
    "            labels = Variable(torch.from_numpy(y_train))\n",
    "        else:\n",
    "            inputs = Variable(torch.from_numpy(x_train))\n",
    "            labels = Variable(torch.from_numpy(y_train))\n",
    "\n",
    "        # Clear gradient buffers because we don't want any gradient from previous epoch to carry forward, dont want to cummulate gradients\n",
    "        optimizer.zero_grad()\n",
    "\n",
    "        # get output from the model, given the inputs\n",
    "        outputs = model(inputs)\n",
    "\n",
    "        # get loss for the predicted output\n",
    "        loss = criterion(outputs, labels)\n",
    "        #print(loss)\n",
    "        # get gradients w.r.t to parameters\n",
    "        loss.backward()\n",
    "\n",
    "        # update parameters\n",
    "        optimizer.step()\n",
    "\n",
    "        #print('epoch {}, loss {}'.format(epoch, loss.item()))\n",
    "    return model.linear.weight.data.item()\n"
   ]
  },
  {
   "cell_type": "code",
   "execution_count": 9,
   "metadata": {},
   "outputs": [
    {
     "name": "stdout",
     "output_type": "stream",
     "text": [
      "1008\r"
     ]
    },
    {
     "ename": "KeyboardInterrupt",
     "evalue": "",
     "output_type": "error",
     "traceback": [
      "\u001b[0;31m---------------------------------------------------------------------------\u001b[0m",
      "\u001b[0;31mKeyboardInterrupt\u001b[0m                         Traceback (most recent call last)",
      "Cell \u001b[0;32mIn[9], line 27\u001b[0m\n\u001b[1;32m     23\u001b[0m img_3d_hat \u001b[39m=\u001b[39m get_rootrel_pose(img_3d) \u001b[39m# (17, 3) # root-relative pose \u001b[39;00m\n\u001b[1;32m     25\u001b[0m \u001b[39m# optimize scaling factor for each frame -> lambda 위치가 어디에 곱해지느냐에 따라 결과가 달라짐\u001b[39;00m\n\u001b[1;32m     26\u001b[0m \u001b[39m#pred_lambda, losses = optimize_scaling_factor(img_2d_hat, cam_2d_hat) # x,y만 사용\u001b[39;00m\n\u001b[0;32m---> 27\u001b[0m pred_lambda \u001b[39m=\u001b[39m optimize_scaling_factor(img_3d_hat, cam_3d_hat) \u001b[39m# x,y,z 사용\u001b[39;00m\n\u001b[1;32m     29\u001b[0m \u001b[39m#print(\"result: \", round(pred_lambda, 5), \"gt: \", round(scaling_factor, 5))\u001b[39;00m\n\u001b[1;32m     30\u001b[0m error_lambda \u001b[39m+\u001b[39m\u001b[39m=\u001b[39m \u001b[39mabs\u001b[39m(\u001b[39mround\u001b[39m(pred_lambda, \u001b[39m5\u001b[39m) \u001b[39m-\u001b[39m \u001b[39mround\u001b[39m(scaling_factor, \u001b[39m5\u001b[39m))\n",
      "Cell \u001b[0;32mIn[8], line 90\u001b[0m, in \u001b[0;36moptimize_scaling_factor\u001b[0;34m(cam_cs_hat, img_cs_hat, epochs, learningRate)\u001b[0m\n\u001b[1;32m     87\u001b[0m outputs \u001b[39m=\u001b[39m model(inputs)\n\u001b[1;32m     89\u001b[0m \u001b[39m# get loss for the predicted output\u001b[39;00m\n\u001b[0;32m---> 90\u001b[0m loss \u001b[39m=\u001b[39m criterion(outputs, labels)\n\u001b[1;32m     91\u001b[0m \u001b[39m#print(loss)\u001b[39;00m\n\u001b[1;32m     92\u001b[0m \u001b[39m# get gradients w.r.t to parameters\u001b[39;00m\n\u001b[1;32m     93\u001b[0m loss\u001b[39m.\u001b[39mbackward()\n",
      "File \u001b[0;32m~/Anaconda3/envs/motionbert/lib/python3.9/site-packages/torch/nn/modules/module.py:1130\u001b[0m, in \u001b[0;36mModule._call_impl\u001b[0;34m(self, *input, **kwargs)\u001b[0m\n\u001b[1;32m   1126\u001b[0m \u001b[39m# If we don't have any hooks, we want to skip the rest of the logic in\u001b[39;00m\n\u001b[1;32m   1127\u001b[0m \u001b[39m# this function, and just call forward.\u001b[39;00m\n\u001b[1;32m   1128\u001b[0m \u001b[39mif\u001b[39;00m \u001b[39mnot\u001b[39;00m (\u001b[39mself\u001b[39m\u001b[39m.\u001b[39m_backward_hooks \u001b[39mor\u001b[39;00m \u001b[39mself\u001b[39m\u001b[39m.\u001b[39m_forward_hooks \u001b[39mor\u001b[39;00m \u001b[39mself\u001b[39m\u001b[39m.\u001b[39m_forward_pre_hooks \u001b[39mor\u001b[39;00m _global_backward_hooks\n\u001b[1;32m   1129\u001b[0m         \u001b[39mor\u001b[39;00m _global_forward_hooks \u001b[39mor\u001b[39;00m _global_forward_pre_hooks):\n\u001b[0;32m-> 1130\u001b[0m     \u001b[39mreturn\u001b[39;00m forward_call(\u001b[39m*\u001b[39;49m\u001b[39minput\u001b[39;49m, \u001b[39m*\u001b[39;49m\u001b[39m*\u001b[39;49mkwargs)\n\u001b[1;32m   1131\u001b[0m \u001b[39m# Do not call functions when jit is used\u001b[39;00m\n\u001b[1;32m   1132\u001b[0m full_backward_hooks, non_full_backward_hooks \u001b[39m=\u001b[39m [], []\n",
      "File \u001b[0;32m~/Anaconda3/envs/motionbert/lib/python3.9/site-packages/torch/nn/modules/loss.py:530\u001b[0m, in \u001b[0;36mMSELoss.forward\u001b[0;34m(self, input, target)\u001b[0m\n\u001b[1;32m    529\u001b[0m \u001b[39mdef\u001b[39;00m \u001b[39mforward\u001b[39m(\u001b[39mself\u001b[39m, \u001b[39minput\u001b[39m: Tensor, target: Tensor) \u001b[39m-\u001b[39m\u001b[39m>\u001b[39m Tensor:\n\u001b[0;32m--> 530\u001b[0m     \u001b[39mreturn\u001b[39;00m F\u001b[39m.\u001b[39;49mmse_loss(\u001b[39minput\u001b[39;49m, target, reduction\u001b[39m=\u001b[39;49m\u001b[39mself\u001b[39;49m\u001b[39m.\u001b[39;49mreduction)\n",
      "File \u001b[0;32m~/Anaconda3/envs/motionbert/lib/python3.9/site-packages/torch/nn/functional.py:3280\u001b[0m, in \u001b[0;36mmse_loss\u001b[0;34m(input, target, size_average, reduce, reduction)\u001b[0m\n\u001b[1;32m   3277\u001b[0m     reduction \u001b[39m=\u001b[39m _Reduction\u001b[39m.\u001b[39mlegacy_get_string(size_average, reduce)\n\u001b[1;32m   3279\u001b[0m expanded_input, expanded_target \u001b[39m=\u001b[39m torch\u001b[39m.\u001b[39mbroadcast_tensors(\u001b[39minput\u001b[39m, target)\n\u001b[0;32m-> 3280\u001b[0m \u001b[39mreturn\u001b[39;00m torch\u001b[39m.\u001b[39;49m_C\u001b[39m.\u001b[39;49m_nn\u001b[39m.\u001b[39;49mmse_loss(expanded_input, expanded_target, _Reduction\u001b[39m.\u001b[39;49mget_enum(reduction))\n",
      "\u001b[0;31mKeyboardInterrupt\u001b[0m: "
     ]
    }
   ],
   "source": [
    "# 논문에서 제공하는 2.5d_factor와 최적화 과정을 통해 구한 값의 에러 확인\n",
    "error_lambda = 0\n",
    "N = 10000\n",
    "for i in range(N):\n",
    "    print(i, end='\\r')\n",
    "    joint_3d_image = data[i]['joint_3d_image']\n",
    "    joint_3d_camera = data[i]['joint_3d_camera']\n",
    "    joint_25d_image = data[i]['joint_2.5d_image']\n",
    "    scaling_factor = data[i]['2.5d_factor']\n",
    "    camera_param = data[i]['camera_param']\n",
    "    box = data[i]['box']\n",
    "\n",
    "    assert joint_3d_image[0][0]*scaling_factor == joint_25d_image[0][0] # scaling factor 확인\n",
    "    \n",
    "    cam_3d = copy.deepcopy(joint_3d_camera)\n",
    "    cam_3d_hat = get_rootrel_pose(cam_3d) # (17, 3) # root-relative pose \n",
    "    cam_2d_hat = copy.deepcopy(cam_3d_hat[:, :2]) # (17, 2) # root-relative pose\n",
    "    \n",
    "    # camera CS to image CS\n",
    "    img_2d, img_3d = camera_to_image_frame(cam_3d, box, camera_param, 0) \n",
    "    img_25d = copy.deepcopy(joint_25d_image) # (17, 3)\n",
    "    img_2d_hat = get_rootrel_pose(img_2d) # (17, 2) # root-relative pose \n",
    "    img_3d_hat = get_rootrel_pose(img_3d) # (17, 3) # root-relative pose \n",
    "\n",
    "    # optimize scaling factor for each frame -> lambda 위치가 어디에 곱해지느냐에 따라 결과가 달라짐\n",
    "    #pred_lambda, losses = optimize_scaling_factor(img_2d_hat, cam_2d_hat) # x,y만 사용\n",
    "    pred_lambda, losses = optimize_scaling_factor(img_3d_hat, cam_3d_hat) # x,y,z 사용\n",
    "    \n",
    "    #print(\"result: \", round(pred_lambda, 5), \"gt: \", round(scaling_factor, 5))\n",
    "    error_lambda += abs(round(pred_lambda, 5) - round(scaling_factor, 5))\n",
    "\n",
    "print(error_lambda / float(N))\n"
   ]
  },
  {
   "cell_type": "markdown",
   "metadata": {},
   "source": [
    "### box 확인"
   ]
  },
  {
   "cell_type": "code",
   "execution_count": 10,
   "metadata": {},
   "outputs": [],
   "source": [
    "i = 0\n",
    "joint_3d_image = data[i]['joint_3d_image']\n",
    "joint_3d_camera = data[i]['joint_3d_camera']\n",
    "joint_25d_image = data[i]['joint_2.5d_image']\n",
    "scaling_factor = data[i]['2.5d_factor']\n",
    "camera_param = data[i]['camera_param']\n",
    "box = data[i]['box']\n",
    "\n",
    "assert joint_3d_image[0][0]*scaling_factor == joint_25d_image[0][0] # scaling factor 확인\n",
    "\n",
    "cam_3d = copy.deepcopy(joint_3d_camera)\n",
    "cam_3d_hat = get_rootrel_pose(cam_3d) # (17, 3) # root-relative pose \n",
    "cam_2d_hat = copy.deepcopy(cam_3d_hat[:, :2]) # (17, 2) # root-relative pose\n",
    "\n",
    "# camera CS to image CS\n",
    "img_2d, img_3d = camera_to_image_frame(cam_3d, box, camera_param, 0) \n",
    "img_25d = copy.deepcopy(joint_25d_image) # (17, 3)\n",
    "img_2d_hat = get_rootrel_pose(img_2d) # (17, 2) # root-relative pose \n",
    "img_3d_hat = get_rootrel_pose(img_3d) # (17, 3) # root-relative pose \n",
    "\n",
    "# optimize scaling factor for each frame -> lambda 위치가 어디에 곱해지느냐에 따라 결과가 달라짐\n",
    "#pred_lambda, losses = optimize_scaling_factor(img_2d_hat, cam_2d_hat) # x,y만 사용\n",
    "pred_lambda, losses = optimize_scaling_factor(img_3d_hat, cam_3d_hat) # x,y,z 사용"
   ]
  },
  {
   "cell_type": "code",
   "execution_count": 11,
   "metadata": {},
   "outputs": [
    {
     "data": {
      "text/plain": [
       "(array([241.30236163, 196.06607636, 660.62544174, 614.92469514]),\n",
       " array([241.30236163, 196.06607636, 660.62544174, 614.92469514]))"
      ]
     },
     "execution_count": 11,
     "metadata": {},
     "output_type": "execute_result"
    }
   ],
   "source": [
    "box, _infer_box(cam_3d, camera_param, 0)"
   ]
  },
  {
   "cell_type": "code",
   "execution_count": 12,
   "metadata": {},
   "outputs": [
    {
     "data": {
      "text/plain": [
       "420.3230801107567"
      ]
     },
     "execution_count": 12,
     "metadata": {},
     "output_type": "execute_result"
    }
   ],
   "source": [
    "box[2] - box[0] + 1"
   ]
  },
  {
   "cell_type": "code",
   "execution_count": 13,
   "metadata": {},
   "outputs": [
    {
     "data": {
      "text/plain": [
       "0.21016154005537835"
      ]
     },
     "execution_count": 13,
     "metadata": {},
     "output_type": "execute_result"
    }
   ],
   "source": [
    "rectangle_3d_size = 2000.0\n",
    "ratio = (box[2] - box[0] + 1) / rectangle_3d_size\n",
    "ratio"
   ]
  },
  {
   "cell_type": "code",
   "execution_count": 14,
   "metadata": {},
   "outputs": [
    {
     "data": {
      "text/plain": [
       "array([  0.        ,   8.82873442,  22.07004024,  22.32114634,\n",
       "        -8.82904228,   2.5169102 ,  -3.42836274, -12.33313706,\n",
       "       -25.37310648, -20.50511667, -35.28815441, -44.31740429,\n",
       "       -66.06594253, -70.10467677, -11.45575367,  15.07447269,\n",
       "        47.65566848])"
      ]
     },
     "execution_count": 14,
     "metadata": {},
     "output_type": "execute_result"
    }
   ],
   "source": [
    "ratio*(cam_3d[:, 2] - cam_3d[0, 2])"
   ]
  },
  {
   "cell_type": "markdown",
   "metadata": {},
   "source": [
    "### 관계 확인"
   ]
  },
  {
   "cell_type": "code",
   "execution_count": 15,
   "metadata": {},
   "outputs": [
    {
     "data": {
      "text/plain": [
       "True"
      ]
     },
     "execution_count": 15,
     "metadata": {},
     "output_type": "execute_result"
    }
   ],
   "source": [
    "(joint_3d_image == img_3d).min()"
   ]
  },
  {
   "cell_type": "code",
   "execution_count": 16,
   "metadata": {},
   "outputs": [
    {
     "data": {
      "text/plain": [
       "array([[False, False,  True],\n",
       "       [False, False, False],\n",
       "       [False, False, False],\n",
       "       [False, False, False],\n",
       "       [False, False, False],\n",
       "       [False, False, False],\n",
       "       [False, False, False],\n",
       "       [False, False, False],\n",
       "       [False, False, False],\n",
       "       [False, False, False],\n",
       "       [False, False, False],\n",
       "       [False, False, False],\n",
       "       [False, False, False],\n",
       "       [False, False, False],\n",
       "       [False, False, False],\n",
       "       [False, False, False],\n",
       "       [False, False, False]])"
      ]
     },
     "execution_count": 16,
     "metadata": {},
     "output_type": "execute_result"
    }
   ],
   "source": [
    "(joint_3d_image * pred_lambda) == joint_25d_image # 반올림 필요"
   ]
  },
  {
   "cell_type": "code",
   "execution_count": 17,
   "metadata": {},
   "outputs": [
    {
     "data": {
      "text/plain": [
       "True"
      ]
     },
     "execution_count": 17,
     "metadata": {},
     "output_type": "execute_result"
    }
   ],
   "source": [
    "(np.round(joint_25d_image) == np.round(img_3d * pred_lambda)).min()"
   ]
  },
  {
   "cell_type": "markdown",
   "metadata": {},
   "source": [
    "### Visualization"
   ]
  },
  {
   "cell_type": "code",
   "execution_count": 18,
   "metadata": {},
   "outputs": [],
   "source": [
    "import cv2\n",
    "from matplotlib import pyplot as plt"
   ]
  },
  {
   "cell_type": "markdown",
   "metadata": {},
   "source": [
    "#### 2d image"
   ]
  },
  {
   "cell_type": "code",
   "execution_count": 19,
   "metadata": {},
   "outputs": [],
   "source": [
    "# https://github.com/Vegetebird/MHFormer/blob/main/demo/vis.py\n",
    "def get_2d_pose_image(kps, img, box=None):\n",
    "    connections = [[0, 1], [1, 2], [2, 3], [0, 4], [4, 5],\n",
    "                   [5, 6], [0, 7], [7, 8], [8, 9], [9, 10],\n",
    "                   [8, 11], [11, 12], [12, 13], [8, 14], [14, 15], [15, 16]]\n",
    "\n",
    "    LR = np.array([0, 0, 0, 1, 1, 1, 1, 1, 1, 1, 1, 1, 1, 0, 0, 0], dtype=bool)\n",
    "\n",
    "    lcolor = (255, 0, 0)\n",
    "    rcolor = (0, 0, 255)\n",
    "    thickness = 3\n",
    "\n",
    "    for j,c in enumerate(connections):\n",
    "        start = map(int, kps[c[0]])\n",
    "        end = map(int, kps[c[1]])\n",
    "        start = list(start)\n",
    "        end = list(end)\n",
    "        cv2.line(img, (start[0], start[1]), (end[0], end[1]), lcolor if LR[j] else rcolor, thickness)\n",
    "        cv2.circle(img, (start[0], start[1]), thickness=-1, color=(0, 255, 0), radius=3)\n",
    "        cv2.circle(img, (end[0], end[1]), thickness=-1, color=(0, 255, 0), radius=3)\n",
    "        if box is not None:\n",
    "            box = box.astype(int)\n",
    "            cv2.rectangle(img, (box[0], box[1]), (box[2], box[3]), (0, 255, 0), 2)\n",
    "\n",
    "    return img\n",
    "\n",
    "def plot_cv2_image(img):\n",
    "    #plt.axis('off')\n",
    "    plt.imshow(img)\n",
    "    plt.show()"
   ]
  },
  {
   "cell_type": "code",
   "execution_count": 20,
   "metadata": {},
   "outputs": [
    {
     "name": "stderr",
     "output_type": "stream",
     "text": [
      "Clipping input data to the valid range for imshow with RGB data ([0..1] for floats or [0..255] for integers).\n"
     ]
    },
    {
     "data": {
      "image/png": "[encoded data removed]",
      "text/plain": [
       "<Figure size 640x480 with 1 Axes>"
      ]
     },
     "metadata": {},
     "output_type": "display_data"
    }
   ],
   "source": [
    "# img_2d\n",
    "img = np.ones([1000, 1000, 3])\n",
    "img = get_2d_pose_image(img_2d, img, box)\n",
    "plot_cv2_image(img)"
   ]
  },
  {
   "cell_type": "code",
   "execution_count": 21,
   "metadata": {},
   "outputs": [
    {
     "name": "stderr",
     "output_type": "stream",
     "text": [
      "Clipping input data to the valid range for imshow with RGB data ([0..1] for floats or [0..255] for integers).\n"
     ]
    },
    {
     "data": {
      "image/png": "[encoded data removed]",
      "text/plain": [
       "<Figure size 640x480 with 1 Axes>"
      ]
     },
     "metadata": {},
     "output_type": "display_data"
    }
   ],
   "source": [
    "# img_2d\n",
    "img = np.ones([2000, 2000, 3])\n",
    "img = get_2d_pose_image(cam_3d_hat[:, :2] + 1000, img)\n",
    "plot_cv2_image(img)"
   ]
  },
  {
   "cell_type": "markdown",
   "metadata": {},
   "source": [
    "#### 3d image"
   ]
  },
  {
   "cell_type": "code",
   "execution_count": 22,
   "metadata": {},
   "outputs": [],
   "source": [
    "import matplotlib\n",
    "import matplotlib.pyplot as plt\n",
    "from mpl_toolkits.mplot3d import Axes3D\n",
    "import matplotlib.gridspec as gridspec\n",
    "\n",
    "plt.switch_backend('TkAgg')\n",
    "matplotlib.rcParams['pdf.fonttype'] = 42\n",
    "matplotlib.rcParams['ps.fonttype'] = 42"
   ]
  },
  {
   "cell_type": "code",
   "execution_count": 23,
   "metadata": {},
   "outputs": [],
   "source": [
    "# https://github.com/Vegetebird/MHFormer/blob/main/demo/vis.py\n",
    "def show3Dpose(pose, ax):\n",
    "    joint_pairs = [[0, 1], [1, 2], [2, 3], [0, 4], [4, 5], [5, 6], [0, 7], [7, 8], [8, 9], [8, 11], [8, 14], [9, 10], [11, 12], [12, 13], [14, 15], [15, 16]]\n",
    "    joint_pairs_left = [[8, 11], [11, 12], [12, 13], [0, 4], [4, 5], [5, 6]]\n",
    "    joint_pairs_right = [[8, 14], [14, 15], [15, 16], [0, 1], [1, 2], [2, 3]]\n",
    "\n",
    "    color_mid = \"#00457E\"\n",
    "    color_left = \"#02315E\"\n",
    "    color_right = \"#2F70AF\"\n",
    "\n",
    "    j3d = pose\n",
    "    \n",
    "    # plt.tick_params(left = True, right = True , labelleft = False ,\n",
    "    #                 labelbottom = False, bottom = False)\n",
    "    # 좀 더 보기 좋게 하기 위해 y <-> z, - 붙임\n",
    "    for i in range(len(joint_pairs)):\n",
    "        limb = joint_pairs[i]\n",
    "        xs, ys, zs = [np.array([j3d[limb[0], j], j3d[limb[1], j]]) for j in range(3)]\n",
    "        if joint_pairs[i] in joint_pairs_left:\n",
    "            ax.plot(-xs, -zs, -ys, color=color_left, lw=3, marker='o', markerfacecolor='w', markersize=3, markeredgewidth=2) # axis transformation for visualization\n",
    "        elif joint_pairs[i] in joint_pairs_right:\n",
    "            ax.plot(-xs, -zs, -ys, color=color_right, lw=3, marker='o', markerfacecolor='w', markersize=3, markeredgewidth=2) # axis transformation for visualization\n",
    "        else:\n",
    "            ax.plot(-xs, -zs, -ys, color=color_mid, lw=3, marker='o', markerfacecolor='w', markersize=3, markeredgewidth=2) # axis transformation for visualization\n",
    "\n",
    "def show3Dbox(root_joint, offset, ax):\n",
    "    top_left = copy.deepcopy(root_joint)\n",
    "    top_left[:2] -= offset\n",
    "    top_right = copy.deepcopy(root_joint)\n",
    "    top_right[0] -= offset\n",
    "    top_right[1] += offset\n",
    "    bottom_right = copy.deepcopy(root_joint)\n",
    "    bottom_right[:2] += offset\n",
    "    bottom_left = copy.deepcopy(root_joint)\n",
    "    bottom_left[0] += offset\n",
    "    bottom_left[1] -= offset\n",
    "    ax.plot(-top_left[0], -top_left[2], -top_left[1], marker='o', markersize=3)\n",
    "    ax.plot(-bottom_right[0], -bottom_right[2], -bottom_right[1], marker='o', markersize=3)\n",
    "    ax.plot(-top_right[0], -top_right[2], -top_right[1], marker='o', markersize=3)\n",
    "    ax.plot(-bottom_left[0], -bottom_left[2], -bottom_left[1], marker='o', markersize=3)\n"
   ]
  },
  {
   "cell_type": "code",
   "execution_count": 24,
   "metadata": {},
   "outputs": [],
   "source": [
    "# cam_3d with box\n",
    "min_, max_ = -2000, 2000\n",
    "fig = plt.figure(0, figsize=(10, 10))\n",
    "ax = plt.axes(projection=\"3d\")\n",
    "ax.set_xlim(0, max_)\n",
    "ax.set_ylim(min_, 0)\n",
    "ax.set_zlim(0, max_)\n",
    "ax.set_xlabel('X')\n",
    "ax.set_ylabel('Y')\n",
    "ax.set_zlabel('Z')\n",
    "ax.view_init(elev=12., azim=80)\n",
    "show3Dpose(cam_3d, ax)\n",
    "show3Dbox(cam_3d[0], 1000, ax)\n",
    "plt.savefig('cam_3d.png')"
   ]
  },
  {
   "cell_type": "code",
   "execution_count": 25,
   "metadata": {},
   "outputs": [],
   "source": [
    "# img_25d\n",
    "min_, max_ = -2000, 2000\n",
    "fig = plt.figure(0, figsize=(10, 10))\n",
    "ax = plt.axes(projection=\"3d\")\n",
    "ax.set_xlim(min_, max_)\n",
    "ax.set_ylim(min_, max_)\n",
    "ax.set_zlim(min_, max_)\n",
    "ax.set_xlabel('X')\n",
    "ax.set_ylabel('Y')\n",
    "ax.set_zlabel('Z')\n",
    "ax.view_init(elev=12., azim=80)\n",
    "show3Dpose(img_25d, ax)\n",
    "plt.savefig('img_25d.png')"
   ]
  },
  {
   "cell_type": "code",
   "execution_count": 26,
   "metadata": {},
   "outputs": [],
   "source": [
    "# cam_3d_hat\n",
    "fig = plt.figure(0, figsize=(10, 10))\n",
    "ax = plt.axes(projection=\"3d\")\n",
    "ax.set_xlim(-512, 512)\n",
    "ax.set_ylim(-512, 512)\n",
    "ax.set_zlim(-512, 512)\n",
    "ax.set_xlabel('X')\n",
    "ax.set_ylabel('Y')\n",
    "ax.set_zlabel('Z')\n",
    "ax.view_init(elev=12., azim=80)\n",
    "show3Dpose(cam_3d_hat, ax)\n",
    "plt.savefig('cam_3d_hat.png')"
   ]
  },
  {
   "cell_type": "code",
   "execution_count": 27,
   "metadata": {},
   "outputs": [],
   "source": [
    "# img_3d\n",
    "fig = plt.figure(0, figsize=(10, 10))\n",
    "ax = plt.axes(projection=\"3d\")\n",
    "ax.set_xlim(-512, 512)\n",
    "ax.set_ylim(-512, 512)\n",
    "ax.set_zlim(-512, 512)\n",
    "ax.set_xlabel('X')\n",
    "ax.set_ylabel('Y')\n",
    "ax.set_zlabel('Z')\n",
    "ax.view_init(elev=12., azim=80)\n",
    "\n",
    "show3Dpose(img_3d, ax)\n",
    "plt.savefig('img3d.png')"
   ]
  },
  {
   "cell_type": "code",
   "execution_count": 28,
   "metadata": {},
   "outputs": [],
   "source": [
    "# img_3d_hat\n",
    "fig = plt.figure(0, figsize=(10, 10))\n",
    "ax = plt.axes(projection=\"3d\")\n",
    "ax.set_xlim(-512, 512)\n",
    "ax.set_ylim(-512, 512)\n",
    "ax.set_zlim(-512, 512)\n",
    "ax.set_xlabel('X')\n",
    "ax.set_ylabel('Y')\n",
    "ax.set_zlabel('Z')\n",
    "ax.view_init(elev=12., azim=80)\n",
    "\n",
    "show3Dpose(img_3d_hat, ax)\n",
    "plt.savefig('img_3d_hat.png')"
   ]
  },
  {
   "cell_type": "code",
   "execution_count": 29,
   "metadata": {},
   "outputs": [],
   "source": [
    "# img_3d vs img_25d\n",
    "fig = plt.figure(0, figsize=(10, 10))\n",
    "ax = plt.axes(projection=\"3d\")\n",
    "ax.set_xlim(-512, 512)\n",
    "ax.set_ylim(-512, 512)\n",
    "ax.set_zlim(-512, 512)\n",
    "ax.set_xlabel('X')\n",
    "ax.set_ylabel('Y')\n",
    "ax.set_zlabel('Z')\n",
    "ax.view_init(elev=12., azim=80)\n",
    "\n",
    "show3Dpose(img_3d_hat, ax)\n",
    "show3Dpose(get_rootrel_pose(img_25d), ax)\n",
    "plt.savefig('img_3d_vs_img_25d.png')"
   ]
  },
  {
   "cell_type": "code",
   "execution_count": 30,
   "metadata": {},
   "outputs": [],
   "source": [
    "# img_3d x scale vs img_25d\n",
    "fig = plt.figure(0, figsize=(10, 10))\n",
    "ax = plt.axes(projection=\"3d\")\n",
    "ax.set_xlim(-512, 512)\n",
    "ax.set_ylim(-512, 512)\n",
    "ax.set_zlim(-512, 512)\n",
    "ax.set_xlabel('X')\n",
    "ax.set_ylabel('Y')\n",
    "ax.set_zlabel('Z')\n",
    "ax.view_init(elev=12., azim=80)\n",
    "\n",
    "show3Dpose(img_3d_hat * pred_lambda, ax)\n",
    "show3Dpose(get_rootrel_pose(img_25d), ax)\n",
    "plt.savefig('img_3dxscale_vs_img_25d.png')"
   ]
  },
  {
   "cell_type": "code",
   "execution_count": 31,
   "metadata": {},
   "outputs": [],
   "source": [
    "# cam_3d vs img_3d x scale (= img_25d)\n",
    "fig = plt.figure(0, figsize=(10, 10))\n",
    "ax = plt.axes(projection=\"3d\")\n",
    "ax.set_xlim(-512, 512)\n",
    "ax.set_ylim(-512, 512)\n",
    "ax.set_zlim(-512, 512)\n",
    "ax.set_xlabel('X')\n",
    "ax.set_ylabel('Y')\n",
    "ax.set_zlabel('Z')\n",
    "ax.view_init(elev=12., azim=80)\n",
    "\n",
    "show3Dpose(img_3d_hat * pred_lambda, ax)\n",
    "show3Dpose(cam_3d_hat, ax)\n",
    "plt.savefig('img_3dxscale_vs_cam_3d.png')"
   ]
  },
  {
   "cell_type": "code",
   "execution_count": null,
   "metadata": {},
   "outputs": [],
   "source": []
  }
 ],
 "metadata": {
  "kernelspec": {
   "display_name": "base",
   "language": "python",
   "name": "python3"
  },
  "language_info": {
   "codemirror_mode": {
    "name": "ipython",
    "version": 3
   },
   "file_extension": ".py",
   "mimetype": "text/x-python",
   "name": "python",
   "nbconvert_exporter": "python",
   "pygments_lexer": "ipython3",
   "version": "3.9.17"
  },
  "orig_nbformat": 4
 },
 "nbformat": 4,
 "nbformat_minor": 2
}
