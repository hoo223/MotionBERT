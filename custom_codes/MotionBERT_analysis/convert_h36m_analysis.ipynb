{
 "cells": [
  {
   "cell_type": "code",
   "execution_count": 1,
   "metadata": {},
   "outputs": [],
   "source": [
    "import os\n",
    "import sys\n",
    "import pickle\n",
    "import numpy as np\n",
    "import random\n",
    "sys.path.insert(0, os.getcwd())\n",
    "\n",
    "os.chdir('..')\n",
    "from lib.utils.tools import read_pkl\n",
    "from lib.data.datareader_h36m import DataReaderH36M\n",
    "from lib.data.datareader_aihub import DataReaderAIHUB\n",
    "from tqdm import tqdm"
   ]
  },
  {
   "cell_type": "code",
   "execution_count": 2,
   "metadata": {},
   "outputs": [],
   "source": [
    "#datareader = DataReaderH36M(n_frames=243, sample_stride=1, data_stride_train=81, data_stride_test=243, dt_file = 'h36m_sh_conf_cam_source_final.pkl', dt_root='data/motion3d/')\n",
    "datareader = DataReaderAIHUB(n_frames=243, sample_stride=1, data_stride_train=81, data_stride_test=243, dt_file = 'aihub_30.pkl', dt_root='data/motion3d/')\n"
   ]
  },
  {
   "cell_type": "code",
   "execution_count": 3,
   "metadata": {},
   "outputs": [],
   "source": [
    "train_data, test_data = datareader.read_2d()"
   ]
  },
  {
   "cell_type": "code",
   "execution_count": 4,
   "metadata": {},
   "outputs": [],
   "source": [
    "train_labels, test_labels = datareader.read_3d()"
   ]
  },
  {
   "cell_type": "code",
   "execution_count": 5,
   "metadata": {},
   "outputs": [
    {
     "data": {
      "text/plain": [
       "1"
      ]
     },
     "execution_count": 5,
     "metadata": {},
     "output_type": "execute_result"
    }
   ],
   "source": [
    "datareader.sample_stride"
   ]
  },
  {
   "cell_type": "code",
   "execution_count": 6,
   "metadata": {},
   "outputs": [],
   "source": [
    "vid_list_train = datareader.dt_dataset['train']['source'][::datareader.sample_stride]\n",
    "vid_list_test = datareader.dt_dataset['test']['source'][::datareader.sample_stride]  "
   ]
  },
  {
   "cell_type": "code",
   "execution_count": 7,
   "metadata": {},
   "outputs": [
    {
     "data": {
      "text/plain": [
       "17322"
      ]
     },
     "execution_count": 7,
     "metadata": {},
     "output_type": "execute_result"
    }
   ],
   "source": [
    "len(vid_list_train)"
   ]
  },
  {
   "cell_type": "code",
   "execution_count": 18,
   "metadata": {},
   "outputs": [],
   "source": [
    "def split_clips(vid_list, n_frames, data_stride):\n",
    "    result = []\n",
    "    n_clips = 0\n",
    "    st = 0\n",
    "    i = 0\n",
    "    saved = set()\n",
    "    while i<len(vid_list):\n",
    "        i += 1\n",
    "        #print(i)\n",
    "        if i-st == n_frames: # 시작 지점부터 n_frames마다\n",
    "            #print(i, st, n_frames)\n",
    "            result.append(range(st,i))\n",
    "            saved.add(vid_list[i-1])\n",
    "            st = st + data_stride\n",
    "            n_clips += 1\n",
    "        if i==len(vid_list):\n",
    "            break\n",
    "        if vid_list[i]!=vid_list[i-1]: \n",
    "            #print(vid_list[i], vid_list[i-1])\n",
    "            if not (vid_list[i-1] in saved):\n",
    "                resampled = resample(i-st, n_frames) + st\n",
    "                result.append(resampled)\n",
    "                saved.add(vid_list[i-1])\n",
    "            st = i\n",
    "        #print(result)\n",
    "    return result\n",
    "\n",
    "def resample(ori_len, target_len, replay=False, randomness=True):\n",
    "    if replay:\n",
    "        if ori_len > target_len:\n",
    "            st = np.random.randint(ori_len-target_len)\n",
    "            return range(st, st+target_len)  # Random clipping from sequence\n",
    "        else:\n",
    "            return np.array(range(target_len)) % ori_len  # Replay padding\n",
    "    else:\n",
    "        if randomness:\n",
    "            even = np.linspace(0, ori_len, num=target_len, endpoint=False)\n",
    "            if ori_len < target_len:\n",
    "                low = np.floor(even)\n",
    "                high = np.ceil(even)\n",
    "                sel = np.random.randint(2, size=even.shape)\n",
    "                result = np.sort(sel*low+(1-sel)*high)\n",
    "            else:\n",
    "                interval = even[1] - even[0]\n",
    "                result = np.random.random(even.shape)*interval + even\n",
    "            result = np.clip(result, a_min=0, a_max=ori_len-1).astype(np.uint32)\n",
    "        else:\n",
    "            result = np.linspace(0, ori_len, num=target_len, endpoint=False, dtype=int)\n",
    "        return result"
   ]
  },
  {
   "cell_type": "code",
   "execution_count": 19,
   "metadata": {},
   "outputs": [
    {
     "data": {
      "text/plain": [
       "243"
      ]
     },
     "execution_count": 19,
     "metadata": {},
     "output_type": "execute_result"
    }
   ],
   "source": [
    "datareader.n_frames"
   ]
  },
  {
   "cell_type": "code",
   "execution_count": 20,
   "metadata": {},
   "outputs": [
    {
     "data": {
      "text/plain": [
       "array(['res_30_M170B_3', 'res_30_M170B_3', 'res_30_M170B_3',\n",
       "       'res_30_M170B_3', 'res_30_M170B_3', 'res_30_M170B_3',\n",
       "       'res_30_M170B_3', 'res_30_M170B_3', 'res_30_M170B_3',\n",
       "       'res_30_M170B_3', 'res_30_M170B_3', 'res_30_M170B_3',\n",
       "       'res_30_M170B_3', 'res_30_M170B_3', 'res_30_M170B_3',\n",
       "       'res_30_M170B_3', 'res_30_M170B_3', 'res_30_M170B_3',\n",
       "       'res_30_M170B_3', 'res_30_M170B_3', 'res_30_M170B_3',\n",
       "       'res_30_M170B_3', 'res_30_M170B_3', 'res_30_M170B_3',\n",
       "       'res_30_M170B_3', 'res_30_M170B_3', 'res_30_M170B_3',\n",
       "       'res_30_M170B_3', 'res_30_M170B_3', 'res_30_M170B_3',\n",
       "       'res_30_M170B_3', 'res_30_M170B_3', 'res_30_M170B_3',\n",
       "       'res_30_M170B_3', 'res_30_M170B_3', 'res_30_M170B_3',\n",
       "       'res_30_M170B_3', 'res_30_M170B_3', 'res_30_M170B_3',\n",
       "       'res_30_M170B_3', 'res_30_M170B_3', 'res_30_M170B_3',\n",
       "       'res_30_M170B_3', 'res_30_M170B_3', 'res_30_M170B_3',\n",
       "       'res_30_M170B_3', 'res_30_M170B_3', 'res_30_M170B_3',\n",
       "       'res_30_M170B_3', 'res_30_M170B_3', 'res_30_M170B_3',\n",
       "       'res_30_M170B_3', 'res_30_M170B_3', 'res_30_M170B_3',\n",
       "       'res_30_M170B_3', 'res_30_M170B_3', 'res_30_M170B_3',\n",
       "       'res_30_M170B_3', 'res_30_M170B_3', 'res_30_M170B_3',\n",
       "       'res_30_M170B_3', 'res_30_M170B_3', 'res_30_M170B_3',\n",
       "       'res_30_M170B_3', 'res_30_M170B_3', 'res_30_M170B_3',\n",
       "       'res_30_M170B_3', 'res_30_M170B_3', 'res_30_M170B_3',\n",
       "       'res_30_M170B_3', 'res_30_M170B_3', 'res_30_M170B_3',\n",
       "       'res_30_M170B_3', 'res_30_M170B_3', 'res_30_M170B_3',\n",
       "       'res_30_M170B_3', 'res_30_M170B_3', 'res_30_M170B_3',\n",
       "       'res_30_M170B_3', 'res_30_M170B_3', 'res_30_M170B_3',\n",
       "       'res_30_M170B_3', 'res_30_M170B_3', 'res_30_M170B_3',\n",
       "       'res_30_M170B_3', 'res_30_M170B_3', 'res_30_M170B_3',\n",
       "       'res_30_M170B_3', 'res_30_M170B_3', 'res_30_M170B_3',\n",
       "       'res_30_M170B_3', 'res_30_M170B_3', 'res_30_M170B_3',\n",
       "       'res_30_M170B_3', 'res_30_M170B_3', 'res_30_M170B_3',\n",
       "       'res_30_M170B_3', 'res_30_M170B_3', 'res_30_M170B_3',\n",
       "       'res_30_M170B_3', 'res_30_M170B_3', 'res_30_M170B_3',\n",
       "       'res_30_M170B_3', 'res_30_M170B_3', 'res_30_M170B_3',\n",
       "       'res_30_M170B_3', 'res_30_M170B_3', 'res_30_M170B_3',\n",
       "       'res_30_M170B_3', 'res_30_M170B_3', 'res_30_M170B_3',\n",
       "       'res_30_M170B_3', 'res_30_M170B_3', 'res_30_M170B_3',\n",
       "       'res_30_M170B_3', 'res_30_M170B_3', 'res_30_M170B_3',\n",
       "       'res_30_M170B_3', 'res_30_M170B_3', 'res_30_M170B_3',\n",
       "       'res_30_M170B_3', 'res_30_M170B_3', 'res_30_M170B_3',\n",
       "       'res_30_M170B_3', 'res_30_M170B_3', 'res_30_M170B_3',\n",
       "       'res_30_M170B_3', 'res_30_M170B_3', 'res_30_M170B_3',\n",
       "       'res_30_M170B_3', 'res_30_M170B_3', 'res_30_M170B_3',\n",
       "       'res_30_M170B_3', 'res_30_M170B_3', 'res_30_M170B_3',\n",
       "       'res_30_M170B_3', 'res_30_M170B_3', 'res_30_M170B_3',\n",
       "       'res_30_M170B_3', 'res_30_M170B_3', 'res_30_M170B_3',\n",
       "       'res_30_M170B_3', 'res_30_M170B_3', 'res_30_M170B_3',\n",
       "       'res_30_M170B_3', 'res_30_M170B_3', 'res_30_M170B_3',\n",
       "       'res_30_M170B_3', 'res_30_M170B_3', 'res_30_M170B_3',\n",
       "       'res_30_M170B_3', 'res_30_M170B_3', 'res_30_M170B_3',\n",
       "       'res_30_M170B_3', 'res_30_M170B_3', 'res_30_M170B_3',\n",
       "       'res_30_M170B_3', 'res_30_M170B_3', 'res_30_M170B_3',\n",
       "       'res_30_M170B_3', 'res_30_M170B_3', 'res_30_M170B_3',\n",
       "       'res_30_M170B_3', 'res_30_M170B_3', 'res_30_M170B_3',\n",
       "       'res_30_M170B_3', 'res_30_M170B_3', 'res_30_M170B_3',\n",
       "       'res_30_M170B_3', 'res_30_M170B_3', 'res_30_M170B_3',\n",
       "       'res_30_M170B_3', 'res_30_M170B_3', 'res_30_M170B_3',\n",
       "       'res_30_M170B_3', 'res_30_M170B_3', 'res_30_M170B_3',\n",
       "       'res_30_M170B_3', 'res_30_M170B_3', 'res_30_M170B_3',\n",
       "       'res_30_M170B_3', 'res_30_M170B_3', 'res_30_M170B_3',\n",
       "       'res_30_M170B_3', 'res_30_M170B_3', 'res_30_M170B_3',\n",
       "       'res_30_M170B_3', 'res_30_M170B_3', 'res_30_M170B_3',\n",
       "       'res_30_M170B_3', 'res_30_M170B_3', 'res_30_M170B_3',\n",
       "       'res_30_M170B_3', 'res_30_M170B_3', 'res_30_M170B_3',\n",
       "       'res_30_M170B_3', 'res_30_M170B_3', 'res_30_M170B_3',\n",
       "       'res_30_M170B_3', 'res_30_M170B_3', 'res_30_M170B_3',\n",
       "       'res_30_M170B_3', 'res_30_M170B_3', 'res_30_M170B_3',\n",
       "       'res_30_M170B_3', 'res_30_M170B_3', 'res_30_M170B_3',\n",
       "       'res_30_M170B_3', 'res_30_M170B_3', 'res_30_M170B_3',\n",
       "       'res_30_M170B_3', 'res_30_M170B_3', 'res_30_M170B_3',\n",
       "       'res_30_M170B_3', 'res_30_M170B_3', 'res_30_M170B_3',\n",
       "       'res_30_M170B_3', 'res_30_M170B_3', 'res_30_M170B_3',\n",
       "       'res_30_M170B_3', 'res_30_M170B_3', 'res_30_M170B_3',\n",
       "       'res_30_M170B_3', 'res_30_M170B_3', 'res_30_M170B_3',\n",
       "       'res_30_M170B_3', 'res_30_M170B_3', 'res_30_M170B_3',\n",
       "       'res_30_M170B_3', 'res_30_M170B_3', 'res_30_M170B_3',\n",
       "       'res_30_M170B_3', 'res_30_M170B_3', 'res_30_M170B_3',\n",
       "       'res_30_M170B_3', 'res_30_M170B_3', 'res_30_M170B_3',\n",
       "       'res_30_M170B_3', 'res_30_M170B_3', 'res_30_M170B_3',\n",
       "       'res_30_M170B_3', 'res_30_M170B_3', 'res_30_M170B_3',\n",
       "       'res_30_M170B_3', 'res_30_M170B_3', 'res_30_M170B_3',\n",
       "       'res_30_M170B_3', 'res_30_M170B_3', 'res_30_M170B_3',\n",
       "       'res_30_M170B_3', 'res_30_M170B_3', 'res_30_M170B_3',\n",
       "       'res_30_M170B_3', 'res_30_M170B_3', 'res_30_M170B_3',\n",
       "       'res_30_M170B_3', 'res_30_M170B_3', 'res_30_M170B_3',\n",
       "       'res_30_M170B_3', 'res_30_M170B_3', 'res_30_M170B_3',\n",
       "       'res_30_M170B_3', 'res_30_M170B_3', 'res_30_M170B_3',\n",
       "       'res_30_M170B_3', 'res_30_M170B_3', 'res_30_M170B_3',\n",
       "       'res_30_M170B_3', 'res_30_M170B_3', 'res_30_M170B_3',\n",
       "       'res_30_M170B_3', 'res_30_M170B_3', 'res_30_M170B_3',\n",
       "       'res_30_M170B_3', 'res_30_M170B_3', 'res_30_M170B_3',\n",
       "       'res_30_M170B_3', 'res_30_M170B_3', 'res_30_M170B_3',\n",
       "       'res_30_M170B_3', 'res_30_M170B_3', 'res_30_M170B_3',\n",
       "       'res_30_M170B_3', 'res_30_M170B_3', 'res_30_M170B_3',\n",
       "       'res_30_M170B_3', 'res_30_M170B_3', 'res_30_M170B_3',\n",
       "       'res_30_M170B_3', 'res_30_M170B_3', 'res_30_M170B_3',\n",
       "       'res_30_M170B_3', 'res_30_M170B_3', 'res_30_M170B_3',\n",
       "       'res_30_M170B_3', 'res_30_M170B_3', 'res_30_M170B_3',\n",
       "       'res_30_M170B_3', 'res_30_M170B_3', 'res_30_M170B_3',\n",
       "       'res_30_M170B_3', 'res_30_M170B_3', 'res_30_M170B_3',\n",
       "       'res_30_M170B_3', 'res_30_M170B_3', 'res_30_M170B_3',\n",
       "       'res_30_M170B_3', 'res_30_M170B_3', 'res_30_M170B_3',\n",
       "       'res_30_M170B_3', 'res_30_M170B_3', 'res_30_M170B_3',\n",
       "       'res_30_M170B_3', 'res_30_M170B_3', 'res_30_M170B_3',\n",
       "       'res_30_M170B_3', 'res_30_M170B_3', 'res_30_M170B_3',\n",
       "       'res_30_M170B_3', 'res_30_M170B_3', 'res_30_M170B_3',\n",
       "       'res_30_M170B_3', 'res_30_M170B_3', 'res_30_M170B_3',\n",
       "       'res_30_M170B_3', 'res_30_M170B_3', 'res_30_M170B_3',\n",
       "       'res_30_M170B_3', 'res_30_M170B_3', 'res_30_M170B_3',\n",
       "       'res_30_M170B_3', 'res_30_M170B_3', 'res_30_M170B_3',\n",
       "       'res_30_M170B_3', 'res_30_M170B_3', 'res_30_M170B_3',\n",
       "       'res_30_M170B_3', 'res_30_M170B_3', 'res_30_M170B_3',\n",
       "       'res_30_M170B_3', 'res_30_M170B_3', 'res_30_M170B_3',\n",
       "       'res_30_M170B_3', 'res_30_M170B_3', 'res_30_M170B_3',\n",
       "       'res_30_M170B_3', 'res_30_M170B_3', 'res_30_M170B_3',\n",
       "       'res_30_M170B_3', 'res_30_M170B_3', 'res_30_M170B_3',\n",
       "       'res_30_M170B_3', 'res_30_M170B_3', 'res_30_M170B_3',\n",
       "       'res_30_M170B_3', 'res_30_M170B_3', 'res_30_M170B_3',\n",
       "       'res_30_M170B_3', 'res_30_M170B_3', 'res_30_M170B_3',\n",
       "       'res_30_M170B_3', 'res_30_M170B_3', 'res_30_M170B_3',\n",
       "       'res_30_M170B_3', 'res_30_M170B_3', 'res_30_M170B_3',\n",
       "       'res_30_M170B_3', 'res_30_M170B_3', 'res_30_M170B_3',\n",
       "       'res_30_M170B_3', 'res_30_M170B_3', 'res_30_M170B_3',\n",
       "       'res_30_M170B_3', 'res_30_M170B_3', 'res_30_M170B_3',\n",
       "       'res_30_M170B_3', 'res_30_M170B_3', 'res_30_M170B_3',\n",
       "       'res_30_M170B_3', 'res_30_M170B_3', 'res_30_M170B_3',\n",
       "       'res_30_M170B_3', 'res_30_M170B_3', 'res_30_M170B_3',\n",
       "       'res_30_M170B_3', 'res_30_M170B_3', 'res_30_M170B_3',\n",
       "       'res_30_M170B_3', 'res_30_M170B_3', 'res_30_M170B_3',\n",
       "       'res_30_M170B_3', 'res_30_M170B_3', 'res_30_M170B_3',\n",
       "       'res_30_M170B_3', 'res_30_M170B_3', 'res_30_M170B_3',\n",
       "       'res_30_M170B_3', 'res_30_M170B_3', 'res_30_M170B_3',\n",
       "       'res_30_M170B_3', 'res_30_M170B_3', 'res_30_M170B_3',\n",
       "       'res_30_M170B_3', 'res_30_M170B_3', 'res_30_M170B_3',\n",
       "       'res_30_M170B_3', 'res_30_M170B_3', 'res_30_M170B_3',\n",
       "       'res_30_M170B_3', 'res_30_M170B_3', 'res_30_M170B_3',\n",
       "       'res_30_M170B_3', 'res_30_M170B_3', 'res_30_M170B_3',\n",
       "       'res_30_M170B_3', 'res_30_M170B_3', 'res_30_M170B_3',\n",
       "       'res_30_M170B_3', 'res_30_M170B_3', 'res_30_M170B_3',\n",
       "       'res_30_M170B_3', 'res_30_M170B_3', 'res_30_M170B_3',\n",
       "       'res_30_M170B_3', 'res_30_M170B_3', 'res_30_M170B_3',\n",
       "       'res_30_M170B_3', 'res_30_M170B_3', 'res_30_M170B_3',\n",
       "       'res_30_M170B_3', 'res_30_M170B_3', 'res_30_M170B_3',\n",
       "       'res_30_M170B_3', 'res_30_M170B_3', 'res_30_M170B_3',\n",
       "       'res_30_M160A_7', 'res_30_M160A_7', 'res_30_M160A_7',\n",
       "       'res_30_M160A_7', 'res_30_M160A_7', 'res_30_M160A_7',\n",
       "       'res_30_M160A_7', 'res_30_M160A_7', 'res_30_M160A_7',\n",
       "       'res_30_M160A_7', 'res_30_M160A_7', 'res_30_M160A_7',\n",
       "       'res_30_M160A_7', 'res_30_M160A_7', 'res_30_M160A_7',\n",
       "       'res_30_M160A_7', 'res_30_M160A_7', 'res_30_M160A_7',\n",
       "       'res_30_M160A_7', 'res_30_M160A_7', 'res_30_M160A_7',\n",
       "       'res_30_M160A_7', 'res_30_M160A_7', 'res_30_M160A_7',\n",
       "       'res_30_M160A_7', 'res_30_M160A_7', 'res_30_M160A_7',\n",
       "       'res_30_M160A_7', 'res_30_M160A_7', 'res_30_M160A_7',\n",
       "       'res_30_M160A_7', 'res_30_M160A_7', 'res_30_M160A_7',\n",
       "       'res_30_M160A_7', 'res_30_M160A_7', 'res_30_M160A_7',\n",
       "       'res_30_M160A_7', 'res_30_M160A_7', 'res_30_M160A_7',\n",
       "       'res_30_M160A_7', 'res_30_M160A_7', 'res_30_M160A_7',\n",
       "       'res_30_M160A_7', 'res_30_M160A_7', 'res_30_M160A_7',\n",
       "       'res_30_M160A_7', 'res_30_M160A_7', 'res_30_M160A_7',\n",
       "       'res_30_M160A_7', 'res_30_M160A_7', 'res_30_M160A_7',\n",
       "       'res_30_M160A_7', 'res_30_M160A_7', 'res_30_M160A_7',\n",
       "       'res_30_M160A_7', 'res_30_M160A_7', 'res_30_M160A_7',\n",
       "       'res_30_M160A_7', 'res_30_M160A_7', 'res_30_M160A_7',\n",
       "       'res_30_M160A_7', 'res_30_M160A_7', 'res_30_M160A_7',\n",
       "       'res_30_M160A_7', 'res_30_M160A_7'], dtype='<U14')"
      ]
     },
     "execution_count": 20,
     "metadata": {},
     "output_type": "execute_result"
    }
   ],
   "source": [
    "vid_list_test[:500]"
   ]
  },
  {
   "cell_type": "code",
   "execution_count": 21,
   "metadata": {},
   "outputs": [],
   "source": [
    "split_id_test = split_clips(vid_list_test, datareader.n_frames, data_stride=datareader.data_stride_test)"
   ]
  },
  {
   "cell_type": "code",
   "execution_count": 23,
   "metadata": {},
   "outputs": [
    {
     "data": {
      "text/plain": [
       "55"
      ]
     },
     "execution_count": 23,
     "metadata": {},
     "output_type": "execute_result"
    }
   ],
   "source": [
    "len(split_id_test)"
   ]
  },
  {
   "cell_type": "code",
   "execution_count": null,
   "metadata": {},
   "outputs": [],
   "source": []
  }
 ],
 "metadata": {
  "kernelspec": {
   "display_name": "motionbert",
   "language": "python",
   "name": "python3"
  },
  "language_info": {
   "codemirror_mode": {
    "name": "ipython",
    "version": 3
   },
   "file_extension": ".py",
   "mimetype": "text/x-python",
   "name": "python",
   "nbconvert_exporter": "python",
   "pygments_lexer": "ipython3",
   "version": "3.9.17"
  },
  "orig_nbformat": 4
 },
 "nbformat": 4,
 "nbformat_minor": 2
}
