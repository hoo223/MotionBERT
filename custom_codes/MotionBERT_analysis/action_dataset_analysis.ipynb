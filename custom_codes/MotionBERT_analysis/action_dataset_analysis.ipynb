{
 "cells": [
  {
   "cell_type": "code",
   "execution_count": 1,
   "metadata": {},
   "outputs": [],
   "source": [
    "%load_ext autoreload\n",
    "%autoreload 2\n",
    "import os\n",
    "import argparse\n",
    "os.chdir('/home/hrai/codes/PoseAdaptor/')\n",
    "from hpe_library.lib_import import *\n",
    "from hpe_library. my_utils import *\n",
    "\n",
    "os.chdir('/home/hrai/codes/MotionBERT')\n",
    "from lib.data.dataset_action import NTURGBD\n",
    "from lib.model.model_action import ActionNet\n",
    "from lib.utils.tools import *\n",
    "from lib.utils.utils_data import crop_scale, resample"
   ]
  },
  {
   "cell_type": "code",
   "execution_count": 6,
   "metadata": {},
   "outputs": [
    {
     "data": {
      "text/plain": [
       "{'finetune': True,\n",
       " 'partial_train': None,\n",
       " 'epochs': 300,\n",
       " 'batch_size': 32,\n",
       " 'lr_backbone': 0.0001,\n",
       " 'lr_head': 0.001,\n",
       " 'weight_decay': 0.01,\n",
       " 'lr_decay': 0.99,\n",
       " 'model_version': 'class',\n",
       " 'maxlen': 243,\n",
       " 'dim_feat': 512,\n",
       " 'mlp_ratio': 2,\n",
       " 'depth': 5,\n",
       " 'dim_rep': 512,\n",
       " 'num_heads': 8,\n",
       " 'att_fuse': True,\n",
       " 'num_joints': 17,\n",
       " 'hidden_dim': 2048,\n",
       " 'dropout_ratio': 0.5,\n",
       " 'dataset': 'ntu60_hrnet',\n",
       " 'data_split': 'xview',\n",
       " 'clip_len': 243,\n",
       " 'action_classes': 60,\n",
       " 'random_move': True,\n",
       " 'scale_range_train': [1, 3],\n",
       " 'scale_range_test': [2, 2],\n",
       " 'name': 'MB_ft_NTU60_xview'}"
      ]
     },
     "execution_count": 6,
     "metadata": {},
     "output_type": "execute_result"
    }
   ],
   "source": [
    "def parse_args(inp):\n",
    "    parser = argparse.ArgumentParser()\n",
    "    parser.add_argument(\"--config\", type=str, default=\"configs/pretrain.yaml\", help=\"Path to the config file.\")\n",
    "    parser.add_argument('-c', '--checkpoint', default='checkpoint', type=str, metavar='PATH', help='checkpoint directory')\n",
    "    parser.add_argument('-p', '--pretrained', default='checkpoint', type=str, metavar='PATH', help='pretrained checkpoint directory')\n",
    "    parser.add_argument('-r', '--resume', default='', type=str, metavar='FILENAME', help='checkpoint to resume (file name)')\n",
    "    parser.add_argument('-e', '--evaluate', default='', type=str, metavar='FILENAME', help='checkpoint to evaluate (file name)')\n",
    "    parser.add_argument('-freq', '--print_freq', default=100)\n",
    "    parser.add_argument('-ms', '--selection', default='latest_epoch.bin', type=str, metavar='FILENAME', help='checkpoint to finetune (file name)')\n",
    "    opts = parser.parse_args(inp)\n",
    "    return opts\n",
    "\n",
    "opts = parse_args(['--config', '/home/hrai/codes/MotionBERT/configs/action/MB_ft_NTU60_xview.yaml'])\n",
    "args = get_config(opts.config)\n",
    "args"
   ]
  },
  {
   "cell_type": "code",
   "execution_count": 8,
   "metadata": {},
   "outputs": [],
   "source": [
    "data_path = 'data/action/%s.pkl' % args.dataset\n",
    "#ntu60_xsub_train = NTURGBD(data_path=data_path, data_split=args.data_split+'_train', n_frames=args.clip_len, random_move=args.random_move, scale_range=args.scale_range_train)\n",
    "ntu60_xsub_val = NTURGBD(data_path=data_path, data_split=args.data_split+'_val', n_frames=args.clip_len, random_move=False, scale_range=args.scale_range_test)"
   ]
  },
  {
   "cell_type": "code",
   "execution_count": 12,
   "metadata": {},
   "outputs": [],
   "source": [
    "# lib/data/dataset_action.py/class ActionDataset(Dataset):\n",
    "np.random.seed(0)\n",
    "data_split = args.data_split+'_val'\n",
    "n_frames=args.clip_len \n",
    "random_move=False\n",
    "scale_range=args.scale_range_test \n",
    "check_split=True\n",
    "dataset = read_pkl(data_path)"
   ]
  },
  {
   "cell_type": "code",
   "execution_count": 18,
   "metadata": {},
   "outputs": [
    {
     "data": {
      "text/plain": [
       "dict_keys(['xsub_train', 'xsub_val', 'xview_train', 'xview_val'])"
      ]
     },
     "execution_count": 18,
     "metadata": {},
     "output_type": "execute_result"
    }
   ],
   "source": [
    "dataset['split'].keys()"
   ]
  },
  {
   "cell_type": "code",
   "execution_count": 21,
   "metadata": {},
   "outputs": [],
   "source": [
    "assert data_split in dataset['split'].keys()\n",
    "split = dataset['split'][data_split]\n",
    "annotations = dataset['annotations']"
   ]
  },
  {
   "cell_type": "code",
   "execution_count": 23,
   "metadata": {},
   "outputs": [
    {
     "data": {
      "text/plain": [
       "False"
      ]
     },
     "execution_count": 23,
     "metadata": {},
     "output_type": "execute_result"
    }
   ],
   "source": [
    "is_train = \"train\" in data_split or (check_split==False)\n",
    "is_train"
   ]
  },
  {
   "cell_type": "code",
   "execution_count": 27,
   "metadata": {},
   "outputs": [],
   "source": [
    "def make_cam(x, img_shape):\n",
    "    '''\n",
    "        Input: x (M x T x V x C)\n",
    "               img_shape (height, width)\n",
    "    '''\n",
    "    h, w = img_shape\n",
    "    if w >= h:\n",
    "        x_cam = x / w * 2 - 1\n",
    "    else:\n",
    "        x_cam = x / h * 2 - 1\n",
    "    return x_cam\n",
    "\n",
    "def coco2h36m(x):\n",
    "    '''\n",
    "        Input: x (M x T x V x C)\n",
    "        \n",
    "        COCO: {0-nose 1-Leye 2-Reye 3-Lear 4Rear 5-Lsho 6-Rsho 7-Lelb 8-Relb 9-Lwri 10-Rwri 11-Lhip 12-Rhip 13-Lkne 14-Rkne 15-Lank 16-Rank}\n",
    "        \n",
    "        H36M:\n",
    "        0: 'root',\n",
    "        1: 'rhip',\n",
    "        2: 'rkne',\n",
    "        3: 'rank',\n",
    "        4: 'lhip',\n",
    "        5: 'lkne',\n",
    "        6: 'lank',\n",
    "        7: 'belly',\n",
    "        8: 'neck',\n",
    "        9: 'nose',\n",
    "        10: 'head',\n",
    "        11: 'lsho',\n",
    "        12: 'lelb',\n",
    "        13: 'lwri',\n",
    "        14: 'rsho',\n",
    "        15: 'relb',\n",
    "        16: 'rwri'\n",
    "    '''\n",
    "    y = np.zeros(x.shape)\n",
    "    y[:,:,0,:] = (x[:,:,11,:] + x[:,:,12,:]) * 0.5\n",
    "    y[:,:,1,:] = x[:,:,12,:]\n",
    "    y[:,:,2,:] = x[:,:,14,:]\n",
    "    y[:,:,3,:] = x[:,:,16,:]\n",
    "    y[:,:,4,:] = x[:,:,11,:]\n",
    "    y[:,:,5,:] = x[:,:,13,:]\n",
    "    y[:,:,6,:] = x[:,:,15,:]\n",
    "    y[:,:,8,:] = (x[:,:,5,:] + x[:,:,6,:]) * 0.5\n",
    "    y[:,:,7,:] = (y[:,:,0,:] + y[:,:,8,:]) * 0.5\n",
    "    y[:,:,9,:] = x[:,:,0,:]\n",
    "    y[:,:,10,:] = (x[:,:,1,:] + x[:,:,2,:]) * 0.5\n",
    "    y[:,:,11,:] = x[:,:,5,:]\n",
    "    y[:,:,12,:] = x[:,:,7,:]\n",
    "    y[:,:,13,:] = x[:,:,9,:]\n",
    "    y[:,:,14,:] = x[:,:,6,:]\n",
    "    y[:,:,15,:] = x[:,:,8,:]\n",
    "    y[:,:,16,:] = x[:,:,10,:]\n",
    "    return y\n",
    "\n",
    "def human_tracking(x):\n",
    "    M, T = x.shape[:2]\n",
    "    if M==1:\n",
    "        return x\n",
    "    else:\n",
    "        diff0 = np.sum(np.linalg.norm(x[0,1:] - x[0,:-1], axis=-1), axis=-1)        # (T-1, V, C) -> (T-1)\n",
    "        diff1 = np.sum(np.linalg.norm(x[0,1:] - x[1,:-1], axis=-1), axis=-1)\n",
    "        x_new = np.zeros(x.shape)\n",
    "        sel = np.cumsum(diff0 > diff1) % 2\n",
    "        sel = sel[:,None,None]\n",
    "        x_new[0][0] = x[0][0]\n",
    "        x_new[1][0] = x[1][0]\n",
    "        x_new[0,1:] = x[1,1:] * sel + x[0,1:] * (1-sel)\n",
    "        x_new[1,1:] = x[0,1:] * sel + x[1,1:] * (1-sel)\n",
    "        return x_new"
   ]
  },
  {
   "cell_type": "code",
   "execution_count": 35,
   "metadata": {},
   "outputs": [],
   "source": [
    "motions = []\n",
    "labels = []\n",
    "for sample in annotations:\n",
    "    #print(sample)\n",
    "    if check_split and (not sample['frame_dir'] in split):\n",
    "        continue\n",
    "    resample_id = resample(ori_len=sample['total_frames'], target_len=n_frames, randomness=is_train) # frame 개수를 늘림\n",
    "    motion_cam = make_cam(x=sample['keypoint'], img_shape=sample['img_shape']) # (1, 103, 17, 2)\n",
    "    motion_cam = human_tracking(motion_cam) # (1, 103, 17, 2)\n",
    "    motion_cam = coco2h36m(motion_cam) # (1, 103, 17, 2)\n",
    "    motion_conf = sample['keypoint_score'][..., None] #  (1, 103, 17, 1))\n",
    "    motion = np.concatenate((motion_cam[:,resample_id], motion_conf[:,resample_id]), axis=-1) # (1, 243, 17, 3)\n",
    "    if motion.shape[0]==1: # Single person, make a fake zero person\n",
    "        fake = np.zeros(motion.shape)\n",
    "        motion = np.concatenate((motion, fake), axis=0) # (2, 243, 17, 3)\n",
    "    motions.append(motion.astype(np.float32)) \n",
    "    labels.append(sample['label']) # int \n",
    "    break\n",
    "motions = np.array(motions)\n",
    "labels = np.array(labels)"
   ]
  },
  {
   "cell_type": "code",
   "execution_count": 107,
   "metadata": {},
   "outputs": [
    {
     "data": {
      "text/plain": [
       "0"
      ]
     },
     "execution_count": 107,
     "metadata": {},
     "output_type": "execute_result"
    }
   ],
   "source": [
    "sample['label']"
   ]
  },
  {
   "cell_type": "code",
   "execution_count": 105,
   "metadata": {},
   "outputs": [
    {
     "data": {
      "text/plain": [
       "((1, 243, 17, 2), (1, 243, 17, 1))"
      ]
     },
     "execution_count": 105,
     "metadata": {},
     "output_type": "execute_result"
    }
   ],
   "source": [
    "motion_cam[:,resample_id].shape, motion_conf[:,resample_id].shape"
   ]
  },
  {
   "cell_type": "code",
   "execution_count": 106,
   "metadata": {},
   "outputs": [
    {
     "data": {
      "text/plain": [
       "(1, 243, 17, 3)"
      ]
     },
     "execution_count": 106,
     "metadata": {},
     "output_type": "execute_result"
    }
   ],
   "source": [
    "np.concatenate((motion_cam[:,resample_id], motion_conf[:,resample_id]), axis=-1).shape"
   ]
  },
  {
   "cell_type": "code",
   "execution_count": 51,
   "metadata": {},
   "outputs": [
    {
     "data": {
      "text/plain": [
       "(1080, 1920)"
      ]
     },
     "execution_count": 51,
     "metadata": {},
     "output_type": "execute_result"
    }
   ],
   "source": [
    "sample['img_shape']"
   ]
  },
  {
   "cell_type": "code",
   "execution_count": 96,
   "metadata": {},
   "outputs": [
    {
     "data": {
      "text/plain": [
       "(1, 103, 17, 2)"
      ]
     },
     "execution_count": 96,
     "metadata": {},
     "output_type": "execute_result"
    }
   ],
   "source": [
    "# coco to h36m\n",
    "coco2h36m(sample['keypoint']).shape"
   ]
  },
  {
   "cell_type": "code",
   "execution_count": 97,
   "metadata": {},
   "outputs": [
    {
     "data": {
      "application/vnd.jupyter.widget-view+json": {
       "model_id": "c36f9cd068254c1f988efa7a8e1e5de0",
       "version_major": 2,
       "version_minor": 0
      },
      "image/png": "[encoded data removed]",
      "text/html": [
       "\n",
       "            <div style=\"display: inline-block;\">\n",
       "                <div class=\"jupyter-widgets widget-label\" style=\"text-align: center;\">\n",
       "                    Figure 0\n",
       "                </div>\n",
       "                <img src='data:image/png;base64,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' width=640.0/>\n",
       "            </div>\n",
       "        "
      ],
      "text/plain": [
       "Canvas(toolbar=Toolbar(toolitems=[('Home', 'Reset original view', 'home', 'home'), ('Back', 'Back to previous …"
      ]
     },
     "metadata": {},
     "output_type": "display_data"
    }
   ],
   "source": [
    "%matplotlib widget\n",
    "fig = plt.figure(0)\n",
    "fig.clear()\n",
    "ax = axes_2d(fig=fig, H=sample['img_shape'][0], W=sample['img_shape'][1])\n",
    "img= get_2d_pose_image(coco2h36m(sample['keypoint'])[0, 50])\n",
    "ax.imshow(img)\n",
    "plt.show()"
   ]
  }
 ],
 "metadata": {
  "kernelspec": {
   "display_name": "motionbert",
   "language": "python",
   "name": "python3"
  },
  "language_info": {
   "codemirror_mode": {
    "name": "ipython",
    "version": 3
   },
   "file_extension": ".py",
   "mimetype": "text/x-python",
   "name": "python",
   "nbconvert_exporter": "python",
   "pygments_lexer": "ipython3",
   "version": "3.9.17"
  },
  "orig_nbformat": 4
 },
 "nbformat": 4,
 "nbformat_minor": 2
}
