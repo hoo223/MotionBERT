{
 "cells": [
  {
   "cell_type": "markdown",
   "metadata": {},
   "source": [
    "데이터 전처리 과정 분석\n",
    "\n",
    "convert_h36m.py 코드를 통해 h36m_sh_conf_cam_source_final.pkl 파일로부터 clip들을 나누어 data/motion3d/MB3D_f243s81/H36M-SH 폴더에 저장함\n",
    "그 과정에서 전처리 괒어을 거쳐 원본 파일과 새로 생성된 파일의 값이 달라짐 -> 이 부분을 이해해야 AI Hub 데이터를 동일한 형식으로 만들어 훈련시킬 수 있음"
   ]
  },
  {
   "cell_type": "code",
   "execution_count": 18,
   "metadata": {},
   "outputs": [],
   "source": [
    "import pickle\n",
    "import copy\n",
    "import numpy as np\n",
    "\n",
    "# 원본 파일\n",
    "with open('h36m_sh_conf_cam_source_final.pkl', 'rb') as f:\n",
    "\tdatareader = pickle.load(f)\n",
    " \n",
    "# 예제 CLIP 파일\n",
    "with open('./MB3D_f243s81/H36M-SH/test/00000000.pkl', 'rb') as f:\n",
    "\ttest = pickle.load(f)"
   ]
  },
  {
   "cell_type": "markdown",
   "metadata": {},
   "source": [
    "### test/00000000.pkl 분석"
   ]
  },
  {
   "cell_type": "code",
   "execution_count": 19,
   "metadata": {},
   "outputs": [
    {
     "data": {
      "text/plain": [
       "dict_keys(['data_input', 'data_label'])"
      ]
     },
     "execution_count": 19,
     "metadata": {},
     "output_type": "execute_result"
    }
   ],
   "source": [
    "test.keys()"
   ]
  },
  {
   "cell_type": "code",
   "execution_count": 20,
   "metadata": {},
   "outputs": [
    {
     "data": {
      "text/plain": [
       "(243, 17, 3)"
      ]
     },
     "execution_count": 20,
     "metadata": {},
     "output_type": "execute_result"
    }
   ],
   "source": [
    "test['data_input'].shape # 2d + confidence (243, 17, 3)\n",
    "test['data_label'].shape # 3d (243, 17, 3)"
   ]
  },
  {
   "cell_type": "markdown",
   "metadata": {},
   "source": [
    "### h36m_sh_conf_cam_source_final.pkl 분석"
   ]
  },
  {
   "cell_type": "code",
   "execution_count": 21,
   "metadata": {},
   "outputs": [
    {
     "data": {
      "text/plain": [
       "dict_keys(['train', 'test'])"
      ]
     },
     "execution_count": 21,
     "metadata": {},
     "output_type": "execute_result"
    }
   ],
   "source": [
    "datareader.keys()"
   ]
  },
  {
   "cell_type": "markdown",
   "metadata": {},
   "source": [
    "#### train"
   ]
  },
  {
   "cell_type": "code",
   "execution_count": 23,
   "metadata": {},
   "outputs": [
    {
     "data": {
      "text/plain": [
       "dict_keys(['joint_2d', 'confidence', 'joint3d_image', 'camera_name', 'source'])"
      ]
     },
     "execution_count": 23,
     "metadata": {},
     "output_type": "execute_result"
    }
   ],
   "source": [
    "datareader['train'].keys()"
   ]
  },
  {
   "cell_type": "code",
   "execution_count": 24,
   "metadata": {},
   "outputs": [
    {
     "data": {
      "text/plain": [
       "1559752"
      ]
     },
     "execution_count": 24,
     "metadata": {},
     "output_type": "execute_result"
    }
   ],
   "source": [
    "datareader['train']['joint_2d'].shape # (1559752, 17, 2) array\n",
    "datareader['train']['confidence'].shape # (1559752, 17, 1) array\n",
    "datareader['train']['joint3d_image'].shape # (1559752, 17, 3)\n",
    "datareader['train']['camera_name'].shape # (1559752,) array\n",
    "len(datareader['train']['source']) # 1559752 list"
   ]
  },
  {
   "cell_type": "code",
   "execution_count": 25,
   "metadata": {},
   "outputs": [
    {
     "data": {
      "text/plain": [
       "array([[472., 444.],\n",
       "       [500., 447.],\n",
       "       [479., 530.],\n",
       "       [507., 622.],\n",
       "       [448., 444.],\n",
       "       [459., 536.],\n",
       "       [469., 633.],\n",
       "       [490., 399.],\n",
       "       [483., 341.],\n",
       "       [479., 316.],\n",
       "       [486., 296.],\n",
       "       [455., 358.],\n",
       "       [431., 416.],\n",
       "       [414., 457.],\n",
       "       [510., 354.],\n",
       "       [521., 413.],\n",
       "       [517., 461.]], dtype=float32)"
      ]
     },
     "execution_count": 25,
     "metadata": {},
     "output_type": "execute_result"
    }
   ],
   "source": [
    "datareader['train']['joint_2d'][0]"
   ]
  },
  {
   "cell_type": "markdown",
   "metadata": {},
   "source": [
    "#### test"
   ]
  },
  {
   "cell_type": "code",
   "execution_count": 6,
   "metadata": {},
   "outputs": [
    {
     "data": {
      "text/plain": [
       "dict_keys(['joint_2d', 'confidence', 'joint3d_image', 'joints_2.5d_image', '2.5d_factor', 'camera_name', 'action', 'source'])"
      ]
     },
     "execution_count": 6,
     "metadata": {},
     "output_type": "execute_result"
    }
   ],
   "source": [
    "datareader['test'].keys()"
   ]
  },
  {
   "cell_type": "code",
   "execution_count": 8,
   "metadata": {},
   "outputs": [
    {
     "data": {
      "text/plain": [
       "566920"
      ]
     },
     "execution_count": 8,
     "metadata": {},
     "output_type": "execute_result"
    }
   ],
   "source": [
    "datareader['test']['joint_2d'].shape # (566920, 17, 2) array\n",
    "datareader['test']['confidence'].shape # (566920, 17, 1) array\n",
    "datareader['test']['joint3d_image'].shape # (566920, 17, 3) array\n",
    "datareader['test']['joints_2.5d_image'].shape # (566920, 17, 3) array = 2.5d_factor * joint3d_image\n",
    "datareader['test']['2.5d_factor'].shape # (566920,) array\n",
    "datareader['test']['camera_name'].shape # (566920,) array\n",
    "len(datareader['test']['action']) # 566920 list\n",
    "len(datareader['test']['source']) # 566920 list"
   ]
  },
  {
   "cell_type": "markdown",
   "metadata": {},
   "source": [
    "#### joint_2.5d_image, 2.5d_factor, joint3d_image 관계\n",
    "joint3d_image * 2.5d_factor = joint_2.5d_image"
   ]
  },
  {
   "cell_type": "code",
   "execution_count": 17,
   "metadata": {},
   "outputs": [
    {
     "data": {
      "text/plain": [
       "('54138969', 'Direction', 's_09_act_02_subact_01_ca_01')"
      ]
     },
     "execution_count": 17,
     "metadata": {},
     "output_type": "execute_result"
    }
   ],
   "source": [
    "datareader['test']['camera_name'][0], datareader['test']['action'][0], datareader['test']['source'][0]"
   ]
  },
  {
   "cell_type": "code",
   "execution_count": 9,
   "metadata": {
    "scrolled": true
   },
   "outputs": [
    {
     "name": "stdout",
     "output_type": "stream",
     "text": [
      "[2099.9255 1888.2003    0.    ] \n",
      "\n",
      " 4.656527 \n",
      "\n",
      " [450.9639 405.4954   0.    ] \n",
      "\n",
      " [2099.9255 1888.2003    0.    ]\n"
     ]
    }
   ],
   "source": [
    "print(datareader['test']['joints_2.5d_image'][0][0], \"\\n\\n\",\n",
    "      datareader['test']['2.5d_factor'][0], \"\\n\\n\",\n",
    "      datareader['test']['joint3d_image'][0][0], \"\\n\\n\",\n",
    "      datareader['test']['2.5d_factor'][0] * datareader['test']['joint3d_image'][0][0])"
   ]
  },
  {
   "cell_type": "code",
   "execution_count": 10,
   "metadata": {},
   "outputs": [
    {
     "data": {
      "text/plain": [
       "array([[453., 404.],\n",
       "       [473., 404.],\n",
       "       [483., 499.],\n",
       "       [489., 594.],\n",
       "       [427., 408.],\n",
       "       [420., 506.],\n",
       "       [414., 601.],\n",
       "       [456., 352.],\n",
       "       [453., 293.],\n",
       "       [453., 280.],\n",
       "       [456., 254.],\n",
       "       [417., 300.],\n",
       "       [358., 316.],\n",
       "       [302., 319.],\n",
       "       [486., 300.],\n",
       "       [545., 316.],\n",
       "       [584., 322.]], dtype=float32)"
      ]
     },
     "execution_count": 10,
     "metadata": {},
     "output_type": "execute_result"
    }
   ],
   "source": [
    "datareader['test']['joint_2d'][0] "
   ]
  },
  {
   "cell_type": "code",
   "execution_count": 16,
   "metadata": {},
   "outputs": [
    {
     "data": {
      "text/plain": [
       "array([[-2.0361023 ,  1.4953918 ],\n",
       "       [ 2.4246826 , -1.4642639 ],\n",
       "       [-3.1942444 ,  0.89019775],\n",
       "       [ 2.0151978 ,  1.512146  ],\n",
       "       [-0.8762207 ,  0.500885  ],\n",
       "       [ 1.4437561 ,  1.4277649 ],\n",
       "       [ 4.976654  ,  4.6240234 ],\n",
       "       [-3.125824  , -0.4510193 ],\n",
       "       [ 0.7156677 ,  4.722809  ],\n",
       "       [-1.3098145 , -6.461609  ],\n",
       "       [ 0.46759033, -2.524826  ],\n",
       "       [ 1.6781311 ,  1.2906494 ],\n",
       "       [-0.14968872, -0.5526123 ],\n",
       "       [-0.06716919, -0.95196533],\n",
       "       [ 4.5478516 ,  2.8391418 ],\n",
       "       [ 0.63775635,  1.5794373 ],\n",
       "       [-0.03808594,  0.60461426]], dtype=float32)"
      ]
     },
     "execution_count": 16,
     "metadata": {},
     "output_type": "execute_result"
    }
   ],
   "source": [
    "# joints_2.5d_image x, y \n",
    "datareader['test']['joints_2.5d_image'][0][:, :2] / datareader['test']['2.5d_factor'][0] - datareader['test']['joint_2d'][0] "
   ]
  },
  {
   "attachments": {},
   "cell_type": "markdown",
   "metadata": {},
   "source": [
    "### 2D Input Data Preprocessing"
   ]
  },
  {
   "cell_type": "code",
   "execution_count": 11,
   "metadata": {},
   "outputs": [
    {
     "data": {
      "text/plain": [
       "(array([[-0.09399998, -0.19399998,  0.65554845],\n",
       "        [-0.05400002, -0.19399998,  0.82664   ],\n",
       "        [-0.03399998, -0.00399997,  0.77685416],\n",
       "        [-0.02200001,  0.18599996,  0.91304016],\n",
       "        [-0.14600003, -0.18600002,  0.8345239 ],\n",
       "        [-0.16000003,  0.00999996,  0.8205779 ],\n",
       "        [-0.17199999,  0.20000002,  0.7974426 ],\n",
       "        [-0.088     , -0.298     ,  0.723265  ],\n",
       "        [-0.09399998, -0.41599998,  0.720955  ],\n",
       "        [-0.09399998, -0.442     ,  0.8918598 ],\n",
       "        [-0.088     , -0.494     ,  0.9627786 ],\n",
       "        [-0.16600001, -0.40199998,  0.66214174],\n",
       "        [-0.28399998, -0.36999997,  0.8186033 ],\n",
       "        [-0.39600003, -0.364     ,  0.8860159 ],\n",
       "        [-0.028     , -0.40199998,  0.78756124],\n",
       "        [ 0.09000003, -0.36999997,  0.7411108 ],\n",
       "        [ 0.16799998, -0.358     ,  0.8789877 ]], dtype=float32),\n",
       " (243, 17, 3),\n",
       " (243, 17, 3))"
      ]
     },
     "execution_count": 11,
     "metadata": {},
     "output_type": "execute_result"
    }
   ],
   "source": [
    "# convert_h36m.py에 의해 00000000.pkl로 추출된 2d 입력 데이터 \n",
    "test['data_input'][0], test['data_input'].shape, test['data_label'].shape"
   ]
  },
  {
   "cell_type": "code",
   "execution_count": 12,
   "metadata": {},
   "outputs": [
    {
     "name": "stdout",
     "output_type": "stream",
     "text": [
      "1000 1002\n"
     ]
    },
    {
     "data": {
      "text/plain": [
       "array([[-0.09399998, -0.19399997],\n",
       "       [-0.05400002, -0.19399997],\n",
       "       [-0.03399998, -0.00399997],\n",
       "       [-0.02200001,  0.18599996],\n",
       "       [-0.14600003, -0.18600002],\n",
       "       [-0.16000003,  0.00999996],\n",
       "       [-0.17199999,  0.20000002],\n",
       "       [-0.088     , -0.298     ],\n",
       "       [-0.09399998, -0.41599997],\n",
       "       [-0.09399998, -0.442     ],\n",
       "       [-0.088     , -0.49399998],\n",
       "       [-0.16600001, -0.40199998],\n",
       "       [-0.28399998, -0.36999997],\n",
       "       [-0.39600003, -0.36399999],\n",
       "       [-0.028     , -0.40199998],\n",
       "       [ 0.09000003, -0.36999997],\n",
       "       [ 0.16799998, -0.35800001]])"
      ]
     },
     "execution_count": 12,
     "metadata": {},
     "output_type": "execute_result"
    }
   ],
   "source": [
    "# h36m_sh_conf_cam_source_final.pkl에서 2d 데이터를 전처리하는 과정 (normalize)\n",
    "camera_name = datareader['test']['camera_name'][0]\n",
    "if camera_name == '54138969' or camera_name == '60457274':\n",
    "    res_w, res_h = 1000, 1002\n",
    "elif camera_name == '55011271' or camera_name == '58860488':\n",
    "    res_w, res_h = 1000, 1000\n",
    "print(res_w, res_h)\n",
    "\n",
    "# preprocessing\n",
    "datareader['test']['joint_2d'][0]  / res_w * 2 - [1, res_h / res_w]"
   ]
  },
  {
   "cell_type": "code",
   "execution_count": 13,
   "metadata": {},
   "outputs": [
    {
     "data": {
      "text/plain": [
       "array([[453., 404.],\n",
       "       [473., 404.],\n",
       "       [483., 499.],\n",
       "       [489., 594.],\n",
       "       [427., 408.],\n",
       "       [420., 506.],\n",
       "       [414., 601.],\n",
       "       [456., 352.],\n",
       "       [453., 293.],\n",
       "       [453., 280.],\n",
       "       [456., 254.],\n",
       "       [417., 300.],\n",
       "       [358., 316.],\n",
       "       [302., 319.],\n",
       "       [486., 300.],\n",
       "       [545., 316.],\n",
       "       [584., 322.]], dtype=float32)"
      ]
     },
     "execution_count": 13,
     "metadata": {},
     "output_type": "execute_result"
    }
   ],
   "source": [
    "datareader['test']['joint_2d'][0]"
   ]
  },
  {
   "attachments": {},
   "cell_type": "markdown",
   "metadata": {},
   "source": [
    "두 결과가 동일함을 확인할 수 있다"
   ]
  },
  {
   "attachments": {},
   "cell_type": "markdown",
   "metadata": {},
   "source": [
    "### 3D Output Data Preprocessing"
   ]
  },
  {
   "cell_type": "code",
   "execution_count": 12,
   "metadata": {},
   "outputs": [
    {
     "data": {
      "text/plain": [
       "array([[-0.09807223, -0.1910092 ,  0.        ],\n",
       "       [-0.04915065, -0.19692853,  0.01765747],\n",
       "       [-0.04038846, -0.00221958,  0.04414008],\n",
       "       [-0.01796961,  0.1890243 ,  0.04464229],\n",
       "       [-0.14775246, -0.18499824, -0.01765808],\n",
       "       [-0.15711248,  0.0128555 ,  0.00503382],\n",
       "       [-0.16204667,  0.20924804, -0.00685673],\n",
       "       [-0.09425163, -0.29890212, -0.02466628],\n",
       "       [-0.09256876, -0.40655443, -0.05074621],\n",
       "       [-0.09661967, -0.45492324, -0.04101023],\n",
       "       [-0.0870648 , -0.49904963, -0.07057631],\n",
       "       [-0.16264373, -0.39941868, -0.08863481],\n",
       "       [-0.28429937, -0.37110522, -0.13213187],\n",
       "       [-0.39613432, -0.36590394, -0.14020935],\n",
       "       [-0.01890427, -0.3963218 , -0.02291151],\n",
       "       [ 0.09127533, -0.3668411 ,  0.03014895],\n",
       "       [ 0.16792381, -0.3567908 ,  0.09531134]], dtype=float32)"
      ]
     },
     "execution_count": 12,
     "metadata": {},
     "output_type": "execute_result"
    }
   ],
   "source": [
    "# 추출된 3d gt\n",
    "test['data_label'][0]"
   ]
  },
  {
   "cell_type": "code",
   "execution_count": 13,
   "metadata": {},
   "outputs": [
    {
     "data": {
      "text/plain": [
       "array([[-0.09807223, -0.1910092 ,  0.        ],\n",
       "       [-0.04915065, -0.19692853,  0.01765747],\n",
       "       [-0.04038846, -0.00221958,  0.04414008],\n",
       "       [-0.01796961,  0.1890243 ,  0.04464229],\n",
       "       [-0.14775246, -0.18499824, -0.01765808],\n",
       "       [-0.15711248,  0.0128555 ,  0.00503382],\n",
       "       [-0.16204667,  0.20924804, -0.00685673],\n",
       "       [-0.09425163, -0.29890212, -0.02466628],\n",
       "       [-0.09256876, -0.40655443, -0.05074621],\n",
       "       [-0.09661967, -0.45492324, -0.04101023],\n",
       "       [-0.0870648 , -0.49904963, -0.07057631],\n",
       "       [-0.16264373, -0.39941868, -0.08863481],\n",
       "       [-0.28429937, -0.37110522, -0.13213187],\n",
       "       [-0.39613432, -0.36590394, -0.14020935],\n",
       "       [-0.01890427, -0.3963218 , -0.02291151],\n",
       "       [ 0.09127533, -0.3668411 ,  0.03014895],\n",
       "       [ 0.16792381, -0.3567908 ,  0.09531134]], dtype=float32)"
      ]
     },
     "execution_count": 13,
     "metadata": {},
     "output_type": "execute_result"
    }
   ],
   "source": [
    "# 원본 3d gt를 전처리 (normalize)\n",
    "test_label = copy.deepcopy(datareader['test']['joint3d_image'][0])\n",
    "# preprocessing\n",
    "test_label[:, :2] = test_label[:, :2] / res_w * 2 - [1, res_h / res_w]\n",
    "test_label[:, 2:] = test_label[:, 2:] / res_w * 2\n",
    "test_label"
   ]
  },
  {
   "cell_type": "code",
   "execution_count": 14,
   "metadata": {},
   "outputs": [
    {
     "name": "stdout",
     "output_type": "stream",
     "text": [
      "[[-0.09807223 -0.1910092   0.        ]\n",
      " [-0.04915065 -0.19692853  0.01765747]\n",
      " [-0.04038846 -0.00221958  0.04414008]\n",
      " [-0.01796961  0.1890243   0.04464229]\n",
      " [-0.14775246 -0.18499824 -0.01765808]\n",
      " [-0.15711248  0.0128555   0.00503382]\n",
      " [-0.16204667  0.20924804 -0.00685673]\n",
      " [-0.09425163 -0.29890212 -0.02466628]\n",
      " [-0.09256876 -0.40655443 -0.05074621]\n",
      " [-0.09661967 -0.45492324 -0.04101023]\n",
      " [-0.0870648  -0.49904963 -0.07057631]\n",
      " [-0.16264373 -0.39941868 -0.08863481]\n",
      " [-0.28429937 -0.37110522 -0.13213187]\n",
      " [-0.39613432 -0.36590394 -0.14020935]\n",
      " [-0.01890427 -0.3963218  -0.02291151]\n",
      " [ 0.09127533 -0.3668411   0.03014895]\n",
      " [ 0.16792381 -0.3567908   0.09531134]]\n"
     ]
    },
    {
     "data": {
      "text/plain": [
       "array([[450.9639   , 405.4954   ,   0.       ],\n",
       "       [475.42468  , 402.53574  ,   8.828734 ],\n",
       "       [479.80576  , 499.8902   ,  22.07004  ],\n",
       "       [491.0152   , 595.51215  ,  22.321146 ],\n",
       "       [426.12378  , 408.5009   ,  -8.829042 ],\n",
       "       [421.44376  , 507.42776  ,   2.5169103],\n",
       "       [418.97665  , 605.624    ,  -3.4283628],\n",
       "       [452.87418  , 351.54895  , -12.3331375],\n",
       "       [453.71564  , 297.72278  , -25.373106 ],\n",
       "       [451.69016  , 273.5384   , -20.505117 ],\n",
       "       [456.4676   , 251.47519  , -35.288155 ],\n",
       "       [418.67813  , 301.29065  , -44.317406 ],\n",
       "       [357.8503   , 315.4474   , -66.06594  ],\n",
       "       [301.93283  , 318.04803  , -70.104675 ],\n",
       "       [490.54785  , 302.8391   , -11.455753 ],\n",
       "       [545.6377   , 317.57944  ,  15.074472 ],\n",
       "       [583.9619   , 322.60458  ,  47.65567  ]], dtype=float32)"
      ]
     },
     "execution_count": 14,
     "metadata": {},
     "output_type": "execute_result"
    }
   ],
   "source": [
    "# denormalize\n",
    "d = copy.deepcopy(test['data_label'][0])\n",
    "print(d)\n",
    "d[:, :2] = (d[:, :2] + np.array([1, res_h / res_w])) * res_w / 2\n",
    "d[:,2:] = d[:,2:] * res_w / 2\n",
    "d"
   ]
  },
  {
   "cell_type": "code",
   "execution_count": null,
   "metadata": {},
   "outputs": [],
   "source": []
  }
 ],
 "metadata": {
  "kernelspec": {
   "display_name": "motionbert",
   "language": "python",
   "name": "python3"
  },
  "language_info": {
   "codemirror_mode": {
    "name": "ipython",
    "version": 3
   },
   "file_extension": ".py",
   "mimetype": "text/x-python",
   "name": "python",
   "nbconvert_exporter": "python",
   "pygments_lexer": "ipython3",
   "version": "3.9.17"
  },
  "vscode": {
   "interpreter": {
    "hash": "996031ba2a0f3c1298a339c0299835a7fe1ef636d9e79358bc474ca43ed2ac18"
   }
  }
 },
 "nbformat": 4,
 "nbformat_minor": 2
}
