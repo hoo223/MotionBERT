{
 "cells": [
  {
   "cell_type": "code",
   "execution_count": 12,
   "metadata": {},
   "outputs": [],
   "source": [
    "import pickle, json"
   ]
  },
  {
   "cell_type": "code",
   "execution_count": 10,
   "metadata": {},
   "outputs": [],
   "source": [
    "def readpkl(pkl_file):\n",
    "    with open(pkl_file, 'rb') as f:\n",
    "        data = pickle.load(f)\n",
    "    return data\n",
    "\n",
    "def readJSON(json_file):\n",
    "    with open(json_file, 'r') as f:\n",
    "        data = json.load(f)\n",
    "    return data"
   ]
  },
  {
   "cell_type": "code",
   "execution_count": 4,
   "metadata": {},
   "outputs": [],
   "source": [
    "data = readpkl('ntu60_hrnet.pkl')"
   ]
  },
  {
   "cell_type": "code",
   "execution_count": 5,
   "metadata": {},
   "outputs": [
    {
     "name": "stdout",
     "output_type": "stream",
     "text": [
      "dict_keys(['split', 'annotations'])\n",
      "dict_keys(['xsub_train', 'xsub_val', 'xview_train', 'xview_val'])\n",
      "56578\n"
     ]
    }
   ],
   "source": [
    "print(data.keys())\n",
    "print(data['split'].keys())\n",
    "print(len(data['annotations']))"
   ]
  },
  {
   "cell_type": "code",
   "execution_count": 6,
   "metadata": {},
   "outputs": [
    {
     "data": {
      "text/plain": [
       "'S001C001P001R001A001'"
      ]
     },
     "execution_count": 6,
     "metadata": {},
     "output_type": "execute_result"
    }
   ],
   "source": [
    "data['split']['xsub_train'][0]"
   ]
  },
  {
   "cell_type": "code",
   "execution_count": 7,
   "metadata": {},
   "outputs": [
    {
     "data": {
      "text/plain": [
       "dict_keys(['frame_dir', 'label', 'img_shape', 'original_shape', 'total_frames', 'keypoint', 'keypoint_score'])"
      ]
     },
     "execution_count": 7,
     "metadata": {},
     "output_type": "execute_result"
    }
   ],
   "source": [
    "data['annotations'][0].keys()"
   ]
  },
  {
   "cell_type": "code",
   "execution_count": 8,
   "metadata": {},
   "outputs": [
    {
     "data": {
      "text/plain": [
       "{'frame_dir': 'S001C001P001R001A001',\n",
       " 'label': 0,\n",
       " 'img_shape': (1080, 1920),\n",
       " 'original_shape': (1080, 1920),\n",
       " 'total_frames': 103,\n",
       " 'keypoint': array([[[[1032. ,  334.8],\n",
       "          [1041. ,  325.8],\n",
       "          [1023.5,  325.8],\n",
       "          ...,\n",
       "          [1028. ,  611.5],\n",
       "          [1063. ,  704. ],\n",
       "          [1037. ,  695. ]],\n",
       " \n",
       "         [[1032. ,  334. ],\n",
       "          [1041. ,  325. ],\n",
       "          [1023. ,  325. ],\n",
       "          ...,\n",
       "          [1027. ,  612.5],\n",
       "          [1063. ,  707. ],\n",
       "          [1036. ,  693.5]],\n",
       " \n",
       "         [[1032. ,  334. ],\n",
       "          [1041. ,  325. ],\n",
       "          [1023. ,  325. ],\n",
       "          ...,\n",
       "          [1027. ,  612.5],\n",
       "          [1063. ,  707. ],\n",
       "          [1036. ,  698. ]],\n",
       " \n",
       "         ...,\n",
       " \n",
       "         [[1037. ,  321.8],\n",
       "          [1050. ,  317.5],\n",
       "          [1033. ,  313. ],\n",
       "          ...,\n",
       "          [1028. ,  612. ],\n",
       "          [1064. ,  704. ],\n",
       "          [1037. ,  695.5]],\n",
       " \n",
       "         [[1039. ,  324. ],\n",
       "          [1048. ,  315.2],\n",
       "          [1035. ,  315.2],\n",
       "          ...,\n",
       "          [1030. ,  611. ],\n",
       "          [1066. ,  703.5],\n",
       "          [1039. ,  695. ]],\n",
       " \n",
       "         [[1037. ,  322. ],\n",
       "          [1050. ,  317.5],\n",
       "          [1033. ,  313.2],\n",
       "          ...,\n",
       "          [1028. ,  613.5],\n",
       "          [1064. ,  701.5],\n",
       "          [1037. ,  697. ]]]], dtype=float16),\n",
       " 'keypoint_score': array([[[0.934 , 0.9766, 0.9736, ..., 0.876 , 0.8857, 0.892 ],\n",
       "         [0.9546, 0.993 , 0.989 , ..., 0.877 , 0.9043, 0.9014],\n",
       "         [0.9536, 0.9937, 0.988 , ..., 0.8867, 0.907 , 0.903 ],\n",
       "         ...,\n",
       "         [0.9365, 0.9043, 0.9414, ..., 0.8955, 0.888 , 0.9033],\n",
       "         [0.9585, 0.9385, 0.939 , ..., 0.8984, 0.9126, 0.9146],\n",
       "         [0.9395, 0.904 , 0.9453, ..., 0.898 , 0.8813, 0.886 ]]],\n",
       "       dtype=float16)}"
      ]
     },
     "execution_count": 8,
     "metadata": {},
     "output_type": "execute_result"
    }
   ],
   "source": [
    "data['annotations'][0]"
   ]
  },
  {
   "cell_type": "code",
   "execution_count": 9,
   "metadata": {},
   "outputs": [
    {
     "data": {
      "text/plain": [
       "((1, 103, 17, 2), (1, 103, 17))"
      ]
     },
     "execution_count": 9,
     "metadata": {},
     "output_type": "execute_result"
    }
   ],
   "source": [
    "data['annotations'][0]['keypoint'].shape, data['annotations'][0]['keypoint_score'].shape"
   ]
  },
  {
   "cell_type": "code",
   "execution_count": 13,
   "metadata": {},
   "outputs": [],
   "source": [
    "data2 = readJSON('/home/hrai/codes/AlphaPose/examples/test_with_both_arm/alphapose-results.json')"
   ]
  },
  {
   "cell_type": "code",
   "execution_count": 19,
   "metadata": {},
   "outputs": [
    {
     "data": {
      "text/plain": [
       "(26, 3)"
      ]
     },
     "execution_count": 19,
     "metadata": {},
     "output_type": "execute_result"
    }
   ],
   "source": [
    "import numpy as np\n",
    "np.array(data2[0]['keypoints']).reshape(-1,3).shape"
   ]
  }
 ],
 "metadata": {
  "kernelspec": {
   "display_name": "motionbert",
   "language": "python",
   "name": "python3"
  },
  "language_info": {
   "codemirror_mode": {
    "name": "ipython",
    "version": 3
   },
   "file_extension": ".py",
   "mimetype": "text/x-python",
   "name": "python",
   "nbconvert_exporter": "python",
   "pygments_lexer": "ipython3",
   "version": "3.9.17"
  },
  "orig_nbformat": 4
 },
 "nbformat": 4,
 "nbformat_minor": 2
}
