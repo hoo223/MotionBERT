{
 "cells": [
  {
   "cell_type": "code",
   "execution_count": 1,
   "metadata": {},
   "outputs": [],
   "source": [
    "%load_ext autoreload\n",
    "%autoreload 2\n",
    "import sys\n",
    "import csv\n",
    "sys.path.append('/home/hrai/codes/PoseAdaptor')\n",
    "from hpe_library.lib_import import *\n",
    "from hpe_library. my_utils import *\n",
    "os.chdir('/home/hrai/codes/MotionBERT/data/action')"
   ]
  },
  {
   "cell_type": "code",
   "execution_count": 2,
   "metadata": {},
   "outputs": [
    {
     "name": "stdout",
     "output_type": "stream",
     "text": [
      "dict_keys(['train', 'test'])\n",
      "['train_S09_burpee_2', 'train_S07_butterfly_1', 'train_S04_pushup_7', 'train_S04_kneeup_7', 'train_S07_squat_1', 'train_S10_burpee_3', 'train_S01_pushup_3', 'train_S10_burpee_6', 'train_S07_pushup_1', 'train_S04_kneeup_8', 'train_S01_pushup_4', 'train_S10_kneeup_3', 'train_S06_burpee_3', 'train_S10_squat_6', 'train_S09_pushup_2', 'train_S03_butterfly_3', 'train_S01_kneeup_4', 'train_S01_pushup_1', 'train_S03_burpee_5', 'train_S03_kneeup_3', 'train_S06_squat_8', 'train_S09_squat_2', 'train_S04_kneeup_3', 'train_S10_burpee_4', 'train_S04_squat_8', 'train_S04_burpee_7', 'train_S07_butterfly_8', 'train_S07_butterfly_3', 'train_S09_butterfly_8', 'train_S03_kneeup_4', 'train_S09_burpee_6', 'train_S09_kneeup_8', 'train_S03_butterfly_4', 'train_S01_burpee_5', 'train_S06_butterfly_8', 'train_S03_pushup_7', 'train_S06_burpee_1', 'train_S03_burpee_1', 'train_S07_kneeup_6', 'train_S09_burpee_4', 'train_S03_butterfly_1', 'train_S01_butterfly_8', 'train_S10_butterfly_8', 'train_S01_pushup_5', 'train_S04_burpee_2', 'train_S06_kneeup_8', 'train_S07_butterfly_5', 'train_S06_pushup_8', 'train_S10_squat_3', 'train_S03_butterfly_6', 'train_S07_squat_5', 'train_S03_kneeup_7', 'train_S01_butterfly_4', 'train_S10_squat_1', 'train_S01_burpee_2', 'train_S10_burpee_5', 'train_S06_squat_4', 'train_S07_squat_6', 'train_S06_kneeup_2', 'train_S04_squat_7', 'train_S06_burpee_2', 'train_S07_squat_7', 'train_S07_squat_4', 'train_S06_burpee_7', 'train_S01_kneeup_8', 'train_S09_burpee_7', 'train_S03_butterfly_5', 'train_S04_pushup_4', 'train_S04_pushup_6', 'train_S09_burpee_8', 'train_S09_butterfly_4', 'train_S09_burpee_5', 'train_S01_squat_2', 'train_S01_burpee_6', 'train_S04_kneeup_2', 'train_S07_squat_3', 'train_S10_kneeup_5', 'train_S09_squat_6', 'train_S10_butterfly_3', 'train_S03_squat_4', 'train_S04_burpee_3', 'train_S06_kneeup_5', 'train_S03_butterfly_8', 'train_S07_pushup_8', 'train_S04_kneeup_1', 'train_S01_kneeup_3', 'train_S06_kneeup_7', 'train_S01_burpee_1', 'train_S07_kneeup_1', 'train_S10_burpee_7', 'train_S07_pushup_6', 'train_S04_butterfly_6', 'train_S01_pushup_6', 'train_S04_butterfly_3', 'train_S07_butterfly_4', 'train_S03_squat_7', 'train_S10_squat_4', 'train_S09_butterfly_3', 'train_S10_kneeup_6', 'train_S09_squat_7', 'train_S04_burpee_4', 'train_S09_butterfly_1', 'train_S09_squat_4', 'train_S10_pushup_7', 'train_S03_pushup_5', 'train_S03_kneeup_1', 'train_S04_squat_3', 'train_S01_pushup_2', 'train_S06_butterfly_5', 'train_S06_squat_7', 'train_S07_burpee_7', 'train_S04_squat_5', 'train_S10_burpee_8', 'train_S01_squat_7', 'train_S09_butterfly_7', 'train_S04_squat_6', 'train_S09_butterfly_6', 'train_S07_pushup_7', 'train_S04_butterfly_4', 'train_S06_squat_3', 'train_S10_kneeup_8', 'train_S07_kneeup_2', 'train_S03_butterfly_7', 'train_S10_pushup_2', 'train_S01_burpee_8', 'train_S10_squat_2', 'train_S09_kneeup_4', 'train_S03_squat_3', 'train_S10_kneeup_1', 'train_S01_burpee_4', 'train_S03_squat_2', 'train_S10_butterfly_7', 'train_S06_kneeup_1', 'train_S01_kneeup_1', 'train_S03_squat_1', 'train_S06_burpee_6', 'train_S03_pushup_1', 'train_S06_butterfly_2', 'train_S04_pushup_1', 'train_S09_pushup_8', 'train_S10_butterfly_1', 'train_S06_pushup_6', 'train_S03_burpee_2', 'train_S09_kneeup_6', 'train_S10_kneeup_7', 'train_S10_butterfly_5', 'train_S09_pushup_7', 'train_S07_kneeup_7', 'train_S03_squat_5', 'train_S06_pushup_2', 'train_S07_burpee_6', 'train_S07_butterfly_2', 'train_S04_pushup_5', 'train_S01_butterfly_6', 'train_S04_pushup_2', 'train_S01_butterfly_7', 'train_S06_burpee_4', 'train_S01_squat_3', 'train_S07_kneeup_5', 'train_S03_burpee_3', 'train_S04_burpee_8', 'train_S03_burpee_8', 'train_S07_kneeup_8', 'train_S10_burpee_2', 'train_S03_butterfly_2', 'train_S06_squat_1', 'train_S03_burpee_6', 'train_S03_burpee_4', 'train_S07_burpee_4', 'train_S07_pushup_4', 'train_S06_burpee_8', 'train_S07_burpee_5', 'train_S09_kneeup_2', 'train_S04_kneeup_5', 'train_S10_pushup_8', 'train_S03_pushup_2', 'train_S07_kneeup_4', 'train_S01_burpee_3', 'train_S06_butterfly_3', 'train_S01_squat_8', 'train_S04_kneeup_6', 'train_S09_pushup_3', 'train_S03_pushup_8', 'train_S09_burpee_3', 'train_S07_burpee_8', 'train_S01_squat_5', 'train_S10_squat_5', 'train_S01_squat_6', 'train_S01_squat_4', 'train_S03_squat_6', 'train_S06_butterfly_7', 'train_S01_kneeup_6', 'train_S09_burpee_1', 'train_S07_squat_8', 'train_S07_butterfly_7', 'train_S01_butterfly_5', 'train_S06_kneeup_6', 'train_S03_burpee_7', 'train_S03_pushup_4', 'train_S07_kneeup_3', 'train_S09_butterfly_2', 'train_S10_pushup_5', 'train_S04_burpee_6', 'train_S04_butterfly_5', 'train_S06_burpee_5', 'train_S06_pushup_1', 'train_S01_kneeup_7', 'train_S03_pushup_3', 'train_S07_burpee_2', 'train_S09_squat_8', 'train_S09_kneeup_3', 'train_S07_squat_2', 'train_S10_pushup_4', 'train_S04_squat_4', 'train_S10_pushup_3', 'train_S09_pushup_6', 'train_S06_kneeup_3', 'train_S04_squat_1', 'train_S10_squat_8', 'train_S04_pushup_3', 'train_S06_squat_6', 'train_S10_pushup_6', 'train_S10_squat_7', 'train_S01_butterfly_1', 'train_S09_squat_3', 'train_S06_pushup_7', 'train_S06_kneeup_4', 'train_S07_burpee_1', 'train_S04_pushup_8', 'train_S09_kneeup_1', 'train_S04_butterfly_2', 'train_S01_squat_1', 'train_S06_butterfly_6', 'train_S06_squat_5', 'train_S04_burpee_5', 'train_S09_squat_5', 'train_S03_pushup_6', 'train_S10_burpee_1', 'train_S01_butterfly_2', 'train_S03_squat_8', 'train_S09_squat_1', 'train_S03_kneeup_5', 'train_S01_kneeup_2', 'train_S04_squat_2', 'train_S03_kneeup_6', 'train_S07_pushup_3', 'train_S06_squat_2', 'train_S06_pushup_4', 'train_S06_pushup_3', 'train_S01_pushup_8', 'train_S01_kneeup_5', 'train_S09_pushup_4', 'train_S01_butterfly_3', 'train_S03_kneeup_8', 'train_S10_butterfly_4', 'train_S07_pushup_2', 'train_S07_butterfly_6', 'train_S10_kneeup_2', 'train_S10_pushup_1', 'train_S10_kneeup_4', 'train_S06_butterfly_4', 'train_S06_butterfly_1', 'train_S10_butterfly_6', 'train_S04_butterfly_8', 'train_S01_pushup_7', 'train_S03_kneeup_2', 'train_S09_kneeup_7', 'train_S01_burpee_7', 'train_S04_butterfly_1', 'train_S09_pushup_5', 'train_S04_butterfly_7', 'train_S10_butterfly_2', 'train_S06_pushup_5', 'train_S04_kneeup_4', 'train_S07_pushup_5', 'train_S04_burpee_1', 'train_S09_pushup_1', 'train_S07_burpee_3', 'train_S09_onehundred_2', 'train_S01_benchpress_2', 'train_S03_benchpress_6', 'train_S06_benchpress_8', 'train_S07_benchpress_6', 'train_S06_benchpress_5', 'train_S04_onehundred_7', 'train_S04_benchpress_8', 'train_S03_benchpress_3', 'train_S07_benchpress_1', 'train_S09_benchpress_1', 'train_S04_benchpress_3', 'train_S06_onehundred_3', 'train_S04_onehundred_4', 'train_S06_benchpress_2', 'train_S10_onehundred_4', 'train_S06_benchpress_7', 'train_S01_onehundred_7', 'train_S03_onehundred_6', 'train_S03_onehundred_7', 'train_S09_benchpress_2', 'train_S10_benchpress_2', 'train_S09_onehundred_8', 'train_S03_benchpress_7', 'train_S10_benchpress_5', 'train_S07_onehundred_7', 'train_S06_onehundred_1', 'train_S09_benchpress_4', 'train_S01_onehundred_1', 'train_S04_onehundred_2', 'train_S04_onehundred_6', 'train_S01_benchpress_3', 'train_S04_onehundred_5', 'train_S09_onehundred_3', 'train_S06_benchpress_6', 'train_S01_benchpress_5', 'train_S03_benchpress_2', 'train_S01_onehundred_6', 'train_S03_benchpress_1', 'train_S03_onehundred_1', 'train_S09_onehundred_1', 'train_S01_benchpress_7', 'train_S04_benchpress_6', 'train_S07_benchpress_4', 'train_S09_onehundred_7', 'train_S01_benchpress_8', 'train_S10_benchpress_6', 'train_S07_onehundred_6', 'train_S10_benchpress_4', 'train_S10_onehundred_8', 'train_S06_onehundred_8', 'train_S03_onehundred_5', 'train_S10_onehundred_3', 'train_S10_onehundred_7', 'train_S10_benchpress_1', 'train_S07_onehundred_4', 'train_S03_onehundred_3', 'train_S10_benchpress_3', 'train_S07_benchpress_2', 'train_S06_benchpress_4', 'train_S09_onehundred_5', 'train_S03_benchpress_5', 'train_S04_benchpress_5', 'train_S01_benchpress_1', 'train_S07_onehundred_2', 'train_S03_benchpress_8', 'train_S04_benchpress_1', 'train_S01_benchpress_4', 'train_S06_onehundred_6', 'train_S09_benchpress_7', 'train_S03_onehundred_8', 'train_S03_benchpress_4', 'train_S07_benchpress_3', 'train_S07_benchpress_8', 'train_S07_onehundred_1', 'train_S09_benchpress_6', 'train_S06_onehundred_7', 'train_S01_onehundred_8', 'train_S07_onehundred_8', 'train_S10_onehundred_5', 'train_S09_benchpress_8', 'train_S01_onehundred_3', 'train_S10_benchpress_7', 'train_S01_onehundred_5', 'train_S04_benchpress_2', 'train_S01_benchpress_6', 'train_S07_onehundred_3', 'train_S04_benchpress_7', 'train_S06_onehundred_4', 'train_S07_onehundred_5', 'train_S04_onehundred_8', 'train_S06_benchpress_1', 'train_S04_benchpress_4', 'train_S07_benchpress_5', 'train_S04_onehundred_1', 'train_S10_onehundred_6', 'train_S09_onehundred_6', 'train_S06_onehundred_2', 'train_S06_benchpress_3', 'train_S07_benchpress_7', 'train_S09_onehundred_4', 'train_S06_onehundred_5', 'train_S01_onehundred_4', 'train_S10_onehundred_2', 'train_S03_onehundred_4', 'train_S01_onehundred_2', 'train_S03_onehundred_2', 'train_S10_benchpress_8', 'train_S10_onehundred_1', 'train_S04_onehundred_3', 'train_S09_benchpress_3']\n",
      "['test_S08_burpee_4', 'test_S08_kneeup_1', 'test_S08_squat_2', 'test_S05_squat_1', 'test_S05_kneeup_2', 'test_S05_butterfly_1', 'test_S02_pushup_2', 'test_S02_pushup_4', 'test_S08_butterfly_5', 'test_S05_butterfly_5', 'test_S05_kneeup_7', 'test_S08_pushup_3', 'test_S05_burpee_2', 'test_S05_squat_7', 'test_S02_kneeup_4', 'test_S05_kneeup_1', 'test_S05_pushup_5', 'test_S05_squat_4', 'test_S05_kneeup_5', 'test_S08_squat_8', 'test_S05_squat_3', 'test_S02_kneeup_7', 'test_S02_kneeup_5', 'test_S02_burpee_8', 'test_S02_pushup_7', 'test_S05_butterfly_3', 'test_S08_squat_3', 'test_S05_kneeup_8', 'test_S08_pushup_8', 'test_S08_squat_1', 'test_S02_butterfly_1', 'test_S08_kneeup_4', 'test_S08_squat_4', 'test_S08_kneeup_5', 'test_S08_squat_7', 'test_S02_pushup_5', 'test_S02_pushup_3', 'test_S05_kneeup_6', 'test_S05_squat_6', 'test_S05_pushup_7', 'test_S08_kneeup_7', 'test_S05_pushup_4', 'test_S08_pushup_1', 'test_S02_butterfly_6', 'test_S02_squat_7', 'test_S05_burpee_4', 'test_S08_kneeup_3', 'test_S08_kneeup_8', 'test_S02_butterfly_7', 'test_S02_squat_2', 'test_S05_butterfly_8', 'test_S02_kneeup_6', 'test_S08_burpee_7', 'test_S05_pushup_3', 'test_S05_pushup_1', 'test_S08_burpee_5', 'test_S08_burpee_6', 'test_S02_butterfly_4', 'test_S02_squat_1', 'test_S02_butterfly_8', 'test_S08_butterfly_6', 'test_S08_pushup_7', 'test_S02_pushup_6', 'test_S05_burpee_8', 'test_S02_kneeup_8', 'test_S02_burpee_3', 'test_S02_squat_3', 'test_S02_kneeup_1', 'test_S08_burpee_2', 'test_S05_burpee_5', 'test_S02_butterfly_5', 'test_S05_squat_5', 'test_S02_burpee_6', 'test_S02_burpee_7', 'test_S08_pushup_6', 'test_S02_butterfly_2', 'test_S05_squat_2', 'test_S08_pushup_5', 'test_S05_burpee_6', 'test_S02_pushup_8', 'test_S05_squat_8', 'test_S02_burpee_2', 'test_S08_burpee_3', 'test_S08_butterfly_7', 'test_S05_butterfly_6', 'test_S08_burpee_8', 'test_S08_kneeup_6', 'test_S08_pushup_2', 'test_S08_butterfly_1', 'test_S08_butterfly_4', 'test_S08_butterfly_2', 'test_S08_burpee_1', 'test_S02_squat_4', 'test_S02_squat_6', 'test_S05_kneeup_3', 'test_S02_pushup_1', 'test_S05_pushup_6', 'test_S02_kneeup_2', 'test_S02_burpee_5', 'test_S05_pushup_2', 'test_S02_burpee_1', 'test_S05_burpee_7', 'test_S08_squat_5', 'test_S05_butterfly_2', 'test_S08_kneeup_2', 'test_S02_squat_5', 'test_S02_squat_8', 'test_S05_pushup_8', 'test_S08_pushup_4', 'test_S02_kneeup_3', 'test_S05_burpee_3', 'test_S05_burpee_1', 'test_S05_kneeup_4', 'test_S02_butterfly_3', 'test_S08_butterfly_3', 'test_S08_butterfly_8', 'test_S05_butterfly_7', 'test_S05_butterfly_4', 'test_S02_burpee_4', 'test_S08_squat_6', 'test_S05_onehundred_5', 'test_S08_benchpress_6', 'test_S05_onehundred_1', 'test_S08_benchpress_2', 'test_S08_onehundred_4', 'test_S02_onehundred_1', 'test_S08_onehundred_2', 'test_S08_benchpress_7', 'test_S05_benchpress_7', 'test_S05_onehundred_7', 'test_S08_benchpress_8', 'test_S02_onehundred_2', 'test_S05_onehundred_3', 'test_S05_onehundred_2', 'test_S08_onehundred_8', 'test_S05_benchpress_8', 'test_S05_benchpress_1', 'test_S08_benchpress_4', 'test_S08_benchpress_5', 'test_S05_benchpress_4', 'test_S02_benchpress_8', 'test_S02_benchpress_1', 'test_S05_benchpress_5', 'test_S08_onehundred_6', 'test_S05_onehundred_4', 'test_S02_benchpress_5', 'test_S02_onehundred_4', 'test_S02_onehundred_8', 'test_S02_benchpress_6', 'test_S02_onehundred_6', 'test_S08_onehundred_1', 'test_S02_onehundred_3', 'test_S02_benchpress_7', 'test_S02_benchpress_4', 'test_S08_onehundred_3', 'test_S05_onehundred_6', 'test_S05_benchpress_3', 'test_S02_benchpress_2', 'test_S05_benchpress_2', 'test_S02_onehundred_7', 'test_S05_onehundred_8', 'test_S08_onehundred_5', 'test_S02_benchpress_3', 'test_S08_benchpress_3', 'test_S02_onehundred_5', 'test_S05_benchpress_6', 'test_S08_benchpress_1', 'test_S08_onehundred_7']\n",
      "number of videos :  557\n",
      "dict_keys(['frame_dir', 'img_shape', 'num_person_raw', 'keypoint', 'keypoint_score', 'total_frames', 'label'])\n",
      "video name :  train_S09_burpee_2\n",
      "action label :  1\n",
      "W, H :  (1920, 1080)\n",
      "number of frames :  1051\n",
      "number of people :  3\n",
      "keypoint :  (1, 1051, 17, 2)\n",
      "confidence :  (1, 1051, 17)\n"
     ]
    }
   ],
   "source": [
    "data = readpkl('./kookmin_hrnet_modified.pkl')\n",
    "data.keys()\n",
    "print(data['split'].keys())\n",
    "print(data['split']['train'])\n",
    "print(data['split']['test'])\n",
    "num_videos = len(data['annotations'])\n",
    "print('number of videos : ', num_videos) # number of videos\n",
    "print(data['annotations'][0].keys())\n",
    "print('video name : ', data['annotations'][0]['frame_dir']) # video name\n",
    "print('action label : ', data['annotations'][0]['label']) # action label\n",
    "print('W, H : ', data['annotations'][0]['img_shape']) # W, H\n",
    "print('number of frames : ', data['annotations'][0]['total_frames']) # number of frames\n",
    "print('number of people : ', data['annotations'][0]['num_person_raw']) # number of people\n",
    "print('keypoint : ', data['annotations'][0]['keypoint'].shape) # keypoint (num_person, total_frames, 17, 2)\n",
    "print('confidence : ', data['annotations'][0]['keypoint_score'].shape) # confidence (num_person, total_frames, 17)"
   ]
  },
  {
   "cell_type": "code",
   "execution_count": 3,
   "metadata": {},
   "outputs": [],
   "source": [
    "train_subject = ['S01', 'S02']\n",
    "test_subject = ['S03', 'S04', 'S05', 'S06', 'S07', 'S08', 'S09', 'S10']"
   ]
  },
  {
   "cell_type": "code",
   "execution_count": 4,
   "metadata": {},
   "outputs": [],
   "source": [
    "train_list = []\n",
    "test_list = []\n",
    "for item in data['split']['train']+data['split']['test']:\n",
    "    _, subject, _, _ = item.split('_')\n",
    "    if subject in train_subject:\n",
    "        train_list.append(item)\n",
    "    else:\n",
    "        test_list.append(item)"
   ]
  },
  {
   "cell_type": "code",
   "execution_count": 5,
   "metadata": {},
   "outputs": [],
   "source": [
    "data['split']['train'] = train_list\n",
    "data['split']['test'] = test_list\n",
    "savepkl(data, './kookmin_hrnet_modified_train_s01-2.pkl')"
   ]
  }
 ],
 "metadata": {
  "kernelspec": {
   "display_name": "motionbert",
   "language": "python",
   "name": "python3"
  },
  "language_info": {
   "codemirror_mode": {
    "name": "ipython",
    "version": 3
   },
   "file_extension": ".py",
   "mimetype": "text/x-python",
   "name": "python",
   "nbconvert_exporter": "python",
   "pygments_lexer": "ipython3",
   "version": "3.9.17"
  },
  "orig_nbformat": 4
 },
 "nbformat": 4,
 "nbformat_minor": 2
}
