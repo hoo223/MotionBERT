{
 "cells": [
  {
   "cell_type": "code",
   "execution_count": 4,
   "metadata": {},
   "outputs": [
    {
     "name": "stdout",
     "output_type": "stream",
     "text": [
      "The autoreload extension is already loaded. To reload it, use:\n",
      "  %reload_ext autoreload\n"
     ]
    }
   ],
   "source": [
    "%load_ext autoreload\n",
    "%autoreload 2\n",
    "%matplotlib widget\n",
    "from common_import import *\n",
    "os.chdir('./data/motion3d/comparison')"
   ]
  },
  {
   "cell_type": "code",
   "execution_count": 15,
   "metadata": {},
   "outputs": [],
   "source": [
    "cam_3d_canonical_revolute_from_hrai1 = readpkl('h36m-cam_3d-canonical_revolute_from_hrai1.pkl')\n",
    "img_2d_canonical_revolute_from_hrai1 = readpkl('h36m-img_2d-canonical_revolute_from_hrai1.pkl')\n",
    "cam_3d_canonical_revolute_from_hrai2 = readpkl('h36m-cam_3d-canonical_revolute_from_hrai2.pkl')\n",
    "img_2d_canonical_revolute_from_hrai2 = readpkl('h36m-img_2d-canonical_revolute_from_hrai2.pkl')\n",
    "cam_3d_canonical_revolute = readpkl('h36m-cam_3d-canonical_revolute.pkl')\n",
    "img_2d_canonical_revolute = readpkl('h36m-img_2d-canonical_revolute.pkl')"
   ]
  },
  {
   "cell_type": "code",
   "execution_count": 14,
   "metadata": {},
   "outputs": [
    {
     "data": {
      "text/plain": [
       "(0.0, 0.0)"
      ]
     },
     "execution_count": 14,
     "metadata": {},
     "output_type": "execute_result"
    }
   ],
   "source": [
    "total_error_cam_3d = 0\n",
    "total_error_img_2d = 0\n",
    "num_videos = 0\n",
    "for subject in cam_3d_canonical_revolute_from_hrai1.keys():\n",
    "    for action in cam_3d_canonical_revolute_from_hrai1[subject].keys():\n",
    "        for camera in cam_3d_canonical_revolute_from_hrai1[subject][action].keys():\n",
    "            num_videos += 1\n",
    "            error_cam_3d = np.linalg.norm(cam_3d_canonical_revolute_from_hrai1[subject][action][camera] - cam_3d_canonical_revolute_from_hrai2[subject][action][camera], axis=-1).mean()\n",
    "            error_img_2d = np.linalg.norm(img_2d_canonical_revolute_from_hrai1[subject][action][camera] - img_2d_canonical_revolute_from_hrai2[subject][action][camera], axis=-1).mean()\n",
    "            total_error_cam_3d += error_cam_3d\n",
    "            total_error_img_2d += error_img_2d\n",
    "            #print(f'{subject} {action} {camera} {error_cam_3d} {error_img_2d}')\n",
    "            #break\n",
    "        #break\n",
    "    #break\n",
    "total_error_cam_3d/num_videos, total_error_img_2d/num_videos"
   ]
  },
  {
   "cell_type": "code",
   "execution_count": 16,
   "metadata": {},
   "outputs": [
    {
     "data": {
      "text/plain": [
       "(0.0, 0.0)"
      ]
     },
     "execution_count": 16,
     "metadata": {},
     "output_type": "execute_result"
    }
   ],
   "source": [
    "total_error_cam_3d = 0\n",
    "total_error_img_2d = 0\n",
    "num_videos = 0\n",
    "for subject in cam_3d_canonical_revolute_from_hrai1.keys():\n",
    "    for action in cam_3d_canonical_revolute_from_hrai1[subject].keys():\n",
    "        for camera in cam_3d_canonical_revolute_from_hrai1[subject][action].keys():\n",
    "            num_videos += 1\n",
    "            error_cam_3d = np.linalg.norm(cam_3d_canonical_revolute_from_hrai1[subject][action][camera] - cam_3d_canonical_revolute[subject][action][camera], axis=-1).mean()\n",
    "            error_img_2d = np.linalg.norm(img_2d_canonical_revolute_from_hrai1[subject][action][camera] - img_2d_canonical_revolute[subject][action][camera], axis=-1).mean()\n",
    "            total_error_cam_3d += error_cam_3d\n",
    "            total_error_img_2d += error_img_2d\n",
    "            #print(f'{subject} {action} {camera} {error_cam_3d} {error_img_2d}')\n",
    "            #break\n",
    "        #break\n",
    "    #break\n",
    "total_error_cam_3d/num_videos, total_error_img_2d/num_videos"
   ]
  },
  {
   "cell_type": "code",
   "execution_count": null,
   "metadata": {},
   "outputs": [],
   "source": [
    "print('img_2d_canonical_revolute_no_Rz - img_2d_canonical_pcl', np.linalg.norm(data['img_2d_canonical_revolute_no_Rz'][subject][action][cam_id] - data['img_2d_canonical_pcl'][subject][action][cam_id]).mean())\n"
   ]
  },
  {
   "cell_type": "code",
   "execution_count": null,
   "metadata": {},
   "outputs": [],
   "source": [
    "subject = 'S9'\n",
    "action = 'Walking 1'\n",
    "cam_id = '54138969'\n",
    "print('img_2d_canonical_revolute_no_Rz - img_2d_canonical_pcl', np.linalg.norm(data['img_2d_canonical_revolute_no_Rz'][subject][action][cam_id] - data['img_2d_canonical_pcl'][subject][action][cam_id]).mean())\n",
    "print('img_2d_canonical_revolute - img_2d_canonical_pcl_with_Rz', np.linalg.norm(data['img_2d_canonical_revolute'][subject][action][cam_id] - data['img_2d_canonical_pcl_with_Rz'][subject][action][cam_id]).mean())"
   ]
  }
 ],
 "metadata": {
  "kernelspec": {
   "display_name": "motionbert",
   "language": "python",
   "name": "python3"
  },
  "language_info": {
   "codemirror_mode": {
    "name": "ipython",
    "version": 3
   },
   "file_extension": ".py",
   "mimetype": "text/x-python",
   "name": "python",
   "nbconvert_exporter": "python",
   "pygments_lexer": "ipython3",
   "version": "3.9.18"
  }
 },
 "nbformat": 4,
 "nbformat_minor": 2
}
